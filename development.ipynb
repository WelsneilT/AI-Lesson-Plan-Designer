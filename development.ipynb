{
 "cells": [
  {
   "cell_type": "code",
   "execution_count": 14,
   "id": "d0676273",
   "metadata": {},
   "outputs": [
    {
     "name": "stdout",
     "output_type": "stream",
     "text": [
      "✅ LLM (Groq) đã được khởi tạo thành công.\n"
     ]
    }
   ],
   "source": [
    "# ==============================================================================\n",
    "# CELL 1: CÀI ĐẶT, IMPORTS & THIẾT LẬP BAN ĐẦU (CẬP NHẬT)\n",
    "# ==============================================================================\n",
    "import os\n",
    "import json\n",
    "import asyncio\n",
    "from typing import TypedDict, Annotated, List, Dict, Any, Literal, Optional\n",
    "import operator\n",
    "\n",
    "# Tải các biến môi trường\n",
    "from dotenv import load_dotenv \n",
    "load_dotenv()\n",
    "\n",
    "# LangChain & LangGraph\n",
    "from langchain_core.messages import BaseMessage, HumanMessage\n",
    "from langchain_core.pydantic_v1 import BaseModel, Field\n",
    "from langchain_groq import ChatGroq\n",
    "from langgraph.graph import StateGraph, END\n",
    "from langgraph.graph.message import add_messages\n",
    "\n",
    "# Thư viện hỗ trợ\n",
    "from rich.console import Console\n",
    "from rich.markdown import Markdown\n",
    "from rich.pretty import pprint\n",
    "from IPython.display import Image, display\n",
    "\n",
    "# --- CẤU HÌNH LOG ---\n",
    "VERBOSE_MODE = True # Đặt là True để xem log chi tiết, False để chạy im lặng\n",
    "\n",
    "# --- KHỞI TẠO CÁC CÔNG CỤ IN ẤN ---\n",
    "console = Console()\n",
    "\n",
    "def print_step(message: str):\n",
    "    \"\"\"Hàm in một bước trong quy trình.\"\"\"\n",
    "    if VERBOSE_MODE:\n",
    "        console.print(f\"[bold cyan]>[/bold cyan] {message}\")\n",
    "\n",
    "def print_result(data: Any, title: str = \"Kết quả\"):\n",
    "    \"\"\"Hàm in kết quả (như JSON) một cách đẹp mắt.\"\"\"\n",
    "    if VERBOSE_MODE:\n",
    "        console.print(f\"[bold green]✔️ {title}:[/bold green]\")\n",
    "        pprint(data, expand_all=True)\n",
    "\n",
    "# --- KHỞI TẠO LLM ---\n",
    "try:\n",
    "    llm = ChatGroq(\n",
    "        temperature=0.1, model=\"llama3-70b-8192\",\n",
    "        api_key=os.getenv(\"GROQ_API_KEY\"), max_tokens=2048\n",
    "    )\n",
    "    print(\"✅ LLM (Groq) đã được khởi tạo thành công.\")\n",
    "except Exception as e:\n",
    "    print(f\"❌ LỖI: Không thể khởi tạo LLM. Lỗi: {e}\")\n",
    "    llm = None"
   ]
  },
  {
   "cell_type": "code",
   "execution_count": 15,
   "id": "9aef7728",
   "metadata": {},
   "outputs": [
    {
     "name": "stdout",
     "output_type": "stream",
     "text": [
      "✅ Đang tải kho tri thức từ: vector_store/sgk_toan_9...\n",
      "🎉 Tải kho tri thức thành công!\n"
     ]
    }
   ],
   "source": [
    "# ==============================================================================\n",
    "# CELL 1.5: TẢI KHO TRI THỨC RAG ĐÃ XỬ LÝ SẴN\n",
    "# ==============================================================================\n",
    "from langchain_community.vectorstores import FAISS\n",
    "from langchain_huggingface import HuggingFaceEmbeddings\n",
    "\n",
    "# --- CẤU HÌNH ---\n",
    "VECTOR_STORE_PATH = \"vector_store/sgk_toan_9\"\n",
    "EMBEDDING_MODEL = \"all-MiniLM-L6-v2\"\n",
    "\n",
    "# --- HÀM TẢI KHO TRI THỨC ---\n",
    "def load_vector_store():\n",
    "    \"\"\"Tải kho tri thức đã được xây dựng từ local.\"\"\"\n",
    "    if not os.path.exists(VECTOR_STORE_PATH):\n",
    "        print(f\"❌ LỖI: Không tìm thấy kho tri thức tại '{VECTOR_STORE_PATH}'.\")\n",
    "        print(\"Vui lòng chạy file 'build_knowledge_base.py' trước để tạo kho tri thức.\")\n",
    "        return None\n",
    "    \n",
    "    try:\n",
    "        print(f\"✅ Đang tải kho tri thức từ: {VECTOR_STORE_PATH}...\")\n",
    "        embeddings = HuggingFaceEmbeddings(model_name=EMBEDDING_MODEL)\n",
    "        db = FAISS.load_local(VECTOR_STORE_PATH, embeddings, allow_dangerous_deserialization=True)\n",
    "        print(\"🎉 Tải kho tri thức thành công!\")\n",
    "        return db\n",
    "    except Exception as e:\n",
    "        print(f\"❌ LỖI khi tải kho tri thức: {e}\")\n",
    "        return None\n",
    "\n",
    "# --- TẢI VÀ SỬ DỤNG ---\n",
    "vector_store = load_vector_store()"
   ]
  },
  {
   "cell_type": "code",
   "execution_count": 16,
   "id": "96baa7be",
   "metadata": {},
   "outputs": [
    {
     "name": "stdout",
     "output_type": "stream",
     "text": [
      "✅ 'TeacherState' (phiên bản nâng cấp) đã được định nghĩa.\n"
     ]
    }
   ],
   "source": [
    "# ==============================================================================\n",
    "# CELL 2: NÂNG CẤP STATE ĐỂ NHẬN BIẾT RÀNG BUỘC THỜI GIAN\n",
    "# ==============================================================================\n",
    "from langgraph.graph.message import add_messages\n",
    "\n",
    "# --- Hàm tiện ích (Giữ nguyên) ---\n",
    "def merge_dicts(dict1: Dict[str, Any], dict2: Dict[str, Any]) -> Dict[str, Any]:\n",
    "    # ... (code giữ nguyên)\n",
    "    merged = dict1.copy()\n",
    "    for key, value in dict2.items():\n",
    "        if key in merged and isinstance(merged[key], dict) and isinstance(value, dict):\n",
    "            merged[key] = merge_dicts(merged[key], value)\n",
    "        else:\n",
    "            merged[key] = value\n",
    "    return merged\n",
    "\n",
    "# --- Định nghĩa các cấu trúc dữ liệu con ---\n",
    "class AnalyzedObjective(TypedDict):\n",
    "    action_verb: str\n",
    "    bloom_level: int\n",
    "    topic: str\n",
    "    grade_level: str\n",
    "    # === NÂNG CẤP ===\n",
    "    # Thêm trường để lưu trữ các ràng buộc, bao gồm cả thời gian\n",
    "    constraints: Dict[str, Any] \n",
    "\n",
    "class PedagogyStrategy(TypedDict):\n",
    "    # ... (giữ nguyên)\n",
    "    chosen_pedagogy: str\n",
    "    pedagogy_rationale: str\n",
    "    suggested_structure: List[Dict[str, Any]]\n",
    "\n",
    "class Task(TypedDict):\n",
    "    # ... (giữ nguyên)\n",
    "    task_id: int\n",
    "    task_name: str\n",
    "    task_description: str\n",
    "    status: Literal[\"pending\", \"completed\"]\n",
    "\n",
    "# --- Định nghĩa State chính (phiên bản hoàn chỉnh nhất) ---\n",
    "class TeacherState(TypedDict):\n",
    "    messages: Annotated[List[BaseMessage], add_messages]\n",
    "    analyzed_objective: Optional[AnalyzedObjective]\n",
    "    pedagogy_strategy: Optional[PedagogyStrategy]\n",
    "    task_list: Optional[List[Task]]\n",
    "    current_task_id: Optional[int]\n",
    "    agent_outputs: Annotated[Dict[str, Any], merge_dicts] \n",
    "    final_lesson_plan: Optional[str]\n",
    "    next_agent: str\n",
    "\n",
    "print(\"✅ 'TeacherState' (phiên bản nâng cấp) đã được định nghĩa.\")"
   ]
  },
  {
   "cell_type": "code",
   "execution_count": 17,
   "id": "de699549",
   "metadata": {},
   "outputs": [
    {
     "name": "stdout",
     "output_type": "stream",
     "text": [
      "✅ Tất cả các agent đã được nâng cấp lên phiên bản 2.4 (Siêu bền).\n"
     ]
    }
   ],
   "source": [
    "# ==============================================================================\n",
    "# CELL 3: NÂNG CẤP CÁC AGENT VỚI LOGIC MỚI (PHIÊN BẢN 2.4 - SIÊU BỀN)\n",
    "# ==============================================================================\n",
    "import json\n",
    "import re\n",
    "from langchain_core.pydantic_v1 import BaseModel, Field\n",
    "from typing import TypedDict, Annotated, List, Dict, Any, Literal, Optional\n",
    "\n",
    "# --- ĐỊNH NGHĨA TẤT CẢ CÁC CẤU TRÚC PARSE Ở ĐÂY ---\n",
    "class ParsedObjective(BaseModel):\n",
    "    action_verb: str = Field(description=\"Động từ hành động chính, ví dụ: 'phân tích', 'trình bày'.\")\n",
    "    bloom_level: int = Field(description=\"Cấp độ tư duy theo thang Bloom (1-6).\")\n",
    "    topic: str = Field(description=\"Chủ đề chính của bài học.\")\n",
    "    grade_level: str = Field(description=\"Cấp lớp của học sinh, ví dụ: 'Lớp 9'.\")\n",
    "    duration_minutes: Optional[int] = Field(description=\"Tổng thời lượng cho phép của buổi học tính bằng phút (ví dụ: '2 tiết 45 phút' là 90). Nếu không có thì để null.\")\n",
    "\n",
    "class PedagogyChoice(BaseModel):\n",
    "    chosen_pedagogy: str = Field(description=\"Tên phương pháp sư phạm được chọn.\")\n",
    "    pedagogy_rationale: str = Field(description=\"Lý do tại sao phương pháp này lại phù hợp.\")\n",
    "\n",
    "class TaskList(BaseModel):\n",
    "    tasks: List[Dict[str, str]] = Field(description=\"Danh sách các nhiệm vụ, mỗi nhiệm vụ PHẢI có 'task_name' và 'task_description'.\")\n",
    "\n",
    "class TaskClassification(BaseModel):\n",
    "    agent_category: Literal[\"activity_designer\", \"resource_scout\", \"assessment_creator\", \"unknown\"] = Field(description=\"Loại agent nên thực hiện nhiệm vụ này.\")\n",
    "\n",
    "class LearningActivity(BaseModel):\n",
    "    activity_name: str = Field(description=\"Một cái tên hấp dẫn và rõ ràng cho hoạt động, ví dụ: 'Trạm kiến thức', 'Thí nghiệm vui'.\")\n",
    "    description: str = Field(description=\"Mô tả chi tiết các bước thực hiện hoạt động cho giáo viên và học sinh.\")\n",
    "    duration_minutes: int = Field(description=\"Thời gian dự kiến để hoàn thành hoạt động (tính bằng phút).\")\n",
    "    activity_type: str = Field(description=\"Loại hoạt động, ví dụ: 'Khởi động', 'Làm việc nhóm', 'Thực hành cá nhân', 'Thí nghiệm'.\")\n",
    "\n",
    "class AssessmentItem(BaseModel):\n",
    "    question: str = Field(description=\"Nội dung câu hỏi hoặc yêu cầu của bài tập.\")\n",
    "    question_type: str = Field(description=\"Loại câu hỏi, ví dụ: 'Trắc nghiệm', 'Tự luận ngắn', 'Bài tập vận dụng'.\")\n",
    "    options: Optional[List[str]] = Field(description=\"Các lựa chọn trả lời nếu là câu hỏi trắc nghiệm.\")\n",
    "    answer: str = Field(description=\"Đáp án hoặc gợi ý đáp án cho câu hỏi.\")\n",
    "\n",
    "# --- CÁC HÀM TIỆN ÍCH ---\n",
    "def update_agent_outputs(state: TeacherState, key: str, value: Any) -> Dict[str, Any]:\n",
    "    outputs = state.get(\"agent_outputs\", {}).copy()\n",
    "    if key not in outputs: outputs[key] = []\n",
    "    outputs[key].append(value)\n",
    "    return {\"agent_outputs\": outputs}\n",
    "\n",
    "# --- CÁC AGENTS ---\n",
    "\n",
    "async def objective_interpreter_agent(state: TeacherState) -> Dict[str, Any]:\n",
    "    print_step(\"`Agent: Objective Interpreter` (v2.4) đang phân tích mục tiêu...\")\n",
    "    user_request = state['messages'][-1].content\n",
    "    prompt = f\"\"\"Phân tích yêu cầu sau đây và trích xuất thông tin vào một đối tượng JSON.\n",
    "    YÊU CẦU: \"{user_request}\"\n",
    "    HƯỚNG DẪN:\n",
    "    - `duration_minutes`: Quy đổi mọi thông tin về thời gian (ví dụ: '2 tiết 45 phút' ra 90) ra tổng số phút.\n",
    "    QUAN TRỌNG: Chỉ trả về đối tượng JSON, không kèm theo bất kỳ văn bản giải thích nào.\n",
    "    \"\"\"\n",
    "    structured_llm = llm.with_structured_output(ParsedObjective, method=\"json_mode\")\n",
    "    parsed_result = await structured_llm.ainvoke(prompt)\n",
    "    analyzed_objective_dict = {\n",
    "        \"action_verb\": parsed_result.action_verb, \"bloom_level\": parsed_result.bloom_level,\n",
    "        \"topic\": parsed_result.topic, \"grade_level\": parsed_result.grade_level,\n",
    "        \"constraints\": {\"duration_minutes\": parsed_result.duration_minutes}\n",
    "    }\n",
    "    print_result(analyzed_objective_dict, \"Mục tiêu & Ràng buộc đã phân tích\")\n",
    "    return {\"analyzed_objective\": analyzed_objective_dict}\n",
    "\n",
    "async def pedagogy_strategist_agent(state: TeacherState) -> Dict[str, Any]:\n",
    "    print_step(\"\\n---\\n### 🧑‍🏫 `Agent: Pedagogy Strategist` (v2.4) Bắt đầu...\")\n",
    "    objective = state['analyzed_objective']\n",
    "    prompt = f\"\"\"Dựa vào mục tiêu sau, hãy chọn một chiến lược dạy học (Direct Instruction, Collaborative Learning, Inquiry-Based Learning, Hybrid Model) và giải thích lý do bằng Tiếng Việt.\n",
    "    MỤC TIÊU: {objective}\n",
    "    QUAN TRỌNG: Chỉ trả về đối tượng JSON theo class PedagogyChoice.\n",
    "    \"\"\"\n",
    "    response = await llm.with_structured_output(schema=PedagogyChoice, method=\"json_mode\").ainvoke(prompt)\n",
    "    pedagogy_strategy_dict = response.dict()\n",
    "    print_result(f\"**Chiến lược:** {response.chosen_pedagogy}\\n**Lý do:** {response.pedagogy_rationale}\")\n",
    "    return {\"pedagogy_strategy\": pedagogy_strategy_dict}\n",
    "    \n",
    "async def resource_scout_agent(state: TeacherState) -> Dict[str, Any]:\n",
    "    print_step(\"\\n---\\n### 📚 `Agent: Resource Scout (RAG)` (v2.4) Bắt đầu...\")\n",
    "    topic = state['analyzed_objective']['topic']\n",
    "    retriever = vector_store.as_retriever(search_kwargs={\"k\": 3})\n",
    "    relevant_docs = retriever.invoke(topic)\n",
    "    context = \"\\n\\n---\\n\\n\".join([doc.page_content for doc in relevant_docs])\n",
    "    prompt = f\"\"\"Tóm tắt các kiến thức, định nghĩa, công thức cốt lõi về chủ đề '{topic}' từ các đoạn văn bản sau.\n",
    "    VĂN BẢN: {context}\n",
    "    \"\"\"\n",
    "    response = await llm.ainvoke(prompt)\n",
    "    resource = {\"source\": \"Sách giáo khoa Toán 9 (từ RAG)\", \"summary\": response.content}\n",
    "    print_result(resource, \"Tài liệu RAG đã tìm thấy và tóm tắt\")\n",
    "    return update_agent_outputs(state, \"resources\", resource)\n",
    "\n",
    "# === AGENT ĐƯỢC GIA CỐ ===\n",
    "async def plan_delegator_agent(state: TeacherState) -> Dict[str, Any]:\n",
    "    print_step(\"\\n---\\n### 👷 `Agent: Plan Delegator` (v2.4) đang lập kế hoạch chiến lược...\")\n",
    "    objective = state['analyzed_objective']\n",
    "    strategy = state['pedagogy_strategy']\n",
    "    resources = state['agent_outputs'].get('resources', [])\n",
    "    constraints = objective.get('constraints', {})\n",
    "\n",
    "    prompt = f\"\"\"Bạn là một người lập kế hoạch giáo dục cực kỳ cẩn thận. Dựa vào các thông tin dưới đây, hãy tạo một danh sách nhiệm vụ.\n",
    "\n",
    "    **Thông tin đầu vào:**\n",
    "    1.  **Mục tiêu:** {objective['topic']} (Bloom: {objective['bloom_level']})\n",
    "    2.  **Chiến lược:** {strategy['chosen_pedagogy']}\n",
    "    3.  **Thời gian:** {constraints.get('duration_minutes', 'Không có')} phút\n",
    "    4.  **Kiến thức có sẵn:** {json.dumps(resources, indent=2, ensure_ascii=False)}\n",
    "\n",
    "    **YÊU CẦU ĐẦU RA (CỰC KỲ QUAN TRỌNG):**\n",
    "    1.  Nhiệm vụ phải bám sát \"Kiến thức có sẵn\".\n",
    "    2.  Tổng thời gian của các hoạt động được mô tả trong nhiệm vụ không được vượt quá giới hạn thời gian cho phép.\n",
    "    3.  Luôn có một nhiệm vụ cuối cùng là \"Tạo bài tập đánh giá\".\n",
    "    4.  **TUYỆT ĐỐI CHỈ** trả về một đối tượng JSON có key là \"tasks\".\n",
    "    5.  **KHÔNG** thêm bất kỳ văn bản giải thích nào khác. Mỗi phần tử trong danh sách \"tasks\" PHẢI LÀ một dictionary có hai key là \"task_name\" và \"task_description\".\n",
    "    \"\"\"\n",
    "    structured_llm = llm.with_structured_output(TaskList, method=\"json_mode\")\n",
    "    \n",
    "    try:\n",
    "        task_list_result = await structured_llm.ainvoke(prompt)\n",
    "        tasks_with_status = [\n",
    "            {\n",
    "                \"task_id\": i,\n",
    "                \"task_name\": t.get('task_name', f\"Nhiệm vụ không tên {i}\"),\n",
    "                \"task_description\": t.get('task_description', \"Không có mô tả.\"),\n",
    "                \"status\": \"pending\"\n",
    "            }\n",
    "            for i, t in enumerate(task_list_result.tasks) if t # Thêm điều kiện `if t` để bỏ qua các phần tử rỗng\n",
    "        ]\n",
    "        print_result(f\"**Đã tạo {len(tasks_with_status)} nhiệm vụ chiến lược.**\")\n",
    "        return {\"task_list\": tasks_with_status}\n",
    "    except Exception as e:\n",
    "        print(f\"❌ LỖI NGHIÊM TRỌNG tại Plan Delegator. Không thể parse kết quả từ LLM. Lỗi: {e}. Tạo một task mặc định để tiếp tục.\")\n",
    "        # Trả về một task mặc định để graph không bị sập hoàn toàn\n",
    "        return {\"task_list\": [{\"task_id\": 0, \"task_name\": \"Tạo hoạt động tổng quát\", \"task_description\": \"Do lỗi lập kế hoạch, hãy tạo một hoạt động tổng quát về hệ thức lượng.\", \"status\": \"pending\"}]}\n",
    "\n",
    "# ... (Các agent còn lại giữ nguyên) ...\n",
    "async def activity_designer_agent(state: TeacherState) -> Dict[str, Any]:\n",
    "    print_step(\"`Agent: Activity Designer` (v2.4) đang thiết kế hoạt động sáng tạo...\")\n",
    "    objective = state['analyzed_objective']\n",
    "    current_task_id = state.get(\"current_task_id\")\n",
    "    task_list = state.get(\"task_list\", [])\n",
    "    task_to_run = next((task for task in task_list if task.get(\"task_id\") == current_task_id), None)\n",
    "    \n",
    "    resources_summary = json.dumps(state.get('agent_outputs', {}).get('resources', []), indent=2, ensure_ascii=False)\n",
    "    previous_activities = json.dumps(state.get('agent_outputs', {}).get('activities', []), indent=2, ensure_ascii=False)\n",
    "\n",
    "    if not task_to_run: return {}\n",
    "        \n",
    "    prompt = f\"\"\"Thiết kế một hoạt động dạy học SÁNG TẠO và KHÁC BIỆT.\n",
    "    Bối cảnh: Dạy lớp {objective['grade_level']} về \"{objective['topic']}\".\n",
    "    Kiến thức có sẵn: {resources_summary}\n",
    "    Hoạt động đã tạo (để tránh lặp): {previous_activities}\n",
    "    Nhiệm vụ cụ thể: \"{task_to_run['task_description']}\"\n",
    "    QUAN TRỌNG: Chỉ trả về đối tượng JSON theo class LearningActivity.\n",
    "    \"\"\"\n",
    "    structured_llm = llm.with_structured_output(LearningActivity, method=\"json_mode\")\n",
    "    activity_result = await structured_llm.ainvoke(prompt)\n",
    "    print_result(activity_result.dict(), \"Hoạt động sáng tạo đã được thiết kế\")\n",
    "    return update_agent_outputs(state, \"activities\", activity_result.dict())\n",
    "    \n",
    "async def assessment_creator_agent(state: TeacherState) -> Dict[str, Any]:\n",
    "    print_step(\"`Agent: Assessment Creator` (v2.4) đang tạo câu hỏi đánh giá...\")\n",
    "    objective = state['analyzed_objective']\n",
    "    task_to_run = next((t for t in state['task_list'] if t['task_id'] == state['current_task_id']), None)\n",
    "    if not task_to_run: return {}\n",
    "\n",
    "    prompt = f\"\"\"Tạo MỘT câu hỏi đánh giá cho nhiệm vụ: \"{task_to_run['task_description']}\"\n",
    "    QUAN TRỌNG: Chỉ trả về đối tượng JSON theo class AssessmentItem.\n",
    "    \"\"\"\n",
    "    structured_llm = llm.with_structured_output(AssessmentItem, method=\"json_mode\")\n",
    "    assessment_result = await structured_llm.ainvoke(prompt)\n",
    "    print_result(assessment_result.dict(), \"Câu hỏi đánh giá đã được tạo\")\n",
    "    return update_agent_outputs(state, \"assessments\", assessment_result.dict())\n",
    "\n",
    "async def lesson_plan_compiler_agent(state: TeacherState) -> Dict[str, Any]:\n",
    "    print_step(\"`Agent: Lesson Plan Compiler` (v2.4) đang tổng hợp giáo án...\")\n",
    "    outputs = state['agent_outputs']\n",
    "    objective = state['analyzed_objective']\n",
    "    activities = outputs.get('activities', [])\n",
    "    total_duration = sum(act.get('duration_minutes', 0) for act in activities)\n",
    "    allowed_duration = objective.get('constraints', {}).get('duration_minutes')\n",
    "\n",
    "    warning_message = f\"Tổng thời lượng dự kiến: {total_duration} phút.\"\n",
    "    if allowed_duration and total_duration > allowed_duration:\n",
    "        warning_message += f\" LƯU Ý: Vượt quá thời gian cho phép ({allowed_duration} phút). Cần điều chỉnh.\"\n",
    "    \n",
    "    prompt = f\"\"\"Tổng hợp các thông tin sau thành một giáo án Markdown hoàn chỉnh bằng Tiếng Việt.\n",
    "    Mục tiêu: {objective['topic']}\n",
    "    Hoạt động: {json.dumps(activities, indent=2, ensure_ascii=False)}\n",
    "    Tài nguyên: {json.dumps(outputs.get('resources', []), indent=2, ensure_ascii=False)}\n",
    "    Đánh giá: {json.dumps(outputs.get('assessments', []), indent=2, ensure_ascii=False)}\n",
    "    YÊU CẦU: Cấu trúc rõ ràng và thêm \"Ghi chú của Trợ lý AI\" với nội dung: \"{warning_message}\"\n",
    "    \"\"\"\n",
    "    response = await llm.ainvoke(prompt)\n",
    "    return {\"final_lesson_plan\": response.content}\n",
    "\n",
    "print(\"✅ Tất cả các agent đã được nâng cấp lên phiên bản 2.4 (Siêu bền).\")"
   ]
  },
  {
   "cell_type": "code",
   "execution_count": 18,
   "id": "bdfc5a4e",
   "metadata": {},
   "outputs": [
    {
     "name": "stdout",
     "output_type": "stream",
     "text": [
      "✅ Graph 2.0 (Tích hợp RAG sớm & Trí nhớ) đã được biên dịch thành công.\n"
     ]
    },
    {
     "data": {
      "image/png": "[encoded data removed]",
      "text/plain": [
       "<IPython.core.display.Image object>"
      ]
     },
     "metadata": {},
     "output_type": "display_data"
    }
   ],
   "source": [
    "# ==============================================================================\n",
    "# CELL 4: LẮP RÁP LẠI GRAPH VỚI LUỒNG LOGIC MỚI\n",
    "# ==============================================================================\n",
    "\n",
    "# --- Các hàm logic và node tiện ích (Giữ nguyên) ---\n",
    "def mark_task_complete(state: TeacherState) -> Dict[str, Any]:\n",
    "    # ... (code giữ nguyên)\n",
    "    task_list = state.get(\"task_list\", [])\n",
    "    current_task_id = state.get(\"current_task_id\")\n",
    "    if not task_list or current_task_id is None: return {}\n",
    "    new_task_list = [t.copy() for t in task_list]\n",
    "    for task in new_task_list:\n",
    "        if task.get(\"task_id\") == current_task_id:\n",
    "            task[\"status\"] = \"completed\"\n",
    "            break\n",
    "    return {\"task_list\": new_task_list, \"current_task_id\": None}\n",
    "    \n",
    "def task_router_node(state: TeacherState) -> Dict[str, Any]:\n",
    "    # ... (code giữ nguyên)\n",
    "    print_step(\"\\n---\\n### 🔄 `Router`: Đang kiểm tra nhiệm vụ...\")\n",
    "    task_list = state.get(\"task_list\", [])\n",
    "    next_task = next((task for task in task_list if task.get(\"status\") == \"pending\"), None)\n",
    "    \n",
    "    if next_task:\n",
    "        print_step(f\"Nhiệm vụ tiếp theo: '{next_task['task_name']}' (ID: {next_task['task_id']})\")\n",
    "        return {\"current_task_id\": next_task['task_id']}\n",
    "    else:\n",
    "        print_step(\"Hết nhiệm vụ, chuyển sang tổng hợp giáo án.\")\n",
    "        return {\"current_task_id\": None}\n",
    "\n",
    "async def task_dispatcher_agent(state: TeacherState) -> Dict[str, Any]:\n",
    "    # ... (code giữ nguyên)\n",
    "    print_step(\"\\n---\\n### 🚚 `Agent: Task Dispatcher` Bắt đầu...\")\n",
    "    current_task_id = state.get(\"current_task_id\")\n",
    "    task_list = state.get(\"task_list\", [])\n",
    "    task_to_run = next((task for task in task_list if task.get(\"task_id\") == current_task_id), None)\n",
    "    if not task_to_run: return {\"next_agent\": \"mark_task_complete\"}\n",
    "\n",
    "    task_description = task_to_run['task_description']\n",
    "    prompt = f\"\"\"Phân loại nhiệm vụ sau vào agent phù hợp nhất: 'activity_designer', 'resource_scout', 'assessment_creator', hoặc 'unknown'.\n",
    "    NHIỆM VỤ: \"{task_description}\" \"\"\"\n",
    "    structured_llm = llm.with_structured_output(TaskClassification)\n",
    "    classification_result = await structured_llm.ainvoke(prompt)\n",
    "    next_agent = classification_result.agent_category\n",
    "    if next_agent == \"unknown\":\n",
    "        print_step(f\"--- 🚚 `Dispatcher`: Không nhận ra nhiệm vụ. Bỏ qua.\")\n",
    "        return {\"next_agent\": \"mark_task_complete\"}\n",
    "    \n",
    "    # *** Lưu ý: Chúng ta đã di chuyển Resource Scout ra khỏi vòng lặp này, \n",
    "    # nhưng vẫn giữ logic ở đây để phòng trường hợp Plan Delegator tạo ra một task tìm kiếm khác.\n",
    "    print_step(f\"--- 🚚 `Dispatcher`: Giao nhiệm vụ cho `{next_agent}`.\")\n",
    "    return {\"next_agent\": next_agent}\n",
    "\n",
    "def route_after_router(state: TeacherState) -> Literal[\"continue_executing\", \"finish_and_compile\"]:\n",
    "    # ... (code giữ nguyên)\n",
    "    if state.get(\"current_task_id\") is None:\n",
    "        return \"finish_and_compile\"\n",
    "    else:\n",
    "        return \"continue_executing\"\n",
    "\n",
    "# --- XÂY DỰNG GRAPH PHIÊN BẢN 2.0 ---\n",
    "workflow = StateGraph(TeacherState)\n",
    "\n",
    "# Thêm tất cả các node\n",
    "workflow.add_node(\"objective_interpreter\", objective_interpreter_agent)\n",
    "workflow.add_node(\"pedagogy_strategist\", pedagogy_strategist_agent)\n",
    "# === THAY ĐỔI KIẾN TRÚC ===\n",
    "# Resource Scout giờ sẽ chạy ngay sau khi có chiến lược sư phạm\n",
    "workflow.add_node(\"resource_scout\", resource_scout_agent) \n",
    "workflow.add_node(\"plan_delegator\", plan_delegator_agent)\n",
    "# ========================\n",
    "workflow.add_node(\"task_router\", task_router_node)\n",
    "workflow.add_node(\"task_dispatcher\", task_dispatcher_agent)\n",
    "workflow.add_node(\"mark_task_complete\", mark_task_complete)\n",
    "workflow.add_node(\"activity_designer\", activity_designer_agent)\n",
    "workflow.add_node(\"assessment_creator\", assessment_creator_agent)\n",
    "workflow.add_node(\"lesson_plan_compiler\", lesson_plan_compiler_agent)\n",
    "\n",
    "# Kết nối các bước ban đầu theo \"dây chuyền\" mới\n",
    "workflow.set_entry_point(\"objective_interpreter\")\n",
    "workflow.add_edge(\"objective_interpreter\", \"pedagogy_strategist\")\n",
    "# === THAY ĐỔI KIẾN TRÚC ===\n",
    "workflow.add_edge(\"pedagogy_strategist\", \"resource_scout\")\n",
    "workflow.add_edge(\"resource_scout\", \"plan_delegator\")\n",
    "# ========================\n",
    "workflow.add_edge(\"plan_delegator\", \"task_router\")\n",
    "\n",
    "# Vòng lặp xử lý nhiệm vụ (giữ nguyên logic)\n",
    "workflow.add_conditional_edges(\n",
    "    \"task_router\",\n",
    "    route_after_router,\n",
    "    {\"continue_executing\": \"task_dispatcher\", \"finish_and_compile\": \"lesson_plan_compiler\"}\n",
    ")\n",
    "workflow.add_conditional_edges(\n",
    "    \"task_dispatcher\",\n",
    "    lambda state: state[\"next_agent\"],\n",
    "    {\n",
    "        \"activity_designer\": \"activity_designer\",\n",
    "        \"assessment_creator\": \"assessment_creator\",\n",
    "        # Resource Scout không còn là một điểm đến phổ biến trong vòng lặp này nữa\n",
    "        \"resource_scout\": \"resource_scout\", \n",
    "        \"mark_task_complete\": \"mark_task_complete\"\n",
    "    }\n",
    ")\n",
    "workflow.add_edge(\"activity_designer\", \"mark_task_complete\")\n",
    "workflow.add_edge(\"assessment_creator\", \"mark_task_complete\")\n",
    "workflow.add_edge(\"mark_task_complete\", \"task_router\")\n",
    "\n",
    "# Kết thúc\n",
    "workflow.add_edge(\"lesson_plan_compiler\", END)\n",
    "\n",
    "# Biên dịch Graph 2.0\n",
    "app = workflow.compile()\n",
    "print(\"✅ Graph 2.0 (Tích hợp RAG sớm & Trí nhớ) đã được biên dịch thành công.\")\n",
    "\n",
    "try:\n",
    "    display(Image(app.get_graph().draw_mermaid_png()))\n",
    "except Exception as e:\n",
    "    print(f\"Lỗi vẽ biểu đồ: {e}\")"
   ]
  },
  {
   "cell_type": "code",
   "execution_count": 19,
   "id": "b5fdd2e0",
   "metadata": {},
   "outputs": [
    {
     "data": {
      "text/html": [
       "<pre style=\"white-space:pre;overflow-x:auto;line-height:normal;font-family:Menlo,'DejaVu Sans Mono',consolas,'Courier New',monospace\">\n",
       "<span style=\"color: #800080; text-decoration-color: #800080; font-weight: bold\">🚀 BẮT ĐẦU QUY TRÌNH VỚI YÊU CẦU NÂNG CAO:</span>\n",
       "&gt; Soạn giúp tôi giáo án bài <span style=\"color: #008000; text-decoration-color: #008000\">'Hệ thức lượng trong tam giác vuông'</span> cho học sinh lớp <span style=\"color: #008080; text-decoration-color: #008080; font-weight: bold\">9</span>. Mục tiêu là các em có thể vận \n",
       "dụng được các tỉ số lượng giác sin, cos, tan để giải các bài toán thực tế. Buổi học sẽ diễn ra trong <span style=\"color: #008080; text-decoration-color: #008080; font-weight: bold\">2</span> tiết, tổng \n",
       "cộng <span style=\"color: #008080; text-decoration-color: #008080; font-weight: bold\">90</span> phút.\n",
       "</pre>\n"
      ],
      "text/plain": [
       "\n",
       "\u001b[1;35m🚀 BẮT ĐẦU QUY TRÌNH VỚI YÊU CẦU NÂNG CAO:\u001b[0m\n",
       "> Soạn giúp tôi giáo án bài \u001b[32m'Hệ thức lượng trong tam giác vuông'\u001b[0m cho học sinh lớp \u001b[1;36m9\u001b[0m. Mục tiêu là các em có thể vận \n",
       "dụng được các tỉ số lượng giác sin, cos, tan để giải các bài toán thực tế. Buổi học sẽ diễn ra trong \u001b[1;36m2\u001b[0m tiết, tổng \n",
       "cộng \u001b[1;36m90\u001b[0m phút.\n"
      ]
     },
     "metadata": {},
     "output_type": "display_data"
    },
    {
     "data": {
      "text/html": [
       "<pre style=\"white-space:pre;overflow-x:auto;line-height:normal;font-family:Menlo,'DejaVu Sans Mono',consolas,'Courier New',monospace\"><span style=\"color: #008080; text-decoration-color: #008080; font-weight: bold\">&gt;</span> `Agent: Objective Interpreter` <span style=\"font-weight: bold\">(</span>v2.<span style=\"color: #008080; text-decoration-color: #008080; font-weight: bold\">4</span><span style=\"font-weight: bold\">)</span> đang phân tích mục tiêu<span style=\"color: #808000; text-decoration-color: #808000\">...</span>\n",
       "</pre>\n"
      ],
      "text/plain": [
       "\u001b[1;36m>\u001b[0m `Agent: Objective Interpreter` \u001b[1m(\u001b[0mv2.\u001b[1;36m4\u001b[0m\u001b[1m)\u001b[0m đang phân tích mục tiêu\u001b[33m...\u001b[0m\n"
      ]
     },
     "metadata": {},
     "output_type": "display_data"
    },
    {
     "ename": "OutputParserException",
     "evalue": "Failed to parse ParsedObjective from completion {\"lesson_plan\": {\"topic\": \"H\\u1ec7 th\\u1ee9c l\\u01b0\\u1ee3ng trong tam gi\\u00e1c vu\\u00f4ng\", \"grade_level\": 9, \"objectives\": [\"V\\u1eadn d\\u1ee5ng \\u0111\\u01b0\\u1ee3c c\\u00e1c t\\u1ec9 s\\u1ed1 l\\u01b0\\u1ee3ng gi\\u00e1c sin, cos, tan \\u0111\\u1ec3 gi\\u1ea3i c\\u00e1c b\\u00e0i to\\u00e1n th\\u1ef1c t\\u1ebf\"], \"duration_minutes\": 90}}. Got: 4 validation errors for ParsedObjective\naction_verb\n  field required (type=value_error.missing)\nbloom_level\n  field required (type=value_error.missing)\ntopic\n  field required (type=value_error.missing)\ngrade_level\n  field required (type=value_error.missing)\nFor troubleshooting, visit: https://python.langchain.com/docs/troubleshooting/errors/OUTPUT_PARSING_FAILURE ",
     "output_type": "error",
     "traceback": [
      "\u001b[31m---------------------------------------------------------------------------\u001b[39m",
      "\u001b[31mValidationError\u001b[39m                           Traceback (most recent call last)",
      "\u001b[36mFile \u001b[39m\u001b[32mc:\\Users\\Hi\\Documents\\IAI - UET\\AI-Lesson-Plan-Generator\\plan_venv\\Lib\\site-packages\\langchain_core\\output_parsers\\pydantic.py:30\u001b[39m, in \u001b[36mPydanticOutputParser._parse_obj\u001b[39m\u001b[34m(self, obj)\u001b[39m\n\u001b[32m     29\u001b[39m \u001b[38;5;28;01mif\u001b[39;00m \u001b[38;5;28missubclass\u001b[39m(\u001b[38;5;28mself\u001b[39m.pydantic_object, pydantic.v1.BaseModel):\n\u001b[32m---> \u001b[39m\u001b[32m30\u001b[39m     \u001b[38;5;28;01mreturn\u001b[39;00m \u001b[38;5;28;43mself\u001b[39;49m\u001b[43m.\u001b[49m\u001b[43mpydantic_object\u001b[49m\u001b[43m.\u001b[49m\u001b[43mparse_obj\u001b[49m\u001b[43m(\u001b[49m\u001b[43mobj\u001b[49m\u001b[43m)\u001b[49m\n\u001b[32m     31\u001b[39m msg = \u001b[33mf\u001b[39m\u001b[33m\"\u001b[39m\u001b[33mUnsupported model version for PydanticOutputParser: \u001b[39m\u001b[38;5;130;01m\\\u001b[39;00m\n\u001b[32m     32\u001b[39m \u001b[33m            \u001b[39m\u001b[38;5;132;01m{\u001b[39;00m\u001b[38;5;28mself\u001b[39m.pydantic_object.\u001b[34m__class__\u001b[39m\u001b[38;5;132;01m}\u001b[39;00m\u001b[33m\"\u001b[39m\n",
      "\u001b[36mFile \u001b[39m\u001b[32mc:\\Users\\Hi\\Documents\\IAI - UET\\AI-Lesson-Plan-Generator\\plan_venv\\Lib\\site-packages\\pydantic\\v1\\main.py:532\u001b[39m, in \u001b[36mBaseModel.parse_obj\u001b[39m\u001b[34m(cls, obj)\u001b[39m\n\u001b[32m    531\u001b[39m         \u001b[38;5;28;01mraise\u001b[39;00m ValidationError([ErrorWrapper(exc, loc=ROOT_KEY)], \u001b[38;5;28mcls\u001b[39m) \u001b[38;5;28;01mfrom\u001b[39;00m\u001b[38;5;250m \u001b[39m\u001b[34;01me\u001b[39;00m\n\u001b[32m--> \u001b[39m\u001b[32m532\u001b[39m \u001b[38;5;28;01mreturn\u001b[39;00m \u001b[38;5;28;43mcls\u001b[39;49m\u001b[43m(\u001b[49m\u001b[43m*\u001b[49m\u001b[43m*\u001b[49m\u001b[43mobj\u001b[49m\u001b[43m)\u001b[49m\n",
      "\u001b[36mFile \u001b[39m\u001b[32mc:\\Users\\Hi\\Documents\\IAI - UET\\AI-Lesson-Plan-Generator\\plan_venv\\Lib\\site-packages\\pydantic\\v1\\main.py:347\u001b[39m, in \u001b[36mBaseModel.__init__\u001b[39m\u001b[34m(__pydantic_self__, **data)\u001b[39m\n\u001b[32m    346\u001b[39m \u001b[38;5;28;01mif\u001b[39;00m validation_error:\n\u001b[32m--> \u001b[39m\u001b[32m347\u001b[39m     \u001b[38;5;28;01mraise\u001b[39;00m validation_error\n\u001b[32m    348\u001b[39m \u001b[38;5;28;01mtry\u001b[39;00m:\n",
      "\u001b[31mValidationError\u001b[39m: 4 validation errors for ParsedObjective\naction_verb\n  field required (type=value_error.missing)\nbloom_level\n  field required (type=value_error.missing)\ntopic\n  field required (type=value_error.missing)\ngrade_level\n  field required (type=value_error.missing)",
      "\nThe above exception was the direct cause of the following exception:\n",
      "\u001b[31mOutputParserException\u001b[39m                     Traceback (most recent call last)",
      "\u001b[36mCell\u001b[39m\u001b[36m \u001b[39m\u001b[32mIn[19]\u001b[39m\u001b[32m, line 34\u001b[39m\n\u001b[32m     30\u001b[39m VERBOSE_MODE = \u001b[38;5;28;01mTrue\u001b[39;00m \n\u001b[32m     32\u001b[39m \u001b[38;5;66;03m# --- CHẠY THỬ ---\u001b[39;00m\n\u001b[32m     33\u001b[39m \u001b[38;5;66;03m# Chạy graph với yêu cầu đã được nâng cấp\u001b[39;00m\n\u001b[32m---> \u001b[39m\u001b[32m34\u001b[39m \u001b[38;5;28;01mawait\u001b[39;00m run_graph(request_v2_test) \u001b[38;5;66;03m# Bỏ comment để chạy\u001b[39;00m\n",
      "\u001b[36mCell\u001b[39m\u001b[36m \u001b[39m\u001b[32mIn[19]\u001b[39m\u001b[32m, line 15\u001b[39m, in \u001b[36mrun_graph\u001b[39m\u001b[34m(user_request)\u001b[39m\n\u001b[32m     13\u001b[39m config = {\u001b[33m\"\u001b[39m\u001b[33mrecursion_limit\u001b[39m\u001b[33m\"\u001b[39m: \u001b[32m50\u001b[39m}\n\u001b[32m     14\u001b[39m final_state_result = \u001b[38;5;28;01mNone\u001b[39;00m\n\u001b[32m---> \u001b[39m\u001b[32m15\u001b[39m \u001b[38;5;28;01masync\u001b[39;00m \u001b[38;5;28;01mfor\u001b[39;00m event \u001b[38;5;129;01min\u001b[39;00m app.astream(initial_state, config=config):\n\u001b[32m     16\u001b[39m     \u001b[38;5;28;01mfor\u001b[39;00m node_name, node_output \u001b[38;5;129;01min\u001b[39;00m event.items():\n\u001b[32m     17\u001b[39m         console.print(\u001b[33mf\u001b[39m\u001b[33m\"\u001b[39m\u001b[38;5;130;01m\\n\u001b[39;00m\u001b[33m[bold yellow]------- Hoàn thành bước: \u001b[39m\u001b[38;5;132;01m{\u001b[39;00mnode_name\u001b[38;5;132;01m}\u001b[39;00m\u001b[33m -------[/bold yellow]\u001b[39m\u001b[33m\"\u001b[39m)\n",
      "\u001b[36mFile \u001b[39m\u001b[32mc:\\Users\\Hi\\Documents\\IAI - UET\\AI-Lesson-Plan-Generator\\plan_venv\\Lib\\site-packages\\langgraph\\pregel\\main.py:2939\u001b[39m, in \u001b[36mPregel.astream\u001b[39m\u001b[34m(self, input, config, context, stream_mode, print_mode, output_keys, interrupt_before, interrupt_after, durability, subgraphs, debug, **kwargs)\u001b[39m\n\u001b[32m   2937\u001b[39m \u001b[38;5;28;01mfor\u001b[39;00m task \u001b[38;5;129;01min\u001b[39;00m \u001b[38;5;28;01mawait\u001b[39;00m loop.amatch_cached_writes():\n\u001b[32m   2938\u001b[39m     loop.output_writes(task.id, task.writes, cached=\u001b[38;5;28;01mTrue\u001b[39;00m)\n\u001b[32m-> \u001b[39m\u001b[32m2939\u001b[39m \u001b[38;5;28;01masync\u001b[39;00m \u001b[38;5;28;01mfor\u001b[39;00m _ \u001b[38;5;129;01min\u001b[39;00m runner.atick(\n\u001b[32m   2940\u001b[39m     [t \u001b[38;5;28;01mfor\u001b[39;00m t \u001b[38;5;129;01min\u001b[39;00m loop.tasks.values() \u001b[38;5;28;01mif\u001b[39;00m \u001b[38;5;129;01mnot\u001b[39;00m t.writes],\n\u001b[32m   2941\u001b[39m     timeout=\u001b[38;5;28mself\u001b[39m.step_timeout,\n\u001b[32m   2942\u001b[39m     get_waiter=get_waiter,\n\u001b[32m   2943\u001b[39m     schedule_task=loop.aaccept_push,\n\u001b[32m   2944\u001b[39m ):\n\u001b[32m   2945\u001b[39m     \u001b[38;5;66;03m# emit output\u001b[39;00m\n\u001b[32m   2946\u001b[39m     \u001b[38;5;28;01mfor\u001b[39;00m o \u001b[38;5;129;01min\u001b[39;00m _output(\n\u001b[32m   2947\u001b[39m         stream_mode,\n\u001b[32m   2948\u001b[39m         print_mode,\n\u001b[32m   (...)\u001b[39m\u001b[32m   2951\u001b[39m         asyncio.QueueEmpty,\n\u001b[32m   2952\u001b[39m     ):\n\u001b[32m   2953\u001b[39m         \u001b[38;5;28;01myield\u001b[39;00m o\n",
      "\u001b[36mFile \u001b[39m\u001b[32mc:\\Users\\Hi\\Documents\\IAI - UET\\AI-Lesson-Plan-Generator\\plan_venv\\Lib\\site-packages\\langgraph\\pregel\\_runner.py:295\u001b[39m, in \u001b[36mPregelRunner.atick\u001b[39m\u001b[34m(self, tasks, reraise, timeout, retry_policy, get_waiter, schedule_task)\u001b[39m\n\u001b[32m    293\u001b[39m t = tasks[\u001b[32m0\u001b[39m]\n\u001b[32m    294\u001b[39m \u001b[38;5;28;01mtry\u001b[39;00m:\n\u001b[32m--> \u001b[39m\u001b[32m295\u001b[39m     \u001b[38;5;28;01mawait\u001b[39;00m arun_with_retry(\n\u001b[32m    296\u001b[39m         t,\n\u001b[32m    297\u001b[39m         retry_policy,\n\u001b[32m    298\u001b[39m         stream=\u001b[38;5;28mself\u001b[39m.use_astream,\n\u001b[32m    299\u001b[39m         configurable={\n\u001b[32m    300\u001b[39m             CONFIG_KEY_CALL: partial(\n\u001b[32m    301\u001b[39m                 _acall,\n\u001b[32m    302\u001b[39m                 weakref.ref(t),\n\u001b[32m    303\u001b[39m                 stream=\u001b[38;5;28mself\u001b[39m.use_astream,\n\u001b[32m    304\u001b[39m                 retry_policy=retry_policy,\n\u001b[32m    305\u001b[39m                 futures=weakref.ref(futures),\n\u001b[32m    306\u001b[39m                 schedule_task=schedule_task,\n\u001b[32m    307\u001b[39m                 submit=\u001b[38;5;28mself\u001b[39m.submit,\n\u001b[32m    308\u001b[39m                 loop=loop,\n\u001b[32m    309\u001b[39m             ),\n\u001b[32m    310\u001b[39m         },\n\u001b[32m    311\u001b[39m     )\n\u001b[32m    312\u001b[39m     \u001b[38;5;28mself\u001b[39m.commit(t, \u001b[38;5;28;01mNone\u001b[39;00m)\n\u001b[32m    313\u001b[39m \u001b[38;5;28;01mexcept\u001b[39;00m \u001b[38;5;167;01mException\u001b[39;00m \u001b[38;5;28;01mas\u001b[39;00m exc:\n",
      "\u001b[36mFile \u001b[39m\u001b[32mc:\\Users\\Hi\\Documents\\IAI - UET\\AI-Lesson-Plan-Generator\\plan_venv\\Lib\\site-packages\\langgraph\\pregel\\_retry.py:137\u001b[39m, in \u001b[36marun_with_retry\u001b[39m\u001b[34m(task, retry_policy, stream, match_cached_writes, configurable)\u001b[39m\n\u001b[32m    135\u001b[39m         \u001b[38;5;28;01mbreak\u001b[39;00m\n\u001b[32m    136\u001b[39m     \u001b[38;5;28;01melse\u001b[39;00m:\n\u001b[32m--> \u001b[39m\u001b[32m137\u001b[39m         \u001b[38;5;28;01mreturn\u001b[39;00m \u001b[38;5;28;01mawait\u001b[39;00m task.proc.ainvoke(task.input, config)\n\u001b[32m    138\u001b[39m \u001b[38;5;28;01mexcept\u001b[39;00m ParentCommand \u001b[38;5;28;01mas\u001b[39;00m exc:\n\u001b[32m    139\u001b[39m     ns: \u001b[38;5;28mstr\u001b[39m = config[CONF][CONFIG_KEY_CHECKPOINT_NS]\n",
      "\u001b[36mFile \u001b[39m\u001b[32mc:\\Users\\Hi\\Documents\\IAI - UET\\AI-Lesson-Plan-Generator\\plan_venv\\Lib\\site-packages\\langgraph\\_internal\\_runnable.py:706\u001b[39m, in \u001b[36mRunnableSeq.ainvoke\u001b[39m\u001b[34m(self, input, config, **kwargs)\u001b[39m\n\u001b[32m    704\u001b[39m     \u001b[38;5;66;03m# run in context\u001b[39;00m\n\u001b[32m    705\u001b[39m     \u001b[38;5;28;01mwith\u001b[39;00m set_config_context(config, run) \u001b[38;5;28;01mas\u001b[39;00m context:\n\u001b[32m--> \u001b[39m\u001b[32m706\u001b[39m         \u001b[38;5;28minput\u001b[39m = \u001b[38;5;28;01mawait\u001b[39;00m asyncio.create_task(\n\u001b[32m    707\u001b[39m             step.ainvoke(\u001b[38;5;28minput\u001b[39m, config, **kwargs), context=context\n\u001b[32m    708\u001b[39m         )\n\u001b[32m    709\u001b[39m \u001b[38;5;28;01melse\u001b[39;00m:\n\u001b[32m    710\u001b[39m     \u001b[38;5;28minput\u001b[39m = \u001b[38;5;28;01mawait\u001b[39;00m step.ainvoke(\u001b[38;5;28minput\u001b[39m, config, **kwargs)\n",
      "\u001b[36mFile \u001b[39m\u001b[32mc:\\Users\\Hi\\Documents\\IAI - UET\\AI-Lesson-Plan-Generator\\plan_venv\\Lib\\site-packages\\langgraph\\_internal\\_runnable.py:474\u001b[39m, in \u001b[36mRunnableCallable.ainvoke\u001b[39m\u001b[34m(self, input, config, **kwargs)\u001b[39m\n\u001b[32m    472\u001b[39m         \u001b[38;5;28;01mawait\u001b[39;00m run_manager.on_chain_end(ret)\n\u001b[32m    473\u001b[39m \u001b[38;5;28;01melse\u001b[39;00m:\n\u001b[32m--> \u001b[39m\u001b[32m474\u001b[39m     ret = \u001b[38;5;28;01mawait\u001b[39;00m \u001b[38;5;28mself\u001b[39m.afunc(*args, **kwargs)\n\u001b[32m    475\u001b[39m \u001b[38;5;28;01mif\u001b[39;00m \u001b[38;5;28mself\u001b[39m.recurse \u001b[38;5;129;01mand\u001b[39;00m \u001b[38;5;28misinstance\u001b[39m(ret, Runnable):\n\u001b[32m    476\u001b[39m     \u001b[38;5;28;01mreturn\u001b[39;00m \u001b[38;5;28;01mawait\u001b[39;00m ret.ainvoke(\u001b[38;5;28minput\u001b[39m, config)\n",
      "\u001b[36mCell\u001b[39m\u001b[36m \u001b[39m\u001b[32mIn[17]\u001b[39m\u001b[32m, line 58\u001b[39m, in \u001b[36mobjective_interpreter_agent\u001b[39m\u001b[34m(state)\u001b[39m\n\u001b[32m     51\u001b[39m prompt = \u001b[33mf\u001b[39m\u001b[33m\"\"\"\u001b[39m\u001b[33mPhân tích yêu cầu sau đây và trích xuất thông tin vào một đối tượng JSON.\u001b[39m\n\u001b[32m     52\u001b[39m \u001b[33mYÊU CẦU: \u001b[39m\u001b[33m\"\u001b[39m\u001b[38;5;132;01m{\u001b[39;00muser_request\u001b[38;5;132;01m}\u001b[39;00m\u001b[33m\"\u001b[39m\n\u001b[32m     53\u001b[39m \u001b[33mHƯỚNG DẪN:\u001b[39m\n\u001b[32m     54\u001b[39m \u001b[33m- `duration_minutes`: Quy đổi mọi thông tin về thời gian (ví dụ: \u001b[39m\u001b[33m'\u001b[39m\u001b[33m2 tiết 45 phút\u001b[39m\u001b[33m'\u001b[39m\u001b[33m ra 90) ra tổng số phút.\u001b[39m\n\u001b[32m     55\u001b[39m \u001b[33mQUAN TRỌNG: Chỉ trả về đối tượng JSON, không kèm theo bất kỳ văn bản giải thích nào.\u001b[39m\n\u001b[32m     56\u001b[39m \u001b[33m\u001b[39m\u001b[33m\"\"\"\u001b[39m\n\u001b[32m     57\u001b[39m structured_llm = llm.with_structured_output(ParsedObjective, method=\u001b[33m\"\u001b[39m\u001b[33mjson_mode\u001b[39m\u001b[33m\"\u001b[39m)\n\u001b[32m---> \u001b[39m\u001b[32m58\u001b[39m parsed_result = \u001b[38;5;28;01mawait\u001b[39;00m structured_llm.ainvoke(prompt)\n\u001b[32m     59\u001b[39m analyzed_objective_dict = {\n\u001b[32m     60\u001b[39m     \u001b[33m\"\u001b[39m\u001b[33maction_verb\u001b[39m\u001b[33m\"\u001b[39m: parsed_result.action_verb, \u001b[33m\"\u001b[39m\u001b[33mbloom_level\u001b[39m\u001b[33m\"\u001b[39m: parsed_result.bloom_level,\n\u001b[32m     61\u001b[39m     \u001b[33m\"\u001b[39m\u001b[33mtopic\u001b[39m\u001b[33m\"\u001b[39m: parsed_result.topic, \u001b[33m\"\u001b[39m\u001b[33mgrade_level\u001b[39m\u001b[33m\"\u001b[39m: parsed_result.grade_level,\n\u001b[32m     62\u001b[39m     \u001b[33m\"\u001b[39m\u001b[33mconstraints\u001b[39m\u001b[33m\"\u001b[39m: {\u001b[33m\"\u001b[39m\u001b[33mduration_minutes\u001b[39m\u001b[33m\"\u001b[39m: parsed_result.duration_minutes}\n\u001b[32m     63\u001b[39m }\n\u001b[32m     64\u001b[39m print_result(analyzed_objective_dict, \u001b[33m\"\u001b[39m\u001b[33mMục tiêu & Ràng buộc đã phân tích\u001b[39m\u001b[33m\"\u001b[39m)\n",
      "\u001b[36mFile \u001b[39m\u001b[32mc:\\Users\\Hi\\Documents\\IAI - UET\\AI-Lesson-Plan-Generator\\plan_venv\\Lib\\site-packages\\langchain_core\\runnables\\base.py:3091\u001b[39m, in \u001b[36mRunnableSequence.ainvoke\u001b[39m\u001b[34m(self, input, config, **kwargs)\u001b[39m\n\u001b[32m   3089\u001b[39m             \u001b[38;5;28;01melse\u001b[39;00m:\n\u001b[32m   3090\u001b[39m                 part = functools.partial(step.ainvoke, input_, config)\n\u001b[32m-> \u001b[39m\u001b[32m3091\u001b[39m             input_ = \u001b[38;5;28;01mawait\u001b[39;00m coro_with_context(part(), context, create_task=\u001b[38;5;28;01mTrue\u001b[39;00m)\n\u001b[32m   3092\u001b[39m     \u001b[38;5;66;03m# finish the root run\u001b[39;00m\n\u001b[32m   3093\u001b[39m \u001b[38;5;28;01mexcept\u001b[39;00m \u001b[38;5;167;01mBaseException\u001b[39;00m \u001b[38;5;28;01mas\u001b[39;00m e:\n",
      "\u001b[36mFile \u001b[39m\u001b[32mc:\\Users\\Hi\\Documents\\IAI - UET\\AI-Lesson-Plan-Generator\\plan_venv\\Lib\\site-packages\\langchain_core\\output_parsers\\base.py:220\u001b[39m, in \u001b[36mBaseOutputParser.ainvoke\u001b[39m\u001b[34m(self, input, config, **kwargs)\u001b[39m\n\u001b[32m    212\u001b[39m \u001b[38;5;129m@override\u001b[39m\n\u001b[32m    213\u001b[39m \u001b[38;5;28;01masync\u001b[39;00m \u001b[38;5;28;01mdef\u001b[39;00m\u001b[38;5;250m \u001b[39m\u001b[34mainvoke\u001b[39m(\n\u001b[32m    214\u001b[39m     \u001b[38;5;28mself\u001b[39m,\n\u001b[32m   (...)\u001b[39m\u001b[32m    217\u001b[39m     **kwargs: Optional[Any],\n\u001b[32m    218\u001b[39m ) -> T:\n\u001b[32m    219\u001b[39m     \u001b[38;5;28;01mif\u001b[39;00m \u001b[38;5;28misinstance\u001b[39m(\u001b[38;5;28minput\u001b[39m, BaseMessage):\n\u001b[32m--> \u001b[39m\u001b[32m220\u001b[39m         \u001b[38;5;28;01mreturn\u001b[39;00m \u001b[38;5;28;01mawait\u001b[39;00m \u001b[38;5;28mself\u001b[39m._acall_with_config(\n\u001b[32m    221\u001b[39m             \u001b[38;5;28;01mlambda\u001b[39;00m inner_input: \u001b[38;5;28mself\u001b[39m.aparse_result(\n\u001b[32m    222\u001b[39m                 [ChatGeneration(message=inner_input)]\n\u001b[32m    223\u001b[39m             ),\n\u001b[32m    224\u001b[39m             \u001b[38;5;28minput\u001b[39m,\n\u001b[32m    225\u001b[39m             config,\n\u001b[32m    226\u001b[39m             run_type=\u001b[33m\"\u001b[39m\u001b[33mparser\u001b[39m\u001b[33m\"\u001b[39m,\n\u001b[32m    227\u001b[39m         )\n\u001b[32m    228\u001b[39m     \u001b[38;5;28;01mreturn\u001b[39;00m \u001b[38;5;28;01mawait\u001b[39;00m \u001b[38;5;28mself\u001b[39m._acall_with_config(\n\u001b[32m    229\u001b[39m         \u001b[38;5;28;01mlambda\u001b[39;00m inner_input: \u001b[38;5;28mself\u001b[39m.aparse_result([Generation(text=inner_input)]),\n\u001b[32m    230\u001b[39m         \u001b[38;5;28minput\u001b[39m,\n\u001b[32m    231\u001b[39m         config,\n\u001b[32m    232\u001b[39m         run_type=\u001b[33m\"\u001b[39m\u001b[33mparser\u001b[39m\u001b[33m\"\u001b[39m,\n\u001b[32m    233\u001b[39m     )\n",
      "\u001b[36mFile \u001b[39m\u001b[32mc:\\Users\\Hi\\Documents\\IAI - UET\\AI-Lesson-Plan-Generator\\plan_venv\\Lib\\site-packages\\langchain_core\\runnables\\base.py:1989\u001b[39m, in \u001b[36mRunnable._acall_with_config\u001b[39m\u001b[34m(self, func, input_, config, run_type, serialized, **kwargs)\u001b[39m\n\u001b[32m   1985\u001b[39m     \u001b[38;5;28;01mwith\u001b[39;00m set_config_context(child_config) \u001b[38;5;28;01mas\u001b[39;00m context:\n\u001b[32m   1986\u001b[39m         coro = acall_func_with_variable_args(\n\u001b[32m   1987\u001b[39m             func, input_, config, run_manager, **kwargs\n\u001b[32m   1988\u001b[39m         )\n\u001b[32m-> \u001b[39m\u001b[32m1989\u001b[39m         output: Output = \u001b[38;5;28;01mawait\u001b[39;00m coro_with_context(coro, context)\n\u001b[32m   1990\u001b[39m \u001b[38;5;28;01mexcept\u001b[39;00m \u001b[38;5;167;01mBaseException\u001b[39;00m \u001b[38;5;28;01mas\u001b[39;00m e:\n\u001b[32m   1991\u001b[39m     \u001b[38;5;28;01mawait\u001b[39;00m run_manager.on_chain_error(e)\n",
      "\u001b[36mFile \u001b[39m\u001b[32mc:\\Users\\Hi\\Documents\\IAI - UET\\AI-Lesson-Plan-Generator\\plan_venv\\Lib\\site-packages\\langchain_core\\output_parsers\\base.py:281\u001b[39m, in \u001b[36mBaseOutputParser.aparse_result\u001b[39m\u001b[34m(self, result, partial)\u001b[39m\n\u001b[32m    264\u001b[39m \u001b[38;5;28;01masync\u001b[39;00m \u001b[38;5;28;01mdef\u001b[39;00m\u001b[38;5;250m \u001b[39m\u001b[34maparse_result\u001b[39m(\n\u001b[32m    265\u001b[39m     \u001b[38;5;28mself\u001b[39m, result: \u001b[38;5;28mlist\u001b[39m[Generation], *, partial: \u001b[38;5;28mbool\u001b[39m = \u001b[38;5;28;01mFalse\u001b[39;00m\n\u001b[32m    266\u001b[39m ) -> T:\n\u001b[32m    267\u001b[39m \u001b[38;5;250m    \u001b[39m\u001b[33;03m\"\"\"Async parse a list of candidate model Generations into a specific format.\u001b[39;00m\n\u001b[32m    268\u001b[39m \n\u001b[32m    269\u001b[39m \u001b[33;03m    The return value is parsed from only the first Generation in the result, which\u001b[39;00m\n\u001b[32m   (...)\u001b[39m\u001b[32m    279\u001b[39m \u001b[33;03m        Structured output.\u001b[39;00m\n\u001b[32m    280\u001b[39m \u001b[33;03m    \"\"\"\u001b[39;00m\n\u001b[32m--> \u001b[39m\u001b[32m281\u001b[39m     \u001b[38;5;28;01mreturn\u001b[39;00m \u001b[38;5;28;01mawait\u001b[39;00m run_in_executor(\u001b[38;5;28;01mNone\u001b[39;00m, \u001b[38;5;28mself\u001b[39m.parse_result, result, partial=partial)\n",
      "\u001b[36mFile \u001b[39m\u001b[32mc:\\Users\\Hi\\Documents\\IAI - UET\\AI-Lesson-Plan-Generator\\plan_venv\\Lib\\site-packages\\langchain_core\\runnables\\config.py:617\u001b[39m, in \u001b[36mrun_in_executor\u001b[39m\u001b[34m(executor_or_config, func, *args, **kwargs)\u001b[39m\n\u001b[32m    613\u001b[39m         \u001b[38;5;28;01mraise\u001b[39;00m \u001b[38;5;167;01mRuntimeError\u001b[39;00m \u001b[38;5;28;01mfrom\u001b[39;00m\u001b[38;5;250m \u001b[39m\u001b[34;01mexc\u001b[39;00m\n\u001b[32m    615\u001b[39m \u001b[38;5;28;01mif\u001b[39;00m executor_or_config \u001b[38;5;129;01mis\u001b[39;00m \u001b[38;5;28;01mNone\u001b[39;00m \u001b[38;5;129;01mor\u001b[39;00m \u001b[38;5;28misinstance\u001b[39m(executor_or_config, \u001b[38;5;28mdict\u001b[39m):\n\u001b[32m    616\u001b[39m     \u001b[38;5;66;03m# Use default executor with context copied from current context\u001b[39;00m\n\u001b[32m--> \u001b[39m\u001b[32m617\u001b[39m     \u001b[38;5;28;01mreturn\u001b[39;00m \u001b[38;5;28;01mawait\u001b[39;00m asyncio.get_running_loop().run_in_executor(\n\u001b[32m    618\u001b[39m         \u001b[38;5;28;01mNone\u001b[39;00m,\n\u001b[32m    619\u001b[39m         cast(\u001b[33m\"\u001b[39m\u001b[33mCallable[..., T]\u001b[39m\u001b[33m\"\u001b[39m, partial(copy_context().run, wrapper)),\n\u001b[32m    620\u001b[39m     )\n\u001b[32m    622\u001b[39m \u001b[38;5;28;01mreturn\u001b[39;00m \u001b[38;5;28;01mawait\u001b[39;00m asyncio.get_running_loop().run_in_executor(executor_or_config, wrapper)\n",
      "\u001b[36mFile \u001b[39m\u001b[32m~\\AppData\\Local\\Programs\\Python\\Python311\\Lib\\concurrent\\futures\\thread.py:58\u001b[39m, in \u001b[36m_WorkItem.run\u001b[39m\u001b[34m(self)\u001b[39m\n\u001b[32m     55\u001b[39m     \u001b[38;5;28;01mreturn\u001b[39;00m\n\u001b[32m     57\u001b[39m \u001b[38;5;28;01mtry\u001b[39;00m:\n\u001b[32m---> \u001b[39m\u001b[32m58\u001b[39m     result = \u001b[38;5;28;43mself\u001b[39;49m\u001b[43m.\u001b[49m\u001b[43mfn\u001b[49m\u001b[43m(\u001b[49m\u001b[43m*\u001b[49m\u001b[38;5;28;43mself\u001b[39;49m\u001b[43m.\u001b[49m\u001b[43margs\u001b[49m\u001b[43m,\u001b[49m\u001b[43m \u001b[49m\u001b[43m*\u001b[49m\u001b[43m*\u001b[49m\u001b[38;5;28;43mself\u001b[39;49m\u001b[43m.\u001b[49m\u001b[43mkwargs\u001b[49m\u001b[43m)\u001b[49m\n\u001b[32m     59\u001b[39m \u001b[38;5;28;01mexcept\u001b[39;00m \u001b[38;5;167;01mBaseException\u001b[39;00m \u001b[38;5;28;01mas\u001b[39;00m exc:\n\u001b[32m     60\u001b[39m     \u001b[38;5;28mself\u001b[39m.future.set_exception(exc)\n",
      "\u001b[36mFile \u001b[39m\u001b[32mc:\\Users\\Hi\\Documents\\IAI - UET\\AI-Lesson-Plan-Generator\\plan_venv\\Lib\\site-packages\\langchain_core\\runnables\\config.py:608\u001b[39m, in \u001b[36mrun_in_executor.<locals>.wrapper\u001b[39m\u001b[34m()\u001b[39m\n\u001b[32m    606\u001b[39m \u001b[38;5;28;01mdef\u001b[39;00m\u001b[38;5;250m \u001b[39m\u001b[34mwrapper\u001b[39m() -> T:\n\u001b[32m    607\u001b[39m     \u001b[38;5;28;01mtry\u001b[39;00m:\n\u001b[32m--> \u001b[39m\u001b[32m608\u001b[39m         \u001b[38;5;28;01mreturn\u001b[39;00m \u001b[43mfunc\u001b[49m\u001b[43m(\u001b[49m\u001b[43m*\u001b[49m\u001b[43margs\u001b[49m\u001b[43m,\u001b[49m\u001b[43m \u001b[49m\u001b[43m*\u001b[49m\u001b[43m*\u001b[49m\u001b[43mkwargs\u001b[49m\u001b[43m)\u001b[49m\n\u001b[32m    609\u001b[39m     \u001b[38;5;28;01mexcept\u001b[39;00m \u001b[38;5;167;01mStopIteration\u001b[39;00m \u001b[38;5;28;01mas\u001b[39;00m exc:\n\u001b[32m    610\u001b[39m         \u001b[38;5;66;03m# StopIteration can't be set on an asyncio.Future\u001b[39;00m\n\u001b[32m    611\u001b[39m         \u001b[38;5;66;03m# it raises a TypeError and leaves the Future pending forever\u001b[39;00m\n\u001b[32m    612\u001b[39m         \u001b[38;5;66;03m# so we need to convert it to a RuntimeError\u001b[39;00m\n\u001b[32m    613\u001b[39m         \u001b[38;5;28;01mraise\u001b[39;00m \u001b[38;5;167;01mRuntimeError\u001b[39;00m \u001b[38;5;28;01mfrom\u001b[39;00m\u001b[38;5;250m \u001b[39m\u001b[34;01mexc\u001b[39;00m\n",
      "\u001b[36mFile \u001b[39m\u001b[32mc:\\Users\\Hi\\Documents\\IAI - UET\\AI-Lesson-Plan-Generator\\plan_venv\\Lib\\site-packages\\langchain_core\\output_parsers\\pydantic.py:62\u001b[39m, in \u001b[36mPydanticOutputParser.parse_result\u001b[39m\u001b[34m(self, result, partial)\u001b[39m\n\u001b[32m     60\u001b[39m \u001b[38;5;28;01mtry\u001b[39;00m:\n\u001b[32m     61\u001b[39m     json_object = \u001b[38;5;28msuper\u001b[39m().parse_result(result)\n\u001b[32m---> \u001b[39m\u001b[32m62\u001b[39m     \u001b[38;5;28;01mreturn\u001b[39;00m \u001b[38;5;28;43mself\u001b[39;49m\u001b[43m.\u001b[49m\u001b[43m_parse_obj\u001b[49m\u001b[43m(\u001b[49m\u001b[43mjson_object\u001b[49m\u001b[43m)\u001b[49m\n\u001b[32m     63\u001b[39m \u001b[38;5;28;01mexcept\u001b[39;00m OutputParserException:\n\u001b[32m     64\u001b[39m     \u001b[38;5;28;01mif\u001b[39;00m partial:\n",
      "\u001b[36mFile \u001b[39m\u001b[32mc:\\Users\\Hi\\Documents\\IAI - UET\\AI-Lesson-Plan-Generator\\plan_venv\\Lib\\site-packages\\langchain_core\\output_parsers\\pydantic.py:35\u001b[39m, in \u001b[36mPydanticOutputParser._parse_obj\u001b[39m\u001b[34m(self, obj)\u001b[39m\n\u001b[32m     33\u001b[39m     \u001b[38;5;28;01mraise\u001b[39;00m OutputParserException(msg)\n\u001b[32m     34\u001b[39m \u001b[38;5;28;01mexcept\u001b[39;00m (pydantic.ValidationError, pydantic.v1.ValidationError) \u001b[38;5;28;01mas\u001b[39;00m e:\n\u001b[32m---> \u001b[39m\u001b[32m35\u001b[39m     \u001b[38;5;28;01mraise\u001b[39;00m \u001b[38;5;28mself\u001b[39m._parser_exception(e, obj) \u001b[38;5;28;01mfrom\u001b[39;00m\u001b[38;5;250m \u001b[39m\u001b[34;01me\u001b[39;00m\n",
      "\u001b[31mOutputParserException\u001b[39m: Failed to parse ParsedObjective from completion {\"lesson_plan\": {\"topic\": \"H\\u1ec7 th\\u1ee9c l\\u01b0\\u1ee3ng trong tam gi\\u00e1c vu\\u00f4ng\", \"grade_level\": 9, \"objectives\": [\"V\\u1eadn d\\u1ee5ng \\u0111\\u01b0\\u1ee3c c\\u00e1c t\\u1ec9 s\\u1ed1 l\\u01b0\\u1ee3ng gi\\u00e1c sin, cos, tan \\u0111\\u1ec3 gi\\u1ea3i c\\u00e1c b\\u00e0i to\\u00e1n th\\u1ef1c t\\u1ebf\"], \"duration_minutes\": 90}}. Got: 4 validation errors for ParsedObjective\naction_verb\n  field required (type=value_error.missing)\nbloom_level\n  field required (type=value_error.missing)\ntopic\n  field required (type=value_error.missing)\ngrade_level\n  field required (type=value_error.missing)\nFor troubleshooting, visit: https://python.langchain.com/docs/troubleshooting/errors/OUTPUT_PARSING_FAILURE ",
      "During task with name 'objective_interpreter' and id 'c0938d1a-f48c-da4f-04b2-038b31466f29'"
     ]
    }
   ],
   "source": [
    "# ==============================================================================\n",
    "# CELL 5: CHẠY THỬ NGHIỆM VỚI KỊCH BẢN NÂNG CAO\n",
    "# ==============================================================================\n",
    "\n",
    "async def run_graph(user_request: str):\n",
    "    # ... (code hàm run_graph giữ nguyên)\n",
    "    initial_state = {\n",
    "        \"messages\": [HumanMessage(content=user_request)],\n",
    "        \"agent_outputs\": {},\n",
    "        # ... các trường khác\n",
    "    }\n",
    "    console.print(f\"\\n[bold magenta]🚀 BẮT ĐẦU QUY TRÌNH VỚI YÊU CẦU NÂNG CAO:[/bold magenta]\\n> {user_request}\")\n",
    "    config = {\"recursion_limit\": 50}\n",
    "    final_state_result = None\n",
    "    async for event in app.astream(initial_state, config=config):\n",
    "        for node_name, node_output in event.items():\n",
    "            console.print(f\"\\n[bold yellow]------- Hoàn thành bước: {node_name} -------[/bold yellow]\")\n",
    "            final_state_result = node_output\n",
    "    console.print(\"\\n[bold magenta]🏁 KẾT THÚC QUY TRÌNH.[/bold magenta]\")\n",
    "    if final_state_result and final_state_result.get(\"final_lesson_plan\"):\n",
    "        console.print(\"\\n[bold green]📝 GIÁO ÁN HOÀN CHỈNH (v2)[/bold green]\")\n",
    "        console.print(Markdown(final_state_result[\"final_lesson_plan\"]))\n",
    "\n",
    "\n",
    "# --- KỊCH BẢN THỬ NGHIỆM MỚI ---\n",
    "# Yêu cầu này có cả chủ đề RAG và RÀNG BUỘC THỜI GIAN\n",
    "request_v2_test = \"Soạn giúp tôi giáo án bài 'Hệ thức lượng trong tam giác vuông' cho học sinh lớp 9. Mục tiêu là các em có thể vận dụng được các tỉ số lượng giác sin, cos, tan để giải các bài toán thực tế. Buổi học sẽ diễn ra trong 2 tiết, tổng cộng 90 phút.\"\n",
    "\n",
    "# --- BẬT/TẮT LOG CHI TIẾT ---\n",
    "VERBOSE_MODE = True \n",
    "\n",
    "# --- CHẠY THỬ ---\n",
    "# Chạy graph với yêu cầu đã được nâng cấp\n",
    "await run_graph(request_v2_test) # Bỏ comment để chạy"
   ]
  },
  {
   "cell_type": "code",
   "execution_count": null,
   "id": "84c017a9",
   "metadata": {},
   "outputs": [
    {
     "data": {
      "text/html": [
       "<pre style=\"white-space:pre;overflow-x:auto;line-height:normal;font-family:Menlo,'DejaVu Sans Mono',consolas,'Courier New',monospace\">\n",
       "<span style=\"color: #808000; text-decoration-color: #808000; font-weight: bold\">&gt;&gt;&gt; Đang tìm kiếm với truy vấn:</span> <span style=\"color: #008000; text-decoration-color: #008000\">'Tỉ số lượng giác của góc nhọn'</span>\n",
       "</pre>\n"
      ],
      "text/plain": [
       "\n",
       "\u001b[1;33m>>> Đang tìm kiếm với truy vấn:\u001b[0m \u001b[32m'Tỉ số lượng giác của góc nhọn'\u001b[0m\n"
      ]
     },
     "metadata": {},
     "output_type": "display_data"
    },
    {
     "data": {
      "text/html": [
       "<pre style=\"white-space:pre;overflow-x:auto;line-height:normal;font-family:Menlo,'DejaVu Sans Mono',consolas,'Courier New',monospace\"><span style=\"color: #008000; text-decoration-color: #008000; font-weight: bold\">&gt;&gt;&gt; Đã tìm thấy </span><span style=\"color: #008000; text-decoration-color: #008000; font-weight: bold\">3</span><span style=\"color: #008000; text-decoration-color: #008000; font-weight: bold\"> đoạn văn bản liên quan:</span>\n",
       "</pre>\n"
      ],
      "text/plain": [
       "\u001b[1;32m>>> Đã tìm thấy \u001b[0m\u001b[1;32m3\u001b[0m\u001b[1;32m đoạn văn bản liên quan:\u001b[0m\n"
      ]
     },
     "metadata": {},
     "output_type": "display_data"
    },
    {
     "data": {
      "text/html": [
       "<pre style=\"white-space:pre;overflow-x:auto;line-height:normal;font-family:Menlo,'DejaVu Sans Mono',consolas,'Courier New',monospace\">\n",
       "--- <span style=\"font-weight: bold\">[</span> KẾT QUẢ #<span style=\"color: #008080; text-decoration-color: #008080; font-weight: bold\">1</span> | Trang: Không rõ <span style=\"font-weight: bold\">]</span> ---\n",
       "</pre>\n"
      ],
      "text/plain": [
       "\n",
       "--- \u001b[1m[\u001b[0m KẾT QUẢ #\u001b[1;36m1\u001b[0m | Trang: Không rõ \u001b[1m]\u001b[0m ---\n"
      ]
     },
     "metadata": {},
     "output_type": "display_data"
    },
    {
     "data": {
      "text/html": [
       "<pre style=\"white-space:pre;overflow-x:auto;line-height:normal;font-family:Menlo,'DejaVu Sans Mono',consolas,'Courier New',monospace\">Ta có thể xác định “góc dốc” $\\alpha$ của một đoạn đường dốc khi biết tỉ số độ dài của dốc là l và độ cao của đỉnh \n",
       "dốc h so với đường nằm ngang là d, không? <span style=\"font-weight: bold\">(</span>H.<span style=\"color: #008080; text-decoration-color: #008080; font-weight: bold\">4.1</span><span style=\"font-weight: bold\">)</span>. Trong các toà chung cư, người ta thường thiết kế đoạn dốc cho \n",
       "người đi xe lăn với góc dốc bé hơn $<span style=\"color: #008080; text-decoration-color: #008080; font-weight: bold\">6</span>^\\circ$.  =============== TRANG <span style=\"color: #008080; text-decoration-color: #008080; font-weight: bold\">67</span> <span style=\"color: #808000; text-decoration-color: #808000\">...</span>\n",
       "</pre>\n"
      ],
      "text/plain": [
       "Ta có thể xác định “góc dốc” $\\alpha$ của một đoạn đường dốc khi biết tỉ số độ dài của dốc là l và độ cao của đỉnh \n",
       "dốc h so với đường nằm ngang là d, không? \u001b[1m(\u001b[0mH.\u001b[1;36m4.1\u001b[0m\u001b[1m)\u001b[0m. Trong các toà chung cư, người ta thường thiết kế đoạn dốc cho \n",
       "người đi xe lăn với góc dốc bé hơn $\u001b[1;36m6\u001b[0m^\\circ$.  =============== TRANG \u001b[1;36m67\u001b[0m \u001b[33m...\u001b[0m\n"
      ]
     },
     "metadata": {},
     "output_type": "display_data"
    },
    {
     "data": {
      "text/html": [
       "<pre style=\"white-space:pre;overflow-x:auto;line-height:normal;font-family:Menlo,'DejaVu Sans Mono',consolas,'Courier New',monospace\">\n",
       "--- <span style=\"font-weight: bold\">[</span> KẾT QUẢ #<span style=\"color: #008080; text-decoration-color: #008080; font-weight: bold\">2</span> | Trang: Không rõ <span style=\"font-weight: bold\">]</span> ---\n",
       "</pre>\n"
      ],
      "text/plain": [
       "\n",
       "--- \u001b[1m[\u001b[0m KẾT QUẢ #\u001b[1;36m2\u001b[0m | Trang: Không rõ \u001b[1m]\u001b[0m ---\n"
      ]
     },
     "metadata": {},
     "output_type": "display_data"
    },
    {
     "data": {
      "text/html": [
       "<pre style=\"white-space:pre;overflow-x:auto;line-height:normal;font-family:Menlo,'DejaVu Sans Mono',consolas,'Courier New',monospace\">**Nhận xét.** các bước giải một bài toán bằng cách lập hệ phương trình: **Bước <span style=\"color: #008080; text-decoration-color: #008080; font-weight: bold\">1</span>.** Lập hệ phương trình: - Chọn ẩn \n",
       "số <span style=\"font-weight: bold\">(</span>thường chọn hai ẩn số<span style=\"font-weight: bold\">)</span> và đặt điều kiện thích hợp cho các ẩn số; - Biểu diễn các đại lượng chưa biết theo ẩn và\n",
       "các đại lượng đã biết; - Lập hệ phương trình biểu thị mối quan hệ giữ<span style=\"color: #808000; text-decoration-color: #808000\">...</span>\n",
       "</pre>\n"
      ],
      "text/plain": [
       "**Nhận xét.** các bước giải một bài toán bằng cách lập hệ phương trình: **Bước \u001b[1;36m1\u001b[0m.** Lập hệ phương trình: - Chọn ẩn \n",
       "số \u001b[1m(\u001b[0mthường chọn hai ẩn số\u001b[1m)\u001b[0m và đặt điều kiện thích hợp cho các ẩn số; - Biểu diễn các đại lượng chưa biết theo ẩn và\n",
       "các đại lượng đã biết; - Lập hệ phương trình biểu thị mối quan hệ giữ\u001b[33m...\u001b[0m\n"
      ]
     },
     "metadata": {},
     "output_type": "display_data"
    },
    {
     "data": {
      "text/html": [
       "<pre style=\"white-space:pre;overflow-x:auto;line-height:normal;font-family:Menlo,'DejaVu Sans Mono',consolas,'Courier New',monospace\">\n",
       "--- <span style=\"font-weight: bold\">[</span> KẾT QUẢ #<span style=\"color: #008080; text-decoration-color: #008080; font-weight: bold\">3</span> | Trang: Không rõ <span style=\"font-weight: bold\">]</span> ---\n",
       "</pre>\n"
      ],
      "text/plain": [
       "\n",
       "--- \u001b[1m[\u001b[0m KẾT QUẢ #\u001b[1;36m3\u001b[0m | Trang: Không rõ \u001b[1m]\u001b[0m ---\n"
      ]
     },
     "metadata": {},
     "output_type": "display_data"
    },
    {
     "data": {
      "text/html": [
       "<pre style=\"white-space:pre;overflow-x:auto;line-height:normal;font-family:Menlo,'DejaVu Sans Mono',consolas,'Courier New',monospace\">=============== TRANG <span style=\"color: #008080; text-decoration-color: #008080; font-weight: bold\">74</span> ===============  **Bài <span style=\"color: #008080; text-decoration-color: #008080; font-weight: bold\">12</span>: MỘT SỐ HỆ THỨC GIỮA CẠNH, GÓC TRONG TAM GIÁC VUÔNG VÀ ỨNG \n",
       "DỤNG**  **Kiến thức, kĩ năng** *   Giải thích một số hệ thức về cạnh và góc trong tam giác vuông. *   Giải quyết \n",
       "một số vấn đề thực tiễn gắn với tỉ số lượng giác của góc nhọn.  Để đo chiều c<span style=\"color: #808000; text-decoration-color: #808000\">...</span>\n",
       "</pre>\n"
      ],
      "text/plain": [
       "=============== TRANG \u001b[1;36m74\u001b[0m ===============  **Bài \u001b[1;36m12\u001b[0m: MỘT SỐ HỆ THỨC GIỮA CẠNH, GÓC TRONG TAM GIÁC VUÔNG VÀ ỨNG \n",
       "DỤNG**  **Kiến thức, kĩ năng** *   Giải thích một số hệ thức về cạnh và góc trong tam giác vuông. *   Giải quyết \n",
       "một số vấn đề thực tiễn gắn với tỉ số lượng giác của góc nhọn.  Để đo chiều c\u001b[33m...\u001b[0m\n"
      ]
     },
     "metadata": {},
     "output_type": "display_data"
    },
    {
     "data": {
      "text/html": [
       "<pre style=\"white-space:pre;overflow-x:auto;line-height:normal;font-family:Menlo,'DejaVu Sans Mono',consolas,'Courier New',monospace\">\n",
       "<span style=\"color: #808000; text-decoration-color: #808000; font-weight: bold\">&gt;&gt;&gt; Đang tìm kiếm với truy vấn:</span> <span style=\"color: #008000; text-decoration-color: #008000\">'Định lí Pytago'</span>\n",
       "</pre>\n"
      ],
      "text/plain": [
       "\n",
       "\u001b[1;33m>>> Đang tìm kiếm với truy vấn:\u001b[0m \u001b[32m'Định lí Pytago'\u001b[0m\n"
      ]
     },
     "metadata": {},
     "output_type": "display_data"
    },
    {
     "data": {
      "text/html": [
       "<pre style=\"white-space:pre;overflow-x:auto;line-height:normal;font-family:Menlo,'DejaVu Sans Mono',consolas,'Courier New',monospace\"><span style=\"color: #008000; text-decoration-color: #008000; font-weight: bold\">&gt;&gt;&gt; Đã tìm thấy </span><span style=\"color: #008000; text-decoration-color: #008000; font-weight: bold\">3</span><span style=\"color: #008000; text-decoration-color: #008000; font-weight: bold\"> đoạn văn bản liên quan:</span>\n",
       "</pre>\n"
      ],
      "text/plain": [
       "\u001b[1;32m>>> Đã tìm thấy \u001b[0m\u001b[1;32m3\u001b[0m\u001b[1;32m đoạn văn bản liên quan:\u001b[0m\n"
      ]
     },
     "metadata": {},
     "output_type": "display_data"
    },
    {
     "data": {
      "text/html": [
       "<pre style=\"white-space:pre;overflow-x:auto;line-height:normal;font-family:Menlo,'DejaVu Sans Mono',consolas,'Courier New',monospace\">\n",
       "--- <span style=\"font-weight: bold\">[</span> KẾT QUẢ #<span style=\"color: #008080; text-decoration-color: #008080; font-weight: bold\">1</span> | Trang: Không rõ <span style=\"font-weight: bold\">]</span> ---\n",
       "</pre>\n"
      ],
      "text/plain": [
       "\n",
       "--- \u001b[1m[\u001b[0m KẾT QUẢ #\u001b[1;36m1\u001b[0m | Trang: Không rõ \u001b[1m]\u001b[0m ---\n"
      ]
     },
     "metadata": {},
     "output_type": "display_data"
    },
    {
     "data": {
      "text/html": [
       "<pre style=\"white-space:pre;overflow-x:auto;line-height:normal;font-family:Menlo,'DejaVu Sans Mono',consolas,'Courier New',monospace\">**<span style=\"color: #008080; text-decoration-color: #008080; font-weight: bold\">4.29</span>.** Cho tam giác ABC vuông tại A, có $\\hat<span style=\"font-weight: bold\">{</span>B<span style=\"font-weight: bold\">}</span> = \\alpha$ <span style=\"font-weight: bold\">(</span>H.<span style=\"color: #008080; text-decoration-color: #008080; font-weight: bold\">4.37</span><span style=\"font-weight: bold\">)</span>. a<span style=\"font-weight: bold\">)</span> Hãy viết các tỉ số lượng giác $\\sin \n",
       "\\alpha, \\cos \\alpha$. b<span style=\"font-weight: bold\">)</span> Sử dụng định lí Pythagoras, chứng minh rằng $\\sin^<span style=\"color: #008080; text-decoration-color: #008080; font-weight: bold\">2</span> \\alpha + \\cos^<span style=\"color: #008080; text-decoration-color: #008080; font-weight: bold\">2</span> \\alpha = <span style=\"color: #008080; text-decoration-color: #008080; font-weight: bold\">1</span>$.  \n",
       "**<span style=\"color: #008080; text-decoration-color: #008080; font-weight: bold\">4.30</span>.** **ĐỐ VUI.** Chu vi Trái Đất bằng bao nhiêu? Vào khoảng năm <span style=\"color: #008080; text-decoration-color: #008080; font-weight: bold\">200</span> trước Côn<span style=\"color: #808000; text-decoration-color: #808000\">...</span>\n",
       "</pre>\n"
      ],
      "text/plain": [
       "**\u001b[1;36m4.29\u001b[0m.** Cho tam giác ABC vuông tại A, có $\\hat\u001b[1m{\u001b[0mB\u001b[1m}\u001b[0m = \\alpha$ \u001b[1m(\u001b[0mH.\u001b[1;36m4.37\u001b[0m\u001b[1m)\u001b[0m. a\u001b[1m)\u001b[0m Hãy viết các tỉ số lượng giác $\\sin \n",
       "\\alpha, \\cos \\alpha$. b\u001b[1m)\u001b[0m Sử dụng định lí Pythagoras, chứng minh rằng $\\sin^\u001b[1;36m2\u001b[0m \\alpha + \\cos^\u001b[1;36m2\u001b[0m \\alpha = \u001b[1;36m1\u001b[0m$.  \n",
       "**\u001b[1;36m4.30\u001b[0m.** **ĐỐ VUI.** Chu vi Trái Đất bằng bao nhiêu? Vào khoảng năm \u001b[1;36m200\u001b[0m trước Côn\u001b[33m...\u001b[0m\n"
      ]
     },
     "metadata": {},
     "output_type": "display_data"
    },
    {
     "data": {
      "text/html": [
       "<pre style=\"white-space:pre;overflow-x:auto;line-height:normal;font-family:Menlo,'DejaVu Sans Mono',consolas,'Courier New',monospace\">\n",
       "--- <span style=\"font-weight: bold\">[</span> KẾT QUẢ #<span style=\"color: #008080; text-decoration-color: #008080; font-weight: bold\">2</span> | Trang: Không rõ <span style=\"font-weight: bold\">]</span> ---\n",
       "</pre>\n"
      ],
      "text/plain": [
       "\n",
       "--- \u001b[1m[\u001b[0m KẾT QUẢ #\u001b[1;36m2\u001b[0m | Trang: Không rõ \u001b[1m]\u001b[0m ---\n"
      ]
     },
     "metadata": {},
     "output_type": "display_data"
    },
    {
     "data": {
      "text/html": [
       "<pre style=\"white-space:pre;overflow-x:auto;line-height:normal;font-family:Menlo,'DejaVu Sans Mono',consolas,'Courier New',monospace\">**<span style=\"color: #008080; text-decoration-color: #008080; font-weight: bold\">4</span>. RÚT GỌN BIỂU THỨC CHỨA CĂN THỨC BẬC HAI**  Khi rút gọn biểu thức chứa căn thức bậc hai, ta cần phối hợp các \n",
       "phép tính <span style=\"font-weight: bold\">(</span>cộng, trừ, nhân, chia<span style=\"font-weight: bold\">)</span> và các phép biến đổi đơn giản <span style=\"font-weight: bold\">(</span>đưa thừa số ra ngoài hoặc vào trong dấu căn; khử \n",
       "mẫu của biểu thức lấy căn; trục căn thức ở mẫu<span style=\"font-weight: bold\">)</span>.  =============== TRANG <span style=\"color: #008080; text-decoration-color: #008080; font-weight: bold\">5</span><span style=\"color: #808000; text-decoration-color: #808000\">...</span>\n",
       "</pre>\n"
      ],
      "text/plain": [
       "**\u001b[1;36m4\u001b[0m. RÚT GỌN BIỂU THỨC CHỨA CĂN THỨC BẬC HAI**  Khi rút gọn biểu thức chứa căn thức bậc hai, ta cần phối hợp các \n",
       "phép tính \u001b[1m(\u001b[0mcộng, trừ, nhân, chia\u001b[1m)\u001b[0m và các phép biến đổi đơn giản \u001b[1m(\u001b[0mđưa thừa số ra ngoài hoặc vào trong dấu căn; khử \n",
       "mẫu của biểu thức lấy căn; trục căn thức ở mẫu\u001b[1m)\u001b[0m.  =============== TRANG \u001b[1;36m5\u001b[0m\u001b[33m...\u001b[0m\n"
      ]
     },
     "metadata": {},
     "output_type": "display_data"
    },
    {
     "data": {
      "text/html": [
       "<pre style=\"white-space:pre;overflow-x:auto;line-height:normal;font-family:Menlo,'DejaVu Sans Mono',consolas,'Courier New',monospace\">\n",
       "--- <span style=\"font-weight: bold\">[</span> KẾT QUẢ #<span style=\"color: #008080; text-decoration-color: #008080; font-weight: bold\">3</span> | Trang: Không rõ <span style=\"font-weight: bold\">]</span> ---\n",
       "</pre>\n"
      ],
      "text/plain": [
       "\n",
       "--- \u001b[1m[\u001b[0m KẾT QUẢ #\u001b[1;36m3\u001b[0m | Trang: Không rõ \u001b[1m]\u001b[0m ---\n"
      ]
     },
     "metadata": {},
     "output_type": "display_data"
    },
    {
     "data": {
      "text/html": [
       "<pre style=\"white-space:pre;overflow-x:auto;line-height:normal;font-family:Menlo,'DejaVu Sans Mono',consolas,'Courier New',monospace\">**<span style=\"color: #008080; text-decoration-color: #008080; font-weight: bold\">3.16</span>.** Trong Vật lí, tốc độ <span style=\"font-weight: bold\">(</span>m/s<span style=\"font-weight: bold\">)</span> của một vật đang bay được cho bởi công thức $v = \\sqrt<span style=\"font-weight: bold\">{</span>\\frac<span style=\"font-weight: bold\">{</span>2E<span style=\"font-weight: bold\">}{</span>m<span style=\"font-weight: bold\">}}</span>$, trong \n",
       "đó E là động năng của vật <span style=\"font-weight: bold\">(</span>tính bằng Joule, kí hiệu là J<span style=\"font-weight: bold\">)</span> và m <span style=\"font-weight: bold\">(</span>kg<span style=\"font-weight: bold\">)</span> là khối lượng của vật <span style=\"font-weight: bold\">(</span>Theo sách Vật lí đại \n",
       "cương, NXB Giáo dục Việt Nam, <span style=\"color: #008080; text-decoration-color: #008080; font-weight: bold\">2016</span><span style=\"font-weight: bold\">)</span>. Tính tốc độ bay của một vật khi biết <span style=\"color: #808000; text-decoration-color: #808000\">...</span>\n",
       "</pre>\n"
      ],
      "text/plain": [
       "**\u001b[1;36m3.16\u001b[0m.** Trong Vật lí, tốc độ \u001b[1m(\u001b[0mm/s\u001b[1m)\u001b[0m của một vật đang bay được cho bởi công thức $v = \\sqrt\u001b[1m{\u001b[0m\\frac\u001b[1m{\u001b[0m2E\u001b[1m}\u001b[0m\u001b[1m{\u001b[0mm\u001b[1m}\u001b[0m\u001b[1m}\u001b[0m$, trong \n",
       "đó E là động năng của vật \u001b[1m(\u001b[0mtính bằng Joule, kí hiệu là J\u001b[1m)\u001b[0m và m \u001b[1m(\u001b[0mkg\u001b[1m)\u001b[0m là khối lượng của vật \u001b[1m(\u001b[0mTheo sách Vật lí đại \n",
       "cương, NXB Giáo dục Việt Nam, \u001b[1;36m2016\u001b[0m\u001b[1m)\u001b[0m. Tính tốc độ bay của một vật khi biết \u001b[33m...\u001b[0m\n"
      ]
     },
     "metadata": {},
     "output_type": "display_data"
    },
    {
     "data": {
      "text/html": [
       "<pre style=\"white-space:pre;overflow-x:auto;line-height:normal;font-family:Menlo,'DejaVu Sans Mono',consolas,'Courier New',monospace\">\n",
       "<span style=\"color: #808000; text-decoration-color: #808000; font-weight: bold\">&gt;&gt;&gt; Đang tìm kiếm với truy vấn:</span> <span style=\"color: #008000; text-decoration-color: #008000\">'Giải bài toán bằng cách lập hệ phương trình'</span>\n",
       "</pre>\n"
      ],
      "text/plain": [
       "\n",
       "\u001b[1;33m>>> Đang tìm kiếm với truy vấn:\u001b[0m \u001b[32m'Giải bài toán bằng cách lập hệ phương trình'\u001b[0m\n"
      ]
     },
     "metadata": {},
     "output_type": "display_data"
    },
    {
     "data": {
      "text/html": [
       "<pre style=\"white-space:pre;overflow-x:auto;line-height:normal;font-family:Menlo,'DejaVu Sans Mono',consolas,'Courier New',monospace\"><span style=\"color: #008000; text-decoration-color: #008000; font-weight: bold\">&gt;&gt;&gt; Đã tìm thấy </span><span style=\"color: #008000; text-decoration-color: #008000; font-weight: bold\">3</span><span style=\"color: #008000; text-decoration-color: #008000; font-weight: bold\"> đoạn văn bản liên quan:</span>\n",
       "</pre>\n"
      ],
      "text/plain": [
       "\u001b[1;32m>>> Đã tìm thấy \u001b[0m\u001b[1;32m3\u001b[0m\u001b[1;32m đoạn văn bản liên quan:\u001b[0m\n"
      ]
     },
     "metadata": {},
     "output_type": "display_data"
    },
    {
     "data": {
      "text/html": [
       "<pre style=\"white-space:pre;overflow-x:auto;line-height:normal;font-family:Menlo,'DejaVu Sans Mono',consolas,'Courier New',monospace\">\n",
       "--- <span style=\"font-weight: bold\">[</span> KẾT QUẢ #<span style=\"color: #008080; text-decoration-color: #008080; font-weight: bold\">1</span> | Trang: Không rõ <span style=\"font-weight: bold\">]</span> ---\n",
       "</pre>\n"
      ],
      "text/plain": [
       "\n",
       "--- \u001b[1m[\u001b[0m KẾT QUẢ #\u001b[1;36m1\u001b[0m | Trang: Không rõ \u001b[1m]\u001b[0m ---\n"
      ]
     },
     "metadata": {},
     "output_type": "display_data"
    },
    {
     "data": {
      "text/html": [
       "<pre style=\"white-space:pre;overflow-x:auto;line-height:normal;font-family:Menlo,'DejaVu Sans Mono',consolas,'Courier New',monospace\">**Nhận xét.** các bước giải một bài toán bằng cách lập hệ phương trình: **Bước <span style=\"color: #008080; text-decoration-color: #008080; font-weight: bold\">1</span>.** Lập hệ phương trình: - Chọn ẩn \n",
       "số <span style=\"font-weight: bold\">(</span>thường chọn hai ẩn số<span style=\"font-weight: bold\">)</span> và đặt điều kiện thích hợp cho các ẩn số; - Biểu diễn các đại lượng chưa biết theo ẩn và\n",
       "các đại lượng đã biết; - Lập hệ phương trình biểu thị mối quan hệ giữ<span style=\"color: #808000; text-decoration-color: #808000\">...</span>\n",
       "</pre>\n"
      ],
      "text/plain": [
       "**Nhận xét.** các bước giải một bài toán bằng cách lập hệ phương trình: **Bước \u001b[1;36m1\u001b[0m.** Lập hệ phương trình: - Chọn ẩn \n",
       "số \u001b[1m(\u001b[0mthường chọn hai ẩn số\u001b[1m)\u001b[0m và đặt điều kiện thích hợp cho các ẩn số; - Biểu diễn các đại lượng chưa biết theo ẩn và\n",
       "các đại lượng đã biết; - Lập hệ phương trình biểu thị mối quan hệ giữ\u001b[33m...\u001b[0m\n"
      ]
     },
     "metadata": {},
     "output_type": "display_data"
    },
    {
     "data": {
      "text/html": [
       "<pre style=\"white-space:pre;overflow-x:auto;line-height:normal;font-family:Menlo,'DejaVu Sans Mono',consolas,'Courier New',monospace\">\n",
       "--- <span style=\"font-weight: bold\">[</span> KẾT QUẢ #<span style=\"color: #008080; text-decoration-color: #008080; font-weight: bold\">2</span> | Trang: Không rõ <span style=\"font-weight: bold\">]</span> ---\n",
       "</pre>\n"
      ],
      "text/plain": [
       "\n",
       "--- \u001b[1m[\u001b[0m KẾT QUẢ #\u001b[1;36m2\u001b[0m | Trang: Không rõ \u001b[1m]\u001b[0m ---\n"
      ]
     },
     "metadata": {},
     "output_type": "display_data"
    },
    {
     "data": {
      "text/html": [
       "<pre style=\"white-space:pre;overflow-x:auto;line-height:normal;font-family:Menlo,'DejaVu Sans Mono',consolas,'Courier New',monospace\">**Chương II. PHƯƠNG TRÌNH VÀ BẤT PHƯƠNG TRÌNH BẬC NHẤT MỘT ẨN** Bài <span style=\"color: #008080; text-decoration-color: #008080; font-weight: bold\">4</span>. Phương trình quy về phương trình bậc nhất \n",
       "một ẩn <span style=\"color: #808000; text-decoration-color: #808000\">...</span> <span style=\"color: #008080; text-decoration-color: #008080; font-weight: bold\">26</span> Bài <span style=\"color: #008080; text-decoration-color: #008080; font-weight: bold\">5</span>. Bất đẳng thức và tính chất <span style=\"color: #808000; text-decoration-color: #808000\">...</span> <span style=\"color: #008080; text-decoration-color: #008080; font-weight: bold\">31</span> Luyện tập chung <span style=\"color: #808000; text-decoration-color: #808000\">...</span> <span style=\"color: #008080; text-decoration-color: #008080; font-weight: bold\">36</span> Bài <span style=\"color: #008080; text-decoration-color: #008080; font-weight: bold\">6</span>. Bất phương trình bậc nhất một \n",
       "ẩn <span style=\"color: #808000; text-decoration-color: #808000\">...</span> <span style=\"color: #008080; text-decoration-color: #008080; font-weight: bold\">38</span> Bài tập cuối chương II <span style=\"color: #808000; text-decoration-color: #808000\">...</span> <span style=\"color: #008080; text-decoration-color: #008080; font-weight: bold\">42</span>  **Chương III. CĂN BẬC HAI VÀ CĂ<span style=\"color: #808000; text-decoration-color: #808000\">...</span>\n",
       "</pre>\n"
      ],
      "text/plain": [
       "**Chương II. PHƯƠNG TRÌNH VÀ BẤT PHƯƠNG TRÌNH BẬC NHẤT MỘT ẨN** Bài \u001b[1;36m4\u001b[0m. Phương trình quy về phương trình bậc nhất \n",
       "một ẩn \u001b[33m...\u001b[0m \u001b[1;36m26\u001b[0m Bài \u001b[1;36m5\u001b[0m. Bất đẳng thức và tính chất \u001b[33m...\u001b[0m \u001b[1;36m31\u001b[0m Luyện tập chung \u001b[33m...\u001b[0m \u001b[1;36m36\u001b[0m Bài \u001b[1;36m6\u001b[0m. Bất phương trình bậc nhất một \n",
       "ẩn \u001b[33m...\u001b[0m \u001b[1;36m38\u001b[0m Bài tập cuối chương II \u001b[33m...\u001b[0m \u001b[1;36m42\u001b[0m  **Chương III. CĂN BẬC HAI VÀ CĂ\u001b[33m...\u001b[0m\n"
      ]
     },
     "metadata": {},
     "output_type": "display_data"
    },
    {
     "data": {
      "text/html": [
       "<pre style=\"white-space:pre;overflow-x:auto;line-height:normal;font-family:Menlo,'DejaVu Sans Mono',consolas,'Courier New',monospace\">\n",
       "--- <span style=\"font-weight: bold\">[</span> KẾT QUẢ #<span style=\"color: #008080; text-decoration-color: #008080; font-weight: bold\">3</span> | Trang: Không rõ <span style=\"font-weight: bold\">]</span> ---\n",
       "</pre>\n"
      ],
      "text/plain": [
       "\n",
       "--- \u001b[1m[\u001b[0m KẾT QUẢ #\u001b[1;36m3\u001b[0m | Trang: Không rõ \u001b[1m]\u001b[0m ---\n"
      ]
     },
     "metadata": {},
     "output_type": "display_data"
    },
    {
     "data": {
      "text/html": [
       "<pre style=\"white-space:pre;overflow-x:auto;line-height:normal;font-family:Menlo,'DejaVu Sans Mono',consolas,'Courier New',monospace\">=============== TRANG <span style=\"color: #008080; text-decoration-color: #008080; font-weight: bold\">13</span> ===============  **<span style=\"color: #008080; text-decoration-color: #008080; font-weight: bold\">2</span>. PHƯƠNG PHÁP CỘNG ĐẠI SỐ**  **Làm quen với phương pháp cộng đại số** \n",
       "**HĐ2:** Cho hệ phương trình <span style=\"font-weight: bold\">(</span>II<span style=\"font-weight: bold\">)</span> $\\begin<span style=\"font-weight: bold\">{</span>cases<span style=\"font-weight: bold\">}</span> 2x + 2y = <span style=\"color: #008080; text-decoration-color: #008080; font-weight: bold\">3</span> \\\\ x - 2y = <span style=\"color: #008080; text-decoration-color: #008080; font-weight: bold\">6</span> \\end<span style=\"font-weight: bold\">{</span>cases<span style=\"font-weight: bold\">}</span>$. Ta thấy hệ số của y trong \n",
       "hai phương trình là hai số đối nhau <span style=\"font-weight: bold\">(</span>tổng của chúng bằng <span style=\"color: #008080; text-decoration-color: #008080; font-weight: bold\">0</span><span style=\"font-weight: bold\">)</span>. Từ đặc đ<span style=\"color: #808000; text-decoration-color: #808000\">...</span>\n",
       "</pre>\n"
      ],
      "text/plain": [
       "=============== TRANG \u001b[1;36m13\u001b[0m ===============  **\u001b[1;36m2\u001b[0m. PHƯƠNG PHÁP CỘNG ĐẠI SỐ**  **Làm quen với phương pháp cộng đại số** \n",
       "**HĐ2:** Cho hệ phương trình \u001b[1m(\u001b[0mII\u001b[1m)\u001b[0m $\\begin\u001b[1m{\u001b[0mcases\u001b[1m}\u001b[0m 2x + 2y = \u001b[1;36m3\u001b[0m \\\\ x - 2y = \u001b[1;36m6\u001b[0m \\end\u001b[1m{\u001b[0mcases\u001b[1m}\u001b[0m$. Ta thấy hệ số của y trong \n",
       "hai phương trình là hai số đối nhau \u001b[1m(\u001b[0mtổng của chúng bằng \u001b[1;36m0\u001b[0m\u001b[1m)\u001b[0m. Từ đặc đ\u001b[33m...\u001b[0m\n"
      ]
     },
     "metadata": {},
     "output_type": "display_data"
    }
   ],
   "source": [
    "# ==============================================================================\n",
    "# CELL 6: KIỂM TRA CHẤT LƯỢNG KHO TRI THỨC RAG\n",
    "# ==============================================================================\n",
    "\n",
    "def test_knowledge_base(query: str, top_k: int = 3):\n",
    "    \"\"\"\n",
    "    Hàm để kiểm tra kho tri thức bằng một câu truy vấn.\n",
    "    \"\"\"\n",
    "    if not vector_store:\n",
    "        print(\"❌ Kho tri thức chưa được tải.\")\n",
    "        return\n",
    "\n",
    "    console.print(f\"\\n[bold yellow]>>> Đang tìm kiếm với truy vấn:[/bold yellow] '{query}'\")\n",
    "    \n",
    "    # Tạo một retriever để lấy ra k kết quả liên quan nhất\n",
    "    retriever = vector_store.as_retriever(search_kwargs={\"k\": top_k})\n",
    "    \n",
    "    # Thực hiện tìm kiếm\n",
    "    try:\n",
    "        relevant_docs = retriever.invoke(query)\n",
    "        \n",
    "        if not relevant_docs:\n",
    "            print(\"⚠️ Không tìm thấy tài liệu nào liên quan.\")\n",
    "            return\n",
    "\n",
    "        console.print(f\"[bold green]>>> Đã tìm thấy {len(relevant_docs)} đoạn văn bản liên quan:[/bold green]\")\n",
    "        \n",
    "        for i, doc in enumerate(relevant_docs):\n",
    "            # Lấy một đoạn preview ngắn của nội dung\n",
    "            content_preview = doc.page_content.replace('\\n', ' ').strip()[:300] + \"...\"\n",
    "            \n",
    "            # Lấy thông tin metadata (nếu có, ví dụ như số trang)\n",
    "            page_number = doc.metadata.get('page', 'Không rõ')\n",
    "            \n",
    "            console.print(f\"\\n--- [ KẾT QUẢ #{i+1} | Trang: {page_number} ] ---\")\n",
    "            console.print(f\"{content_preview}\")\n",
    "\n",
    "    except Exception as e:\n",
    "        print(f\"❌ Đã xảy ra lỗi khi tìm kiếm: {e}\")\n",
    "\n",
    "# --- THỰC HIỆN KIỂM TRA ---\n",
    "if vector_store:\n",
    "    # Kịch bản 1: Tìm một chủ đề cụ thể\n",
    "    test_knowledge_base(query=\"Tỉ số lượng giác của góc nhọn\")\n",
    "    \n",
    "    # Kịch bản 2: Tìm một định lý\n",
    "    test_knowledge_base(query=\"Định lí Pytago\")\n",
    "    \n",
    "    # Kịch bản 3: Tìm một dạng bài tập\n",
    "    test_knowledge_base(query=\"Giải bài toán bằng cách lập hệ phương trình\")\n",
    "else:\n",
    "    print(\"Vui lòng chạy lại Cell 1.5 để tải kho tri thức.\")"
   ]
  },
  {
   "cell_type": "code",
   "execution_count": null,
   "id": "1119c2f1",
   "metadata": {},
   "outputs": [],
   "source": []
  }
 ],
 "metadata": {
  "kernelspec": {
   "display_name": "plan_venv",
   "language": "python",
   "name": "python3"
  },
  "language_info": {
   "codemirror_mode": {
    "name": "ipython",
    "version": 3
   },
   "file_extension": ".py",
   "mimetype": "text/x-python",
   "name": "python",
   "nbconvert_exporter": "python",
   "pygments_lexer": "ipython3",
   "version": "3.11.8"
  }
 },
 "nbformat": 4,
 "nbformat_minor": 5
}
