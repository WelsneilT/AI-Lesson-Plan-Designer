{
 "cells": [
  {
   "cell_type": "code",
   "execution_count": 1,
   "id": "d0676273",
   "metadata": {},
   "outputs": [
    {
     "name": "stderr",
     "output_type": "stream",
     "text": [
      "c:\\Users\\Hi\\Documents\\IAI - UET\\AI-Lesson-Plan-Generator\\plan_venv\\Lib\\site-packages\\IPython\\core\\interactiveshell.py:3699: LangChainDeprecationWarning: As of langchain-core 0.3.0, LangChain uses pydantic v2 internally. The langchain_core.pydantic_v1 module was a compatibility shim for pydantic v1, and should no longer be used. Please update the code to import from Pydantic directly.\n",
      "\n",
      "For example, replace imports like: `from langchain_core.pydantic_v1 import BaseModel`\n",
      "with: `from pydantic import BaseModel`\n",
      "or the v1 compatibility namespace if you are working in a code base that has not been fully upgraded to pydantic 2 yet. \tfrom pydantic.v1 import BaseModel\n",
      "\n",
      "  exec(code_obj, self.user_global_ns, self.user_ns)\n"
     ]
    },
    {
     "name": "stdout",
     "output_type": "stream",
     "text": [
      "✅ LLM (Groq) đã được khởi tạo thành công.\n"
     ]
    }
   ],
   "source": [
    "# ==============================================================================\n",
    "# CELL 1: CÀI ĐẶT, IMPORTS & THIẾT LẬP BAN ĐẦU (CẬP NHẬT)\n",
    "# ==============================================================================\n",
    "import os\n",
    "import json\n",
    "import asyncio\n",
    "from typing import TypedDict, Annotated, List, Dict, Any, Literal, Optional\n",
    "import operator\n",
    "\n",
    "# Tải các biến môi trường\n",
    "from dotenv import load_dotenv \n",
    "load_dotenv()\n",
    "\n",
    "# LangChain & LangGraph\n",
    "from langchain_core.messages import BaseMessage, HumanMessage\n",
    "from langchain_core.pydantic_v1 import BaseModel, Field\n",
    "from langchain_groq import ChatGroq\n",
    "from langgraph.graph import StateGraph, END\n",
    "from langgraph.graph.message import add_messages\n",
    "\n",
    "# Thư viện hỗ trợ\n",
    "from rich.console import Console\n",
    "from rich.markdown import Markdown\n",
    "from rich.pretty import pprint\n",
    "from IPython.display import Image, display\n",
    "\n",
    "# --- CẤU HÌNH LOG ---\n",
    "VERBOSE_MODE = True # Đặt là True để xem log chi tiết, False để chạy im lặng\n",
    "\n",
    "# --- KHỞI TẠO CÁC CÔNG CỤ IN ẤN ---\n",
    "console = Console()\n",
    "\n",
    "def print_step(message: str):\n",
    "    \"\"\"Hàm in một bước trong quy trình.\"\"\"\n",
    "    if VERBOSE_MODE:\n",
    "        console.print(f\"[bold cyan]>[/bold cyan] {message}\")\n",
    "\n",
    "def print_result(data: Any, title: str = \"Kết quả\"):\n",
    "    \"\"\"Hàm in kết quả (như JSON) một cách đẹp mắt.\"\"\"\n",
    "    if VERBOSE_MODE:\n",
    "        console.print(f\"[bold green]✔️ {title}:[/bold green]\")\n",
    "        pprint(data, expand_all=True)\n",
    "\n",
    "# --- KHỞI TẠO LLM ---\n",
    "try:\n",
    "    llm = ChatGroq(\n",
    "        temperature=0.1, model=\"llama3-70b-8192\",\n",
    "        api_key=os.getenv(\"GROQ_API_KEY\"), max_tokens=2048\n",
    "    )\n",
    "    print(\"✅ LLM (Groq) đã được khởi tạo thành công.\")\n",
    "except Exception as e:\n",
    "    print(f\"❌ LỖI: Không thể khởi tạo LLM. Lỗi: {e}\")\n",
    "    llm = None"
   ]
  },
  {
   "cell_type": "code",
   "execution_count": 2,
   "id": "9aef7728",
   "metadata": {},
   "outputs": [
    {
     "name": "stdout",
     "output_type": "stream",
     "text": [
      "✅ Đang tải kho tri thức từ: vector_store/sgk_toan_9...\n"
     ]
    },
    {
     "name": "stderr",
     "output_type": "stream",
     "text": [
      "c:\\Users\\Hi\\Documents\\IAI - UET\\AI-Lesson-Plan-Generator\\plan_venv\\Lib\\site-packages\\tqdm\\auto.py:21: TqdmWarning: IProgress not found. Please update jupyter and ipywidgets. See https://ipywidgets.readthedocs.io/en/stable/user_install.html\n",
      "  from .autonotebook import tqdm as notebook_tqdm\n"
     ]
    },
    {
     "name": "stdout",
     "output_type": "stream",
     "text": [
      "🎉 Tải kho tri thức thành công!\n"
     ]
    }
   ],
   "source": [
    "# ==============================================================================\n",
    "# CELL 1.5: TẢI KHO TRI THỨC RAG ĐÃ XỬ LÝ SẴN\n",
    "# ==============================================================================\n",
    "from langchain_community.vectorstores import FAISS\n",
    "from langchain_huggingface import HuggingFaceEmbeddings\n",
    "\n",
    "# --- CẤU HÌNH ---\n",
    "VECTOR_STORE_PATH = \"vector_store/sgk_toan_9\"\n",
    "EMBEDDING_MODEL = \"all-MiniLM-L6-v2\"\n",
    "\n",
    "# --- HÀM TẢI KHO TRI THỨC ---\n",
    "def load_vector_store():\n",
    "    \"\"\"Tải kho tri thức đã được xây dựng từ local.\"\"\"\n",
    "    if not os.path.exists(VECTOR_STORE_PATH):\n",
    "        print(f\"❌ LỖI: Không tìm thấy kho tri thức tại '{VECTOR_STORE_PATH}'.\")\n",
    "        print(\"Vui lòng chạy file 'build_knowledge_base.py' trước để tạo kho tri thức.\")\n",
    "        return None\n",
    "    \n",
    "    try:\n",
    "        print(f\"✅ Đang tải kho tri thức từ: {VECTOR_STORE_PATH}...\")\n",
    "        embeddings = HuggingFaceEmbeddings(model_name=EMBEDDING_MODEL)\n",
    "        db = FAISS.load_local(VECTOR_STORE_PATH, embeddings, allow_dangerous_deserialization=True)\n",
    "        print(\"🎉 Tải kho tri thức thành công!\")\n",
    "        return db\n",
    "    except Exception as e:\n",
    "        print(f\"❌ LỖI khi tải kho tri thức: {e}\")\n",
    "        return None\n",
    "\n",
    "# --- TẢI VÀ SỬ DỤNG ---\n",
    "vector_store = load_vector_store()"
   ]
  },
  {
   "cell_type": "code",
   "execution_count": 3,
   "id": "96baa7be",
   "metadata": {},
   "outputs": [
    {
     "name": "stdout",
     "output_type": "stream",
     "text": [
      "✅ 'TeacherState' (phiên bản cuối cùng) đã được định nghĩa.\n"
     ]
    }
   ],
   "source": [
    "# ==============================================================================\n",
    "# CELL 2: ĐỊNH NGHĨA STATE CHO HỆ THỐNG (PHIÊN BẢN CUỐI CÙNG)\n",
    "# ==============================================================================\n",
    "from langgraph.graph.message import add_messages # <-- Import add_messages ở đây\n",
    "\n",
    "# --- Hàm tiện ích ---\n",
    "def merge_dicts(dict1: Dict[str, Any], dict2: Dict[str, Any]) -> Dict[str, Any]:\n",
    "    merged = dict1.copy()\n",
    "    for key, value in dict2.items():\n",
    "        if key in merged and isinstance(merged[key], dict) and isinstance(value, dict):\n",
    "            merged[key] = merge_dicts(merged[key], value)\n",
    "        else:\n",
    "            merged[key] = value\n",
    "    return merged\n",
    "\n",
    "# --- Định nghĩa các cấu trúc dữ liệu con ---\n",
    "class AnalyzedObjective(TypedDict):\n",
    "    action_verb: str\n",
    "    bloom_level: int\n",
    "    topic: str\n",
    "    grade_level: str\n",
    "    constraints: List[str]\n",
    "\n",
    "class PedagogyStrategy(TypedDict):\n",
    "    chosen_pedagogy: str\n",
    "    pedagogy_rationale: str\n",
    "    suggested_structure: List[Dict[str, Any]]\n",
    "\n",
    "class Task(TypedDict):\n",
    "    task_id: int\n",
    "    task_name: str\n",
    "    task_description: str\n",
    "    status: Literal[\"pending\", \"completed\"]\n",
    "\n",
    "# --- Định nghĩa State chính (phiên bản hoàn chỉnh nhất) ---\n",
    "class TeacherState(TypedDict):\n",
    "    # Dùng add_messages là cách làm đúng chuẩn cho kênh messages\n",
    "    messages: Annotated[List[BaseMessage], add_messages]\n",
    "    \n",
    "    analyzed_objective: Optional[AnalyzedObjective]\n",
    "    pedagogy_strategy: Optional[PedagogyStrategy]\n",
    "    task_list: Optional[List[Task]]\n",
    "    current_task_id: Optional[int]\n",
    "    \n",
    "    # Dùng merge_dicts để các agent không ghi đè kết quả của nhau\n",
    "    agent_outputs: Annotated[Dict[str, Any], merge_dicts] \n",
    "    \n",
    "    final_lesson_plan: Optional[str]\n",
    "    \n",
    "    # Kênh này dùng để điều phối, không cần decorator đặc biệt\n",
    "    next_agent: str\n",
    "\n",
    "print(\"✅ 'TeacherState' (phiên bản cuối cùng) đã được định nghĩa.\")"
   ]
  },
  {
   "cell_type": "code",
   "execution_count": 30,
   "id": "de699549",
   "metadata": {},
   "outputs": [],
   "source": [
    "# ==============================================================================\n",
    "# CELL 3: XÂY DỰNG CÁC AGENT (PHIÊN BẢN SỬA LỖI CUỐI CÙNG)\n",
    "# ==============================================================================\n",
    "import json\n",
    "from langchain_core.pydantic_v1 import BaseModel, Field\n",
    "from typing import TypedDict, Annotated, List, Dict, Any, Literal, Optional\n",
    "\n",
    "# --- Các class định nghĩa cấu trúc (Giữ nguyên) ---\n",
    "class ParsedObjective(BaseModel):\n",
    "    action_verb: str = Field(description=\"Động từ hành động chính, ví dụ: 'phân tích', 'trình bày'.\")\n",
    "    bloom_level: int = Field(description=\"Cấp độ tư duy theo thang Bloom (1-6).\")\n",
    "    topic: str = Field(description=\"Chủ đề chính của bài học.\")\n",
    "    grade_level: str = Field(description=\"Cấp lớp của học sinh, ví dụ: 'Lớp 9'.\")\n",
    "\n",
    "class PedagogyChoice(BaseModel):\n",
    "    chosen_pedagogy: str = Field(description=\"Tên phương pháp sư phạm được chọn.\")\n",
    "    pedagogy_rationale: str = Field(description=\"Lý do tại sao phương pháp này lại phù hợp.\")\n",
    "\n",
    "class TaskList(BaseModel):\n",
    "    tasks: List[Dict[str, str]] = Field(description=\"Danh sách nhiệm vụ, mỗi nhiệm vụ có 'task_name' và 'task_description'.\")\n",
    "\n",
    "class TaskClassification(BaseModel):\n",
    "    agent_category: Literal[\"activity_designer\", \"resource_scout\", \"assessment_creator\", \"unknown\"] = Field(description=\"Loại agent nên thực hiện nhiệm vụ này.\")\n",
    "\n",
    "# --- Các agent tuần tự ban đầu ---\n",
    "\n",
    "async def objective_interpreter_agent(state: TeacherState) -> Dict[str, Any]:\n",
    "    print_step(\"`Agent: Objective Interpreter` đang phân tích mục tiêu...\")\n",
    "    user_request = state['messages'][-1].content\n",
    "    prompt = f\"\"\"Phân tích yêu cầu giáo dục sau để trích xuất mục tiêu học tập.\n",
    "    - QUAN TRỌNG: Nếu có nhiều động từ, hãy chọn động từ ở cấp độ tư duy cao nhất (ví dụ: chọn 'vận dụng' thay vì 'hiểu').\n",
    "    - THANG ĐO BLOOM: 1-Nhớ, 2-Hiểu, 3-Vận dụng, 4-Phân tích, 5-Đánh giá, 6-Sáng tạo.\n",
    "    - YÊU CẦU: \"{user_request}\"\n",
    "\n",
    "    Chỉ trả về một đối tượng JSON duy nhất theo định dạng sau:\n",
    "    {{\n",
    "      \"action_verb\": \"động từ hành động\",\n",
    "      \"bloom_level\": \"số nguyên cấp độ bloom\",\n",
    "      \"topic\": \"chủ đề bài học\",\n",
    "      \"grade_level\": \"cấp lớp\"\n",
    "    }}\n",
    "    \"\"\"\n",
    "    structured_llm = llm.with_structured_output(ParsedObjective, method=\"json_mode\")\n",
    "    parsed_result = await structured_llm.ainvoke(prompt)\n",
    "    analyzed_objective_dict = parsed_result.dict()\n",
    "    analyzed_objective_dict[\"constraints\"] = []\n",
    "    print_result(analyzed_objective_dict, \"Mục tiêu đã phân tích\")\n",
    "    return {\"analyzed_objective\": analyzed_objective_dict}\n",
    "\n",
    "async def pedagogy_strategist_agent(state: TeacherState) -> Dict[str, Any]:\n",
    "    print_step(\"\\n---\\n### 🧑‍🏫 `Agent: Pedagogy Strategist` Bắt đầu...\")\n",
    "    objective = state['analyzed_objective']\n",
    "    prompt = f\"\"\"Bạn là chuyên gia sư phạm. Dựa vào mục tiêu, hãy chọn một chiến lược dạy học phù hợp nhất từ các lựa chọn sau: Direct Instruction, Collaborative Learning, Inquiry-Based Learning (IBL), Hybrid Model.\n",
    "    MỤC TIÊU: {objective}\n",
    "\n",
    "    **YÊU CẦU QUAN TRỌNG:** Toàn bộ câu trả lời, bao gồm cả lý do, phải bằng Tiếng Việt.\n",
    "\n",
    "    Chỉ trả về một đối tượng JSON hợp lệ có dạng:\n",
    "    {{\n",
    "      \"chosen_pedagogy\": \"Tên phương pháp\",\n",
    "      \"pedagogy_rationale\": \"Lý do chi tiết bằng Tiếng Việt\"\n",
    "    }}\n",
    "    \"\"\"\n",
    "    response = await llm.with_structured_output(schema=PedagogyChoice, method=\"json_mode\").ainvoke(prompt)\n",
    "    pedagogy_strategy_dict = response.dict()\n",
    "    pedagogy_strategy_dict[\"suggested_structure\"] = []\n",
    "    print_result(f\"**Chiến lược:** {response.chosen_pedagogy}\\n**Lý do:** {response.pedagogy_rationale}\")\n",
    "    return {\"pedagogy_strategy\": pedagogy_strategy_dict}\n",
    "\n",
    "# --- SỬA LỖI ƯU TIÊN #1: Đảm bảo có nhiệm vụ đánh giá ---\n",
    "async def plan_delegator_agent(state: TeacherState) -> Dict[str, Any]:\n",
    "    print_step(\"\\n---\\n### 👷 `Agent: Plan Delegator` Bắt đầu...\")\n",
    "    objective = state['analyzed_objective']\n",
    "    strategy = state['pedagogy_strategy']\n",
    "    prompt = f\"\"\"Bạn là quản lý dự án giáo dục. Dựa trên mục tiêu và chiến lược, chia nhỏ công việc tạo giáo án thành một danh sách các nhiệm vụ cụ thể.\n",
    "    Mục tiêu: {objective['topic']} (Bloom: {objective['bloom_level']})\n",
    "    Chiến lược: {strategy['chosen_pedagogy']}\n",
    "\n",
    "    **YÊU CẦU BẮT BUỘC:**\n",
    "    1.  Tạo một chuỗi các hoạt động dạy học logic theo đúng chiến lược đã chọn.\n",
    "    2.  **PHẢI có ít nhất MỘT nhiệm vụ cuối cùng để \"Tạo câu hỏi/bài tập đánh giá\" hoặc \"Soạn bài tập củng cố kiến thức\".** Nhiệm vụ này phải rõ ràng để giao cho chuyên gia đánh giá.\n",
    "\n",
    "    Trả lời bằng một đối tượng JSON duy nhất chứa một key là \"tasks\", giá trị là một danh sách các đối tượng JSON, mỗi đối tượng có \"task_name\" và \"task_description\".\n",
    "    \"\"\"\n",
    "    structured_llm = llm.with_structured_output(TaskList, method=\"json_mode\")\n",
    "    task_list_result = await structured_llm.ainvoke(prompt)\n",
    "    tasks_with_status = [{\"task_id\": i, \"task_name\": t['task_name'], \"task_description\": t['task_description'], \"status\": \"pending\"} for i, t in enumerate(task_list_result.tasks)]\n",
    "    print_result(f\"**Đã tạo {len(tasks_with_status)} nhiệm vụ.**\")\n",
    "    return {\"task_list\": tasks_with_status}\n",
    "\n",
    "async def task_dispatcher_agent(state: TeacherState) -> Dict[str, Any]:\n",
    "    print_step(\"`Agent: Task Dispatcher` đang phân loại nhiệm vụ...\")\n",
    "    current_task_id = state.get(\"current_task_id\")\n",
    "    task_list = state.get(\"task_list\", [])\n",
    "    task_to_run = next((task for task in task_list if task.get(\"task_id\") == current_task_id), None)\n",
    "    if not task_to_run: return {\"next_agent\": \"mark_task_complete\"}\n",
    "    task_description = task_to_run['task_description']\n",
    "    prompt = f\"\"\"Phân loại nhiệm vụ sau vào agent phù hợp nhất: 'activity_designer', 'resource_scout', 'assessment_creator', hoặc 'unknown'.\n",
    "    NHIỆM VỤ: \"{task_description}\"\n",
    "\n",
    "    Trả lời bằng một đối tượng JSON duy nhất có dạng: {{\"agent_category\": \"tên_agent\"}}\n",
    "    \"\"\"\n",
    "    structured_llm = llm.with_structured_output(TaskClassification, method=\"json_mode\")\n",
    "    classification_result = await structured_llm.ainvoke(prompt)\n",
    "    next_agent = classification_result.agent_category\n",
    "    if next_agent == \"unknown\":\n",
    "        print_step(f\"Không nhận ra nhiệm vụ. Bỏ qua.\")\n",
    "        return {\"next_agent\": \"mark_task_complete\"}\n",
    "    print_step(f\"Giao nhiệm vụ cho `{next_agent}`.\")\n",
    "    return {\"next_agent\": next_agent}\n",
    "\n",
    "# ... (Hàm update_agent_outputs và class LearningActivity giữ nguyên) ...\n",
    "def update_agent_outputs(state: TeacherState, key: str, value: Any) -> Dict[str, Any]:\n",
    "    outputs = state.get(\"agent_outputs\", {}).copy()\n",
    "    if key not in outputs: outputs[key] = []\n",
    "    outputs[key].append(value)\n",
    "    return {\"agent_outputs\": outputs}\n",
    "\n",
    "class LearningActivity(BaseModel):\n",
    "    activity_name: str = Field(description=\"Một cái tên hấp dẫn và rõ ràng cho hoạt động, ví dụ: 'Trạm kiến thức', 'Thí nghiệm vui'.\")\n",
    "    description: str = Field(description=\"Mô tả chi tiết các bước thực hiện hoạt động cho giáo viên và học sinh.\")\n",
    "    duration_minutes: int = Field(description=\"Thời gian dự kiến để hoàn thành hoạt động (tính bằng phút).\")\n",
    "    activity_type: str = Field(description=\"Loại hoạt động, ví dụ: 'Khởi động', 'Làm việc nhóm', 'Thực hành cá nhân', 'Thí nghiệm'.\")\n",
    "    \n",
    "\n",
    "async def activity_designer_agent(state: TeacherState) -> Dict[str, Any]:\n",
    "    print_step(\"`Agent: Activity Designer` đang thiết kế hoạt động...\")\n",
    "    objective = state['analyzed_objective']\n",
    "    current_task_id = state.get(\"current_task_id\")\n",
    "    task_list = state.get(\"task_list\", [])\n",
    "    task_to_run = next((task for task in task_list if task.get(\"task_id\") == current_task_id), None)\n",
    "    \n",
    "    # Lấy thêm ngữ cảnh từ RAG\n",
    "    resources_summary = json.dumps(state.get('agent_outputs', {}).get('resources', []), indent=2, ensure_ascii=False)\n",
    "\n",
    "    if not task_to_run:\n",
    "        return {}\n",
    "        \n",
    "    prompt = f\"\"\"Bạn là chuyên gia thiết kế hoạt động dạy học sáng tạo. Thiết kế một hoạt động **CỤ THỂ** và chi tiết dựa trên thông tin sau:\n",
    "    - Mục tiêu bài học: Học sinh lớp {objective['grade_level']} có thể {objective['action_verb']} về chủ đề \"{objective['topic']}\".\n",
    "    - Nhiệm vụ cụ thể cần thực hiện: {task_to_run['task_description']}\n",
    "    - **Kiến thức nền tảng có sẵn (từ Sách giáo khoa):**\n",
    "      ```json\n",
    "      {resources_summary}\n",
    "      ```\n",
    "\n",
    "    **YÊU CẦU QUAN TRỌNG:**\n",
    "    - Không mô tả chung chung. Hãy dùng \"Kiến thức nền tảng\" để tạo ra các bước thực hành cụ thể.\n",
    "    - Ví dụ: Thay vì nói \"học sinh tìm hiểu công thức\", hãy nói \"học sinh dùng thước kẻ và eke để vẽ tam giác vuông có cạnh 3cm, 4cm, sau đó đo cạnh huyền và kiểm chứng công thức Pytago a²+b²=c²\".\n",
    "    - Hãy tạo ra một hoạt động bằng Tiếng Việt.\n",
    "\n",
    "    Chỉ trả về một đối tượng JSON duy nhất theo định dạng sau:\n",
    "    {{\n",
    "        \"activity_name\": \"Tên hoạt động thật hấp dẫn và rõ ràng\",\n",
    "        \"description\": \"Mô tả chi tiết CÁC BƯỚC thực hiện cho giáo viên và học sinh\",\n",
    "        \"duration_minutes\": 20,\n",
    "        \"activity_type\": \"Loại hoạt động (ví dụ: Thảo luận nhóm, Thực hành cặp đôi, Thí nghiệm)\"\n",
    "    }}\n",
    "    \"\"\"\n",
    "    structured_llm = llm.with_structured_output(LearningActivity, method=\"json_mode\")\n",
    "    activity_result = await structured_llm.ainvoke(prompt)\n",
    "    print_result(activity_result.dict(), \"Hoạt động đã được thiết kế\")\n",
    "    return update_agent_outputs(state, \"activities\", activity_result.dict())\n",
    "\n",
    "\n",
    "# ... (Hàm resource_scout_agent giữ nguyên) ...\n",
    "async def resource_scout_agent(state: TeacherState) -> Dict[str, Any]:\n",
    "    print_step(\"`Agent: Resource Scout (RAG)` đang làm việc...\")\n",
    "    topic = state['analyzed_objective']['topic']\n",
    "    if not vector_store:\n",
    "        print_step(\"⚠️ Cảnh báo: Không có kho tri thức.\")\n",
    "        return update_agent_outputs(state, \"resources\", {\"source\": \"Lỗi\", \"summary\": \"Không tìm thấy kho tri thức.\"})\n",
    "    print_step(f\"Thực hiện tìm kiếm RAG cho chủ đề: '{topic}'\")\n",
    "    retriever = vector_store.as_retriever(search_kwargs={\"k\": 3})\n",
    "    relevant_docs = retriever.invoke(topic)\n",
    "    context = \"\\n\\n---\\n\\n\".join([doc.page_content for doc in relevant_docs])\n",
    "    prompt = f\"\"\"Dựa vào các trích đoạn từ sách giáo khoa dưới đây, hãy tóm tắt các điểm kiến thức cốt lõi và các định nghĩa quan trọng về chủ đề '{topic}'. Trình bày kết quả một cách rõ ràng, súc tích, dưới dạng các gạch đầu dòng.\"\"\"\n",
    "    response = await llm.ainvoke(prompt)\n",
    "    summary = response.content\n",
    "    resource = {\"source\": \"Sách giáo khoa Toán 9 (từ RAG)\", \"summary\": summary}\n",
    "    print_result(resource, \"Tài liệu RAG đã tìm thấy và tóm tắt\")\n",
    "    return update_agent_outputs(state, \"resources\", resource)\n",
    "\n",
    "class AssessmentItem(BaseModel):\n",
    "    question: str = Field(description=\"Nội dung câu hỏi hoặc yêu cầu của bài tập.\")\n",
    "    question_type: str = Field(description=\"Loại câu hỏi, ví dụ: 'Trắc nghiệm', 'Tự luận ngắn', 'Bài tập vận dụng'.\")\n",
    "    options: Optional[List[str]] = Field(description=\"Các lựa chọn trả lời nếu là câu hỏi trắc nghiệm.\")\n",
    "    answer: str = Field(description=\"Đáp án hoặc gợi ý đáp án cho câu hỏi.\")\n",
    "\n",
    "async def assessment_creator_agent(state: TeacherState) -> Dict[str, Any]:\n",
    "    print_step(\"`Agent: Assessment Creator` đang tạo câu hỏi đánh giá...\")\n",
    "    objective = state['analyzed_objective']\n",
    "    current_task_id = state.get(\"current_task_id\")\n",
    "    task_list = state.get(\"task_list\", [])\n",
    "    task_to_run = next((task for task in task_list if task.get(\"task_id\") == current_task_id), None)\n",
    "    \n",
    "    if not task_to_run:\n",
    "        return {}\n",
    "\n",
    "    prompt = f\"\"\"Bạn là chuyên gia về kiểm tra và đánh giá. Tạo ra MỘT câu hỏi hoặc bài tập nhỏ để đánh giá mục tiêu dựa trên nhiệm vụ sau:\n",
    "    - Nhiệm vụ: \"{task_to_run['task_description']}\"\n",
    "    - Mục tiêu: Học sinh lớp {objective['grade_level']} có thể {objective['action_verb']} về chủ đề \"{objective['topic']}\".\n",
    "    - Viết bằng Tiếng Việt.\n",
    "\n",
    "    YÊU CẦU ĐỊNH DẠNG:\n",
    "    Trả lời bằng một đối tượng JSON duy nhất. TUYỆT ĐỐI KHÔNG thêm bất kỳ ghi chú, giải thích hay văn bản thừa nào khác.\n",
    "\n",
    "    {{\n",
    "        \"question\": \"Nội dung câu hỏi...\",\n",
    "        \"question_type\": \"Loại câu hỏi (ví dụ: Trắc nghiệm, Tự luận ngắn, Bài tập vận dụng)\",\n",
    "        \"options\": [\"Lựa chọn 1\", \"Lựa chọn 2\"] (hoặc null nếu không phải trắc nghiệm),\n",
    "        \"answer\": \"Đáp án chi tiết...\"\n",
    "    }}\n",
    "    \"\"\"\n",
    "    # SỬA LỖI TRỌNG TÂM: Đảm bảo options có thể là List[str] hoặc null\n",
    "    structured_llm = llm.with_structured_output(AssessmentItem, method=\"json_mode\")\n",
    "    \n",
    "    assessment_result = await structured_llm.ainvoke(prompt)\n",
    "    print_result(assessment_result.dict(), \"Câu hỏi đánh giá đã được tạo\")\n",
    "    return update_agent_outputs(state, \"assessments\", assessment_result.dict())\n",
    "\n",
    "# ... (Hàm lesson_plan_compiler_agent giữ nguyên) ...\n",
    "async def lesson_plan_compiler_agent(state: TeacherState) -> Dict[str, Any]:\n",
    "    print_step(\"`Agent: Lesson Plan Compiler` đang tổng hợp giáo án...\")\n",
    "    outputs = state['agent_outputs']\n",
    "    objective = state['analyzed_objective']\n",
    "    \n",
    "    # Tính tổng thời gian\n",
    "    activities = outputs.get('activities', [])\n",
    "    total_duration = sum(act.get('duration_minutes', 0) for act in activities)\n",
    "\n",
    "    prompt = f\"\"\"Bạn là một trợ lý giáo viên chuyên nghiệp. Nhiệm vụ của bạn là tổng hợp tất cả các thông tin dưới đây thành một giáo án hoàn chỉnh, chuyên nghiệp bằng Tiếng Việt, sử dụng định dạng Markdown.\n",
    "\n",
    "    **THÔNG TIN ĐẦU VÀO:**\n",
    "    - **Mục tiêu chính của bài học:** {objective['topic']}\n",
    "    - **Các hoạt động đã được thiết kế:** {json.dumps(activities, indent=2, ensure_ascii=False)}\n",
    "    - **Các tài nguyên tham khảo:** {json.dumps(outputs.get('resources', []), indent=2, ensure_ascii=False)}\n",
    "    - **Các câu hỏi/bài tập đánh giá:** {json.dumps(outputs.get('assessments', []), indent=2, ensure_ascii=False)}\n",
    "\n",
    "    **YÊU CẦU VỀ CẤU TRÚC VÀ NỘI DUNG:**\n",
    "    1.  Tạo giáo án có cấu trúc rõ ràng: Mục tiêu, Chuẩn bị, Tiến trình (liệt kê chi tiết từng hoạt động), Đánh giá.\n",
    "    2.  Trong phần \"Tiến trình\", hãy ghi rõ thời gian dự kiến cho từng hoạt động.\n",
    "    3.  **Thêm một mục \"Ghi chú của Trợ lý AI\" ở cuối giáo án.** Trong mục này, hãy tính và ghi rõ tổng thời lượng của tất cả các hoạt động ({total_duration} phút). Nếu tổng thời lượng vượt quá 90 phút, hãy thêm một lời khuyên cho giáo viên về việc chia bài học thành nhiều buổi.\n",
    "    \"\"\"\n",
    "    response = await llm.ainvoke(prompt)\n",
    "    final_plan = response.content\n",
    "    print_step(\"Đã biên soạn xong giáo án cuối cùng.\")\n",
    "    return {\"final_lesson_plan\": final_plan}"
   ]
  },
  {
   "cell_type": "code",
   "execution_count": 31,
   "id": "bdfc5a4e",
   "metadata": {},
   "outputs": [
    {
     "name": "stdout",
     "output_type": "stream",
     "text": [
      "✅ Graph (phiên bản ổn định nhất) đã được biên dịch thành công.\n"
     ]
    },
    {
     "data": {
      "image/png": "[encoded data removed]",
      "text/plain": [
       "<IPython.core.display.Image object>"
      ]
     },
     "metadata": {},
     "output_type": "display_data"
    }
   ],
   "source": [
    "# ==============================================================================\n",
    "# CELL 4: LẮP RÁP GRAPH (PHIÊN BẢN ỔN ĐỊNH NHẤT)\n",
    "# ==============================================================================\n",
    "\n",
    "# --- CÁC HÀM LOGIC VÀ NODE TIỆN ÍCH (Giữ nguyên) ---\n",
    "def mark_task_complete(state: TeacherState) -> Dict[str, Any]:\n",
    "    task_list = state.get(\"task_list\", [])\n",
    "    current_task_id = state.get(\"current_task_id\")\n",
    "    if not task_list or current_task_id is None: return {}\n",
    "    new_task_list = [t.copy() for t in task_list]\n",
    "    for task in new_task_list:\n",
    "        if task.get(\"task_id\") == current_task_id:\n",
    "            task[\"status\"] = \"completed\"\n",
    "            break\n",
    "    return {\"task_list\": new_task_list, \"current_task_id\": None}\n",
    "    \n",
    "def task_router_node(state: TeacherState) -> Dict[str, Any]:\n",
    "    print_step(\"`Router`: Đang kiểm tra nhiệm vụ...\")\n",
    "    task_list = state.get(\"task_list\", [])\n",
    "    \n",
    "    # Tìm nhiệm vụ đầu tiên còn ở trạng thái \"pending\"\n",
    "    next_task = next((task for task in task_list if task.get(\"status\") == \"pending\"), None)\n",
    "    \n",
    "    if next_task:\n",
    "        print_step(f\"Nhiệm vụ tiếp theo: '{next_task['task_name']}' (ID: {next_task['task_id']})\")\n",
    "        # Nếu có, trả về ID của nó\n",
    "        return {\"current_task_id\": next_task['task_id']}\n",
    "    else:\n",
    "        print_step(\"Hết nhiệm vụ, báo hiệu để đi đến Compiler.\")\n",
    "        # Nếu không còn, trả về None để hàm điều hướng biết\n",
    "        return {\"current_task_id\": None}\n",
    "\n",
    "async def task_dispatcher_agent(state: TeacherState) -> Dict[str, Any]:\n",
    "    print_step(\"\\n---\\n### 🚚 `Agent: Task Dispatcher` Bắt đầu...\")\n",
    "    current_task_id = state.get(\"current_task_id\")\n",
    "    task_list = state.get(\"task_list\", [])\n",
    "    task_to_run = next((task for task in task_list if task.get(\"task_id\") == current_task_id), None)\n",
    "    if not task_to_run: return {\"next_agent\": \"mark_task_complete\"}\n",
    "\n",
    "    task_description = task_to_run['task_description']\n",
    "    prompt = f\"\"\"Phân loại nhiệm vụ sau vào agent phù hợp nhất: 'activity_designer', 'resource_scout', 'assessment_creator', hoặc 'unknown'.\n",
    "    NHIỆM VỤ: \"{task_description}\" \"\"\"\n",
    "    structured_llm = llm.with_structured_output(TaskClassification)\n",
    "    classification_result = await structured_llm.ainvoke(prompt)\n",
    "    next_agent = classification_result.agent_category\n",
    "    if next_agent == \"unknown\":\n",
    "        print_step(f\"--- 🚚 `Dispatcher`: Không nhận ra nhiệm vụ. Bỏ qua.\")\n",
    "        return {\"next_agent\": \"mark_task_complete\"}\n",
    "    print_step(f\"--- 🚚 `Dispatcher`: Giao nhiệm vụ cho `{next_agent}`.\")\n",
    "    return {\"next_agent\": next_agent}\n",
    "\n",
    "# --- HÀM ĐỊNH TUYẾN CUỐI CÙNG (Cực kỳ đơn giản) ---\n",
    "def route_after_router(state: TeacherState) -> Literal[\"continue_executing\", \"finish_and_compile\"]:\n",
    "    \"\"\"\n",
    "    Quyết định xem nên tiếp tục vòng lặp hay đi đến bước cuối.\n",
    "    Logic: Nếu `task_router` không tìm thấy nhiệm vụ nào và trả về `current_task_id` là None,\n",
    "    thì chúng ta sẽ kết thúc và biên soạn giáo án.\n",
    "    \"\"\"\n",
    "    if state.get(\"current_task_id\") is None:\n",
    "        return \"finish_and_compile\"\n",
    "    else:\n",
    "        return \"continue_executing\"\n",
    "\n",
    "# --- XÂY DỰNG GRAPH ---\n",
    "workflow = StateGraph(TeacherState)\n",
    "\n",
    "# Thêm các node\n",
    "# ... (thêm tất cả các node như cũ) ...\n",
    "workflow.add_node(\"objective_interpreter\", objective_interpreter_agent)\n",
    "workflow.add_node(\"pedagogy_strategist\", pedagogy_strategist_agent)\n",
    "workflow.add_node(\"plan_delegator\", plan_delegator_agent)\n",
    "workflow.add_node(\"task_router\", task_router_node)\n",
    "workflow.add_node(\"task_dispatcher\", task_dispatcher_agent)\n",
    "workflow.add_node(\"mark_task_complete\", mark_task_complete)\n",
    "workflow.add_node(\"activity_designer\", activity_designer_agent)\n",
    "workflow.add_node(\"resource_scout\", resource_scout_agent)\n",
    "workflow.add_node(\"assessment_creator\", assessment_creator_agent)\n",
    "workflow.add_node(\"lesson_plan_compiler\", lesson_plan_compiler_agent)\n",
    "\n",
    "\n",
    "# Kết nối\n",
    "workflow.set_entry_point(\"objective_interpreter\")\n",
    "workflow.add_edge(\"objective_interpreter\", \"pedagogy_strategist\")\n",
    "workflow.add_edge(\"pedagogy_strategist\", \"plan_delegator\")\n",
    "workflow.add_edge(\"plan_delegator\", \"task_router\")\n",
    "\n",
    "# Điểm rẽ nhánh chính sau router\n",
    "workflow.add_conditional_edges(\n",
    "    \"task_router\",\n",
    "    route_after_router, # Dùng hàm logic đơn giản này\n",
    "    {\n",
    "        \"continue_executing\": \"task_dispatcher\",\n",
    "        \"finish_and_compile\": \"lesson_plan_compiler\"\n",
    "    }\n",
    ")\n",
    "\n",
    "# Dispatcher quyết định đi đâu\n",
    "workflow.add_conditional_edges(\n",
    "    \"task_dispatcher\",\n",
    "    lambda state: state[\"next_agent\"],\n",
    "    {\n",
    "        \"activity_designer\": \"activity_designer\",\n",
    "        \"resource_scout\": \"resource_scout\",\n",
    "        \"assessment_creator\": \"assessment_creator\",\n",
    "        \"mark_task_complete\": \"mark_task_complete\"\n",
    "    }\n",
    ")\n",
    "\n",
    "# Vòng lặp\n",
    "workflow.add_edge(\"activity_designer\", \"mark_task_complete\")\n",
    "workflow.add_edge(\"resource_scout\", \"mark_task_complete\")\n",
    "workflow.add_edge(\"assessment_creator\", \"mark_task_complete\")\n",
    "workflow.add_edge(\"mark_task_complete\", \"task_router\")\n",
    "\n",
    "# Kết thúc\n",
    "workflow.add_edge(\"lesson_plan_compiler\", END)\n",
    "\n",
    "# Biên dịch\n",
    "app = workflow.compile()\n",
    "print(\"✅ Graph (phiên bản ổn định nhất) đã được biên dịch thành công.\")\n",
    "\n",
    "try:\n",
    "    display(Image(app.get_graph().draw_mermaid_png()))\n",
    "except Exception as e:\n",
    "    print(f\"Lỗi vẽ biểu đồ: {e}\")"
   ]
  },
  {
   "cell_type": "code",
   "execution_count": 32,
   "id": "b5fdd2e0",
   "metadata": {},
   "outputs": [
    {
     "data": {
      "text/html": [
       "<pre style=\"white-space:pre;overflow-x:auto;line-height:normal;font-family:Menlo,'DejaVu Sans Mono',consolas,'Courier New',monospace\">\n",
       "<span style=\"color: #800080; text-decoration-color: #800080; font-weight: bold\">🚀 BẮT ĐẦU QUY TRÌNH VỚI YÊU CẦU:</span>\n",
       "&gt; Soạn giáo án cho học sinh lớp <span style=\"color: #008080; text-decoration-color: #008080; font-weight: bold\">9</span>. Mục tiêu là giúp các em hiểu và vận dụng được các hệ thức lượng trong tam giác \n",
       "vuông trong <span style=\"color: #008080; text-decoration-color: #008080; font-weight: bold\">2</span> tiết học <span style=\"color: #008080; text-decoration-color: #008080; font-weight: bold\">45</span> phút trên trường\n",
       "</pre>\n"
      ],
      "text/plain": [
       "\n",
       "\u001b[1;35m🚀 BẮT ĐẦU QUY TRÌNH VỚI YÊU CẦU:\u001b[0m\n",
       "> Soạn giáo án cho học sinh lớp \u001b[1;36m9\u001b[0m. Mục tiêu là giúp các em hiểu và vận dụng được các hệ thức lượng trong tam giác \n",
       "vuông trong \u001b[1;36m2\u001b[0m tiết học \u001b[1;36m45\u001b[0m phút trên trường\n"
      ]
     },
     "metadata": {},
     "output_type": "display_data"
    },
    {
     "data": {
      "text/html": [
       "<pre style=\"white-space:pre;overflow-x:auto;line-height:normal;font-family:Menlo,'DejaVu Sans Mono',consolas,'Courier New',monospace\"><span style=\"color: #008080; text-decoration-color: #008080; font-weight: bold\">&gt;</span> `Agent: Objective Interpreter` đang phân tích mục tiêu<span style=\"color: #808000; text-decoration-color: #808000\">...</span>\n",
       "</pre>\n"
      ],
      "text/plain": [
       "\u001b[1;36m>\u001b[0m `Agent: Objective Interpreter` đang phân tích mục tiêu\u001b[33m...\u001b[0m\n"
      ]
     },
     "metadata": {},
     "output_type": "display_data"
    },
    {
     "data": {
      "text/html": [
       "<pre style=\"white-space:pre;overflow-x:auto;line-height:normal;font-family:Menlo,'DejaVu Sans Mono',consolas,'Courier New',monospace\"><span style=\"color: #008000; text-decoration-color: #008000; font-weight: bold\">✔️ Mục tiêu đã phân tích:</span>\n",
       "</pre>\n"
      ],
      "text/plain": [
       "\u001b[1;32m✔️ Mục tiêu đã phân tích:\u001b[0m\n"
      ]
     },
     "metadata": {},
     "output_type": "display_data"
    },
    {
     "data": {
      "text/html": [
       "<pre style=\"white-space:pre;overflow-x:auto;line-height:normal;font-family:Menlo,'DejaVu Sans Mono',consolas,'Courier New',monospace\"><span style=\"font-weight: bold\">{</span>\n",
       "<span style=\"color: #7fbf7f; text-decoration-color: #7fbf7f\">│   </span><span style=\"color: #008000; text-decoration-color: #008000\">'action_verb'</span>: <span style=\"color: #008000; text-decoration-color: #008000\">'vận dụng'</span>,\n",
       "<span style=\"color: #7fbf7f; text-decoration-color: #7fbf7f\">│   </span><span style=\"color: #008000; text-decoration-color: #008000\">'bloom_level'</span>: <span style=\"color: #008080; text-decoration-color: #008080; font-weight: bold\">3</span>,\n",
       "<span style=\"color: #7fbf7f; text-decoration-color: #7fbf7f\">│   </span><span style=\"color: #008000; text-decoration-color: #008000\">'topic'</span>: <span style=\"color: #008000; text-decoration-color: #008000\">'hệ thức lượng trong tam giác vuông'</span>,\n",
       "<span style=\"color: #7fbf7f; text-decoration-color: #7fbf7f\">│   </span><span style=\"color: #008000; text-decoration-color: #008000\">'grade_level'</span>: <span style=\"color: #008000; text-decoration-color: #008000\">'9'</span>,\n",
       "<span style=\"color: #7fbf7f; text-decoration-color: #7fbf7f\">│   </span><span style=\"color: #008000; text-decoration-color: #008000\">'constraints'</span>: <span style=\"font-weight: bold\">[]</span>\n",
       "<span style=\"font-weight: bold\">}</span>\n",
       "</pre>\n"
      ],
      "text/plain": [
       "\u001b[1m{\u001b[0m\n",
       "\u001b[2;32m│   \u001b[0m\u001b[32m'action_verb'\u001b[0m: \u001b[32m'vận dụng'\u001b[0m,\n",
       "\u001b[2;32m│   \u001b[0m\u001b[32m'bloom_level'\u001b[0m: \u001b[1;36m3\u001b[0m,\n",
       "\u001b[2;32m│   \u001b[0m\u001b[32m'topic'\u001b[0m: \u001b[32m'hệ thức lượng trong tam giác vuông'\u001b[0m,\n",
       "\u001b[2;32m│   \u001b[0m\u001b[32m'grade_level'\u001b[0m: \u001b[32m'9'\u001b[0m,\n",
       "\u001b[2;32m│   \u001b[0m\u001b[32m'constraints'\u001b[0m: \u001b[1m[\u001b[0m\u001b[1m]\u001b[0m\n",
       "\u001b[1m}\u001b[0m\n"
      ]
     },
     "metadata": {},
     "output_type": "display_data"
    },
    {
     "data": {
      "text/html": [
       "<pre style=\"white-space:pre;overflow-x:auto;line-height:normal;font-family:Menlo,'DejaVu Sans Mono',consolas,'Courier New',monospace\">\n",
       "<span style=\"color: #808000; text-decoration-color: #808000; font-weight: bold\">------- Hoàn thành bước: objective_interpreter -------</span>\n",
       "</pre>\n"
      ],
      "text/plain": [
       "\n",
       "\u001b[1;33m------- Hoàn thành bước: objective_interpreter -------\u001b[0m\n"
      ]
     },
     "metadata": {},
     "output_type": "display_data"
    },
    {
     "data": {
      "text/html": [
       "<pre style=\"white-space:pre;overflow-x:auto;line-height:normal;font-family:Menlo,'DejaVu Sans Mono',consolas,'Courier New',monospace\"><span style=\"color: #008080; text-decoration-color: #008080; font-weight: bold\">&gt;</span> \n",
       "---\n",
       "### 🧑‍🏫 `Agent: Pedagogy Strategist` Bắt đầu<span style=\"color: #808000; text-decoration-color: #808000\">...</span>\n",
       "</pre>\n"
      ],
      "text/plain": [
       "\u001b[1;36m>\u001b[0m \n",
       "---\n",
       "### 🧑‍🏫 `Agent: Pedagogy Strategist` Bắt đầu\u001b[33m...\u001b[0m\n"
      ]
     },
     "metadata": {},
     "output_type": "display_data"
    },
    {
     "data": {
      "text/html": [
       "<pre style=\"white-space:pre;overflow-x:auto;line-height:normal;font-family:Menlo,'DejaVu Sans Mono',consolas,'Courier New',monospace\"><span style=\"color: #008000; text-decoration-color: #008000; font-weight: bold\">✔️ Kết quả:</span>\n",
       "</pre>\n"
      ],
      "text/plain": [
       "\u001b[1;32m✔️ Kết quả:\u001b[0m\n"
      ]
     },
     "metadata": {},
     "output_type": "display_data"
    },
    {
     "data": {
      "text/html": [
       "<pre style=\"white-space:pre;overflow-x:auto;line-height:normal;font-family:Menlo,'DejaVu Sans Mono',consolas,'Courier New',monospace\"><span style=\"color: #008000; text-decoration-color: #008000\">'**Chiến lược:** Inquiry-Based Learning (IBL)\\n**Lý do:** Với mục tiêu vận dụng hệ thức lượng trong tam giác vuông cho học sinh lớp 9, phương pháp Inquiry-Based Learning (IBL) là phù hợp nhất. Bởi vì, IBL cho phép học sinh tự khám phá và phát triển các khái niệm thông qua các hoạt động điều tra và giải quyết vấn đề, giúp học sinh vận dụng kiến thức đã học vào các tình huống thực tế. Ngoài ra, IBL cũng khuyến khích học sinh phát triển các kỹ năng như tư duy phê phán, giải quyết vấn đề và làm việc nhóm, đáp ứng yêu cầu của bậc 3 trong thang Bloom.'</span>\n",
       "</pre>\n"
      ],
      "text/plain": [
       "\u001b[32m'**Chiến lược:** Inquiry-Based Learning \u001b[0m\u001b[32m(\u001b[0m\u001b[32mIBL\u001b[0m\u001b[32m)\u001b[0m\u001b[32m\\n**Lý do:** Với mục tiêu vận dụng hệ thức lượng trong tam giác vuông cho học sinh lớp 9, phương pháp Inquiry-Based Learning \u001b[0m\u001b[32m(\u001b[0m\u001b[32mIBL\u001b[0m\u001b[32m)\u001b[0m\u001b[32m là phù hợp nhất. Bởi vì, IBL cho phép học sinh tự khám phá và phát triển các khái niệm thông qua các hoạt động điều tra và giải quyết vấn đề, giúp học sinh vận dụng kiến thức đã học vào các tình huống thực tế. Ngoài ra, IBL cũng khuyến khích học sinh phát triển các kỹ năng như tư duy phê phán, giải quyết vấn đề và làm việc nhóm, đáp ứng yêu cầu của bậc 3 trong thang Bloom.'\u001b[0m\n"
      ]
     },
     "metadata": {},
     "output_type": "display_data"
    },
    {
     "data": {
      "text/html": [
       "<pre style=\"white-space:pre;overflow-x:auto;line-height:normal;font-family:Menlo,'DejaVu Sans Mono',consolas,'Courier New',monospace\">\n",
       "<span style=\"color: #808000; text-decoration-color: #808000; font-weight: bold\">------- Hoàn thành bước: pedagogy_strategist -------</span>\n",
       "</pre>\n"
      ],
      "text/plain": [
       "\n",
       "\u001b[1;33m------- Hoàn thành bước: pedagogy_strategist -------\u001b[0m\n"
      ]
     },
     "metadata": {},
     "output_type": "display_data"
    },
    {
     "data": {
      "text/html": [
       "<pre style=\"white-space:pre;overflow-x:auto;line-height:normal;font-family:Menlo,'DejaVu Sans Mono',consolas,'Courier New',monospace\"><span style=\"color: #008080; text-decoration-color: #008080; font-weight: bold\">&gt;</span> \n",
       "---\n",
       "### 👷 `Agent: Plan Delegator` Bắt đầu<span style=\"color: #808000; text-decoration-color: #808000\">...</span>\n",
       "</pre>\n"
      ],
      "text/plain": [
       "\u001b[1;36m>\u001b[0m \n",
       "---\n",
       "### 👷 `Agent: Plan Delegator` Bắt đầu\u001b[33m...\u001b[0m\n"
      ]
     },
     "metadata": {},
     "output_type": "display_data"
    },
    {
     "data": {
      "text/html": [
       "<pre style=\"white-space:pre;overflow-x:auto;line-height:normal;font-family:Menlo,'DejaVu Sans Mono',consolas,'Courier New',monospace\"><span style=\"color: #008000; text-decoration-color: #008000; font-weight: bold\">✔️ Kết quả:</span>\n",
       "</pre>\n"
      ],
      "text/plain": [
       "\u001b[1;32m✔️ Kết quả:\u001b[0m\n"
      ]
     },
     "metadata": {},
     "output_type": "display_data"
    },
    {
     "data": {
      "text/html": [
       "<pre style=\"white-space:pre;overflow-x:auto;line-height:normal;font-family:Menlo,'DejaVu Sans Mono',consolas,'Courier New',monospace\"><span style=\"color: #008000; text-decoration-color: #008000\">'**Đã tạo 5 nhiệm vụ.**'</span>\n",
       "</pre>\n"
      ],
      "text/plain": [
       "\u001b[32m'**Đã tạo 5 nhiệm vụ.**'\u001b[0m\n"
      ]
     },
     "metadata": {},
     "output_type": "display_data"
    },
    {
     "data": {
      "text/html": [
       "<pre style=\"white-space:pre;overflow-x:auto;line-height:normal;font-family:Menlo,'DejaVu Sans Mono',consolas,'Courier New',monospace\">\n",
       "<span style=\"color: #808000; text-decoration-color: #808000; font-weight: bold\">------- Hoàn thành bước: plan_delegator -------</span>\n",
       "</pre>\n"
      ],
      "text/plain": [
       "\n",
       "\u001b[1;33m------- Hoàn thành bước: plan_delegator -------\u001b[0m\n"
      ]
     },
     "metadata": {},
     "output_type": "display_data"
    },
    {
     "data": {
      "text/html": [
       "<pre style=\"white-space:pre;overflow-x:auto;line-height:normal;font-family:Menlo,'DejaVu Sans Mono',consolas,'Courier New',monospace\"><span style=\"color: #008080; text-decoration-color: #008080; font-weight: bold\">&gt;</span> `Router`: Đang kiểm tra nhiệm vụ<span style=\"color: #808000; text-decoration-color: #808000\">...</span>\n",
       "</pre>\n"
      ],
      "text/plain": [
       "\u001b[1;36m>\u001b[0m `Router`: Đang kiểm tra nhiệm vụ\u001b[33m...\u001b[0m\n"
      ]
     },
     "metadata": {},
     "output_type": "display_data"
    },
    {
     "data": {
      "text/html": [
       "<pre style=\"white-space:pre;overflow-x:auto;line-height:normal;font-family:Menlo,'DejaVu Sans Mono',consolas,'Courier New',monospace\"><span style=\"color: #008080; text-decoration-color: #008080; font-weight: bold\">&gt;</span> Nhiệm vụ tiếp theo: <span style=\"color: #008000; text-decoration-color: #008000\">'Introduction to Right Triangles'</span> <span style=\"font-weight: bold\">(</span>ID: <span style=\"color: #008080; text-decoration-color: #008080; font-weight: bold\">0</span><span style=\"font-weight: bold\">)</span>\n",
       "</pre>\n"
      ],
      "text/plain": [
       "\u001b[1;36m>\u001b[0m Nhiệm vụ tiếp theo: \u001b[32m'Introduction to Right Triangles'\u001b[0m \u001b[1m(\u001b[0mID: \u001b[1;36m0\u001b[0m\u001b[1m)\u001b[0m\n"
      ]
     },
     "metadata": {},
     "output_type": "display_data"
    },
    {
     "data": {
      "text/html": [
       "<pre style=\"white-space:pre;overflow-x:auto;line-height:normal;font-family:Menlo,'DejaVu Sans Mono',consolas,'Courier New',monospace\">\n",
       "<span style=\"color: #808000; text-decoration-color: #808000; font-weight: bold\">------- Hoàn thành bước: task_router -------</span>\n",
       "</pre>\n"
      ],
      "text/plain": [
       "\n",
       "\u001b[1;33m------- Hoàn thành bước: task_router -------\u001b[0m\n"
      ]
     },
     "metadata": {},
     "output_type": "display_data"
    },
    {
     "data": {
      "text/html": [
       "<pre style=\"white-space:pre;overflow-x:auto;line-height:normal;font-family:Menlo,'DejaVu Sans Mono',consolas,'Courier New',monospace\"><span style=\"color: #008080; text-decoration-color: #008080; font-weight: bold\">&gt;</span> \n",
       "---\n",
       "### 🚚 `Agent: Task Dispatcher` Bắt đầu<span style=\"color: #808000; text-decoration-color: #808000\">...</span>\n",
       "</pre>\n"
      ],
      "text/plain": [
       "\u001b[1;36m>\u001b[0m \n",
       "---\n",
       "### 🚚 `Agent: Task Dispatcher` Bắt đầu\u001b[33m...\u001b[0m\n"
      ]
     },
     "metadata": {},
     "output_type": "display_data"
    },
    {
     "data": {
      "text/html": [
       "<pre style=\"white-space:pre;overflow-x:auto;line-height:normal;font-family:Menlo,'DejaVu Sans Mono',consolas,'Courier New',monospace\"><span style=\"color: #008080; text-decoration-color: #008080; font-weight: bold\">&gt;</span> --- 🚚 `Dispatcher`: Giao nhiệm vụ cho `activity_designer`.\n",
       "</pre>\n"
      ],
      "text/plain": [
       "\u001b[1;36m>\u001b[0m --- 🚚 `Dispatcher`: Giao nhiệm vụ cho `activity_designer`.\n"
      ]
     },
     "metadata": {},
     "output_type": "display_data"
    },
    {
     "data": {
      "text/html": [
       "<pre style=\"white-space:pre;overflow-x:auto;line-height:normal;font-family:Menlo,'DejaVu Sans Mono',consolas,'Courier New',monospace\">\n",
       "<span style=\"color: #808000; text-decoration-color: #808000; font-weight: bold\">------- Hoàn thành bước: task_dispatcher -------</span>\n",
       "</pre>\n"
      ],
      "text/plain": [
       "\n",
       "\u001b[1;33m------- Hoàn thành bước: task_dispatcher -------\u001b[0m\n"
      ]
     },
     "metadata": {},
     "output_type": "display_data"
    },
    {
     "data": {
      "text/html": [
       "<pre style=\"white-space:pre;overflow-x:auto;line-height:normal;font-family:Menlo,'DejaVu Sans Mono',consolas,'Courier New',monospace\"><span style=\"color: #008080; text-decoration-color: #008080; font-weight: bold\">&gt;</span> `Agent: Activity Designer` đang thiết kế hoạt động<span style=\"color: #808000; text-decoration-color: #808000\">...</span>\n",
       "</pre>\n"
      ],
      "text/plain": [
       "\u001b[1;36m>\u001b[0m `Agent: Activity Designer` đang thiết kế hoạt động\u001b[33m...\u001b[0m\n"
      ]
     },
     "metadata": {},
     "output_type": "display_data"
    },
    {
     "data": {
      "text/html": [
       "<pre style=\"white-space:pre;overflow-x:auto;line-height:normal;font-family:Menlo,'DejaVu Sans Mono',consolas,'Courier New',monospace\"><span style=\"color: #008000; text-decoration-color: #008000; font-weight: bold\">✔️ Hoạt động đã được thiết kế:</span>\n",
       "</pre>\n"
      ],
      "text/plain": [
       "\u001b[1;32m✔️ Hoạt động đã được thiết kế:\u001b[0m\n"
      ]
     },
     "metadata": {},
     "output_type": "display_data"
    },
    {
     "data": {
      "text/html": [
       "<pre style=\"white-space:pre;overflow-x:auto;line-height:normal;font-family:Menlo,'DejaVu Sans Mono',consolas,'Courier New',monospace\"><span style=\"font-weight: bold\">{</span>\n",
       "<span style=\"color: #7fbf7f; text-decoration-color: #7fbf7f\">│   </span><span style=\"color: #008000; text-decoration-color: #008000\">'activity_name'</span>: <span style=\"color: #008000; text-decoration-color: #008000\">'Khám phá Tam Giác Vuông trong Đời Thực'</span>,\n",
       "<span style=\"color: #7fbf7f; text-decoration-color: #7fbf7f\">│   </span><span style=\"color: #008000; text-decoration-color: #008000\">'description'</span>: <span style=\"color: #008000; text-decoration-color: #008000\">'Bước 1: Giáo viên giới thiệu khái niệm tam giác vuông và tầm quan trọng của nó trong các tình huống thực tế (5 phút). Bước 2: Học sinh chia thành cặp, mỗi cặp được cung cấp một thước kẻ và eke. Họ vẽ một tam giác vuông có cạnh 3cm, 4cm và đo cạnh huyền (5 phút). Bước 3: Học sinh tính toán và kiểm chứng công thức Pytago a²+b²=c² bằng cách đo và tính toán các cạnh của tam giác (5 phút). Bước 4: Học sinh chia sẻ kết quả và thảo luận về tầm quan trọng của tam giác vuông trong các ứng dụng thực tế (5 phút).'</span>,\n",
       "<span style=\"color: #7fbf7f; text-decoration-color: #7fbf7f\">│   </span><span style=\"color: #008000; text-decoration-color: #008000\">'duration_minutes'</span>: <span style=\"color: #008080; text-decoration-color: #008080; font-weight: bold\">20</span>,\n",
       "<span style=\"color: #7fbf7f; text-decoration-color: #7fbf7f\">│   </span><span style=\"color: #008000; text-decoration-color: #008000\">'activity_type'</span>: <span style=\"color: #008000; text-decoration-color: #008000\">'Thực hành cặp đôi'</span>\n",
       "<span style=\"font-weight: bold\">}</span>\n",
       "</pre>\n"
      ],
      "text/plain": [
       "\u001b[1m{\u001b[0m\n",
       "\u001b[2;32m│   \u001b[0m\u001b[32m'activity_name'\u001b[0m: \u001b[32m'Khám phá Tam Giác Vuông trong Đời Thực'\u001b[0m,\n",
       "\u001b[2;32m│   \u001b[0m\u001b[32m'description'\u001b[0m: \u001b[32m'Bước 1: Giáo viên giới thiệu khái niệm tam giác vuông và tầm quan trọng của nó trong các tình huống thực tế \u001b[0m\u001b[32m(\u001b[0m\u001b[32m5 phút\u001b[0m\u001b[32m)\u001b[0m\u001b[32m. Bước 2: Học sinh chia thành cặp, mỗi cặp được cung cấp một thước kẻ và eke. Họ vẽ một tam giác vuông có cạnh 3cm, 4cm và đo cạnh huyền \u001b[0m\u001b[32m(\u001b[0m\u001b[32m5 phút\u001b[0m\u001b[32m)\u001b[0m\u001b[32m. Bước 3: Học sinh tính toán và kiểm chứng công thức Pytago a²+\u001b[0m\u001b[32mb²\u001b[0m\u001b[32m=\u001b[0m\u001b[32mc²\u001b[0m\u001b[32m bằng cách đo và tính toán các cạnh của tam giác \u001b[0m\u001b[32m(\u001b[0m\u001b[32m5 phút\u001b[0m\u001b[32m)\u001b[0m\u001b[32m. Bước 4: Học sinh chia sẻ kết quả và thảo luận về tầm quan trọng của tam giác vuông trong các ứng dụng thực tế \u001b[0m\u001b[32m(\u001b[0m\u001b[32m5 phút\u001b[0m\u001b[32m)\u001b[0m\u001b[32m.'\u001b[0m,\n",
       "\u001b[2;32m│   \u001b[0m\u001b[32m'duration_minutes'\u001b[0m: \u001b[1;36m20\u001b[0m,\n",
       "\u001b[2;32m│   \u001b[0m\u001b[32m'activity_type'\u001b[0m: \u001b[32m'Thực hành cặp đôi'\u001b[0m\n",
       "\u001b[1m}\u001b[0m\n"
      ]
     },
     "metadata": {},
     "output_type": "display_data"
    },
    {
     "data": {
      "text/html": [
       "<pre style=\"white-space:pre;overflow-x:auto;line-height:normal;font-family:Menlo,'DejaVu Sans Mono',consolas,'Courier New',monospace\">\n",
       "<span style=\"color: #808000; text-decoration-color: #808000; font-weight: bold\">------- Hoàn thành bước: activity_designer -------</span>\n",
       "</pre>\n"
      ],
      "text/plain": [
       "\n",
       "\u001b[1;33m------- Hoàn thành bước: activity_designer -------\u001b[0m\n"
      ]
     },
     "metadata": {},
     "output_type": "display_data"
    },
    {
     "data": {
      "text/html": [
       "<pre style=\"white-space:pre;overflow-x:auto;line-height:normal;font-family:Menlo,'DejaVu Sans Mono',consolas,'Courier New',monospace\">\n",
       "<span style=\"color: #808000; text-decoration-color: #808000; font-weight: bold\">------- Hoàn thành bước: mark_task_complete -------</span>\n",
       "</pre>\n"
      ],
      "text/plain": [
       "\n",
       "\u001b[1;33m------- Hoàn thành bước: mark_task_complete -------\u001b[0m\n"
      ]
     },
     "metadata": {},
     "output_type": "display_data"
    },
    {
     "data": {
      "text/html": [
       "<pre style=\"white-space:pre;overflow-x:auto;line-height:normal;font-family:Menlo,'DejaVu Sans Mono',consolas,'Courier New',monospace\"><span style=\"color: #008080; text-decoration-color: #008080; font-weight: bold\">&gt;</span> `Router`: Đang kiểm tra nhiệm vụ<span style=\"color: #808000; text-decoration-color: #808000\">...</span>\n",
       "</pre>\n"
      ],
      "text/plain": [
       "\u001b[1;36m>\u001b[0m `Router`: Đang kiểm tra nhiệm vụ\u001b[33m...\u001b[0m\n"
      ]
     },
     "metadata": {},
     "output_type": "display_data"
    },
    {
     "data": {
      "text/html": [
       "<pre style=\"white-space:pre;overflow-x:auto;line-height:normal;font-family:Menlo,'DejaVu Sans Mono',consolas,'Courier New',monospace\"><span style=\"color: #008080; text-decoration-color: #008080; font-weight: bold\">&gt;</span> Nhiệm vụ tiếp theo: <span style=\"color: #008000; text-decoration-color: #008000\">'Exploration of Triangle Properties'</span> <span style=\"font-weight: bold\">(</span>ID: <span style=\"color: #008080; text-decoration-color: #008080; font-weight: bold\">1</span><span style=\"font-weight: bold\">)</span>\n",
       "</pre>\n"
      ],
      "text/plain": [
       "\u001b[1;36m>\u001b[0m Nhiệm vụ tiếp theo: \u001b[32m'Exploration of Triangle Properties'\u001b[0m \u001b[1m(\u001b[0mID: \u001b[1;36m1\u001b[0m\u001b[1m)\u001b[0m\n"
      ]
     },
     "metadata": {},
     "output_type": "display_data"
    },
    {
     "data": {
      "text/html": [
       "<pre style=\"white-space:pre;overflow-x:auto;line-height:normal;font-family:Menlo,'DejaVu Sans Mono',consolas,'Courier New',monospace\">\n",
       "<span style=\"color: #808000; text-decoration-color: #808000; font-weight: bold\">------- Hoàn thành bước: task_router -------</span>\n",
       "</pre>\n"
      ],
      "text/plain": [
       "\n",
       "\u001b[1;33m------- Hoàn thành bước: task_router -------\u001b[0m\n"
      ]
     },
     "metadata": {},
     "output_type": "display_data"
    },
    {
     "data": {
      "text/html": [
       "<pre style=\"white-space:pre;overflow-x:auto;line-height:normal;font-family:Menlo,'DejaVu Sans Mono',consolas,'Courier New',monospace\"><span style=\"color: #008080; text-decoration-color: #008080; font-weight: bold\">&gt;</span> \n",
       "---\n",
       "### 🚚 `Agent: Task Dispatcher` Bắt đầu<span style=\"color: #808000; text-decoration-color: #808000\">...</span>\n",
       "</pre>\n"
      ],
      "text/plain": [
       "\u001b[1;36m>\u001b[0m \n",
       "---\n",
       "### 🚚 `Agent: Task Dispatcher` Bắt đầu\u001b[33m...\u001b[0m\n"
      ]
     },
     "metadata": {},
     "output_type": "display_data"
    },
    {
     "data": {
      "text/html": [
       "<pre style=\"white-space:pre;overflow-x:auto;line-height:normal;font-family:Menlo,'DejaVu Sans Mono',consolas,'Courier New',monospace\"><span style=\"color: #008080; text-decoration-color: #008080; font-weight: bold\">&gt;</span> --- 🚚 `Dispatcher`: Giao nhiệm vụ cho `activity_designer`.\n",
       "</pre>\n"
      ],
      "text/plain": [
       "\u001b[1;36m>\u001b[0m --- 🚚 `Dispatcher`: Giao nhiệm vụ cho `activity_designer`.\n"
      ]
     },
     "metadata": {},
     "output_type": "display_data"
    },
    {
     "data": {
      "text/html": [
       "<pre style=\"white-space:pre;overflow-x:auto;line-height:normal;font-family:Menlo,'DejaVu Sans Mono',consolas,'Courier New',monospace\">\n",
       "<span style=\"color: #808000; text-decoration-color: #808000; font-weight: bold\">------- Hoàn thành bước: task_dispatcher -------</span>\n",
       "</pre>\n"
      ],
      "text/plain": [
       "\n",
       "\u001b[1;33m------- Hoàn thành bước: task_dispatcher -------\u001b[0m\n"
      ]
     },
     "metadata": {},
     "output_type": "display_data"
    },
    {
     "data": {
      "text/html": [
       "<pre style=\"white-space:pre;overflow-x:auto;line-height:normal;font-family:Menlo,'DejaVu Sans Mono',consolas,'Courier New',monospace\"><span style=\"color: #008080; text-decoration-color: #008080; font-weight: bold\">&gt;</span> `Agent: Activity Designer` đang thiết kế hoạt động<span style=\"color: #808000; text-decoration-color: #808000\">...</span>\n",
       "</pre>\n"
      ],
      "text/plain": [
       "\u001b[1;36m>\u001b[0m `Agent: Activity Designer` đang thiết kế hoạt động\u001b[33m...\u001b[0m\n"
      ]
     },
     "metadata": {},
     "output_type": "display_data"
    },
    {
     "data": {
      "text/html": [
       "<pre style=\"white-space:pre;overflow-x:auto;line-height:normal;font-family:Menlo,'DejaVu Sans Mono',consolas,'Courier New',monospace\"><span style=\"color: #008000; text-decoration-color: #008000; font-weight: bold\">✔️ Hoạt động đã được thiết kế:</span>\n",
       "</pre>\n"
      ],
      "text/plain": [
       "\u001b[1;32m✔️ Hoạt động đã được thiết kế:\u001b[0m\n"
      ]
     },
     "metadata": {},
     "output_type": "display_data"
    },
    {
     "data": {
      "text/html": [
       "<pre style=\"white-space:pre;overflow-x:auto;line-height:normal;font-family:Menlo,'DejaVu Sans Mono',consolas,'Courier New',monospace\"><span style=\"font-weight: bold\">{</span>\n",
       "<span style=\"color: #7fbf7f; text-decoration-color: #7fbf7f\">│   </span><span style=\"color: #008000; text-decoration-color: #008000\">'activity_name'</span>: <span style=\"color: #008000; text-decoration-color: #008000\">'Khám phá bí mật của tam giác vuông'</span>,\n",
       "<span style=\"color: #7fbf7f; text-decoration-color: #7fbf7f\">│   </span><span style=\"color: #008000; text-decoration-color: #008000\">'description'</span>: <span style=\"color: #008000; text-decoration-color: #008000\">'Bước 1: Học sinh chia thành cặp và nhận một tờ giấy có vẽ sẵn một tam giác vuông với cạnh 3cm và 4cm. Bước 2: Học sinh dùng thước kẻ và eke để vẽ thêm một cạnh huyền của tam giác vuông. Bước 3: Học sinh đo độ dài của cạnh huyền và ghi lại kết quả. Bước 4: Học sinh tính toán giá trị của a²+b² và so sánh với kết quả đo được ở bước 3. Bước 5: Học sinh thảo luận và chia sẻ kết quả với nhau, rút ra kết luận về hệ thức lượng trong tam giác vuông.'</span>,\n",
       "<span style=\"color: #7fbf7f; text-decoration-color: #7fbf7f\">│   </span><span style=\"color: #008000; text-decoration-color: #008000\">'duration_minutes'</span>: <span style=\"color: #008080; text-decoration-color: #008080; font-weight: bold\">20</span>,\n",
       "<span style=\"color: #7fbf7f; text-decoration-color: #7fbf7f\">│   </span><span style=\"color: #008000; text-decoration-color: #008000\">'activity_type'</span>: <span style=\"color: #008000; text-decoration-color: #008000\">'Thực hành cặp đôi'</span>\n",
       "<span style=\"font-weight: bold\">}</span>\n",
       "</pre>\n"
      ],
      "text/plain": [
       "\u001b[1m{\u001b[0m\n",
       "\u001b[2;32m│   \u001b[0m\u001b[32m'activity_name'\u001b[0m: \u001b[32m'Khám phá bí mật của tam giác vuông'\u001b[0m,\n",
       "\u001b[2;32m│   \u001b[0m\u001b[32m'description'\u001b[0m: \u001b[32m'Bước 1: Học sinh chia thành cặp và nhận một tờ giấy có vẽ sẵn một tam giác vuông với cạnh 3cm và 4cm. Bước 2: Học sinh dùng thước kẻ và eke để vẽ thêm một cạnh huyền của tam giác vuông. Bước 3: Học sinh đo độ dài của cạnh huyền và ghi lại kết quả. Bước 4: Học sinh tính toán giá trị của a²+b² và so sánh với kết quả đo được ở bước 3. Bước 5: Học sinh thảo luận và chia sẻ kết quả với nhau, rút ra kết luận về hệ thức lượng trong tam giác vuông.'\u001b[0m,\n",
       "\u001b[2;32m│   \u001b[0m\u001b[32m'duration_minutes'\u001b[0m: \u001b[1;36m20\u001b[0m,\n",
       "\u001b[2;32m│   \u001b[0m\u001b[32m'activity_type'\u001b[0m: \u001b[32m'Thực hành cặp đôi'\u001b[0m\n",
       "\u001b[1m}\u001b[0m\n"
      ]
     },
     "metadata": {},
     "output_type": "display_data"
    },
    {
     "data": {
      "text/html": [
       "<pre style=\"white-space:pre;overflow-x:auto;line-height:normal;font-family:Menlo,'DejaVu Sans Mono',consolas,'Courier New',monospace\">\n",
       "<span style=\"color: #808000; text-decoration-color: #808000; font-weight: bold\">------- Hoàn thành bước: activity_designer -------</span>\n",
       "</pre>\n"
      ],
      "text/plain": [
       "\n",
       "\u001b[1;33m------- Hoàn thành bước: activity_designer -------\u001b[0m\n"
      ]
     },
     "metadata": {},
     "output_type": "display_data"
    },
    {
     "data": {
      "text/html": [
       "<pre style=\"white-space:pre;overflow-x:auto;line-height:normal;font-family:Menlo,'DejaVu Sans Mono',consolas,'Courier New',monospace\">\n",
       "<span style=\"color: #808000; text-decoration-color: #808000; font-weight: bold\">------- Hoàn thành bước: mark_task_complete -------</span>\n",
       "</pre>\n"
      ],
      "text/plain": [
       "\n",
       "\u001b[1;33m------- Hoàn thành bước: mark_task_complete -------\u001b[0m\n"
      ]
     },
     "metadata": {},
     "output_type": "display_data"
    },
    {
     "data": {
      "text/html": [
       "<pre style=\"white-space:pre;overflow-x:auto;line-height:normal;font-family:Menlo,'DejaVu Sans Mono',consolas,'Courier New',monospace\"><span style=\"color: #008080; text-decoration-color: #008080; font-weight: bold\">&gt;</span> `Router`: Đang kiểm tra nhiệm vụ<span style=\"color: #808000; text-decoration-color: #808000\">...</span>\n",
       "</pre>\n"
      ],
      "text/plain": [
       "\u001b[1;36m>\u001b[0m `Router`: Đang kiểm tra nhiệm vụ\u001b[33m...\u001b[0m\n"
      ]
     },
     "metadata": {},
     "output_type": "display_data"
    },
    {
     "data": {
      "text/html": [
       "<pre style=\"white-space:pre;overflow-x:auto;line-height:normal;font-family:Menlo,'DejaVu Sans Mono',consolas,'Courier New',monospace\"><span style=\"color: #008080; text-decoration-color: #008080; font-weight: bold\">&gt;</span> Nhiệm vụ tiếp theo: <span style=\"color: #008000; text-decoration-color: #008000\">'Investigation of Real-World Applications'</span> <span style=\"font-weight: bold\">(</span>ID: <span style=\"color: #008080; text-decoration-color: #008080; font-weight: bold\">2</span><span style=\"font-weight: bold\">)</span>\n",
       "</pre>\n"
      ],
      "text/plain": [
       "\u001b[1;36m>\u001b[0m Nhiệm vụ tiếp theo: \u001b[32m'Investigation of Real-World Applications'\u001b[0m \u001b[1m(\u001b[0mID: \u001b[1;36m2\u001b[0m\u001b[1m)\u001b[0m\n"
      ]
     },
     "metadata": {},
     "output_type": "display_data"
    },
    {
     "data": {
      "text/html": [
       "<pre style=\"white-space:pre;overflow-x:auto;line-height:normal;font-family:Menlo,'DejaVu Sans Mono',consolas,'Courier New',monospace\">\n",
       "<span style=\"color: #808000; text-decoration-color: #808000; font-weight: bold\">------- Hoàn thành bước: task_router -------</span>\n",
       "</pre>\n"
      ],
      "text/plain": [
       "\n",
       "\u001b[1;33m------- Hoàn thành bước: task_router -------\u001b[0m\n"
      ]
     },
     "metadata": {},
     "output_type": "display_data"
    },
    {
     "data": {
      "text/html": [
       "<pre style=\"white-space:pre;overflow-x:auto;line-height:normal;font-family:Menlo,'DejaVu Sans Mono',consolas,'Courier New',monospace\"><span style=\"color: #008080; text-decoration-color: #008080; font-weight: bold\">&gt;</span> \n",
       "---\n",
       "### 🚚 `Agent: Task Dispatcher` Bắt đầu<span style=\"color: #808000; text-decoration-color: #808000\">...</span>\n",
       "</pre>\n"
      ],
      "text/plain": [
       "\u001b[1;36m>\u001b[0m \n",
       "---\n",
       "### 🚚 `Agent: Task Dispatcher` Bắt đầu\u001b[33m...\u001b[0m\n"
      ]
     },
     "metadata": {},
     "output_type": "display_data"
    },
    {
     "data": {
      "text/html": [
       "<pre style=\"white-space:pre;overflow-x:auto;line-height:normal;font-family:Menlo,'DejaVu Sans Mono',consolas,'Courier New',monospace\"><span style=\"color: #008080; text-decoration-color: #008080; font-weight: bold\">&gt;</span> --- 🚚 `Dispatcher`: Giao nhiệm vụ cho `activity_designer`.\n",
       "</pre>\n"
      ],
      "text/plain": [
       "\u001b[1;36m>\u001b[0m --- 🚚 `Dispatcher`: Giao nhiệm vụ cho `activity_designer`.\n"
      ]
     },
     "metadata": {},
     "output_type": "display_data"
    },
    {
     "data": {
      "text/html": [
       "<pre style=\"white-space:pre;overflow-x:auto;line-height:normal;font-family:Menlo,'DejaVu Sans Mono',consolas,'Courier New',monospace\">\n",
       "<span style=\"color: #808000; text-decoration-color: #808000; font-weight: bold\">------- Hoàn thành bước: task_dispatcher -------</span>\n",
       "</pre>\n"
      ],
      "text/plain": [
       "\n",
       "\u001b[1;33m------- Hoàn thành bước: task_dispatcher -------\u001b[0m\n"
      ]
     },
     "metadata": {},
     "output_type": "display_data"
    },
    {
     "data": {
      "text/html": [
       "<pre style=\"white-space:pre;overflow-x:auto;line-height:normal;font-family:Menlo,'DejaVu Sans Mono',consolas,'Courier New',monospace\"><span style=\"color: #008080; text-decoration-color: #008080; font-weight: bold\">&gt;</span> `Agent: Activity Designer` đang thiết kế hoạt động<span style=\"color: #808000; text-decoration-color: #808000\">...</span>\n",
       "</pre>\n"
      ],
      "text/plain": [
       "\u001b[1;36m>\u001b[0m `Agent: Activity Designer` đang thiết kế hoạt động\u001b[33m...\u001b[0m\n"
      ]
     },
     "metadata": {},
     "output_type": "display_data"
    },
    {
     "data": {
      "text/html": [
       "<pre style=\"white-space:pre;overflow-x:auto;line-height:normal;font-family:Menlo,'DejaVu Sans Mono',consolas,'Courier New',monospace\"><span style=\"color: #008000; text-decoration-color: #008000; font-weight: bold\">✔️ Hoạt động đã được thiết kế:</span>\n",
       "</pre>\n"
      ],
      "text/plain": [
       "\u001b[1;32m✔️ Hoạt động đã được thiết kế:\u001b[0m\n"
      ]
     },
     "metadata": {},
     "output_type": "display_data"
    },
    {
     "data": {
      "text/html": [
       "<pre style=\"white-space:pre;overflow-x:auto;line-height:normal;font-family:Menlo,'DejaVu Sans Mono',consolas,'Courier New',monospace\"><span style=\"font-weight: bold\">{</span>\n",
       "<span style=\"color: #7fbf7f; text-decoration-color: #7fbf7f\">│   </span><span style=\"color: #008000; text-decoration-color: #008000\">'activity_name'</span>: <span style=\"color: #008000; text-decoration-color: #008000\">'Áp dụng hệ thức lượng trong tam giác vuông vào thực tế'</span>,\n",
       "<span style=\"color: #7fbf7f; text-decoration-color: #7fbf7f\">│   </span><span style=\"color: #008000; text-decoration-color: #008000\">'description'</span>: <span style=\"color: #008000; text-decoration-color: #008000\">'Bước 1: Học sinh chia thành nhóm 3-4 người và chọn một lĩnh vực ứng dụng của tam giác vuông (kiến trúc, vật lý, kỹ thuật). Bước 2: Học sinh vẽ một tam giác vuông có cạnh 5cm, 12cm và đo cạnh huyền bằng thước kẻ và eke. Bước 3: Học sinh áp dụng công thức Pytago (a²+b²=c²) để tính cạnh huyền và so sánh với kết quả đo được. Bước 4: Học sinh nghiên cứu và thu thập thông tin về ứng dụng của tam giác vuông trong lĩnh vực đã chọn. Bước 5: Học sinh trình bày kết quả nghiên cứu và ứng dụng của tam giác vuông trong lĩnh vực đã chọn.'</span>,\n",
       "<span style=\"color: #7fbf7f; text-decoration-color: #7fbf7f\">│   </span><span style=\"color: #008000; text-decoration-color: #008000\">'duration_minutes'</span>: <span style=\"color: #008080; text-decoration-color: #008080; font-weight: bold\">40</span>,\n",
       "<span style=\"color: #7fbf7f; text-decoration-color: #7fbf7f\">│   </span><span style=\"color: #008000; text-decoration-color: #008000\">'activity_type'</span>: <span style=\"color: #008000; text-decoration-color: #008000\">'Thực hành nhóm'</span>\n",
       "<span style=\"font-weight: bold\">}</span>\n",
       "</pre>\n"
      ],
      "text/plain": [
       "\u001b[1m{\u001b[0m\n",
       "\u001b[2;32m│   \u001b[0m\u001b[32m'activity_name'\u001b[0m: \u001b[32m'Áp dụng hệ thức lượng trong tam giác vuông vào thực tế'\u001b[0m,\n",
       "\u001b[2;32m│   \u001b[0m\u001b[32m'description'\u001b[0m: \u001b[32m'Bước 1: Học sinh chia thành nhóm 3-4 người và chọn một lĩnh vực ứng dụng của tam giác vuông \u001b[0m\u001b[32m(\u001b[0m\u001b[32mkiến trúc, vật lý, kỹ thuật\u001b[0m\u001b[32m)\u001b[0m\u001b[32m. Bước 2: Học sinh vẽ một tam giác vuông có cạnh 5cm, 12cm và đo cạnh huyền bằng thước kẻ và eke. Bước 3: Học sinh áp dụng công thức Pytago \u001b[0m\u001b[32m(\u001b[0m\u001b[32ma²+\u001b[0m\u001b[32mb²\u001b[0m\u001b[32m=\u001b[0m\u001b[32mc²\u001b[0m\u001b[32m)\u001b[0m\u001b[32m để tính cạnh huyền và so sánh với kết quả đo được. Bước 4: Học sinh nghiên cứu và thu thập thông tin về ứng dụng của tam giác vuông trong lĩnh vực đã chọn. Bước 5: Học sinh trình bày kết quả nghiên cứu và ứng dụng của tam giác vuông trong lĩnh vực đã chọn.'\u001b[0m,\n",
       "\u001b[2;32m│   \u001b[0m\u001b[32m'duration_minutes'\u001b[0m: \u001b[1;36m40\u001b[0m,\n",
       "\u001b[2;32m│   \u001b[0m\u001b[32m'activity_type'\u001b[0m: \u001b[32m'Thực hành nhóm'\u001b[0m\n",
       "\u001b[1m}\u001b[0m\n"
      ]
     },
     "metadata": {},
     "output_type": "display_data"
    },
    {
     "data": {
      "text/html": [
       "<pre style=\"white-space:pre;overflow-x:auto;line-height:normal;font-family:Menlo,'DejaVu Sans Mono',consolas,'Courier New',monospace\">\n",
       "<span style=\"color: #808000; text-decoration-color: #808000; font-weight: bold\">------- Hoàn thành bước: activity_designer -------</span>\n",
       "</pre>\n"
      ],
      "text/plain": [
       "\n",
       "\u001b[1;33m------- Hoàn thành bước: activity_designer -------\u001b[0m\n"
      ]
     },
     "metadata": {},
     "output_type": "display_data"
    },
    {
     "data": {
      "text/html": [
       "<pre style=\"white-space:pre;overflow-x:auto;line-height:normal;font-family:Menlo,'DejaVu Sans Mono',consolas,'Courier New',monospace\">\n",
       "<span style=\"color: #808000; text-decoration-color: #808000; font-weight: bold\">------- Hoàn thành bước: mark_task_complete -------</span>\n",
       "</pre>\n"
      ],
      "text/plain": [
       "\n",
       "\u001b[1;33m------- Hoàn thành bước: mark_task_complete -------\u001b[0m\n"
      ]
     },
     "metadata": {},
     "output_type": "display_data"
    },
    {
     "data": {
      "text/html": [
       "<pre style=\"white-space:pre;overflow-x:auto;line-height:normal;font-family:Menlo,'DejaVu Sans Mono',consolas,'Courier New',monospace\"><span style=\"color: #008080; text-decoration-color: #008080; font-weight: bold\">&gt;</span> `Router`: Đang kiểm tra nhiệm vụ<span style=\"color: #808000; text-decoration-color: #808000\">...</span>\n",
       "</pre>\n"
      ],
      "text/plain": [
       "\u001b[1;36m>\u001b[0m `Router`: Đang kiểm tra nhiệm vụ\u001b[33m...\u001b[0m\n"
      ]
     },
     "metadata": {},
     "output_type": "display_data"
    },
    {
     "data": {
      "text/html": [
       "<pre style=\"white-space:pre;overflow-x:auto;line-height:normal;font-family:Menlo,'DejaVu Sans Mono',consolas,'Courier New',monospace\"><span style=\"color: #008080; text-decoration-color: #008080; font-weight: bold\">&gt;</span> Nhiệm vụ tiếp theo: <span style=\"color: #008000; text-decoration-color: #008000\">'Development of Problem-Solving Skills'</span> <span style=\"font-weight: bold\">(</span>ID: <span style=\"color: #008080; text-decoration-color: #008080; font-weight: bold\">3</span><span style=\"font-weight: bold\">)</span>\n",
       "</pre>\n"
      ],
      "text/plain": [
       "\u001b[1;36m>\u001b[0m Nhiệm vụ tiếp theo: \u001b[32m'Development of Problem-Solving Skills'\u001b[0m \u001b[1m(\u001b[0mID: \u001b[1;36m3\u001b[0m\u001b[1m)\u001b[0m\n"
      ]
     },
     "metadata": {},
     "output_type": "display_data"
    },
    {
     "data": {
      "text/html": [
       "<pre style=\"white-space:pre;overflow-x:auto;line-height:normal;font-family:Menlo,'DejaVu Sans Mono',consolas,'Courier New',monospace\">\n",
       "<span style=\"color: #808000; text-decoration-color: #808000; font-weight: bold\">------- Hoàn thành bước: task_router -------</span>\n",
       "</pre>\n"
      ],
      "text/plain": [
       "\n",
       "\u001b[1;33m------- Hoàn thành bước: task_router -------\u001b[0m\n"
      ]
     },
     "metadata": {},
     "output_type": "display_data"
    },
    {
     "data": {
      "text/html": [
       "<pre style=\"white-space:pre;overflow-x:auto;line-height:normal;font-family:Menlo,'DejaVu Sans Mono',consolas,'Courier New',monospace\"><span style=\"color: #008080; text-decoration-color: #008080; font-weight: bold\">&gt;</span> \n",
       "---\n",
       "### 🚚 `Agent: Task Dispatcher` Bắt đầu<span style=\"color: #808000; text-decoration-color: #808000\">...</span>\n",
       "</pre>\n"
      ],
      "text/plain": [
       "\u001b[1;36m>\u001b[0m \n",
       "---\n",
       "### 🚚 `Agent: Task Dispatcher` Bắt đầu\u001b[33m...\u001b[0m\n"
      ]
     },
     "metadata": {},
     "output_type": "display_data"
    },
    {
     "data": {
      "text/html": [
       "<pre style=\"white-space:pre;overflow-x:auto;line-height:normal;font-family:Menlo,'DejaVu Sans Mono',consolas,'Courier New',monospace\"><span style=\"color: #008080; text-decoration-color: #008080; font-weight: bold\">&gt;</span> --- 🚚 `Dispatcher`: Giao nhiệm vụ cho `activity_designer`.\n",
       "</pre>\n"
      ],
      "text/plain": [
       "\u001b[1;36m>\u001b[0m --- 🚚 `Dispatcher`: Giao nhiệm vụ cho `activity_designer`.\n"
      ]
     },
     "metadata": {},
     "output_type": "display_data"
    },
    {
     "data": {
      "text/html": [
       "<pre style=\"white-space:pre;overflow-x:auto;line-height:normal;font-family:Menlo,'DejaVu Sans Mono',consolas,'Courier New',monospace\">\n",
       "<span style=\"color: #808000; text-decoration-color: #808000; font-weight: bold\">------- Hoàn thành bước: task_dispatcher -------</span>\n",
       "</pre>\n"
      ],
      "text/plain": [
       "\n",
       "\u001b[1;33m------- Hoàn thành bước: task_dispatcher -------\u001b[0m\n"
      ]
     },
     "metadata": {},
     "output_type": "display_data"
    },
    {
     "data": {
      "text/html": [
       "<pre style=\"white-space:pre;overflow-x:auto;line-height:normal;font-family:Menlo,'DejaVu Sans Mono',consolas,'Courier New',monospace\"><span style=\"color: #008080; text-decoration-color: #008080; font-weight: bold\">&gt;</span> `Agent: Activity Designer` đang thiết kế hoạt động<span style=\"color: #808000; text-decoration-color: #808000\">...</span>\n",
       "</pre>\n"
      ],
      "text/plain": [
       "\u001b[1;36m>\u001b[0m `Agent: Activity Designer` đang thiết kế hoạt động\u001b[33m...\u001b[0m\n"
      ]
     },
     "metadata": {},
     "output_type": "display_data"
    },
    {
     "data": {
      "text/html": [
       "<pre style=\"white-space:pre;overflow-x:auto;line-height:normal;font-family:Menlo,'DejaVu Sans Mono',consolas,'Courier New',monospace\"><span style=\"color: #008000; text-decoration-color: #008000; font-weight: bold\">✔️ Hoạt động đã được thiết kế:</span>\n",
       "</pre>\n"
      ],
      "text/plain": [
       "\u001b[1;32m✔️ Hoạt động đã được thiết kế:\u001b[0m\n"
      ]
     },
     "metadata": {},
     "output_type": "display_data"
    },
    {
     "data": {
      "text/html": [
       "<pre style=\"white-space:pre;overflow-x:auto;line-height:normal;font-family:Menlo,'DejaVu Sans Mono',consolas,'Courier New',monospace\"><span style=\"font-weight: bold\">{</span>\n",
       "<span style=\"color: #7fbf7f; text-decoration-color: #7fbf7f\">│   </span><span style=\"color: #008000; text-decoration-color: #008000\">'activity_name'</span>: <span style=\"color: #008000; text-decoration-color: #008000\">'Khám phá Tam Giác Vuông với Công Thức Pytago'</span>,\n",
       "<span style=\"color: #7fbf7f; text-decoration-color: #7fbf7f\">│   </span><span style=\"color: #008000; text-decoration-color: #008000\">'description'</span>: <span style=\"color: #008000; text-decoration-color: #008000\">'Bước 1: Học sinh chia thành cặp và nhận một tờ giấy có vẽ sẵn một tam giác vuông với cạnh 5cm và 12cm. Bước 2: Học sinh dùng thước kẻ và eke để vẽ thêm một cạnh huyền của tam giác vuông. Bước 3: Học sinh đo độ dài cạnh huyền và ghi lại kết quả. Bước 4: Học sinh tính toán giá trị của a² + b² và so sánh với kết quả đo được ở bước 3 để kiểm chứng công thức Pytago a² + b² = c². Bước 5: Học sinh trình bày kết quả và thảo luận với nhau về các trường hợp khác nhau của tam giác vuông.'</span>,\n",
       "<span style=\"color: #7fbf7f; text-decoration-color: #7fbf7f\">│   </span><span style=\"color: #008000; text-decoration-color: #008000\">'duration_minutes'</span>: <span style=\"color: #008080; text-decoration-color: #008080; font-weight: bold\">20</span>,\n",
       "<span style=\"color: #7fbf7f; text-decoration-color: #7fbf7f\">│   </span><span style=\"color: #008000; text-decoration-color: #008000\">'activity_type'</span>: <span style=\"color: #008000; text-decoration-color: #008000\">'Thực hành cặp đôi'</span>\n",
       "<span style=\"font-weight: bold\">}</span>\n",
       "</pre>\n"
      ],
      "text/plain": [
       "\u001b[1m{\u001b[0m\n",
       "\u001b[2;32m│   \u001b[0m\u001b[32m'activity_name'\u001b[0m: \u001b[32m'Khám phá Tam Giác Vuông với Công Thức Pytago'\u001b[0m,\n",
       "\u001b[2;32m│   \u001b[0m\u001b[32m'description'\u001b[0m: \u001b[32m'Bước 1: Học sinh chia thành cặp và nhận một tờ giấy có vẽ sẵn một tam giác vuông với cạnh 5cm và 12cm. Bước 2: Học sinh dùng thước kẻ và eke để vẽ thêm một cạnh huyền của tam giác vuông. Bước 3: Học sinh đo độ dài cạnh huyền và ghi lại kết quả. Bước 4: Học sinh tính toán giá trị của a² + b² và so sánh với kết quả đo được ở bước 3 để kiểm chứng công thức Pytago a² + b² = c². Bước 5: Học sinh trình bày kết quả và thảo luận với nhau về các trường hợp khác nhau của tam giác vuông.'\u001b[0m,\n",
       "\u001b[2;32m│   \u001b[0m\u001b[32m'duration_minutes'\u001b[0m: \u001b[1;36m20\u001b[0m,\n",
       "\u001b[2;32m│   \u001b[0m\u001b[32m'activity_type'\u001b[0m: \u001b[32m'Thực hành cặp đôi'\u001b[0m\n",
       "\u001b[1m}\u001b[0m\n"
      ]
     },
     "metadata": {},
     "output_type": "display_data"
    },
    {
     "data": {
      "text/html": [
       "<pre style=\"white-space:pre;overflow-x:auto;line-height:normal;font-family:Menlo,'DejaVu Sans Mono',consolas,'Courier New',monospace\">\n",
       "<span style=\"color: #808000; text-decoration-color: #808000; font-weight: bold\">------- Hoàn thành bước: activity_designer -------</span>\n",
       "</pre>\n"
      ],
      "text/plain": [
       "\n",
       "\u001b[1;33m------- Hoàn thành bước: activity_designer -------\u001b[0m\n"
      ]
     },
     "metadata": {},
     "output_type": "display_data"
    },
    {
     "data": {
      "text/html": [
       "<pre style=\"white-space:pre;overflow-x:auto;line-height:normal;font-family:Menlo,'DejaVu Sans Mono',consolas,'Courier New',monospace\">\n",
       "<span style=\"color: #808000; text-decoration-color: #808000; font-weight: bold\">------- Hoàn thành bước: mark_task_complete -------</span>\n",
       "</pre>\n"
      ],
      "text/plain": [
       "\n",
       "\u001b[1;33m------- Hoàn thành bước: mark_task_complete -------\u001b[0m\n"
      ]
     },
     "metadata": {},
     "output_type": "display_data"
    },
    {
     "data": {
      "text/html": [
       "<pre style=\"white-space:pre;overflow-x:auto;line-height:normal;font-family:Menlo,'DejaVu Sans Mono',consolas,'Courier New',monospace\"><span style=\"color: #008080; text-decoration-color: #008080; font-weight: bold\">&gt;</span> `Router`: Đang kiểm tra nhiệm vụ<span style=\"color: #808000; text-decoration-color: #808000\">...</span>\n",
       "</pre>\n"
      ],
      "text/plain": [
       "\u001b[1;36m>\u001b[0m `Router`: Đang kiểm tra nhiệm vụ\u001b[33m...\u001b[0m\n"
      ]
     },
     "metadata": {},
     "output_type": "display_data"
    },
    {
     "data": {
      "text/html": [
       "<pre style=\"white-space:pre;overflow-x:auto;line-height:normal;font-family:Menlo,'DejaVu Sans Mono',consolas,'Courier New',monospace\"><span style=\"color: #008080; text-decoration-color: #008080; font-weight: bold\">&gt;</span> Nhiệm vụ tiếp theo: <span style=\"color: #008000; text-decoration-color: #008000\">'Create Assessment Questions/Bonus Exercises'</span> <span style=\"font-weight: bold\">(</span>ID: <span style=\"color: #008080; text-decoration-color: #008080; font-weight: bold\">4</span><span style=\"font-weight: bold\">)</span>\n",
       "</pre>\n"
      ],
      "text/plain": [
       "\u001b[1;36m>\u001b[0m Nhiệm vụ tiếp theo: \u001b[32m'Create Assessment Questions/Bonus Exercises'\u001b[0m \u001b[1m(\u001b[0mID: \u001b[1;36m4\u001b[0m\u001b[1m)\u001b[0m\n"
      ]
     },
     "metadata": {},
     "output_type": "display_data"
    },
    {
     "data": {
      "text/html": [
       "<pre style=\"white-space:pre;overflow-x:auto;line-height:normal;font-family:Menlo,'DejaVu Sans Mono',consolas,'Courier New',monospace\">\n",
       "<span style=\"color: #808000; text-decoration-color: #808000; font-weight: bold\">------- Hoàn thành bước: task_router -------</span>\n",
       "</pre>\n"
      ],
      "text/plain": [
       "\n",
       "\u001b[1;33m------- Hoàn thành bước: task_router -------\u001b[0m\n"
      ]
     },
     "metadata": {},
     "output_type": "display_data"
    },
    {
     "data": {
      "text/html": [
       "<pre style=\"white-space:pre;overflow-x:auto;line-height:normal;font-family:Menlo,'DejaVu Sans Mono',consolas,'Courier New',monospace\"><span style=\"color: #008080; text-decoration-color: #008080; font-weight: bold\">&gt;</span> \n",
       "---\n",
       "### 🚚 `Agent: Task Dispatcher` Bắt đầu<span style=\"color: #808000; text-decoration-color: #808000\">...</span>\n",
       "</pre>\n"
      ],
      "text/plain": [
       "\u001b[1;36m>\u001b[0m \n",
       "---\n",
       "### 🚚 `Agent: Task Dispatcher` Bắt đầu\u001b[33m...\u001b[0m\n"
      ]
     },
     "metadata": {},
     "output_type": "display_data"
    },
    {
     "data": {
      "text/html": [
       "<pre style=\"white-space:pre;overflow-x:auto;line-height:normal;font-family:Menlo,'DejaVu Sans Mono',consolas,'Courier New',monospace\"><span style=\"color: #008080; text-decoration-color: #008080; font-weight: bold\">&gt;</span> --- 🚚 `Dispatcher`: Giao nhiệm vụ cho `assessment_creator`.\n",
       "</pre>\n"
      ],
      "text/plain": [
       "\u001b[1;36m>\u001b[0m --- 🚚 `Dispatcher`: Giao nhiệm vụ cho `assessment_creator`.\n"
      ]
     },
     "metadata": {},
     "output_type": "display_data"
    },
    {
     "data": {
      "text/html": [
       "<pre style=\"white-space:pre;overflow-x:auto;line-height:normal;font-family:Menlo,'DejaVu Sans Mono',consolas,'Courier New',monospace\">\n",
       "<span style=\"color: #808000; text-decoration-color: #808000; font-weight: bold\">------- Hoàn thành bước: task_dispatcher -------</span>\n",
       "</pre>\n"
      ],
      "text/plain": [
       "\n",
       "\u001b[1;33m------- Hoàn thành bước: task_dispatcher -------\u001b[0m\n"
      ]
     },
     "metadata": {},
     "output_type": "display_data"
    },
    {
     "data": {
      "text/html": [
       "<pre style=\"white-space:pre;overflow-x:auto;line-height:normal;font-family:Menlo,'DejaVu Sans Mono',consolas,'Courier New',monospace\"><span style=\"color: #008080; text-decoration-color: #008080; font-weight: bold\">&gt;</span> `Agent: Assessment Creator` đang tạo câu hỏi đánh giá<span style=\"color: #808000; text-decoration-color: #808000\">...</span>\n",
       "</pre>\n"
      ],
      "text/plain": [
       "\u001b[1;36m>\u001b[0m `Agent: Assessment Creator` đang tạo câu hỏi đánh giá\u001b[33m...\u001b[0m\n"
      ]
     },
     "metadata": {},
     "output_type": "display_data"
    },
    {
     "data": {
      "text/html": [
       "<pre style=\"white-space:pre;overflow-x:auto;line-height:normal;font-family:Menlo,'DejaVu Sans Mono',consolas,'Courier New',monospace\"><span style=\"color: #008000; text-decoration-color: #008000; font-weight: bold\">✔️ Câu hỏi đánh giá đã được tạo:</span>\n",
       "</pre>\n"
      ],
      "text/plain": [
       "\u001b[1;32m✔️ Câu hỏi đánh giá đã được tạo:\u001b[0m\n"
      ]
     },
     "metadata": {},
     "output_type": "display_data"
    },
    {
     "data": {
      "text/html": [
       "<pre style=\"white-space:pre;overflow-x:auto;line-height:normal;font-family:Menlo,'DejaVu Sans Mono',consolas,'Courier New',monospace\"><span style=\"font-weight: bold\">{</span>\n",
       "<span style=\"color: #7fbf7f; text-decoration-color: #7fbf7f\">│   </span><span style=\"color: #008000; text-decoration-color: #008000\">'question'</span>: <span style=\"color: #008000; text-decoration-color: #008000\">'Trong tam giác vuông ABC, cạnh huyền là AB và cạnh góc vuông là AC = 5cm, BC = 12cm. Tính độ dài của cạnh AB.'</span>,\n",
       "<span style=\"color: #7fbf7f; text-decoration-color: #7fbf7f\">│   </span><span style=\"color: #008000; text-decoration-color: #008000\">'question_type'</span>: <span style=\"color: #008000; text-decoration-color: #008000\">'Bài tập vận dụng'</span>,\n",
       "<span style=\"color: #7fbf7f; text-decoration-color: #7fbf7f\">│   </span><span style=\"color: #008000; text-decoration-color: #008000\">'options'</span>: <span style=\"color: #800080; text-decoration-color: #800080; font-style: italic\">None</span>,\n",
       "<span style=\"color: #7fbf7f; text-decoration-color: #7fbf7f\">│   </span><span style=\"color: #008000; text-decoration-color: #008000\">'answer'</span>: <span style=\"color: #008000; text-decoration-color: #008000\">'Áp dụng hệ thức lượng trong tam giác vuông (định lý Pythagore): AB² = AC² + BC² =&gt; AB² = 5² + 12² =&gt; AB² = 25 + 144 =&gt; AB² = 169 =&gt; AB = √169 = 13cm.'</span>\n",
       "<span style=\"font-weight: bold\">}</span>\n",
       "</pre>\n"
      ],
      "text/plain": [
       "\u001b[1m{\u001b[0m\n",
       "\u001b[2;32m│   \u001b[0m\u001b[32m'question'\u001b[0m: \u001b[32m'Trong tam giác vuông ABC, cạnh huyền là AB và cạnh góc vuông là AC = 5cm, BC = 12cm. Tính độ dài của cạnh AB.'\u001b[0m,\n",
       "\u001b[2;32m│   \u001b[0m\u001b[32m'question_type'\u001b[0m: \u001b[32m'Bài tập vận dụng'\u001b[0m,\n",
       "\u001b[2;32m│   \u001b[0m\u001b[32m'options'\u001b[0m: \u001b[3;35mNone\u001b[0m,\n",
       "\u001b[2;32m│   \u001b[0m\u001b[32m'answer'\u001b[0m: \u001b[32m'Áp dụng hệ thức lượng trong tam giác vuông \u001b[0m\u001b[32m(\u001b[0m\u001b[32mđịnh lý Pythagore\u001b[0m\u001b[32m)\u001b[0m\u001b[32m: AB² = AC² + BC² => AB² = 5² + 12² => AB² = 25 + 144 => AB² = 169 => AB = √169 = 13cm.'\u001b[0m\n",
       "\u001b[1m}\u001b[0m\n"
      ]
     },
     "metadata": {},
     "output_type": "display_data"
    },
    {
     "data": {
      "text/html": [
       "<pre style=\"white-space:pre;overflow-x:auto;line-height:normal;font-family:Menlo,'DejaVu Sans Mono',consolas,'Courier New',monospace\">\n",
       "<span style=\"color: #808000; text-decoration-color: #808000; font-weight: bold\">------- Hoàn thành bước: assessment_creator -------</span>\n",
       "</pre>\n"
      ],
      "text/plain": [
       "\n",
       "\u001b[1;33m------- Hoàn thành bước: assessment_creator -------\u001b[0m\n"
      ]
     },
     "metadata": {},
     "output_type": "display_data"
    },
    {
     "data": {
      "text/html": [
       "<pre style=\"white-space:pre;overflow-x:auto;line-height:normal;font-family:Menlo,'DejaVu Sans Mono',consolas,'Courier New',monospace\">\n",
       "<span style=\"color: #808000; text-decoration-color: #808000; font-weight: bold\">------- Hoàn thành bước: mark_task_complete -------</span>\n",
       "</pre>\n"
      ],
      "text/plain": [
       "\n",
       "\u001b[1;33m------- Hoàn thành bước: mark_task_complete -------\u001b[0m\n"
      ]
     },
     "metadata": {},
     "output_type": "display_data"
    },
    {
     "data": {
      "text/html": [
       "<pre style=\"white-space:pre;overflow-x:auto;line-height:normal;font-family:Menlo,'DejaVu Sans Mono',consolas,'Courier New',monospace\"><span style=\"color: #008080; text-decoration-color: #008080; font-weight: bold\">&gt;</span> `Router`: Đang kiểm tra nhiệm vụ<span style=\"color: #808000; text-decoration-color: #808000\">...</span>\n",
       "</pre>\n"
      ],
      "text/plain": [
       "\u001b[1;36m>\u001b[0m `Router`: Đang kiểm tra nhiệm vụ\u001b[33m...\u001b[0m\n"
      ]
     },
     "metadata": {},
     "output_type": "display_data"
    },
    {
     "data": {
      "text/html": [
       "<pre style=\"white-space:pre;overflow-x:auto;line-height:normal;font-family:Menlo,'DejaVu Sans Mono',consolas,'Courier New',monospace\"><span style=\"color: #008080; text-decoration-color: #008080; font-weight: bold\">&gt;</span> Hết nhiệm vụ, báo hiệu để đi đến Compiler.\n",
       "</pre>\n"
      ],
      "text/plain": [
       "\u001b[1;36m>\u001b[0m Hết nhiệm vụ, báo hiệu để đi đến Compiler.\n"
      ]
     },
     "metadata": {},
     "output_type": "display_data"
    },
    {
     "data": {
      "text/html": [
       "<pre style=\"white-space:pre;overflow-x:auto;line-height:normal;font-family:Menlo,'DejaVu Sans Mono',consolas,'Courier New',monospace\">\n",
       "<span style=\"color: #808000; text-decoration-color: #808000; font-weight: bold\">------- Hoàn thành bước: task_router -------</span>\n",
       "</pre>\n"
      ],
      "text/plain": [
       "\n",
       "\u001b[1;33m------- Hoàn thành bước: task_router -------\u001b[0m\n"
      ]
     },
     "metadata": {},
     "output_type": "display_data"
    },
    {
     "data": {
      "text/html": [
       "<pre style=\"white-space:pre;overflow-x:auto;line-height:normal;font-family:Menlo,'DejaVu Sans Mono',consolas,'Courier New',monospace\"><span style=\"color: #008080; text-decoration-color: #008080; font-weight: bold\">&gt;</span> `Agent: Lesson Plan Compiler` đang tổng hợp giáo án<span style=\"color: #808000; text-decoration-color: #808000\">...</span>\n",
       "</pre>\n"
      ],
      "text/plain": [
       "\u001b[1;36m>\u001b[0m `Agent: Lesson Plan Compiler` đang tổng hợp giáo án\u001b[33m...\u001b[0m\n"
      ]
     },
     "metadata": {},
     "output_type": "display_data"
    },
    {
     "data": {
      "text/html": [
       "<pre style=\"white-space:pre;overflow-x:auto;line-height:normal;font-family:Menlo,'DejaVu Sans Mono',consolas,'Courier New',monospace\"><span style=\"color: #008080; text-decoration-color: #008080; font-weight: bold\">&gt;</span> Đã biên soạn xong giáo án cuối cùng.\n",
       "</pre>\n"
      ],
      "text/plain": [
       "\u001b[1;36m>\u001b[0m Đã biên soạn xong giáo án cuối cùng.\n"
      ]
     },
     "metadata": {},
     "output_type": "display_data"
    },
    {
     "data": {
      "text/html": [
       "<pre style=\"white-space:pre;overflow-x:auto;line-height:normal;font-family:Menlo,'DejaVu Sans Mono',consolas,'Courier New',monospace\">\n",
       "<span style=\"color: #808000; text-decoration-color: #808000; font-weight: bold\">------- Hoàn thành bước: lesson_plan_compiler -------</span>\n",
       "</pre>\n"
      ],
      "text/plain": [
       "\n",
       "\u001b[1;33m------- Hoàn thành bước: lesson_plan_compiler -------\u001b[0m\n"
      ]
     },
     "metadata": {},
     "output_type": "display_data"
    },
    {
     "data": {
      "text/html": [
       "<pre style=\"white-space:pre;overflow-x:auto;line-height:normal;font-family:Menlo,'DejaVu Sans Mono',consolas,'Courier New',monospace\">\n",
       "<span style=\"color: #800080; text-decoration-color: #800080; font-weight: bold\">🏁 KẾT THÚC QUY TRÌNH.</span>\n",
       "</pre>\n"
      ],
      "text/plain": [
       "\n",
       "\u001b[1;35m🏁 KẾT THÚC QUY TRÌNH.\u001b[0m\n"
      ]
     },
     "metadata": {},
     "output_type": "display_data"
    },
    {
     "data": {
      "text/html": [
       "<pre style=\"white-space:pre;overflow-x:auto;line-height:normal;font-family:Menlo,'DejaVu Sans Mono',consolas,'Courier New',monospace\">\n",
       "<span style=\"color: #008000; text-decoration-color: #008000; font-weight: bold\">📝 GIÁO ÁN HOÀN CHỈNH</span>\n",
       "</pre>\n"
      ],
      "text/plain": [
       "\n",
       "\u001b[1;32m📝 GIÁO ÁN HOÀN CHỈNH\u001b[0m\n"
      ]
     },
     "metadata": {},
     "output_type": "display_data"
    },
    {
     "data": {
      "text/html": [
       "<pre style=\"white-space:pre;overflow-x:auto;line-height:normal;font-family:Menlo,'DejaVu Sans Mono',consolas,'Courier New',monospace\">Here is the complete lesson plan in Markdown format:                                                               \n",
       "\n",
       "┏━━━━━━━━━━━━━━━━━━━━━━━━━━━━━━━━━━━━━━━━━━━━━━━━━━━━━━━━━━━━━━━━━━━━━━━━━━━━━━━━━━━━━━━━━━━━━━━━━━━━━━━━━━━━━━━━━┓\n",
       "┃                                   <span style=\"font-weight: bold\">Giáo Án: Hệ Thức Lượng trong Tam Giác Vuông</span>                                   ┃\n",
       "┗━━━━━━━━━━━━━━━━━━━━━━━━━━━━━━━━━━━━━━━━━━━━━━━━━━━━━━━━━━━━━━━━━━━━━━━━━━━━━━━━━━━━━━━━━━━━━━━━━━━━━━━━━━━━━━━━━┛\n",
       "\n",
       "\n",
       "                                                     <span style=\"font-weight: bold; text-decoration: underline\">Mục Tiêu</span>                                                      \n",
       "\n",
       "<span style=\"color: #808000; text-decoration-color: #808000; font-weight: bold\"> • </span>Học sinh hiểu và áp dụng hệ thức lượng trong tam giác vuông.                                                    \n",
       "<span style=\"color: #808000; text-decoration-color: #808000; font-weight: bold\"> • </span>Học sinh phát triển kỹ năng tính toán và đo đạc trong tam giác vuông.                                           \n",
       "<span style=\"color: #808000; text-decoration-color: #808000; font-weight: bold\"> • </span>Học sinh nhận thức được tầm quan trọng của tam giác vuông trong các ứng dụng thực tế.                           \n",
       "\n",
       "\n",
       "                                                     <span style=\"font-weight: bold; text-decoration: underline\">Chuẩn Bị</span>                                                      \n",
       "\n",
       "<span style=\"color: #808000; text-decoration-color: #808000; font-weight: bold\"> • </span>Thước kẻ và eke cho mỗi cặp học sinh.                                                                           \n",
       "<span style=\"color: #808000; text-decoration-color: #808000; font-weight: bold\"> • </span>Giấy vẽ tam giác vuông cho mỗi cặp học sinh.                                                                    \n",
       "<span style=\"color: #808000; text-decoration-color: #808000; font-weight: bold\"> • </span>Tờ giấy có vẽ sẵn tam giác vuông cho mỗi cặp học sinh (hoạt động 2 và 4).                                       \n",
       "\n",
       "\n",
       "                                                    <span style=\"font-weight: bold; text-decoration: underline\">Tiến Trình</span>                                                     \n",
       "\n",
       "                           <span style=\"font-weight: bold\">Hoạt Động 1: Khám Phá Tam Giác Vuông trong Đời Thực (20 phút)</span>                           \n",
       "\n",
       "<span style=\"color: #808000; text-decoration-color: #808000; font-weight: bold\"> • </span>Bước 1: Giáo viên giới thiệu khái niệm tam giác vuông và tầm quan trọng của nó trong các tình huống thực tế (5  \n",
       "<span style=\"color: #808000; text-decoration-color: #808000; font-weight: bold\">   </span>phút).                                                                                                          \n",
       "<span style=\"color: #808000; text-decoration-color: #808000; font-weight: bold\"> • </span>Bước 2: Học sinh chia thành cặp, mỗi cặp được cung cấp một thước kẻ và eke. Họ vẽ một tam giác vuông có cạnh    \n",
       "<span style=\"color: #808000; text-decoration-color: #808000; font-weight: bold\">   </span>3cm, 4cm và đo cạnh huyền (5 phút).                                                                             \n",
       "<span style=\"color: #808000; text-decoration-color: #808000; font-weight: bold\"> • </span>Bước 3: Học sinh tính toán và kiểm chứng công thức Pytago a²+b²=c² bằng cách đo và tính toán các cạnh của tam   \n",
       "<span style=\"color: #808000; text-decoration-color: #808000; font-weight: bold\">   </span>giác (5 phút).                                                                                                  \n",
       "<span style=\"color: #808000; text-decoration-color: #808000; font-weight: bold\"> • </span>Bước 4: Học sinh chia sẻ kết quả và thảo luận về tầm quan trọng của tam giác vuông trong các ứng dụng thực tế (5\n",
       "<span style=\"color: #808000; text-decoration-color: #808000; font-weight: bold\">   </span>phút).                                                                                                          \n",
       "\n",
       "                             <span style=\"font-weight: bold\">Hoạt Động 2: Khám Phá Bí Mật của Tam Giác Vuông (20 phút)</span>                             \n",
       "\n",
       "<span style=\"color: #808000; text-decoration-color: #808000; font-weight: bold\"> • </span>Bước 1: Học sinh chia thành cặp và nhận một tờ giấy có vẽ sẵn một tam giác vuông với cạnh 3cm và 4cm.           \n",
       "<span style=\"color: #808000; text-decoration-color: #808000; font-weight: bold\"> • </span>Bước 2: Học sinh dùng thước kẻ và eke để vẽ thêm một cạnh huyền của tam giác vuông.                             \n",
       "<span style=\"color: #808000; text-decoration-color: #808000; font-weight: bold\"> • </span>Bước 3: Học sinh đo độ dài của cạnh huyền và ghi lại kết quả.                                                   \n",
       "<span style=\"color: #808000; text-decoration-color: #808000; font-weight: bold\"> • </span>Bước 4: Học sinh tính toán giá trị của a²+b² và so sánh với kết quả đo được ở bước 3.                           \n",
       "<span style=\"color: #808000; text-decoration-color: #808000; font-weight: bold\"> • </span>Bước 5: Học sinh thảo luận và chia sẻ kết quả với nhau, rút ra kết luận về hệ thức lượng trong tam giác vuông.  \n",
       "\n",
       "                   <span style=\"font-weight: bold\">Hoạt Động 3: Áp Dụng Hệ Thức Lượng trong Tam Giác Vuông vào Thực Tế (40 phút)</span>                   \n",
       "\n",
       "<span style=\"color: #808000; text-decoration-color: #808000; font-weight: bold\"> • </span>Bước 1: Học sinh chia thành nhóm 3-4 người và chọn một lĩnh vực ứng dụng của tam giác vuông (kiến trúc, vật lý, \n",
       "<span style=\"color: #808000; text-decoration-color: #808000; font-weight: bold\">   </span>kỹ thuật).                                                                                                      \n",
       "<span style=\"color: #808000; text-decoration-color: #808000; font-weight: bold\"> • </span>Bước 2: Học sinh vẽ một tam giác vuông có cạnh 5cm, 12cm và đo cạnh huyền bằng thước kẻ và eke.                 \n",
       "<span style=\"color: #808000; text-decoration-color: #808000; font-weight: bold\"> • </span>Bước 3: Học sinh áp dụng công thức Pytago (a²+b²=c²) để tính cạnh huyền và so sánh với kết quả đo được.         \n",
       "<span style=\"color: #808000; text-decoration-color: #808000; font-weight: bold\"> • </span>Bước 4: Học sinh nghiên cứu và thu thập thông tin về ứng dụng của tam giác vuông trong lĩnh vực đã chọn.        \n",
       "<span style=\"color: #808000; text-decoration-color: #808000; font-weight: bold\"> • </span>Bước 5: Học sinh trình bày kết quả nghiên cứu và ứng dụng của tam giác vuông trong lĩnh vực đã chọn.            \n",
       "\n",
       "                        <span style=\"font-weight: bold\">Hoạt Động 4: Khám Phá Tam Giác Vuông với Công Thức Pytago (20 phút)</span>                        \n",
       "\n",
       "<span style=\"color: #808000; text-decoration-color: #808000; font-weight: bold\"> • </span>Bước 1: Học sinh chia thành cặp và nhận một tờ giấy có vẽ sẵn một tam giác vuông với cạnh 5cm và 12cm.          \n",
       "<span style=\"color: #808000; text-decoration-color: #808000; font-weight: bold\"> • </span>Bước 2: Học sinh dùng thước kẻ và eke để vẽ thêm một cạnh huyền của tam giác vuông.                             \n",
       "<span style=\"color: #808000; text-decoration-color: #808000; font-weight: bold\"> • </span>Bước 3: Học sinh đo độ dài cạnh huyền và ghi lại kết quả.                                                       \n",
       "<span style=\"color: #808000; text-decoration-color: #808000; font-weight: bold\"> • </span>Bước 4: Học sinh tính toán giá trị của a² + b² và so sánh với kết quả đo được ở bước 3 để kiểm chứng công thức  \n",
       "<span style=\"color: #808000; text-decoration-color: #808000; font-weight: bold\">   </span>Pytago a² + b² = c².                                                                                            \n",
       "<span style=\"color: #808000; text-decoration-color: #808000; font-weight: bold\"> • </span>Bước 5: Học sinh trình bày kết quả và thảo luận với nhau về các trường hợp khác nhau của tam giác vuông.        \n",
       "\n",
       "\n",
       "                                                     <span style=\"font-weight: bold; text-decoration: underline\">Đánh Giá</span>                                                      \n",
       "\n",
       "<span style=\"color: #808000; text-decoration-color: #808000; font-weight: bold\"> • </span>Bài tập vận dụng: Trong tam giác vuông ABC, cạnh huyền là AB và cạnh góc vuông là AC = 5cm, BC = 12cm. Tính độ  \n",
       "<span style=\"color: #808000; text-decoration-color: #808000; font-weight: bold\">   </span>dài của cạnh AB.                                                                                                \n",
       "<span style=\"color: #808000; text-decoration-color: #808000; font-weight: bold\"> • </span>Áp dụng hệ thức lượng trong tam giác vuông (định lý Pythagore): AB² = AC² + BC² =&gt; AB² = 5² + 12² =&gt; AB² = 25 + \n",
       "<span style=\"color: #808000; text-decoration-color: #808000; font-weight: bold\">   </span>144 =&gt; AB² = 169 =&gt; AB = √169 = 13cm.                                                                           \n",
       "\n",
       "\n",
       "                                               <span style=\"font-weight: bold; text-decoration: underline\">Ghi chú của Trợ lý AI</span>                                               \n",
       "\n",
       "<span style=\"color: #808000; text-decoration-color: #808000; font-weight: bold\"> • </span>Tổng thời lượng của tất cả các hoạt động: 100 phút.                                                             \n",
       "<span style=\"color: #808000; text-decoration-color: #808000; font-weight: bold\"> • </span>Lời khuyên cho giáo viên: Nếu tổng thời lượng vượt quá 90 phút, hãy chia bài học thành nhiều buổi để học sinh có\n",
       "<span style=\"color: #808000; text-decoration-color: #808000; font-weight: bold\">   </span>thể hấp thụ và thực hành đầy đủ.                                                                                \n",
       "</pre>\n"
      ],
      "text/plain": [
       "Here is the complete lesson plan in Markdown format:                                                               \n",
       "\n",
       "┏━━━━━━━━━━━━━━━━━━━━━━━━━━━━━━━━━━━━━━━━━━━━━━━━━━━━━━━━━━━━━━━━━━━━━━━━━━━━━━━━━━━━━━━━━━━━━━━━━━━━━━━━━━━━━━━━━┓\n",
       "┃                                   \u001b[1mGiáo Án: Hệ Thức Lượng trong Tam Giác Vuông\u001b[0m                                   ┃\n",
       "┗━━━━━━━━━━━━━━━━━━━━━━━━━━━━━━━━━━━━━━━━━━━━━━━━━━━━━━━━━━━━━━━━━━━━━━━━━━━━━━━━━━━━━━━━━━━━━━━━━━━━━━━━━━━━━━━━━┛\n",
       "\n",
       "\n",
       "                                                     \u001b[1;4mMục Tiêu\u001b[0m                                                      \n",
       "\n",
       "\u001b[1;33m • \u001b[0mHọc sinh hiểu và áp dụng hệ thức lượng trong tam giác vuông.                                                    \n",
       "\u001b[1;33m • \u001b[0mHọc sinh phát triển kỹ năng tính toán và đo đạc trong tam giác vuông.                                           \n",
       "\u001b[1;33m • \u001b[0mHọc sinh nhận thức được tầm quan trọng của tam giác vuông trong các ứng dụng thực tế.                           \n",
       "\n",
       "\n",
       "                                                     \u001b[1;4mChuẩn Bị\u001b[0m                                                      \n",
       "\n",
       "\u001b[1;33m • \u001b[0mThước kẻ và eke cho mỗi cặp học sinh.                                                                           \n",
       "\u001b[1;33m • \u001b[0mGiấy vẽ tam giác vuông cho mỗi cặp học sinh.                                                                    \n",
       "\u001b[1;33m • \u001b[0mTờ giấy có vẽ sẵn tam giác vuông cho mỗi cặp học sinh (hoạt động 2 và 4).                                       \n",
       "\n",
       "\n",
       "                                                    \u001b[1;4mTiến Trình\u001b[0m                                                     \n",
       "\n",
       "                           \u001b[1mHoạt Động 1: Khám Phá Tam Giác Vuông trong Đời Thực (20 phút)\u001b[0m                           \n",
       "\n",
       "\u001b[1;33m • \u001b[0mBước 1: Giáo viên giới thiệu khái niệm tam giác vuông và tầm quan trọng của nó trong các tình huống thực tế (5  \n",
       "\u001b[1;33m   \u001b[0mphút).                                                                                                          \n",
       "\u001b[1;33m • \u001b[0mBước 2: Học sinh chia thành cặp, mỗi cặp được cung cấp một thước kẻ và eke. Họ vẽ một tam giác vuông có cạnh    \n",
       "\u001b[1;33m   \u001b[0m3cm, 4cm và đo cạnh huyền (5 phút).                                                                             \n",
       "\u001b[1;33m • \u001b[0mBước 3: Học sinh tính toán và kiểm chứng công thức Pytago a²+b²=c² bằng cách đo và tính toán các cạnh của tam   \n",
       "\u001b[1;33m   \u001b[0mgiác (5 phút).                                                                                                  \n",
       "\u001b[1;33m • \u001b[0mBước 4: Học sinh chia sẻ kết quả và thảo luận về tầm quan trọng của tam giác vuông trong các ứng dụng thực tế (5\n",
       "\u001b[1;33m   \u001b[0mphút).                                                                                                          \n",
       "\n",
       "                             \u001b[1mHoạt Động 2: Khám Phá Bí Mật của Tam Giác Vuông (20 phút)\u001b[0m                             \n",
       "\n",
       "\u001b[1;33m • \u001b[0mBước 1: Học sinh chia thành cặp và nhận một tờ giấy có vẽ sẵn một tam giác vuông với cạnh 3cm và 4cm.           \n",
       "\u001b[1;33m • \u001b[0mBước 2: Học sinh dùng thước kẻ và eke để vẽ thêm một cạnh huyền của tam giác vuông.                             \n",
       "\u001b[1;33m • \u001b[0mBước 3: Học sinh đo độ dài của cạnh huyền và ghi lại kết quả.                                                   \n",
       "\u001b[1;33m • \u001b[0mBước 4: Học sinh tính toán giá trị của a²+b² và so sánh với kết quả đo được ở bước 3.                           \n",
       "\u001b[1;33m • \u001b[0mBước 5: Học sinh thảo luận và chia sẻ kết quả với nhau, rút ra kết luận về hệ thức lượng trong tam giác vuông.  \n",
       "\n",
       "                   \u001b[1mHoạt Động 3: Áp Dụng Hệ Thức Lượng trong Tam Giác Vuông vào Thực Tế (40 phút)\u001b[0m                   \n",
       "\n",
       "\u001b[1;33m • \u001b[0mBước 1: Học sinh chia thành nhóm 3-4 người và chọn một lĩnh vực ứng dụng của tam giác vuông (kiến trúc, vật lý, \n",
       "\u001b[1;33m   \u001b[0mkỹ thuật).                                                                                                      \n",
       "\u001b[1;33m • \u001b[0mBước 2: Học sinh vẽ một tam giác vuông có cạnh 5cm, 12cm và đo cạnh huyền bằng thước kẻ và eke.                 \n",
       "\u001b[1;33m • \u001b[0mBước 3: Học sinh áp dụng công thức Pytago (a²+b²=c²) để tính cạnh huyền và so sánh với kết quả đo được.         \n",
       "\u001b[1;33m • \u001b[0mBước 4: Học sinh nghiên cứu và thu thập thông tin về ứng dụng của tam giác vuông trong lĩnh vực đã chọn.        \n",
       "\u001b[1;33m • \u001b[0mBước 5: Học sinh trình bày kết quả nghiên cứu và ứng dụng của tam giác vuông trong lĩnh vực đã chọn.            \n",
       "\n",
       "                        \u001b[1mHoạt Động 4: Khám Phá Tam Giác Vuông với Công Thức Pytago (20 phút)\u001b[0m                        \n",
       "\n",
       "\u001b[1;33m • \u001b[0mBước 1: Học sinh chia thành cặp và nhận một tờ giấy có vẽ sẵn một tam giác vuông với cạnh 5cm và 12cm.          \n",
       "\u001b[1;33m • \u001b[0mBước 2: Học sinh dùng thước kẻ và eke để vẽ thêm một cạnh huyền của tam giác vuông.                             \n",
       "\u001b[1;33m • \u001b[0mBước 3: Học sinh đo độ dài cạnh huyền và ghi lại kết quả.                                                       \n",
       "\u001b[1;33m • \u001b[0mBước 4: Học sinh tính toán giá trị của a² + b² và so sánh với kết quả đo được ở bước 3 để kiểm chứng công thức  \n",
       "\u001b[1;33m   \u001b[0mPytago a² + b² = c².                                                                                            \n",
       "\u001b[1;33m • \u001b[0mBước 5: Học sinh trình bày kết quả và thảo luận với nhau về các trường hợp khác nhau của tam giác vuông.        \n",
       "\n",
       "\n",
       "                                                     \u001b[1;4mĐánh Giá\u001b[0m                                                      \n",
       "\n",
       "\u001b[1;33m • \u001b[0mBài tập vận dụng: Trong tam giác vuông ABC, cạnh huyền là AB và cạnh góc vuông là AC = 5cm, BC = 12cm. Tính độ  \n",
       "\u001b[1;33m   \u001b[0mdài của cạnh AB.                                                                                                \n",
       "\u001b[1;33m • \u001b[0mÁp dụng hệ thức lượng trong tam giác vuông (định lý Pythagore): AB² = AC² + BC² => AB² = 5² + 12² => AB² = 25 + \n",
       "\u001b[1;33m   \u001b[0m144 => AB² = 169 => AB = √169 = 13cm.                                                                           \n",
       "\n",
       "\n",
       "                                               \u001b[1;4mGhi chú của Trợ lý AI\u001b[0m                                               \n",
       "\n",
       "\u001b[1;33m • \u001b[0mTổng thời lượng của tất cả các hoạt động: 100 phút.                                                             \n",
       "\u001b[1;33m • \u001b[0mLời khuyên cho giáo viên: Nếu tổng thời lượng vượt quá 90 phút, hãy chia bài học thành nhiều buổi để học sinh có\n",
       "\u001b[1;33m   \u001b[0mthể hấp thụ và thực hành đầy đủ.                                                                                \n"
      ]
     },
     "metadata": {},
     "output_type": "display_data"
    },
    {
     "data": {
      "text/html": [
       "<pre style=\"white-space:pre;overflow-x:auto;line-height:normal;font-family:Menlo,'DejaVu Sans Mono',consolas,'Courier New',monospace\">\n",
       "<span style=\"color: #000080; text-decoration-color: #000080; font-weight: bold\">🕵️‍♂️ TRẠNG THÁI CUỐI CÙNG (ĐỂ DEBUG)</span>\n",
       "</pre>\n"
      ],
      "text/plain": [
       "\n",
       "\u001b[1;34m🕵️‍♂️ TRẠNG THÁI CUỐI CÙNG \u001b[0m\u001b[1;34m(\u001b[0m\u001b[1;34mĐỂ DEBUG\u001b[0m\u001b[1;34m)\u001b[0m\n"
      ]
     },
     "metadata": {},
     "output_type": "display_data"
    },
    {
     "data": {
      "text/html": [
       "<pre style=\"white-space:pre;overflow-x:auto;line-height:normal;font-family:Menlo,'DejaVu Sans Mono',consolas,'Courier New',monospace\"><span style=\"font-weight: bold\">{</span>\n",
       "<span style=\"color: #7fbf7f; text-decoration-color: #7fbf7f\">│   </span><span style=\"color: #008000; text-decoration-color: #008000\">'final_lesson_plan'</span>: <span style=\"color: #008000; text-decoration-color: #008000\">'Here is the complete lesson plan in Markdown format:\\n\\n**Giáo Án: Hệ Thức Lượng trong Tam Giác Vuông**\\n==============================================\\n\\n**Mục Tiêu**\\n-----------\\n\\n* Học sinh hiểu và áp dụng hệ thức lượng trong tam giác vuông.\\n* Học sinh phát triển kỹ năng tính toán và đo đạc trong tam giác vuông.\\n* Học sinh nhận thức được tầm quan trọng của tam giác vuông trong các ứng dụng thực tế.\\n\\n**Chuẩn Bị**\\n-------------\\n\\n* Thước kẻ và eke cho mỗi cặp học sinh.\\n* Giấy vẽ tam giác vuông cho mỗi cặp học sinh.\\n* Tờ giấy có vẽ sẵn tam giác vuông cho mỗi cặp học sinh (hoạt động 2 và 4).\\n\\n**Tiến Trình**\\n--------------\\n\\n### Hoạt Động 1: Khám Phá Tam Giác Vuông trong Đời Thực (20 phút)\\n\\n* Bước 1: Giáo viên giới thiệu khái niệm tam giác vuông và tầm quan trọng của nó trong các tình huống thực tế (5 phút).\\n* Bước 2: Học sinh chia thành cặp, mỗi cặp được cung cấp một thước kẻ và eke. Họ vẽ một tam giác vuông có cạnh 3cm, 4cm và đo cạnh huyền (5 phút).\\n* Bước 3: Học sinh tính toán và kiểm chứng công thức Pytago a²+b²=c² bằng cách đo và tính toán các cạnh của tam giác (5 phút).\\n* Bước 4: Học sinh chia sẻ kết quả và thảo luận về tầm quan trọng của tam giác vuông trong các ứng dụng thực tế (5 phút).\\n\\n### Hoạt Động 2: Khám Phá Bí Mật của Tam Giác Vuông (20 phút)\\n\\n* Bước 1: Học sinh chia thành cặp và nhận một tờ giấy có vẽ sẵn một tam giác vuông với cạnh 3cm và 4cm.\\n* Bước 2: Học sinh dùng thước kẻ và eke để vẽ thêm một cạnh huyền của tam giác vuông.\\n* Bước 3: Học sinh đo độ dài của cạnh huyền và ghi lại kết quả.\\n* Bước 4: Học sinh tính toán giá trị của a²+b² và so sánh với kết quả đo được ở bước 3.\\n* Bước 5: Học sinh thảo luận và chia sẻ kết quả với nhau, rút ra kết luận về hệ thức lượng trong tam giác vuông.\\n\\n### Hoạt Động 3: Áp Dụng Hệ Thức Lượng trong Tam Giác Vuông vào Thực Tế (40 phút)\\n\\n* Bước 1: Học sinh chia thành nhóm 3-4 người và chọn một lĩnh vực ứng dụng của tam giác vuông (kiến trúc, vật lý, kỹ thuật).\\n* Bước 2: Học sinh vẽ một tam giác vuông có cạnh 5cm, 12cm và đo cạnh huyền bằng thước kẻ và eke.\\n* Bước 3: Học sinh áp dụng công thức Pytago (a²+b²=c²) để tính cạnh huyền và so sánh với kết quả đo được.\\n* Bước 4: Học sinh nghiên cứu và thu thập thông tin về ứng dụng của tam giác vuông trong lĩnh vực đã chọn.\\n* Bước 5: Học sinh trình bày kết quả nghiên cứu và ứng dụng của tam giác vuông trong lĩnh vực đã chọn.\\n\\n### Hoạt Động 4: Khám Phá Tam Giác Vuông với Công Thức Pytago (20 phút)\\n\\n* Bước 1: Học sinh chia thành cặp và nhận một tờ giấy có vẽ sẵn một tam giác vuông với cạnh 5cm và 12cm.\\n* Bước 2: Học sinh dùng thước kẻ và eke để vẽ thêm một cạnh huyền của tam giác vuông.\\n* Bước 3: Học sinh đo độ dài cạnh huyền và ghi lại kết quả.\\n* Bước 4: Học sinh tính toán giá trị của a² + b² và so sánh với kết quả đo được ở bước 3 để kiểm chứng công thức Pytago a² + b² = c².\\n* Bước 5: Học sinh trình bày kết quả và thảo luận với nhau về các trường hợp khác nhau của tam giác vuông.\\n\\n**Đánh Giá**\\n------------\\n\\n* Bài tập vận dụng: Trong tam giác vuông ABC, cạnh huyền là AB và cạnh góc vuông là AC = 5cm, BC = 12cm. Tính độ dài của cạnh AB.\\n* Áp dụng hệ thức lượng trong tam giác vuông (định lý Pythagore): AB² = AC² + BC² =&gt; AB² = 5² + 12² =&gt; AB² = 25 + 144 =&gt; AB² = 169 =&gt; AB = √169 = 13cm.\\n\\n**Ghi chú của Trợ lý AI**\\n-------------------------\\n\\n* Tổng thời lượng của tất cả các hoạt động: 100 phút.\\n* Lời khuyên cho giáo viên: Nếu tổng thời lượng vượt quá 90 phút, hãy chia bài học thành nhiều buổi để học sinh có thể hấp thụ và thực hành đầy đủ.'</span>\n",
       "<span style=\"font-weight: bold\">}</span>\n",
       "</pre>\n"
      ],
      "text/plain": [
       "\u001b[1m{\u001b[0m\n",
       "\u001b[2;32m│   \u001b[0m\u001b[32m'final_lesson_plan'\u001b[0m: \u001b[32m'Here is the complete lesson plan in Markdown format:\\n\\n**Giáo Án: Hệ Thức Lượng trong Tam Giác Vuông**\\\u001b[0m\u001b[32mn\u001b[0m\u001b[32m==============================================\\n\\n**Mục Tiêu**\\n-----------\\n\\n* Học sinh hiểu và áp dụng hệ thức lượng trong tam giác vuông.\\n* Học sinh phát triển kỹ năng tính toán và đo đạc trong tam giác vuông.\\n* Học sinh nhận thức được tầm quan trọng của tam giác vuông trong các ứng dụng thực tế.\\n\\n**Chuẩn Bị**\\n-------------\\n\\n* Thước kẻ và eke cho mỗi cặp học sinh.\\n* Giấy vẽ tam giác vuông cho mỗi cặp học sinh.\\n* Tờ giấy có vẽ sẵn tam giác vuông cho mỗi cặp học sinh \u001b[0m\u001b[32m(\u001b[0m\u001b[32mhoạt động 2 và 4\u001b[0m\u001b[32m)\u001b[0m\u001b[32m.\\n\\n**Tiến Trình**\\n--------------\\n\\n### Hoạt Động 1: Khám Phá Tam Giác Vuông trong Đời Thực \u001b[0m\u001b[32m(\u001b[0m\u001b[32m20 phút\u001b[0m\u001b[32m)\u001b[0m\u001b[32m\\n\\n* Bước 1: Giáo viên giới thiệu khái niệm tam giác vuông và tầm quan trọng của nó trong các tình huống thực tế \u001b[0m\u001b[32m(\u001b[0m\u001b[32m5 phút\u001b[0m\u001b[32m)\u001b[0m\u001b[32m.\\n* Bước 2: Học sinh chia thành cặp, mỗi cặp được cung cấp một thước kẻ và eke. Họ vẽ một tam giác vuông có cạnh 3cm, 4cm và đo cạnh huyền \u001b[0m\u001b[32m(\u001b[0m\u001b[32m5 phút\u001b[0m\u001b[32m)\u001b[0m\u001b[32m.\\n* Bước 3: Học sinh tính toán và kiểm chứng công thức Pytago a²+\u001b[0m\u001b[32mb²\u001b[0m\u001b[32m=\u001b[0m\u001b[32mc²\u001b[0m\u001b[32m bằng cách đo và tính toán các cạnh của tam giác \u001b[0m\u001b[32m(\u001b[0m\u001b[32m5 phút\u001b[0m\u001b[32m)\u001b[0m\u001b[32m.\\n* Bước 4: Học sinh chia sẻ kết quả và thảo luận về tầm quan trọng của tam giác vuông trong các ứng dụng thực tế \u001b[0m\u001b[32m(\u001b[0m\u001b[32m5 phút\u001b[0m\u001b[32m)\u001b[0m\u001b[32m.\\n\\n### Hoạt Động 2: Khám Phá Bí Mật của Tam Giác Vuông \u001b[0m\u001b[32m(\u001b[0m\u001b[32m20 phút\u001b[0m\u001b[32m)\u001b[0m\u001b[32m\\n\\n* Bước 1: Học sinh chia thành cặp và nhận một tờ giấy có vẽ sẵn một tam giác vuông với cạnh 3cm và 4cm.\\n* Bước 2: Học sinh dùng thước kẻ và eke để vẽ thêm một cạnh huyền của tam giác vuông.\\n* Bước 3: Học sinh đo độ dài của cạnh huyền và ghi lại kết quả.\\n* Bước 4: Học sinh tính toán giá trị của a²+b² và so sánh với kết quả đo được ở bước 3.\\n* Bước 5: Học sinh thảo luận và chia sẻ kết quả với nhau, rút ra kết luận về hệ thức lượng trong tam giác vuông.\\n\\n### Hoạt Động 3: Áp Dụng Hệ Thức Lượng trong Tam Giác Vuông vào Thực Tế \u001b[0m\u001b[32m(\u001b[0m\u001b[32m40 phút\u001b[0m\u001b[32m)\u001b[0m\u001b[32m\\n\\n* Bước 1: Học sinh chia thành nhóm 3-4 người và chọn một lĩnh vực ứng dụng của tam giác vuông \u001b[0m\u001b[32m(\u001b[0m\u001b[32mkiến trúc, vật lý, kỹ thuật\u001b[0m\u001b[32m)\u001b[0m\u001b[32m.\\n* Bước 2: Học sinh vẽ một tam giác vuông có cạnh 5cm, 12cm và đo cạnh huyền bằng thước kẻ và eke.\\n* Bước 3: Học sinh áp dụng công thức Pytago \u001b[0m\u001b[32m(\u001b[0m\u001b[32ma²+\u001b[0m\u001b[32mb²\u001b[0m\u001b[32m=\u001b[0m\u001b[32mc²\u001b[0m\u001b[32m)\u001b[0m\u001b[32m để tính cạnh huyền và so sánh với kết quả đo được.\\n* Bước 4: Học sinh nghiên cứu và thu thập thông tin về ứng dụng của tam giác vuông trong lĩnh vực đã chọn.\\n* Bước 5: Học sinh trình bày kết quả nghiên cứu và ứng dụng của tam giác vuông trong lĩnh vực đã chọn.\\n\\n### Hoạt Động 4: Khám Phá Tam Giác Vuông với Công Thức Pytago \u001b[0m\u001b[32m(\u001b[0m\u001b[32m20 phút\u001b[0m\u001b[32m)\u001b[0m\u001b[32m\\n\\n* Bước 1: Học sinh chia thành cặp và nhận một tờ giấy có vẽ sẵn một tam giác vuông với cạnh 5cm và 12cm.\\n* Bước 2: Học sinh dùng thước kẻ và eke để vẽ thêm một cạnh huyền của tam giác vuông.\\n* Bước 3: Học sinh đo độ dài cạnh huyền và ghi lại kết quả.\\n* Bước 4: Học sinh tính toán giá trị của a² + b² và so sánh với kết quả đo được ở bước 3 để kiểm chứng công thức Pytago a² + b² = c².\\n* Bước 5: Học sinh trình bày kết quả và thảo luận với nhau về các trường hợp khác nhau của tam giác vuông.\\n\\n**Đánh Giá**\\n------------\\n\\n* Bài tập vận dụng: Trong tam giác vuông ABC, cạnh huyền là AB và cạnh góc vuông là AC = 5cm, BC = 12cm. Tính độ dài của cạnh AB.\\n* Áp dụng hệ thức lượng trong tam giác vuông \u001b[0m\u001b[32m(\u001b[0m\u001b[32mđịnh lý Pythagore\u001b[0m\u001b[32m)\u001b[0m\u001b[32m: AB² = AC² + BC² => AB² = 5² + 12² => AB² = 25 + 144 => AB² = 169 => AB = √169 = 13cm.\\n\\n**Ghi chú của Trợ lý AI**\\n-------------------------\\n\\n* Tổng thời lượng của tất cả các hoạt động: 100 phút.\\n* Lời khuyên cho giáo viên: Nếu tổng thời lượng vượt quá 90 phút, hãy chia bài học thành nhiều buổi để học sinh có thể hấp thụ và thực hành đầy đủ.'\u001b[0m\n",
       "\u001b[1m}\u001b[0m\n"
      ]
     },
     "metadata": {},
     "output_type": "display_data"
    }
   ],
   "source": [
    "# ==============================================================================\n",
    "# CELL 5: CHẠY THỬ NGHIỆM (PHIÊN BẢN LOG ĐẸP)\n",
    "# ==============================================================================\n",
    "\n",
    "async def run_graph(user_request: str):\n",
    "    \"\"\"\n",
    "    Hàm để chạy graph với một yêu cầu cụ thể, theo dõi các bước,\n",
    "    và in ra kết quả cuối cùng một cách đẹp mắt.\n",
    "    \"\"\"\n",
    "    \n",
    "    # Khởi tạo trạng thái ban đầu\n",
    "    initial_state = {\n",
    "        \"messages\": [HumanMessage(content=user_request)],\n",
    "        \"agent_outputs\": {},\n",
    "        \"analyzed_objective\": None, \"pedagogy_strategy\": None,\n",
    "        \"task_list\": None, \"current_task_id\": None,\n",
    "        \"final_lesson_plan\": None, \"next_agent\": \"\"\n",
    "    }\n",
    "    \n",
    "    console.print(f\"\\n[bold magenta]🚀 BẮT ĐẦU QUY TRÌNH VỚI YÊU CẦU:[/bold magenta]\\n> {user_request}\")\n",
    "    \n",
    "    config = {\"recursion_limit\": 50}\n",
    "    final_state_result = None\n",
    "    \n",
    "    # astream sẽ trả về một stream các sự kiện của graph\n",
    "    async for event in app.astream(initial_state, config=config):\n",
    "        # Mỗi event là một dictionary chứa tên node và kết quả (state) sau khi node đó chạy\n",
    "        for node_name, node_output in event.items():\n",
    "            console.print(f\"\\n[bold yellow]------- Hoàn thành bước: {node_name} -------[/bold yellow]\")\n",
    "            # Lưu lại state cuối cùng sau mỗi bước\n",
    "            final_state_result = node_output\n",
    "\n",
    "    console.print(\"\\n[bold magenta]🏁 KẾT THÚC QUY TRÌNH.[/bold magenta]\")\n",
    "    \n",
    "    # In ra các thông tin quan trọng sau khi quy trình kết thúc\n",
    "    if final_state_result:\n",
    "        # In ra giáo án cuối cùng\n",
    "        if final_state_result.get(\"final_lesson_plan\"):\n",
    "            console.print(\"\\n[bold green]📝 GIÁO ÁN HOÀN CHỈNH[/bold green]\")\n",
    "            console.print(Markdown(final_state_result[\"final_lesson_plan\"]))\n",
    "        \n",
    "        # In ra toàn bộ state cuối cùng để debug nếu cần\n",
    "        if VERBOSE_MODE:\n",
    "            console.print(\"\\n[bold blue]🕵️‍♂️ TRẠNG THÁI CUỐI CÙNG (ĐỂ DEBUG)[/bold blue]\")\n",
    "            pprint(final_state_result)\n",
    "    else:\n",
    "        console.print(\"\\n[bold red]⚠️ Không có kết quả cuối cùng để hiển thị.[/bold red]\")\n",
    "\n",
    "\n",
    "# --- KỊCH BẢN THỬ NGHIỆM MỚI CHO RAG ---\n",
    "# Yêu cầu một chủ đề có trong sách giáo khoa Toán 9\n",
    "request_rag_test = \"Soạn giáo án cho học sinh lớp 9. Mục tiêu là giúp các em hiểu và vận dụng được các hệ thức lượng trong tam giác vuông trong 2 tiết học 45 phút trên trường\"\n",
    "\n",
    "# --- BẬT/TẮT LOG CHI TIẾT ---\n",
    "# Đặt là True để xem log chi tiết của từng agent\n",
    "# Đặt là False để chỉ xem các tiêu đề chính\n",
    "VERBOSE_MODE = True \n",
    "\n",
    "# --- CHẠY THỬ ---\n",
    "# Chạy graph với yêu cầu đã chuẩn bị\n",
    "await run_graph(request_rag_test)"
   ]
  },
  {
   "cell_type": "code",
   "execution_count": null,
   "id": "84c017a9",
   "metadata": {},
   "outputs": [],
   "source": []
  },
  {
   "cell_type": "code",
   "execution_count": null,
   "id": "1119c2f1",
   "metadata": {},
   "outputs": [],
   "source": []
  }
 ],
 "metadata": {
  "kernelspec": {
   "display_name": "plan_venv",
   "language": "python",
   "name": "python3"
  },
  "language_info": {
   "codemirror_mode": {
    "name": "ipython",
    "version": 3
   },
   "file_extension": ".py",
   "mimetype": "text/x-python",
   "name": "python",
   "nbconvert_exporter": "python",
   "pygments_lexer": "ipython3",
   "version": "3.11.8"
  }
 },
 "nbformat": 4,
 "nbformat_minor": 5
}
