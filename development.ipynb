{
 "cells": [
  {
   "cell_type": "code",
   "execution_count": 20,
   "id": "d0676273",
   "metadata": {},
   "outputs": [
    {
     "name": "stdout",
     "output_type": "stream",
     "text": [
      "✅ LLM (Groq) đã được khởi tạo thành công.\n"
     ]
    }
   ],
   "source": [
    "# ==============================================================================\n",
    "# CELL 1: CÀI ĐẶT, IMPORTS & THIẾT LẬP BAN ĐẦU\n",
    "# ==============================================================================\n",
    "import os\n",
    "import json\n",
    "import asyncio\n",
    "from typing import TypedDict, Annotated, List, Dict, Any, Literal, Optional\n",
    "import operator\n",
    "\n",
    "# Tải các biến môi trường\n",
    "from dotenv import load_dotenv\n",
    "load_dotenv()\n",
    "\n",
    "# LangChain & LangGraph\n",
    "from langchain_core.messages import BaseMessage, HumanMessage\n",
    "from langchain_core.pydantic_v1 import BaseModel, Field\n",
    "from langchain_groq import ChatGroq\n",
    "from langgraph.graph import StateGraph, END\n",
    "\n",
    "# Thư viện hỗ trợ\n",
    "from rich.console import Console\n",
    "from rich.markdown import Markdown\n",
    "from IPython.display import Image, display\n",
    "\n",
    "VERBOSE_MODE = False\n",
    "# --- Khởi tạo các đối tượng dùng chung ---\n",
    "console = Console()\n",
    "\n",
    "def print_markdown(text):\n",
    "    \"\"\"Hàm tiện ích để in markdown ra console.\"\"\"\n",
    "    console.print(Markdown(text))\n",
    "\n",
    "# Khởi tạo LLM\n",
    "try:\n",
    "    llm = ChatGroq(\n",
    "        temperature=0.1,\n",
    "        model=\"llama3-70b-8192\",\n",
    "        api_key=os.getenv(\"GROQ_API_KEY\"),\n",
    "        max_tokens=2048\n",
    "    )\n",
    "    print(\"✅ LLM (Groq) đã được khởi tạo thành công.\")\n",
    "except Exception as e:\n",
    "    print(f\"❌ LỖI: Không thể khởi tạo LLM. Lỗi: {e}\")\n",
    "    llm = None"
   ]
  },
  {
   "cell_type": "code",
   "execution_count": 21,
   "id": "9aef7728",
   "metadata": {},
   "outputs": [
    {
     "name": "stdout",
     "output_type": "stream",
     "text": [
      "✅ Đang tải kho tri thức từ: vector_store/sgk_toan_9...\n",
      "🎉 Tải kho tri thức thành công!\n"
     ]
    }
   ],
   "source": [
    "# ==============================================================================\n",
    "# CELL 1.5: TẢI KHO TRI THỨC RAG ĐÃ XỬ LÝ SẴN\n",
    "# ==============================================================================\n",
    "from langchain_community.vectorstores import FAISS\n",
    "from langchain_huggingface import HuggingFaceEmbeddings\n",
    "\n",
    "# --- CẤU HÌNH ---\n",
    "VECTOR_STORE_PATH = \"vector_store/sgk_toan_9\"\n",
    "EMBEDDING_MODEL = \"all-MiniLM-L6-v2\"\n",
    "\n",
    "# --- HÀM TẢI KHO TRI THỨC ---\n",
    "def load_vector_store():\n",
    "    \"\"\"Tải kho tri thức đã được xây dựng từ local.\"\"\"\n",
    "    if not os.path.exists(VECTOR_STORE_PATH):\n",
    "        print(f\"❌ LỖI: Không tìm thấy kho tri thức tại '{VECTOR_STORE_PATH}'.\")\n",
    "        print(\"Vui lòng chạy file 'build_knowledge_base.py' trước để tạo kho tri thức.\")\n",
    "        return None\n",
    "    \n",
    "    try:\n",
    "        print(f\"✅ Đang tải kho tri thức từ: {VECTOR_STORE_PATH}...\")\n",
    "        embeddings = HuggingFaceEmbeddings(model_name=EMBEDDING_MODEL)\n",
    "        db = FAISS.load_local(VECTOR_STORE_PATH, embeddings, allow_dangerous_deserialization=True)\n",
    "        print(\"🎉 Tải kho tri thức thành công!\")\n",
    "        return db\n",
    "    except Exception as e:\n",
    "        print(f\"❌ LỖI khi tải kho tri thức: {e}\")\n",
    "        return None\n",
    "\n",
    "# --- TẢI VÀ SỬ DỤNG ---\n",
    "vector_store = load_vector_store()"
   ]
  },
  {
   "cell_type": "code",
   "execution_count": 39,
   "id": "96baa7be",
   "metadata": {},
   "outputs": [
    {
     "name": "stdout",
     "output_type": "stream",
     "text": [
      "✅ 'TeacherState' (phiên bản cuối cùng) đã được định nghĩa.\n"
     ]
    }
   ],
   "source": [
    "# ==============================================================================\n",
    "# CELL 2: ĐỊNH NGHĨA STATE CHO HỆ THỐNG (PHIÊN BẢN CUỐI CÙNG)\n",
    "# ==============================================================================\n",
    "from langgraph.graph.message import add_messages # <-- Import add_messages ở đây\n",
    "\n",
    "# --- Hàm tiện ích ---\n",
    "def merge_dicts(dict1: Dict[str, Any], dict2: Dict[str, Any]) -> Dict[str, Any]:\n",
    "    merged = dict1.copy()\n",
    "    for key, value in dict2.items():\n",
    "        if key in merged and isinstance(merged[key], dict) and isinstance(value, dict):\n",
    "            merged[key] = merge_dicts(merged[key], value)\n",
    "        else:\n",
    "            merged[key] = value\n",
    "    return merged\n",
    "\n",
    "# --- Định nghĩa các cấu trúc dữ liệu con ---\n",
    "class AnalyzedObjective(TypedDict):\n",
    "    action_verb: str\n",
    "    bloom_level: int\n",
    "    topic: str\n",
    "    grade_level: str\n",
    "    constraints: List[str]\n",
    "\n",
    "class PedagogyStrategy(TypedDict):\n",
    "    chosen_pedagogy: str\n",
    "    pedagogy_rationale: str\n",
    "    suggested_structure: List[Dict[str, Any]]\n",
    "\n",
    "class Task(TypedDict):\n",
    "    task_id: int\n",
    "    task_name: str\n",
    "    task_description: str\n",
    "    status: Literal[\"pending\", \"completed\"]\n",
    "\n",
    "# --- Định nghĩa State chính (phiên bản hoàn chỉnh nhất) ---\n",
    "class TeacherState(TypedDict):\n",
    "    # Dùng add_messages là cách làm đúng chuẩn cho kênh messages\n",
    "    messages: Annotated[List[BaseMessage], add_messages]\n",
    "    \n",
    "    analyzed_objective: Optional[AnalyzedObjective]\n",
    "    pedagogy_strategy: Optional[PedagogyStrategy]\n",
    "    task_list: Optional[List[Task]]\n",
    "    current_task_id: Optional[int]\n",
    "    \n",
    "    # Dùng merge_dicts để các agent không ghi đè kết quả của nhau\n",
    "    agent_outputs: Annotated[Dict[str, Any], merge_dicts] \n",
    "    \n",
    "    final_lesson_plan: Optional[str]\n",
    "    \n",
    "    # Kênh này dùng để điều phối, không cần decorator đặc biệt\n",
    "    next_agent: str\n",
    "\n",
    "print(\"✅ 'TeacherState' (phiên bản cuối cùng) đã được định nghĩa.\")"
   ]
  },
  {
   "cell_type": "code",
   "execution_count": 40,
   "id": "de699549",
   "metadata": {},
   "outputs": [
    {
     "name": "stdout",
     "output_type": "stream",
     "text": [
      "✅ Tất cả agent (phiên bản v2) đã được định nghĩa.\n"
     ]
    }
   ],
   "source": [
    "# ==============================================================================\n",
    "# CELL 3: XÂY DỰNG CÁC AGENT (PHIÊN BẢN SỬA LỖI VÒNG LẶP)\n",
    "# ==============================================================================\n",
    "import json\n",
    "from langchain_core.pydantic_v1 import BaseModel, Field\n",
    "\n",
    "# --- Các class định nghĩa cấu trúc ---\n",
    "class ParsedObjective(BaseModel):\n",
    "    action_verb: str = Field(description=\"Động từ hành động chính, ví dụ: 'phân tích', 'trình bày'.\")\n",
    "    bloom_level: int = Field(description=\"Cấp độ tư duy theo thang Bloom (1-6).\")\n",
    "    topic: str = Field(description=\"Chủ đề chính của bài học.\")\n",
    "    grade_level: str = Field(description=\"Cấp lớp của học sinh, ví dụ: 'Lớp 9'.\")\n",
    "\n",
    "class PedagogyChoice(BaseModel):\n",
    "    chosen_pedagogy: str = Field(description=\"Tên phương pháp sư phạm được chọn.\")\n",
    "    pedagogy_rationale: str = Field(description=\"Lý do tại sao phương pháp này lại phù hợp.\")\n",
    "\n",
    "class TaskList(BaseModel):\n",
    "    tasks: List[Dict[str, str]] = Field(description=\"Danh sách nhiệm vụ, mỗi nhiệm vụ có 'task_name' và 'task_description'.\")\n",
    "\n",
    "class TaskClassification(BaseModel):\n",
    "    \"\"\"Phân loại một nhiệm vụ vào đúng danh mục agent.\"\"\"\n",
    "    agent_category: Literal[\"activity_designer\", \"resource_scout\", \"assessment_creator\", \"unknown\"] = Field(description=\"Loại agent nên thực hiện nhiệm vụ này.\")\n",
    "\n",
    "# --- Các agent tuần tự ban đầu ---\n",
    "async def objective_interpreter_agent(state: TeacherState) -> Dict[str, Any]:\n",
    "    print_markdown(\"\\n---\\n### 🕵️ `Agent: Objective Interpreter` Bắt đầu...\")\n",
    "    user_request = state['messages'][-1].content\n",
    "    prompt = f\"\"\"Bạn là một chuyên gia phân tích yêu cầu giáo dục. Đọc yêu cầu của giáo viên và trích xuất MỤC TIÊU HỌC TẬP THỰC SỰ mà học sinh cần đạt. Bỏ qua các động từ mệnh lệnh ban đầu như \"Soạn\", \"Tạo\". Tập trung vào năng lực học sinh.\n",
    "    THANG ĐO BLOOM: 1-Nhớ, 2-Hiểu, 3-Vận dụng, 4-Phân tích, 5-Đánh giá, 6-Sáng tạo.\n",
    "    YÊU CẦU: \"{user_request}\" \"\"\"\n",
    "    structured_llm = llm.with_structured_output(ParsedObjective)\n",
    "    parsed_result = await structured_llm.ainvoke(prompt)\n",
    "    analyzed_objective_dict = parsed_result.dict()\n",
    "    analyzed_objective_dict[\"constraints\"] = []\n",
    "    print_markdown(f\"**Kết quả phân tích:**\\n```json\\n{json.dumps(analyzed_objective_dict, indent=2, ensure_ascii=False)}\\n```\")\n",
    "    return {\"analyzed_objective\": analyzed_objective_dict}\n",
    "\n",
    "async def pedagogy_strategist_agent(state: TeacherState) -> Dict[str, Any]:\n",
    "    print_markdown(\"\\n---\\n### 🧑‍🏫 `Agent: Pedagogy Strategist` Bắt đầu...\")\n",
    "    objective = state['analyzed_objective']\n",
    "    prompt = f\"\"\"Bạn là một chuyên gia sư phạm. Dựa vào mục tiêu học tập sau, hãy chọn ra một chiến lược dạy học phù hợp nhất.\n",
    "    LỰA CHỌN: Direct Instruction, Collaborative Learning, Inquiry-Based Learning (IBL), Hybrid Model.\n",
    "    MỤC TIÊU: {objective}\n",
    "    Chỉ trả về JSON hợp lệ: {{\"chosen_pedagogy\": \"Tên phương pháp\", \"pedagogy_rationale\": \"Lý do\"}}\"\"\"\n",
    "    response = await llm.with_structured_output(schema=PedagogyChoice, method=\"json_mode\").ainvoke(prompt)\n",
    "    pedagogy_strategy_dict = response.dict()\n",
    "    pedagogy_strategy_dict[\"suggested_structure\"] = []\n",
    "    print_markdown(f\"**Chiến lược:** {response.chosen_pedagogy}\\n**Lý do:** {response.pedagogy_rationale}\")\n",
    "    return {\"pedagogy_strategy\": pedagogy_strategy_dict}\n",
    "\n",
    "async def plan_delegator_agent(state: TeacherState) -> Dict[str, Any]:\n",
    "    print_markdown(\"\\n---\\n### 👷 `Agent: Plan Delegator` Bắt đầu...\")\n",
    "    objective = state['analyzed_objective']\n",
    "    strategy = state['pedagogy_strategy']\n",
    "    prompt = f\"\"\"Bạn là quản lý dự án giáo dục. Dựa trên mục tiêu và chiến lược, chia nhỏ công việc tạo giáo án thành một danh sách các nhiệm vụ cụ thể.\n",
    "    Mục tiêu: {objective['topic']} (Bloom: {objective['bloom_level']})\n",
    "    Chiến lược: {strategy['chosen_pedagogy']}\n",
    "    Ví dụ task: 'design_warmup_activity', 'find_resources', 'create_assessment'.\n",
    "    \"\"\"\n",
    "    structured_llm = llm.with_structured_output(TaskList)\n",
    "    task_list_result = await structured_llm.ainvoke(prompt)\n",
    "    tasks_with_status = [{\"task_id\": i, \"task_name\": t['task_name'], \"task_description\": t['task_description'], \"status\": \"pending\"} for i, t in enumerate(task_list_result.tasks)]\n",
    "    print_markdown(f\"**Đã tạo {len(tasks_with_status)} nhiệm vụ.**\")\n",
    "    return {\"task_list\": tasks_with_status}\n",
    "\n",
    "# --- AGENT DISPATCHER THÔNG MINH ---\n",
    "async def task_dispatcher_agent(state: TeacherState) -> Dict[str, Any]:\n",
    "    print_markdown(\"\\n---\\n### 🚚 `Agent: Task Dispatcher` Bắt đầu...\")\n",
    "    current_task_id = state.get(\"current_task_id\")\n",
    "    task_list = state.get(\"task_list\", [])\n",
    "    task_to_run = next((task for task in task_list if task.get(\"task_id\") == current_task_id), None)\n",
    "    if not task_to_run: return {\"next_agent\": \"mark_task_complete\"}\n",
    "\n",
    "    task_description = task_to_run['task_description']\n",
    "    prompt = f\"\"\"Phân loại nhiệm vụ sau vào agent phù hợp nhất: 'activity_designer', 'resource_scout', 'assessment_creator', hoặc 'unknown'.\n",
    "    NHIỆM VỤ: \"{task_description}\" \"\"\"\n",
    "    structured_llm = llm.with_structured_output(TaskClassification)\n",
    "    classification_result = await structured_llm.ainvoke(prompt)\n",
    "    next_agent = classification_result.agent_category\n",
    "    if next_agent == \"unknown\":\n",
    "        print_markdown(f\"--- 🚚 `Dispatcher`: Không nhận ra nhiệm vụ. Bỏ qua.\")\n",
    "        return {\"next_agent\": \"mark_task_complete\"}\n",
    "    print_markdown(f\"--- 🚚 `Dispatcher`: Giao nhiệm vụ cho `{next_agent}`.\")\n",
    "    return {\"next_agent\": next_agent}\n",
    "\n",
    "\n",
    "# --- AGENT CHUYÊN MÔN VÀ AGENT TỔNG HỢP ---\n",
    "# (Các agent này giữ nguyên như phiên bản trước, tôi rút gọn để đỡ dài)\n",
    "def update_agent_outputs(state: TeacherState, key: str, value: Any) -> Dict[str, Any]:\n",
    "    outputs = state.get(\"agent_outputs\", {}).copy()\n",
    "    if key not in outputs: outputs[key] = []\n",
    "    outputs[key].append(value)\n",
    "    return {\"agent_outputs\": outputs}\n",
    "\n",
    "async def activity_designer_agent(state: TeacherState) -> Dict[str, Any]:\n",
    "    activity = {\"name\": \"Hoạt động Thảo luận Nhóm\", \"description\": \"Chia lớp thành 4 nhóm...\"}\n",
    "    return update_agent_outputs(state, \"activities\", activity)\n",
    "async def resource_scout_agent(state: TeacherState) -> Dict[str, Any]:\n",
    "    summary = f\"Đây là tóm tắt về '{state['analyzed_objective']['topic']}'.\"\n",
    "    resource = {\"source\": \"Sách giáo khoa\", \"summary\": summary}\n",
    "    return update_agent_outputs(state, \"resources\", resource)\n",
    "async def assessment_creator_agent(state: TeacherState) -> Dict[str, Any]:\n",
    "    assessment = {\"question\": \"Câu hỏi 1: ...?\", \"type\": \"multiple_choice\"}\n",
    "    return update_agent_outputs(state, \"assessments\", assessment)\n",
    "async def lesson_plan_compiler_agent(state: TeacherState) -> Dict[str, Any]:\n",
    "    prompt = f\"Tổng hợp các thông tin sau thành giáo án Markdown: {state['agent_outputs']}\"\n",
    "    response = await llm.ainvoke(prompt)\n",
    "    return {\"final_lesson_plan\": response.content}\n",
    "\n",
    "print(\"✅ Tất cả agent (phiên bản v2) đã được định nghĩa.\")"
   ]
  },
  {
   "cell_type": "code",
   "execution_count": 41,
   "id": "bdfc5a4e",
   "metadata": {},
   "outputs": [
    {
     "name": "stdout",
     "output_type": "stream",
     "text": [
      "✅ Graph (phiên bản v2) đã được biên dịch thành công.\n"
     ]
    },
    {
     "data": {
      "image/png": "[encoded data removed]",
      "text/plain": [
       "<IPython.core.display.Image object>"
      ]
     },
     "metadata": {},
     "output_type": "display_data"
    }
   ],
   "source": [
    "# ==============================================================================\n",
    "# CELL 4: LẮP RÁP GRAPH (PHIÊN BẢN V2 - SẠCH SẼ & ỔN ĐỊNH)\n",
    "# ==============================================================================\n",
    "from langgraph.graph.message import add_messages\n",
    "\n",
    "\n",
    "# --- Các node tiện ích và router ---\n",
    "def mark_task_complete(state: TeacherState) -> Dict[str, Any]:\n",
    "    task_list = state.get(\"task_list\", [])\n",
    "    current_task_id = state.get(\"current_task_id\")\n",
    "    if not task_list or current_task_id is None: return {}\n",
    "    new_task_list = [t.copy() for t in task_list]\n",
    "    for task in new_task_list:\n",
    "        if task.get(\"task_id\") == current_task_id:\n",
    "            task[\"status\"] = \"completed\"\n",
    "            break\n",
    "    return {\"task_list\": new_task_list, \"current_task_id\": None}\n",
    "\n",
    "def task_router_node(state: TeacherState) -> Dict[str, Any]:\n",
    "    print_markdown(\"\\n---\\n### 🚦 `Router`: Đang kiểm tra nhiệm vụ...\")\n",
    "    task_list = state.get(\"task_list\", [])\n",
    "    next_task = next((task for task in task_list if task.get(\"status\") == \"pending\"), None)\n",
    "    if next_task:\n",
    "        print_markdown(f\"--- 🚦 `Router`: Còn nhiệm vụ, đi đến Dispatcher.\")\n",
    "        return {\"current_task_id\": next_task['task_id'], \"next_agent\": \"task_dispatcher\"}\n",
    "    else:\n",
    "        print_markdown(\"--- 🚦 `Router`: Hết nhiệm vụ, đi đến Compiler.\")\n",
    "        return {\"next_agent\": \"lesson_plan_compiler\"}\n",
    "\n",
    "# --- Xây dựng Graph ---\n",
    "workflow = StateGraph(TeacherState)\n",
    "\n",
    "# Thêm các node\n",
    "node_list = [\n",
    "    (\"objective_interpreter\", objective_interpreter_agent),\n",
    "    (\"pedagogy_strategist\", pedagogy_strategist_agent),\n",
    "    (\"plan_delegator\", plan_delegator_agent),\n",
    "    (\"task_router\", task_router_node),\n",
    "    (\"task_dispatcher\", task_dispatcher_agent),\n",
    "    (\"mark_task_complete\", mark_task_complete),\n",
    "    (\"activity_designer\", activity_designer_agent),\n",
    "    (\"resource_scout\", resource_scout_agent),\n",
    "    (\"assessment_creator\", assessment_creator_agent),\n",
    "    (\"lesson_plan_compiler\", lesson_plan_compiler_agent)\n",
    "]\n",
    "for name, node in node_list:\n",
    "    workflow.add_node(name, node)\n",
    "\n",
    "# Kết nối các bước\n",
    "workflow.set_entry_point(\"objective_interpreter\")\n",
    "workflow.add_edge(\"objective_interpreter\", \"pedagogy_strategist\")\n",
    "workflow.add_edge(\"pedagogy_strategist\", \"plan_delegator\")\n",
    "workflow.add_edge(\"plan_delegator\", \"task_router\")\n",
    "\n",
    "# Điểm rẽ nhánh sau Router\n",
    "workflow.add_conditional_edges(\n",
    "    \"task_router\",\n",
    "    lambda state: state[\"next_agent\"],\n",
    "    {\"task_dispatcher\": \"task_dispatcher\", \"lesson_plan_compiler\": \"lesson_plan_compiler\"}\n",
    ")\n",
    "\n",
    "# Điểm rẽ nhánh sau Dispatcher\n",
    "workflow.add_conditional_edges(\n",
    "    \"task_dispatcher\",\n",
    "    lambda state: state[\"next_agent\"],\n",
    "    {\n",
    "        \"activity_designer\": \"activity_designer\",\n",
    "        \"resource_scout\": \"resource_scout\",\n",
    "        \"assessment_creator\": \"assessment_creator\",\n",
    "        \"mark_task_complete\": \"mark_task_complete\"\n",
    "    }\n",
    ")\n",
    "\n",
    "# Vòng lặp\n",
    "workflow.add_edge(\"activity_designer\", \"mark_task_complete\")\n",
    "workflow.add_edge(\"resource_scout\", \"mark_task_complete\")\n",
    "workflow.add_edge(\"assessment_creator\", \"mark_task_complete\")\n",
    "workflow.add_edge(\"mark_task_complete\", \"task_router\")\n",
    "\n",
    "# Kết thúc\n",
    "workflow.add_edge(\"lesson_plan_compiler\", END)\n",
    "\n",
    "# Biên dịch\n",
    "app = workflow.compile()\n",
    "print(\"✅ Graph (phiên bản v2) đã được biên dịch thành công.\")\n",
    "display(Image(app.get_graph().draw_mermaid_png()))"
   ]
  },
  {
   "cell_type": "code",
   "execution_count": 42,
   "id": "b5fdd2e0",
   "metadata": {},
   "outputs": [
    {
     "data": {
      "text/html": [
       "<pre style=\"white-space:pre;overflow-x:auto;line-height:normal;font-family:Menlo,'DejaVu Sans Mono',consolas,'Courier New',monospace\">┏━━━━━━━━━━━━━━━━━━━━━━━━━━━━━━━━━━━━━━━━━━━━━━━━━━━━━━━━━━━━━━━━━━━━━━━━━━━━━━━━━━━━━━━━━━━━━━━━━━━━━━━━━━━━━━━━━┓\n",
       "┃                                        <span style=\"font-weight: bold\">🚀 BẮT ĐẦU QUY TRÌNH VỚI YÊU CẦU:</span>                                        ┃\n",
       "┗━━━━━━━━━━━━━━━━━━━━━━━━━━━━━━━━━━━━━━━━━━━━━━━━━━━━━━━━━━━━━━━━━━━━━━━━━━━━━━━━━━━━━━━━━━━━━━━━━━━━━━━━━━━━━━━━━┛\n",
       "\n",
       "<span style=\"color: #800080; text-decoration-color: #800080\">▌ Soạn giáo án cho học sinh lớp 9. Mục tiêu là giúp các em hiểu và vận dụng được các hệ thức lượng trong tam giác</span>\n",
       "<span style=\"color: #800080; text-decoration-color: #800080\">▌ vuông.                                                                                                         </span>\n",
       "</pre>\n"
      ],
      "text/plain": [
       "┏━━━━━━━━━━━━━━━━━━━━━━━━━━━━━━━━━━━━━━━━━━━━━━━━━━━━━━━━━━━━━━━━━━━━━━━━━━━━━━━━━━━━━━━━━━━━━━━━━━━━━━━━━━━━━━━━━┓\n",
       "┃                                        \u001b[1m🚀 BẮT ĐẦU QUY TRÌNH VỚI YÊU CẦU:\u001b[0m                                        ┃\n",
       "┗━━━━━━━━━━━━━━━━━━━━━━━━━━━━━━━━━━━━━━━━━━━━━━━━━━━━━━━━━━━━━━━━━━━━━━━━━━━━━━━━━━━━━━━━━━━━━━━━━━━━━━━━━━━━━━━━━┛\n",
       "\n",
       "\u001b[35m▌ \u001b[0m\u001b[35mSoạn giáo án cho học sinh lớp 9. Mục tiêu là giúp các em hiểu và vận dụng được các hệ thức lượng trong tam giác\u001b[0m\n",
       "\u001b[35m▌ \u001b[0m\u001b[35mvuông.\u001b[0m\u001b[35m                                                                                                         \u001b[0m\n"
      ]
     },
     "metadata": {},
     "output_type": "display_data"
    },
    {
     "data": {
      "text/html": [
       "<pre style=\"white-space:pre;overflow-x:auto;line-height:normal;font-family:Menlo,'DejaVu Sans Mono',consolas,'Courier New',monospace\"><span style=\"color: #808000; text-decoration-color: #808000\">───────────────────────────────────────────────────────────────────────────────────────────────────────────────────</span>\n",
       "                                     <span style=\"font-weight: bold\">🕵️ </span><span style=\"color: #008080; text-decoration-color: #008080; background-color: #000000; font-weight: bold\">Agent: Objective Interpreter</span><span style=\"font-weight: bold\"> Bắt đầu...</span>                                     \n",
       "</pre>\n"
      ],
      "text/plain": [
       "\u001b[33m───────────────────────────────────────────────────────────────────────────────────────────────────────────────────\u001b[0m\n",
       "                                     \u001b[1m🕵️ \u001b[0m\u001b[1;36;40mAgent: Objective Interpreter\u001b[0m\u001b[1m Bắt đầu...\u001b[0m                                     \n"
      ]
     },
     "metadata": {},
     "output_type": "display_data"
    },
    {
     "data": {
      "text/html": [
       "<pre style=\"white-space:pre;overflow-x:auto;line-height:normal;font-family:Menlo,'DejaVu Sans Mono',consolas,'Courier New',monospace\"><span style=\"font-weight: bold\">Kết quả phân tích:</span>                                                                                                 \n",
       "\n",
       "<span style=\"background-color: #272822\">                                                                                                                   </span>\n",
       "<span style=\"background-color: #272822\"> </span><span style=\"color: #f8f8f2; text-decoration-color: #f8f8f2; background-color: #272822\">{</span><span style=\"background-color: #272822\">                                                                                                                 </span>\n",
       "<span style=\"background-color: #272822\"> </span><span style=\"color: #f8f8f2; text-decoration-color: #f8f8f2; background-color: #272822\">  </span><span style=\"color: #ff4689; text-decoration-color: #ff4689; background-color: #272822\">\"action_verb\"</span><span style=\"color: #f8f8f2; text-decoration-color: #f8f8f2; background-color: #272822\">: </span><span style=\"color: #e6db74; text-decoration-color: #e6db74; background-color: #272822\">\"vận dụng\"</span><span style=\"color: #f8f8f2; text-decoration-color: #f8f8f2; background-color: #272822\">,</span><span style=\"background-color: #272822\">                                                                                      </span>\n",
       "<span style=\"background-color: #272822\"> </span><span style=\"color: #f8f8f2; text-decoration-color: #f8f8f2; background-color: #272822\">  </span><span style=\"color: #ff4689; text-decoration-color: #ff4689; background-color: #272822\">\"bloom_level\"</span><span style=\"color: #f8f8f2; text-decoration-color: #f8f8f2; background-color: #272822\">: </span><span style=\"color: #ae81ff; text-decoration-color: #ae81ff; background-color: #272822\">3</span><span style=\"color: #f8f8f2; text-decoration-color: #f8f8f2; background-color: #272822\">,</span><span style=\"background-color: #272822\">                                                                                               </span>\n",
       "<span style=\"background-color: #272822\"> </span><span style=\"color: #f8f8f2; text-decoration-color: #f8f8f2; background-color: #272822\">  </span><span style=\"color: #ff4689; text-decoration-color: #ff4689; background-color: #272822\">\"topic\"</span><span style=\"color: #f8f8f2; text-decoration-color: #f8f8f2; background-color: #272822\">: </span><span style=\"color: #e6db74; text-decoration-color: #e6db74; background-color: #272822\">\"hệ thức lượng trong tam giác vuông\"</span><span style=\"color: #f8f8f2; text-decoration-color: #f8f8f2; background-color: #272822\">,</span><span style=\"background-color: #272822\">                                                                  </span>\n",
       "<span style=\"background-color: #272822\"> </span><span style=\"color: #f8f8f2; text-decoration-color: #f8f8f2; background-color: #272822\">  </span><span style=\"color: #ff4689; text-decoration-color: #ff4689; background-color: #272822\">\"grade_level\"</span><span style=\"color: #f8f8f2; text-decoration-color: #f8f8f2; background-color: #272822\">: </span><span style=\"color: #e6db74; text-decoration-color: #e6db74; background-color: #272822\">\"Lớp 9\"</span><span style=\"color: #f8f8f2; text-decoration-color: #f8f8f2; background-color: #272822\">,</span><span style=\"background-color: #272822\">                                                                                         </span>\n",
       "<span style=\"background-color: #272822\"> </span><span style=\"color: #f8f8f2; text-decoration-color: #f8f8f2; background-color: #272822\">  </span><span style=\"color: #ff4689; text-decoration-color: #ff4689; background-color: #272822\">\"constraints\"</span><span style=\"color: #f8f8f2; text-decoration-color: #f8f8f2; background-color: #272822\">: []</span><span style=\"background-color: #272822\">                                                                                               </span>\n",
       "<span style=\"background-color: #272822\"> </span><span style=\"color: #f8f8f2; text-decoration-color: #f8f8f2; background-color: #272822\">}</span><span style=\"background-color: #272822\">                                                                                                                 </span>\n",
       "<span style=\"background-color: #272822\">                                                                                                                   </span>\n",
       "</pre>\n"
      ],
      "text/plain": [
       "\u001b[1mKết quả phân tích:\u001b[0m                                                                                                 \n",
       "\n",
       "\u001b[48;2;39;40;34m                                                                                                                   \u001b[0m\n",
       "\u001b[48;2;39;40;34m \u001b[0m\u001b[38;2;248;248;242;48;2;39;40;34m{\u001b[0m\u001b[48;2;39;40;34m                                                                                                                \u001b[0m\u001b[48;2;39;40;34m \u001b[0m\n",
       "\u001b[48;2;39;40;34m \u001b[0m\u001b[38;2;248;248;242;48;2;39;40;34m  \u001b[0m\u001b[38;2;255;70;137;48;2;39;40;34m\"action_verb\"\u001b[0m\u001b[38;2;248;248;242;48;2;39;40;34m:\u001b[0m\u001b[38;2;248;248;242;48;2;39;40;34m \u001b[0m\u001b[38;2;230;219;116;48;2;39;40;34m\"vận dụng\"\u001b[0m\u001b[38;2;248;248;242;48;2;39;40;34m,\u001b[0m\u001b[48;2;39;40;34m                                                                                     \u001b[0m\u001b[48;2;39;40;34m \u001b[0m\n",
       "\u001b[48;2;39;40;34m \u001b[0m\u001b[38;2;248;248;242;48;2;39;40;34m  \u001b[0m\u001b[38;2;255;70;137;48;2;39;40;34m\"bloom_level\"\u001b[0m\u001b[38;2;248;248;242;48;2;39;40;34m:\u001b[0m\u001b[38;2;248;248;242;48;2;39;40;34m \u001b[0m\u001b[38;2;174;129;255;48;2;39;40;34m3\u001b[0m\u001b[38;2;248;248;242;48;2;39;40;34m,\u001b[0m\u001b[48;2;39;40;34m                                                                                              \u001b[0m\u001b[48;2;39;40;34m \u001b[0m\n",
       "\u001b[48;2;39;40;34m \u001b[0m\u001b[38;2;248;248;242;48;2;39;40;34m  \u001b[0m\u001b[38;2;255;70;137;48;2;39;40;34m\"topic\"\u001b[0m\u001b[38;2;248;248;242;48;2;39;40;34m:\u001b[0m\u001b[38;2;248;248;242;48;2;39;40;34m \u001b[0m\u001b[38;2;230;219;116;48;2;39;40;34m\"hệ thức lượng trong tam giác vuông\"\u001b[0m\u001b[38;2;248;248;242;48;2;39;40;34m,\u001b[0m\u001b[48;2;39;40;34m                                                                 \u001b[0m\u001b[48;2;39;40;34m \u001b[0m\n",
       "\u001b[48;2;39;40;34m \u001b[0m\u001b[38;2;248;248;242;48;2;39;40;34m  \u001b[0m\u001b[38;2;255;70;137;48;2;39;40;34m\"grade_level\"\u001b[0m\u001b[38;2;248;248;242;48;2;39;40;34m:\u001b[0m\u001b[38;2;248;248;242;48;2;39;40;34m \u001b[0m\u001b[38;2;230;219;116;48;2;39;40;34m\"Lớp 9\"\u001b[0m\u001b[38;2;248;248;242;48;2;39;40;34m,\u001b[0m\u001b[48;2;39;40;34m                                                                                        \u001b[0m\u001b[48;2;39;40;34m \u001b[0m\n",
       "\u001b[48;2;39;40;34m \u001b[0m\u001b[38;2;248;248;242;48;2;39;40;34m  \u001b[0m\u001b[38;2;255;70;137;48;2;39;40;34m\"constraints\"\u001b[0m\u001b[38;2;248;248;242;48;2;39;40;34m:\u001b[0m\u001b[38;2;248;248;242;48;2;39;40;34m \u001b[0m\u001b[38;2;248;248;242;48;2;39;40;34m[]\u001b[0m\u001b[48;2;39;40;34m                                                                                              \u001b[0m\u001b[48;2;39;40;34m \u001b[0m\n",
       "\u001b[48;2;39;40;34m \u001b[0m\u001b[38;2;248;248;242;48;2;39;40;34m}\u001b[0m\u001b[48;2;39;40;34m                                                                                                                \u001b[0m\u001b[48;2;39;40;34m \u001b[0m\n",
       "\u001b[48;2;39;40;34m                                                                                                                   \u001b[0m\n"
      ]
     },
     "metadata": {},
     "output_type": "display_data"
    },
    {
     "data": {
      "text/html": [
       "<pre style=\"white-space:pre;overflow-x:auto;line-height:normal;font-family:Menlo,'DejaVu Sans Mono',consolas,'Courier New',monospace\"><span style=\"color: #808000; text-decoration-color: #808000\">───────────────────────────────────────────────────────────────────────────────────────────────────────────────────</span>\n",
       "                                     <span style=\"font-weight: bold\">✅ Hoàn thành bước: </span><span style=\"color: #008080; text-decoration-color: #008080; background-color: #000000; font-weight: bold\">objective_interpreter</span>                                     \n",
       "</pre>\n"
      ],
      "text/plain": [
       "\u001b[33m───────────────────────────────────────────────────────────────────────────────────────────────────────────────────\u001b[0m\n",
       "                                     \u001b[1m✅ Hoàn thành bước: \u001b[0m\u001b[1;36;40mobjective_interpreter\u001b[0m                                     \n"
      ]
     },
     "metadata": {},
     "output_type": "display_data"
    },
    {
     "data": {
      "text/html": [
       "<pre style=\"white-space:pre;overflow-x:auto;line-height:normal;font-family:Menlo,'DejaVu Sans Mono',consolas,'Courier New',monospace\"><span style=\"color: #808000; text-decoration-color: #808000\">───────────────────────────────────────────────────────────────────────────────────────────────────────────────────</span>\n",
       "                                    <span style=\"font-weight: bold\">🧑‍🏫 </span><span style=\"color: #008080; text-decoration-color: #008080; background-color: #000000; font-weight: bold\">Agent: Pedagogy Strategist</span><span style=\"font-weight: bold\"> Bắt đầu...</span>                                     \n",
       "</pre>\n"
      ],
      "text/plain": [
       "\u001b[33m───────────────────────────────────────────────────────────────────────────────────────────────────────────────────\u001b[0m\n",
       "                                    \u001b[1m🧑‍🏫 \u001b[0m\u001b[1;36;40mAgent: Pedagogy Strategist\u001b[0m\u001b[1m Bắt đầu...\u001b[0m                                     \n"
      ]
     },
     "metadata": {},
     "output_type": "display_data"
    },
    {
     "data": {
      "text/html": [
       "<pre style=\"white-space:pre;overflow-x:auto;line-height:normal;font-family:Menlo,'DejaVu Sans Mono',consolas,'Courier New',monospace\"><span style=\"font-weight: bold\">Chiến lược:</span> Direct Instruction <span style=\"font-weight: bold\">Lý do:</span> Since the goal is to 'vận dụng' (apply) the concept of 'hệ thức lượng trong  \n",
       "tam giác vuông' at a Bloom's taxonomy level of 3, Direct Instruction is the most suitable approach. This method    \n",
       "allows the teacher to explicitly model and demonstrate the application of the concept, providing clear guidance and\n",
       "support for the students to follow.                                                                                \n",
       "</pre>\n"
      ],
      "text/plain": [
       "\u001b[1mChiến lược:\u001b[0m Direct Instruction \u001b[1mLý do:\u001b[0m Since the goal is to 'vận dụng' (apply) the concept of 'hệ thức lượng trong  \n",
       "tam giác vuông' at a Bloom's taxonomy level of 3, Direct Instruction is the most suitable approach. This method    \n",
       "allows the teacher to explicitly model and demonstrate the application of the concept, providing clear guidance and\n",
       "support for the students to follow.                                                                                \n"
      ]
     },
     "metadata": {},
     "output_type": "display_data"
    },
    {
     "data": {
      "text/html": [
       "<pre style=\"white-space:pre;overflow-x:auto;line-height:normal;font-family:Menlo,'DejaVu Sans Mono',consolas,'Courier New',monospace\"><span style=\"color: #808000; text-decoration-color: #808000\">───────────────────────────────────────────────────────────────────────────────────────────────────────────────────</span>\n",
       "                                      <span style=\"font-weight: bold\">✅ Hoàn thành bước: </span><span style=\"color: #008080; text-decoration-color: #008080; background-color: #000000; font-weight: bold\">pedagogy_strategist</span>                                      \n",
       "</pre>\n"
      ],
      "text/plain": [
       "\u001b[33m───────────────────────────────────────────────────────────────────────────────────────────────────────────────────\u001b[0m\n",
       "                                      \u001b[1m✅ Hoàn thành bước: \u001b[0m\u001b[1;36;40mpedagogy_strategist\u001b[0m                                      \n"
      ]
     },
     "metadata": {},
     "output_type": "display_data"
    },
    {
     "data": {
      "text/html": [
       "<pre style=\"white-space:pre;overflow-x:auto;line-height:normal;font-family:Menlo,'DejaVu Sans Mono',consolas,'Courier New',monospace\"><span style=\"color: #808000; text-decoration-color: #808000\">───────────────────────────────────────────────────────────────────────────────────────────────────────────────────</span>\n",
       "                                        <span style=\"font-weight: bold\">👷 </span><span style=\"color: #008080; text-decoration-color: #008080; background-color: #000000; font-weight: bold\">Agent: Plan Delegator</span><span style=\"font-weight: bold\"> Bắt đầu...</span>                                        \n",
       "</pre>\n"
      ],
      "text/plain": [
       "\u001b[33m───────────────────────────────────────────────────────────────────────────────────────────────────────────────────\u001b[0m\n",
       "                                        \u001b[1m👷 \u001b[0m\u001b[1;36;40mAgent: Plan Delegator\u001b[0m\u001b[1m Bắt đầu...\u001b[0m                                        \n"
      ]
     },
     "metadata": {},
     "output_type": "display_data"
    },
    {
     "data": {
      "text/html": [
       "<pre style=\"white-space:pre;overflow-x:auto;line-height:normal;font-family:Menlo,'DejaVu Sans Mono',consolas,'Courier New',monospace\"><span style=\"font-weight: bold\">Đã tạo 5 nhiệm vụ.</span>                                                                                                 \n",
       "</pre>\n"
      ],
      "text/plain": [
       "\u001b[1mĐã tạo 5 nhiệm vụ.\u001b[0m                                                                                                 \n"
      ]
     },
     "metadata": {},
     "output_type": "display_data"
    },
    {
     "data": {
      "text/html": [
       "<pre style=\"white-space:pre;overflow-x:auto;line-height:normal;font-family:Menlo,'DejaVu Sans Mono',consolas,'Courier New',monospace\"><span style=\"color: #808000; text-decoration-color: #808000\">───────────────────────────────────────────────────────────────────────────────────────────────────────────────────</span>\n",
       "                                        <span style=\"font-weight: bold\">✅ Hoàn thành bước: </span><span style=\"color: #008080; text-decoration-color: #008080; background-color: #000000; font-weight: bold\">plan_delegator</span>                                         \n",
       "</pre>\n"
      ],
      "text/plain": [
       "\u001b[33m───────────────────────────────────────────────────────────────────────────────────────────────────────────────────\u001b[0m\n",
       "                                        \u001b[1m✅ Hoàn thành bước: \u001b[0m\u001b[1;36;40mplan_delegator\u001b[0m                                         \n"
      ]
     },
     "metadata": {},
     "output_type": "display_data"
    },
    {
     "data": {
      "text/html": [
       "<pre style=\"white-space:pre;overflow-x:auto;line-height:normal;font-family:Menlo,'DejaVu Sans Mono',consolas,'Courier New',monospace\"><span style=\"color: #808000; text-decoration-color: #808000\">───────────────────────────────────────────────────────────────────────────────────────────────────────────────────</span>\n",
       "                                       <span style=\"font-weight: bold\">🚦 </span><span style=\"color: #008080; text-decoration-color: #008080; background-color: #000000; font-weight: bold\">Router</span><span style=\"font-weight: bold\">: Đang kiểm tra nhiệm vụ...</span>                                        \n",
       "</pre>\n"
      ],
      "text/plain": [
       "\u001b[33m───────────────────────────────────────────────────────────────────────────────────────────────────────────────────\u001b[0m\n",
       "                                       \u001b[1m🚦 \u001b[0m\u001b[1;36;40mRouter\u001b[0m\u001b[1m: Đang kiểm tra nhiệm vụ...\u001b[0m                                        \n"
      ]
     },
     "metadata": {},
     "output_type": "display_data"
    },
    {
     "data": {
      "text/html": [
       "<pre style=\"white-space:pre;overflow-x:auto;line-height:normal;font-family:Menlo,'DejaVu Sans Mono',consolas,'Courier New',monospace\">--- 🚦 <span style=\"color: #008080; text-decoration-color: #008080; background-color: #000000; font-weight: bold\">Router</span>: Còn nhiệm vụ, đi đến Dispatcher.                                                                    \n",
       "</pre>\n"
      ],
      "text/plain": [
       "--- 🚦 \u001b[1;36;40mRouter\u001b[0m: Còn nhiệm vụ, đi đến Dispatcher.                                                                    \n"
      ]
     },
     "metadata": {},
     "output_type": "display_data"
    },
    {
     "data": {
      "text/html": [
       "<pre style=\"white-space:pre;overflow-x:auto;line-height:normal;font-family:Menlo,'DejaVu Sans Mono',consolas,'Courier New',monospace\"><span style=\"color: #808000; text-decoration-color: #808000\">───────────────────────────────────────────────────────────────────────────────────────────────────────────────────</span>\n",
       "                                          <span style=\"font-weight: bold\">✅ Hoàn thành bước: </span><span style=\"color: #008080; text-decoration-color: #008080; background-color: #000000; font-weight: bold\">task_router</span>                                          \n",
       "</pre>\n"
      ],
      "text/plain": [
       "\u001b[33m───────────────────────────────────────────────────────────────────────────────────────────────────────────────────\u001b[0m\n",
       "                                          \u001b[1m✅ Hoàn thành bước: \u001b[0m\u001b[1;36;40mtask_router\u001b[0m                                          \n"
      ]
     },
     "metadata": {},
     "output_type": "display_data"
    },
    {
     "data": {
      "text/html": [
       "<pre style=\"white-space:pre;overflow-x:auto;line-height:normal;font-family:Menlo,'DejaVu Sans Mono',consolas,'Courier New',monospace\"><span style=\"color: #808000; text-decoration-color: #808000\">───────────────────────────────────────────────────────────────────────────────────────────────────────────────────</span>\n",
       "                                       <span style=\"font-weight: bold\">🚚 </span><span style=\"color: #008080; text-decoration-color: #008080; background-color: #000000; font-weight: bold\">Agent: Task Dispatcher</span><span style=\"font-weight: bold\"> Bắt đầu...</span>                                        \n",
       "</pre>\n"
      ],
      "text/plain": [
       "\u001b[33m───────────────────────────────────────────────────────────────────────────────────────────────────────────────────\u001b[0m\n",
       "                                       \u001b[1m🚚 \u001b[0m\u001b[1;36;40mAgent: Task Dispatcher\u001b[0m\u001b[1m Bắt đầu...\u001b[0m                                        \n"
      ]
     },
     "metadata": {},
     "output_type": "display_data"
    },
    {
     "data": {
      "text/html": [
       "<pre style=\"white-space:pre;overflow-x:auto;line-height:normal;font-family:Menlo,'DejaVu Sans Mono',consolas,'Courier New',monospace\">--- 🚚 <span style=\"color: #008080; text-decoration-color: #008080; background-color: #000000; font-weight: bold\">Dispatcher</span>: Giao nhiệm vụ cho <span style=\"color: #008080; text-decoration-color: #008080; background-color: #000000; font-weight: bold\">activity_designer</span>.                                                            \n",
       "</pre>\n"
      ],
      "text/plain": [
       "--- 🚚 \u001b[1;36;40mDispatcher\u001b[0m: Giao nhiệm vụ cho \u001b[1;36;40mactivity_designer\u001b[0m.                                                            \n"
      ]
     },
     "metadata": {},
     "output_type": "display_data"
    },
    {
     "data": {
      "text/html": [
       "<pre style=\"white-space:pre;overflow-x:auto;line-height:normal;font-family:Menlo,'DejaVu Sans Mono',consolas,'Courier New',monospace\"><span style=\"color: #808000; text-decoration-color: #808000\">───────────────────────────────────────────────────────────────────────────────────────────────────────────────────</span>\n",
       "                                        <span style=\"font-weight: bold\">✅ Hoàn thành bước: </span><span style=\"color: #008080; text-decoration-color: #008080; background-color: #000000; font-weight: bold\">task_dispatcher</span>                                        \n",
       "</pre>\n"
      ],
      "text/plain": [
       "\u001b[33m───────────────────────────────────────────────────────────────────────────────────────────────────────────────────\u001b[0m\n",
       "                                        \u001b[1m✅ Hoàn thành bước: \u001b[0m\u001b[1;36;40mtask_dispatcher\u001b[0m                                        \n"
      ]
     },
     "metadata": {},
     "output_type": "display_data"
    },
    {
     "data": {
      "text/html": [
       "<pre style=\"white-space:pre;overflow-x:auto;line-height:normal;font-family:Menlo,'DejaVu Sans Mono',consolas,'Courier New',monospace\"><span style=\"color: #808000; text-decoration-color: #808000\">───────────────────────────────────────────────────────────────────────────────────────────────────────────────────</span>\n",
       "                                       <span style=\"font-weight: bold\">✅ Hoàn thành bước: </span><span style=\"color: #008080; text-decoration-color: #008080; background-color: #000000; font-weight: bold\">activity_designer</span>                                       \n",
       "</pre>\n"
      ],
      "text/plain": [
       "\u001b[33m───────────────────────────────────────────────────────────────────────────────────────────────────────────────────\u001b[0m\n",
       "                                       \u001b[1m✅ Hoàn thành bước: \u001b[0m\u001b[1;36;40mactivity_designer\u001b[0m                                       \n"
      ]
     },
     "metadata": {},
     "output_type": "display_data"
    },
    {
     "data": {
      "text/html": [
       "<pre style=\"white-space:pre;overflow-x:auto;line-height:normal;font-family:Menlo,'DejaVu Sans Mono',consolas,'Courier New',monospace\"><span style=\"color: #808000; text-decoration-color: #808000\">───────────────────────────────────────────────────────────────────────────────────────────────────────────────────</span>\n",
       "                                      <span style=\"font-weight: bold\">✅ Hoàn thành bước: </span><span style=\"color: #008080; text-decoration-color: #008080; background-color: #000000; font-weight: bold\">mark_task_complete</span>                                       \n",
       "</pre>\n"
      ],
      "text/plain": [
       "\u001b[33m───────────────────────────────────────────────────────────────────────────────────────────────────────────────────\u001b[0m\n",
       "                                      \u001b[1m✅ Hoàn thành bước: \u001b[0m\u001b[1;36;40mmark_task_complete\u001b[0m                                       \n"
      ]
     },
     "metadata": {},
     "output_type": "display_data"
    },
    {
     "data": {
      "text/html": [
       "<pre style=\"white-space:pre;overflow-x:auto;line-height:normal;font-family:Menlo,'DejaVu Sans Mono',consolas,'Courier New',monospace\"><span style=\"color: #808000; text-decoration-color: #808000\">───────────────────────────────────────────────────────────────────────────────────────────────────────────────────</span>\n",
       "                                       <span style=\"font-weight: bold\">🚦 </span><span style=\"color: #008080; text-decoration-color: #008080; background-color: #000000; font-weight: bold\">Router</span><span style=\"font-weight: bold\">: Đang kiểm tra nhiệm vụ...</span>                                        \n",
       "</pre>\n"
      ],
      "text/plain": [
       "\u001b[33m───────────────────────────────────────────────────────────────────────────────────────────────────────────────────\u001b[0m\n",
       "                                       \u001b[1m🚦 \u001b[0m\u001b[1;36;40mRouter\u001b[0m\u001b[1m: Đang kiểm tra nhiệm vụ...\u001b[0m                                        \n"
      ]
     },
     "metadata": {},
     "output_type": "display_data"
    },
    {
     "data": {
      "text/html": [
       "<pre style=\"white-space:pre;overflow-x:auto;line-height:normal;font-family:Menlo,'DejaVu Sans Mono',consolas,'Courier New',monospace\">--- 🚦 <span style=\"color: #008080; text-decoration-color: #008080; background-color: #000000; font-weight: bold\">Router</span>: Còn nhiệm vụ, đi đến Dispatcher.                                                                    \n",
       "</pre>\n"
      ],
      "text/plain": [
       "--- 🚦 \u001b[1;36;40mRouter\u001b[0m: Còn nhiệm vụ, đi đến Dispatcher.                                                                    \n"
      ]
     },
     "metadata": {},
     "output_type": "display_data"
    },
    {
     "data": {
      "text/html": [
       "<pre style=\"white-space:pre;overflow-x:auto;line-height:normal;font-family:Menlo,'DejaVu Sans Mono',consolas,'Courier New',monospace\"><span style=\"color: #808000; text-decoration-color: #808000\">───────────────────────────────────────────────────────────────────────────────────────────────────────────────────</span>\n",
       "                                          <span style=\"font-weight: bold\">✅ Hoàn thành bước: </span><span style=\"color: #008080; text-decoration-color: #008080; background-color: #000000; font-weight: bold\">task_router</span>                                          \n",
       "</pre>\n"
      ],
      "text/plain": [
       "\u001b[33m───────────────────────────────────────────────────────────────────────────────────────────────────────────────────\u001b[0m\n",
       "                                          \u001b[1m✅ Hoàn thành bước: \u001b[0m\u001b[1;36;40mtask_router\u001b[0m                                          \n"
      ]
     },
     "metadata": {},
     "output_type": "display_data"
    },
    {
     "data": {
      "text/html": [
       "<pre style=\"white-space:pre;overflow-x:auto;line-height:normal;font-family:Menlo,'DejaVu Sans Mono',consolas,'Courier New',monospace\"><span style=\"color: #808000; text-decoration-color: #808000\">───────────────────────────────────────────────────────────────────────────────────────────────────────────────────</span>\n",
       "                                       <span style=\"font-weight: bold\">🚚 </span><span style=\"color: #008080; text-decoration-color: #008080; background-color: #000000; font-weight: bold\">Agent: Task Dispatcher</span><span style=\"font-weight: bold\"> Bắt đầu...</span>                                        \n",
       "</pre>\n"
      ],
      "text/plain": [
       "\u001b[33m───────────────────────────────────────────────────────────────────────────────────────────────────────────────────\u001b[0m\n",
       "                                       \u001b[1m🚚 \u001b[0m\u001b[1;36;40mAgent: Task Dispatcher\u001b[0m\u001b[1m Bắt đầu...\u001b[0m                                        \n"
      ]
     },
     "metadata": {},
     "output_type": "display_data"
    },
    {
     "data": {
      "text/html": [
       "<pre style=\"white-space:pre;overflow-x:auto;line-height:normal;font-family:Menlo,'DejaVu Sans Mono',consolas,'Courier New',monospace\">--- 🚚 <span style=\"color: #008080; text-decoration-color: #008080; background-color: #000000; font-weight: bold\">Dispatcher</span>: Giao nhiệm vụ cho <span style=\"color: #008080; text-decoration-color: #008080; background-color: #000000; font-weight: bold\">resource_scout</span>.                                                               \n",
       "</pre>\n"
      ],
      "text/plain": [
       "--- 🚚 \u001b[1;36;40mDispatcher\u001b[0m: Giao nhiệm vụ cho \u001b[1;36;40mresource_scout\u001b[0m.                                                               \n"
      ]
     },
     "metadata": {},
     "output_type": "display_data"
    },
    {
     "data": {
      "text/html": [
       "<pre style=\"white-space:pre;overflow-x:auto;line-height:normal;font-family:Menlo,'DejaVu Sans Mono',consolas,'Courier New',monospace\"><span style=\"color: #808000; text-decoration-color: #808000\">───────────────────────────────────────────────────────────────────────────────────────────────────────────────────</span>\n",
       "                                        <span style=\"font-weight: bold\">✅ Hoàn thành bước: </span><span style=\"color: #008080; text-decoration-color: #008080; background-color: #000000; font-weight: bold\">task_dispatcher</span>                                        \n",
       "</pre>\n"
      ],
      "text/plain": [
       "\u001b[33m───────────────────────────────────────────────────────────────────────────────────────────────────────────────────\u001b[0m\n",
       "                                        \u001b[1m✅ Hoàn thành bước: \u001b[0m\u001b[1;36;40mtask_dispatcher\u001b[0m                                        \n"
      ]
     },
     "metadata": {},
     "output_type": "display_data"
    },
    {
     "data": {
      "text/html": [
       "<pre style=\"white-space:pre;overflow-x:auto;line-height:normal;font-family:Menlo,'DejaVu Sans Mono',consolas,'Courier New',monospace\"><span style=\"color: #808000; text-decoration-color: #808000\">───────────────────────────────────────────────────────────────────────────────────────────────────────────────────</span>\n",
       "                                        <span style=\"font-weight: bold\">✅ Hoàn thành bước: </span><span style=\"color: #008080; text-decoration-color: #008080; background-color: #000000; font-weight: bold\">resource_scout</span>                                         \n",
       "</pre>\n"
      ],
      "text/plain": [
       "\u001b[33m───────────────────────────────────────────────────────────────────────────────────────────────────────────────────\u001b[0m\n",
       "                                        \u001b[1m✅ Hoàn thành bước: \u001b[0m\u001b[1;36;40mresource_scout\u001b[0m                                         \n"
      ]
     },
     "metadata": {},
     "output_type": "display_data"
    },
    {
     "data": {
      "text/html": [
       "<pre style=\"white-space:pre;overflow-x:auto;line-height:normal;font-family:Menlo,'DejaVu Sans Mono',consolas,'Courier New',monospace\"><span style=\"color: #808000; text-decoration-color: #808000\">───────────────────────────────────────────────────────────────────────────────────────────────────────────────────</span>\n",
       "                                      <span style=\"font-weight: bold\">✅ Hoàn thành bước: </span><span style=\"color: #008080; text-decoration-color: #008080; background-color: #000000; font-weight: bold\">mark_task_complete</span>                                       \n",
       "</pre>\n"
      ],
      "text/plain": [
       "\u001b[33m───────────────────────────────────────────────────────────────────────────────────────────────────────────────────\u001b[0m\n",
       "                                      \u001b[1m✅ Hoàn thành bước: \u001b[0m\u001b[1;36;40mmark_task_complete\u001b[0m                                       \n"
      ]
     },
     "metadata": {},
     "output_type": "display_data"
    },
    {
     "data": {
      "text/html": [
       "<pre style=\"white-space:pre;overflow-x:auto;line-height:normal;font-family:Menlo,'DejaVu Sans Mono',consolas,'Courier New',monospace\"><span style=\"color: #808000; text-decoration-color: #808000\">───────────────────────────────────────────────────────────────────────────────────────────────────────────────────</span>\n",
       "                                       <span style=\"font-weight: bold\">🚦 </span><span style=\"color: #008080; text-decoration-color: #008080; background-color: #000000; font-weight: bold\">Router</span><span style=\"font-weight: bold\">: Đang kiểm tra nhiệm vụ...</span>                                        \n",
       "</pre>\n"
      ],
      "text/plain": [
       "\u001b[33m───────────────────────────────────────────────────────────────────────────────────────────────────────────────────\u001b[0m\n",
       "                                       \u001b[1m🚦 \u001b[0m\u001b[1;36;40mRouter\u001b[0m\u001b[1m: Đang kiểm tra nhiệm vụ...\u001b[0m                                        \n"
      ]
     },
     "metadata": {},
     "output_type": "display_data"
    },
    {
     "data": {
      "text/html": [
       "<pre style=\"white-space:pre;overflow-x:auto;line-height:normal;font-family:Menlo,'DejaVu Sans Mono',consolas,'Courier New',monospace\">--- 🚦 <span style=\"color: #008080; text-decoration-color: #008080; background-color: #000000; font-weight: bold\">Router</span>: Còn nhiệm vụ, đi đến Dispatcher.                                                                    \n",
       "</pre>\n"
      ],
      "text/plain": [
       "--- 🚦 \u001b[1;36;40mRouter\u001b[0m: Còn nhiệm vụ, đi đến Dispatcher.                                                                    \n"
      ]
     },
     "metadata": {},
     "output_type": "display_data"
    },
    {
     "data": {
      "text/html": [
       "<pre style=\"white-space:pre;overflow-x:auto;line-height:normal;font-family:Menlo,'DejaVu Sans Mono',consolas,'Courier New',monospace\"><span style=\"color: #808000; text-decoration-color: #808000\">───────────────────────────────────────────────────────────────────────────────────────────────────────────────────</span>\n",
       "                                          <span style=\"font-weight: bold\">✅ Hoàn thành bước: </span><span style=\"color: #008080; text-decoration-color: #008080; background-color: #000000; font-weight: bold\">task_router</span>                                          \n",
       "</pre>\n"
      ],
      "text/plain": [
       "\u001b[33m───────────────────────────────────────────────────────────────────────────────────────────────────────────────────\u001b[0m\n",
       "                                          \u001b[1m✅ Hoàn thành bước: \u001b[0m\u001b[1;36;40mtask_router\u001b[0m                                          \n"
      ]
     },
     "metadata": {},
     "output_type": "display_data"
    },
    {
     "data": {
      "text/html": [
       "<pre style=\"white-space:pre;overflow-x:auto;line-height:normal;font-family:Menlo,'DejaVu Sans Mono',consolas,'Courier New',monospace\"><span style=\"color: #808000; text-decoration-color: #808000\">───────────────────────────────────────────────────────────────────────────────────────────────────────────────────</span>\n",
       "                                       <span style=\"font-weight: bold\">🚚 </span><span style=\"color: #008080; text-decoration-color: #008080; background-color: #000000; font-weight: bold\">Agent: Task Dispatcher</span><span style=\"font-weight: bold\"> Bắt đầu...</span>                                        \n",
       "</pre>\n"
      ],
      "text/plain": [
       "\u001b[33m───────────────────────────────────────────────────────────────────────────────────────────────────────────────────\u001b[0m\n",
       "                                       \u001b[1m🚚 \u001b[0m\u001b[1;36;40mAgent: Task Dispatcher\u001b[0m\u001b[1m Bắt đầu...\u001b[0m                                        \n"
      ]
     },
     "metadata": {},
     "output_type": "display_data"
    },
    {
     "data": {
      "text/html": [
       "<pre style=\"white-space:pre;overflow-x:auto;line-height:normal;font-family:Menlo,'DejaVu Sans Mono',consolas,'Courier New',monospace\">--- 🚚 <span style=\"color: #008080; text-decoration-color: #008080; background-color: #000000; font-weight: bold\">Dispatcher</span>: Giao nhiệm vụ cho <span style=\"color: #008080; text-decoration-color: #008080; background-color: #000000; font-weight: bold\">activity_designer</span>.                                                            \n",
       "</pre>\n"
      ],
      "text/plain": [
       "--- 🚚 \u001b[1;36;40mDispatcher\u001b[0m: Giao nhiệm vụ cho \u001b[1;36;40mactivity_designer\u001b[0m.                                                            \n"
      ]
     },
     "metadata": {},
     "output_type": "display_data"
    },
    {
     "data": {
      "text/html": [
       "<pre style=\"white-space:pre;overflow-x:auto;line-height:normal;font-family:Menlo,'DejaVu Sans Mono',consolas,'Courier New',monospace\"><span style=\"color: #808000; text-decoration-color: #808000\">───────────────────────────────────────────────────────────────────────────────────────────────────────────────────</span>\n",
       "                                        <span style=\"font-weight: bold\">✅ Hoàn thành bước: </span><span style=\"color: #008080; text-decoration-color: #008080; background-color: #000000; font-weight: bold\">task_dispatcher</span>                                        \n",
       "</pre>\n"
      ],
      "text/plain": [
       "\u001b[33m───────────────────────────────────────────────────────────────────────────────────────────────────────────────────\u001b[0m\n",
       "                                        \u001b[1m✅ Hoàn thành bước: \u001b[0m\u001b[1;36;40mtask_dispatcher\u001b[0m                                        \n"
      ]
     },
     "metadata": {},
     "output_type": "display_data"
    },
    {
     "data": {
      "text/html": [
       "<pre style=\"white-space:pre;overflow-x:auto;line-height:normal;font-family:Menlo,'DejaVu Sans Mono',consolas,'Courier New',monospace\"><span style=\"color: #808000; text-decoration-color: #808000\">───────────────────────────────────────────────────────────────────────────────────────────────────────────────────</span>\n",
       "                                       <span style=\"font-weight: bold\">✅ Hoàn thành bước: </span><span style=\"color: #008080; text-decoration-color: #008080; background-color: #000000; font-weight: bold\">activity_designer</span>                                       \n",
       "</pre>\n"
      ],
      "text/plain": [
       "\u001b[33m───────────────────────────────────────────────────────────────────────────────────────────────────────────────────\u001b[0m\n",
       "                                       \u001b[1m✅ Hoàn thành bước: \u001b[0m\u001b[1;36;40mactivity_designer\u001b[0m                                       \n"
      ]
     },
     "metadata": {},
     "output_type": "display_data"
    },
    {
     "data": {
      "text/html": [
       "<pre style=\"white-space:pre;overflow-x:auto;line-height:normal;font-family:Menlo,'DejaVu Sans Mono',consolas,'Courier New',monospace\"><span style=\"color: #808000; text-decoration-color: #808000\">───────────────────────────────────────────────────────────────────────────────────────────────────────────────────</span>\n",
       "                                      <span style=\"font-weight: bold\">✅ Hoàn thành bước: </span><span style=\"color: #008080; text-decoration-color: #008080; background-color: #000000; font-weight: bold\">mark_task_complete</span>                                       \n",
       "</pre>\n"
      ],
      "text/plain": [
       "\u001b[33m───────────────────────────────────────────────────────────────────────────────────────────────────────────────────\u001b[0m\n",
       "                                      \u001b[1m✅ Hoàn thành bước: \u001b[0m\u001b[1;36;40mmark_task_complete\u001b[0m                                       \n"
      ]
     },
     "metadata": {},
     "output_type": "display_data"
    },
    {
     "data": {
      "text/html": [
       "<pre style=\"white-space:pre;overflow-x:auto;line-height:normal;font-family:Menlo,'DejaVu Sans Mono',consolas,'Courier New',monospace\"><span style=\"color: #808000; text-decoration-color: #808000\">───────────────────────────────────────────────────────────────────────────────────────────────────────────────────</span>\n",
       "                                       <span style=\"font-weight: bold\">🚦 </span><span style=\"color: #008080; text-decoration-color: #008080; background-color: #000000; font-weight: bold\">Router</span><span style=\"font-weight: bold\">: Đang kiểm tra nhiệm vụ...</span>                                        \n",
       "</pre>\n"
      ],
      "text/plain": [
       "\u001b[33m───────────────────────────────────────────────────────────────────────────────────────────────────────────────────\u001b[0m\n",
       "                                       \u001b[1m🚦 \u001b[0m\u001b[1;36;40mRouter\u001b[0m\u001b[1m: Đang kiểm tra nhiệm vụ...\u001b[0m                                        \n"
      ]
     },
     "metadata": {},
     "output_type": "display_data"
    },
    {
     "data": {
      "text/html": [
       "<pre style=\"white-space:pre;overflow-x:auto;line-height:normal;font-family:Menlo,'DejaVu Sans Mono',consolas,'Courier New',monospace\">--- 🚦 <span style=\"color: #008080; text-decoration-color: #008080; background-color: #000000; font-weight: bold\">Router</span>: Còn nhiệm vụ, đi đến Dispatcher.                                                                    \n",
       "</pre>\n"
      ],
      "text/plain": [
       "--- 🚦 \u001b[1;36;40mRouter\u001b[0m: Còn nhiệm vụ, đi đến Dispatcher.                                                                    \n"
      ]
     },
     "metadata": {},
     "output_type": "display_data"
    },
    {
     "data": {
      "text/html": [
       "<pre style=\"white-space:pre;overflow-x:auto;line-height:normal;font-family:Menlo,'DejaVu Sans Mono',consolas,'Courier New',monospace\"><span style=\"color: #808000; text-decoration-color: #808000\">───────────────────────────────────────────────────────────────────────────────────────────────────────────────────</span>\n",
       "                                          <span style=\"font-weight: bold\">✅ Hoàn thành bước: </span><span style=\"color: #008080; text-decoration-color: #008080; background-color: #000000; font-weight: bold\">task_router</span>                                          \n",
       "</pre>\n"
      ],
      "text/plain": [
       "\u001b[33m───────────────────────────────────────────────────────────────────────────────────────────────────────────────────\u001b[0m\n",
       "                                          \u001b[1m✅ Hoàn thành bước: \u001b[0m\u001b[1;36;40mtask_router\u001b[0m                                          \n"
      ]
     },
     "metadata": {},
     "output_type": "display_data"
    },
    {
     "data": {
      "text/html": [
       "<pre style=\"white-space:pre;overflow-x:auto;line-height:normal;font-family:Menlo,'DejaVu Sans Mono',consolas,'Courier New',monospace\"><span style=\"color: #808000; text-decoration-color: #808000\">───────────────────────────────────────────────────────────────────────────────────────────────────────────────────</span>\n",
       "                                       <span style=\"font-weight: bold\">🚚 </span><span style=\"color: #008080; text-decoration-color: #008080; background-color: #000000; font-weight: bold\">Agent: Task Dispatcher</span><span style=\"font-weight: bold\"> Bắt đầu...</span>                                        \n",
       "</pre>\n"
      ],
      "text/plain": [
       "\u001b[33m───────────────────────────────────────────────────────────────────────────────────────────────────────────────────\u001b[0m\n",
       "                                       \u001b[1m🚚 \u001b[0m\u001b[1;36;40mAgent: Task Dispatcher\u001b[0m\u001b[1m Bắt đầu...\u001b[0m                                        \n"
      ]
     },
     "metadata": {},
     "output_type": "display_data"
    },
    {
     "data": {
      "text/html": [
       "<pre style=\"white-space:pre;overflow-x:auto;line-height:normal;font-family:Menlo,'DejaVu Sans Mono',consolas,'Courier New',monospace\">--- 🚚 <span style=\"color: #008080; text-decoration-color: #008080; background-color: #000000; font-weight: bold\">Dispatcher</span>: Giao nhiệm vụ cho <span style=\"color: #008080; text-decoration-color: #008080; background-color: #000000; font-weight: bold\">assessment_creator</span>.                                                           \n",
       "</pre>\n"
      ],
      "text/plain": [
       "--- 🚚 \u001b[1;36;40mDispatcher\u001b[0m: Giao nhiệm vụ cho \u001b[1;36;40massessment_creator\u001b[0m.                                                           \n"
      ]
     },
     "metadata": {},
     "output_type": "display_data"
    },
    {
     "data": {
      "text/html": [
       "<pre style=\"white-space:pre;overflow-x:auto;line-height:normal;font-family:Menlo,'DejaVu Sans Mono',consolas,'Courier New',monospace\"><span style=\"color: #808000; text-decoration-color: #808000\">───────────────────────────────────────────────────────────────────────────────────────────────────────────────────</span>\n",
       "                                        <span style=\"font-weight: bold\">✅ Hoàn thành bước: </span><span style=\"color: #008080; text-decoration-color: #008080; background-color: #000000; font-weight: bold\">task_dispatcher</span>                                        \n",
       "</pre>\n"
      ],
      "text/plain": [
       "\u001b[33m───────────────────────────────────────────────────────────────────────────────────────────────────────────────────\u001b[0m\n",
       "                                        \u001b[1m✅ Hoàn thành bước: \u001b[0m\u001b[1;36;40mtask_dispatcher\u001b[0m                                        \n"
      ]
     },
     "metadata": {},
     "output_type": "display_data"
    },
    {
     "data": {
      "text/html": [
       "<pre style=\"white-space:pre;overflow-x:auto;line-height:normal;font-family:Menlo,'DejaVu Sans Mono',consolas,'Courier New',monospace\"><span style=\"color: #808000; text-decoration-color: #808000\">───────────────────────────────────────────────────────────────────────────────────────────────────────────────────</span>\n",
       "                                      <span style=\"font-weight: bold\">✅ Hoàn thành bước: </span><span style=\"color: #008080; text-decoration-color: #008080; background-color: #000000; font-weight: bold\">assessment_creator</span>                                       \n",
       "</pre>\n"
      ],
      "text/plain": [
       "\u001b[33m───────────────────────────────────────────────────────────────────────────────────────────────────────────────────\u001b[0m\n",
       "                                      \u001b[1m✅ Hoàn thành bước: \u001b[0m\u001b[1;36;40massessment_creator\u001b[0m                                       \n"
      ]
     },
     "metadata": {},
     "output_type": "display_data"
    },
    {
     "data": {
      "text/html": [
       "<pre style=\"white-space:pre;overflow-x:auto;line-height:normal;font-family:Menlo,'DejaVu Sans Mono',consolas,'Courier New',monospace\"><span style=\"color: #808000; text-decoration-color: #808000\">───────────────────────────────────────────────────────────────────────────────────────────────────────────────────</span>\n",
       "                                      <span style=\"font-weight: bold\">✅ Hoàn thành bước: </span><span style=\"color: #008080; text-decoration-color: #008080; background-color: #000000; font-weight: bold\">mark_task_complete</span>                                       \n",
       "</pre>\n"
      ],
      "text/plain": [
       "\u001b[33m───────────────────────────────────────────────────────────────────────────────────────────────────────────────────\u001b[0m\n",
       "                                      \u001b[1m✅ Hoàn thành bước: \u001b[0m\u001b[1;36;40mmark_task_complete\u001b[0m                                       \n"
      ]
     },
     "metadata": {},
     "output_type": "display_data"
    },
    {
     "data": {
      "text/html": [
       "<pre style=\"white-space:pre;overflow-x:auto;line-height:normal;font-family:Menlo,'DejaVu Sans Mono',consolas,'Courier New',monospace\"><span style=\"color: #808000; text-decoration-color: #808000\">───────────────────────────────────────────────────────────────────────────────────────────────────────────────────</span>\n",
       "                                       <span style=\"font-weight: bold\">🚦 </span><span style=\"color: #008080; text-decoration-color: #008080; background-color: #000000; font-weight: bold\">Router</span><span style=\"font-weight: bold\">: Đang kiểm tra nhiệm vụ...</span>                                        \n",
       "</pre>\n"
      ],
      "text/plain": [
       "\u001b[33m───────────────────────────────────────────────────────────────────────────────────────────────────────────────────\u001b[0m\n",
       "                                       \u001b[1m🚦 \u001b[0m\u001b[1;36;40mRouter\u001b[0m\u001b[1m: Đang kiểm tra nhiệm vụ...\u001b[0m                                        \n"
      ]
     },
     "metadata": {},
     "output_type": "display_data"
    },
    {
     "data": {
      "text/html": [
       "<pre style=\"white-space:pre;overflow-x:auto;line-height:normal;font-family:Menlo,'DejaVu Sans Mono',consolas,'Courier New',monospace\">--- 🚦 <span style=\"color: #008080; text-decoration-color: #008080; background-color: #000000; font-weight: bold\">Router</span>: Còn nhiệm vụ, đi đến Dispatcher.                                                                    \n",
       "</pre>\n"
      ],
      "text/plain": [
       "--- 🚦 \u001b[1;36;40mRouter\u001b[0m: Còn nhiệm vụ, đi đến Dispatcher.                                                                    \n"
      ]
     },
     "metadata": {},
     "output_type": "display_data"
    },
    {
     "data": {
      "text/html": [
       "<pre style=\"white-space:pre;overflow-x:auto;line-height:normal;font-family:Menlo,'DejaVu Sans Mono',consolas,'Courier New',monospace\"><span style=\"color: #808000; text-decoration-color: #808000\">───────────────────────────────────────────────────────────────────────────────────────────────────────────────────</span>\n",
       "                                          <span style=\"font-weight: bold\">✅ Hoàn thành bước: </span><span style=\"color: #008080; text-decoration-color: #008080; background-color: #000000; font-weight: bold\">task_router</span>                                          \n",
       "</pre>\n"
      ],
      "text/plain": [
       "\u001b[33m───────────────────────────────────────────────────────────────────────────────────────────────────────────────────\u001b[0m\n",
       "                                          \u001b[1m✅ Hoàn thành bước: \u001b[0m\u001b[1;36;40mtask_router\u001b[0m                                          \n"
      ]
     },
     "metadata": {},
     "output_type": "display_data"
    },
    {
     "data": {
      "text/html": [
       "<pre style=\"white-space:pre;overflow-x:auto;line-height:normal;font-family:Menlo,'DejaVu Sans Mono',consolas,'Courier New',monospace\"><span style=\"color: #808000; text-decoration-color: #808000\">───────────────────────────────────────────────────────────────────────────────────────────────────────────────────</span>\n",
       "                                       <span style=\"font-weight: bold\">🚚 </span><span style=\"color: #008080; text-decoration-color: #008080; background-color: #000000; font-weight: bold\">Agent: Task Dispatcher</span><span style=\"font-weight: bold\"> Bắt đầu...</span>                                        \n",
       "</pre>\n"
      ],
      "text/plain": [
       "\u001b[33m───────────────────────────────────────────────────────────────────────────────────────────────────────────────────\u001b[0m\n",
       "                                       \u001b[1m🚚 \u001b[0m\u001b[1;36;40mAgent: Task Dispatcher\u001b[0m\u001b[1m Bắt đầu...\u001b[0m                                        \n"
      ]
     },
     "metadata": {},
     "output_type": "display_data"
    },
    {
     "data": {
      "text/html": [
       "<pre style=\"white-space:pre;overflow-x:auto;line-height:normal;font-family:Menlo,'DejaVu Sans Mono',consolas,'Courier New',monospace\">--- 🚚 <span style=\"color: #008080; text-decoration-color: #008080; background-color: #000000; font-weight: bold\">Dispatcher</span>: Giao nhiệm vụ cho <span style=\"color: #008080; text-decoration-color: #008080; background-color: #000000; font-weight: bold\">activity_designer</span>.                                                            \n",
       "</pre>\n"
      ],
      "text/plain": [
       "--- 🚚 \u001b[1;36;40mDispatcher\u001b[0m: Giao nhiệm vụ cho \u001b[1;36;40mactivity_designer\u001b[0m.                                                            \n"
      ]
     },
     "metadata": {},
     "output_type": "display_data"
    },
    {
     "data": {
      "text/html": [
       "<pre style=\"white-space:pre;overflow-x:auto;line-height:normal;font-family:Menlo,'DejaVu Sans Mono',consolas,'Courier New',monospace\"><span style=\"color: #808000; text-decoration-color: #808000\">───────────────────────────────────────────────────────────────────────────────────────────────────────────────────</span>\n",
       "                                        <span style=\"font-weight: bold\">✅ Hoàn thành bước: </span><span style=\"color: #008080; text-decoration-color: #008080; background-color: #000000; font-weight: bold\">task_dispatcher</span>                                        \n",
       "</pre>\n"
      ],
      "text/plain": [
       "\u001b[33m───────────────────────────────────────────────────────────────────────────────────────────────────────────────────\u001b[0m\n",
       "                                        \u001b[1m✅ Hoàn thành bước: \u001b[0m\u001b[1;36;40mtask_dispatcher\u001b[0m                                        \n"
      ]
     },
     "metadata": {},
     "output_type": "display_data"
    },
    {
     "data": {
      "text/html": [
       "<pre style=\"white-space:pre;overflow-x:auto;line-height:normal;font-family:Menlo,'DejaVu Sans Mono',consolas,'Courier New',monospace\"><span style=\"color: #808000; text-decoration-color: #808000\">───────────────────────────────────────────────────────────────────────────────────────────────────────────────────</span>\n",
       "                                       <span style=\"font-weight: bold\">✅ Hoàn thành bước: </span><span style=\"color: #008080; text-decoration-color: #008080; background-color: #000000; font-weight: bold\">activity_designer</span>                                       \n",
       "</pre>\n"
      ],
      "text/plain": [
       "\u001b[33m───────────────────────────────────────────────────────────────────────────────────────────────────────────────────\u001b[0m\n",
       "                                       \u001b[1m✅ Hoàn thành bước: \u001b[0m\u001b[1;36;40mactivity_designer\u001b[0m                                       \n"
      ]
     },
     "metadata": {},
     "output_type": "display_data"
    },
    {
     "data": {
      "text/html": [
       "<pre style=\"white-space:pre;overflow-x:auto;line-height:normal;font-family:Menlo,'DejaVu Sans Mono',consolas,'Courier New',monospace\"><span style=\"color: #808000; text-decoration-color: #808000\">───────────────────────────────────────────────────────────────────────────────────────────────────────────────────</span>\n",
       "                                      <span style=\"font-weight: bold\">✅ Hoàn thành bước: </span><span style=\"color: #008080; text-decoration-color: #008080; background-color: #000000; font-weight: bold\">mark_task_complete</span>                                       \n",
       "</pre>\n"
      ],
      "text/plain": [
       "\u001b[33m───────────────────────────────────────────────────────────────────────────────────────────────────────────────────\u001b[0m\n",
       "                                      \u001b[1m✅ Hoàn thành bước: \u001b[0m\u001b[1;36;40mmark_task_complete\u001b[0m                                       \n"
      ]
     },
     "metadata": {},
     "output_type": "display_data"
    },
    {
     "data": {
      "text/html": [
       "<pre style=\"white-space:pre;overflow-x:auto;line-height:normal;font-family:Menlo,'DejaVu Sans Mono',consolas,'Courier New',monospace\"><span style=\"color: #808000; text-decoration-color: #808000\">───────────────────────────────────────────────────────────────────────────────────────────────────────────────────</span>\n",
       "                                       <span style=\"font-weight: bold\">🚦 </span><span style=\"color: #008080; text-decoration-color: #008080; background-color: #000000; font-weight: bold\">Router</span><span style=\"font-weight: bold\">: Đang kiểm tra nhiệm vụ...</span>                                        \n",
       "</pre>\n"
      ],
      "text/plain": [
       "\u001b[33m───────────────────────────────────────────────────────────────────────────────────────────────────────────────────\u001b[0m\n",
       "                                       \u001b[1m🚦 \u001b[0m\u001b[1;36;40mRouter\u001b[0m\u001b[1m: Đang kiểm tra nhiệm vụ...\u001b[0m                                        \n"
      ]
     },
     "metadata": {},
     "output_type": "display_data"
    },
    {
     "data": {
      "text/html": [
       "<pre style=\"white-space:pre;overflow-x:auto;line-height:normal;font-family:Menlo,'DejaVu Sans Mono',consolas,'Courier New',monospace\">--- 🚦 <span style=\"color: #008080; text-decoration-color: #008080; background-color: #000000; font-weight: bold\">Router</span>: Hết nhiệm vụ, đi đến Compiler.                                                                      \n",
       "</pre>\n"
      ],
      "text/plain": [
       "--- 🚦 \u001b[1;36;40mRouter\u001b[0m: Hết nhiệm vụ, đi đến Compiler.                                                                      \n"
      ]
     },
     "metadata": {},
     "output_type": "display_data"
    },
    {
     "data": {
      "text/html": [
       "<pre style=\"white-space:pre;overflow-x:auto;line-height:normal;font-family:Menlo,'DejaVu Sans Mono',consolas,'Courier New',monospace\"><span style=\"color: #808000; text-decoration-color: #808000\">───────────────────────────────────────────────────────────────────────────────────────────────────────────────────</span>\n",
       "                                          <span style=\"font-weight: bold\">✅ Hoàn thành bước: </span><span style=\"color: #008080; text-decoration-color: #008080; background-color: #000000; font-weight: bold\">task_router</span>                                          \n",
       "</pre>\n"
      ],
      "text/plain": [
       "\u001b[33m───────────────────────────────────────────────────────────────────────────────────────────────────────────────────\u001b[0m\n",
       "                                          \u001b[1m✅ Hoàn thành bước: \u001b[0m\u001b[1;36;40mtask_router\u001b[0m                                          \n"
      ]
     },
     "metadata": {},
     "output_type": "display_data"
    },
    {
     "data": {
      "text/html": [
       "<pre style=\"white-space:pre;overflow-x:auto;line-height:normal;font-family:Menlo,'DejaVu Sans Mono',consolas,'Courier New',monospace\"><span style=\"color: #808000; text-decoration-color: #808000\">───────────────────────────────────────────────────────────────────────────────────────────────────────────────────</span>\n",
       "                                     <span style=\"font-weight: bold\">✅ Hoàn thành bước: </span><span style=\"color: #008080; text-decoration-color: #008080; background-color: #000000; font-weight: bold\">lesson_plan_compiler</span>                                      \n",
       "</pre>\n"
      ],
      "text/plain": [
       "\u001b[33m───────────────────────────────────────────────────────────────────────────────────────────────────────────────────\u001b[0m\n",
       "                                     \u001b[1m✅ Hoàn thành bước: \u001b[0m\u001b[1;36;40mlesson_plan_compiler\u001b[0m                                      \n"
      ]
     },
     "metadata": {},
     "output_type": "display_data"
    },
    {
     "ename": "GraphRecursionError",
     "evalue": "Recursion limit of 25 reached without hitting a stop condition. You can increase the limit by setting the `recursion_limit` config key.\nFor troubleshooting, visit: https://python.langchain.com/docs/troubleshooting/errors/GRAPH_RECURSION_LIMIT",
     "output_type": "error",
     "traceback": [
      "\u001b[31m---------------------------------------------------------------------------\u001b[39m",
      "\u001b[31mGraphRecursionError\u001b[39m                       Traceback (most recent call last)",
      "\u001b[36mCell\u001b[39m\u001b[36m \u001b[39m\u001b[32mIn[42]\u001b[39m\u001b[32m, line 64\u001b[39m\n\u001b[32m     60\u001b[39m request_rag_test = \u001b[33m\"\u001b[39m\u001b[33mSoạn giáo án cho học sinh lớp 9. Mục tiêu là giúp các em hiểu và vận dụng được các hệ thức lượng trong tam giác vuông.\u001b[39m\u001b[33m\"\u001b[39m\n\u001b[32m     62\u001b[39m \u001b[38;5;66;03m# --- CHẠY THỬ ---\u001b[39;00m\n\u001b[32m     63\u001b[39m \u001b[38;5;66;03m# Chạy graph với yêu cầu đã chuẩn bị\u001b[39;00m\n\u001b[32m---> \u001b[39m\u001b[32m64\u001b[39m \u001b[38;5;28;01mawait\u001b[39;00m run_graph(request_rag_test)\n",
      "\u001b[36mCell\u001b[39m\u001b[36m \u001b[39m\u001b[32mIn[42]\u001b[39m\u001b[32m, line 32\u001b[39m, in \u001b[36mrun_graph\u001b[39m\u001b[34m(user_request)\u001b[39m\n\u001b[32m     28\u001b[39m final_state_result = \u001b[38;5;28;01mNone\u001b[39;00m\n\u001b[32m     30\u001b[39m \u001b[38;5;66;03m# Sử dụng astream để chạy và theo dõi từng bước\u001b[39;00m\n\u001b[32m     31\u001b[39m \u001b[38;5;66;03m# Vòng lặp này sẽ stream output của từng node khi nó hoàn thành\u001b[39;00m\n\u001b[32m---> \u001b[39m\u001b[32m32\u001b[39m \u001b[38;5;28;01masync\u001b[39;00m \u001b[38;5;28;01mfor\u001b[39;00m event \u001b[38;5;129;01min\u001b[39;00m app.astream(initial_state, config=config):\n\u001b[32m     33\u001b[39m     \u001b[38;5;66;03m# Mỗi event là một dictionary chứa tên node và kết quả (state) sau khi node đó chạy\u001b[39;00m\n\u001b[32m     34\u001b[39m     \u001b[38;5;28;01mfor\u001b[39;00m node_name, node_output \u001b[38;5;129;01min\u001b[39;00m event.items():\n\u001b[32m     35\u001b[39m         print_markdown(\u001b[33mf\u001b[39m\u001b[33m\"\u001b[39m\u001b[33m--- \u001b[39m\u001b[38;5;130;01m\\n\u001b[39;00m\u001b[33m### ✅ Hoàn thành bước: `\u001b[39m\u001b[38;5;132;01m{\u001b[39;00mnode_name\u001b[38;5;132;01m}\u001b[39;00m\u001b[33m`\u001b[39m\u001b[33m\"\u001b[39m)\n",
      "\u001b[36mFile \u001b[39m\u001b[32mc:\\Users\\Hi\\Documents\\IAI - UET\\AI-Lesson-Plan-Generator\\plan_venv\\Lib\\site-packages\\langgraph\\pregel\\main.py:2977\u001b[39m, in \u001b[36mPregel.astream\u001b[39m\u001b[34m(self, input, config, context, stream_mode, print_mode, output_keys, interrupt_before, interrupt_after, durability, subgraphs, debug, **kwargs)\u001b[39m\n\u001b[32m   2968\u001b[39m \u001b[38;5;28;01mif\u001b[39;00m loop.status == \u001b[33m\"\u001b[39m\u001b[33mout_of_steps\u001b[39m\u001b[33m\"\u001b[39m:\n\u001b[32m   2969\u001b[39m     msg = create_error_message(\n\u001b[32m   2970\u001b[39m         message=(\n\u001b[32m   2971\u001b[39m             \u001b[33mf\u001b[39m\u001b[33m\"\u001b[39m\u001b[33mRecursion limit of \u001b[39m\u001b[38;5;132;01m{\u001b[39;00mconfig[\u001b[33m'\u001b[39m\u001b[33mrecursion_limit\u001b[39m\u001b[33m'\u001b[39m]\u001b[38;5;132;01m}\u001b[39;00m\u001b[33m reached \u001b[39m\u001b[33m\"\u001b[39m\n\u001b[32m   (...)\u001b[39m\u001b[32m   2975\u001b[39m         error_code=ErrorCode.GRAPH_RECURSION_LIMIT,\n\u001b[32m   2976\u001b[39m     )\n\u001b[32m-> \u001b[39m\u001b[32m2977\u001b[39m     \u001b[38;5;28;01mraise\u001b[39;00m GraphRecursionError(msg)\n\u001b[32m   2978\u001b[39m \u001b[38;5;66;03m# set final channel values as run output\u001b[39;00m\n\u001b[32m   2979\u001b[39m \u001b[38;5;28;01mawait\u001b[39;00m run_manager.on_chain_end(loop.output)\n",
      "\u001b[31mGraphRecursionError\u001b[39m: Recursion limit of 25 reached without hitting a stop condition. You can increase the limit by setting the `recursion_limit` config key.\nFor troubleshooting, visit: https://python.langchain.com/docs/troubleshooting/errors/GRAPH_RECURSION_LIMIT"
     ]
    }
   ],
   "source": [
    "# ==============================================================================\n",
    "# CELL 5: CHẠY THỬ NGHIỆM (PHIÊN BẢN CUỐI CÙNG)\n",
    "# ==============================================================================\n",
    "\n",
    "async def run_graph(user_request: str):\n",
    "    \"\"\"\n",
    "    Hàm để chạy graph với một yêu cầu cụ thể, theo dõi các bước,\n",
    "    và in ra kết quả cuối cùng một cách đẹp mắt.\n",
    "    \"\"\"\n",
    "    \n",
    "    # Khởi tạo trạng thái ban đầu, đảm bảo các trường cần thiết có giá trị mặc định\n",
    "    initial_state = {\n",
    "        \"messages\": [HumanMessage(content=user_request)],\n",
    "        \"agent_outputs\": {},\n",
    "        # Khởi tạo các trường khác là None để tránh lỗi Key Error\n",
    "        \"analyzed_objective\": None,\n",
    "        \"pedagogy_strategy\": None,\n",
    "        \"task_list\": None,\n",
    "        \"current_task_id\": None,\n",
    "        \"final_lesson_plan\": None\n",
    "    }\n",
    "    \n",
    "    print_markdown(f\"# 🚀 BẮT ĐẦU QUY TRÌNH VỚI YÊU CẦU:\\n> {user_request}\")\n",
    "    \n",
    "    # Cấu hình với giới hạn lặp cao hơn để cho phép nhiều bước thực thi\n",
    "    config = {\"recursion_limit\": 25} # Tăng lên 25 để chắc chắn\n",
    "    \n",
    "    final_state_result = None\n",
    "    \n",
    "    # Sử dụng astream để chạy và theo dõi từng bước\n",
    "    # Vòng lặp này sẽ stream output của từng node khi nó hoàn thành\n",
    "    async for event in app.astream(initial_state, config=config):\n",
    "        # Mỗi event là một dictionary chứa tên node và kết quả (state) sau khi node đó chạy\n",
    "        for node_name, node_output in event.items():\n",
    "            print_markdown(f\"--- \\n### ✅ Hoàn thành bước: `{node_name}`\")\n",
    "            # Chúng ta lưu lại state cuối cùng sau mỗi bước để đảm bảo có kết quả cuối\n",
    "            final_state_result = node_output \n",
    "\n",
    "    print_markdown(\"\\n---\\n# 🏁 KẾT THÚC QUY TRÌNH.\")\n",
    "    \n",
    "    # Sau khi quy trình kết thúc, in ra các thông tin quan trọng\n",
    "    if final_state_result:\n",
    "        # In ra giáo án cuối cùng nếu có\n",
    "        if final_state_result.get(\"final_lesson_plan\"):\n",
    "            print_markdown(\"\\n---\\n# 📝 GIÁO ÁN HOÀN CHỈNH\")\n",
    "            # In nội dung giáo án bằng Markdown để hiển thị đẹp\n",
    "            print_markdown(final_state_result[\"final_lesson_plan\"])\n",
    "        \n",
    "        # In ra toàn bộ state cuối cùng để kiểm tra chi tiết\n",
    "        print_markdown(\"\\n---\\n# 🕵️‍♂️ TRẠNG THÁI CUỐI CÙNG (ĐỂ DEBUG)\")\n",
    "        from pprint import pprint\n",
    "        # Sử dụng pprint để in dictionary một cách dễ đọc\n",
    "        pprint(final_state_result)\n",
    "    else:\n",
    "        print_markdown(\"\\n---\\n### ⚠️ Không có kết quả cuối cùng để hiển thị.\")\n",
    "\n",
    "\n",
    "# --- KỊCH BẢN THỬ NGHIỆM MỚI CHO RAG ---\n",
    "# Yêu cầu một chủ đề có trong sách giáo khoa Toán 9\n",
    "request_rag_test = \"Soạn giáo án cho học sinh lớp 9. Mục tiêu là giúp các em hiểu và vận dụng được các hệ thức lượng trong tam giác vuông.\"\n",
    "\n",
    "# --- CHẠY THỬ ---\n",
    "# Chạy graph với yêu cầu đã chuẩn bị\n",
    "await run_graph(request_rag_test)"
   ]
  },
  {
   "cell_type": "code",
   "execution_count": null,
   "id": "84c017a9",
   "metadata": {},
   "outputs": [],
   "source": []
  },
  {
   "cell_type": "code",
   "execution_count": null,
   "id": "1119c2f1",
   "metadata": {},
   "outputs": [],
   "source": []
  }
 ],
 "metadata": {
  "kernelspec": {
   "display_name": "plan_venv",
   "language": "python",
   "name": "python3"
  },
  "language_info": {
   "codemirror_mode": {
    "name": "ipython",
    "version": 3
   },
   "file_extension": ".py",
   "mimetype": "text/x-python",
   "name": "python",
   "nbconvert_exporter": "python",
   "pygments_lexer": "ipython3",
   "version": "3.11.8"
  }
 },
 "nbformat": 4,
 "nbformat_minor": 5
}
