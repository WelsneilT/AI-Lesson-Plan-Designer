{
 "cells": [
  {
   "cell_type": "markdown",
   "id": "a3bfa357",
   "metadata": {},
   "source": [
    "## PHẦN 1: CÀI ĐẶT, IMPORTS & THIẾT LẬP BAN ĐẦU"
   ]
  },
  {
   "cell_type": "code",
   "execution_count": 20,
   "id": "f1b9d691",
   "metadata": {},
   "outputs": [],
   "source": [
    "# ==============================================================================\n",
    "# CELL 1.1: CÀI ĐẶT THƯ VIỆN & BIẾN MÔI TRƯỜNG (CẬP NHẬT)\n",
    "# ==============================================================================\n",
    "import os\n",
    "import json\n",
    "import asyncio\n",
    "import operator\n",
    "import time \n",
    "import re\n",
    "from typing import TypedDict, Annotated, List, Dict, Any, Literal, Optional, Union\n",
    "\n",
    "# Tải các biến môi trường\n",
    "from dotenv import load_dotenv \n",
    "load_dotenv()\n",
    "\n",
    "# LangChain & LangGraph\n",
    "from langchain_core.messages import BaseMessage, HumanMessage   \n",
    "from pydantic.v1 import BaseModel, Field, schema_json_of\n",
    "# --- NÂNG CẤP: Chuyển sang thư viện Google Generative AI (dành cho AI Studio) ---\n",
    "from langchain_google_genai import ChatGoogleGenerativeAI\n",
    "from langgraph.graph import StateGraph, END\n",
    "from langgraph.graph.message import add_messages\n",
    "\n",
    "# --- NÂNG CẤP: Thêm công cụ tìm kiếm ---\n",
    "from langchain_community.tools.tavily_search import TavilySearchResults\n",
    "\n",
    "# Thư viện hỗ trợ & Kho tri thức\n",
    "from langchain_community.vectorstores import FAISS\n",
    "from langchain_huggingface import HuggingFaceEmbeddings\n",
    "from rich.console import Console\n",
    "from rich.markdown import Markdown\n",
    "from rich.pretty import pprint\n",
    "from IPython.display import Image, display"
   ]
  },
  {
   "cell_type": "code",
   "execution_count": 21,
   "id": "eb563d80",
   "metadata": {},
   "outputs": [],
   "source": [
    "# ==============================================================================\n",
    "# CELL 1.2: CẤU HÌNH LOG & CÁC HÀM IN ẤN\n",
    "# ==============================================================================\n",
    "from langchain_groq import ChatGroq\n",
    "# --- CẤU HÌNH LOG ---\n",
    "VERBOSE_MODE = True\n",
    "\n",
    "# --- KHỞI TẠO CÁC CÔNG CỤ IN ẤN ---\n",
    "console = Console()\n",
    "\n",
    "def print_step(message: str):\n",
    "    if VERBOSE_MODE:\n",
    "        console.print(f\"\\n[bold cyan]>[/bold cyan] {message}\")\n",
    "\n",
    "def print_result(data: Any, title: str = \"Kết quả\"):\n",
    "    if VERBOSE_MODE:\n",
    "        console.print(f\"[bold green]✔️ {title}:[/bold green]\")\n",
    "        pprint(data, expand_all=True)\n",
    "        \n",
    "def print_warning(message: str):\n",
    "    if VERBOSE_MODE:\n",
    "        console.print(f\"[bold yellow]⚠️  {message}[/bold yellow]\")"
   ]
  },
  {
   "cell_type": "code",
   "execution_count": 22,
   "id": "eb8e3f51",
   "metadata": {},
   "outputs": [
    {
     "name": "stdout",
     "output_type": "stream",
     "text": [
      "✅ LLM (Gemini 2.5 Flash từ Google AI Studio) đã được khởi tạo thành công.\n"
     ]
    }
   ],
   "source": [
    "# ==============================================================================\n",
    "# CELL 1.3: KHỞI TẠO LLM (NÂNG CẤP SANG GOOGLE AI STUDIO)\n",
    "# ==============================================================================\n",
    "try:\n",
    "    llm = ChatGoogleGenerativeAI(\n",
    "        model=\"gemini-2.5-flash\", # Sử dụng model mới nhất và mạnh nhất\n",
    "        temperature=0.1,\n",
    "        google_api_key=os.getenv(\"GOOGLE_API_KEY\")\n",
    "    )\n",
    "    print(\"✅ LLM (Gemini 2.5 Flash từ Google AI Studio) đã được khởi tạo thành công.\")\n",
    "except Exception as e:\n",
    "    print(f\"❌ LỖI: Không thể khởi tạo LLM. Hãy chắc chắn bạn đã cài 'langchain-google-genai' và có GOOGLE_API_KEY trong file .env. Lỗi: {e}\")\n",
    "    llm = None"
   ]
  },
  {
   "cell_type": "code",
   "execution_count": 23,
   "id": "0e17e6e5",
   "metadata": {},
   "outputs": [
    {
     "data": {
      "text/html": [
       "<pre style=\"white-space:pre;overflow-x:auto;line-height:normal;font-family:Menlo,'DejaVu Sans Mono',consolas,'Courier New',monospace\"><span style=\"color: #808000; text-decoration-color: #808000; font-weight: bold\">⚠️  Trí nhớ trống, không có gì để xây dựng vector store.</span>\n",
       "</pre>\n"
      ],
      "text/plain": [
       "\u001b[1;33m⚠️  Trí nhớ trống, không có gì để xây dựng vector store.\u001b[0m\n"
      ]
     },
     "metadata": {},
     "output_type": "display_data"
    }
   ],
   "source": [
    "# ==============================================================================\n",
    "# CELL 1.5: KHỞI TẠO VÀ QUẢN LÝ TRÍ NHỚ DÀI HẠN (NÂNG CẤP V9.4)\n",
    "# ==============================================================================\n",
    "MEMORY_FILE_PATH = \"long_term_memory.json\"\n",
    "memory_vector_store = None\n",
    "\n",
    "# Hàm để tải trí nhớ từ file JSON\n",
    "def load_memory():\n",
    "    if not os.path.exists(MEMORY_FILE_PATH):\n",
    "        return []\n",
    "    with open(MEMORY_FILE_PATH, 'r', encoding='utf-8') as f:\n",
    "        return json.load(f)\n",
    "\n",
    "# Hàm để lưu một giáo án mới vào trí nhớ\n",
    "def save_to_memory(request: str, structured_plan: Dict[str, Any]):\n",
    "    memory = load_memory()\n",
    "    memory.append({\n",
    "        \"request\": request,\n",
    "        \"plan\": structured_plan\n",
    "    })\n",
    "    with open(MEMORY_FILE_PATH, 'w', encoding='utf-8') as f:\n",
    "        json.dump(memory, f, ensure_ascii=False, indent=2)\n",
    "    print_step(\"🧠 Đã lưu giáo án thành công vào Trí nhớ Dài hạn.\")\n",
    "\n",
    "# Hàm để tạo một vector store từ trí nhớ (để tìm kiếm tương đồng)\n",
    "def build_memory_vector_store():\n",
    "    global memory_vector_store\n",
    "    memory_content = load_memory()\n",
    "    if not memory_content:\n",
    "        print_warning(\"Trí nhớ trống, không có gì để xây dựng vector store.\")\n",
    "        return\n",
    "\n",
    "    # Chỉ lấy phần 'request' để tìm kiếm\n",
    "    texts = [item['request'] for item in memory_content]\n",
    "    # Lưu toàn bộ item làm metadata\n",
    "    metadatas = memory_content\n",
    "    \n",
    "    memory_vector_store = FAISS.from_texts(texts, embeddings, metadatas=metadatas)\n",
    "    print_step(\"✅ Đã xây dựng Vector Store cho Trí nhớ Dài hạn.\")\n",
    "\n",
    "# Tự động xây dựng vector store khi khởi động notebook\n",
    "build_memory_vector_store()"
   ]
  },
  {
   "cell_type": "markdown",
   "id": "3ba01f0c",
   "metadata": {},
   "source": [
    "## PHẦN 2: ĐỊNH NGHĨA STATE CỦA HỆ THỐNG\n"
   ]
  },
  {
   "cell_type": "code",
   "execution_count": 24,
   "id": "9d8894ca",
   "metadata": {},
   "outputs": [
    {
     "data": {
      "text/html": [
       "<pre style=\"white-space:pre;overflow-x:auto;line-height:normal;font-family:Menlo,'DejaVu Sans Mono',consolas,'Courier New',monospace\">\n",
       "<span style=\"color: #008080; text-decoration-color: #008080; font-weight: bold\">&gt;</span> Đang tải và hợp nhất các kho tri thức từ <span style=\"color: #008080; text-decoration-color: #008080; font-weight: bold\">2</span> thư mục<span style=\"color: #808000; text-decoration-color: #808000\">...</span>\n",
       "</pre>\n"
      ],
      "text/plain": [
       "\n",
       "\u001b[1;36m>\u001b[0m Đang tải và hợp nhất các kho tri thức từ \u001b[1;36m2\u001b[0m thư mục\u001b[33m...\u001b[0m\n"
      ]
     },
     "metadata": {},
     "output_type": "display_data"
    },
    {
     "name": "stdout",
     "output_type": "stream",
     "text": [
      "✅ Đã tải thành công kho tri thức cơ sở: 'sgk_toan_12_1'\n",
      "✅ Đã hợp nhất thành công: 'sgk_toan_9'\n",
      "\n",
      "[bold green]✔️ Tất cả các kho tri thức RAG đã được tải và hợp nhất thành công.[/bold green]\n"
     ]
    }
   ],
   "source": [
    "# ==============================================================================\n",
    "# CELL 1.4: TẢI KHO TRI THỨC (RAG)\n",
    "# ==============================================================================\n",
    "# --- TẢI KHO TRI THỨC ---\n",
    "BASE_VECTOR_STORE_PATH = \"vector_store\"\n",
    "vector_store = None\n",
    "embeddings = HuggingFaceEmbeddings(model_name=\"all-MiniLM-L6-v2\")\n",
    "\n",
    "if os.path.exists(BASE_VECTOR_STORE_PATH):\n",
    "    subdirectories = [f.path for f in os.scandir(BASE_VECTOR_STORE_PATH) if f.is_dir()]\n",
    "    if not subdirectories:\n",
    "        print(f\"❌ LỖI: Không tìm thấy thư mục con nào trong '{BASE_VECTOR_STORE_PATH}'.\")\n",
    "    else:\n",
    "        try:\n",
    "            print_step(f\"Đang tải và hợp nhất các kho tri thức từ {len(subdirectories)} thư mục...\")\n",
    "            # Tải kho tri thức đầu tiên để làm cơ sở\n",
    "            first_store_path = subdirectories.pop(0)\n",
    "            vector_store = FAISS.load_local(first_store_path, embeddings, allow_dangerous_deserialization=True)\n",
    "            print(f\"✅ Đã tải thành công kho tri thức cơ sở: '{os.path.basename(first_store_path)}'\")\n",
    "\n",
    "            # Hợp nhất các kho tri thức còn lại\n",
    "            for store_path in subdirectories:\n",
    "                if os.path.exists(os.path.join(store_path, \"index.faiss\")):\n",
    "                    temp_store = FAISS.load_local(store_path, embeddings, allow_dangerous_deserialization=True)\n",
    "                    vector_store.merge_from(temp_store)\n",
    "                    print(f\"✅ Đã hợp nhất thành công: '{os.path.basename(store_path)}'\")\n",
    "                else:\n",
    "                    print_warning(f\"Bỏ qua thư mục '{os.path.basename(store_path)}' vì không chứa file index.faiss.\")\n",
    "            \n",
    "            print(\"\\n[bold green]✔️ Tất cả các kho tri thức RAG đã được tải và hợp nhất thành công.[/bold green]\")\n",
    "\n",
    "        except Exception as e:\n",
    "            print(f\"❌ LỖI trong quá trình tải hoặc hợp nhất kho tri thức: {e}\")\n",
    "else:\n",
    "    print(f\"❌ LỖI: Không tìm thấy thư mục gốc của kho tri thức tại '{BASE_VECTOR_STORE_PATH}'.\")\n"
   ]
  },
  {
   "cell_type": "code",
   "execution_count": 25,
   "id": "38cfae91",
   "metadata": {},
   "outputs": [
    {
     "name": "stdout",
     "output_type": "stream",
     "text": [
      "✅ 'TeacherStateV5' (v9.0 - Hỗ trợ Phân hóa & Cấu trúc) đã được định nghĩa.\n"
     ]
    }
   ],
   "source": [
    "# ==============================================================================\n",
    "# CELL 2.1: ĐỊNH NGHĨA STATE NÂNG CAO (v9.0)\n",
    "# ==============================================================================\n",
    "from typing import TypedDict, Annotated, List, Dict, Any, Literal, Optional, Union\n",
    "from langchain_core.messages import BaseMessage\n",
    "from langgraph.graph.message import add_messages\n",
    "import operator\n",
    "\n",
    "# --- Hàm tiện ích (giữ nguyên) ---\n",
    "def merge_dicts(dict1: Dict[str, Any], dict2: Dict[str, Any]) -> Dict[str, Any]:\n",
    "    merged = dict1.copy()\n",
    "    for key, value in dict2.items():\n",
    "        if key in merged and isinstance(merged[key], dict) and isinstance(value, dict):\n",
    "            merged[key] = merge_dicts(merged[key], value)\n",
    "        else:\n",
    "            merged[key] = value\n",
    "    return merged\n",
    "\n",
    "# --- Cấu trúc dữ liệu con (giữ nguyên) ---\n",
    "class DetailedTask(TypedDict):\n",
    "    task_id: int\n",
    "    task_name: str\n",
    "    task_description: str\n",
    "    estimated_duration: int \n",
    "    status: Literal[\"pending\", \"completed\"]\n",
    "\n",
    "# === NÂNG CẤP V9.0: CÁC CẤU TRÚC DỮ LIỆU MỚI CHO TƯ DUY SÂU ===\n",
    "class DifferentiatedInstruction(TypedDict):\n",
    "    \"\"\"Gợi ý cho việc dạy học phân hóa trong một hoạt động.\"\"\"\n",
    "    for_struggling_students: str\n",
    "    for_advanced_students: str\n",
    "\n",
    "class StructuredContentItem(TypedDict):\n",
    "    \"\"\"Định nghĩa một hoạt động hoặc đánh giá có cấu trúc.\"\"\"\n",
    "    task_id: int\n",
    "    activity_name: str\n",
    "    question_or_description: str # Gộp 'question' và 'description'\n",
    "    duration_minutes: int\n",
    "    content_type: str # Gộp 'activity_type' và 'question_type'\n",
    "    teacher_actions: List[str]\n",
    "    solution_guide: Any\n",
    "    answer: Optional[str] # Dành cho câu hỏi đánh giá\n",
    "    differentiation: Optional[DifferentiatedInstruction]\n",
    "\n",
    "class FinalStructuredPlan(TypedDict):\n",
    "    \"\"\"Định nghĩa cấu trúc JSON cho giáo án cuối cùng.\"\"\"\n",
    "    general_info: Dict[str, Any]\n",
    "    learning_objectives: List[str]\n",
    "    preparation: Dict[str, List[str]]\n",
    "    knowledge_summary: str\n",
    "    lesson_flow: List[StructuredContentItem]\n",
    "    # pedagogical_explainer: Dict[str, Any] # Dành cho nâng cấp tương lai\n",
    "\n",
    "# === NÂNG CẤP V9.0: STATE MỚI VỚI CÁC TRƯỜNG TRÍ TUỆ MỚI ===\n",
    "class TeacherStateV5(TypedDict):\n",
    "    # Các trường cơ bản\n",
    "    original_request: str\n",
    "    messages: Annotated[List[BaseMessage], add_messages]\n",
    "    domain: Optional[str]\n",
    "    \n",
    "    # === NÂNG CẤP: student_persona giờ sẽ chứa cả chiến lược phân hóa ===\n",
    "    student_persona: Optional[Dict[str, Any]] \n",
    "    \n",
    "    # Các bước tuần tự ban đầu\n",
    "    analyzed_objective: Optional[Any]\n",
    "    pedagogy_strategy: Optional[Any]\n",
    "    pedagogical_blueprint: Optional[List[str]]\n",
    "\n",
    "    # Các trường nâng cao\n",
    "    expanded_queries: Optional[List[str]]\n",
    "    task_list: Optional[List[DetailedTask]]\n",
    "    current_task_id: Optional[int]\n",
    "    reflection_notes: Optional[str]\n",
    "    agent_outputs: Annotated[Dict[str, Any], merge_dicts] \n",
    "    next_agent: str\n",
    "    \n",
    "    # Các trường tạm thời cho vòng lặp kiểm duyệt vi mô (Micro-loop)\n",
    "    current_content_to_validate: Optional[Dict[str, Any]]\n",
    "    validation_feedback: Optional[str]\n",
    "\n",
    "    inspirational_example: Optional[List[Dict[str, Any]]]\n",
    "\n",
    "    # === NÂNG CẤP: Output cuối cùng sẽ có 2 dạng ===\n",
    "    final_structured_plan: Optional[FinalStructuredPlan] # Dạng JSON có cấu trúc\n",
    "    final_markdown_plan: Optional[str] # Dạng Markdown để hiển thị\n",
    "\n",
    "print(\"✅ 'TeacherStateV5' (v9.0 - Hỗ trợ Phân hóa & Cấu trúc) đã được định nghĩa.\")"
   ]
  },
  {
   "cell_type": "code",
   "execution_count": 26,
   "id": "deb1ba5e",
   "metadata": {},
   "outputs": [
    {
     "name": "stdout",
     "output_type": "stream",
     "text": [
      "✅ Node khởi tạo 'initialize_state_node' đã được định nghĩa.\n"
     ]
    }
   ],
   "source": [
    "# ==============================================================================\n",
    "# CELL 2.2: NODE KHỞI TẠO STATE\n",
    "# ==============================================================================\n",
    "def initialize_state_node(state: TeacherStateV5) -> Dict[str, Any]:\n",
    "    \"\"\"\n",
    "    Node đầu tiên trong graph.\n",
    "    Lấy yêu cầu gốc từ tin nhắn đầu vào và điền vào trường 'original_request'.\n",
    "    \"\"\"\n",
    "    print_step(\"`Initializer`: Đang khởi tạo trạng thái và lấy yêu cầu gốc...\")\n",
    "    user_request = state['messages'][-1].content\n",
    "    return {\"original_request\": user_request}\n",
    "\n",
    "print(\"✅ Node khởi tạo 'initialize_state_node' đã được định nghĩa.\")"
   ]
  },
  {
   "cell_type": "markdown",
   "id": "924d794f",
   "metadata": {},
   "source": [
    "## PHẦN 3: ĐỊNH NGHĨA CÁC AGENT"
   ]
  },
  {
   "cell_type": "code",
   "execution_count": 27,
   "id": "8cc95063",
   "metadata": {},
   "outputs": [
    {
     "name": "stdout",
     "output_type": "stream",
     "text": [
      "✅ Các cấu trúc dữ liệu Pydantic (v9.7 - Hoạt động Linh hoạt) đã được định nghĩa.\n"
     ]
    }
   ],
   "source": [
    "# ==============================================================================\n",
    "# CELL 3.1: HÀM TIỆN ÍCH & CẤU TRÚC DỮ LIỆU (v9.7 - TƯ DUY LINH HOẠT)\n",
    "# ==============================================================================\n",
    "import json\n",
    "from pydantic.v1 import BaseModel, Field, schema_json_of\n",
    "from typing import List, Dict, Any, Literal, Optional\n",
    "\n",
    "# --- Các hàm tiện ích giữ nguyên ---\n",
    "def format_solution_guide(guide: Any) -> str:\n",
    "    if not guide: return \"Chưa có hướng dẫn.\"\n",
    "    if isinstance(guide, str): return guide\n",
    "    if isinstance(guide, list): return \"\\n\".join(f\"- {step}\" for step in guide)\n",
    "    if isinstance(guide, dict): return \"\\n\".join(f\"- {key.replace('_', ' ').title()}: {value}\" for key, value in guide.items())\n",
    "    return str(guide)\n",
    "\n",
    "def format_teacher_actions(actions: Optional[List[str]]) -> str:\n",
    "    if not actions: return \"Giáo viên quan sát và hỗ trợ chung.\"\n",
    "    return \"\\n\".join(f\"  - {action}\" for action in actions)\n",
    "\n",
    "def update_agent_outputs(state: \"TeacherStateV5\", key: str, value: Any) -> Dict[str, Any]:\n",
    "    outputs = state.get(\"agent_outputs\", {}).copy()\n",
    "    if key not in outputs: outputs[key] = []\n",
    "    outputs[key].append(value)\n",
    "    return {\"agent_outputs\": outputs}\n",
    "\n",
    "SYSTEM_PERSONA_PROMPT = \"BẠN LÀ MỘT TRỢ LÝ AI CHUYÊN NGHIỆP, ĐÓNG VAI TRÒ MỘT GIÁO VIÊN GIÀU KINH NGHIỆM TẠI VIỆT NAM. LUÔN LUÔN trả lời bằng TIẾNG VIỆT.\"\n",
    "\n",
    "# === CẬP NHẬT CẤU TRÚC HOẠT ĐỘNG LINH HOẠT ===\n",
    "class DifferentiatedInstructionModel(BaseModel):\n",
    "    for_struggling_students: str = Field(description=\"Gợi ý cụ thể cho nhóm học sinh yếu/gặp khó khăn.\")\n",
    "    for_advanced_students: str = Field(description=\"Gợi ý, thử thách hoặc hoạt động nâng cao cho nhóm học sinh giỏi.\")\n",
    "\n",
    "class LearningActivity(BaseModel):\n",
    "    activity_name: str = Field(description=\"Tên của hoạt động học tập.\")\n",
    "    activity_type: str = Field(description=\"Phân loại hoạt động. Ví dụ: 'Thảo luận nhóm', 'Thực hành cá nhân'\")\n",
    "    duration_minutes: int = Field(description=\"Tổng thời gian ước tính (bằng SỐ PHÚT) cho cả hai phần.\")\n",
    "    teacher_actions: List[str] = Field(description=\"Danh sách các hành động CỤ THỂ của GIÁO VIÊN.\")\n",
    "    # Thay 'description' bằng cấu trúc Lõi/Mở rộng\n",
    "    core_component: str = Field(description=\"Mô tả phần hoạt động CỐT LÕI mà TẤT CẢ học sinh cần hoàn thành.\")\n",
    "    extension_component: Optional[str] = Field(description=\"Mô tả phần hoạt động MỞ RỘNG dành cho học sinh làm nhanh hoặc nếu còn dư thời gian.\")\n",
    "    solution_guide: Optional[Any] = Field(description=\"Hướng dẫn giải hoặc các câu hỏi gợi mở.\")\n",
    "    differentiation: Optional[DifferentiatedInstructionModel] = Field(description=\"Gợi ý phân hóa cụ thể cho hoạt động này.\")\n",
    "\n",
    "class AssessmentItem(BaseModel):\n",
    "    activity_name: str = Field(description=\"Tên của hoạt động đánh giá.\")\n",
    "    question_type: str = Field(description=\"Loại câu hỏi. Ví dụ: 'Tự luận', 'Trắc nghiệm'\")\n",
    "    duration_minutes: int = Field(description=\"Tổng thời gian ước tính (bằng SỐ PHÚT) cho cả hai phần.\")\n",
    "    teacher_actions: List[str] = Field(description=\"Danh sách các hành động CỤ THỂ của GIÁO VIÊN.\")\n",
    "    # Thay 'question' bằng cấu trúc Lõi/Mở rộng\n",
    "    core_component: str = Field(description=\"Nội dung câu hỏi hoặc đề bài CỐT LÕI mà TẤT CẢ học sinh cần hoàn thành.\")\n",
    "    extension_component: Optional[str] = Field(description=\"Câu hỏi phụ hoặc thử thách MỞ RỘNG dành cho học sinh làm nhanh hoặc nếu còn dư thời gian.\")\n",
    "    answer: str = Field(description=\"Đáp án chính xác và ngắn gọn cho phần CỐT LÕI.\")\n",
    "    solution_guide: Any = Field(description=\"Hướng dẫn giải chi tiết từng bước.\")\n",
    "    differentiation: Optional[DifferentiatedInstructionModel] = Field(description=\"Gợi ý phân hóa cụ thể cho hoạt động này.\")\n",
    "\n",
    "# --- Các model khác giữ nguyên ---\n",
    "class StudentPersona(BaseModel):\n",
    "    learning_pace: Literal[\"nhanh\", \"trung bình\", \"chậm\"] = Field(description=\"Tốc độ học tập chung của lớp.\")\n",
    "    engagement_style: Literal[\"chủ động\", \"thụ động\", \"hỗn hợp\"] = Field(description=\"Mức độ tham gia chung của lớp.\")\n",
    "    special_notes: str = Field(description=\"Tóm tắt các đặc điểm nổi bật của lớp học.\")\n",
    "\n",
    "class StudentPersonaAndDifferentiation(StudentPersona):\n",
    "    differentiation_strategy: DifferentiatedInstructionModel = Field(description=\"Chiến lược dạy học phân hóa tổng thể cho cả bài học dựa trên các đặc điểm của lớp.\")\n",
    "\n",
    "class DetailedTaskModel(BaseModel):\n",
    "    task_name: str = Field(description=\"Tên của nhiệm vụ này.\")\n",
    "    task_description: str = Field(description=\"Mô tả chi tiết nhiệm vụ cần thực hiện.\")\n",
    "    estimated_duration: int = Field(description=\"Thời gian ước tính (bằng phút) cho nhiệm vụ này.\")\n",
    "\n",
    "class TaskListWithDuration(BaseModel):\n",
    "    tasks: List[DetailedTaskModel]\n",
    "\n",
    "class DetailedPedagogyChoice(BaseModel):\n",
    "    name: str = Field(description=\"Tên của phương pháp sư phạm được chọn.\")\n",
    "    rationale: str = Field(description=\"Lý do tại sao phương pháp này phù hợp.\")\n",
    "    key_actions: List[str] = Field(description=\"Danh sách các hành động/hoạt động cốt lõi đặc trưng cho phương pháp này.\")\n",
    "\n",
    "class ValidationResult(BaseModel):\n",
    "    is_valid: bool = Field(description=\"Nội dung có hợp lệ và chính xác về mặt chuyên môn không.\")\n",
    "    feedback: str = Field(description=\"Phản hồi chi tiết. Nếu không hợp lệ, hãy giải thích rõ ràng lỗi sai và gợi ý cách sửa.\")\n",
    "    suggested_duration: Optional[int] = Field(default=None, description=\"Nếu có lỗi về thời gian, hãy đề xuất một thời lượng hợp lý hơn (tính bằng SỐ PHÚT).\")\n",
    "\n",
    "class Domain(BaseModel): domain: str = Field(description=\"Lĩnh vực học thuật chính của yêu cầu.\")\n",
    "class ExpandedQueries(BaseModel): queries: List[str]\n",
    "class BestSnippets(BaseModel): best_snippets: List[str]\n",
    "class ParsedObjective(BaseModel): action_verb: str; bloom_level: int; topic: str; grade_level: str; duration_minutes: Optional[int]\n",
    "class TaskClassification(BaseModel): agent_category: Literal[\"activity_designer\", \"theory_synthesizer\", \"assessment_creator\"]\n",
    "class BlueprintStage(BaseModel): stage_name: str; stage_objective: str; stage_direction: str\n",
    "class PedagogicalBlueprint(BaseModel): blueprint: List[BlueprintStage]\n",
    "\n",
    "print(\"✅ Các cấu trúc dữ liệu Pydantic (v9.7 - Hoạt động Linh hoạt) đã được định nghĩa.\")"
   ]
  },
  {
   "cell_type": "code",
   "execution_count": 28,
   "id": "be758847",
   "metadata": {},
   "outputs": [
    {
     "name": "stdout",
     "output_type": "stream",
     "text": [
      "✅ Các agent phân tích yêu cầu ban đầu (v9.0 - Hỗ trợ Phân hóa) đã sẵn sàng.\n"
     ]
    }
   ],
   "source": [
    "# ==============================================================================\n",
    "# CELL 3.2: AGENT PHÂN TÍCH YÊU CẦU BAN ĐẦU (NÂNG CẤP V9.0)\n",
    "# ==============================================================================\n",
    "async def objective_interpreter_agent(state: \"TeacherStateV5\") -> Dict[str, Any]:\n",
    "    print_step(\"`Agent: Objective Interpreter` (v7.5) đang phân tích mục tiêu...\")\n",
    "    prompt = f\"{SYSTEM_PERSONA_PROMPT}\\n**NHIỆM VỤ:** Đọc yêu cầu của người dùng và trích xuất các thông tin sau.\\n**YÊU CẦU:** \\\"{state['original_request']}\\\"\\n**CÁC TRƯỜNG CẦN TRÍCH XUẤT:** `action_verb`, `bloom_level` (SỐ NGUYÊN), `topic`, `grade_level`, `duration_minutes`.\\n**CHỈ TRẢ VỀ JSON.**\"\n",
    "    structured_llm = llm.with_structured_output(ParsedObjective, method=\"json_mode\")\n",
    "    try:\n",
    "        parsed_result = await structured_llm.ainvoke(prompt)\n",
    "        analyzed_objective_dict = parsed_result.dict()\n",
    "        analyzed_objective_dict['constraints'] = {'duration_minutes': parsed_result.duration_minutes}\n",
    "        del analyzed_objective_dict['duration_minutes']\n",
    "        print_result(analyzed_objective_dict, \"Mục tiêu & Ràng buộc đã phân tích\")\n",
    "        return {\"analyzed_objective\": analyzed_objective_dict}\n",
    "    except Exception as e:\n",
    "        print_warning(f\"Lỗi tại Objective Interpreter: {e}. Sử dụng mục tiêu mặc định.\")\n",
    "        return {\"analyzed_objective\": { \"action_verb\": \"soạn\", \"bloom_level\": 3, \"topic\": state['original_request'], \"grade_level\": \"9\", \"constraints\": {\"duration_minutes\": 90} }}\n",
    "\n",
    "async def domain_classifier_agent(state: \"TeacherStateV5\") -> Dict[str, Any]:\n",
    "    print_step(\"`Agent: Domain Classifier` (v7.5) đang xác định lĩnh vực chuyên môn...\")\n",
    "    prompt = f\"{SYSTEM_PERSONA_PROMPT}\\n**NHIỆM VỤ:** Đọc yêu cầu của người dùng và xác định lĩnh vực học thuật chính.\\n**YÊU CẦU:** \\\"{state['original_request']}\\\"\\n**LĨNH VỰC CÓ THỂ CHỌN:** 'Toán học', 'Vật lý', 'Hóa học', 'Sinh học', 'Văn học', 'Lịch sử', 'Địa lý', 'Ngoại ngữ', 'Tin học'.\\n**YÊU CẦU ĐỊNH DẠNG:** Trả về JSON với key `domain`.\"\n",
    "    structured_llm = llm.with_structured_output(Domain, method=\"json_mode\")\n",
    "    try:\n",
    "        result = await structured_llm.ainvoke(prompt)\n",
    "        print_result(result.domain, \"Lĩnh vực chuyên môn được xác định\")\n",
    "        return {\"domain\": result.domain}\n",
    "    except Exception as e:\n",
    "        print_warning(f\"Lỗi tại Domain Classifier: {e}. Sử dụng lĩnh vực mặc định 'Toán học'.\")\n",
    "        return {\"domain\": \"Toán học\"}\n",
    "\n",
    "# === NÂNG CẤP: Agent này giờ đây là một nhà tư vấn chiến lược ===\n",
    "# === SỬA LỖI PARSING: Prompt được làm rõ ràng hơn về cấu trúc lồng nhau ===\n",
    "async def differentiated_instruction_advisor_agent(state: \"TeacherStateV5\") -> Dict[str, Any]:\n",
    "    print_step(\"`Agent: Differentiated Instruction Advisor` (v9.1) đang phân tích và đề xuất chiến lược phân hóa...\")\n",
    "    prompt = f\"\"\"{SYSTEM_PERSONA_PROMPT}\n",
    "    **VAI TRÒ:** Bạn là một chuyên gia sư phạm, chuyên về dạy học phân hóa.\n",
    "    **NHIỆM VỤ:** Phân tích mô tả về lớp học dưới đây và đề xuất một chiến lược dạy học phân hóa TỔNG THỂ cho cả buổi học.\n",
    "    **YÊU CẦU CỦA GIÁO VIÊN:** \"{state['original_request']}\"\n",
    "    \n",
    "    **CÁC BƯỚC SUY LUẬN (BẮT BUỘC):**\n",
    "    1.  **Phân tích Đặc điểm:** Dựa vào các từ khóa, hãy xác định `learning_pace`, `engagement_style`, và tóm tắt vào `special_notes`.\n",
    "    2.  **Đề xuất Chiến lược Phân hóa:** Dựa trên phân tích trên, hãy điền vào đối tượng `differentiation_strategy`. Đây PHẢI là một đối tượng JSON có 2 trường sau:\n",
    "        -   `for_struggling_students`: Một chiến lược cụ thể để **hỗ trợ** nhóm học sinh có thể gặp khó khăn. (Ví dụ: \"Chia nhỏ nhiệm vụ, cung cấp phiếu bài tập có gợi ý công thức, cho phép thêm thời gian.\")\n",
    "        -   `for_advanced_students`: Một chiến lược cụ thể để **thử thách** nhóm học sinh khá giỏi. (Ví dụ: \"Chuẩn bị các câu hỏi mở rộng 'Tại sao?' và 'Nếu... thì sao?', giao một bài toán ứng dụng thực tế nhỏ.\")\n",
    "\n",
    "    **YÊU CẦU ĐỊNH DẠNG:** BẮT BUỘC trả về một đối tượng JSON duy nhất tuân thủ schema `StudentPersonaAndDifferentiation`. Trường `differentiation_strategy` PHẢI là một object lồng vào bên trong.\n",
    "    \"\"\"\n",
    "    structured_llm = llm.with_structured_output(StudentPersonaAndDifferentiation, method=\"json_mode\")\n",
    "    try:\n",
    "        result = await structured_llm.ainvoke(prompt)\n",
    "        print_result(result.dict(), \"Hồ sơ lớp học và Chiến lược Phân hóa\")\n",
    "        return {\"student_persona\": result.dict()}\n",
    "    except Exception as e:\n",
    "        print_warning(f\"Lỗi tại Differentiated Instruction Advisor: {e}. Sử dụng hồ sơ mặc định.\")\n",
    "        fallback_persona = {\n",
    "            \"learning_pace\": \"trung bình\",\n",
    "            \"engagement_style\": \"hỗn hợp\",\n",
    "            \"special_notes\": \"Không có ghi chú đặc biệt.\",\n",
    "            \"differentiation_strategy\": {\n",
    "                \"for_struggling_students\": \"Quan sát và hỗ trợ thêm khi cần thiết.\",\n",
    "                \"for_advanced_students\": \"Khuyến khích các em tìm tòi thêm.\"\n",
    "            }\n",
    "        }\n",
    "        return {\"student_persona\": fallback_persona}\n",
    "\n",
    "print(\"✅ Các agent phân tích yêu cầu ban đầu (v9.0 - Hỗ trợ Phân hóa) đã sẵn sàng.\")"
   ]
  },
  {
   "cell_type": "code",
   "execution_count": 29,
   "id": "68b5bcd8",
   "metadata": {},
   "outputs": [
    {
     "name": "stdout",
     "output_type": "stream",
     "text": [
      "✅ Các agent lập kế hoạch chiến lược đã sẵn sàng.\n"
     ]
    }
   ],
   "source": [
    "# ==============================================================================\n",
    "# CELL 3.3: AGENT LẬP KẾ HOẠCH CHIẾN LƯỢC (v7.5)\n",
    "# ==============================================================================\n",
    "async def pedagogy_strategist_agent(state: \"TeacherStateV5\") -> Dict[str, Any]:\n",
    "    print_step(\"`Agent: Pedagogy Strategist` (v7.5) đang xây dựng chiến lược sư phạm chi tiết...\")\n",
    "    prompt = f\"\"\"{SYSTEM_PERSONA_PROMPT}\n",
    "    **MỤC TIÊU BÀI HỌC:** {state.get('analyzed_objective')}\n",
    "    **HỒ SƠ LỚP HỌC:** {state.get('student_persona')}\n",
    "    **NHIỆM VỤ:** Dựa vào mục tiêu và hồ sơ lớp học, hãy chọn MỘT phương pháp sư phạm phù hợp nhất. Sau đó, phân tích phương pháp đó thành các hành động cốt lõi.\n",
    "    **VÍ DỤ:** Nếu chọn 'Dạy học theo dự án', key_actions có thể là [\"Giao dự án\", \"Học sinh làm việc nhóm\", \"Báo cáo sản phẩm\"].\n",
    "    **YÊU CẦU ĐỊNH DẠNG:** Trả về JSON với các key `name`, `rationale`, `key_actions`.\n",
    "    \"\"\"\n",
    "    structured_llm = llm.with_structured_output(DetailedPedagogyChoice, method=\"json_mode\")\n",
    "    try:\n",
    "        result = await structured_llm.ainvoke(prompt)\n",
    "        print_result(result.dict(), \"Chiến lược sư phạm chi tiết\")\n",
    "        return {\"pedagogy_strategy\": result.dict()}\n",
    "    except Exception as e:\n",
    "        print_warning(f\"Lỗi tại Pedagogy Strategist: {e}. Sử dụng chiến lược mặc định.\")\n",
    "        return {\"pedagogy_strategy\": {\"name\": \"Dạy học giải quyết vấn đề\", \"rationale\": \"Mặc định do lỗi.\", \"key_actions\": [\"Nêu vấn đề\", \"Học sinh tìm giải pháp\", \"Trình bày kết quả\"]}}\n",
    "\n",
    "async def pedagogical_architect_agent(state: \"TeacherStateV5\") -> Dict[str, Any]:\n",
    "    print_step(\"`Agent: Pedagogical Architect` (v9.4) đang thiết kế kịch bản buổi học...\")\n",
    "    \n",
    "    inspirational_example = state.get(\"inspirational_example\")\n",
    "    example_prompt_part = \"\"\n",
    "    if inspirational_example:\n",
    "        example_prompt_part = f\"\"\"\n",
    "        **VÍ DỤ THAM KHẢO (TỪ MỘT GIÁO ÁN THÀNH CÔNG TRƯỚC ĐÂY):**\n",
    "        Đây là một luồng hoạt động đã được chứng minh là hiệu quả cho một chủ đề tương tự. Hãy học hỏi cấu trúc và cách tiếp cận từ nó:\n",
    "        ```json\n",
    "        {json.dumps(inspirational_example, ensure_ascii=False, indent=2)}\n",
    "        ```\n",
    "        \"\"\"\n",
    "    \n",
    "    prompt = f\"\"\"{SYSTEM_PERSONA_PROMPT} Với vai trò là một chuyên gia thiết kế trải nghiệm học tập.\n",
    "    **NHIỆM VỤ:** Xây dựng một \"Bản thiết kế Sư phạm\" - một kịch bản CẤP CAO cho buổi học.\n",
    "    \n",
    "    {example_prompt_part}\n",
    "    **QUY TẮC:**\n",
    "    1.  Tạo ra 3-5 giai đoạn chính cho dòng chảy của buổi học.\n",
    "    2.  Mỗi giai đoạn phải có tên (`stage_name`), mục tiêu (`stage_objective`), và định hướng (`stage_direction`).\n",
    "    3.  Đảm bảo độ khó tăng tiến qua các giai đoạn.\n",
    "    **THÔNG TIN PHÂN TÍCH:**\n",
    "    - Mục tiêu: {state.get('analyzed_objective')}\n",
    "    - Hồ sơ lớp học: {state.get('student_persona')}\n",
    "    - Chiến lược Sư phạm: {state.get('pedagogy_strategy')}\n",
    "    **YÊU CẦU ĐỊNH DẠNG:** Trả về JSON với key là `blueprint`, giá trị là một danh sách các đối tượng Stage.\n",
    "    \"\"\"\n",
    "    structured_llm = llm.with_structured_output(PedagogicalBlueprint, method=\"json_mode\")\n",
    "    try:\n",
    "        result = await structured_llm.ainvoke(prompt)\n",
    "        blueprint_list_of_strings = [f\"{stage.stage_name}: {stage.stage_direction}\" for stage in result.blueprint]\n",
    "        print_result(blueprint_list_of_strings, \"Bản thiết kế Sư phạm đã được tạo\")\n",
    "        return {\"pedagogical_blueprint\": blueprint_list_of_strings}\n",
    "    except Exception as e:\n",
    "        print_warning(f\"Lỗi tại Pedagogical Architect: {e}. Sử dụng blueprint mặc định.\")\n",
    "        return {\"pedagogical_blueprint\": [\"Giai đoạn 1: Giới thiệu bài học\", \"Giai đoạn 2: Luyện tập\", \"Giai đoạn 3: Đánh giá\"]}\n",
    "\n",
    "async def memory_retrieval_agent(state: \"TeacherStateV5\") -> Dict[str, Any]:\n",
    "    print_step(\"`Agent: Memory Retrieval` (v9.4) đang tìm kiếm trong trí nhớ...\")\n",
    "    \n",
    "    if not memory_vector_store:\n",
    "        print_warning(\"Không có Trí nhớ Dài hạn. Bỏ qua bước này.\")\n",
    "        return {\"inspirational_example\": None}\n",
    "\n",
    "    user_request = state[\"original_request\"]\n",
    "    \n",
    "    # Tìm kiếm 1 ví dụ tương đồng nhất trong trí nhớ\n",
    "    try:\n",
    "        results = memory_vector_store.similarity_search_with_score(user_request, k=1)\n",
    "        if results and results[0][1] < 0.5: # Chỉ lấy nếu độ tương đồng cao (điểm score thấp là tốt)\n",
    "            best_example = results[0][0].metadata\n",
    "            print_result(best_example['request'], \"Tìm thấy ví dụ tương đồng trong trí nhớ\")\n",
    "            # Chỉ trả về phần \"lesson_flow\" để làm ví dụ\n",
    "            return {\"inspirational_example\": best_example['plan']['lesson_flow']}\n",
    "        else:\n",
    "            print_step(\"Không tìm thấy ví dụ nào đủ tương đồng trong trí nhớ.\")\n",
    "            return {\"inspirational_example\": None}\n",
    "    except Exception as e:\n",
    "        print_warning(f\"Lỗi khi truy xuất trí nhớ: {e}\")\n",
    "        return {\"inspirational_example\": None}\n",
    "    \n",
    "print(\"✅ Các agent lập kế hoạch chiến lược đã sẵn sàng.\")"
   ]
  },
  {
   "cell_type": "code",
   "execution_count": 30,
   "id": "220113cd",
   "metadata": {},
   "outputs": [
    {
     "name": "stdout",
     "output_type": "stream",
     "text": [
      "✅ Các agent RAG đã sẵn sàng.\n"
     ]
    }
   ],
   "source": [
    "# ==============================================================================\n",
    "# CELL 3.4: AGENT TRUY XUẤT VÀ TỔNG HỢP KIẾN THỨC (RAG) (v7.5)\n",
    "# ==============================================================================\n",
    "async def query_expansion_agent(state: \"TeacherStateV5\") -> Dict[str, Any]:\n",
    "    print_step(\"`Agent: Query Expansion` (v7.5) đang phân tích yêu cầu...\")\n",
    "    prompt = f\"{SYSTEM_PERSONA_PROMPT}\\n**NHIỆM VỤ:** Tạo ra các cụm từ tìm kiếm đa dạng bằng tiếng Việt để tìm tài liệu.\\n**CHỦ ĐỀ:** \\\"{state.get('analyzed_objective', {}).get('topic', '')}\\\"\\n**LĨNH VỰC:** {state.get('domain', 'Chung')}\\n**YÊU CẦU ĐỊNH DẠNG:** Trả về JSON với key `queries`.\"\n",
    "    structured_llm = llm.with_structured_output(ExpandedQueries, method=\"json_mode\")\n",
    "    try:\n",
    "        response = await structured_llm.ainvoke(prompt)\n",
    "        print_result(response.queries, \"Các truy vấn tìm kiếm đã được mở rộng\")\n",
    "        return {\"expanded_queries\": response.queries}\n",
    "    except Exception as e:\n",
    "        print_warning(f\"Lỗi tại Query Expansion: {e}. Sử dụng truy vấn gốc.\")\n",
    "        return {\"expanded_queries\": [state.get('analyzed_objective', {}).get('topic', '')]}\n",
    "\n",
    "async def resource_scout_agent_v2(state: \"TeacherStateV5\") -> Dict[str, Any]:\n",
    "    print_step(\"`Agent: Resource Scout` (v8.1 - Sửa lỗi) đang tìm kiếm và sàng lọc...\")\n",
    "    retriever = vector_store.as_retriever(search_kwargs={\"k\": 5})\n",
    "    all_docs = []\n",
    "    queries = state.get('expanded_queries', [state.get('analyzed_objective', {}).get('topic', '')])\n",
    "    for query in queries:\n",
    "        all_docs.extend(retriever.invoke(query))\n",
    "    unique_docs_content = list({doc.page_content for doc in all_docs})[:8]\n",
    "    print_step(f\"Tìm thấy {len(all_docs)} tài liệu, sàng lọc còn {len(unique_docs_content)} đoạn văn bản độc nhất.\")\n",
    "    \n",
    "    # --- Phần Re-ranker giữ nguyên ---\n",
    "    rerank_prompt = f\"{SYSTEM_PERSONA_PROMPT}\\n**NHIỆM VỤ:** Đọc yêu cầu gốc và chọn ra 3-4 đoạn văn bản tiếng Việt phù hợp NHẤT từ danh sách dưới đây.\\n**YÊU CẦU GỐC:** \\\"{state.get('original_request', '')}\\\"\\n**DANH SÁCH TÀI LIỆU:** {json.dumps(unique_docs_content, ensure_ascii=False)}\\n**YÊU CẦU ĐỊNH DẠNG:** Trả về JSON với key `best_snippets`.\"\n",
    "    structured_llm_reranker = llm.with_structured_output(BestSnippets, method=\"json_mode\")\n",
    "    best_snippets_text = \"\\n\\n---\\n\\n\".join(unique_docs_content)\n",
    "    try:\n",
    "        reranked_result = await structured_llm_reranker.ainvoke(rerank_prompt)\n",
    "        best_snippets_text = \"\\n\\n---\\n\\n\".join(reranked_result.best_snippets)\n",
    "    except Exception as e:\n",
    "        print_warning(f\"Lỗi tại Re-ranker: {e}. Sử dụng tất cả tài liệu.\")\n",
    "\n",
    "    # === ĐẠI TU PROMPT TÓM TẮT ===\n",
    "    summary_prompt = f\"\"\"{SYSTEM_PERSONA_PROMPT}\n",
    "    **VAI TRÒ:** Bạn là một chuyên gia tổng hợp thông tin.\n",
    "    **NHIỆM VỤ DUY NHẤT:** Dựa **CHỈ** vào các đoạn văn bản dưới đây, hãy viết một bản **TÓM TẮT KIẾN THỨC CỐT LÕI** về chủ đề \"{state.get('analyzed_objective', {}).get('topic', '')}\".\n",
    "\n",
    "    **QUY TẮC TUYỆT ĐỐI:**\n",
    "    1.  **CHỈ DÙNG THÔNG TIN ĐƯỢC CUNG CẤP:** Tuyệt đối không được bình luận về chất lượng của các đoạn văn bản. Không được \"từ chối\" tóm tắt.\n",
    "    2.  **TỔNG HỢP & SUY LUẬN:** Nhiệm vụ của bạn là đọc tất cả các mẩu thông tin (kể cả từ các bài tập) và suy luận ra các định nghĩa, tính chất cốt lõi nhất.\n",
    "    3.  **CẤU TRÚC RÕ RÀNG:** Trình bày bản tóm tắt một cách mạch lạc, có đầu mục rõ ràng (ví dụ: 1. Định nghĩa, 2. Tính chất...).\n",
    "    4.  **TRẢ VỀ TÓM TẮT:** Luôn luôn trả về một bản tóm tắt, ngay cả khi nó ngắn gọn do thông tin hạn chế.\n",
    "\n",
    "    **CÁC ĐOẠN VĂN BẢN ĐỂ TÓM TẮT:**\n",
    "    {best_snippets_text}\n",
    "    \"\"\"\n",
    "    summary = \"Chưa có bản tóm tắt kiến thức.\"\n",
    "    try:\n",
    "        summary_response = await llm.ainvoke(summary_prompt)\n",
    "        summary = summary_response.content\n",
    "    except Exception as e:\n",
    "        print_warning(f\"Lỗi tại bước tóm tắt: {e}.\")\n",
    "        \n",
    "    resource = {\"source\": \"Sách giáo khoa (từ RAG - đã sàng lọc)\", \"summary\": summary}\n",
    "    print_result(resource, \"Tài liệu RAG cuối cùng\")\n",
    "    return update_agent_outputs(state, \"resources\", resource)\n",
    "\n",
    "print(\"✅ Các agent RAG đã sẵn sàng.\")"
   ]
  },
  {
   "cell_type": "code",
   "execution_count": 31,
   "id": "6eac918a",
   "metadata": {},
   "outputs": [
    {
     "name": "stdout",
     "output_type": "stream",
     "text": [
      "✅ Các agent giao việc và chuyên môn (v10.0 - Kỷ luật Thép) đã sẵn sàng.\n"
     ]
    }
   ],
   "source": [
    "# ==============================================================================\n",
    "# CELL 3.5: AGENT GIAO VIỆC & CHUYÊN MÔN (v10.0 - KỶ LUẬT THÉP)\n",
    "# ==============================================================================\n",
    "\n",
    "# === NÂNG CẤP LỚN: Plan Delegator với \"Kinh nghiệm Sư phạm\" ===\n",
    "async def plan_delegator_agent(state: \"TeacherStateV5\") -> Dict[str, Any]:\n",
    "    print_step(\"`Agent: Plan Delegator` (v10.0 - Nhà hoạch định Thông thái) đang triển khai...\")\n",
    "    \n",
    "    blueprint = state.get('pedagogical_blueprint', [])\n",
    "    total_duration = state.get('analyzed_objective', {}).get('constraints', {}).get('duration_minutes', 90)\n",
    "\n",
    "    # Bắt đầu lại với agent_outputs sạch sẽ mỗi khi lập kế hoạch lại\n",
    "    agent_outputs_history = state.get(\"agent_outputs\", {})\n",
    "    new_agent_outputs = {\"resources\": agent_outputs_history.get(\"resources\", [])}\n",
    "        \n",
    "    prompt = f\"\"\"{SYSTEM_PERSONA_PROMPT}\n",
    "    **VAI TRÒ:** Bạn là một Nhà Hoạch định Sư phạm giàu kinh nghiệm.\n",
    "    **NHIỆM VỤ:** Chuyển đổi \"Bản thiết kế Sư phạm\" thành một danh sách các nhiệm vụ cụ thể, với sự phân bổ thời gian THỰC TẾ và KHẢ THI.\n",
    "\n",
    "    **BẢN THIẾT KẾ SƯ PHẠM:**\n",
    "    {json.dumps(blueprint, ensure_ascii=False, indent=2)}\n",
    "\n",
    "    **BẢNG TRA CỨU KINH NGHIỆM SƯ PHẠM (THAM KHẢO BẮT BUỘC):**\n",
    "    - Khởi động/Khám phá: ~10-15 phút.\n",
    "    - Xây dựng kiến thức (mỗi khái niệm lớn): ~15-20 phút.\n",
    "    - Thực hành/Hoạt động nhóm: ~20-30 phút.\n",
    "    - Luyện tập/Củng cố: ~15-20 phút.\n",
    "    - Tổng kết/Đánh giá/Giao bài tập: ~5-10 phút.\n",
    "\n",
    "    **QUY TẮC TUYỆT ĐỐI:**\n",
    "    1.  **PHÂN BỔ THỰC TẾ:** Dựa vào Bảng tra cứu kinh nghiệm, hãy phân bổ thời gian cho từng nhiệm vụ một cách hợp lý.\n",
    "    2.  **TUÂN THỦ TỔNG THỜI GIAN:** Tổng thời lượng của tất cả các nhiệm vụ cộng lại PHẢI bằng chính xác **{total_duration} phút**.\n",
    "    \n",
    "    **YÊU CẦU ĐỊNH DẠNG:** Trả về JSON tuân thủ schema `TaskListWithDuration`.\n",
    "    \"\"\"\n",
    "    \n",
    "    structured_llm = llm.with_structured_output(TaskListWithDuration, method=\"json_mode\")\n",
    "    \n",
    "    try:\n",
    "        task_list_result = await structured_llm.ainvoke(prompt)\n",
    "        tasks_with_status = [{\"task_id\": i, **t.dict(), \"status\": \"pending\"} for i, t in enumerate(task_list_result.tasks) if t]\n",
    "        \n",
    "        print_result(tasks_with_status, f\"Đã tạo {len(tasks_with_status)} nhiệm vụ chi tiết\")\n",
    "        \n",
    "        return {\"task_list\": tasks_with_status, \"reflection_notes\": None, \"agent_outputs\": new_agent_outputs}\n",
    "    \n",
    "    except Exception as e:\n",
    "        print_warning(f\"Lỗi tại Plan Delegator: {e}. Tạo task mặc định.\")\n",
    "        fallback_task = { \"task_id\": 0, \"task_name\": \"Hoạt động luyện tập\", \"task_description\": \"Học sinh thực hành bài tập.\", \"estimated_duration\": 45, \"status\": \"pending\" }\n",
    "        return {\"task_list\": [fallback_task], \"reflection_notes\": None, \"agent_outputs\": state.get(\"agent_outputs\", {})}\n",
    "\n",
    "\n",
    "# === NÂNG CẤP LỚN: Critic trở thành \"Người bảo vệ Kế hoạch\" ===\n",
    "async def content_validator_agent(state: \"TeacherStateV5\") -> Dict[str, Any]:\n",
    "    print_step(f\"`Agent: Guardian Critic` (v10.0) đang bảo vệ kế hoạch...\")\n",
    "    content = state.get('current_content_to_validate')\n",
    "    task_list = state.get('task_list', [])\n",
    "    current_task = next((t for t in task_list if t['task_id'] == state.get('current_task_id')), None)\n",
    "    \n",
    "    if not content or content.get(\"error\"):\n",
    "        return {\"validation_feedback\": \"Lỗi tạo nội dung, không thể phản biện.\"}\n",
    "\n",
    "    estimated_duration = current_task.get('estimated_duration', 'N/A')\n",
    "\n",
    "    prompt = f\"\"\"{SYSTEM_PERSONA_PROMPT}\n",
    "    **VAI TRÒ:** Bạn là một Người Bảo vệ Kế hoạch, nhiệm vụ của bạn là đảm bảo các hoạt động được tạo ra phải TUÂN THỦ KẾ HOẠCH GỐC.\n",
    "    **KẾ HOẠCH GỐC ĐÃ BAN HÀNH:**\n",
    "    - Nhiệm vụ: \"{current_task.get('task_name', 'N/A')}\"\n",
    "    - Thời gian cho phép: **{estimated_duration} phút.**\n",
    "\n",
    "    **NỘI DUNG CẦN THẨM ĐỊNH:**\n",
    "    ```json\n",
    "    {json.dumps(content, ensure_ascii=False, indent=2)}\n",
    "    ```\n",
    "    **CÁC BƯỚC SUY LUẬN:**\n",
    "    1.  **Kiểm tra Chất lượng:** Nội dung có chính xác chuyên môn và phù hợp sư phạm không? Nếu có lỗi, `is_valid: false`.\n",
    "    2.  **Kiểm tra Tuân thủ Thời gian (QUAN TRỌNG NHẤT):** Dựa vào mô tả các bước trong nội dung, hãy ước tính xem hoạt động này có thực sự có thể hoàn thành trong **{estimated_duration} phút** hay không.\n",
    "        - Nếu có thể hoàn thành, `is_valid: true`.\n",
    "        - Nếu nội dung quá chi tiết, nhiều bước, và rõ ràng sẽ mất nhiều thời gian hơn so với kế hoạch, `is_valid: false`.\n",
    "\n",
    "    **YÊU CẦU ĐỊNH DẠNG:**\n",
    "    - Nếu hợp lệ và tuân thủ kế hoạch: `is_valid: true`, `feedback: \"Nội dung hợp lệ.\"`.\n",
    "    - Nếu không hợp lệ (lỗi chất lượng hoặc thời gian): `is_valid: false`, `feedback` phải giải thích rõ tại sao nội dung không tuân thủ kế hoạch và đưa ra mệnh lệnh: **\"Hãy thiết kế lại một phiên bản hoạt động đơn giản hơn, ít bước hơn để khớp với thời gian {estimated_duration} phút đã cho.\"** TUYỆT ĐỐI KHÔNG đề xuất tăng thời gian (`suggested_duration` phải là null).\n",
    "    \"\"\"\n",
    "    # Sử dụng ValidationResult nhưng sẽ bỏ qua suggested_duration\n",
    "    structured_llm = llm.with_structured_output(ValidationResult, method=\"json_mode\")\n",
    "    try:\n",
    "        result = await structured_llm.ainvoke(prompt)\n",
    "        if result.is_valid:\n",
    "            print_step(\"✔️ GUARDIAN: Nội dung tuân thủ kế hoạch!\")\n",
    "            return {\"validation_feedback\": None}\n",
    "        else:\n",
    "            # Loại bỏ suggested_duration nếu có\n",
    "            clean_feedback = result.feedback.split(\"|\")[0].strip()\n",
    "            print_warning(f\"GUARDIAN PHẢN BIỆN: {clean_feedback}\")\n",
    "            return {\"validation_feedback\": clean_feedback}\n",
    "    except Exception as e:\n",
    "        print_warning(f\"Lỗi tại Guardian Critic: {e}. Mặc định cho qua.\")\n",
    "        return {\"validation_feedback\": None}\n",
    "\n",
    "# === NÂNG CẤP LỚN: Specialist Agent với \"Tư duy Kỷ luật\" ===\n",
    "async def specialist_agent_logic(state: \"TeacherStateV5\", agent_type: str, pydantic_model: type[BaseModel]) -> Dict[str, Any]:\n",
    "    print_step(f\"`Agent: {agent_type}` (v10.0) đang tạo nội dung theo kỷ luật...\")\n",
    "    task_to_run = next((t for t in state.get('task_list', []) if t['task_id'] == state.get('current_task_id')), None)\n",
    "    if not task_to_run: return {\"current_content_to_validate\": {\"error\": \"Không tìm thấy task hiện tại.\"}}\n",
    "\n",
    "    feedback_prompt = \"\"\n",
    "    if state.get('validation_feedback'):\n",
    "        feedback_prompt = f\"\"\"\n",
    "        **MỆNH LỆNH TỪ NGƯỜI BẢO VỆ (BẮT BUỘC SỬA):**\n",
    "        \"{state.get('validation_feedback', '')}\"\n",
    "        Điều này có nghĩa là phiên bản trước của bạn quá phức tạp. Hãy tạo một phiên bản **đơn giản hơn, ít bước hơn, hoặc ít câu hỏi hơn** để đảm bảo nó có thể hoàn thành trong thời gian cho phép.\n",
    "        \"\"\"\n",
    "    \n",
    "    prompt = f\"\"\"{SYSTEM_PERSONA_PROMPT}\n",
    "    **VAI TRÒ:** Bạn là một nhà thiết kế hoạt động học tập sáng tạo, tuân thủ nghiêm ngặt kế hoạch được giao.\n",
    "    \n",
    "    **KẾ HOẠCH ĐÃ BAN HÀNH:**\n",
    "    - Tên nhiệm vụ: \"{task_to_run.get('task_name', '')}\"\n",
    "    - **THỜI GIAN TỐI ĐA (MỆNH LỆNH TUYỆT ĐỐI):** {task_to_run.get('estimated_duration', 10)} phút.\n",
    "\n",
    "    {feedback_prompt}\n",
    "    \n",
    "    **QUY TẮC SỐ 1 - KỶ LUẬT THỜI GIAN:**\n",
    "    Nhiệm vụ của bạn là **co giãn nội dung cho vừa với thời gian, không phải co giãn thời gian cho vừa với nội dung**. Hãy thiết kế hoạt động tốt nhất có thể trong giới hạn thời gian đã cho. Nếu cần, hãy giảm bớt số lượng bài tập, rút ngắn các bước, hoặc đơn giản hóa yêu cầu. **TUYỆT ĐỐI KHÔNG** tạo ra một hoạt động mà bạn biết sẽ mất nhiều thời gian hơn quy định.\n",
    "    \n",
    "    **CÁC QUY TẮC KHÁC:**\n",
    "    - **CẤU TRÚC LÕI/MỞ RỘNG:** Phân chia hoạt động thành phần cốt lõi (phải hoàn thành) và phần mở rộng (nếu còn thời gian).\n",
    "    - **TUÂN THỦ SCHEMA:** Trả về JSON theo đúng cấu trúc.\n",
    "    \n",
    "    ```json\n",
    "    {schema_json_of(pydantic_model, indent=2)}\n",
    "    ```\n",
    "    \"\"\"\n",
    "    structured_llm = llm.with_structured_output(pydantic_model, method=\"json_mode\")\n",
    "    try:\n",
    "        result = await structured_llm.ainvoke(prompt)\n",
    "        content_dict = result.dict()\n",
    "        # Gán lại thời gian từ task list để đảm bảo nhất quán\n",
    "        content_dict['duration_minutes'] = task_to_run.get('estimated_duration', 10)\n",
    "        content_dict['question_or_description'] = f\"**Phần Cốt lõi:**\\n{content_dict.get('core_component', '')}\\n\\n**Phần Mở rộng (nếu còn thời gian):**\\n{content_dict.get('extension_component', 'Không có')}\"\n",
    "        print_result(content_dict, f\"Nội dung do {agent_type} tạo ra\")\n",
    "        return {\"current_content_to_validate\": content_dict, \"validation_feedback\": None}\n",
    "    except Exception as e:\n",
    "        print_warning(f\"Lỗi tại {agent_type}: {e}.\")\n",
    "        return {\"current_content_to_validate\": {\"error\": str(e)}}\n",
    "\n",
    "async def theory_synthesizer_agent(state: \"TeacherStateV5\"): return await specialist_agent_logic(state, \"Theory Synthesizer\", LearningActivity)\n",
    "async def activity_designer_agent(state: \"TeacherStateV5\"): return await specialist_agent_logic(state, \"Activity Designer\", LearningActivity)\n",
    "async def assessment_creator_agent(state: \"TeacherStateV5\"): return await specialist_agent_logic(state, \"Assessment Creator\", AssessmentItem)\n",
    "\n",
    "print(\"✅ Các agent giao việc và chuyên môn (v10.0 - Kỷ luật Thép) đã sẵn sàng.\")"
   ]
  },
  {
   "cell_type": "code",
   "execution_count": 32,
   "id": "f509f0a6",
   "metadata": {},
   "outputs": [
    {
     "name": "stdout",
     "output_type": "stream",
     "text": [
      "✅ Agent tổng hợp & Node trình bày (v10.0.1 - Sửa lỗi Biên dịch) đã sẵn sàng.\n"
     ]
    }
   ],
   "source": [
    "# ==============================================================================\n",
    "# CELL 3.6: AGENT TỔNG HỢP & NODE TRÌNH BÀY (v10.0.1 - SỬA LỖI BIÊN DỊCH)\n",
    "# ==============================================================================\n",
    "\n",
    "async def structured_plan_compiler_agent(state: \"TeacherStateV5\") -> Dict[str, Any]:\n",
    "    print_step(\"`Agent: Structured Plan Compiler` (v10.0.1) đang tổng hợp giáo án...\")\n",
    "    outputs = state.get('agent_outputs', {})\n",
    "    objective = state.get('analyzed_objective', {})\n",
    "    \n",
    "    activities = outputs.get('activities', [])\n",
    "    assessments = outputs.get('assessments', [])\n",
    "    all_content_items = activities + assessments\n",
    "    allowed_duration = objective.get('constraints', {}).get('duration_minutes', 90)\n",
    "\n",
    "    if not all_content_items:\n",
    "        reflection = \"Kế hoạch thất bại. Không có hoạt động nào được tạo ra. Lập kế hoạch lại.\"\n",
    "        print_warning(f\"CRITIC LỚN: {reflection}\")\n",
    "        return {\"reflection_notes\": reflection}\n",
    "\n",
    "    total_duration = sum(item.get('duration_minutes', 0) for item in all_content_items)\n",
    "    \n",
    "    # <-- SỬA LỖI Ở ĐÂY: Chuyển dòng này lên trên, thực hiện sắp xếp trước khi phân nhánh\n",
    "    all_content_sorted = sorted(all_content_items, key=lambda x: x.get('task_id', float('inf')))\n",
    "\n",
    "    # Nếu tổng thời gian hợp lệ, cho qua ngay\n",
    "    if (allowed_duration * 0.95) <= total_duration <= (allowed_duration + 5):\n",
    "         print_step(f\"CRITIC LỚN: Kế hoạch hợp lệ! Tổng thời gian ({total_duration} phút) nằm trong giới hạn cho phép.\")\n",
    "    # Nếu không, thử \"cắt tỉa\" hoạt động cuối\n",
    "    else:\n",
    "        print_warning(f\"CRITIC LỚN: Tổng thời gian ({total_duration} phút) không hợp lệ. Đang thử cắt tỉa hoạt động cuối...\")\n",
    "        \n",
    "        last_activity = all_content_sorted[-1]\n",
    "        \n",
    "        is_flexible = \"vận dụng\" in last_activity.get('activity_name', '').lower() or \\\n",
    "                      \"luyện tập\" in last_activity.get('activity_name', '').lower() or \\\n",
    "                      \"tổng kết\" in last_activity.get('activity_name', '').lower() or \\\n",
    "                      last_activity.get('extension_component')\n",
    "\n",
    "        if is_flexible:\n",
    "            duration_of_last_activity = last_activity.get('duration_minutes', 0)\n",
    "            duration_of_other_activities = total_duration - duration_of_last_activity\n",
    "            \n",
    "            new_duration_for_last = allowed_duration - duration_of_other_activities\n",
    "            \n",
    "            if new_duration_for_last >= 5:\n",
    "                print_step(f\"Điều chỉnh thành công! Cắt bớt hoạt động cuối từ {duration_of_last_activity} phút xuống còn {new_duration_for_last} phút.\")\n",
    "                last_activity['duration_minutes'] = new_duration_for_last\n",
    "                last_activity['question_or_description'] = f\"**Phần Cốt lõi:**\\n{last_activity.get('core_component', '')}\\n\\n**Phần Mở rộng:** (Phần này có thể được bỏ qua do hạn chế về thời gian)\"\n",
    "                # Cập nhật lại danh sách đã sắp xếp\n",
    "                all_content_sorted = all_content_sorted[:-1] + [last_activity]\n",
    "            else:\n",
    "                reflection = f\"Kế hoạch thất bại. Tổng thời gian ({total_duration} phút) quá dài, không thể cứu vãn. Lập kế hoạch lại từ đầu với thời gian ngắn hơn.\"\n",
    "                print_warning(f\"CRITIC LỚN: {reflection}\")\n",
    "                return {\"reflection_notes\": reflection}\n",
    "        else:\n",
    "            reflection = f\"Kế hoạch thất bại. Tổng thời gian ({total_duration} phút) không hợp lệ và hoạt động cuối không phải hoạt động linh hoạt. Lập kế hoạch lại.\"\n",
    "            print_warning(f\"CRITIC LỚN: {reflection}\")\n",
    "            return {\"reflection_notes\": reflection}\n",
    "\n",
    "    # --- Phần còn lại giữ nguyên ---\n",
    "    print_step(\"Bắt đầu tổng hợp giáo án dạng JSON...\")\n",
    "    persona = state.get('student_persona', {})\n",
    "    strategy = state.get('pedagogy_strategy', {})\n",
    "    resources = state.get('agent_outputs', {}).get('resources', [{}])[0]\n",
    "\n",
    "    general_info = { \"chủ đề\": objective.get('topic', 'N/A'), \"môn học\": state.get('domain', 'N/A'), \"lớp\": objective.get('grade_level', 'N/A'), \"thời lượng\": f\"{allowed_duration} phút\", \"phương pháp chủ đạo\": strategy.get('name', 'Chưa xác định'), \"đặc điểm lớp học\": persona.get('special_notes', 'Tiêu chuẩn'), }\n",
    "    learning_objectives = [ f\"Học sinh có thể {objective.get('action_verb', 'vận dụng')} kiến thức về {objective.get('topic', 'N/A')}.\", \"Rèn luyện kỹ năng tư duy logic và giải quyết vấn đề.\", \"Phát triển kỹ năng hợp tác và trình bày.\" ]\n",
    "    preparation = { \"giáo viên\": [\"Bảng phụ\", \"máy chiếu\", \"phiếu học tập\"], \"học sinh\": [\"Sách giáo khoa\", \"vở ghi\", \"dụng cụ học tập\"] }\n",
    "    final_plan_obj: FinalStructuredPlan = { \"general_info\": general_info, \"learning_objectives\": learning_objectives, \"preparation\": preparation, \"knowledge_summary\": resources.get('summary', 'Chưa có tóm tắt.'), \"lesson_flow\": all_content_sorted, } # Bây giờ biến này luôn tồn tại\n",
    "\n",
    "    return {\"final_structured_plan\": final_plan_obj, \"reflection_notes\": None}\n",
    "\n",
    "\n",
    "# --- markdown_presentation_node giữ nguyên ---\n",
    "def markdown_presentation_node(state: \"TeacherStateV5\") -> Dict[str, str]:\n",
    "    print_step(\"`Node: Markdown Presenter` (v10.0.1) đang tạo bản trình bày Markdown...\")\n",
    "    plan_json = state.get(\"final_structured_plan\")\n",
    "    if not isinstance(plan_json, dict): return {\"final_markdown_plan\": \"Lỗi: Không tìm thấy giáo án.\"}\n",
    "\n",
    "    md_parts = []\n",
    "    info = plan_json.get('general_info', {})\n",
    "    md_parts.append(f\"# GIÁO ÁN BÀI DẠY: {info.get('chủ đề', 'N/A').upper()}\")\n",
    "    md_parts.append(\"---\")\n",
    "    md_parts.append(\"## I. THÔNG TIN CHUNG\")\n",
    "    for key, value in info.items(): md_parts.append(f\"- **{key.replace('_', ' ').title()}:** {value}\")\n",
    "    md_parts.append(\"## II. MỤC TIÊU BÀI HỌC\")\n",
    "    for obj in plan_json.get('learning_objectives', []): md_parts.append(f\"- {obj}\")\n",
    "    md_parts.append(\"## III. CHUẨN BỊ\")\n",
    "    for key, items in plan_json.get('preparation', {}).items(): md_parts.append(f\"- **{key.title()}:** {', '.join(items)}\")\n",
    "    md_parts.append(\"## IV. TIẾN TRÌNH BÀI DẠY\")\n",
    "    for i, activity in enumerate(plan_json.get('lesson_flow', [])):\n",
    "        md_parts.append(f\"### Hoạt động {i+1}: {activity.get('activity_name')} ({activity.get('duration_minutes')} phút)\")\n",
    "        md_parts.append(f\"**Nhiệm vụ:**\\n{activity.get('question_or_description', 'Không có mô tả.')}\")\n",
    "        if activity.get('differentiation'):\n",
    "            diff = activity['differentiation']\n",
    "            md_parts.append(f\"> **Gợi ý Phân hóa:**\")\n",
    "            md_parts.append(f\"> - *Hỗ trợ (HS yếu):* {diff.get('for_struggling_students', 'Không có')}\")\n",
    "            md_parts.append(f\"> - *Thử thách (HS giỏi):* {diff.get('for_advanced_students', 'Không có')}\")\n",
    "        md_parts.append(\"\\n---\")\n",
    "    md_parts.append(\"## V. TÓM TẮT KIẾN THỨC CỐT LÕI\")\n",
    "    md_parts.append(plan_json.get('knowledge_summary', 'Chưa có tóm tắt.'))\n",
    "    final_md = \"\\n\".join(md_parts)\n",
    "    return {\"final_markdown_plan\": final_md}\n",
    "\n",
    "print(\"✅ Agent tổng hợp & Node trình bày (v10.0.1 - Sửa lỗi Biên dịch) đã sẵn sàng.\")"
   ]
  },
  {
   "cell_type": "markdown",
   "id": "d9377da3",
   "metadata": {},
   "source": [
    "## PHẦN 4: XÂY DỰNG VÀ BIÊN DỊCH GRAPH"
   ]
  },
  {
   "cell_type": "code",
   "execution_count": 33,
   "id": "3f7820ed",
   "metadata": {},
   "outputs": [
    {
     "name": "stdout",
     "output_type": "stream",
     "text": [
      "✅ Các node tiện ích và điều phối (v10.0 - Kỷ luật Thép) đã sẵn sàng.\n"
     ]
    }
   ],
   "source": [
    "# ==============================================================================\n",
    "# CELL 4.1: CÁC NODE TIỆN ÍCH & ĐIỀU PHỐI (v10.0 - KỶ LUẬT THÉP)\n",
    "# ==============================================================================\n",
    "from typing import Literal, Dict, Any\n",
    "import time\n",
    "\n",
    "# --- CÁC NODE TIỆN ÍCH CƠ BẢN ---\n",
    "def delay_node(state: \"TeacherStateV5\") -> \"TeacherStateV5\":\n",
    "    time.sleep(1)\n",
    "    return state\n",
    "\n",
    "def mark_task_complete(state: \"TeacherStateV5\") -> Dict[str, Any]:\n",
    "    task_list = state.get(\"task_list\", [])\n",
    "    current_task_id = state.get(\"current_task_id\")\n",
    "    if not task_list or current_task_id is None: return {}\n",
    "    new_task_list = [t.copy() for t in task_list]\n",
    "    for task in new_task_list:\n",
    "        if task.get(\"task_id\") == current_task_id:\n",
    "            task[\"status\"] = \"completed\"\n",
    "            break\n",
    "    return {\"task_list\": new_task_list, \"current_task_id\": None}\n",
    "    \n",
    "def task_router_node(state: \"TeacherStateV5\") -> Dict[str, Any]:\n",
    "    print_step(\"`Router`: Đang kiểm tra nhiệm vụ...\")\n",
    "    task_list = state.get(\"task_list\", [])\n",
    "    next_task = next((task for task in task_list if task.get(\"status\") == \"pending\"), None)\n",
    "    if next_task:\n",
    "        print_step(f\"Nhiệm vụ tiếp theo: '{next_task['task_name']}' (ID: {next_task['task_id']})\")\n",
    "        return {\"current_task_id\": next_task['task_id']}\n",
    "    else:\n",
    "        print_step(\"Hết nhiệm vụ, chuyển sang node Compiler.\")\n",
    "        return {\"current_task_id\": None}\n",
    "\n",
    "async def task_dispatcher_agent(state: \"TeacherStateV5\") -> Dict[str, Any]:\n",
    "    print_step(\"`Agent: Task Dispatcher` đang giao việc...\")\n",
    "    task_to_run = next((t for t in state['task_list'] if t['task_id'] == state['current_task_id']), None)\n",
    "    if not task_to_run: return {\"next_agent\": \"mark_task_complete\"}\n",
    "\n",
    "    task_description = task_to_run['task_description']\n",
    "    prompt = f\"{SYSTEM_PERSONA_PROMPT}\\n**Nhiệm vụ:** Phân loại nhiệm vụ sau vào MỘT trong ba agent sau: 'activity_designer', 'theory_synthesizer', 'assessment_creator'.\\n\\n**QUY TẮC PHÂN LOẠI:**\\n- Giảng giải, giới thiệu, ôn tập, tổng kết -> 'theory_synthesizer'.\\n- Luyện tập, thực hành, thảo luận, làm việc nhóm -> 'activity_designer'.\\n- Kiểm tra, đánh giá, bài toán khó, vận dụng cao -> 'assessment_creator'.\\n\\n**NHIỆM VỤ CẦN PHÂN LOẠI:** \\\"{task_description}\\\"\\n\\n**YÊU CẦU JSON:** Trả về JSON với key duy nhất là `agent_category`.\"\n",
    "    structured_llm = llm.with_structured_output(TaskClassification)\n",
    "    try:\n",
    "        classification_result = await structured_llm.ainvoke(prompt)\n",
    "        next_agent = classification_result.agent_category\n",
    "    except Exception:\n",
    "        next_agent = \"activity_designer\"\n",
    "    print_step(f\"--- 🚚 `Dispatcher`: Giao nhiệm vụ cho `{next_agent}`.\")\n",
    "    return {\"next_agent\": next_agent}\n",
    "\n",
    "def commit_validated_content_node(state: \"TeacherStateV5\") -> Dict[str, Any]:\n",
    "    print_step(\"`Commiter`: Đang ghi nhận nội dung đã được xác thực...\")\n",
    "    agent_ran = state[\"next_agent\"]\n",
    "    content = state[\"current_content_to_validate\"]\n",
    "    content['task_id'] = state['current_task_id']\n",
    "    key_to_update = \"assessments\" if \"answer\" in content else \"activities\"\n",
    "    updated_outputs = update_agent_outputs(state, key_to_update, content)\n",
    "    updated_outputs[\"current_content_to_validate\"] = None\n",
    "    updated_outputs[\"validation_feedback\"] = None\n",
    "    return updated_outputs\n",
    "\n",
    "def save_to_memory_node(state: \"TeacherStateV5\"):\n",
    "    if state.get(\"final_structured_plan\"):\n",
    "        save_to_memory(state[\"original_request\"], state[\"final_structured_plan\"])\n",
    "    return {} \n",
    "\n",
    "print(\"✅ Các node tiện ích và điều phối (v10.0 - Kỷ luật Thép) đã sẵn sàng.\")"
   ]
  },
  {
   "cell_type": "code",
   "execution_count": 34,
   "id": "6b7306e7",
   "metadata": {},
   "outputs": [
    {
     "name": "stdout",
     "output_type": "stream",
     "text": [
      "✅ Các hàm logic điều hướng (đã sửa lỗi) đã được định nghĩa.\n"
     ]
    }
   ],
   "source": [
    "# ==============================================================================\n",
    "# CELL 4.2: LOGIC ĐIỀU HƯỚNG CÓ ĐIỀU KIỆN (ĐÃ SỬA LỖI)\n",
    "# ==============================================================================\n",
    "def route_after_validation(state: \"TeacherStateV5\") -> Literal[\"commit\", \"retry_content\", \"replan_task\"]:\n",
    "    \"\"\"\n",
    "    Hàm điều hướng mới, thông minh hơn sau khi thẩm định nội dung.\n",
    "    - commit: Nội dung hợp lệ.\n",
    "    - replan_task: Nội dung có lỗi cấu trúc/thời gian, cần quay lại bước lập kế hoạch.\n",
    "    - retry_content: Nội dung có lỗi chuyên môn/sư phạm, cần agent chuyên môn thử lại.\n",
    "    \"\"\"\n",
    "    feedback = state.get(\"validation_feedback\")\n",
    "    if feedback is None:\n",
    "        print_step(\"ROUTER (Validation): Nội dung được chấp thuận. Chuyển sang bước ghi nhận.\")\n",
    "        return \"commit\"\n",
    "    \n",
    "    if \"[STRUCTURAL_FEEDBACK]\" in feedback:\n",
    "        print_step(\"ROUTER (Validation): Lỗi cấu trúc, yêu cầu LẬP KẾ HOẠCH LẠI.\")\n",
    "        # Chuyển phản hồi này cho Plan Delegator\n",
    "        state['reflection_notes'] = feedback\n",
    "        return \"replan_task\"\n",
    "    else:\n",
    "        print_step(\"ROUTER (Validation): Nội dung bị từ chối. Quay lại để agent chuyên môn THỬ LẠI.\")\n",
    "        return \"retry_content\"\n",
    "\n",
    "def route_after_router(state: \"TeacherStateV5\") -> Literal[\"continue_executing\", \"compile_and_critique\"]:\n",
    "    if state.get(\"current_task_id\") is None: \n",
    "        return \"compile_and_critique\"\n",
    "    else: \n",
    "        return \"continue_executing\"\n",
    "\n",
    "def route_after_compilation(state: \"TeacherStateV5\") -> Literal[\"finish\", \"replan\"]:\n",
    "    if state.get(\"reflection_notes\"):\n",
    "        print_step(\"ROUTER (Compilation): Phát hiện phản hồi từ Critic lớn. Yêu cầu hệ thống lập kế hoạch lại.\")\n",
    "        return \"replan\"\n",
    "    else:\n",
    "        print_step(\"ROUTER (Compilation): Critic lớn đã hài lòng. Kết thúc quy trình.\")\n",
    "        return \"finish\"\n",
    "\n",
    "print(\"✅ Các hàm logic điều hướng (đã sửa lỗi) đã được định nghĩa.\")"
   ]
  },
  {
   "cell_type": "code",
   "execution_count": 35,
   "id": "30df6071",
   "metadata": {},
   "outputs": [
    {
     "name": "stdout",
     "output_type": "stream",
     "text": [
      "✅ Graph đã được biên dịch thành công với logic 'Kỷ luật Thép' (v10.0).\n"
     ]
    }
   ],
   "source": [
    "# ==============================================================================\n",
    "# CELL 4.3: LẮP RÁP VÀ BIÊN DỊCH GRAPH (v10.0 - KỶ LUẬT THÉP)\n",
    "# ==============================================================================\n",
    "workflow = StateGraph(TeacherStateV5)\n",
    "\n",
    "# 1. Thêm các node cần thiết\n",
    "workflow.add_node(\"initializer\", initialize_state_node)\n",
    "workflow.add_node(\"memory_retrieval\", memory_retrieval_agent)\n",
    "workflow.add_node(\"objective_interpreter\", objective_interpreter_agent)\n",
    "workflow.add_node(\"domain_classifier\", domain_classifier_agent)\n",
    "workflow.add_node(\"differentiated_instruction_advisor\", differentiated_instruction_advisor_agent) \n",
    "workflow.add_node(\"pedagogy_strategist\", pedagogy_strategist_agent)\n",
    "workflow.add_node(\"pedagogical_architect\", pedagogical_architect_agent)\n",
    "workflow.add_node(\"query_expansion\", query_expansion_agent)\n",
    "workflow.add_node(\"resource_scout\", resource_scout_agent_v2)\n",
    "workflow.add_node(\"plan_delegator\", plan_delegator_agent)\n",
    "workflow.add_node(\"task_router\", task_router_node)\n",
    "workflow.add_node(\"task_dispatcher\", task_dispatcher_agent)\n",
    "workflow.add_node(\"theory_synthesizer\", theory_synthesizer_agent)\n",
    "workflow.add_node(\"activity_designer\", activity_designer_agent)\n",
    "workflow.add_node(\"assessment_creator\", assessment_creator_agent)\n",
    "workflow.add_node(\"content_validator\", content_validator_agent)\n",
    "workflow.add_node(\"commit_validated_content\", commit_validated_content_node)\n",
    "workflow.add_node(\"mark_task_complete\", mark_task_complete)\n",
    "workflow.add_node(\"structured_plan_compiler\", structured_plan_compiler_agent) \n",
    "workflow.add_node(\"markdown_presenter\", markdown_presentation_node)\n",
    "workflow.add_node(\"save_to_memory\", save_to_memory_node)\n",
    "workflow.add_node(\"delay_node\", delay_node)\n",
    "\n",
    "# 2. Thiết lập các kết nối (edges)\n",
    "workflow.set_entry_point(\"initializer\")\n",
    "workflow.add_edge(\"initializer\", \"memory_retrieval\")\n",
    "workflow.add_edge(\"memory_retrieval\", \"objective_interpreter\")\n",
    "workflow.add_edge(\"objective_interpreter\", \"domain_classifier\")\n",
    "workflow.add_edge(\"domain_classifier\", \"differentiated_instruction_advisor\")\n",
    "workflow.add_edge(\"differentiated_instruction_advisor\", \"pedagogy_strategist\")\n",
    "workflow.add_edge(\"pedagogy_strategist\", \"pedagogical_architect\")\n",
    "workflow.add_edge(\"pedagogical_architect\", \"query_expansion\")\n",
    "workflow.add_edge(\"query_expansion\", \"resource_scout\")\n",
    "workflow.add_edge(\"resource_scout\", \"plan_delegator\")\n",
    "workflow.add_edge(\"plan_delegator\", \"task_router\")\n",
    "\n",
    "# Luồng thực thi nhiệm vụ\n",
    "workflow.add_conditional_edges(\n",
    "    \"task_router\", \n",
    "    route_after_router, \n",
    "    { \"continue_executing\": \"task_dispatcher\", \"compile_and_critique\": \"structured_plan_compiler\" }\n",
    ")\n",
    "workflow.add_conditional_edges(\"task_dispatcher\", lambda state: state[\"next_agent\"], {\n",
    "    \"activity_designer\": \"activity_designer\", \n",
    "    \"assessment_creator\": \"assessment_creator\", \n",
    "    \"theory_synthesizer\": \"theory_synthesizer\"\n",
    "})\n",
    "workflow.add_edge(\"theory_synthesizer\", \"content_validator\")\n",
    "workflow.add_edge(\"activity_designer\", \"content_validator\")\n",
    "workflow.add_edge(\"assessment_creator\", \"content_validator\")\n",
    "\n",
    "# Logic điều hướng mới sau khi Guardian Critic thẩm định\n",
    "def route_after_guardian_critique(state: \"TeacherStateV5\") -> Literal[\"commit\", \"retry_content_creation\"]:\n",
    "    if state.get(\"validation_feedback\") is None:\n",
    "        return \"commit\"\n",
    "    else:\n",
    "        return \"retry_content_creation\"\n",
    "\n",
    "workflow.add_conditional_edges(\n",
    "    \"content_validator\",\n",
    "    route_after_guardian_critique,\n",
    "    {\n",
    "        \"commit\": \"commit_validated_content\",\n",
    "        \"retry_content_creation\": \"task_dispatcher\" \n",
    "    }\n",
    ")\n",
    "\n",
    "# Hoàn thành một nhiệm vụ\n",
    "workflow.add_edge(\"commit_validated_content\", \"mark_task_complete\")\n",
    "workflow.add_edge(\"mark_task_complete\", \"delay_node\")\n",
    "workflow.add_edge(\"delay_node\", \"task_router\")\n",
    "\n",
    "# Luồng kết thúc\n",
    "workflow.add_conditional_edges(\n",
    "    \"structured_plan_compiler\", \n",
    "    route_after_compilation,\n",
    "    { \"replan\": \"plan_delegator\", \"finish\": \"markdown_presenter\" }\n",
    ")\n",
    "workflow.add_edge(\"markdown_presenter\", \"save_to_memory\")\n",
    "workflow.add_edge(\"save_to_memory\", END)\n",
    "\n",
    "# Biên dịch graph\n",
    "app = workflow.compile()\n",
    "print(\"✅ Graph đã được biên dịch thành công với logic 'Kỷ luật Thép' (v10.0).\")"
   ]
  },
  {
   "cell_type": "code",
   "execution_count": 36,
   "id": "ac549fea",
   "metadata": {},
   "outputs": [
    {
     "data": {
      "image/png": "[encoded data removed]",
      "text/plain": [
       "<IPython.core.display.Image object>"
      ]
     },
     "metadata": {},
     "output_type": "display_data"
    }
   ],
   "source": [
    "# ==============================================================================\n",
    "# CELL 4.4: HIỂN THỊ SƠ ĐỒ GRAPH (TÙY CHỌN)\n",
    "# ==============================================================================\n",
    "try:\n",
    "    # Lệnh này sẽ vẽ một sơ đồ của workflow, rất hữu ích để gỡ lỗi\n",
    "    display(Image(app.get_graph().draw_mermaid_png()))\n",
    "except Exception as e:\n",
    "    print(f\"Lỗi vẽ biểu đồ: {e}. Đây là lỗi không nghiêm trọng, bạn vẫn có thể chạy quy trình.\")"
   ]
  },
  {
   "cell_type": "markdown",
   "id": "a5e56adc",
   "metadata": {},
   "source": [
    "## PHẦN 5"
   ]
  },
  {
   "cell_type": "code",
   "execution_count": 37,
   "id": "f27d8fdf",
   "metadata": {},
   "outputs": [
    {
     "name": "stdout",
     "output_type": "stream",
     "text": [
      "✅ Hàm `run_architect` đã sẵn sàng để sử dụng.\n"
     ]
    }
   ],
   "source": [
    "# ==============================================================================\n",
    "# CELL 5.1: ĐỊNH NGHĨA HÀM CHẠY QUY TRÌNH\n",
    "# ==============================================================================\n",
    "async def run_architect(user_request: str):\n",
    "    if 'llm' not in globals() or llm is None:\n",
    "        print_warning(\"LLM chưa được khởi tạo. Vui lòng chạy lại Cell 1.3.\")\n",
    "        return\n",
    "    if 'vector_store' not in globals() or vector_store is None:\n",
    "        print_warning(\"Kho tri thức chưa được tải. Vui lòng chạy lại Cell 1.4.\")\n",
    "        return\n",
    "    if 'app' not in globals():\n",
    "        print_warning(\"Graph 'app' chưa được biên dịch. Vui lòng chạy lại Cell 4.3.\")\n",
    "        return\n",
    "\n",
    "    initial_state = {\"messages\": [HumanMessage(content=user_request)]}\n",
    "    console.print(f\"\\n[bold magenta]🚀 BẮT ĐẦU QUY TRÌNH V7.1 (THE ARCHITECT) VỚI YÊU CẦU:[/bold magenta]\\n> {user_request}\")\n",
    "    config = {\"recursion_limit\": 150} \n",
    "    \n",
    "    final_state_result = None\n",
    "    try:\n",
    "        async for event in app.astream(initial_state, config=config):\n",
    "            for node_name, node_output in event.items():\n",
    "                console.print(f\"\\n[bold yellow]------- Hoàn thành bước: {node_name} -------[/bold yellow]\")\n",
    "                final_state_result = node_output\n",
    "\n",
    "        console.print(\"\\n[bold magenta]🏁 KẾT THÚC QUY TRÌNH V7.1.[/bold magenta]\")\n",
    "        \n",
    "        if final_state_result and final_state_result.get(\"final_markdown_plan\"):\n",
    "            console.print(\"\\n[bold green]📝 GIÁO ÁN HOÀN CHỈNH (v9.0)[/bold green]\")\n",
    "            console.print(Markdown(final_state_result[\"final_markdown_plan\"]))\n",
    "            \n",
    "            # (Tùy chọn) In ra cả JSON để kiểm tra\n",
    "            if VERBOSE_MODE:\n",
    "                print_result(final_state_result.get(\"final_structured_plan\"), \"Output JSON có cấu trúc\")\n",
    "\n",
    "        else:\n",
    "            print_warning(\"Không tạo được giáo án cuối cùng. Có thể Critic đã yêu cầu làm lại nhưng hết giới hạn đệ quy.\")\n",
    "            print(\"\\nTrạng thái cuối cùng để gỡ lỗi:\")\n",
    "            pprint(final_state_result)\n",
    "            \n",
    "    except Exception as e:\n",
    "        print_warning(f\"Đã xảy ra lỗi nghiêm trọng trong quá trình chạy graph: {e}\")\n",
    "        import traceback\n",
    "        traceback.print_exc()\n",
    "\n",
    "print(\"✅ Hàm `run_architect` đã sẵn sàng để sử dụng.\")"
   ]
  },
  {
   "cell_type": "code",
   "execution_count": 38,
   "id": "43c8121e",
   "metadata": {},
   "outputs": [
    {
     "data": {
      "text/html": [
       "<pre style=\"white-space:pre;overflow-x:auto;line-height:normal;font-family:Menlo,'DejaVu Sans Mono',consolas,'Courier New',monospace\">\n",
       "<span style=\"color: #800080; text-decoration-color: #800080; font-weight: bold\">🚀 BẮT ĐẦU QUY TRÌNH V7.</span><span style=\"color: #800080; text-decoration-color: #800080; font-weight: bold\">1</span><span style=\"color: #800080; text-decoration-color: #800080; font-weight: bold\"> (THE ARCHITECT) VỚI YÊU CẦU:</span>\n",
       "&gt; Soạn giúp tôi giáo án bài <span style=\"color: #008000; text-decoration-color: #008000\">'Đường tròn ngoại tiếp và đường tròn nội tiếp'</span> cho học sinh lớp <span style=\"color: #008080; text-decoration-color: #008080; font-weight: bold\">9</span> trong <span style=\"color: #008080; text-decoration-color: #008080; font-weight: bold\">90</span> phút. Đây là\n",
       "một lớp học khá yếu, các em thường mất tập trung và cần các hoạt động có tính tương tác cao.\n",
       "</pre>\n"
      ],
      "text/plain": [
       "\n",
       "\u001b[1;35m🚀 BẮT ĐẦU QUY TRÌNH V7.\u001b[0m\u001b[1;35m1\u001b[0m\u001b[1;35m \u001b[0m\u001b[1;35m(\u001b[0m\u001b[1;35mTHE ARCHITECT\u001b[0m\u001b[1;35m)\u001b[0m\u001b[1;35m VỚI YÊU CẦU:\u001b[0m\n",
       "> Soạn giúp tôi giáo án bài \u001b[32m'Đường tròn ngoại tiếp và đường tròn nội tiếp'\u001b[0m cho học sinh lớp \u001b[1;36m9\u001b[0m trong \u001b[1;36m90\u001b[0m phút. Đây là\n",
       "một lớp học khá yếu, các em thường mất tập trung và cần các hoạt động có tính tương tác cao.\n"
      ]
     },
     "metadata": {},
     "output_type": "display_data"
    },
    {
     "data": {
      "text/html": [
       "<pre style=\"white-space:pre;overflow-x:auto;line-height:normal;font-family:Menlo,'DejaVu Sans Mono',consolas,'Courier New',monospace\">\n",
       "<span style=\"color: #008080; text-decoration-color: #008080; font-weight: bold\">&gt;</span> `Initializer`: Đang khởi tạo trạng thái và lấy yêu cầu gốc<span style=\"color: #808000; text-decoration-color: #808000\">...</span>\n",
       "</pre>\n"
      ],
      "text/plain": [
       "\n",
       "\u001b[1;36m>\u001b[0m `Initializer`: Đang khởi tạo trạng thái và lấy yêu cầu gốc\u001b[33m...\u001b[0m\n"
      ]
     },
     "metadata": {},
     "output_type": "display_data"
    },
    {
     "data": {
      "text/html": [
       "<pre style=\"white-space:pre;overflow-x:auto;line-height:normal;font-family:Menlo,'DejaVu Sans Mono',consolas,'Courier New',monospace\">\n",
       "<span style=\"color: #808000; text-decoration-color: #808000; font-weight: bold\">------- Hoàn thành bước: initializer -------</span>\n",
       "</pre>\n"
      ],
      "text/plain": [
       "\n",
       "\u001b[1;33m------- Hoàn thành bước: initializer -------\u001b[0m\n"
      ]
     },
     "metadata": {},
     "output_type": "display_data"
    },
    {
     "data": {
      "text/html": [
       "<pre style=\"white-space:pre;overflow-x:auto;line-height:normal;font-family:Menlo,'DejaVu Sans Mono',consolas,'Courier New',monospace\">\n",
       "<span style=\"color: #008080; text-decoration-color: #008080; font-weight: bold\">&gt;</span> `Agent: Memory Retrieval` <span style=\"font-weight: bold\">(</span>v9.<span style=\"color: #008080; text-decoration-color: #008080; font-weight: bold\">4</span><span style=\"font-weight: bold\">)</span> đang tìm kiếm trong trí nhớ<span style=\"color: #808000; text-decoration-color: #808000\">...</span>\n",
       "</pre>\n"
      ],
      "text/plain": [
       "\n",
       "\u001b[1;36m>\u001b[0m `Agent: Memory Retrieval` \u001b[1m(\u001b[0mv9.\u001b[1;36m4\u001b[0m\u001b[1m)\u001b[0m đang tìm kiếm trong trí nhớ\u001b[33m...\u001b[0m\n"
      ]
     },
     "metadata": {},
     "output_type": "display_data"
    },
    {
     "data": {
      "text/html": [
       "<pre style=\"white-space:pre;overflow-x:auto;line-height:normal;font-family:Menlo,'DejaVu Sans Mono',consolas,'Courier New',monospace\"><span style=\"color: #808000; text-decoration-color: #808000; font-weight: bold\">⚠️  Không có Trí nhớ Dài hạn. Bỏ qua bước này.</span>\n",
       "</pre>\n"
      ],
      "text/plain": [
       "\u001b[1;33m⚠️  Không có Trí nhớ Dài hạn. Bỏ qua bước này.\u001b[0m\n"
      ]
     },
     "metadata": {},
     "output_type": "display_data"
    },
    {
     "data": {
      "text/html": [
       "<pre style=\"white-space:pre;overflow-x:auto;line-height:normal;font-family:Menlo,'DejaVu Sans Mono',consolas,'Courier New',monospace\">\n",
       "<span style=\"color: #808000; text-decoration-color: #808000; font-weight: bold\">------- Hoàn thành bước: memory_retrieval -------</span>\n",
       "</pre>\n"
      ],
      "text/plain": [
       "\n",
       "\u001b[1;33m------- Hoàn thành bước: memory_retrieval -------\u001b[0m\n"
      ]
     },
     "metadata": {},
     "output_type": "display_data"
    },
    {
     "data": {
      "text/html": [
       "<pre style=\"white-space:pre;overflow-x:auto;line-height:normal;font-family:Menlo,'DejaVu Sans Mono',consolas,'Courier New',monospace\">\n",
       "<span style=\"color: #008080; text-decoration-color: #008080; font-weight: bold\">&gt;</span> `Agent: Objective Interpreter` <span style=\"font-weight: bold\">(</span>v7.<span style=\"color: #008080; text-decoration-color: #008080; font-weight: bold\">5</span><span style=\"font-weight: bold\">)</span> đang phân tích mục tiêu<span style=\"color: #808000; text-decoration-color: #808000\">...</span>\n",
       "</pre>\n"
      ],
      "text/plain": [
       "\n",
       "\u001b[1;36m>\u001b[0m `Agent: Objective Interpreter` \u001b[1m(\u001b[0mv7.\u001b[1;36m5\u001b[0m\u001b[1m)\u001b[0m đang phân tích mục tiêu\u001b[33m...\u001b[0m\n"
      ]
     },
     "metadata": {},
     "output_type": "display_data"
    },
    {
     "data": {
      "text/html": [
       "<pre style=\"white-space:pre;overflow-x:auto;line-height:normal;font-family:Menlo,'DejaVu Sans Mono',consolas,'Courier New',monospace\"><span style=\"color: #008000; text-decoration-color: #008000; font-weight: bold\">✔️ Mục tiêu &amp; Ràng buộc đã phân tích:</span>\n",
       "</pre>\n"
      ],
      "text/plain": [
       "\u001b[1;32m✔️ Mục tiêu & Ràng buộc đã phân tích:\u001b[0m\n"
      ]
     },
     "metadata": {},
     "output_type": "display_data"
    },
    {
     "data": {
      "text/html": [
       "<pre style=\"white-space:pre;overflow-x:auto;line-height:normal;font-family:Menlo,'DejaVu Sans Mono',consolas,'Courier New',monospace\"><span style=\"font-weight: bold\">{</span>\n",
       "<span style=\"color: #7fbf7f; text-decoration-color: #7fbf7f\">│   </span><span style=\"color: #008000; text-decoration-color: #008000\">'action_verb'</span>: <span style=\"color: #008000; text-decoration-color: #008000\">'thiết kế'</span>,\n",
       "<span style=\"color: #7fbf7f; text-decoration-color: #7fbf7f\">│   </span><span style=\"color: #008000; text-decoration-color: #008000\">'bloom_level'</span>: <span style=\"color: #008080; text-decoration-color: #008080; font-weight: bold\">2</span>,\n",
       "<span style=\"color: #7fbf7f; text-decoration-color: #7fbf7f\">│   </span><span style=\"color: #008000; text-decoration-color: #008000\">'topic'</span>: <span style=\"color: #008000; text-decoration-color: #008000\">'Đường tròn ngoại tiếp và đường tròn nội tiếp'</span>,\n",
       "<span style=\"color: #7fbf7f; text-decoration-color: #7fbf7f\">│   </span><span style=\"color: #008000; text-decoration-color: #008000\">'grade_level'</span>: <span style=\"color: #008000; text-decoration-color: #008000\">'lớp 9'</span>,\n",
       "<span style=\"color: #7fbf7f; text-decoration-color: #7fbf7f\">│   </span><span style=\"color: #008000; text-decoration-color: #008000\">'constraints'</span>: <span style=\"font-weight: bold\">{</span>\n",
       "<span style=\"color: #7fbf7f; text-decoration-color: #7fbf7f\">│   │   </span><span style=\"color: #008000; text-decoration-color: #008000\">'duration_minutes'</span>: <span style=\"color: #008080; text-decoration-color: #008080; font-weight: bold\">90</span>\n",
       "<span style=\"color: #7fbf7f; text-decoration-color: #7fbf7f\">│   </span><span style=\"font-weight: bold\">}</span>\n",
       "<span style=\"font-weight: bold\">}</span>\n",
       "</pre>\n"
      ],
      "text/plain": [
       "\u001b[1m{\u001b[0m\n",
       "\u001b[2;32m│   \u001b[0m\u001b[32m'action_verb'\u001b[0m: \u001b[32m'thiết kế'\u001b[0m,\n",
       "\u001b[2;32m│   \u001b[0m\u001b[32m'bloom_level'\u001b[0m: \u001b[1;36m2\u001b[0m,\n",
       "\u001b[2;32m│   \u001b[0m\u001b[32m'topic'\u001b[0m: \u001b[32m'Đường tròn ngoại tiếp và đường tròn nội tiếp'\u001b[0m,\n",
       "\u001b[2;32m│   \u001b[0m\u001b[32m'grade_level'\u001b[0m: \u001b[32m'lớp 9'\u001b[0m,\n",
       "\u001b[2;32m│   \u001b[0m\u001b[32m'constraints'\u001b[0m: \u001b[1m{\u001b[0m\n",
       "\u001b[2;32m│   │   \u001b[0m\u001b[32m'duration_minutes'\u001b[0m: \u001b[1;36m90\u001b[0m\n",
       "\u001b[2;32m│   \u001b[0m\u001b[1m}\u001b[0m\n",
       "\u001b[1m}\u001b[0m\n"
      ]
     },
     "metadata": {},
     "output_type": "display_data"
    },
    {
     "data": {
      "text/html": [
       "<pre style=\"white-space:pre;overflow-x:auto;line-height:normal;font-family:Menlo,'DejaVu Sans Mono',consolas,'Courier New',monospace\">\n",
       "<span style=\"color: #808000; text-decoration-color: #808000; font-weight: bold\">------- Hoàn thành bước: objective_interpreter -------</span>\n",
       "</pre>\n"
      ],
      "text/plain": [
       "\n",
       "\u001b[1;33m------- Hoàn thành bước: objective_interpreter -------\u001b[0m\n"
      ]
     },
     "metadata": {},
     "output_type": "display_data"
    },
    {
     "data": {
      "text/html": [
       "<pre style=\"white-space:pre;overflow-x:auto;line-height:normal;font-family:Menlo,'DejaVu Sans Mono',consolas,'Courier New',monospace\">\n",
       "<span style=\"color: #008080; text-decoration-color: #008080; font-weight: bold\">&gt;</span> `Agent: Domain Classifier` <span style=\"font-weight: bold\">(</span>v7.<span style=\"color: #008080; text-decoration-color: #008080; font-weight: bold\">5</span><span style=\"font-weight: bold\">)</span> đang xác định lĩnh vực chuyên môn<span style=\"color: #808000; text-decoration-color: #808000\">...</span>\n",
       "</pre>\n"
      ],
      "text/plain": [
       "\n",
       "\u001b[1;36m>\u001b[0m `Agent: Domain Classifier` \u001b[1m(\u001b[0mv7.\u001b[1;36m5\u001b[0m\u001b[1m)\u001b[0m đang xác định lĩnh vực chuyên môn\u001b[33m...\u001b[0m\n"
      ]
     },
     "metadata": {},
     "output_type": "display_data"
    },
    {
     "data": {
      "text/html": [
       "<pre style=\"white-space:pre;overflow-x:auto;line-height:normal;font-family:Menlo,'DejaVu Sans Mono',consolas,'Courier New',monospace\"><span style=\"color: #008000; text-decoration-color: #008000; font-weight: bold\">✔️ Lĩnh vực chuyên môn được xác định:</span>\n",
       "</pre>\n"
      ],
      "text/plain": [
       "\u001b[1;32m✔️ Lĩnh vực chuyên môn được xác định:\u001b[0m\n"
      ]
     },
     "metadata": {},
     "output_type": "display_data"
    },
    {
     "data": {
      "text/html": [
       "<pre style=\"white-space:pre;overflow-x:auto;line-height:normal;font-family:Menlo,'DejaVu Sans Mono',consolas,'Courier New',monospace\"><span style=\"color: #008000; text-decoration-color: #008000\">'Toán học'</span>\n",
       "</pre>\n"
      ],
      "text/plain": [
       "\u001b[32m'Toán học'\u001b[0m\n"
      ]
     },
     "metadata": {},
     "output_type": "display_data"
    },
    {
     "data": {
      "text/html": [
       "<pre style=\"white-space:pre;overflow-x:auto;line-height:normal;font-family:Menlo,'DejaVu Sans Mono',consolas,'Courier New',monospace\">\n",
       "<span style=\"color: #808000; text-decoration-color: #808000; font-weight: bold\">------- Hoàn thành bước: domain_classifier -------</span>\n",
       "</pre>\n"
      ],
      "text/plain": [
       "\n",
       "\u001b[1;33m------- Hoàn thành bước: domain_classifier -------\u001b[0m\n"
      ]
     },
     "metadata": {},
     "output_type": "display_data"
    },
    {
     "data": {
      "text/html": [
       "<pre style=\"white-space:pre;overflow-x:auto;line-height:normal;font-family:Menlo,'DejaVu Sans Mono',consolas,'Courier New',monospace\">\n",
       "<span style=\"color: #008080; text-decoration-color: #008080; font-weight: bold\">&gt;</span> `Agent: Differentiated Instruction Advisor` <span style=\"font-weight: bold\">(</span>v9.<span style=\"color: #008080; text-decoration-color: #008080; font-weight: bold\">1</span><span style=\"font-weight: bold\">)</span> đang phân tích và đề xuất chiến lược phân hóa<span style=\"color: #808000; text-decoration-color: #808000\">...</span>\n",
       "</pre>\n"
      ],
      "text/plain": [
       "\n",
       "\u001b[1;36m>\u001b[0m `Agent: Differentiated Instruction Advisor` \u001b[1m(\u001b[0mv9.\u001b[1;36m1\u001b[0m\u001b[1m)\u001b[0m đang phân tích và đề xuất chiến lược phân hóa\u001b[33m...\u001b[0m\n"
      ]
     },
     "metadata": {},
     "output_type": "display_data"
    },
    {
     "data": {
      "text/html": [
       "<pre style=\"white-space:pre;overflow-x:auto;line-height:normal;font-family:Menlo,'DejaVu Sans Mono',consolas,'Courier New',monospace\"><span style=\"color: #008000; text-decoration-color: #008000; font-weight: bold\">✔️ Hồ sơ lớp học và Chiến lược Phân hóa:</span>\n",
       "</pre>\n"
      ],
      "text/plain": [
       "\u001b[1;32m✔️ Hồ sơ lớp học và Chiến lược Phân hóa:\u001b[0m\n"
      ]
     },
     "metadata": {},
     "output_type": "display_data"
    },
    {
     "data": {
      "text/html": [
       "<pre style=\"white-space:pre;overflow-x:auto;line-height:normal;font-family:Menlo,'DejaVu Sans Mono',consolas,'Courier New',monospace\"><span style=\"font-weight: bold\">{</span>\n",
       "<span style=\"color: #7fbf7f; text-decoration-color: #7fbf7f\">│   </span><span style=\"color: #008000; text-decoration-color: #008000\">'learning_pace'</span>: <span style=\"color: #008000; text-decoration-color: #008000\">'chậm'</span>,\n",
       "<span style=\"color: #7fbf7f; text-decoration-color: #7fbf7f\">│   </span><span style=\"color: #008000; text-decoration-color: #008000\">'engagement_style'</span>: <span style=\"color: #008000; text-decoration-color: #008000\">'thụ động'</span>,\n",
       "<span style=\"color: #7fbf7f; text-decoration-color: #7fbf7f\">│   </span><span style=\"color: #008000; text-decoration-color: #008000\">'special_notes'</span>: <span style=\"color: #008000; text-decoration-color: #008000\">'Lớp học có tốc độ tiếp thu chậm, học sinh dễ mất tập trung và cần các hoạt động tương tác để duy trì sự chú ý.'</span>,\n",
       "<span style=\"color: #7fbf7f; text-decoration-color: #7fbf7f\">│   </span><span style=\"color: #008000; text-decoration-color: #008000\">'differentiation_strategy'</span>: <span style=\"font-weight: bold\">{</span>\n",
       "<span style=\"color: #7fbf7f; text-decoration-color: #7fbf7f\">│   │   </span><span style=\"color: #008000; text-decoration-color: #008000\">'for_struggling_students'</span>: <span style=\"color: #008000; text-decoration-color: #008000\">'Chia nhỏ kiến thức thành các phần nhỏ, sử dụng nhiều ví dụ minh họa trực quan, cung cấp phiếu bài tập có gợi ý hoặc công thức mẫu. Thường xuyên kiểm tra mức độ hiểu bài và hỗ trợ cá nhân kịp thời. Khuyến khích làm việc nhóm nhỏ để hỗ trợ lẫn nhau.'</span>,\n",
       "<span style=\"color: #7fbf7f; text-decoration-color: #7fbf7f\">│   │   </span><span style=\"color: #008000; text-decoration-color: #008000\">'for_advanced_students'</span>: <span style=\"color: #008000; text-decoration-color: #008000\">'Giao các bài tập nâng cao, yêu cầu chứng minh các tính chất phức tạp hơn hoặc giải các bài toán ứng dụng thực tế. Khuyến khích các em tự tìm hiểu thêm về các định lý liên quan hoặc các trường hợp đặc biệt. Cho phép các em hỗ trợ bạn bè nhưng vẫn đảm bảo được thử thách cá nhân.'</span>\n",
       "<span style=\"color: #7fbf7f; text-decoration-color: #7fbf7f\">│   </span><span style=\"font-weight: bold\">}</span>\n",
       "<span style=\"font-weight: bold\">}</span>\n",
       "</pre>\n"
      ],
      "text/plain": [
       "\u001b[1m{\u001b[0m\n",
       "\u001b[2;32m│   \u001b[0m\u001b[32m'learning_pace'\u001b[0m: \u001b[32m'chậm'\u001b[0m,\n",
       "\u001b[2;32m│   \u001b[0m\u001b[32m'engagement_style'\u001b[0m: \u001b[32m'thụ động'\u001b[0m,\n",
       "\u001b[2;32m│   \u001b[0m\u001b[32m'special_notes'\u001b[0m: \u001b[32m'Lớp học có tốc độ tiếp thu chậm, học sinh dễ mất tập trung và cần các hoạt động tương tác để duy trì sự chú ý.'\u001b[0m,\n",
       "\u001b[2;32m│   \u001b[0m\u001b[32m'differentiation_strategy'\u001b[0m: \u001b[1m{\u001b[0m\n",
       "\u001b[2;32m│   │   \u001b[0m\u001b[32m'for_struggling_students'\u001b[0m: \u001b[32m'Chia nhỏ kiến thức thành các phần nhỏ, sử dụng nhiều ví dụ minh họa trực quan, cung cấp phiếu bài tập có gợi ý hoặc công thức mẫu. Thường xuyên kiểm tra mức độ hiểu bài và hỗ trợ cá nhân kịp thời. Khuyến khích làm việc nhóm nhỏ để hỗ trợ lẫn nhau.'\u001b[0m,\n",
       "\u001b[2;32m│   │   \u001b[0m\u001b[32m'for_advanced_students'\u001b[0m: \u001b[32m'Giao các bài tập nâng cao, yêu cầu chứng minh các tính chất phức tạp hơn hoặc giải các bài toán ứng dụng thực tế. Khuyến khích các em tự tìm hiểu thêm về các định lý liên quan hoặc các trường hợp đặc biệt. Cho phép các em hỗ trợ bạn bè nhưng vẫn đảm bảo được thử thách cá nhân.'\u001b[0m\n",
       "\u001b[2;32m│   \u001b[0m\u001b[1m}\u001b[0m\n",
       "\u001b[1m}\u001b[0m\n"
      ]
     },
     "metadata": {},
     "output_type": "display_data"
    },
    {
     "data": {
      "text/html": [
       "<pre style=\"white-space:pre;overflow-x:auto;line-height:normal;font-family:Menlo,'DejaVu Sans Mono',consolas,'Courier New',monospace\">\n",
       "<span style=\"color: #808000; text-decoration-color: #808000; font-weight: bold\">------- Hoàn thành bước: differentiated_instruction_advisor -------</span>\n",
       "</pre>\n"
      ],
      "text/plain": [
       "\n",
       "\u001b[1;33m------- Hoàn thành bước: differentiated_instruction_advisor -------\u001b[0m\n"
      ]
     },
     "metadata": {},
     "output_type": "display_data"
    },
    {
     "data": {
      "text/html": [
       "<pre style=\"white-space:pre;overflow-x:auto;line-height:normal;font-family:Menlo,'DejaVu Sans Mono',consolas,'Courier New',monospace\">\n",
       "<span style=\"color: #008080; text-decoration-color: #008080; font-weight: bold\">&gt;</span> `Agent: Pedagogy Strategist` <span style=\"font-weight: bold\">(</span>v7.<span style=\"color: #008080; text-decoration-color: #008080; font-weight: bold\">5</span><span style=\"font-weight: bold\">)</span> đang xây dựng chiến lược sư phạm chi tiết<span style=\"color: #808000; text-decoration-color: #808000\">...</span>\n",
       "</pre>\n"
      ],
      "text/plain": [
       "\n",
       "\u001b[1;36m>\u001b[0m `Agent: Pedagogy Strategist` \u001b[1m(\u001b[0mv7.\u001b[1;36m5\u001b[0m\u001b[1m)\u001b[0m đang xây dựng chiến lược sư phạm chi tiết\u001b[33m...\u001b[0m\n"
      ]
     },
     "metadata": {},
     "output_type": "display_data"
    },
    {
     "data": {
      "text/html": [
       "<pre style=\"white-space:pre;overflow-x:auto;line-height:normal;font-family:Menlo,'DejaVu Sans Mono',consolas,'Courier New',monospace\"><span style=\"color: #008000; text-decoration-color: #008000; font-weight: bold\">✔️ Chiến lược sư phạm chi tiết:</span>\n",
       "</pre>\n"
      ],
      "text/plain": [
       "\u001b[1;32m✔️ Chiến lược sư phạm chi tiết:\u001b[0m\n"
      ]
     },
     "metadata": {},
     "output_type": "display_data"
    },
    {
     "data": {
      "text/html": [
       "<pre style=\"white-space:pre;overflow-x:auto;line-height:normal;font-family:Menlo,'DejaVu Sans Mono',consolas,'Courier New',monospace\"><span style=\"font-weight: bold\">{</span>\n",
       "<span style=\"color: #7fbf7f; text-decoration-color: #7fbf7f\">│   </span><span style=\"color: #008000; text-decoration-color: #008000\">'name'</span>: <span style=\"color: #008000; text-decoration-color: #008000\">'Dạy học hợp tác (Cooperative Learning)'</span>,\n",
       "<span style=\"color: #7fbf7f; text-decoration-color: #7fbf7f\">│   </span><span style=\"color: #008000; text-decoration-color: #008000\">'rationale'</span>: <span style=\"color: #008000; text-decoration-color: #008000\">'Phương pháp dạy học hợp tác rất phù hợp với lớp học có tốc độ tiếp thu chậm và học sinh dễ mất tập trung. Việc làm việc nhóm giúp học sinh chủ động hơn trong học tập, tăng cường tương tác và hỗ trợ lẫn nhau, từ đó duy trì sự chú ý và tiếp thu kiến thức hiệu quả hơn. Học sinh yếu được bạn bè giúp đỡ, học sinh khá giỏi có cơ hội củng cố kiến thức và phát triển kỹ năng giải thích, hướng dẫn. Điều này cũng giúp giáo viên dễ dàng áp dụng chiến lược phân hóa đã đề ra, đảm bảo mọi học sinh đều đạt được mục tiêu bài học.'</span>,\n",
       "<span style=\"color: #7fbf7f; text-decoration-color: #7fbf7f\">│   </span><span style=\"color: #008000; text-decoration-color: #008000\">'key_actions'</span>: <span style=\"font-weight: bold\">[</span>\n",
       "<span style=\"color: #7fbf7f; text-decoration-color: #7fbf7f\">│   │   </span><span style=\"color: #008000; text-decoration-color: #008000\">'Giới thiệu khái niệm cơ bản và mục tiêu bài học'</span>,\n",
       "<span style=\"color: #7fbf7f; text-decoration-color: #7fbf7f\">│   │   </span><span style=\"color: #008000; text-decoration-color: #008000\">'Chia học sinh thành các nhóm nhỏ và phân công nhiệm vụ cụ thể (ví dụ: nhóm 1 tìm hiểu định nghĩa, nhóm 2 tìm hiểu tính chất, nhóm 3 thực hành vẽ)'</span>,\n",
       "<span style=\"color: #7fbf7f; text-decoration-color: #7fbf7f\">│   │   </span><span style=\"color: #008000; text-decoration-color: #008000\">'Học sinh làm việc nhóm, thảo luận, trao đổi và thực hành các nhiệm vụ được giao'</span>,\n",
       "<span style=\"color: #7fbf7f; text-decoration-color: #7fbf7f\">│   │   </span><span style=\"color: #008000; text-decoration-color: #008000\">'Giáo viên quan sát, hỗ trợ, gợi ý và giải đáp thắc mắc cho từng nhóm'</span>,\n",
       "<span style=\"color: #7fbf7f; text-decoration-color: #7fbf7f\">│   │   </span><span style=\"color: #008000; text-decoration-color: #008000\">'Đại diện các nhóm trình bày kết quả, sản phẩm của nhóm mình trước lớp'</span>,\n",
       "<span style=\"color: #7fbf7f; text-decoration-color: #7fbf7f\">│   │   </span><span style=\"color: #008000; text-decoration-color: #008000\">'Cả lớp cùng nhận xét, bổ sung và giáo viên tổng kết, hệ thống hóa kiến thức'</span>,\n",
       "<span style=\"color: #7fbf7f; text-decoration-color: #7fbf7f\">│   │   </span><span style=\"color: #008000; text-decoration-color: #008000\">'Giao bài tập củng cố và bài tập nâng cao phù hợp với từng đối tượng học sinh'</span>\n",
       "<span style=\"color: #7fbf7f; text-decoration-color: #7fbf7f\">│   </span><span style=\"font-weight: bold\">]</span>\n",
       "<span style=\"font-weight: bold\">}</span>\n",
       "</pre>\n"
      ],
      "text/plain": [
       "\u001b[1m{\u001b[0m\n",
       "\u001b[2;32m│   \u001b[0m\u001b[32m'name'\u001b[0m: \u001b[32m'Dạy học hợp tác \u001b[0m\u001b[32m(\u001b[0m\u001b[32mCooperative Learning\u001b[0m\u001b[32m)\u001b[0m\u001b[32m'\u001b[0m,\n",
       "\u001b[2;32m│   \u001b[0m\u001b[32m'rationale'\u001b[0m: \u001b[32m'Phương pháp dạy học hợp tác rất phù hợp với lớp học có tốc độ tiếp thu chậm và học sinh dễ mất tập trung. Việc làm việc nhóm giúp học sinh chủ động hơn trong học tập, tăng cường tương tác và hỗ trợ lẫn nhau, từ đó duy trì sự chú ý và tiếp thu kiến thức hiệu quả hơn. Học sinh yếu được bạn bè giúp đỡ, học sinh khá giỏi có cơ hội củng cố kiến thức và phát triển kỹ năng giải thích, hướng dẫn. Điều này cũng giúp giáo viên dễ dàng áp dụng chiến lược phân hóa đã đề ra, đảm bảo mọi học sinh đều đạt được mục tiêu bài học.'\u001b[0m,\n",
       "\u001b[2;32m│   \u001b[0m\u001b[32m'key_actions'\u001b[0m: \u001b[1m[\u001b[0m\n",
       "\u001b[2;32m│   │   \u001b[0m\u001b[32m'Giới thiệu khái niệm cơ bản và mục tiêu bài học'\u001b[0m,\n",
       "\u001b[2;32m│   │   \u001b[0m\u001b[32m'Chia học sinh thành các nhóm nhỏ và phân công nhiệm vụ cụ thể \u001b[0m\u001b[32m(\u001b[0m\u001b[32mví dụ: nhóm 1 tìm hiểu định nghĩa, nhóm 2 tìm hiểu tính chất, nhóm 3 thực hành vẽ\u001b[0m\u001b[32m)\u001b[0m\u001b[32m'\u001b[0m,\n",
       "\u001b[2;32m│   │   \u001b[0m\u001b[32m'Học sinh làm việc nhóm, thảo luận, trao đổi và thực hành các nhiệm vụ được giao'\u001b[0m,\n",
       "\u001b[2;32m│   │   \u001b[0m\u001b[32m'Giáo viên quan sát, hỗ trợ, gợi ý và giải đáp thắc mắc cho từng nhóm'\u001b[0m,\n",
       "\u001b[2;32m│   │   \u001b[0m\u001b[32m'Đại diện các nhóm trình bày kết quả, sản phẩm của nhóm mình trước lớp'\u001b[0m,\n",
       "\u001b[2;32m│   │   \u001b[0m\u001b[32m'Cả lớp cùng nhận xét, bổ sung và giáo viên tổng kết, hệ thống hóa kiến thức'\u001b[0m,\n",
       "\u001b[2;32m│   │   \u001b[0m\u001b[32m'Giao bài tập củng cố và bài tập nâng cao phù hợp với từng đối tượng học sinh'\u001b[0m\n",
       "\u001b[2;32m│   \u001b[0m\u001b[1m]\u001b[0m\n",
       "\u001b[1m}\u001b[0m\n"
      ]
     },
     "metadata": {},
     "output_type": "display_data"
    },
    {
     "data": {
      "text/html": [
       "<pre style=\"white-space:pre;overflow-x:auto;line-height:normal;font-family:Menlo,'DejaVu Sans Mono',consolas,'Courier New',monospace\">\n",
       "<span style=\"color: #808000; text-decoration-color: #808000; font-weight: bold\">------- Hoàn thành bước: pedagogy_strategist -------</span>\n",
       "</pre>\n"
      ],
      "text/plain": [
       "\n",
       "\u001b[1;33m------- Hoàn thành bước: pedagogy_strategist -------\u001b[0m\n"
      ]
     },
     "metadata": {},
     "output_type": "display_data"
    },
    {
     "data": {
      "text/html": [
       "<pre style=\"white-space:pre;overflow-x:auto;line-height:normal;font-family:Menlo,'DejaVu Sans Mono',consolas,'Courier New',monospace\">\n",
       "<span style=\"color: #008080; text-decoration-color: #008080; font-weight: bold\">&gt;</span> `Agent: Pedagogical Architect` <span style=\"font-weight: bold\">(</span>v9.<span style=\"color: #008080; text-decoration-color: #008080; font-weight: bold\">4</span><span style=\"font-weight: bold\">)</span> đang thiết kế kịch bản buổi học<span style=\"color: #808000; text-decoration-color: #808000\">...</span>\n",
       "</pre>\n"
      ],
      "text/plain": [
       "\n",
       "\u001b[1;36m>\u001b[0m `Agent: Pedagogical Architect` \u001b[1m(\u001b[0mv9.\u001b[1;36m4\u001b[0m\u001b[1m)\u001b[0m đang thiết kế kịch bản buổi học\u001b[33m...\u001b[0m\n"
      ]
     },
     "metadata": {},
     "output_type": "display_data"
    },
    {
     "data": {
      "text/html": [
       "<pre style=\"white-space:pre;overflow-x:auto;line-height:normal;font-family:Menlo,'DejaVu Sans Mono',consolas,'Courier New',monospace\"><span style=\"color: #008000; text-decoration-color: #008000; font-weight: bold\">✔️ Bản thiết kế Sư phạm đã được tạo:</span>\n",
       "</pre>\n"
      ],
      "text/plain": [
       "\u001b[1;32m✔️ Bản thiết kế Sư phạm đã được tạo:\u001b[0m\n"
      ]
     },
     "metadata": {},
     "output_type": "display_data"
    },
    {
     "data": {
      "text/html": [
       "<pre style=\"white-space:pre;overflow-x:auto;line-height:normal;font-family:Menlo,'DejaVu Sans Mono',consolas,'Courier New',monospace\"><span style=\"font-weight: bold\">[</span>\n",
       "<span style=\"color: #7fbf7f; text-decoration-color: #7fbf7f\">│   </span><span style=\"color: #008000; text-decoration-color: #008000\">'Khởi động và Đặt vấn đề: Giáo viên đặt câu hỏi gợi mở về đường tròn và tam giác, chiếu hình ảnh/video minh họa các vật thể có hình dạng đường tròn ngoại tiếp/nội tiếp. Chia lớp thành các nhóm nhỏ (3-4 học sinh). Phát phiếu học tập số 1 yêu cầu các nhóm thảo luận về định nghĩa ban đầu và cách nhận biết cơ bản qua hình ảnh.'</span>,\n",
       "<span style=\"color: #7fbf7f; text-decoration-color: #7fbf7f\">│   </span><span style=\"color: #008000; text-decoration-color: #008000\">\"Khám phá và Xây dựng kiến thức: Các nhóm nhận phiếu học tập số 2. Phiếu này bao gồm các nhiệm vụ cụ thể: tìm hiểu định nghĩa chi tiết, tính chất, và thực hành 'thiết kế' (xác định) tâm và bán kính của đường tròn ngoại tiếp/nội tiếp tam giác bằng cách vẽ hình. Giáo viên đi từng nhóm quan sát, gợi ý, giải đáp thắc mắc, đảm bảo mọi thành viên đều tham gia và hỗ trợ lẫn nhau. Đối với học sinh yếu, có thể cung cấp gợi ý hoặc công thức mẫu. Đối với học sinh khá giỏi, yêu cầu chứng minh các tính chất đơn giản.\"</span>,\n",
       "<span style=\"color: #7fbf7f; text-decoration-color: #7fbf7f\">│   </span><span style=\"color: #008000; text-decoration-color: #008000\">\"Vận dụng và Trình bày sản phẩm: Các nhóm hoàn thành các bài tập vận dụng trong phiếu học tập số 3. Các bài tập này yêu cầu học sinh áp dụng kiến thức để giải quyết các tình huống cụ thể hoặc 'thiết kế' các hình vẽ phức tạp hơn. Đại diện 1-2 nhóm lên bảng trình bày cách giải/cách vẽ của nhóm mình. Các nhóm khác nhận xét, bổ sung. Giáo viên tổng kết, chuẩn hóa kiến thức, nhấn mạnh các lỗi thường gặp và các điểm cần lưu ý.\"</span>,\n",
       "<span style=\"color: #7fbf7f; text-decoration-color: #7fbf7f\">│   </span><span style=\"color: #008000; text-decoration-color: #008000\">'Củng cố và Mở rộng: Giáo viên giao bài tập về nhà phân hóa: bài tập cơ bản để củng cố cho tất cả học sinh, và bài tập nâng cao/ứng dụng thực tế cho học sinh khá giỏi. Khuyến khích học sinh tìm hiểu thêm về các trường hợp đặc biệt hoặc các ứng dụng của đường tròn ngoại tiếp/nội tiếp trong thực tế cuộc sống hoặc các lĩnh vực khác.'</span>\n",
       "<span style=\"font-weight: bold\">]</span>\n",
       "</pre>\n"
      ],
      "text/plain": [
       "\u001b[1m[\u001b[0m\n",
       "\u001b[2;32m│   \u001b[0m\u001b[32m'Khởi động và Đặt vấn đề: Giáo viên đặt câu hỏi gợi mở về đường tròn và tam giác, chiếu hình ảnh/video minh họa các vật thể có hình dạng đường tròn ngoại tiếp/nội tiếp. Chia lớp thành các nhóm nhỏ \u001b[0m\u001b[32m(\u001b[0m\u001b[32m3-4 học sinh\u001b[0m\u001b[32m)\u001b[0m\u001b[32m. Phát phiếu học tập số 1 yêu cầu các nhóm thảo luận về định nghĩa ban đầu và cách nhận biết cơ bản qua hình ảnh.'\u001b[0m,\n",
       "\u001b[2;32m│   \u001b[0m\u001b[32m\"Khám phá và Xây dựng kiến thức: Các nhóm nhận phiếu học tập số 2. Phiếu này bao gồm các nhiệm vụ cụ thể: tìm hiểu định nghĩa chi tiết, tính chất, và thực hành 'thiết kế' \u001b[0m\u001b[32m(\u001b[0m\u001b[32mxác định\u001b[0m\u001b[32m)\u001b[0m\u001b[32m tâm và bán kính của đường tròn ngoại tiếp/nội tiếp tam giác bằng cách vẽ hình. Giáo viên đi từng nhóm quan sát, gợi ý, giải đáp thắc mắc, đảm bảo mọi thành viên đều tham gia và hỗ trợ lẫn nhau. Đối với học sinh yếu, có thể cung cấp gợi ý hoặc công thức mẫu. Đối với học sinh khá giỏi, yêu cầu chứng minh các tính chất đơn giản.\"\u001b[0m,\n",
       "\u001b[2;32m│   \u001b[0m\u001b[32m\"Vận dụng và Trình bày sản phẩm: Các nhóm hoàn thành các bài tập vận dụng trong phiếu học tập số 3. Các bài tập này yêu cầu học sinh áp dụng kiến thức để giải quyết các tình huống cụ thể hoặc 'thiết kế' các hình vẽ phức tạp hơn. Đại diện 1-2 nhóm lên bảng trình bày cách giải/cách vẽ của nhóm mình. Các nhóm khác nhận xét, bổ sung. Giáo viên tổng kết, chuẩn hóa kiến thức, nhấn mạnh các lỗi thường gặp và các điểm cần lưu ý.\"\u001b[0m,\n",
       "\u001b[2;32m│   \u001b[0m\u001b[32m'Củng cố và Mở rộng: Giáo viên giao bài tập về nhà phân hóa: bài tập cơ bản để củng cố cho tất cả học sinh, và bài tập nâng cao/ứng dụng thực tế cho học sinh khá giỏi. Khuyến khích học sinh tìm hiểu thêm về các trường hợp đặc biệt hoặc các ứng dụng của đường tròn ngoại tiếp/nội tiếp trong thực tế cuộc sống hoặc các lĩnh vực khác.'\u001b[0m\n",
       "\u001b[1m]\u001b[0m\n"
      ]
     },
     "metadata": {},
     "output_type": "display_data"
    },
    {
     "data": {
      "text/html": [
       "<pre style=\"white-space:pre;overflow-x:auto;line-height:normal;font-family:Menlo,'DejaVu Sans Mono',consolas,'Courier New',monospace\">\n",
       "<span style=\"color: #808000; text-decoration-color: #808000; font-weight: bold\">------- Hoàn thành bước: pedagogical_architect -------</span>\n",
       "</pre>\n"
      ],
      "text/plain": [
       "\n",
       "\u001b[1;33m------- Hoàn thành bước: pedagogical_architect -------\u001b[0m\n"
      ]
     },
     "metadata": {},
     "output_type": "display_data"
    },
    {
     "data": {
      "text/html": [
       "<pre style=\"white-space:pre;overflow-x:auto;line-height:normal;font-family:Menlo,'DejaVu Sans Mono',consolas,'Courier New',monospace\">\n",
       "<span style=\"color: #008080; text-decoration-color: #008080; font-weight: bold\">&gt;</span> `Agent: Query Expansion` <span style=\"font-weight: bold\">(</span>v7.<span style=\"color: #008080; text-decoration-color: #008080; font-weight: bold\">5</span><span style=\"font-weight: bold\">)</span> đang phân tích yêu cầu<span style=\"color: #808000; text-decoration-color: #808000\">...</span>\n",
       "</pre>\n"
      ],
      "text/plain": [
       "\n",
       "\u001b[1;36m>\u001b[0m `Agent: Query Expansion` \u001b[1m(\u001b[0mv7.\u001b[1;36m5\u001b[0m\u001b[1m)\u001b[0m đang phân tích yêu cầu\u001b[33m...\u001b[0m\n"
      ]
     },
     "metadata": {},
     "output_type": "display_data"
    },
    {
     "data": {
      "text/html": [
       "<pre style=\"white-space:pre;overflow-x:auto;line-height:normal;font-family:Menlo,'DejaVu Sans Mono',consolas,'Courier New',monospace\"><span style=\"color: #008000; text-decoration-color: #008000; font-weight: bold\">✔️ Các truy vấn tìm kiếm đã được mở rộng:</span>\n",
       "</pre>\n"
      ],
      "text/plain": [
       "\u001b[1;32m✔️ Các truy vấn tìm kiếm đã được mở rộng:\u001b[0m\n"
      ]
     },
     "metadata": {},
     "output_type": "display_data"
    },
    {
     "data": {
      "text/html": [
       "<pre style=\"white-space:pre;overflow-x:auto;line-height:normal;font-family:Menlo,'DejaVu Sans Mono',consolas,'Courier New',monospace\"><span style=\"font-weight: bold\">[</span>\n",
       "<span style=\"color: #7fbf7f; text-decoration-color: #7fbf7f\">│   </span><span style=\"color: #008000; text-decoration-color: #008000\">'đường tròn ngoại tiếp và nội tiếp'</span>,\n",
       "<span style=\"color: #7fbf7f; text-decoration-color: #7fbf7f\">│   </span><span style=\"color: #008000; text-decoration-color: #008000\">'công thức tính bán kính đường tròn ngoại tiếp tam giác'</span>,\n",
       "<span style=\"color: #7fbf7f; text-decoration-color: #7fbf7f\">│   </span><span style=\"color: #008000; text-decoration-color: #008000\">'công thức tính bán kính đường tròn nội tiếp tam giác'</span>,\n",
       "<span style=\"color: #7fbf7f; text-decoration-color: #7fbf7f\">│   </span><span style=\"color: #008000; text-decoration-color: #008000\">'tâm đường tròn ngoại tiếp tam giác là gì'</span>,\n",
       "<span style=\"color: #7fbf7f; text-decoration-color: #7fbf7f\">│   </span><span style=\"color: #008000; text-decoration-color: #008000\">'tâm đường tròn nội tiếp tam giác là gì'</span>,\n",
       "<span style=\"color: #7fbf7f; text-decoration-color: #7fbf7f\">│   </span><span style=\"color: #008000; text-decoration-color: #008000\">'bài tập đường tròn ngoại tiếp và nội tiếp lớp 9'</span>,\n",
       "<span style=\"color: #7fbf7f; text-decoration-color: #7fbf7f\">│   </span><span style=\"color: #008000; text-decoration-color: #008000\">'chuyên đề đường tròn ngoại tiếp nội tiếp'</span>,\n",
       "<span style=\"color: #7fbf7f; text-decoration-color: #7fbf7f\">│   </span><span style=\"color: #008000; text-decoration-color: #008000\">'đường tròn ngoại tiếp tam giác vuông'</span>,\n",
       "<span style=\"color: #7fbf7f; text-decoration-color: #7fbf7f\">│   </span><span style=\"color: #008000; text-decoration-color: #008000\">'đường tròn nội tiếp tam giác đều'</span>,\n",
       "<span style=\"color: #7fbf7f; text-decoration-color: #7fbf7f\">│   </span><span style=\"color: #008000; text-decoration-color: #008000\">'mối liên hệ giữa đường tròn ngoại tiếp và nội tiếp'</span>,\n",
       "<span style=\"color: #7fbf7f; text-decoration-color: #7fbf7f\">│   </span><span style=\"color: #008000; text-decoration-color: #008000\">'cách vẽ đường tròn ngoại tiếp tam giác'</span>,\n",
       "<span style=\"color: #7fbf7f; text-decoration-color: #7fbf7f\">│   </span><span style=\"color: #008000; text-decoration-color: #008000\">'cách vẽ đường tròn nội tiếp tam giác'</span>,\n",
       "<span style=\"color: #7fbf7f; text-decoration-color: #7fbf7f\">│   </span><span style=\"color: #008000; text-decoration-color: #008000\">'ứng dụng của đường tròn ngoại tiếp nội tiếp trong hình học'</span>,\n",
       "<span style=\"color: #7fbf7f; text-decoration-color: #7fbf7f\">│   </span><span style=\"color: #008000; text-decoration-color: #008000\">'lý thuyết đường tròn ngoại tiếp nội tiếp'</span>,\n",
       "<span style=\"color: #7fbf7f; text-decoration-color: #7fbf7f\">│   </span><span style=\"color: #008000; text-decoration-color: #008000\">'phân biệt đường tròn ngoại tiếp và nội tiếp'</span>\n",
       "<span style=\"font-weight: bold\">]</span>\n",
       "</pre>\n"
      ],
      "text/plain": [
       "\u001b[1m[\u001b[0m\n",
       "\u001b[2;32m│   \u001b[0m\u001b[32m'đường tròn ngoại tiếp và nội tiếp'\u001b[0m,\n",
       "\u001b[2;32m│   \u001b[0m\u001b[32m'công thức tính bán kính đường tròn ngoại tiếp tam giác'\u001b[0m,\n",
       "\u001b[2;32m│   \u001b[0m\u001b[32m'công thức tính bán kính đường tròn nội tiếp tam giác'\u001b[0m,\n",
       "\u001b[2;32m│   \u001b[0m\u001b[32m'tâm đường tròn ngoại tiếp tam giác là gì'\u001b[0m,\n",
       "\u001b[2;32m│   \u001b[0m\u001b[32m'tâm đường tròn nội tiếp tam giác là gì'\u001b[0m,\n",
       "\u001b[2;32m│   \u001b[0m\u001b[32m'bài tập đường tròn ngoại tiếp và nội tiếp lớp 9'\u001b[0m,\n",
       "\u001b[2;32m│   \u001b[0m\u001b[32m'chuyên đề đường tròn ngoại tiếp nội tiếp'\u001b[0m,\n",
       "\u001b[2;32m│   \u001b[0m\u001b[32m'đường tròn ngoại tiếp tam giác vuông'\u001b[0m,\n",
       "\u001b[2;32m│   \u001b[0m\u001b[32m'đường tròn nội tiếp tam giác đều'\u001b[0m,\n",
       "\u001b[2;32m│   \u001b[0m\u001b[32m'mối liên hệ giữa đường tròn ngoại tiếp và nội tiếp'\u001b[0m,\n",
       "\u001b[2;32m│   \u001b[0m\u001b[32m'cách vẽ đường tròn ngoại tiếp tam giác'\u001b[0m,\n",
       "\u001b[2;32m│   \u001b[0m\u001b[32m'cách vẽ đường tròn nội tiếp tam giác'\u001b[0m,\n",
       "\u001b[2;32m│   \u001b[0m\u001b[32m'ứng dụng của đường tròn ngoại tiếp nội tiếp trong hình học'\u001b[0m,\n",
       "\u001b[2;32m│   \u001b[0m\u001b[32m'lý thuyết đường tròn ngoại tiếp nội tiếp'\u001b[0m,\n",
       "\u001b[2;32m│   \u001b[0m\u001b[32m'phân biệt đường tròn ngoại tiếp và nội tiếp'\u001b[0m\n",
       "\u001b[1m]\u001b[0m\n"
      ]
     },
     "metadata": {},
     "output_type": "display_data"
    },
    {
     "data": {
      "text/html": [
       "<pre style=\"white-space:pre;overflow-x:auto;line-height:normal;font-family:Menlo,'DejaVu Sans Mono',consolas,'Courier New',monospace\">\n",
       "<span style=\"color: #808000; text-decoration-color: #808000; font-weight: bold\">------- Hoàn thành bước: query_expansion -------</span>\n",
       "</pre>\n"
      ],
      "text/plain": [
       "\n",
       "\u001b[1;33m------- Hoàn thành bước: query_expansion -------\u001b[0m\n"
      ]
     },
     "metadata": {},
     "output_type": "display_data"
    },
    {
     "data": {
      "text/html": [
       "<pre style=\"white-space:pre;overflow-x:auto;line-height:normal;font-family:Menlo,'DejaVu Sans Mono',consolas,'Courier New',monospace\">\n",
       "<span style=\"color: #008080; text-decoration-color: #008080; font-weight: bold\">&gt;</span> `Agent: Resource Scout` <span style=\"font-weight: bold\">(</span>v8.<span style=\"color: #008080; text-decoration-color: #008080; font-weight: bold\">1</span> - Sửa lỗi<span style=\"font-weight: bold\">)</span> đang tìm kiếm và sàng lọc<span style=\"color: #808000; text-decoration-color: #808000\">...</span>\n",
       "</pre>\n"
      ],
      "text/plain": [
       "\n",
       "\u001b[1;36m>\u001b[0m `Agent: Resource Scout` \u001b[1m(\u001b[0mv8.\u001b[1;36m1\u001b[0m - Sửa lỗi\u001b[1m)\u001b[0m đang tìm kiếm và sàng lọc\u001b[33m...\u001b[0m\n"
      ]
     },
     "metadata": {},
     "output_type": "display_data"
    },
    {
     "data": {
      "text/html": [
       "<pre style=\"white-space:pre;overflow-x:auto;line-height:normal;font-family:Menlo,'DejaVu Sans Mono',consolas,'Courier New',monospace\">\n",
       "<span style=\"color: #008080; text-decoration-color: #008080; font-weight: bold\">&gt;</span> Tìm thấy <span style=\"color: #008080; text-decoration-color: #008080; font-weight: bold\">75</span> tài liệu, sàng lọc còn <span style=\"color: #008080; text-decoration-color: #008080; font-weight: bold\">8</span> đoạn văn bản độc nhất.\n",
       "</pre>\n"
      ],
      "text/plain": [
       "\n",
       "\u001b[1;36m>\u001b[0m Tìm thấy \u001b[1;36m75\u001b[0m tài liệu, sàng lọc còn \u001b[1;36m8\u001b[0m đoạn văn bản độc nhất.\n"
      ]
     },
     "metadata": {},
     "output_type": "display_data"
    },
    {
     "data": {
      "text/html": [
       "<pre style=\"white-space:pre;overflow-x:auto;line-height:normal;font-family:Menlo,'DejaVu Sans Mono',consolas,'Courier New',monospace\"><span style=\"color: #008000; text-decoration-color: #008000; font-weight: bold\">✔️ Tài liệu RAG cuối cùng:</span>\n",
       "</pre>\n"
      ],
      "text/plain": [
       "\u001b[1;32m✔️ Tài liệu RAG cuối cùng:\u001b[0m\n"
      ]
     },
     "metadata": {},
     "output_type": "display_data"
    },
    {
     "data": {
      "text/html": [
       "<pre style=\"white-space:pre;overflow-x:auto;line-height:normal;font-family:Menlo,'DejaVu Sans Mono',consolas,'Courier New',monospace\"><span style=\"font-weight: bold\">{</span>\n",
       "<span style=\"color: #7fbf7f; text-decoration-color: #7fbf7f\">│   </span><span style=\"color: #008000; text-decoration-color: #008000\">'source'</span>: <span style=\"color: #008000; text-decoration-color: #008000\">'Sách giáo khoa (từ RAG - đã sàng lọc)'</span>,\n",
       "<span style=\"color: #7fbf7f; text-decoration-color: #7fbf7f\">│   </span><span style=\"color: #008000; text-decoration-color: #008000\">'summary'</span>: <span style=\"color: #008000; text-decoration-color: #008000\">'Chào các em, với vai trò là một giáo viên giàu kinh nghiệm, thầy/cô sẽ tổng hợp kiến thức cốt lõi về chủ đề \"Đường tròn ngoại tiếp và đường tròn nội tiếp\" dựa **chỉ** vào các đoạn văn bản mà chúng ta có.\\n\\n---\\n\\n**TÓM TẮT KIẾN THỨC CỐT LÕI VỀ ĐƯỜNG TRÒN NGOẠI TIẾP VÀ ĐƯỜNG TRÒN NỘI TIẾP**\\n\\nDựa trên các đoạn văn bản được cung cấp, chúng ta có thể suy luận được một số kiến thức về đường tròn ngoại tiếp, trong khi thông tin về đường tròn nội tiếp không được đề cập.\\n\\n**1. Về Đường tròn ngoại tiếp**\\n\\n*   **1.1. Định nghĩa (Suy luận từ Bài 5.2 và Bài 5.4a):**\\n    *   Đường tròn ngoại tiếp một đa giác là đường tròn đi qua tất cả các đỉnh của đa giác đó. Các ví dụ được đề cập trong bài tập là đường tròn ngoại tiếp tam giác (Bài 5.2) và đường tròn ngoại tiếp hình vuông (Bài 5.4a).\\n\\n*   **1.2. Xác định tâm và bán kính (Suy luận từ Bài 5.2, Bài 5.4a, Bài 5.4b):**\\n    *   **Đối với tam giác vuông (Bài 5.2):** Các đỉnh của tam giác vuông thuộc cùng một đường tròn. Bán kính của đường tròn này có thể được tính toán.\\n    *   **Đối với hình vuông (Bài 5.4a, Bài 5.4b):**\\n        *   Có một đường tròn đi qua bốn đỉnh của hình vuông.\\n        *   Tâm của đường tròn này là giao điểm của hai đường chéo của hình vuông (ví dụ: điểm E trong Bài 5.4a).\\n        *   Tâm này cũng là tâm đối xứng của đường tròn.\\n        *   Các đường chéo của hình vuông và các đường thẳng đi qua tâm và trung điểm các cạnh đối diện là các trục đối xứng của đường tròn.\\n        *   Bán kính của đường tròn có thể tính được nếu biết độ dài cạnh của hình vuông.\\n\\n**2. Về Đường tròn nội tiếp**\\n\\n*   **2.1. Thông tin trong văn bản:**\\n    *   Các đoạn văn bản được cung cấp không chứa thông tin về định nghĩa hay tính chất của đường tròn nội tiếp. Do đó, không thể tổng hợp kiến thức về chủ đề này dựa trên nguồn tài liệu hiện có.\\n\\n---\\nHy vọng bản tóm tắt này giúp các em nắm được những điểm cốt lõi từ các bài tập và đoạn văn bản đã cho.'</span>\n",
       "<span style=\"font-weight: bold\">}</span>\n",
       "</pre>\n"
      ],
      "text/plain": [
       "\u001b[1m{\u001b[0m\n",
       "\u001b[2;32m│   \u001b[0m\u001b[32m'source'\u001b[0m: \u001b[32m'Sách giáo khoa \u001b[0m\u001b[32m(\u001b[0m\u001b[32mtừ RAG - đã sàng lọc\u001b[0m\u001b[32m)\u001b[0m\u001b[32m'\u001b[0m,\n",
       "\u001b[2;32m│   \u001b[0m\u001b[32m'summary'\u001b[0m: \u001b[32m'Chào các em, với vai trò là một giáo viên giàu kinh nghiệm, thầy/cô sẽ tổng hợp kiến thức cốt lõi về chủ đề \"Đường tròn ngoại tiếp và đường tròn nội tiếp\" dựa **chỉ** vào các đoạn văn bản mà chúng ta có.\\n\\n---\\n\\n**TÓM TẮT KIẾN THỨC CỐT LÕI VỀ ĐƯỜNG TRÒN NGOẠI TIẾP VÀ ĐƯỜNG TRÒN NỘI TIẾP**\\n\\nDựa trên các đoạn văn bản được cung cấp, chúng ta có thể suy luận được một số kiến thức về đường tròn ngoại tiếp, trong khi thông tin về đường tròn nội tiếp không được đề cập.\\n\\n**1. Về Đường tròn ngoại tiếp**\\n\\n*   **1.1. Định nghĩa \u001b[0m\u001b[32m(\u001b[0m\u001b[32mSuy luận từ Bài 5.2 và Bài 5.4a\u001b[0m\u001b[32m)\u001b[0m\u001b[32m:**\\n    *   Đường tròn ngoại tiếp một đa giác là đường tròn đi qua tất cả các đỉnh của đa giác đó. Các ví dụ được đề cập trong bài tập là đường tròn ngoại tiếp tam giác \u001b[0m\u001b[32m(\u001b[0m\u001b[32mBài 5.2\u001b[0m\u001b[32m)\u001b[0m\u001b[32m và đường tròn ngoại tiếp hình vuông \u001b[0m\u001b[32m(\u001b[0m\u001b[32mBài 5.4a\u001b[0m\u001b[32m)\u001b[0m\u001b[32m.\\n\\n*   **1.2. Xác định tâm và bán kính \u001b[0m\u001b[32m(\u001b[0m\u001b[32mSuy luận từ Bài 5.2, Bài 5.4a, Bài 5.4b\u001b[0m\u001b[32m)\u001b[0m\u001b[32m:**\\n    *   **Đối với tam giác vuông \u001b[0m\u001b[32m(\u001b[0m\u001b[32mBài 5.2\u001b[0m\u001b[32m)\u001b[0m\u001b[32m:** Các đỉnh của tam giác vuông thuộc cùng một đường tròn. Bán kính của đường tròn này có thể được tính toán.\\n    *   **Đối với hình vuông \u001b[0m\u001b[32m(\u001b[0m\u001b[32mBài 5.4a, Bài 5.4b\u001b[0m\u001b[32m)\u001b[0m\u001b[32m:**\\n        *   Có một đường tròn đi qua bốn đỉnh của hình vuông.\\n        *   Tâm của đường tròn này là giao điểm của hai đường chéo của hình vuông \u001b[0m\u001b[32m(\u001b[0m\u001b[32mví dụ: điểm E trong Bài 5.4a\u001b[0m\u001b[32m)\u001b[0m\u001b[32m.\\n        *   Tâm này cũng là tâm đối xứng của đường tròn.\\n        *   Các đường chéo của hình vuông và các đường thẳng đi qua tâm và trung điểm các cạnh đối diện là các trục đối xứng của đường tròn.\\n        *   Bán kính của đường tròn có thể tính được nếu biết độ dài cạnh của hình vuông.\\n\\n**2. Về Đường tròn nội tiếp**\\n\\n*   **2.1. Thông tin trong văn bản:**\\n    *   Các đoạn văn bản được cung cấp không chứa thông tin về định nghĩa hay tính chất của đường tròn nội tiếp. Do đó, không thể tổng hợp kiến thức về chủ đề này dựa trên nguồn tài liệu hiện có.\\n\\n---\\nHy vọng bản tóm tắt này giúp các em nắm được những điểm cốt lõi từ các bài tập và đoạn văn bản đã cho.'\u001b[0m\n",
       "\u001b[1m}\u001b[0m\n"
      ]
     },
     "metadata": {},
     "output_type": "display_data"
    },
    {
     "data": {
      "text/html": [
       "<pre style=\"white-space:pre;overflow-x:auto;line-height:normal;font-family:Menlo,'DejaVu Sans Mono',consolas,'Courier New',monospace\">\n",
       "<span style=\"color: #808000; text-decoration-color: #808000; font-weight: bold\">------- Hoàn thành bước: resource_scout -------</span>\n",
       "</pre>\n"
      ],
      "text/plain": [
       "\n",
       "\u001b[1;33m------- Hoàn thành bước: resource_scout -------\u001b[0m\n"
      ]
     },
     "metadata": {},
     "output_type": "display_data"
    },
    {
     "data": {
      "text/html": [
       "<pre style=\"white-space:pre;overflow-x:auto;line-height:normal;font-family:Menlo,'DejaVu Sans Mono',consolas,'Courier New',monospace\">\n",
       "<span style=\"color: #008080; text-decoration-color: #008080; font-weight: bold\">&gt;</span> `Agent: Plan Delegator` <span style=\"font-weight: bold\">(</span>v10.<span style=\"color: #008080; text-decoration-color: #008080; font-weight: bold\">0</span> - Nhà hoạch định Thông thái<span style=\"font-weight: bold\">)</span> đang triển khai<span style=\"color: #808000; text-decoration-color: #808000\">...</span>\n",
       "</pre>\n"
      ],
      "text/plain": [
       "\n",
       "\u001b[1;36m>\u001b[0m `Agent: Plan Delegator` \u001b[1m(\u001b[0mv10.\u001b[1;36m0\u001b[0m - Nhà hoạch định Thông thái\u001b[1m)\u001b[0m đang triển khai\u001b[33m...\u001b[0m\n"
      ]
     },
     "metadata": {},
     "output_type": "display_data"
    },
    {
     "data": {
      "text/html": [
       "<pre style=\"white-space:pre;overflow-x:auto;line-height:normal;font-family:Menlo,'DejaVu Sans Mono',consolas,'Courier New',monospace\"><span style=\"color: #008000; text-decoration-color: #008000; font-weight: bold\">✔️ Đã tạo </span><span style=\"color: #008000; text-decoration-color: #008000; font-weight: bold\">4</span><span style=\"color: #008000; text-decoration-color: #008000; font-weight: bold\"> nhiệm vụ chi tiết:</span>\n",
       "</pre>\n"
      ],
      "text/plain": [
       "\u001b[1;32m✔️ Đã tạo \u001b[0m\u001b[1;32m4\u001b[0m\u001b[1;32m nhiệm vụ chi tiết:\u001b[0m\n"
      ]
     },
     "metadata": {},
     "output_type": "display_data"
    },
    {
     "data": {
      "text/html": [
       "<pre style=\"white-space:pre;overflow-x:auto;line-height:normal;font-family:Menlo,'DejaVu Sans Mono',consolas,'Courier New',monospace\"><span style=\"font-weight: bold\">[</span>\n",
       "<span style=\"color: #7fbf7f; text-decoration-color: #7fbf7f\">│   </span><span style=\"font-weight: bold\">{</span>\n",
       "<span style=\"color: #7fbf7f; text-decoration-color: #7fbf7f\">│   │   </span><span style=\"color: #008000; text-decoration-color: #008000\">'task_id'</span>: <span style=\"color: #008080; text-decoration-color: #008080; font-weight: bold\">0</span>,\n",
       "<span style=\"color: #7fbf7f; text-decoration-color: #7fbf7f\">│   │   </span><span style=\"color: #008000; text-decoration-color: #008000\">'task_name'</span>: <span style=\"color: #008000; text-decoration-color: #008000\">'Khởi động và Đặt vấn đề'</span>,\n",
       "<span style=\"color: #7fbf7f; text-decoration-color: #7fbf7f\">│   │   </span><span style=\"color: #008000; text-decoration-color: #008000\">'task_description'</span>: <span style=\"color: #008000; text-decoration-color: #008000\">'Giáo viên đặt câu hỏi gợi mở về đường tròn và tam giác, chiếu hình ảnh/video minh họa các vật thể có hình dạng đường tròn ngoại tiếp/nội tiếp. Chia lớp thành các nhóm nhỏ (3-4 học sinh). Phát phiếu học tập số 1 yêu cầu các nhóm thảo luận về định nghĩa ban đầu và cách nhận biết cơ bản qua hình ảnh.'</span>,\n",
       "<span style=\"color: #7fbf7f; text-decoration-color: #7fbf7f\">│   │   </span><span style=\"color: #008000; text-decoration-color: #008000\">'estimated_duration'</span>: <span style=\"color: #008080; text-decoration-color: #008080; font-weight: bold\">10</span>,\n",
       "<span style=\"color: #7fbf7f; text-decoration-color: #7fbf7f\">│   │   </span><span style=\"color: #008000; text-decoration-color: #008000\">'status'</span>: <span style=\"color: #008000; text-decoration-color: #008000\">'pending'</span>\n",
       "<span style=\"color: #7fbf7f; text-decoration-color: #7fbf7f\">│   </span><span style=\"font-weight: bold\">}</span>,\n",
       "<span style=\"color: #7fbf7f; text-decoration-color: #7fbf7f\">│   </span><span style=\"font-weight: bold\">{</span>\n",
       "<span style=\"color: #7fbf7f; text-decoration-color: #7fbf7f\">│   │   </span><span style=\"color: #008000; text-decoration-color: #008000\">'task_id'</span>: <span style=\"color: #008080; text-decoration-color: #008080; font-weight: bold\">1</span>,\n",
       "<span style=\"color: #7fbf7f; text-decoration-color: #7fbf7f\">│   │   </span><span style=\"color: #008000; text-decoration-color: #008000\">'task_name'</span>: <span style=\"color: #008000; text-decoration-color: #008000\">'Khám phá và Xây dựng kiến thức'</span>,\n",
       "<span style=\"color: #7fbf7f; text-decoration-color: #7fbf7f\">│   │   </span><span style=\"color: #008000; text-decoration-color: #008000\">'task_description'</span>: <span style=\"color: #008000; text-decoration-color: #008000\">\"Các nhóm nhận phiếu học tập số 2. Phiếu này bao gồm các nhiệm vụ cụ thể: tìm hiểu định nghĩa chi tiết, tính chất, và thực hành 'thiết kế' (xác định) tâm và bán kính của đường tròn ngoại tiếp/nội tiếp tam giác bằng cách vẽ hình. Giáo viên đi từng nhóm quan sát, gợi ý, giải đáp thắc mắc, đảm bảo mọi thành viên đều tham gia và hỗ trợ lẫn nhau. Đối với học sinh yếu, có thể cung cấp gợi ý hoặc công thức mẫu. Đối với học sinh khá giỏi, yêu cầu chứng minh các tính chất đơn giản.\"</span>,\n",
       "<span style=\"color: #7fbf7f; text-decoration-color: #7fbf7f\">│   │   </span><span style=\"color: #008000; text-decoration-color: #008000\">'estimated_duration'</span>: <span style=\"color: #008080; text-decoration-color: #008080; font-weight: bold\">45</span>,\n",
       "<span style=\"color: #7fbf7f; text-decoration-color: #7fbf7f\">│   │   </span><span style=\"color: #008000; text-decoration-color: #008000\">'status'</span>: <span style=\"color: #008000; text-decoration-color: #008000\">'pending'</span>\n",
       "<span style=\"color: #7fbf7f; text-decoration-color: #7fbf7f\">│   </span><span style=\"font-weight: bold\">}</span>,\n",
       "<span style=\"color: #7fbf7f; text-decoration-color: #7fbf7f\">│   </span><span style=\"font-weight: bold\">{</span>\n",
       "<span style=\"color: #7fbf7f; text-decoration-color: #7fbf7f\">│   │   </span><span style=\"color: #008000; text-decoration-color: #008000\">'task_id'</span>: <span style=\"color: #008080; text-decoration-color: #008080; font-weight: bold\">2</span>,\n",
       "<span style=\"color: #7fbf7f; text-decoration-color: #7fbf7f\">│   │   </span><span style=\"color: #008000; text-decoration-color: #008000\">'task_name'</span>: <span style=\"color: #008000; text-decoration-color: #008000\">'Vận dụng và Trình bày sản phẩm'</span>,\n",
       "<span style=\"color: #7fbf7f; text-decoration-color: #7fbf7f\">│   │   </span><span style=\"color: #008000; text-decoration-color: #008000\">'task_description'</span>: <span style=\"color: #008000; text-decoration-color: #008000\">\"Các nhóm hoàn thành các bài tập vận dụng trong phiếu học tập số 3. Các bài tập này yêu cầu học sinh áp dụng kiến thức để giải quyết các tình huống cụ thể hoặc 'thiết kế' các hình vẽ phức tạp hơn. Đại diện 1-2 nhóm lên bảng trình bày cách giải/cách vẽ của nhóm mình. Các nhóm khác nhận xét, bổ sung. Giáo viên tổng kết, chuẩn hóa kiến thức, nhấn mạnh các lỗi thường gặp và các điểm cần lưu ý.\"</span>,\n",
       "<span style=\"color: #7fbf7f; text-decoration-color: #7fbf7f\">│   │   </span><span style=\"color: #008000; text-decoration-color: #008000\">'estimated_duration'</span>: <span style=\"color: #008080; text-decoration-color: #008080; font-weight: bold\">30</span>,\n",
       "<span style=\"color: #7fbf7f; text-decoration-color: #7fbf7f\">│   │   </span><span style=\"color: #008000; text-decoration-color: #008000\">'status'</span>: <span style=\"color: #008000; text-decoration-color: #008000\">'pending'</span>\n",
       "<span style=\"color: #7fbf7f; text-decoration-color: #7fbf7f\">│   </span><span style=\"font-weight: bold\">}</span>,\n",
       "<span style=\"color: #7fbf7f; text-decoration-color: #7fbf7f\">│   </span><span style=\"font-weight: bold\">{</span>\n",
       "<span style=\"color: #7fbf7f; text-decoration-color: #7fbf7f\">│   │   </span><span style=\"color: #008000; text-decoration-color: #008000\">'task_id'</span>: <span style=\"color: #008080; text-decoration-color: #008080; font-weight: bold\">3</span>,\n",
       "<span style=\"color: #7fbf7f; text-decoration-color: #7fbf7f\">│   │   </span><span style=\"color: #008000; text-decoration-color: #008000\">'task_name'</span>: <span style=\"color: #008000; text-decoration-color: #008000\">'Củng cố và Mở rộng'</span>,\n",
       "<span style=\"color: #7fbf7f; text-decoration-color: #7fbf7f\">│   │   </span><span style=\"color: #008000; text-decoration-color: #008000\">'task_description'</span>: <span style=\"color: #008000; text-decoration-color: #008000\">'Giáo viên giao bài tập về nhà phân hóa: bài tập cơ bản để củng cố cho tất cả học sinh, và bài tập nâng cao/ứng dụng thực tế cho học sinh khá giỏi. Khuyến khích học sinh tìm hiểu thêm về các trường hợp đặc biệt hoặc các ứng dụng của đường tròn ngoại tiếp/nội tiếp trong thực tế cuộc sống hoặc các lĩnh vực khác.'</span>,\n",
       "<span style=\"color: #7fbf7f; text-decoration-color: #7fbf7f\">│   │   </span><span style=\"color: #008000; text-decoration-color: #008000\">'estimated_duration'</span>: <span style=\"color: #008080; text-decoration-color: #008080; font-weight: bold\">5</span>,\n",
       "<span style=\"color: #7fbf7f; text-decoration-color: #7fbf7f\">│   │   </span><span style=\"color: #008000; text-decoration-color: #008000\">'status'</span>: <span style=\"color: #008000; text-decoration-color: #008000\">'pending'</span>\n",
       "<span style=\"color: #7fbf7f; text-decoration-color: #7fbf7f\">│   </span><span style=\"font-weight: bold\">}</span>\n",
       "<span style=\"font-weight: bold\">]</span>\n",
       "</pre>\n"
      ],
      "text/plain": [
       "\u001b[1m[\u001b[0m\n",
       "\u001b[2;32m│   \u001b[0m\u001b[1m{\u001b[0m\n",
       "\u001b[2;32m│   │   \u001b[0m\u001b[32m'task_id'\u001b[0m: \u001b[1;36m0\u001b[0m,\n",
       "\u001b[2;32m│   │   \u001b[0m\u001b[32m'task_name'\u001b[0m: \u001b[32m'Khởi động và Đặt vấn đề'\u001b[0m,\n",
       "\u001b[2;32m│   │   \u001b[0m\u001b[32m'task_description'\u001b[0m: \u001b[32m'Giáo viên đặt câu hỏi gợi mở về đường tròn và tam giác, chiếu hình ảnh/video minh họa các vật thể có hình dạng đường tròn ngoại tiếp/nội tiếp. Chia lớp thành các nhóm nhỏ \u001b[0m\u001b[32m(\u001b[0m\u001b[32m3-4 học sinh\u001b[0m\u001b[32m)\u001b[0m\u001b[32m. Phát phiếu học tập số 1 yêu cầu các nhóm thảo luận về định nghĩa ban đầu và cách nhận biết cơ bản qua hình ảnh.'\u001b[0m,\n",
       "\u001b[2;32m│   │   \u001b[0m\u001b[32m'estimated_duration'\u001b[0m: \u001b[1;36m10\u001b[0m,\n",
       "\u001b[2;32m│   │   \u001b[0m\u001b[32m'status'\u001b[0m: \u001b[32m'pending'\u001b[0m\n",
       "\u001b[2;32m│   \u001b[0m\u001b[1m}\u001b[0m,\n",
       "\u001b[2;32m│   \u001b[0m\u001b[1m{\u001b[0m\n",
       "\u001b[2;32m│   │   \u001b[0m\u001b[32m'task_id'\u001b[0m: \u001b[1;36m1\u001b[0m,\n",
       "\u001b[2;32m│   │   \u001b[0m\u001b[32m'task_name'\u001b[0m: \u001b[32m'Khám phá và Xây dựng kiến thức'\u001b[0m,\n",
       "\u001b[2;32m│   │   \u001b[0m\u001b[32m'task_description'\u001b[0m: \u001b[32m\"Các nhóm nhận phiếu học tập số 2. Phiếu này bao gồm các nhiệm vụ cụ thể: tìm hiểu định nghĩa chi tiết, tính chất, và thực hành 'thiết kế' \u001b[0m\u001b[32m(\u001b[0m\u001b[32mxác định\u001b[0m\u001b[32m)\u001b[0m\u001b[32m tâm và bán kính của đường tròn ngoại tiếp/nội tiếp tam giác bằng cách vẽ hình. Giáo viên đi từng nhóm quan sát, gợi ý, giải đáp thắc mắc, đảm bảo mọi thành viên đều tham gia và hỗ trợ lẫn nhau. Đối với học sinh yếu, có thể cung cấp gợi ý hoặc công thức mẫu. Đối với học sinh khá giỏi, yêu cầu chứng minh các tính chất đơn giản.\"\u001b[0m,\n",
       "\u001b[2;32m│   │   \u001b[0m\u001b[32m'estimated_duration'\u001b[0m: \u001b[1;36m45\u001b[0m,\n",
       "\u001b[2;32m│   │   \u001b[0m\u001b[32m'status'\u001b[0m: \u001b[32m'pending'\u001b[0m\n",
       "\u001b[2;32m│   \u001b[0m\u001b[1m}\u001b[0m,\n",
       "\u001b[2;32m│   \u001b[0m\u001b[1m{\u001b[0m\n",
       "\u001b[2;32m│   │   \u001b[0m\u001b[32m'task_id'\u001b[0m: \u001b[1;36m2\u001b[0m,\n",
       "\u001b[2;32m│   │   \u001b[0m\u001b[32m'task_name'\u001b[0m: \u001b[32m'Vận dụng và Trình bày sản phẩm'\u001b[0m,\n",
       "\u001b[2;32m│   │   \u001b[0m\u001b[32m'task_description'\u001b[0m: \u001b[32m\"Các nhóm hoàn thành các bài tập vận dụng trong phiếu học tập số 3. Các bài tập này yêu cầu học sinh áp dụng kiến thức để giải quyết các tình huống cụ thể hoặc 'thiết kế' các hình vẽ phức tạp hơn. Đại diện 1-2 nhóm lên bảng trình bày cách giải/cách vẽ của nhóm mình. Các nhóm khác nhận xét, bổ sung. Giáo viên tổng kết, chuẩn hóa kiến thức, nhấn mạnh các lỗi thường gặp và các điểm cần lưu ý.\"\u001b[0m,\n",
       "\u001b[2;32m│   │   \u001b[0m\u001b[32m'estimated_duration'\u001b[0m: \u001b[1;36m30\u001b[0m,\n",
       "\u001b[2;32m│   │   \u001b[0m\u001b[32m'status'\u001b[0m: \u001b[32m'pending'\u001b[0m\n",
       "\u001b[2;32m│   \u001b[0m\u001b[1m}\u001b[0m,\n",
       "\u001b[2;32m│   \u001b[0m\u001b[1m{\u001b[0m\n",
       "\u001b[2;32m│   │   \u001b[0m\u001b[32m'task_id'\u001b[0m: \u001b[1;36m3\u001b[0m,\n",
       "\u001b[2;32m│   │   \u001b[0m\u001b[32m'task_name'\u001b[0m: \u001b[32m'Củng cố và Mở rộng'\u001b[0m,\n",
       "\u001b[2;32m│   │   \u001b[0m\u001b[32m'task_description'\u001b[0m: \u001b[32m'Giáo viên giao bài tập về nhà phân hóa: bài tập cơ bản để củng cố cho tất cả học sinh, và bài tập nâng cao/ứng dụng thực tế cho học sinh khá giỏi. Khuyến khích học sinh tìm hiểu thêm về các trường hợp đặc biệt hoặc các ứng dụng của đường tròn ngoại tiếp/nội tiếp trong thực tế cuộc sống hoặc các lĩnh vực khác.'\u001b[0m,\n",
       "\u001b[2;32m│   │   \u001b[0m\u001b[32m'estimated_duration'\u001b[0m: \u001b[1;36m5\u001b[0m,\n",
       "\u001b[2;32m│   │   \u001b[0m\u001b[32m'status'\u001b[0m: \u001b[32m'pending'\u001b[0m\n",
       "\u001b[2;32m│   \u001b[0m\u001b[1m}\u001b[0m\n",
       "\u001b[1m]\u001b[0m\n"
      ]
     },
     "metadata": {},
     "output_type": "display_data"
    },
    {
     "data": {
      "text/html": [
       "<pre style=\"white-space:pre;overflow-x:auto;line-height:normal;font-family:Menlo,'DejaVu Sans Mono',consolas,'Courier New',monospace\">\n",
       "<span style=\"color: #808000; text-decoration-color: #808000; font-weight: bold\">------- Hoàn thành bước: plan_delegator -------</span>\n",
       "</pre>\n"
      ],
      "text/plain": [
       "\n",
       "\u001b[1;33m------- Hoàn thành bước: plan_delegator -------\u001b[0m\n"
      ]
     },
     "metadata": {},
     "output_type": "display_data"
    },
    {
     "data": {
      "text/html": [
       "<pre style=\"white-space:pre;overflow-x:auto;line-height:normal;font-family:Menlo,'DejaVu Sans Mono',consolas,'Courier New',monospace\">\n",
       "<span style=\"color: #008080; text-decoration-color: #008080; font-weight: bold\">&gt;</span> `Router`: Đang kiểm tra nhiệm vụ<span style=\"color: #808000; text-decoration-color: #808000\">...</span>\n",
       "</pre>\n"
      ],
      "text/plain": [
       "\n",
       "\u001b[1;36m>\u001b[0m `Router`: Đang kiểm tra nhiệm vụ\u001b[33m...\u001b[0m\n"
      ]
     },
     "metadata": {},
     "output_type": "display_data"
    },
    {
     "data": {
      "text/html": [
       "<pre style=\"white-space:pre;overflow-x:auto;line-height:normal;font-family:Menlo,'DejaVu Sans Mono',consolas,'Courier New',monospace\">\n",
       "<span style=\"color: #008080; text-decoration-color: #008080; font-weight: bold\">&gt;</span> Nhiệm vụ tiếp theo: <span style=\"color: #008000; text-decoration-color: #008000\">'Khởi động và Đặt vấn đề'</span> <span style=\"font-weight: bold\">(</span>ID: <span style=\"color: #008080; text-decoration-color: #008080; font-weight: bold\">0</span><span style=\"font-weight: bold\">)</span>\n",
       "</pre>\n"
      ],
      "text/plain": [
       "\n",
       "\u001b[1;36m>\u001b[0m Nhiệm vụ tiếp theo: \u001b[32m'Khởi động và Đặt vấn đề'\u001b[0m \u001b[1m(\u001b[0mID: \u001b[1;36m0\u001b[0m\u001b[1m)\u001b[0m\n"
      ]
     },
     "metadata": {},
     "output_type": "display_data"
    },
    {
     "data": {
      "text/html": [
       "<pre style=\"white-space:pre;overflow-x:auto;line-height:normal;font-family:Menlo,'DejaVu Sans Mono',consolas,'Courier New',monospace\">\n",
       "<span style=\"color: #808000; text-decoration-color: #808000; font-weight: bold\">------- Hoàn thành bước: task_router -------</span>\n",
       "</pre>\n"
      ],
      "text/plain": [
       "\n",
       "\u001b[1;33m------- Hoàn thành bước: task_router -------\u001b[0m\n"
      ]
     },
     "metadata": {},
     "output_type": "display_data"
    },
    {
     "data": {
      "text/html": [
       "<pre style=\"white-space:pre;overflow-x:auto;line-height:normal;font-family:Menlo,'DejaVu Sans Mono',consolas,'Courier New',monospace\">\n",
       "<span style=\"color: #008080; text-decoration-color: #008080; font-weight: bold\">&gt;</span> `Agent: Task Dispatcher` đang giao việc<span style=\"color: #808000; text-decoration-color: #808000\">...</span>\n",
       "</pre>\n"
      ],
      "text/plain": [
       "\n",
       "\u001b[1;36m>\u001b[0m `Agent: Task Dispatcher` đang giao việc\u001b[33m...\u001b[0m\n"
      ]
     },
     "metadata": {},
     "output_type": "display_data"
    },
    {
     "data": {
      "text/html": [
       "<pre style=\"white-space:pre;overflow-x:auto;line-height:normal;font-family:Menlo,'DejaVu Sans Mono',consolas,'Courier New',monospace\">\n",
       "<span style=\"color: #008080; text-decoration-color: #008080; font-weight: bold\">&gt;</span> --- 🚚 `Dispatcher`: Giao nhiệm vụ cho `activity_designer`.\n",
       "</pre>\n"
      ],
      "text/plain": [
       "\n",
       "\u001b[1;36m>\u001b[0m --- 🚚 `Dispatcher`: Giao nhiệm vụ cho `activity_designer`.\n"
      ]
     },
     "metadata": {},
     "output_type": "display_data"
    },
    {
     "data": {
      "text/html": [
       "<pre style=\"white-space:pre;overflow-x:auto;line-height:normal;font-family:Menlo,'DejaVu Sans Mono',consolas,'Courier New',monospace\">\n",
       "<span style=\"color: #808000; text-decoration-color: #808000; font-weight: bold\">------- Hoàn thành bước: task_dispatcher -------</span>\n",
       "</pre>\n"
      ],
      "text/plain": [
       "\n",
       "\u001b[1;33m------- Hoàn thành bước: task_dispatcher -------\u001b[0m\n"
      ]
     },
     "metadata": {},
     "output_type": "display_data"
    },
    {
     "data": {
      "text/html": [
       "<pre style=\"white-space:pre;overflow-x:auto;line-height:normal;font-family:Menlo,'DejaVu Sans Mono',consolas,'Courier New',monospace\">\n",
       "<span style=\"color: #008080; text-decoration-color: #008080; font-weight: bold\">&gt;</span> `Agent: Activity Designer` <span style=\"font-weight: bold\">(</span>v10.<span style=\"color: #008080; text-decoration-color: #008080; font-weight: bold\">0</span><span style=\"font-weight: bold\">)</span> đang tạo nội dung theo kỷ luật<span style=\"color: #808000; text-decoration-color: #808000\">...</span>\n",
       "</pre>\n"
      ],
      "text/plain": [
       "\n",
       "\u001b[1;36m>\u001b[0m `Agent: Activity Designer` \u001b[1m(\u001b[0mv10.\u001b[1;36m0\u001b[0m\u001b[1m)\u001b[0m đang tạo nội dung theo kỷ luật\u001b[33m...\u001b[0m\n"
      ]
     },
     "metadata": {},
     "output_type": "display_data"
    },
    {
     "data": {
      "text/html": [
       "<pre style=\"white-space:pre;overflow-x:auto;line-height:normal;font-family:Menlo,'DejaVu Sans Mono',consolas,'Courier New',monospace\"><span style=\"color: #008000; text-decoration-color: #008000; font-weight: bold\">✔️ Nội dung do Activity Designer tạo ra:</span>\n",
       "</pre>\n"
      ],
      "text/plain": [
       "\u001b[1;32m✔️ Nội dung do Activity Designer tạo ra:\u001b[0m\n"
      ]
     },
     "metadata": {},
     "output_type": "display_data"
    },
    {
     "data": {
      "text/html": [
       "<pre style=\"white-space:pre;overflow-x:auto;line-height:normal;font-family:Menlo,'DejaVu Sans Mono',consolas,'Courier New',monospace\"><span style=\"font-weight: bold\">{</span>\n",
       "<span style=\"color: #7fbf7f; text-decoration-color: #7fbf7f\">│   </span><span style=\"color: #008000; text-decoration-color: #008000\">'activity_name'</span>: <span style=\"color: #008000; text-decoration-color: #008000\">'Khởi động và Đặt vấn đề'</span>,\n",
       "<span style=\"color: #7fbf7f; text-decoration-color: #7fbf7f\">│   </span><span style=\"color: #008000; text-decoration-color: #008000\">'activity_type'</span>: <span style=\"color: #008000; text-decoration-color: #008000\">'Hoạt động cá nhân và chia sẻ chung'</span>,\n",
       "<span style=\"color: #7fbf7f; text-decoration-color: #7fbf7f\">│   </span><span style=\"color: #008000; text-decoration-color: #008000\">'duration_minutes'</span>: <span style=\"color: #008080; text-decoration-color: #008080; font-weight: bold\">10</span>,\n",
       "<span style=\"color: #7fbf7f; text-decoration-color: #7fbf7f\">│   </span><span style=\"color: #008000; text-decoration-color: #008000\">'teacher_actions'</span>: <span style=\"font-weight: bold\">[</span>\n",
       "<span style=\"color: #7fbf7f; text-decoration-color: #7fbf7f\">│   │   </span><span style=\"color: #008000; text-decoration-color: #008000\">'Giới thiệu mục tiêu hoạt động khởi động và đặt vấn đề.'</span>,\n",
       "<span style=\"color: #7fbf7f; text-decoration-color: #7fbf7f\">│   │   </span><span style=\"color: #008000; text-decoration-color: #008000\">'Trình bày câu hỏi/tình huống gợi mở (có thể dùng hình ảnh/video ngắn).'</span>,\n",
       "<span style=\"color: #7fbf7f; text-decoration-color: #7fbf7f\">│   │   </span><span style=\"color: #008000; text-decoration-color: #008000\">'Hướng dẫn học sinh suy nghĩ cá nhân và thảo luận cặp/nhóm nhỏ.'</span>,\n",
       "<span style=\"color: #7fbf7f; text-decoration-color: #7fbf7f\">│   │   </span><span style=\"color: #008000; text-decoration-color: #008000\">'Quan sát, lắng nghe, đi lại giữa các nhóm để hỗ trợ và gợi ý.'</span>,\n",
       "<span style=\"color: #7fbf7f; text-decoration-color: #7fbf7f\">│   │   </span><span style=\"color: #008000; text-decoration-color: #008000\">'Mời đại diện một vài nhóm/cá nhân chia sẻ ý kiến trước lớp.'</span>,\n",
       "<span style=\"color: #7fbf7f; text-decoration-color: #7fbf7f\">│   │   </span><span style=\"color: #008000; text-decoration-color: #008000\">'Tổng kết các ý kiến, dẫn dắt vào nội dung bài học mới.'</span>\n",
       "<span style=\"color: #7fbf7f; text-decoration-color: #7fbf7f\">│   </span><span style=\"font-weight: bold\">]</span>,\n",
       "<span style=\"color: #7fbf7f; text-decoration-color: #7fbf7f\">│   </span><span style=\"color: #008000; text-decoration-color: #008000\">'core_component'</span>: <span style=\"color: #008000; text-decoration-color: #008000\">'Học sinh suy nghĩ cá nhân (2 phút) về một câu hỏi/tình huống gợi mở liên quan đến chủ đề bài học mới. Sau đó, chia sẻ nhanh ý kiến của mình với bạn bên cạnh hoặc trong nhóm nhỏ (3 phút) và chuẩn bị 1-2 ý kiến để chia sẻ trước lớp (5 phút).'</span>,\n",
       "<span style=\"color: #7fbf7f; text-decoration-color: #7fbf7f\">│   </span><span style=\"color: #008000; text-decoration-color: #008000\">'extension_component'</span>: <span style=\"color: #008000; text-decoration-color: #008000\">'Nếu còn thời gian, học sinh có thể suy nghĩ thêm về các ví dụ thực tế khác liên quan đến câu hỏi/tình huống đã cho, hoặc đặt ra một câu hỏi mà các em muốn được giải đáp trong bài học chính thức.'</span>,\n",
       "<span style=\"color: #7fbf7f; text-decoration-color: #7fbf7f\">│   </span><span style=\"color: #008000; text-decoration-color: #008000\">'solution_guide'</span>: <span style=\"color: #008000; text-decoration-color: #008000\">\"Các câu hỏi gợi mở có thể bao gồm: 'Bạn đã từng gặp tình huống tương tự ở đâu?', 'Bạn nghĩ điều gì sẽ xảy ra nếu...?', 'Theo bạn, tại sao vấn đề này lại quan trọng?'. Mục tiêu là khơi gợi sự tò mò, kết nối kiến thức nền của học sinh và tạo động lực học tập cho bài mới.\"</span>,\n",
       "<span style=\"color: #7fbf7f; text-decoration-color: #7fbf7f\">│   </span><span style=\"color: #008000; text-decoration-color: #008000\">'differentiation'</span>: <span style=\"font-weight: bold\">{</span>\n",
       "<span style=\"color: #7fbf7f; text-decoration-color: #7fbf7f\">│   │   </span><span style=\"color: #008000; text-decoration-color: #008000\">'for_struggling_students'</span>: <span style=\"color: #008000; text-decoration-color: #008000\">'Giáo viên có thể cung cấp các câu hỏi gợi ý cụ thể hơn, từ khóa hoặc cho phép học sinh chỉ cần nêu một từ/cụm từ ngắn gọn. Khuyến khích các em lắng nghe ý kiến của bạn và bổ sung.'</span>,\n",
       "<span style=\"color: #7fbf7f; text-decoration-color: #7fbf7f\">│   │   </span><span style=\"color: #008000; text-decoration-color: #008000\">'for_advanced_students'</span>: <span style=\"color: #008000; text-decoration-color: #008000\">'Khuyến khích học sinh suy nghĩ về nhiều khía cạnh của vấn đề, liên hệ với kiến thức đã học hoặc các vấn đề xã hội rộng hơn. Yêu cầu các em đặt câu hỏi phản biện hoặc đề xuất giải pháp ban đầu.'</span>\n",
       "<span style=\"color: #7fbf7f; text-decoration-color: #7fbf7f\">│   </span><span style=\"font-weight: bold\">}</span>,\n",
       "<span style=\"color: #7fbf7f; text-decoration-color: #7fbf7f\">│   </span><span style=\"color: #008000; text-decoration-color: #008000\">'question_or_description'</span>: <span style=\"color: #008000; text-decoration-color: #008000\">'**Phần Cốt lõi:**\\nHọc sinh suy nghĩ cá nhân (2 phút) về một câu hỏi/tình huống gợi mở liên quan đến chủ đề bài học mới. Sau đó, chia sẻ nhanh ý kiến của mình với bạn bên cạnh hoặc trong nhóm nhỏ (3 phút) và chuẩn bị 1-2 ý kiến để chia sẻ trước lớp (5 phút).\\n\\n**Phần Mở rộng (nếu còn thời gian):**\\nNếu còn thời gian, học sinh có thể suy nghĩ thêm về các ví dụ thực tế khác liên quan đến câu hỏi/tình huống đã cho, hoặc đặt ra một câu hỏi mà các em muốn được giải đáp trong bài học chính thức.'</span>\n",
       "<span style=\"font-weight: bold\">}</span>\n",
       "</pre>\n"
      ],
      "text/plain": [
       "\u001b[1m{\u001b[0m\n",
       "\u001b[2;32m│   \u001b[0m\u001b[32m'activity_name'\u001b[0m: \u001b[32m'Khởi động và Đặt vấn đề'\u001b[0m,\n",
       "\u001b[2;32m│   \u001b[0m\u001b[32m'activity_type'\u001b[0m: \u001b[32m'Hoạt động cá nhân và chia sẻ chung'\u001b[0m,\n",
       "\u001b[2;32m│   \u001b[0m\u001b[32m'duration_minutes'\u001b[0m: \u001b[1;36m10\u001b[0m,\n",
       "\u001b[2;32m│   \u001b[0m\u001b[32m'teacher_actions'\u001b[0m: \u001b[1m[\u001b[0m\n",
       "\u001b[2;32m│   │   \u001b[0m\u001b[32m'Giới thiệu mục tiêu hoạt động khởi động và đặt vấn đề.'\u001b[0m,\n",
       "\u001b[2;32m│   │   \u001b[0m\u001b[32m'Trình bày câu hỏi/tình huống gợi mở \u001b[0m\u001b[32m(\u001b[0m\u001b[32mcó thể dùng hình ảnh/video ngắn\u001b[0m\u001b[32m)\u001b[0m\u001b[32m.'\u001b[0m,\n",
       "\u001b[2;32m│   │   \u001b[0m\u001b[32m'Hướng dẫn học sinh suy nghĩ cá nhân và thảo luận cặp/nhóm nhỏ.'\u001b[0m,\n",
       "\u001b[2;32m│   │   \u001b[0m\u001b[32m'Quan sát, lắng nghe, đi lại giữa các nhóm để hỗ trợ và gợi ý.'\u001b[0m,\n",
       "\u001b[2;32m│   │   \u001b[0m\u001b[32m'Mời đại diện một vài nhóm/cá nhân chia sẻ ý kiến trước lớp.'\u001b[0m,\n",
       "\u001b[2;32m│   │   \u001b[0m\u001b[32m'Tổng kết các ý kiến, dẫn dắt vào nội dung bài học mới.'\u001b[0m\n",
       "\u001b[2;32m│   \u001b[0m\u001b[1m]\u001b[0m,\n",
       "\u001b[2;32m│   \u001b[0m\u001b[32m'core_component'\u001b[0m: \u001b[32m'Học sinh suy nghĩ cá nhân \u001b[0m\u001b[32m(\u001b[0m\u001b[32m2 phút\u001b[0m\u001b[32m)\u001b[0m\u001b[32m về một câu hỏi/tình huống gợi mở liên quan đến chủ đề bài học mới. Sau đó, chia sẻ nhanh ý kiến của mình với bạn bên cạnh hoặc trong nhóm nhỏ \u001b[0m\u001b[32m(\u001b[0m\u001b[32m3 phút\u001b[0m\u001b[32m)\u001b[0m\u001b[32m và chuẩn bị 1-2 ý kiến để chia sẻ trước lớp \u001b[0m\u001b[32m(\u001b[0m\u001b[32m5 phút\u001b[0m\u001b[32m)\u001b[0m\u001b[32m.'\u001b[0m,\n",
       "\u001b[2;32m│   \u001b[0m\u001b[32m'extension_component'\u001b[0m: \u001b[32m'Nếu còn thời gian, học sinh có thể suy nghĩ thêm về các ví dụ thực tế khác liên quan đến câu hỏi/tình huống đã cho, hoặc đặt ra một câu hỏi mà các em muốn được giải đáp trong bài học chính thức.'\u001b[0m,\n",
       "\u001b[2;32m│   \u001b[0m\u001b[32m'solution_guide'\u001b[0m: \u001b[32m\"Các câu hỏi gợi mở có thể bao gồm: 'Bạn đã từng gặp tình huống tương tự ở đâu?', 'Bạn nghĩ điều gì sẽ xảy ra nếu...?', 'Theo bạn, tại sao vấn đề này lại quan trọng?'. Mục tiêu là khơi gợi sự tò mò, kết nối kiến thức nền của học sinh và tạo động lực học tập cho bài mới.\"\u001b[0m,\n",
       "\u001b[2;32m│   \u001b[0m\u001b[32m'differentiation'\u001b[0m: \u001b[1m{\u001b[0m\n",
       "\u001b[2;32m│   │   \u001b[0m\u001b[32m'for_struggling_students'\u001b[0m: \u001b[32m'Giáo viên có thể cung cấp các câu hỏi gợi ý cụ thể hơn, từ khóa hoặc cho phép học sinh chỉ cần nêu một từ/cụm từ ngắn gọn. Khuyến khích các em lắng nghe ý kiến của bạn và bổ sung.'\u001b[0m,\n",
       "\u001b[2;32m│   │   \u001b[0m\u001b[32m'for_advanced_students'\u001b[0m: \u001b[32m'Khuyến khích học sinh suy nghĩ về nhiều khía cạnh của vấn đề, liên hệ với kiến thức đã học hoặc các vấn đề xã hội rộng hơn. Yêu cầu các em đặt câu hỏi phản biện hoặc đề xuất giải pháp ban đầu.'\u001b[0m\n",
       "\u001b[2;32m│   \u001b[0m\u001b[1m}\u001b[0m,\n",
       "\u001b[2;32m│   \u001b[0m\u001b[32m'question_or_description'\u001b[0m: \u001b[32m'**Phần Cốt lõi:**\\nHọc sinh suy nghĩ cá nhân \u001b[0m\u001b[32m(\u001b[0m\u001b[32m2 phút\u001b[0m\u001b[32m)\u001b[0m\u001b[32m về một câu hỏi/tình huống gợi mở liên quan đến chủ đề bài học mới. Sau đó, chia sẻ nhanh ý kiến của mình với bạn bên cạnh hoặc trong nhóm nhỏ \u001b[0m\u001b[32m(\u001b[0m\u001b[32m3 phút\u001b[0m\u001b[32m)\u001b[0m\u001b[32m và chuẩn bị 1-2 ý kiến để chia sẻ trước lớp \u001b[0m\u001b[32m(\u001b[0m\u001b[32m5 phút\u001b[0m\u001b[32m)\u001b[0m\u001b[32m.\\n\\n**Phần Mở rộng \u001b[0m\u001b[32m(\u001b[0m\u001b[32mnếu còn thời gian\u001b[0m\u001b[32m)\u001b[0m\u001b[32m:**\\nNếu còn thời gian, học sinh có thể suy nghĩ thêm về các ví dụ thực tế khác liên quan đến câu hỏi/tình huống đã cho, hoặc đặt ra một câu hỏi mà các em muốn được giải đáp trong bài học chính thức.'\u001b[0m\n",
       "\u001b[1m}\u001b[0m\n"
      ]
     },
     "metadata": {},
     "output_type": "display_data"
    },
    {
     "data": {
      "text/html": [
       "<pre style=\"white-space:pre;overflow-x:auto;line-height:normal;font-family:Menlo,'DejaVu Sans Mono',consolas,'Courier New',monospace\">\n",
       "<span style=\"color: #808000; text-decoration-color: #808000; font-weight: bold\">------- Hoàn thành bước: activity_designer -------</span>\n",
       "</pre>\n"
      ],
      "text/plain": [
       "\n",
       "\u001b[1;33m------- Hoàn thành bước: activity_designer -------\u001b[0m\n"
      ]
     },
     "metadata": {},
     "output_type": "display_data"
    },
    {
     "data": {
      "text/html": [
       "<pre style=\"white-space:pre;overflow-x:auto;line-height:normal;font-family:Menlo,'DejaVu Sans Mono',consolas,'Courier New',monospace\">\n",
       "<span style=\"color: #008080; text-decoration-color: #008080; font-weight: bold\">&gt;</span> `Agent: Guardian Critic` <span style=\"font-weight: bold\">(</span>v10.<span style=\"color: #008080; text-decoration-color: #008080; font-weight: bold\">0</span><span style=\"font-weight: bold\">)</span> đang bảo vệ kế hoạch<span style=\"color: #808000; text-decoration-color: #808000\">...</span>\n",
       "</pre>\n"
      ],
      "text/plain": [
       "\n",
       "\u001b[1;36m>\u001b[0m `Agent: Guardian Critic` \u001b[1m(\u001b[0mv10.\u001b[1;36m0\u001b[0m\u001b[1m)\u001b[0m đang bảo vệ kế hoạch\u001b[33m...\u001b[0m\n"
      ]
     },
     "metadata": {},
     "output_type": "display_data"
    },
    {
     "data": {
      "text/html": [
       "<pre style=\"white-space:pre;overflow-x:auto;line-height:normal;font-family:Menlo,'DejaVu Sans Mono',consolas,'Courier New',monospace\"><span style=\"color: #808000; text-decoration-color: #808000; font-weight: bold\">⚠️  GUARDIAN PHẢN BIỆN: Hoạt động này có cấu trúc khá tốt nhưng không thực tế để hoàn thành trong </span><span style=\"color: #808000; text-decoration-color: #808000; font-weight: bold\">10</span><span style=\"color: #808000; text-decoration-color: #808000; font-weight: bold\"> phút. Phần cốt</span>\n",
       "<span style=\"color: #808000; text-decoration-color: #808000; font-weight: bold\">lõi dành cho học sinh đã chiếm trọn </span><span style=\"color: #808000; text-decoration-color: #808000; font-weight: bold\">10</span><span style=\"color: #808000; text-decoration-color: #808000; font-weight: bold\"> phút (</span><span style=\"color: #808000; text-decoration-color: #808000; font-weight: bold\">2</span><span style=\"color: #808000; text-decoration-color: #808000; font-weight: bold\"> phút cá nhân + </span><span style=\"color: #808000; text-decoration-color: #808000; font-weight: bold\">3</span><span style=\"color: #808000; text-decoration-color: #808000; font-weight: bold\"> phút nhóm + </span><span style=\"color: #808000; text-decoration-color: #808000; font-weight: bold\">5</span><span style=\"color: #808000; text-decoration-color: #808000; font-weight: bold\"> phút chia sẻ trước lớp), chưa tính </span>\n",
       "<span style=\"color: #808000; text-decoration-color: #808000; font-weight: bold\">thời gian giáo viên giới thiệu, trình bày câu hỏi, hướng dẫn, và đặc biệt là tổng kết, dẫn dắt vào bài mới. Để đảm </span>\n",
       "<span style=\"color: #808000; text-decoration-color: #808000; font-weight: bold\">bảo hiệu quả và tuân thủ thời gian, hoạt động cần được tinh gọn hơn. Hãy thiết kế lại một phiên bản hoạt động đơn </span>\n",
       "<span style=\"color: #808000; text-decoration-color: #808000; font-weight: bold\">giản hơn, ít bước hơn để khớp với thời gian </span><span style=\"color: #808000; text-decoration-color: #808000; font-weight: bold\">10</span><span style=\"color: #808000; text-decoration-color: #808000; font-weight: bold\"> phút đã cho.</span>\n",
       "</pre>\n"
      ],
      "text/plain": [
       "\u001b[1;33m⚠️  GUARDIAN PHẢN BIỆN: Hoạt động này có cấu trúc khá tốt nhưng không thực tế để hoàn thành trong \u001b[0m\u001b[1;33m10\u001b[0m\u001b[1;33m phút. Phần cốt\u001b[0m\n",
       "\u001b[1;33mlõi dành cho học sinh đã chiếm trọn \u001b[0m\u001b[1;33m10\u001b[0m\u001b[1;33m phút \u001b[0m\u001b[1;33m(\u001b[0m\u001b[1;33m2\u001b[0m\u001b[1;33m phút cá nhân + \u001b[0m\u001b[1;33m3\u001b[0m\u001b[1;33m phút nhóm + \u001b[0m\u001b[1;33m5\u001b[0m\u001b[1;33m phút chia sẻ trước lớp\u001b[0m\u001b[1;33m)\u001b[0m\u001b[1;33m, chưa tính \u001b[0m\n",
       "\u001b[1;33mthời gian giáo viên giới thiệu, trình bày câu hỏi, hướng dẫn, và đặc biệt là tổng kết, dẫn dắt vào bài mới. Để đảm \u001b[0m\n",
       "\u001b[1;33mbảo hiệu quả và tuân thủ thời gian, hoạt động cần được tinh gọn hơn. Hãy thiết kế lại một phiên bản hoạt động đơn \u001b[0m\n",
       "\u001b[1;33mgiản hơn, ít bước hơn để khớp với thời gian \u001b[0m\u001b[1;33m10\u001b[0m\u001b[1;33m phút đã cho.\u001b[0m\n"
      ]
     },
     "metadata": {},
     "output_type": "display_data"
    },
    {
     "data": {
      "text/html": [
       "<pre style=\"white-space:pre;overflow-x:auto;line-height:normal;font-family:Menlo,'DejaVu Sans Mono',consolas,'Courier New',monospace\">\n",
       "<span style=\"color: #808000; text-decoration-color: #808000; font-weight: bold\">------- Hoàn thành bước: content_validator -------</span>\n",
       "</pre>\n"
      ],
      "text/plain": [
       "\n",
       "\u001b[1;33m------- Hoàn thành bước: content_validator -------\u001b[0m\n"
      ]
     },
     "metadata": {},
     "output_type": "display_data"
    },
    {
     "data": {
      "text/html": [
       "<pre style=\"white-space:pre;overflow-x:auto;line-height:normal;font-family:Menlo,'DejaVu Sans Mono',consolas,'Courier New',monospace\">\n",
       "<span style=\"color: #008080; text-decoration-color: #008080; font-weight: bold\">&gt;</span> `Agent: Task Dispatcher` đang giao việc<span style=\"color: #808000; text-decoration-color: #808000\">...</span>\n",
       "</pre>\n"
      ],
      "text/plain": [
       "\n",
       "\u001b[1;36m>\u001b[0m `Agent: Task Dispatcher` đang giao việc\u001b[33m...\u001b[0m\n"
      ]
     },
     "metadata": {},
     "output_type": "display_data"
    },
    {
     "data": {
      "text/html": [
       "<pre style=\"white-space:pre;overflow-x:auto;line-height:normal;font-family:Menlo,'DejaVu Sans Mono',consolas,'Courier New',monospace\">\n",
       "<span style=\"color: #008080; text-decoration-color: #008080; font-weight: bold\">&gt;</span> --- 🚚 `Dispatcher`: Giao nhiệm vụ cho `activity_designer`.\n",
       "</pre>\n"
      ],
      "text/plain": [
       "\n",
       "\u001b[1;36m>\u001b[0m --- 🚚 `Dispatcher`: Giao nhiệm vụ cho `activity_designer`.\n"
      ]
     },
     "metadata": {},
     "output_type": "display_data"
    },
    {
     "data": {
      "text/html": [
       "<pre style=\"white-space:pre;overflow-x:auto;line-height:normal;font-family:Menlo,'DejaVu Sans Mono',consolas,'Courier New',monospace\">\n",
       "<span style=\"color: #808000; text-decoration-color: #808000; font-weight: bold\">------- Hoàn thành bước: task_dispatcher -------</span>\n",
       "</pre>\n"
      ],
      "text/plain": [
       "\n",
       "\u001b[1;33m------- Hoàn thành bước: task_dispatcher -------\u001b[0m\n"
      ]
     },
     "metadata": {},
     "output_type": "display_data"
    },
    {
     "data": {
      "text/html": [
       "<pre style=\"white-space:pre;overflow-x:auto;line-height:normal;font-family:Menlo,'DejaVu Sans Mono',consolas,'Courier New',monospace\">\n",
       "<span style=\"color: #008080; text-decoration-color: #008080; font-weight: bold\">&gt;</span> `Agent: Activity Designer` <span style=\"font-weight: bold\">(</span>v10.<span style=\"color: #008080; text-decoration-color: #008080; font-weight: bold\">0</span><span style=\"font-weight: bold\">)</span> đang tạo nội dung theo kỷ luật<span style=\"color: #808000; text-decoration-color: #808000\">...</span>\n",
       "</pre>\n"
      ],
      "text/plain": [
       "\n",
       "\u001b[1;36m>\u001b[0m `Agent: Activity Designer` \u001b[1m(\u001b[0mv10.\u001b[1;36m0\u001b[0m\u001b[1m)\u001b[0m đang tạo nội dung theo kỷ luật\u001b[33m...\u001b[0m\n"
      ]
     },
     "metadata": {},
     "output_type": "display_data"
    },
    {
     "data": {
      "text/html": [
       "<pre style=\"white-space:pre;overflow-x:auto;line-height:normal;font-family:Menlo,'DejaVu Sans Mono',consolas,'Courier New',monospace\"><span style=\"color: #008000; text-decoration-color: #008000; font-weight: bold\">✔️ Nội dung do Activity Designer tạo ra:</span>\n",
       "</pre>\n"
      ],
      "text/plain": [
       "\u001b[1;32m✔️ Nội dung do Activity Designer tạo ra:\u001b[0m\n"
      ]
     },
     "metadata": {},
     "output_type": "display_data"
    },
    {
     "data": {
      "text/html": [
       "<pre style=\"white-space:pre;overflow-x:auto;line-height:normal;font-family:Menlo,'DejaVu Sans Mono',consolas,'Courier New',monospace\"><span style=\"font-weight: bold\">{</span>\n",
       "<span style=\"color: #7fbf7f; text-decoration-color: #7fbf7f\">│   </span><span style=\"color: #008000; text-decoration-color: #008000\">'activity_name'</span>: <span style=\"color: #008000; text-decoration-color: #008000\">'Khởi động và Đặt vấn đề: \"Thức tỉnh\"'</span>,\n",
       "<span style=\"color: #7fbf7f; text-decoration-color: #7fbf7f\">│   </span><span style=\"color: #008000; text-decoration-color: #008000\">'activity_type'</span>: <span style=\"color: #008000; text-decoration-color: #008000\">'Thảo luận nhanh và Đặt vấn đề'</span>,\n",
       "<span style=\"color: #7fbf7f; text-decoration-color: #7fbf7f\">│   </span><span style=\"color: #008000; text-decoration-color: #008000\">'duration_minutes'</span>: <span style=\"color: #008080; text-decoration-color: #008080; font-weight: bold\">10</span>,\n",
       "<span style=\"color: #7fbf7f; text-decoration-color: #7fbf7f\">│   </span><span style=\"color: #008000; text-decoration-color: #008000\">'teacher_actions'</span>: <span style=\"font-weight: bold\">[</span>\n",
       "<span style=\"color: #7fbf7f; text-decoration-color: #7fbf7f\">│   │   </span><span style=\"color: #008000; text-decoration-color: #008000\">'Chuẩn bị kỹ lưỡng hình ảnh/video/tin tức/câu chuyện gây ấn tượng, phù hợp với chủ đề bài học.'</span>,\n",
       "<span style=\"color: #7fbf7f; text-decoration-color: #7fbf7f\">│   │   </span><span style=\"color: #008000; text-decoration-color: #008000\">'Đặt câu hỏi gợi mở rõ ràng, ngắn gọn và dễ hiểu.'</span>,\n",
       "<span style=\"color: #7fbf7f; text-decoration-color: #7fbf7f\">│   │   </span><span style=\"color: #008000; text-decoration-color: #008000\">'Quản lý thời gian chặt chẽ cho từng phần hoạt động (giới thiệu, suy nghĩ cá nhân, chia sẻ, tổng kết).'</span>,\n",
       "<span style=\"color: #7fbf7f; text-decoration-color: #7fbf7f\">│   │   </span><span style=\"color: #008000; text-decoration-color: #008000\">'Lắng nghe tích cực và tóm tắt nhanh các ý kiến của học sinh.'</span>,\n",
       "<span style=\"color: #7fbf7f; text-decoration-color: #7fbf7f\">│   │   </span><span style=\"color: #008000; text-decoration-color: #008000\">'Dẫn dắt khéo léo từ các ý kiến học sinh đến mục tiêu và nội dung chính của bài học mới.'</span>\n",
       "<span style=\"color: #7fbf7f; text-decoration-color: #7fbf7f\">│   </span><span style=\"font-weight: bold\">]</span>,\n",
       "<span style=\"color: #7fbf7f; text-decoration-color: #7fbf7f\">│   </span><span style=\"color: #008000; text-decoration-color: #008000\">'core_component'</span>: <span style=\"color: #008000; text-decoration-color: #008000\">'Giáo viên trình chiếu một hình ảnh/video ngắn (khoảng 30 giây) hoặc một câu chuyện/tin tức gây ấn tượng mạnh về một vấn đề thời sự (ví dụ: ô nhiễm môi trường, biến đổi khí hậu, một sự kiện lịch sử nổi bật, v.v.) liên quan đến bài học. Sau đó, giáo viên đặt câu hỏi: \"Bạn có suy nghĩ, cảm xúc gì khi chứng kiến/nghe thấy điều này? Theo bạn, vấn đề này có ý nghĩa gì đối với cuộc sống của chúng ta?\". Học sinh có 1 phút để suy nghĩ cá nhân. Giáo viên mời 3-4 học sinh xung phong chia sẻ nhanh ý kiến của mình trước lớp (mỗi em khoảng 1 phút). Cuối cùng, giáo viên tổng hợp các ý kiến, dẫn dắt khéo léo vào vấn đề chính của bài học, nêu rõ mục tiêu cần tìm hiểu trong bài mới.'</span>,\n",
       "<span style=\"color: #7fbf7f; text-decoration-color: #7fbf7f\">│   </span><span style=\"color: #008000; text-decoration-color: #008000\">'extension_component'</span>: <span style=\"color: #008000; text-decoration-color: #008000\">'Nếu còn thời gian, giáo viên có thể đặt thêm một câu hỏi phụ mang tính dự đoán hoặc giải pháp: \"Theo bạn, điều gì sẽ xảy ra nếu chúng ta không giải quyết vấn đề này?\" hoặc \"Chúng ta có thể làm gì để góp phần giải quyết vấn đề này?\".'</span>,\n",
       "<span style=\"color: #7fbf7f; text-decoration-color: #7fbf7f\">│   </span><span style=\"color: #008000; text-decoration-color: #008000\">'solution_guide'</span>: <span style=\"color: #008000; text-decoration-color: #008000\">'Hoạt động này không có \"đáp án\" cụ thể mà là sự đa dạng trong suy nghĩ và cảm xúc của học sinh. Giáo viên cần định hướng để các ý kiến tập trung vào việc nhận diện vấn đề, tầm quan trọng của nó và sự liên quan đến cuộc sống, từ đó dẫn dắt vào bài học mới.'</span>,\n",
       "<span style=\"color: #7fbf7f; text-decoration-color: #7fbf7f\">│   </span><span style=\"color: #008000; text-decoration-color: #008000\">'differentiation'</span>: <span style=\"font-weight: bold\">{</span>\n",
       "<span style=\"color: #7fbf7f; text-decoration-color: #7fbf7f\">│   │   </span><span style=\"color: #008000; text-decoration-color: #008000\">'for_struggling_students'</span>: <span style=\"color: #008000; text-decoration-color: #008000\">'Giáo viên có thể gợi ý các từ khóa hoặc câu hỏi đơn giản hơn để các em dễ dàng bắt đầu suy nghĩ. Có thể cho các em chia sẻ theo cặp nhanh trước khi chia sẻ trước lớp để tăng sự tự tin.'</span>,\n",
       "<span style=\"color: #7fbf7f; text-decoration-color: #7fbf7f\">│   │   </span><span style=\"color: #008000; text-decoration-color: #008000\">'for_advanced_students'</span>: <span style=\"color: #008000; text-decoration-color: #008000\">'Khuyến khích các em liên hệ vấn đề với các kiến thức đã học hoặc đề xuất các giải pháp ban đầu (nếu phù hợp với chủ đề) để kích thích tư duy sâu hơn.'</span>\n",
       "<span style=\"color: #7fbf7f; text-decoration-color: #7fbf7f\">│   </span><span style=\"font-weight: bold\">}</span>,\n",
       "<span style=\"color: #7fbf7f; text-decoration-color: #7fbf7f\">│   </span><span style=\"color: #008000; text-decoration-color: #008000\">'question_or_description'</span>: <span style=\"color: #008000; text-decoration-color: #008000\">'**Phần Cốt lõi:**\\nGiáo viên trình chiếu một hình ảnh/video ngắn (khoảng 30 giây) hoặc một câu chuyện/tin tức gây ấn tượng mạnh về một vấn đề thời sự (ví dụ: ô nhiễm môi trường, biến đổi khí hậu, một sự kiện lịch sử nổi bật, v.v.) liên quan đến bài học. Sau đó, giáo viên đặt câu hỏi: \"Bạn có suy nghĩ, cảm xúc gì khi chứng kiến/nghe thấy điều này? Theo bạn, vấn đề này có ý nghĩa gì đối với cuộc sống của chúng ta?\". Học sinh có 1 phút để suy nghĩ cá nhân. Giáo viên mời 3-4 học sinh xung phong chia sẻ nhanh ý kiến của mình trước lớp (mỗi em khoảng 1 phút). Cuối cùng, giáo viên tổng hợp các ý kiến, dẫn dắt khéo léo vào vấn đề chính của bài học, nêu rõ mục tiêu cần tìm hiểu trong bài mới.\\n\\n**Phần Mở rộng (nếu còn thời gian):**\\nNếu còn thời gian, giáo viên có thể đặt thêm một câu hỏi phụ mang tính dự đoán hoặc giải pháp: \"Theo bạn, điều gì sẽ xảy ra nếu chúng ta không giải quyết vấn đề này?\" hoặc \"Chúng ta có thể làm gì để góp phần giải quyết vấn đề này?\".'</span>\n",
       "<span style=\"font-weight: bold\">}</span>\n",
       "</pre>\n"
      ],
      "text/plain": [
       "\u001b[1m{\u001b[0m\n",
       "\u001b[2;32m│   \u001b[0m\u001b[32m'activity_name'\u001b[0m: \u001b[32m'Khởi động và Đặt vấn đề: \"Thức tỉnh\"'\u001b[0m,\n",
       "\u001b[2;32m│   \u001b[0m\u001b[32m'activity_type'\u001b[0m: \u001b[32m'Thảo luận nhanh và Đặt vấn đề'\u001b[0m,\n",
       "\u001b[2;32m│   \u001b[0m\u001b[32m'duration_minutes'\u001b[0m: \u001b[1;36m10\u001b[0m,\n",
       "\u001b[2;32m│   \u001b[0m\u001b[32m'teacher_actions'\u001b[0m: \u001b[1m[\u001b[0m\n",
       "\u001b[2;32m│   │   \u001b[0m\u001b[32m'Chuẩn bị kỹ lưỡng hình ảnh/video/tin tức/câu chuyện gây ấn tượng, phù hợp với chủ đề bài học.'\u001b[0m,\n",
       "\u001b[2;32m│   │   \u001b[0m\u001b[32m'Đặt câu hỏi gợi mở rõ ràng, ngắn gọn và dễ hiểu.'\u001b[0m,\n",
       "\u001b[2;32m│   │   \u001b[0m\u001b[32m'Quản lý thời gian chặt chẽ cho từng phần hoạt động \u001b[0m\u001b[32m(\u001b[0m\u001b[32mgiới thiệu, suy nghĩ cá nhân, chia sẻ, tổng kết\u001b[0m\u001b[32m)\u001b[0m\u001b[32m.'\u001b[0m,\n",
       "\u001b[2;32m│   │   \u001b[0m\u001b[32m'Lắng nghe tích cực và tóm tắt nhanh các ý kiến của học sinh.'\u001b[0m,\n",
       "\u001b[2;32m│   │   \u001b[0m\u001b[32m'Dẫn dắt khéo léo từ các ý kiến học sinh đến mục tiêu và nội dung chính của bài học mới.'\u001b[0m\n",
       "\u001b[2;32m│   \u001b[0m\u001b[1m]\u001b[0m,\n",
       "\u001b[2;32m│   \u001b[0m\u001b[32m'core_component'\u001b[0m: \u001b[32m'Giáo viên trình chiếu một hình ảnh/video ngắn \u001b[0m\u001b[32m(\u001b[0m\u001b[32mkhoảng 30 giây\u001b[0m\u001b[32m)\u001b[0m\u001b[32m hoặc một câu chuyện/tin tức gây ấn tượng mạnh về một vấn đề thời sự \u001b[0m\u001b[32m(\u001b[0m\u001b[32mví dụ: ô nhiễm môi trường, biến đổi khí hậu, một sự kiện lịch sử nổi bật, v.v.\u001b[0m\u001b[32m)\u001b[0m\u001b[32m liên quan đến bài học. Sau đó, giáo viên đặt câu hỏi: \"Bạn có suy nghĩ, cảm xúc gì khi chứng kiến/nghe thấy điều này? Theo bạn, vấn đề này có ý nghĩa gì đối với cuộc sống của chúng ta?\". Học sinh có 1 phút để suy nghĩ cá nhân. Giáo viên mời 3-4 học sinh xung phong chia sẻ nhanh ý kiến của mình trước lớp \u001b[0m\u001b[32m(\u001b[0m\u001b[32mmỗi em khoảng 1 phút\u001b[0m\u001b[32m)\u001b[0m\u001b[32m. Cuối cùng, giáo viên tổng hợp các ý kiến, dẫn dắt khéo léo vào vấn đề chính của bài học, nêu rõ mục tiêu cần tìm hiểu trong bài mới.'\u001b[0m,\n",
       "\u001b[2;32m│   \u001b[0m\u001b[32m'extension_component'\u001b[0m: \u001b[32m'Nếu còn thời gian, giáo viên có thể đặt thêm một câu hỏi phụ mang tính dự đoán hoặc giải pháp: \"Theo bạn, điều gì sẽ xảy ra nếu chúng ta không giải quyết vấn đề này?\" hoặc \"Chúng ta có thể làm gì để góp phần giải quyết vấn đề này?\".'\u001b[0m,\n",
       "\u001b[2;32m│   \u001b[0m\u001b[32m'solution_guide'\u001b[0m: \u001b[32m'Hoạt động này không có \"đáp án\" cụ thể mà là sự đa dạng trong suy nghĩ và cảm xúc của học sinh. Giáo viên cần định hướng để các ý kiến tập trung vào việc nhận diện vấn đề, tầm quan trọng của nó và sự liên quan đến cuộc sống, từ đó dẫn dắt vào bài học mới.'\u001b[0m,\n",
       "\u001b[2;32m│   \u001b[0m\u001b[32m'differentiation'\u001b[0m: \u001b[1m{\u001b[0m\n",
       "\u001b[2;32m│   │   \u001b[0m\u001b[32m'for_struggling_students'\u001b[0m: \u001b[32m'Giáo viên có thể gợi ý các từ khóa hoặc câu hỏi đơn giản hơn để các em dễ dàng bắt đầu suy nghĩ. Có thể cho các em chia sẻ theo cặp nhanh trước khi chia sẻ trước lớp để tăng sự tự tin.'\u001b[0m,\n",
       "\u001b[2;32m│   │   \u001b[0m\u001b[32m'for_advanced_students'\u001b[0m: \u001b[32m'Khuyến khích các em liên hệ vấn đề với các kiến thức đã học hoặc đề xuất các giải pháp ban đầu \u001b[0m\u001b[32m(\u001b[0m\u001b[32mnếu phù hợp với chủ đề\u001b[0m\u001b[32m)\u001b[0m\u001b[32m để kích thích tư duy sâu hơn.'\u001b[0m\n",
       "\u001b[2;32m│   \u001b[0m\u001b[1m}\u001b[0m,\n",
       "\u001b[2;32m│   \u001b[0m\u001b[32m'question_or_description'\u001b[0m: \u001b[32m'**Phần Cốt lõi:**\\nGiáo viên trình chiếu một hình ảnh/video ngắn \u001b[0m\u001b[32m(\u001b[0m\u001b[32mkhoảng 30 giây\u001b[0m\u001b[32m)\u001b[0m\u001b[32m hoặc một câu chuyện/tin tức gây ấn tượng mạnh về một vấn đề thời sự \u001b[0m\u001b[32m(\u001b[0m\u001b[32mví dụ: ô nhiễm môi trường, biến đổi khí hậu, một sự kiện lịch sử nổi bật, v.v.\u001b[0m\u001b[32m)\u001b[0m\u001b[32m liên quan đến bài học. Sau đó, giáo viên đặt câu hỏi: \"Bạn có suy nghĩ, cảm xúc gì khi chứng kiến/nghe thấy điều này? Theo bạn, vấn đề này có ý nghĩa gì đối với cuộc sống của chúng ta?\". Học sinh có 1 phút để suy nghĩ cá nhân. Giáo viên mời 3-4 học sinh xung phong chia sẻ nhanh ý kiến của mình trước lớp \u001b[0m\u001b[32m(\u001b[0m\u001b[32mmỗi em khoảng 1 phút\u001b[0m\u001b[32m)\u001b[0m\u001b[32m. Cuối cùng, giáo viên tổng hợp các ý kiến, dẫn dắt khéo léo vào vấn đề chính của bài học, nêu rõ mục tiêu cần tìm hiểu trong bài mới.\\n\\n**Phần Mở rộng \u001b[0m\u001b[32m(\u001b[0m\u001b[32mnếu còn thời gian\u001b[0m\u001b[32m)\u001b[0m\u001b[32m:**\\nNếu còn thời gian, giáo viên có thể đặt thêm một câu hỏi phụ mang tính dự đoán hoặc giải pháp: \"Theo bạn, điều gì sẽ xảy ra nếu chúng ta không giải quyết vấn đề này?\" hoặc \"Chúng ta có thể làm gì để góp phần giải quyết vấn đề này?\".'\u001b[0m\n",
       "\u001b[1m}\u001b[0m\n"
      ]
     },
     "metadata": {},
     "output_type": "display_data"
    },
    {
     "data": {
      "text/html": [
       "<pre style=\"white-space:pre;overflow-x:auto;line-height:normal;font-family:Menlo,'DejaVu Sans Mono',consolas,'Courier New',monospace\">\n",
       "<span style=\"color: #808000; text-decoration-color: #808000; font-weight: bold\">------- Hoàn thành bước: activity_designer -------</span>\n",
       "</pre>\n"
      ],
      "text/plain": [
       "\n",
       "\u001b[1;33m------- Hoàn thành bước: activity_designer -------\u001b[0m\n"
      ]
     },
     "metadata": {},
     "output_type": "display_data"
    },
    {
     "data": {
      "text/html": [
       "<pre style=\"white-space:pre;overflow-x:auto;line-height:normal;font-family:Menlo,'DejaVu Sans Mono',consolas,'Courier New',monospace\">\n",
       "<span style=\"color: #008080; text-decoration-color: #008080; font-weight: bold\">&gt;</span> `Agent: Guardian Critic` <span style=\"font-weight: bold\">(</span>v10.<span style=\"color: #008080; text-decoration-color: #008080; font-weight: bold\">0</span><span style=\"font-weight: bold\">)</span> đang bảo vệ kế hoạch<span style=\"color: #808000; text-decoration-color: #808000\">...</span>\n",
       "</pre>\n"
      ],
      "text/plain": [
       "\n",
       "\u001b[1;36m>\u001b[0m `Agent: Guardian Critic` \u001b[1m(\u001b[0mv10.\u001b[1;36m0\u001b[0m\u001b[1m)\u001b[0m đang bảo vệ kế hoạch\u001b[33m...\u001b[0m\n"
      ]
     },
     "metadata": {},
     "output_type": "display_data"
    },
    {
     "data": {
      "text/html": [
       "<pre style=\"white-space:pre;overflow-x:auto;line-height:normal;font-family:Menlo,'DejaVu Sans Mono',consolas,'Courier New',monospace\">\n",
       "<span style=\"color: #008080; text-decoration-color: #008080; font-weight: bold\">&gt;</span> ✔️ GUARDIAN: Nội dung tuân thủ kế hoạch!\n",
       "</pre>\n"
      ],
      "text/plain": [
       "\n",
       "\u001b[1;36m>\u001b[0m ✔️ GUARDIAN: Nội dung tuân thủ kế hoạch!\n"
      ]
     },
     "metadata": {},
     "output_type": "display_data"
    },
    {
     "data": {
      "text/html": [
       "<pre style=\"white-space:pre;overflow-x:auto;line-height:normal;font-family:Menlo,'DejaVu Sans Mono',consolas,'Courier New',monospace\">\n",
       "<span style=\"color: #808000; text-decoration-color: #808000; font-weight: bold\">------- Hoàn thành bước: content_validator -------</span>\n",
       "</pre>\n"
      ],
      "text/plain": [
       "\n",
       "\u001b[1;33m------- Hoàn thành bước: content_validator -------\u001b[0m\n"
      ]
     },
     "metadata": {},
     "output_type": "display_data"
    },
    {
     "data": {
      "text/html": [
       "<pre style=\"white-space:pre;overflow-x:auto;line-height:normal;font-family:Menlo,'DejaVu Sans Mono',consolas,'Courier New',monospace\">\n",
       "<span style=\"color: #008080; text-decoration-color: #008080; font-weight: bold\">&gt;</span> `Commiter`: Đang ghi nhận nội dung đã được xác thực<span style=\"color: #808000; text-decoration-color: #808000\">...</span>\n",
       "</pre>\n"
      ],
      "text/plain": [
       "\n",
       "\u001b[1;36m>\u001b[0m `Commiter`: Đang ghi nhận nội dung đã được xác thực\u001b[33m...\u001b[0m\n"
      ]
     },
     "metadata": {},
     "output_type": "display_data"
    },
    {
     "data": {
      "text/html": [
       "<pre style=\"white-space:pre;overflow-x:auto;line-height:normal;font-family:Menlo,'DejaVu Sans Mono',consolas,'Courier New',monospace\">\n",
       "<span style=\"color: #808000; text-decoration-color: #808000; font-weight: bold\">------- Hoàn thành bước: commit_validated_content -------</span>\n",
       "</pre>\n"
      ],
      "text/plain": [
       "\n",
       "\u001b[1;33m------- Hoàn thành bước: commit_validated_content -------\u001b[0m\n"
      ]
     },
     "metadata": {},
     "output_type": "display_data"
    },
    {
     "data": {
      "text/html": [
       "<pre style=\"white-space:pre;overflow-x:auto;line-height:normal;font-family:Menlo,'DejaVu Sans Mono',consolas,'Courier New',monospace\">\n",
       "<span style=\"color: #808000; text-decoration-color: #808000; font-weight: bold\">------- Hoàn thành bước: mark_task_complete -------</span>\n",
       "</pre>\n"
      ],
      "text/plain": [
       "\n",
       "\u001b[1;33m------- Hoàn thành bước: mark_task_complete -------\u001b[0m\n"
      ]
     },
     "metadata": {},
     "output_type": "display_data"
    },
    {
     "data": {
      "text/html": [
       "<pre style=\"white-space:pre;overflow-x:auto;line-height:normal;font-family:Menlo,'DejaVu Sans Mono',consolas,'Courier New',monospace\">\n",
       "<span style=\"color: #808000; text-decoration-color: #808000; font-weight: bold\">------- Hoàn thành bước: delay_node -------</span>\n",
       "</pre>\n"
      ],
      "text/plain": [
       "\n",
       "\u001b[1;33m------- Hoàn thành bước: delay_node -------\u001b[0m\n"
      ]
     },
     "metadata": {},
     "output_type": "display_data"
    },
    {
     "data": {
      "text/html": [
       "<pre style=\"white-space:pre;overflow-x:auto;line-height:normal;font-family:Menlo,'DejaVu Sans Mono',consolas,'Courier New',monospace\">\n",
       "<span style=\"color: #008080; text-decoration-color: #008080; font-weight: bold\">&gt;</span> `Router`: Đang kiểm tra nhiệm vụ<span style=\"color: #808000; text-decoration-color: #808000\">...</span>\n",
       "</pre>\n"
      ],
      "text/plain": [
       "\n",
       "\u001b[1;36m>\u001b[0m `Router`: Đang kiểm tra nhiệm vụ\u001b[33m...\u001b[0m\n"
      ]
     },
     "metadata": {},
     "output_type": "display_data"
    },
    {
     "data": {
      "text/html": [
       "<pre style=\"white-space:pre;overflow-x:auto;line-height:normal;font-family:Menlo,'DejaVu Sans Mono',consolas,'Courier New',monospace\">\n",
       "<span style=\"color: #008080; text-decoration-color: #008080; font-weight: bold\">&gt;</span> Nhiệm vụ tiếp theo: <span style=\"color: #008000; text-decoration-color: #008000\">'Khám phá và Xây dựng kiến thức'</span> <span style=\"font-weight: bold\">(</span>ID: <span style=\"color: #008080; text-decoration-color: #008080; font-weight: bold\">1</span><span style=\"font-weight: bold\">)</span>\n",
       "</pre>\n"
      ],
      "text/plain": [
       "\n",
       "\u001b[1;36m>\u001b[0m Nhiệm vụ tiếp theo: \u001b[32m'Khám phá và Xây dựng kiến thức'\u001b[0m \u001b[1m(\u001b[0mID: \u001b[1;36m1\u001b[0m\u001b[1m)\u001b[0m\n"
      ]
     },
     "metadata": {},
     "output_type": "display_data"
    },
    {
     "data": {
      "text/html": [
       "<pre style=\"white-space:pre;overflow-x:auto;line-height:normal;font-family:Menlo,'DejaVu Sans Mono',consolas,'Courier New',monospace\">\n",
       "<span style=\"color: #808000; text-decoration-color: #808000; font-weight: bold\">------- Hoàn thành bước: task_router -------</span>\n",
       "</pre>\n"
      ],
      "text/plain": [
       "\n",
       "\u001b[1;33m------- Hoàn thành bước: task_router -------\u001b[0m\n"
      ]
     },
     "metadata": {},
     "output_type": "display_data"
    },
    {
     "data": {
      "text/html": [
       "<pre style=\"white-space:pre;overflow-x:auto;line-height:normal;font-family:Menlo,'DejaVu Sans Mono',consolas,'Courier New',monospace\">\n",
       "<span style=\"color: #008080; text-decoration-color: #008080; font-weight: bold\">&gt;</span> `Agent: Task Dispatcher` đang giao việc<span style=\"color: #808000; text-decoration-color: #808000\">...</span>\n",
       "</pre>\n"
      ],
      "text/plain": [
       "\n",
       "\u001b[1;36m>\u001b[0m `Agent: Task Dispatcher` đang giao việc\u001b[33m...\u001b[0m\n"
      ]
     },
     "metadata": {},
     "output_type": "display_data"
    },
    {
     "data": {
      "text/html": [
       "<pre style=\"white-space:pre;overflow-x:auto;line-height:normal;font-family:Menlo,'DejaVu Sans Mono',consolas,'Courier New',monospace\">\n",
       "<span style=\"color: #008080; text-decoration-color: #008080; font-weight: bold\">&gt;</span> --- 🚚 `Dispatcher`: Giao nhiệm vụ cho `activity_designer`.\n",
       "</pre>\n"
      ],
      "text/plain": [
       "\n",
       "\u001b[1;36m>\u001b[0m --- 🚚 `Dispatcher`: Giao nhiệm vụ cho `activity_designer`.\n"
      ]
     },
     "metadata": {},
     "output_type": "display_data"
    },
    {
     "data": {
      "text/html": [
       "<pre style=\"white-space:pre;overflow-x:auto;line-height:normal;font-family:Menlo,'DejaVu Sans Mono',consolas,'Courier New',monospace\">\n",
       "<span style=\"color: #808000; text-decoration-color: #808000; font-weight: bold\">------- Hoàn thành bước: task_dispatcher -------</span>\n",
       "</pre>\n"
      ],
      "text/plain": [
       "\n",
       "\u001b[1;33m------- Hoàn thành bước: task_dispatcher -------\u001b[0m\n"
      ]
     },
     "metadata": {},
     "output_type": "display_data"
    },
    {
     "data": {
      "text/html": [
       "<pre style=\"white-space:pre;overflow-x:auto;line-height:normal;font-family:Menlo,'DejaVu Sans Mono',consolas,'Courier New',monospace\">\n",
       "<span style=\"color: #008080; text-decoration-color: #008080; font-weight: bold\">&gt;</span> `Agent: Activity Designer` <span style=\"font-weight: bold\">(</span>v10.<span style=\"color: #008080; text-decoration-color: #008080; font-weight: bold\">0</span><span style=\"font-weight: bold\">)</span> đang tạo nội dung theo kỷ luật<span style=\"color: #808000; text-decoration-color: #808000\">...</span>\n",
       "</pre>\n"
      ],
      "text/plain": [
       "\n",
       "\u001b[1;36m>\u001b[0m `Agent: Activity Designer` \u001b[1m(\u001b[0mv10.\u001b[1;36m0\u001b[0m\u001b[1m)\u001b[0m đang tạo nội dung theo kỷ luật\u001b[33m...\u001b[0m\n"
      ]
     },
     "metadata": {},
     "output_type": "display_data"
    },
    {
     "data": {
      "text/html": [
       "<pre style=\"white-space:pre;overflow-x:auto;line-height:normal;font-family:Menlo,'DejaVu Sans Mono',consolas,'Courier New',monospace\"><span style=\"color: #008000; text-decoration-color: #008000; font-weight: bold\">✔️ Nội dung do Activity Designer tạo ra:</span>\n",
       "</pre>\n"
      ],
      "text/plain": [
       "\u001b[1;32m✔️ Nội dung do Activity Designer tạo ra:\u001b[0m\n"
      ]
     },
     "metadata": {},
     "output_type": "display_data"
    },
    {
     "data": {
      "text/html": [
       "<pre style=\"white-space:pre;overflow-x:auto;line-height:normal;font-family:Menlo,'DejaVu Sans Mono',consolas,'Courier New',monospace\"><span style=\"font-weight: bold\">{</span>\n",
       "<span style=\"color: #7fbf7f; text-decoration-color: #7fbf7f\">│   </span><span style=\"color: #008000; text-decoration-color: #008000\">'activity_name'</span>: <span style=\"color: #008000; text-decoration-color: #008000\">'Khám phá và Xây dựng kiến thức'</span>,\n",
       "<span style=\"color: #7fbf7f; text-decoration-color: #7fbf7f\">│   </span><span style=\"color: #008000; text-decoration-color: #008000\">'activity_type'</span>: <span style=\"color: #008000; text-decoration-color: #008000\">'Thảo luận nhóm và Thực hành cá nhân'</span>,\n",
       "<span style=\"color: #7fbf7f; text-decoration-color: #7fbf7f\">│   </span><span style=\"color: #008000; text-decoration-color: #008000\">'duration_minutes'</span>: <span style=\"color: #008080; text-decoration-color: #008080; font-weight: bold\">45</span>,\n",
       "<span style=\"color: #7fbf7f; text-decoration-color: #7fbf7f\">│   </span><span style=\"color: #008000; text-decoration-color: #008000\">'teacher_actions'</span>: <span style=\"font-weight: bold\">[</span>\n",
       "<span style=\"color: #7fbf7f; text-decoration-color: #7fbf7f\">│   │   </span><span style=\"color: #008000; text-decoration-color: #008000\">'Giới thiệu mục tiêu và hướng dẫn chi tiết hoạt động.'</span>,\n",
       "<span style=\"color: #7fbf7f; text-decoration-color: #7fbf7f\">│   │   </span><span style=\"color: #008000; text-decoration-color: #008000\">'Phát tài liệu/phiếu học tập cho học sinh.'</span>,\n",
       "<span style=\"color: #7fbf7f; text-decoration-color: #7fbf7f\">│   │   </span><span style=\"color: #008000; text-decoration-color: #008000\">'Quan sát, lắng nghe các nhóm thảo luận, đặt câu hỏi gợi mở để định hướng tư duy.'</span>,\n",
       "<span style=\"color: #7fbf7f; text-decoration-color: #7fbf7f\">│   │   </span><span style=\"color: #008000; text-decoration-color: #008000\">'Hỗ trợ các nhóm gặp khó khăn bằng cách cung cấp gợi ý hoặc giải thích thêm.'</span>,\n",
       "<span style=\"color: #7fbf7f; text-decoration-color: #7fbf7f\">│   │   </span><span style=\"color: #008000; text-decoration-color: #008000\">'Tổng kết các ý chính, chốt kiến thức trọng tâm sau khi các nhóm trình bày.'</span>\n",
       "<span style=\"color: #7fbf7f; text-decoration-color: #7fbf7f\">│   </span><span style=\"font-weight: bold\">]</span>,\n",
       "<span style=\"color: #7fbf7f; text-decoration-color: #7fbf7f\">│   </span><span style=\"color: #008000; text-decoration-color: #008000\">'core_component'</span>: <span style=\"color: #008000; text-decoration-color: #008000\">'Học sinh đọc một đoạn văn/tài liệu ngắn (khoảng 1-2 trang) về một chủ đề cụ thể (ví dụ: khái niệm khoa học, sự kiện lịch sử, vấn đề xã hội). Sau đó, cá nhân học sinh ghi lại các từ khóa, ý chính và câu hỏi thắc mắc. Tiếp theo, học sinh chia nhóm (3-4 người) để thảo luận, chia sẻ những gì đã khám phá, cùng nhau giải đáp thắc mắc và xây dựng một bản tóm tắt hoặc sơ đồ tư duy về chủ đề đó. Cuối cùng, một vài nhóm sẽ trình bày nhanh kết quả của mình.'</span>,\n",
       "<span style=\"color: #7fbf7f; text-decoration-color: #7fbf7f\">│   </span><span style=\"color: #008000; text-decoration-color: #008000\">'extension_component'</span>: <span style=\"color: #008000; text-decoration-color: #008000\">'Nếu còn thời gian hoặc đối với học sinh hoàn thành nhanh, yêu cầu học sinh áp dụng kiến thức vừa học để giải quyết một bài tập nhỏ, tạo một ví dụ minh họa cụ thể, hoặc tự tìm kiếm thêm một thông tin liên quan đến chủ đề từ sách giáo khoa/internet và chia sẻ với nhóm.'</span>,\n",
       "<span style=\"color: #7fbf7f; text-decoration-color: #7fbf7f\">│   </span><span style=\"color: #008000; text-decoration-color: #008000\">'solution_guide'</span>: <span style=\"color: #008000; text-decoration-color: #008000\">\"Các ý chính cần đạt được từ đoạn văn/tình huống: (Liệt kê các ý chính dự kiến). Các câu hỏi gợi mở để học sinh tự kiểm tra hiểu biết: 'Bạn đã học được điều gì mới từ đoạn văn này?', 'Bạn có thể giải thích khái niệm X bằng lời của mình không?', 'Vấn đề Y có ý nghĩa gì trong bối cảnh hiện tại?'\"</span>,\n",
       "<span style=\"color: #7fbf7f; text-decoration-color: #7fbf7f\">│   </span><span style=\"color: #008000; text-decoration-color: #008000\">'differentiation'</span>: <span style=\"font-weight: bold\">{</span>\n",
       "<span style=\"color: #7fbf7f; text-decoration-color: #7fbf7f\">│   │   </span><span style=\"color: #008000; text-decoration-color: #008000\">'for_struggling_students'</span>: <span style=\"color: #008000; text-decoration-color: #008000\">'Cung cấp phiếu học tập có cấu trúc rõ ràng hơn, các câu hỏi gợi ý cụ thể hoặc danh sách từ khóa quan trọng. Khuyến khích làm việc cặp đôi với bạn khá hơn. Giáo viên dành thời gian hỗ trợ trực tiếp, giải thích lại các khái niệm khó.'</span>,\n",
       "<span style=\"color: #7fbf7f; text-decoration-color: #7fbf7f\">│   │   </span><span style=\"color: #008000; text-decoration-color: #008000\">'for_advanced_students'</span>: <span style=\"color: #008000; text-decoration-color: #008000\">'Yêu cầu phân tích sâu hơn về nguyên nhân/hậu quả, liên hệ với các kiến thức đã học hoặc các vấn đề thực tiễn. Đặt câu hỏi phản biện hoặc yêu cầu tìm kiếm thêm thông tin từ các nguồn khác để mở rộng vấn đề.'</span>\n",
       "<span style=\"color: #7fbf7f; text-decoration-color: #7fbf7f\">│   </span><span style=\"font-weight: bold\">}</span>,\n",
       "<span style=\"color: #7fbf7f; text-decoration-color: #7fbf7f\">│   </span><span style=\"color: #008000; text-decoration-color: #008000\">'question_or_description'</span>: <span style=\"color: #008000; text-decoration-color: #008000\">'**Phần Cốt lõi:**\\nHọc sinh đọc một đoạn văn/tài liệu ngắn (khoảng 1-2 trang) về một chủ đề cụ thể (ví dụ: khái niệm khoa học, sự kiện lịch sử, vấn đề xã hội). Sau đó, cá nhân học sinh ghi lại các từ khóa, ý chính và câu hỏi thắc mắc. Tiếp theo, học sinh chia nhóm (3-4 người) để thảo luận, chia sẻ những gì đã khám phá, cùng nhau giải đáp thắc mắc và xây dựng một bản tóm tắt hoặc sơ đồ tư duy về chủ đề đó. Cuối cùng, một vài nhóm sẽ trình bày nhanh kết quả của mình.\\n\\n**Phần Mở rộng (nếu còn thời gian):**\\nNếu còn thời gian hoặc đối với học sinh hoàn thành nhanh, yêu cầu học sinh áp dụng kiến thức vừa học để giải quyết một bài tập nhỏ, tạo một ví dụ minh họa cụ thể, hoặc tự tìm kiếm thêm một thông tin liên quan đến chủ đề từ sách giáo khoa/internet và chia sẻ với nhóm.'</span>\n",
       "<span style=\"font-weight: bold\">}</span>\n",
       "</pre>\n"
      ],
      "text/plain": [
       "\u001b[1m{\u001b[0m\n",
       "\u001b[2;32m│   \u001b[0m\u001b[32m'activity_name'\u001b[0m: \u001b[32m'Khám phá và Xây dựng kiến thức'\u001b[0m,\n",
       "\u001b[2;32m│   \u001b[0m\u001b[32m'activity_type'\u001b[0m: \u001b[32m'Thảo luận nhóm và Thực hành cá nhân'\u001b[0m,\n",
       "\u001b[2;32m│   \u001b[0m\u001b[32m'duration_minutes'\u001b[0m: \u001b[1;36m45\u001b[0m,\n",
       "\u001b[2;32m│   \u001b[0m\u001b[32m'teacher_actions'\u001b[0m: \u001b[1m[\u001b[0m\n",
       "\u001b[2;32m│   │   \u001b[0m\u001b[32m'Giới thiệu mục tiêu và hướng dẫn chi tiết hoạt động.'\u001b[0m,\n",
       "\u001b[2;32m│   │   \u001b[0m\u001b[32m'Phát tài liệu/phiếu học tập cho học sinh.'\u001b[0m,\n",
       "\u001b[2;32m│   │   \u001b[0m\u001b[32m'Quan sát, lắng nghe các nhóm thảo luận, đặt câu hỏi gợi mở để định hướng tư duy.'\u001b[0m,\n",
       "\u001b[2;32m│   │   \u001b[0m\u001b[32m'Hỗ trợ các nhóm gặp khó khăn bằng cách cung cấp gợi ý hoặc giải thích thêm.'\u001b[0m,\n",
       "\u001b[2;32m│   │   \u001b[0m\u001b[32m'Tổng kết các ý chính, chốt kiến thức trọng tâm sau khi các nhóm trình bày.'\u001b[0m\n",
       "\u001b[2;32m│   \u001b[0m\u001b[1m]\u001b[0m,\n",
       "\u001b[2;32m│   \u001b[0m\u001b[32m'core_component'\u001b[0m: \u001b[32m'Học sinh đọc một đoạn văn/tài liệu ngắn \u001b[0m\u001b[32m(\u001b[0m\u001b[32mkhoảng 1-2 trang\u001b[0m\u001b[32m)\u001b[0m\u001b[32m về một chủ đề cụ thể \u001b[0m\u001b[32m(\u001b[0m\u001b[32mví dụ: khái niệm khoa học, sự kiện lịch sử, vấn đề xã hội\u001b[0m\u001b[32m)\u001b[0m\u001b[32m. Sau đó, cá nhân học sinh ghi lại các từ khóa, ý chính và câu hỏi thắc mắc. Tiếp theo, học sinh chia nhóm \u001b[0m\u001b[32m(\u001b[0m\u001b[32m3-4 người\u001b[0m\u001b[32m)\u001b[0m\u001b[32m để thảo luận, chia sẻ những gì đã khám phá, cùng nhau giải đáp thắc mắc và xây dựng một bản tóm tắt hoặc sơ đồ tư duy về chủ đề đó. Cuối cùng, một vài nhóm sẽ trình bày nhanh kết quả của mình.'\u001b[0m,\n",
       "\u001b[2;32m│   \u001b[0m\u001b[32m'extension_component'\u001b[0m: \u001b[32m'Nếu còn thời gian hoặc đối với học sinh hoàn thành nhanh, yêu cầu học sinh áp dụng kiến thức vừa học để giải quyết một bài tập nhỏ, tạo một ví dụ minh họa cụ thể, hoặc tự tìm kiếm thêm một thông tin liên quan đến chủ đề từ sách giáo khoa/internet và chia sẻ với nhóm.'\u001b[0m,\n",
       "\u001b[2;32m│   \u001b[0m\u001b[32m'solution_guide'\u001b[0m: \u001b[32m\"Các ý chính cần đạt được từ đoạn văn/tình huống: \u001b[0m\u001b[32m(\u001b[0m\u001b[32mLiệt kê các ý chính dự kiến\u001b[0m\u001b[32m)\u001b[0m\u001b[32m. Các câu hỏi gợi mở để học sinh tự kiểm tra hiểu biết: 'Bạn đã học được điều gì mới từ đoạn văn này?', 'Bạn có thể giải thích khái niệm X bằng lời của mình không?', 'Vấn đề Y có ý nghĩa gì trong bối cảnh hiện tại?'\"\u001b[0m,\n",
       "\u001b[2;32m│   \u001b[0m\u001b[32m'differentiation'\u001b[0m: \u001b[1m{\u001b[0m\n",
       "\u001b[2;32m│   │   \u001b[0m\u001b[32m'for_struggling_students'\u001b[0m: \u001b[32m'Cung cấp phiếu học tập có cấu trúc rõ ràng hơn, các câu hỏi gợi ý cụ thể hoặc danh sách từ khóa quan trọng. Khuyến khích làm việc cặp đôi với bạn khá hơn. Giáo viên dành thời gian hỗ trợ trực tiếp, giải thích lại các khái niệm khó.'\u001b[0m,\n",
       "\u001b[2;32m│   │   \u001b[0m\u001b[32m'for_advanced_students'\u001b[0m: \u001b[32m'Yêu cầu phân tích sâu hơn về nguyên nhân/hậu quả, liên hệ với các kiến thức đã học hoặc các vấn đề thực tiễn. Đặt câu hỏi phản biện hoặc yêu cầu tìm kiếm thêm thông tin từ các nguồn khác để mở rộng vấn đề.'\u001b[0m\n",
       "\u001b[2;32m│   \u001b[0m\u001b[1m}\u001b[0m,\n",
       "\u001b[2;32m│   \u001b[0m\u001b[32m'question_or_description'\u001b[0m: \u001b[32m'**Phần Cốt lõi:**\\nHọc sinh đọc một đoạn văn/tài liệu ngắn \u001b[0m\u001b[32m(\u001b[0m\u001b[32mkhoảng 1-2 trang\u001b[0m\u001b[32m)\u001b[0m\u001b[32m về một chủ đề cụ thể \u001b[0m\u001b[32m(\u001b[0m\u001b[32mví dụ: khái niệm khoa học, sự kiện lịch sử, vấn đề xã hội\u001b[0m\u001b[32m)\u001b[0m\u001b[32m. Sau đó, cá nhân học sinh ghi lại các từ khóa, ý chính và câu hỏi thắc mắc. Tiếp theo, học sinh chia nhóm \u001b[0m\u001b[32m(\u001b[0m\u001b[32m3-4 người\u001b[0m\u001b[32m)\u001b[0m\u001b[32m để thảo luận, chia sẻ những gì đã khám phá, cùng nhau giải đáp thắc mắc và xây dựng một bản tóm tắt hoặc sơ đồ tư duy về chủ đề đó. Cuối cùng, một vài nhóm sẽ trình bày nhanh kết quả của mình.\\n\\n**Phần Mở rộng \u001b[0m\u001b[32m(\u001b[0m\u001b[32mnếu còn thời gian\u001b[0m\u001b[32m)\u001b[0m\u001b[32m:**\\nNếu còn thời gian hoặc đối với học sinh hoàn thành nhanh, yêu cầu học sinh áp dụng kiến thức vừa học để giải quyết một bài tập nhỏ, tạo một ví dụ minh họa cụ thể, hoặc tự tìm kiếm thêm một thông tin liên quan đến chủ đề từ sách giáo khoa/internet và chia sẻ với nhóm.'\u001b[0m\n",
       "\u001b[1m}\u001b[0m\n"
      ]
     },
     "metadata": {},
     "output_type": "display_data"
    },
    {
     "data": {
      "text/html": [
       "<pre style=\"white-space:pre;overflow-x:auto;line-height:normal;font-family:Menlo,'DejaVu Sans Mono',consolas,'Courier New',monospace\">\n",
       "<span style=\"color: #808000; text-decoration-color: #808000; font-weight: bold\">------- Hoàn thành bước: activity_designer -------</span>\n",
       "</pre>\n"
      ],
      "text/plain": [
       "\n",
       "\u001b[1;33m------- Hoàn thành bước: activity_designer -------\u001b[0m\n"
      ]
     },
     "metadata": {},
     "output_type": "display_data"
    },
    {
     "data": {
      "text/html": [
       "<pre style=\"white-space:pre;overflow-x:auto;line-height:normal;font-family:Menlo,'DejaVu Sans Mono',consolas,'Courier New',monospace\">\n",
       "<span style=\"color: #008080; text-decoration-color: #008080; font-weight: bold\">&gt;</span> `Agent: Guardian Critic` <span style=\"font-weight: bold\">(</span>v10.<span style=\"color: #008080; text-decoration-color: #008080; font-weight: bold\">0</span><span style=\"font-weight: bold\">)</span> đang bảo vệ kế hoạch<span style=\"color: #808000; text-decoration-color: #808000\">...</span>\n",
       "</pre>\n"
      ],
      "text/plain": [
       "\n",
       "\u001b[1;36m>\u001b[0m `Agent: Guardian Critic` \u001b[1m(\u001b[0mv10.\u001b[1;36m0\u001b[0m\u001b[1m)\u001b[0m đang bảo vệ kế hoạch\u001b[33m...\u001b[0m\n"
      ]
     },
     "metadata": {},
     "output_type": "display_data"
    },
    {
     "data": {
      "text/html": [
       "<pre style=\"white-space:pre;overflow-x:auto;line-height:normal;font-family:Menlo,'DejaVu Sans Mono',consolas,'Courier New',monospace\"><span style=\"color: #808000; text-decoration-color: #808000; font-weight: bold\">⚠️  GUARDIAN PHẢN BIỆN: Hoạt động này có cấu trúc tốt và phù hợp về mặt sư phạm, tuy nhiên, với nhiều bước như đọc </span>\n",
       "<span style=\"color: #808000; text-decoration-color: #808000; font-weight: bold\">tài liệu cá nhân, ghi chú, thảo luận nhóm, xây dựng sản phẩm (tóm tắt/sơ đồ tư duy) và sau đó là trình bày của các </span>\n",
       "<span style=\"color: #808000; text-decoration-color: #808000; font-weight: bold\">nhóm, tổng thời lượng </span><span style=\"color: #808000; text-decoration-color: #808000; font-weight: bold\">45</span><span style=\"color: #808000; text-decoration-color: #808000; font-weight: bold\"> phút là không đủ để hoàn thành một cách hiệu quả. Mỗi bước đều cần thời gian nhất định để </span>\n",
       "<span style=\"color: #808000; text-decoration-color: #808000; font-weight: bold\">học sinh thực sự khám phá và xây dựng kiến thức. Hãy thiết kế lại một phiên bản hoạt động đơn giản hơn, ít bước hơn</span>\n",
       "<span style=\"color: #808000; text-decoration-color: #808000; font-weight: bold\">để khớp với thời gian </span><span style=\"color: #808000; text-decoration-color: #808000; font-weight: bold\">45</span><span style=\"color: #808000; text-decoration-color: #808000; font-weight: bold\"> phút đã cho.</span>\n",
       "</pre>\n"
      ],
      "text/plain": [
       "\u001b[1;33m⚠️  GUARDIAN PHẢN BIỆN: Hoạt động này có cấu trúc tốt và phù hợp về mặt sư phạm, tuy nhiên, với nhiều bước như đọc \u001b[0m\n",
       "\u001b[1;33mtài liệu cá nhân, ghi chú, thảo luận nhóm, xây dựng sản phẩm \u001b[0m\u001b[1;33m(\u001b[0m\u001b[1;33mtóm tắt/sơ đồ tư duy\u001b[0m\u001b[1;33m)\u001b[0m\u001b[1;33m và sau đó là trình bày của các \u001b[0m\n",
       "\u001b[1;33mnhóm, tổng thời lượng \u001b[0m\u001b[1;33m45\u001b[0m\u001b[1;33m phút là không đủ để hoàn thành một cách hiệu quả. Mỗi bước đều cần thời gian nhất định để \u001b[0m\n",
       "\u001b[1;33mhọc sinh thực sự khám phá và xây dựng kiến thức. Hãy thiết kế lại một phiên bản hoạt động đơn giản hơn, ít bước hơn\u001b[0m\n",
       "\u001b[1;33mđể khớp với thời gian \u001b[0m\u001b[1;33m45\u001b[0m\u001b[1;33m phút đã cho.\u001b[0m\n"
      ]
     },
     "metadata": {},
     "output_type": "display_data"
    },
    {
     "data": {
      "text/html": [
       "<pre style=\"white-space:pre;overflow-x:auto;line-height:normal;font-family:Menlo,'DejaVu Sans Mono',consolas,'Courier New',monospace\">\n",
       "<span style=\"color: #808000; text-decoration-color: #808000; font-weight: bold\">------- Hoàn thành bước: content_validator -------</span>\n",
       "</pre>\n"
      ],
      "text/plain": [
       "\n",
       "\u001b[1;33m------- Hoàn thành bước: content_validator -------\u001b[0m\n"
      ]
     },
     "metadata": {},
     "output_type": "display_data"
    },
    {
     "data": {
      "text/html": [
       "<pre style=\"white-space:pre;overflow-x:auto;line-height:normal;font-family:Menlo,'DejaVu Sans Mono',consolas,'Courier New',monospace\">\n",
       "<span style=\"color: #008080; text-decoration-color: #008080; font-weight: bold\">&gt;</span> `Agent: Task Dispatcher` đang giao việc<span style=\"color: #808000; text-decoration-color: #808000\">...</span>\n",
       "</pre>\n"
      ],
      "text/plain": [
       "\n",
       "\u001b[1;36m>\u001b[0m `Agent: Task Dispatcher` đang giao việc\u001b[33m...\u001b[0m\n"
      ]
     },
     "metadata": {},
     "output_type": "display_data"
    },
    {
     "data": {
      "text/html": [
       "<pre style=\"white-space:pre;overflow-x:auto;line-height:normal;font-family:Menlo,'DejaVu Sans Mono',consolas,'Courier New',monospace\">\n",
       "<span style=\"color: #008080; text-decoration-color: #008080; font-weight: bold\">&gt;</span> --- 🚚 `Dispatcher`: Giao nhiệm vụ cho `activity_designer`.\n",
       "</pre>\n"
      ],
      "text/plain": [
       "\n",
       "\u001b[1;36m>\u001b[0m --- 🚚 `Dispatcher`: Giao nhiệm vụ cho `activity_designer`.\n"
      ]
     },
     "metadata": {},
     "output_type": "display_data"
    },
    {
     "data": {
      "text/html": [
       "<pre style=\"white-space:pre;overflow-x:auto;line-height:normal;font-family:Menlo,'DejaVu Sans Mono',consolas,'Courier New',monospace\">\n",
       "<span style=\"color: #808000; text-decoration-color: #808000; font-weight: bold\">------- Hoàn thành bước: task_dispatcher -------</span>\n",
       "</pre>\n"
      ],
      "text/plain": [
       "\n",
       "\u001b[1;33m------- Hoàn thành bước: task_dispatcher -------\u001b[0m\n"
      ]
     },
     "metadata": {},
     "output_type": "display_data"
    },
    {
     "data": {
      "text/html": [
       "<pre style=\"white-space:pre;overflow-x:auto;line-height:normal;font-family:Menlo,'DejaVu Sans Mono',consolas,'Courier New',monospace\">\n",
       "<span style=\"color: #008080; text-decoration-color: #008080; font-weight: bold\">&gt;</span> `Agent: Activity Designer` <span style=\"font-weight: bold\">(</span>v10.<span style=\"color: #008080; text-decoration-color: #008080; font-weight: bold\">0</span><span style=\"font-weight: bold\">)</span> đang tạo nội dung theo kỷ luật<span style=\"color: #808000; text-decoration-color: #808000\">...</span>\n",
       "</pre>\n"
      ],
      "text/plain": [
       "\n",
       "\u001b[1;36m>\u001b[0m `Agent: Activity Designer` \u001b[1m(\u001b[0mv10.\u001b[1;36m0\u001b[0m\u001b[1m)\u001b[0m đang tạo nội dung theo kỷ luật\u001b[33m...\u001b[0m\n"
      ]
     },
     "metadata": {},
     "output_type": "display_data"
    },
    {
     "data": {
      "text/html": [
       "<pre style=\"white-space:pre;overflow-x:auto;line-height:normal;font-family:Menlo,'DejaVu Sans Mono',consolas,'Courier New',monospace\"><span style=\"color: #008000; text-decoration-color: #008000; font-weight: bold\">✔️ Nội dung do Activity Designer tạo ra:</span>\n",
       "</pre>\n"
      ],
      "text/plain": [
       "\u001b[1;32m✔️ Nội dung do Activity Designer tạo ra:\u001b[0m\n"
      ]
     },
     "metadata": {},
     "output_type": "display_data"
    },
    {
     "data": {
      "text/html": [
       "<pre style=\"white-space:pre;overflow-x:auto;line-height:normal;font-family:Menlo,'DejaVu Sans Mono',consolas,'Courier New',monospace\"><span style=\"font-weight: bold\">{</span>\n",
       "<span style=\"color: #7fbf7f; text-decoration-color: #7fbf7f\">│   </span><span style=\"color: #008000; text-decoration-color: #008000\">'activity_name'</span>: <span style=\"color: #008000; text-decoration-color: #008000\">'Khám phá và Xây dựng kiến thức'</span>,\n",
       "<span style=\"color: #7fbf7f; text-decoration-color: #7fbf7f\">│   </span><span style=\"color: #008000; text-decoration-color: #008000\">'activity_type'</span>: <span style=\"color: #008000; text-decoration-color: #008000\">'Thảo luận nhóm và Tổng hợp kiến thức'</span>,\n",
       "<span style=\"color: #7fbf7f; text-decoration-color: #7fbf7f\">│   </span><span style=\"color: #008000; text-decoration-color: #008000\">'duration_minutes'</span>: <span style=\"color: #008080; text-decoration-color: #008080; font-weight: bold\">45</span>,\n",
       "<span style=\"color: #7fbf7f; text-decoration-color: #7fbf7f\">│   </span><span style=\"color: #008000; text-decoration-color: #008000\">'teacher_actions'</span>: <span style=\"font-weight: bold\">[</span>\n",
       "<span style=\"color: #7fbf7f; text-decoration-color: #7fbf7f\">│   │   </span><span style=\"color: #008000; text-decoration-color: #008000\">'Giới thiệu mục tiêu hoạt động và phân chia nhóm.'</span>,\n",
       "<span style=\"color: #7fbf7f; text-decoration-color: #7fbf7f\">│   │   </span><span style=\"color: #008000; text-decoration-color: #008000\">'Phát tài liệu và câu hỏi trọng tâm cho từng nhóm.'</span>,\n",
       "<span style=\"color: #7fbf7f; text-decoration-color: #7fbf7f\">│   │   </span><span style=\"color: #008000; text-decoration-color: #008000\">'Quan sát, lắng nghe các nhóm thảo luận, gợi ý khi cần thiết (không can thiệp sâu vào quá trình khám phá của học sinh).'</span>,\n",
       "<span style=\"color: #7fbf7f; text-decoration-color: #7fbf7f\">│   │   </span><span style=\"color: #008000; text-decoration-color: #008000\">'Quản lý thời gian, nhắc nhở các nhóm chuyển giai đoạn.'</span>,\n",
       "<span style=\"color: #7fbf7f; text-decoration-color: #7fbf7f\">│   │   </span><span style=\"color: #008000; text-decoration-color: #008000\">'Tổ chức phần chia sẻ nhanh của các nhóm (mỗi nhóm 1-2 phút).'</span>,\n",
       "<span style=\"color: #7fbf7f; text-decoration-color: #7fbf7f\">│   │   </span><span style=\"color: #008000; text-decoration-color: #008000\">'Tổng kết các ý chính, chốt kiến thức và giải đáp thắc mắc.'</span>\n",
       "<span style=\"color: #7fbf7f; text-decoration-color: #7fbf7f\">│   </span><span style=\"font-weight: bold\">]</span>,\n",
       "<span style=\"color: #7fbf7f; text-decoration-color: #7fbf7f\">│   </span><span style=\"color: #008000; text-decoration-color: #008000\">'core_component'</span>: <span style=\"color: #008000; text-decoration-color: #008000\">'Học sinh làm việc theo nhóm (3-4 người). Mỗi nhóm nhận một đoạn văn bản ngắn (hoặc một hình ảnh/biểu đồ) chứa thông tin trọng tâm về chủ đề. Nhiệm vụ của nhóm là: 1. Đọc nhanh và thảo luận để xác định 2-3 ý chính/khái niệm quan trọng nhất từ tài liệu. 2. Thống nhất và ghi lại 1-2 câu trả lời ngắn gọn cho câu hỏi trọng tâm do giáo viên đưa ra (ví dụ: \"Điều quan trọng nhất bạn học được từ tài liệu này là gì?\" hoặc \"Hãy nêu 2 tác động chính của X lên Y?\"). 3. Chuẩn bị để một thành viên đại diện nhóm chia sẻ nhanh kết quả trong 1-2 phút.'</span>,\n",
       "<span style=\"color: #7fbf7f; text-decoration-color: #7fbf7f\">│   </span><span style=\"color: #008000; text-decoration-color: #008000\">'extension_component'</span>: <span style=\"color: #008000; text-decoration-color: #008000\">'Nếu nhóm hoàn thành sớm, hãy yêu cầu các em tìm thêm một ví dụ thực tế minh họa cho một trong các ý chính đã tìm được hoặc đặt một câu hỏi mở rộng liên quan đến chủ đề để thách thức các nhóm khác.'</span>,\n",
       "<span style=\"color: #7fbf7f; text-decoration-color: #7fbf7f\">│   </span><span style=\"color: #008000; text-decoration-color: #008000\">'solution_guide'</span>: <span style=\"color: #008000; text-decoration-color: #008000\">'Các ý chính cần đạt được từ tài liệu: (Liệt kê 2-3 ý chính dự kiến). Câu hỏi gợi mở: \"Tại sao ý này lại quan trọng?\", \"Bạn có thể liên hệ điều này với kiến thức nào đã học?\"'</span>,\n",
       "<span style=\"color: #7fbf7f; text-decoration-color: #7fbf7f\">│   </span><span style=\"color: #008000; text-decoration-color: #008000\">'differentiation'</span>: <span style=\"font-weight: bold\">{</span>\n",
       "<span style=\"color: #7fbf7f; text-decoration-color: #7fbf7f\">│   │   </span><span style=\"color: #008000; text-decoration-color: #008000\">'for_struggling_students'</span>: <span style=\"color: #008000; text-decoration-color: #008000\">'Cung cấp tài liệu đơn giản hơn, có gạch chân các từ khóa quan trọng hoặc câu hỏi gợi mở cụ thể hơn. Ghép nhóm với học sinh khá để nhận được sự hỗ trợ từ bạn bè.'</span>,\n",
       "<span style=\"color: #7fbf7f; text-decoration-color: #7fbf7f\">│   │   </span><span style=\"color: #008000; text-decoration-color: #008000\">'for_advanced_students'</span>: <span style=\"color: #008000; text-decoration-color: #008000\">'Yêu cầu phân tích sâu hơn một ý chính, liên hệ kiến thức với các vấn đề thực tiễn, hoặc đặt câu hỏi phản biện cho các nhóm khác sau khi chia sẻ.'</span>\n",
       "<span style=\"color: #7fbf7f; text-decoration-color: #7fbf7f\">│   </span><span style=\"font-weight: bold\">}</span>,\n",
       "<span style=\"color: #7fbf7f; text-decoration-color: #7fbf7f\">│   </span><span style=\"color: #008000; text-decoration-color: #008000\">'question_or_description'</span>: <span style=\"color: #008000; text-decoration-color: #008000\">'**Phần Cốt lõi:**\\nHọc sinh làm việc theo nhóm (3-4 người). Mỗi nhóm nhận một đoạn văn bản ngắn (hoặc một hình ảnh/biểu đồ) chứa thông tin trọng tâm về chủ đề. Nhiệm vụ của nhóm là: 1. Đọc nhanh và thảo luận để xác định 2-3 ý chính/khái niệm quan trọng nhất từ tài liệu. 2. Thống nhất và ghi lại 1-2 câu trả lời ngắn gọn cho câu hỏi trọng tâm do giáo viên đưa ra (ví dụ: \"Điều quan trọng nhất bạn học được từ tài liệu này là gì?\" hoặc \"Hãy nêu 2 tác động chính của X lên Y?\"). 3. Chuẩn bị để một thành viên đại diện nhóm chia sẻ nhanh kết quả trong 1-2 phút.\\n\\n**Phần Mở rộng (nếu còn thời gian):**\\nNếu nhóm hoàn thành sớm, hãy yêu cầu các em tìm thêm một ví dụ thực tế minh họa cho một trong các ý chính đã tìm được hoặc đặt một câu hỏi mở rộng liên quan đến chủ đề để thách thức các nhóm khác.'</span>\n",
       "<span style=\"font-weight: bold\">}</span>\n",
       "</pre>\n"
      ],
      "text/plain": [
       "\u001b[1m{\u001b[0m\n",
       "\u001b[2;32m│   \u001b[0m\u001b[32m'activity_name'\u001b[0m: \u001b[32m'Khám phá và Xây dựng kiến thức'\u001b[0m,\n",
       "\u001b[2;32m│   \u001b[0m\u001b[32m'activity_type'\u001b[0m: \u001b[32m'Thảo luận nhóm và Tổng hợp kiến thức'\u001b[0m,\n",
       "\u001b[2;32m│   \u001b[0m\u001b[32m'duration_minutes'\u001b[0m: \u001b[1;36m45\u001b[0m,\n",
       "\u001b[2;32m│   \u001b[0m\u001b[32m'teacher_actions'\u001b[0m: \u001b[1m[\u001b[0m\n",
       "\u001b[2;32m│   │   \u001b[0m\u001b[32m'Giới thiệu mục tiêu hoạt động và phân chia nhóm.'\u001b[0m,\n",
       "\u001b[2;32m│   │   \u001b[0m\u001b[32m'Phát tài liệu và câu hỏi trọng tâm cho từng nhóm.'\u001b[0m,\n",
       "\u001b[2;32m│   │   \u001b[0m\u001b[32m'Quan sát, lắng nghe các nhóm thảo luận, gợi ý khi cần thiết \u001b[0m\u001b[32m(\u001b[0m\u001b[32mkhông can thiệp sâu vào quá trình khám phá của học sinh\u001b[0m\u001b[32m)\u001b[0m\u001b[32m.'\u001b[0m,\n",
       "\u001b[2;32m│   │   \u001b[0m\u001b[32m'Quản lý thời gian, nhắc nhở các nhóm chuyển giai đoạn.'\u001b[0m,\n",
       "\u001b[2;32m│   │   \u001b[0m\u001b[32m'Tổ chức phần chia sẻ nhanh của các nhóm \u001b[0m\u001b[32m(\u001b[0m\u001b[32mmỗi nhóm 1-2 phút\u001b[0m\u001b[32m)\u001b[0m\u001b[32m.'\u001b[0m,\n",
       "\u001b[2;32m│   │   \u001b[0m\u001b[32m'Tổng kết các ý chính, chốt kiến thức và giải đáp thắc mắc.'\u001b[0m\n",
       "\u001b[2;32m│   \u001b[0m\u001b[1m]\u001b[0m,\n",
       "\u001b[2;32m│   \u001b[0m\u001b[32m'core_component'\u001b[0m: \u001b[32m'Học sinh làm việc theo nhóm \u001b[0m\u001b[32m(\u001b[0m\u001b[32m3-4 người\u001b[0m\u001b[32m)\u001b[0m\u001b[32m. Mỗi nhóm nhận một đoạn văn bản ngắn \u001b[0m\u001b[32m(\u001b[0m\u001b[32mhoặc một hình ảnh/biểu đồ\u001b[0m\u001b[32m)\u001b[0m\u001b[32m chứa thông tin trọng tâm về chủ đề. Nhiệm vụ của nhóm là: 1. Đọc nhanh và thảo luận để xác định 2-3 ý chính/khái niệm quan trọng nhất từ tài liệu. 2. Thống nhất và ghi lại 1-2 câu trả lời ngắn gọn cho câu hỏi trọng tâm do giáo viên đưa ra \u001b[0m\u001b[32m(\u001b[0m\u001b[32mví dụ: \"Điều quan trọng nhất bạn học được từ tài liệu này là gì?\" hoặc \"Hãy nêu 2 tác động chính của X lên Y?\"\u001b[0m\u001b[32m)\u001b[0m\u001b[32m. 3. Chuẩn bị để một thành viên đại diện nhóm chia sẻ nhanh kết quả trong 1-2 phút.'\u001b[0m,\n",
       "\u001b[2;32m│   \u001b[0m\u001b[32m'extension_component'\u001b[0m: \u001b[32m'Nếu nhóm hoàn thành sớm, hãy yêu cầu các em tìm thêm một ví dụ thực tế minh họa cho một trong các ý chính đã tìm được hoặc đặt một câu hỏi mở rộng liên quan đến chủ đề để thách thức các nhóm khác.'\u001b[0m,\n",
       "\u001b[2;32m│   \u001b[0m\u001b[32m'solution_guide'\u001b[0m: \u001b[32m'Các ý chính cần đạt được từ tài liệu: \u001b[0m\u001b[32m(\u001b[0m\u001b[32mLiệt kê 2-3 ý chính dự kiến\u001b[0m\u001b[32m)\u001b[0m\u001b[32m. Câu hỏi gợi mở: \"Tại sao ý này lại quan trọng?\", \"Bạn có thể liên hệ điều này với kiến thức nào đã học?\"'\u001b[0m,\n",
       "\u001b[2;32m│   \u001b[0m\u001b[32m'differentiation'\u001b[0m: \u001b[1m{\u001b[0m\n",
       "\u001b[2;32m│   │   \u001b[0m\u001b[32m'for_struggling_students'\u001b[0m: \u001b[32m'Cung cấp tài liệu đơn giản hơn, có gạch chân các từ khóa quan trọng hoặc câu hỏi gợi mở cụ thể hơn. Ghép nhóm với học sinh khá để nhận được sự hỗ trợ từ bạn bè.'\u001b[0m,\n",
       "\u001b[2;32m│   │   \u001b[0m\u001b[32m'for_advanced_students'\u001b[0m: \u001b[32m'Yêu cầu phân tích sâu hơn một ý chính, liên hệ kiến thức với các vấn đề thực tiễn, hoặc đặt câu hỏi phản biện cho các nhóm khác sau khi chia sẻ.'\u001b[0m\n",
       "\u001b[2;32m│   \u001b[0m\u001b[1m}\u001b[0m,\n",
       "\u001b[2;32m│   \u001b[0m\u001b[32m'question_or_description'\u001b[0m: \u001b[32m'**Phần Cốt lõi:**\\nHọc sinh làm việc theo nhóm \u001b[0m\u001b[32m(\u001b[0m\u001b[32m3-4 người\u001b[0m\u001b[32m)\u001b[0m\u001b[32m. Mỗi nhóm nhận một đoạn văn bản ngắn \u001b[0m\u001b[32m(\u001b[0m\u001b[32mhoặc một hình ảnh/biểu đồ\u001b[0m\u001b[32m)\u001b[0m\u001b[32m chứa thông tin trọng tâm về chủ đề. Nhiệm vụ của nhóm là: 1. Đọc nhanh và thảo luận để xác định 2-3 ý chính/khái niệm quan trọng nhất từ tài liệu. 2. Thống nhất và ghi lại 1-2 câu trả lời ngắn gọn cho câu hỏi trọng tâm do giáo viên đưa ra \u001b[0m\u001b[32m(\u001b[0m\u001b[32mví dụ: \"Điều quan trọng nhất bạn học được từ tài liệu này là gì?\" hoặc \"Hãy nêu 2 tác động chính của X lên Y?\"\u001b[0m\u001b[32m)\u001b[0m\u001b[32m. 3. Chuẩn bị để một thành viên đại diện nhóm chia sẻ nhanh kết quả trong 1-2 phút.\\n\\n**Phần Mở rộng \u001b[0m\u001b[32m(\u001b[0m\u001b[32mnếu còn thời gian\u001b[0m\u001b[32m)\u001b[0m\u001b[32m:**\\nNếu nhóm hoàn thành sớm, hãy yêu cầu các em tìm thêm một ví dụ thực tế minh họa cho một trong các ý chính đã tìm được hoặc đặt một câu hỏi mở rộng liên quan đến chủ đề để thách thức các nhóm khác.'\u001b[0m\n",
       "\u001b[1m}\u001b[0m\n"
      ]
     },
     "metadata": {},
     "output_type": "display_data"
    },
    {
     "data": {
      "text/html": [
       "<pre style=\"white-space:pre;overflow-x:auto;line-height:normal;font-family:Menlo,'DejaVu Sans Mono',consolas,'Courier New',monospace\">\n",
       "<span style=\"color: #808000; text-decoration-color: #808000; font-weight: bold\">------- Hoàn thành bước: activity_designer -------</span>\n",
       "</pre>\n"
      ],
      "text/plain": [
       "\n",
       "\u001b[1;33m------- Hoàn thành bước: activity_designer -------\u001b[0m\n"
      ]
     },
     "metadata": {},
     "output_type": "display_data"
    },
    {
     "data": {
      "text/html": [
       "<pre style=\"white-space:pre;overflow-x:auto;line-height:normal;font-family:Menlo,'DejaVu Sans Mono',consolas,'Courier New',monospace\">\n",
       "<span style=\"color: #008080; text-decoration-color: #008080; font-weight: bold\">&gt;</span> `Agent: Guardian Critic` <span style=\"font-weight: bold\">(</span>v10.<span style=\"color: #008080; text-decoration-color: #008080; font-weight: bold\">0</span><span style=\"font-weight: bold\">)</span> đang bảo vệ kế hoạch<span style=\"color: #808000; text-decoration-color: #808000\">...</span>\n",
       "</pre>\n"
      ],
      "text/plain": [
       "\n",
       "\u001b[1;36m>\u001b[0m `Agent: Guardian Critic` \u001b[1m(\u001b[0mv10.\u001b[1;36m0\u001b[0m\u001b[1m)\u001b[0m đang bảo vệ kế hoạch\u001b[33m...\u001b[0m\n"
      ]
     },
     "metadata": {},
     "output_type": "display_data"
    },
    {
     "data": {
      "text/html": [
       "<pre style=\"white-space:pre;overflow-x:auto;line-height:normal;font-family:Menlo,'DejaVu Sans Mono',consolas,'Courier New',monospace\"><span style=\"color: #808000; text-decoration-color: #808000; font-weight: bold\">⚠️  GUARDIAN PHẢN BIỆN: Hoạt động được thiết kế khá tốt và phù hợp với mục tiêu </span><span style=\"color: #808000; text-decoration-color: #808000; font-weight: bold\">\"Khám phá và Xây dựng kiến thức\"</span><span style=\"color: #808000; text-decoration-color: #808000; font-weight: bold\">. </span>\n",
       "<span style=\"color: #808000; text-decoration-color: #808000; font-weight: bold\">Tuy nhiên, với thời lượng </span><span style=\"color: #808000; text-decoration-color: #808000; font-weight: bold\">45</span><span style=\"color: #808000; text-decoration-color: #808000; font-weight: bold\"> phút, các bước được mô tả có vẻ quá chi tiết và sẽ rất khó để hoàn thành một cách hiệu</span>\n",
       "<span style=\"color: #808000; text-decoration-color: #808000; font-weight: bold\">quả. Cụ thể, phần thảo luận nhóm để đọc, xác định ý chính, thống nhất câu trả lời và chuẩn bị chia sẻ sẽ cần nhiều </span>\n",
       "<span style=\"color: #808000; text-decoration-color: #808000; font-weight: bold\">thời gian hơn dự kiến. Sau đó, việc tổ chức cho nhiều nhóm cùng chia sẻ (mỗi nhóm </span><span style=\"color: #808000; text-decoration-color: #808000; font-weight: bold\">1</span><span style=\"color: #808000; text-decoration-color: #808000; font-weight: bold\">-</span><span style=\"color: #808000; text-decoration-color: #808000; font-weight: bold\">2</span><span style=\"color: #808000; text-decoration-color: #808000; font-weight: bold\"> phút) cũng sẽ chiếm một phần </span>\n",
       "<span style=\"color: #808000; text-decoration-color: #808000; font-weight: bold\">đáng kể thời gian còn lại. Điều này có thể khiến hoạt động bị gấp gáp, ảnh hưởng đến chất lượng khám phá và tổng </span>\n",
       "<span style=\"color: #808000; text-decoration-color: #808000; font-weight: bold\">hợp kiến thức của học sinh. Hãy thiết kế lại một phiên bản hoạt động đơn giản hơn, ít bước hơn để khớp với thời </span>\n",
       "<span style=\"color: #808000; text-decoration-color: #808000; font-weight: bold\">gian </span><span style=\"color: #808000; text-decoration-color: #808000; font-weight: bold\">45</span><span style=\"color: #808000; text-decoration-color: #808000; font-weight: bold\"> phút đã cho.</span>\n",
       "</pre>\n"
      ],
      "text/plain": [
       "\u001b[1;33m⚠️  GUARDIAN PHẢN BIỆN: Hoạt động được thiết kế khá tốt và phù hợp với mục tiêu \u001b[0m\u001b[1;33m\"Khám phá và Xây dựng kiến thức\"\u001b[0m\u001b[1;33m. \u001b[0m\n",
       "\u001b[1;33mTuy nhiên, với thời lượng \u001b[0m\u001b[1;33m45\u001b[0m\u001b[1;33m phút, các bước được mô tả có vẻ quá chi tiết và sẽ rất khó để hoàn thành một cách hiệu\u001b[0m\n",
       "\u001b[1;33mquả. Cụ thể, phần thảo luận nhóm để đọc, xác định ý chính, thống nhất câu trả lời và chuẩn bị chia sẻ sẽ cần nhiều \u001b[0m\n",
       "\u001b[1;33mthời gian hơn dự kiến. Sau đó, việc tổ chức cho nhiều nhóm cùng chia sẻ \u001b[0m\u001b[1;33m(\u001b[0m\u001b[1;33mmỗi nhóm \u001b[0m\u001b[1;33m1\u001b[0m\u001b[1;33m-\u001b[0m\u001b[1;33m2\u001b[0m\u001b[1;33m phút\u001b[0m\u001b[1;33m)\u001b[0m\u001b[1;33m cũng sẽ chiếm một phần \u001b[0m\n",
       "\u001b[1;33mđáng kể thời gian còn lại. Điều này có thể khiến hoạt động bị gấp gáp, ảnh hưởng đến chất lượng khám phá và tổng \u001b[0m\n",
       "\u001b[1;33mhợp kiến thức của học sinh. Hãy thiết kế lại một phiên bản hoạt động đơn giản hơn, ít bước hơn để khớp với thời \u001b[0m\n",
       "\u001b[1;33mgian \u001b[0m\u001b[1;33m45\u001b[0m\u001b[1;33m phút đã cho.\u001b[0m\n"
      ]
     },
     "metadata": {},
     "output_type": "display_data"
    },
    {
     "data": {
      "text/html": [
       "<pre style=\"white-space:pre;overflow-x:auto;line-height:normal;font-family:Menlo,'DejaVu Sans Mono',consolas,'Courier New',monospace\">\n",
       "<span style=\"color: #808000; text-decoration-color: #808000; font-weight: bold\">------- Hoàn thành bước: content_validator -------</span>\n",
       "</pre>\n"
      ],
      "text/plain": [
       "\n",
       "\u001b[1;33m------- Hoàn thành bước: content_validator -------\u001b[0m\n"
      ]
     },
     "metadata": {},
     "output_type": "display_data"
    },
    {
     "data": {
      "text/html": [
       "<pre style=\"white-space:pre;overflow-x:auto;line-height:normal;font-family:Menlo,'DejaVu Sans Mono',consolas,'Courier New',monospace\">\n",
       "<span style=\"color: #008080; text-decoration-color: #008080; font-weight: bold\">&gt;</span> `Agent: Task Dispatcher` đang giao việc<span style=\"color: #808000; text-decoration-color: #808000\">...</span>\n",
       "</pre>\n"
      ],
      "text/plain": [
       "\n",
       "\u001b[1;36m>\u001b[0m `Agent: Task Dispatcher` đang giao việc\u001b[33m...\u001b[0m\n"
      ]
     },
     "metadata": {},
     "output_type": "display_data"
    },
    {
     "data": {
      "text/html": [
       "<pre style=\"white-space:pre;overflow-x:auto;line-height:normal;font-family:Menlo,'DejaVu Sans Mono',consolas,'Courier New',monospace\">\n",
       "<span style=\"color: #008080; text-decoration-color: #008080; font-weight: bold\">&gt;</span> --- 🚚 `Dispatcher`: Giao nhiệm vụ cho `activity_designer`.\n",
       "</pre>\n"
      ],
      "text/plain": [
       "\n",
       "\u001b[1;36m>\u001b[0m --- 🚚 `Dispatcher`: Giao nhiệm vụ cho `activity_designer`.\n"
      ]
     },
     "metadata": {},
     "output_type": "display_data"
    },
    {
     "data": {
      "text/html": [
       "<pre style=\"white-space:pre;overflow-x:auto;line-height:normal;font-family:Menlo,'DejaVu Sans Mono',consolas,'Courier New',monospace\">\n",
       "<span style=\"color: #808000; text-decoration-color: #808000; font-weight: bold\">------- Hoàn thành bước: task_dispatcher -------</span>\n",
       "</pre>\n"
      ],
      "text/plain": [
       "\n",
       "\u001b[1;33m------- Hoàn thành bước: task_dispatcher -------\u001b[0m\n"
      ]
     },
     "metadata": {},
     "output_type": "display_data"
    },
    {
     "data": {
      "text/html": [
       "<pre style=\"white-space:pre;overflow-x:auto;line-height:normal;font-family:Menlo,'DejaVu Sans Mono',consolas,'Courier New',monospace\">\n",
       "<span style=\"color: #008080; text-decoration-color: #008080; font-weight: bold\">&gt;</span> `Agent: Activity Designer` <span style=\"font-weight: bold\">(</span>v10.<span style=\"color: #008080; text-decoration-color: #008080; font-weight: bold\">0</span><span style=\"font-weight: bold\">)</span> đang tạo nội dung theo kỷ luật<span style=\"color: #808000; text-decoration-color: #808000\">...</span>\n",
       "</pre>\n"
      ],
      "text/plain": [
       "\n",
       "\u001b[1;36m>\u001b[0m `Agent: Activity Designer` \u001b[1m(\u001b[0mv10.\u001b[1;36m0\u001b[0m\u001b[1m)\u001b[0m đang tạo nội dung theo kỷ luật\u001b[33m...\u001b[0m\n"
      ]
     },
     "metadata": {},
     "output_type": "display_data"
    },
    {
     "data": {
      "text/html": [
       "<pre style=\"white-space:pre;overflow-x:auto;line-height:normal;font-family:Menlo,'DejaVu Sans Mono',consolas,'Courier New',monospace\"><span style=\"color: #008000; text-decoration-color: #008000; font-weight: bold\">✔️ Nội dung do Activity Designer tạo ra:</span>\n",
       "</pre>\n"
      ],
      "text/plain": [
       "\u001b[1;32m✔️ Nội dung do Activity Designer tạo ra:\u001b[0m\n"
      ]
     },
     "metadata": {},
     "output_type": "display_data"
    },
    {
     "data": {
      "text/html": [
       "<pre style=\"white-space:pre;overflow-x:auto;line-height:normal;font-family:Menlo,'DejaVu Sans Mono',consolas,'Courier New',monospace\"><span style=\"font-weight: bold\">{</span>\n",
       "<span style=\"color: #7fbf7f; text-decoration-color: #7fbf7f\">│   </span><span style=\"color: #008000; text-decoration-color: #008000\">'activity_name'</span>: <span style=\"color: #008000; text-decoration-color: #008000\">'Khám phá và Xây dựng kiến thức'</span>,\n",
       "<span style=\"color: #7fbf7f; text-decoration-color: #7fbf7f\">│   </span><span style=\"color: #008000; text-decoration-color: #008000\">'activity_type'</span>: <span style=\"color: #008000; text-decoration-color: #008000\">'Hoạt động nhóm và Tổng hợp kiến thức'</span>,\n",
       "<span style=\"color: #7fbf7f; text-decoration-color: #7fbf7f\">│   </span><span style=\"color: #008000; text-decoration-color: #008000\">'duration_minutes'</span>: <span style=\"color: #008080; text-decoration-color: #008080; font-weight: bold\">45</span>,\n",
       "<span style=\"color: #7fbf7f; text-decoration-color: #7fbf7f\">│   </span><span style=\"color: #008000; text-decoration-color: #008000\">'teacher_actions'</span>: <span style=\"font-weight: bold\">[</span>\n",
       "<span style=\"color: #7fbf7f; text-decoration-color: #7fbf7f\">│   │   </span><span style=\"color: #008000; text-decoration-color: #008000\">'Giới thiệu mục tiêu hoạt động và phân chia nhóm (5 phút).'</span>,\n",
       "<span style=\"color: #7fbf7f; text-decoration-color: #7fbf7f\">│   │   </span><span style=\"color: #008000; text-decoration-color: #008000\">'Phát tài liệu và câu hỏi trọng tâm cho từng nhóm (2 phút).'</span>,\n",
       "<span style=\"color: #7fbf7f; text-decoration-color: #7fbf7f\">│   │   </span><span style=\"color: #008000; text-decoration-color: #008000\">'Đi quanh các nhóm, quan sát, lắng nghe, và gợi ý khi cần thiết (không giải đáp trực tiếp mà đặt câu hỏi mở) (20 phút).'</span>,\n",
       "<span style=\"color: #7fbf7f; text-decoration-color: #7fbf7f\">│   │   </span><span style=\"color: #008000; text-decoration-color: #008000\">'Quản lý thời gian chặt chẽ cho từng giai đoạn.'</span>,\n",
       "<span style=\"color: #7fbf7f; text-decoration-color: #7fbf7f\">│   │   </span><span style=\"color: #008000; text-decoration-color: #008000\">\"Tổ chức phần chia sẻ nhanh của các nhóm (chọn ngẫu nhiên 2-3 nhóm hoặc yêu cầu các nhóm chia sẻ ý chính theo hình thức 'popcorn') (10 phút).\"</span>,\n",
       "<span style=\"color: #7fbf7f; text-decoration-color: #7fbf7f\">│   │   </span><span style=\"color: #008000; text-decoration-color: #008000\">'Tổng hợp các ý kiến, chốt lại kiến thức cốt lõi và giải đáp thắc mắc (nếu có) (8 phút).'</span>\n",
       "<span style=\"color: #7fbf7f; text-decoration-color: #7fbf7f\">│   </span><span style=\"font-weight: bold\">]</span>,\n",
       "<span style=\"color: #7fbf7f; text-decoration-color: #7fbf7f\">│   </span><span style=\"color: #008000; text-decoration-color: #008000\">'core_component'</span>: <span style=\"color: #008000; text-decoration-color: #008000\">'Học sinh làm việc theo nhóm (3-4 người). Mỗi nhóm sẽ được cung cấp một đoạn văn bản ngắn (hoặc một tình huống/ví dụ cụ thể) liên quan đến chủ đề đang học. Nhiệm vụ của nhóm là đọc nhanh, thảo luận để xác định một ý chính hoặc trả lời một câu hỏi trọng tâm duy nhất được giáo viên đưa ra. Mục tiêu là tổng hợp kiến thức cốt lõi từ tài liệu đã cho. Sau khi thảo luận, các nhóm chuẩn bị một câu trả lời ngắn gọn hoặc một ý chính để chia sẻ nhanh với cả lớp.'</span>,\n",
       "<span style=\"color: #7fbf7f; text-decoration-color: #7fbf7f\">│   </span><span style=\"color: #008000; text-decoration-color: #008000\">'extension_component'</span>: <span style=\"color: #008000; text-decoration-color: #008000\">'Nếu hoàn thành sớm, các nhóm có thể tìm thêm một ví dụ thực tế khác minh họa cho ý chính vừa khám phá hoặc đặt một câu hỏi mở rộng cho cả lớp.'</span>,\n",
       "<span style=\"color: #7fbf7f; text-decoration-color: #7fbf7f\">│   </span><span style=\"color: #008000; text-decoration-color: #008000\">'solution_guide'</span>: <span style=\"color: #008000; text-decoration-color: #008000\">\"Các ý chính/câu trả lời cần tập trung vào khái niệm/nguyên lý cốt lõi của bài học. Ví dụ: Nếu bài về 'Biến đổi khí hậu', ý chính có thể là 'Nguyên nhân chính gây biến đổi khí hậu là do hoạt động của con người' hoặc 'Hậu quả của biến đổi khí hậu là...'. Giáo viên cần có sẵn các đáp án mẫu hoặc các điểm cần đạt được để đối chiếu.\"</span>,\n",
       "<span style=\"color: #7fbf7f; text-decoration-color: #7fbf7f\">│   </span><span style=\"color: #008000; text-decoration-color: #008000\">'differentiation'</span>: <span style=\"font-weight: bold\">{</span>\n",
       "<span style=\"color: #7fbf7f; text-decoration-color: #7fbf7f\">│   │   </span><span style=\"color: #008000; text-decoration-color: #008000\">'for_struggling_students'</span>: <span style=\"color: #008000; text-decoration-color: #008000\">'Cung cấp tài liệu đơn giản hơn hoặc câu hỏi gợi ý cụ thể hơn. Giáo viên dành thời gian hỗ trợ trực tiếp, đặt câu hỏi dẫn dắt để giúp các em tìm ra ý chính.'</span>,\n",
       "<span style=\"color: #7fbf7f; text-decoration-color: #7fbf7f\">│   │   </span><span style=\"color: #008000; text-decoration-color: #008000\">'for_advanced_students'</span>: <span style=\"color: #008000; text-decoration-color: #008000\">'Yêu cầu các em phân tích sâu hơn về mối liên hệ giữa ý chính vừa tìm được với các kiến thức đã học hoặc suy nghĩ về ứng dụng thực tiễn của kiến thức đó.'</span>\n",
       "<span style=\"color: #7fbf7f; text-decoration-color: #7fbf7f\">│   </span><span style=\"font-weight: bold\">}</span>,\n",
       "<span style=\"color: #7fbf7f; text-decoration-color: #7fbf7f\">│   </span><span style=\"color: #008000; text-decoration-color: #008000\">'question_or_description'</span>: <span style=\"color: #008000; text-decoration-color: #008000\">'**Phần Cốt lõi:**\\nHọc sinh làm việc theo nhóm (3-4 người). Mỗi nhóm sẽ được cung cấp một đoạn văn bản ngắn (hoặc một tình huống/ví dụ cụ thể) liên quan đến chủ đề đang học. Nhiệm vụ của nhóm là đọc nhanh, thảo luận để xác định một ý chính hoặc trả lời một câu hỏi trọng tâm duy nhất được giáo viên đưa ra. Mục tiêu là tổng hợp kiến thức cốt lõi từ tài liệu đã cho. Sau khi thảo luận, các nhóm chuẩn bị một câu trả lời ngắn gọn hoặc một ý chính để chia sẻ nhanh với cả lớp.\\n\\n**Phần Mở rộng (nếu còn thời gian):**\\nNếu hoàn thành sớm, các nhóm có thể tìm thêm một ví dụ thực tế khác minh họa cho ý chính vừa khám phá hoặc đặt một câu hỏi mở rộng cho cả lớp.'</span>\n",
       "<span style=\"font-weight: bold\">}</span>\n",
       "</pre>\n"
      ],
      "text/plain": [
       "\u001b[1m{\u001b[0m\n",
       "\u001b[2;32m│   \u001b[0m\u001b[32m'activity_name'\u001b[0m: \u001b[32m'Khám phá và Xây dựng kiến thức'\u001b[0m,\n",
       "\u001b[2;32m│   \u001b[0m\u001b[32m'activity_type'\u001b[0m: \u001b[32m'Hoạt động nhóm và Tổng hợp kiến thức'\u001b[0m,\n",
       "\u001b[2;32m│   \u001b[0m\u001b[32m'duration_minutes'\u001b[0m: \u001b[1;36m45\u001b[0m,\n",
       "\u001b[2;32m│   \u001b[0m\u001b[32m'teacher_actions'\u001b[0m: \u001b[1m[\u001b[0m\n",
       "\u001b[2;32m│   │   \u001b[0m\u001b[32m'Giới thiệu mục tiêu hoạt động và phân chia nhóm \u001b[0m\u001b[32m(\u001b[0m\u001b[32m5 phút\u001b[0m\u001b[32m)\u001b[0m\u001b[32m.'\u001b[0m,\n",
       "\u001b[2;32m│   │   \u001b[0m\u001b[32m'Phát tài liệu và câu hỏi trọng tâm cho từng nhóm \u001b[0m\u001b[32m(\u001b[0m\u001b[32m2 phút\u001b[0m\u001b[32m)\u001b[0m\u001b[32m.'\u001b[0m,\n",
       "\u001b[2;32m│   │   \u001b[0m\u001b[32m'Đi quanh các nhóm, quan sát, lắng nghe, và gợi ý khi cần thiết \u001b[0m\u001b[32m(\u001b[0m\u001b[32mkhông giải đáp trực tiếp mà đặt câu hỏi mở\u001b[0m\u001b[32m)\u001b[0m\u001b[32m \u001b[0m\u001b[32m(\u001b[0m\u001b[32m20 phút\u001b[0m\u001b[32m)\u001b[0m\u001b[32m.'\u001b[0m,\n",
       "\u001b[2;32m│   │   \u001b[0m\u001b[32m'Quản lý thời gian chặt chẽ cho từng giai đoạn.'\u001b[0m,\n",
       "\u001b[2;32m│   │   \u001b[0m\u001b[32m\"Tổ chức phần chia sẻ nhanh của các nhóm \u001b[0m\u001b[32m(\u001b[0m\u001b[32mchọn ngẫu nhiên 2-3 nhóm hoặc yêu cầu các nhóm chia sẻ ý chính theo hình thức 'popcorn'\u001b[0m\u001b[32m)\u001b[0m\u001b[32m \u001b[0m\u001b[32m(\u001b[0m\u001b[32m10 phút\u001b[0m\u001b[32m)\u001b[0m\u001b[32m.\"\u001b[0m,\n",
       "\u001b[2;32m│   │   \u001b[0m\u001b[32m'Tổng hợp các ý kiến, chốt lại kiến thức cốt lõi và giải đáp thắc mắc \u001b[0m\u001b[32m(\u001b[0m\u001b[32mnếu có\u001b[0m\u001b[32m)\u001b[0m\u001b[32m \u001b[0m\u001b[32m(\u001b[0m\u001b[32m8 phút\u001b[0m\u001b[32m)\u001b[0m\u001b[32m.'\u001b[0m\n",
       "\u001b[2;32m│   \u001b[0m\u001b[1m]\u001b[0m,\n",
       "\u001b[2;32m│   \u001b[0m\u001b[32m'core_component'\u001b[0m: \u001b[32m'Học sinh làm việc theo nhóm \u001b[0m\u001b[32m(\u001b[0m\u001b[32m3-4 người\u001b[0m\u001b[32m)\u001b[0m\u001b[32m. Mỗi nhóm sẽ được cung cấp một đoạn văn bản ngắn \u001b[0m\u001b[32m(\u001b[0m\u001b[32mhoặc một tình huống/ví dụ cụ thể\u001b[0m\u001b[32m)\u001b[0m\u001b[32m liên quan đến chủ đề đang học. Nhiệm vụ của nhóm là đọc nhanh, thảo luận để xác định một ý chính hoặc trả lời một câu hỏi trọng tâm duy nhất được giáo viên đưa ra. Mục tiêu là tổng hợp kiến thức cốt lõi từ tài liệu đã cho. Sau khi thảo luận, các nhóm chuẩn bị một câu trả lời ngắn gọn hoặc một ý chính để chia sẻ nhanh với cả lớp.'\u001b[0m,\n",
       "\u001b[2;32m│   \u001b[0m\u001b[32m'extension_component'\u001b[0m: \u001b[32m'Nếu hoàn thành sớm, các nhóm có thể tìm thêm một ví dụ thực tế khác minh họa cho ý chính vừa khám phá hoặc đặt một câu hỏi mở rộng cho cả lớp.'\u001b[0m,\n",
       "\u001b[2;32m│   \u001b[0m\u001b[32m'solution_guide'\u001b[0m: \u001b[32m\"Các ý chính/câu trả lời cần tập trung vào khái niệm/nguyên lý cốt lõi của bài học. Ví dụ: Nếu bài về 'Biến đổi khí hậu', ý chính có thể là 'Nguyên nhân chính gây biến đổi khí hậu là do hoạt động của con người' hoặc 'Hậu quả của biến đổi khí hậu là...'. Giáo viên cần có sẵn các đáp án mẫu hoặc các điểm cần đạt được để đối chiếu.\"\u001b[0m,\n",
       "\u001b[2;32m│   \u001b[0m\u001b[32m'differentiation'\u001b[0m: \u001b[1m{\u001b[0m\n",
       "\u001b[2;32m│   │   \u001b[0m\u001b[32m'for_struggling_students'\u001b[0m: \u001b[32m'Cung cấp tài liệu đơn giản hơn hoặc câu hỏi gợi ý cụ thể hơn. Giáo viên dành thời gian hỗ trợ trực tiếp, đặt câu hỏi dẫn dắt để giúp các em tìm ra ý chính.'\u001b[0m,\n",
       "\u001b[2;32m│   │   \u001b[0m\u001b[32m'for_advanced_students'\u001b[0m: \u001b[32m'Yêu cầu các em phân tích sâu hơn về mối liên hệ giữa ý chính vừa tìm được với các kiến thức đã học hoặc suy nghĩ về ứng dụng thực tiễn của kiến thức đó.'\u001b[0m\n",
       "\u001b[2;32m│   \u001b[0m\u001b[1m}\u001b[0m,\n",
       "\u001b[2;32m│   \u001b[0m\u001b[32m'question_or_description'\u001b[0m: \u001b[32m'**Phần Cốt lõi:**\\nHọc sinh làm việc theo nhóm \u001b[0m\u001b[32m(\u001b[0m\u001b[32m3-4 người\u001b[0m\u001b[32m)\u001b[0m\u001b[32m. Mỗi nhóm sẽ được cung cấp một đoạn văn bản ngắn \u001b[0m\u001b[32m(\u001b[0m\u001b[32mhoặc một tình huống/ví dụ cụ thể\u001b[0m\u001b[32m)\u001b[0m\u001b[32m liên quan đến chủ đề đang học. Nhiệm vụ của nhóm là đọc nhanh, thảo luận để xác định một ý chính hoặc trả lời một câu hỏi trọng tâm duy nhất được giáo viên đưa ra. Mục tiêu là tổng hợp kiến thức cốt lõi từ tài liệu đã cho. Sau khi thảo luận, các nhóm chuẩn bị một câu trả lời ngắn gọn hoặc một ý chính để chia sẻ nhanh với cả lớp.\\n\\n**Phần Mở rộng \u001b[0m\u001b[32m(\u001b[0m\u001b[32mnếu còn thời gian\u001b[0m\u001b[32m)\u001b[0m\u001b[32m:**\\nNếu hoàn thành sớm, các nhóm có thể tìm thêm một ví dụ thực tế khác minh họa cho ý chính vừa khám phá hoặc đặt một câu hỏi mở rộng cho cả lớp.'\u001b[0m\n",
       "\u001b[1m}\u001b[0m\n"
      ]
     },
     "metadata": {},
     "output_type": "display_data"
    },
    {
     "data": {
      "text/html": [
       "<pre style=\"white-space:pre;overflow-x:auto;line-height:normal;font-family:Menlo,'DejaVu Sans Mono',consolas,'Courier New',monospace\">\n",
       "<span style=\"color: #808000; text-decoration-color: #808000; font-weight: bold\">------- Hoàn thành bước: activity_designer -------</span>\n",
       "</pre>\n"
      ],
      "text/plain": [
       "\n",
       "\u001b[1;33m------- Hoàn thành bước: activity_designer -------\u001b[0m\n"
      ]
     },
     "metadata": {},
     "output_type": "display_data"
    },
    {
     "data": {
      "text/html": [
       "<pre style=\"white-space:pre;overflow-x:auto;line-height:normal;font-family:Menlo,'DejaVu Sans Mono',consolas,'Courier New',monospace\">\n",
       "<span style=\"color: #008080; text-decoration-color: #008080; font-weight: bold\">&gt;</span> `Agent: Guardian Critic` <span style=\"font-weight: bold\">(</span>v10.<span style=\"color: #008080; text-decoration-color: #008080; font-weight: bold\">0</span><span style=\"font-weight: bold\">)</span> đang bảo vệ kế hoạch<span style=\"color: #808000; text-decoration-color: #808000\">...</span>\n",
       "</pre>\n"
      ],
      "text/plain": [
       "\n",
       "\u001b[1;36m>\u001b[0m `Agent: Guardian Critic` \u001b[1m(\u001b[0mv10.\u001b[1;36m0\u001b[0m\u001b[1m)\u001b[0m đang bảo vệ kế hoạch\u001b[33m...\u001b[0m\n"
      ]
     },
     "metadata": {},
     "output_type": "display_data"
    },
    {
     "data": {
      "text/html": [
       "<pre style=\"white-space:pre;overflow-x:auto;line-height:normal;font-family:Menlo,'DejaVu Sans Mono',consolas,'Courier New',monospace\">\n",
       "<span style=\"color: #008080; text-decoration-color: #008080; font-weight: bold\">&gt;</span> ✔️ GUARDIAN: Nội dung tuân thủ kế hoạch!\n",
       "</pre>\n"
      ],
      "text/plain": [
       "\n",
       "\u001b[1;36m>\u001b[0m ✔️ GUARDIAN: Nội dung tuân thủ kế hoạch!\n"
      ]
     },
     "metadata": {},
     "output_type": "display_data"
    },
    {
     "data": {
      "text/html": [
       "<pre style=\"white-space:pre;overflow-x:auto;line-height:normal;font-family:Menlo,'DejaVu Sans Mono',consolas,'Courier New',monospace\">\n",
       "<span style=\"color: #808000; text-decoration-color: #808000; font-weight: bold\">------- Hoàn thành bước: content_validator -------</span>\n",
       "</pre>\n"
      ],
      "text/plain": [
       "\n",
       "\u001b[1;33m------- Hoàn thành bước: content_validator -------\u001b[0m\n"
      ]
     },
     "metadata": {},
     "output_type": "display_data"
    },
    {
     "data": {
      "text/html": [
       "<pre style=\"white-space:pre;overflow-x:auto;line-height:normal;font-family:Menlo,'DejaVu Sans Mono',consolas,'Courier New',monospace\">\n",
       "<span style=\"color: #008080; text-decoration-color: #008080; font-weight: bold\">&gt;</span> `Commiter`: Đang ghi nhận nội dung đã được xác thực<span style=\"color: #808000; text-decoration-color: #808000\">...</span>\n",
       "</pre>\n"
      ],
      "text/plain": [
       "\n",
       "\u001b[1;36m>\u001b[0m `Commiter`: Đang ghi nhận nội dung đã được xác thực\u001b[33m...\u001b[0m\n"
      ]
     },
     "metadata": {},
     "output_type": "display_data"
    },
    {
     "data": {
      "text/html": [
       "<pre style=\"white-space:pre;overflow-x:auto;line-height:normal;font-family:Menlo,'DejaVu Sans Mono',consolas,'Courier New',monospace\">\n",
       "<span style=\"color: #808000; text-decoration-color: #808000; font-weight: bold\">------- Hoàn thành bước: commit_validated_content -------</span>\n",
       "</pre>\n"
      ],
      "text/plain": [
       "\n",
       "\u001b[1;33m------- Hoàn thành bước: commit_validated_content -------\u001b[0m\n"
      ]
     },
     "metadata": {},
     "output_type": "display_data"
    },
    {
     "data": {
      "text/html": [
       "<pre style=\"white-space:pre;overflow-x:auto;line-height:normal;font-family:Menlo,'DejaVu Sans Mono',consolas,'Courier New',monospace\">\n",
       "<span style=\"color: #808000; text-decoration-color: #808000; font-weight: bold\">------- Hoàn thành bước: mark_task_complete -------</span>\n",
       "</pre>\n"
      ],
      "text/plain": [
       "\n",
       "\u001b[1;33m------- Hoàn thành bước: mark_task_complete -------\u001b[0m\n"
      ]
     },
     "metadata": {},
     "output_type": "display_data"
    },
    {
     "data": {
      "text/html": [
       "<pre style=\"white-space:pre;overflow-x:auto;line-height:normal;font-family:Menlo,'DejaVu Sans Mono',consolas,'Courier New',monospace\">\n",
       "<span style=\"color: #808000; text-decoration-color: #808000; font-weight: bold\">------- Hoàn thành bước: delay_node -------</span>\n",
       "</pre>\n"
      ],
      "text/plain": [
       "\n",
       "\u001b[1;33m------- Hoàn thành bước: delay_node -------\u001b[0m\n"
      ]
     },
     "metadata": {},
     "output_type": "display_data"
    },
    {
     "data": {
      "text/html": [
       "<pre style=\"white-space:pre;overflow-x:auto;line-height:normal;font-family:Menlo,'DejaVu Sans Mono',consolas,'Courier New',monospace\">\n",
       "<span style=\"color: #008080; text-decoration-color: #008080; font-weight: bold\">&gt;</span> `Router`: Đang kiểm tra nhiệm vụ<span style=\"color: #808000; text-decoration-color: #808000\">...</span>\n",
       "</pre>\n"
      ],
      "text/plain": [
       "\n",
       "\u001b[1;36m>\u001b[0m `Router`: Đang kiểm tra nhiệm vụ\u001b[33m...\u001b[0m\n"
      ]
     },
     "metadata": {},
     "output_type": "display_data"
    },
    {
     "data": {
      "text/html": [
       "<pre style=\"white-space:pre;overflow-x:auto;line-height:normal;font-family:Menlo,'DejaVu Sans Mono',consolas,'Courier New',monospace\">\n",
       "<span style=\"color: #008080; text-decoration-color: #008080; font-weight: bold\">&gt;</span> Nhiệm vụ tiếp theo: <span style=\"color: #008000; text-decoration-color: #008000\">'Vận dụng và Trình bày sản phẩm'</span> <span style=\"font-weight: bold\">(</span>ID: <span style=\"color: #008080; text-decoration-color: #008080; font-weight: bold\">2</span><span style=\"font-weight: bold\">)</span>\n",
       "</pre>\n"
      ],
      "text/plain": [
       "\n",
       "\u001b[1;36m>\u001b[0m Nhiệm vụ tiếp theo: \u001b[32m'Vận dụng và Trình bày sản phẩm'\u001b[0m \u001b[1m(\u001b[0mID: \u001b[1;36m2\u001b[0m\u001b[1m)\u001b[0m\n"
      ]
     },
     "metadata": {},
     "output_type": "display_data"
    },
    {
     "data": {
      "text/html": [
       "<pre style=\"white-space:pre;overflow-x:auto;line-height:normal;font-family:Menlo,'DejaVu Sans Mono',consolas,'Courier New',monospace\">\n",
       "<span style=\"color: #808000; text-decoration-color: #808000; font-weight: bold\">------- Hoàn thành bước: task_router -------</span>\n",
       "</pre>\n"
      ],
      "text/plain": [
       "\n",
       "\u001b[1;33m------- Hoàn thành bước: task_router -------\u001b[0m\n"
      ]
     },
     "metadata": {},
     "output_type": "display_data"
    },
    {
     "data": {
      "text/html": [
       "<pre style=\"white-space:pre;overflow-x:auto;line-height:normal;font-family:Menlo,'DejaVu Sans Mono',consolas,'Courier New',monospace\">\n",
       "<span style=\"color: #008080; text-decoration-color: #008080; font-weight: bold\">&gt;</span> `Agent: Task Dispatcher` đang giao việc<span style=\"color: #808000; text-decoration-color: #808000\">...</span>\n",
       "</pre>\n"
      ],
      "text/plain": [
       "\n",
       "\u001b[1;36m>\u001b[0m `Agent: Task Dispatcher` đang giao việc\u001b[33m...\u001b[0m\n"
      ]
     },
     "metadata": {},
     "output_type": "display_data"
    },
    {
     "data": {
      "text/html": [
       "<pre style=\"white-space:pre;overflow-x:auto;line-height:normal;font-family:Menlo,'DejaVu Sans Mono',consolas,'Courier New',monospace\">\n",
       "<span style=\"color: #008080; text-decoration-color: #008080; font-weight: bold\">&gt;</span> --- 🚚 `Dispatcher`: Giao nhiệm vụ cho `activity_designer`.\n",
       "</pre>\n"
      ],
      "text/plain": [
       "\n",
       "\u001b[1;36m>\u001b[0m --- 🚚 `Dispatcher`: Giao nhiệm vụ cho `activity_designer`.\n"
      ]
     },
     "metadata": {},
     "output_type": "display_data"
    },
    {
     "data": {
      "text/html": [
       "<pre style=\"white-space:pre;overflow-x:auto;line-height:normal;font-family:Menlo,'DejaVu Sans Mono',consolas,'Courier New',monospace\">\n",
       "<span style=\"color: #808000; text-decoration-color: #808000; font-weight: bold\">------- Hoàn thành bước: task_dispatcher -------</span>\n",
       "</pre>\n"
      ],
      "text/plain": [
       "\n",
       "\u001b[1;33m------- Hoàn thành bước: task_dispatcher -------\u001b[0m\n"
      ]
     },
     "metadata": {},
     "output_type": "display_data"
    },
    {
     "data": {
      "text/html": [
       "<pre style=\"white-space:pre;overflow-x:auto;line-height:normal;font-family:Menlo,'DejaVu Sans Mono',consolas,'Courier New',monospace\">\n",
       "<span style=\"color: #008080; text-decoration-color: #008080; font-weight: bold\">&gt;</span> `Agent: Activity Designer` <span style=\"font-weight: bold\">(</span>v10.<span style=\"color: #008080; text-decoration-color: #008080; font-weight: bold\">0</span><span style=\"font-weight: bold\">)</span> đang tạo nội dung theo kỷ luật<span style=\"color: #808000; text-decoration-color: #808000\">...</span>\n",
       "</pre>\n"
      ],
      "text/plain": [
       "\n",
       "\u001b[1;36m>\u001b[0m `Agent: Activity Designer` \u001b[1m(\u001b[0mv10.\u001b[1;36m0\u001b[0m\u001b[1m)\u001b[0m đang tạo nội dung theo kỷ luật\u001b[33m...\u001b[0m\n"
      ]
     },
     "metadata": {},
     "output_type": "display_data"
    },
    {
     "data": {
      "text/html": [
       "<pre style=\"white-space:pre;overflow-x:auto;line-height:normal;font-family:Menlo,'DejaVu Sans Mono',consolas,'Courier New',monospace\"><span style=\"color: #008000; text-decoration-color: #008000; font-weight: bold\">✔️ Nội dung do Activity Designer tạo ra:</span>\n",
       "</pre>\n"
      ],
      "text/plain": [
       "\u001b[1;32m✔️ Nội dung do Activity Designer tạo ra:\u001b[0m\n"
      ]
     },
     "metadata": {},
     "output_type": "display_data"
    },
    {
     "data": {
      "text/html": [
       "<pre style=\"white-space:pre;overflow-x:auto;line-height:normal;font-family:Menlo,'DejaVu Sans Mono',consolas,'Courier New',monospace\"><span style=\"font-weight: bold\">{</span>\n",
       "<span style=\"color: #7fbf7f; text-decoration-color: #7fbf7f\">│   </span><span style=\"color: #008000; text-decoration-color: #008000\">'activity_name'</span>: <span style=\"color: #008000; text-decoration-color: #008000\">'Vận dụng và Trình bày sản phẩm'</span>,\n",
       "<span style=\"color: #7fbf7f; text-decoration-color: #7fbf7f\">│   </span><span style=\"color: #008000; text-decoration-color: #008000\">'activity_type'</span>: <span style=\"color: #008000; text-decoration-color: #008000\">'Thảo luận nhóm và Trình bày'</span>,\n",
       "<span style=\"color: #7fbf7f; text-decoration-color: #7fbf7f\">│   </span><span style=\"color: #008000; text-decoration-color: #008000\">'duration_minutes'</span>: <span style=\"color: #008080; text-decoration-color: #008080; font-weight: bold\">30</span>,\n",
       "<span style=\"color: #7fbf7f; text-decoration-color: #7fbf7f\">│   </span><span style=\"color: #008000; text-decoration-color: #008000\">'teacher_actions'</span>: <span style=\"font-weight: bold\">[</span>\n",
       "<span style=\"color: #7fbf7f; text-decoration-color: #7fbf7f\">│   │   </span><span style=\"color: #008000; text-decoration-color: #008000\">'Giới thiệu nhiệm vụ, mục tiêu và thời gian cụ thể cho từng phần (ví dụ: 20 phút làm việc nhóm, 10 phút trình bày).'</span>,\n",
       "<span style=\"color: #7fbf7f; text-decoration-color: #7fbf7f\">│   │   </span><span style=\"color: #008000; text-decoration-color: #008000\">'Đi quanh các nhóm, quan sát tiến độ, lắng nghe thảo luận, gợi ý và hỗ trợ khi học sinh gặp khó khăn.'</span>,\n",
       "<span style=\"color: #7fbf7f; text-decoration-color: #7fbf7f\">│   │   </span><span style=\"color: #008000; text-decoration-color: #008000\">'Quản lý thời gian trình bày của các nhóm, đảm bảo mỗi nhóm có đủ thời gian nhưng không vượt quá quy định.'</span>,\n",
       "<span style=\"color: #7fbf7f; text-decoration-color: #7fbf7f\">│   │   </span><span style=\"color: #008000; text-decoration-color: #008000\">'Đưa ra nhận xét, đánh giá chung về các sản phẩm và bài trình bày, nhấn mạnh các điểm mạnh và gợi ý cải thiện.'</span>,\n",
       "<span style=\"color: #7fbf7f; text-decoration-color: #7fbf7f\">│   │   </span><span style=\"color: #008000; text-decoration-color: #008000\">'Tổng kết lại kiến thức trọng tâm đã được vận dụng trong hoạt động và liên hệ thực tế.'</span>\n",
       "<span style=\"color: #7fbf7f; text-decoration-color: #7fbf7f\">│   </span><span style=\"font-weight: bold\">]</span>,\n",
       "<span style=\"color: #7fbf7f; text-decoration-color: #7fbf7f\">│   </span><span style=\"color: #008000; text-decoration-color: #008000\">'core_component'</span>: <span style=\"color: #008000; text-decoration-color: #008000\">\"Học sinh làm việc theo nhóm (đã được phân công hoặc tự chọn nhanh). Mỗi nhóm vận dụng kiến thức đã học (ví dụ: về một khái niệm, quy trình, hoặc vấn đề cụ thể) để tạo ra một 'sản phẩm' đơn giản (ví dụ: một sơ đồ tư duy tóm tắt, một poster nhỏ minh họa, một kế hoạch giải quyết vấn đề ngắn gọn, hoặc một đoạn kịch tình huống 1-2 phút). Sau đó, các nhóm chuẩn bị trình bày ngắn gọn (tối đa 3 phút/nhóm) về sản phẩm của mình, tập trung vào cách họ đã vận dụng kiến thức và ý nghĩa của sản phẩm.\"</span>,\n",
       "<span style=\"color: #7fbf7f; text-decoration-color: #7fbf7f\">│   </span><span style=\"color: #008000; text-decoration-color: #008000\">'extension_component'</span>: <span style=\"color: #008000; text-decoration-color: #008000\">'Các nhóm hoàn thành sớm có thể: 1. Hoàn thiện sản phẩm/bài trình bày chi tiết hơn, bổ sung thêm ví dụ hoặc minh chứng. 2. Chuẩn bị thêm các câu hỏi phản biện hoặc nhận xét mang tính xây dựng cho các nhóm khác. 3. Tìm kiếm các ứng dụng thực tế khác của kiến thức đã học hoặc mở rộng vấn đề đã giải quyết.'</span>,\n",
       "<span style=\"color: #7fbf7f; text-decoration-color: #7fbf7f\">│   </span><span style=\"color: #008000; text-decoration-color: #008000\">'solution_guide'</span>: <span style=\"color: #008000; text-decoration-color: #008000\">\"Tiêu chí đánh giá sản phẩm/bài trình bày có thể bao gồm: tính rõ ràng, chính xác của kiến thức vận dụng; sự sáng tạo trong cách thể hiện; khả năng trình bày mạch lạc, tự tin; và ý nghĩa thực tiễn của sản phẩm. Các câu hỏi gợi mở khi học sinh trình bày: 'Các em đã vận dụng kiến thức nào để tạo ra sản phẩm này?', 'Sản phẩm này có ý nghĩa gì trong cuộc sống/thực tế?', 'Nếu có thêm thời gian, các em sẽ cải thiện sản phẩm như thế nào?'.\"</span>,\n",
       "<span style=\"color: #7fbf7f; text-decoration-color: #7fbf7f\">│   </span><span style=\"color: #008000; text-decoration-color: #008000\">'differentiation'</span>: <span style=\"font-weight: bold\">{</span>\n",
       "<span style=\"color: #7fbf7f; text-decoration-color: #7fbf7f\">│   │   </span><span style=\"color: #008000; text-decoration-color: #008000\">'for_struggling_students'</span>: <span style=\"color: #008000; text-decoration-color: #008000\">'Cung cấp các mẫu gợi ý, ví dụ minh họa đơn giản hoặc câu hỏi dẫn dắt cụ thể để các em dễ dàng bắt đầu và định hướng được sản phẩm. Giáo viên có thể dành thêm thời gian hỗ trợ trực tiếp nhóm này, chia nhỏ nhiệm vụ nếu cần.'</span>,\n",
       "<span style=\"color: #7fbf7f; text-decoration-color: #7fbf7f\">│   │   </span><span style=\"color: #008000; text-decoration-color: #008000\">'for_advanced_students'</span>: <span style=\"color: #008000; text-decoration-color: #008000\">'Khuyến khích các em sáng tạo hơn trong sản phẩm (ví dụ: yêu cầu giải pháp độc đáo, phân tích sâu hơn), đặt ra các câu hỏi phản biện sâu hơn cho các nhóm khác, hoặc yêu cầu các em tìm kiếm các ứng dụng thực tế phức tạp hơn của kiến thức đã học.'</span>\n",
       "<span style=\"color: #7fbf7f; text-decoration-color: #7fbf7f\">│   </span><span style=\"font-weight: bold\">}</span>,\n",
       "<span style=\"color: #7fbf7f; text-decoration-color: #7fbf7f\">│   </span><span style=\"color: #008000; text-decoration-color: #008000\">'question_or_description'</span>: <span style=\"color: #008000; text-decoration-color: #008000\">\"**Phần Cốt lõi:**\\nHọc sinh làm việc theo nhóm (đã được phân công hoặc tự chọn nhanh). Mỗi nhóm vận dụng kiến thức đã học (ví dụ: về một khái niệm, quy trình, hoặc vấn đề cụ thể) để tạo ra một 'sản phẩm' đơn giản (ví dụ: một sơ đồ tư duy tóm tắt, một poster nhỏ minh họa, một kế hoạch giải quyết vấn đề ngắn gọn, hoặc một đoạn kịch tình huống 1-2 phút). Sau đó, các nhóm chuẩn bị trình bày ngắn gọn (tối đa 3 phút/nhóm) về sản phẩm của mình, tập trung vào cách họ đã vận dụng kiến thức và ý nghĩa của sản phẩm.\\n\\n**Phần Mở rộng (nếu còn thời gian):**\\nCác nhóm hoàn thành sớm có thể: 1. Hoàn thiện sản phẩm/bài trình bày chi tiết hơn, bổ sung thêm ví dụ hoặc minh chứng. 2. Chuẩn bị thêm các câu hỏi phản biện hoặc nhận xét mang tính xây dựng cho các nhóm khác. 3. Tìm kiếm các ứng dụng thực tế khác của kiến thức đã học hoặc mở rộng vấn đề đã giải quyết.\"</span>\n",
       "<span style=\"font-weight: bold\">}</span>\n",
       "</pre>\n"
      ],
      "text/plain": [
       "\u001b[1m{\u001b[0m\n",
       "\u001b[2;32m│   \u001b[0m\u001b[32m'activity_name'\u001b[0m: \u001b[32m'Vận dụng và Trình bày sản phẩm'\u001b[0m,\n",
       "\u001b[2;32m│   \u001b[0m\u001b[32m'activity_type'\u001b[0m: \u001b[32m'Thảo luận nhóm và Trình bày'\u001b[0m,\n",
       "\u001b[2;32m│   \u001b[0m\u001b[32m'duration_minutes'\u001b[0m: \u001b[1;36m30\u001b[0m,\n",
       "\u001b[2;32m│   \u001b[0m\u001b[32m'teacher_actions'\u001b[0m: \u001b[1m[\u001b[0m\n",
       "\u001b[2;32m│   │   \u001b[0m\u001b[32m'Giới thiệu nhiệm vụ, mục tiêu và thời gian cụ thể cho từng phần \u001b[0m\u001b[32m(\u001b[0m\u001b[32mví dụ: 20 phút làm việc nhóm, 10 phút trình bày\u001b[0m\u001b[32m)\u001b[0m\u001b[32m.'\u001b[0m,\n",
       "\u001b[2;32m│   │   \u001b[0m\u001b[32m'Đi quanh các nhóm, quan sát tiến độ, lắng nghe thảo luận, gợi ý và hỗ trợ khi học sinh gặp khó khăn.'\u001b[0m,\n",
       "\u001b[2;32m│   │   \u001b[0m\u001b[32m'Quản lý thời gian trình bày của các nhóm, đảm bảo mỗi nhóm có đủ thời gian nhưng không vượt quá quy định.'\u001b[0m,\n",
       "\u001b[2;32m│   │   \u001b[0m\u001b[32m'Đưa ra nhận xét, đánh giá chung về các sản phẩm và bài trình bày, nhấn mạnh các điểm mạnh và gợi ý cải thiện.'\u001b[0m,\n",
       "\u001b[2;32m│   │   \u001b[0m\u001b[32m'Tổng kết lại kiến thức trọng tâm đã được vận dụng trong hoạt động và liên hệ thực tế.'\u001b[0m\n",
       "\u001b[2;32m│   \u001b[0m\u001b[1m]\u001b[0m,\n",
       "\u001b[2;32m│   \u001b[0m\u001b[32m'core_component'\u001b[0m: \u001b[32m\"Học sinh làm việc theo nhóm \u001b[0m\u001b[32m(\u001b[0m\u001b[32mđã được phân công hoặc tự chọn nhanh\u001b[0m\u001b[32m)\u001b[0m\u001b[32m. Mỗi nhóm vận dụng kiến thức đã học \u001b[0m\u001b[32m(\u001b[0m\u001b[32mví dụ: về một khái niệm, quy trình, hoặc vấn đề cụ thể\u001b[0m\u001b[32m)\u001b[0m\u001b[32m để tạo ra một 'sản phẩm' đơn giản \u001b[0m\u001b[32m(\u001b[0m\u001b[32mví dụ: một sơ đồ tư duy tóm tắt, một poster nhỏ minh họa, một kế hoạch giải quyết vấn đề ngắn gọn, hoặc một đoạn kịch tình huống 1-2 phút\u001b[0m\u001b[32m)\u001b[0m\u001b[32m. Sau đó, các nhóm chuẩn bị trình bày ngắn gọn \u001b[0m\u001b[32m(\u001b[0m\u001b[32mtối đa 3 phút/nhóm\u001b[0m\u001b[32m)\u001b[0m\u001b[32m về sản phẩm của mình, tập trung vào cách họ đã vận dụng kiến thức và ý nghĩa của sản phẩm.\"\u001b[0m,\n",
       "\u001b[2;32m│   \u001b[0m\u001b[32m'extension_component'\u001b[0m: \u001b[32m'Các nhóm hoàn thành sớm có thể: 1. Hoàn thiện sản phẩm/bài trình bày chi tiết hơn, bổ sung thêm ví dụ hoặc minh chứng. 2. Chuẩn bị thêm các câu hỏi phản biện hoặc nhận xét mang tính xây dựng cho các nhóm khác. 3. Tìm kiếm các ứng dụng thực tế khác của kiến thức đã học hoặc mở rộng vấn đề đã giải quyết.'\u001b[0m,\n",
       "\u001b[2;32m│   \u001b[0m\u001b[32m'solution_guide'\u001b[0m: \u001b[32m\"Tiêu chí đánh giá sản phẩm/bài trình bày có thể bao gồm: tính rõ ràng, chính xác của kiến thức vận dụng; sự sáng tạo trong cách thể hiện; khả năng trình bày mạch lạc, tự tin; và ý nghĩa thực tiễn của sản phẩm. Các câu hỏi gợi mở khi học sinh trình bày: 'Các em đã vận dụng kiến thức nào để tạo ra sản phẩm này?', 'Sản phẩm này có ý nghĩa gì trong cuộc sống/thực tế?', 'Nếu có thêm thời gian, các em sẽ cải thiện sản phẩm như thế nào?'.\"\u001b[0m,\n",
       "\u001b[2;32m│   \u001b[0m\u001b[32m'differentiation'\u001b[0m: \u001b[1m{\u001b[0m\n",
       "\u001b[2;32m│   │   \u001b[0m\u001b[32m'for_struggling_students'\u001b[0m: \u001b[32m'Cung cấp các mẫu gợi ý, ví dụ minh họa đơn giản hoặc câu hỏi dẫn dắt cụ thể để các em dễ dàng bắt đầu và định hướng được sản phẩm. Giáo viên có thể dành thêm thời gian hỗ trợ trực tiếp nhóm này, chia nhỏ nhiệm vụ nếu cần.'\u001b[0m,\n",
       "\u001b[2;32m│   │   \u001b[0m\u001b[32m'for_advanced_students'\u001b[0m: \u001b[32m'Khuyến khích các em sáng tạo hơn trong sản phẩm \u001b[0m\u001b[32m(\u001b[0m\u001b[32mví dụ: yêu cầu giải pháp độc đáo, phân tích sâu hơn\u001b[0m\u001b[32m)\u001b[0m\u001b[32m, đặt ra các câu hỏi phản biện sâu hơn cho các nhóm khác, hoặc yêu cầu các em tìm kiếm các ứng dụng thực tế phức tạp hơn của kiến thức đã học.'\u001b[0m\n",
       "\u001b[2;32m│   \u001b[0m\u001b[1m}\u001b[0m,\n",
       "\u001b[2;32m│   \u001b[0m\u001b[32m'question_or_description'\u001b[0m: \u001b[32m\"**Phần Cốt lõi:**\\nHọc sinh làm việc theo nhóm \u001b[0m\u001b[32m(\u001b[0m\u001b[32mđã được phân công hoặc tự chọn nhanh\u001b[0m\u001b[32m)\u001b[0m\u001b[32m. Mỗi nhóm vận dụng kiến thức đã học \u001b[0m\u001b[32m(\u001b[0m\u001b[32mví dụ: về một khái niệm, quy trình, hoặc vấn đề cụ thể\u001b[0m\u001b[32m)\u001b[0m\u001b[32m để tạo ra một 'sản phẩm' đơn giản \u001b[0m\u001b[32m(\u001b[0m\u001b[32mví dụ: một sơ đồ tư duy tóm tắt, một poster nhỏ minh họa, một kế hoạch giải quyết vấn đề ngắn gọn, hoặc một đoạn kịch tình huống 1-2 phút\u001b[0m\u001b[32m)\u001b[0m\u001b[32m. Sau đó, các nhóm chuẩn bị trình bày ngắn gọn \u001b[0m\u001b[32m(\u001b[0m\u001b[32mtối đa 3 phút/nhóm\u001b[0m\u001b[32m)\u001b[0m\u001b[32m về sản phẩm của mình, tập trung vào cách họ đã vận dụng kiến thức và ý nghĩa của sản phẩm.\\n\\n**Phần Mở rộng \u001b[0m\u001b[32m(\u001b[0m\u001b[32mnếu còn thời gian\u001b[0m\u001b[32m)\u001b[0m\u001b[32m:**\\nCác nhóm hoàn thành sớm có thể: 1. Hoàn thiện sản phẩm/bài trình bày chi tiết hơn, bổ sung thêm ví dụ hoặc minh chứng. 2. Chuẩn bị thêm các câu hỏi phản biện hoặc nhận xét mang tính xây dựng cho các nhóm khác. 3. Tìm kiếm các ứng dụng thực tế khác của kiến thức đã học hoặc mở rộng vấn đề đã giải quyết.\"\u001b[0m\n",
       "\u001b[1m}\u001b[0m\n"
      ]
     },
     "metadata": {},
     "output_type": "display_data"
    },
    {
     "data": {
      "text/html": [
       "<pre style=\"white-space:pre;overflow-x:auto;line-height:normal;font-family:Menlo,'DejaVu Sans Mono',consolas,'Courier New',monospace\">\n",
       "<span style=\"color: #808000; text-decoration-color: #808000; font-weight: bold\">------- Hoàn thành bước: activity_designer -------</span>\n",
       "</pre>\n"
      ],
      "text/plain": [
       "\n",
       "\u001b[1;33m------- Hoàn thành bước: activity_designer -------\u001b[0m\n"
      ]
     },
     "metadata": {},
     "output_type": "display_data"
    },
    {
     "data": {
      "text/html": [
       "<pre style=\"white-space:pre;overflow-x:auto;line-height:normal;font-family:Menlo,'DejaVu Sans Mono',consolas,'Courier New',monospace\">\n",
       "<span style=\"color: #008080; text-decoration-color: #008080; font-weight: bold\">&gt;</span> `Agent: Guardian Critic` <span style=\"font-weight: bold\">(</span>v10.<span style=\"color: #008080; text-decoration-color: #008080; font-weight: bold\">0</span><span style=\"font-weight: bold\">)</span> đang bảo vệ kế hoạch<span style=\"color: #808000; text-decoration-color: #808000\">...</span>\n",
       "</pre>\n"
      ],
      "text/plain": [
       "\n",
       "\u001b[1;36m>\u001b[0m `Agent: Guardian Critic` \u001b[1m(\u001b[0mv10.\u001b[1;36m0\u001b[0m\u001b[1m)\u001b[0m đang bảo vệ kế hoạch\u001b[33m...\u001b[0m\n"
      ]
     },
     "metadata": {},
     "output_type": "display_data"
    },
    {
     "data": {
      "text/html": [
       "<pre style=\"white-space:pre;overflow-x:auto;line-height:normal;font-family:Menlo,'DejaVu Sans Mono',consolas,'Courier New',monospace\"><span style=\"color: #808000; text-decoration-color: #808000; font-weight: bold\">⚠️  GUARDIAN PHẢN BIỆN: Hoạt động này có cấu trúc tốt và phù hợp về mặt sư phạm. Tuy nhiên, thời lượng </span><span style=\"color: #808000; text-decoration-color: #808000; font-weight: bold\">30</span><span style=\"color: #808000; text-decoration-color: #808000; font-weight: bold\"> phút là </span>\n",
       "<span style=\"color: #808000; text-decoration-color: #808000; font-weight: bold\">quá eo hẹp để thực hiện đầy đủ các bước như mô tả, đặc biệt là phần trình bày của các nhóm (tối đa </span><span style=\"color: #808000; text-decoration-color: #808000; font-weight: bold\">3</span><span style=\"color: #808000; text-decoration-color: #808000; font-weight: bold\"> phút/nhóm) và </span>\n",
       "<span style=\"color: #808000; text-decoration-color: #808000; font-weight: bold\">phần nhận xét, tổng kết của giáo viên. Với </span><span style=\"color: #808000; text-decoration-color: #808000; font-weight: bold\">20</span><span style=\"color: #808000; text-decoration-color: #808000; font-weight: bold\"> phút làm việc nhóm và chỉ </span><span style=\"color: #808000; text-decoration-color: #808000; font-weight: bold\">10</span><span style=\"color: #808000; text-decoration-color: #808000; font-weight: bold\"> phút còn lại cho cả trình bày và tổng </span>\n",
       "<span style=\"color: #808000; text-decoration-color: #808000; font-weight: bold\">kết, sẽ rất khó để đảm bảo tất cả các nhóm đều có cơ hội trình bày và giáo viên có đủ thời gian để đưa ra phản hồi </span>\n",
       "<span style=\"color: #808000; text-decoration-color: #808000; font-weight: bold\">chất lượng. Hãy thiết kế lại một phiên bản hoạt động đơn giản hơn, ít bước hơn để khớp với thời gian </span><span style=\"color: #808000; text-decoration-color: #808000; font-weight: bold\">30</span><span style=\"color: #808000; text-decoration-color: #808000; font-weight: bold\"> phút đã </span>\n",
       "<span style=\"color: #808000; text-decoration-color: #808000; font-weight: bold\">cho.</span>\n",
       "</pre>\n"
      ],
      "text/plain": [
       "\u001b[1;33m⚠️  GUARDIAN PHẢN BIỆN: Hoạt động này có cấu trúc tốt và phù hợp về mặt sư phạm. Tuy nhiên, thời lượng \u001b[0m\u001b[1;33m30\u001b[0m\u001b[1;33m phút là \u001b[0m\n",
       "\u001b[1;33mquá eo hẹp để thực hiện đầy đủ các bước như mô tả, đặc biệt là phần trình bày của các nhóm \u001b[0m\u001b[1;33m(\u001b[0m\u001b[1;33mtối đa \u001b[0m\u001b[1;33m3\u001b[0m\u001b[1;33m phút/nhóm\u001b[0m\u001b[1;33m)\u001b[0m\u001b[1;33m và \u001b[0m\n",
       "\u001b[1;33mphần nhận xét, tổng kết của giáo viên. Với \u001b[0m\u001b[1;33m20\u001b[0m\u001b[1;33m phút làm việc nhóm và chỉ \u001b[0m\u001b[1;33m10\u001b[0m\u001b[1;33m phút còn lại cho cả trình bày và tổng \u001b[0m\n",
       "\u001b[1;33mkết, sẽ rất khó để đảm bảo tất cả các nhóm đều có cơ hội trình bày và giáo viên có đủ thời gian để đưa ra phản hồi \u001b[0m\n",
       "\u001b[1;33mchất lượng. Hãy thiết kế lại một phiên bản hoạt động đơn giản hơn, ít bước hơn để khớp với thời gian \u001b[0m\u001b[1;33m30\u001b[0m\u001b[1;33m phút đã \u001b[0m\n",
       "\u001b[1;33mcho.\u001b[0m\n"
      ]
     },
     "metadata": {},
     "output_type": "display_data"
    },
    {
     "data": {
      "text/html": [
       "<pre style=\"white-space:pre;overflow-x:auto;line-height:normal;font-family:Menlo,'DejaVu Sans Mono',consolas,'Courier New',monospace\">\n",
       "<span style=\"color: #808000; text-decoration-color: #808000; font-weight: bold\">------- Hoàn thành bước: content_validator -------</span>\n",
       "</pre>\n"
      ],
      "text/plain": [
       "\n",
       "\u001b[1;33m------- Hoàn thành bước: content_validator -------\u001b[0m\n"
      ]
     },
     "metadata": {},
     "output_type": "display_data"
    },
    {
     "data": {
      "text/html": [
       "<pre style=\"white-space:pre;overflow-x:auto;line-height:normal;font-family:Menlo,'DejaVu Sans Mono',consolas,'Courier New',monospace\">\n",
       "<span style=\"color: #008080; text-decoration-color: #008080; font-weight: bold\">&gt;</span> `Agent: Task Dispatcher` đang giao việc<span style=\"color: #808000; text-decoration-color: #808000\">...</span>\n",
       "</pre>\n"
      ],
      "text/plain": [
       "\n",
       "\u001b[1;36m>\u001b[0m `Agent: Task Dispatcher` đang giao việc\u001b[33m...\u001b[0m\n"
      ]
     },
     "metadata": {},
     "output_type": "display_data"
    },
    {
     "data": {
      "text/html": [
       "<pre style=\"white-space:pre;overflow-x:auto;line-height:normal;font-family:Menlo,'DejaVu Sans Mono',consolas,'Courier New',monospace\">\n",
       "<span style=\"color: #008080; text-decoration-color: #008080; font-weight: bold\">&gt;</span> --- 🚚 `Dispatcher`: Giao nhiệm vụ cho `activity_designer`.\n",
       "</pre>\n"
      ],
      "text/plain": [
       "\n",
       "\u001b[1;36m>\u001b[0m --- 🚚 `Dispatcher`: Giao nhiệm vụ cho `activity_designer`.\n"
      ]
     },
     "metadata": {},
     "output_type": "display_data"
    },
    {
     "data": {
      "text/html": [
       "<pre style=\"white-space:pre;overflow-x:auto;line-height:normal;font-family:Menlo,'DejaVu Sans Mono',consolas,'Courier New',monospace\">\n",
       "<span style=\"color: #808000; text-decoration-color: #808000; font-weight: bold\">------- Hoàn thành bước: task_dispatcher -------</span>\n",
       "</pre>\n"
      ],
      "text/plain": [
       "\n",
       "\u001b[1;33m------- Hoàn thành bước: task_dispatcher -------\u001b[0m\n"
      ]
     },
     "metadata": {},
     "output_type": "display_data"
    },
    {
     "data": {
      "text/html": [
       "<pre style=\"white-space:pre;overflow-x:auto;line-height:normal;font-family:Menlo,'DejaVu Sans Mono',consolas,'Courier New',monospace\">\n",
       "<span style=\"color: #008080; text-decoration-color: #008080; font-weight: bold\">&gt;</span> `Agent: Activity Designer` <span style=\"font-weight: bold\">(</span>v10.<span style=\"color: #008080; text-decoration-color: #008080; font-weight: bold\">0</span><span style=\"font-weight: bold\">)</span> đang tạo nội dung theo kỷ luật<span style=\"color: #808000; text-decoration-color: #808000\">...</span>\n",
       "</pre>\n"
      ],
      "text/plain": [
       "\n",
       "\u001b[1;36m>\u001b[0m `Agent: Activity Designer` \u001b[1m(\u001b[0mv10.\u001b[1;36m0\u001b[0m\u001b[1m)\u001b[0m đang tạo nội dung theo kỷ luật\u001b[33m...\u001b[0m\n"
      ]
     },
     "metadata": {},
     "output_type": "display_data"
    },
    {
     "data": {
      "text/html": [
       "<pre style=\"white-space:pre;overflow-x:auto;line-height:normal;font-family:Menlo,'DejaVu Sans Mono',consolas,'Courier New',monospace\"><span style=\"color: #008000; text-decoration-color: #008000; font-weight: bold\">✔️ Nội dung do Activity Designer tạo ra:</span>\n",
       "</pre>\n"
      ],
      "text/plain": [
       "\u001b[1;32m✔️ Nội dung do Activity Designer tạo ra:\u001b[0m\n"
      ]
     },
     "metadata": {},
     "output_type": "display_data"
    },
    {
     "data": {
      "text/html": [
       "<pre style=\"white-space:pre;overflow-x:auto;line-height:normal;font-family:Menlo,'DejaVu Sans Mono',consolas,'Courier New',monospace\"><span style=\"font-weight: bold\">{</span>\n",
       "<span style=\"color: #7fbf7f; text-decoration-color: #7fbf7f\">│   </span><span style=\"color: #008000; text-decoration-color: #008000\">'activity_name'</span>: <span style=\"color: #008000; text-decoration-color: #008000\">'Vận dụng và Trình bày sản phẩm'</span>,\n",
       "<span style=\"color: #7fbf7f; text-decoration-color: #7fbf7f\">│   </span><span style=\"color: #008000; text-decoration-color: #008000\">'activity_type'</span>: <span style=\"color: #008000; text-decoration-color: #008000\">'Thảo luận nhóm và Trình bày nhanh'</span>,\n",
       "<span style=\"color: #7fbf7f; text-decoration-color: #7fbf7f\">│   </span><span style=\"color: #008000; text-decoration-color: #008000\">'duration_minutes'</span>: <span style=\"color: #008080; text-decoration-color: #008080; font-weight: bold\">30</span>,\n",
       "<span style=\"color: #7fbf7f; text-decoration-color: #7fbf7f\">│   </span><span style=\"color: #008000; text-decoration-color: #008000\">'teacher_actions'</span>: <span style=\"font-weight: bold\">[</span>\n",
       "<span style=\"color: #7fbf7f; text-decoration-color: #7fbf7f\">│   │   </span><span style=\"color: #008000; text-decoration-color: #008000\">'Giới thiệu nhiệm vụ, mục tiêu và thời gian cho hoạt động (3 phút).'</span>,\n",
       "<span style=\"color: #7fbf7f; text-decoration-color: #7fbf7f\">│   │   </span><span style=\"color: #008000; text-decoration-color: #008000\">'Chia nhóm (nếu cần) và phát phiếu/tài liệu hướng dẫn.'</span>,\n",
       "<span style=\"color: #7fbf7f; text-decoration-color: #7fbf7f\">│   │   </span><span style=\"color: #008000; text-decoration-color: #008000\">'Quan sát, hỗ trợ các nhóm trong quá trình làm việc, gợi ý khi cần thiết.'</span>,\n",
       "<span style=\"color: #7fbf7f; text-decoration-color: #7fbf7f\">│   │   </span><span style=\"color: #008000; text-decoration-color: #008000\">'Chọn ngẫu nhiên 2-3 nhóm để trình bày nhanh sản phẩm của mình (mỗi nhóm tối đa 1.5-2 phút).'</span>,\n",
       "<span style=\"color: #7fbf7f; text-decoration-color: #7fbf7f\">│   │   </span><span style=\"color: #008000; text-decoration-color: #008000\">'Tổng kết, nhận xét chung về các sản phẩm và quá trình làm việc của học sinh (2 phút).'</span>,\n",
       "<span style=\"color: #7fbf7f; text-decoration-color: #7fbf7f\">│   │   </span><span style=\"color: #008000; text-decoration-color: #008000\">'Định hướng cho các hoạt động tiếp theo.'</span>\n",
       "<span style=\"color: #7fbf7f; text-decoration-color: #7fbf7f\">│   </span><span style=\"font-weight: bold\">]</span>,\n",
       "<span style=\"color: #7fbf7f; text-decoration-color: #7fbf7f\">│   </span><span style=\"color: #008000; text-decoration-color: #008000\">'core_component'</span>: <span style=\"color: #008000; text-decoration-color: #008000\">'Học sinh làm việc theo nhóm (4-5 người) trong 20 phút để vận dụng kiến thức đã học về [chủ đề cụ thể của bài học] nhằm: 1. Phân tích một tình huống/vấn đề thực tế được giáo viên cung cấp. 2. Đề xuất một giải pháp hoặc tạo ra một sản phẩm cụ thể (ví dụ: một sơ đồ tư duy tóm tắt, một đoạn văn ngắn trình bày quan điểm, một poster quảng bá ý tưởng, một kế hoạch hành động đơn giản) để giải quyết vấn đề hoặc thể hiện sự hiểu biết về chủ đề. 3. Chuẩn bị trình bày ngắn gọn (tối đa 1-2 phút) về sản phẩm của nhóm.'</span>,\n",
       "<span style=\"color: #7fbf7f; text-decoration-color: #7fbf7f\">│   </span><span style=\"color: #008000; text-decoration-color: #008000\">'extension_component'</span>: <span style=\"color: #008000; text-decoration-color: #008000\">'Nếu hoàn thành sớm phần cốt lõi, các nhóm có thể: Suy nghĩ về các yếu tố bổ sung hoặc cải tiến cho sản phẩm/giải pháp của mình. Chuẩn bị thêm các câu hỏi phản biện cho các nhóm khác. Tìm kiếm các ví dụ thực tế khác liên quan đến chủ đề để minh họa thêm.'</span>,\n",
       "<span style=\"color: #7fbf7f; text-decoration-color: #7fbf7f\">│   </span><span style=\"color: #008000; text-decoration-color: #008000\">'solution_guide'</span>: <span style=\"color: #008000; text-decoration-color: #008000\">'Các câu hỏi gợi mở/tiêu chí đánh giá sản phẩm: Sản phẩm có thể hiện rõ sự vận dụng kiến thức đã học không? Giải pháp/sản phẩm có tính khả thi và sáng tạo không? Cách trình bày có rõ ràng, mạch lạc và thuyết phục không? Các nhóm có thể tham khảo các ví dụ mẫu (nếu có) hoặc dàn ý cơ bản do giáo viên cung cấp.'</span>,\n",
       "<span style=\"color: #7fbf7f; text-decoration-color: #7fbf7f\">│   </span><span style=\"color: #008000; text-decoration-color: #008000\">'differentiation'</span>: <span style=\"font-weight: bold\">{</span>\n",
       "<span style=\"color: #7fbf7f; text-decoration-color: #7fbf7f\">│   │   </span><span style=\"color: #008000; text-decoration-color: #008000\">'for_struggling_students'</span>: <span style=\"color: #008000; text-decoration-color: #008000\">'Giáo viên cung cấp các mẫu câu, gợi ý cụ thể hơn hoặc phiếu hỗ trợ có sẵn các từ khóa/cấu trúc. Ưu tiên ghép nhóm với học sinh khá giỏi để nhận được sự hỗ trợ từ bạn bè. Giáo viên dành thời gian quan tâm, hướng dẫn trực tiếp nhóm này.'</span>,\n",
       "<span style=\"color: #7fbf7f; text-decoration-color: #7fbf7f\">│   │   </span><span style=\"color: #008000; text-decoration-color: #008000\">'for_advanced_students'</span>: <span style=\"color: #008000; text-decoration-color: #008000\">'Khuyến khích học sinh đào sâu vấn đề, đưa ra các giải pháp sáng tạo, phức tạp hơn hoặc liên hệ với các kiến thức liên môn. Yêu cầu nhóm chuẩn bị thêm phần phản biện hoặc mở rộng vấn đề.'</span>\n",
       "<span style=\"color: #7fbf7f; text-decoration-color: #7fbf7f\">│   </span><span style=\"font-weight: bold\">}</span>,\n",
       "<span style=\"color: #7fbf7f; text-decoration-color: #7fbf7f\">│   </span><span style=\"color: #008000; text-decoration-color: #008000\">'question_or_description'</span>: <span style=\"color: #008000; text-decoration-color: #008000\">'**Phần Cốt lõi:**\\nHọc sinh làm việc theo nhóm (4-5 người) trong 20 phút để vận dụng kiến thức đã học về [chủ đề cụ thể của bài học] nhằm: 1. Phân tích một tình huống/vấn đề thực tế được giáo viên cung cấp. 2. Đề xuất một giải pháp hoặc tạo ra một sản phẩm cụ thể (ví dụ: một sơ đồ tư duy tóm tắt, một đoạn văn ngắn trình bày quan điểm, một poster quảng bá ý tưởng, một kế hoạch hành động đơn giản) để giải quyết vấn đề hoặc thể hiện sự hiểu biết về chủ đề. 3. Chuẩn bị trình bày ngắn gọn (tối đa 1-2 phút) về sản phẩm của nhóm.\\n\\n**Phần Mở rộng (nếu còn thời gian):**\\nNếu hoàn thành sớm phần cốt lõi, các nhóm có thể: Suy nghĩ về các yếu tố bổ sung hoặc cải tiến cho sản phẩm/giải pháp của mình. Chuẩn bị thêm các câu hỏi phản biện cho các nhóm khác. Tìm kiếm các ví dụ thực tế khác liên quan đến chủ đề để minh họa thêm.'</span>\n",
       "<span style=\"font-weight: bold\">}</span>\n",
       "</pre>\n"
      ],
      "text/plain": [
       "\u001b[1m{\u001b[0m\n",
       "\u001b[2;32m│   \u001b[0m\u001b[32m'activity_name'\u001b[0m: \u001b[32m'Vận dụng và Trình bày sản phẩm'\u001b[0m,\n",
       "\u001b[2;32m│   \u001b[0m\u001b[32m'activity_type'\u001b[0m: \u001b[32m'Thảo luận nhóm và Trình bày nhanh'\u001b[0m,\n",
       "\u001b[2;32m│   \u001b[0m\u001b[32m'duration_minutes'\u001b[0m: \u001b[1;36m30\u001b[0m,\n",
       "\u001b[2;32m│   \u001b[0m\u001b[32m'teacher_actions'\u001b[0m: \u001b[1m[\u001b[0m\n",
       "\u001b[2;32m│   │   \u001b[0m\u001b[32m'Giới thiệu nhiệm vụ, mục tiêu và thời gian cho hoạt động \u001b[0m\u001b[32m(\u001b[0m\u001b[32m3 phút\u001b[0m\u001b[32m)\u001b[0m\u001b[32m.'\u001b[0m,\n",
       "\u001b[2;32m│   │   \u001b[0m\u001b[32m'Chia nhóm \u001b[0m\u001b[32m(\u001b[0m\u001b[32mnếu cần\u001b[0m\u001b[32m)\u001b[0m\u001b[32m và phát phiếu/tài liệu hướng dẫn.'\u001b[0m,\n",
       "\u001b[2;32m│   │   \u001b[0m\u001b[32m'Quan sát, hỗ trợ các nhóm trong quá trình làm việc, gợi ý khi cần thiết.'\u001b[0m,\n",
       "\u001b[2;32m│   │   \u001b[0m\u001b[32m'Chọn ngẫu nhiên 2-3 nhóm để trình bày nhanh sản phẩm của mình \u001b[0m\u001b[32m(\u001b[0m\u001b[32mmỗi nhóm tối đa 1.5-2 phút\u001b[0m\u001b[32m)\u001b[0m\u001b[32m.'\u001b[0m,\n",
       "\u001b[2;32m│   │   \u001b[0m\u001b[32m'Tổng kết, nhận xét chung về các sản phẩm và quá trình làm việc của học sinh \u001b[0m\u001b[32m(\u001b[0m\u001b[32m2 phút\u001b[0m\u001b[32m)\u001b[0m\u001b[32m.'\u001b[0m,\n",
       "\u001b[2;32m│   │   \u001b[0m\u001b[32m'Định hướng cho các hoạt động tiếp theo.'\u001b[0m\n",
       "\u001b[2;32m│   \u001b[0m\u001b[1m]\u001b[0m,\n",
       "\u001b[2;32m│   \u001b[0m\u001b[32m'core_component'\u001b[0m: \u001b[32m'Học sinh làm việc theo nhóm \u001b[0m\u001b[32m(\u001b[0m\u001b[32m4-5 người\u001b[0m\u001b[32m)\u001b[0m\u001b[32m trong 20 phút để vận dụng kiến thức đã học về \u001b[0m\u001b[32m[\u001b[0m\u001b[32mchủ đề cụ thể của bài học\u001b[0m\u001b[32m]\u001b[0m\u001b[32m nhằm: 1. Phân tích một tình huống/vấn đề thực tế được giáo viên cung cấp. 2. Đề xuất một giải pháp hoặc tạo ra một sản phẩm cụ thể \u001b[0m\u001b[32m(\u001b[0m\u001b[32mví dụ: một sơ đồ tư duy tóm tắt, một đoạn văn ngắn trình bày quan điểm, một poster quảng bá ý tưởng, một kế hoạch hành động đơn giản\u001b[0m\u001b[32m)\u001b[0m\u001b[32m để giải quyết vấn đề hoặc thể hiện sự hiểu biết về chủ đề. 3. Chuẩn bị trình bày ngắn gọn \u001b[0m\u001b[32m(\u001b[0m\u001b[32mtối đa 1-2 phút\u001b[0m\u001b[32m)\u001b[0m\u001b[32m về sản phẩm của nhóm.'\u001b[0m,\n",
       "\u001b[2;32m│   \u001b[0m\u001b[32m'extension_component'\u001b[0m: \u001b[32m'Nếu hoàn thành sớm phần cốt lõi, các nhóm có thể: Suy nghĩ về các yếu tố bổ sung hoặc cải tiến cho sản phẩm/giải pháp của mình. Chuẩn bị thêm các câu hỏi phản biện cho các nhóm khác. Tìm kiếm các ví dụ thực tế khác liên quan đến chủ đề để minh họa thêm.'\u001b[0m,\n",
       "\u001b[2;32m│   \u001b[0m\u001b[32m'solution_guide'\u001b[0m: \u001b[32m'Các câu hỏi gợi mở/tiêu chí đánh giá sản phẩm: Sản phẩm có thể hiện rõ sự vận dụng kiến thức đã học không? Giải pháp/sản phẩm có tính khả thi và sáng tạo không? Cách trình bày có rõ ràng, mạch lạc và thuyết phục không? Các nhóm có thể tham khảo các ví dụ mẫu \u001b[0m\u001b[32m(\u001b[0m\u001b[32mnếu có\u001b[0m\u001b[32m)\u001b[0m\u001b[32m hoặc dàn ý cơ bản do giáo viên cung cấp.'\u001b[0m,\n",
       "\u001b[2;32m│   \u001b[0m\u001b[32m'differentiation'\u001b[0m: \u001b[1m{\u001b[0m\n",
       "\u001b[2;32m│   │   \u001b[0m\u001b[32m'for_struggling_students'\u001b[0m: \u001b[32m'Giáo viên cung cấp các mẫu câu, gợi ý cụ thể hơn hoặc phiếu hỗ trợ có sẵn các từ khóa/cấu trúc. Ưu tiên ghép nhóm với học sinh khá giỏi để nhận được sự hỗ trợ từ bạn bè. Giáo viên dành thời gian quan tâm, hướng dẫn trực tiếp nhóm này.'\u001b[0m,\n",
       "\u001b[2;32m│   │   \u001b[0m\u001b[32m'for_advanced_students'\u001b[0m: \u001b[32m'Khuyến khích học sinh đào sâu vấn đề, đưa ra các giải pháp sáng tạo, phức tạp hơn hoặc liên hệ với các kiến thức liên môn. Yêu cầu nhóm chuẩn bị thêm phần phản biện hoặc mở rộng vấn đề.'\u001b[0m\n",
       "\u001b[2;32m│   \u001b[0m\u001b[1m}\u001b[0m,\n",
       "\u001b[2;32m│   \u001b[0m\u001b[32m'question_or_description'\u001b[0m: \u001b[32m'**Phần Cốt lõi:**\\nHọc sinh làm việc theo nhóm \u001b[0m\u001b[32m(\u001b[0m\u001b[32m4-5 người\u001b[0m\u001b[32m)\u001b[0m\u001b[32m trong 20 phút để vận dụng kiến thức đã học về \u001b[0m\u001b[32m[\u001b[0m\u001b[32mchủ đề cụ thể của bài học\u001b[0m\u001b[32m]\u001b[0m\u001b[32m nhằm: 1. Phân tích một tình huống/vấn đề thực tế được giáo viên cung cấp. 2. Đề xuất một giải pháp hoặc tạo ra một sản phẩm cụ thể \u001b[0m\u001b[32m(\u001b[0m\u001b[32mví dụ: một sơ đồ tư duy tóm tắt, một đoạn văn ngắn trình bày quan điểm, một poster quảng bá ý tưởng, một kế hoạch hành động đơn giản\u001b[0m\u001b[32m)\u001b[0m\u001b[32m để giải quyết vấn đề hoặc thể hiện sự hiểu biết về chủ đề. 3. Chuẩn bị trình bày ngắn gọn \u001b[0m\u001b[32m(\u001b[0m\u001b[32mtối đa 1-2 phút\u001b[0m\u001b[32m)\u001b[0m\u001b[32m về sản phẩm của nhóm.\\n\\n**Phần Mở rộng \u001b[0m\u001b[32m(\u001b[0m\u001b[32mnếu còn thời gian\u001b[0m\u001b[32m)\u001b[0m\u001b[32m:**\\nNếu hoàn thành sớm phần cốt lõi, các nhóm có thể: Suy nghĩ về các yếu tố bổ sung hoặc cải tiến cho sản phẩm/giải pháp của mình. Chuẩn bị thêm các câu hỏi phản biện cho các nhóm khác. Tìm kiếm các ví dụ thực tế khác liên quan đến chủ đề để minh họa thêm.'\u001b[0m\n",
       "\u001b[1m}\u001b[0m\n"
      ]
     },
     "metadata": {},
     "output_type": "display_data"
    },
    {
     "data": {
      "text/html": [
       "<pre style=\"white-space:pre;overflow-x:auto;line-height:normal;font-family:Menlo,'DejaVu Sans Mono',consolas,'Courier New',monospace\">\n",
       "<span style=\"color: #808000; text-decoration-color: #808000; font-weight: bold\">------- Hoàn thành bước: activity_designer -------</span>\n",
       "</pre>\n"
      ],
      "text/plain": [
       "\n",
       "\u001b[1;33m------- Hoàn thành bước: activity_designer -------\u001b[0m\n"
      ]
     },
     "metadata": {},
     "output_type": "display_data"
    },
    {
     "data": {
      "text/html": [
       "<pre style=\"white-space:pre;overflow-x:auto;line-height:normal;font-family:Menlo,'DejaVu Sans Mono',consolas,'Courier New',monospace\">\n",
       "<span style=\"color: #008080; text-decoration-color: #008080; font-weight: bold\">&gt;</span> `Agent: Guardian Critic` <span style=\"font-weight: bold\">(</span>v10.<span style=\"color: #008080; text-decoration-color: #008080; font-weight: bold\">0</span><span style=\"font-weight: bold\">)</span> đang bảo vệ kế hoạch<span style=\"color: #808000; text-decoration-color: #808000\">...</span>\n",
       "</pre>\n"
      ],
      "text/plain": [
       "\n",
       "\u001b[1;36m>\u001b[0m `Agent: Guardian Critic` \u001b[1m(\u001b[0mv10.\u001b[1;36m0\u001b[0m\u001b[1m)\u001b[0m đang bảo vệ kế hoạch\u001b[33m...\u001b[0m\n"
      ]
     },
     "metadata": {},
     "output_type": "display_data"
    },
    {
     "data": {
      "text/html": [
       "<pre style=\"white-space:pre;overflow-x:auto;line-height:normal;font-family:Menlo,'DejaVu Sans Mono',consolas,'Courier New',monospace\"><span style=\"color: #808000; text-decoration-color: #808000; font-weight: bold\">⚠️  GUARDIAN PHẢN BIỆN: Hoạt động này có cấu trúc tốt và phù hợp về mặt sư phạm. Tuy nhiên, thời lượng </span><span style=\"color: #808000; text-decoration-color: #808000; font-weight: bold\">30</span><span style=\"color: #808000; text-decoration-color: #808000; font-weight: bold\"> phút là </span>\n",
       "<span style=\"color: #808000; text-decoration-color: #808000; font-weight: bold\">quá ngắn để hoàn thành tất cả các bước được mô tả. Cụ thể, </span><span style=\"color: #808000; text-decoration-color: #808000; font-weight: bold\">20</span><span style=\"color: #808000; text-decoration-color: #808000; font-weight: bold\"> phút cho phần làm việc nhóm để phân tích, tạo sản </span>\n",
       "<span style=\"color: #808000; text-decoration-color: #808000; font-weight: bold\">phẩm và chuẩn bị trình bày là rất gấp, chưa kể thời gian cho phần giới thiệu (</span><span style=\"color: #808000; text-decoration-color: #808000; font-weight: bold\">3</span><span style=\"color: #808000; text-decoration-color: #808000; font-weight: bold\"> phút), trình bày của </span><span style=\"color: #808000; text-decoration-color: #808000; font-weight: bold\">2</span><span style=\"color: #808000; text-decoration-color: #808000; font-weight: bold\">-</span><span style=\"color: #808000; text-decoration-color: #808000; font-weight: bold\">3</span><span style=\"color: #808000; text-decoration-color: #808000; font-weight: bold\"> nhóm (tối </span>\n",
       "<span style=\"color: #808000; text-decoration-color: #808000; font-weight: bold\">đa </span><span style=\"color: #808000; text-decoration-color: #808000; font-weight: bold\">6</span><span style=\"color: #808000; text-decoration-color: #808000; font-weight: bold\"> phút) và tổng kết (</span><span style=\"color: #808000; text-decoration-color: #808000; font-weight: bold\">2</span><span style=\"color: #808000; text-decoration-color: #808000; font-weight: bold\"> phút). Tổng thời gian ước tính cho các hoạt động cốt lõi đã vượt quá </span><span style=\"color: #808000; text-decoration-color: #808000; font-weight: bold\">30</span><span style=\"color: #808000; text-decoration-color: #808000; font-weight: bold\"> phút. Hãy thiết </span>\n",
       "<span style=\"color: #808000; text-decoration-color: #808000; font-weight: bold\">kế lại một phiên bản hoạt động đơn giản hơn, ít bước hơn để khớp với thời gian </span><span style=\"color: #808000; text-decoration-color: #808000; font-weight: bold\">30</span><span style=\"color: #808000; text-decoration-color: #808000; font-weight: bold\"> phút đã cho.</span>\n",
       "</pre>\n"
      ],
      "text/plain": [
       "\u001b[1;33m⚠️  GUARDIAN PHẢN BIỆN: Hoạt động này có cấu trúc tốt và phù hợp về mặt sư phạm. Tuy nhiên, thời lượng \u001b[0m\u001b[1;33m30\u001b[0m\u001b[1;33m phút là \u001b[0m\n",
       "\u001b[1;33mquá ngắn để hoàn thành tất cả các bước được mô tả. Cụ thể, \u001b[0m\u001b[1;33m20\u001b[0m\u001b[1;33m phút cho phần làm việc nhóm để phân tích, tạo sản \u001b[0m\n",
       "\u001b[1;33mphẩm và chuẩn bị trình bày là rất gấp, chưa kể thời gian cho phần giới thiệu \u001b[0m\u001b[1;33m(\u001b[0m\u001b[1;33m3\u001b[0m\u001b[1;33m phút\u001b[0m\u001b[1;33m)\u001b[0m\u001b[1;33m, trình bày của \u001b[0m\u001b[1;33m2\u001b[0m\u001b[1;33m-\u001b[0m\u001b[1;33m3\u001b[0m\u001b[1;33m nhóm \u001b[0m\u001b[1;33m(\u001b[0m\u001b[1;33mtối \u001b[0m\n",
       "\u001b[1;33mđa \u001b[0m\u001b[1;33m6\u001b[0m\u001b[1;33m phút\u001b[0m\u001b[1;33m)\u001b[0m\u001b[1;33m và tổng kết \u001b[0m\u001b[1;33m(\u001b[0m\u001b[1;33m2\u001b[0m\u001b[1;33m phút\u001b[0m\u001b[1;33m)\u001b[0m\u001b[1;33m. Tổng thời gian ước tính cho các hoạt động cốt lõi đã vượt quá \u001b[0m\u001b[1;33m30\u001b[0m\u001b[1;33m phút. Hãy thiết \u001b[0m\n",
       "\u001b[1;33mkế lại một phiên bản hoạt động đơn giản hơn, ít bước hơn để khớp với thời gian \u001b[0m\u001b[1;33m30\u001b[0m\u001b[1;33m phút đã cho.\u001b[0m\n"
      ]
     },
     "metadata": {},
     "output_type": "display_data"
    },
    {
     "data": {
      "text/html": [
       "<pre style=\"white-space:pre;overflow-x:auto;line-height:normal;font-family:Menlo,'DejaVu Sans Mono',consolas,'Courier New',monospace\">\n",
       "<span style=\"color: #808000; text-decoration-color: #808000; font-weight: bold\">------- Hoàn thành bước: content_validator -------</span>\n",
       "</pre>\n"
      ],
      "text/plain": [
       "\n",
       "\u001b[1;33m------- Hoàn thành bước: content_validator -------\u001b[0m\n"
      ]
     },
     "metadata": {},
     "output_type": "display_data"
    },
    {
     "data": {
      "text/html": [
       "<pre style=\"white-space:pre;overflow-x:auto;line-height:normal;font-family:Menlo,'DejaVu Sans Mono',consolas,'Courier New',monospace\">\n",
       "<span style=\"color: #008080; text-decoration-color: #008080; font-weight: bold\">&gt;</span> `Agent: Task Dispatcher` đang giao việc<span style=\"color: #808000; text-decoration-color: #808000\">...</span>\n",
       "</pre>\n"
      ],
      "text/plain": [
       "\n",
       "\u001b[1;36m>\u001b[0m `Agent: Task Dispatcher` đang giao việc\u001b[33m...\u001b[0m\n"
      ]
     },
     "metadata": {},
     "output_type": "display_data"
    },
    {
     "data": {
      "text/html": [
       "<pre style=\"white-space:pre;overflow-x:auto;line-height:normal;font-family:Menlo,'DejaVu Sans Mono',consolas,'Courier New',monospace\">\n",
       "<span style=\"color: #008080; text-decoration-color: #008080; font-weight: bold\">&gt;</span> --- 🚚 `Dispatcher`: Giao nhiệm vụ cho `activity_designer`.\n",
       "</pre>\n"
      ],
      "text/plain": [
       "\n",
       "\u001b[1;36m>\u001b[0m --- 🚚 `Dispatcher`: Giao nhiệm vụ cho `activity_designer`.\n"
      ]
     },
     "metadata": {},
     "output_type": "display_data"
    },
    {
     "data": {
      "text/html": [
       "<pre style=\"white-space:pre;overflow-x:auto;line-height:normal;font-family:Menlo,'DejaVu Sans Mono',consolas,'Courier New',monospace\">\n",
       "<span style=\"color: #808000; text-decoration-color: #808000; font-weight: bold\">------- Hoàn thành bước: task_dispatcher -------</span>\n",
       "</pre>\n"
      ],
      "text/plain": [
       "\n",
       "\u001b[1;33m------- Hoàn thành bước: task_dispatcher -------\u001b[0m\n"
      ]
     },
     "metadata": {},
     "output_type": "display_data"
    },
    {
     "data": {
      "text/html": [
       "<pre style=\"white-space:pre;overflow-x:auto;line-height:normal;font-family:Menlo,'DejaVu Sans Mono',consolas,'Courier New',monospace\">\n",
       "<span style=\"color: #008080; text-decoration-color: #008080; font-weight: bold\">&gt;</span> `Agent: Activity Designer` <span style=\"font-weight: bold\">(</span>v10.<span style=\"color: #008080; text-decoration-color: #008080; font-weight: bold\">0</span><span style=\"font-weight: bold\">)</span> đang tạo nội dung theo kỷ luật<span style=\"color: #808000; text-decoration-color: #808000\">...</span>\n",
       "</pre>\n"
      ],
      "text/plain": [
       "\n",
       "\u001b[1;36m>\u001b[0m `Agent: Activity Designer` \u001b[1m(\u001b[0mv10.\u001b[1;36m0\u001b[0m\u001b[1m)\u001b[0m đang tạo nội dung theo kỷ luật\u001b[33m...\u001b[0m\n"
      ]
     },
     "metadata": {},
     "output_type": "display_data"
    },
    {
     "data": {
      "text/html": [
       "<pre style=\"white-space:pre;overflow-x:auto;line-height:normal;font-family:Menlo,'DejaVu Sans Mono',consolas,'Courier New',monospace\"><span style=\"color: #008000; text-decoration-color: #008000; font-weight: bold\">✔️ Nội dung do Activity Designer tạo ra:</span>\n",
       "</pre>\n"
      ],
      "text/plain": [
       "\u001b[1;32m✔️ Nội dung do Activity Designer tạo ra:\u001b[0m\n"
      ]
     },
     "metadata": {},
     "output_type": "display_data"
    },
    {
     "data": {
      "text/html": [
       "<pre style=\"white-space:pre;overflow-x:auto;line-height:normal;font-family:Menlo,'DejaVu Sans Mono',consolas,'Courier New',monospace\"><span style=\"font-weight: bold\">{</span>\n",
       "<span style=\"color: #7fbf7f; text-decoration-color: #7fbf7f\">│   </span><span style=\"color: #008000; text-decoration-color: #008000\">'activity_name'</span>: <span style=\"color: #008000; text-decoration-color: #008000\">'Vận dụng và Trình bày sản phẩm'</span>,\n",
       "<span style=\"color: #7fbf7f; text-decoration-color: #7fbf7f\">│   </span><span style=\"color: #008000; text-decoration-color: #008000\">'activity_type'</span>: <span style=\"color: #008000; text-decoration-color: #008000\">'Thảo luận nhóm và Trình bày'</span>,\n",
       "<span style=\"color: #7fbf7f; text-decoration-color: #7fbf7f\">│   </span><span style=\"color: #008000; text-decoration-color: #008000\">'duration_minutes'</span>: <span style=\"color: #008080; text-decoration-color: #008080; font-weight: bold\">30</span>,\n",
       "<span style=\"color: #7fbf7f; text-decoration-color: #7fbf7f\">│   </span><span style=\"color: #008000; text-decoration-color: #008000\">'teacher_actions'</span>: <span style=\"font-weight: bold\">[</span>\n",
       "<span style=\"color: #7fbf7f; text-decoration-color: #7fbf7f\">│   │   </span><span style=\"color: #008000; text-decoration-color: #008000\">'Giới thiệu nhiệm vụ, phân chia nhóm và phát phiếu bài tập/tình huống cho từng nhóm (3 phút).'</span>,\n",
       "<span style=\"color: #7fbf7f; text-decoration-color: #7fbf7f\">│   │   </span><span style=\"color: #008000; text-decoration-color: #008000\">'Quan sát, lắng nghe, đi vòng quanh các nhóm để hỗ trợ, gợi ý khi cần thiết, đảm bảo các nhóm đi đúng hướng và tập trung vào nhiệm vụ cốt lõi (20 phút).'</span>,\n",
       "<span style=\"color: #7fbf7f; text-decoration-color: #7fbf7f\">│   │   </span><span style=\"color: #008000; text-decoration-color: #008000\">'Chọn ngẫu nhiên 1-2 nhóm trình bày ngắn gọn giải pháp của mình (mỗi nhóm tối đa 2-3 phút). Tổ chức nhận xét nhanh từ các nhóm khác hoặc giáo viên (5 phút).'</span>,\n",
       "<span style=\"color: #7fbf7f; text-decoration-color: #7fbf7f\">│   │   </span><span style=\"color: #008000; text-decoration-color: #008000\">'Tổng kết, chốt kiến thức trọng tâm, và đưa ra nhận xét chung về các sản phẩm/bài trình bày của học sinh (2 phút).'</span>\n",
       "<span style=\"color: #7fbf7f; text-decoration-color: #7fbf7f\">│   </span><span style=\"font-weight: bold\">]</span>,\n",
       "<span style=\"color: #7fbf7f; text-decoration-color: #7fbf7f\">│   </span><span style=\"color: #008000; text-decoration-color: #008000\">'core_component'</span>: <span style=\"color: #008000; text-decoration-color: #008000\">'Học sinh làm việc theo nhóm (4-5 người). Mỗi nhóm sẽ được giao một tình huống/vấn đề thực tế đơn giản liên quan đến kiến thức vừa học. Nhiệm vụ của nhóm là: 1. Vận dụng kiến thức đã học để phân tích tình huống và đề xuất giải pháp/cách tiếp cận. 2. Chuẩn bị một bản tóm tắt ngắn gọn (có thể là sơ đồ tư duy, gạch đầu dòng các ý chính, hoặc một kịch bản trình bày 2 phút) về giải pháp của nhóm. Mục tiêu là trình bày rõ ràng cách nhóm đã vận dụng kiến thức để giải quyết vấn đề.'</span>,\n",
       "<span style=\"color: #7fbf7f; text-decoration-color: #7fbf7f\">│   </span><span style=\"color: #008000; text-decoration-color: #008000\">'extension_component'</span>: <span style=\"color: #008000; text-decoration-color: #008000\">'Nếu hoàn thành sớm, các nhóm có thể: 1. Suy nghĩ thêm về các tình huống tương tự trong cuộc sống có thể áp dụng kiến thức này. 2. Chuẩn bị thêm một câu hỏi thử thách cho các nhóm khác liên quan đến nội dung trình bày.'</span>,\n",
       "<span style=\"color: #7fbf7f; text-decoration-color: #7fbf7f\">│   </span><span style=\"color: #008000; text-decoration-color: #008000\">'solution_guide'</span>: <span style=\"color: #008000; text-decoration-color: #008000\">'Các câu hỏi gợi mở cho giáo viên khi hỗ trợ nhóm hoặc khi nhận xét: Các em đã vận dụng kiến thức nào để giải quyết vấn đề này? Bước đầu tiên các em làm là gì? Tại sao? Có cách giải quyết nào khác không? Giải pháp của nhóm có ưu điểm/hạn chế gì?'</span>,\n",
       "<span style=\"color: #7fbf7f; text-decoration-color: #7fbf7f\">│   </span><span style=\"color: #008000; text-decoration-color: #008000\">'differentiation'</span>: <span style=\"font-weight: bold\">{</span>\n",
       "<span style=\"color: #7fbf7f; text-decoration-color: #7fbf7f\">│   │   </span><span style=\"color: #008000; text-decoration-color: #008000\">'for_struggling_students'</span>: <span style=\"color: #008000; text-decoration-color: #008000\">'Cung cấp các câu hỏi gợi ý cụ thể hơn, ví dụ minh họa đơn giản hơn, hoặc cho phép nhóm tập trung vào một khía cạnh nhỏ của tình huống. Giáo viên có thể dành nhiều thời gian hơn để hướng dẫn trực tiếp nhóm này.'</span>,\n",
       "<span style=\"color: #7fbf7f; text-decoration-color: #7fbf7f\">│   │   </span><span style=\"color: #008000; text-decoration-color: #008000\">'for_advanced_students'</span>: <span style=\"color: #008000; text-decoration-color: #008000\">'Giao tình huống phức tạp hơn một chút, yêu cầu phân tích sâu hơn hoặc đề xuất nhiều giải pháp/góc nhìn khác nhau. Khuyến khích nhóm tự đặt câu hỏi phản biện cho giải pháp của mình.'</span>\n",
       "<span style=\"color: #7fbf7f; text-decoration-color: #7fbf7f\">│   </span><span style=\"font-weight: bold\">}</span>,\n",
       "<span style=\"color: #7fbf7f; text-decoration-color: #7fbf7f\">│   </span><span style=\"color: #008000; text-decoration-color: #008000\">'question_or_description'</span>: <span style=\"color: #008000; text-decoration-color: #008000\">'**Phần Cốt lõi:**\\nHọc sinh làm việc theo nhóm (4-5 người). Mỗi nhóm sẽ được giao một tình huống/vấn đề thực tế đơn giản liên quan đến kiến thức vừa học. Nhiệm vụ của nhóm là: 1. Vận dụng kiến thức đã học để phân tích tình huống và đề xuất giải pháp/cách tiếp cận. 2. Chuẩn bị một bản tóm tắt ngắn gọn (có thể là sơ đồ tư duy, gạch đầu dòng các ý chính, hoặc một kịch bản trình bày 2 phút) về giải pháp của nhóm. Mục tiêu là trình bày rõ ràng cách nhóm đã vận dụng kiến thức để giải quyết vấn đề.\\n\\n**Phần Mở rộng (nếu còn thời gian):**\\nNếu hoàn thành sớm, các nhóm có thể: 1. Suy nghĩ thêm về các tình huống tương tự trong cuộc sống có thể áp dụng kiến thức này. 2. Chuẩn bị thêm một câu hỏi thử thách cho các nhóm khác liên quan đến nội dung trình bày.'</span>\n",
       "<span style=\"font-weight: bold\">}</span>\n",
       "</pre>\n"
      ],
      "text/plain": [
       "\u001b[1m{\u001b[0m\n",
       "\u001b[2;32m│   \u001b[0m\u001b[32m'activity_name'\u001b[0m: \u001b[32m'Vận dụng và Trình bày sản phẩm'\u001b[0m,\n",
       "\u001b[2;32m│   \u001b[0m\u001b[32m'activity_type'\u001b[0m: \u001b[32m'Thảo luận nhóm và Trình bày'\u001b[0m,\n",
       "\u001b[2;32m│   \u001b[0m\u001b[32m'duration_minutes'\u001b[0m: \u001b[1;36m30\u001b[0m,\n",
       "\u001b[2;32m│   \u001b[0m\u001b[32m'teacher_actions'\u001b[0m: \u001b[1m[\u001b[0m\n",
       "\u001b[2;32m│   │   \u001b[0m\u001b[32m'Giới thiệu nhiệm vụ, phân chia nhóm và phát phiếu bài tập/tình huống cho từng nhóm \u001b[0m\u001b[32m(\u001b[0m\u001b[32m3 phút\u001b[0m\u001b[32m)\u001b[0m\u001b[32m.'\u001b[0m,\n",
       "\u001b[2;32m│   │   \u001b[0m\u001b[32m'Quan sát, lắng nghe, đi vòng quanh các nhóm để hỗ trợ, gợi ý khi cần thiết, đảm bảo các nhóm đi đúng hướng và tập trung vào nhiệm vụ cốt lõi \u001b[0m\u001b[32m(\u001b[0m\u001b[32m20 phút\u001b[0m\u001b[32m)\u001b[0m\u001b[32m.'\u001b[0m,\n",
       "\u001b[2;32m│   │   \u001b[0m\u001b[32m'Chọn ngẫu nhiên 1-2 nhóm trình bày ngắn gọn giải pháp của mình \u001b[0m\u001b[32m(\u001b[0m\u001b[32mmỗi nhóm tối đa 2-3 phút\u001b[0m\u001b[32m)\u001b[0m\u001b[32m. Tổ chức nhận xét nhanh từ các nhóm khác hoặc giáo viên \u001b[0m\u001b[32m(\u001b[0m\u001b[32m5 phút\u001b[0m\u001b[32m)\u001b[0m\u001b[32m.'\u001b[0m,\n",
       "\u001b[2;32m│   │   \u001b[0m\u001b[32m'Tổng kết, chốt kiến thức trọng tâm, và đưa ra nhận xét chung về các sản phẩm/bài trình bày của học sinh \u001b[0m\u001b[32m(\u001b[0m\u001b[32m2 phút\u001b[0m\u001b[32m)\u001b[0m\u001b[32m.'\u001b[0m\n",
       "\u001b[2;32m│   \u001b[0m\u001b[1m]\u001b[0m,\n",
       "\u001b[2;32m│   \u001b[0m\u001b[32m'core_component'\u001b[0m: \u001b[32m'Học sinh làm việc theo nhóm \u001b[0m\u001b[32m(\u001b[0m\u001b[32m4-5 người\u001b[0m\u001b[32m)\u001b[0m\u001b[32m. Mỗi nhóm sẽ được giao một tình huống/vấn đề thực tế đơn giản liên quan đến kiến thức vừa học. Nhiệm vụ của nhóm là: 1. Vận dụng kiến thức đã học để phân tích tình huống và đề xuất giải pháp/cách tiếp cận. 2. Chuẩn bị một bản tóm tắt ngắn gọn \u001b[0m\u001b[32m(\u001b[0m\u001b[32mcó thể là sơ đồ tư duy, gạch đầu dòng các ý chính, hoặc một kịch bản trình bày 2 phút\u001b[0m\u001b[32m)\u001b[0m\u001b[32m về giải pháp của nhóm. Mục tiêu là trình bày rõ ràng cách nhóm đã vận dụng kiến thức để giải quyết vấn đề.'\u001b[0m,\n",
       "\u001b[2;32m│   \u001b[0m\u001b[32m'extension_component'\u001b[0m: \u001b[32m'Nếu hoàn thành sớm, các nhóm có thể: 1. Suy nghĩ thêm về các tình huống tương tự trong cuộc sống có thể áp dụng kiến thức này. 2. Chuẩn bị thêm một câu hỏi thử thách cho các nhóm khác liên quan đến nội dung trình bày.'\u001b[0m,\n",
       "\u001b[2;32m│   \u001b[0m\u001b[32m'solution_guide'\u001b[0m: \u001b[32m'Các câu hỏi gợi mở cho giáo viên khi hỗ trợ nhóm hoặc khi nhận xét: Các em đã vận dụng kiến thức nào để giải quyết vấn đề này? Bước đầu tiên các em làm là gì? Tại sao? Có cách giải quyết nào khác không? Giải pháp của nhóm có ưu điểm/hạn chế gì?'\u001b[0m,\n",
       "\u001b[2;32m│   \u001b[0m\u001b[32m'differentiation'\u001b[0m: \u001b[1m{\u001b[0m\n",
       "\u001b[2;32m│   │   \u001b[0m\u001b[32m'for_struggling_students'\u001b[0m: \u001b[32m'Cung cấp các câu hỏi gợi ý cụ thể hơn, ví dụ minh họa đơn giản hơn, hoặc cho phép nhóm tập trung vào một khía cạnh nhỏ của tình huống. Giáo viên có thể dành nhiều thời gian hơn để hướng dẫn trực tiếp nhóm này.'\u001b[0m,\n",
       "\u001b[2;32m│   │   \u001b[0m\u001b[32m'for_advanced_students'\u001b[0m: \u001b[32m'Giao tình huống phức tạp hơn một chút, yêu cầu phân tích sâu hơn hoặc đề xuất nhiều giải pháp/góc nhìn khác nhau. Khuyến khích nhóm tự đặt câu hỏi phản biện cho giải pháp của mình.'\u001b[0m\n",
       "\u001b[2;32m│   \u001b[0m\u001b[1m}\u001b[0m,\n",
       "\u001b[2;32m│   \u001b[0m\u001b[32m'question_or_description'\u001b[0m: \u001b[32m'**Phần Cốt lõi:**\\nHọc sinh làm việc theo nhóm \u001b[0m\u001b[32m(\u001b[0m\u001b[32m4-5 người\u001b[0m\u001b[32m)\u001b[0m\u001b[32m. Mỗi nhóm sẽ được giao một tình huống/vấn đề thực tế đơn giản liên quan đến kiến thức vừa học. Nhiệm vụ của nhóm là: 1. Vận dụng kiến thức đã học để phân tích tình huống và đề xuất giải pháp/cách tiếp cận. 2. Chuẩn bị một bản tóm tắt ngắn gọn \u001b[0m\u001b[32m(\u001b[0m\u001b[32mcó thể là sơ đồ tư duy, gạch đầu dòng các ý chính, hoặc một kịch bản trình bày 2 phút\u001b[0m\u001b[32m)\u001b[0m\u001b[32m về giải pháp của nhóm. Mục tiêu là trình bày rõ ràng cách nhóm đã vận dụng kiến thức để giải quyết vấn đề.\\n\\n**Phần Mở rộng \u001b[0m\u001b[32m(\u001b[0m\u001b[32mnếu còn thời gian\u001b[0m\u001b[32m)\u001b[0m\u001b[32m:**\\nNếu hoàn thành sớm, các nhóm có thể: 1. Suy nghĩ thêm về các tình huống tương tự trong cuộc sống có thể áp dụng kiến thức này. 2. Chuẩn bị thêm một câu hỏi thử thách cho các nhóm khác liên quan đến nội dung trình bày.'\u001b[0m\n",
       "\u001b[1m}\u001b[0m\n"
      ]
     },
     "metadata": {},
     "output_type": "display_data"
    },
    {
     "data": {
      "text/html": [
       "<pre style=\"white-space:pre;overflow-x:auto;line-height:normal;font-family:Menlo,'DejaVu Sans Mono',consolas,'Courier New',monospace\">\n",
       "<span style=\"color: #808000; text-decoration-color: #808000; font-weight: bold\">------- Hoàn thành bước: activity_designer -------</span>\n",
       "</pre>\n"
      ],
      "text/plain": [
       "\n",
       "\u001b[1;33m------- Hoàn thành bước: activity_designer -------\u001b[0m\n"
      ]
     },
     "metadata": {},
     "output_type": "display_data"
    },
    {
     "data": {
      "text/html": [
       "<pre style=\"white-space:pre;overflow-x:auto;line-height:normal;font-family:Menlo,'DejaVu Sans Mono',consolas,'Courier New',monospace\">\n",
       "<span style=\"color: #008080; text-decoration-color: #008080; font-weight: bold\">&gt;</span> `Agent: Guardian Critic` <span style=\"font-weight: bold\">(</span>v10.<span style=\"color: #008080; text-decoration-color: #008080; font-weight: bold\">0</span><span style=\"font-weight: bold\">)</span> đang bảo vệ kế hoạch<span style=\"color: #808000; text-decoration-color: #808000\">...</span>\n",
       "</pre>\n"
      ],
      "text/plain": [
       "\n",
       "\u001b[1;36m>\u001b[0m `Agent: Guardian Critic` \u001b[1m(\u001b[0mv10.\u001b[1;36m0\u001b[0m\u001b[1m)\u001b[0m đang bảo vệ kế hoạch\u001b[33m...\u001b[0m\n"
      ]
     },
     "metadata": {},
     "output_type": "display_data"
    },
    {
     "data": {
      "text/html": [
       "<pre style=\"white-space:pre;overflow-x:auto;line-height:normal;font-family:Menlo,'DejaVu Sans Mono',consolas,'Courier New',monospace\"><span style=\"color: #808000; text-decoration-color: #808000; font-weight: bold\">⚠️  GUARDIAN PHẢN BIỆN: Hoạt động này có cấu trúc tốt và phù hợp về mặt sư phạm. Tuy nhiên, thời lượng </span><span style=\"color: #808000; text-decoration-color: #808000; font-weight: bold\">30</span><span style=\"color: #808000; text-decoration-color: #808000; font-weight: bold\"> phút là </span>\n",
       "<span style=\"color: #808000; text-decoration-color: #808000; font-weight: bold\">không đủ để hoàn thành tất cả các bước được mô tả một cách hiệu quả. Cụ thể: </span><span style=\"color: #808000; text-decoration-color: #808000; font-weight: bold\">20</span><span style=\"color: #808000; text-decoration-color: #808000; font-weight: bold\"> phút cho hoạt động nhóm bao gồm </span>\n",
       "<span style=\"color: #808000; text-decoration-color: #808000; font-weight: bold\">phân tích tình huống, đề xuất giải pháp và chuẩn bị sản phẩm trình bày là quá ngắn, học sinh sẽ khó có đủ thời gian</span>\n",
       "<span style=\"color: #808000; text-decoration-color: #808000; font-weight: bold\">để tư duy sâu và hoàn thiện sản phẩm. </span><span style=\"color: #808000; text-decoration-color: #808000; font-weight: bold\">5</span><span style=\"color: #808000; text-decoration-color: #808000; font-weight: bold\"> phút cho phần trình bày của </span><span style=\"color: #808000; text-decoration-color: #808000; font-weight: bold\">1</span><span style=\"color: #808000; text-decoration-color: #808000; font-weight: bold\">-</span><span style=\"color: #808000; text-decoration-color: #808000; font-weight: bold\">2</span><span style=\"color: #808000; text-decoration-color: #808000; font-weight: bold\"> nhóm (mỗi nhóm </span><span style=\"color: #808000; text-decoration-color: #808000; font-weight: bold\">2</span><span style=\"color: #808000; text-decoration-color: #808000; font-weight: bold\">-</span><span style=\"color: #808000; text-decoration-color: #808000; font-weight: bold\">3</span><span style=\"color: #808000; text-decoration-color: #808000; font-weight: bold\"> phút) và nhận xét nhanh </span>\n",
       "<span style=\"color: #808000; text-decoration-color: #808000; font-weight: bold\">là không khả thi. Nếu </span><span style=\"color: #808000; text-decoration-color: #808000; font-weight: bold\">2</span><span style=\"color: #808000; text-decoration-color: #808000; font-weight: bold\"> nhóm trình bày hết </span><span style=\"color: #808000; text-decoration-color: #808000; font-weight: bold\">6</span><span style=\"color: #808000; text-decoration-color: #808000; font-weight: bold\"> phút, sẽ không còn thời gian cho nhận xét. </span><span style=\"color: #808000; text-decoration-color: #808000; font-weight: bold\">2</span><span style=\"color: #808000; text-decoration-color: #808000; font-weight: bold\"> phút để tổng kết, chốt </span>\n",
       "<span style=\"color: #808000; text-decoration-color: #808000; font-weight: bold\">kiến thức và nhận xét chung cho cả lớp là quá ít, khó đảm bảo chất lượng. Hãy thiết kế lại một phiên bản hoạt động </span>\n",
       "<span style=\"color: #808000; text-decoration-color: #808000; font-weight: bold\">đơn giản hơn, ít bước hơn để khớp với thời gian </span><span style=\"color: #808000; text-decoration-color: #808000; font-weight: bold\">30</span><span style=\"color: #808000; text-decoration-color: #808000; font-weight: bold\"> phút đã cho.</span>\n",
       "</pre>\n"
      ],
      "text/plain": [
       "\u001b[1;33m⚠️  GUARDIAN PHẢN BIỆN: Hoạt động này có cấu trúc tốt và phù hợp về mặt sư phạm. Tuy nhiên, thời lượng \u001b[0m\u001b[1;33m30\u001b[0m\u001b[1;33m phút là \u001b[0m\n",
       "\u001b[1;33mkhông đủ để hoàn thành tất cả các bước được mô tả một cách hiệu quả. Cụ thể: \u001b[0m\u001b[1;33m20\u001b[0m\u001b[1;33m phút cho hoạt động nhóm bao gồm \u001b[0m\n",
       "\u001b[1;33mphân tích tình huống, đề xuất giải pháp và chuẩn bị sản phẩm trình bày là quá ngắn, học sinh sẽ khó có đủ thời gian\u001b[0m\n",
       "\u001b[1;33mđể tư duy sâu và hoàn thiện sản phẩm. \u001b[0m\u001b[1;33m5\u001b[0m\u001b[1;33m phút cho phần trình bày của \u001b[0m\u001b[1;33m1\u001b[0m\u001b[1;33m-\u001b[0m\u001b[1;33m2\u001b[0m\u001b[1;33m nhóm \u001b[0m\u001b[1;33m(\u001b[0m\u001b[1;33mmỗi nhóm \u001b[0m\u001b[1;33m2\u001b[0m\u001b[1;33m-\u001b[0m\u001b[1;33m3\u001b[0m\u001b[1;33m phút\u001b[0m\u001b[1;33m)\u001b[0m\u001b[1;33m và nhận xét nhanh \u001b[0m\n",
       "\u001b[1;33mlà không khả thi. Nếu \u001b[0m\u001b[1;33m2\u001b[0m\u001b[1;33m nhóm trình bày hết \u001b[0m\u001b[1;33m6\u001b[0m\u001b[1;33m phút, sẽ không còn thời gian cho nhận xét. \u001b[0m\u001b[1;33m2\u001b[0m\u001b[1;33m phút để tổng kết, chốt \u001b[0m\n",
       "\u001b[1;33mkiến thức và nhận xét chung cho cả lớp là quá ít, khó đảm bảo chất lượng. Hãy thiết kế lại một phiên bản hoạt động \u001b[0m\n",
       "\u001b[1;33mđơn giản hơn, ít bước hơn để khớp với thời gian \u001b[0m\u001b[1;33m30\u001b[0m\u001b[1;33m phút đã cho.\u001b[0m\n"
      ]
     },
     "metadata": {},
     "output_type": "display_data"
    },
    {
     "data": {
      "text/html": [
       "<pre style=\"white-space:pre;overflow-x:auto;line-height:normal;font-family:Menlo,'DejaVu Sans Mono',consolas,'Courier New',monospace\">\n",
       "<span style=\"color: #808000; text-decoration-color: #808000; font-weight: bold\">------- Hoàn thành bước: content_validator -------</span>\n",
       "</pre>\n"
      ],
      "text/plain": [
       "\n",
       "\u001b[1;33m------- Hoàn thành bước: content_validator -------\u001b[0m\n"
      ]
     },
     "metadata": {},
     "output_type": "display_data"
    },
    {
     "data": {
      "text/html": [
       "<pre style=\"white-space:pre;overflow-x:auto;line-height:normal;font-family:Menlo,'DejaVu Sans Mono',consolas,'Courier New',monospace\">\n",
       "<span style=\"color: #008080; text-decoration-color: #008080; font-weight: bold\">&gt;</span> `Agent: Task Dispatcher` đang giao việc<span style=\"color: #808000; text-decoration-color: #808000\">...</span>\n",
       "</pre>\n"
      ],
      "text/plain": [
       "\n",
       "\u001b[1;36m>\u001b[0m `Agent: Task Dispatcher` đang giao việc\u001b[33m...\u001b[0m\n"
      ]
     },
     "metadata": {},
     "output_type": "display_data"
    },
    {
     "data": {
      "text/html": [
       "<pre style=\"white-space:pre;overflow-x:auto;line-height:normal;font-family:Menlo,'DejaVu Sans Mono',consolas,'Courier New',monospace\">\n",
       "<span style=\"color: #008080; text-decoration-color: #008080; font-weight: bold\">&gt;</span> --- 🚚 `Dispatcher`: Giao nhiệm vụ cho `activity_designer`.\n",
       "</pre>\n"
      ],
      "text/plain": [
       "\n",
       "\u001b[1;36m>\u001b[0m --- 🚚 `Dispatcher`: Giao nhiệm vụ cho `activity_designer`.\n"
      ]
     },
     "metadata": {},
     "output_type": "display_data"
    },
    {
     "data": {
      "text/html": [
       "<pre style=\"white-space:pre;overflow-x:auto;line-height:normal;font-family:Menlo,'DejaVu Sans Mono',consolas,'Courier New',monospace\">\n",
       "<span style=\"color: #808000; text-decoration-color: #808000; font-weight: bold\">------- Hoàn thành bước: task_dispatcher -------</span>\n",
       "</pre>\n"
      ],
      "text/plain": [
       "\n",
       "\u001b[1;33m------- Hoàn thành bước: task_dispatcher -------\u001b[0m\n"
      ]
     },
     "metadata": {},
     "output_type": "display_data"
    },
    {
     "data": {
      "text/html": [
       "<pre style=\"white-space:pre;overflow-x:auto;line-height:normal;font-family:Menlo,'DejaVu Sans Mono',consolas,'Courier New',monospace\">\n",
       "<span style=\"color: #008080; text-decoration-color: #008080; font-weight: bold\">&gt;</span> `Agent: Activity Designer` <span style=\"font-weight: bold\">(</span>v10.<span style=\"color: #008080; text-decoration-color: #008080; font-weight: bold\">0</span><span style=\"font-weight: bold\">)</span> đang tạo nội dung theo kỷ luật<span style=\"color: #808000; text-decoration-color: #808000\">...</span>\n",
       "</pre>\n"
      ],
      "text/plain": [
       "\n",
       "\u001b[1;36m>\u001b[0m `Agent: Activity Designer` \u001b[1m(\u001b[0mv10.\u001b[1;36m0\u001b[0m\u001b[1m)\u001b[0m đang tạo nội dung theo kỷ luật\u001b[33m...\u001b[0m\n"
      ]
     },
     "metadata": {},
     "output_type": "display_data"
    },
    {
     "data": {
      "text/html": [
       "<pre style=\"white-space:pre;overflow-x:auto;line-height:normal;font-family:Menlo,'DejaVu Sans Mono',consolas,'Courier New',monospace\"><span style=\"color: #008000; text-decoration-color: #008000; font-weight: bold\">✔️ Nội dung do Activity Designer tạo ra:</span>\n",
       "</pre>\n"
      ],
      "text/plain": [
       "\u001b[1;32m✔️ Nội dung do Activity Designer tạo ra:\u001b[0m\n"
      ]
     },
     "metadata": {},
     "output_type": "display_data"
    },
    {
     "data": {
      "text/html": [
       "<pre style=\"white-space:pre;overflow-x:auto;line-height:normal;font-family:Menlo,'DejaVu Sans Mono',consolas,'Courier New',monospace\"><span style=\"font-weight: bold\">{</span>\n",
       "<span style=\"color: #7fbf7f; text-decoration-color: #7fbf7f\">│   </span><span style=\"color: #008000; text-decoration-color: #008000\">'activity_name'</span>: <span style=\"color: #008000; text-decoration-color: #008000\">'Vận dụng và Trình bày sản phẩm'</span>,\n",
       "<span style=\"color: #7fbf7f; text-decoration-color: #7fbf7f\">│   </span><span style=\"color: #008000; text-decoration-color: #008000\">'activity_type'</span>: <span style=\"color: #008000; text-decoration-color: #008000\">'Thảo luận nhóm và Trình bày nhanh'</span>,\n",
       "<span style=\"color: #7fbf7f; text-decoration-color: #7fbf7f\">│   </span><span style=\"color: #008000; text-decoration-color: #008000\">'duration_minutes'</span>: <span style=\"color: #008080; text-decoration-color: #008080; font-weight: bold\">30</span>,\n",
       "<span style=\"color: #7fbf7f; text-decoration-color: #7fbf7f\">│   </span><span style=\"color: #008000; text-decoration-color: #008000\">'teacher_actions'</span>: <span style=\"font-weight: bold\">[</span>\n",
       "<span style=\"color: #7fbf7f; text-decoration-color: #7fbf7f\">│   │   </span><span style=\"color: #008000; text-decoration-color: #008000\">'Giới thiệu mục tiêu hoạt động và phân chia nhóm (nếu cần) trong 3 phút.'</span>,\n",
       "<span style=\"color: #7fbf7f; text-decoration-color: #7fbf7f\">│   │   </span><span style=\"color: #008000; text-decoration-color: #008000\">'Phát phiếu bài tập/tình huống đơn giản, rõ ràng cho học sinh.'</span>,\n",
       "<span style=\"color: #7fbf7f; text-decoration-color: #7fbf7f\">│   │   </span><span style=\"color: #008000; text-decoration-color: #008000\">'Quan sát, hỗ trợ, gợi ý cho các nhóm/cá nhân trong quá trình làm việc (18 phút).'</span>,\n",
       "<span style=\"color: #7fbf7f; text-decoration-color: #7fbf7f\">│   │   </span><span style=\"color: #008000; text-decoration-color: #008000\">'Quản lý thời gian chặt chẽ, nhắc nhở học sinh về thời gian còn lại.'</span>,\n",
       "<span style=\"color: #7fbf7f; text-decoration-color: #7fbf7f\">│   │   </span><span style=\"color: #008000; text-decoration-color: #008000\">'Mời đại diện 2-3 nhóm trình bày nhanh (tối đa 2 phút/nhóm) về giải pháp của mình (tổng 7 phút cho trình bày và nhận xét nhanh).'</span>,\n",
       "<span style=\"color: #7fbf7f; text-decoration-color: #7fbf7f\">│   │   </span><span style=\"color: #008000; text-decoration-color: #008000\">'Nhận xét, bổ sung, tổng hợp các ý chính và chốt kiến thức trọng tâm trong 2 phút cuối.'</span>,\n",
       "<span style=\"color: #7fbf7f; text-decoration-color: #7fbf7f\">│   │   </span><span style=\"color: #008000; text-decoration-color: #008000\">'Khen ngợi, động viên học sinh.'</span>\n",
       "<span style=\"color: #7fbf7f; text-decoration-color: #7fbf7f\">│   </span><span style=\"font-weight: bold\">]</span>,\n",
       "<span style=\"color: #7fbf7f; text-decoration-color: #7fbf7f\">│   </span><span style=\"color: #008000; text-decoration-color: #008000\">'core_component'</span>: <span style=\"color: #008000; text-decoration-color: #008000\">'Học sinh làm việc nhóm (hoặc cá nhân) để đọc, phân tích một tình huống/vấn đề cụ thể (đã được đơn giản hóa) và vận dụng kiến thức đã học để đề xuất một giải pháp ngắn gọn, khả thi. Các nhóm chuẩn bị trình bày 1-2 ý chính hoặc giải pháp của mình trong thời gian giới hạn.'</span>,\n",
       "<span style=\"color: #7fbf7f; text-decoration-color: #7fbf7f\">│   </span><span style=\"color: #008000; text-decoration-color: #008000\">'extension_component'</span>: <span style=\"color: #008000; text-decoration-color: #008000\">'Nếu hoàn thành sớm phần cốt lõi, học sinh có thể suy nghĩ thêm các yếu tố ảnh hưởng đến giải pháp đã đề xuất, hoặc cải tiến giải pháp hiện tại để tối ưu hơn.'</span>,\n",
       "<span style=\"color: #7fbf7f; text-decoration-color: #7fbf7f\">│   </span><span style=\"color: #008000; text-decoration-color: #008000\">'solution_guide'</span>: <span style=\"color: #008000; text-decoration-color: #008000\">\"Các tiêu chí đánh giá giải pháp có thể bao gồm: tính khả thi, tính hợp lý, tính sáng tạo (nếu có). Giáo viên có thể gợi mở bằng các câu hỏi như: 'Giải pháp này có ưu điểm gì?', 'Có khó khăn gì khi thực hiện không?', 'Ai sẽ là người chịu trách nhiệm chính?'\"</span>,\n",
       "<span style=\"color: #7fbf7f; text-decoration-color: #7fbf7f\">│   </span><span style=\"color: #008000; text-decoration-color: #008000\">'differentiation'</span>: <span style=\"font-weight: bold\">{</span>\n",
       "<span style=\"color: #7fbf7f; text-decoration-color: #7fbf7f\">│   │   </span><span style=\"color: #008000; text-decoration-color: #008000\">'for_struggling_students'</span>: <span style=\"color: #008000; text-decoration-color: #008000\">'Cung cấp các câu hỏi gợi ý cụ thể hơn, ví dụ minh họa hoặc cho phép các em làm việc cặp đôi với học sinh khá hơn để nhận được sự hỗ trợ trực tiếp.'</span>,\n",
       "<span style=\"color: #7fbf7f; text-decoration-color: #7fbf7f\">│   │   </span><span style=\"color: #008000; text-decoration-color: #008000\">'for_advanced_students'</span>: <span style=\"color: #008000; text-decoration-color: #008000\">'Yêu cầu các em phân tích sâu hơn về nguyên nhân/hậu quả của tình huống, hoặc đề xuất giải pháp có tính sáng tạo, đột phá hơn, hoặc chuẩn bị một câu hỏi phản biện cho nhóm khác.'</span>\n",
       "<span style=\"color: #7fbf7f; text-decoration-color: #7fbf7f\">│   </span><span style=\"font-weight: bold\">}</span>,\n",
       "<span style=\"color: #7fbf7f; text-decoration-color: #7fbf7f\">│   </span><span style=\"color: #008000; text-decoration-color: #008000\">'question_or_description'</span>: <span style=\"color: #008000; text-decoration-color: #008000\">'**Phần Cốt lõi:**\\nHọc sinh làm việc nhóm (hoặc cá nhân) để đọc, phân tích một tình huống/vấn đề cụ thể (đã được đơn giản hóa) và vận dụng kiến thức đã học để đề xuất một giải pháp ngắn gọn, khả thi. Các nhóm chuẩn bị trình bày 1-2 ý chính hoặc giải pháp của mình trong thời gian giới hạn.\\n\\n**Phần Mở rộng (nếu còn thời gian):**\\nNếu hoàn thành sớm phần cốt lõi, học sinh có thể suy nghĩ thêm các yếu tố ảnh hưởng đến giải pháp đã đề xuất, hoặc cải tiến giải pháp hiện tại để tối ưu hơn.'</span>\n",
       "<span style=\"font-weight: bold\">}</span>\n",
       "</pre>\n"
      ],
      "text/plain": [
       "\u001b[1m{\u001b[0m\n",
       "\u001b[2;32m│   \u001b[0m\u001b[32m'activity_name'\u001b[0m: \u001b[32m'Vận dụng và Trình bày sản phẩm'\u001b[0m,\n",
       "\u001b[2;32m│   \u001b[0m\u001b[32m'activity_type'\u001b[0m: \u001b[32m'Thảo luận nhóm và Trình bày nhanh'\u001b[0m,\n",
       "\u001b[2;32m│   \u001b[0m\u001b[32m'duration_minutes'\u001b[0m: \u001b[1;36m30\u001b[0m,\n",
       "\u001b[2;32m│   \u001b[0m\u001b[32m'teacher_actions'\u001b[0m: \u001b[1m[\u001b[0m\n",
       "\u001b[2;32m│   │   \u001b[0m\u001b[32m'Giới thiệu mục tiêu hoạt động và phân chia nhóm \u001b[0m\u001b[32m(\u001b[0m\u001b[32mnếu cần\u001b[0m\u001b[32m)\u001b[0m\u001b[32m trong 3 phút.'\u001b[0m,\n",
       "\u001b[2;32m│   │   \u001b[0m\u001b[32m'Phát phiếu bài tập/tình huống đơn giản, rõ ràng cho học sinh.'\u001b[0m,\n",
       "\u001b[2;32m│   │   \u001b[0m\u001b[32m'Quan sát, hỗ trợ, gợi ý cho các nhóm/cá nhân trong quá trình làm việc \u001b[0m\u001b[32m(\u001b[0m\u001b[32m18 phút\u001b[0m\u001b[32m)\u001b[0m\u001b[32m.'\u001b[0m,\n",
       "\u001b[2;32m│   │   \u001b[0m\u001b[32m'Quản lý thời gian chặt chẽ, nhắc nhở học sinh về thời gian còn lại.'\u001b[0m,\n",
       "\u001b[2;32m│   │   \u001b[0m\u001b[32m'Mời đại diện 2-3 nhóm trình bày nhanh \u001b[0m\u001b[32m(\u001b[0m\u001b[32mtối đa 2 phút/nhóm\u001b[0m\u001b[32m)\u001b[0m\u001b[32m về giải pháp của mình \u001b[0m\u001b[32m(\u001b[0m\u001b[32mtổng 7 phút cho trình bày và nhận xét nhanh\u001b[0m\u001b[32m)\u001b[0m\u001b[32m.'\u001b[0m,\n",
       "\u001b[2;32m│   │   \u001b[0m\u001b[32m'Nhận xét, bổ sung, tổng hợp các ý chính và chốt kiến thức trọng tâm trong 2 phút cuối.'\u001b[0m,\n",
       "\u001b[2;32m│   │   \u001b[0m\u001b[32m'Khen ngợi, động viên học sinh.'\u001b[0m\n",
       "\u001b[2;32m│   \u001b[0m\u001b[1m]\u001b[0m,\n",
       "\u001b[2;32m│   \u001b[0m\u001b[32m'core_component'\u001b[0m: \u001b[32m'Học sinh làm việc nhóm \u001b[0m\u001b[32m(\u001b[0m\u001b[32mhoặc cá nhân\u001b[0m\u001b[32m)\u001b[0m\u001b[32m để đọc, phân tích một tình huống/vấn đề cụ thể \u001b[0m\u001b[32m(\u001b[0m\u001b[32mđã được đơn giản hóa\u001b[0m\u001b[32m)\u001b[0m\u001b[32m và vận dụng kiến thức đã học để đề xuất một giải pháp ngắn gọn, khả thi. Các nhóm chuẩn bị trình bày 1-2 ý chính hoặc giải pháp của mình trong thời gian giới hạn.'\u001b[0m,\n",
       "\u001b[2;32m│   \u001b[0m\u001b[32m'extension_component'\u001b[0m: \u001b[32m'Nếu hoàn thành sớm phần cốt lõi, học sinh có thể suy nghĩ thêm các yếu tố ảnh hưởng đến giải pháp đã đề xuất, hoặc cải tiến giải pháp hiện tại để tối ưu hơn.'\u001b[0m,\n",
       "\u001b[2;32m│   \u001b[0m\u001b[32m'solution_guide'\u001b[0m: \u001b[32m\"Các tiêu chí đánh giá giải pháp có thể bao gồm: tính khả thi, tính hợp lý, tính sáng tạo \u001b[0m\u001b[32m(\u001b[0m\u001b[32mnếu có\u001b[0m\u001b[32m)\u001b[0m\u001b[32m. Giáo viên có thể gợi mở bằng các câu hỏi như: 'Giải pháp này có ưu điểm gì?', 'Có khó khăn gì khi thực hiện không?', 'Ai sẽ là người chịu trách nhiệm chính?'\"\u001b[0m,\n",
       "\u001b[2;32m│   \u001b[0m\u001b[32m'differentiation'\u001b[0m: \u001b[1m{\u001b[0m\n",
       "\u001b[2;32m│   │   \u001b[0m\u001b[32m'for_struggling_students'\u001b[0m: \u001b[32m'Cung cấp các câu hỏi gợi ý cụ thể hơn, ví dụ minh họa hoặc cho phép các em làm việc cặp đôi với học sinh khá hơn để nhận được sự hỗ trợ trực tiếp.'\u001b[0m,\n",
       "\u001b[2;32m│   │   \u001b[0m\u001b[32m'for_advanced_students'\u001b[0m: \u001b[32m'Yêu cầu các em phân tích sâu hơn về nguyên nhân/hậu quả của tình huống, hoặc đề xuất giải pháp có tính sáng tạo, đột phá hơn, hoặc chuẩn bị một câu hỏi phản biện cho nhóm khác.'\u001b[0m\n",
       "\u001b[2;32m│   \u001b[0m\u001b[1m}\u001b[0m,\n",
       "\u001b[2;32m│   \u001b[0m\u001b[32m'question_or_description'\u001b[0m: \u001b[32m'**Phần Cốt lõi:**\\nHọc sinh làm việc nhóm \u001b[0m\u001b[32m(\u001b[0m\u001b[32mhoặc cá nhân\u001b[0m\u001b[32m)\u001b[0m\u001b[32m để đọc, phân tích một tình huống/vấn đề cụ thể \u001b[0m\u001b[32m(\u001b[0m\u001b[32mđã được đơn giản hóa\u001b[0m\u001b[32m)\u001b[0m\u001b[32m và vận dụng kiến thức đã học để đề xuất một giải pháp ngắn gọn, khả thi. Các nhóm chuẩn bị trình bày 1-2 ý chính hoặc giải pháp của mình trong thời gian giới hạn.\\n\\n**Phần Mở rộng \u001b[0m\u001b[32m(\u001b[0m\u001b[32mnếu còn thời gian\u001b[0m\u001b[32m)\u001b[0m\u001b[32m:**\\nNếu hoàn thành sớm phần cốt lõi, học sinh có thể suy nghĩ thêm các yếu tố ảnh hưởng đến giải pháp đã đề xuất, hoặc cải tiến giải pháp hiện tại để tối ưu hơn.'\u001b[0m\n",
       "\u001b[1m}\u001b[0m\n"
      ]
     },
     "metadata": {},
     "output_type": "display_data"
    },
    {
     "data": {
      "text/html": [
       "<pre style=\"white-space:pre;overflow-x:auto;line-height:normal;font-family:Menlo,'DejaVu Sans Mono',consolas,'Courier New',monospace\">\n",
       "<span style=\"color: #808000; text-decoration-color: #808000; font-weight: bold\">------- Hoàn thành bước: activity_designer -------</span>\n",
       "</pre>\n"
      ],
      "text/plain": [
       "\n",
       "\u001b[1;33m------- Hoàn thành bước: activity_designer -------\u001b[0m\n"
      ]
     },
     "metadata": {},
     "output_type": "display_data"
    },
    {
     "data": {
      "text/html": [
       "<pre style=\"white-space:pre;overflow-x:auto;line-height:normal;font-family:Menlo,'DejaVu Sans Mono',consolas,'Courier New',monospace\">\n",
       "<span style=\"color: #008080; text-decoration-color: #008080; font-weight: bold\">&gt;</span> `Agent: Guardian Critic` <span style=\"font-weight: bold\">(</span>v10.<span style=\"color: #008080; text-decoration-color: #008080; font-weight: bold\">0</span><span style=\"font-weight: bold\">)</span> đang bảo vệ kế hoạch<span style=\"color: #808000; text-decoration-color: #808000\">...</span>\n",
       "</pre>\n"
      ],
      "text/plain": [
       "\n",
       "\u001b[1;36m>\u001b[0m `Agent: Guardian Critic` \u001b[1m(\u001b[0mv10.\u001b[1;36m0\u001b[0m\u001b[1m)\u001b[0m đang bảo vệ kế hoạch\u001b[33m...\u001b[0m\n"
      ]
     },
     "metadata": {},
     "output_type": "display_data"
    },
    {
     "data": {
      "text/html": [
       "<pre style=\"white-space:pre;overflow-x:auto;line-height:normal;font-family:Menlo,'DejaVu Sans Mono',consolas,'Courier New',monospace\"><span style=\"color: #808000; text-decoration-color: #808000; font-weight: bold\">⚠️  GUARDIAN PHẢN BIỆN: Kế hoạch hoạt động này có vẻ quá tham vọng so với thời lượng </span><span style=\"color: #808000; text-decoration-color: #808000; font-weight: bold\">30</span><span style=\"color: #808000; text-decoration-color: #808000; font-weight: bold\"> phút cho phép. Mặc dù tổng </span>\n",
       "<span style=\"color: #808000; text-decoration-color: #808000; font-weight: bold\">thời gian các bước cộng lại là </span><span style=\"color: #808000; text-decoration-color: #808000; font-weight: bold\">30</span><span style=\"color: #808000; text-decoration-color: #808000; font-weight: bold\"> phút, nhưng việc dành </span><span style=\"color: #808000; text-decoration-color: #808000; font-weight: bold\">7</span><span style=\"color: #808000; text-decoration-color: #808000; font-weight: bold\"> phút cho phần trình bày của </span><span style=\"color: #808000; text-decoration-color: #808000; font-weight: bold\">2</span><span style=\"color: #808000; text-decoration-color: #808000; font-weight: bold\">-</span><span style=\"color: #808000; text-decoration-color: #808000; font-weight: bold\">3</span><span style=\"color: #808000; text-decoration-color: #808000; font-weight: bold\"> nhóm và nhận xét nhanh là</span>\n",
       "<span style=\"color: #808000; text-decoration-color: #808000; font-weight: bold\">rất eo hẹp, khó đảm bảo chất lượng phản hồi và tương tác. Tương tự, </span><span style=\"color: #808000; text-decoration-color: #808000; font-weight: bold\">2</span><span style=\"color: #808000; text-decoration-color: #808000; font-weight: bold\"> phút cuối cùng để giáo viên nhận xét, tổng </span>\n",
       "<span style=\"color: #808000; text-decoration-color: #808000; font-weight: bold\">hợp và chốt kiến thức trọng tâm cũng là quá ngắn. Điều này có thể khiến hoạt động trở nên vội vã và giảm hiệu quả </span>\n",
       "<span style=\"color: #808000; text-decoration-color: #808000; font-weight: bold\">học tập của học sinh. Hãy thiết kế lại một phiên bản hoạt động đơn giản hơn, ít bước hơn để khớp với thời gian </span><span style=\"color: #808000; text-decoration-color: #808000; font-weight: bold\">30</span><span style=\"color: #808000; text-decoration-color: #808000; font-weight: bold\"> </span>\n",
       "<span style=\"color: #808000; text-decoration-color: #808000; font-weight: bold\">phút đã cho.</span>\n",
       "</pre>\n"
      ],
      "text/plain": [
       "\u001b[1;33m⚠️  GUARDIAN PHẢN BIỆN: Kế hoạch hoạt động này có vẻ quá tham vọng so với thời lượng \u001b[0m\u001b[1;33m30\u001b[0m\u001b[1;33m phút cho phép. Mặc dù tổng \u001b[0m\n",
       "\u001b[1;33mthời gian các bước cộng lại là \u001b[0m\u001b[1;33m30\u001b[0m\u001b[1;33m phút, nhưng việc dành \u001b[0m\u001b[1;33m7\u001b[0m\u001b[1;33m phút cho phần trình bày của \u001b[0m\u001b[1;33m2\u001b[0m\u001b[1;33m-\u001b[0m\u001b[1;33m3\u001b[0m\u001b[1;33m nhóm và nhận xét nhanh là\u001b[0m\n",
       "\u001b[1;33mrất eo hẹp, khó đảm bảo chất lượng phản hồi và tương tác. Tương tự, \u001b[0m\u001b[1;33m2\u001b[0m\u001b[1;33m phút cuối cùng để giáo viên nhận xét, tổng \u001b[0m\n",
       "\u001b[1;33mhợp và chốt kiến thức trọng tâm cũng là quá ngắn. Điều này có thể khiến hoạt động trở nên vội vã và giảm hiệu quả \u001b[0m\n",
       "\u001b[1;33mhọc tập của học sinh. Hãy thiết kế lại một phiên bản hoạt động đơn giản hơn, ít bước hơn để khớp với thời gian \u001b[0m\u001b[1;33m30\u001b[0m\u001b[1;33m \u001b[0m\n",
       "\u001b[1;33mphút đã cho.\u001b[0m\n"
      ]
     },
     "metadata": {},
     "output_type": "display_data"
    },
    {
     "data": {
      "text/html": [
       "<pre style=\"white-space:pre;overflow-x:auto;line-height:normal;font-family:Menlo,'DejaVu Sans Mono',consolas,'Courier New',monospace\">\n",
       "<span style=\"color: #808000; text-decoration-color: #808000; font-weight: bold\">------- Hoàn thành bước: content_validator -------</span>\n",
       "</pre>\n"
      ],
      "text/plain": [
       "\n",
       "\u001b[1;33m------- Hoàn thành bước: content_validator -------\u001b[0m\n"
      ]
     },
     "metadata": {},
     "output_type": "display_data"
    },
    {
     "data": {
      "text/html": [
       "<pre style=\"white-space:pre;overflow-x:auto;line-height:normal;font-family:Menlo,'DejaVu Sans Mono',consolas,'Courier New',monospace\">\n",
       "<span style=\"color: #008080; text-decoration-color: #008080; font-weight: bold\">&gt;</span> `Agent: Task Dispatcher` đang giao việc<span style=\"color: #808000; text-decoration-color: #808000\">...</span>\n",
       "</pre>\n"
      ],
      "text/plain": [
       "\n",
       "\u001b[1;36m>\u001b[0m `Agent: Task Dispatcher` đang giao việc\u001b[33m...\u001b[0m\n"
      ]
     },
     "metadata": {},
     "output_type": "display_data"
    },
    {
     "data": {
      "text/html": [
       "<pre style=\"white-space:pre;overflow-x:auto;line-height:normal;font-family:Menlo,'DejaVu Sans Mono',consolas,'Courier New',monospace\">\n",
       "<span style=\"color: #008080; text-decoration-color: #008080; font-weight: bold\">&gt;</span> --- 🚚 `Dispatcher`: Giao nhiệm vụ cho `activity_designer`.\n",
       "</pre>\n"
      ],
      "text/plain": [
       "\n",
       "\u001b[1;36m>\u001b[0m --- 🚚 `Dispatcher`: Giao nhiệm vụ cho `activity_designer`.\n"
      ]
     },
     "metadata": {},
     "output_type": "display_data"
    },
    {
     "data": {
      "text/html": [
       "<pre style=\"white-space:pre;overflow-x:auto;line-height:normal;font-family:Menlo,'DejaVu Sans Mono',consolas,'Courier New',monospace\">\n",
       "<span style=\"color: #808000; text-decoration-color: #808000; font-weight: bold\">------- Hoàn thành bước: task_dispatcher -------</span>\n",
       "</pre>\n"
      ],
      "text/plain": [
       "\n",
       "\u001b[1;33m------- Hoàn thành bước: task_dispatcher -------\u001b[0m\n"
      ]
     },
     "metadata": {},
     "output_type": "display_data"
    },
    {
     "data": {
      "text/html": [
       "<pre style=\"white-space:pre;overflow-x:auto;line-height:normal;font-family:Menlo,'DejaVu Sans Mono',consolas,'Courier New',monospace\">\n",
       "<span style=\"color: #008080; text-decoration-color: #008080; font-weight: bold\">&gt;</span> `Agent: Activity Designer` <span style=\"font-weight: bold\">(</span>v10.<span style=\"color: #008080; text-decoration-color: #008080; font-weight: bold\">0</span><span style=\"font-weight: bold\">)</span> đang tạo nội dung theo kỷ luật<span style=\"color: #808000; text-decoration-color: #808000\">...</span>\n",
       "</pre>\n"
      ],
      "text/plain": [
       "\n",
       "\u001b[1;36m>\u001b[0m `Agent: Activity Designer` \u001b[1m(\u001b[0mv10.\u001b[1;36m0\u001b[0m\u001b[1m)\u001b[0m đang tạo nội dung theo kỷ luật\u001b[33m...\u001b[0m\n"
      ]
     },
     "metadata": {},
     "output_type": "display_data"
    },
    {
     "data": {
      "text/html": [
       "<pre style=\"white-space:pre;overflow-x:auto;line-height:normal;font-family:Menlo,'DejaVu Sans Mono',consolas,'Courier New',monospace\"><span style=\"color: #008000; text-decoration-color: #008000; font-weight: bold\">✔️ Nội dung do Activity Designer tạo ra:</span>\n",
       "</pre>\n"
      ],
      "text/plain": [
       "\u001b[1;32m✔️ Nội dung do Activity Designer tạo ra:\u001b[0m\n"
      ]
     },
     "metadata": {},
     "output_type": "display_data"
    },
    {
     "data": {
      "text/html": [
       "<pre style=\"white-space:pre;overflow-x:auto;line-height:normal;font-family:Menlo,'DejaVu Sans Mono',consolas,'Courier New',monospace\"><span style=\"font-weight: bold\">{</span>\n",
       "<span style=\"color: #7fbf7f; text-decoration-color: #7fbf7f\">│   </span><span style=\"color: #008000; text-decoration-color: #008000\">'activity_name'</span>: <span style=\"color: #008000; text-decoration-color: #008000\">'Vận dụng và Trình bày sản phẩm'</span>,\n",
       "<span style=\"color: #7fbf7f; text-decoration-color: #7fbf7f\">│   </span><span style=\"color: #008000; text-decoration-color: #008000\">'activity_type'</span>: <span style=\"color: #008000; text-decoration-color: #008000\">'Hoạt động nhóm/Thực hành ứng dụng'</span>,\n",
       "<span style=\"color: #7fbf7f; text-decoration-color: #7fbf7f\">│   </span><span style=\"color: #008000; text-decoration-color: #008000\">'duration_minutes'</span>: <span style=\"color: #008080; text-decoration-color: #008080; font-weight: bold\">30</span>,\n",
       "<span style=\"color: #7fbf7f; text-decoration-color: #7fbf7f\">│   </span><span style=\"color: #008000; text-decoration-color: #008000\">'teacher_actions'</span>: <span style=\"font-weight: bold\">[</span>\n",
       "<span style=\"color: #7fbf7f; text-decoration-color: #7fbf7f\">│   │   </span><span style=\"color: #008000; text-decoration-color: #008000\">\"Phổ biến rõ ràng nhiệm vụ 'Thiết kế sản phẩm ứng dụng' và các tiêu chí đánh giá cơ bản (ví dụ: đúng kiến thức, sáng tạo, trình bày rõ ràng).\"</span>,\n",
       "<span style=\"color: #7fbf7f; text-decoration-color: #7fbf7f\">│   │   </span><span style=\"color: #008000; text-decoration-color: #008000\">'Chia lớp thành các nhóm nhỏ (3-4 học sinh/nhóm) hoặc hướng dẫn học sinh làm việc cá nhân tùy theo yêu cầu sản phẩm.'</span>,\n",
       "<span style=\"color: #7fbf7f; text-decoration-color: #7fbf7f\">│   │   </span><span style=\"color: #008000; text-decoration-color: #008000\">'Phát phiếu hướng dẫn/tài liệu cần thiết (nếu có).'</span>,\n",
       "<span style=\"color: #7fbf7f; text-decoration-color: #7fbf7f\">│   │   </span><span style=\"color: #008000; text-decoration-color: #008000\">'Di chuyển quanh lớp, quan sát quá trình làm việc của học sinh, kịp thời hỗ trợ, gợi ý khi học sinh gặp khó khăn.'</span>,\n",
       "<span style=\"color: #7fbf7f; text-decoration-color: #7fbf7f\">│   │   </span><span style=\"color: #008000; text-decoration-color: #008000\">\"Nhắc nhở thời gian còn lại (ví dụ: 'Còn 10 phút', 'Còn 5 phút').\"</span>,\n",
       "<span style=\"color: #7fbf7f; text-decoration-color: #7fbf7f\">│   │   </span><span style=\"color: #008000; text-decoration-color: #008000\">'Chọn ngẫu nhiên 1-2 nhóm/cá nhân tiêu biểu để trình bày nhanh sản phẩm của mình (tối đa 2-3 phút/nhóm).'</span>,\n",
       "<span style=\"color: #7fbf7f; text-decoration-color: #7fbf7f\">│   │   </span><span style=\"color: #008000; text-decoration-color: #008000\">'Đưa ra nhận xét tổng quát về các sản phẩm đã trình bày, khen ngợi những điểm sáng tạo, và góp ý chung cho cả lớp.'</span>,\n",
       "<span style=\"color: #7fbf7f; text-decoration-color: #7fbf7f\">│   │   </span><span style=\"color: #008000; text-decoration-color: #008000\">'Tổng kết kiến thức trọng tâm đã được vận dụng trong hoạt động và liên hệ thực tiễn.'</span>\n",
       "<span style=\"color: #7fbf7f; text-decoration-color: #7fbf7f\">│   </span><span style=\"font-weight: bold\">]</span>,\n",
       "<span style=\"color: #7fbf7f; text-decoration-color: #7fbf7f\">│   </span><span style=\"color: #008000; text-decoration-color: #008000\">'core_component'</span>: <span style=\"color: #008000; text-decoration-color: #008000\">'Học sinh làm việc theo nhóm (hoặc cá nhân) để vận dụng kiến thức đã học vào việc thiết kế một sản phẩm cụ thể (ví dụ: poster, slogan, đoạn văn ngắn, sơ đồ tư duy, giải pháp cho một vấn đề thực tế). Sản phẩm cần thể hiện rõ sự hiểu biết và khả năng ứng dụng kiến thức. Thời gian thực hiện: 18 phút.'</span>,\n",
       "<span style=\"color: #7fbf7f; text-decoration-color: #7fbf7f\">│   </span><span style=\"color: #008000; text-decoration-color: #008000\">'extension_component'</span>: <span style=\"color: #008000; text-decoration-color: #008000\">'Đối với các nhóm/cá nhân hoàn thành sớm, hãy phát triển sản phẩm của mình bằng cách thêm các chi tiết sáng tạo, mở rộng phạm vi ứng dụng, hoặc chuẩn bị một phần trình bày ngắn gọn (dưới 1 phút) về ý tưởng của mình để chia sẻ với lớp.'</span>,\n",
       "<span style=\"color: #7fbf7f; text-decoration-color: #7fbf7f\">│   </span><span style=\"color: #008000; text-decoration-color: #008000\">'solution_guide'</span>: <span style=\"color: #008000; text-decoration-color: #008000\">\"Các câu hỏi gợi mở trong quá trình học sinh thực hiện và khi trình bày: 'Các em đã vận dụng kiến thức nào để tạo ra sản phẩm này?', 'Sản phẩm của các em có ý nghĩa gì trong thực tế?', 'Có cách nào để sản phẩm của các em trở nên hấp dẫn và thuyết phục hơn không?', 'Điểm nổi bật nhất trong sản phẩm của nhóm/cá nhân em là gì?'\"</span>,\n",
       "<span style=\"color: #7fbf7f; text-decoration-color: #7fbf7f\">│   </span><span style=\"color: #008000; text-decoration-color: #008000\">'differentiation'</span>: <span style=\"font-weight: bold\">{</span>\n",
       "<span style=\"color: #7fbf7f; text-decoration-color: #7fbf7f\">│   │   </span><span style=\"color: #008000; text-decoration-color: #008000\">'for_struggling_students'</span>: <span style=\"color: #008000; text-decoration-color: #008000\">'Cung cấp các mẫu sản phẩm gợi ý, danh sách các từ khóa/cụm từ quan trọng, hoặc giảm bớt yêu cầu về số lượng/độ phức tạp của sản phẩm để học sinh dễ dàng bắt đầu.'</span>,\n",
       "<span style=\"color: #7fbf7f; text-decoration-color: #7fbf7f\">│   │   </span><span style=\"color: #008000; text-decoration-color: #008000\">'for_advanced_students'</span>: <span style=\"color: #008000; text-decoration-color: #008000\">'Khuyến khích học sinh mở rộng ý tưởng, tìm kiếm thêm thông tin bên ngoài để làm phong phú sản phẩm, hoặc thiết kế sản phẩm với yêu cầu cao hơn về tính ứng dụng/sáng tạo (ví dụ: tạo một video ngắn, một bài thuyết trình có hình ảnh).'</span>\n",
       "<span style=\"color: #7fbf7f; text-decoration-color: #7fbf7f\">│   </span><span style=\"font-weight: bold\">}</span>,\n",
       "<span style=\"color: #7fbf7f; text-decoration-color: #7fbf7f\">│   </span><span style=\"color: #008000; text-decoration-color: #008000\">'question_or_description'</span>: <span style=\"color: #008000; text-decoration-color: #008000\">'**Phần Cốt lõi:**\\nHọc sinh làm việc theo nhóm (hoặc cá nhân) để vận dụng kiến thức đã học vào việc thiết kế một sản phẩm cụ thể (ví dụ: poster, slogan, đoạn văn ngắn, sơ đồ tư duy, giải pháp cho một vấn đề thực tế). Sản phẩm cần thể hiện rõ sự hiểu biết và khả năng ứng dụng kiến thức. Thời gian thực hiện: 18 phút.\\n\\n**Phần Mở rộng (nếu còn thời gian):**\\nĐối với các nhóm/cá nhân hoàn thành sớm, hãy phát triển sản phẩm của mình bằng cách thêm các chi tiết sáng tạo, mở rộng phạm vi ứng dụng, hoặc chuẩn bị một phần trình bày ngắn gọn (dưới 1 phút) về ý tưởng của mình để chia sẻ với lớp.'</span>\n",
       "<span style=\"font-weight: bold\">}</span>\n",
       "</pre>\n"
      ],
      "text/plain": [
       "\u001b[1m{\u001b[0m\n",
       "\u001b[2;32m│   \u001b[0m\u001b[32m'activity_name'\u001b[0m: \u001b[32m'Vận dụng và Trình bày sản phẩm'\u001b[0m,\n",
       "\u001b[2;32m│   \u001b[0m\u001b[32m'activity_type'\u001b[0m: \u001b[32m'Hoạt động nhóm/Thực hành ứng dụng'\u001b[0m,\n",
       "\u001b[2;32m│   \u001b[0m\u001b[32m'duration_minutes'\u001b[0m: \u001b[1;36m30\u001b[0m,\n",
       "\u001b[2;32m│   \u001b[0m\u001b[32m'teacher_actions'\u001b[0m: \u001b[1m[\u001b[0m\n",
       "\u001b[2;32m│   │   \u001b[0m\u001b[32m\"Phổ biến rõ ràng nhiệm vụ 'Thiết kế sản phẩm ứng dụng' và các tiêu chí đánh giá cơ bản \u001b[0m\u001b[32m(\u001b[0m\u001b[32mví dụ: đúng kiến thức, sáng tạo, trình bày rõ ràng\u001b[0m\u001b[32m)\u001b[0m\u001b[32m.\"\u001b[0m,\n",
       "\u001b[2;32m│   │   \u001b[0m\u001b[32m'Chia lớp thành các nhóm nhỏ \u001b[0m\u001b[32m(\u001b[0m\u001b[32m3-4 học sinh/nhóm\u001b[0m\u001b[32m)\u001b[0m\u001b[32m hoặc hướng dẫn học sinh làm việc cá nhân tùy theo yêu cầu sản phẩm.'\u001b[0m,\n",
       "\u001b[2;32m│   │   \u001b[0m\u001b[32m'Phát phiếu hướng dẫn/tài liệu cần thiết \u001b[0m\u001b[32m(\u001b[0m\u001b[32mnếu có\u001b[0m\u001b[32m)\u001b[0m\u001b[32m.'\u001b[0m,\n",
       "\u001b[2;32m│   │   \u001b[0m\u001b[32m'Di chuyển quanh lớp, quan sát quá trình làm việc của học sinh, kịp thời hỗ trợ, gợi ý khi học sinh gặp khó khăn.'\u001b[0m,\n",
       "\u001b[2;32m│   │   \u001b[0m\u001b[32m\"Nhắc nhở thời gian còn lại \u001b[0m\u001b[32m(\u001b[0m\u001b[32mví dụ: 'Còn 10 phút', 'Còn 5 phút'\u001b[0m\u001b[32m)\u001b[0m\u001b[32m.\"\u001b[0m,\n",
       "\u001b[2;32m│   │   \u001b[0m\u001b[32m'Chọn ngẫu nhiên 1-2 nhóm/cá nhân tiêu biểu để trình bày nhanh sản phẩm của mình \u001b[0m\u001b[32m(\u001b[0m\u001b[32mtối đa 2-3 phút/nhóm\u001b[0m\u001b[32m)\u001b[0m\u001b[32m.'\u001b[0m,\n",
       "\u001b[2;32m│   │   \u001b[0m\u001b[32m'Đưa ra nhận xét tổng quát về các sản phẩm đã trình bày, khen ngợi những điểm sáng tạo, và góp ý chung cho cả lớp.'\u001b[0m,\n",
       "\u001b[2;32m│   │   \u001b[0m\u001b[32m'Tổng kết kiến thức trọng tâm đã được vận dụng trong hoạt động và liên hệ thực tiễn.'\u001b[0m\n",
       "\u001b[2;32m│   \u001b[0m\u001b[1m]\u001b[0m,\n",
       "\u001b[2;32m│   \u001b[0m\u001b[32m'core_component'\u001b[0m: \u001b[32m'Học sinh làm việc theo nhóm \u001b[0m\u001b[32m(\u001b[0m\u001b[32mhoặc cá nhân\u001b[0m\u001b[32m)\u001b[0m\u001b[32m để vận dụng kiến thức đã học vào việc thiết kế một sản phẩm cụ thể \u001b[0m\u001b[32m(\u001b[0m\u001b[32mví dụ: poster, slogan, đoạn văn ngắn, sơ đồ tư duy, giải pháp cho một vấn đề thực tế\u001b[0m\u001b[32m)\u001b[0m\u001b[32m. Sản phẩm cần thể hiện rõ sự hiểu biết và khả năng ứng dụng kiến thức. Thời gian thực hiện: 18 phút.'\u001b[0m,\n",
       "\u001b[2;32m│   \u001b[0m\u001b[32m'extension_component'\u001b[0m: \u001b[32m'Đối với các nhóm/cá nhân hoàn thành sớm, hãy phát triển sản phẩm của mình bằng cách thêm các chi tiết sáng tạo, mở rộng phạm vi ứng dụng, hoặc chuẩn bị một phần trình bày ngắn gọn \u001b[0m\u001b[32m(\u001b[0m\u001b[32mdưới 1 phút\u001b[0m\u001b[32m)\u001b[0m\u001b[32m về ý tưởng của mình để chia sẻ với lớp.'\u001b[0m,\n",
       "\u001b[2;32m│   \u001b[0m\u001b[32m'solution_guide'\u001b[0m: \u001b[32m\"Các câu hỏi gợi mở trong quá trình học sinh thực hiện và khi trình bày: 'Các em đã vận dụng kiến thức nào để tạo ra sản phẩm này?', 'Sản phẩm của các em có ý nghĩa gì trong thực tế?', 'Có cách nào để sản phẩm của các em trở nên hấp dẫn và thuyết phục hơn không?', 'Điểm nổi bật nhất trong sản phẩm của nhóm/cá nhân em là gì?'\"\u001b[0m,\n",
       "\u001b[2;32m│   \u001b[0m\u001b[32m'differentiation'\u001b[0m: \u001b[1m{\u001b[0m\n",
       "\u001b[2;32m│   │   \u001b[0m\u001b[32m'for_struggling_students'\u001b[0m: \u001b[32m'Cung cấp các mẫu sản phẩm gợi ý, danh sách các từ khóa/cụm từ quan trọng, hoặc giảm bớt yêu cầu về số lượng/độ phức tạp của sản phẩm để học sinh dễ dàng bắt đầu.'\u001b[0m,\n",
       "\u001b[2;32m│   │   \u001b[0m\u001b[32m'for_advanced_students'\u001b[0m: \u001b[32m'Khuyến khích học sinh mở rộng ý tưởng, tìm kiếm thêm thông tin bên ngoài để làm phong phú sản phẩm, hoặc thiết kế sản phẩm với yêu cầu cao hơn về tính ứng dụng/sáng tạo \u001b[0m\u001b[32m(\u001b[0m\u001b[32mví dụ: tạo một video ngắn, một bài thuyết trình có hình ảnh\u001b[0m\u001b[32m)\u001b[0m\u001b[32m.'\u001b[0m\n",
       "\u001b[2;32m│   \u001b[0m\u001b[1m}\u001b[0m,\n",
       "\u001b[2;32m│   \u001b[0m\u001b[32m'question_or_description'\u001b[0m: \u001b[32m'**Phần Cốt lõi:**\\nHọc sinh làm việc theo nhóm \u001b[0m\u001b[32m(\u001b[0m\u001b[32mhoặc cá nhân\u001b[0m\u001b[32m)\u001b[0m\u001b[32m để vận dụng kiến thức đã học vào việc thiết kế một sản phẩm cụ thể \u001b[0m\u001b[32m(\u001b[0m\u001b[32mví dụ: poster, slogan, đoạn văn ngắn, sơ đồ tư duy, giải pháp cho một vấn đề thực tế\u001b[0m\u001b[32m)\u001b[0m\u001b[32m. Sản phẩm cần thể hiện rõ sự hiểu biết và khả năng ứng dụng kiến thức. Thời gian thực hiện: 18 phút.\\n\\n**Phần Mở rộng \u001b[0m\u001b[32m(\u001b[0m\u001b[32mnếu còn thời gian\u001b[0m\u001b[32m)\u001b[0m\u001b[32m:**\\nĐối với các nhóm/cá nhân hoàn thành sớm, hãy phát triển sản phẩm của mình bằng cách thêm các chi tiết sáng tạo, mở rộng phạm vi ứng dụng, hoặc chuẩn bị một phần trình bày ngắn gọn \u001b[0m\u001b[32m(\u001b[0m\u001b[32mdưới 1 phút\u001b[0m\u001b[32m)\u001b[0m\u001b[32m về ý tưởng của mình để chia sẻ với lớp.'\u001b[0m\n",
       "\u001b[1m}\u001b[0m\n"
      ]
     },
     "metadata": {},
     "output_type": "display_data"
    },
    {
     "data": {
      "text/html": [
       "<pre style=\"white-space:pre;overflow-x:auto;line-height:normal;font-family:Menlo,'DejaVu Sans Mono',consolas,'Courier New',monospace\">\n",
       "<span style=\"color: #808000; text-decoration-color: #808000; font-weight: bold\">------- Hoàn thành bước: activity_designer -------</span>\n",
       "</pre>\n"
      ],
      "text/plain": [
       "\n",
       "\u001b[1;33m------- Hoàn thành bước: activity_designer -------\u001b[0m\n"
      ]
     },
     "metadata": {},
     "output_type": "display_data"
    },
    {
     "data": {
      "text/html": [
       "<pre style=\"white-space:pre;overflow-x:auto;line-height:normal;font-family:Menlo,'DejaVu Sans Mono',consolas,'Courier New',monospace\">\n",
       "<span style=\"color: #008080; text-decoration-color: #008080; font-weight: bold\">&gt;</span> `Agent: Guardian Critic` <span style=\"font-weight: bold\">(</span>v10.<span style=\"color: #008080; text-decoration-color: #008080; font-weight: bold\">0</span><span style=\"font-weight: bold\">)</span> đang bảo vệ kế hoạch<span style=\"color: #808000; text-decoration-color: #808000\">...</span>\n",
       "</pre>\n"
      ],
      "text/plain": [
       "\n",
       "\u001b[1;36m>\u001b[0m `Agent: Guardian Critic` \u001b[1m(\u001b[0mv10.\u001b[1;36m0\u001b[0m\u001b[1m)\u001b[0m đang bảo vệ kế hoạch\u001b[33m...\u001b[0m\n"
      ]
     },
     "metadata": {},
     "output_type": "display_data"
    },
    {
     "data": {
      "text/html": [
       "<pre style=\"white-space:pre;overflow-x:auto;line-height:normal;font-family:Menlo,'DejaVu Sans Mono',consolas,'Courier New',monospace\"><span style=\"color: #808000; text-decoration-color: #808000; font-weight: bold\">⚠️  GUARDIAN PHẢN BIỆN: Nội dung hoạt động này quá chi tiết và có nhiều bước, khó có thể hoàn thành trọn vẹn trong </span>\n",
       "<span style=\"color: #808000; text-decoration-color: #808000; font-weight: bold\">30</span><span style=\"color: #808000; text-decoration-color: #808000; font-weight: bold\"> phút. Cụ thể, thời gian </span><span style=\"color: #808000; text-decoration-color: #808000; font-weight: bold\">18</span><span style=\"color: #808000; text-decoration-color: #808000; font-weight: bold\"> phút cho học sinh thiết kế một sản phẩm cụ thể (như poster, sơ đồ tư duy) là khá gấp,</span>\n",
       "<span style=\"color: #808000; text-decoration-color: #808000; font-weight: bold\">và sau đó còn có phần trình bày của </span><span style=\"color: #808000; text-decoration-color: #808000; font-weight: bold\">1</span><span style=\"color: #808000; text-decoration-color: #808000; font-weight: bold\">-</span><span style=\"color: #808000; text-decoration-color: #808000; font-weight: bold\">2</span><span style=\"color: #808000; text-decoration-color: #808000; font-weight: bold\"> nhóm cùng với nhận xét và tổng kết của giáo viên. Tổng thời gian ước tính </span>\n",
       "<span style=\"color: #808000; text-decoration-color: #808000; font-weight: bold\">dễ dàng vượt quá </span><span style=\"color: #808000; text-decoration-color: #808000; font-weight: bold\">30</span><span style=\"color: #808000; text-decoration-color: #808000; font-weight: bold\"> phút trong thực tế. Hãy thiết kế lại một phiên bản hoạt động đơn giản hơn, ít bước hơn để khớp </span>\n",
       "<span style=\"color: #808000; text-decoration-color: #808000; font-weight: bold\">với thời gian </span><span style=\"color: #808000; text-decoration-color: #808000; font-weight: bold\">30</span><span style=\"color: #808000; text-decoration-color: #808000; font-weight: bold\"> phút đã cho.</span>\n",
       "</pre>\n"
      ],
      "text/plain": [
       "\u001b[1;33m⚠️  GUARDIAN PHẢN BIỆN: Nội dung hoạt động này quá chi tiết và có nhiều bước, khó có thể hoàn thành trọn vẹn trong \u001b[0m\n",
       "\u001b[1;33m30\u001b[0m\u001b[1;33m phút. Cụ thể, thời gian \u001b[0m\u001b[1;33m18\u001b[0m\u001b[1;33m phút cho học sinh thiết kế một sản phẩm cụ thể \u001b[0m\u001b[1;33m(\u001b[0m\u001b[1;33mnhư poster, sơ đồ tư duy\u001b[0m\u001b[1;33m)\u001b[0m\u001b[1;33m là khá gấp,\u001b[0m\n",
       "\u001b[1;33mvà sau đó còn có phần trình bày của \u001b[0m\u001b[1;33m1\u001b[0m\u001b[1;33m-\u001b[0m\u001b[1;33m2\u001b[0m\u001b[1;33m nhóm cùng với nhận xét và tổng kết của giáo viên. Tổng thời gian ước tính \u001b[0m\n",
       "\u001b[1;33mdễ dàng vượt quá \u001b[0m\u001b[1;33m30\u001b[0m\u001b[1;33m phút trong thực tế. Hãy thiết kế lại một phiên bản hoạt động đơn giản hơn, ít bước hơn để khớp \u001b[0m\n",
       "\u001b[1;33mvới thời gian \u001b[0m\u001b[1;33m30\u001b[0m\u001b[1;33m phút đã cho.\u001b[0m\n"
      ]
     },
     "metadata": {},
     "output_type": "display_data"
    },
    {
     "data": {
      "text/html": [
       "<pre style=\"white-space:pre;overflow-x:auto;line-height:normal;font-family:Menlo,'DejaVu Sans Mono',consolas,'Courier New',monospace\">\n",
       "<span style=\"color: #808000; text-decoration-color: #808000; font-weight: bold\">------- Hoàn thành bước: content_validator -------</span>\n",
       "</pre>\n"
      ],
      "text/plain": [
       "\n",
       "\u001b[1;33m------- Hoàn thành bước: content_validator -------\u001b[0m\n"
      ]
     },
     "metadata": {},
     "output_type": "display_data"
    },
    {
     "data": {
      "text/html": [
       "<pre style=\"white-space:pre;overflow-x:auto;line-height:normal;font-family:Menlo,'DejaVu Sans Mono',consolas,'Courier New',monospace\">\n",
       "<span style=\"color: #008080; text-decoration-color: #008080; font-weight: bold\">&gt;</span> `Agent: Task Dispatcher` đang giao việc<span style=\"color: #808000; text-decoration-color: #808000\">...</span>\n",
       "</pre>\n"
      ],
      "text/plain": [
       "\n",
       "\u001b[1;36m>\u001b[0m `Agent: Task Dispatcher` đang giao việc\u001b[33m...\u001b[0m\n"
      ]
     },
     "metadata": {},
     "output_type": "display_data"
    },
    {
     "data": {
      "text/html": [
       "<pre style=\"white-space:pre;overflow-x:auto;line-height:normal;font-family:Menlo,'DejaVu Sans Mono',consolas,'Courier New',monospace\">\n",
       "<span style=\"color: #008080; text-decoration-color: #008080; font-weight: bold\">&gt;</span> --- 🚚 `Dispatcher`: Giao nhiệm vụ cho `activity_designer`.\n",
       "</pre>\n"
      ],
      "text/plain": [
       "\n",
       "\u001b[1;36m>\u001b[0m --- 🚚 `Dispatcher`: Giao nhiệm vụ cho `activity_designer`.\n"
      ]
     },
     "metadata": {},
     "output_type": "display_data"
    },
    {
     "data": {
      "text/html": [
       "<pre style=\"white-space:pre;overflow-x:auto;line-height:normal;font-family:Menlo,'DejaVu Sans Mono',consolas,'Courier New',monospace\">\n",
       "<span style=\"color: #808000; text-decoration-color: #808000; font-weight: bold\">------- Hoàn thành bước: task_dispatcher -------</span>\n",
       "</pre>\n"
      ],
      "text/plain": [
       "\n",
       "\u001b[1;33m------- Hoàn thành bước: task_dispatcher -------\u001b[0m\n"
      ]
     },
     "metadata": {},
     "output_type": "display_data"
    },
    {
     "data": {
      "text/html": [
       "<pre style=\"white-space:pre;overflow-x:auto;line-height:normal;font-family:Menlo,'DejaVu Sans Mono',consolas,'Courier New',monospace\">\n",
       "<span style=\"color: #008080; text-decoration-color: #008080; font-weight: bold\">&gt;</span> `Agent: Activity Designer` <span style=\"font-weight: bold\">(</span>v10.<span style=\"color: #008080; text-decoration-color: #008080; font-weight: bold\">0</span><span style=\"font-weight: bold\">)</span> đang tạo nội dung theo kỷ luật<span style=\"color: #808000; text-decoration-color: #808000\">...</span>\n",
       "</pre>\n"
      ],
      "text/plain": [
       "\n",
       "\u001b[1;36m>\u001b[0m `Agent: Activity Designer` \u001b[1m(\u001b[0mv10.\u001b[1;36m0\u001b[0m\u001b[1m)\u001b[0m đang tạo nội dung theo kỷ luật\u001b[33m...\u001b[0m\n"
      ]
     },
     "metadata": {},
     "output_type": "display_data"
    },
    {
     "data": {
      "text/html": [
       "<pre style=\"white-space:pre;overflow-x:auto;line-height:normal;font-family:Menlo,'DejaVu Sans Mono',consolas,'Courier New',monospace\"><span style=\"color: #008000; text-decoration-color: #008000; font-weight: bold\">✔️ Nội dung do Activity Designer tạo ra:</span>\n",
       "</pre>\n"
      ],
      "text/plain": [
       "\u001b[1;32m✔️ Nội dung do Activity Designer tạo ra:\u001b[0m\n"
      ]
     },
     "metadata": {},
     "output_type": "display_data"
    },
    {
     "data": {
      "text/html": [
       "<pre style=\"white-space:pre;overflow-x:auto;line-height:normal;font-family:Menlo,'DejaVu Sans Mono',consolas,'Courier New',monospace\"><span style=\"font-weight: bold\">{</span>\n",
       "<span style=\"color: #7fbf7f; text-decoration-color: #7fbf7f\">│   </span><span style=\"color: #008000; text-decoration-color: #008000\">'activity_name'</span>: <span style=\"color: #008000; text-decoration-color: #008000\">'Vận dụng và Trình bày sản phẩm'</span>,\n",
       "<span style=\"color: #7fbf7f; text-decoration-color: #7fbf7f\">│   </span><span style=\"color: #008000; text-decoration-color: #008000\">'activity_type'</span>: <span style=\"color: #008000; text-decoration-color: #008000\">'Thảo luận nhóm và Trình bày'</span>,\n",
       "<span style=\"color: #7fbf7f; text-decoration-color: #7fbf7f\">│   </span><span style=\"color: #008000; text-decoration-color: #008000\">'duration_minutes'</span>: <span style=\"color: #008080; text-decoration-color: #008080; font-weight: bold\">30</span>,\n",
       "<span style=\"color: #7fbf7f; text-decoration-color: #7fbf7f\">│   </span><span style=\"color: #008000; text-decoration-color: #008000\">'teacher_actions'</span>: <span style=\"font-weight: bold\">[</span>\n",
       "<span style=\"color: #7fbf7f; text-decoration-color: #7fbf7f\">│   │   </span><span style=\"color: #008000; text-decoration-color: #008000\">'Giới thiệu nhiệm vụ, phân chia học sinh thành các nhóm nhỏ (3-4 học sinh/nhóm).'</span>,\n",
       "<span style=\"color: #7fbf7f; text-decoration-color: #7fbf7f\">│   │   </span><span style=\"color: #008000; text-decoration-color: #008000\">'Phát giấy A4 hoặc bảng nhóm nhỏ cho mỗi nhóm.'</span>,\n",
       "<span style=\"color: #7fbf7f; text-decoration-color: #7fbf7f\">│   │   </span><span style=\"color: #008000; text-decoration-color: #008000\">'Di chuyển giữa các nhóm, lắng nghe thảo luận, gợi ý và hỗ trợ khi cần thiết (ví dụ: đặt câu hỏi dẫn dắt, làm rõ yêu cầu).'</span>,\n",
       "<span style=\"color: #7fbf7f; text-decoration-color: #7fbf7f\">│   │   </span><span style=\"color: #008000; text-decoration-color: #008000\">'Theo dõi thời gian và thông báo khi còn 5 phút để các nhóm hoàn tất phần chuẩn bị.'</span>,\n",
       "<span style=\"color: #7fbf7f; text-decoration-color: #7fbf7f\">│   │   </span><span style=\"color: #008000; text-decoration-color: #008000\">'Mời 2-3 nhóm đại diện trình bày nhanh (mỗi nhóm 2-3 phút) về các ý chính/giải pháp của mình.'</span>,\n",
       "<span style=\"color: #7fbf7f; text-decoration-color: #7fbf7f\">│   │   </span><span style=\"color: #008000; text-decoration-color: #008000\">'Điều phối phần góp ý, đặt câu hỏi mở rộng hoặc làm rõ từ các nhóm khác (nếu có thời gian).'</span>,\n",
       "<span style=\"color: #7fbf7f; text-decoration-color: #7fbf7f\">│   │   </span><span style=\"color: #008000; text-decoration-color: #008000\">'Tổng kết các ý chính, nhấn mạnh kiến thức trọng tâm và đưa ra nhận xét chung về hoạt động.'</span>\n",
       "<span style=\"color: #7fbf7f; text-decoration-color: #7fbf7f\">│   </span><span style=\"font-weight: bold\">]</span>,\n",
       "<span style=\"color: #7fbf7f; text-decoration-color: #7fbf7f\">│   </span><span style=\"color: #008000; text-decoration-color: #008000\">'core_component'</span>: <span style=\"color: #008000; text-decoration-color: #008000\">'Trong nhóm, học sinh thảo luận để tổng hợp 2-3 ý chính hoặc giải pháp cho vấn đề/chủ đề đã học. Các nhóm ghi ngắn gọn các ý này ra giấy A4 hoặc bảng nhóm nhỏ để chuẩn bị trình bày nhanh (khoảng 2-3 phút/nhóm).'</span>,\n",
       "<span style=\"color: #7fbf7f; text-decoration-color: #7fbf7f\">│   </span><span style=\"color: #008000; text-decoration-color: #008000\">'extension_component'</span>: <span style=\"color: #008000; text-decoration-color: #008000\">'Nếu hoàn thành sớm, các nhóm có thể: 1. Phát triển thêm một ví dụ minh họa cụ thể cho mỗi ý chính. 2. Suy nghĩ về một câu hỏi phản biện hoặc một thách thức có thể đặt ra cho giải pháp của nhóm.'</span>,\n",
       "<span style=\"color: #7fbf7f; text-decoration-color: #7fbf7f\">│   </span><span style=\"color: #008000; text-decoration-color: #008000\">'solution_guide'</span>: <span style=\"color: #008000; text-decoration-color: #008000\">\"Các ý chính/giải pháp cần bám sát chủ đề/vấn đề đã học. Gợi ý câu hỏi cho giáo viên khi tổng kết: 'Điểm chung trong các giải pháp của các nhóm là gì?' 'Có giải pháp nào đặc biệt sáng tạo không?' 'Chúng ta có thể áp dụng những kiến thức này vào đâu trong cuộc sống?'\"</span>,\n",
       "<span style=\"color: #7fbf7f; text-decoration-color: #7fbf7f\">│   </span><span style=\"color: #008000; text-decoration-color: #008000\">'differentiation'</span>: <span style=\"font-weight: bold\">{</span>\n",
       "<span style=\"color: #7fbf7f; text-decoration-color: #7fbf7f\">│   │   </span><span style=\"color: #008000; text-decoration-color: #008000\">'for_struggling_students'</span>: <span style=\"color: #008000; text-decoration-color: #008000\">'Cung cấp các câu hỏi gợi ý cụ thể hơn hoặc các từ khóa để hỗ trợ quá trình thảo luận. Khuyến khích các em ghi lại những gì mình hiểu được, dù chỉ là một ý nhỏ.'</span>,\n",
       "<span style=\"color: #7fbf7f; text-decoration-color: #7fbf7f\">│   │   </span><span style=\"color: #008000; text-decoration-color: #008000\">'for_advanced_students'</span>: <span style=\"color: #008000; text-decoration-color: #008000\">\"Yêu cầu các em không chỉ đưa ra giải pháp mà còn phải giải thích được 'tại sao' giải pháp đó hiệu quả, hoặc liên hệ với một tình huống thực tế phức tạp hơn.\"</span>\n",
       "<span style=\"color: #7fbf7f; text-decoration-color: #7fbf7f\">│   </span><span style=\"font-weight: bold\">}</span>,\n",
       "<span style=\"color: #7fbf7f; text-decoration-color: #7fbf7f\">│   </span><span style=\"color: #008000; text-decoration-color: #008000\">'question_or_description'</span>: <span style=\"color: #008000; text-decoration-color: #008000\">'**Phần Cốt lõi:**\\nTrong nhóm, học sinh thảo luận để tổng hợp 2-3 ý chính hoặc giải pháp cho vấn đề/chủ đề đã học. Các nhóm ghi ngắn gọn các ý này ra giấy A4 hoặc bảng nhóm nhỏ để chuẩn bị trình bày nhanh (khoảng 2-3 phút/nhóm).\\n\\n**Phần Mở rộng (nếu còn thời gian):**\\nNếu hoàn thành sớm, các nhóm có thể: 1. Phát triển thêm một ví dụ minh họa cụ thể cho mỗi ý chính. 2. Suy nghĩ về một câu hỏi phản biện hoặc một thách thức có thể đặt ra cho giải pháp của nhóm.'</span>\n",
       "<span style=\"font-weight: bold\">}</span>\n",
       "</pre>\n"
      ],
      "text/plain": [
       "\u001b[1m{\u001b[0m\n",
       "\u001b[2;32m│   \u001b[0m\u001b[32m'activity_name'\u001b[0m: \u001b[32m'Vận dụng và Trình bày sản phẩm'\u001b[0m,\n",
       "\u001b[2;32m│   \u001b[0m\u001b[32m'activity_type'\u001b[0m: \u001b[32m'Thảo luận nhóm và Trình bày'\u001b[0m,\n",
       "\u001b[2;32m│   \u001b[0m\u001b[32m'duration_minutes'\u001b[0m: \u001b[1;36m30\u001b[0m,\n",
       "\u001b[2;32m│   \u001b[0m\u001b[32m'teacher_actions'\u001b[0m: \u001b[1m[\u001b[0m\n",
       "\u001b[2;32m│   │   \u001b[0m\u001b[32m'Giới thiệu nhiệm vụ, phân chia học sinh thành các nhóm nhỏ \u001b[0m\u001b[32m(\u001b[0m\u001b[32m3-4 học sinh/nhóm\u001b[0m\u001b[32m)\u001b[0m\u001b[32m.'\u001b[0m,\n",
       "\u001b[2;32m│   │   \u001b[0m\u001b[32m'Phát giấy A4 hoặc bảng nhóm nhỏ cho mỗi nhóm.'\u001b[0m,\n",
       "\u001b[2;32m│   │   \u001b[0m\u001b[32m'Di chuyển giữa các nhóm, lắng nghe thảo luận, gợi ý và hỗ trợ khi cần thiết \u001b[0m\u001b[32m(\u001b[0m\u001b[32mví dụ: đặt câu hỏi dẫn dắt, làm rõ yêu cầu\u001b[0m\u001b[32m)\u001b[0m\u001b[32m.'\u001b[0m,\n",
       "\u001b[2;32m│   │   \u001b[0m\u001b[32m'Theo dõi thời gian và thông báo khi còn 5 phút để các nhóm hoàn tất phần chuẩn bị.'\u001b[0m,\n",
       "\u001b[2;32m│   │   \u001b[0m\u001b[32m'Mời 2-3 nhóm đại diện trình bày nhanh \u001b[0m\u001b[32m(\u001b[0m\u001b[32mmỗi nhóm 2-3 phút\u001b[0m\u001b[32m)\u001b[0m\u001b[32m về các ý chính/giải pháp của mình.'\u001b[0m,\n",
       "\u001b[2;32m│   │   \u001b[0m\u001b[32m'Điều phối phần góp ý, đặt câu hỏi mở rộng hoặc làm rõ từ các nhóm khác \u001b[0m\u001b[32m(\u001b[0m\u001b[32mnếu có thời gian\u001b[0m\u001b[32m)\u001b[0m\u001b[32m.'\u001b[0m,\n",
       "\u001b[2;32m│   │   \u001b[0m\u001b[32m'Tổng kết các ý chính, nhấn mạnh kiến thức trọng tâm và đưa ra nhận xét chung về hoạt động.'\u001b[0m\n",
       "\u001b[2;32m│   \u001b[0m\u001b[1m]\u001b[0m,\n",
       "\u001b[2;32m│   \u001b[0m\u001b[32m'core_component'\u001b[0m: \u001b[32m'Trong nhóm, học sinh thảo luận để tổng hợp 2-3 ý chính hoặc giải pháp cho vấn đề/chủ đề đã học. Các nhóm ghi ngắn gọn các ý này ra giấy A4 hoặc bảng nhóm nhỏ để chuẩn bị trình bày nhanh \u001b[0m\u001b[32m(\u001b[0m\u001b[32mkhoảng 2-3 phút/nhóm\u001b[0m\u001b[32m)\u001b[0m\u001b[32m.'\u001b[0m,\n",
       "\u001b[2;32m│   \u001b[0m\u001b[32m'extension_component'\u001b[0m: \u001b[32m'Nếu hoàn thành sớm, các nhóm có thể: 1. Phát triển thêm một ví dụ minh họa cụ thể cho mỗi ý chính. 2. Suy nghĩ về một câu hỏi phản biện hoặc một thách thức có thể đặt ra cho giải pháp của nhóm.'\u001b[0m,\n",
       "\u001b[2;32m│   \u001b[0m\u001b[32m'solution_guide'\u001b[0m: \u001b[32m\"Các ý chính/giải pháp cần bám sát chủ đề/vấn đề đã học. Gợi ý câu hỏi cho giáo viên khi tổng kết: 'Điểm chung trong các giải pháp của các nhóm là gì?' 'Có giải pháp nào đặc biệt sáng tạo không?' 'Chúng ta có thể áp dụng những kiến thức này vào đâu trong cuộc sống?'\"\u001b[0m,\n",
       "\u001b[2;32m│   \u001b[0m\u001b[32m'differentiation'\u001b[0m: \u001b[1m{\u001b[0m\n",
       "\u001b[2;32m│   │   \u001b[0m\u001b[32m'for_struggling_students'\u001b[0m: \u001b[32m'Cung cấp các câu hỏi gợi ý cụ thể hơn hoặc các từ khóa để hỗ trợ quá trình thảo luận. Khuyến khích các em ghi lại những gì mình hiểu được, dù chỉ là một ý nhỏ.'\u001b[0m,\n",
       "\u001b[2;32m│   │   \u001b[0m\u001b[32m'for_advanced_students'\u001b[0m: \u001b[32m\"Yêu cầu các em không chỉ đưa ra giải pháp mà còn phải giải thích được 'tại sao' giải pháp đó hiệu quả, hoặc liên hệ với một tình huống thực tế phức tạp hơn.\"\u001b[0m\n",
       "\u001b[2;32m│   \u001b[0m\u001b[1m}\u001b[0m,\n",
       "\u001b[2;32m│   \u001b[0m\u001b[32m'question_or_description'\u001b[0m: \u001b[32m'**Phần Cốt lõi:**\\nTrong nhóm, học sinh thảo luận để tổng hợp 2-3 ý chính hoặc giải pháp cho vấn đề/chủ đề đã học. Các nhóm ghi ngắn gọn các ý này ra giấy A4 hoặc bảng nhóm nhỏ để chuẩn bị trình bày nhanh \u001b[0m\u001b[32m(\u001b[0m\u001b[32mkhoảng 2-3 phút/nhóm\u001b[0m\u001b[32m)\u001b[0m\u001b[32m.\\n\\n**Phần Mở rộng \u001b[0m\u001b[32m(\u001b[0m\u001b[32mnếu còn thời gian\u001b[0m\u001b[32m)\u001b[0m\u001b[32m:**\\nNếu hoàn thành sớm, các nhóm có thể: 1. Phát triển thêm một ví dụ minh họa cụ thể cho mỗi ý chính. 2. Suy nghĩ về một câu hỏi phản biện hoặc một thách thức có thể đặt ra cho giải pháp của nhóm.'\u001b[0m\n",
       "\u001b[1m}\u001b[0m\n"
      ]
     },
     "metadata": {},
     "output_type": "display_data"
    },
    {
     "data": {
      "text/html": [
       "<pre style=\"white-space:pre;overflow-x:auto;line-height:normal;font-family:Menlo,'DejaVu Sans Mono',consolas,'Courier New',monospace\">\n",
       "<span style=\"color: #808000; text-decoration-color: #808000; font-weight: bold\">------- Hoàn thành bước: activity_designer -------</span>\n",
       "</pre>\n"
      ],
      "text/plain": [
       "\n",
       "\u001b[1;33m------- Hoàn thành bước: activity_designer -------\u001b[0m\n"
      ]
     },
     "metadata": {},
     "output_type": "display_data"
    },
    {
     "data": {
      "text/html": [
       "<pre style=\"white-space:pre;overflow-x:auto;line-height:normal;font-family:Menlo,'DejaVu Sans Mono',consolas,'Courier New',monospace\">\n",
       "<span style=\"color: #008080; text-decoration-color: #008080; font-weight: bold\">&gt;</span> `Agent: Guardian Critic` <span style=\"font-weight: bold\">(</span>v10.<span style=\"color: #008080; text-decoration-color: #008080; font-weight: bold\">0</span><span style=\"font-weight: bold\">)</span> đang bảo vệ kế hoạch<span style=\"color: #808000; text-decoration-color: #808000\">...</span>\n",
       "</pre>\n"
      ],
      "text/plain": [
       "\n",
       "\u001b[1;36m>\u001b[0m `Agent: Guardian Critic` \u001b[1m(\u001b[0mv10.\u001b[1;36m0\u001b[0m\u001b[1m)\u001b[0m đang bảo vệ kế hoạch\u001b[33m...\u001b[0m\n"
      ]
     },
     "metadata": {},
     "output_type": "display_data"
    },
    {
     "data": {
      "text/html": [
       "<pre style=\"white-space:pre;overflow-x:auto;line-height:normal;font-family:Menlo,'DejaVu Sans Mono',consolas,'Courier New',monospace\"><span style=\"color: #808000; text-decoration-color: #808000; font-weight: bold\">⚠️  GUARDIAN PHẢN BIỆN: Hoạt động này có cấu trúc tốt và các bước rõ ràng, tuy nhiên, thời lượng </span><span style=\"color: #808000; text-decoration-color: #808000; font-weight: bold\">30</span><span style=\"color: #808000; text-decoration-color: #808000; font-weight: bold\"> phút là không đủ</span>\n",
       "<span style=\"color: #808000; text-decoration-color: #808000; font-weight: bold\">để thực hiện tất cả các bước một cách hiệu quả. Cụ thể, thời gian dành cho học sinh thảo luận nhóm, tổng hợp ý </span>\n",
       "<span style=\"color: #808000; text-decoration-color: #808000; font-weight: bold\">chính và chuẩn bị trình bày (phần cốt lõi) sẽ rất hạn chế nếu phải bao gồm cả phần giới thiệu, phân chia nhóm, </span>\n",
       "<span style=\"color: #808000; text-decoration-color: #808000; font-weight: bold\">trình bày của </span><span style=\"color: #808000; text-decoration-color: #808000; font-weight: bold\">2</span><span style=\"color: #808000; text-decoration-color: #808000; font-weight: bold\">-</span><span style=\"color: #808000; text-decoration-color: #808000; font-weight: bold\">3</span><span style=\"color: #808000; text-decoration-color: #808000; font-weight: bold\"> nhóm và tổng kết của giáo viên trong </span><span style=\"color: #808000; text-decoration-color: #808000; font-weight: bold\">30</span><span style=\"color: #808000; text-decoration-color: #808000; font-weight: bold\"> phút. Để đảm bảo chất lượng thảo luận và trình bày, hoạt </span>\n",
       "<span style=\"color: #808000; text-decoration-color: #808000; font-weight: bold\">động này cần nhiều thời gian hơn. Hãy thiết kế lại một phiên bản hoạt động đơn giản hơn, ít bước hơn để khớp với </span>\n",
       "<span style=\"color: #808000; text-decoration-color: #808000; font-weight: bold\">thời gian </span><span style=\"color: #808000; text-decoration-color: #808000; font-weight: bold\">30</span><span style=\"color: #808000; text-decoration-color: #808000; font-weight: bold\"> phút đã cho.</span>\n",
       "</pre>\n"
      ],
      "text/plain": [
       "\u001b[1;33m⚠️  GUARDIAN PHẢN BIỆN: Hoạt động này có cấu trúc tốt và các bước rõ ràng, tuy nhiên, thời lượng \u001b[0m\u001b[1;33m30\u001b[0m\u001b[1;33m phút là không đủ\u001b[0m\n",
       "\u001b[1;33mđể thực hiện tất cả các bước một cách hiệu quả. Cụ thể, thời gian dành cho học sinh thảo luận nhóm, tổng hợp ý \u001b[0m\n",
       "\u001b[1;33mchính và chuẩn bị trình bày \u001b[0m\u001b[1;33m(\u001b[0m\u001b[1;33mphần cốt lõi\u001b[0m\u001b[1;33m)\u001b[0m\u001b[1;33m sẽ rất hạn chế nếu phải bao gồm cả phần giới thiệu, phân chia nhóm, \u001b[0m\n",
       "\u001b[1;33mtrình bày của \u001b[0m\u001b[1;33m2\u001b[0m\u001b[1;33m-\u001b[0m\u001b[1;33m3\u001b[0m\u001b[1;33m nhóm và tổng kết của giáo viên trong \u001b[0m\u001b[1;33m30\u001b[0m\u001b[1;33m phút. Để đảm bảo chất lượng thảo luận và trình bày, hoạt \u001b[0m\n",
       "\u001b[1;33mđộng này cần nhiều thời gian hơn. Hãy thiết kế lại một phiên bản hoạt động đơn giản hơn, ít bước hơn để khớp với \u001b[0m\n",
       "\u001b[1;33mthời gian \u001b[0m\u001b[1;33m30\u001b[0m\u001b[1;33m phút đã cho.\u001b[0m\n"
      ]
     },
     "metadata": {},
     "output_type": "display_data"
    },
    {
     "data": {
      "text/html": [
       "<pre style=\"white-space:pre;overflow-x:auto;line-height:normal;font-family:Menlo,'DejaVu Sans Mono',consolas,'Courier New',monospace\">\n",
       "<span style=\"color: #808000; text-decoration-color: #808000; font-weight: bold\">------- Hoàn thành bước: content_validator -------</span>\n",
       "</pre>\n"
      ],
      "text/plain": [
       "\n",
       "\u001b[1;33m------- Hoàn thành bước: content_validator -------\u001b[0m\n"
      ]
     },
     "metadata": {},
     "output_type": "display_data"
    },
    {
     "data": {
      "text/html": [
       "<pre style=\"white-space:pre;overflow-x:auto;line-height:normal;font-family:Menlo,'DejaVu Sans Mono',consolas,'Courier New',monospace\">\n",
       "<span style=\"color: #008080; text-decoration-color: #008080; font-weight: bold\">&gt;</span> `Agent: Task Dispatcher` đang giao việc<span style=\"color: #808000; text-decoration-color: #808000\">...</span>\n",
       "</pre>\n"
      ],
      "text/plain": [
       "\n",
       "\u001b[1;36m>\u001b[0m `Agent: Task Dispatcher` đang giao việc\u001b[33m...\u001b[0m\n"
      ]
     },
     "metadata": {},
     "output_type": "display_data"
    },
    {
     "data": {
      "text/html": [
       "<pre style=\"white-space:pre;overflow-x:auto;line-height:normal;font-family:Menlo,'DejaVu Sans Mono',consolas,'Courier New',monospace\">\n",
       "<span style=\"color: #008080; text-decoration-color: #008080; font-weight: bold\">&gt;</span> --- 🚚 `Dispatcher`: Giao nhiệm vụ cho `activity_designer`.\n",
       "</pre>\n"
      ],
      "text/plain": [
       "\n",
       "\u001b[1;36m>\u001b[0m --- 🚚 `Dispatcher`: Giao nhiệm vụ cho `activity_designer`.\n"
      ]
     },
     "metadata": {},
     "output_type": "display_data"
    },
    {
     "data": {
      "text/html": [
       "<pre style=\"white-space:pre;overflow-x:auto;line-height:normal;font-family:Menlo,'DejaVu Sans Mono',consolas,'Courier New',monospace\">\n",
       "<span style=\"color: #808000; text-decoration-color: #808000; font-weight: bold\">------- Hoàn thành bước: task_dispatcher -------</span>\n",
       "</pre>\n"
      ],
      "text/plain": [
       "\n",
       "\u001b[1;33m------- Hoàn thành bước: task_dispatcher -------\u001b[0m\n"
      ]
     },
     "metadata": {},
     "output_type": "display_data"
    },
    {
     "data": {
      "text/html": [
       "<pre style=\"white-space:pre;overflow-x:auto;line-height:normal;font-family:Menlo,'DejaVu Sans Mono',consolas,'Courier New',monospace\">\n",
       "<span style=\"color: #008080; text-decoration-color: #008080; font-weight: bold\">&gt;</span> `Agent: Activity Designer` <span style=\"font-weight: bold\">(</span>v10.<span style=\"color: #008080; text-decoration-color: #008080; font-weight: bold\">0</span><span style=\"font-weight: bold\">)</span> đang tạo nội dung theo kỷ luật<span style=\"color: #808000; text-decoration-color: #808000\">...</span>\n",
       "</pre>\n"
      ],
      "text/plain": [
       "\n",
       "\u001b[1;36m>\u001b[0m `Agent: Activity Designer` \u001b[1m(\u001b[0mv10.\u001b[1;36m0\u001b[0m\u001b[1m)\u001b[0m đang tạo nội dung theo kỷ luật\u001b[33m...\u001b[0m\n"
      ]
     },
     "metadata": {},
     "output_type": "display_data"
    },
    {
     "data": {
      "text/html": [
       "<pre style=\"white-space:pre;overflow-x:auto;line-height:normal;font-family:Menlo,'DejaVu Sans Mono',consolas,'Courier New',monospace\"><span style=\"color: #008000; text-decoration-color: #008000; font-weight: bold\">✔️ Nội dung do Activity Designer tạo ra:</span>\n",
       "</pre>\n"
      ],
      "text/plain": [
       "\u001b[1;32m✔️ Nội dung do Activity Designer tạo ra:\u001b[0m\n"
      ]
     },
     "metadata": {},
     "output_type": "display_data"
    },
    {
     "data": {
      "text/html": [
       "<pre style=\"white-space:pre;overflow-x:auto;line-height:normal;font-family:Menlo,'DejaVu Sans Mono',consolas,'Courier New',monospace\"><span style=\"font-weight: bold\">{</span>\n",
       "<span style=\"color: #7fbf7f; text-decoration-color: #7fbf7f\">│   </span><span style=\"color: #008000; text-decoration-color: #008000\">'activity_name'</span>: <span style=\"color: #008000; text-decoration-color: #008000\">'Vận dụng và Trình bày sản phẩm'</span>,\n",
       "<span style=\"color: #7fbf7f; text-decoration-color: #7fbf7f\">│   </span><span style=\"color: #008000; text-decoration-color: #008000\">'activity_type'</span>: <span style=\"color: #008000; text-decoration-color: #008000\">'Thảo luận nhóm và Trình bày'</span>,\n",
       "<span style=\"color: #7fbf7f; text-decoration-color: #7fbf7f\">│   </span><span style=\"color: #008000; text-decoration-color: #008000\">'duration_minutes'</span>: <span style=\"color: #008080; text-decoration-color: #008080; font-weight: bold\">30</span>,\n",
       "<span style=\"color: #7fbf7f; text-decoration-color: #7fbf7f\">│   </span><span style=\"color: #008000; text-decoration-color: #008000\">'teacher_actions'</span>: <span style=\"font-weight: bold\">[</span>\n",
       "<span style=\"color: #7fbf7f; text-decoration-color: #7fbf7f\">│   │   </span><span style=\"color: #008000; text-decoration-color: #008000\">'Giới thiệu nhiệm vụ và chia nhóm nhanh chóng (có thể chia nhóm trước để tiết kiệm thời gian).'</span>,\n",
       "<span style=\"color: #7fbf7f; text-decoration-color: #7fbf7f\">│   │   </span><span style=\"color: #008000; text-decoration-color: #008000\">'Phát phiếu bài tập/tình huống cho từng nhóm.'</span>,\n",
       "<span style=\"color: #7fbf7f; text-decoration-color: #7fbf7f\">│   │   </span><span style=\"color: #008000; text-decoration-color: #008000\">'Đi quanh các nhóm, quan sát, lắng nghe, gợi ý và hỗ trợ kịp thời khi học sinh gặp khó khăn (tập trung vào việc giúp học sinh đi đúng hướng, không sa đà).'</span>,\n",
       "<span style=\"color: #7fbf7f; text-decoration-color: #7fbf7f\">│   │   </span><span style=\"color: #008000; text-decoration-color: #008000\">'Chọn ngẫu nhiên 2-3 nhóm trình bày nhanh (mỗi nhóm tối đa 1 phút).'</span>,\n",
       "<span style=\"color: #7fbf7f; text-decoration-color: #7fbf7f\">│   │   </span><span style=\"color: #008000; text-decoration-color: #008000\">'Tổng kết các ý chính, nhấn mạnh các điểm quan trọng và sửa chữa các hiểu lầm (nếu có).'</span>\n",
       "<span style=\"color: #7fbf7f; text-decoration-color: #7fbf7f\">│   </span><span style=\"font-weight: bold\">]</span>,\n",
       "<span style=\"color: #7fbf7f; text-decoration-color: #7fbf7f\">│   </span><span style=\"color: #008000; text-decoration-color: #008000\">'core_component'</span>: <span style=\"color: #008000; text-decoration-color: #008000\">'Học sinh làm việc theo nhóm (4-5 người). Mỗi nhóm sẽ được giao một tình huống/vấn đề cụ thể liên quan đến nội dung bài học. Nhiệm vụ của nhóm là: 1. Vận dụng kiến thức đã học để phân tích tình huống/vấn đề. 2. Đề xuất 1 giải pháp/sản phẩm/kết luận chính (tùy theo môn học) để giải quyết tình huống/vấn đề đó. 3. Chuẩn bị trình bày ngắn gọn (tối đa 1 phút) về giải pháp/kết luận của nhóm và lý do lựa chọn.'</span>,\n",
       "<span style=\"color: #7fbf7f; text-decoration-color: #7fbf7f\">│   </span><span style=\"color: #008000; text-decoration-color: #008000\">'extension_component'</span>: <span style=\"color: #008000; text-decoration-color: #008000\">'Nếu còn thời gian, các nhóm có thể: 1. Suy nghĩ về những thách thức có thể gặp phải khi triển khai giải pháp của mình và cách khắc phục. 2. Chuẩn bị một câu hỏi phản biện cho nhóm khác.'</span>,\n",
       "<span style=\"color: #7fbf7f; text-decoration-color: #7fbf7f\">│   </span><span style=\"color: #008000; text-decoration-color: #008000\">'solution_guide'</span>: <span style=\"color: #008000; text-decoration-color: #008000\">\"Các tiêu chí đánh giá sản phẩm/giải pháp: Tính hợp lý, khả thi; Sự vận dụng kiến thức đã học; Khả năng trình bày rõ ràng, mạch lạc. Gợi ý các câu hỏi để định hướng thảo luận: 'Vấn đề chính là gì?', 'Kiến thức nào có thể áp dụng?', 'Giải pháp của bạn là gì và tại sao nó hiệu quả?'\"</span>,\n",
       "<span style=\"color: #7fbf7f; text-decoration-color: #7fbf7f\">│   </span><span style=\"color: #008000; text-decoration-color: #008000\">'differentiation'</span>: <span style=\"font-weight: bold\">{</span>\n",
       "<span style=\"color: #7fbf7f; text-decoration-color: #7fbf7f\">│   │   </span><span style=\"color: #008000; text-decoration-color: #008000\">'for_struggling_students'</span>: <span style=\"color: #008000; text-decoration-color: #008000\">'Cung cấp các câu hỏi gợi ý cụ thể hơn hoặc ví dụ minh họa để định hướng suy nghĩ. Có thể cho phép các em tập trung vào một khía cạnh nhỏ hơn của vấn đề.'</span>,\n",
       "<span style=\"color: #7fbf7f; text-decoration-color: #7fbf7f\">│   │   </span><span style=\"color: #008000; text-decoration-color: #008000\">'for_advanced_students'</span>: <span style=\"color: #008000; text-decoration-color: #008000\">'Khuyến khích các em phân tích sâu hơn về các yếu tố ảnh hưởng, đề xuất nhiều giải pháp thay thế hoặc liên hệ với các vấn đề thực tiễn phức tạp hơn.'</span>\n",
       "<span style=\"color: #7fbf7f; text-decoration-color: #7fbf7f\">│   </span><span style=\"font-weight: bold\">}</span>,\n",
       "<span style=\"color: #7fbf7f; text-decoration-color: #7fbf7f\">│   </span><span style=\"color: #008000; text-decoration-color: #008000\">'question_or_description'</span>: <span style=\"color: #008000; text-decoration-color: #008000\">'**Phần Cốt lõi:**\\nHọc sinh làm việc theo nhóm (4-5 người). Mỗi nhóm sẽ được giao một tình huống/vấn đề cụ thể liên quan đến nội dung bài học. Nhiệm vụ của nhóm là: 1. Vận dụng kiến thức đã học để phân tích tình huống/vấn đề. 2. Đề xuất 1 giải pháp/sản phẩm/kết luận chính (tùy theo môn học) để giải quyết tình huống/vấn đề đó. 3. Chuẩn bị trình bày ngắn gọn (tối đa 1 phút) về giải pháp/kết luận của nhóm và lý do lựa chọn.\\n\\n**Phần Mở rộng (nếu còn thời gian):**\\nNếu còn thời gian, các nhóm có thể: 1. Suy nghĩ về những thách thức có thể gặp phải khi triển khai giải pháp của mình và cách khắc phục. 2. Chuẩn bị một câu hỏi phản biện cho nhóm khác.'</span>\n",
       "<span style=\"font-weight: bold\">}</span>\n",
       "</pre>\n"
      ],
      "text/plain": [
       "\u001b[1m{\u001b[0m\n",
       "\u001b[2;32m│   \u001b[0m\u001b[32m'activity_name'\u001b[0m: \u001b[32m'Vận dụng và Trình bày sản phẩm'\u001b[0m,\n",
       "\u001b[2;32m│   \u001b[0m\u001b[32m'activity_type'\u001b[0m: \u001b[32m'Thảo luận nhóm và Trình bày'\u001b[0m,\n",
       "\u001b[2;32m│   \u001b[0m\u001b[32m'duration_minutes'\u001b[0m: \u001b[1;36m30\u001b[0m,\n",
       "\u001b[2;32m│   \u001b[0m\u001b[32m'teacher_actions'\u001b[0m: \u001b[1m[\u001b[0m\n",
       "\u001b[2;32m│   │   \u001b[0m\u001b[32m'Giới thiệu nhiệm vụ và chia nhóm nhanh chóng \u001b[0m\u001b[32m(\u001b[0m\u001b[32mcó thể chia nhóm trước để tiết kiệm thời gian\u001b[0m\u001b[32m)\u001b[0m\u001b[32m.'\u001b[0m,\n",
       "\u001b[2;32m│   │   \u001b[0m\u001b[32m'Phát phiếu bài tập/tình huống cho từng nhóm.'\u001b[0m,\n",
       "\u001b[2;32m│   │   \u001b[0m\u001b[32m'Đi quanh các nhóm, quan sát, lắng nghe, gợi ý và hỗ trợ kịp thời khi học sinh gặp khó khăn \u001b[0m\u001b[32m(\u001b[0m\u001b[32mtập trung vào việc giúp học sinh đi đúng hướng, không sa đà\u001b[0m\u001b[32m)\u001b[0m\u001b[32m.'\u001b[0m,\n",
       "\u001b[2;32m│   │   \u001b[0m\u001b[32m'Chọn ngẫu nhiên 2-3 nhóm trình bày nhanh \u001b[0m\u001b[32m(\u001b[0m\u001b[32mmỗi nhóm tối đa 1 phút\u001b[0m\u001b[32m)\u001b[0m\u001b[32m.'\u001b[0m,\n",
       "\u001b[2;32m│   │   \u001b[0m\u001b[32m'Tổng kết các ý chính, nhấn mạnh các điểm quan trọng và sửa chữa các hiểu lầm \u001b[0m\u001b[32m(\u001b[0m\u001b[32mnếu có\u001b[0m\u001b[32m)\u001b[0m\u001b[32m.'\u001b[0m\n",
       "\u001b[2;32m│   \u001b[0m\u001b[1m]\u001b[0m,\n",
       "\u001b[2;32m│   \u001b[0m\u001b[32m'core_component'\u001b[0m: \u001b[32m'Học sinh làm việc theo nhóm \u001b[0m\u001b[32m(\u001b[0m\u001b[32m4-5 người\u001b[0m\u001b[32m)\u001b[0m\u001b[32m. Mỗi nhóm sẽ được giao một tình huống/vấn đề cụ thể liên quan đến nội dung bài học. Nhiệm vụ của nhóm là: 1. Vận dụng kiến thức đã học để phân tích tình huống/vấn đề. 2. Đề xuất 1 giải pháp/sản phẩm/kết luận chính \u001b[0m\u001b[32m(\u001b[0m\u001b[32mtùy theo môn học\u001b[0m\u001b[32m)\u001b[0m\u001b[32m để giải quyết tình huống/vấn đề đó. 3. Chuẩn bị trình bày ngắn gọn \u001b[0m\u001b[32m(\u001b[0m\u001b[32mtối đa 1 phút\u001b[0m\u001b[32m)\u001b[0m\u001b[32m về giải pháp/kết luận của nhóm và lý do lựa chọn.'\u001b[0m,\n",
       "\u001b[2;32m│   \u001b[0m\u001b[32m'extension_component'\u001b[0m: \u001b[32m'Nếu còn thời gian, các nhóm có thể: 1. Suy nghĩ về những thách thức có thể gặp phải khi triển khai giải pháp của mình và cách khắc phục. 2. Chuẩn bị một câu hỏi phản biện cho nhóm khác.'\u001b[0m,\n",
       "\u001b[2;32m│   \u001b[0m\u001b[32m'solution_guide'\u001b[0m: \u001b[32m\"Các tiêu chí đánh giá sản phẩm/giải pháp: Tính hợp lý, khả thi; Sự vận dụng kiến thức đã học; Khả năng trình bày rõ ràng, mạch lạc. Gợi ý các câu hỏi để định hướng thảo luận: 'Vấn đề chính là gì?', 'Kiến thức nào có thể áp dụng?', 'Giải pháp của bạn là gì và tại sao nó hiệu quả?'\"\u001b[0m,\n",
       "\u001b[2;32m│   \u001b[0m\u001b[32m'differentiation'\u001b[0m: \u001b[1m{\u001b[0m\n",
       "\u001b[2;32m│   │   \u001b[0m\u001b[32m'for_struggling_students'\u001b[0m: \u001b[32m'Cung cấp các câu hỏi gợi ý cụ thể hơn hoặc ví dụ minh họa để định hướng suy nghĩ. Có thể cho phép các em tập trung vào một khía cạnh nhỏ hơn của vấn đề.'\u001b[0m,\n",
       "\u001b[2;32m│   │   \u001b[0m\u001b[32m'for_advanced_students'\u001b[0m: \u001b[32m'Khuyến khích các em phân tích sâu hơn về các yếu tố ảnh hưởng, đề xuất nhiều giải pháp thay thế hoặc liên hệ với các vấn đề thực tiễn phức tạp hơn.'\u001b[0m\n",
       "\u001b[2;32m│   \u001b[0m\u001b[1m}\u001b[0m,\n",
       "\u001b[2;32m│   \u001b[0m\u001b[32m'question_or_description'\u001b[0m: \u001b[32m'**Phần Cốt lõi:**\\nHọc sinh làm việc theo nhóm \u001b[0m\u001b[32m(\u001b[0m\u001b[32m4-5 người\u001b[0m\u001b[32m)\u001b[0m\u001b[32m. Mỗi nhóm sẽ được giao một tình huống/vấn đề cụ thể liên quan đến nội dung bài học. Nhiệm vụ của nhóm là: 1. Vận dụng kiến thức đã học để phân tích tình huống/vấn đề. 2. Đề xuất 1 giải pháp/sản phẩm/kết luận chính \u001b[0m\u001b[32m(\u001b[0m\u001b[32mtùy theo môn học\u001b[0m\u001b[32m)\u001b[0m\u001b[32m để giải quyết tình huống/vấn đề đó. 3. Chuẩn bị trình bày ngắn gọn \u001b[0m\u001b[32m(\u001b[0m\u001b[32mtối đa 1 phút\u001b[0m\u001b[32m)\u001b[0m\u001b[32m về giải pháp/kết luận của nhóm và lý do lựa chọn.\\n\\n**Phần Mở rộng \u001b[0m\u001b[32m(\u001b[0m\u001b[32mnếu còn thời gian\u001b[0m\u001b[32m)\u001b[0m\u001b[32m:**\\nNếu còn thời gian, các nhóm có thể: 1. Suy nghĩ về những thách thức có thể gặp phải khi triển khai giải pháp của mình và cách khắc phục. 2. Chuẩn bị một câu hỏi phản biện cho nhóm khác.'\u001b[0m\n",
       "\u001b[1m}\u001b[0m\n"
      ]
     },
     "metadata": {},
     "output_type": "display_data"
    },
    {
     "data": {
      "text/html": [
       "<pre style=\"white-space:pre;overflow-x:auto;line-height:normal;font-family:Menlo,'DejaVu Sans Mono',consolas,'Courier New',monospace\">\n",
       "<span style=\"color: #808000; text-decoration-color: #808000; font-weight: bold\">------- Hoàn thành bước: activity_designer -------</span>\n",
       "</pre>\n"
      ],
      "text/plain": [
       "\n",
       "\u001b[1;33m------- Hoàn thành bước: activity_designer -------\u001b[0m\n"
      ]
     },
     "metadata": {},
     "output_type": "display_data"
    },
    {
     "data": {
      "text/html": [
       "<pre style=\"white-space:pre;overflow-x:auto;line-height:normal;font-family:Menlo,'DejaVu Sans Mono',consolas,'Courier New',monospace\">\n",
       "<span style=\"color: #008080; text-decoration-color: #008080; font-weight: bold\">&gt;</span> `Agent: Guardian Critic` <span style=\"font-weight: bold\">(</span>v10.<span style=\"color: #008080; text-decoration-color: #008080; font-weight: bold\">0</span><span style=\"font-weight: bold\">)</span> đang bảo vệ kế hoạch<span style=\"color: #808000; text-decoration-color: #808000\">...</span>\n",
       "</pre>\n"
      ],
      "text/plain": [
       "\n",
       "\u001b[1;36m>\u001b[0m `Agent: Guardian Critic` \u001b[1m(\u001b[0mv10.\u001b[1;36m0\u001b[0m\u001b[1m)\u001b[0m đang bảo vệ kế hoạch\u001b[33m...\u001b[0m\n"
      ]
     },
     "metadata": {},
     "output_type": "display_data"
    },
    {
     "data": {
      "text/html": [
       "<pre style=\"white-space:pre;overflow-x:auto;line-height:normal;font-family:Menlo,'DejaVu Sans Mono',consolas,'Courier New',monospace\"><span style=\"color: #808000; text-decoration-color: #808000; font-weight: bold\">⚠️  GUARDIAN PHẢN BIỆN: Hoạt động này có cấu trúc tốt và phù hợp về mặt sư phạm. Tuy nhiên, với thời lượng </span><span style=\"color: #808000; text-decoration-color: #808000; font-weight: bold\">30</span><span style=\"color: #808000; text-decoration-color: #808000; font-weight: bold\"> phút,</span>\n",
       "<span style=\"color: #808000; text-decoration-color: #808000; font-weight: bold\">việc yêu cầu học sinh </span><span style=\"color: #808000; text-decoration-color: #808000; font-weight: bold\">'vận dụng kiến thức để phân tích tình huống, đề xuất giải pháp và chuẩn bị trình bày'</span><span style=\"color: #808000; text-decoration-color: #808000; font-weight: bold\"> trong </span>\n",
       "<span style=\"color: #808000; text-decoration-color: #808000; font-weight: bold\">nhóm, sau đó trình bày và giáo viên tổng kết là quá nhiều bước và quá sâu. Thời gian thực tế để hoàn thành đầy đủ </span>\n",
       "<span style=\"color: #808000; text-decoration-color: #808000; font-weight: bold\">các bước này có thể vượt quá </span><span style=\"color: #808000; text-decoration-color: #808000; font-weight: bold\">30</span><span style=\"color: #808000; text-decoration-color: #808000; font-weight: bold\"> phút, đặc biệt là phần thảo luận và chuẩn bị của học sinh. Hãy thiết kế lại một </span>\n",
       "<span style=\"color: #808000; text-decoration-color: #808000; font-weight: bold\">phiên bản hoạt động đơn giản hơn, ít bước hơn để khớp với thời gian </span><span style=\"color: #808000; text-decoration-color: #808000; font-weight: bold\">30</span><span style=\"color: #808000; text-decoration-color: #808000; font-weight: bold\"> phút đã cho.</span>\n",
       "</pre>\n"
      ],
      "text/plain": [
       "\u001b[1;33m⚠️  GUARDIAN PHẢN BIỆN: Hoạt động này có cấu trúc tốt và phù hợp về mặt sư phạm. Tuy nhiên, với thời lượng \u001b[0m\u001b[1;33m30\u001b[0m\u001b[1;33m phút,\u001b[0m\n",
       "\u001b[1;33mviệc yêu cầu học sinh \u001b[0m\u001b[1;33m'vận dụng kiến thức để phân tích tình huống, đề xuất giải pháp và chuẩn bị trình bày'\u001b[0m\u001b[1;33m trong \u001b[0m\n",
       "\u001b[1;33mnhóm, sau đó trình bày và giáo viên tổng kết là quá nhiều bước và quá sâu. Thời gian thực tế để hoàn thành đầy đủ \u001b[0m\n",
       "\u001b[1;33mcác bước này có thể vượt quá \u001b[0m\u001b[1;33m30\u001b[0m\u001b[1;33m phút, đặc biệt là phần thảo luận và chuẩn bị của học sinh. Hãy thiết kế lại một \u001b[0m\n",
       "\u001b[1;33mphiên bản hoạt động đơn giản hơn, ít bước hơn để khớp với thời gian \u001b[0m\u001b[1;33m30\u001b[0m\u001b[1;33m phút đã cho.\u001b[0m\n"
      ]
     },
     "metadata": {},
     "output_type": "display_data"
    },
    {
     "data": {
      "text/html": [
       "<pre style=\"white-space:pre;overflow-x:auto;line-height:normal;font-family:Menlo,'DejaVu Sans Mono',consolas,'Courier New',monospace\">\n",
       "<span style=\"color: #808000; text-decoration-color: #808000; font-weight: bold\">------- Hoàn thành bước: content_validator -------</span>\n",
       "</pre>\n"
      ],
      "text/plain": [
       "\n",
       "\u001b[1;33m------- Hoàn thành bước: content_validator -------\u001b[0m\n"
      ]
     },
     "metadata": {},
     "output_type": "display_data"
    },
    {
     "data": {
      "text/html": [
       "<pre style=\"white-space:pre;overflow-x:auto;line-height:normal;font-family:Menlo,'DejaVu Sans Mono',consolas,'Courier New',monospace\">\n",
       "<span style=\"color: #008080; text-decoration-color: #008080; font-weight: bold\">&gt;</span> `Agent: Task Dispatcher` đang giao việc<span style=\"color: #808000; text-decoration-color: #808000\">...</span>\n",
       "</pre>\n"
      ],
      "text/plain": [
       "\n",
       "\u001b[1;36m>\u001b[0m `Agent: Task Dispatcher` đang giao việc\u001b[33m...\u001b[0m\n"
      ]
     },
     "metadata": {},
     "output_type": "display_data"
    },
    {
     "data": {
      "text/html": [
       "<pre style=\"white-space:pre;overflow-x:auto;line-height:normal;font-family:Menlo,'DejaVu Sans Mono',consolas,'Courier New',monospace\">\n",
       "<span style=\"color: #008080; text-decoration-color: #008080; font-weight: bold\">&gt;</span> --- 🚚 `Dispatcher`: Giao nhiệm vụ cho `activity_designer`.\n",
       "</pre>\n"
      ],
      "text/plain": [
       "\n",
       "\u001b[1;36m>\u001b[0m --- 🚚 `Dispatcher`: Giao nhiệm vụ cho `activity_designer`.\n"
      ]
     },
     "metadata": {},
     "output_type": "display_data"
    },
    {
     "data": {
      "text/html": [
       "<pre style=\"white-space:pre;overflow-x:auto;line-height:normal;font-family:Menlo,'DejaVu Sans Mono',consolas,'Courier New',monospace\">\n",
       "<span style=\"color: #808000; text-decoration-color: #808000; font-weight: bold\">------- Hoàn thành bước: task_dispatcher -------</span>\n",
       "</pre>\n"
      ],
      "text/plain": [
       "\n",
       "\u001b[1;33m------- Hoàn thành bước: task_dispatcher -------\u001b[0m\n"
      ]
     },
     "metadata": {},
     "output_type": "display_data"
    },
    {
     "data": {
      "text/html": [
       "<pre style=\"white-space:pre;overflow-x:auto;line-height:normal;font-family:Menlo,'DejaVu Sans Mono',consolas,'Courier New',monospace\">\n",
       "<span style=\"color: #008080; text-decoration-color: #008080; font-weight: bold\">&gt;</span> `Agent: Activity Designer` <span style=\"font-weight: bold\">(</span>v10.<span style=\"color: #008080; text-decoration-color: #008080; font-weight: bold\">0</span><span style=\"font-weight: bold\">)</span> đang tạo nội dung theo kỷ luật<span style=\"color: #808000; text-decoration-color: #808000\">...</span>\n",
       "</pre>\n"
      ],
      "text/plain": [
       "\n",
       "\u001b[1;36m>\u001b[0m `Agent: Activity Designer` \u001b[1m(\u001b[0mv10.\u001b[1;36m0\u001b[0m\u001b[1m)\u001b[0m đang tạo nội dung theo kỷ luật\u001b[33m...\u001b[0m\n"
      ]
     },
     "metadata": {},
     "output_type": "display_data"
    },
    {
     "data": {
      "text/html": [
       "<pre style=\"white-space:pre;overflow-x:auto;line-height:normal;font-family:Menlo,'DejaVu Sans Mono',consolas,'Courier New',monospace\"><span style=\"color: #008000; text-decoration-color: #008000; font-weight: bold\">✔️ Nội dung do Activity Designer tạo ra:</span>\n",
       "</pre>\n"
      ],
      "text/plain": [
       "\u001b[1;32m✔️ Nội dung do Activity Designer tạo ra:\u001b[0m\n"
      ]
     },
     "metadata": {},
     "output_type": "display_data"
    },
    {
     "data": {
      "text/html": [
       "<pre style=\"white-space:pre;overflow-x:auto;line-height:normal;font-family:Menlo,'DejaVu Sans Mono',consolas,'Courier New',monospace\"><span style=\"font-weight: bold\">{</span>\n",
       "<span style=\"color: #7fbf7f; text-decoration-color: #7fbf7f\">│   </span><span style=\"color: #008000; text-decoration-color: #008000\">'activity_name'</span>: <span style=\"color: #008000; text-decoration-color: #008000\">'Vận dụng và Trình bày sản phẩm'</span>,\n",
       "<span style=\"color: #7fbf7f; text-decoration-color: #7fbf7f\">│   </span><span style=\"color: #008000; text-decoration-color: #008000\">'activity_type'</span>: <span style=\"color: #008000; text-decoration-color: #008000\">'Thảo luận nhóm và Trình bày'</span>,\n",
       "<span style=\"color: #7fbf7f; text-decoration-color: #7fbf7f\">│   </span><span style=\"color: #008000; text-decoration-color: #008000\">'duration_minutes'</span>: <span style=\"color: #008080; text-decoration-color: #008080; font-weight: bold\">30</span>,\n",
       "<span style=\"color: #7fbf7f; text-decoration-color: #7fbf7f\">│   </span><span style=\"color: #008000; text-decoration-color: #008000\">'teacher_actions'</span>: <span style=\"font-weight: bold\">[</span>\n",
       "<span style=\"color: #7fbf7f; text-decoration-color: #7fbf7f\">│   │   </span><span style=\"color: #008000; text-decoration-color: #008000\">'Giới thiệu tình huống/vấn đề cần giải quyết và yêu cầu nhiệm vụ, nhấn mạnh thời gian giới hạn.'</span>,\n",
       "<span style=\"color: #7fbf7f; text-decoration-color: #7fbf7f\">│   │   </span><span style=\"color: #008000; text-decoration-color: #008000\">'Chia nhóm học sinh (nếu chưa có) và phân phát tài liệu (nếu có).'</span>,\n",
       "<span style=\"color: #7fbf7f; text-decoration-color: #7fbf7f\">│   │   </span><span style=\"color: #008000; text-decoration-color: #008000\">'Quan sát, lắng nghe các nhóm thảo luận, gợi ý khi cần thiết để giữ các nhóm đi đúng hướng và tập trung vào giải pháp ngắn gọn.'</span>,\n",
       "<span style=\"color: #7fbf7f; text-decoration-color: #7fbf7f\">│   │   </span><span style=\"color: #008000; text-decoration-color: #008000\">'Mời 1-2 nhóm đại diện trình bày ngắn gọn giải pháp của mình (mỗi nhóm không quá 2 phút).'</span>,\n",
       "<span style=\"color: #7fbf7f; text-decoration-color: #7fbf7f\">│   │   </span><span style=\"color: #008000; text-decoration-color: #008000\">'Tổng kết các ý chính, bổ sung và chốt lại kiến thức/giải pháp hiệu quả trong thời gian còn lại.'</span>\n",
       "<span style=\"color: #7fbf7f; text-decoration-color: #7fbf7f\">│   </span><span style=\"font-weight: bold\">]</span>,\n",
       "<span style=\"color: #7fbf7f; text-decoration-color: #7fbf7f\">│   </span><span style=\"color: #008000; text-decoration-color: #008000\">'core_component'</span>: <span style=\"color: #008000; text-decoration-color: #008000\">'Học sinh làm việc theo nhóm (3-4 người). Mỗi nhóm sẽ được cung cấp một tình huống/vấn đề cụ thể, đơn giản (ví dụ: một vấn đề nhỏ trong trường học, một tình huống ứng dụng kiến thức vừa học). Nhiệm vụ của nhóm là: 1. Đọc và hiểu rõ tình huống. 2. Thảo luận nhanh để xác định vấn đề cốt lõi và đề xuất 1-2 giải pháp khả thi, ngắn gọn nhất. 3. Chuẩn bị trình bày miệng giải pháp của nhóm trong vòng 1-2 phút trước lớp.'</span>,\n",
       "<span style=\"color: #7fbf7f; text-decoration-color: #7fbf7f\">│   </span><span style=\"color: #008000; text-decoration-color: #008000\">'extension_component'</span>: <span style=\"color: #008000; text-decoration-color: #008000\">'Nếu hoàn thành sớm, các nhóm có thể: 1. Suy nghĩ về các rủi ro hoặc thách thức khi thực hiện giải pháp đã đề xuất và cách khắc phục. 2. Chuẩn bị thêm một câu hỏi phản biện ngắn gọn cho nhóm khác. 3. Tìm kiếm thêm một giải pháp thay thế khác.'</span>,\n",
       "<span style=\"color: #7fbf7f; text-decoration-color: #7fbf7f\">│   </span><span style=\"color: #008000; text-decoration-color: #008000\">'solution_guide'</span>: <span style=\"color: #008000; text-decoration-color: #008000\">\"Giáo viên cần chuẩn bị sẵn một vài tình huống/vấn đề mẫu với các mức độ phức tạp khác nhau, đảm bảo chúng đủ đơn giản để học sinh có thể nhanh chóng nắm bắt và đề xuất giải pháp trong thời gian ngắn. Đối với mỗi tình huống, cần có các gợi ý về giải pháp khả thi hoặc các khía cạnh cần xem xét để hướng dẫn học sinh nếu cần. Ví dụ: Tình huống 'Vấn đề rác thải trong lớp học' - Gợi ý giải pháp: 'Phân công trực nhật rõ ràng', 'Tổ chức thi đua giữ gìn vệ sinh', 'Tuyên truyền ý thức', 'Đặt thêm thùng rác'.\"</span>,\n",
       "<span style=\"color: #7fbf7f; text-decoration-color: #7fbf7f\">│   </span><span style=\"color: #008000; text-decoration-color: #008000\">'differentiation'</span>: <span style=\"font-weight: bold\">{</span>\n",
       "<span style=\"color: #7fbf7f; text-decoration-color: #7fbf7f\">│   │   </span><span style=\"color: #008000; text-decoration-color: #008000\">'for_struggling_students'</span>: <span style=\"color: #008000; text-decoration-color: #008000\">'Giáo viên có thể cung cấp các câu hỏi gợi ý cụ thể hơn cho nhóm, hoặc gợi ý các từ khóa, khái niệm liên quan để hỗ trợ quá trình thảo luận. Có thể cho các nhóm này một tình huống đơn giản hơn hoặc ít yếu tố hơn để dễ dàng xác định vấn đề và giải pháp.'</span>,\n",
       "<span style=\"color: #7fbf7f; text-decoration-color: #7fbf7f\">│   │   </span><span style=\"color: #008000; text-decoration-color: #008000\">'for_advanced_students'</span>: <span style=\"color: #008000; text-decoration-color: #008000\">'Khuyến khích các nhóm này phân tích sâu hơn về nguyên nhân gốc rễ của vấn đề, đề xuất các giải pháp sáng tạo, đột phá hoặc có tính bền vững cao hơn. Yêu cầu các em chuẩn bị thêm phần lập luận bảo vệ giải pháp của mình một cách ngắn gọn.'</span>\n",
       "<span style=\"color: #7fbf7f; text-decoration-color: #7fbf7f\">│   </span><span style=\"font-weight: bold\">}</span>,\n",
       "<span style=\"color: #7fbf7f; text-decoration-color: #7fbf7f\">│   </span><span style=\"color: #008000; text-decoration-color: #008000\">'question_or_description'</span>: <span style=\"color: #008000; text-decoration-color: #008000\">'**Phần Cốt lõi:**\\nHọc sinh làm việc theo nhóm (3-4 người). Mỗi nhóm sẽ được cung cấp một tình huống/vấn đề cụ thể, đơn giản (ví dụ: một vấn đề nhỏ trong trường học, một tình huống ứng dụng kiến thức vừa học). Nhiệm vụ của nhóm là: 1. Đọc và hiểu rõ tình huống. 2. Thảo luận nhanh để xác định vấn đề cốt lõi và đề xuất 1-2 giải pháp khả thi, ngắn gọn nhất. 3. Chuẩn bị trình bày miệng giải pháp của nhóm trong vòng 1-2 phút trước lớp.\\n\\n**Phần Mở rộng (nếu còn thời gian):**\\nNếu hoàn thành sớm, các nhóm có thể: 1. Suy nghĩ về các rủi ro hoặc thách thức khi thực hiện giải pháp đã đề xuất và cách khắc phục. 2. Chuẩn bị thêm một câu hỏi phản biện ngắn gọn cho nhóm khác. 3. Tìm kiếm thêm một giải pháp thay thế khác.'</span>\n",
       "<span style=\"font-weight: bold\">}</span>\n",
       "</pre>\n"
      ],
      "text/plain": [
       "\u001b[1m{\u001b[0m\n",
       "\u001b[2;32m│   \u001b[0m\u001b[32m'activity_name'\u001b[0m: \u001b[32m'Vận dụng và Trình bày sản phẩm'\u001b[0m,\n",
       "\u001b[2;32m│   \u001b[0m\u001b[32m'activity_type'\u001b[0m: \u001b[32m'Thảo luận nhóm và Trình bày'\u001b[0m,\n",
       "\u001b[2;32m│   \u001b[0m\u001b[32m'duration_minutes'\u001b[0m: \u001b[1;36m30\u001b[0m,\n",
       "\u001b[2;32m│   \u001b[0m\u001b[32m'teacher_actions'\u001b[0m: \u001b[1m[\u001b[0m\n",
       "\u001b[2;32m│   │   \u001b[0m\u001b[32m'Giới thiệu tình huống/vấn đề cần giải quyết và yêu cầu nhiệm vụ, nhấn mạnh thời gian giới hạn.'\u001b[0m,\n",
       "\u001b[2;32m│   │   \u001b[0m\u001b[32m'Chia nhóm học sinh \u001b[0m\u001b[32m(\u001b[0m\u001b[32mnếu chưa có\u001b[0m\u001b[32m)\u001b[0m\u001b[32m và phân phát tài liệu \u001b[0m\u001b[32m(\u001b[0m\u001b[32mnếu có\u001b[0m\u001b[32m)\u001b[0m\u001b[32m.'\u001b[0m,\n",
       "\u001b[2;32m│   │   \u001b[0m\u001b[32m'Quan sát, lắng nghe các nhóm thảo luận, gợi ý khi cần thiết để giữ các nhóm đi đúng hướng và tập trung vào giải pháp ngắn gọn.'\u001b[0m,\n",
       "\u001b[2;32m│   │   \u001b[0m\u001b[32m'Mời 1-2 nhóm đại diện trình bày ngắn gọn giải pháp của mình \u001b[0m\u001b[32m(\u001b[0m\u001b[32mmỗi nhóm không quá 2 phút\u001b[0m\u001b[32m)\u001b[0m\u001b[32m.'\u001b[0m,\n",
       "\u001b[2;32m│   │   \u001b[0m\u001b[32m'Tổng kết các ý chính, bổ sung và chốt lại kiến thức/giải pháp hiệu quả trong thời gian còn lại.'\u001b[0m\n",
       "\u001b[2;32m│   \u001b[0m\u001b[1m]\u001b[0m,\n",
       "\u001b[2;32m│   \u001b[0m\u001b[32m'core_component'\u001b[0m: \u001b[32m'Học sinh làm việc theo nhóm \u001b[0m\u001b[32m(\u001b[0m\u001b[32m3-4 người\u001b[0m\u001b[32m)\u001b[0m\u001b[32m. Mỗi nhóm sẽ được cung cấp một tình huống/vấn đề cụ thể, đơn giản \u001b[0m\u001b[32m(\u001b[0m\u001b[32mví dụ: một vấn đề nhỏ trong trường học, một tình huống ứng dụng kiến thức vừa học\u001b[0m\u001b[32m)\u001b[0m\u001b[32m. Nhiệm vụ của nhóm là: 1. Đọc và hiểu rõ tình huống. 2. Thảo luận nhanh để xác định vấn đề cốt lõi và đề xuất 1-2 giải pháp khả thi, ngắn gọn nhất. 3. Chuẩn bị trình bày miệng giải pháp của nhóm trong vòng 1-2 phút trước lớp.'\u001b[0m,\n",
       "\u001b[2;32m│   \u001b[0m\u001b[32m'extension_component'\u001b[0m: \u001b[32m'Nếu hoàn thành sớm, các nhóm có thể: 1. Suy nghĩ về các rủi ro hoặc thách thức khi thực hiện giải pháp đã đề xuất và cách khắc phục. 2. Chuẩn bị thêm một câu hỏi phản biện ngắn gọn cho nhóm khác. 3. Tìm kiếm thêm một giải pháp thay thế khác.'\u001b[0m,\n",
       "\u001b[2;32m│   \u001b[0m\u001b[32m'solution_guide'\u001b[0m: \u001b[32m\"Giáo viên cần chuẩn bị sẵn một vài tình huống/vấn đề mẫu với các mức độ phức tạp khác nhau, đảm bảo chúng đủ đơn giản để học sinh có thể nhanh chóng nắm bắt và đề xuất giải pháp trong thời gian ngắn. Đối với mỗi tình huống, cần có các gợi ý về giải pháp khả thi hoặc các khía cạnh cần xem xét để hướng dẫn học sinh nếu cần. Ví dụ: Tình huống 'Vấn đề rác thải trong lớp học' - Gợi ý giải pháp: 'Phân công trực nhật rõ ràng', 'Tổ chức thi đua giữ gìn vệ sinh', 'Tuyên truyền ý thức', 'Đặt thêm thùng rác'.\"\u001b[0m,\n",
       "\u001b[2;32m│   \u001b[0m\u001b[32m'differentiation'\u001b[0m: \u001b[1m{\u001b[0m\n",
       "\u001b[2;32m│   │   \u001b[0m\u001b[32m'for_struggling_students'\u001b[0m: \u001b[32m'Giáo viên có thể cung cấp các câu hỏi gợi ý cụ thể hơn cho nhóm, hoặc gợi ý các từ khóa, khái niệm liên quan để hỗ trợ quá trình thảo luận. Có thể cho các nhóm này một tình huống đơn giản hơn hoặc ít yếu tố hơn để dễ dàng xác định vấn đề và giải pháp.'\u001b[0m,\n",
       "\u001b[2;32m│   │   \u001b[0m\u001b[32m'for_advanced_students'\u001b[0m: \u001b[32m'Khuyến khích các nhóm này phân tích sâu hơn về nguyên nhân gốc rễ của vấn đề, đề xuất các giải pháp sáng tạo, đột phá hoặc có tính bền vững cao hơn. Yêu cầu các em chuẩn bị thêm phần lập luận bảo vệ giải pháp của mình một cách ngắn gọn.'\u001b[0m\n",
       "\u001b[2;32m│   \u001b[0m\u001b[1m}\u001b[0m,\n",
       "\u001b[2;32m│   \u001b[0m\u001b[32m'question_or_description'\u001b[0m: \u001b[32m'**Phần Cốt lõi:**\\nHọc sinh làm việc theo nhóm \u001b[0m\u001b[32m(\u001b[0m\u001b[32m3-4 người\u001b[0m\u001b[32m)\u001b[0m\u001b[32m. Mỗi nhóm sẽ được cung cấp một tình huống/vấn đề cụ thể, đơn giản \u001b[0m\u001b[32m(\u001b[0m\u001b[32mví dụ: một vấn đề nhỏ trong trường học, một tình huống ứng dụng kiến thức vừa học\u001b[0m\u001b[32m)\u001b[0m\u001b[32m. Nhiệm vụ của nhóm là: 1. Đọc và hiểu rõ tình huống. 2. Thảo luận nhanh để xác định vấn đề cốt lõi và đề xuất 1-2 giải pháp khả thi, ngắn gọn nhất. 3. Chuẩn bị trình bày miệng giải pháp của nhóm trong vòng 1-2 phút trước lớp.\\n\\n**Phần Mở rộng \u001b[0m\u001b[32m(\u001b[0m\u001b[32mnếu còn thời gian\u001b[0m\u001b[32m)\u001b[0m\u001b[32m:**\\nNếu hoàn thành sớm, các nhóm có thể: 1. Suy nghĩ về các rủi ro hoặc thách thức khi thực hiện giải pháp đã đề xuất và cách khắc phục. 2. Chuẩn bị thêm một câu hỏi phản biện ngắn gọn cho nhóm khác. 3. Tìm kiếm thêm một giải pháp thay thế khác.'\u001b[0m\n",
       "\u001b[1m}\u001b[0m\n"
      ]
     },
     "metadata": {},
     "output_type": "display_data"
    },
    {
     "data": {
      "text/html": [
       "<pre style=\"white-space:pre;overflow-x:auto;line-height:normal;font-family:Menlo,'DejaVu Sans Mono',consolas,'Courier New',monospace\">\n",
       "<span style=\"color: #808000; text-decoration-color: #808000; font-weight: bold\">------- Hoàn thành bước: activity_designer -------</span>\n",
       "</pre>\n"
      ],
      "text/plain": [
       "\n",
       "\u001b[1;33m------- Hoàn thành bước: activity_designer -------\u001b[0m\n"
      ]
     },
     "metadata": {},
     "output_type": "display_data"
    },
    {
     "data": {
      "text/html": [
       "<pre style=\"white-space:pre;overflow-x:auto;line-height:normal;font-family:Menlo,'DejaVu Sans Mono',consolas,'Courier New',monospace\">\n",
       "<span style=\"color: #008080; text-decoration-color: #008080; font-weight: bold\">&gt;</span> `Agent: Guardian Critic` <span style=\"font-weight: bold\">(</span>v10.<span style=\"color: #008080; text-decoration-color: #008080; font-weight: bold\">0</span><span style=\"font-weight: bold\">)</span> đang bảo vệ kế hoạch<span style=\"color: #808000; text-decoration-color: #808000\">...</span>\n",
       "</pre>\n"
      ],
      "text/plain": [
       "\n",
       "\u001b[1;36m>\u001b[0m `Agent: Guardian Critic` \u001b[1m(\u001b[0mv10.\u001b[1;36m0\u001b[0m\u001b[1m)\u001b[0m đang bảo vệ kế hoạch\u001b[33m...\u001b[0m\n"
      ]
     },
     "metadata": {},
     "output_type": "display_data"
    },
    {
     "data": {
      "text/html": [
       "<pre style=\"white-space:pre;overflow-x:auto;line-height:normal;font-family:Menlo,'DejaVu Sans Mono',consolas,'Courier New',monospace\"><span style=\"color: #808000; text-decoration-color: #808000; font-weight: bold\">⚠️  GUARDIAN PHẢN BIỆN: Nội dung hoạt động này khá chi tiết và có nhiều bước, có thể sẽ khó hoàn thành trọn vẹn </span>\n",
       "<span style=\"color: #808000; text-decoration-color: #808000; font-weight: bold\">trong thời lượng </span><span style=\"color: #808000; text-decoration-color: #808000; font-weight: bold\">30</span><span style=\"color: #808000; text-decoration-color: #808000; font-weight: bold\"> phút đã cho, đặc biệt là phần học sinh thảo luận nhóm, xác định vấn đề, đề xuất giải pháp và </span>\n",
       "<span style=\"color: #808000; text-decoration-color: #808000; font-weight: bold\">chuẩn bị trình bày. Để đảm bảo chất lượng và thời gian, hãy thiết kế lại một phiên bản hoạt động đơn giản hơn, ít </span>\n",
       "<span style=\"color: #808000; text-decoration-color: #808000; font-weight: bold\">bước hơn để khớp với thời gian </span><span style=\"color: #808000; text-decoration-color: #808000; font-weight: bold\">30</span><span style=\"color: #808000; text-decoration-color: #808000; font-weight: bold\"> phút đã cho.</span>\n",
       "</pre>\n"
      ],
      "text/plain": [
       "\u001b[1;33m⚠️  GUARDIAN PHẢN BIỆN: Nội dung hoạt động này khá chi tiết và có nhiều bước, có thể sẽ khó hoàn thành trọn vẹn \u001b[0m\n",
       "\u001b[1;33mtrong thời lượng \u001b[0m\u001b[1;33m30\u001b[0m\u001b[1;33m phút đã cho, đặc biệt là phần học sinh thảo luận nhóm, xác định vấn đề, đề xuất giải pháp và \u001b[0m\n",
       "\u001b[1;33mchuẩn bị trình bày. Để đảm bảo chất lượng và thời gian, hãy thiết kế lại một phiên bản hoạt động đơn giản hơn, ít \u001b[0m\n",
       "\u001b[1;33mbước hơn để khớp với thời gian \u001b[0m\u001b[1;33m30\u001b[0m\u001b[1;33m phút đã cho.\u001b[0m\n"
      ]
     },
     "metadata": {},
     "output_type": "display_data"
    },
    {
     "data": {
      "text/html": [
       "<pre style=\"white-space:pre;overflow-x:auto;line-height:normal;font-family:Menlo,'DejaVu Sans Mono',consolas,'Courier New',monospace\">\n",
       "<span style=\"color: #808000; text-decoration-color: #808000; font-weight: bold\">------- Hoàn thành bước: content_validator -------</span>\n",
       "</pre>\n"
      ],
      "text/plain": [
       "\n",
       "\u001b[1;33m------- Hoàn thành bước: content_validator -------\u001b[0m\n"
      ]
     },
     "metadata": {},
     "output_type": "display_data"
    },
    {
     "data": {
      "text/html": [
       "<pre style=\"white-space:pre;overflow-x:auto;line-height:normal;font-family:Menlo,'DejaVu Sans Mono',consolas,'Courier New',monospace\">\n",
       "<span style=\"color: #008080; text-decoration-color: #008080; font-weight: bold\">&gt;</span> `Agent: Task Dispatcher` đang giao việc<span style=\"color: #808000; text-decoration-color: #808000\">...</span>\n",
       "</pre>\n"
      ],
      "text/plain": [
       "\n",
       "\u001b[1;36m>\u001b[0m `Agent: Task Dispatcher` đang giao việc\u001b[33m...\u001b[0m\n"
      ]
     },
     "metadata": {},
     "output_type": "display_data"
    },
    {
     "data": {
      "text/html": [
       "<pre style=\"white-space:pre;overflow-x:auto;line-height:normal;font-family:Menlo,'DejaVu Sans Mono',consolas,'Courier New',monospace\">\n",
       "<span style=\"color: #008080; text-decoration-color: #008080; font-weight: bold\">&gt;</span> --- 🚚 `Dispatcher`: Giao nhiệm vụ cho `activity_designer`.\n",
       "</pre>\n"
      ],
      "text/plain": [
       "\n",
       "\u001b[1;36m>\u001b[0m --- 🚚 `Dispatcher`: Giao nhiệm vụ cho `activity_designer`.\n"
      ]
     },
     "metadata": {},
     "output_type": "display_data"
    },
    {
     "data": {
      "text/html": [
       "<pre style=\"white-space:pre;overflow-x:auto;line-height:normal;font-family:Menlo,'DejaVu Sans Mono',consolas,'Courier New',monospace\">\n",
       "<span style=\"color: #808000; text-decoration-color: #808000; font-weight: bold\">------- Hoàn thành bước: task_dispatcher -------</span>\n",
       "</pre>\n"
      ],
      "text/plain": [
       "\n",
       "\u001b[1;33m------- Hoàn thành bước: task_dispatcher -------\u001b[0m\n"
      ]
     },
     "metadata": {},
     "output_type": "display_data"
    },
    {
     "data": {
      "text/html": [
       "<pre style=\"white-space:pre;overflow-x:auto;line-height:normal;font-family:Menlo,'DejaVu Sans Mono',consolas,'Courier New',monospace\">\n",
       "<span style=\"color: #008080; text-decoration-color: #008080; font-weight: bold\">&gt;</span> `Agent: Activity Designer` <span style=\"font-weight: bold\">(</span>v10.<span style=\"color: #008080; text-decoration-color: #008080; font-weight: bold\">0</span><span style=\"font-weight: bold\">)</span> đang tạo nội dung theo kỷ luật<span style=\"color: #808000; text-decoration-color: #808000\">...</span>\n",
       "</pre>\n"
      ],
      "text/plain": [
       "\n",
       "\u001b[1;36m>\u001b[0m `Agent: Activity Designer` \u001b[1m(\u001b[0mv10.\u001b[1;36m0\u001b[0m\u001b[1m)\u001b[0m đang tạo nội dung theo kỷ luật\u001b[33m...\u001b[0m\n"
      ]
     },
     "metadata": {},
     "output_type": "display_data"
    },
    {
     "data": {
      "text/html": [
       "<pre style=\"white-space:pre;overflow-x:auto;line-height:normal;font-family:Menlo,'DejaVu Sans Mono',consolas,'Courier New',monospace\"><span style=\"color: #008000; text-decoration-color: #008000; font-weight: bold\">✔️ Nội dung do Activity Designer tạo ra:</span>\n",
       "</pre>\n"
      ],
      "text/plain": [
       "\u001b[1;32m✔️ Nội dung do Activity Designer tạo ra:\u001b[0m\n"
      ]
     },
     "metadata": {},
     "output_type": "display_data"
    },
    {
     "data": {
      "text/html": [
       "<pre style=\"white-space:pre;overflow-x:auto;line-height:normal;font-family:Menlo,'DejaVu Sans Mono',consolas,'Courier New',monospace\"><span style=\"font-weight: bold\">{</span>\n",
       "<span style=\"color: #7fbf7f; text-decoration-color: #7fbf7f\">│   </span><span style=\"color: #008000; text-decoration-color: #008000\">'activity_name'</span>: <span style=\"color: #008000; text-decoration-color: #008000\">'Vận dụng và Trình bày sản phẩm'</span>,\n",
       "<span style=\"color: #7fbf7f; text-decoration-color: #7fbf7f\">│   </span><span style=\"color: #008000; text-decoration-color: #008000\">'activity_type'</span>: <span style=\"color: #008000; text-decoration-color: #008000\">'Thảo luận nhóm và Trình bày'</span>,\n",
       "<span style=\"color: #7fbf7f; text-decoration-color: #7fbf7f\">│   </span><span style=\"color: #008000; text-decoration-color: #008000\">'duration_minutes'</span>: <span style=\"color: #008080; text-decoration-color: #008080; font-weight: bold\">30</span>,\n",
       "<span style=\"color: #7fbf7f; text-decoration-color: #7fbf7f\">│   </span><span style=\"color: #008000; text-decoration-color: #008000\">'teacher_actions'</span>: <span style=\"font-weight: bold\">[</span>\n",
       "<span style=\"color: #7fbf7f; text-decoration-color: #7fbf7f\">│   │   </span><span style=\"color: #008000; text-decoration-color: #008000\">'Giới thiệu nhiệm vụ và tình huống/vấn đề cụ thể cho học sinh (3 phút).'</span>,\n",
       "<span style=\"color: #7fbf7f; text-decoration-color: #7fbf7f\">│   │   </span><span style=\"color: #008000; text-decoration-color: #008000\">'Chia nhóm và hướng dẫn học sinh bắt đầu thảo luận.'</span>,\n",
       "<span style=\"color: #7fbf7f; text-decoration-color: #7fbf7f\">│   │   </span><span style=\"color: #008000; text-decoration-color: #008000\">\"Đi vòng quanh các nhóm, lắng nghe, gợi ý và hỗ trợ khi cần thiết (ví dụ: đặt câu hỏi gợi mở 'Tại sao các em chọn giải pháp này?', 'Giải pháp này có khả thi không?') (15 phút).\"</span>,\n",
       "<span style=\"color: #7fbf7f; text-decoration-color: #7fbf7f\">│   │   </span><span style=\"color: #008000; text-decoration-color: #008000\">'Quản lý thời gian thảo luận và trình bày.'</span>,\n",
       "<span style=\"color: #7fbf7f; text-decoration-color: #7fbf7f\">│   │   </span><span style=\"color: #008000; text-decoration-color: #008000\">'Mời đại diện các nhóm trình bày ngắn gọn (tối đa 1 phút/nhóm, chọn 3-4 nhóm tiêu biểu để trình bày hoặc mỗi nhóm chia sẻ 1 ý chính) (8 phút).'</span>,\n",
       "<span style=\"color: #7fbf7f; text-decoration-color: #7fbf7f\">│   │   </span><span style=\"color: #008000; text-decoration-color: #008000\">'Tổng hợp các ý tưởng, đưa ra nhận xét chung và khen ngợi các giải pháp sáng tạo (4 phút).'</span>\n",
       "<span style=\"color: #7fbf7f; text-decoration-color: #7fbf7f\">│   </span><span style=\"font-weight: bold\">]</span>,\n",
       "<span style=\"color: #7fbf7f; text-decoration-color: #7fbf7f\">│   </span><span style=\"color: #008000; text-decoration-color: #008000\">'core_component'</span>: <span style=\"color: #008000; text-decoration-color: #008000\">\"Học sinh làm việc theo nhóm (3-4 người). Giáo viên cung cấp một tình huống/vấn đề cụ thể, đơn giản (ví dụ: 'Làm thế nào để khuyến khích học sinh đọc sách nhiều hơn tại thư viện trường?'). Trong 15 phút, các nhóm thảo luận nhanh để đề xuất 1-2 giải pháp sáng tạo và khả thi nhất. Sau đó, mỗi nhóm cử đại diện trình bày ngắn gọn (tối đa 1 phút) về giải pháp của nhóm mình trước lớp.\"</span>,\n",
       "<span style=\"color: #7fbf7f; text-decoration-color: #7fbf7f\">│   </span><span style=\"color: #008000; text-decoration-color: #008000\">'extension_component'</span>: <span style=\"color: #008000; text-decoration-color: #008000\">'Nếu còn thời gian, các nhóm có thể: 1. Phát triển chi tiết hơn một giải pháp đã chọn, bổ sung các bước thực hiện cụ thể. 2. Chuẩn bị câu trả lời cho các câu hỏi phản biện từ giáo viên hoặc các nhóm khác.'</span>,\n",
       "<span style=\"color: #7fbf7f; text-decoration-color: #7fbf7f\">│   </span><span style=\"color: #008000; text-decoration-color: #008000\">'solution_guide'</span>: <span style=\"color: #008000; text-decoration-color: #008000\">'Gợi ý các câu hỏi để học sinh tự định hướng: 1. Vấn đề chính là gì? 2. Ai là đối tượng chịu ảnh hưởng? 3. Giải pháp của nhóm có gì mới mẻ/khác biệt? 4. Giải pháp này có khả thi không? Cần nguồn lực gì? 5. Kết quả mong đợi là gì?'</span>,\n",
       "<span style=\"color: #7fbf7f; text-decoration-color: #7fbf7f\">│   </span><span style=\"color: #008000; text-decoration-color: #008000\">'differentiation'</span>: <span style=\"font-weight: bold\">{</span>\n",
       "<span style=\"color: #7fbf7f; text-decoration-color: #7fbf7f\">│   │   </span><span style=\"color: #008000; text-decoration-color: #008000\">'for_struggling_students'</span>: <span style=\"color: #008000; text-decoration-color: #008000\">'Cung cấp các câu hỏi gợi ý cụ thể hơn hoặc các từ khóa liên quan đến vấn đề. Có thể cho phép các em tập trung vào việc xác định vấn đề và một ý tưởng giải pháp đơn giản nhất. Giáo viên có thể dành thêm thời gian hỗ trợ trực tiếp nhóm này.'</span>,\n",
       "<span style=\"color: #7fbf7f; text-decoration-color: #7fbf7f\">│   │   </span><span style=\"color: #008000; text-decoration-color: #008000\">'for_advanced_students'</span>: <span style=\"color: #008000; text-decoration-color: #008000\">'Yêu cầu các em không chỉ đề xuất giải pháp mà còn phải dự đoán các khó khăn khi thực hiện và cách khắc phục. Khuyến khích các em suy nghĩ về tính bền vững hoặc khả năng mở rộng của giải pháp.'</span>\n",
       "<span style=\"color: #7fbf7f; text-decoration-color: #7fbf7f\">│   </span><span style=\"font-weight: bold\">}</span>,\n",
       "<span style=\"color: #7fbf7f; text-decoration-color: #7fbf7f\">│   </span><span style=\"color: #008000; text-decoration-color: #008000\">'question_or_description'</span>: <span style=\"color: #008000; text-decoration-color: #008000\">\"**Phần Cốt lõi:**\\nHọc sinh làm việc theo nhóm (3-4 người). Giáo viên cung cấp một tình huống/vấn đề cụ thể, đơn giản (ví dụ: 'Làm thế nào để khuyến khích học sinh đọc sách nhiều hơn tại thư viện trường?'). Trong 15 phút, các nhóm thảo luận nhanh để đề xuất 1-2 giải pháp sáng tạo và khả thi nhất. Sau đó, mỗi nhóm cử đại diện trình bày ngắn gọn (tối đa 1 phút) về giải pháp của nhóm mình trước lớp.\\n\\n**Phần Mở rộng (nếu còn thời gian):**\\nNếu còn thời gian, các nhóm có thể: 1. Phát triển chi tiết hơn một giải pháp đã chọn, bổ sung các bước thực hiện cụ thể. 2. Chuẩn bị câu trả lời cho các câu hỏi phản biện từ giáo viên hoặc các nhóm khác.\"</span>\n",
       "<span style=\"font-weight: bold\">}</span>\n",
       "</pre>\n"
      ],
      "text/plain": [
       "\u001b[1m{\u001b[0m\n",
       "\u001b[2;32m│   \u001b[0m\u001b[32m'activity_name'\u001b[0m: \u001b[32m'Vận dụng và Trình bày sản phẩm'\u001b[0m,\n",
       "\u001b[2;32m│   \u001b[0m\u001b[32m'activity_type'\u001b[0m: \u001b[32m'Thảo luận nhóm và Trình bày'\u001b[0m,\n",
       "\u001b[2;32m│   \u001b[0m\u001b[32m'duration_minutes'\u001b[0m: \u001b[1;36m30\u001b[0m,\n",
       "\u001b[2;32m│   \u001b[0m\u001b[32m'teacher_actions'\u001b[0m: \u001b[1m[\u001b[0m\n",
       "\u001b[2;32m│   │   \u001b[0m\u001b[32m'Giới thiệu nhiệm vụ và tình huống/vấn đề cụ thể cho học sinh \u001b[0m\u001b[32m(\u001b[0m\u001b[32m3 phút\u001b[0m\u001b[32m)\u001b[0m\u001b[32m.'\u001b[0m,\n",
       "\u001b[2;32m│   │   \u001b[0m\u001b[32m'Chia nhóm và hướng dẫn học sinh bắt đầu thảo luận.'\u001b[0m,\n",
       "\u001b[2;32m│   │   \u001b[0m\u001b[32m\"Đi vòng quanh các nhóm, lắng nghe, gợi ý và hỗ trợ khi cần thiết \u001b[0m\u001b[32m(\u001b[0m\u001b[32mví dụ: đặt câu hỏi gợi mở 'Tại sao các em chọn giải pháp này?', 'Giải pháp này có khả thi không?'\u001b[0m\u001b[32m)\u001b[0m\u001b[32m \u001b[0m\u001b[32m(\u001b[0m\u001b[32m15 phút\u001b[0m\u001b[32m)\u001b[0m\u001b[32m.\"\u001b[0m,\n",
       "\u001b[2;32m│   │   \u001b[0m\u001b[32m'Quản lý thời gian thảo luận và trình bày.'\u001b[0m,\n",
       "\u001b[2;32m│   │   \u001b[0m\u001b[32m'Mời đại diện các nhóm trình bày ngắn gọn \u001b[0m\u001b[32m(\u001b[0m\u001b[32mtối đa 1 phút/nhóm, chọn 3-4 nhóm tiêu biểu để trình bày hoặc mỗi nhóm chia sẻ 1 ý chính\u001b[0m\u001b[32m)\u001b[0m\u001b[32m \u001b[0m\u001b[32m(\u001b[0m\u001b[32m8 phút\u001b[0m\u001b[32m)\u001b[0m\u001b[32m.'\u001b[0m,\n",
       "\u001b[2;32m│   │   \u001b[0m\u001b[32m'Tổng hợp các ý tưởng, đưa ra nhận xét chung và khen ngợi các giải pháp sáng tạo \u001b[0m\u001b[32m(\u001b[0m\u001b[32m4 phút\u001b[0m\u001b[32m)\u001b[0m\u001b[32m.'\u001b[0m\n",
       "\u001b[2;32m│   \u001b[0m\u001b[1m]\u001b[0m,\n",
       "\u001b[2;32m│   \u001b[0m\u001b[32m'core_component'\u001b[0m: \u001b[32m\"Học sinh làm việc theo nhóm \u001b[0m\u001b[32m(\u001b[0m\u001b[32m3-4 người\u001b[0m\u001b[32m)\u001b[0m\u001b[32m. Giáo viên cung cấp một tình huống/vấn đề cụ thể, đơn giản \u001b[0m\u001b[32m(\u001b[0m\u001b[32mví dụ: 'Làm thế nào để khuyến khích học sinh đọc sách nhiều hơn tại thư viện trường?'\u001b[0m\u001b[32m)\u001b[0m\u001b[32m. Trong 15 phút, các nhóm thảo luận nhanh để đề xuất 1-2 giải pháp sáng tạo và khả thi nhất. Sau đó, mỗi nhóm cử đại diện trình bày ngắn gọn \u001b[0m\u001b[32m(\u001b[0m\u001b[32mtối đa 1 phút\u001b[0m\u001b[32m)\u001b[0m\u001b[32m về giải pháp của nhóm mình trước lớp.\"\u001b[0m,\n",
       "\u001b[2;32m│   \u001b[0m\u001b[32m'extension_component'\u001b[0m: \u001b[32m'Nếu còn thời gian, các nhóm có thể: 1. Phát triển chi tiết hơn một giải pháp đã chọn, bổ sung các bước thực hiện cụ thể. 2. Chuẩn bị câu trả lời cho các câu hỏi phản biện từ giáo viên hoặc các nhóm khác.'\u001b[0m,\n",
       "\u001b[2;32m│   \u001b[0m\u001b[32m'solution_guide'\u001b[0m: \u001b[32m'Gợi ý các câu hỏi để học sinh tự định hướng: 1. Vấn đề chính là gì? 2. Ai là đối tượng chịu ảnh hưởng? 3. Giải pháp của nhóm có gì mới mẻ/khác biệt? 4. Giải pháp này có khả thi không? Cần nguồn lực gì? 5. Kết quả mong đợi là gì?'\u001b[0m,\n",
       "\u001b[2;32m│   \u001b[0m\u001b[32m'differentiation'\u001b[0m: \u001b[1m{\u001b[0m\n",
       "\u001b[2;32m│   │   \u001b[0m\u001b[32m'for_struggling_students'\u001b[0m: \u001b[32m'Cung cấp các câu hỏi gợi ý cụ thể hơn hoặc các từ khóa liên quan đến vấn đề. Có thể cho phép các em tập trung vào việc xác định vấn đề và một ý tưởng giải pháp đơn giản nhất. Giáo viên có thể dành thêm thời gian hỗ trợ trực tiếp nhóm này.'\u001b[0m,\n",
       "\u001b[2;32m│   │   \u001b[0m\u001b[32m'for_advanced_students'\u001b[0m: \u001b[32m'Yêu cầu các em không chỉ đề xuất giải pháp mà còn phải dự đoán các khó khăn khi thực hiện và cách khắc phục. Khuyến khích các em suy nghĩ về tính bền vững hoặc khả năng mở rộng của giải pháp.'\u001b[0m\n",
       "\u001b[2;32m│   \u001b[0m\u001b[1m}\u001b[0m,\n",
       "\u001b[2;32m│   \u001b[0m\u001b[32m'question_or_description'\u001b[0m: \u001b[32m\"**Phần Cốt lõi:**\\nHọc sinh làm việc theo nhóm \u001b[0m\u001b[32m(\u001b[0m\u001b[32m3-4 người\u001b[0m\u001b[32m)\u001b[0m\u001b[32m. Giáo viên cung cấp một tình huống/vấn đề cụ thể, đơn giản \u001b[0m\u001b[32m(\u001b[0m\u001b[32mví dụ: 'Làm thế nào để khuyến khích học sinh đọc sách nhiều hơn tại thư viện trường?'\u001b[0m\u001b[32m)\u001b[0m\u001b[32m. Trong 15 phút, các nhóm thảo luận nhanh để đề xuất 1-2 giải pháp sáng tạo và khả thi nhất. Sau đó, mỗi nhóm cử đại diện trình bày ngắn gọn \u001b[0m\u001b[32m(\u001b[0m\u001b[32mtối đa 1 phút\u001b[0m\u001b[32m)\u001b[0m\u001b[32m về giải pháp của nhóm mình trước lớp.\\n\\n**Phần Mở rộng \u001b[0m\u001b[32m(\u001b[0m\u001b[32mnếu còn thời gian\u001b[0m\u001b[32m)\u001b[0m\u001b[32m:**\\nNếu còn thời gian, các nhóm có thể: 1. Phát triển chi tiết hơn một giải pháp đã chọn, bổ sung các bước thực hiện cụ thể. 2. Chuẩn bị câu trả lời cho các câu hỏi phản biện từ giáo viên hoặc các nhóm khác.\"\u001b[0m\n",
       "\u001b[1m}\u001b[0m\n"
      ]
     },
     "metadata": {},
     "output_type": "display_data"
    },
    {
     "data": {
      "text/html": [
       "<pre style=\"white-space:pre;overflow-x:auto;line-height:normal;font-family:Menlo,'DejaVu Sans Mono',consolas,'Courier New',monospace\">\n",
       "<span style=\"color: #808000; text-decoration-color: #808000; font-weight: bold\">------- Hoàn thành bước: activity_designer -------</span>\n",
       "</pre>\n"
      ],
      "text/plain": [
       "\n",
       "\u001b[1;33m------- Hoàn thành bước: activity_designer -------\u001b[0m\n"
      ]
     },
     "metadata": {},
     "output_type": "display_data"
    },
    {
     "data": {
      "text/html": [
       "<pre style=\"white-space:pre;overflow-x:auto;line-height:normal;font-family:Menlo,'DejaVu Sans Mono',consolas,'Courier New',monospace\">\n",
       "<span style=\"color: #008080; text-decoration-color: #008080; font-weight: bold\">&gt;</span> `Agent: Guardian Critic` <span style=\"font-weight: bold\">(</span>v10.<span style=\"color: #008080; text-decoration-color: #008080; font-weight: bold\">0</span><span style=\"font-weight: bold\">)</span> đang bảo vệ kế hoạch<span style=\"color: #808000; text-decoration-color: #808000\">...</span>\n",
       "</pre>\n"
      ],
      "text/plain": [
       "\n",
       "\u001b[1;36m>\u001b[0m `Agent: Guardian Critic` \u001b[1m(\u001b[0mv10.\u001b[1;36m0\u001b[0m\u001b[1m)\u001b[0m đang bảo vệ kế hoạch\u001b[33m...\u001b[0m\n"
      ]
     },
     "metadata": {},
     "output_type": "display_data"
    },
    {
     "data": {
      "text/html": [
       "<pre style=\"white-space:pre;overflow-x:auto;line-height:normal;font-family:Menlo,'DejaVu Sans Mono',consolas,'Courier New',monospace\"><span style=\"color: #808000; text-decoration-color: #808000; font-weight: bold\">⚠️  GUARDIAN PHẢN BIỆN: Hoạt động này, mặc dù tổng thời gian các bước cộng lại là </span><span style=\"color: #808000; text-decoration-color: #808000; font-weight: bold\">30</span><span style=\"color: #808000; text-decoration-color: #808000; font-weight: bold\"> phút, nhưng thời lượng </span><span style=\"color: #808000; text-decoration-color: #808000; font-weight: bold\">15</span><span style=\"color: #808000; text-decoration-color: #808000; font-weight: bold\"> phút</span>\n",
       "<span style=\"color: #808000; text-decoration-color: #808000; font-weight: bold\">dành cho việc thảo luận nhóm để đề xuất </span><span style=\"color: #808000; text-decoration-color: #808000; font-weight: bold\">1</span><span style=\"color: #808000; text-decoration-color: #808000; font-weight: bold\">-</span><span style=\"color: #808000; text-decoration-color: #808000; font-weight: bold\">2</span><span style=\"color: #808000; text-decoration-color: #808000; font-weight: bold\"> giải pháp </span><span style=\"color: #808000; text-decoration-color: #808000; font-weight: bold\">'sáng tạo và khả thi nhất'</span><span style=\"color: #808000; text-decoration-color: #808000; font-weight: bold\"> là quá ngắn. Để học sinh có thể </span>\n",
       "<span style=\"color: #808000; text-decoration-color: #808000; font-weight: bold\">thực sự </span><span style=\"color: #808000; text-decoration-color: #808000; font-weight: bold\">'vận dụng'</span><span style=\"color: #808000; text-decoration-color: #808000; font-weight: bold\"> kiến thức, tư duy sâu và đưa ra các giải pháp chất lượng, thời gian này cần nhiều hơn. Hoạt động</span>\n",
       "<span style=\"color: #808000; text-decoration-color: #808000; font-weight: bold\">sẽ trở nên vội vàng và khó đạt được mục tiêu chuyên môn như mong đợi. Hãy thiết kế lại một phiên bản hoạt động đơn </span>\n",
       "<span style=\"color: #808000; text-decoration-color: #808000; font-weight: bold\">giản hơn, ít bước hơn để khớp với thời gian </span><span style=\"color: #808000; text-decoration-color: #808000; font-weight: bold\">30</span><span style=\"color: #808000; text-decoration-color: #808000; font-weight: bold\"> phút đã cho.</span>\n",
       "</pre>\n"
      ],
      "text/plain": [
       "\u001b[1;33m⚠️  GUARDIAN PHẢN BIỆN: Hoạt động này, mặc dù tổng thời gian các bước cộng lại là \u001b[0m\u001b[1;33m30\u001b[0m\u001b[1;33m phút, nhưng thời lượng \u001b[0m\u001b[1;33m15\u001b[0m\u001b[1;33m phút\u001b[0m\n",
       "\u001b[1;33mdành cho việc thảo luận nhóm để đề xuất \u001b[0m\u001b[1;33m1\u001b[0m\u001b[1;33m-\u001b[0m\u001b[1;33m2\u001b[0m\u001b[1;33m giải pháp \u001b[0m\u001b[1;33m'sáng tạo và khả thi nhất'\u001b[0m\u001b[1;33m là quá ngắn. Để học sinh có thể \u001b[0m\n",
       "\u001b[1;33mthực sự \u001b[0m\u001b[1;33m'vận dụng'\u001b[0m\u001b[1;33m kiến thức, tư duy sâu và đưa ra các giải pháp chất lượng, thời gian này cần nhiều hơn. Hoạt động\u001b[0m\n",
       "\u001b[1;33msẽ trở nên vội vàng và khó đạt được mục tiêu chuyên môn như mong đợi. Hãy thiết kế lại một phiên bản hoạt động đơn \u001b[0m\n",
       "\u001b[1;33mgiản hơn, ít bước hơn để khớp với thời gian \u001b[0m\u001b[1;33m30\u001b[0m\u001b[1;33m phút đã cho.\u001b[0m\n"
      ]
     },
     "metadata": {},
     "output_type": "display_data"
    },
    {
     "data": {
      "text/html": [
       "<pre style=\"white-space:pre;overflow-x:auto;line-height:normal;font-family:Menlo,'DejaVu Sans Mono',consolas,'Courier New',monospace\">\n",
       "<span style=\"color: #808000; text-decoration-color: #808000; font-weight: bold\">------- Hoàn thành bước: content_validator -------</span>\n",
       "</pre>\n"
      ],
      "text/plain": [
       "\n",
       "\u001b[1;33m------- Hoàn thành bước: content_validator -------\u001b[0m\n"
      ]
     },
     "metadata": {},
     "output_type": "display_data"
    },
    {
     "data": {
      "text/html": [
       "<pre style=\"white-space:pre;overflow-x:auto;line-height:normal;font-family:Menlo,'DejaVu Sans Mono',consolas,'Courier New',monospace\">\n",
       "<span style=\"color: #008080; text-decoration-color: #008080; font-weight: bold\">&gt;</span> `Agent: Task Dispatcher` đang giao việc<span style=\"color: #808000; text-decoration-color: #808000\">...</span>\n",
       "</pre>\n"
      ],
      "text/plain": [
       "\n",
       "\u001b[1;36m>\u001b[0m `Agent: Task Dispatcher` đang giao việc\u001b[33m...\u001b[0m\n"
      ]
     },
     "metadata": {},
     "output_type": "display_data"
    },
    {
     "data": {
      "text/html": [
       "<pre style=\"white-space:pre;overflow-x:auto;line-height:normal;font-family:Menlo,'DejaVu Sans Mono',consolas,'Courier New',monospace\">\n",
       "<span style=\"color: #008080; text-decoration-color: #008080; font-weight: bold\">&gt;</span> --- 🚚 `Dispatcher`: Giao nhiệm vụ cho `activity_designer`.\n",
       "</pre>\n"
      ],
      "text/plain": [
       "\n",
       "\u001b[1;36m>\u001b[0m --- 🚚 `Dispatcher`: Giao nhiệm vụ cho `activity_designer`.\n"
      ]
     },
     "metadata": {},
     "output_type": "display_data"
    },
    {
     "data": {
      "text/html": [
       "<pre style=\"white-space:pre;overflow-x:auto;line-height:normal;font-family:Menlo,'DejaVu Sans Mono',consolas,'Courier New',monospace\">\n",
       "<span style=\"color: #808000; text-decoration-color: #808000; font-weight: bold\">------- Hoàn thành bước: task_dispatcher -------</span>\n",
       "</pre>\n"
      ],
      "text/plain": [
       "\n",
       "\u001b[1;33m------- Hoàn thành bước: task_dispatcher -------\u001b[0m\n"
      ]
     },
     "metadata": {},
     "output_type": "display_data"
    },
    {
     "data": {
      "text/html": [
       "<pre style=\"white-space:pre;overflow-x:auto;line-height:normal;font-family:Menlo,'DejaVu Sans Mono',consolas,'Courier New',monospace\">\n",
       "<span style=\"color: #008080; text-decoration-color: #008080; font-weight: bold\">&gt;</span> `Agent: Activity Designer` <span style=\"font-weight: bold\">(</span>v10.<span style=\"color: #008080; text-decoration-color: #008080; font-weight: bold\">0</span><span style=\"font-weight: bold\">)</span> đang tạo nội dung theo kỷ luật<span style=\"color: #808000; text-decoration-color: #808000\">...</span>\n",
       "</pre>\n"
      ],
      "text/plain": [
       "\n",
       "\u001b[1;36m>\u001b[0m `Agent: Activity Designer` \u001b[1m(\u001b[0mv10.\u001b[1;36m0\u001b[0m\u001b[1m)\u001b[0m đang tạo nội dung theo kỷ luật\u001b[33m...\u001b[0m\n"
      ]
     },
     "metadata": {},
     "output_type": "display_data"
    },
    {
     "data": {
      "text/html": [
       "<pre style=\"white-space:pre;overflow-x:auto;line-height:normal;font-family:Menlo,'DejaVu Sans Mono',consolas,'Courier New',monospace\"><span style=\"color: #008000; text-decoration-color: #008000; font-weight: bold\">✔️ Nội dung do Activity Designer tạo ra:</span>\n",
       "</pre>\n"
      ],
      "text/plain": [
       "\u001b[1;32m✔️ Nội dung do Activity Designer tạo ra:\u001b[0m\n"
      ]
     },
     "metadata": {},
     "output_type": "display_data"
    },
    {
     "data": {
      "text/html": [
       "<pre style=\"white-space:pre;overflow-x:auto;line-height:normal;font-family:Menlo,'DejaVu Sans Mono',consolas,'Courier New',monospace\"><span style=\"font-weight: bold\">{</span>\n",
       "<span style=\"color: #7fbf7f; text-decoration-color: #7fbf7f\">│   </span><span style=\"color: #008000; text-decoration-color: #008000\">'activity_name'</span>: <span style=\"color: #008000; text-decoration-color: #008000\">'Vận dụng và Trình bày sản phẩm'</span>,\n",
       "<span style=\"color: #7fbf7f; text-decoration-color: #7fbf7f\">│   </span><span style=\"color: #008000; text-decoration-color: #008000\">'activity_type'</span>: <span style=\"color: #008000; text-decoration-color: #008000\">'Thảo luận nhóm và Trình bày'</span>,\n",
       "<span style=\"color: #7fbf7f; text-decoration-color: #7fbf7f\">│   </span><span style=\"color: #008000; text-decoration-color: #008000\">'duration_minutes'</span>: <span style=\"color: #008080; text-decoration-color: #008080; font-weight: bold\">30</span>,\n",
       "<span style=\"color: #7fbf7f; text-decoration-color: #7fbf7f\">│   </span><span style=\"color: #008000; text-decoration-color: #008000\">'teacher_actions'</span>: <span style=\"font-weight: bold\">[</span>\n",
       "<span style=\"color: #7fbf7f; text-decoration-color: #7fbf7f\">│   │   </span><span style=\"color: #008000; text-decoration-color: #008000\">'Giới thiệu mục tiêu hoạt động và thời gian (2 phút).'</span>,\n",
       "<span style=\"color: #7fbf7f; text-decoration-color: #7fbf7f\">│   │   </span><span style=\"color: #008000; text-decoration-color: #008000\">'Phân chia nhóm (nếu cần) và phát phiếu bài tập/tình huống (3 phút).'</span>,\n",
       "<span style=\"color: #7fbf7f; text-decoration-color: #7fbf7f\">│   │   </span><span style=\"color: #008000; text-decoration-color: #008000\">'Quan sát, lắng nghe, và hỗ trợ các nhóm trong quá trình thảo luận (15 phút).'</span>,\n",
       "<span style=\"color: #7fbf7f; text-decoration-color: #7fbf7f\">│   │   </span><span style=\"color: #008000; text-decoration-color: #008000\">'Quản lý thời gian chặt chẽ, nhắc nhở các nhóm chuẩn bị trình bày.'</span>,\n",
       "<span style=\"color: #7fbf7f; text-decoration-color: #7fbf7f\">│   │   </span><span style=\"color: #008000; text-decoration-color: #008000\">'Mời 2-3 nhóm đại diện trình bày nhanh ý tưởng/giải pháp (5 phút).'</span>,\n",
       "<span style=\"color: #7fbf7f; text-decoration-color: #7fbf7f\">│   │   </span><span style=\"color: #008000; text-decoration-color: #008000\">'Đưa ra nhận xét, tổng kết ngắn gọn về các ý tưởng và kết nối với kiến thức bài học (5 phút).'</span>\n",
       "<span style=\"color: #7fbf7f; text-decoration-color: #7fbf7f\">│   </span><span style=\"font-weight: bold\">]</span>,\n",
       "<span style=\"color: #7fbf7f; text-decoration-color: #7fbf7f\">│   </span><span style=\"color: #008000; text-decoration-color: #008000\">'core_component'</span>: <span style=\"color: #008000; text-decoration-color: #008000\">'Học sinh làm việc theo nhóm (3-4 em/nhóm) để giải quyết một tình huống/vấn đề cụ thể do giáo viên cung cấp. Nhiệm vụ của mỗi nhóm là: 1. Phân tích tình huống để xác định vấn đề cốt lõi. 2. Vận dụng kiến thức đã học để đề xuất MỘT giải pháp hoặc ý tưởng cụ thể, khả thi nhất để giải quyết vấn đề. 3. Chuẩn bị trình bày ngắn gọn (tối đa 2 phút) về giải pháp của nhóm, tập trung vào tính khả thi và lợi ích.'</span>,\n",
       "<span style=\"color: #7fbf7f; text-decoration-color: #7fbf7f\">│   </span><span style=\"color: #008000; text-decoration-color: #008000\">'extension_component'</span>: <span style=\"color: #008000; text-decoration-color: #008000\">'Nếu nhóm hoàn thành sớm phần cốt lõi, hãy phát triển chi tiết hơn giải pháp đã đề xuất bằng cách: 1. Liệt kê các bước cụ thể để triển khai giải pháp. 2. Dự đoán các khó khăn có thể gặp phải và cách khắc phục. 3. Chuẩn bị câu hỏi phản biện cho các nhóm khác.'</span>,\n",
       "<span style=\"color: #7fbf7f; text-decoration-color: #7fbf7f\">│   </span><span style=\"color: #008000; text-decoration-color: #008000\">'solution_guide'</span>: <span style=\"color: #008000; text-decoration-color: #008000\">\"Giáo viên có thể gợi ý các câu hỏi sau để định hướng học sinh: 'Vấn đề chính trong tình huống này là gì?', 'Kiến thức nào chúng ta đã học có thể giúp giải quyết vấn đề này?', 'Giải pháp của nhóm sẽ hoạt động như thế nào?', 'Lợi ích chính của giải pháp này là gì?', 'Giải pháp này có khả thi không và tại sao?'. Chuẩn bị một vài ví dụ về giải pháp đơn giản hoặc các ý tưởng cơ bản để gợi mở nếu học sinh gặp khó khăn.\"</span>,\n",
       "<span style=\"color: #7fbf7f; text-decoration-color: #7fbf7f\">│   </span><span style=\"color: #008000; text-decoration-color: #008000\">'differentiation'</span>: <span style=\"font-weight: bold\">{</span>\n",
       "<span style=\"color: #7fbf7f; text-decoration-color: #7fbf7f\">│   │   </span><span style=\"color: #008000; text-decoration-color: #008000\">'for_struggling_students'</span>: <span style=\"color: #008000; text-decoration-color: #008000\">'Cung cấp tình huống đơn giản hơn hoặc có gợi ý rõ ràng về vấn đề cần giải quyết. Giáo viên có thể gợi ý các từ khóa, khái niệm liên quan hoặc đặt câu hỏi dẫn dắt để giúp các em định hướng tư duy.'</span>,\n",
       "<span style=\"color: #7fbf7f; text-decoration-color: #7fbf7f\">│   │   </span><span style=\"color: #008000; text-decoration-color: #008000\">'for_advanced_students'</span>: <span style=\"color: #008000; text-decoration-color: #008000\">'Cung cấp tình huống phức tạp hơn, yêu cầu giải pháp có tính đột phá, đa chiều hoặc liên quan đến nhiều lĩnh vực. Khuyến khích các em suy nghĩ về các yếu tố như chi phí, nguồn lực, tác động xã hội/môi trường khi đề xuất giải pháp.'</span>\n",
       "<span style=\"color: #7fbf7f; text-decoration-color: #7fbf7f\">│   </span><span style=\"font-weight: bold\">}</span>,\n",
       "<span style=\"color: #7fbf7f; text-decoration-color: #7fbf7f\">│   </span><span style=\"color: #008000; text-decoration-color: #008000\">'question_or_description'</span>: <span style=\"color: #008000; text-decoration-color: #008000\">'**Phần Cốt lõi:**\\nHọc sinh làm việc theo nhóm (3-4 em/nhóm) để giải quyết một tình huống/vấn đề cụ thể do giáo viên cung cấp. Nhiệm vụ của mỗi nhóm là: 1. Phân tích tình huống để xác định vấn đề cốt lõi. 2. Vận dụng kiến thức đã học để đề xuất MỘT giải pháp hoặc ý tưởng cụ thể, khả thi nhất để giải quyết vấn đề. 3. Chuẩn bị trình bày ngắn gọn (tối đa 2 phút) về giải pháp của nhóm, tập trung vào tính khả thi và lợi ích.\\n\\n**Phần Mở rộng (nếu còn thời gian):**\\nNếu nhóm hoàn thành sớm phần cốt lõi, hãy phát triển chi tiết hơn giải pháp đã đề xuất bằng cách: 1. Liệt kê các bước cụ thể để triển khai giải pháp. 2. Dự đoán các khó khăn có thể gặp phải và cách khắc phục. 3. Chuẩn bị câu hỏi phản biện cho các nhóm khác.'</span>\n",
       "<span style=\"font-weight: bold\">}</span>\n",
       "</pre>\n"
      ],
      "text/plain": [
       "\u001b[1m{\u001b[0m\n",
       "\u001b[2;32m│   \u001b[0m\u001b[32m'activity_name'\u001b[0m: \u001b[32m'Vận dụng và Trình bày sản phẩm'\u001b[0m,\n",
       "\u001b[2;32m│   \u001b[0m\u001b[32m'activity_type'\u001b[0m: \u001b[32m'Thảo luận nhóm và Trình bày'\u001b[0m,\n",
       "\u001b[2;32m│   \u001b[0m\u001b[32m'duration_minutes'\u001b[0m: \u001b[1;36m30\u001b[0m,\n",
       "\u001b[2;32m│   \u001b[0m\u001b[32m'teacher_actions'\u001b[0m: \u001b[1m[\u001b[0m\n",
       "\u001b[2;32m│   │   \u001b[0m\u001b[32m'Giới thiệu mục tiêu hoạt động và thời gian \u001b[0m\u001b[32m(\u001b[0m\u001b[32m2 phút\u001b[0m\u001b[32m)\u001b[0m\u001b[32m.'\u001b[0m,\n",
       "\u001b[2;32m│   │   \u001b[0m\u001b[32m'Phân chia nhóm \u001b[0m\u001b[32m(\u001b[0m\u001b[32mnếu cần\u001b[0m\u001b[32m)\u001b[0m\u001b[32m và phát phiếu bài tập/tình huống \u001b[0m\u001b[32m(\u001b[0m\u001b[32m3 phút\u001b[0m\u001b[32m)\u001b[0m\u001b[32m.'\u001b[0m,\n",
       "\u001b[2;32m│   │   \u001b[0m\u001b[32m'Quan sát, lắng nghe, và hỗ trợ các nhóm trong quá trình thảo luận \u001b[0m\u001b[32m(\u001b[0m\u001b[32m15 phút\u001b[0m\u001b[32m)\u001b[0m\u001b[32m.'\u001b[0m,\n",
       "\u001b[2;32m│   │   \u001b[0m\u001b[32m'Quản lý thời gian chặt chẽ, nhắc nhở các nhóm chuẩn bị trình bày.'\u001b[0m,\n",
       "\u001b[2;32m│   │   \u001b[0m\u001b[32m'Mời 2-3 nhóm đại diện trình bày nhanh ý tưởng/giải pháp \u001b[0m\u001b[32m(\u001b[0m\u001b[32m5 phút\u001b[0m\u001b[32m)\u001b[0m\u001b[32m.'\u001b[0m,\n",
       "\u001b[2;32m│   │   \u001b[0m\u001b[32m'Đưa ra nhận xét, tổng kết ngắn gọn về các ý tưởng và kết nối với kiến thức bài học \u001b[0m\u001b[32m(\u001b[0m\u001b[32m5 phút\u001b[0m\u001b[32m)\u001b[0m\u001b[32m.'\u001b[0m\n",
       "\u001b[2;32m│   \u001b[0m\u001b[1m]\u001b[0m,\n",
       "\u001b[2;32m│   \u001b[0m\u001b[32m'core_component'\u001b[0m: \u001b[32m'Học sinh làm việc theo nhóm \u001b[0m\u001b[32m(\u001b[0m\u001b[32m3-4 em/nhóm\u001b[0m\u001b[32m)\u001b[0m\u001b[32m để giải quyết một tình huống/vấn đề cụ thể do giáo viên cung cấp. Nhiệm vụ của mỗi nhóm là: 1. Phân tích tình huống để xác định vấn đề cốt lõi. 2. Vận dụng kiến thức đã học để đề xuất MỘT giải pháp hoặc ý tưởng cụ thể, khả thi nhất để giải quyết vấn đề. 3. Chuẩn bị trình bày ngắn gọn \u001b[0m\u001b[32m(\u001b[0m\u001b[32mtối đa 2 phút\u001b[0m\u001b[32m)\u001b[0m\u001b[32m về giải pháp của nhóm, tập trung vào tính khả thi và lợi ích.'\u001b[0m,\n",
       "\u001b[2;32m│   \u001b[0m\u001b[32m'extension_component'\u001b[0m: \u001b[32m'Nếu nhóm hoàn thành sớm phần cốt lõi, hãy phát triển chi tiết hơn giải pháp đã đề xuất bằng cách: 1. Liệt kê các bước cụ thể để triển khai giải pháp. 2. Dự đoán các khó khăn có thể gặp phải và cách khắc phục. 3. Chuẩn bị câu hỏi phản biện cho các nhóm khác.'\u001b[0m,\n",
       "\u001b[2;32m│   \u001b[0m\u001b[32m'solution_guide'\u001b[0m: \u001b[32m\"Giáo viên có thể gợi ý các câu hỏi sau để định hướng học sinh: 'Vấn đề chính trong tình huống này là gì?', 'Kiến thức nào chúng ta đã học có thể giúp giải quyết vấn đề này?', 'Giải pháp của nhóm sẽ hoạt động như thế nào?', 'Lợi ích chính của giải pháp này là gì?', 'Giải pháp này có khả thi không và tại sao?'. Chuẩn bị một vài ví dụ về giải pháp đơn giản hoặc các ý tưởng cơ bản để gợi mở nếu học sinh gặp khó khăn.\"\u001b[0m,\n",
       "\u001b[2;32m│   \u001b[0m\u001b[32m'differentiation'\u001b[0m: \u001b[1m{\u001b[0m\n",
       "\u001b[2;32m│   │   \u001b[0m\u001b[32m'for_struggling_students'\u001b[0m: \u001b[32m'Cung cấp tình huống đơn giản hơn hoặc có gợi ý rõ ràng về vấn đề cần giải quyết. Giáo viên có thể gợi ý các từ khóa, khái niệm liên quan hoặc đặt câu hỏi dẫn dắt để giúp các em định hướng tư duy.'\u001b[0m,\n",
       "\u001b[2;32m│   │   \u001b[0m\u001b[32m'for_advanced_students'\u001b[0m: \u001b[32m'Cung cấp tình huống phức tạp hơn, yêu cầu giải pháp có tính đột phá, đa chiều hoặc liên quan đến nhiều lĩnh vực. Khuyến khích các em suy nghĩ về các yếu tố như chi phí, nguồn lực, tác động xã hội/môi trường khi đề xuất giải pháp.'\u001b[0m\n",
       "\u001b[2;32m│   \u001b[0m\u001b[1m}\u001b[0m,\n",
       "\u001b[2;32m│   \u001b[0m\u001b[32m'question_or_description'\u001b[0m: \u001b[32m'**Phần Cốt lõi:**\\nHọc sinh làm việc theo nhóm \u001b[0m\u001b[32m(\u001b[0m\u001b[32m3-4 em/nhóm\u001b[0m\u001b[32m)\u001b[0m\u001b[32m để giải quyết một tình huống/vấn đề cụ thể do giáo viên cung cấp. Nhiệm vụ của mỗi nhóm là: 1. Phân tích tình huống để xác định vấn đề cốt lõi. 2. Vận dụng kiến thức đã học để đề xuất MỘT giải pháp hoặc ý tưởng cụ thể, khả thi nhất để giải quyết vấn đề. 3. Chuẩn bị trình bày ngắn gọn \u001b[0m\u001b[32m(\u001b[0m\u001b[32mtối đa 2 phút\u001b[0m\u001b[32m)\u001b[0m\u001b[32m về giải pháp của nhóm, tập trung vào tính khả thi và lợi ích.\\n\\n**Phần Mở rộng \u001b[0m\u001b[32m(\u001b[0m\u001b[32mnếu còn thời gian\u001b[0m\u001b[32m)\u001b[0m\u001b[32m:**\\nNếu nhóm hoàn thành sớm phần cốt lõi, hãy phát triển chi tiết hơn giải pháp đã đề xuất bằng cách: 1. Liệt kê các bước cụ thể để triển khai giải pháp. 2. Dự đoán các khó khăn có thể gặp phải và cách khắc phục. 3. Chuẩn bị câu hỏi phản biện cho các nhóm khác.'\u001b[0m\n",
       "\u001b[1m}\u001b[0m\n"
      ]
     },
     "metadata": {},
     "output_type": "display_data"
    },
    {
     "data": {
      "text/html": [
       "<pre style=\"white-space:pre;overflow-x:auto;line-height:normal;font-family:Menlo,'DejaVu Sans Mono',consolas,'Courier New',monospace\">\n",
       "<span style=\"color: #808000; text-decoration-color: #808000; font-weight: bold\">------- Hoàn thành bước: activity_designer -------</span>\n",
       "</pre>\n"
      ],
      "text/plain": [
       "\n",
       "\u001b[1;33m------- Hoàn thành bước: activity_designer -------\u001b[0m\n"
      ]
     },
     "metadata": {},
     "output_type": "display_data"
    },
    {
     "data": {
      "text/html": [
       "<pre style=\"white-space:pre;overflow-x:auto;line-height:normal;font-family:Menlo,'DejaVu Sans Mono',consolas,'Courier New',monospace\">\n",
       "<span style=\"color: #008080; text-decoration-color: #008080; font-weight: bold\">&gt;</span> `Agent: Guardian Critic` <span style=\"font-weight: bold\">(</span>v10.<span style=\"color: #008080; text-decoration-color: #008080; font-weight: bold\">0</span><span style=\"font-weight: bold\">)</span> đang bảo vệ kế hoạch<span style=\"color: #808000; text-decoration-color: #808000\">...</span>\n",
       "</pre>\n"
      ],
      "text/plain": [
       "\n",
       "\u001b[1;36m>\u001b[0m `Agent: Guardian Critic` \u001b[1m(\u001b[0mv10.\u001b[1;36m0\u001b[0m\u001b[1m)\u001b[0m đang bảo vệ kế hoạch\u001b[33m...\u001b[0m\n"
      ]
     },
     "metadata": {},
     "output_type": "display_data"
    },
    {
     "data": {
      "text/html": [
       "<pre style=\"white-space:pre;overflow-x:auto;line-height:normal;font-family:Menlo,'DejaVu Sans Mono',consolas,'Courier New',monospace\"><span style=\"color: #808000; text-decoration-color: #808000; font-weight: bold\">⚠️  GUARDIAN PHẢN BIỆN: Hoạt động này có cấu trúc khá tốt, tuy nhiên, thời gian phân bổ cho phần làm việc nhóm của </span>\n",
       "<span style=\"color: #808000; text-decoration-color: #808000; font-weight: bold\">học sinh (</span><span style=\"color: #808000; text-decoration-color: #808000; font-weight: bold\">15</span><span style=\"color: #808000; text-decoration-color: #808000; font-weight: bold\"> phút) để phân tích tình huống, đề xuất giải pháp và chuẩn bị trình bày là quá ngắn. Với một nhiệm vụ </span>\n",
       "<span style=\"color: #808000; text-decoration-color: #808000; font-weight: bold\">yêu cầu vận dụng kiến thức và tư duy giải quyết vấn đề, học sinh sẽ khó có thể hoàn thành một cách sâu sắc và chất </span>\n",
       "<span style=\"color: #808000; text-decoration-color: #808000; font-weight: bold\">lượng trong khoảng thời gian này. Hơn nữa, việc mời </span><span style=\"color: #808000; text-decoration-color: #808000; font-weight: bold\">2</span><span style=\"color: #808000; text-decoration-color: #808000; font-weight: bold\">-</span><span style=\"color: #808000; text-decoration-color: #808000; font-weight: bold\">3</span><span style=\"color: #808000; text-decoration-color: #808000; font-weight: bold\"> nhóm trình bày trong </span><span style=\"color: #808000; text-decoration-color: #808000; font-weight: bold\">5</span><span style=\"color: #808000; text-decoration-color: #808000; font-weight: bold\"> phút cũng rất gấp gáp, đặc biệt nếu </span>\n",
       "<span style=\"color: #808000; text-decoration-color: #808000; font-weight: bold\">mỗi nhóm trình bày tối đa </span><span style=\"color: #808000; text-decoration-color: #808000; font-weight: bold\">2</span><span style=\"color: #808000; text-decoration-color: #808000; font-weight: bold\"> phút. Hoạt động này có nguy cơ bị cháy giáo án hoặc học sinh không đủ thời gian để hoàn</span>\n",
       "<span style=\"color: #808000; text-decoration-color: #808000; font-weight: bold\">thành nhiệm vụ cốt lõi. Hãy thiết kế lại một phiên bản hoạt động đơn giản hơn, ít bước hơn để khớp với thời gian </span><span style=\"color: #808000; text-decoration-color: #808000; font-weight: bold\">30</span>\n",
       "<span style=\"color: #808000; text-decoration-color: #808000; font-weight: bold\">phút đã cho.</span>\n",
       "</pre>\n"
      ],
      "text/plain": [
       "\u001b[1;33m⚠️  GUARDIAN PHẢN BIỆN: Hoạt động này có cấu trúc khá tốt, tuy nhiên, thời gian phân bổ cho phần làm việc nhóm của \u001b[0m\n",
       "\u001b[1;33mhọc sinh \u001b[0m\u001b[1;33m(\u001b[0m\u001b[1;33m15\u001b[0m\u001b[1;33m phút\u001b[0m\u001b[1;33m)\u001b[0m\u001b[1;33m để phân tích tình huống, đề xuất giải pháp và chuẩn bị trình bày là quá ngắn. Với một nhiệm vụ \u001b[0m\n",
       "\u001b[1;33myêu cầu vận dụng kiến thức và tư duy giải quyết vấn đề, học sinh sẽ khó có thể hoàn thành một cách sâu sắc và chất \u001b[0m\n",
       "\u001b[1;33mlượng trong khoảng thời gian này. Hơn nữa, việc mời \u001b[0m\u001b[1;33m2\u001b[0m\u001b[1;33m-\u001b[0m\u001b[1;33m3\u001b[0m\u001b[1;33m nhóm trình bày trong \u001b[0m\u001b[1;33m5\u001b[0m\u001b[1;33m phút cũng rất gấp gáp, đặc biệt nếu \u001b[0m\n",
       "\u001b[1;33mmỗi nhóm trình bày tối đa \u001b[0m\u001b[1;33m2\u001b[0m\u001b[1;33m phút. Hoạt động này có nguy cơ bị cháy giáo án hoặc học sinh không đủ thời gian để hoàn\u001b[0m\n",
       "\u001b[1;33mthành nhiệm vụ cốt lõi. Hãy thiết kế lại một phiên bản hoạt động đơn giản hơn, ít bước hơn để khớp với thời gian \u001b[0m\u001b[1;33m30\u001b[0m\n",
       "\u001b[1;33mphút đã cho.\u001b[0m\n"
      ]
     },
     "metadata": {},
     "output_type": "display_data"
    },
    {
     "data": {
      "text/html": [
       "<pre style=\"white-space:pre;overflow-x:auto;line-height:normal;font-family:Menlo,'DejaVu Sans Mono',consolas,'Courier New',monospace\">\n",
       "<span style=\"color: #808000; text-decoration-color: #808000; font-weight: bold\">------- Hoàn thành bước: content_validator -------</span>\n",
       "</pre>\n"
      ],
      "text/plain": [
       "\n",
       "\u001b[1;33m------- Hoàn thành bước: content_validator -------\u001b[0m\n"
      ]
     },
     "metadata": {},
     "output_type": "display_data"
    },
    {
     "data": {
      "text/html": [
       "<pre style=\"white-space:pre;overflow-x:auto;line-height:normal;font-family:Menlo,'DejaVu Sans Mono',consolas,'Courier New',monospace\">\n",
       "<span style=\"color: #008080; text-decoration-color: #008080; font-weight: bold\">&gt;</span> `Agent: Task Dispatcher` đang giao việc<span style=\"color: #808000; text-decoration-color: #808000\">...</span>\n",
       "</pre>\n"
      ],
      "text/plain": [
       "\n",
       "\u001b[1;36m>\u001b[0m `Agent: Task Dispatcher` đang giao việc\u001b[33m...\u001b[0m\n"
      ]
     },
     "metadata": {},
     "output_type": "display_data"
    },
    {
     "data": {
      "text/html": [
       "<pre style=\"white-space:pre;overflow-x:auto;line-height:normal;font-family:Menlo,'DejaVu Sans Mono',consolas,'Courier New',monospace\">\n",
       "<span style=\"color: #008080; text-decoration-color: #008080; font-weight: bold\">&gt;</span> --- 🚚 `Dispatcher`: Giao nhiệm vụ cho `activity_designer`.\n",
       "</pre>\n"
      ],
      "text/plain": [
       "\n",
       "\u001b[1;36m>\u001b[0m --- 🚚 `Dispatcher`: Giao nhiệm vụ cho `activity_designer`.\n"
      ]
     },
     "metadata": {},
     "output_type": "display_data"
    },
    {
     "data": {
      "text/html": [
       "<pre style=\"white-space:pre;overflow-x:auto;line-height:normal;font-family:Menlo,'DejaVu Sans Mono',consolas,'Courier New',monospace\">\n",
       "<span style=\"color: #808000; text-decoration-color: #808000; font-weight: bold\">------- Hoàn thành bước: task_dispatcher -------</span>\n",
       "</pre>\n"
      ],
      "text/plain": [
       "\n",
       "\u001b[1;33m------- Hoàn thành bước: task_dispatcher -------\u001b[0m\n"
      ]
     },
     "metadata": {},
     "output_type": "display_data"
    },
    {
     "data": {
      "text/html": [
       "<pre style=\"white-space:pre;overflow-x:auto;line-height:normal;font-family:Menlo,'DejaVu Sans Mono',consolas,'Courier New',monospace\">\n",
       "<span style=\"color: #008080; text-decoration-color: #008080; font-weight: bold\">&gt;</span> `Agent: Activity Designer` <span style=\"font-weight: bold\">(</span>v10.<span style=\"color: #008080; text-decoration-color: #008080; font-weight: bold\">0</span><span style=\"font-weight: bold\">)</span> đang tạo nội dung theo kỷ luật<span style=\"color: #808000; text-decoration-color: #808000\">...</span>\n",
       "</pre>\n"
      ],
      "text/plain": [
       "\n",
       "\u001b[1;36m>\u001b[0m `Agent: Activity Designer` \u001b[1m(\u001b[0mv10.\u001b[1;36m0\u001b[0m\u001b[1m)\u001b[0m đang tạo nội dung theo kỷ luật\u001b[33m...\u001b[0m\n"
      ]
     },
     "metadata": {},
     "output_type": "display_data"
    },
    {
     "data": {
      "text/html": [
       "<pre style=\"white-space:pre;overflow-x:auto;line-height:normal;font-family:Menlo,'DejaVu Sans Mono',consolas,'Courier New',monospace\"><span style=\"color: #008000; text-decoration-color: #008000; font-weight: bold\">✔️ Nội dung do Activity Designer tạo ra:</span>\n",
       "</pre>\n"
      ],
      "text/plain": [
       "\u001b[1;32m✔️ Nội dung do Activity Designer tạo ra:\u001b[0m\n"
      ]
     },
     "metadata": {},
     "output_type": "display_data"
    },
    {
     "data": {
      "text/html": [
       "<pre style=\"white-space:pre;overflow-x:auto;line-height:normal;font-family:Menlo,'DejaVu Sans Mono',consolas,'Courier New',monospace\"><span style=\"font-weight: bold\">{</span>\n",
       "<span style=\"color: #7fbf7f; text-decoration-color: #7fbf7f\">│   </span><span style=\"color: #008000; text-decoration-color: #008000\">'activity_name'</span>: <span style=\"color: #008000; text-decoration-color: #008000\">'Vận dụng và Trình bày sản phẩm'</span>,\n",
       "<span style=\"color: #7fbf7f; text-decoration-color: #7fbf7f\">│   </span><span style=\"color: #008000; text-decoration-color: #008000\">'activity_type'</span>: <span style=\"color: #008000; text-decoration-color: #008000\">'Thảo luận nhóm và Trình bày'</span>,\n",
       "<span style=\"color: #7fbf7f; text-decoration-color: #7fbf7f\">│   </span><span style=\"color: #008000; text-decoration-color: #008000\">'duration_minutes'</span>: <span style=\"color: #008080; text-decoration-color: #008080; font-weight: bold\">30</span>,\n",
       "<span style=\"color: #7fbf7f; text-decoration-color: #7fbf7f\">│   </span><span style=\"color: #008000; text-decoration-color: #008000\">'teacher_actions'</span>: <span style=\"font-weight: bold\">[</span>\n",
       "<span style=\"color: #7fbf7f; text-decoration-color: #7fbf7f\">│   │   </span><span style=\"color: #008000; text-decoration-color: #008000\">'Giới thiệu tình huống/vấn đề và yêu cầu nhiệm vụ rõ ràng cho học sinh (3 phút).'</span>,\n",
       "<span style=\"color: #7fbf7f; text-decoration-color: #7fbf7f\">│   │   </span><span style=\"color: #008000; text-decoration-color: #008000\">'Chia học sinh thành các nhóm nhỏ (3-4 học sinh/nhóm) và phát phiếu bài tập/tình huống.'</span>,\n",
       "<span style=\"color: #7fbf7f; text-decoration-color: #7fbf7f\">│   │   </span><span style=\"color: #008000; text-decoration-color: #008000\">'Quan sát, lắng nghe các nhóm thảo luận, kịp thời gợi ý hoặc giải đáp thắc mắc khi cần thiết, đảm bảo các nhóm đi đúng hướng (15 phút).'</span>,\n",
       "<span style=\"color: #7fbf7f; text-decoration-color: #7fbf7f\">│   │   </span><span style=\"color: #008000; text-decoration-color: #008000\">'Quản lý thời gian chặt chẽ cho từng phần hoạt động.'</span>,\n",
       "<span style=\"color: #7fbf7f; text-decoration-color: #7fbf7f\">│   │   </span><span style=\"color: #008000; text-decoration-color: #008000\">'Mời đại diện 3-4 nhóm trình bày ngắn gọn sản phẩm của nhóm (mỗi nhóm 2-3 phút). Tổ chức cho các nhóm khác đặt câu hỏi hoặc góp ý nhanh (10 phút).'</span>,\n",
       "<span style=\"color: #7fbf7f; text-decoration-color: #7fbf7f\">│   │   </span><span style=\"color: #008000; text-decoration-color: #008000\">'Tổng kết các ý tưởng chính, nhận xét, và chốt kiến thức (2 phút).'</span>\n",
       "<span style=\"color: #7fbf7f; text-decoration-color: #7fbf7f\">│   </span><span style=\"font-weight: bold\">]</span>,\n",
       "<span style=\"color: #7fbf7f; text-decoration-color: #7fbf7f\">│   </span><span style=\"color: #008000; text-decoration-color: #008000\">'core_component'</span>: <span style=\"color: #008000; text-decoration-color: #008000\">'Học sinh làm việc theo nhóm (3-4 người). Mỗi nhóm nhận một tình huống/vấn đề cụ thể liên quan đến kiến thức đã học. Nhiệm vụ của nhóm là: 1. Đọc và phân tích nhanh tình huống để xác định vấn đề cốt lõi. 2. Vận dụng kiến thức đã học để đề xuất 1-2 giải pháp hoặc ứng dụng cụ thể, khả thi nhất. 3. Chuẩn bị trình bày ngắn gọn (tối đa 2-3 phút) về giải pháp của nhóm, tập trung vào lý do lựa chọn và cách thức thực hiện.'</span>,\n",
       "<span style=\"color: #7fbf7f; text-decoration-color: #7fbf7f\">│   </span><span style=\"color: #008000; text-decoration-color: #008000\">'extension_component'</span>: <span style=\"color: #008000; text-decoration-color: #008000\">'Nếu hoàn thành sớm, các nhóm có thể: 1. Suy nghĩ về các rủi ro hoặc thách thức có thể gặp phải khi thực hiện giải pháp và cách khắc phục. 2. Chuẩn bị thêm một câu hỏi phản biện cho các nhóm khác.'</span>,\n",
       "<span style=\"color: #7fbf7f; text-decoration-color: #7fbf7f\">│   </span><span style=\"color: #008000; text-decoration-color: #008000\">'solution_guide'</span>: <span style=\"color: #008000; text-decoration-color: #008000\">\"Các giải pháp cần thể hiện sự vận dụng linh hoạt kiến thức, có tính thực tiễn và khả thi. Gợi ý: Đặt câu hỏi mở để học sinh đào sâu suy nghĩ về tính hiệu quả, tính bền vững của giải pháp. Ví dụ: 'Giải pháp này có thể áp dụng trong những trường hợp nào khác?', 'Có cách nào để tối ưu hóa giải pháp này không?'\"</span>,\n",
       "<span style=\"color: #7fbf7f; text-decoration-color: #7fbf7f\">│   </span><span style=\"color: #008000; text-decoration-color: #008000\">'differentiation'</span>: <span style=\"font-weight: bold\">{</span>\n",
       "<span style=\"color: #7fbf7f; text-decoration-color: #7fbf7f\">│   │   </span><span style=\"color: #008000; text-decoration-color: #008000\">'for_struggling_students'</span>: <span style=\"color: #008000; text-decoration-color: #008000\">'Cung cấp các tình huống đơn giản hơn, có cấu trúc rõ ràng hoặc các câu hỏi gợi ý cụ thể để định hướng tư duy. Có thể cho phép các em chỉ cần đề xuất 1 giải pháp.'</span>,\n",
       "<span style=\"color: #7fbf7f; text-decoration-color: #7fbf7f\">│   │   </span><span style=\"color: #008000; text-decoration-color: #008000\">'for_advanced_students'</span>: <span style=\"color: #008000; text-decoration-color: #008000\">'Cung cấp các tình huống phức tạp hơn, yêu cầu các em phân tích đa chiều hoặc đề xuất giải pháp sáng tạo, đột phá. Khuyến khích các em trình bày sâu hơn về cơ sở lý thuyết hoặc dự đoán kết quả.'</span>\n",
       "<span style=\"color: #7fbf7f; text-decoration-color: #7fbf7f\">│   </span><span style=\"font-weight: bold\">}</span>,\n",
       "<span style=\"color: #7fbf7f; text-decoration-color: #7fbf7f\">│   </span><span style=\"color: #008000; text-decoration-color: #008000\">'question_or_description'</span>: <span style=\"color: #008000; text-decoration-color: #008000\">'**Phần Cốt lõi:**\\nHọc sinh làm việc theo nhóm (3-4 người). Mỗi nhóm nhận một tình huống/vấn đề cụ thể liên quan đến kiến thức đã học. Nhiệm vụ của nhóm là: 1. Đọc và phân tích nhanh tình huống để xác định vấn đề cốt lõi. 2. Vận dụng kiến thức đã học để đề xuất 1-2 giải pháp hoặc ứng dụng cụ thể, khả thi nhất. 3. Chuẩn bị trình bày ngắn gọn (tối đa 2-3 phút) về giải pháp của nhóm, tập trung vào lý do lựa chọn và cách thức thực hiện.\\n\\n**Phần Mở rộng (nếu còn thời gian):**\\nNếu hoàn thành sớm, các nhóm có thể: 1. Suy nghĩ về các rủi ro hoặc thách thức có thể gặp phải khi thực hiện giải pháp và cách khắc phục. 2. Chuẩn bị thêm một câu hỏi phản biện cho các nhóm khác.'</span>\n",
       "<span style=\"font-weight: bold\">}</span>\n",
       "</pre>\n"
      ],
      "text/plain": [
       "\u001b[1m{\u001b[0m\n",
       "\u001b[2;32m│   \u001b[0m\u001b[32m'activity_name'\u001b[0m: \u001b[32m'Vận dụng và Trình bày sản phẩm'\u001b[0m,\n",
       "\u001b[2;32m│   \u001b[0m\u001b[32m'activity_type'\u001b[0m: \u001b[32m'Thảo luận nhóm và Trình bày'\u001b[0m,\n",
       "\u001b[2;32m│   \u001b[0m\u001b[32m'duration_minutes'\u001b[0m: \u001b[1;36m30\u001b[0m,\n",
       "\u001b[2;32m│   \u001b[0m\u001b[32m'teacher_actions'\u001b[0m: \u001b[1m[\u001b[0m\n",
       "\u001b[2;32m│   │   \u001b[0m\u001b[32m'Giới thiệu tình huống/vấn đề và yêu cầu nhiệm vụ rõ ràng cho học sinh \u001b[0m\u001b[32m(\u001b[0m\u001b[32m3 phút\u001b[0m\u001b[32m)\u001b[0m\u001b[32m.'\u001b[0m,\n",
       "\u001b[2;32m│   │   \u001b[0m\u001b[32m'Chia học sinh thành các nhóm nhỏ \u001b[0m\u001b[32m(\u001b[0m\u001b[32m3-4 học sinh/nhóm\u001b[0m\u001b[32m)\u001b[0m\u001b[32m và phát phiếu bài tập/tình huống.'\u001b[0m,\n",
       "\u001b[2;32m│   │   \u001b[0m\u001b[32m'Quan sát, lắng nghe các nhóm thảo luận, kịp thời gợi ý hoặc giải đáp thắc mắc khi cần thiết, đảm bảo các nhóm đi đúng hướng \u001b[0m\u001b[32m(\u001b[0m\u001b[32m15 phút\u001b[0m\u001b[32m)\u001b[0m\u001b[32m.'\u001b[0m,\n",
       "\u001b[2;32m│   │   \u001b[0m\u001b[32m'Quản lý thời gian chặt chẽ cho từng phần hoạt động.'\u001b[0m,\n",
       "\u001b[2;32m│   │   \u001b[0m\u001b[32m'Mời đại diện 3-4 nhóm trình bày ngắn gọn sản phẩm của nhóm \u001b[0m\u001b[32m(\u001b[0m\u001b[32mmỗi nhóm 2-3 phút\u001b[0m\u001b[32m)\u001b[0m\u001b[32m. Tổ chức cho các nhóm khác đặt câu hỏi hoặc góp ý nhanh \u001b[0m\u001b[32m(\u001b[0m\u001b[32m10 phút\u001b[0m\u001b[32m)\u001b[0m\u001b[32m.'\u001b[0m,\n",
       "\u001b[2;32m│   │   \u001b[0m\u001b[32m'Tổng kết các ý tưởng chính, nhận xét, và chốt kiến thức \u001b[0m\u001b[32m(\u001b[0m\u001b[32m2 phút\u001b[0m\u001b[32m)\u001b[0m\u001b[32m.'\u001b[0m\n",
       "\u001b[2;32m│   \u001b[0m\u001b[1m]\u001b[0m,\n",
       "\u001b[2;32m│   \u001b[0m\u001b[32m'core_component'\u001b[0m: \u001b[32m'Học sinh làm việc theo nhóm \u001b[0m\u001b[32m(\u001b[0m\u001b[32m3-4 người\u001b[0m\u001b[32m)\u001b[0m\u001b[32m. Mỗi nhóm nhận một tình huống/vấn đề cụ thể liên quan đến kiến thức đã học. Nhiệm vụ của nhóm là: 1. Đọc và phân tích nhanh tình huống để xác định vấn đề cốt lõi. 2. Vận dụng kiến thức đã học để đề xuất 1-2 giải pháp hoặc ứng dụng cụ thể, khả thi nhất. 3. Chuẩn bị trình bày ngắn gọn \u001b[0m\u001b[32m(\u001b[0m\u001b[32mtối đa 2-3 phút\u001b[0m\u001b[32m)\u001b[0m\u001b[32m về giải pháp của nhóm, tập trung vào lý do lựa chọn và cách thức thực hiện.'\u001b[0m,\n",
       "\u001b[2;32m│   \u001b[0m\u001b[32m'extension_component'\u001b[0m: \u001b[32m'Nếu hoàn thành sớm, các nhóm có thể: 1. Suy nghĩ về các rủi ro hoặc thách thức có thể gặp phải khi thực hiện giải pháp và cách khắc phục. 2. Chuẩn bị thêm một câu hỏi phản biện cho các nhóm khác.'\u001b[0m,\n",
       "\u001b[2;32m│   \u001b[0m\u001b[32m'solution_guide'\u001b[0m: \u001b[32m\"Các giải pháp cần thể hiện sự vận dụng linh hoạt kiến thức, có tính thực tiễn và khả thi. Gợi ý: Đặt câu hỏi mở để học sinh đào sâu suy nghĩ về tính hiệu quả, tính bền vững của giải pháp. Ví dụ: 'Giải pháp này có thể áp dụng trong những trường hợp nào khác?', 'Có cách nào để tối ưu hóa giải pháp này không?'\"\u001b[0m,\n",
       "\u001b[2;32m│   \u001b[0m\u001b[32m'differentiation'\u001b[0m: \u001b[1m{\u001b[0m\n",
       "\u001b[2;32m│   │   \u001b[0m\u001b[32m'for_struggling_students'\u001b[0m: \u001b[32m'Cung cấp các tình huống đơn giản hơn, có cấu trúc rõ ràng hoặc các câu hỏi gợi ý cụ thể để định hướng tư duy. Có thể cho phép các em chỉ cần đề xuất 1 giải pháp.'\u001b[0m,\n",
       "\u001b[2;32m│   │   \u001b[0m\u001b[32m'for_advanced_students'\u001b[0m: \u001b[32m'Cung cấp các tình huống phức tạp hơn, yêu cầu các em phân tích đa chiều hoặc đề xuất giải pháp sáng tạo, đột phá. Khuyến khích các em trình bày sâu hơn về cơ sở lý thuyết hoặc dự đoán kết quả.'\u001b[0m\n",
       "\u001b[2;32m│   \u001b[0m\u001b[1m}\u001b[0m,\n",
       "\u001b[2;32m│   \u001b[0m\u001b[32m'question_or_description'\u001b[0m: \u001b[32m'**Phần Cốt lõi:**\\nHọc sinh làm việc theo nhóm \u001b[0m\u001b[32m(\u001b[0m\u001b[32m3-4 người\u001b[0m\u001b[32m)\u001b[0m\u001b[32m. Mỗi nhóm nhận một tình huống/vấn đề cụ thể liên quan đến kiến thức đã học. Nhiệm vụ của nhóm là: 1. Đọc và phân tích nhanh tình huống để xác định vấn đề cốt lõi. 2. Vận dụng kiến thức đã học để đề xuất 1-2 giải pháp hoặc ứng dụng cụ thể, khả thi nhất. 3. Chuẩn bị trình bày ngắn gọn \u001b[0m\u001b[32m(\u001b[0m\u001b[32mtối đa 2-3 phút\u001b[0m\u001b[32m)\u001b[0m\u001b[32m về giải pháp của nhóm, tập trung vào lý do lựa chọn và cách thức thực hiện.\\n\\n**Phần Mở rộng \u001b[0m\u001b[32m(\u001b[0m\u001b[32mnếu còn thời gian\u001b[0m\u001b[32m)\u001b[0m\u001b[32m:**\\nNếu hoàn thành sớm, các nhóm có thể: 1. Suy nghĩ về các rủi ro hoặc thách thức có thể gặp phải khi thực hiện giải pháp và cách khắc phục. 2. Chuẩn bị thêm một câu hỏi phản biện cho các nhóm khác.'\u001b[0m\n",
       "\u001b[1m}\u001b[0m\n"
      ]
     },
     "metadata": {},
     "output_type": "display_data"
    },
    {
     "data": {
      "text/html": [
       "<pre style=\"white-space:pre;overflow-x:auto;line-height:normal;font-family:Menlo,'DejaVu Sans Mono',consolas,'Courier New',monospace\">\n",
       "<span style=\"color: #808000; text-decoration-color: #808000; font-weight: bold\">------- Hoàn thành bước: activity_designer -------</span>\n",
       "</pre>\n"
      ],
      "text/plain": [
       "\n",
       "\u001b[1;33m------- Hoàn thành bước: activity_designer -------\u001b[0m\n"
      ]
     },
     "metadata": {},
     "output_type": "display_data"
    },
    {
     "data": {
      "text/html": [
       "<pre style=\"white-space:pre;overflow-x:auto;line-height:normal;font-family:Menlo,'DejaVu Sans Mono',consolas,'Courier New',monospace\">\n",
       "<span style=\"color: #008080; text-decoration-color: #008080; font-weight: bold\">&gt;</span> `Agent: Guardian Critic` <span style=\"font-weight: bold\">(</span>v10.<span style=\"color: #008080; text-decoration-color: #008080; font-weight: bold\">0</span><span style=\"font-weight: bold\">)</span> đang bảo vệ kế hoạch<span style=\"color: #808000; text-decoration-color: #808000\">...</span>\n",
       "</pre>\n"
      ],
      "text/plain": [
       "\n",
       "\u001b[1;36m>\u001b[0m `Agent: Guardian Critic` \u001b[1m(\u001b[0mv10.\u001b[1;36m0\u001b[0m\u001b[1m)\u001b[0m đang bảo vệ kế hoạch\u001b[33m...\u001b[0m\n"
      ]
     },
     "metadata": {},
     "output_type": "display_data"
    },
    {
     "data": {
      "text/html": [
       "<pre style=\"white-space:pre;overflow-x:auto;line-height:normal;font-family:Menlo,'DejaVu Sans Mono',consolas,'Courier New',monospace\"><span style=\"color: #808000; text-decoration-color: #808000; font-weight: bold\">⚠️  GUARDIAN PHẢN BIỆN: Hoạt động được thiết kế khá chi tiết và có cấu trúc tốt, tuy nhiên, thời lượng </span><span style=\"color: #808000; text-decoration-color: #808000; font-weight: bold\">30</span><span style=\"color: #808000; text-decoration-color: #808000; font-weight: bold\"> phút là </span>\n",
       "<span style=\"color: #808000; text-decoration-color: #808000; font-weight: bold\">không đủ để thực hiện tất cả các bước một cách hiệu quả. Cụ thể:</span>\n",
       "<span style=\"color: #808000; text-decoration-color: #808000; font-weight: bold\">- </span><span style=\"color: #808000; text-decoration-color: #808000; font-weight: bold\">15</span><span style=\"color: #808000; text-decoration-color: #808000; font-weight: bold\"> phút cho phần thảo luận nhóm bao gồm đọc, phân tích tình huống, vận dụng kiến thức để đề xuất giải pháp và </span>\n",
       "<span style=\"color: #808000; text-decoration-color: #808000; font-weight: bold\">chuẩn bị trình bày là quá ngắn. Học sinh sẽ khó có thể hoàn thành đầy đủ các yêu cầu này một cách sâu sắc.</span>\n",
       "<span style=\"color: #808000; text-decoration-color: #808000; font-weight: bold\">- </span><span style=\"color: #808000; text-decoration-color: #808000; font-weight: bold\">10</span><span style=\"color: #808000; text-decoration-color: #808000; font-weight: bold\"> phút dành cho việc </span><span style=\"color: #808000; text-decoration-color: #808000; font-weight: bold\">3</span><span style=\"color: #808000; text-decoration-color: #808000; font-weight: bold\">-</span><span style=\"color: #808000; text-decoration-color: #808000; font-weight: bold\">4</span><span style=\"color: #808000; text-decoration-color: #808000; font-weight: bold\"> nhóm trình bày (mỗi nhóm </span><span style=\"color: #808000; text-decoration-color: #808000; font-weight: bold\">2</span><span style=\"color: #808000; text-decoration-color: #808000; font-weight: bold\">-</span><span style=\"color: #808000; text-decoration-color: #808000; font-weight: bold\">3</span><span style=\"color: #808000; text-decoration-color: #808000; font-weight: bold\"> phút) và tổ chức hỏi đáp/góp ý nhanh là không khả thi. Nếu</span>\n",
       "<span style=\"color: #808000; text-decoration-color: #808000; font-weight: bold\">3</span><span style=\"color: #808000; text-decoration-color: #808000; font-weight: bold\"> nhóm trình bày mỗi nhóm </span><span style=\"color: #808000; text-decoration-color: #808000; font-weight: bold\">3</span><span style=\"color: #808000; text-decoration-color: #808000; font-weight: bold\"> phút đã hết </span><span style=\"color: #808000; text-decoration-color: #808000; font-weight: bold\">9</span><span style=\"color: #808000; text-decoration-color: #808000; font-weight: bold\"> phút, chỉ còn </span><span style=\"color: #808000; text-decoration-color: #808000; font-weight: bold\">1</span><span style=\"color: #808000; text-decoration-color: #808000; font-weight: bold\"> phút cho phần hỏi đáp cho tất cả các nhóm, điều này không</span>\n",
       "<span style=\"color: #808000; text-decoration-color: #808000; font-weight: bold\">đảm bảo chất lượng tương tác và phản hồi. Nếu có </span><span style=\"color: #808000; text-decoration-color: #808000; font-weight: bold\">4</span><span style=\"color: #808000; text-decoration-color: #808000; font-weight: bold\"> nhóm, thời gian sẽ càng eo hẹp hơn.</span>\n",
       "<span style=\"color: #808000; text-decoration-color: #808000; font-weight: bold\">Hoạt động này rõ ràng sẽ mất nhiều thời gian hơn so với kế hoạch </span><span style=\"color: #808000; text-decoration-color: #808000; font-weight: bold\">30</span><span style=\"color: #808000; text-decoration-color: #808000; font-weight: bold\"> phút đã cho. Hãy thiết kế lại một phiên bản </span>\n",
       "<span style=\"color: #808000; text-decoration-color: #808000; font-weight: bold\">hoạt động đơn giản hơn, ít bước hơn để khớp với thời gian </span><span style=\"color: #808000; text-decoration-color: #808000; font-weight: bold\">30</span><span style=\"color: #808000; text-decoration-color: #808000; font-weight: bold\"> phút đã cho.</span>\n",
       "</pre>\n"
      ],
      "text/plain": [
       "\u001b[1;33m⚠️  GUARDIAN PHẢN BIỆN: Hoạt động được thiết kế khá chi tiết và có cấu trúc tốt, tuy nhiên, thời lượng \u001b[0m\u001b[1;33m30\u001b[0m\u001b[1;33m phút là \u001b[0m\n",
       "\u001b[1;33mkhông đủ để thực hiện tất cả các bước một cách hiệu quả. Cụ thể:\u001b[0m\n",
       "\u001b[1;33m- \u001b[0m\u001b[1;33m15\u001b[0m\u001b[1;33m phút cho phần thảo luận nhóm bao gồm đọc, phân tích tình huống, vận dụng kiến thức để đề xuất giải pháp và \u001b[0m\n",
       "\u001b[1;33mchuẩn bị trình bày là quá ngắn. Học sinh sẽ khó có thể hoàn thành đầy đủ các yêu cầu này một cách sâu sắc.\u001b[0m\n",
       "\u001b[1;33m- \u001b[0m\u001b[1;33m10\u001b[0m\u001b[1;33m phút dành cho việc \u001b[0m\u001b[1;33m3\u001b[0m\u001b[1;33m-\u001b[0m\u001b[1;33m4\u001b[0m\u001b[1;33m nhóm trình bày \u001b[0m\u001b[1;33m(\u001b[0m\u001b[1;33mmỗi nhóm \u001b[0m\u001b[1;33m2\u001b[0m\u001b[1;33m-\u001b[0m\u001b[1;33m3\u001b[0m\u001b[1;33m phút\u001b[0m\u001b[1;33m)\u001b[0m\u001b[1;33m và tổ chức hỏi đáp/góp ý nhanh là không khả thi. Nếu\u001b[0m\n",
       "\u001b[1;33m3\u001b[0m\u001b[1;33m nhóm trình bày mỗi nhóm \u001b[0m\u001b[1;33m3\u001b[0m\u001b[1;33m phút đã hết \u001b[0m\u001b[1;33m9\u001b[0m\u001b[1;33m phút, chỉ còn \u001b[0m\u001b[1;33m1\u001b[0m\u001b[1;33m phút cho phần hỏi đáp cho tất cả các nhóm, điều này không\u001b[0m\n",
       "\u001b[1;33mđảm bảo chất lượng tương tác và phản hồi. Nếu có \u001b[0m\u001b[1;33m4\u001b[0m\u001b[1;33m nhóm, thời gian sẽ càng eo hẹp hơn.\u001b[0m\n",
       "\u001b[1;33mHoạt động này rõ ràng sẽ mất nhiều thời gian hơn so với kế hoạch \u001b[0m\u001b[1;33m30\u001b[0m\u001b[1;33m phút đã cho. Hãy thiết kế lại một phiên bản \u001b[0m\n",
       "\u001b[1;33mhoạt động đơn giản hơn, ít bước hơn để khớp với thời gian \u001b[0m\u001b[1;33m30\u001b[0m\u001b[1;33m phút đã cho.\u001b[0m\n"
      ]
     },
     "metadata": {},
     "output_type": "display_data"
    },
    {
     "data": {
      "text/html": [
       "<pre style=\"white-space:pre;overflow-x:auto;line-height:normal;font-family:Menlo,'DejaVu Sans Mono',consolas,'Courier New',monospace\">\n",
       "<span style=\"color: #808000; text-decoration-color: #808000; font-weight: bold\">------- Hoàn thành bước: content_validator -------</span>\n",
       "</pre>\n"
      ],
      "text/plain": [
       "\n",
       "\u001b[1;33m------- Hoàn thành bước: content_validator -------\u001b[0m\n"
      ]
     },
     "metadata": {},
     "output_type": "display_data"
    },
    {
     "data": {
      "text/html": [
       "<pre style=\"white-space:pre;overflow-x:auto;line-height:normal;font-family:Menlo,'DejaVu Sans Mono',consolas,'Courier New',monospace\">\n",
       "<span style=\"color: #008080; text-decoration-color: #008080; font-weight: bold\">&gt;</span> `Agent: Task Dispatcher` đang giao việc<span style=\"color: #808000; text-decoration-color: #808000\">...</span>\n",
       "</pre>\n"
      ],
      "text/plain": [
       "\n",
       "\u001b[1;36m>\u001b[0m `Agent: Task Dispatcher` đang giao việc\u001b[33m...\u001b[0m\n"
      ]
     },
     "metadata": {},
     "output_type": "display_data"
    },
    {
     "data": {
      "text/html": [
       "<pre style=\"white-space:pre;overflow-x:auto;line-height:normal;font-family:Menlo,'DejaVu Sans Mono',consolas,'Courier New',monospace\">\n",
       "<span style=\"color: #008080; text-decoration-color: #008080; font-weight: bold\">&gt;</span> --- 🚚 `Dispatcher`: Giao nhiệm vụ cho `activity_designer`.\n",
       "</pre>\n"
      ],
      "text/plain": [
       "\n",
       "\u001b[1;36m>\u001b[0m --- 🚚 `Dispatcher`: Giao nhiệm vụ cho `activity_designer`.\n"
      ]
     },
     "metadata": {},
     "output_type": "display_data"
    },
    {
     "data": {
      "text/html": [
       "<pre style=\"white-space:pre;overflow-x:auto;line-height:normal;font-family:Menlo,'DejaVu Sans Mono',consolas,'Courier New',monospace\">\n",
       "<span style=\"color: #808000; text-decoration-color: #808000; font-weight: bold\">------- Hoàn thành bước: task_dispatcher -------</span>\n",
       "</pre>\n"
      ],
      "text/plain": [
       "\n",
       "\u001b[1;33m------- Hoàn thành bước: task_dispatcher -------\u001b[0m\n"
      ]
     },
     "metadata": {},
     "output_type": "display_data"
    },
    {
     "data": {
      "text/html": [
       "<pre style=\"white-space:pre;overflow-x:auto;line-height:normal;font-family:Menlo,'DejaVu Sans Mono',consolas,'Courier New',monospace\">\n",
       "<span style=\"color: #008080; text-decoration-color: #008080; font-weight: bold\">&gt;</span> `Agent: Activity Designer` <span style=\"font-weight: bold\">(</span>v10.<span style=\"color: #008080; text-decoration-color: #008080; font-weight: bold\">0</span><span style=\"font-weight: bold\">)</span> đang tạo nội dung theo kỷ luật<span style=\"color: #808000; text-decoration-color: #808000\">...</span>\n",
       "</pre>\n"
      ],
      "text/plain": [
       "\n",
       "\u001b[1;36m>\u001b[0m `Agent: Activity Designer` \u001b[1m(\u001b[0mv10.\u001b[1;36m0\u001b[0m\u001b[1m)\u001b[0m đang tạo nội dung theo kỷ luật\u001b[33m...\u001b[0m\n"
      ]
     },
     "metadata": {},
     "output_type": "display_data"
    },
    {
     "data": {
      "text/html": [
       "<pre style=\"white-space:pre;overflow-x:auto;line-height:normal;font-family:Menlo,'DejaVu Sans Mono',consolas,'Courier New',monospace\"><span style=\"color: #008000; text-decoration-color: #008000; font-weight: bold\">✔️ Nội dung do Activity Designer tạo ra:</span>\n",
       "</pre>\n"
      ],
      "text/plain": [
       "\u001b[1;32m✔️ Nội dung do Activity Designer tạo ra:\u001b[0m\n"
      ]
     },
     "metadata": {},
     "output_type": "display_data"
    },
    {
     "data": {
      "text/html": [
       "<pre style=\"white-space:pre;overflow-x:auto;line-height:normal;font-family:Menlo,'DejaVu Sans Mono',consolas,'Courier New',monospace\"><span style=\"font-weight: bold\">{</span>\n",
       "<span style=\"color: #7fbf7f; text-decoration-color: #7fbf7f\">│   </span><span style=\"color: #008000; text-decoration-color: #008000\">'activity_name'</span>: <span style=\"color: #008000; text-decoration-color: #008000\">'Vận dụng và Trình bày sản phẩm'</span>,\n",
       "<span style=\"color: #7fbf7f; text-decoration-color: #7fbf7f\">│   </span><span style=\"color: #008000; text-decoration-color: #008000\">'activity_type'</span>: <span style=\"color: #008000; text-decoration-color: #008000\">'Thảo luận nhóm và Chia sẻ nhanh'</span>,\n",
       "<span style=\"color: #7fbf7f; text-decoration-color: #7fbf7f\">│   </span><span style=\"color: #008000; text-decoration-color: #008000\">'duration_minutes'</span>: <span style=\"color: #008080; text-decoration-color: #008080; font-weight: bold\">30</span>,\n",
       "<span style=\"color: #7fbf7f; text-decoration-color: #7fbf7f\">│   </span><span style=\"color: #008000; text-decoration-color: #008000\">'teacher_actions'</span>: <span style=\"font-weight: bold\">[</span>\n",
       "<span style=\"color: #7fbf7f; text-decoration-color: #7fbf7f\">│   │   </span><span style=\"color: #008000; text-decoration-color: #008000\">'Giới thiệu tình huống/vấn đề cụ thể, đảm bảo học sinh hiểu rõ bối cảnh và yêu cầu.'</span>,\n",
       "<span style=\"color: #7fbf7f; text-decoration-color: #7fbf7f\">│   │   </span><span style=\"color: #008000; text-decoration-color: #008000\">'Phân chia nhóm (3-4 học sinh/nhóm) và hướng dẫn rõ ràng nhiệm vụ cốt lõi: xác định vấn đề và đề xuất MỘT giải pháp chính.'</span>,\n",
       "<span style=\"color: #7fbf7f; text-decoration-color: #7fbf7f\">│   │   </span><span style=\"color: #008000; text-decoration-color: #008000\">'Quan sát, đi lại giữa các nhóm để hỗ trợ, gợi mở câu hỏi, và đảm bảo các nhóm đi đúng hướng.'</span>,\n",
       "<span style=\"color: #7fbf7f; text-decoration-color: #7fbf7f\">│   │   </span><span style=\"color: #008000; text-decoration-color: #008000\">'Quản lý thời gian chặt chẽ, thông báo thời gian còn lại cho các nhóm (ví dụ: còn 10 phút, còn 5 phút).'</span>,\n",
       "<span style=\"color: #7fbf7f; text-decoration-color: #7fbf7f\">│   │   </span><span style=\"color: #008000; text-decoration-color: #008000\">'Mời 2-3 nhóm đại diện chia sẻ nhanh (mỗi nhóm tối đa 1 phút) về vấn đề và giải pháp của mình.'</span>,\n",
       "<span style=\"color: #7fbf7f; text-decoration-color: #7fbf7f\">│   │   </span><span style=\"color: #008000; text-decoration-color: #008000\">'Tổng kết các ý tưởng chính, chốt kiến thức trọng tâm và đưa ra nhận xét, phản hồi nhanh cho các nhóm.'</span>\n",
       "<span style=\"color: #7fbf7f; text-decoration-color: #7fbf7f\">│   </span><span style=\"font-weight: bold\">]</span>,\n",
       "<span style=\"color: #7fbf7f; text-decoration-color: #7fbf7f\">│   </span><span style=\"color: #008000; text-decoration-color: #008000\">'core_component'</span>: <span style=\"color: #008000; text-decoration-color: #008000\">'Học sinh làm việc theo nhóm (3-4 người) để đọc và phân tích một tình huống/vấn đề cụ thể (được giáo viên cung cấp). Nhiệm vụ của nhóm là: 1. Xác định vấn đề cốt lõi trong tình huống. 2. Vận dụng kiến thức đã học để đề xuất MỘT giải pháp/ý tưởng chính để giải quyết vấn đề đó. 3. Ghi lại vấn đề và giải pháp vào phiếu học tập hoặc bảng nhóm để chuẩn bị chia sẻ nhanh.'</span>,\n",
       "<span style=\"color: #7fbf7f; text-decoration-color: #7fbf7f\">│   </span><span style=\"color: #008000; text-decoration-color: #008000\">'extension_component'</span>: <span style=\"color: #008000; text-decoration-color: #008000\">'Nếu còn thời gian, các nhóm có thể: 1. Phát triển chi tiết hơn giải pháp của mình (ví dụ: các bước thực hiện, nguồn lực cần thiết). 2. Suy nghĩ về các thách thức tiềm ẩn khi triển khai giải pháp. 3. Trao đổi phiếu học tập với nhóm khác để góp ý nhanh.'</span>,\n",
       "<span style=\"color: #7fbf7f; text-decoration-color: #7fbf7f\">│   </span><span style=\"color: #008000; text-decoration-color: #008000\">'solution_guide'</span>: <span style=\"color: #008000; text-decoration-color: #008000\">'Gợi ý các vấn đề chính có thể xuất hiện trong tình huống. Liệt kê các kiến thức trọng tâm mà học sinh cần vận dụng. Đưa ra các tiêu chí đơn giản để đánh giá giải pháp (ví dụ: tính hợp lý, tính khả thi ban đầu).'</span>,\n",
       "<span style=\"color: #7fbf7f; text-decoration-color: #7fbf7f\">│   </span><span style=\"color: #008000; text-decoration-color: #008000\">'differentiation'</span>: <span style=\"font-weight: bold\">{</span>\n",
       "<span style=\"color: #7fbf7f; text-decoration-color: #7fbf7f\">│   │   </span><span style=\"color: #008000; text-decoration-color: #008000\">'for_struggling_students'</span>: <span style=\"color: #008000; text-decoration-color: #008000\">'Cung cấp tình huống đơn giản hơn hoặc có các câu hỏi gợi ý cụ thể để định hướng tư duy. Có thể ghép nhóm với học sinh khá để nhận được sự hỗ trợ trực tiếp.'</span>,\n",
       "<span style=\"color: #7fbf7f; text-decoration-color: #7fbf7f\">│   │   </span><span style=\"color: #008000; text-decoration-color: #008000\">'for_advanced_students'</span>: <span style=\"color: #008000; text-decoration-color: #008000\">'Yêu cầu phân tích sâu hơn nguyên nhân gốc rễ của vấn đề, hoặc đề xuất giải pháp có tính sáng tạo/đột phá hơn, hoặc dự đoán các yếu tố ảnh hưởng đến sự thành công của giải pháp.'</span>\n",
       "<span style=\"color: #7fbf7f; text-decoration-color: #7fbf7f\">│   </span><span style=\"font-weight: bold\">}</span>,\n",
       "<span style=\"color: #7fbf7f; text-decoration-color: #7fbf7f\">│   </span><span style=\"color: #008000; text-decoration-color: #008000\">'question_or_description'</span>: <span style=\"color: #008000; text-decoration-color: #008000\">'**Phần Cốt lõi:**\\nHọc sinh làm việc theo nhóm (3-4 người) để đọc và phân tích một tình huống/vấn đề cụ thể (được giáo viên cung cấp). Nhiệm vụ của nhóm là: 1. Xác định vấn đề cốt lõi trong tình huống. 2. Vận dụng kiến thức đã học để đề xuất MỘT giải pháp/ý tưởng chính để giải quyết vấn đề đó. 3. Ghi lại vấn đề và giải pháp vào phiếu học tập hoặc bảng nhóm để chuẩn bị chia sẻ nhanh.\\n\\n**Phần Mở rộng (nếu còn thời gian):**\\nNếu còn thời gian, các nhóm có thể: 1. Phát triển chi tiết hơn giải pháp của mình (ví dụ: các bước thực hiện, nguồn lực cần thiết). 2. Suy nghĩ về các thách thức tiềm ẩn khi triển khai giải pháp. 3. Trao đổi phiếu học tập với nhóm khác để góp ý nhanh.'</span>\n",
       "<span style=\"font-weight: bold\">}</span>\n",
       "</pre>\n"
      ],
      "text/plain": [
       "\u001b[1m{\u001b[0m\n",
       "\u001b[2;32m│   \u001b[0m\u001b[32m'activity_name'\u001b[0m: \u001b[32m'Vận dụng và Trình bày sản phẩm'\u001b[0m,\n",
       "\u001b[2;32m│   \u001b[0m\u001b[32m'activity_type'\u001b[0m: \u001b[32m'Thảo luận nhóm và Chia sẻ nhanh'\u001b[0m,\n",
       "\u001b[2;32m│   \u001b[0m\u001b[32m'duration_minutes'\u001b[0m: \u001b[1;36m30\u001b[0m,\n",
       "\u001b[2;32m│   \u001b[0m\u001b[32m'teacher_actions'\u001b[0m: \u001b[1m[\u001b[0m\n",
       "\u001b[2;32m│   │   \u001b[0m\u001b[32m'Giới thiệu tình huống/vấn đề cụ thể, đảm bảo học sinh hiểu rõ bối cảnh và yêu cầu.'\u001b[0m,\n",
       "\u001b[2;32m│   │   \u001b[0m\u001b[32m'Phân chia nhóm \u001b[0m\u001b[32m(\u001b[0m\u001b[32m3-4 học sinh/nhóm\u001b[0m\u001b[32m)\u001b[0m\u001b[32m và hướng dẫn rõ ràng nhiệm vụ cốt lõi: xác định vấn đề và đề xuất MỘT giải pháp chính.'\u001b[0m,\n",
       "\u001b[2;32m│   │   \u001b[0m\u001b[32m'Quan sát, đi lại giữa các nhóm để hỗ trợ, gợi mở câu hỏi, và đảm bảo các nhóm đi đúng hướng.'\u001b[0m,\n",
       "\u001b[2;32m│   │   \u001b[0m\u001b[32m'Quản lý thời gian chặt chẽ, thông báo thời gian còn lại cho các nhóm \u001b[0m\u001b[32m(\u001b[0m\u001b[32mví dụ: còn 10 phút, còn 5 phút\u001b[0m\u001b[32m)\u001b[0m\u001b[32m.'\u001b[0m,\n",
       "\u001b[2;32m│   │   \u001b[0m\u001b[32m'Mời 2-3 nhóm đại diện chia sẻ nhanh \u001b[0m\u001b[32m(\u001b[0m\u001b[32mmỗi nhóm tối đa 1 phút\u001b[0m\u001b[32m)\u001b[0m\u001b[32m về vấn đề và giải pháp của mình.'\u001b[0m,\n",
       "\u001b[2;32m│   │   \u001b[0m\u001b[32m'Tổng kết các ý tưởng chính, chốt kiến thức trọng tâm và đưa ra nhận xét, phản hồi nhanh cho các nhóm.'\u001b[0m\n",
       "\u001b[2;32m│   \u001b[0m\u001b[1m]\u001b[0m,\n",
       "\u001b[2;32m│   \u001b[0m\u001b[32m'core_component'\u001b[0m: \u001b[32m'Học sinh làm việc theo nhóm \u001b[0m\u001b[32m(\u001b[0m\u001b[32m3-4 người\u001b[0m\u001b[32m)\u001b[0m\u001b[32m để đọc và phân tích một tình huống/vấn đề cụ thể \u001b[0m\u001b[32m(\u001b[0m\u001b[32mđược giáo viên cung cấp\u001b[0m\u001b[32m)\u001b[0m\u001b[32m. Nhiệm vụ của nhóm là: 1. Xác định vấn đề cốt lõi trong tình huống. 2. Vận dụng kiến thức đã học để đề xuất MỘT giải pháp/ý tưởng chính để giải quyết vấn đề đó. 3. Ghi lại vấn đề và giải pháp vào phiếu học tập hoặc bảng nhóm để chuẩn bị chia sẻ nhanh.'\u001b[0m,\n",
       "\u001b[2;32m│   \u001b[0m\u001b[32m'extension_component'\u001b[0m: \u001b[32m'Nếu còn thời gian, các nhóm có thể: 1. Phát triển chi tiết hơn giải pháp của mình \u001b[0m\u001b[32m(\u001b[0m\u001b[32mví dụ: các bước thực hiện, nguồn lực cần thiết\u001b[0m\u001b[32m)\u001b[0m\u001b[32m. 2. Suy nghĩ về các thách thức tiềm ẩn khi triển khai giải pháp. 3. Trao đổi phiếu học tập với nhóm khác để góp ý nhanh.'\u001b[0m,\n",
       "\u001b[2;32m│   \u001b[0m\u001b[32m'solution_guide'\u001b[0m: \u001b[32m'Gợi ý các vấn đề chính có thể xuất hiện trong tình huống. Liệt kê các kiến thức trọng tâm mà học sinh cần vận dụng. Đưa ra các tiêu chí đơn giản để đánh giá giải pháp \u001b[0m\u001b[32m(\u001b[0m\u001b[32mví dụ: tính hợp lý, tính khả thi ban đầu\u001b[0m\u001b[32m)\u001b[0m\u001b[32m.'\u001b[0m,\n",
       "\u001b[2;32m│   \u001b[0m\u001b[32m'differentiation'\u001b[0m: \u001b[1m{\u001b[0m\n",
       "\u001b[2;32m│   │   \u001b[0m\u001b[32m'for_struggling_students'\u001b[0m: \u001b[32m'Cung cấp tình huống đơn giản hơn hoặc có các câu hỏi gợi ý cụ thể để định hướng tư duy. Có thể ghép nhóm với học sinh khá để nhận được sự hỗ trợ trực tiếp.'\u001b[0m,\n",
       "\u001b[2;32m│   │   \u001b[0m\u001b[32m'for_advanced_students'\u001b[0m: \u001b[32m'Yêu cầu phân tích sâu hơn nguyên nhân gốc rễ của vấn đề, hoặc đề xuất giải pháp có tính sáng tạo/đột phá hơn, hoặc dự đoán các yếu tố ảnh hưởng đến sự thành công của giải pháp.'\u001b[0m\n",
       "\u001b[2;32m│   \u001b[0m\u001b[1m}\u001b[0m,\n",
       "\u001b[2;32m│   \u001b[0m\u001b[32m'question_or_description'\u001b[0m: \u001b[32m'**Phần Cốt lõi:**\\nHọc sinh làm việc theo nhóm \u001b[0m\u001b[32m(\u001b[0m\u001b[32m3-4 người\u001b[0m\u001b[32m)\u001b[0m\u001b[32m để đọc và phân tích một tình huống/vấn đề cụ thể \u001b[0m\u001b[32m(\u001b[0m\u001b[32mđược giáo viên cung cấp\u001b[0m\u001b[32m)\u001b[0m\u001b[32m. Nhiệm vụ của nhóm là: 1. Xác định vấn đề cốt lõi trong tình huống. 2. Vận dụng kiến thức đã học để đề xuất MỘT giải pháp/ý tưởng chính để giải quyết vấn đề đó. 3. Ghi lại vấn đề và giải pháp vào phiếu học tập hoặc bảng nhóm để chuẩn bị chia sẻ nhanh.\\n\\n**Phần Mở rộng \u001b[0m\u001b[32m(\u001b[0m\u001b[32mnếu còn thời gian\u001b[0m\u001b[32m)\u001b[0m\u001b[32m:**\\nNếu còn thời gian, các nhóm có thể: 1. Phát triển chi tiết hơn giải pháp của mình \u001b[0m\u001b[32m(\u001b[0m\u001b[32mví dụ: các bước thực hiện, nguồn lực cần thiết\u001b[0m\u001b[32m)\u001b[0m\u001b[32m. 2. Suy nghĩ về các thách thức tiềm ẩn khi triển khai giải pháp. 3. Trao đổi phiếu học tập với nhóm khác để góp ý nhanh.'\u001b[0m\n",
       "\u001b[1m}\u001b[0m\n"
      ]
     },
     "metadata": {},
     "output_type": "display_data"
    },
    {
     "data": {
      "text/html": [
       "<pre style=\"white-space:pre;overflow-x:auto;line-height:normal;font-family:Menlo,'DejaVu Sans Mono',consolas,'Courier New',monospace\">\n",
       "<span style=\"color: #808000; text-decoration-color: #808000; font-weight: bold\">------- Hoàn thành bước: activity_designer -------</span>\n",
       "</pre>\n"
      ],
      "text/plain": [
       "\n",
       "\u001b[1;33m------- Hoàn thành bước: activity_designer -------\u001b[0m\n"
      ]
     },
     "metadata": {},
     "output_type": "display_data"
    },
    {
     "data": {
      "text/html": [
       "<pre style=\"white-space:pre;overflow-x:auto;line-height:normal;font-family:Menlo,'DejaVu Sans Mono',consolas,'Courier New',monospace\">\n",
       "<span style=\"color: #008080; text-decoration-color: #008080; font-weight: bold\">&gt;</span> `Agent: Guardian Critic` <span style=\"font-weight: bold\">(</span>v10.<span style=\"color: #008080; text-decoration-color: #008080; font-weight: bold\">0</span><span style=\"font-weight: bold\">)</span> đang bảo vệ kế hoạch<span style=\"color: #808000; text-decoration-color: #808000\">...</span>\n",
       "</pre>\n"
      ],
      "text/plain": [
       "\n",
       "\u001b[1;36m>\u001b[0m `Agent: Guardian Critic` \u001b[1m(\u001b[0mv10.\u001b[1;36m0\u001b[0m\u001b[1m)\u001b[0m đang bảo vệ kế hoạch\u001b[33m...\u001b[0m\n"
      ]
     },
     "metadata": {},
     "output_type": "display_data"
    },
    {
     "data": {
      "text/html": [
       "<pre style=\"white-space:pre;overflow-x:auto;line-height:normal;font-family:Menlo,'DejaVu Sans Mono',consolas,'Courier New',monospace\"><span style=\"color: #808000; text-decoration-color: #808000; font-weight: bold\">⚠️  GUARDIAN PHẢN BIỆN: Hoạt động được thiết kế khá chi tiết và có tính sư phạm tốt. Tuy nhiên, với thời lượng </span><span style=\"color: #808000; text-decoration-color: #808000; font-weight: bold\">30</span><span style=\"color: #808000; text-decoration-color: #808000; font-weight: bold\"> </span>\n",
       "<span style=\"color: #808000; text-decoration-color: #808000; font-weight: bold\">phút, việc thực hiện đầy đủ các bước từ giới thiệu, phân nhóm, học sinh đọc-phân tích tình huống, xác định vấn đề, </span>\n",
       "<span style=\"color: #808000; text-decoration-color: #808000; font-weight: bold\">vận dụng kiến thức để đề xuất giải pháp, ghi lại, cho đến việc </span><span style=\"color: #808000; text-decoration-color: #808000; font-weight: bold\">2</span><span style=\"color: #808000; text-decoration-color: #808000; font-weight: bold\">-</span><span style=\"color: #808000; text-decoration-color: #808000; font-weight: bold\">3</span><span style=\"color: #808000; text-decoration-color: #808000; font-weight: bold\"> nhóm chia sẻ và giáo viên tổng kết, phản hồi là </span>\n",
       "<span style=\"color: #808000; text-decoration-color: #808000; font-weight: bold\">quá nhiều. Hoạt động này có nguy cơ bị gấp gáp, học sinh không đủ thời gian để tư duy sâu và trình bày hiệu quả. </span>\n",
       "<span style=\"color: #808000; text-decoration-color: #808000; font-weight: bold\">Hãy thiết kế lại một phiên bản hoạt động đơn giản hơn, ít bước hơn để khớp với thời gian </span><span style=\"color: #808000; text-decoration-color: #808000; font-weight: bold\">30</span><span style=\"color: #808000; text-decoration-color: #808000; font-weight: bold\"> phút đã cho.</span>\n",
       "</pre>\n"
      ],
      "text/plain": [
       "\u001b[1;33m⚠️  GUARDIAN PHẢN BIỆN: Hoạt động được thiết kế khá chi tiết và có tính sư phạm tốt. Tuy nhiên, với thời lượng \u001b[0m\u001b[1;33m30\u001b[0m\u001b[1;33m \u001b[0m\n",
       "\u001b[1;33mphút, việc thực hiện đầy đủ các bước từ giới thiệu, phân nhóm, học sinh đọc-phân tích tình huống, xác định vấn đề, \u001b[0m\n",
       "\u001b[1;33mvận dụng kiến thức để đề xuất giải pháp, ghi lại, cho đến việc \u001b[0m\u001b[1;33m2\u001b[0m\u001b[1;33m-\u001b[0m\u001b[1;33m3\u001b[0m\u001b[1;33m nhóm chia sẻ và giáo viên tổng kết, phản hồi là \u001b[0m\n",
       "\u001b[1;33mquá nhiều. Hoạt động này có nguy cơ bị gấp gáp, học sinh không đủ thời gian để tư duy sâu và trình bày hiệu quả. \u001b[0m\n",
       "\u001b[1;33mHãy thiết kế lại một phiên bản hoạt động đơn giản hơn, ít bước hơn để khớp với thời gian \u001b[0m\u001b[1;33m30\u001b[0m\u001b[1;33m phút đã cho.\u001b[0m\n"
      ]
     },
     "metadata": {},
     "output_type": "display_data"
    },
    {
     "data": {
      "text/html": [
       "<pre style=\"white-space:pre;overflow-x:auto;line-height:normal;font-family:Menlo,'DejaVu Sans Mono',consolas,'Courier New',monospace\">\n",
       "<span style=\"color: #808000; text-decoration-color: #808000; font-weight: bold\">------- Hoàn thành bước: content_validator -------</span>\n",
       "</pre>\n"
      ],
      "text/plain": [
       "\n",
       "\u001b[1;33m------- Hoàn thành bước: content_validator -------\u001b[0m\n"
      ]
     },
     "metadata": {},
     "output_type": "display_data"
    },
    {
     "data": {
      "text/html": [
       "<pre style=\"white-space:pre;overflow-x:auto;line-height:normal;font-family:Menlo,'DejaVu Sans Mono',consolas,'Courier New',monospace\">\n",
       "<span style=\"color: #008080; text-decoration-color: #008080; font-weight: bold\">&gt;</span> `Agent: Task Dispatcher` đang giao việc<span style=\"color: #808000; text-decoration-color: #808000\">...</span>\n",
       "</pre>\n"
      ],
      "text/plain": [
       "\n",
       "\u001b[1;36m>\u001b[0m `Agent: Task Dispatcher` đang giao việc\u001b[33m...\u001b[0m\n"
      ]
     },
     "metadata": {},
     "output_type": "display_data"
    },
    {
     "data": {
      "text/html": [
       "<pre style=\"white-space:pre;overflow-x:auto;line-height:normal;font-family:Menlo,'DejaVu Sans Mono',consolas,'Courier New',monospace\">\n",
       "<span style=\"color: #008080; text-decoration-color: #008080; font-weight: bold\">&gt;</span> --- 🚚 `Dispatcher`: Giao nhiệm vụ cho `activity_designer`.\n",
       "</pre>\n"
      ],
      "text/plain": [
       "\n",
       "\u001b[1;36m>\u001b[0m --- 🚚 `Dispatcher`: Giao nhiệm vụ cho `activity_designer`.\n"
      ]
     },
     "metadata": {},
     "output_type": "display_data"
    },
    {
     "data": {
      "text/html": [
       "<pre style=\"white-space:pre;overflow-x:auto;line-height:normal;font-family:Menlo,'DejaVu Sans Mono',consolas,'Courier New',monospace\">\n",
       "<span style=\"color: #808000; text-decoration-color: #808000; font-weight: bold\">------- Hoàn thành bước: task_dispatcher -------</span>\n",
       "</pre>\n"
      ],
      "text/plain": [
       "\n",
       "\u001b[1;33m------- Hoàn thành bước: task_dispatcher -------\u001b[0m\n"
      ]
     },
     "metadata": {},
     "output_type": "display_data"
    },
    {
     "data": {
      "text/html": [
       "<pre style=\"white-space:pre;overflow-x:auto;line-height:normal;font-family:Menlo,'DejaVu Sans Mono',consolas,'Courier New',monospace\">\n",
       "<span style=\"color: #008080; text-decoration-color: #008080; font-weight: bold\">&gt;</span> `Agent: Activity Designer` <span style=\"font-weight: bold\">(</span>v10.<span style=\"color: #008080; text-decoration-color: #008080; font-weight: bold\">0</span><span style=\"font-weight: bold\">)</span> đang tạo nội dung theo kỷ luật<span style=\"color: #808000; text-decoration-color: #808000\">...</span>\n",
       "</pre>\n"
      ],
      "text/plain": [
       "\n",
       "\u001b[1;36m>\u001b[0m `Agent: Activity Designer` \u001b[1m(\u001b[0mv10.\u001b[1;36m0\u001b[0m\u001b[1m)\u001b[0m đang tạo nội dung theo kỷ luật\u001b[33m...\u001b[0m\n"
      ]
     },
     "metadata": {},
     "output_type": "display_data"
    },
    {
     "data": {
      "text/html": [
       "<pre style=\"white-space:pre;overflow-x:auto;line-height:normal;font-family:Menlo,'DejaVu Sans Mono',consolas,'Courier New',monospace\"><span style=\"color: #008000; text-decoration-color: #008000; font-weight: bold\">✔️ Nội dung do Activity Designer tạo ra:</span>\n",
       "</pre>\n"
      ],
      "text/plain": [
       "\u001b[1;32m✔️ Nội dung do Activity Designer tạo ra:\u001b[0m\n"
      ]
     },
     "metadata": {},
     "output_type": "display_data"
    },
    {
     "data": {
      "text/html": [
       "<pre style=\"white-space:pre;overflow-x:auto;line-height:normal;font-family:Menlo,'DejaVu Sans Mono',consolas,'Courier New',monospace\"><span style=\"font-weight: bold\">{</span>\n",
       "<span style=\"color: #7fbf7f; text-decoration-color: #7fbf7f\">│   </span><span style=\"color: #008000; text-decoration-color: #008000\">'activity_name'</span>: <span style=\"color: #008000; text-decoration-color: #008000\">'Vận dụng và Trình bày sản phẩm'</span>,\n",
       "<span style=\"color: #7fbf7f; text-decoration-color: #7fbf7f\">│   </span><span style=\"color: #008000; text-decoration-color: #008000\">'activity_type'</span>: <span style=\"color: #008000; text-decoration-color: #008000\">'Thảo luận nhóm và Trình bày'</span>,\n",
       "<span style=\"color: #7fbf7f; text-decoration-color: #7fbf7f\">│   </span><span style=\"color: #008000; text-decoration-color: #008000\">'duration_minutes'</span>: <span style=\"color: #008080; text-decoration-color: #008080; font-weight: bold\">30</span>,\n",
       "<span style=\"color: #7fbf7f; text-decoration-color: #7fbf7f\">│   </span><span style=\"color: #008000; text-decoration-color: #008000\">'teacher_actions'</span>: <span style=\"font-weight: bold\">[</span>\n",
       "<span style=\"color: #7fbf7f; text-decoration-color: #7fbf7f\">│   │   </span><span style=\"color: #008000; text-decoration-color: #008000\">'Giới thiệu nhiệm vụ, mục tiêu và thời gian hoạt động (2 phút).'</span>,\n",
       "<span style=\"color: #7fbf7f; text-decoration-color: #7fbf7f\">│   │   </span><span style=\"color: #008000; text-decoration-color: #008000\">'Chia nhóm (nếu cần) và phát tình huống/phiếu hoạt động (1 phút).'</span>,\n",
       "<span style=\"color: #7fbf7f; text-decoration-color: #7fbf7f\">│   │   </span><span style=\"color: #008000; text-decoration-color: #008000\">'Quan sát các nhóm làm việc, lắng nghe, gợi ý, hỗ trợ khi học sinh gặp khó khăn, đảm bảo các nhóm đi đúng hướng và quản lý thời gian hiệu quả (15 phút).'</span>,\n",
       "<span style=\"color: #7fbf7f; text-decoration-color: #7fbf7f\">│   │   </span><span style=\"color: #008000; text-decoration-color: #008000\">'Mời 1-2 nhóm xung phong hoặc chỉ định trình bày sản phẩm/giải pháp của nhóm (1 phút).'</span>,\n",
       "<span style=\"color: #7fbf7f; text-decoration-color: #7fbf7f\">│   │   </span><span style=\"color: #008000; text-decoration-color: #008000\">'Lắng nghe các nhóm trình bày, đặt câu hỏi gợi mở để làm rõ ý tưởng hoặc khuyến khích tư duy phản biện (6-8 phút cho 2 nhóm).'</span>,\n",
       "<span style=\"color: #7fbf7f; text-decoration-color: #7fbf7f\">│   │   </span><span style=\"color: #008000; text-decoration-color: #008000\">'Tổng kết, nhận xét, đánh giá các giải pháp, chốt kiến thức trọng tâm và liên hệ thực tiễn (3-4 phút).'</span>\n",
       "<span style=\"color: #7fbf7f; text-decoration-color: #7fbf7f\">│   </span><span style=\"font-weight: bold\">]</span>,\n",
       "<span style=\"color: #7fbf7f; text-decoration-color: #7fbf7f\">│   </span><span style=\"color: #008000; text-decoration-color: #008000\">'core_component'</span>: <span style=\"color: #008000; text-decoration-color: #008000\">'Học sinh làm việc theo nhóm (3-4 em/nhóm) để giải quyết một tình huống/vấn đề thực tiễn cụ thể (do giáo viên cung cấp) bằng cách vận dụng kiến thức đã học. Các nhóm cần nhanh chóng phân tích tình huống, đề xuất 1-2 giải pháp khả thi và ghi lại các ý chính vào phiếu/bảng nhóm. Sau đó, 1-2 nhóm sẽ được mời trình bày ngắn gọn giải pháp của mình trước lớp.'</span>,\n",
       "<span style=\"color: #7fbf7f; text-decoration-color: #7fbf7f\">│   </span><span style=\"color: #008000; text-decoration-color: #008000\">'extension_component'</span>: <span style=\"color: #008000; text-decoration-color: #008000\">'Các nhóm hoàn thành sớm có thể: 1) Phát triển thêm các giải pháp phụ hoặc các phương án dự phòng cho tình huống. 2) Chuẩn bị một cách trình bày sáng tạo hơn (ví dụ: sơ đồ tư duy, poster nhỏ). 3) Suy nghĩ về những thách thức khi triển khai giải pháp trong thực tế và cách vượt qua.'</span>,\n",
       "<span style=\"color: #7fbf7f; text-decoration-color: #7fbf7f\">│   </span><span style=\"color: #008000; text-decoration-color: #008000\">'solution_guide'</span>: <span style=\"color: #008000; text-decoration-color: #008000\">'Các giải pháp cần bám sát kiến thức đã học và có tính khả thi. Giáo viên nên chuẩn bị sẵn 1-2 ví dụ giải pháp mẫu hoặc các ý tưởng chính để chốt kiến thức. Gợi ý các tiêu chí đánh giá sản phẩm: tính logic, tính sáng tạo, tính khả thi, khả năng vận dụng kiến thức.'</span>,\n",
       "<span style=\"color: #7fbf7f; text-decoration-color: #7fbf7f\">│   </span><span style=\"color: #008000; text-decoration-color: #008000\">'differentiation'</span>: <span style=\"font-weight: bold\">{</span>\n",
       "<span style=\"color: #7fbf7f; text-decoration-color: #7fbf7f\">│   │   </span><span style=\"color: #008000; text-decoration-color: #008000\">'for_struggling_students'</span>: <span style=\"color: #008000; text-decoration-color: #008000\">'Giáo viên có thể cung cấp các câu hỏi gợi ý cụ thể hơn, hoặc cho phép các em làm việc theo cặp với học sinh khá hơn. Có thể cung cấp một khung sườn đơn giản để các em điền thông tin giải pháp.'</span>,\n",
       "<span style=\"color: #7fbf7f; text-decoration-color: #7fbf7f\">│   │   </span><span style=\"color: #008000; text-decoration-color: #008000\">'for_advanced_students'</span>: <span style=\"color: #008000; text-decoration-color: #008000\">'Khuyến khích các em đề xuất giải pháp có tính sáng tạo, đột phá hoặc xem xét các yếu tố đa chiều (kinh tế, xã hội, môi trường) khi đưa ra giải pháp. Yêu cầu các em dự đoán các khó khăn và cách khắc phục khi triển khai giải pháp.'</span>\n",
       "<span style=\"color: #7fbf7f; text-decoration-color: #7fbf7f\">│   </span><span style=\"font-weight: bold\">}</span>,\n",
       "<span style=\"color: #7fbf7f; text-decoration-color: #7fbf7f\">│   </span><span style=\"color: #008000; text-decoration-color: #008000\">'question_or_description'</span>: <span style=\"color: #008000; text-decoration-color: #008000\">'**Phần Cốt lõi:**\\nHọc sinh làm việc theo nhóm (3-4 em/nhóm) để giải quyết một tình huống/vấn đề thực tiễn cụ thể (do giáo viên cung cấp) bằng cách vận dụng kiến thức đã học. Các nhóm cần nhanh chóng phân tích tình huống, đề xuất 1-2 giải pháp khả thi và ghi lại các ý chính vào phiếu/bảng nhóm. Sau đó, 1-2 nhóm sẽ được mời trình bày ngắn gọn giải pháp của mình trước lớp.\\n\\n**Phần Mở rộng (nếu còn thời gian):**\\nCác nhóm hoàn thành sớm có thể: 1) Phát triển thêm các giải pháp phụ hoặc các phương án dự phòng cho tình huống. 2) Chuẩn bị một cách trình bày sáng tạo hơn (ví dụ: sơ đồ tư duy, poster nhỏ). 3) Suy nghĩ về những thách thức khi triển khai giải pháp trong thực tế và cách vượt qua.'</span>\n",
       "<span style=\"font-weight: bold\">}</span>\n",
       "</pre>\n"
      ],
      "text/plain": [
       "\u001b[1m{\u001b[0m\n",
       "\u001b[2;32m│   \u001b[0m\u001b[32m'activity_name'\u001b[0m: \u001b[32m'Vận dụng và Trình bày sản phẩm'\u001b[0m,\n",
       "\u001b[2;32m│   \u001b[0m\u001b[32m'activity_type'\u001b[0m: \u001b[32m'Thảo luận nhóm và Trình bày'\u001b[0m,\n",
       "\u001b[2;32m│   \u001b[0m\u001b[32m'duration_minutes'\u001b[0m: \u001b[1;36m30\u001b[0m,\n",
       "\u001b[2;32m│   \u001b[0m\u001b[32m'teacher_actions'\u001b[0m: \u001b[1m[\u001b[0m\n",
       "\u001b[2;32m│   │   \u001b[0m\u001b[32m'Giới thiệu nhiệm vụ, mục tiêu và thời gian hoạt động \u001b[0m\u001b[32m(\u001b[0m\u001b[32m2 phút\u001b[0m\u001b[32m)\u001b[0m\u001b[32m.'\u001b[0m,\n",
       "\u001b[2;32m│   │   \u001b[0m\u001b[32m'Chia nhóm \u001b[0m\u001b[32m(\u001b[0m\u001b[32mnếu cần\u001b[0m\u001b[32m)\u001b[0m\u001b[32m và phát tình huống/phiếu hoạt động \u001b[0m\u001b[32m(\u001b[0m\u001b[32m1 phút\u001b[0m\u001b[32m)\u001b[0m\u001b[32m.'\u001b[0m,\n",
       "\u001b[2;32m│   │   \u001b[0m\u001b[32m'Quan sát các nhóm làm việc, lắng nghe, gợi ý, hỗ trợ khi học sinh gặp khó khăn, đảm bảo các nhóm đi đúng hướng và quản lý thời gian hiệu quả \u001b[0m\u001b[32m(\u001b[0m\u001b[32m15 phút\u001b[0m\u001b[32m)\u001b[0m\u001b[32m.'\u001b[0m,\n",
       "\u001b[2;32m│   │   \u001b[0m\u001b[32m'Mời 1-2 nhóm xung phong hoặc chỉ định trình bày sản phẩm/giải pháp của nhóm \u001b[0m\u001b[32m(\u001b[0m\u001b[32m1 phút\u001b[0m\u001b[32m)\u001b[0m\u001b[32m.'\u001b[0m,\n",
       "\u001b[2;32m│   │   \u001b[0m\u001b[32m'Lắng nghe các nhóm trình bày, đặt câu hỏi gợi mở để làm rõ ý tưởng hoặc khuyến khích tư duy phản biện \u001b[0m\u001b[32m(\u001b[0m\u001b[32m6-8 phút cho 2 nhóm\u001b[0m\u001b[32m)\u001b[0m\u001b[32m.'\u001b[0m,\n",
       "\u001b[2;32m│   │   \u001b[0m\u001b[32m'Tổng kết, nhận xét, đánh giá các giải pháp, chốt kiến thức trọng tâm và liên hệ thực tiễn \u001b[0m\u001b[32m(\u001b[0m\u001b[32m3-4 phút\u001b[0m\u001b[32m)\u001b[0m\u001b[32m.'\u001b[0m\n",
       "\u001b[2;32m│   \u001b[0m\u001b[1m]\u001b[0m,\n",
       "\u001b[2;32m│   \u001b[0m\u001b[32m'core_component'\u001b[0m: \u001b[32m'Học sinh làm việc theo nhóm \u001b[0m\u001b[32m(\u001b[0m\u001b[32m3-4 em/nhóm\u001b[0m\u001b[32m)\u001b[0m\u001b[32m để giải quyết một tình huống/vấn đề thực tiễn cụ thể \u001b[0m\u001b[32m(\u001b[0m\u001b[32mdo giáo viên cung cấp\u001b[0m\u001b[32m)\u001b[0m\u001b[32m bằng cách vận dụng kiến thức đã học. Các nhóm cần nhanh chóng phân tích tình huống, đề xuất 1-2 giải pháp khả thi và ghi lại các ý chính vào phiếu/bảng nhóm. Sau đó, 1-2 nhóm sẽ được mời trình bày ngắn gọn giải pháp của mình trước lớp.'\u001b[0m,\n",
       "\u001b[2;32m│   \u001b[0m\u001b[32m'extension_component'\u001b[0m: \u001b[32m'Các nhóm hoàn thành sớm có thể: 1\u001b[0m\u001b[32m)\u001b[0m\u001b[32m Phát triển thêm các giải pháp phụ hoặc các phương án dự phòng cho tình huống. 2\u001b[0m\u001b[32m)\u001b[0m\u001b[32m Chuẩn bị một cách trình bày sáng tạo hơn \u001b[0m\u001b[32m(\u001b[0m\u001b[32mví dụ: sơ đồ tư duy, poster nhỏ\u001b[0m\u001b[32m)\u001b[0m\u001b[32m. 3\u001b[0m\u001b[32m)\u001b[0m\u001b[32m Suy nghĩ về những thách thức khi triển khai giải pháp trong thực tế và cách vượt qua.'\u001b[0m,\n",
       "\u001b[2;32m│   \u001b[0m\u001b[32m'solution_guide'\u001b[0m: \u001b[32m'Các giải pháp cần bám sát kiến thức đã học và có tính khả thi. Giáo viên nên chuẩn bị sẵn 1-2 ví dụ giải pháp mẫu hoặc các ý tưởng chính để chốt kiến thức. Gợi ý các tiêu chí đánh giá sản phẩm: tính logic, tính sáng tạo, tính khả thi, khả năng vận dụng kiến thức.'\u001b[0m,\n",
       "\u001b[2;32m│   \u001b[0m\u001b[32m'differentiation'\u001b[0m: \u001b[1m{\u001b[0m\n",
       "\u001b[2;32m│   │   \u001b[0m\u001b[32m'for_struggling_students'\u001b[0m: \u001b[32m'Giáo viên có thể cung cấp các câu hỏi gợi ý cụ thể hơn, hoặc cho phép các em làm việc theo cặp với học sinh khá hơn. Có thể cung cấp một khung sườn đơn giản để các em điền thông tin giải pháp.'\u001b[0m,\n",
       "\u001b[2;32m│   │   \u001b[0m\u001b[32m'for_advanced_students'\u001b[0m: \u001b[32m'Khuyến khích các em đề xuất giải pháp có tính sáng tạo, đột phá hoặc xem xét các yếu tố đa chiều \u001b[0m\u001b[32m(\u001b[0m\u001b[32mkinh tế, xã hội, môi trường\u001b[0m\u001b[32m)\u001b[0m\u001b[32m khi đưa ra giải pháp. Yêu cầu các em dự đoán các khó khăn và cách khắc phục khi triển khai giải pháp.'\u001b[0m\n",
       "\u001b[2;32m│   \u001b[0m\u001b[1m}\u001b[0m,\n",
       "\u001b[2;32m│   \u001b[0m\u001b[32m'question_or_description'\u001b[0m: \u001b[32m'**Phần Cốt lõi:**\\nHọc sinh làm việc theo nhóm \u001b[0m\u001b[32m(\u001b[0m\u001b[32m3-4 em/nhóm\u001b[0m\u001b[32m)\u001b[0m\u001b[32m để giải quyết một tình huống/vấn đề thực tiễn cụ thể \u001b[0m\u001b[32m(\u001b[0m\u001b[32mdo giáo viên cung cấp\u001b[0m\u001b[32m)\u001b[0m\u001b[32m bằng cách vận dụng kiến thức đã học. Các nhóm cần nhanh chóng phân tích tình huống, đề xuất 1-2 giải pháp khả thi và ghi lại các ý chính vào phiếu/bảng nhóm. Sau đó, 1-2 nhóm sẽ được mời trình bày ngắn gọn giải pháp của mình trước lớp.\\n\\n**Phần Mở rộng \u001b[0m\u001b[32m(\u001b[0m\u001b[32mnếu còn thời gian\u001b[0m\u001b[32m)\u001b[0m\u001b[32m:**\\nCác nhóm hoàn thành sớm có thể: 1\u001b[0m\u001b[32m)\u001b[0m\u001b[32m Phát triển thêm các giải pháp phụ hoặc các phương án dự phòng cho tình huống. 2\u001b[0m\u001b[32m)\u001b[0m\u001b[32m Chuẩn bị một cách trình bày sáng tạo hơn \u001b[0m\u001b[32m(\u001b[0m\u001b[32mví dụ: sơ đồ tư duy, poster nhỏ\u001b[0m\u001b[32m)\u001b[0m\u001b[32m. 3\u001b[0m\u001b[32m)\u001b[0m\u001b[32m Suy nghĩ về những thách thức khi triển khai giải pháp trong thực tế và cách vượt qua.'\u001b[0m\n",
       "\u001b[1m}\u001b[0m\n"
      ]
     },
     "metadata": {},
     "output_type": "display_data"
    },
    {
     "data": {
      "text/html": [
       "<pre style=\"white-space:pre;overflow-x:auto;line-height:normal;font-family:Menlo,'DejaVu Sans Mono',consolas,'Courier New',monospace\">\n",
       "<span style=\"color: #808000; text-decoration-color: #808000; font-weight: bold\">------- Hoàn thành bước: activity_designer -------</span>\n",
       "</pre>\n"
      ],
      "text/plain": [
       "\n",
       "\u001b[1;33m------- Hoàn thành bước: activity_designer -------\u001b[0m\n"
      ]
     },
     "metadata": {},
     "output_type": "display_data"
    },
    {
     "data": {
      "text/html": [
       "<pre style=\"white-space:pre;overflow-x:auto;line-height:normal;font-family:Menlo,'DejaVu Sans Mono',consolas,'Courier New',monospace\">\n",
       "<span style=\"color: #008080; text-decoration-color: #008080; font-weight: bold\">&gt;</span> `Agent: Guardian Critic` <span style=\"font-weight: bold\">(</span>v10.<span style=\"color: #008080; text-decoration-color: #008080; font-weight: bold\">0</span><span style=\"font-weight: bold\">)</span> đang bảo vệ kế hoạch<span style=\"color: #808000; text-decoration-color: #808000\">...</span>\n",
       "</pre>\n"
      ],
      "text/plain": [
       "\n",
       "\u001b[1;36m>\u001b[0m `Agent: Guardian Critic` \u001b[1m(\u001b[0mv10.\u001b[1;36m0\u001b[0m\u001b[1m)\u001b[0m đang bảo vệ kế hoạch\u001b[33m...\u001b[0m\n"
      ]
     },
     "metadata": {},
     "output_type": "display_data"
    },
    {
     "data": {
      "text/html": [
       "<pre style=\"white-space:pre;overflow-x:auto;line-height:normal;font-family:Menlo,'DejaVu Sans Mono',consolas,'Courier New',monospace\"><span style=\"color: #808000; text-decoration-color: #808000; font-weight: bold\">⚠️  GUARDIAN PHẢN BIỆN: Hoạt động này có cấu trúc khá tốt, tuy nhiên, thời lượng </span><span style=\"color: #808000; text-decoration-color: #808000; font-weight: bold\">30</span><span style=\"color: #808000; text-decoration-color: #808000; font-weight: bold\"> phút là quá eo hẹp để học sinh </span>\n",
       "<span style=\"color: #808000; text-decoration-color: #808000; font-weight: bold\">có thể thực hiện đầy đủ các bước như phân tích tình huống thực tiễn, đề xuất giải pháp khả thi, ghi chép và sau đó </span>\n",
       "<span style=\"color: #808000; text-decoration-color: #808000; font-weight: bold\">trình bày, thảo luận một cách hiệu quả. Đặc biệt, </span><span style=\"color: #808000; text-decoration-color: #808000; font-weight: bold\">15</span><span style=\"color: #808000; text-decoration-color: #808000; font-weight: bold\"> phút cho hoạt động nhóm để giải quyết một vấn đề thực tiễn và </span>\n",
       "<span style=\"color: #808000; text-decoration-color: #808000; font-weight: bold\">6</span><span style=\"color: #808000; text-decoration-color: #808000; font-weight: bold\">-</span><span style=\"color: #808000; text-decoration-color: #808000; font-weight: bold\">8</span><span style=\"color: #808000; text-decoration-color: #808000; font-weight: bold\"> phút cho </span><span style=\"color: #808000; text-decoration-color: #808000; font-weight: bold\">2</span><span style=\"color: #808000; text-decoration-color: #808000; font-weight: bold\"> nhóm trình bày và đặt câu hỏi là rất khó để đảm bảo chất lượng. Hoạt động này có nguy cơ bị cháy </span>\n",
       "<span style=\"color: #808000; text-decoration-color: #808000; font-weight: bold\">giáo án hoặc học sinh làm việc qua loa. Hãy thiết kế lại một phiên bản hoạt động đơn giản hơn, ít bước hơn để khớp </span>\n",
       "<span style=\"color: #808000; text-decoration-color: #808000; font-weight: bold\">với thời gian </span><span style=\"color: #808000; text-decoration-color: #808000; font-weight: bold\">30</span><span style=\"color: #808000; text-decoration-color: #808000; font-weight: bold\"> phút đã cho.</span>\n",
       "</pre>\n"
      ],
      "text/plain": [
       "\u001b[1;33m⚠️  GUARDIAN PHẢN BIỆN: Hoạt động này có cấu trúc khá tốt, tuy nhiên, thời lượng \u001b[0m\u001b[1;33m30\u001b[0m\u001b[1;33m phút là quá eo hẹp để học sinh \u001b[0m\n",
       "\u001b[1;33mcó thể thực hiện đầy đủ các bước như phân tích tình huống thực tiễn, đề xuất giải pháp khả thi, ghi chép và sau đó \u001b[0m\n",
       "\u001b[1;33mtrình bày, thảo luận một cách hiệu quả. Đặc biệt, \u001b[0m\u001b[1;33m15\u001b[0m\u001b[1;33m phút cho hoạt động nhóm để giải quyết một vấn đề thực tiễn và \u001b[0m\n",
       "\u001b[1;33m6\u001b[0m\u001b[1;33m-\u001b[0m\u001b[1;33m8\u001b[0m\u001b[1;33m phút cho \u001b[0m\u001b[1;33m2\u001b[0m\u001b[1;33m nhóm trình bày và đặt câu hỏi là rất khó để đảm bảo chất lượng. Hoạt động này có nguy cơ bị cháy \u001b[0m\n",
       "\u001b[1;33mgiáo án hoặc học sinh làm việc qua loa. Hãy thiết kế lại một phiên bản hoạt động đơn giản hơn, ít bước hơn để khớp \u001b[0m\n",
       "\u001b[1;33mvới thời gian \u001b[0m\u001b[1;33m30\u001b[0m\u001b[1;33m phút đã cho.\u001b[0m\n"
      ]
     },
     "metadata": {},
     "output_type": "display_data"
    },
    {
     "data": {
      "text/html": [
       "<pre style=\"white-space:pre;overflow-x:auto;line-height:normal;font-family:Menlo,'DejaVu Sans Mono',consolas,'Courier New',monospace\">\n",
       "<span style=\"color: #808000; text-decoration-color: #808000; font-weight: bold\">------- Hoàn thành bước: content_validator -------</span>\n",
       "</pre>\n"
      ],
      "text/plain": [
       "\n",
       "\u001b[1;33m------- Hoàn thành bước: content_validator -------\u001b[0m\n"
      ]
     },
     "metadata": {},
     "output_type": "display_data"
    },
    {
     "data": {
      "text/html": [
       "<pre style=\"white-space:pre;overflow-x:auto;line-height:normal;font-family:Menlo,'DejaVu Sans Mono',consolas,'Courier New',monospace\">\n",
       "<span style=\"color: #008080; text-decoration-color: #008080; font-weight: bold\">&gt;</span> `Agent: Task Dispatcher` đang giao việc<span style=\"color: #808000; text-decoration-color: #808000\">...</span>\n",
       "</pre>\n"
      ],
      "text/plain": [
       "\n",
       "\u001b[1;36m>\u001b[0m `Agent: Task Dispatcher` đang giao việc\u001b[33m...\u001b[0m\n"
      ]
     },
     "metadata": {},
     "output_type": "display_data"
    },
    {
     "data": {
      "text/html": [
       "<pre style=\"white-space:pre;overflow-x:auto;line-height:normal;font-family:Menlo,'DejaVu Sans Mono',consolas,'Courier New',monospace\">\n",
       "<span style=\"color: #008080; text-decoration-color: #008080; font-weight: bold\">&gt;</span> --- 🚚 `Dispatcher`: Giao nhiệm vụ cho `activity_designer`.\n",
       "</pre>\n"
      ],
      "text/plain": [
       "\n",
       "\u001b[1;36m>\u001b[0m --- 🚚 `Dispatcher`: Giao nhiệm vụ cho `activity_designer`.\n"
      ]
     },
     "metadata": {},
     "output_type": "display_data"
    },
    {
     "data": {
      "text/html": [
       "<pre style=\"white-space:pre;overflow-x:auto;line-height:normal;font-family:Menlo,'DejaVu Sans Mono',consolas,'Courier New',monospace\">\n",
       "<span style=\"color: #808000; text-decoration-color: #808000; font-weight: bold\">------- Hoàn thành bước: task_dispatcher -------</span>\n",
       "</pre>\n"
      ],
      "text/plain": [
       "\n",
       "\u001b[1;33m------- Hoàn thành bước: task_dispatcher -------\u001b[0m\n"
      ]
     },
     "metadata": {},
     "output_type": "display_data"
    },
    {
     "data": {
      "text/html": [
       "<pre style=\"white-space:pre;overflow-x:auto;line-height:normal;font-family:Menlo,'DejaVu Sans Mono',consolas,'Courier New',monospace\">\n",
       "<span style=\"color: #008080; text-decoration-color: #008080; font-weight: bold\">&gt;</span> `Agent: Activity Designer` <span style=\"font-weight: bold\">(</span>v10.<span style=\"color: #008080; text-decoration-color: #008080; font-weight: bold\">0</span><span style=\"font-weight: bold\">)</span> đang tạo nội dung theo kỷ luật<span style=\"color: #808000; text-decoration-color: #808000\">...</span>\n",
       "</pre>\n"
      ],
      "text/plain": [
       "\n",
       "\u001b[1;36m>\u001b[0m `Agent: Activity Designer` \u001b[1m(\u001b[0mv10.\u001b[1;36m0\u001b[0m\u001b[1m)\u001b[0m đang tạo nội dung theo kỷ luật\u001b[33m...\u001b[0m\n"
      ]
     },
     "metadata": {},
     "output_type": "display_data"
    },
    {
     "data": {
      "text/html": [
       "<pre style=\"white-space:pre;overflow-x:auto;line-height:normal;font-family:Menlo,'DejaVu Sans Mono',consolas,'Courier New',monospace\"><span style=\"color: #008000; text-decoration-color: #008000; font-weight: bold\">✔️ Nội dung do Activity Designer tạo ra:</span>\n",
       "</pre>\n"
      ],
      "text/plain": [
       "\u001b[1;32m✔️ Nội dung do Activity Designer tạo ra:\u001b[0m\n"
      ]
     },
     "metadata": {},
     "output_type": "display_data"
    },
    {
     "data": {
      "text/html": [
       "<pre style=\"white-space:pre;overflow-x:auto;line-height:normal;font-family:Menlo,'DejaVu Sans Mono',consolas,'Courier New',monospace\"><span style=\"font-weight: bold\">{</span>\n",
       "<span style=\"color: #7fbf7f; text-decoration-color: #7fbf7f\">│   </span><span style=\"color: #008000; text-decoration-color: #008000\">'activity_name'</span>: <span style=\"color: #008000; text-decoration-color: #008000\">'Vận dụng và Trình bày sản phẩm'</span>,\n",
       "<span style=\"color: #7fbf7f; text-decoration-color: #7fbf7f\">│   </span><span style=\"color: #008000; text-decoration-color: #008000\">'activity_type'</span>: <span style=\"color: #008000; text-decoration-color: #008000\">'Thảo luận nhóm và Trình bày'</span>,\n",
       "<span style=\"color: #7fbf7f; text-decoration-color: #7fbf7f\">│   </span><span style=\"color: #008000; text-decoration-color: #008000\">'duration_minutes'</span>: <span style=\"color: #008080; text-decoration-color: #008080; font-weight: bold\">30</span>,\n",
       "<span style=\"color: #7fbf7f; text-decoration-color: #7fbf7f\">│   </span><span style=\"color: #008000; text-decoration-color: #008000\">'teacher_actions'</span>: <span style=\"font-weight: bold\">[</span>\n",
       "<span style=\"color: #7fbf7f; text-decoration-color: #7fbf7f\">│   │   </span><span style=\"color: #008000; text-decoration-color: #008000\">'Giới thiệu nhiệm vụ, chia nhóm và phát giấy A4 cho các nhóm (3 phút).'</span>,\n",
       "<span style=\"color: #7fbf7f; text-decoration-color: #7fbf7f\">│   │   </span><span style=\"color: #008000; text-decoration-color: #008000\">\"Quan sát, lắng nghe các nhóm thảo luận, gợi ý khi cần thiết (ví dụ: 'Vấn đề này có quá rộng không?', 'Giải pháp này có thực tế không?') (15 phút).\"</span>,\n",
       "<span style=\"color: #7fbf7f; text-decoration-color: #7fbf7f\">│   │   </span><span style=\"color: #008000; text-decoration-color: #008000\">'Quản lý thời gian chặt chẽ, nhắc nhở các nhóm tập trung hoàn thành sản phẩm.'</span>,\n",
       "<span style=\"color: #7fbf7f; text-decoration-color: #7fbf7f\">│   │   </span><span style=\"color: #008000; text-decoration-color: #008000\">'Mời đại diện 3-4 nhóm lên trình bày sản phẩm (mỗi nhóm tối đa 2 phút) (10 phút).'</span>,\n",
       "<span style=\"color: #7fbf7f; text-decoration-color: #7fbf7f\">│   │   </span><span style=\"color: #008000; text-decoration-color: #008000\">\"Lắng nghe, đặt câu hỏi gợi mở (ví dụ: 'Tại sao các em chọn giải pháp này?', 'Ai sẽ là người hưởng lợi?').\"</span>,\n",
       "<span style=\"color: #7fbf7f; text-decoration-color: #7fbf7f\">│   │   </span><span style=\"color: #008000; text-decoration-color: #008000\">'Tổng kết, nhận xét, khen ngợi các sản phẩm và tinh thần làm việc của học sinh (2 phút).'</span>\n",
       "<span style=\"color: #7fbf7f; text-decoration-color: #7fbf7f\">│   </span><span style=\"font-weight: bold\">]</span>,\n",
       "<span style=\"color: #7fbf7f; text-decoration-color: #7fbf7f\">│   </span><span style=\"color: #008000; text-decoration-color: #008000\">'core_component'</span>: <span style=\"color: #008000; text-decoration-color: #008000\">'Mỗi nhóm (3-4 học sinh) hãy chọn MỘT vấn đề thực tiễn nhỏ liên quan đến nội dung bài học (ví dụ: một vấn đề môi trường, một tình huống đạo đức, một vấn đề xã hội đơn giản). Sau đó, đề xuất MỘT giải pháp cụ thể, khả thi mà các em có thể thực hiện được. Ghi lại giải pháp đó bằng 1-2 câu và vẽ minh họa nhanh (nếu có thể) lên giấy A4. Chuẩn bị trình bày ngắn gọn (tối đa 2 phút/nhóm).'</span>,\n",
       "<span style=\"color: #7fbf7f; text-decoration-color: #7fbf7f\">│   </span><span style=\"color: #008000; text-decoration-color: #008000\">'extension_component'</span>: <span style=\"color: #008000; text-decoration-color: #008000\">'Nếu hoàn thành sớm, các nhóm có thể suy nghĩ thêm về những khó khăn có thể gặp phải khi thực hiện giải pháp hoặc đề xuất thêm một biện pháp khác.'</span>,\n",
       "<span style=\"color: #7fbf7f; text-decoration-color: #7fbf7f\">│   </span><span style=\"color: #008000; text-decoration-color: #008000\">'solution_guide'</span>: <span style=\"color: #008000; text-decoration-color: #008000\">\"Không có 'đáp án' cụ thể cho hoạt động này. Hướng dẫn giải tập trung vào quá trình: Học sinh có xác định được vấn đề thực tiễn không? Giải pháp có cụ thể, khả thi và liên quan đến vấn đề không? Học sinh có trình bày rõ ràng ý tưởng của mình không? Khuyến khích sự sáng tạo và tinh thần trách nhiệm.\"</span>,\n",
       "<span style=\"color: #7fbf7f; text-decoration-color: #7fbf7f\">│   </span><span style=\"color: #008000; text-decoration-color: #008000\">'differentiation'</span>: <span style=\"font-weight: bold\">{</span>\n",
       "<span style=\"color: #7fbf7f; text-decoration-color: #7fbf7f\">│   │   </span><span style=\"color: #008000; text-decoration-color: #008000\">'for_struggling_students'</span>: <span style=\"color: #008000; text-decoration-color: #008000\">'Cung cấp danh sách gợi ý các vấn đề/tình huống đơn giản để học sinh dễ dàng lựa chọn. Có thể gợi ý trực tiếp một giải pháp cơ bản nếu nhóm quá lúng túng.'</span>,\n",
       "<span style=\"color: #7fbf7f; text-decoration-color: #7fbf7f\">│   │   </span><span style=\"color: #008000; text-decoration-color: #008000\">'for_advanced_students'</span>: <span style=\"color: #008000; text-decoration-color: #008000\">'Yêu cầu học sinh phân tích thêm về tính hiệu quả hoặc tác động lâu dài của giải pháp đề xuất, hoặc suy nghĩ về cách truyền thông/thuyết phục người khác thực hiện giải pháp đó.'</span>\n",
       "<span style=\"color: #7fbf7f; text-decoration-color: #7fbf7f\">│   </span><span style=\"font-weight: bold\">}</span>,\n",
       "<span style=\"color: #7fbf7f; text-decoration-color: #7fbf7f\">│   </span><span style=\"color: #008000; text-decoration-color: #008000\">'question_or_description'</span>: <span style=\"color: #008000; text-decoration-color: #008000\">'**Phần Cốt lõi:**\\nMỗi nhóm (3-4 học sinh) hãy chọn MỘT vấn đề thực tiễn nhỏ liên quan đến nội dung bài học (ví dụ: một vấn đề môi trường, một tình huống đạo đức, một vấn đề xã hội đơn giản). Sau đó, đề xuất MỘT giải pháp cụ thể, khả thi mà các em có thể thực hiện được. Ghi lại giải pháp đó bằng 1-2 câu và vẽ minh họa nhanh (nếu có thể) lên giấy A4. Chuẩn bị trình bày ngắn gọn (tối đa 2 phút/nhóm).\\n\\n**Phần Mở rộng (nếu còn thời gian):**\\nNếu hoàn thành sớm, các nhóm có thể suy nghĩ thêm về những khó khăn có thể gặp phải khi thực hiện giải pháp hoặc đề xuất thêm một biện pháp khác.'</span>\n",
       "<span style=\"font-weight: bold\">}</span>\n",
       "</pre>\n"
      ],
      "text/plain": [
       "\u001b[1m{\u001b[0m\n",
       "\u001b[2;32m│   \u001b[0m\u001b[32m'activity_name'\u001b[0m: \u001b[32m'Vận dụng và Trình bày sản phẩm'\u001b[0m,\n",
       "\u001b[2;32m│   \u001b[0m\u001b[32m'activity_type'\u001b[0m: \u001b[32m'Thảo luận nhóm và Trình bày'\u001b[0m,\n",
       "\u001b[2;32m│   \u001b[0m\u001b[32m'duration_minutes'\u001b[0m: \u001b[1;36m30\u001b[0m,\n",
       "\u001b[2;32m│   \u001b[0m\u001b[32m'teacher_actions'\u001b[0m: \u001b[1m[\u001b[0m\n",
       "\u001b[2;32m│   │   \u001b[0m\u001b[32m'Giới thiệu nhiệm vụ, chia nhóm và phát giấy A4 cho các nhóm \u001b[0m\u001b[32m(\u001b[0m\u001b[32m3 phút\u001b[0m\u001b[32m)\u001b[0m\u001b[32m.'\u001b[0m,\n",
       "\u001b[2;32m│   │   \u001b[0m\u001b[32m\"Quan sát, lắng nghe các nhóm thảo luận, gợi ý khi cần thiết \u001b[0m\u001b[32m(\u001b[0m\u001b[32mví dụ: 'Vấn đề này có quá rộng không?', 'Giải pháp này có thực tế không?'\u001b[0m\u001b[32m)\u001b[0m\u001b[32m \u001b[0m\u001b[32m(\u001b[0m\u001b[32m15 phút\u001b[0m\u001b[32m)\u001b[0m\u001b[32m.\"\u001b[0m,\n",
       "\u001b[2;32m│   │   \u001b[0m\u001b[32m'Quản lý thời gian chặt chẽ, nhắc nhở các nhóm tập trung hoàn thành sản phẩm.'\u001b[0m,\n",
       "\u001b[2;32m│   │   \u001b[0m\u001b[32m'Mời đại diện 3-4 nhóm lên trình bày sản phẩm \u001b[0m\u001b[32m(\u001b[0m\u001b[32mmỗi nhóm tối đa 2 phút\u001b[0m\u001b[32m)\u001b[0m\u001b[32m \u001b[0m\u001b[32m(\u001b[0m\u001b[32m10 phút\u001b[0m\u001b[32m)\u001b[0m\u001b[32m.'\u001b[0m,\n",
       "\u001b[2;32m│   │   \u001b[0m\u001b[32m\"Lắng nghe, đặt câu hỏi gợi mở \u001b[0m\u001b[32m(\u001b[0m\u001b[32mví dụ: 'Tại sao các em chọn giải pháp này?', 'Ai sẽ là người hưởng lợi?'\u001b[0m\u001b[32m)\u001b[0m\u001b[32m.\"\u001b[0m,\n",
       "\u001b[2;32m│   │   \u001b[0m\u001b[32m'Tổng kết, nhận xét, khen ngợi các sản phẩm và tinh thần làm việc của học sinh \u001b[0m\u001b[32m(\u001b[0m\u001b[32m2 phút\u001b[0m\u001b[32m)\u001b[0m\u001b[32m.'\u001b[0m\n",
       "\u001b[2;32m│   \u001b[0m\u001b[1m]\u001b[0m,\n",
       "\u001b[2;32m│   \u001b[0m\u001b[32m'core_component'\u001b[0m: \u001b[32m'Mỗi nhóm \u001b[0m\u001b[32m(\u001b[0m\u001b[32m3-4 học sinh\u001b[0m\u001b[32m)\u001b[0m\u001b[32m hãy chọn MỘT vấn đề thực tiễn nhỏ liên quan đến nội dung bài học \u001b[0m\u001b[32m(\u001b[0m\u001b[32mví dụ: một vấn đề môi trường, một tình huống đạo đức, một vấn đề xã hội đơn giản\u001b[0m\u001b[32m)\u001b[0m\u001b[32m. Sau đó, đề xuất MỘT giải pháp cụ thể, khả thi mà các em có thể thực hiện được. Ghi lại giải pháp đó bằng 1-2 câu và vẽ minh họa nhanh \u001b[0m\u001b[32m(\u001b[0m\u001b[32mnếu có thể\u001b[0m\u001b[32m)\u001b[0m\u001b[32m lên giấy A4. Chuẩn bị trình bày ngắn gọn \u001b[0m\u001b[32m(\u001b[0m\u001b[32mtối đa 2 phút/nhóm\u001b[0m\u001b[32m)\u001b[0m\u001b[32m.'\u001b[0m,\n",
       "\u001b[2;32m│   \u001b[0m\u001b[32m'extension_component'\u001b[0m: \u001b[32m'Nếu hoàn thành sớm, các nhóm có thể suy nghĩ thêm về những khó khăn có thể gặp phải khi thực hiện giải pháp hoặc đề xuất thêm một biện pháp khác.'\u001b[0m,\n",
       "\u001b[2;32m│   \u001b[0m\u001b[32m'solution_guide'\u001b[0m: \u001b[32m\"Không có 'đáp án' cụ thể cho hoạt động này. Hướng dẫn giải tập trung vào quá trình: Học sinh có xác định được vấn đề thực tiễn không? Giải pháp có cụ thể, khả thi và liên quan đến vấn đề không? Học sinh có trình bày rõ ràng ý tưởng của mình không? Khuyến khích sự sáng tạo và tinh thần trách nhiệm.\"\u001b[0m,\n",
       "\u001b[2;32m│   \u001b[0m\u001b[32m'differentiation'\u001b[0m: \u001b[1m{\u001b[0m\n",
       "\u001b[2;32m│   │   \u001b[0m\u001b[32m'for_struggling_students'\u001b[0m: \u001b[32m'Cung cấp danh sách gợi ý các vấn đề/tình huống đơn giản để học sinh dễ dàng lựa chọn. Có thể gợi ý trực tiếp một giải pháp cơ bản nếu nhóm quá lúng túng.'\u001b[0m,\n",
       "\u001b[2;32m│   │   \u001b[0m\u001b[32m'for_advanced_students'\u001b[0m: \u001b[32m'Yêu cầu học sinh phân tích thêm về tính hiệu quả hoặc tác động lâu dài của giải pháp đề xuất, hoặc suy nghĩ về cách truyền thông/thuyết phục người khác thực hiện giải pháp đó.'\u001b[0m\n",
       "\u001b[2;32m│   \u001b[0m\u001b[1m}\u001b[0m,\n",
       "\u001b[2;32m│   \u001b[0m\u001b[32m'question_or_description'\u001b[0m: \u001b[32m'**Phần Cốt lõi:**\\nMỗi nhóm \u001b[0m\u001b[32m(\u001b[0m\u001b[32m3-4 học sinh\u001b[0m\u001b[32m)\u001b[0m\u001b[32m hãy chọn MỘT vấn đề thực tiễn nhỏ liên quan đến nội dung bài học \u001b[0m\u001b[32m(\u001b[0m\u001b[32mví dụ: một vấn đề môi trường, một tình huống đạo đức, một vấn đề xã hội đơn giản\u001b[0m\u001b[32m)\u001b[0m\u001b[32m. Sau đó, đề xuất MỘT giải pháp cụ thể, khả thi mà các em có thể thực hiện được. Ghi lại giải pháp đó bằng 1-2 câu và vẽ minh họa nhanh \u001b[0m\u001b[32m(\u001b[0m\u001b[32mnếu có thể\u001b[0m\u001b[32m)\u001b[0m\u001b[32m lên giấy A4. Chuẩn bị trình bày ngắn gọn \u001b[0m\u001b[32m(\u001b[0m\u001b[32mtối đa 2 phút/nhóm\u001b[0m\u001b[32m)\u001b[0m\u001b[32m.\\n\\n**Phần Mở rộng \u001b[0m\u001b[32m(\u001b[0m\u001b[32mnếu còn thời gian\u001b[0m\u001b[32m)\u001b[0m\u001b[32m:**\\nNếu hoàn thành sớm, các nhóm có thể suy nghĩ thêm về những khó khăn có thể gặp phải khi thực hiện giải pháp hoặc đề xuất thêm một biện pháp khác.'\u001b[0m\n",
       "\u001b[1m}\u001b[0m\n"
      ]
     },
     "metadata": {},
     "output_type": "display_data"
    },
    {
     "data": {
      "text/html": [
       "<pre style=\"white-space:pre;overflow-x:auto;line-height:normal;font-family:Menlo,'DejaVu Sans Mono',consolas,'Courier New',monospace\">\n",
       "<span style=\"color: #808000; text-decoration-color: #808000; font-weight: bold\">------- Hoàn thành bước: activity_designer -------</span>\n",
       "</pre>\n"
      ],
      "text/plain": [
       "\n",
       "\u001b[1;33m------- Hoàn thành bước: activity_designer -------\u001b[0m\n"
      ]
     },
     "metadata": {},
     "output_type": "display_data"
    },
    {
     "data": {
      "text/html": [
       "<pre style=\"white-space:pre;overflow-x:auto;line-height:normal;font-family:Menlo,'DejaVu Sans Mono',consolas,'Courier New',monospace\">\n",
       "<span style=\"color: #008080; text-decoration-color: #008080; font-weight: bold\">&gt;</span> `Agent: Guardian Critic` <span style=\"font-weight: bold\">(</span>v10.<span style=\"color: #008080; text-decoration-color: #008080; font-weight: bold\">0</span><span style=\"font-weight: bold\">)</span> đang bảo vệ kế hoạch<span style=\"color: #808000; text-decoration-color: #808000\">...</span>\n",
       "</pre>\n"
      ],
      "text/plain": [
       "\n",
       "\u001b[1;36m>\u001b[0m `Agent: Guardian Critic` \u001b[1m(\u001b[0mv10.\u001b[1;36m0\u001b[0m\u001b[1m)\u001b[0m đang bảo vệ kế hoạch\u001b[33m...\u001b[0m\n"
      ]
     },
     "metadata": {},
     "output_type": "display_data"
    },
    {
     "data": {
      "text/html": [
       "<pre style=\"white-space:pre;overflow-x:auto;line-height:normal;font-family:Menlo,'DejaVu Sans Mono',consolas,'Courier New',monospace\">\n",
       "<span style=\"color: #008080; text-decoration-color: #008080; font-weight: bold\">&gt;</span> ✔️ GUARDIAN: Nội dung tuân thủ kế hoạch!\n",
       "</pre>\n"
      ],
      "text/plain": [
       "\n",
       "\u001b[1;36m>\u001b[0m ✔️ GUARDIAN: Nội dung tuân thủ kế hoạch!\n"
      ]
     },
     "metadata": {},
     "output_type": "display_data"
    },
    {
     "data": {
      "text/html": [
       "<pre style=\"white-space:pre;overflow-x:auto;line-height:normal;font-family:Menlo,'DejaVu Sans Mono',consolas,'Courier New',monospace\">\n",
       "<span style=\"color: #808000; text-decoration-color: #808000; font-weight: bold\">------- Hoàn thành bước: content_validator -------</span>\n",
       "</pre>\n"
      ],
      "text/plain": [
       "\n",
       "\u001b[1;33m------- Hoàn thành bước: content_validator -------\u001b[0m\n"
      ]
     },
     "metadata": {},
     "output_type": "display_data"
    },
    {
     "data": {
      "text/html": [
       "<pre style=\"white-space:pre;overflow-x:auto;line-height:normal;font-family:Menlo,'DejaVu Sans Mono',consolas,'Courier New',monospace\">\n",
       "<span style=\"color: #008080; text-decoration-color: #008080; font-weight: bold\">&gt;</span> `Commiter`: Đang ghi nhận nội dung đã được xác thực<span style=\"color: #808000; text-decoration-color: #808000\">...</span>\n",
       "</pre>\n"
      ],
      "text/plain": [
       "\n",
       "\u001b[1;36m>\u001b[0m `Commiter`: Đang ghi nhận nội dung đã được xác thực\u001b[33m...\u001b[0m\n"
      ]
     },
     "metadata": {},
     "output_type": "display_data"
    },
    {
     "data": {
      "text/html": [
       "<pre style=\"white-space:pre;overflow-x:auto;line-height:normal;font-family:Menlo,'DejaVu Sans Mono',consolas,'Courier New',monospace\">\n",
       "<span style=\"color: #808000; text-decoration-color: #808000; font-weight: bold\">------- Hoàn thành bước: commit_validated_content -------</span>\n",
       "</pre>\n"
      ],
      "text/plain": [
       "\n",
       "\u001b[1;33m------- Hoàn thành bước: commit_validated_content -------\u001b[0m\n"
      ]
     },
     "metadata": {},
     "output_type": "display_data"
    },
    {
     "data": {
      "text/html": [
       "<pre style=\"white-space:pre;overflow-x:auto;line-height:normal;font-family:Menlo,'DejaVu Sans Mono',consolas,'Courier New',monospace\">\n",
       "<span style=\"color: #808000; text-decoration-color: #808000; font-weight: bold\">------- Hoàn thành bước: mark_task_complete -------</span>\n",
       "</pre>\n"
      ],
      "text/plain": [
       "\n",
       "\u001b[1;33m------- Hoàn thành bước: mark_task_complete -------\u001b[0m\n"
      ]
     },
     "metadata": {},
     "output_type": "display_data"
    },
    {
     "data": {
      "text/html": [
       "<pre style=\"white-space:pre;overflow-x:auto;line-height:normal;font-family:Menlo,'DejaVu Sans Mono',consolas,'Courier New',monospace\">\n",
       "<span style=\"color: #808000; text-decoration-color: #808000; font-weight: bold\">------- Hoàn thành bước: delay_node -------</span>\n",
       "</pre>\n"
      ],
      "text/plain": [
       "\n",
       "\u001b[1;33m------- Hoàn thành bước: delay_node -------\u001b[0m\n"
      ]
     },
     "metadata": {},
     "output_type": "display_data"
    },
    {
     "data": {
      "text/html": [
       "<pre style=\"white-space:pre;overflow-x:auto;line-height:normal;font-family:Menlo,'DejaVu Sans Mono',consolas,'Courier New',monospace\">\n",
       "<span style=\"color: #008080; text-decoration-color: #008080; font-weight: bold\">&gt;</span> `Router`: Đang kiểm tra nhiệm vụ<span style=\"color: #808000; text-decoration-color: #808000\">...</span>\n",
       "</pre>\n"
      ],
      "text/plain": [
       "\n",
       "\u001b[1;36m>\u001b[0m `Router`: Đang kiểm tra nhiệm vụ\u001b[33m...\u001b[0m\n"
      ]
     },
     "metadata": {},
     "output_type": "display_data"
    },
    {
     "data": {
      "text/html": [
       "<pre style=\"white-space:pre;overflow-x:auto;line-height:normal;font-family:Menlo,'DejaVu Sans Mono',consolas,'Courier New',monospace\">\n",
       "<span style=\"color: #008080; text-decoration-color: #008080; font-weight: bold\">&gt;</span> Nhiệm vụ tiếp theo: <span style=\"color: #008000; text-decoration-color: #008000\">'Củng cố và Mở rộng'</span> <span style=\"font-weight: bold\">(</span>ID: <span style=\"color: #008080; text-decoration-color: #008080; font-weight: bold\">3</span><span style=\"font-weight: bold\">)</span>\n",
       "</pre>\n"
      ],
      "text/plain": [
       "\n",
       "\u001b[1;36m>\u001b[0m Nhiệm vụ tiếp theo: \u001b[32m'Củng cố và Mở rộng'\u001b[0m \u001b[1m(\u001b[0mID: \u001b[1;36m3\u001b[0m\u001b[1m)\u001b[0m\n"
      ]
     },
     "metadata": {},
     "output_type": "display_data"
    },
    {
     "data": {
      "text/html": [
       "<pre style=\"white-space:pre;overflow-x:auto;line-height:normal;font-family:Menlo,'DejaVu Sans Mono',consolas,'Courier New',monospace\">\n",
       "<span style=\"color: #808000; text-decoration-color: #808000; font-weight: bold\">------- Hoàn thành bước: task_router -------</span>\n",
       "</pre>\n"
      ],
      "text/plain": [
       "\n",
       "\u001b[1;33m------- Hoàn thành bước: task_router -------\u001b[0m\n"
      ]
     },
     "metadata": {},
     "output_type": "display_data"
    },
    {
     "data": {
      "text/html": [
       "<pre style=\"white-space:pre;overflow-x:auto;line-height:normal;font-family:Menlo,'DejaVu Sans Mono',consolas,'Courier New',monospace\">\n",
       "<span style=\"color: #008080; text-decoration-color: #008080; font-weight: bold\">&gt;</span> `Agent: Task Dispatcher` đang giao việc<span style=\"color: #808000; text-decoration-color: #808000\">...</span>\n",
       "</pre>\n"
      ],
      "text/plain": [
       "\n",
       "\u001b[1;36m>\u001b[0m `Agent: Task Dispatcher` đang giao việc\u001b[33m...\u001b[0m\n"
      ]
     },
     "metadata": {},
     "output_type": "display_data"
    },
    {
     "data": {
      "text/html": [
       "<pre style=\"white-space:pre;overflow-x:auto;line-height:normal;font-family:Menlo,'DejaVu Sans Mono',consolas,'Courier New',monospace\">\n",
       "<span style=\"color: #008080; text-decoration-color: #008080; font-weight: bold\">&gt;</span> --- 🚚 `Dispatcher`: Giao nhiệm vụ cho `activity_designer`.\n",
       "</pre>\n"
      ],
      "text/plain": [
       "\n",
       "\u001b[1;36m>\u001b[0m --- 🚚 `Dispatcher`: Giao nhiệm vụ cho `activity_designer`.\n"
      ]
     },
     "metadata": {},
     "output_type": "display_data"
    },
    {
     "data": {
      "text/html": [
       "<pre style=\"white-space:pre;overflow-x:auto;line-height:normal;font-family:Menlo,'DejaVu Sans Mono',consolas,'Courier New',monospace\">\n",
       "<span style=\"color: #808000; text-decoration-color: #808000; font-weight: bold\">------- Hoàn thành bước: task_dispatcher -------</span>\n",
       "</pre>\n"
      ],
      "text/plain": [
       "\n",
       "\u001b[1;33m------- Hoàn thành bước: task_dispatcher -------\u001b[0m\n"
      ]
     },
     "metadata": {},
     "output_type": "display_data"
    },
    {
     "data": {
      "text/html": [
       "<pre style=\"white-space:pre;overflow-x:auto;line-height:normal;font-family:Menlo,'DejaVu Sans Mono',consolas,'Courier New',monospace\">\n",
       "<span style=\"color: #008080; text-decoration-color: #008080; font-weight: bold\">&gt;</span> `Agent: Activity Designer` <span style=\"font-weight: bold\">(</span>v10.<span style=\"color: #008080; text-decoration-color: #008080; font-weight: bold\">0</span><span style=\"font-weight: bold\">)</span> đang tạo nội dung theo kỷ luật<span style=\"color: #808000; text-decoration-color: #808000\">...</span>\n",
       "</pre>\n"
      ],
      "text/plain": [
       "\n",
       "\u001b[1;36m>\u001b[0m `Agent: Activity Designer` \u001b[1m(\u001b[0mv10.\u001b[1;36m0\u001b[0m\u001b[1m)\u001b[0m đang tạo nội dung theo kỷ luật\u001b[33m...\u001b[0m\n"
      ]
     },
     "metadata": {},
     "output_type": "display_data"
    },
    {
     "data": {
      "text/html": [
       "<pre style=\"white-space:pre;overflow-x:auto;line-height:normal;font-family:Menlo,'DejaVu Sans Mono',consolas,'Courier New',monospace\"><span style=\"color: #008000; text-decoration-color: #008000; font-weight: bold\">✔️ Nội dung do Activity Designer tạo ra:</span>\n",
       "</pre>\n"
      ],
      "text/plain": [
       "\u001b[1;32m✔️ Nội dung do Activity Designer tạo ra:\u001b[0m\n"
      ]
     },
     "metadata": {},
     "output_type": "display_data"
    },
    {
     "data": {
      "text/html": [
       "<pre style=\"white-space:pre;overflow-x:auto;line-height:normal;font-family:Menlo,'DejaVu Sans Mono',consolas,'Courier New',monospace\"><span style=\"font-weight: bold\">{</span>\n",
       "<span style=\"color: #7fbf7f; text-decoration-color: #7fbf7f\">│   </span><span style=\"color: #008000; text-decoration-color: #008000\">'activity_name'</span>: <span style=\"color: #008000; text-decoration-color: #008000\">'Củng cố và Mở rộng'</span>,\n",
       "<span style=\"color: #7fbf7f; text-decoration-color: #7fbf7f\">│   </span><span style=\"color: #008000; text-decoration-color: #008000\">'activity_type'</span>: <span style=\"color: #008000; text-decoration-color: #008000\">'Luyện tập nhanh cá nhân'</span>,\n",
       "<span style=\"color: #7fbf7f; text-decoration-color: #7fbf7f\">│   </span><span style=\"color: #008000; text-decoration-color: #008000\">'duration_minutes'</span>: <span style=\"color: #008080; text-decoration-color: #008080; font-weight: bold\">5</span>,\n",
       "<span style=\"color: #7fbf7f; text-decoration-color: #7fbf7f\">│   </span><span style=\"color: #008000; text-decoration-color: #008000\">'teacher_actions'</span>: <span style=\"font-weight: bold\">[</span>\n",
       "<span style=\"color: #7fbf7f; text-decoration-color: #7fbf7f\">│   │   </span><span style=\"color: #008000; text-decoration-color: #008000\">'Giới thiệu hoạt động và nhấn mạnh thời gian 5 phút.'</span>,\n",
       "<span style=\"color: #7fbf7f; text-decoration-color: #7fbf7f\">│   │   </span><span style=\"color: #008000; text-decoration-color: #008000\">'Chiếu/phát phiếu bài tập cốt lõi và mở rộng.'</span>,\n",
       "<span style=\"color: #7fbf7f; text-decoration-color: #7fbf7f\">│   │   </span><span style=\"color: #008000; text-decoration-color: #008000\">'Quan sát, đi lại trong lớp, hỗ trợ nhanh các học sinh gặp khó khăn bằng gợi ý.'</span>,\n",
       "<span style=\"color: #7fbf7f; text-decoration-color: #7fbf7f\">│   │   </span><span style=\"color: #008000; text-decoration-color: #008000\">'Sau 4 phút, yêu cầu học sinh dừng bút.'</span>,\n",
       "<span style=\"color: #7fbf7f; text-decoration-color: #7fbf7f\">│   │   </span><span style=\"color: #008000; text-decoration-color: #008000\">'Gọi 1-2 học sinh trình bày nhanh đáp án hoặc ý tưởng (nếu còn thời gian).'</span>,\n",
       "<span style=\"color: #7fbf7f; text-decoration-color: #7fbf7f\">│   │   </span><span style=\"color: #008000; text-decoration-color: #008000\">'Tổng kết nhanh kiến thức trọng tâm qua đáp án.'</span>\n",
       "<span style=\"color: #7fbf7f; text-decoration-color: #7fbf7f\">│   </span><span style=\"font-weight: bold\">]</span>,\n",
       "<span style=\"color: #7fbf7f; text-decoration-color: #7fbf7f\">│   </span><span style=\"color: #008000; text-decoration-color: #008000\">'core_component'</span>: <span style=\"color: #008000; text-decoration-color: #008000\">\"Học sinh giải nhanh 1-2 bài tập trắc nghiệm hoặc điền khuyết về các khái niệm/công thức trọng tâm vừa học. Ví dụ: 'Xác định đúng/sai các phát biểu về [chủ đề]' hoặc 'Điền từ còn thiếu vào định nghĩa của [khái niệm]'.\"</span>,\n",
       "<span style=\"color: #7fbf7f; text-decoration-color: #7fbf7f\">│   </span><span style=\"color: #008000; text-decoration-color: #008000\">'extension_component'</span>: <span style=\"color: #008000; text-decoration-color: #008000\">'Nếu hoàn thành sớm phần cốt lõi, học sinh giải thêm một bài tập nhỏ có tính ứng dụng thực tế hoặc suy nghĩ về một ví dụ minh họa cho kiến thức vừa học trong đời sống.'</span>,\n",
       "<span style=\"color: #7fbf7f; text-decoration-color: #7fbf7f\">│   </span><span style=\"color: #008000; text-decoration-color: #008000\">'solution_guide'</span>: <span style=\"color: #008000; text-decoration-color: #008000\">'Đáp án hoặc gợi ý giải cho bài tập cốt lõi sẽ được giáo viên chiếu lên bảng hoặc đọc nhanh để học sinh tự kiểm tra.'</span>,\n",
       "<span style=\"color: #7fbf7f; text-decoration-color: #7fbf7f\">│   </span><span style=\"color: #008000; text-decoration-color: #008000\">'differentiation'</span>: <span style=\"font-weight: bold\">{</span>\n",
       "<span style=\"color: #7fbf7f; text-decoration-color: #7fbf7f\">│   │   </span><span style=\"color: #008000; text-decoration-color: #008000\">'for_struggling_students'</span>: <span style=\"color: #008000; text-decoration-color: #008000\">'Giáo viên có thể gợi ý trực tiếp các từ khóa hoặc công thức cần thiết, hoặc cho phép học sinh tham khảo nhanh tài liệu/sách giáo khoa.'</span>,\n",
       "<span style=\"color: #7fbf7f; text-decoration-color: #7fbf7f\">│   │   </span><span style=\"color: #008000; text-decoration-color: #008000\">'for_advanced_students'</span>: <span style=\"color: #008000; text-decoration-color: #008000\">'Khuyến khích học sinh giải bài tập mở rộng hoặc tự đặt ra một câu hỏi liên quan đến bài học và thử trả lời.'</span>\n",
       "<span style=\"color: #7fbf7f; text-decoration-color: #7fbf7f\">│   </span><span style=\"font-weight: bold\">}</span>,\n",
       "<span style=\"color: #7fbf7f; text-decoration-color: #7fbf7f\">│   </span><span style=\"color: #008000; text-decoration-color: #008000\">'question_or_description'</span>: <span style=\"color: #008000; text-decoration-color: #008000\">\"**Phần Cốt lõi:**\\nHọc sinh giải nhanh 1-2 bài tập trắc nghiệm hoặc điền khuyết về các khái niệm/công thức trọng tâm vừa học. Ví dụ: 'Xác định đúng/sai các phát biểu về [chủ đề]' hoặc 'Điền từ còn thiếu vào định nghĩa của [khái niệm]'.\\n\\n**Phần Mở rộng (nếu còn thời gian):**\\nNếu hoàn thành sớm phần cốt lõi, học sinh giải thêm một bài tập nhỏ có tính ứng dụng thực tế hoặc suy nghĩ về một ví dụ minh họa cho kiến thức vừa học trong đời sống.\"</span>\n",
       "<span style=\"font-weight: bold\">}</span>\n",
       "</pre>\n"
      ],
      "text/plain": [
       "\u001b[1m{\u001b[0m\n",
       "\u001b[2;32m│   \u001b[0m\u001b[32m'activity_name'\u001b[0m: \u001b[32m'Củng cố và Mở rộng'\u001b[0m,\n",
       "\u001b[2;32m│   \u001b[0m\u001b[32m'activity_type'\u001b[0m: \u001b[32m'Luyện tập nhanh cá nhân'\u001b[0m,\n",
       "\u001b[2;32m│   \u001b[0m\u001b[32m'duration_minutes'\u001b[0m: \u001b[1;36m5\u001b[0m,\n",
       "\u001b[2;32m│   \u001b[0m\u001b[32m'teacher_actions'\u001b[0m: \u001b[1m[\u001b[0m\n",
       "\u001b[2;32m│   │   \u001b[0m\u001b[32m'Giới thiệu hoạt động và nhấn mạnh thời gian 5 phút.'\u001b[0m,\n",
       "\u001b[2;32m│   │   \u001b[0m\u001b[32m'Chiếu/phát phiếu bài tập cốt lõi và mở rộng.'\u001b[0m,\n",
       "\u001b[2;32m│   │   \u001b[0m\u001b[32m'Quan sát, đi lại trong lớp, hỗ trợ nhanh các học sinh gặp khó khăn bằng gợi ý.'\u001b[0m,\n",
       "\u001b[2;32m│   │   \u001b[0m\u001b[32m'Sau 4 phút, yêu cầu học sinh dừng bút.'\u001b[0m,\n",
       "\u001b[2;32m│   │   \u001b[0m\u001b[32m'Gọi 1-2 học sinh trình bày nhanh đáp án hoặc ý tưởng \u001b[0m\u001b[32m(\u001b[0m\u001b[32mnếu còn thời gian\u001b[0m\u001b[32m)\u001b[0m\u001b[32m.'\u001b[0m,\n",
       "\u001b[2;32m│   │   \u001b[0m\u001b[32m'Tổng kết nhanh kiến thức trọng tâm qua đáp án.'\u001b[0m\n",
       "\u001b[2;32m│   \u001b[0m\u001b[1m]\u001b[0m,\n",
       "\u001b[2;32m│   \u001b[0m\u001b[32m'core_component'\u001b[0m: \u001b[32m\"Học sinh giải nhanh 1-2 bài tập trắc nghiệm hoặc điền khuyết về các khái niệm/công thức trọng tâm vừa học. Ví dụ: 'Xác định đúng/sai các phát biểu về \u001b[0m\u001b[32m[\u001b[0m\u001b[32mchủ đề\u001b[0m\u001b[32m]\u001b[0m\u001b[32m' hoặc 'Điền từ còn thiếu vào định nghĩa của \u001b[0m\u001b[32m[\u001b[0m\u001b[32mkhái niệm\u001b[0m\u001b[32m]\u001b[0m\u001b[32m'.\"\u001b[0m,\n",
       "\u001b[2;32m│   \u001b[0m\u001b[32m'extension_component'\u001b[0m: \u001b[32m'Nếu hoàn thành sớm phần cốt lõi, học sinh giải thêm một bài tập nhỏ có tính ứng dụng thực tế hoặc suy nghĩ về một ví dụ minh họa cho kiến thức vừa học trong đời sống.'\u001b[0m,\n",
       "\u001b[2;32m│   \u001b[0m\u001b[32m'solution_guide'\u001b[0m: \u001b[32m'Đáp án hoặc gợi ý giải cho bài tập cốt lõi sẽ được giáo viên chiếu lên bảng hoặc đọc nhanh để học sinh tự kiểm tra.'\u001b[0m,\n",
       "\u001b[2;32m│   \u001b[0m\u001b[32m'differentiation'\u001b[0m: \u001b[1m{\u001b[0m\n",
       "\u001b[2;32m│   │   \u001b[0m\u001b[32m'for_struggling_students'\u001b[0m: \u001b[32m'Giáo viên có thể gợi ý trực tiếp các từ khóa hoặc công thức cần thiết, hoặc cho phép học sinh tham khảo nhanh tài liệu/sách giáo khoa.'\u001b[0m,\n",
       "\u001b[2;32m│   │   \u001b[0m\u001b[32m'for_advanced_students'\u001b[0m: \u001b[32m'Khuyến khích học sinh giải bài tập mở rộng hoặc tự đặt ra một câu hỏi liên quan đến bài học và thử trả lời.'\u001b[0m\n",
       "\u001b[2;32m│   \u001b[0m\u001b[1m}\u001b[0m,\n",
       "\u001b[2;32m│   \u001b[0m\u001b[32m'question_or_description'\u001b[0m: \u001b[32m\"**Phần Cốt lõi:**\\nHọc sinh giải nhanh 1-2 bài tập trắc nghiệm hoặc điền khuyết về các khái niệm/công thức trọng tâm vừa học. Ví dụ: 'Xác định đúng/sai các phát biểu về \u001b[0m\u001b[32m[\u001b[0m\u001b[32mchủ đề\u001b[0m\u001b[32m]\u001b[0m\u001b[32m' hoặc 'Điền từ còn thiếu vào định nghĩa của \u001b[0m\u001b[32m[\u001b[0m\u001b[32mkhái niệm\u001b[0m\u001b[32m]\u001b[0m\u001b[32m'.\\n\\n**Phần Mở rộng \u001b[0m\u001b[32m(\u001b[0m\u001b[32mnếu còn thời gian\u001b[0m\u001b[32m)\u001b[0m\u001b[32m:**\\nNếu hoàn thành sớm phần cốt lõi, học sinh giải thêm một bài tập nhỏ có tính ứng dụng thực tế hoặc suy nghĩ về một ví dụ minh họa cho kiến thức vừa học trong đời sống.\"\u001b[0m\n",
       "\u001b[1m}\u001b[0m\n"
      ]
     },
     "metadata": {},
     "output_type": "display_data"
    },
    {
     "data": {
      "text/html": [
       "<pre style=\"white-space:pre;overflow-x:auto;line-height:normal;font-family:Menlo,'DejaVu Sans Mono',consolas,'Courier New',monospace\">\n",
       "<span style=\"color: #808000; text-decoration-color: #808000; font-weight: bold\">------- Hoàn thành bước: activity_designer -------</span>\n",
       "</pre>\n"
      ],
      "text/plain": [
       "\n",
       "\u001b[1;33m------- Hoàn thành bước: activity_designer -------\u001b[0m\n"
      ]
     },
     "metadata": {},
     "output_type": "display_data"
    },
    {
     "data": {
      "text/html": [
       "<pre style=\"white-space:pre;overflow-x:auto;line-height:normal;font-family:Menlo,'DejaVu Sans Mono',consolas,'Courier New',monospace\">\n",
       "<span style=\"color: #008080; text-decoration-color: #008080; font-weight: bold\">&gt;</span> `Agent: Guardian Critic` <span style=\"font-weight: bold\">(</span>v10.<span style=\"color: #008080; text-decoration-color: #008080; font-weight: bold\">0</span><span style=\"font-weight: bold\">)</span> đang bảo vệ kế hoạch<span style=\"color: #808000; text-decoration-color: #808000\">...</span>\n",
       "</pre>\n"
      ],
      "text/plain": [
       "\n",
       "\u001b[1;36m>\u001b[0m `Agent: Guardian Critic` \u001b[1m(\u001b[0mv10.\u001b[1;36m0\u001b[0m\u001b[1m)\u001b[0m đang bảo vệ kế hoạch\u001b[33m...\u001b[0m\n"
      ]
     },
     "metadata": {},
     "output_type": "display_data"
    },
    {
     "data": {
      "text/html": [
       "<pre style=\"white-space:pre;overflow-x:auto;line-height:normal;font-family:Menlo,'DejaVu Sans Mono',consolas,'Courier New',monospace\"><span style=\"color: #808000; text-decoration-color: #808000; font-weight: bold\">⚠️  GUARDIAN PHẢN BIỆN: Hoạt động này có cấu trúc tốt và phù hợp với mục tiêu </span><span style=\"color: #808000; text-decoration-color: #808000; font-weight: bold\">\"Củng cố và Mở rộng\"</span><span style=\"color: #808000; text-decoration-color: #808000; font-weight: bold\">. Tuy nhiên, thời</span>\n",
       "<span style=\"color: #808000; text-decoration-color: #808000; font-weight: bold\">gian </span><span style=\"color: #808000; text-decoration-color: #808000; font-weight: bold\">5</span><span style=\"color: #808000; text-decoration-color: #808000; font-weight: bold\"> phút là quá eo hẹp để thực hiện đầy đủ tất cả các bước được mô tả, đặc biệt là phần tổng kết và chữa bài sau</span>\n",
       "<span style=\"color: #808000; text-decoration-color: #808000; font-weight: bold\">khi học sinh đã làm bài </span><span style=\"color: #808000; text-decoration-color: #808000; font-weight: bold\">4</span><span style=\"color: #808000; text-decoration-color: #808000; font-weight: bold\"> phút. Việc gọi học sinh trình bày và tổng kết kiến thức trọng tâm sẽ khó có thể hoàn </span>\n",
       "<span style=\"color: #808000; text-decoration-color: #808000; font-weight: bold\">thành trong </span><span style=\"color: #808000; text-decoration-color: #808000; font-weight: bold\">1</span><span style=\"color: #808000; text-decoration-color: #808000; font-weight: bold\"> phút còn lại. Hãy thiết kế lại một phiên bản hoạt động đơn giản hơn, ít bước hơn để khớp với thời </span>\n",
       "<span style=\"color: #808000; text-decoration-color: #808000; font-weight: bold\">gian </span><span style=\"color: #808000; text-decoration-color: #808000; font-weight: bold\">5</span><span style=\"color: #808000; text-decoration-color: #808000; font-weight: bold\"> phút đã cho.</span>\n",
       "</pre>\n"
      ],
      "text/plain": [
       "\u001b[1;33m⚠️  GUARDIAN PHẢN BIỆN: Hoạt động này có cấu trúc tốt và phù hợp với mục tiêu \u001b[0m\u001b[1;33m\"Củng cố và Mở rộng\"\u001b[0m\u001b[1;33m. Tuy nhiên, thời\u001b[0m\n",
       "\u001b[1;33mgian \u001b[0m\u001b[1;33m5\u001b[0m\u001b[1;33m phút là quá eo hẹp để thực hiện đầy đủ tất cả các bước được mô tả, đặc biệt là phần tổng kết và chữa bài sau\u001b[0m\n",
       "\u001b[1;33mkhi học sinh đã làm bài \u001b[0m\u001b[1;33m4\u001b[0m\u001b[1;33m phút. Việc gọi học sinh trình bày và tổng kết kiến thức trọng tâm sẽ khó có thể hoàn \u001b[0m\n",
       "\u001b[1;33mthành trong \u001b[0m\u001b[1;33m1\u001b[0m\u001b[1;33m phút còn lại. Hãy thiết kế lại một phiên bản hoạt động đơn giản hơn, ít bước hơn để khớp với thời \u001b[0m\n",
       "\u001b[1;33mgian \u001b[0m\u001b[1;33m5\u001b[0m\u001b[1;33m phút đã cho.\u001b[0m\n"
      ]
     },
     "metadata": {},
     "output_type": "display_data"
    },
    {
     "data": {
      "text/html": [
       "<pre style=\"white-space:pre;overflow-x:auto;line-height:normal;font-family:Menlo,'DejaVu Sans Mono',consolas,'Courier New',monospace\">\n",
       "<span style=\"color: #808000; text-decoration-color: #808000; font-weight: bold\">------- Hoàn thành bước: content_validator -------</span>\n",
       "</pre>\n"
      ],
      "text/plain": [
       "\n",
       "\u001b[1;33m------- Hoàn thành bước: content_validator -------\u001b[0m\n"
      ]
     },
     "metadata": {},
     "output_type": "display_data"
    },
    {
     "data": {
      "text/html": [
       "<pre style=\"white-space:pre;overflow-x:auto;line-height:normal;font-family:Menlo,'DejaVu Sans Mono',consolas,'Courier New',monospace\">\n",
       "<span style=\"color: #008080; text-decoration-color: #008080; font-weight: bold\">&gt;</span> `Agent: Task Dispatcher` đang giao việc<span style=\"color: #808000; text-decoration-color: #808000\">...</span>\n",
       "</pre>\n"
      ],
      "text/plain": [
       "\n",
       "\u001b[1;36m>\u001b[0m `Agent: Task Dispatcher` đang giao việc\u001b[33m...\u001b[0m\n"
      ]
     },
     "metadata": {},
     "output_type": "display_data"
    },
    {
     "data": {
      "text/html": [
       "<pre style=\"white-space:pre;overflow-x:auto;line-height:normal;font-family:Menlo,'DejaVu Sans Mono',consolas,'Courier New',monospace\">\n",
       "<span style=\"color: #008080; text-decoration-color: #008080; font-weight: bold\">&gt;</span> --- 🚚 `Dispatcher`: Giao nhiệm vụ cho `activity_designer`.\n",
       "</pre>\n"
      ],
      "text/plain": [
       "\n",
       "\u001b[1;36m>\u001b[0m --- 🚚 `Dispatcher`: Giao nhiệm vụ cho `activity_designer`.\n"
      ]
     },
     "metadata": {},
     "output_type": "display_data"
    },
    {
     "data": {
      "text/html": [
       "<pre style=\"white-space:pre;overflow-x:auto;line-height:normal;font-family:Menlo,'DejaVu Sans Mono',consolas,'Courier New',monospace\">\n",
       "<span style=\"color: #808000; text-decoration-color: #808000; font-weight: bold\">------- Hoàn thành bước: task_dispatcher -------</span>\n",
       "</pre>\n"
      ],
      "text/plain": [
       "\n",
       "\u001b[1;33m------- Hoàn thành bước: task_dispatcher -------\u001b[0m\n"
      ]
     },
     "metadata": {},
     "output_type": "display_data"
    },
    {
     "data": {
      "text/html": [
       "<pre style=\"white-space:pre;overflow-x:auto;line-height:normal;font-family:Menlo,'DejaVu Sans Mono',consolas,'Courier New',monospace\">\n",
       "<span style=\"color: #008080; text-decoration-color: #008080; font-weight: bold\">&gt;</span> `Agent: Activity Designer` <span style=\"font-weight: bold\">(</span>v10.<span style=\"color: #008080; text-decoration-color: #008080; font-weight: bold\">0</span><span style=\"font-weight: bold\">)</span> đang tạo nội dung theo kỷ luật<span style=\"color: #808000; text-decoration-color: #808000\">...</span>\n",
       "</pre>\n"
      ],
      "text/plain": [
       "\n",
       "\u001b[1;36m>\u001b[0m `Agent: Activity Designer` \u001b[1m(\u001b[0mv10.\u001b[1;36m0\u001b[0m\u001b[1m)\u001b[0m đang tạo nội dung theo kỷ luật\u001b[33m...\u001b[0m\n"
      ]
     },
     "metadata": {},
     "output_type": "display_data"
    },
    {
     "data": {
      "text/html": [
       "<pre style=\"white-space:pre;overflow-x:auto;line-height:normal;font-family:Menlo,'DejaVu Sans Mono',consolas,'Courier New',monospace\"><span style=\"color: #008000; text-decoration-color: #008000; font-weight: bold\">✔️ Nội dung do Activity Designer tạo ra:</span>\n",
       "</pre>\n"
      ],
      "text/plain": [
       "\u001b[1;32m✔️ Nội dung do Activity Designer tạo ra:\u001b[0m\n"
      ]
     },
     "metadata": {},
     "output_type": "display_data"
    },
    {
     "data": {
      "text/html": [
       "<pre style=\"white-space:pre;overflow-x:auto;line-height:normal;font-family:Menlo,'DejaVu Sans Mono',consolas,'Courier New',monospace\"><span style=\"font-weight: bold\">{</span>\n",
       "<span style=\"color: #7fbf7f; text-decoration-color: #7fbf7f\">│   </span><span style=\"color: #008000; text-decoration-color: #008000\">'activity_name'</span>: <span style=\"color: #008000; text-decoration-color: #008000\">'Củng cố và Mở rộng'</span>,\n",
       "<span style=\"color: #7fbf7f; text-decoration-color: #7fbf7f\">│   </span><span style=\"color: #008000; text-decoration-color: #008000\">'activity_type'</span>: <span style=\"color: #008000; text-decoration-color: #008000\">'Thực hành cá nhân'</span>,\n",
       "<span style=\"color: #7fbf7f; text-decoration-color: #7fbf7f\">│   </span><span style=\"color: #008000; text-decoration-color: #008000\">'duration_minutes'</span>: <span style=\"color: #008080; text-decoration-color: #008080; font-weight: bold\">5</span>,\n",
       "<span style=\"color: #7fbf7f; text-decoration-color: #7fbf7f\">│   </span><span style=\"color: #008000; text-decoration-color: #008000\">'teacher_actions'</span>: <span style=\"font-weight: bold\">[</span>\n",
       "<span style=\"color: #7fbf7f; text-decoration-color: #7fbf7f\">│   │   </span><span style=\"color: #008000; text-decoration-color: #008000\">'Phát phiếu bài tập hoặc chiếu câu hỏi lên bảng/màn hình.'</span>,\n",
       "<span style=\"color: #7fbf7f; text-decoration-color: #7fbf7f\">│   │   </span><span style=\"color: #008000; text-decoration-color: #008000\">'Nhắc nhở học sinh về thời gian 5 phút và yêu cầu tập trung hoàn thành phần cốt lõi.'</span>,\n",
       "<span style=\"color: #7fbf7f; text-decoration-color: #7fbf7f\">│   │   </span><span style=\"color: #008000; text-decoration-color: #008000\">'Quan sát học sinh làm bài, sẵn sàng hỗ trợ nhanh nếu có học sinh gặp khó khăn.'</span>,\n",
       "<span style=\"color: #7fbf7f; text-decoration-color: #7fbf7f\">│   │   </span><span style=\"color: #008000; text-decoration-color: #008000\">'Sau 3-4 phút, yêu cầu học sinh dừng bút.'</span>,\n",
       "<span style=\"color: #7fbf7f; text-decoration-color: #7fbf7f\">│   │   </span><span style=\"color: #008000; text-decoration-color: #008000\">'Gọi 1-2 học sinh đọc nhanh đáp án hoặc trình bày ngắn gọn kết quả.'</span>,\n",
       "<span style=\"color: #7fbf7f; text-decoration-color: #7fbf7f\">│   │   </span><span style=\"color: #008000; text-decoration-color: #008000\">'Tổng kết nhanh kiến thức trọng tâm liên quan đến câu hỏi trong 30 giây cuối.'</span>\n",
       "<span style=\"color: #7fbf7f; text-decoration-color: #7fbf7f\">│   </span><span style=\"font-weight: bold\">]</span>,\n",
       "<span style=\"color: #7fbf7f; text-decoration-color: #7fbf7f\">│   </span><span style=\"color: #008000; text-decoration-color: #008000\">'core_component'</span>: <span style=\"color: #008000; text-decoration-color: #008000\">\"Học sinh hoàn thành 1 câu hỏi trắc nghiệm hoặc điền khuyết ngắn gọn để củng cố kiến thức trọng tâm của bài học. Ví dụ: 'Điền từ thích hợp vào chỗ trống: Lực hấp dẫn phụ thuộc vào ____ và ____ của các vật.'\"</span>,\n",
       "<span style=\"color: #7fbf7f; text-decoration-color: #7fbf7f\">│   </span><span style=\"color: #008000; text-decoration-color: #008000\">'extension_component'</span>: <span style=\"color: #008000; text-decoration-color: #008000\">'Nếu hoàn thành sớm, học sinh suy nghĩ và nêu một ví dụ thực tế về ứng dụng của kiến thức vừa củng cố, hoặc giải thích ngắn gọn ý nghĩa của một khái niệm liên quan.'</span>,\n",
       "<span style=\"color: #7fbf7f; text-decoration-color: #7fbf7f\">│   </span><span style=\"color: #008000; text-decoration-color: #008000\">'solution_guide'</span>: <span style=\"color: #008000; text-decoration-color: #008000\">\"Đáp án chính xác cho câu hỏi cốt lõi. Ví dụ: 'khối lượng' và 'khoảng cách' (đối với câu hỏi lực hấp dẫn). Đối với phần mở rộng, chấp nhận các ví dụ thực tế hợp lý hoặc giải thích có logic.\"</span>,\n",
       "<span style=\"color: #7fbf7f; text-decoration-color: #7fbf7f\">│   </span><span style=\"color: #008000; text-decoration-color: #008000\">'differentiation'</span>: <span style=\"font-weight: bold\">{</span>\n",
       "<span style=\"color: #7fbf7f; text-decoration-color: #7fbf7f\">│   │   </span><span style=\"color: #008000; text-decoration-color: #008000\">'for_struggling_students'</span>: <span style=\"color: #008000; text-decoration-color: #008000\">'Gợi ý từ khóa hoặc cung cấp các lựa chọn đáp án (nếu là câu hỏi điền khuyết/trắc nghiệm) để học sinh dễ dàng hơn trong việc tìm ra câu trả lời.'</span>,\n",
       "<span style=\"color: #7fbf7f; text-decoration-color: #7fbf7f\">│   │   </span><span style=\"color: #008000; text-decoration-color: #008000\">'for_advanced_students'</span>: <span style=\"color: #008000; text-decoration-color: #008000\">'Yêu cầu học sinh giải thích sâu hơn về lý do chọn đáp án hoặc mở rộng câu trả lời bằng cách liên hệ với các kiến thức khác đã học.'</span>\n",
       "<span style=\"color: #7fbf7f; text-decoration-color: #7fbf7f\">│   </span><span style=\"font-weight: bold\">}</span>,\n",
       "<span style=\"color: #7fbf7f; text-decoration-color: #7fbf7f\">│   </span><span style=\"color: #008000; text-decoration-color: #008000\">'question_or_description'</span>: <span style=\"color: #008000; text-decoration-color: #008000\">\"**Phần Cốt lõi:**\\nHọc sinh hoàn thành 1 câu hỏi trắc nghiệm hoặc điền khuyết ngắn gọn để củng cố kiến thức trọng tâm của bài học. Ví dụ: 'Điền từ thích hợp vào chỗ trống: Lực hấp dẫn phụ thuộc vào ____ và ____ của các vật.'\\n\\n**Phần Mở rộng (nếu còn thời gian):**\\nNếu hoàn thành sớm, học sinh suy nghĩ và nêu một ví dụ thực tế về ứng dụng của kiến thức vừa củng cố, hoặc giải thích ngắn gọn ý nghĩa của một khái niệm liên quan.\"</span>\n",
       "<span style=\"font-weight: bold\">}</span>\n",
       "</pre>\n"
      ],
      "text/plain": [
       "\u001b[1m{\u001b[0m\n",
       "\u001b[2;32m│   \u001b[0m\u001b[32m'activity_name'\u001b[0m: \u001b[32m'Củng cố và Mở rộng'\u001b[0m,\n",
       "\u001b[2;32m│   \u001b[0m\u001b[32m'activity_type'\u001b[0m: \u001b[32m'Thực hành cá nhân'\u001b[0m,\n",
       "\u001b[2;32m│   \u001b[0m\u001b[32m'duration_minutes'\u001b[0m: \u001b[1;36m5\u001b[0m,\n",
       "\u001b[2;32m│   \u001b[0m\u001b[32m'teacher_actions'\u001b[0m: \u001b[1m[\u001b[0m\n",
       "\u001b[2;32m│   │   \u001b[0m\u001b[32m'Phát phiếu bài tập hoặc chiếu câu hỏi lên bảng/màn hình.'\u001b[0m,\n",
       "\u001b[2;32m│   │   \u001b[0m\u001b[32m'Nhắc nhở học sinh về thời gian 5 phút và yêu cầu tập trung hoàn thành phần cốt lõi.'\u001b[0m,\n",
       "\u001b[2;32m│   │   \u001b[0m\u001b[32m'Quan sát học sinh làm bài, sẵn sàng hỗ trợ nhanh nếu có học sinh gặp khó khăn.'\u001b[0m,\n",
       "\u001b[2;32m│   │   \u001b[0m\u001b[32m'Sau 3-4 phút, yêu cầu học sinh dừng bút.'\u001b[0m,\n",
       "\u001b[2;32m│   │   \u001b[0m\u001b[32m'Gọi 1-2 học sinh đọc nhanh đáp án hoặc trình bày ngắn gọn kết quả.'\u001b[0m,\n",
       "\u001b[2;32m│   │   \u001b[0m\u001b[32m'Tổng kết nhanh kiến thức trọng tâm liên quan đến câu hỏi trong 30 giây cuối.'\u001b[0m\n",
       "\u001b[2;32m│   \u001b[0m\u001b[1m]\u001b[0m,\n",
       "\u001b[2;32m│   \u001b[0m\u001b[32m'core_component'\u001b[0m: \u001b[32m\"Học sinh hoàn thành 1 câu hỏi trắc nghiệm hoặc điền khuyết ngắn gọn để củng cố kiến thức trọng tâm của bài học. Ví dụ: 'Điền từ thích hợp vào chỗ trống: Lực hấp dẫn phụ thuộc vào ____ và ____ của các vật.'\"\u001b[0m,\n",
       "\u001b[2;32m│   \u001b[0m\u001b[32m'extension_component'\u001b[0m: \u001b[32m'Nếu hoàn thành sớm, học sinh suy nghĩ và nêu một ví dụ thực tế về ứng dụng của kiến thức vừa củng cố, hoặc giải thích ngắn gọn ý nghĩa của một khái niệm liên quan.'\u001b[0m,\n",
       "\u001b[2;32m│   \u001b[0m\u001b[32m'solution_guide'\u001b[0m: \u001b[32m\"Đáp án chính xác cho câu hỏi cốt lõi. Ví dụ: 'khối lượng' và 'khoảng cách' \u001b[0m\u001b[32m(\u001b[0m\u001b[32mđối với câu hỏi lực hấp dẫn\u001b[0m\u001b[32m)\u001b[0m\u001b[32m. Đối với phần mở rộng, chấp nhận các ví dụ thực tế hợp lý hoặc giải thích có logic.\"\u001b[0m,\n",
       "\u001b[2;32m│   \u001b[0m\u001b[32m'differentiation'\u001b[0m: \u001b[1m{\u001b[0m\n",
       "\u001b[2;32m│   │   \u001b[0m\u001b[32m'for_struggling_students'\u001b[0m: \u001b[32m'Gợi ý từ khóa hoặc cung cấp các lựa chọn đáp án \u001b[0m\u001b[32m(\u001b[0m\u001b[32mnếu là câu hỏi điền khuyết/trắc nghiệm\u001b[0m\u001b[32m)\u001b[0m\u001b[32m để học sinh dễ dàng hơn trong việc tìm ra câu trả lời.'\u001b[0m,\n",
       "\u001b[2;32m│   │   \u001b[0m\u001b[32m'for_advanced_students'\u001b[0m: \u001b[32m'Yêu cầu học sinh giải thích sâu hơn về lý do chọn đáp án hoặc mở rộng câu trả lời bằng cách liên hệ với các kiến thức khác đã học.'\u001b[0m\n",
       "\u001b[2;32m│   \u001b[0m\u001b[1m}\u001b[0m,\n",
       "\u001b[2;32m│   \u001b[0m\u001b[32m'question_or_description'\u001b[0m: \u001b[32m\"**Phần Cốt lõi:**\\nHọc sinh hoàn thành 1 câu hỏi trắc nghiệm hoặc điền khuyết ngắn gọn để củng cố kiến thức trọng tâm của bài học. Ví dụ: 'Điền từ thích hợp vào chỗ trống: Lực hấp dẫn phụ thuộc vào ____ và ____ của các vật.'\\n\\n**Phần Mở rộng \u001b[0m\u001b[32m(\u001b[0m\u001b[32mnếu còn thời gian\u001b[0m\u001b[32m)\u001b[0m\u001b[32m:**\\nNếu hoàn thành sớm, học sinh suy nghĩ và nêu một ví dụ thực tế về ứng dụng của kiến thức vừa củng cố, hoặc giải thích ngắn gọn ý nghĩa của một khái niệm liên quan.\"\u001b[0m\n",
       "\u001b[1m}\u001b[0m\n"
      ]
     },
     "metadata": {},
     "output_type": "display_data"
    },
    {
     "data": {
      "text/html": [
       "<pre style=\"white-space:pre;overflow-x:auto;line-height:normal;font-family:Menlo,'DejaVu Sans Mono',consolas,'Courier New',monospace\">\n",
       "<span style=\"color: #808000; text-decoration-color: #808000; font-weight: bold\">------- Hoàn thành bước: activity_designer -------</span>\n",
       "</pre>\n"
      ],
      "text/plain": [
       "\n",
       "\u001b[1;33m------- Hoàn thành bước: activity_designer -------\u001b[0m\n"
      ]
     },
     "metadata": {},
     "output_type": "display_data"
    },
    {
     "data": {
      "text/html": [
       "<pre style=\"white-space:pre;overflow-x:auto;line-height:normal;font-family:Menlo,'DejaVu Sans Mono',consolas,'Courier New',monospace\">\n",
       "<span style=\"color: #008080; text-decoration-color: #008080; font-weight: bold\">&gt;</span> `Agent: Guardian Critic` <span style=\"font-weight: bold\">(</span>v10.<span style=\"color: #008080; text-decoration-color: #008080; font-weight: bold\">0</span><span style=\"font-weight: bold\">)</span> đang bảo vệ kế hoạch<span style=\"color: #808000; text-decoration-color: #808000\">...</span>\n",
       "</pre>\n"
      ],
      "text/plain": [
       "\n",
       "\u001b[1;36m>\u001b[0m `Agent: Guardian Critic` \u001b[1m(\u001b[0mv10.\u001b[1;36m0\u001b[0m\u001b[1m)\u001b[0m đang bảo vệ kế hoạch\u001b[33m...\u001b[0m\n"
      ]
     },
     "metadata": {},
     "output_type": "display_data"
    },
    {
     "data": {
      "text/html": [
       "<pre style=\"white-space:pre;overflow-x:auto;line-height:normal;font-family:Menlo,'DejaVu Sans Mono',consolas,'Courier New',monospace\"><span style=\"color: #808000; text-decoration-color: #808000; font-weight: bold\">⚠️  GUARDIAN PHẢN BIỆN: Hoạt động được thiết kế khá tốt và có tính sư phạm. Tuy nhiên, với thời lượng </span><span style=\"color: #808000; text-decoration-color: #808000; font-weight: bold\">5</span><span style=\"color: #808000; text-decoration-color: #808000; font-weight: bold\"> phút, hoạt </span>\n",
       "<span style=\"color: #808000; text-decoration-color: #808000; font-weight: bold\">động này có quá nhiều bước và khó có thể hoàn thành trọn vẹn. Cụ thể, việc phát phiếu/chiếu câu hỏi, nhắc nhở thời </span>\n",
       "<span style=\"color: #808000; text-decoration-color: #808000; font-weight: bold\">gian, học sinh làm bài (</span><span style=\"color: #808000; text-decoration-color: #808000; font-weight: bold\">3</span><span style=\"color: #808000; text-decoration-color: #808000; font-weight: bold\">-</span><span style=\"color: #808000; text-decoration-color: #808000; font-weight: bold\">4</span><span style=\"color: #808000; text-decoration-color: #808000; font-weight: bold\"> phút), gọi </span><span style=\"color: #808000; text-decoration-color: #808000; font-weight: bold\">1</span><span style=\"color: #808000; text-decoration-color: #808000; font-weight: bold\">-</span><span style=\"color: #808000; text-decoration-color: #808000; font-weight: bold\">2</span><span style=\"color: #808000; text-decoration-color: #808000; font-weight: bold\"> học sinh đọc/trình bày đáp án, và sau cùng là tổng kết nhanh kiến thức </span>\n",
       "<span style=\"color: #808000; text-decoration-color: #808000; font-weight: bold\">trọng tâm trong </span><span style=\"color: #808000; text-decoration-color: #808000; font-weight: bold\">30</span><span style=\"color: #808000; text-decoration-color: #808000; font-weight: bold\"> giây cuối là một chuỗi các hoạt động rất chặt chẽ và dễ bị kéo dài hơn </span><span style=\"color: #808000; text-decoration-color: #808000; font-weight: bold\">5</span><span style=\"color: #808000; text-decoration-color: #808000; font-weight: bold\"> phút trong thực tế. Đặc</span>\n",
       "<span style=\"color: #808000; text-decoration-color: #808000; font-weight: bold\">biệt, phần gọi học sinh trình bày và giáo viên tổng kết sẽ cần nhiều hơn thời gian còn lại sau khi học sinh làm </span>\n",
       "<span style=\"color: #808000; text-decoration-color: #808000; font-weight: bold\">bài. Hãy thiết kế lại một phiên bản hoạt động đơn giản hơn, ít bước hơn để khớp với thời gian </span><span style=\"color: #808000; text-decoration-color: #808000; font-weight: bold\">5</span><span style=\"color: #808000; text-decoration-color: #808000; font-weight: bold\"> phút đã cho.</span>\n",
       "</pre>\n"
      ],
      "text/plain": [
       "\u001b[1;33m⚠️  GUARDIAN PHẢN BIỆN: Hoạt động được thiết kế khá tốt và có tính sư phạm. Tuy nhiên, với thời lượng \u001b[0m\u001b[1;33m5\u001b[0m\u001b[1;33m phút, hoạt \u001b[0m\n",
       "\u001b[1;33mđộng này có quá nhiều bước và khó có thể hoàn thành trọn vẹn. Cụ thể, việc phát phiếu/chiếu câu hỏi, nhắc nhở thời \u001b[0m\n",
       "\u001b[1;33mgian, học sinh làm bài \u001b[0m\u001b[1;33m(\u001b[0m\u001b[1;33m3\u001b[0m\u001b[1;33m-\u001b[0m\u001b[1;33m4\u001b[0m\u001b[1;33m phút\u001b[0m\u001b[1;33m)\u001b[0m\u001b[1;33m, gọi \u001b[0m\u001b[1;33m1\u001b[0m\u001b[1;33m-\u001b[0m\u001b[1;33m2\u001b[0m\u001b[1;33m học sinh đọc/trình bày đáp án, và sau cùng là tổng kết nhanh kiến thức \u001b[0m\n",
       "\u001b[1;33mtrọng tâm trong \u001b[0m\u001b[1;33m30\u001b[0m\u001b[1;33m giây cuối là một chuỗi các hoạt động rất chặt chẽ và dễ bị kéo dài hơn \u001b[0m\u001b[1;33m5\u001b[0m\u001b[1;33m phút trong thực tế. Đặc\u001b[0m\n",
       "\u001b[1;33mbiệt, phần gọi học sinh trình bày và giáo viên tổng kết sẽ cần nhiều hơn thời gian còn lại sau khi học sinh làm \u001b[0m\n",
       "\u001b[1;33mbài. Hãy thiết kế lại một phiên bản hoạt động đơn giản hơn, ít bước hơn để khớp với thời gian \u001b[0m\u001b[1;33m5\u001b[0m\u001b[1;33m phút đã cho.\u001b[0m\n"
      ]
     },
     "metadata": {},
     "output_type": "display_data"
    },
    {
     "data": {
      "text/html": [
       "<pre style=\"white-space:pre;overflow-x:auto;line-height:normal;font-family:Menlo,'DejaVu Sans Mono',consolas,'Courier New',monospace\">\n",
       "<span style=\"color: #808000; text-decoration-color: #808000; font-weight: bold\">------- Hoàn thành bước: content_validator -------</span>\n",
       "</pre>\n"
      ],
      "text/plain": [
       "\n",
       "\u001b[1;33m------- Hoàn thành bước: content_validator -------\u001b[0m\n"
      ]
     },
     "metadata": {},
     "output_type": "display_data"
    },
    {
     "data": {
      "text/html": [
       "<pre style=\"white-space:pre;overflow-x:auto;line-height:normal;font-family:Menlo,'DejaVu Sans Mono',consolas,'Courier New',monospace\">\n",
       "<span style=\"color: #008080; text-decoration-color: #008080; font-weight: bold\">&gt;</span> `Agent: Task Dispatcher` đang giao việc<span style=\"color: #808000; text-decoration-color: #808000\">...</span>\n",
       "</pre>\n"
      ],
      "text/plain": [
       "\n",
       "\u001b[1;36m>\u001b[0m `Agent: Task Dispatcher` đang giao việc\u001b[33m...\u001b[0m\n"
      ]
     },
     "metadata": {},
     "output_type": "display_data"
    },
    {
     "data": {
      "text/html": [
       "<pre style=\"white-space:pre;overflow-x:auto;line-height:normal;font-family:Menlo,'DejaVu Sans Mono',consolas,'Courier New',monospace\">\n",
       "<span style=\"color: #008080; text-decoration-color: #008080; font-weight: bold\">&gt;</span> --- 🚚 `Dispatcher`: Giao nhiệm vụ cho `activity_designer`.\n",
       "</pre>\n"
      ],
      "text/plain": [
       "\n",
       "\u001b[1;36m>\u001b[0m --- 🚚 `Dispatcher`: Giao nhiệm vụ cho `activity_designer`.\n"
      ]
     },
     "metadata": {},
     "output_type": "display_data"
    },
    {
     "data": {
      "text/html": [
       "<pre style=\"white-space:pre;overflow-x:auto;line-height:normal;font-family:Menlo,'DejaVu Sans Mono',consolas,'Courier New',monospace\">\n",
       "<span style=\"color: #808000; text-decoration-color: #808000; font-weight: bold\">------- Hoàn thành bước: task_dispatcher -------</span>\n",
       "</pre>\n"
      ],
      "text/plain": [
       "\n",
       "\u001b[1;33m------- Hoàn thành bước: task_dispatcher -------\u001b[0m\n"
      ]
     },
     "metadata": {},
     "output_type": "display_data"
    },
    {
     "data": {
      "text/html": [
       "<pre style=\"white-space:pre;overflow-x:auto;line-height:normal;font-family:Menlo,'DejaVu Sans Mono',consolas,'Courier New',monospace\">\n",
       "<span style=\"color: #008080; text-decoration-color: #008080; font-weight: bold\">&gt;</span> `Agent: Activity Designer` <span style=\"font-weight: bold\">(</span>v10.<span style=\"color: #008080; text-decoration-color: #008080; font-weight: bold\">0</span><span style=\"font-weight: bold\">)</span> đang tạo nội dung theo kỷ luật<span style=\"color: #808000; text-decoration-color: #808000\">...</span>\n",
       "</pre>\n"
      ],
      "text/plain": [
       "\n",
       "\u001b[1;36m>\u001b[0m `Agent: Activity Designer` \u001b[1m(\u001b[0mv10.\u001b[1;36m0\u001b[0m\u001b[1m)\u001b[0m đang tạo nội dung theo kỷ luật\u001b[33m...\u001b[0m\n"
      ]
     },
     "metadata": {},
     "output_type": "display_data"
    },
    {
     "data": {
      "text/html": [
       "<pre style=\"white-space:pre;overflow-x:auto;line-height:normal;font-family:Menlo,'DejaVu Sans Mono',consolas,'Courier New',monospace\"><span style=\"color: #008000; text-decoration-color: #008000; font-weight: bold\">✔️ Nội dung do Activity Designer tạo ra:</span>\n",
       "</pre>\n"
      ],
      "text/plain": [
       "\u001b[1;32m✔️ Nội dung do Activity Designer tạo ra:\u001b[0m\n"
      ]
     },
     "metadata": {},
     "output_type": "display_data"
    },
    {
     "data": {
      "text/html": [
       "<pre style=\"white-space:pre;overflow-x:auto;line-height:normal;font-family:Menlo,'DejaVu Sans Mono',consolas,'Courier New',monospace\"><span style=\"font-weight: bold\">{</span>\n",
       "<span style=\"color: #7fbf7f; text-decoration-color: #7fbf7f\">│   </span><span style=\"color: #008000; text-decoration-color: #008000\">'activity_name'</span>: <span style=\"color: #008000; text-decoration-color: #008000\">'Củng cố và Mở rộng'</span>,\n",
       "<span style=\"color: #7fbf7f; text-decoration-color: #7fbf7f\">│   </span><span style=\"color: #008000; text-decoration-color: #008000\">'activity_type'</span>: <span style=\"color: #008000; text-decoration-color: #008000\">'Kiểm tra nhanh kiến thức'</span>,\n",
       "<span style=\"color: #7fbf7f; text-decoration-color: #7fbf7f\">│   </span><span style=\"color: #008000; text-decoration-color: #008000\">'duration_minutes'</span>: <span style=\"color: #008080; text-decoration-color: #008080; font-weight: bold\">5</span>,\n",
       "<span style=\"color: #7fbf7f; text-decoration-color: #7fbf7f\">│   </span><span style=\"color: #008000; text-decoration-color: #008000\">'teacher_actions'</span>: <span style=\"font-weight: bold\">[</span>\n",
       "<span style=\"color: #7fbf7f; text-decoration-color: #7fbf7f\">│   │   </span><span style=\"color: #008000; text-decoration-color: #008000\">'Chiếu/đọc rõ ràng 1 câu hỏi/bài tập ngắn gọn, trọng tâm.'</span>,\n",
       "<span style=\"color: #7fbf7f; text-decoration-color: #7fbf7f\">│   │   </span><span style=\"color: #008000; text-decoration-color: #008000\">'Quan sát và nhắc nhở học sinh tập trung làm bài trong 2 phút.'</span>,\n",
       "<span style=\"color: #7fbf7f; text-decoration-color: #7fbf7f\">│   │   </span><span style=\"color: #008000; text-decoration-color: #008000\">'Gọi ngẫu nhiên 2-3 học sinh trình bày nhanh đáp án của mình.'</span>,\n",
       "<span style=\"color: #7fbf7f; text-decoration-color: #7fbf7f\">│   │   </span><span style=\"color: #008000; text-decoration-color: #008000\">'Xác nhận đáp án đúng và chốt lại kiến thức trọng tâm trong 1 phút cuối.'</span>\n",
       "<span style=\"color: #7fbf7f; text-decoration-color: #7fbf7f\">│   </span><span style=\"font-weight: bold\">]</span>,\n",
       "<span style=\"color: #7fbf7f; text-decoration-color: #7fbf7f\">│   </span><span style=\"color: #008000; text-decoration-color: #008000\">'core_component'</span>: <span style=\"color: #008000; text-decoration-color: #008000\">'Giáo viên chiếu/đọc 1 câu hỏi hoặc bài tập ngắn gọn, trọng tâm liên quan đến kiến thức vừa học. Học sinh có 2 phút để suy nghĩ và ghi nhanh đáp án vào nháp/bảng con hoặc chuẩn bị trả lời miệng.'</span>,\n",
       "<span style=\"color: #7fbf7f; text-decoration-color: #7fbf7f\">│   </span><span style=\"color: #008000; text-decoration-color: #008000\">'extension_component'</span>: <span style=\"color: #008000; text-decoration-color: #008000\">'Nếu còn thời gian, giáo viên có thể đặt thêm một câu hỏi phụ mở rộng hoặc yêu cầu học sinh giải thích ngắn gọn lý do chọn đáp án.'</span>,\n",
       "<span style=\"color: #7fbf7f; text-decoration-color: #7fbf7f\">│   </span><span style=\"color: #008000; text-decoration-color: #008000\">'solution_guide'</span>: <span style=\"color: #008000; text-decoration-color: #008000\">\"Cung cấp đáp án chính xác cho câu hỏi/bài tập. Ví dụ: 'Đáp án đúng là [X] vì [giải thích ngắn gọn].'\"</span>,\n",
       "<span style=\"color: #7fbf7f; text-decoration-color: #7fbf7f\">│   </span><span style=\"color: #008000; text-decoration-color: #008000\">'differentiation'</span>: <span style=\"font-weight: bold\">{</span>\n",
       "<span style=\"color: #7fbf7f; text-decoration-color: #7fbf7f\">│   │   </span><span style=\"color: #008000; text-decoration-color: #008000\">'for_struggling_students'</span>: <span style=\"color: #008000; text-decoration-color: #008000\">'Giáo viên có thể gợi ý từ khóa hoặc cho phép học sinh tham khảo nhanh ghi chú/sách giáo khoa để tìm câu trả lời.'</span>,\n",
       "<span style=\"color: #7fbf7f; text-decoration-color: #7fbf7f\">│   │   </span><span style=\"color: #008000; text-decoration-color: #008000\">'for_advanced_students'</span>: <span style=\"color: #008000; text-decoration-color: #008000\">'Yêu cầu học sinh giải thích ngắn gọn lý do cho đáp án của mình hoặc đặt thêm một câu hỏi phụ nhỏ để mở rộng vấn đề.'</span>\n",
       "<span style=\"color: #7fbf7f; text-decoration-color: #7fbf7f\">│   </span><span style=\"font-weight: bold\">}</span>,\n",
       "<span style=\"color: #7fbf7f; text-decoration-color: #7fbf7f\">│   </span><span style=\"color: #008000; text-decoration-color: #008000\">'question_or_description'</span>: <span style=\"color: #008000; text-decoration-color: #008000\">'**Phần Cốt lõi:**\\nGiáo viên chiếu/đọc 1 câu hỏi hoặc bài tập ngắn gọn, trọng tâm liên quan đến kiến thức vừa học. Học sinh có 2 phút để suy nghĩ và ghi nhanh đáp án vào nháp/bảng con hoặc chuẩn bị trả lời miệng.\\n\\n**Phần Mở rộng (nếu còn thời gian):**\\nNếu còn thời gian, giáo viên có thể đặt thêm một câu hỏi phụ mở rộng hoặc yêu cầu học sinh giải thích ngắn gọn lý do chọn đáp án.'</span>\n",
       "<span style=\"font-weight: bold\">}</span>\n",
       "</pre>\n"
      ],
      "text/plain": [
       "\u001b[1m{\u001b[0m\n",
       "\u001b[2;32m│   \u001b[0m\u001b[32m'activity_name'\u001b[0m: \u001b[32m'Củng cố và Mở rộng'\u001b[0m,\n",
       "\u001b[2;32m│   \u001b[0m\u001b[32m'activity_type'\u001b[0m: \u001b[32m'Kiểm tra nhanh kiến thức'\u001b[0m,\n",
       "\u001b[2;32m│   \u001b[0m\u001b[32m'duration_minutes'\u001b[0m: \u001b[1;36m5\u001b[0m,\n",
       "\u001b[2;32m│   \u001b[0m\u001b[32m'teacher_actions'\u001b[0m: \u001b[1m[\u001b[0m\n",
       "\u001b[2;32m│   │   \u001b[0m\u001b[32m'Chiếu/đọc rõ ràng 1 câu hỏi/bài tập ngắn gọn, trọng tâm.'\u001b[0m,\n",
       "\u001b[2;32m│   │   \u001b[0m\u001b[32m'Quan sát và nhắc nhở học sinh tập trung làm bài trong 2 phút.'\u001b[0m,\n",
       "\u001b[2;32m│   │   \u001b[0m\u001b[32m'Gọi ngẫu nhiên 2-3 học sinh trình bày nhanh đáp án của mình.'\u001b[0m,\n",
       "\u001b[2;32m│   │   \u001b[0m\u001b[32m'Xác nhận đáp án đúng và chốt lại kiến thức trọng tâm trong 1 phút cuối.'\u001b[0m\n",
       "\u001b[2;32m│   \u001b[0m\u001b[1m]\u001b[0m,\n",
       "\u001b[2;32m│   \u001b[0m\u001b[32m'core_component'\u001b[0m: \u001b[32m'Giáo viên chiếu/đọc 1 câu hỏi hoặc bài tập ngắn gọn, trọng tâm liên quan đến kiến thức vừa học. Học sinh có 2 phút để suy nghĩ và ghi nhanh đáp án vào nháp/bảng con hoặc chuẩn bị trả lời miệng.'\u001b[0m,\n",
       "\u001b[2;32m│   \u001b[0m\u001b[32m'extension_component'\u001b[0m: \u001b[32m'Nếu còn thời gian, giáo viên có thể đặt thêm một câu hỏi phụ mở rộng hoặc yêu cầu học sinh giải thích ngắn gọn lý do chọn đáp án.'\u001b[0m,\n",
       "\u001b[2;32m│   \u001b[0m\u001b[32m'solution_guide'\u001b[0m: \u001b[32m\"Cung cấp đáp án chính xác cho câu hỏi/bài tập. Ví dụ: 'Đáp án đúng là \u001b[0m\u001b[32m[\u001b[0m\u001b[32mX\u001b[0m\u001b[32m]\u001b[0m\u001b[32m vì \u001b[0m\u001b[32m[\u001b[0m\u001b[32mgiải thích ngắn gọn\u001b[0m\u001b[32m]\u001b[0m\u001b[32m.'\"\u001b[0m,\n",
       "\u001b[2;32m│   \u001b[0m\u001b[32m'differentiation'\u001b[0m: \u001b[1m{\u001b[0m\n",
       "\u001b[2;32m│   │   \u001b[0m\u001b[32m'for_struggling_students'\u001b[0m: \u001b[32m'Giáo viên có thể gợi ý từ khóa hoặc cho phép học sinh tham khảo nhanh ghi chú/sách giáo khoa để tìm câu trả lời.'\u001b[0m,\n",
       "\u001b[2;32m│   │   \u001b[0m\u001b[32m'for_advanced_students'\u001b[0m: \u001b[32m'Yêu cầu học sinh giải thích ngắn gọn lý do cho đáp án của mình hoặc đặt thêm một câu hỏi phụ nhỏ để mở rộng vấn đề.'\u001b[0m\n",
       "\u001b[2;32m│   \u001b[0m\u001b[1m}\u001b[0m,\n",
       "\u001b[2;32m│   \u001b[0m\u001b[32m'question_or_description'\u001b[0m: \u001b[32m'**Phần Cốt lõi:**\\nGiáo viên chiếu/đọc 1 câu hỏi hoặc bài tập ngắn gọn, trọng tâm liên quan đến kiến thức vừa học. Học sinh có 2 phút để suy nghĩ và ghi nhanh đáp án vào nháp/bảng con hoặc chuẩn bị trả lời miệng.\\n\\n**Phần Mở rộng \u001b[0m\u001b[32m(\u001b[0m\u001b[32mnếu còn thời gian\u001b[0m\u001b[32m)\u001b[0m\u001b[32m:**\\nNếu còn thời gian, giáo viên có thể đặt thêm một câu hỏi phụ mở rộng hoặc yêu cầu học sinh giải thích ngắn gọn lý do chọn đáp án.'\u001b[0m\n",
       "\u001b[1m}\u001b[0m\n"
      ]
     },
     "metadata": {},
     "output_type": "display_data"
    },
    {
     "data": {
      "text/html": [
       "<pre style=\"white-space:pre;overflow-x:auto;line-height:normal;font-family:Menlo,'DejaVu Sans Mono',consolas,'Courier New',monospace\">\n",
       "<span style=\"color: #808000; text-decoration-color: #808000; font-weight: bold\">------- Hoàn thành bước: activity_designer -------</span>\n",
       "</pre>\n"
      ],
      "text/plain": [
       "\n",
       "\u001b[1;33m------- Hoàn thành bước: activity_designer -------\u001b[0m\n"
      ]
     },
     "metadata": {},
     "output_type": "display_data"
    },
    {
     "data": {
      "text/html": [
       "<pre style=\"white-space:pre;overflow-x:auto;line-height:normal;font-family:Menlo,'DejaVu Sans Mono',consolas,'Courier New',monospace\">\n",
       "<span style=\"color: #008080; text-decoration-color: #008080; font-weight: bold\">&gt;</span> `Agent: Guardian Critic` <span style=\"font-weight: bold\">(</span>v10.<span style=\"color: #008080; text-decoration-color: #008080; font-weight: bold\">0</span><span style=\"font-weight: bold\">)</span> đang bảo vệ kế hoạch<span style=\"color: #808000; text-decoration-color: #808000\">...</span>\n",
       "</pre>\n"
      ],
      "text/plain": [
       "\n",
       "\u001b[1;36m>\u001b[0m `Agent: Guardian Critic` \u001b[1m(\u001b[0mv10.\u001b[1;36m0\u001b[0m\u001b[1m)\u001b[0m đang bảo vệ kế hoạch\u001b[33m...\u001b[0m\n"
      ]
     },
     "metadata": {},
     "output_type": "display_data"
    },
    {
     "data": {
      "text/html": [
       "<pre style=\"white-space:pre;overflow-x:auto;line-height:normal;font-family:Menlo,'DejaVu Sans Mono',consolas,'Courier New',monospace\">\n",
       "<span style=\"color: #008080; text-decoration-color: #008080; font-weight: bold\">&gt;</span> ✔️ GUARDIAN: Nội dung tuân thủ kế hoạch!\n",
       "</pre>\n"
      ],
      "text/plain": [
       "\n",
       "\u001b[1;36m>\u001b[0m ✔️ GUARDIAN: Nội dung tuân thủ kế hoạch!\n"
      ]
     },
     "metadata": {},
     "output_type": "display_data"
    },
    {
     "data": {
      "text/html": [
       "<pre style=\"white-space:pre;overflow-x:auto;line-height:normal;font-family:Menlo,'DejaVu Sans Mono',consolas,'Courier New',monospace\">\n",
       "<span style=\"color: #808000; text-decoration-color: #808000; font-weight: bold\">------- Hoàn thành bước: content_validator -------</span>\n",
       "</pre>\n"
      ],
      "text/plain": [
       "\n",
       "\u001b[1;33m------- Hoàn thành bước: content_validator -------\u001b[0m\n"
      ]
     },
     "metadata": {},
     "output_type": "display_data"
    },
    {
     "data": {
      "text/html": [
       "<pre style=\"white-space:pre;overflow-x:auto;line-height:normal;font-family:Menlo,'DejaVu Sans Mono',consolas,'Courier New',monospace\">\n",
       "<span style=\"color: #008080; text-decoration-color: #008080; font-weight: bold\">&gt;</span> `Commiter`: Đang ghi nhận nội dung đã được xác thực<span style=\"color: #808000; text-decoration-color: #808000\">...</span>\n",
       "</pre>\n"
      ],
      "text/plain": [
       "\n",
       "\u001b[1;36m>\u001b[0m `Commiter`: Đang ghi nhận nội dung đã được xác thực\u001b[33m...\u001b[0m\n"
      ]
     },
     "metadata": {},
     "output_type": "display_data"
    },
    {
     "data": {
      "text/html": [
       "<pre style=\"white-space:pre;overflow-x:auto;line-height:normal;font-family:Menlo,'DejaVu Sans Mono',consolas,'Courier New',monospace\">\n",
       "<span style=\"color: #808000; text-decoration-color: #808000; font-weight: bold\">------- Hoàn thành bước: commit_validated_content -------</span>\n",
       "</pre>\n"
      ],
      "text/plain": [
       "\n",
       "\u001b[1;33m------- Hoàn thành bước: commit_validated_content -------\u001b[0m\n"
      ]
     },
     "metadata": {},
     "output_type": "display_data"
    },
    {
     "data": {
      "text/html": [
       "<pre style=\"white-space:pre;overflow-x:auto;line-height:normal;font-family:Menlo,'DejaVu Sans Mono',consolas,'Courier New',monospace\">\n",
       "<span style=\"color: #808000; text-decoration-color: #808000; font-weight: bold\">------- Hoàn thành bước: mark_task_complete -------</span>\n",
       "</pre>\n"
      ],
      "text/plain": [
       "\n",
       "\u001b[1;33m------- Hoàn thành bước: mark_task_complete -------\u001b[0m\n"
      ]
     },
     "metadata": {},
     "output_type": "display_data"
    },
    {
     "data": {
      "text/html": [
       "<pre style=\"white-space:pre;overflow-x:auto;line-height:normal;font-family:Menlo,'DejaVu Sans Mono',consolas,'Courier New',monospace\">\n",
       "<span style=\"color: #808000; text-decoration-color: #808000; font-weight: bold\">------- Hoàn thành bước: delay_node -------</span>\n",
       "</pre>\n"
      ],
      "text/plain": [
       "\n",
       "\u001b[1;33m------- Hoàn thành bước: delay_node -------\u001b[0m\n"
      ]
     },
     "metadata": {},
     "output_type": "display_data"
    },
    {
     "data": {
      "text/html": [
       "<pre style=\"white-space:pre;overflow-x:auto;line-height:normal;font-family:Menlo,'DejaVu Sans Mono',consolas,'Courier New',monospace\">\n",
       "<span style=\"color: #008080; text-decoration-color: #008080; font-weight: bold\">&gt;</span> `Router`: Đang kiểm tra nhiệm vụ<span style=\"color: #808000; text-decoration-color: #808000\">...</span>\n",
       "</pre>\n"
      ],
      "text/plain": [
       "\n",
       "\u001b[1;36m>\u001b[0m `Router`: Đang kiểm tra nhiệm vụ\u001b[33m...\u001b[0m\n"
      ]
     },
     "metadata": {},
     "output_type": "display_data"
    },
    {
     "data": {
      "text/html": [
       "<pre style=\"white-space:pre;overflow-x:auto;line-height:normal;font-family:Menlo,'DejaVu Sans Mono',consolas,'Courier New',monospace\">\n",
       "<span style=\"color: #008080; text-decoration-color: #008080; font-weight: bold\">&gt;</span> Hết nhiệm vụ, chuyển sang node Compiler.\n",
       "</pre>\n"
      ],
      "text/plain": [
       "\n",
       "\u001b[1;36m>\u001b[0m Hết nhiệm vụ, chuyển sang node Compiler.\n"
      ]
     },
     "metadata": {},
     "output_type": "display_data"
    },
    {
     "data": {
      "text/html": [
       "<pre style=\"white-space:pre;overflow-x:auto;line-height:normal;font-family:Menlo,'DejaVu Sans Mono',consolas,'Courier New',monospace\">\n",
       "<span style=\"color: #808000; text-decoration-color: #808000; font-weight: bold\">------- Hoàn thành bước: task_router -------</span>\n",
       "</pre>\n"
      ],
      "text/plain": [
       "\n",
       "\u001b[1;33m------- Hoàn thành bước: task_router -------\u001b[0m\n"
      ]
     },
     "metadata": {},
     "output_type": "display_data"
    },
    {
     "data": {
      "text/html": [
       "<pre style=\"white-space:pre;overflow-x:auto;line-height:normal;font-family:Menlo,'DejaVu Sans Mono',consolas,'Courier New',monospace\">\n",
       "<span style=\"color: #008080; text-decoration-color: #008080; font-weight: bold\">&gt;</span> `Agent: Structured Plan Compiler` <span style=\"font-weight: bold\">(</span>v10.<span style=\"color: #008080; text-decoration-color: #008080; font-weight: bold\">0.1</span><span style=\"font-weight: bold\">)</span> đang tổng hợp giáo án<span style=\"color: #808000; text-decoration-color: #808000\">...</span>\n",
       "</pre>\n"
      ],
      "text/plain": [
       "\n",
       "\u001b[1;36m>\u001b[0m `Agent: Structured Plan Compiler` \u001b[1m(\u001b[0mv10.\u001b[1;36m0.1\u001b[0m\u001b[1m)\u001b[0m đang tổng hợp giáo án\u001b[33m...\u001b[0m\n"
      ]
     },
     "metadata": {},
     "output_type": "display_data"
    },
    {
     "data": {
      "text/html": [
       "<pre style=\"white-space:pre;overflow-x:auto;line-height:normal;font-family:Menlo,'DejaVu Sans Mono',consolas,'Courier New',monospace\">\n",
       "<span style=\"color: #008080; text-decoration-color: #008080; font-weight: bold\">&gt;</span> CRITIC LỚN: Kế hoạch hợp lệ! Tổng thời gian <span style=\"font-weight: bold\">(</span><span style=\"color: #008080; text-decoration-color: #008080; font-weight: bold\">90</span> phút<span style=\"font-weight: bold\">)</span> nằm trong giới hạn cho phép.\n",
       "</pre>\n"
      ],
      "text/plain": [
       "\n",
       "\u001b[1;36m>\u001b[0m CRITIC LỚN: Kế hoạch hợp lệ! Tổng thời gian \u001b[1m(\u001b[0m\u001b[1;36m90\u001b[0m phút\u001b[1m)\u001b[0m nằm trong giới hạn cho phép.\n"
      ]
     },
     "metadata": {},
     "output_type": "display_data"
    },
    {
     "data": {
      "text/html": [
       "<pre style=\"white-space:pre;overflow-x:auto;line-height:normal;font-family:Menlo,'DejaVu Sans Mono',consolas,'Courier New',monospace\">\n",
       "<span style=\"color: #008080; text-decoration-color: #008080; font-weight: bold\">&gt;</span> Bắt đầu tổng hợp giáo án dạng JSON<span style=\"color: #808000; text-decoration-color: #808000\">...</span>\n",
       "</pre>\n"
      ],
      "text/plain": [
       "\n",
       "\u001b[1;36m>\u001b[0m Bắt đầu tổng hợp giáo án dạng JSON\u001b[33m...\u001b[0m\n"
      ]
     },
     "metadata": {},
     "output_type": "display_data"
    },
    {
     "data": {
      "text/html": [
       "<pre style=\"white-space:pre;overflow-x:auto;line-height:normal;font-family:Menlo,'DejaVu Sans Mono',consolas,'Courier New',monospace\">\n",
       "<span style=\"color: #008080; text-decoration-color: #008080; font-weight: bold\">&gt;</span> ROUTER <span style=\"font-weight: bold\">(</span>Compilation<span style=\"font-weight: bold\">)</span>: Critic lớn đã hài lòng. Kết thúc quy trình.\n",
       "</pre>\n"
      ],
      "text/plain": [
       "\n",
       "\u001b[1;36m>\u001b[0m ROUTER \u001b[1m(\u001b[0mCompilation\u001b[1m)\u001b[0m: Critic lớn đã hài lòng. Kết thúc quy trình.\n"
      ]
     },
     "metadata": {},
     "output_type": "display_data"
    },
    {
     "data": {
      "text/html": [
       "<pre style=\"white-space:pre;overflow-x:auto;line-height:normal;font-family:Menlo,'DejaVu Sans Mono',consolas,'Courier New',monospace\">\n",
       "<span style=\"color: #808000; text-decoration-color: #808000; font-weight: bold\">------- Hoàn thành bước: structured_plan_compiler -------</span>\n",
       "</pre>\n"
      ],
      "text/plain": [
       "\n",
       "\u001b[1;33m------- Hoàn thành bước: structured_plan_compiler -------\u001b[0m\n"
      ]
     },
     "metadata": {},
     "output_type": "display_data"
    },
    {
     "data": {
      "text/html": [
       "<pre style=\"white-space:pre;overflow-x:auto;line-height:normal;font-family:Menlo,'DejaVu Sans Mono',consolas,'Courier New',monospace\">\n",
       "<span style=\"color: #008080; text-decoration-color: #008080; font-weight: bold\">&gt;</span> `Node: Markdown Presenter` <span style=\"font-weight: bold\">(</span>v10.<span style=\"color: #008080; text-decoration-color: #008080; font-weight: bold\">0.1</span><span style=\"font-weight: bold\">)</span> đang tạo bản trình bày Markdown<span style=\"color: #808000; text-decoration-color: #808000\">...</span>\n",
       "</pre>\n"
      ],
      "text/plain": [
       "\n",
       "\u001b[1;36m>\u001b[0m `Node: Markdown Presenter` \u001b[1m(\u001b[0mv10.\u001b[1;36m0.1\u001b[0m\u001b[1m)\u001b[0m đang tạo bản trình bày Markdown\u001b[33m...\u001b[0m\n"
      ]
     },
     "metadata": {},
     "output_type": "display_data"
    },
    {
     "data": {
      "text/html": [
       "<pre style=\"white-space:pre;overflow-x:auto;line-height:normal;font-family:Menlo,'DejaVu Sans Mono',consolas,'Courier New',monospace\">\n",
       "<span style=\"color: #808000; text-decoration-color: #808000; font-weight: bold\">------- Hoàn thành bước: markdown_presenter -------</span>\n",
       "</pre>\n"
      ],
      "text/plain": [
       "\n",
       "\u001b[1;33m------- Hoàn thành bước: markdown_presenter -------\u001b[0m\n"
      ]
     },
     "metadata": {},
     "output_type": "display_data"
    },
    {
     "data": {
      "text/html": [
       "<pre style=\"white-space:pre;overflow-x:auto;line-height:normal;font-family:Menlo,'DejaVu Sans Mono',consolas,'Courier New',monospace\">\n",
       "<span style=\"color: #008080; text-decoration-color: #008080; font-weight: bold\">&gt;</span> 🧠 Đã lưu giáo án thành công vào Trí nhớ Dài hạn.\n",
       "</pre>\n"
      ],
      "text/plain": [
       "\n",
       "\u001b[1;36m>\u001b[0m 🧠 Đã lưu giáo án thành công vào Trí nhớ Dài hạn.\n"
      ]
     },
     "metadata": {},
     "output_type": "display_data"
    },
    {
     "data": {
      "text/html": [
       "<pre style=\"white-space:pre;overflow-x:auto;line-height:normal;font-family:Menlo,'DejaVu Sans Mono',consolas,'Courier New',monospace\">\n",
       "<span style=\"color: #808000; text-decoration-color: #808000; font-weight: bold\">------- Hoàn thành bước: save_to_memory -------</span>\n",
       "</pre>\n"
      ],
      "text/plain": [
       "\n",
       "\u001b[1;33m------- Hoàn thành bước: save_to_memory -------\u001b[0m\n"
      ]
     },
     "metadata": {},
     "output_type": "display_data"
    },
    {
     "data": {
      "text/html": [
       "<pre style=\"white-space:pre;overflow-x:auto;line-height:normal;font-family:Menlo,'DejaVu Sans Mono',consolas,'Courier New',monospace\">\n",
       "<span style=\"color: #800080; text-decoration-color: #800080; font-weight: bold\">🏁 KẾT THÚC QUY TRÌNH V7.</span><span style=\"color: #800080; text-decoration-color: #800080; font-weight: bold\">1</span><span style=\"color: #800080; text-decoration-color: #800080; font-weight: bold\">.</span>\n",
       "</pre>\n"
      ],
      "text/plain": [
       "\n",
       "\u001b[1;35m🏁 KẾT THÚC QUY TRÌNH V7.\u001b[0m\u001b[1;35m1\u001b[0m\u001b[1;35m.\u001b[0m\n"
      ]
     },
     "metadata": {},
     "output_type": "display_data"
    },
    {
     "data": {
      "text/html": [
       "<pre style=\"white-space:pre;overflow-x:auto;line-height:normal;font-family:Menlo,'DejaVu Sans Mono',consolas,'Courier New',monospace\"><span style=\"color: #808000; text-decoration-color: #808000; font-weight: bold\">⚠️  Không tạo được giáo án cuối cùng. Có thể Critic đã yêu cầu làm lại nhưng hết giới hạn đệ quy.</span>\n",
       "</pre>\n"
      ],
      "text/plain": [
       "\u001b[1;33m⚠️  Không tạo được giáo án cuối cùng. Có thể Critic đã yêu cầu làm lại nhưng hết giới hạn đệ quy.\u001b[0m\n"
      ]
     },
     "metadata": {},
     "output_type": "display_data"
    },
    {
     "name": "stdout",
     "output_type": "stream",
     "text": [
      "\n",
      "Trạng thái cuối cùng để gỡ lỗi:\n"
     ]
    },
    {
     "data": {
      "text/html": [
       "<pre style=\"white-space:pre;overflow-x:auto;line-height:normal;font-family:Menlo,'DejaVu Sans Mono',consolas,'Courier New',monospace\"><span style=\"color: #800080; text-decoration-color: #800080; font-style: italic\">None</span>\n",
       "</pre>\n"
      ],
      "text/plain": [
       "\u001b[3;35mNone\u001b[0m\n"
      ]
     },
     "metadata": {},
     "output_type": "display_data"
    }
   ],
   "source": [
    "# ==============================================================================\n",
    "# CELL 5.2: KÍCH HOẠT CHẠY THỬ NGHIỆM\n",
    "# ==============================================================================\n",
    "# Yêu cầu để kiểm tra\n",
    "architect_request = \"Soạn giúp tôi giáo án bài 'Đường tròn ngoại tiếp và đường tròn nội tiếp' cho học sinh lớp 9 trong 90 phút. Đây là một lớp học khá yếu, các em thường mất tập trung và cần các hoạt động có tính tương tác cao.\"\n",
    "VERBOSE_MODE = True \n",
    "\n",
    "# Chạy quy trình đã được cải cách\n",
    "# Lưu ý: bạn cần một môi trường hỗ trợ `await` ở cấp độ cao nhất (như Jupyter Notebook)\n",
    "await run_architect(architect_request)"
   ]
  }
 ],
 "metadata": {
  "kernelspec": {
   "display_name": "plan_venv",
   "language": "python",
   "name": "python3"
  },
  "language_info": {
   "codemirror_mode": {
    "name": "ipython",
    "version": 3
   },
   "file_extension": ".py",
   "mimetype": "text/x-python",
   "name": "python",
   "nbconvert_exporter": "python",
   "pygments_lexer": "ipython3",
   "version": "3.11.8"
  }
 },
 "nbformat": 4,
 "nbformat_minor": 5
}
