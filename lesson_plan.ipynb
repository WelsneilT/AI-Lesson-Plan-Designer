{
 "cells": [
  {
   "cell_type": "markdown",
   "id": "a3bfa357",
   "metadata": {},
   "source": [
    "## PHẦN 1: CÀI ĐẶT, IMPORTS & THIẾT LẬP BAN ĐẦU"
   ]
  },
  {
   "cell_type": "code",
   "execution_count": 20,
   "id": "f1b9d691",
   "metadata": {},
   "outputs": [],
   "source": [
    "# ==============================================================================\n",
    "# CELL 1.1: CÀI ĐẶT THƯ VIỆN & BIẾN MÔI TRƯỜNG (CẬP NHẬT)\n",
    "# ==============================================================================\n",
    "import os\n",
    "import json\n",
    "import asyncio\n",
    "import operator\n",
    "import time \n",
    "import re\n",
    "from typing import TypedDict, Annotated, List, Dict, Any, Literal, Optional, Union\n",
    "\n",
    "# Tải các biến môi trường\n",
    "from dotenv import load_dotenv \n",
    "load_dotenv()\n",
    "\n",
    "# LangChain & LangGraph\n",
    "from langchain_core.messages import BaseMessage, HumanMessage   \n",
    "from pydantic.v1 import BaseModel, Field, schema_json_of\n",
    "\n",
    "from langchain_google_genai import ChatGoogleGenerativeAI\n",
    "from langgraph.graph import StateGraph, END\n",
    "from langgraph.graph.message import add_messages\n",
    "\n",
    "# --- NÂNG CẤP: Thêm công cụ tìm kiếm ---\n",
    "from langchain_community.tools.tavily_search import TavilySearchResults\n",
    "\n",
    "# Thư viện hỗ trợ & Kho tri thức\n",
    "from langchain_community.vectorstores import FAISS\n",
    "from langchain_huggingface import HuggingFaceEmbeddings\n",
    "from rich.console import Console\n",
    "from rich.markdown import Markdown\n",
    "from rich.pretty import pprint\n",
    "from IPython.display import Image, display"
   ]
  },
  {
   "cell_type": "code",
   "execution_count": 21,
   "id": "eb563d80",
   "metadata": {},
   "outputs": [],
   "source": [
    "# ==============================================================================\n",
    "# CELL 1.2: CẤU HÌNH LOG & CÁC HÀM IN ẤN\n",
    "# ==============================================================================\n",
    "from langchain_groq import ChatGroq\n",
    "# --- CẤU HÌNH LOG ---\n",
    "VERBOSE_MODE = True\n",
    "\n",
    "# --- KHỞI TẠO CÁC CÔNG CỤ IN ẤN ---\n",
    "console = Console()\n",
    "\n",
    "def print_step(message: str):\n",
    "    if VERBOSE_MODE:\n",
    "        console.print(f\"\\n[bold cyan]>[/bold cyan] {message}\")\n",
    "\n",
    "def print_result(data: Any, title: str = \"Kết quả\"):\n",
    "    if VERBOSE_MODE:\n",
    "        console.print(f\"[bold green]✔️ {title}:[/bold green]\")\n",
    "        pprint(data, expand_all=True)\n",
    "        \n",
    "def print_warning(message: str):\n",
    "    if VERBOSE_MODE:\n",
    "        console.print(f\"[bold yellow]⚠️  {message}[/bold yellow]\")"
   ]
  },
  {
   "cell_type": "code",
   "execution_count": 22,
   "id": "eb8e3f51",
   "metadata": {},
   "outputs": [
    {
     "name": "stdout",
     "output_type": "stream",
     "text": [
      "✅ LLM (Gemini 2.5 Flash từ Google AI Studio) đã được khởi tạo thành công.\n"
     ]
    }
   ],
   "source": [
    "# ==============================================================================\n",
    "# CELL 1.3: KHỞI TẠO LLM (NÂNG CẤP SANG GOOGLE AI STUDIO)\n",
    "# ==============================================================================\n",
    "try:\n",
    "    llm = ChatGoogleGenerativeAI(\n",
    "        model=\"gemini-2.5-flash\", # Sử dụng model mới nhất và mạnh nhất\n",
    "        temperature=0.1,\n",
    "        google_api_key=os.getenv(\"GOOGLE_API_KEY\")\n",
    "    )\n",
    "    print(\"✅ LLM (Gemini 2.5 Flash từ Google AI Studio) đã được khởi tạo thành công.\")\n",
    "except Exception as e:\n",
    "    print(f\"❌ LỖI: Không thể khởi tạo LLM. Hãy chắc chắn bạn đã cài 'langchain-google-genai' và có GOOGLE_API_KEY trong file .env. Lỗi: {e}\")\n",
    "    llm = None"
   ]
  },
  {
   "cell_type": "code",
   "execution_count": 23,
   "id": "9d8894ca",
   "metadata": {},
   "outputs": [
    {
     "data": {
      "text/html": [
       "<pre style=\"white-space:pre;overflow-x:auto;line-height:normal;font-family:Menlo,'DejaVu Sans Mono',consolas,'Courier New',monospace\">\n",
       "<span style=\"color: #008080; text-decoration-color: #008080; font-weight: bold\">&gt;</span> Đang tải và hợp nhất các kho tri thức từ <span style=\"color: #008080; text-decoration-color: #008080; font-weight: bold\">3</span> thư mục<span style=\"color: #808000; text-decoration-color: #808000\">...</span>\n",
       "</pre>\n"
      ],
      "text/plain": [
       "\n",
       "\u001b[1;36m>\u001b[0m Đang tải và hợp nhất các kho tri thức từ \u001b[1;36m3\u001b[0m thư mục\u001b[33m...\u001b[0m\n"
      ]
     },
     "metadata": {},
     "output_type": "display_data"
    },
    {
     "name": "stdout",
     "output_type": "stream",
     "text": [
      "✅ Đã tải thành công kho tri thức cơ sở: 'sgk_toan_12_1'\n",
      "✅ Đã hợp nhất thành công: 'sgk_toan_12_2'\n",
      "✅ Đã hợp nhất thành công: 'sgk_toan_9_1'\n",
      "\n",
      "[bold green]✔️ Tất cả các kho tri thức RAG đã được tải và hợp nhất thành công.[/bold green]\n"
     ]
    }
   ],
   "source": [
    "# ==============================================================================\n",
    "# CELL 1.4: TẢI KHO TRI THỨC (RAG)\n",
    "# ==============================================================================\n",
    "# --- TẢI KHO TRI THỨC ---\n",
    "BASE_VECTOR_STORE_PATH = \"vector_store\"\n",
    "vector_store = None\n",
    "embeddings = HuggingFaceEmbeddings(model_name=\"all-MiniLM-L6-v2\")\n",
    "\n",
    "if os.path.exists(BASE_VECTOR_STORE_PATH):\n",
    "    subdirectories = [f.path for f in os.scandir(BASE_VECTOR_STORE_PATH) if f.is_dir()]\n",
    "    if not subdirectories:\n",
    "        print(f\"❌ LỖI: Không tìm thấy thư mục con nào trong '{BASE_VECTOR_STORE_PATH}'.\")\n",
    "    else:\n",
    "        try:\n",
    "            print_step(f\"Đang tải và hợp nhất các kho tri thức từ {len(subdirectories)} thư mục...\")\n",
    "            # Tải kho tri thức đầu tiên để làm cơ sở\n",
    "            first_store_path = subdirectories.pop(0)\n",
    "            vector_store = FAISS.load_local(first_store_path, embeddings, allow_dangerous_deserialization=True)\n",
    "            print(f\"✅ Đã tải thành công kho tri thức cơ sở: '{os.path.basename(first_store_path)}'\")\n",
    "\n",
    "            # Hợp nhất các kho tri thức còn lại\n",
    "            for store_path in subdirectories:\n",
    "                if os.path.exists(os.path.join(store_path, \"index.faiss\")):\n",
    "                    temp_store = FAISS.load_local(store_path, embeddings, allow_dangerous_deserialization=True)\n",
    "                    vector_store.merge_from(temp_store)\n",
    "                    print(f\"✅ Đã hợp nhất thành công: '{os.path.basename(store_path)}'\")\n",
    "                else:\n",
    "                    print_warning(f\"Bỏ qua thư mục '{os.path.basename(store_path)}' vì không chứa file index.faiss.\")\n",
    "            \n",
    "            print(\"\\n[bold green]✔️ Tất cả các kho tri thức RAG đã được tải và hợp nhất thành công.[/bold green]\")\n",
    "\n",
    "        except Exception as e:\n",
    "            print(f\"❌ LỖI trong quá trình tải hoặc hợp nhất kho tri thức: {e}\")\n",
    "else:\n",
    "    print(f\"❌ LỖI: Không tìm thấy thư mục gốc của kho tri thức tại '{BASE_VECTOR_STORE_PATH}'.\")\n"
   ]
  },
  {
   "cell_type": "code",
   "execution_count": 24,
   "id": "73b17652",
   "metadata": {},
   "outputs": [
    {
     "data": {
      "text/html": [
       "<pre style=\"white-space:pre;overflow-x:auto;line-height:normal;font-family:Menlo,'DejaVu Sans Mono',consolas,'Courier New',monospace\">\n",
       "<span style=\"color: #008080; text-decoration-color: #008080; font-weight: bold\">&gt;</span> ✅ Đã xây dựng Vector Store cho Trí nhớ Dài hạn.\n",
       "</pre>\n"
      ],
      "text/plain": [
       "\n",
       "\u001b[1;36m>\u001b[0m ✅ Đã xây dựng Vector Store cho Trí nhớ Dài hạn.\n"
      ]
     },
     "metadata": {},
     "output_type": "display_data"
    }
   ],
   "source": [
    "# ==============================================================================\n",
    "# CELL 1.5: KHỞI TẠO VÀ QUẢN LÝ TRÍ NHỚ DÀI HẠN (NÂNG CẤP V9.4)\n",
    "# ==============================================================================\n",
    "MEMORY_FILE_PATH = \"long_term_memory.json\"\n",
    "memory_vector_store = None\n",
    "\n",
    "# Hàm để tải trí nhớ từ file JSON\n",
    "def load_memory():\n",
    "    if not os.path.exists(MEMORY_FILE_PATH):\n",
    "        return []\n",
    "    with open(MEMORY_FILE_PATH, 'r', encoding='utf-8') as f:\n",
    "        return json.load(f)\n",
    "\n",
    "# Hàm để lưu một giáo án mới vào trí nhớ\n",
    "def save_to_memory(request: str, structured_plan: Dict[str, Any]):\n",
    "    memory = load_memory()\n",
    "    memory.append({\n",
    "        \"request\": request,\n",
    "        \"plan\": structured_plan\n",
    "    })\n",
    "    with open(MEMORY_FILE_PATH, 'w', encoding='utf-8') as f:\n",
    "        json.dump(memory, f, ensure_ascii=False, indent=2)\n",
    "    print_step(\"🧠 Đã lưu giáo án thành công vào Trí nhớ Dài hạn.\")\n",
    "\n",
    "# Hàm để tạo một vector store từ trí nhớ (để tìm kiếm tương đồng)\n",
    "def build_memory_vector_store():\n",
    "    global memory_vector_store\n",
    "    memory_content = load_memory()\n",
    "    if not memory_content:\n",
    "        print_warning(\"Trí nhớ trống, không có gì để xây dựng vector store.\")\n",
    "        return\n",
    "\n",
    "    # Chỉ lấy phần 'request' để tìm kiếm\n",
    "    texts = [item['request'] for item in memory_content]\n",
    "    # Lưu toàn bộ item làm metadata\n",
    "    metadatas = memory_content\n",
    "    \n",
    "    memory_vector_store = FAISS.from_texts(texts, embeddings, metadatas=metadatas)\n",
    "    print_step(\"✅ Đã xây dựng Vector Store cho Trí nhớ Dài hạn.\")\n",
    "\n",
    "# Tự động xây dựng vector store khi khởi động notebook\n",
    "build_memory_vector_store()"
   ]
  },
  {
   "cell_type": "markdown",
   "id": "5411a6b6",
   "metadata": {},
   "source": [
    "## PHẦN 2: ĐỊNH NGHĨA STATE CỦA HỆ THỐNG"
   ]
  },
  {
   "cell_type": "code",
   "execution_count": 25,
   "id": "38cfae91",
   "metadata": {},
   "outputs": [
    {
     "name": "stdout",
     "output_type": "stream",
     "text": [
      "✅ 'TeacherStateV5' (v9.0 - Hỗ trợ Phân hóa & Cấu trúc) đã được định nghĩa.\n"
     ]
    }
   ],
   "source": [
    "# ==============================================================================\n",
    "# CELL 2.1: ĐỊNH NGHĨA STATE NÂNG CAO (v9.0)\n",
    "# ==============================================================================\n",
    "from typing import TypedDict, Annotated, List, Dict, Any, Literal, Optional, Union\n",
    "from langchain_core.messages import BaseMessage\n",
    "from langgraph.graph.message import add_messages\n",
    "import operator\n",
    "\n",
    "# --- Hàm tiện ích (giữ nguyên) ---\n",
    "def merge_dicts(dict1: Dict[str, Any], dict2: Dict[str, Any]) -> Dict[str, Any]:\n",
    "    merged = dict1.copy()\n",
    "    for key, value in dict2.items():\n",
    "        if key in merged and isinstance(merged[key], dict) and isinstance(value, dict):\n",
    "            merged[key] = merge_dicts(merged[key], value)\n",
    "        else:\n",
    "            merged[key] = value\n",
    "    return merged\n",
    "\n",
    "# --- Cấu trúc dữ liệu con (giữ nguyên) ---\n",
    "class DetailedTask(TypedDict):\n",
    "    task_id: int\n",
    "    task_name: str\n",
    "    task_description: str\n",
    "    estimated_duration: int \n",
    "    guidance: str\n",
    "    status: Literal[\"pending\", \"completed\"]\n",
    "\n",
    "# === NÂNG CẤP V9.0: CÁC CẤU TRÚC DỮ LIỆU MỚI CHO TƯ DUY SÂU ===\n",
    "class DifferentiatedInstruction(TypedDict):\n",
    "    \"\"\"Gợi ý cho việc dạy học phân hóa trong một hoạt động.\"\"\"\n",
    "    for_struggling_students: str\n",
    "    for_advanced_students: str\n",
    "\n",
    "class StructuredContentItem(TypedDict):\n",
    "    \"\"\"Định nghĩa một hoạt động hoặc đánh giá có cấu trúc.\"\"\"\n",
    "    task_id: int\n",
    "    activity_name: str\n",
    "    question_or_description: str # Gộp 'question' và 'description'\n",
    "    duration_minutes: int\n",
    "    content_type: str # Gộp 'activity_type' và 'question_type'\n",
    "    teacher_actions: List[str]\n",
    "    solution_guide: Any\n",
    "    answer: Optional[str] # Dành cho câu hỏi đánh giá\n",
    "    differentiation: Optional[DifferentiatedInstruction]\n",
    "\n",
    "class FinalStructuredPlan(TypedDict):\n",
    "    \"\"\"Định nghĩa cấu trúc JSON cho giáo án cuối cùng.\"\"\"\n",
    "    general_info: Dict[str, Any]\n",
    "    learning_objectives: List[str]\n",
    "    preparation: Dict[str, List[str]]\n",
    "    knowledge_summary: str\n",
    "    lesson_flow: List[StructuredContentItem]\n",
    "    # pedagogical_explainer: Dict[str, Any] # Dành cho nâng cấp tương lai\n",
    "\n",
    "\n",
    "class TeacherStateV5(TypedDict):\n",
    "    # Các trường cơ bản\n",
    "    original_request: str\n",
    "    messages: Annotated[List[BaseMessage], add_messages]\n",
    "    domain: Optional[str]\n",
    "    \n",
    "    # student_persona giờ sẽ chứa cả chiến lược phân hóa ===\n",
    "    student_persona: Optional[Dict[str, Any]] \n",
    "    \n",
    "    # Các bước tuần tự ban đầu\n",
    "    analyzed_objective: Optional[Any]\n",
    "    pedagogy_strategy: Optional[Any]\n",
    "    pedagogical_blueprint: Optional[List[str]]\n",
    "\n",
    "    # Các trường nâng cao\n",
    "    expanded_queries: Optional[List[str]]\n",
    "    task_list: Optional[List[DetailedTask]]\n",
    "    current_task_id: Optional[int]\n",
    "    current_task_retry_count: int \n",
    "    reflection_notes: Optional[str]\n",
    "    agent_outputs: Annotated[Dict[str, Any], merge_dicts] \n",
    "    next_agent: str\n",
    "    \n",
    "    # Các trường tạm thời cho vòng lặp kiểm duyệt vi mô (Micro-loop)\n",
    "    current_content_to_validate: Optional[Dict[str, Any]]\n",
    "    validation_feedback: Optional[str]\n",
    "\n",
    "    inspirational_example: Optional[List[Dict[str, Any]]]\n",
    "\n",
    "    # Output cuối cùng sẽ có 2 dạng \n",
    "    final_structured_plan: Optional[FinalStructuredPlan] # Dạng JSON có cấu trúc\n",
    "    final_markdown_plan: Optional[str] # Dạng Markdown để hiển thị\n",
    "\n",
    "\n",
    "print(\"✅ 'TeacherStateV5' (v9.0 - Hỗ trợ Phân hóa & Cấu trúc) đã được định nghĩa.\")"
   ]
  },
  {
   "cell_type": "code",
   "execution_count": 26,
   "id": "deb1ba5e",
   "metadata": {},
   "outputs": [
    {
     "name": "stdout",
     "output_type": "stream",
     "text": [
      "✅ Node khởi tạo 'initialize_state_node' đã được định nghĩa.\n"
     ]
    }
   ],
   "source": [
    "# ==============================================================================\n",
    "# CELL 2.2: NODE KHỞI TẠO STATE\n",
    "# ==============================================================================\n",
    "def initialize_state_node(state: TeacherStateV5) -> Dict[str, Any]:\n",
    "    \"\"\"\n",
    "    Node đầu tiên trong graph.\n",
    "    Lấy yêu cầu gốc từ tin nhắn đầu vào và điền vào trường 'original_request'.\n",
    "    \"\"\"\n",
    "    print_step(\"`Initializer`: Đang khởi tạo trạng thái và lấy yêu cầu gốc...\")\n",
    "    user_request = state['messages'][-1].content\n",
    "    return {\"original_request\": user_request}\n",
    "\n",
    "print(\"✅ Node khởi tạo 'initialize_state_node' đã được định nghĩa.\")"
   ]
  },
  {
   "cell_type": "markdown",
   "id": "924d794f",
   "metadata": {},
   "source": [
    "## PHẦN 3: ĐỊNH NGHĨA CÁC AGENT"
   ]
  },
  {
   "cell_type": "code",
   "execution_count": 27,
   "id": "8cc95063",
   "metadata": {},
   "outputs": [
    {
     "name": "stdout",
     "output_type": "stream",
     "text": [
      "✅ Các cấu trúc dữ liệu Pydantic (v9.7 - Hoạt động Linh hoạt) đã được định nghĩa.\n"
     ]
    }
   ],
   "source": [
    "# ==============================================================================\n",
    "# CELL 3.1: HÀM TIỆN ÍCH & CẤU TRÚC DỮ LIỆU (v9.7 - TƯ DUY LINH HOẠT)\n",
    "# ==============================================================================\n",
    "import json\n",
    "from pydantic.v1 import BaseModel, Field, schema_json_of\n",
    "from typing import List, Dict, Any, Literal, Optional\n",
    "\n",
    "# --- Các hàm tiện ích giữ nguyên ---\n",
    "def format_solution_guide(guide: Any) -> str:\n",
    "    if not guide: return \"Chưa có hướng dẫn.\"\n",
    "    if isinstance(guide, str): return guide\n",
    "    if isinstance(guide, list): return \"\\n\".join(f\"- {step}\" for step in guide)\n",
    "    if isinstance(guide, dict): return \"\\n\".join(f\"- {key.replace('_', ' ').title()}: {value}\" for key, value in guide.items())\n",
    "    return str(guide)\n",
    "\n",
    "def format_teacher_actions(actions: Optional[List[str]]) -> str:\n",
    "    if not actions: return \"Giáo viên quan sát và hỗ trợ chung.\"\n",
    "    return \"\\n\".join(f\"  - {action}\" for action in actions)\n",
    "\n",
    "def update_agent_outputs(state: \"TeacherStateV5\", key: str, value: Any) -> Dict[str, Any]:\n",
    "    outputs = state.get(\"agent_outputs\", {}).copy()\n",
    "    if key not in outputs: outputs[key] = []\n",
    "    outputs[key].append(value)\n",
    "    return {\"agent_outputs\": outputs}\n",
    "\n",
    "SYSTEM_PERSONA_PROMPT = \"BẠN LÀ MỘT TRỢ LÝ AI CHUYÊN NGHIỆP, ĐÓNG VAI TRÒ MỘT GIÁO VIÊN GIÀU KINH NGHIỆM TẠI VIỆT NAM. LUÔN LUÔN trả lời bằng TIẾNG VIỆT.\"\n",
    "\n",
    "# === CẬP NHẬT CẤU TRÚC HOẠT ĐỘNG LINH HOẠT ===\n",
    "class DifferentiatedInstructionModel(BaseModel):\n",
    "    for_struggling_students: str = Field(description=\"Gợi ý cụ thể cho nhóm học sinh yếu/gặp khó khăn.\")\n",
    "    for_advanced_students: str = Field(description=\"Gợi ý, thử thách hoặc hoạt động nâng cao cho nhóm học sinh giỏi.\")\n",
    "\n",
    "class LearningActivity(BaseModel):\n",
    "    activity_name: str = Field(description=\"Tên của hoạt động học tập.\")\n",
    "    activity_type: str = Field(description=\"Phân loại hoạt động. Ví dụ: 'Thảo luận nhóm', 'Thực hành cá nhân'\")\n",
    "    duration_minutes: int = Field(description=\"Tổng thời gian ước tính (bằng SỐ PHÚT) cho cả hai phần.\")\n",
    "    teacher_actions: List[str] = Field(description=\"Danh sách các hành động CỤ THỂ của GIÁO VIÊN.\")\n",
    "    # Thay 'description' bằng cấu trúc Lõi/Mở rộng\n",
    "    core_component: str = Field(description=\"Mô tả phần hoạt động CỐT LÕI mà TẤT CẢ học sinh cần hoàn thành.\")\n",
    "    extension_component: Optional[str] = Field(description=\"Mô tả phần hoạt động MỞ RỘNG dành cho học sinh làm nhanh hoặc nếu còn dư thời gian.\")\n",
    "    solution_guide: Optional[Any] = Field(description=\"Hướng dẫn giải hoặc các câu hỏi gợi mở.\")\n",
    "    differentiation: Optional[DifferentiatedInstructionModel] = Field(description=\"Gợi ý phân hóa cụ thể cho hoạt động này.\")\n",
    "\n",
    "class AssessmentItem(BaseModel):\n",
    "    activity_name: str = Field(description=\"Tên của hoạt động đánh giá.\")\n",
    "    question_type: str = Field(description=\"Loại câu hỏi. Ví dụ: 'Tự luận', 'Trắc nghiệm'\")\n",
    "    duration_minutes: int = Field(description=\"Tổng thời gian ước tính (bằng SỐ PHÚT) cho cả hai phần.\")\n",
    "    teacher_actions: List[str] = Field(description=\"Danh sách các hành động CỤ THỂ của GIÁO VIÊN.\")\n",
    "    # Thay 'question' bằng cấu trúc Lõi/Mở rộng\n",
    "    core_component: str = Field(description=\"Nội dung câu hỏi hoặc đề bài CỐT LÕI mà TẤT CẢ học sinh cần hoàn thành.\")\n",
    "    extension_component: Optional[str] = Field(description=\"Câu hỏi phụ hoặc thử thách MỞ RỘNG dành cho học sinh làm nhanh hoặc nếu còn dư thời gian.\")\n",
    "    answer: str = Field(description=\"Đáp án chính xác và ngắn gọn cho phần CỐT LÕI.\")\n",
    "    solution_guide: Any = Field(description=\"Hướng dẫn giải chi tiết từng bước.\")\n",
    "    differentiation: Optional[DifferentiatedInstructionModel] = Field(description=\"Gợi ý phân hóa cụ thể cho hoạt động này.\")\n",
    "\n",
    "class StudentPersona(BaseModel):\n",
    "    learning_pace: Literal[\"nhanh\", \"trung bình\", \"chậm\"] = Field(description=\"Tốc độ học tập chung của lớp.\")\n",
    "    engagement_style: Literal[\"chủ động\", \"thụ động\", \"hỗn hợp\"] = Field(description=\"Mức độ tham gia chung của lớp.\")\n",
    "    special_notes: str = Field(description=\"Tóm tắt các đặc điểm nổi bật của lớp học.\")\n",
    "\n",
    "class StudentPersonaAndDifferentiation(StudentPersona):\n",
    "    differentiation_strategy: DifferentiatedInstructionModel = Field(description=\"Chiến lược dạy học phân hóa tổng thể cho cả bài học dựa trên các đặc điểm của lớp.\")\n",
    "\n",
    "class DetailedTaskModel(BaseModel):\n",
    "    task_name: str = Field(description=\"Tên của nhiệm vụ này.\")\n",
    "    task_description: str = Field(description=\"Mô tả chi tiết nhiệm vụ cần thực hiện.\")\n",
    "    estimated_duration: int = Field(description=\"Thời gian ước tính (bằng phút) cho nhiệm vụ này.\")\n",
    "\n",
    "class TaskListWithDuration(BaseModel):\n",
    "    tasks: List[DetailedTaskModel]\n",
    "\n",
    "class DetailedPedagogyChoice(BaseModel):\n",
    "    name: str = Field(description=\"Tên của phương pháp sư phạm được chọn.\")\n",
    "    rationale: str = Field(description=\"Lý do tại sao phương pháp này phù hợp.\")\n",
    "    key_actions: List[str] = Field(description=\"Danh sách các hành động/hoạt động cốt lõi đặc trưng cho phương pháp này.\")\n",
    "\n",
    "class ValidationResult(BaseModel):\n",
    "    is_valid: bool = Field(description=\"Nội dung có hợp lệ và chính xác về mặt chuyên môn không.\")\n",
    "    feedback: str = Field(description=\"Phản hồi chi tiết. Nếu không hợp lệ, hãy giải thích rõ ràng lỗi sai và gợi ý cách sửa.\")\n",
    "\n",
    "class Domain(BaseModel): domain: str = Field(description=\"Lĩnh vực học thuật chính của yêu cầu.\")\n",
    "class ExpandedQueries(BaseModel): queries: List[str]\n",
    "class BestSnippets(BaseModel): best_snippets: List[str]\n",
    "class ParsedObjective(BaseModel): action_verb: str; bloom_level: int; topic: str; grade_level: str; duration_minutes: Optional[int]\n",
    "class TaskClassification(BaseModel): agent_category: Literal[\"activity_designer\", \"theory_synthesizer\", \"assessment_creator\"]\n",
    "class BlueprintStage(BaseModel): stage_name: str; stage_objective: str; stage_direction: str\n",
    "class PedagogicalBlueprint(BaseModel): blueprint: List[BlueprintStage]\n",
    "\n",
    "print(\"✅ Các cấu trúc dữ liệu Pydantic (v9.7 - Hoạt động Linh hoạt) đã được định nghĩa.\")"
   ]
  },
  {
   "cell_type": "code",
   "execution_count": 28,
   "id": "be758847",
   "metadata": {},
   "outputs": [
    {
     "name": "stdout",
     "output_type": "stream",
     "text": [
      "✅ Các agent phân tích yêu cầu ban đầu (v9.0 - Hỗ trợ Phân hóa) đã sẵn sàng.\n"
     ]
    }
   ],
   "source": [
    "# ==============================================================================\n",
    "# CELL 3.2: AGENT PHÂN TÍCH YÊU CẦU BAN ĐẦU \n",
    "# ==============================================================================\n",
    "async def objective_interpreter_agent(state: \"TeacherStateV5\") -> Dict[str, Any]:\n",
    "    print_step(\"`Agent: Objective Interpreter` (v7.5) đang phân tích mục tiêu...\")\n",
    "    prompt = f\"{SYSTEM_PERSONA_PROMPT}\\n**NHIỆM VỤ:** Đọc yêu cầu của người dùng và trích xuất các thông tin sau.\\n**YÊU CẦU:** \\\"{state['original_request']}\\\"\\n**CÁC TRƯỜNG CẦN TRÍCH XUẤT:** `action_verb`, `bloom_level` (SỐ NGUYÊN), `topic`, `grade_level`, `duration_minutes`.\\n**CHỈ TRẢ VỀ JSON.**\"\n",
    "    structured_llm = llm.with_structured_output(ParsedObjective, method=\"json_mode\")\n",
    "    try:\n",
    "        parsed_result = await structured_llm.ainvoke(prompt)\n",
    "        analyzed_objective_dict = parsed_result.dict()\n",
    "        analyzed_objective_dict['constraints'] = {'duration_minutes': parsed_result.duration_minutes}\n",
    "        del analyzed_objective_dict['duration_minutes']\n",
    "        print_result(analyzed_objective_dict, \"Mục tiêu & Ràng buộc đã phân tích\")\n",
    "        return {\"analyzed_objective\": analyzed_objective_dict}\n",
    "    except Exception as e:\n",
    "        print_warning(f\"Lỗi tại Objective Interpreter: {e}. Sử dụng mục tiêu mặc định.\")\n",
    "        return {\"analyzed_objective\": { \"action_verb\": \"soạn\", \"bloom_level\": 3, \"topic\": state['original_request'], \"grade_level\": \"9\", \"constraints\": {\"duration_minutes\": 90} }}\n",
    "\n",
    "async def domain_classifier_agent(state: \"TeacherStateV5\") -> Dict[str, Any]:\n",
    "    print_step(\"`Agent: Domain Classifier` (v7.5) đang xác định lĩnh vực chuyên môn...\")\n",
    "    prompt = f\"{SYSTEM_PERSONA_PROMPT}\\n**NHIỆM VỤ:** Đọc yêu cầu của người dùng và xác định lĩnh vực học thuật chính.\\n**YÊU CẦU:** \\\"{state['original_request']}\\\"\\n**LĨNH VỰC CÓ THỂ CHỌN:** 'Toán học', 'Vật lý', 'Hóa học', 'Sinh học', 'Văn học', 'Lịch sử', 'Địa lý', 'Ngoại ngữ', 'Tin học'.\\n**YÊU CẦU ĐỊNH DẠNG:** Trả về JSON với key `domain`.\"\n",
    "    structured_llm = llm.with_structured_output(Domain, method=\"json_mode\")\n",
    "    try:\n",
    "        result = await structured_llm.ainvoke(prompt)\n",
    "        print_result(result.domain, \"Lĩnh vực chuyên môn được xác định\")\n",
    "        return {\"domain\": result.domain}\n",
    "    except Exception as e:\n",
    "        print_warning(f\"Lỗi tại Domain Classifier: {e}. Sử dụng lĩnh vực mặc định 'Toán học'.\")\n",
    "        return {\"domain\": \"Toán học\"}\n",
    "\n",
    "# === NÂNG CẤP: Agent này giờ đây là một nhà tư vấn chiến lược ===\n",
    "async def differentiated_instruction_advisor_agent(state: \"TeacherStateV5\") -> Dict[str, Any]:\n",
    "    print_step(\"`Agent: Differentiated Instruction Advisor` (v9.1) đang phân tích và đề xuất chiến lược phân hóa...\")\n",
    "    prompt = f\"\"\"{SYSTEM_PERSONA_PROMPT}\n",
    "    **VAI TRÒ:** Bạn là một chuyên gia sư phạm, chuyên về dạy học phân hóa.\n",
    "    **NHIỆM VỤ:** Phân tích mô tả về lớp học dưới đây và đề xuất một chiến lược dạy học phân hóa TỔNG THỂ cho cả buổi học.\n",
    "    **YÊU CẦU CỦA GIÁO VIÊN:** \"{state['original_request']}\"\n",
    "    \n",
    "    **CÁC BƯỚC SUY LUẬN (BẮT BUỘC):**\n",
    "    1.  **Phân tích Đặc điểm:** Dựa vào các từ khóa, hãy xác định `learning_pace`, `engagement_style`, và tóm tắt vào `special_notes`.\n",
    "    2.  **Đề xuất Chiến lược Phân hóa:** Dựa trên phân tích trên, hãy điền vào đối tượng `differentiation_strategy`. Đây PHẢI là một đối tượng JSON có 2 trường sau:\n",
    "        -   `for_struggling_students`: Một chiến lược cụ thể để **hỗ trợ** nhóm học sinh có thể gặp khó khăn. (Ví dụ: \"Chia nhỏ nhiệm vụ, cung cấp phiếu bài tập có gợi ý công thức, cho phép thêm thời gian.\")\n",
    "        -   `for_advanced_students`: Một chiến lược cụ thể để **thử thách** nhóm học sinh khá giỏi. (Ví dụ: \"Chuẩn bị các câu hỏi mở rộng 'Tại sao?' và 'Nếu... thì sao?', giao một bài toán ứng dụng thực tế nhỏ.\")\n",
    "\n",
    "    **YÊU CẦU ĐỊNH DẠNG:** BẮT BUỘC trả về một đối tượng JSON duy nhất tuân thủ schema `StudentPersonaAndDifferentiation`. Trường `differentiation_strategy` PHẢI là một object lồng vào bên trong.\n",
    "    \"\"\"\n",
    "    structured_llm = llm.with_structured_output(StudentPersonaAndDifferentiation, method=\"json_mode\")\n",
    "    try:\n",
    "        result = await structured_llm.ainvoke(prompt)\n",
    "        print_result(result.dict(), \"Hồ sơ lớp học và Chiến lược Phân hóa\")\n",
    "        return {\"student_persona\": result.dict()}\n",
    "    except Exception as e:\n",
    "        print_warning(f\"Lỗi tại Differentiated Instruction Advisor: {e}. Sử dụng hồ sơ mặc định.\")\n",
    "        fallback_persona = {\n",
    "            \"learning_pace\": \"trung bình\",\n",
    "            \"engagement_style\": \"hỗn hợp\",\n",
    "            \"special_notes\": \"Không có ghi chú đặc biệt.\",\n",
    "            \"differentiation_strategy\": {\n",
    "                \"for_struggling_students\": \"Quan sát và hỗ trợ thêm khi cần thiết.\",\n",
    "                \"for_advanced_students\": \"Khuyến khích các em tìm tòi thêm.\"\n",
    "            }\n",
    "        }\n",
    "        return {\"student_persona\": fallback_persona}\n",
    "\n",
    "print(\"✅ Các agent phân tích yêu cầu ban đầu (v9.0 - Hỗ trợ Phân hóa) đã sẵn sàng.\")"
   ]
  },
  {
   "cell_type": "code",
   "execution_count": 29,
   "id": "68b5bcd8",
   "metadata": {},
   "outputs": [
    {
     "name": "stdout",
     "output_type": "stream",
     "text": [
      "✅ Các agent lập kế hoạch chiến lược đã sẵn sàng.\n"
     ]
    }
   ],
   "source": [
    "# ==============================================================================\n",
    "# CELL 3.3: AGENT LẬP KẾ HOẠCH CHIẾN LƯỢC (v7.5)\n",
    "# ==============================================================================\n",
    "async def pedagogy_strategist_agent(state: \"TeacherStateV5\") -> Dict[str, Any]:\n",
    "    print_step(\"`Agent: Pedagogy Strategist` (v7.5) đang xây dựng chiến lược sư phạm chi tiết...\")\n",
    "    prompt = f\"\"\"{SYSTEM_PERSONA_PROMPT}\n",
    "    **MỤC TIÊU BÀI HỌC:** {state.get('analyzed_objective')}\n",
    "    **HỒ SƠ LỚP HỌC:** {state.get('student_persona')}\n",
    "    **NHIỆM VỤ:** Dựa vào mục tiêu và hồ sơ lớp học, hãy chọn MỘT phương pháp sư phạm phù hợp nhất. Sau đó, phân tích phương pháp đó thành các hành động cốt lõi.\n",
    "    **VÍ DỤ:** Nếu chọn 'Dạy học theo dự án', key_actions có thể là [\"Giao dự án\", \"Học sinh làm việc nhóm\", \"Báo cáo sản phẩm\"].\n",
    "    **YÊU CẦU ĐỊNH DẠNG:** Trả về JSON với các key `name`, `rationale`, `key_actions`.\n",
    "    \"\"\"\n",
    "    structured_llm = llm.with_structured_output(DetailedPedagogyChoice, method=\"json_mode\")\n",
    "    try:\n",
    "        result = await structured_llm.ainvoke(prompt)\n",
    "        print_result(result.dict(), \"Chiến lược sư phạm chi tiết\")\n",
    "        return {\"pedagogy_strategy\": result.dict()}\n",
    "    except Exception as e:\n",
    "        print_warning(f\"Lỗi tại Pedagogy Strategist: {e}. Sử dụng chiến lược mặc định.\")\n",
    "        return {\"pedagogy_strategy\": {\"name\": \"Dạy học giải quyết vấn đề\", \"rationale\": \"Mặc định do lỗi.\", \"key_actions\": [\"Nêu vấn đề\", \"Học sinh tìm giải pháp\", \"Trình bày kết quả\"]}}\n",
    "\n",
    "async def pedagogical_architect_agent(state: \"TeacherStateV5\") -> Dict[str, Any]:\n",
    "    print_step(\"`Agent: Pedagogical Architect` (v9.4) đang thiết kế kịch bản buổi học...\")\n",
    "    \n",
    "    inspirational_example = state.get(\"inspirational_example\")\n",
    "    example_prompt_part = \"\"\n",
    "    if inspirational_example:\n",
    "        example_prompt_part = f\"\"\"\n",
    "        **VÍ DỤ THAM KHẢO (TỪ MỘT GIÁO ÁN THÀNH CÔNG TRƯỚC ĐÂY):**\n",
    "        Đây là một luồng hoạt động đã được chứng minh là hiệu quả cho một chủ đề tương tự. Hãy học hỏi cấu trúc và cách tiếp cận từ nó:\n",
    "        ```json\n",
    "        {json.dumps(inspirational_example, ensure_ascii=False, indent=2)}\n",
    "        ```\n",
    "        \"\"\"\n",
    "    \n",
    "    prompt = f\"\"\"{SYSTEM_PERSONA_PROMPT} Với vai trò là một chuyên gia thiết kế trải nghiệm học tập.\n",
    "    **NHIỆM VỤ:** Xây dựng một \"Bản thiết kế Sư phạm\" - một kịch bản CẤP CAO cho buổi học.\n",
    "    \n",
    "    {example_prompt_part}\n",
    "    **QUY TẮC:**\n",
    "    1.  Tạo ra 3-5 giai đoạn chính cho dòng chảy của buổi học.\n",
    "    2.  Mỗi giai đoạn phải có tên (`stage_name`), mục tiêu (`stage_objective`), và định hướng (`stage_direction`).\n",
    "    3.  Đảm bảo độ khó tăng tiến qua các giai đoạn.\n",
    "    **THÔNG TIN PHÂN TÍCH:**\n",
    "    - Mục tiêu: {state.get('analyzed_objective')}\n",
    "    - Hồ sơ lớp học: {state.get('student_persona')}\n",
    "    - Chiến lược Sư phạm: {state.get('pedagogy_strategy')}\n",
    "    **YÊU CẦU ĐỊNH DẠNG:** Trả về JSON với key là `blueprint`, giá trị là một danh sách các đối tượng Stage.\n",
    "    \"\"\"\n",
    "    structured_llm = llm.with_structured_output(PedagogicalBlueprint, method=\"json_mode\")\n",
    "    try:\n",
    "        result = await structured_llm.ainvoke(prompt)\n",
    "        blueprint_list_of_strings = [f\"{stage.stage_name}: {stage.stage_direction}\" for stage in result.blueprint]\n",
    "        print_result(blueprint_list_of_strings, \"Bản thiết kế Sư phạm đã được tạo\")\n",
    "        return {\"pedagogical_blueprint\": blueprint_list_of_strings}\n",
    "    except Exception as e:\n",
    "        print_warning(f\"Lỗi tại Pedagogical Architect: {e}. Sử dụng blueprint mặc định.\")\n",
    "        return {\"pedagogical_blueprint\": [\"Giai đoạn 1: Giới thiệu bài học\", \"Giai đoạn 2: Luyện tập\", \"Giai đoạn 3: Đánh giá\"]}\n",
    "\n",
    "async def memory_retrieval_agent(state: \"TeacherStateV5\") -> Dict[str, Any]:\n",
    "    print_step(\"`Agent: Memory Retrieval` (v9.4) đang tìm kiếm trong trí nhớ...\")\n",
    "    \n",
    "    if not memory_vector_store:\n",
    "        print_warning(\"Không có Trí nhớ Dài hạn. Bỏ qua bước này.\")\n",
    "        return {\"inspirational_example\": None}\n",
    "\n",
    "    user_request = state[\"original_request\"]\n",
    "    \n",
    "    # Tìm kiếm 1 ví dụ tương đồng nhất trong trí nhớ\n",
    "    try:\n",
    "        results = memory_vector_store.similarity_search_with_score(user_request, k=1)\n",
    "        if results and results[0][1] < 0.5: # Chỉ lấy nếu độ tương đồng cao (điểm score thấp là tốt)\n",
    "            best_example = results[0][0].metadata\n",
    "            print_result(best_example['request'], \"Tìm thấy ví dụ tương đồng trong trí nhớ\")\n",
    "            # Chỉ trả về phần \"lesson_flow\" để làm ví dụ\n",
    "            return {\"inspirational_example\": best_example['plan']['lesson_flow']}\n",
    "        else:\n",
    "            print_step(\"Không tìm thấy ví dụ nào đủ tương đồng trong trí nhớ.\")\n",
    "            return {\"inspirational_example\": None}\n",
    "    except Exception as e:\n",
    "        print_warning(f\"Lỗi khi truy xuất trí nhớ: {e}\")\n",
    "        return {\"inspirational_example\": None}\n",
    "    \n",
    "print(\"✅ Các agent lập kế hoạch chiến lược đã sẵn sàng.\")"
   ]
  },
  {
   "cell_type": "code",
   "execution_count": 30,
   "id": "220113cd",
   "metadata": {},
   "outputs": [
    {
     "name": "stdout",
     "output_type": "stream",
     "text": [
      "✅ Các agent RAG đã sẵn sàng.\n"
     ]
    }
   ],
   "source": [
    "# ==============================================================================\n",
    "# CELL 3.4: AGENT TRUY XUẤT VÀ TỔNG HỢP KIẾN THỨC (RAG) (v7.5)\n",
    "# ==============================================================================\n",
    "async def query_expansion_agent(state: \"TeacherStateV5\") -> Dict[str, Any]:\n",
    "    print_step(\"`Agent: Query Expansion` (v7.5) đang phân tích yêu cầu...\")\n",
    "    prompt = f\"{SYSTEM_PERSONA_PROMPT}\\n**NHIỆM VỤ:** Tạo ra các cụm từ tìm kiếm đa dạng bằng tiếng Việt để tìm tài liệu.\\n**CHỦ ĐỀ:** \\\"{state.get('analyzed_objective', {}).get('topic', '')}\\\"\\n**LĨNH VỰC:** {state.get('domain', 'Chung')}\\n**YÊU CẦU ĐỊNH DẠNG:** Trả về JSON với key `queries`.\"\n",
    "    structured_llm = llm.with_structured_output(ExpandedQueries, method=\"json_mode\")\n",
    "    try:\n",
    "        response = await structured_llm.ainvoke(prompt)\n",
    "        print_result(response.queries, \"Các truy vấn tìm kiếm đã được mở rộng\")\n",
    "        return {\"expanded_queries\": response.queries}\n",
    "    except Exception as e:\n",
    "        print_warning(f\"Lỗi tại Query Expansion: {e}. Sử dụng truy vấn gốc.\")\n",
    "        return {\"expanded_queries\": [state.get('analyzed_objective', {}).get('topic', '')]}\n",
    "\n",
    "async def resource_scout_agent_v2(state: \"TeacherStateV5\") -> Dict[str, Any]:\n",
    "    print_step(\"`Agent: Resource Scout` (v8.1 - Sửa lỗi) đang tìm kiếm và sàng lọc...\")\n",
    "    retriever = vector_store.as_retriever(search_kwargs={\"k\": 5})\n",
    "    all_docs = []\n",
    "    queries = state.get('expanded_queries', [state.get('analyzed_objective', {}).get('topic', '')])\n",
    "    for query in queries:\n",
    "        all_docs.extend(retriever.invoke(query))\n",
    "    unique_docs_content = list({doc.page_content for doc in all_docs})[:8]\n",
    "    print_step(f\"Tìm thấy {len(all_docs)} tài liệu, sàng lọc còn {len(unique_docs_content)} đoạn văn bản độc nhất.\")\n",
    "    \n",
    "    # --- Phần Re-ranker giữ nguyên ---\n",
    "    rerank_prompt = f\"{SYSTEM_PERSONA_PROMPT}\\n**NHIỆM VỤ:** Đọc yêu cầu gốc và chọn ra 3-4 đoạn văn bản tiếng Việt phù hợp NHẤT từ danh sách dưới đây.\\n**YÊU CẦU GỐC:** \\\"{state.get('original_request', '')}\\\"\\n**DANH SÁCH TÀI LIỆU:** {json.dumps(unique_docs_content, ensure_ascii=False)}\\n**YÊU CẦU ĐỊNH DẠNG:** Trả về JSON với key `best_snippets`.\"\n",
    "    structured_llm_reranker = llm.with_structured_output(BestSnippets, method=\"json_mode\")\n",
    "    best_snippets_text = \"\\n\\n---\\n\\n\".join(unique_docs_content)\n",
    "    try:\n",
    "        reranked_result = await structured_llm_reranker.ainvoke(rerank_prompt)\n",
    "        best_snippets_text = \"\\n\\n---\\n\\n\".join(reranked_result.best_snippets)\n",
    "    except Exception as e:\n",
    "        print_warning(f\"Lỗi tại Re-ranker: {e}. Sử dụng tất cả tài liệu.\")\n",
    "\n",
    "    # === ĐẠI TU PROMPT TÓM TẮT ===\n",
    "    summary_prompt = f\"\"\"{SYSTEM_PERSONA_PROMPT}\n",
    "    **VAI TRÒ:** Bạn là một giáo viên kinh nghiệm, có khả năng diễn giải các tài liệu khô khan thành một bài tóm tắt kiến thức cốt lõi vừa CHÍNH XÁC, vừa HẤP DẪN cho học sinh.\n",
    "\n",
    "    **NHIỆM VỤ:** Dựa **CHỈ** vào các đoạn văn bản dưới đây, hãy viết một bản **TÓM TẮT KIẾN THỨC CỐT LÕI** về chủ đề \"{state.get('analyzed_objective', {}).get('topic', '')}\" để in vào cuối giáo án.\n",
    "\n",
    "    **QUY TẮC VỀ PHONG CÁCH:**\n",
    "    1.  **VĂN PHONG TỰ NHIÊN:** Hãy viết như thể bạn đang giải thích trực tiếp cho học sinh. Bắt đầu một cách tự nhiên, không cần các câu rào đón như \"Với vai trò là một giáo viên...\".\n",
    "    2.  **TẬP TRUNG VÀO \"ĐIỂM NHẤN\":** Đừng chỉ liệt kê. Hãy cố gắng nhóm các ý, tìm ra những điểm quan trọng nhất và nhấn mạnh chúng. Sử dụng gạch đầu dòng, **in đậm** để làm nổi bật.\n",
    "    3.  **CHÍNH XÁC TUYỆT ĐỐI:** Chỉ được phép sử dụng thông tin có trong các đoạn văn bản được cung cấp. Nếu thông tin về một phần nào đó (ví dụ: \"đường tròn nội tiếp\") không có, hãy ghi rõ là \"Thông tin về phần này không có trong tài liệu tham khảo.\"\n",
    "\n",
    "    **CÁC ĐOẠN VĂN BẢN ĐỂ TÓM TẮT:**\n",
    "    ---\n",
    "    {best_snippets_text}\n",
    "    ---\n",
    "    \"\"\"\n",
    "\n",
    "    summary = \"Chưa có bản tóm tắt kiến thức.\"\n",
    "    try:\n",
    "        summary_response = await llm.ainvoke(summary_prompt)\n",
    "        summary = summary_response.content\n",
    "    except Exception as e:\n",
    "        print_warning(f\"Lỗi tại bước tóm tắt: {e}.\")\n",
    "        \n",
    "    resource = {\"source\": \"Sách giáo khoa (từ RAG - đã sàng lọc)\", \"summary\": summary}\n",
    "    print_result(resource, \"Tài liệu RAG cuối cùng\")\n",
    "    return update_agent_outputs(state, \"resources\", resource)\n",
    "\n",
    "print(\"✅ Các agent RAG đã sẵn sàng.\")"
   ]
  },
  {
   "cell_type": "code",
   "execution_count": 31,
   "id": "6eac918a",
   "metadata": {},
   "outputs": [],
   "source": [
    "# ==============================================================================\n",
    "# CELL 3.5: AGENT GIAO VIỆC & CHUYÊN MÔN \n",
    "# ==============================================================================\n",
    "\n",
    "class DetailedTaskWithGuidance(BaseModel):\n",
    "    task_name: str = Field(description=\"Tên của nhiệm vụ này, phải phản ánh MỘT mục tiêu duy nhất.\")\n",
    "    task_description: str = Field(description=\"Mô tả chi tiết nhiệm vụ cần thực hiện.\")\n",
    "    estimated_duration: int = Field(description=\"Thời gian ước tính (bằng phút) cho nhiệm vụ này.\")\n",
    "    guidance: str = Field(description=\"Một chỉ dẫn sư phạm NGẮN GỌN và CỤ THỂ cho agent chuyên môn.\")\n",
    "\n",
    "class TaskListWithGuidance(BaseModel):\n",
    "    tasks: List[DetailedTaskWithGuidance]\n",
    "\n",
    "async def plan_delegator_agent(state: \"TeacherStateV5\") -> Dict[str, Any]:\n",
    "    print_step(\"`Agent: Headmaster Delegator` (v13.1 - Giao việc Thông minh) đang chỉ đạo...\")\n",
    "    blueprint = state.get('pedagogical_blueprint', [])\n",
    "    total_duration = state.get('analyzed_objective', {}).get('constraints', {}).get('duration_minutes', 90)\n",
    "    agent_outputs_history = state.get(\"agent_outputs\", {})\n",
    "    new_agent_outputs = {\"resources\": agent_outputs_history.get(\"resources\", [])}\n",
    "    \n",
    "    prompt = f\"\"\"{SYSTEM_PERSONA_PROMPT}\n",
    "    **VAI TRÒ:** Bạn là một Hiệu trưởng cực kỳ kinh nghiệm, chuyên thiết kế các luồng hoạt động sư phạm.\n",
    "    **NHIỆM VỤ:** Chuyển đổi \"Bản thiết kế Sư phạm\" cấp cao thành một danh sách các nhiệm vụ CÓ Ý NGHĨA và KHẢ THI.\n",
    "\n",
    "    **THÔNG TIN BỐI CẢNH:**\n",
    "    - Bản thiết kế: {json.dumps(blueprint, ensure_ascii=False, indent=2)}\n",
    "    - Tổng thời gian: **{total_duration} phút.**\n",
    "\n",
    "    **QUY TẮC TUYỆT ĐỐI PHẢI TUÂN THEO:**\n",
    "    1.  **GOM NHÓM HOẠT ĐỘNG:** Tuyệt đối **KHÔNG** được tạo các nhiệm vụ vụn vặt dưới 10 phút. Hãy tạo ra khoảng **5-7 nhiệm vụ chính** cho toàn bộ buổi học.\n",
    "    2.  **PHÂN BỔ THỜI GIAN HỢP LÝ:** `estimated_duration` của mỗi nhiệm vụ phải hợp lý (ví dụ: 10, 15, 20 phút) và tổng thời gian của tất cả các nhiệm vụ nên xấp xỉ {total_duration} phút.\n",
    "    3.  **MỤC TIÊU RÕ RÀNG:** `task_name` và `task_description` phải mô tả một mục tiêu học tập rõ ràng.\n",
    "    4.  **CHỈ DẪN NGẮN GỌN:** `guidance` phải là một mệnh lệnh ngắn gọn, tập trung vào kết quả đầu ra.\n",
    "\n",
    "    **VÍ DỤ TỐT (Cho 90 phút):**\n",
    "    - Task 1: Khởi động & Giới thiệu bài học (15 phút)\n",
    "    - Task 2: Hoạt động nhóm khám phá lý thuyết (25 phút)\n",
    "    - Task 3: Luyện tập có hướng dẫn (20 phút)\n",
    "    - Task 4: Trình bày và thảo luận chung (15 phút)\n",
    "    - Task 5: Đánh giá nhanh và tổng kết (15 phút)\n",
    "\n",
    "    **YÊU CẦU ĐỊNH DẠNG:** Trả về JSON theo schema `TaskListWithGuidance`.\n",
    "    \"\"\"\n",
    "    structured_llm = llm.with_structured_output(TaskListWithGuidance, method=\"json_mode\")\n",
    "    try:\n",
    "        task_list_result = await structured_llm.ainvoke(prompt)\n",
    "        tasks_with_status = [{\"task_id\": i, **t.dict(), \"status\": \"pending\"} for i, t in enumerate(task_list_result.tasks) if t]\n",
    "        print_result(tasks_with_status, f\"Đã tạo {len(tasks_with_status)} nhiệm vụ với chỉ dẫn chi tiết\")\n",
    "        return {\"task_list\": tasks_with_status, \"reflection_notes\": None, \"agent_outputs\": new_agent_outputs}\n",
    "    except Exception as e:\n",
    "        print_warning(f\"Lỗi tại Headmaster Delegator: {e}. Tạo task mặc định.\")\n",
    "        fallback_task = { \"task_id\": 0, \"task_name\": \"Hoạt động luyện tập\", \"task_description\": \"Học sinh thực hành bài tập.\", \"estimated_duration\": 45, \"guidance\": \"Chỉ cần 2 bài tập.\", \"status\": \"pending\" }\n",
    "        return {\"task_list\": [fallback_task], \"reflection_notes\": None, \"agent_outputs\": state.get(\"agent_outputs\", {})}\n",
    "    \n",
    "async def specialist_agent_logic(state: \"TeacherStateV5\", agent_type: str, pydantic_model: type[BaseModel]) -> Dict[str, Any]:\n",
    "    print_step(f\"`Agent: {agent_type}` (v13.1 - Tư duy Phản tư) đang tạo nội dung...\")\n",
    "    task_to_run = next((t for t in state.get('task_list', []) if t['task_id'] == state.get('current_task_id')), None)\n",
    "    if not task_to_run: return {\"current_content_to_validate\": {\"error\": \"Không tìm thấy task hiện tại.\"}}\n",
    "\n",
    "    feedback_prompt = \"\"\n",
    "    # CHỈ kích hoạt chế độ sửa chữa khi có feedback VÀ đây là lần thử lại\n",
    "    if state.get('validation_feedback') and state.get('current_task_retry_count', 0) > 0:\n",
    "        feedback_prompt = f\"\"\"\n",
    "    **🚨 CẢNH BÁO: BẢN NHÁP TRƯỚC BỊ YÊU CẦU SỬA ĐỔI! 🚨**\n",
    "    Đây là lần sửa DUY NHẤT, vì vậy hãy làm cho đúng.\n",
    "    **MỆNH LỆNH SỬA CHỮA TỪ CỐ VẤN:** \"{state.get('validation_feedback', '')}\"\n",
    "    \n",
    "    **QUY TRÌNH TƯ DUY BẮT BUỘC TRƯỚC KHI HÀNH ĐỘNG:**\n",
    "    1.  **Phân tích Lỗi Sai:** Bản nháp trước đã sai ở đâu so với mệnh lệnh? (Ví dụ: \"Tôi đã thêm phần `differentiation` trong khi cố vấn yêu cầu loại bỏ nó.\")\n",
    "    2.  **Lập Kế hoạch Sửa chữa:** Để tuân thủ tuyệt đối mệnh lệnh, tôi sẽ phải thay đổi những gì? (Ví dụ: \"Tôi sẽ tạo ra một JSON mới, copy phần cốt lõi và đảm bảo rằng các trường `extension_component` và `differentiation` đều là `null`.\")\n",
    "    3.  **Tạo Nội dung Mới:** Dựa trên kế hoạch sửa chữa, tạo ra một JSON hoàn toàn mới. **TUYỆT ĐỐI KHÔNG SÁNG TẠO THÊM** ngoài mệnh lệnh.\n",
    "    \"\"\"\n",
    "    \n",
    "    duration = task_to_run.get('estimated_duration', 10)\n",
    "\n",
    "    prompt = f\"\"\"{SYSTEM_PERSONA_PROMPT}\n",
    "    **VAI TRÒ:** Bạn là một nhà thiết kế hoạt động học tập, một cỗ máy tuân thủ mệnh lệnh một cách tuyệt đối.\n",
    "\n",
    "    {feedback_prompt}\n",
    "\n",
    "    **MỆNH LỆNH GỐC (Chỉ tuân theo nếu không có CẢNH BÁO ở trên):**\n",
    "    - Nhiệm-vụ: \"{task_to_run.get('task_name', '')}\"\n",
    "    - Chỉ-dẫn: \"{task_to_run.get('guidance', 'Không có chỉ dẫn cụ thể.')}\"\n",
    "    - Thời-gian-được-giao: **{duration} phút.**\n",
    "\n",
    "    **=== QUY TẮC SỐNG CÒN ===**\n",
    "    1.  **TUÂN THỦ THỜI GIAN TUYỆT ĐỐI:** `duration_minutes` trong JSON bạn trả về **PHẢI BẰNG CHÍNH XÁC** con số được giao: **{duration} phút**. Không được tự ý thay đổi dù chỉ 1 phút. Đây là mệnh lệnh quan trọng nhất.\n",
    "    2.  **TỰ ĐIỀU CHỈNH NỘI DUNG:** Hãy tự điều chỉnh mức độ phức tạp của hoạt động (`core_component`, `teacher_actions`...) để nó khả thi trong khoảng thời gian **{duration} phút** đã cho. Nếu thời gian ngắn, hoạt động phải đơn giản. Nếu thời gian dài, hoạt động có thể phức tạp hơn.\n",
    "    3.  **ƯU TIÊN MỆNH LỆNH SỬA CHỮA:** Nếu có cảnh báo sửa đổi, đó là ưu tiên số một.\n",
    "\n",
    "    **YÊU CẦU ĐỊNH DẠNG:**\n",
    "    Luôn trả về một JSON hoàn chỉnh và đúng cấu trúc, tuân thủ nghiêm ngặt các QUY TẮC SỐNG CÒN ở trên.\n",
    "    **Cấu trúc JSON yêu cầu:**\n",
    "    ```json\n",
    "    {schema_json_of(pydantic_model, indent=2)}\n",
    "    ```\n",
    "    \"\"\"\n",
    "\n",
    "    structured_llm = llm.with_structured_output(pydantic_model, method=\"json_mode\")\n",
    "    try:\n",
    "        result = await structured_llm.ainvoke(prompt)\n",
    "        content_dict = result.dict()\n",
    "        # Chuẩn hóa output để dễ dàng đưa vào lesson_flow\n",
    "        if 'core_component' in content_dict: content_dict['question_or_description'] = content_dict.pop('core_component')\n",
    "        if 'extension_component' in content_dict: pass # Giữ lại để có thể là null\n",
    "        if 'activity_type' in content_dict: content_dict['content_type'] = content_dict.pop('activity_type')\n",
    "        if 'question_type' in content_dict: content_dict['content_type'] = content_dict.pop('question_type')\n",
    "        \n",
    "        print_result(content_dict, f\"Nội dung do {agent_type} tạo ra\")\n",
    "        return {\"current_content_to_validate\": content_dict, \"validation_feedback\": None}\n",
    "    except Exception as e:\n",
    "        print_warning(f\"Lỗi tại {agent_type}: {e}.\")\n",
    "        return {\"current_content_to_validate\": {\"error\": str(e)}}\n",
    "\n",
    "# (Các hàm gọi specialist_agent_logic như theory_synthesizer_agent)\n",
    "async def theory_synthesizer_agent(state: \"TeacherStateV5\"): return await specialist_agent_logic(state, \"Theory Synthesizer\", LearningActivity)\n",
    "async def activity_designer_agent(state: \"TeacherStateV5\"): return await specialist_agent_logic(state, \"Activity Designer\", LearningActivity)\n",
    "async def assessment_creator_agent(state: \"TeacherStateV5\"): return await specialist_agent_logic(state, \"Assessment Creator\", AssessmentItem)"
   ]
  },
  {
   "cell_type": "code",
   "execution_count": 32,
   "id": "f509f0a6",
   "metadata": {},
   "outputs": [
    {
     "name": "stdout",
     "output_type": "stream",
     "text": [
      "✅ Agent Cố vấn và Tổng hợp (v12.0) đã sẵn sàng.\n"
     ]
    }
   ],
   "source": [
    "# ==============================================================================\n",
    "# CELL 3.6: AGENT CỐ VẤN VÀ TỔNG HỢP \n",
    "# ==============================================================================\n",
    "\n",
    "# Critic trở thành \"Người bảo vệ Kế hoạch\"\n",
    "async def content_validator_agent(state: \"TeacherStateV5\") -> Dict[str, Any]:\n",
    "    \"\"\"\n",
    "    Phiên bản Critic \"dễ tính\".\n",
    "    - Lần đầu tiên (retry_count = 0): Nó sẽ kiểm tra, nhưng có xu hướng cho qua và đưa ra gợi ý.\n",
    "    - Lần thứ hai (retry_count > 0): Nó sẽ TỰ ĐỘNG DUYỆT mà không cần suy nghĩ.\n",
    "    \"\"\"\n",
    "    print_step(f\"`Agent: Easy-Going Critic` (v13.1) đang phân tích...\")\n",
    "    \n",
    "    # Lấy số lần đã thử lại từ state\n",
    "    retry_count = state.get(\"current_task_retry_count\", 0)\n",
    "\n",
    "    # QUY TẮC VÀNG: Nếu đây là lần làm lại, TỰ ĐỘNG DUYỆT!\n",
    "    if retry_count > 0:\n",
    "        print_step(\"✔️ CRITIC (Lần 2): Đã nhận bản sửa. Tự động duyệt để chốt kế hoạch!\")\n",
    "        return {\"validation_feedback\": None} # None = DUYỆT\n",
    "\n",
    "    # Nếu đây là lần đầu tiên, nó sẽ thực hiện kiểm tra \"qua loa\"\n",
    "    content = state.get('current_content_to_validate')\n",
    "    task_list = state.get('task_list', [])\n",
    "    current_task = next((t for t in task_list if t['task_id'] == state.get('current_task_id')), None)\n",
    "    \n",
    "    if not content or content.get(\"error\") or not current_task:\n",
    "        return {\"validation_feedback\": \"Lỗi tạo nội dung.\"}\n",
    "\n",
    "    estimated_duration = current_task.get('estimated_duration', 'N/A')\n",
    "\n",
    "    # Prompt mới cho Critic \"dễ tính\"\n",
    "    prompt = f\"\"\"{SYSTEM_PERSONA_PROMPT}\n",
    "    **VAI TRÒ:** Bạn là một Cố vấn Sư phạm \"dễ tính\" và thực tế. Mục tiêu của bạn là giúp hoàn thành giáo án, không phải tìm lỗi để từ chối.\n",
    "    \n",
    "    **BẢN NHÁP CẦN ĐÁNH GIÁ:**\n",
    "    ```json\n",
    "    {json.dumps(content, ensure_ascii=False, indent=2)}\n",
    "    ```\n",
    "    **THỜI GIAN CHO PHÉP:** **{estimated_duration} phút.**\n",
    "\n",
    "    **QUY TRÌNH TƯ DUY \"DỄ TÍNH\":**\n",
    "    1.  **Nhìn tổng thể:** Hoạt động này có quá lố không? Có, gần như lúc nào cũng vậy.\n",
    "    2.  **Đưa ra quyết định:**\n",
    "        -   **Nếu hoạt động CỰC KỲ phi lý (ví dụ: yêu cầu 30 phút trong 5 phút):** Hãy trả về `is_valid: false` và đưa ra MỘT gợi ý sửa chữa DUY NHẤT và rõ ràng. (Ví dụ: \"Hoạt động này quá dài. Hãy bỏ hết phần `extension_component` và `differentiation` đi.\")\n",
    "        -   **Nếu hoạt động chỉ HƠI tham vọng (phổ biến nhất):** Hãy trả về `is_valid: true`. Trong `feedback`, hãy viết một lời khuyên mang tính xây dựng. (Ví dụ: \"Hoạt động này rất hay nhưng hơi dài. Giáo viên có thể dạy nhanh hơn một chút ở phần này hoặc giảm bớt một ví dụ để kịp tiến độ.\")\n",
    "        -   **Nếu hoạt động hoàn hảo:** Trả về `is_valid: true` và `feedback: \"Hoạt động này rất tốt và khả thi.\"`.\n",
    "\n",
    "    **QUY TẮC:** Luôn có xu hướng chấp nhận (`is_valid: true`) trừ khi nó thực sự không thể cứu vãn.\n",
    "    \"\"\"\n",
    "    \n",
    "    structured_llm = llm.with_structured_output(ValidationResult, method=\"json_mode\")\n",
    "    try:\n",
    "        result = await structured_llm.ainvoke(prompt)\n",
    "        \n",
    "        if result.is_valid:\n",
    "            # Ngay cả khi hợp lệ, vẫn có thể có feedback mang tính xây dựng\n",
    "            print_step(f\"✔️ CRITIC (Lần 1): Nội dung được duyệt! (Góp ý: {result.feedback})\")\n",
    "            return {\"validation_feedback\": None} # None = DUYỆT\n",
    "        else:\n",
    "            # Đây là trường hợp duy nhất nó sẽ từ chối\n",
    "            feedback_text = result.feedback.strip()\n",
    "            print_warning(f\"CRITIC (Lần 1) PHẢN BIỆN: {feedback_text}\")\n",
    "            return {\"validation_feedback\": feedback_text}\n",
    "            \n",
    "    except Exception as e:\n",
    "        print_warning(f\"Lỗi tại Critic: {e}. Yêu cầu làm lại.\")\n",
    "        return {\"validation_feedback\": \"Lỗi Critic, hãy bỏ hết các phần không cần thiết.\"}\n",
    "\n",
    "\n",
    "async def structured_plan_compiler_agent(state: \"TeacherStateV5\") -> Dict[str, Any]:\n",
    "    print_step(\"`Agent: Structured Plan Compiler` (v12.0) đang tổng hợp giáo án...\")\n",
    "    outputs = state.get('agent_outputs', {})\n",
    "    objective = state.get('analyzed_objective', {})\n",
    "    \n",
    "    activities = outputs.get('activities', [])\n",
    "    assessments = outputs.get('assessments', [])\n",
    "    all_content_items = activities + assessments\n",
    "    allowed_duration = objective.get('constraints', {}).get('duration_minutes', 90)\n",
    "\n",
    "    if not all_content_items:\n",
    "        return {\"reflection_notes\": \"Kế hoạch thất bại, không có hoạt động nào được tạo ra.\"}\n",
    "\n",
    "    total_duration = sum(item.get('duration_minutes', 0) for item in all_content_items)\n",
    "    \n",
    "    if not ((allowed_duration * 0.90) <= total_duration <= (allowed_duration + 10)):\n",
    "        reflection = f\"Kế hoạch thất bại. Tổng thời gian ({total_duration} phút) không hợp lệ. Lập kế hoạch lại.\"\n",
    "        print_warning(f\"CRITIC LỚN: {reflection}\")\n",
    "        # return {\"reflection_notes\": reflection}\n",
    "\n",
    "    print_step(\"CRITIC LỚN: Kế hoạch hợp lệ! Bắt đầu tổng hợp JSON...\")\n",
    "    all_content_sorted = sorted(all_content_items, key=lambda x: x.get('task_id', float('inf')))\n",
    "    \n",
    "    persona = state.get('student_persona', {})\n",
    "    strategy = state.get('pedagogy_strategy', {})\n",
    "    resources = state.get('agent_outputs', {}).get('resources', [{}])[0]\n",
    "    general_info = { \"chủ đề\": objective.get('topic', 'N/A'), \"môn học\": state.get('domain', 'N/A'), \"lớp\": objective.get('grade_level', 'N/A'), \"thời lượng\": f\"{allowed_duration} phút\", \"phương pháp chủ đạo\": strategy.get('name', 'Chưa xác định'), \"đặc điểm lớp học\": persona.get('special_notes', 'Tiêu chuẩn'), }\n",
    "    learning_objectives = [ f\"Học sinh có thể {objective.get('action_verb', 'vận dụng')} kiến thức về {objective.get('topic', 'N/A')}.\", \"Rèn luyện kỹ năng tư duy logic.\", \"Phát triển kỹ năng hợp tác.\" ]\n",
    "    preparation = { \"giáo viên\": [\"Bảng phụ\", \"máy chiếu\", \"phiếu học tập\"], \"học sinh\": [\"Sách giáo khoa\", \"vở ghi\", \"dụng cụ học tập\"] }\n",
    "    final_plan_obj: FinalStructuredPlan = { \"general_info\": general_info, \"learning_objectives\": learning_objectives, \"preparation\": preparation, \"knowledge_summary\": resources.get('summary', 'Chưa có tóm tắt.'), \"lesson_flow\": all_content_sorted, }\n",
    "    return {\"final_structured_plan\": final_plan_obj, \"reflection_notes\": None}\n",
    "\n",
    "async def markdown_presentation_node(state: \"TeacherStateV5\") -> Dict[str, str]:\n",
    "    print_step(\"`Node: Pedagogical Editor` (v13.1) đang biên tập và tạo bản trình bày...\")\n",
    "    plan_json = state.get(\"final_structured_plan\")\n",
    "    if not isinstance(plan_json, dict): return {\"final_markdown_plan\": \"Lỗi: Không tìm thấy giáo án.\"}\n",
    "    \n",
    "    # Xây dựng bản nháp chi tiết từ các hoạt động\n",
    "    draft_parts = []\n",
    "    lesson_flow = plan_json.get('lesson_flow', [])\n",
    "    for i, activity in enumerate(lesson_flow):\n",
    "        title = f\"### Hoạt động {i+1}: {activity.get('activity_name')} ({activity.get('duration_minutes')} phút)\"\n",
    "        draft_parts.append(title)\n",
    "        draft_parts.append(f\"**Nhiệm vụ:**\\n{activity.get('question_or_description', 'Không có mô tả.')}\")\n",
    "        \n",
    "        if activity.get('differentiation'):\n",
    "            diff = activity['differentiation']\n",
    "            if diff and (diff.get('for_struggling_students') or diff.get('for_advanced_students')):\n",
    "                 draft_parts.append(f\"> **Gợi ý Phân hóa:**\")\n",
    "                 if diff.get('for_struggling_students'):\n",
    "                    draft_parts.append(f\"> - *Hỗ trợ (HS yếu):* {diff.get('for_struggling_students')}\")\n",
    "                 if diff.get('for_advanced_students'):\n",
    "                    draft_parts.append(f\"> - *Thử thách (HS giỏi):* {diff.get('for_advanced_students')}\")\n",
    "    \n",
    "    draft_content_md = \"\\n\\n\".join(draft_parts)\n",
    "\n",
    "    # Lấy các thông tin tổng quan khác\n",
    "    info = plan_json.get('general_info', {})\n",
    "    objectives = \"\\n\".join(f\"- {obj}\" for obj in plan_json.get('learning_objectives', []))\n",
    "    preparation = \"\\n\".join(f\"- **{key.title()}:** {', '.join(items)}\" for key, items in plan_json.get('preparation', {}).items())\n",
    "    summary = plan_json.get('knowledge_summary', 'Chưa có tóm tắt.')\n",
    "\n",
    "    # Tạo prompt cho \"Biên tập viên Sư phạm\"\n",
    "    finalizing_prompt = f\"\"\"{SYSTEM_PERSONA_PROMPT}\n",
    "    **VAI TRÒ:** Bạn là một **Biên tập viên Sư phạm** giàu kinh nghiệm.\n",
    "    **NHIỆM VỤ:** Dựa vào các thông tin tổng quan và bản nháp các hoạt động dưới đây, hãy viết một **GIÁO ÁN HOÀN CHỈNH** dưới dạng Markdown.\n",
    "\n",
    "    **QUY TẮC QUAN TRỌNG NHẤT:**\n",
    "    1.  **VIẾT LỜI CHUYỂN:** Giữa các hoạt động, hãy viết một đoạn \"Lời chuyển của giáo viên\" ngắn gọn (được **in nghiêng** và bắt đầu bằng `GV:`) để tạo sự kết nối mượt mà.\n",
    "    2.  **GIỮ NGUYÊN NỘI DUNG:** Giữ nguyên toàn bộ nội dung chi tiết của từng hoạt động đã được cung cấp.\n",
    "    3.  **ĐỊNH DẠNG CHUYÊN NGHIỆP:** Trình bày giáo án một cách sạch sẽ, rõ ràng, có các đề mục lớn (I, II, III, IV, V).\n",
    "\n",
    "    **I. THÔNG TIN CHUNG**\n",
    "    - **Chủ Đề:** {info.get('chủ đề', 'N/A')}\n",
    "    - **Môn Học:** {info.get('môn học', 'N/A')}\n",
    "    - **Lớp:** {info.get('lớp', 'N/A')}\n",
    "    - **Thời Lượng:** {info.get('thời lượng', 'N/A')}\n",
    "    - **Phương Pháp Chủ Đạo:** {info.get('phương pháp chủ đạo', 'N/A')}\n",
    "    - **Đặc Điểm Lớp Học:** {info.get('đặc điểm lớp học', 'N/A')}\n",
    "\n",
    "    **II. MỤC TIÊU BÀI HỌC**\n",
    "    {objectives}\n",
    "\n",
    "    **III. CHUẨN BỊ**\n",
    "    {preparation}\n",
    "\n",
    "    **IV. TIẾN TRÌNH BÀI DẠY**\n",
    "    ---\n",
    "    {draft_content_md}\n",
    "    ---\n",
    "    \n",
    "    **V. TÓM TẮT KIẾN THỨC CỐT LÕI**\n",
    "    {summary}\n",
    "    \"\"\"\n",
    "    \n",
    "    try:\n",
    "        final_lesson_plan_response = await llm.ainvoke(finalizing_prompt)\n",
    "        final_md = final_lesson_plan_response.content\n",
    "        print_step(\"✔️ Đã biên tập thành công giáo án cuối cùng với lời chuyển mượt mà.\")\n",
    "    except Exception as e:\n",
    "        print_warning(f\"Lỗi ở bước biên tập cuối cùng: {e}. Sẽ trả về bản nháp không có lời chuyển.\")\n",
    "        # Fallback về cách cũ nếu LLM lỗi\n",
    "        final_md = \"\\n\".join(md_parts) # Dùng lại md_parts đã build ở trên\n",
    "        \n",
    "    return {\"final_markdown_plan\": final_md}\n",
    "\n",
    "print(\"✅ Agent Cố vấn và Tổng hợp (v12.0) đã sẵn sàng.\")"
   ]
  },
  {
   "cell_type": "markdown",
   "id": "d9377da3",
   "metadata": {},
   "source": [
    "## PHẦN 4: XÂY DỰNG VÀ BIÊN DỊCH GRAPH"
   ]
  },
  {
   "cell_type": "code",
   "execution_count": 33,
   "id": "3f7820ed",
   "metadata": {},
   "outputs": [
    {
     "name": "stdout",
     "output_type": "stream",
     "text": [
      "✅ Các node tiện ích và điều phối (v12.0 - Hoàn thiện) đã sẵn sàng.\n"
     ]
    }
   ],
   "source": [
    "# ==============================================================================\n",
    "# CELL 4.1: CÁC NODE TIỆN ÍCH & ĐIỀU PHỐI (v12.0 - HOÀN THIỆN)\n",
    "# ==============================================================================\n",
    "from typing import Literal, Dict, Any\n",
    "import time\n",
    "\n",
    "def delay_node(state: \"TeacherStateV5\"): time.sleep(1); return state\n",
    "\n",
    "def mark_task_complete(state: \"TeacherStateV5\") -> Dict[str, Any]:\n",
    "    task_list = state.get(\"task_list\", [])\n",
    "    current_task_id = state.get(\"current_task_id\")\n",
    "    if not task_list or current_task_id is None: return {}\n",
    "    new_task_list = [t.copy() for t in task_list]\n",
    "    for task in new_task_list:\n",
    "        if task.get(\"task_id\") == current_task_id:\n",
    "            task[\"status\"] = \"completed\"\n",
    "            break\n",
    "    return {\"task_list\": new_task_list, \"current_task_id\": None}\n",
    "    \n",
    "def task_router_node(state: \"TeacherStateV5\"):\n",
    "    print_step(\"`Router`: Đang kiểm tra nhiệm vụ...\")\n",
    "    task_list = state.get(\"task_list\", [])\n",
    "    next_task = next((task for task in task_list if task.get(\"status\") == \"pending\"), None)\n",
    "    if next_task:\n",
    "        print_step(f\"Nhiệm vụ tiếp theo: '{next_task['task_name']}' (ID: {next_task['task_id']})\")\n",
    "        # Reset bộ đếm khi bắt đầu một task mới\n",
    "        return {\"current_task_id\": next_task['task_id'], \"current_task_retry_count\": 0}\n",
    "    else:\n",
    "        print_step(\"Hết nhiệm vụ, chuyển sang node Compiler.\")\n",
    "        return {\"current_task_id\": None}\n",
    "\n",
    "async def task_dispatcher_agent(state: \"TeacherStateV5\"):\n",
    "    print_step(\"`Agent: Task Dispatcher` đang giao việc...\")\n",
    "    task_to_run = next((t for t in state['task_list'] if t['task_id'] == state['current_task_id']), None)\n",
    "    if not task_to_run: return {\"next_agent\": \"structured_plan_compiler\"}\n",
    "    task_description = task_to_run['task_description']\n",
    "    prompt = f\"{SYSTEM_PERSONA_PROMPT}\\n**Nhiệm vụ:** Phân loại nhiệm vụ sau vào MỘT trong ba agent: 'activity_designer', 'theory_synthesizer', 'assessment_creator'.\"\n",
    "    structured_llm = llm.with_structured_output(TaskClassification)\n",
    "    try:\n",
    "        classification_result = await structured_llm.ainvoke(prompt)\n",
    "        next_agent = classification_result.agent_category\n",
    "    except Exception:\n",
    "        next_agent = \"activity_designer\"\n",
    "    print_step(f\"--- 🚚 `Dispatcher`: Giao nhiệm vụ cho `{next_agent}`.\")\n",
    "    return {\"next_agent\": next_agent}\n",
    "\n",
    "def commit_validated_content_node(state: \"TeacherStateV5\") -> Dict[str, Any]:\n",
    "    print_step(\"`Commiter`: Đang ghi nhận nội dung đã được xác thực...\")\n",
    "    agent_ran = state[\"next_agent\"]\n",
    "    content = state[\"current_content_to_validate\"]\n",
    "    content['task_id'] = state['current_task_id']\n",
    "    key_to_update = \"assessments\" if agent_ran == \"assessment_creator\" else \"activities\"\n",
    "    updated_outputs = update_agent_outputs(state, key_to_update, content)\n",
    "    updated_outputs[\"current_content_to_validate\"] = None\n",
    "    updated_outputs[\"validation_feedback\"] = None\n",
    "    return updated_outputs\n",
    "\n",
    "def save_to_memory_node(state: \"TeacherStateV5\"):\n",
    "    if state.get(\"final_structured_plan\"):\n",
    "        save_to_memory(state[\"original_request\"], state[\"final_structured_plan\"])\n",
    "    return {} \n",
    "\n",
    "print(\"✅ Các node tiện ích và điều phối (v12.0 - Hoàn thiện) đã sẵn sàng.\")"
   ]
  },
  {
   "cell_type": "code",
   "execution_count": 34,
   "id": "6b7306e7",
   "metadata": {},
   "outputs": [
    {
     "name": "stdout",
     "output_type": "stream",
     "text": [
      "✅ Các hàm logic điều hướng (v12.8 - Sửa 1 lần duy nhất) đã được định nghĩa.\n"
     ]
    }
   ],
   "source": [
    "# ==============================================================================\n",
    "# CELL 4.2: LOGIC ĐIỀU HƯỚNG CÓ ĐIỀU KIỆN \n",
    "# ==============================================================================\n",
    "\n",
    "def route_after_guardian_critique(state: \"TeacherStateV5\") -> Literal[\"commit\", \"retry_content_creation\", \"skip_and_move_on\"]:\n",
    "    \"\"\"\n",
    "    Điều hướng sau khi Critic đưa ra phản hồi.\n",
    "    - commit: Nội dung được duyệt.\n",
    "    - retry_content_creation: Nội dung bị từ chối lần đầu, cho phép thử lại 1 lần duy nhất.\n",
    "    - skip_and_move_on: (Ngã rẽ dự phòng) Nếu có lỗi xảy ra sau khi thử lại, bỏ qua nhiệm vụ.\n",
    "    \"\"\"\n",
    "    if state.get(\"validation_feedback\") is None:\n",
    "        # Nếu không có feedback (đã được duyệt), thì commit.\n",
    "        return \"commit\"\n",
    "    \n",
    "    retry_count = state.get(\"current_task_retry_count\", 0)\n",
    "    \n",
    "    # Nếu đây là lần thất bại đầu tiên (retry_count = 0)\n",
    "    if retry_count == 0:\n",
    "        print_warning(f\"ROUTER (Critic): Yêu cầu Agent chuyên môn sửa lại (1/1).\")\n",
    "        # Tăng bộ đếm và cho phép thử lại\n",
    "        state['current_task_retry_count'] = 1\n",
    "        return \"retry_content_creation\"\n",
    "    # Nếu đây là lần thất bại thứ hai (không nên xảy ra với logic Critic mới, nhưng đây là phương án dự phòng)\n",
    "    else:\n",
    "        task_id = state.get('current_task_id', 'N/A')\n",
    "        print_warning(f\"ROUTER (Critic): THẤT BẠI LẦN 2 với nhiệm vụ ID '{task_id}'. Bỏ qua và chuyển sang nhiệm vụ tiếp theo.\")\n",
    "        return \"skip_and_move_on\"\n",
    "    \n",
    "def route_after_router(state: \"TeacherStateV5\") -> Literal[\"continue_executing\", \"compile_and_critique\"]:\n",
    "    if state.get(\"current_task_id\") is None: \n",
    "        return \"compile_and_critique\"\n",
    "    else: \n",
    "        return \"continue_executing\"\n",
    "\n",
    "def route_after_compilation(state: \"TeacherStateV5\") -> Literal[\"finish\", \"replan\"]:\n",
    "    if state.get(\"reflection_notes\"):\n",
    "        print_step(\"ROUTER (Compilation): Phát hiện phản hồi từ Critic lớn. Yêu cầu hệ thống lập kế hoạch lại.\")\n",
    "        return \"replan\"\n",
    "    else:\n",
    "        print_step(\"ROUTER (Compilation): Critic lớn đã hài lòng. Kết thúc quy trình.\")\n",
    "        return \"finish\"\n",
    "\n",
    "print(\"✅ Các hàm logic điều hướng (v12.8 - Sửa 1 lần duy nhất) đã được định nghĩa.\")"
   ]
  },
  {
   "cell_type": "code",
   "execution_count": 35,
   "id": "30df6071",
   "metadata": {},
   "outputs": [
    {
     "name": "stdout",
     "output_type": "stream",
     "text": [
      "✅ Graph đã được biên dịch thành công với logic 'Sửa 1 lần & Bỏ qua' (v12.8).\n"
     ]
    }
   ],
   "source": [
    "# ==============================================================================\n",
    "# CELL 4.3: LẮP RÁP VÀ BIÊN DỊCH GRAPH \n",
    "# ==============================================================================\n",
    "workflow = StateGraph(TeacherStateV5)\n",
    "\n",
    "# Luồng Phân tích & Lập kế hoạch\n",
    "workflow.add_node(\"initializer\", initialize_state_node)\n",
    "workflow.add_node(\"memory_retrieval\", memory_retrieval_agent)\n",
    "workflow.add_node(\"objective_interpreter\", objective_interpreter_agent)\n",
    "workflow.add_node(\"domain_classifier\", domain_classifier_agent)\n",
    "workflow.add_node(\"differentiated_instruction_advisor\", differentiated_instruction_advisor_agent) \n",
    "workflow.add_node(\"pedagogy_strategist\", pedagogy_strategist_agent)\n",
    "workflow.add_node(\"pedagogical_architect\", pedagogical_architect_agent)\n",
    "workflow.add_node(\"query_expansion\", query_expansion_agent)\n",
    "workflow.add_node(\"resource_scout\", resource_scout_agent_v2)\n",
    "workflow.add_node(\"plan_delegator\", plan_delegator_agent)\n",
    "\n",
    "# Luồng Thực thi & Phản biện\n",
    "workflow.add_node(\"task_router\", task_router_node)\n",
    "workflow.add_node(\"task_dispatcher\", task_dispatcher_agent)\n",
    "workflow.add_node(\"theory_synthesizer\", theory_synthesizer_agent)\n",
    "workflow.add_node(\"activity_designer\", activity_designer_agent)\n",
    "workflow.add_node(\"assessment_creator\", assessment_creator_agent)\n",
    "workflow.add_node(\"content_validator\", content_validator_agent)\n",
    "workflow.add_node(\"commit_validated_content\", commit_validated_content_node)\n",
    "workflow.add_node(\"mark_task_complete\", mark_task_complete)\n",
    "\n",
    "# Luồng Tổng hợp & Kết thúc\n",
    "workflow.add_node(\"structured_plan_compiler\", structured_plan_compiler_agent) \n",
    "workflow.add_node(\"markdown_presenter\", markdown_presentation_node)\n",
    "workflow.add_node(\"save_to_memory\", save_to_memory_node)\n",
    "workflow.add_node(\"delay_node\", delay_node)\n",
    "\n",
    "# --- Luồng Phân tích & Lập kế hoạch ban đầu ---\n",
    "workflow.set_entry_point(\"initializer\")\n",
    "workflow.add_edge(\"initializer\", \"memory_retrieval\")\n",
    "workflow.add_edge(\"memory_retrieval\", \"objective_interpreter\")\n",
    "workflow.add_edge(\"objective_interpreter\", \"domain_classifier\")\n",
    "workflow.add_edge(\"domain_classifier\", \"differentiated_instruction_advisor\")\n",
    "workflow.add_edge(\"differentiated_instruction_advisor\", \"pedagogy_strategist\")\n",
    "workflow.add_edge(\"pedagogy_strategist\", \"pedagogical_architect\")\n",
    "workflow.add_edge(\"pedagogical_architect\", \"query_expansion\")\n",
    "workflow.add_edge(\"query_expansion\", \"resource_scout\")\n",
    "workflow.add_edge(\"resource_scout\", \"plan_delegator\")\n",
    "\n",
    "# Bắt đầu vòng lặp thực thi\n",
    "workflow.add_edge(\"plan_delegator\", \"task_router\")\n",
    "\n",
    "# --- Vòng lặp Thực thi Nhiệm vụ ---\n",
    "workflow.add_conditional_edges(\n",
    "    \"task_router\", \n",
    "    route_after_router, \n",
    "    { \"continue_executing\": \"task_dispatcher\", \"compile_and_critique\": \"structured_plan_compiler\" }\n",
    ")\n",
    "workflow.add_conditional_edges(\n",
    "    \"task_dispatcher\", \n",
    "    lambda state: state[\"next_agent\"], \n",
    "    { \"activity_designer\": \"activity_designer\", \"assessment_creator\": \"assessment_creator\", \"theory_synthesizer\": \"theory_synthesizer\" }\n",
    ")\n",
    "\n",
    "workflow.add_edge(\"theory_synthesizer\", \"content_validator\")\n",
    "workflow.add_edge(\"activity_designer\", \"content_validator\")\n",
    "workflow.add_edge(\"assessment_creator\", \"content_validator\")\n",
    "\n",
    "\n",
    "workflow.add_conditional_edges(\n",
    "    \"content_validator\",\n",
    "    route_after_guardian_critique,\n",
    "    {\n",
    "        \"commit\": \"commit_validated_content\",\n",
    "        \"retry_content_creation\": \"task_dispatcher\",\n",
    "        \"move_on\": \"mark_task_complete\" # Nối dây mới!\n",
    "    }\n",
    ")\n",
    "\n",
    "\n",
    "workflow.add_edge(\"commit_validated_content\", \"mark_task_complete\")\n",
    "workflow.add_edge(\"mark_task_complete\", \"delay_node\")\n",
    "workflow.add_edge(\"delay_node\", \"task_router\")\n",
    "\n",
    "# --- Luồng Kết thúc ---\n",
    "workflow.add_conditional_edges(\n",
    "    \"structured_plan_compiler\", \n",
    "    route_after_compilation,\n",
    "    { \"replan\": \"plan_delegator\", \"finish\": \"markdown_presenter\" }\n",
    ")\n",
    "workflow.add_edge(\"markdown_presenter\", \"save_to_memory\")\n",
    "workflow.add_edge(\"save_to_memory\", END)\n",
    "\n",
    "# Biên dịch graph hoàn chỉnh\n",
    "app = workflow.compile()\n",
    "print(\"✅ Graph đã được biên dịch thành công với logic 'Sửa 1 lần & Bỏ qua' (v12.8).\")"
   ]
  },
  {
   "cell_type": "code",
   "execution_count": 36,
   "id": "ac549fea",
   "metadata": {},
   "outputs": [
    {
     "data": {
      "image/png": "[encoded data removed]",
      "text/plain": [
       "<IPython.core.display.Image object>"
      ]
     },
     "metadata": {},
     "output_type": "display_data"
    }
   ],
   "source": [
    "# ==============================================================================\n",
    "# CELL 4.4: HIỂN THỊ SƠ ĐỒ GRAPH \n",
    "# ==============================================================================\n",
    "try:\n",
    "    # Lệnh này sẽ vẽ một sơ đồ của workflow, rất hữu ích để gỡ lỗi\n",
    "    display(Image(app.get_graph().draw_mermaid_png()))\n",
    "except Exception as e:\n",
    "    print(f\"Lỗi vẽ biểu đồ: {e}. Đây là lỗi không nghiêm trọng, bạn vẫn có thể chạy quy trình.\")"
   ]
  },
  {
   "cell_type": "markdown",
   "id": "a5e56adc",
   "metadata": {},
   "source": [
    "## PHẦN 5"
   ]
  },
  {
   "cell_type": "code",
   "execution_count": 37,
   "id": "f27d8fdf",
   "metadata": {},
   "outputs": [
    {
     "name": "stdout",
     "output_type": "stream",
     "text": [
      "✅ Hàm `run_architect` (v12.0) đã sẵn sàng để sử dụng.\n"
     ]
    }
   ],
   "source": [
    "# ==============================================================================\n",
    "# CELL 5.1: ĐỊNH NGHĨA HÀM CHẠY QUY TRÌNH \n",
    "# ==============================================================================\n",
    "async def run_architect(user_request: str):\n",
    "    if 'llm' not in globals() or llm is None:\n",
    "        print_warning(\"LLM chưa được khởi tạo.\")\n",
    "        return\n",
    "    if 'vector_store' not in globals() or vector_store is None:\n",
    "        print_warning(\"Kho tri thức chưa được tải.\")\n",
    "        return\n",
    "    if 'app' not in globals():\n",
    "        print_warning(\"Graph 'app' chưa được biên dịch.\")\n",
    "        return\n",
    "\n",
    "    initial_state = {\"messages\": [HumanMessage(content=user_request)]}\n",
    "    console.print(f\"\\n[bold magenta]🚀 BẮT ĐẦU QUY TRÌNH V12.0 (HOÀN THIỆN) VỚI YÊU CẦU:[/bold magenta]\\n> {user_request}\")\n",
    "    config = {\"recursion_limit\": 150} \n",
    "    \n",
    "    final_markdown_plan = None\n",
    "    final_structured_plan = None\n",
    "    \n",
    "    try:\n",
    "        async for event in app.astream(initial_state, config=config):\n",
    "            for node_name, node_output in event.items():\n",
    "                console.print(f\"\\n[bold yellow]------- Hoàn thành bước: {node_name} -------[/bold yellow]\")\n",
    "                if node_name == \"markdown_presenter\":\n",
    "                    final_markdown_plan = node_output.get(\"final_markdown_plan\")\n",
    "                    final_structured_plan = node_output.get(\"final_structured_plan\")\n",
    "\n",
    "        console.print(\"\\n[bold magenta]🏁 KẾT THÚC QUY TRÌNH.[/bold magenta]\")\n",
    "        \n",
    "        if final_markdown_plan:\n",
    "            console.print(\"\\n[bold green]📝 GIÁO ÁN HOÀN CHỈNH (v12.0)[/bold green]\")\n",
    "            console.print(Markdown(final_markdown_plan))\n",
    "            \n",
    "            if VERBOSE_MODE and final_structured_plan:\n",
    "                print_result(final_structured_plan, \"Output JSON có cấu trúc\")\n",
    "        else:\n",
    "            print_warning(\"Không tạo được giáo án cuối cùng. Vui lòng kiểm tra log để gỡ lỗi.\")\n",
    "            \n",
    "    except Exception as e:\n",
    "        print_warning(f\"Đã xảy ra lỗi nghiêm trọng trong quá trình chạy graph: {e}\")\n",
    "        import traceback\n",
    "        traceback.print_exc()\n",
    "\n",
    "print(\"✅ Hàm `run_architect` (v12.0) đã sẵn sàng để sử dụng.\")"
   ]
  },
  {
   "cell_type": "code",
   "execution_count": 38,
   "id": "43c8121e",
   "metadata": {},
   "outputs": [
    {
     "data": {
      "text/html": [
       "<pre style=\"white-space:pre;overflow-x:auto;line-height:normal;font-family:Menlo,'DejaVu Sans Mono',consolas,'Courier New',monospace\">\n",
       "<span style=\"color: #800080; text-decoration-color: #800080; font-weight: bold\">🚀 BẮT ĐẦU QUY TRÌNH V12.</span><span style=\"color: #800080; text-decoration-color: #800080; font-weight: bold\">0</span><span style=\"color: #800080; text-decoration-color: #800080; font-weight: bold\"> (HOÀN THIỆN) VỚI YÊU CẦU:</span>\n",
       "&gt; Soạn giúp tôi giáo án bài <span style=\"color: #008000; text-decoration-color: #008000\">'VỊ TRÍ TƯƠNG ĐỐI CỦA ĐƯỜNG THẲNG VÀ ĐƯỜNG TRÒN'</span> cho học sinh lớp <span style=\"color: #008080; text-decoration-color: #008080; font-weight: bold\">9</span> trong <span style=\"color: #008080; text-decoration-color: #008080; font-weight: bold\">90</span> phút. Đây \n",
       "là một lớp học khá yếu, các em thường mất tập trung và cần các hoạt động có tính tương tác cao.\n",
       "</pre>\n"
      ],
      "text/plain": [
       "\n",
       "\u001b[1;35m🚀 BẮT ĐẦU QUY TRÌNH V12.\u001b[0m\u001b[1;35m0\u001b[0m\u001b[1;35m \u001b[0m\u001b[1;35m(\u001b[0m\u001b[1;35mHOÀN THIỆN\u001b[0m\u001b[1;35m)\u001b[0m\u001b[1;35m VỚI YÊU CẦU:\u001b[0m\n",
       "> Soạn giúp tôi giáo án bài \u001b[32m'VỊ TRÍ TƯƠNG ĐỐI CỦA ĐƯỜNG THẲNG VÀ ĐƯỜNG TRÒN'\u001b[0m cho học sinh lớp \u001b[1;36m9\u001b[0m trong \u001b[1;36m90\u001b[0m phút. Đây \n",
       "là một lớp học khá yếu, các em thường mất tập trung và cần các hoạt động có tính tương tác cao.\n"
      ]
     },
     "metadata": {},
     "output_type": "display_data"
    },
    {
     "data": {
      "text/html": [
       "<pre style=\"white-space:pre;overflow-x:auto;line-height:normal;font-family:Menlo,'DejaVu Sans Mono',consolas,'Courier New',monospace\">\n",
       "<span style=\"color: #008080; text-decoration-color: #008080; font-weight: bold\">&gt;</span> `Initializer`: Đang khởi tạo trạng thái và lấy yêu cầu gốc<span style=\"color: #808000; text-decoration-color: #808000\">...</span>\n",
       "</pre>\n"
      ],
      "text/plain": [
       "\n",
       "\u001b[1;36m>\u001b[0m `Initializer`: Đang khởi tạo trạng thái và lấy yêu cầu gốc\u001b[33m...\u001b[0m\n"
      ]
     },
     "metadata": {},
     "output_type": "display_data"
    },
    {
     "data": {
      "text/html": [
       "<pre style=\"white-space:pre;overflow-x:auto;line-height:normal;font-family:Menlo,'DejaVu Sans Mono',consolas,'Courier New',monospace\">\n",
       "<span style=\"color: #808000; text-decoration-color: #808000; font-weight: bold\">------- Hoàn thành bước: initializer -------</span>\n",
       "</pre>\n"
      ],
      "text/plain": [
       "\n",
       "\u001b[1;33m------- Hoàn thành bước: initializer -------\u001b[0m\n"
      ]
     },
     "metadata": {},
     "output_type": "display_data"
    },
    {
     "data": {
      "text/html": [
       "<pre style=\"white-space:pre;overflow-x:auto;line-height:normal;font-family:Menlo,'DejaVu Sans Mono',consolas,'Courier New',monospace\">\n",
       "<span style=\"color: #008080; text-decoration-color: #008080; font-weight: bold\">&gt;</span> `Agent: Memory Retrieval` <span style=\"font-weight: bold\">(</span>v9.<span style=\"color: #008080; text-decoration-color: #008080; font-weight: bold\">4</span><span style=\"font-weight: bold\">)</span> đang tìm kiếm trong trí nhớ<span style=\"color: #808000; text-decoration-color: #808000\">...</span>\n",
       "</pre>\n"
      ],
      "text/plain": [
       "\n",
       "\u001b[1;36m>\u001b[0m `Agent: Memory Retrieval` \u001b[1m(\u001b[0mv9.\u001b[1;36m4\u001b[0m\u001b[1m)\u001b[0m đang tìm kiếm trong trí nhớ\u001b[33m...\u001b[0m\n"
      ]
     },
     "metadata": {},
     "output_type": "display_data"
    },
    {
     "data": {
      "text/html": [
       "<pre style=\"white-space:pre;overflow-x:auto;line-height:normal;font-family:Menlo,'DejaVu Sans Mono',consolas,'Courier New',monospace\"><span style=\"color: #008000; text-decoration-color: #008000; font-weight: bold\">✔️ Tìm thấy ví dụ tương đồng trong trí nhớ:</span>\n",
       "</pre>\n"
      ],
      "text/plain": [
       "\u001b[1;32m✔️ Tìm thấy ví dụ tương đồng trong trí nhớ:\u001b[0m\n"
      ]
     },
     "metadata": {},
     "output_type": "display_data"
    },
    {
     "data": {
      "text/html": [
       "<pre style=\"white-space:pre;overflow-x:auto;line-height:normal;font-family:Menlo,'DejaVu Sans Mono',consolas,'Courier New',monospace\"><span style=\"color: #008000; text-decoration-color: #008000\">\"Soạn giúp tôi giáo án bài 'VỊ TRÍ TƯƠNG ĐỐI CỦA ĐƯỜNG THẲNG VÀ ĐƯỜNG TRÒN' cho học sinh lớp 9 trong 90 phút. Đây là một lớp học khá yếu, các em thường mất tập trung và cần các hoạt động có tính tương tác cao.\"</span>\n",
       "</pre>\n"
      ],
      "text/plain": [
       "\u001b[32m\"Soạn giúp tôi giáo án bài 'VỊ TRÍ TƯƠNG ĐỐI CỦA ĐƯỜNG THẲNG VÀ ĐƯỜNG TRÒN' cho học sinh lớp 9 trong 90 phút. Đây là một lớp học khá yếu, các em thường mất tập trung và cần các hoạt động có tính tương tác cao.\"\u001b[0m\n"
      ]
     },
     "metadata": {},
     "output_type": "display_data"
    },
    {
     "data": {
      "text/html": [
       "<pre style=\"white-space:pre;overflow-x:auto;line-height:normal;font-family:Menlo,'DejaVu Sans Mono',consolas,'Courier New',monospace\">\n",
       "<span style=\"color: #808000; text-decoration-color: #808000; font-weight: bold\">------- Hoàn thành bước: memory_retrieval -------</span>\n",
       "</pre>\n"
      ],
      "text/plain": [
       "\n",
       "\u001b[1;33m------- Hoàn thành bước: memory_retrieval -------\u001b[0m\n"
      ]
     },
     "metadata": {},
     "output_type": "display_data"
    },
    {
     "data": {
      "text/html": [
       "<pre style=\"white-space:pre;overflow-x:auto;line-height:normal;font-family:Menlo,'DejaVu Sans Mono',consolas,'Courier New',monospace\">\n",
       "<span style=\"color: #008080; text-decoration-color: #008080; font-weight: bold\">&gt;</span> `Agent: Objective Interpreter` <span style=\"font-weight: bold\">(</span>v7.<span style=\"color: #008080; text-decoration-color: #008080; font-weight: bold\">5</span><span style=\"font-weight: bold\">)</span> đang phân tích mục tiêu<span style=\"color: #808000; text-decoration-color: #808000\">...</span>\n",
       "</pre>\n"
      ],
      "text/plain": [
       "\n",
       "\u001b[1;36m>\u001b[0m `Agent: Objective Interpreter` \u001b[1m(\u001b[0mv7.\u001b[1;36m5\u001b[0m\u001b[1m)\u001b[0m đang phân tích mục tiêu\u001b[33m...\u001b[0m\n"
      ]
     },
     "metadata": {},
     "output_type": "display_data"
    },
    {
     "data": {
      "text/html": [
       "<pre style=\"white-space:pre;overflow-x:auto;line-height:normal;font-family:Menlo,'DejaVu Sans Mono',consolas,'Courier New',monospace\"><span style=\"color: #008000; text-decoration-color: #008000; font-weight: bold\">✔️ Mục tiêu &amp; Ràng buộc đã phân tích:</span>\n",
       "</pre>\n"
      ],
      "text/plain": [
       "\u001b[1;32m✔️ Mục tiêu & Ràng buộc đã phân tích:\u001b[0m\n"
      ]
     },
     "metadata": {},
     "output_type": "display_data"
    },
    {
     "data": {
      "text/html": [
       "<pre style=\"white-space:pre;overflow-x:auto;line-height:normal;font-family:Menlo,'DejaVu Sans Mono',consolas,'Courier New',monospace\"><span style=\"font-weight: bold\">{</span>\n",
       "<span style=\"color: #7fbf7f; text-decoration-color: #7fbf7f\">│   </span><span style=\"color: #008000; text-decoration-color: #008000\">'action_verb'</span>: <span style=\"color: #008000; text-decoration-color: #008000\">'Soạn'</span>,\n",
       "<span style=\"color: #7fbf7f; text-decoration-color: #7fbf7f\">│   </span><span style=\"color: #008000; text-decoration-color: #008000\">'bloom_level'</span>: <span style=\"color: #008080; text-decoration-color: #008080; font-weight: bold\">2</span>,\n",
       "<span style=\"color: #7fbf7f; text-decoration-color: #7fbf7f\">│   </span><span style=\"color: #008000; text-decoration-color: #008000\">'topic'</span>: <span style=\"color: #008000; text-decoration-color: #008000\">'VỊ TRÍ TƯƠNG ĐỐI CỦA ĐƯỜNG THẲNG VÀ ĐƯỜNG TRÒN'</span>,\n",
       "<span style=\"color: #7fbf7f; text-decoration-color: #7fbf7f\">│   </span><span style=\"color: #008000; text-decoration-color: #008000\">'grade_level'</span>: <span style=\"color: #008000; text-decoration-color: #008000\">'Lớp 9'</span>,\n",
       "<span style=\"color: #7fbf7f; text-decoration-color: #7fbf7f\">│   </span><span style=\"color: #008000; text-decoration-color: #008000\">'constraints'</span>: <span style=\"font-weight: bold\">{</span>\n",
       "<span style=\"color: #7fbf7f; text-decoration-color: #7fbf7f\">│   │   </span><span style=\"color: #008000; text-decoration-color: #008000\">'duration_minutes'</span>: <span style=\"color: #008080; text-decoration-color: #008080; font-weight: bold\">90</span>\n",
       "<span style=\"color: #7fbf7f; text-decoration-color: #7fbf7f\">│   </span><span style=\"font-weight: bold\">}</span>\n",
       "<span style=\"font-weight: bold\">}</span>\n",
       "</pre>\n"
      ],
      "text/plain": [
       "\u001b[1m{\u001b[0m\n",
       "\u001b[2;32m│   \u001b[0m\u001b[32m'action_verb'\u001b[0m: \u001b[32m'Soạn'\u001b[0m,\n",
       "\u001b[2;32m│   \u001b[0m\u001b[32m'bloom_level'\u001b[0m: \u001b[1;36m2\u001b[0m,\n",
       "\u001b[2;32m│   \u001b[0m\u001b[32m'topic'\u001b[0m: \u001b[32m'VỊ TRÍ TƯƠNG ĐỐI CỦA ĐƯỜNG THẲNG VÀ ĐƯỜNG TRÒN'\u001b[0m,\n",
       "\u001b[2;32m│   \u001b[0m\u001b[32m'grade_level'\u001b[0m: \u001b[32m'Lớp 9'\u001b[0m,\n",
       "\u001b[2;32m│   \u001b[0m\u001b[32m'constraints'\u001b[0m: \u001b[1m{\u001b[0m\n",
       "\u001b[2;32m│   │   \u001b[0m\u001b[32m'duration_minutes'\u001b[0m: \u001b[1;36m90\u001b[0m\n",
       "\u001b[2;32m│   \u001b[0m\u001b[1m}\u001b[0m\n",
       "\u001b[1m}\u001b[0m\n"
      ]
     },
     "metadata": {},
     "output_type": "display_data"
    },
    {
     "data": {
      "text/html": [
       "<pre style=\"white-space:pre;overflow-x:auto;line-height:normal;font-family:Menlo,'DejaVu Sans Mono',consolas,'Courier New',monospace\">\n",
       "<span style=\"color: #808000; text-decoration-color: #808000; font-weight: bold\">------- Hoàn thành bước: objective_interpreter -------</span>\n",
       "</pre>\n"
      ],
      "text/plain": [
       "\n",
       "\u001b[1;33m------- Hoàn thành bước: objective_interpreter -------\u001b[0m\n"
      ]
     },
     "metadata": {},
     "output_type": "display_data"
    },
    {
     "data": {
      "text/html": [
       "<pre style=\"white-space:pre;overflow-x:auto;line-height:normal;font-family:Menlo,'DejaVu Sans Mono',consolas,'Courier New',monospace\">\n",
       "<span style=\"color: #008080; text-decoration-color: #008080; font-weight: bold\">&gt;</span> `Agent: Domain Classifier` <span style=\"font-weight: bold\">(</span>v7.<span style=\"color: #008080; text-decoration-color: #008080; font-weight: bold\">5</span><span style=\"font-weight: bold\">)</span> đang xác định lĩnh vực chuyên môn<span style=\"color: #808000; text-decoration-color: #808000\">...</span>\n",
       "</pre>\n"
      ],
      "text/plain": [
       "\n",
       "\u001b[1;36m>\u001b[0m `Agent: Domain Classifier` \u001b[1m(\u001b[0mv7.\u001b[1;36m5\u001b[0m\u001b[1m)\u001b[0m đang xác định lĩnh vực chuyên môn\u001b[33m...\u001b[0m\n"
      ]
     },
     "metadata": {},
     "output_type": "display_data"
    },
    {
     "data": {
      "text/html": [
       "<pre style=\"white-space:pre;overflow-x:auto;line-height:normal;font-family:Menlo,'DejaVu Sans Mono',consolas,'Courier New',monospace\"><span style=\"color: #008000; text-decoration-color: #008000; font-weight: bold\">✔️ Lĩnh vực chuyên môn được xác định:</span>\n",
       "</pre>\n"
      ],
      "text/plain": [
       "\u001b[1;32m✔️ Lĩnh vực chuyên môn được xác định:\u001b[0m\n"
      ]
     },
     "metadata": {},
     "output_type": "display_data"
    },
    {
     "data": {
      "text/html": [
       "<pre style=\"white-space:pre;overflow-x:auto;line-height:normal;font-family:Menlo,'DejaVu Sans Mono',consolas,'Courier New',monospace\"><span style=\"color: #008000; text-decoration-color: #008000\">'Toán học'</span>\n",
       "</pre>\n"
      ],
      "text/plain": [
       "\u001b[32m'Toán học'\u001b[0m\n"
      ]
     },
     "metadata": {},
     "output_type": "display_data"
    },
    {
     "data": {
      "text/html": [
       "<pre style=\"white-space:pre;overflow-x:auto;line-height:normal;font-family:Menlo,'DejaVu Sans Mono',consolas,'Courier New',monospace\">\n",
       "<span style=\"color: #808000; text-decoration-color: #808000; font-weight: bold\">------- Hoàn thành bước: domain_classifier -------</span>\n",
       "</pre>\n"
      ],
      "text/plain": [
       "\n",
       "\u001b[1;33m------- Hoàn thành bước: domain_classifier -------\u001b[0m\n"
      ]
     },
     "metadata": {},
     "output_type": "display_data"
    },
    {
     "data": {
      "text/html": [
       "<pre style=\"white-space:pre;overflow-x:auto;line-height:normal;font-family:Menlo,'DejaVu Sans Mono',consolas,'Courier New',monospace\">\n",
       "<span style=\"color: #008080; text-decoration-color: #008080; font-weight: bold\">&gt;</span> `Agent: Differentiated Instruction Advisor` <span style=\"font-weight: bold\">(</span>v9.<span style=\"color: #008080; text-decoration-color: #008080; font-weight: bold\">1</span><span style=\"font-weight: bold\">)</span> đang phân tích và đề xuất chiến lược phân hóa<span style=\"color: #808000; text-decoration-color: #808000\">...</span>\n",
       "</pre>\n"
      ],
      "text/plain": [
       "\n",
       "\u001b[1;36m>\u001b[0m `Agent: Differentiated Instruction Advisor` \u001b[1m(\u001b[0mv9.\u001b[1;36m1\u001b[0m\u001b[1m)\u001b[0m đang phân tích và đề xuất chiến lược phân hóa\u001b[33m...\u001b[0m\n"
      ]
     },
     "metadata": {},
     "output_type": "display_data"
    },
    {
     "data": {
      "text/html": [
       "<pre style=\"white-space:pre;overflow-x:auto;line-height:normal;font-family:Menlo,'DejaVu Sans Mono',consolas,'Courier New',monospace\"><span style=\"color: #008000; text-decoration-color: #008000; font-weight: bold\">✔️ Hồ sơ lớp học và Chiến lược Phân hóa:</span>\n",
       "</pre>\n"
      ],
      "text/plain": [
       "\u001b[1;32m✔️ Hồ sơ lớp học và Chiến lược Phân hóa:\u001b[0m\n"
      ]
     },
     "metadata": {},
     "output_type": "display_data"
    },
    {
     "data": {
      "text/html": [
       "<pre style=\"white-space:pre;overflow-x:auto;line-height:normal;font-family:Menlo,'DejaVu Sans Mono',consolas,'Courier New',monospace\"><span style=\"font-weight: bold\">{</span>\n",
       "<span style=\"color: #7fbf7f; text-decoration-color: #7fbf7f\">│   </span><span style=\"color: #008000; text-decoration-color: #008000\">'learning_pace'</span>: <span style=\"color: #008000; text-decoration-color: #008000\">'chậm'</span>,\n",
       "<span style=\"color: #7fbf7f; text-decoration-color: #7fbf7f\">│   </span><span style=\"color: #008000; text-decoration-color: #008000\">'engagement_style'</span>: <span style=\"color: #008000; text-decoration-color: #008000\">'thụ động'</span>,\n",
       "<span style=\"color: #7fbf7f; text-decoration-color: #7fbf7f\">│   </span><span style=\"color: #008000; text-decoration-color: #008000\">'special_notes'</span>: <span style=\"color: #008000; text-decoration-color: #008000\">'Lớp học khá yếu, học sinh dễ mất tập trung, cần các hoạt động tương tác cao để duy trì sự chú ý và hứng thú.'</span>,\n",
       "<span style=\"color: #7fbf7f; text-decoration-color: #7fbf7f\">│   </span><span style=\"color: #008000; text-decoration-color: #008000\">'differentiation_strategy'</span>: <span style=\"font-weight: bold\">{</span>\n",
       "<span style=\"color: #7fbf7f; text-decoration-color: #7fbf7f\">│   │   </span><span style=\"color: #008000; text-decoration-color: #008000\">'for_struggling_students'</span>: <span style=\"color: #008000; text-decoration-color: #008000\">'Chia nhỏ bài học thành các phần nhỏ, sử dụng nhiều ví dụ trực quan và vật thật (mô hình đường tròn, đường thẳng). Tổ chức các hoạt động nhóm nhỏ với sự hướng dẫn sát sao của giáo viên. Cung cấp phiếu bài tập có gợi ý, công thức và các bước giải mẫu. Thường xuyên kiểm tra nhanh và củng cố kiến thức ngay lập tức. Cho phép học sinh trình bày ý tưởng bằng hình vẽ hoặc lời nói trước khi viết.'</span>,\n",
       "<span style=\"color: #7fbf7f; text-decoration-color: #7fbf7f\">│   │   </span><span style=\"color: #008000; text-decoration-color: #008000\">'for_advanced_students'</span>: <span style=\"color: #008000; text-decoration-color: #008000\">\"Giao các bài tập nâng cao hơn một chút, yêu cầu chứng minh hoặc giải thích 'tại sao' một tính chất lại đúng. Khuyến khích các em tìm hiểu thêm về ứng dụng của vị trí tương đối trong thực tế (ví dụ: thiết kế, kỹ thuật). Yêu cầu các em hỗ trợ, hướng dẫn các bạn trong nhóm khi cần thiết, đóng vai trò 'trợ giảng' nhỏ.\"</span>\n",
       "<span style=\"color: #7fbf7f; text-decoration-color: #7fbf7f\">│   </span><span style=\"font-weight: bold\">}</span>\n",
       "<span style=\"font-weight: bold\">}</span>\n",
       "</pre>\n"
      ],
      "text/plain": [
       "\u001b[1m{\u001b[0m\n",
       "\u001b[2;32m│   \u001b[0m\u001b[32m'learning_pace'\u001b[0m: \u001b[32m'chậm'\u001b[0m,\n",
       "\u001b[2;32m│   \u001b[0m\u001b[32m'engagement_style'\u001b[0m: \u001b[32m'thụ động'\u001b[0m,\n",
       "\u001b[2;32m│   \u001b[0m\u001b[32m'special_notes'\u001b[0m: \u001b[32m'Lớp học khá yếu, học sinh dễ mất tập trung, cần các hoạt động tương tác cao để duy trì sự chú ý và hứng thú.'\u001b[0m,\n",
       "\u001b[2;32m│   \u001b[0m\u001b[32m'differentiation_strategy'\u001b[0m: \u001b[1m{\u001b[0m\n",
       "\u001b[2;32m│   │   \u001b[0m\u001b[32m'for_struggling_students'\u001b[0m: \u001b[32m'Chia nhỏ bài học thành các phần nhỏ, sử dụng nhiều ví dụ trực quan và vật thật \u001b[0m\u001b[32m(\u001b[0m\u001b[32mmô hình đường tròn, đường thẳng\u001b[0m\u001b[32m)\u001b[0m\u001b[32m. Tổ chức các hoạt động nhóm nhỏ với sự hướng dẫn sát sao của giáo viên. Cung cấp phiếu bài tập có gợi ý, công thức và các bước giải mẫu. Thường xuyên kiểm tra nhanh và củng cố kiến thức ngay lập tức. Cho phép học sinh trình bày ý tưởng bằng hình vẽ hoặc lời nói trước khi viết.'\u001b[0m,\n",
       "\u001b[2;32m│   │   \u001b[0m\u001b[32m'for_advanced_students'\u001b[0m: \u001b[32m\"Giao các bài tập nâng cao hơn một chút, yêu cầu chứng minh hoặc giải thích 'tại sao' một tính chất lại đúng. Khuyến khích các em tìm hiểu thêm về ứng dụng của vị trí tương đối trong thực tế \u001b[0m\u001b[32m(\u001b[0m\u001b[32mví dụ: thiết kế, kỹ thuật\u001b[0m\u001b[32m)\u001b[0m\u001b[32m. Yêu cầu các em hỗ trợ, hướng dẫn các bạn trong nhóm khi cần thiết, đóng vai trò 'trợ giảng' nhỏ.\"\u001b[0m\n",
       "\u001b[2;32m│   \u001b[0m\u001b[1m}\u001b[0m\n",
       "\u001b[1m}\u001b[0m\n"
      ]
     },
     "metadata": {},
     "output_type": "display_data"
    },
    {
     "data": {
      "text/html": [
       "<pre style=\"white-space:pre;overflow-x:auto;line-height:normal;font-family:Menlo,'DejaVu Sans Mono',consolas,'Courier New',monospace\">\n",
       "<span style=\"color: #808000; text-decoration-color: #808000; font-weight: bold\">------- Hoàn thành bước: differentiated_instruction_advisor -------</span>\n",
       "</pre>\n"
      ],
      "text/plain": [
       "\n",
       "\u001b[1;33m------- Hoàn thành bước: differentiated_instruction_advisor -------\u001b[0m\n"
      ]
     },
     "metadata": {},
     "output_type": "display_data"
    },
    {
     "data": {
      "text/html": [
       "<pre style=\"white-space:pre;overflow-x:auto;line-height:normal;font-family:Menlo,'DejaVu Sans Mono',consolas,'Courier New',monospace\">\n",
       "<span style=\"color: #008080; text-decoration-color: #008080; font-weight: bold\">&gt;</span> `Agent: Pedagogy Strategist` <span style=\"font-weight: bold\">(</span>v7.<span style=\"color: #008080; text-decoration-color: #008080; font-weight: bold\">5</span><span style=\"font-weight: bold\">)</span> đang xây dựng chiến lược sư phạm chi tiết<span style=\"color: #808000; text-decoration-color: #808000\">...</span>\n",
       "</pre>\n"
      ],
      "text/plain": [
       "\n",
       "\u001b[1;36m>\u001b[0m `Agent: Pedagogy Strategist` \u001b[1m(\u001b[0mv7.\u001b[1;36m5\u001b[0m\u001b[1m)\u001b[0m đang xây dựng chiến lược sư phạm chi tiết\u001b[33m...\u001b[0m\n"
      ]
     },
     "metadata": {},
     "output_type": "display_data"
    },
    {
     "data": {
      "text/html": [
       "<pre style=\"white-space:pre;overflow-x:auto;line-height:normal;font-family:Menlo,'DejaVu Sans Mono',consolas,'Courier New',monospace\"><span style=\"color: #008000; text-decoration-color: #008000; font-weight: bold\">✔️ Chiến lược sư phạm chi tiết:</span>\n",
       "</pre>\n"
      ],
      "text/plain": [
       "\u001b[1;32m✔️ Chiến lược sư phạm chi tiết:\u001b[0m\n"
      ]
     },
     "metadata": {},
     "output_type": "display_data"
    },
    {
     "data": {
      "text/html": [
       "<pre style=\"white-space:pre;overflow-x:auto;line-height:normal;font-family:Menlo,'DejaVu Sans Mono',consolas,'Courier New',monospace\"><span style=\"font-weight: bold\">{</span>\n",
       "<span style=\"color: #7fbf7f; text-decoration-color: #7fbf7f\">│   </span><span style=\"color: #008000; text-decoration-color: #008000\">'name'</span>: <span style=\"color: #008000; text-decoration-color: #008000\">'Dạy học hợp tác (Cooperative Learning)'</span>,\n",
       "<span style=\"color: #7fbf7f; text-decoration-color: #7fbf7f\">│   </span><span style=\"color: #008000; text-decoration-color: #008000\">'rationale'</span>: <span style=\"color: #008000; text-decoration-color: #008000\">'Phương pháp Dạy học hợp tác rất phù hợp với đặc điểm của lớp học này. Nó giúp tăng cường sự tương tác giữa học sinh, khuyến khích các em chủ động tham gia vào quá trình học tập thay vì thụ động lắng nghe. Việc chia nhóm nhỏ cho phép giáo viên dễ dàng quan sát, hỗ trợ kịp thời cho các nhóm yếu, đồng thời tạo cơ hội cho học sinh khá, giỏi hỗ trợ bạn bè. Các hoạt động nhóm với vật thật và hình ảnh trực quan sẽ duy trì sự chú ý và hứng thú của học sinh, giúp các em dễ dàng tiếp thu kiến thức về vị trí tương đối của đường thẳng và đường tròn, vốn là một chủ đề cần sự hình dung tốt.'</span>,\n",
       "<span style=\"color: #7fbf7f; text-decoration-color: #7fbf7f\">│   </span><span style=\"color: #008000; text-decoration-color: #008000\">'key_actions'</span>: <span style=\"font-weight: bold\">[</span>\n",
       "<span style=\"color: #7fbf7f; text-decoration-color: #7fbf7f\">│   │   </span><span style=\"color: #008000; text-decoration-color: #008000\">'Giới thiệu vấn đề/mục tiêu bài học một cách trực quan, hấp dẫn.'</span>,\n",
       "<span style=\"color: #7fbf7f; text-decoration-color: #7fbf7f\">│   │   </span><span style=\"color: #008000; text-decoration-color: #008000\">'Tổ chức lớp thành các nhóm học tập nhỏ, có sự phân hóa về năng lực.'</span>,\n",
       "<span style=\"color: #7fbf7f; text-decoration-color: #7fbf7f\">│   │   </span><span style=\"color: #008000; text-decoration-color: #008000\">'Giao nhiệm vụ cụ thể cho từng nhóm, khuyến khích sử dụng vật thật (mô hình đường tròn, đường thẳng) hoặc hình ảnh để khám phá các vị trí tương đối.'</span>,\n",
       "<span style=\"color: #7fbf7f; text-decoration-color: #7fbf7f\">│   │   </span><span style=\"color: #008000; text-decoration-color: #008000\">'Học sinh làm việc nhóm, thảo luận, vẽ hình, ghi chép kết quả dưới sự hướng dẫn của giáo viên.'</span>,\n",
       "<span style=\"color: #7fbf7f; text-decoration-color: #7fbf7f\">│   │   </span><span style=\"color: #008000; text-decoration-color: #008000\">'Đại diện nhóm trình bày kết quả, các nhóm khác lắng nghe và đặt câu hỏi.'</span>,\n",
       "<span style=\"color: #7fbf7f; text-decoration-color: #7fbf7f\">│   │   </span><span style=\"color: #008000; text-decoration-color: #008000\">'Giáo viên tổng kết, chuẩn hóa kiến thức, nhấn mạnh các khái niệm và tính chất quan trọng.'</span>,\n",
       "<span style=\"color: #7fbf7f; text-decoration-color: #7fbf7f\">│   │   </span><span style=\"color: #008000; text-decoration-color: #008000\">'Tổ chức hoạt động luyện tập, củng cố kiến thức thông qua các bài tập vận dụng.'</span>\n",
       "<span style=\"color: #7fbf7f; text-decoration-color: #7fbf7f\">│   </span><span style=\"font-weight: bold\">]</span>\n",
       "<span style=\"font-weight: bold\">}</span>\n",
       "</pre>\n"
      ],
      "text/plain": [
       "\u001b[1m{\u001b[0m\n",
       "\u001b[2;32m│   \u001b[0m\u001b[32m'name'\u001b[0m: \u001b[32m'Dạy học hợp tác \u001b[0m\u001b[32m(\u001b[0m\u001b[32mCooperative Learning\u001b[0m\u001b[32m)\u001b[0m\u001b[32m'\u001b[0m,\n",
       "\u001b[2;32m│   \u001b[0m\u001b[32m'rationale'\u001b[0m: \u001b[32m'Phương pháp Dạy học hợp tác rất phù hợp với đặc điểm của lớp học này. Nó giúp tăng cường sự tương tác giữa học sinh, khuyến khích các em chủ động tham gia vào quá trình học tập thay vì thụ động lắng nghe. Việc chia nhóm nhỏ cho phép giáo viên dễ dàng quan sát, hỗ trợ kịp thời cho các nhóm yếu, đồng thời tạo cơ hội cho học sinh khá, giỏi hỗ trợ bạn bè. Các hoạt động nhóm với vật thật và hình ảnh trực quan sẽ duy trì sự chú ý và hứng thú của học sinh, giúp các em dễ dàng tiếp thu kiến thức về vị trí tương đối của đường thẳng và đường tròn, vốn là một chủ đề cần sự hình dung tốt.'\u001b[0m,\n",
       "\u001b[2;32m│   \u001b[0m\u001b[32m'key_actions'\u001b[0m: \u001b[1m[\u001b[0m\n",
       "\u001b[2;32m│   │   \u001b[0m\u001b[32m'Giới thiệu vấn đề/mục tiêu bài học một cách trực quan, hấp dẫn.'\u001b[0m,\n",
       "\u001b[2;32m│   │   \u001b[0m\u001b[32m'Tổ chức lớp thành các nhóm học tập nhỏ, có sự phân hóa về năng lực.'\u001b[0m,\n",
       "\u001b[2;32m│   │   \u001b[0m\u001b[32m'Giao nhiệm vụ cụ thể cho từng nhóm, khuyến khích sử dụng vật thật \u001b[0m\u001b[32m(\u001b[0m\u001b[32mmô hình đường tròn, đường thẳng\u001b[0m\u001b[32m)\u001b[0m\u001b[32m hoặc hình ảnh để khám phá các vị trí tương đối.'\u001b[0m,\n",
       "\u001b[2;32m│   │   \u001b[0m\u001b[32m'Học sinh làm việc nhóm, thảo luận, vẽ hình, ghi chép kết quả dưới sự hướng dẫn của giáo viên.'\u001b[0m,\n",
       "\u001b[2;32m│   │   \u001b[0m\u001b[32m'Đại diện nhóm trình bày kết quả, các nhóm khác lắng nghe và đặt câu hỏi.'\u001b[0m,\n",
       "\u001b[2;32m│   │   \u001b[0m\u001b[32m'Giáo viên tổng kết, chuẩn hóa kiến thức, nhấn mạnh các khái niệm và tính chất quan trọng.'\u001b[0m,\n",
       "\u001b[2;32m│   │   \u001b[0m\u001b[32m'Tổ chức hoạt động luyện tập, củng cố kiến thức thông qua các bài tập vận dụng.'\u001b[0m\n",
       "\u001b[2;32m│   \u001b[0m\u001b[1m]\u001b[0m\n",
       "\u001b[1m}\u001b[0m\n"
      ]
     },
     "metadata": {},
     "output_type": "display_data"
    },
    {
     "data": {
      "text/html": [
       "<pre style=\"white-space:pre;overflow-x:auto;line-height:normal;font-family:Menlo,'DejaVu Sans Mono',consolas,'Courier New',monospace\">\n",
       "<span style=\"color: #808000; text-decoration-color: #808000; font-weight: bold\">------- Hoàn thành bước: pedagogy_strategist -------</span>\n",
       "</pre>\n"
      ],
      "text/plain": [
       "\n",
       "\u001b[1;33m------- Hoàn thành bước: pedagogy_strategist -------\u001b[0m\n"
      ]
     },
     "metadata": {},
     "output_type": "display_data"
    },
    {
     "data": {
      "text/html": [
       "<pre style=\"white-space:pre;overflow-x:auto;line-height:normal;font-family:Menlo,'DejaVu Sans Mono',consolas,'Courier New',monospace\">\n",
       "<span style=\"color: #008080; text-decoration-color: #008080; font-weight: bold\">&gt;</span> `Agent: Pedagogical Architect` <span style=\"font-weight: bold\">(</span>v9.<span style=\"color: #008080; text-decoration-color: #008080; font-weight: bold\">4</span><span style=\"font-weight: bold\">)</span> đang thiết kế kịch bản buổi học<span style=\"color: #808000; text-decoration-color: #808000\">...</span>\n",
       "</pre>\n"
      ],
      "text/plain": [
       "\n",
       "\u001b[1;36m>\u001b[0m `Agent: Pedagogical Architect` \u001b[1m(\u001b[0mv9.\u001b[1;36m4\u001b[0m\u001b[1m)\u001b[0m đang thiết kế kịch bản buổi học\u001b[33m...\u001b[0m\n"
      ]
     },
     "metadata": {},
     "output_type": "display_data"
    },
    {
     "data": {
      "text/html": [
       "<pre style=\"white-space:pre;overflow-x:auto;line-height:normal;font-family:Menlo,'DejaVu Sans Mono',consolas,'Courier New',monospace\"><span style=\"color: #008000; text-decoration-color: #008000; font-weight: bold\">✔️ Bản thiết kế Sư phạm đã được tạo:</span>\n",
       "</pre>\n"
      ],
      "text/plain": [
       "\u001b[1;32m✔️ Bản thiết kế Sư phạm đã được tạo:\u001b[0m\n"
      ]
     },
     "metadata": {},
     "output_type": "display_data"
    },
    {
     "data": {
      "text/html": [
       "<pre style=\"white-space:pre;overflow-x:auto;line-height:normal;font-family:Menlo,'DejaVu Sans Mono',consolas,'Courier New',monospace\"><span style=\"font-weight: bold\">[</span>\n",
       "<span style=\"color: #7fbf7f; text-decoration-color: #7fbf7f\">│   </span><span style=\"color: #008000; text-decoration-color: #008000\">'Khởi động và Khám phá trực quan: Giáo viên sử dụng vật thật (ví dụ: vòng tròn, thước kẻ) hoặc hình ảnh/video minh họa để đặt vấn đề. Tổ chức hoạt động \"Dự đoán nhanh\" theo cặp/nhóm nhỏ, yêu cầu học sinh vẽ hoặc mô tả các trường hợp đường thẳng và đường tròn có thể gặp nhau.'</span>,\n",
       "<span style=\"color: #7fbf7f; text-decoration-color: #7fbf7f\">│   </span><span style=\"color: #008000; text-decoration-color: #008000\">'Xây dựng kiến thức: Các vị trí tương đối và dấu hiệu nhận biết: Chia lớp thành các nhóm nhỏ. Mỗi nhóm được cung cấp phiếu học tập có hình vẽ/mô hình đường tròn và đường thẳng. Yêu cầu các nhóm thực hiện đo đạc (nếu có mô hình) hoặc phân tích hình vẽ để xác định mối quan hệ giữa khoảng cách từ tâm đến đường thẳng (d) và bán kính (R) trong từng trường hợp. Thảo luận nhóm để rút ra kết luận và hoàn thành bảng tổng hợp. Giáo viên đi lại hỗ trợ, đặt câu hỏi gợi mở và chuẩn hóa kiến thức sau khi các nhóm trình bày.'</span>,\n",
       "<span style=\"color: #7fbf7f; text-decoration-color: #7fbf7f\">│   </span><span style=\"color: #008000; text-decoration-color: #008000\">'Luyện tập và Vận dụng cơ bản: Giáo viên giao các bài tập vận dụng (có thể là bài tập trắc nghiệm, điền khuyết hoặc bài tập tính toán đơn giản) cho các nhóm. Các nhóm cùng nhau thảo luận và giải quyết bài tập. Giáo viên quan sát, hỗ trợ các nhóm yếu và khuyến khích học sinh khá hướng dẫn bạn. Mời đại diện một số nhóm trình bày kết quả và giải thích.'</span>,\n",
       "<span style=\"color: #7fbf7f; text-decoration-color: #7fbf7f\">│   </span><span style=\"color: #008000; text-decoration-color: #008000\">'Tổng kết và Giao nhiệm vụ về nhà: Giáo viên tổ chức hoạt động \"Tóm tắt 3-2-1\" (3 điều học được, 2 điều còn thắc mắc, 1 điều muốn tìm hiểu thêm) hoặc yêu cầu các nhóm lập sơ đồ tư duy nhanh về bài học. Giáo viên tổng kết các ý chính, giải đáp thắc mắc và giao bài tập về nhà, khuyến khích học sinh tìm kiếm các ví dụ thực tế về vị trí tương đối của đường thẳng và đường tròn.'</span>\n",
       "<span style=\"font-weight: bold\">]</span>\n",
       "</pre>\n"
      ],
      "text/plain": [
       "\u001b[1m[\u001b[0m\n",
       "\u001b[2;32m│   \u001b[0m\u001b[32m'Khởi động và Khám phá trực quan: Giáo viên sử dụng vật thật \u001b[0m\u001b[32m(\u001b[0m\u001b[32mví dụ: vòng tròn, thước kẻ\u001b[0m\u001b[32m)\u001b[0m\u001b[32m hoặc hình ảnh/video minh họa để đặt vấn đề. Tổ chức hoạt động \"Dự đoán nhanh\" theo cặp/nhóm nhỏ, yêu cầu học sinh vẽ hoặc mô tả các trường hợp đường thẳng và đường tròn có thể gặp nhau.'\u001b[0m,\n",
       "\u001b[2;32m│   \u001b[0m\u001b[32m'Xây dựng kiến thức: Các vị trí tương đối và dấu hiệu nhận biết: Chia lớp thành các nhóm nhỏ. Mỗi nhóm được cung cấp phiếu học tập có hình vẽ/mô hình đường tròn và đường thẳng. Yêu cầu các nhóm thực hiện đo đạc \u001b[0m\u001b[32m(\u001b[0m\u001b[32mnếu có mô hình\u001b[0m\u001b[32m)\u001b[0m\u001b[32m hoặc phân tích hình vẽ để xác định mối quan hệ giữa khoảng cách từ tâm đến đường thẳng \u001b[0m\u001b[32m(\u001b[0m\u001b[32md\u001b[0m\u001b[32m)\u001b[0m\u001b[32m và bán kính \u001b[0m\u001b[32m(\u001b[0m\u001b[32mR\u001b[0m\u001b[32m)\u001b[0m\u001b[32m trong từng trường hợp. Thảo luận nhóm để rút ra kết luận và hoàn thành bảng tổng hợp. Giáo viên đi lại hỗ trợ, đặt câu hỏi gợi mở và chuẩn hóa kiến thức sau khi các nhóm trình bày.'\u001b[0m,\n",
       "\u001b[2;32m│   \u001b[0m\u001b[32m'Luyện tập và Vận dụng cơ bản: Giáo viên giao các bài tập vận dụng \u001b[0m\u001b[32m(\u001b[0m\u001b[32mcó thể là bài tập trắc nghiệm, điền khuyết hoặc bài tập tính toán đơn giản\u001b[0m\u001b[32m)\u001b[0m\u001b[32m cho các nhóm. Các nhóm cùng nhau thảo luận và giải quyết bài tập. Giáo viên quan sát, hỗ trợ các nhóm yếu và khuyến khích học sinh khá hướng dẫn bạn. Mời đại diện một số nhóm trình bày kết quả và giải thích.'\u001b[0m,\n",
       "\u001b[2;32m│   \u001b[0m\u001b[32m'Tổng kết và Giao nhiệm vụ về nhà: Giáo viên tổ chức hoạt động \"Tóm tắt 3-2-1\" \u001b[0m\u001b[32m(\u001b[0m\u001b[32m3 điều học được, 2 điều còn thắc mắc, 1 điều muốn tìm hiểu thêm\u001b[0m\u001b[32m)\u001b[0m\u001b[32m hoặc yêu cầu các nhóm lập sơ đồ tư duy nhanh về bài học. Giáo viên tổng kết các ý chính, giải đáp thắc mắc và giao bài tập về nhà, khuyến khích học sinh tìm kiếm các ví dụ thực tế về vị trí tương đối của đường thẳng và đường tròn.'\u001b[0m\n",
       "\u001b[1m]\u001b[0m\n"
      ]
     },
     "metadata": {},
     "output_type": "display_data"
    },
    {
     "data": {
      "text/html": [
       "<pre style=\"white-space:pre;overflow-x:auto;line-height:normal;font-family:Menlo,'DejaVu Sans Mono',consolas,'Courier New',monospace\">\n",
       "<span style=\"color: #808000; text-decoration-color: #808000; font-weight: bold\">------- Hoàn thành bước: pedagogical_architect -------</span>\n",
       "</pre>\n"
      ],
      "text/plain": [
       "\n",
       "\u001b[1;33m------- Hoàn thành bước: pedagogical_architect -------\u001b[0m\n"
      ]
     },
     "metadata": {},
     "output_type": "display_data"
    },
    {
     "data": {
      "text/html": [
       "<pre style=\"white-space:pre;overflow-x:auto;line-height:normal;font-family:Menlo,'DejaVu Sans Mono',consolas,'Courier New',monospace\">\n",
       "<span style=\"color: #008080; text-decoration-color: #008080; font-weight: bold\">&gt;</span> `Agent: Query Expansion` <span style=\"font-weight: bold\">(</span>v7.<span style=\"color: #008080; text-decoration-color: #008080; font-weight: bold\">5</span><span style=\"font-weight: bold\">)</span> đang phân tích yêu cầu<span style=\"color: #808000; text-decoration-color: #808000\">...</span>\n",
       "</pre>\n"
      ],
      "text/plain": [
       "\n",
       "\u001b[1;36m>\u001b[0m `Agent: Query Expansion` \u001b[1m(\u001b[0mv7.\u001b[1;36m5\u001b[0m\u001b[1m)\u001b[0m đang phân tích yêu cầu\u001b[33m...\u001b[0m\n"
      ]
     },
     "metadata": {},
     "output_type": "display_data"
    },
    {
     "data": {
      "text/html": [
       "<pre style=\"white-space:pre;overflow-x:auto;line-height:normal;font-family:Menlo,'DejaVu Sans Mono',consolas,'Courier New',monospace\"><span style=\"color: #008000; text-decoration-color: #008000; font-weight: bold\">✔️ Các truy vấn tìm kiếm đã được mở rộng:</span>\n",
       "</pre>\n"
      ],
      "text/plain": [
       "\u001b[1;32m✔️ Các truy vấn tìm kiếm đã được mở rộng:\u001b[0m\n"
      ]
     },
     "metadata": {},
     "output_type": "display_data"
    },
    {
     "data": {
      "text/html": [
       "<pre style=\"white-space:pre;overflow-x:auto;line-height:normal;font-family:Menlo,'DejaVu Sans Mono',consolas,'Courier New',monospace\"><span style=\"font-weight: bold\">[</span>\n",
       "<span style=\"color: #7fbf7f; text-decoration-color: #7fbf7f\">│   </span><span style=\"color: #008000; text-decoration-color: #008000\">'Vị trí tương đối của đường thẳng và đường tròn'</span>,\n",
       "<span style=\"color: #7fbf7f; text-decoration-color: #7fbf7f\">│   </span><span style=\"color: #008000; text-decoration-color: #008000\">'Lý thuyết vị trí tương đối đường thẳng và đường tròn'</span>,\n",
       "<span style=\"color: #7fbf7f; text-decoration-color: #7fbf7f\">│   </span><span style=\"color: #008000; text-decoration-color: #008000\">'Bài tập vị trí tương đối của đường thẳng và đường tròn'</span>,\n",
       "<span style=\"color: #7fbf7f; text-decoration-color: #7fbf7f\">│   </span><span style=\"color: #008000; text-decoration-color: #008000\">'Công thức tính khoảng cách từ tâm đến đường thẳng và đường tròn'</span>,\n",
       "<span style=\"color: #7fbf7f; text-decoration-color: #7fbf7f\">│   </span><span style=\"color: #008000; text-decoration-color: #008000\">'Đường thẳng tiếp xúc đường tròn điều kiện'</span>,\n",
       "<span style=\"color: #7fbf7f; text-decoration-color: #7fbf7f\">│   </span><span style=\"color: #008000; text-decoration-color: #008000\">'Giải bài tập vị trí tương đối đường thẳng đường tròn lớp 9'</span>,\n",
       "<span style=\"color: #7fbf7f; text-decoration-color: #7fbf7f\">│   </span><span style=\"color: #008000; text-decoration-color: #008000\">'Chuyên đề vị trí tương đối đường thẳng và đường tròn'</span>,\n",
       "<span style=\"color: #7fbf7f; text-decoration-color: #7fbf7f\">│   </span><span style=\"color: #008000; text-decoration-color: #008000\">'Các trường hợp vị trí tương đối của đường thẳng và đường tròn'</span>,\n",
       "<span style=\"color: #7fbf7f; text-decoration-color: #7fbf7f\">│   </span><span style=\"color: #008000; text-decoration-color: #008000\">'Phương pháp giải bài tập vị trí tương đối đường thẳng đường tròn'</span>,\n",
       "<span style=\"color: #7fbf7f; text-decoration-color: #7fbf7f\">│   </span><span style=\"color: #008000; text-decoration-color: #008000\">'Vị trí tương đối đường thẳng đường tròn có lời giải chi tiết'</span>\n",
       "<span style=\"font-weight: bold\">]</span>\n",
       "</pre>\n"
      ],
      "text/plain": [
       "\u001b[1m[\u001b[0m\n",
       "\u001b[2;32m│   \u001b[0m\u001b[32m'Vị trí tương đối của đường thẳng và đường tròn'\u001b[0m,\n",
       "\u001b[2;32m│   \u001b[0m\u001b[32m'Lý thuyết vị trí tương đối đường thẳng và đường tròn'\u001b[0m,\n",
       "\u001b[2;32m│   \u001b[0m\u001b[32m'Bài tập vị trí tương đối của đường thẳng và đường tròn'\u001b[0m,\n",
       "\u001b[2;32m│   \u001b[0m\u001b[32m'Công thức tính khoảng cách từ tâm đến đường thẳng và đường tròn'\u001b[0m,\n",
       "\u001b[2;32m│   \u001b[0m\u001b[32m'Đường thẳng tiếp xúc đường tròn điều kiện'\u001b[0m,\n",
       "\u001b[2;32m│   \u001b[0m\u001b[32m'Giải bài tập vị trí tương đối đường thẳng đường tròn lớp 9'\u001b[0m,\n",
       "\u001b[2;32m│   \u001b[0m\u001b[32m'Chuyên đề vị trí tương đối đường thẳng và đường tròn'\u001b[0m,\n",
       "\u001b[2;32m│   \u001b[0m\u001b[32m'Các trường hợp vị trí tương đối của đường thẳng và đường tròn'\u001b[0m,\n",
       "\u001b[2;32m│   \u001b[0m\u001b[32m'Phương pháp giải bài tập vị trí tương đối đường thẳng đường tròn'\u001b[0m,\n",
       "\u001b[2;32m│   \u001b[0m\u001b[32m'Vị trí tương đối đường thẳng đường tròn có lời giải chi tiết'\u001b[0m\n",
       "\u001b[1m]\u001b[0m\n"
      ]
     },
     "metadata": {},
     "output_type": "display_data"
    },
    {
     "data": {
      "text/html": [
       "<pre style=\"white-space:pre;overflow-x:auto;line-height:normal;font-family:Menlo,'DejaVu Sans Mono',consolas,'Courier New',monospace\">\n",
       "<span style=\"color: #808000; text-decoration-color: #808000; font-weight: bold\">------- Hoàn thành bước: query_expansion -------</span>\n",
       "</pre>\n"
      ],
      "text/plain": [
       "\n",
       "\u001b[1;33m------- Hoàn thành bước: query_expansion -------\u001b[0m\n"
      ]
     },
     "metadata": {},
     "output_type": "display_data"
    },
    {
     "data": {
      "text/html": [
       "<pre style=\"white-space:pre;overflow-x:auto;line-height:normal;font-family:Menlo,'DejaVu Sans Mono',consolas,'Courier New',monospace\">\n",
       "<span style=\"color: #008080; text-decoration-color: #008080; font-weight: bold\">&gt;</span> `Agent: Resource Scout` <span style=\"font-weight: bold\">(</span>v8.<span style=\"color: #008080; text-decoration-color: #008080; font-weight: bold\">1</span> - Sửa lỗi<span style=\"font-weight: bold\">)</span> đang tìm kiếm và sàng lọc<span style=\"color: #808000; text-decoration-color: #808000\">...</span>\n",
       "</pre>\n"
      ],
      "text/plain": [
       "\n",
       "\u001b[1;36m>\u001b[0m `Agent: Resource Scout` \u001b[1m(\u001b[0mv8.\u001b[1;36m1\u001b[0m - Sửa lỗi\u001b[1m)\u001b[0m đang tìm kiếm và sàng lọc\u001b[33m...\u001b[0m\n"
      ]
     },
     "metadata": {},
     "output_type": "display_data"
    },
    {
     "data": {
      "text/html": [
       "<pre style=\"white-space:pre;overflow-x:auto;line-height:normal;font-family:Menlo,'DejaVu Sans Mono',consolas,'Courier New',monospace\">\n",
       "<span style=\"color: #008080; text-decoration-color: #008080; font-weight: bold\">&gt;</span> Tìm thấy <span style=\"color: #008080; text-decoration-color: #008080; font-weight: bold\">50</span> tài liệu, sàng lọc còn <span style=\"color: #008080; text-decoration-color: #008080; font-weight: bold\">8</span> đoạn văn bản độc nhất.\n",
       "</pre>\n"
      ],
      "text/plain": [
       "\n",
       "\u001b[1;36m>\u001b[0m Tìm thấy \u001b[1;36m50\u001b[0m tài liệu, sàng lọc còn \u001b[1;36m8\u001b[0m đoạn văn bản độc nhất.\n"
      ]
     },
     "metadata": {},
     "output_type": "display_data"
    },
    {
     "data": {
      "text/html": [
       "<pre style=\"white-space:pre;overflow-x:auto;line-height:normal;font-family:Menlo,'DejaVu Sans Mono',consolas,'Courier New',monospace\"><span style=\"color: #008000; text-decoration-color: #008000; font-weight: bold\">✔️ Tài liệu RAG cuối cùng:</span>\n",
       "</pre>\n"
      ],
      "text/plain": [
       "\u001b[1;32m✔️ Tài liệu RAG cuối cùng:\u001b[0m\n"
      ]
     },
     "metadata": {},
     "output_type": "display_data"
    },
    {
     "data": {
      "text/html": [
       "<pre style=\"white-space:pre;overflow-x:auto;line-height:normal;font-family:Menlo,'DejaVu Sans Mono',consolas,'Courier New',monospace\"><span style=\"font-weight: bold\">{</span>\n",
       "<span style=\"color: #7fbf7f; text-decoration-color: #7fbf7f\">│   </span><span style=\"color: #008000; text-decoration-color: #008000\">'source'</span>: <span style=\"color: #008000; text-decoration-color: #008000\">'Sách giáo khoa (từ RAG - đã sàng lọc)'</span>,\n",
       "<span style=\"color: #7fbf7f; text-decoration-color: #7fbf7f\">│   </span><span style=\"color: #008000; text-decoration-color: #008000\">'summary'</span>: <span style=\"color: #008000; text-decoration-color: #008000\">'Chào các em,\\n\\nHôm nay, chúng ta sẽ cùng nhau tóm tắt kiến thức cốt lõi về chủ đề \"VỊ TRÍ TƯƠNG ĐỐI CỦA ĐƯỜNG THẲNG VÀ ĐƯỜNG TRÒN\" dựa trên các tài liệu chúng ta đã học nhé.\\n\\nSau khi xem xét kỹ lưỡng các đoạn văn bản được cung cấp, thầy/cô nhận thấy rằng **thông tin cụ thể về \"VỊ TRÍ TƯƠNG ĐỐI CỦA ĐƯỜNG THẲNG VÀ ĐƯỜNG TRÒN\" (như các trường hợp đường thẳng cắt đường tròn tại hai điểm, tiếp xúc với đường tròn, hay không cắt đường tròn) không có trong tài liệu tham khảo này.**\\n\\nDo đó, thầy/cô không thể tóm tắt kiến thức cốt lõi về chủ đề này dựa trên các đoạn văn bản đã cho. Để hiểu rõ hơn về \"VỊ TRÍ TƯƠNG ĐỐI CỦA ĐƯỜNG THẲNG VÀ ĐƯỜNG TRÒN\", chúng ta sẽ cần tham khảo thêm các nguồn tài liệu khác nhé các em.'</span>\n",
       "<span style=\"font-weight: bold\">}</span>\n",
       "</pre>\n"
      ],
      "text/plain": [
       "\u001b[1m{\u001b[0m\n",
       "\u001b[2;32m│   \u001b[0m\u001b[32m'source'\u001b[0m: \u001b[32m'Sách giáo khoa \u001b[0m\u001b[32m(\u001b[0m\u001b[32mtừ RAG - đã sàng lọc\u001b[0m\u001b[32m)\u001b[0m\u001b[32m'\u001b[0m,\n",
       "\u001b[2;32m│   \u001b[0m\u001b[32m'summary'\u001b[0m: \u001b[32m'Chào các em,\\n\\nHôm nay, chúng ta sẽ cùng nhau tóm tắt kiến thức cốt lõi về chủ đề \"VỊ TRÍ TƯƠNG ĐỐI CỦA ĐƯỜNG THẲNG VÀ ĐƯỜNG TRÒN\" dựa trên các tài liệu chúng ta đã học nhé.\\n\\nSau khi xem xét kỹ lưỡng các đoạn văn bản được cung cấp, thầy/cô nhận thấy rằng **thông tin cụ thể về \"VỊ TRÍ TƯƠNG ĐỐI CỦA ĐƯỜNG THẲNG VÀ ĐƯỜNG TRÒN\" \u001b[0m\u001b[32m(\u001b[0m\u001b[32mnhư các trường hợp đường thẳng cắt đường tròn tại hai điểm, tiếp xúc với đường tròn, hay không cắt đường tròn\u001b[0m\u001b[32m)\u001b[0m\u001b[32m không có trong tài liệu tham khảo này.**\\n\\nDo đó, thầy/cô không thể tóm tắt kiến thức cốt lõi về chủ đề này dựa trên các đoạn văn bản đã cho. Để hiểu rõ hơn về \"VỊ TRÍ TƯƠNG ĐỐI CỦA ĐƯỜNG THẲNG VÀ ĐƯỜNG TRÒN\", chúng ta sẽ cần tham khảo thêm các nguồn tài liệu khác nhé các em.'\u001b[0m\n",
       "\u001b[1m}\u001b[0m\n"
      ]
     },
     "metadata": {},
     "output_type": "display_data"
    },
    {
     "data": {
      "text/html": [
       "<pre style=\"white-space:pre;overflow-x:auto;line-height:normal;font-family:Menlo,'DejaVu Sans Mono',consolas,'Courier New',monospace\">\n",
       "<span style=\"color: #808000; text-decoration-color: #808000; font-weight: bold\">------- Hoàn thành bước: resource_scout -------</span>\n",
       "</pre>\n"
      ],
      "text/plain": [
       "\n",
       "\u001b[1;33m------- Hoàn thành bước: resource_scout -------\u001b[0m\n"
      ]
     },
     "metadata": {},
     "output_type": "display_data"
    },
    {
     "data": {
      "text/html": [
       "<pre style=\"white-space:pre;overflow-x:auto;line-height:normal;font-family:Menlo,'DejaVu Sans Mono',consolas,'Courier New',monospace\">\n",
       "<span style=\"color: #008080; text-decoration-color: #008080; font-weight: bold\">&gt;</span> `Agent: Headmaster Delegator` <span style=\"font-weight: bold\">(</span>v13.<span style=\"color: #008080; text-decoration-color: #008080; font-weight: bold\">1</span> - Giao việc Thông minh<span style=\"font-weight: bold\">)</span> đang chỉ đạo<span style=\"color: #808000; text-decoration-color: #808000\">...</span>\n",
       "</pre>\n"
      ],
      "text/plain": [
       "\n",
       "\u001b[1;36m>\u001b[0m `Agent: Headmaster Delegator` \u001b[1m(\u001b[0mv13.\u001b[1;36m1\u001b[0m - Giao việc Thông minh\u001b[1m)\u001b[0m đang chỉ đạo\u001b[33m...\u001b[0m\n"
      ]
     },
     "metadata": {},
     "output_type": "display_data"
    },
    {
     "data": {
      "text/html": [
       "<pre style=\"white-space:pre;overflow-x:auto;line-height:normal;font-family:Menlo,'DejaVu Sans Mono',consolas,'Courier New',monospace\"><span style=\"color: #008000; text-decoration-color: #008000; font-weight: bold\">✔️ Đã tạo </span><span style=\"color: #008000; text-decoration-color: #008000; font-weight: bold\">5</span><span style=\"color: #008000; text-decoration-color: #008000; font-weight: bold\"> nhiệm vụ với chỉ dẫn chi tiết:</span>\n",
       "</pre>\n"
      ],
      "text/plain": [
       "\u001b[1;32m✔️ Đã tạo \u001b[0m\u001b[1;32m5\u001b[0m\u001b[1;32m nhiệm vụ với chỉ dẫn chi tiết:\u001b[0m\n"
      ]
     },
     "metadata": {},
     "output_type": "display_data"
    },
    {
     "data": {
      "text/html": [
       "<pre style=\"white-space:pre;overflow-x:auto;line-height:normal;font-family:Menlo,'DejaVu Sans Mono',consolas,'Courier New',monospace\"><span style=\"font-weight: bold\">[</span>\n",
       "<span style=\"color: #7fbf7f; text-decoration-color: #7fbf7f\">│   </span><span style=\"font-weight: bold\">{</span>\n",
       "<span style=\"color: #7fbf7f; text-decoration-color: #7fbf7f\">│   │   </span><span style=\"color: #008000; text-decoration-color: #008000\">'task_id'</span>: <span style=\"color: #008080; text-decoration-color: #008080; font-weight: bold\">0</span>,\n",
       "<span style=\"color: #7fbf7f; text-decoration-color: #7fbf7f\">│   │   </span><span style=\"color: #008000; text-decoration-color: #008000\">'task_name'</span>: <span style=\"color: #008000; text-decoration-color: #008000\">'Khởi động và Đặt vấn đề về vị trí tương đối'</span>,\n",
       "<span style=\"color: #7fbf7f; text-decoration-color: #7fbf7f\">│   │   </span><span style=\"color: #008000; text-decoration-color: #008000\">'task_description'</span>: <span style=\"color: #008000; text-decoration-color: #008000\">'Giáo viên sử dụng vật thật hoặc hình ảnh/video để giới thiệu chủ đề. Tổ chức hoạt động \"Dự đoán nhanh\" theo cặp/nhóm nhỏ, yêu cầu học sinh vẽ hoặc mô tả các trường hợp đường thẳng và đường tròn có thể gặp nhau.'</span>,\n",
       "<span style=\"color: #7fbf7f; text-decoration-color: #7fbf7f\">│   │   </span><span style=\"color: #008000; text-decoration-color: #008000\">'estimated_duration'</span>: <span style=\"color: #008080; text-decoration-color: #008080; font-weight: bold\">15</span>,\n",
       "<span style=\"color: #7fbf7f; text-decoration-color: #7fbf7f\">│   │   </span><span style=\"color: #008000; text-decoration-color: #008000\">'guidance'</span>: <span style=\"color: #008000; text-decoration-color: #008000\">'Chuẩn bị vật thật/hình ảnh, tổ chức hoạt động dự đoán, thu thập ý tưởng ban đầu của học sinh.'</span>,\n",
       "<span style=\"color: #7fbf7f; text-decoration-color: #7fbf7f\">│   │   </span><span style=\"color: #008000; text-decoration-color: #008000\">'status'</span>: <span style=\"color: #008000; text-decoration-color: #008000\">'pending'</span>\n",
       "<span style=\"color: #7fbf7f; text-decoration-color: #7fbf7f\">│   </span><span style=\"font-weight: bold\">}</span>,\n",
       "<span style=\"color: #7fbf7f; text-decoration-color: #7fbf7f\">│   </span><span style=\"font-weight: bold\">{</span>\n",
       "<span style=\"color: #7fbf7f; text-decoration-color: #7fbf7f\">│   │   </span><span style=\"color: #008000; text-decoration-color: #008000\">'task_id'</span>: <span style=\"color: #008080; text-decoration-color: #008080; font-weight: bold\">1</span>,\n",
       "<span style=\"color: #7fbf7f; text-decoration-color: #7fbf7f\">│   │   </span><span style=\"color: #008000; text-decoration-color: #008000\">'task_name'</span>: <span style=\"color: #008000; text-decoration-color: #008000\">'Khám phá và Xây dựng kiến thức về các vị trí tương đối'</span>,\n",
       "<span style=\"color: #7fbf7f; text-decoration-color: #7fbf7f\">│   │   </span><span style=\"color: #008000; text-decoration-color: #008000\">'task_description'</span>: <span style=\"color: #008000; text-decoration-color: #008000\">'Chia lớp thành các nhóm nhỏ. Mỗi nhóm được cung cấp phiếu học tập có hình vẽ/mô hình đường tròn và đường thẳng. Yêu cầu các nhóm phân tích hình vẽ/mô hình để xác định mối quan hệ giữa khoảng cách từ tâm đến đường thẳng (d) và bán kính (R) trong từng trường hợp.'</span>,\n",
       "<span style=\"color: #7fbf7f; text-decoration-color: #7fbf7f\">│   │   </span><span style=\"color: #008000; text-decoration-color: #008000\">'estimated_duration'</span>: <span style=\"color: #008080; text-decoration-color: #008080; font-weight: bold\">30</span>,\n",
       "<span style=\"color: #7fbf7f; text-decoration-color: #7fbf7f\">│   │   </span><span style=\"color: #008000; text-decoration-color: #008000\">'guidance'</span>: <span style=\"color: #008000; text-decoration-color: #008000\">'Hướng dẫn nhóm phân tích, đo đạc (nếu có), và ghi nhận mối quan hệ d và R.'</span>,\n",
       "<span style=\"color: #7fbf7f; text-decoration-color: #7fbf7f\">│   │   </span><span style=\"color: #008000; text-decoration-color: #008000\">'status'</span>: <span style=\"color: #008000; text-decoration-color: #008000\">'pending'</span>\n",
       "<span style=\"color: #7fbf7f; text-decoration-color: #7fbf7f\">│   </span><span style=\"font-weight: bold\">}</span>,\n",
       "<span style=\"color: #7fbf7f; text-decoration-color: #7fbf7f\">│   </span><span style=\"font-weight: bold\">{</span>\n",
       "<span style=\"color: #7fbf7f; text-decoration-color: #7fbf7f\">│   │   </span><span style=\"color: #008000; text-decoration-color: #008000\">'task_id'</span>: <span style=\"color: #008080; text-decoration-color: #008080; font-weight: bold\">2</span>,\n",
       "<span style=\"color: #7fbf7f; text-decoration-color: #7fbf7f\">│   │   </span><span style=\"color: #008000; text-decoration-color: #008000\">'task_name'</span>: <span style=\"color: #008000; text-decoration-color: #008000\">'Thảo luận nhóm và Chuẩn hóa kiến thức'</span>,\n",
       "<span style=\"color: #7fbf7f; text-decoration-color: #7fbf7f\">│   │   </span><span style=\"color: #008000; text-decoration-color: #008000\">'task_description'</span>: <span style=\"color: #008000; text-decoration-color: #008000\">'Các nhóm thảo luận để rút ra kết luận và hoàn thành bảng tổng hợp về các vị trí tương đối của đường thẳng và đường tròn. Giáo viên đi lại hỗ trợ, đặt câu hỏi gợi mở và chuẩn hóa kiến thức sau khi các nhóm trình bày kết quả.'</span>,\n",
       "<span style=\"color: #7fbf7f; text-decoration-color: #7fbf7f\">│   │   </span><span style=\"color: #008000; text-decoration-color: #008000\">'estimated_duration'</span>: <span style=\"color: #008080; text-decoration-color: #008080; font-weight: bold\">15</span>,\n",
       "<span style=\"color: #7fbf7f; text-decoration-color: #7fbf7f\">│   │   </span><span style=\"color: #008000; text-decoration-color: #008000\">'guidance'</span>: <span style=\"color: #008000; text-decoration-color: #008000\">'Tổ chức thảo luận nhóm, chuẩn hóa kiến thức dựa trên kết quả của học sinh.'</span>,\n",
       "<span style=\"color: #7fbf7f; text-decoration-color: #7fbf7f\">│   │   </span><span style=\"color: #008000; text-decoration-color: #008000\">'status'</span>: <span style=\"color: #008000; text-decoration-color: #008000\">'pending'</span>\n",
       "<span style=\"color: #7fbf7f; text-decoration-color: #7fbf7f\">│   </span><span style=\"font-weight: bold\">}</span>,\n",
       "<span style=\"color: #7fbf7f; text-decoration-color: #7fbf7f\">│   </span><span style=\"font-weight: bold\">{</span>\n",
       "<span style=\"color: #7fbf7f; text-decoration-color: #7fbf7f\">│   │   </span><span style=\"color: #008000; text-decoration-color: #008000\">'task_id'</span>: <span style=\"color: #008080; text-decoration-color: #008080; font-weight: bold\">3</span>,\n",
       "<span style=\"color: #7fbf7f; text-decoration-color: #7fbf7f\">│   │   </span><span style=\"color: #008000; text-decoration-color: #008000\">'task_name'</span>: <span style=\"color: #008000; text-decoration-color: #008000\">'Luyện tập và Vận dụng các kiến thức cơ bản'</span>,\n",
       "<span style=\"color: #7fbf7f; text-decoration-color: #7fbf7f\">│   │   </span><span style=\"color: #008000; text-decoration-color: #008000\">'task_description'</span>: <span style=\"color: #008000; text-decoration-color: #008000\">'Giáo viên giao các bài tập vận dụng (trắc nghiệm, điền khuyết, tính toán đơn giản) cho các nhóm. Các nhóm cùng nhau thảo luận và giải quyết bài tập. Mời đại diện một số nhóm trình bày kết quả và giải thích.'</span>,\n",
       "<span style=\"color: #7fbf7f; text-decoration-color: #7fbf7f\">│   │   </span><span style=\"color: #008000; text-decoration-color: #008000\">'estimated_duration'</span>: <span style=\"color: #008080; text-decoration-color: #008080; font-weight: bold\">20</span>,\n",
       "<span style=\"color: #7fbf7f; text-decoration-color: #7fbf7f\">│   │   </span><span style=\"color: #008000; text-decoration-color: #008000\">'guidance'</span>: <span style=\"color: #008000; text-decoration-color: #008000\">'Giao bài tập, hỗ trợ nhóm yếu, khuyến khích học sinh trình bày.'</span>,\n",
       "<span style=\"color: #7fbf7f; text-decoration-color: #7fbf7f\">│   │   </span><span style=\"color: #008000; text-decoration-color: #008000\">'status'</span>: <span style=\"color: #008000; text-decoration-color: #008000\">'pending'</span>\n",
       "<span style=\"color: #7fbf7f; text-decoration-color: #7fbf7f\">│   </span><span style=\"font-weight: bold\">}</span>,\n",
       "<span style=\"color: #7fbf7f; text-decoration-color: #7fbf7f\">│   </span><span style=\"font-weight: bold\">{</span>\n",
       "<span style=\"color: #7fbf7f; text-decoration-color: #7fbf7f\">│   │   </span><span style=\"color: #008000; text-decoration-color: #008000\">'task_id'</span>: <span style=\"color: #008080; text-decoration-color: #008080; font-weight: bold\">4</span>,\n",
       "<span style=\"color: #7fbf7f; text-decoration-color: #7fbf7f\">│   │   </span><span style=\"color: #008000; text-decoration-color: #008000\">'task_name'</span>: <span style=\"color: #008000; text-decoration-color: #008000\">'Tổng kết bài học và Giao nhiệm vụ về nhà'</span>,\n",
       "<span style=\"color: #7fbf7f; text-decoration-color: #7fbf7f\">│   │   </span><span style=\"color: #008000; text-decoration-color: #008000\">'task_description'</span>: <span style=\"color: #008000; text-decoration-color: #008000\">'Giáo viên tổ chức hoạt động \"Tóm tắt 3-2-1\" hoặc yêu cầu các nhóm lập sơ đồ tư duy nhanh về bài học. Giáo viên tổng kết các ý chính, giải đáp thắc mắc và giao bài tập về nhà, khuyến khích học sinh tìm kiếm các ví dụ thực tế.'</span>,\n",
       "<span style=\"color: #7fbf7f; text-decoration-color: #7fbf7f\">│   │   </span><span style=\"color: #008000; text-decoration-color: #008000\">'estimated_duration'</span>: <span style=\"color: #008080; text-decoration-color: #008080; font-weight: bold\">10</span>,\n",
       "<span style=\"color: #7fbf7f; text-decoration-color: #7fbf7f\">│   │   </span><span style=\"color: #008000; text-decoration-color: #008000\">'guidance'</span>: <span style=\"color: #008000; text-decoration-color: #008000\">'Tổ chức hoạt động tổng kết, giải đáp thắc mắc, giao bài tập về nhà.'</span>,\n",
       "<span style=\"color: #7fbf7f; text-decoration-color: #7fbf7f\">│   │   </span><span style=\"color: #008000; text-decoration-color: #008000\">'status'</span>: <span style=\"color: #008000; text-decoration-color: #008000\">'pending'</span>\n",
       "<span style=\"color: #7fbf7f; text-decoration-color: #7fbf7f\">│   </span><span style=\"font-weight: bold\">}</span>\n",
       "<span style=\"font-weight: bold\">]</span>\n",
       "</pre>\n"
      ],
      "text/plain": [
       "\u001b[1m[\u001b[0m\n",
       "\u001b[2;32m│   \u001b[0m\u001b[1m{\u001b[0m\n",
       "\u001b[2;32m│   │   \u001b[0m\u001b[32m'task_id'\u001b[0m: \u001b[1;36m0\u001b[0m,\n",
       "\u001b[2;32m│   │   \u001b[0m\u001b[32m'task_name'\u001b[0m: \u001b[32m'Khởi động và Đặt vấn đề về vị trí tương đối'\u001b[0m,\n",
       "\u001b[2;32m│   │   \u001b[0m\u001b[32m'task_description'\u001b[0m: \u001b[32m'Giáo viên sử dụng vật thật hoặc hình ảnh/video để giới thiệu chủ đề. Tổ chức hoạt động \"Dự đoán nhanh\" theo cặp/nhóm nhỏ, yêu cầu học sinh vẽ hoặc mô tả các trường hợp đường thẳng và đường tròn có thể gặp nhau.'\u001b[0m,\n",
       "\u001b[2;32m│   │   \u001b[0m\u001b[32m'estimated_duration'\u001b[0m: \u001b[1;36m15\u001b[0m,\n",
       "\u001b[2;32m│   │   \u001b[0m\u001b[32m'guidance'\u001b[0m: \u001b[32m'Chuẩn bị vật thật/hình ảnh, tổ chức hoạt động dự đoán, thu thập ý tưởng ban đầu của học sinh.'\u001b[0m,\n",
       "\u001b[2;32m│   │   \u001b[0m\u001b[32m'status'\u001b[0m: \u001b[32m'pending'\u001b[0m\n",
       "\u001b[2;32m│   \u001b[0m\u001b[1m}\u001b[0m,\n",
       "\u001b[2;32m│   \u001b[0m\u001b[1m{\u001b[0m\n",
       "\u001b[2;32m│   │   \u001b[0m\u001b[32m'task_id'\u001b[0m: \u001b[1;36m1\u001b[0m,\n",
       "\u001b[2;32m│   │   \u001b[0m\u001b[32m'task_name'\u001b[0m: \u001b[32m'Khám phá và Xây dựng kiến thức về các vị trí tương đối'\u001b[0m,\n",
       "\u001b[2;32m│   │   \u001b[0m\u001b[32m'task_description'\u001b[0m: \u001b[32m'Chia lớp thành các nhóm nhỏ. Mỗi nhóm được cung cấp phiếu học tập có hình vẽ/mô hình đường tròn và đường thẳng. Yêu cầu các nhóm phân tích hình vẽ/mô hình để xác định mối quan hệ giữa khoảng cách từ tâm đến đường thẳng \u001b[0m\u001b[32m(\u001b[0m\u001b[32md\u001b[0m\u001b[32m)\u001b[0m\u001b[32m và bán kính \u001b[0m\u001b[32m(\u001b[0m\u001b[32mR\u001b[0m\u001b[32m)\u001b[0m\u001b[32m trong từng trường hợp.'\u001b[0m,\n",
       "\u001b[2;32m│   │   \u001b[0m\u001b[32m'estimated_duration'\u001b[0m: \u001b[1;36m30\u001b[0m,\n",
       "\u001b[2;32m│   │   \u001b[0m\u001b[32m'guidance'\u001b[0m: \u001b[32m'Hướng dẫn nhóm phân tích, đo đạc \u001b[0m\u001b[32m(\u001b[0m\u001b[32mnếu có\u001b[0m\u001b[32m)\u001b[0m\u001b[32m, và ghi nhận mối quan hệ d và R.'\u001b[0m,\n",
       "\u001b[2;32m│   │   \u001b[0m\u001b[32m'status'\u001b[0m: \u001b[32m'pending'\u001b[0m\n",
       "\u001b[2;32m│   \u001b[0m\u001b[1m}\u001b[0m,\n",
       "\u001b[2;32m│   \u001b[0m\u001b[1m{\u001b[0m\n",
       "\u001b[2;32m│   │   \u001b[0m\u001b[32m'task_id'\u001b[0m: \u001b[1;36m2\u001b[0m,\n",
       "\u001b[2;32m│   │   \u001b[0m\u001b[32m'task_name'\u001b[0m: \u001b[32m'Thảo luận nhóm và Chuẩn hóa kiến thức'\u001b[0m,\n",
       "\u001b[2;32m│   │   \u001b[0m\u001b[32m'task_description'\u001b[0m: \u001b[32m'Các nhóm thảo luận để rút ra kết luận và hoàn thành bảng tổng hợp về các vị trí tương đối của đường thẳng và đường tròn. Giáo viên đi lại hỗ trợ, đặt câu hỏi gợi mở và chuẩn hóa kiến thức sau khi các nhóm trình bày kết quả.'\u001b[0m,\n",
       "\u001b[2;32m│   │   \u001b[0m\u001b[32m'estimated_duration'\u001b[0m: \u001b[1;36m15\u001b[0m,\n",
       "\u001b[2;32m│   │   \u001b[0m\u001b[32m'guidance'\u001b[0m: \u001b[32m'Tổ chức thảo luận nhóm, chuẩn hóa kiến thức dựa trên kết quả của học sinh.'\u001b[0m,\n",
       "\u001b[2;32m│   │   \u001b[0m\u001b[32m'status'\u001b[0m: \u001b[32m'pending'\u001b[0m\n",
       "\u001b[2;32m│   \u001b[0m\u001b[1m}\u001b[0m,\n",
       "\u001b[2;32m│   \u001b[0m\u001b[1m{\u001b[0m\n",
       "\u001b[2;32m│   │   \u001b[0m\u001b[32m'task_id'\u001b[0m: \u001b[1;36m3\u001b[0m,\n",
       "\u001b[2;32m│   │   \u001b[0m\u001b[32m'task_name'\u001b[0m: \u001b[32m'Luyện tập và Vận dụng các kiến thức cơ bản'\u001b[0m,\n",
       "\u001b[2;32m│   │   \u001b[0m\u001b[32m'task_description'\u001b[0m: \u001b[32m'Giáo viên giao các bài tập vận dụng \u001b[0m\u001b[32m(\u001b[0m\u001b[32mtrắc nghiệm, điền khuyết, tính toán đơn giản\u001b[0m\u001b[32m)\u001b[0m\u001b[32m cho các nhóm. Các nhóm cùng nhau thảo luận và giải quyết bài tập. Mời đại diện một số nhóm trình bày kết quả và giải thích.'\u001b[0m,\n",
       "\u001b[2;32m│   │   \u001b[0m\u001b[32m'estimated_duration'\u001b[0m: \u001b[1;36m20\u001b[0m,\n",
       "\u001b[2;32m│   │   \u001b[0m\u001b[32m'guidance'\u001b[0m: \u001b[32m'Giao bài tập, hỗ trợ nhóm yếu, khuyến khích học sinh trình bày.'\u001b[0m,\n",
       "\u001b[2;32m│   │   \u001b[0m\u001b[32m'status'\u001b[0m: \u001b[32m'pending'\u001b[0m\n",
       "\u001b[2;32m│   \u001b[0m\u001b[1m}\u001b[0m,\n",
       "\u001b[2;32m│   \u001b[0m\u001b[1m{\u001b[0m\n",
       "\u001b[2;32m│   │   \u001b[0m\u001b[32m'task_id'\u001b[0m: \u001b[1;36m4\u001b[0m,\n",
       "\u001b[2;32m│   │   \u001b[0m\u001b[32m'task_name'\u001b[0m: \u001b[32m'Tổng kết bài học và Giao nhiệm vụ về nhà'\u001b[0m,\n",
       "\u001b[2;32m│   │   \u001b[0m\u001b[32m'task_description'\u001b[0m: \u001b[32m'Giáo viên tổ chức hoạt động \"Tóm tắt 3-2-1\" hoặc yêu cầu các nhóm lập sơ đồ tư duy nhanh về bài học. Giáo viên tổng kết các ý chính, giải đáp thắc mắc và giao bài tập về nhà, khuyến khích học sinh tìm kiếm các ví dụ thực tế.'\u001b[0m,\n",
       "\u001b[2;32m│   │   \u001b[0m\u001b[32m'estimated_duration'\u001b[0m: \u001b[1;36m10\u001b[0m,\n",
       "\u001b[2;32m│   │   \u001b[0m\u001b[32m'guidance'\u001b[0m: \u001b[32m'Tổ chức hoạt động tổng kết, giải đáp thắc mắc, giao bài tập về nhà.'\u001b[0m,\n",
       "\u001b[2;32m│   │   \u001b[0m\u001b[32m'status'\u001b[0m: \u001b[32m'pending'\u001b[0m\n",
       "\u001b[2;32m│   \u001b[0m\u001b[1m}\u001b[0m\n",
       "\u001b[1m]\u001b[0m\n"
      ]
     },
     "metadata": {},
     "output_type": "display_data"
    },
    {
     "data": {
      "text/html": [
       "<pre style=\"white-space:pre;overflow-x:auto;line-height:normal;font-family:Menlo,'DejaVu Sans Mono',consolas,'Courier New',monospace\">\n",
       "<span style=\"color: #808000; text-decoration-color: #808000; font-weight: bold\">------- Hoàn thành bước: plan_delegator -------</span>\n",
       "</pre>\n"
      ],
      "text/plain": [
       "\n",
       "\u001b[1;33m------- Hoàn thành bước: plan_delegator -------\u001b[0m\n"
      ]
     },
     "metadata": {},
     "output_type": "display_data"
    },
    {
     "data": {
      "text/html": [
       "<pre style=\"white-space:pre;overflow-x:auto;line-height:normal;font-family:Menlo,'DejaVu Sans Mono',consolas,'Courier New',monospace\">\n",
       "<span style=\"color: #008080; text-decoration-color: #008080; font-weight: bold\">&gt;</span> `Router`: Đang kiểm tra nhiệm vụ<span style=\"color: #808000; text-decoration-color: #808000\">...</span>\n",
       "</pre>\n"
      ],
      "text/plain": [
       "\n",
       "\u001b[1;36m>\u001b[0m `Router`: Đang kiểm tra nhiệm vụ\u001b[33m...\u001b[0m\n"
      ]
     },
     "metadata": {},
     "output_type": "display_data"
    },
    {
     "data": {
      "text/html": [
       "<pre style=\"white-space:pre;overflow-x:auto;line-height:normal;font-family:Menlo,'DejaVu Sans Mono',consolas,'Courier New',monospace\">\n",
       "<span style=\"color: #008080; text-decoration-color: #008080; font-weight: bold\">&gt;</span> Nhiệm vụ tiếp theo: <span style=\"color: #008000; text-decoration-color: #008000\">'Khởi động và Đặt vấn đề về vị trí tương đối'</span> <span style=\"font-weight: bold\">(</span>ID: <span style=\"color: #008080; text-decoration-color: #008080; font-weight: bold\">0</span><span style=\"font-weight: bold\">)</span>\n",
       "</pre>\n"
      ],
      "text/plain": [
       "\n",
       "\u001b[1;36m>\u001b[0m Nhiệm vụ tiếp theo: \u001b[32m'Khởi động và Đặt vấn đề về vị trí tương đối'\u001b[0m \u001b[1m(\u001b[0mID: \u001b[1;36m0\u001b[0m\u001b[1m)\u001b[0m\n"
      ]
     },
     "metadata": {},
     "output_type": "display_data"
    },
    {
     "data": {
      "text/html": [
       "<pre style=\"white-space:pre;overflow-x:auto;line-height:normal;font-family:Menlo,'DejaVu Sans Mono',consolas,'Courier New',monospace\">\n",
       "<span style=\"color: #808000; text-decoration-color: #808000; font-weight: bold\">------- Hoàn thành bước: task_router -------</span>\n",
       "</pre>\n"
      ],
      "text/plain": [
       "\n",
       "\u001b[1;33m------- Hoàn thành bước: task_router -------\u001b[0m\n"
      ]
     },
     "metadata": {},
     "output_type": "display_data"
    },
    {
     "data": {
      "text/html": [
       "<pre style=\"white-space:pre;overflow-x:auto;line-height:normal;font-family:Menlo,'DejaVu Sans Mono',consolas,'Courier New',monospace\">\n",
       "<span style=\"color: #008080; text-decoration-color: #008080; font-weight: bold\">&gt;</span> `Agent: Task Dispatcher` đang giao việc<span style=\"color: #808000; text-decoration-color: #808000\">...</span>\n",
       "</pre>\n"
      ],
      "text/plain": [
       "\n",
       "\u001b[1;36m>\u001b[0m `Agent: Task Dispatcher` đang giao việc\u001b[33m...\u001b[0m\n"
      ]
     },
     "metadata": {},
     "output_type": "display_data"
    },
    {
     "data": {
      "text/html": [
       "<pre style=\"white-space:pre;overflow-x:auto;line-height:normal;font-family:Menlo,'DejaVu Sans Mono',consolas,'Courier New',monospace\">\n",
       "<span style=\"color: #008080; text-decoration-color: #008080; font-weight: bold\">&gt;</span> --- 🚚 `Dispatcher`: Giao nhiệm vụ cho `activity_designer`.\n",
       "</pre>\n"
      ],
      "text/plain": [
       "\n",
       "\u001b[1;36m>\u001b[0m --- 🚚 `Dispatcher`: Giao nhiệm vụ cho `activity_designer`.\n"
      ]
     },
     "metadata": {},
     "output_type": "display_data"
    },
    {
     "data": {
      "text/html": [
       "<pre style=\"white-space:pre;overflow-x:auto;line-height:normal;font-family:Menlo,'DejaVu Sans Mono',consolas,'Courier New',monospace\">\n",
       "<span style=\"color: #808000; text-decoration-color: #808000; font-weight: bold\">------- Hoàn thành bước: task_dispatcher -------</span>\n",
       "</pre>\n"
      ],
      "text/plain": [
       "\n",
       "\u001b[1;33m------- Hoàn thành bước: task_dispatcher -------\u001b[0m\n"
      ]
     },
     "metadata": {},
     "output_type": "display_data"
    },
    {
     "data": {
      "text/html": [
       "<pre style=\"white-space:pre;overflow-x:auto;line-height:normal;font-family:Menlo,'DejaVu Sans Mono',consolas,'Courier New',monospace\">\n",
       "<span style=\"color: #008080; text-decoration-color: #008080; font-weight: bold\">&gt;</span> `Agent: Activity Designer` <span style=\"font-weight: bold\">(</span>v13.<span style=\"color: #008080; text-decoration-color: #008080; font-weight: bold\">1</span> - Tư duy Phản tư<span style=\"font-weight: bold\">)</span> đang tạo nội dung<span style=\"color: #808000; text-decoration-color: #808000\">...</span>\n",
       "</pre>\n"
      ],
      "text/plain": [
       "\n",
       "\u001b[1;36m>\u001b[0m `Agent: Activity Designer` \u001b[1m(\u001b[0mv13.\u001b[1;36m1\u001b[0m - Tư duy Phản tư\u001b[1m)\u001b[0m đang tạo nội dung\u001b[33m...\u001b[0m\n"
      ]
     },
     "metadata": {},
     "output_type": "display_data"
    },
    {
     "data": {
      "text/html": [
       "<pre style=\"white-space:pre;overflow-x:auto;line-height:normal;font-family:Menlo,'DejaVu Sans Mono',consolas,'Courier New',monospace\"><span style=\"color: #008000; text-decoration-color: #008000; font-weight: bold\">✔️ Nội dung do Activity Designer tạo ra:</span>\n",
       "</pre>\n"
      ],
      "text/plain": [
       "\u001b[1;32m✔️ Nội dung do Activity Designer tạo ra:\u001b[0m\n"
      ]
     },
     "metadata": {},
     "output_type": "display_data"
    },
    {
     "data": {
      "text/html": [
       "<pre style=\"white-space:pre;overflow-x:auto;line-height:normal;font-family:Menlo,'DejaVu Sans Mono',consolas,'Courier New',monospace\"><span style=\"font-weight: bold\">{</span>\n",
       "<span style=\"color: #7fbf7f; text-decoration-color: #7fbf7f\">│   </span><span style=\"color: #008000; text-decoration-color: #008000\">'activity_name'</span>: <span style=\"color: #008000; text-decoration-color: #008000\">'Khởi động: Vị trí tương đối của các vật thể'</span>,\n",
       "<span style=\"color: #7fbf7f; text-decoration-color: #7fbf7f\">│   </span><span style=\"color: #008000; text-decoration-color: #008000\">'duration_minutes'</span>: <span style=\"color: #008080; text-decoration-color: #008080; font-weight: bold\">15</span>,\n",
       "<span style=\"color: #7fbf7f; text-decoration-color: #7fbf7f\">│   </span><span style=\"color: #008000; text-decoration-color: #008000\">'teacher_actions'</span>: <span style=\"font-weight: bold\">[</span>\n",
       "<span style=\"color: #7fbf7f; text-decoration-color: #7fbf7f\">│   │   </span><span style=\"color: #008000; text-decoration-color: #008000\">'Chuẩn bị vật thật/hình ảnh minh họa đa dạng về vị trí tương đối (ví dụ: bút trên sách, hộp bút bên cạnh thước, quả bóng trong hộp).'</span>,\n",
       "<span style=\"color: #7fbf7f; text-decoration-color: #7fbf7f\">│   │   </span><span style=\"color: #008000; text-decoration-color: #008000\">'Phổ biến luật chơi/yêu cầu hoạt động cho học sinh, đảm bảo các em hiểu rõ nhiệm vụ mô tả vị trí.'</span>,\n",
       "<span style=\"color: #7fbf7f; text-decoration-color: #7fbf7f\">│   │   </span><span style=\"color: #008000; text-decoration-color: #008000\">'Quan sát, lắng nghe các nhóm thảo luận và ghi nhận các ý tưởng ban đầu, các từ ngữ mà học sinh sử dụng để mô tả vị trí.'</span>,\n",
       "<span style=\"color: #7fbf7f; text-decoration-color: #7fbf7f\">│   │   </span><span style=\"color: #008000; text-decoration-color: #008000\">'Gợi ý, đặt câu hỏi mở để khuyến khích học sinh mô tả chi tiết hơn (ví dụ: \"Bút ở đâu so với sách?\", \"Có cách nào khác để nói về vị trí của hộp bút và thước không?\").'</span>,\n",
       "<span style=\"color: #7fbf7f; text-decoration-color: #7fbf7f\">│   │   </span><span style=\"color: #008000; text-decoration-color: #008000\">'Tổ chức cho các nhóm chia sẻ và tổng hợp các cách diễn đạt về vị trí.'</span>,\n",
       "<span style=\"color: #7fbf7f; text-decoration-color: #7fbf7f\">│   │   </span><span style=\"color: #008000; text-decoration-color: #008000\">'Dẫn dắt học sinh nhận ra sự đa dạng trong cách diễn đạt và sự cần thiết của một ngôn ngữ chung, chính xác để mô tả vị trí, từ đó đặt vấn đề cho bài học mới.'</span>\n",
       "<span style=\"color: #7fbf7f; text-decoration-color: #7fbf7f\">│   </span><span style=\"font-weight: bold\">]</span>,\n",
       "<span style=\"color: #7fbf7f; text-decoration-color: #7fbf7f\">│   </span><span style=\"color: #008000; text-decoration-color: #008000\">'extension_component'</span>: <span style=\"color: #008000; text-decoration-color: #008000\">'Học sinh có thể tự sắp xếp các vật thể theo ý mình và yêu cầu bạn cùng nhóm mô tả vị trí, sau đó so sánh các cách diễn đạt và tìm ra điểm chung/khác biệt.'</span>,\n",
       "<span style=\"color: #7fbf7f; text-decoration-color: #7fbf7f\">│   </span><span style=\"color: #008000; text-decoration-color: #008000\">'solution_guide'</span>: <span style=\"color: #008000; text-decoration-color: #008000\">\"Không có 'đáp án' cụ thể trong hoạt động này. Mục tiêu là thu thập các ý tưởng ban đầu và các cách diễn đạt tự nhiên của học sinh về vị trí tương đối. Giáo viên cần ghi nhận các từ khóa như 'trên', 'dưới', 'bên cạnh', 'trong', 'ngoài', 'giữa', 'phía trước', 'phía sau' để làm nền tảng cho việc hình thành khái niệm sau này.\"</span>,\n",
       "<span style=\"color: #7fbf7f; text-decoration-color: #7fbf7f\">│   </span><span style=\"color: #008000; text-decoration-color: #008000\">'differentiation'</span>: <span style=\"font-weight: bold\">{</span>\n",
       "<span style=\"color: #7fbf7f; text-decoration-color: #7fbf7f\">│   │   </span><span style=\"color: #008000; text-decoration-color: #008000\">'for_struggling_students'</span>: <span style=\"color: #008000; text-decoration-color: #008000\">'Giáo viên có thể cung cấp các câu hỏi gợi ý cụ thể hơn hoặc chỉ định các cặp vật thể đơn giản để học sinh dễ dàng mô tả. Có thể cho học sinh sử dụng cử chỉ để diễn tả vị trí trước khi dùng lời.'</span>,\n",
       "<span style=\"color: #7fbf7f; text-decoration-color: #7fbf7f\">│   │   </span><span style=\"color: #008000; text-decoration-color: #008000\">'for_advanced_students'</span>: <span style=\"color: #008000; text-decoration-color: #008000\">'Yêu cầu học sinh sử dụng nhiều từ ngữ khác nhau để mô tả cùng một vị trí, hoặc đặt ra tình huống phức tạp hơn với nhiều vật thể để mô tả mối quan hệ giữa chúng. Có thể yêu cầu học sinh tự tạo ra một tình huống và mô tả.'</span>\n",
       "<span style=\"color: #7fbf7f; text-decoration-color: #7fbf7f\">│   </span><span style=\"font-weight: bold\">}</span>,\n",
       "<span style=\"color: #7fbf7f; text-decoration-color: #7fbf7f\">│   </span><span style=\"color: #008000; text-decoration-color: #008000\">'question_or_description'</span>: <span style=\"color: #008000; text-decoration-color: #008000\">'Giáo viên chuẩn bị một số vật thật (ví dụ: bút, sách, hộp bút, thước kẻ) hoặc hình ảnh các vật thể được sắp xếp theo nhiều vị trí khác nhau (trên, dưới, bên cạnh, giữa, trong, ngoài). Chia lớp thành các nhóm nhỏ (3-4 học sinh). Giáo viên trình bày các vật thật/hình ảnh. Yêu cầu các nhóm quan sát và mô tả vị trí của các vật thể này so với nhau bằng ngôn ngữ tự nhiên của mình. Các nhóm ghi lại các mô tả và dự đoán của mình. Đại diện một số nhóm trình bày kết quả.'</span>,\n",
       "<span style=\"color: #7fbf7f; text-decoration-color: #7fbf7f\">│   </span><span style=\"color: #008000; text-decoration-color: #008000\">'content_type'</span>: <span style=\"color: #008000; text-decoration-color: #008000\">'Hoạt động dự đoán và thảo luận nhóm'</span>\n",
       "<span style=\"font-weight: bold\">}</span>\n",
       "</pre>\n"
      ],
      "text/plain": [
       "\u001b[1m{\u001b[0m\n",
       "\u001b[2;32m│   \u001b[0m\u001b[32m'activity_name'\u001b[0m: \u001b[32m'Khởi động: Vị trí tương đối của các vật thể'\u001b[0m,\n",
       "\u001b[2;32m│   \u001b[0m\u001b[32m'duration_minutes'\u001b[0m: \u001b[1;36m15\u001b[0m,\n",
       "\u001b[2;32m│   \u001b[0m\u001b[32m'teacher_actions'\u001b[0m: \u001b[1m[\u001b[0m\n",
       "\u001b[2;32m│   │   \u001b[0m\u001b[32m'Chuẩn bị vật thật/hình ảnh minh họa đa dạng về vị trí tương đối \u001b[0m\u001b[32m(\u001b[0m\u001b[32mví dụ: bút trên sách, hộp bút bên cạnh thước, quả bóng trong hộp\u001b[0m\u001b[32m)\u001b[0m\u001b[32m.'\u001b[0m,\n",
       "\u001b[2;32m│   │   \u001b[0m\u001b[32m'Phổ biến luật chơi/yêu cầu hoạt động cho học sinh, đảm bảo các em hiểu rõ nhiệm vụ mô tả vị trí.'\u001b[0m,\n",
       "\u001b[2;32m│   │   \u001b[0m\u001b[32m'Quan sát, lắng nghe các nhóm thảo luận và ghi nhận các ý tưởng ban đầu, các từ ngữ mà học sinh sử dụng để mô tả vị trí.'\u001b[0m,\n",
       "\u001b[2;32m│   │   \u001b[0m\u001b[32m'Gợi ý, đặt câu hỏi mở để khuyến khích học sinh mô tả chi tiết hơn \u001b[0m\u001b[32m(\u001b[0m\u001b[32mví dụ: \"Bút ở đâu so với sách?\", \"Có cách nào khác để nói về vị trí của hộp bút và thước không?\"\u001b[0m\u001b[32m)\u001b[0m\u001b[32m.'\u001b[0m,\n",
       "\u001b[2;32m│   │   \u001b[0m\u001b[32m'Tổ chức cho các nhóm chia sẻ và tổng hợp các cách diễn đạt về vị trí.'\u001b[0m,\n",
       "\u001b[2;32m│   │   \u001b[0m\u001b[32m'Dẫn dắt học sinh nhận ra sự đa dạng trong cách diễn đạt và sự cần thiết của một ngôn ngữ chung, chính xác để mô tả vị trí, từ đó đặt vấn đề cho bài học mới.'\u001b[0m\n",
       "\u001b[2;32m│   \u001b[0m\u001b[1m]\u001b[0m,\n",
       "\u001b[2;32m│   \u001b[0m\u001b[32m'extension_component'\u001b[0m: \u001b[32m'Học sinh có thể tự sắp xếp các vật thể theo ý mình và yêu cầu bạn cùng nhóm mô tả vị trí, sau đó so sánh các cách diễn đạt và tìm ra điểm chung/khác biệt.'\u001b[0m,\n",
       "\u001b[2;32m│   \u001b[0m\u001b[32m'solution_guide'\u001b[0m: \u001b[32m\"Không có 'đáp án' cụ thể trong hoạt động này. Mục tiêu là thu thập các ý tưởng ban đầu và các cách diễn đạt tự nhiên của học sinh về vị trí tương đối. Giáo viên cần ghi nhận các từ khóa như 'trên', 'dưới', 'bên cạnh', 'trong', 'ngoài', 'giữa', 'phía trước', 'phía sau' để làm nền tảng cho việc hình thành khái niệm sau này.\"\u001b[0m,\n",
       "\u001b[2;32m│   \u001b[0m\u001b[32m'differentiation'\u001b[0m: \u001b[1m{\u001b[0m\n",
       "\u001b[2;32m│   │   \u001b[0m\u001b[32m'for_struggling_students'\u001b[0m: \u001b[32m'Giáo viên có thể cung cấp các câu hỏi gợi ý cụ thể hơn hoặc chỉ định các cặp vật thể đơn giản để học sinh dễ dàng mô tả. Có thể cho học sinh sử dụng cử chỉ để diễn tả vị trí trước khi dùng lời.'\u001b[0m,\n",
       "\u001b[2;32m│   │   \u001b[0m\u001b[32m'for_advanced_students'\u001b[0m: \u001b[32m'Yêu cầu học sinh sử dụng nhiều từ ngữ khác nhau để mô tả cùng một vị trí, hoặc đặt ra tình huống phức tạp hơn với nhiều vật thể để mô tả mối quan hệ giữa chúng. Có thể yêu cầu học sinh tự tạo ra một tình huống và mô tả.'\u001b[0m\n",
       "\u001b[2;32m│   \u001b[0m\u001b[1m}\u001b[0m,\n",
       "\u001b[2;32m│   \u001b[0m\u001b[32m'question_or_description'\u001b[0m: \u001b[32m'Giáo viên chuẩn bị một số vật thật \u001b[0m\u001b[32m(\u001b[0m\u001b[32mví dụ: bút, sách, hộp bút, thước kẻ\u001b[0m\u001b[32m)\u001b[0m\u001b[32m hoặc hình ảnh các vật thể được sắp xếp theo nhiều vị trí khác nhau \u001b[0m\u001b[32m(\u001b[0m\u001b[32mtrên, dưới, bên cạnh, giữa, trong, ngoài\u001b[0m\u001b[32m)\u001b[0m\u001b[32m. Chia lớp thành các nhóm nhỏ \u001b[0m\u001b[32m(\u001b[0m\u001b[32m3-4 học sinh\u001b[0m\u001b[32m)\u001b[0m\u001b[32m. Giáo viên trình bày các vật thật/hình ảnh. Yêu cầu các nhóm quan sát và mô tả vị trí của các vật thể này so với nhau bằng ngôn ngữ tự nhiên của mình. Các nhóm ghi lại các mô tả và dự đoán của mình. Đại diện một số nhóm trình bày kết quả.'\u001b[0m,\n",
       "\u001b[2;32m│   \u001b[0m\u001b[32m'content_type'\u001b[0m: \u001b[32m'Hoạt động dự đoán và thảo luận nhóm'\u001b[0m\n",
       "\u001b[1m}\u001b[0m\n"
      ]
     },
     "metadata": {},
     "output_type": "display_data"
    },
    {
     "data": {
      "text/html": [
       "<pre style=\"white-space:pre;overflow-x:auto;line-height:normal;font-family:Menlo,'DejaVu Sans Mono',consolas,'Courier New',monospace\">\n",
       "<span style=\"color: #808000; text-decoration-color: #808000; font-weight: bold\">------- Hoàn thành bước: activity_designer -------</span>\n",
       "</pre>\n"
      ],
      "text/plain": [
       "\n",
       "\u001b[1;33m------- Hoàn thành bước: activity_designer -------\u001b[0m\n"
      ]
     },
     "metadata": {},
     "output_type": "display_data"
    },
    {
     "data": {
      "text/html": [
       "<pre style=\"white-space:pre;overflow-x:auto;line-height:normal;font-family:Menlo,'DejaVu Sans Mono',consolas,'Courier New',monospace\">\n",
       "<span style=\"color: #008080; text-decoration-color: #008080; font-weight: bold\">&gt;</span> `Agent: Easy-Going Critic` <span style=\"font-weight: bold\">(</span>v13.<span style=\"color: #008080; text-decoration-color: #008080; font-weight: bold\">1</span><span style=\"font-weight: bold\">)</span> đang phân tích<span style=\"color: #808000; text-decoration-color: #808000\">...</span>\n",
       "</pre>\n"
      ],
      "text/plain": [
       "\n",
       "\u001b[1;36m>\u001b[0m `Agent: Easy-Going Critic` \u001b[1m(\u001b[0mv13.\u001b[1;36m1\u001b[0m\u001b[1m)\u001b[0m đang phân tích\u001b[33m...\u001b[0m\n"
      ]
     },
     "metadata": {},
     "output_type": "display_data"
    },
    {
     "data": {
      "text/html": [
       "<pre style=\"white-space:pre;overflow-x:auto;line-height:normal;font-family:Menlo,'DejaVu Sans Mono',consolas,'Courier New',monospace\">\n",
       "<span style=\"color: #008080; text-decoration-color: #008080; font-weight: bold\">&gt;</span> ✔️ CRITIC <span style=\"font-weight: bold\">(</span>Lần <span style=\"color: #008080; text-decoration-color: #008080; font-weight: bold\">1</span><span style=\"font-weight: bold\">)</span>: Nội dung được duyệt! <span style=\"font-weight: bold\">(</span>Góp ý: Hoạt động này rất hay và có tính tương tác cao, giúp học sinh khởi\n",
       "động bài học một cách tự nhiên. Tuy nhiên, với <span style=\"color: #008080; text-decoration-color: #008080; font-weight: bold\">15</span> phút, hoạt động có thể hơi tham vọng một chút, đặc biệt là phần \n",
       "chia sẻ của các nhóm và tổng hợp. Giáo viên cần quản lý thời gian thật chặt chẽ, có thể giới hạn số lượng nhóm chia\n",
       "sẻ hoặc chỉ tập trung vào một vài ví dụ điển hình để đảm bảo hoàn thành đúng tiến độ. Các phần mở rộng và phân hóa \n",
       "có thể được áp dụng linh hoạt tùy theo thời gian thực tế và đối tượng học sinh.<span style=\"font-weight: bold\">)</span>\n",
       "</pre>\n"
      ],
      "text/plain": [
       "\n",
       "\u001b[1;36m>\u001b[0m ✔️ CRITIC \u001b[1m(\u001b[0mLần \u001b[1;36m1\u001b[0m\u001b[1m)\u001b[0m: Nội dung được duyệt! \u001b[1m(\u001b[0mGóp ý: Hoạt động này rất hay và có tính tương tác cao, giúp học sinh khởi\n",
       "động bài học một cách tự nhiên. Tuy nhiên, với \u001b[1;36m15\u001b[0m phút, hoạt động có thể hơi tham vọng một chút, đặc biệt là phần \n",
       "chia sẻ của các nhóm và tổng hợp. Giáo viên cần quản lý thời gian thật chặt chẽ, có thể giới hạn số lượng nhóm chia\n",
       "sẻ hoặc chỉ tập trung vào một vài ví dụ điển hình để đảm bảo hoàn thành đúng tiến độ. Các phần mở rộng và phân hóa \n",
       "có thể được áp dụng linh hoạt tùy theo thời gian thực tế và đối tượng học sinh.\u001b[1m)\u001b[0m\n"
      ]
     },
     "metadata": {},
     "output_type": "display_data"
    },
    {
     "data": {
      "text/html": [
       "<pre style=\"white-space:pre;overflow-x:auto;line-height:normal;font-family:Menlo,'DejaVu Sans Mono',consolas,'Courier New',monospace\">\n",
       "<span style=\"color: #808000; text-decoration-color: #808000; font-weight: bold\">------- Hoàn thành bước: content_validator -------</span>\n",
       "</pre>\n"
      ],
      "text/plain": [
       "\n",
       "\u001b[1;33m------- Hoàn thành bước: content_validator -------\u001b[0m\n"
      ]
     },
     "metadata": {},
     "output_type": "display_data"
    },
    {
     "data": {
      "text/html": [
       "<pre style=\"white-space:pre;overflow-x:auto;line-height:normal;font-family:Menlo,'DejaVu Sans Mono',consolas,'Courier New',monospace\">\n",
       "<span style=\"color: #008080; text-decoration-color: #008080; font-weight: bold\">&gt;</span> `Commiter`: Đang ghi nhận nội dung đã được xác thực<span style=\"color: #808000; text-decoration-color: #808000\">...</span>\n",
       "</pre>\n"
      ],
      "text/plain": [
       "\n",
       "\u001b[1;36m>\u001b[0m `Commiter`: Đang ghi nhận nội dung đã được xác thực\u001b[33m...\u001b[0m\n"
      ]
     },
     "metadata": {},
     "output_type": "display_data"
    },
    {
     "data": {
      "text/html": [
       "<pre style=\"white-space:pre;overflow-x:auto;line-height:normal;font-family:Menlo,'DejaVu Sans Mono',consolas,'Courier New',monospace\">\n",
       "<span style=\"color: #808000; text-decoration-color: #808000; font-weight: bold\">------- Hoàn thành bước: commit_validated_content -------</span>\n",
       "</pre>\n"
      ],
      "text/plain": [
       "\n",
       "\u001b[1;33m------- Hoàn thành bước: commit_validated_content -------\u001b[0m\n"
      ]
     },
     "metadata": {},
     "output_type": "display_data"
    },
    {
     "data": {
      "text/html": [
       "<pre style=\"white-space:pre;overflow-x:auto;line-height:normal;font-family:Menlo,'DejaVu Sans Mono',consolas,'Courier New',monospace\">\n",
       "<span style=\"color: #808000; text-decoration-color: #808000; font-weight: bold\">------- Hoàn thành bước: mark_task_complete -------</span>\n",
       "</pre>\n"
      ],
      "text/plain": [
       "\n",
       "\u001b[1;33m------- Hoàn thành bước: mark_task_complete -------\u001b[0m\n"
      ]
     },
     "metadata": {},
     "output_type": "display_data"
    },
    {
     "data": {
      "text/html": [
       "<pre style=\"white-space:pre;overflow-x:auto;line-height:normal;font-family:Menlo,'DejaVu Sans Mono',consolas,'Courier New',monospace\">\n",
       "<span style=\"color: #808000; text-decoration-color: #808000; font-weight: bold\">------- Hoàn thành bước: delay_node -------</span>\n",
       "</pre>\n"
      ],
      "text/plain": [
       "\n",
       "\u001b[1;33m------- Hoàn thành bước: delay_node -------\u001b[0m\n"
      ]
     },
     "metadata": {},
     "output_type": "display_data"
    },
    {
     "data": {
      "text/html": [
       "<pre style=\"white-space:pre;overflow-x:auto;line-height:normal;font-family:Menlo,'DejaVu Sans Mono',consolas,'Courier New',monospace\">\n",
       "<span style=\"color: #008080; text-decoration-color: #008080; font-weight: bold\">&gt;</span> `Router`: Đang kiểm tra nhiệm vụ<span style=\"color: #808000; text-decoration-color: #808000\">...</span>\n",
       "</pre>\n"
      ],
      "text/plain": [
       "\n",
       "\u001b[1;36m>\u001b[0m `Router`: Đang kiểm tra nhiệm vụ\u001b[33m...\u001b[0m\n"
      ]
     },
     "metadata": {},
     "output_type": "display_data"
    },
    {
     "data": {
      "text/html": [
       "<pre style=\"white-space:pre;overflow-x:auto;line-height:normal;font-family:Menlo,'DejaVu Sans Mono',consolas,'Courier New',monospace\">\n",
       "<span style=\"color: #008080; text-decoration-color: #008080; font-weight: bold\">&gt;</span> Nhiệm vụ tiếp theo: <span style=\"color: #008000; text-decoration-color: #008000\">'Khám phá và Xây dựng kiến thức về các vị trí tương đối'</span> <span style=\"font-weight: bold\">(</span>ID: <span style=\"color: #008080; text-decoration-color: #008080; font-weight: bold\">1</span><span style=\"font-weight: bold\">)</span>\n",
       "</pre>\n"
      ],
      "text/plain": [
       "\n",
       "\u001b[1;36m>\u001b[0m Nhiệm vụ tiếp theo: \u001b[32m'Khám phá và Xây dựng kiến thức về các vị trí tương đối'\u001b[0m \u001b[1m(\u001b[0mID: \u001b[1;36m1\u001b[0m\u001b[1m)\u001b[0m\n"
      ]
     },
     "metadata": {},
     "output_type": "display_data"
    },
    {
     "data": {
      "text/html": [
       "<pre style=\"white-space:pre;overflow-x:auto;line-height:normal;font-family:Menlo,'DejaVu Sans Mono',consolas,'Courier New',monospace\">\n",
       "<span style=\"color: #808000; text-decoration-color: #808000; font-weight: bold\">------- Hoàn thành bước: task_router -------</span>\n",
       "</pre>\n"
      ],
      "text/plain": [
       "\n",
       "\u001b[1;33m------- Hoàn thành bước: task_router -------\u001b[0m\n"
      ]
     },
     "metadata": {},
     "output_type": "display_data"
    },
    {
     "data": {
      "text/html": [
       "<pre style=\"white-space:pre;overflow-x:auto;line-height:normal;font-family:Menlo,'DejaVu Sans Mono',consolas,'Courier New',monospace\">\n",
       "<span style=\"color: #008080; text-decoration-color: #008080; font-weight: bold\">&gt;</span> `Agent: Task Dispatcher` đang giao việc<span style=\"color: #808000; text-decoration-color: #808000\">...</span>\n",
       "</pre>\n"
      ],
      "text/plain": [
       "\n",
       "\u001b[1;36m>\u001b[0m `Agent: Task Dispatcher` đang giao việc\u001b[33m...\u001b[0m\n"
      ]
     },
     "metadata": {},
     "output_type": "display_data"
    },
    {
     "data": {
      "text/html": [
       "<pre style=\"white-space:pre;overflow-x:auto;line-height:normal;font-family:Menlo,'DejaVu Sans Mono',consolas,'Courier New',monospace\">\n",
       "<span style=\"color: #008080; text-decoration-color: #008080; font-weight: bold\">&gt;</span> --- 🚚 `Dispatcher`: Giao nhiệm vụ cho `activity_designer`.\n",
       "</pre>\n"
      ],
      "text/plain": [
       "\n",
       "\u001b[1;36m>\u001b[0m --- 🚚 `Dispatcher`: Giao nhiệm vụ cho `activity_designer`.\n"
      ]
     },
     "metadata": {},
     "output_type": "display_data"
    },
    {
     "data": {
      "text/html": [
       "<pre style=\"white-space:pre;overflow-x:auto;line-height:normal;font-family:Menlo,'DejaVu Sans Mono',consolas,'Courier New',monospace\">\n",
       "<span style=\"color: #808000; text-decoration-color: #808000; font-weight: bold\">------- Hoàn thành bước: task_dispatcher -------</span>\n",
       "</pre>\n"
      ],
      "text/plain": [
       "\n",
       "\u001b[1;33m------- Hoàn thành bước: task_dispatcher -------\u001b[0m\n"
      ]
     },
     "metadata": {},
     "output_type": "display_data"
    },
    {
     "data": {
      "text/html": [
       "<pre style=\"white-space:pre;overflow-x:auto;line-height:normal;font-family:Menlo,'DejaVu Sans Mono',consolas,'Courier New',monospace\">\n",
       "<span style=\"color: #008080; text-decoration-color: #008080; font-weight: bold\">&gt;</span> `Agent: Activity Designer` <span style=\"font-weight: bold\">(</span>v13.<span style=\"color: #008080; text-decoration-color: #008080; font-weight: bold\">1</span> - Tư duy Phản tư<span style=\"font-weight: bold\">)</span> đang tạo nội dung<span style=\"color: #808000; text-decoration-color: #808000\">...</span>\n",
       "</pre>\n"
      ],
      "text/plain": [
       "\n",
       "\u001b[1;36m>\u001b[0m `Agent: Activity Designer` \u001b[1m(\u001b[0mv13.\u001b[1;36m1\u001b[0m - Tư duy Phản tư\u001b[1m)\u001b[0m đang tạo nội dung\u001b[33m...\u001b[0m\n"
      ]
     },
     "metadata": {},
     "output_type": "display_data"
    },
    {
     "data": {
      "text/html": [
       "<pre style=\"white-space:pre;overflow-x:auto;line-height:normal;font-family:Menlo,'DejaVu Sans Mono',consolas,'Courier New',monospace\"><span style=\"color: #008000; text-decoration-color: #008000; font-weight: bold\">✔️ Nội dung do Activity Designer tạo ra:</span>\n",
       "</pre>\n"
      ],
      "text/plain": [
       "\u001b[1;32m✔️ Nội dung do Activity Designer tạo ra:\u001b[0m\n"
      ]
     },
     "metadata": {},
     "output_type": "display_data"
    },
    {
     "data": {
      "text/html": [
       "<pre style=\"white-space:pre;overflow-x:auto;line-height:normal;font-family:Menlo,'DejaVu Sans Mono',consolas,'Courier New',monospace\"><span style=\"font-weight: bold\">{</span>\n",
       "<span style=\"color: #7fbf7f; text-decoration-color: #7fbf7f\">│   </span><span style=\"color: #008000; text-decoration-color: #008000\">'activity_name'</span>: <span style=\"color: #008000; text-decoration-color: #008000\">'Khám phá và Xây dựng kiến thức về các vị trí tương đối của đường thẳng và đường tròn'</span>,\n",
       "<span style=\"color: #7fbf7f; text-decoration-color: #7fbf7f\">│   </span><span style=\"color: #008000; text-decoration-color: #008000\">'duration_minutes'</span>: <span style=\"color: #008080; text-decoration-color: #008080; font-weight: bold\">30</span>,\n",
       "<span style=\"color: #7fbf7f; text-decoration-color: #7fbf7f\">│   </span><span style=\"color: #008000; text-decoration-color: #008000\">'teacher_actions'</span>: <span style=\"font-weight: bold\">[</span>\n",
       "<span style=\"color: #7fbf7f; text-decoration-color: #7fbf7f\">│   │   </span><span style=\"color: #008000; text-decoration-color: #008000\">'Giới thiệu nhiệm vụ, chia lớp thành các nhóm nhỏ (3-4 học sinh) và phát dụng cụ (giấy, bút, compa, thước kẻ).'</span>,\n",
       "<span style=\"color: #7fbf7f; text-decoration-color: #7fbf7f\">│   │   </span><span style=\"color: #008000; text-decoration-color: #008000\">'Hướng dẫn các nhóm thực hiện việc vẽ và đo đạc, đảm bảo học sinh hiểu rõ cách xác định d và R.'</span>,\n",
       "<span style=\"color: #7fbf7f; text-decoration-color: #7fbf7f\">│   │   </span><span style=\"color: #008000; text-decoration-color: #008000\">\"Quan sát, đi lại giữa các nhóm để hỗ trợ, giải đáp thắc mắc và gợi ý khi cần thiết (ví dụ: 'Các em đã thử vẽ trường hợp đường thẳng đi qua tâm chưa?').\"</span>,\n",
       "<span style=\"color: #7fbf7f; text-decoration-color: #7fbf7f\">│   │   </span><span style=\"color: #008000; text-decoration-color: #008000\">'Yêu cầu đại diện 1-2 nhóm trình bày kết quả và kết luận của nhóm mình.'</span>,\n",
       "<span style=\"color: #7fbf7f; text-decoration-color: #7fbf7f\">│   │   </span><span style=\"color: #008000; text-decoration-color: #008000\">'Tổng hợp các kết quả, chốt kiến thức về mối quan hệ giữa d và R ứng với từng vị trí tương đối của đường thẳng và đường tròn.'</span>\n",
       "<span style=\"color: #7fbf7f; text-decoration-color: #7fbf7f\">│   </span><span style=\"font-weight: bold\">]</span>,\n",
       "<span style=\"color: #7fbf7f; text-decoration-color: #7fbf7f\">│   </span><span style=\"color: #008000; text-decoration-color: #008000\">'extension_component'</span>: <span style=\"color: #008000; text-decoration-color: #008000\">'Vẽ thêm các trường hợp đặc biệt như đường thẳng đi qua tâm đường tròn. Tìm các ví dụ thực tế trong cuộc sống về các vị trí tương đối này (ví dụ: bánh xe lăn trên đường, mặt trời mọc/lặn so với đường chân trời).'</span>,\n",
       "<span style=\"color: #7fbf7f; text-decoration-color: #7fbf7f\">│   </span><span style=\"color: #008000; text-decoration-color: #008000\">'solution_guide'</span>: <span style=\"color: #008000; text-decoration-color: #008000\">\"Các mối quan hệ cần rút ra: d &lt; R (đường thẳng cắt đường tròn tại hai điểm), d = R (đường thẳng tiếp xúc đường tròn tại một điểm), d &gt; R (đường thẳng không cắt đường tròn). Gợi ý: 'Khoảng cách d là gì?', 'Bán kính R là gì?', 'Khi nào đường thẳng và đường tròn có điểm chung?'\"</span>,\n",
       "<span style=\"color: #7fbf7f; text-decoration-color: #7fbf7f\">│   </span><span style=\"color: #008000; text-decoration-color: #008000\">'differentiation'</span>: <span style=\"font-weight: bold\">{</span>\n",
       "<span style=\"color: #7fbf7f; text-decoration-color: #7fbf7f\">│   │   </span><span style=\"color: #008000; text-decoration-color: #008000\">'for_struggling_students'</span>: <span style=\"color: #008000; text-decoration-color: #008000\">'Cung cấp các hình vẽ mẫu hoặc hướng dẫn từng bước cụ thể cách vẽ và đo đạc. Giáo viên có thể làm việc trực tiếp với nhóm này để đảm bảo họ hiểu khái niệm d và R.'</span>,\n",
       "<span style=\"color: #7fbf7f; text-decoration-color: #7fbf7f\">│   │   </span><span style=\"color: #008000; text-decoration-color: #008000\">'for_advanced_students'</span>: <span style=\"color: #008000; text-decoration-color: #008000\">'Yêu cầu học sinh giải thích tại sao mối quan hệ d và R lại quyết định vị trí tương đối. Thử thách các em tìm thêm các trường hợp đặc biệt hoặc mở rộng sang vị trí tương đối của hai đường tròn (nếu thời gian cho phép).'</span>\n",
       "<span style=\"color: #7fbf7f; text-decoration-color: #7fbf7f\">│   </span><span style=\"font-weight: bold\">}</span>,\n",
       "<span style=\"color: #7fbf7f; text-decoration-color: #7fbf7f\">│   </span><span style=\"color: #008000; text-decoration-color: #008000\">'question_or_description'</span>: <span style=\"color: #008000; text-decoration-color: #008000\">'Mỗi nhóm sử dụng compa và thước để vẽ các trường hợp vị trí tương đối của đường thẳng và đường tròn (cắt nhau, tiếp xúc, không cắt nhau). Sau đó, đo khoảng cách từ tâm đường tròn đến đường thẳng (d) và bán kính (R) trong từng trường hợp. Ghi nhận và so sánh mối quan hệ giữa d và R, từ đó rút ra kết luận về điều kiện cho mỗi vị trí tương đối.'</span>,\n",
       "<span style=\"color: #7fbf7f; text-decoration-color: #7fbf7f\">│   </span><span style=\"color: #008000; text-decoration-color: #008000\">'content_type'</span>: <span style=\"color: #008000; text-decoration-color: #008000\">'Thảo luận nhóm và Thực hành'</span>\n",
       "<span style=\"font-weight: bold\">}</span>\n",
       "</pre>\n"
      ],
      "text/plain": [
       "\u001b[1m{\u001b[0m\n",
       "\u001b[2;32m│   \u001b[0m\u001b[32m'activity_name'\u001b[0m: \u001b[32m'Khám phá và Xây dựng kiến thức về các vị trí tương đối của đường thẳng và đường tròn'\u001b[0m,\n",
       "\u001b[2;32m│   \u001b[0m\u001b[32m'duration_minutes'\u001b[0m: \u001b[1;36m30\u001b[0m,\n",
       "\u001b[2;32m│   \u001b[0m\u001b[32m'teacher_actions'\u001b[0m: \u001b[1m[\u001b[0m\n",
       "\u001b[2;32m│   │   \u001b[0m\u001b[32m'Giới thiệu nhiệm vụ, chia lớp thành các nhóm nhỏ \u001b[0m\u001b[32m(\u001b[0m\u001b[32m3-4 học sinh\u001b[0m\u001b[32m)\u001b[0m\u001b[32m và phát dụng cụ \u001b[0m\u001b[32m(\u001b[0m\u001b[32mgiấy, bút, compa, thước kẻ\u001b[0m\u001b[32m)\u001b[0m\u001b[32m.'\u001b[0m,\n",
       "\u001b[2;32m│   │   \u001b[0m\u001b[32m'Hướng dẫn các nhóm thực hiện việc vẽ và đo đạc, đảm bảo học sinh hiểu rõ cách xác định d và R.'\u001b[0m,\n",
       "\u001b[2;32m│   │   \u001b[0m\u001b[32m\"Quan sát, đi lại giữa các nhóm để hỗ trợ, giải đáp thắc mắc và gợi ý khi cần thiết \u001b[0m\u001b[32m(\u001b[0m\u001b[32mví dụ: 'Các em đã thử vẽ trường hợp đường thẳng đi qua tâm chưa?'\u001b[0m\u001b[32m)\u001b[0m\u001b[32m.\"\u001b[0m,\n",
       "\u001b[2;32m│   │   \u001b[0m\u001b[32m'Yêu cầu đại diện 1-2 nhóm trình bày kết quả và kết luận của nhóm mình.'\u001b[0m,\n",
       "\u001b[2;32m│   │   \u001b[0m\u001b[32m'Tổng hợp các kết quả, chốt kiến thức về mối quan hệ giữa d và R ứng với từng vị trí tương đối của đường thẳng và đường tròn.'\u001b[0m\n",
       "\u001b[2;32m│   \u001b[0m\u001b[1m]\u001b[0m,\n",
       "\u001b[2;32m│   \u001b[0m\u001b[32m'extension_component'\u001b[0m: \u001b[32m'Vẽ thêm các trường hợp đặc biệt như đường thẳng đi qua tâm đường tròn. Tìm các ví dụ thực tế trong cuộc sống về các vị trí tương đối này \u001b[0m\u001b[32m(\u001b[0m\u001b[32mví dụ: bánh xe lăn trên đường, mặt trời mọc/lặn so với đường chân trời\u001b[0m\u001b[32m)\u001b[0m\u001b[32m.'\u001b[0m,\n",
       "\u001b[2;32m│   \u001b[0m\u001b[32m'solution_guide'\u001b[0m: \u001b[32m\"Các mối quan hệ cần rút ra: d \u001b[0m\u001b[32m<\u001b[0m\u001b[32m R \u001b[0m\u001b[32m(\u001b[0m\u001b[32mđường thẳng cắt đường tròn tại hai điểm\u001b[0m\u001b[32m)\u001b[0m\u001b[32m, d = R \u001b[0m\u001b[32m(\u001b[0m\u001b[32mđường thẳng tiếp xúc đường tròn tại một điểm\u001b[0m\u001b[32m)\u001b[0m\u001b[32m, d \u001b[0m\u001b[32m>\u001b[0m\u001b[32m R \u001b[0m\u001b[32m(\u001b[0m\u001b[32mđường thẳng không cắt đường tròn\u001b[0m\u001b[32m)\u001b[0m\u001b[32m. Gợi ý: 'Khoảng cách d là gì?', 'Bán kính R là gì?', 'Khi nào đường thẳng và đường tròn có điểm chung?'\"\u001b[0m,\n",
       "\u001b[2;32m│   \u001b[0m\u001b[32m'differentiation'\u001b[0m: \u001b[1m{\u001b[0m\n",
       "\u001b[2;32m│   │   \u001b[0m\u001b[32m'for_struggling_students'\u001b[0m: \u001b[32m'Cung cấp các hình vẽ mẫu hoặc hướng dẫn từng bước cụ thể cách vẽ và đo đạc. Giáo viên có thể làm việc trực tiếp với nhóm này để đảm bảo họ hiểu khái niệm d và R.'\u001b[0m,\n",
       "\u001b[2;32m│   │   \u001b[0m\u001b[32m'for_advanced_students'\u001b[0m: \u001b[32m'Yêu cầu học sinh giải thích tại sao mối quan hệ d và R lại quyết định vị trí tương đối. Thử thách các em tìm thêm các trường hợp đặc biệt hoặc mở rộng sang vị trí tương đối của hai đường tròn \u001b[0m\u001b[32m(\u001b[0m\u001b[32mnếu thời gian cho phép\u001b[0m\u001b[32m)\u001b[0m\u001b[32m.'\u001b[0m\n",
       "\u001b[2;32m│   \u001b[0m\u001b[1m}\u001b[0m,\n",
       "\u001b[2;32m│   \u001b[0m\u001b[32m'question_or_description'\u001b[0m: \u001b[32m'Mỗi nhóm sử dụng compa và thước để vẽ các trường hợp vị trí tương đối của đường thẳng và đường tròn \u001b[0m\u001b[32m(\u001b[0m\u001b[32mcắt nhau, tiếp xúc, không cắt nhau\u001b[0m\u001b[32m)\u001b[0m\u001b[32m. Sau đó, đo khoảng cách từ tâm đường tròn đến đường thẳng \u001b[0m\u001b[32m(\u001b[0m\u001b[32md\u001b[0m\u001b[32m)\u001b[0m\u001b[32m và bán kính \u001b[0m\u001b[32m(\u001b[0m\u001b[32mR\u001b[0m\u001b[32m)\u001b[0m\u001b[32m trong từng trường hợp. Ghi nhận và so sánh mối quan hệ giữa d và R, từ đó rút ra kết luận về điều kiện cho mỗi vị trí tương đối.'\u001b[0m,\n",
       "\u001b[2;32m│   \u001b[0m\u001b[32m'content_type'\u001b[0m: \u001b[32m'Thảo luận nhóm và Thực hành'\u001b[0m\n",
       "\u001b[1m}\u001b[0m\n"
      ]
     },
     "metadata": {},
     "output_type": "display_data"
    },
    {
     "data": {
      "text/html": [
       "<pre style=\"white-space:pre;overflow-x:auto;line-height:normal;font-family:Menlo,'DejaVu Sans Mono',consolas,'Courier New',monospace\">\n",
       "<span style=\"color: #808000; text-decoration-color: #808000; font-weight: bold\">------- Hoàn thành bước: activity_designer -------</span>\n",
       "</pre>\n"
      ],
      "text/plain": [
       "\n",
       "\u001b[1;33m------- Hoàn thành bước: activity_designer -------\u001b[0m\n"
      ]
     },
     "metadata": {},
     "output_type": "display_data"
    },
    {
     "data": {
      "text/html": [
       "<pre style=\"white-space:pre;overflow-x:auto;line-height:normal;font-family:Menlo,'DejaVu Sans Mono',consolas,'Courier New',monospace\">\n",
       "<span style=\"color: #008080; text-decoration-color: #008080; font-weight: bold\">&gt;</span> `Agent: Easy-Going Critic` <span style=\"font-weight: bold\">(</span>v13.<span style=\"color: #008080; text-decoration-color: #008080; font-weight: bold\">1</span><span style=\"font-weight: bold\">)</span> đang phân tích<span style=\"color: #808000; text-decoration-color: #808000\">...</span>\n",
       "</pre>\n"
      ],
      "text/plain": [
       "\n",
       "\u001b[1;36m>\u001b[0m `Agent: Easy-Going Critic` \u001b[1m(\u001b[0mv13.\u001b[1;36m1\u001b[0m\u001b[1m)\u001b[0m đang phân tích\u001b[33m...\u001b[0m\n"
      ]
     },
     "metadata": {},
     "output_type": "display_data"
    },
    {
     "data": {
      "text/html": [
       "<pre style=\"white-space:pre;overflow-x:auto;line-height:normal;font-family:Menlo,'DejaVu Sans Mono',consolas,'Courier New',monospace\">\n",
       "<span style=\"color: #008080; text-decoration-color: #008080; font-weight: bold\">&gt;</span> ✔️ CRITIC <span style=\"font-weight: bold\">(</span>Lần <span style=\"color: #008080; text-decoration-color: #008080; font-weight: bold\">1</span><span style=\"font-weight: bold\">)</span>: Nội dung được duyệt! <span style=\"font-weight: bold\">(</span>Góp ý: Hoạt động này được thiết kế rất tốt, khuyến khích học sinh tự khám\n",
       "phá kiến thức một cách chủ động. Tuy nhiên, với <span style=\"color: #008080; text-decoration-color: #008080; font-weight: bold\">30</span> phút, việc hoàn thành tất cả các bước từ vẽ, đo đạc, trình bày, \n",
       "tổng kết, và đặc biệt là các phần mở rộng và phân hóa có thể sẽ khá thách thức. Giáo viên cần quản lý thời gian \n",
       "thật chặt chẽ, có thể ưu tiên phần khám phá chính và rút gọn thời gian trình bày hoặc coi phần mở rộng là nhiệm vụ \n",
       "về nhà/nâng cao cho học sinh hoàn thành sau để đảm bảo kịp tiến độ.<span style=\"font-weight: bold\">)</span>\n",
       "</pre>\n"
      ],
      "text/plain": [
       "\n",
       "\u001b[1;36m>\u001b[0m ✔️ CRITIC \u001b[1m(\u001b[0mLần \u001b[1;36m1\u001b[0m\u001b[1m)\u001b[0m: Nội dung được duyệt! \u001b[1m(\u001b[0mGóp ý: Hoạt động này được thiết kế rất tốt, khuyến khích học sinh tự khám\n",
       "phá kiến thức một cách chủ động. Tuy nhiên, với \u001b[1;36m30\u001b[0m phút, việc hoàn thành tất cả các bước từ vẽ, đo đạc, trình bày, \n",
       "tổng kết, và đặc biệt là các phần mở rộng và phân hóa có thể sẽ khá thách thức. Giáo viên cần quản lý thời gian \n",
       "thật chặt chẽ, có thể ưu tiên phần khám phá chính và rút gọn thời gian trình bày hoặc coi phần mở rộng là nhiệm vụ \n",
       "về nhà/nâng cao cho học sinh hoàn thành sau để đảm bảo kịp tiến độ.\u001b[1m)\u001b[0m\n"
      ]
     },
     "metadata": {},
     "output_type": "display_data"
    },
    {
     "data": {
      "text/html": [
       "<pre style=\"white-space:pre;overflow-x:auto;line-height:normal;font-family:Menlo,'DejaVu Sans Mono',consolas,'Courier New',monospace\">\n",
       "<span style=\"color: #808000; text-decoration-color: #808000; font-weight: bold\">------- Hoàn thành bước: content_validator -------</span>\n",
       "</pre>\n"
      ],
      "text/plain": [
       "\n",
       "\u001b[1;33m------- Hoàn thành bước: content_validator -------\u001b[0m\n"
      ]
     },
     "metadata": {},
     "output_type": "display_data"
    },
    {
     "data": {
      "text/html": [
       "<pre style=\"white-space:pre;overflow-x:auto;line-height:normal;font-family:Menlo,'DejaVu Sans Mono',consolas,'Courier New',monospace\">\n",
       "<span style=\"color: #008080; text-decoration-color: #008080; font-weight: bold\">&gt;</span> `Commiter`: Đang ghi nhận nội dung đã được xác thực<span style=\"color: #808000; text-decoration-color: #808000\">...</span>\n",
       "</pre>\n"
      ],
      "text/plain": [
       "\n",
       "\u001b[1;36m>\u001b[0m `Commiter`: Đang ghi nhận nội dung đã được xác thực\u001b[33m...\u001b[0m\n"
      ]
     },
     "metadata": {},
     "output_type": "display_data"
    },
    {
     "data": {
      "text/html": [
       "<pre style=\"white-space:pre;overflow-x:auto;line-height:normal;font-family:Menlo,'DejaVu Sans Mono',consolas,'Courier New',monospace\">\n",
       "<span style=\"color: #808000; text-decoration-color: #808000; font-weight: bold\">------- Hoàn thành bước: commit_validated_content -------</span>\n",
       "</pre>\n"
      ],
      "text/plain": [
       "\n",
       "\u001b[1;33m------- Hoàn thành bước: commit_validated_content -------\u001b[0m\n"
      ]
     },
     "metadata": {},
     "output_type": "display_data"
    },
    {
     "data": {
      "text/html": [
       "<pre style=\"white-space:pre;overflow-x:auto;line-height:normal;font-family:Menlo,'DejaVu Sans Mono',consolas,'Courier New',monospace\">\n",
       "<span style=\"color: #808000; text-decoration-color: #808000; font-weight: bold\">------- Hoàn thành bước: mark_task_complete -------</span>\n",
       "</pre>\n"
      ],
      "text/plain": [
       "\n",
       "\u001b[1;33m------- Hoàn thành bước: mark_task_complete -------\u001b[0m\n"
      ]
     },
     "metadata": {},
     "output_type": "display_data"
    },
    {
     "data": {
      "text/html": [
       "<pre style=\"white-space:pre;overflow-x:auto;line-height:normal;font-family:Menlo,'DejaVu Sans Mono',consolas,'Courier New',monospace\">\n",
       "<span style=\"color: #808000; text-decoration-color: #808000; font-weight: bold\">------- Hoàn thành bước: delay_node -------</span>\n",
       "</pre>\n"
      ],
      "text/plain": [
       "\n",
       "\u001b[1;33m------- Hoàn thành bước: delay_node -------\u001b[0m\n"
      ]
     },
     "metadata": {},
     "output_type": "display_data"
    },
    {
     "data": {
      "text/html": [
       "<pre style=\"white-space:pre;overflow-x:auto;line-height:normal;font-family:Menlo,'DejaVu Sans Mono',consolas,'Courier New',monospace\">\n",
       "<span style=\"color: #008080; text-decoration-color: #008080; font-weight: bold\">&gt;</span> `Router`: Đang kiểm tra nhiệm vụ<span style=\"color: #808000; text-decoration-color: #808000\">...</span>\n",
       "</pre>\n"
      ],
      "text/plain": [
       "\n",
       "\u001b[1;36m>\u001b[0m `Router`: Đang kiểm tra nhiệm vụ\u001b[33m...\u001b[0m\n"
      ]
     },
     "metadata": {},
     "output_type": "display_data"
    },
    {
     "data": {
      "text/html": [
       "<pre style=\"white-space:pre;overflow-x:auto;line-height:normal;font-family:Menlo,'DejaVu Sans Mono',consolas,'Courier New',monospace\">\n",
       "<span style=\"color: #008080; text-decoration-color: #008080; font-weight: bold\">&gt;</span> Nhiệm vụ tiếp theo: <span style=\"color: #008000; text-decoration-color: #008000\">'Thảo luận nhóm và Chuẩn hóa kiến thức'</span> <span style=\"font-weight: bold\">(</span>ID: <span style=\"color: #008080; text-decoration-color: #008080; font-weight: bold\">2</span><span style=\"font-weight: bold\">)</span>\n",
       "</pre>\n"
      ],
      "text/plain": [
       "\n",
       "\u001b[1;36m>\u001b[0m Nhiệm vụ tiếp theo: \u001b[32m'Thảo luận nhóm và Chuẩn hóa kiến thức'\u001b[0m \u001b[1m(\u001b[0mID: \u001b[1;36m2\u001b[0m\u001b[1m)\u001b[0m\n"
      ]
     },
     "metadata": {},
     "output_type": "display_data"
    },
    {
     "data": {
      "text/html": [
       "<pre style=\"white-space:pre;overflow-x:auto;line-height:normal;font-family:Menlo,'DejaVu Sans Mono',consolas,'Courier New',monospace\">\n",
       "<span style=\"color: #808000; text-decoration-color: #808000; font-weight: bold\">------- Hoàn thành bước: task_router -------</span>\n",
       "</pre>\n"
      ],
      "text/plain": [
       "\n",
       "\u001b[1;33m------- Hoàn thành bước: task_router -------\u001b[0m\n"
      ]
     },
     "metadata": {},
     "output_type": "display_data"
    },
    {
     "data": {
      "text/html": [
       "<pre style=\"white-space:pre;overflow-x:auto;line-height:normal;font-family:Menlo,'DejaVu Sans Mono',consolas,'Courier New',monospace\">\n",
       "<span style=\"color: #008080; text-decoration-color: #008080; font-weight: bold\">&gt;</span> `Agent: Task Dispatcher` đang giao việc<span style=\"color: #808000; text-decoration-color: #808000\">...</span>\n",
       "</pre>\n"
      ],
      "text/plain": [
       "\n",
       "\u001b[1;36m>\u001b[0m `Agent: Task Dispatcher` đang giao việc\u001b[33m...\u001b[0m\n"
      ]
     },
     "metadata": {},
     "output_type": "display_data"
    },
    {
     "data": {
      "text/html": [
       "<pre style=\"white-space:pre;overflow-x:auto;line-height:normal;font-family:Menlo,'DejaVu Sans Mono',consolas,'Courier New',monospace\">\n",
       "<span style=\"color: #008080; text-decoration-color: #008080; font-weight: bold\">&gt;</span> --- 🚚 `Dispatcher`: Giao nhiệm vụ cho `activity_designer`.\n",
       "</pre>\n"
      ],
      "text/plain": [
       "\n",
       "\u001b[1;36m>\u001b[0m --- 🚚 `Dispatcher`: Giao nhiệm vụ cho `activity_designer`.\n"
      ]
     },
     "metadata": {},
     "output_type": "display_data"
    },
    {
     "data": {
      "text/html": [
       "<pre style=\"white-space:pre;overflow-x:auto;line-height:normal;font-family:Menlo,'DejaVu Sans Mono',consolas,'Courier New',monospace\">\n",
       "<span style=\"color: #808000; text-decoration-color: #808000; font-weight: bold\">------- Hoàn thành bước: task_dispatcher -------</span>\n",
       "</pre>\n"
      ],
      "text/plain": [
       "\n",
       "\u001b[1;33m------- Hoàn thành bước: task_dispatcher -------\u001b[0m\n"
      ]
     },
     "metadata": {},
     "output_type": "display_data"
    },
    {
     "data": {
      "text/html": [
       "<pre style=\"white-space:pre;overflow-x:auto;line-height:normal;font-family:Menlo,'DejaVu Sans Mono',consolas,'Courier New',monospace\">\n",
       "<span style=\"color: #008080; text-decoration-color: #008080; font-weight: bold\">&gt;</span> `Agent: Activity Designer` <span style=\"font-weight: bold\">(</span>v13.<span style=\"color: #008080; text-decoration-color: #008080; font-weight: bold\">1</span> - Tư duy Phản tư<span style=\"font-weight: bold\">)</span> đang tạo nội dung<span style=\"color: #808000; text-decoration-color: #808000\">...</span>\n",
       "</pre>\n"
      ],
      "text/plain": [
       "\n",
       "\u001b[1;36m>\u001b[0m `Agent: Activity Designer` \u001b[1m(\u001b[0mv13.\u001b[1;36m1\u001b[0m - Tư duy Phản tư\u001b[1m)\u001b[0m đang tạo nội dung\u001b[33m...\u001b[0m\n"
      ]
     },
     "metadata": {},
     "output_type": "display_data"
    },
    {
     "data": {
      "text/html": [
       "<pre style=\"white-space:pre;overflow-x:auto;line-height:normal;font-family:Menlo,'DejaVu Sans Mono',consolas,'Courier New',monospace\"><span style=\"color: #008000; text-decoration-color: #008000; font-weight: bold\">✔️ Nội dung do Activity Designer tạo ra:</span>\n",
       "</pre>\n"
      ],
      "text/plain": [
       "\u001b[1;32m✔️ Nội dung do Activity Designer tạo ra:\u001b[0m\n"
      ]
     },
     "metadata": {},
     "output_type": "display_data"
    },
    {
     "data": {
      "text/html": [
       "<pre style=\"white-space:pre;overflow-x:auto;line-height:normal;font-family:Menlo,'DejaVu Sans Mono',consolas,'Courier New',monospace\"><span style=\"font-weight: bold\">{</span>\n",
       "<span style=\"color: #7fbf7f; text-decoration-color: #7fbf7f\">│   </span><span style=\"color: #008000; text-decoration-color: #008000\">'activity_name'</span>: <span style=\"color: #008000; text-decoration-color: #008000\">'Thảo luận nhóm và Chuẩn hóa kiến thức'</span>,\n",
       "<span style=\"color: #7fbf7f; text-decoration-color: #7fbf7f\">│   </span><span style=\"color: #008000; text-decoration-color: #008000\">'duration_minutes'</span>: <span style=\"color: #008080; text-decoration-color: #008080; font-weight: bold\">15</span>,\n",
       "<span style=\"color: #7fbf7f; text-decoration-color: #7fbf7f\">│   </span><span style=\"color: #008000; text-decoration-color: #008000\">'teacher_actions'</span>: <span style=\"font-weight: bold\">[</span>\n",
       "<span style=\"color: #7fbf7f; text-decoration-color: #7fbf7f\">│   │   </span><span style=\"color: #008000; text-decoration-color: #008000\">'Giới thiệu nhiệm vụ thảo luận và phân chia thời gian cụ thể cho từng phần (thảo luận nhóm, trình bày, tổng kết).'</span>,\n",
       "<span style=\"color: #7fbf7f; text-decoration-color: #7fbf7f\">│   │   </span><span style=\"color: #008000; text-decoration-color: #008000\">'Quan sát các nhóm làm việc, lắng nghe, gợi ý khi cần thiết (không can thiệp sâu vào nội dung thảo luận chính).'</span>,\n",
       "<span style=\"color: #7fbf7f; text-decoration-color: #7fbf7f\">│   │   </span><span style=\"color: #008000; text-decoration-color: #008000\">'Mời đại diện các nhóm trình bày nhanh kết quả.'</span>,\n",
       "<span style=\"color: #7fbf7f; text-decoration-color: #7fbf7f\">│   │   </span><span style=\"color: #008000; text-decoration-color: #008000\">'Tổng hợp các ý kiến, chuẩn hóa kiến thức trọng tâm, làm rõ các điểm còn mơ hồ hoặc sai sót dựa trên kết quả của học sinh.'</span>,\n",
       "<span style=\"color: #7fbf7f; text-decoration-color: #7fbf7f\">│   │   </span><span style=\"color: #008000; text-decoration-color: #008000\">'Khẳng định lại các kiến thức cốt lõi và chốt lại vấn đề học tập.'</span>\n",
       "<span style=\"color: #7fbf7f; text-decoration-color: #7fbf7f\">│   </span><span style=\"font-weight: bold\">]</span>,\n",
       "<span style=\"color: #7fbf7f; text-decoration-color: #7fbf7f\">│   </span><span style=\"color: #008000; text-decoration-color: #008000\">'extension_component'</span>: <span style=\"color: #008000; text-decoration-color: #008000\">'Học sinh hoàn thành sớm có thể chuẩn bị thêm các ví dụ minh họa khác cho kiến thức vừa được chuẩn hóa, hoặc suy nghĩ về các ứng dụng thực tế của kiến thức đó trong đời sống.'</span>,\n",
       "<span style=\"color: #7fbf7f; text-decoration-color: #7fbf7f\">│   </span><span style=\"color: #008000; text-decoration-color: #008000\">'solution_guide'</span>: <span style=\"color: #008000; text-decoration-color: #008000\">\"Giáo viên cần có sẵn các đáp án chuẩn hoặc các luận điểm chính cần được học sinh đạt tới. Chuẩn bị các câu hỏi gợi mở để dẫn dắt học sinh đến kiến thức đúng nếu các nhóm gặp khó khăn. Ví dụ: 'Điểm mấu chốt của vấn đề này là gì?', 'Có cách nào khác để diễn đạt không?', 'Tại sao lại chọn giải pháp này?'\"</span>,\n",
       "<span style=\"color: #7fbf7f; text-decoration-color: #7fbf7f\">│   </span><span style=\"color: #008000; text-decoration-color: #008000\">'differentiation'</span>: <span style=\"font-weight: bold\">{</span>\n",
       "<span style=\"color: #7fbf7f; text-decoration-color: #7fbf7f\">│   │   </span><span style=\"color: #008000; text-decoration-color: #008000\">'for_struggling_students'</span>: <span style=\"color: #008000; text-decoration-color: #008000\">'Giáo viên có thể gợi ý các câu hỏi nhỏ hơn, cụ thể hơn cho nhóm, hoặc cung cấp một số từ khóa/khái niệm để nhóm dễ dàng bắt đầu thảo luận. Đảm bảo các em được tham gia vào quá trình tổng hợp ý kiến.'</span>,\n",
       "<span style=\"color: #7fbf7f; text-decoration-color: #7fbf7f\">│   │   </span><span style=\"color: #008000; text-decoration-color: #008000\">'for_advanced_students'</span>: <span style=\"color: #008000; text-decoration-color: #008000\">'Khuyến khích các nhóm này đi sâu hơn vào phân tích, tìm ra nhiều khía cạnh của vấn đề, hoặc đề xuất các giải pháp sáng tạo hơn. Yêu cầu các em giải thích rõ ràng cơ sở lý luận cho câu trả lời của mình.'</span>\n",
       "<span style=\"color: #7fbf7f; text-decoration-color: #7fbf7f\">│   </span><span style=\"font-weight: bold\">}</span>,\n",
       "<span style=\"color: #7fbf7f; text-decoration-color: #7fbf7f\">│   </span><span style=\"color: #008000; text-decoration-color: #008000\">'question_or_description'</span>: <span style=\"color: #008000; text-decoration-color: #008000\">'Học sinh làm việc theo nhóm (3-4 người) để thảo luận về một vấn đề/câu hỏi cụ thể (do giáo viên đưa ra trước hoặc trong hoạt động). Các nhóm tổng hợp ý kiến, thống nhất câu trả lời hoặc giải pháp. Sau đó, đại diện 2-3 nhóm sẽ trình bày nhanh kết quả thảo luận của nhóm mình (mỗi nhóm khoảng 1-2 phút).'</span>,\n",
       "<span style=\"color: #7fbf7f; text-decoration-color: #7fbf7f\">│   </span><span style=\"color: #008000; text-decoration-color: #008000\">'content_type'</span>: <span style=\"color: #008000; text-decoration-color: #008000\">'Thảo luận nhóm, Tổng kết và Khái quát hóa'</span>\n",
       "<span style=\"font-weight: bold\">}</span>\n",
       "</pre>\n"
      ],
      "text/plain": [
       "\u001b[1m{\u001b[0m\n",
       "\u001b[2;32m│   \u001b[0m\u001b[32m'activity_name'\u001b[0m: \u001b[32m'Thảo luận nhóm và Chuẩn hóa kiến thức'\u001b[0m,\n",
       "\u001b[2;32m│   \u001b[0m\u001b[32m'duration_minutes'\u001b[0m: \u001b[1;36m15\u001b[0m,\n",
       "\u001b[2;32m│   \u001b[0m\u001b[32m'teacher_actions'\u001b[0m: \u001b[1m[\u001b[0m\n",
       "\u001b[2;32m│   │   \u001b[0m\u001b[32m'Giới thiệu nhiệm vụ thảo luận và phân chia thời gian cụ thể cho từng phần \u001b[0m\u001b[32m(\u001b[0m\u001b[32mthảo luận nhóm, trình bày, tổng kết\u001b[0m\u001b[32m)\u001b[0m\u001b[32m.'\u001b[0m,\n",
       "\u001b[2;32m│   │   \u001b[0m\u001b[32m'Quan sát các nhóm làm việc, lắng nghe, gợi ý khi cần thiết \u001b[0m\u001b[32m(\u001b[0m\u001b[32mkhông can thiệp sâu vào nội dung thảo luận chính\u001b[0m\u001b[32m)\u001b[0m\u001b[32m.'\u001b[0m,\n",
       "\u001b[2;32m│   │   \u001b[0m\u001b[32m'Mời đại diện các nhóm trình bày nhanh kết quả.'\u001b[0m,\n",
       "\u001b[2;32m│   │   \u001b[0m\u001b[32m'Tổng hợp các ý kiến, chuẩn hóa kiến thức trọng tâm, làm rõ các điểm còn mơ hồ hoặc sai sót dựa trên kết quả của học sinh.'\u001b[0m,\n",
       "\u001b[2;32m│   │   \u001b[0m\u001b[32m'Khẳng định lại các kiến thức cốt lõi và chốt lại vấn đề học tập.'\u001b[0m\n",
       "\u001b[2;32m│   \u001b[0m\u001b[1m]\u001b[0m,\n",
       "\u001b[2;32m│   \u001b[0m\u001b[32m'extension_component'\u001b[0m: \u001b[32m'Học sinh hoàn thành sớm có thể chuẩn bị thêm các ví dụ minh họa khác cho kiến thức vừa được chuẩn hóa, hoặc suy nghĩ về các ứng dụng thực tế của kiến thức đó trong đời sống.'\u001b[0m,\n",
       "\u001b[2;32m│   \u001b[0m\u001b[32m'solution_guide'\u001b[0m: \u001b[32m\"Giáo viên cần có sẵn các đáp án chuẩn hoặc các luận điểm chính cần được học sinh đạt tới. Chuẩn bị các câu hỏi gợi mở để dẫn dắt học sinh đến kiến thức đúng nếu các nhóm gặp khó khăn. Ví dụ: 'Điểm mấu chốt của vấn đề này là gì?', 'Có cách nào khác để diễn đạt không?', 'Tại sao lại chọn giải pháp này?'\"\u001b[0m,\n",
       "\u001b[2;32m│   \u001b[0m\u001b[32m'differentiation'\u001b[0m: \u001b[1m{\u001b[0m\n",
       "\u001b[2;32m│   │   \u001b[0m\u001b[32m'for_struggling_students'\u001b[0m: \u001b[32m'Giáo viên có thể gợi ý các câu hỏi nhỏ hơn, cụ thể hơn cho nhóm, hoặc cung cấp một số từ khóa/khái niệm để nhóm dễ dàng bắt đầu thảo luận. Đảm bảo các em được tham gia vào quá trình tổng hợp ý kiến.'\u001b[0m,\n",
       "\u001b[2;32m│   │   \u001b[0m\u001b[32m'for_advanced_students'\u001b[0m: \u001b[32m'Khuyến khích các nhóm này đi sâu hơn vào phân tích, tìm ra nhiều khía cạnh của vấn đề, hoặc đề xuất các giải pháp sáng tạo hơn. Yêu cầu các em giải thích rõ ràng cơ sở lý luận cho câu trả lời của mình.'\u001b[0m\n",
       "\u001b[2;32m│   \u001b[0m\u001b[1m}\u001b[0m,\n",
       "\u001b[2;32m│   \u001b[0m\u001b[32m'question_or_description'\u001b[0m: \u001b[32m'Học sinh làm việc theo nhóm \u001b[0m\u001b[32m(\u001b[0m\u001b[32m3-4 người\u001b[0m\u001b[32m)\u001b[0m\u001b[32m để thảo luận về một vấn đề/câu hỏi cụ thể \u001b[0m\u001b[32m(\u001b[0m\u001b[32mdo giáo viên đưa ra trước hoặc trong hoạt động\u001b[0m\u001b[32m)\u001b[0m\u001b[32m. Các nhóm tổng hợp ý kiến, thống nhất câu trả lời hoặc giải pháp. Sau đó, đại diện 2-3 nhóm sẽ trình bày nhanh kết quả thảo luận của nhóm mình \u001b[0m\u001b[32m(\u001b[0m\u001b[32mmỗi nhóm khoảng 1-2 phút\u001b[0m\u001b[32m)\u001b[0m\u001b[32m.'\u001b[0m,\n",
       "\u001b[2;32m│   \u001b[0m\u001b[32m'content_type'\u001b[0m: \u001b[32m'Thảo luận nhóm, Tổng kết và Khái quát hóa'\u001b[0m\n",
       "\u001b[1m}\u001b[0m\n"
      ]
     },
     "metadata": {},
     "output_type": "display_data"
    },
    {
     "data": {
      "text/html": [
       "<pre style=\"white-space:pre;overflow-x:auto;line-height:normal;font-family:Menlo,'DejaVu Sans Mono',consolas,'Courier New',monospace\">\n",
       "<span style=\"color: #808000; text-decoration-color: #808000; font-weight: bold\">------- Hoàn thành bước: activity_designer -------</span>\n",
       "</pre>\n"
      ],
      "text/plain": [
       "\n",
       "\u001b[1;33m------- Hoàn thành bước: activity_designer -------\u001b[0m\n"
      ]
     },
     "metadata": {},
     "output_type": "display_data"
    },
    {
     "data": {
      "text/html": [
       "<pre style=\"white-space:pre;overflow-x:auto;line-height:normal;font-family:Menlo,'DejaVu Sans Mono',consolas,'Courier New',monospace\">\n",
       "<span style=\"color: #008080; text-decoration-color: #008080; font-weight: bold\">&gt;</span> `Agent: Easy-Going Critic` <span style=\"font-weight: bold\">(</span>v13.<span style=\"color: #008080; text-decoration-color: #008080; font-weight: bold\">1</span><span style=\"font-weight: bold\">)</span> đang phân tích<span style=\"color: #808000; text-decoration-color: #808000\">...</span>\n",
       "</pre>\n"
      ],
      "text/plain": [
       "\n",
       "\u001b[1;36m>\u001b[0m `Agent: Easy-Going Critic` \u001b[1m(\u001b[0mv13.\u001b[1;36m1\u001b[0m\u001b[1m)\u001b[0m đang phân tích\u001b[33m...\u001b[0m\n"
      ]
     },
     "metadata": {},
     "output_type": "display_data"
    },
    {
     "data": {
      "text/html": [
       "<pre style=\"white-space:pre;overflow-x:auto;line-height:normal;font-family:Menlo,'DejaVu Sans Mono',consolas,'Courier New',monospace\">\n",
       "<span style=\"color: #008080; text-decoration-color: #008080; font-weight: bold\">&gt;</span> ✔️ CRITIC <span style=\"font-weight: bold\">(</span>Lần <span style=\"color: #008080; text-decoration-color: #008080; font-weight: bold\">1</span><span style=\"font-weight: bold\">)</span>: Nội dung được duyệt! <span style=\"font-weight: bold\">(</span>Góp ý: Hoạt động này được thiết kế rất tốt, bao gồm đầy đủ các bước từ \n",
       "thảo luận nhóm đến chuẩn hóa kiến thức, có cả phần mở rộng và phân hóa. Tuy nhiên, với thời lượng <span style=\"color: #008080; text-decoration-color: #008080; font-weight: bold\">15</span> phút, việc \n",
       "thực hiện tất cả các bước một cách hiệu quả có thể khá thách thức. Giáo viên cần quản lý thời gian rất chặt chẽ, có\n",
       "thể rút ngắn thời gian trình bày của các nhóm hoặc tập trung vào việc chuẩn hóa các ý chính nhất để đảm bảo hoàn \n",
       "thành trong khung thời gian cho phép.<span style=\"font-weight: bold\">)</span>\n",
       "</pre>\n"
      ],
      "text/plain": [
       "\n",
       "\u001b[1;36m>\u001b[0m ✔️ CRITIC \u001b[1m(\u001b[0mLần \u001b[1;36m1\u001b[0m\u001b[1m)\u001b[0m: Nội dung được duyệt! \u001b[1m(\u001b[0mGóp ý: Hoạt động này được thiết kế rất tốt, bao gồm đầy đủ các bước từ \n",
       "thảo luận nhóm đến chuẩn hóa kiến thức, có cả phần mở rộng và phân hóa. Tuy nhiên, với thời lượng \u001b[1;36m15\u001b[0m phút, việc \n",
       "thực hiện tất cả các bước một cách hiệu quả có thể khá thách thức. Giáo viên cần quản lý thời gian rất chặt chẽ, có\n",
       "thể rút ngắn thời gian trình bày của các nhóm hoặc tập trung vào việc chuẩn hóa các ý chính nhất để đảm bảo hoàn \n",
       "thành trong khung thời gian cho phép.\u001b[1m)\u001b[0m\n"
      ]
     },
     "metadata": {},
     "output_type": "display_data"
    },
    {
     "data": {
      "text/html": [
       "<pre style=\"white-space:pre;overflow-x:auto;line-height:normal;font-family:Menlo,'DejaVu Sans Mono',consolas,'Courier New',monospace\">\n",
       "<span style=\"color: #808000; text-decoration-color: #808000; font-weight: bold\">------- Hoàn thành bước: content_validator -------</span>\n",
       "</pre>\n"
      ],
      "text/plain": [
       "\n",
       "\u001b[1;33m------- Hoàn thành bước: content_validator -------\u001b[0m\n"
      ]
     },
     "metadata": {},
     "output_type": "display_data"
    },
    {
     "data": {
      "text/html": [
       "<pre style=\"white-space:pre;overflow-x:auto;line-height:normal;font-family:Menlo,'DejaVu Sans Mono',consolas,'Courier New',monospace\">\n",
       "<span style=\"color: #008080; text-decoration-color: #008080; font-weight: bold\">&gt;</span> `Commiter`: Đang ghi nhận nội dung đã được xác thực<span style=\"color: #808000; text-decoration-color: #808000\">...</span>\n",
       "</pre>\n"
      ],
      "text/plain": [
       "\n",
       "\u001b[1;36m>\u001b[0m `Commiter`: Đang ghi nhận nội dung đã được xác thực\u001b[33m...\u001b[0m\n"
      ]
     },
     "metadata": {},
     "output_type": "display_data"
    },
    {
     "data": {
      "text/html": [
       "<pre style=\"white-space:pre;overflow-x:auto;line-height:normal;font-family:Menlo,'DejaVu Sans Mono',consolas,'Courier New',monospace\">\n",
       "<span style=\"color: #808000; text-decoration-color: #808000; font-weight: bold\">------- Hoàn thành bước: commit_validated_content -------</span>\n",
       "</pre>\n"
      ],
      "text/plain": [
       "\n",
       "\u001b[1;33m------- Hoàn thành bước: commit_validated_content -------\u001b[0m\n"
      ]
     },
     "metadata": {},
     "output_type": "display_data"
    },
    {
     "data": {
      "text/html": [
       "<pre style=\"white-space:pre;overflow-x:auto;line-height:normal;font-family:Menlo,'DejaVu Sans Mono',consolas,'Courier New',monospace\">\n",
       "<span style=\"color: #808000; text-decoration-color: #808000; font-weight: bold\">------- Hoàn thành bước: mark_task_complete -------</span>\n",
       "</pre>\n"
      ],
      "text/plain": [
       "\n",
       "\u001b[1;33m------- Hoàn thành bước: mark_task_complete -------\u001b[0m\n"
      ]
     },
     "metadata": {},
     "output_type": "display_data"
    },
    {
     "data": {
      "text/html": [
       "<pre style=\"white-space:pre;overflow-x:auto;line-height:normal;font-family:Menlo,'DejaVu Sans Mono',consolas,'Courier New',monospace\">\n",
       "<span style=\"color: #808000; text-decoration-color: #808000; font-weight: bold\">------- Hoàn thành bước: delay_node -------</span>\n",
       "</pre>\n"
      ],
      "text/plain": [
       "\n",
       "\u001b[1;33m------- Hoàn thành bước: delay_node -------\u001b[0m\n"
      ]
     },
     "metadata": {},
     "output_type": "display_data"
    },
    {
     "data": {
      "text/html": [
       "<pre style=\"white-space:pre;overflow-x:auto;line-height:normal;font-family:Menlo,'DejaVu Sans Mono',consolas,'Courier New',monospace\">\n",
       "<span style=\"color: #008080; text-decoration-color: #008080; font-weight: bold\">&gt;</span> `Router`: Đang kiểm tra nhiệm vụ<span style=\"color: #808000; text-decoration-color: #808000\">...</span>\n",
       "</pre>\n"
      ],
      "text/plain": [
       "\n",
       "\u001b[1;36m>\u001b[0m `Router`: Đang kiểm tra nhiệm vụ\u001b[33m...\u001b[0m\n"
      ]
     },
     "metadata": {},
     "output_type": "display_data"
    },
    {
     "data": {
      "text/html": [
       "<pre style=\"white-space:pre;overflow-x:auto;line-height:normal;font-family:Menlo,'DejaVu Sans Mono',consolas,'Courier New',monospace\">\n",
       "<span style=\"color: #008080; text-decoration-color: #008080; font-weight: bold\">&gt;</span> Nhiệm vụ tiếp theo: <span style=\"color: #008000; text-decoration-color: #008000\">'Luyện tập và Vận dụng các kiến thức cơ bản'</span> <span style=\"font-weight: bold\">(</span>ID: <span style=\"color: #008080; text-decoration-color: #008080; font-weight: bold\">3</span><span style=\"font-weight: bold\">)</span>\n",
       "</pre>\n"
      ],
      "text/plain": [
       "\n",
       "\u001b[1;36m>\u001b[0m Nhiệm vụ tiếp theo: \u001b[32m'Luyện tập và Vận dụng các kiến thức cơ bản'\u001b[0m \u001b[1m(\u001b[0mID: \u001b[1;36m3\u001b[0m\u001b[1m)\u001b[0m\n"
      ]
     },
     "metadata": {},
     "output_type": "display_data"
    },
    {
     "data": {
      "text/html": [
       "<pre style=\"white-space:pre;overflow-x:auto;line-height:normal;font-family:Menlo,'DejaVu Sans Mono',consolas,'Courier New',monospace\">\n",
       "<span style=\"color: #808000; text-decoration-color: #808000; font-weight: bold\">------- Hoàn thành bước: task_router -------</span>\n",
       "</pre>\n"
      ],
      "text/plain": [
       "\n",
       "\u001b[1;33m------- Hoàn thành bước: task_router -------\u001b[0m\n"
      ]
     },
     "metadata": {},
     "output_type": "display_data"
    },
    {
     "data": {
      "text/html": [
       "<pre style=\"white-space:pre;overflow-x:auto;line-height:normal;font-family:Menlo,'DejaVu Sans Mono',consolas,'Courier New',monospace\">\n",
       "<span style=\"color: #008080; text-decoration-color: #008080; font-weight: bold\">&gt;</span> `Agent: Task Dispatcher` đang giao việc<span style=\"color: #808000; text-decoration-color: #808000\">...</span>\n",
       "</pre>\n"
      ],
      "text/plain": [
       "\n",
       "\u001b[1;36m>\u001b[0m `Agent: Task Dispatcher` đang giao việc\u001b[33m...\u001b[0m\n"
      ]
     },
     "metadata": {},
     "output_type": "display_data"
    },
    {
     "data": {
      "text/html": [
       "<pre style=\"white-space:pre;overflow-x:auto;line-height:normal;font-family:Menlo,'DejaVu Sans Mono',consolas,'Courier New',monospace\">\n",
       "<span style=\"color: #008080; text-decoration-color: #008080; font-weight: bold\">&gt;</span> --- 🚚 `Dispatcher`: Giao nhiệm vụ cho `activity_designer`.\n",
       "</pre>\n"
      ],
      "text/plain": [
       "\n",
       "\u001b[1;36m>\u001b[0m --- 🚚 `Dispatcher`: Giao nhiệm vụ cho `activity_designer`.\n"
      ]
     },
     "metadata": {},
     "output_type": "display_data"
    },
    {
     "data": {
      "text/html": [
       "<pre style=\"white-space:pre;overflow-x:auto;line-height:normal;font-family:Menlo,'DejaVu Sans Mono',consolas,'Courier New',monospace\">\n",
       "<span style=\"color: #808000; text-decoration-color: #808000; font-weight: bold\">------- Hoàn thành bước: task_dispatcher -------</span>\n",
       "</pre>\n"
      ],
      "text/plain": [
       "\n",
       "\u001b[1;33m------- Hoàn thành bước: task_dispatcher -------\u001b[0m\n"
      ]
     },
     "metadata": {},
     "output_type": "display_data"
    },
    {
     "data": {
      "text/html": [
       "<pre style=\"white-space:pre;overflow-x:auto;line-height:normal;font-family:Menlo,'DejaVu Sans Mono',consolas,'Courier New',monospace\">\n",
       "<span style=\"color: #008080; text-decoration-color: #008080; font-weight: bold\">&gt;</span> `Agent: Activity Designer` <span style=\"font-weight: bold\">(</span>v13.<span style=\"color: #008080; text-decoration-color: #008080; font-weight: bold\">1</span> - Tư duy Phản tư<span style=\"font-weight: bold\">)</span> đang tạo nội dung<span style=\"color: #808000; text-decoration-color: #808000\">...</span>\n",
       "</pre>\n"
      ],
      "text/plain": [
       "\n",
       "\u001b[1;36m>\u001b[0m `Agent: Activity Designer` \u001b[1m(\u001b[0mv13.\u001b[1;36m1\u001b[0m - Tư duy Phản tư\u001b[1m)\u001b[0m đang tạo nội dung\u001b[33m...\u001b[0m\n"
      ]
     },
     "metadata": {},
     "output_type": "display_data"
    },
    {
     "data": {
      "text/html": [
       "<pre style=\"white-space:pre;overflow-x:auto;line-height:normal;font-family:Menlo,'DejaVu Sans Mono',consolas,'Courier New',monospace\"><span style=\"color: #008000; text-decoration-color: #008000; font-weight: bold\">✔️ Nội dung do Activity Designer tạo ra:</span>\n",
       "</pre>\n"
      ],
      "text/plain": [
       "\u001b[1;32m✔️ Nội dung do Activity Designer tạo ra:\u001b[0m\n"
      ]
     },
     "metadata": {},
     "output_type": "display_data"
    },
    {
     "data": {
      "text/html": [
       "<pre style=\"white-space:pre;overflow-x:auto;line-height:normal;font-family:Menlo,'DejaVu Sans Mono',consolas,'Courier New',monospace\"><span style=\"font-weight: bold\">{</span>\n",
       "<span style=\"color: #7fbf7f; text-decoration-color: #7fbf7f\">│   </span><span style=\"color: #008000; text-decoration-color: #008000\">'activity_name'</span>: <span style=\"color: #008000; text-decoration-color: #008000\">'Luyện tập và Vận dụng kiến thức cơ bản'</span>,\n",
       "<span style=\"color: #7fbf7f; text-decoration-color: #7fbf7f\">│   </span><span style=\"color: #008000; text-decoration-color: #008000\">'duration_minutes'</span>: <span style=\"color: #008080; text-decoration-color: #008080; font-weight: bold\">20</span>,\n",
       "<span style=\"color: #7fbf7f; text-decoration-color: #7fbf7f\">│   </span><span style=\"color: #008000; text-decoration-color: #008000\">'teacher_actions'</span>: <span style=\"font-weight: bold\">[</span>\n",
       "<span style=\"color: #7fbf7f; text-decoration-color: #7fbf7f\">│   │   </span><span style=\"color: #008000; text-decoration-color: #008000\">'Phát phiếu bài tập hoặc hướng dẫn học sinh làm bài tập trong sách giáo khoa.'</span>,\n",
       "<span style=\"color: #7fbf7f; text-decoration-color: #7fbf7f\">│   │   </span><span style=\"color: #008000; text-decoration-color: #008000\">'Quan sát, đi lại trong lớp, kịp thời hỗ trợ các nhóm/cá nhân gặp khó khăn.'</span>,\n",
       "<span style=\"color: #7fbf7f; text-decoration-color: #7fbf7f\">│   │   </span><span style=\"color: #008000; text-decoration-color: #008000\">'Gợi ý, đặt câu hỏi dẫn dắt cho học sinh yếu.'</span>,\n",
       "<span style=\"color: #7fbf7f; text-decoration-color: #7fbf7f\">│   │   </span><span style=\"color: #008000; text-decoration-color: #008000\">'Mời 2-3 học sinh (có thể là học sinh yếu và học sinh khá) lên bảng trình bày hoặc chia sẻ cách làm/kết quả.'</span>,\n",
       "<span style=\"color: #7fbf7f; text-decoration-color: #7fbf7f\">│   │   </span><span style=\"color: #008000; text-decoration-color: #008000\">'Tổ chức cho học sinh nhận xét, bổ sung bài làm của bạn.'</span>,\n",
       "<span style=\"color: #7fbf7f; text-decoration-color: #7fbf7f\">│   │   </span><span style=\"color: #008000; text-decoration-color: #008000\">'Chốt lại kiến thức và phương pháp giải.'</span>\n",
       "<span style=\"color: #7fbf7f; text-decoration-color: #7fbf7f\">│   </span><span style=\"font-weight: bold\">]</span>,\n",
       "<span style=\"color: #7fbf7f; text-decoration-color: #7fbf7f\">│   </span><span style=\"color: #008000; text-decoration-color: #008000\">'extension_component'</span>: <span style=\"color: #008000; text-decoration-color: #008000\">'Đối với học sinh hoàn thành sớm, có thể làm thêm bài tập nâng cao (1 bài) hoặc suy nghĩ về một câu hỏi mở rộng liên hệ thực tế liên quan đến kiến thức đã học.'</span>,\n",
       "<span style=\"color: #7fbf7f; text-decoration-color: #7fbf7f\">│   </span><span style=\"color: #008000; text-decoration-color: #008000\">'solution_guide'</span>: <span style=\"color: #008000; text-decoration-color: #008000\">'Gợi ý các bước giải chung cho dạng bài tập. Nhấn mạnh các lỗi thường gặp và cách khắc phục. Đưa ra các câu hỏi kiểm tra sự hiểu biết: \"Tại sao lại chọn phương pháp này?\", \"Có cách giải nào khác không?\", \"Kiến thức này có thể ứng dụng vào đâu trong thực tế?\"'</span>,\n",
       "<span style=\"color: #7fbf7f; text-decoration-color: #7fbf7f\">│   </span><span style=\"color: #008000; text-decoration-color: #008000\">'differentiation'</span>: <span style=\"font-weight: bold\">{</span>\n",
       "<span style=\"color: #7fbf7f; text-decoration-color: #7fbf7f\">│   │   </span><span style=\"color: #008000; text-decoration-color: #008000\">'for_struggling_students'</span>: <span style=\"color: #008000; text-decoration-color: #008000\">'Giáo viên cung cấp các gợi ý cụ thể, công thức, hoặc ví dụ mẫu. Có thể cho phép học sinh yếu chỉ làm một phần của bài tập hoặc tập trung vào các câu hỏi dễ hơn. Hỗ trợ trực tiếp, giải đáp thắc mắc cá nhân.'</span>,\n",
       "<span style=\"color: #7fbf7f; text-decoration-color: #7fbf7f\">│   │   </span><span style=\"color: #008000; text-decoration-color: #008000\">'for_advanced_students'</span>: <span style=\"color: #008000; text-decoration-color: #008000\">'Khuyến khích làm các bài tập mở rộng hoặc câu hỏi tư duy. Yêu cầu giải thích sâu hơn về cách làm, các phương pháp khác nhau hoặc ứng dụng thực tế của kiến thức. Có thể giao nhiệm vụ hỗ trợ các bạn trong nhóm.'</span>\n",
       "<span style=\"color: #7fbf7f; text-decoration-color: #7fbf7f\">│   </span><span style=\"font-weight: bold\">}</span>,\n",
       "<span style=\"color: #7fbf7f; text-decoration-color: #7fbf7f\">│   </span><span style=\"color: #008000; text-decoration-color: #008000\">'question_or_description'</span>: <span style=\"color: #008000; text-decoration-color: #008000\">'Học sinh làm các bài tập vận dụng trực tiếp kiến thức vừa học (ví dụ: giải 2-3 bài tập cơ bản trong sách giáo khoa hoặc phiếu bài tập). Sau đó, học sinh có thể trao đổi nhanh kết quả với bạn bên cạnh.'</span>,\n",
       "<span style=\"color: #7fbf7f; text-decoration-color: #7fbf7f\">│   </span><span style=\"color: #008000; text-decoration-color: #008000\">'content_type'</span>: <span style=\"color: #008000; text-decoration-color: #008000\">'Thực hành cá nhân và Chia sẻ nhóm'</span>\n",
       "<span style=\"font-weight: bold\">}</span>\n",
       "</pre>\n"
      ],
      "text/plain": [
       "\u001b[1m{\u001b[0m\n",
       "\u001b[2;32m│   \u001b[0m\u001b[32m'activity_name'\u001b[0m: \u001b[32m'Luyện tập và Vận dụng kiến thức cơ bản'\u001b[0m,\n",
       "\u001b[2;32m│   \u001b[0m\u001b[32m'duration_minutes'\u001b[0m: \u001b[1;36m20\u001b[0m,\n",
       "\u001b[2;32m│   \u001b[0m\u001b[32m'teacher_actions'\u001b[0m: \u001b[1m[\u001b[0m\n",
       "\u001b[2;32m│   │   \u001b[0m\u001b[32m'Phát phiếu bài tập hoặc hướng dẫn học sinh làm bài tập trong sách giáo khoa.'\u001b[0m,\n",
       "\u001b[2;32m│   │   \u001b[0m\u001b[32m'Quan sát, đi lại trong lớp, kịp thời hỗ trợ các nhóm/cá nhân gặp khó khăn.'\u001b[0m,\n",
       "\u001b[2;32m│   │   \u001b[0m\u001b[32m'Gợi ý, đặt câu hỏi dẫn dắt cho học sinh yếu.'\u001b[0m,\n",
       "\u001b[2;32m│   │   \u001b[0m\u001b[32m'Mời 2-3 học sinh \u001b[0m\u001b[32m(\u001b[0m\u001b[32mcó thể là học sinh yếu và học sinh khá\u001b[0m\u001b[32m)\u001b[0m\u001b[32m lên bảng trình bày hoặc chia sẻ cách làm/kết quả.'\u001b[0m,\n",
       "\u001b[2;32m│   │   \u001b[0m\u001b[32m'Tổ chức cho học sinh nhận xét, bổ sung bài làm của bạn.'\u001b[0m,\n",
       "\u001b[2;32m│   │   \u001b[0m\u001b[32m'Chốt lại kiến thức và phương pháp giải.'\u001b[0m\n",
       "\u001b[2;32m│   \u001b[0m\u001b[1m]\u001b[0m,\n",
       "\u001b[2;32m│   \u001b[0m\u001b[32m'extension_component'\u001b[0m: \u001b[32m'Đối với học sinh hoàn thành sớm, có thể làm thêm bài tập nâng cao \u001b[0m\u001b[32m(\u001b[0m\u001b[32m1 bài\u001b[0m\u001b[32m)\u001b[0m\u001b[32m hoặc suy nghĩ về một câu hỏi mở rộng liên hệ thực tế liên quan đến kiến thức đã học.'\u001b[0m,\n",
       "\u001b[2;32m│   \u001b[0m\u001b[32m'solution_guide'\u001b[0m: \u001b[32m'Gợi ý các bước giải chung cho dạng bài tập. Nhấn mạnh các lỗi thường gặp và cách khắc phục. Đưa ra các câu hỏi kiểm tra sự hiểu biết: \"Tại sao lại chọn phương pháp này?\", \"Có cách giải nào khác không?\", \"Kiến thức này có thể ứng dụng vào đâu trong thực tế?\"'\u001b[0m,\n",
       "\u001b[2;32m│   \u001b[0m\u001b[32m'differentiation'\u001b[0m: \u001b[1m{\u001b[0m\n",
       "\u001b[2;32m│   │   \u001b[0m\u001b[32m'for_struggling_students'\u001b[0m: \u001b[32m'Giáo viên cung cấp các gợi ý cụ thể, công thức, hoặc ví dụ mẫu. Có thể cho phép học sinh yếu chỉ làm một phần của bài tập hoặc tập trung vào các câu hỏi dễ hơn. Hỗ trợ trực tiếp, giải đáp thắc mắc cá nhân.'\u001b[0m,\n",
       "\u001b[2;32m│   │   \u001b[0m\u001b[32m'for_advanced_students'\u001b[0m: \u001b[32m'Khuyến khích làm các bài tập mở rộng hoặc câu hỏi tư duy. Yêu cầu giải thích sâu hơn về cách làm, các phương pháp khác nhau hoặc ứng dụng thực tế của kiến thức. Có thể giao nhiệm vụ hỗ trợ các bạn trong nhóm.'\u001b[0m\n",
       "\u001b[2;32m│   \u001b[0m\u001b[1m}\u001b[0m,\n",
       "\u001b[2;32m│   \u001b[0m\u001b[32m'question_or_description'\u001b[0m: \u001b[32m'Học sinh làm các bài tập vận dụng trực tiếp kiến thức vừa học \u001b[0m\u001b[32m(\u001b[0m\u001b[32mví dụ: giải 2-3 bài tập cơ bản trong sách giáo khoa hoặc phiếu bài tập\u001b[0m\u001b[32m)\u001b[0m\u001b[32m. Sau đó, học sinh có thể trao đổi nhanh kết quả với bạn bên cạnh.'\u001b[0m,\n",
       "\u001b[2;32m│   \u001b[0m\u001b[32m'content_type'\u001b[0m: \u001b[32m'Thực hành cá nhân và Chia sẻ nhóm'\u001b[0m\n",
       "\u001b[1m}\u001b[0m\n"
      ]
     },
     "metadata": {},
     "output_type": "display_data"
    },
    {
     "data": {
      "text/html": [
       "<pre style=\"white-space:pre;overflow-x:auto;line-height:normal;font-family:Menlo,'DejaVu Sans Mono',consolas,'Courier New',monospace\">\n",
       "<span style=\"color: #808000; text-decoration-color: #808000; font-weight: bold\">------- Hoàn thành bước: activity_designer -------</span>\n",
       "</pre>\n"
      ],
      "text/plain": [
       "\n",
       "\u001b[1;33m------- Hoàn thành bước: activity_designer -------\u001b[0m\n"
      ]
     },
     "metadata": {},
     "output_type": "display_data"
    },
    {
     "data": {
      "text/html": [
       "<pre style=\"white-space:pre;overflow-x:auto;line-height:normal;font-family:Menlo,'DejaVu Sans Mono',consolas,'Courier New',monospace\">\n",
       "<span style=\"color: #008080; text-decoration-color: #008080; font-weight: bold\">&gt;</span> `Agent: Easy-Going Critic` <span style=\"font-weight: bold\">(</span>v13.<span style=\"color: #008080; text-decoration-color: #008080; font-weight: bold\">1</span><span style=\"font-weight: bold\">)</span> đang phân tích<span style=\"color: #808000; text-decoration-color: #808000\">...</span>\n",
       "</pre>\n"
      ],
      "text/plain": [
       "\n",
       "\u001b[1;36m>\u001b[0m `Agent: Easy-Going Critic` \u001b[1m(\u001b[0mv13.\u001b[1;36m1\u001b[0m\u001b[1m)\u001b[0m đang phân tích\u001b[33m...\u001b[0m\n"
      ]
     },
     "metadata": {},
     "output_type": "display_data"
    },
    {
     "data": {
      "text/html": [
       "<pre style=\"white-space:pre;overflow-x:auto;line-height:normal;font-family:Menlo,'DejaVu Sans Mono',consolas,'Courier New',monospace\">\n",
       "<span style=\"color: #008080; text-decoration-color: #008080; font-weight: bold\">&gt;</span> ✔️ CRITIC <span style=\"font-weight: bold\">(</span>Lần <span style=\"color: #008080; text-decoration-color: #008080; font-weight: bold\">1</span><span style=\"font-weight: bold\">)</span>: Nội dung được duyệt! <span style=\"font-weight: bold\">(</span>Góp ý: Hoạt động này được thiết kế rất đầy đủ và chi tiết, bao quát nhiều\n",
       "khía cạnh từ thực hành cá nhân đến chia sẻ nhóm và phân hóa học sinh. Tuy nhiên, với thời lượng <span style=\"color: #008080; text-decoration-color: #008080; font-weight: bold\">20</span> phút, việc thực \n",
       "hiện tất cả các bước một cách trọn vẹn có thể sẽ hơi gấp gáp. Giáo viên cần linh hoạt trong việc quản lý thời gian,\n",
       "có thể ưu tiên các bài tập trọng tâm và phần chốt kiến thức. Đối với phần mời học sinh lên bảng và nhận xét, có thể\n",
       "chọn lọc <span style=\"color: #008080; text-decoration-color: #008080; font-weight: bold\">1</span>-<span style=\"color: #008080; text-decoration-color: #008080; font-weight: bold\">2</span> bài tiêu biểu để đảm bảo tiến độ. Các hoạt động mở rộng và phân hóa cần được triển khai một cách khéo \n",
       "léo, có thể chỉ dành cho một số đối tượng học sinh nhất định hoặc khi còn thời gian.<span style=\"font-weight: bold\">)</span>\n",
       "</pre>\n"
      ],
      "text/plain": [
       "\n",
       "\u001b[1;36m>\u001b[0m ✔️ CRITIC \u001b[1m(\u001b[0mLần \u001b[1;36m1\u001b[0m\u001b[1m)\u001b[0m: Nội dung được duyệt! \u001b[1m(\u001b[0mGóp ý: Hoạt động này được thiết kế rất đầy đủ và chi tiết, bao quát nhiều\n",
       "khía cạnh từ thực hành cá nhân đến chia sẻ nhóm và phân hóa học sinh. Tuy nhiên, với thời lượng \u001b[1;36m20\u001b[0m phút, việc thực \n",
       "hiện tất cả các bước một cách trọn vẹn có thể sẽ hơi gấp gáp. Giáo viên cần linh hoạt trong việc quản lý thời gian,\n",
       "có thể ưu tiên các bài tập trọng tâm và phần chốt kiến thức. Đối với phần mời học sinh lên bảng và nhận xét, có thể\n",
       "chọn lọc \u001b[1;36m1\u001b[0m-\u001b[1;36m2\u001b[0m bài tiêu biểu để đảm bảo tiến độ. Các hoạt động mở rộng và phân hóa cần được triển khai một cách khéo \n",
       "léo, có thể chỉ dành cho một số đối tượng học sinh nhất định hoặc khi còn thời gian.\u001b[1m)\u001b[0m\n"
      ]
     },
     "metadata": {},
     "output_type": "display_data"
    },
    {
     "data": {
      "text/html": [
       "<pre style=\"white-space:pre;overflow-x:auto;line-height:normal;font-family:Menlo,'DejaVu Sans Mono',consolas,'Courier New',monospace\">\n",
       "<span style=\"color: #808000; text-decoration-color: #808000; font-weight: bold\">------- Hoàn thành bước: content_validator -------</span>\n",
       "</pre>\n"
      ],
      "text/plain": [
       "\n",
       "\u001b[1;33m------- Hoàn thành bước: content_validator -------\u001b[0m\n"
      ]
     },
     "metadata": {},
     "output_type": "display_data"
    },
    {
     "data": {
      "text/html": [
       "<pre style=\"white-space:pre;overflow-x:auto;line-height:normal;font-family:Menlo,'DejaVu Sans Mono',consolas,'Courier New',monospace\">\n",
       "<span style=\"color: #008080; text-decoration-color: #008080; font-weight: bold\">&gt;</span> `Commiter`: Đang ghi nhận nội dung đã được xác thực<span style=\"color: #808000; text-decoration-color: #808000\">...</span>\n",
       "</pre>\n"
      ],
      "text/plain": [
       "\n",
       "\u001b[1;36m>\u001b[0m `Commiter`: Đang ghi nhận nội dung đã được xác thực\u001b[33m...\u001b[0m\n"
      ]
     },
     "metadata": {},
     "output_type": "display_data"
    },
    {
     "data": {
      "text/html": [
       "<pre style=\"white-space:pre;overflow-x:auto;line-height:normal;font-family:Menlo,'DejaVu Sans Mono',consolas,'Courier New',monospace\">\n",
       "<span style=\"color: #808000; text-decoration-color: #808000; font-weight: bold\">------- Hoàn thành bước: commit_validated_content -------</span>\n",
       "</pre>\n"
      ],
      "text/plain": [
       "\n",
       "\u001b[1;33m------- Hoàn thành bước: commit_validated_content -------\u001b[0m\n"
      ]
     },
     "metadata": {},
     "output_type": "display_data"
    },
    {
     "data": {
      "text/html": [
       "<pre style=\"white-space:pre;overflow-x:auto;line-height:normal;font-family:Menlo,'DejaVu Sans Mono',consolas,'Courier New',monospace\">\n",
       "<span style=\"color: #808000; text-decoration-color: #808000; font-weight: bold\">------- Hoàn thành bước: mark_task_complete -------</span>\n",
       "</pre>\n"
      ],
      "text/plain": [
       "\n",
       "\u001b[1;33m------- Hoàn thành bước: mark_task_complete -------\u001b[0m\n"
      ]
     },
     "metadata": {},
     "output_type": "display_data"
    },
    {
     "data": {
      "text/html": [
       "<pre style=\"white-space:pre;overflow-x:auto;line-height:normal;font-family:Menlo,'DejaVu Sans Mono',consolas,'Courier New',monospace\">\n",
       "<span style=\"color: #808000; text-decoration-color: #808000; font-weight: bold\">------- Hoàn thành bước: delay_node -------</span>\n",
       "</pre>\n"
      ],
      "text/plain": [
       "\n",
       "\u001b[1;33m------- Hoàn thành bước: delay_node -------\u001b[0m\n"
      ]
     },
     "metadata": {},
     "output_type": "display_data"
    },
    {
     "data": {
      "text/html": [
       "<pre style=\"white-space:pre;overflow-x:auto;line-height:normal;font-family:Menlo,'DejaVu Sans Mono',consolas,'Courier New',monospace\">\n",
       "<span style=\"color: #008080; text-decoration-color: #008080; font-weight: bold\">&gt;</span> `Router`: Đang kiểm tra nhiệm vụ<span style=\"color: #808000; text-decoration-color: #808000\">...</span>\n",
       "</pre>\n"
      ],
      "text/plain": [
       "\n",
       "\u001b[1;36m>\u001b[0m `Router`: Đang kiểm tra nhiệm vụ\u001b[33m...\u001b[0m\n"
      ]
     },
     "metadata": {},
     "output_type": "display_data"
    },
    {
     "data": {
      "text/html": [
       "<pre style=\"white-space:pre;overflow-x:auto;line-height:normal;font-family:Menlo,'DejaVu Sans Mono',consolas,'Courier New',monospace\">\n",
       "<span style=\"color: #008080; text-decoration-color: #008080; font-weight: bold\">&gt;</span> Nhiệm vụ tiếp theo: <span style=\"color: #008000; text-decoration-color: #008000\">'Tổng kết bài học và Giao nhiệm vụ về nhà'</span> <span style=\"font-weight: bold\">(</span>ID: <span style=\"color: #008080; text-decoration-color: #008080; font-weight: bold\">4</span><span style=\"font-weight: bold\">)</span>\n",
       "</pre>\n"
      ],
      "text/plain": [
       "\n",
       "\u001b[1;36m>\u001b[0m Nhiệm vụ tiếp theo: \u001b[32m'Tổng kết bài học và Giao nhiệm vụ về nhà'\u001b[0m \u001b[1m(\u001b[0mID: \u001b[1;36m4\u001b[0m\u001b[1m)\u001b[0m\n"
      ]
     },
     "metadata": {},
     "output_type": "display_data"
    },
    {
     "data": {
      "text/html": [
       "<pre style=\"white-space:pre;overflow-x:auto;line-height:normal;font-family:Menlo,'DejaVu Sans Mono',consolas,'Courier New',monospace\">\n",
       "<span style=\"color: #808000; text-decoration-color: #808000; font-weight: bold\">------- Hoàn thành bước: task_router -------</span>\n",
       "</pre>\n"
      ],
      "text/plain": [
       "\n",
       "\u001b[1;33m------- Hoàn thành bước: task_router -------\u001b[0m\n"
      ]
     },
     "metadata": {},
     "output_type": "display_data"
    },
    {
     "data": {
      "text/html": [
       "<pre style=\"white-space:pre;overflow-x:auto;line-height:normal;font-family:Menlo,'DejaVu Sans Mono',consolas,'Courier New',monospace\">\n",
       "<span style=\"color: #008080; text-decoration-color: #008080; font-weight: bold\">&gt;</span> `Agent: Task Dispatcher` đang giao việc<span style=\"color: #808000; text-decoration-color: #808000\">...</span>\n",
       "</pre>\n"
      ],
      "text/plain": [
       "\n",
       "\u001b[1;36m>\u001b[0m `Agent: Task Dispatcher` đang giao việc\u001b[33m...\u001b[0m\n"
      ]
     },
     "metadata": {},
     "output_type": "display_data"
    },
    {
     "data": {
      "text/html": [
       "<pre style=\"white-space:pre;overflow-x:auto;line-height:normal;font-family:Menlo,'DejaVu Sans Mono',consolas,'Courier New',monospace\">\n",
       "<span style=\"color: #008080; text-decoration-color: #008080; font-weight: bold\">&gt;</span> --- 🚚 `Dispatcher`: Giao nhiệm vụ cho `activity_designer`.\n",
       "</pre>\n"
      ],
      "text/plain": [
       "\n",
       "\u001b[1;36m>\u001b[0m --- 🚚 `Dispatcher`: Giao nhiệm vụ cho `activity_designer`.\n"
      ]
     },
     "metadata": {},
     "output_type": "display_data"
    },
    {
     "data": {
      "text/html": [
       "<pre style=\"white-space:pre;overflow-x:auto;line-height:normal;font-family:Menlo,'DejaVu Sans Mono',consolas,'Courier New',monospace\">\n",
       "<span style=\"color: #808000; text-decoration-color: #808000; font-weight: bold\">------- Hoàn thành bước: task_dispatcher -------</span>\n",
       "</pre>\n"
      ],
      "text/plain": [
       "\n",
       "\u001b[1;33m------- Hoàn thành bước: task_dispatcher -------\u001b[0m\n"
      ]
     },
     "metadata": {},
     "output_type": "display_data"
    },
    {
     "data": {
      "text/html": [
       "<pre style=\"white-space:pre;overflow-x:auto;line-height:normal;font-family:Menlo,'DejaVu Sans Mono',consolas,'Courier New',monospace\">\n",
       "<span style=\"color: #008080; text-decoration-color: #008080; font-weight: bold\">&gt;</span> `Agent: Activity Designer` <span style=\"font-weight: bold\">(</span>v13.<span style=\"color: #008080; text-decoration-color: #008080; font-weight: bold\">1</span> - Tư duy Phản tư<span style=\"font-weight: bold\">)</span> đang tạo nội dung<span style=\"color: #808000; text-decoration-color: #808000\">...</span>\n",
       "</pre>\n"
      ],
      "text/plain": [
       "\n",
       "\u001b[1;36m>\u001b[0m `Agent: Activity Designer` \u001b[1m(\u001b[0mv13.\u001b[1;36m1\u001b[0m - Tư duy Phản tư\u001b[1m)\u001b[0m đang tạo nội dung\u001b[33m...\u001b[0m\n"
      ]
     },
     "metadata": {},
     "output_type": "display_data"
    },
    {
     "data": {
      "text/html": [
       "<pre style=\"white-space:pre;overflow-x:auto;line-height:normal;font-family:Menlo,'DejaVu Sans Mono',consolas,'Courier New',monospace\"><span style=\"color: #008000; text-decoration-color: #008000; font-weight: bold\">✔️ Nội dung do Activity Designer tạo ra:</span>\n",
       "</pre>\n"
      ],
      "text/plain": [
       "\u001b[1;32m✔️ Nội dung do Activity Designer tạo ra:\u001b[0m\n"
      ]
     },
     "metadata": {},
     "output_type": "display_data"
    },
    {
     "data": {
      "text/html": [
       "<pre style=\"white-space:pre;overflow-x:auto;line-height:normal;font-family:Menlo,'DejaVu Sans Mono',consolas,'Courier New',monospace\"><span style=\"font-weight: bold\">{</span>\n",
       "<span style=\"color: #7fbf7f; text-decoration-color: #7fbf7f\">│   </span><span style=\"color: #008000; text-decoration-color: #008000\">'activity_name'</span>: <span style=\"color: #008000; text-decoration-color: #008000\">'Tổng kết bài học và Giao nhiệm vụ về nhà'</span>,\n",
       "<span style=\"color: #7fbf7f; text-decoration-color: #7fbf7f\">│   </span><span style=\"color: #008000; text-decoration-color: #008000\">'duration_minutes'</span>: <span style=\"color: #008080; text-decoration-color: #008080; font-weight: bold\">10</span>,\n",
       "<span style=\"color: #7fbf7f; text-decoration-color: #7fbf7f\">│   </span><span style=\"color: #008000; text-decoration-color: #008000\">'teacher_actions'</span>: <span style=\"font-weight: bold\">[</span>\n",
       "<span style=\"color: #7fbf7f; text-decoration-color: #7fbf7f\">│   │   </span><span style=\"color: #008000; text-decoration-color: #008000\">'Đặt 1-2 câu hỏi gợi mở để học sinh tự tổng kết kiến thức chính của bài học.'</span>,\n",
       "<span style=\"color: #7fbf7f; text-decoration-color: #7fbf7f\">│   │   </span><span style=\"color: #008000; text-decoration-color: #008000\">'Lắng nghe và bổ sung các ý chính nếu cần thiết.'</span>,\n",
       "<span style=\"color: #7fbf7f; text-decoration-color: #7fbf7f\">│   │   </span><span style=\"color: #008000; text-decoration-color: #008000\">'Mời học sinh đặt câu hỏi về bài học hoặc bài tập về nhà, giải đáp ngắn gọn.'</span>,\n",
       "<span style=\"color: #7fbf7f; text-decoration-color: #7fbf7f\">│   │   </span><span style=\"color: #008000; text-decoration-color: #008000\">'Giới thiệu bài tập về nhà (số lượng, dạng bài, mục tiêu).'</span>,\n",
       "<span style=\"color: #7fbf7f; text-decoration-color: #7fbf7f\">│   │   </span><span style=\"color: #008000; text-decoration-color: #008000\">'Hướng dẫn chi tiết cách làm bài tập, các nguồn tài liệu tham khảo (nếu có).'</span>,\n",
       "<span style=\"color: #7fbf7f; text-decoration-color: #7fbf7f\">│   │   </span><span style=\"color: #008000; text-decoration-color: #008000\">'Nhắc nhở thời hạn nộp bài và hình thức nộp bài.'</span>,\n",
       "<span style=\"color: #7fbf7f; text-decoration-color: #7fbf7f\">│   │   </span><span style=\"color: #008000; text-decoration-color: #008000\">'Động viên học sinh ôn tập và hoàn thành bài tập đầy đủ.'</span>\n",
       "<span style=\"color: #7fbf7f; text-decoration-color: #7fbf7f\">│   </span><span style=\"font-weight: bold\">]</span>,\n",
       "<span style=\"color: #7fbf7f; text-decoration-color: #7fbf7f\">│   </span><span style=\"color: #008000; text-decoration-color: #008000\">'extension_component'</span>: <span style=\"color: #008000; text-decoration-color: #008000\">'Học sinh có thể ghi lại các câu hỏi còn băn khoăn để hỏi giáo viên vào buổi học tiếp theo hoặc tìm kiếm thêm thông tin liên quan đến bài học trên internet.'</span>,\n",
       "<span style=\"color: #7fbf7f; text-decoration-color: #7fbf7f\">│   </span><span style=\"color: #008000; text-decoration-color: #008000\">'solution_guide'</span>: <span style=\"color: #008000; text-decoration-color: #008000\">'Các điểm kiến thức cần tổng kết: (Liệt kê 3-4 ý chính của bài học). Các dạng bài tập về nhà: (Mô tả ngắn gọn các dạng bài). Lưu ý khi làm bài: (Ví dụ: Trình bày sạch đẹp, đúng công thức...)'</span>,\n",
       "<span style=\"color: #7fbf7f; text-decoration-color: #7fbf7f\">│   </span><span style=\"color: #008000; text-decoration-color: #008000\">'differentiation'</span>: <span style=\"font-weight: bold\">{</span>\n",
       "<span style=\"color: #7fbf7f; text-decoration-color: #7fbf7f\">│   │   </span><span style=\"color: #008000; text-decoration-color: #008000\">'for_struggling_students'</span>: <span style=\"color: #008000; text-decoration-color: #008000\">'Gợi ý học sinh yếu tập trung vào các dạng bài cơ bản trong bài tập về nhà, khuyến khích các em xem lại ví dụ trong sách giáo khoa hoặc hỏi bạn bè, giáo viên nếu gặp khó khăn.'</span>,\n",
       "<span style=\"color: #7fbf7f; text-decoration-color: #7fbf7f\">│   │   </span><span style=\"color: #008000; text-decoration-color: #008000\">'for_advanced_students'</span>: <span style=\"color: #008000; text-decoration-color: #008000\">'Gợi ý học sinh giỏi có thể thử sức với các bài tập nâng cao (nếu có trong tài liệu bổ trợ) hoặc tìm hiểu sâu hơn một khía cạnh của bài học mà các em thấy hứng thú.'</span>\n",
       "<span style=\"color: #7fbf7f; text-decoration-color: #7fbf7f\">│   </span><span style=\"font-weight: bold\">}</span>,\n",
       "<span style=\"color: #7fbf7f; text-decoration-color: #7fbf7f\">│   </span><span style=\"color: #008000; text-decoration-color: #008000\">'question_or_description'</span>: <span style=\"color: #008000; text-decoration-color: #008000\">'Giáo viên tóm tắt các kiến thức trọng tâm của bài học, giải đáp nhanh các thắc mắc của học sinh (nếu có). Sau đó, giáo viên giao bài tập về nhà, hướng dẫn rõ ràng yêu cầu và thời hạn nộp bài, nhấn mạnh các điểm cần lưu ý để học sinh hoàn thành tốt nhiệm vụ.'</span>,\n",
       "<span style=\"color: #7fbf7f; text-decoration-color: #7fbf7f\">│   </span><span style=\"color: #008000; text-decoration-color: #008000\">'content_type'</span>: <span style=\"color: #008000; text-decoration-color: #008000\">'Tổng kết và Dặn dò'</span>\n",
       "<span style=\"font-weight: bold\">}</span>\n",
       "</pre>\n"
      ],
      "text/plain": [
       "\u001b[1m{\u001b[0m\n",
       "\u001b[2;32m│   \u001b[0m\u001b[32m'activity_name'\u001b[0m: \u001b[32m'Tổng kết bài học và Giao nhiệm vụ về nhà'\u001b[0m,\n",
       "\u001b[2;32m│   \u001b[0m\u001b[32m'duration_minutes'\u001b[0m: \u001b[1;36m10\u001b[0m,\n",
       "\u001b[2;32m│   \u001b[0m\u001b[32m'teacher_actions'\u001b[0m: \u001b[1m[\u001b[0m\n",
       "\u001b[2;32m│   │   \u001b[0m\u001b[32m'Đặt 1-2 câu hỏi gợi mở để học sinh tự tổng kết kiến thức chính của bài học.'\u001b[0m,\n",
       "\u001b[2;32m│   │   \u001b[0m\u001b[32m'Lắng nghe và bổ sung các ý chính nếu cần thiết.'\u001b[0m,\n",
       "\u001b[2;32m│   │   \u001b[0m\u001b[32m'Mời học sinh đặt câu hỏi về bài học hoặc bài tập về nhà, giải đáp ngắn gọn.'\u001b[0m,\n",
       "\u001b[2;32m│   │   \u001b[0m\u001b[32m'Giới thiệu bài tập về nhà \u001b[0m\u001b[32m(\u001b[0m\u001b[32msố lượng, dạng bài, mục tiêu\u001b[0m\u001b[32m)\u001b[0m\u001b[32m.'\u001b[0m,\n",
       "\u001b[2;32m│   │   \u001b[0m\u001b[32m'Hướng dẫn chi tiết cách làm bài tập, các nguồn tài liệu tham khảo \u001b[0m\u001b[32m(\u001b[0m\u001b[32mnếu có\u001b[0m\u001b[32m)\u001b[0m\u001b[32m.'\u001b[0m,\n",
       "\u001b[2;32m│   │   \u001b[0m\u001b[32m'Nhắc nhở thời hạn nộp bài và hình thức nộp bài.'\u001b[0m,\n",
       "\u001b[2;32m│   │   \u001b[0m\u001b[32m'Động viên học sinh ôn tập và hoàn thành bài tập đầy đủ.'\u001b[0m\n",
       "\u001b[2;32m│   \u001b[0m\u001b[1m]\u001b[0m,\n",
       "\u001b[2;32m│   \u001b[0m\u001b[32m'extension_component'\u001b[0m: \u001b[32m'Học sinh có thể ghi lại các câu hỏi còn băn khoăn để hỏi giáo viên vào buổi học tiếp theo hoặc tìm kiếm thêm thông tin liên quan đến bài học trên internet.'\u001b[0m,\n",
       "\u001b[2;32m│   \u001b[0m\u001b[32m'solution_guide'\u001b[0m: \u001b[32m'Các điểm kiến thức cần tổng kết: \u001b[0m\u001b[32m(\u001b[0m\u001b[32mLiệt kê 3-4 ý chính của bài học\u001b[0m\u001b[32m)\u001b[0m\u001b[32m. Các dạng bài tập về nhà: \u001b[0m\u001b[32m(\u001b[0m\u001b[32mMô tả ngắn gọn các dạng bài\u001b[0m\u001b[32m)\u001b[0m\u001b[32m. Lưu ý khi làm bài: \u001b[0m\u001b[32m(\u001b[0m\u001b[32mVí dụ: Trình bày sạch đẹp, đúng công thức...\u001b[0m\u001b[32m)\u001b[0m\u001b[32m'\u001b[0m,\n",
       "\u001b[2;32m│   \u001b[0m\u001b[32m'differentiation'\u001b[0m: \u001b[1m{\u001b[0m\n",
       "\u001b[2;32m│   │   \u001b[0m\u001b[32m'for_struggling_students'\u001b[0m: \u001b[32m'Gợi ý học sinh yếu tập trung vào các dạng bài cơ bản trong bài tập về nhà, khuyến khích các em xem lại ví dụ trong sách giáo khoa hoặc hỏi bạn bè, giáo viên nếu gặp khó khăn.'\u001b[0m,\n",
       "\u001b[2;32m│   │   \u001b[0m\u001b[32m'for_advanced_students'\u001b[0m: \u001b[32m'Gợi ý học sinh giỏi có thể thử sức với các bài tập nâng cao \u001b[0m\u001b[32m(\u001b[0m\u001b[32mnếu có trong tài liệu bổ trợ\u001b[0m\u001b[32m)\u001b[0m\u001b[32m hoặc tìm hiểu sâu hơn một khía cạnh của bài học mà các em thấy hứng thú.'\u001b[0m\n",
       "\u001b[2;32m│   \u001b[0m\u001b[1m}\u001b[0m,\n",
       "\u001b[2;32m│   \u001b[0m\u001b[32m'question_or_description'\u001b[0m: \u001b[32m'Giáo viên tóm tắt các kiến thức trọng tâm của bài học, giải đáp nhanh các thắc mắc của học sinh \u001b[0m\u001b[32m(\u001b[0m\u001b[32mnếu có\u001b[0m\u001b[32m)\u001b[0m\u001b[32m. Sau đó, giáo viên giao bài tập về nhà, hướng dẫn rõ ràng yêu cầu và thời hạn nộp bài, nhấn mạnh các điểm cần lưu ý để học sinh hoàn thành tốt nhiệm vụ.'\u001b[0m,\n",
       "\u001b[2;32m│   \u001b[0m\u001b[32m'content_type'\u001b[0m: \u001b[32m'Tổng kết và Dặn dò'\u001b[0m\n",
       "\u001b[1m}\u001b[0m\n"
      ]
     },
     "metadata": {},
     "output_type": "display_data"
    },
    {
     "data": {
      "text/html": [
       "<pre style=\"white-space:pre;overflow-x:auto;line-height:normal;font-family:Menlo,'DejaVu Sans Mono',consolas,'Courier New',monospace\">\n",
       "<span style=\"color: #808000; text-decoration-color: #808000; font-weight: bold\">------- Hoàn thành bước: activity_designer -------</span>\n",
       "</pre>\n"
      ],
      "text/plain": [
       "\n",
       "\u001b[1;33m------- Hoàn thành bước: activity_designer -------\u001b[0m\n"
      ]
     },
     "metadata": {},
     "output_type": "display_data"
    },
    {
     "data": {
      "text/html": [
       "<pre style=\"white-space:pre;overflow-x:auto;line-height:normal;font-family:Menlo,'DejaVu Sans Mono',consolas,'Courier New',monospace\">\n",
       "<span style=\"color: #008080; text-decoration-color: #008080; font-weight: bold\">&gt;</span> `Agent: Easy-Going Critic` <span style=\"font-weight: bold\">(</span>v13.<span style=\"color: #008080; text-decoration-color: #008080; font-weight: bold\">1</span><span style=\"font-weight: bold\">)</span> đang phân tích<span style=\"color: #808000; text-decoration-color: #808000\">...</span>\n",
       "</pre>\n"
      ],
      "text/plain": [
       "\n",
       "\u001b[1;36m>\u001b[0m `Agent: Easy-Going Critic` \u001b[1m(\u001b[0mv13.\u001b[1;36m1\u001b[0m\u001b[1m)\u001b[0m đang phân tích\u001b[33m...\u001b[0m\n"
      ]
     },
     "metadata": {},
     "output_type": "display_data"
    },
    {
     "data": {
      "text/html": [
       "<pre style=\"white-space:pre;overflow-x:auto;line-height:normal;font-family:Menlo,'DejaVu Sans Mono',consolas,'Courier New',monospace\">\n",
       "<span style=\"color: #008080; text-decoration-color: #008080; font-weight: bold\">&gt;</span> ✔️ CRITIC <span style=\"font-weight: bold\">(</span>Lần <span style=\"color: #008080; text-decoration-color: #008080; font-weight: bold\">1</span><span style=\"font-weight: bold\">)</span>: Nội dung được duyệt! <span style=\"font-weight: bold\">(</span>Góp ý: Hoạt động này được thiết kế rất tốt và đầy đủ các bước cần thiết \n",
       "cho phần tổng kết và dặn dò. Tuy nhiên, với thời lượng <span style=\"color: #008080; text-decoration-color: #008080; font-weight: bold\">10</span> phút, giáo viên sẽ cần quản lý thời gian thật hiệu quả để\n",
       "đảm bảo thực hiện trọn vẹn tất cả các nội dung, đặc biệt là phần tổng kết kiến thức và hướng dẫn chi tiết bài tập \n",
       "về nhà. Có thể cân nhắc rút gọn phần giải đáp thắc mắc nếu thời gian eo hẹp.<span style=\"font-weight: bold\">)</span>\n",
       "</pre>\n"
      ],
      "text/plain": [
       "\n",
       "\u001b[1;36m>\u001b[0m ✔️ CRITIC \u001b[1m(\u001b[0mLần \u001b[1;36m1\u001b[0m\u001b[1m)\u001b[0m: Nội dung được duyệt! \u001b[1m(\u001b[0mGóp ý: Hoạt động này được thiết kế rất tốt và đầy đủ các bước cần thiết \n",
       "cho phần tổng kết và dặn dò. Tuy nhiên, với thời lượng \u001b[1;36m10\u001b[0m phút, giáo viên sẽ cần quản lý thời gian thật hiệu quả để\n",
       "đảm bảo thực hiện trọn vẹn tất cả các nội dung, đặc biệt là phần tổng kết kiến thức và hướng dẫn chi tiết bài tập \n",
       "về nhà. Có thể cân nhắc rút gọn phần giải đáp thắc mắc nếu thời gian eo hẹp.\u001b[1m)\u001b[0m\n"
      ]
     },
     "metadata": {},
     "output_type": "display_data"
    },
    {
     "data": {
      "text/html": [
       "<pre style=\"white-space:pre;overflow-x:auto;line-height:normal;font-family:Menlo,'DejaVu Sans Mono',consolas,'Courier New',monospace\">\n",
       "<span style=\"color: #808000; text-decoration-color: #808000; font-weight: bold\">------- Hoàn thành bước: content_validator -------</span>\n",
       "</pre>\n"
      ],
      "text/plain": [
       "\n",
       "\u001b[1;33m------- Hoàn thành bước: content_validator -------\u001b[0m\n"
      ]
     },
     "metadata": {},
     "output_type": "display_data"
    },
    {
     "data": {
      "text/html": [
       "<pre style=\"white-space:pre;overflow-x:auto;line-height:normal;font-family:Menlo,'DejaVu Sans Mono',consolas,'Courier New',monospace\">\n",
       "<span style=\"color: #008080; text-decoration-color: #008080; font-weight: bold\">&gt;</span> `Commiter`: Đang ghi nhận nội dung đã được xác thực<span style=\"color: #808000; text-decoration-color: #808000\">...</span>\n",
       "</pre>\n"
      ],
      "text/plain": [
       "\n",
       "\u001b[1;36m>\u001b[0m `Commiter`: Đang ghi nhận nội dung đã được xác thực\u001b[33m...\u001b[0m\n"
      ]
     },
     "metadata": {},
     "output_type": "display_data"
    },
    {
     "data": {
      "text/html": [
       "<pre style=\"white-space:pre;overflow-x:auto;line-height:normal;font-family:Menlo,'DejaVu Sans Mono',consolas,'Courier New',monospace\">\n",
       "<span style=\"color: #808000; text-decoration-color: #808000; font-weight: bold\">------- Hoàn thành bước: commit_validated_content -------</span>\n",
       "</pre>\n"
      ],
      "text/plain": [
       "\n",
       "\u001b[1;33m------- Hoàn thành bước: commit_validated_content -------\u001b[0m\n"
      ]
     },
     "metadata": {},
     "output_type": "display_data"
    },
    {
     "data": {
      "text/html": [
       "<pre style=\"white-space:pre;overflow-x:auto;line-height:normal;font-family:Menlo,'DejaVu Sans Mono',consolas,'Courier New',monospace\">\n",
       "<span style=\"color: #808000; text-decoration-color: #808000; font-weight: bold\">------- Hoàn thành bước: mark_task_complete -------</span>\n",
       "</pre>\n"
      ],
      "text/plain": [
       "\n",
       "\u001b[1;33m------- Hoàn thành bước: mark_task_complete -------\u001b[0m\n"
      ]
     },
     "metadata": {},
     "output_type": "display_data"
    },
    {
     "data": {
      "text/html": [
       "<pre style=\"white-space:pre;overflow-x:auto;line-height:normal;font-family:Menlo,'DejaVu Sans Mono',consolas,'Courier New',monospace\">\n",
       "<span style=\"color: #808000; text-decoration-color: #808000; font-weight: bold\">------- Hoàn thành bước: delay_node -------</span>\n",
       "</pre>\n"
      ],
      "text/plain": [
       "\n",
       "\u001b[1;33m------- Hoàn thành bước: delay_node -------\u001b[0m\n"
      ]
     },
     "metadata": {},
     "output_type": "display_data"
    },
    {
     "data": {
      "text/html": [
       "<pre style=\"white-space:pre;overflow-x:auto;line-height:normal;font-family:Menlo,'DejaVu Sans Mono',consolas,'Courier New',monospace\">\n",
       "<span style=\"color: #008080; text-decoration-color: #008080; font-weight: bold\">&gt;</span> `Router`: Đang kiểm tra nhiệm vụ<span style=\"color: #808000; text-decoration-color: #808000\">...</span>\n",
       "</pre>\n"
      ],
      "text/plain": [
       "\n",
       "\u001b[1;36m>\u001b[0m `Router`: Đang kiểm tra nhiệm vụ\u001b[33m...\u001b[0m\n"
      ]
     },
     "metadata": {},
     "output_type": "display_data"
    },
    {
     "data": {
      "text/html": [
       "<pre style=\"white-space:pre;overflow-x:auto;line-height:normal;font-family:Menlo,'DejaVu Sans Mono',consolas,'Courier New',monospace\">\n",
       "<span style=\"color: #008080; text-decoration-color: #008080; font-weight: bold\">&gt;</span> Hết nhiệm vụ, chuyển sang node Compiler.\n",
       "</pre>\n"
      ],
      "text/plain": [
       "\n",
       "\u001b[1;36m>\u001b[0m Hết nhiệm vụ, chuyển sang node Compiler.\n"
      ]
     },
     "metadata": {},
     "output_type": "display_data"
    },
    {
     "data": {
      "text/html": [
       "<pre style=\"white-space:pre;overflow-x:auto;line-height:normal;font-family:Menlo,'DejaVu Sans Mono',consolas,'Courier New',monospace\">\n",
       "<span style=\"color: #808000; text-decoration-color: #808000; font-weight: bold\">------- Hoàn thành bước: task_router -------</span>\n",
       "</pre>\n"
      ],
      "text/plain": [
       "\n",
       "\u001b[1;33m------- Hoàn thành bước: task_router -------\u001b[0m\n"
      ]
     },
     "metadata": {},
     "output_type": "display_data"
    },
    {
     "data": {
      "text/html": [
       "<pre style=\"white-space:pre;overflow-x:auto;line-height:normal;font-family:Menlo,'DejaVu Sans Mono',consolas,'Courier New',monospace\">\n",
       "<span style=\"color: #008080; text-decoration-color: #008080; font-weight: bold\">&gt;</span> `Agent: Structured Plan Compiler` <span style=\"font-weight: bold\">(</span>v12.<span style=\"color: #008080; text-decoration-color: #008080; font-weight: bold\">0</span><span style=\"font-weight: bold\">)</span> đang tổng hợp giáo án<span style=\"color: #808000; text-decoration-color: #808000\">...</span>\n",
       "</pre>\n"
      ],
      "text/plain": [
       "\n",
       "\u001b[1;36m>\u001b[0m `Agent: Structured Plan Compiler` \u001b[1m(\u001b[0mv12.\u001b[1;36m0\u001b[0m\u001b[1m)\u001b[0m đang tổng hợp giáo án\u001b[33m...\u001b[0m\n"
      ]
     },
     "metadata": {},
     "output_type": "display_data"
    },
    {
     "data": {
      "text/html": [
       "<pre style=\"white-space:pre;overflow-x:auto;line-height:normal;font-family:Menlo,'DejaVu Sans Mono',consolas,'Courier New',monospace\">\n",
       "<span style=\"color: #008080; text-decoration-color: #008080; font-weight: bold\">&gt;</span> CRITIC LỚN: Kế hoạch hợp lệ! Bắt đầu tổng hợp JSON<span style=\"color: #808000; text-decoration-color: #808000\">...</span>\n",
       "</pre>\n"
      ],
      "text/plain": [
       "\n",
       "\u001b[1;36m>\u001b[0m CRITIC LỚN: Kế hoạch hợp lệ! Bắt đầu tổng hợp JSON\u001b[33m...\u001b[0m\n"
      ]
     },
     "metadata": {},
     "output_type": "display_data"
    },
    {
     "data": {
      "text/html": [
       "<pre style=\"white-space:pre;overflow-x:auto;line-height:normal;font-family:Menlo,'DejaVu Sans Mono',consolas,'Courier New',monospace\">\n",
       "<span style=\"color: #008080; text-decoration-color: #008080; font-weight: bold\">&gt;</span> ROUTER <span style=\"font-weight: bold\">(</span>Compilation<span style=\"font-weight: bold\">)</span>: Critic lớn đã hài lòng. Kết thúc quy trình.\n",
       "</pre>\n"
      ],
      "text/plain": [
       "\n",
       "\u001b[1;36m>\u001b[0m ROUTER \u001b[1m(\u001b[0mCompilation\u001b[1m)\u001b[0m: Critic lớn đã hài lòng. Kết thúc quy trình.\n"
      ]
     },
     "metadata": {},
     "output_type": "display_data"
    },
    {
     "data": {
      "text/html": [
       "<pre style=\"white-space:pre;overflow-x:auto;line-height:normal;font-family:Menlo,'DejaVu Sans Mono',consolas,'Courier New',monospace\">\n",
       "<span style=\"color: #808000; text-decoration-color: #808000; font-weight: bold\">------- Hoàn thành bước: structured_plan_compiler -------</span>\n",
       "</pre>\n"
      ],
      "text/plain": [
       "\n",
       "\u001b[1;33m------- Hoàn thành bước: structured_plan_compiler -------\u001b[0m\n"
      ]
     },
     "metadata": {},
     "output_type": "display_data"
    },
    {
     "data": {
      "text/html": [
       "<pre style=\"white-space:pre;overflow-x:auto;line-height:normal;font-family:Menlo,'DejaVu Sans Mono',consolas,'Courier New',monospace\">\n",
       "<span style=\"color: #008080; text-decoration-color: #008080; font-weight: bold\">&gt;</span> `Node: Pedagogical Editor` <span style=\"font-weight: bold\">(</span>v13.<span style=\"color: #008080; text-decoration-color: #008080; font-weight: bold\">1</span><span style=\"font-weight: bold\">)</span> đang biên tập và tạo bản trình bày<span style=\"color: #808000; text-decoration-color: #808000\">...</span>\n",
       "</pre>\n"
      ],
      "text/plain": [
       "\n",
       "\u001b[1;36m>\u001b[0m `Node: Pedagogical Editor` \u001b[1m(\u001b[0mv13.\u001b[1;36m1\u001b[0m\u001b[1m)\u001b[0m đang biên tập và tạo bản trình bày\u001b[33m...\u001b[0m\n"
      ]
     },
     "metadata": {},
     "output_type": "display_data"
    },
    {
     "data": {
      "text/html": [
       "<pre style=\"white-space:pre;overflow-x:auto;line-height:normal;font-family:Menlo,'DejaVu Sans Mono',consolas,'Courier New',monospace\">\n",
       "<span style=\"color: #008080; text-decoration-color: #008080; font-weight: bold\">&gt;</span> ✔️ Đã biên tập thành công giáo án cuối cùng với lời chuyển mượt mà.\n",
       "</pre>\n"
      ],
      "text/plain": [
       "\n",
       "\u001b[1;36m>\u001b[0m ✔️ Đã biên tập thành công giáo án cuối cùng với lời chuyển mượt mà.\n"
      ]
     },
     "metadata": {},
     "output_type": "display_data"
    },
    {
     "data": {
      "text/html": [
       "<pre style=\"white-space:pre;overflow-x:auto;line-height:normal;font-family:Menlo,'DejaVu Sans Mono',consolas,'Courier New',monospace\">\n",
       "<span style=\"color: #808000; text-decoration-color: #808000; font-weight: bold\">------- Hoàn thành bước: markdown_presenter -------</span>\n",
       "</pre>\n"
      ],
      "text/plain": [
       "\n",
       "\u001b[1;33m------- Hoàn thành bước: markdown_presenter -------\u001b[0m\n"
      ]
     },
     "metadata": {},
     "output_type": "display_data"
    },
    {
     "data": {
      "text/html": [
       "<pre style=\"white-space:pre;overflow-x:auto;line-height:normal;font-family:Menlo,'DejaVu Sans Mono',consolas,'Courier New',monospace\">\n",
       "<span style=\"color: #008080; text-decoration-color: #008080; font-weight: bold\">&gt;</span> 🧠 Đã lưu giáo án thành công vào Trí nhớ Dài hạn.\n",
       "</pre>\n"
      ],
      "text/plain": [
       "\n",
       "\u001b[1;36m>\u001b[0m 🧠 Đã lưu giáo án thành công vào Trí nhớ Dài hạn.\n"
      ]
     },
     "metadata": {},
     "output_type": "display_data"
    },
    {
     "data": {
      "text/html": [
       "<pre style=\"white-space:pre;overflow-x:auto;line-height:normal;font-family:Menlo,'DejaVu Sans Mono',consolas,'Courier New',monospace\">\n",
       "<span style=\"color: #808000; text-decoration-color: #808000; font-weight: bold\">------- Hoàn thành bước: save_to_memory -------</span>\n",
       "</pre>\n"
      ],
      "text/plain": [
       "\n",
       "\u001b[1;33m------- Hoàn thành bước: save_to_memory -------\u001b[0m\n"
      ]
     },
     "metadata": {},
     "output_type": "display_data"
    },
    {
     "data": {
      "text/html": [
       "<pre style=\"white-space:pre;overflow-x:auto;line-height:normal;font-family:Menlo,'DejaVu Sans Mono',consolas,'Courier New',monospace\">\n",
       "<span style=\"color: #800080; text-decoration-color: #800080; font-weight: bold\">🏁 KẾT THÚC QUY TRÌNH.</span>\n",
       "</pre>\n"
      ],
      "text/plain": [
       "\n",
       "\u001b[1;35m🏁 KẾT THÚC QUY TRÌNH.\u001b[0m\n"
      ]
     },
     "metadata": {},
     "output_type": "display_data"
    },
    {
     "data": {
      "text/html": [
       "<pre style=\"white-space:pre;overflow-x:auto;line-height:normal;font-family:Menlo,'DejaVu Sans Mono',consolas,'Courier New',monospace\">\n",
       "<span style=\"color: #008000; text-decoration-color: #008000; font-weight: bold\">📝 GIÁO ÁN HOÀN CHỈNH (v12.</span><span style=\"color: #008000; text-decoration-color: #008000; font-weight: bold\">0</span><span style=\"color: #008000; text-decoration-color: #008000; font-weight: bold\">)</span>\n",
       "</pre>\n"
      ],
      "text/plain": [
       "\n",
       "\u001b[1;32m📝 GIÁO ÁN HOÀN CHỈNH \u001b[0m\u001b[1;32m(\u001b[0m\u001b[1;32mv12.\u001b[0m\u001b[1;32m0\u001b[0m\u001b[1;32m)\u001b[0m\n"
      ]
     },
     "metadata": {},
     "output_type": "display_data"
    },
    {
     "data": {
      "text/html": [
       "<pre style=\"white-space:pre;overflow-x:auto;line-height:normal;font-family:Menlo,'DejaVu Sans Mono',consolas,'Courier New',monospace\">Chào các em học sinh thân mến,                                                                                     \n",
       "\n",
       "Với vai trò là một Biên tập viên Sư phạm giàu kinh nghiệm, thầy/cô đã tiếp nhận yêu cầu và sẽ giúp các em xây dựng \n",
       "một giáo án hoàn chỉnh, chuyên nghiệp dựa trên các thông tin đã cung cấp. Giáo án này sẽ giúp chúng ta có một buổi \n",
       "học hiệu quả và thú vị về \"Vị trí tương đối của đường thẳng và đường tròn\".                                        \n",
       "\n",
       "<span style=\"color: #808000; text-decoration-color: #808000\">───────────────────────────────────────────────────────────────────────────────────────────────────────────────────</span>\n",
       "┏━━━━━━━━━━━━━━━━━━━━━━━━━━━━━━━━━━━━━━━━━━━━━━━━━━━━━━━━━━━━━━━━━━━━━━━━━━━━━━━━━━━━━━━━━━━━━━━━━━━━━━━━━━━━━━━━━┓\n",
       "┃                                           <span style=\"font-weight: bold\">GIÁO ÁN MÔN TOÁN HỌC LỚP 9</span>                                            ┃\n",
       "┗━━━━━━━━━━━━━━━━━━━━━━━━━━━━━━━━━━━━━━━━━━━━━━━━━━━━━━━━━━━━━━━━━━━━━━━━━━━━━━━━━━━━━━━━━━━━━━━━━━━━━━━━━━━━━━━━━┛\n",
       "\n",
       "\n",
       "                                                <span style=\"font-weight: bold; text-decoration: underline\">I. THÔNG TIN CHUNG</span>                                                 \n",
       "\n",
       "<span style=\"color: #808000; text-decoration-color: #808000; font-weight: bold\"> • </span><span style=\"font-weight: bold\">Chủ Đề:</span> VỊ TRÍ TƯƠNG ĐỐI CỦA ĐƯỜNG THẲNG VÀ ĐƯỜNG TRÒN                                                          \n",
       "<span style=\"color: #808000; text-decoration-color: #808000; font-weight: bold\"> • </span><span style=\"font-weight: bold\">Môn Học:</span> Toán học                                                                                               \n",
       "<span style=\"color: #808000; text-decoration-color: #808000; font-weight: bold\"> • </span><span style=\"font-weight: bold\">Lớp:</span> Lớp 9                                                                                                      \n",
       "<span style=\"color: #808000; text-decoration-color: #808000; font-weight: bold\"> • </span><span style=\"font-weight: bold\">Thời Lượng:</span> 90 phút                                                                                             \n",
       "<span style=\"color: #808000; text-decoration-color: #808000; font-weight: bold\"> • </span><span style=\"font-weight: bold\">Phương Pháp Chủ Đạo:</span> Dạy học hợp tác (Cooperative Learning)                                                     \n",
       "<span style=\"color: #808000; text-decoration-color: #808000; font-weight: bold\"> • </span><span style=\"font-weight: bold\">Đặc Điểm Lớp Học:</span> Lớp học khá yếu, học sinh dễ mất tập trung, cần các hoạt động tương tác cao để duy trì sự chú \n",
       "<span style=\"color: #808000; text-decoration-color: #808000; font-weight: bold\">   </span>ý và hứng thú.                                                                                                  \n",
       "\n",
       "\n",
       "                                               <span style=\"font-weight: bold; text-decoration: underline\">II. MỤC TIÊU BÀI HỌC</span>                                                \n",
       "\n",
       "<span style=\"color: #808000; text-decoration-color: #808000; font-weight: bold\"> • </span>Học sinh có thể Soạn kiến thức về VỊ TRÍ TƯƠNG ĐỐI CỦA ĐƯỜNG THẲNG VÀ ĐƯỜNG TRÒN.                               \n",
       "<span style=\"color: #808000; text-decoration-color: #808000; font-weight: bold\"> • </span>Rèn luyện kỹ năng tư duy logic.                                                                                 \n",
       "<span style=\"color: #808000; text-decoration-color: #808000; font-weight: bold\"> • </span>Phát triển kỹ năng hợp tác.                                                                                     \n",
       "\n",
       "\n",
       "                                                   <span style=\"font-weight: bold; text-decoration: underline\">III. CHUẨN BỊ</span>                                                   \n",
       "\n",
       "<span style=\"color: #808000; text-decoration-color: #808000; font-weight: bold\"> • </span><span style=\"font-weight: bold\">Giáo Viên:</span> Bảng phụ, máy chiếu, phiếu học tập                                                                   \n",
       "<span style=\"color: #808000; text-decoration-color: #808000; font-weight: bold\"> • </span><span style=\"font-weight: bold\">Học Sinh:</span> Sách giáo khoa, vở ghi, dụng cụ học tập                                                               \n",
       "\n",
       "\n",
       "                                              <span style=\"font-weight: bold; text-decoration: underline\">IV. TIẾN TRÌNH BÀI DẠY</span>                                               \n",
       "\n",
       "                        <span style=\"font-weight: bold\">Hoạt động 1: Khởi động: Vị trí tương đối của các vật thể (15 phút)</span>                         \n",
       "\n",
       "<span style=\"font-weight: bold\">Nhiệm vụ:</span> Giáo viên chuẩn bị một số vật thật (ví dụ: bút, sách, hộp bút, thước kẻ) hoặc hình ảnh các vật thể được  \n",
       "sắp xếp theo nhiều vị trí khác nhau (trên, dưới, bên cạnh, giữa, trong, ngoài). Chia lớp thành các nhóm nhỏ (3-4   \n",
       "học sinh). Giáo viên trình bày các vật thật/hình ảnh. Yêu cầu các nhóm quan sát và mô tả vị trí của các vật thể này\n",
       "so với nhau bằng ngôn ngữ tự nhiên của mình. Các nhóm ghi lại các mô tả và dự đoán của mình. Đại diện một số nhóm  \n",
       "trình bày kết quả.                                                                                                 \n",
       "\n",
       "<span style=\"color: #800080; text-decoration-color: #800080\">▌ </span><span style=\"color: #800080; text-decoration-color: #800080; font-weight: bold\">Gợi ý Phân hóa:</span><span style=\"color: #800080; text-decoration-color: #800080\">                                                                                                </span>\n",
       "\n",
       "<span style=\"color: #800080; text-decoration-color: #800080\">▌ </span><span style=\"color: #808000; text-decoration-color: #808000; font-weight: bold\"> • </span><span style=\"color: #800080; text-decoration-color: #800080; font-style: italic\">Hỗ trợ (HS yếu):</span><span style=\"color: #800080; text-decoration-color: #800080\"> Giáo viên có thể cung cấp các câu hỏi gợi ý cụ thể hơn hoặc chỉ định các cặp vật thể đơn   </span>\n",
       "<span style=\"color: #800080; text-decoration-color: #800080\">▌ </span><span style=\"color: #808000; text-decoration-color: #808000; font-weight: bold\">   </span><span style=\"color: #800080; text-decoration-color: #800080\">giản để học sinh dễ dàng mô tả. Có thể cho học sinh sử dụng cử chỉ để diễn tả vị trí trước khi dùng lời.    </span>\n",
       "\n",
       "<span style=\"color: #800080; text-decoration-color: #800080\">▌ </span><span style=\"color: #808000; text-decoration-color: #808000; font-weight: bold\"> • </span><span style=\"color: #800080; text-decoration-color: #800080; font-style: italic\">Thử thách (HS giỏi):</span><span style=\"color: #800080; text-decoration-color: #800080\"> Yêu cầu học sinh sử dụng nhiều từ ngữ khác nhau để mô tả cùng một vị trí, hoặc đặt ra  </span>\n",
       "<span style=\"color: #800080; text-decoration-color: #800080\">▌ </span><span style=\"color: #808000; text-decoration-color: #808000; font-weight: bold\">   </span><span style=\"color: #800080; text-decoration-color: #800080\">tình huống phức tạp hơn với nhiều vật thể để mô tả mối quan hệ giữa chúng. Có thể yêu cầu học sinh tự tạo ra</span>\n",
       "<span style=\"color: #800080; text-decoration-color: #800080\">▌ </span><span style=\"color: #808000; text-decoration-color: #808000; font-weight: bold\">   </span><span style=\"color: #800080; text-decoration-color: #800080\">một tình huống và mô tả.                                                                                    </span>\n",
       "\n",
       "<span style=\"font-style: italic\">GV: Các em vừa khởi động rất sôi nổi và đã mô tả rất tốt vị trí của các vật thể trong không gian. Bây giờ, chúng ta</span>\n",
       "<span style=\"font-style: italic\">sẽ cùng nhau chuyển sang một hoạt động thú vị hơn, đó là khám phá các vị trí tương đối của hai đối tượng hình học </span> \n",
       "<span style=\"font-style: italic\">quen thuộc: đường thẳng và đường tròn nhé!</span>                                                                         \n",
       "\n",
       "    <span style=\"font-weight: bold\">Hoạt động 2: Khám phá và Xây dựng kiến thức về các vị trí tương đối của đường thẳng và đường tròn (30 phút)</span>    \n",
       "\n",
       "<span style=\"font-weight: bold\">Nhiệm vụ:</span> Mỗi nhóm sử dụng compa và thước để vẽ các trường hợp vị trí tương đối của đường thẳng và đường tròn (cắt \n",
       "nhau, tiếp xúc, không cắt nhau). Sau đó, đo khoảng cách từ tâm đường tròn đến đường thẳng (d) và bán kính (R) trong\n",
       "từng trường hợp. Ghi nhận và so sánh mối quan hệ giữa d và R, từ đó rút ra kết luận về điều kiện cho mỗi vị trí    \n",
       "tương đối.                                                                                                         \n",
       "\n",
       "<span style=\"color: #800080; text-decoration-color: #800080\">▌ </span><span style=\"color: #800080; text-decoration-color: #800080; font-weight: bold\">Gợi ý Phân hóa:</span><span style=\"color: #800080; text-decoration-color: #800080\">                                                                                                </span>\n",
       "\n",
       "<span style=\"color: #800080; text-decoration-color: #800080\">▌ </span><span style=\"color: #808000; text-decoration-color: #808000; font-weight: bold\"> • </span><span style=\"color: #800080; text-decoration-color: #800080; font-style: italic\">Hỗ trợ (HS yếu):</span><span style=\"color: #800080; text-decoration-color: #800080\"> Cung cấp các hình vẽ mẫu hoặc hướng dẫn từng bước cụ thể cách vẽ và đo đạc. Giáo viên có   </span>\n",
       "<span style=\"color: #800080; text-decoration-color: #800080\">▌ </span><span style=\"color: #808000; text-decoration-color: #808000; font-weight: bold\">   </span><span style=\"color: #800080; text-decoration-color: #800080\">thể làm việc trực tiếp với nhóm này để đảm bảo họ hiểu khái niệm d và R.                                    </span>\n",
       "\n",
       "<span style=\"color: #800080; text-decoration-color: #800080\">▌ </span><span style=\"color: #808000; text-decoration-color: #808000; font-weight: bold\"> • </span><span style=\"color: #800080; text-decoration-color: #800080; font-style: italic\">Thử thách (HS giỏi):</span><span style=\"color: #800080; text-decoration-color: #800080\"> Yêu cầu học sinh giải thích tại sao mối quan hệ d và R lại quyết định vị trí tương đối.</span>\n",
       "<span style=\"color: #800080; text-decoration-color: #800080\">▌ </span><span style=\"color: #808000; text-decoration-color: #808000; font-weight: bold\">   </span><span style=\"color: #800080; text-decoration-color: #800080\">Thử thách các em tìm thêm các trường hợp đặc biệt hoặc mở rộng sang vị trí tương đối của hai đường tròn (nếu</span>\n",
       "<span style=\"color: #800080; text-decoration-color: #800080\">▌ </span><span style=\"color: #808000; text-decoration-color: #808000; font-weight: bold\">   </span><span style=\"color: #800080; text-decoration-color: #800080\">thời gian cho phép).                                                                                        </span>\n",
       "\n",
       "<span style=\"font-style: italic\">GV: Các nhóm đã rất tích cực trong việc tự mình khám phá và rút ra những nhận xét quan trọng về mối quan hệ giữa </span>  \n",
       "<span style=\"font-style: italic\">khoảng cách từ tâm đến đường thẳng và bán kính đường tròn. Để củng cố và chuẩn hóa những kiến thức này, chúng ta </span>  \n",
       "<span style=\"font-style: italic\">hãy cùng nhau thảo luận sâu hơn trong hoạt động tiếp theo.</span>                                                         \n",
       "\n",
       "                           <span style=\"font-weight: bold\">Hoạt động 3: Thảo luận nhóm và Chuẩn hóa kiến thức (15 phút)</span>                            \n",
       "\n",
       "<span style=\"font-weight: bold\">Nhiệm vụ:</span> Học sinh làm việc theo nhóm (3-4 người) để thảo luận về một vấn đề/câu hỏi cụ thể (do giáo viên đưa ra   \n",
       "trước hoặc trong hoạt động). Các nhóm tổng hợp ý kiến, thống nhất câu trả lời hoặc giải pháp. Sau đó, đại diện 2-3 \n",
       "nhóm sẽ trình bày nhanh kết quả thảo luận của nhóm mình (mỗi nhóm khoảng 1-2 phút).                                \n",
       "\n",
       "<span style=\"color: #800080; text-decoration-color: #800080\">▌ </span><span style=\"color: #800080; text-decoration-color: #800080; font-weight: bold\">Gợi ý Phân hóa:</span><span style=\"color: #800080; text-decoration-color: #800080\">                                                                                                </span>\n",
       "\n",
       "<span style=\"color: #800080; text-decoration-color: #800080\">▌ </span><span style=\"color: #808000; text-decoration-color: #808000; font-weight: bold\"> • </span><span style=\"color: #800080; text-decoration-color: #800080; font-style: italic\">Hỗ trợ (HS yếu):</span><span style=\"color: #800080; text-decoration-color: #800080\"> Giáo viên có thể gợi ý các câu hỏi nhỏ hơn, cụ thể hơn cho nhóm, hoặc cung cấp một số từ   </span>\n",
       "<span style=\"color: #800080; text-decoration-color: #800080\">▌ </span><span style=\"color: #808000; text-decoration-color: #808000; font-weight: bold\">   </span><span style=\"color: #800080; text-decoration-color: #800080\">khóa/khái niệm để nhóm dễ dàng bắt đầu thảo luận. Đảm bảo các em được tham gia vào quá trình tổng hợp ý     </span>\n",
       "<span style=\"color: #800080; text-decoration-color: #800080\">▌ </span><span style=\"color: #808000; text-decoration-color: #808000; font-weight: bold\">   </span><span style=\"color: #800080; text-decoration-color: #800080\">kiến.                                                                                                       </span>\n",
       "\n",
       "<span style=\"color: #800080; text-decoration-color: #800080\">▌ </span><span style=\"color: #808000; text-decoration-color: #808000; font-weight: bold\"> • </span><span style=\"color: #800080; text-decoration-color: #800080; font-style: italic\">Thử thách (HS giỏi):</span><span style=\"color: #800080; text-decoration-color: #800080\"> Khuyến khích các nhóm này đi sâu hơn vào phân tích, tìm ra nhiều khía cạnh của vấn đề, </span>\n",
       "<span style=\"color: #800080; text-decoration-color: #800080\">▌ </span><span style=\"color: #808000; text-decoration-color: #808000; font-weight: bold\">   </span><span style=\"color: #800080; text-decoration-color: #800080\">hoặc đề xuất các giải pháp sáng tạo hơn. Yêu cầu các em giải thích rõ ràng cơ sở lý luận cho câu trả lời của</span>\n",
       "<span style=\"color: #800080; text-decoration-color: #800080\">▌ </span><span style=\"color: #808000; text-decoration-color: #808000; font-weight: bold\">   </span><span style=\"color: #800080; text-decoration-color: #800080\">mình.                                                                                                       </span>\n",
       "\n",
       "<span style=\"font-style: italic\">GV: Thầy/cô thấy các nhóm đã thảo luận rất sôi nổi và đưa ra nhiều ý kiến hay. Bây giờ, để kiểm tra xem chúng ta đã</span>\n",
       "<span style=\"font-style: italic\">nắm vững kiến thức vừa học đến đâu, chúng ta sẽ cùng nhau luyện tập với một số bài tập cơ bản nhé.</span>                 \n",
       "\n",
       "                           <span style=\"font-weight: bold\">Hoạt động 4: Luyện tập và Vận dụng kiến thức cơ bản (20 phút)</span>                           \n",
       "\n",
       "<span style=\"font-weight: bold\">Nhiệm vụ:</span> Học sinh làm các bài tập vận dụng trực tiếp kiến thức vừa học (ví dụ: giải 2-3 bài tập cơ bản trong sách \n",
       "giáo khoa hoặc phiếu bài tập). Sau đó, học sinh có thể trao đổi nhanh kết quả với bạn bên cạnh.                    \n",
       "\n",
       "<span style=\"color: #800080; text-decoration-color: #800080\">▌ </span><span style=\"color: #800080; text-decoration-color: #800080; font-weight: bold\">Gợi ý Phân hóa:</span><span style=\"color: #800080; text-decoration-color: #800080\">                                                                                                </span>\n",
       "\n",
       "<span style=\"color: #800080; text-decoration-color: #800080\">▌ </span><span style=\"color: #808000; text-decoration-color: #808000; font-weight: bold\"> • </span><span style=\"color: #800080; text-decoration-color: #800080; font-style: italic\">Hỗ trợ (HS yếu):</span><span style=\"color: #800080; text-decoration-color: #800080\"> Giáo viên cung cấp các gợi ý cụ thể, công thức, hoặc ví dụ mẫu. Có thể cho phép học sinh   </span>\n",
       "<span style=\"color: #800080; text-decoration-color: #800080\">▌ </span><span style=\"color: #808000; text-decoration-color: #808000; font-weight: bold\">   </span><span style=\"color: #800080; text-decoration-color: #800080\">yếu chỉ làm một phần của bài tập hoặc tập trung vào các câu hỏi dễ hơn. Hỗ trợ trực tiếp, giải đáp thắc mắc </span>\n",
       "<span style=\"color: #800080; text-decoration-color: #800080\">▌ </span><span style=\"color: #808000; text-decoration-color: #808000; font-weight: bold\">   </span><span style=\"color: #800080; text-decoration-color: #800080\">cá nhân.                                                                                                    </span>\n",
       "\n",
       "<span style=\"color: #800080; text-decoration-color: #800080\">▌ </span><span style=\"color: #808000; text-decoration-color: #808000; font-weight: bold\"> • </span><span style=\"color: #800080; text-decoration-color: #800080; font-style: italic\">Thử thách (HS giỏi):</span><span style=\"color: #800080; text-decoration-color: #800080\"> Khuyến khích làm các bài tập mở rộng hoặc câu hỏi tư duy. Yêu cầu giải thích sâu hơn về</span>\n",
       "<span style=\"color: #800080; text-decoration-color: #800080\">▌ </span><span style=\"color: #808000; text-decoration-color: #808000; font-weight: bold\">   </span><span style=\"color: #800080; text-decoration-color: #800080\">cách làm, các phương pháp khác nhau hoặc ứng dụng thực tế của kiến thức. Có thể giao nhiệm vụ hỗ trợ các bạn</span>\n",
       "<span style=\"color: #800080; text-decoration-color: #800080\">▌ </span><span style=\"color: #808000; text-decoration-color: #808000; font-weight: bold\">   </span><span style=\"color: #800080; text-decoration-color: #800080\">trong nhóm.                                                                                                 </span>\n",
       "\n",
       "<span style=\"font-style: italic\">GV: Các em đã rất cố gắng trong phần luyện tập. Thầy/cô thấy các em đã nắm được những kiến thức cơ bản của bài học </span>\n",
       "<span style=\"font-style: italic\">hôm nay. Để kết thúc buổi học, chúng ta sẽ cùng nhau tổng kết lại những điểm chính và thầy/cô sẽ giao nhiệm vụ về </span> \n",
       "<span style=\"font-style: italic\">nhà cho các em nhé.</span>                                                                                                \n",
       "\n",
       "                          <span style=\"font-weight: bold\">Hoạt động 5: Tổng kết bài học và Giao nhiệm vụ về nhà (10 phút)</span>                          \n",
       "\n",
       "<span style=\"font-weight: bold\">Nhiệm vụ:</span> Giáo viên tóm tắt các kiến thức trọng tâm của bài học, giải đáp nhanh các thắc mắc của học sinh (nếu có).\n",
       "Sau đó, giáo viên giao bài tập về nhà, hướng dẫn rõ ràng yêu cầu và thời hạn nộp bài, nhấn mạnh các điểm cần lưu ý \n",
       "để học sinh hoàn thành tốt nhiệm vụ.                                                                               \n",
       "\n",
       "<span style=\"color: #800080; text-decoration-color: #800080\">▌ </span><span style=\"color: #800080; text-decoration-color: #800080; font-weight: bold\">Gợi ý Phân hóa:</span><span style=\"color: #800080; text-decoration-color: #800080\">                                                                                                </span>\n",
       "\n",
       "<span style=\"color: #800080; text-decoration-color: #800080\">▌ </span><span style=\"color: #808000; text-decoration-color: #808000; font-weight: bold\"> • </span><span style=\"color: #800080; text-decoration-color: #800080; font-style: italic\">Hỗ trợ (HS yếu):</span><span style=\"color: #800080; text-decoration-color: #800080\"> Gợi ý học sinh yếu tập trung vào các dạng bài cơ bản trong bài tập về nhà, khuyến khích các</span>\n",
       "<span style=\"color: #800080; text-decoration-color: #800080\">▌ </span><span style=\"color: #808000; text-decoration-color: #808000; font-weight: bold\">   </span><span style=\"color: #800080; text-decoration-color: #800080\">em xem lại ví dụ trong sách giáo khoa hoặc hỏi bạn bè, giáo viên nếu gặp khó khăn.                          </span>\n",
       "\n",
       "<span style=\"color: #800080; text-decoration-color: #800080\">▌ </span><span style=\"color: #808000; text-decoration-color: #808000; font-weight: bold\"> • </span><span style=\"color: #800080; text-decoration-color: #800080; font-style: italic\">Thử thách (HS giỏi):</span><span style=\"color: #800080; text-decoration-color: #800080\"> Gợi ý học sinh giỏi có thể thử sức với các bài tập nâng cao (nếu có trong tài liệu bổ  </span>\n",
       "<span style=\"color: #800080; text-decoration-color: #800080\">▌ </span><span style=\"color: #808000; text-decoration-color: #808000; font-weight: bold\">   </span><span style=\"color: #800080; text-decoration-color: #800080\">trợ) hoặc tìm hiểu sâu hơn một khía cạnh của bài học mà các em thấy hứng thú.                               </span>\n",
       "\n",
       "\n",
       "                                           <span style=\"font-weight: bold; text-decoration: underline\">V. TÓM TẮT KIẾN THỨC CỐT LÕI</span>                                            \n",
       "\n",
       "Chào các em,                                                                                                       \n",
       "\n",
       "Hôm nay, chúng ta sẽ cùng nhau tóm tắt kiến thức cốt lõi về chủ đề \"VỊ TRÍ TƯƠNG ĐỐI CỦA ĐƯỜNG THẲNG VÀ ĐƯỜNG TRÒN\"\n",
       "dựa trên các tài liệu chúng ta đã học nhé.                                                                         \n",
       "\n",
       "Sau khi xem xét kỹ lưỡng các đoạn văn bản được cung cấp, thầy/cô nhận thấy rằng <span style=\"font-weight: bold\">thông tin cụ thể về \"VỊ TRÍ TƯƠNG </span> \n",
       "<span style=\"font-weight: bold\">ĐỐI CỦA ĐƯỜNG THẲNG VÀ ĐƯỜNG TRÒN\" (như các trường hợp đường thẳng cắt đường tròn tại hai điểm, tiếp xúc với đường </span>\n",
       "<span style=\"font-weight: bold\">tròn, hay không cắt đường tròn) không có trong tài liệu tham khảo này.</span>                                             \n",
       "\n",
       "Do đó, thầy/cô không thể tóm tắt kiến thức cốt lõi về chủ đề này dựa trên các đoạn văn bản đã cho. Để hiểu rõ hơn  \n",
       "về \"VỊ TRÍ TƯƠNG ĐỐI CỦA ĐƯỜNG THẲNG VÀ ĐƯỜNG TRÒN\", chúng ta sẽ cần tham khảo thêm các nguồn tài liệu khác nhé các\n",
       "em.                                                                                                                \n",
       "\n",
       "<span style=\"color: #808000; text-decoration-color: #808000\">───────────────────────────────────────────────────────────────────────────────────────────────────────────────────</span>\n",
       "</pre>\n"
      ],
      "text/plain": [
       "Chào các em học sinh thân mến,                                                                                     \n",
       "\n",
       "Với vai trò là một Biên tập viên Sư phạm giàu kinh nghiệm, thầy/cô đã tiếp nhận yêu cầu và sẽ giúp các em xây dựng \n",
       "một giáo án hoàn chỉnh, chuyên nghiệp dựa trên các thông tin đã cung cấp. Giáo án này sẽ giúp chúng ta có một buổi \n",
       "học hiệu quả và thú vị về \"Vị trí tương đối của đường thẳng và đường tròn\".                                        \n",
       "\n",
       "\u001b[33m───────────────────────────────────────────────────────────────────────────────────────────────────────────────────\u001b[0m\n",
       "┏━━━━━━━━━━━━━━━━━━━━━━━━━━━━━━━━━━━━━━━━━━━━━━━━━━━━━━━━━━━━━━━━━━━━━━━━━━━━━━━━━━━━━━━━━━━━━━━━━━━━━━━━━━━━━━━━━┓\n",
       "┃                                           \u001b[1mGIÁO ÁN MÔN TOÁN HỌC LỚP 9\u001b[0m                                            ┃\n",
       "┗━━━━━━━━━━━━━━━━━━━━━━━━━━━━━━━━━━━━━━━━━━━━━━━━━━━━━━━━━━━━━━━━━━━━━━━━━━━━━━━━━━━━━━━━━━━━━━━━━━━━━━━━━━━━━━━━━┛\n",
       "\n",
       "\n",
       "                                                \u001b[1;4mI. THÔNG TIN CHUNG\u001b[0m                                                 \n",
       "\n",
       "\u001b[1;33m • \u001b[0m\u001b[1mChủ Đề:\u001b[0m VỊ TRÍ TƯƠNG ĐỐI CỦA ĐƯỜNG THẲNG VÀ ĐƯỜNG TRÒN                                                          \n",
       "\u001b[1;33m • \u001b[0m\u001b[1mMôn Học:\u001b[0m Toán học                                                                                               \n",
       "\u001b[1;33m • \u001b[0m\u001b[1mLớp:\u001b[0m Lớp 9                                                                                                      \n",
       "\u001b[1;33m • \u001b[0m\u001b[1mThời Lượng:\u001b[0m 90 phút                                                                                             \n",
       "\u001b[1;33m • \u001b[0m\u001b[1mPhương Pháp Chủ Đạo:\u001b[0m Dạy học hợp tác (Cooperative Learning)                                                     \n",
       "\u001b[1;33m • \u001b[0m\u001b[1mĐặc Điểm Lớp Học:\u001b[0m Lớp học khá yếu, học sinh dễ mất tập trung, cần các hoạt động tương tác cao để duy trì sự chú \n",
       "\u001b[1;33m   \u001b[0mý và hứng thú.                                                                                                  \n",
       "\n",
       "\n",
       "                                               \u001b[1;4mII. MỤC TIÊU BÀI HỌC\u001b[0m                                                \n",
       "\n",
       "\u001b[1;33m • \u001b[0mHọc sinh có thể Soạn kiến thức về VỊ TRÍ TƯƠNG ĐỐI CỦA ĐƯỜNG THẲNG VÀ ĐƯỜNG TRÒN.                               \n",
       "\u001b[1;33m • \u001b[0mRèn luyện kỹ năng tư duy logic.                                                                                 \n",
       "\u001b[1;33m • \u001b[0mPhát triển kỹ năng hợp tác.                                                                                     \n",
       "\n",
       "\n",
       "                                                   \u001b[1;4mIII. CHUẨN BỊ\u001b[0m                                                   \n",
       "\n",
       "\u001b[1;33m • \u001b[0m\u001b[1mGiáo Viên:\u001b[0m Bảng phụ, máy chiếu, phiếu học tập                                                                   \n",
       "\u001b[1;33m • \u001b[0m\u001b[1mHọc Sinh:\u001b[0m Sách giáo khoa, vở ghi, dụng cụ học tập                                                               \n",
       "\n",
       "\n",
       "                                              \u001b[1;4mIV. TIẾN TRÌNH BÀI DẠY\u001b[0m                                               \n",
       "\n",
       "                        \u001b[1mHoạt động 1: Khởi động: Vị trí tương đối của các vật thể (15 phút)\u001b[0m                         \n",
       "\n",
       "\u001b[1mNhiệm vụ:\u001b[0m Giáo viên chuẩn bị một số vật thật (ví dụ: bút, sách, hộp bút, thước kẻ) hoặc hình ảnh các vật thể được  \n",
       "sắp xếp theo nhiều vị trí khác nhau (trên, dưới, bên cạnh, giữa, trong, ngoài). Chia lớp thành các nhóm nhỏ (3-4   \n",
       "học sinh). Giáo viên trình bày các vật thật/hình ảnh. Yêu cầu các nhóm quan sát và mô tả vị trí của các vật thể này\n",
       "so với nhau bằng ngôn ngữ tự nhiên của mình. Các nhóm ghi lại các mô tả và dự đoán của mình. Đại diện một số nhóm  \n",
       "trình bày kết quả.                                                                                                 \n",
       "\n",
       "\u001b[35m▌ \u001b[0m\u001b[1;35mGợi ý Phân hóa:\u001b[0m\u001b[35m                                                                                                \u001b[0m\n",
       "\n",
       "\u001b[35m▌ \u001b[0m\u001b[1;33m • \u001b[0m\u001b[3;35mHỗ trợ (HS yếu):\u001b[0m\u001b[35m Giáo viên có thể cung cấp các câu hỏi gợi ý cụ thể hơn hoặc chỉ định các cặp vật thể đơn \u001b[0m\u001b[35m  \u001b[0m\n",
       "\u001b[35m▌ \u001b[0m\u001b[1;33m   \u001b[0m\u001b[35mgiản để học sinh dễ dàng mô tả. Có thể cho học sinh sử dụng cử chỉ để diễn tả vị trí trước khi dùng lời.\u001b[0m\u001b[35m    \u001b[0m\n",
       "\n",
       "\u001b[35m▌ \u001b[0m\u001b[1;33m • \u001b[0m\u001b[3;35mThử thách (HS giỏi):\u001b[0m\u001b[35m Yêu cầu học sinh sử dụng nhiều từ ngữ khác nhau để mô tả cùng một vị trí, hoặc đặt ra \u001b[0m\u001b[35m \u001b[0m\n",
       "\u001b[35m▌ \u001b[0m\u001b[1;33m   \u001b[0m\u001b[35mtình huống phức tạp hơn với nhiều vật thể để mô tả mối quan hệ giữa chúng. Có thể yêu cầu học sinh tự tạo ra\u001b[0m\n",
       "\u001b[35m▌ \u001b[0m\u001b[1;33m   \u001b[0m\u001b[35mmột tình huống và mô tả.\u001b[0m\u001b[35m                                                                                    \u001b[0m\n",
       "\n",
       "\u001b[3mGV: Các em vừa khởi động rất sôi nổi và đã mô tả rất tốt vị trí của các vật thể trong không gian. Bây giờ, chúng ta\u001b[0m\n",
       "\u001b[3msẽ cùng nhau chuyển sang một hoạt động thú vị hơn, đó là khám phá các vị trí tương đối của hai đối tượng hình học \u001b[0m \n",
       "\u001b[3mquen thuộc: đường thẳng và đường tròn nhé!\u001b[0m                                                                         \n",
       "\n",
       "    \u001b[1mHoạt động 2: Khám phá và Xây dựng kiến thức về các vị trí tương đối của đường thẳng và đường tròn (30 phút)\u001b[0m    \n",
       "\n",
       "\u001b[1mNhiệm vụ:\u001b[0m Mỗi nhóm sử dụng compa và thước để vẽ các trường hợp vị trí tương đối của đường thẳng và đường tròn (cắt \n",
       "nhau, tiếp xúc, không cắt nhau). Sau đó, đo khoảng cách từ tâm đường tròn đến đường thẳng (d) và bán kính (R) trong\n",
       "từng trường hợp. Ghi nhận và so sánh mối quan hệ giữa d và R, từ đó rút ra kết luận về điều kiện cho mỗi vị trí    \n",
       "tương đối.                                                                                                         \n",
       "\n",
       "\u001b[35m▌ \u001b[0m\u001b[1;35mGợi ý Phân hóa:\u001b[0m\u001b[35m                                                                                                \u001b[0m\n",
       "\n",
       "\u001b[35m▌ \u001b[0m\u001b[1;33m • \u001b[0m\u001b[3;35mHỗ trợ (HS yếu):\u001b[0m\u001b[35m Cung cấp các hình vẽ mẫu hoặc hướng dẫn từng bước cụ thể cách vẽ và đo đạc. Giáo viên có \u001b[0m\u001b[35m  \u001b[0m\n",
       "\u001b[35m▌ \u001b[0m\u001b[1;33m   \u001b[0m\u001b[35mthể làm việc trực tiếp với nhóm này để đảm bảo họ hiểu khái niệm d và R.\u001b[0m\u001b[35m                                    \u001b[0m\n",
       "\n",
       "\u001b[35m▌ \u001b[0m\u001b[1;33m • \u001b[0m\u001b[3;35mThử thách (HS giỏi):\u001b[0m\u001b[35m Yêu cầu học sinh giải thích tại sao mối quan hệ d và R lại quyết định vị trí tương đối.\u001b[0m\n",
       "\u001b[35m▌ \u001b[0m\u001b[1;33m   \u001b[0m\u001b[35mThử thách các em tìm thêm các trường hợp đặc biệt hoặc mở rộng sang vị trí tương đối của hai đường tròn (nếu\u001b[0m\n",
       "\u001b[35m▌ \u001b[0m\u001b[1;33m   \u001b[0m\u001b[35mthời gian cho phép).\u001b[0m\u001b[35m                                                                                        \u001b[0m\n",
       "\n",
       "\u001b[3mGV: Các nhóm đã rất tích cực trong việc tự mình khám phá và rút ra những nhận xét quan trọng về mối quan hệ giữa \u001b[0m  \n",
       "\u001b[3mkhoảng cách từ tâm đến đường thẳng và bán kính đường tròn. Để củng cố và chuẩn hóa những kiến thức này, chúng ta \u001b[0m  \n",
       "\u001b[3mhãy cùng nhau thảo luận sâu hơn trong hoạt động tiếp theo.\u001b[0m                                                         \n",
       "\n",
       "                           \u001b[1mHoạt động 3: Thảo luận nhóm và Chuẩn hóa kiến thức (15 phút)\u001b[0m                            \n",
       "\n",
       "\u001b[1mNhiệm vụ:\u001b[0m Học sinh làm việc theo nhóm (3-4 người) để thảo luận về một vấn đề/câu hỏi cụ thể (do giáo viên đưa ra   \n",
       "trước hoặc trong hoạt động). Các nhóm tổng hợp ý kiến, thống nhất câu trả lời hoặc giải pháp. Sau đó, đại diện 2-3 \n",
       "nhóm sẽ trình bày nhanh kết quả thảo luận của nhóm mình (mỗi nhóm khoảng 1-2 phút).                                \n",
       "\n",
       "\u001b[35m▌ \u001b[0m\u001b[1;35mGợi ý Phân hóa:\u001b[0m\u001b[35m                                                                                                \u001b[0m\n",
       "\n",
       "\u001b[35m▌ \u001b[0m\u001b[1;33m • \u001b[0m\u001b[3;35mHỗ trợ (HS yếu):\u001b[0m\u001b[35m Giáo viên có thể gợi ý các câu hỏi nhỏ hơn, cụ thể hơn cho nhóm, hoặc cung cấp một số từ \u001b[0m\u001b[35m  \u001b[0m\n",
       "\u001b[35m▌ \u001b[0m\u001b[1;33m   \u001b[0m\u001b[35mkhóa/khái niệm để nhóm dễ dàng bắt đầu thảo luận. Đảm bảo các em được tham gia vào quá trình tổng hợp ý \u001b[0m\u001b[35m    \u001b[0m\n",
       "\u001b[35m▌ \u001b[0m\u001b[1;33m   \u001b[0m\u001b[35mkiến.\u001b[0m\u001b[35m                                                                                                       \u001b[0m\n",
       "\n",
       "\u001b[35m▌ \u001b[0m\u001b[1;33m • \u001b[0m\u001b[3;35mThử thách (HS giỏi):\u001b[0m\u001b[35m Khuyến khích các nhóm này đi sâu hơn vào phân tích, tìm ra nhiều khía cạnh của vấn đề, \u001b[0m\n",
       "\u001b[35m▌ \u001b[0m\u001b[1;33m   \u001b[0m\u001b[35mhoặc đề xuất các giải pháp sáng tạo hơn. Yêu cầu các em giải thích rõ ràng cơ sở lý luận cho câu trả lời của\u001b[0m\n",
       "\u001b[35m▌ \u001b[0m\u001b[1;33m   \u001b[0m\u001b[35mmình.\u001b[0m\u001b[35m                                                                                                       \u001b[0m\n",
       "\n",
       "\u001b[3mGV: Thầy/cô thấy các nhóm đã thảo luận rất sôi nổi và đưa ra nhiều ý kiến hay. Bây giờ, để kiểm tra xem chúng ta đã\u001b[0m\n",
       "\u001b[3mnắm vững kiến thức vừa học đến đâu, chúng ta sẽ cùng nhau luyện tập với một số bài tập cơ bản nhé.\u001b[0m                 \n",
       "\n",
       "                           \u001b[1mHoạt động 4: Luyện tập và Vận dụng kiến thức cơ bản (20 phút)\u001b[0m                           \n",
       "\n",
       "\u001b[1mNhiệm vụ:\u001b[0m Học sinh làm các bài tập vận dụng trực tiếp kiến thức vừa học (ví dụ: giải 2-3 bài tập cơ bản trong sách \n",
       "giáo khoa hoặc phiếu bài tập). Sau đó, học sinh có thể trao đổi nhanh kết quả với bạn bên cạnh.                    \n",
       "\n",
       "\u001b[35m▌ \u001b[0m\u001b[1;35mGợi ý Phân hóa:\u001b[0m\u001b[35m                                                                                                \u001b[0m\n",
       "\n",
       "\u001b[35m▌ \u001b[0m\u001b[1;33m • \u001b[0m\u001b[3;35mHỗ trợ (HS yếu):\u001b[0m\u001b[35m Giáo viên cung cấp các gợi ý cụ thể, công thức, hoặc ví dụ mẫu. Có thể cho phép học sinh \u001b[0m\u001b[35m  \u001b[0m\n",
       "\u001b[35m▌ \u001b[0m\u001b[1;33m   \u001b[0m\u001b[35myếu chỉ làm một phần của bài tập hoặc tập trung vào các câu hỏi dễ hơn. Hỗ trợ trực tiếp, giải đáp thắc mắc \u001b[0m\n",
       "\u001b[35m▌ \u001b[0m\u001b[1;33m   \u001b[0m\u001b[35mcá nhân.\u001b[0m\u001b[35m                                                                                                    \u001b[0m\n",
       "\n",
       "\u001b[35m▌ \u001b[0m\u001b[1;33m • \u001b[0m\u001b[3;35mThử thách (HS giỏi):\u001b[0m\u001b[35m Khuyến khích làm các bài tập mở rộng hoặc câu hỏi tư duy. Yêu cầu giải thích sâu hơn về\u001b[0m\n",
       "\u001b[35m▌ \u001b[0m\u001b[1;33m   \u001b[0m\u001b[35mcách làm, các phương pháp khác nhau hoặc ứng dụng thực tế của kiến thức. Có thể giao nhiệm vụ hỗ trợ các bạn\u001b[0m\n",
       "\u001b[35m▌ \u001b[0m\u001b[1;33m   \u001b[0m\u001b[35mtrong nhóm.\u001b[0m\u001b[35m                                                                                                 \u001b[0m\n",
       "\n",
       "\u001b[3mGV: Các em đã rất cố gắng trong phần luyện tập. Thầy/cô thấy các em đã nắm được những kiến thức cơ bản của bài học \u001b[0m\n",
       "\u001b[3mhôm nay. Để kết thúc buổi học, chúng ta sẽ cùng nhau tổng kết lại những điểm chính và thầy/cô sẽ giao nhiệm vụ về \u001b[0m \n",
       "\u001b[3mnhà cho các em nhé.\u001b[0m                                                                                                \n",
       "\n",
       "                          \u001b[1mHoạt động 5: Tổng kết bài học và Giao nhiệm vụ về nhà (10 phút)\u001b[0m                          \n",
       "\n",
       "\u001b[1mNhiệm vụ:\u001b[0m Giáo viên tóm tắt các kiến thức trọng tâm của bài học, giải đáp nhanh các thắc mắc của học sinh (nếu có).\n",
       "Sau đó, giáo viên giao bài tập về nhà, hướng dẫn rõ ràng yêu cầu và thời hạn nộp bài, nhấn mạnh các điểm cần lưu ý \n",
       "để học sinh hoàn thành tốt nhiệm vụ.                                                                               \n",
       "\n",
       "\u001b[35m▌ \u001b[0m\u001b[1;35mGợi ý Phân hóa:\u001b[0m\u001b[35m                                                                                                \u001b[0m\n",
       "\n",
       "\u001b[35m▌ \u001b[0m\u001b[1;33m • \u001b[0m\u001b[3;35mHỗ trợ (HS yếu):\u001b[0m\u001b[35m Gợi ý học sinh yếu tập trung vào các dạng bài cơ bản trong bài tập về nhà, khuyến khích các\u001b[0m\n",
       "\u001b[35m▌ \u001b[0m\u001b[1;33m   \u001b[0m\u001b[35mem xem lại ví dụ trong sách giáo khoa hoặc hỏi bạn bè, giáo viên nếu gặp khó khăn.\u001b[0m\u001b[35m                          \u001b[0m\n",
       "\n",
       "\u001b[35m▌ \u001b[0m\u001b[1;33m • \u001b[0m\u001b[3;35mThử thách (HS giỏi):\u001b[0m\u001b[35m Gợi ý học sinh giỏi có thể thử sức với các bài tập nâng cao (nếu có trong tài liệu bổ \u001b[0m\u001b[35m \u001b[0m\n",
       "\u001b[35m▌ \u001b[0m\u001b[1;33m   \u001b[0m\u001b[35mtrợ) hoặc tìm hiểu sâu hơn một khía cạnh của bài học mà các em thấy hứng thú.\u001b[0m\u001b[35m                               \u001b[0m\n",
       "\n",
       "\n",
       "                                           \u001b[1;4mV. TÓM TẮT KIẾN THỨC CỐT LÕI\u001b[0m                                            \n",
       "\n",
       "Chào các em,                                                                                                       \n",
       "\n",
       "Hôm nay, chúng ta sẽ cùng nhau tóm tắt kiến thức cốt lõi về chủ đề \"VỊ TRÍ TƯƠNG ĐỐI CỦA ĐƯỜNG THẲNG VÀ ĐƯỜNG TRÒN\"\n",
       "dựa trên các tài liệu chúng ta đã học nhé.                                                                         \n",
       "\n",
       "Sau khi xem xét kỹ lưỡng các đoạn văn bản được cung cấp, thầy/cô nhận thấy rằng \u001b[1mthông tin cụ thể về \"VỊ TRÍ TƯƠNG \u001b[0m \n",
       "\u001b[1mĐỐI CỦA ĐƯỜNG THẲNG VÀ ĐƯỜNG TRÒN\" (như các trường hợp đường thẳng cắt đường tròn tại hai điểm, tiếp xúc với đường \u001b[0m\n",
       "\u001b[1mtròn, hay không cắt đường tròn) không có trong tài liệu tham khảo này.\u001b[0m                                             \n",
       "\n",
       "Do đó, thầy/cô không thể tóm tắt kiến thức cốt lõi về chủ đề này dựa trên các đoạn văn bản đã cho. Để hiểu rõ hơn  \n",
       "về \"VỊ TRÍ TƯƠNG ĐỐI CỦA ĐƯỜNG THẲNG VÀ ĐƯỜNG TRÒN\", chúng ta sẽ cần tham khảo thêm các nguồn tài liệu khác nhé các\n",
       "em.                                                                                                                \n",
       "\n",
       "\u001b[33m───────────────────────────────────────────────────────────────────────────────────────────────────────────────────\u001b[0m\n"
      ]
     },
     "metadata": {},
     "output_type": "display_data"
    }
   ],
   "source": [
    "# ==============================================================================\n",
    "# CELL 5.2: KÍCH HOẠT CHẠY THỬ NGHIỆM\n",
    "# ==============================================================================\n",
    "# Yêu cầu để kiểm tra\n",
    "architect_request = \"Soạn giúp tôi giáo án bài 'VỊ TRÍ TƯƠNG ĐỐI CỦA ĐƯỜNG THẲNG VÀ ĐƯỜNG TRÒN' cho học sinh lớp 9 trong 90 phút. Đây là một lớp học khá yếu, các em thường mất tập trung và cần các hoạt động có tính tương tác cao.\"\n",
    "VERBOSE_MODE = True \n",
    "\n",
    "# Chạy quy trình đã được cải cách\n",
    "await run_architect(architect_request)"
   ]
  }
 ],
 "metadata": {
  "kernelspec": {
   "display_name": "plan_venv",
   "language": "python",
   "name": "python3"
  },
  "language_info": {
   "codemirror_mode": {
    "name": "ipython",
    "version": 3
   },
   "file_extension": ".py",
   "mimetype": "text/x-python",
   "name": "python",
   "nbconvert_exporter": "python",
   "pygments_lexer": "ipython3",
   "version": "3.11.8"
  }
 },
 "nbformat": 4,
 "nbformat_minor": 5
}
