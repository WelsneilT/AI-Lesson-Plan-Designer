{
 "cells": [
  {
   "cell_type": "markdown",
   "id": "a3bfa357",
   "metadata": {},
   "source": [
    "## PHẦN 1: CÀI ĐẶT, IMPORTS & THIẾT LẬP BAN ĐẦU"
   ]
  },
  {
   "cell_type": "code",
   "execution_count": 20,
   "id": "f1b9d691",
   "metadata": {},
   "outputs": [],
   "source": [
    "# ==============================================================================\n",
    "# CELL 1.1: CÀI ĐẶT THƯ VIỆN & BIẾN MÔI TRƯỜNG (CẬP NHẬT)\n",
    "# ==============================================================================\n",
    "import os\n",
    "import json\n",
    "import asyncio\n",
    "import operator\n",
    "import time \n",
    "import re\n",
    "from typing import TypedDict, Annotated, List, Dict, Any, Literal, Optional, Union\n",
    "\n",
    "# Tải các biến môi trường\n",
    "from dotenv import load_dotenv \n",
    "load_dotenv()\n",
    "\n",
    "# LangChain & LangGraph\n",
    "from langchain_core.messages import BaseMessage, HumanMessage   \n",
    "from pydantic.v1 import BaseModel, Field, schema_json_of\n",
    "\n",
    "from langchain_google_genai import ChatGoogleGenerativeAI\n",
    "from langgraph.graph import StateGraph, END\n",
    "from langgraph.graph.message import add_messages\n",
    "\n",
    "# --- NÂNG CẤP: Thêm công cụ tìm kiếm ---\n",
    "from langchain_community.tools.tavily_search import TavilySearchResults\n",
    "\n",
    "# Thư viện hỗ trợ & Kho tri thức\n",
    "from langchain_community.vectorstores import FAISS\n",
    "from langchain_huggingface import HuggingFaceEmbeddings\n",
    "from rich.console import Console\n",
    "from rich.markdown import Markdown\n",
    "from rich.pretty import pprint\n",
    "from IPython.display import Image, display"
   ]
  },
  {
   "cell_type": "code",
   "execution_count": 21,
   "id": "eb563d80",
   "metadata": {},
   "outputs": [],
   "source": [
    "# ==============================================================================\n",
    "# CELL 1.2: CẤU HÌNH LOG & CÁC HÀM IN ẤN\n",
    "# ==============================================================================\n",
    "from langchain_groq import ChatGroq\n",
    "from markdown_pdf import MarkdownPdf, Section\n",
    "# --- CẤU HÌNH LOG ---\n",
    "VERBOSE_MODE = True\n",
    "\n",
    "# --- KHỞI TẠO CÁC CÔNG CỤ IN ẤN ---\n",
    "console = Console()\n",
    "\n",
    "def print_step(message: str):\n",
    "    if VERBOSE_MODE:\n",
    "        console.print(f\"\\n[bold cyan]>[/bold cyan] {message}\")\n",
    "\n",
    "def print_result(data: Any, title: str = \"Kết quả\"):\n",
    "    if VERBOSE_MODE:\n",
    "        console.print(f\"[bold green]✔️ {title}:[/bold green]\")\n",
    "        pprint(data, expand_all=True)\n",
    "        \n",
    "def print_warning(message: str):\n",
    "    if VERBOSE_MODE:\n",
    "        console.print(f\"[bold yellow]⚠️  {message}[/bold yellow]\")\n",
    "\n",
    "async def save_markdown_to_pdf(markdown_content: str, output_filename: str = \"GiaoAn.pdf\"):\n",
    "    \"\"\"\n",
    "    Chuyển đổi một chuỗi Markdown thành file PDF và lưu lại.\n",
    "    \"\"\"\n",
    "    print_step(f\"Đang chuyển đổi giáo án sang file PDF: '{output_filename}'...\")\n",
    "    try:\n",
    "        pdf = MarkdownPdf(toc_level=2) \n",
    "        \n",
    "        # Thêm nội dung Markdown vào PDF\n",
    "        pdf.add_section(Section(markdown_content, toc=True))\n",
    "        \n",
    "        # Lưu file PDF\n",
    "        pdf.save(output_filename)\n",
    "        \n",
    "        print(f\"✅ Đã lưu giáo án thành công vào file '{output_filename}'\")\n",
    "    except Exception as e:\n",
    "        print_warning(f\"Lỗi khi tạo file PDF: {e}\")\n",
    "        print_warning(\"Có thể bạn chưa cài đặt markdown-pdf hoặc các dependency của nó. Hãy thử chạy 'pip install markdown-pdf' trong terminal.\")\n",
    "\n"
   ]
  },
  {
   "cell_type": "code",
   "execution_count": 22,
   "id": "eb8e3f51",
   "metadata": {},
   "outputs": [
    {
     "name": "stdout",
     "output_type": "stream",
     "text": [
      "✅ LLM (Gemini 2.5 Flash từ Google AI Studio) đã được khởi tạo thành công.\n"
     ]
    }
   ],
   "source": [
    "# ==============================================================================\n",
    "# CELL 1.3: KHỞI TẠO LLM (NÂNG CẤP SANG GOOGLE AI STUDIO)\n",
    "# ==============================================================================\n",
    "try:\n",
    "    llm = ChatGoogleGenerativeAI(\n",
    "        model=\"gemini-2.5-flash\", # Sử dụng model mới nhất và mạnh nhất\n",
    "        temperature=0.1,\n",
    "        google_api_key=os.getenv(\"GOOGLE_API_KEY\")\n",
    "    )\n",
    "    print(\"✅ LLM (Gemini 2.5 Flash từ Google AI Studio) đã được khởi tạo thành công.\")\n",
    "except Exception as e:\n",
    "    print(f\"❌ LỖI: Không thể khởi tạo LLM. Hãy chắc chắn bạn đã cài 'langchain-google-genai' và có GOOGLE_API_KEY trong file .env. Lỗi: {e}\")\n",
    "    llm = None"
   ]
  },
  {
   "cell_type": "code",
   "execution_count": 23,
   "id": "9d8894ca",
   "metadata": {},
   "outputs": [
    {
     "data": {
      "text/html": [
       "<pre style=\"white-space:pre;overflow-x:auto;line-height:normal;font-family:Menlo,'DejaVu Sans Mono',consolas,'Courier New',monospace\">\n",
       "<span style=\"color: #008080; text-decoration-color: #008080; font-weight: bold\">&gt;</span> Đang tải và hợp nhất các kho tri thức từ <span style=\"color: #008080; text-decoration-color: #008080; font-weight: bold\">3</span> thư mục<span style=\"color: #808000; text-decoration-color: #808000\">...</span>\n",
       "</pre>\n"
      ],
      "text/plain": [
       "\n",
       "\u001b[1;36m>\u001b[0m Đang tải và hợp nhất các kho tri thức từ \u001b[1;36m3\u001b[0m thư mục\u001b[33m...\u001b[0m\n"
      ]
     },
     "metadata": {},
     "output_type": "display_data"
    },
    {
     "name": "stdout",
     "output_type": "stream",
     "text": [
      "✅ Đã tải thành công kho tri thức cơ sở: 'sgk_toan_12_1'\n",
      "✅ Đã hợp nhất thành công: 'sgk_toan_12_2'\n",
      "✅ Đã hợp nhất thành công: 'sgk_toan_9_1'\n",
      "\n",
      "[bold green]✔️ Tất cả các kho tri thức RAG đã được tải và hợp nhất thành công.[/bold green]\n"
     ]
    }
   ],
   "source": [
    "# ==============================================================================\n",
    "# CELL 1.4: TẢI KHO TRI THỨC (RAG)\n",
    "# ==============================================================================\n",
    "# --- TẢI KHO TRI THỨC ---\n",
    "BASE_VECTOR_STORE_PATH = \"vector_store\"\n",
    "vector_store = None\n",
    "embeddings = HuggingFaceEmbeddings(model_name=\"all-MiniLM-L6-v2\")\n",
    "\n",
    "if os.path.exists(BASE_VECTOR_STORE_PATH):\n",
    "    subdirectories = [f.path for f in os.scandir(BASE_VECTOR_STORE_PATH) if f.is_dir()]\n",
    "    if not subdirectories:\n",
    "        print(f\"❌ LỖI: Không tìm thấy thư mục con nào trong '{BASE_VECTOR_STORE_PATH}'.\")\n",
    "    else:\n",
    "        try:\n",
    "            print_step(f\"Đang tải và hợp nhất các kho tri thức từ {len(subdirectories)} thư mục...\")\n",
    "            # Tải kho tri thức đầu tiên để làm cơ sở\n",
    "            first_store_path = subdirectories.pop(0)\n",
    "            vector_store = FAISS.load_local(first_store_path, embeddings, allow_dangerous_deserialization=True)\n",
    "            print(f\"✅ Đã tải thành công kho tri thức cơ sở: '{os.path.basename(first_store_path)}'\")\n",
    "\n",
    "            # Hợp nhất các kho tri thức còn lại\n",
    "            for store_path in subdirectories:\n",
    "                if os.path.exists(os.path.join(store_path, \"index.faiss\")):\n",
    "                    temp_store = FAISS.load_local(store_path, embeddings, allow_dangerous_deserialization=True)\n",
    "                    vector_store.merge_from(temp_store)\n",
    "                    print(f\"✅ Đã hợp nhất thành công: '{os.path.basename(store_path)}'\")\n",
    "                else:\n",
    "                    print_warning(f\"Bỏ qua thư mục '{os.path.basename(store_path)}' vì không chứa file index.faiss.\")\n",
    "            \n",
    "            print(\"\\n[bold green]✔️ Tất cả các kho tri thức RAG đã được tải và hợp nhất thành công.[/bold green]\")\n",
    "\n",
    "        except Exception as e:\n",
    "            print(f\"❌ LỖI trong quá trình tải hoặc hợp nhất kho tri thức: {e}\")\n",
    "else:\n",
    "    print(f\"❌ LỖI: Không tìm thấy thư mục gốc của kho tri thức tại '{BASE_VECTOR_STORE_PATH}'.\")\n"
   ]
  },
  {
   "cell_type": "code",
   "execution_count": 24,
   "id": "73b17652",
   "metadata": {},
   "outputs": [
    {
     "data": {
      "text/html": [
       "<pre style=\"white-space:pre;overflow-x:auto;line-height:normal;font-family:Menlo,'DejaVu Sans Mono',consolas,'Courier New',monospace\">\n",
       "<span style=\"color: #008080; text-decoration-color: #008080; font-weight: bold\">&gt;</span> ✅ Đã xây dựng Vector Store cho Trí nhớ Dài hạn.\n",
       "</pre>\n"
      ],
      "text/plain": [
       "\n",
       "\u001b[1;36m>\u001b[0m ✅ Đã xây dựng Vector Store cho Trí nhớ Dài hạn.\n"
      ]
     },
     "metadata": {},
     "output_type": "display_data"
    }
   ],
   "source": [
    "# ==============================================================================\n",
    "# CELL 1.5: KHỞI TẠO VÀ QUẢN LÝ TRÍ NHỚ DÀI HẠN (NÂNG CẤP V9.4)\n",
    "# ==============================================================================\n",
    "MEMORY_FILE_PATH = \"long_term_memory.json\"\n",
    "memory_vector_store = None\n",
    "\n",
    "# Hàm để tải trí nhớ từ file JSON\n",
    "def load_memory():\n",
    "    if not os.path.exists(MEMORY_FILE_PATH):\n",
    "        return []\n",
    "    with open(MEMORY_FILE_PATH, 'r', encoding='utf-8') as f:\n",
    "        return json.load(f)\n",
    "\n",
    "# Hàm để lưu một giáo án mới vào trí nhớ\n",
    "def save_to_memory(request: str, structured_plan: Dict[str, Any]):\n",
    "    memory = load_memory()\n",
    "    memory.append({\n",
    "        \"request\": request,\n",
    "        \"plan\": structured_plan\n",
    "    })\n",
    "    with open(MEMORY_FILE_PATH, 'w', encoding='utf-8') as f:\n",
    "        json.dump(memory, f, ensure_ascii=False, indent=2)\n",
    "    print_step(\"🧠 Đã lưu giáo án thành công vào Trí nhớ Dài hạn.\")\n",
    "\n",
    "# Hàm để tạo một vector store từ trí nhớ (để tìm kiếm tương đồng)\n",
    "def build_memory_vector_store():\n",
    "    global memory_vector_store\n",
    "    memory_content = load_memory()\n",
    "    if not memory_content:\n",
    "        print_warning(\"Trí nhớ trống, không có gì để xây dựng vector store.\")\n",
    "        return\n",
    "\n",
    "    # Chỉ lấy phần 'request' để tìm kiếm\n",
    "    texts = [item['request'] for item in memory_content]\n",
    "    # Lưu toàn bộ item làm metadata\n",
    "    metadatas = memory_content\n",
    "    \n",
    "    memory_vector_store = FAISS.from_texts(texts, embeddings, metadatas=metadatas)\n",
    "    print_step(\"✅ Đã xây dựng Vector Store cho Trí nhớ Dài hạn.\")\n",
    "\n",
    "# Tự động xây dựng vector store khi khởi động notebook\n",
    "build_memory_vector_store()"
   ]
  },
  {
   "cell_type": "markdown",
   "id": "5411a6b6",
   "metadata": {},
   "source": [
    "## PHẦN 2: ĐỊNH NGHĨA STATE CỦA HỆ THỐNG"
   ]
  },
  {
   "cell_type": "code",
   "execution_count": 25,
   "id": "38cfae91",
   "metadata": {},
   "outputs": [
    {
     "name": "stdout",
     "output_type": "stream",
     "text": [
      "✅ 'TeacherStateV5' (v9.0 - Hỗ trợ Phân hóa & Cấu trúc) đã được định nghĩa.\n"
     ]
    }
   ],
   "source": [
    "# ==============================================================================\n",
    "# CELL 2.1: ĐỊNH NGHĨA STATE NÂNG CAO (v9.0)\n",
    "# ==============================================================================\n",
    "from typing import TypedDict, Annotated, List, Dict, Any, Literal, Optional, Union\n",
    "from langchain_core.messages import BaseMessage\n",
    "from langgraph.graph.message import add_messages\n",
    "import operator\n",
    "\n",
    "# --- Hàm tiện ích (giữ nguyên) ---\n",
    "def merge_dicts(dict1: Dict[str, Any], dict2: Dict[str, Any]) -> Dict[str, Any]:\n",
    "    merged = dict1.copy()\n",
    "    for key, value in dict2.items():\n",
    "        if key in merged and isinstance(merged[key], dict) and isinstance(value, dict):\n",
    "            merged[key] = merge_dicts(merged[key], value)\n",
    "        else:\n",
    "            merged[key] = value\n",
    "    return merged\n",
    "\n",
    "# --- Cấu trúc dữ liệu con (giữ nguyên) ---\n",
    "class DetailedTask(TypedDict):\n",
    "    task_id: int\n",
    "    task_name: str\n",
    "    task_description: str\n",
    "    estimated_duration: int \n",
    "    guidance: str\n",
    "    status: Literal[\"pending\", \"completed\"]\n",
    "\n",
    "# === NÂNG CẤP V9.0: CÁC CẤU TRÚC DỮ LIỆU MỚI CHO TƯ DUY SÂU ===\n",
    "class DifferentiatedInstruction(TypedDict):\n",
    "    \"\"\"Gợi ý cho việc dạy học phân hóa trong một hoạt động.\"\"\"\n",
    "    for_struggling_students: str\n",
    "    for_advanced_students: str\n",
    "\n",
    "class StructuredContentItem(TypedDict):\n",
    "    \"\"\"Định nghĩa một hoạt động hoặc đánh giá có cấu trúc.\"\"\"\n",
    "    task_id: int\n",
    "    activity_name: str\n",
    "    question_or_description: str # Gộp 'question' và 'description'\n",
    "    duration_minutes: int\n",
    "    content_type: str # Gộp 'activity_type' và 'question_type'\n",
    "    teacher_actions: List[str]\n",
    "    solution_guide: Any\n",
    "    answer: Optional[str] # Dành cho câu hỏi đánh giá\n",
    "    differentiation: Optional[DifferentiatedInstruction]\n",
    "\n",
    "class FinalStructuredPlan(TypedDict):\n",
    "    \"\"\"Định nghĩa cấu trúc JSON cho giáo án cuối cùng.\"\"\"\n",
    "    general_info: Dict[str, Any]\n",
    "    learning_objectives: List[str]\n",
    "    preparation: Dict[str, List[str]]\n",
    "    knowledge_summary: str\n",
    "    lesson_flow: List[StructuredContentItem]\n",
    "    # pedagogical_explainer: Dict[str, Any] # Dành cho nâng cấp tương lai\n",
    "\n",
    "\n",
    "class TeacherStateV5(TypedDict):\n",
    "    # Các trường cơ bản\n",
    "    original_request: str\n",
    "    messages: Annotated[List[BaseMessage], add_messages]\n",
    "    domain: Optional[str]\n",
    "    \n",
    "    # student_persona giờ sẽ chứa cả chiến lược phân hóa ===\n",
    "    student_persona: Optional[Dict[str, Any]] \n",
    "    \n",
    "    # Các bước tuần tự ban đầu\n",
    "    analyzed_objective: Optional[Any]\n",
    "    pedagogy_strategy: Optional[Any]\n",
    "    pedagogical_blueprint: Optional[List[str]]\n",
    "\n",
    "    # Các trường nâng cao\n",
    "    expanded_queries: Optional[List[str]]\n",
    "    task_list: Optional[List[DetailedTask]]\n",
    "    current_task_id: Optional[int]\n",
    "    current_task_retry_count: int \n",
    "    reflection_notes: Optional[str]\n",
    "    agent_outputs: Annotated[Dict[str, Any], merge_dicts] \n",
    "    next_agent: str\n",
    "    \n",
    "    # Các trường tạm thời cho vòng lặp kiểm duyệt vi mô (Micro-loop)\n",
    "    current_content_to_validate: Optional[Dict[str, Any]]\n",
    "    validation_feedback: Optional[str]\n",
    "\n",
    "    inspirational_example: Optional[List[Dict[str, Any]]]\n",
    "\n",
    "    # Output cuối cùng sẽ có 2 dạng \n",
    "    final_structured_plan: Optional[FinalStructuredPlan] # Dạng JSON có cấu trúc\n",
    "    final_markdown_plan: Optional[str] # Dạng Markdown để hiển thị\n",
    "\n",
    "\n",
    "print(\"✅ 'TeacherStateV5' (v9.0 - Hỗ trợ Phân hóa & Cấu trúc) đã được định nghĩa.\")"
   ]
  },
  {
   "cell_type": "code",
   "execution_count": 26,
   "id": "deb1ba5e",
   "metadata": {},
   "outputs": [
    {
     "name": "stdout",
     "output_type": "stream",
     "text": [
      "✅ Node khởi tạo 'initialize_state_node' đã được định nghĩa.\n"
     ]
    }
   ],
   "source": [
    "# ==============================================================================\n",
    "# CELL 2.2: NODE KHỞI TẠO STATE\n",
    "# ==============================================================================\n",
    "def initialize_state_node(state: TeacherStateV5) -> Dict[str, Any]:\n",
    "    \"\"\"\n",
    "    Node đầu tiên trong graph.\n",
    "    Lấy yêu cầu gốc từ tin nhắn đầu vào và điền vào trường 'original_request'.\n",
    "    \"\"\"\n",
    "    print_step(\"`Initializer`: Đang khởi tạo trạng thái và lấy yêu cầu gốc...\")\n",
    "    user_request = state['messages'][-1].content\n",
    "    return {\"original_request\": user_request}\n",
    "\n",
    "print(\"✅ Node khởi tạo 'initialize_state_node' đã được định nghĩa.\")"
   ]
  },
  {
   "cell_type": "markdown",
   "id": "924d794f",
   "metadata": {},
   "source": [
    "## PHẦN 3: ĐỊNH NGHĨA CÁC AGENT"
   ]
  },
  {
   "cell_type": "code",
   "execution_count": 27,
   "id": "8cc95063",
   "metadata": {},
   "outputs": [
    {
     "name": "stdout",
     "output_type": "stream",
     "text": [
      "✅ Các cấu trúc dữ liệu Pydantic (v9.7 - Hoạt động Linh hoạt) đã được định nghĩa.\n"
     ]
    }
   ],
   "source": [
    "# ==============================================================================\n",
    "# CELL 3.1: HÀM TIỆN ÍCH & CẤU TRÚC DỮ LIỆU (v9.7 - TƯ DUY LINH HOẠT)\n",
    "# ==============================================================================\n",
    "import json\n",
    "from pydantic.v1 import BaseModel, Field, schema_json_of\n",
    "from typing import List, Dict, Any, Literal, Optional\n",
    "\n",
    "# --- Các hàm tiện ích giữ nguyên ---\n",
    "def format_solution_guide(guide: Any) -> str:\n",
    "    if not guide: return \"Chưa có hướng dẫn.\"\n",
    "    if isinstance(guide, str): return guide\n",
    "    if isinstance(guide, list): return \"\\n\".join(f\"- {step}\" for step in guide)\n",
    "    if isinstance(guide, dict): return \"\\n\".join(f\"- {key.replace('_', ' ').title()}: {value}\" for key, value in guide.items())\n",
    "    return str(guide)\n",
    "\n",
    "def format_teacher_actions(actions: Optional[List[str]]) -> str:\n",
    "    if not actions: return \"Giáo viên quan sát và hỗ trợ chung.\"\n",
    "    return \"\\n\".join(f\"  - {action}\" for action in actions)\n",
    "\n",
    "def update_agent_outputs(state: \"TeacherStateV5\", key: str, value: Any) -> Dict[str, Any]:\n",
    "    outputs = state.get(\"agent_outputs\", {}).copy()\n",
    "    if key not in outputs: outputs[key] = []\n",
    "    outputs[key].append(value)\n",
    "    return {\"agent_outputs\": outputs}\n",
    "\n",
    "SYSTEM_PERSONA_PROMPT = \"BẠN LÀ MỘT TRỢ LÝ AI CHUYÊN NGHIỆP, ĐÓNG VAI TRÒ MỘT GIÁO VIÊN GIÀU KINH NGHIỆM TẠI VIỆT NAM. LUÔN LUÔN trả lời bằng TIẾNG VIỆT.\"\n",
    "\n",
    "# === CẬP NHẬT CẤU TRÚC HOẠT ĐỘNG LINH HOẠT ===\n",
    "class DifferentiatedInstructionModel(BaseModel):\n",
    "    for_struggling_students: str = Field(description=\"Gợi ý cụ thể cho nhóm học sinh yếu/gặp khó khăn.\")\n",
    "    for_advanced_students: str = Field(description=\"Gợi ý, thử thách hoặc hoạt động nâng cao cho nhóm học sinh giỏi.\")\n",
    "\n",
    "class LearningActivity(BaseModel):\n",
    "    activity_name: str = Field(description=\"Tên của hoạt động học tập.\")\n",
    "    activity_type: str = Field(description=\"Phân loại hoạt động. Ví dụ: 'Thảo luận nhóm', 'Thực hành cá nhân'\")\n",
    "    duration_minutes: int = Field(description=\"Tổng thời gian ước tính (bằng SỐ PHÚT) cho cả hai phần.\")\n",
    "    teacher_actions: List[str] = Field(description=\"Danh sách các hành động CỤ THỂ của GIÁO VIÊN.\")\n",
    "    # Thay 'description' bằng cấu trúc Lõi/Mở rộng\n",
    "    core_component: str = Field(description=\"Mô tả phần hoạt động CỐT LÕI mà TẤT CẢ học sinh cần hoàn thành.\")\n",
    "    extension_component: Optional[str] = Field(description=\"Mô tả phần hoạt động MỞ RỘNG dành cho học sinh làm nhanh hoặc nếu còn dư thời gian.\")\n",
    "    solution_guide: Optional[Any] = Field(description=\"Hướng dẫn giải hoặc các câu hỏi gợi mở.\")\n",
    "    differentiation: Optional[DifferentiatedInstructionModel] = Field(description=\"Gợi ý phân hóa cụ thể cho hoạt động này.\")\n",
    "\n",
    "class AssessmentItem(BaseModel):\n",
    "    activity_name: str = Field(description=\"Tên của hoạt động đánh giá.\")\n",
    "    question_type: str = Field(description=\"Loại câu hỏi. Ví dụ: 'Tự luận', 'Trắc nghiệm'\")\n",
    "    duration_minutes: int = Field(description=\"Tổng thời gian ước tính (bằng SỐ PHÚT) cho cả hai phần.\")\n",
    "    teacher_actions: List[str] = Field(description=\"Danh sách các hành động CỤ THỂ của GIÁO VIÊN.\")\n",
    "    # Thay 'question' bằng cấu trúc Lõi/Mở rộng\n",
    "    core_component: str = Field(description=\"Nội dung câu hỏi hoặc đề bài CỐT LÕI mà TẤT CẢ học sinh cần hoàn thành.\")\n",
    "    extension_component: Optional[str] = Field(description=\"Câu hỏi phụ hoặc thử thách MỞ RỘNG dành cho học sinh làm nhanh hoặc nếu còn dư thời gian.\")\n",
    "    answer: str = Field(description=\"Đáp án chính xác và ngắn gọn cho phần CỐT LÕI.\")\n",
    "    solution_guide: Any = Field(description=\"Hướng dẫn giải chi tiết từng bước.\")\n",
    "    differentiation: Optional[DifferentiatedInstructionModel] = Field(description=\"Gợi ý phân hóa cụ thể cho hoạt động này.\")\n",
    "\n",
    "class StudentPersona(BaseModel):\n",
    "    learning_pace: Literal[\"nhanh\", \"trung bình\", \"chậm\"] = Field(description=\"Tốc độ học tập chung của lớp.\")\n",
    "    engagement_style: Literal[\"chủ động\", \"thụ động\", \"hỗn hợp\"] = Field(description=\"Mức độ tham gia chung của lớp.\")\n",
    "    special_notes: str = Field(description=\"Tóm tắt các đặc điểm nổi bật của lớp học.\")\n",
    "\n",
    "class StudentPersonaAndDifferentiation(StudentPersona):\n",
    "    differentiation_strategy: DifferentiatedInstructionModel = Field(description=\"Chiến lược dạy học phân hóa tổng thể cho cả bài học dựa trên các đặc điểm của lớp.\")\n",
    "\n",
    "class DetailedTaskModel(BaseModel):\n",
    "    task_name: str = Field(description=\"Tên của nhiệm vụ này.\")\n",
    "    task_description: str = Field(description=\"Mô tả chi tiết nhiệm vụ cần thực hiện.\")\n",
    "    estimated_duration: int = Field(description=\"Thời gian ước tính (bằng phút) cho nhiệm vụ này.\")\n",
    "\n",
    "class TaskListWithDuration(BaseModel):\n",
    "    tasks: List[DetailedTaskModel]\n",
    "\n",
    "class DetailedPedagogyChoice(BaseModel):\n",
    "    name: str = Field(description=\"Tên của phương pháp sư phạm được chọn.\")\n",
    "    rationale: str = Field(description=\"Lý do tại sao phương pháp này phù hợp.\")\n",
    "    key_actions: List[str] = Field(description=\"Danh sách các hành động/hoạt động cốt lõi đặc trưng cho phương pháp này.\")\n",
    "\n",
    "class ValidationResult(BaseModel):\n",
    "    is_valid: bool = Field(description=\"Nội dung có hợp lệ và chính xác về mặt chuyên môn không.\")\n",
    "    feedback: str = Field(description=\"Phản hồi chi tiết. Nếu không hợp lệ, hãy giải thích rõ ràng lỗi sai và gợi ý cách sửa.\")\n",
    "\n",
    "class Domain(BaseModel): domain: str = Field(description=\"Lĩnh vực học thuật chính của yêu cầu.\")\n",
    "class ExpandedQueries(BaseModel): queries: List[str]\n",
    "class BestSnippets(BaseModel): best_snippets: List[str]\n",
    "class ParsedObjective(BaseModel): action_verb: str; bloom_level: int; topic: str; grade_level: str; duration_minutes: Optional[int]\n",
    "class TaskClassification(BaseModel): agent_category: Literal[\"activity_designer\", \"theory_synthesizer\", \"assessment_creator\"]\n",
    "class BlueprintStage(BaseModel): stage_name: str; stage_objective: str; stage_direction: str\n",
    "class PedagogicalBlueprint(BaseModel): blueprint: List[BlueprintStage]\n",
    "\n",
    "print(\"✅ Các cấu trúc dữ liệu Pydantic (v9.7 - Hoạt động Linh hoạt) đã được định nghĩa.\")"
   ]
  },
  {
   "cell_type": "code",
   "execution_count": 28,
   "id": "be758847",
   "metadata": {},
   "outputs": [
    {
     "name": "stdout",
     "output_type": "stream",
     "text": [
      "✅ Các agent phân tích yêu cầu ban đầu (v9.0 - Hỗ trợ Phân hóa) đã sẵn sàng.\n"
     ]
    }
   ],
   "source": [
    "# ==============================================================================\n",
    "# CELL 3.2: AGENT PHÂN TÍCH YÊU CẦU BAN ĐẦU \n",
    "# ==============================================================================\n",
    "async def objective_interpreter_agent(state: \"TeacherStateV5\") -> Dict[str, Any]:\n",
    "    print_step(\"`Agent: Objective Interpreter` (v7.5) đang phân tích mục tiêu...\")\n",
    "    prompt = f\"{SYSTEM_PERSONA_PROMPT}\\n**NHIỆM VỤ:** Đọc yêu cầu của người dùng và trích xuất các thông tin sau.\\n**YÊU CẦU:** \\\"{state['original_request']}\\\"\\n**CÁC TRƯỜNG CẦN TRÍCH XUẤT:** `action_verb`, `bloom_level` (SỐ NGUYÊN), `topic`, `grade_level`, `duration_minutes`.\\n**CHỈ TRẢ VỀ JSON.**\"\n",
    "    structured_llm = llm.with_structured_output(ParsedObjective, method=\"json_mode\")\n",
    "    try:\n",
    "        parsed_result = await structured_llm.ainvoke(prompt)\n",
    "        analyzed_objective_dict = parsed_result.dict()\n",
    "        analyzed_objective_dict['constraints'] = {'duration_minutes': parsed_result.duration_minutes}\n",
    "        del analyzed_objective_dict['duration_minutes']\n",
    "        print_result(analyzed_objective_dict, \"Mục tiêu & Ràng buộc đã phân tích\")\n",
    "        return {\"analyzed_objective\": analyzed_objective_dict}\n",
    "    except Exception as e:\n",
    "        print_warning(f\"Lỗi tại Objective Interpreter: {e}. Sử dụng mục tiêu mặc định.\")\n",
    "        return {\"analyzed_objective\": { \"action_verb\": \"soạn\", \"bloom_level\": 3, \"topic\": state['original_request'], \"grade_level\": \"9\", \"constraints\": {\"duration_minutes\": 90} }}\n",
    "\n",
    "async def domain_classifier_agent(state: \"TeacherStateV5\") -> Dict[str, Any]:\n",
    "    print_step(\"`Agent: Domain Classifier` (v7.5) đang xác định lĩnh vực chuyên môn...\")\n",
    "    prompt = f\"{SYSTEM_PERSONA_PROMPT}\\n**NHIỆM VỤ:** Đọc yêu cầu của người dùng và xác định lĩnh vực học thuật chính.\\n**YÊU CẦU:** \\\"{state['original_request']}\\\"\\n**LĨNH VỰC CÓ THỂ CHỌN:** 'Toán học', 'Vật lý', 'Hóa học', 'Sinh học', 'Văn học', 'Lịch sử', 'Địa lý', 'Ngoại ngữ', 'Tin học'.\\n**YÊU CẦU ĐỊNH DẠNG:** Trả về JSON với key `domain`.\"\n",
    "    structured_llm = llm.with_structured_output(Domain, method=\"json_mode\")\n",
    "    try:\n",
    "        result = await structured_llm.ainvoke(prompt)\n",
    "        print_result(result.domain, \"Lĩnh vực chuyên môn được xác định\")\n",
    "        return {\"domain\": result.domain}\n",
    "    except Exception as e:\n",
    "        print_warning(f\"Lỗi tại Domain Classifier: {e}. Sử dụng lĩnh vực mặc định 'Toán học'.\")\n",
    "        return {\"domain\": \"Toán học\"}\n",
    "\n",
    "# === NÂNG CẤP: Agent này giờ đây là một nhà tư vấn chiến lược ===\n",
    "async def differentiated_instruction_advisor_agent(state: \"TeacherStateV5\") -> Dict[str, Any]:\n",
    "    print_step(\"`Agent: Differentiated Instruction Advisor` (v9.1) đang phân tích và đề xuất chiến lược phân hóa...\")\n",
    "    prompt = f\"\"\"{SYSTEM_PERSONA_PROMPT}\n",
    "    **VAI TRÒ:** Bạn là một chuyên gia sư phạm, chuyên về dạy học phân hóa.\n",
    "    **NHIỆM VỤ:** Phân tích mô tả về lớp học dưới đây và đề xuất một chiến lược dạy học phân hóa TỔNG THỂ cho cả buổi học.\n",
    "    **YÊU CẦU CỦA GIÁO VIÊN:** \"{state['original_request']}\"\n",
    "    \n",
    "    **CÁC BƯỚC SUY LUẬN (BẮT BUỘC):**\n",
    "    1.  **Phân tích Đặc điểm:** Dựa vào các từ khóa, hãy xác định `learning_pace`, `engagement_style`, và tóm tắt vào `special_notes`.\n",
    "    2.  **Đề xuất Chiến lược Phân hóa:** Dựa trên phân tích trên, hãy điền vào đối tượng `differentiation_strategy`. Đây PHẢI là một đối tượng JSON có 2 trường sau:\n",
    "        -   `for_struggling_students`: Một chiến lược cụ thể để **hỗ trợ** nhóm học sinh có thể gặp khó khăn. (Ví dụ: \"Chia nhỏ nhiệm vụ, cung cấp phiếu bài tập có gợi ý công thức, cho phép thêm thời gian.\")\n",
    "        -   `for_advanced_students`: Một chiến lược cụ thể để **thử thách** nhóm học sinh khá giỏi. (Ví dụ: \"Chuẩn bị các câu hỏi mở rộng 'Tại sao?' và 'Nếu... thì sao?', giao một bài toán ứng dụng thực tế nhỏ.\")\n",
    "\n",
    "    **YÊU CẦU ĐỊNH DẠNG:** BẮT BUỘC trả về một đối tượng JSON duy nhất tuân thủ schema `StudentPersonaAndDifferentiation`. Trường `differentiation_strategy` PHẢI là một object lồng vào bên trong.\n",
    "    \"\"\"\n",
    "    structured_llm = llm.with_structured_output(StudentPersonaAndDifferentiation, method=\"json_mode\")\n",
    "    try:\n",
    "        result = await structured_llm.ainvoke(prompt)\n",
    "        print_result(result.dict(), \"Hồ sơ lớp học và Chiến lược Phân hóa\")\n",
    "        return {\"student_persona\": result.dict()}\n",
    "    except Exception as e:\n",
    "        print_warning(f\"Lỗi tại Differentiated Instruction Advisor: {e}. Sử dụng hồ sơ mặc định.\")\n",
    "        fallback_persona = {\n",
    "            \"learning_pace\": \"trung bình\",\n",
    "            \"engagement_style\": \"hỗn hợp\",\n",
    "            \"special_notes\": \"Không có ghi chú đặc biệt.\",\n",
    "            \"differentiation_strategy\": {\n",
    "                \"for_struggling_students\": \"Quan sát và hỗ trợ thêm khi cần thiết.\",\n",
    "                \"for_advanced_students\": \"Khuyến khích các em tìm tòi thêm.\"\n",
    "            }\n",
    "        }\n",
    "        return {\"student_persona\": fallback_persona}\n",
    "\n",
    "print(\"✅ Các agent phân tích yêu cầu ban đầu (v9.0 - Hỗ trợ Phân hóa) đã sẵn sàng.\")"
   ]
  },
  {
   "cell_type": "code",
   "execution_count": 29,
   "id": "68b5bcd8",
   "metadata": {},
   "outputs": [
    {
     "name": "stdout",
     "output_type": "stream",
     "text": [
      "✅ Các agent lập kế hoạch chiến lược đã sẵn sàng.\n"
     ]
    }
   ],
   "source": [
    "# ==============================================================================\n",
    "# CELL 3.3: AGENT LẬP KẾ HOẠCH CHIẾN LƯỢC (v7.5)\n",
    "# ==============================================================================\n",
    "async def pedagogy_strategist_agent(state: \"TeacherStateV5\") -> Dict[str, Any]:\n",
    "    print_step(\"`Agent: Pedagogy Strategist` (v7.5) đang xây dựng chiến lược sư phạm chi tiết...\")\n",
    "    prompt = f\"\"\"{SYSTEM_PERSONA_PROMPT}\n",
    "    **MỤC TIÊU BÀI HỌC:** {state.get('analyzed_objective')}\n",
    "    **HỒ SƠ LỚP HỌC:** {state.get('student_persona')}\n",
    "    **NHIỆM VỤ:** Dựa vào mục tiêu và hồ sơ lớp học, hãy chọn MỘT phương pháp sư phạm phù hợp nhất. Sau đó, phân tích phương pháp đó thành các hành động cốt lõi.\n",
    "    **VÍ DỤ:** Nếu chọn 'Dạy học theo dự án', key_actions có thể là [\"Giao dự án\", \"Học sinh làm việc nhóm\", \"Báo cáo sản phẩm\"].\n",
    "    **YÊU CẦU ĐỊNH DẠNG:** Trả về JSON với các key `name`, `rationale`, `key_actions`.\n",
    "    \"\"\"\n",
    "    structured_llm = llm.with_structured_output(DetailedPedagogyChoice, method=\"json_mode\")\n",
    "    try:\n",
    "        result = await structured_llm.ainvoke(prompt)\n",
    "        print_result(result.dict(), \"Chiến lược sư phạm chi tiết\")\n",
    "        return {\"pedagogy_strategy\": result.dict()}\n",
    "    except Exception as e:\n",
    "        print_warning(f\"Lỗi tại Pedagogy Strategist: {e}. Sử dụng chiến lược mặc định.\")\n",
    "        return {\"pedagogy_strategy\": {\"name\": \"Dạy học giải quyết vấn đề\", \"rationale\": \"Mặc định do lỗi.\", \"key_actions\": [\"Nêu vấn đề\", \"Học sinh tìm giải pháp\", \"Trình bày kết quả\"]}}\n",
    "\n",
    "async def pedagogical_architect_agent(state: \"TeacherStateV5\") -> Dict[str, Any]:\n",
    "    print_step(\"`Agent: Pedagogical Architect` (v9.4) đang thiết kế kịch bản buổi học...\")\n",
    "    \n",
    "    inspirational_example = state.get(\"inspirational_example\")\n",
    "    example_prompt_part = \"\"\n",
    "    if inspirational_example:\n",
    "        example_prompt_part = f\"\"\"\n",
    "        **VÍ DỤ THAM KHẢO (TỪ MỘT GIÁO ÁN THÀNH CÔNG TRƯỚC ĐÂY):**\n",
    "        Đây là một luồng hoạt động đã được chứng minh là hiệu quả cho một chủ đề tương tự. Hãy học hỏi cấu trúc và cách tiếp cận từ nó:\n",
    "        ```json\n",
    "        {json.dumps(inspirational_example, ensure_ascii=False, indent=2)}\n",
    "        ```\n",
    "        \"\"\"\n",
    "    \n",
    "    prompt = f\"\"\"{SYSTEM_PERSONA_PROMPT} Với vai trò là một chuyên gia thiết kế trải nghiệm học tập.\n",
    "    **NHIỆM VỤ:** Xây dựng một \"Bản thiết kế Sư phạm\" - một kịch bản CẤP CAO cho buổi học.\n",
    "    \n",
    "    {example_prompt_part}\n",
    "    **QUY TẮC:**\n",
    "    1.  Tạo ra 3-5 giai đoạn chính cho dòng chảy của buổi học.\n",
    "    2.  Mỗi giai đoạn phải có tên (`stage_name`), mục tiêu (`stage_objective`), và định hướng (`stage_direction`).\n",
    "    3.  Đảm bảo độ khó tăng tiến qua các giai đoạn.\n",
    "    **THÔNG TIN PHÂN TÍCH:**\n",
    "    - Mục tiêu: {state.get('analyzed_objective')}\n",
    "    - Hồ sơ lớp học: {state.get('student_persona')}\n",
    "    - Chiến lược Sư phạm: {state.get('pedagogy_strategy')}\n",
    "    **YÊU CẦU ĐỊNH DẠNG:** Trả về JSON với key là `blueprint`, giá trị là một danh sách các đối tượng Stage.\n",
    "    \"\"\"\n",
    "    structured_llm = llm.with_structured_output(PedagogicalBlueprint, method=\"json_mode\")\n",
    "    try:\n",
    "        result = await structured_llm.ainvoke(prompt)\n",
    "        blueprint_list_of_strings = [f\"{stage.stage_name}: {stage.stage_direction}\" for stage in result.blueprint]\n",
    "        print_result(blueprint_list_of_strings, \"Bản thiết kế Sư phạm đã được tạo\")\n",
    "        return {\"pedagogical_blueprint\": blueprint_list_of_strings}\n",
    "    except Exception as e:\n",
    "        print_warning(f\"Lỗi tại Pedagogical Architect: {e}. Sử dụng blueprint mặc định.\")\n",
    "        return {\"pedagogical_blueprint\": [\"Giai đoạn 1: Giới thiệu bài học\", \"Giai đoạn 2: Luyện tập\", \"Giai đoạn 3: Đánh giá\"]}\n",
    "\n",
    "async def memory_retrieval_agent(state: \"TeacherStateV5\") -> Dict[str, Any]:\n",
    "    print_step(\"`Agent: Memory Retrieval` (v9.4) đang tìm kiếm trong trí nhớ...\")\n",
    "    \n",
    "    if not memory_vector_store:\n",
    "        print_warning(\"Không có Trí nhớ Dài hạn. Bỏ qua bước này.\")\n",
    "        return {\"inspirational_example\": None}\n",
    "\n",
    "    user_request = state[\"original_request\"]\n",
    "    \n",
    "    # Tìm kiếm 1 ví dụ tương đồng nhất trong trí nhớ\n",
    "    try:\n",
    "        results = memory_vector_store.similarity_search_with_score(user_request, k=1)\n",
    "        if results and results[0][1] < 0.5: # Chỉ lấy nếu độ tương đồng cao (điểm score thấp là tốt)\n",
    "            best_example = results[0][0].metadata\n",
    "            print_result(best_example['request'], \"Tìm thấy ví dụ tương đồng trong trí nhớ\")\n",
    "            # Chỉ trả về phần \"lesson_flow\" để làm ví dụ\n",
    "            return {\"inspirational_example\": best_example['plan']['lesson_flow']}\n",
    "        else:\n",
    "            print_step(\"Không tìm thấy ví dụ nào đủ tương đồng trong trí nhớ.\")\n",
    "            return {\"inspirational_example\": None}\n",
    "    except Exception as e:\n",
    "        print_warning(f\"Lỗi khi truy xuất trí nhớ: {e}\")\n",
    "        return {\"inspirational_example\": None}\n",
    "    \n",
    "print(\"✅ Các agent lập kế hoạch chiến lược đã sẵn sàng.\")"
   ]
  },
  {
   "cell_type": "code",
   "execution_count": 30,
   "id": "220113cd",
   "metadata": {},
   "outputs": [
    {
     "name": "stdout",
     "output_type": "stream",
     "text": [
      "✅ Các agent RAG đã sẵn sàng.\n"
     ]
    }
   ],
   "source": [
    "# ==============================================================================\n",
    "# CELL 3.4: AGENT TRUY XUẤT VÀ TỔNG HỢP KIẾN THỨC (RAG) (v7.5)\n",
    "# ==============================================================================\n",
    "async def query_expansion_agent(state: \"TeacherStateV5\") -> Dict[str, Any]:\n",
    "    print_step(\"`Agent: Query Expansion` (v7.5) đang phân tích yêu cầu...\")\n",
    "    prompt = f\"\"\"{SYSTEM_PERSONA_PROMPT}\n",
    "    **NHIỆM VỤ:** Tạo ra các cụm từ tìm kiếm CỰC KỲ LIÊN QUAN và đa dạng bằng tiếng Việt để tìm tài liệu.\n",
    "\n",
    "    **BỐI CẢNH QUAN TRỌNG:**\n",
    "    - **Chủ đề chính:** \"{state.get('analyzed_objective', {}).get('topic', '')}\"\n",
    "    - **Dành cho:** **{state.get('analyzed_objective', {}).get('grade_level', '')}**\n",
    "\n",
    "    **QUY TẮC TUYỆT ĐỐI:**\n",
    "    1.  **THÊM BỐI CẢNH LỚP HỌC:** Mỗi truy vấn bạn tạo ra **PHẢI** chứa thông tin về lớp học. Ví dụ: \"lý thuyết ... lớp 9\", \"bài tập ... toán 9\".\n",
    "    2.  **BÁM SÁT CHỦ ĐỀ:** Mọi truy vấn phải xoay quanh chủ đề chính.\n",
    "    3.  **ĐA DẠNG HÓA:** Tạo các biến thể của chủ đề chính (ví dụ: \"lý thuyết về...\", \"bài tập về...\", \"công thức...\").\n",
    "\n",
    "    **YÊU CẦU ĐỊNH DẠNG:** Trả về JSON với key `queries`.\n",
    "    \"\"\"    \n",
    "    structured_llm = llm.with_structured_output(ExpandedQueries, method=\"json_mode\")\n",
    "    try:\n",
    "        response = await structured_llm.ainvoke(prompt)\n",
    "        print_result(response.queries, \"Các truy vấn tìm kiếm đã được mở rộng\")\n",
    "        return {\"expanded_queries\": response.queries}\n",
    "    except Exception as e:\n",
    "        print_warning(f\"Lỗi tại Query Expansion: {e}. Sử dụng truy vấn gốc.\")\n",
    "        return {\"expanded_queries\": [state.get('analyzed_objective', {}).get('topic', '')]}\n",
    "\n",
    "async def resource_scout_agent_v2(state: \"TeacherStateV5\") -> Dict[str, Any]:\n",
    "    print_step(\"`Agent: Resource Scout` (v8.1 - Sửa lỗi) đang tìm kiếm và sàng lọc...\")\n",
    "    retriever = vector_store.as_retriever(search_kwargs={\"k\": 5})\n",
    "    all_docs = []\n",
    "    queries = state.get('expanded_queries', [state.get('analyzed_objective', {}).get('topic', '')])\n",
    "    for query in queries:\n",
    "        all_docs.extend(retriever.invoke(query))\n",
    "    unique_docs_content = list({doc.page_content for doc in all_docs})[:8]\n",
    "    print_step(f\"Tìm thấy {len(all_docs)} tài liệu, sàng lọc còn {len(unique_docs_content)} đoạn văn bản độc nhất.\")\n",
    "    \n",
    "    \n",
    "    rerank_prompt = f\"\"\"{SYSTEM_PERSONA_PROMPT}\n",
    "        **VAI TRÒ:** Bạn là một chuyên gia sàng lọc thông tin.\n",
    "        **BỐI CẢNH:** Chúng ta đang cần tìm tài liệu cho chủ đề **\"{state.get('analyzed_objective', {}).get('topic', '')}\"** dành cho **{state.get('analyzed_objective', {}).get('grade_level', '')}**.\n",
    "\n",
    "        **NHIỆM VỤ:** Dựa vào **CHỦ ĐỀ CHÍNH** ở trên, hãy đọc danh sách các đoạn văn bản dưới đây và chọn ra **3-4 đoạn văn bản liên quan và hữu ích NHẤT**.\n",
    "\n",
    "        **DANH SÁCH TÀI LIỆU CẦN SÀNG LỌC:**\n",
    "        ```json\n",
    "        {json.dumps(unique_docs_content, ensure_ascii=False)}\n",
    "        \"\"\"\n",
    "    \n",
    "    structured_llm_reranker = llm.with_structured_output(BestSnippets, method=\"json_mode\")\n",
    "    best_snippets_text = \"\\n\\n---\\n\\n\".join(unique_docs_content)\n",
    "    try:\n",
    "        reranked_result = await structured_llm_reranker.ainvoke(rerank_prompt)\n",
    "        best_snippets_text = \"\\n\\n---\\n\\n\".join(reranked_result.best_snippets)\n",
    "    except Exception as e:\n",
    "        print_warning(f\"Lỗi tại Re-ranker: {e}. Sử dụng tất cả tài liệu.\")\n",
    "\n",
    "    # === ĐẠI TU PROMPT TÓM TẮT ===\n",
    "    summary_prompt = f\"\"\"{SYSTEM_PERSONA_PROMPT}\n",
    "    **VAI TRÒ:** Bạn là một giáo viên kinh nghiệm, có khả năng diễn giải các tài liệu khô khan thành một bài tóm tắt kiến thức cốt lõi vừa CHÍNH XÁC, vừa HẤP DẪN cho học sinh.\n",
    "\n",
    "    **NHIỆM VỤ:** Dựa **CHỈ** vào các đoạn văn bản dưới đây, hãy viết một bản **TÓM TẮT KIẾN THỨC CỐT LÕI** về chủ đề \"{state.get('analyzed_objective', {}).get('topic', '')}\" để in vào cuối giáo án.\n",
    "\n",
    "    **QUY TẮC VỀ PHONG CÁCH:**\n",
    "    1.  **VĂN PHONG TỰ NHIÊN:** Hãy viết như thể bạn đang giải thích trực tiếp cho học sinh. Bắt đầu một cách tự nhiên, không cần các câu rào đón như \"Với vai trò là một giáo viên...\".\n",
    "    2.  **TẬP TRUNG VÀO \"ĐIỂM NHẤN\":** Đừng chỉ liệt kê. Hãy cố gắng nhóm các ý, tìm ra những điểm quan trọng nhất và nhấn mạnh chúng. Sử dụng gạch đầu dòng, **in đậm** để làm nổi bật.\n",
    "    3.  **CHÍNH XÁC TUYỆT ĐỐI:** Chỉ được phép sử dụng thông tin có trong các đoạn văn bản được cung cấp. Nếu thông tin về một phần nào đó (ví dụ: \"đường tròn nội tiếp\") không có, hãy ghi rõ là \"Thông tin về phần này không có trong tài liệu tham khảo.\"\n",
    "\n",
    "    **CÁC ĐOẠN VĂN BẢN ĐỂ TÓM TẮT:**\n",
    "    ---\n",
    "    {best_snippets_text}\n",
    "    ---\n",
    "    \"\"\"\n",
    "\n",
    "    summary = \"Chưa có bản tóm tắt kiến thức.\"\n",
    "    try:\n",
    "        summary_response = await llm.ainvoke(summary_prompt)\n",
    "        summary = summary_response.content\n",
    "    except Exception as e:\n",
    "        print_warning(f\"Lỗi tại bước tóm tắt: {e}.\")\n",
    "        \n",
    "    resource = {\"source\": \"Sách giáo khoa (từ RAG - đã sàng lọc)\", \"summary\": summary}\n",
    "    print_result(resource, \"Tài liệu RAG cuối cùng\")\n",
    "    return update_agent_outputs(state, \"resources\", resource)\n",
    "\n",
    "print(\"✅ Các agent RAG đã sẵn sàng.\")"
   ]
  },
  {
   "cell_type": "code",
   "execution_count": 31,
   "id": "6eac918a",
   "metadata": {},
   "outputs": [],
   "source": [
    "# ==============================================================================\n",
    "# CELL 3.5: AGENT GIAO VIỆC & CHUYÊN MÔN \n",
    "# ==============================================================================\n",
    "\n",
    "class DetailedTaskWithGuidance(BaseModel):\n",
    "    task_name: str = Field(description=\"Tên của nhiệm vụ này, phải phản ánh MỘT mục tiêu duy nhất.\")\n",
    "    task_description: str = Field(description=\"Mô tả chi tiết nhiệm vụ cần thực hiện.\")\n",
    "    estimated_duration: int = Field(description=\"Thời gian ước tính (bằng phút) cho nhiệm vụ này.\")\n",
    "    guidance: str = Field(description=\"Một chỉ dẫn sư phạm NGẮN GỌN và CỤ THỂ cho agent chuyên môn.\")\n",
    "\n",
    "class TaskListWithGuidance(BaseModel):\n",
    "    tasks: List[DetailedTaskWithGuidance]\n",
    "\n",
    "async def plan_delegator_agent(state: \"TeacherStateV5\") -> Dict[str, Any]:\n",
    "    print_step(\"`Agent: Headmaster Delegator` (v13.1 - Giao việc Thông minh) đang chỉ đạo...\")\n",
    "    blueprint = state.get('pedagogical_blueprint', [])\n",
    "    total_duration = state.get('analyzed_objective', {}).get('constraints', {}).get('duration_minutes', 90)\n",
    "    agent_outputs_history = state.get(\"agent_outputs\", {})\n",
    "    new_agent_outputs = {\"resources\": agent_outputs_history.get(\"resources\", [])}\n",
    "    \n",
    "    prompt = f\"\"\"{SYSTEM_PERSONA_PROMPT}\n",
    "    **VAI TRÒ:** Bạn là một Hiệu trưởng cực kỳ kinh nghiệm, chuyên thiết kế các luồng hoạt động sư phạm.\n",
    "    **NHIỆM VỤ:** Chuyển đổi \"Bản thiết kế Sư phạm\" cấp cao thành một danh sách các nhiệm vụ CÓ Ý NGHĨA và KHẢ THI.\n",
    "\n",
    "    **THÔNG TIN BỐI CẢNH:**\n",
    "    - Bản thiết kế: {json.dumps(blueprint, ensure_ascii=False, indent=2)}\n",
    "    - Tổng thời gian: **{total_duration} phút.**\n",
    "\n",
    "    **QUY TẮC TUYỆT ĐỐI PHẢI TUÂN THEO:**\n",
    "    1.  **GOM NHÓM HOẠT ĐỘNG:** Tuyệt đối **KHÔNG** được tạo các nhiệm vụ vụn vặt dưới 10 phút. Hãy tạo ra khoảng **5-7 nhiệm vụ chính** cho toàn bộ buổi học.\n",
    "    2.  **PHÂN BỔ THỜI GIAN HỢP LÝ:** `estimated_duration` của mỗi nhiệm vụ phải hợp lý (ví dụ: 10, 15, 20 phút) và tổng thời gian của tất cả các nhiệm vụ nên xấp xỉ {total_duration} phút.\n",
    "    3.  **MỤC TIÊU RÕ RÀNG:** `task_name` và `task_description` phải mô tả một mục tiêu học tập rõ ràng.\n",
    "    4.  **CHỈ DẪN NGẮN GỌN:** `guidance` phải là một mệnh lệnh ngắn gọn, tập trung vào kết quả đầu ra.\n",
    "\n",
    "    **VÍ DỤ TỐT (Cho 90 phút):**\n",
    "    - Task 1: Khởi động & Giới thiệu bài học (15 phút)\n",
    "    - Task 2: Hoạt động nhóm khám phá lý thuyết (25 phút)\n",
    "    - Task 3: Luyện tập có hướng dẫn (20 phút)\n",
    "    - Task 4: Trình bày và thảo luận chung (15 phút)\n",
    "    - Task 5: Đánh giá nhanh và tổng kết (15 phút)\n",
    "\n",
    "    **YÊU CẦU ĐỊNH DẠNG:** Trả về JSON theo schema `TaskListWithGuidance`.\n",
    "    \"\"\"\n",
    "    structured_llm = llm.with_structured_output(TaskListWithGuidance, method=\"json_mode\")\n",
    "    try:\n",
    "        task_list_result = await structured_llm.ainvoke(prompt)\n",
    "        tasks_with_status = [{\"task_id\": i, **t.dict(), \"status\": \"pending\"} for i, t in enumerate(task_list_result.tasks) if t]\n",
    "        print_result(tasks_with_status, f\"Đã tạo {len(tasks_with_status)} nhiệm vụ với chỉ dẫn chi tiết\")\n",
    "        return {\"task_list\": tasks_with_status, \"reflection_notes\": None, \"agent_outputs\": new_agent_outputs}\n",
    "    except Exception as e:\n",
    "        print_warning(f\"Lỗi tại Headmaster Delegator: {e}. Tạo task mặc định.\")\n",
    "        fallback_task = { \"task_id\": 0, \"task_name\": \"Hoạt động luyện tập\", \"task_description\": \"Học sinh thực hành bài tập.\", \"estimated_duration\": 45, \"guidance\": \"Chỉ cần 2 bài tập.\", \"status\": \"pending\" }\n",
    "        return {\"task_list\": [fallback_task], \"reflection_notes\": None, \"agent_outputs\": state.get(\"agent_outputs\", {})}\n",
    "    \n",
    "async def specialist_agent_logic(state: \"TeacherStateV5\", agent_type: str, pydantic_model: type[BaseModel]) -> Dict[str, Any]:\n",
    "    print_step(f\"`Agent: {agent_type}` (v13.1 - Tư duy Phản tư) đang tạo nội dung...\")\n",
    "    task_to_run = next((t for t in state.get('task_list', []) if t['task_id'] == state.get('current_task_id')), None)\n",
    "    if not task_to_run: return {\"current_content_to_validate\": {\"error\": \"Không tìm thấy task hiện tại.\"}}\n",
    "\n",
    "    feedback_prompt = \"\"\n",
    "    # CHỈ kích hoạt chế độ sửa chữa khi có feedback VÀ đây là lần thử lại\n",
    "    if state.get('validation_feedback') and state.get('current_task_retry_count', 0) > 0:\n",
    "        feedback_prompt = f\"\"\"\n",
    "    **🚨 CẢNH BÁO: BẢN NHÁP TRƯỚC BỊ YÊU CẦU SỬA ĐỔI! 🚨**\n",
    "    Đây là lần sửa DUY NHẤT, vì vậy hãy làm cho đúng.\n",
    "    **MỆNH LỆNH SỬA CHỮA TỪ CỐ VẤN:** \"{state.get('validation_feedback', '')}\"\n",
    "    \n",
    "    **QUY TRÌNH TƯ DUY BẮT BUỘC TRƯỚC KHI HÀNH ĐỘNG:**\n",
    "    1.  **Phân tích Lỗi Sai:** Bản nháp trước đã sai ở đâu so với mệnh lệnh? (Ví dụ: \"Tôi đã thêm phần `differentiation` trong khi cố vấn yêu cầu loại bỏ nó.\")\n",
    "    2.  **Lập Kế hoạch Sửa chữa:** Để tuân thủ tuyệt đối mệnh lệnh, tôi sẽ phải thay đổi những gì? (Ví dụ: \"Tôi sẽ tạo ra một JSON mới, copy phần cốt lõi và đảm bảo rằng các trường `extension_component` và `differentiation` đều là `null`.\")\n",
    "    3.  **Tạo Nội dung Mới:** Dựa trên kế hoạch sửa chữa, tạo ra một JSON hoàn toàn mới. **TUYỆT ĐỐI KHÔNG SÁNG TẠO THÊM** ngoài mệnh lệnh.\n",
    "    \"\"\"\n",
    "    \n",
    "    duration = task_to_run.get('estimated_duration', 10)\n",
    "\n",
    "    prompt = f\"\"\"{SYSTEM_PERSONA_PROMPT}\n",
    "    **VAI TRÒ:** Bạn là một nhà thiết kế hoạt động học tập, một cỗ máy tuân thủ mệnh lệnh một cách tuyệt đối.\n",
    "\n",
    "    {feedback_prompt}\n",
    "\n",
    "    **MỆNH LỆNH GỐC (Chỉ tuân theo nếu không có CẢNH BÁO ở trên):**\n",
    "    - Nhiệm-vụ: \"{task_to_run.get('task_name', '')}\"\n",
    "    - Chỉ-dẫn: \"{task_to_run.get('guidance', 'Không có chỉ dẫn cụ thể.')}\"\n",
    "    - Thời-gian-được-giao: **{duration} phút.**\n",
    "\n",
    "    **=== QUY TẮC SỐNG CÒN ===**\n",
    "    1.  **TUÂN THỦ THỜI GIAN TUYỆT ĐỐI:** `duration_minutes` trong JSON bạn trả về **PHẢI BẰNG CHÍNH XÁC** con số được giao: **{duration} phút**. Không được tự ý thay đổi dù chỉ 1 phút. Đây là mệnh lệnh quan trọng nhất.\n",
    "    2.  **TỰ ĐIỀU CHỈNH NỘI DUNG:** Hãy tự điều chỉnh mức độ phức tạp của hoạt động (`core_component`, `teacher_actions`...) để nó khả thi trong khoảng thời gian **{duration} phút** đã cho. Nếu thời gian ngắn, hoạt động phải đơn giản. Nếu thời gian dài, hoạt động có thể phức tạp hơn.\n",
    "    3.  **ƯU TIÊN MỆNH LỆNH SỬA CHỮA:** Nếu có cảnh báo sửa đổi, đó là ưu tiên số một.\n",
    "\n",
    "    **YÊU CẦU ĐỊNH DẠNG:**\n",
    "    Luôn trả về một JSON hoàn chỉnh và đúng cấu trúc, tuân thủ nghiêm ngặt các QUY TẮC SỐNG CÒN ở trên.\n",
    "    **Cấu trúc JSON yêu cầu:**\n",
    "    ```json\n",
    "    {schema_json_of(pydantic_model, indent=2)}\n",
    "    ```\n",
    "    \"\"\"\n",
    "\n",
    "    structured_llm = llm.with_structured_output(pydantic_model, method=\"json_mode\")\n",
    "    try:\n",
    "        result = await structured_llm.ainvoke(prompt)\n",
    "        content_dict = result.dict()\n",
    "        # Chuẩn hóa output để dễ dàng đưa vào lesson_flow\n",
    "        if 'core_component' in content_dict: content_dict['question_or_description'] = content_dict.pop('core_component')\n",
    "        if 'extension_component' in content_dict: pass # Giữ lại để có thể là null\n",
    "        if 'activity_type' in content_dict: content_dict['content_type'] = content_dict.pop('activity_type')\n",
    "        if 'question_type' in content_dict: content_dict['content_type'] = content_dict.pop('question_type')\n",
    "        \n",
    "        print_result(content_dict, f\"Nội dung do {agent_type} tạo ra\")\n",
    "        return {\"current_content_to_validate\": content_dict, \"validation_feedback\": None}\n",
    "    except Exception as e:\n",
    "        print_warning(f\"Lỗi tại {agent_type}: {e}.\")\n",
    "        return {\"current_content_to_validate\": {\"error\": str(e)}}\n",
    "\n",
    "# (Các hàm gọi specialist_agent_logic như theory_synthesizer_agent)\n",
    "async def theory_synthesizer_agent(state: \"TeacherStateV5\"): return await specialist_agent_logic(state, \"Theory Synthesizer\", LearningActivity)\n",
    "async def activity_designer_agent(state: \"TeacherStateV5\"): return await specialist_agent_logic(state, \"Activity Designer\", LearningActivity)\n",
    "async def assessment_creator_agent(state: \"TeacherStateV5\"): return await specialist_agent_logic(state, \"Assessment Creator\", AssessmentItem)"
   ]
  },
  {
   "cell_type": "code",
   "execution_count": 32,
   "id": "f509f0a6",
   "metadata": {},
   "outputs": [
    {
     "name": "stdout",
     "output_type": "stream",
     "text": [
      "✅ Agent Cố vấn và Tổng hợp (v12.0) đã sẵn sàng.\n"
     ]
    }
   ],
   "source": [
    "# ==============================================================================\n",
    "# CELL 3.6: AGENT CỐ VẤN VÀ TỔNG HỢP \n",
    "# ==============================================================================\n",
    "\n",
    "# Critic trở thành \"Người bảo vệ Kế hoạch\"\n",
    "async def content_validator_agent(state: \"TeacherStateV5\") -> Dict[str, Any]:\n",
    "    \"\"\"\n",
    "    Phiên bản Critic \"dễ tính\".\n",
    "    - Lần đầu tiên (retry_count = 0): Nó sẽ kiểm tra, nhưng có xu hướng cho qua và đưa ra gợi ý.\n",
    "    - Lần thứ hai (retry_count > 0): Nó sẽ TỰ ĐỘNG DUYỆT mà không cần suy nghĩ.\n",
    "    \"\"\"\n",
    "    print_step(f\"`Agent: Easy-Going Critic` (v13.1) đang phân tích...\")\n",
    "    \n",
    "    # Lấy số lần đã thử lại từ state\n",
    "    retry_count = state.get(\"current_task_retry_count\", 0)\n",
    "\n",
    "    # QUY TẮC VÀNG: Nếu đây là lần làm lại, TỰ ĐỘNG DUYỆT!\n",
    "    if retry_count > 0:\n",
    "        print_step(\"✔️ CRITIC (Lần 2): Đã nhận bản sửa. Tự động duyệt để chốt kế hoạch!\")\n",
    "        return {\"validation_feedback\": None} # None = DUYỆT\n",
    "\n",
    "    # Nếu đây là lần đầu tiên, nó sẽ thực hiện kiểm tra \"qua loa\"\n",
    "    content = state.get('current_content_to_validate')\n",
    "    task_list = state.get('task_list', [])\n",
    "    current_task = next((t for t in task_list if t['task_id'] == state.get('current_task_id')), None)\n",
    "    \n",
    "    if not content or content.get(\"error\") or not current_task:\n",
    "        return {\"validation_feedback\": \"Lỗi tạo nội dung.\"}\n",
    "\n",
    "    estimated_duration = current_task.get('estimated_duration', 'N/A')\n",
    "\n",
    "    # Prompt mới cho Critic \"dễ tính\"\n",
    "    prompt = f\"\"\"{SYSTEM_PERSONA_PROMPT}\n",
    "    **VAI TRÒ:** Bạn là một Cố vấn Sư phạm \"dễ tính\" và thực tế. Mục tiêu của bạn là giúp hoàn thành giáo án, không phải tìm lỗi để từ chối.\n",
    "    \n",
    "    **BẢN NHÁP CẦN ĐÁNH GIÁ:**\n",
    "    ```json\n",
    "    {json.dumps(content, ensure_ascii=False, indent=2)}\n",
    "    ```\n",
    "    **THỜI GIAN CHO PHÉP:** **{estimated_duration} phút.**\n",
    "\n",
    "    **QUY TRÌNH TƯ DUY \"DỄ TÍNH\":**\n",
    "    1.  **Nhìn tổng thể:** Hoạt động này có quá lố không? Có, gần như lúc nào cũng vậy.\n",
    "    2.  **Đưa ra quyết định:**\n",
    "        -   **Nếu hoạt động CỰC KỲ phi lý (ví dụ: yêu cầu 30 phút trong 5 phút):** Hãy trả về `is_valid: false` và đưa ra MỘT gợi ý sửa chữa DUY NHẤT và rõ ràng. (Ví dụ: \"Hoạt động này quá dài. Hãy bỏ hết phần `extension_component` và `differentiation` đi.\")\n",
    "        -   **Nếu hoạt động chỉ HƠI tham vọng (phổ biến nhất):** Hãy trả về `is_valid: true`. Trong `feedback`, hãy viết một lời khuyên mang tính xây dựng. (Ví dụ: \"Hoạt động này rất hay nhưng hơi dài. Giáo viên có thể dạy nhanh hơn một chút ở phần này hoặc giảm bớt một ví dụ để kịp tiến độ.\")\n",
    "        -   **Nếu hoạt động hoàn hảo:** Trả về `is_valid: true` và `feedback: \"Hoạt động này rất tốt và khả thi.\"`.\n",
    "\n",
    "    **QUY TẮC:** Luôn có xu hướng chấp nhận (`is_valid: true`) trừ khi nó thực sự không thể cứu vãn.\n",
    "    \"\"\"\n",
    "    \n",
    "    structured_llm = llm.with_structured_output(ValidationResult, method=\"json_mode\")\n",
    "    try:\n",
    "        result = await structured_llm.ainvoke(prompt)\n",
    "        \n",
    "        if result.is_valid:\n",
    "            # Ngay cả khi hợp lệ, vẫn có thể có feedback mang tính xây dựng\n",
    "            print_step(f\"✔️ CRITIC (Lần 1): Nội dung được duyệt! (Góp ý: {result.feedback})\")\n",
    "            return {\"validation_feedback\": None} # None = DUYỆT\n",
    "        else:\n",
    "            # Đây là trường hợp duy nhất nó sẽ từ chối\n",
    "            feedback_text = result.feedback.strip()\n",
    "            print_warning(f\"CRITIC (Lần 1) PHẢN BIỆN: {feedback_text}\")\n",
    "            return {\"validation_feedback\": feedback_text}\n",
    "            \n",
    "    except Exception as e:\n",
    "        print_warning(f\"Lỗi tại Critic: {e}. Yêu cầu làm lại.\")\n",
    "        return {\"validation_feedback\": \"Lỗi Critic, hãy bỏ hết các phần không cần thiết.\"}\n",
    "\n",
    "\n",
    "async def structured_plan_compiler_agent(state: \"TeacherStateV5\") -> Dict[str, Any]:\n",
    "    print_step(\"`Agent: Structured Plan Compiler` (v12.0) đang tổng hợp giáo án...\")\n",
    "    outputs = state.get('agent_outputs', {})\n",
    "    objective = state.get('analyzed_objective', {})\n",
    "    \n",
    "    activities = outputs.get('activities', [])\n",
    "    assessments = outputs.get('assessments', [])\n",
    "    all_content_items = activities + assessments\n",
    "    allowed_duration = objective.get('constraints', {}).get('duration_minutes', 90)\n",
    "\n",
    "    if not all_content_items:\n",
    "        return {\"reflection_notes\": \"Kế hoạch thất bại, không có hoạt động nào được tạo ra.\"}\n",
    "\n",
    "    total_duration = sum(item.get('duration_minutes', 0) for item in all_content_items)\n",
    "    \n",
    "    if not ((allowed_duration * 0.90) <= total_duration <= (allowed_duration + 10)):\n",
    "        reflection = f\"Kế hoạch thất bại. Tổng thời gian ({total_duration} phút) không hợp lệ. Lập kế hoạch lại.\"\n",
    "        print_warning(f\"CRITIC LỚN: {reflection}\")\n",
    "        # return {\"reflection_notes\": reflection}\n",
    "\n",
    "    print_step(\"CRITIC LỚN: Kế hoạch hợp lệ! Bắt đầu tổng hợp JSON...\")\n",
    "    all_content_sorted = sorted(all_content_items, key=lambda x: x.get('task_id', float('inf')))\n",
    "    \n",
    "    persona = state.get('student_persona', {})\n",
    "    strategy = state.get('pedagogy_strategy', {})\n",
    "    resources = state.get('agent_outputs', {}).get('resources', [{}])[0]\n",
    "    general_info = { \"chủ đề\": objective.get('topic', 'N/A'), \"môn học\": state.get('domain', 'N/A'), \"lớp\": objective.get('grade_level', 'N/A'), \"thời lượng\": f\"{allowed_duration} phút\", \"phương pháp chủ đạo\": strategy.get('name', 'Chưa xác định'), \"đặc điểm lớp học\": persona.get('special_notes', 'Tiêu chuẩn'), }\n",
    "    learning_objectives = [ f\"Học sinh có thể {objective.get('action_verb', 'vận dụng')} kiến thức về {objective.get('topic', 'N/A')}.\", \"Rèn luyện kỹ năng tư duy logic.\", \"Phát triển kỹ năng hợp tác.\" ]\n",
    "    preparation = { \"giáo viên\": [\"Bảng phụ\", \"máy chiếu\", \"phiếu học tập\"], \"học sinh\": [\"Sách giáo khoa\", \"vở ghi\", \"dụng cụ học tập\"] }\n",
    "    final_plan_obj: FinalStructuredPlan = { \"general_info\": general_info, \"learning_objectives\": learning_objectives, \"preparation\": preparation, \"knowledge_summary\": resources.get('summary', 'Chưa có tóm tắt.'), \"lesson_flow\": all_content_sorted, }\n",
    "    return {\"final_structured_plan\": final_plan_obj, \"reflection_notes\": None}\n",
    "\n",
    "async def markdown_presentation_node(state: \"TeacherStateV5\") -> Dict[str, str]:\n",
    "    print_step(\"`Node: Pedagogical Editor` (v13.1) đang biên tập và tạo bản trình bày...\")\n",
    "    plan_json = state.get(\"final_structured_plan\")\n",
    "    if not isinstance(plan_json, dict): return {\"final_markdown_plan\": \"Lỗi: Không tìm thấy giáo án.\"}\n",
    "    \n",
    "    # Xây dựng bản nháp chi tiết từ các hoạt động\n",
    "    draft_parts = []\n",
    "    lesson_flow = plan_json.get('lesson_flow', [])\n",
    "    for i, activity in enumerate(lesson_flow):\n",
    "        title = f\"### Hoạt động {i+1}: {activity.get('activity_name')} ({activity.get('duration_minutes')} phút)\"\n",
    "        draft_parts.append(title)\n",
    "        draft_parts.append(f\"**Nhiệm vụ:**\\n{activity.get('question_or_description', 'Không có mô tả.')}\")\n",
    "        \n",
    "        if activity.get('differentiation'):\n",
    "            diff = activity['differentiation']\n",
    "            if diff and (diff.get('for_struggling_students') or diff.get('for_advanced_students')):\n",
    "                 draft_parts.append(f\"> **Gợi ý Phân hóa:**\")\n",
    "                 if diff.get('for_struggling_students'):\n",
    "                    draft_parts.append(f\"> - *Hỗ trợ (HS yếu):* {diff.get('for_struggling_students')}\")\n",
    "                 if diff.get('for_advanced_students'):\n",
    "                    draft_parts.append(f\"> - *Thử thách (HS giỏi):* {diff.get('for_advanced_students')}\")\n",
    "    \n",
    "    draft_content_md = \"\\n\\n\".join(draft_parts)\n",
    "\n",
    "    # Lấy các thông tin tổng quan khác\n",
    "    info = plan_json.get('general_info', {})\n",
    "    objectives = \"\\n\".join(f\"- {obj}\" for obj in plan_json.get('learning_objectives', []))\n",
    "    preparation = \"\\n\".join(f\"- **{key.title()}:** {', '.join(items)}\" for key, items in plan_json.get('preparation', {}).items())\n",
    "    summary = plan_json.get('knowledge_summary', 'Chưa có tóm tắt.')\n",
    "\n",
    "    # Tạo prompt cho \"Biên tập viên Sư phạm\"\n",
    "    finalizing_prompt = f\"\"\"{SYSTEM_PERSONA_PROMPT}\n",
    "    **VAI TRÒ:** Bạn là một **Biên tập viên Sư phạm** giàu kinh nghiệm.\n",
    "    **NHIỆM VỤ:** Dựa vào các thông tin tổng quan và bản nháp các hoạt động dưới đây, hãy viết một **GIÁO ÁN HOÀN CHỈNH** dưới dạng Markdown.\n",
    "\n",
    "    **QUY TẮC QUAN TRỌNG NHẤT:**\n",
    "    1.  **VIẾT LỜI CHUYỂN:** Giữa các hoạt động, hãy viết một đoạn \"Lời chuyển của giáo viên\" ngắn gọn (được **in nghiêng** và bắt đầu bằng `GV:`) để tạo sự kết nối mượt mà.\n",
    "    2.  **GIỮ NGUYÊN NỘI DUNG:** Giữ nguyên toàn bộ nội dung chi tiết của từng hoạt động đã được cung cấp.\n",
    "    3.  **ĐỊNH DẠNG CHUYÊN NGHIỆP:** Trình bày giáo án một cách sạch sẽ, rõ ràng, có các đề mục lớn (I, II, III, IV, V).\n",
    "\n",
    "    **I. THÔNG TIN CHUNG**\n",
    "    - **Chủ Đề:** {info.get('chủ đề', 'N/A')}\n",
    "    - **Môn Học:** {info.get('môn học', 'N/A')}\n",
    "    - **Lớp:** {info.get('lớp', 'N/A')}\n",
    "    - **Thời Lượng:** {info.get('thời lượng', 'N/A')}\n",
    "    - **Phương Pháp Chủ Đạo:** {info.get('phương pháp chủ đạo', 'N/A')}\n",
    "    - **Đặc Điểm Lớp Học:** {info.get('đặc điểm lớp học', 'N/A')}\n",
    "\n",
    "    **II. MỤC TIÊU BÀI HỌC**\n",
    "    {objectives}\n",
    "\n",
    "    **III. CHUẨN BỊ**\n",
    "    {preparation}\n",
    "\n",
    "    **IV. TIẾN TRÌNH BÀI DẠY**\n",
    "    ---\n",
    "    {draft_content_md}\n",
    "    ---\n",
    "    \n",
    "    **V. TÓM TẮT KIẾN THỨC CỐT LÕI**\n",
    "    {summary}\n",
    "    \"\"\"\n",
    "    \n",
    "    try:\n",
    "        final_lesson_plan_response = await llm.ainvoke(finalizing_prompt)\n",
    "        final_md = final_lesson_plan_response.content\n",
    "        print_step(\"✔️ Đã biên tập thành công giáo án cuối cùng với lời chuyển mượt mà.\")\n",
    "    except Exception as e:\n",
    "        print_warning(f\"Lỗi ở bước biên tập cuối cùng: {e}. Sẽ trả về bản nháp không có lời chuyển.\")\n",
    "        # Fallback về cách cũ nếu LLM lỗi\n",
    "        final_md = \"\\n\".join(md_parts) # Dùng lại md_parts đã build ở trên\n",
    "        \n",
    "    return {\"final_markdown_plan\": final_md}\n",
    "\n",
    "print(\"✅ Agent Cố vấn và Tổng hợp (v12.0) đã sẵn sàng.\")"
   ]
  },
  {
   "cell_type": "markdown",
   "id": "d9377da3",
   "metadata": {},
   "source": [
    "## PHẦN 4: XÂY DỰNG VÀ BIÊN DỊCH GRAPH"
   ]
  },
  {
   "cell_type": "code",
   "execution_count": 33,
   "id": "3f7820ed",
   "metadata": {},
   "outputs": [
    {
     "name": "stdout",
     "output_type": "stream",
     "text": [
      "✅ Các node tiện ích và điều phối (v12.0 - Hoàn thiện) đã sẵn sàng.\n"
     ]
    }
   ],
   "source": [
    "# ==============================================================================\n",
    "# CELL 4.1: CÁC NODE TIỆN ÍCH & ĐIỀU PHỐI (v12.0 - HOÀN THIỆN)\n",
    "# ==============================================================================\n",
    "from typing import Literal, Dict, Any\n",
    "import time\n",
    "\n",
    "def delay_node(state: \"TeacherStateV5\"): time.sleep(1); return state\n",
    "\n",
    "def mark_task_complete(state: \"TeacherStateV5\") -> Dict[str, Any]:\n",
    "    task_list = state.get(\"task_list\", [])\n",
    "    current_task_id = state.get(\"current_task_id\")\n",
    "    if not task_list or current_task_id is None: return {}\n",
    "    new_task_list = [t.copy() for t in task_list]\n",
    "    for task in new_task_list:\n",
    "        if task.get(\"task_id\") == current_task_id:\n",
    "            task[\"status\"] = \"completed\"\n",
    "            break\n",
    "    return {\"task_list\": new_task_list, \"current_task_id\": None}\n",
    "    \n",
    "def task_router_node(state: \"TeacherStateV5\"):\n",
    "    print_step(\"`Router`: Đang kiểm tra nhiệm vụ...\")\n",
    "    task_list = state.get(\"task_list\", [])\n",
    "    next_task = next((task for task in task_list if task.get(\"status\") == \"pending\"), None)\n",
    "    if next_task:\n",
    "        print_step(f\"Nhiệm vụ tiếp theo: '{next_task['task_name']}' (ID: {next_task['task_id']})\")\n",
    "        # Reset bộ đếm khi bắt đầu một task mới\n",
    "        return {\"current_task_id\": next_task['task_id'], \"current_task_retry_count\": 0}\n",
    "    else:\n",
    "        print_step(\"Hết nhiệm vụ, chuyển sang node Compiler.\")\n",
    "        return {\"current_task_id\": None}\n",
    "\n",
    "async def task_dispatcher_agent(state: \"TeacherStateV5\"):\n",
    "    print_step(\"`Agent: Task Dispatcher` đang giao việc...\")\n",
    "    task_to_run = next((t for t in state['task_list'] if t['task_id'] == state['current_task_id']), None)\n",
    "    if not task_to_run: return {\"next_agent\": \"structured_plan_compiler\"}\n",
    "    task_description = task_to_run['task_description']\n",
    "    prompt = f\"{SYSTEM_PERSONA_PROMPT}\\n**Nhiệm vụ:** Phân loại nhiệm vụ sau vào MỘT trong ba agent: 'activity_designer', 'theory_synthesizer', 'assessment_creator'.\"\n",
    "    structured_llm = llm.with_structured_output(TaskClassification)\n",
    "    try:\n",
    "        classification_result = await structured_llm.ainvoke(prompt)\n",
    "        next_agent = classification_result.agent_category\n",
    "    except Exception:\n",
    "        next_agent = \"activity_designer\"\n",
    "    print_step(f\"--- 🚚 `Dispatcher`: Giao nhiệm vụ cho `{next_agent}`.\")\n",
    "    return {\"next_agent\": next_agent}\n",
    "\n",
    "def commit_validated_content_node(state: \"TeacherStateV5\") -> Dict[str, Any]:\n",
    "    print_step(\"`Commiter`: Đang ghi nhận nội dung đã được xác thực...\")\n",
    "    agent_ran = state[\"next_agent\"]\n",
    "    content = state[\"current_content_to_validate\"]\n",
    "    content['task_id'] = state['current_task_id']\n",
    "    key_to_update = \"assessments\" if agent_ran == \"assessment_creator\" else \"activities\"\n",
    "    updated_outputs = update_agent_outputs(state, key_to_update, content)\n",
    "    updated_outputs[\"current_content_to_validate\"] = None\n",
    "    updated_outputs[\"validation_feedback\"] = None\n",
    "    return updated_outputs\n",
    "\n",
    "def save_to_memory_node(state: \"TeacherStateV5\"):\n",
    "    if state.get(\"final_structured_plan\"):\n",
    "        save_to_memory(state[\"original_request\"], state[\"final_structured_plan\"])\n",
    "    return {} \n",
    "\n",
    "async def save_to_pdf_node(state: \"TeacherStateV5\"):\n",
    "    \"\"\"\n",
    "    Node cuối cùng, gọi hàm để lưu giáo án dạng Markdown sang PDF.\n",
    "    \"\"\"\n",
    "    final_markdown = state.get(\"final_markdown_plan\")\n",
    "    topic = state.get('analyzed_objective', {}).get('topic', 'GiaoAnChung')\n",
    "    \n",
    "    # Tạo tên file động dựa trên chủ đề\n",
    "    # Loại bỏ các ký tự không hợp lệ cho tên file\n",
    "    safe_topic_name = re.sub(r'[\\\\/*?:\"<>|]', \"\", topic).replace(\" \", \"_\")\n",
    "    output_filename = f\"GiaoAn_{safe_topic_name}.pdf\"\n",
    "\n",
    "    if final_markdown:\n",
    "        await save_markdown_to_pdf(final_markdown, output_filename)\n",
    "    \n",
    "    return {} # Node này không cần thay đổi state\n",
    "\n",
    "print(\"✅ Các node tiện ích và điều phối (v12.0 - Hoàn thiện) đã sẵn sàng.\")"
   ]
  },
  {
   "cell_type": "code",
   "execution_count": 34,
   "id": "6b7306e7",
   "metadata": {},
   "outputs": [
    {
     "name": "stdout",
     "output_type": "stream",
     "text": [
      "✅ Các hàm logic điều hướng (v12.8 - Sửa 1 lần duy nhất) đã được định nghĩa.\n"
     ]
    }
   ],
   "source": [
    "# ==============================================================================\n",
    "# CELL 4.2: LOGIC ĐIỀU HƯỚNG CÓ ĐIỀU KIỆN \n",
    "# ==============================================================================\n",
    "\n",
    "def route_after_guardian_critique(state: \"TeacherStateV5\") -> Literal[\"commit\", \"retry_content_creation\", \"skip_and_move_on\"]:\n",
    "    \"\"\"\n",
    "    Điều hướng sau khi Critic đưa ra phản hồi.\n",
    "    - commit: Nội dung được duyệt.\n",
    "    - retry_content_creation: Nội dung bị từ chối lần đầu, cho phép thử lại 1 lần duy nhất.\n",
    "    - skip_and_move_on: (Ngã rẽ dự phòng) Nếu có lỗi xảy ra sau khi thử lại, bỏ qua nhiệm vụ.\n",
    "    \"\"\"\n",
    "    if state.get(\"validation_feedback\") is None:\n",
    "        # Nếu không có feedback (đã được duyệt), thì commit.\n",
    "        return \"commit\"\n",
    "    \n",
    "    retry_count = state.get(\"current_task_retry_count\", 0)\n",
    "    \n",
    "    # Nếu đây là lần thất bại đầu tiên (retry_count = 0)\n",
    "    if retry_count == 0:\n",
    "        print_warning(f\"ROUTER (Critic): Yêu cầu Agent chuyên môn sửa lại (1/1).\")\n",
    "        # Tăng bộ đếm và cho phép thử lại\n",
    "        state['current_task_retry_count'] = 1\n",
    "        return \"retry_content_creation\"\n",
    "    # Nếu đây là lần thất bại thứ hai (không nên xảy ra với logic Critic mới, nhưng đây là phương án dự phòng)\n",
    "    else:\n",
    "        task_id = state.get('current_task_id', 'N/A')\n",
    "        print_warning(f\"ROUTER (Critic): THẤT BẠI LẦN 2 với nhiệm vụ ID '{task_id}'. Bỏ qua và chuyển sang nhiệm vụ tiếp theo.\")\n",
    "        return \"skip_and_move_on\"\n",
    "    \n",
    "def route_after_router(state: \"TeacherStateV5\") -> Literal[\"continue_executing\", \"compile_and_critique\"]:\n",
    "    if state.get(\"current_task_id\") is None: \n",
    "        return \"compile_and_critique\"\n",
    "    else: \n",
    "        return \"continue_executing\"\n",
    "\n",
    "def route_after_compilation(state: \"TeacherStateV5\") -> Literal[\"finish\", \"replan\"]:\n",
    "    if state.get(\"reflection_notes\"):\n",
    "        print_step(\"ROUTER (Compilation): Phát hiện phản hồi từ Critic lớn. Yêu cầu hệ thống lập kế hoạch lại.\")\n",
    "        return \"replan\"\n",
    "    else:\n",
    "        print_step(\"ROUTER (Compilation): Critic lớn đã hài lòng. Kết thúc quy trình.\")\n",
    "        return \"finish\"\n",
    "\n",
    "print(\"✅ Các hàm logic điều hướng (v12.8 - Sửa 1 lần duy nhất) đã được định nghĩa.\")"
   ]
  },
  {
   "cell_type": "code",
   "execution_count": 35,
   "id": "30df6071",
   "metadata": {},
   "outputs": [
    {
     "name": "stdout",
     "output_type": "stream",
     "text": [
      "✅ Graph đã được biên dịch thành công với logic 'Sửa 1 lần & Bỏ qua' (v12.8).\n"
     ]
    }
   ],
   "source": [
    "# ==============================================================================\n",
    "# CELL 4.3: LẮP RÁP VÀ BIÊN DỊCH GRAPH \n",
    "# ==============================================================================\n",
    "workflow = StateGraph(TeacherStateV5)\n",
    "\n",
    "# Luồng Phân tích & Lập kế hoạch\n",
    "workflow.add_node(\"initializer\", initialize_state_node)\n",
    "workflow.add_node(\"memory_retrieval\", memory_retrieval_agent)\n",
    "workflow.add_node(\"objective_interpreter\", objective_interpreter_agent)\n",
    "workflow.add_node(\"domain_classifier\", domain_classifier_agent)\n",
    "workflow.add_node(\"differentiated_instruction_advisor\", differentiated_instruction_advisor_agent) \n",
    "workflow.add_node(\"pedagogy_strategist\", pedagogy_strategist_agent)\n",
    "workflow.add_node(\"pedagogical_architect\", pedagogical_architect_agent)\n",
    "workflow.add_node(\"query_expansion\", query_expansion_agent)\n",
    "workflow.add_node(\"resource_scout\", resource_scout_agent_v2)\n",
    "workflow.add_node(\"plan_delegator\", plan_delegator_agent)\n",
    "\n",
    "# Luồng Thực thi & Phản biện\n",
    "workflow.add_node(\"task_router\", task_router_node)\n",
    "workflow.add_node(\"task_dispatcher\", task_dispatcher_agent)\n",
    "workflow.add_node(\"theory_synthesizer\", theory_synthesizer_agent)\n",
    "workflow.add_node(\"activity_designer\", activity_designer_agent)\n",
    "workflow.add_node(\"assessment_creator\", assessment_creator_agent)\n",
    "workflow.add_node(\"content_validator\", content_validator_agent)\n",
    "workflow.add_node(\"commit_validated_content\", commit_validated_content_node)\n",
    "workflow.add_node(\"mark_task_complete\", mark_task_complete)\n",
    "\n",
    "# Luồng Tổng hợp & Kết thúc\n",
    "workflow.add_node(\"structured_plan_compiler\", structured_plan_compiler_agent) \n",
    "workflow.add_node(\"markdown_presenter\", markdown_presentation_node)\n",
    "workflow.add_node(\"save_to_memory\", save_to_memory_node)\n",
    "workflow.add_node(\"save_to_pdf\", save_to_pdf_node)\n",
    "workflow.add_node(\"delay_node\", delay_node)\n",
    "\n",
    "# --- Luồng Phân tích & Lập kế hoạch ban đầu ---\n",
    "workflow.set_entry_point(\"initializer\")\n",
    "workflow.add_edge(\"initializer\", \"memory_retrieval\")\n",
    "workflow.add_edge(\"memory_retrieval\", \"objective_interpreter\")\n",
    "workflow.add_edge(\"objective_interpreter\", \"domain_classifier\")\n",
    "workflow.add_edge(\"domain_classifier\", \"differentiated_instruction_advisor\")\n",
    "workflow.add_edge(\"differentiated_instruction_advisor\", \"pedagogy_strategist\")\n",
    "workflow.add_edge(\"pedagogy_strategist\", \"pedagogical_architect\")\n",
    "workflow.add_edge(\"pedagogical_architect\", \"query_expansion\")\n",
    "workflow.add_edge(\"query_expansion\", \"resource_scout\")\n",
    "workflow.add_edge(\"resource_scout\", \"plan_delegator\")\n",
    "\n",
    "# Bắt đầu vòng lặp thực thi\n",
    "workflow.add_edge(\"plan_delegator\", \"task_router\")\n",
    "\n",
    "# --- Vòng lặp Thực thi Nhiệm vụ ---\n",
    "workflow.add_conditional_edges(\n",
    "    \"task_router\", \n",
    "    route_after_router, \n",
    "    { \"continue_executing\": \"task_dispatcher\", \"compile_and_critique\": \"structured_plan_compiler\" }\n",
    ")\n",
    "workflow.add_conditional_edges(\n",
    "    \"task_dispatcher\", \n",
    "    lambda state: state[\"next_agent\"], \n",
    "    { \"activity_designer\": \"activity_designer\", \"assessment_creator\": \"assessment_creator\", \"theory_synthesizer\": \"theory_synthesizer\" }\n",
    ")\n",
    "\n",
    "workflow.add_edge(\"theory_synthesizer\", \"content_validator\")\n",
    "workflow.add_edge(\"activity_designer\", \"content_validator\")\n",
    "workflow.add_edge(\"assessment_creator\", \"content_validator\")\n",
    "\n",
    "\n",
    "workflow.add_conditional_edges(\n",
    "    \"content_validator\",\n",
    "    route_after_guardian_critique,\n",
    "    {\n",
    "        \"commit\": \"commit_validated_content\",\n",
    "        \"retry_content_creation\": \"task_dispatcher\",\n",
    "        \"move_on\": \"mark_task_complete\" # Nối dây mới!\n",
    "    }\n",
    ")\n",
    "\n",
    "\n",
    "workflow.add_edge(\"commit_validated_content\", \"mark_task_complete\")\n",
    "workflow.add_edge(\"mark_task_complete\", \"delay_node\")\n",
    "workflow.add_edge(\"delay_node\", \"task_router\")\n",
    "\n",
    "# --- Luồng Kết thúc ---\n",
    "workflow.add_conditional_edges(\n",
    "    \"structured_plan_compiler\", \n",
    "    route_after_compilation,\n",
    "    { \"replan\": \"plan_delegator\", \"finish\": \"markdown_presenter\" }\n",
    ")\n",
    "workflow.add_edge(\"markdown_presenter\", \"save_to_memory\")\n",
    "workflow.add_edge(\"save_to_memory\", \"save_to_pdf\")\n",
    "workflow.add_edge(\"save_to_pdf\", END)\n",
    "\n",
    "# Biên dịch graph hoàn chỉnh\n",
    "app = workflow.compile()\n",
    "print(\"✅ Graph đã được biên dịch thành công với logic 'Sửa 1 lần & Bỏ qua' (v12.8).\")"
   ]
  },
  {
   "cell_type": "code",
   "execution_count": 36,
   "id": "ac549fea",
   "metadata": {},
   "outputs": [
    {
     "data": {
      "image/png": "[encoded data removed]",
      "text/plain": [
       "<IPython.core.display.Image object>"
      ]
     },
     "metadata": {},
     "output_type": "display_data"
    }
   ],
   "source": [
    "# ==============================================================================\n",
    "# CELL 4.4: HIỂN THỊ SƠ ĐỒ GRAPH \n",
    "# ==============================================================================\n",
    "try:\n",
    "    # Lệnh này sẽ vẽ một sơ đồ của workflow, rất hữu ích để gỡ lỗi\n",
    "    display(Image(app.get_graph().draw_mermaid_png()))\n",
    "except Exception as e:\n",
    "    print(f\"Lỗi vẽ biểu đồ: {e}. Đây là lỗi không nghiêm trọng, bạn vẫn có thể chạy quy trình.\")"
   ]
  },
  {
   "cell_type": "markdown",
   "id": "a5e56adc",
   "metadata": {},
   "source": [
    "## PHẦN 5"
   ]
  },
  {
   "cell_type": "code",
   "execution_count": 37,
   "id": "f27d8fdf",
   "metadata": {},
   "outputs": [
    {
     "name": "stdout",
     "output_type": "stream",
     "text": [
      "✅ Hàm `run_architect` (v12.0) đã sẵn sàng để sử dụng.\n"
     ]
    }
   ],
   "source": [
    "# ==============================================================================\n",
    "# CELL 5.1: ĐỊNH NGHĨA HÀM CHẠY QUY TRÌNH \n",
    "# ==============================================================================\n",
    "async def run_architect(user_request: str):\n",
    "    if 'llm' not in globals() or llm is None:\n",
    "        print_warning(\"LLM chưa được khởi tạo.\")\n",
    "        return\n",
    "    if 'vector_store' not in globals() or vector_store is None:\n",
    "        print_warning(\"Kho tri thức chưa được tải.\")\n",
    "        return\n",
    "    if 'app' not in globals():\n",
    "        print_warning(\"Graph 'app' chưa được biên dịch.\")\n",
    "        return\n",
    "\n",
    "    initial_state = {\"messages\": [HumanMessage(content=user_request)]}\n",
    "    console.print(f\"\\n[bold magenta]🚀 BẮT ĐẦU QUY TRÌNH V12.0 (HOÀN THIỆN) VỚI YÊU CẦU:[/bold magenta]\\n> {user_request}\")\n",
    "    config = {\"recursion_limit\": 150} \n",
    "    \n",
    "    final_markdown_plan = None\n",
    "    final_structured_plan = None\n",
    "    \n",
    "    try:\n",
    "        async for event in app.astream(initial_state, config=config):\n",
    "            for node_name, node_output in event.items():\n",
    "                console.print(f\"\\n[bold yellow]------- Hoàn thành bước: {node_name} -------[/bold yellow]\")\n",
    "                if node_name == \"markdown_presenter\":\n",
    "                    final_markdown_plan = node_output.get(\"final_markdown_plan\")\n",
    "                    final_structured_plan = node_output.get(\"final_structured_plan\")\n",
    "\n",
    "        console.print(\"\\n[bold magenta]🏁 KẾT THÚC QUY TRÌNH.[/bold magenta]\")\n",
    "        \n",
    "        if final_markdown_plan:\n",
    "            console.print(\"\\n[bold green]📝 GIÁO ÁN HOÀN CHỈNH (v12.0)[/bold green]\")\n",
    "            console.print(Markdown(final_markdown_plan))\n",
    "            \n",
    "            if VERBOSE_MODE and final_structured_plan:\n",
    "                print_result(final_structured_plan, \"Output JSON có cấu trúc\")\n",
    "        else:\n",
    "            print_warning(\"Không tạo được giáo án cuối cùng. Vui lòng kiểm tra log để gỡ lỗi.\")\n",
    "            \n",
    "    except Exception as e:\n",
    "        print_warning(f\"Đã xảy ra lỗi nghiêm trọng trong quá trình chạy graph: {e}\")\n",
    "        import traceback\n",
    "        traceback.print_exc()\n",
    "\n",
    "print(\"✅ Hàm `run_architect` (v12.0) đã sẵn sàng để sử dụng.\")"
   ]
  },
  {
   "cell_type": "code",
   "execution_count": 38,
   "id": "43c8121e",
   "metadata": {},
   "outputs": [
    {
     "data": {
      "text/html": [
       "<pre style=\"white-space:pre;overflow-x:auto;line-height:normal;font-family:Menlo,'DejaVu Sans Mono',consolas,'Courier New',monospace\">\n",
       "<span style=\"color: #800080; text-decoration-color: #800080; font-weight: bold\">🚀 BẮT ĐẦU QUY TRÌNH V12.</span><span style=\"color: #800080; text-decoration-color: #800080; font-weight: bold\">0</span><span style=\"color: #800080; text-decoration-color: #800080; font-weight: bold\"> (HOÀN THIỆN) VỚI YÊU CẦU:</span>\n",
       "&gt; Soạn giúp tôi giáo án bài <span style=\"color: #008000; text-decoration-color: #008000\">'PHƯƠNG TRÌNH MẶT CẦU'</span> cho học sinh lớp <span style=\"color: #008080; text-decoration-color: #008080; font-weight: bold\">12</span> trong <span style=\"color: #008080; text-decoration-color: #008080; font-weight: bold\">90</span> phút. Đây là một lớp học khá yếu, \n",
       "các em thường mất tập trung và cần các hoạt động có tính tương tác cao.\n",
       "</pre>\n"
      ],
      "text/plain": [
       "\n",
       "\u001b[1;35m🚀 BẮT ĐẦU QUY TRÌNH V12.\u001b[0m\u001b[1;35m0\u001b[0m\u001b[1;35m \u001b[0m\u001b[1;35m(\u001b[0m\u001b[1;35mHOÀN THIỆN\u001b[0m\u001b[1;35m)\u001b[0m\u001b[1;35m VỚI YÊU CẦU:\u001b[0m\n",
       "> Soạn giúp tôi giáo án bài \u001b[32m'PHƯƠNG TRÌNH MẶT CẦU'\u001b[0m cho học sinh lớp \u001b[1;36m12\u001b[0m trong \u001b[1;36m90\u001b[0m phút. Đây là một lớp học khá yếu, \n",
       "các em thường mất tập trung và cần các hoạt động có tính tương tác cao.\n"
      ]
     },
     "metadata": {},
     "output_type": "display_data"
    },
    {
     "data": {
      "text/html": [
       "<pre style=\"white-space:pre;overflow-x:auto;line-height:normal;font-family:Menlo,'DejaVu Sans Mono',consolas,'Courier New',monospace\">\n",
       "<span style=\"color: #008080; text-decoration-color: #008080; font-weight: bold\">&gt;</span> `Initializer`: Đang khởi tạo trạng thái và lấy yêu cầu gốc<span style=\"color: #808000; text-decoration-color: #808000\">...</span>\n",
       "</pre>\n"
      ],
      "text/plain": [
       "\n",
       "\u001b[1;36m>\u001b[0m `Initializer`: Đang khởi tạo trạng thái và lấy yêu cầu gốc\u001b[33m...\u001b[0m\n"
      ]
     },
     "metadata": {},
     "output_type": "display_data"
    },
    {
     "data": {
      "text/html": [
       "<pre style=\"white-space:pre;overflow-x:auto;line-height:normal;font-family:Menlo,'DejaVu Sans Mono',consolas,'Courier New',monospace\">\n",
       "<span style=\"color: #808000; text-decoration-color: #808000; font-weight: bold\">------- Hoàn thành bước: initializer -------</span>\n",
       "</pre>\n"
      ],
      "text/plain": [
       "\n",
       "\u001b[1;33m------- Hoàn thành bước: initializer -------\u001b[0m\n"
      ]
     },
     "metadata": {},
     "output_type": "display_data"
    },
    {
     "data": {
      "text/html": [
       "<pre style=\"white-space:pre;overflow-x:auto;line-height:normal;font-family:Menlo,'DejaVu Sans Mono',consolas,'Courier New',monospace\">\n",
       "<span style=\"color: #008080; text-decoration-color: #008080; font-weight: bold\">&gt;</span> `Agent: Memory Retrieval` <span style=\"font-weight: bold\">(</span>v9.<span style=\"color: #008080; text-decoration-color: #008080; font-weight: bold\">4</span><span style=\"font-weight: bold\">)</span> đang tìm kiếm trong trí nhớ<span style=\"color: #808000; text-decoration-color: #808000\">...</span>\n",
       "</pre>\n"
      ],
      "text/plain": [
       "\n",
       "\u001b[1;36m>\u001b[0m `Agent: Memory Retrieval` \u001b[1m(\u001b[0mv9.\u001b[1;36m4\u001b[0m\u001b[1m)\u001b[0m đang tìm kiếm trong trí nhớ\u001b[33m...\u001b[0m\n"
      ]
     },
     "metadata": {},
     "output_type": "display_data"
    },
    {
     "data": {
      "text/html": [
       "<pre style=\"white-space:pre;overflow-x:auto;line-height:normal;font-family:Menlo,'DejaVu Sans Mono',consolas,'Courier New',monospace\"><span style=\"color: #008000; text-decoration-color: #008000; font-weight: bold\">✔️ Tìm thấy ví dụ tương đồng trong trí nhớ:</span>\n",
       "</pre>\n"
      ],
      "text/plain": [
       "\u001b[1;32m✔️ Tìm thấy ví dụ tương đồng trong trí nhớ:\u001b[0m\n"
      ]
     },
     "metadata": {},
     "output_type": "display_data"
    },
    {
     "data": {
      "text/html": [
       "<pre style=\"white-space:pre;overflow-x:auto;line-height:normal;font-family:Menlo,'DejaVu Sans Mono',consolas,'Courier New',monospace\"><span style=\"color: #008000; text-decoration-color: #008000\">\"Soạn giúp tôi giáo án bài 'PHƯƠNG TRÌNH MẶT CẦU' cho học sinh lớp 12 trong 90 phút. Đây là một lớp học khá yếu, các em thường mất tập trung và cần các hoạt động có tính tương tác cao.\"</span>\n",
       "</pre>\n"
      ],
      "text/plain": [
       "\u001b[32m\"Soạn giúp tôi giáo án bài 'PHƯƠNG TRÌNH MẶT CẦU' cho học sinh lớp 12 trong 90 phút. Đây là một lớp học khá yếu, các em thường mất tập trung và cần các hoạt động có tính tương tác cao.\"\u001b[0m\n"
      ]
     },
     "metadata": {},
     "output_type": "display_data"
    },
    {
     "data": {
      "text/html": [
       "<pre style=\"white-space:pre;overflow-x:auto;line-height:normal;font-family:Menlo,'DejaVu Sans Mono',consolas,'Courier New',monospace\">\n",
       "<span style=\"color: #808000; text-decoration-color: #808000; font-weight: bold\">------- Hoàn thành bước: memory_retrieval -------</span>\n",
       "</pre>\n"
      ],
      "text/plain": [
       "\n",
       "\u001b[1;33m------- Hoàn thành bước: memory_retrieval -------\u001b[0m\n"
      ]
     },
     "metadata": {},
     "output_type": "display_data"
    },
    {
     "data": {
      "text/html": [
       "<pre style=\"white-space:pre;overflow-x:auto;line-height:normal;font-family:Menlo,'DejaVu Sans Mono',consolas,'Courier New',monospace\">\n",
       "<span style=\"color: #008080; text-decoration-color: #008080; font-weight: bold\">&gt;</span> `Agent: Objective Interpreter` <span style=\"font-weight: bold\">(</span>v7.<span style=\"color: #008080; text-decoration-color: #008080; font-weight: bold\">5</span><span style=\"font-weight: bold\">)</span> đang phân tích mục tiêu<span style=\"color: #808000; text-decoration-color: #808000\">...</span>\n",
       "</pre>\n"
      ],
      "text/plain": [
       "\n",
       "\u001b[1;36m>\u001b[0m `Agent: Objective Interpreter` \u001b[1m(\u001b[0mv7.\u001b[1;36m5\u001b[0m\u001b[1m)\u001b[0m đang phân tích mục tiêu\u001b[33m...\u001b[0m\n"
      ]
     },
     "metadata": {},
     "output_type": "display_data"
    },
    {
     "data": {
      "text/html": [
       "<pre style=\"white-space:pre;overflow-x:auto;line-height:normal;font-family:Menlo,'DejaVu Sans Mono',consolas,'Courier New',monospace\"><span style=\"color: #008000; text-decoration-color: #008000; font-weight: bold\">✔️ Mục tiêu &amp; Ràng buộc đã phân tích:</span>\n",
       "</pre>\n"
      ],
      "text/plain": [
       "\u001b[1;32m✔️ Mục tiêu & Ràng buộc đã phân tích:\u001b[0m\n"
      ]
     },
     "metadata": {},
     "output_type": "display_data"
    },
    {
     "data": {
      "text/html": [
       "<pre style=\"white-space:pre;overflow-x:auto;line-height:normal;font-family:Menlo,'DejaVu Sans Mono',consolas,'Courier New',monospace\"><span style=\"font-weight: bold\">{</span>\n",
       "<span style=\"color: #7fbf7f; text-decoration-color: #7fbf7f\">│   </span><span style=\"color: #008000; text-decoration-color: #008000\">'action_verb'</span>: <span style=\"color: #008000; text-decoration-color: #008000\">'Soạn'</span>,\n",
       "<span style=\"color: #7fbf7f; text-decoration-color: #7fbf7f\">│   </span><span style=\"color: #008000; text-decoration-color: #008000\">'bloom_level'</span>: <span style=\"color: #008080; text-decoration-color: #008080; font-weight: bold\">2</span>,\n",
       "<span style=\"color: #7fbf7f; text-decoration-color: #7fbf7f\">│   </span><span style=\"color: #008000; text-decoration-color: #008000\">'topic'</span>: <span style=\"color: #008000; text-decoration-color: #008000\">'Phương trình mặt cầu'</span>,\n",
       "<span style=\"color: #7fbf7f; text-decoration-color: #7fbf7f\">│   </span><span style=\"color: #008000; text-decoration-color: #008000\">'grade_level'</span>: <span style=\"color: #008000; text-decoration-color: #008000\">'Lớp 12'</span>,\n",
       "<span style=\"color: #7fbf7f; text-decoration-color: #7fbf7f\">│   </span><span style=\"color: #008000; text-decoration-color: #008000\">'constraints'</span>: <span style=\"font-weight: bold\">{</span>\n",
       "<span style=\"color: #7fbf7f; text-decoration-color: #7fbf7f\">│   │   </span><span style=\"color: #008000; text-decoration-color: #008000\">'duration_minutes'</span>: <span style=\"color: #008080; text-decoration-color: #008080; font-weight: bold\">90</span>\n",
       "<span style=\"color: #7fbf7f; text-decoration-color: #7fbf7f\">│   </span><span style=\"font-weight: bold\">}</span>\n",
       "<span style=\"font-weight: bold\">}</span>\n",
       "</pre>\n"
      ],
      "text/plain": [
       "\u001b[1m{\u001b[0m\n",
       "\u001b[2;32m│   \u001b[0m\u001b[32m'action_verb'\u001b[0m: \u001b[32m'Soạn'\u001b[0m,\n",
       "\u001b[2;32m│   \u001b[0m\u001b[32m'bloom_level'\u001b[0m: \u001b[1;36m2\u001b[0m,\n",
       "\u001b[2;32m│   \u001b[0m\u001b[32m'topic'\u001b[0m: \u001b[32m'Phương trình mặt cầu'\u001b[0m,\n",
       "\u001b[2;32m│   \u001b[0m\u001b[32m'grade_level'\u001b[0m: \u001b[32m'Lớp 12'\u001b[0m,\n",
       "\u001b[2;32m│   \u001b[0m\u001b[32m'constraints'\u001b[0m: \u001b[1m{\u001b[0m\n",
       "\u001b[2;32m│   │   \u001b[0m\u001b[32m'duration_minutes'\u001b[0m: \u001b[1;36m90\u001b[0m\n",
       "\u001b[2;32m│   \u001b[0m\u001b[1m}\u001b[0m\n",
       "\u001b[1m}\u001b[0m\n"
      ]
     },
     "metadata": {},
     "output_type": "display_data"
    },
    {
     "data": {
      "text/html": [
       "<pre style=\"white-space:pre;overflow-x:auto;line-height:normal;font-family:Menlo,'DejaVu Sans Mono',consolas,'Courier New',monospace\">\n",
       "<span style=\"color: #808000; text-decoration-color: #808000; font-weight: bold\">------- Hoàn thành bước: objective_interpreter -------</span>\n",
       "</pre>\n"
      ],
      "text/plain": [
       "\n",
       "\u001b[1;33m------- Hoàn thành bước: objective_interpreter -------\u001b[0m\n"
      ]
     },
     "metadata": {},
     "output_type": "display_data"
    },
    {
     "data": {
      "text/html": [
       "<pre style=\"white-space:pre;overflow-x:auto;line-height:normal;font-family:Menlo,'DejaVu Sans Mono',consolas,'Courier New',monospace\">\n",
       "<span style=\"color: #008080; text-decoration-color: #008080; font-weight: bold\">&gt;</span> `Agent: Domain Classifier` <span style=\"font-weight: bold\">(</span>v7.<span style=\"color: #008080; text-decoration-color: #008080; font-weight: bold\">5</span><span style=\"font-weight: bold\">)</span> đang xác định lĩnh vực chuyên môn<span style=\"color: #808000; text-decoration-color: #808000\">...</span>\n",
       "</pre>\n"
      ],
      "text/plain": [
       "\n",
       "\u001b[1;36m>\u001b[0m `Agent: Domain Classifier` \u001b[1m(\u001b[0mv7.\u001b[1;36m5\u001b[0m\u001b[1m)\u001b[0m đang xác định lĩnh vực chuyên môn\u001b[33m...\u001b[0m\n"
      ]
     },
     "metadata": {},
     "output_type": "display_data"
    },
    {
     "data": {
      "text/html": [
       "<pre style=\"white-space:pre;overflow-x:auto;line-height:normal;font-family:Menlo,'DejaVu Sans Mono',consolas,'Courier New',monospace\"><span style=\"color: #008000; text-decoration-color: #008000; font-weight: bold\">✔️ Lĩnh vực chuyên môn được xác định:</span>\n",
       "</pre>\n"
      ],
      "text/plain": [
       "\u001b[1;32m✔️ Lĩnh vực chuyên môn được xác định:\u001b[0m\n"
      ]
     },
     "metadata": {},
     "output_type": "display_data"
    },
    {
     "data": {
      "text/html": [
       "<pre style=\"white-space:pre;overflow-x:auto;line-height:normal;font-family:Menlo,'DejaVu Sans Mono',consolas,'Courier New',monospace\"><span style=\"color: #008000; text-decoration-color: #008000\">'Toán học'</span>\n",
       "</pre>\n"
      ],
      "text/plain": [
       "\u001b[32m'Toán học'\u001b[0m\n"
      ]
     },
     "metadata": {},
     "output_type": "display_data"
    },
    {
     "data": {
      "text/html": [
       "<pre style=\"white-space:pre;overflow-x:auto;line-height:normal;font-family:Menlo,'DejaVu Sans Mono',consolas,'Courier New',monospace\">\n",
       "<span style=\"color: #808000; text-decoration-color: #808000; font-weight: bold\">------- Hoàn thành bước: domain_classifier -------</span>\n",
       "</pre>\n"
      ],
      "text/plain": [
       "\n",
       "\u001b[1;33m------- Hoàn thành bước: domain_classifier -------\u001b[0m\n"
      ]
     },
     "metadata": {},
     "output_type": "display_data"
    },
    {
     "data": {
      "text/html": [
       "<pre style=\"white-space:pre;overflow-x:auto;line-height:normal;font-family:Menlo,'DejaVu Sans Mono',consolas,'Courier New',monospace\">\n",
       "<span style=\"color: #008080; text-decoration-color: #008080; font-weight: bold\">&gt;</span> `Agent: Differentiated Instruction Advisor` <span style=\"font-weight: bold\">(</span>v9.<span style=\"color: #008080; text-decoration-color: #008080; font-weight: bold\">1</span><span style=\"font-weight: bold\">)</span> đang phân tích và đề xuất chiến lược phân hóa<span style=\"color: #808000; text-decoration-color: #808000\">...</span>\n",
       "</pre>\n"
      ],
      "text/plain": [
       "\n",
       "\u001b[1;36m>\u001b[0m `Agent: Differentiated Instruction Advisor` \u001b[1m(\u001b[0mv9.\u001b[1;36m1\u001b[0m\u001b[1m)\u001b[0m đang phân tích và đề xuất chiến lược phân hóa\u001b[33m...\u001b[0m\n"
      ]
     },
     "metadata": {},
     "output_type": "display_data"
    },
    {
     "data": {
      "text/html": [
       "<pre style=\"white-space:pre;overflow-x:auto;line-height:normal;font-family:Menlo,'DejaVu Sans Mono',consolas,'Courier New',monospace\"><span style=\"color: #008000; text-decoration-color: #008000; font-weight: bold\">✔️ Hồ sơ lớp học và Chiến lược Phân hóa:</span>\n",
       "</pre>\n"
      ],
      "text/plain": [
       "\u001b[1;32m✔️ Hồ sơ lớp học và Chiến lược Phân hóa:\u001b[0m\n"
      ]
     },
     "metadata": {},
     "output_type": "display_data"
    },
    {
     "data": {
      "text/html": [
       "<pre style=\"white-space:pre;overflow-x:auto;line-height:normal;font-family:Menlo,'DejaVu Sans Mono',consolas,'Courier New',monospace\"><span style=\"font-weight: bold\">{</span>\n",
       "<span style=\"color: #7fbf7f; text-decoration-color: #7fbf7f\">│   </span><span style=\"color: #008000; text-decoration-color: #008000\">'learning_pace'</span>: <span style=\"color: #008000; text-decoration-color: #008000\">'chậm'</span>,\n",
       "<span style=\"color: #7fbf7f; text-decoration-color: #7fbf7f\">│   </span><span style=\"color: #008000; text-decoration-color: #008000\">'engagement_style'</span>: <span style=\"color: #008000; text-decoration-color: #008000\">'thụ động'</span>,\n",
       "<span style=\"color: #7fbf7f; text-decoration-color: #7fbf7f\">│   </span><span style=\"color: #008000; text-decoration-color: #008000\">'special_notes'</span>: <span style=\"color: #008000; text-decoration-color: #008000\">'Lớp học khá yếu, học sinh thường mất tập trung và cần các hoạt động có tính tương tác cao để duy trì sự chú ý và hứng thú học tập.'</span>,\n",
       "<span style=\"color: #7fbf7f; text-decoration-color: #7fbf7f\">│   </span><span style=\"color: #008000; text-decoration-color: #008000\">'differentiation_strategy'</span>: <span style=\"font-weight: bold\">{</span>\n",
       "<span style=\"color: #7fbf7f; text-decoration-color: #7fbf7f\">│   │   </span><span style=\"color: #008000; text-decoration-color: #008000\">'for_struggling_students'</span>: <span style=\"color: #008000; text-decoration-color: #008000\">'Chia nhỏ kiến thức thành các phần rất nhỏ, sử dụng nhiều ví dụ minh họa trực quan và vật thật (nếu có), cung cấp phiếu bài tập có gợi ý công thức và các bước giải mẫu, thường xuyên kiểm tra nhanh sự hiểu bài và củng cố kiến thức ngay lập tức. Tổ chức các hoạt động nhóm nhỏ để học sinh yếu có cơ hội được hỗ trợ từ bạn bè và giáo viên.'</span>,\n",
       "<span style=\"color: #7fbf7f; text-decoration-color: #7fbf7f\">│   │   </span><span style=\"color: #008000; text-decoration-color: #008000\">'for_advanced_students'</span>: <span style=\"color: #008000; text-decoration-color: #008000\">\"Giao các bài tập mở rộng có tính ứng dụng thực tế hoặc yêu cầu tư duy phản biện (ví dụ: 'Xác định phương trình mặt cầu trong không gian Oxyz khi biết các điều kiện phức tạp hơn'), khuyến khích các em tự tìm tòi các dạng bài nâng cao hoặc giải thích bài toán cho các bạn trong nhóm. Chuẩn bị các câu hỏi 'Tại sao?' và 'Nếu... thì sao?' để kích thích tư duy sâu hơn.\"</span>\n",
       "<span style=\"color: #7fbf7f; text-decoration-color: #7fbf7f\">│   </span><span style=\"font-weight: bold\">}</span>\n",
       "<span style=\"font-weight: bold\">}</span>\n",
       "</pre>\n"
      ],
      "text/plain": [
       "\u001b[1m{\u001b[0m\n",
       "\u001b[2;32m│   \u001b[0m\u001b[32m'learning_pace'\u001b[0m: \u001b[32m'chậm'\u001b[0m,\n",
       "\u001b[2;32m│   \u001b[0m\u001b[32m'engagement_style'\u001b[0m: \u001b[32m'thụ động'\u001b[0m,\n",
       "\u001b[2;32m│   \u001b[0m\u001b[32m'special_notes'\u001b[0m: \u001b[32m'Lớp học khá yếu, học sinh thường mất tập trung và cần các hoạt động có tính tương tác cao để duy trì sự chú ý và hứng thú học tập.'\u001b[0m,\n",
       "\u001b[2;32m│   \u001b[0m\u001b[32m'differentiation_strategy'\u001b[0m: \u001b[1m{\u001b[0m\n",
       "\u001b[2;32m│   │   \u001b[0m\u001b[32m'for_struggling_students'\u001b[0m: \u001b[32m'Chia nhỏ kiến thức thành các phần rất nhỏ, sử dụng nhiều ví dụ minh họa trực quan và vật thật \u001b[0m\u001b[32m(\u001b[0m\u001b[32mnếu có\u001b[0m\u001b[32m)\u001b[0m\u001b[32m, cung cấp phiếu bài tập có gợi ý công thức và các bước giải mẫu, thường xuyên kiểm tra nhanh sự hiểu bài và củng cố kiến thức ngay lập tức. Tổ chức các hoạt động nhóm nhỏ để học sinh yếu có cơ hội được hỗ trợ từ bạn bè và giáo viên.'\u001b[0m,\n",
       "\u001b[2;32m│   │   \u001b[0m\u001b[32m'for_advanced_students'\u001b[0m: \u001b[32m\"Giao các bài tập mở rộng có tính ứng dụng thực tế hoặc yêu cầu tư duy phản biện \u001b[0m\u001b[32m(\u001b[0m\u001b[32mví dụ: 'Xác định phương trình mặt cầu trong không gian Oxyz khi biết các điều kiện phức tạp hơn'\u001b[0m\u001b[32m)\u001b[0m\u001b[32m, khuyến khích các em tự tìm tòi các dạng bài nâng cao hoặc giải thích bài toán cho các bạn trong nhóm. Chuẩn bị các câu hỏi 'Tại sao?' và 'Nếu... thì sao?' để kích thích tư duy sâu hơn.\"\u001b[0m\n",
       "\u001b[2;32m│   \u001b[0m\u001b[1m}\u001b[0m\n",
       "\u001b[1m}\u001b[0m\n"
      ]
     },
     "metadata": {},
     "output_type": "display_data"
    },
    {
     "data": {
      "text/html": [
       "<pre style=\"white-space:pre;overflow-x:auto;line-height:normal;font-family:Menlo,'DejaVu Sans Mono',consolas,'Courier New',monospace\">\n",
       "<span style=\"color: #808000; text-decoration-color: #808000; font-weight: bold\">------- Hoàn thành bước: differentiated_instruction_advisor -------</span>\n",
       "</pre>\n"
      ],
      "text/plain": [
       "\n",
       "\u001b[1;33m------- Hoàn thành bước: differentiated_instruction_advisor -------\u001b[0m\n"
      ]
     },
     "metadata": {},
     "output_type": "display_data"
    },
    {
     "data": {
      "text/html": [
       "<pre style=\"white-space:pre;overflow-x:auto;line-height:normal;font-family:Menlo,'DejaVu Sans Mono',consolas,'Courier New',monospace\">\n",
       "<span style=\"color: #008080; text-decoration-color: #008080; font-weight: bold\">&gt;</span> `Agent: Pedagogy Strategist` <span style=\"font-weight: bold\">(</span>v7.<span style=\"color: #008080; text-decoration-color: #008080; font-weight: bold\">5</span><span style=\"font-weight: bold\">)</span> đang xây dựng chiến lược sư phạm chi tiết<span style=\"color: #808000; text-decoration-color: #808000\">...</span>\n",
       "</pre>\n"
      ],
      "text/plain": [
       "\n",
       "\u001b[1;36m>\u001b[0m `Agent: Pedagogy Strategist` \u001b[1m(\u001b[0mv7.\u001b[1;36m5\u001b[0m\u001b[1m)\u001b[0m đang xây dựng chiến lược sư phạm chi tiết\u001b[33m...\u001b[0m\n"
      ]
     },
     "metadata": {},
     "output_type": "display_data"
    },
    {
     "data": {
      "text/html": [
       "<pre style=\"white-space:pre;overflow-x:auto;line-height:normal;font-family:Menlo,'DejaVu Sans Mono',consolas,'Courier New',monospace\"><span style=\"color: #008000; text-decoration-color: #008000; font-weight: bold\">✔️ Chiến lược sư phạm chi tiết:</span>\n",
       "</pre>\n"
      ],
      "text/plain": [
       "\u001b[1;32m✔️ Chiến lược sư phạm chi tiết:\u001b[0m\n"
      ]
     },
     "metadata": {},
     "output_type": "display_data"
    },
    {
     "data": {
      "text/html": [
       "<pre style=\"white-space:pre;overflow-x:auto;line-height:normal;font-family:Menlo,'DejaVu Sans Mono',consolas,'Courier New',monospace\"><span style=\"font-weight: bold\">{</span>\n",
       "<span style=\"color: #7fbf7f; text-decoration-color: #7fbf7f\">│   </span><span style=\"color: #008000; text-decoration-color: #008000\">'name'</span>: <span style=\"color: #008000; text-decoration-color: #008000\">'Dạy học hợp tác (Cooperative Learning)'</span>,\n",
       "<span style=\"color: #7fbf7f; text-decoration-color: #7fbf7f\">│   </span><span style=\"color: #008000; text-decoration-color: #008000\">'rationale'</span>: <span style=\"color: #008000; text-decoration-color: #008000\">'Phương pháp Dạy học hợp tác là lựa chọn tối ưu cho lớp học có tốc độ học chậm, học sinh thụ động và dễ mất tập trung. Nó khuyến khích sự tương tác cao, giúp học sinh yếu nhận được sự hỗ trợ trực tiếp từ bạn bè và giáo viên, đồng thời tạo cơ hội cho học sinh khá giỏi củng cố kiến thức bằng cách giải thích cho người khác. Việc làm việc nhóm giúp duy trì sự chú ý và hứng thú học tập, giảm bớt áp lực cá nhân, đồng thời rèn luyện kỹ năng giải quyết vấn đề và giao tiếp. Các hoạt động nhóm nhỏ cũng tạo điều kiện thuận lợi để giáo viên thực hiện chiến lược phân hóa, cung cấp sự hỗ trợ kịp thời cho học sinh yếu và thử thách học sinh giỏi với các bài tập mở rộng.'</span>,\n",
       "<span style=\"color: #7fbf7f; text-decoration-color: #7fbf7f\">│   </span><span style=\"color: #008000; text-decoration-color: #008000\">'key_actions'</span>: <span style=\"font-weight: bold\">[</span>\n",
       "<span style=\"color: #7fbf7f; text-decoration-color: #7fbf7f\">│   │   </span><span style=\"color: #008000; text-decoration-color: #008000\">'Tổ chức nhóm học tập: Chia lớp thành các nhóm nhỏ (3-4 học sinh), đa dạng về năng lực (có cả học sinh khá, giỏi và yếu) để tối ưu hóa sự hỗ trợ lẫn nhau.'</span>,\n",
       "<span style=\"color: #7fbf7f; text-decoration-color: #7fbf7f\">│   │   </span><span style=\"color: #008000; text-decoration-color: #008000\">'Giao nhiệm vụ học tập cụ thể: Cung cấp các phiếu bài tập được thiết kế theo từng bước nhỏ, từ nhận diện các yếu tố của mặt cầu đến viết phương trình mặt cầu trong các trường hợp cơ bản và nâng cao dần. Các phiếu này có thể bao gồm gợi ý công thức hoặc ví dụ mẫu.'</span>,\n",
       "<span style=\"color: #7fbf7f; text-decoration-color: #7fbf7f\">│   │   </span><span style=\"color: #008000; text-decoration-color: #008000\">'Học sinh làm việc nhóm: Các thành viên trong nhóm cùng nhau thảo luận, phân công nhiệm vụ, tìm tòi cách giải quyết các bài toán về phương trình mặt cầu và hỗ trợ lẫn nhau để hoàn thành nhiệm vụ.'</span>,\n",
       "<span style=\"color: #7fbf7f; text-decoration-color: #7fbf7f\">│   │   </span><span style=\"color: #008000; text-decoration-color: #008000\">'Giáo viên quan sát và hỗ trợ: Giáo viên di chuyển giữa các nhóm, lắng nghe các cuộc thảo luận, kịp thời giải đáp thắc mắc, đưa ra gợi ý khi cần thiết và kiểm tra nhanh sự hiểu bài của từng nhóm.'</span>,\n",
       "<span style=\"color: #7fbf7f; text-decoration-color: #7fbf7f\">│   │   </span><span style=\"color: #008000; text-decoration-color: #008000\">'Trình bày và chia sẻ kết quả: Đại diện các nhóm trình bày sản phẩm hoặc lời giải của mình trước lớp. Giáo viên khuyến khích các nhóm khác đặt câu hỏi hoặc bổ sung ý kiến.'</span>,\n",
       "<span style=\"color: #7fbf7f; text-decoration-color: #7fbf7f\">│   │   </span><span style=\"color: #008000; text-decoration-color: #008000\">'Thảo luận chung và củng cố: Cả lớp cùng thảo luận về các phương án giải quyết, giáo viên chốt lại kiến thức trọng tâm, sửa chữa các lỗi sai phổ biến và tổng kết các dạng bài tập cơ bản về phương trình mặt cầu.'</span>\n",
       "<span style=\"color: #7fbf7f; text-decoration-color: #7fbf7f\">│   </span><span style=\"font-weight: bold\">]</span>\n",
       "<span style=\"font-weight: bold\">}</span>\n",
       "</pre>\n"
      ],
      "text/plain": [
       "\u001b[1m{\u001b[0m\n",
       "\u001b[2;32m│   \u001b[0m\u001b[32m'name'\u001b[0m: \u001b[32m'Dạy học hợp tác \u001b[0m\u001b[32m(\u001b[0m\u001b[32mCooperative Learning\u001b[0m\u001b[32m)\u001b[0m\u001b[32m'\u001b[0m,\n",
       "\u001b[2;32m│   \u001b[0m\u001b[32m'rationale'\u001b[0m: \u001b[32m'Phương pháp Dạy học hợp tác là lựa chọn tối ưu cho lớp học có tốc độ học chậm, học sinh thụ động và dễ mất tập trung. Nó khuyến khích sự tương tác cao, giúp học sinh yếu nhận được sự hỗ trợ trực tiếp từ bạn bè và giáo viên, đồng thời tạo cơ hội cho học sinh khá giỏi củng cố kiến thức bằng cách giải thích cho người khác. Việc làm việc nhóm giúp duy trì sự chú ý và hứng thú học tập, giảm bớt áp lực cá nhân, đồng thời rèn luyện kỹ năng giải quyết vấn đề và giao tiếp. Các hoạt động nhóm nhỏ cũng tạo điều kiện thuận lợi để giáo viên thực hiện chiến lược phân hóa, cung cấp sự hỗ trợ kịp thời cho học sinh yếu và thử thách học sinh giỏi với các bài tập mở rộng.'\u001b[0m,\n",
       "\u001b[2;32m│   \u001b[0m\u001b[32m'key_actions'\u001b[0m: \u001b[1m[\u001b[0m\n",
       "\u001b[2;32m│   │   \u001b[0m\u001b[32m'Tổ chức nhóm học tập: Chia lớp thành các nhóm nhỏ \u001b[0m\u001b[32m(\u001b[0m\u001b[32m3-4 học sinh\u001b[0m\u001b[32m)\u001b[0m\u001b[32m, đa dạng về năng lực \u001b[0m\u001b[32m(\u001b[0m\u001b[32mcó cả học sinh khá, giỏi và yếu\u001b[0m\u001b[32m)\u001b[0m\u001b[32m để tối ưu hóa sự hỗ trợ lẫn nhau.'\u001b[0m,\n",
       "\u001b[2;32m│   │   \u001b[0m\u001b[32m'Giao nhiệm vụ học tập cụ thể: Cung cấp các phiếu bài tập được thiết kế theo từng bước nhỏ, từ nhận diện các yếu tố của mặt cầu đến viết phương trình mặt cầu trong các trường hợp cơ bản và nâng cao dần. Các phiếu này có thể bao gồm gợi ý công thức hoặc ví dụ mẫu.'\u001b[0m,\n",
       "\u001b[2;32m│   │   \u001b[0m\u001b[32m'Học sinh làm việc nhóm: Các thành viên trong nhóm cùng nhau thảo luận, phân công nhiệm vụ, tìm tòi cách giải quyết các bài toán về phương trình mặt cầu và hỗ trợ lẫn nhau để hoàn thành nhiệm vụ.'\u001b[0m,\n",
       "\u001b[2;32m│   │   \u001b[0m\u001b[32m'Giáo viên quan sát và hỗ trợ: Giáo viên di chuyển giữa các nhóm, lắng nghe các cuộc thảo luận, kịp thời giải đáp thắc mắc, đưa ra gợi ý khi cần thiết và kiểm tra nhanh sự hiểu bài của từng nhóm.'\u001b[0m,\n",
       "\u001b[2;32m│   │   \u001b[0m\u001b[32m'Trình bày và chia sẻ kết quả: Đại diện các nhóm trình bày sản phẩm hoặc lời giải của mình trước lớp. Giáo viên khuyến khích các nhóm khác đặt câu hỏi hoặc bổ sung ý kiến.'\u001b[0m,\n",
       "\u001b[2;32m│   │   \u001b[0m\u001b[32m'Thảo luận chung và củng cố: Cả lớp cùng thảo luận về các phương án giải quyết, giáo viên chốt lại kiến thức trọng tâm, sửa chữa các lỗi sai phổ biến và tổng kết các dạng bài tập cơ bản về phương trình mặt cầu.'\u001b[0m\n",
       "\u001b[2;32m│   \u001b[0m\u001b[1m]\u001b[0m\n",
       "\u001b[1m}\u001b[0m\n"
      ]
     },
     "metadata": {},
     "output_type": "display_data"
    },
    {
     "data": {
      "text/html": [
       "<pre style=\"white-space:pre;overflow-x:auto;line-height:normal;font-family:Menlo,'DejaVu Sans Mono',consolas,'Courier New',monospace\">\n",
       "<span style=\"color: #808000; text-decoration-color: #808000; font-weight: bold\">------- Hoàn thành bước: pedagogy_strategist -------</span>\n",
       "</pre>\n"
      ],
      "text/plain": [
       "\n",
       "\u001b[1;33m------- Hoàn thành bước: pedagogy_strategist -------\u001b[0m\n"
      ]
     },
     "metadata": {},
     "output_type": "display_data"
    },
    {
     "data": {
      "text/html": [
       "<pre style=\"white-space:pre;overflow-x:auto;line-height:normal;font-family:Menlo,'DejaVu Sans Mono',consolas,'Courier New',monospace\">\n",
       "<span style=\"color: #008080; text-decoration-color: #008080; font-weight: bold\">&gt;</span> `Agent: Pedagogical Architect` <span style=\"font-weight: bold\">(</span>v9.<span style=\"color: #008080; text-decoration-color: #008080; font-weight: bold\">4</span><span style=\"font-weight: bold\">)</span> đang thiết kế kịch bản buổi học<span style=\"color: #808000; text-decoration-color: #808000\">...</span>\n",
       "</pre>\n"
      ],
      "text/plain": [
       "\n",
       "\u001b[1;36m>\u001b[0m `Agent: Pedagogical Architect` \u001b[1m(\u001b[0mv9.\u001b[1;36m4\u001b[0m\u001b[1m)\u001b[0m đang thiết kế kịch bản buổi học\u001b[33m...\u001b[0m\n"
      ]
     },
     "metadata": {},
     "output_type": "display_data"
    },
    {
     "data": {
      "text/html": [
       "<pre style=\"white-space:pre;overflow-x:auto;line-height:normal;font-family:Menlo,'DejaVu Sans Mono',consolas,'Courier New',monospace\"><span style=\"color: #008000; text-decoration-color: #008000; font-weight: bold\">✔️ Bản thiết kế Sư phạm đã được tạo:</span>\n",
       "</pre>\n"
      ],
      "text/plain": [
       "\u001b[1;32m✔️ Bản thiết kế Sư phạm đã được tạo:\u001b[0m\n"
      ]
     },
     "metadata": {},
     "output_type": "display_data"
    },
    {
     "data": {
      "text/html": [
       "<pre style=\"white-space:pre;overflow-x:auto;line-height:normal;font-family:Menlo,'DejaVu Sans Mono',consolas,'Courier New',monospace\"><span style=\"font-weight: bold\">[</span>\n",
       "<span style=\"color: #7fbf7f; text-decoration-color: #7fbf7f\">│   </span><span style=\"color: #008000; text-decoration-color: #008000\">'Khởi động và Khám phá Khái niệm Mặt cầu: Giáo viên sử dụng các vật thể thực tế (quả bóng, quả địa cầu, đĩa CD, vòng tròn) để học sinh quan sát, cầm nắm và thảo luận nhóm nhỏ (3-4 học sinh) về sự khác biệt giữa mặt cầu và hình tròn. Giáo viên đặt câu hỏi gợi mở, khuyến khích học sinh chia sẻ nhận định và tổng kết khái niệm cơ bản về mặt cầu.'</span>,\n",
       "<span style=\"color: #7fbf7f; text-decoration-color: #7fbf7f\">│   </span><span style=\"color: #008000; text-decoration-color: #008000\">'Xây dựng và Thực hành Phương trình Mặt cầu Dạng Chính tắc: Giáo viên giới thiệu công thức phương trình mặt cầu dạng chính tắc (tâm I(a,b,c), bán kính R). Học sinh làm việc theo nhóm nhỏ để thực hành viết phương trình mặt cầu khi biết tâm và bán kính, hoặc xác định tâm và bán kính từ phương trình cho trước. Giáo viên đi lại quan sát, hỗ trợ các nhóm yếu bằng cách cung cấp gợi ý công thức và các bước giải mẫu, đồng thời khuyến khích nhóm khá/giỏi giải thích cho bạn.'</span>,\n",
       "<span style=\"color: #7fbf7f; text-decoration-color: #7fbf7f\">│   </span><span style=\"color: #008000; text-decoration-color: #008000\">'Khám phá và Luyện tập Phương trình Mặt cầu Dạng Khai triển: Giáo viên hướng dẫn cách chuyển đổi từ phương trình mặt cầu dạng khai triển sang dạng chính tắc và ngược lại, cũng như cách xác định tâm, bán kính và điều kiện để một phương trình là phương trình mặt cầu. Học sinh tiếp tục làm việc nhóm với các bài tập có độ khó tăng dần, bao gồm cả việc tìm điều kiện của tham số để phương trình là mặt cầu. Giáo viên tập trung hỗ trợ các nhóm gặp khó khăn trong việc biến đổi đại số và khuyến khích học sinh giỏi thử sức với các bài toán có tham số.'</span>,\n",
       "<span style=\"color: #7fbf7f; text-decoration-color: #7fbf7f\">│   </span><span style=\"color: #008000; text-decoration-color: #008000\">'Vận dụng và Giải quyết Bài toán Tổng hợp: Giáo viên đưa ra một bài toán tổng hợp có tính ứng dụng thực tế hoặc yêu cầu tư duy phản biện (ví dụ: tìm phương trình mặt cầu đi qua 4 điểm, hoặc mặt cầu tiếp xúc với mặt phẳng). Học sinh làm việc theo nhóm để phân tích đề bài, lập kế hoạch giải và trình bày lời giải. Giáo viên chỉ đóng vai trò gợi ý, không giải trực tiếp, khuyến khích các nhóm tự tìm tòi và thảo luận sâu. Các nhóm khá/giỏi có thể được giao thêm các bài toán mở rộng phức tạp hơn.'</span>,\n",
       "<span style=\"color: #7fbf7f; text-decoration-color: #7fbf7f\">│   </span><span style=\"color: #008000; text-decoration-color: #008000\">'Tổng kết Kiến thức và Định hướng Mở rộng: Giáo viên cùng học sinh tổng kết các kiến thức trọng tâm đã học về phương trình mặt cầu (khái niệm, dạng chính tắc, dạng khai triển, cách xác định tâm/bán kính, điều kiện). Giáo viên đặt câu hỏi mở để học sinh liên hệ kiến thức với thực tế hoặc các chủ đề khác, đồng thời định hướng các nội dung mở rộng hoặc bài tập về nhà. Khuyến khích học sinh đặt câu hỏi về những điểm còn thắc mắc hoặc muốn tìm hiểu sâu hơn.'</span>\n",
       "<span style=\"font-weight: bold\">]</span>\n",
       "</pre>\n"
      ],
      "text/plain": [
       "\u001b[1m[\u001b[0m\n",
       "\u001b[2;32m│   \u001b[0m\u001b[32m'Khởi động và Khám phá Khái niệm Mặt cầu: Giáo viên sử dụng các vật thể thực tế \u001b[0m\u001b[32m(\u001b[0m\u001b[32mquả bóng, quả địa cầu, đĩa CD, vòng tròn\u001b[0m\u001b[32m)\u001b[0m\u001b[32m để học sinh quan sát, cầm nắm và thảo luận nhóm nhỏ \u001b[0m\u001b[32m(\u001b[0m\u001b[32m3-4 học sinh\u001b[0m\u001b[32m)\u001b[0m\u001b[32m về sự khác biệt giữa mặt cầu và hình tròn. Giáo viên đặt câu hỏi gợi mở, khuyến khích học sinh chia sẻ nhận định và tổng kết khái niệm cơ bản về mặt cầu.'\u001b[0m,\n",
       "\u001b[2;32m│   \u001b[0m\u001b[32m'Xây dựng và Thực hành Phương trình Mặt cầu Dạng Chính tắc: Giáo viên giới thiệu công thức phương trình mặt cầu dạng chính tắc \u001b[0m\u001b[32m(\u001b[0m\u001b[32mtâm I\u001b[0m\u001b[32m(\u001b[0m\u001b[32ma,b,c\u001b[0m\u001b[32m)\u001b[0m\u001b[32m, bán kính R\u001b[0m\u001b[32m)\u001b[0m\u001b[32m. Học sinh làm việc theo nhóm nhỏ để thực hành viết phương trình mặt cầu khi biết tâm và bán kính, hoặc xác định tâm và bán kính từ phương trình cho trước. Giáo viên đi lại quan sát, hỗ trợ các nhóm yếu bằng cách cung cấp gợi ý công thức và các bước giải mẫu, đồng thời khuyến khích nhóm khá/giỏi giải thích cho bạn.'\u001b[0m,\n",
       "\u001b[2;32m│   \u001b[0m\u001b[32m'Khám phá và Luyện tập Phương trình Mặt cầu Dạng Khai triển: Giáo viên hướng dẫn cách chuyển đổi từ phương trình mặt cầu dạng khai triển sang dạng chính tắc và ngược lại, cũng như cách xác định tâm, bán kính và điều kiện để một phương trình là phương trình mặt cầu. Học sinh tiếp tục làm việc nhóm với các bài tập có độ khó tăng dần, bao gồm cả việc tìm điều kiện của tham số để phương trình là mặt cầu. Giáo viên tập trung hỗ trợ các nhóm gặp khó khăn trong việc biến đổi đại số và khuyến khích học sinh giỏi thử sức với các bài toán có tham số.'\u001b[0m,\n",
       "\u001b[2;32m│   \u001b[0m\u001b[32m'Vận dụng và Giải quyết Bài toán Tổng hợp: Giáo viên đưa ra một bài toán tổng hợp có tính ứng dụng thực tế hoặc yêu cầu tư duy phản biện \u001b[0m\u001b[32m(\u001b[0m\u001b[32mví dụ: tìm phương trình mặt cầu đi qua 4 điểm, hoặc mặt cầu tiếp xúc với mặt phẳng\u001b[0m\u001b[32m)\u001b[0m\u001b[32m. Học sinh làm việc theo nhóm để phân tích đề bài, lập kế hoạch giải và trình bày lời giải. Giáo viên chỉ đóng vai trò gợi ý, không giải trực tiếp, khuyến khích các nhóm tự tìm tòi và thảo luận sâu. Các nhóm khá/giỏi có thể được giao thêm các bài toán mở rộng phức tạp hơn.'\u001b[0m,\n",
       "\u001b[2;32m│   \u001b[0m\u001b[32m'Tổng kết Kiến thức và Định hướng Mở rộng: Giáo viên cùng học sinh tổng kết các kiến thức trọng tâm đã học về phương trình mặt cầu \u001b[0m\u001b[32m(\u001b[0m\u001b[32mkhái niệm, dạng chính tắc, dạng khai triển, cách xác định tâm/bán kính, điều kiện\u001b[0m\u001b[32m)\u001b[0m\u001b[32m. Giáo viên đặt câu hỏi mở để học sinh liên hệ kiến thức với thực tế hoặc các chủ đề khác, đồng thời định hướng các nội dung mở rộng hoặc bài tập về nhà. Khuyến khích học sinh đặt câu hỏi về những điểm còn thắc mắc hoặc muốn tìm hiểu sâu hơn.'\u001b[0m\n",
       "\u001b[1m]\u001b[0m\n"
      ]
     },
     "metadata": {},
     "output_type": "display_data"
    },
    {
     "data": {
      "text/html": [
       "<pre style=\"white-space:pre;overflow-x:auto;line-height:normal;font-family:Menlo,'DejaVu Sans Mono',consolas,'Courier New',monospace\">\n",
       "<span style=\"color: #808000; text-decoration-color: #808000; font-weight: bold\">------- Hoàn thành bước: pedagogical_architect -------</span>\n",
       "</pre>\n"
      ],
      "text/plain": [
       "\n",
       "\u001b[1;33m------- Hoàn thành bước: pedagogical_architect -------\u001b[0m\n"
      ]
     },
     "metadata": {},
     "output_type": "display_data"
    },
    {
     "data": {
      "text/html": [
       "<pre style=\"white-space:pre;overflow-x:auto;line-height:normal;font-family:Menlo,'DejaVu Sans Mono',consolas,'Courier New',monospace\">\n",
       "<span style=\"color: #008080; text-decoration-color: #008080; font-weight: bold\">&gt;</span> `Agent: Query Expansion` <span style=\"font-weight: bold\">(</span>v7.<span style=\"color: #008080; text-decoration-color: #008080; font-weight: bold\">5</span><span style=\"font-weight: bold\">)</span> đang phân tích yêu cầu<span style=\"color: #808000; text-decoration-color: #808000\">...</span>\n",
       "</pre>\n"
      ],
      "text/plain": [
       "\n",
       "\u001b[1;36m>\u001b[0m `Agent: Query Expansion` \u001b[1m(\u001b[0mv7.\u001b[1;36m5\u001b[0m\u001b[1m)\u001b[0m đang phân tích yêu cầu\u001b[33m...\u001b[0m\n"
      ]
     },
     "metadata": {},
     "output_type": "display_data"
    },
    {
     "data": {
      "text/html": [
       "<pre style=\"white-space:pre;overflow-x:auto;line-height:normal;font-family:Menlo,'DejaVu Sans Mono',consolas,'Courier New',monospace\"><span style=\"color: #008000; text-decoration-color: #008000; font-weight: bold\">✔️ Các truy vấn tìm kiếm đã được mở rộng:</span>\n",
       "</pre>\n"
      ],
      "text/plain": [
       "\u001b[1;32m✔️ Các truy vấn tìm kiếm đã được mở rộng:\u001b[0m\n"
      ]
     },
     "metadata": {},
     "output_type": "display_data"
    },
    {
     "data": {
      "text/html": [
       "<pre style=\"white-space:pre;overflow-x:auto;line-height:normal;font-family:Menlo,'DejaVu Sans Mono',consolas,'Courier New',monospace\"><span style=\"font-weight: bold\">[</span>\n",
       "<span style=\"color: #7fbf7f; text-decoration-color: #7fbf7f\">│   </span><span style=\"color: #008000; text-decoration-color: #008000\">'Lý thuyết phương trình mặt cầu lớp 12'</span>,\n",
       "<span style=\"color: #7fbf7f; text-decoration-color: #7fbf7f\">│   </span><span style=\"color: #008000; text-decoration-color: #008000\">'Bài tập phương trình mặt cầu toán 12 có lời giải'</span>,\n",
       "<span style=\"color: #7fbf7f; text-decoration-color: #7fbf7f\">│   </span><span style=\"color: #008000; text-decoration-color: #008000\">'Công thức phương trình mặt cầu lớp 12 đầy đủ'</span>,\n",
       "<span style=\"color: #7fbf7f; text-decoration-color: #7fbf7f\">│   </span><span style=\"color: #008000; text-decoration-color: #008000\">'Các dạng bài tập phương trình mặt cầu lớp 12'</span>,\n",
       "<span style=\"color: #7fbf7f; text-decoration-color: #7fbf7f\">│   </span><span style=\"color: #008000; text-decoration-color: #008000\">'Chuyên đề phương trình mặt cầu ôn thi THPT Quốc gia lớp 12'</span>,\n",
       "<span style=\"color: #7fbf7f; text-decoration-color: #7fbf7f\">│   </span><span style=\"color: #008000; text-decoration-color: #008000\">'Trắc nghiệm phương trình mặt cầu lớp 12 có đáp án'</span>,\n",
       "<span style=\"color: #7fbf7f; text-decoration-color: #7fbf7f\">│   </span><span style=\"color: #008000; text-decoration-color: #008000\">'Cách viết phương trình mặt cầu lớp 12'</span>,\n",
       "<span style=\"color: #7fbf7f; text-decoration-color: #7fbf7f\">│   </span><span style=\"color: #008000; text-decoration-color: #008000\">'Vị trí tương đối giữa mặt phẳng và mặt cầu lớp 12'</span>,\n",
       "<span style=\"color: #7fbf7f; text-decoration-color: #7fbf7f\">│   </span><span style=\"color: #008000; text-decoration-color: #008000\">'Phương trình mặt cầu đi qua 4 điểm lớp 12'</span>,\n",
       "<span style=\"color: #7fbf7f; text-decoration-color: #7fbf7f\">│   </span><span style=\"color: #008000; text-decoration-color: #008000\">'Tổng hợp kiến thức phương trình mặt cầu lớp 12'</span>\n",
       "<span style=\"font-weight: bold\">]</span>\n",
       "</pre>\n"
      ],
      "text/plain": [
       "\u001b[1m[\u001b[0m\n",
       "\u001b[2;32m│   \u001b[0m\u001b[32m'Lý thuyết phương trình mặt cầu lớp 12'\u001b[0m,\n",
       "\u001b[2;32m│   \u001b[0m\u001b[32m'Bài tập phương trình mặt cầu toán 12 có lời giải'\u001b[0m,\n",
       "\u001b[2;32m│   \u001b[0m\u001b[32m'Công thức phương trình mặt cầu lớp 12 đầy đủ'\u001b[0m,\n",
       "\u001b[2;32m│   \u001b[0m\u001b[32m'Các dạng bài tập phương trình mặt cầu lớp 12'\u001b[0m,\n",
       "\u001b[2;32m│   \u001b[0m\u001b[32m'Chuyên đề phương trình mặt cầu ôn thi THPT Quốc gia lớp 12'\u001b[0m,\n",
       "\u001b[2;32m│   \u001b[0m\u001b[32m'Trắc nghiệm phương trình mặt cầu lớp 12 có đáp án'\u001b[0m,\n",
       "\u001b[2;32m│   \u001b[0m\u001b[32m'Cách viết phương trình mặt cầu lớp 12'\u001b[0m,\n",
       "\u001b[2;32m│   \u001b[0m\u001b[32m'Vị trí tương đối giữa mặt phẳng và mặt cầu lớp 12'\u001b[0m,\n",
       "\u001b[2;32m│   \u001b[0m\u001b[32m'Phương trình mặt cầu đi qua 4 điểm lớp 12'\u001b[0m,\n",
       "\u001b[2;32m│   \u001b[0m\u001b[32m'Tổng hợp kiến thức phương trình mặt cầu lớp 12'\u001b[0m\n",
       "\u001b[1m]\u001b[0m\n"
      ]
     },
     "metadata": {},
     "output_type": "display_data"
    },
    {
     "data": {
      "text/html": [
       "<pre style=\"white-space:pre;overflow-x:auto;line-height:normal;font-family:Menlo,'DejaVu Sans Mono',consolas,'Courier New',monospace\">\n",
       "<span style=\"color: #808000; text-decoration-color: #808000; font-weight: bold\">------- Hoàn thành bước: query_expansion -------</span>\n",
       "</pre>\n"
      ],
      "text/plain": [
       "\n",
       "\u001b[1;33m------- Hoàn thành bước: query_expansion -------\u001b[0m\n"
      ]
     },
     "metadata": {},
     "output_type": "display_data"
    },
    {
     "data": {
      "text/html": [
       "<pre style=\"white-space:pre;overflow-x:auto;line-height:normal;font-family:Menlo,'DejaVu Sans Mono',consolas,'Courier New',monospace\">\n",
       "<span style=\"color: #008080; text-decoration-color: #008080; font-weight: bold\">&gt;</span> `Agent: Resource Scout` <span style=\"font-weight: bold\">(</span>v8.<span style=\"color: #008080; text-decoration-color: #008080; font-weight: bold\">1</span> - Sửa lỗi<span style=\"font-weight: bold\">)</span> đang tìm kiếm và sàng lọc<span style=\"color: #808000; text-decoration-color: #808000\">...</span>\n",
       "</pre>\n"
      ],
      "text/plain": [
       "\n",
       "\u001b[1;36m>\u001b[0m `Agent: Resource Scout` \u001b[1m(\u001b[0mv8.\u001b[1;36m1\u001b[0m - Sửa lỗi\u001b[1m)\u001b[0m đang tìm kiếm và sàng lọc\u001b[33m...\u001b[0m\n"
      ]
     },
     "metadata": {},
     "output_type": "display_data"
    },
    {
     "data": {
      "text/html": [
       "<pre style=\"white-space:pre;overflow-x:auto;line-height:normal;font-family:Menlo,'DejaVu Sans Mono',consolas,'Courier New',monospace\">\n",
       "<span style=\"color: #008080; text-decoration-color: #008080; font-weight: bold\">&gt;</span> Tìm thấy <span style=\"color: #008080; text-decoration-color: #008080; font-weight: bold\">50</span> tài liệu, sàng lọc còn <span style=\"color: #008080; text-decoration-color: #008080; font-weight: bold\">8</span> đoạn văn bản độc nhất.\n",
       "</pre>\n"
      ],
      "text/plain": [
       "\n",
       "\u001b[1;36m>\u001b[0m Tìm thấy \u001b[1;36m50\u001b[0m tài liệu, sàng lọc còn \u001b[1;36m8\u001b[0m đoạn văn bản độc nhất.\n"
      ]
     },
     "metadata": {},
     "output_type": "display_data"
    },
    {
     "data": {
      "text/html": [
       "<pre style=\"white-space:pre;overflow-x:auto;line-height:normal;font-family:Menlo,'DejaVu Sans Mono',consolas,'Courier New',monospace\"><span style=\"color: #008000; text-decoration-color: #008000; font-weight: bold\">✔️ Tài liệu RAG cuối cùng:</span>\n",
       "</pre>\n"
      ],
      "text/plain": [
       "\u001b[1;32m✔️ Tài liệu RAG cuối cùng:\u001b[0m\n"
      ]
     },
     "metadata": {},
     "output_type": "display_data"
    },
    {
     "data": {
      "text/html": [
       "<pre style=\"white-space:pre;overflow-x:auto;line-height:normal;font-family:Menlo,'DejaVu Sans Mono',consolas,'Courier New',monospace\"><span style=\"font-weight: bold\">{</span>\n",
       "<span style=\"color: #7fbf7f; text-decoration-color: #7fbf7f\">│   </span><span style=\"color: #008000; text-decoration-color: #008000\">'source'</span>: <span style=\"color: #008000; text-decoration-color: #008000\">'Sách giáo khoa (từ RAG - đã sàng lọc)'</span>,\n",
       "<span style=\"color: #7fbf7f; text-decoration-color: #7fbf7f\">│   </span><span style=\"color: #008000; text-decoration-color: #008000\">'summary'</span>: <span style=\"color: #008000; text-decoration-color: #008000\">'Chào các em học sinh thân mến!\\n\\nHôm nay, thầy trò chúng ta cùng nhau tóm tắt lại những kiến thức cốt lõi nhất về **Phương trình mặt cầu** nhé. Đây là một chủ đề rất quan trọng trong hình học không gian Oxyz đấy!\\n\\nĐể nắm vững phương trình mặt cầu, các em cần nhớ những điểm chính sau:\\n\\n*   **1. Các dạng phương trình mặt cầu cơ bản:**\\n    *   **Dạng chính tắc:** Đây là dạng dễ nhận biết nhất, có dạng:\\n        **(x – a)² + (y – b)² + (z – c)² = R²**\\n        Từ phương trình này, chúng ta dễ dàng xác định được ngay:\\n        *   **Tâm I(a; b; c)** của mặt cầu.\\n        *   **Bán kính R** của mặt cầu (là căn bậc hai của vế phải).\\n        *   *Ví dụ:* Với phương trình (x – 1/2)² + (y+1)² + z² = 9, tâm là I(1/2; -1; 0) và bán kính R = 3.\\n    *   **Dạng tổng quát:** Phương trình mặt cầu còn có thể xuất hiện dưới dạng khai triển:\\n        **x² + y² + z² + Ax + By + Cz + D = 0**\\n        Từ dạng này, chúng ta **có thể xác định được tâm và bán kính** của mặt cầu bằng cách biến đổi hoặc áp dụng công thức.\\n        *   *Ví dụ:* x² + y² + z² + 4x – 5y + 6z + 25/4 = 0 là một phương trình mặt cầu dạng tổng quát.\\n\\n*   **2. Điều kiện để một phương trình là phương trình mặt cầu:**\\n    *   Không phải phương trình nào có dạng tổng quát cũng là mặt cầu đâu nhé! Một phương trình dạng x² + y² + z² + Ax + By + Cz + D = 0 chỉ là phương trình mặt cầu khi **bán kính R tính được phải là một số dương (R &gt; 0)**. Nếu R² ≤ 0 thì đó không phải là phương trình mặt cầu.\\n\\n*   **3. Cách viết phương trình mặt cầu:**\\n    *   Để viết phương trình mặt cầu, chúng ta cần biết **tâm I(a; b; c)** và **bán kính R**. Khi có đủ hai yếu tố này, chúng ta chỉ việc thay vào dạng chính tắc là xong!\\n    *   **Đặc biệt:** Bán kính R đôi khi không cho trực tiếp mà được xác định thông qua **khoảng cách từ tâm I đến một mặt phẳng (P)**.\\n\\n*   **4. Công thức tính khoảng cách từ một điểm đến một mặt phẳng:**\\n    *   Đây là một công cụ rất hữu ích khi làm việc với mặt cầu. Khoảng cách từ điểm M(x₀; y₀; z₀) đến mặt phẳng (P): Ax + By + Cz + D = 0 được tính bằng công thức:\\n        **d(M, (P)) = |Ax₀ + By₀ + Cz₀ + D| / √(A² + B² + C²)**\\n    *   *Ví dụ:* Khoảng cách từ M(1;2;–1) đến mặt phẳng (P): x + 2y – 2z + 5 = 0 là d(M, (P)) = |1 + 2⋅2 – 2⋅(–1) + 5| / √(1²+2²+(–2)²) = 4.\\n\\n*   **5. Kiểm tra vị trí của một điểm so với mặt cầu:**\\n    *   Để biết một điểm M có thuộc \"vùng phủ sóng\" của một thiết bị (tức là nằm trong hoặc trên mặt cầu) hay không, chúng ta cần **tính khoảng cách từ điểm M đó đến tâm I của mặt cầu**, sau đó **so sánh với bán kính R**.\\n\\n*   **6. Ứng dụng của phương trình mặt cầu trong thực tiễn:**\\n    *   Tài liệu có đề cập đến \"MỘT SỐ ỨNG DỤNG CỦA PHƯƠNG TRÌNH MẶT CẦU TRONG THỰC TIỄN\" nhưng **không cung cấp thông tin chi tiết về các ứng dụng này**.\\n\\nCác em nhớ ôn tập kỹ những điểm này để làm bài tập thật tốt nhé! Chúc các em học tốt!'</span>\n",
       "<span style=\"font-weight: bold\">}</span>\n",
       "</pre>\n"
      ],
      "text/plain": [
       "\u001b[1m{\u001b[0m\n",
       "\u001b[2;32m│   \u001b[0m\u001b[32m'source'\u001b[0m: \u001b[32m'Sách giáo khoa \u001b[0m\u001b[32m(\u001b[0m\u001b[32mtừ RAG - đã sàng lọc\u001b[0m\u001b[32m)\u001b[0m\u001b[32m'\u001b[0m,\n",
       "\u001b[2;32m│   \u001b[0m\u001b[32m'summary'\u001b[0m: \u001b[32m'Chào các em học sinh thân mến!\\n\\nHôm nay, thầy trò chúng ta cùng nhau tóm tắt lại những kiến thức cốt lõi nhất về **Phương trình mặt cầu** nhé. Đây là một chủ đề rất quan trọng trong hình học không gian Oxyz đấy!\\n\\nĐể nắm vững phương trình mặt cầu, các em cần nhớ những điểm chính sau:\\n\\n*   **1. Các dạng phương trình mặt cầu cơ bản:**\\n    *   **Dạng chính tắc:** Đây là dạng dễ nhận biết nhất, có dạng:\\n        **\u001b[0m\u001b[32m(\u001b[0m\u001b[32mx – a\u001b[0m\u001b[32m)\u001b[0m\u001b[32m² + \u001b[0m\u001b[32m(\u001b[0m\u001b[32my – b\u001b[0m\u001b[32m)\u001b[0m\u001b[32m² + \u001b[0m\u001b[32m(\u001b[0m\u001b[32mz – c\u001b[0m\u001b[32m)\u001b[0m\u001b[32m² = R²**\\n        Từ phương trình này, chúng ta dễ dàng xác định được ngay:\\n        *   **Tâm I\u001b[0m\u001b[32m(\u001b[0m\u001b[32ma; b; c\u001b[0m\u001b[32m)\u001b[0m\u001b[32m** của mặt cầu.\\n        *   **Bán kính R** của mặt cầu \u001b[0m\u001b[32m(\u001b[0m\u001b[32mlà căn bậc hai của vế phải\u001b[0m\u001b[32m)\u001b[0m\u001b[32m.\\n        *   *Ví dụ:* Với phương trình \u001b[0m\u001b[32m(\u001b[0m\u001b[32mx – 1/2\u001b[0m\u001b[32m)\u001b[0m\u001b[32m² + \u001b[0m\u001b[32m(\u001b[0m\u001b[32my+1\u001b[0m\u001b[32m)\u001b[0m\u001b[32m² + z² = 9, tâm là I\u001b[0m\u001b[32m(\u001b[0m\u001b[32m1/2; -1; 0\u001b[0m\u001b[32m)\u001b[0m\u001b[32m và bán kính R = 3.\\n    *   **Dạng tổng quát:** Phương trình mặt cầu còn có thể xuất hiện dưới dạng khai triển:\\n        **x² + y² + z² + Ax + By + Cz + D = 0**\\n        Từ dạng này, chúng ta **có thể xác định được tâm và bán kính** của mặt cầu bằng cách biến đổi hoặc áp dụng công thức.\\n        *   *Ví dụ:* x² + y² + z² + 4x – 5y + 6z + 25/4 = 0 là một phương trình mặt cầu dạng tổng quát.\\n\\n*   **2. Điều kiện để một phương trình là phương trình mặt cầu:**\\n    *   Không phải phương trình nào có dạng tổng quát cũng là mặt cầu đâu nhé! Một phương trình dạng x² + y² + z² + Ax + By + Cz + D = 0 chỉ là phương trình mặt cầu khi **bán kính R tính được phải là một số dương \u001b[0m\u001b[32m(\u001b[0m\u001b[32mR > 0\u001b[0m\u001b[32m)\u001b[0m\u001b[32m**. Nếu R² ≤ 0 thì đó không phải là phương trình mặt cầu.\\n\\n*   **3. Cách viết phương trình mặt cầu:**\\n    *   Để viết phương trình mặt cầu, chúng ta cần biết **tâm I\u001b[0m\u001b[32m(\u001b[0m\u001b[32ma; b; c\u001b[0m\u001b[32m)\u001b[0m\u001b[32m** và **bán kính R**. Khi có đủ hai yếu tố này, chúng ta chỉ việc thay vào dạng chính tắc là xong!\\n    *   **Đặc biệt:** Bán kính R đôi khi không cho trực tiếp mà được xác định thông qua **khoảng cách từ tâm I đến một mặt phẳng \u001b[0m\u001b[32m(\u001b[0m\u001b[32mP\u001b[0m\u001b[32m)\u001b[0m\u001b[32m**.\\n\\n*   **4. Công thức tính khoảng cách từ một điểm đến một mặt phẳng:**\\n    *   Đây là một công cụ rất hữu ích khi làm việc với mặt cầu. Khoảng cách từ điểm M\u001b[0m\u001b[32m(\u001b[0m\u001b[32mx₀; y₀; z₀\u001b[0m\u001b[32m)\u001b[0m\u001b[32m đến mặt phẳng \u001b[0m\u001b[32m(\u001b[0m\u001b[32mP\u001b[0m\u001b[32m)\u001b[0m\u001b[32m: Ax + By + Cz + D = 0 được tính bằng công thức:\\n        **d\u001b[0m\u001b[32m(\u001b[0m\u001b[32mM, \u001b[0m\u001b[32m(\u001b[0m\u001b[32mP\u001b[0m\u001b[32m)\u001b[0m\u001b[32m)\u001b[0m\u001b[32m = |Ax₀ + By₀ + Cz₀ + D| / √\u001b[0m\u001b[32m(\u001b[0m\u001b[32mA² + B² + C²\u001b[0m\u001b[32m)\u001b[0m\u001b[32m**\\n    *   *Ví dụ:* Khoảng cách từ M\u001b[0m\u001b[32m(\u001b[0m\u001b[32m1;2;–1\u001b[0m\u001b[32m)\u001b[0m\u001b[32m đến mặt phẳng \u001b[0m\u001b[32m(\u001b[0m\u001b[32mP\u001b[0m\u001b[32m)\u001b[0m\u001b[32m: x + 2y – 2z + 5 = 0 là d\u001b[0m\u001b[32m(\u001b[0m\u001b[32mM, \u001b[0m\u001b[32m(\u001b[0m\u001b[32mP\u001b[0m\u001b[32m)\u001b[0m\u001b[32m)\u001b[0m\u001b[32m = |1 + 2⋅2 – 2⋅\u001b[0m\u001b[32m(\u001b[0m\u001b[32m–1\u001b[0m\u001b[32m)\u001b[0m\u001b[32m + 5| / √\u001b[0m\u001b[32m(\u001b[0m\u001b[32m1²+2²+\u001b[0m\u001b[32m(\u001b[0m\u001b[32m–2\u001b[0m\u001b[32m)\u001b[0m\u001b[32m²\u001b[0m\u001b[32m)\u001b[0m\u001b[32m = 4.\\n\\n*   **5. Kiểm tra vị trí của một điểm so với mặt cầu:**\\n    *   Để biết một điểm M có thuộc \"vùng phủ sóng\" của một thiết bị \u001b[0m\u001b[32m(\u001b[0m\u001b[32mtức là nằm trong hoặc trên mặt cầu\u001b[0m\u001b[32m)\u001b[0m\u001b[32m hay không, chúng ta cần **tính khoảng cách từ điểm M đó đến tâm I của mặt cầu**, sau đó **so sánh với bán kính R**.\\n\\n*   **6. Ứng dụng của phương trình mặt cầu trong thực tiễn:**\\n    *   Tài liệu có đề cập đến \"MỘT SỐ ỨNG DỤNG CỦA PHƯƠNG TRÌNH MẶT CẦU TRONG THỰC TIỄN\" nhưng **không cung cấp thông tin chi tiết về các ứng dụng này**.\\n\\nCác em nhớ ôn tập kỹ những điểm này để làm bài tập thật tốt nhé! Chúc các em học tốt!'\u001b[0m\n",
       "\u001b[1m}\u001b[0m\n"
      ]
     },
     "metadata": {},
     "output_type": "display_data"
    },
    {
     "data": {
      "text/html": [
       "<pre style=\"white-space:pre;overflow-x:auto;line-height:normal;font-family:Menlo,'DejaVu Sans Mono',consolas,'Courier New',monospace\">\n",
       "<span style=\"color: #808000; text-decoration-color: #808000; font-weight: bold\">------- Hoàn thành bước: resource_scout -------</span>\n",
       "</pre>\n"
      ],
      "text/plain": [
       "\n",
       "\u001b[1;33m------- Hoàn thành bước: resource_scout -------\u001b[0m\n"
      ]
     },
     "metadata": {},
     "output_type": "display_data"
    },
    {
     "data": {
      "text/html": [
       "<pre style=\"white-space:pre;overflow-x:auto;line-height:normal;font-family:Menlo,'DejaVu Sans Mono',consolas,'Courier New',monospace\">\n",
       "<span style=\"color: #008080; text-decoration-color: #008080; font-weight: bold\">&gt;</span> `Agent: Headmaster Delegator` <span style=\"font-weight: bold\">(</span>v13.<span style=\"color: #008080; text-decoration-color: #008080; font-weight: bold\">1</span> - Giao việc Thông minh<span style=\"font-weight: bold\">)</span> đang chỉ đạo<span style=\"color: #808000; text-decoration-color: #808000\">...</span>\n",
       "</pre>\n"
      ],
      "text/plain": [
       "\n",
       "\u001b[1;36m>\u001b[0m `Agent: Headmaster Delegator` \u001b[1m(\u001b[0mv13.\u001b[1;36m1\u001b[0m - Giao việc Thông minh\u001b[1m)\u001b[0m đang chỉ đạo\u001b[33m...\u001b[0m\n"
      ]
     },
     "metadata": {},
     "output_type": "display_data"
    },
    {
     "data": {
      "text/html": [
       "<pre style=\"white-space:pre;overflow-x:auto;line-height:normal;font-family:Menlo,'DejaVu Sans Mono',consolas,'Courier New',monospace\"><span style=\"color: #008000; text-decoration-color: #008000; font-weight: bold\">✔️ Đã tạo </span><span style=\"color: #008000; text-decoration-color: #008000; font-weight: bold\">5</span><span style=\"color: #008000; text-decoration-color: #008000; font-weight: bold\"> nhiệm vụ với chỉ dẫn chi tiết:</span>\n",
       "</pre>\n"
      ],
      "text/plain": [
       "\u001b[1;32m✔️ Đã tạo \u001b[0m\u001b[1;32m5\u001b[0m\u001b[1;32m nhiệm vụ với chỉ dẫn chi tiết:\u001b[0m\n"
      ]
     },
     "metadata": {},
     "output_type": "display_data"
    },
    {
     "data": {
      "text/html": [
       "<pre style=\"white-space:pre;overflow-x:auto;line-height:normal;font-family:Menlo,'DejaVu Sans Mono',consolas,'Courier New',monospace\"><span style=\"font-weight: bold\">[</span>\n",
       "<span style=\"color: #7fbf7f; text-decoration-color: #7fbf7f\">│   </span><span style=\"font-weight: bold\">{</span>\n",
       "<span style=\"color: #7fbf7f; text-decoration-color: #7fbf7f\">│   │   </span><span style=\"color: #008000; text-decoration-color: #008000\">'task_id'</span>: <span style=\"color: #008080; text-decoration-color: #008080; font-weight: bold\">0</span>,\n",
       "<span style=\"color: #7fbf7f; text-decoration-color: #7fbf7f\">│   │   </span><span style=\"color: #008000; text-decoration-color: #008000\">'task_name'</span>: <span style=\"color: #008000; text-decoration-color: #008000\">'Khám phá Khái niệm Mặt cầu'</span>,\n",
       "<span style=\"color: #7fbf7f; text-decoration-color: #7fbf7f\">│   │   </span><span style=\"color: #008000; text-decoration-color: #008000\">'task_description'</span>: <span style=\"color: #008000; text-decoration-color: #008000\">'Tổ chức hoạt động khởi động bằng vật thể thực tế và thảo luận nhóm để học sinh phân biệt mặt cầu và hình tròn, từ đó tổng kết khái niệm cơ bản về mặt cầu.'</span>,\n",
       "<span style=\"color: #7fbf7f; text-decoration-color: #7fbf7f\">│   │   </span><span style=\"color: #008000; text-decoration-color: #008000\">'estimated_duration'</span>: <span style=\"color: #008080; text-decoration-color: #008080; font-weight: bold\">15</span>,\n",
       "<span style=\"color: #7fbf7f; text-decoration-color: #7fbf7f\">│   │   </span><span style=\"color: #008000; text-decoration-color: #008000\">'guidance'</span>: <span style=\"color: #008000; text-decoration-color: #008000\">'Hướng dẫn học sinh khám phá và định nghĩa mặt cầu.'</span>,\n",
       "<span style=\"color: #7fbf7f; text-decoration-color: #7fbf7f\">│   │   </span><span style=\"color: #008000; text-decoration-color: #008000\">'status'</span>: <span style=\"color: #008000; text-decoration-color: #008000\">'pending'</span>\n",
       "<span style=\"color: #7fbf7f; text-decoration-color: #7fbf7f\">│   </span><span style=\"font-weight: bold\">}</span>,\n",
       "<span style=\"color: #7fbf7f; text-decoration-color: #7fbf7f\">│   </span><span style=\"font-weight: bold\">{</span>\n",
       "<span style=\"color: #7fbf7f; text-decoration-color: #7fbf7f\">│   │   </span><span style=\"color: #008000; text-decoration-color: #008000\">'task_id'</span>: <span style=\"color: #008080; text-decoration-color: #008080; font-weight: bold\">1</span>,\n",
       "<span style=\"color: #7fbf7f; text-decoration-color: #7fbf7f\">│   │   </span><span style=\"color: #008000; text-decoration-color: #008000\">'task_name'</span>: <span style=\"color: #008000; text-decoration-color: #008000\">'Xây dựng và Thực hành Phương trình Mặt cầu Dạng Chính tắc'</span>,\n",
       "<span style=\"color: #7fbf7f; text-decoration-color: #7fbf7f\">│   │   </span><span style=\"color: #008000; text-decoration-color: #008000\">'task_description'</span>: <span style=\"color: #008000; text-decoration-color: #008000\">'Giới thiệu công thức phương trình mặt cầu dạng chính tắc. Tổ chức hoạt động nhóm để học sinh thực hành viết phương trình từ tâm/bán kính và ngược lại, có sự hỗ trợ và khuyến khích từ giáo viên.'</span>,\n",
       "<span style=\"color: #7fbf7f; text-decoration-color: #7fbf7f\">│   │   </span><span style=\"color: #008000; text-decoration-color: #008000\">'estimated_duration'</span>: <span style=\"color: #008080; text-decoration-color: #008080; font-weight: bold\">20</span>,\n",
       "<span style=\"color: #7fbf7f; text-decoration-color: #7fbf7f\">│   │   </span><span style=\"color: #008000; text-decoration-color: #008000\">'guidance'</span>: <span style=\"color: #008000; text-decoration-color: #008000\">'Hướng dẫn học sinh xây dựng và thực hành phương trình mặt cầu dạng chính tắc.'</span>,\n",
       "<span style=\"color: #7fbf7f; text-decoration-color: #7fbf7f\">│   │   </span><span style=\"color: #008000; text-decoration-color: #008000\">'status'</span>: <span style=\"color: #008000; text-decoration-color: #008000\">'pending'</span>\n",
       "<span style=\"color: #7fbf7f; text-decoration-color: #7fbf7f\">│   </span><span style=\"font-weight: bold\">}</span>,\n",
       "<span style=\"color: #7fbf7f; text-decoration-color: #7fbf7f\">│   </span><span style=\"font-weight: bold\">{</span>\n",
       "<span style=\"color: #7fbf7f; text-decoration-color: #7fbf7f\">│   │   </span><span style=\"color: #008000; text-decoration-color: #008000\">'task_id'</span>: <span style=\"color: #008080; text-decoration-color: #008080; font-weight: bold\">2</span>,\n",
       "<span style=\"color: #7fbf7f; text-decoration-color: #7fbf7f\">│   │   </span><span style=\"color: #008000; text-decoration-color: #008000\">'task_name'</span>: <span style=\"color: #008000; text-decoration-color: #008000\">'Khám phá và Luyện tập Phương trình Mặt cầu Dạng Khai triển'</span>,\n",
       "<span style=\"color: #7fbf7f; text-decoration-color: #7fbf7f\">│   │   </span><span style=\"color: #008000; text-decoration-color: #008000\">'task_description'</span>: <span style=\"color: #008000; text-decoration-color: #008000\">'Hướng dẫn chuyển đổi giữa dạng khai triển và chính tắc, xác định tâm/bán kính và điều kiện của phương trình mặt cầu. Tổ chức luyện tập nhóm với bài tập độ khó tăng dần, bao gồm bài toán tham số.'</span>,\n",
       "<span style=\"color: #7fbf7f; text-decoration-color: #7fbf7f\">│   │   </span><span style=\"color: #008000; text-decoration-color: #008000\">'estimated_duration'</span>: <span style=\"color: #008080; text-decoration-color: #008080; font-weight: bold\">25</span>,\n",
       "<span style=\"color: #7fbf7f; text-decoration-color: #7fbf7f\">│   │   </span><span style=\"color: #008000; text-decoration-color: #008000\">'guidance'</span>: <span style=\"color: #008000; text-decoration-color: #008000\">'Hướng dẫn học sinh khám phá và luyện tập phương trình mặt cầu dạng khai triển.'</span>,\n",
       "<span style=\"color: #7fbf7f; text-decoration-color: #7fbf7f\">│   │   </span><span style=\"color: #008000; text-decoration-color: #008000\">'status'</span>: <span style=\"color: #008000; text-decoration-color: #008000\">'pending'</span>\n",
       "<span style=\"color: #7fbf7f; text-decoration-color: #7fbf7f\">│   </span><span style=\"font-weight: bold\">}</span>,\n",
       "<span style=\"color: #7fbf7f; text-decoration-color: #7fbf7f\">│   </span><span style=\"font-weight: bold\">{</span>\n",
       "<span style=\"color: #7fbf7f; text-decoration-color: #7fbf7f\">│   │   </span><span style=\"color: #008000; text-decoration-color: #008000\">'task_id'</span>: <span style=\"color: #008080; text-decoration-color: #008080; font-weight: bold\">3</span>,\n",
       "<span style=\"color: #7fbf7f; text-decoration-color: #7fbf7f\">│   │   </span><span style=\"color: #008000; text-decoration-color: #008000\">'task_name'</span>: <span style=\"color: #008000; text-decoration-color: #008000\">'Vận dụng Giải quyết Bài toán Tổng hợp'</span>,\n",
       "<span style=\"color: #7fbf7f; text-decoration-color: #7fbf7f\">│   │   </span><span style=\"color: #008000; text-decoration-color: #008000\">'task_description'</span>: <span style=\"color: #008000; text-decoration-color: #008000\">'Đưa ra bài toán tổng hợp (ứng dụng thực tế hoặc tư duy phản biện) để học sinh làm việc nhóm, phân tích, lập kế hoạch và trình bày lời giải. Giáo viên chỉ gợi ý, khuyến khích tự tìm tòi.'</span>,\n",
       "<span style=\"color: #7fbf7f; text-decoration-color: #7fbf7f\">│   │   </span><span style=\"color: #008000; text-decoration-color: #008000\">'estimated_duration'</span>: <span style=\"color: #008080; text-decoration-color: #008080; font-weight: bold\">20</span>,\n",
       "<span style=\"color: #7fbf7f; text-decoration-color: #7fbf7f\">│   │   </span><span style=\"color: #008000; text-decoration-color: #008000\">'guidance'</span>: <span style=\"color: #008000; text-decoration-color: #008000\">'Hướng dẫn học sinh vận dụng kiến thức giải quyết bài toán tổng hợp.'</span>,\n",
       "<span style=\"color: #7fbf7f; text-decoration-color: #7fbf7f\">│   │   </span><span style=\"color: #008000; text-decoration-color: #008000\">'status'</span>: <span style=\"color: #008000; text-decoration-color: #008000\">'pending'</span>\n",
       "<span style=\"color: #7fbf7f; text-decoration-color: #7fbf7f\">│   </span><span style=\"font-weight: bold\">}</span>,\n",
       "<span style=\"color: #7fbf7f; text-decoration-color: #7fbf7f\">│   </span><span style=\"font-weight: bold\">{</span>\n",
       "<span style=\"color: #7fbf7f; text-decoration-color: #7fbf7f\">│   │   </span><span style=\"color: #008000; text-decoration-color: #008000\">'task_id'</span>: <span style=\"color: #008080; text-decoration-color: #008080; font-weight: bold\">4</span>,\n",
       "<span style=\"color: #7fbf7f; text-decoration-color: #7fbf7f\">│   │   </span><span style=\"color: #008000; text-decoration-color: #008000\">'task_name'</span>: <span style=\"color: #008000; text-decoration-color: #008000\">'Tổng kết và Định hướng Mở rộng'</span>,\n",
       "<span style=\"color: #7fbf7f; text-decoration-color: #7fbf7f\">│   │   </span><span style=\"color: #008000; text-decoration-color: #008000\">'task_description'</span>: <span style=\"color: #008000; text-decoration-color: #008000\">'Cùng học sinh tổng kết kiến thức trọng tâm về phương trình mặt cầu. Đặt câu hỏi mở để liên hệ thực tế, định hướng nội dung mở rộng và bài tập về nhà, khuyến khích học sinh đặt câu hỏi.'</span>,\n",
       "<span style=\"color: #7fbf7f; text-decoration-color: #7fbf7f\">│   │   </span><span style=\"color: #008000; text-decoration-color: #008000\">'estimated_duration'</span>: <span style=\"color: #008080; text-decoration-color: #008080; font-weight: bold\">10</span>,\n",
       "<span style=\"color: #7fbf7f; text-decoration-color: #7fbf7f\">│   │   </span><span style=\"color: #008000; text-decoration-color: #008000\">'guidance'</span>: <span style=\"color: #008000; text-decoration-color: #008000\">'Hướng dẫn học sinh tổng kết kiến thức và định hướng học tập tiếp theo.'</span>,\n",
       "<span style=\"color: #7fbf7f; text-decoration-color: #7fbf7f\">│   │   </span><span style=\"color: #008000; text-decoration-color: #008000\">'status'</span>: <span style=\"color: #008000; text-decoration-color: #008000\">'pending'</span>\n",
       "<span style=\"color: #7fbf7f; text-decoration-color: #7fbf7f\">│   </span><span style=\"font-weight: bold\">}</span>\n",
       "<span style=\"font-weight: bold\">]</span>\n",
       "</pre>\n"
      ],
      "text/plain": [
       "\u001b[1m[\u001b[0m\n",
       "\u001b[2;32m│   \u001b[0m\u001b[1m{\u001b[0m\n",
       "\u001b[2;32m│   │   \u001b[0m\u001b[32m'task_id'\u001b[0m: \u001b[1;36m0\u001b[0m,\n",
       "\u001b[2;32m│   │   \u001b[0m\u001b[32m'task_name'\u001b[0m: \u001b[32m'Khám phá Khái niệm Mặt cầu'\u001b[0m,\n",
       "\u001b[2;32m│   │   \u001b[0m\u001b[32m'task_description'\u001b[0m: \u001b[32m'Tổ chức hoạt động khởi động bằng vật thể thực tế và thảo luận nhóm để học sinh phân biệt mặt cầu và hình tròn, từ đó tổng kết khái niệm cơ bản về mặt cầu.'\u001b[0m,\n",
       "\u001b[2;32m│   │   \u001b[0m\u001b[32m'estimated_duration'\u001b[0m: \u001b[1;36m15\u001b[0m,\n",
       "\u001b[2;32m│   │   \u001b[0m\u001b[32m'guidance'\u001b[0m: \u001b[32m'Hướng dẫn học sinh khám phá và định nghĩa mặt cầu.'\u001b[0m,\n",
       "\u001b[2;32m│   │   \u001b[0m\u001b[32m'status'\u001b[0m: \u001b[32m'pending'\u001b[0m\n",
       "\u001b[2;32m│   \u001b[0m\u001b[1m}\u001b[0m,\n",
       "\u001b[2;32m│   \u001b[0m\u001b[1m{\u001b[0m\n",
       "\u001b[2;32m│   │   \u001b[0m\u001b[32m'task_id'\u001b[0m: \u001b[1;36m1\u001b[0m,\n",
       "\u001b[2;32m│   │   \u001b[0m\u001b[32m'task_name'\u001b[0m: \u001b[32m'Xây dựng và Thực hành Phương trình Mặt cầu Dạng Chính tắc'\u001b[0m,\n",
       "\u001b[2;32m│   │   \u001b[0m\u001b[32m'task_description'\u001b[0m: \u001b[32m'Giới thiệu công thức phương trình mặt cầu dạng chính tắc. Tổ chức hoạt động nhóm để học sinh thực hành viết phương trình từ tâm/bán kính và ngược lại, có sự hỗ trợ và khuyến khích từ giáo viên.'\u001b[0m,\n",
       "\u001b[2;32m│   │   \u001b[0m\u001b[32m'estimated_duration'\u001b[0m: \u001b[1;36m20\u001b[0m,\n",
       "\u001b[2;32m│   │   \u001b[0m\u001b[32m'guidance'\u001b[0m: \u001b[32m'Hướng dẫn học sinh xây dựng và thực hành phương trình mặt cầu dạng chính tắc.'\u001b[0m,\n",
       "\u001b[2;32m│   │   \u001b[0m\u001b[32m'status'\u001b[0m: \u001b[32m'pending'\u001b[0m\n",
       "\u001b[2;32m│   \u001b[0m\u001b[1m}\u001b[0m,\n",
       "\u001b[2;32m│   \u001b[0m\u001b[1m{\u001b[0m\n",
       "\u001b[2;32m│   │   \u001b[0m\u001b[32m'task_id'\u001b[0m: \u001b[1;36m2\u001b[0m,\n",
       "\u001b[2;32m│   │   \u001b[0m\u001b[32m'task_name'\u001b[0m: \u001b[32m'Khám phá và Luyện tập Phương trình Mặt cầu Dạng Khai triển'\u001b[0m,\n",
       "\u001b[2;32m│   │   \u001b[0m\u001b[32m'task_description'\u001b[0m: \u001b[32m'Hướng dẫn chuyển đổi giữa dạng khai triển và chính tắc, xác định tâm/bán kính và điều kiện của phương trình mặt cầu. Tổ chức luyện tập nhóm với bài tập độ khó tăng dần, bao gồm bài toán tham số.'\u001b[0m,\n",
       "\u001b[2;32m│   │   \u001b[0m\u001b[32m'estimated_duration'\u001b[0m: \u001b[1;36m25\u001b[0m,\n",
       "\u001b[2;32m│   │   \u001b[0m\u001b[32m'guidance'\u001b[0m: \u001b[32m'Hướng dẫn học sinh khám phá và luyện tập phương trình mặt cầu dạng khai triển.'\u001b[0m,\n",
       "\u001b[2;32m│   │   \u001b[0m\u001b[32m'status'\u001b[0m: \u001b[32m'pending'\u001b[0m\n",
       "\u001b[2;32m│   \u001b[0m\u001b[1m}\u001b[0m,\n",
       "\u001b[2;32m│   \u001b[0m\u001b[1m{\u001b[0m\n",
       "\u001b[2;32m│   │   \u001b[0m\u001b[32m'task_id'\u001b[0m: \u001b[1;36m3\u001b[0m,\n",
       "\u001b[2;32m│   │   \u001b[0m\u001b[32m'task_name'\u001b[0m: \u001b[32m'Vận dụng Giải quyết Bài toán Tổng hợp'\u001b[0m,\n",
       "\u001b[2;32m│   │   \u001b[0m\u001b[32m'task_description'\u001b[0m: \u001b[32m'Đưa ra bài toán tổng hợp \u001b[0m\u001b[32m(\u001b[0m\u001b[32mứng dụng thực tế hoặc tư duy phản biện\u001b[0m\u001b[32m)\u001b[0m\u001b[32m để học sinh làm việc nhóm, phân tích, lập kế hoạch và trình bày lời giải. Giáo viên chỉ gợi ý, khuyến khích tự tìm tòi.'\u001b[0m,\n",
       "\u001b[2;32m│   │   \u001b[0m\u001b[32m'estimated_duration'\u001b[0m: \u001b[1;36m20\u001b[0m,\n",
       "\u001b[2;32m│   │   \u001b[0m\u001b[32m'guidance'\u001b[0m: \u001b[32m'Hướng dẫn học sinh vận dụng kiến thức giải quyết bài toán tổng hợp.'\u001b[0m,\n",
       "\u001b[2;32m│   │   \u001b[0m\u001b[32m'status'\u001b[0m: \u001b[32m'pending'\u001b[0m\n",
       "\u001b[2;32m│   \u001b[0m\u001b[1m}\u001b[0m,\n",
       "\u001b[2;32m│   \u001b[0m\u001b[1m{\u001b[0m\n",
       "\u001b[2;32m│   │   \u001b[0m\u001b[32m'task_id'\u001b[0m: \u001b[1;36m4\u001b[0m,\n",
       "\u001b[2;32m│   │   \u001b[0m\u001b[32m'task_name'\u001b[0m: \u001b[32m'Tổng kết và Định hướng Mở rộng'\u001b[0m,\n",
       "\u001b[2;32m│   │   \u001b[0m\u001b[32m'task_description'\u001b[0m: \u001b[32m'Cùng học sinh tổng kết kiến thức trọng tâm về phương trình mặt cầu. Đặt câu hỏi mở để liên hệ thực tế, định hướng nội dung mở rộng và bài tập về nhà, khuyến khích học sinh đặt câu hỏi.'\u001b[0m,\n",
       "\u001b[2;32m│   │   \u001b[0m\u001b[32m'estimated_duration'\u001b[0m: \u001b[1;36m10\u001b[0m,\n",
       "\u001b[2;32m│   │   \u001b[0m\u001b[32m'guidance'\u001b[0m: \u001b[32m'Hướng dẫn học sinh tổng kết kiến thức và định hướng học tập tiếp theo.'\u001b[0m,\n",
       "\u001b[2;32m│   │   \u001b[0m\u001b[32m'status'\u001b[0m: \u001b[32m'pending'\u001b[0m\n",
       "\u001b[2;32m│   \u001b[0m\u001b[1m}\u001b[0m\n",
       "\u001b[1m]\u001b[0m\n"
      ]
     },
     "metadata": {},
     "output_type": "display_data"
    },
    {
     "data": {
      "text/html": [
       "<pre style=\"white-space:pre;overflow-x:auto;line-height:normal;font-family:Menlo,'DejaVu Sans Mono',consolas,'Courier New',monospace\">\n",
       "<span style=\"color: #808000; text-decoration-color: #808000; font-weight: bold\">------- Hoàn thành bước: plan_delegator -------</span>\n",
       "</pre>\n"
      ],
      "text/plain": [
       "\n",
       "\u001b[1;33m------- Hoàn thành bước: plan_delegator -------\u001b[0m\n"
      ]
     },
     "metadata": {},
     "output_type": "display_data"
    },
    {
     "data": {
      "text/html": [
       "<pre style=\"white-space:pre;overflow-x:auto;line-height:normal;font-family:Menlo,'DejaVu Sans Mono',consolas,'Courier New',monospace\">\n",
       "<span style=\"color: #008080; text-decoration-color: #008080; font-weight: bold\">&gt;</span> `Router`: Đang kiểm tra nhiệm vụ<span style=\"color: #808000; text-decoration-color: #808000\">...</span>\n",
       "</pre>\n"
      ],
      "text/plain": [
       "\n",
       "\u001b[1;36m>\u001b[0m `Router`: Đang kiểm tra nhiệm vụ\u001b[33m...\u001b[0m\n"
      ]
     },
     "metadata": {},
     "output_type": "display_data"
    },
    {
     "data": {
      "text/html": [
       "<pre style=\"white-space:pre;overflow-x:auto;line-height:normal;font-family:Menlo,'DejaVu Sans Mono',consolas,'Courier New',monospace\">\n",
       "<span style=\"color: #008080; text-decoration-color: #008080; font-weight: bold\">&gt;</span> Nhiệm vụ tiếp theo: <span style=\"color: #008000; text-decoration-color: #008000\">'Khám phá Khái niệm Mặt cầu'</span> <span style=\"font-weight: bold\">(</span>ID: <span style=\"color: #008080; text-decoration-color: #008080; font-weight: bold\">0</span><span style=\"font-weight: bold\">)</span>\n",
       "</pre>\n"
      ],
      "text/plain": [
       "\n",
       "\u001b[1;36m>\u001b[0m Nhiệm vụ tiếp theo: \u001b[32m'Khám phá Khái niệm Mặt cầu'\u001b[0m \u001b[1m(\u001b[0mID: \u001b[1;36m0\u001b[0m\u001b[1m)\u001b[0m\n"
      ]
     },
     "metadata": {},
     "output_type": "display_data"
    },
    {
     "data": {
      "text/html": [
       "<pre style=\"white-space:pre;overflow-x:auto;line-height:normal;font-family:Menlo,'DejaVu Sans Mono',consolas,'Courier New',monospace\">\n",
       "<span style=\"color: #808000; text-decoration-color: #808000; font-weight: bold\">------- Hoàn thành bước: task_router -------</span>\n",
       "</pre>\n"
      ],
      "text/plain": [
       "\n",
       "\u001b[1;33m------- Hoàn thành bước: task_router -------\u001b[0m\n"
      ]
     },
     "metadata": {},
     "output_type": "display_data"
    },
    {
     "data": {
      "text/html": [
       "<pre style=\"white-space:pre;overflow-x:auto;line-height:normal;font-family:Menlo,'DejaVu Sans Mono',consolas,'Courier New',monospace\">\n",
       "<span style=\"color: #008080; text-decoration-color: #008080; font-weight: bold\">&gt;</span> `Agent: Task Dispatcher` đang giao việc<span style=\"color: #808000; text-decoration-color: #808000\">...</span>\n",
       "</pre>\n"
      ],
      "text/plain": [
       "\n",
       "\u001b[1;36m>\u001b[0m `Agent: Task Dispatcher` đang giao việc\u001b[33m...\u001b[0m\n"
      ]
     },
     "metadata": {},
     "output_type": "display_data"
    },
    {
     "data": {
      "text/html": [
       "<pre style=\"white-space:pre;overflow-x:auto;line-height:normal;font-family:Menlo,'DejaVu Sans Mono',consolas,'Courier New',monospace\">\n",
       "<span style=\"color: #008080; text-decoration-color: #008080; font-weight: bold\">&gt;</span> --- 🚚 `Dispatcher`: Giao nhiệm vụ cho `activity_designer`.\n",
       "</pre>\n"
      ],
      "text/plain": [
       "\n",
       "\u001b[1;36m>\u001b[0m --- 🚚 `Dispatcher`: Giao nhiệm vụ cho `activity_designer`.\n"
      ]
     },
     "metadata": {},
     "output_type": "display_data"
    },
    {
     "data": {
      "text/html": [
       "<pre style=\"white-space:pre;overflow-x:auto;line-height:normal;font-family:Menlo,'DejaVu Sans Mono',consolas,'Courier New',monospace\">\n",
       "<span style=\"color: #808000; text-decoration-color: #808000; font-weight: bold\">------- Hoàn thành bước: task_dispatcher -------</span>\n",
       "</pre>\n"
      ],
      "text/plain": [
       "\n",
       "\u001b[1;33m------- Hoàn thành bước: task_dispatcher -------\u001b[0m\n"
      ]
     },
     "metadata": {},
     "output_type": "display_data"
    },
    {
     "data": {
      "text/html": [
       "<pre style=\"white-space:pre;overflow-x:auto;line-height:normal;font-family:Menlo,'DejaVu Sans Mono',consolas,'Courier New',monospace\">\n",
       "<span style=\"color: #008080; text-decoration-color: #008080; font-weight: bold\">&gt;</span> `Agent: Activity Designer` <span style=\"font-weight: bold\">(</span>v13.<span style=\"color: #008080; text-decoration-color: #008080; font-weight: bold\">1</span> - Tư duy Phản tư<span style=\"font-weight: bold\">)</span> đang tạo nội dung<span style=\"color: #808000; text-decoration-color: #808000\">...</span>\n",
       "</pre>\n"
      ],
      "text/plain": [
       "\n",
       "\u001b[1;36m>\u001b[0m `Agent: Activity Designer` \u001b[1m(\u001b[0mv13.\u001b[1;36m1\u001b[0m - Tư duy Phản tư\u001b[1m)\u001b[0m đang tạo nội dung\u001b[33m...\u001b[0m\n"
      ]
     },
     "metadata": {},
     "output_type": "display_data"
    },
    {
     "data": {
      "text/html": [
       "<pre style=\"white-space:pre;overflow-x:auto;line-height:normal;font-family:Menlo,'DejaVu Sans Mono',consolas,'Courier New',monospace\"><span style=\"color: #008000; text-decoration-color: #008000; font-weight: bold\">✔️ Nội dung do Activity Designer tạo ra:</span>\n",
       "</pre>\n"
      ],
      "text/plain": [
       "\u001b[1;32m✔️ Nội dung do Activity Designer tạo ra:\u001b[0m\n"
      ]
     },
     "metadata": {},
     "output_type": "display_data"
    },
    {
     "data": {
      "text/html": [
       "<pre style=\"white-space:pre;overflow-x:auto;line-height:normal;font-family:Menlo,'DejaVu Sans Mono',consolas,'Courier New',monospace\"><span style=\"font-weight: bold\">{</span>\n",
       "<span style=\"color: #7fbf7f; text-decoration-color: #7fbf7f\">│   </span><span style=\"color: #008000; text-decoration-color: #008000\">'activity_name'</span>: <span style=\"color: #008000; text-decoration-color: #008000\">'Khám phá Khái niệm Mặt cầu'</span>,\n",
       "<span style=\"color: #7fbf7f; text-decoration-color: #7fbf7f\">│   </span><span style=\"color: #008000; text-decoration-color: #008000\">'duration_minutes'</span>: <span style=\"color: #008080; text-decoration-color: #008080; font-weight: bold\">15</span>,\n",
       "<span style=\"color: #7fbf7f; text-decoration-color: #7fbf7f\">│   </span><span style=\"color: #008000; text-decoration-color: #008000\">'teacher_actions'</span>: <span style=\"font-weight: bold\">[</span>\n",
       "<span style=\"color: #7fbf7f; text-decoration-color: #7fbf7f\">│   │   </span><span style=\"color: #008000; text-decoration-color: #008000\">'Giới thiệu mục tiêu bài học: Khám phá và định nghĩa mặt cầu.'</span>,\n",
       "<span style=\"color: #7fbf7f; text-decoration-color: #7fbf7f\">│   │   </span><span style=\"color: #008000; text-decoration-color: #008000\">'Phát cho mỗi nhóm một vật thể có dạng hình cầu (ví dụ: quả bóng, quả địa cầu nhỏ) hoặc yêu cầu học sinh quan sát các vật thể hình cầu trong lớp.'</span>,\n",
       "<span style=\"color: #7fbf7f; text-decoration-color: #7fbf7f\">│   │   </span><span style=\"color: #008000; text-decoration-color: #008000\">\"Đặt câu hỏi gợi mở: 'Các em hãy quan sát vật thể này và cho biết nó có những đặc điểm gì nổi bật? Các điểm trên bề mặt vật thể này có gì đặc biệt so với một điểm ở tâm?'\"</span>,\n",
       "<span style=\"color: #7fbf7f; text-decoration-color: #7fbf7f\">│   │   </span><span style=\"color: #008000; text-decoration-color: #008000\">'Quan sát các nhóm thảo luận, lắng nghe các ý kiến và hỗ trợ khi cần thiết, đảm bảo tất cả học sinh đều tham gia.'</span>,\n",
       "<span style=\"color: #7fbf7f; text-decoration-color: #7fbf7f\">│   │   </span><span style=\"color: #008000; text-decoration-color: #008000\">'Yêu cầu đại diện một vài nhóm trình bày kết quả quan sát và định nghĩa sơ bộ của nhóm về mặt cầu.'</span>,\n",
       "<span style=\"color: #7fbf7f; text-decoration-color: #7fbf7f\">│   │   </span><span style=\"color: #008000; text-decoration-color: #008000\">'Tổng hợp các ý kiến, chốt lại các đặc điểm quan trọng và đưa ra định nghĩa chuẩn về mặt cầu (tập hợp các điểm cách đều một điểm cố định).'</span>\n",
       "<span style=\"color: #7fbf7f; text-decoration-color: #7fbf7f\">│   </span><span style=\"font-weight: bold\">]</span>,\n",
       "<span style=\"color: #7fbf7f; text-decoration-color: #7fbf7f\">│   </span><span style=\"color: #008000; text-decoration-color: #008000\">'extension_component'</span>: <span style=\"color: #008000; text-decoration-color: #008000\">'Học sinh có thể vẽ phác thảo một mặt cầu và đánh dấu tâm, bán kính. Hoặc tìm thêm các ví dụ về mặt cầu trong đời sống và giải thích tại sao chúng lại có dạng mặt cầu.'</span>,\n",
       "<span style=\"color: #7fbf7f; text-decoration-color: #7fbf7f\">│   </span><span style=\"color: #008000; text-decoration-color: #008000\">'solution_guide'</span>: <span style=\"color: #008000; text-decoration-color: #008000\">'Các câu hỏi gợi mở: 1. Các điểm trên bề mặt vật thể này có gì chung? 2. Có một điểm nào đó mà tất cả các điểm trên bề mặt đều cách đều không? 3. Khoảng cách đó gọi là gì? 4. Vậy mặt cầu là gì?'</span>,\n",
       "<span style=\"color: #7fbf7f; text-decoration-color: #7fbf7f\">│   </span><span style=\"color: #008000; text-decoration-color: #008000\">'differentiation'</span>: <span style=\"font-weight: bold\">{</span>\n",
       "<span style=\"color: #7fbf7f; text-decoration-color: #7fbf7f\">│   │   </span><span style=\"color: #008000; text-decoration-color: #008000\">'for_struggling_students'</span>: <span style=\"color: #008000; text-decoration-color: #008000\">'Cung cấp các vật thể hình cầu có kích thước lớn, dễ quan sát. Gợi ý cụ thể hơn bằng cách đặt câu hỏi trực tiếp về tâm và khoảng cách. Có thể cho học sinh dùng thước dây để đo thử khoảng cách từ tâm đến các điểm trên bề mặt.'</span>,\n",
       "<span style=\"color: #7fbf7f; text-decoration-color: #7fbf7f\">│   │   </span><span style=\"color: #008000; text-decoration-color: #008000\">'for_advanced_students'</span>: <span style=\"color: #008000; text-decoration-color: #008000\">'Yêu cầu học sinh suy nghĩ về sự khác biệt giữa mặt cầu và hình cầu. Hoặc đặt câu hỏi về công thức tính diện tích mặt cầu (nếu đã học) hoặc các ứng dụng phức tạp hơn của mặt cầu trong khoa học.'</span>\n",
       "<span style=\"color: #7fbf7f; text-decoration-color: #7fbf7f\">│   </span><span style=\"font-weight: bold\">}</span>,\n",
       "<span style=\"color: #7fbf7f; text-decoration-color: #7fbf7f\">│   </span><span style=\"color: #008000; text-decoration-color: #008000\">'question_or_description'</span>: <span style=\"color: #008000; text-decoration-color: #008000\">'Học sinh làm việc theo nhóm (2-3 người). Mỗi nhóm được cung cấp một vật thể hình cầu hoặc được yêu cầu quan sát các vật thể hình cầu xung quanh. Các nhóm thảo luận để xác định các đặc điểm chung của vật thể, đặc biệt là mối quan hệ giữa các điểm trên bề mặt và một điểm cố định (tâm). Từ đó, các nhóm cố gắng đưa ra một định nghĩa sơ bộ về mặt cầu.'</span>,\n",
       "<span style=\"color: #7fbf7f; text-decoration-color: #7fbf7f\">│   </span><span style=\"color: #008000; text-decoration-color: #008000\">'content_type'</span>: <span style=\"color: #008000; text-decoration-color: #008000\">'Thảo luận nhóm và Khám phá'</span>\n",
       "<span style=\"font-weight: bold\">}</span>\n",
       "</pre>\n"
      ],
      "text/plain": [
       "\u001b[1m{\u001b[0m\n",
       "\u001b[2;32m│   \u001b[0m\u001b[32m'activity_name'\u001b[0m: \u001b[32m'Khám phá Khái niệm Mặt cầu'\u001b[0m,\n",
       "\u001b[2;32m│   \u001b[0m\u001b[32m'duration_minutes'\u001b[0m: \u001b[1;36m15\u001b[0m,\n",
       "\u001b[2;32m│   \u001b[0m\u001b[32m'teacher_actions'\u001b[0m: \u001b[1m[\u001b[0m\n",
       "\u001b[2;32m│   │   \u001b[0m\u001b[32m'Giới thiệu mục tiêu bài học: Khám phá và định nghĩa mặt cầu.'\u001b[0m,\n",
       "\u001b[2;32m│   │   \u001b[0m\u001b[32m'Phát cho mỗi nhóm một vật thể có dạng hình cầu \u001b[0m\u001b[32m(\u001b[0m\u001b[32mví dụ: quả bóng, quả địa cầu nhỏ\u001b[0m\u001b[32m)\u001b[0m\u001b[32m hoặc yêu cầu học sinh quan sát các vật thể hình cầu trong lớp.'\u001b[0m,\n",
       "\u001b[2;32m│   │   \u001b[0m\u001b[32m\"Đặt câu hỏi gợi mở: 'Các em hãy quan sát vật thể này và cho biết nó có những đặc điểm gì nổi bật? Các điểm trên bề mặt vật thể này có gì đặc biệt so với một điểm ở tâm?'\"\u001b[0m,\n",
       "\u001b[2;32m│   │   \u001b[0m\u001b[32m'Quan sát các nhóm thảo luận, lắng nghe các ý kiến và hỗ trợ khi cần thiết, đảm bảo tất cả học sinh đều tham gia.'\u001b[0m,\n",
       "\u001b[2;32m│   │   \u001b[0m\u001b[32m'Yêu cầu đại diện một vài nhóm trình bày kết quả quan sát và định nghĩa sơ bộ của nhóm về mặt cầu.'\u001b[0m,\n",
       "\u001b[2;32m│   │   \u001b[0m\u001b[32m'Tổng hợp các ý kiến, chốt lại các đặc điểm quan trọng và đưa ra định nghĩa chuẩn về mặt cầu \u001b[0m\u001b[32m(\u001b[0m\u001b[32mtập hợp các điểm cách đều một điểm cố định\u001b[0m\u001b[32m)\u001b[0m\u001b[32m.'\u001b[0m\n",
       "\u001b[2;32m│   \u001b[0m\u001b[1m]\u001b[0m,\n",
       "\u001b[2;32m│   \u001b[0m\u001b[32m'extension_component'\u001b[0m: \u001b[32m'Học sinh có thể vẽ phác thảo một mặt cầu và đánh dấu tâm, bán kính. Hoặc tìm thêm các ví dụ về mặt cầu trong đời sống và giải thích tại sao chúng lại có dạng mặt cầu.'\u001b[0m,\n",
       "\u001b[2;32m│   \u001b[0m\u001b[32m'solution_guide'\u001b[0m: \u001b[32m'Các câu hỏi gợi mở: 1. Các điểm trên bề mặt vật thể này có gì chung? 2. Có một điểm nào đó mà tất cả các điểm trên bề mặt đều cách đều không? 3. Khoảng cách đó gọi là gì? 4. Vậy mặt cầu là gì?'\u001b[0m,\n",
       "\u001b[2;32m│   \u001b[0m\u001b[32m'differentiation'\u001b[0m: \u001b[1m{\u001b[0m\n",
       "\u001b[2;32m│   │   \u001b[0m\u001b[32m'for_struggling_students'\u001b[0m: \u001b[32m'Cung cấp các vật thể hình cầu có kích thước lớn, dễ quan sát. Gợi ý cụ thể hơn bằng cách đặt câu hỏi trực tiếp về tâm và khoảng cách. Có thể cho học sinh dùng thước dây để đo thử khoảng cách từ tâm đến các điểm trên bề mặt.'\u001b[0m,\n",
       "\u001b[2;32m│   │   \u001b[0m\u001b[32m'for_advanced_students'\u001b[0m: \u001b[32m'Yêu cầu học sinh suy nghĩ về sự khác biệt giữa mặt cầu và hình cầu. Hoặc đặt câu hỏi về công thức tính diện tích mặt cầu \u001b[0m\u001b[32m(\u001b[0m\u001b[32mnếu đã học\u001b[0m\u001b[32m)\u001b[0m\u001b[32m hoặc các ứng dụng phức tạp hơn của mặt cầu trong khoa học.'\u001b[0m\n",
       "\u001b[2;32m│   \u001b[0m\u001b[1m}\u001b[0m,\n",
       "\u001b[2;32m│   \u001b[0m\u001b[32m'question_or_description'\u001b[0m: \u001b[32m'Học sinh làm việc theo nhóm \u001b[0m\u001b[32m(\u001b[0m\u001b[32m2-3 người\u001b[0m\u001b[32m)\u001b[0m\u001b[32m. Mỗi nhóm được cung cấp một vật thể hình cầu hoặc được yêu cầu quan sát các vật thể hình cầu xung quanh. Các nhóm thảo luận để xác định các đặc điểm chung của vật thể, đặc biệt là mối quan hệ giữa các điểm trên bề mặt và một điểm cố định \u001b[0m\u001b[32m(\u001b[0m\u001b[32mtâm\u001b[0m\u001b[32m)\u001b[0m\u001b[32m. Từ đó, các nhóm cố gắng đưa ra một định nghĩa sơ bộ về mặt cầu.'\u001b[0m,\n",
       "\u001b[2;32m│   \u001b[0m\u001b[32m'content_type'\u001b[0m: \u001b[32m'Thảo luận nhóm và Khám phá'\u001b[0m\n",
       "\u001b[1m}\u001b[0m\n"
      ]
     },
     "metadata": {},
     "output_type": "display_data"
    },
    {
     "data": {
      "text/html": [
       "<pre style=\"white-space:pre;overflow-x:auto;line-height:normal;font-family:Menlo,'DejaVu Sans Mono',consolas,'Courier New',monospace\">\n",
       "<span style=\"color: #808000; text-decoration-color: #808000; font-weight: bold\">------- Hoàn thành bước: activity_designer -------</span>\n",
       "</pre>\n"
      ],
      "text/plain": [
       "\n",
       "\u001b[1;33m------- Hoàn thành bước: activity_designer -------\u001b[0m\n"
      ]
     },
     "metadata": {},
     "output_type": "display_data"
    },
    {
     "data": {
      "text/html": [
       "<pre style=\"white-space:pre;overflow-x:auto;line-height:normal;font-family:Menlo,'DejaVu Sans Mono',consolas,'Courier New',monospace\">\n",
       "<span style=\"color: #008080; text-decoration-color: #008080; font-weight: bold\">&gt;</span> `Agent: Easy-Going Critic` <span style=\"font-weight: bold\">(</span>v13.<span style=\"color: #008080; text-decoration-color: #008080; font-weight: bold\">1</span><span style=\"font-weight: bold\">)</span> đang phân tích<span style=\"color: #808000; text-decoration-color: #808000\">...</span>\n",
       "</pre>\n"
      ],
      "text/plain": [
       "\n",
       "\u001b[1;36m>\u001b[0m `Agent: Easy-Going Critic` \u001b[1m(\u001b[0mv13.\u001b[1;36m1\u001b[0m\u001b[1m)\u001b[0m đang phân tích\u001b[33m...\u001b[0m\n"
      ]
     },
     "metadata": {},
     "output_type": "display_data"
    },
    {
     "data": {
      "text/html": [
       "<pre style=\"white-space:pre;overflow-x:auto;line-height:normal;font-family:Menlo,'DejaVu Sans Mono',consolas,'Courier New',monospace\">\n",
       "<span style=\"color: #008080; text-decoration-color: #008080; font-weight: bold\">&gt;</span> ✔️ CRITIC <span style=\"font-weight: bold\">(</span>Lần <span style=\"color: #008080; text-decoration-color: #008080; font-weight: bold\">1</span><span style=\"font-weight: bold\">)</span>: Nội dung được duyệt! <span style=\"font-weight: bold\">(</span>Góp ý: Hoạt động này rất tốt và có tính khám phá cao. Tuy nhiên, với <span style=\"color: #008080; text-decoration-color: #008080; font-weight: bold\">15</span> \n",
       "phút, việc thực hiện đầy đủ các bước từ thảo luận nhóm, đại diện trình bày đến tổng kết và đưa ra định nghĩa chuẩn \n",
       "có thể hơi gấp. Giáo viên cần quản lý thời gian rất chặt chẽ, có thể giới hạn số nhóm trình bày hoặc rút gọn phần \n",
       "tổng kết nếu học sinh đã nắm được ý chính để đảm bảo kịp tiến độ.<span style=\"font-weight: bold\">)</span>\n",
       "</pre>\n"
      ],
      "text/plain": [
       "\n",
       "\u001b[1;36m>\u001b[0m ✔️ CRITIC \u001b[1m(\u001b[0mLần \u001b[1;36m1\u001b[0m\u001b[1m)\u001b[0m: Nội dung được duyệt! \u001b[1m(\u001b[0mGóp ý: Hoạt động này rất tốt và có tính khám phá cao. Tuy nhiên, với \u001b[1;36m15\u001b[0m \n",
       "phút, việc thực hiện đầy đủ các bước từ thảo luận nhóm, đại diện trình bày đến tổng kết và đưa ra định nghĩa chuẩn \n",
       "có thể hơi gấp. Giáo viên cần quản lý thời gian rất chặt chẽ, có thể giới hạn số nhóm trình bày hoặc rút gọn phần \n",
       "tổng kết nếu học sinh đã nắm được ý chính để đảm bảo kịp tiến độ.\u001b[1m)\u001b[0m\n"
      ]
     },
     "metadata": {},
     "output_type": "display_data"
    },
    {
     "data": {
      "text/html": [
       "<pre style=\"white-space:pre;overflow-x:auto;line-height:normal;font-family:Menlo,'DejaVu Sans Mono',consolas,'Courier New',monospace\">\n",
       "<span style=\"color: #808000; text-decoration-color: #808000; font-weight: bold\">------- Hoàn thành bước: content_validator -------</span>\n",
       "</pre>\n"
      ],
      "text/plain": [
       "\n",
       "\u001b[1;33m------- Hoàn thành bước: content_validator -------\u001b[0m\n"
      ]
     },
     "metadata": {},
     "output_type": "display_data"
    },
    {
     "data": {
      "text/html": [
       "<pre style=\"white-space:pre;overflow-x:auto;line-height:normal;font-family:Menlo,'DejaVu Sans Mono',consolas,'Courier New',monospace\">\n",
       "<span style=\"color: #008080; text-decoration-color: #008080; font-weight: bold\">&gt;</span> `Commiter`: Đang ghi nhận nội dung đã được xác thực<span style=\"color: #808000; text-decoration-color: #808000\">...</span>\n",
       "</pre>\n"
      ],
      "text/plain": [
       "\n",
       "\u001b[1;36m>\u001b[0m `Commiter`: Đang ghi nhận nội dung đã được xác thực\u001b[33m...\u001b[0m\n"
      ]
     },
     "metadata": {},
     "output_type": "display_data"
    },
    {
     "data": {
      "text/html": [
       "<pre style=\"white-space:pre;overflow-x:auto;line-height:normal;font-family:Menlo,'DejaVu Sans Mono',consolas,'Courier New',monospace\">\n",
       "<span style=\"color: #808000; text-decoration-color: #808000; font-weight: bold\">------- Hoàn thành bước: commit_validated_content -------</span>\n",
       "</pre>\n"
      ],
      "text/plain": [
       "\n",
       "\u001b[1;33m------- Hoàn thành bước: commit_validated_content -------\u001b[0m\n"
      ]
     },
     "metadata": {},
     "output_type": "display_data"
    },
    {
     "data": {
      "text/html": [
       "<pre style=\"white-space:pre;overflow-x:auto;line-height:normal;font-family:Menlo,'DejaVu Sans Mono',consolas,'Courier New',monospace\">\n",
       "<span style=\"color: #808000; text-decoration-color: #808000; font-weight: bold\">------- Hoàn thành bước: mark_task_complete -------</span>\n",
       "</pre>\n"
      ],
      "text/plain": [
       "\n",
       "\u001b[1;33m------- Hoàn thành bước: mark_task_complete -------\u001b[0m\n"
      ]
     },
     "metadata": {},
     "output_type": "display_data"
    },
    {
     "data": {
      "text/html": [
       "<pre style=\"white-space:pre;overflow-x:auto;line-height:normal;font-family:Menlo,'DejaVu Sans Mono',consolas,'Courier New',monospace\">\n",
       "<span style=\"color: #808000; text-decoration-color: #808000; font-weight: bold\">------- Hoàn thành bước: delay_node -------</span>\n",
       "</pre>\n"
      ],
      "text/plain": [
       "\n",
       "\u001b[1;33m------- Hoàn thành bước: delay_node -------\u001b[0m\n"
      ]
     },
     "metadata": {},
     "output_type": "display_data"
    },
    {
     "data": {
      "text/html": [
       "<pre style=\"white-space:pre;overflow-x:auto;line-height:normal;font-family:Menlo,'DejaVu Sans Mono',consolas,'Courier New',monospace\">\n",
       "<span style=\"color: #008080; text-decoration-color: #008080; font-weight: bold\">&gt;</span> `Router`: Đang kiểm tra nhiệm vụ<span style=\"color: #808000; text-decoration-color: #808000\">...</span>\n",
       "</pre>\n"
      ],
      "text/plain": [
       "\n",
       "\u001b[1;36m>\u001b[0m `Router`: Đang kiểm tra nhiệm vụ\u001b[33m...\u001b[0m\n"
      ]
     },
     "metadata": {},
     "output_type": "display_data"
    },
    {
     "data": {
      "text/html": [
       "<pre style=\"white-space:pre;overflow-x:auto;line-height:normal;font-family:Menlo,'DejaVu Sans Mono',consolas,'Courier New',monospace\">\n",
       "<span style=\"color: #008080; text-decoration-color: #008080; font-weight: bold\">&gt;</span> Nhiệm vụ tiếp theo: <span style=\"color: #008000; text-decoration-color: #008000\">'Xây dựng và Thực hành Phương trình Mặt cầu Dạng Chính tắc'</span> <span style=\"font-weight: bold\">(</span>ID: <span style=\"color: #008080; text-decoration-color: #008080; font-weight: bold\">1</span><span style=\"font-weight: bold\">)</span>\n",
       "</pre>\n"
      ],
      "text/plain": [
       "\n",
       "\u001b[1;36m>\u001b[0m Nhiệm vụ tiếp theo: \u001b[32m'Xây dựng và Thực hành Phương trình Mặt cầu Dạng Chính tắc'\u001b[0m \u001b[1m(\u001b[0mID: \u001b[1;36m1\u001b[0m\u001b[1m)\u001b[0m\n"
      ]
     },
     "metadata": {},
     "output_type": "display_data"
    },
    {
     "data": {
      "text/html": [
       "<pre style=\"white-space:pre;overflow-x:auto;line-height:normal;font-family:Menlo,'DejaVu Sans Mono',consolas,'Courier New',monospace\">\n",
       "<span style=\"color: #808000; text-decoration-color: #808000; font-weight: bold\">------- Hoàn thành bước: task_router -------</span>\n",
       "</pre>\n"
      ],
      "text/plain": [
       "\n",
       "\u001b[1;33m------- Hoàn thành bước: task_router -------\u001b[0m\n"
      ]
     },
     "metadata": {},
     "output_type": "display_data"
    },
    {
     "data": {
      "text/html": [
       "<pre style=\"white-space:pre;overflow-x:auto;line-height:normal;font-family:Menlo,'DejaVu Sans Mono',consolas,'Courier New',monospace\">\n",
       "<span style=\"color: #008080; text-decoration-color: #008080; font-weight: bold\">&gt;</span> `Agent: Task Dispatcher` đang giao việc<span style=\"color: #808000; text-decoration-color: #808000\">...</span>\n",
       "</pre>\n"
      ],
      "text/plain": [
       "\n",
       "\u001b[1;36m>\u001b[0m `Agent: Task Dispatcher` đang giao việc\u001b[33m...\u001b[0m\n"
      ]
     },
     "metadata": {},
     "output_type": "display_data"
    },
    {
     "data": {
      "text/html": [
       "<pre style=\"white-space:pre;overflow-x:auto;line-height:normal;font-family:Menlo,'DejaVu Sans Mono',consolas,'Courier New',monospace\">\n",
       "<span style=\"color: #008080; text-decoration-color: #008080; font-weight: bold\">&gt;</span> --- 🚚 `Dispatcher`: Giao nhiệm vụ cho `activity_designer`.\n",
       "</pre>\n"
      ],
      "text/plain": [
       "\n",
       "\u001b[1;36m>\u001b[0m --- 🚚 `Dispatcher`: Giao nhiệm vụ cho `activity_designer`.\n"
      ]
     },
     "metadata": {},
     "output_type": "display_data"
    },
    {
     "data": {
      "text/html": [
       "<pre style=\"white-space:pre;overflow-x:auto;line-height:normal;font-family:Menlo,'DejaVu Sans Mono',consolas,'Courier New',monospace\">\n",
       "<span style=\"color: #808000; text-decoration-color: #808000; font-weight: bold\">------- Hoàn thành bước: task_dispatcher -------</span>\n",
       "</pre>\n"
      ],
      "text/plain": [
       "\n",
       "\u001b[1;33m------- Hoàn thành bước: task_dispatcher -------\u001b[0m\n"
      ]
     },
     "metadata": {},
     "output_type": "display_data"
    },
    {
     "data": {
      "text/html": [
       "<pre style=\"white-space:pre;overflow-x:auto;line-height:normal;font-family:Menlo,'DejaVu Sans Mono',consolas,'Courier New',monospace\">\n",
       "<span style=\"color: #008080; text-decoration-color: #008080; font-weight: bold\">&gt;</span> `Agent: Activity Designer` <span style=\"font-weight: bold\">(</span>v13.<span style=\"color: #008080; text-decoration-color: #008080; font-weight: bold\">1</span> - Tư duy Phản tư<span style=\"font-weight: bold\">)</span> đang tạo nội dung<span style=\"color: #808000; text-decoration-color: #808000\">...</span>\n",
       "</pre>\n"
      ],
      "text/plain": [
       "\n",
       "\u001b[1;36m>\u001b[0m `Agent: Activity Designer` \u001b[1m(\u001b[0mv13.\u001b[1;36m1\u001b[0m - Tư duy Phản tư\u001b[1m)\u001b[0m đang tạo nội dung\u001b[33m...\u001b[0m\n"
      ]
     },
     "metadata": {},
     "output_type": "display_data"
    },
    {
     "data": {
      "text/html": [
       "<pre style=\"white-space:pre;overflow-x:auto;line-height:normal;font-family:Menlo,'DejaVu Sans Mono',consolas,'Courier New',monospace\"><span style=\"color: #008000; text-decoration-color: #008000; font-weight: bold\">✔️ Nội dung do Activity Designer tạo ra:</span>\n",
       "</pre>\n"
      ],
      "text/plain": [
       "\u001b[1;32m✔️ Nội dung do Activity Designer tạo ra:\u001b[0m\n"
      ]
     },
     "metadata": {},
     "output_type": "display_data"
    },
    {
     "data": {
      "text/html": [
       "<pre style=\"white-space:pre;overflow-x:auto;line-height:normal;font-family:Menlo,'DejaVu Sans Mono',consolas,'Courier New',monospace\"><span style=\"font-weight: bold\">{</span>\n",
       "<span style=\"color: #7fbf7f; text-decoration-color: #7fbf7f\">│   </span><span style=\"color: #008000; text-decoration-color: #008000\">'activity_name'</span>: <span style=\"color: #008000; text-decoration-color: #008000\">'Xây dựng và Thực hành Phương trình Mặt cầu Dạng Chính tắc'</span>,\n",
       "<span style=\"color: #7fbf7f; text-decoration-color: #7fbf7f\">│   </span><span style=\"color: #008000; text-decoration-color: #008000\">'duration_minutes'</span>: <span style=\"color: #008080; text-decoration-color: #008080; font-weight: bold\">20</span>,\n",
       "<span style=\"color: #7fbf7f; text-decoration-color: #7fbf7f\">│   </span><span style=\"color: #008000; text-decoration-color: #008000\">'teacher_actions'</span>: <span style=\"font-weight: bold\">[</span>\n",
       "<span style=\"color: #7fbf7f; text-decoration-color: #7fbf7f\">│   │   </span><span style=\"color: #008000; text-decoration-color: #008000\">'Giới thiệu mục tiêu bài học và tầm quan trọng của phương trình mặt cầu trong không gian (2 phút).'</span>,\n",
       "<span style=\"color: #7fbf7f; text-decoration-color: #7fbf7f\">│   │   </span><span style=\"color: #008000; text-decoration-color: #008000\">'Nhắc lại định nghĩa mặt cầu và công thức tính khoảng cách giữa hai điểm trong không gian (3 phút).'</span>,\n",
       "<span style=\"color: #7fbf7f; text-decoration-color: #7fbf7f\">│   │   </span><span style=\"color: #008000; text-decoration-color: #008000\">'Hướng dẫn học sinh tự xây dựng phương trình mặt cầu dạng chính tắc từ định nghĩa (5 phút).'</span>,\n",
       "<span style=\"color: #7fbf7f; text-decoration-color: #7fbf7f\">│   │   </span><span style=\"color: #008000; text-decoration-color: #008000\">'Cung cấp 2 bài tập vận dụng cơ bản (1 bài viết phương trình khi biết tâm/bán kính, 1 bài tìm tâm/bán kính từ phương trình) và yêu cầu học sinh làm cá nhân hoặc theo cặp (8 phút).'</span>,\n",
       "<span style=\"color: #7fbf7f; text-decoration-color: #7fbf7f\">│   │   </span><span style=\"color: #008000; text-decoration-color: #008000\">'Đi lại các nhóm/cá nhân để quan sát, hỗ trợ, giải đáp thắc mắc và kiểm tra nhanh kết quả.'</span>,\n",
       "<span style=\"color: #7fbf7f; text-decoration-color: #7fbf7f\">│   │   </span><span style=\"color: #008000; text-decoration-color: #008000\">'Tổng kết nhanh các kiến thức trọng tâm và các lỗi thường gặp (2 phút cuối).'</span>\n",
       "<span style=\"color: #7fbf7f; text-decoration-color: #7fbf7f\">│   </span><span style=\"font-weight: bold\">]</span>,\n",
       "<span style=\"color: #7fbf7f; text-decoration-color: #7fbf7f\">│   </span><span style=\"color: #008000; text-decoration-color: #008000\">'extension_component'</span>: <span style=\"color: #008000; text-decoration-color: #008000\">'Viết phương trình mặt cầu có tâm I(1,2,3) và đi qua điểm A(4,5,6).'</span>,\n",
       "<span style=\"color: #7fbf7f; text-decoration-color: #7fbf7f\">│   </span><span style=\"color: #008000; text-decoration-color: #008000\">'solution_guide'</span>: <span style=\"color: #008000; text-decoration-color: #008000\">'Công thức phương trình mặt cầu tâm I(a,b,c), bán kính R là: (x-a)^2 + (y-b)^2 + (z-c)^2 = R^2. Hướng dẫn giải chi tiết 2 bài tập cơ bản trong phần cốt lõi, nhấn mạnh cách xác định tâm và bán kính.'</span>,\n",
       "<span style=\"color: #7fbf7f; text-decoration-color: #7fbf7f\">│   </span><span style=\"color: #008000; text-decoration-color: #008000\">'differentiation'</span>: <span style=\"font-weight: bold\">{</span>\n",
       "<span style=\"color: #7fbf7f; text-decoration-color: #7fbf7f\">│   │   </span><span style=\"color: #008000; text-decoration-color: #008000\">'for_struggling_students'</span>: <span style=\"color: #008000; text-decoration-color: #008000\">'Cung cấp sẵn công thức phương trình mặt cầu và yêu cầu học sinh chỉ cần thay số vào để giải các bài tập đơn giản (ví dụ: tâm là gốc tọa độ, bán kính là số nguyên nhỏ).'</span>,\n",
       "<span style=\"color: #7fbf7f; text-decoration-color: #7fbf7f\">│   │   </span><span style=\"color: #008000; text-decoration-color: #008000\">'for_advanced_students'</span>: <span style=\"color: #008000; text-decoration-color: #008000\">'Yêu cầu học sinh chứng minh công thức phương trình mặt cầu từ định nghĩa hoặc giải bài tập mở rộng: Viết phương trình mặt cầu có tâm I(1,2,3) và đi qua điểm A(4,5,6).'</span>\n",
       "<span style=\"color: #7fbf7f; text-decoration-color: #7fbf7f\">│   </span><span style=\"font-weight: bold\">}</span>,\n",
       "<span style=\"color: #7fbf7f; text-decoration-color: #7fbf7f\">│   </span><span style=\"color: #008000; text-decoration-color: #008000\">'question_or_description'</span>: <span style=\"color: #008000; text-decoration-color: #008000\">'Học sinh tự xây dựng công thức phương trình mặt cầu dạng chính tắc dựa trên định nghĩa (tâm I(a,b,c), bán kính R). Vận dụng công thức để viết phương trình mặt cầu khi biết tâm và bán kính, và xác định tâm, bán kính từ một phương trình cho trước thông qua 2 bài tập cơ bản.'</span>,\n",
       "<span style=\"color: #7fbf7f; text-decoration-color: #7fbf7f\">│   </span><span style=\"color: #008000; text-decoration-color: #008000\">'content_type'</span>: <span style=\"color: #008000; text-decoration-color: #008000\">'Thực hành có hướng dẫn'</span>\n",
       "<span style=\"font-weight: bold\">}</span>\n",
       "</pre>\n"
      ],
      "text/plain": [
       "\u001b[1m{\u001b[0m\n",
       "\u001b[2;32m│   \u001b[0m\u001b[32m'activity_name'\u001b[0m: \u001b[32m'Xây dựng và Thực hành Phương trình Mặt cầu Dạng Chính tắc'\u001b[0m,\n",
       "\u001b[2;32m│   \u001b[0m\u001b[32m'duration_minutes'\u001b[0m: \u001b[1;36m20\u001b[0m,\n",
       "\u001b[2;32m│   \u001b[0m\u001b[32m'teacher_actions'\u001b[0m: \u001b[1m[\u001b[0m\n",
       "\u001b[2;32m│   │   \u001b[0m\u001b[32m'Giới thiệu mục tiêu bài học và tầm quan trọng của phương trình mặt cầu trong không gian \u001b[0m\u001b[32m(\u001b[0m\u001b[32m2 phút\u001b[0m\u001b[32m)\u001b[0m\u001b[32m.'\u001b[0m,\n",
       "\u001b[2;32m│   │   \u001b[0m\u001b[32m'Nhắc lại định nghĩa mặt cầu và công thức tính khoảng cách giữa hai điểm trong không gian \u001b[0m\u001b[32m(\u001b[0m\u001b[32m3 phút\u001b[0m\u001b[32m)\u001b[0m\u001b[32m.'\u001b[0m,\n",
       "\u001b[2;32m│   │   \u001b[0m\u001b[32m'Hướng dẫn học sinh tự xây dựng phương trình mặt cầu dạng chính tắc từ định nghĩa \u001b[0m\u001b[32m(\u001b[0m\u001b[32m5 phút\u001b[0m\u001b[32m)\u001b[0m\u001b[32m.'\u001b[0m,\n",
       "\u001b[2;32m│   │   \u001b[0m\u001b[32m'Cung cấp 2 bài tập vận dụng cơ bản \u001b[0m\u001b[32m(\u001b[0m\u001b[32m1 bài viết phương trình khi biết tâm/bán kính, 1 bài tìm tâm/bán kính từ phương trình\u001b[0m\u001b[32m)\u001b[0m\u001b[32m và yêu cầu học sinh làm cá nhân hoặc theo cặp \u001b[0m\u001b[32m(\u001b[0m\u001b[32m8 phút\u001b[0m\u001b[32m)\u001b[0m\u001b[32m.'\u001b[0m,\n",
       "\u001b[2;32m│   │   \u001b[0m\u001b[32m'Đi lại các nhóm/cá nhân để quan sát, hỗ trợ, giải đáp thắc mắc và kiểm tra nhanh kết quả.'\u001b[0m,\n",
       "\u001b[2;32m│   │   \u001b[0m\u001b[32m'Tổng kết nhanh các kiến thức trọng tâm và các lỗi thường gặp \u001b[0m\u001b[32m(\u001b[0m\u001b[32m2 phút cuối\u001b[0m\u001b[32m)\u001b[0m\u001b[32m.'\u001b[0m\n",
       "\u001b[2;32m│   \u001b[0m\u001b[1m]\u001b[0m,\n",
       "\u001b[2;32m│   \u001b[0m\u001b[32m'extension_component'\u001b[0m: \u001b[32m'Viết phương trình mặt cầu có tâm I\u001b[0m\u001b[32m(\u001b[0m\u001b[32m1,2,3\u001b[0m\u001b[32m)\u001b[0m\u001b[32m và đi qua điểm A\u001b[0m\u001b[32m(\u001b[0m\u001b[32m4,5,6\u001b[0m\u001b[32m)\u001b[0m\u001b[32m.'\u001b[0m,\n",
       "\u001b[2;32m│   \u001b[0m\u001b[32m'solution_guide'\u001b[0m: \u001b[32m'Công thức phương trình mặt cầu tâm I\u001b[0m\u001b[32m(\u001b[0m\u001b[32ma,b,c\u001b[0m\u001b[32m)\u001b[0m\u001b[32m, bán kính R là: \u001b[0m\u001b[32m(\u001b[0m\u001b[32mx-a\u001b[0m\u001b[32m)\u001b[0m\u001b[32m^2 + \u001b[0m\u001b[32m(\u001b[0m\u001b[32my-b\u001b[0m\u001b[32m)\u001b[0m\u001b[32m^2 + \u001b[0m\u001b[32m(\u001b[0m\u001b[32mz-c\u001b[0m\u001b[32m)\u001b[0m\u001b[32m^2 = R^2. Hướng dẫn giải chi tiết 2 bài tập cơ bản trong phần cốt lõi, nhấn mạnh cách xác định tâm và bán kính.'\u001b[0m,\n",
       "\u001b[2;32m│   \u001b[0m\u001b[32m'differentiation'\u001b[0m: \u001b[1m{\u001b[0m\n",
       "\u001b[2;32m│   │   \u001b[0m\u001b[32m'for_struggling_students'\u001b[0m: \u001b[32m'Cung cấp sẵn công thức phương trình mặt cầu và yêu cầu học sinh chỉ cần thay số vào để giải các bài tập đơn giản \u001b[0m\u001b[32m(\u001b[0m\u001b[32mví dụ: tâm là gốc tọa độ, bán kính là số nguyên nhỏ\u001b[0m\u001b[32m)\u001b[0m\u001b[32m.'\u001b[0m,\n",
       "\u001b[2;32m│   │   \u001b[0m\u001b[32m'for_advanced_students'\u001b[0m: \u001b[32m'Yêu cầu học sinh chứng minh công thức phương trình mặt cầu từ định nghĩa hoặc giải bài tập mở rộng: Viết phương trình mặt cầu có tâm I\u001b[0m\u001b[32m(\u001b[0m\u001b[32m1,2,3\u001b[0m\u001b[32m)\u001b[0m\u001b[32m và đi qua điểm A\u001b[0m\u001b[32m(\u001b[0m\u001b[32m4,5,6\u001b[0m\u001b[32m)\u001b[0m\u001b[32m.'\u001b[0m\n",
       "\u001b[2;32m│   \u001b[0m\u001b[1m}\u001b[0m,\n",
       "\u001b[2;32m│   \u001b[0m\u001b[32m'question_or_description'\u001b[0m: \u001b[32m'Học sinh tự xây dựng công thức phương trình mặt cầu dạng chính tắc dựa trên định nghĩa \u001b[0m\u001b[32m(\u001b[0m\u001b[32mtâm I\u001b[0m\u001b[32m(\u001b[0m\u001b[32ma,b,c\u001b[0m\u001b[32m)\u001b[0m\u001b[32m, bán kính R\u001b[0m\u001b[32m)\u001b[0m\u001b[32m. Vận dụng công thức để viết phương trình mặt cầu khi biết tâm và bán kính, và xác định tâm, bán kính từ một phương trình cho trước thông qua 2 bài tập cơ bản.'\u001b[0m,\n",
       "\u001b[2;32m│   \u001b[0m\u001b[32m'content_type'\u001b[0m: \u001b[32m'Thực hành có hướng dẫn'\u001b[0m\n",
       "\u001b[1m}\u001b[0m\n"
      ]
     },
     "metadata": {},
     "output_type": "display_data"
    },
    {
     "data": {
      "text/html": [
       "<pre style=\"white-space:pre;overflow-x:auto;line-height:normal;font-family:Menlo,'DejaVu Sans Mono',consolas,'Courier New',monospace\">\n",
       "<span style=\"color: #808000; text-decoration-color: #808000; font-weight: bold\">------- Hoàn thành bước: activity_designer -------</span>\n",
       "</pre>\n"
      ],
      "text/plain": [
       "\n",
       "\u001b[1;33m------- Hoàn thành bước: activity_designer -------\u001b[0m\n"
      ]
     },
     "metadata": {},
     "output_type": "display_data"
    },
    {
     "data": {
      "text/html": [
       "<pre style=\"white-space:pre;overflow-x:auto;line-height:normal;font-family:Menlo,'DejaVu Sans Mono',consolas,'Courier New',monospace\">\n",
       "<span style=\"color: #008080; text-decoration-color: #008080; font-weight: bold\">&gt;</span> `Agent: Easy-Going Critic` <span style=\"font-weight: bold\">(</span>v13.<span style=\"color: #008080; text-decoration-color: #008080; font-weight: bold\">1</span><span style=\"font-weight: bold\">)</span> đang phân tích<span style=\"color: #808000; text-decoration-color: #808000\">...</span>\n",
       "</pre>\n"
      ],
      "text/plain": [
       "\n",
       "\u001b[1;36m>\u001b[0m `Agent: Easy-Going Critic` \u001b[1m(\u001b[0mv13.\u001b[1;36m1\u001b[0m\u001b[1m)\u001b[0m đang phân tích\u001b[33m...\u001b[0m\n"
      ]
     },
     "metadata": {},
     "output_type": "display_data"
    },
    {
     "data": {
      "text/html": [
       "<pre style=\"white-space:pre;overflow-x:auto;line-height:normal;font-family:Menlo,'DejaVu Sans Mono',consolas,'Courier New',monospace\">\n",
       "<span style=\"color: #008080; text-decoration-color: #008080; font-weight: bold\">&gt;</span> ✔️ CRITIC <span style=\"font-weight: bold\">(</span>Lần <span style=\"color: #008080; text-decoration-color: #008080; font-weight: bold\">1</span><span style=\"font-weight: bold\">)</span>: Nội dung được duyệt! <span style=\"font-weight: bold\">(</span>Góp ý: Hoạt động này được thiết kế rất tốt, bao gồm đầy đủ các bước từ \n",
       "giới thiệu, ôn tập, xây dựng kiến thức mới đến vận dụng và tổng kết, với thời lượng phân bổ hợp lý cho từng phần \n",
       "chính. Tuy nhiên, việc triển khai đồng thời phần mở rộng <span style=\"font-weight: bold\">(</span>extension_component<span style=\"font-weight: bold\">)</span> và phân hóa cho học sinh khá giỏi \n",
       "trong khuôn khổ <span style=\"color: #008080; text-decoration-color: #008080; font-weight: bold\">20</span> phút có thể khá thách thức. Giáo viên cần quản lý thời gian rất hiệu quả, có thể coi phần mở \n",
       "rộng là bài tập thêm cho học sinh hoàn thành nhanh hoặc giao về nhà để đảm bảo các mục tiêu cốt lõi được đạt được \n",
       "trong giờ.<span style=\"font-weight: bold\">)</span>\n",
       "</pre>\n"
      ],
      "text/plain": [
       "\n",
       "\u001b[1;36m>\u001b[0m ✔️ CRITIC \u001b[1m(\u001b[0mLần \u001b[1;36m1\u001b[0m\u001b[1m)\u001b[0m: Nội dung được duyệt! \u001b[1m(\u001b[0mGóp ý: Hoạt động này được thiết kế rất tốt, bao gồm đầy đủ các bước từ \n",
       "giới thiệu, ôn tập, xây dựng kiến thức mới đến vận dụng và tổng kết, với thời lượng phân bổ hợp lý cho từng phần \n",
       "chính. Tuy nhiên, việc triển khai đồng thời phần mở rộng \u001b[1m(\u001b[0mextension_component\u001b[1m)\u001b[0m và phân hóa cho học sinh khá giỏi \n",
       "trong khuôn khổ \u001b[1;36m20\u001b[0m phút có thể khá thách thức. Giáo viên cần quản lý thời gian rất hiệu quả, có thể coi phần mở \n",
       "rộng là bài tập thêm cho học sinh hoàn thành nhanh hoặc giao về nhà để đảm bảo các mục tiêu cốt lõi được đạt được \n",
       "trong giờ.\u001b[1m)\u001b[0m\n"
      ]
     },
     "metadata": {},
     "output_type": "display_data"
    },
    {
     "data": {
      "text/html": [
       "<pre style=\"white-space:pre;overflow-x:auto;line-height:normal;font-family:Menlo,'DejaVu Sans Mono',consolas,'Courier New',monospace\">\n",
       "<span style=\"color: #808000; text-decoration-color: #808000; font-weight: bold\">------- Hoàn thành bước: content_validator -------</span>\n",
       "</pre>\n"
      ],
      "text/plain": [
       "\n",
       "\u001b[1;33m------- Hoàn thành bước: content_validator -------\u001b[0m\n"
      ]
     },
     "metadata": {},
     "output_type": "display_data"
    },
    {
     "data": {
      "text/html": [
       "<pre style=\"white-space:pre;overflow-x:auto;line-height:normal;font-family:Menlo,'DejaVu Sans Mono',consolas,'Courier New',monospace\">\n",
       "<span style=\"color: #008080; text-decoration-color: #008080; font-weight: bold\">&gt;</span> `Commiter`: Đang ghi nhận nội dung đã được xác thực<span style=\"color: #808000; text-decoration-color: #808000\">...</span>\n",
       "</pre>\n"
      ],
      "text/plain": [
       "\n",
       "\u001b[1;36m>\u001b[0m `Commiter`: Đang ghi nhận nội dung đã được xác thực\u001b[33m...\u001b[0m\n"
      ]
     },
     "metadata": {},
     "output_type": "display_data"
    },
    {
     "data": {
      "text/html": [
       "<pre style=\"white-space:pre;overflow-x:auto;line-height:normal;font-family:Menlo,'DejaVu Sans Mono',consolas,'Courier New',monospace\">\n",
       "<span style=\"color: #808000; text-decoration-color: #808000; font-weight: bold\">------- Hoàn thành bước: commit_validated_content -------</span>\n",
       "</pre>\n"
      ],
      "text/plain": [
       "\n",
       "\u001b[1;33m------- Hoàn thành bước: commit_validated_content -------\u001b[0m\n"
      ]
     },
     "metadata": {},
     "output_type": "display_data"
    },
    {
     "data": {
      "text/html": [
       "<pre style=\"white-space:pre;overflow-x:auto;line-height:normal;font-family:Menlo,'DejaVu Sans Mono',consolas,'Courier New',monospace\">\n",
       "<span style=\"color: #808000; text-decoration-color: #808000; font-weight: bold\">------- Hoàn thành bước: mark_task_complete -------</span>\n",
       "</pre>\n"
      ],
      "text/plain": [
       "\n",
       "\u001b[1;33m------- Hoàn thành bước: mark_task_complete -------\u001b[0m\n"
      ]
     },
     "metadata": {},
     "output_type": "display_data"
    },
    {
     "data": {
      "text/html": [
       "<pre style=\"white-space:pre;overflow-x:auto;line-height:normal;font-family:Menlo,'DejaVu Sans Mono',consolas,'Courier New',monospace\">\n",
       "<span style=\"color: #808000; text-decoration-color: #808000; font-weight: bold\">------- Hoàn thành bước: delay_node -------</span>\n",
       "</pre>\n"
      ],
      "text/plain": [
       "\n",
       "\u001b[1;33m------- Hoàn thành bước: delay_node -------\u001b[0m\n"
      ]
     },
     "metadata": {},
     "output_type": "display_data"
    },
    {
     "data": {
      "text/html": [
       "<pre style=\"white-space:pre;overflow-x:auto;line-height:normal;font-family:Menlo,'DejaVu Sans Mono',consolas,'Courier New',monospace\">\n",
       "<span style=\"color: #008080; text-decoration-color: #008080; font-weight: bold\">&gt;</span> `Router`: Đang kiểm tra nhiệm vụ<span style=\"color: #808000; text-decoration-color: #808000\">...</span>\n",
       "</pre>\n"
      ],
      "text/plain": [
       "\n",
       "\u001b[1;36m>\u001b[0m `Router`: Đang kiểm tra nhiệm vụ\u001b[33m...\u001b[0m\n"
      ]
     },
     "metadata": {},
     "output_type": "display_data"
    },
    {
     "data": {
      "text/html": [
       "<pre style=\"white-space:pre;overflow-x:auto;line-height:normal;font-family:Menlo,'DejaVu Sans Mono',consolas,'Courier New',monospace\">\n",
       "<span style=\"color: #008080; text-decoration-color: #008080; font-weight: bold\">&gt;</span> Nhiệm vụ tiếp theo: <span style=\"color: #008000; text-decoration-color: #008000\">'Khám phá và Luyện tập Phương trình Mặt cầu Dạng Khai triển'</span> <span style=\"font-weight: bold\">(</span>ID: <span style=\"color: #008080; text-decoration-color: #008080; font-weight: bold\">2</span><span style=\"font-weight: bold\">)</span>\n",
       "</pre>\n"
      ],
      "text/plain": [
       "\n",
       "\u001b[1;36m>\u001b[0m Nhiệm vụ tiếp theo: \u001b[32m'Khám phá và Luyện tập Phương trình Mặt cầu Dạng Khai triển'\u001b[0m \u001b[1m(\u001b[0mID: \u001b[1;36m2\u001b[0m\u001b[1m)\u001b[0m\n"
      ]
     },
     "metadata": {},
     "output_type": "display_data"
    },
    {
     "data": {
      "text/html": [
       "<pre style=\"white-space:pre;overflow-x:auto;line-height:normal;font-family:Menlo,'DejaVu Sans Mono',consolas,'Courier New',monospace\">\n",
       "<span style=\"color: #808000; text-decoration-color: #808000; font-weight: bold\">------- Hoàn thành bước: task_router -------</span>\n",
       "</pre>\n"
      ],
      "text/plain": [
       "\n",
       "\u001b[1;33m------- Hoàn thành bước: task_router -------\u001b[0m\n"
      ]
     },
     "metadata": {},
     "output_type": "display_data"
    },
    {
     "data": {
      "text/html": [
       "<pre style=\"white-space:pre;overflow-x:auto;line-height:normal;font-family:Menlo,'DejaVu Sans Mono',consolas,'Courier New',monospace\">\n",
       "<span style=\"color: #008080; text-decoration-color: #008080; font-weight: bold\">&gt;</span> `Agent: Task Dispatcher` đang giao việc<span style=\"color: #808000; text-decoration-color: #808000\">...</span>\n",
       "</pre>\n"
      ],
      "text/plain": [
       "\n",
       "\u001b[1;36m>\u001b[0m `Agent: Task Dispatcher` đang giao việc\u001b[33m...\u001b[0m\n"
      ]
     },
     "metadata": {},
     "output_type": "display_data"
    },
    {
     "data": {
      "text/html": [
       "<pre style=\"white-space:pre;overflow-x:auto;line-height:normal;font-family:Menlo,'DejaVu Sans Mono',consolas,'Courier New',monospace\">\n",
       "<span style=\"color: #008080; text-decoration-color: #008080; font-weight: bold\">&gt;</span> --- 🚚 `Dispatcher`: Giao nhiệm vụ cho `activity_designer`.\n",
       "</pre>\n"
      ],
      "text/plain": [
       "\n",
       "\u001b[1;36m>\u001b[0m --- 🚚 `Dispatcher`: Giao nhiệm vụ cho `activity_designer`.\n"
      ]
     },
     "metadata": {},
     "output_type": "display_data"
    },
    {
     "data": {
      "text/html": [
       "<pre style=\"white-space:pre;overflow-x:auto;line-height:normal;font-family:Menlo,'DejaVu Sans Mono',consolas,'Courier New',monospace\">\n",
       "<span style=\"color: #808000; text-decoration-color: #808000; font-weight: bold\">------- Hoàn thành bước: task_dispatcher -------</span>\n",
       "</pre>\n"
      ],
      "text/plain": [
       "\n",
       "\u001b[1;33m------- Hoàn thành bước: task_dispatcher -------\u001b[0m\n"
      ]
     },
     "metadata": {},
     "output_type": "display_data"
    },
    {
     "data": {
      "text/html": [
       "<pre style=\"white-space:pre;overflow-x:auto;line-height:normal;font-family:Menlo,'DejaVu Sans Mono',consolas,'Courier New',monospace\">\n",
       "<span style=\"color: #008080; text-decoration-color: #008080; font-weight: bold\">&gt;</span> `Agent: Activity Designer` <span style=\"font-weight: bold\">(</span>v13.<span style=\"color: #008080; text-decoration-color: #008080; font-weight: bold\">1</span> - Tư duy Phản tư<span style=\"font-weight: bold\">)</span> đang tạo nội dung<span style=\"color: #808000; text-decoration-color: #808000\">...</span>\n",
       "</pre>\n"
      ],
      "text/plain": [
       "\n",
       "\u001b[1;36m>\u001b[0m `Agent: Activity Designer` \u001b[1m(\u001b[0mv13.\u001b[1;36m1\u001b[0m - Tư duy Phản tư\u001b[1m)\u001b[0m đang tạo nội dung\u001b[33m...\u001b[0m\n"
      ]
     },
     "metadata": {},
     "output_type": "display_data"
    },
    {
     "data": {
      "text/html": [
       "<pre style=\"white-space:pre;overflow-x:auto;line-height:normal;font-family:Menlo,'DejaVu Sans Mono',consolas,'Courier New',monospace\"><span style=\"color: #008000; text-decoration-color: #008000; font-weight: bold\">✔️ Nội dung do Activity Designer tạo ra:</span>\n",
       "</pre>\n"
      ],
      "text/plain": [
       "\u001b[1;32m✔️ Nội dung do Activity Designer tạo ra:\u001b[0m\n"
      ]
     },
     "metadata": {},
     "output_type": "display_data"
    },
    {
     "data": {
      "text/html": [
       "<pre style=\"white-space:pre;overflow-x:auto;line-height:normal;font-family:Menlo,'DejaVu Sans Mono',consolas,'Courier New',monospace\"><span style=\"font-weight: bold\">{</span>\n",
       "<span style=\"color: #7fbf7f; text-decoration-color: #7fbf7f\">│   </span><span style=\"color: #008000; text-decoration-color: #008000\">'activity_name'</span>: <span style=\"color: #008000; text-decoration-color: #008000\">'Khám phá và Luyện tập Phương trình Mặt cầu Dạng Khai triển'</span>,\n",
       "<span style=\"color: #7fbf7f; text-decoration-color: #7fbf7f\">│   </span><span style=\"color: #008000; text-decoration-color: #008000\">'duration_minutes'</span>: <span style=\"color: #008080; text-decoration-color: #008080; font-weight: bold\">25</span>,\n",
       "<span style=\"color: #7fbf7f; text-decoration-color: #7fbf7f\">│   </span><span style=\"color: #008000; text-decoration-color: #008000\">'teacher_actions'</span>: <span style=\"font-weight: bold\">[</span>\n",
       "<span style=\"color: #7fbf7f; text-decoration-color: #7fbf7f\">│   │   </span><span style=\"color: #008000; text-decoration-color: #008000\">'Giới thiệu mục tiêu hoạt động và thời gian thực hiện (25 phút).'</span>,\n",
       "<span style=\"color: #7fbf7f; text-decoration-color: #7fbf7f\">│   │   </span><span style=\"color: #008000; text-decoration-color: #008000\">'Gợi ý học sinh nhớ lại phương trình mặt cầu dạng chính tắc và cách khai triển biểu thức bình phương.'</span>,\n",
       "<span style=\"color: #7fbf7f; text-decoration-color: #7fbf7f\">│   │   </span><span style=\"color: #008000; text-decoration-color: #008000\">'Phát phiếu học tập hoặc trình chiếu ví dụ khai triển mẫu để học sinh tham khảo.'</span>,\n",
       "<span style=\"color: #7fbf7f; text-decoration-color: #7fbf7f\">│   │   </span><span style=\"color: #008000; text-decoration-color: #008000\">'Quan sát, đi lại hỗ trợ các nhóm/cá nhân gặp khó khăn trong quá trình khai triển và rút ra công thức.'</span>,\n",
       "<span style=\"color: #7fbf7f; text-decoration-color: #7fbf7f\">│   │   </span><span style=\"color: #008000; text-decoration-color: #008000\">'Đặt câu hỏi gợi mở để học sinh tự tìm ra mối liên hệ giữa các hệ số và tâm, bán kính.'</span>,\n",
       "<span style=\"color: #7fbf7f; text-decoration-color: #7fbf7f\">│   │   </span><span style=\"color: #008000; text-decoration-color: #008000\">'Yêu cầu một vài học sinh/nhóm trình bày kết quả khai triển và công thức tổng quát.'</span>,\n",
       "<span style=\"color: #7fbf7f; text-decoration-color: #7fbf7f\">│   │   </span><span style=\"color: #008000; text-decoration-color: #008000\">'Chốt kiến thức về phương trình mặt cầu dạng khai triển, công thức tính tâm và bán kính, điều kiện để một phương trình là mặt cầu.'</span>,\n",
       "<span style=\"color: #7fbf7f; text-decoration-color: #7fbf7f\">│   │   </span><span style=\"color: #008000; text-decoration-color: #008000\">'Chữa nhanh 1-2 bài tập vận dụng cơ bản.'</span>,\n",
       "<span style=\"color: #7fbf7f; text-decoration-color: #7fbf7f\">│   │   </span><span style=\"color: #008000; text-decoration-color: #008000\">'Giao bài tập về nhà hoặc bài tập mở rộng (nếu còn thời gian).'</span>\n",
       "<span style=\"color: #7fbf7f; text-decoration-color: #7fbf7f\">│   </span><span style=\"font-weight: bold\">]</span>,\n",
       "<span style=\"color: #7fbf7f; text-decoration-color: #7fbf7f\">│   </span><span style=\"color: #008000; text-decoration-color: #008000\">'extension_component'</span>: <span style=\"color: #008000; text-decoration-color: #008000\">'Học sinh làm thêm các bài tập nâng cao: 1. Tìm điều kiện của tham số để một phương trình bậc hai ba ẩn là phương trình mặt cầu. 2. Viết phương trình mặt cầu dạng khai triển khi biết các điều kiện phức tạp hơn (ví dụ: đi qua 4 điểm, có tâm nằm trên một mặt phẳng...).'</span>,\n",
       "<span style=\"color: #7fbf7f; text-decoration-color: #7fbf7f\">│   </span><span style=\"color: #008000; text-decoration-color: #008000\">'solution_guide'</span>: <span style=\"color: #008000; text-decoration-color: #008000\">'1. Phương trình mặt cầu dạng chính tắc: (x-a)^2 + (y-b)^2 + (z-c)^2 = R^2. 2. Khai triển: x^2 - 2ax + a^2 + y^2 - 2by + b^2 + z^2 - 2cz + c^2 = R^2. 3. Dạng khai triển tổng quát: x^2 + y^2 + z^2 + 2Ax + 2By + 2Cz + D = 0, với A = -a, B = -b, C = -c, D = a^2 + b^2 + c^2 - R^2. 4. Tâm I(-A; -B; -C). Bán kính R = sqrt(A^2 + B^2 + C^2 - D). 5. Điều kiện để là mặt cầu: A^2 + B^2 + C^2 - D &gt; 0.'</span>,\n",
       "<span style=\"color: #7fbf7f; text-decoration-color: #7fbf7f\">│   </span><span style=\"color: #008000; text-decoration-color: #008000\">'differentiation'</span>: <span style=\"font-weight: bold\">{</span>\n",
       "<span style=\"color: #7fbf7f; text-decoration-color: #7fbf7f\">│   │   </span><span style=\"color: #008000; text-decoration-color: #008000\">'for_struggling_students'</span>: <span style=\"color: #008000; text-decoration-color: #008000\">'Cung cấp sẵn một ví dụ khai triển từng bước hoặc công thức khai triển (a+b)^2. Hướng dẫn cụ thể cách nhóm các hạng tử để nhận diện hệ số A, B, C, D. Có thể chỉ yêu cầu làm bài tập xác định tâm và bán kính từ phương trình cho sẵn.'</span>,\n",
       "<span style=\"color: #7fbf7f; text-decoration-color: #7fbf7f\">│   │   </span><span style=\"color: #008000; text-decoration-color: #008000\">'for_advanced_students'</span>: <span style=\"color: #008000; text-decoration-color: #008000\">'Yêu cầu chứng minh điều kiện để phương trình x^2 + y^2 + z^2 + 2Ax + 2By + 2Cz + D = 0 là phương trình mặt cầu. Hoặc yêu cầu tìm điều kiện của tham số m để một phương trình cho trước là phương trình mặt cầu.'</span>\n",
       "<span style=\"color: #7fbf7f; text-decoration-color: #7fbf7f\">│   </span><span style=\"font-weight: bold\">}</span>,\n",
       "<span style=\"color: #7fbf7f; text-decoration-color: #7fbf7f\">│   </span><span style=\"color: #008000; text-decoration-color: #008000\">'question_or_description'</span>: <span style=\"color: #008000; text-decoration-color: #008000\">'Học sinh làm việc cá nhân/nhóm nhỏ để: 1. Nhắc lại phương trình mặt cầu dạng chính tắc. 2. Khai triển một phương trình mặt cầu dạng chính tắc cụ thể (ví dụ: (x-1)^2 + (y+2)^2 + (z-3)^2 = 25) để thu được dạng khai triển. 3. Từ kết quả khai triển, nhận diện các hệ số và rút ra công thức tổng quát của phương trình mặt cầu dạng khai triển: x^2 + y^2 + z^2 + 2Ax + 2By + 2Cz + D = 0. 4. Xác định mối liên hệ giữa tâm I(A; B; C) và bán kính R với các hệ số A, B, C, D. 5. Thực hành 1-2 bài tập cơ bản: a) Cho phương trình dạng khai triển, xác định tâm và bán kính. b) Cho tâm và bán kính, viết phương trình dạng khai triển.'</span>,\n",
       "<span style=\"color: #7fbf7f; text-decoration-color: #7fbf7f\">│   </span><span style=\"color: #008000; text-decoration-color: #008000\">'content_type'</span>: <span style=\"color: #008000; text-decoration-color: #008000\">'Hoạt động khám phá và luyện tập'</span>\n",
       "<span style=\"font-weight: bold\">}</span>\n",
       "</pre>\n"
      ],
      "text/plain": [
       "\u001b[1m{\u001b[0m\n",
       "\u001b[2;32m│   \u001b[0m\u001b[32m'activity_name'\u001b[0m: \u001b[32m'Khám phá và Luyện tập Phương trình Mặt cầu Dạng Khai triển'\u001b[0m,\n",
       "\u001b[2;32m│   \u001b[0m\u001b[32m'duration_minutes'\u001b[0m: \u001b[1;36m25\u001b[0m,\n",
       "\u001b[2;32m│   \u001b[0m\u001b[32m'teacher_actions'\u001b[0m: \u001b[1m[\u001b[0m\n",
       "\u001b[2;32m│   │   \u001b[0m\u001b[32m'Giới thiệu mục tiêu hoạt động và thời gian thực hiện \u001b[0m\u001b[32m(\u001b[0m\u001b[32m25 phút\u001b[0m\u001b[32m)\u001b[0m\u001b[32m.'\u001b[0m,\n",
       "\u001b[2;32m│   │   \u001b[0m\u001b[32m'Gợi ý học sinh nhớ lại phương trình mặt cầu dạng chính tắc và cách khai triển biểu thức bình phương.'\u001b[0m,\n",
       "\u001b[2;32m│   │   \u001b[0m\u001b[32m'Phát phiếu học tập hoặc trình chiếu ví dụ khai triển mẫu để học sinh tham khảo.'\u001b[0m,\n",
       "\u001b[2;32m│   │   \u001b[0m\u001b[32m'Quan sát, đi lại hỗ trợ các nhóm/cá nhân gặp khó khăn trong quá trình khai triển và rút ra công thức.'\u001b[0m,\n",
       "\u001b[2;32m│   │   \u001b[0m\u001b[32m'Đặt câu hỏi gợi mở để học sinh tự tìm ra mối liên hệ giữa các hệ số và tâm, bán kính.'\u001b[0m,\n",
       "\u001b[2;32m│   │   \u001b[0m\u001b[32m'Yêu cầu một vài học sinh/nhóm trình bày kết quả khai triển và công thức tổng quát.'\u001b[0m,\n",
       "\u001b[2;32m│   │   \u001b[0m\u001b[32m'Chốt kiến thức về phương trình mặt cầu dạng khai triển, công thức tính tâm và bán kính, điều kiện để một phương trình là mặt cầu.'\u001b[0m,\n",
       "\u001b[2;32m│   │   \u001b[0m\u001b[32m'Chữa nhanh 1-2 bài tập vận dụng cơ bản.'\u001b[0m,\n",
       "\u001b[2;32m│   │   \u001b[0m\u001b[32m'Giao bài tập về nhà hoặc bài tập mở rộng \u001b[0m\u001b[32m(\u001b[0m\u001b[32mnếu còn thời gian\u001b[0m\u001b[32m)\u001b[0m\u001b[32m.'\u001b[0m\n",
       "\u001b[2;32m│   \u001b[0m\u001b[1m]\u001b[0m,\n",
       "\u001b[2;32m│   \u001b[0m\u001b[32m'extension_component'\u001b[0m: \u001b[32m'Học sinh làm thêm các bài tập nâng cao: 1. Tìm điều kiện của tham số để một phương trình bậc hai ba ẩn là phương trình mặt cầu. 2. Viết phương trình mặt cầu dạng khai triển khi biết các điều kiện phức tạp hơn \u001b[0m\u001b[32m(\u001b[0m\u001b[32mví dụ: đi qua 4 điểm, có tâm nằm trên một mặt phẳng...\u001b[0m\u001b[32m)\u001b[0m\u001b[32m.'\u001b[0m,\n",
       "\u001b[2;32m│   \u001b[0m\u001b[32m'solution_guide'\u001b[0m: \u001b[32m'1. Phương trình mặt cầu dạng chính tắc: \u001b[0m\u001b[32m(\u001b[0m\u001b[32mx-a\u001b[0m\u001b[32m)\u001b[0m\u001b[32m^2 + \u001b[0m\u001b[32m(\u001b[0m\u001b[32my-b\u001b[0m\u001b[32m)\u001b[0m\u001b[32m^2 + \u001b[0m\u001b[32m(\u001b[0m\u001b[32mz-c\u001b[0m\u001b[32m)\u001b[0m\u001b[32m^2 = R^2. 2. Khai triển: x^2 - 2ax + a^2 + y^2 - 2by + b^2 + z^2 - 2cz + c^2 = R^2. 3. Dạng khai triển tổng quát: x^2 + y^2 + z^2 + 2Ax + 2By + 2Cz + D = 0, với A = -a, B = -b, C = -c, D = a^2 + b^2 + c^2 - R^2. 4. Tâm I\u001b[0m\u001b[32m(\u001b[0m\u001b[32m-A; -B; -C\u001b[0m\u001b[32m)\u001b[0m\u001b[32m. Bán kính R = sqrt\u001b[0m\u001b[32m(\u001b[0m\u001b[32mA^2 + B^2 + C^2 - D\u001b[0m\u001b[32m)\u001b[0m\u001b[32m. 5. Điều kiện để là mặt cầu: A^2 + B^2 + C^2 - D > 0.'\u001b[0m,\n",
       "\u001b[2;32m│   \u001b[0m\u001b[32m'differentiation'\u001b[0m: \u001b[1m{\u001b[0m\n",
       "\u001b[2;32m│   │   \u001b[0m\u001b[32m'for_struggling_students'\u001b[0m: \u001b[32m'Cung cấp sẵn một ví dụ khai triển từng bước hoặc công thức khai triển \u001b[0m\u001b[32m(\u001b[0m\u001b[32ma+b\u001b[0m\u001b[32m)\u001b[0m\u001b[32m^2. Hướng dẫn cụ thể cách nhóm các hạng tử để nhận diện hệ số A, B, C, D. Có thể chỉ yêu cầu làm bài tập xác định tâm và bán kính từ phương trình cho sẵn.'\u001b[0m,\n",
       "\u001b[2;32m│   │   \u001b[0m\u001b[32m'for_advanced_students'\u001b[0m: \u001b[32m'Yêu cầu chứng minh điều kiện để phương trình x^2 + y^2 + z^2 + 2Ax + 2By + 2Cz + D = 0 là phương trình mặt cầu. Hoặc yêu cầu tìm điều kiện của tham số m để một phương trình cho trước là phương trình mặt cầu.'\u001b[0m\n",
       "\u001b[2;32m│   \u001b[0m\u001b[1m}\u001b[0m,\n",
       "\u001b[2;32m│   \u001b[0m\u001b[32m'question_or_description'\u001b[0m: \u001b[32m'Học sinh làm việc cá nhân/nhóm nhỏ để: 1. Nhắc lại phương trình mặt cầu dạng chính tắc. 2. Khai triển một phương trình mặt cầu dạng chính tắc cụ thể \u001b[0m\u001b[32m(\u001b[0m\u001b[32mví dụ: \u001b[0m\u001b[32m(\u001b[0m\u001b[32mx-1\u001b[0m\u001b[32m)\u001b[0m\u001b[32m^2 + \u001b[0m\u001b[32m(\u001b[0m\u001b[32my+2\u001b[0m\u001b[32m)\u001b[0m\u001b[32m^2 + \u001b[0m\u001b[32m(\u001b[0m\u001b[32mz-3\u001b[0m\u001b[32m)\u001b[0m\u001b[32m^2 = 25\u001b[0m\u001b[32m)\u001b[0m\u001b[32m để thu được dạng khai triển. 3. Từ kết quả khai triển, nhận diện các hệ số và rút ra công thức tổng quát của phương trình mặt cầu dạng khai triển: x^2 + y^2 + z^2 + 2Ax + 2By + 2Cz + D = 0. 4. Xác định mối liên hệ giữa tâm I\u001b[0m\u001b[32m(\u001b[0m\u001b[32mA; B; C\u001b[0m\u001b[32m)\u001b[0m\u001b[32m và bán kính R với các hệ số A, B, C, D. 5. Thực hành 1-2 bài tập cơ bản: a\u001b[0m\u001b[32m)\u001b[0m\u001b[32m Cho phương trình dạng khai triển, xác định tâm và bán kính. b\u001b[0m\u001b[32m)\u001b[0m\u001b[32m Cho tâm và bán kính, viết phương trình dạng khai triển.'\u001b[0m,\n",
       "\u001b[2;32m│   \u001b[0m\u001b[32m'content_type'\u001b[0m: \u001b[32m'Hoạt động khám phá và luyện tập'\u001b[0m\n",
       "\u001b[1m}\u001b[0m\n"
      ]
     },
     "metadata": {},
     "output_type": "display_data"
    },
    {
     "data": {
      "text/html": [
       "<pre style=\"white-space:pre;overflow-x:auto;line-height:normal;font-family:Menlo,'DejaVu Sans Mono',consolas,'Courier New',monospace\">\n",
       "<span style=\"color: #808000; text-decoration-color: #808000; font-weight: bold\">------- Hoàn thành bước: activity_designer -------</span>\n",
       "</pre>\n"
      ],
      "text/plain": [
       "\n",
       "\u001b[1;33m------- Hoàn thành bước: activity_designer -------\u001b[0m\n"
      ]
     },
     "metadata": {},
     "output_type": "display_data"
    },
    {
     "data": {
      "text/html": [
       "<pre style=\"white-space:pre;overflow-x:auto;line-height:normal;font-family:Menlo,'DejaVu Sans Mono',consolas,'Courier New',monospace\">\n",
       "<span style=\"color: #008080; text-decoration-color: #008080; font-weight: bold\">&gt;</span> `Agent: Easy-Going Critic` <span style=\"font-weight: bold\">(</span>v13.<span style=\"color: #008080; text-decoration-color: #008080; font-weight: bold\">1</span><span style=\"font-weight: bold\">)</span> đang phân tích<span style=\"color: #808000; text-decoration-color: #808000\">...</span>\n",
       "</pre>\n"
      ],
      "text/plain": [
       "\n",
       "\u001b[1;36m>\u001b[0m `Agent: Easy-Going Critic` \u001b[1m(\u001b[0mv13.\u001b[1;36m1\u001b[0m\u001b[1m)\u001b[0m đang phân tích\u001b[33m...\u001b[0m\n"
      ]
     },
     "metadata": {},
     "output_type": "display_data"
    },
    {
     "data": {
      "text/html": [
       "<pre style=\"white-space:pre;overflow-x:auto;line-height:normal;font-family:Menlo,'DejaVu Sans Mono',consolas,'Courier New',monospace\">\n",
       "<span style=\"color: #008080; text-decoration-color: #008080; font-weight: bold\">&gt;</span> ✔️ CRITIC <span style=\"font-weight: bold\">(</span>Lần <span style=\"color: #008080; text-decoration-color: #008080; font-weight: bold\">1</span><span style=\"font-weight: bold\">)</span>: Nội dung được duyệt! <span style=\"font-weight: bold\">(</span>Góp ý: Hoạt động này được thiết kế rất tốt để học sinh tự khám phá và \n",
       "luyện tập. Tuy nhiên, với <span style=\"color: #008080; text-decoration-color: #008080; font-weight: bold\">25</span> phút, nội dung khá nhiều, đặc biệt là phần học sinh tự khai triển, rút ra công thức \n",
       "tổng quát và mối liên hệ. Giáo viên có thể cần linh hoạt trong việc hướng dẫn, có thể cung cấp sẵn một phần khai \n",
       "triển mẫu hoặc rút gọn số lượng bài tập vận dụng để đảm bảo hoàn thành trong thời gian cho phép. Phần mở rộng và \n",
       "phân hóa rất hay nhưng có thể chỉ dành cho những học sinh hoàn thành sớm hoặc giao về nhà.<span style=\"font-weight: bold\">)</span>\n",
       "</pre>\n"
      ],
      "text/plain": [
       "\n",
       "\u001b[1;36m>\u001b[0m ✔️ CRITIC \u001b[1m(\u001b[0mLần \u001b[1;36m1\u001b[0m\u001b[1m)\u001b[0m: Nội dung được duyệt! \u001b[1m(\u001b[0mGóp ý: Hoạt động này được thiết kế rất tốt để học sinh tự khám phá và \n",
       "luyện tập. Tuy nhiên, với \u001b[1;36m25\u001b[0m phút, nội dung khá nhiều, đặc biệt là phần học sinh tự khai triển, rút ra công thức \n",
       "tổng quát và mối liên hệ. Giáo viên có thể cần linh hoạt trong việc hướng dẫn, có thể cung cấp sẵn một phần khai \n",
       "triển mẫu hoặc rút gọn số lượng bài tập vận dụng để đảm bảo hoàn thành trong thời gian cho phép. Phần mở rộng và \n",
       "phân hóa rất hay nhưng có thể chỉ dành cho những học sinh hoàn thành sớm hoặc giao về nhà.\u001b[1m)\u001b[0m\n"
      ]
     },
     "metadata": {},
     "output_type": "display_data"
    },
    {
     "data": {
      "text/html": [
       "<pre style=\"white-space:pre;overflow-x:auto;line-height:normal;font-family:Menlo,'DejaVu Sans Mono',consolas,'Courier New',monospace\">\n",
       "<span style=\"color: #808000; text-decoration-color: #808000; font-weight: bold\">------- Hoàn thành bước: content_validator -------</span>\n",
       "</pre>\n"
      ],
      "text/plain": [
       "\n",
       "\u001b[1;33m------- Hoàn thành bước: content_validator -------\u001b[0m\n"
      ]
     },
     "metadata": {},
     "output_type": "display_data"
    },
    {
     "data": {
      "text/html": [
       "<pre style=\"white-space:pre;overflow-x:auto;line-height:normal;font-family:Menlo,'DejaVu Sans Mono',consolas,'Courier New',monospace\">\n",
       "<span style=\"color: #008080; text-decoration-color: #008080; font-weight: bold\">&gt;</span> `Commiter`: Đang ghi nhận nội dung đã được xác thực<span style=\"color: #808000; text-decoration-color: #808000\">...</span>\n",
       "</pre>\n"
      ],
      "text/plain": [
       "\n",
       "\u001b[1;36m>\u001b[0m `Commiter`: Đang ghi nhận nội dung đã được xác thực\u001b[33m...\u001b[0m\n"
      ]
     },
     "metadata": {},
     "output_type": "display_data"
    },
    {
     "data": {
      "text/html": [
       "<pre style=\"white-space:pre;overflow-x:auto;line-height:normal;font-family:Menlo,'DejaVu Sans Mono',consolas,'Courier New',monospace\">\n",
       "<span style=\"color: #808000; text-decoration-color: #808000; font-weight: bold\">------- Hoàn thành bước: commit_validated_content -------</span>\n",
       "</pre>\n"
      ],
      "text/plain": [
       "\n",
       "\u001b[1;33m------- Hoàn thành bước: commit_validated_content -------\u001b[0m\n"
      ]
     },
     "metadata": {},
     "output_type": "display_data"
    },
    {
     "data": {
      "text/html": [
       "<pre style=\"white-space:pre;overflow-x:auto;line-height:normal;font-family:Menlo,'DejaVu Sans Mono',consolas,'Courier New',monospace\">\n",
       "<span style=\"color: #808000; text-decoration-color: #808000; font-weight: bold\">------- Hoàn thành bước: mark_task_complete -------</span>\n",
       "</pre>\n"
      ],
      "text/plain": [
       "\n",
       "\u001b[1;33m------- Hoàn thành bước: mark_task_complete -------\u001b[0m\n"
      ]
     },
     "metadata": {},
     "output_type": "display_data"
    },
    {
     "data": {
      "text/html": [
       "<pre style=\"white-space:pre;overflow-x:auto;line-height:normal;font-family:Menlo,'DejaVu Sans Mono',consolas,'Courier New',monospace\">\n",
       "<span style=\"color: #808000; text-decoration-color: #808000; font-weight: bold\">------- Hoàn thành bước: delay_node -------</span>\n",
       "</pre>\n"
      ],
      "text/plain": [
       "\n",
       "\u001b[1;33m------- Hoàn thành bước: delay_node -------\u001b[0m\n"
      ]
     },
     "metadata": {},
     "output_type": "display_data"
    },
    {
     "data": {
      "text/html": [
       "<pre style=\"white-space:pre;overflow-x:auto;line-height:normal;font-family:Menlo,'DejaVu Sans Mono',consolas,'Courier New',monospace\">\n",
       "<span style=\"color: #008080; text-decoration-color: #008080; font-weight: bold\">&gt;</span> `Router`: Đang kiểm tra nhiệm vụ<span style=\"color: #808000; text-decoration-color: #808000\">...</span>\n",
       "</pre>\n"
      ],
      "text/plain": [
       "\n",
       "\u001b[1;36m>\u001b[0m `Router`: Đang kiểm tra nhiệm vụ\u001b[33m...\u001b[0m\n"
      ]
     },
     "metadata": {},
     "output_type": "display_data"
    },
    {
     "data": {
      "text/html": [
       "<pre style=\"white-space:pre;overflow-x:auto;line-height:normal;font-family:Menlo,'DejaVu Sans Mono',consolas,'Courier New',monospace\">\n",
       "<span style=\"color: #008080; text-decoration-color: #008080; font-weight: bold\">&gt;</span> Nhiệm vụ tiếp theo: <span style=\"color: #008000; text-decoration-color: #008000\">'Vận dụng Giải quyết Bài toán Tổng hợp'</span> <span style=\"font-weight: bold\">(</span>ID: <span style=\"color: #008080; text-decoration-color: #008080; font-weight: bold\">3</span><span style=\"font-weight: bold\">)</span>\n",
       "</pre>\n"
      ],
      "text/plain": [
       "\n",
       "\u001b[1;36m>\u001b[0m Nhiệm vụ tiếp theo: \u001b[32m'Vận dụng Giải quyết Bài toán Tổng hợp'\u001b[0m \u001b[1m(\u001b[0mID: \u001b[1;36m3\u001b[0m\u001b[1m)\u001b[0m\n"
      ]
     },
     "metadata": {},
     "output_type": "display_data"
    },
    {
     "data": {
      "text/html": [
       "<pre style=\"white-space:pre;overflow-x:auto;line-height:normal;font-family:Menlo,'DejaVu Sans Mono',consolas,'Courier New',monospace\">\n",
       "<span style=\"color: #808000; text-decoration-color: #808000; font-weight: bold\">------- Hoàn thành bước: task_router -------</span>\n",
       "</pre>\n"
      ],
      "text/plain": [
       "\n",
       "\u001b[1;33m------- Hoàn thành bước: task_router -------\u001b[0m\n"
      ]
     },
     "metadata": {},
     "output_type": "display_data"
    },
    {
     "data": {
      "text/html": [
       "<pre style=\"white-space:pre;overflow-x:auto;line-height:normal;font-family:Menlo,'DejaVu Sans Mono',consolas,'Courier New',monospace\">\n",
       "<span style=\"color: #008080; text-decoration-color: #008080; font-weight: bold\">&gt;</span> `Agent: Task Dispatcher` đang giao việc<span style=\"color: #808000; text-decoration-color: #808000\">...</span>\n",
       "</pre>\n"
      ],
      "text/plain": [
       "\n",
       "\u001b[1;36m>\u001b[0m `Agent: Task Dispatcher` đang giao việc\u001b[33m...\u001b[0m\n"
      ]
     },
     "metadata": {},
     "output_type": "display_data"
    },
    {
     "data": {
      "text/html": [
       "<pre style=\"white-space:pre;overflow-x:auto;line-height:normal;font-family:Menlo,'DejaVu Sans Mono',consolas,'Courier New',monospace\">\n",
       "<span style=\"color: #008080; text-decoration-color: #008080; font-weight: bold\">&gt;</span> --- 🚚 `Dispatcher`: Giao nhiệm vụ cho `activity_designer`.\n",
       "</pre>\n"
      ],
      "text/plain": [
       "\n",
       "\u001b[1;36m>\u001b[0m --- 🚚 `Dispatcher`: Giao nhiệm vụ cho `activity_designer`.\n"
      ]
     },
     "metadata": {},
     "output_type": "display_data"
    },
    {
     "data": {
      "text/html": [
       "<pre style=\"white-space:pre;overflow-x:auto;line-height:normal;font-family:Menlo,'DejaVu Sans Mono',consolas,'Courier New',monospace\">\n",
       "<span style=\"color: #808000; text-decoration-color: #808000; font-weight: bold\">------- Hoàn thành bước: task_dispatcher -------</span>\n",
       "</pre>\n"
      ],
      "text/plain": [
       "\n",
       "\u001b[1;33m------- Hoàn thành bước: task_dispatcher -------\u001b[0m\n"
      ]
     },
     "metadata": {},
     "output_type": "display_data"
    },
    {
     "data": {
      "text/html": [
       "<pre style=\"white-space:pre;overflow-x:auto;line-height:normal;font-family:Menlo,'DejaVu Sans Mono',consolas,'Courier New',monospace\">\n",
       "<span style=\"color: #008080; text-decoration-color: #008080; font-weight: bold\">&gt;</span> `Agent: Activity Designer` <span style=\"font-weight: bold\">(</span>v13.<span style=\"color: #008080; text-decoration-color: #008080; font-weight: bold\">1</span> - Tư duy Phản tư<span style=\"font-weight: bold\">)</span> đang tạo nội dung<span style=\"color: #808000; text-decoration-color: #808000\">...</span>\n",
       "</pre>\n"
      ],
      "text/plain": [
       "\n",
       "\u001b[1;36m>\u001b[0m `Agent: Activity Designer` \u001b[1m(\u001b[0mv13.\u001b[1;36m1\u001b[0m - Tư duy Phản tư\u001b[1m)\u001b[0m đang tạo nội dung\u001b[33m...\u001b[0m\n"
      ]
     },
     "metadata": {},
     "output_type": "display_data"
    },
    {
     "data": {
      "text/html": [
       "<pre style=\"white-space:pre;overflow-x:auto;line-height:normal;font-family:Menlo,'DejaVu Sans Mono',consolas,'Courier New',monospace\"><span style=\"color: #008000; text-decoration-color: #008000; font-weight: bold\">✔️ Nội dung do Activity Designer tạo ra:</span>\n",
       "</pre>\n"
      ],
      "text/plain": [
       "\u001b[1;32m✔️ Nội dung do Activity Designer tạo ra:\u001b[0m\n"
      ]
     },
     "metadata": {},
     "output_type": "display_data"
    },
    {
     "data": {
      "text/html": [
       "<pre style=\"white-space:pre;overflow-x:auto;line-height:normal;font-family:Menlo,'DejaVu Sans Mono',consolas,'Courier New',monospace\"><span style=\"font-weight: bold\">{</span>\n",
       "<span style=\"color: #7fbf7f; text-decoration-color: #7fbf7f\">│   </span><span style=\"color: #008000; text-decoration-color: #008000\">'activity_name'</span>: <span style=\"color: #008000; text-decoration-color: #008000\">'Vận dụng Giải quyết Bài toán Tổng hợp'</span>,\n",
       "<span style=\"color: #7fbf7f; text-decoration-color: #7fbf7f\">│   </span><span style=\"color: #008000; text-decoration-color: #008000\">'duration_minutes'</span>: <span style=\"color: #008080; text-decoration-color: #008080; font-weight: bold\">20</span>,\n",
       "<span style=\"color: #7fbf7f; text-decoration-color: #7fbf7f\">│   </span><span style=\"color: #008000; text-decoration-color: #008000\">'teacher_actions'</span>: <span style=\"font-weight: bold\">[</span>\n",
       "<span style=\"color: #7fbf7f; text-decoration-color: #7fbf7f\">│   │   </span><span style=\"color: #008000; text-decoration-color: #008000\">'Giới thiệu bài toán tổng hợp và mục tiêu của hoạt động.'</span>,\n",
       "<span style=\"color: #7fbf7f; text-decoration-color: #7fbf7f\">│   │   </span><span style=\"color: #008000; text-decoration-color: #008000\">'Phân chia nhóm (nếu có) hoặc hướng dẫn học sinh làm việc cá nhân.'</span>,\n",
       "<span style=\"color: #7fbf7f; text-decoration-color: #7fbf7f\">│   │   </span><span style=\"color: #008000; text-decoration-color: #008000\">'Quan sát, đi lại giữa các nhóm/cá nhân, lắng nghe và hỗ trợ khi cần thiết.'</span>,\n",
       "<span style=\"color: #7fbf7f; text-decoration-color: #7fbf7f\">│   │   </span><span style=\"color: #008000; text-decoration-color: #008000\">'Gợi ý các hướng tiếp cận hoặc công thức liên quan nếu học sinh gặp khó khăn, nhưng không giải hộ.'</span>,\n",
       "<span style=\"color: #7fbf7f; text-decoration-color: #7fbf7f\">│   │   </span><span style=\"color: #008000; text-decoration-color: #008000\">'Yêu cầu một vài nhóm/cá nhân trình bày tóm tắt cách giải và kết quả.'</span>,\n",
       "<span style=\"color: #7fbf7f; text-decoration-color: #7fbf7f\">│   │   </span><span style=\"color: #008000; text-decoration-color: #008000\">'Tổng kết các kiến thức đã được vận dụng và chốt lại các lỗi thường gặp.'</span>\n",
       "<span style=\"color: #7fbf7f; text-decoration-color: #7fbf7f\">│   </span><span style=\"font-weight: bold\">]</span>,\n",
       "<span style=\"color: #7fbf7f; text-decoration-color: #7fbf7f\">│   </span><span style=\"color: #008000; text-decoration-color: #008000\">'extension_component'</span>: <span style=\"color: #008000; text-decoration-color: #008000\">'Học sinh hoàn thành sớm có thể tự đặt ra một bài toán tổng hợp khác dựa trên kiến thức đã học và thử thách bạn bè giải quyết, hoặc tìm hiểu sâu hơn về ứng dụng thực tế của dạng bài toán vừa giải.'</span>,\n",
       "<span style=\"color: #7fbf7f; text-decoration-color: #7fbf7f\">│   </span><span style=\"color: #008000; text-decoration-color: #008000\">'solution_guide'</span>: <span style=\"color: #008000; text-decoration-color: #008000\">\"Cung cấp đáp án chi tiết và các bước giải mẫu cho bài toán. Gợi ý các câu hỏi để học sinh tự kiểm tra lại quá trình tư duy, ví dụ: 'Bạn đã sử dụng những kiến thức nào?', 'Có cách giải nào khác không?', 'Kết quả này có hợp lý trong thực tế không?'\"</span>,\n",
       "<span style=\"color: #7fbf7f; text-decoration-color: #7fbf7f\">│   </span><span style=\"color: #008000; text-decoration-color: #008000\">'differentiation'</span>: <span style=\"font-weight: bold\">{</span>\n",
       "<span style=\"color: #7fbf7f; text-decoration-color: #7fbf7f\">│   │   </span><span style=\"color: #008000; text-decoration-color: #008000\">'for_struggling_students'</span>: <span style=\"color: #008000; text-decoration-color: #008000\">'Cung cấp các gợi ý cụ thể hơn về các công thức cần sử dụng, chia nhỏ bài toán thành các câu hỏi nhỏ hơn hoặc cho phép sử dụng tài liệu/sách giáo khoa để tra cứu.'</span>,\n",
       "<span style=\"color: #7fbf7f; text-decoration-color: #7fbf7f\">│   │   </span><span style=\"color: #008000; text-decoration-color: #008000\">'for_advanced_students'</span>: <span style=\"color: #008000; text-decoration-color: #008000\">'Yêu cầu học sinh tìm thêm một cách giải khác cho bài toán, hoặc tự đặt ra một bài toán tương tự có độ phức tạp cao hơn và giải quyết nó.'</span>\n",
       "<span style=\"color: #7fbf7f; text-decoration-color: #7fbf7f\">│   </span><span style=\"font-weight: bold\">}</span>,\n",
       "<span style=\"color: #7fbf7f; text-decoration-color: #7fbf7f\">│   </span><span style=\"color: #008000; text-decoration-color: #008000\">'question_or_description'</span>: <span style=\"color: #008000; text-decoration-color: #008000\">'Học sinh làm việc theo nhóm (2-3 người) hoặc cá nhân để giải quyết một bài toán tổng hợp do giáo viên cung cấp. Bài toán được thiết kế để yêu cầu học sinh vận dụng ít nhất 2-3 kiến thức đã học từ các bài trước (ví dụ: bài toán thực tế về tính toán chi phí xây dựng, bài toán vật lý về chuyển động và lực, hoặc bài toán hóa học về nồng độ và phản ứng). Học sinh cần trình bày rõ ràng các bước giải và kết quả.'</span>,\n",
       "<span style=\"color: #7fbf7f; text-decoration-color: #7fbf7f\">│   </span><span style=\"color: #008000; text-decoration-color: #008000\">'content_type'</span>: <span style=\"color: #008000; text-decoration-color: #008000\">'Thực hành cá nhân/nhóm'</span>\n",
       "<span style=\"font-weight: bold\">}</span>\n",
       "</pre>\n"
      ],
      "text/plain": [
       "\u001b[1m{\u001b[0m\n",
       "\u001b[2;32m│   \u001b[0m\u001b[32m'activity_name'\u001b[0m: \u001b[32m'Vận dụng Giải quyết Bài toán Tổng hợp'\u001b[0m,\n",
       "\u001b[2;32m│   \u001b[0m\u001b[32m'duration_minutes'\u001b[0m: \u001b[1;36m20\u001b[0m,\n",
       "\u001b[2;32m│   \u001b[0m\u001b[32m'teacher_actions'\u001b[0m: \u001b[1m[\u001b[0m\n",
       "\u001b[2;32m│   │   \u001b[0m\u001b[32m'Giới thiệu bài toán tổng hợp và mục tiêu của hoạt động.'\u001b[0m,\n",
       "\u001b[2;32m│   │   \u001b[0m\u001b[32m'Phân chia nhóm \u001b[0m\u001b[32m(\u001b[0m\u001b[32mnếu có\u001b[0m\u001b[32m)\u001b[0m\u001b[32m hoặc hướng dẫn học sinh làm việc cá nhân.'\u001b[0m,\n",
       "\u001b[2;32m│   │   \u001b[0m\u001b[32m'Quan sát, đi lại giữa các nhóm/cá nhân, lắng nghe và hỗ trợ khi cần thiết.'\u001b[0m,\n",
       "\u001b[2;32m│   │   \u001b[0m\u001b[32m'Gợi ý các hướng tiếp cận hoặc công thức liên quan nếu học sinh gặp khó khăn, nhưng không giải hộ.'\u001b[0m,\n",
       "\u001b[2;32m│   │   \u001b[0m\u001b[32m'Yêu cầu một vài nhóm/cá nhân trình bày tóm tắt cách giải và kết quả.'\u001b[0m,\n",
       "\u001b[2;32m│   │   \u001b[0m\u001b[32m'Tổng kết các kiến thức đã được vận dụng và chốt lại các lỗi thường gặp.'\u001b[0m\n",
       "\u001b[2;32m│   \u001b[0m\u001b[1m]\u001b[0m,\n",
       "\u001b[2;32m│   \u001b[0m\u001b[32m'extension_component'\u001b[0m: \u001b[32m'Học sinh hoàn thành sớm có thể tự đặt ra một bài toán tổng hợp khác dựa trên kiến thức đã học và thử thách bạn bè giải quyết, hoặc tìm hiểu sâu hơn về ứng dụng thực tế của dạng bài toán vừa giải.'\u001b[0m,\n",
       "\u001b[2;32m│   \u001b[0m\u001b[32m'solution_guide'\u001b[0m: \u001b[32m\"Cung cấp đáp án chi tiết và các bước giải mẫu cho bài toán. Gợi ý các câu hỏi để học sinh tự kiểm tra lại quá trình tư duy, ví dụ: 'Bạn đã sử dụng những kiến thức nào?', 'Có cách giải nào khác không?', 'Kết quả này có hợp lý trong thực tế không?'\"\u001b[0m,\n",
       "\u001b[2;32m│   \u001b[0m\u001b[32m'differentiation'\u001b[0m: \u001b[1m{\u001b[0m\n",
       "\u001b[2;32m│   │   \u001b[0m\u001b[32m'for_struggling_students'\u001b[0m: \u001b[32m'Cung cấp các gợi ý cụ thể hơn về các công thức cần sử dụng, chia nhỏ bài toán thành các câu hỏi nhỏ hơn hoặc cho phép sử dụng tài liệu/sách giáo khoa để tra cứu.'\u001b[0m,\n",
       "\u001b[2;32m│   │   \u001b[0m\u001b[32m'for_advanced_students'\u001b[0m: \u001b[32m'Yêu cầu học sinh tìm thêm một cách giải khác cho bài toán, hoặc tự đặt ra một bài toán tương tự có độ phức tạp cao hơn và giải quyết nó.'\u001b[0m\n",
       "\u001b[2;32m│   \u001b[0m\u001b[1m}\u001b[0m,\n",
       "\u001b[2;32m│   \u001b[0m\u001b[32m'question_or_description'\u001b[0m: \u001b[32m'Học sinh làm việc theo nhóm \u001b[0m\u001b[32m(\u001b[0m\u001b[32m2-3 người\u001b[0m\u001b[32m)\u001b[0m\u001b[32m hoặc cá nhân để giải quyết một bài toán tổng hợp do giáo viên cung cấp. Bài toán được thiết kế để yêu cầu học sinh vận dụng ít nhất 2-3 kiến thức đã học từ các bài trước \u001b[0m\u001b[32m(\u001b[0m\u001b[32mví dụ: bài toán thực tế về tính toán chi phí xây dựng, bài toán vật lý về chuyển động và lực, hoặc bài toán hóa học về nồng độ và phản ứng\u001b[0m\u001b[32m)\u001b[0m\u001b[32m. Học sinh cần trình bày rõ ràng các bước giải và kết quả.'\u001b[0m,\n",
       "\u001b[2;32m│   \u001b[0m\u001b[32m'content_type'\u001b[0m: \u001b[32m'Thực hành cá nhân/nhóm'\u001b[0m\n",
       "\u001b[1m}\u001b[0m\n"
      ]
     },
     "metadata": {},
     "output_type": "display_data"
    },
    {
     "data": {
      "text/html": [
       "<pre style=\"white-space:pre;overflow-x:auto;line-height:normal;font-family:Menlo,'DejaVu Sans Mono',consolas,'Courier New',monospace\">\n",
       "<span style=\"color: #808000; text-decoration-color: #808000; font-weight: bold\">------- Hoàn thành bước: activity_designer -------</span>\n",
       "</pre>\n"
      ],
      "text/plain": [
       "\n",
       "\u001b[1;33m------- Hoàn thành bước: activity_designer -------\u001b[0m\n"
      ]
     },
     "metadata": {},
     "output_type": "display_data"
    },
    {
     "data": {
      "text/html": [
       "<pre style=\"white-space:pre;overflow-x:auto;line-height:normal;font-family:Menlo,'DejaVu Sans Mono',consolas,'Courier New',monospace\">\n",
       "<span style=\"color: #008080; text-decoration-color: #008080; font-weight: bold\">&gt;</span> `Agent: Easy-Going Critic` <span style=\"font-weight: bold\">(</span>v13.<span style=\"color: #008080; text-decoration-color: #008080; font-weight: bold\">1</span><span style=\"font-weight: bold\">)</span> đang phân tích<span style=\"color: #808000; text-decoration-color: #808000\">...</span>\n",
       "</pre>\n"
      ],
      "text/plain": [
       "\n",
       "\u001b[1;36m>\u001b[0m `Agent: Easy-Going Critic` \u001b[1m(\u001b[0mv13.\u001b[1;36m1\u001b[0m\u001b[1m)\u001b[0m đang phân tích\u001b[33m...\u001b[0m\n"
      ]
     },
     "metadata": {},
     "output_type": "display_data"
    },
    {
     "data": {
      "text/html": [
       "<pre style=\"white-space:pre;overflow-x:auto;line-height:normal;font-family:Menlo,'DejaVu Sans Mono',consolas,'Courier New',monospace\">\n",
       "<span style=\"color: #008080; text-decoration-color: #008080; font-weight: bold\">&gt;</span> ✔️ CRITIC <span style=\"font-weight: bold\">(</span>Lần <span style=\"color: #008080; text-decoration-color: #008080; font-weight: bold\">1</span><span style=\"font-weight: bold\">)</span>: Nội dung được duyệt! <span style=\"font-weight: bold\">(</span>Góp ý: Hoạt động này được thiết kế rất tốt, bao gồm đầy đủ các yếu tố cần\n",
       "thiết như phân hóa và mở rộng. Tuy nhiên, với thời lượng <span style=\"color: #008080; text-decoration-color: #008080; font-weight: bold\">20</span> phút cho một bài toán tổng hợp yêu cầu học sinh vận \n",
       "dụng nhiều kiến thức, làm việc nhóm/cá nhân, trình bày và giáo viên tổng kết, có thể sẽ khá thách thức về mặt thời \n",
       "gian. Giáo viên có thể cân nhắc quản lý thời gian thật chặt chẽ, hoặc giảm bớt số lượng nhóm trình bày, hoặc chuẩn \n",
       "bị sẵn một số gợi ý để đẩy nhanh tiến độ nếu cần thiết.<span style=\"font-weight: bold\">)</span>\n",
       "</pre>\n"
      ],
      "text/plain": [
       "\n",
       "\u001b[1;36m>\u001b[0m ✔️ CRITIC \u001b[1m(\u001b[0mLần \u001b[1;36m1\u001b[0m\u001b[1m)\u001b[0m: Nội dung được duyệt! \u001b[1m(\u001b[0mGóp ý: Hoạt động này được thiết kế rất tốt, bao gồm đầy đủ các yếu tố cần\n",
       "thiết như phân hóa và mở rộng. Tuy nhiên, với thời lượng \u001b[1;36m20\u001b[0m phút cho một bài toán tổng hợp yêu cầu học sinh vận \n",
       "dụng nhiều kiến thức, làm việc nhóm/cá nhân, trình bày và giáo viên tổng kết, có thể sẽ khá thách thức về mặt thời \n",
       "gian. Giáo viên có thể cân nhắc quản lý thời gian thật chặt chẽ, hoặc giảm bớt số lượng nhóm trình bày, hoặc chuẩn \n",
       "bị sẵn một số gợi ý để đẩy nhanh tiến độ nếu cần thiết.\u001b[1m)\u001b[0m\n"
      ]
     },
     "metadata": {},
     "output_type": "display_data"
    },
    {
     "data": {
      "text/html": [
       "<pre style=\"white-space:pre;overflow-x:auto;line-height:normal;font-family:Menlo,'DejaVu Sans Mono',consolas,'Courier New',monospace\">\n",
       "<span style=\"color: #808000; text-decoration-color: #808000; font-weight: bold\">------- Hoàn thành bước: content_validator -------</span>\n",
       "</pre>\n"
      ],
      "text/plain": [
       "\n",
       "\u001b[1;33m------- Hoàn thành bước: content_validator -------\u001b[0m\n"
      ]
     },
     "metadata": {},
     "output_type": "display_data"
    },
    {
     "data": {
      "text/html": [
       "<pre style=\"white-space:pre;overflow-x:auto;line-height:normal;font-family:Menlo,'DejaVu Sans Mono',consolas,'Courier New',monospace\">\n",
       "<span style=\"color: #008080; text-decoration-color: #008080; font-weight: bold\">&gt;</span> `Commiter`: Đang ghi nhận nội dung đã được xác thực<span style=\"color: #808000; text-decoration-color: #808000\">...</span>\n",
       "</pre>\n"
      ],
      "text/plain": [
       "\n",
       "\u001b[1;36m>\u001b[0m `Commiter`: Đang ghi nhận nội dung đã được xác thực\u001b[33m...\u001b[0m\n"
      ]
     },
     "metadata": {},
     "output_type": "display_data"
    },
    {
     "data": {
      "text/html": [
       "<pre style=\"white-space:pre;overflow-x:auto;line-height:normal;font-family:Menlo,'DejaVu Sans Mono',consolas,'Courier New',monospace\">\n",
       "<span style=\"color: #808000; text-decoration-color: #808000; font-weight: bold\">------- Hoàn thành bước: commit_validated_content -------</span>\n",
       "</pre>\n"
      ],
      "text/plain": [
       "\n",
       "\u001b[1;33m------- Hoàn thành bước: commit_validated_content -------\u001b[0m\n"
      ]
     },
     "metadata": {},
     "output_type": "display_data"
    },
    {
     "data": {
      "text/html": [
       "<pre style=\"white-space:pre;overflow-x:auto;line-height:normal;font-family:Menlo,'DejaVu Sans Mono',consolas,'Courier New',monospace\">\n",
       "<span style=\"color: #808000; text-decoration-color: #808000; font-weight: bold\">------- Hoàn thành bước: mark_task_complete -------</span>\n",
       "</pre>\n"
      ],
      "text/plain": [
       "\n",
       "\u001b[1;33m------- Hoàn thành bước: mark_task_complete -------\u001b[0m\n"
      ]
     },
     "metadata": {},
     "output_type": "display_data"
    },
    {
     "data": {
      "text/html": [
       "<pre style=\"white-space:pre;overflow-x:auto;line-height:normal;font-family:Menlo,'DejaVu Sans Mono',consolas,'Courier New',monospace\">\n",
       "<span style=\"color: #808000; text-decoration-color: #808000; font-weight: bold\">------- Hoàn thành bước: delay_node -------</span>\n",
       "</pre>\n"
      ],
      "text/plain": [
       "\n",
       "\u001b[1;33m------- Hoàn thành bước: delay_node -------\u001b[0m\n"
      ]
     },
     "metadata": {},
     "output_type": "display_data"
    },
    {
     "data": {
      "text/html": [
       "<pre style=\"white-space:pre;overflow-x:auto;line-height:normal;font-family:Menlo,'DejaVu Sans Mono',consolas,'Courier New',monospace\">\n",
       "<span style=\"color: #008080; text-decoration-color: #008080; font-weight: bold\">&gt;</span> `Router`: Đang kiểm tra nhiệm vụ<span style=\"color: #808000; text-decoration-color: #808000\">...</span>\n",
       "</pre>\n"
      ],
      "text/plain": [
       "\n",
       "\u001b[1;36m>\u001b[0m `Router`: Đang kiểm tra nhiệm vụ\u001b[33m...\u001b[0m\n"
      ]
     },
     "metadata": {},
     "output_type": "display_data"
    },
    {
     "data": {
      "text/html": [
       "<pre style=\"white-space:pre;overflow-x:auto;line-height:normal;font-family:Menlo,'DejaVu Sans Mono',consolas,'Courier New',monospace\">\n",
       "<span style=\"color: #008080; text-decoration-color: #008080; font-weight: bold\">&gt;</span> Nhiệm vụ tiếp theo: <span style=\"color: #008000; text-decoration-color: #008000\">'Tổng kết và Định hướng Mở rộng'</span> <span style=\"font-weight: bold\">(</span>ID: <span style=\"color: #008080; text-decoration-color: #008080; font-weight: bold\">4</span><span style=\"font-weight: bold\">)</span>\n",
       "</pre>\n"
      ],
      "text/plain": [
       "\n",
       "\u001b[1;36m>\u001b[0m Nhiệm vụ tiếp theo: \u001b[32m'Tổng kết và Định hướng Mở rộng'\u001b[0m \u001b[1m(\u001b[0mID: \u001b[1;36m4\u001b[0m\u001b[1m)\u001b[0m\n"
      ]
     },
     "metadata": {},
     "output_type": "display_data"
    },
    {
     "data": {
      "text/html": [
       "<pre style=\"white-space:pre;overflow-x:auto;line-height:normal;font-family:Menlo,'DejaVu Sans Mono',consolas,'Courier New',monospace\">\n",
       "<span style=\"color: #808000; text-decoration-color: #808000; font-weight: bold\">------- Hoàn thành bước: task_router -------</span>\n",
       "</pre>\n"
      ],
      "text/plain": [
       "\n",
       "\u001b[1;33m------- Hoàn thành bước: task_router -------\u001b[0m\n"
      ]
     },
     "metadata": {},
     "output_type": "display_data"
    },
    {
     "data": {
      "text/html": [
       "<pre style=\"white-space:pre;overflow-x:auto;line-height:normal;font-family:Menlo,'DejaVu Sans Mono',consolas,'Courier New',monospace\">\n",
       "<span style=\"color: #008080; text-decoration-color: #008080; font-weight: bold\">&gt;</span> `Agent: Task Dispatcher` đang giao việc<span style=\"color: #808000; text-decoration-color: #808000\">...</span>\n",
       "</pre>\n"
      ],
      "text/plain": [
       "\n",
       "\u001b[1;36m>\u001b[0m `Agent: Task Dispatcher` đang giao việc\u001b[33m...\u001b[0m\n"
      ]
     },
     "metadata": {},
     "output_type": "display_data"
    },
    {
     "data": {
      "text/html": [
       "<pre style=\"white-space:pre;overflow-x:auto;line-height:normal;font-family:Menlo,'DejaVu Sans Mono',consolas,'Courier New',monospace\">\n",
       "<span style=\"color: #008080; text-decoration-color: #008080; font-weight: bold\">&gt;</span> --- 🚚 `Dispatcher`: Giao nhiệm vụ cho `activity_designer`.\n",
       "</pre>\n"
      ],
      "text/plain": [
       "\n",
       "\u001b[1;36m>\u001b[0m --- 🚚 `Dispatcher`: Giao nhiệm vụ cho `activity_designer`.\n"
      ]
     },
     "metadata": {},
     "output_type": "display_data"
    },
    {
     "data": {
      "text/html": [
       "<pre style=\"white-space:pre;overflow-x:auto;line-height:normal;font-family:Menlo,'DejaVu Sans Mono',consolas,'Courier New',monospace\">\n",
       "<span style=\"color: #808000; text-decoration-color: #808000; font-weight: bold\">------- Hoàn thành bước: task_dispatcher -------</span>\n",
       "</pre>\n"
      ],
      "text/plain": [
       "\n",
       "\u001b[1;33m------- Hoàn thành bước: task_dispatcher -------\u001b[0m\n"
      ]
     },
     "metadata": {},
     "output_type": "display_data"
    },
    {
     "data": {
      "text/html": [
       "<pre style=\"white-space:pre;overflow-x:auto;line-height:normal;font-family:Menlo,'DejaVu Sans Mono',consolas,'Courier New',monospace\">\n",
       "<span style=\"color: #008080; text-decoration-color: #008080; font-weight: bold\">&gt;</span> `Agent: Activity Designer` <span style=\"font-weight: bold\">(</span>v13.<span style=\"color: #008080; text-decoration-color: #008080; font-weight: bold\">1</span> - Tư duy Phản tư<span style=\"font-weight: bold\">)</span> đang tạo nội dung<span style=\"color: #808000; text-decoration-color: #808000\">...</span>\n",
       "</pre>\n"
      ],
      "text/plain": [
       "\n",
       "\u001b[1;36m>\u001b[0m `Agent: Activity Designer` \u001b[1m(\u001b[0mv13.\u001b[1;36m1\u001b[0m - Tư duy Phản tư\u001b[1m)\u001b[0m đang tạo nội dung\u001b[33m...\u001b[0m\n"
      ]
     },
     "metadata": {},
     "output_type": "display_data"
    },
    {
     "data": {
      "text/html": [
       "<pre style=\"white-space:pre;overflow-x:auto;line-height:normal;font-family:Menlo,'DejaVu Sans Mono',consolas,'Courier New',monospace\"><span style=\"color: #008000; text-decoration-color: #008000; font-weight: bold\">✔️ Nội dung do Activity Designer tạo ra:</span>\n",
       "</pre>\n"
      ],
      "text/plain": [
       "\u001b[1;32m✔️ Nội dung do Activity Designer tạo ra:\u001b[0m\n"
      ]
     },
     "metadata": {},
     "output_type": "display_data"
    },
    {
     "data": {
      "text/html": [
       "<pre style=\"white-space:pre;overflow-x:auto;line-height:normal;font-family:Menlo,'DejaVu Sans Mono',consolas,'Courier New',monospace\"><span style=\"font-weight: bold\">{</span>\n",
       "<span style=\"color: #7fbf7f; text-decoration-color: #7fbf7f\">│   </span><span style=\"color: #008000; text-decoration-color: #008000\">'activity_name'</span>: <span style=\"color: #008000; text-decoration-color: #008000\">'Tổng kết và Định hướng Mở rộng'</span>,\n",
       "<span style=\"color: #7fbf7f; text-decoration-color: #7fbf7f\">│   </span><span style=\"color: #008000; text-decoration-color: #008000\">'duration_minutes'</span>: <span style=\"color: #008080; text-decoration-color: #008080; font-weight: bold\">10</span>,\n",
       "<span style=\"color: #7fbf7f; text-decoration-color: #7fbf7f\">│   </span><span style=\"color: #008000; text-decoration-color: #008000\">'teacher_actions'</span>: <span style=\"font-weight: bold\">[</span>\n",
       "<span style=\"color: #7fbf7f; text-decoration-color: #7fbf7f\">│   │   </span><span style=\"color: #008000; text-decoration-color: #008000\">'Yêu cầu học sinh tổng kết các kiến thức trọng tâm của bài học trong 3 phút.'</span>,\n",
       "<span style=\"color: #7fbf7f; text-decoration-color: #7fbf7f\">│   │   </span><span style=\"color: #008000; text-decoration-color: #008000\">'Lắng nghe và ghi nhận các ý kiến, câu hỏi của học sinh (4 phút).'</span>,\n",
       "<span style=\"color: #7fbf7f; text-decoration-color: #7fbf7f\">│   │   </span><span style=\"color: #008000; text-decoration-color: #008000\">'Tổng hợp nhanh các ý chính và giải đáp các thắc mắc chung (2 phút).'</span>,\n",
       "<span style=\"color: #7fbf7f; text-decoration-color: #7fbf7f\">│   │   </span><span style=\"color: #008000; text-decoration-color: #008000\">'Định hướng các nội dung học tập tiếp theo hoặc gợi ý ứng dụng thực tế của kiến thức vừa học (1 phút).'</span>\n",
       "<span style=\"color: #7fbf7f; text-decoration-color: #7fbf7f\">│   </span><span style=\"font-weight: bold\">]</span>,\n",
       "<span style=\"color: #7fbf7f; text-decoration-color: #7fbf7f\">│   </span><span style=\"color: #008000; text-decoration-color: #008000\">'extension_component'</span>: <span style=\"color: #008000; text-decoration-color: #008000\">'Nếu còn thời gian, học sinh có thể lập sơ đồ tư duy (mind map) tóm tắt toàn bộ bài học hoặc đề xuất một câu hỏi nghiên cứu mở rộng liên quan đến chủ đề.'</span>,\n",
       "<span style=\"color: #7fbf7f; text-decoration-color: #7fbf7f\">│   </span><span style=\"color: #008000; text-decoration-color: #008000\">'solution_guide'</span>: <span style=\"color: #008000; text-decoration-color: #008000\">\"Gợi ý các từ khóa chính của bài học để học sinh dễ dàng tổng kết. Các câu hỏi gợi mở: 'Hôm nay chúng ta đã học về điều gì?', 'Kiến thức này có thể áp dụng vào đâu trong cuộc sống?', 'Các em còn thắc mắc gì về bài học không?'\"</span>,\n",
       "<span style=\"color: #7fbf7f; text-decoration-color: #7fbf7f\">│   </span><span style=\"color: #008000; text-decoration-color: #008000\">'differentiation'</span>: <span style=\"font-weight: bold\">{</span>\n",
       "<span style=\"color: #7fbf7f; text-decoration-color: #7fbf7f\">│   │   </span><span style=\"color: #008000; text-decoration-color: #008000\">'for_struggling_students'</span>: <span style=\"color: #008000; text-decoration-color: #008000\">\"Cung cấp các câu hỏi gợi ý cụ thể hơn (ví dụ: 'Hôm nay chúng ta đã học về khái niệm gì?', 'Các bước thực hiện là gì?') hoặc danh sách từ khóa để các em dễ dàng tổng kết.\"</span>,\n",
       "<span style=\"color: #7fbf7f; text-decoration-color: #7fbf7f\">│   │   </span><span style=\"color: #008000; text-decoration-color: #008000\">'for_advanced_students'</span>: <span style=\"color: #008000; text-decoration-color: #008000\">'Yêu cầu các em liên hệ kiến thức vừa học với các bài học trước đó hoặc đề xuất một vấn đề thực tế có thể áp dụng kiến thức này để giải quyết.'</span>\n",
       "<span style=\"color: #7fbf7f; text-decoration-color: #7fbf7f\">│   </span><span style=\"font-weight: bold\">}</span>,\n",
       "<span style=\"color: #7fbf7f; text-decoration-color: #7fbf7f\">│   </span><span style=\"color: #008000; text-decoration-color: #008000\">'question_or_description'</span>: <span style=\"color: #008000; text-decoration-color: #008000\">'Học sinh tự tổng kết 3-5 ý chính của bài học vào vở hoặc phiếu học tập. Sau đó, mỗi học sinh chia sẻ nhanh 1 điều các em thấy thú vị nhất hoặc 1 câu hỏi còn thắc mắc về bài học.'</span>,\n",
       "<span style=\"color: #7fbf7f; text-decoration-color: #7fbf7f\">│   </span><span style=\"color: #008000; text-decoration-color: #008000\">'content_type'</span>: <span style=\"color: #008000; text-decoration-color: #008000\">'Tổng kết và Định hướng'</span>\n",
       "<span style=\"font-weight: bold\">}</span>\n",
       "</pre>\n"
      ],
      "text/plain": [
       "\u001b[1m{\u001b[0m\n",
       "\u001b[2;32m│   \u001b[0m\u001b[32m'activity_name'\u001b[0m: \u001b[32m'Tổng kết và Định hướng Mở rộng'\u001b[0m,\n",
       "\u001b[2;32m│   \u001b[0m\u001b[32m'duration_minutes'\u001b[0m: \u001b[1;36m10\u001b[0m,\n",
       "\u001b[2;32m│   \u001b[0m\u001b[32m'teacher_actions'\u001b[0m: \u001b[1m[\u001b[0m\n",
       "\u001b[2;32m│   │   \u001b[0m\u001b[32m'Yêu cầu học sinh tổng kết các kiến thức trọng tâm của bài học trong 3 phút.'\u001b[0m,\n",
       "\u001b[2;32m│   │   \u001b[0m\u001b[32m'Lắng nghe và ghi nhận các ý kiến, câu hỏi của học sinh \u001b[0m\u001b[32m(\u001b[0m\u001b[32m4 phút\u001b[0m\u001b[32m)\u001b[0m\u001b[32m.'\u001b[0m,\n",
       "\u001b[2;32m│   │   \u001b[0m\u001b[32m'Tổng hợp nhanh các ý chính và giải đáp các thắc mắc chung \u001b[0m\u001b[32m(\u001b[0m\u001b[32m2 phút\u001b[0m\u001b[32m)\u001b[0m\u001b[32m.'\u001b[0m,\n",
       "\u001b[2;32m│   │   \u001b[0m\u001b[32m'Định hướng các nội dung học tập tiếp theo hoặc gợi ý ứng dụng thực tế của kiến thức vừa học \u001b[0m\u001b[32m(\u001b[0m\u001b[32m1 phút\u001b[0m\u001b[32m)\u001b[0m\u001b[32m.'\u001b[0m\n",
       "\u001b[2;32m│   \u001b[0m\u001b[1m]\u001b[0m,\n",
       "\u001b[2;32m│   \u001b[0m\u001b[32m'extension_component'\u001b[0m: \u001b[32m'Nếu còn thời gian, học sinh có thể lập sơ đồ tư duy \u001b[0m\u001b[32m(\u001b[0m\u001b[32mmind map\u001b[0m\u001b[32m)\u001b[0m\u001b[32m tóm tắt toàn bộ bài học hoặc đề xuất một câu hỏi nghiên cứu mở rộng liên quan đến chủ đề.'\u001b[0m,\n",
       "\u001b[2;32m│   \u001b[0m\u001b[32m'solution_guide'\u001b[0m: \u001b[32m\"Gợi ý các từ khóa chính của bài học để học sinh dễ dàng tổng kết. Các câu hỏi gợi mở: 'Hôm nay chúng ta đã học về điều gì?', 'Kiến thức này có thể áp dụng vào đâu trong cuộc sống?', 'Các em còn thắc mắc gì về bài học không?'\"\u001b[0m,\n",
       "\u001b[2;32m│   \u001b[0m\u001b[32m'differentiation'\u001b[0m: \u001b[1m{\u001b[0m\n",
       "\u001b[2;32m│   │   \u001b[0m\u001b[32m'for_struggling_students'\u001b[0m: \u001b[32m\"Cung cấp các câu hỏi gợi ý cụ thể hơn \u001b[0m\u001b[32m(\u001b[0m\u001b[32mví dụ: 'Hôm nay chúng ta đã học về khái niệm gì?', 'Các bước thực hiện là gì?'\u001b[0m\u001b[32m)\u001b[0m\u001b[32m hoặc danh sách từ khóa để các em dễ dàng tổng kết.\"\u001b[0m,\n",
       "\u001b[2;32m│   │   \u001b[0m\u001b[32m'for_advanced_students'\u001b[0m: \u001b[32m'Yêu cầu các em liên hệ kiến thức vừa học với các bài học trước đó hoặc đề xuất một vấn đề thực tế có thể áp dụng kiến thức này để giải quyết.'\u001b[0m\n",
       "\u001b[2;32m│   \u001b[0m\u001b[1m}\u001b[0m,\n",
       "\u001b[2;32m│   \u001b[0m\u001b[32m'question_or_description'\u001b[0m: \u001b[32m'Học sinh tự tổng kết 3-5 ý chính của bài học vào vở hoặc phiếu học tập. Sau đó, mỗi học sinh chia sẻ nhanh 1 điều các em thấy thú vị nhất hoặc 1 câu hỏi còn thắc mắc về bài học.'\u001b[0m,\n",
       "\u001b[2;32m│   \u001b[0m\u001b[32m'content_type'\u001b[0m: \u001b[32m'Tổng kết và Định hướng'\u001b[0m\n",
       "\u001b[1m}\u001b[0m\n"
      ]
     },
     "metadata": {},
     "output_type": "display_data"
    },
    {
     "data": {
      "text/html": [
       "<pre style=\"white-space:pre;overflow-x:auto;line-height:normal;font-family:Menlo,'DejaVu Sans Mono',consolas,'Courier New',monospace\">\n",
       "<span style=\"color: #808000; text-decoration-color: #808000; font-weight: bold\">------- Hoàn thành bước: activity_designer -------</span>\n",
       "</pre>\n"
      ],
      "text/plain": [
       "\n",
       "\u001b[1;33m------- Hoàn thành bước: activity_designer -------\u001b[0m\n"
      ]
     },
     "metadata": {},
     "output_type": "display_data"
    },
    {
     "data": {
      "text/html": [
       "<pre style=\"white-space:pre;overflow-x:auto;line-height:normal;font-family:Menlo,'DejaVu Sans Mono',consolas,'Courier New',monospace\">\n",
       "<span style=\"color: #008080; text-decoration-color: #008080; font-weight: bold\">&gt;</span> `Agent: Easy-Going Critic` <span style=\"font-weight: bold\">(</span>v13.<span style=\"color: #008080; text-decoration-color: #008080; font-weight: bold\">1</span><span style=\"font-weight: bold\">)</span> đang phân tích<span style=\"color: #808000; text-decoration-color: #808000\">...</span>\n",
       "</pre>\n"
      ],
      "text/plain": [
       "\n",
       "\u001b[1;36m>\u001b[0m `Agent: Easy-Going Critic` \u001b[1m(\u001b[0mv13.\u001b[1;36m1\u001b[0m\u001b[1m)\u001b[0m đang phân tích\u001b[33m...\u001b[0m\n"
      ]
     },
     "metadata": {},
     "output_type": "display_data"
    },
    {
     "data": {
      "text/html": [
       "<pre style=\"white-space:pre;overflow-x:auto;line-height:normal;font-family:Menlo,'DejaVu Sans Mono',consolas,'Courier New',monospace\">\n",
       "<span style=\"color: #008080; text-decoration-color: #008080; font-weight: bold\">&gt;</span> ✔️ CRITIC <span style=\"font-weight: bold\">(</span>Lần <span style=\"color: #008080; text-decoration-color: #008080; font-weight: bold\">1</span><span style=\"font-weight: bold\">)</span>: Nội dung được duyệt! <span style=\"font-weight: bold\">(</span>Góp ý: Hoạt động tổng kết này rất toàn diện và có nhiều ý tưởng hay. Tuy\n",
       "nhiên, với <span style=\"color: #008080; text-decoration-color: #008080; font-weight: bold\">10</span> phút, việc thực hiện đầy đủ các bước từ tổng kết cá nhân, chia sẻ, lắng nghe, giải đáp đến định hướng\n",
       "và cả các phần mở rộng, phân hóa có thể hơi tham vọng. Giáo viên có thể linh hoạt điều chỉnh, ưu tiên các hoạt động\n",
       "cốt lõi hoặc chọn lọc một số học sinh tiêu biểu để chia sẻ nhằm đảm bảo thời gian.<span style=\"font-weight: bold\">)</span>\n",
       "</pre>\n"
      ],
      "text/plain": [
       "\n",
       "\u001b[1;36m>\u001b[0m ✔️ CRITIC \u001b[1m(\u001b[0mLần \u001b[1;36m1\u001b[0m\u001b[1m)\u001b[0m: Nội dung được duyệt! \u001b[1m(\u001b[0mGóp ý: Hoạt động tổng kết này rất toàn diện và có nhiều ý tưởng hay. Tuy\n",
       "nhiên, với \u001b[1;36m10\u001b[0m phút, việc thực hiện đầy đủ các bước từ tổng kết cá nhân, chia sẻ, lắng nghe, giải đáp đến định hướng\n",
       "và cả các phần mở rộng, phân hóa có thể hơi tham vọng. Giáo viên có thể linh hoạt điều chỉnh, ưu tiên các hoạt động\n",
       "cốt lõi hoặc chọn lọc một số học sinh tiêu biểu để chia sẻ nhằm đảm bảo thời gian.\u001b[1m)\u001b[0m\n"
      ]
     },
     "metadata": {},
     "output_type": "display_data"
    },
    {
     "data": {
      "text/html": [
       "<pre style=\"white-space:pre;overflow-x:auto;line-height:normal;font-family:Menlo,'DejaVu Sans Mono',consolas,'Courier New',monospace\">\n",
       "<span style=\"color: #808000; text-decoration-color: #808000; font-weight: bold\">------- Hoàn thành bước: content_validator -------</span>\n",
       "</pre>\n"
      ],
      "text/plain": [
       "\n",
       "\u001b[1;33m------- Hoàn thành bước: content_validator -------\u001b[0m\n"
      ]
     },
     "metadata": {},
     "output_type": "display_data"
    },
    {
     "data": {
      "text/html": [
       "<pre style=\"white-space:pre;overflow-x:auto;line-height:normal;font-family:Menlo,'DejaVu Sans Mono',consolas,'Courier New',monospace\">\n",
       "<span style=\"color: #008080; text-decoration-color: #008080; font-weight: bold\">&gt;</span> `Commiter`: Đang ghi nhận nội dung đã được xác thực<span style=\"color: #808000; text-decoration-color: #808000\">...</span>\n",
       "</pre>\n"
      ],
      "text/plain": [
       "\n",
       "\u001b[1;36m>\u001b[0m `Commiter`: Đang ghi nhận nội dung đã được xác thực\u001b[33m...\u001b[0m\n"
      ]
     },
     "metadata": {},
     "output_type": "display_data"
    },
    {
     "data": {
      "text/html": [
       "<pre style=\"white-space:pre;overflow-x:auto;line-height:normal;font-family:Menlo,'DejaVu Sans Mono',consolas,'Courier New',monospace\">\n",
       "<span style=\"color: #808000; text-decoration-color: #808000; font-weight: bold\">------- Hoàn thành bước: commit_validated_content -------</span>\n",
       "</pre>\n"
      ],
      "text/plain": [
       "\n",
       "\u001b[1;33m------- Hoàn thành bước: commit_validated_content -------\u001b[0m\n"
      ]
     },
     "metadata": {},
     "output_type": "display_data"
    },
    {
     "data": {
      "text/html": [
       "<pre style=\"white-space:pre;overflow-x:auto;line-height:normal;font-family:Menlo,'DejaVu Sans Mono',consolas,'Courier New',monospace\">\n",
       "<span style=\"color: #808000; text-decoration-color: #808000; font-weight: bold\">------- Hoàn thành bước: mark_task_complete -------</span>\n",
       "</pre>\n"
      ],
      "text/plain": [
       "\n",
       "\u001b[1;33m------- Hoàn thành bước: mark_task_complete -------\u001b[0m\n"
      ]
     },
     "metadata": {},
     "output_type": "display_data"
    },
    {
     "data": {
      "text/html": [
       "<pre style=\"white-space:pre;overflow-x:auto;line-height:normal;font-family:Menlo,'DejaVu Sans Mono',consolas,'Courier New',monospace\">\n",
       "<span style=\"color: #808000; text-decoration-color: #808000; font-weight: bold\">------- Hoàn thành bước: delay_node -------</span>\n",
       "</pre>\n"
      ],
      "text/plain": [
       "\n",
       "\u001b[1;33m------- Hoàn thành bước: delay_node -------\u001b[0m\n"
      ]
     },
     "metadata": {},
     "output_type": "display_data"
    },
    {
     "data": {
      "text/html": [
       "<pre style=\"white-space:pre;overflow-x:auto;line-height:normal;font-family:Menlo,'DejaVu Sans Mono',consolas,'Courier New',monospace\">\n",
       "<span style=\"color: #008080; text-decoration-color: #008080; font-weight: bold\">&gt;</span> `Router`: Đang kiểm tra nhiệm vụ<span style=\"color: #808000; text-decoration-color: #808000\">...</span>\n",
       "</pre>\n"
      ],
      "text/plain": [
       "\n",
       "\u001b[1;36m>\u001b[0m `Router`: Đang kiểm tra nhiệm vụ\u001b[33m...\u001b[0m\n"
      ]
     },
     "metadata": {},
     "output_type": "display_data"
    },
    {
     "data": {
      "text/html": [
       "<pre style=\"white-space:pre;overflow-x:auto;line-height:normal;font-family:Menlo,'DejaVu Sans Mono',consolas,'Courier New',monospace\">\n",
       "<span style=\"color: #008080; text-decoration-color: #008080; font-weight: bold\">&gt;</span> Hết nhiệm vụ, chuyển sang node Compiler.\n",
       "</pre>\n"
      ],
      "text/plain": [
       "\n",
       "\u001b[1;36m>\u001b[0m Hết nhiệm vụ, chuyển sang node Compiler.\n"
      ]
     },
     "metadata": {},
     "output_type": "display_data"
    },
    {
     "data": {
      "text/html": [
       "<pre style=\"white-space:pre;overflow-x:auto;line-height:normal;font-family:Menlo,'DejaVu Sans Mono',consolas,'Courier New',monospace\">\n",
       "<span style=\"color: #808000; text-decoration-color: #808000; font-weight: bold\">------- Hoàn thành bước: task_router -------</span>\n",
       "</pre>\n"
      ],
      "text/plain": [
       "\n",
       "\u001b[1;33m------- Hoàn thành bước: task_router -------\u001b[0m\n"
      ]
     },
     "metadata": {},
     "output_type": "display_data"
    },
    {
     "data": {
      "text/html": [
       "<pre style=\"white-space:pre;overflow-x:auto;line-height:normal;font-family:Menlo,'DejaVu Sans Mono',consolas,'Courier New',monospace\">\n",
       "<span style=\"color: #008080; text-decoration-color: #008080; font-weight: bold\">&gt;</span> `Agent: Structured Plan Compiler` <span style=\"font-weight: bold\">(</span>v12.<span style=\"color: #008080; text-decoration-color: #008080; font-weight: bold\">0</span><span style=\"font-weight: bold\">)</span> đang tổng hợp giáo án<span style=\"color: #808000; text-decoration-color: #808000\">...</span>\n",
       "</pre>\n"
      ],
      "text/plain": [
       "\n",
       "\u001b[1;36m>\u001b[0m `Agent: Structured Plan Compiler` \u001b[1m(\u001b[0mv12.\u001b[1;36m0\u001b[0m\u001b[1m)\u001b[0m đang tổng hợp giáo án\u001b[33m...\u001b[0m\n"
      ]
     },
     "metadata": {},
     "output_type": "display_data"
    },
    {
     "data": {
      "text/html": [
       "<pre style=\"white-space:pre;overflow-x:auto;line-height:normal;font-family:Menlo,'DejaVu Sans Mono',consolas,'Courier New',monospace\">\n",
       "<span style=\"color: #008080; text-decoration-color: #008080; font-weight: bold\">&gt;</span> CRITIC LỚN: Kế hoạch hợp lệ! Bắt đầu tổng hợp JSON<span style=\"color: #808000; text-decoration-color: #808000\">...</span>\n",
       "</pre>\n"
      ],
      "text/plain": [
       "\n",
       "\u001b[1;36m>\u001b[0m CRITIC LỚN: Kế hoạch hợp lệ! Bắt đầu tổng hợp JSON\u001b[33m...\u001b[0m\n"
      ]
     },
     "metadata": {},
     "output_type": "display_data"
    },
    {
     "data": {
      "text/html": [
       "<pre style=\"white-space:pre;overflow-x:auto;line-height:normal;font-family:Menlo,'DejaVu Sans Mono',consolas,'Courier New',monospace\">\n",
       "<span style=\"color: #008080; text-decoration-color: #008080; font-weight: bold\">&gt;</span> ROUTER <span style=\"font-weight: bold\">(</span>Compilation<span style=\"font-weight: bold\">)</span>: Critic lớn đã hài lòng. Kết thúc quy trình.\n",
       "</pre>\n"
      ],
      "text/plain": [
       "\n",
       "\u001b[1;36m>\u001b[0m ROUTER \u001b[1m(\u001b[0mCompilation\u001b[1m)\u001b[0m: Critic lớn đã hài lòng. Kết thúc quy trình.\n"
      ]
     },
     "metadata": {},
     "output_type": "display_data"
    },
    {
     "data": {
      "text/html": [
       "<pre style=\"white-space:pre;overflow-x:auto;line-height:normal;font-family:Menlo,'DejaVu Sans Mono',consolas,'Courier New',monospace\">\n",
       "<span style=\"color: #808000; text-decoration-color: #808000; font-weight: bold\">------- Hoàn thành bước: structured_plan_compiler -------</span>\n",
       "</pre>\n"
      ],
      "text/plain": [
       "\n",
       "\u001b[1;33m------- Hoàn thành bước: structured_plan_compiler -------\u001b[0m\n"
      ]
     },
     "metadata": {},
     "output_type": "display_data"
    },
    {
     "data": {
      "text/html": [
       "<pre style=\"white-space:pre;overflow-x:auto;line-height:normal;font-family:Menlo,'DejaVu Sans Mono',consolas,'Courier New',monospace\">\n",
       "<span style=\"color: #008080; text-decoration-color: #008080; font-weight: bold\">&gt;</span> `Node: Pedagogical Editor` <span style=\"font-weight: bold\">(</span>v13.<span style=\"color: #008080; text-decoration-color: #008080; font-weight: bold\">1</span><span style=\"font-weight: bold\">)</span> đang biên tập và tạo bản trình bày<span style=\"color: #808000; text-decoration-color: #808000\">...</span>\n",
       "</pre>\n"
      ],
      "text/plain": [
       "\n",
       "\u001b[1;36m>\u001b[0m `Node: Pedagogical Editor` \u001b[1m(\u001b[0mv13.\u001b[1;36m1\u001b[0m\u001b[1m)\u001b[0m đang biên tập và tạo bản trình bày\u001b[33m...\u001b[0m\n"
      ]
     },
     "metadata": {},
     "output_type": "display_data"
    },
    {
     "data": {
      "text/html": [
       "<pre style=\"white-space:pre;overflow-x:auto;line-height:normal;font-family:Menlo,'DejaVu Sans Mono',consolas,'Courier New',monospace\">\n",
       "<span style=\"color: #008080; text-decoration-color: #008080; font-weight: bold\">&gt;</span> ✔️ Đã biên tập thành công giáo án cuối cùng với lời chuyển mượt mà.\n",
       "</pre>\n"
      ],
      "text/plain": [
       "\n",
       "\u001b[1;36m>\u001b[0m ✔️ Đã biên tập thành công giáo án cuối cùng với lời chuyển mượt mà.\n"
      ]
     },
     "metadata": {},
     "output_type": "display_data"
    },
    {
     "data": {
      "text/html": [
       "<pre style=\"white-space:pre;overflow-x:auto;line-height:normal;font-family:Menlo,'DejaVu Sans Mono',consolas,'Courier New',monospace\">\n",
       "<span style=\"color: #808000; text-decoration-color: #808000; font-weight: bold\">------- Hoàn thành bước: markdown_presenter -------</span>\n",
       "</pre>\n"
      ],
      "text/plain": [
       "\n",
       "\u001b[1;33m------- Hoàn thành bước: markdown_presenter -------\u001b[0m\n"
      ]
     },
     "metadata": {},
     "output_type": "display_data"
    },
    {
     "data": {
      "text/html": [
       "<pre style=\"white-space:pre;overflow-x:auto;line-height:normal;font-family:Menlo,'DejaVu Sans Mono',consolas,'Courier New',monospace\">\n",
       "<span style=\"color: #008080; text-decoration-color: #008080; font-weight: bold\">&gt;</span> 🧠 Đã lưu giáo án thành công vào Trí nhớ Dài hạn.\n",
       "</pre>\n"
      ],
      "text/plain": [
       "\n",
       "\u001b[1;36m>\u001b[0m 🧠 Đã lưu giáo án thành công vào Trí nhớ Dài hạn.\n"
      ]
     },
     "metadata": {},
     "output_type": "display_data"
    },
    {
     "data": {
      "text/html": [
       "<pre style=\"white-space:pre;overflow-x:auto;line-height:normal;font-family:Menlo,'DejaVu Sans Mono',consolas,'Courier New',monospace\">\n",
       "<span style=\"color: #808000; text-decoration-color: #808000; font-weight: bold\">------- Hoàn thành bước: save_to_memory -------</span>\n",
       "</pre>\n"
      ],
      "text/plain": [
       "\n",
       "\u001b[1;33m------- Hoàn thành bước: save_to_memory -------\u001b[0m\n"
      ]
     },
     "metadata": {},
     "output_type": "display_data"
    },
    {
     "data": {
      "text/html": [
       "<pre style=\"white-space:pre;overflow-x:auto;line-height:normal;font-family:Menlo,'DejaVu Sans Mono',consolas,'Courier New',monospace\">\n",
       "<span style=\"color: #008080; text-decoration-color: #008080; font-weight: bold\">&gt;</span> Đang chuyển đổi giáo án sang file PDF: <span style=\"color: #008000; text-decoration-color: #008000\">'GiaoAn_Phương_trình_mặt_cầu.pdf'</span><span style=\"color: #808000; text-decoration-color: #808000\">...</span>\n",
       "</pre>\n"
      ],
      "text/plain": [
       "\n",
       "\u001b[1;36m>\u001b[0m Đang chuyển đổi giáo án sang file PDF: \u001b[32m'GiaoAn_Phương_trình_mặt_cầu.pdf'\u001b[0m\u001b[33m...\u001b[0m\n"
      ]
     },
     "metadata": {},
     "output_type": "display_data"
    },
    {
     "name": "stdout",
     "output_type": "stream",
     "text": [
      "✅ Đã lưu giáo án thành công vào file 'GiaoAn_Phương_trình_mặt_cầu.pdf'\n"
     ]
    },
    {
     "data": {
      "text/html": [
       "<pre style=\"white-space:pre;overflow-x:auto;line-height:normal;font-family:Menlo,'DejaVu Sans Mono',consolas,'Courier New',monospace\">\n",
       "<span style=\"color: #808000; text-decoration-color: #808000; font-weight: bold\">------- Hoàn thành bước: save_to_pdf -------</span>\n",
       "</pre>\n"
      ],
      "text/plain": [
       "\n",
       "\u001b[1;33m------- Hoàn thành bước: save_to_pdf -------\u001b[0m\n"
      ]
     },
     "metadata": {},
     "output_type": "display_data"
    },
    {
     "data": {
      "text/html": [
       "<pre style=\"white-space:pre;overflow-x:auto;line-height:normal;font-family:Menlo,'DejaVu Sans Mono',consolas,'Courier New',monospace\">\n",
       "<span style=\"color: #800080; text-decoration-color: #800080; font-weight: bold\">🏁 KẾT THÚC QUY TRÌNH.</span>\n",
       "</pre>\n"
      ],
      "text/plain": [
       "\n",
       "\u001b[1;35m🏁 KẾT THÚC QUY TRÌNH.\u001b[0m\n"
      ]
     },
     "metadata": {},
     "output_type": "display_data"
    },
    {
     "data": {
      "text/html": [
       "<pre style=\"white-space:pre;overflow-x:auto;line-height:normal;font-family:Menlo,'DejaVu Sans Mono',consolas,'Courier New',monospace\">\n",
       "<span style=\"color: #008000; text-decoration-color: #008000; font-weight: bold\">📝 GIÁO ÁN HOÀN CHỈNH (v12.</span><span style=\"color: #008000; text-decoration-color: #008000; font-weight: bold\">0</span><span style=\"color: #008000; text-decoration-color: #008000; font-weight: bold\">)</span>\n",
       "</pre>\n"
      ],
      "text/plain": [
       "\n",
       "\u001b[1;32m📝 GIÁO ÁN HOÀN CHỈNH \u001b[0m\u001b[1;32m(\u001b[0m\u001b[1;32mv12.\u001b[0m\u001b[1;32m0\u001b[0m\u001b[1;32m)\u001b[0m\n"
      ]
     },
     "metadata": {},
     "output_type": "display_data"
    },
    {
     "data": {
      "text/html": [
       "<pre style=\"white-space:pre;overflow-x:auto;line-height:normal;font-family:Menlo,'DejaVu Sans Mono',consolas,'Courier New',monospace\">Chào các em học sinh thân mến! Hôm nay, với vai trò là một Biên tập viên Sư phạm giàu kinh nghiệm, thầy/cô sẽ trình\n",
       "bày một giáo án hoàn chỉnh về chủ đề \"Phương trình mặt cầu\" dành cho các em học sinh lớp 12. Giáo án này được thiết\n",
       "kế để giúp các em tiếp thu kiến thức một cách chủ động, hứng thú và hiệu quả nhất.                                 \n",
       "\n",
       "<span style=\"color: #808000; text-decoration-color: #808000\">───────────────────────────────────────────────────────────────────────────────────────────────────────────────────</span>\n",
       "┏━━━━━━━━━━━━━━━━━━━━━━━━━━━━━━━━━━━━━━━━━━━━━━━━━━━━━━━━━━━━━━━━━━━━━━━━━━━━━━━━━━━━━━━━━━━━━━━━━━━━━━━━━━━━━━━━━┓\n",
       "┃                                           <span style=\"font-weight: bold\">GIÁO ÁN MÔN TOÁN HỌC LỚP 12</span>                                           ┃\n",
       "┗━━━━━━━━━━━━━━━━━━━━━━━━━━━━━━━━━━━━━━━━━━━━━━━━━━━━━━━━━━━━━━━━━━━━━━━━━━━━━━━━━━━━━━━━━━━━━━━━━━━━━━━━━━━━━━━━━┛\n",
       "\n",
       "\n",
       "                                           <span style=\"font-weight: bold; text-decoration: underline\">CHỦ ĐỀ: PHƯƠNG TRÌNH MẶT CẦU</span>                                            \n",
       "\n",
       "                                                <span style=\"font-weight: bold\">I. THÔNG TIN CHUNG</span>                                                 \n",
       "\n",
       "<span style=\"color: #808000; text-decoration-color: #808000; font-weight: bold\"> • </span><span style=\"font-weight: bold\">Chủ Đề:</span> Phương trình mặt cầu                                                                                    \n",
       "<span style=\"color: #808000; text-decoration-color: #808000; font-weight: bold\"> • </span><span style=\"font-weight: bold\">Môn Học:</span> Toán học                                                                                               \n",
       "<span style=\"color: #808000; text-decoration-color: #808000; font-weight: bold\"> • </span><span style=\"font-weight: bold\">Lớp:</span> Lớp 12                                                                                                     \n",
       "<span style=\"color: #808000; text-decoration-color: #808000; font-weight: bold\"> • </span><span style=\"font-weight: bold\">Thời Lượng:</span> 90 phút                                                                                             \n",
       "<span style=\"color: #808000; text-decoration-color: #808000; font-weight: bold\"> • </span><span style=\"font-weight: bold\">Phương Pháp Chủ Đạo:</span> Dạy học hợp tác (Cooperative Learning)                                                     \n",
       "<span style=\"color: #808000; text-decoration-color: #808000; font-weight: bold\"> • </span><span style=\"font-weight: bold\">Đặc Điểm Lớp Học:</span> Lớp học khá yếu, học sinh thường mất tập trung và cần các hoạt động có tính tương tác cao để  \n",
       "<span style=\"color: #808000; text-decoration-color: #808000; font-weight: bold\">   </span>duy trì sự chú ý và hứng thú học tập.                                                                           \n",
       "\n",
       "                                               <span style=\"font-weight: bold\">II. MỤC TIÊU BÀI HỌC</span>                                                \n",
       "\n",
       "<span style=\"color: #808000; text-decoration-color: #808000; font-weight: bold\"> • </span>Học sinh có thể Soạn kiến thức về Phương trình mặt cầu.                                                         \n",
       "<span style=\"color: #808000; text-decoration-color: #808000; font-weight: bold\"> • </span>Rèn luyện kỹ năng tư duy logic.                                                                                 \n",
       "<span style=\"color: #808000; text-decoration-color: #808000; font-weight: bold\"> • </span>Phát triển kỹ năng hợp tác.                                                                                     \n",
       "\n",
       "                                                   <span style=\"font-weight: bold\">III. CHUẨN BỊ</span>                                                   \n",
       "\n",
       "<span style=\"color: #808000; text-decoration-color: #808000; font-weight: bold\"> • </span><span style=\"font-weight: bold\">Giáo Viên:</span> Bảng phụ, máy chiếu, phiếu học tập                                                                   \n",
       "<span style=\"color: #808000; text-decoration-color: #808000; font-weight: bold\"> • </span><span style=\"font-weight: bold\">Học Sinh:</span> Sách giáo khoa, vở ghi, dụng cụ học tập                                                               \n",
       "\n",
       "                                              <span style=\"font-weight: bold\">IV. TIẾN TRÌNH BÀI DẠY</span>                                               \n",
       "\n",
       "                                 <span style=\"color: #7f7f7f; text-decoration-color: #7f7f7f; font-weight: bold\">Hoạt động 1: Khám phá Khái niệm Mặt cầu (15 phút)</span>                                 \n",
       "\n",
       "<span style=\"font-weight: bold\">Nhiệm vụ:</span> Học sinh làm việc theo nhóm (2-3 người). Mỗi nhóm được cung cấp một vật thể hình cầu hoặc được yêu cầu   \n",
       "quan sát các vật thể hình cầu xung quanh. Các nhóm thảo luận để xác định các đặc điểm chung của vật thể, đặc biệt  \n",
       "là mối quan hệ giữa các điểm trên bề mặt và một điểm cố định (tâm). Từ đó, các nhóm cố gắng đưa ra một định nghĩa  \n",
       "sơ bộ về mặt cầu.                                                                                                  \n",
       "\n",
       "<span style=\"color: #800080; text-decoration-color: #800080\">▌ </span><span style=\"color: #800080; text-decoration-color: #800080; font-weight: bold\">Gợi ý Phân hóa:</span><span style=\"color: #800080; text-decoration-color: #800080\">                                                                                                </span>\n",
       "\n",
       "<span style=\"color: #800080; text-decoration-color: #800080\">▌ </span><span style=\"color: #808000; text-decoration-color: #808000; font-weight: bold\"> • </span><span style=\"color: #800080; text-decoration-color: #800080; font-style: italic\">Hỗ trợ (HS yếu):</span><span style=\"color: #800080; text-decoration-color: #800080\"> Cung cấp các vật thể hình cầu có kích thước lớn, dễ quan sát. Gợi ý cụ thể hơn bằng cách   </span>\n",
       "<span style=\"color: #800080; text-decoration-color: #800080\">▌ </span><span style=\"color: #808000; text-decoration-color: #808000; font-weight: bold\">   </span><span style=\"color: #800080; text-decoration-color: #800080\">đặt câu hỏi trực tiếp về tâm và khoảng cách. Có thể cho học sinh dùng thước dây để đo thử khoảng cách từ tâm</span>\n",
       "<span style=\"color: #800080; text-decoration-color: #800080\">▌ </span><span style=\"color: #808000; text-decoration-color: #808000; font-weight: bold\">   </span><span style=\"color: #800080; text-decoration-color: #800080\">đến các điểm trên bề mặt.                                                                                   </span>\n",
       "\n",
       "<span style=\"color: #800080; text-decoration-color: #800080\">▌ </span><span style=\"color: #808000; text-decoration-color: #808000; font-weight: bold\"> • </span><span style=\"color: #800080; text-decoration-color: #800080; font-style: italic\">Thử thách (HS giỏi):</span><span style=\"color: #800080; text-decoration-color: #800080\"> Yêu cầu học sinh suy nghĩ về sự khác biệt giữa mặt cầu và hình cầu. Hoặc đặt câu hỏi về</span>\n",
       "<span style=\"color: #800080; text-decoration-color: #800080\">▌ </span><span style=\"color: #808000; text-decoration-color: #808000; font-weight: bold\">   </span><span style=\"color: #800080; text-decoration-color: #800080\">công thức tính diện tích mặt cầu (nếu đã học) hoặc các ứng dụng phức tạp hơn của mặt cầu trong khoa học.    </span>\n",
       "\n",
       "<span style=\"font-style: italic\">GV: Rất tốt! Các nhóm đã đưa ra những định nghĩa sơ bộ rất sát với khái niệm mặt cầu. Để biểu diễn chính xác hơn </span>  \n",
       "<span style=\"font-style: italic\">những đặc điểm này trong không gian tọa độ Oxyz, chúng ta sẽ cùng nhau xây dựng và tìm hiểu về phương trình mặt cầu</span>\n",
       "<span style=\"font-style: italic\">dạng chính tắc nhé.</span>                                                                                                \n",
       "\n",
       "                 <span style=\"color: #7f7f7f; text-decoration-color: #7f7f7f; font-weight: bold\">Hoạt động 2: Xây dựng và Thực hành Phương trình Mặt cầu Dạng Chính tắc (20 phút)</span>                  \n",
       "\n",
       "<span style=\"font-weight: bold\">Nhiệm vụ:</span> Học sinh tự xây dựng công thức phương trình mặt cầu dạng chính tắc dựa trên định nghĩa (tâm I(a,b,c), bán\n",
       "kính R). Vận dụng công thức để viết phương trình mặt cầu khi biết tâm và bán kính, và xác định tâm, bán kính từ một\n",
       "phương trình cho trước thông qua 2 bài tập cơ bản.                                                                 \n",
       "\n",
       "<span style=\"color: #800080; text-decoration-color: #800080\">▌ </span><span style=\"color: #800080; text-decoration-color: #800080; font-weight: bold\">Gợi ý Phân hóa:</span><span style=\"color: #800080; text-decoration-color: #800080\">                                                                                                </span>\n",
       "\n",
       "<span style=\"color: #800080; text-decoration-color: #800080\">▌ </span><span style=\"color: #808000; text-decoration-color: #808000; font-weight: bold\"> • </span><span style=\"color: #800080; text-decoration-color: #800080; font-style: italic\">Hỗ trợ (HS yếu):</span><span style=\"color: #800080; text-decoration-color: #800080\"> Cung cấp sẵn công thức phương trình mặt cầu và yêu cầu học sinh chỉ cần thay số vào để giải</span>\n",
       "<span style=\"color: #800080; text-decoration-color: #800080\">▌ </span><span style=\"color: #808000; text-decoration-color: #808000; font-weight: bold\">   </span><span style=\"color: #800080; text-decoration-color: #800080\">các bài tập đơn giản (ví dụ: tâm là gốc tọa độ, bán kính là số nguyên nhỏ).                                 </span>\n",
       "\n",
       "<span style=\"color: #800080; text-decoration-color: #800080\">▌ </span><span style=\"color: #808000; text-decoration-color: #808000; font-weight: bold\"> • </span><span style=\"color: #800080; text-decoration-color: #800080; font-style: italic\">Thử thách (HS giỏi):</span><span style=\"color: #800080; text-decoration-color: #800080\"> Yêu cầu học sinh chứng minh công thức phương trình mặt cầu từ định nghĩa hoặc giải bài </span>\n",
       "<span style=\"color: #800080; text-decoration-color: #800080\">▌ </span><span style=\"color: #808000; text-decoration-color: #808000; font-weight: bold\">   </span><span style=\"color: #800080; text-decoration-color: #800080\">tập mở rộng: Viết phương trình mặt cầu có tâm I(1,2,3) và đi qua điểm A(4,5,6).                             </span>\n",
       "\n",
       "<span style=\"font-style: italic\">GV: Qua hoạt động vừa rồi, các em đã nắm vững cách viết và xác định các yếu tố của mặt cầu ở dạng chính tắc. Tuy </span>  \n",
       "<span style=\"font-style: italic\">nhiên, trong nhiều bài toán, phương trình mặt cầu lại xuất hiện dưới một dạng khác. Vậy làm thế nào để nhận diện và</span>\n",
       "<span style=\"font-style: italic\">xử lý dạng đó? Chúng ta hãy cùng khám phá hoạt động tiếp theo.</span>                                                     \n",
       "\n",
       "                 <span style=\"color: #7f7f7f; text-decoration-color: #7f7f7f; font-weight: bold\">Hoạt động 3: Khám phá và Luyện tập Phương trình Mặt cầu Dạng Khai triển (25 phút)</span>                 \n",
       "\n",
       "<span style=\"font-weight: bold\">Nhiệm vụ:</span> Học sinh làm việc cá nhân/nhóm nhỏ để: 1. Nhắc lại phương trình mặt cầu dạng chính tắc. 2. Khai triển một\n",
       "phương trình mặt cầu dạng chính tắc cụ thể (ví dụ: (x-1)^2 + (y+2)^2 + (z-3)^2 = 25) để thu được dạng khai triển.  \n",
       "3. Từ kết quả khai triển, nhận diện các hệ số và rút ra công thức tổng quát của phương trình mặt cầu dạng khai     \n",
       "triển: x^2 + y^2 + z^2 + 2Ax + 2By + 2Cz + D = 0. 4. Xác định mối liên hệ giữa tâm I(A; B; C) và bán kính R với các\n",
       "hệ số A, B, C, D. 5. Thực hành 1-2 bài tập cơ bản: a) Cho phương trình dạng khai triển, xác định tâm và bán kính.  \n",
       "b) Cho tâm và bán kính, viết phương trình dạng khai triển.                                                         \n",
       "\n",
       "<span style=\"color: #800080; text-decoration-color: #800080\">▌ </span><span style=\"color: #800080; text-decoration-color: #800080; font-weight: bold\">Gợi ý Phân hóa:</span><span style=\"color: #800080; text-decoration-color: #800080\">                                                                                                </span>\n",
       "\n",
       "<span style=\"color: #800080; text-decoration-color: #800080\">▌ </span><span style=\"color: #808000; text-decoration-color: #808000; font-weight: bold\"> • </span><span style=\"color: #800080; text-decoration-color: #800080; font-style: italic\">Hỗ trợ (HS yếu):</span><span style=\"color: #800080; text-decoration-color: #800080\"> Cung cấp sẵn một ví dụ khai triển từng bước hoặc công thức khai triển (a+b)^2. Hướng dẫn cụ</span>\n",
       "<span style=\"color: #800080; text-decoration-color: #800080\">▌ </span><span style=\"color: #808000; text-decoration-color: #808000; font-weight: bold\">   </span><span style=\"color: #800080; text-decoration-color: #800080\">thể cách nhóm các hạng tử để nhận diện hệ số A, B, C, D. Có thể chỉ yêu cầu làm bài tập xác định tâm và bán </span>\n",
       "<span style=\"color: #800080; text-decoration-color: #800080\">▌ </span><span style=\"color: #808000; text-decoration-color: #808000; font-weight: bold\">   </span><span style=\"color: #800080; text-decoration-color: #800080\">kính từ phương trình cho sẵn.                                                                               </span>\n",
       "\n",
       "<span style=\"color: #800080; text-decoration-color: #800080\">▌ </span><span style=\"color: #808000; text-decoration-color: #808000; font-weight: bold\"> • </span><span style=\"color: #800080; text-decoration-color: #800080; font-style: italic\">Thử thách (HS giỏi):</span><span style=\"color: #800080; text-decoration-color: #800080\"> Yêu cầu chứng minh điều kiện để phương trình x^2 + y^2 + z^2 + 2Ax + 2By + 2Cz + D = 0 </span>\n",
       "<span style=\"color: #800080; text-decoration-color: #800080\">▌ </span><span style=\"color: #808000; text-decoration-color: #808000; font-weight: bold\">   </span><span style=\"color: #800080; text-decoration-color: #800080\">là phương trình mặt cầu. Hoặc yêu cầu tìm điều kiện của tham số m để một phương trình cho trước là phương   </span>\n",
       "<span style=\"color: #800080; text-decoration-color: #800080\">▌ </span><span style=\"color: #808000; text-decoration-color: #808000; font-weight: bold\">   </span><span style=\"color: #800080; text-decoration-color: #800080\">trình mặt cầu.                                                                                              </span>\n",
       "\n",
       "<span style=\"font-style: italic\">GV: Giờ đây, chúng ta đã có trong tay cả hai dạng phương trình mặt cầu và biết cách chuyển đổi giữa chúng. Để củng </span>\n",
       "<span style=\"font-style: italic\">cố kiến thức và thấy được ứng dụng của chúng, thầy mời các em cùng vận dụng những gì đã học để giải quyết một số </span>  \n",
       "<span style=\"font-style: italic\">bài toán tổng hợp nhé.</span>                                                                                             \n",
       "\n",
       "                           <span style=\"color: #7f7f7f; text-decoration-color: #7f7f7f; font-weight: bold\">Hoạt động 4: Vận dụng Giải quyết Bài toán Tổng hợp (20 phút)</span>                            \n",
       "\n",
       "<span style=\"font-weight: bold\">Nhiệm vụ:</span> Học sinh làm việc theo nhóm (2-3 người) hoặc cá nhân để giải quyết một bài toán tổng hợp do giáo viên    \n",
       "cung cấp. Bài toán được thiết kế để yêu cầu học sinh vận dụng ít nhất 2-3 kiến thức đã học từ các bài trước (ví dụ:\n",
       "bài toán thực tế về tính toán chi phí xây dựng, bài toán vật lý về chuyển động và lực, hoặc bài toán hóa học về    \n",
       "nồng độ và phản ứng). Học sinh cần trình bày rõ ràng các bước giải và kết quả.                                     \n",
       "\n",
       "<span style=\"color: #800080; text-decoration-color: #800080\">▌ </span><span style=\"color: #800080; text-decoration-color: #800080; font-weight: bold\">Gợi ý Phân hóa:</span><span style=\"color: #800080; text-decoration-color: #800080\">                                                                                                </span>\n",
       "\n",
       "<span style=\"color: #800080; text-decoration-color: #800080\">▌ </span><span style=\"color: #808000; text-decoration-color: #808000; font-weight: bold\"> • </span><span style=\"color: #800080; text-decoration-color: #800080; font-style: italic\">Hỗ trợ (HS yếu):</span><span style=\"color: #800080; text-decoration-color: #800080\"> Cung cấp các gợi ý cụ thể hơn về các công thức cần sử dụng, chia nhỏ bài toán thành các câu</span>\n",
       "<span style=\"color: #800080; text-decoration-color: #800080\">▌ </span><span style=\"color: #808000; text-decoration-color: #808000; font-weight: bold\">   </span><span style=\"color: #800080; text-decoration-color: #800080\">hỏi nhỏ hơn hoặc cho phép sử dụng tài liệu/sách giáo khoa để tra cứu.                                       </span>\n",
       "\n",
       "<span style=\"color: #800080; text-decoration-color: #800080\">▌ </span><span style=\"color: #808000; text-decoration-color: #808000; font-weight: bold\"> • </span><span style=\"color: #800080; text-decoration-color: #800080; font-style: italic\">Thử thách (HS giỏi):</span><span style=\"color: #800080; text-decoration-color: #800080\"> Yêu cầu học sinh tìm thêm một cách giải khác cho bài toán, hoặc tự đặt ra một bài toán </span>\n",
       "<span style=\"color: #800080; text-decoration-color: #800080\">▌ </span><span style=\"color: #808000; text-decoration-color: #808000; font-weight: bold\">   </span><span style=\"color: #800080; text-decoration-color: #800080\">tương tự có độ phức tạp cao hơn và giải quyết nó.                                                           </span>\n",
       "\n",
       "<span style=\"font-style: italic\">GV: Các em đã rất nỗ lực và giải quyết tốt các bài toán vận dụng. Để kết thúc bài học hôm nay một cách hiệu quả, </span>  \n",
       "<span style=\"font-style: italic\">chúng ta hãy cùng nhau nhìn lại những kiến thức trọng tâm và chia sẻ những điều mình tâm đắc nhất nhé.</span>             \n",
       "\n",
       "                               <span style=\"color: #7f7f7f; text-decoration-color: #7f7f7f; font-weight: bold\">Hoạt động 5: Tổng kết và Định hướng Mở rộng (10 phút)</span>                               \n",
       "\n",
       "<span style=\"font-weight: bold\">Nhiệm vụ:</span> Học sinh tự tổng kết 3-5 ý chính của bài học vào vở hoặc phiếu học tập. Sau đó, mỗi học sinh chia sẻ     \n",
       "nhanh 1 điều các em thấy thú vị nhất hoặc 1 câu hỏi còn thắc mắc về bài học.                                       \n",
       "\n",
       "<span style=\"color: #800080; text-decoration-color: #800080\">▌ </span><span style=\"color: #800080; text-decoration-color: #800080; font-weight: bold\">Gợi ý Phân hóa:</span><span style=\"color: #800080; text-decoration-color: #800080\">                                                                                                </span>\n",
       "\n",
       "<span style=\"color: #800080; text-decoration-color: #800080\">▌ </span><span style=\"color: #808000; text-decoration-color: #808000; font-weight: bold\"> • </span><span style=\"color: #800080; text-decoration-color: #800080; font-style: italic\">Hỗ trợ (HS yếu):</span><span style=\"color: #800080; text-decoration-color: #800080\"> Cung cấp các câu hỏi gợi ý cụ thể hơn (ví dụ: 'Hôm nay chúng ta đã học về khái niệm gì?',  </span>\n",
       "<span style=\"color: #800080; text-decoration-color: #800080\">▌ </span><span style=\"color: #808000; text-decoration-color: #808000; font-weight: bold\">   </span><span style=\"color: #800080; text-decoration-color: #800080\">'Các bước thực hiện là gì?') hoặc danh sách từ khóa để các em dễ dàng tổng kết.                             </span>\n",
       "\n",
       "<span style=\"color: #800080; text-decoration-color: #800080\">▌ </span><span style=\"color: #808000; text-decoration-color: #808000; font-weight: bold\"> • </span><span style=\"color: #800080; text-decoration-color: #800080; font-style: italic\">Thử thách (HS giỏi):</span><span style=\"color: #800080; text-decoration-color: #800080\"> Yêu cầu các em liên hệ kiến thức vừa học với các bài học trước đó hoặc đề xuất một vấn </span>\n",
       "<span style=\"color: #800080; text-decoration-color: #800080\">▌ </span><span style=\"color: #808000; text-decoration-color: #808000; font-weight: bold\">   </span><span style=\"color: #800080; text-decoration-color: #800080\">đề thực tế có thể áp dụng kiến thức này để giải quyết.                                                      </span>\n",
       "\n",
       "<span style=\"font-style: italic\">GV: Cảm ơn những chia sẻ rất chân thành của các em. Để giúp các em hệ thống hóa lại toàn bộ kiến thức một cách rõ </span> \n",
       "<span style=\"font-style: italic\">ràng và đầy đủ nhất, thầy sẽ tóm tắt lại những điểm cốt lõi của bài học hôm nay.</span>                                   \n",
       "\n",
       "                                           <span style=\"font-weight: bold\">V. TÓM TẮT KIẾN THỨC CỐT LÕI</span>                                            \n",
       "\n",
       "Chào các em học sinh thân mến!                                                                                     \n",
       "\n",
       "Hôm nay, thầy trò chúng ta cùng nhau tóm tắt lại những kiến thức cốt lõi nhất về <span style=\"font-weight: bold\">Phương trình mặt cầu</span> nhé. Đây là  \n",
       "một chủ đề rất quan trọng trong hình học không gian Oxyz đấy!                                                      \n",
       "\n",
       "Để nắm vững phương trình mặt cầu, các em cần nhớ những điểm chính sau:                                             \n",
       "\n",
       "<span style=\"color: #808000; text-decoration-color: #808000; font-weight: bold\"> • </span><span style=\"font-weight: bold\">1. Các dạng phương trình mặt cầu cơ bản:</span>                                                                        \n",
       "<span style=\"color: #808000; text-decoration-color: #808000; font-weight: bold\">    • </span><span style=\"font-weight: bold\">Dạng chính tắc:</span> Đây là dạng dễ nhận biết nhất, có dạng: <span style=\"font-weight: bold\">(x – a)² + (y – b)² + (z – c)² = R²</span> Từ phương trình  \n",
       "<span style=\"color: #808000; text-decoration-color: #808000; font-weight: bold\">      </span>này, chúng ta dễ dàng xác định được ngay:                                                                    \n",
       "<span style=\"color: #808000; text-decoration-color: #808000; font-weight: bold\">       • </span><span style=\"font-weight: bold\">Tâm I(a; b; c)</span> của mặt cầu.                                                                               \n",
       "<span style=\"color: #808000; text-decoration-color: #808000; font-weight: bold\">       • </span><span style=\"font-weight: bold\">Bán kính R</span> của mặt cầu (là căn bậc hai của vế phải).                                                      \n",
       "<span style=\"color: #808000; text-decoration-color: #808000; font-weight: bold\">       • </span><span style=\"font-style: italic\">Ví dụ:</span> Với phương trình (x – 1/2)² + (y+1)² + z² = 9, tâm là I(1/2; -1; 0) và bán kính R = 3.             \n",
       "<span style=\"color: #808000; text-decoration-color: #808000; font-weight: bold\">    • </span><span style=\"font-weight: bold\">Dạng tổng quát:</span> Phương trình mặt cầu còn có thể xuất hiện dưới dạng khai triển: <span style=\"font-weight: bold\">x² + y² + z² + Ax + By + Cz +</span>\n",
       "<span style=\"color: #808000; text-decoration-color: #808000; font-weight: bold\">      </span><span style=\"font-weight: bold\">D = 0</span> Từ dạng này, chúng ta <span style=\"font-weight: bold\">có thể xác định được tâm và bán kính</span> của mặt cầu bằng cách biến đổi hoặc áp dụng \n",
       "<span style=\"color: #808000; text-decoration-color: #808000; font-weight: bold\">      </span>công thức.                                                                                                   \n",
       "<span style=\"color: #808000; text-decoration-color: #808000; font-weight: bold\">       • </span><span style=\"font-style: italic\">Ví dụ:</span> x² + y² + z² + 4x – 5y + 6z + 25/4 = 0 là một phương trình mặt cầu dạng tổng quát.                 \n",
       "<span style=\"color: #808000; text-decoration-color: #808000; font-weight: bold\"> • </span><span style=\"font-weight: bold\">2. Điều kiện để một phương trình là phương trình mặt cầu:</span>                                                       \n",
       "<span style=\"color: #808000; text-decoration-color: #808000; font-weight: bold\">    • </span>Không phải phương trình nào có dạng tổng quát cũng là mặt cầu đâu nhé! Một phương trình dạng x² + y² + z² +  \n",
       "<span style=\"color: #808000; text-decoration-color: #808000; font-weight: bold\">      </span>Ax + By + Cz + D = 0 chỉ là phương trình mặt cầu khi <span style=\"font-weight: bold\">bán kính R tính được phải là một số dương (R &gt; 0)</span>. Nếu  \n",
       "<span style=\"color: #808000; text-decoration-color: #808000; font-weight: bold\">      </span>R² ≤ 0 thì đó không phải là phương trình mặt cầu.                                                            \n",
       "<span style=\"color: #808000; text-decoration-color: #808000; font-weight: bold\"> • </span><span style=\"font-weight: bold\">3. Cách viết phương trình mặt cầu:</span>                                                                              \n",
       "<span style=\"color: #808000; text-decoration-color: #808000; font-weight: bold\">    • </span>Để viết phương trình mặt cầu, chúng ta cần biết <span style=\"font-weight: bold\">tâm I(a; b; c)</span> và <span style=\"font-weight: bold\">bán kính R</span>. Khi có đủ hai yếu tố này, chúng\n",
       "<span style=\"color: #808000; text-decoration-color: #808000; font-weight: bold\">      </span>ta chỉ việc thay vào dạng chính tắc là xong!                                                                 \n",
       "<span style=\"color: #808000; text-decoration-color: #808000; font-weight: bold\">    • </span><span style=\"font-weight: bold\">Đặc biệt:</span> Bán kính R đôi khi không cho trực tiếp mà được xác định thông qua <span style=\"font-weight: bold\">khoảng cách từ tâm I đến một mặt </span>\n",
       "<span style=\"color: #808000; text-decoration-color: #808000; font-weight: bold\">      </span><span style=\"font-weight: bold\">phẳng (P)</span>.                                                                                                   \n",
       "<span style=\"color: #808000; text-decoration-color: #808000; font-weight: bold\"> • </span><span style=\"font-weight: bold\">4. Công thức tính khoảng cách từ một điểm đến một mặt phẳng:</span>                                                    \n",
       "<span style=\"color: #808000; text-decoration-color: #808000; font-weight: bold\">    • </span>Đây là một công cụ rất hữu ích khi làm việc với mặt cầu. Khoảng cách từ điểm M(x₀; y₀; z₀) đến mặt phẳng (P):\n",
       "<span style=\"color: #808000; text-decoration-color: #808000; font-weight: bold\">      </span>Ax + By + Cz + D = 0 được tính bằng công thức: <span style=\"font-weight: bold\">d(M, (P)) = |Ax₀ + By₀ + Cz₀ + D| / √(A² + B² + C²)</span>           \n",
       "<span style=\"color: #808000; text-decoration-color: #808000; font-weight: bold\">    • </span><span style=\"font-style: italic\">Ví dụ:</span> Khoảng cách từ M(1;2;–1) đến mặt phẳng (P): x + 2y – 2z + 5 = 0 là d(M, (P)) = |1 + 2⋅2 – 2⋅(–1) + 5| \n",
       "<span style=\"color: #808000; text-decoration-color: #808000; font-weight: bold\">      </span>/ √(1²+2²+(–2)²) = 4.                                                                                        \n",
       "<span style=\"color: #808000; text-decoration-color: #808000; font-weight: bold\"> • </span><span style=\"font-weight: bold\">5. Kiểm tra vị trí của một điểm so với mặt cầu:</span>                                                                 \n",
       "<span style=\"color: #808000; text-decoration-color: #808000; font-weight: bold\">    • </span>Để biết một điểm M có thuộc \"vùng phủ sóng\" của một thiết bị (tức là nằm trong hoặc trên mặt cầu) hay không, \n",
       "<span style=\"color: #808000; text-decoration-color: #808000; font-weight: bold\">      </span>chúng ta cần <span style=\"font-weight: bold\">tính khoảng cách từ điểm M đó đến tâm I của mặt cầu</span>, sau đó <span style=\"font-weight: bold\">so sánh với bán kính R</span>.             \n",
       "<span style=\"color: #808000; text-decoration-color: #808000; font-weight: bold\"> • </span><span style=\"font-weight: bold\">6. Ứng dụng của phương trình mặt cầu trong thực tiễn:</span>                                                           \n",
       "<span style=\"color: #808000; text-decoration-color: #808000; font-weight: bold\">    • </span>Tài liệu có đề cập đến \"MỘT SỐ ỨNG DỤNG CỦA PHƯƠNG TRÌNH MẶT CẦU TRONG THỰC TIỄN\" nhưng <span style=\"font-weight: bold\">không cung cấp thông </span>\n",
       "<span style=\"color: #808000; text-decoration-color: #808000; font-weight: bold\">      </span><span style=\"font-weight: bold\">tin chi tiết về các ứng dụng này</span>.                                                                            \n",
       "\n",
       "Các em nhớ ôn tập kỹ những điểm này để làm bài tập thật tốt nhé! Chúc các em học tốt!                              \n",
       "</pre>\n"
      ],
      "text/plain": [
       "Chào các em học sinh thân mến! Hôm nay, với vai trò là một Biên tập viên Sư phạm giàu kinh nghiệm, thầy/cô sẽ trình\n",
       "bày một giáo án hoàn chỉnh về chủ đề \"Phương trình mặt cầu\" dành cho các em học sinh lớp 12. Giáo án này được thiết\n",
       "kế để giúp các em tiếp thu kiến thức một cách chủ động, hứng thú và hiệu quả nhất.                                 \n",
       "\n",
       "\u001b[33m───────────────────────────────────────────────────────────────────────────────────────────────────────────────────\u001b[0m\n",
       "┏━━━━━━━━━━━━━━━━━━━━━━━━━━━━━━━━━━━━━━━━━━━━━━━━━━━━━━━━━━━━━━━━━━━━━━━━━━━━━━━━━━━━━━━━━━━━━━━━━━━━━━━━━━━━━━━━━┓\n",
       "┃                                           \u001b[1mGIÁO ÁN MÔN TOÁN HỌC LỚP 12\u001b[0m                                           ┃\n",
       "┗━━━━━━━━━━━━━━━━━━━━━━━━━━━━━━━━━━━━━━━━━━━━━━━━━━━━━━━━━━━━━━━━━━━━━━━━━━━━━━━━━━━━━━━━━━━━━━━━━━━━━━━━━━━━━━━━━┛\n",
       "\n",
       "\n",
       "                                           \u001b[1;4mCHỦ ĐỀ: PHƯƠNG TRÌNH MẶT CẦU\u001b[0m                                            \n",
       "\n",
       "                                                \u001b[1mI. THÔNG TIN CHUNG\u001b[0m                                                 \n",
       "\n",
       "\u001b[1;33m • \u001b[0m\u001b[1mChủ Đề:\u001b[0m Phương trình mặt cầu                                                                                    \n",
       "\u001b[1;33m • \u001b[0m\u001b[1mMôn Học:\u001b[0m Toán học                                                                                               \n",
       "\u001b[1;33m • \u001b[0m\u001b[1mLớp:\u001b[0m Lớp 12                                                                                                     \n",
       "\u001b[1;33m • \u001b[0m\u001b[1mThời Lượng:\u001b[0m 90 phút                                                                                             \n",
       "\u001b[1;33m • \u001b[0m\u001b[1mPhương Pháp Chủ Đạo:\u001b[0m Dạy học hợp tác (Cooperative Learning)                                                     \n",
       "\u001b[1;33m • \u001b[0m\u001b[1mĐặc Điểm Lớp Học:\u001b[0m Lớp học khá yếu, học sinh thường mất tập trung và cần các hoạt động có tính tương tác cao để  \n",
       "\u001b[1;33m   \u001b[0mduy trì sự chú ý và hứng thú học tập.                                                                           \n",
       "\n",
       "                                               \u001b[1mII. MỤC TIÊU BÀI HỌC\u001b[0m                                                \n",
       "\n",
       "\u001b[1;33m • \u001b[0mHọc sinh có thể Soạn kiến thức về Phương trình mặt cầu.                                                         \n",
       "\u001b[1;33m • \u001b[0mRèn luyện kỹ năng tư duy logic.                                                                                 \n",
       "\u001b[1;33m • \u001b[0mPhát triển kỹ năng hợp tác.                                                                                     \n",
       "\n",
       "                                                   \u001b[1mIII. CHUẨN BỊ\u001b[0m                                                   \n",
       "\n",
       "\u001b[1;33m • \u001b[0m\u001b[1mGiáo Viên:\u001b[0m Bảng phụ, máy chiếu, phiếu học tập                                                                   \n",
       "\u001b[1;33m • \u001b[0m\u001b[1mHọc Sinh:\u001b[0m Sách giáo khoa, vở ghi, dụng cụ học tập                                                               \n",
       "\n",
       "                                              \u001b[1mIV. TIẾN TRÌNH BÀI DẠY\u001b[0m                                               \n",
       "\n",
       "                                 \u001b[1;2mHoạt động 1: Khám phá Khái niệm Mặt cầu (15 phút)\u001b[0m                                 \n",
       "\n",
       "\u001b[1mNhiệm vụ:\u001b[0m Học sinh làm việc theo nhóm (2-3 người). Mỗi nhóm được cung cấp một vật thể hình cầu hoặc được yêu cầu   \n",
       "quan sát các vật thể hình cầu xung quanh. Các nhóm thảo luận để xác định các đặc điểm chung của vật thể, đặc biệt  \n",
       "là mối quan hệ giữa các điểm trên bề mặt và một điểm cố định (tâm). Từ đó, các nhóm cố gắng đưa ra một định nghĩa  \n",
       "sơ bộ về mặt cầu.                                                                                                  \n",
       "\n",
       "\u001b[35m▌ \u001b[0m\u001b[1;35mGợi ý Phân hóa:\u001b[0m\u001b[35m                                                                                                \u001b[0m\n",
       "\n",
       "\u001b[35m▌ \u001b[0m\u001b[1;33m • \u001b[0m\u001b[3;35mHỗ trợ (HS yếu):\u001b[0m\u001b[35m Cung cấp các vật thể hình cầu có kích thước lớn, dễ quan sát. Gợi ý cụ thể hơn bằng cách \u001b[0m\u001b[35m  \u001b[0m\n",
       "\u001b[35m▌ \u001b[0m\u001b[1;33m   \u001b[0m\u001b[35mđặt câu hỏi trực tiếp về tâm và khoảng cách. Có thể cho học sinh dùng thước dây để đo thử khoảng cách từ tâm\u001b[0m\n",
       "\u001b[35m▌ \u001b[0m\u001b[1;33m   \u001b[0m\u001b[35mđến các điểm trên bề mặt.\u001b[0m\u001b[35m                                                                                   \u001b[0m\n",
       "\n",
       "\u001b[35m▌ \u001b[0m\u001b[1;33m • \u001b[0m\u001b[3;35mThử thách (HS giỏi):\u001b[0m\u001b[35m Yêu cầu học sinh suy nghĩ về sự khác biệt giữa mặt cầu và hình cầu. Hoặc đặt câu hỏi về\u001b[0m\n",
       "\u001b[35m▌ \u001b[0m\u001b[1;33m   \u001b[0m\u001b[35mcông thức tính diện tích mặt cầu (nếu đã học) hoặc các ứng dụng phức tạp hơn của mặt cầu trong khoa học.\u001b[0m\u001b[35m    \u001b[0m\n",
       "\n",
       "\u001b[3mGV: Rất tốt! Các nhóm đã đưa ra những định nghĩa sơ bộ rất sát với khái niệm mặt cầu. Để biểu diễn chính xác hơn \u001b[0m  \n",
       "\u001b[3mnhững đặc điểm này trong không gian tọa độ Oxyz, chúng ta sẽ cùng nhau xây dựng và tìm hiểu về phương trình mặt cầu\u001b[0m\n",
       "\u001b[3mdạng chính tắc nhé.\u001b[0m                                                                                                \n",
       "\n",
       "                 \u001b[1;2mHoạt động 2: Xây dựng và Thực hành Phương trình Mặt cầu Dạng Chính tắc (20 phút)\u001b[0m                  \n",
       "\n",
       "\u001b[1mNhiệm vụ:\u001b[0m Học sinh tự xây dựng công thức phương trình mặt cầu dạng chính tắc dựa trên định nghĩa (tâm I(a,b,c), bán\n",
       "kính R). Vận dụng công thức để viết phương trình mặt cầu khi biết tâm và bán kính, và xác định tâm, bán kính từ một\n",
       "phương trình cho trước thông qua 2 bài tập cơ bản.                                                                 \n",
       "\n",
       "\u001b[35m▌ \u001b[0m\u001b[1;35mGợi ý Phân hóa:\u001b[0m\u001b[35m                                                                                                \u001b[0m\n",
       "\n",
       "\u001b[35m▌ \u001b[0m\u001b[1;33m • \u001b[0m\u001b[3;35mHỗ trợ (HS yếu):\u001b[0m\u001b[35m Cung cấp sẵn công thức phương trình mặt cầu và yêu cầu học sinh chỉ cần thay số vào để giải\u001b[0m\n",
       "\u001b[35m▌ \u001b[0m\u001b[1;33m   \u001b[0m\u001b[35mcác bài tập đơn giản (ví dụ: tâm là gốc tọa độ, bán kính là số nguyên nhỏ).\u001b[0m\u001b[35m                                 \u001b[0m\n",
       "\n",
       "\u001b[35m▌ \u001b[0m\u001b[1;33m • \u001b[0m\u001b[3;35mThử thách (HS giỏi):\u001b[0m\u001b[35m Yêu cầu học sinh chứng minh công thức phương trình mặt cầu từ định nghĩa hoặc giải bài \u001b[0m\n",
       "\u001b[35m▌ \u001b[0m\u001b[1;33m   \u001b[0m\u001b[35mtập mở rộng: Viết phương trình mặt cầu có tâm I(1,2,3) và đi qua điểm A(4,5,6).\u001b[0m\u001b[35m                             \u001b[0m\n",
       "\n",
       "\u001b[3mGV: Qua hoạt động vừa rồi, các em đã nắm vững cách viết và xác định các yếu tố của mặt cầu ở dạng chính tắc. Tuy \u001b[0m  \n",
       "\u001b[3mnhiên, trong nhiều bài toán, phương trình mặt cầu lại xuất hiện dưới một dạng khác. Vậy làm thế nào để nhận diện và\u001b[0m\n",
       "\u001b[3mxử lý dạng đó? Chúng ta hãy cùng khám phá hoạt động tiếp theo.\u001b[0m                                                     \n",
       "\n",
       "                 \u001b[1;2mHoạt động 3: Khám phá và Luyện tập Phương trình Mặt cầu Dạng Khai triển (25 phút)\u001b[0m                 \n",
       "\n",
       "\u001b[1mNhiệm vụ:\u001b[0m Học sinh làm việc cá nhân/nhóm nhỏ để: 1. Nhắc lại phương trình mặt cầu dạng chính tắc. 2. Khai triển một\n",
       "phương trình mặt cầu dạng chính tắc cụ thể (ví dụ: (x-1)^2 + (y+2)^2 + (z-3)^2 = 25) để thu được dạng khai triển.  \n",
       "3. Từ kết quả khai triển, nhận diện các hệ số và rút ra công thức tổng quát của phương trình mặt cầu dạng khai     \n",
       "triển: x^2 + y^2 + z^2 + 2Ax + 2By + 2Cz + D = 0. 4. Xác định mối liên hệ giữa tâm I(A; B; C) và bán kính R với các\n",
       "hệ số A, B, C, D. 5. Thực hành 1-2 bài tập cơ bản: a) Cho phương trình dạng khai triển, xác định tâm và bán kính.  \n",
       "b) Cho tâm và bán kính, viết phương trình dạng khai triển.                                                         \n",
       "\n",
       "\u001b[35m▌ \u001b[0m\u001b[1;35mGợi ý Phân hóa:\u001b[0m\u001b[35m                                                                                                \u001b[0m\n",
       "\n",
       "\u001b[35m▌ \u001b[0m\u001b[1;33m • \u001b[0m\u001b[3;35mHỗ trợ (HS yếu):\u001b[0m\u001b[35m Cung cấp sẵn một ví dụ khai triển từng bước hoặc công thức khai triển (a+b)^2. Hướng dẫn cụ\u001b[0m\n",
       "\u001b[35m▌ \u001b[0m\u001b[1;33m   \u001b[0m\u001b[35mthể cách nhóm các hạng tử để nhận diện hệ số A, B, C, D. Có thể chỉ yêu cầu làm bài tập xác định tâm và bán \u001b[0m\n",
       "\u001b[35m▌ \u001b[0m\u001b[1;33m   \u001b[0m\u001b[35mkính từ phương trình cho sẵn.\u001b[0m\u001b[35m                                                                               \u001b[0m\n",
       "\n",
       "\u001b[35m▌ \u001b[0m\u001b[1;33m • \u001b[0m\u001b[3;35mThử thách (HS giỏi):\u001b[0m\u001b[35m Yêu cầu chứng minh điều kiện để phương trình x^2 + y^2 + z^2 + 2Ax + 2By + 2Cz + D = 0 \u001b[0m\n",
       "\u001b[35m▌ \u001b[0m\u001b[1;33m   \u001b[0m\u001b[35mlà phương trình mặt cầu. Hoặc yêu cầu tìm điều kiện của tham số m để một phương trình cho trước là phương \u001b[0m\u001b[35m  \u001b[0m\n",
       "\u001b[35m▌ \u001b[0m\u001b[1;33m   \u001b[0m\u001b[35mtrình mặt cầu.\u001b[0m\u001b[35m                                                                                              \u001b[0m\n",
       "\n",
       "\u001b[3mGV: Giờ đây, chúng ta đã có trong tay cả hai dạng phương trình mặt cầu và biết cách chuyển đổi giữa chúng. Để củng \u001b[0m\n",
       "\u001b[3mcố kiến thức và thấy được ứng dụng của chúng, thầy mời các em cùng vận dụng những gì đã học để giải quyết một số \u001b[0m  \n",
       "\u001b[3mbài toán tổng hợp nhé.\u001b[0m                                                                                             \n",
       "\n",
       "                           \u001b[1;2mHoạt động 4: Vận dụng Giải quyết Bài toán Tổng hợp (20 phút)\u001b[0m                            \n",
       "\n",
       "\u001b[1mNhiệm vụ:\u001b[0m Học sinh làm việc theo nhóm (2-3 người) hoặc cá nhân để giải quyết một bài toán tổng hợp do giáo viên    \n",
       "cung cấp. Bài toán được thiết kế để yêu cầu học sinh vận dụng ít nhất 2-3 kiến thức đã học từ các bài trước (ví dụ:\n",
       "bài toán thực tế về tính toán chi phí xây dựng, bài toán vật lý về chuyển động và lực, hoặc bài toán hóa học về    \n",
       "nồng độ và phản ứng). Học sinh cần trình bày rõ ràng các bước giải và kết quả.                                     \n",
       "\n",
       "\u001b[35m▌ \u001b[0m\u001b[1;35mGợi ý Phân hóa:\u001b[0m\u001b[35m                                                                                                \u001b[0m\n",
       "\n",
       "\u001b[35m▌ \u001b[0m\u001b[1;33m • \u001b[0m\u001b[3;35mHỗ trợ (HS yếu):\u001b[0m\u001b[35m Cung cấp các gợi ý cụ thể hơn về các công thức cần sử dụng, chia nhỏ bài toán thành các câu\u001b[0m\n",
       "\u001b[35m▌ \u001b[0m\u001b[1;33m   \u001b[0m\u001b[35mhỏi nhỏ hơn hoặc cho phép sử dụng tài liệu/sách giáo khoa để tra cứu.\u001b[0m\u001b[35m                                       \u001b[0m\n",
       "\n",
       "\u001b[35m▌ \u001b[0m\u001b[1;33m • \u001b[0m\u001b[3;35mThử thách (HS giỏi):\u001b[0m\u001b[35m Yêu cầu học sinh tìm thêm một cách giải khác cho bài toán, hoặc tự đặt ra một bài toán \u001b[0m\n",
       "\u001b[35m▌ \u001b[0m\u001b[1;33m   \u001b[0m\u001b[35mtương tự có độ phức tạp cao hơn và giải quyết nó.\u001b[0m\u001b[35m                                                           \u001b[0m\n",
       "\n",
       "\u001b[3mGV: Các em đã rất nỗ lực và giải quyết tốt các bài toán vận dụng. Để kết thúc bài học hôm nay một cách hiệu quả, \u001b[0m  \n",
       "\u001b[3mchúng ta hãy cùng nhau nhìn lại những kiến thức trọng tâm và chia sẻ những điều mình tâm đắc nhất nhé.\u001b[0m             \n",
       "\n",
       "                               \u001b[1;2mHoạt động 5: Tổng kết và Định hướng Mở rộng (10 phút)\u001b[0m                               \n",
       "\n",
       "\u001b[1mNhiệm vụ:\u001b[0m Học sinh tự tổng kết 3-5 ý chính của bài học vào vở hoặc phiếu học tập. Sau đó, mỗi học sinh chia sẻ     \n",
       "nhanh 1 điều các em thấy thú vị nhất hoặc 1 câu hỏi còn thắc mắc về bài học.                                       \n",
       "\n",
       "\u001b[35m▌ \u001b[0m\u001b[1;35mGợi ý Phân hóa:\u001b[0m\u001b[35m                                                                                                \u001b[0m\n",
       "\n",
       "\u001b[35m▌ \u001b[0m\u001b[1;33m • \u001b[0m\u001b[3;35mHỗ trợ (HS yếu):\u001b[0m\u001b[35m Cung cấp các câu hỏi gợi ý cụ thể hơn (ví dụ: 'Hôm nay chúng ta đã học về khái niệm gì?', \u001b[0m\u001b[35m \u001b[0m\n",
       "\u001b[35m▌ \u001b[0m\u001b[1;33m   \u001b[0m\u001b[35m'Các bước thực hiện là gì?') hoặc danh sách từ khóa để các em dễ dàng tổng kết.\u001b[0m\u001b[35m                             \u001b[0m\n",
       "\n",
       "\u001b[35m▌ \u001b[0m\u001b[1;33m • \u001b[0m\u001b[3;35mThử thách (HS giỏi):\u001b[0m\u001b[35m Yêu cầu các em liên hệ kiến thức vừa học với các bài học trước đó hoặc đề xuất một vấn \u001b[0m\n",
       "\u001b[35m▌ \u001b[0m\u001b[1;33m   \u001b[0m\u001b[35mđề thực tế có thể áp dụng kiến thức này để giải quyết.\u001b[0m\u001b[35m                                                      \u001b[0m\n",
       "\n",
       "\u001b[3mGV: Cảm ơn những chia sẻ rất chân thành của các em. Để giúp các em hệ thống hóa lại toàn bộ kiến thức một cách rõ \u001b[0m \n",
       "\u001b[3mràng và đầy đủ nhất, thầy sẽ tóm tắt lại những điểm cốt lõi của bài học hôm nay.\u001b[0m                                   \n",
       "\n",
       "                                           \u001b[1mV. TÓM TẮT KIẾN THỨC CỐT LÕI\u001b[0m                                            \n",
       "\n",
       "Chào các em học sinh thân mến!                                                                                     \n",
       "\n",
       "Hôm nay, thầy trò chúng ta cùng nhau tóm tắt lại những kiến thức cốt lõi nhất về \u001b[1mPhương trình mặt cầu\u001b[0m nhé. Đây là  \n",
       "một chủ đề rất quan trọng trong hình học không gian Oxyz đấy!                                                      \n",
       "\n",
       "Để nắm vững phương trình mặt cầu, các em cần nhớ những điểm chính sau:                                             \n",
       "\n",
       "\u001b[1;33m • \u001b[0m\u001b[1m1. Các dạng phương trình mặt cầu cơ bản:\u001b[0m                                                                        \n",
       "\u001b[1;33m   \u001b[0m\u001b[1;33m • \u001b[0m\u001b[1mDạng chính tắc:\u001b[0m Đây là dạng dễ nhận biết nhất, có dạng: \u001b[1m(x – a)² + (y – b)² + (z – c)² = R²\u001b[0m Từ phương trình  \n",
       "\u001b[1;33m   \u001b[0m\u001b[1;33m   \u001b[0mnày, chúng ta dễ dàng xác định được ngay:                                                                    \n",
       "\u001b[1;33m   \u001b[0m\u001b[1;33m   \u001b[0m\u001b[1;33m • \u001b[0m\u001b[1mTâm I(a; b; c)\u001b[0m của mặt cầu.                                                                               \n",
       "\u001b[1;33m   \u001b[0m\u001b[1;33m   \u001b[0m\u001b[1;33m • \u001b[0m\u001b[1mBán kính R\u001b[0m của mặt cầu (là căn bậc hai của vế phải).                                                      \n",
       "\u001b[1;33m   \u001b[0m\u001b[1;33m   \u001b[0m\u001b[1;33m • \u001b[0m\u001b[3mVí dụ:\u001b[0m Với phương trình (x – 1/2)² + (y+1)² + z² = 9, tâm là I(1/2; -1; 0) và bán kính R = 3.             \n",
       "\u001b[1;33m   \u001b[0m\u001b[1;33m • \u001b[0m\u001b[1mDạng tổng quát:\u001b[0m Phương trình mặt cầu còn có thể xuất hiện dưới dạng khai triển: \u001b[1mx² + y² + z² + Ax + By + Cz +\u001b[0m\n",
       "\u001b[1;33m   \u001b[0m\u001b[1;33m   \u001b[0m\u001b[1mD = 0\u001b[0m Từ dạng này, chúng ta \u001b[1mcó thể xác định được tâm và bán kính\u001b[0m của mặt cầu bằng cách biến đổi hoặc áp dụng \n",
       "\u001b[1;33m   \u001b[0m\u001b[1;33m   \u001b[0mcông thức.                                                                                                   \n",
       "\u001b[1;33m   \u001b[0m\u001b[1;33m   \u001b[0m\u001b[1;33m • \u001b[0m\u001b[3mVí dụ:\u001b[0m x² + y² + z² + 4x – 5y + 6z + 25/4 = 0 là một phương trình mặt cầu dạng tổng quát.                 \n",
       "\u001b[1;33m • \u001b[0m\u001b[1m2. Điều kiện để một phương trình là phương trình mặt cầu:\u001b[0m                                                       \n",
       "\u001b[1;33m   \u001b[0m\u001b[1;33m • \u001b[0mKhông phải phương trình nào có dạng tổng quát cũng là mặt cầu đâu nhé! Một phương trình dạng x² + y² + z² +  \n",
       "\u001b[1;33m   \u001b[0m\u001b[1;33m   \u001b[0mAx + By + Cz + D = 0 chỉ là phương trình mặt cầu khi \u001b[1mbán kính R tính được phải là một số dương (R > 0)\u001b[0m. Nếu  \n",
       "\u001b[1;33m   \u001b[0m\u001b[1;33m   \u001b[0mR² ≤ 0 thì đó không phải là phương trình mặt cầu.                                                            \n",
       "\u001b[1;33m • \u001b[0m\u001b[1m3. Cách viết phương trình mặt cầu:\u001b[0m                                                                              \n",
       "\u001b[1;33m   \u001b[0m\u001b[1;33m • \u001b[0mĐể viết phương trình mặt cầu, chúng ta cần biết \u001b[1mtâm I(a; b; c)\u001b[0m và \u001b[1mbán kính R\u001b[0m. Khi có đủ hai yếu tố này, chúng\n",
       "\u001b[1;33m   \u001b[0m\u001b[1;33m   \u001b[0mta chỉ việc thay vào dạng chính tắc là xong!                                                                 \n",
       "\u001b[1;33m   \u001b[0m\u001b[1;33m • \u001b[0m\u001b[1mĐặc biệt:\u001b[0m Bán kính R đôi khi không cho trực tiếp mà được xác định thông qua \u001b[1mkhoảng cách từ tâm I đến một mặt \u001b[0m\n",
       "\u001b[1;33m   \u001b[0m\u001b[1;33m   \u001b[0m\u001b[1mphẳng (P)\u001b[0m.                                                                                                   \n",
       "\u001b[1;33m • \u001b[0m\u001b[1m4. Công thức tính khoảng cách từ một điểm đến một mặt phẳng:\u001b[0m                                                    \n",
       "\u001b[1;33m   \u001b[0m\u001b[1;33m • \u001b[0mĐây là một công cụ rất hữu ích khi làm việc với mặt cầu. Khoảng cách từ điểm M(x₀; y₀; z₀) đến mặt phẳng (P):\n",
       "\u001b[1;33m   \u001b[0m\u001b[1;33m   \u001b[0mAx + By + Cz + D = 0 được tính bằng công thức: \u001b[1md(M, (P)) = |Ax₀ + By₀ + Cz₀ + D| / √(A² + B² + C²)\u001b[0m           \n",
       "\u001b[1;33m   \u001b[0m\u001b[1;33m • \u001b[0m\u001b[3mVí dụ:\u001b[0m Khoảng cách từ M(1;2;–1) đến mặt phẳng (P): x + 2y – 2z + 5 = 0 là d(M, (P)) = |1 + 2⋅2 – 2⋅(–1) + 5| \n",
       "\u001b[1;33m   \u001b[0m\u001b[1;33m   \u001b[0m/ √(1²+2²+(–2)²) = 4.                                                                                        \n",
       "\u001b[1;33m • \u001b[0m\u001b[1m5. Kiểm tra vị trí của một điểm so với mặt cầu:\u001b[0m                                                                 \n",
       "\u001b[1;33m   \u001b[0m\u001b[1;33m • \u001b[0mĐể biết một điểm M có thuộc \"vùng phủ sóng\" của một thiết bị (tức là nằm trong hoặc trên mặt cầu) hay không, \n",
       "\u001b[1;33m   \u001b[0m\u001b[1;33m   \u001b[0mchúng ta cần \u001b[1mtính khoảng cách từ điểm M đó đến tâm I của mặt cầu\u001b[0m, sau đó \u001b[1mso sánh với bán kính R\u001b[0m.             \n",
       "\u001b[1;33m • \u001b[0m\u001b[1m6. Ứng dụng của phương trình mặt cầu trong thực tiễn:\u001b[0m                                                           \n",
       "\u001b[1;33m   \u001b[0m\u001b[1;33m • \u001b[0mTài liệu có đề cập đến \"MỘT SỐ ỨNG DỤNG CỦA PHƯƠNG TRÌNH MẶT CẦU TRONG THỰC TIỄN\" nhưng \u001b[1mkhông cung cấp thông \u001b[0m\n",
       "\u001b[1;33m   \u001b[0m\u001b[1;33m   \u001b[0m\u001b[1mtin chi tiết về các ứng dụng này\u001b[0m.                                                                            \n",
       "\n",
       "Các em nhớ ôn tập kỹ những điểm này để làm bài tập thật tốt nhé! Chúc các em học tốt!                              \n"
      ]
     },
     "metadata": {},
     "output_type": "display_data"
    }
   ],
   "source": [
    "# ==============================================================================\n",
    "# CELL 5.2: KÍCH HOẠT CHẠY THỬ NGHIỆM\n",
    "# ==============================================================================\n",
    "# Yêu cầu để kiểm tra\n",
    "architect_request = \"Soạn giúp tôi giáo án bài 'PHƯƠNG TRÌNH MẶT CẦU' cho học sinh lớp 12 trong 90 phút. Đây là một lớp học khá yếu, các em thường mất tập trung và cần các hoạt động có tính tương tác cao.\"\n",
    "VERBOSE_MODE = True \n",
    "\n",
    "# Chạy quy trình đã được cải cách\n",
    "await run_architect(architect_request)"
   ]
  }
 ],
 "metadata": {
  "kernelspec": {
   "display_name": "plan_venv",
   "language": "python",
   "name": "python3"
  },
  "language_info": {
   "codemirror_mode": {
    "name": "ipython",
    "version": 3
   },
   "file_extension": ".py",
   "mimetype": "text/x-python",
   "name": "python",
   "nbconvert_exporter": "python",
   "pygments_lexer": "ipython3",
   "version": "3.11.8"
  }
 },
 "nbformat": 4,
 "nbformat_minor": 5
}
