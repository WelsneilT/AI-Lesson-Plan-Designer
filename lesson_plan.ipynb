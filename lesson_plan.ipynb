{
 "cells": [
  {
   "cell_type": "markdown",
   "id": "a3bfa357",
   "metadata": {},
   "source": [
    "## PHẦN 1: CÀI ĐẶT, IMPORTS & THIẾT LẬP BAN ĐẦU"
   ]
  },
  {
   "cell_type": "code",
   "execution_count": 1,
   "id": "f1b9d691",
   "metadata": {},
   "outputs": [
    {
     "name": "stderr",
     "output_type": "stream",
     "text": [
      "c:\\Users\\Hi\\Documents\\IAI - UET\\AI-Lesson-Plan-Generator\\plan_venv\\Lib\\site-packages\\IPython\\core\\interactiveshell.py:3699: LangChainDeprecationWarning: As of langchain-core 0.3.0, LangChain uses pydantic v2 internally. The langchain_core.pydantic_v1 module was a compatibility shim for pydantic v1, and should no longer be used. Please update the code to import from Pydantic directly.\n",
      "\n",
      "For example, replace imports like: `from langchain_core.pydantic_v1 import BaseModel`\n",
      "with: `from pydantic import BaseModel`\n",
      "or the v1 compatibility namespace if you are working in a code base that has not been fully upgraded to pydantic 2 yet. \tfrom pydantic.v1 import BaseModel\n",
      "\n",
      "  exec(code_obj, self.user_global_ns, self.user_ns)\n"
     ]
    }
   ],
   "source": [
    "# ==============================================================================\n",
    "# CELL 1.1: CÀI ĐẶT THƯ VIỆN & BIẾN MÔI TRƯỜNG (CẬP NHẬT)\n",
    "# ==============================================================================\n",
    "import os\n",
    "import json\n",
    "import asyncio\n",
    "import operator\n",
    "import time \n",
    "from typing import TypedDict, Annotated, List, Dict, Any, Literal, Optional, Union\n",
    "\n",
    "# Tải các biến môi trường\n",
    "from dotenv import load_dotenv \n",
    "load_dotenv()\n",
    "\n",
    "# LangChain & LangGraph\n",
    "from langchain_core.messages import BaseMessage, HumanMessage\n",
    "from langchain_core.pydantic_v1 import BaseModel, Field\n",
    "# --- NÂNG CẤP: Chuyển sang thư viện Google Generative AI (dành cho AI Studio) ---\n",
    "from langchain_google_genai import ChatGoogleGenerativeAI\n",
    "from langgraph.graph import StateGraph, END\n",
    "from langgraph.graph.message import add_messages\n",
    "\n",
    "# --- NÂNG CẤP: Thêm công cụ tìm kiếm ---\n",
    "from langchain_community.tools.tavily_search import TavilySearchResults\n",
    "\n",
    "# Thư viện hỗ trợ & Kho tri thức\n",
    "from langchain_community.vectorstores import FAISS\n",
    "from langchain_huggingface import HuggingFaceEmbeddings\n",
    "from rich.console import Console\n",
    "from rich.markdown import Markdown\n",
    "from rich.pretty import pprint\n",
    "from IPython.display import Image, display"
   ]
  },
  {
   "cell_type": "code",
   "execution_count": 3,
   "id": "eb563d80",
   "metadata": {},
   "outputs": [],
   "source": [
    "# ==============================================================================\n",
    "# CELL 1.2: CẤU HÌNH LOG & CÁC HÀM IN ẤN\n",
    "# ==============================================================================\n",
    "from langchain_groq import ChatGroq\n",
    "# --- CẤU HÌNH LOG ---\n",
    "VERBOSE_MODE = True\n",
    "\n",
    "# --- KHỞI TẠO CÁC CÔNG CỤ IN ẤN ---\n",
    "console = Console()\n",
    "\n",
    "def print_step(message: str):\n",
    "    if VERBOSE_MODE:\n",
    "        console.print(f\"\\n[bold cyan]>[/bold cyan] {message}\")\n",
    "\n",
    "def print_result(data: Any, title: str = \"Kết quả\"):\n",
    "    if VERBOSE_MODE:\n",
    "        console.print(f\"[bold green]✔️ {title}:[/bold green]\")\n",
    "        pprint(data, expand_all=True)\n",
    "        \n",
    "def print_warning(message: str):\n",
    "    if VERBOSE_MODE:\n",
    "        console.print(f\"[bold yellow]⚠️  {message}[/bold yellow]\")"
   ]
  },
  {
   "cell_type": "code",
   "execution_count": 4,
   "id": "eb8e3f51",
   "metadata": {},
   "outputs": [
    {
     "name": "stdout",
     "output_type": "stream",
     "text": [
      "✅ LLM (Gemini 2.5 Flash từ Google AI Studio) đã được khởi tạo thành công.\n"
     ]
    }
   ],
   "source": [
    "# ==============================================================================\n",
    "# CELL 1.3: KHỞI TẠO LLM (NÂNG CẤP SANG GOOGLE AI STUDIO)\n",
    "# ==============================================================================\n",
    "try:\n",
    "    llm = ChatGoogleGenerativeAI(\n",
    "        model=\"gemini-2.5-flash\", # Sử dụng model mới nhất và mạnh nhất\n",
    "        temperature=0.1,\n",
    "        google_api_key=os.getenv(\"GOOGLE_API_KEY\")\n",
    "    )\n",
    "    print(\"✅ LLM (Gemini 2.5 Flash từ Google AI Studio) đã được khởi tạo thành công.\")\n",
    "except Exception as e:\n",
    "    print(f\"❌ LỖI: Không thể khởi tạo LLM. Hãy chắc chắn bạn đã cài 'langchain-google-genai' và có GOOGLE_API_KEY trong file .env. Lỗi: {e}\")\n",
    "    llm = None"
   ]
  },
  {
   "cell_type": "markdown",
   "id": "3ba01f0c",
   "metadata": {},
   "source": [
    "## PHẦN 2: ĐỊNH NGHĨA STATE CỦA HỆ THỐNG\n"
   ]
  },
  {
   "cell_type": "code",
   "execution_count": 14,
   "id": "9d8894ca",
   "metadata": {},
   "outputs": [
    {
     "name": "stderr",
     "output_type": "stream",
     "text": [
      "c:\\Users\\Hi\\Documents\\IAI - UET\\AI-Lesson-Plan-Generator\\plan_venv\\Lib\\site-packages\\tqdm\\auto.py:21: TqdmWarning: IProgress not found. Please update jupyter and ipywidgets. See https://ipywidgets.readthedocs.io/en/stable/user_install.html\n",
      "  from .autonotebook import tqdm as notebook_tqdm\n"
     ]
    },
    {
     "data": {
      "text/html": [
       "<pre style=\"white-space:pre;overflow-x:auto;line-height:normal;font-family:Menlo,'DejaVu Sans Mono',consolas,'Courier New',monospace\">\n",
       "<span style=\"color: #008080; text-decoration-color: #008080; font-weight: bold\">&gt;</span> Đang tải và hợp nhất các kho tri thức từ <span style=\"color: #008080; text-decoration-color: #008080; font-weight: bold\">2</span> thư mục<span style=\"color: #808000; text-decoration-color: #808000\">...</span>\n",
       "</pre>\n"
      ],
      "text/plain": [
       "\n",
       "\u001b[1;36m>\u001b[0m Đang tải và hợp nhất các kho tri thức từ \u001b[1;36m2\u001b[0m thư mục\u001b[33m...\u001b[0m\n"
      ]
     },
     "metadata": {},
     "output_type": "display_data"
    },
    {
     "name": "stdout",
     "output_type": "stream",
     "text": [
      "✅ Đã tải thành công kho tri thức cơ sở: 'sgk_toan_12_1'\n",
      "✅ Đã hợp nhất thành công: 'sgk_toan_9'\n",
      "\n",
      "[bold green]✔️ Tất cả các kho tri thức RAG đã được tải và hợp nhất thành công.[/bold green]\n"
     ]
    }
   ],
   "source": [
    "# ==============================================================================\n",
    "# CELL 1.4: TẢI KHO TRI THỨC (RAG)\n",
    "# ==============================================================================\n",
    "# --- TẢI KHO TRI THỨC ---\n",
    "BASE_VECTOR_STORE_PATH = \"vector_store\"\n",
    "vector_store = None\n",
    "embeddings = HuggingFaceEmbeddings(model_name=\"all-MiniLM-L6-v2\")\n",
    "\n",
    "if os.path.exists(BASE_VECTOR_STORE_PATH):\n",
    "    subdirectories = [f.path for f in os.scandir(BASE_VECTOR_STORE_PATH) if f.is_dir()]\n",
    "    if not subdirectories:\n",
    "        print(f\"❌ LỖI: Không tìm thấy thư mục con nào trong '{BASE_VECTOR_STORE_PATH}'.\")\n",
    "    else:\n",
    "        try:\n",
    "            print_step(f\"Đang tải và hợp nhất các kho tri thức từ {len(subdirectories)} thư mục...\")\n",
    "            # Tải kho tri thức đầu tiên để làm cơ sở\n",
    "            first_store_path = subdirectories.pop(0)\n",
    "            vector_store = FAISS.load_local(first_store_path, embeddings, allow_dangerous_deserialization=True)\n",
    "            print(f\"✅ Đã tải thành công kho tri thức cơ sở: '{os.path.basename(first_store_path)}'\")\n",
    "\n",
    "            # Hợp nhất các kho tri thức còn lại\n",
    "            for store_path in subdirectories:\n",
    "                if os.path.exists(os.path.join(store_path, \"index.faiss\")):\n",
    "                    temp_store = FAISS.load_local(store_path, embeddings, allow_dangerous_deserialization=True)\n",
    "                    vector_store.merge_from(temp_store)\n",
    "                    print(f\"✅ Đã hợp nhất thành công: '{os.path.basename(store_path)}'\")\n",
    "                else:\n",
    "                    print_warning(f\"Bỏ qua thư mục '{os.path.basename(store_path)}' vì không chứa file index.faiss.\")\n",
    "            \n",
    "            print(\"\\n[bold green]✔️ Tất cả các kho tri thức RAG đã được tải và hợp nhất thành công.[/bold green]\")\n",
    "\n",
    "        except Exception as e:\n",
    "            print(f\"❌ LỖI trong quá trình tải hoặc hợp nhất kho tri thức: {e}\")\n",
    "else:\n",
    "    print(f\"❌ LỖI: Không tìm thấy thư mục gốc của kho tri thức tại '{BASE_VECTOR_STORE_PATH}'.\")\n"
   ]
  },
  {
   "cell_type": "code",
   "execution_count": 15,
   "id": "38cfae91",
   "metadata": {},
   "outputs": [
    {
     "name": "stdout",
     "output_type": "stream",
     "text": [
      "✅ 'TeacherStateV5' (v9.0 - Hỗ trợ Phân hóa & Cấu trúc) đã được định nghĩa.\n"
     ]
    }
   ],
   "source": [
    "# ==============================================================================\n",
    "# CELL 2.1: ĐỊNH NGHĨA STATE NÂNG CAO (v9.0)\n",
    "# ==============================================================================\n",
    "from typing import TypedDict, Annotated, List, Dict, Any, Literal, Optional, Union\n",
    "from langchain_core.messages import BaseMessage\n",
    "from langgraph.graph.message import add_messages\n",
    "import operator\n",
    "\n",
    "# --- Hàm tiện ích (giữ nguyên) ---\n",
    "def merge_dicts(dict1: Dict[str, Any], dict2: Dict[str, Any]) -> Dict[str, Any]:\n",
    "    merged = dict1.copy()\n",
    "    for key, value in dict2.items():\n",
    "        if key in merged and isinstance(merged[key], dict) and isinstance(value, dict):\n",
    "            merged[key] = merge_dicts(merged[key], value)\n",
    "        else:\n",
    "            merged[key] = value\n",
    "    return merged\n",
    "\n",
    "# --- Cấu trúc dữ liệu con (giữ nguyên) ---\n",
    "class DetailedTask(TypedDict):\n",
    "    task_id: int\n",
    "    task_name: str\n",
    "    task_description: str\n",
    "    estimated_duration: int \n",
    "    status: Literal[\"pending\", \"completed\"]\n",
    "\n",
    "# === NÂNG CẤP V9.0: CÁC CẤU TRÚC DỮ LIỆU MỚI CHO TƯ DUY SÂU ===\n",
    "class DifferentiatedInstruction(TypedDict):\n",
    "    \"\"\"Gợi ý cho việc dạy học phân hóa trong một hoạt động.\"\"\"\n",
    "    for_struggling_students: str\n",
    "    for_advanced_students: str\n",
    "\n",
    "class StructuredContentItem(TypedDict):\n",
    "    \"\"\"Định nghĩa một hoạt động hoặc đánh giá có cấu trúc.\"\"\"\n",
    "    task_id: int\n",
    "    activity_name: str\n",
    "    question_or_description: str # Gộp 'question' và 'description'\n",
    "    duration_minutes: int\n",
    "    content_type: str # Gộp 'activity_type' và 'question_type'\n",
    "    teacher_actions: List[str]\n",
    "    solution_guide: Any\n",
    "    answer: Optional[str] # Dành cho câu hỏi đánh giá\n",
    "    differentiation: Optional[DifferentiatedInstruction]\n",
    "\n",
    "class FinalStructuredPlan(TypedDict):\n",
    "    \"\"\"Định nghĩa cấu trúc JSON cho giáo án cuối cùng.\"\"\"\n",
    "    general_info: Dict[str, Any]\n",
    "    learning_objectives: List[str]\n",
    "    preparation: Dict[str, List[str]]\n",
    "    knowledge_summary: str\n",
    "    lesson_flow: List[StructuredContentItem]\n",
    "    # pedagogical_explainer: Dict[str, Any] # Dành cho nâng cấp tương lai\n",
    "\n",
    "# === NÂNG CẤP V9.0: STATE MỚI VỚI CÁC TRƯỜNG TRÍ TUỆ MỚI ===\n",
    "class TeacherStateV5(TypedDict):\n",
    "    # Các trường cơ bản\n",
    "    original_request: str\n",
    "    messages: Annotated[List[BaseMessage], add_messages]\n",
    "    domain: Optional[str]\n",
    "    \n",
    "    # === NÂNG CẤP: student_persona giờ sẽ chứa cả chiến lược phân hóa ===\n",
    "    student_persona: Optional[Dict[str, Any]] \n",
    "    \n",
    "    # Các bước tuần tự ban đầu\n",
    "    analyzed_objective: Optional[Any]\n",
    "    pedagogy_strategy: Optional[Any]\n",
    "    pedagogical_blueprint: Optional[List[str]]\n",
    "\n",
    "    # Các trường nâng cao\n",
    "    expanded_queries: Optional[List[str]]\n",
    "    task_list: Optional[List[DetailedTask]]\n",
    "    current_task_id: Optional[int]\n",
    "    reflection_notes: Optional[str]\n",
    "    agent_outputs: Annotated[Dict[str, Any], merge_dicts] \n",
    "    next_agent: str\n",
    "    \n",
    "    # Các trường tạm thời cho vòng lặp kiểm duyệt vi mô (Micro-loop)\n",
    "    current_content_to_validate: Optional[Dict[str, Any]]\n",
    "    validation_feedback: Optional[str]\n",
    "\n",
    "    # === NÂNG CẤP: Output cuối cùng sẽ có 2 dạng ===\n",
    "    final_structured_plan: Optional[FinalStructuredPlan] # Dạng JSON có cấu trúc\n",
    "    final_markdown_plan: Optional[str] # Dạng Markdown để hiển thị\n",
    "\n",
    "print(\"✅ 'TeacherStateV5' (v9.0 - Hỗ trợ Phân hóa & Cấu trúc) đã được định nghĩa.\")"
   ]
  },
  {
   "cell_type": "code",
   "execution_count": 16,
   "id": "deb1ba5e",
   "metadata": {},
   "outputs": [
    {
     "name": "stdout",
     "output_type": "stream",
     "text": [
      "✅ Node khởi tạo 'initialize_state_node' đã được định nghĩa.\n"
     ]
    }
   ],
   "source": [
    "# ==============================================================================\n",
    "# CELL 2.2: NODE KHỞI TẠO STATE\n",
    "# ==============================================================================\n",
    "def initialize_state_node(state: TeacherStateV5) -> Dict[str, Any]:\n",
    "    \"\"\"\n",
    "    Node đầu tiên trong graph.\n",
    "    Lấy yêu cầu gốc từ tin nhắn đầu vào và điền vào trường 'original_request'.\n",
    "    \"\"\"\n",
    "    print_step(\"`Initializer`: Đang khởi tạo trạng thái và lấy yêu cầu gốc...\")\n",
    "    user_request = state['messages'][-1].content\n",
    "    return {\"original_request\": user_request}\n",
    "\n",
    "print(\"✅ Node khởi tạo 'initialize_state_node' đã được định nghĩa.\")"
   ]
  },
  {
   "cell_type": "markdown",
   "id": "924d794f",
   "metadata": {},
   "source": [
    "## PHẦN 3: ĐỊNH NGHĨA CÁC AGENT"
   ]
  },
  {
   "cell_type": "code",
   "execution_count": 34,
   "id": "8cc95063",
   "metadata": {},
   "outputs": [
    {
     "name": "stdout",
     "output_type": "stream",
     "text": [
      "✅ Các cấu trúc dữ liệu Pydantic (v9.0 - Hỗ trợ Phân hóa) đã được định nghĩa.\n"
     ]
    }
   ],
   "source": [
    "# ==============================================================================\n",
    "# CELL 3.1: HÀM TIỆN ÍCH, PERSONA & CÁC CẤU TRÚC DỮ LIỆU (NÂNG CẤP V9.0)\n",
    "# ==============================================================================\n",
    "import json\n",
    "from langchain_core.pydantic_v1 import BaseModel, Field, schema_json_of\n",
    "from typing import List, Dict, Any, Literal, Optional\n",
    "\n",
    "# --- HÀM TIỆN ÍCH & PERSONA (giữ nguyên) ---\n",
    "def format_solution_guide(guide: Any) -> str:\n",
    "    if not guide: return \"Chưa có hướng dẫn.\"\n",
    "    if isinstance(guide, str): return guide\n",
    "    if isinstance(guide, list): return \"\\n\".join(f\"- {step}\" for step in guide)\n",
    "    if isinstance(guide, dict): return \"\\n\".join(f\"- {key.replace('_', ' ').title()}: {value}\" for key, value in guide.items())\n",
    "    return str(guide)\n",
    "\n",
    "def format_teacher_actions(actions: Optional[List[str]]) -> str:\n",
    "    if not actions: return \"Giáo viên quan sát và hỗ trợ chung.\"\n",
    "    return \"\\n\".join(f\"  - {action}\" for action in actions)\n",
    "\n",
    "def update_agent_outputs(state: \"TeacherStateV5\", key: str, value: Any) -> Dict[str, Any]:\n",
    "    outputs = state.get(\"agent_outputs\", {}).copy()\n",
    "    if key not in outputs: outputs[key] = []\n",
    "    outputs[key].append(value)\n",
    "    return {\"agent_outputs\": outputs}\n",
    "\n",
    "SYSTEM_PERSONA_PROMPT = \"BẠN LÀ MỘT TRỢ LÝ AI CHUYÊN NGHIỆP, ĐÓNG VAI TRÒ MỘT GIÁO VIÊN GIÀU KINH NGHIỆM TẠI VIỆT NAM. LUÔN LUÔN trả lời bằng TIẾNG VIỆT.\"\n",
    "\n",
    "# === NÂNG CẤP V9.0: PYDANTIC MODELS MỚI CHO TƯ DUY SÂU ===\n",
    "\n",
    "class DifferentiatedInstructionModel(BaseModel):\n",
    "    \"\"\"Gợi ý cụ thể cho việc dạy học phân hóa trong một hoạt động.\"\"\"\n",
    "    for_struggling_students: str = Field(description=\"Một gợi ý hoạt động, câu hỏi, hoặc sự hỗ trợ cụ thể cho nhóm học sinh yếu/gặp khó khăn.\")\n",
    "    for_advanced_students: str = Field(description=\"Một câu hỏi mở rộng, một thử thách, hoặc một hoạt động nâng cao cho nhóm học sinh giỏi.\")\n",
    "\n",
    "class LearningActivity(BaseModel):\n",
    "    activity_name: str = Field(description=\"Tên của hoạt động học tập. Ví dụ: 'Thảo luận nhóm về ứng dụng của Tích phân'\")\n",
    "    description: str = Field(description=\"Mô tả chi tiết các bước HỌC SINH cần làm.\")\n",
    "    duration_minutes: int = Field(description=\"Thời gian ước tính (bằng SỐ PHÚT).\")\n",
    "    activity_type: str = Field(description=\"Phân loại hoạt động. Ví dụ: 'Thảo luận nhóm', 'Thực hành cá nhân'\")\n",
    "    teacher_actions: List[str] = Field(description=\"Danh sách các hành động CỤ THỂ của GIÁO VIÊN trong hoạt động này.\")\n",
    "    solution_guide: Optional[Any] = Field(description=\"Hướng dẫn giải hoặc các câu hỏi gợi mở cụ thể cho học sinh.\")\n",
    "    differentiation: Optional[DifferentiatedInstructionModel] = Field(description=\"Gợi ý phân hóa cụ thể cho hoạt động này.\")\n",
    "\n",
    "class AssessmentItem(BaseModel):\n",
    "    activity_name: str = Field(description=\"Tên của hoạt động đánh giá. Ví dụ: 'Thử thách cuối bài'\")\n",
    "    question: str = Field(description=\"Nội dung câu hỏi hoặc đề bài toán cụ thể.\")\n",
    "    question_type: str = Field(description=\"Loại câu hỏi. Ví dụ: 'Tự luận', 'Trắc nghiệm'\")\n",
    "    teacher_actions: List[str] = Field(description=\"Danh sách các hành động CỤ THỂ của GIÁO VIÊN trong hoạt động này.\")\n",
    "    answer: str = Field(description=\"Đáp án chính xác và ngắn gọn.\")\n",
    "    solution_guide: Any = Field(description=\"Hướng dẫn giải chi tiết từng bước.\")\n",
    "    duration_minutes: int = Field(description=\"Thời gian ước tính (bằng SỐ PHÚT).\")\n",
    "    differentiation: Optional[DifferentiatedInstructionModel] = Field(description=\"Gợi ý phân hóa cụ thể cho hoạt động này, ví dụ một câu hỏi phụ khó hơn.\")\n",
    "\n",
    "class StudentPersona(BaseModel):\n",
    "    learning_pace: Literal[\"nhanh\", \"trung bình\", \"chậm\"] = Field(description=\"Tốc độ học tập chung của lớp.\")\n",
    "    engagement_style: Literal[\"chủ động\", \"thụ động\", \"hỗn hợp\"] = Field(description=\"Mức độ tham gia chung của lớp.\")\n",
    "    special_notes: str = Field(description=\"Tóm tắt các đặc điểm nổi bật của lớp học.\")\n",
    "\n",
    "class StudentPersonaAndDifferentiation(StudentPersona):\n",
    "    \"\"\"Mở rộng StudentPersona để bao gồm cả chiến lược phân hóa tổng thể.\"\"\"\n",
    "    differentiation_strategy: DifferentiatedInstructionModel = Field(description=\"Chiến lược dạy học phân hóa tổng thể cho cả bài học dựa trên các đặc điểm của lớp.\")\n",
    "\n",
    "# --- Các model khác giữ nguyên ---\n",
    "class DetailedTaskModel(BaseModel):\n",
    "    task_name: str = Field(description=\"Tên của nhiệm vụ này.\")\n",
    "    task_description: str = Field(description=\"Mô tả chi tiết nhiệm vụ cần thực hiện.\")\n",
    "    estimated_duration: int = Field(description=\"Thời gian ước tính (bằng phút) cho nhiệm vụ này.\")\n",
    "\n",
    "class TaskListWithDuration(BaseModel):\n",
    "    tasks: List[DetailedTaskModel]\n",
    "\n",
    "class DetailedPedagogyChoice(BaseModel):\n",
    "    name: str = Field(description=\"Tên của phương pháp sư phạm được chọn.\")\n",
    "    rationale: str = Field(description=\"Lý do tại sao phương pháp này phù hợp.\")\n",
    "    key_actions: List[str] = Field(description=\"Danh sách các hành động/hoạt động cốt lõi đặc trưng cho phương pháp này.\")\n",
    "\n",
    "class ValidationResult(BaseModel):\n",
    "    is_valid: bool = Field(description=\"Nội dung có hợp lệ và chính xác về mặt chuyên môn không.\")\n",
    "    feedback: str = Field(description=\"Phản hồi chi tiết. Nếu không hợp lệ, hãy giải thích rõ ràng lỗi sai và gợi ý cách sửa.\")\n",
    "\n",
    "class Domain(BaseModel):\n",
    "    domain: str = Field(description=\"Lĩnh vực học thuật chính của yêu cầu.\")\n",
    "\n",
    "class ExpandedQueries(BaseModel): queries: List[str]\n",
    "class BestSnippets(BaseModel): best_snippets: List[str]\n",
    "class ParsedObjective(BaseModel): action_verb: str; bloom_level: int; topic: str; grade_level: str; duration_minutes: Optional[int]\n",
    "class TaskClassification(BaseModel): agent_category: Literal[\"activity_designer\", \"theory_synthesizer\", \"assessment_creator\"]\n",
    "\n",
    "class BlueprintStage(BaseModel):\n",
    "    stage_name: str = Field(description=\"Tên của giai đoạn.\")\n",
    "    stage_objective: str = Field(description=\"Mô tả mục tiêu của giai đoạn này.\")\n",
    "    stage_direction: str = Field(description=\"Định hướng chung về hoạt động trong giai đoạn này.\")\n",
    "\n",
    "class PedagogicalBlueprint(BaseModel):\n",
    "    blueprint: List[BlueprintStage]\n",
    "\n",
    "print(\"✅ Các cấu trúc dữ liệu Pydantic (v9.0 - Hỗ trợ Phân hóa) đã được định nghĩa.\")"
   ]
  },
  {
   "cell_type": "code",
   "execution_count": 35,
   "id": "be758847",
   "metadata": {},
   "outputs": [
    {
     "name": "stdout",
     "output_type": "stream",
     "text": [
      "✅ Các agent phân tích yêu cầu ban đầu (v9.0 - Hỗ trợ Phân hóa) đã sẵn sàng.\n"
     ]
    }
   ],
   "source": [
    "# ==============================================================================\n",
    "# CELL 3.2: AGENT PHÂN TÍCH YÊU CẦU BAN ĐẦU (NÂNG CẤP V9.0)\n",
    "# ==============================================================================\n",
    "async def objective_interpreter_agent(state: \"TeacherStateV5\") -> Dict[str, Any]:\n",
    "    print_step(\"`Agent: Objective Interpreter` (v7.5) đang phân tích mục tiêu...\")\n",
    "    prompt = f\"{SYSTEM_PERSONA_PROMPT}\\n**NHIỆM VỤ:** Đọc yêu cầu của người dùng và trích xuất các thông tin sau.\\n**YÊU CẦU:** \\\"{state['original_request']}\\\"\\n**CÁC TRƯỜNG CẦN TRÍCH XUẤT:** `action_verb`, `bloom_level` (SỐ NGUYÊN), `topic`, `grade_level`, `duration_minutes`.\\n**CHỈ TRẢ VỀ JSON.**\"\n",
    "    structured_llm = llm.with_structured_output(ParsedObjective, method=\"json_mode\")\n",
    "    try:\n",
    "        parsed_result = await structured_llm.ainvoke(prompt)\n",
    "        analyzed_objective_dict = parsed_result.dict()\n",
    "        analyzed_objective_dict['constraints'] = {'duration_minutes': parsed_result.duration_minutes}\n",
    "        del analyzed_objective_dict['duration_minutes']\n",
    "        print_result(analyzed_objective_dict, \"Mục tiêu & Ràng buộc đã phân tích\")\n",
    "        return {\"analyzed_objective\": analyzed_objective_dict}\n",
    "    except Exception as e:\n",
    "        print_warning(f\"Lỗi tại Objective Interpreter: {e}. Sử dụng mục tiêu mặc định.\")\n",
    "        return {\"analyzed_objective\": { \"action_verb\": \"soạn\", \"bloom_level\": 3, \"topic\": state['original_request'], \"grade_level\": \"9\", \"constraints\": {\"duration_minutes\": 90} }}\n",
    "\n",
    "async def domain_classifier_agent(state: \"TeacherStateV5\") -> Dict[str, Any]:\n",
    "    print_step(\"`Agent: Domain Classifier` (v7.5) đang xác định lĩnh vực chuyên môn...\")\n",
    "    prompt = f\"{SYSTEM_PERSONA_PROMPT}\\n**NHIỆM VỤ:** Đọc yêu cầu của người dùng và xác định lĩnh vực học thuật chính.\\n**YÊU CẦU:** \\\"{state['original_request']}\\\"\\n**LĨNH VỰC CÓ THỂ CHỌN:** 'Toán học', 'Vật lý', 'Hóa học', 'Sinh học', 'Văn học', 'Lịch sử', 'Địa lý', 'Ngoại ngữ', 'Tin học'.\\n**YÊU CẦU ĐỊNH DẠNG:** Trả về JSON với key `domain`.\"\n",
    "    structured_llm = llm.with_structured_output(Domain, method=\"json_mode\")\n",
    "    try:\n",
    "        result = await structured_llm.ainvoke(prompt)\n",
    "        print_result(result.domain, \"Lĩnh vực chuyên môn được xác định\")\n",
    "        return {\"domain\": result.domain}\n",
    "    except Exception as e:\n",
    "        print_warning(f\"Lỗi tại Domain Classifier: {e}. Sử dụng lĩnh vực mặc định 'Toán học'.\")\n",
    "        return {\"domain\": \"Toán học\"}\n",
    "\n",
    "# === NÂNG CẤP: Agent này giờ đây là một nhà tư vấn chiến lược ===\n",
    "# === SỬA LỖI PARSING: Prompt được làm rõ ràng hơn về cấu trúc lồng nhau ===\n",
    "async def differentiated_instruction_advisor_agent(state: \"TeacherStateV5\") -> Dict[str, Any]:\n",
    "    print_step(\"`Agent: Differentiated Instruction Advisor` (v9.1) đang phân tích và đề xuất chiến lược phân hóa...\")\n",
    "    prompt = f\"\"\"{SYSTEM_PERSONA_PROMPT}\n",
    "    **VAI TRÒ:** Bạn là một chuyên gia sư phạm, chuyên về dạy học phân hóa.\n",
    "    **NHIỆM VỤ:** Phân tích mô tả về lớp học dưới đây và đề xuất một chiến lược dạy học phân hóa TỔNG THỂ cho cả buổi học.\n",
    "    **YÊU CẦU CỦA GIÁO VIÊN:** \"{state['original_request']}\"\n",
    "    \n",
    "    **CÁC BƯỚC SUY LUẬN (BẮT BUỘC):**\n",
    "    1.  **Phân tích Đặc điểm:** Dựa vào các từ khóa, hãy xác định `learning_pace`, `engagement_style`, và tóm tắt vào `special_notes`.\n",
    "    2.  **Đề xuất Chiến lược Phân hóa:** Dựa trên phân tích trên, hãy điền vào đối tượng `differentiation_strategy`. Đây PHẢI là một đối tượng JSON có 2 trường sau:\n",
    "        -   `for_struggling_students`: Một chiến lược cụ thể để **hỗ trợ** nhóm học sinh có thể gặp khó khăn. (Ví dụ: \"Chia nhỏ nhiệm vụ, cung cấp phiếu bài tập có gợi ý công thức, cho phép thêm thời gian.\")\n",
    "        -   `for_advanced_students`: Một chiến lược cụ thể để **thử thách** nhóm học sinh khá giỏi. (Ví dụ: \"Chuẩn bị các câu hỏi mở rộng 'Tại sao?' và 'Nếu... thì sao?', giao một bài toán ứng dụng thực tế nhỏ.\")\n",
    "\n",
    "    **YÊU CẦU ĐỊNH DẠNG:** BẮT BUỘC trả về một đối tượng JSON duy nhất tuân thủ schema `StudentPersonaAndDifferentiation`. Trường `differentiation_strategy` PHẢI là một object lồng vào bên trong.\n",
    "    \"\"\"\n",
    "    structured_llm = llm.with_structured_output(StudentPersonaAndDifferentiation, method=\"json_mode\")\n",
    "    try:\n",
    "        result = await structured_llm.ainvoke(prompt)\n",
    "        print_result(result.dict(), \"Hồ sơ lớp học và Chiến lược Phân hóa\")\n",
    "        return {\"student_persona\": result.dict()}\n",
    "    except Exception as e:\n",
    "        print_warning(f\"Lỗi tại Differentiated Instruction Advisor: {e}. Sử dụng hồ sơ mặc định.\")\n",
    "        fallback_persona = {\n",
    "            \"learning_pace\": \"trung bình\",\n",
    "            \"engagement_style\": \"hỗn hợp\",\n",
    "            \"special_notes\": \"Không có ghi chú đặc biệt.\",\n",
    "            \"differentiation_strategy\": {\n",
    "                \"for_struggling_students\": \"Quan sát và hỗ trợ thêm khi cần thiết.\",\n",
    "                \"for_advanced_students\": \"Khuyến khích các em tìm tòi thêm.\"\n",
    "            }\n",
    "        }\n",
    "        return {\"student_persona\": fallback_persona}\n",
    "\n",
    "print(\"✅ Các agent phân tích yêu cầu ban đầu (v9.0 - Hỗ trợ Phân hóa) đã sẵn sàng.\")"
   ]
  },
  {
   "cell_type": "code",
   "execution_count": 36,
   "id": "68b5bcd8",
   "metadata": {},
   "outputs": [
    {
     "name": "stdout",
     "output_type": "stream",
     "text": [
      "✅ Các agent lập kế hoạch chiến lược đã sẵn sàng.\n"
     ]
    }
   ],
   "source": [
    "# ==============================================================================\n",
    "# CELL 3.3: AGENT LẬP KẾ HOẠCH CHIẾN LƯỢC (v7.5)\n",
    "# ==============================================================================\n",
    "async def pedagogy_strategist_agent(state: \"TeacherStateV5\") -> Dict[str, Any]:\n",
    "    print_step(\"`Agent: Pedagogy Strategist` (v7.5) đang xây dựng chiến lược sư phạm chi tiết...\")\n",
    "    prompt = f\"\"\"{SYSTEM_PERSONA_PROMPT}\n",
    "    **MỤC TIÊU BÀI HỌC:** {state.get('analyzed_objective')}\n",
    "    **HỒ SƠ LỚP HỌC:** {state.get('student_persona')}\n",
    "    **NHIỆM VỤ:** Dựa vào mục tiêu và hồ sơ lớp học, hãy chọn MỘT phương pháp sư phạm phù hợp nhất. Sau đó, phân tích phương pháp đó thành các hành động cốt lõi.\n",
    "    **VÍ DỤ:** Nếu chọn 'Dạy học theo dự án', key_actions có thể là [\"Giao dự án\", \"Học sinh làm việc nhóm\", \"Báo cáo sản phẩm\"].\n",
    "    **YÊU CẦU ĐỊNH DẠNG:** Trả về JSON với các key `name`, `rationale`, `key_actions`.\n",
    "    \"\"\"\n",
    "    structured_llm = llm.with_structured_output(DetailedPedagogyChoice, method=\"json_mode\")\n",
    "    try:\n",
    "        result = await structured_llm.ainvoke(prompt)\n",
    "        print_result(result.dict(), \"Chiến lược sư phạm chi tiết\")\n",
    "        return {\"pedagogy_strategy\": result.dict()}\n",
    "    except Exception as e:\n",
    "        print_warning(f\"Lỗi tại Pedagogy Strategist: {e}. Sử dụng chiến lược mặc định.\")\n",
    "        return {\"pedagogy_strategy\": {\"name\": \"Dạy học giải quyết vấn đề\", \"rationale\": \"Mặc định do lỗi.\", \"key_actions\": [\"Nêu vấn đề\", \"Học sinh tìm giải pháp\", \"Trình bày kết quả\"]}}\n",
    "\n",
    "async def pedagogical_architect_agent(state: \"TeacherStateV5\") -> Dict[str, Any]:\n",
    "    print_step(\"`Agent: Pedagogical Architect` (v7.5) đang thiết kế kịch bản buổi học...\")\n",
    "    prompt = f\"\"\"{SYSTEM_PERSONA_PROMPT} Với vai trò là một chuyên gia thiết kế trải nghiệm học tập.\n",
    "    **NHIỆM VỤ:** Xây dựng một \"Bản thiết kế Sư phạm\" - một kịch bản CẤP CAO cho buổi học.\n",
    "    **QUY TẮC:**\n",
    "    1.  Tạo ra 3-5 giai đoạn chính cho dòng chảy của buổi học.\n",
    "    2.  Mỗi giai đoạn phải có tên (`stage_name`), mục tiêu (`stage_objective`), và định hướng (`stage_direction`).\n",
    "    3.  Đảm bảo độ khó tăng tiến qua các giai đoạn.\n",
    "    **THÔNG TIN PHÂN TÍCH:**\n",
    "    - Mục tiêu: {state.get('analyzed_objective')}\n",
    "    - Hồ sơ lớp học: {state.get('student_persona')}\n",
    "    - Chiến lược Sư phạm: {state.get('pedagogy_strategy')}\n",
    "    **YÊU CẦU ĐỊNH DẠNG:** Trả về JSON với key là `blueprint`, giá trị là một danh sách các đối tượng Stage.\n",
    "    \"\"\"\n",
    "    structured_llm = llm.with_structured_output(PedagogicalBlueprint, method=\"json_mode\")\n",
    "    try:\n",
    "        result = await structured_llm.ainvoke(prompt)\n",
    "        blueprint_list_of_strings = [f\"{stage.stage_name}: {stage.stage_direction}\" for stage in result.blueprint]\n",
    "        print_result(blueprint_list_of_strings, \"Bản thiết kế Sư phạm đã được tạo\")\n",
    "        return {\"pedagogical_blueprint\": blueprint_list_of_strings}\n",
    "    except Exception as e:\n",
    "        print_warning(f\"Lỗi tại Pedagogical Architect: {e}. Sử dụng blueprint mặc định.\")\n",
    "        return {\"pedagogical_blueprint\": [\"Giai đoạn 1: Giới thiệu bài học\", \"Giai đoạn 2: Luyện tập\", \"Giai đoạn 3: Đánh giá\"]}\n",
    "\n",
    "print(\"✅ Các agent lập kế hoạch chiến lược đã sẵn sàng.\")"
   ]
  },
  {
   "cell_type": "code",
   "execution_count": 37,
   "id": "220113cd",
   "metadata": {},
   "outputs": [
    {
     "name": "stdout",
     "output_type": "stream",
     "text": [
      "✅ Các agent RAG đã sẵn sàng.\n"
     ]
    }
   ],
   "source": [
    "# ==============================================================================\n",
    "# CELL 3.4: AGENT TRUY XUẤT VÀ TỔNG HỢP KIẾN THỨC (RAG) (v7.5)\n",
    "# ==============================================================================\n",
    "async def query_expansion_agent(state: \"TeacherStateV5\") -> Dict[str, Any]:\n",
    "    print_step(\"`Agent: Query Expansion` (v7.5) đang phân tích yêu cầu...\")\n",
    "    prompt = f\"{SYSTEM_PERSONA_PROMPT}\\n**NHIỆM VỤ:** Tạo ra các cụm từ tìm kiếm đa dạng bằng tiếng Việt để tìm tài liệu.\\n**CHỦ ĐỀ:** \\\"{state.get('analyzed_objective', {}).get('topic', '')}\\\"\\n**LĨNH VỰC:** {state.get('domain', 'Chung')}\\n**YÊU CẦU ĐỊNH DẠNG:** Trả về JSON với key `queries`.\"\n",
    "    structured_llm = llm.with_structured_output(ExpandedQueries, method=\"json_mode\")\n",
    "    try:\n",
    "        response = await structured_llm.ainvoke(prompt)\n",
    "        print_result(response.queries, \"Các truy vấn tìm kiếm đã được mở rộng\")\n",
    "        return {\"expanded_queries\": response.queries}\n",
    "    except Exception as e:\n",
    "        print_warning(f\"Lỗi tại Query Expansion: {e}. Sử dụng truy vấn gốc.\")\n",
    "        return {\"expanded_queries\": [state.get('analyzed_objective', {}).get('topic', '')]}\n",
    "\n",
    "async def resource_scout_agent_v2(state: \"TeacherStateV5\") -> Dict[str, Any]:\n",
    "    print_step(\"`Agent: Resource Scout` (v8.1 - Sửa lỗi) đang tìm kiếm và sàng lọc...\")\n",
    "    retriever = vector_store.as_retriever(search_kwargs={\"k\": 5})\n",
    "    all_docs = []\n",
    "    queries = state.get('expanded_queries', [state.get('analyzed_objective', {}).get('topic', '')])\n",
    "    for query in queries:\n",
    "        all_docs.extend(retriever.invoke(query))\n",
    "    unique_docs_content = list({doc.page_content for doc in all_docs})[:8]\n",
    "    print_step(f\"Tìm thấy {len(all_docs)} tài liệu, sàng lọc còn {len(unique_docs_content)} đoạn văn bản độc nhất.\")\n",
    "    \n",
    "    # --- Phần Re-ranker giữ nguyên ---\n",
    "    rerank_prompt = f\"{SYSTEM_PERSONA_PROMPT}\\n**NHIỆM VỤ:** Đọc yêu cầu gốc và chọn ra 3-4 đoạn văn bản tiếng Việt phù hợp NHẤT từ danh sách dưới đây.\\n**YÊU CẦU GỐC:** \\\"{state.get('original_request', '')}\\\"\\n**DANH SÁCH TÀI LIỆU:** {json.dumps(unique_docs_content, ensure_ascii=False)}\\n**YÊU CẦU ĐỊNH DẠNG:** Trả về JSON với key `best_snippets`.\"\n",
    "    structured_llm_reranker = llm.with_structured_output(BestSnippets, method=\"json_mode\")\n",
    "    best_snippets_text = \"\\n\\n---\\n\\n\".join(unique_docs_content)\n",
    "    try:\n",
    "        reranked_result = await structured_llm_reranker.ainvoke(rerank_prompt)\n",
    "        best_snippets_text = \"\\n\\n---\\n\\n\".join(reranked_result.best_snippets)\n",
    "    except Exception as e:\n",
    "        print_warning(f\"Lỗi tại Re-ranker: {e}. Sử dụng tất cả tài liệu.\")\n",
    "\n",
    "    # === ĐẠI TU PROMPT TÓM TẮT ===\n",
    "    summary_prompt = f\"\"\"{SYSTEM_PERSONA_PROMPT}\n",
    "    **VAI TRÒ:** Bạn là một chuyên gia tổng hợp thông tin.\n",
    "    **NHIỆM VỤ DUY NHẤT:** Dựa **CHỈ** vào các đoạn văn bản dưới đây, hãy viết một bản **TÓM TẮT KIẾN THỨC CỐT LÕI** về chủ đề \"{state.get('analyzed_objective', {}).get('topic', '')}\".\n",
    "\n",
    "    **QUY TẮC TUYỆT ĐỐI:**\n",
    "    1.  **CHỈ DÙNG THÔNG TIN ĐƯỢC CUNG CẤP:** Tuyệt đối không được bình luận về chất lượng của các đoạn văn bản. Không được \"từ chối\" tóm tắt.\n",
    "    2.  **TỔNG HỢP & SUY LUẬN:** Nhiệm vụ của bạn là đọc tất cả các mẩu thông tin (kể cả từ các bài tập) và suy luận ra các định nghĩa, tính chất cốt lõi nhất.\n",
    "    3.  **CẤU TRÚC RÕ RÀNG:** Trình bày bản tóm tắt một cách mạch lạc, có đầu mục rõ ràng (ví dụ: 1. Định nghĩa, 2. Tính chất...).\n",
    "    4.  **TRẢ VỀ TÓM TẮT:** Luôn luôn trả về một bản tóm tắt, ngay cả khi nó ngắn gọn do thông tin hạn chế.\n",
    "\n",
    "    **CÁC ĐOẠN VĂN BẢN ĐỂ TÓM TẮT:**\n",
    "    {best_snippets_text}\n",
    "    \"\"\"\n",
    "    summary = \"Chưa có bản tóm tắt kiến thức.\"\n",
    "    try:\n",
    "        summary_response = await llm.ainvoke(summary_prompt)\n",
    "        summary = summary_response.content\n",
    "    except Exception as e:\n",
    "        print_warning(f\"Lỗi tại bước tóm tắt: {e}.\")\n",
    "        \n",
    "    resource = {\"source\": \"Sách giáo khoa (từ RAG - đã sàng lọc)\", \"summary\": summary}\n",
    "    print_result(resource, \"Tài liệu RAG cuối cùng\")\n",
    "    return update_agent_outputs(state, \"resources\", resource)\n",
    "\n",
    "print(\"✅ Các agent RAG đã sẵn sàng.\")"
   ]
  },
  {
   "cell_type": "code",
   "execution_count": 38,
   "id": "6eac918a",
   "metadata": {},
   "outputs": [
    {
     "name": "stdout",
     "output_type": "stream",
     "text": [
      "✅ Agent phản biện nội dung 'content_validator_agent' đã được định nghĩa.\n",
      "✅ Các agent giao việc và chuyên môn (v9.0 - Hỗ trợ Phân hóa) đã sẵn sàng.\n"
     ]
    }
   ],
   "source": [
    "# ==============================================================================\n",
    "# CELL 3.5: AGENT GIAO VIỆC VÀ CÁC AGENT CHUYÊN MÔN (NÂNG CẤP V9.0)\n",
    "# ==============================================================================\n",
    "async def plan_delegator_agent(state: \"TeacherStateV5\") -> Dict[str, Any]:\n",
    "    print_step(\"`Agent: Plan Delegator` (v8.2 - Siêu cụ thể) đang triển khai Bản thiết kế...\")\n",
    "    \n",
    "    blueprint = state.get('pedagogical_blueprint', [])\n",
    "    topic = state.get('analyzed_objective', {}).get('topic', 'chủ đề đã cho')\n",
    "    \n",
    "    prompt = f\"\"\"{SYSTEM_PERSONA_PROMPT}\n",
    "    **VAI TRÒ:** Bạn là một **Trợ lý Sư phạm**, chuyên viên thực thi kế hoạch.\n",
    "    **NHIỆM VỤ DUY NHẤT:** Dựa vào **Bản thiết kế Sư phạm** dưới đây, hãy **chuyển đổi (convert)** nó thành một danh sách các **NHIỆM VỤ HỌC TẬP CỤ THỂ** về chủ đề \"{topic}\".\n",
    "    **BẢN THIẾT KẾ SƯ PHẠM (KỊCH BẢN BUỔI HỌC CẦN TUÂN THỦ):**\n",
    "    {json.dumps(blueprint, ensure_ascii=False, indent=2)}\n",
    "    **QUY TẮC TUYỆT ĐỐI:**\n",
    "    1.  **BÁM SÁT KỊCH BẢN 1:1:** Mỗi giai đoạn trong bản thiết kế PHẢI được chuyển đổi thành ít nhất MỘT nhiệm vụ học tập tương ứng. Giữ nguyên tinh thần của từng giai đoạn.\n",
    "    2.  **TẬP TRUNG VÀO NỘI DUNG MÔN HỌC:** Các nhiệm vụ phải xoay quanh việc học về \"{topic}\".\n",
    "    3.  **HÀNH ĐỘNG CỤ THỂ:** Mô tả hành động học sinh sẽ làm liên quan đến môn học. Ví dụ: \"Học sinh chứng minh định lý...\", \"Học sinh thảo luận về ứng dụng của...\". CẤM các từ ngữ chung chung như \"Tiếp thu kiến thức\", \"Vận dụng\".\n",
    "    4.  **Phân bổ Thời gian:** Chia tổng thời lượng {state.get('analyzed_objective', {}).get('constraints', {}).get('duration_minutes', 90)} phút một cách hợp lý.\n",
    "    5.  **RÀ SOÁT VÀ TỐI ƯU HÓA:** Sau khi tạo danh sách, hãy tự rà soát. Nếu có hai nhiệm vụ liên tiếp có mục tiêu rất giống nhau, hãy gộp chúng thành một.\n",
    "    **YÊU CẦU ĐỊNH DẠNG:** BẮT BUỘC trả về JSON tuân thủ schema `TaskListWithDuration`.\n",
    "    \"\"\"\n",
    "    \n",
    "    structured_llm = llm.with_structured_output(TaskListWithDuration, method=\"json_mode\")\n",
    "    \n",
    "    try:\n",
    "        task_list_result = await structured_llm.ainvoke(prompt)\n",
    "        tasks_with_status = [{\"task_id\": i, **t.dict(), \"status\": \"pending\"} for i, t in enumerate(task_list_result.tasks) if t]\n",
    "        print_result(tasks_with_status, f\"Đã tạo {len(tasks_with_status)} nhiệm vụ chi tiết\")\n",
    "        new_agent_outputs = {\"resources\": state.get(\"agent_outputs\", {}).get(\"resources\", [])}\n",
    "        return {\"task_list\": tasks_with_status, \"reflection_notes\": None, \"agent_outputs\": new_agent_outputs}\n",
    "    \n",
    "    except Exception as e:\n",
    "        print_warning(f\"Lỗi tại Plan Delegator: {e}. Tạo task mặc định.\")\n",
    "        topic_fallback = state.get('analyzed_objective', {}).get('topic', state.get('original_request', 'chủ đề đã cho'))\n",
    "        fallback_task = {\n",
    "            \"task_id\": 0, \"task_name\": f\"Hoạt động luyện tập về {topic_fallback}\",\n",
    "            \"task_description\": f\"Học sinh thực hành các bài tập cơ bản liên quan đến chủ đề: {topic_fallback}.\",\n",
    "            \"estimated_duration\": 45, \"status\": \"pending\"\n",
    "        }\n",
    "        return {\"task_list\": [fallback_task], \"reflection_notes\": None, \"agent_outputs\": state.get(\"agent_outputs\", {})}\n",
    "\n",
    "async def content_validator_agent(state: \"TeacherStateV5\") -> Dict[str, Any]:\n",
    "    print_step(f\"`Agent: Contextual Critic` (v7.5) đang phản biện nội dung...\")\n",
    "    content = state.get('current_content_to_validate')\n",
    "    if not content or content.get(\"error\"):\n",
    "        print_warning(\"Bỏ qua phản biện do lỗi ở bước tạo nội dung.\")\n",
    "        return {\"validation_feedback\": \"Lỗi tạo nội dung, không thể phản biện.\", \"current_content_to_validate\": content}\n",
    "    \n",
    "    prompt = f\"\"\"BẠN LÀ MỘT GIÁO VIÊN LỚP {state.get('analyzed_objective', {}).get('grade_level', '9')} CỰC KỲ KINH NGHIỆM VÀ CẨN THẬN, VỚI CHUYÊN MÔN SÂU VỀ **{state.get('domain', 'Toán học')}**.\n",
    "    **BỐI CẢNH:** Buổi học hôm nay có chủ đề chính là **\"{state.get('analyzed_objective', {}).get('topic', '')}\"**.\n",
    "    **NHIỆM VỤ:** Hãy xem xét nội dung được tạo ra cho một hoạt động trong giáo án.\n",
    "    **NỘI DUNG CẦN XEM XÉT:**\n",
    "    ```json\n",
    "    {json.dumps(content, ensure_ascii=False, indent=2)}\n",
    "    ```\n",
    "    **TIÊU CHÍ PHẢN BIỆN (THEO THỨ TỰ ƯU TIÊN):**\n",
    "    1.  **Tính liên quan:** Nội dung này có liên quan trực tiếp đến chủ đề chính của bài học không?\n",
    "    2.  **Tính chính xác chuyên môn:** Nội dung có sai sót nào về kiến thức, công thức, logic không?\n",
    "    3.  **Tính phù hợp lứa tuổi:** Nội dung có quá khó hoặc quá dễ so với học sinh không?\n",
    "    **YÊU CẦU ĐỊNH DẠNG:** Trả về JSON với 2 key `is_valid` (boolean) và `feedback` (string).\n",
    "    \"\"\"\n",
    "    structured_llm = llm.with_structured_output(ValidationResult, method=\"json_mode\")\n",
    "    try:\n",
    "        result = await structured_llm.ainvoke(prompt)\n",
    "        if not result.is_valid:\n",
    "            print_warning(f\"PHẢN BIỆN: {result.feedback}\")\n",
    "            return {\"validation_feedback\": result.feedback, \"current_content_to_validate\": content}\n",
    "        else:\n",
    "            print_step(\"✔️ CHUYÊN GIA PHẢN BIỆN: Nội dung hợp lệ!\")\n",
    "            return {\"validation_feedback\": None, \"current_content_to_validate\": content}\n",
    "    except Exception as e:\n",
    "        print_warning(f\"Lỗi tại Content Validator: {e}. Mặc định cho qua.\")\n",
    "        return {\"validation_feedback\": None, \"current_content_to_validate\": content}\n",
    "\n",
    "print(\"✅ Agent phản biện nội dung 'content_validator_agent' đã được định nghĩa.\")\n",
    "\n",
    "# === NÂNG CẤP: Logic của agent chuyên môn giờ đây phải suy nghĩ về phân hóa ===\n",
    "async def specialist_agent_logic(state: \"TeacherStateV5\", agent_type: str, pydantic_model: type[BaseModel]) -> Dict[str, Any]:\n",
    "    print_step(f\"`Agent: {agent_type}` (v9.0) đang tạo nội dung chi tiết và gợi ý phân hóa...\")\n",
    "    task_to_run = next((t for t in state.get('task_list', []) if t['task_id'] == state.get('current_task_id')), None)\n",
    "    if not task_to_run: return {\"current_content_to_validate\": {\"error\": \"Không tìm thấy task hiện tại.\"}, \"validation_feedback\": None}\n",
    "\n",
    "    feedback_prompt = f\"**PHẢN HỒI TỪ LẦN TRƯỚC (CẦN SỬA):** \\\"{state.get('validation_feedback', '')}\\\".\" if state.get('validation_feedback') else \"\"\n",
    "    \n",
    "    # Lấy chiến lược phân hóa tổng thể từ state\n",
    "    differentiation_strategy = state.get('student_persona', {}).get('differentiation_strategy', {})\n",
    "\n",
    "    prompt = f\"\"\"{SYSTEM_PERSONA_PROMPT}\n",
    "    **VAI TRÒ:** Bạn là một nhà thiết kế hoạt động học tập sáng tạo và chu đáo.\n",
    "    **NHIỆM VỤ:** Tạo ra **MỘT HOẠT ĐỘNG DUY NHẤT**, có tính đến sự đa dạng của học sinh trong lớp.\n",
    "\n",
    "    **BỐI CẢNH BÀI HỌC:**\n",
    "    - **Chủ đề chính:** {state.get('analyzed_objective', {}).get('topic', '')}\n",
    "    - **Chiến lược phân hóa chung của bài:** {json.dumps(differentiation_strategy, ensure_ascii=False)}\n",
    "    \n",
    "    **MÔ TẢ NHIỆM VỤ CẦN THỰC THI:**\n",
    "    - **Tên nhiệm vụ:** \"{task_to_run.get('task_name', '')}\"\n",
    "    - **Mô tả chi tiết:** \"{task_to_run.get('task_description', '')}\"\n",
    "    \n",
    "    {feedback_prompt}\n",
    "    \n",
    "    **QUY TẮC TUYỆT ĐỐI:**\n",
    "    1.  **TẠO NỘI DUNG CỤ THỂ:** Đưa ra câu hỏi, đề bài toán, các bước thực hành rõ ràng.\n",
    "    2.  **MÔ TẢ HÀNH ĐỘNG CỦA GIÁO VIÊN:** Liệt kê các hành động cụ thể.\n",
    "    3.  **SUY NGHĨ VỀ PHÂN HÓA (RẤT QUAN TRỌNG):** Dựa vào \"Chiến lược phân hóa chung\", hãy tạo ra các gợi ý phân hóa (`differentiation`) **cụ thể cho hoạt động này**. Ví dụ: Nếu chiến lược chung là \"cung cấp gợi ý\", thì gợi ý cụ thể ở đây là gì?\n",
    "    4.  **TUÂN THỦ SCHEMA:** Chỉ trả về một đối tượng JSON duy nhất theo đúng cấu trúc.\n",
    "    ```json\n",
    "    {schema_json_of(pydantic_model, indent=2)}\n",
    "    ```\n",
    "    \"\"\"\n",
    "    structured_llm = llm.with_structured_output(pydantic_model, method=\"json_mode\")\n",
    "    try:\n",
    "        result = await structured_llm.ainvoke(prompt)\n",
    "        content_dict = result.dict()\n",
    "        content_dict['duration_minutes'] = task_to_run.get('estimated_duration', 10)\n",
    "        print_result(content_dict, f\"Nội dung do {agent_type} tạo ra (có phân hóa)\")\n",
    "        return {\"current_content_to_validate\": content_dict, \"validation_feedback\": None}\n",
    "    except Exception as e:\n",
    "        print_warning(f\"Lỗi tại {agent_type}: {e}. Trả về nội dung mặc định.\")\n",
    "        return {\"current_content_to_validate\": {\"error\": str(e)}, \"validation_feedback\": None}\n",
    "\n",
    "\n",
    "async def theory_synthesizer_agent(state: \"TeacherStateV5\"): return await specialist_agent_logic(state, \"Theory Synthesizer\", LearningActivity)\n",
    "async def activity_designer_agent(state: \"TeacherStateV5\"): return await specialist_agent_logic(state, \"Activity Designer\", LearningActivity)\n",
    "async def assessment_creator_agent(state: \"TeacherStateV5\"): return await specialist_agent_logic(state, \"Assessment Creator\", AssessmentItem)\n",
    "\n",
    "print(\"✅ Các agent giao việc và chuyên môn (v9.0 - Hỗ trợ Phân hóa) đã sẵn sàng.\")"
   ]
  },
  {
   "cell_type": "code",
   "execution_count": 39,
   "id": "f509f0a6",
   "metadata": {},
   "outputs": [
    {
     "name": "stdout",
     "output_type": "stream",
     "text": [
      "✅ Agent tổng hợp cấu trúc & Node trình bày Markdown (v9.0) đã sẵn sàng.\n"
     ]
    }
   ],
   "source": [
    "# ==============================================================================\n",
    "# CELL 3.6: AGENT TỔNG HỢP CÓ CẤU TRÚC & NODE TRÌNH BÀY (NÂNG CẤP V9.0)\n",
    "# ==============================================================================\n",
    "# Nâng cấp 1: Agent này giờ chỉ tạo đối tượng JSON có cấu trúc\n",
    "async def structured_plan_compiler_agent(state: \"TeacherStateV5\") -> Dict[str, Any]:\n",
    "    print_step(\"`Agent: Structured Plan Compiler` (v9.0) đang tổng hợp giáo án có cấu trúc...\")\n",
    "    outputs = state.get('agent_outputs', {})\n",
    "    objective = state.get('analyzed_objective', {})\n",
    "    \n",
    "    # Kiểm tra điều kiện hợp lệ (giữ nguyên)\n",
    "    activities = outputs.get('activities', [])\n",
    "    assessments = outputs.get('assessments', [])\n",
    "    all_content_items = activities + assessments\n",
    "    total_duration = sum(item.get('duration_minutes', 0) for item in all_content_items)\n",
    "    allowed_duration = objective.get('constraints', {}).get('duration_minutes', 90)\n",
    "    if not all_content_items or not ((allowed_duration * 0.85) <= total_duration <= (allowed_duration + 10)):\n",
    "        reflection = f\"Kế hoạch thất bại. Tổng thời gian ({total_duration} phút) không hợp lệ hoặc số lượng hoạt động quá ít. Lập kế hoạch lại.\"\n",
    "        print_warning(f\"CRITIC: {reflection}\")\n",
    "        return {\"reflection_notes\": reflection}\n",
    "\n",
    "    print_step(\"CRITIC: Kế hoạch hợp lệ! Bắt đầu tổng hợp giáo án dạng JSON...\")\n",
    "    \n",
    "    # Tổ chức dữ liệu từ state\n",
    "    persona = state.get('student_persona', {})\n",
    "    strategy = state.get('pedagogy_strategy', {})\n",
    "    resources = state.get('agent_outputs', {}).get('resources', [{}])[0]\n",
    "\n",
    "    general_info = {\n",
    "        \"chủ đề\": objective.get('topic', 'N/A'),\n",
    "        \"môn học\": state.get('domain', 'N/A'),\n",
    "        \"lớp\": objective.get('grade_level', 'N/A'),\n",
    "        \"thời lượng\": f\"{allowed_duration} phút\",\n",
    "        \"phương pháp chủ đạo\": strategy.get('name', 'Chưa xác định'),\n",
    "        \"đặc điểm lớp học\": persona.get('special_notes', 'Tiêu chuẩn'),\n",
    "    }\n",
    "\n",
    "    learning_objectives = [\n",
    "        f\"Học sinh có thể {objective.get('action_verb', 'vận dụng')} kiến thức về {objective.get('topic', 'N/A')}.\",\n",
    "        \"Rèn luyện kỹ năng tư duy logic và giải quyết vấn đề.\",\n",
    "        \"Phát triển kỹ năng hợp tác và trình bày.\"\n",
    "    ]\n",
    "\n",
    "    preparation = {\n",
    "        \"giáo viên\": [\"Bảng phụ\", \"máy chiếu\", \"phiếu học tập (nếu có trong hoạt động)\"],\n",
    "        \"học sinh\": [\"Sách giáo khoa\", \"vở ghi\", \"dụng cụ học tập\"]\n",
    "    }\n",
    "    \n",
    "    # Sắp xếp các hoạt động\n",
    "    all_content_sorted = sorted(all_content_items, key=lambda x: x.get('task_id', float('inf')))\n",
    "\n",
    "    # Xây dựng đối tượng JSON cuối cùng theo schema FinalStructuredPlan\n",
    "    final_plan_obj: FinalStructuredPlan = {\n",
    "        \"general_info\": general_info,\n",
    "        \"learning_objectives\": learning_objectives,\n",
    "        \"preparation\": preparation,\n",
    "        \"knowledge_summary\": resources.get('summary', 'Chưa có tóm tắt.'),\n",
    "        \"lesson_flow\": all_content_sorted,\n",
    "    }\n",
    "\n",
    "    return {\"final_structured_plan\": final_plan_obj, \"reflection_notes\": None}\n",
    "\n",
    "# Nâng cấp 2: Thêm Node mới chỉ để tạo Markdown từ JSON\n",
    "def markdown_presentation_node(state: \"TeacherStateV5\") -> Dict[str, str]:\n",
    "    print_step(\"`Node: Markdown Presenter` (v9.0) đang tạo bản trình bày Markdown...\")\n",
    "    \n",
    "    plan_json = state.get(\"final_structured_plan\")\n",
    "    if not isinstance(plan_json, dict):\n",
    "        return {\"final_markdown_plan\": \"Lỗi: Không tìm thấy giáo án có cấu trúc để tạo Markdown.\"}\n",
    "\n",
    "    # Dùng Python f-string để \"dịch\" JSON thành Markdown\n",
    "    md_parts = []\n",
    "    \n",
    "    # Phần I: Thông tin chung\n",
    "    info = plan_json['general_info']\n",
    "    md_parts.append(f\"# GIÁO ÁN BÀI DẠY: {info.get('chủ đề').upper()}\")\n",
    "    md_parts.append(\"---\")\n",
    "    md_parts.append(\"## I. THÔNG TIN CHUNG\")\n",
    "    for key, value in info.items():\n",
    "        md_parts.append(f\"- **{key.replace('_', ' ').title()}:** {value}\")\n",
    "    \n",
    "    # Phần II: Mục tiêu\n",
    "    md_parts.append(\"## II. MỤC TIÊU BÀI HỌC\")\n",
    "    for obj in plan_json['learning_objectives']:\n",
    "        md_parts.append(f\"- {obj}\")\n",
    "\n",
    "    # Phần III: Chuẩn bị\n",
    "    md_parts.append(\"## III. CHUẨN BỊ\")\n",
    "    for key, items in plan_json['preparation'].items():\n",
    "        md_parts.append(f\"- **{key.title()}:** {', '.join(items)}\")\n",
    "\n",
    "    # Phần IV: Tiến trình bài dạy\n",
    "    md_parts.append(\"## IV. TIẾN TRÌNH BÀI DẠY\")\n",
    "    for i, activity in enumerate(plan_json['lesson_flow']):\n",
    "        md_parts.append(f\"### Hoạt động {i+1}: {activity.get('activity_name')} ({activity.get('duration_minutes')} phút)\")\n",
    "        if activity.get('question'):\n",
    "             md_parts.append(f\"**Nhiệm vụ (Đề bài):**\\n{activity.get('question')}\")\n",
    "        else:\n",
    "             md_parts.append(f\"**Nhiệm vụ (Mô tả):**\\n{activity.get('description')}\")\n",
    "        \n",
    "        # Thêm phần phân hóa vào Markdown\n",
    "        if activity.get('differentiation'):\n",
    "            diff = activity['differentiation']\n",
    "            md_parts.append(\"**Gợi ý Phân hóa:**\")\n",
    "            md_parts.append(f\"  - *Hỗ trợ (HS yếu):* {diff.get('for_struggling_students', 'Không có')}\")\n",
    "            md_parts.append(f\"  - *Thử thách (HS giỏi):* {diff.get('for_advanced_students', 'Không có')}\")\n",
    "        md_parts.append(\"\\n---\")\n",
    "        \n",
    "    # Phần V: Tóm tắt kiến thức\n",
    "    md_parts.append(\"## V. TÓM TẮT KIẾN THỨC CỐT LÕI\")\n",
    "    md_parts.append(plan_json['knowledge_summary'])\n",
    "\n",
    "    final_md = \"\\n\".join(md_parts)\n",
    "    \n",
    "    return {\"final_markdown_plan\": final_md}\n",
    "\n",
    "print(\"✅ Agent tổng hợp cấu trúc & Node trình bày Markdown (v9.0) đã sẵn sàng.\")\n"
   ]
  },
  {
   "cell_type": "markdown",
   "id": "d9377da3",
   "metadata": {},
   "source": [
    "## PHẦN 4: XÂY DỰNG VÀ BIÊN DỊCH GRAPH"
   ]
  },
  {
   "cell_type": "code",
   "execution_count": 40,
   "id": "3f7820ed",
   "metadata": {},
   "outputs": [
    {
     "name": "stdout",
     "output_type": "stream",
     "text": [
      "✅ Các node tiện ích và điều phối của graph (v8.0) đã sẵn sàng.\n"
     ]
    }
   ],
   "source": [
    "# ==============================================================================\n",
    "# CELL 4.1: CÁC NODE TIỆN ÍCH VÀ ĐIỀU PHỐI CỦA GRAPH (v8.0)\n",
    "# ==============================================================================\n",
    "from typing import Literal, Dict, Any\n",
    "import time\n",
    "\n",
    "# === NÂNG CẤP #0: Thêm node delay để chống Rate Limit ===\n",
    "def delay_node(state: \"TeacherStateV5\") -> \"TeacherStateV5\":\n",
    "    \"\"\"Node này chỉ đơn giản là dừng lại một chút để tránh vượt giới hạn API.\"\"\"\n",
    "    delay_seconds = 2\n",
    "    print_step(f\"...Đang nghỉ {delay_seconds} giây để tránh vượt rate limit...\")\n",
    "    time.sleep(delay_seconds)\n",
    "    return state\n",
    "\n",
    "def mark_task_complete(state: \"TeacherStateV5\") -> Dict[str, Any]:\n",
    "    task_list = state.get(\"task_list\", [])\n",
    "    current_task_id = state.get(\"current_task_id\")\n",
    "    if not task_list or current_task_id is None: return {}\n",
    "    new_task_list = [t.copy() for t in task_list]\n",
    "    for task in new_task_list:\n",
    "        if task.get(\"task_id\") == current_task_id:\n",
    "            task[\"status\"] = \"completed\"\n",
    "            break\n",
    "    return {\"task_list\": new_task_list, \"current_task_id\": None}\n",
    "    \n",
    "def task_router_node(state: \"TeacherStateV5\") -> Dict[str, Any]:\n",
    "    print_step(\"`Router`: Đang kiểm tra nhiệm vụ...\")\n",
    "    task_list = state.get(\"task_list\", [])\n",
    "    next_task = next((task for task in task_list if task.get(\"status\") == \"pending\"), None)\n",
    "    if next_task:\n",
    "        print_step(f\"Nhiệm vụ tiếp theo: '{next_task['task_name']}' (ID: {next_task['task_id']})\")\n",
    "        return {\"current_task_id\": next_task['task_id']}\n",
    "    else:\n",
    "        print_step(\"Hết nhiệm vụ, chuyển sang node Compiler & Critic.\")\n",
    "        return {\"current_task_id\": None}\n",
    "\n",
    "async def task_dispatcher_agent(state: \"TeacherStateV5\") -> Dict[str, Any]:\n",
    "    print_step(\"`Agent: Task Dispatcher` (v7.1) Bắt đầu...\")\n",
    "    task_to_run = next((t for t in state['task_list'] if t['task_id'] == state['current_task_id']), None)\n",
    "    if not task_to_run:\n",
    "        print_warning(\"Dispatcher không tìm thấy task, sẽ bỏ qua bước này.\")\n",
    "        return {\"next_agent\": \"mark_task_complete\"}\n",
    "\n",
    "    task_description = task_to_run['task_description']\n",
    "    prompt = f\"{SYSTEM_PERSONA_PROMPT}\\n**Nhiệm vụ:** Phân loại nhiệm vụ sau vào MỘT trong ba agent sau: 'activity_designer', 'theory_synthesizer', 'assessment_creator'.\\n\\n**QUY TẮC PHÂN LOẠI:**\\n- Giảng giải, giới thiệu, ôn tập, tổng kết -> 'theory_synthesizer'.\\n- Luyện tập, thực hành, thảo luận, làm việc nhóm -> 'activity_designer'.\\n- Kiểm tra, đánh giá, bài toán khó, vận dụng cao -> 'assessment_creator'.\\n\\n**NHIỆM VỤ CẦN PHÂN LOẠI:** \\\"{task_description}\\\"\\n\\n**YÊU CẦU JSON:** Trả về JSON với key duy nhất là `agent_category`.\"\n",
    "    structured_llm = llm.with_structured_output(TaskClassification)\n",
    "    try:\n",
    "        classification_result = await structured_llm.ainvoke(prompt)\n",
    "        next_agent = classification_result.agent_category\n",
    "    except Exception as e:\n",
    "        print_warning(f\"Lỗi tại Dispatcher: {e}. Giao nhiệm vụ cho 'activity_designer'.\")\n",
    "        next_agent = \"activity_designer\"\n",
    "    print_step(f\"--- 🚚 `Dispatcher`: Giao nhiệm vụ cho `{next_agent}`.\")\n",
    "    return {\"next_agent\": next_agent}\n",
    "\n",
    "def commit_validated_content_node(state: \"TeacherStateV5\") -> Dict[str, Any]:\n",
    "    print_step(\"`Commiter`: Đang ghi nhận nội dung đã được xác thực...\")\n",
    "    agent_ran = state[\"next_agent\"]\n",
    "    content = state[\"current_content_to_validate\"]\n",
    "    \n",
    "    content['task_id'] = state['current_task_id']\n",
    "    \n",
    "    key_to_update = \"assessments\" if agent_ran == \"assessment_creator\" else \"activities\"\n",
    "    updated_outputs = update_agent_outputs(state, key_to_update, content)\n",
    "    updated_outputs[\"current_content_to_validate\"] = None\n",
    "    return updated_outputs\n",
    "\n",
    "print(\"✅ Các node tiện ích và điều phối của graph (v8.0) đã sẵn sàng.\")"
   ]
  },
  {
   "cell_type": "code",
   "execution_count": 41,
   "id": "6b7306e7",
   "metadata": {},
   "outputs": [
    {
     "name": "stdout",
     "output_type": "stream",
     "text": [
      "✅ Các hàm logic điều hướng đã được định nghĩa.\n"
     ]
    }
   ],
   "source": [
    "# ==============================================================================\n",
    "# CELL 4.2: LOGIC ĐIỀU HƯỚNG CÓ ĐIỀU KIỆN\n",
    "# ==============================================================================\n",
    "def route_after_validation(state: \"TeacherStateV5\") -> Literal[\"commit\", \"retry\"]:\n",
    "    if state.get(\"validation_feedback\") is None:\n",
    "        print_step(\"ROUTER (Validation): Nội dung được chấp thuận. Chuyển sang bước ghi nhận.\")\n",
    "        return \"commit\"\n",
    "    else:\n",
    "        print_step(\"ROUTER (Validation): Nội dung bị từ chối. Quay lại để thử lại.\")\n",
    "        return \"retry\"\n",
    "\n",
    "def route_after_router(state: \"TeacherStateV5\") -> Literal[\"continue_executing\", \"compile_and_critique\"]:\n",
    "    if state.get(\"current_task_id\") is None: return \"compile_and_critique\"\n",
    "    else: return \"continue_executing\"\n",
    "\n",
    "def route_after_compilation(state: \"TeacherStateV5\") -> Literal[\"finish\", \"replan\"]:\n",
    "    if state.get(\"reflection_notes\"):\n",
    "        print_step(\"ROUTER (Compilation): Phát hiện phản hồi từ Critic lớn. Yêu cầu hệ thống lập kế hoạch lại.\")\n",
    "        return \"replan\"\n",
    "    else:\n",
    "        print_step(\"ROUTER (Compilation): Critic lớn đã hài lòng. Kết thúc quy trình.\")\n",
    "        return \"finish\"\n",
    "\n",
    "print(\"✅ Các hàm logic điều hướng đã được định nghĩa.\")"
   ]
  },
  {
   "cell_type": "code",
   "execution_count": 42,
   "id": "30df6071",
   "metadata": {},
   "outputs": [
    {
     "name": "stdout",
     "output_type": "stream",
     "text": [
      "✅ Graph 9.0 (The Differentiated Co-Pilot) đã được biên dịch thành công.\n"
     ]
    }
   ],
   "source": [
    "# ==============================================================================\n",
    "# CELL 4.3: LẮP RÁP VÀ BIÊN DỊCH GRAPH (NÂNG CẤP V9.0)\n",
    "# ==============================================================================\n",
    "workflow = StateGraph(TeacherStateV5)\n",
    "\n",
    "# Thêm các node vào graph (bao gồm các node đã nâng cấp và node mới)\n",
    "workflow.add_node(\"initializer\", initialize_state_node)\n",
    "workflow.add_node(\"objective_interpreter\", objective_interpreter_agent)\n",
    "workflow.add_node(\"domain_classifier\", domain_classifier_agent)\n",
    "# Nâng cấp\n",
    "workflow.add_node(\"differentiated_instruction_advisor\", differentiated_instruction_advisor_agent) \n",
    "workflow.add_node(\"pedagogy_strategist\", pedagogy_strategist_agent)\n",
    "workflow.add_node(\"pedagogical_architect\", pedagogical_architect_agent)\n",
    "workflow.add_node(\"query_expansion\", query_expansion_agent)\n",
    "workflow.add_node(\"resource_scout\", resource_scout_agent_v2)\n",
    "workflow.add_node(\"plan_delegator\", plan_delegator_agent)\n",
    "workflow.add_node(\"task_router\", task_router_node)\n",
    "workflow.add_node(\"task_dispatcher\", task_dispatcher_agent)\n",
    "workflow.add_node(\"theory_synthesizer\", theory_synthesizer_agent)\n",
    "workflow.add_node(\"activity_designer\", activity_designer_agent)\n",
    "workflow.add_node(\"assessment_creator\", assessment_creator_agent)\n",
    "workflow.add_node(\"content_validator\", content_validator_agent)\n",
    "workflow.add_node(\"commit_validated_content\", commit_validated_content_node)\n",
    "workflow.add_node(\"mark_task_complete\", mark_task_complete)\n",
    "# Nâng cấp\n",
    "workflow.add_node(\"structured_plan_compiler\", structured_plan_compiler_agent) \n",
    "# Mới\n",
    "workflow.add_node(\"markdown_presenter\", markdown_presentation_node)\n",
    "workflow.add_node(\"delay_node\", delay_node)\n",
    "\n",
    "\n",
    "# Thiết lập các kết nối (edges)\n",
    "workflow.set_entry_point(\"initializer\")\n",
    "workflow.add_edge(\"initializer\", \"objective_interpreter\")\n",
    "workflow.add_edge(\"objective_interpreter\", \"domain_classifier\")\n",
    "# Sửa kết nối để đi qua agent phân hóa mới\n",
    "workflow.add_edge(\"domain_classifier\", \"differentiated_instruction_advisor\")\n",
    "workflow.add_edge(\"differentiated_instruction_advisor\", \"pedagogy_strategist\")\n",
    "workflow.add_edge(\"pedagogy_strategist\", \"pedagogical_architect\")\n",
    "workflow.add_edge(\"pedagogical_architect\", \"query_expansion\")\n",
    "workflow.add_edge(\"query_expansion\", \"resource_scout\")\n",
    "workflow.add_edge(\"resource_scout\", \"plan_delegator\")\n",
    "workflow.add_edge(\"plan_delegator\", \"task_router\")\n",
    "\n",
    "# Các kết nối có điều kiện\n",
    "workflow.add_conditional_edges(\n",
    "    \"task_router\", \n",
    "    route_after_router, \n",
    "    {\n",
    "        \"continue_executing\": \"task_dispatcher\", \n",
    "        \"compile_and_critique\": \"structured_plan_compiler\" # Sửa đích đến\n",
    "    }\n",
    ")\n",
    "workflow.add_conditional_edges(\"task_dispatcher\", lambda state: state[\"next_agent\"], {\n",
    "    \"activity_designer\": \"activity_designer\", \n",
    "    \"assessment_creator\": \"assessment_creator\", \n",
    "    \"theory_synthesizer\": \"theory_synthesizer\"\n",
    "})\n",
    "workflow.add_edge(\"theory_synthesizer\", \"content_validator\")\n",
    "workflow.add_edge(\"activity_designer\", \"content_validator\")\n",
    "workflow.add_edge(\"assessment_creator\", \"content_validator\")\n",
    "workflow.add_conditional_edges(\"content_validator\", route_after_validation, {\"commit\": \"commit_validated_content\", \"retry\": \"task_dispatcher\"})\n",
    "workflow.add_edge(\"commit_validated_content\", \"mark_task_complete\")\n",
    "workflow.add_edge(\"mark_task_complete\", \"delay_node\")\n",
    "workflow.add_edge(\"delay_node\", \"task_router\")\n",
    "\n",
    "# Luồng mới ở cuối: Compiler (JSON) -> Presenter (Markdown) -> End\n",
    "workflow.add_edge(\"structured_plan_compiler\", \"markdown_presenter\")\n",
    "workflow.add_conditional_edges(\n",
    "    \"structured_plan_compiler\", \n",
    "    route_after_compilation, \n",
    "    {\n",
    "        \"replan\": \"plan_delegator\", \n",
    "        \"finish\": \"markdown_presenter\" # Nếu hợp lệ, đi tiếp để tạo markdown\n",
    "    }\n",
    ")\n",
    "workflow.add_edge(\"markdown_presenter\", END)\n",
    "\n",
    "# Biên dịch graph\n",
    "app = workflow.compile()\n",
    "print(\"✅ Graph 9.0 (The Differentiated Co-Pilot) đã được biên dịch thành công.\")"
   ]
  },
  {
   "cell_type": "code",
   "execution_count": 43,
   "id": "ac549fea",
   "metadata": {},
   "outputs": [
    {
     "data": {
      "image/png": "[encoded data removed]",
      "text/plain": [
       "<IPython.core.display.Image object>"
      ]
     },
     "metadata": {},
     "output_type": "display_data"
    }
   ],
   "source": [
    "# ==============================================================================\n",
    "# CELL 4.4: HIỂN THỊ SƠ ĐỒ GRAPH (TÙY CHỌN)\n",
    "# ==============================================================================\n",
    "try:\n",
    "    # Lệnh này sẽ vẽ một sơ đồ của workflow, rất hữu ích để gỡ lỗi\n",
    "    display(Image(app.get_graph().draw_mermaid_png()))\n",
    "except Exception as e:\n",
    "    print(f\"Lỗi vẽ biểu đồ: {e}. Đây là lỗi không nghiêm trọng, bạn vẫn có thể chạy quy trình.\")"
   ]
  },
  {
   "cell_type": "markdown",
   "id": "a5e56adc",
   "metadata": {},
   "source": [
    "## PHẦN 5"
   ]
  },
  {
   "cell_type": "code",
   "execution_count": 44,
   "id": "f27d8fdf",
   "metadata": {},
   "outputs": [
    {
     "name": "stdout",
     "output_type": "stream",
     "text": [
      "✅ Hàm `run_architect` đã sẵn sàng để sử dụng.\n"
     ]
    }
   ],
   "source": [
    "# ==============================================================================\n",
    "# CELL 5.1: ĐỊNH NGHĨA HÀM CHẠY QUY TRÌNH\n",
    "# ==============================================================================\n",
    "async def run_architect(user_request: str):\n",
    "    if 'llm' not in globals() or llm is None:\n",
    "        print_warning(\"LLM chưa được khởi tạo. Vui lòng chạy lại Cell 1.3.\")\n",
    "        return\n",
    "    if 'vector_store' not in globals() or vector_store is None:\n",
    "        print_warning(\"Kho tri thức chưa được tải. Vui lòng chạy lại Cell 1.4.\")\n",
    "        return\n",
    "    if 'app' not in globals():\n",
    "        print_warning(\"Graph 'app' chưa được biên dịch. Vui lòng chạy lại Cell 4.3.\")\n",
    "        return\n",
    "\n",
    "    initial_state = {\"messages\": [HumanMessage(content=user_request)]}\n",
    "    console.print(f\"\\n[bold magenta]🚀 BẮT ĐẦU QUY TRÌNH V7.1 (THE ARCHITECT) VỚI YÊU CẦU:[/bold magenta]\\n> {user_request}\")\n",
    "    config = {\"recursion_limit\": 150} \n",
    "    \n",
    "    final_state_result = None\n",
    "    try:\n",
    "        async for event in app.astream(initial_state, config=config):\n",
    "            for node_name, node_output in event.items():\n",
    "                console.print(f\"\\n[bold yellow]------- Hoàn thành bước: {node_name} -------[/bold yellow]\")\n",
    "                final_state_result = node_output\n",
    "\n",
    "        console.print(\"\\n[bold magenta]🏁 KẾT THÚC QUY TRÌNH V7.1.[/bold magenta]\")\n",
    "        \n",
    "        if final_state_result and final_state_result.get(\"final_markdown_plan\"):\n",
    "            console.print(\"\\n[bold green]📝 GIÁO ÁN HOÀN CHỈNH (v9.0)[/bold green]\")\n",
    "            console.print(Markdown(final_state_result[\"final_markdown_plan\"]))\n",
    "            \n",
    "            # (Tùy chọn) In ra cả JSON để kiểm tra\n",
    "            if VERBOSE_MODE:\n",
    "                print_result(final_state_result.get(\"final_structured_plan\"), \"Output JSON có cấu trúc\")\n",
    "\n",
    "        else:\n",
    "            print_warning(\"Không tạo được giáo án cuối cùng. Có thể Critic đã yêu cầu làm lại nhưng hết giới hạn đệ quy.\")\n",
    "            print(\"\\nTrạng thái cuối cùng để gỡ lỗi:\")\n",
    "            pprint(final_state_result)\n",
    "            \n",
    "    except Exception as e:\n",
    "        print_warning(f\"Đã xảy ra lỗi nghiêm trọng trong quá trình chạy graph: {e}\")\n",
    "        import traceback\n",
    "        traceback.print_exc()\n",
    "\n",
    "print(\"✅ Hàm `run_architect` đã sẵn sàng để sử dụng.\")"
   ]
  },
  {
   "cell_type": "code",
   "execution_count": 45,
   "id": "43c8121e",
   "metadata": {},
   "outputs": [
    {
     "data": {
      "text/html": [
       "<pre style=\"white-space:pre;overflow-x:auto;line-height:normal;font-family:Menlo,'DejaVu Sans Mono',consolas,'Courier New',monospace\">\n",
       "<span style=\"color: #800080; text-decoration-color: #800080; font-weight: bold\">🚀 BẮT ĐẦU QUY TRÌNH V7.</span><span style=\"color: #800080; text-decoration-color: #800080; font-weight: bold\">1</span><span style=\"color: #800080; text-decoration-color: #800080; font-weight: bold\"> (THE ARCHITECT) VỚI YÊU CẦU:</span>\n",
       "&gt; Soạn giúp tôi giáo án bài <span style=\"color: #008000; text-decoration-color: #008000\">'Đường tròn ngoại tiếp và đường tròn nội tiếp'</span> cho học sinh lớp <span style=\"color: #008080; text-decoration-color: #008080; font-weight: bold\">9</span> trong <span style=\"color: #008080; text-decoration-color: #008080; font-weight: bold\">90</span> phút. Đây là\n",
       "một lớp học khá yếu, các em thường mất tập trung và cần các hoạt động có tính tương tác cao.\n",
       "</pre>\n"
      ],
      "text/plain": [
       "\n",
       "\u001b[1;35m🚀 BẮT ĐẦU QUY TRÌNH V7.\u001b[0m\u001b[1;35m1\u001b[0m\u001b[1;35m \u001b[0m\u001b[1;35m(\u001b[0m\u001b[1;35mTHE ARCHITECT\u001b[0m\u001b[1;35m)\u001b[0m\u001b[1;35m VỚI YÊU CẦU:\u001b[0m\n",
       "> Soạn giúp tôi giáo án bài \u001b[32m'Đường tròn ngoại tiếp và đường tròn nội tiếp'\u001b[0m cho học sinh lớp \u001b[1;36m9\u001b[0m trong \u001b[1;36m90\u001b[0m phút. Đây là\n",
       "một lớp học khá yếu, các em thường mất tập trung và cần các hoạt động có tính tương tác cao.\n"
      ]
     },
     "metadata": {},
     "output_type": "display_data"
    },
    {
     "data": {
      "text/html": [
       "<pre style=\"white-space:pre;overflow-x:auto;line-height:normal;font-family:Menlo,'DejaVu Sans Mono',consolas,'Courier New',monospace\">\n",
       "<span style=\"color: #008080; text-decoration-color: #008080; font-weight: bold\">&gt;</span> `Initializer`: Đang khởi tạo trạng thái và lấy yêu cầu gốc<span style=\"color: #808000; text-decoration-color: #808000\">...</span>\n",
       "</pre>\n"
      ],
      "text/plain": [
       "\n",
       "\u001b[1;36m>\u001b[0m `Initializer`: Đang khởi tạo trạng thái và lấy yêu cầu gốc\u001b[33m...\u001b[0m\n"
      ]
     },
     "metadata": {},
     "output_type": "display_data"
    },
    {
     "data": {
      "text/html": [
       "<pre style=\"white-space:pre;overflow-x:auto;line-height:normal;font-family:Menlo,'DejaVu Sans Mono',consolas,'Courier New',monospace\">\n",
       "<span style=\"color: #808000; text-decoration-color: #808000; font-weight: bold\">------- Hoàn thành bước: initializer -------</span>\n",
       "</pre>\n"
      ],
      "text/plain": [
       "\n",
       "\u001b[1;33m------- Hoàn thành bước: initializer -------\u001b[0m\n"
      ]
     },
     "metadata": {},
     "output_type": "display_data"
    },
    {
     "data": {
      "text/html": [
       "<pre style=\"white-space:pre;overflow-x:auto;line-height:normal;font-family:Menlo,'DejaVu Sans Mono',consolas,'Courier New',monospace\">\n",
       "<span style=\"color: #008080; text-decoration-color: #008080; font-weight: bold\">&gt;</span> `Agent: Objective Interpreter` <span style=\"font-weight: bold\">(</span>v7.<span style=\"color: #008080; text-decoration-color: #008080; font-weight: bold\">5</span><span style=\"font-weight: bold\">)</span> đang phân tích mục tiêu<span style=\"color: #808000; text-decoration-color: #808000\">...</span>\n",
       "</pre>\n"
      ],
      "text/plain": [
       "\n",
       "\u001b[1;36m>\u001b[0m `Agent: Objective Interpreter` \u001b[1m(\u001b[0mv7.\u001b[1;36m5\u001b[0m\u001b[1m)\u001b[0m đang phân tích mục tiêu\u001b[33m...\u001b[0m\n"
      ]
     },
     "metadata": {},
     "output_type": "display_data"
    },
    {
     "data": {
      "text/html": [
       "<pre style=\"white-space:pre;overflow-x:auto;line-height:normal;font-family:Menlo,'DejaVu Sans Mono',consolas,'Courier New',monospace\"><span style=\"color: #008000; text-decoration-color: #008000; font-weight: bold\">✔️ Mục tiêu &amp; Ràng buộc đã phân tích:</span>\n",
       "</pre>\n"
      ],
      "text/plain": [
       "\u001b[1;32m✔️ Mục tiêu & Ràng buộc đã phân tích:\u001b[0m\n"
      ]
     },
     "metadata": {},
     "output_type": "display_data"
    },
    {
     "data": {
      "text/html": [
       "<pre style=\"white-space:pre;overflow-x:auto;line-height:normal;font-family:Menlo,'DejaVu Sans Mono',consolas,'Courier New',monospace\"><span style=\"font-weight: bold\">{</span>\n",
       "<span style=\"color: #7fbf7f; text-decoration-color: #7fbf7f\">│   </span><span style=\"color: #008000; text-decoration-color: #008000\">'action_verb'</span>: <span style=\"color: #008000; text-decoration-color: #008000\">'Soạn'</span>,\n",
       "<span style=\"color: #7fbf7f; text-decoration-color: #7fbf7f\">│   </span><span style=\"color: #008000; text-decoration-color: #008000\">'bloom_level'</span>: <span style=\"color: #008080; text-decoration-color: #008080; font-weight: bold\">2</span>,\n",
       "<span style=\"color: #7fbf7f; text-decoration-color: #7fbf7f\">│   </span><span style=\"color: #008000; text-decoration-color: #008000\">'topic'</span>: <span style=\"color: #008000; text-decoration-color: #008000\">'Đường tròn ngoại tiếp và đường tròn nội tiếp'</span>,\n",
       "<span style=\"color: #7fbf7f; text-decoration-color: #7fbf7f\">│   </span><span style=\"color: #008000; text-decoration-color: #008000\">'grade_level'</span>: <span style=\"color: #008000; text-decoration-color: #008000\">'Lớp 9'</span>,\n",
       "<span style=\"color: #7fbf7f; text-decoration-color: #7fbf7f\">│   </span><span style=\"color: #008000; text-decoration-color: #008000\">'constraints'</span>: <span style=\"font-weight: bold\">{</span>\n",
       "<span style=\"color: #7fbf7f; text-decoration-color: #7fbf7f\">│   │   </span><span style=\"color: #008000; text-decoration-color: #008000\">'duration_minutes'</span>: <span style=\"color: #008080; text-decoration-color: #008080; font-weight: bold\">90</span>\n",
       "<span style=\"color: #7fbf7f; text-decoration-color: #7fbf7f\">│   </span><span style=\"font-weight: bold\">}</span>\n",
       "<span style=\"font-weight: bold\">}</span>\n",
       "</pre>\n"
      ],
      "text/plain": [
       "\u001b[1m{\u001b[0m\n",
       "\u001b[2;32m│   \u001b[0m\u001b[32m'action_verb'\u001b[0m: \u001b[32m'Soạn'\u001b[0m,\n",
       "\u001b[2;32m│   \u001b[0m\u001b[32m'bloom_level'\u001b[0m: \u001b[1;36m2\u001b[0m,\n",
       "\u001b[2;32m│   \u001b[0m\u001b[32m'topic'\u001b[0m: \u001b[32m'Đường tròn ngoại tiếp và đường tròn nội tiếp'\u001b[0m,\n",
       "\u001b[2;32m│   \u001b[0m\u001b[32m'grade_level'\u001b[0m: \u001b[32m'Lớp 9'\u001b[0m,\n",
       "\u001b[2;32m│   \u001b[0m\u001b[32m'constraints'\u001b[0m: \u001b[1m{\u001b[0m\n",
       "\u001b[2;32m│   │   \u001b[0m\u001b[32m'duration_minutes'\u001b[0m: \u001b[1;36m90\u001b[0m\n",
       "\u001b[2;32m│   \u001b[0m\u001b[1m}\u001b[0m\n",
       "\u001b[1m}\u001b[0m\n"
      ]
     },
     "metadata": {},
     "output_type": "display_data"
    },
    {
     "data": {
      "text/html": [
       "<pre style=\"white-space:pre;overflow-x:auto;line-height:normal;font-family:Menlo,'DejaVu Sans Mono',consolas,'Courier New',monospace\">\n",
       "<span style=\"color: #808000; text-decoration-color: #808000; font-weight: bold\">------- Hoàn thành bước: objective_interpreter -------</span>\n",
       "</pre>\n"
      ],
      "text/plain": [
       "\n",
       "\u001b[1;33m------- Hoàn thành bước: objective_interpreter -------\u001b[0m\n"
      ]
     },
     "metadata": {},
     "output_type": "display_data"
    },
    {
     "data": {
      "text/html": [
       "<pre style=\"white-space:pre;overflow-x:auto;line-height:normal;font-family:Menlo,'DejaVu Sans Mono',consolas,'Courier New',monospace\">\n",
       "<span style=\"color: #008080; text-decoration-color: #008080; font-weight: bold\">&gt;</span> `Agent: Domain Classifier` <span style=\"font-weight: bold\">(</span>v7.<span style=\"color: #008080; text-decoration-color: #008080; font-weight: bold\">5</span><span style=\"font-weight: bold\">)</span> đang xác định lĩnh vực chuyên môn<span style=\"color: #808000; text-decoration-color: #808000\">...</span>\n",
       "</pre>\n"
      ],
      "text/plain": [
       "\n",
       "\u001b[1;36m>\u001b[0m `Agent: Domain Classifier` \u001b[1m(\u001b[0mv7.\u001b[1;36m5\u001b[0m\u001b[1m)\u001b[0m đang xác định lĩnh vực chuyên môn\u001b[33m...\u001b[0m\n"
      ]
     },
     "metadata": {},
     "output_type": "display_data"
    },
    {
     "data": {
      "text/html": [
       "<pre style=\"white-space:pre;overflow-x:auto;line-height:normal;font-family:Menlo,'DejaVu Sans Mono',consolas,'Courier New',monospace\"><span style=\"color: #008000; text-decoration-color: #008000; font-weight: bold\">✔️ Lĩnh vực chuyên môn được xác định:</span>\n",
       "</pre>\n"
      ],
      "text/plain": [
       "\u001b[1;32m✔️ Lĩnh vực chuyên môn được xác định:\u001b[0m\n"
      ]
     },
     "metadata": {},
     "output_type": "display_data"
    },
    {
     "data": {
      "text/html": [
       "<pre style=\"white-space:pre;overflow-x:auto;line-height:normal;font-family:Menlo,'DejaVu Sans Mono',consolas,'Courier New',monospace\"><span style=\"color: #008000; text-decoration-color: #008000\">'Toán học'</span>\n",
       "</pre>\n"
      ],
      "text/plain": [
       "\u001b[32m'Toán học'\u001b[0m\n"
      ]
     },
     "metadata": {},
     "output_type": "display_data"
    },
    {
     "data": {
      "text/html": [
       "<pre style=\"white-space:pre;overflow-x:auto;line-height:normal;font-family:Menlo,'DejaVu Sans Mono',consolas,'Courier New',monospace\">\n",
       "<span style=\"color: #808000; text-decoration-color: #808000; font-weight: bold\">------- Hoàn thành bước: domain_classifier -------</span>\n",
       "</pre>\n"
      ],
      "text/plain": [
       "\n",
       "\u001b[1;33m------- Hoàn thành bước: domain_classifier -------\u001b[0m\n"
      ]
     },
     "metadata": {},
     "output_type": "display_data"
    },
    {
     "data": {
      "text/html": [
       "<pre style=\"white-space:pre;overflow-x:auto;line-height:normal;font-family:Menlo,'DejaVu Sans Mono',consolas,'Courier New',monospace\">\n",
       "<span style=\"color: #008080; text-decoration-color: #008080; font-weight: bold\">&gt;</span> `Agent: Differentiated Instruction Advisor` <span style=\"font-weight: bold\">(</span>v9.<span style=\"color: #008080; text-decoration-color: #008080; font-weight: bold\">1</span><span style=\"font-weight: bold\">)</span> đang phân tích và đề xuất chiến lược phân hóa<span style=\"color: #808000; text-decoration-color: #808000\">...</span>\n",
       "</pre>\n"
      ],
      "text/plain": [
       "\n",
       "\u001b[1;36m>\u001b[0m `Agent: Differentiated Instruction Advisor` \u001b[1m(\u001b[0mv9.\u001b[1;36m1\u001b[0m\u001b[1m)\u001b[0m đang phân tích và đề xuất chiến lược phân hóa\u001b[33m...\u001b[0m\n"
      ]
     },
     "metadata": {},
     "output_type": "display_data"
    },
    {
     "data": {
      "text/html": [
       "<pre style=\"white-space:pre;overflow-x:auto;line-height:normal;font-family:Menlo,'DejaVu Sans Mono',consolas,'Courier New',monospace\"><span style=\"color: #008000; text-decoration-color: #008000; font-weight: bold\">✔️ Hồ sơ lớp học và Chiến lược Phân hóa:</span>\n",
       "</pre>\n"
      ],
      "text/plain": [
       "\u001b[1;32m✔️ Hồ sơ lớp học và Chiến lược Phân hóa:\u001b[0m\n"
      ]
     },
     "metadata": {},
     "output_type": "display_data"
    },
    {
     "data": {
      "text/html": [
       "<pre style=\"white-space:pre;overflow-x:auto;line-height:normal;font-family:Menlo,'DejaVu Sans Mono',consolas,'Courier New',monospace\"><span style=\"font-weight: bold\">{</span>\n",
       "<span style=\"color: #7fbf7f; text-decoration-color: #7fbf7f\">│   </span><span style=\"color: #008000; text-decoration-color: #008000\">'learning_pace'</span>: <span style=\"color: #008000; text-decoration-color: #008000\">'chậm'</span>,\n",
       "<span style=\"color: #7fbf7f; text-decoration-color: #7fbf7f\">│   </span><span style=\"color: #008000; text-decoration-color: #008000\">'engagement_style'</span>: <span style=\"color: #008000; text-decoration-color: #008000\">'thụ động'</span>,\n",
       "<span style=\"color: #7fbf7f; text-decoration-color: #7fbf7f\">│   </span><span style=\"color: #008000; text-decoration-color: #008000\">'special_notes'</span>: <span style=\"color: #008000; text-decoration-color: #008000\">'Lớp học khá yếu, học sinh dễ mất tập trung, cần các hoạt động tương tác cao để duy trì sự chú ý.'</span>,\n",
       "<span style=\"color: #7fbf7f; text-decoration-color: #7fbf7f\">│   </span><span style=\"color: #008000; text-decoration-color: #008000\">'differentiation_strategy'</span>: <span style=\"font-weight: bold\">{</span>\n",
       "<span style=\"color: #7fbf7f; text-decoration-color: #7fbf7f\">│   │   </span><span style=\"color: #008000; text-decoration-color: #008000\">'for_struggling_students'</span>: <span style=\"color: #008000; text-decoration-color: #008000\">'Chia nhỏ kiến thức thành các phần nhỏ, sử dụng nhiều ví dụ trực quan và hình ảnh minh họa. Cung cấp phiếu bài tập có gợi ý từng bước hoặc công thức áp dụng. Tăng cường hoạt động nhóm đôi/nhóm nhỏ để học sinh yếu có thể nhận được sự hỗ trợ từ bạn bè và giáo viên. Thường xuyên kiểm tra nhanh sự hiểu bài bằng các câu hỏi trắc nghiệm đơn giản hoặc giơ tay.'</span>,\n",
       "<span style=\"color: #7fbf7f; text-decoration-color: #7fbf7f\">│   │   </span><span style=\"color: #008000; text-decoration-color: #008000\">'for_advanced_students'</span>: <span style=\"color: #008000; text-decoration-color: #008000\">'Giao các bài tập nâng cao có tính tổng hợp hoặc yêu cầu chứng minh. Khuyến khích học sinh khá giỏi tự tìm hiểu thêm các ứng dụng thực tế của đường tròn ngoại tiếp/nội tiếp (ví dụ: trong kiến trúc, thiết kế). Yêu cầu các em giải thích lại kiến thức cho các bạn trong nhóm hoặc chuẩn bị một phần trình bày ngắn gọn về một khía cạnh nâng cao của bài học.'</span>\n",
       "<span style=\"color: #7fbf7f; text-decoration-color: #7fbf7f\">│   </span><span style=\"font-weight: bold\">}</span>\n",
       "<span style=\"font-weight: bold\">}</span>\n",
       "</pre>\n"
      ],
      "text/plain": [
       "\u001b[1m{\u001b[0m\n",
       "\u001b[2;32m│   \u001b[0m\u001b[32m'learning_pace'\u001b[0m: \u001b[32m'chậm'\u001b[0m,\n",
       "\u001b[2;32m│   \u001b[0m\u001b[32m'engagement_style'\u001b[0m: \u001b[32m'thụ động'\u001b[0m,\n",
       "\u001b[2;32m│   \u001b[0m\u001b[32m'special_notes'\u001b[0m: \u001b[32m'Lớp học khá yếu, học sinh dễ mất tập trung, cần các hoạt động tương tác cao để duy trì sự chú ý.'\u001b[0m,\n",
       "\u001b[2;32m│   \u001b[0m\u001b[32m'differentiation_strategy'\u001b[0m: \u001b[1m{\u001b[0m\n",
       "\u001b[2;32m│   │   \u001b[0m\u001b[32m'for_struggling_students'\u001b[0m: \u001b[32m'Chia nhỏ kiến thức thành các phần nhỏ, sử dụng nhiều ví dụ trực quan và hình ảnh minh họa. Cung cấp phiếu bài tập có gợi ý từng bước hoặc công thức áp dụng. Tăng cường hoạt động nhóm đôi/nhóm nhỏ để học sinh yếu có thể nhận được sự hỗ trợ từ bạn bè và giáo viên. Thường xuyên kiểm tra nhanh sự hiểu bài bằng các câu hỏi trắc nghiệm đơn giản hoặc giơ tay.'\u001b[0m,\n",
       "\u001b[2;32m│   │   \u001b[0m\u001b[32m'for_advanced_students'\u001b[0m: \u001b[32m'Giao các bài tập nâng cao có tính tổng hợp hoặc yêu cầu chứng minh. Khuyến khích học sinh khá giỏi tự tìm hiểu thêm các ứng dụng thực tế của đường tròn ngoại tiếp/nội tiếp \u001b[0m\u001b[32m(\u001b[0m\u001b[32mví dụ: trong kiến trúc, thiết kế\u001b[0m\u001b[32m)\u001b[0m\u001b[32m. Yêu cầu các em giải thích lại kiến thức cho các bạn trong nhóm hoặc chuẩn bị một phần trình bày ngắn gọn về một khía cạnh nâng cao của bài học.'\u001b[0m\n",
       "\u001b[2;32m│   \u001b[0m\u001b[1m}\u001b[0m\n",
       "\u001b[1m}\u001b[0m\n"
      ]
     },
     "metadata": {},
     "output_type": "display_data"
    },
    {
     "data": {
      "text/html": [
       "<pre style=\"white-space:pre;overflow-x:auto;line-height:normal;font-family:Menlo,'DejaVu Sans Mono',consolas,'Courier New',monospace\">\n",
       "<span style=\"color: #808000; text-decoration-color: #808000; font-weight: bold\">------- Hoàn thành bước: differentiated_instruction_advisor -------</span>\n",
       "</pre>\n"
      ],
      "text/plain": [
       "\n",
       "\u001b[1;33m------- Hoàn thành bước: differentiated_instruction_advisor -------\u001b[0m\n"
      ]
     },
     "metadata": {},
     "output_type": "display_data"
    },
    {
     "data": {
      "text/html": [
       "<pre style=\"white-space:pre;overflow-x:auto;line-height:normal;font-family:Menlo,'DejaVu Sans Mono',consolas,'Courier New',monospace\">\n",
       "<span style=\"color: #008080; text-decoration-color: #008080; font-weight: bold\">&gt;</span> `Agent: Pedagogy Strategist` <span style=\"font-weight: bold\">(</span>v7.<span style=\"color: #008080; text-decoration-color: #008080; font-weight: bold\">5</span><span style=\"font-weight: bold\">)</span> đang xây dựng chiến lược sư phạm chi tiết<span style=\"color: #808000; text-decoration-color: #808000\">...</span>\n",
       "</pre>\n"
      ],
      "text/plain": [
       "\n",
       "\u001b[1;36m>\u001b[0m `Agent: Pedagogy Strategist` \u001b[1m(\u001b[0mv7.\u001b[1;36m5\u001b[0m\u001b[1m)\u001b[0m đang xây dựng chiến lược sư phạm chi tiết\u001b[33m...\u001b[0m\n"
      ]
     },
     "metadata": {},
     "output_type": "display_data"
    },
    {
     "data": {
      "text/html": [
       "<pre style=\"white-space:pre;overflow-x:auto;line-height:normal;font-family:Menlo,'DejaVu Sans Mono',consolas,'Courier New',monospace\"><span style=\"color: #008000; text-decoration-color: #008000; font-weight: bold\">✔️ Chiến lược sư phạm chi tiết:</span>\n",
       "</pre>\n"
      ],
      "text/plain": [
       "\u001b[1;32m✔️ Chiến lược sư phạm chi tiết:\u001b[0m\n"
      ]
     },
     "metadata": {},
     "output_type": "display_data"
    },
    {
     "data": {
      "text/html": [
       "<pre style=\"white-space:pre;overflow-x:auto;line-height:normal;font-family:Menlo,'DejaVu Sans Mono',consolas,'Courier New',monospace\"><span style=\"font-weight: bold\">{</span>\n",
       "<span style=\"color: #7fbf7f; text-decoration-color: #7fbf7f\">│   </span><span style=\"color: #008000; text-decoration-color: #008000\">'name'</span>: <span style=\"color: #008000; text-decoration-color: #008000\">'Dạy học hợp tác (Cooperative Learning)'</span>,\n",
       "<span style=\"color: #7fbf7f; text-decoration-color: #7fbf7f\">│   </span><span style=\"color: #008000; text-decoration-color: #008000\">'rationale'</span>: <span style=\"color: #008000; text-decoration-color: #008000\">'Phương pháp Dạy học hợp tác rất phù hợp với đặc điểm của lớp học này. Nó giúp khắc phục tính thụ động và dễ mất tập trung của học sinh bằng cách khuyến khích sự tương tác cao giữa các thành viên trong nhóm. Học sinh yếu sẽ nhận được sự hỗ trợ trực tiếp từ bạn bè và giáo viên, trong khi học sinh khá giỏi có cơ hội củng cố kiến thức bằng cách giải thích cho người khác. Việc chia nhỏ kiến thức và giao nhiệm vụ theo nhóm cũng giúp giảm áp lực, tạo môi trường học tập tích cực và hiệu quả hơn cho một lớp có nhịp độ học chậm.'</span>,\n",
       "<span style=\"color: #7fbf7f; text-decoration-color: #7fbf7f\">│   </span><span style=\"color: #008000; text-decoration-color: #008000\">'key_actions'</span>: <span style=\"font-weight: bold\">[</span>\n",
       "<span style=\"color: #7fbf7f; text-decoration-color: #7fbf7f\">│   │   </span><span style=\"color: #008000; text-decoration-color: #008000\">'Khởi động và giới thiệu vấn đề bài học một cách trực quan, hấp dẫn.'</span>,\n",
       "<span style=\"color: #7fbf7f; text-decoration-color: #7fbf7f\">│   │   </span><span style=\"color: #008000; text-decoration-color: #008000\">'Tổ chức lớp học thành các nhóm nhỏ (3-4 học sinh) một cách linh hoạt, đảm bảo mỗi nhóm có sự đa dạng về năng lực.'</span>,\n",
       "<span style=\"color: #7fbf7f; text-decoration-color: #7fbf7f\">│   │   </span><span style=\"color: #008000; text-decoration-color: #008000\">'Giao nhiệm vụ học tập cụ thể cho từng nhóm, chia nhỏ kiến thức về đường tròn ngoại tiếp và nội tiếp thành các phần dễ tiếp cận (ví dụ: khám phá định nghĩa, tính chất, cách vẽ, ứng dụng qua các bài tập có gợi ý).'</span>,\n",
       "<span style=\"color: #7fbf7f; text-decoration-color: #7fbf7f\">│   │   </span><span style=\"color: #008000; text-decoration-color: #008000\">'Học sinh làm việc nhóm, thảo luận, hỗ trợ lẫn nhau để hoàn thành nhiệm vụ dưới sự hướng dẫn và giám sát chặt chẽ của giáo viên.'</span>,\n",
       "<span style=\"color: #7fbf7f; text-decoration-color: #7fbf7f\">│   │   </span><span style=\"color: #008000; text-decoration-color: #008000\">'Đại diện các nhóm trình bày kết quả, chia sẻ cách giải quyết vấn đề hoặc những phát hiện của nhóm mình.'</span>,\n",
       "<span style=\"color: #7fbf7f; text-decoration-color: #7fbf7f\">│   │   </span><span style=\"color: #008000; text-decoration-color: #008000\">'Giáo viên tổng kết, chuẩn hóa kiến thức, giải đáp thắc mắc và nhấn mạnh các điểm trọng tâm của bài học.'</span>,\n",
       "<span style=\"color: #7fbf7f; text-decoration-color: #7fbf7f\">│   │   </span><span style=\"color: #008000; text-decoration-color: #008000\">'Củng cố kiến thức bằng các bài tập luyện tập cá nhân hoặc trò chơi tương tác nhanh để kiểm tra sự hiểu bài và duy trì sự tập trung.'</span>\n",
       "<span style=\"color: #7fbf7f; text-decoration-color: #7fbf7f\">│   </span><span style=\"font-weight: bold\">]</span>\n",
       "<span style=\"font-weight: bold\">}</span>\n",
       "</pre>\n"
      ],
      "text/plain": [
       "\u001b[1m{\u001b[0m\n",
       "\u001b[2;32m│   \u001b[0m\u001b[32m'name'\u001b[0m: \u001b[32m'Dạy học hợp tác \u001b[0m\u001b[32m(\u001b[0m\u001b[32mCooperative Learning\u001b[0m\u001b[32m)\u001b[0m\u001b[32m'\u001b[0m,\n",
       "\u001b[2;32m│   \u001b[0m\u001b[32m'rationale'\u001b[0m: \u001b[32m'Phương pháp Dạy học hợp tác rất phù hợp với đặc điểm của lớp học này. Nó giúp khắc phục tính thụ động và dễ mất tập trung của học sinh bằng cách khuyến khích sự tương tác cao giữa các thành viên trong nhóm. Học sinh yếu sẽ nhận được sự hỗ trợ trực tiếp từ bạn bè và giáo viên, trong khi học sinh khá giỏi có cơ hội củng cố kiến thức bằng cách giải thích cho người khác. Việc chia nhỏ kiến thức và giao nhiệm vụ theo nhóm cũng giúp giảm áp lực, tạo môi trường học tập tích cực và hiệu quả hơn cho một lớp có nhịp độ học chậm.'\u001b[0m,\n",
       "\u001b[2;32m│   \u001b[0m\u001b[32m'key_actions'\u001b[0m: \u001b[1m[\u001b[0m\n",
       "\u001b[2;32m│   │   \u001b[0m\u001b[32m'Khởi động và giới thiệu vấn đề bài học một cách trực quan, hấp dẫn.'\u001b[0m,\n",
       "\u001b[2;32m│   │   \u001b[0m\u001b[32m'Tổ chức lớp học thành các nhóm nhỏ \u001b[0m\u001b[32m(\u001b[0m\u001b[32m3-4 học sinh\u001b[0m\u001b[32m)\u001b[0m\u001b[32m một cách linh hoạt, đảm bảo mỗi nhóm có sự đa dạng về năng lực.'\u001b[0m,\n",
       "\u001b[2;32m│   │   \u001b[0m\u001b[32m'Giao nhiệm vụ học tập cụ thể cho từng nhóm, chia nhỏ kiến thức về đường tròn ngoại tiếp và nội tiếp thành các phần dễ tiếp cận \u001b[0m\u001b[32m(\u001b[0m\u001b[32mví dụ: khám phá định nghĩa, tính chất, cách vẽ, ứng dụng qua các bài tập có gợi ý\u001b[0m\u001b[32m)\u001b[0m\u001b[32m.'\u001b[0m,\n",
       "\u001b[2;32m│   │   \u001b[0m\u001b[32m'Học sinh làm việc nhóm, thảo luận, hỗ trợ lẫn nhau để hoàn thành nhiệm vụ dưới sự hướng dẫn và giám sát chặt chẽ của giáo viên.'\u001b[0m,\n",
       "\u001b[2;32m│   │   \u001b[0m\u001b[32m'Đại diện các nhóm trình bày kết quả, chia sẻ cách giải quyết vấn đề hoặc những phát hiện của nhóm mình.'\u001b[0m,\n",
       "\u001b[2;32m│   │   \u001b[0m\u001b[32m'Giáo viên tổng kết, chuẩn hóa kiến thức, giải đáp thắc mắc và nhấn mạnh các điểm trọng tâm của bài học.'\u001b[0m,\n",
       "\u001b[2;32m│   │   \u001b[0m\u001b[32m'Củng cố kiến thức bằng các bài tập luyện tập cá nhân hoặc trò chơi tương tác nhanh để kiểm tra sự hiểu bài và duy trì sự tập trung.'\u001b[0m\n",
       "\u001b[2;32m│   \u001b[0m\u001b[1m]\u001b[0m\n",
       "\u001b[1m}\u001b[0m\n"
      ]
     },
     "metadata": {},
     "output_type": "display_data"
    },
    {
     "data": {
      "text/html": [
       "<pre style=\"white-space:pre;overflow-x:auto;line-height:normal;font-family:Menlo,'DejaVu Sans Mono',consolas,'Courier New',monospace\">\n",
       "<span style=\"color: #808000; text-decoration-color: #808000; font-weight: bold\">------- Hoàn thành bước: pedagogy_strategist -------</span>\n",
       "</pre>\n"
      ],
      "text/plain": [
       "\n",
       "\u001b[1;33m------- Hoàn thành bước: pedagogy_strategist -------\u001b[0m\n"
      ]
     },
     "metadata": {},
     "output_type": "display_data"
    },
    {
     "data": {
      "text/html": [
       "<pre style=\"white-space:pre;overflow-x:auto;line-height:normal;font-family:Menlo,'DejaVu Sans Mono',consolas,'Courier New',monospace\">\n",
       "<span style=\"color: #008080; text-decoration-color: #008080; font-weight: bold\">&gt;</span> `Agent: Pedagogical Architect` <span style=\"font-weight: bold\">(</span>v7.<span style=\"color: #008080; text-decoration-color: #008080; font-weight: bold\">5</span><span style=\"font-weight: bold\">)</span> đang thiết kế kịch bản buổi học<span style=\"color: #808000; text-decoration-color: #808000\">...</span>\n",
       "</pre>\n"
      ],
      "text/plain": [
       "\n",
       "\u001b[1;36m>\u001b[0m `Agent: Pedagogical Architect` \u001b[1m(\u001b[0mv7.\u001b[1;36m5\u001b[0m\u001b[1m)\u001b[0m đang thiết kế kịch bản buổi học\u001b[33m...\u001b[0m\n"
      ]
     },
     "metadata": {},
     "output_type": "display_data"
    },
    {
     "data": {
      "text/html": [
       "<pre style=\"white-space:pre;overflow-x:auto;line-height:normal;font-family:Menlo,'DejaVu Sans Mono',consolas,'Courier New',monospace\"><span style=\"color: #008000; text-decoration-color: #008000; font-weight: bold\">✔️ Bản thiết kế Sư phạm đã được tạo:</span>\n",
       "</pre>\n"
      ],
      "text/plain": [
       "\u001b[1;32m✔️ Bản thiết kế Sư phạm đã được tạo:\u001b[0m\n"
      ]
     },
     "metadata": {},
     "output_type": "display_data"
    },
    {
     "data": {
      "text/html": [
       "<pre style=\"white-space:pre;overflow-x:auto;line-height:normal;font-family:Menlo,'DejaVu Sans Mono',consolas,'Courier New',monospace\"><span style=\"font-weight: bold\">[</span>\n",
       "<span style=\"color: #7fbf7f; text-decoration-color: #7fbf7f\">│   </span><span style=\"color: #008000; text-decoration-color: #008000\">\"Khởi động và Khám phá vấn đề: Giáo viên sử dụng hình ảnh, video hoặc vật thật (ví dụ: một miếng bìa hình tam giác và một sợi dây) để tạo tình huống có vấn đề, đặt câu hỏi gợi mở về việc 'vẽ một đường tròn đi qua ba đỉnh của tam giác' hoặc 'vẽ một đường tròn tiếp xúc với ba cạnh của tam giác'. Chia lớp thành các nhóm nhỏ ngay từ đầu để học sinh bắt đầu thảo luận, suy đoán ban đầu.\"</span>,\n",
       "<span style=\"color: #7fbf7f; text-decoration-color: #7fbf7f\">│   </span><span style=\"color: #008000; text-decoration-color: #008000\">'Xây dựng kiến thức: Đường tròn ngoại tiếp: Giáo viên phát phiếu học tập có hướng dẫn cụ thể cho từng nhóm. Nhiệm vụ bao gồm vẽ các đường trung trực của tam giác, xác định giao điểm và vẽ đường tròn đi qua ba đỉnh. Học sinh thảo luận, ghi nhận kết quả. Giáo viên quan sát, hỗ trợ, gợi ý khi cần thiết, đặc biệt với các nhóm yếu.'</span>,\n",
       "<span style=\"color: #7fbf7f; text-decoration-color: #7fbf7f\">│   </span><span style=\"color: #008000; text-decoration-color: #008000\">'Xây dựng kiến thức: Đường tròn nội tiếp: Tiếp tục hoạt động nhóm với phiếu học tập mới tập trung vào đường tròn nội tiếp. Nhiệm vụ bao gồm vẽ các đường phân giác của tam giác, xác định giao điểm và vẽ đường tròn tiếp xúc với ba cạnh. Khuyến khích các nhóm so sánh điểm giống và khác nhau giữa đường tròn ngoại tiếp và nội tiếp. Giáo viên tiếp tục hỗ trợ và chuẩn hóa kiến thức sau khi các nhóm hoàn thành.'</span>,\n",
       "<span style=\"color: #7fbf7f; text-decoration-color: #7fbf7f\">│   </span><span style=\"color: #008000; text-decoration-color: #008000\">'Luyện tập và Vận dụng: Giáo viên cung cấp bộ bài tập đa dạng (có phân hóa) cho các nhóm. Các bài tập bao gồm tính toán bán kính, xác định vị trí tâm, chứng minh tính chất. Học sinh yếu được khuyến khích sử dụng gợi ý, công thức. Học sinh khá giỏi được giao các bài tập tổng hợp hoặc yêu cầu chứng minh. Đại diện các nhóm trình bày cách giải, giáo viên nhận xét và chuẩn hóa lời giải.'</span>,\n",
       "<span style=\"color: #7fbf7f; text-decoration-color: #7fbf7f\">│   </span><span style=\"color: #008000; text-decoration-color: #008000\">\"Tổng kết và Củng cố: Giáo viên tổng kết lại các kiến thức trọng tâm của bài học (định nghĩa, tính chất, cách xác định tâm, bán kính của cả hai loại đường tròn). Tổ chức một trò chơi nhỏ hoặc chuỗi câu hỏi trắc nghiệm nhanh (ví dụ: 'Ai nhanh hơn?') để kiểm tra sự hiểu bài và duy trì sự tập trung. Giao bài tập về nhà có phân hóa để học sinh tự luyện tập thêm.\"</span>\n",
       "<span style=\"font-weight: bold\">]</span>\n",
       "</pre>\n"
      ],
      "text/plain": [
       "\u001b[1m[\u001b[0m\n",
       "\u001b[2;32m│   \u001b[0m\u001b[32m\"Khởi động và Khám phá vấn đề: Giáo viên sử dụng hình ảnh, video hoặc vật thật \u001b[0m\u001b[32m(\u001b[0m\u001b[32mví dụ: một miếng bìa hình tam giác và một sợi dây\u001b[0m\u001b[32m)\u001b[0m\u001b[32m để tạo tình huống có vấn đề, đặt câu hỏi gợi mở về việc 'vẽ một đường tròn đi qua ba đỉnh của tam giác' hoặc 'vẽ một đường tròn tiếp xúc với ba cạnh của tam giác'. Chia lớp thành các nhóm nhỏ ngay từ đầu để học sinh bắt đầu thảo luận, suy đoán ban đầu.\"\u001b[0m,\n",
       "\u001b[2;32m│   \u001b[0m\u001b[32m'Xây dựng kiến thức: Đường tròn ngoại tiếp: Giáo viên phát phiếu học tập có hướng dẫn cụ thể cho từng nhóm. Nhiệm vụ bao gồm vẽ các đường trung trực của tam giác, xác định giao điểm và vẽ đường tròn đi qua ba đỉnh. Học sinh thảo luận, ghi nhận kết quả. Giáo viên quan sát, hỗ trợ, gợi ý khi cần thiết, đặc biệt với các nhóm yếu.'\u001b[0m,\n",
       "\u001b[2;32m│   \u001b[0m\u001b[32m'Xây dựng kiến thức: Đường tròn nội tiếp: Tiếp tục hoạt động nhóm với phiếu học tập mới tập trung vào đường tròn nội tiếp. Nhiệm vụ bao gồm vẽ các đường phân giác của tam giác, xác định giao điểm và vẽ đường tròn tiếp xúc với ba cạnh. Khuyến khích các nhóm so sánh điểm giống và khác nhau giữa đường tròn ngoại tiếp và nội tiếp. Giáo viên tiếp tục hỗ trợ và chuẩn hóa kiến thức sau khi các nhóm hoàn thành.'\u001b[0m,\n",
       "\u001b[2;32m│   \u001b[0m\u001b[32m'Luyện tập và Vận dụng: Giáo viên cung cấp bộ bài tập đa dạng \u001b[0m\u001b[32m(\u001b[0m\u001b[32mcó phân hóa\u001b[0m\u001b[32m)\u001b[0m\u001b[32m cho các nhóm. Các bài tập bao gồm tính toán bán kính, xác định vị trí tâm, chứng minh tính chất. Học sinh yếu được khuyến khích sử dụng gợi ý, công thức. Học sinh khá giỏi được giao các bài tập tổng hợp hoặc yêu cầu chứng minh. Đại diện các nhóm trình bày cách giải, giáo viên nhận xét và chuẩn hóa lời giải.'\u001b[0m,\n",
       "\u001b[2;32m│   \u001b[0m\u001b[32m\"Tổng kết và Củng cố: Giáo viên tổng kết lại các kiến thức trọng tâm của bài học \u001b[0m\u001b[32m(\u001b[0m\u001b[32mđịnh nghĩa, tính chất, cách xác định tâm, bán kính của cả hai loại đường tròn\u001b[0m\u001b[32m)\u001b[0m\u001b[32m. Tổ chức một trò chơi nhỏ hoặc chuỗi câu hỏi trắc nghiệm nhanh \u001b[0m\u001b[32m(\u001b[0m\u001b[32mví dụ: 'Ai nhanh hơn?'\u001b[0m\u001b[32m)\u001b[0m\u001b[32m để kiểm tra sự hiểu bài và duy trì sự tập trung. Giao bài tập về nhà có phân hóa để học sinh tự luyện tập thêm.\"\u001b[0m\n",
       "\u001b[1m]\u001b[0m\n"
      ]
     },
     "metadata": {},
     "output_type": "display_data"
    },
    {
     "data": {
      "text/html": [
       "<pre style=\"white-space:pre;overflow-x:auto;line-height:normal;font-family:Menlo,'DejaVu Sans Mono',consolas,'Courier New',monospace\">\n",
       "<span style=\"color: #808000; text-decoration-color: #808000; font-weight: bold\">------- Hoàn thành bước: pedagogical_architect -------</span>\n",
       "</pre>\n"
      ],
      "text/plain": [
       "\n",
       "\u001b[1;33m------- Hoàn thành bước: pedagogical_architect -------\u001b[0m\n"
      ]
     },
     "metadata": {},
     "output_type": "display_data"
    },
    {
     "data": {
      "text/html": [
       "<pre style=\"white-space:pre;overflow-x:auto;line-height:normal;font-family:Menlo,'DejaVu Sans Mono',consolas,'Courier New',monospace\">\n",
       "<span style=\"color: #008080; text-decoration-color: #008080; font-weight: bold\">&gt;</span> `Agent: Query Expansion` <span style=\"font-weight: bold\">(</span>v7.<span style=\"color: #008080; text-decoration-color: #008080; font-weight: bold\">5</span><span style=\"font-weight: bold\">)</span> đang phân tích yêu cầu<span style=\"color: #808000; text-decoration-color: #808000\">...</span>\n",
       "</pre>\n"
      ],
      "text/plain": [
       "\n",
       "\u001b[1;36m>\u001b[0m `Agent: Query Expansion` \u001b[1m(\u001b[0mv7.\u001b[1;36m5\u001b[0m\u001b[1m)\u001b[0m đang phân tích yêu cầu\u001b[33m...\u001b[0m\n"
      ]
     },
     "metadata": {},
     "output_type": "display_data"
    },
    {
     "data": {
      "text/html": [
       "<pre style=\"white-space:pre;overflow-x:auto;line-height:normal;font-family:Menlo,'DejaVu Sans Mono',consolas,'Courier New',monospace\"><span style=\"color: #008000; text-decoration-color: #008000; font-weight: bold\">✔️ Các truy vấn tìm kiếm đã được mở rộng:</span>\n",
       "</pre>\n"
      ],
      "text/plain": [
       "\u001b[1;32m✔️ Các truy vấn tìm kiếm đã được mở rộng:\u001b[0m\n"
      ]
     },
     "metadata": {},
     "output_type": "display_data"
    },
    {
     "data": {
      "text/html": [
       "<pre style=\"white-space:pre;overflow-x:auto;line-height:normal;font-family:Menlo,'DejaVu Sans Mono',consolas,'Courier New',monospace\"><span style=\"font-weight: bold\">[</span>\n",
       "<span style=\"color: #7fbf7f; text-decoration-color: #7fbf7f\">│   </span><span style=\"color: #008000; text-decoration-color: #008000\">'đường tròn ngoại tiếp và đường tròn nội tiếp'</span>,\n",
       "<span style=\"color: #7fbf7f; text-decoration-color: #7fbf7f\">│   </span><span style=\"color: #008000; text-decoration-color: #008000\">'công thức đường tròn ngoại tiếp tam giác'</span>,\n",
       "<span style=\"color: #7fbf7f; text-decoration-color: #7fbf7f\">│   </span><span style=\"color: #008000; text-decoration-color: #008000\">'công thức đường tròn nội tiếp tam giác'</span>,\n",
       "<span style=\"color: #7fbf7f; text-decoration-color: #7fbf7f\">│   </span><span style=\"color: #008000; text-decoration-color: #008000\">'tính bán kính đường tròn ngoại tiếp'</span>,\n",
       "<span style=\"color: #7fbf7f; text-decoration-color: #7fbf7f\">│   </span><span style=\"color: #008000; text-decoration-color: #008000\">'tính bán kính đường tròn nội tiếp'</span>,\n",
       "<span style=\"color: #7fbf7f; text-decoration-color: #7fbf7f\">│   </span><span style=\"color: #008000; text-decoration-color: #008000\">'bài tập đường tròn ngoại tiếp nội tiếp lớp 9'</span>,\n",
       "<span style=\"color: #7fbf7f; text-decoration-color: #7fbf7f\">│   </span><span style=\"color: #008000; text-decoration-color: #008000\">'chuyên đề đường tròn ngoại tiếp và nội tiếp'</span>,\n",
       "<span style=\"color: #7fbf7f; text-decoration-color: #7fbf7f\">│   </span><span style=\"color: #008000; text-decoration-color: #008000\">'lý thuyết đường tròn ngoại tiếp và nội tiếp'</span>,\n",
       "<span style=\"color: #7fbf7f; text-decoration-color: #7fbf7f\">│   </span><span style=\"color: #008000; text-decoration-color: #008000\">'ứng dụng đường tròn ngoại tiếp trong hình học'</span>,\n",
       "<span style=\"color: #7fbf7f; text-decoration-color: #7fbf7f\">│   </span><span style=\"color: #008000; text-decoration-color: #008000\">'ứng dụng đường tròn nội tiếp trong hình học'</span>,\n",
       "<span style=\"color: #7fbf7f; text-decoration-color: #7fbf7f\">│   </span><span style=\"color: #008000; text-decoration-color: #008000\">'đường tròn ngoại tiếp tam giác vuông'</span>,\n",
       "<span style=\"color: #7fbf7f; text-decoration-color: #7fbf7f\">│   </span><span style=\"color: #008000; text-decoration-color: #008000\">'đường tròn nội tiếp tam giác đều'</span>,\n",
       "<span style=\"color: #7fbf7f; text-decoration-color: #7fbf7f\">│   </span><span style=\"color: #008000; text-decoration-color: #008000\">'tâm đường tròn ngoại tiếp là gì'</span>,\n",
       "<span style=\"color: #7fbf7f; text-decoration-color: #7fbf7f\">│   </span><span style=\"color: #008000; text-decoration-color: #008000\">'tâm đường tròn nội tiếp là gì'</span>,\n",
       "<span style=\"color: #7fbf7f; text-decoration-color: #7fbf7f\">│   </span><span style=\"color: #008000; text-decoration-color: #008000\">'quan hệ giữa đường tròn ngoại tiếp và nội tiếp'</span>,\n",
       "<span style=\"color: #7fbf7f; text-decoration-color: #7fbf7f\">│   </span><span style=\"color: #008000; text-decoration-color: #008000\">'phương pháp giải bài tập đường tròn ngoại tiếp'</span>,\n",
       "<span style=\"color: #7fbf7f; text-decoration-color: #7fbf7f\">│   </span><span style=\"color: #008000; text-decoration-color: #008000\">'phương pháp giải bài tập đường tròn nội tiếp'</span>,\n",
       "<span style=\"color: #7fbf7f; text-decoration-color: #7fbf7f\">│   </span><span style=\"color: #008000; text-decoration-color: #008000\">'đường tròn ngoại tiếp tứ giác'</span>,\n",
       "<span style=\"color: #7fbf7f; text-decoration-color: #7fbf7f\">│   </span><span style=\"color: #008000; text-decoration-color: #008000\">'đường tròn nội tiếp tứ giác'</span>,\n",
       "<span style=\"color: #7fbf7f; text-decoration-color: #7fbf7f\">│   </span><span style=\"color: #008000; text-decoration-color: #008000\">'ôn thi đường tròn ngoại tiếp nội tiếp'</span>\n",
       "<span style=\"font-weight: bold\">]</span>\n",
       "</pre>\n"
      ],
      "text/plain": [
       "\u001b[1m[\u001b[0m\n",
       "\u001b[2;32m│   \u001b[0m\u001b[32m'đường tròn ngoại tiếp và đường tròn nội tiếp'\u001b[0m,\n",
       "\u001b[2;32m│   \u001b[0m\u001b[32m'công thức đường tròn ngoại tiếp tam giác'\u001b[0m,\n",
       "\u001b[2;32m│   \u001b[0m\u001b[32m'công thức đường tròn nội tiếp tam giác'\u001b[0m,\n",
       "\u001b[2;32m│   \u001b[0m\u001b[32m'tính bán kính đường tròn ngoại tiếp'\u001b[0m,\n",
       "\u001b[2;32m│   \u001b[0m\u001b[32m'tính bán kính đường tròn nội tiếp'\u001b[0m,\n",
       "\u001b[2;32m│   \u001b[0m\u001b[32m'bài tập đường tròn ngoại tiếp nội tiếp lớp 9'\u001b[0m,\n",
       "\u001b[2;32m│   \u001b[0m\u001b[32m'chuyên đề đường tròn ngoại tiếp và nội tiếp'\u001b[0m,\n",
       "\u001b[2;32m│   \u001b[0m\u001b[32m'lý thuyết đường tròn ngoại tiếp và nội tiếp'\u001b[0m,\n",
       "\u001b[2;32m│   \u001b[0m\u001b[32m'ứng dụng đường tròn ngoại tiếp trong hình học'\u001b[0m,\n",
       "\u001b[2;32m│   \u001b[0m\u001b[32m'ứng dụng đường tròn nội tiếp trong hình học'\u001b[0m,\n",
       "\u001b[2;32m│   \u001b[0m\u001b[32m'đường tròn ngoại tiếp tam giác vuông'\u001b[0m,\n",
       "\u001b[2;32m│   \u001b[0m\u001b[32m'đường tròn nội tiếp tam giác đều'\u001b[0m,\n",
       "\u001b[2;32m│   \u001b[0m\u001b[32m'tâm đường tròn ngoại tiếp là gì'\u001b[0m,\n",
       "\u001b[2;32m│   \u001b[0m\u001b[32m'tâm đường tròn nội tiếp là gì'\u001b[0m,\n",
       "\u001b[2;32m│   \u001b[0m\u001b[32m'quan hệ giữa đường tròn ngoại tiếp và nội tiếp'\u001b[0m,\n",
       "\u001b[2;32m│   \u001b[0m\u001b[32m'phương pháp giải bài tập đường tròn ngoại tiếp'\u001b[0m,\n",
       "\u001b[2;32m│   \u001b[0m\u001b[32m'phương pháp giải bài tập đường tròn nội tiếp'\u001b[0m,\n",
       "\u001b[2;32m│   \u001b[0m\u001b[32m'đường tròn ngoại tiếp tứ giác'\u001b[0m,\n",
       "\u001b[2;32m│   \u001b[0m\u001b[32m'đường tròn nội tiếp tứ giác'\u001b[0m,\n",
       "\u001b[2;32m│   \u001b[0m\u001b[32m'ôn thi đường tròn ngoại tiếp nội tiếp'\u001b[0m\n",
       "\u001b[1m]\u001b[0m\n"
      ]
     },
     "metadata": {},
     "output_type": "display_data"
    },
    {
     "data": {
      "text/html": [
       "<pre style=\"white-space:pre;overflow-x:auto;line-height:normal;font-family:Menlo,'DejaVu Sans Mono',consolas,'Courier New',monospace\">\n",
       "<span style=\"color: #808000; text-decoration-color: #808000; font-weight: bold\">------- Hoàn thành bước: query_expansion -------</span>\n",
       "</pre>\n"
      ],
      "text/plain": [
       "\n",
       "\u001b[1;33m------- Hoàn thành bước: query_expansion -------\u001b[0m\n"
      ]
     },
     "metadata": {},
     "output_type": "display_data"
    },
    {
     "data": {
      "text/html": [
       "<pre style=\"white-space:pre;overflow-x:auto;line-height:normal;font-family:Menlo,'DejaVu Sans Mono',consolas,'Courier New',monospace\">\n",
       "<span style=\"color: #008080; text-decoration-color: #008080; font-weight: bold\">&gt;</span> `Agent: Resource Scout` <span style=\"font-weight: bold\">(</span>v8.<span style=\"color: #008080; text-decoration-color: #008080; font-weight: bold\">1</span> - Sửa lỗi<span style=\"font-weight: bold\">)</span> đang tìm kiếm và sàng lọc<span style=\"color: #808000; text-decoration-color: #808000\">...</span>\n",
       "</pre>\n"
      ],
      "text/plain": [
       "\n",
       "\u001b[1;36m>\u001b[0m `Agent: Resource Scout` \u001b[1m(\u001b[0mv8.\u001b[1;36m1\u001b[0m - Sửa lỗi\u001b[1m)\u001b[0m đang tìm kiếm và sàng lọc\u001b[33m...\u001b[0m\n"
      ]
     },
     "metadata": {},
     "output_type": "display_data"
    },
    {
     "data": {
      "text/html": [
       "<pre style=\"white-space:pre;overflow-x:auto;line-height:normal;font-family:Menlo,'DejaVu Sans Mono',consolas,'Courier New',monospace\">\n",
       "<span style=\"color: #008080; text-decoration-color: #008080; font-weight: bold\">&gt;</span> Tìm thấy <span style=\"color: #008080; text-decoration-color: #008080; font-weight: bold\">100</span> tài liệu, sàng lọc còn <span style=\"color: #008080; text-decoration-color: #008080; font-weight: bold\">8</span> đoạn văn bản độc nhất.\n",
       "</pre>\n"
      ],
      "text/plain": [
       "\n",
       "\u001b[1;36m>\u001b[0m Tìm thấy \u001b[1;36m100\u001b[0m tài liệu, sàng lọc còn \u001b[1;36m8\u001b[0m đoạn văn bản độc nhất.\n"
      ]
     },
     "metadata": {},
     "output_type": "display_data"
    },
    {
     "data": {
      "text/html": [
       "<pre style=\"white-space:pre;overflow-x:auto;line-height:normal;font-family:Menlo,'DejaVu Sans Mono',consolas,'Courier New',monospace\"><span style=\"color: #008000; text-decoration-color: #008000; font-weight: bold\">✔️ Tài liệu RAG cuối cùng:</span>\n",
       "</pre>\n"
      ],
      "text/plain": [
       "\u001b[1;32m✔️ Tài liệu RAG cuối cùng:\u001b[0m\n"
      ]
     },
     "metadata": {},
     "output_type": "display_data"
    },
    {
     "data": {
      "text/html": [
       "<pre style=\"white-space:pre;overflow-x:auto;line-height:normal;font-family:Menlo,'DejaVu Sans Mono',consolas,'Courier New',monospace\"><span style=\"font-weight: bold\">{</span>\n",
       "<span style=\"color: #7fbf7f; text-decoration-color: #7fbf7f\">│   </span><span style=\"color: #008000; text-decoration-color: #008000\">'source'</span>: <span style=\"color: #008000; text-decoration-color: #008000\">'Sách giáo khoa (từ RAG - đã sàng lọc)'</span>,\n",
       "<span style=\"color: #7fbf7f; text-decoration-color: #7fbf7f\">│   </span><span style=\"color: #008000; text-decoration-color: #008000\">'summary'</span>: <span style=\"color: #008000; text-decoration-color: #008000\">'Chào các em học sinh,\\n\\nVới vai trò là một giáo viên, thầy/cô đã đọc kỹ các đoạn văn bản được cung cấp và xin tổng hợp kiến thức cốt lõi về chủ đề \"Đường tròn ngoại tiếp và đường tròn nội tiếp\" dựa **chỉ** vào những thông tin này.\\n\\n**TÓM TẮT KIẾN THỨC CỐT LÕI VỀ CHỦ ĐỀ \"ĐƯỜNG TRÒN NGOẠI TIẾP VÀ ĐƯỜNG TRÒN NỘI TIẾP\"**\\n\\nDựa trên các đoạn văn bản đã cho, kiến thức cốt lõi có thể tổng hợp được như sau:\\n\\n**I. Về Đường tròn nội tiếp (liên quan đến khái niệm tiếp tuyến)**\\n\\nMặc dù các đoạn văn bản không trực tiếp định nghĩa \"đường tròn nội tiếp\", nhưng chúng cung cấp các khái niệm và tính chất quan trọng về \"tiếp tuyến\" của đường tròn. Khái niệm tiếp tuyến là yếu tố cốt lõi để hiểu về đường tròn nội tiếp (đường tròn nội tiếp là đường tròn tiếp xúc với các cạnh của đa giác).\\n\\n1.  **Định nghĩa Tiếp tuyến và Tiếp điểm:**\\n    *   Đường thẳng và đường tròn được gọi là **tiếp xúc với nhau** nếu chúng có đúng một điểm chung.\\n    *   Điểm chung duy nhất đó được gọi là **tiếp điểm**.\\n    *   Khi đó, đường thẳng đó còn được gọi là **tiếp tuyến** của đường tròn tại tiếp điểm.\\n\\n2.  **Dấu hiệu nhận biết Tiếp tuyến của đường tròn:**\\n    *   Nếu một đường thẳng đi qua một điểm trên một đường tròn và vuông góc với bán kính đi qua điểm đó, thì đường thẳng ấy là một tiếp tuyến của đường tròn.\\n\\n3.  **Mối quan hệ giữa khoảng cách từ tâm đến tiếp tuyến và bán kính:**\\n    *   Khi một đường thẳng là tiếp tuyến của đường tròn (O; R), khoảng cách (d) từ tâm O đến đường thẳng đó bằng bán kính R (tức là $d = R$).\\n\\n**II. Về Đường tròn ngoại tiếp**\\n\\nCác đoạn văn bản được cung cấp không chứa thông tin hay định nghĩa nào về \"đường tròn ngoại tiếp\". Do đó, không thể tổng hợp kiến thức về phần này dựa trên tài liệu đã cho.\\n\\n---\\nHy vọng bản tóm tắt này giúp các em nắm vững những kiến thức cơ bản được đề cập trong tài liệu.'</span>\n",
       "<span style=\"font-weight: bold\">}</span>\n",
       "</pre>\n"
      ],
      "text/plain": [
       "\u001b[1m{\u001b[0m\n",
       "\u001b[2;32m│   \u001b[0m\u001b[32m'source'\u001b[0m: \u001b[32m'Sách giáo khoa \u001b[0m\u001b[32m(\u001b[0m\u001b[32mtừ RAG - đã sàng lọc\u001b[0m\u001b[32m)\u001b[0m\u001b[32m'\u001b[0m,\n",
       "\u001b[2;32m│   \u001b[0m\u001b[32m'summary'\u001b[0m: \u001b[32m'Chào các em học sinh,\\n\\nVới vai trò là một giáo viên, thầy/cô đã đọc kỹ các đoạn văn bản được cung cấp và xin tổng hợp kiến thức cốt lõi về chủ đề \"Đường tròn ngoại tiếp và đường tròn nội tiếp\" dựa **chỉ** vào những thông tin này.\\n\\n**TÓM TẮT KIẾN THỨC CỐT LÕI VỀ CHỦ ĐỀ \"ĐƯỜNG TRÒN NGOẠI TIẾP VÀ ĐƯỜNG TRÒN NỘI TIẾP\"**\\n\\nDựa trên các đoạn văn bản đã cho, kiến thức cốt lõi có thể tổng hợp được như sau:\\n\\n**I. Về Đường tròn nội tiếp \u001b[0m\u001b[32m(\u001b[0m\u001b[32mliên quan đến khái niệm tiếp tuyến\u001b[0m\u001b[32m)\u001b[0m\u001b[32m**\\n\\nMặc dù các đoạn văn bản không trực tiếp định nghĩa \"đường tròn nội tiếp\", nhưng chúng cung cấp các khái niệm và tính chất quan trọng về \"tiếp tuyến\" của đường tròn. Khái niệm tiếp tuyến là yếu tố cốt lõi để hiểu về đường tròn nội tiếp \u001b[0m\u001b[32m(\u001b[0m\u001b[32mđường tròn nội tiếp là đường tròn tiếp xúc với các cạnh của đa giác\u001b[0m\u001b[32m)\u001b[0m\u001b[32m.\\n\\n1.  **Định nghĩa Tiếp tuyến và Tiếp điểm:**\\n    *   Đường thẳng và đường tròn được gọi là **tiếp xúc với nhau** nếu chúng có đúng một điểm chung.\\n    *   Điểm chung duy nhất đó được gọi là **tiếp điểm**.\\n    *   Khi đó, đường thẳng đó còn được gọi là **tiếp tuyến** của đường tròn tại tiếp điểm.\\n\\n2.  **Dấu hiệu nhận biết Tiếp tuyến của đường tròn:**\\n    *   Nếu một đường thẳng đi qua một điểm trên một đường tròn và vuông góc với bán kính đi qua điểm đó, thì đường thẳng ấy là một tiếp tuyến của đường tròn.\\n\\n3.  **Mối quan hệ giữa khoảng cách từ tâm đến tiếp tuyến và bán kính:**\\n    *   Khi một đường thẳng là tiếp tuyến của đường tròn \u001b[0m\u001b[32m(\u001b[0m\u001b[32mO; R\u001b[0m\u001b[32m)\u001b[0m\u001b[32m, khoảng cách \u001b[0m\u001b[32m(\u001b[0m\u001b[32md\u001b[0m\u001b[32m)\u001b[0m\u001b[32m từ tâm O đến đường thẳng đó bằng bán kính R \u001b[0m\u001b[32m(\u001b[0m\u001b[32mtức là $d = R$\u001b[0m\u001b[32m)\u001b[0m\u001b[32m.\\n\\n**II. Về Đường tròn ngoại tiếp**\\n\\nCác đoạn văn bản được cung cấp không chứa thông tin hay định nghĩa nào về \"đường tròn ngoại tiếp\". Do đó, không thể tổng hợp kiến thức về phần này dựa trên tài liệu đã cho.\\n\\n---\\nHy vọng bản tóm tắt này giúp các em nắm vững những kiến thức cơ bản được đề cập trong tài liệu.'\u001b[0m\n",
       "\u001b[1m}\u001b[0m\n"
      ]
     },
     "metadata": {},
     "output_type": "display_data"
    },
    {
     "data": {
      "text/html": [
       "<pre style=\"white-space:pre;overflow-x:auto;line-height:normal;font-family:Menlo,'DejaVu Sans Mono',consolas,'Courier New',monospace\">\n",
       "<span style=\"color: #808000; text-decoration-color: #808000; font-weight: bold\">------- Hoàn thành bước: resource_scout -------</span>\n",
       "</pre>\n"
      ],
      "text/plain": [
       "\n",
       "\u001b[1;33m------- Hoàn thành bước: resource_scout -------\u001b[0m\n"
      ]
     },
     "metadata": {},
     "output_type": "display_data"
    },
    {
     "data": {
      "text/html": [
       "<pre style=\"white-space:pre;overflow-x:auto;line-height:normal;font-family:Menlo,'DejaVu Sans Mono',consolas,'Courier New',monospace\">\n",
       "<span style=\"color: #008080; text-decoration-color: #008080; font-weight: bold\">&gt;</span> `Agent: Plan Delegator` <span style=\"font-weight: bold\">(</span>v8.<span style=\"color: #008080; text-decoration-color: #008080; font-weight: bold\">2</span> - Siêu cụ thể<span style=\"font-weight: bold\">)</span> đang triển khai Bản thiết kế<span style=\"color: #808000; text-decoration-color: #808000\">...</span>\n",
       "</pre>\n"
      ],
      "text/plain": [
       "\n",
       "\u001b[1;36m>\u001b[0m `Agent: Plan Delegator` \u001b[1m(\u001b[0mv8.\u001b[1;36m2\u001b[0m - Siêu cụ thể\u001b[1m)\u001b[0m đang triển khai Bản thiết kế\u001b[33m...\u001b[0m\n"
      ]
     },
     "metadata": {},
     "output_type": "display_data"
    },
    {
     "data": {
      "text/html": [
       "<pre style=\"white-space:pre;overflow-x:auto;line-height:normal;font-family:Menlo,'DejaVu Sans Mono',consolas,'Courier New',monospace\"><span style=\"color: #008000; text-decoration-color: #008000; font-weight: bold\">✔️ Đã tạo </span><span style=\"color: #008000; text-decoration-color: #008000; font-weight: bold\">5</span><span style=\"color: #008000; text-decoration-color: #008000; font-weight: bold\"> nhiệm vụ chi tiết:</span>\n",
       "</pre>\n"
      ],
      "text/plain": [
       "\u001b[1;32m✔️ Đã tạo \u001b[0m\u001b[1;32m5\u001b[0m\u001b[1;32m nhiệm vụ chi tiết:\u001b[0m\n"
      ]
     },
     "metadata": {},
     "output_type": "display_data"
    },
    {
     "data": {
      "text/html": [
       "<pre style=\"white-space:pre;overflow-x:auto;line-height:normal;font-family:Menlo,'DejaVu Sans Mono',consolas,'Courier New',monospace\"><span style=\"font-weight: bold\">[</span>\n",
       "<span style=\"color: #7fbf7f; text-decoration-color: #7fbf7f\">│   </span><span style=\"font-weight: bold\">{</span>\n",
       "<span style=\"color: #7fbf7f; text-decoration-color: #7fbf7f\">│   │   </span><span style=\"color: #008000; text-decoration-color: #008000\">'task_id'</span>: <span style=\"color: #008080; text-decoration-color: #008080; font-weight: bold\">0</span>,\n",
       "<span style=\"color: #7fbf7f; text-decoration-color: #7fbf7f\">│   │   </span><span style=\"color: #008000; text-decoration-color: #008000\">'task_name'</span>: <span style=\"color: #008000; text-decoration-color: #008000\">'Khám phá vấn đề: Đường tròn ngoại tiếp và nội tiếp'</span>,\n",
       "<span style=\"color: #7fbf7f; text-decoration-color: #7fbf7f\">│   │   </span><span style=\"color: #008000; text-decoration-color: #008000\">'task_description'</span>: <span style=\"color: #008000; text-decoration-color: #008000\">'Học sinh quan sát hình ảnh, video hoặc vật thật (ví dụ: miếng bìa hình tam giác và sợi dây), thảo luận nhóm để đưa ra các suy đoán ban đầu về cách vẽ một đường tròn đi qua ba đỉnh của tam giác hoặc tiếp xúc với ba cạnh của tam giác.'</span>,\n",
       "<span style=\"color: #7fbf7f; text-decoration-color: #7fbf7f\">│   │   </span><span style=\"color: #008000; text-decoration-color: #008000\">'estimated_duration'</span>: <span style=\"color: #008080; text-decoration-color: #008080; font-weight: bold\">15</span>,\n",
       "<span style=\"color: #7fbf7f; text-decoration-color: #7fbf7f\">│   │   </span><span style=\"color: #008000; text-decoration-color: #008000\">'status'</span>: <span style=\"color: #008000; text-decoration-color: #008000\">'pending'</span>\n",
       "<span style=\"color: #7fbf7f; text-decoration-color: #7fbf7f\">│   </span><span style=\"font-weight: bold\">}</span>,\n",
       "<span style=\"color: #7fbf7f; text-decoration-color: #7fbf7f\">│   </span><span style=\"font-weight: bold\">{</span>\n",
       "<span style=\"color: #7fbf7f; text-decoration-color: #7fbf7f\">│   │   </span><span style=\"color: #008000; text-decoration-color: #008000\">'task_id'</span>: <span style=\"color: #008080; text-decoration-color: #008080; font-weight: bold\">1</span>,\n",
       "<span style=\"color: #7fbf7f; text-decoration-color: #7fbf7f\">│   │   </span><span style=\"color: #008000; text-decoration-color: #008000\">'task_name'</span>: <span style=\"color: #008000; text-decoration-color: #008000\">'Xây dựng kiến thức: Xác định và vẽ Đường tròn ngoại tiếp'</span>,\n",
       "<span style=\"color: #7fbf7f; text-decoration-color: #7fbf7f\">│   │   </span><span style=\"color: #008000; text-decoration-color: #008000\">'task_description'</span>: <span style=\"color: #008000; text-decoration-color: #008000\">'Theo hướng dẫn trên phiếu học tập, học sinh vẽ các đường trung trực của tam giác, xác định giao điểm của chúng (tâm đường tròn ngoại tiếp), và vẽ đường tròn đi qua ba đỉnh của tam giác. Học sinh thảo luận nhóm để ghi nhận các bước thực hiện và kết quả.'</span>,\n",
       "<span style=\"color: #7fbf7f; text-decoration-color: #7fbf7f\">│   │   </span><span style=\"color: #008000; text-decoration-color: #008000\">'estimated_duration'</span>: <span style=\"color: #008080; text-decoration-color: #008080; font-weight: bold\">25</span>,\n",
       "<span style=\"color: #7fbf7f; text-decoration-color: #7fbf7f\">│   │   </span><span style=\"color: #008000; text-decoration-color: #008000\">'status'</span>: <span style=\"color: #008000; text-decoration-color: #008000\">'pending'</span>\n",
       "<span style=\"color: #7fbf7f; text-decoration-color: #7fbf7f\">│   </span><span style=\"font-weight: bold\">}</span>,\n",
       "<span style=\"color: #7fbf7f; text-decoration-color: #7fbf7f\">│   </span><span style=\"font-weight: bold\">{</span>\n",
       "<span style=\"color: #7fbf7f; text-decoration-color: #7fbf7f\">│   │   </span><span style=\"color: #008000; text-decoration-color: #008000\">'task_id'</span>: <span style=\"color: #008080; text-decoration-color: #008080; font-weight: bold\">2</span>,\n",
       "<span style=\"color: #7fbf7f; text-decoration-color: #7fbf7f\">│   │   </span><span style=\"color: #008000; text-decoration-color: #008000\">'task_name'</span>: <span style=\"color: #008000; text-decoration-color: #008000\">'Xây dựng kiến thức: Xác định và vẽ Đường tròn nội tiếp'</span>,\n",
       "<span style=\"color: #7fbf7f; text-decoration-color: #7fbf7f\">│   │   </span><span style=\"color: #008000; text-decoration-color: #008000\">'task_description'</span>: <span style=\"color: #008000; text-decoration-color: #008000\">'Tiếp tục với phiếu học tập mới, học sinh vẽ các đường phân giác của tam giác, xác định giao điểm của chúng (tâm đường tròn nội tiếp), và vẽ đường tròn tiếp xúc với ba cạnh của tam giác. Học sinh so sánh điểm giống và khác nhau giữa đường tròn ngoại tiếp và nội tiếp.'</span>,\n",
       "<span style=\"color: #7fbf7f; text-decoration-color: #7fbf7f\">│   │   </span><span style=\"color: #008000; text-decoration-color: #008000\">'estimated_duration'</span>: <span style=\"color: #008080; text-decoration-color: #008080; font-weight: bold\">25</span>,\n",
       "<span style=\"color: #7fbf7f; text-decoration-color: #7fbf7f\">│   │   </span><span style=\"color: #008000; text-decoration-color: #008000\">'status'</span>: <span style=\"color: #008000; text-decoration-color: #008000\">'pending'</span>\n",
       "<span style=\"color: #7fbf7f; text-decoration-color: #7fbf7f\">│   </span><span style=\"font-weight: bold\">}</span>,\n",
       "<span style=\"color: #7fbf7f; text-decoration-color: #7fbf7f\">│   </span><span style=\"font-weight: bold\">{</span>\n",
       "<span style=\"color: #7fbf7f; text-decoration-color: #7fbf7f\">│   │   </span><span style=\"color: #008000; text-decoration-color: #008000\">'task_id'</span>: <span style=\"color: #008080; text-decoration-color: #008080; font-weight: bold\">3</span>,\n",
       "<span style=\"color: #7fbf7f; text-decoration-color: #7fbf7f\">│   │   </span><span style=\"color: #008000; text-decoration-color: #008000\">'task_name'</span>: <span style=\"color: #008000; text-decoration-color: #008000\">'Luyện tập và Vận dụng: Giải bài tập về Đường tròn ngoại tiếp và nội tiếp'</span>,\n",
       "<span style=\"color: #7fbf7f; text-decoration-color: #7fbf7f\">│   │   </span><span style=\"color: #008000; text-decoration-color: #008000\">'task_description'</span>: <span style=\"color: #008000; text-decoration-color: #008000\">'Học sinh làm việc nhóm để giải các bài tập đa dạng (bao gồm tính toán bán kính, xác định vị trí tâm, chứng minh tính chất) liên quan đến đường tròn ngoại tiếp và nội tiếp. Đại diện các nhóm trình bày cách giải và nhận phản hồi từ giáo viên và các nhóm khác.'</span>,\n",
       "<span style=\"color: #7fbf7f; text-decoration-color: #7fbf7f\">│   │   </span><span style=\"color: #008000; text-decoration-color: #008000\">'estimated_duration'</span>: <span style=\"color: #008080; text-decoration-color: #008080; font-weight: bold\">15</span>,\n",
       "<span style=\"color: #7fbf7f; text-decoration-color: #7fbf7f\">│   │   </span><span style=\"color: #008000; text-decoration-color: #008000\">'status'</span>: <span style=\"color: #008000; text-decoration-color: #008000\">'pending'</span>\n",
       "<span style=\"color: #7fbf7f; text-decoration-color: #7fbf7f\">│   </span><span style=\"font-weight: bold\">}</span>,\n",
       "<span style=\"color: #7fbf7f; text-decoration-color: #7fbf7f\">│   </span><span style=\"font-weight: bold\">{</span>\n",
       "<span style=\"color: #7fbf7f; text-decoration-color: #7fbf7f\">│   │   </span><span style=\"color: #008000; text-decoration-color: #008000\">'task_id'</span>: <span style=\"color: #008080; text-decoration-color: #008080; font-weight: bold\">4</span>,\n",
       "<span style=\"color: #7fbf7f; text-decoration-color: #7fbf7f\">│   │   </span><span style=\"color: #008000; text-decoration-color: #008000\">'task_name'</span>: <span style=\"color: #008000; text-decoration-color: #008000\">'Tổng kết và Củng cố kiến thức'</span>,\n",
       "<span style=\"color: #7fbf7f; text-decoration-color: #7fbf7f\">│   │   </span><span style=\"color: #008000; text-decoration-color: #008000\">'task_description'</span>: <span style=\"color: #008000; text-decoration-color: #008000\">'Học sinh tham gia trò chơi nhỏ hoặc chuỗi câu hỏi trắc nghiệm nhanh để kiểm tra sự hiểu bài về định nghĩa, tính chất, cách xác định tâm và bán kính của đường tròn ngoại tiếp và nội tiếp. Học sinh ghi nhận bài tập về nhà có phân hóa để tự luyện tập thêm.'</span>,\n",
       "<span style=\"color: #7fbf7f; text-decoration-color: #7fbf7f\">│   │   </span><span style=\"color: #008000; text-decoration-color: #008000\">'estimated_duration'</span>: <span style=\"color: #008080; text-decoration-color: #008080; font-weight: bold\">10</span>,\n",
       "<span style=\"color: #7fbf7f; text-decoration-color: #7fbf7f\">│   │   </span><span style=\"color: #008000; text-decoration-color: #008000\">'status'</span>: <span style=\"color: #008000; text-decoration-color: #008000\">'pending'</span>\n",
       "<span style=\"color: #7fbf7f; text-decoration-color: #7fbf7f\">│   </span><span style=\"font-weight: bold\">}</span>\n",
       "<span style=\"font-weight: bold\">]</span>\n",
       "</pre>\n"
      ],
      "text/plain": [
       "\u001b[1m[\u001b[0m\n",
       "\u001b[2;32m│   \u001b[0m\u001b[1m{\u001b[0m\n",
       "\u001b[2;32m│   │   \u001b[0m\u001b[32m'task_id'\u001b[0m: \u001b[1;36m0\u001b[0m,\n",
       "\u001b[2;32m│   │   \u001b[0m\u001b[32m'task_name'\u001b[0m: \u001b[32m'Khám phá vấn đề: Đường tròn ngoại tiếp và nội tiếp'\u001b[0m,\n",
       "\u001b[2;32m│   │   \u001b[0m\u001b[32m'task_description'\u001b[0m: \u001b[32m'Học sinh quan sát hình ảnh, video hoặc vật thật \u001b[0m\u001b[32m(\u001b[0m\u001b[32mví dụ: miếng bìa hình tam giác và sợi dây\u001b[0m\u001b[32m)\u001b[0m\u001b[32m, thảo luận nhóm để đưa ra các suy đoán ban đầu về cách vẽ một đường tròn đi qua ba đỉnh của tam giác hoặc tiếp xúc với ba cạnh của tam giác.'\u001b[0m,\n",
       "\u001b[2;32m│   │   \u001b[0m\u001b[32m'estimated_duration'\u001b[0m: \u001b[1;36m15\u001b[0m,\n",
       "\u001b[2;32m│   │   \u001b[0m\u001b[32m'status'\u001b[0m: \u001b[32m'pending'\u001b[0m\n",
       "\u001b[2;32m│   \u001b[0m\u001b[1m}\u001b[0m,\n",
       "\u001b[2;32m│   \u001b[0m\u001b[1m{\u001b[0m\n",
       "\u001b[2;32m│   │   \u001b[0m\u001b[32m'task_id'\u001b[0m: \u001b[1;36m1\u001b[0m,\n",
       "\u001b[2;32m│   │   \u001b[0m\u001b[32m'task_name'\u001b[0m: \u001b[32m'Xây dựng kiến thức: Xác định và vẽ Đường tròn ngoại tiếp'\u001b[0m,\n",
       "\u001b[2;32m│   │   \u001b[0m\u001b[32m'task_description'\u001b[0m: \u001b[32m'Theo hướng dẫn trên phiếu học tập, học sinh vẽ các đường trung trực của tam giác, xác định giao điểm của chúng \u001b[0m\u001b[32m(\u001b[0m\u001b[32mtâm đường tròn ngoại tiếp\u001b[0m\u001b[32m)\u001b[0m\u001b[32m, và vẽ đường tròn đi qua ba đỉnh của tam giác. Học sinh thảo luận nhóm để ghi nhận các bước thực hiện và kết quả.'\u001b[0m,\n",
       "\u001b[2;32m│   │   \u001b[0m\u001b[32m'estimated_duration'\u001b[0m: \u001b[1;36m25\u001b[0m,\n",
       "\u001b[2;32m│   │   \u001b[0m\u001b[32m'status'\u001b[0m: \u001b[32m'pending'\u001b[0m\n",
       "\u001b[2;32m│   \u001b[0m\u001b[1m}\u001b[0m,\n",
       "\u001b[2;32m│   \u001b[0m\u001b[1m{\u001b[0m\n",
       "\u001b[2;32m│   │   \u001b[0m\u001b[32m'task_id'\u001b[0m: \u001b[1;36m2\u001b[0m,\n",
       "\u001b[2;32m│   │   \u001b[0m\u001b[32m'task_name'\u001b[0m: \u001b[32m'Xây dựng kiến thức: Xác định và vẽ Đường tròn nội tiếp'\u001b[0m,\n",
       "\u001b[2;32m│   │   \u001b[0m\u001b[32m'task_description'\u001b[0m: \u001b[32m'Tiếp tục với phiếu học tập mới, học sinh vẽ các đường phân giác của tam giác, xác định giao điểm của chúng \u001b[0m\u001b[32m(\u001b[0m\u001b[32mtâm đường tròn nội tiếp\u001b[0m\u001b[32m)\u001b[0m\u001b[32m, và vẽ đường tròn tiếp xúc với ba cạnh của tam giác. Học sinh so sánh điểm giống và khác nhau giữa đường tròn ngoại tiếp và nội tiếp.'\u001b[0m,\n",
       "\u001b[2;32m│   │   \u001b[0m\u001b[32m'estimated_duration'\u001b[0m: \u001b[1;36m25\u001b[0m,\n",
       "\u001b[2;32m│   │   \u001b[0m\u001b[32m'status'\u001b[0m: \u001b[32m'pending'\u001b[0m\n",
       "\u001b[2;32m│   \u001b[0m\u001b[1m}\u001b[0m,\n",
       "\u001b[2;32m│   \u001b[0m\u001b[1m{\u001b[0m\n",
       "\u001b[2;32m│   │   \u001b[0m\u001b[32m'task_id'\u001b[0m: \u001b[1;36m3\u001b[0m,\n",
       "\u001b[2;32m│   │   \u001b[0m\u001b[32m'task_name'\u001b[0m: \u001b[32m'Luyện tập và Vận dụng: Giải bài tập về Đường tròn ngoại tiếp và nội tiếp'\u001b[0m,\n",
       "\u001b[2;32m│   │   \u001b[0m\u001b[32m'task_description'\u001b[0m: \u001b[32m'Học sinh làm việc nhóm để giải các bài tập đa dạng \u001b[0m\u001b[32m(\u001b[0m\u001b[32mbao gồm tính toán bán kính, xác định vị trí tâm, chứng minh tính chất\u001b[0m\u001b[32m)\u001b[0m\u001b[32m liên quan đến đường tròn ngoại tiếp và nội tiếp. Đại diện các nhóm trình bày cách giải và nhận phản hồi từ giáo viên và các nhóm khác.'\u001b[0m,\n",
       "\u001b[2;32m│   │   \u001b[0m\u001b[32m'estimated_duration'\u001b[0m: \u001b[1;36m15\u001b[0m,\n",
       "\u001b[2;32m│   │   \u001b[0m\u001b[32m'status'\u001b[0m: \u001b[32m'pending'\u001b[0m\n",
       "\u001b[2;32m│   \u001b[0m\u001b[1m}\u001b[0m,\n",
       "\u001b[2;32m│   \u001b[0m\u001b[1m{\u001b[0m\n",
       "\u001b[2;32m│   │   \u001b[0m\u001b[32m'task_id'\u001b[0m: \u001b[1;36m4\u001b[0m,\n",
       "\u001b[2;32m│   │   \u001b[0m\u001b[32m'task_name'\u001b[0m: \u001b[32m'Tổng kết và Củng cố kiến thức'\u001b[0m,\n",
       "\u001b[2;32m│   │   \u001b[0m\u001b[32m'task_description'\u001b[0m: \u001b[32m'Học sinh tham gia trò chơi nhỏ hoặc chuỗi câu hỏi trắc nghiệm nhanh để kiểm tra sự hiểu bài về định nghĩa, tính chất, cách xác định tâm và bán kính của đường tròn ngoại tiếp và nội tiếp. Học sinh ghi nhận bài tập về nhà có phân hóa để tự luyện tập thêm.'\u001b[0m,\n",
       "\u001b[2;32m│   │   \u001b[0m\u001b[32m'estimated_duration'\u001b[0m: \u001b[1;36m10\u001b[0m,\n",
       "\u001b[2;32m│   │   \u001b[0m\u001b[32m'status'\u001b[0m: \u001b[32m'pending'\u001b[0m\n",
       "\u001b[2;32m│   \u001b[0m\u001b[1m}\u001b[0m\n",
       "\u001b[1m]\u001b[0m\n"
      ]
     },
     "metadata": {},
     "output_type": "display_data"
    },
    {
     "data": {
      "text/html": [
       "<pre style=\"white-space:pre;overflow-x:auto;line-height:normal;font-family:Menlo,'DejaVu Sans Mono',consolas,'Courier New',monospace\">\n",
       "<span style=\"color: #808000; text-decoration-color: #808000; font-weight: bold\">------- Hoàn thành bước: plan_delegator -------</span>\n",
       "</pre>\n"
      ],
      "text/plain": [
       "\n",
       "\u001b[1;33m------- Hoàn thành bước: plan_delegator -------\u001b[0m\n"
      ]
     },
     "metadata": {},
     "output_type": "display_data"
    },
    {
     "data": {
      "text/html": [
       "<pre style=\"white-space:pre;overflow-x:auto;line-height:normal;font-family:Menlo,'DejaVu Sans Mono',consolas,'Courier New',monospace\">\n",
       "<span style=\"color: #008080; text-decoration-color: #008080; font-weight: bold\">&gt;</span> `Router`: Đang kiểm tra nhiệm vụ<span style=\"color: #808000; text-decoration-color: #808000\">...</span>\n",
       "</pre>\n"
      ],
      "text/plain": [
       "\n",
       "\u001b[1;36m>\u001b[0m `Router`: Đang kiểm tra nhiệm vụ\u001b[33m...\u001b[0m\n"
      ]
     },
     "metadata": {},
     "output_type": "display_data"
    },
    {
     "data": {
      "text/html": [
       "<pre style=\"white-space:pre;overflow-x:auto;line-height:normal;font-family:Menlo,'DejaVu Sans Mono',consolas,'Courier New',monospace\">\n",
       "<span style=\"color: #008080; text-decoration-color: #008080; font-weight: bold\">&gt;</span> Nhiệm vụ tiếp theo: <span style=\"color: #008000; text-decoration-color: #008000\">'Khám phá vấn đề: Đường tròn ngoại tiếp và nội tiếp'</span> <span style=\"font-weight: bold\">(</span>ID: <span style=\"color: #008080; text-decoration-color: #008080; font-weight: bold\">0</span><span style=\"font-weight: bold\">)</span>\n",
       "</pre>\n"
      ],
      "text/plain": [
       "\n",
       "\u001b[1;36m>\u001b[0m Nhiệm vụ tiếp theo: \u001b[32m'Khám phá vấn đề: Đường tròn ngoại tiếp và nội tiếp'\u001b[0m \u001b[1m(\u001b[0mID: \u001b[1;36m0\u001b[0m\u001b[1m)\u001b[0m\n"
      ]
     },
     "metadata": {},
     "output_type": "display_data"
    },
    {
     "data": {
      "text/html": [
       "<pre style=\"white-space:pre;overflow-x:auto;line-height:normal;font-family:Menlo,'DejaVu Sans Mono',consolas,'Courier New',monospace\">\n",
       "<span style=\"color: #808000; text-decoration-color: #808000; font-weight: bold\">------- Hoàn thành bước: task_router -------</span>\n",
       "</pre>\n"
      ],
      "text/plain": [
       "\n",
       "\u001b[1;33m------- Hoàn thành bước: task_router -------\u001b[0m\n"
      ]
     },
     "metadata": {},
     "output_type": "display_data"
    },
    {
     "data": {
      "text/html": [
       "<pre style=\"white-space:pre;overflow-x:auto;line-height:normal;font-family:Menlo,'DejaVu Sans Mono',consolas,'Courier New',monospace\">\n",
       "<span style=\"color: #008080; text-decoration-color: #008080; font-weight: bold\">&gt;</span> `Agent: Task Dispatcher` <span style=\"font-weight: bold\">(</span>v7.<span style=\"color: #008080; text-decoration-color: #008080; font-weight: bold\">1</span><span style=\"font-weight: bold\">)</span> Bắt đầu<span style=\"color: #808000; text-decoration-color: #808000\">...</span>\n",
       "</pre>\n"
      ],
      "text/plain": [
       "\n",
       "\u001b[1;36m>\u001b[0m `Agent: Task Dispatcher` \u001b[1m(\u001b[0mv7.\u001b[1;36m1\u001b[0m\u001b[1m)\u001b[0m Bắt đầu\u001b[33m...\u001b[0m\n"
      ]
     },
     "metadata": {},
     "output_type": "display_data"
    },
    {
     "data": {
      "text/html": [
       "<pre style=\"white-space:pre;overflow-x:auto;line-height:normal;font-family:Menlo,'DejaVu Sans Mono',consolas,'Courier New',monospace\">\n",
       "<span style=\"color: #008080; text-decoration-color: #008080; font-weight: bold\">&gt;</span> --- 🚚 `Dispatcher`: Giao nhiệm vụ cho `activity_designer`.\n",
       "</pre>\n"
      ],
      "text/plain": [
       "\n",
       "\u001b[1;36m>\u001b[0m --- 🚚 `Dispatcher`: Giao nhiệm vụ cho `activity_designer`.\n"
      ]
     },
     "metadata": {},
     "output_type": "display_data"
    },
    {
     "data": {
      "text/html": [
       "<pre style=\"white-space:pre;overflow-x:auto;line-height:normal;font-family:Menlo,'DejaVu Sans Mono',consolas,'Courier New',monospace\">\n",
       "<span style=\"color: #808000; text-decoration-color: #808000; font-weight: bold\">------- Hoàn thành bước: task_dispatcher -------</span>\n",
       "</pre>\n"
      ],
      "text/plain": [
       "\n",
       "\u001b[1;33m------- Hoàn thành bước: task_dispatcher -------\u001b[0m\n"
      ]
     },
     "metadata": {},
     "output_type": "display_data"
    },
    {
     "data": {
      "text/html": [
       "<pre style=\"white-space:pre;overflow-x:auto;line-height:normal;font-family:Menlo,'DejaVu Sans Mono',consolas,'Courier New',monospace\">\n",
       "<span style=\"color: #008080; text-decoration-color: #008080; font-weight: bold\">&gt;</span> `Agent: Activity Designer` <span style=\"font-weight: bold\">(</span>v9.<span style=\"color: #008080; text-decoration-color: #008080; font-weight: bold\">0</span><span style=\"font-weight: bold\">)</span> đang tạo nội dung chi tiết và gợi ý phân hóa<span style=\"color: #808000; text-decoration-color: #808000\">...</span>\n",
       "</pre>\n"
      ],
      "text/plain": [
       "\n",
       "\u001b[1;36m>\u001b[0m `Agent: Activity Designer` \u001b[1m(\u001b[0mv9.\u001b[1;36m0\u001b[0m\u001b[1m)\u001b[0m đang tạo nội dung chi tiết và gợi ý phân hóa\u001b[33m...\u001b[0m\n"
      ]
     },
     "metadata": {},
     "output_type": "display_data"
    },
    {
     "data": {
      "text/html": [
       "<pre style=\"white-space:pre;overflow-x:auto;line-height:normal;font-family:Menlo,'DejaVu Sans Mono',consolas,'Courier New',monospace\"><span style=\"color: #008000; text-decoration-color: #008000; font-weight: bold\">✔️ Nội dung do Activity Designer tạo ra (có phân hóa):</span>\n",
       "</pre>\n"
      ],
      "text/plain": [
       "\u001b[1;32m✔️ Nội dung do Activity Designer tạo ra \u001b[0m\u001b[1;32m(\u001b[0m\u001b[1;32mcó phân hóa\u001b[0m\u001b[1;32m)\u001b[0m\u001b[1;32m:\u001b[0m\n"
      ]
     },
     "metadata": {},
     "output_type": "display_data"
    },
    {
     "data": {
      "text/html": [
       "<pre style=\"white-space:pre;overflow-x:auto;line-height:normal;font-family:Menlo,'DejaVu Sans Mono',consolas,'Courier New',monospace\"><span style=\"font-weight: bold\">{</span>\n",
       "<span style=\"color: #7fbf7f; text-decoration-color: #7fbf7f\">│   </span><span style=\"color: #008000; text-decoration-color: #008000\">'activity_name'</span>: <span style=\"color: #008000; text-decoration-color: #008000\">'Khám phá vấn đề: Đường tròn ngoại tiếp và nội tiếp'</span>,\n",
       "<span style=\"color: #7fbf7f; text-decoration-color: #7fbf7f\">│   </span><span style=\"color: #008000; text-decoration-color: #008000\">'description'</span>: <span style=\"color: #008000; text-decoration-color: #008000\">'Học sinh làm việc theo nhóm (3-4 người). Mỗi nhóm sẽ được cung cấp các hình ảnh, video minh họa hoặc vật thật (ví dụ: một miếng bìa hình tam giác, compa, thước kẻ, sợi dây). Nhiệm vụ của nhóm là:\\n1. Quan sát kỹ các tài liệu được cung cấp.\\n2. Thảo luận và đưa ra các suy đoán ban đầu về cách để vẽ một đường tròn đi qua ba đỉnh của tam giác (đường tròn ngoại tiếp).\\n3. Thảo luận và đưa ra các suy đoán ban đầu về cách để vẽ một đường tròn tiếp xúc với ba cạnh của tam giác (đường tròn nội tiếp).\\n4. Ghi lại các ý tưởng, các bước phỏng đoán và những câu hỏi nảy sinh trong quá trình thảo luận của nhóm vào phiếu học tập.'</span>,\n",
       "<span style=\"color: #7fbf7f; text-decoration-color: #7fbf7f\">│   </span><span style=\"color: #008000; text-decoration-color: #008000\">'duration_minutes'</span>: <span style=\"color: #008080; text-decoration-color: #008080; font-weight: bold\">15</span>,\n",
       "<span style=\"color: #7fbf7f; text-decoration-color: #7fbf7f\">│   </span><span style=\"color: #008000; text-decoration-color: #008000\">'activity_type'</span>: <span style=\"color: #008000; text-decoration-color: #008000\">'Thảo luận nhóm'</span>,\n",
       "<span style=\"color: #7fbf7f; text-decoration-color: #7fbf7f\">│   </span><span style=\"color: #008000; text-decoration-color: #008000\">'teacher_actions'</span>: <span style=\"font-weight: bold\">[</span>\n",
       "<span style=\"color: #7fbf7f; text-decoration-color: #7fbf7f\">│   │   </span><span style=\"color: #008000; text-decoration-color: #008000\">'Chuẩn bị và phân phát các tài liệu học tập (hình ảnh, video, tam giác bìa, compa, thước, sợi dây) cho từng nhóm.'</span>,\n",
       "<span style=\"color: #7fbf7f; text-decoration-color: #7fbf7f\">│   │   </span><span style=\"color: #008000; text-decoration-color: #008000\">'Phân chia học sinh thành các nhóm nhỏ (3-4 học sinh/nhóm).'</span>,\n",
       "<span style=\"color: #7fbf7f; text-decoration-color: #7fbf7f\">│   │   </span><span style=\"color: #008000; text-decoration-color: #008000\">'Giải thích rõ ràng nhiệm vụ và mục tiêu của hoạt động khám phá.'</span>,\n",
       "<span style=\"color: #7fbf7f; text-decoration-color: #7fbf7f\">│   │   </span><span style=\"color: #008000; text-decoration-color: #008000\">'Đi vòng quanh các nhóm, quan sát quá trình thảo luận và lắng nghe các ý tưởng của học sinh.'</span>,\n",
       "<span style=\"color: #7fbf7f; text-decoration-color: #7fbf7f\">│   │   </span><span style=\"color: #008000; text-decoration-color: #008000\">'Đặt câu hỏi gợi mở, khuyến khích học sinh suy nghĩ sâu hơn và chia sẻ ý tưởng.'</span>,\n",
       "<span style=\"color: #7fbf7f; text-decoration-color: #7fbf7f\">│   │   </span><span style=\"color: #008000; text-decoration-color: #008000\">'Ghi nhận các ý tưởng nổi bật hoặc các câu hỏi thường gặp của học sinh để chuẩn bị cho phần giới thiệu kiến thức mới.'</span>,\n",
       "<span style=\"color: #7fbf7f; text-decoration-color: #7fbf7f\">│   │   </span><span style=\"color: #008000; text-decoration-color: #008000\">'Yêu cầu đại diện một số nhóm trình bày nhanh ý tưởng ban đầu của nhóm mình.'</span>\n",
       "<span style=\"color: #7fbf7f; text-decoration-color: #7fbf7f\">│   </span><span style=\"font-weight: bold\">]</span>,\n",
       "<span style=\"color: #7fbf7f; text-decoration-color: #7fbf7f\">│   </span><span style=\"color: #008000; text-decoration-color: #008000\">'solution_guide'</span>: <span style=\"color: #008000; text-decoration-color: #008000\">'Các câu hỏi gợi mở cho học sinh:\\n- Để vẽ một đường tròn đi qua ba đỉnh của tam giác, tâm của đường tròn đó phải có tính chất gì đối với ba đỉnh đó?\\n- Để vẽ một đường tròn tiếp xúc với ba cạnh của tam giác, tâm của đường tròn đó phải có tính chất gì đối với ba cạnh đó?\\n- Các bạn có thể sử dụng dụng cụ nào (compa, thước, dây) để kiểm tra ý tưởng của mình?'</span>,\n",
       "<span style=\"color: #7fbf7f; text-decoration-color: #7fbf7f\">│   </span><span style=\"color: #008000; text-decoration-color: #008000\">'differentiation'</span>: <span style=\"font-weight: bold\">{</span>\n",
       "<span style=\"color: #7fbf7f; text-decoration-color: #7fbf7f\">│   │   </span><span style=\"color: #008000; text-decoration-color: #008000\">'for_struggling_students'</span>: <span style=\"color: #008000; text-decoration-color: #008000\">\"Cung cấp các tam giác bìa đã được đánh dấu sẵn một số điểm đặc biệt (ví dụ: trung điểm các cạnh, giao điểm các đường trung trực/phân giác) để gợi ý về vị trí tâm. Đặt các câu hỏi trực tiếp hơn như: 'Để đường tròn đi qua 3 đỉnh, tâm của nó phải cách đều những điểm nào?' hoặc 'Để đường tròn tiếp xúc 3 cạnh, tâm của nó phải cách đều những đường nào?'\"</span>,\n",
       "<span style=\"color: #7fbf7f; text-decoration-color: #7fbf7f\">│   │   </span><span style=\"color: #008000; text-decoration-color: #008000\">'for_advanced_students'</span>: <span style=\"color: #008000; text-decoration-color: #008000\">\"Thử thách học sinh suy nghĩ về tính duy nhất của các đường tròn này: 'Có bao nhiêu đường tròn có thể đi qua ba đỉnh của một tam giác? Tại sao?' hoặc 'Có phải mọi tam giác đều có đường tròn ngoại tiếp và nội tiếp không? Giải thích.' Khuyến khích các em suy nghĩ về cách chứng minh các suy đoán của mình.\"</span>\n",
       "<span style=\"color: #7fbf7f; text-decoration-color: #7fbf7f\">│   </span><span style=\"font-weight: bold\">}</span>\n",
       "<span style=\"font-weight: bold\">}</span>\n",
       "</pre>\n"
      ],
      "text/plain": [
       "\u001b[1m{\u001b[0m\n",
       "\u001b[2;32m│   \u001b[0m\u001b[32m'activity_name'\u001b[0m: \u001b[32m'Khám phá vấn đề: Đường tròn ngoại tiếp và nội tiếp'\u001b[0m,\n",
       "\u001b[2;32m│   \u001b[0m\u001b[32m'description'\u001b[0m: \u001b[32m'Học sinh làm việc theo nhóm \u001b[0m\u001b[32m(\u001b[0m\u001b[32m3-4 người\u001b[0m\u001b[32m)\u001b[0m\u001b[32m. Mỗi nhóm sẽ được cung cấp các hình ảnh, video minh họa hoặc vật thật \u001b[0m\u001b[32m(\u001b[0m\u001b[32mví dụ: một miếng bìa hình tam giác, compa, thước kẻ, sợi dây\u001b[0m\u001b[32m)\u001b[0m\u001b[32m. Nhiệm vụ của nhóm là:\\n1. Quan sát kỹ các tài liệu được cung cấp.\\n2. Thảo luận và đưa ra các suy đoán ban đầu về cách để vẽ một đường tròn đi qua ba đỉnh của tam giác \u001b[0m\u001b[32m(\u001b[0m\u001b[32mđường tròn ngoại tiếp\u001b[0m\u001b[32m)\u001b[0m\u001b[32m.\\n3. Thảo luận và đưa ra các suy đoán ban đầu về cách để vẽ một đường tròn tiếp xúc với ba cạnh của tam giác \u001b[0m\u001b[32m(\u001b[0m\u001b[32mđường tròn nội tiếp\u001b[0m\u001b[32m)\u001b[0m\u001b[32m.\\n4. Ghi lại các ý tưởng, các bước phỏng đoán và những câu hỏi nảy sinh trong quá trình thảo luận của nhóm vào phiếu học tập.'\u001b[0m,\n",
       "\u001b[2;32m│   \u001b[0m\u001b[32m'duration_minutes'\u001b[0m: \u001b[1;36m15\u001b[0m,\n",
       "\u001b[2;32m│   \u001b[0m\u001b[32m'activity_type'\u001b[0m: \u001b[32m'Thảo luận nhóm'\u001b[0m,\n",
       "\u001b[2;32m│   \u001b[0m\u001b[32m'teacher_actions'\u001b[0m: \u001b[1m[\u001b[0m\n",
       "\u001b[2;32m│   │   \u001b[0m\u001b[32m'Chuẩn bị và phân phát các tài liệu học tập \u001b[0m\u001b[32m(\u001b[0m\u001b[32mhình ảnh, video, tam giác bìa, compa, thước, sợi dây\u001b[0m\u001b[32m)\u001b[0m\u001b[32m cho từng nhóm.'\u001b[0m,\n",
       "\u001b[2;32m│   │   \u001b[0m\u001b[32m'Phân chia học sinh thành các nhóm nhỏ \u001b[0m\u001b[32m(\u001b[0m\u001b[32m3-4 học sinh/nhóm\u001b[0m\u001b[32m)\u001b[0m\u001b[32m.'\u001b[0m,\n",
       "\u001b[2;32m│   │   \u001b[0m\u001b[32m'Giải thích rõ ràng nhiệm vụ và mục tiêu của hoạt động khám phá.'\u001b[0m,\n",
       "\u001b[2;32m│   │   \u001b[0m\u001b[32m'Đi vòng quanh các nhóm, quan sát quá trình thảo luận và lắng nghe các ý tưởng của học sinh.'\u001b[0m,\n",
       "\u001b[2;32m│   │   \u001b[0m\u001b[32m'Đặt câu hỏi gợi mở, khuyến khích học sinh suy nghĩ sâu hơn và chia sẻ ý tưởng.'\u001b[0m,\n",
       "\u001b[2;32m│   │   \u001b[0m\u001b[32m'Ghi nhận các ý tưởng nổi bật hoặc các câu hỏi thường gặp của học sinh để chuẩn bị cho phần giới thiệu kiến thức mới.'\u001b[0m,\n",
       "\u001b[2;32m│   │   \u001b[0m\u001b[32m'Yêu cầu đại diện một số nhóm trình bày nhanh ý tưởng ban đầu của nhóm mình.'\u001b[0m\n",
       "\u001b[2;32m│   \u001b[0m\u001b[1m]\u001b[0m,\n",
       "\u001b[2;32m│   \u001b[0m\u001b[32m'solution_guide'\u001b[0m: \u001b[32m'Các câu hỏi gợi mở cho học sinh:\\n- Để vẽ một đường tròn đi qua ba đỉnh của tam giác, tâm của đường tròn đó phải có tính chất gì đối với ba đỉnh đó?\\n- Để vẽ một đường tròn tiếp xúc với ba cạnh của tam giác, tâm của đường tròn đó phải có tính chất gì đối với ba cạnh đó?\\n- Các bạn có thể sử dụng dụng cụ nào \u001b[0m\u001b[32m(\u001b[0m\u001b[32mcompa, thước, dây\u001b[0m\u001b[32m)\u001b[0m\u001b[32m để kiểm tra ý tưởng của mình?'\u001b[0m,\n",
       "\u001b[2;32m│   \u001b[0m\u001b[32m'differentiation'\u001b[0m: \u001b[1m{\u001b[0m\n",
       "\u001b[2;32m│   │   \u001b[0m\u001b[32m'for_struggling_students'\u001b[0m: \u001b[32m\"Cung cấp các tam giác bìa đã được đánh dấu sẵn một số điểm đặc biệt \u001b[0m\u001b[32m(\u001b[0m\u001b[32mví dụ: trung điểm các cạnh, giao điểm các đường trung trực/phân giác\u001b[0m\u001b[32m)\u001b[0m\u001b[32m để gợi ý về vị trí tâm. Đặt các câu hỏi trực tiếp hơn như: 'Để đường tròn đi qua 3 đỉnh, tâm của nó phải cách đều những điểm nào?' hoặc 'Để đường tròn tiếp xúc 3 cạnh, tâm của nó phải cách đều những đường nào?'\"\u001b[0m,\n",
       "\u001b[2;32m│   │   \u001b[0m\u001b[32m'for_advanced_students'\u001b[0m: \u001b[32m\"Thử thách học sinh suy nghĩ về tính duy nhất của các đường tròn này: 'Có bao nhiêu đường tròn có thể đi qua ba đỉnh của một tam giác? Tại sao?' hoặc 'Có phải mọi tam giác đều có đường tròn ngoại tiếp và nội tiếp không? Giải thích.' Khuyến khích các em suy nghĩ về cách chứng minh các suy đoán của mình.\"\u001b[0m\n",
       "\u001b[2;32m│   \u001b[0m\u001b[1m}\u001b[0m\n",
       "\u001b[1m}\u001b[0m\n"
      ]
     },
     "metadata": {},
     "output_type": "display_data"
    },
    {
     "data": {
      "text/html": [
       "<pre style=\"white-space:pre;overflow-x:auto;line-height:normal;font-family:Menlo,'DejaVu Sans Mono',consolas,'Courier New',monospace\">\n",
       "<span style=\"color: #808000; text-decoration-color: #808000; font-weight: bold\">------- Hoàn thành bước: activity_designer -------</span>\n",
       "</pre>\n"
      ],
      "text/plain": [
       "\n",
       "\u001b[1;33m------- Hoàn thành bước: activity_designer -------\u001b[0m\n"
      ]
     },
     "metadata": {},
     "output_type": "display_data"
    },
    {
     "data": {
      "text/html": [
       "<pre style=\"white-space:pre;overflow-x:auto;line-height:normal;font-family:Menlo,'DejaVu Sans Mono',consolas,'Courier New',monospace\">\n",
       "<span style=\"color: #008080; text-decoration-color: #008080; font-weight: bold\">&gt;</span> `Agent: Contextual Critic` <span style=\"font-weight: bold\">(</span>v7.<span style=\"color: #008080; text-decoration-color: #008080; font-weight: bold\">5</span><span style=\"font-weight: bold\">)</span> đang phản biện nội dung<span style=\"color: #808000; text-decoration-color: #808000\">...</span>\n",
       "</pre>\n"
      ],
      "text/plain": [
       "\n",
       "\u001b[1;36m>\u001b[0m `Agent: Contextual Critic` \u001b[1m(\u001b[0mv7.\u001b[1;36m5\u001b[0m\u001b[1m)\u001b[0m đang phản biện nội dung\u001b[33m...\u001b[0m\n"
      ]
     },
     "metadata": {},
     "output_type": "display_data"
    },
    {
     "data": {
      "text/html": [
       "<pre style=\"white-space:pre;overflow-x:auto;line-height:normal;font-family:Menlo,'DejaVu Sans Mono',consolas,'Courier New',monospace\">\n",
       "<span style=\"color: #008080; text-decoration-color: #008080; font-weight: bold\">&gt;</span> ✔️ CHUYÊN GIA PHẢN BIỆN: Nội dung hợp lệ!\n",
       "</pre>\n"
      ],
      "text/plain": [
       "\n",
       "\u001b[1;36m>\u001b[0m ✔️ CHUYÊN GIA PHẢN BIỆN: Nội dung hợp lệ!\n"
      ]
     },
     "metadata": {},
     "output_type": "display_data"
    },
    {
     "data": {
      "text/html": [
       "<pre style=\"white-space:pre;overflow-x:auto;line-height:normal;font-family:Menlo,'DejaVu Sans Mono',consolas,'Courier New',monospace\">\n",
       "<span style=\"color: #008080; text-decoration-color: #008080; font-weight: bold\">&gt;</span> ROUTER <span style=\"font-weight: bold\">(</span>Validation<span style=\"font-weight: bold\">)</span>: Nội dung được chấp thuận. Chuyển sang bước ghi nhận.\n",
       "</pre>\n"
      ],
      "text/plain": [
       "\n",
       "\u001b[1;36m>\u001b[0m ROUTER \u001b[1m(\u001b[0mValidation\u001b[1m)\u001b[0m: Nội dung được chấp thuận. Chuyển sang bước ghi nhận.\n"
      ]
     },
     "metadata": {},
     "output_type": "display_data"
    },
    {
     "data": {
      "text/html": [
       "<pre style=\"white-space:pre;overflow-x:auto;line-height:normal;font-family:Menlo,'DejaVu Sans Mono',consolas,'Courier New',monospace\">\n",
       "<span style=\"color: #808000; text-decoration-color: #808000; font-weight: bold\">------- Hoàn thành bước: content_validator -------</span>\n",
       "</pre>\n"
      ],
      "text/plain": [
       "\n",
       "\u001b[1;33m------- Hoàn thành bước: content_validator -------\u001b[0m\n"
      ]
     },
     "metadata": {},
     "output_type": "display_data"
    },
    {
     "data": {
      "text/html": [
       "<pre style=\"white-space:pre;overflow-x:auto;line-height:normal;font-family:Menlo,'DejaVu Sans Mono',consolas,'Courier New',monospace\">\n",
       "<span style=\"color: #008080; text-decoration-color: #008080; font-weight: bold\">&gt;</span> `Commiter`: Đang ghi nhận nội dung đã được xác thực<span style=\"color: #808000; text-decoration-color: #808000\">...</span>\n",
       "</pre>\n"
      ],
      "text/plain": [
       "\n",
       "\u001b[1;36m>\u001b[0m `Commiter`: Đang ghi nhận nội dung đã được xác thực\u001b[33m...\u001b[0m\n"
      ]
     },
     "metadata": {},
     "output_type": "display_data"
    },
    {
     "data": {
      "text/html": [
       "<pre style=\"white-space:pre;overflow-x:auto;line-height:normal;font-family:Menlo,'DejaVu Sans Mono',consolas,'Courier New',monospace\">\n",
       "<span style=\"color: #808000; text-decoration-color: #808000; font-weight: bold\">------- Hoàn thành bước: commit_validated_content -------</span>\n",
       "</pre>\n"
      ],
      "text/plain": [
       "\n",
       "\u001b[1;33m------- Hoàn thành bước: commit_validated_content -------\u001b[0m\n"
      ]
     },
     "metadata": {},
     "output_type": "display_data"
    },
    {
     "data": {
      "text/html": [
       "<pre style=\"white-space:pre;overflow-x:auto;line-height:normal;font-family:Menlo,'DejaVu Sans Mono',consolas,'Courier New',monospace\">\n",
       "<span style=\"color: #808000; text-decoration-color: #808000; font-weight: bold\">------- Hoàn thành bước: mark_task_complete -------</span>\n",
       "</pre>\n"
      ],
      "text/plain": [
       "\n",
       "\u001b[1;33m------- Hoàn thành bước: mark_task_complete -------\u001b[0m\n"
      ]
     },
     "metadata": {},
     "output_type": "display_data"
    },
    {
     "data": {
      "text/html": [
       "<pre style=\"white-space:pre;overflow-x:auto;line-height:normal;font-family:Menlo,'DejaVu Sans Mono',consolas,'Courier New',monospace\">\n",
       "<span style=\"color: #008080; text-decoration-color: #008080; font-weight: bold\">&gt;</span> <span style=\"color: #808000; text-decoration-color: #808000\">...</span>Đang nghỉ <span style=\"color: #008080; text-decoration-color: #008080; font-weight: bold\">2</span> giây để tránh vượt rate limit<span style=\"color: #808000; text-decoration-color: #808000\">...</span>\n",
       "</pre>\n"
      ],
      "text/plain": [
       "\n",
       "\u001b[1;36m>\u001b[0m \u001b[33m...\u001b[0mĐang nghỉ \u001b[1;36m2\u001b[0m giây để tránh vượt rate limit\u001b[33m...\u001b[0m\n"
      ]
     },
     "metadata": {},
     "output_type": "display_data"
    },
    {
     "data": {
      "text/html": [
       "<pre style=\"white-space:pre;overflow-x:auto;line-height:normal;font-family:Menlo,'DejaVu Sans Mono',consolas,'Courier New',monospace\">\n",
       "<span style=\"color: #808000; text-decoration-color: #808000; font-weight: bold\">------- Hoàn thành bước: delay_node -------</span>\n",
       "</pre>\n"
      ],
      "text/plain": [
       "\n",
       "\u001b[1;33m------- Hoàn thành bước: delay_node -------\u001b[0m\n"
      ]
     },
     "metadata": {},
     "output_type": "display_data"
    },
    {
     "data": {
      "text/html": [
       "<pre style=\"white-space:pre;overflow-x:auto;line-height:normal;font-family:Menlo,'DejaVu Sans Mono',consolas,'Courier New',monospace\">\n",
       "<span style=\"color: #008080; text-decoration-color: #008080; font-weight: bold\">&gt;</span> `Router`: Đang kiểm tra nhiệm vụ<span style=\"color: #808000; text-decoration-color: #808000\">...</span>\n",
       "</pre>\n"
      ],
      "text/plain": [
       "\n",
       "\u001b[1;36m>\u001b[0m `Router`: Đang kiểm tra nhiệm vụ\u001b[33m...\u001b[0m\n"
      ]
     },
     "metadata": {},
     "output_type": "display_data"
    },
    {
     "data": {
      "text/html": [
       "<pre style=\"white-space:pre;overflow-x:auto;line-height:normal;font-family:Menlo,'DejaVu Sans Mono',consolas,'Courier New',monospace\">\n",
       "<span style=\"color: #008080; text-decoration-color: #008080; font-weight: bold\">&gt;</span> Nhiệm vụ tiếp theo: <span style=\"color: #008000; text-decoration-color: #008000\">'Xây dựng kiến thức: Xác định và vẽ Đường tròn ngoại tiếp'</span> <span style=\"font-weight: bold\">(</span>ID: <span style=\"color: #008080; text-decoration-color: #008080; font-weight: bold\">1</span><span style=\"font-weight: bold\">)</span>\n",
       "</pre>\n"
      ],
      "text/plain": [
       "\n",
       "\u001b[1;36m>\u001b[0m Nhiệm vụ tiếp theo: \u001b[32m'Xây dựng kiến thức: Xác định và vẽ Đường tròn ngoại tiếp'\u001b[0m \u001b[1m(\u001b[0mID: \u001b[1;36m1\u001b[0m\u001b[1m)\u001b[0m\n"
      ]
     },
     "metadata": {},
     "output_type": "display_data"
    },
    {
     "data": {
      "text/html": [
       "<pre style=\"white-space:pre;overflow-x:auto;line-height:normal;font-family:Menlo,'DejaVu Sans Mono',consolas,'Courier New',monospace\">\n",
       "<span style=\"color: #808000; text-decoration-color: #808000; font-weight: bold\">------- Hoàn thành bước: task_router -------</span>\n",
       "</pre>\n"
      ],
      "text/plain": [
       "\n",
       "\u001b[1;33m------- Hoàn thành bước: task_router -------\u001b[0m\n"
      ]
     },
     "metadata": {},
     "output_type": "display_data"
    },
    {
     "data": {
      "text/html": [
       "<pre style=\"white-space:pre;overflow-x:auto;line-height:normal;font-family:Menlo,'DejaVu Sans Mono',consolas,'Courier New',monospace\">\n",
       "<span style=\"color: #008080; text-decoration-color: #008080; font-weight: bold\">&gt;</span> `Agent: Task Dispatcher` <span style=\"font-weight: bold\">(</span>v7.<span style=\"color: #008080; text-decoration-color: #008080; font-weight: bold\">1</span><span style=\"font-weight: bold\">)</span> Bắt đầu<span style=\"color: #808000; text-decoration-color: #808000\">...</span>\n",
       "</pre>\n"
      ],
      "text/plain": [
       "\n",
       "\u001b[1;36m>\u001b[0m `Agent: Task Dispatcher` \u001b[1m(\u001b[0mv7.\u001b[1;36m1\u001b[0m\u001b[1m)\u001b[0m Bắt đầu\u001b[33m...\u001b[0m\n"
      ]
     },
     "metadata": {},
     "output_type": "display_data"
    },
    {
     "data": {
      "text/html": [
       "<pre style=\"white-space:pre;overflow-x:auto;line-height:normal;font-family:Menlo,'DejaVu Sans Mono',consolas,'Courier New',monospace\">\n",
       "<span style=\"color: #008080; text-decoration-color: #008080; font-weight: bold\">&gt;</span> --- 🚚 `Dispatcher`: Giao nhiệm vụ cho `activity_designer`.\n",
       "</pre>\n"
      ],
      "text/plain": [
       "\n",
       "\u001b[1;36m>\u001b[0m --- 🚚 `Dispatcher`: Giao nhiệm vụ cho `activity_designer`.\n"
      ]
     },
     "metadata": {},
     "output_type": "display_data"
    },
    {
     "data": {
      "text/html": [
       "<pre style=\"white-space:pre;overflow-x:auto;line-height:normal;font-family:Menlo,'DejaVu Sans Mono',consolas,'Courier New',monospace\">\n",
       "<span style=\"color: #808000; text-decoration-color: #808000; font-weight: bold\">------- Hoàn thành bước: task_dispatcher -------</span>\n",
       "</pre>\n"
      ],
      "text/plain": [
       "\n",
       "\u001b[1;33m------- Hoàn thành bước: task_dispatcher -------\u001b[0m\n"
      ]
     },
     "metadata": {},
     "output_type": "display_data"
    },
    {
     "data": {
      "text/html": [
       "<pre style=\"white-space:pre;overflow-x:auto;line-height:normal;font-family:Menlo,'DejaVu Sans Mono',consolas,'Courier New',monospace\">\n",
       "<span style=\"color: #008080; text-decoration-color: #008080; font-weight: bold\">&gt;</span> `Agent: Activity Designer` <span style=\"font-weight: bold\">(</span>v9.<span style=\"color: #008080; text-decoration-color: #008080; font-weight: bold\">0</span><span style=\"font-weight: bold\">)</span> đang tạo nội dung chi tiết và gợi ý phân hóa<span style=\"color: #808000; text-decoration-color: #808000\">...</span>\n",
       "</pre>\n"
      ],
      "text/plain": [
       "\n",
       "\u001b[1;36m>\u001b[0m `Agent: Activity Designer` \u001b[1m(\u001b[0mv9.\u001b[1;36m0\u001b[0m\u001b[1m)\u001b[0m đang tạo nội dung chi tiết và gợi ý phân hóa\u001b[33m...\u001b[0m\n"
      ]
     },
     "metadata": {},
     "output_type": "display_data"
    },
    {
     "data": {
      "text/html": [
       "<pre style=\"white-space:pre;overflow-x:auto;line-height:normal;font-family:Menlo,'DejaVu Sans Mono',consolas,'Courier New',monospace\"><span style=\"color: #008000; text-decoration-color: #008000; font-weight: bold\">✔️ Nội dung do Activity Designer tạo ra (có phân hóa):</span>\n",
       "</pre>\n"
      ],
      "text/plain": [
       "\u001b[1;32m✔️ Nội dung do Activity Designer tạo ra \u001b[0m\u001b[1;32m(\u001b[0m\u001b[1;32mcó phân hóa\u001b[0m\u001b[1;32m)\u001b[0m\u001b[1;32m:\u001b[0m\n"
      ]
     },
     "metadata": {},
     "output_type": "display_data"
    },
    {
     "data": {
      "text/html": [
       "<pre style=\"white-space:pre;overflow-x:auto;line-height:normal;font-family:Menlo,'DejaVu Sans Mono',consolas,'Courier New',monospace\"><span style=\"font-weight: bold\">{</span>\n",
       "<span style=\"color: #7fbf7f; text-decoration-color: #7fbf7f\">│   </span><span style=\"color: #008000; text-decoration-color: #008000\">'activity_name'</span>: <span style=\"color: #008000; text-decoration-color: #008000\">'Xây dựng kiến thức: Xác định và vẽ Đường tròn ngoại tiếp'</span>,\n",
       "<span style=\"color: #7fbf7f; text-decoration-color: #7fbf7f\">│   </span><span style=\"color: #008000; text-decoration-color: #008000\">'description'</span>: <span style=\"color: #008000; text-decoration-color: #008000\">'Theo hướng dẫn trên phiếu học tập, học sinh vẽ các đường trung trực của tam giác, xác định giao điểm của chúng (tâm đường tròn ngoại tiếp), và vẽ đường tròn đi qua ba đỉnh của tam giác. Học sinh thảo luận nhóm để ghi nhận các bước thực hiện và kết quả.'</span>,\n",
       "<span style=\"color: #7fbf7f; text-decoration-color: #7fbf7f\">│   </span><span style=\"color: #008000; text-decoration-color: #008000\">'duration_minutes'</span>: <span style=\"color: #008080; text-decoration-color: #008080; font-weight: bold\">25</span>,\n",
       "<span style=\"color: #7fbf7f; text-decoration-color: #7fbf7f\">│   </span><span style=\"color: #008000; text-decoration-color: #008000\">'activity_type'</span>: <span style=\"color: #008000; text-decoration-color: #008000\">'Thực hành nhóm'</span>,\n",
       "<span style=\"color: #7fbf7f; text-decoration-color: #7fbf7f\">│   </span><span style=\"color: #008000; text-decoration-color: #008000\">'teacher_actions'</span>: <span style=\"font-weight: bold\">[</span>\n",
       "<span style=\"color: #7fbf7f; text-decoration-color: #7fbf7f\">│   │   </span><span style=\"color: #008000; text-decoration-color: #008000\">'Phát phiếu học tập và dụng cụ học tập (thước, compa) cho từng nhóm.'</span>,\n",
       "<span style=\"color: #7fbf7f; text-decoration-color: #7fbf7f\">│   │   </span><span style=\"color: #008000; text-decoration-color: #008000\">'Hướng dẫn chung về mục tiêu và các bước thực hiện hoạt động.'</span>,\n",
       "<span style=\"color: #7fbf7f; text-decoration-color: #7fbf7f\">│   │   </span><span style=\"color: #008000; text-decoration-color: #008000\">'Quan sát các nhóm làm việc, kịp thời hỗ trợ khi học sinh gặp khó khăn.'</span>,\n",
       "<span style=\"color: #7fbf7f; text-decoration-color: #7fbf7f\">│   │   </span><span style=\"color: #008000; text-decoration-color: #008000\">'Đặt câu hỏi gợi mở để học sinh tự khám phá và ghi nhận kiến thức.'</span>,\n",
       "<span style=\"color: #7fbf7f; text-decoration-color: #7fbf7f\">│   │   </span><span style=\"color: #008000; text-decoration-color: #008000\">'Kiểm tra nhanh sự hiểu bài của các nhóm bằng cách yêu cầu trình bày ngắn gọn các bước đã thực hiện.'</span>,\n",
       "<span style=\"color: #7fbf7f; text-decoration-color: #7fbf7f\">│   │   </span><span style=\"color: #008000; text-decoration-color: #008000\">'Tổng kết hoạt động, chốt lại kiến thức về tâm và cách vẽ đường tròn ngoại tiếp tam giác.'</span>\n",
       "<span style=\"color: #7fbf7f; text-decoration-color: #7fbf7f\">│   </span><span style=\"font-weight: bold\">]</span>,\n",
       "<span style=\"color: #7fbf7f; text-decoration-color: #7fbf7f\">│   </span><span style=\"color: #008000; text-decoration-color: #008000\">'solution_guide'</span>: <span style=\"color: #008000; text-decoration-color: #008000\">'Phiếu học tập sẽ bao gồm các bước sau:\\n1. Vẽ một tam giác ABC bất kỳ.\\n2. Dùng thước và compa, vẽ đường trung trực của cạnh AB.\\n3. Dùng thước và compa, vẽ đường trung trực của cạnh BC.\\n4. Dùng thước và compa, vẽ đường trung trực của cạnh CA.\\n5. Xác định giao điểm của ba đường trung trực (gọi là O).\\n6. Dùng compa đặt tâm tại O, mở khẩu độ bằng khoảng cách từ O đến một đỉnh của tam giác (ví dụ OA), vẽ đường tròn. Kiểm tra xem đường tròn có đi qua cả ba đỉnh A, B, C không.\\n7. Thảo luận nhóm và ghi lại nhận xét: Giao điểm của ba đường trung trực có tính chất gì? Đường tròn vừa vẽ có tên gọi là gì?'</span>,\n",
       "<span style=\"color: #7fbf7f; text-decoration-color: #7fbf7f\">│   </span><span style=\"color: #008000; text-decoration-color: #008000\">'differentiation'</span>: <span style=\"font-weight: bold\">{</span>\n",
       "<span style=\"color: #7fbf7f; text-decoration-color: #7fbf7f\">│   │   </span><span style=\"color: #008000; text-decoration-color: #008000\">'for_struggling_students'</span>: <span style=\"color: #008000; text-decoration-color: #008000\">\"Cung cấp phiếu học tập có sẵn một tam giác mẫu và các bước vẽ đường trung trực được chia nhỏ, có hình ảnh minh họa từng bước. Giáo viên có thể trực tiếp hướng dẫn lại cách sử dụng compa và thước để vẽ đường trung trực cho nhóm này. Đặt các câu hỏi đơn giản như 'Giao điểm của ba đường trung trực có đặc điểm gì?' để giúp các em ghi nhớ.\"</span>,\n",
       "<span style=\"color: #7fbf7f; text-decoration-color: #7fbf7f\">│   │   </span><span style=\"color: #008000; text-decoration-color: #008000\">'for_advanced_students'</span>: <span style=\"color: #008000; text-decoration-color: #008000\">'Yêu cầu học sinh chứng minh tại sao giao điểm của ba đường trung trực lại cách đều ba đỉnh của tam giác. Gợi ý các em thử vẽ đường tròn ngoại tiếp cho các loại tam giác đặc biệt (tam giác vuông, tam giác tù) và nhận xét về vị trí của tâm đường tròn ngoại tiếp. Khuyến khích các em giải thích lại các bước vẽ cho các bạn trong nhóm.'</span>\n",
       "<span style=\"color: #7fbf7f; text-decoration-color: #7fbf7f\">│   </span><span style=\"font-weight: bold\">}</span>\n",
       "<span style=\"font-weight: bold\">}</span>\n",
       "</pre>\n"
      ],
      "text/plain": [
       "\u001b[1m{\u001b[0m\n",
       "\u001b[2;32m│   \u001b[0m\u001b[32m'activity_name'\u001b[0m: \u001b[32m'Xây dựng kiến thức: Xác định và vẽ Đường tròn ngoại tiếp'\u001b[0m,\n",
       "\u001b[2;32m│   \u001b[0m\u001b[32m'description'\u001b[0m: \u001b[32m'Theo hướng dẫn trên phiếu học tập, học sinh vẽ các đường trung trực của tam giác, xác định giao điểm của chúng \u001b[0m\u001b[32m(\u001b[0m\u001b[32mtâm đường tròn ngoại tiếp\u001b[0m\u001b[32m)\u001b[0m\u001b[32m, và vẽ đường tròn đi qua ba đỉnh của tam giác. Học sinh thảo luận nhóm để ghi nhận các bước thực hiện và kết quả.'\u001b[0m,\n",
       "\u001b[2;32m│   \u001b[0m\u001b[32m'duration_minutes'\u001b[0m: \u001b[1;36m25\u001b[0m,\n",
       "\u001b[2;32m│   \u001b[0m\u001b[32m'activity_type'\u001b[0m: \u001b[32m'Thực hành nhóm'\u001b[0m,\n",
       "\u001b[2;32m│   \u001b[0m\u001b[32m'teacher_actions'\u001b[0m: \u001b[1m[\u001b[0m\n",
       "\u001b[2;32m│   │   \u001b[0m\u001b[32m'Phát phiếu học tập và dụng cụ học tập \u001b[0m\u001b[32m(\u001b[0m\u001b[32mthước, compa\u001b[0m\u001b[32m)\u001b[0m\u001b[32m cho từng nhóm.'\u001b[0m,\n",
       "\u001b[2;32m│   │   \u001b[0m\u001b[32m'Hướng dẫn chung về mục tiêu và các bước thực hiện hoạt động.'\u001b[0m,\n",
       "\u001b[2;32m│   │   \u001b[0m\u001b[32m'Quan sát các nhóm làm việc, kịp thời hỗ trợ khi học sinh gặp khó khăn.'\u001b[0m,\n",
       "\u001b[2;32m│   │   \u001b[0m\u001b[32m'Đặt câu hỏi gợi mở để học sinh tự khám phá và ghi nhận kiến thức.'\u001b[0m,\n",
       "\u001b[2;32m│   │   \u001b[0m\u001b[32m'Kiểm tra nhanh sự hiểu bài của các nhóm bằng cách yêu cầu trình bày ngắn gọn các bước đã thực hiện.'\u001b[0m,\n",
       "\u001b[2;32m│   │   \u001b[0m\u001b[32m'Tổng kết hoạt động, chốt lại kiến thức về tâm và cách vẽ đường tròn ngoại tiếp tam giác.'\u001b[0m\n",
       "\u001b[2;32m│   \u001b[0m\u001b[1m]\u001b[0m,\n",
       "\u001b[2;32m│   \u001b[0m\u001b[32m'solution_guide'\u001b[0m: \u001b[32m'Phiếu học tập sẽ bao gồm các bước sau:\\n1. Vẽ một tam giác ABC bất kỳ.\\n2. Dùng thước và compa, vẽ đường trung trực của cạnh AB.\\n3. Dùng thước và compa, vẽ đường trung trực của cạnh BC.\\n4. Dùng thước và compa, vẽ đường trung trực của cạnh CA.\\n5. Xác định giao điểm của ba đường trung trực \u001b[0m\u001b[32m(\u001b[0m\u001b[32mgọi là O\u001b[0m\u001b[32m)\u001b[0m\u001b[32m.\\n6. Dùng compa đặt tâm tại O, mở khẩu độ bằng khoảng cách từ O đến một đỉnh của tam giác \u001b[0m\u001b[32m(\u001b[0m\u001b[32mví dụ OA\u001b[0m\u001b[32m)\u001b[0m\u001b[32m, vẽ đường tròn. Kiểm tra xem đường tròn có đi qua cả ba đỉnh A, B, C không.\\n7. Thảo luận nhóm và ghi lại nhận xét: Giao điểm của ba đường trung trực có tính chất gì? Đường tròn vừa vẽ có tên gọi là gì?'\u001b[0m,\n",
       "\u001b[2;32m│   \u001b[0m\u001b[32m'differentiation'\u001b[0m: \u001b[1m{\u001b[0m\n",
       "\u001b[2;32m│   │   \u001b[0m\u001b[32m'for_struggling_students'\u001b[0m: \u001b[32m\"Cung cấp phiếu học tập có sẵn một tam giác mẫu và các bước vẽ đường trung trực được chia nhỏ, có hình ảnh minh họa từng bước. Giáo viên có thể trực tiếp hướng dẫn lại cách sử dụng compa và thước để vẽ đường trung trực cho nhóm này. Đặt các câu hỏi đơn giản như 'Giao điểm của ba đường trung trực có đặc điểm gì?' để giúp các em ghi nhớ.\"\u001b[0m,\n",
       "\u001b[2;32m│   │   \u001b[0m\u001b[32m'for_advanced_students'\u001b[0m: \u001b[32m'Yêu cầu học sinh chứng minh tại sao giao điểm của ba đường trung trực lại cách đều ba đỉnh của tam giác. Gợi ý các em thử vẽ đường tròn ngoại tiếp cho các loại tam giác đặc biệt \u001b[0m\u001b[32m(\u001b[0m\u001b[32mtam giác vuông, tam giác tù\u001b[0m\u001b[32m)\u001b[0m\u001b[32m và nhận xét về vị trí của tâm đường tròn ngoại tiếp. Khuyến khích các em giải thích lại các bước vẽ cho các bạn trong nhóm.'\u001b[0m\n",
       "\u001b[2;32m│   \u001b[0m\u001b[1m}\u001b[0m\n",
       "\u001b[1m}\u001b[0m\n"
      ]
     },
     "metadata": {},
     "output_type": "display_data"
    },
    {
     "data": {
      "text/html": [
       "<pre style=\"white-space:pre;overflow-x:auto;line-height:normal;font-family:Menlo,'DejaVu Sans Mono',consolas,'Courier New',monospace\">\n",
       "<span style=\"color: #808000; text-decoration-color: #808000; font-weight: bold\">------- Hoàn thành bước: activity_designer -------</span>\n",
       "</pre>\n"
      ],
      "text/plain": [
       "\n",
       "\u001b[1;33m------- Hoàn thành bước: activity_designer -------\u001b[0m\n"
      ]
     },
     "metadata": {},
     "output_type": "display_data"
    },
    {
     "data": {
      "text/html": [
       "<pre style=\"white-space:pre;overflow-x:auto;line-height:normal;font-family:Menlo,'DejaVu Sans Mono',consolas,'Courier New',monospace\">\n",
       "<span style=\"color: #008080; text-decoration-color: #008080; font-weight: bold\">&gt;</span> `Agent: Contextual Critic` <span style=\"font-weight: bold\">(</span>v7.<span style=\"color: #008080; text-decoration-color: #008080; font-weight: bold\">5</span><span style=\"font-weight: bold\">)</span> đang phản biện nội dung<span style=\"color: #808000; text-decoration-color: #808000\">...</span>\n",
       "</pre>\n"
      ],
      "text/plain": [
       "\n",
       "\u001b[1;36m>\u001b[0m `Agent: Contextual Critic` \u001b[1m(\u001b[0mv7.\u001b[1;36m5\u001b[0m\u001b[1m)\u001b[0m đang phản biện nội dung\u001b[33m...\u001b[0m\n"
      ]
     },
     "metadata": {},
     "output_type": "display_data"
    },
    {
     "data": {
      "text/html": [
       "<pre style=\"white-space:pre;overflow-x:auto;line-height:normal;font-family:Menlo,'DejaVu Sans Mono',consolas,'Courier New',monospace\">\n",
       "<span style=\"color: #008080; text-decoration-color: #008080; font-weight: bold\">&gt;</span> ✔️ CHUYÊN GIA PHẢN BIỆN: Nội dung hợp lệ!\n",
       "</pre>\n"
      ],
      "text/plain": [
       "\n",
       "\u001b[1;36m>\u001b[0m ✔️ CHUYÊN GIA PHẢN BIỆN: Nội dung hợp lệ!\n"
      ]
     },
     "metadata": {},
     "output_type": "display_data"
    },
    {
     "data": {
      "text/html": [
       "<pre style=\"white-space:pre;overflow-x:auto;line-height:normal;font-family:Menlo,'DejaVu Sans Mono',consolas,'Courier New',monospace\">\n",
       "<span style=\"color: #008080; text-decoration-color: #008080; font-weight: bold\">&gt;</span> ROUTER <span style=\"font-weight: bold\">(</span>Validation<span style=\"font-weight: bold\">)</span>: Nội dung được chấp thuận. Chuyển sang bước ghi nhận.\n",
       "</pre>\n"
      ],
      "text/plain": [
       "\n",
       "\u001b[1;36m>\u001b[0m ROUTER \u001b[1m(\u001b[0mValidation\u001b[1m)\u001b[0m: Nội dung được chấp thuận. Chuyển sang bước ghi nhận.\n"
      ]
     },
     "metadata": {},
     "output_type": "display_data"
    },
    {
     "data": {
      "text/html": [
       "<pre style=\"white-space:pre;overflow-x:auto;line-height:normal;font-family:Menlo,'DejaVu Sans Mono',consolas,'Courier New',monospace\">\n",
       "<span style=\"color: #808000; text-decoration-color: #808000; font-weight: bold\">------- Hoàn thành bước: content_validator -------</span>\n",
       "</pre>\n"
      ],
      "text/plain": [
       "\n",
       "\u001b[1;33m------- Hoàn thành bước: content_validator -------\u001b[0m\n"
      ]
     },
     "metadata": {},
     "output_type": "display_data"
    },
    {
     "data": {
      "text/html": [
       "<pre style=\"white-space:pre;overflow-x:auto;line-height:normal;font-family:Menlo,'DejaVu Sans Mono',consolas,'Courier New',monospace\">\n",
       "<span style=\"color: #008080; text-decoration-color: #008080; font-weight: bold\">&gt;</span> `Commiter`: Đang ghi nhận nội dung đã được xác thực<span style=\"color: #808000; text-decoration-color: #808000\">...</span>\n",
       "</pre>\n"
      ],
      "text/plain": [
       "\n",
       "\u001b[1;36m>\u001b[0m `Commiter`: Đang ghi nhận nội dung đã được xác thực\u001b[33m...\u001b[0m\n"
      ]
     },
     "metadata": {},
     "output_type": "display_data"
    },
    {
     "data": {
      "text/html": [
       "<pre style=\"white-space:pre;overflow-x:auto;line-height:normal;font-family:Menlo,'DejaVu Sans Mono',consolas,'Courier New',monospace\">\n",
       "<span style=\"color: #808000; text-decoration-color: #808000; font-weight: bold\">------- Hoàn thành bước: commit_validated_content -------</span>\n",
       "</pre>\n"
      ],
      "text/plain": [
       "\n",
       "\u001b[1;33m------- Hoàn thành bước: commit_validated_content -------\u001b[0m\n"
      ]
     },
     "metadata": {},
     "output_type": "display_data"
    },
    {
     "data": {
      "text/html": [
       "<pre style=\"white-space:pre;overflow-x:auto;line-height:normal;font-family:Menlo,'DejaVu Sans Mono',consolas,'Courier New',monospace\">\n",
       "<span style=\"color: #808000; text-decoration-color: #808000; font-weight: bold\">------- Hoàn thành bước: mark_task_complete -------</span>\n",
       "</pre>\n"
      ],
      "text/plain": [
       "\n",
       "\u001b[1;33m------- Hoàn thành bước: mark_task_complete -------\u001b[0m\n"
      ]
     },
     "metadata": {},
     "output_type": "display_data"
    },
    {
     "data": {
      "text/html": [
       "<pre style=\"white-space:pre;overflow-x:auto;line-height:normal;font-family:Menlo,'DejaVu Sans Mono',consolas,'Courier New',monospace\">\n",
       "<span style=\"color: #008080; text-decoration-color: #008080; font-weight: bold\">&gt;</span> <span style=\"color: #808000; text-decoration-color: #808000\">...</span>Đang nghỉ <span style=\"color: #008080; text-decoration-color: #008080; font-weight: bold\">2</span> giây để tránh vượt rate limit<span style=\"color: #808000; text-decoration-color: #808000\">...</span>\n",
       "</pre>\n"
      ],
      "text/plain": [
       "\n",
       "\u001b[1;36m>\u001b[0m \u001b[33m...\u001b[0mĐang nghỉ \u001b[1;36m2\u001b[0m giây để tránh vượt rate limit\u001b[33m...\u001b[0m\n"
      ]
     },
     "metadata": {},
     "output_type": "display_data"
    },
    {
     "data": {
      "text/html": [
       "<pre style=\"white-space:pre;overflow-x:auto;line-height:normal;font-family:Menlo,'DejaVu Sans Mono',consolas,'Courier New',monospace\">\n",
       "<span style=\"color: #808000; text-decoration-color: #808000; font-weight: bold\">------- Hoàn thành bước: delay_node -------</span>\n",
       "</pre>\n"
      ],
      "text/plain": [
       "\n",
       "\u001b[1;33m------- Hoàn thành bước: delay_node -------\u001b[0m\n"
      ]
     },
     "metadata": {},
     "output_type": "display_data"
    },
    {
     "data": {
      "text/html": [
       "<pre style=\"white-space:pre;overflow-x:auto;line-height:normal;font-family:Menlo,'DejaVu Sans Mono',consolas,'Courier New',monospace\">\n",
       "<span style=\"color: #008080; text-decoration-color: #008080; font-weight: bold\">&gt;</span> `Router`: Đang kiểm tra nhiệm vụ<span style=\"color: #808000; text-decoration-color: #808000\">...</span>\n",
       "</pre>\n"
      ],
      "text/plain": [
       "\n",
       "\u001b[1;36m>\u001b[0m `Router`: Đang kiểm tra nhiệm vụ\u001b[33m...\u001b[0m\n"
      ]
     },
     "metadata": {},
     "output_type": "display_data"
    },
    {
     "data": {
      "text/html": [
       "<pre style=\"white-space:pre;overflow-x:auto;line-height:normal;font-family:Menlo,'DejaVu Sans Mono',consolas,'Courier New',monospace\">\n",
       "<span style=\"color: #008080; text-decoration-color: #008080; font-weight: bold\">&gt;</span> Nhiệm vụ tiếp theo: <span style=\"color: #008000; text-decoration-color: #008000\">'Xây dựng kiến thức: Xác định và vẽ Đường tròn nội tiếp'</span> <span style=\"font-weight: bold\">(</span>ID: <span style=\"color: #008080; text-decoration-color: #008080; font-weight: bold\">2</span><span style=\"font-weight: bold\">)</span>\n",
       "</pre>\n"
      ],
      "text/plain": [
       "\n",
       "\u001b[1;36m>\u001b[0m Nhiệm vụ tiếp theo: \u001b[32m'Xây dựng kiến thức: Xác định và vẽ Đường tròn nội tiếp'\u001b[0m \u001b[1m(\u001b[0mID: \u001b[1;36m2\u001b[0m\u001b[1m)\u001b[0m\n"
      ]
     },
     "metadata": {},
     "output_type": "display_data"
    },
    {
     "data": {
      "text/html": [
       "<pre style=\"white-space:pre;overflow-x:auto;line-height:normal;font-family:Menlo,'DejaVu Sans Mono',consolas,'Courier New',monospace\">\n",
       "<span style=\"color: #808000; text-decoration-color: #808000; font-weight: bold\">------- Hoàn thành bước: task_router -------</span>\n",
       "</pre>\n"
      ],
      "text/plain": [
       "\n",
       "\u001b[1;33m------- Hoàn thành bước: task_router -------\u001b[0m\n"
      ]
     },
     "metadata": {},
     "output_type": "display_data"
    },
    {
     "data": {
      "text/html": [
       "<pre style=\"white-space:pre;overflow-x:auto;line-height:normal;font-family:Menlo,'DejaVu Sans Mono',consolas,'Courier New',monospace\">\n",
       "<span style=\"color: #008080; text-decoration-color: #008080; font-weight: bold\">&gt;</span> `Agent: Task Dispatcher` <span style=\"font-weight: bold\">(</span>v7.<span style=\"color: #008080; text-decoration-color: #008080; font-weight: bold\">1</span><span style=\"font-weight: bold\">)</span> Bắt đầu<span style=\"color: #808000; text-decoration-color: #808000\">...</span>\n",
       "</pre>\n"
      ],
      "text/plain": [
       "\n",
       "\u001b[1;36m>\u001b[0m `Agent: Task Dispatcher` \u001b[1m(\u001b[0mv7.\u001b[1;36m1\u001b[0m\u001b[1m)\u001b[0m Bắt đầu\u001b[33m...\u001b[0m\n"
      ]
     },
     "metadata": {},
     "output_type": "display_data"
    },
    {
     "data": {
      "text/html": [
       "<pre style=\"white-space:pre;overflow-x:auto;line-height:normal;font-family:Menlo,'DejaVu Sans Mono',consolas,'Courier New',monospace\">\n",
       "<span style=\"color: #008080; text-decoration-color: #008080; font-weight: bold\">&gt;</span> --- 🚚 `Dispatcher`: Giao nhiệm vụ cho `activity_designer`.\n",
       "</pre>\n"
      ],
      "text/plain": [
       "\n",
       "\u001b[1;36m>\u001b[0m --- 🚚 `Dispatcher`: Giao nhiệm vụ cho `activity_designer`.\n"
      ]
     },
     "metadata": {},
     "output_type": "display_data"
    },
    {
     "data": {
      "text/html": [
       "<pre style=\"white-space:pre;overflow-x:auto;line-height:normal;font-family:Menlo,'DejaVu Sans Mono',consolas,'Courier New',monospace\">\n",
       "<span style=\"color: #808000; text-decoration-color: #808000; font-weight: bold\">------- Hoàn thành bước: task_dispatcher -------</span>\n",
       "</pre>\n"
      ],
      "text/plain": [
       "\n",
       "\u001b[1;33m------- Hoàn thành bước: task_dispatcher -------\u001b[0m\n"
      ]
     },
     "metadata": {},
     "output_type": "display_data"
    },
    {
     "data": {
      "text/html": [
       "<pre style=\"white-space:pre;overflow-x:auto;line-height:normal;font-family:Menlo,'DejaVu Sans Mono',consolas,'Courier New',monospace\">\n",
       "<span style=\"color: #008080; text-decoration-color: #008080; font-weight: bold\">&gt;</span> `Agent: Activity Designer` <span style=\"font-weight: bold\">(</span>v9.<span style=\"color: #008080; text-decoration-color: #008080; font-weight: bold\">0</span><span style=\"font-weight: bold\">)</span> đang tạo nội dung chi tiết và gợi ý phân hóa<span style=\"color: #808000; text-decoration-color: #808000\">...</span>\n",
       "</pre>\n"
      ],
      "text/plain": [
       "\n",
       "\u001b[1;36m>\u001b[0m `Agent: Activity Designer` \u001b[1m(\u001b[0mv9.\u001b[1;36m0\u001b[0m\u001b[1m)\u001b[0m đang tạo nội dung chi tiết và gợi ý phân hóa\u001b[33m...\u001b[0m\n"
      ]
     },
     "metadata": {},
     "output_type": "display_data"
    },
    {
     "data": {
      "text/html": [
       "<pre style=\"white-space:pre;overflow-x:auto;line-height:normal;font-family:Menlo,'DejaVu Sans Mono',consolas,'Courier New',monospace\"><span style=\"color: #008000; text-decoration-color: #008000; font-weight: bold\">✔️ Nội dung do Activity Designer tạo ra (có phân hóa):</span>\n",
       "</pre>\n"
      ],
      "text/plain": [
       "\u001b[1;32m✔️ Nội dung do Activity Designer tạo ra \u001b[0m\u001b[1;32m(\u001b[0m\u001b[1;32mcó phân hóa\u001b[0m\u001b[1;32m)\u001b[0m\u001b[1;32m:\u001b[0m\n"
      ]
     },
     "metadata": {},
     "output_type": "display_data"
    },
    {
     "data": {
      "text/html": [
       "<pre style=\"white-space:pre;overflow-x:auto;line-height:normal;font-family:Menlo,'DejaVu Sans Mono',consolas,'Courier New',monospace\"><span style=\"font-weight: bold\">{</span>\n",
       "<span style=\"color: #7fbf7f; text-decoration-color: #7fbf7f\">│   </span><span style=\"color: #008000; text-decoration-color: #008000\">'activity_name'</span>: <span style=\"color: #008000; text-decoration-color: #008000\">'Xây dựng kiến thức: Xác định và vẽ Đường tròn nội tiếp'</span>,\n",
       "<span style=\"color: #7fbf7f; text-decoration-color: #7fbf7f\">│   </span><span style=\"color: #008000; text-decoration-color: #008000\">'description'</span>: <span style=\"color: #008000; text-decoration-color: #008000\">'Học sinh sẽ thực hiện các bước sau trên phiếu học tập đã được phát:\\n1.  Vẽ một tam giác bất kỳ (hoặc sử dụng tam giác đã cho sẵn trên phiếu).\\n2.  Sử dụng thước và compa để vẽ ba đường phân giác của các góc trong tam giác.\\n3.  Xác định giao điểm của ba đường phân giác. Đây chính là tâm của đường tròn nội tiếp (tâm I).\\n4.  Từ tâm I, vẽ một đường vuông góc xuống một cạnh của tam giác để xác định bán kính đường tròn nội tiếp (r).\\n5.  Dùng compa vẽ đường tròn tâm I, bán kính r. Quan sát xem đường tròn này có tiếp xúc với cả ba cạnh của tam giác hay không.\\n6.  So sánh điểm giống và khác nhau giữa đường tròn ngoại tiếp (đã học ở hoạt động trước) và đường tròn nội tiếp về: tâm, bán kính, vị trí tương đối với tam giác, và cách xác định.'</span>,\n",
       "<span style=\"color: #7fbf7f; text-decoration-color: #7fbf7f\">│   </span><span style=\"color: #008000; text-decoration-color: #008000\">'duration_minutes'</span>: <span style=\"color: #008080; text-decoration-color: #008080; font-weight: bold\">25</span>,\n",
       "<span style=\"color: #7fbf7f; text-decoration-color: #7fbf7f\">│   </span><span style=\"color: #008000; text-decoration-color: #008000\">'activity_type'</span>: <span style=\"color: #008000; text-decoration-color: #008000\">'Thực hành vẽ hình và so sánh'</span>,\n",
       "<span style=\"color: #7fbf7f; text-decoration-color: #7fbf7f\">│   </span><span style=\"color: #008000; text-decoration-color: #008000\">'teacher_actions'</span>: <span style=\"font-weight: bold\">[</span>\n",
       "<span style=\"color: #7fbf7f; text-decoration-color: #7fbf7f\">│   │   </span><span style=\"color: #008000; text-decoration-color: #008000\">'Phát phiếu học tập có sẵn các tam giác mẫu hoặc yêu cầu học sinh tự vẽ tam giác.'</span>,\n",
       "<span style=\"color: #7fbf7f; text-decoration-color: #7fbf7f\">│   │   </span><span style=\"color: #008000; text-decoration-color: #008000\">'Hướng dẫn lại cách vẽ đường phân giác của một góc bằng compa và thước thẳng nếu cần.'</span>,\n",
       "<span style=\"color: #7fbf7f; text-decoration-color: #7fbf7f\">│   │   </span><span style=\"color: #008000; text-decoration-color: #008000\">'Đi vòng quanh lớp quan sát, hỗ trợ cá nhân hoặc nhóm nhỏ khi học sinh gặp khó khăn trong việc vẽ hình hoặc xác định tâm/bán kính.'</span>,\n",
       "<span style=\"color: #7fbf7f; text-decoration-color: #7fbf7f\">│   │   </span><span style=\"color: #008000; text-decoration-color: #008000\">'Kiểm tra nhanh các hình vẽ của học sinh, đưa ra phản hồi kịp thời.'</span>,\n",
       "<span style=\"color: #7fbf7f; text-decoration-color: #7fbf7f\">│   │   </span><span style=\"color: #008000; text-decoration-color: #008000\">'Gợi ý các câu hỏi để học sinh so sánh hai loại đường tròn (ngoại tiếp và nội tiếp).'</span>,\n",
       "<span style=\"color: #7fbf7f; text-decoration-color: #7fbf7f\">│   │   </span><span style=\"color: #008000; text-decoration-color: #008000\">'Yêu cầu một vài học sinh trình bày kết quả và nhận xét của mình trước lớp.'</span>\n",
       "<span style=\"color: #7fbf7f; text-decoration-color: #7fbf7f\">│   </span><span style=\"font-weight: bold\">]</span>,\n",
       "<span style=\"color: #7fbf7f; text-decoration-color: #7fbf7f\">│   </span><span style=\"color: #008000; text-decoration-color: #008000\">'solution_guide'</span>: <span style=\"color: #008000; text-decoration-color: #008000\">'Các điểm cần lưu ý khi hướng dẫn học sinh:\\n-   **Vẽ đường phân giác:** Đảm bảo học sinh dùng compa đúng cách để chia đôi góc.\\n-   **Xác định tâm I:** Giao điểm của ba đường phân giác phải trùng nhau. Nếu không, cần kiểm tra lại các bước vẽ.\\n-   **Xác định bán kính r:** Bán kính là khoảng cách từ tâm I đến một cạnh của tam giác (phải là đoạn vuông góc). Học sinh có thể vẽ đường vuông góc từ I xuống một cạnh bất kỳ.\\n-   **So sánh:**\\n    -   **Giống nhau:** Đều là đường tròn liên quan đến tam giác, đều có tâm và bán kính.\\n    -   **Khác nhau:**\\n        -   **Tâm:** Ngoại tiếp là giao 3 đường trung trực; Nội tiếp là giao 3 đường phân giác.\\n        -   **Vị trí tâm:** Ngoại tiếp có thể nằm trong, trên, hoặc ngoài tam giác; Nội tiếp luôn nằm trong tam giác.\\n        -   **Tiếp xúc/Đi qua:** Ngoại tiếp đi qua 3 đỉnh; Nội tiếp tiếp xúc với 3 cạnh.\\n        -   **Bán kính:** Bán kính ngoại tiếp là khoảng cách từ tâm đến đỉnh; Bán kính nội tiếp là khoảng cách từ tâm đến cạnh (vuông góc).'</span>,\n",
       "<span style=\"color: #7fbf7f; text-decoration-color: #7fbf7f\">│   </span><span style=\"color: #008000; text-decoration-color: #008000\">'differentiation'</span>: <span style=\"font-weight: bold\">{</span>\n",
       "<span style=\"color: #7fbf7f; text-decoration-color: #7fbf7f\">│   │   </span><span style=\"color: #008000; text-decoration-color: #008000\">'for_struggling_students'</span>: <span style=\"color: #008000; text-decoration-color: #008000\">\"Cung cấp phiếu học tập có sẵn các tam giác đã được vẽ, hoặc thậm chí có sẵn một đường phân giác để học sinh chỉ cần vẽ thêm hai đường còn lại. Đưa ra một checklist các bước vẽ chi tiết kèm hình ảnh minh họa nhỏ. Gợi ý cụ thể các câu hỏi so sánh như: 'Tâm đường tròn ngoại tiếp là giao của đường gì? Tâm đường tròn nội tiếp là giao của đường gì?'\"</span>,\n",
       "<span style=\"color: #7fbf7f; text-decoration-color: #7fbf7f\">│   │   </span><span style=\"color: #008000; text-decoration-color: #008000\">'for_advanced_students'</span>: <span style=\"color: #008000; text-decoration-color: #008000\">\"Yêu cầu học sinh chứng minh tại sao giao điểm của ba đường phân giác lại cách đều ba cạnh của tam giác (tức là tâm đường tròn nội tiếp). Đặt câu hỏi mở rộng: 'Liệu có trường hợp nào đường tròn nội tiếp và ngoại tiếp có cùng tâm không? Nếu có thì đó là loại tam giác nào?'\"</span>\n",
       "<span style=\"color: #7fbf7f; text-decoration-color: #7fbf7f\">│   </span><span style=\"font-weight: bold\">}</span>\n",
       "<span style=\"font-weight: bold\">}</span>\n",
       "</pre>\n"
      ],
      "text/plain": [
       "\u001b[1m{\u001b[0m\n",
       "\u001b[2;32m│   \u001b[0m\u001b[32m'activity_name'\u001b[0m: \u001b[32m'Xây dựng kiến thức: Xác định và vẽ Đường tròn nội tiếp'\u001b[0m,\n",
       "\u001b[2;32m│   \u001b[0m\u001b[32m'description'\u001b[0m: \u001b[32m'Học sinh sẽ thực hiện các bước sau trên phiếu học tập đã được phát:\\n1.  Vẽ một tam giác bất kỳ \u001b[0m\u001b[32m(\u001b[0m\u001b[32mhoặc sử dụng tam giác đã cho sẵn trên phiếu\u001b[0m\u001b[32m)\u001b[0m\u001b[32m.\\n2.  Sử dụng thước và compa để vẽ ba đường phân giác của các góc trong tam giác.\\n3.  Xác định giao điểm của ba đường phân giác. Đây chính là tâm của đường tròn nội tiếp \u001b[0m\u001b[32m(\u001b[0m\u001b[32mtâm I\u001b[0m\u001b[32m)\u001b[0m\u001b[32m.\\n4.  Từ tâm I, vẽ một đường vuông góc xuống một cạnh của tam giác để xác định bán kính đường tròn nội tiếp \u001b[0m\u001b[32m(\u001b[0m\u001b[32mr\u001b[0m\u001b[32m)\u001b[0m\u001b[32m.\\n5.  Dùng compa vẽ đường tròn tâm I, bán kính r. Quan sát xem đường tròn này có tiếp xúc với cả ba cạnh của tam giác hay không.\\n6.  So sánh điểm giống và khác nhau giữa đường tròn ngoại tiếp \u001b[0m\u001b[32m(\u001b[0m\u001b[32mđã học ở hoạt động trước\u001b[0m\u001b[32m)\u001b[0m\u001b[32m và đường tròn nội tiếp về: tâm, bán kính, vị trí tương đối với tam giác, và cách xác định.'\u001b[0m,\n",
       "\u001b[2;32m│   \u001b[0m\u001b[32m'duration_minutes'\u001b[0m: \u001b[1;36m25\u001b[0m,\n",
       "\u001b[2;32m│   \u001b[0m\u001b[32m'activity_type'\u001b[0m: \u001b[32m'Thực hành vẽ hình và so sánh'\u001b[0m,\n",
       "\u001b[2;32m│   \u001b[0m\u001b[32m'teacher_actions'\u001b[0m: \u001b[1m[\u001b[0m\n",
       "\u001b[2;32m│   │   \u001b[0m\u001b[32m'Phát phiếu học tập có sẵn các tam giác mẫu hoặc yêu cầu học sinh tự vẽ tam giác.'\u001b[0m,\n",
       "\u001b[2;32m│   │   \u001b[0m\u001b[32m'Hướng dẫn lại cách vẽ đường phân giác của một góc bằng compa và thước thẳng nếu cần.'\u001b[0m,\n",
       "\u001b[2;32m│   │   \u001b[0m\u001b[32m'Đi vòng quanh lớp quan sát, hỗ trợ cá nhân hoặc nhóm nhỏ khi học sinh gặp khó khăn trong việc vẽ hình hoặc xác định tâm/bán kính.'\u001b[0m,\n",
       "\u001b[2;32m│   │   \u001b[0m\u001b[32m'Kiểm tra nhanh các hình vẽ của học sinh, đưa ra phản hồi kịp thời.'\u001b[0m,\n",
       "\u001b[2;32m│   │   \u001b[0m\u001b[32m'Gợi ý các câu hỏi để học sinh so sánh hai loại đường tròn \u001b[0m\u001b[32m(\u001b[0m\u001b[32mngoại tiếp và nội tiếp\u001b[0m\u001b[32m)\u001b[0m\u001b[32m.'\u001b[0m,\n",
       "\u001b[2;32m│   │   \u001b[0m\u001b[32m'Yêu cầu một vài học sinh trình bày kết quả và nhận xét của mình trước lớp.'\u001b[0m\n",
       "\u001b[2;32m│   \u001b[0m\u001b[1m]\u001b[0m,\n",
       "\u001b[2;32m│   \u001b[0m\u001b[32m'solution_guide'\u001b[0m: \u001b[32m'Các điểm cần lưu ý khi hướng dẫn học sinh:\\n-   **Vẽ đường phân giác:** Đảm bảo học sinh dùng compa đúng cách để chia đôi góc.\\n-   **Xác định tâm I:** Giao điểm của ba đường phân giác phải trùng nhau. Nếu không, cần kiểm tra lại các bước vẽ.\\n-   **Xác định bán kính r:** Bán kính là khoảng cách từ tâm I đến một cạnh của tam giác \u001b[0m\u001b[32m(\u001b[0m\u001b[32mphải là đoạn vuông góc\u001b[0m\u001b[32m)\u001b[0m\u001b[32m. Học sinh có thể vẽ đường vuông góc từ I xuống một cạnh bất kỳ.\\n-   **So sánh:**\\n    -   **Giống nhau:** Đều là đường tròn liên quan đến tam giác, đều có tâm và bán kính.\\n    -   **Khác nhau:**\\n        -   **Tâm:** Ngoại tiếp là giao 3 đường trung trực; Nội tiếp là giao 3 đường phân giác.\\n        -   **Vị trí tâm:** Ngoại tiếp có thể nằm trong, trên, hoặc ngoài tam giác; Nội tiếp luôn nằm trong tam giác.\\n        -   **Tiếp xúc/Đi qua:** Ngoại tiếp đi qua 3 đỉnh; Nội tiếp tiếp xúc với 3 cạnh.\\n        -   **Bán kính:** Bán kính ngoại tiếp là khoảng cách từ tâm đến đỉnh; Bán kính nội tiếp là khoảng cách từ tâm đến cạnh \u001b[0m\u001b[32m(\u001b[0m\u001b[32mvuông góc\u001b[0m\u001b[32m)\u001b[0m\u001b[32m.'\u001b[0m,\n",
       "\u001b[2;32m│   \u001b[0m\u001b[32m'differentiation'\u001b[0m: \u001b[1m{\u001b[0m\n",
       "\u001b[2;32m│   │   \u001b[0m\u001b[32m'for_struggling_students'\u001b[0m: \u001b[32m\"Cung cấp phiếu học tập có sẵn các tam giác đã được vẽ, hoặc thậm chí có sẵn một đường phân giác để học sinh chỉ cần vẽ thêm hai đường còn lại. Đưa ra một checklist các bước vẽ chi tiết kèm hình ảnh minh họa nhỏ. Gợi ý cụ thể các câu hỏi so sánh như: 'Tâm đường tròn ngoại tiếp là giao của đường gì? Tâm đường tròn nội tiếp là giao của đường gì?'\"\u001b[0m,\n",
       "\u001b[2;32m│   │   \u001b[0m\u001b[32m'for_advanced_students'\u001b[0m: \u001b[32m\"Yêu cầu học sinh chứng minh tại sao giao điểm của ba đường phân giác lại cách đều ba cạnh của tam giác \u001b[0m\u001b[32m(\u001b[0m\u001b[32mtức là tâm đường tròn nội tiếp\u001b[0m\u001b[32m)\u001b[0m\u001b[32m. Đặt câu hỏi mở rộng: 'Liệu có trường hợp nào đường tròn nội tiếp và ngoại tiếp có cùng tâm không? Nếu có thì đó là loại tam giác nào?'\"\u001b[0m\n",
       "\u001b[2;32m│   \u001b[0m\u001b[1m}\u001b[0m\n",
       "\u001b[1m}\u001b[0m\n"
      ]
     },
     "metadata": {},
     "output_type": "display_data"
    },
    {
     "data": {
      "text/html": [
       "<pre style=\"white-space:pre;overflow-x:auto;line-height:normal;font-family:Menlo,'DejaVu Sans Mono',consolas,'Courier New',monospace\">\n",
       "<span style=\"color: #808000; text-decoration-color: #808000; font-weight: bold\">------- Hoàn thành bước: activity_designer -------</span>\n",
       "</pre>\n"
      ],
      "text/plain": [
       "\n",
       "\u001b[1;33m------- Hoàn thành bước: activity_designer -------\u001b[0m\n"
      ]
     },
     "metadata": {},
     "output_type": "display_data"
    },
    {
     "data": {
      "text/html": [
       "<pre style=\"white-space:pre;overflow-x:auto;line-height:normal;font-family:Menlo,'DejaVu Sans Mono',consolas,'Courier New',monospace\">\n",
       "<span style=\"color: #008080; text-decoration-color: #008080; font-weight: bold\">&gt;</span> `Agent: Contextual Critic` <span style=\"font-weight: bold\">(</span>v7.<span style=\"color: #008080; text-decoration-color: #008080; font-weight: bold\">5</span><span style=\"font-weight: bold\">)</span> đang phản biện nội dung<span style=\"color: #808000; text-decoration-color: #808000\">...</span>\n",
       "</pre>\n"
      ],
      "text/plain": [
       "\n",
       "\u001b[1;36m>\u001b[0m `Agent: Contextual Critic` \u001b[1m(\u001b[0mv7.\u001b[1;36m5\u001b[0m\u001b[1m)\u001b[0m đang phản biện nội dung\u001b[33m...\u001b[0m\n"
      ]
     },
     "metadata": {},
     "output_type": "display_data"
    },
    {
     "data": {
      "text/html": [
       "<pre style=\"white-space:pre;overflow-x:auto;line-height:normal;font-family:Menlo,'DejaVu Sans Mono',consolas,'Courier New',monospace\">\n",
       "<span style=\"color: #008080; text-decoration-color: #008080; font-weight: bold\">&gt;</span> ✔️ CHUYÊN GIA PHẢN BIỆN: Nội dung hợp lệ!\n",
       "</pre>\n"
      ],
      "text/plain": [
       "\n",
       "\u001b[1;36m>\u001b[0m ✔️ CHUYÊN GIA PHẢN BIỆN: Nội dung hợp lệ!\n"
      ]
     },
     "metadata": {},
     "output_type": "display_data"
    },
    {
     "data": {
      "text/html": [
       "<pre style=\"white-space:pre;overflow-x:auto;line-height:normal;font-family:Menlo,'DejaVu Sans Mono',consolas,'Courier New',monospace\">\n",
       "<span style=\"color: #008080; text-decoration-color: #008080; font-weight: bold\">&gt;</span> ROUTER <span style=\"font-weight: bold\">(</span>Validation<span style=\"font-weight: bold\">)</span>: Nội dung được chấp thuận. Chuyển sang bước ghi nhận.\n",
       "</pre>\n"
      ],
      "text/plain": [
       "\n",
       "\u001b[1;36m>\u001b[0m ROUTER \u001b[1m(\u001b[0mValidation\u001b[1m)\u001b[0m: Nội dung được chấp thuận. Chuyển sang bước ghi nhận.\n"
      ]
     },
     "metadata": {},
     "output_type": "display_data"
    },
    {
     "data": {
      "text/html": [
       "<pre style=\"white-space:pre;overflow-x:auto;line-height:normal;font-family:Menlo,'DejaVu Sans Mono',consolas,'Courier New',monospace\">\n",
       "<span style=\"color: #808000; text-decoration-color: #808000; font-weight: bold\">------- Hoàn thành bước: content_validator -------</span>\n",
       "</pre>\n"
      ],
      "text/plain": [
       "\n",
       "\u001b[1;33m------- Hoàn thành bước: content_validator -------\u001b[0m\n"
      ]
     },
     "metadata": {},
     "output_type": "display_data"
    },
    {
     "data": {
      "text/html": [
       "<pre style=\"white-space:pre;overflow-x:auto;line-height:normal;font-family:Menlo,'DejaVu Sans Mono',consolas,'Courier New',monospace\">\n",
       "<span style=\"color: #008080; text-decoration-color: #008080; font-weight: bold\">&gt;</span> `Commiter`: Đang ghi nhận nội dung đã được xác thực<span style=\"color: #808000; text-decoration-color: #808000\">...</span>\n",
       "</pre>\n"
      ],
      "text/plain": [
       "\n",
       "\u001b[1;36m>\u001b[0m `Commiter`: Đang ghi nhận nội dung đã được xác thực\u001b[33m...\u001b[0m\n"
      ]
     },
     "metadata": {},
     "output_type": "display_data"
    },
    {
     "data": {
      "text/html": [
       "<pre style=\"white-space:pre;overflow-x:auto;line-height:normal;font-family:Menlo,'DejaVu Sans Mono',consolas,'Courier New',monospace\">\n",
       "<span style=\"color: #808000; text-decoration-color: #808000; font-weight: bold\">------- Hoàn thành bước: commit_validated_content -------</span>\n",
       "</pre>\n"
      ],
      "text/plain": [
       "\n",
       "\u001b[1;33m------- Hoàn thành bước: commit_validated_content -------\u001b[0m\n"
      ]
     },
     "metadata": {},
     "output_type": "display_data"
    },
    {
     "data": {
      "text/html": [
       "<pre style=\"white-space:pre;overflow-x:auto;line-height:normal;font-family:Menlo,'DejaVu Sans Mono',consolas,'Courier New',monospace\">\n",
       "<span style=\"color: #808000; text-decoration-color: #808000; font-weight: bold\">------- Hoàn thành bước: mark_task_complete -------</span>\n",
       "</pre>\n"
      ],
      "text/plain": [
       "\n",
       "\u001b[1;33m------- Hoàn thành bước: mark_task_complete -------\u001b[0m\n"
      ]
     },
     "metadata": {},
     "output_type": "display_data"
    },
    {
     "data": {
      "text/html": [
       "<pre style=\"white-space:pre;overflow-x:auto;line-height:normal;font-family:Menlo,'DejaVu Sans Mono',consolas,'Courier New',monospace\">\n",
       "<span style=\"color: #008080; text-decoration-color: #008080; font-weight: bold\">&gt;</span> <span style=\"color: #808000; text-decoration-color: #808000\">...</span>Đang nghỉ <span style=\"color: #008080; text-decoration-color: #008080; font-weight: bold\">2</span> giây để tránh vượt rate limit<span style=\"color: #808000; text-decoration-color: #808000\">...</span>\n",
       "</pre>\n"
      ],
      "text/plain": [
       "\n",
       "\u001b[1;36m>\u001b[0m \u001b[33m...\u001b[0mĐang nghỉ \u001b[1;36m2\u001b[0m giây để tránh vượt rate limit\u001b[33m...\u001b[0m\n"
      ]
     },
     "metadata": {},
     "output_type": "display_data"
    },
    {
     "data": {
      "text/html": [
       "<pre style=\"white-space:pre;overflow-x:auto;line-height:normal;font-family:Menlo,'DejaVu Sans Mono',consolas,'Courier New',monospace\">\n",
       "<span style=\"color: #808000; text-decoration-color: #808000; font-weight: bold\">------- Hoàn thành bước: delay_node -------</span>\n",
       "</pre>\n"
      ],
      "text/plain": [
       "\n",
       "\u001b[1;33m------- Hoàn thành bước: delay_node -------\u001b[0m\n"
      ]
     },
     "metadata": {},
     "output_type": "display_data"
    },
    {
     "data": {
      "text/html": [
       "<pre style=\"white-space:pre;overflow-x:auto;line-height:normal;font-family:Menlo,'DejaVu Sans Mono',consolas,'Courier New',monospace\">\n",
       "<span style=\"color: #008080; text-decoration-color: #008080; font-weight: bold\">&gt;</span> `Router`: Đang kiểm tra nhiệm vụ<span style=\"color: #808000; text-decoration-color: #808000\">...</span>\n",
       "</pre>\n"
      ],
      "text/plain": [
       "\n",
       "\u001b[1;36m>\u001b[0m `Router`: Đang kiểm tra nhiệm vụ\u001b[33m...\u001b[0m\n"
      ]
     },
     "metadata": {},
     "output_type": "display_data"
    },
    {
     "data": {
      "text/html": [
       "<pre style=\"white-space:pre;overflow-x:auto;line-height:normal;font-family:Menlo,'DejaVu Sans Mono',consolas,'Courier New',monospace\">\n",
       "<span style=\"color: #008080; text-decoration-color: #008080; font-weight: bold\">&gt;</span> Nhiệm vụ tiếp theo: <span style=\"color: #008000; text-decoration-color: #008000\">'Luyện tập và Vận dụng: Giải bài tập về Đường tròn ngoại tiếp và nội tiếp'</span> <span style=\"font-weight: bold\">(</span>ID: <span style=\"color: #008080; text-decoration-color: #008080; font-weight: bold\">3</span><span style=\"font-weight: bold\">)</span>\n",
       "</pre>\n"
      ],
      "text/plain": [
       "\n",
       "\u001b[1;36m>\u001b[0m Nhiệm vụ tiếp theo: \u001b[32m'Luyện tập và Vận dụng: Giải bài tập về Đường tròn ngoại tiếp và nội tiếp'\u001b[0m \u001b[1m(\u001b[0mID: \u001b[1;36m3\u001b[0m\u001b[1m)\u001b[0m\n"
      ]
     },
     "metadata": {},
     "output_type": "display_data"
    },
    {
     "data": {
      "text/html": [
       "<pre style=\"white-space:pre;overflow-x:auto;line-height:normal;font-family:Menlo,'DejaVu Sans Mono',consolas,'Courier New',monospace\">\n",
       "<span style=\"color: #808000; text-decoration-color: #808000; font-weight: bold\">------- Hoàn thành bước: task_router -------</span>\n",
       "</pre>\n"
      ],
      "text/plain": [
       "\n",
       "\u001b[1;33m------- Hoàn thành bước: task_router -------\u001b[0m\n"
      ]
     },
     "metadata": {},
     "output_type": "display_data"
    },
    {
     "data": {
      "text/html": [
       "<pre style=\"white-space:pre;overflow-x:auto;line-height:normal;font-family:Menlo,'DejaVu Sans Mono',consolas,'Courier New',monospace\">\n",
       "<span style=\"color: #008080; text-decoration-color: #008080; font-weight: bold\">&gt;</span> `Agent: Task Dispatcher` <span style=\"font-weight: bold\">(</span>v7.<span style=\"color: #008080; text-decoration-color: #008080; font-weight: bold\">1</span><span style=\"font-weight: bold\">)</span> Bắt đầu<span style=\"color: #808000; text-decoration-color: #808000\">...</span>\n",
       "</pre>\n"
      ],
      "text/plain": [
       "\n",
       "\u001b[1;36m>\u001b[0m `Agent: Task Dispatcher` \u001b[1m(\u001b[0mv7.\u001b[1;36m1\u001b[0m\u001b[1m)\u001b[0m Bắt đầu\u001b[33m...\u001b[0m\n"
      ]
     },
     "metadata": {},
     "output_type": "display_data"
    },
    {
     "data": {
      "text/html": [
       "<pre style=\"white-space:pre;overflow-x:auto;line-height:normal;font-family:Menlo,'DejaVu Sans Mono',consolas,'Courier New',monospace\">\n",
       "<span style=\"color: #008080; text-decoration-color: #008080; font-weight: bold\">&gt;</span> --- 🚚 `Dispatcher`: Giao nhiệm vụ cho `activity_designer`.\n",
       "</pre>\n"
      ],
      "text/plain": [
       "\n",
       "\u001b[1;36m>\u001b[0m --- 🚚 `Dispatcher`: Giao nhiệm vụ cho `activity_designer`.\n"
      ]
     },
     "metadata": {},
     "output_type": "display_data"
    },
    {
     "data": {
      "text/html": [
       "<pre style=\"white-space:pre;overflow-x:auto;line-height:normal;font-family:Menlo,'DejaVu Sans Mono',consolas,'Courier New',monospace\">\n",
       "<span style=\"color: #808000; text-decoration-color: #808000; font-weight: bold\">------- Hoàn thành bước: task_dispatcher -------</span>\n",
       "</pre>\n"
      ],
      "text/plain": [
       "\n",
       "\u001b[1;33m------- Hoàn thành bước: task_dispatcher -------\u001b[0m\n"
      ]
     },
     "metadata": {},
     "output_type": "display_data"
    },
    {
     "data": {
      "text/html": [
       "<pre style=\"white-space:pre;overflow-x:auto;line-height:normal;font-family:Menlo,'DejaVu Sans Mono',consolas,'Courier New',monospace\">\n",
       "<span style=\"color: #008080; text-decoration-color: #008080; font-weight: bold\">&gt;</span> `Agent: Activity Designer` <span style=\"font-weight: bold\">(</span>v9.<span style=\"color: #008080; text-decoration-color: #008080; font-weight: bold\">0</span><span style=\"font-weight: bold\">)</span> đang tạo nội dung chi tiết và gợi ý phân hóa<span style=\"color: #808000; text-decoration-color: #808000\">...</span>\n",
       "</pre>\n"
      ],
      "text/plain": [
       "\n",
       "\u001b[1;36m>\u001b[0m `Agent: Activity Designer` \u001b[1m(\u001b[0mv9.\u001b[1;36m0\u001b[0m\u001b[1m)\u001b[0m đang tạo nội dung chi tiết và gợi ý phân hóa\u001b[33m...\u001b[0m\n"
      ]
     },
     "metadata": {},
     "output_type": "display_data"
    },
    {
     "data": {
      "text/html": [
       "<pre style=\"white-space:pre;overflow-x:auto;line-height:normal;font-family:Menlo,'DejaVu Sans Mono',consolas,'Courier New',monospace\"><span style=\"color: #008000; text-decoration-color: #008000; font-weight: bold\">✔️ Nội dung do Activity Designer tạo ra (có phân hóa):</span>\n",
       "</pre>\n"
      ],
      "text/plain": [
       "\u001b[1;32m✔️ Nội dung do Activity Designer tạo ra \u001b[0m\u001b[1;32m(\u001b[0m\u001b[1;32mcó phân hóa\u001b[0m\u001b[1;32m)\u001b[0m\u001b[1;32m:\u001b[0m\n"
      ]
     },
     "metadata": {},
     "output_type": "display_data"
    },
    {
     "data": {
      "text/html": [
       "<pre style=\"white-space:pre;overflow-x:auto;line-height:normal;font-family:Menlo,'DejaVu Sans Mono',consolas,'Courier New',monospace\"><span style=\"font-weight: bold\">{</span>\n",
       "<span style=\"color: #7fbf7f; text-decoration-color: #7fbf7f\">│   </span><span style=\"color: #008000; text-decoration-color: #008000\">'activity_name'</span>: <span style=\"color: #008000; text-decoration-color: #008000\">'Luyện tập và Vận dụng: Giải bài tập về Đường tròn ngoại tiếp và nội tiếp'</span>,\n",
       "<span style=\"color: #7fbf7f; text-decoration-color: #7fbf7f\">│   </span><span style=\"color: #008000; text-decoration-color: #008000\">'description'</span>: <span style=\"color: #008000; text-decoration-color: #008000\">'Học sinh được chia thành các nhóm (4-5 học sinh/nhóm). Mỗi nhóm sẽ nhận một phiếu bài tập gồm các dạng bài khác nhau về đường tròn ngoại tiếp và nội tiếp. Các dạng bài tập bao gồm: 1. Bài tập cơ bản: Tính bán kính đường tròn ngoại tiếp hoặc nội tiếp của các tam giác đặc biệt (tam giác vuông, tam giác đều, tam giác cân) khi biết các yếu tố về cạnh hoặc góc. Ví dụ: Cho tam giác ABC vuông tại A có AB = 6cm, AC = 8cm. Tính bán kính đường tròn ngoại tiếp và nội tiếp tam giác ABC. 2. Bài tập tổng hợp: Xác định vị trí tâm đường tròn ngoại tiếp/nội tiếp trong các trường hợp cụ thể, hoặc tính toán các yếu tố liên quan khi tam giác không phải là tam giác đặc biệt. Ví dụ: Cho tam giác ABC có ba cạnh a, b, c. Chứng minh công thức tính bán kính đường tròn nội tiếp r = S/p (với S là diện tích, p là nửa chu vi). 3. Bài tập nâng cao/chứng minh: Chứng minh các tính chất liên quan đến đường tròn ngoại tiếp/nội tiếp và các yếu tố khác của tam giác (ví dụ: đường cao, đường trung tuyến). Ví dụ: Cho tam giác ABC nội tiếp đường tròn (O). Gọi H là trực tâm của tam giác. Chứng minh rằng bán kính đường tròn ngoại tiếp tam giác HBC bằng bán kính đường tròn ngoại tiếp tam giác ABC. Các nhóm sẽ cùng nhau thảo luận, phân công nhiệm vụ và giải quyết các bài tập trong phiếu. Sau thời gian quy định, đại diện các nhóm sẽ lên bảng trình bày một hoặc hai bài tập tiêu biểu mà nhóm đã giải được. Các nhóm khác sẽ lắng nghe, đặt câu hỏi và đưa ra nhận xét. Giáo viên sẽ tổng kết, nhận xét và bổ sung kiến thức.'</span>,\n",
       "<span style=\"color: #7fbf7f; text-decoration-color: #7fbf7f\">│   </span><span style=\"color: #008000; text-decoration-color: #008000\">'duration_minutes'</span>: <span style=\"color: #008080; text-decoration-color: #008080; font-weight: bold\">15</span>,\n",
       "<span style=\"color: #7fbf7f; text-decoration-color: #7fbf7f\">│   </span><span style=\"color: #008000; text-decoration-color: #008000\">'activity_type'</span>: <span style=\"color: #008000; text-decoration-color: #008000\">'Thực hành nhóm và trình bày'</span>,\n",
       "<span style=\"color: #7fbf7f; text-decoration-color: #7fbf7f\">│   </span><span style=\"color: #008000; text-decoration-color: #008000\">'teacher_actions'</span>: <span style=\"font-weight: bold\">[</span>\n",
       "<span style=\"color: #7fbf7f; text-decoration-color: #7fbf7f\">│   │   </span><span style=\"color: #008000; text-decoration-color: #008000\">'Phân chia học sinh thành các nhóm nhỏ (4-5 học sinh/nhóm).'</span>,\n",
       "<span style=\"color: #7fbf7f; text-decoration-color: #7fbf7f\">│   │   </span><span style=\"color: #008000; text-decoration-color: #008000\">'Phát phiếu bài tập đã được chuẩn bị sẵn với các mức độ khó khác nhau cho từng nhóm hoặc cho phép nhóm tự chọn bài.'</span>,\n",
       "<span style=\"color: #7fbf7f; text-decoration-color: #7fbf7f\">│   │   </span><span style=\"color: #008000; text-decoration-color: #008000\">'Quan sát các nhóm làm việc, đi vòng quanh lớp để nắm bắt tình hình và kịp thời hỗ trợ.'</span>,\n",
       "<span style=\"color: #7fbf7f; text-decoration-color: #7fbf7f\">│   │   </span><span style=\"color: #008000; text-decoration-color: #008000\">'Đặt câu hỏi gợi mở, định hướng tư duy cho các nhóm gặp khó khăn mà không đưa ra lời giải trực tiếp.'</span>,\n",
       "<span style=\"color: #7fbf7f; text-decoration-color: #7fbf7f\">│   │   </span><span style=\"color: #008000; text-decoration-color: #008000\">'Kiểm tra nhanh sự hiểu bài của học sinh yếu bằng các câu hỏi đơn giản hoặc yêu cầu các em trình bày lại một phần nhỏ.'</span>,\n",
       "<span style=\"color: #7fbf7f; text-decoration-color: #7fbf7f\">│   │   </span><span style=\"color: #008000; text-decoration-color: #008000\">'Yêu cầu đại diện các nhóm lên trình bày bài giải trên bảng.'</span>,\n",
       "<span style=\"color: #7fbf7f; text-decoration-color: #7fbf7f\">│   │   </span><span style=\"color: #008000; text-decoration-color: #008000\">'Tổ chức cho các nhóm khác đặt câu hỏi và nhận xét về bài giải của nhóm trình bày.'</span>,\n",
       "<span style=\"color: #7fbf7f; text-decoration-color: #7fbf7f\">│   │   </span><span style=\"color: #008000; text-decoration-color: #008000\">'Tổng kết các bài giải, nhận xét về các phương pháp giải khác nhau và bổ sung kiến thức cần thiết.'</span>,\n",
       "<span style=\"color: #7fbf7f; text-decoration-color: #7fbf7f\">│   │   </span><span style=\"color: #008000; text-decoration-color: #008000\">'Giải đáp các thắc mắc của học sinh sau khi các nhóm đã trình bày xong.'</span>\n",
       "<span style=\"color: #7fbf7f; text-decoration-color: #7fbf7f\">│   </span><span style=\"font-weight: bold\">]</span>,\n",
       "<span style=\"color: #7fbf7f; text-decoration-color: #7fbf7f\">│   </span><span style=\"color: #008000; text-decoration-color: #008000\">'solution_guide'</span>: <span style=\"color: #008000; text-decoration-color: #008000\">\"Đối với các bài tập tính toán: Nhắc nhở học sinh kiểm tra lại các công thức tính bán kính đường tròn ngoại tiếp (R = a/2sinA, R = abc/4S) và nội tiếp (r = S/p, r = (p-a)tan(A/2)). Đối với các bài tập chứng minh: Gợi ý học sinh vẽ thêm đường phụ, sử dụng các tính chất của tiếp tuyến, dây cung, góc nội tiếp, hoặc các định lý liên quan đến tam giác. Các câu hỏi gợi mở chung: 'Tâm đường tròn ngoại tiếp là giao điểm của các đường đặc biệt nào trong tam giác?', 'Tâm đường tròn nội tiếp là giao điểm của các đường đặc biệt nào?', 'Mối liên hệ giữa bán kính đường tròn ngoại tiếp/nội tiếp với các cạnh và diện tích của tam giác là gì?'\"</span>,\n",
       "<span style=\"color: #7fbf7f; text-decoration-color: #7fbf7f\">│   </span><span style=\"color: #008000; text-decoration-color: #008000\">'differentiation'</span>: <span style=\"font-weight: bold\">{</span>\n",
       "<span style=\"color: #7fbf7f; text-decoration-color: #7fbf7f\">│   │   </span><span style=\"color: #008000; text-decoration-color: #008000\">'for_struggling_students'</span>: <span style=\"color: #008000; text-decoration-color: #008000\">\"Cung cấp phiếu bài tập có các bài toán cơ bản hơn, có sẵn công thức hoặc gợi ý từng bước cụ thể (ví dụ: 'Bước 1: Xác định loại tam giác. Bước 2: Áp dụng công thức R = abc/4S hoặc r = S/p'). Giáo viên chủ động đến các nhóm có học sinh yếu để kiểm tra nhanh sự hiểu bài, đặt câu hỏi gợi mở đơn giản, hoặc hướng dẫn trực tiếp một phần nhỏ của bài toán. Khuyến khích các em hỏi bạn trong nhóm và nhận sự hỗ trợ từ các bạn.\"</span>,\n",
       "<span style=\"color: #7fbf7f; text-decoration-color: #7fbf7f\">│   │   </span><span style=\"color: #008000; text-decoration-color: #008000\">'for_advanced_students'</span>: <span style=\"color: #008000; text-decoration-color: #008000\">\"Giao các bài tập nâng cao, yêu cầu chứng minh hoặc bài toán tổng hợp nhiều kiến thức hình học khác. Khuyến khích các em tìm thêm cách giải khác cho cùng một bài toán hoặc mở rộng bài toán bằng cách đặt thêm câu hỏi phụ. Yêu cầu các em giải thích cặn kẽ, rõ ràng các bước làm và lý do cho các bạn trong nhóm khi trình bày. Có thể giao thêm một bài tập về ứng dụng thực tế của đường tròn ngoại tiếp/nội tiếp trong các lĩnh vực khác (ví dụ: 'Trong thiết kế logo, làm thế nào để vẽ một đường tròn nội tiếp/ngoại tiếp một hình đa giác đều?').\"</span>\n",
       "<span style=\"color: #7fbf7f; text-decoration-color: #7fbf7f\">│   </span><span style=\"font-weight: bold\">}</span>\n",
       "<span style=\"font-weight: bold\">}</span>\n",
       "</pre>\n"
      ],
      "text/plain": [
       "\u001b[1m{\u001b[0m\n",
       "\u001b[2;32m│   \u001b[0m\u001b[32m'activity_name'\u001b[0m: \u001b[32m'Luyện tập và Vận dụng: Giải bài tập về Đường tròn ngoại tiếp và nội tiếp'\u001b[0m,\n",
       "\u001b[2;32m│   \u001b[0m\u001b[32m'description'\u001b[0m: \u001b[32m'Học sinh được chia thành các nhóm \u001b[0m\u001b[32m(\u001b[0m\u001b[32m4-5 học sinh/nhóm\u001b[0m\u001b[32m)\u001b[0m\u001b[32m. Mỗi nhóm sẽ nhận một phiếu bài tập gồm các dạng bài khác nhau về đường tròn ngoại tiếp và nội tiếp. Các dạng bài tập bao gồm: 1. Bài tập cơ bản: Tính bán kính đường tròn ngoại tiếp hoặc nội tiếp của các tam giác đặc biệt \u001b[0m\u001b[32m(\u001b[0m\u001b[32mtam giác vuông, tam giác đều, tam giác cân\u001b[0m\u001b[32m)\u001b[0m\u001b[32m khi biết các yếu tố về cạnh hoặc góc. Ví dụ: Cho tam giác ABC vuông tại A có AB = 6cm, AC = 8cm. Tính bán kính đường tròn ngoại tiếp và nội tiếp tam giác ABC. 2. Bài tập tổng hợp: Xác định vị trí tâm đường tròn ngoại tiếp/nội tiếp trong các trường hợp cụ thể, hoặc tính toán các yếu tố liên quan khi tam giác không phải là tam giác đặc biệt. Ví dụ: Cho tam giác ABC có ba cạnh a, b, c. Chứng minh công thức tính bán kính đường tròn nội tiếp r = S/p \u001b[0m\u001b[32m(\u001b[0m\u001b[32mvới S là diện tích, p là nửa chu vi\u001b[0m\u001b[32m)\u001b[0m\u001b[32m. 3. Bài tập nâng cao/chứng minh: Chứng minh các tính chất liên quan đến đường tròn ngoại tiếp/nội tiếp và các yếu tố khác của tam giác \u001b[0m\u001b[32m(\u001b[0m\u001b[32mví dụ: đường cao, đường trung tuyến\u001b[0m\u001b[32m)\u001b[0m\u001b[32m. Ví dụ: Cho tam giác ABC nội tiếp đường tròn \u001b[0m\u001b[32m(\u001b[0m\u001b[32mO\u001b[0m\u001b[32m)\u001b[0m\u001b[32m. Gọi H là trực tâm của tam giác. Chứng minh rằng bán kính đường tròn ngoại tiếp tam giác HBC bằng bán kính đường tròn ngoại tiếp tam giác ABC. Các nhóm sẽ cùng nhau thảo luận, phân công nhiệm vụ và giải quyết các bài tập trong phiếu. Sau thời gian quy định, đại diện các nhóm sẽ lên bảng trình bày một hoặc hai bài tập tiêu biểu mà nhóm đã giải được. Các nhóm khác sẽ lắng nghe, đặt câu hỏi và đưa ra nhận xét. Giáo viên sẽ tổng kết, nhận xét và bổ sung kiến thức.'\u001b[0m,\n",
       "\u001b[2;32m│   \u001b[0m\u001b[32m'duration_minutes'\u001b[0m: \u001b[1;36m15\u001b[0m,\n",
       "\u001b[2;32m│   \u001b[0m\u001b[32m'activity_type'\u001b[0m: \u001b[32m'Thực hành nhóm và trình bày'\u001b[0m,\n",
       "\u001b[2;32m│   \u001b[0m\u001b[32m'teacher_actions'\u001b[0m: \u001b[1m[\u001b[0m\n",
       "\u001b[2;32m│   │   \u001b[0m\u001b[32m'Phân chia học sinh thành các nhóm nhỏ \u001b[0m\u001b[32m(\u001b[0m\u001b[32m4-5 học sinh/nhóm\u001b[0m\u001b[32m)\u001b[0m\u001b[32m.'\u001b[0m,\n",
       "\u001b[2;32m│   │   \u001b[0m\u001b[32m'Phát phiếu bài tập đã được chuẩn bị sẵn với các mức độ khó khác nhau cho từng nhóm hoặc cho phép nhóm tự chọn bài.'\u001b[0m,\n",
       "\u001b[2;32m│   │   \u001b[0m\u001b[32m'Quan sát các nhóm làm việc, đi vòng quanh lớp để nắm bắt tình hình và kịp thời hỗ trợ.'\u001b[0m,\n",
       "\u001b[2;32m│   │   \u001b[0m\u001b[32m'Đặt câu hỏi gợi mở, định hướng tư duy cho các nhóm gặp khó khăn mà không đưa ra lời giải trực tiếp.'\u001b[0m,\n",
       "\u001b[2;32m│   │   \u001b[0m\u001b[32m'Kiểm tra nhanh sự hiểu bài của học sinh yếu bằng các câu hỏi đơn giản hoặc yêu cầu các em trình bày lại một phần nhỏ.'\u001b[0m,\n",
       "\u001b[2;32m│   │   \u001b[0m\u001b[32m'Yêu cầu đại diện các nhóm lên trình bày bài giải trên bảng.'\u001b[0m,\n",
       "\u001b[2;32m│   │   \u001b[0m\u001b[32m'Tổ chức cho các nhóm khác đặt câu hỏi và nhận xét về bài giải của nhóm trình bày.'\u001b[0m,\n",
       "\u001b[2;32m│   │   \u001b[0m\u001b[32m'Tổng kết các bài giải, nhận xét về các phương pháp giải khác nhau và bổ sung kiến thức cần thiết.'\u001b[0m,\n",
       "\u001b[2;32m│   │   \u001b[0m\u001b[32m'Giải đáp các thắc mắc của học sinh sau khi các nhóm đã trình bày xong.'\u001b[0m\n",
       "\u001b[2;32m│   \u001b[0m\u001b[1m]\u001b[0m,\n",
       "\u001b[2;32m│   \u001b[0m\u001b[32m'solution_guide'\u001b[0m: \u001b[32m\"Đối với các bài tập tính toán: Nhắc nhở học sinh kiểm tra lại các công thức tính bán kính đường tròn ngoại tiếp \u001b[0m\u001b[32m(\u001b[0m\u001b[32mR = a/2sinA, R = abc/4S\u001b[0m\u001b[32m)\u001b[0m\u001b[32m và nội tiếp \u001b[0m\u001b[32m(\u001b[0m\u001b[32mr = S/p, r = \u001b[0m\u001b[32m(\u001b[0m\u001b[32mp-a\u001b[0m\u001b[32m)\u001b[0m\u001b[32mtan\u001b[0m\u001b[32m(\u001b[0m\u001b[32mA/2\u001b[0m\u001b[32m)\u001b[0m\u001b[32m)\u001b[0m\u001b[32m. Đối với các bài tập chứng minh: Gợi ý học sinh vẽ thêm đường phụ, sử dụng các tính chất của tiếp tuyến, dây cung, góc nội tiếp, hoặc các định lý liên quan đến tam giác. Các câu hỏi gợi mở chung: 'Tâm đường tròn ngoại tiếp là giao điểm của các đường đặc biệt nào trong tam giác?', 'Tâm đường tròn nội tiếp là giao điểm của các đường đặc biệt nào?', 'Mối liên hệ giữa bán kính đường tròn ngoại tiếp/nội tiếp với các cạnh và diện tích của tam giác là gì?'\"\u001b[0m,\n",
       "\u001b[2;32m│   \u001b[0m\u001b[32m'differentiation'\u001b[0m: \u001b[1m{\u001b[0m\n",
       "\u001b[2;32m│   │   \u001b[0m\u001b[32m'for_struggling_students'\u001b[0m: \u001b[32m\"Cung cấp phiếu bài tập có các bài toán cơ bản hơn, có sẵn công thức hoặc gợi ý từng bước cụ thể \u001b[0m\u001b[32m(\u001b[0m\u001b[32mví dụ: 'Bước 1: Xác định loại tam giác. Bước 2: Áp dụng công thức R = abc/4S hoặc r = S/p'\u001b[0m\u001b[32m)\u001b[0m\u001b[32m. Giáo viên chủ động đến các nhóm có học sinh yếu để kiểm tra nhanh sự hiểu bài, đặt câu hỏi gợi mở đơn giản, hoặc hướng dẫn trực tiếp một phần nhỏ của bài toán. Khuyến khích các em hỏi bạn trong nhóm và nhận sự hỗ trợ từ các bạn.\"\u001b[0m,\n",
       "\u001b[2;32m│   │   \u001b[0m\u001b[32m'for_advanced_students'\u001b[0m: \u001b[32m\"Giao các bài tập nâng cao, yêu cầu chứng minh hoặc bài toán tổng hợp nhiều kiến thức hình học khác. Khuyến khích các em tìm thêm cách giải khác cho cùng một bài toán hoặc mở rộng bài toán bằng cách đặt thêm câu hỏi phụ. Yêu cầu các em giải thích cặn kẽ, rõ ràng các bước làm và lý do cho các bạn trong nhóm khi trình bày. Có thể giao thêm một bài tập về ứng dụng thực tế của đường tròn ngoại tiếp/nội tiếp trong các lĩnh vực khác \u001b[0m\u001b[32m(\u001b[0m\u001b[32mví dụ: 'Trong thiết kế logo, làm thế nào để vẽ một đường tròn nội tiếp/ngoại tiếp một hình đa giác đều?'\u001b[0m\u001b[32m)\u001b[0m\u001b[32m.\"\u001b[0m\n",
       "\u001b[2;32m│   \u001b[0m\u001b[1m}\u001b[0m\n",
       "\u001b[1m}\u001b[0m\n"
      ]
     },
     "metadata": {},
     "output_type": "display_data"
    },
    {
     "data": {
      "text/html": [
       "<pre style=\"white-space:pre;overflow-x:auto;line-height:normal;font-family:Menlo,'DejaVu Sans Mono',consolas,'Courier New',monospace\">\n",
       "<span style=\"color: #808000; text-decoration-color: #808000; font-weight: bold\">------- Hoàn thành bước: activity_designer -------</span>\n",
       "</pre>\n"
      ],
      "text/plain": [
       "\n",
       "\u001b[1;33m------- Hoàn thành bước: activity_designer -------\u001b[0m\n"
      ]
     },
     "metadata": {},
     "output_type": "display_data"
    },
    {
     "data": {
      "text/html": [
       "<pre style=\"white-space:pre;overflow-x:auto;line-height:normal;font-family:Menlo,'DejaVu Sans Mono',consolas,'Courier New',monospace\">\n",
       "<span style=\"color: #008080; text-decoration-color: #008080; font-weight: bold\">&gt;</span> `Agent: Contextual Critic` <span style=\"font-weight: bold\">(</span>v7.<span style=\"color: #008080; text-decoration-color: #008080; font-weight: bold\">5</span><span style=\"font-weight: bold\">)</span> đang phản biện nội dung<span style=\"color: #808000; text-decoration-color: #808000\">...</span>\n",
       "</pre>\n"
      ],
      "text/plain": [
       "\n",
       "\u001b[1;36m>\u001b[0m `Agent: Contextual Critic` \u001b[1m(\u001b[0mv7.\u001b[1;36m5\u001b[0m\u001b[1m)\u001b[0m đang phản biện nội dung\u001b[33m...\u001b[0m\n"
      ]
     },
     "metadata": {},
     "output_type": "display_data"
    },
    {
     "data": {
      "text/html": [
       "<pre style=\"white-space:pre;overflow-x:auto;line-height:normal;font-family:Menlo,'DejaVu Sans Mono',consolas,'Courier New',monospace\">\n",
       "<span style=\"color: #008080; text-decoration-color: #008080; font-weight: bold\">&gt;</span> ✔️ CHUYÊN GIA PHẢN BIỆN: Nội dung hợp lệ!\n",
       "</pre>\n"
      ],
      "text/plain": [
       "\n",
       "\u001b[1;36m>\u001b[0m ✔️ CHUYÊN GIA PHẢN BIỆN: Nội dung hợp lệ!\n"
      ]
     },
     "metadata": {},
     "output_type": "display_data"
    },
    {
     "data": {
      "text/html": [
       "<pre style=\"white-space:pre;overflow-x:auto;line-height:normal;font-family:Menlo,'DejaVu Sans Mono',consolas,'Courier New',monospace\">\n",
       "<span style=\"color: #008080; text-decoration-color: #008080; font-weight: bold\">&gt;</span> ROUTER <span style=\"font-weight: bold\">(</span>Validation<span style=\"font-weight: bold\">)</span>: Nội dung được chấp thuận. Chuyển sang bước ghi nhận.\n",
       "</pre>\n"
      ],
      "text/plain": [
       "\n",
       "\u001b[1;36m>\u001b[0m ROUTER \u001b[1m(\u001b[0mValidation\u001b[1m)\u001b[0m: Nội dung được chấp thuận. Chuyển sang bước ghi nhận.\n"
      ]
     },
     "metadata": {},
     "output_type": "display_data"
    },
    {
     "data": {
      "text/html": [
       "<pre style=\"white-space:pre;overflow-x:auto;line-height:normal;font-family:Menlo,'DejaVu Sans Mono',consolas,'Courier New',monospace\">\n",
       "<span style=\"color: #808000; text-decoration-color: #808000; font-weight: bold\">------- Hoàn thành bước: content_validator -------</span>\n",
       "</pre>\n"
      ],
      "text/plain": [
       "\n",
       "\u001b[1;33m------- Hoàn thành bước: content_validator -------\u001b[0m\n"
      ]
     },
     "metadata": {},
     "output_type": "display_data"
    },
    {
     "data": {
      "text/html": [
       "<pre style=\"white-space:pre;overflow-x:auto;line-height:normal;font-family:Menlo,'DejaVu Sans Mono',consolas,'Courier New',monospace\">\n",
       "<span style=\"color: #008080; text-decoration-color: #008080; font-weight: bold\">&gt;</span> `Commiter`: Đang ghi nhận nội dung đã được xác thực<span style=\"color: #808000; text-decoration-color: #808000\">...</span>\n",
       "</pre>\n"
      ],
      "text/plain": [
       "\n",
       "\u001b[1;36m>\u001b[0m `Commiter`: Đang ghi nhận nội dung đã được xác thực\u001b[33m...\u001b[0m\n"
      ]
     },
     "metadata": {},
     "output_type": "display_data"
    },
    {
     "data": {
      "text/html": [
       "<pre style=\"white-space:pre;overflow-x:auto;line-height:normal;font-family:Menlo,'DejaVu Sans Mono',consolas,'Courier New',monospace\">\n",
       "<span style=\"color: #808000; text-decoration-color: #808000; font-weight: bold\">------- Hoàn thành bước: commit_validated_content -------</span>\n",
       "</pre>\n"
      ],
      "text/plain": [
       "\n",
       "\u001b[1;33m------- Hoàn thành bước: commit_validated_content -------\u001b[0m\n"
      ]
     },
     "metadata": {},
     "output_type": "display_data"
    },
    {
     "data": {
      "text/html": [
       "<pre style=\"white-space:pre;overflow-x:auto;line-height:normal;font-family:Menlo,'DejaVu Sans Mono',consolas,'Courier New',monospace\">\n",
       "<span style=\"color: #808000; text-decoration-color: #808000; font-weight: bold\">------- Hoàn thành bước: mark_task_complete -------</span>\n",
       "</pre>\n"
      ],
      "text/plain": [
       "\n",
       "\u001b[1;33m------- Hoàn thành bước: mark_task_complete -------\u001b[0m\n"
      ]
     },
     "metadata": {},
     "output_type": "display_data"
    },
    {
     "data": {
      "text/html": [
       "<pre style=\"white-space:pre;overflow-x:auto;line-height:normal;font-family:Menlo,'DejaVu Sans Mono',consolas,'Courier New',monospace\">\n",
       "<span style=\"color: #008080; text-decoration-color: #008080; font-weight: bold\">&gt;</span> <span style=\"color: #808000; text-decoration-color: #808000\">...</span>Đang nghỉ <span style=\"color: #008080; text-decoration-color: #008080; font-weight: bold\">2</span> giây để tránh vượt rate limit<span style=\"color: #808000; text-decoration-color: #808000\">...</span>\n",
       "</pre>\n"
      ],
      "text/plain": [
       "\n",
       "\u001b[1;36m>\u001b[0m \u001b[33m...\u001b[0mĐang nghỉ \u001b[1;36m2\u001b[0m giây để tránh vượt rate limit\u001b[33m...\u001b[0m\n"
      ]
     },
     "metadata": {},
     "output_type": "display_data"
    },
    {
     "data": {
      "text/html": [
       "<pre style=\"white-space:pre;overflow-x:auto;line-height:normal;font-family:Menlo,'DejaVu Sans Mono',consolas,'Courier New',monospace\">\n",
       "<span style=\"color: #808000; text-decoration-color: #808000; font-weight: bold\">------- Hoàn thành bước: delay_node -------</span>\n",
       "</pre>\n"
      ],
      "text/plain": [
       "\n",
       "\u001b[1;33m------- Hoàn thành bước: delay_node -------\u001b[0m\n"
      ]
     },
     "metadata": {},
     "output_type": "display_data"
    },
    {
     "data": {
      "text/html": [
       "<pre style=\"white-space:pre;overflow-x:auto;line-height:normal;font-family:Menlo,'DejaVu Sans Mono',consolas,'Courier New',monospace\">\n",
       "<span style=\"color: #008080; text-decoration-color: #008080; font-weight: bold\">&gt;</span> `Router`: Đang kiểm tra nhiệm vụ<span style=\"color: #808000; text-decoration-color: #808000\">...</span>\n",
       "</pre>\n"
      ],
      "text/plain": [
       "\n",
       "\u001b[1;36m>\u001b[0m `Router`: Đang kiểm tra nhiệm vụ\u001b[33m...\u001b[0m\n"
      ]
     },
     "metadata": {},
     "output_type": "display_data"
    },
    {
     "data": {
      "text/html": [
       "<pre style=\"white-space:pre;overflow-x:auto;line-height:normal;font-family:Menlo,'DejaVu Sans Mono',consolas,'Courier New',monospace\">\n",
       "<span style=\"color: #008080; text-decoration-color: #008080; font-weight: bold\">&gt;</span> Nhiệm vụ tiếp theo: <span style=\"color: #008000; text-decoration-color: #008000\">'Tổng kết và Củng cố kiến thức'</span> <span style=\"font-weight: bold\">(</span>ID: <span style=\"color: #008080; text-decoration-color: #008080; font-weight: bold\">4</span><span style=\"font-weight: bold\">)</span>\n",
       "</pre>\n"
      ],
      "text/plain": [
       "\n",
       "\u001b[1;36m>\u001b[0m Nhiệm vụ tiếp theo: \u001b[32m'Tổng kết và Củng cố kiến thức'\u001b[0m \u001b[1m(\u001b[0mID: \u001b[1;36m4\u001b[0m\u001b[1m)\u001b[0m\n"
      ]
     },
     "metadata": {},
     "output_type": "display_data"
    },
    {
     "data": {
      "text/html": [
       "<pre style=\"white-space:pre;overflow-x:auto;line-height:normal;font-family:Menlo,'DejaVu Sans Mono',consolas,'Courier New',monospace\">\n",
       "<span style=\"color: #808000; text-decoration-color: #808000; font-weight: bold\">------- Hoàn thành bước: task_router -------</span>\n",
       "</pre>\n"
      ],
      "text/plain": [
       "\n",
       "\u001b[1;33m------- Hoàn thành bước: task_router -------\u001b[0m\n"
      ]
     },
     "metadata": {},
     "output_type": "display_data"
    },
    {
     "data": {
      "text/html": [
       "<pre style=\"white-space:pre;overflow-x:auto;line-height:normal;font-family:Menlo,'DejaVu Sans Mono',consolas,'Courier New',monospace\">\n",
       "<span style=\"color: #008080; text-decoration-color: #008080; font-weight: bold\">&gt;</span> `Agent: Task Dispatcher` <span style=\"font-weight: bold\">(</span>v7.<span style=\"color: #008080; text-decoration-color: #008080; font-weight: bold\">1</span><span style=\"font-weight: bold\">)</span> Bắt đầu<span style=\"color: #808000; text-decoration-color: #808000\">...</span>\n",
       "</pre>\n"
      ],
      "text/plain": [
       "\n",
       "\u001b[1;36m>\u001b[0m `Agent: Task Dispatcher` \u001b[1m(\u001b[0mv7.\u001b[1;36m1\u001b[0m\u001b[1m)\u001b[0m Bắt đầu\u001b[33m...\u001b[0m\n"
      ]
     },
     "metadata": {},
     "output_type": "display_data"
    },
    {
     "data": {
      "text/html": [
       "<pre style=\"white-space:pre;overflow-x:auto;line-height:normal;font-family:Menlo,'DejaVu Sans Mono',consolas,'Courier New',monospace\">\n",
       "<span style=\"color: #008080; text-decoration-color: #008080; font-weight: bold\">&gt;</span> --- 🚚 `Dispatcher`: Giao nhiệm vụ cho `assessment_creator`.\n",
       "</pre>\n"
      ],
      "text/plain": [
       "\n",
       "\u001b[1;36m>\u001b[0m --- 🚚 `Dispatcher`: Giao nhiệm vụ cho `assessment_creator`.\n"
      ]
     },
     "metadata": {},
     "output_type": "display_data"
    },
    {
     "data": {
      "text/html": [
       "<pre style=\"white-space:pre;overflow-x:auto;line-height:normal;font-family:Menlo,'DejaVu Sans Mono',consolas,'Courier New',monospace\">\n",
       "<span style=\"color: #808000; text-decoration-color: #808000; font-weight: bold\">------- Hoàn thành bước: task_dispatcher -------</span>\n",
       "</pre>\n"
      ],
      "text/plain": [
       "\n",
       "\u001b[1;33m------- Hoàn thành bước: task_dispatcher -------\u001b[0m\n"
      ]
     },
     "metadata": {},
     "output_type": "display_data"
    },
    {
     "data": {
      "text/html": [
       "<pre style=\"white-space:pre;overflow-x:auto;line-height:normal;font-family:Menlo,'DejaVu Sans Mono',consolas,'Courier New',monospace\">\n",
       "<span style=\"color: #008080; text-decoration-color: #008080; font-weight: bold\">&gt;</span> `Agent: Assessment Creator` <span style=\"font-weight: bold\">(</span>v9.<span style=\"color: #008080; text-decoration-color: #008080; font-weight: bold\">0</span><span style=\"font-weight: bold\">)</span> đang tạo nội dung chi tiết và gợi ý phân hóa<span style=\"color: #808000; text-decoration-color: #808000\">...</span>\n",
       "</pre>\n"
      ],
      "text/plain": [
       "\n",
       "\u001b[1;36m>\u001b[0m `Agent: Assessment Creator` \u001b[1m(\u001b[0mv9.\u001b[1;36m0\u001b[0m\u001b[1m)\u001b[0m đang tạo nội dung chi tiết và gợi ý phân hóa\u001b[33m...\u001b[0m\n"
      ]
     },
     "metadata": {},
     "output_type": "display_data"
    },
    {
     "data": {
      "text/html": [
       "<pre style=\"white-space:pre;overflow-x:auto;line-height:normal;font-family:Menlo,'DejaVu Sans Mono',consolas,'Courier New',monospace\"><span style=\"color: #008000; text-decoration-color: #008000; font-weight: bold\">✔️ Nội dung do Assessment Creator tạo ra (có phân hóa):</span>\n",
       "</pre>\n"
      ],
      "text/plain": [
       "\u001b[1;32m✔️ Nội dung do Assessment Creator tạo ra \u001b[0m\u001b[1;32m(\u001b[0m\u001b[1;32mcó phân hóa\u001b[0m\u001b[1;32m)\u001b[0m\u001b[1;32m:\u001b[0m\n"
      ]
     },
     "metadata": {},
     "output_type": "display_data"
    },
    {
     "data": {
      "text/html": [
       "<pre style=\"white-space:pre;overflow-x:auto;line-height:normal;font-family:Menlo,'DejaVu Sans Mono',consolas,'Courier New',monospace\"><span style=\"font-weight: bold\">{</span>\n",
       "<span style=\"color: #7fbf7f; text-decoration-color: #7fbf7f\">│   </span><span style=\"color: #008000; text-decoration-color: #008000\">'activity_name'</span>: <span style=\"color: #008000; text-decoration-color: #008000\">'Tổng kết và Củng cố kiến thức'</span>,\n",
       "<span style=\"color: #7fbf7f; text-decoration-color: #7fbf7f\">│   </span><span style=\"color: #008000; text-decoration-color: #008000\">'question'</span>: <span style=\"color: #008000; text-decoration-color: #008000\">'Cho tam giác ABC. Tâm đường tròn ngoại tiếp tam giác ABC là giao điểm của ba đường nào?\\nA. Ba đường cao\\nB. Ba đường trung tuyến\\nC. Ba đường trung trực\\nD. Ba đường phân giác'</span>,\n",
       "<span style=\"color: #7fbf7f; text-decoration-color: #7fbf7f\">│   </span><span style=\"color: #008000; text-decoration-color: #008000\">'question_type'</span>: <span style=\"color: #008000; text-decoration-color: #008000\">'Trắc nghiệm'</span>,\n",
       "<span style=\"color: #7fbf7f; text-decoration-color: #7fbf7f\">│   </span><span style=\"color: #008000; text-decoration-color: #008000\">'teacher_actions'</span>: <span style=\"font-weight: bold\">[</span>\n",
       "<span style=\"color: #7fbf7f; text-decoration-color: #7fbf7f\">│   │   </span><span style=\"color: #008000; text-decoration-color: #008000\">'Giáo viên chiếu câu hỏi trắc nghiệm lên bảng hoặc phát phiếu bài tập nhanh.'</span>,\n",
       "<span style=\"color: #7fbf7f; text-decoration-color: #7fbf7f\">│   │   </span><span style=\"color: #008000; text-decoration-color: #008000\">'Yêu cầu học sinh suy nghĩ và chọn đáp án đúng trong 1 phút.'</span>,\n",
       "<span style=\"color: #7fbf7f; text-decoration-color: #7fbf7f\">│   │   </span><span style=\"color: #008000; text-decoration-color: #008000\">'Mời 1-2 học sinh trình bày đáp án và giải thích ngắn gọn lý do lựa chọn.'</span>,\n",
       "<span style=\"color: #7fbf7f; text-decoration-color: #7fbf7f\">│   │   </span><span style=\"color: #008000; text-decoration-color: #008000\">'Giáo viên chốt đáp án đúng, giải thích rõ ràng và củng cố kiến thức về định nghĩa tâm đường tròn ngoại tiếp.'</span>,\n",
       "<span style=\"color: #7fbf7f; text-decoration-color: #7fbf7f\">│   │   </span><span style=\"color: #008000; text-decoration-color: #008000\">'Giao bài tập về nhà có phân hóa để học sinh tự luyện tập thêm.'</span>\n",
       "<span style=\"color: #7fbf7f; text-decoration-color: #7fbf7f\">│   </span><span style=\"font-weight: bold\">]</span>,\n",
       "<span style=\"color: #7fbf7f; text-decoration-color: #7fbf7f\">│   </span><span style=\"color: #008000; text-decoration-color: #008000\">'answer'</span>: <span style=\"color: #008000; text-decoration-color: #008000\">'C. Ba đường trung trực'</span>,\n",
       "<span style=\"color: #7fbf7f; text-decoration-color: #7fbf7f\">│   </span><span style=\"color: #008000; text-decoration-color: #008000\">'solution_guide'</span>: <span style=\"color: #008000; text-decoration-color: #008000\">'Tâm đường tròn ngoại tiếp tam giác là giao điểm của ba đường trung trực của ba cạnh tam giác. Đường trung trực của một đoạn thẳng là đường thẳng vuông góc với đoạn thẳng đó tại trung điểm của nó. Ba đường trung trực của ba cạnh tam giác luôn đồng quy tại một điểm, và điểm đó chính là tâm đường tròn ngoại tiếp tam giác.'</span>,\n",
       "<span style=\"color: #7fbf7f; text-decoration-color: #7fbf7f\">│   </span><span style=\"color: #008000; text-decoration-color: #008000\">'duration_minutes'</span>: <span style=\"color: #008080; text-decoration-color: #008080; font-weight: bold\">10</span>,\n",
       "<span style=\"color: #7fbf7f; text-decoration-color: #7fbf7f\">│   </span><span style=\"color: #008000; text-decoration-color: #008000\">'differentiation'</span>: <span style=\"font-weight: bold\">{</span>\n",
       "<span style=\"color: #7fbf7f; text-decoration-color: #7fbf7f\">│   │   </span><span style=\"color: #008000; text-decoration-color: #008000\">'for_struggling_students'</span>: <span style=\"color: #008000; text-decoration-color: #008000\">'Đối với học sinh gặp khó khăn, giáo viên có thể gợi ý các em xem lại định nghĩa và tính chất trong sách giáo khoa hoặc phiếu tóm tắt kiến thức trước khi trả lời. Có thể cho phép các em thảo luận nhanh với bạn bên cạnh để tìm ra đáp án.'</span>,\n",
       "<span style=\"color: #7fbf7f; text-decoration-color: #7fbf7f\">│   │   </span><span style=\"color: #008000; text-decoration-color: #008000\">'for_advanced_students'</span>: <span style=\"color: #008000; text-decoration-color: #008000\">\"Đối với học sinh khá giỏi, giáo viên có thể đặt câu hỏi mở rộng sau khi học sinh trả lời xong câu hỏi chính: 'Tâm đường tròn nội tiếp tam giác là giao điểm của ba đường nào? Nêu mối liên hệ giữa vị trí tâm đường tròn ngoại tiếp với các loại tam giác đặc biệt (tam giác vuông, tam giác tù, tam giác nhọn)?'\"</span>\n",
       "<span style=\"color: #7fbf7f; text-decoration-color: #7fbf7f\">│   </span><span style=\"font-weight: bold\">}</span>\n",
       "<span style=\"font-weight: bold\">}</span>\n",
       "</pre>\n"
      ],
      "text/plain": [
       "\u001b[1m{\u001b[0m\n",
       "\u001b[2;32m│   \u001b[0m\u001b[32m'activity_name'\u001b[0m: \u001b[32m'Tổng kết và Củng cố kiến thức'\u001b[0m,\n",
       "\u001b[2;32m│   \u001b[0m\u001b[32m'question'\u001b[0m: \u001b[32m'Cho tam giác ABC. Tâm đường tròn ngoại tiếp tam giác ABC là giao điểm của ba đường nào?\\nA. Ba đường cao\\nB. Ba đường trung tuyến\\nC. Ba đường trung trực\\nD. Ba đường phân giác'\u001b[0m,\n",
       "\u001b[2;32m│   \u001b[0m\u001b[32m'question_type'\u001b[0m: \u001b[32m'Trắc nghiệm'\u001b[0m,\n",
       "\u001b[2;32m│   \u001b[0m\u001b[32m'teacher_actions'\u001b[0m: \u001b[1m[\u001b[0m\n",
       "\u001b[2;32m│   │   \u001b[0m\u001b[32m'Giáo viên chiếu câu hỏi trắc nghiệm lên bảng hoặc phát phiếu bài tập nhanh.'\u001b[0m,\n",
       "\u001b[2;32m│   │   \u001b[0m\u001b[32m'Yêu cầu học sinh suy nghĩ và chọn đáp án đúng trong 1 phút.'\u001b[0m,\n",
       "\u001b[2;32m│   │   \u001b[0m\u001b[32m'Mời 1-2 học sinh trình bày đáp án và giải thích ngắn gọn lý do lựa chọn.'\u001b[0m,\n",
       "\u001b[2;32m│   │   \u001b[0m\u001b[32m'Giáo viên chốt đáp án đúng, giải thích rõ ràng và củng cố kiến thức về định nghĩa tâm đường tròn ngoại tiếp.'\u001b[0m,\n",
       "\u001b[2;32m│   │   \u001b[0m\u001b[32m'Giao bài tập về nhà có phân hóa để học sinh tự luyện tập thêm.'\u001b[0m\n",
       "\u001b[2;32m│   \u001b[0m\u001b[1m]\u001b[0m,\n",
       "\u001b[2;32m│   \u001b[0m\u001b[32m'answer'\u001b[0m: \u001b[32m'C. Ba đường trung trực'\u001b[0m,\n",
       "\u001b[2;32m│   \u001b[0m\u001b[32m'solution_guide'\u001b[0m: \u001b[32m'Tâm đường tròn ngoại tiếp tam giác là giao điểm của ba đường trung trực của ba cạnh tam giác. Đường trung trực của một đoạn thẳng là đường thẳng vuông góc với đoạn thẳng đó tại trung điểm của nó. Ba đường trung trực của ba cạnh tam giác luôn đồng quy tại một điểm, và điểm đó chính là tâm đường tròn ngoại tiếp tam giác.'\u001b[0m,\n",
       "\u001b[2;32m│   \u001b[0m\u001b[32m'duration_minutes'\u001b[0m: \u001b[1;36m10\u001b[0m,\n",
       "\u001b[2;32m│   \u001b[0m\u001b[32m'differentiation'\u001b[0m: \u001b[1m{\u001b[0m\n",
       "\u001b[2;32m│   │   \u001b[0m\u001b[32m'for_struggling_students'\u001b[0m: \u001b[32m'Đối với học sinh gặp khó khăn, giáo viên có thể gợi ý các em xem lại định nghĩa và tính chất trong sách giáo khoa hoặc phiếu tóm tắt kiến thức trước khi trả lời. Có thể cho phép các em thảo luận nhanh với bạn bên cạnh để tìm ra đáp án.'\u001b[0m,\n",
       "\u001b[2;32m│   │   \u001b[0m\u001b[32m'for_advanced_students'\u001b[0m: \u001b[32m\"Đối với học sinh khá giỏi, giáo viên có thể đặt câu hỏi mở rộng sau khi học sinh trả lời xong câu hỏi chính: 'Tâm đường tròn nội tiếp tam giác là giao điểm của ba đường nào? Nêu mối liên hệ giữa vị trí tâm đường tròn ngoại tiếp với các loại tam giác đặc biệt \u001b[0m\u001b[32m(\u001b[0m\u001b[32mtam giác vuông, tam giác tù, tam giác nhọn\u001b[0m\u001b[32m)\u001b[0m\u001b[32m?'\"\u001b[0m\n",
       "\u001b[2;32m│   \u001b[0m\u001b[1m}\u001b[0m\n",
       "\u001b[1m}\u001b[0m\n"
      ]
     },
     "metadata": {},
     "output_type": "display_data"
    },
    {
     "data": {
      "text/html": [
       "<pre style=\"white-space:pre;overflow-x:auto;line-height:normal;font-family:Menlo,'DejaVu Sans Mono',consolas,'Courier New',monospace\">\n",
       "<span style=\"color: #808000; text-decoration-color: #808000; font-weight: bold\">------- Hoàn thành bước: assessment_creator -------</span>\n",
       "</pre>\n"
      ],
      "text/plain": [
       "\n",
       "\u001b[1;33m------- Hoàn thành bước: assessment_creator -------\u001b[0m\n"
      ]
     },
     "metadata": {},
     "output_type": "display_data"
    },
    {
     "data": {
      "text/html": [
       "<pre style=\"white-space:pre;overflow-x:auto;line-height:normal;font-family:Menlo,'DejaVu Sans Mono',consolas,'Courier New',monospace\">\n",
       "<span style=\"color: #008080; text-decoration-color: #008080; font-weight: bold\">&gt;</span> `Agent: Contextual Critic` <span style=\"font-weight: bold\">(</span>v7.<span style=\"color: #008080; text-decoration-color: #008080; font-weight: bold\">5</span><span style=\"font-weight: bold\">)</span> đang phản biện nội dung<span style=\"color: #808000; text-decoration-color: #808000\">...</span>\n",
       "</pre>\n"
      ],
      "text/plain": [
       "\n",
       "\u001b[1;36m>\u001b[0m `Agent: Contextual Critic` \u001b[1m(\u001b[0mv7.\u001b[1;36m5\u001b[0m\u001b[1m)\u001b[0m đang phản biện nội dung\u001b[33m...\u001b[0m\n"
      ]
     },
     "metadata": {},
     "output_type": "display_data"
    },
    {
     "data": {
      "text/html": [
       "<pre style=\"white-space:pre;overflow-x:auto;line-height:normal;font-family:Menlo,'DejaVu Sans Mono',consolas,'Courier New',monospace\">\n",
       "<span style=\"color: #008080; text-decoration-color: #008080; font-weight: bold\">&gt;</span> ✔️ CHUYÊN GIA PHẢN BIỆN: Nội dung hợp lệ!\n",
       "</pre>\n"
      ],
      "text/plain": [
       "\n",
       "\u001b[1;36m>\u001b[0m ✔️ CHUYÊN GIA PHẢN BIỆN: Nội dung hợp lệ!\n"
      ]
     },
     "metadata": {},
     "output_type": "display_data"
    },
    {
     "data": {
      "text/html": [
       "<pre style=\"white-space:pre;overflow-x:auto;line-height:normal;font-family:Menlo,'DejaVu Sans Mono',consolas,'Courier New',monospace\">\n",
       "<span style=\"color: #008080; text-decoration-color: #008080; font-weight: bold\">&gt;</span> ROUTER <span style=\"font-weight: bold\">(</span>Validation<span style=\"font-weight: bold\">)</span>: Nội dung được chấp thuận. Chuyển sang bước ghi nhận.\n",
       "</pre>\n"
      ],
      "text/plain": [
       "\n",
       "\u001b[1;36m>\u001b[0m ROUTER \u001b[1m(\u001b[0mValidation\u001b[1m)\u001b[0m: Nội dung được chấp thuận. Chuyển sang bước ghi nhận.\n"
      ]
     },
     "metadata": {},
     "output_type": "display_data"
    },
    {
     "data": {
      "text/html": [
       "<pre style=\"white-space:pre;overflow-x:auto;line-height:normal;font-family:Menlo,'DejaVu Sans Mono',consolas,'Courier New',monospace\">\n",
       "<span style=\"color: #808000; text-decoration-color: #808000; font-weight: bold\">------- Hoàn thành bước: content_validator -------</span>\n",
       "</pre>\n"
      ],
      "text/plain": [
       "\n",
       "\u001b[1;33m------- Hoàn thành bước: content_validator -------\u001b[0m\n"
      ]
     },
     "metadata": {},
     "output_type": "display_data"
    },
    {
     "data": {
      "text/html": [
       "<pre style=\"white-space:pre;overflow-x:auto;line-height:normal;font-family:Menlo,'DejaVu Sans Mono',consolas,'Courier New',monospace\">\n",
       "<span style=\"color: #008080; text-decoration-color: #008080; font-weight: bold\">&gt;</span> `Commiter`: Đang ghi nhận nội dung đã được xác thực<span style=\"color: #808000; text-decoration-color: #808000\">...</span>\n",
       "</pre>\n"
      ],
      "text/plain": [
       "\n",
       "\u001b[1;36m>\u001b[0m `Commiter`: Đang ghi nhận nội dung đã được xác thực\u001b[33m...\u001b[0m\n"
      ]
     },
     "metadata": {},
     "output_type": "display_data"
    },
    {
     "data": {
      "text/html": [
       "<pre style=\"white-space:pre;overflow-x:auto;line-height:normal;font-family:Menlo,'DejaVu Sans Mono',consolas,'Courier New',monospace\">\n",
       "<span style=\"color: #808000; text-decoration-color: #808000; font-weight: bold\">------- Hoàn thành bước: commit_validated_content -------</span>\n",
       "</pre>\n"
      ],
      "text/plain": [
       "\n",
       "\u001b[1;33m------- Hoàn thành bước: commit_validated_content -------\u001b[0m\n"
      ]
     },
     "metadata": {},
     "output_type": "display_data"
    },
    {
     "data": {
      "text/html": [
       "<pre style=\"white-space:pre;overflow-x:auto;line-height:normal;font-family:Menlo,'DejaVu Sans Mono',consolas,'Courier New',monospace\">\n",
       "<span style=\"color: #808000; text-decoration-color: #808000; font-weight: bold\">------- Hoàn thành bước: mark_task_complete -------</span>\n",
       "</pre>\n"
      ],
      "text/plain": [
       "\n",
       "\u001b[1;33m------- Hoàn thành bước: mark_task_complete -------\u001b[0m\n"
      ]
     },
     "metadata": {},
     "output_type": "display_data"
    },
    {
     "data": {
      "text/html": [
       "<pre style=\"white-space:pre;overflow-x:auto;line-height:normal;font-family:Menlo,'DejaVu Sans Mono',consolas,'Courier New',monospace\">\n",
       "<span style=\"color: #008080; text-decoration-color: #008080; font-weight: bold\">&gt;</span> <span style=\"color: #808000; text-decoration-color: #808000\">...</span>Đang nghỉ <span style=\"color: #008080; text-decoration-color: #008080; font-weight: bold\">2</span> giây để tránh vượt rate limit<span style=\"color: #808000; text-decoration-color: #808000\">...</span>\n",
       "</pre>\n"
      ],
      "text/plain": [
       "\n",
       "\u001b[1;36m>\u001b[0m \u001b[33m...\u001b[0mĐang nghỉ \u001b[1;36m2\u001b[0m giây để tránh vượt rate limit\u001b[33m...\u001b[0m\n"
      ]
     },
     "metadata": {},
     "output_type": "display_data"
    },
    {
     "data": {
      "text/html": [
       "<pre style=\"white-space:pre;overflow-x:auto;line-height:normal;font-family:Menlo,'DejaVu Sans Mono',consolas,'Courier New',monospace\">\n",
       "<span style=\"color: #808000; text-decoration-color: #808000; font-weight: bold\">------- Hoàn thành bước: delay_node -------</span>\n",
       "</pre>\n"
      ],
      "text/plain": [
       "\n",
       "\u001b[1;33m------- Hoàn thành bước: delay_node -------\u001b[0m\n"
      ]
     },
     "metadata": {},
     "output_type": "display_data"
    },
    {
     "data": {
      "text/html": [
       "<pre style=\"white-space:pre;overflow-x:auto;line-height:normal;font-family:Menlo,'DejaVu Sans Mono',consolas,'Courier New',monospace\">\n",
       "<span style=\"color: #008080; text-decoration-color: #008080; font-weight: bold\">&gt;</span> `Router`: Đang kiểm tra nhiệm vụ<span style=\"color: #808000; text-decoration-color: #808000\">...</span>\n",
       "</pre>\n"
      ],
      "text/plain": [
       "\n",
       "\u001b[1;36m>\u001b[0m `Router`: Đang kiểm tra nhiệm vụ\u001b[33m...\u001b[0m\n"
      ]
     },
     "metadata": {},
     "output_type": "display_data"
    },
    {
     "data": {
      "text/html": [
       "<pre style=\"white-space:pre;overflow-x:auto;line-height:normal;font-family:Menlo,'DejaVu Sans Mono',consolas,'Courier New',monospace\">\n",
       "<span style=\"color: #008080; text-decoration-color: #008080; font-weight: bold\">&gt;</span> Hết nhiệm vụ, chuyển sang node Compiler &amp; Critic.\n",
       "</pre>\n"
      ],
      "text/plain": [
       "\n",
       "\u001b[1;36m>\u001b[0m Hết nhiệm vụ, chuyển sang node Compiler & Critic.\n"
      ]
     },
     "metadata": {},
     "output_type": "display_data"
    },
    {
     "data": {
      "text/html": [
       "<pre style=\"white-space:pre;overflow-x:auto;line-height:normal;font-family:Menlo,'DejaVu Sans Mono',consolas,'Courier New',monospace\">\n",
       "<span style=\"color: #808000; text-decoration-color: #808000; font-weight: bold\">------- Hoàn thành bước: task_router -------</span>\n",
       "</pre>\n"
      ],
      "text/plain": [
       "\n",
       "\u001b[1;33m------- Hoàn thành bước: task_router -------\u001b[0m\n"
      ]
     },
     "metadata": {},
     "output_type": "display_data"
    },
    {
     "data": {
      "text/html": [
       "<pre style=\"white-space:pre;overflow-x:auto;line-height:normal;font-family:Menlo,'DejaVu Sans Mono',consolas,'Courier New',monospace\">\n",
       "<span style=\"color: #008080; text-decoration-color: #008080; font-weight: bold\">&gt;</span> `Agent: Structured Plan Compiler` <span style=\"font-weight: bold\">(</span>v9.<span style=\"color: #008080; text-decoration-color: #008080; font-weight: bold\">0</span><span style=\"font-weight: bold\">)</span> đang tổng hợp giáo án có cấu trúc<span style=\"color: #808000; text-decoration-color: #808000\">...</span>\n",
       "</pre>\n"
      ],
      "text/plain": [
       "\n",
       "\u001b[1;36m>\u001b[0m `Agent: Structured Plan Compiler` \u001b[1m(\u001b[0mv9.\u001b[1;36m0\u001b[0m\u001b[1m)\u001b[0m đang tổng hợp giáo án có cấu trúc\u001b[33m...\u001b[0m\n"
      ]
     },
     "metadata": {},
     "output_type": "display_data"
    },
    {
     "data": {
      "text/html": [
       "<pre style=\"white-space:pre;overflow-x:auto;line-height:normal;font-family:Menlo,'DejaVu Sans Mono',consolas,'Courier New',monospace\">\n",
       "<span style=\"color: #008080; text-decoration-color: #008080; font-weight: bold\">&gt;</span> CRITIC: Kế hoạch hợp lệ! Bắt đầu tổng hợp giáo án dạng JSON<span style=\"color: #808000; text-decoration-color: #808000\">...</span>\n",
       "</pre>\n"
      ],
      "text/plain": [
       "\n",
       "\u001b[1;36m>\u001b[0m CRITIC: Kế hoạch hợp lệ! Bắt đầu tổng hợp giáo án dạng JSON\u001b[33m...\u001b[0m\n"
      ]
     },
     "metadata": {},
     "output_type": "display_data"
    },
    {
     "data": {
      "text/html": [
       "<pre style=\"white-space:pre;overflow-x:auto;line-height:normal;font-family:Menlo,'DejaVu Sans Mono',consolas,'Courier New',monospace\">\n",
       "<span style=\"color: #008080; text-decoration-color: #008080; font-weight: bold\">&gt;</span> ROUTER <span style=\"font-weight: bold\">(</span>Compilation<span style=\"font-weight: bold\">)</span>: Critic lớn đã hài lòng. Kết thúc quy trình.\n",
       "</pre>\n"
      ],
      "text/plain": [
       "\n",
       "\u001b[1;36m>\u001b[0m ROUTER \u001b[1m(\u001b[0mCompilation\u001b[1m)\u001b[0m: Critic lớn đã hài lòng. Kết thúc quy trình.\n"
      ]
     },
     "metadata": {},
     "output_type": "display_data"
    },
    {
     "data": {
      "text/html": [
       "<pre style=\"white-space:pre;overflow-x:auto;line-height:normal;font-family:Menlo,'DejaVu Sans Mono',consolas,'Courier New',monospace\">\n",
       "<span style=\"color: #808000; text-decoration-color: #808000; font-weight: bold\">------- Hoàn thành bước: structured_plan_compiler -------</span>\n",
       "</pre>\n"
      ],
      "text/plain": [
       "\n",
       "\u001b[1;33m------- Hoàn thành bước: structured_plan_compiler -------\u001b[0m\n"
      ]
     },
     "metadata": {},
     "output_type": "display_data"
    },
    {
     "data": {
      "text/html": [
       "<pre style=\"white-space:pre;overflow-x:auto;line-height:normal;font-family:Menlo,'DejaVu Sans Mono',consolas,'Courier New',monospace\">\n",
       "<span style=\"color: #008080; text-decoration-color: #008080; font-weight: bold\">&gt;</span> `Node: Markdown Presenter` <span style=\"font-weight: bold\">(</span>v9.<span style=\"color: #008080; text-decoration-color: #008080; font-weight: bold\">0</span><span style=\"font-weight: bold\">)</span> đang tạo bản trình bày Markdown<span style=\"color: #808000; text-decoration-color: #808000\">...</span>\n",
       "</pre>\n"
      ],
      "text/plain": [
       "\n",
       "\u001b[1;36m>\u001b[0m `Node: Markdown Presenter` \u001b[1m(\u001b[0mv9.\u001b[1;36m0\u001b[0m\u001b[1m)\u001b[0m đang tạo bản trình bày Markdown\u001b[33m...\u001b[0m\n"
      ]
     },
     "metadata": {},
     "output_type": "display_data"
    },
    {
     "data": {
      "text/html": [
       "<pre style=\"white-space:pre;overflow-x:auto;line-height:normal;font-family:Menlo,'DejaVu Sans Mono',consolas,'Courier New',monospace\">\n",
       "<span style=\"color: #808000; text-decoration-color: #808000; font-weight: bold\">------- Hoàn thành bước: markdown_presenter -------</span>\n",
       "</pre>\n"
      ],
      "text/plain": [
       "\n",
       "\u001b[1;33m------- Hoàn thành bước: markdown_presenter -------\u001b[0m\n"
      ]
     },
     "metadata": {},
     "output_type": "display_data"
    },
    {
     "data": {
      "text/html": [
       "<pre style=\"white-space:pre;overflow-x:auto;line-height:normal;font-family:Menlo,'DejaVu Sans Mono',consolas,'Courier New',monospace\">\n",
       "<span style=\"color: #800080; text-decoration-color: #800080; font-weight: bold\">🏁 KẾT THÚC QUY TRÌNH V7.</span><span style=\"color: #800080; text-decoration-color: #800080; font-weight: bold\">1</span><span style=\"color: #800080; text-decoration-color: #800080; font-weight: bold\">.</span>\n",
       "</pre>\n"
      ],
      "text/plain": [
       "\n",
       "\u001b[1;35m🏁 KẾT THÚC QUY TRÌNH V7.\u001b[0m\u001b[1;35m1\u001b[0m\u001b[1;35m.\u001b[0m\n"
      ]
     },
     "metadata": {},
     "output_type": "display_data"
    },
    {
     "data": {
      "text/html": [
       "<pre style=\"white-space:pre;overflow-x:auto;line-height:normal;font-family:Menlo,'DejaVu Sans Mono',consolas,'Courier New',monospace\">\n",
       "<span style=\"color: #008000; text-decoration-color: #008000; font-weight: bold\">📝 GIÁO ÁN HOÀN CHỈNH (v9.</span><span style=\"color: #008000; text-decoration-color: #008000; font-weight: bold\">0</span><span style=\"color: #008000; text-decoration-color: #008000; font-weight: bold\">)</span>\n",
       "</pre>\n"
      ],
      "text/plain": [
       "\n",
       "\u001b[1;32m📝 GIÁO ÁN HOÀN CHỈNH \u001b[0m\u001b[1;32m(\u001b[0m\u001b[1;32mv9.\u001b[0m\u001b[1;32m0\u001b[0m\u001b[1;32m)\u001b[0m\n"
      ]
     },
     "metadata": {},
     "output_type": "display_data"
    },
    {
     "data": {
      "text/html": [
       "<pre style=\"white-space:pre;overflow-x:auto;line-height:normal;font-family:Menlo,'DejaVu Sans Mono',consolas,'Courier New',monospace\">┏━━━━━━━━━━━━━━━━━━━━━━━━━━━━━━━━━━━━━━━━━━━━━━━━━━━━━━━━━━━━━━━━━━━━━━━━━━━━━━━━━━━━━━━━━━━━━━━━━━━━━━━━━━━━━━━━━┓\n",
       "┃                          <span style=\"font-weight: bold\">GIÁO ÁN BÀI DẠY: ĐƯỜNG TRÒN NGOẠI TIẾP VÀ ĐƯỜNG TRÒN NỘI TIẾP</span>                          ┃\n",
       "┗━━━━━━━━━━━━━━━━━━━━━━━━━━━━━━━━━━━━━━━━━━━━━━━━━━━━━━━━━━━━━━━━━━━━━━━━━━━━━━━━━━━━━━━━━━━━━━━━━━━━━━━━━━━━━━━━━┛\n",
       "\n",
       "<span style=\"color: #808000; text-decoration-color: #808000\">───────────────────────────────────────────────────────────────────────────────────────────────────────────────────</span>\n",
       "\n",
       "                                                <span style=\"font-weight: bold; text-decoration: underline\">I. THÔNG TIN CHUNG</span>                                                 \n",
       "\n",
       "<span style=\"color: #808000; text-decoration-color: #808000; font-weight: bold\"> • </span><span style=\"font-weight: bold\">Chủ Đề:</span> Đường tròn ngoại tiếp và đường tròn nội tiếp                                                            \n",
       "<span style=\"color: #808000; text-decoration-color: #808000; font-weight: bold\"> • </span><span style=\"font-weight: bold\">Môn Học:</span> Toán học                                                                                               \n",
       "<span style=\"color: #808000; text-decoration-color: #808000; font-weight: bold\"> • </span><span style=\"font-weight: bold\">Lớp:</span> Lớp 9                                                                                                      \n",
       "<span style=\"color: #808000; text-decoration-color: #808000; font-weight: bold\"> • </span><span style=\"font-weight: bold\">Thời Lượng:</span> 90 phút                                                                                             \n",
       "<span style=\"color: #808000; text-decoration-color: #808000; font-weight: bold\"> • </span><span style=\"font-weight: bold\">Phương Pháp Chủ Đạo:</span> Dạy học hợp tác (Cooperative Learning)                                                     \n",
       "<span style=\"color: #808000; text-decoration-color: #808000; font-weight: bold\"> • </span><span style=\"font-weight: bold\">Đặc Điểm Lớp Học:</span> Lớp học khá yếu, học sinh dễ mất tập trung, cần các hoạt động tương tác cao để duy trì sự chú \n",
       "<span style=\"color: #808000; text-decoration-color: #808000; font-weight: bold\">   </span>ý.                                                                                                              \n",
       "\n",
       "\n",
       "                                               <span style=\"font-weight: bold; text-decoration: underline\">II. MỤC TIÊU BÀI HỌC</span>                                                \n",
       "\n",
       "<span style=\"color: #808000; text-decoration-color: #808000; font-weight: bold\"> • </span>Học sinh có thể Soạn kiến thức về Đường tròn ngoại tiếp và đường tròn nội tiếp.                                 \n",
       "<span style=\"color: #808000; text-decoration-color: #808000; font-weight: bold\"> • </span>Rèn luyện kỹ năng tư duy logic và giải quyết vấn đề.                                                            \n",
       "<span style=\"color: #808000; text-decoration-color: #808000; font-weight: bold\"> • </span>Phát triển kỹ năng hợp tác và trình bày.                                                                        \n",
       "\n",
       "\n",
       "                                                   <span style=\"font-weight: bold; text-decoration: underline\">III. CHUẨN BỊ</span>                                                   \n",
       "\n",
       "<span style=\"color: #808000; text-decoration-color: #808000; font-weight: bold\"> • </span><span style=\"font-weight: bold\">Giáo Viên:</span> Bảng phụ, máy chiếu, phiếu học tập (nếu có trong hoạt động)                                          \n",
       "<span style=\"color: #808000; text-decoration-color: #808000; font-weight: bold\"> • </span><span style=\"font-weight: bold\">Học Sinh:</span> Sách giáo khoa, vở ghi, dụng cụ học tập                                                               \n",
       "\n",
       "\n",
       "                                              <span style=\"font-weight: bold; text-decoration: underline\">IV. TIẾN TRÌNH BÀI DẠY</span>                                               \n",
       "\n",
       "                     <span style=\"font-weight: bold\">Hoạt động 1: Khám phá vấn đề: Đường tròn ngoại tiếp và nội tiếp (15 phút)</span>                     \n",
       "\n",
       "<span style=\"font-weight: bold\">Nhiệm vụ (Mô tả):</span> Học sinh làm việc theo nhóm (3-4 người). Mỗi nhóm sẽ được cung cấp các hình ảnh, video minh họa  \n",
       "hoặc vật thật (ví dụ: một miếng bìa hình tam giác, compa, thước kẻ, sợi dây). Nhiệm vụ của nhóm là:                \n",
       "\n",
       "<span style=\"color: #808000; text-decoration-color: #808000; font-weight: bold\"> 1 </span>Quan sát kỹ các tài liệu được cung cấp.                                                                         \n",
       "<span style=\"color: #808000; text-decoration-color: #808000; font-weight: bold\"> 2 </span>Thảo luận và đưa ra các suy đoán ban đầu về cách để vẽ một đường tròn đi qua ba đỉnh của tam giác (đường tròn   \n",
       "<span style=\"color: #808000; text-decoration-color: #808000; font-weight: bold\">   </span>ngoại tiếp).                                                                                                    \n",
       "<span style=\"color: #808000; text-decoration-color: #808000; font-weight: bold\"> 3 </span>Thảo luận và đưa ra các suy đoán ban đầu về cách để vẽ một đường tròn tiếp xúc với ba cạnh của tam giác (đường  \n",
       "<span style=\"color: #808000; text-decoration-color: #808000; font-weight: bold\">   </span>tròn nội tiếp).                                                                                                 \n",
       "<span style=\"color: #808000; text-decoration-color: #808000; font-weight: bold\"> 4 </span>Ghi lại các ý tưởng, các bước phỏng đoán và những câu hỏi nảy sinh trong quá trình thảo luận của nhóm vào phiếu \n",
       "<span style=\"color: #808000; text-decoration-color: #808000; font-weight: bold\">   </span>học tập. <span style=\"font-weight: bold\">Gợi ý Phân hóa:</span>                                                                                        \n",
       "\n",
       "<span style=\"color: #808000; text-decoration-color: #808000; font-weight: bold\"> • </span><span style=\"font-style: italic\">Hỗ trợ (HS yếu):</span> Cung cấp các tam giác bìa đã được đánh dấu sẵn một số điểm đặc biệt (ví dụ: trung điểm các     \n",
       "<span style=\"color: #808000; text-decoration-color: #808000; font-weight: bold\">   </span>cạnh, giao điểm các đường trung trực/phân giác) để gợi ý về vị trí tâm. Đặt các câu hỏi trực tiếp hơn như: 'Để  \n",
       "<span style=\"color: #808000; text-decoration-color: #808000; font-weight: bold\">   </span>đường tròn đi qua 3 đỉnh, tâm của nó phải cách đều những điểm nào?' hoặc 'Để đường tròn tiếp xúc 3 cạnh, tâm của\n",
       "<span style=\"color: #808000; text-decoration-color: #808000; font-weight: bold\">   </span>nó phải cách đều những đường nào?'                                                                              \n",
       "<span style=\"color: #808000; text-decoration-color: #808000; font-weight: bold\"> • </span><span style=\"font-style: italic\">Thử thách (HS giỏi):</span> Thử thách học sinh suy nghĩ về tính duy nhất của các đường tròn này: 'Có bao nhiêu đường   \n",
       "<span style=\"color: #808000; text-decoration-color: #808000; font-weight: bold\">   </span>tròn có thể đi qua ba đỉnh của một tam giác? Tại sao?' hoặc 'Có phải mọi tam giác đều có đường tròn ngoại tiếp  \n",
       "<span style=\"color: #808000; text-decoration-color: #808000; font-weight: bold\">   </span>và nội tiếp không? Giải thích.' Khuyến khích các em suy nghĩ về cách chứng minh các suy đoán của mình.          \n",
       "\n",
       "<span style=\"color: #808000; text-decoration-color: #808000\">───────────────────────────────────────────────────────────────────────────────────────────────────────────────────</span>\n",
       "                  <span style=\"font-weight: bold\">Hoạt động 2: Xây dựng kiến thức: Xác định và vẽ Đường tròn ngoại tiếp (25 phút)</span>                  \n",
       "\n",
       "<span style=\"font-weight: bold\">Nhiệm vụ (Mô tả):</span> Theo hướng dẫn trên phiếu học tập, học sinh vẽ các đường trung trực của tam giác, xác định giao  \n",
       "điểm của chúng (tâm đường tròn ngoại tiếp), và vẽ đường tròn đi qua ba đỉnh của tam giác. Học sinh thảo luận nhóm  \n",
       "để ghi nhận các bước thực hiện và kết quả. <span style=\"font-weight: bold\">Gợi ý Phân hóa:</span>                                                         \n",
       "\n",
       "<span style=\"color: #808000; text-decoration-color: #808000; font-weight: bold\"> • </span><span style=\"font-style: italic\">Hỗ trợ (HS yếu):</span> Cung cấp phiếu học tập có sẵn một tam giác mẫu và các bước vẽ đường trung trực được chia nhỏ,  \n",
       "<span style=\"color: #808000; text-decoration-color: #808000; font-weight: bold\">   </span>có hình ảnh minh họa từng bước. Giáo viên có thể trực tiếp hướng dẫn lại cách sử dụng compa và thước để vẽ đường\n",
       "<span style=\"color: #808000; text-decoration-color: #808000; font-weight: bold\">   </span>trung trực cho nhóm này. Đặt các câu hỏi đơn giản như 'Giao điểm của ba đường trung trực có đặc điểm gì?' để    \n",
       "<span style=\"color: #808000; text-decoration-color: #808000; font-weight: bold\">   </span>giúp các em ghi nhớ.                                                                                            \n",
       "<span style=\"color: #808000; text-decoration-color: #808000; font-weight: bold\"> • </span><span style=\"font-style: italic\">Thử thách (HS giỏi):</span> Yêu cầu học sinh chứng minh tại sao giao điểm của ba đường trung trực lại cách đều ba đỉnh \n",
       "<span style=\"color: #808000; text-decoration-color: #808000; font-weight: bold\">   </span>của tam giác. Gợi ý các em thử vẽ đường tròn ngoại tiếp cho các loại tam giác đặc biệt (tam giác vuông, tam giác\n",
       "<span style=\"color: #808000; text-decoration-color: #808000; font-weight: bold\">   </span>tù) và nhận xét về vị trí của tâm đường tròn ngoại tiếp. Khuyến khích các em giải thích lại các bước vẽ cho các \n",
       "<span style=\"color: #808000; text-decoration-color: #808000; font-weight: bold\">   </span>bạn trong nhóm.                                                                                                 \n",
       "\n",
       "<span style=\"color: #808000; text-decoration-color: #808000\">───────────────────────────────────────────────────────────────────────────────────────────────────────────────────</span>\n",
       "                   <span style=\"font-weight: bold\">Hoạt động 3: Xây dựng kiến thức: Xác định và vẽ Đường tròn nội tiếp (25 phút)</span>                   \n",
       "\n",
       "<span style=\"font-weight: bold\">Nhiệm vụ (Mô tả):</span> Học sinh sẽ thực hiện các bước sau trên phiếu học tập đã được phát:                              \n",
       "\n",
       "<span style=\"color: #808000; text-decoration-color: #808000; font-weight: bold\"> 1 </span>Vẽ một tam giác bất kỳ (hoặc sử dụng tam giác đã cho sẵn trên phiếu).                                           \n",
       "<span style=\"color: #808000; text-decoration-color: #808000; font-weight: bold\"> 2 </span>Sử dụng thước và compa để vẽ ba đường phân giác của các góc trong tam giác.                                     \n",
       "<span style=\"color: #808000; text-decoration-color: #808000; font-weight: bold\"> 3 </span>Xác định giao điểm của ba đường phân giác. Đây chính là tâm của đường tròn nội tiếp (tâm I).                    \n",
       "<span style=\"color: #808000; text-decoration-color: #808000; font-weight: bold\"> 4 </span>Từ tâm I, vẽ một đường vuông góc xuống một cạnh của tam giác để xác định bán kính đường tròn nội tiếp (r).      \n",
       "<span style=\"color: #808000; text-decoration-color: #808000; font-weight: bold\"> 5 </span>Dùng compa vẽ đường tròn tâm I, bán kính r. Quan sát xem đường tròn này có tiếp xúc với cả ba cạnh của tam giác \n",
       "<span style=\"color: #808000; text-decoration-color: #808000; font-weight: bold\">   </span>hay không.                                                                                                      \n",
       "<span style=\"color: #808000; text-decoration-color: #808000; font-weight: bold\"> 6 </span>So sánh điểm giống và khác nhau giữa đường tròn ngoại tiếp (đã học ở hoạt động trước) và đường tròn nội tiếp về:\n",
       "<span style=\"color: #808000; text-decoration-color: #808000; font-weight: bold\">   </span>tâm, bán kính, vị trí tương đối với tam giác, và cách xác định. <span style=\"font-weight: bold\">Gợi ý Phân hóa:</span>                                 \n",
       "\n",
       "<span style=\"color: #808000; text-decoration-color: #808000; font-weight: bold\"> • </span><span style=\"font-style: italic\">Hỗ trợ (HS yếu):</span> Cung cấp phiếu học tập có sẵn các tam giác đã được vẽ, hoặc thậm chí có sẵn một đường phân giác\n",
       "<span style=\"color: #808000; text-decoration-color: #808000; font-weight: bold\">   </span>để học sinh chỉ cần vẽ thêm hai đường còn lại. Đưa ra một checklist các bước vẽ chi tiết kèm hình ảnh minh họa  \n",
       "<span style=\"color: #808000; text-decoration-color: #808000; font-weight: bold\">   </span>nhỏ. Gợi ý cụ thể các câu hỏi so sánh như: 'Tâm đường tròn ngoại tiếp là giao của đường gì? Tâm đường tròn nội  \n",
       "<span style=\"color: #808000; text-decoration-color: #808000; font-weight: bold\">   </span>tiếp là giao của đường gì?'                                                                                     \n",
       "<span style=\"color: #808000; text-decoration-color: #808000; font-weight: bold\"> • </span><span style=\"font-style: italic\">Thử thách (HS giỏi):</span> Yêu cầu học sinh chứng minh tại sao giao điểm của ba đường phân giác lại cách đều ba cạnh  \n",
       "<span style=\"color: #808000; text-decoration-color: #808000; font-weight: bold\">   </span>của tam giác (tức là tâm đường tròn nội tiếp). Đặt câu hỏi mở rộng: 'Liệu có trường hợp nào đường tròn nội tiếp \n",
       "<span style=\"color: #808000; text-decoration-color: #808000; font-weight: bold\">   </span>và ngoại tiếp có cùng tâm không? Nếu có thì đó là loại tam giác nào?'                                           \n",
       "\n",
       "<span style=\"color: #808000; text-decoration-color: #808000\">───────────────────────────────────────────────────────────────────────────────────────────────────────────────────</span>\n",
       "          <span style=\"font-weight: bold\">Hoạt động 4: Luyện tập và Vận dụng: Giải bài tập về Đường tròn ngoại tiếp và nội tiếp (15 phút)</span>          \n",
       "\n",
       "<span style=\"font-weight: bold\">Nhiệm vụ (Mô tả):</span> Học sinh được chia thành các nhóm (4-5 học sinh/nhóm). Mỗi nhóm sẽ nhận một phiếu bài tập gồm các\n",
       "dạng bài khác nhau về đường tròn ngoại tiếp và nội tiếp. Các dạng bài tập bao gồm: 1. Bài tập cơ bản: Tính bán kính\n",
       "đường tròn ngoại tiếp hoặc nội tiếp của các tam giác đặc biệt (tam giác vuông, tam giác đều, tam giác cân) khi biết\n",
       "các yếu tố về cạnh hoặc góc. Ví dụ: Cho tam giác ABC vuông tại A có AB = 6cm, AC = 8cm. Tính bán kính đường tròn   \n",
       "ngoại tiếp và nội tiếp tam giác ABC. 2. Bài tập tổng hợp: Xác định vị trí tâm đường tròn ngoại tiếp/nội tiếp trong \n",
       "các trường hợp cụ thể, hoặc tính toán các yếu tố liên quan khi tam giác không phải là tam giác đặc biệt. Ví dụ: Cho\n",
       "tam giác ABC có ba cạnh a, b, c. Chứng minh công thức tính bán kính đường tròn nội tiếp r = S/p (với S là diện     \n",
       "tích, p là nửa chu vi). 3. Bài tập nâng cao/chứng minh: Chứng minh các tính chất liên quan đến đường tròn ngoại    \n",
       "tiếp/nội tiếp và các yếu tố khác của tam giác (ví dụ: đường cao, đường trung tuyến). Ví dụ: Cho tam giác ABC nội   \n",
       "tiếp đường tròn (O). Gọi H là trực tâm của tam giác. Chứng minh rằng bán kính đường tròn ngoại tiếp tam giác HBC   \n",
       "bằng bán kính đường tròn ngoại tiếp tam giác ABC. Các nhóm sẽ cùng nhau thảo luận, phân công nhiệm vụ và giải quyết\n",
       "các bài tập trong phiếu. Sau thời gian quy định, đại diện các nhóm sẽ lên bảng trình bày một hoặc hai bài tập tiêu \n",
       "biểu mà nhóm đã giải được. Các nhóm khác sẽ lắng nghe, đặt câu hỏi và đưa ra nhận xét. Giáo viên sẽ tổng kết, nhận \n",
       "xét và bổ sung kiến thức. <span style=\"font-weight: bold\">Gợi ý Phân hóa:</span>                                                                          \n",
       "\n",
       "<span style=\"color: #808000; text-decoration-color: #808000; font-weight: bold\"> • </span><span style=\"font-style: italic\">Hỗ trợ (HS yếu):</span> Cung cấp phiếu bài tập có các bài toán cơ bản hơn, có sẵn công thức hoặc gợi ý từng bước cụ thể\n",
       "<span style=\"color: #808000; text-decoration-color: #808000; font-weight: bold\">   </span>(ví dụ: 'Bước 1: Xác định loại tam giác. Bước 2: Áp dụng công thức R = abc/4S hoặc r = S/p'). Giáo viên chủ động\n",
       "<span style=\"color: #808000; text-decoration-color: #808000; font-weight: bold\">   </span>đến các nhóm có học sinh yếu để kiểm tra nhanh sự hiểu bài, đặt câu hỏi gợi mở đơn giản, hoặc hướng dẫn trực    \n",
       "<span style=\"color: #808000; text-decoration-color: #808000; font-weight: bold\">   </span>tiếp một phần nhỏ của bài toán. Khuyến khích các em hỏi bạn trong nhóm và nhận sự hỗ trợ từ các bạn.            \n",
       "<span style=\"color: #808000; text-decoration-color: #808000; font-weight: bold\"> • </span><span style=\"font-style: italic\">Thử thách (HS giỏi):</span> Giao các bài tập nâng cao, yêu cầu chứng minh hoặc bài toán tổng hợp nhiều kiến thức hình  \n",
       "<span style=\"color: #808000; text-decoration-color: #808000; font-weight: bold\">   </span>học khác. Khuyến khích các em tìm thêm cách giải khác cho cùng một bài toán hoặc mở rộng bài toán bằng cách đặt \n",
       "<span style=\"color: #808000; text-decoration-color: #808000; font-weight: bold\">   </span>thêm câu hỏi phụ. Yêu cầu các em giải thích cặn kẽ, rõ ràng các bước làm và lý do cho các bạn trong nhóm khi    \n",
       "<span style=\"color: #808000; text-decoration-color: #808000; font-weight: bold\">   </span>trình bày. Có thể giao thêm một bài tập về ứng dụng thực tế của đường tròn ngoại tiếp/nội tiếp trong các lĩnh   \n",
       "<span style=\"color: #808000; text-decoration-color: #808000; font-weight: bold\">   </span>vực khác (ví dụ: 'Trong thiết kế logo, làm thế nào để vẽ một đường tròn nội tiếp/ngoại tiếp một hình đa giác    \n",
       "<span style=\"color: #808000; text-decoration-color: #808000; font-weight: bold\">   </span>đều?').                                                                                                         \n",
       "\n",
       "<span style=\"color: #808000; text-decoration-color: #808000\">───────────────────────────────────────────────────────────────────────────────────────────────────────────────────</span>\n",
       "                               <span style=\"font-weight: bold\">Hoạt động 5: Tổng kết và Củng cố kiến thức (10 phút)</span>                                \n",
       "\n",
       "<span style=\"font-weight: bold\">Nhiệm vụ (Đề bài):</span> Cho tam giác ABC. Tâm đường tròn ngoại tiếp tam giác ABC là giao điểm của ba đường nào? A. Ba   \n",
       "đường cao B. Ba đường trung tuyến C. Ba đường trung trực D. Ba đường phân giác <span style=\"font-weight: bold\">Gợi ý Phân hóa:</span>                     \n",
       "\n",
       "<span style=\"color: #808000; text-decoration-color: #808000; font-weight: bold\"> • </span><span style=\"font-style: italic\">Hỗ trợ (HS yếu):</span> Đối với học sinh gặp khó khăn, giáo viên có thể gợi ý các em xem lại định nghĩa và tính chất   \n",
       "<span style=\"color: #808000; text-decoration-color: #808000; font-weight: bold\">   </span>trong sách giáo khoa hoặc phiếu tóm tắt kiến thức trước khi trả lời. Có thể cho phép các em thảo luận nhanh với \n",
       "<span style=\"color: #808000; text-decoration-color: #808000; font-weight: bold\">   </span>bạn bên cạnh để tìm ra đáp án.                                                                                  \n",
       "<span style=\"color: #808000; text-decoration-color: #808000; font-weight: bold\"> • </span><span style=\"font-style: italic\">Thử thách (HS giỏi):</span> Đối với học sinh khá giỏi, giáo viên có thể đặt câu hỏi mở rộng sau khi học sinh trả lời   \n",
       "<span style=\"color: #808000; text-decoration-color: #808000; font-weight: bold\">   </span>xong câu hỏi chính: 'Tâm đường tròn nội tiếp tam giác là giao điểm của ba đường nào? Nêu mối liên hệ giữa vị trí\n",
       "<span style=\"color: #808000; text-decoration-color: #808000; font-weight: bold\">   </span>tâm đường tròn ngoại tiếp với các loại tam giác đặc biệt (tam giác vuông, tam giác tù, tam giác nhọn)?'         \n",
       "\n",
       "<span style=\"color: #808000; text-decoration-color: #808000\">───────────────────────────────────────────────────────────────────────────────────────────────────────────────────</span>\n",
       "\n",
       "                                           <span style=\"font-weight: bold; text-decoration: underline\">V. TÓM TẮT KIẾN THỨC CỐT LÕI</span>                                            \n",
       "\n",
       "Chào các em học sinh,                                                                                              \n",
       "\n",
       "Với vai trò là một giáo viên, thầy/cô đã đọc kỹ các đoạn văn bản được cung cấp và xin tổng hợp kiến thức cốt lõi về\n",
       "chủ đề \"Đường tròn ngoại tiếp và đường tròn nội tiếp\" dựa <span style=\"font-weight: bold\">chỉ</span> vào những thông tin này.                             \n",
       "\n",
       "<span style=\"font-weight: bold\">TÓM TẮT KIẾN THỨC CỐT LÕI VỀ CHỦ ĐỀ \"ĐƯỜNG TRÒN NGOẠI TIẾP VÀ ĐƯỜNG TRÒN NỘI TIẾP\"</span>                                 \n",
       "\n",
       "Dựa trên các đoạn văn bản đã cho, kiến thức cốt lõi có thể tổng hợp được như sau:                                  \n",
       "\n",
       "<span style=\"font-weight: bold\">I. Về Đường tròn nội tiếp (liên quan đến khái niệm tiếp tuyến)</span>                                                     \n",
       "\n",
       "Mặc dù các đoạn văn bản không trực tiếp định nghĩa \"đường tròn nội tiếp\", nhưng chúng cung cấp các khái niệm và    \n",
       "tính chất quan trọng về \"tiếp tuyến\" của đường tròn. Khái niệm tiếp tuyến là yếu tố cốt lõi để hiểu về đường tròn  \n",
       "nội tiếp (đường tròn nội tiếp là đường tròn tiếp xúc với các cạnh của đa giác).                                    \n",
       "\n",
       "<span style=\"color: #808000; text-decoration-color: #808000; font-weight: bold\"> 1 </span><span style=\"font-weight: bold\">Định nghĩa Tiếp tuyến và Tiếp điểm:</span>                                                                             \n",
       "<span style=\"color: #808000; text-decoration-color: #808000; font-weight: bold\">    • </span>Đường thẳng và đường tròn được gọi là <span style=\"font-weight: bold\">tiếp xúc với nhau</span> nếu chúng có đúng một điểm chung.                    \n",
       "<span style=\"color: #808000; text-decoration-color: #808000; font-weight: bold\">    • </span>Điểm chung duy nhất đó được gọi là <span style=\"font-weight: bold\">tiếp điểm</span>.                                                                \n",
       "<span style=\"color: #808000; text-decoration-color: #808000; font-weight: bold\">    • </span>Khi đó, đường thẳng đó còn được gọi là <span style=\"font-weight: bold\">tiếp tuyến</span> của đường tròn tại tiếp điểm.                              \n",
       "<span style=\"color: #808000; text-decoration-color: #808000; font-weight: bold\"> 2 </span><span style=\"font-weight: bold\">Dấu hiệu nhận biết Tiếp tuyến của đường tròn:</span>                                                                   \n",
       "<span style=\"color: #808000; text-decoration-color: #808000; font-weight: bold\">    • </span>Nếu một đường thẳng đi qua một điểm trên một đường tròn và vuông góc với bán kính đi qua điểm đó, thì đường  \n",
       "<span style=\"color: #808000; text-decoration-color: #808000; font-weight: bold\">      </span>thẳng ấy là một tiếp tuyến của đường tròn.                                                                   \n",
       "<span style=\"color: #808000; text-decoration-color: #808000; font-weight: bold\"> 3 </span><span style=\"font-weight: bold\">Mối quan hệ giữa khoảng cách từ tâm đến tiếp tuyến và bán kính:</span>                                                 \n",
       "<span style=\"color: #808000; text-decoration-color: #808000; font-weight: bold\">    • </span>Khi một đường thẳng là tiếp tuyến của đường tròn (O; R), khoảng cách (d) từ tâm O đến đường thẳng đó bằng bán\n",
       "<span style=\"color: #808000; text-decoration-color: #808000; font-weight: bold\">      </span>kính R (tức là $d = R$).                                                                                     \n",
       "\n",
       "<span style=\"font-weight: bold\">II. Về Đường tròn ngoại tiếp</span>                                                                                       \n",
       "\n",
       "Các đoạn văn bản được cung cấp không chứa thông tin hay định nghĩa nào về \"đường tròn ngoại tiếp\". Do đó, không thể\n",
       "tổng hợp kiến thức về phần này dựa trên tài liệu đã cho.                                                           \n",
       "\n",
       "<span style=\"color: #808000; text-decoration-color: #808000\">───────────────────────────────────────────────────────────────────────────────────────────────────────────────────</span>\n",
       "Hy vọng bản tóm tắt này giúp các em nắm vững những kiến thức cơ bản được đề cập trong tài liệu.                    \n",
       "</pre>\n"
      ],
      "text/plain": [
       "┏━━━━━━━━━━━━━━━━━━━━━━━━━━━━━━━━━━━━━━━━━━━━━━━━━━━━━━━━━━━━━━━━━━━━━━━━━━━━━━━━━━━━━━━━━━━━━━━━━━━━━━━━━━━━━━━━━┓\n",
       "┃                          \u001b[1mGIÁO ÁN BÀI DẠY: ĐƯỜNG TRÒN NGOẠI TIẾP VÀ ĐƯỜNG TRÒN NỘI TIẾP\u001b[0m                          ┃\n",
       "┗━━━━━━━━━━━━━━━━━━━━━━━━━━━━━━━━━━━━━━━━━━━━━━━━━━━━━━━━━━━━━━━━━━━━━━━━━━━━━━━━━━━━━━━━━━━━━━━━━━━━━━━━━━━━━━━━━┛\n",
       "\n",
       "\u001b[33m───────────────────────────────────────────────────────────────────────────────────────────────────────────────────\u001b[0m\n",
       "\n",
       "                                                \u001b[1;4mI. THÔNG TIN CHUNG\u001b[0m                                                 \n",
       "\n",
       "\u001b[1;33m • \u001b[0m\u001b[1mChủ Đề:\u001b[0m Đường tròn ngoại tiếp và đường tròn nội tiếp                                                            \n",
       "\u001b[1;33m • \u001b[0m\u001b[1mMôn Học:\u001b[0m Toán học                                                                                               \n",
       "\u001b[1;33m • \u001b[0m\u001b[1mLớp:\u001b[0m Lớp 9                                                                                                      \n",
       "\u001b[1;33m • \u001b[0m\u001b[1mThời Lượng:\u001b[0m 90 phút                                                                                             \n",
       "\u001b[1;33m • \u001b[0m\u001b[1mPhương Pháp Chủ Đạo:\u001b[0m Dạy học hợp tác (Cooperative Learning)                                                     \n",
       "\u001b[1;33m • \u001b[0m\u001b[1mĐặc Điểm Lớp Học:\u001b[0m Lớp học khá yếu, học sinh dễ mất tập trung, cần các hoạt động tương tác cao để duy trì sự chú \n",
       "\u001b[1;33m   \u001b[0mý.                                                                                                              \n",
       "\n",
       "\n",
       "                                               \u001b[1;4mII. MỤC TIÊU BÀI HỌC\u001b[0m                                                \n",
       "\n",
       "\u001b[1;33m • \u001b[0mHọc sinh có thể Soạn kiến thức về Đường tròn ngoại tiếp và đường tròn nội tiếp.                                 \n",
       "\u001b[1;33m • \u001b[0mRèn luyện kỹ năng tư duy logic và giải quyết vấn đề.                                                            \n",
       "\u001b[1;33m • \u001b[0mPhát triển kỹ năng hợp tác và trình bày.                                                                        \n",
       "\n",
       "\n",
       "                                                   \u001b[1;4mIII. CHUẨN BỊ\u001b[0m                                                   \n",
       "\n",
       "\u001b[1;33m • \u001b[0m\u001b[1mGiáo Viên:\u001b[0m Bảng phụ, máy chiếu, phiếu học tập (nếu có trong hoạt động)                                          \n",
       "\u001b[1;33m • \u001b[0m\u001b[1mHọc Sinh:\u001b[0m Sách giáo khoa, vở ghi, dụng cụ học tập                                                               \n",
       "\n",
       "\n",
       "                                              \u001b[1;4mIV. TIẾN TRÌNH BÀI DẠY\u001b[0m                                               \n",
       "\n",
       "                     \u001b[1mHoạt động 1: Khám phá vấn đề: Đường tròn ngoại tiếp và nội tiếp (15 phút)\u001b[0m                     \n",
       "\n",
       "\u001b[1mNhiệm vụ (Mô tả):\u001b[0m Học sinh làm việc theo nhóm (3-4 người). Mỗi nhóm sẽ được cung cấp các hình ảnh, video minh họa  \n",
       "hoặc vật thật (ví dụ: một miếng bìa hình tam giác, compa, thước kẻ, sợi dây). Nhiệm vụ của nhóm là:                \n",
       "\n",
       "\u001b[1;33m 1 \u001b[0mQuan sát kỹ các tài liệu được cung cấp.                                                                         \n",
       "\u001b[1;33m 2 \u001b[0mThảo luận và đưa ra các suy đoán ban đầu về cách để vẽ một đường tròn đi qua ba đỉnh của tam giác (đường tròn   \n",
       "\u001b[1;33m   \u001b[0mngoại tiếp).                                                                                                    \n",
       "\u001b[1;33m 3 \u001b[0mThảo luận và đưa ra các suy đoán ban đầu về cách để vẽ một đường tròn tiếp xúc với ba cạnh của tam giác (đường  \n",
       "\u001b[1;33m   \u001b[0mtròn nội tiếp).                                                                                                 \n",
       "\u001b[1;33m 4 \u001b[0mGhi lại các ý tưởng, các bước phỏng đoán và những câu hỏi nảy sinh trong quá trình thảo luận của nhóm vào phiếu \n",
       "\u001b[1;33m   \u001b[0mhọc tập. \u001b[1mGợi ý Phân hóa:\u001b[0m                                                                                        \n",
       "\n",
       "\u001b[1;33m • \u001b[0m\u001b[3mHỗ trợ (HS yếu):\u001b[0m Cung cấp các tam giác bìa đã được đánh dấu sẵn một số điểm đặc biệt (ví dụ: trung điểm các     \n",
       "\u001b[1;33m   \u001b[0mcạnh, giao điểm các đường trung trực/phân giác) để gợi ý về vị trí tâm. Đặt các câu hỏi trực tiếp hơn như: 'Để  \n",
       "\u001b[1;33m   \u001b[0mđường tròn đi qua 3 đỉnh, tâm của nó phải cách đều những điểm nào?' hoặc 'Để đường tròn tiếp xúc 3 cạnh, tâm của\n",
       "\u001b[1;33m   \u001b[0mnó phải cách đều những đường nào?'                                                                              \n",
       "\u001b[1;33m • \u001b[0m\u001b[3mThử thách (HS giỏi):\u001b[0m Thử thách học sinh suy nghĩ về tính duy nhất của các đường tròn này: 'Có bao nhiêu đường   \n",
       "\u001b[1;33m   \u001b[0mtròn có thể đi qua ba đỉnh của một tam giác? Tại sao?' hoặc 'Có phải mọi tam giác đều có đường tròn ngoại tiếp  \n",
       "\u001b[1;33m   \u001b[0mvà nội tiếp không? Giải thích.' Khuyến khích các em suy nghĩ về cách chứng minh các suy đoán của mình.          \n",
       "\n",
       "\u001b[33m───────────────────────────────────────────────────────────────────────────────────────────────────────────────────\u001b[0m\n",
       "                  \u001b[1mHoạt động 2: Xây dựng kiến thức: Xác định và vẽ Đường tròn ngoại tiếp (25 phút)\u001b[0m                  \n",
       "\n",
       "\u001b[1mNhiệm vụ (Mô tả):\u001b[0m Theo hướng dẫn trên phiếu học tập, học sinh vẽ các đường trung trực của tam giác, xác định giao  \n",
       "điểm của chúng (tâm đường tròn ngoại tiếp), và vẽ đường tròn đi qua ba đỉnh của tam giác. Học sinh thảo luận nhóm  \n",
       "để ghi nhận các bước thực hiện và kết quả. \u001b[1mGợi ý Phân hóa:\u001b[0m                                                         \n",
       "\n",
       "\u001b[1;33m • \u001b[0m\u001b[3mHỗ trợ (HS yếu):\u001b[0m Cung cấp phiếu học tập có sẵn một tam giác mẫu và các bước vẽ đường trung trực được chia nhỏ,  \n",
       "\u001b[1;33m   \u001b[0mcó hình ảnh minh họa từng bước. Giáo viên có thể trực tiếp hướng dẫn lại cách sử dụng compa và thước để vẽ đường\n",
       "\u001b[1;33m   \u001b[0mtrung trực cho nhóm này. Đặt các câu hỏi đơn giản như 'Giao điểm của ba đường trung trực có đặc điểm gì?' để    \n",
       "\u001b[1;33m   \u001b[0mgiúp các em ghi nhớ.                                                                                            \n",
       "\u001b[1;33m • \u001b[0m\u001b[3mThử thách (HS giỏi):\u001b[0m Yêu cầu học sinh chứng minh tại sao giao điểm của ba đường trung trực lại cách đều ba đỉnh \n",
       "\u001b[1;33m   \u001b[0mcủa tam giác. Gợi ý các em thử vẽ đường tròn ngoại tiếp cho các loại tam giác đặc biệt (tam giác vuông, tam giác\n",
       "\u001b[1;33m   \u001b[0mtù) và nhận xét về vị trí của tâm đường tròn ngoại tiếp. Khuyến khích các em giải thích lại các bước vẽ cho các \n",
       "\u001b[1;33m   \u001b[0mbạn trong nhóm.                                                                                                 \n",
       "\n",
       "\u001b[33m───────────────────────────────────────────────────────────────────────────────────────────────────────────────────\u001b[0m\n",
       "                   \u001b[1mHoạt động 3: Xây dựng kiến thức: Xác định và vẽ Đường tròn nội tiếp (25 phút)\u001b[0m                   \n",
       "\n",
       "\u001b[1mNhiệm vụ (Mô tả):\u001b[0m Học sinh sẽ thực hiện các bước sau trên phiếu học tập đã được phát:                              \n",
       "\n",
       "\u001b[1;33m 1 \u001b[0mVẽ một tam giác bất kỳ (hoặc sử dụng tam giác đã cho sẵn trên phiếu).                                           \n",
       "\u001b[1;33m 2 \u001b[0mSử dụng thước và compa để vẽ ba đường phân giác của các góc trong tam giác.                                     \n",
       "\u001b[1;33m 3 \u001b[0mXác định giao điểm của ba đường phân giác. Đây chính là tâm của đường tròn nội tiếp (tâm I).                    \n",
       "\u001b[1;33m 4 \u001b[0mTừ tâm I, vẽ một đường vuông góc xuống một cạnh của tam giác để xác định bán kính đường tròn nội tiếp (r).      \n",
       "\u001b[1;33m 5 \u001b[0mDùng compa vẽ đường tròn tâm I, bán kính r. Quan sát xem đường tròn này có tiếp xúc với cả ba cạnh của tam giác \n",
       "\u001b[1;33m   \u001b[0mhay không.                                                                                                      \n",
       "\u001b[1;33m 6 \u001b[0mSo sánh điểm giống và khác nhau giữa đường tròn ngoại tiếp (đã học ở hoạt động trước) và đường tròn nội tiếp về:\n",
       "\u001b[1;33m   \u001b[0mtâm, bán kính, vị trí tương đối với tam giác, và cách xác định. \u001b[1mGợi ý Phân hóa:\u001b[0m                                 \n",
       "\n",
       "\u001b[1;33m • \u001b[0m\u001b[3mHỗ trợ (HS yếu):\u001b[0m Cung cấp phiếu học tập có sẵn các tam giác đã được vẽ, hoặc thậm chí có sẵn một đường phân giác\n",
       "\u001b[1;33m   \u001b[0mđể học sinh chỉ cần vẽ thêm hai đường còn lại. Đưa ra một checklist các bước vẽ chi tiết kèm hình ảnh minh họa  \n",
       "\u001b[1;33m   \u001b[0mnhỏ. Gợi ý cụ thể các câu hỏi so sánh như: 'Tâm đường tròn ngoại tiếp là giao của đường gì? Tâm đường tròn nội  \n",
       "\u001b[1;33m   \u001b[0mtiếp là giao của đường gì?'                                                                                     \n",
       "\u001b[1;33m • \u001b[0m\u001b[3mThử thách (HS giỏi):\u001b[0m Yêu cầu học sinh chứng minh tại sao giao điểm của ba đường phân giác lại cách đều ba cạnh  \n",
       "\u001b[1;33m   \u001b[0mcủa tam giác (tức là tâm đường tròn nội tiếp). Đặt câu hỏi mở rộng: 'Liệu có trường hợp nào đường tròn nội tiếp \n",
       "\u001b[1;33m   \u001b[0mvà ngoại tiếp có cùng tâm không? Nếu có thì đó là loại tam giác nào?'                                           \n",
       "\n",
       "\u001b[33m───────────────────────────────────────────────────────────────────────────────────────────────────────────────────\u001b[0m\n",
       "          \u001b[1mHoạt động 4: Luyện tập và Vận dụng: Giải bài tập về Đường tròn ngoại tiếp và nội tiếp (15 phút)\u001b[0m          \n",
       "\n",
       "\u001b[1mNhiệm vụ (Mô tả):\u001b[0m Học sinh được chia thành các nhóm (4-5 học sinh/nhóm). Mỗi nhóm sẽ nhận một phiếu bài tập gồm các\n",
       "dạng bài khác nhau về đường tròn ngoại tiếp và nội tiếp. Các dạng bài tập bao gồm: 1. Bài tập cơ bản: Tính bán kính\n",
       "đường tròn ngoại tiếp hoặc nội tiếp của các tam giác đặc biệt (tam giác vuông, tam giác đều, tam giác cân) khi biết\n",
       "các yếu tố về cạnh hoặc góc. Ví dụ: Cho tam giác ABC vuông tại A có AB = 6cm, AC = 8cm. Tính bán kính đường tròn   \n",
       "ngoại tiếp và nội tiếp tam giác ABC. 2. Bài tập tổng hợp: Xác định vị trí tâm đường tròn ngoại tiếp/nội tiếp trong \n",
       "các trường hợp cụ thể, hoặc tính toán các yếu tố liên quan khi tam giác không phải là tam giác đặc biệt. Ví dụ: Cho\n",
       "tam giác ABC có ba cạnh a, b, c. Chứng minh công thức tính bán kính đường tròn nội tiếp r = S/p (với S là diện     \n",
       "tích, p là nửa chu vi). 3. Bài tập nâng cao/chứng minh: Chứng minh các tính chất liên quan đến đường tròn ngoại    \n",
       "tiếp/nội tiếp và các yếu tố khác của tam giác (ví dụ: đường cao, đường trung tuyến). Ví dụ: Cho tam giác ABC nội   \n",
       "tiếp đường tròn (O). Gọi H là trực tâm của tam giác. Chứng minh rằng bán kính đường tròn ngoại tiếp tam giác HBC   \n",
       "bằng bán kính đường tròn ngoại tiếp tam giác ABC. Các nhóm sẽ cùng nhau thảo luận, phân công nhiệm vụ và giải quyết\n",
       "các bài tập trong phiếu. Sau thời gian quy định, đại diện các nhóm sẽ lên bảng trình bày một hoặc hai bài tập tiêu \n",
       "biểu mà nhóm đã giải được. Các nhóm khác sẽ lắng nghe, đặt câu hỏi và đưa ra nhận xét. Giáo viên sẽ tổng kết, nhận \n",
       "xét và bổ sung kiến thức. \u001b[1mGợi ý Phân hóa:\u001b[0m                                                                          \n",
       "\n",
       "\u001b[1;33m • \u001b[0m\u001b[3mHỗ trợ (HS yếu):\u001b[0m Cung cấp phiếu bài tập có các bài toán cơ bản hơn, có sẵn công thức hoặc gợi ý từng bước cụ thể\n",
       "\u001b[1;33m   \u001b[0m(ví dụ: 'Bước 1: Xác định loại tam giác. Bước 2: Áp dụng công thức R = abc/4S hoặc r = S/p'). Giáo viên chủ động\n",
       "\u001b[1;33m   \u001b[0mđến các nhóm có học sinh yếu để kiểm tra nhanh sự hiểu bài, đặt câu hỏi gợi mở đơn giản, hoặc hướng dẫn trực    \n",
       "\u001b[1;33m   \u001b[0mtiếp một phần nhỏ của bài toán. Khuyến khích các em hỏi bạn trong nhóm và nhận sự hỗ trợ từ các bạn.            \n",
       "\u001b[1;33m • \u001b[0m\u001b[3mThử thách (HS giỏi):\u001b[0m Giao các bài tập nâng cao, yêu cầu chứng minh hoặc bài toán tổng hợp nhiều kiến thức hình  \n",
       "\u001b[1;33m   \u001b[0mhọc khác. Khuyến khích các em tìm thêm cách giải khác cho cùng một bài toán hoặc mở rộng bài toán bằng cách đặt \n",
       "\u001b[1;33m   \u001b[0mthêm câu hỏi phụ. Yêu cầu các em giải thích cặn kẽ, rõ ràng các bước làm và lý do cho các bạn trong nhóm khi    \n",
       "\u001b[1;33m   \u001b[0mtrình bày. Có thể giao thêm một bài tập về ứng dụng thực tế của đường tròn ngoại tiếp/nội tiếp trong các lĩnh   \n",
       "\u001b[1;33m   \u001b[0mvực khác (ví dụ: 'Trong thiết kế logo, làm thế nào để vẽ một đường tròn nội tiếp/ngoại tiếp một hình đa giác    \n",
       "\u001b[1;33m   \u001b[0mđều?').                                                                                                         \n",
       "\n",
       "\u001b[33m───────────────────────────────────────────────────────────────────────────────────────────────────────────────────\u001b[0m\n",
       "                               \u001b[1mHoạt động 5: Tổng kết và Củng cố kiến thức (10 phút)\u001b[0m                                \n",
       "\n",
       "\u001b[1mNhiệm vụ (Đề bài):\u001b[0m Cho tam giác ABC. Tâm đường tròn ngoại tiếp tam giác ABC là giao điểm của ba đường nào? A. Ba   \n",
       "đường cao B. Ba đường trung tuyến C. Ba đường trung trực D. Ba đường phân giác \u001b[1mGợi ý Phân hóa:\u001b[0m                     \n",
       "\n",
       "\u001b[1;33m • \u001b[0m\u001b[3mHỗ trợ (HS yếu):\u001b[0m Đối với học sinh gặp khó khăn, giáo viên có thể gợi ý các em xem lại định nghĩa và tính chất   \n",
       "\u001b[1;33m   \u001b[0mtrong sách giáo khoa hoặc phiếu tóm tắt kiến thức trước khi trả lời. Có thể cho phép các em thảo luận nhanh với \n",
       "\u001b[1;33m   \u001b[0mbạn bên cạnh để tìm ra đáp án.                                                                                  \n",
       "\u001b[1;33m • \u001b[0m\u001b[3mThử thách (HS giỏi):\u001b[0m Đối với học sinh khá giỏi, giáo viên có thể đặt câu hỏi mở rộng sau khi học sinh trả lời   \n",
       "\u001b[1;33m   \u001b[0mxong câu hỏi chính: 'Tâm đường tròn nội tiếp tam giác là giao điểm của ba đường nào? Nêu mối liên hệ giữa vị trí\n",
       "\u001b[1;33m   \u001b[0mtâm đường tròn ngoại tiếp với các loại tam giác đặc biệt (tam giác vuông, tam giác tù, tam giác nhọn)?'         \n",
       "\n",
       "\u001b[33m───────────────────────────────────────────────────────────────────────────────────────────────────────────────────\u001b[0m\n",
       "\n",
       "                                           \u001b[1;4mV. TÓM TẮT KIẾN THỨC CỐT LÕI\u001b[0m                                            \n",
       "\n",
       "Chào các em học sinh,                                                                                              \n",
       "\n",
       "Với vai trò là một giáo viên, thầy/cô đã đọc kỹ các đoạn văn bản được cung cấp và xin tổng hợp kiến thức cốt lõi về\n",
       "chủ đề \"Đường tròn ngoại tiếp và đường tròn nội tiếp\" dựa \u001b[1mchỉ\u001b[0m vào những thông tin này.                             \n",
       "\n",
       "\u001b[1mTÓM TẮT KIẾN THỨC CỐT LÕI VỀ CHỦ ĐỀ \"ĐƯỜNG TRÒN NGOẠI TIẾP VÀ ĐƯỜNG TRÒN NỘI TIẾP\"\u001b[0m                                 \n",
       "\n",
       "Dựa trên các đoạn văn bản đã cho, kiến thức cốt lõi có thể tổng hợp được như sau:                                  \n",
       "\n",
       "\u001b[1mI. Về Đường tròn nội tiếp (liên quan đến khái niệm tiếp tuyến)\u001b[0m                                                     \n",
       "\n",
       "Mặc dù các đoạn văn bản không trực tiếp định nghĩa \"đường tròn nội tiếp\", nhưng chúng cung cấp các khái niệm và    \n",
       "tính chất quan trọng về \"tiếp tuyến\" của đường tròn. Khái niệm tiếp tuyến là yếu tố cốt lõi để hiểu về đường tròn  \n",
       "nội tiếp (đường tròn nội tiếp là đường tròn tiếp xúc với các cạnh của đa giác).                                    \n",
       "\n",
       "\u001b[1;33m 1 \u001b[0m\u001b[1mĐịnh nghĩa Tiếp tuyến và Tiếp điểm:\u001b[0m                                                                             \n",
       "\u001b[1;33m   \u001b[0m\u001b[1;33m • \u001b[0mĐường thẳng và đường tròn được gọi là \u001b[1mtiếp xúc với nhau\u001b[0m nếu chúng có đúng một điểm chung.                    \n",
       "\u001b[1;33m   \u001b[0m\u001b[1;33m • \u001b[0mĐiểm chung duy nhất đó được gọi là \u001b[1mtiếp điểm\u001b[0m.                                                                \n",
       "\u001b[1;33m   \u001b[0m\u001b[1;33m • \u001b[0mKhi đó, đường thẳng đó còn được gọi là \u001b[1mtiếp tuyến\u001b[0m của đường tròn tại tiếp điểm.                              \n",
       "\u001b[1;33m 2 \u001b[0m\u001b[1mDấu hiệu nhận biết Tiếp tuyến của đường tròn:\u001b[0m                                                                   \n",
       "\u001b[1;33m   \u001b[0m\u001b[1;33m • \u001b[0mNếu một đường thẳng đi qua một điểm trên một đường tròn và vuông góc với bán kính đi qua điểm đó, thì đường  \n",
       "\u001b[1;33m   \u001b[0m\u001b[1;33m   \u001b[0mthẳng ấy là một tiếp tuyến của đường tròn.                                                                   \n",
       "\u001b[1;33m 3 \u001b[0m\u001b[1mMối quan hệ giữa khoảng cách từ tâm đến tiếp tuyến và bán kính:\u001b[0m                                                 \n",
       "\u001b[1;33m   \u001b[0m\u001b[1;33m • \u001b[0mKhi một đường thẳng là tiếp tuyến của đường tròn (O; R), khoảng cách (d) từ tâm O đến đường thẳng đó bằng bán\n",
       "\u001b[1;33m   \u001b[0m\u001b[1;33m   \u001b[0mkính R (tức là $d = R$).                                                                                     \n",
       "\n",
       "\u001b[1mII. Về Đường tròn ngoại tiếp\u001b[0m                                                                                       \n",
       "\n",
       "Các đoạn văn bản được cung cấp không chứa thông tin hay định nghĩa nào về \"đường tròn ngoại tiếp\". Do đó, không thể\n",
       "tổng hợp kiến thức về phần này dựa trên tài liệu đã cho.                                                           \n",
       "\n",
       "\u001b[33m───────────────────────────────────────────────────────────────────────────────────────────────────────────────────\u001b[0m\n",
       "Hy vọng bản tóm tắt này giúp các em nắm vững những kiến thức cơ bản được đề cập trong tài liệu.                    \n"
      ]
     },
     "metadata": {},
     "output_type": "display_data"
    },
    {
     "data": {
      "text/html": [
       "<pre style=\"white-space:pre;overflow-x:auto;line-height:normal;font-family:Menlo,'DejaVu Sans Mono',consolas,'Courier New',monospace\"><span style=\"color: #008000; text-decoration-color: #008000; font-weight: bold\">✔️ Output JSON có cấu trúc:</span>\n",
       "</pre>\n"
      ],
      "text/plain": [
       "\u001b[1;32m✔️ Output JSON có cấu trúc:\u001b[0m\n"
      ]
     },
     "metadata": {},
     "output_type": "display_data"
    },
    {
     "data": {
      "text/html": [
       "<pre style=\"white-space:pre;overflow-x:auto;line-height:normal;font-family:Menlo,'DejaVu Sans Mono',consolas,'Courier New',monospace\"><span style=\"color: #800080; text-decoration-color: #800080; font-style: italic\">None</span>\n",
       "</pre>\n"
      ],
      "text/plain": [
       "\u001b[3;35mNone\u001b[0m\n"
      ]
     },
     "metadata": {},
     "output_type": "display_data"
    }
   ],
   "source": [
    "# ==============================================================================\n",
    "# CELL 5.2: KÍCH HOẠT CHẠY THỬ NGHIỆM\n",
    "# ==============================================================================\n",
    "# Yêu cầu để kiểm tra\n",
    "architect_request = \"Soạn giúp tôi giáo án bài 'Đường tròn ngoại tiếp và đường tròn nội tiếp' cho học sinh lớp 9 trong 90 phút. Đây là một lớp học khá yếu, các em thường mất tập trung và cần các hoạt động có tính tương tác cao.\"\n",
    "VERBOSE_MODE = True \n",
    "\n",
    "# Chạy quy trình đã được cải cách\n",
    "# Lưu ý: bạn cần một môi trường hỗ trợ `await` ở cấp độ cao nhất (như Jupyter Notebook)\n",
    "await run_architect(architect_request)"
   ]
  }
 ],
 "metadata": {
  "kernelspec": {
   "display_name": "plan_venv",
   "language": "python",
   "name": "python3"
  },
  "language_info": {
   "codemirror_mode": {
    "name": "ipython",
    "version": 3
   },
   "file_extension": ".py",
   "mimetype": "text/x-python",
   "name": "python",
   "nbconvert_exporter": "python",
   "pygments_lexer": "ipython3",
   "version": "3.11.8"
  }
 },
 "nbformat": 4,
 "nbformat_minor": 5
}
