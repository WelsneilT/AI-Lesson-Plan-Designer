{
 "cells": [
  {
   "cell_type": "markdown",
   "id": "a3bfa357",
   "metadata": {},
   "source": [
    "## PHẦN 1: CÀI ĐẶT, IMPORTS & THIẾT LẬP BAN ĐẦU"
   ]
  },
  {
   "cell_type": "code",
   "execution_count": 93,
   "id": "f1b9d691",
   "metadata": {},
   "outputs": [],
   "source": [
    "# ==============================================================================\n",
    "# CELL 1.1: CÀI ĐẶT THƯ VIỆN & BIẾN MÔI TRƯỜNG (CẬP NHẬT)\n",
    "# ==============================================================================\n",
    "import os\n",
    "import json\n",
    "import asyncio\n",
    "import operator\n",
    "import time \n",
    "from typing import TypedDict, Annotated, List, Dict, Any, Literal, Optional, Union\n",
    "\n",
    "# Tải các biến môi trường\n",
    "from dotenv import load_dotenv \n",
    "load_dotenv()\n",
    "\n",
    "# LangChain & LangGraph\n",
    "from langchain_core.messages import BaseMessage, HumanMessage\n",
    "from langchain_core.pydantic_v1 import BaseModel, Field\n",
    "# --- NÂNG CẤP: Chuyển sang thư viện Google Generative AI (dành cho AI Studio) ---\n",
    "from langchain_google_genai import ChatGoogleGenerativeAI\n",
    "from langgraph.graph import StateGraph, END\n",
    "from langgraph.graph.message import add_messages\n",
    "\n",
    "# --- NÂNG CẤP: Thêm công cụ tìm kiếm ---\n",
    "from langchain_community.tools.tavily_search import TavilySearchResults\n",
    "\n",
    "# Thư viện hỗ trợ & Kho tri thức\n",
    "from langchain_community.vectorstores import FAISS\n",
    "from langchain_huggingface import HuggingFaceEmbeddings\n",
    "from rich.console import Console\n",
    "from rich.markdown import Markdown\n",
    "from rich.pretty import pprint\n",
    "from IPython.display import Image, display"
   ]
  },
  {
   "cell_type": "code",
   "execution_count": 94,
   "id": "eb563d80",
   "metadata": {},
   "outputs": [],
   "source": [
    "# ==============================================================================\n",
    "# CELL 1.2: CẤU HÌNH LOG & CÁC HÀM IN ẤN\n",
    "# ==============================================================================\n",
    "from langchain_groq import ChatGroq\n",
    "# --- CẤU HÌNH LOG ---\n",
    "VERBOSE_MODE = True\n",
    "\n",
    "# --- KHỞI TẠO CÁC CÔNG CỤ IN ẤN ---\n",
    "console = Console()\n",
    "\n",
    "def print_step(message: str):\n",
    "    if VERBOSE_MODE:\n",
    "        console.print(f\"\\n[bold cyan]>[/bold cyan] {message}\")\n",
    "\n",
    "def print_result(data: Any, title: str = \"Kết quả\"):\n",
    "    if VERBOSE_MODE:\n",
    "        console.print(f\"[bold green]✔️ {title}:[/bold green]\")\n",
    "        pprint(data, expand_all=True)\n",
    "        \n",
    "def print_warning(message: str):\n",
    "    if VERBOSE_MODE:\n",
    "        console.print(f\"[bold yellow]⚠️  {message}[/bold yellow]\")"
   ]
  },
  {
   "cell_type": "code",
   "execution_count": 95,
   "id": "eb8e3f51",
   "metadata": {},
   "outputs": [
    {
     "name": "stdout",
     "output_type": "stream",
     "text": [
      "✅ LLM (Gemini 2.5 Flash từ Google AI Studio) đã được khởi tạo thành công.\n"
     ]
    }
   ],
   "source": [
    "# ==============================================================================\n",
    "# CELL 1.3: KHỞI TẠO LLM (NÂNG CẤP SANG GOOGLE AI STUDIO)\n",
    "# ==============================================================================\n",
    "try:\n",
    "    llm = ChatGoogleGenerativeAI(\n",
    "        model=\"gemini-2.5-flash\", # Sử dụng model mới nhất và mạnh nhất\n",
    "        temperature=0.1,\n",
    "        google_api_key=os.getenv(\"GOOGLE_API_KEY\")\n",
    "    )\n",
    "    print(\"✅ LLM (Gemini 2.5 Flash từ Google AI Studio) đã được khởi tạo thành công.\")\n",
    "except Exception as e:\n",
    "    print(f\"❌ LỖI: Không thể khởi tạo LLM. Hãy chắc chắn bạn đã cài 'langchain-google-genai' và có GOOGLE_API_KEY trong file .env. Lỗi: {e}\")\n",
    "    llm = None"
   ]
  },
  {
   "cell_type": "code",
   "execution_count": 96,
   "id": "0e17e6e5",
   "metadata": {},
   "outputs": [
    {
     "data": {
      "text/html": [
       "<pre style=\"white-space:pre;overflow-x:auto;line-height:normal;font-family:Menlo,'DejaVu Sans Mono',consolas,'Courier New',monospace\"><span style=\"color: #808000; text-decoration-color: #808000; font-weight: bold\">⚠️  Trí nhớ trống, không có gì để xây dựng vector store.</span>\n",
       "</pre>\n"
      ],
      "text/plain": [
       "\u001b[1;33m⚠️  Trí nhớ trống, không có gì để xây dựng vector store.\u001b[0m\n"
      ]
     },
     "metadata": {},
     "output_type": "display_data"
    }
   ],
   "source": [
    "# ==============================================================================\n",
    "# CELL 1.5: KHỞI TẠO VÀ QUẢN LÝ TRÍ NHỚ DÀI HẠN (NÂNG CẤP V9.4)\n",
    "# ==============================================================================\n",
    "MEMORY_FILE_PATH = \"long_term_memory.json\"\n",
    "memory_vector_store = None\n",
    "\n",
    "# Hàm để tải trí nhớ từ file JSON\n",
    "def load_memory():\n",
    "    if not os.path.exists(MEMORY_FILE_PATH):\n",
    "        return []\n",
    "    with open(MEMORY_FILE_PATH, 'r', encoding='utf-8') as f:\n",
    "        return json.load(f)\n",
    "\n",
    "# Hàm để lưu một giáo án mới vào trí nhớ\n",
    "def save_to_memory(request: str, structured_plan: Dict[str, Any]):\n",
    "    memory = load_memory()\n",
    "    memory.append({\n",
    "        \"request\": request,\n",
    "        \"plan\": structured_plan\n",
    "    })\n",
    "    with open(MEMORY_FILE_PATH, 'w', encoding='utf-8') as f:\n",
    "        json.dump(memory, f, ensure_ascii=False, indent=2)\n",
    "    print_step(\"🧠 Đã lưu giáo án thành công vào Trí nhớ Dài hạn.\")\n",
    "\n",
    "# Hàm để tạo một vector store từ trí nhớ (để tìm kiếm tương đồng)\n",
    "def build_memory_vector_store():\n",
    "    global memory_vector_store\n",
    "    memory_content = load_memory()\n",
    "    if not memory_content:\n",
    "        print_warning(\"Trí nhớ trống, không có gì để xây dựng vector store.\")\n",
    "        return\n",
    "\n",
    "    # Chỉ lấy phần 'request' để tìm kiếm\n",
    "    texts = [item['request'] for item in memory_content]\n",
    "    # Lưu toàn bộ item làm metadata\n",
    "    metadatas = memory_content\n",
    "    \n",
    "    memory_vector_store = FAISS.from_texts(texts, embeddings, metadatas=metadatas)\n",
    "    print_step(\"✅ Đã xây dựng Vector Store cho Trí nhớ Dài hạn.\")\n",
    "\n",
    "# Tự động xây dựng vector store khi khởi động notebook\n",
    "build_memory_vector_store()"
   ]
  },
  {
   "cell_type": "markdown",
   "id": "3ba01f0c",
   "metadata": {},
   "source": [
    "## PHẦN 2: ĐỊNH NGHĨA STATE CỦA HỆ THỐNG\n"
   ]
  },
  {
   "cell_type": "code",
   "execution_count": 97,
   "id": "9d8894ca",
   "metadata": {},
   "outputs": [
    {
     "data": {
      "text/html": [
       "<pre style=\"white-space:pre;overflow-x:auto;line-height:normal;font-family:Menlo,'DejaVu Sans Mono',consolas,'Courier New',monospace\">\n",
       "<span style=\"color: #008080; text-decoration-color: #008080; font-weight: bold\">&gt;</span> Đang tải và hợp nhất các kho tri thức từ <span style=\"color: #008080; text-decoration-color: #008080; font-weight: bold\">2</span> thư mục<span style=\"color: #808000; text-decoration-color: #808000\">...</span>\n",
       "</pre>\n"
      ],
      "text/plain": [
       "\n",
       "\u001b[1;36m>\u001b[0m Đang tải và hợp nhất các kho tri thức từ \u001b[1;36m2\u001b[0m thư mục\u001b[33m...\u001b[0m\n"
      ]
     },
     "metadata": {},
     "output_type": "display_data"
    },
    {
     "name": "stdout",
     "output_type": "stream",
     "text": [
      "✅ Đã tải thành công kho tri thức cơ sở: 'sgk_toan_12_1'\n",
      "✅ Đã hợp nhất thành công: 'sgk_toan_9'\n",
      "\n",
      "[bold green]✔️ Tất cả các kho tri thức RAG đã được tải và hợp nhất thành công.[/bold green]\n"
     ]
    }
   ],
   "source": [
    "# ==============================================================================\n",
    "# CELL 1.4: TẢI KHO TRI THỨC (RAG)\n",
    "# ==============================================================================\n",
    "# --- TẢI KHO TRI THỨC ---\n",
    "BASE_VECTOR_STORE_PATH = \"vector_store\"\n",
    "vector_store = None\n",
    "embeddings = HuggingFaceEmbeddings(model_name=\"all-MiniLM-L6-v2\")\n",
    "\n",
    "if os.path.exists(BASE_VECTOR_STORE_PATH):\n",
    "    subdirectories = [f.path for f in os.scandir(BASE_VECTOR_STORE_PATH) if f.is_dir()]\n",
    "    if not subdirectories:\n",
    "        print(f\"❌ LỖI: Không tìm thấy thư mục con nào trong '{BASE_VECTOR_STORE_PATH}'.\")\n",
    "    else:\n",
    "        try:\n",
    "            print_step(f\"Đang tải và hợp nhất các kho tri thức từ {len(subdirectories)} thư mục...\")\n",
    "            # Tải kho tri thức đầu tiên để làm cơ sở\n",
    "            first_store_path = subdirectories.pop(0)\n",
    "            vector_store = FAISS.load_local(first_store_path, embeddings, allow_dangerous_deserialization=True)\n",
    "            print(f\"✅ Đã tải thành công kho tri thức cơ sở: '{os.path.basename(first_store_path)}'\")\n",
    "\n",
    "            # Hợp nhất các kho tri thức còn lại\n",
    "            for store_path in subdirectories:\n",
    "                if os.path.exists(os.path.join(store_path, \"index.faiss\")):\n",
    "                    temp_store = FAISS.load_local(store_path, embeddings, allow_dangerous_deserialization=True)\n",
    "                    vector_store.merge_from(temp_store)\n",
    "                    print(f\"✅ Đã hợp nhất thành công: '{os.path.basename(store_path)}'\")\n",
    "                else:\n",
    "                    print_warning(f\"Bỏ qua thư mục '{os.path.basename(store_path)}' vì không chứa file index.faiss.\")\n",
    "            \n",
    "            print(\"\\n[bold green]✔️ Tất cả các kho tri thức RAG đã được tải và hợp nhất thành công.[/bold green]\")\n",
    "\n",
    "        except Exception as e:\n",
    "            print(f\"❌ LỖI trong quá trình tải hoặc hợp nhất kho tri thức: {e}\")\n",
    "else:\n",
    "    print(f\"❌ LỖI: Không tìm thấy thư mục gốc của kho tri thức tại '{BASE_VECTOR_STORE_PATH}'.\")\n"
   ]
  },
  {
   "cell_type": "code",
   "execution_count": 98,
   "id": "38cfae91",
   "metadata": {},
   "outputs": [
    {
     "name": "stdout",
     "output_type": "stream",
     "text": [
      "✅ 'TeacherStateV5' (v9.0 - Hỗ trợ Phân hóa & Cấu trúc) đã được định nghĩa.\n"
     ]
    }
   ],
   "source": [
    "# ==============================================================================\n",
    "# CELL 2.1: ĐỊNH NGHĨA STATE NÂNG CAO (v9.0)\n",
    "# ==============================================================================\n",
    "from typing import TypedDict, Annotated, List, Dict, Any, Literal, Optional, Union\n",
    "from langchain_core.messages import BaseMessage\n",
    "from langgraph.graph.message import add_messages\n",
    "import operator\n",
    "\n",
    "# --- Hàm tiện ích (giữ nguyên) ---\n",
    "def merge_dicts(dict1: Dict[str, Any], dict2: Dict[str, Any]) -> Dict[str, Any]:\n",
    "    merged = dict1.copy()\n",
    "    for key, value in dict2.items():\n",
    "        if key in merged and isinstance(merged[key], dict) and isinstance(value, dict):\n",
    "            merged[key] = merge_dicts(merged[key], value)\n",
    "        else:\n",
    "            merged[key] = value\n",
    "    return merged\n",
    "\n",
    "# --- Cấu trúc dữ liệu con (giữ nguyên) ---\n",
    "class DetailedTask(TypedDict):\n",
    "    task_id: int\n",
    "    task_name: str\n",
    "    task_description: str\n",
    "    estimated_duration: int \n",
    "    status: Literal[\"pending\", \"completed\"]\n",
    "\n",
    "# === NÂNG CẤP V9.0: CÁC CẤU TRÚC DỮ LIỆU MỚI CHO TƯ DUY SÂU ===\n",
    "class DifferentiatedInstruction(TypedDict):\n",
    "    \"\"\"Gợi ý cho việc dạy học phân hóa trong một hoạt động.\"\"\"\n",
    "    for_struggling_students: str\n",
    "    for_advanced_students: str\n",
    "\n",
    "class StructuredContentItem(TypedDict):\n",
    "    \"\"\"Định nghĩa một hoạt động hoặc đánh giá có cấu trúc.\"\"\"\n",
    "    task_id: int\n",
    "    activity_name: str\n",
    "    question_or_description: str # Gộp 'question' và 'description'\n",
    "    duration_minutes: int\n",
    "    content_type: str # Gộp 'activity_type' và 'question_type'\n",
    "    teacher_actions: List[str]\n",
    "    solution_guide: Any\n",
    "    answer: Optional[str] # Dành cho câu hỏi đánh giá\n",
    "    differentiation: Optional[DifferentiatedInstruction]\n",
    "\n",
    "class FinalStructuredPlan(TypedDict):\n",
    "    \"\"\"Định nghĩa cấu trúc JSON cho giáo án cuối cùng.\"\"\"\n",
    "    general_info: Dict[str, Any]\n",
    "    learning_objectives: List[str]\n",
    "    preparation: Dict[str, List[str]]\n",
    "    knowledge_summary: str\n",
    "    lesson_flow: List[StructuredContentItem]\n",
    "    # pedagogical_explainer: Dict[str, Any] # Dành cho nâng cấp tương lai\n",
    "\n",
    "# === NÂNG CẤP V9.0: STATE MỚI VỚI CÁC TRƯỜNG TRÍ TUỆ MỚI ===\n",
    "class TeacherStateV5(TypedDict):\n",
    "    # Các trường cơ bản\n",
    "    original_request: str\n",
    "    messages: Annotated[List[BaseMessage], add_messages]\n",
    "    domain: Optional[str]\n",
    "    \n",
    "    # === NÂNG CẤP: student_persona giờ sẽ chứa cả chiến lược phân hóa ===\n",
    "    student_persona: Optional[Dict[str, Any]] \n",
    "    \n",
    "    # Các bước tuần tự ban đầu\n",
    "    analyzed_objective: Optional[Any]\n",
    "    pedagogy_strategy: Optional[Any]\n",
    "    pedagogical_blueprint: Optional[List[str]]\n",
    "\n",
    "    # Các trường nâng cao\n",
    "    expanded_queries: Optional[List[str]]\n",
    "    task_list: Optional[List[DetailedTask]]\n",
    "    current_task_id: Optional[int]\n",
    "    reflection_notes: Optional[str]\n",
    "    agent_outputs: Annotated[Dict[str, Any], merge_dicts] \n",
    "    next_agent: str\n",
    "    \n",
    "    # Các trường tạm thời cho vòng lặp kiểm duyệt vi mô (Micro-loop)\n",
    "    current_content_to_validate: Optional[Dict[str, Any]]\n",
    "    validation_feedback: Optional[str]\n",
    "\n",
    "    inspirational_example: Optional[List[Dict[str, Any]]]\n",
    "\n",
    "    # === NÂNG CẤP: Output cuối cùng sẽ có 2 dạng ===\n",
    "    final_structured_plan: Optional[FinalStructuredPlan] # Dạng JSON có cấu trúc\n",
    "    final_markdown_plan: Optional[str] # Dạng Markdown để hiển thị\n",
    "\n",
    "print(\"✅ 'TeacherStateV5' (v9.0 - Hỗ trợ Phân hóa & Cấu trúc) đã được định nghĩa.\")"
   ]
  },
  {
   "cell_type": "code",
   "execution_count": 99,
   "id": "deb1ba5e",
   "metadata": {},
   "outputs": [
    {
     "name": "stdout",
     "output_type": "stream",
     "text": [
      "✅ Node khởi tạo 'initialize_state_node' đã được định nghĩa.\n"
     ]
    }
   ],
   "source": [
    "# ==============================================================================\n",
    "# CELL 2.2: NODE KHỞI TẠO STATE\n",
    "# ==============================================================================\n",
    "def initialize_state_node(state: TeacherStateV5) -> Dict[str, Any]:\n",
    "    \"\"\"\n",
    "    Node đầu tiên trong graph.\n",
    "    Lấy yêu cầu gốc từ tin nhắn đầu vào và điền vào trường 'original_request'.\n",
    "    \"\"\"\n",
    "    print_step(\"`Initializer`: Đang khởi tạo trạng thái và lấy yêu cầu gốc...\")\n",
    "    user_request = state['messages'][-1].content\n",
    "    return {\"original_request\": user_request}\n",
    "\n",
    "print(\"✅ Node khởi tạo 'initialize_state_node' đã được định nghĩa.\")"
   ]
  },
  {
   "cell_type": "markdown",
   "id": "924d794f",
   "metadata": {},
   "source": [
    "## PHẦN 3: ĐỊNH NGHĨA CÁC AGENT"
   ]
  },
  {
   "cell_type": "code",
   "execution_count": 100,
   "id": "8cc95063",
   "metadata": {},
   "outputs": [
    {
     "name": "stdout",
     "output_type": "stream",
     "text": [
      "✅ Các cấu trúc dữ liệu Pydantic (v9.0 - Hỗ trợ Phân hóa) đã được định nghĩa.\n"
     ]
    }
   ],
   "source": [
    "# ==============================================================================\n",
    "# CELL 3.1: HÀM TIỆN ÍCH, PERSONA & CÁC CẤU TRÚC DỮ LIỆU (NÂNG CẤP V9.0)\n",
    "# ==============================================================================\n",
    "import json\n",
    "from langchain_core.pydantic_v1 import BaseModel, Field, schema_json_of\n",
    "from typing import List, Dict, Any, Literal, Optional\n",
    "\n",
    "# --- HÀM TIỆN ÍCH & PERSONA (giữ nguyên) ---\n",
    "def format_solution_guide(guide: Any) -> str:\n",
    "    if not guide: return \"Chưa có hướng dẫn.\"\n",
    "    if isinstance(guide, str): return guide\n",
    "    if isinstance(guide, list): return \"\\n\".join(f\"- {step}\" for step in guide)\n",
    "    if isinstance(guide, dict): return \"\\n\".join(f\"- {key.replace('_', ' ').title()}: {value}\" for key, value in guide.items())\n",
    "    return str(guide)\n",
    "\n",
    "def format_teacher_actions(actions: Optional[List[str]]) -> str:\n",
    "    if not actions: return \"Giáo viên quan sát và hỗ trợ chung.\"\n",
    "    return \"\\n\".join(f\"  - {action}\" for action in actions)\n",
    "\n",
    "def update_agent_outputs(state: \"TeacherStateV5\", key: str, value: Any) -> Dict[str, Any]:\n",
    "    outputs = state.get(\"agent_outputs\", {}).copy()\n",
    "    if key not in outputs: outputs[key] = []\n",
    "    outputs[key].append(value)\n",
    "    return {\"agent_outputs\": outputs}\n",
    "\n",
    "SYSTEM_PERSONA_PROMPT = \"BẠN LÀ MỘT TRỢ LÝ AI CHUYÊN NGHIỆP, ĐÓNG VAI TRÒ MỘT GIÁO VIÊN GIÀU KINH NGHIỆM TẠI VIỆT NAM. LUÔN LUÔN trả lời bằng TIẾNG VIỆT.\"\n",
    "\n",
    "# === NÂNG CẤP V9.0: PYDANTIC MODELS MỚI CHO TƯ DUY SÂU ===\n",
    "\n",
    "class DifferentiatedInstructionModel(BaseModel):\n",
    "    \"\"\"Gợi ý cụ thể cho việc dạy học phân hóa trong một hoạt động.\"\"\"\n",
    "    for_struggling_students: str = Field(description=\"Một gợi ý hoạt động, câu hỏi, hoặc sự hỗ trợ cụ thể cho nhóm học sinh yếu/gặp khó khăn.\")\n",
    "    for_advanced_students: str = Field(description=\"Một câu hỏi mở rộng, một thử thách, hoặc một hoạt động nâng cao cho nhóm học sinh giỏi.\")\n",
    "\n",
    "class LearningActivity(BaseModel):\n",
    "    activity_name: str = Field(description=\"Tên của hoạt động học tập. Ví dụ: 'Thảo luận nhóm về ứng dụng của Tích phân'\")\n",
    "    description: str = Field(description=\"Mô tả chi tiết các bước HỌC SINH cần làm.\")\n",
    "    duration_minutes: int = Field(description=\"Thời gian ước tính (bằng SỐ PHÚT).\")\n",
    "    activity_type: str = Field(description=\"Phân loại hoạt động. Ví dụ: 'Thảo luận nhóm', 'Thực hành cá nhân'\")\n",
    "    teacher_actions: List[str] = Field(description=\"Danh sách các hành động CỤ THỂ của GIÁO VIÊN trong hoạt động này.\")\n",
    "    solution_guide: Optional[Any] = Field(description=\"Hướng dẫn giải hoặc các câu hỏi gợi mở cụ thể cho học sinh.\")\n",
    "    differentiation: Optional[DifferentiatedInstructionModel] = Field(description=\"Gợi ý phân hóa cụ thể cho hoạt động này.\")\n",
    "\n",
    "class AssessmentItem(BaseModel):\n",
    "    activity_name: str = Field(description=\"Tên của hoạt động đánh giá. Ví dụ: 'Thử thách cuối bài'\")\n",
    "    question: str = Field(description=\"Nội dung câu hỏi hoặc đề bài toán cụ thể.\")\n",
    "    question_type: str = Field(description=\"Loại câu hỏi. Ví dụ: 'Tự luận', 'Trắc nghiệm'\")\n",
    "    teacher_actions: List[str] = Field(description=\"Danh sách các hành động CỤ THỂ của GIÁO VIÊN trong hoạt động này.\")\n",
    "    answer: str = Field(description=\"Đáp án chính xác và ngắn gọn.\")\n",
    "    solution_guide: Any = Field(description=\"Hướng dẫn giải chi tiết từng bước.\")\n",
    "    duration_minutes: int = Field(description=\"Thời gian ước tính (bằng SỐ PHÚT).\")\n",
    "    differentiation: Optional[DifferentiatedInstructionModel] = Field(description=\"Gợi ý phân hóa cụ thể cho hoạt động này, ví dụ một câu hỏi phụ khó hơn.\")\n",
    "\n",
    "class StudentPersona(BaseModel):\n",
    "    learning_pace: Literal[\"nhanh\", \"trung bình\", \"chậm\"] = Field(description=\"Tốc độ học tập chung của lớp.\")\n",
    "    engagement_style: Literal[\"chủ động\", \"thụ động\", \"hỗn hợp\"] = Field(description=\"Mức độ tham gia chung của lớp.\")\n",
    "    special_notes: str = Field(description=\"Tóm tắt các đặc điểm nổi bật của lớp học.\")\n",
    "\n",
    "class StudentPersonaAndDifferentiation(StudentPersona):\n",
    "    \"\"\"Mở rộng StudentPersona để bao gồm cả chiến lược phân hóa tổng thể.\"\"\"\n",
    "    differentiation_strategy: DifferentiatedInstructionModel = Field(description=\"Chiến lược dạy học phân hóa tổng thể cho cả bài học dựa trên các đặc điểm của lớp.\")\n",
    "\n",
    "# --- Các model khác giữ nguyên ---\n",
    "class DetailedTaskModel(BaseModel):\n",
    "    task_name: str = Field(description=\"Tên của nhiệm vụ này.\")\n",
    "    task_description: str = Field(description=\"Mô tả chi tiết nhiệm vụ cần thực hiện.\")\n",
    "    estimated_duration: int = Field(description=\"Thời gian ước tính (bằng phút) cho nhiệm vụ này.\")\n",
    "\n",
    "class TaskListWithDuration(BaseModel):\n",
    "    tasks: List[DetailedTaskModel]\n",
    "\n",
    "class DetailedPedagogyChoice(BaseModel):\n",
    "    name: str = Field(description=\"Tên của phương pháp sư phạm được chọn.\")\n",
    "    rationale: str = Field(description=\"Lý do tại sao phương pháp này phù hợp.\")\n",
    "    key_actions: List[str] = Field(description=\"Danh sách các hành động/hoạt động cốt lõi đặc trưng cho phương pháp này.\")\n",
    "\n",
    "class ValidationResult(BaseModel):\n",
    "    is_valid: bool = Field(description=\"Nội dung có hợp lệ và chính xác về mặt chuyên môn không.\")\n",
    "    feedback: str = Field(description=\"Phản hồi chi tiết. Nếu không hợp lệ, hãy giải thích rõ ràng lỗi sai và gợi ý cách sửa.\")\n",
    "\n",
    "class Domain(BaseModel):\n",
    "    domain: str = Field(description=\"Lĩnh vực học thuật chính của yêu cầu.\")\n",
    "\n",
    "class ExpandedQueries(BaseModel): queries: List[str]\n",
    "class BestSnippets(BaseModel): best_snippets: List[str]\n",
    "class ParsedObjective(BaseModel): action_verb: str; bloom_level: int; topic: str; grade_level: str; duration_minutes: Optional[int]\n",
    "class TaskClassification(BaseModel): agent_category: Literal[\"activity_designer\", \"theory_synthesizer\", \"assessment_creator\"]\n",
    "\n",
    "class BlueprintStage(BaseModel):\n",
    "    stage_name: str = Field(description=\"Tên của giai đoạn.\")\n",
    "    stage_objective: str = Field(description=\"Mô tả mục tiêu của giai đoạn này.\")\n",
    "    stage_direction: str = Field(description=\"Định hướng chung về hoạt động trong giai đoạn này.\")\n",
    "\n",
    "class PedagogicalBlueprint(BaseModel):\n",
    "    blueprint: List[BlueprintStage]\n",
    "\n",
    "print(\"✅ Các cấu trúc dữ liệu Pydantic (v9.0 - Hỗ trợ Phân hóa) đã được định nghĩa.\")"
   ]
  },
  {
   "cell_type": "code",
   "execution_count": 101,
   "id": "be758847",
   "metadata": {},
   "outputs": [
    {
     "name": "stdout",
     "output_type": "stream",
     "text": [
      "✅ Các agent phân tích yêu cầu ban đầu (v9.0 - Hỗ trợ Phân hóa) đã sẵn sàng.\n"
     ]
    }
   ],
   "source": [
    "# ==============================================================================\n",
    "# CELL 3.2: AGENT PHÂN TÍCH YÊU CẦU BAN ĐẦU (NÂNG CẤP V9.0)\n",
    "# ==============================================================================\n",
    "async def objective_interpreter_agent(state: \"TeacherStateV5\") -> Dict[str, Any]:\n",
    "    print_step(\"`Agent: Objective Interpreter` (v7.5) đang phân tích mục tiêu...\")\n",
    "    prompt = f\"{SYSTEM_PERSONA_PROMPT}\\n**NHIỆM VỤ:** Đọc yêu cầu của người dùng và trích xuất các thông tin sau.\\n**YÊU CẦU:** \\\"{state['original_request']}\\\"\\n**CÁC TRƯỜNG CẦN TRÍCH XUẤT:** `action_verb`, `bloom_level` (SỐ NGUYÊN), `topic`, `grade_level`, `duration_minutes`.\\n**CHỈ TRẢ VỀ JSON.**\"\n",
    "    structured_llm = llm.with_structured_output(ParsedObjective, method=\"json_mode\")\n",
    "    try:\n",
    "        parsed_result = await structured_llm.ainvoke(prompt)\n",
    "        analyzed_objective_dict = parsed_result.dict()\n",
    "        analyzed_objective_dict['constraints'] = {'duration_minutes': parsed_result.duration_minutes}\n",
    "        del analyzed_objective_dict['duration_minutes']\n",
    "        print_result(analyzed_objective_dict, \"Mục tiêu & Ràng buộc đã phân tích\")\n",
    "        return {\"analyzed_objective\": analyzed_objective_dict}\n",
    "    except Exception as e:\n",
    "        print_warning(f\"Lỗi tại Objective Interpreter: {e}. Sử dụng mục tiêu mặc định.\")\n",
    "        return {\"analyzed_objective\": { \"action_verb\": \"soạn\", \"bloom_level\": 3, \"topic\": state['original_request'], \"grade_level\": \"9\", \"constraints\": {\"duration_minutes\": 90} }}\n",
    "\n",
    "async def domain_classifier_agent(state: \"TeacherStateV5\") -> Dict[str, Any]:\n",
    "    print_step(\"`Agent: Domain Classifier` (v7.5) đang xác định lĩnh vực chuyên môn...\")\n",
    "    prompt = f\"{SYSTEM_PERSONA_PROMPT}\\n**NHIỆM VỤ:** Đọc yêu cầu của người dùng và xác định lĩnh vực học thuật chính.\\n**YÊU CẦU:** \\\"{state['original_request']}\\\"\\n**LĨNH VỰC CÓ THỂ CHỌN:** 'Toán học', 'Vật lý', 'Hóa học', 'Sinh học', 'Văn học', 'Lịch sử', 'Địa lý', 'Ngoại ngữ', 'Tin học'.\\n**YÊU CẦU ĐỊNH DẠNG:** Trả về JSON với key `domain`.\"\n",
    "    structured_llm = llm.with_structured_output(Domain, method=\"json_mode\")\n",
    "    try:\n",
    "        result = await structured_llm.ainvoke(prompt)\n",
    "        print_result(result.domain, \"Lĩnh vực chuyên môn được xác định\")\n",
    "        return {\"domain\": result.domain}\n",
    "    except Exception as e:\n",
    "        print_warning(f\"Lỗi tại Domain Classifier: {e}. Sử dụng lĩnh vực mặc định 'Toán học'.\")\n",
    "        return {\"domain\": \"Toán học\"}\n",
    "\n",
    "# === NÂNG CẤP: Agent này giờ đây là một nhà tư vấn chiến lược ===\n",
    "# === SỬA LỖI PARSING: Prompt được làm rõ ràng hơn về cấu trúc lồng nhau ===\n",
    "async def differentiated_instruction_advisor_agent(state: \"TeacherStateV5\") -> Dict[str, Any]:\n",
    "    print_step(\"`Agent: Differentiated Instruction Advisor` (v9.1) đang phân tích và đề xuất chiến lược phân hóa...\")\n",
    "    prompt = f\"\"\"{SYSTEM_PERSONA_PROMPT}\n",
    "    **VAI TRÒ:** Bạn là một chuyên gia sư phạm, chuyên về dạy học phân hóa.\n",
    "    **NHIỆM VỤ:** Phân tích mô tả về lớp học dưới đây và đề xuất một chiến lược dạy học phân hóa TỔNG THỂ cho cả buổi học.\n",
    "    **YÊU CẦU CỦA GIÁO VIÊN:** \"{state['original_request']}\"\n",
    "    \n",
    "    **CÁC BƯỚC SUY LUẬN (BẮT BUỘC):**\n",
    "    1.  **Phân tích Đặc điểm:** Dựa vào các từ khóa, hãy xác định `learning_pace`, `engagement_style`, và tóm tắt vào `special_notes`.\n",
    "    2.  **Đề xuất Chiến lược Phân hóa:** Dựa trên phân tích trên, hãy điền vào đối tượng `differentiation_strategy`. Đây PHẢI là một đối tượng JSON có 2 trường sau:\n",
    "        -   `for_struggling_students`: Một chiến lược cụ thể để **hỗ trợ** nhóm học sinh có thể gặp khó khăn. (Ví dụ: \"Chia nhỏ nhiệm vụ, cung cấp phiếu bài tập có gợi ý công thức, cho phép thêm thời gian.\")\n",
    "        -   `for_advanced_students`: Một chiến lược cụ thể để **thử thách** nhóm học sinh khá giỏi. (Ví dụ: \"Chuẩn bị các câu hỏi mở rộng 'Tại sao?' và 'Nếu... thì sao?', giao một bài toán ứng dụng thực tế nhỏ.\")\n",
    "\n",
    "    **YÊU CẦU ĐỊNH DẠNG:** BẮT BUỘC trả về một đối tượng JSON duy nhất tuân thủ schema `StudentPersonaAndDifferentiation`. Trường `differentiation_strategy` PHẢI là một object lồng vào bên trong.\n",
    "    \"\"\"\n",
    "    structured_llm = llm.with_structured_output(StudentPersonaAndDifferentiation, method=\"json_mode\")\n",
    "    try:\n",
    "        result = await structured_llm.ainvoke(prompt)\n",
    "        print_result(result.dict(), \"Hồ sơ lớp học và Chiến lược Phân hóa\")\n",
    "        return {\"student_persona\": result.dict()}\n",
    "    except Exception as e:\n",
    "        print_warning(f\"Lỗi tại Differentiated Instruction Advisor: {e}. Sử dụng hồ sơ mặc định.\")\n",
    "        fallback_persona = {\n",
    "            \"learning_pace\": \"trung bình\",\n",
    "            \"engagement_style\": \"hỗn hợp\",\n",
    "            \"special_notes\": \"Không có ghi chú đặc biệt.\",\n",
    "            \"differentiation_strategy\": {\n",
    "                \"for_struggling_students\": \"Quan sát và hỗ trợ thêm khi cần thiết.\",\n",
    "                \"for_advanced_students\": \"Khuyến khích các em tìm tòi thêm.\"\n",
    "            }\n",
    "        }\n",
    "        return {\"student_persona\": fallback_persona}\n",
    "\n",
    "print(\"✅ Các agent phân tích yêu cầu ban đầu (v9.0 - Hỗ trợ Phân hóa) đã sẵn sàng.\")"
   ]
  },
  {
   "cell_type": "code",
   "execution_count": 102,
   "id": "68b5bcd8",
   "metadata": {},
   "outputs": [
    {
     "name": "stdout",
     "output_type": "stream",
     "text": [
      "✅ Các agent lập kế hoạch chiến lược đã sẵn sàng.\n"
     ]
    }
   ],
   "source": [
    "# ==============================================================================\n",
    "# CELL 3.3: AGENT LẬP KẾ HOẠCH CHIẾN LƯỢC (v7.5)\n",
    "# ==============================================================================\n",
    "async def pedagogy_strategist_agent(state: \"TeacherStateV5\") -> Dict[str, Any]:\n",
    "    print_step(\"`Agent: Pedagogy Strategist` (v7.5) đang xây dựng chiến lược sư phạm chi tiết...\")\n",
    "    prompt = f\"\"\"{SYSTEM_PERSONA_PROMPT}\n",
    "    **MỤC TIÊU BÀI HỌC:** {state.get('analyzed_objective')}\n",
    "    **HỒ SƠ LỚP HỌC:** {state.get('student_persona')}\n",
    "    **NHIỆM VỤ:** Dựa vào mục tiêu và hồ sơ lớp học, hãy chọn MỘT phương pháp sư phạm phù hợp nhất. Sau đó, phân tích phương pháp đó thành các hành động cốt lõi.\n",
    "    **VÍ DỤ:** Nếu chọn 'Dạy học theo dự án', key_actions có thể là [\"Giao dự án\", \"Học sinh làm việc nhóm\", \"Báo cáo sản phẩm\"].\n",
    "    **YÊU CẦU ĐỊNH DẠNG:** Trả về JSON với các key `name`, `rationale`, `key_actions`.\n",
    "    \"\"\"\n",
    "    structured_llm = llm.with_structured_output(DetailedPedagogyChoice, method=\"json_mode\")\n",
    "    try:\n",
    "        result = await structured_llm.ainvoke(prompt)\n",
    "        print_result(result.dict(), \"Chiến lược sư phạm chi tiết\")\n",
    "        return {\"pedagogy_strategy\": result.dict()}\n",
    "    except Exception as e:\n",
    "        print_warning(f\"Lỗi tại Pedagogy Strategist: {e}. Sử dụng chiến lược mặc định.\")\n",
    "        return {\"pedagogy_strategy\": {\"name\": \"Dạy học giải quyết vấn đề\", \"rationale\": \"Mặc định do lỗi.\", \"key_actions\": [\"Nêu vấn đề\", \"Học sinh tìm giải pháp\", \"Trình bày kết quả\"]}}\n",
    "\n",
    "async def pedagogical_architect_agent(state: \"TeacherStateV5\") -> Dict[str, Any]:\n",
    "    print_step(\"`Agent: Pedagogical Architect` (v9.4) đang thiết kế kịch bản buổi học...\")\n",
    "    \n",
    "    inspirational_example = state.get(\"inspirational_example\")\n",
    "    example_prompt_part = \"\"\n",
    "    if inspirational_example:\n",
    "        example_prompt_part = f\"\"\"\n",
    "        **VÍ DỤ THAM KHẢO (TỪ MỘT GIÁO ÁN THÀNH CÔNG TRƯỚC ĐÂY):**\n",
    "        Đây là một luồng hoạt động đã được chứng minh là hiệu quả cho một chủ đề tương tự. Hãy học hỏi cấu trúc và cách tiếp cận từ nó:\n",
    "        ```json\n",
    "        {json.dumps(inspirational_example, ensure_ascii=False, indent=2)}\n",
    "        ```\n",
    "        \"\"\"\n",
    "    \n",
    "    prompt = f\"\"\"{SYSTEM_PERSONA_PROMPT} Với vai trò là một chuyên gia thiết kế trải nghiệm học tập.\n",
    "    **NHIỆM VỤ:** Xây dựng một \"Bản thiết kế Sư phạm\" - một kịch bản CẤP CAO cho buổi học.\n",
    "    \n",
    "    {example_prompt_part}\n",
    "    **QUY TẮC:**\n",
    "    1.  Tạo ra 3-5 giai đoạn chính cho dòng chảy của buổi học.\n",
    "    2.  Mỗi giai đoạn phải có tên (`stage_name`), mục tiêu (`stage_objective`), và định hướng (`stage_direction`).\n",
    "    3.  Đảm bảo độ khó tăng tiến qua các giai đoạn.\n",
    "    **THÔNG TIN PHÂN TÍCH:**\n",
    "    - Mục tiêu: {state.get('analyzed_objective')}\n",
    "    - Hồ sơ lớp học: {state.get('student_persona')}\n",
    "    - Chiến lược Sư phạm: {state.get('pedagogy_strategy')}\n",
    "    **YÊU CẦU ĐỊNH DẠNG:** Trả về JSON với key là `blueprint`, giá trị là một danh sách các đối tượng Stage.\n",
    "    \"\"\"\n",
    "    structured_llm = llm.with_structured_output(PedagogicalBlueprint, method=\"json_mode\")\n",
    "    try:\n",
    "        result = await structured_llm.ainvoke(prompt)\n",
    "        blueprint_list_of_strings = [f\"{stage.stage_name}: {stage.stage_direction}\" for stage in result.blueprint]\n",
    "        print_result(blueprint_list_of_strings, \"Bản thiết kế Sư phạm đã được tạo\")\n",
    "        return {\"pedagogical_blueprint\": blueprint_list_of_strings}\n",
    "    except Exception as e:\n",
    "        print_warning(f\"Lỗi tại Pedagogical Architect: {e}. Sử dụng blueprint mặc định.\")\n",
    "        return {\"pedagogical_blueprint\": [\"Giai đoạn 1: Giới thiệu bài học\", \"Giai đoạn 2: Luyện tập\", \"Giai đoạn 3: Đánh giá\"]}\n",
    "\n",
    "async def memory_retrieval_agent(state: \"TeacherStateV5\") -> Dict[str, Any]:\n",
    "    print_step(\"`Agent: Memory Retrieval` (v9.4) đang tìm kiếm trong trí nhớ...\")\n",
    "    \n",
    "    if not memory_vector_store:\n",
    "        print_warning(\"Không có Trí nhớ Dài hạn. Bỏ qua bước này.\")\n",
    "        return {\"inspirational_example\": None}\n",
    "\n",
    "    user_request = state[\"original_request\"]\n",
    "    \n",
    "    # Tìm kiếm 1 ví dụ tương đồng nhất trong trí nhớ\n",
    "    try:\n",
    "        results = memory_vector_store.similarity_search_with_score(user_request, k=1)\n",
    "        if results and results[0][1] < 0.5: # Chỉ lấy nếu độ tương đồng cao (điểm score thấp là tốt)\n",
    "            best_example = results[0][0].metadata\n",
    "            print_result(best_example['request'], \"Tìm thấy ví dụ tương đồng trong trí nhớ\")\n",
    "            # Chỉ trả về phần \"lesson_flow\" để làm ví dụ\n",
    "            return {\"inspirational_example\": best_example['plan']['lesson_flow']}\n",
    "        else:\n",
    "            print_step(\"Không tìm thấy ví dụ nào đủ tương đồng trong trí nhớ.\")\n",
    "            return {\"inspirational_example\": None}\n",
    "    except Exception as e:\n",
    "        print_warning(f\"Lỗi khi truy xuất trí nhớ: {e}\")\n",
    "        return {\"inspirational_example\": None}\n",
    "    \n",
    "print(\"✅ Các agent lập kế hoạch chiến lược đã sẵn sàng.\")"
   ]
  },
  {
   "cell_type": "code",
   "execution_count": 103,
   "id": "220113cd",
   "metadata": {},
   "outputs": [
    {
     "name": "stdout",
     "output_type": "stream",
     "text": [
      "✅ Các agent RAG đã sẵn sàng.\n"
     ]
    }
   ],
   "source": [
    "# ==============================================================================\n",
    "# CELL 3.4: AGENT TRUY XUẤT VÀ TỔNG HỢP KIẾN THỨC (RAG) (v7.5)\n",
    "# ==============================================================================\n",
    "async def query_expansion_agent(state: \"TeacherStateV5\") -> Dict[str, Any]:\n",
    "    print_step(\"`Agent: Query Expansion` (v7.5) đang phân tích yêu cầu...\")\n",
    "    prompt = f\"{SYSTEM_PERSONA_PROMPT}\\n**NHIỆM VỤ:** Tạo ra các cụm từ tìm kiếm đa dạng bằng tiếng Việt để tìm tài liệu.\\n**CHỦ ĐỀ:** \\\"{state.get('analyzed_objective', {}).get('topic', '')}\\\"\\n**LĨNH VỰC:** {state.get('domain', 'Chung')}\\n**YÊU CẦU ĐỊNH DẠNG:** Trả về JSON với key `queries`.\"\n",
    "    structured_llm = llm.with_structured_output(ExpandedQueries, method=\"json_mode\")\n",
    "    try:\n",
    "        response = await structured_llm.ainvoke(prompt)\n",
    "        print_result(response.queries, \"Các truy vấn tìm kiếm đã được mở rộng\")\n",
    "        return {\"expanded_queries\": response.queries}\n",
    "    except Exception as e:\n",
    "        print_warning(f\"Lỗi tại Query Expansion: {e}. Sử dụng truy vấn gốc.\")\n",
    "        return {\"expanded_queries\": [state.get('analyzed_objective', {}).get('topic', '')]}\n",
    "\n",
    "async def resource_scout_agent_v2(state: \"TeacherStateV5\") -> Dict[str, Any]:\n",
    "    print_step(\"`Agent: Resource Scout` (v8.1 - Sửa lỗi) đang tìm kiếm và sàng lọc...\")\n",
    "    retriever = vector_store.as_retriever(search_kwargs={\"k\": 5})\n",
    "    all_docs = []\n",
    "    queries = state.get('expanded_queries', [state.get('analyzed_objective', {}).get('topic', '')])\n",
    "    for query in queries:\n",
    "        all_docs.extend(retriever.invoke(query))\n",
    "    unique_docs_content = list({doc.page_content for doc in all_docs})[:8]\n",
    "    print_step(f\"Tìm thấy {len(all_docs)} tài liệu, sàng lọc còn {len(unique_docs_content)} đoạn văn bản độc nhất.\")\n",
    "    \n",
    "    # --- Phần Re-ranker giữ nguyên ---\n",
    "    rerank_prompt = f\"{SYSTEM_PERSONA_PROMPT}\\n**NHIỆM VỤ:** Đọc yêu cầu gốc và chọn ra 3-4 đoạn văn bản tiếng Việt phù hợp NHẤT từ danh sách dưới đây.\\n**YÊU CẦU GỐC:** \\\"{state.get('original_request', '')}\\\"\\n**DANH SÁCH TÀI LIỆU:** {json.dumps(unique_docs_content, ensure_ascii=False)}\\n**YÊU CẦU ĐỊNH DẠNG:** Trả về JSON với key `best_snippets`.\"\n",
    "    structured_llm_reranker = llm.with_structured_output(BestSnippets, method=\"json_mode\")\n",
    "    best_snippets_text = \"\\n\\n---\\n\\n\".join(unique_docs_content)\n",
    "    try:\n",
    "        reranked_result = await structured_llm_reranker.ainvoke(rerank_prompt)\n",
    "        best_snippets_text = \"\\n\\n---\\n\\n\".join(reranked_result.best_snippets)\n",
    "    except Exception as e:\n",
    "        print_warning(f\"Lỗi tại Re-ranker: {e}. Sử dụng tất cả tài liệu.\")\n",
    "\n",
    "    # === ĐẠI TU PROMPT TÓM TẮT ===\n",
    "    summary_prompt = f\"\"\"{SYSTEM_PERSONA_PROMPT}\n",
    "    **VAI TRÒ:** Bạn là một chuyên gia tổng hợp thông tin.\n",
    "    **NHIỆM VỤ DUY NHẤT:** Dựa **CHỈ** vào các đoạn văn bản dưới đây, hãy viết một bản **TÓM TẮT KIẾN THỨC CỐT LÕI** về chủ đề \"{state.get('analyzed_objective', {}).get('topic', '')}\".\n",
    "\n",
    "    **QUY TẮC TUYỆT ĐỐI:**\n",
    "    1.  **CHỈ DÙNG THÔNG TIN ĐƯỢC CUNG CẤP:** Tuyệt đối không được bình luận về chất lượng của các đoạn văn bản. Không được \"từ chối\" tóm tắt.\n",
    "    2.  **TỔNG HỢP & SUY LUẬN:** Nhiệm vụ của bạn là đọc tất cả các mẩu thông tin (kể cả từ các bài tập) và suy luận ra các định nghĩa, tính chất cốt lõi nhất.\n",
    "    3.  **CẤU TRÚC RÕ RÀNG:** Trình bày bản tóm tắt một cách mạch lạc, có đầu mục rõ ràng (ví dụ: 1. Định nghĩa, 2. Tính chất...).\n",
    "    4.  **TRẢ VỀ TÓM TẮT:** Luôn luôn trả về một bản tóm tắt, ngay cả khi nó ngắn gọn do thông tin hạn chế.\n",
    "\n",
    "    **CÁC ĐOẠN VĂN BẢN ĐỂ TÓM TẮT:**\n",
    "    {best_snippets_text}\n",
    "    \"\"\"\n",
    "    summary = \"Chưa có bản tóm tắt kiến thức.\"\n",
    "    try:\n",
    "        summary_response = await llm.ainvoke(summary_prompt)\n",
    "        summary = summary_response.content\n",
    "    except Exception as e:\n",
    "        print_warning(f\"Lỗi tại bước tóm tắt: {e}.\")\n",
    "        \n",
    "    resource = {\"source\": \"Sách giáo khoa (từ RAG - đã sàng lọc)\", \"summary\": summary}\n",
    "    print_result(resource, \"Tài liệu RAG cuối cùng\")\n",
    "    return update_agent_outputs(state, \"resources\", resource)\n",
    "\n",
    "print(\"✅ Các agent RAG đã sẵn sàng.\")"
   ]
  },
  {
   "cell_type": "code",
   "execution_count": 104,
   "id": "6eac918a",
   "metadata": {},
   "outputs": [
    {
     "name": "stdout",
     "output_type": "stream",
     "text": [
      "✅ Agent phản biện nội dung 'content_validator_agent' (v9.2 - Hỗ trợ Leo thang) đã được định nghĩa.\n",
      "✅ Các agent giao việc và chuyên môn (v9.4 - Hỗ trợ Phân hóa và Lập kế hoạch lại) đã sẵn sàng.\n"
     ]
    }
   ],
   "source": [
    "# ==============================================================================\n",
    "# CELL 3.5: AGENT GIAO VIỆC VÀ CÁC AGENT CHUYÊN MÔN (NÂNG CẤP V9.0)\n",
    "# ==============================================================================\n",
    "async def plan_delegator_agent(state: \"TeacherStateV5\") -> Dict[str, Any]:\n",
    "    print_step(\"`Agent: Plan Delegator` (v9.4) đang triển khai hoặc điều chỉnh Bản thiết kế...\")\n",
    "    \n",
    "    blueprint = state.get('pedagogical_blueprint', [])\n",
    "    topic = state.get('analyzed_objective', {}).get('topic', 'chủ đề đã cho')\n",
    "    reflection_notes = state.get('reflection_notes') # Lấy phản hồi từ lần trước (nếu có)\n",
    "\n",
    "    # Xây dựng prompt động\n",
    "    replan_prompt_part = \"\"\n",
    "    if reflection_notes:\n",
    "        print_warning(f\"Nhận được yêu cầu làm lại kế hoạch từ Critic: {reflection_notes}\")\n",
    "        replan_prompt_part = f\"\"\"\n",
    "        **PHẢN HỒI QUAN TRỌNG TỪ LẦN LẬP KẾ HOẠCH TRƯỚC (CẦN KHẮC PHỤC):**\n",
    "        \"{reflection_notes}\"\n",
    "        Dựa trên phản hồi này, hãy điều chỉnh lại danh sách nhiệm vụ của bạn. Có thể bạn cần tạo nhiều hoạt động hơn, hoặc phân bổ lại thời gian một cách hợp lý hơn.\n",
    "        \"\"\"\n",
    "\n",
    "    prompt = f\"\"\"{SYSTEM_PERSONA_PROMPT}\n",
    "    **VAI TRÒ:** Bạn là một **Trợ lý Sư phạm**, chuyên viên thực thi kế hoạch.\n",
    "    **NHIỆM VỤ:** Dựa vào **Bản thiết kế Sư phạm**, hãy **chuyển đổi** nó thành một danh sách các **NHIỆM VỤ HỌC TẬP CỤ THỂ** về chủ đề \"{topic}\".\n",
    "\n",
    "    {replan_prompt_part}\n",
    "\n",
    "    **BẢN THIẾT KẾ SƯ PHẠM (KỊCH BẢN CẦN TUÂN THỦ):**\n",
    "    {json.dumps(blueprint, ensure_ascii=False, indent=2)}\n",
    "\n",
    "    **QUY TẮC TUYỆT ĐỐI:**\n",
    "    1.  **BÁM SÁT KỊCH BẢN:** Mỗi giai đoạn trong bản thiết kế PHẢI được chuyển đổi thành ít nhất MỘT nhiệm vụ học tập tương ứng.\n",
    "    2.  **TẬP TRUNG NỘI DUNG:** Các nhiệm vụ phải xoay quanh chủ đề chính.\n",
    "    3.  **HÀNH ĐỘNG CỤ THỂ:** Mô tả hành động học sinh sẽ làm. CẤM các từ ngữ chung chung.\n",
    "    4.  **PHÂN BỔ THỜI GIAN:** Chia tổng thời lượng {state.get('analyzed_objective', {}).get('constraints', {}).get('duration_minutes', 90)} phút một cách hợp lý.\n",
    "    5.  **TỐI ƯU HÓA:** Gộp các nhiệm vụ có mục tiêu quá giống nhau.\n",
    "    \n",
    "    **YÊU CẦU ĐỊNH DẠNG:** BẮT BUỘC trả về JSON tuân thủ schema `TaskListWithDuration`.\n",
    "    \"\"\"\n",
    "    \n",
    "    structured_llm = llm.with_structured_output(TaskListWithDuration, method=\"json_mode\")\n",
    "    \n",
    "    try:\n",
    "        # Xóa các agent_outputs cũ (trừ RAG) để bắt đầu vòng lặp mới\n",
    "        # Điều này rất quan trọng để tránh các hoạt động cũ bị lẫn vào vòng mới\n",
    "        agent_outputs_history = state.get(\"agent_outputs\", {})\n",
    "        new_agent_outputs = {\"resources\": agent_outputs_history.get(\"resources\", [])}\n",
    "        \n",
    "        task_list_result = await structured_llm.ainvoke(prompt)\n",
    "        tasks_with_status = [{\"task_id\": i, **t.dict(), \"status\": \"pending\"} for i, t in enumerate(task_list_result.tasks) if t]\n",
    "        \n",
    "        print_result(tasks_with_status, f\"Đã tạo {len(tasks_with_status)} nhiệm vụ chi tiết (lần chạy lại)\")\n",
    "        \n",
    "        # Xóa reflection_notes cũ sau khi đã sử dụng\n",
    "        return {\"task_list\": tasks_with_status, \"reflection_notes\": None, \"agent_outputs\": new_agent_outputs}\n",
    "    \n",
    "    except Exception as e:\n",
    "        # ... (fallback giữ nguyên)\n",
    "        print_warning(f\"Lỗi tại Plan Delegator: {e}. Tạo task mặc định.\")\n",
    "        topic_fallback = state.get('analyzed_objective', {}).get('topic', state.get('original_request', 'chủ đề đã cho'))\n",
    "        fallback_task = {\n",
    "            \"task_id\": 0, \"task_name\": f\"Hoạt động luyện tập về {topic_fallback}\",\n",
    "            \"task_description\": f\"Học sinh thực hành các bài tập cơ bản liên quan đến chủ đề: {topic_fallback}.\",\n",
    "            \"estimated_duration\": 45, \"status\": \"pending\"\n",
    "        }\n",
    "        return {\"task_list\": [fallback_task], \"reflection_notes\": None, \"agent_outputs\": state.get(\"agent_outputs\", {})}\n",
    "\n",
    "async def content_validator_agent(state: \"TeacherStateV5\") -> Dict[str, Any]:\n",
    "    print_step(f\"`Agent: Contextual Critic` (v9.2) đang phản biện nội dung...\")\n",
    "    content = state.get('current_content_to_validate')\n",
    "    task_list = state.get('task_list', [])\n",
    "    current_task = next((t for t in task_list if t['task_id'] == state.get('current_task_id')), None)\n",
    "    \n",
    "    if not content or content.get(\"error\"):\n",
    "        print_warning(\"Bỏ qua phản biện do lỗi ở bước tạo nội dung.\")\n",
    "        return {\"validation_feedback\": \"Lỗi tạo nội dung, không thể phản biện.\", \"current_content_to_validate\": content}\n",
    "    \n",
    "    prompt = f\"\"\"{SYSTEM_PERSONA_PROMPT}\n",
    "    **VAI TRÒ:** Bạn là một chuyên gia thẩm định giáo án cực kỳ kinh nghiệm và cẩn thận.\n",
    "    **NHIỆM VỤ:** Hãy xem xét nội dung được tạo ra cho một hoạt động và đối chiếu nó với yêu cầu ban đầu.\n",
    "    **YÊU CẦU GỐC CỦA NHIỆM VỤ:**\n",
    "    - Tên nhiệm vụ: \"{current_task.get('task_name', 'N/A')}\"\n",
    "    - Mô tả: \"{current_task.get('task_description', 'N/A')}\"\n",
    "    - Thời lượng dự kiến: \"{current_task.get('estimated_duration', 'N/A')} phút\"\n",
    "\n",
    "    **NỘI DUNG ĐƯỢC TẠO RA CẦN XEM XÉT:**\n",
    "    ```json\n",
    "    {json.dumps(content, ensure_ascii=False, indent=2)}\n",
    "    ```\n",
    "\n",
    "    **TIÊU CHÍ PHẢN BIỆN (THEO THỨ TỰ ƯU TIÊN):**\n",
    "    1.  **Lỗi Cấu trúc hoặc Thời gian (Rất quan trọng):** Nội dung được tạo có mâu thuẫn với yêu cầu gốc không? Đặc biệt, thời lượng `duration_minutes` có hợp lý với các bước được mô tả trong `description` không? Nếu có mâu thuẫn lớn (ví dụ: mô tả một hoạt động 20 phút nhưng `duration_minutes` chỉ là 5), đây là LỖI CẤU TRÚC.\n",
    "    2.  **Tính chính xác chuyên môn:** Nội dung có sai sót về kiến thức không?\n",
    "    3.  **Tính phù hợp sư phạm:** Nội dung có phù hợp với lứa tuổi và đặc điểm lớp học không?\n",
    "\n",
    "    **YÊU CẦU ĐỊNH DẠNG:**\n",
    "    - Nếu nội dung hợp lệ, trả về JSON với `is_valid: true` và `feedback` là \"Nội dung hợp lệ.\".\n",
    "    - Nếu có lỗi về chuyên môn hoặc sư phạm (lỗi có thể sửa bằng cách viết lại nội dung), trả về `is_valid: false` và `feedback` mô tả lỗi đó.\n",
    "    - **NẾU CÓ LỖI CẤU TRÚC HOẶC THỜI GIAN**, trả về `is_valid: false` và bắt đầu `feedback` bằng từ khóa **`[STRUCTURAL_FEEDBACK]`**. Ví dụ: `[STRUCTURAL_FEEDBACK] Thời lượng 5 phút là bất khả thi cho hoạt động được mô tả, cần ít nhất 15 phút.`\n",
    "    \"\"\"\n",
    "    structured_llm = llm.with_structured_output(ValidationResult, method=\"json_mode\")\n",
    "    try:\n",
    "        result = await structured_llm.ainvoke(prompt)\n",
    "        if not result.is_valid:\n",
    "            print_warning(f\"PHẢN BIỆN: {result.feedback}\")\n",
    "            return {\"validation_feedback\": result.feedback, \"current_content_to_validate\": content}\n",
    "        else:\n",
    "            print_step(\"✔️ CHUYÊN GIA PHẢN BIỆN: Nội dung hợp lệ!\")\n",
    "            return {\"validation_feedback\": None, \"current_content_to_validate\": content}\n",
    "    except Exception as e:\n",
    "        print_warning(f\"Lỗi tại Content Validator: {e}. Mặc định cho qua.\")\n",
    "        return {\"validation_feedback\": None, \"current_content_to_validate\": content}\n",
    "\n",
    "print(\"✅ Agent phản biện nội dung 'content_validator_agent' (v9.2 - Hỗ trợ Leo thang) đã được định nghĩa.\")\n",
    "\n",
    "\n",
    "# === NÂNG CẤP: Logic của agent chuyên môn giờ đây phải suy nghĩ về phân hóa ===\n",
    "async def specialist_agent_logic(state: \"TeacherStateV5\", agent_type: str, pydantic_model: type[BaseModel]) -> Dict[str, Any]:\n",
    "    print_step(f\"`Agent: {agent_type}` (v9.0) đang tạo nội dung chi tiết và gợi ý phân hóa...\")\n",
    "    task_to_run = next((t for t in state.get('task_list', []) if t['task_id'] == state.get('current_task_id')), None)\n",
    "    if not task_to_run: return {\"current_content_to_validate\": {\"error\": \"Không tìm thấy task hiện tại.\"}, \"validation_feedback\": None}\n",
    "\n",
    "    feedback_prompt = f\"**PHẢN HỒI TỪ LẦN TRƯỚC (CẦN SỬA):** \\\"{state.get('validation_feedback', '')}\\\".\" if state.get('validation_feedback') else \"\"\n",
    "    \n",
    "    # Lấy chiến lược phân hóa tổng thể từ state\n",
    "    differentiation_strategy = state.get('student_persona', {}).get('differentiation_strategy', {})\n",
    "\n",
    "    prompt = f\"\"\"{SYSTEM_PERSONA_PROMPT}\n",
    "    **VAI TRÒ:** Bạn là một nhà thiết kế hoạt động học tập sáng tạo và chu đáo.\n",
    "    **NHIỆM VỤ:** Tạo ra **MỘT HOẠT ĐỘNG DUY NHẤT**, có tính đến sự đa dạng của học sinh trong lớp.\n",
    "\n",
    "    **BỐI CẢNH BÀI HỌC:**\n",
    "    - **Chủ đề chính:** {state.get('analyzed_objective', {}).get('topic', '')}\n",
    "    - **Chiến lược phân hóa chung của bài:** {json.dumps(differentiation_strategy, ensure_ascii=False)}\n",
    "    \n",
    "    **MÔ TẢ NHIỆM VỤ CẦN THỰC THI:**\n",
    "    - **Tên nhiệm vụ:** \"{task_to_run.get('task_name', '')}\"\n",
    "    - **Mô tả chi tiết:** \"{task_to_run.get('task_description', '')}\"\n",
    "    \n",
    "    {feedback_prompt}\n",
    "    \n",
    "    **QUY TẮC TUYỆT ĐỐI:**\n",
    "    1.  **TẠO NỘI DUNG CỤ THỂ:** Đưa ra câu hỏi, đề bài toán, các bước thực hành rõ ràng.\n",
    "    2.  **MÔ TẢ HÀNH ĐỘNG CỦA GIÁO VIÊN:** Liệt kê các hành động cụ thể.\n",
    "    3.  **SUY NGHĨ VỀ PHÂN HÓA (RẤT QUAN TRỌNG):** Dựa vào \"Chiến lược phân hóa chung\", hãy tạo ra các gợi ý phân hóa (`differentiation`) **cụ thể cho hoạt động này**. Ví dụ: Nếu chiến lược chung là \"cung cấp gợi ý\", thì gợi ý cụ thể ở đây là gì?\n",
    "    4.  **TUÂN THỦ SCHEMA:** Chỉ trả về một đối tượng JSON duy nhất theo đúng cấu trúc.\n",
    "    ```json\n",
    "    {schema_json_of(pydantic_model, indent=2)}\n",
    "    ```\n",
    "    \"\"\"\n",
    "    structured_llm = llm.with_structured_output(pydantic_model, method=\"json_mode\")\n",
    "    try:\n",
    "        result = await structured_llm.ainvoke(prompt)\n",
    "        content_dict = result.dict()\n",
    "        content_dict['duration_minutes'] = task_to_run.get('estimated_duration', 10)\n",
    "        print_result(content_dict, f\"Nội dung do {agent_type} tạo ra (có phân hóa)\")\n",
    "        return {\"current_content_to_validate\": content_dict, \"validation_feedback\": None}\n",
    "    except Exception as e:\n",
    "        print_warning(f\"Lỗi tại {agent_type}: {e}. Trả về nội dung mặc định.\")\n",
    "        return {\"current_content_to_validate\": {\"error\": str(e)}, \"validation_feedback\": None}\n",
    "\n",
    "\n",
    "async def theory_synthesizer_agent(state: \"TeacherStateV5\"): return await specialist_agent_logic(state, \"Theory Synthesizer\", LearningActivity)\n",
    "async def activity_designer_agent(state: \"TeacherStateV5\"): return await specialist_agent_logic(state, \"Activity Designer\", LearningActivity)\n",
    "async def assessment_creator_agent(state: \"TeacherStateV5\"): return await specialist_agent_logic(state, \"Assessment Creator\", AssessmentItem)\n",
    "\n",
    "print(\"✅ Các agent giao việc và chuyên môn (v9.4 - Hỗ trợ Phân hóa và Lập kế hoạch lại) đã sẵn sàng.\")"
   ]
  },
  {
   "cell_type": "code",
   "execution_count": 105,
   "id": "f509f0a6",
   "metadata": {},
   "outputs": [
    {
     "name": "stdout",
     "output_type": "stream",
     "text": [
      "✅ Agent tổng hợp cấu trúc & Node trình bày Markdown (v9.0) đã sẵn sàng.\n"
     ]
    }
   ],
   "source": [
    "# ==============================================================================\n",
    "# CELL 3.6: AGENT TỔNG HỢP CÓ CẤU TRÚC & NODE TRÌNH BÀY (NÂNG CẤP V9.0)\n",
    "# ==============================================================================\n",
    "# Nâng cấp 1: Agent này giờ chỉ tạo đối tượng JSON có cấu trúc\n",
    "async def structured_plan_compiler_agent(state: \"TeacherStateV5\") -> Dict[str, Any]:\n",
    "    print_step(\"`Agent: Structured Plan Compiler` (v9.0) đang tổng hợp giáo án có cấu trúc...\")\n",
    "    outputs = state.get('agent_outputs', {})\n",
    "    objective = state.get('analyzed_objective', {})\n",
    "    \n",
    "    # Kiểm tra điều kiện hợp lệ (giữ nguyên)\n",
    "    activities = outputs.get('activities', [])\n",
    "    assessments = outputs.get('assessments', [])\n",
    "    all_content_items = activities + assessments\n",
    "    total_duration = sum(item.get('duration_minutes', 0) for item in all_content_items)\n",
    "    allowed_duration = objective.get('constraints', {}).get('duration_minutes', 90)\n",
    "    if not all_content_items or not ((allowed_duration * 0.85) <= total_duration <= (allowed_duration + 10)):\n",
    "        reflection = f\"Kế hoạch thất bại. Tổng thời gian ({total_duration} phút) không hợp lệ hoặc số lượng hoạt động quá ít. Lập kế hoạch lại.\"\n",
    "        print_warning(f\"CRITIC: {reflection}\")\n",
    "        return {\"reflection_notes\": reflection}\n",
    "\n",
    "    print_step(\"CRITIC: Kế hoạch hợp lệ! Bắt đầu tổng hợp giáo án dạng JSON...\")\n",
    "    \n",
    "    # Tổ chức dữ liệu từ state\n",
    "    persona = state.get('student_persona', {})\n",
    "    strategy = state.get('pedagogy_strategy', {})\n",
    "    resources = state.get('agent_outputs', {}).get('resources', [{}])[0]\n",
    "\n",
    "    general_info = {\n",
    "        \"chủ đề\": objective.get('topic', 'N/A'),\n",
    "        \"môn học\": state.get('domain', 'N/A'),\n",
    "        \"lớp\": objective.get('grade_level', 'N/A'),\n",
    "        \"thời lượng\": f\"{allowed_duration} phút\",\n",
    "        \"phương pháp chủ đạo\": strategy.get('name', 'Chưa xác định'),\n",
    "        \"đặc điểm lớp học\": persona.get('special_notes', 'Tiêu chuẩn'),\n",
    "    }\n",
    "\n",
    "    learning_objectives = [\n",
    "        f\"Học sinh có thể {objective.get('action_verb', 'vận dụng')} kiến thức về {objective.get('topic', 'N/A')}.\",\n",
    "        \"Rèn luyện kỹ năng tư duy logic và giải quyết vấn đề.\",\n",
    "        \"Phát triển kỹ năng hợp tác và trình bày.\"\n",
    "    ]\n",
    "\n",
    "    preparation = {\n",
    "        \"giáo viên\": [\"Bảng phụ\", \"máy chiếu\", \"phiếu học tập (nếu có trong hoạt động)\"],\n",
    "        \"học sinh\": [\"Sách giáo khoa\", \"vở ghi\", \"dụng cụ học tập\"]\n",
    "    }\n",
    "    \n",
    "    # Sắp xếp các hoạt động\n",
    "    all_content_sorted = sorted(all_content_items, key=lambda x: x.get('task_id', float('inf')))\n",
    "\n",
    "    # Xây dựng đối tượng JSON cuối cùng theo schema FinalStructuredPlan\n",
    "    final_plan_obj: FinalStructuredPlan = {\n",
    "        \"general_info\": general_info,\n",
    "        \"learning_objectives\": learning_objectives,\n",
    "        \"preparation\": preparation,\n",
    "        \"knowledge_summary\": resources.get('summary', 'Chưa có tóm tắt.'),\n",
    "        \"lesson_flow\": all_content_sorted,\n",
    "    }\n",
    "\n",
    "    return {\"final_structured_plan\": final_plan_obj, \"reflection_notes\": None}\n",
    "\n",
    "# Nâng cấp 2: Thêm Node mới chỉ để tạo Markdown từ JSON\n",
    "def markdown_presentation_node(state: \"TeacherStateV5\") -> Dict[str, str]:\n",
    "    print_step(\"`Node: Markdown Presenter` (v9.0) đang tạo bản trình bày Markdown...\")\n",
    "    \n",
    "    plan_json = state.get(\"final_structured_plan\")\n",
    "    if not isinstance(plan_json, dict):\n",
    "        return {\"final_markdown_plan\": \"Lỗi: Không tìm thấy giáo án có cấu trúc để tạo Markdown.\"}\n",
    "\n",
    "    # Dùng Python f-string để \"dịch\" JSON thành Markdown\n",
    "    md_parts = []\n",
    "    \n",
    "    # Phần I: Thông tin chung\n",
    "    info = plan_json['general_info']\n",
    "    md_parts.append(f\"# GIÁO ÁN BÀI DẠY: {info.get('chủ đề').upper()}\")\n",
    "    md_parts.append(\"---\")\n",
    "    md_parts.append(\"## I. THÔNG TIN CHUNG\")\n",
    "    for key, value in info.items():\n",
    "        md_parts.append(f\"- **{key.replace('_', ' ').title()}:** {value}\")\n",
    "    \n",
    "    md_parts.append(\"## II. MỤC TIÊU BÀI HỌC\")\n",
    "    for obj in plan_json['learning_objectives']:\n",
    "        md_parts.append(f\"- {obj}\")\n",
    "\n",
    "    md_parts.append(\"## III. CHUẨN BỊ\")\n",
    "    for key, items in plan_json['preparation'].items():\n",
    "        md_parts.append(f\"- **{key.title()}:** {', '.join(items)}\")\n",
    "\n",
    "\n",
    "    # === SỬA ĐỔI FORMAT Ở ĐÂY ===\n",
    "    md_parts.append(\"## IV. TIẾN TRÌNH BÀI DẠY\")\n",
    "    for i, activity in enumerate(plan_json['lesson_flow']):\n",
    "        md_parts.append(f\"### Hoạt động {i+1}: {activity.get('activity_name')} ({activity.get('duration_minutes')} phút)\")\n",
    "        \n",
    "        description_key = 'question' if 'question' in activity else 'description'\n",
    "        md_parts.append(f\"**Nhiệm vụ:**\\n{activity.get(description_key)}\")\n",
    "        \n",
    "        if activity.get('differentiation'):\n",
    "            diff = activity['differentiation']\n",
    "            # Sử dụng cú pháp blockquote (>) để thụt đầu dòng và làm nổi bật\n",
    "            md_parts.append(f\"> **Gợi ý Phân hóa:**\")\n",
    "            md_parts.append(f\"> - *Hỗ trợ (HS yếu):* {diff.get('for_struggling_students', 'Không có')}\")\n",
    "            md_parts.append(f\"> - *Thử thách (HS giỏi):* {diff.get('for_advanced_students', 'Không có')}\")\n",
    "        md_parts.append(\"\\n---\")\n",
    "        \n",
    "    md_parts.append(\"## V. TÓM TẮT KIẾN THỨC CỐT LÕI\")\n",
    "    md_parts.append(plan_json['knowledge_summary'])\n",
    "\n",
    "    final_md = \"\\n\".join(md_parts)\n",
    "    \n",
    "    return {\"final_markdown_plan\": final_md}\n",
    "\n",
    "print(\"✅ Agent tổng hợp cấu trúc & Node trình bày Markdown (v9.0) đã sẵn sàng.\")\n"
   ]
  },
  {
   "cell_type": "markdown",
   "id": "d9377da3",
   "metadata": {},
   "source": [
    "## PHẦN 4: XÂY DỰNG VÀ BIÊN DỊCH GRAPH"
   ]
  },
  {
   "cell_type": "code",
   "execution_count": 106,
   "id": "3f7820ed",
   "metadata": {},
   "outputs": [
    {
     "name": "stdout",
     "output_type": "stream",
     "text": [
      "✅ Các node tiện ích và điều phối của graph (v8.0) đã sẵn sàng.\n"
     ]
    }
   ],
   "source": [
    "# ==============================================================================\n",
    "# CELL 4.1: CÁC NODE TIỆN ÍCH VÀ ĐIỀU PHỐI CỦA GRAPH (v8.0)\n",
    "# ==============================================================================\n",
    "from typing import Literal, Dict, Any\n",
    "import time\n",
    "\n",
    "# === NÂNG CẤP #0: Thêm node delay để chống Rate Limit ===\n",
    "def delay_node(state: \"TeacherStateV5\") -> \"TeacherStateV5\":\n",
    "    \"\"\"Node này chỉ đơn giản là dừng lại một chút để tránh vượt giới hạn API.\"\"\"\n",
    "    delay_seconds = 2\n",
    "    print_step(f\"...Đang nghỉ {delay_seconds} giây để tránh vượt rate limit...\")\n",
    "    time.sleep(delay_seconds)\n",
    "    return state\n",
    "\n",
    "def mark_task_complete(state: \"TeacherStateV5\") -> Dict[str, Any]:\n",
    "    task_list = state.get(\"task_list\", [])\n",
    "    current_task_id = state.get(\"current_task_id\")\n",
    "    if not task_list or current_task_id is None: return {}\n",
    "    new_task_list = [t.copy() for t in task_list]\n",
    "    for task in new_task_list:\n",
    "        if task.get(\"task_id\") == current_task_id:\n",
    "            task[\"status\"] = \"completed\"\n",
    "            break\n",
    "    return {\"task_list\": new_task_list, \"current_task_id\": None}\n",
    "    \n",
    "def task_router_node(state: \"TeacherStateV5\") -> Dict[str, Any]:\n",
    "    print_step(\"`Router`: Đang kiểm tra nhiệm vụ...\")\n",
    "    task_list = state.get(\"task_list\", [])\n",
    "    next_task = next((task for task in task_list if task.get(\"status\") == \"pending\"), None)\n",
    "    if next_task:\n",
    "        print_step(f\"Nhiệm vụ tiếp theo: '{next_task['task_name']}' (ID: {next_task['task_id']})\")\n",
    "        return {\"current_task_id\": next_task['task_id']}\n",
    "    else:\n",
    "        print_step(\"Hết nhiệm vụ, chuyển sang node Compiler & Critic.\")\n",
    "        return {\"current_task_id\": None}\n",
    "\n",
    "async def task_dispatcher_agent(state: \"TeacherStateV5\") -> Dict[str, Any]:\n",
    "    print_step(\"`Agent: Task Dispatcher` (v7.1) Bắt đầu...\")\n",
    "    task_to_run = next((t for t in state['task_list'] if t['task_id'] == state['current_task_id']), None)\n",
    "    if not task_to_run:\n",
    "        print_warning(\"Dispatcher không tìm thấy task, sẽ bỏ qua bước này.\")\n",
    "        return {\"next_agent\": \"mark_task_complete\"}\n",
    "\n",
    "    task_description = task_to_run['task_description']\n",
    "    prompt = f\"{SYSTEM_PERSONA_PROMPT}\\n**Nhiệm vụ:** Phân loại nhiệm vụ sau vào MỘT trong ba agent sau: 'activity_designer', 'theory_synthesizer', 'assessment_creator'.\\n\\n**QUY TẮC PHÂN LOẠI:**\\n- Giảng giải, giới thiệu, ôn tập, tổng kết -> 'theory_synthesizer'.\\n- Luyện tập, thực hành, thảo luận, làm việc nhóm -> 'activity_designer'.\\n- Kiểm tra, đánh giá, bài toán khó, vận dụng cao -> 'assessment_creator'.\\n\\n**NHIỆM VỤ CẦN PHÂN LOẠI:** \\\"{task_description}\\\"\\n\\n**YÊU CẦU JSON:** Trả về JSON với key duy nhất là `agent_category`.\"\n",
    "    structured_llm = llm.with_structured_output(TaskClassification)\n",
    "    try:\n",
    "        classification_result = await structured_llm.ainvoke(prompt)\n",
    "        next_agent = classification_result.agent_category\n",
    "    except Exception as e:\n",
    "        print_warning(f\"Lỗi tại Dispatcher: {e}. Giao nhiệm vụ cho 'activity_designer'.\")\n",
    "        next_agent = \"activity_designer\"\n",
    "    print_step(f\"--- 🚚 `Dispatcher`: Giao nhiệm vụ cho `{next_agent}`.\")\n",
    "    return {\"next_agent\": next_agent}\n",
    "\n",
    "def commit_validated_content_node(state: \"TeacherStateV5\") -> Dict[str, Any]:\n",
    "    print_step(\"`Commiter`: Đang ghi nhận nội dung đã được xác thực...\")\n",
    "    agent_ran = state[\"next_agent\"]\n",
    "    content = state[\"current_content_to_validate\"]\n",
    "    \n",
    "    content['task_id'] = state['current_task_id']\n",
    "    \n",
    "    key_to_update = \"assessments\" if agent_ran == \"assessment_creator\" else \"activities\"\n",
    "    updated_outputs = update_agent_outputs(state, key_to_update, content)\n",
    "    updated_outputs[\"current_content_to_validate\"] = None\n",
    "    return updated_outputs\n",
    "\n",
    "def save_to_memory_node(state: \"TeacherStateV5\"):\n",
    "    print_step(\"Kiểm tra để lưu vào Trí nhớ Dài hạn...\")\n",
    "    if state.get(\"final_structured_plan\"):\n",
    "        save_to_memory(state[\"original_request\"], state[\"final_structured_plan\"])\n",
    "    return {} \n",
    "\n",
    "print(\"✅ Các node tiện ích và điều phối của graph (v8.0) đã sẵn sàng.\")"
   ]
  },
  {
   "cell_type": "code",
   "execution_count": 107,
   "id": "6b7306e7",
   "metadata": {},
   "outputs": [
    {
     "name": "stdout",
     "output_type": "stream",
     "text": [
      "✅ Các hàm logic điều hướng đã được định nghĩa.\n"
     ]
    }
   ],
   "source": [
    "# ==============================================================================\n",
    "# CELL 4.2: LOGIC ĐIỀU HƯỚNG CÓ ĐIỀU KIỆN\n",
    "# ==============================================================================\n",
    "def route_after_validation(state: \"TeacherStateV5\") -> Literal[\"commit\", \"retry\"]:\n",
    "    if state.get(\"validation_feedback\") is None:\n",
    "        print_step(\"ROUTER (Validation): Nội dung được chấp thuận. Chuyển sang bước ghi nhận.\")\n",
    "        return \"commit\"\n",
    "    else:\n",
    "        print_step(\"ROUTER (Validation): Nội dung bị từ chối. Quay lại để thử lại.\")\n",
    "        return \"retry\"\n",
    "\n",
    "def route_after_router(state: \"TeacherStateV5\") -> Literal[\"continue_executing\", \"compile_and_critique\"]:\n",
    "    if state.get(\"current_task_id\") is None: return \"compile_and_critique\"\n",
    "    else: return \"continue_executing\"\n",
    "\n",
    "def route_after_compilation(state: \"TeacherStateV5\") -> Literal[\"finish\", \"replan\"]:\n",
    "    if state.get(\"reflection_notes\"):\n",
    "        print_step(\"ROUTER (Compilation): Phát hiện phản hồi từ Critic lớn. Yêu cầu hệ thống lập kế hoạch lại.\")\n",
    "        return \"replan\"\n",
    "    else:\n",
    "        print_step(\"ROUTER (Compilation): Critic lớn đã hài lòng. Kết thúc quy trình.\")\n",
    "        return \"finish\"\n",
    "\n",
    "\n",
    "\n",
    "print(\"✅ Các hàm logic điều hướng đã được định nghĩa.\")"
   ]
  },
  {
   "cell_type": "code",
   "execution_count": 108,
   "id": "30df6071",
   "metadata": {},
   "outputs": [
    {
     "ename": "ValueError",
     "evalue": "Found edge starting at unknown node 'memory_retrieval'",
     "output_type": "error",
     "traceback": [
      "\u001b[31m---------------------------------------------------------------------------\u001b[39m",
      "\u001b[31mValueError\u001b[39m                                Traceback (most recent call last)",
      "\u001b[36mCell\u001b[39m\u001b[36m \u001b[39m\u001b[32mIn[108]\u001b[39m\u001b[32m, line 98\u001b[39m\n\u001b[32m     95\u001b[39m workflow.add_edge(\u001b[33m\"\u001b[39m\u001b[33msave_to_memory\u001b[39m\u001b[33m\"\u001b[39m, END)\n\u001b[32m     97\u001b[39m \u001b[38;5;66;03m# Biên dịch graph\u001b[39;00m\n\u001b[32m---> \u001b[39m\u001b[32m98\u001b[39m app = \u001b[43mworkflow\u001b[49m\u001b[43m.\u001b[49m\u001b[43mcompile\u001b[49m\u001b[43m(\u001b[49m\u001b[43m)\u001b[49m\n\u001b[32m     99\u001b[39m \u001b[38;5;28mprint\u001b[39m(\u001b[33m\"\u001b[39m\u001b[33m✅ Graph 9.5 (The Self-Correcting Co-Pilot - Concurrent Update Fixed) đã được biên dịch thành công.\u001b[39m\u001b[33m\"\u001b[39m)\n",
      "\u001b[36mFile \u001b[39m\u001b[32mc:\\Users\\Hi\\Documents\\IAI - UET\\AI-Lesson-Plan-Generator\\plan_venv\\Lib\\site-packages\\langgraph\\graph\\state.py:829\u001b[39m, in \u001b[36mStateGraph.compile\u001b[39m\u001b[34m(self, checkpointer, cache, store, interrupt_before, interrupt_after, debug, name)\u001b[39m\n\u001b[32m    826\u001b[39m interrupt_after = interrupt_after \u001b[38;5;129;01mor\u001b[39;00m []\n\u001b[32m    828\u001b[39m \u001b[38;5;66;03m# validate the graph\u001b[39;00m\n\u001b[32m--> \u001b[39m\u001b[32m829\u001b[39m \u001b[38;5;28;43mself\u001b[39;49m\u001b[43m.\u001b[49m\u001b[43mvalidate\u001b[49m\u001b[43m(\u001b[49m\n\u001b[32m    830\u001b[39m \u001b[43m    \u001b[49m\u001b[43minterrupt\u001b[49m\u001b[43m=\u001b[49m\u001b[43m(\u001b[49m\n\u001b[32m    831\u001b[39m \u001b[43m        \u001b[49m\u001b[43m(\u001b[49m\u001b[43minterrupt_before\u001b[49m\u001b[43m \u001b[49m\u001b[38;5;28;43;01mif\u001b[39;49;00m\u001b[43m \u001b[49m\u001b[43minterrupt_before\u001b[49m\u001b[43m \u001b[49m\u001b[43m!=\u001b[49m\u001b[43m \u001b[49m\u001b[33;43m\"\u001b[39;49m\u001b[33;43m*\u001b[39;49m\u001b[33;43m\"\u001b[39;49m\u001b[43m \u001b[49m\u001b[38;5;28;43;01melse\u001b[39;49;00m\u001b[43m \u001b[49m\u001b[43m[\u001b[49m\u001b[43m]\u001b[49m\u001b[43m)\u001b[49m\u001b[43m \u001b[49m\u001b[43m+\u001b[49m\u001b[43m \u001b[49m\u001b[43minterrupt_after\u001b[49m\n\u001b[32m    832\u001b[39m \u001b[43m        \u001b[49m\u001b[38;5;28;43;01mif\u001b[39;49;00m\u001b[43m \u001b[49m\u001b[43minterrupt_after\u001b[49m\u001b[43m \u001b[49m\u001b[43m!=\u001b[49m\u001b[43m \u001b[49m\u001b[33;43m\"\u001b[39;49m\u001b[33;43m*\u001b[39;49m\u001b[33;43m\"\u001b[39;49m\n\u001b[32m    833\u001b[39m \u001b[43m        \u001b[49m\u001b[38;5;28;43;01melse\u001b[39;49;00m\u001b[43m \u001b[49m\u001b[43m[\u001b[49m\u001b[43m]\u001b[49m\n\u001b[32m    834\u001b[39m \u001b[43m    \u001b[49m\u001b[43m)\u001b[49m\n\u001b[32m    835\u001b[39m \u001b[43m\u001b[49m\u001b[43m)\u001b[49m\n\u001b[32m    837\u001b[39m \u001b[38;5;66;03m# prepare output channels\u001b[39;00m\n\u001b[32m    838\u001b[39m output_channels = (\n\u001b[32m    839\u001b[39m     \u001b[33m\"\u001b[39m\u001b[33m__root__\u001b[39m\u001b[33m\"\u001b[39m\n\u001b[32m    840\u001b[39m     \u001b[38;5;28;01mif\u001b[39;00m \u001b[38;5;28mlen\u001b[39m(\u001b[38;5;28mself\u001b[39m.schemas[\u001b[38;5;28mself\u001b[39m.output_schema]) == \u001b[32m1\u001b[39m\n\u001b[32m   (...)\u001b[39m\u001b[32m    846\u001b[39m     ]\n\u001b[32m    847\u001b[39m )\n",
      "\u001b[36mFile \u001b[39m\u001b[32mc:\\Users\\Hi\\Documents\\IAI - UET\\AI-Lesson-Plan-Generator\\plan_venv\\Lib\\site-packages\\langgraph\\graph\\state.py:756\u001b[39m, in \u001b[36mStateGraph.validate\u001b[39m\u001b[34m(self, interrupt)\u001b[39m\n\u001b[32m    754\u001b[39m \u001b[38;5;28;01mfor\u001b[39;00m source \u001b[38;5;129;01min\u001b[39;00m all_sources:\n\u001b[32m    755\u001b[39m     \u001b[38;5;28;01mif\u001b[39;00m source \u001b[38;5;129;01mnot\u001b[39;00m \u001b[38;5;129;01min\u001b[39;00m \u001b[38;5;28mself\u001b[39m.nodes \u001b[38;5;129;01mand\u001b[39;00m source != START:\n\u001b[32m--> \u001b[39m\u001b[32m756\u001b[39m         \u001b[38;5;28;01mraise\u001b[39;00m \u001b[38;5;167;01mValueError\u001b[39;00m(\u001b[33mf\u001b[39m\u001b[33m\"\u001b[39m\u001b[33mFound edge starting at unknown node \u001b[39m\u001b[33m'\u001b[39m\u001b[38;5;132;01m{\u001b[39;00msource\u001b[38;5;132;01m}\u001b[39;00m\u001b[33m'\u001b[39m\u001b[33m\"\u001b[39m)\n\u001b[32m    758\u001b[39m \u001b[38;5;28;01mif\u001b[39;00m START \u001b[38;5;129;01mnot\u001b[39;00m \u001b[38;5;129;01min\u001b[39;00m all_sources:\n\u001b[32m    759\u001b[39m     \u001b[38;5;28;01mraise\u001b[39;00m \u001b[38;5;167;01mValueError\u001b[39;00m(\n\u001b[32m    760\u001b[39m         \u001b[33m\"\u001b[39m\u001b[33mGraph must have an entrypoint: add at least one edge from START to another node\u001b[39m\u001b[33m\"\u001b[39m\n\u001b[32m    761\u001b[39m     )\n",
      "\u001b[31mValueError\u001b[39m: Found edge starting at unknown node 'memory_retrieval'"
     ]
    }
   ],
   "source": [
    "# ==============================================================================\n",
    "# CELL 4.3: LẮP RÁP VÀ BIÊN DỊCH GRAPH (NÂNG CẤP V9.5 - SỬA LỖI CONCURRENT UPDATE)\n",
    "# ==============================================================================\n",
    "workflow = StateGraph(TeacherStateV5)\n",
    "\n",
    "# 1. Thêm các node vào graph (giữ nguyên)\n",
    "workflow.add_node(\"initializer\", initialize_state_node)\n",
    "workflow.add_node(\"objective_interpreter\", objective_interpreter_agent)\n",
    "workflow.add_node(\"domain_classifier\", domain_classifier_agent)\n",
    "workflow.add_node(\"differentiated_instruction_advisor\", differentiated_instruction_advisor_agent) \n",
    "workflow.add_node(\"pedagogy_strategist\", pedagogy_strategist_agent)\n",
    "workflow.add_node(\"pedagogical_architect\", pedagogical_architect_agent)\n",
    "workflow.add_node(\"query_expansion\", query_expansion_agent)\n",
    "workflow.add_node(\"resource_scout\", resource_scout_agent_v2)\n",
    "workflow.add_node(\"plan_delegator\", plan_delegator_agent)\n",
    "workflow.add_node(\"task_router\", task_router_node)\n",
    "workflow.add_node(\"task_dispatcher\", task_dispatcher_agent)\n",
    "workflow.add_node(\"theory_synthesizer\", theory_synthesizer_agent)\n",
    "workflow.add_node(\"activity_designer\", activity_designer_agent)\n",
    "workflow.add_node(\"assessment_creator\", assessment_creator_agent)\n",
    "workflow.add_node(\"content_validator\", content_validator_agent)\n",
    "workflow.add_node(\"commit_validated_content\", commit_validated_content_node)\n",
    "workflow.add_node(\"mark_task_complete\", mark_task_complete)\n",
    "workflow.add_node(\"structured_plan_compiler\", structured_plan_compiler_agent) \n",
    "workflow.add_node(\"markdown_presenter\", markdown_presentation_node)\n",
    "workflow.add_node(\"save_to_memory\", save_to_memory_node) # Giữ lại node này\n",
    "workflow.add_node(\"delay_node\", delay_node)\n",
    "\n",
    "\n",
    "# 2. Thiết lập các kết nối (edges)\n",
    "workflow.set_entry_point(\"initializer\")\n",
    "workflow.add_edge(\"initializer\", \"memory_retrieval\")\n",
    "workflow.add_edge(\"memory_retrieval\", \"objective_interpreter\")\n",
    "workflow.add_edge(\"objective_interpreter\", \"domain_classifier\")\n",
    "workflow.add_edge(\"domain_classifier\", \"differentiated_instruction_advisor\")\n",
    "workflow.add_edge(\"differentiated_instruction_advisor\", \"pedagogy_strategist\")\n",
    "workflow.add_edge(\"pedagogy_strategist\", \"pedagogical_architect\")\n",
    "workflow.add_edge(\"pedagogical_architect\", \"query_expansion\")\n",
    "workflow.add_edge(\"query_expansion\", \"resource_scout\")\n",
    "workflow.add_edge(\"resource_scout\", \"plan_delegator\")\n",
    "workflow.add_edge(\"plan_delegator\", \"task_router\")\n",
    "\n",
    "# --- LUỒNG THỰC THI NHIỆM VỤ ---\n",
    "# Router quyết định đi đâu\n",
    "workflow.add_conditional_edges(\n",
    "    \"task_router\", \n",
    "    route_after_router, \n",
    "    {\n",
    "        \"continue_executing\": \"task_dispatcher\", \n",
    "        \"compile_and_critique\": \"structured_plan_compiler\"\n",
    "    }\n",
    ")\n",
    "# Dispatcher quyết định giao cho ai\n",
    "workflow.add_conditional_edges(\"task_dispatcher\", lambda state: state[\"next_agent\"], {\n",
    "    \"activity_designer\": \"activity_designer\", \n",
    "    \"assessment_creator\": \"assessment_creator\", \n",
    "    \"theory_synthesizer\": \"theory_synthesizer\"\n",
    "})\n",
    "\n",
    "# Các specialist agent đều đi đến Validator\n",
    "workflow.add_edge(\"theory_synthesizer\", \"content_validator\")\n",
    "workflow.add_edge(\"activity_designer\", \"content_validator\")\n",
    "workflow.add_edge(\"assessment_creator\", \"content_validator\")\n",
    "\n",
    "# === SỬA LỖI Ở ĐÂY: Logic điều hướng sau khi Validate ===\n",
    "# Validator quyết định commit, thử lại, hay quy hoạch lại\n",
    "workflow.add_conditional_edges(\n",
    "    \"content_validator\", \n",
    "    route_after_validation, \n",
    "    {\n",
    "        \"commit\": \"commit_validated_content\", \n",
    "        \"retry_content\": \"task_dispatcher\", # Lỗi nội dung -> Quay lại Dispatcher để thử lại\n",
    "        \"replan_task\": \"plan_delegator\" # Lỗi cấu trúc -> Quay lại Delegator để quy hoạch lại\n",
    "    }\n",
    ")\n",
    "\n",
    "# Sau khi commit, đánh dấu hoàn thành và quay lại Router\n",
    "workflow.add_edge(\"commit_validated_content\", \"mark_task_complete\")\n",
    "workflow.add_edge(\"mark_task_complete\", \"delay_node\")\n",
    "workflow.add_edge(\"delay_node\", \"task_router\")\n",
    "\n",
    "\n",
    "# --- LUỒNG KẾT THÚC ---\n",
    "# Logic điều hướng sau khi biên dịch JSON\n",
    "workflow.add_conditional_edges(\n",
    "    \"structured_plan_compiler\", \n",
    "    route_after_structured_compilation,\n",
    "    {\n",
    "        \"replan\": \"plan_delegator\", \n",
    "        \"finish\": \"markdown_presenter\"\n",
    "    }\n",
    ")\n",
    "# Sau khi tạo markdown, lưu vào trí nhớ rồi kết thúc\n",
    "workflow.add_edge(\"markdown_presenter\", \"save_to_memory\")\n",
    "workflow.add_edge(\"save_to_memory\", END)\n",
    "\n",
    "# Biên dịch graph\n",
    "app = workflow.compile()\n",
    "print(\"✅ Graph 9.5 (The Self-Correcting Co-Pilot - Concurrent Update Fixed) đã được biên dịch thành công.\")"
   ]
  },
  {
   "cell_type": "code",
   "execution_count": null,
   "id": "ac549fea",
   "metadata": {},
   "outputs": [
    {
     "data": {
      "image/png": "[encoded data removed]",
      "text/plain": [
       "<IPython.core.display.Image object>"
      ]
     },
     "metadata": {},
     "output_type": "display_data"
    }
   ],
   "source": [
    "# ==============================================================================\n",
    "# CELL 4.4: HIỂN THỊ SƠ ĐỒ GRAPH (TÙY CHỌN)\n",
    "# ==============================================================================\n",
    "try:\n",
    "    # Lệnh này sẽ vẽ một sơ đồ của workflow, rất hữu ích để gỡ lỗi\n",
    "    display(Image(app.get_graph().draw_mermaid_png()))\n",
    "except Exception as e:\n",
    "    print(f\"Lỗi vẽ biểu đồ: {e}. Đây là lỗi không nghiêm trọng, bạn vẫn có thể chạy quy trình.\")"
   ]
  },
  {
   "cell_type": "markdown",
   "id": "a5e56adc",
   "metadata": {},
   "source": [
    "## PHẦN 5"
   ]
  },
  {
   "cell_type": "code",
   "execution_count": null,
   "id": "f27d8fdf",
   "metadata": {},
   "outputs": [
    {
     "name": "stdout",
     "output_type": "stream",
     "text": [
      "✅ Hàm `run_architect` đã sẵn sàng để sử dụng.\n"
     ]
    }
   ],
   "source": [
    "# ==============================================================================\n",
    "# CELL 5.1: ĐỊNH NGHĨA HÀM CHẠY QUY TRÌNH\n",
    "# ==============================================================================\n",
    "async def run_architect(user_request: str):\n",
    "    if 'llm' not in globals() or llm is None:\n",
    "        print_warning(\"LLM chưa được khởi tạo. Vui lòng chạy lại Cell 1.3.\")\n",
    "        return\n",
    "    if 'vector_store' not in globals() or vector_store is None:\n",
    "        print_warning(\"Kho tri thức chưa được tải. Vui lòng chạy lại Cell 1.4.\")\n",
    "        return\n",
    "    if 'app' not in globals():\n",
    "        print_warning(\"Graph 'app' chưa được biên dịch. Vui lòng chạy lại Cell 4.3.\")\n",
    "        return\n",
    "\n",
    "    initial_state = {\"messages\": [HumanMessage(content=user_request)]}\n",
    "    console.print(f\"\\n[bold magenta]🚀 BẮT ĐẦU QUY TRÌNH V7.1 (THE ARCHITECT) VỚI YÊU CẦU:[/bold magenta]\\n> {user_request}\")\n",
    "    config = {\"recursion_limit\": 150} \n",
    "    \n",
    "    final_state_result = None\n",
    "    try:\n",
    "        async for event in app.astream(initial_state, config=config):\n",
    "            for node_name, node_output in event.items():\n",
    "                console.print(f\"\\n[bold yellow]------- Hoàn thành bước: {node_name} -------[/bold yellow]\")\n",
    "                final_state_result = node_output\n",
    "\n",
    "        console.print(\"\\n[bold magenta]🏁 KẾT THÚC QUY TRÌNH V7.1.[/bold magenta]\")\n",
    "        \n",
    "        if final_state_result and final_state_result.get(\"final_markdown_plan\"):\n",
    "            console.print(\"\\n[bold green]📝 GIÁO ÁN HOÀN CHỈNH (v9.0)[/bold green]\")\n",
    "            console.print(Markdown(final_state_result[\"final_markdown_plan\"]))\n",
    "            \n",
    "            # (Tùy chọn) In ra cả JSON để kiểm tra\n",
    "            if VERBOSE_MODE:\n",
    "                print_result(final_state_result.get(\"final_structured_plan\"), \"Output JSON có cấu trúc\")\n",
    "\n",
    "        else:\n",
    "            print_warning(\"Không tạo được giáo án cuối cùng. Có thể Critic đã yêu cầu làm lại nhưng hết giới hạn đệ quy.\")\n",
    "            print(\"\\nTrạng thái cuối cùng để gỡ lỗi:\")\n",
    "            pprint(final_state_result)\n",
    "            \n",
    "    except Exception as e:\n",
    "        print_warning(f\"Đã xảy ra lỗi nghiêm trọng trong quá trình chạy graph: {e}\")\n",
    "        import traceback\n",
    "        traceback.print_exc()\n",
    "\n",
    "print(\"✅ Hàm `run_architect` đã sẵn sàng để sử dụng.\")"
   ]
  },
  {
   "cell_type": "code",
   "execution_count": null,
   "id": "43c8121e",
   "metadata": {},
   "outputs": [
    {
     "data": {
      "text/html": [
       "<pre style=\"white-space:pre;overflow-x:auto;line-height:normal;font-family:Menlo,'DejaVu Sans Mono',consolas,'Courier New',monospace\">\n",
       "<span style=\"color: #800080; text-decoration-color: #800080; font-weight: bold\">🚀 BẮT ĐẦU QUY TRÌNH V7.</span><span style=\"color: #800080; text-decoration-color: #800080; font-weight: bold\">1</span><span style=\"color: #800080; text-decoration-color: #800080; font-weight: bold\"> (THE ARCHITECT) VỚI YÊU CẦU:</span>\n",
       "&gt; Soạn giúp tôi giáo án bài <span style=\"color: #008000; text-decoration-color: #008000\">'Đường tròn ngoại tiếp và đường tròn nội tiếp'</span> cho học sinh lớp <span style=\"color: #008080; text-decoration-color: #008080; font-weight: bold\">9</span> trong <span style=\"color: #008080; text-decoration-color: #008080; font-weight: bold\">90</span> phút. Đây là\n",
       "một lớp học khá yếu, các em thường mất tập trung và cần các hoạt động có tính tương tác cao.\n",
       "</pre>\n"
      ],
      "text/plain": [
       "\n",
       "\u001b[1;35m🚀 BẮT ĐẦU QUY TRÌNH V7.\u001b[0m\u001b[1;35m1\u001b[0m\u001b[1;35m \u001b[0m\u001b[1;35m(\u001b[0m\u001b[1;35mTHE ARCHITECT\u001b[0m\u001b[1;35m)\u001b[0m\u001b[1;35m VỚI YÊU CẦU:\u001b[0m\n",
       "> Soạn giúp tôi giáo án bài \u001b[32m'Đường tròn ngoại tiếp và đường tròn nội tiếp'\u001b[0m cho học sinh lớp \u001b[1;36m9\u001b[0m trong \u001b[1;36m90\u001b[0m phút. Đây là\n",
       "một lớp học khá yếu, các em thường mất tập trung và cần các hoạt động có tính tương tác cao.\n"
      ]
     },
     "metadata": {},
     "output_type": "display_data"
    },
    {
     "data": {
      "text/html": [
       "<pre style=\"white-space:pre;overflow-x:auto;line-height:normal;font-family:Menlo,'DejaVu Sans Mono',consolas,'Courier New',monospace\">\n",
       "<span style=\"color: #008080; text-decoration-color: #008080; font-weight: bold\">&gt;</span> `Initializer`: Đang khởi tạo trạng thái và lấy yêu cầu gốc<span style=\"color: #808000; text-decoration-color: #808000\">...</span>\n",
       "</pre>\n"
      ],
      "text/plain": [
       "\n",
       "\u001b[1;36m>\u001b[0m `Initializer`: Đang khởi tạo trạng thái và lấy yêu cầu gốc\u001b[33m...\u001b[0m\n"
      ]
     },
     "metadata": {},
     "output_type": "display_data"
    },
    {
     "data": {
      "text/html": [
       "<pre style=\"white-space:pre;overflow-x:auto;line-height:normal;font-family:Menlo,'DejaVu Sans Mono',consolas,'Courier New',monospace\">\n",
       "<span style=\"color: #808000; text-decoration-color: #808000; font-weight: bold\">------- Hoàn thành bước: initializer -------</span>\n",
       "</pre>\n"
      ],
      "text/plain": [
       "\n",
       "\u001b[1;33m------- Hoàn thành bước: initializer -------\u001b[0m\n"
      ]
     },
     "metadata": {},
     "output_type": "display_data"
    },
    {
     "data": {
      "text/html": [
       "<pre style=\"white-space:pre;overflow-x:auto;line-height:normal;font-family:Menlo,'DejaVu Sans Mono',consolas,'Courier New',monospace\">\n",
       "<span style=\"color: #008080; text-decoration-color: #008080; font-weight: bold\">&gt;</span> `Agent: Memory Retrieval` <span style=\"font-weight: bold\">(</span>v9.<span style=\"color: #008080; text-decoration-color: #008080; font-weight: bold\">4</span><span style=\"font-weight: bold\">)</span> đang tìm kiếm trong trí nhớ<span style=\"color: #808000; text-decoration-color: #808000\">...</span>\n",
       "</pre>\n"
      ],
      "text/plain": [
       "\n",
       "\u001b[1;36m>\u001b[0m `Agent: Memory Retrieval` \u001b[1m(\u001b[0mv9.\u001b[1;36m4\u001b[0m\u001b[1m)\u001b[0m đang tìm kiếm trong trí nhớ\u001b[33m...\u001b[0m\n"
      ]
     },
     "metadata": {},
     "output_type": "display_data"
    },
    {
     "data": {
      "text/html": [
       "<pre style=\"white-space:pre;overflow-x:auto;line-height:normal;font-family:Menlo,'DejaVu Sans Mono',consolas,'Courier New',monospace\"><span style=\"color: #808000; text-decoration-color: #808000; font-weight: bold\">⚠️  Không có Trí nhớ Dài hạn. Bỏ qua bước này.</span>\n",
       "</pre>\n"
      ],
      "text/plain": [
       "\u001b[1;33m⚠️  Không có Trí nhớ Dài hạn. Bỏ qua bước này.\u001b[0m\n"
      ]
     },
     "metadata": {},
     "output_type": "display_data"
    },
    {
     "data": {
      "text/html": [
       "<pre style=\"white-space:pre;overflow-x:auto;line-height:normal;font-family:Menlo,'DejaVu Sans Mono',consolas,'Courier New',monospace\">\n",
       "<span style=\"color: #008080; text-decoration-color: #008080; font-weight: bold\">&gt;</span> `Agent: Objective Interpreter` <span style=\"font-weight: bold\">(</span>v7.<span style=\"color: #008080; text-decoration-color: #008080; font-weight: bold\">5</span><span style=\"font-weight: bold\">)</span> đang phân tích mục tiêu<span style=\"color: #808000; text-decoration-color: #808000\">...</span>\n",
       "</pre>\n"
      ],
      "text/plain": [
       "\n",
       "\u001b[1;36m>\u001b[0m `Agent: Objective Interpreter` \u001b[1m(\u001b[0mv7.\u001b[1;36m5\u001b[0m\u001b[1m)\u001b[0m đang phân tích mục tiêu\u001b[33m...\u001b[0m\n"
      ]
     },
     "metadata": {},
     "output_type": "display_data"
    },
    {
     "data": {
      "text/html": [
       "<pre style=\"white-space:pre;overflow-x:auto;line-height:normal;font-family:Menlo,'DejaVu Sans Mono',consolas,'Courier New',monospace\">\n",
       "<span style=\"color: #808000; text-decoration-color: #808000; font-weight: bold\">------- Hoàn thành bước: memory_retrieval -------</span>\n",
       "</pre>\n"
      ],
      "text/plain": [
       "\n",
       "\u001b[1;33m------- Hoàn thành bước: memory_retrieval -------\u001b[0m\n"
      ]
     },
     "metadata": {},
     "output_type": "display_data"
    },
    {
     "data": {
      "text/html": [
       "<pre style=\"white-space:pre;overflow-x:auto;line-height:normal;font-family:Menlo,'DejaVu Sans Mono',consolas,'Courier New',monospace\"><span style=\"color: #008000; text-decoration-color: #008000; font-weight: bold\">✔️ Mục tiêu &amp; Ràng buộc đã phân tích:</span>\n",
       "</pre>\n"
      ],
      "text/plain": [
       "\u001b[1;32m✔️ Mục tiêu & Ràng buộc đã phân tích:\u001b[0m\n"
      ]
     },
     "metadata": {},
     "output_type": "display_data"
    },
    {
     "data": {
      "text/html": [
       "<pre style=\"white-space:pre;overflow-x:auto;line-height:normal;font-family:Menlo,'DejaVu Sans Mono',consolas,'Courier New',monospace\"><span style=\"font-weight: bold\">{</span>\n",
       "<span style=\"color: #7fbf7f; text-decoration-color: #7fbf7f\">│   </span><span style=\"color: #008000; text-decoration-color: #008000\">'action_verb'</span>: <span style=\"color: #008000; text-decoration-color: #008000\">'Soạn'</span>,\n",
       "<span style=\"color: #7fbf7f; text-decoration-color: #7fbf7f\">│   </span><span style=\"color: #008000; text-decoration-color: #008000\">'bloom_level'</span>: <span style=\"color: #008080; text-decoration-color: #008080; font-weight: bold\">2</span>,\n",
       "<span style=\"color: #7fbf7f; text-decoration-color: #7fbf7f\">│   </span><span style=\"color: #008000; text-decoration-color: #008000\">'topic'</span>: <span style=\"color: #008000; text-decoration-color: #008000\">'Đường tròn ngoại tiếp và đường tròn nội tiếp'</span>,\n",
       "<span style=\"color: #7fbf7f; text-decoration-color: #7fbf7f\">│   </span><span style=\"color: #008000; text-decoration-color: #008000\">'grade_level'</span>: <span style=\"color: #008000; text-decoration-color: #008000\">'Lớp 9'</span>,\n",
       "<span style=\"color: #7fbf7f; text-decoration-color: #7fbf7f\">│   </span><span style=\"color: #008000; text-decoration-color: #008000\">'constraints'</span>: <span style=\"font-weight: bold\">{</span>\n",
       "<span style=\"color: #7fbf7f; text-decoration-color: #7fbf7f\">│   │   </span><span style=\"color: #008000; text-decoration-color: #008000\">'duration_minutes'</span>: <span style=\"color: #008080; text-decoration-color: #008080; font-weight: bold\">90</span>\n",
       "<span style=\"color: #7fbf7f; text-decoration-color: #7fbf7f\">│   </span><span style=\"font-weight: bold\">}</span>\n",
       "<span style=\"font-weight: bold\">}</span>\n",
       "</pre>\n"
      ],
      "text/plain": [
       "\u001b[1m{\u001b[0m\n",
       "\u001b[2;32m│   \u001b[0m\u001b[32m'action_verb'\u001b[0m: \u001b[32m'Soạn'\u001b[0m,\n",
       "\u001b[2;32m│   \u001b[0m\u001b[32m'bloom_level'\u001b[0m: \u001b[1;36m2\u001b[0m,\n",
       "\u001b[2;32m│   \u001b[0m\u001b[32m'topic'\u001b[0m: \u001b[32m'Đường tròn ngoại tiếp và đường tròn nội tiếp'\u001b[0m,\n",
       "\u001b[2;32m│   \u001b[0m\u001b[32m'grade_level'\u001b[0m: \u001b[32m'Lớp 9'\u001b[0m,\n",
       "\u001b[2;32m│   \u001b[0m\u001b[32m'constraints'\u001b[0m: \u001b[1m{\u001b[0m\n",
       "\u001b[2;32m│   │   \u001b[0m\u001b[32m'duration_minutes'\u001b[0m: \u001b[1;36m90\u001b[0m\n",
       "\u001b[2;32m│   \u001b[0m\u001b[1m}\u001b[0m\n",
       "\u001b[1m}\u001b[0m\n"
      ]
     },
     "metadata": {},
     "output_type": "display_data"
    },
    {
     "data": {
      "text/html": [
       "<pre style=\"white-space:pre;overflow-x:auto;line-height:normal;font-family:Menlo,'DejaVu Sans Mono',consolas,'Courier New',monospace\">\n",
       "<span style=\"color: #808000; text-decoration-color: #808000; font-weight: bold\">------- Hoàn thành bước: objective_interpreter -------</span>\n",
       "</pre>\n"
      ],
      "text/plain": [
       "\n",
       "\u001b[1;33m------- Hoàn thành bước: objective_interpreter -------\u001b[0m\n"
      ]
     },
     "metadata": {},
     "output_type": "display_data"
    },
    {
     "data": {
      "text/html": [
       "<pre style=\"white-space:pre;overflow-x:auto;line-height:normal;font-family:Menlo,'DejaVu Sans Mono',consolas,'Courier New',monospace\">\n",
       "<span style=\"color: #008080; text-decoration-color: #008080; font-weight: bold\">&gt;</span> `Agent: Domain Classifier` <span style=\"font-weight: bold\">(</span>v7.<span style=\"color: #008080; text-decoration-color: #008080; font-weight: bold\">5</span><span style=\"font-weight: bold\">)</span> đang xác định lĩnh vực chuyên môn<span style=\"color: #808000; text-decoration-color: #808000\">...</span>\n",
       "</pre>\n"
      ],
      "text/plain": [
       "\n",
       "\u001b[1;36m>\u001b[0m `Agent: Domain Classifier` \u001b[1m(\u001b[0mv7.\u001b[1;36m5\u001b[0m\u001b[1m)\u001b[0m đang xác định lĩnh vực chuyên môn\u001b[33m...\u001b[0m\n"
      ]
     },
     "metadata": {},
     "output_type": "display_data"
    },
    {
     "data": {
      "text/html": [
       "<pre style=\"white-space:pre;overflow-x:auto;line-height:normal;font-family:Menlo,'DejaVu Sans Mono',consolas,'Courier New',monospace\">\n",
       "<span style=\"color: #008080; text-decoration-color: #008080; font-weight: bold\">&gt;</span> `Agent: Objective Interpreter` <span style=\"font-weight: bold\">(</span>v7.<span style=\"color: #008080; text-decoration-color: #008080; font-weight: bold\">5</span><span style=\"font-weight: bold\">)</span> đang phân tích mục tiêu<span style=\"color: #808000; text-decoration-color: #808000\">...</span>\n",
       "</pre>\n"
      ],
      "text/plain": [
       "\n",
       "\u001b[1;36m>\u001b[0m `Agent: Objective Interpreter` \u001b[1m(\u001b[0mv7.\u001b[1;36m5\u001b[0m\u001b[1m)\u001b[0m đang phân tích mục tiêu\u001b[33m...\u001b[0m\n"
      ]
     },
     "metadata": {},
     "output_type": "display_data"
    },
    {
     "data": {
      "text/html": [
       "<pre style=\"white-space:pre;overflow-x:auto;line-height:normal;font-family:Menlo,'DejaVu Sans Mono',consolas,'Courier New',monospace\"><span style=\"color: #008000; text-decoration-color: #008000; font-weight: bold\">✔️ Lĩnh vực chuyên môn được xác định:</span>\n",
       "</pre>\n"
      ],
      "text/plain": [
       "\u001b[1;32m✔️ Lĩnh vực chuyên môn được xác định:\u001b[0m\n"
      ]
     },
     "metadata": {},
     "output_type": "display_data"
    },
    {
     "data": {
      "text/html": [
       "<pre style=\"white-space:pre;overflow-x:auto;line-height:normal;font-family:Menlo,'DejaVu Sans Mono',consolas,'Courier New',monospace\"><span style=\"color: #008000; text-decoration-color: #008000\">'Toán học'</span>\n",
       "</pre>\n"
      ],
      "text/plain": [
       "\u001b[32m'Toán học'\u001b[0m\n"
      ]
     },
     "metadata": {},
     "output_type": "display_data"
    },
    {
     "data": {
      "text/html": [
       "<pre style=\"white-space:pre;overflow-x:auto;line-height:normal;font-family:Menlo,'DejaVu Sans Mono',consolas,'Courier New',monospace\">\n",
       "<span style=\"color: #808000; text-decoration-color: #808000; font-weight: bold\">------- Hoàn thành bước: domain_classifier -------</span>\n",
       "</pre>\n"
      ],
      "text/plain": [
       "\n",
       "\u001b[1;33m------- Hoàn thành bước: domain_classifier -------\u001b[0m\n"
      ]
     },
     "metadata": {},
     "output_type": "display_data"
    },
    {
     "data": {
      "text/html": [
       "<pre style=\"white-space:pre;overflow-x:auto;line-height:normal;font-family:Menlo,'DejaVu Sans Mono',consolas,'Courier New',monospace\"><span style=\"color: #008000; text-decoration-color: #008000; font-weight: bold\">✔️ Mục tiêu &amp; Ràng buộc đã phân tích:</span>\n",
       "</pre>\n"
      ],
      "text/plain": [
       "\u001b[1;32m✔️ Mục tiêu & Ràng buộc đã phân tích:\u001b[0m\n"
      ]
     },
     "metadata": {},
     "output_type": "display_data"
    },
    {
     "data": {
      "text/html": [
       "<pre style=\"white-space:pre;overflow-x:auto;line-height:normal;font-family:Menlo,'DejaVu Sans Mono',consolas,'Courier New',monospace\"><span style=\"font-weight: bold\">{</span>\n",
       "<span style=\"color: #7fbf7f; text-decoration-color: #7fbf7f\">│   </span><span style=\"color: #008000; text-decoration-color: #008000\">'action_verb'</span>: <span style=\"color: #008000; text-decoration-color: #008000\">'Soạn'</span>,\n",
       "<span style=\"color: #7fbf7f; text-decoration-color: #7fbf7f\">│   </span><span style=\"color: #008000; text-decoration-color: #008000\">'bloom_level'</span>: <span style=\"color: #008080; text-decoration-color: #008080; font-weight: bold\">3</span>,\n",
       "<span style=\"color: #7fbf7f; text-decoration-color: #7fbf7f\">│   </span><span style=\"color: #008000; text-decoration-color: #008000\">'topic'</span>: <span style=\"color: #008000; text-decoration-color: #008000\">'Đường tròn ngoại tiếp và đường tròn nội tiếp'</span>,\n",
       "<span style=\"color: #7fbf7f; text-decoration-color: #7fbf7f\">│   </span><span style=\"color: #008000; text-decoration-color: #008000\">'grade_level'</span>: <span style=\"color: #008000; text-decoration-color: #008000\">'Lớp 9'</span>,\n",
       "<span style=\"color: #7fbf7f; text-decoration-color: #7fbf7f\">│   </span><span style=\"color: #008000; text-decoration-color: #008000\">'constraints'</span>: <span style=\"font-weight: bold\">{</span>\n",
       "<span style=\"color: #7fbf7f; text-decoration-color: #7fbf7f\">│   │   </span><span style=\"color: #008000; text-decoration-color: #008000\">'duration_minutes'</span>: <span style=\"color: #008080; text-decoration-color: #008080; font-weight: bold\">90</span>\n",
       "<span style=\"color: #7fbf7f; text-decoration-color: #7fbf7f\">│   </span><span style=\"font-weight: bold\">}</span>\n",
       "<span style=\"font-weight: bold\">}</span>\n",
       "</pre>\n"
      ],
      "text/plain": [
       "\u001b[1m{\u001b[0m\n",
       "\u001b[2;32m│   \u001b[0m\u001b[32m'action_verb'\u001b[0m: \u001b[32m'Soạn'\u001b[0m,\n",
       "\u001b[2;32m│   \u001b[0m\u001b[32m'bloom_level'\u001b[0m: \u001b[1;36m3\u001b[0m,\n",
       "\u001b[2;32m│   \u001b[0m\u001b[32m'topic'\u001b[0m: \u001b[32m'Đường tròn ngoại tiếp và đường tròn nội tiếp'\u001b[0m,\n",
       "\u001b[2;32m│   \u001b[0m\u001b[32m'grade_level'\u001b[0m: \u001b[32m'Lớp 9'\u001b[0m,\n",
       "\u001b[2;32m│   \u001b[0m\u001b[32m'constraints'\u001b[0m: \u001b[1m{\u001b[0m\n",
       "\u001b[2;32m│   │   \u001b[0m\u001b[32m'duration_minutes'\u001b[0m: \u001b[1;36m90\u001b[0m\n",
       "\u001b[2;32m│   \u001b[0m\u001b[1m}\u001b[0m\n",
       "\u001b[1m}\u001b[0m\n"
      ]
     },
     "metadata": {},
     "output_type": "display_data"
    },
    {
     "data": {
      "text/html": [
       "<pre style=\"white-space:pre;overflow-x:auto;line-height:normal;font-family:Menlo,'DejaVu Sans Mono',consolas,'Courier New',monospace\">\n",
       "<span style=\"color: #808000; text-decoration-color: #808000; font-weight: bold\">------- Hoàn thành bước: objective_interpreter -------</span>\n",
       "</pre>\n"
      ],
      "text/plain": [
       "\n",
       "\u001b[1;33m------- Hoàn thành bước: objective_interpreter -------\u001b[0m\n"
      ]
     },
     "metadata": {},
     "output_type": "display_data"
    },
    {
     "data": {
      "text/html": [
       "<pre style=\"white-space:pre;overflow-x:auto;line-height:normal;font-family:Menlo,'DejaVu Sans Mono',consolas,'Courier New',monospace\">\n",
       "<span style=\"color: #008080; text-decoration-color: #008080; font-weight: bold\">&gt;</span> `Agent: Differentiated Instruction Advisor` <span style=\"font-weight: bold\">(</span>v9.<span style=\"color: #008080; text-decoration-color: #008080; font-weight: bold\">1</span><span style=\"font-weight: bold\">)</span> đang phân tích và đề xuất chiến lược phân hóa<span style=\"color: #808000; text-decoration-color: #808000\">...</span>\n",
       "</pre>\n"
      ],
      "text/plain": [
       "\n",
       "\u001b[1;36m>\u001b[0m `Agent: Differentiated Instruction Advisor` \u001b[1m(\u001b[0mv9.\u001b[1;36m1\u001b[0m\u001b[1m)\u001b[0m đang phân tích và đề xuất chiến lược phân hóa\u001b[33m...\u001b[0m\n"
      ]
     },
     "metadata": {},
     "output_type": "display_data"
    },
    {
     "data": {
      "text/html": [
       "<pre style=\"white-space:pre;overflow-x:auto;line-height:normal;font-family:Menlo,'DejaVu Sans Mono',consolas,'Courier New',monospace\">\n",
       "<span style=\"color: #008080; text-decoration-color: #008080; font-weight: bold\">&gt;</span> `Agent: Domain Classifier` <span style=\"font-weight: bold\">(</span>v7.<span style=\"color: #008080; text-decoration-color: #008080; font-weight: bold\">5</span><span style=\"font-weight: bold\">)</span> đang xác định lĩnh vực chuyên môn<span style=\"color: #808000; text-decoration-color: #808000\">...</span>\n",
       "</pre>\n"
      ],
      "text/plain": [
       "\n",
       "\u001b[1;36m>\u001b[0m `Agent: Domain Classifier` \u001b[1m(\u001b[0mv7.\u001b[1;36m5\u001b[0m\u001b[1m)\u001b[0m đang xác định lĩnh vực chuyên môn\u001b[33m...\u001b[0m\n"
      ]
     },
     "metadata": {},
     "output_type": "display_data"
    },
    {
     "data": {
      "text/html": [
       "<pre style=\"white-space:pre;overflow-x:auto;line-height:normal;font-family:Menlo,'DejaVu Sans Mono',consolas,'Courier New',monospace\"><span style=\"color: #008000; text-decoration-color: #008000; font-weight: bold\">✔️ Lĩnh vực chuyên môn được xác định:</span>\n",
       "</pre>\n"
      ],
      "text/plain": [
       "\u001b[1;32m✔️ Lĩnh vực chuyên môn được xác định:\u001b[0m\n"
      ]
     },
     "metadata": {},
     "output_type": "display_data"
    },
    {
     "data": {
      "text/html": [
       "<pre style=\"white-space:pre;overflow-x:auto;line-height:normal;font-family:Menlo,'DejaVu Sans Mono',consolas,'Courier New',monospace\"><span style=\"color: #008000; text-decoration-color: #008000\">'Toán học'</span>\n",
       "</pre>\n"
      ],
      "text/plain": [
       "\u001b[32m'Toán học'\u001b[0m\n"
      ]
     },
     "metadata": {},
     "output_type": "display_data"
    },
    {
     "data": {
      "text/html": [
       "<pre style=\"white-space:pre;overflow-x:auto;line-height:normal;font-family:Menlo,'DejaVu Sans Mono',consolas,'Courier New',monospace\">\n",
       "<span style=\"color: #808000; text-decoration-color: #808000; font-weight: bold\">------- Hoàn thành bước: domain_classifier -------</span>\n",
       "</pre>\n"
      ],
      "text/plain": [
       "\n",
       "\u001b[1;33m------- Hoàn thành bước: domain_classifier -------\u001b[0m\n"
      ]
     },
     "metadata": {},
     "output_type": "display_data"
    },
    {
     "data": {
      "text/html": [
       "<pre style=\"white-space:pre;overflow-x:auto;line-height:normal;font-family:Menlo,'DejaVu Sans Mono',consolas,'Courier New',monospace\"><span style=\"color: #008000; text-decoration-color: #008000; font-weight: bold\">✔️ Hồ sơ lớp học và Chiến lược Phân hóa:</span>\n",
       "</pre>\n"
      ],
      "text/plain": [
       "\u001b[1;32m✔️ Hồ sơ lớp học và Chiến lược Phân hóa:\u001b[0m\n"
      ]
     },
     "metadata": {},
     "output_type": "display_data"
    },
    {
     "data": {
      "text/html": [
       "<pre style=\"white-space:pre;overflow-x:auto;line-height:normal;font-family:Menlo,'DejaVu Sans Mono',consolas,'Courier New',monospace\"><span style=\"font-weight: bold\">{</span>\n",
       "<span style=\"color: #7fbf7f; text-decoration-color: #7fbf7f\">│   </span><span style=\"color: #008000; text-decoration-color: #008000\">'learning_pace'</span>: <span style=\"color: #008000; text-decoration-color: #008000\">'chậm'</span>,\n",
       "<span style=\"color: #7fbf7f; text-decoration-color: #7fbf7f\">│   </span><span style=\"color: #008000; text-decoration-color: #008000\">'engagement_style'</span>: <span style=\"color: #008000; text-decoration-color: #008000\">'thụ động'</span>,\n",
       "<span style=\"color: #7fbf7f; text-decoration-color: #7fbf7f\">│   </span><span style=\"color: #008000; text-decoration-color: #008000\">'special_notes'</span>: <span style=\"color: #008000; text-decoration-color: #008000\">'Lớp học khá yếu, học sinh dễ mất tập trung, cần các hoạt động tương tác cao để duy trì sự chú ý.'</span>,\n",
       "<span style=\"color: #7fbf7f; text-decoration-color: #7fbf7f\">│   </span><span style=\"color: #008000; text-decoration-color: #008000\">'differentiation_strategy'</span>: <span style=\"font-weight: bold\">{</span>\n",
       "<span style=\"color: #7fbf7f; text-decoration-color: #7fbf7f\">│   │   </span><span style=\"color: #008000; text-decoration-color: #008000\">'for_struggling_students'</span>: <span style=\"color: #008000; text-decoration-color: #008000\">'Chia nhỏ kiến thức thành các phần nhỏ, sử dụng nhiều ví dụ trực quan và hình ảnh minh họa. Cung cấp phiếu bài tập có sẵn công thức, gợi ý từng bước giải. Tăng cường hoạt động nhóm đôi, nhóm nhỏ để học sinh yếu có cơ hội trao đổi và nhận hỗ trợ từ bạn bè. Thường xuyên kiểm tra nhanh sự hiểu bài bằng các câu hỏi trắc nghiệm đơn giản hoặc giơ tay.'</span>,\n",
       "<span style=\"color: #7fbf7f; text-decoration-color: #7fbf7f\">│   │   </span><span style=\"color: #008000; text-decoration-color: #008000\">'for_advanced_students'</span>: <span style=\"color: #008000; text-decoration-color: #008000\">'Giao các bài tập nâng cao hơn, yêu cầu chứng minh hoặc giải thích sâu hơn về các tính chất. Khuyến khích học sinh khá giỏi tìm kiếm các ứng dụng thực tế của đường tròn ngoại tiếp/nội tiếp trong kiến trúc, kỹ thuật. Giao nhiệm vụ hỗ trợ, hướng dẫn các bạn trong nhóm khi cần thiết, hoặc chuẩn bị một câu hỏi mở rộng để đặt ra cho cả lớp.'</span>\n",
       "<span style=\"color: #7fbf7f; text-decoration-color: #7fbf7f\">│   </span><span style=\"font-weight: bold\">}</span>\n",
       "<span style=\"font-weight: bold\">}</span>\n",
       "</pre>\n"
      ],
      "text/plain": [
       "\u001b[1m{\u001b[0m\n",
       "\u001b[2;32m│   \u001b[0m\u001b[32m'learning_pace'\u001b[0m: \u001b[32m'chậm'\u001b[0m,\n",
       "\u001b[2;32m│   \u001b[0m\u001b[32m'engagement_style'\u001b[0m: \u001b[32m'thụ động'\u001b[0m,\n",
       "\u001b[2;32m│   \u001b[0m\u001b[32m'special_notes'\u001b[0m: \u001b[32m'Lớp học khá yếu, học sinh dễ mất tập trung, cần các hoạt động tương tác cao để duy trì sự chú ý.'\u001b[0m,\n",
       "\u001b[2;32m│   \u001b[0m\u001b[32m'differentiation_strategy'\u001b[0m: \u001b[1m{\u001b[0m\n",
       "\u001b[2;32m│   │   \u001b[0m\u001b[32m'for_struggling_students'\u001b[0m: \u001b[32m'Chia nhỏ kiến thức thành các phần nhỏ, sử dụng nhiều ví dụ trực quan và hình ảnh minh họa. Cung cấp phiếu bài tập có sẵn công thức, gợi ý từng bước giải. Tăng cường hoạt động nhóm đôi, nhóm nhỏ để học sinh yếu có cơ hội trao đổi và nhận hỗ trợ từ bạn bè. Thường xuyên kiểm tra nhanh sự hiểu bài bằng các câu hỏi trắc nghiệm đơn giản hoặc giơ tay.'\u001b[0m,\n",
       "\u001b[2;32m│   │   \u001b[0m\u001b[32m'for_advanced_students'\u001b[0m: \u001b[32m'Giao các bài tập nâng cao hơn, yêu cầu chứng minh hoặc giải thích sâu hơn về các tính chất. Khuyến khích học sinh khá giỏi tìm kiếm các ứng dụng thực tế của đường tròn ngoại tiếp/nội tiếp trong kiến trúc, kỹ thuật. Giao nhiệm vụ hỗ trợ, hướng dẫn các bạn trong nhóm khi cần thiết, hoặc chuẩn bị một câu hỏi mở rộng để đặt ra cho cả lớp.'\u001b[0m\n",
       "\u001b[2;32m│   \u001b[0m\u001b[1m}\u001b[0m\n",
       "\u001b[1m}\u001b[0m\n"
      ]
     },
     "metadata": {},
     "output_type": "display_data"
    },
    {
     "data": {
      "text/html": [
       "<pre style=\"white-space:pre;overflow-x:auto;line-height:normal;font-family:Menlo,'DejaVu Sans Mono',consolas,'Courier New',monospace\">\n",
       "<span style=\"color: #808000; text-decoration-color: #808000; font-weight: bold\">------- Hoàn thành bước: differentiated_instruction_advisor -------</span>\n",
       "</pre>\n"
      ],
      "text/plain": [
       "\n",
       "\u001b[1;33m------- Hoàn thành bước: differentiated_instruction_advisor -------\u001b[0m\n"
      ]
     },
     "metadata": {},
     "output_type": "display_data"
    },
    {
     "data": {
      "text/html": [
       "<pre style=\"white-space:pre;overflow-x:auto;line-height:normal;font-family:Menlo,'DejaVu Sans Mono',consolas,'Courier New',monospace\">\n",
       "<span style=\"color: #008080; text-decoration-color: #008080; font-weight: bold\">&gt;</span> `Agent: Differentiated Instruction Advisor` <span style=\"font-weight: bold\">(</span>v9.<span style=\"color: #008080; text-decoration-color: #008080; font-weight: bold\">1</span><span style=\"font-weight: bold\">)</span> đang phân tích và đề xuất chiến lược phân hóa<span style=\"color: #808000; text-decoration-color: #808000\">...</span>\n",
       "</pre>\n"
      ],
      "text/plain": [
       "\n",
       "\u001b[1;36m>\u001b[0m `Agent: Differentiated Instruction Advisor` \u001b[1m(\u001b[0mv9.\u001b[1;36m1\u001b[0m\u001b[1m)\u001b[0m đang phân tích và đề xuất chiến lược phân hóa\u001b[33m...\u001b[0m\n"
      ]
     },
     "metadata": {},
     "output_type": "display_data"
    },
    {
     "data": {
      "text/html": [
       "<pre style=\"white-space:pre;overflow-x:auto;line-height:normal;font-family:Menlo,'DejaVu Sans Mono',consolas,'Courier New',monospace\">\n",
       "<span style=\"color: #008080; text-decoration-color: #008080; font-weight: bold\">&gt;</span> `Agent: Pedagogy Strategist` <span style=\"font-weight: bold\">(</span>v7.<span style=\"color: #008080; text-decoration-color: #008080; font-weight: bold\">5</span><span style=\"font-weight: bold\">)</span> đang xây dựng chiến lược sư phạm chi tiết<span style=\"color: #808000; text-decoration-color: #808000\">...</span>\n",
       "</pre>\n"
      ],
      "text/plain": [
       "\n",
       "\u001b[1;36m>\u001b[0m `Agent: Pedagogy Strategist` \u001b[1m(\u001b[0mv7.\u001b[1;36m5\u001b[0m\u001b[1m)\u001b[0m đang xây dựng chiến lược sư phạm chi tiết\u001b[33m...\u001b[0m\n"
      ]
     },
     "metadata": {},
     "output_type": "display_data"
    },
    {
     "data": {
      "text/html": [
       "<pre style=\"white-space:pre;overflow-x:auto;line-height:normal;font-family:Menlo,'DejaVu Sans Mono',consolas,'Courier New',monospace\"><span style=\"color: #008000; text-decoration-color: #008000; font-weight: bold\">✔️ Hồ sơ lớp học và Chiến lược Phân hóa:</span>\n",
       "</pre>\n"
      ],
      "text/plain": [
       "\u001b[1;32m✔️ Hồ sơ lớp học và Chiến lược Phân hóa:\u001b[0m\n"
      ]
     },
     "metadata": {},
     "output_type": "display_data"
    },
    {
     "data": {
      "text/html": [
       "<pre style=\"white-space:pre;overflow-x:auto;line-height:normal;font-family:Menlo,'DejaVu Sans Mono',consolas,'Courier New',monospace\"><span style=\"font-weight: bold\">{</span>\n",
       "<span style=\"color: #7fbf7f; text-decoration-color: #7fbf7f\">│   </span><span style=\"color: #008000; text-decoration-color: #008000\">'learning_pace'</span>: <span style=\"color: #008000; text-decoration-color: #008000\">'chậm'</span>,\n",
       "<span style=\"color: #7fbf7f; text-decoration-color: #7fbf7f\">│   </span><span style=\"color: #008000; text-decoration-color: #008000\">'engagement_style'</span>: <span style=\"color: #008000; text-decoration-color: #008000\">'thụ động'</span>,\n",
       "<span style=\"color: #7fbf7f; text-decoration-color: #7fbf7f\">│   </span><span style=\"color: #008000; text-decoration-color: #008000\">'special_notes'</span>: <span style=\"color: #008000; text-decoration-color: #008000\">'Lớp học khá yếu, học sinh dễ mất tập trung, cần các hoạt động tương tác cao để duy trì sự chú ý.'</span>,\n",
       "<span style=\"color: #7fbf7f; text-decoration-color: #7fbf7f\">│   </span><span style=\"color: #008000; text-decoration-color: #008000\">'differentiation_strategy'</span>: <span style=\"font-weight: bold\">{</span>\n",
       "<span style=\"color: #7fbf7f; text-decoration-color: #7fbf7f\">│   │   </span><span style=\"color: #008000; text-decoration-color: #008000\">'for_struggling_students'</span>: <span style=\"color: #008000; text-decoration-color: #008000\">'Chia nhỏ kiến thức thành các phần nhỏ, sử dụng nhiều ví dụ trực quan và hình ảnh minh họa. Cung cấp phiếu bài tập có gợi ý từng bước hoặc các bài tập điền khuyết. Tăng cường hoạt động nhóm nhỏ để học sinh yếu có thể nhận được sự hỗ trợ từ bạn bè và giáo viên. Thường xuyên kiểm tra nhanh sự hiểu bài bằng các câu hỏi đơn giản.'</span>,\n",
       "<span style=\"color: #7fbf7f; text-decoration-color: #7fbf7f\">│   │   </span><span style=\"color: #008000; text-decoration-color: #008000\">'for_advanced_students'</span>: <span style=\"color: #008000; text-decoration-color: #008000\">'Giao các bài tập nâng cao có tính ứng dụng thực tế hoặc yêu cầu chứng minh các tính chất mở rộng của đường tròn. Khuyến khích học sinh khá giỏi tự tìm hiểu thêm về các khái niệm liên quan hoặc chuẩn bị một phần trình bày ngắn gọn về một ứng dụng của đường tròn trong đời sống/kỹ thuật.'</span>\n",
       "<span style=\"color: #7fbf7f; text-decoration-color: #7fbf7f\">│   </span><span style=\"font-weight: bold\">}</span>\n",
       "<span style=\"font-weight: bold\">}</span>\n",
       "</pre>\n"
      ],
      "text/plain": [
       "\u001b[1m{\u001b[0m\n",
       "\u001b[2;32m│   \u001b[0m\u001b[32m'learning_pace'\u001b[0m: \u001b[32m'chậm'\u001b[0m,\n",
       "\u001b[2;32m│   \u001b[0m\u001b[32m'engagement_style'\u001b[0m: \u001b[32m'thụ động'\u001b[0m,\n",
       "\u001b[2;32m│   \u001b[0m\u001b[32m'special_notes'\u001b[0m: \u001b[32m'Lớp học khá yếu, học sinh dễ mất tập trung, cần các hoạt động tương tác cao để duy trì sự chú ý.'\u001b[0m,\n",
       "\u001b[2;32m│   \u001b[0m\u001b[32m'differentiation_strategy'\u001b[0m: \u001b[1m{\u001b[0m\n",
       "\u001b[2;32m│   │   \u001b[0m\u001b[32m'for_struggling_students'\u001b[0m: \u001b[32m'Chia nhỏ kiến thức thành các phần nhỏ, sử dụng nhiều ví dụ trực quan và hình ảnh minh họa. Cung cấp phiếu bài tập có gợi ý từng bước hoặc các bài tập điền khuyết. Tăng cường hoạt động nhóm nhỏ để học sinh yếu có thể nhận được sự hỗ trợ từ bạn bè và giáo viên. Thường xuyên kiểm tra nhanh sự hiểu bài bằng các câu hỏi đơn giản.'\u001b[0m,\n",
       "\u001b[2;32m│   │   \u001b[0m\u001b[32m'for_advanced_students'\u001b[0m: \u001b[32m'Giao các bài tập nâng cao có tính ứng dụng thực tế hoặc yêu cầu chứng minh các tính chất mở rộng của đường tròn. Khuyến khích học sinh khá giỏi tự tìm hiểu thêm về các khái niệm liên quan hoặc chuẩn bị một phần trình bày ngắn gọn về một ứng dụng của đường tròn trong đời sống/kỹ thuật.'\u001b[0m\n",
       "\u001b[2;32m│   \u001b[0m\u001b[1m}\u001b[0m\n",
       "\u001b[1m}\u001b[0m\n"
      ]
     },
     "metadata": {},
     "output_type": "display_data"
    },
    {
     "data": {
      "text/html": [
       "<pre style=\"white-space:pre;overflow-x:auto;line-height:normal;font-family:Menlo,'DejaVu Sans Mono',consolas,'Courier New',monospace\">\n",
       "<span style=\"color: #808000; text-decoration-color: #808000; font-weight: bold\">------- Hoàn thành bước: differentiated_instruction_advisor -------</span>\n",
       "</pre>\n"
      ],
      "text/plain": [
       "\n",
       "\u001b[1;33m------- Hoàn thành bước: differentiated_instruction_advisor -------\u001b[0m\n"
      ]
     },
     "metadata": {},
     "output_type": "display_data"
    },
    {
     "data": {
      "text/html": [
       "<pre style=\"white-space:pre;overflow-x:auto;line-height:normal;font-family:Menlo,'DejaVu Sans Mono',consolas,'Courier New',monospace\"><span style=\"color: #008000; text-decoration-color: #008000; font-weight: bold\">✔️ Chiến lược sư phạm chi tiết:</span>\n",
       "</pre>\n"
      ],
      "text/plain": [
       "\u001b[1;32m✔️ Chiến lược sư phạm chi tiết:\u001b[0m\n"
      ]
     },
     "metadata": {},
     "output_type": "display_data"
    },
    {
     "data": {
      "text/html": [
       "<pre style=\"white-space:pre;overflow-x:auto;line-height:normal;font-family:Menlo,'DejaVu Sans Mono',consolas,'Courier New',monospace\"><span style=\"font-weight: bold\">{</span>\n",
       "<span style=\"color: #7fbf7f; text-decoration-color: #7fbf7f\">│   </span><span style=\"color: #008000; text-decoration-color: #008000\">'name'</span>: <span style=\"color: #008000; text-decoration-color: #008000\">'Dạy học hợp tác (Cooperative Learning)'</span>,\n",
       "<span style=\"color: #7fbf7f; text-decoration-color: #7fbf7f\">│   </span><span style=\"color: #008000; text-decoration-color: #008000\">'rationale'</span>: <span style=\"color: #008000; text-decoration-color: #008000\">'Phương pháp dạy học hợp tác rất phù hợp với đặc điểm lớp học này vì: Học sinh yếu và dễ mất tập trung sẽ được khuyến khích tương tác liên tục với bạn bè trong nhóm, giúp duy trì sự chú ý và hứng thú. Học sinh khá giỏi có cơ hội hỗ trợ, giải thích cho các bạn yếu hơn, từ đó củng cố kiến thức của chính mình. Việc chia nhỏ nhiệm vụ và làm việc nhóm giúp giảm áp lực cho từng cá nhân, đồng thời tạo môi trường an toàn để học sinh yếu mạnh dạn trao đổi. Phương pháp này cũng dễ dàng tích hợp các chiến lược phân hóa đã đề ra, đảm bảo mọi học sinh đều có thể tiếp cận và vận dụng kiến thức về đường tròn ngoại tiếp và nội tiếp.'</span>,\n",
       "<span style=\"color: #7fbf7f; text-decoration-color: #7fbf7f\">│   </span><span style=\"color: #008000; text-decoration-color: #008000\">'key_actions'</span>: <span style=\"font-weight: bold\">[</span>\n",
       "<span style=\"color: #7fbf7f; text-decoration-color: #7fbf7f\">│   │   </span><span style=\"color: #008000; text-decoration-color: #008000\">'Chia nhóm và giới thiệu nhiệm vụ học tập'</span>,\n",
       "<span style=\"color: #7fbf7f; text-decoration-color: #7fbf7f\">│   │   </span><span style=\"color: #008000; text-decoration-color: #008000\">'Học sinh làm việc nhóm, thảo luận và giải quyết các nhiệm vụ được giao'</span>,\n",
       "<span style=\"color: #7fbf7f; text-decoration-color: #7fbf7f\">│   │   </span><span style=\"color: #008000; text-decoration-color: #008000\">'Giáo viên quan sát, hỗ trợ, gợi ý và giải đáp thắc mắc cho từng nhóm'</span>,\n",
       "<span style=\"color: #7fbf7f; text-decoration-color: #7fbf7f\">│   │   </span><span style=\"color: #008000; text-decoration-color: #008000\">'Đại diện nhóm trình bày kết quả hoặc cách giải quyết vấn đề'</span>,\n",
       "<span style=\"color: #7fbf7f; text-decoration-color: #7fbf7f\">│   │   </span><span style=\"color: #008000; text-decoration-color: #008000\">'Giáo viên và cả lớp cùng thảo luận, tổng kết kiến thức và củng cố bài học'</span>\n",
       "<span style=\"color: #7fbf7f; text-decoration-color: #7fbf7f\">│   </span><span style=\"font-weight: bold\">]</span>\n",
       "<span style=\"font-weight: bold\">}</span>\n",
       "</pre>\n"
      ],
      "text/plain": [
       "\u001b[1m{\u001b[0m\n",
       "\u001b[2;32m│   \u001b[0m\u001b[32m'name'\u001b[0m: \u001b[32m'Dạy học hợp tác \u001b[0m\u001b[32m(\u001b[0m\u001b[32mCooperative Learning\u001b[0m\u001b[32m)\u001b[0m\u001b[32m'\u001b[0m,\n",
       "\u001b[2;32m│   \u001b[0m\u001b[32m'rationale'\u001b[0m: \u001b[32m'Phương pháp dạy học hợp tác rất phù hợp với đặc điểm lớp học này vì: Học sinh yếu và dễ mất tập trung sẽ được khuyến khích tương tác liên tục với bạn bè trong nhóm, giúp duy trì sự chú ý và hứng thú. Học sinh khá giỏi có cơ hội hỗ trợ, giải thích cho các bạn yếu hơn, từ đó củng cố kiến thức của chính mình. Việc chia nhỏ nhiệm vụ và làm việc nhóm giúp giảm áp lực cho từng cá nhân, đồng thời tạo môi trường an toàn để học sinh yếu mạnh dạn trao đổi. Phương pháp này cũng dễ dàng tích hợp các chiến lược phân hóa đã đề ra, đảm bảo mọi học sinh đều có thể tiếp cận và vận dụng kiến thức về đường tròn ngoại tiếp và nội tiếp.'\u001b[0m,\n",
       "\u001b[2;32m│   \u001b[0m\u001b[32m'key_actions'\u001b[0m: \u001b[1m[\u001b[0m\n",
       "\u001b[2;32m│   │   \u001b[0m\u001b[32m'Chia nhóm và giới thiệu nhiệm vụ học tập'\u001b[0m,\n",
       "\u001b[2;32m│   │   \u001b[0m\u001b[32m'Học sinh làm việc nhóm, thảo luận và giải quyết các nhiệm vụ được giao'\u001b[0m,\n",
       "\u001b[2;32m│   │   \u001b[0m\u001b[32m'Giáo viên quan sát, hỗ trợ, gợi ý và giải đáp thắc mắc cho từng nhóm'\u001b[0m,\n",
       "\u001b[2;32m│   │   \u001b[0m\u001b[32m'Đại diện nhóm trình bày kết quả hoặc cách giải quyết vấn đề'\u001b[0m,\n",
       "\u001b[2;32m│   │   \u001b[0m\u001b[32m'Giáo viên và cả lớp cùng thảo luận, tổng kết kiến thức và củng cố bài học'\u001b[0m\n",
       "\u001b[2;32m│   \u001b[0m\u001b[1m]\u001b[0m\n",
       "\u001b[1m}\u001b[0m\n"
      ]
     },
     "metadata": {},
     "output_type": "display_data"
    },
    {
     "data": {
      "text/html": [
       "<pre style=\"white-space:pre;overflow-x:auto;line-height:normal;font-family:Menlo,'DejaVu Sans Mono',consolas,'Courier New',monospace\">\n",
       "<span style=\"color: #808000; text-decoration-color: #808000; font-weight: bold\">------- Hoàn thành bước: pedagogy_strategist -------</span>\n",
       "</pre>\n"
      ],
      "text/plain": [
       "\n",
       "\u001b[1;33m------- Hoàn thành bước: pedagogy_strategist -------\u001b[0m\n"
      ]
     },
     "metadata": {},
     "output_type": "display_data"
    },
    {
     "data": {
      "text/html": [
       "<pre style=\"white-space:pre;overflow-x:auto;line-height:normal;font-family:Menlo,'DejaVu Sans Mono',consolas,'Courier New',monospace\">\n",
       "<span style=\"color: #008080; text-decoration-color: #008080; font-weight: bold\">&gt;</span> `Agent: Pedagogical Architect` <span style=\"font-weight: bold\">(</span>v9.<span style=\"color: #008080; text-decoration-color: #008080; font-weight: bold\">4</span><span style=\"font-weight: bold\">)</span> đang thiết kế kịch bản buổi học<span style=\"color: #808000; text-decoration-color: #808000\">...</span>\n",
       "</pre>\n"
      ],
      "text/plain": [
       "\n",
       "\u001b[1;36m>\u001b[0m `Agent: Pedagogical Architect` \u001b[1m(\u001b[0mv9.\u001b[1;36m4\u001b[0m\u001b[1m)\u001b[0m đang thiết kế kịch bản buổi học\u001b[33m...\u001b[0m\n"
      ]
     },
     "metadata": {},
     "output_type": "display_data"
    },
    {
     "data": {
      "text/html": [
       "<pre style=\"white-space:pre;overflow-x:auto;line-height:normal;font-family:Menlo,'DejaVu Sans Mono',consolas,'Courier New',monospace\">\n",
       "<span style=\"color: #008080; text-decoration-color: #008080; font-weight: bold\">&gt;</span> `Agent: Pedagogy Strategist` <span style=\"font-weight: bold\">(</span>v7.<span style=\"color: #008080; text-decoration-color: #008080; font-weight: bold\">5</span><span style=\"font-weight: bold\">)</span> đang xây dựng chiến lược sư phạm chi tiết<span style=\"color: #808000; text-decoration-color: #808000\">...</span>\n",
       "</pre>\n"
      ],
      "text/plain": [
       "\n",
       "\u001b[1;36m>\u001b[0m `Agent: Pedagogy Strategist` \u001b[1m(\u001b[0mv7.\u001b[1;36m5\u001b[0m\u001b[1m)\u001b[0m đang xây dựng chiến lược sư phạm chi tiết\u001b[33m...\u001b[0m\n"
      ]
     },
     "metadata": {},
     "output_type": "display_data"
    },
    {
     "data": {
      "text/html": [
       "<pre style=\"white-space:pre;overflow-x:auto;line-height:normal;font-family:Menlo,'DejaVu Sans Mono',consolas,'Courier New',monospace\"><span style=\"color: #008000; text-decoration-color: #008000; font-weight: bold\">✔️ Chiến lược sư phạm chi tiết:</span>\n",
       "</pre>\n"
      ],
      "text/plain": [
       "\u001b[1;32m✔️ Chiến lược sư phạm chi tiết:\u001b[0m\n"
      ]
     },
     "metadata": {},
     "output_type": "display_data"
    },
    {
     "data": {
      "text/html": [
       "<pre style=\"white-space:pre;overflow-x:auto;line-height:normal;font-family:Menlo,'DejaVu Sans Mono',consolas,'Courier New',monospace\"><span style=\"font-weight: bold\">{</span>\n",
       "<span style=\"color: #7fbf7f; text-decoration-color: #7fbf7f\">│   </span><span style=\"color: #008000; text-decoration-color: #008000\">'name'</span>: <span style=\"color: #008000; text-decoration-color: #008000\">'Dạy học hợp tác (Cooperative Learning)'</span>,\n",
       "<span style=\"color: #7fbf7f; text-decoration-color: #7fbf7f\">│   </span><span style=\"color: #008000; text-decoration-color: #008000\">'rationale'</span>: <span style=\"color: #008000; text-decoration-color: #008000\">'Phương pháp Dạy học hợp tác rất phù hợp với lớp học có tốc độ học chậm, dễ mất tập trung và có xu hướng thụ động. Việc chia nhóm học sinh hỗn hợp (có cả học sinh yếu và khá) sẽ khuyến khích sự tương tác, hỗ trợ lẫn nhau, giúp học sinh yếu không bị bỏ lại phía sau và học sinh khá giỏi có cơ hội củng cố kiến thức bằng cách hướng dẫn bạn. Các hoạt động nhóm liên tục sẽ duy trì sự chú ý, giảm thiểu tình trạng mất tập trung. Giáo viên có thể dễ dàng quan sát, hỗ trợ từng nhóm, từng cá nhân, đồng thời áp dụng các chiến lược phân hóa đã đề ra (chia nhỏ kiến thức, cung cấp gợi ý, giao bài tập nâng cao) một cách hiệu quả trong môi trường nhóm.'</span>,\n",
       "<span style=\"color: #7fbf7f; text-decoration-color: #7fbf7f\">│   </span><span style=\"color: #008000; text-decoration-color: #008000\">'key_actions'</span>: <span style=\"font-weight: bold\">[</span>\n",
       "<span style=\"color: #7fbf7f; text-decoration-color: #7fbf7f\">│   │   </span><span style=\"color: #008000; text-decoration-color: #008000\">'Tổ chức nhóm học tập hỗn hợp (có sự phân hóa về năng lực).'</span>,\n",
       "<span style=\"color: #7fbf7f; text-decoration-color: #7fbf7f\">│   │   </span><span style=\"color: #008000; text-decoration-color: #008000\">'Giao nhiệm vụ khám phá và giải quyết vấn đề theo nhóm, sử dụng phiếu học tập có gợi ý và hình ảnh trực quan.'</span>,\n",
       "<span style=\"color: #7fbf7f; text-decoration-color: #7fbf7f\">│   │   </span><span style=\"color: #008000; text-decoration-color: #008000\">'Học sinh thảo luận, hợp tác giải quyết nhiệm vụ dưới sự hướng dẫn và hỗ trợ cá nhân hóa của giáo viên.'</span>,\n",
       "<span style=\"color: #7fbf7f; text-decoration-color: #7fbf7f\">│   │   </span><span style=\"color: #008000; text-decoration-color: #008000\">'Đại diện nhóm trình bày kết quả, chia sẻ cách làm và nhận phản hồi từ giáo viên, bạn bè.'</span>,\n",
       "<span style=\"color: #7fbf7f; text-decoration-color: #7fbf7f\">│   │   </span><span style=\"color: #008000; text-decoration-color: #008000\">'Giáo viên tổng kết, củng cố kiến thức trọng tâm và giao bài tập nâng cao/ứng dụng cho học sinh khá giỏi.'</span>\n",
       "<span style=\"color: #7fbf7f; text-decoration-color: #7fbf7f\">│   </span><span style=\"font-weight: bold\">]</span>\n",
       "<span style=\"font-weight: bold\">}</span>\n",
       "</pre>\n"
      ],
      "text/plain": [
       "\u001b[1m{\u001b[0m\n",
       "\u001b[2;32m│   \u001b[0m\u001b[32m'name'\u001b[0m: \u001b[32m'Dạy học hợp tác \u001b[0m\u001b[32m(\u001b[0m\u001b[32mCooperative Learning\u001b[0m\u001b[32m)\u001b[0m\u001b[32m'\u001b[0m,\n",
       "\u001b[2;32m│   \u001b[0m\u001b[32m'rationale'\u001b[0m: \u001b[32m'Phương pháp Dạy học hợp tác rất phù hợp với lớp học có tốc độ học chậm, dễ mất tập trung và có xu hướng thụ động. Việc chia nhóm học sinh hỗn hợp \u001b[0m\u001b[32m(\u001b[0m\u001b[32mcó cả học sinh yếu và khá\u001b[0m\u001b[32m)\u001b[0m\u001b[32m sẽ khuyến khích sự tương tác, hỗ trợ lẫn nhau, giúp học sinh yếu không bị bỏ lại phía sau và học sinh khá giỏi có cơ hội củng cố kiến thức bằng cách hướng dẫn bạn. Các hoạt động nhóm liên tục sẽ duy trì sự chú ý, giảm thiểu tình trạng mất tập trung. Giáo viên có thể dễ dàng quan sát, hỗ trợ từng nhóm, từng cá nhân, đồng thời áp dụng các chiến lược phân hóa đã đề ra \u001b[0m\u001b[32m(\u001b[0m\u001b[32mchia nhỏ kiến thức, cung cấp gợi ý, giao bài tập nâng cao\u001b[0m\u001b[32m)\u001b[0m\u001b[32m một cách hiệu quả trong môi trường nhóm.'\u001b[0m,\n",
       "\u001b[2;32m│   \u001b[0m\u001b[32m'key_actions'\u001b[0m: \u001b[1m[\u001b[0m\n",
       "\u001b[2;32m│   │   \u001b[0m\u001b[32m'Tổ chức nhóm học tập hỗn hợp \u001b[0m\u001b[32m(\u001b[0m\u001b[32mcó sự phân hóa về năng lực\u001b[0m\u001b[32m)\u001b[0m\u001b[32m.'\u001b[0m,\n",
       "\u001b[2;32m│   │   \u001b[0m\u001b[32m'Giao nhiệm vụ khám phá và giải quyết vấn đề theo nhóm, sử dụng phiếu học tập có gợi ý và hình ảnh trực quan.'\u001b[0m,\n",
       "\u001b[2;32m│   │   \u001b[0m\u001b[32m'Học sinh thảo luận, hợp tác giải quyết nhiệm vụ dưới sự hướng dẫn và hỗ trợ cá nhân hóa của giáo viên.'\u001b[0m,\n",
       "\u001b[2;32m│   │   \u001b[0m\u001b[32m'Đại diện nhóm trình bày kết quả, chia sẻ cách làm và nhận phản hồi từ giáo viên, bạn bè.'\u001b[0m,\n",
       "\u001b[2;32m│   │   \u001b[0m\u001b[32m'Giáo viên tổng kết, củng cố kiến thức trọng tâm và giao bài tập nâng cao/ứng dụng cho học sinh khá giỏi.'\u001b[0m\n",
       "\u001b[2;32m│   \u001b[0m\u001b[1m]\u001b[0m\n",
       "\u001b[1m}\u001b[0m\n"
      ]
     },
     "metadata": {},
     "output_type": "display_data"
    },
    {
     "data": {
      "text/html": [
       "<pre style=\"white-space:pre;overflow-x:auto;line-height:normal;font-family:Menlo,'DejaVu Sans Mono',consolas,'Courier New',monospace\">\n",
       "<span style=\"color: #808000; text-decoration-color: #808000; font-weight: bold\">------- Hoàn thành bước: pedagogy_strategist -------</span>\n",
       "</pre>\n"
      ],
      "text/plain": [
       "\n",
       "\u001b[1;33m------- Hoàn thành bước: pedagogy_strategist -------\u001b[0m\n"
      ]
     },
     "metadata": {},
     "output_type": "display_data"
    },
    {
     "data": {
      "text/html": [
       "<pre style=\"white-space:pre;overflow-x:auto;line-height:normal;font-family:Menlo,'DejaVu Sans Mono',consolas,'Courier New',monospace\"><span style=\"color: #008000; text-decoration-color: #008000; font-weight: bold\">✔️ Bản thiết kế Sư phạm đã được tạo:</span>\n",
       "</pre>\n"
      ],
      "text/plain": [
       "\u001b[1;32m✔️ Bản thiết kế Sư phạm đã được tạo:\u001b[0m\n"
      ]
     },
     "metadata": {},
     "output_type": "display_data"
    },
    {
     "data": {
      "text/html": [
       "<pre style=\"white-space:pre;overflow-x:auto;line-height:normal;font-family:Menlo,'DejaVu Sans Mono',consolas,'Courier New',monospace\"><span style=\"font-weight: bold\">[</span>\n",
       "<span style=\"color: #7fbf7f; text-decoration-color: #7fbf7f\">│   </span><span style=\"color: #008000; text-decoration-color: #008000\">\"Khởi động và Khám phá ban đầu: Giáo viên tổ chức hoạt động 'Đố vui hình học' hoặc 'Ghép hình' để ôn tập kiến thức cũ về đường tròn và tam giác. Sau đó, sử dụng hình ảnh/video trực quan để giới thiệu các trường hợp đường tròn đi qua các đỉnh của tam giác hoặc tiếp xúc với các cạnh của tam giác, đặt câu hỏi gợi mở để học sinh tự đặt vấn đề về mối quan hệ này.\"</span>,\n",
       "<span style=\"color: #7fbf7f; text-decoration-color: #7fbf7f\">│   </span><span style=\"color: #008000; text-decoration-color: #008000\">'Xây dựng kiến thức mới: Chia lớp thành các nhóm nhỏ (4-5 học sinh). Mỗi nhóm nhận một phiếu học tập có các hoạt động khám phá (ví dụ: vẽ hình, cắt dán, đo đạc) để tự rút ra định nghĩa và cách xác định tâm, bán kính của đường tròn ngoại tiếp và nội tiếp. Giáo viên di chuyển giữa các nhóm để quan sát, gợi ý và hỗ trợ kịp thời, đặc biệt chú ý đến các nhóm yếu bằng cách cung cấp gợi ý từng bước.'</span>,\n",
       "<span style=\"color: #7fbf7f; text-decoration-color: #7fbf7f\">│   </span><span style=\"color: #008000; text-decoration-color: #008000\">'Luyện tập và Vận dụng: Các nhóm tiếp tục làm việc với bộ bài tập được phân hóa. Bài tập cơ bản tập trung vào nhận dạng và tính toán đơn giản, có gợi ý cho học sinh yếu. Bài tập nâng cao yêu cầu chứng minh hoặc áp dụng vào các tình huống phức tạp hơn, khuyến khích học sinh khá giỏi tự tìm tòi và trình bày cách giải.'</span>,\n",
       "<span style=\"color: #7fbf7f; text-decoration-color: #7fbf7f\">│   </span><span style=\"color: #008000; text-decoration-color: #008000\">'Trình bày và Tổng kết: Mời đại diện một số nhóm lên bảng trình bày kết quả hoặc cách giải một bài tập tiêu biểu. Giáo viên tổ chức cho cả lớp nhận xét, bổ sung. Sau đó, giáo viên tổng kết lại các kiến thức trọng tâm về đường tròn ngoại tiếp và nội tiếp, nhấn mạnh các điểm cần lưu ý và giải đáp thắc mắc cuối cùng. Giao bài tập về nhà và định hướng cho buổi học tiếp theo.'</span>\n",
       "<span style=\"font-weight: bold\">]</span>\n",
       "</pre>\n"
      ],
      "text/plain": [
       "\u001b[1m[\u001b[0m\n",
       "\u001b[2;32m│   \u001b[0m\u001b[32m\"Khởi động và Khám phá ban đầu: Giáo viên tổ chức hoạt động 'Đố vui hình học' hoặc 'Ghép hình' để ôn tập kiến thức cũ về đường tròn và tam giác. Sau đó, sử dụng hình ảnh/video trực quan để giới thiệu các trường hợp đường tròn đi qua các đỉnh của tam giác hoặc tiếp xúc với các cạnh của tam giác, đặt câu hỏi gợi mở để học sinh tự đặt vấn đề về mối quan hệ này.\"\u001b[0m,\n",
       "\u001b[2;32m│   \u001b[0m\u001b[32m'Xây dựng kiến thức mới: Chia lớp thành các nhóm nhỏ \u001b[0m\u001b[32m(\u001b[0m\u001b[32m4-5 học sinh\u001b[0m\u001b[32m)\u001b[0m\u001b[32m. Mỗi nhóm nhận một phiếu học tập có các hoạt động khám phá \u001b[0m\u001b[32m(\u001b[0m\u001b[32mví dụ: vẽ hình, cắt dán, đo đạc\u001b[0m\u001b[32m)\u001b[0m\u001b[32m để tự rút ra định nghĩa và cách xác định tâm, bán kính của đường tròn ngoại tiếp và nội tiếp. Giáo viên di chuyển giữa các nhóm để quan sát, gợi ý và hỗ trợ kịp thời, đặc biệt chú ý đến các nhóm yếu bằng cách cung cấp gợi ý từng bước.'\u001b[0m,\n",
       "\u001b[2;32m│   \u001b[0m\u001b[32m'Luyện tập và Vận dụng: Các nhóm tiếp tục làm việc với bộ bài tập được phân hóa. Bài tập cơ bản tập trung vào nhận dạng và tính toán đơn giản, có gợi ý cho học sinh yếu. Bài tập nâng cao yêu cầu chứng minh hoặc áp dụng vào các tình huống phức tạp hơn, khuyến khích học sinh khá giỏi tự tìm tòi và trình bày cách giải.'\u001b[0m,\n",
       "\u001b[2;32m│   \u001b[0m\u001b[32m'Trình bày và Tổng kết: Mời đại diện một số nhóm lên bảng trình bày kết quả hoặc cách giải một bài tập tiêu biểu. Giáo viên tổ chức cho cả lớp nhận xét, bổ sung. Sau đó, giáo viên tổng kết lại các kiến thức trọng tâm về đường tròn ngoại tiếp và nội tiếp, nhấn mạnh các điểm cần lưu ý và giải đáp thắc mắc cuối cùng. Giao bài tập về nhà và định hướng cho buổi học tiếp theo.'\u001b[0m\n",
       "\u001b[1m]\u001b[0m\n"
      ]
     },
     "metadata": {},
     "output_type": "display_data"
    },
    {
     "data": {
      "text/html": [
       "<pre style=\"white-space:pre;overflow-x:auto;line-height:normal;font-family:Menlo,'DejaVu Sans Mono',consolas,'Courier New',monospace\">\n",
       "<span style=\"color: #808000; text-decoration-color: #808000; font-weight: bold\">------- Hoàn thành bước: pedagogical_architect -------</span>\n",
       "</pre>\n"
      ],
      "text/plain": [
       "\n",
       "\u001b[1;33m------- Hoàn thành bước: pedagogical_architect -------\u001b[0m\n"
      ]
     },
     "metadata": {},
     "output_type": "display_data"
    },
    {
     "data": {
      "text/html": [
       "<pre style=\"white-space:pre;overflow-x:auto;line-height:normal;font-family:Menlo,'DejaVu Sans Mono',consolas,'Courier New',monospace\">\n",
       "<span style=\"color: #008080; text-decoration-color: #008080; font-weight: bold\">&gt;</span> `Agent: Pedagogical Architect` <span style=\"font-weight: bold\">(</span>v9.<span style=\"color: #008080; text-decoration-color: #008080; font-weight: bold\">4</span><span style=\"font-weight: bold\">)</span> đang thiết kế kịch bản buổi học<span style=\"color: #808000; text-decoration-color: #808000\">...</span>\n",
       "</pre>\n"
      ],
      "text/plain": [
       "\n",
       "\u001b[1;36m>\u001b[0m `Agent: Pedagogical Architect` \u001b[1m(\u001b[0mv9.\u001b[1;36m4\u001b[0m\u001b[1m)\u001b[0m đang thiết kế kịch bản buổi học\u001b[33m...\u001b[0m\n"
      ]
     },
     "metadata": {},
     "output_type": "display_data"
    },
    {
     "data": {
      "text/html": [
       "<pre style=\"white-space:pre;overflow-x:auto;line-height:normal;font-family:Menlo,'DejaVu Sans Mono',consolas,'Courier New',monospace\">\n",
       "<span style=\"color: #008080; text-decoration-color: #008080; font-weight: bold\">&gt;</span> `Agent: Query Expansion` <span style=\"font-weight: bold\">(</span>v7.<span style=\"color: #008080; text-decoration-color: #008080; font-weight: bold\">5</span><span style=\"font-weight: bold\">)</span> đang phân tích yêu cầu<span style=\"color: #808000; text-decoration-color: #808000\">...</span>\n",
       "</pre>\n"
      ],
      "text/plain": [
       "\n",
       "\u001b[1;36m>\u001b[0m `Agent: Query Expansion` \u001b[1m(\u001b[0mv7.\u001b[1;36m5\u001b[0m\u001b[1m)\u001b[0m đang phân tích yêu cầu\u001b[33m...\u001b[0m\n"
      ]
     },
     "metadata": {},
     "output_type": "display_data"
    },
    {
     "data": {
      "text/html": [
       "<pre style=\"white-space:pre;overflow-x:auto;line-height:normal;font-family:Menlo,'DejaVu Sans Mono',consolas,'Courier New',monospace\"><span style=\"color: #008000; text-decoration-color: #008000; font-weight: bold\">✔️ Các truy vấn tìm kiếm đã được mở rộng:</span>\n",
       "</pre>\n"
      ],
      "text/plain": [
       "\u001b[1;32m✔️ Các truy vấn tìm kiếm đã được mở rộng:\u001b[0m\n"
      ]
     },
     "metadata": {},
     "output_type": "display_data"
    },
    {
     "data": {
      "text/html": [
       "<pre style=\"white-space:pre;overflow-x:auto;line-height:normal;font-family:Menlo,'DejaVu Sans Mono',consolas,'Courier New',monospace\"><span style=\"font-weight: bold\">[</span>\n",
       "<span style=\"color: #7fbf7f; text-decoration-color: #7fbf7f\">│   </span><span style=\"color: #008000; text-decoration-color: #008000\">'đường tròn ngoại tiếp là gì'</span>,\n",
       "<span style=\"color: #7fbf7f; text-decoration-color: #7fbf7f\">│   </span><span style=\"color: #008000; text-decoration-color: #008000\">'đường tròn nội tiếp là gì'</span>,\n",
       "<span style=\"color: #7fbf7f; text-decoration-color: #7fbf7f\">│   </span><span style=\"color: #008000; text-decoration-color: #008000\">'công thức tính bán kính đường tròn ngoại tiếp'</span>,\n",
       "<span style=\"color: #7fbf7f; text-decoration-color: #7fbf7f\">│   </span><span style=\"color: #008000; text-decoration-color: #008000\">'công thức tính bán kính đường tròn nội tiếp'</span>,\n",
       "<span style=\"color: #7fbf7f; text-decoration-color: #7fbf7f\">│   </span><span style=\"color: #008000; text-decoration-color: #008000\">'tính chất đường tròn ngoại tiếp tam giác'</span>,\n",
       "<span style=\"color: #7fbf7f; text-decoration-color: #7fbf7f\">│   </span><span style=\"color: #008000; text-decoration-color: #008000\">'tính chất đường tròn nội tiếp tứ giác'</span>,\n",
       "<span style=\"color: #7fbf7f; text-decoration-color: #7fbf7f\">│   </span><span style=\"color: #008000; text-decoration-color: #008000\">'bài tập đường tròn ngoại tiếp lớp 9'</span>,\n",
       "<span style=\"color: #7fbf7f; text-decoration-color: #7fbf7f\">│   </span><span style=\"color: #008000; text-decoration-color: #008000\">'chuyên đề đường tròn nội tiếp và ngoại tiếp'</span>,\n",
       "<span style=\"color: #7fbf7f; text-decoration-color: #7fbf7f\">│   </span><span style=\"color: #008000; text-decoration-color: #008000\">'cách xác định tâm đường tròn ngoại tiếp'</span>,\n",
       "<span style=\"color: #7fbf7f; text-decoration-color: #7fbf7f\">│   </span><span style=\"color: #008000; text-decoration-color: #008000\">'cách vẽ đường tròn nội tiếp tam giác'</span>,\n",
       "<span style=\"color: #7fbf7f; text-decoration-color: #7fbf7f\">│   </span><span style=\"color: #008000; text-decoration-color: #008000\">'ứng dụng đường tròn ngoại tiếp trong hình học'</span>,\n",
       "<span style=\"color: #7fbf7f; text-decoration-color: #7fbf7f\">│   </span><span style=\"color: #008000; text-decoration-color: #008000\">'lý thuyết đường tròn nội tiếp và ngoại tiếp'</span>,\n",
       "<span style=\"color: #7fbf7f; text-decoration-color: #7fbf7f\">│   </span><span style=\"color: #008000; text-decoration-color: #008000\">'đường tròn ngoại tiếp đa giác đều'</span>,\n",
       "<span style=\"color: #7fbf7f; text-decoration-color: #7fbf7f\">│   </span><span style=\"color: #008000; text-decoration-color: #008000\">'đường tròn nội tiếp hình vuông'</span>,\n",
       "<span style=\"color: #7fbf7f; text-decoration-color: #7fbf7f\">│   </span><span style=\"color: #008000; text-decoration-color: #008000\">'quan hệ giữa đường tròn nội tiếp và ngoại tiếp'</span>\n",
       "<span style=\"font-weight: bold\">]</span>\n",
       "</pre>\n"
      ],
      "text/plain": [
       "\u001b[1m[\u001b[0m\n",
       "\u001b[2;32m│   \u001b[0m\u001b[32m'đường tròn ngoại tiếp là gì'\u001b[0m,\n",
       "\u001b[2;32m│   \u001b[0m\u001b[32m'đường tròn nội tiếp là gì'\u001b[0m,\n",
       "\u001b[2;32m│   \u001b[0m\u001b[32m'công thức tính bán kính đường tròn ngoại tiếp'\u001b[0m,\n",
       "\u001b[2;32m│   \u001b[0m\u001b[32m'công thức tính bán kính đường tròn nội tiếp'\u001b[0m,\n",
       "\u001b[2;32m│   \u001b[0m\u001b[32m'tính chất đường tròn ngoại tiếp tam giác'\u001b[0m,\n",
       "\u001b[2;32m│   \u001b[0m\u001b[32m'tính chất đường tròn nội tiếp tứ giác'\u001b[0m,\n",
       "\u001b[2;32m│   \u001b[0m\u001b[32m'bài tập đường tròn ngoại tiếp lớp 9'\u001b[0m,\n",
       "\u001b[2;32m│   \u001b[0m\u001b[32m'chuyên đề đường tròn nội tiếp và ngoại tiếp'\u001b[0m,\n",
       "\u001b[2;32m│   \u001b[0m\u001b[32m'cách xác định tâm đường tròn ngoại tiếp'\u001b[0m,\n",
       "\u001b[2;32m│   \u001b[0m\u001b[32m'cách vẽ đường tròn nội tiếp tam giác'\u001b[0m,\n",
       "\u001b[2;32m│   \u001b[0m\u001b[32m'ứng dụng đường tròn ngoại tiếp trong hình học'\u001b[0m,\n",
       "\u001b[2;32m│   \u001b[0m\u001b[32m'lý thuyết đường tròn nội tiếp và ngoại tiếp'\u001b[0m,\n",
       "\u001b[2;32m│   \u001b[0m\u001b[32m'đường tròn ngoại tiếp đa giác đều'\u001b[0m,\n",
       "\u001b[2;32m│   \u001b[0m\u001b[32m'đường tròn nội tiếp hình vuông'\u001b[0m,\n",
       "\u001b[2;32m│   \u001b[0m\u001b[32m'quan hệ giữa đường tròn nội tiếp và ngoại tiếp'\u001b[0m\n",
       "\u001b[1m]\u001b[0m\n"
      ]
     },
     "metadata": {},
     "output_type": "display_data"
    },
    {
     "data": {
      "text/html": [
       "<pre style=\"white-space:pre;overflow-x:auto;line-height:normal;font-family:Menlo,'DejaVu Sans Mono',consolas,'Courier New',monospace\">\n",
       "<span style=\"color: #808000; text-decoration-color: #808000; font-weight: bold\">------- Hoàn thành bước: query_expansion -------</span>\n",
       "</pre>\n"
      ],
      "text/plain": [
       "\n",
       "\u001b[1;33m------- Hoàn thành bước: query_expansion -------\u001b[0m\n"
      ]
     },
     "metadata": {},
     "output_type": "display_data"
    },
    {
     "data": {
      "text/html": [
       "<pre style=\"white-space:pre;overflow-x:auto;line-height:normal;font-family:Menlo,'DejaVu Sans Mono',consolas,'Courier New',monospace\"><span style=\"color: #008000; text-decoration-color: #008000; font-weight: bold\">✔️ Bản thiết kế Sư phạm đã được tạo:</span>\n",
       "</pre>\n"
      ],
      "text/plain": [
       "\u001b[1;32m✔️ Bản thiết kế Sư phạm đã được tạo:\u001b[0m\n"
      ]
     },
     "metadata": {},
     "output_type": "display_data"
    },
    {
     "data": {
      "text/html": [
       "<pre style=\"white-space:pre;overflow-x:auto;line-height:normal;font-family:Menlo,'DejaVu Sans Mono',consolas,'Courier New',monospace\"><span style=\"font-weight: bold\">[</span>\n",
       "<span style=\"color: #7fbf7f; text-decoration-color: #7fbf7f\">│   </span><span style=\"color: #008000; text-decoration-color: #008000\">'Giai đoạn 1: Khởi động và Khám phá ban đầu: Giáo viên sử dụng hình ảnh/video/câu hỏi gợi mở để ôn tập kiến thức cũ về đường tròn và tam giác. Dẫn dắt vào bài mới bằng cách đặt vấn đề thực tế hoặc hình vẽ minh họa đơn giản về đường tròn ngoại tiếp/nội tiếp. Tổ chức lớp thành các nhóm học tập hỗn hợp.'</span>,\n",
       "<span style=\"color: #7fbf7f; text-decoration-color: #7fbf7f\">│   </span><span style=\"color: #008000; text-decoration-color: #008000\">'Giai đoạn 2: Xây dựng kiến thức cốt lõi: Các nhóm nhận phiếu học tập có các hoạt động khám phá (ví dụ: vẽ hình, cắt dán, đo đạc, nhận xét) để tự rút ra định nghĩa và tính chất của đường tròn ngoại tiếp (tâm là giao điểm 3 đường trung trực) và đường tròn nội tiếp (tâm là giao điểm 3 đường phân giác). Giáo viên di chuyển giữa các nhóm, quan sát, gợi ý, hỗ trợ cá nhân hóa và kiểm tra nhanh sự hiểu bài.'</span>,\n",
       "<span style=\"color: #7fbf7f; text-decoration-color: #7fbf7f\">│   </span><span style=\"color: #008000; text-decoration-color: #008000\">'Giai đoạn 3: Vận dụng và Củng cố: Các nhóm tiếp tục làm việc với các bài tập vận dụng trên phiếu học tập, bao gồm các bài tập nhận dạng, vẽ hình, tính toán đơn giản liên quan đến đường tròn ngoại tiếp/nội tiếp. Đại diện một số nhóm trình bày kết quả và cách làm. Giáo viên tổng kết, sửa lỗi, nhấn mạnh các kiến thức trọng tâm và các lỗi thường gặp.'</span>,\n",
       "<span style=\"color: #7fbf7f; text-decoration-color: #7fbf7f\">│   </span><span style=\"color: #008000; text-decoration-color: #008000\">'Giai đoạn 4: Mở rộng và Giao nhiệm vụ: Giáo viên giao các bài tập về nhà, bao gồm cả bài tập cơ bản cho tất cả học sinh và bài tập nâng cao (có tính ứng dụng hoặc yêu cầu chứng minh) cho học sinh khá giỏi. Gợi ý các nguồn tài liệu để học sinh tự tìm hiểu thêm về ứng dụng của đường tròn trong thực tế.'</span>\n",
       "<span style=\"font-weight: bold\">]</span>\n",
       "</pre>\n"
      ],
      "text/plain": [
       "\u001b[1m[\u001b[0m\n",
       "\u001b[2;32m│   \u001b[0m\u001b[32m'Giai đoạn 1: Khởi động và Khám phá ban đầu: Giáo viên sử dụng hình ảnh/video/câu hỏi gợi mở để ôn tập kiến thức cũ về đường tròn và tam giác. Dẫn dắt vào bài mới bằng cách đặt vấn đề thực tế hoặc hình vẽ minh họa đơn giản về đường tròn ngoại tiếp/nội tiếp. Tổ chức lớp thành các nhóm học tập hỗn hợp.'\u001b[0m,\n",
       "\u001b[2;32m│   \u001b[0m\u001b[32m'Giai đoạn 2: Xây dựng kiến thức cốt lõi: Các nhóm nhận phiếu học tập có các hoạt động khám phá \u001b[0m\u001b[32m(\u001b[0m\u001b[32mví dụ: vẽ hình, cắt dán, đo đạc, nhận xét\u001b[0m\u001b[32m)\u001b[0m\u001b[32m để tự rút ra định nghĩa và tính chất của đường tròn ngoại tiếp \u001b[0m\u001b[32m(\u001b[0m\u001b[32mtâm là giao điểm 3 đường trung trực\u001b[0m\u001b[32m)\u001b[0m\u001b[32m và đường tròn nội tiếp \u001b[0m\u001b[32m(\u001b[0m\u001b[32mtâm là giao điểm 3 đường phân giác\u001b[0m\u001b[32m)\u001b[0m\u001b[32m. Giáo viên di chuyển giữa các nhóm, quan sát, gợi ý, hỗ trợ cá nhân hóa và kiểm tra nhanh sự hiểu bài.'\u001b[0m,\n",
       "\u001b[2;32m│   \u001b[0m\u001b[32m'Giai đoạn 3: Vận dụng và Củng cố: Các nhóm tiếp tục làm việc với các bài tập vận dụng trên phiếu học tập, bao gồm các bài tập nhận dạng, vẽ hình, tính toán đơn giản liên quan đến đường tròn ngoại tiếp/nội tiếp. Đại diện một số nhóm trình bày kết quả và cách làm. Giáo viên tổng kết, sửa lỗi, nhấn mạnh các kiến thức trọng tâm và các lỗi thường gặp.'\u001b[0m,\n",
       "\u001b[2;32m│   \u001b[0m\u001b[32m'Giai đoạn 4: Mở rộng và Giao nhiệm vụ: Giáo viên giao các bài tập về nhà, bao gồm cả bài tập cơ bản cho tất cả học sinh và bài tập nâng cao \u001b[0m\u001b[32m(\u001b[0m\u001b[32mcó tính ứng dụng hoặc yêu cầu chứng minh\u001b[0m\u001b[32m)\u001b[0m\u001b[32m cho học sinh khá giỏi. Gợi ý các nguồn tài liệu để học sinh tự tìm hiểu thêm về ứng dụng của đường tròn trong thực tế.'\u001b[0m\n",
       "\u001b[1m]\u001b[0m\n"
      ]
     },
     "metadata": {},
     "output_type": "display_data"
    },
    {
     "data": {
      "text/html": [
       "<pre style=\"white-space:pre;overflow-x:auto;line-height:normal;font-family:Menlo,'DejaVu Sans Mono',consolas,'Courier New',monospace\">\n",
       "<span style=\"color: #808000; text-decoration-color: #808000; font-weight: bold\">------- Hoàn thành bước: pedagogical_architect -------</span>\n",
       "</pre>\n"
      ],
      "text/plain": [
       "\n",
       "\u001b[1;33m------- Hoàn thành bước: pedagogical_architect -------\u001b[0m\n"
      ]
     },
     "metadata": {},
     "output_type": "display_data"
    },
    {
     "data": {
      "text/html": [
       "<pre style=\"white-space:pre;overflow-x:auto;line-height:normal;font-family:Menlo,'DejaVu Sans Mono',consolas,'Courier New',monospace\">\n",
       "<span style=\"color: #008080; text-decoration-color: #008080; font-weight: bold\">&gt;</span> `Agent: Query Expansion` <span style=\"font-weight: bold\">(</span>v7.<span style=\"color: #008080; text-decoration-color: #008080; font-weight: bold\">5</span><span style=\"font-weight: bold\">)</span> đang phân tích yêu cầu<span style=\"color: #808000; text-decoration-color: #808000\">...</span>\n",
       "</pre>\n"
      ],
      "text/plain": [
       "\n",
       "\u001b[1;36m>\u001b[0m `Agent: Query Expansion` \u001b[1m(\u001b[0mv7.\u001b[1;36m5\u001b[0m\u001b[1m)\u001b[0m đang phân tích yêu cầu\u001b[33m...\u001b[0m\n"
      ]
     },
     "metadata": {},
     "output_type": "display_data"
    },
    {
     "data": {
      "text/html": [
       "<pre style=\"white-space:pre;overflow-x:auto;line-height:normal;font-family:Menlo,'DejaVu Sans Mono',consolas,'Courier New',monospace\">\n",
       "<span style=\"color: #008080; text-decoration-color: #008080; font-weight: bold\">&gt;</span> `Agent: Resource Scout` <span style=\"font-weight: bold\">(</span>v8.<span style=\"color: #008080; text-decoration-color: #008080; font-weight: bold\">1</span> - Sửa lỗi<span style=\"font-weight: bold\">)</span> đang tìm kiếm và sàng lọc<span style=\"color: #808000; text-decoration-color: #808000\">...</span>\n",
       "</pre>\n"
      ],
      "text/plain": [
       "\n",
       "\u001b[1;36m>\u001b[0m `Agent: Resource Scout` \u001b[1m(\u001b[0mv8.\u001b[1;36m1\u001b[0m - Sửa lỗi\u001b[1m)\u001b[0m đang tìm kiếm và sàng lọc\u001b[33m...\u001b[0m\n"
      ]
     },
     "metadata": {},
     "output_type": "display_data"
    },
    {
     "data": {
      "text/html": [
       "<pre style=\"white-space:pre;overflow-x:auto;line-height:normal;font-family:Menlo,'DejaVu Sans Mono',consolas,'Courier New',monospace\">\n",
       "<span style=\"color: #008080; text-decoration-color: #008080; font-weight: bold\">&gt;</span> Tìm thấy <span style=\"color: #008080; text-decoration-color: #008080; font-weight: bold\">75</span> tài liệu, sàng lọc còn <span style=\"color: #008080; text-decoration-color: #008080; font-weight: bold\">8</span> đoạn văn bản độc nhất.\n",
       "</pre>\n"
      ],
      "text/plain": [
       "\n",
       "\u001b[1;36m>\u001b[0m Tìm thấy \u001b[1;36m75\u001b[0m tài liệu, sàng lọc còn \u001b[1;36m8\u001b[0m đoạn văn bản độc nhất.\n"
      ]
     },
     "metadata": {},
     "output_type": "display_data"
    },
    {
     "data": {
      "text/html": [
       "<pre style=\"white-space:pre;overflow-x:auto;line-height:normal;font-family:Menlo,'DejaVu Sans Mono',consolas,'Courier New',monospace\"><span style=\"color: #008000; text-decoration-color: #008000; font-weight: bold\">✔️ Các truy vấn tìm kiếm đã được mở rộng:</span>\n",
       "</pre>\n"
      ],
      "text/plain": [
       "\u001b[1;32m✔️ Các truy vấn tìm kiếm đã được mở rộng:\u001b[0m\n"
      ]
     },
     "metadata": {},
     "output_type": "display_data"
    },
    {
     "data": {
      "text/html": [
       "<pre style=\"white-space:pre;overflow-x:auto;line-height:normal;font-family:Menlo,'DejaVu Sans Mono',consolas,'Courier New',monospace\"><span style=\"font-weight: bold\">[</span>\n",
       "<span style=\"color: #7fbf7f; text-decoration-color: #7fbf7f\">│   </span><span style=\"color: #008000; text-decoration-color: #008000\">'đường tròn ngoại tiếp và nội tiếp'</span>,\n",
       "<span style=\"color: #7fbf7f; text-decoration-color: #7fbf7f\">│   </span><span style=\"color: #008000; text-decoration-color: #008000\">'công thức đường tròn ngoại tiếp tam giác'</span>,\n",
       "<span style=\"color: #7fbf7f; text-decoration-color: #7fbf7f\">│   </span><span style=\"color: #008000; text-decoration-color: #008000\">'công thức đường tròn nội tiếp tam giác'</span>,\n",
       "<span style=\"color: #7fbf7f; text-decoration-color: #7fbf7f\">│   </span><span style=\"color: #008000; text-decoration-color: #008000\">'tính bán kính đường tròn ngoại tiếp'</span>,\n",
       "<span style=\"color: #7fbf7f; text-decoration-color: #7fbf7f\">│   </span><span style=\"color: #008000; text-decoration-color: #008000\">'tính bán kính đường tròn nội tiếp'</span>,\n",
       "<span style=\"color: #7fbf7f; text-decoration-color: #7fbf7f\">│   </span><span style=\"color: #008000; text-decoration-color: #008000\">'bài tập đường tròn ngoại tiếp nội tiếp lớp 9'</span>,\n",
       "<span style=\"color: #7fbf7f; text-decoration-color: #7fbf7f\">│   </span><span style=\"color: #008000; text-decoration-color: #008000\">'chuyên đề đường tròn ngoại tiếp và nội tiếp'</span>,\n",
       "<span style=\"color: #7fbf7f; text-decoration-color: #7fbf7f\">│   </span><span style=\"color: #008000; text-decoration-color: #008000\">'lý thuyết đường tròn ngoại tiếp tam giác'</span>,\n",
       "<span style=\"color: #7fbf7f; text-decoration-color: #7fbf7f\">│   </span><span style=\"color: #008000; text-decoration-color: #008000\">'lý thuyết đường tròn nội tiếp tam giác'</span>,\n",
       "<span style=\"color: #7fbf7f; text-decoration-color: #7fbf7f\">│   </span><span style=\"color: #008000; text-decoration-color: #008000\">'tâm đường tròn ngoại tiếp là gì'</span>,\n",
       "<span style=\"color: #7fbf7f; text-decoration-color: #7fbf7f\">│   </span><span style=\"color: #008000; text-decoration-color: #008000\">'tâm đường tròn nội tiếp là gì'</span>,\n",
       "<span style=\"color: #7fbf7f; text-decoration-color: #7fbf7f\">│   </span><span style=\"color: #008000; text-decoration-color: #008000\">'ứng dụng đường tròn ngoại tiếp nội tiếp'</span>,\n",
       "<span style=\"color: #7fbf7f; text-decoration-color: #7fbf7f\">│   </span><span style=\"color: #008000; text-decoration-color: #008000\">'phương pháp giải bài tập đường tròn ngoại tiếp'</span>,\n",
       "<span style=\"color: #7fbf7f; text-decoration-color: #7fbf7f\">│   </span><span style=\"color: #008000; text-decoration-color: #008000\">'phương pháp giải bài tập đường tròn nội tiếp'</span>,\n",
       "<span style=\"color: #7fbf7f; text-decoration-color: #7fbf7f\">│   </span><span style=\"color: #008000; text-decoration-color: #008000\">'quan hệ giữa đường tròn ngoại tiếp và nội tiếp'</span>,\n",
       "<span style=\"color: #7fbf7f; text-decoration-color: #7fbf7f\">│   </span><span style=\"color: #008000; text-decoration-color: #008000\">'đường tròn ngoại tiếp tam giác vuông'</span>,\n",
       "<span style=\"color: #7fbf7f; text-decoration-color: #7fbf7f\">│   </span><span style=\"color: #008000; text-decoration-color: #008000\">'đường tròn nội tiếp tam giác đều'</span>,\n",
       "<span style=\"color: #7fbf7f; text-decoration-color: #7fbf7f\">│   </span><span style=\"color: #008000; text-decoration-color: #008000\">'đường tròn ngoại tiếp tứ giác'</span>,\n",
       "<span style=\"color: #7fbf7f; text-decoration-color: #7fbf7f\">│   </span><span style=\"color: #008000; text-decoration-color: #008000\">'bài toán đường tròn ngoại tiếp và nội tiếp nâng cao'</span>,\n",
       "<span style=\"color: #7fbf7f; text-decoration-color: #7fbf7f\">│   </span><span style=\"color: #008000; text-decoration-color: #008000\">'sách giáo khoa đường tròn ngoại tiếp nội tiếp'</span>\n",
       "<span style=\"font-weight: bold\">]</span>\n",
       "</pre>\n"
      ],
      "text/plain": [
       "\u001b[1m[\u001b[0m\n",
       "\u001b[2;32m│   \u001b[0m\u001b[32m'đường tròn ngoại tiếp và nội tiếp'\u001b[0m,\n",
       "\u001b[2;32m│   \u001b[0m\u001b[32m'công thức đường tròn ngoại tiếp tam giác'\u001b[0m,\n",
       "\u001b[2;32m│   \u001b[0m\u001b[32m'công thức đường tròn nội tiếp tam giác'\u001b[0m,\n",
       "\u001b[2;32m│   \u001b[0m\u001b[32m'tính bán kính đường tròn ngoại tiếp'\u001b[0m,\n",
       "\u001b[2;32m│   \u001b[0m\u001b[32m'tính bán kính đường tròn nội tiếp'\u001b[0m,\n",
       "\u001b[2;32m│   \u001b[0m\u001b[32m'bài tập đường tròn ngoại tiếp nội tiếp lớp 9'\u001b[0m,\n",
       "\u001b[2;32m│   \u001b[0m\u001b[32m'chuyên đề đường tròn ngoại tiếp và nội tiếp'\u001b[0m,\n",
       "\u001b[2;32m│   \u001b[0m\u001b[32m'lý thuyết đường tròn ngoại tiếp tam giác'\u001b[0m,\n",
       "\u001b[2;32m│   \u001b[0m\u001b[32m'lý thuyết đường tròn nội tiếp tam giác'\u001b[0m,\n",
       "\u001b[2;32m│   \u001b[0m\u001b[32m'tâm đường tròn ngoại tiếp là gì'\u001b[0m,\n",
       "\u001b[2;32m│   \u001b[0m\u001b[32m'tâm đường tròn nội tiếp là gì'\u001b[0m,\n",
       "\u001b[2;32m│   \u001b[0m\u001b[32m'ứng dụng đường tròn ngoại tiếp nội tiếp'\u001b[0m,\n",
       "\u001b[2;32m│   \u001b[0m\u001b[32m'phương pháp giải bài tập đường tròn ngoại tiếp'\u001b[0m,\n",
       "\u001b[2;32m│   \u001b[0m\u001b[32m'phương pháp giải bài tập đường tròn nội tiếp'\u001b[0m,\n",
       "\u001b[2;32m│   \u001b[0m\u001b[32m'quan hệ giữa đường tròn ngoại tiếp và nội tiếp'\u001b[0m,\n",
       "\u001b[2;32m│   \u001b[0m\u001b[32m'đường tròn ngoại tiếp tam giác vuông'\u001b[0m,\n",
       "\u001b[2;32m│   \u001b[0m\u001b[32m'đường tròn nội tiếp tam giác đều'\u001b[0m,\n",
       "\u001b[2;32m│   \u001b[0m\u001b[32m'đường tròn ngoại tiếp tứ giác'\u001b[0m,\n",
       "\u001b[2;32m│   \u001b[0m\u001b[32m'bài toán đường tròn ngoại tiếp và nội tiếp nâng cao'\u001b[0m,\n",
       "\u001b[2;32m│   \u001b[0m\u001b[32m'sách giáo khoa đường tròn ngoại tiếp nội tiếp'\u001b[0m\n",
       "\u001b[1m]\u001b[0m\n"
      ]
     },
     "metadata": {},
     "output_type": "display_data"
    },
    {
     "data": {
      "text/html": [
       "<pre style=\"white-space:pre;overflow-x:auto;line-height:normal;font-family:Menlo,'DejaVu Sans Mono',consolas,'Courier New',monospace\">\n",
       "<span style=\"color: #808000; text-decoration-color: #808000; font-weight: bold\">------- Hoàn thành bước: query_expansion -------</span>\n",
       "</pre>\n"
      ],
      "text/plain": [
       "\n",
       "\u001b[1;33m------- Hoàn thành bước: query_expansion -------\u001b[0m\n"
      ]
     },
     "metadata": {},
     "output_type": "display_data"
    },
    {
     "data": {
      "text/html": [
       "<pre style=\"white-space:pre;overflow-x:auto;line-height:normal;font-family:Menlo,'DejaVu Sans Mono',consolas,'Courier New',monospace\"><span style=\"color: #008000; text-decoration-color: #008000; font-weight: bold\">✔️ Tài liệu RAG cuối cùng:</span>\n",
       "</pre>\n"
      ],
      "text/plain": [
       "\u001b[1;32m✔️ Tài liệu RAG cuối cùng:\u001b[0m\n"
      ]
     },
     "metadata": {},
     "output_type": "display_data"
    },
    {
     "data": {
      "text/html": [
       "<pre style=\"white-space:pre;overflow-x:auto;line-height:normal;font-family:Menlo,'DejaVu Sans Mono',consolas,'Courier New',monospace\"><span style=\"font-weight: bold\">{</span>\n",
       "<span style=\"color: #7fbf7f; text-decoration-color: #7fbf7f\">│   </span><span style=\"color: #008000; text-decoration-color: #008000\">'source'</span>: <span style=\"color: #008000; text-decoration-color: #008000\">'Sách giáo khoa (từ RAG - đã sàng lọc)'</span>,\n",
       "<span style=\"color: #7fbf7f; text-decoration-color: #7fbf7f\">│   </span><span style=\"color: #008000; text-decoration-color: #008000\">'summary'</span>: <span style=\"color: #008000; text-decoration-color: #008000\">'Chào em,\\n\\nVới vai trò là một giáo viên giàu kinh nghiệm, thầy đã đọc kỹ các đoạn văn bản em cung cấp. Dựa trên **chỉ** những thông tin có trong các đoạn văn bản này, thầy xin tổng hợp lại kiến thức cốt lõi về đường tròn và các mối quan hệ của chúng. Em lưu ý rằng, các khái niệm \"đường tròn ngoại tiếp\" và \"đường tròn nội tiếp\" không được định nghĩa trực tiếp trong các đoạn văn bản này, nhưng các kiến thức về vị trí tương đối và tiếp tuyến là rất quan trọng.\\n\\nDưới đây là bản tóm tắt kiến thức cốt lõi:\\n\\n---\\n\\n**TÓM TẮT KIẾN THỨC CỐT LÕI VỀ ĐƯỜNG TRÒN VÀ VỊ TRÍ TƯƠNG ĐỐI**\\n\\n**1. Vị trí tương đối của đường thẳng và đường tròn**\\n\\n*   **1.1. Định nghĩa:**\\n    *   **Cắt nhau:** Đường thẳng và đường tròn có đúng hai điểm chung.\\n    *   **Tiếp xúc với nhau:** Đường thẳng và đường tròn có đúng một điểm chung. Điểm chung này gọi là **tiếp điểm**. Khi đó, đường thẳng còn được gọi là **tiếp tuyến** của đường tròn tại tiếp điểm đó.\\n    *   **Không giao nhau:** Đường thẳng và đường tròn không có điểm chung nào.\\n\\n*   **1.2. Dấu hiệu nhận biết (qua khoảng cách từ tâm đến đường thẳng):**\\n    Cho đường tròn (O; R) và đường thẳng a. Gọi d là khoảng cách từ tâm O đến đường thẳng a.\\n    *   Đường thẳng a và đường tròn (O; R) **cắt nhau** khi $d &lt; R$.\\n    *   Đường thẳng a và đường tròn (O; R) **tiếp xúc với nhau** khi $d = R$.\\n    *   Đường thẳng a và đường tròn (O; R) **không giao nhau** khi $d &gt; R$.\\n\\n**2. Dấu hiệu nhận biết tiếp tuyến của đường tròn**\\n\\n*   **Định lí 1:** Nếu một đường thẳng đi qua một điểm trên một đường tròn và vuông góc với bán kính đi qua điểm đó thì đường thẳng ấy là một tiếp tuyến của đường tròn.\\n\\n**3. Một số tính chất của tiếp tuyến (từ bài tập)**\\n\\n*   Cho đường tròn (O) đường kính AB. Tiếp tuyến xx\\' tại A và tiếp tuyến yy\\' tại B. Một tiếp tuyến thứ ba của (O) tại điểm P (P khác A và B) cắt xx\\' tại M và cắt yy\\' tại N.\\n    *   Đoạn thẳng MN bằng tổng độ dài hai đoạn thẳng MA và NB: $MN = MA + NB$.\\n    *   Nếu đường thẳng đi qua O và vuông góc với AB cắt MN tại Q, thì Q là trung điểm của đoạn MN.\\n\\n**4. Vị trí tương đối của hai đường tròn**\\n\\n*   **4.1. Các trường hợp:**\\n    *   **Cắt nhau:** Hai đường tròn có hai điểm chung.\\n    *   **Tiếp xúc ngoài:** Hai đường tròn có một điểm chung duy nhất và nằm ở hai phía khác nhau của đường nối tâm.\\n    *   **Tiếp xúc trong:** Hai đường tròn có một điểm chung duy nhất và một đường tròn nằm hoàn toàn bên trong đường tròn kia (trừ điểm chung).\\n    *   **Không giao nhau:** Hai đường tròn không có điểm chung nào. Có thể là nằm ngoài nhau hoặc một đường tròn nằm hoàn toàn bên trong đường tròn kia (không tiếp xúc).\\n\\n*   **4.2. Mối liên hệ với khoảng cách giữa hai tâm và bán kính (từ bài tập):**\\n    Cho hai đường tròn (O; R) và (O\\'; r). Gọi OO\\' là khoảng cách giữa hai tâm.\\n    *   Nếu hai đường tròn **tiếp xúc ngoài** tại A, thì khoảng cách giữa hai tâm bằng tổng hai bán kính: $OO\\' = R + r$.\\n    *   Nếu hai đường tròn **tiếp xúc trong** tại A, thì khoảng cách giữa hai tâm bằng hiệu tuyệt đối hai bán kính: $OO\\' = |R - r|$.\\n    *   Nếu hai đường tròn **cắt nhau**, thì khoảng cách giữa hai tâm nằm giữa hiệu và tổng hai bán kính: $|R - r| &lt; OO\\' &lt; R + r$.\\n    *   Nếu hai đường tròn **không giao nhau** (nằm ngoài nhau), thì khoảng cách giữa hai tâm lớn hơn tổng hai bán kính: $OO\\' &gt; R + r$.\\n    *   Nếu hai đường tròn **không giao nhau** (một đường nằm trong đường kia và không tiếp xúc), thì khoảng cách giữa hai tâm nhỏ hơn hiệu tuyệt đối hai bán kính: $OO\\' &lt; |R - r|$.\\n\\n**5. Một số khái niệm và tính chất khác liên quan đến đường tròn (từ bài tập)**\\n\\n*   **Đường kính:** Là một đoạn thẳng đi qua tâm và có hai đầu mút nằm trên đường tròn.\\n*   **Điểm đối xứng:** Nếu M là điểm đối xứng với A qua O, thì M nằm trên đường tròn (O) nếu A cũng nằm trên (O).\\n*   **Tính thẳng hàng:** Nếu hai đường tròn (O; R) và (O\\'; r) cắt nhau tại A và B, và M là điểm đối xứng với A qua O, N là điểm đối xứng với A qua O\\', thì ba điểm M, B, N thẳng hàng.\\n*   **Đường tròn đường kính AB:** Là đường tròn có đường kính là đoạn thẳng AB. Đường thẳng MN (trong ví dụ 1) tiếp xúc với đường tròn đường kính AB.\\n\\n---\\n\\nHy vọng bản tóm tắt này giúp em nắm vững các kiến thức cơ bản về đường tròn và các vị trí tương đối của chúng dựa trên tài liệu đã cho. Chúc em học tốt!'</span>\n",
       "<span style=\"font-weight: bold\">}</span>\n",
       "</pre>\n"
      ],
      "text/plain": [
       "\u001b[1m{\u001b[0m\n",
       "\u001b[2;32m│   \u001b[0m\u001b[32m'source'\u001b[0m: \u001b[32m'Sách giáo khoa \u001b[0m\u001b[32m(\u001b[0m\u001b[32mtừ RAG - đã sàng lọc\u001b[0m\u001b[32m)\u001b[0m\u001b[32m'\u001b[0m,\n",
       "\u001b[2;32m│   \u001b[0m\u001b[32m'summary'\u001b[0m: \u001b[32m'Chào em,\\n\\nVới vai trò là một giáo viên giàu kinh nghiệm, thầy đã đọc kỹ các đoạn văn bản em cung cấp. Dựa trên **chỉ** những thông tin có trong các đoạn văn bản này, thầy xin tổng hợp lại kiến thức cốt lõi về đường tròn và các mối quan hệ của chúng. Em lưu ý rằng, các khái niệm \"đường tròn ngoại tiếp\" và \"đường tròn nội tiếp\" không được định nghĩa trực tiếp trong các đoạn văn bản này, nhưng các kiến thức về vị trí tương đối và tiếp tuyến là rất quan trọng.\\n\\nDưới đây là bản tóm tắt kiến thức cốt lõi:\\n\\n---\\n\\n**TÓM TẮT KIẾN THỨC CỐT LÕI VỀ ĐƯỜNG TRÒN VÀ VỊ TRÍ TƯƠNG ĐỐI**\\n\\n**1. Vị trí tương đối của đường thẳng và đường tròn**\\n\\n*   **1.1. Định nghĩa:**\\n    *   **Cắt nhau:** Đường thẳng và đường tròn có đúng hai điểm chung.\\n    *   **Tiếp xúc với nhau:** Đường thẳng và đường tròn có đúng một điểm chung. Điểm chung này gọi là **tiếp điểm**. Khi đó, đường thẳng còn được gọi là **tiếp tuyến** của đường tròn tại tiếp điểm đó.\\n    *   **Không giao nhau:** Đường thẳng và đường tròn không có điểm chung nào.\\n\\n*   **1.2. Dấu hiệu nhận biết \u001b[0m\u001b[32m(\u001b[0m\u001b[32mqua khoảng cách từ tâm đến đường thẳng\u001b[0m\u001b[32m)\u001b[0m\u001b[32m:**\\n    Cho đường tròn \u001b[0m\u001b[32m(\u001b[0m\u001b[32mO; R\u001b[0m\u001b[32m)\u001b[0m\u001b[32m và đường thẳng a. Gọi d là khoảng cách từ tâm O đến đường thẳng a.\\n    *   Đường thẳng a và đường tròn \u001b[0m\u001b[32m(\u001b[0m\u001b[32mO; R\u001b[0m\u001b[32m)\u001b[0m\u001b[32m **cắt nhau** khi $d \u001b[0m\u001b[32m<\u001b[0m\u001b[32m R$.\\n    *   Đường thẳng a và đường tròn \u001b[0m\u001b[32m(\u001b[0m\u001b[32mO; R\u001b[0m\u001b[32m)\u001b[0m\u001b[32m **tiếp xúc với nhau** khi $d = R$.\\n    *   Đường thẳng a và đường tròn \u001b[0m\u001b[32m(\u001b[0m\u001b[32mO; R\u001b[0m\u001b[32m)\u001b[0m\u001b[32m **không giao nhau** khi $d > R$.\\n\\n**2. Dấu hiệu nhận biết tiếp tuyến của đường tròn**\\n\\n*   **Định lí 1:** Nếu một đường thẳng đi qua một điểm trên một đường tròn và vuông góc với bán kính đi qua điểm đó thì đường thẳng ấy là một tiếp tuyến của đường tròn.\\n\\n**3. Một số tính chất của tiếp tuyến \u001b[0m\u001b[32m(\u001b[0m\u001b[32mtừ bài tập\u001b[0m\u001b[32m)\u001b[0m\u001b[32m**\\n\\n*   Cho đường tròn \u001b[0m\u001b[32m(\u001b[0m\u001b[32mO\u001b[0m\u001b[32m)\u001b[0m\u001b[32m đường kính AB. Tiếp tuyến xx\\' tại A và tiếp tuyến yy\\' tại B. Một tiếp tuyến thứ ba của \u001b[0m\u001b[32m(\u001b[0m\u001b[32mO\u001b[0m\u001b[32m)\u001b[0m\u001b[32m tại điểm P \u001b[0m\u001b[32m(\u001b[0m\u001b[32mP khác A và B\u001b[0m\u001b[32m)\u001b[0m\u001b[32m cắt xx\\' tại M và cắt yy\\' tại N.\\n    *   Đoạn thẳng MN bằng tổng độ dài hai đoạn thẳng MA và NB: $MN = MA + NB$.\\n    *   Nếu đường thẳng đi qua O và vuông góc với AB cắt MN tại Q, thì Q là trung điểm của đoạn MN.\\n\\n**4. Vị trí tương đối của hai đường tròn**\\n\\n*   **4.1. Các trường hợp:**\\n    *   **Cắt nhau:** Hai đường tròn có hai điểm chung.\\n    *   **Tiếp xúc ngoài:** Hai đường tròn có một điểm chung duy nhất và nằm ở hai phía khác nhau của đường nối tâm.\\n    *   **Tiếp xúc trong:** Hai đường tròn có một điểm chung duy nhất và một đường tròn nằm hoàn toàn bên trong đường tròn kia \u001b[0m\u001b[32m(\u001b[0m\u001b[32mtrừ điểm chung\u001b[0m\u001b[32m)\u001b[0m\u001b[32m.\\n    *   **Không giao nhau:** Hai đường tròn không có điểm chung nào. Có thể là nằm ngoài nhau hoặc một đường tròn nằm hoàn toàn bên trong đường tròn kia \u001b[0m\u001b[32m(\u001b[0m\u001b[32mkhông tiếp xúc\u001b[0m\u001b[32m)\u001b[0m\u001b[32m.\\n\\n*   **4.2. Mối liên hệ với khoảng cách giữa hai tâm và bán kính \u001b[0m\u001b[32m(\u001b[0m\u001b[32mtừ bài tập\u001b[0m\u001b[32m)\u001b[0m\u001b[32m:**\\n    Cho hai đường tròn \u001b[0m\u001b[32m(\u001b[0m\u001b[32mO; R\u001b[0m\u001b[32m)\u001b[0m\u001b[32m và \u001b[0m\u001b[32m(\u001b[0m\u001b[32mO\\'; r\u001b[0m\u001b[32m)\u001b[0m\u001b[32m. Gọi OO\\' là khoảng cách giữa hai tâm.\\n    *   Nếu hai đường tròn **tiếp xúc ngoài** tại A, thì khoảng cách giữa hai tâm bằng tổng hai bán kính: $OO\\' = R + r$.\\n    *   Nếu hai đường tròn **tiếp xúc trong** tại A, thì khoảng cách giữa hai tâm bằng hiệu tuyệt đối hai bán kính: $OO\\' = |R - r|$.\\n    *   Nếu hai đường tròn **cắt nhau**, thì khoảng cách giữa hai tâm nằm giữa hiệu và tổng hai bán kính: $|R - r| < OO\\' < R + r$.\\n    *   Nếu hai đường tròn **không giao nhau** \u001b[0m\u001b[32m(\u001b[0m\u001b[32mnằm ngoài nhau\u001b[0m\u001b[32m)\u001b[0m\u001b[32m, thì khoảng cách giữa hai tâm lớn hơn tổng hai bán kính: $OO\\' \u001b[0m\u001b[32m>\u001b[0m\u001b[32m R + r$.\\n    *   Nếu hai đường tròn **không giao nhau** \u001b[0m\u001b[32m(\u001b[0m\u001b[32mmột đường nằm trong đường kia và không tiếp xúc\u001b[0m\u001b[32m)\u001b[0m\u001b[32m, thì khoảng cách giữa hai tâm nhỏ hơn hiệu tuyệt đối hai bán kính: $OO\\' < |R - r|$.\\n\\n**5. Một số khái niệm và tính chất khác liên quan đến đường tròn \u001b[0m\u001b[32m(\u001b[0m\u001b[32mtừ bài tập\u001b[0m\u001b[32m)\u001b[0m\u001b[32m**\\n\\n*   **Đường kính:** Là một đoạn thẳng đi qua tâm và có hai đầu mút nằm trên đường tròn.\\n*   **Điểm đối xứng:** Nếu M là điểm đối xứng với A qua O, thì M nằm trên đường tròn \u001b[0m\u001b[32m(\u001b[0m\u001b[32mO\u001b[0m\u001b[32m)\u001b[0m\u001b[32m nếu A cũng nằm trên \u001b[0m\u001b[32m(\u001b[0m\u001b[32mO\u001b[0m\u001b[32m)\u001b[0m\u001b[32m.\\n*   **Tính thẳng hàng:** Nếu hai đường tròn \u001b[0m\u001b[32m(\u001b[0m\u001b[32mO; R\u001b[0m\u001b[32m)\u001b[0m\u001b[32m và \u001b[0m\u001b[32m(\u001b[0m\u001b[32mO\\'; r\u001b[0m\u001b[32m)\u001b[0m\u001b[32m cắt nhau tại A và B, và M là điểm đối xứng với A qua O, N là điểm đối xứng với A qua O\\', thì ba điểm M, B, N thẳng hàng.\\n*   **Đường tròn đường kính AB:** Là đường tròn có đường kính là đoạn thẳng AB. Đường thẳng MN \u001b[0m\u001b[32m(\u001b[0m\u001b[32mtrong ví dụ 1\u001b[0m\u001b[32m)\u001b[0m\u001b[32m tiếp xúc với đường tròn đường kính AB.\\n\\n---\\n\\nHy vọng bản tóm tắt này giúp em nắm vững các kiến thức cơ bản về đường tròn và các vị trí tương đối của chúng dựa trên tài liệu đã cho. Chúc em học tốt!'\u001b[0m\n",
       "\u001b[1m}\u001b[0m\n"
      ]
     },
     "metadata": {},
     "output_type": "display_data"
    },
    {
     "data": {
      "text/html": [
       "<pre style=\"white-space:pre;overflow-x:auto;line-height:normal;font-family:Menlo,'DejaVu Sans Mono',consolas,'Courier New',monospace\">\n",
       "<span style=\"color: #808000; text-decoration-color: #808000; font-weight: bold\">------- Hoàn thành bước: resource_scout -------</span>\n",
       "</pre>\n"
      ],
      "text/plain": [
       "\n",
       "\u001b[1;33m------- Hoàn thành bước: resource_scout -------\u001b[0m\n"
      ]
     },
     "metadata": {},
     "output_type": "display_data"
    },
    {
     "data": {
      "text/html": [
       "<pre style=\"white-space:pre;overflow-x:auto;line-height:normal;font-family:Menlo,'DejaVu Sans Mono',consolas,'Courier New',monospace\">\n",
       "<span style=\"color: #008080; text-decoration-color: #008080; font-weight: bold\">&gt;</span> `Agent: Plan Delegator` <span style=\"font-weight: bold\">(</span>v9.<span style=\"color: #008080; text-decoration-color: #008080; font-weight: bold\">4</span><span style=\"font-weight: bold\">)</span> đang triển khai hoặc điều chỉnh Bản thiết kế<span style=\"color: #808000; text-decoration-color: #808000\">...</span>\n",
       "</pre>\n"
      ],
      "text/plain": [
       "\n",
       "\u001b[1;36m>\u001b[0m `Agent: Plan Delegator` \u001b[1m(\u001b[0mv9.\u001b[1;36m4\u001b[0m\u001b[1m)\u001b[0m đang triển khai hoặc điều chỉnh Bản thiết kế\u001b[33m...\u001b[0m\n"
      ]
     },
     "metadata": {},
     "output_type": "display_data"
    },
    {
     "data": {
      "text/html": [
       "<pre style=\"white-space:pre;overflow-x:auto;line-height:normal;font-family:Menlo,'DejaVu Sans Mono',consolas,'Courier New',monospace\">\n",
       "<span style=\"color: #008080; text-decoration-color: #008080; font-weight: bold\">&gt;</span> `Agent: Resource Scout` <span style=\"font-weight: bold\">(</span>v8.<span style=\"color: #008080; text-decoration-color: #008080; font-weight: bold\">1</span> - Sửa lỗi<span style=\"font-weight: bold\">)</span> đang tìm kiếm và sàng lọc<span style=\"color: #808000; text-decoration-color: #808000\">...</span>\n",
       "</pre>\n"
      ],
      "text/plain": [
       "\n",
       "\u001b[1;36m>\u001b[0m `Agent: Resource Scout` \u001b[1m(\u001b[0mv8.\u001b[1;36m1\u001b[0m - Sửa lỗi\u001b[1m)\u001b[0m đang tìm kiếm và sàng lọc\u001b[33m...\u001b[0m\n"
      ]
     },
     "metadata": {},
     "output_type": "display_data"
    },
    {
     "data": {
      "text/html": [
       "<pre style=\"white-space:pre;overflow-x:auto;line-height:normal;font-family:Menlo,'DejaVu Sans Mono',consolas,'Courier New',monospace\">\n",
       "<span style=\"color: #008080; text-decoration-color: #008080; font-weight: bold\">&gt;</span> Tìm thấy <span style=\"color: #008080; text-decoration-color: #008080; font-weight: bold\">100</span> tài liệu, sàng lọc còn <span style=\"color: #008080; text-decoration-color: #008080; font-weight: bold\">8</span> đoạn văn bản độc nhất.\n",
       "</pre>\n"
      ],
      "text/plain": [
       "\n",
       "\u001b[1;36m>\u001b[0m Tìm thấy \u001b[1;36m100\u001b[0m tài liệu, sàng lọc còn \u001b[1;36m8\u001b[0m đoạn văn bản độc nhất.\n"
      ]
     },
     "metadata": {},
     "output_type": "display_data"
    },
    {
     "data": {
      "text/html": [
       "<pre style=\"white-space:pre;overflow-x:auto;line-height:normal;font-family:Menlo,'DejaVu Sans Mono',consolas,'Courier New',monospace\"><span style=\"color: #008000; text-decoration-color: #008000; font-weight: bold\">✔️ Đã tạo </span><span style=\"color: #008000; text-decoration-color: #008000; font-weight: bold\">8</span><span style=\"color: #008000; text-decoration-color: #008000; font-weight: bold\"> nhiệm vụ chi tiết (lần chạy lại):</span>\n",
       "</pre>\n"
      ],
      "text/plain": [
       "\u001b[1;32m✔️ Đã tạo \u001b[0m\u001b[1;32m8\u001b[0m\u001b[1;32m nhiệm vụ chi tiết \u001b[0m\u001b[1;32m(\u001b[0m\u001b[1;32mlần chạy lại\u001b[0m\u001b[1;32m)\u001b[0m\u001b[1;32m:\u001b[0m\n"
      ]
     },
     "metadata": {},
     "output_type": "display_data"
    },
    {
     "data": {
      "text/html": [
       "<pre style=\"white-space:pre;overflow-x:auto;line-height:normal;font-family:Menlo,'DejaVu Sans Mono',consolas,'Courier New',monospace\"><span style=\"font-weight: bold\">[</span>\n",
       "<span style=\"color: #7fbf7f; text-decoration-color: #7fbf7f\">│   </span><span style=\"font-weight: bold\">{</span>\n",
       "<span style=\"color: #7fbf7f; text-decoration-color: #7fbf7f\">│   │   </span><span style=\"color: #008000; text-decoration-color: #008000\">'task_id'</span>: <span style=\"color: #008080; text-decoration-color: #008080; font-weight: bold\">0</span>,\n",
       "<span style=\"color: #7fbf7f; text-decoration-color: #7fbf7f\">│   │   </span><span style=\"color: #008000; text-decoration-color: #008000\">'task_name'</span>: <span style=\"color: #008000; text-decoration-color: #008000\">'Ôn tập kiến thức cũ và đặt vấn đề'</span>,\n",
       "<span style=\"color: #7fbf7f; text-decoration-color: #7fbf7f\">│   │   </span><span style=\"color: #008000; text-decoration-color: #008000\">'task_description'</span>: <span style=\"color: #008000; text-decoration-color: #008000\">'Học sinh quan sát hình ảnh/video về các vật thể có dạng đường tròn và tam giác trong thực tế, sau đó trả lời các câu hỏi gợi mở của giáo viên về định nghĩa, tính chất cơ bản của đường tròn và tam giác đã học. Giáo viên đặt vấn đề về mối quan hệ giữa đường tròn và tam giác, dẫn dắt vào bài mới.'</span>,\n",
       "<span style=\"color: #7fbf7f; text-decoration-color: #7fbf7f\">│   │   </span><span style=\"color: #008000; text-decoration-color: #008000\">'estimated_duration'</span>: <span style=\"color: #008080; text-decoration-color: #008080; font-weight: bold\">5</span>,\n",
       "<span style=\"color: #7fbf7f; text-decoration-color: #7fbf7f\">│   │   </span><span style=\"color: #008000; text-decoration-color: #008000\">'status'</span>: <span style=\"color: #008000; text-decoration-color: #008000\">'pending'</span>\n",
       "<span style=\"color: #7fbf7f; text-decoration-color: #7fbf7f\">│   </span><span style=\"font-weight: bold\">}</span>,\n",
       "<span style=\"color: #7fbf7f; text-decoration-color: #7fbf7f\">│   </span><span style=\"font-weight: bold\">{</span>\n",
       "<span style=\"color: #7fbf7f; text-decoration-color: #7fbf7f\">│   │   </span><span style=\"color: #008000; text-decoration-color: #008000\">'task_id'</span>: <span style=\"color: #008080; text-decoration-color: #008080; font-weight: bold\">1</span>,\n",
       "<span style=\"color: #7fbf7f; text-decoration-color: #7fbf7f\">│   │   </span><span style=\"color: #008000; text-decoration-color: #008000\">'task_name'</span>: <span style=\"color: #008000; text-decoration-color: #008000\">'Tổ chức nhóm học tập'</span>,\n",
       "<span style=\"color: #7fbf7f; text-decoration-color: #7fbf7f\">│   │   </span><span style=\"color: #008000; text-decoration-color: #008000\">'task_description'</span>: <span style=\"color: #008000; text-decoration-color: #008000\">'Học sinh nhanh chóng di chuyển và ổn định vị trí theo các nhóm học tập hỗn hợp đã được giáo viên phân công từ trước, chuẩn bị sẵn sàng cho các hoạt động nhóm.'</span>,\n",
       "<span style=\"color: #7fbf7f; text-decoration-color: #7fbf7f\">│   │   </span><span style=\"color: #008000; text-decoration-color: #008000\">'estimated_duration'</span>: <span style=\"color: #008080; text-decoration-color: #008080; font-weight: bold\">5</span>,\n",
       "<span style=\"color: #7fbf7f; text-decoration-color: #7fbf7f\">│   │   </span><span style=\"color: #008000; text-decoration-color: #008000\">'status'</span>: <span style=\"color: #008000; text-decoration-color: #008000\">'pending'</span>\n",
       "<span style=\"color: #7fbf7f; text-decoration-color: #7fbf7f\">│   </span><span style=\"font-weight: bold\">}</span>,\n",
       "<span style=\"color: #7fbf7f; text-decoration-color: #7fbf7f\">│   </span><span style=\"font-weight: bold\">{</span>\n",
       "<span style=\"color: #7fbf7f; text-decoration-color: #7fbf7f\">│   │   </span><span style=\"color: #008000; text-decoration-color: #008000\">'task_id'</span>: <span style=\"color: #008080; text-decoration-color: #008080; font-weight: bold\">2</span>,\n",
       "<span style=\"color: #7fbf7f; text-decoration-color: #7fbf7f\">│   │   </span><span style=\"color: #008000; text-decoration-color: #008000\">'task_name'</span>: <span style=\"color: #008000; text-decoration-color: #008000\">'Khám phá đường tròn ngoại tiếp'</span>,\n",
       "<span style=\"color: #7fbf7f; text-decoration-color: #7fbf7f\">│   │   </span><span style=\"color: #008000; text-decoration-color: #008000\">'task_description'</span>: <span style=\"color: #008000; text-decoration-color: #008000\">'Trong nhóm, học sinh nhận phiếu học tập, thực hiện các hoạt động vẽ hình tam giác bất kỳ, xác định giao điểm của ba đường trung trực, sau đó vẽ đường tròn đi qua ba đỉnh của tam giác. Học sinh thảo luận, ghi nhận định nghĩa và tính chất của đường tròn ngoại tiếp và tâm đường tròn ngoại tiếp.'</span>,\n",
       "<span style=\"color: #7fbf7f; text-decoration-color: #7fbf7f\">│   │   </span><span style=\"color: #008000; text-decoration-color: #008000\">'estimated_duration'</span>: <span style=\"color: #008080; text-decoration-color: #008080; font-weight: bold\">20</span>,\n",
       "<span style=\"color: #7fbf7f; text-decoration-color: #7fbf7f\">│   │   </span><span style=\"color: #008000; text-decoration-color: #008000\">'status'</span>: <span style=\"color: #008000; text-decoration-color: #008000\">'pending'</span>\n",
       "<span style=\"color: #7fbf7f; text-decoration-color: #7fbf7f\">│   </span><span style=\"font-weight: bold\">}</span>,\n",
       "<span style=\"color: #7fbf7f; text-decoration-color: #7fbf7f\">│   </span><span style=\"font-weight: bold\">{</span>\n",
       "<span style=\"color: #7fbf7f; text-decoration-color: #7fbf7f\">│   │   </span><span style=\"color: #008000; text-decoration-color: #008000\">'task_id'</span>: <span style=\"color: #008080; text-decoration-color: #008080; font-weight: bold\">3</span>,\n",
       "<span style=\"color: #7fbf7f; text-decoration-color: #7fbf7f\">│   │   </span><span style=\"color: #008000; text-decoration-color: #008000\">'task_name'</span>: <span style=\"color: #008000; text-decoration-color: #008000\">'Khám phá đường tròn nội tiếp'</span>,\n",
       "<span style=\"color: #7fbf7f; text-decoration-color: #7fbf7f\">│   │   </span><span style=\"color: #008000; text-decoration-color: #008000\">'task_description'</span>: <span style=\"color: #008000; text-decoration-color: #008000\">'Trong nhóm, học sinh tiếp tục nhận phiếu học tập, thực hiện các hoạt động vẽ hình tam giác bất kỳ, xác định giao điểm của ba đường phân giác, sau đó vẽ đường tròn tiếp xúc với ba cạnh của tam giác. Học sinh thảo luận, ghi nhận định nghĩa và tính chất của đường tròn nội tiếp và tâm đường tròn nội tiếp.'</span>,\n",
       "<span style=\"color: #7fbf7f; text-decoration-color: #7fbf7f\">│   │   </span><span style=\"color: #008000; text-decoration-color: #008000\">'estimated_duration'</span>: <span style=\"color: #008080; text-decoration-color: #008080; font-weight: bold\">20</span>,\n",
       "<span style=\"color: #7fbf7f; text-decoration-color: #7fbf7f\">│   │   </span><span style=\"color: #008000; text-decoration-color: #008000\">'status'</span>: <span style=\"color: #008000; text-decoration-color: #008000\">'pending'</span>\n",
       "<span style=\"color: #7fbf7f; text-decoration-color: #7fbf7f\">│   </span><span style=\"font-weight: bold\">}</span>,\n",
       "<span style=\"color: #7fbf7f; text-decoration-color: #7fbf7f\">│   </span><span style=\"font-weight: bold\">{</span>\n",
       "<span style=\"color: #7fbf7f; text-decoration-color: #7fbf7f\">│   │   </span><span style=\"color: #008000; text-decoration-color: #008000\">'task_id'</span>: <span style=\"color: #008080; text-decoration-color: #008080; font-weight: bold\">4</span>,\n",
       "<span style=\"color: #7fbf7f; text-decoration-color: #7fbf7f\">│   │   </span><span style=\"color: #008000; text-decoration-color: #008000\">'task_name'</span>: <span style=\"color: #008000; text-decoration-color: #008000\">'Báo cáo nhanh và kiểm tra hiểu bài'</span>,\n",
       "<span style=\"color: #7fbf7f; text-decoration-color: #7fbf7f\">│   │   </span><span style=\"color: #008000; text-decoration-color: #008000\">'task_description'</span>: <span style=\"color: #008000; text-decoration-color: #008000\">'Đại diện một số nhóm trình bày ngắn gọn kết quả khám phá về định nghĩa và tính chất của đường tròn ngoại tiếp/nội tiếp. Giáo viên đặt câu hỏi nhanh để kiểm tra sự hiểu bài của các nhóm và cá nhân.'</span>,\n",
       "<span style=\"color: #7fbf7f; text-decoration-color: #7fbf7f\">│   │   </span><span style=\"color: #008000; text-decoration-color: #008000\">'estimated_duration'</span>: <span style=\"color: #008080; text-decoration-color: #008080; font-weight: bold\">5</span>,\n",
       "<span style=\"color: #7fbf7f; text-decoration-color: #7fbf7f\">│   │   </span><span style=\"color: #008000; text-decoration-color: #008000\">'status'</span>: <span style=\"color: #008000; text-decoration-color: #008000\">'pending'</span>\n",
       "<span style=\"color: #7fbf7f; text-decoration-color: #7fbf7f\">│   </span><span style=\"font-weight: bold\">}</span>,\n",
       "<span style=\"color: #7fbf7f; text-decoration-color: #7fbf7f\">│   </span><span style=\"font-weight: bold\">{</span>\n",
       "<span style=\"color: #7fbf7f; text-decoration-color: #7fbf7f\">│   │   </span><span style=\"color: #008000; text-decoration-color: #008000\">'task_id'</span>: <span style=\"color: #008080; text-decoration-color: #008080; font-weight: bold\">5</span>,\n",
       "<span style=\"color: #7fbf7f; text-decoration-color: #7fbf7f\">│   │   </span><span style=\"color: #008000; text-decoration-color: #008000\">'task_name'</span>: <span style=\"color: #008000; text-decoration-color: #008000\">'Vận dụng kiến thức qua bài tập nhóm'</span>,\n",
       "<span style=\"color: #7fbf7f; text-decoration-color: #7fbf7f\">│   │   </span><span style=\"color: #008000; text-decoration-color: #008000\">'task_description'</span>: <span style=\"color: #008000; text-decoration-color: #008000\">'Các nhóm tiếp tục làm việc với phiếu bài tập vận dụng, bao gồm các dạng bài tập nhận dạng đường tròn ngoại tiếp/nội tiếp, vẽ hình chính xác, và thực hiện các phép tính đơn giản liên quan đến bán kính hoặc vị trí tâm.'</span>,\n",
       "<span style=\"color: #7fbf7f; text-decoration-color: #7fbf7f\">│   │   </span><span style=\"color: #008000; text-decoration-color: #008000\">'estimated_duration'</span>: <span style=\"color: #008080; text-decoration-color: #008080; font-weight: bold\">20</span>,\n",
       "<span style=\"color: #7fbf7f; text-decoration-color: #7fbf7f\">│   │   </span><span style=\"color: #008000; text-decoration-color: #008000\">'status'</span>: <span style=\"color: #008000; text-decoration-color: #008000\">'pending'</span>\n",
       "<span style=\"color: #7fbf7f; text-decoration-color: #7fbf7f\">│   </span><span style=\"font-weight: bold\">}</span>,\n",
       "<span style=\"color: #7fbf7f; text-decoration-color: #7fbf7f\">│   </span><span style=\"font-weight: bold\">{</span>\n",
       "<span style=\"color: #7fbf7f; text-decoration-color: #7fbf7f\">│   │   </span><span style=\"color: #008000; text-decoration-color: #008000\">'task_id'</span>: <span style=\"color: #008080; text-decoration-color: #008080; font-weight: bold\">6</span>,\n",
       "<span style=\"color: #7fbf7f; text-decoration-color: #7fbf7f\">│   │   </span><span style=\"color: #008000; text-decoration-color: #008000\">'task_name'</span>: <span style=\"color: #008000; text-decoration-color: #008000\">'Trình bày và tổng kết'</span>,\n",
       "<span style=\"color: #7fbf7f; text-decoration-color: #7fbf7f\">│   │   </span><span style=\"color: #008000; text-decoration-color: #008000\">'task_description'</span>: <span style=\"color: #008000; text-decoration-color: #008000\">'Đại diện các nhóm lên bảng trình bày lời giải và cách làm các bài tập vận dụng. Học sinh khác đặt câu hỏi, nhận xét. Giáo viên tổng kết các kiến thức trọng tâm, sửa chữa các lỗi sai phổ biến và giải đáp thắc mắc.'</span>,\n",
       "<span style=\"color: #7fbf7f; text-decoration-color: #7fbf7f\">│   │   </span><span style=\"color: #008000; text-decoration-color: #008000\">'estimated_duration'</span>: <span style=\"color: #008080; text-decoration-color: #008080; font-weight: bold\">10</span>,\n",
       "<span style=\"color: #7fbf7f; text-decoration-color: #7fbf7f\">│   │   </span><span style=\"color: #008000; text-decoration-color: #008000\">'status'</span>: <span style=\"color: #008000; text-decoration-color: #008000\">'pending'</span>\n",
       "<span style=\"color: #7fbf7f; text-decoration-color: #7fbf7f\">│   </span><span style=\"font-weight: bold\">}</span>,\n",
       "<span style=\"color: #7fbf7f; text-decoration-color: #7fbf7f\">│   </span><span style=\"font-weight: bold\">{</span>\n",
       "<span style=\"color: #7fbf7f; text-decoration-color: #7fbf7f\">│   │   </span><span style=\"color: #008000; text-decoration-color: #008000\">'task_id'</span>: <span style=\"color: #008080; text-decoration-color: #008080; font-weight: bold\">7</span>,\n",
       "<span style=\"color: #7fbf7f; text-decoration-color: #7fbf7f\">│   │   </span><span style=\"color: #008000; text-decoration-color: #008000\">'task_name'</span>: <span style=\"color: #008000; text-decoration-color: #008000\">'Giao bài tập về nhà và gợi ý mở rộng'</span>,\n",
       "<span style=\"color: #7fbf7f; text-decoration-color: #7fbf7f\">│   │   </span><span style=\"color: #008000; text-decoration-color: #008000\">'task_description'</span>: <span style=\"color: #008000; text-decoration-color: #008000\">'Học sinh ghi chép các bài tập về nhà được giao (bao gồm bài tập cơ bản và nâng cao). Giáo viên gợi ý các nguồn tài liệu tham khảo và khuyến khích học sinh tự tìm hiểu thêm về ứng dụng thực tế của đường tròn ngoại tiếp và nội tiếp trong kiến trúc, kỹ thuật, hoặc nghệ thuật.'</span>,\n",
       "<span style=\"color: #7fbf7f; text-decoration-color: #7fbf7f\">│   │   </span><span style=\"color: #008000; text-decoration-color: #008000\">'estimated_duration'</span>: <span style=\"color: #008080; text-decoration-color: #008080; font-weight: bold\">5</span>,\n",
       "<span style=\"color: #7fbf7f; text-decoration-color: #7fbf7f\">│   │   </span><span style=\"color: #008000; text-decoration-color: #008000\">'status'</span>: <span style=\"color: #008000; text-decoration-color: #008000\">'pending'</span>\n",
       "<span style=\"color: #7fbf7f; text-decoration-color: #7fbf7f\">│   </span><span style=\"font-weight: bold\">}</span>\n",
       "<span style=\"font-weight: bold\">]</span>\n",
       "</pre>\n"
      ],
      "text/plain": [
       "\u001b[1m[\u001b[0m\n",
       "\u001b[2;32m│   \u001b[0m\u001b[1m{\u001b[0m\n",
       "\u001b[2;32m│   │   \u001b[0m\u001b[32m'task_id'\u001b[0m: \u001b[1;36m0\u001b[0m,\n",
       "\u001b[2;32m│   │   \u001b[0m\u001b[32m'task_name'\u001b[0m: \u001b[32m'Ôn tập kiến thức cũ và đặt vấn đề'\u001b[0m,\n",
       "\u001b[2;32m│   │   \u001b[0m\u001b[32m'task_description'\u001b[0m: \u001b[32m'Học sinh quan sát hình ảnh/video về các vật thể có dạng đường tròn và tam giác trong thực tế, sau đó trả lời các câu hỏi gợi mở của giáo viên về định nghĩa, tính chất cơ bản của đường tròn và tam giác đã học. Giáo viên đặt vấn đề về mối quan hệ giữa đường tròn và tam giác, dẫn dắt vào bài mới.'\u001b[0m,\n",
       "\u001b[2;32m│   │   \u001b[0m\u001b[32m'estimated_duration'\u001b[0m: \u001b[1;36m5\u001b[0m,\n",
       "\u001b[2;32m│   │   \u001b[0m\u001b[32m'status'\u001b[0m: \u001b[32m'pending'\u001b[0m\n",
       "\u001b[2;32m│   \u001b[0m\u001b[1m}\u001b[0m,\n",
       "\u001b[2;32m│   \u001b[0m\u001b[1m{\u001b[0m\n",
       "\u001b[2;32m│   │   \u001b[0m\u001b[32m'task_id'\u001b[0m: \u001b[1;36m1\u001b[0m,\n",
       "\u001b[2;32m│   │   \u001b[0m\u001b[32m'task_name'\u001b[0m: \u001b[32m'Tổ chức nhóm học tập'\u001b[0m,\n",
       "\u001b[2;32m│   │   \u001b[0m\u001b[32m'task_description'\u001b[0m: \u001b[32m'Học sinh nhanh chóng di chuyển và ổn định vị trí theo các nhóm học tập hỗn hợp đã được giáo viên phân công từ trước, chuẩn bị sẵn sàng cho các hoạt động nhóm.'\u001b[0m,\n",
       "\u001b[2;32m│   │   \u001b[0m\u001b[32m'estimated_duration'\u001b[0m: \u001b[1;36m5\u001b[0m,\n",
       "\u001b[2;32m│   │   \u001b[0m\u001b[32m'status'\u001b[0m: \u001b[32m'pending'\u001b[0m\n",
       "\u001b[2;32m│   \u001b[0m\u001b[1m}\u001b[0m,\n",
       "\u001b[2;32m│   \u001b[0m\u001b[1m{\u001b[0m\n",
       "\u001b[2;32m│   │   \u001b[0m\u001b[32m'task_id'\u001b[0m: \u001b[1;36m2\u001b[0m,\n",
       "\u001b[2;32m│   │   \u001b[0m\u001b[32m'task_name'\u001b[0m: \u001b[32m'Khám phá đường tròn ngoại tiếp'\u001b[0m,\n",
       "\u001b[2;32m│   │   \u001b[0m\u001b[32m'task_description'\u001b[0m: \u001b[32m'Trong nhóm, học sinh nhận phiếu học tập, thực hiện các hoạt động vẽ hình tam giác bất kỳ, xác định giao điểm của ba đường trung trực, sau đó vẽ đường tròn đi qua ba đỉnh của tam giác. Học sinh thảo luận, ghi nhận định nghĩa và tính chất của đường tròn ngoại tiếp và tâm đường tròn ngoại tiếp.'\u001b[0m,\n",
       "\u001b[2;32m│   │   \u001b[0m\u001b[32m'estimated_duration'\u001b[0m: \u001b[1;36m20\u001b[0m,\n",
       "\u001b[2;32m│   │   \u001b[0m\u001b[32m'status'\u001b[0m: \u001b[32m'pending'\u001b[0m\n",
       "\u001b[2;32m│   \u001b[0m\u001b[1m}\u001b[0m,\n",
       "\u001b[2;32m│   \u001b[0m\u001b[1m{\u001b[0m\n",
       "\u001b[2;32m│   │   \u001b[0m\u001b[32m'task_id'\u001b[0m: \u001b[1;36m3\u001b[0m,\n",
       "\u001b[2;32m│   │   \u001b[0m\u001b[32m'task_name'\u001b[0m: \u001b[32m'Khám phá đường tròn nội tiếp'\u001b[0m,\n",
       "\u001b[2;32m│   │   \u001b[0m\u001b[32m'task_description'\u001b[0m: \u001b[32m'Trong nhóm, học sinh tiếp tục nhận phiếu học tập, thực hiện các hoạt động vẽ hình tam giác bất kỳ, xác định giao điểm của ba đường phân giác, sau đó vẽ đường tròn tiếp xúc với ba cạnh của tam giác. Học sinh thảo luận, ghi nhận định nghĩa và tính chất của đường tròn nội tiếp và tâm đường tròn nội tiếp.'\u001b[0m,\n",
       "\u001b[2;32m│   │   \u001b[0m\u001b[32m'estimated_duration'\u001b[0m: \u001b[1;36m20\u001b[0m,\n",
       "\u001b[2;32m│   │   \u001b[0m\u001b[32m'status'\u001b[0m: \u001b[32m'pending'\u001b[0m\n",
       "\u001b[2;32m│   \u001b[0m\u001b[1m}\u001b[0m,\n",
       "\u001b[2;32m│   \u001b[0m\u001b[1m{\u001b[0m\n",
       "\u001b[2;32m│   │   \u001b[0m\u001b[32m'task_id'\u001b[0m: \u001b[1;36m4\u001b[0m,\n",
       "\u001b[2;32m│   │   \u001b[0m\u001b[32m'task_name'\u001b[0m: \u001b[32m'Báo cáo nhanh và kiểm tra hiểu bài'\u001b[0m,\n",
       "\u001b[2;32m│   │   \u001b[0m\u001b[32m'task_description'\u001b[0m: \u001b[32m'Đại diện một số nhóm trình bày ngắn gọn kết quả khám phá về định nghĩa và tính chất của đường tròn ngoại tiếp/nội tiếp. Giáo viên đặt câu hỏi nhanh để kiểm tra sự hiểu bài của các nhóm và cá nhân.'\u001b[0m,\n",
       "\u001b[2;32m│   │   \u001b[0m\u001b[32m'estimated_duration'\u001b[0m: \u001b[1;36m5\u001b[0m,\n",
       "\u001b[2;32m│   │   \u001b[0m\u001b[32m'status'\u001b[0m: \u001b[32m'pending'\u001b[0m\n",
       "\u001b[2;32m│   \u001b[0m\u001b[1m}\u001b[0m,\n",
       "\u001b[2;32m│   \u001b[0m\u001b[1m{\u001b[0m\n",
       "\u001b[2;32m│   │   \u001b[0m\u001b[32m'task_id'\u001b[0m: \u001b[1;36m5\u001b[0m,\n",
       "\u001b[2;32m│   │   \u001b[0m\u001b[32m'task_name'\u001b[0m: \u001b[32m'Vận dụng kiến thức qua bài tập nhóm'\u001b[0m,\n",
       "\u001b[2;32m│   │   \u001b[0m\u001b[32m'task_description'\u001b[0m: \u001b[32m'Các nhóm tiếp tục làm việc với phiếu bài tập vận dụng, bao gồm các dạng bài tập nhận dạng đường tròn ngoại tiếp/nội tiếp, vẽ hình chính xác, và thực hiện các phép tính đơn giản liên quan đến bán kính hoặc vị trí tâm.'\u001b[0m,\n",
       "\u001b[2;32m│   │   \u001b[0m\u001b[32m'estimated_duration'\u001b[0m: \u001b[1;36m20\u001b[0m,\n",
       "\u001b[2;32m│   │   \u001b[0m\u001b[32m'status'\u001b[0m: \u001b[32m'pending'\u001b[0m\n",
       "\u001b[2;32m│   \u001b[0m\u001b[1m}\u001b[0m,\n",
       "\u001b[2;32m│   \u001b[0m\u001b[1m{\u001b[0m\n",
       "\u001b[2;32m│   │   \u001b[0m\u001b[32m'task_id'\u001b[0m: \u001b[1;36m6\u001b[0m,\n",
       "\u001b[2;32m│   │   \u001b[0m\u001b[32m'task_name'\u001b[0m: \u001b[32m'Trình bày và tổng kết'\u001b[0m,\n",
       "\u001b[2;32m│   │   \u001b[0m\u001b[32m'task_description'\u001b[0m: \u001b[32m'Đại diện các nhóm lên bảng trình bày lời giải và cách làm các bài tập vận dụng. Học sinh khác đặt câu hỏi, nhận xét. Giáo viên tổng kết các kiến thức trọng tâm, sửa chữa các lỗi sai phổ biến và giải đáp thắc mắc.'\u001b[0m,\n",
       "\u001b[2;32m│   │   \u001b[0m\u001b[32m'estimated_duration'\u001b[0m: \u001b[1;36m10\u001b[0m,\n",
       "\u001b[2;32m│   │   \u001b[0m\u001b[32m'status'\u001b[0m: \u001b[32m'pending'\u001b[0m\n",
       "\u001b[2;32m│   \u001b[0m\u001b[1m}\u001b[0m,\n",
       "\u001b[2;32m│   \u001b[0m\u001b[1m{\u001b[0m\n",
       "\u001b[2;32m│   │   \u001b[0m\u001b[32m'task_id'\u001b[0m: \u001b[1;36m7\u001b[0m,\n",
       "\u001b[2;32m│   │   \u001b[0m\u001b[32m'task_name'\u001b[0m: \u001b[32m'Giao bài tập về nhà và gợi ý mở rộng'\u001b[0m,\n",
       "\u001b[2;32m│   │   \u001b[0m\u001b[32m'task_description'\u001b[0m: \u001b[32m'Học sinh ghi chép các bài tập về nhà được giao \u001b[0m\u001b[32m(\u001b[0m\u001b[32mbao gồm bài tập cơ bản và nâng cao\u001b[0m\u001b[32m)\u001b[0m\u001b[32m. Giáo viên gợi ý các nguồn tài liệu tham khảo và khuyến khích học sinh tự tìm hiểu thêm về ứng dụng thực tế của đường tròn ngoại tiếp và nội tiếp trong kiến trúc, kỹ thuật, hoặc nghệ thuật.'\u001b[0m,\n",
       "\u001b[2;32m│   │   \u001b[0m\u001b[32m'estimated_duration'\u001b[0m: \u001b[1;36m5\u001b[0m,\n",
       "\u001b[2;32m│   │   \u001b[0m\u001b[32m'status'\u001b[0m: \u001b[32m'pending'\u001b[0m\n",
       "\u001b[2;32m│   \u001b[0m\u001b[1m}\u001b[0m\n",
       "\u001b[1m]\u001b[0m\n"
      ]
     },
     "metadata": {},
     "output_type": "display_data"
    },
    {
     "data": {
      "text/html": [
       "<pre style=\"white-space:pre;overflow-x:auto;line-height:normal;font-family:Menlo,'DejaVu Sans Mono',consolas,'Courier New',monospace\">\n",
       "<span style=\"color: #808000; text-decoration-color: #808000; font-weight: bold\">------- Hoàn thành bước: plan_delegator -------</span>\n",
       "</pre>\n"
      ],
      "text/plain": [
       "\n",
       "\u001b[1;33m------- Hoàn thành bước: plan_delegator -------\u001b[0m\n"
      ]
     },
     "metadata": {},
     "output_type": "display_data"
    },
    {
     "data": {
      "text/html": [
       "<pre style=\"white-space:pre;overflow-x:auto;line-height:normal;font-family:Menlo,'DejaVu Sans Mono',consolas,'Courier New',monospace\"><span style=\"color: #008000; text-decoration-color: #008000; font-weight: bold\">✔️ Tài liệu RAG cuối cùng:</span>\n",
       "</pre>\n"
      ],
      "text/plain": [
       "\u001b[1;32m✔️ Tài liệu RAG cuối cùng:\u001b[0m\n"
      ]
     },
     "metadata": {},
     "output_type": "display_data"
    },
    {
     "data": {
      "text/html": [
       "<pre style=\"white-space:pre;overflow-x:auto;line-height:normal;font-family:Menlo,'DejaVu Sans Mono',consolas,'Courier New',monospace\"><span style=\"font-weight: bold\">{</span>\n",
       "<span style=\"color: #7fbf7f; text-decoration-color: #7fbf7f\">│   </span><span style=\"color: #008000; text-decoration-color: #008000\">'source'</span>: <span style=\"color: #008000; text-decoration-color: #008000\">'Sách giáo khoa (từ RAG - đã sàng lọc)'</span>,\n",
       "<span style=\"color: #7fbf7f; text-decoration-color: #7fbf7f\">│   </span><span style=\"color: #008000; text-decoration-color: #008000\">'summary'</span>: <span style=\"color: #008000; text-decoration-color: #008000\">\"Chào các em học sinh,\\n\\nVới vai trò là một giáo viên giàu kinh nghiệm, thầy sẽ tổng hợp kiến thức cốt lõi từ các đoạn văn bản được cung cấp, tập trung vào những gì chúng ta có thể suy luận được về đường tròn và các mối quan hệ của nó.\\n\\n---\\n\\n**TÓM TẮT KIẾN THỨC CỐT LÕI VỀ VỊ TRÍ TƯƠNG ĐỐI CỦA ĐƯỜNG THẲNG VÀ ĐƯỜNG TRÒN, HAI ĐƯỜNG TRÒN**\\n\\nDựa trên các đoạn văn bản đã cho, chúng ta có thể tổng hợp các kiến thức sau:\\n\\n**1. Vị trí tương đối của đường thẳng và đường tròn**\\n\\n*   **1.1. Định nghĩa:**\\n    *   **Cắt nhau:** Đường thẳng và đường tròn có đúng hai điểm chung.\\n    *   **Tiếp xúc với nhau:** Đường thẳng và đường tròn có đúng một điểm chung. Điểm chung này được gọi là **tiếp điểm**. Khi đó, đường thẳng còn được gọi là **tiếp tuyến** của đường tròn tại tiếp điểm.\\n    *   **Không giao nhau:** Đường thẳng và đường tròn không có điểm chung nào.\\n\\n*   **1.2. Mối liên hệ với khoảng cách từ tâm đến đường thẳng:**\\n    *   Cho đường thẳng $a$ và đường tròn $(O; R)$. Gọi $d$ là khoảng cách từ tâm $O$ đến đường thẳng $a$.\\n        *   Đường thẳng $a$ và đường tròn $(O; R)$ **cắt nhau** khi $d &lt; R$.\\n        *   Đường thẳng $a$ và đường tròn $(O; R)$ **tiếp xúc với nhau** khi $d = R$.\\n        *   Đường thẳng $a$ và đường tròn $(O; R)$ **không giao nhau** khi $d &gt; R$.\\n\\n*   **1.3. Dấu hiệu nhận biết tiếp tuyến của đường tròn (Định lí 1):**\\n    *   Nếu một đường thẳng đi qua một điểm trên một đường tròn và vuông góc với bán kính đi qua điểm đó thì đường thẳng ấy là một tiếp tuyến của đường tròn.\\n\\n**2. Vị trí tương đối của hai đường tròn**\\n\\n*   **2.1. Định nghĩa:**\\n    *   **Không giao nhau:** Hai đường tròn không có điểm chung nào.\\n        *   Có thể là hai đường tròn **ở ngoài nhau**.\\n        *   Có thể là một đường tròn **đựng** đường tròn kia (đường tròn lớn chứa đường tròn nhỏ).\\n\\n*   **2.2. Mối liên hệ với khoảng cách giữa hai tâm và bán kính:**\\n    *   Cho hai đường tròn $(O; R)$ và $(O'; R')$.\\n        *   **Tiếp xúc ngoài:** Khi khoảng cách giữa hai tâm bằng tổng hai bán kính ($OO' = R + R'$).\\n        *   **Ở ngoài nhau:** Khi khoảng cách giữa hai tâm lớn hơn tổng hai bán kính ($OO' &gt; R + R'$).\\n        *   **Đựng nhau:** Khi khoảng cách giữa hai tâm nhỏ hơn hiệu hai bán kính ($OO' &lt; R - R'$).\\n        *   **Đồng tâm:** Là trường hợp đặc biệt của hai đường tròn đựng nhau khi hai tâm $O$ và $O'$ trùng nhau và bán kính khác nhau ($R \\\\neq R'$).\\n        *   **Cắt nhau:** Hai đường tròn có thể cắt nhau tại hai điểm (được đề cập trong ví dụ và bài tập).\\n        *   **Tiếp xúc trong:** Hai đường tròn có thể tiếp xúc trong với nhau (được đề cập trong bài tập).\\n\\n---\"</span>\n",
       "<span style=\"font-weight: bold\">}</span>\n",
       "</pre>\n"
      ],
      "text/plain": [
       "\u001b[1m{\u001b[0m\n",
       "\u001b[2;32m│   \u001b[0m\u001b[32m'source'\u001b[0m: \u001b[32m'Sách giáo khoa \u001b[0m\u001b[32m(\u001b[0m\u001b[32mtừ RAG - đã sàng lọc\u001b[0m\u001b[32m)\u001b[0m\u001b[32m'\u001b[0m,\n",
       "\u001b[2;32m│   \u001b[0m\u001b[32m'summary'\u001b[0m: \u001b[32m\"Chào các em học sinh,\\n\\nVới vai trò là một giáo viên giàu kinh nghiệm, thầy sẽ tổng hợp kiến thức cốt lõi từ các đoạn văn bản được cung cấp, tập trung vào những gì chúng ta có thể suy luận được về đường tròn và các mối quan hệ của nó.\\n\\n---\\n\\n**TÓM TẮT KIẾN THỨC CỐT LÕI VỀ VỊ TRÍ TƯƠNG ĐỐI CỦA ĐƯỜNG THẲNG VÀ ĐƯỜNG TRÒN, HAI ĐƯỜNG TRÒN**\\n\\nDựa trên các đoạn văn bản đã cho, chúng ta có thể tổng hợp các kiến thức sau:\\n\\n**1. Vị trí tương đối của đường thẳng và đường tròn**\\n\\n*   **1.1. Định nghĩa:**\\n    *   **Cắt nhau:** Đường thẳng và đường tròn có đúng hai điểm chung.\\n    *   **Tiếp xúc với nhau:** Đường thẳng và đường tròn có đúng một điểm chung. Điểm chung này được gọi là **tiếp điểm**. Khi đó, đường thẳng còn được gọi là **tiếp tuyến** của đường tròn tại tiếp điểm.\\n    *   **Không giao nhau:** Đường thẳng và đường tròn không có điểm chung nào.\\n\\n*   **1.2. Mối liên hệ với khoảng cách từ tâm đến đường thẳng:**\\n    *   Cho đường thẳng $a$ và đường tròn $\u001b[0m\u001b[32m(\u001b[0m\u001b[32mO; R\u001b[0m\u001b[32m)\u001b[0m\u001b[32m$. Gọi $d$ là khoảng cách từ tâm $O$ đến đường thẳng $a$.\\n        *   Đường thẳng $a$ và đường tròn $\u001b[0m\u001b[32m(\u001b[0m\u001b[32mO; R\u001b[0m\u001b[32m)\u001b[0m\u001b[32m$ **cắt nhau** khi $d \u001b[0m\u001b[32m<\u001b[0m\u001b[32m R$.\\n        *   Đường thẳng $a$ và đường tròn $\u001b[0m\u001b[32m(\u001b[0m\u001b[32mO; R\u001b[0m\u001b[32m)\u001b[0m\u001b[32m$ **tiếp xúc với nhau** khi $d = R$.\\n        *   Đường thẳng $a$ và đường tròn $\u001b[0m\u001b[32m(\u001b[0m\u001b[32mO; R\u001b[0m\u001b[32m)\u001b[0m\u001b[32m$ **không giao nhau** khi $d > R$.\\n\\n*   **1.3. Dấu hiệu nhận biết tiếp tuyến của đường tròn \u001b[0m\u001b[32m(\u001b[0m\u001b[32mĐịnh lí 1\u001b[0m\u001b[32m)\u001b[0m\u001b[32m:**\\n    *   Nếu một đường thẳng đi qua một điểm trên một đường tròn và vuông góc với bán kính đi qua điểm đó thì đường thẳng ấy là một tiếp tuyến của đường tròn.\\n\\n**2. Vị trí tương đối của hai đường tròn**\\n\\n*   **2.1. Định nghĩa:**\\n    *   **Không giao nhau:** Hai đường tròn không có điểm chung nào.\\n        *   Có thể là hai đường tròn **ở ngoài nhau**.\\n        *   Có thể là một đường tròn **đựng** đường tròn kia \u001b[0m\u001b[32m(\u001b[0m\u001b[32mđường tròn lớn chứa đường tròn nhỏ\u001b[0m\u001b[32m)\u001b[0m\u001b[32m.\\n\\n*   **2.2. Mối liên hệ với khoảng cách giữa hai tâm và bán kính:**\\n    *   Cho hai đường tròn $\u001b[0m\u001b[32m(\u001b[0m\u001b[32mO; R\u001b[0m\u001b[32m)\u001b[0m\u001b[32m$ và $\u001b[0m\u001b[32m(\u001b[0m\u001b[32mO'; R'\u001b[0m\u001b[32m)\u001b[0m\u001b[32m$.\\n        *   **Tiếp xúc ngoài:** Khi khoảng cách giữa hai tâm bằng tổng hai bán kính \u001b[0m\u001b[32m(\u001b[0m\u001b[32m$OO' = R + R'$\u001b[0m\u001b[32m)\u001b[0m\u001b[32m.\\n        *   **Ở ngoài nhau:** Khi khoảng cách giữa hai tâm lớn hơn tổng hai bán kính \u001b[0m\u001b[32m(\u001b[0m\u001b[32m$OO' \u001b[0m\u001b[32m>\u001b[0m\u001b[32m R + R'$\u001b[0m\u001b[32m)\u001b[0m\u001b[32m.\\n        *   **Đựng nhau:** Khi khoảng cách giữa hai tâm nhỏ hơn hiệu hai bán kính \u001b[0m\u001b[32m(\u001b[0m\u001b[32m$OO' < R - R'$\u001b[0m\u001b[32m)\u001b[0m\u001b[32m.\\n        *   **Đồng tâm:** Là trường hợp đặc biệt của hai đường tròn đựng nhau khi hai tâm $O$ và $O'$ trùng nhau và bán kính khác nhau \u001b[0m\u001b[32m(\u001b[0m\u001b[32m$R \\\\neq R'$\u001b[0m\u001b[32m)\u001b[0m\u001b[32m.\\n        *   **Cắt nhau:** Hai đường tròn có thể cắt nhau tại hai điểm \u001b[0m\u001b[32m(\u001b[0m\u001b[32mđược đề cập trong ví dụ và bài tập\u001b[0m\u001b[32m)\u001b[0m\u001b[32m.\\n        *   **Tiếp xúc trong:** Hai đường tròn có thể tiếp xúc trong với nhau \u001b[0m\u001b[32m(\u001b[0m\u001b[32mđược đề cập trong bài tập\u001b[0m\u001b[32m)\u001b[0m\u001b[32m.\\n\\n---\"\u001b[0m\n",
       "\u001b[1m}\u001b[0m\n"
      ]
     },
     "metadata": {},
     "output_type": "display_data"
    },
    {
     "data": {
      "text/html": [
       "<pre style=\"white-space:pre;overflow-x:auto;line-height:normal;font-family:Menlo,'DejaVu Sans Mono',consolas,'Courier New',monospace\">\n",
       "<span style=\"color: #808000; text-decoration-color: #808000; font-weight: bold\">------- Hoàn thành bước: resource_scout -------</span>\n",
       "</pre>\n"
      ],
      "text/plain": [
       "\n",
       "\u001b[1;33m------- Hoàn thành bước: resource_scout -------\u001b[0m\n"
      ]
     },
     "metadata": {},
     "output_type": "display_data"
    },
    {
     "data": {
      "text/html": [
       "<pre style=\"white-space:pre;overflow-x:auto;line-height:normal;font-family:Menlo,'DejaVu Sans Mono',consolas,'Courier New',monospace\">\n",
       "<span style=\"color: #008080; text-decoration-color: #008080; font-weight: bold\">&gt;</span> `Agent: Plan Delegator` <span style=\"font-weight: bold\">(</span>v9.<span style=\"color: #008080; text-decoration-color: #008080; font-weight: bold\">4</span><span style=\"font-weight: bold\">)</span> đang triển khai hoặc điều chỉnh Bản thiết kế<span style=\"color: #808000; text-decoration-color: #808000\">...</span>\n",
       "</pre>\n"
      ],
      "text/plain": [
       "\n",
       "\u001b[1;36m>\u001b[0m `Agent: Plan Delegator` \u001b[1m(\u001b[0mv9.\u001b[1;36m4\u001b[0m\u001b[1m)\u001b[0m đang triển khai hoặc điều chỉnh Bản thiết kế\u001b[33m...\u001b[0m\n"
      ]
     },
     "metadata": {},
     "output_type": "display_data"
    },
    {
     "data": {
      "text/html": [
       "<pre style=\"white-space:pre;overflow-x:auto;line-height:normal;font-family:Menlo,'DejaVu Sans Mono',consolas,'Courier New',monospace\">\n",
       "<span style=\"color: #008080; text-decoration-color: #008080; font-weight: bold\">&gt;</span> `Router`: Đang kiểm tra nhiệm vụ<span style=\"color: #808000; text-decoration-color: #808000\">...</span>\n",
       "</pre>\n"
      ],
      "text/plain": [
       "\n",
       "\u001b[1;36m>\u001b[0m `Router`: Đang kiểm tra nhiệm vụ\u001b[33m...\u001b[0m\n"
      ]
     },
     "metadata": {},
     "output_type": "display_data"
    },
    {
     "data": {
      "text/html": [
       "<pre style=\"white-space:pre;overflow-x:auto;line-height:normal;font-family:Menlo,'DejaVu Sans Mono',consolas,'Courier New',monospace\">\n",
       "<span style=\"color: #008080; text-decoration-color: #008080; font-weight: bold\">&gt;</span> Nhiệm vụ tiếp theo: <span style=\"color: #008000; text-decoration-color: #008000\">'Ôn tập kiến thức cũ và đặt vấn đề'</span> <span style=\"font-weight: bold\">(</span>ID: <span style=\"color: #008080; text-decoration-color: #008080; font-weight: bold\">0</span><span style=\"font-weight: bold\">)</span>\n",
       "</pre>\n"
      ],
      "text/plain": [
       "\n",
       "\u001b[1;36m>\u001b[0m Nhiệm vụ tiếp theo: \u001b[32m'Ôn tập kiến thức cũ và đặt vấn đề'\u001b[0m \u001b[1m(\u001b[0mID: \u001b[1;36m0\u001b[0m\u001b[1m)\u001b[0m\n"
      ]
     },
     "metadata": {},
     "output_type": "display_data"
    },
    {
     "data": {
      "text/html": [
       "<pre style=\"white-space:pre;overflow-x:auto;line-height:normal;font-family:Menlo,'DejaVu Sans Mono',consolas,'Courier New',monospace\">\n",
       "<span style=\"color: #808000; text-decoration-color: #808000; font-weight: bold\">------- Hoàn thành bước: task_router -------</span>\n",
       "</pre>\n"
      ],
      "text/plain": [
       "\n",
       "\u001b[1;33m------- Hoàn thành bước: task_router -------\u001b[0m\n"
      ]
     },
     "metadata": {},
     "output_type": "display_data"
    },
    {
     "data": {
      "text/html": [
       "<pre style=\"white-space:pre;overflow-x:auto;line-height:normal;font-family:Menlo,'DejaVu Sans Mono',consolas,'Courier New',monospace\"><span style=\"color: #008000; text-decoration-color: #008000; font-weight: bold\">✔️ Đã tạo </span><span style=\"color: #008000; text-decoration-color: #008000; font-weight: bold\">6</span><span style=\"color: #008000; text-decoration-color: #008000; font-weight: bold\"> nhiệm vụ chi tiết (lần chạy lại):</span>\n",
       "</pre>\n"
      ],
      "text/plain": [
       "\u001b[1;32m✔️ Đã tạo \u001b[0m\u001b[1;32m6\u001b[0m\u001b[1;32m nhiệm vụ chi tiết \u001b[0m\u001b[1;32m(\u001b[0m\u001b[1;32mlần chạy lại\u001b[0m\u001b[1;32m)\u001b[0m\u001b[1;32m:\u001b[0m\n"
      ]
     },
     "metadata": {},
     "output_type": "display_data"
    },
    {
     "data": {
      "text/html": [
       "<pre style=\"white-space:pre;overflow-x:auto;line-height:normal;font-family:Menlo,'DejaVu Sans Mono',consolas,'Courier New',monospace\"><span style=\"font-weight: bold\">[</span>\n",
       "<span style=\"color: #7fbf7f; text-decoration-color: #7fbf7f\">│   </span><span style=\"font-weight: bold\">{</span>\n",
       "<span style=\"color: #7fbf7f; text-decoration-color: #7fbf7f\">│   │   </span><span style=\"color: #008000; text-decoration-color: #008000\">'task_id'</span>: <span style=\"color: #008080; text-decoration-color: #008080; font-weight: bold\">0</span>,\n",
       "<span style=\"color: #7fbf7f; text-decoration-color: #7fbf7f\">│   │   </span><span style=\"color: #008000; text-decoration-color: #008000\">'task_name'</span>: <span style=\"color: #008000; text-decoration-color: #008000\">'Khởi động, Ôn tập và Đặt vấn đề'</span>,\n",
       "<span style=\"color: #7fbf7f; text-decoration-color: #7fbf7f\">│   │   </span><span style=\"color: #008000; text-decoration-color: #008000\">'task_description'</span>: <span style=\"color: #008000; text-decoration-color: #008000\">'Học sinh xem hình ảnh/video, trả lời câu hỏi gợi mở về đường tròn và tam giác, sau đó thảo luận nhóm để nhận diện vấn đề thực tế liên quan đến đường tròn ngoại tiếp/nội tiếp và được chia nhóm học tập.'</span>,\n",
       "<span style=\"color: #7fbf7f; text-decoration-color: #7fbf7f\">│   │   </span><span style=\"color: #008000; text-decoration-color: #008000\">'estimated_duration'</span>: <span style=\"color: #008080; text-decoration-color: #008080; font-weight: bold\">15</span>,\n",
       "<span style=\"color: #7fbf7f; text-decoration-color: #7fbf7f\">│   │   </span><span style=\"color: #008000; text-decoration-color: #008000\">'status'</span>: <span style=\"color: #008000; text-decoration-color: #008000\">'pending'</span>\n",
       "<span style=\"color: #7fbf7f; text-decoration-color: #7fbf7f\">│   </span><span style=\"font-weight: bold\">}</span>,\n",
       "<span style=\"color: #7fbf7f; text-decoration-color: #7fbf7f\">│   </span><span style=\"font-weight: bold\">{</span>\n",
       "<span style=\"color: #7fbf7f; text-decoration-color: #7fbf7f\">│   │   </span><span style=\"color: #008000; text-decoration-color: #008000\">'task_id'</span>: <span style=\"color: #008080; text-decoration-color: #008080; font-weight: bold\">1</span>,\n",
       "<span style=\"color: #7fbf7f; text-decoration-color: #7fbf7f\">│   │   </span><span style=\"color: #008000; text-decoration-color: #008000\">'task_name'</span>: <span style=\"color: #008000; text-decoration-color: #008000\">'Khám phá và Xây dựng Kiến thức Đường tròn Ngoại tiếp'</span>,\n",
       "<span style=\"color: #7fbf7f; text-decoration-color: #7fbf7f\">│   │   </span><span style=\"color: #008000; text-decoration-color: #008000\">'task_description'</span>: <span style=\"color: #008000; text-decoration-color: #008000\">'Học sinh theo nhóm thực hiện các hoạt động vẽ hình, đo đạc trên phiếu học tập để xác định tâm và bán kính của đường tròn đi qua ba đỉnh của tam giác, từ đó tự rút ra định nghĩa và tính chất của đường tròn ngoại tiếp.'</span>,\n",
       "<span style=\"color: #7fbf7f; text-decoration-color: #7fbf7f\">│   │   </span><span style=\"color: #008000; text-decoration-color: #008000\">'estimated_duration'</span>: <span style=\"color: #008080; text-decoration-color: #008080; font-weight: bold\">20</span>,\n",
       "<span style=\"color: #7fbf7f; text-decoration-color: #7fbf7f\">│   │   </span><span style=\"color: #008000; text-decoration-color: #008000\">'status'</span>: <span style=\"color: #008000; text-decoration-color: #008000\">'pending'</span>\n",
       "<span style=\"color: #7fbf7f; text-decoration-color: #7fbf7f\">│   </span><span style=\"font-weight: bold\">}</span>,\n",
       "<span style=\"color: #7fbf7f; text-decoration-color: #7fbf7f\">│   </span><span style=\"font-weight: bold\">{</span>\n",
       "<span style=\"color: #7fbf7f; text-decoration-color: #7fbf7f\">│   │   </span><span style=\"color: #008000; text-decoration-color: #008000\">'task_id'</span>: <span style=\"color: #008080; text-decoration-color: #008080; font-weight: bold\">2</span>,\n",
       "<span style=\"color: #7fbf7f; text-decoration-color: #7fbf7f\">│   │   </span><span style=\"color: #008000; text-decoration-color: #008000\">'task_name'</span>: <span style=\"color: #008000; text-decoration-color: #008000\">'Khám phá và Xây dựng Kiến thức Đường tròn Nội tiếp'</span>,\n",
       "<span style=\"color: #7fbf7f; text-decoration-color: #7fbf7f\">│   │   </span><span style=\"color: #008000; text-decoration-color: #008000\">'task_description'</span>: <span style=\"color: #008000; text-decoration-color: #008000\">'Học sinh theo nhóm thực hiện các hoạt động cắt dán, vẽ hình trên phiếu học tập để xác định tâm và bán kính của đường tròn tiếp xúc với ba cạnh của tam giác, từ đó tự rút ra định nghĩa và tính chất của đường tròn nội tiếp.'</span>,\n",
       "<span style=\"color: #7fbf7f; text-decoration-color: #7fbf7f\">│   │   </span><span style=\"color: #008000; text-decoration-color: #008000\">'estimated_duration'</span>: <span style=\"color: #008080; text-decoration-color: #008080; font-weight: bold\">20</span>,\n",
       "<span style=\"color: #7fbf7f; text-decoration-color: #7fbf7f\">│   │   </span><span style=\"color: #008000; text-decoration-color: #008000\">'status'</span>: <span style=\"color: #008000; text-decoration-color: #008000\">'pending'</span>\n",
       "<span style=\"color: #7fbf7f; text-decoration-color: #7fbf7f\">│   </span><span style=\"font-weight: bold\">}</span>,\n",
       "<span style=\"color: #7fbf7f; text-decoration-color: #7fbf7f\">│   </span><span style=\"font-weight: bold\">{</span>\n",
       "<span style=\"color: #7fbf7f; text-decoration-color: #7fbf7f\">│   │   </span><span style=\"color: #008000; text-decoration-color: #008000\">'task_id'</span>: <span style=\"color: #008080; text-decoration-color: #008080; font-weight: bold\">3</span>,\n",
       "<span style=\"color: #7fbf7f; text-decoration-color: #7fbf7f\">│   │   </span><span style=\"color: #008000; text-decoration-color: #008000\">'task_name'</span>: <span style=\"color: #008000; text-decoration-color: #008000\">'Vận dụng và Giải bài tập Cơ bản'</span>,\n",
       "<span style=\"color: #7fbf7f; text-decoration-color: #7fbf7f\">│   │   </span><span style=\"color: #008000; text-decoration-color: #008000\">'task_description'</span>: <span style=\"color: #008000; text-decoration-color: #008000\">'Học sinh theo nhóm giải các bài tập trên phiếu học tập bao gồm nhận dạng, vẽ hình và tính toán đơn giản liên quan đến đường tròn ngoại tiếp và nội tiếp. Đại diện nhóm trình bày kết quả và phương pháp giải.'</span>,\n",
       "<span style=\"color: #7fbf7f; text-decoration-color: #7fbf7f\">│   │   </span><span style=\"color: #008000; text-decoration-color: #008000\">'estimated_duration'</span>: <span style=\"color: #008080; text-decoration-color: #008080; font-weight: bold\">25</span>,\n",
       "<span style=\"color: #7fbf7f; text-decoration-color: #7fbf7f\">│   │   </span><span style=\"color: #008000; text-decoration-color: #008000\">'status'</span>: <span style=\"color: #008000; text-decoration-color: #008000\">'pending'</span>\n",
       "<span style=\"color: #7fbf7f; text-decoration-color: #7fbf7f\">│   </span><span style=\"font-weight: bold\">}</span>,\n",
       "<span style=\"color: #7fbf7f; text-decoration-color: #7fbf7f\">│   </span><span style=\"font-weight: bold\">{</span>\n",
       "<span style=\"color: #7fbf7f; text-decoration-color: #7fbf7f\">│   │   </span><span style=\"color: #008000; text-decoration-color: #008000\">'task_id'</span>: <span style=\"color: #008080; text-decoration-color: #008080; font-weight: bold\">4</span>,\n",
       "<span style=\"color: #7fbf7f; text-decoration-color: #7fbf7f\">│   │   </span><span style=\"color: #008000; text-decoration-color: #008000\">'task_name'</span>: <span style=\"color: #008000; text-decoration-color: #008000\">'Tổng kết và Khắc sâu Kiến thức'</span>,\n",
       "<span style=\"color: #7fbf7f; text-decoration-color: #7fbf7f\">│   │   </span><span style=\"color: #008000; text-decoration-color: #008000\">'task_description'</span>: <span style=\"color: #008000; text-decoration-color: #008000\">'Học sinh lắng nghe giáo viên tổng kết các kiến thức trọng tâm về đường tròn ngoại tiếp và nội tiếp, ghi nhận các lỗi thường gặp và cách khắc phục để củng cố kiến thức.'</span>,\n",
       "<span style=\"color: #7fbf7f; text-decoration-color: #7fbf7f\">│   │   </span><span style=\"color: #008000; text-decoration-color: #008000\">'estimated_duration'</span>: <span style=\"color: #008080; text-decoration-color: #008080; font-weight: bold\">5</span>,\n",
       "<span style=\"color: #7fbf7f; text-decoration-color: #7fbf7f\">│   │   </span><span style=\"color: #008000; text-decoration-color: #008000\">'status'</span>: <span style=\"color: #008000; text-decoration-color: #008000\">'pending'</span>\n",
       "<span style=\"color: #7fbf7f; text-decoration-color: #7fbf7f\">│   </span><span style=\"font-weight: bold\">}</span>,\n",
       "<span style=\"color: #7fbf7f; text-decoration-color: #7fbf7f\">│   </span><span style=\"font-weight: bold\">{</span>\n",
       "<span style=\"color: #7fbf7f; text-decoration-color: #7fbf7f\">│   │   </span><span style=\"color: #008000; text-decoration-color: #008000\">'task_id'</span>: <span style=\"color: #008080; text-decoration-color: #008080; font-weight: bold\">5</span>,\n",
       "<span style=\"color: #7fbf7f; text-decoration-color: #7fbf7f\">│   │   </span><span style=\"color: #008000; text-decoration-color: #008000\">'task_name'</span>: <span style=\"color: #008000; text-decoration-color: #008000\">'Mở rộng và Giao nhiệm vụ Tự học'</span>,\n",
       "<span style=\"color: #7fbf7f; text-decoration-color: #7fbf7f\">│   │   </span><span style=\"color: #008000; text-decoration-color: #008000\">'task_description'</span>: <span style=\"color: #008000; text-decoration-color: #008000\">'Học sinh nhận bài tập về nhà (cơ bản và nâng cao) và các gợi ý về tài liệu, nguồn tìm hiểu thêm về ứng dụng thực tế của đường tròn ngoại tiếp và nội tiếp trong cuộc sống.'</span>,\n",
       "<span style=\"color: #7fbf7f; text-decoration-color: #7fbf7f\">│   │   </span><span style=\"color: #008000; text-decoration-color: #008000\">'estimated_duration'</span>: <span style=\"color: #008080; text-decoration-color: #008080; font-weight: bold\">5</span>,\n",
       "<span style=\"color: #7fbf7f; text-decoration-color: #7fbf7f\">│   │   </span><span style=\"color: #008000; text-decoration-color: #008000\">'status'</span>: <span style=\"color: #008000; text-decoration-color: #008000\">'pending'</span>\n",
       "<span style=\"color: #7fbf7f; text-decoration-color: #7fbf7f\">│   </span><span style=\"font-weight: bold\">}</span>\n",
       "<span style=\"font-weight: bold\">]</span>\n",
       "</pre>\n"
      ],
      "text/plain": [
       "\u001b[1m[\u001b[0m\n",
       "\u001b[2;32m│   \u001b[0m\u001b[1m{\u001b[0m\n",
       "\u001b[2;32m│   │   \u001b[0m\u001b[32m'task_id'\u001b[0m: \u001b[1;36m0\u001b[0m,\n",
       "\u001b[2;32m│   │   \u001b[0m\u001b[32m'task_name'\u001b[0m: \u001b[32m'Khởi động, Ôn tập và Đặt vấn đề'\u001b[0m,\n",
       "\u001b[2;32m│   │   \u001b[0m\u001b[32m'task_description'\u001b[0m: \u001b[32m'Học sinh xem hình ảnh/video, trả lời câu hỏi gợi mở về đường tròn và tam giác, sau đó thảo luận nhóm để nhận diện vấn đề thực tế liên quan đến đường tròn ngoại tiếp/nội tiếp và được chia nhóm học tập.'\u001b[0m,\n",
       "\u001b[2;32m│   │   \u001b[0m\u001b[32m'estimated_duration'\u001b[0m: \u001b[1;36m15\u001b[0m,\n",
       "\u001b[2;32m│   │   \u001b[0m\u001b[32m'status'\u001b[0m: \u001b[32m'pending'\u001b[0m\n",
       "\u001b[2;32m│   \u001b[0m\u001b[1m}\u001b[0m,\n",
       "\u001b[2;32m│   \u001b[0m\u001b[1m{\u001b[0m\n",
       "\u001b[2;32m│   │   \u001b[0m\u001b[32m'task_id'\u001b[0m: \u001b[1;36m1\u001b[0m,\n",
       "\u001b[2;32m│   │   \u001b[0m\u001b[32m'task_name'\u001b[0m: \u001b[32m'Khám phá và Xây dựng Kiến thức Đường tròn Ngoại tiếp'\u001b[0m,\n",
       "\u001b[2;32m│   │   \u001b[0m\u001b[32m'task_description'\u001b[0m: \u001b[32m'Học sinh theo nhóm thực hiện các hoạt động vẽ hình, đo đạc trên phiếu học tập để xác định tâm và bán kính của đường tròn đi qua ba đỉnh của tam giác, từ đó tự rút ra định nghĩa và tính chất của đường tròn ngoại tiếp.'\u001b[0m,\n",
       "\u001b[2;32m│   │   \u001b[0m\u001b[32m'estimated_duration'\u001b[0m: \u001b[1;36m20\u001b[0m,\n",
       "\u001b[2;32m│   │   \u001b[0m\u001b[32m'status'\u001b[0m: \u001b[32m'pending'\u001b[0m\n",
       "\u001b[2;32m│   \u001b[0m\u001b[1m}\u001b[0m,\n",
       "\u001b[2;32m│   \u001b[0m\u001b[1m{\u001b[0m\n",
       "\u001b[2;32m│   │   \u001b[0m\u001b[32m'task_id'\u001b[0m: \u001b[1;36m2\u001b[0m,\n",
       "\u001b[2;32m│   │   \u001b[0m\u001b[32m'task_name'\u001b[0m: \u001b[32m'Khám phá và Xây dựng Kiến thức Đường tròn Nội tiếp'\u001b[0m,\n",
       "\u001b[2;32m│   │   \u001b[0m\u001b[32m'task_description'\u001b[0m: \u001b[32m'Học sinh theo nhóm thực hiện các hoạt động cắt dán, vẽ hình trên phiếu học tập để xác định tâm và bán kính của đường tròn tiếp xúc với ba cạnh của tam giác, từ đó tự rút ra định nghĩa và tính chất của đường tròn nội tiếp.'\u001b[0m,\n",
       "\u001b[2;32m│   │   \u001b[0m\u001b[32m'estimated_duration'\u001b[0m: \u001b[1;36m20\u001b[0m,\n",
       "\u001b[2;32m│   │   \u001b[0m\u001b[32m'status'\u001b[0m: \u001b[32m'pending'\u001b[0m\n",
       "\u001b[2;32m│   \u001b[0m\u001b[1m}\u001b[0m,\n",
       "\u001b[2;32m│   \u001b[0m\u001b[1m{\u001b[0m\n",
       "\u001b[2;32m│   │   \u001b[0m\u001b[32m'task_id'\u001b[0m: \u001b[1;36m3\u001b[0m,\n",
       "\u001b[2;32m│   │   \u001b[0m\u001b[32m'task_name'\u001b[0m: \u001b[32m'Vận dụng và Giải bài tập Cơ bản'\u001b[0m,\n",
       "\u001b[2;32m│   │   \u001b[0m\u001b[32m'task_description'\u001b[0m: \u001b[32m'Học sinh theo nhóm giải các bài tập trên phiếu học tập bao gồm nhận dạng, vẽ hình và tính toán đơn giản liên quan đến đường tròn ngoại tiếp và nội tiếp. Đại diện nhóm trình bày kết quả và phương pháp giải.'\u001b[0m,\n",
       "\u001b[2;32m│   │   \u001b[0m\u001b[32m'estimated_duration'\u001b[0m: \u001b[1;36m25\u001b[0m,\n",
       "\u001b[2;32m│   │   \u001b[0m\u001b[32m'status'\u001b[0m: \u001b[32m'pending'\u001b[0m\n",
       "\u001b[2;32m│   \u001b[0m\u001b[1m}\u001b[0m,\n",
       "\u001b[2;32m│   \u001b[0m\u001b[1m{\u001b[0m\n",
       "\u001b[2;32m│   │   \u001b[0m\u001b[32m'task_id'\u001b[0m: \u001b[1;36m4\u001b[0m,\n",
       "\u001b[2;32m│   │   \u001b[0m\u001b[32m'task_name'\u001b[0m: \u001b[32m'Tổng kết và Khắc sâu Kiến thức'\u001b[0m,\n",
       "\u001b[2;32m│   │   \u001b[0m\u001b[32m'task_description'\u001b[0m: \u001b[32m'Học sinh lắng nghe giáo viên tổng kết các kiến thức trọng tâm về đường tròn ngoại tiếp và nội tiếp, ghi nhận các lỗi thường gặp và cách khắc phục để củng cố kiến thức.'\u001b[0m,\n",
       "\u001b[2;32m│   │   \u001b[0m\u001b[32m'estimated_duration'\u001b[0m: \u001b[1;36m5\u001b[0m,\n",
       "\u001b[2;32m│   │   \u001b[0m\u001b[32m'status'\u001b[0m: \u001b[32m'pending'\u001b[0m\n",
       "\u001b[2;32m│   \u001b[0m\u001b[1m}\u001b[0m,\n",
       "\u001b[2;32m│   \u001b[0m\u001b[1m{\u001b[0m\n",
       "\u001b[2;32m│   │   \u001b[0m\u001b[32m'task_id'\u001b[0m: \u001b[1;36m5\u001b[0m,\n",
       "\u001b[2;32m│   │   \u001b[0m\u001b[32m'task_name'\u001b[0m: \u001b[32m'Mở rộng và Giao nhiệm vụ Tự học'\u001b[0m,\n",
       "\u001b[2;32m│   │   \u001b[0m\u001b[32m'task_description'\u001b[0m: \u001b[32m'Học sinh nhận bài tập về nhà \u001b[0m\u001b[32m(\u001b[0m\u001b[32mcơ bản và nâng cao\u001b[0m\u001b[32m)\u001b[0m\u001b[32m và các gợi ý về tài liệu, nguồn tìm hiểu thêm về ứng dụng thực tế của đường tròn ngoại tiếp và nội tiếp trong cuộc sống.'\u001b[0m,\n",
       "\u001b[2;32m│   │   \u001b[0m\u001b[32m'estimated_duration'\u001b[0m: \u001b[1;36m5\u001b[0m,\n",
       "\u001b[2;32m│   │   \u001b[0m\u001b[32m'status'\u001b[0m: \u001b[32m'pending'\u001b[0m\n",
       "\u001b[2;32m│   \u001b[0m\u001b[1m}\u001b[0m\n",
       "\u001b[1m]\u001b[0m\n"
      ]
     },
     "metadata": {},
     "output_type": "display_data"
    },
    {
     "data": {
      "text/html": [
       "<pre style=\"white-space:pre;overflow-x:auto;line-height:normal;font-family:Menlo,'DejaVu Sans Mono',consolas,'Courier New',monospace\">\n",
       "<span style=\"color: #808000; text-decoration-color: #808000; font-weight: bold\">------- Hoàn thành bước: plan_delegator -------</span>\n",
       "</pre>\n"
      ],
      "text/plain": [
       "\n",
       "\u001b[1;33m------- Hoàn thành bước: plan_delegator -------\u001b[0m\n"
      ]
     },
     "metadata": {},
     "output_type": "display_data"
    },
    {
     "data": {
      "text/html": [
       "<pre style=\"white-space:pre;overflow-x:auto;line-height:normal;font-family:Menlo,'DejaVu Sans Mono',consolas,'Courier New',monospace\">\n",
       "<span style=\"color: #008080; text-decoration-color: #008080; font-weight: bold\">&gt;</span> `Agent: Task Dispatcher` <span style=\"font-weight: bold\">(</span>v7.<span style=\"color: #008080; text-decoration-color: #008080; font-weight: bold\">1</span><span style=\"font-weight: bold\">)</span> Bắt đầu<span style=\"color: #808000; text-decoration-color: #808000\">...</span>\n",
       "</pre>\n"
      ],
      "text/plain": [
       "\n",
       "\u001b[1;36m>\u001b[0m `Agent: Task Dispatcher` \u001b[1m(\u001b[0mv7.\u001b[1;36m1\u001b[0m\u001b[1m)\u001b[0m Bắt đầu\u001b[33m...\u001b[0m\n"
      ]
     },
     "metadata": {},
     "output_type": "display_data"
    },
    {
     "data": {
      "text/html": [
       "<pre style=\"white-space:pre;overflow-x:auto;line-height:normal;font-family:Menlo,'DejaVu Sans Mono',consolas,'Courier New',monospace\">\n",
       "<span style=\"color: #008080; text-decoration-color: #008080; font-weight: bold\">&gt;</span> `Router`: Đang kiểm tra nhiệm vụ<span style=\"color: #808000; text-decoration-color: #808000\">...</span>\n",
       "</pre>\n"
      ],
      "text/plain": [
       "\n",
       "\u001b[1;36m>\u001b[0m `Router`: Đang kiểm tra nhiệm vụ\u001b[33m...\u001b[0m\n"
      ]
     },
     "metadata": {},
     "output_type": "display_data"
    },
    {
     "data": {
      "text/html": [
       "<pre style=\"white-space:pre;overflow-x:auto;line-height:normal;font-family:Menlo,'DejaVu Sans Mono',consolas,'Courier New',monospace\">\n",
       "<span style=\"color: #008080; text-decoration-color: #008080; font-weight: bold\">&gt;</span> Nhiệm vụ tiếp theo: <span style=\"color: #008000; text-decoration-color: #008000\">'Khởi động, Ôn tập và Đặt vấn đề'</span> <span style=\"font-weight: bold\">(</span>ID: <span style=\"color: #008080; text-decoration-color: #008080; font-weight: bold\">0</span><span style=\"font-weight: bold\">)</span>\n",
       "</pre>\n"
      ],
      "text/plain": [
       "\n",
       "\u001b[1;36m>\u001b[0m Nhiệm vụ tiếp theo: \u001b[32m'Khởi động, Ôn tập và Đặt vấn đề'\u001b[0m \u001b[1m(\u001b[0mID: \u001b[1;36m0\u001b[0m\u001b[1m)\u001b[0m\n"
      ]
     },
     "metadata": {},
     "output_type": "display_data"
    },
    {
     "data": {
      "text/html": [
       "<pre style=\"white-space:pre;overflow-x:auto;line-height:normal;font-family:Menlo,'DejaVu Sans Mono',consolas,'Courier New',monospace\">\n",
       "<span style=\"color: #808000; text-decoration-color: #808000; font-weight: bold\">------- Hoàn thành bước: task_router -------</span>\n",
       "</pre>\n"
      ],
      "text/plain": [
       "\n",
       "\u001b[1;33m------- Hoàn thành bước: task_router -------\u001b[0m\n"
      ]
     },
     "metadata": {},
     "output_type": "display_data"
    },
    {
     "data": {
      "text/html": [
       "<pre style=\"white-space:pre;overflow-x:auto;line-height:normal;font-family:Menlo,'DejaVu Sans Mono',consolas,'Courier New',monospace\">\n",
       "<span style=\"color: #008080; text-decoration-color: #008080; font-weight: bold\">&gt;</span> --- 🚚 `Dispatcher`: Giao nhiệm vụ cho `activity_designer`.\n",
       "</pre>\n"
      ],
      "text/plain": [
       "\n",
       "\u001b[1;36m>\u001b[0m --- 🚚 `Dispatcher`: Giao nhiệm vụ cho `activity_designer`.\n"
      ]
     },
     "metadata": {},
     "output_type": "display_data"
    },
    {
     "data": {
      "text/html": [
       "<pre style=\"white-space:pre;overflow-x:auto;line-height:normal;font-family:Menlo,'DejaVu Sans Mono',consolas,'Courier New',monospace\">\n",
       "<span style=\"color: #808000; text-decoration-color: #808000; font-weight: bold\">------- Hoàn thành bước: task_dispatcher -------</span>\n",
       "</pre>\n"
      ],
      "text/plain": [
       "\n",
       "\u001b[1;33m------- Hoàn thành bước: task_dispatcher -------\u001b[0m\n"
      ]
     },
     "metadata": {},
     "output_type": "display_data"
    },
    {
     "data": {
      "text/html": [
       "<pre style=\"white-space:pre;overflow-x:auto;line-height:normal;font-family:Menlo,'DejaVu Sans Mono',consolas,'Courier New',monospace\">\n",
       "<span style=\"color: #008080; text-decoration-color: #008080; font-weight: bold\">&gt;</span> `Agent: Activity Designer` <span style=\"font-weight: bold\">(</span>v9.<span style=\"color: #008080; text-decoration-color: #008080; font-weight: bold\">0</span><span style=\"font-weight: bold\">)</span> đang tạo nội dung chi tiết và gợi ý phân hóa<span style=\"color: #808000; text-decoration-color: #808000\">...</span>\n",
       "</pre>\n"
      ],
      "text/plain": [
       "\n",
       "\u001b[1;36m>\u001b[0m `Agent: Activity Designer` \u001b[1m(\u001b[0mv9.\u001b[1;36m0\u001b[0m\u001b[1m)\u001b[0m đang tạo nội dung chi tiết và gợi ý phân hóa\u001b[33m...\u001b[0m\n"
      ]
     },
     "metadata": {},
     "output_type": "display_data"
    },
    {
     "data": {
      "text/html": [
       "<pre style=\"white-space:pre;overflow-x:auto;line-height:normal;font-family:Menlo,'DejaVu Sans Mono',consolas,'Courier New',monospace\">\n",
       "<span style=\"color: #008080; text-decoration-color: #008080; font-weight: bold\">&gt;</span> `Agent: Task Dispatcher` <span style=\"font-weight: bold\">(</span>v7.<span style=\"color: #008080; text-decoration-color: #008080; font-weight: bold\">1</span><span style=\"font-weight: bold\">)</span> Bắt đầu<span style=\"color: #808000; text-decoration-color: #808000\">...</span>\n",
       "</pre>\n"
      ],
      "text/plain": [
       "\n",
       "\u001b[1;36m>\u001b[0m `Agent: Task Dispatcher` \u001b[1m(\u001b[0mv7.\u001b[1;36m1\u001b[0m\u001b[1m)\u001b[0m Bắt đầu\u001b[33m...\u001b[0m\n"
      ]
     },
     "metadata": {},
     "output_type": "display_data"
    },
    {
     "data": {
      "text/html": [
       "<pre style=\"white-space:pre;overflow-x:auto;line-height:normal;font-family:Menlo,'DejaVu Sans Mono',consolas,'Courier New',monospace\">\n",
       "<span style=\"color: #008080; text-decoration-color: #008080; font-weight: bold\">&gt;</span> --- 🚚 `Dispatcher`: Giao nhiệm vụ cho `activity_designer`.\n",
       "</pre>\n"
      ],
      "text/plain": [
       "\n",
       "\u001b[1;36m>\u001b[0m --- 🚚 `Dispatcher`: Giao nhiệm vụ cho `activity_designer`.\n"
      ]
     },
     "metadata": {},
     "output_type": "display_data"
    },
    {
     "data": {
      "text/html": [
       "<pre style=\"white-space:pre;overflow-x:auto;line-height:normal;font-family:Menlo,'DejaVu Sans Mono',consolas,'Courier New',monospace\">\n",
       "<span style=\"color: #808000; text-decoration-color: #808000; font-weight: bold\">------- Hoàn thành bước: task_dispatcher -------</span>\n",
       "</pre>\n"
      ],
      "text/plain": [
       "\n",
       "\u001b[1;33m------- Hoàn thành bước: task_dispatcher -------\u001b[0m\n"
      ]
     },
     "metadata": {},
     "output_type": "display_data"
    },
    {
     "data": {
      "text/html": [
       "<pre style=\"white-space:pre;overflow-x:auto;line-height:normal;font-family:Menlo,'DejaVu Sans Mono',consolas,'Courier New',monospace\"><span style=\"color: #008000; text-decoration-color: #008000; font-weight: bold\">✔️ Nội dung do Activity Designer tạo ra (có phân hóa):</span>\n",
       "</pre>\n"
      ],
      "text/plain": [
       "\u001b[1;32m✔️ Nội dung do Activity Designer tạo ra \u001b[0m\u001b[1;32m(\u001b[0m\u001b[1;32mcó phân hóa\u001b[0m\u001b[1;32m)\u001b[0m\u001b[1;32m:\u001b[0m\n"
      ]
     },
     "metadata": {},
     "output_type": "display_data"
    },
    {
     "data": {
      "text/html": [
       "<pre style=\"white-space:pre;overflow-x:auto;line-height:normal;font-family:Menlo,'DejaVu Sans Mono',consolas,'Courier New',monospace\"><span style=\"font-weight: bold\">{</span>\n",
       "<span style=\"color: #7fbf7f; text-decoration-color: #7fbf7f\">│   </span><span style=\"color: #008000; text-decoration-color: #008000\">'activity_name'</span>: <span style=\"color: #008000; text-decoration-color: #008000\">'Khởi động, Ôn tập và Đặt vấn đề'</span>,\n",
       "<span style=\"color: #7fbf7f; text-decoration-color: #7fbf7f\">│   </span><span style=\"color: #008000; text-decoration-color: #008000\">'description'</span>: <span style=\"color: #008000; text-decoration-color: #008000\">\"1. Học sinh quan sát các hình ảnh/video về các vật thể, kiến trúc, hoặc hiện tượng tự nhiên có hình dạng đường tròn và tam giác (ví dụ: bánh xe, đồng hồ, kim tự tháp, logo, các công trình kiến trúc).2. Cá nhân suy nghĩ và trả lời các câu hỏi gợi mở của giáo viên về những gì quan sát được, đặc điểm của đường tròn và tam giác.3. Thảo luận nhóm (2-3 học sinh) để chia sẻ ý tưởng và cùng nhau nhận diện các vấn đề thực tế trong đời sống hoặc kỹ thuật có liên quan đến việc 'vẽ một đường tròn đi qua các đỉnh của một tam giác' hoặc 'vẽ một đường tròn tiếp xúc với các cạnh của một tam giác'.4. Các nhóm chia sẻ nhanh ý tưởng. Giáo viên sẽ dựa vào đó để giới thiệu chủ đề bài học và chia lớp thành các nhóm học tập cho các hoạt động tiếp theo.\"</span>,\n",
       "<span style=\"color: #7fbf7f; text-decoration-color: #7fbf7f\">│   </span><span style=\"color: #008000; text-decoration-color: #008000\">'duration_minutes'</span>: <span style=\"color: #008080; text-decoration-color: #008080; font-weight: bold\">15</span>,\n",
       "<span style=\"color: #7fbf7f; text-decoration-color: #7fbf7f\">│   </span><span style=\"color: #008000; text-decoration-color: #008000\">'activity_type'</span>: <span style=\"color: #008000; text-decoration-color: #008000\">'Khởi động và Đặt vấn đề'</span>,\n",
       "<span style=\"color: #7fbf7f; text-decoration-color: #7fbf7f\">│   </span><span style=\"color: #008000; text-decoration-color: #008000\">'teacher_actions'</span>: <span style=\"font-weight: bold\">[</span>\n",
       "<span style=\"color: #7fbf7f; text-decoration-color: #7fbf7f\">│   │   </span><span style=\"color: #008000; text-decoration-color: #008000\">'Chuẩn bị và trình chiếu các hình ảnh/video minh họa đa dạng về đường tròn và tam giác trong thực tế.'</span>,\n",
       "<span style=\"color: #7fbf7f; text-decoration-color: #7fbf7f\">│   │   </span><span style=\"color: #008000; text-decoration-color: #008000\">\"Đặt các câu hỏi gợi mở: 'Các em thấy gì trong những hình ảnh này?', 'Có mối liên hệ nào giữa đường tròn và tam giác không?', 'Trong thực tế, khi nào chúng ta cần vẽ một đường tròn đi qua 3 điểm không thẳng hàng? Khi nào cần vẽ một đường tròn tiếp xúc với 3 cạnh của một tam giác?'\"</span>,\n",
       "<span style=\"color: #7fbf7f; text-decoration-color: #7fbf7f\">│   │   </span><span style=\"color: #008000; text-decoration-color: #008000\">'Hướng dẫn học sinh thảo luận nhóm, khuyến khích mọi thành viên tham gia.'</span>,\n",
       "<span style=\"color: #7fbf7f; text-decoration-color: #7fbf7f\">│   │   </span><span style=\"color: #008000; text-decoration-color: #008000\">'Đi quanh lớp, lắng nghe các nhóm thảo luận, đưa ra gợi ý khi cần thiết.'</span>,\n",
       "<span style=\"color: #7fbf7f; text-decoration-color: #7fbf7f\">│   │   </span><span style=\"color: #008000; text-decoration-color: #008000\">'Tổng hợp ý kiến của các nhóm, dẫn dắt vào bài học mới: Đường tròn ngoại tiếp và đường tròn nội tiếp.'</span>,\n",
       "<span style=\"color: #7fbf7f; text-decoration-color: #7fbf7f\">│   │   </span><span style=\"color: #008000; text-decoration-color: #008000\">'Tổ chức chia nhóm học tập cho các hoạt động tiếp theo của bài học.'</span>\n",
       "<span style=\"color: #7fbf7f; text-decoration-color: #7fbf7f\">│   </span><span style=\"font-weight: bold\">]</span>,\n",
       "<span style=\"color: #7fbf7f; text-decoration-color: #7fbf7f\">│   </span><span style=\"color: #008000; text-decoration-color: #008000\">'solution_guide'</span>: <span style=\"color: #008000; text-decoration-color: #008000\">\"Các câu hỏi gợi mở cho học sinh trong quá trình thảo luận nhóm để nhận diện vấn đề:\\n- 'Trong xây dựng, làm thế nào để đặt một cột trụ tròn sao cho nó cách đều ba điểm mốc đã cho?'\\n- 'Khi thiết kế một logo hình tam giác, làm thế nào để vẽ một đường tròn nằm gọn bên trong và tiếp xúc với cả ba cạnh?'\\n- 'Có mối liên hệ nào giữa tâm của đường tròn này với các đường đặc biệt trong tam giác (trung tuyến, đường cao, phân giác, trung trực) không?'\\n- 'Hãy nghĩ về các tình huống thực tế khác mà việc xác định tâm và bán kính của đường tròn liên quan đến một tam giác là cần thiết.'\"</span>,\n",
       "<span style=\"color: #7fbf7f; text-decoration-color: #7fbf7f\">│   </span><span style=\"color: #008000; text-decoration-color: #008000\">'differentiation'</span>: <span style=\"font-weight: bold\">{</span>\n",
       "<span style=\"color: #7fbf7f; text-decoration-color: #7fbf7f\">│   │   </span><span style=\"color: #008000; text-decoration-color: #008000\">'for_struggling_students'</span>: <span style=\"color: #008000; text-decoration-color: #008000\">\"Cung cấp các hình ảnh/video đơn giản, dễ nhận diện hơn. Đặt các câu hỏi gợi mở trực tiếp hơn như 'Đây là hình gì?', 'Đường tròn này có gì đặc biệt với tam giác kia?'. Gợi ý các từ khóa hoặc câu hỏi dẫn dắt cụ thể hơn trong phần thảo luận nhóm, ví dụ: 'Hãy nghĩ về việc xây dựng một cái giếng ở giữa ba ngôi nhà', 'Làm sao để đặt một cái bàn tròn lớn nhất vào một căn phòng hình tam giác?'.\"</span>,\n",
       "<span style=\"color: #7fbf7f; text-decoration-color: #7fbf7f\">│   │   </span><span style=\"color: #008000; text-decoration-color: #008000\">'for_advanced_students'</span>: <span style=\"color: #008000; text-decoration-color: #008000\">\"Trình chiếu các hình ảnh/video phức tạp hơn, có tính ứng dụng cao (ví dụ: thiết kế cơ khí, kiến trúc phức tạp). Đặt câu hỏi mở rộng như 'Tại sao trong trường hợp này, việc xác định tâm đường tròn lại quan trọng?', 'Có những giới hạn hay điều kiện nào khi vẽ đường tròn ngoại tiếp/nội tiếp một tam giác không?'. Khuyến khích các em suy nghĩ về các trường hợp đặc biệt của tam giác (đều, vuông, cân) và mối quan hệ với đường tròn.\"</span>\n",
       "<span style=\"color: #7fbf7f; text-decoration-color: #7fbf7f\">│   </span><span style=\"font-weight: bold\">}</span>\n",
       "<span style=\"font-weight: bold\">}</span>\n",
       "</pre>\n"
      ],
      "text/plain": [
       "\u001b[1m{\u001b[0m\n",
       "\u001b[2;32m│   \u001b[0m\u001b[32m'activity_name'\u001b[0m: \u001b[32m'Khởi động, Ôn tập và Đặt vấn đề'\u001b[0m,\n",
       "\u001b[2;32m│   \u001b[0m\u001b[32m'description'\u001b[0m: \u001b[32m\"1. Học sinh quan sát các hình ảnh/video về các vật thể, kiến trúc, hoặc hiện tượng tự nhiên có hình dạng đường tròn và tam giác \u001b[0m\u001b[32m(\u001b[0m\u001b[32mví dụ: bánh xe, đồng hồ, kim tự tháp, logo, các công trình kiến trúc\u001b[0m\u001b[32m)\u001b[0m\u001b[32m.2. Cá nhân suy nghĩ và trả lời các câu hỏi gợi mở của giáo viên về những gì quan sát được, đặc điểm của đường tròn và tam giác.3. Thảo luận nhóm \u001b[0m\u001b[32m(\u001b[0m\u001b[32m2-3 học sinh\u001b[0m\u001b[32m)\u001b[0m\u001b[32m để chia sẻ ý tưởng và cùng nhau nhận diện các vấn đề thực tế trong đời sống hoặc kỹ thuật có liên quan đến việc 'vẽ một đường tròn đi qua các đỉnh của một tam giác' hoặc 'vẽ một đường tròn tiếp xúc với các cạnh của một tam giác'.4. Các nhóm chia sẻ nhanh ý tưởng. Giáo viên sẽ dựa vào đó để giới thiệu chủ đề bài học và chia lớp thành các nhóm học tập cho các hoạt động tiếp theo.\"\u001b[0m,\n",
       "\u001b[2;32m│   \u001b[0m\u001b[32m'duration_minutes'\u001b[0m: \u001b[1;36m15\u001b[0m,\n",
       "\u001b[2;32m│   \u001b[0m\u001b[32m'activity_type'\u001b[0m: \u001b[32m'Khởi động và Đặt vấn đề'\u001b[0m,\n",
       "\u001b[2;32m│   \u001b[0m\u001b[32m'teacher_actions'\u001b[0m: \u001b[1m[\u001b[0m\n",
       "\u001b[2;32m│   │   \u001b[0m\u001b[32m'Chuẩn bị và trình chiếu các hình ảnh/video minh họa đa dạng về đường tròn và tam giác trong thực tế.'\u001b[0m,\n",
       "\u001b[2;32m│   │   \u001b[0m\u001b[32m\"Đặt các câu hỏi gợi mở: 'Các em thấy gì trong những hình ảnh này?', 'Có mối liên hệ nào giữa đường tròn và tam giác không?', 'Trong thực tế, khi nào chúng ta cần vẽ một đường tròn đi qua 3 điểm không thẳng hàng? Khi nào cần vẽ một đường tròn tiếp xúc với 3 cạnh của một tam giác?'\"\u001b[0m,\n",
       "\u001b[2;32m│   │   \u001b[0m\u001b[32m'Hướng dẫn học sinh thảo luận nhóm, khuyến khích mọi thành viên tham gia.'\u001b[0m,\n",
       "\u001b[2;32m│   │   \u001b[0m\u001b[32m'Đi quanh lớp, lắng nghe các nhóm thảo luận, đưa ra gợi ý khi cần thiết.'\u001b[0m,\n",
       "\u001b[2;32m│   │   \u001b[0m\u001b[32m'Tổng hợp ý kiến của các nhóm, dẫn dắt vào bài học mới: Đường tròn ngoại tiếp và đường tròn nội tiếp.'\u001b[0m,\n",
       "\u001b[2;32m│   │   \u001b[0m\u001b[32m'Tổ chức chia nhóm học tập cho các hoạt động tiếp theo của bài học.'\u001b[0m\n",
       "\u001b[2;32m│   \u001b[0m\u001b[1m]\u001b[0m,\n",
       "\u001b[2;32m│   \u001b[0m\u001b[32m'solution_guide'\u001b[0m: \u001b[32m\"Các câu hỏi gợi mở cho học sinh trong quá trình thảo luận nhóm để nhận diện vấn đề:\\n- 'Trong xây dựng, làm thế nào để đặt một cột trụ tròn sao cho nó cách đều ba điểm mốc đã cho?'\\n- 'Khi thiết kế một logo hình tam giác, làm thế nào để vẽ một đường tròn nằm gọn bên trong và tiếp xúc với cả ba cạnh?'\\n- 'Có mối liên hệ nào giữa tâm của đường tròn này với các đường đặc biệt trong tam giác \u001b[0m\u001b[32m(\u001b[0m\u001b[32mtrung tuyến, đường cao, phân giác, trung trực\u001b[0m\u001b[32m)\u001b[0m\u001b[32m không?'\\n- 'Hãy nghĩ về các tình huống thực tế khác mà việc xác định tâm và bán kính của đường tròn liên quan đến một tam giác là cần thiết.'\"\u001b[0m,\n",
       "\u001b[2;32m│   \u001b[0m\u001b[32m'differentiation'\u001b[0m: \u001b[1m{\u001b[0m\n",
       "\u001b[2;32m│   │   \u001b[0m\u001b[32m'for_struggling_students'\u001b[0m: \u001b[32m\"Cung cấp các hình ảnh/video đơn giản, dễ nhận diện hơn. Đặt các câu hỏi gợi mở trực tiếp hơn như 'Đây là hình gì?', 'Đường tròn này có gì đặc biệt với tam giác kia?'. Gợi ý các từ khóa hoặc câu hỏi dẫn dắt cụ thể hơn trong phần thảo luận nhóm, ví dụ: 'Hãy nghĩ về việc xây dựng một cái giếng ở giữa ba ngôi nhà', 'Làm sao để đặt một cái bàn tròn lớn nhất vào một căn phòng hình tam giác?'.\"\u001b[0m,\n",
       "\u001b[2;32m│   │   \u001b[0m\u001b[32m'for_advanced_students'\u001b[0m: \u001b[32m\"Trình chiếu các hình ảnh/video phức tạp hơn, có tính ứng dụng cao \u001b[0m\u001b[32m(\u001b[0m\u001b[32mví dụ: thiết kế cơ khí, kiến trúc phức tạp\u001b[0m\u001b[32m)\u001b[0m\u001b[32m. Đặt câu hỏi mở rộng như 'Tại sao trong trường hợp này, việc xác định tâm đường tròn lại quan trọng?', 'Có những giới hạn hay điều kiện nào khi vẽ đường tròn ngoại tiếp/nội tiếp một tam giác không?'. Khuyến khích các em suy nghĩ về các trường hợp đặc biệt của tam giác \u001b[0m\u001b[32m(\u001b[0m\u001b[32mđều, vuông, cân\u001b[0m\u001b[32m)\u001b[0m\u001b[32m và mối quan hệ với đường tròn.\"\u001b[0m\n",
       "\u001b[2;32m│   \u001b[0m\u001b[1m}\u001b[0m\n",
       "\u001b[1m}\u001b[0m\n"
      ]
     },
     "metadata": {},
     "output_type": "display_data"
    },
    {
     "data": {
      "text/html": [
       "<pre style=\"white-space:pre;overflow-x:auto;line-height:normal;font-family:Menlo,'DejaVu Sans Mono',consolas,'Courier New',monospace\">\n",
       "<span style=\"color: #808000; text-decoration-color: #808000; font-weight: bold\">------- Hoàn thành bước: activity_designer -------</span>\n",
       "</pre>\n"
      ],
      "text/plain": [
       "\n",
       "\u001b[1;33m------- Hoàn thành bước: activity_designer -------\u001b[0m\n"
      ]
     },
     "metadata": {},
     "output_type": "display_data"
    },
    {
     "data": {
      "text/html": [
       "<pre style=\"white-space:pre;overflow-x:auto;line-height:normal;font-family:Menlo,'DejaVu Sans Mono',consolas,'Courier New',monospace\">\n",
       "<span style=\"color: #008080; text-decoration-color: #008080; font-weight: bold\">&gt;</span> `Agent: Activity Designer` <span style=\"font-weight: bold\">(</span>v9.<span style=\"color: #008080; text-decoration-color: #008080; font-weight: bold\">0</span><span style=\"font-weight: bold\">)</span> đang tạo nội dung chi tiết và gợi ý phân hóa<span style=\"color: #808000; text-decoration-color: #808000\">...</span>\n",
       "</pre>\n"
      ],
      "text/plain": [
       "\n",
       "\u001b[1;36m>\u001b[0m `Agent: Activity Designer` \u001b[1m(\u001b[0mv9.\u001b[1;36m0\u001b[0m\u001b[1m)\u001b[0m đang tạo nội dung chi tiết và gợi ý phân hóa\u001b[33m...\u001b[0m\n"
      ]
     },
     "metadata": {},
     "output_type": "display_data"
    },
    {
     "data": {
      "text/html": [
       "<pre style=\"white-space:pre;overflow-x:auto;line-height:normal;font-family:Menlo,'DejaVu Sans Mono',consolas,'Courier New',monospace\">\n",
       "<span style=\"color: #008080; text-decoration-color: #008080; font-weight: bold\">&gt;</span> `Agent: Contextual Critic` <span style=\"font-weight: bold\">(</span>v9.<span style=\"color: #008080; text-decoration-color: #008080; font-weight: bold\">2</span><span style=\"font-weight: bold\">)</span> đang phản biện nội dung<span style=\"color: #808000; text-decoration-color: #808000\">...</span>\n",
       "</pre>\n"
      ],
      "text/plain": [
       "\n",
       "\u001b[1;36m>\u001b[0m `Agent: Contextual Critic` \u001b[1m(\u001b[0mv9.\u001b[1;36m2\u001b[0m\u001b[1m)\u001b[0m đang phản biện nội dung\u001b[33m...\u001b[0m\n"
      ]
     },
     "metadata": {},
     "output_type": "display_data"
    },
    {
     "data": {
      "text/html": [
       "<pre style=\"white-space:pre;overflow-x:auto;line-height:normal;font-family:Menlo,'DejaVu Sans Mono',consolas,'Courier New',monospace\">\n",
       "<span style=\"color: #008080; text-decoration-color: #008080; font-weight: bold\">&gt;</span> ✔️ CHUYÊN GIA PHẢN BIỆN: Nội dung hợp lệ!\n",
       "</pre>\n"
      ],
      "text/plain": [
       "\n",
       "\u001b[1;36m>\u001b[0m ✔️ CHUYÊN GIA PHẢN BIỆN: Nội dung hợp lệ!\n"
      ]
     },
     "metadata": {},
     "output_type": "display_data"
    },
    {
     "data": {
      "text/html": [
       "<pre style=\"white-space:pre;overflow-x:auto;line-height:normal;font-family:Menlo,'DejaVu Sans Mono',consolas,'Courier New',monospace\">\n",
       "<span style=\"color: #008080; text-decoration-color: #008080; font-weight: bold\">&gt;</span> ROUTER <span style=\"font-weight: bold\">(</span>Validation<span style=\"font-weight: bold\">)</span>: Nội dung được chấp thuận. Chuyển sang bước ghi nhận.\n",
       "</pre>\n"
      ],
      "text/plain": [
       "\n",
       "\u001b[1;36m>\u001b[0m ROUTER \u001b[1m(\u001b[0mValidation\u001b[1m)\u001b[0m: Nội dung được chấp thuận. Chuyển sang bước ghi nhận.\n"
      ]
     },
     "metadata": {},
     "output_type": "display_data"
    },
    {
     "data": {
      "text/html": [
       "<pre style=\"white-space:pre;overflow-x:auto;line-height:normal;font-family:Menlo,'DejaVu Sans Mono',consolas,'Courier New',monospace\">\n",
       "<span style=\"color: #808000; text-decoration-color: #808000; font-weight: bold\">------- Hoàn thành bước: content_validator -------</span>\n",
       "</pre>\n"
      ],
      "text/plain": [
       "\n",
       "\u001b[1;33m------- Hoàn thành bước: content_validator -------\u001b[0m\n"
      ]
     },
     "metadata": {},
     "output_type": "display_data"
    },
    {
     "data": {
      "text/html": [
       "<pre style=\"white-space:pre;overflow-x:auto;line-height:normal;font-family:Menlo,'DejaVu Sans Mono',consolas,'Courier New',monospace\"><span style=\"color: #008000; text-decoration-color: #008000; font-weight: bold\">✔️ Nội dung do Activity Designer tạo ra (có phân hóa):</span>\n",
       "</pre>\n"
      ],
      "text/plain": [
       "\u001b[1;32m✔️ Nội dung do Activity Designer tạo ra \u001b[0m\u001b[1;32m(\u001b[0m\u001b[1;32mcó phân hóa\u001b[0m\u001b[1;32m)\u001b[0m\u001b[1;32m:\u001b[0m\n"
      ]
     },
     "metadata": {},
     "output_type": "display_data"
    },
    {
     "data": {
      "text/html": [
       "<pre style=\"white-space:pre;overflow-x:auto;line-height:normal;font-family:Menlo,'DejaVu Sans Mono',consolas,'Courier New',monospace\"><span style=\"font-weight: bold\">{</span>\n",
       "<span style=\"color: #7fbf7f; text-decoration-color: #7fbf7f\">│   </span><span style=\"color: #008000; text-decoration-color: #008000\">'activity_name'</span>: <span style=\"color: #008000; text-decoration-color: #008000\">'Khởi động, Ôn tập và Đặt vấn đề'</span>,\n",
       "<span style=\"color: #7fbf7f; text-decoration-color: #7fbf7f\">│   </span><span style=\"color: #008000; text-decoration-color: #008000\">'description'</span>: <span style=\"color: #008000; text-decoration-color: #008000\">'Học sinh sẽ bắt đầu bằng việc quan sát một số hình ảnh/video về các vật thể, công trình kiến trúc, hoặc hiện tượng tự nhiên có chứa hình ảnh đường tròn và tam giác (ví dụ: bánh xe, đồng hồ, logo, cầu, kim tự tháp, chòm sao). Sau đó, học sinh cá nhân suy nghĩ và trả lời các câu hỏi gợi mở của giáo viên về mối quan hệ giữa đường tròn và tam giác trong các hình ảnh đó. Tiếp theo, học sinh thảo luận theo nhóm nhỏ (đã được chia sẵn) để nhận diện và đặt ra các vấn đề thực tế mà việc hiểu biết về đường tròn ngoại tiếp và đường tròn nội tiếp có thể giúp giải quyết. Cuối cùng, các nhóm sẽ báo cáo nhanh một vấn đề đã tìm được.'</span>,\n",
       "<span style=\"color: #7fbf7f; text-decoration-color: #7fbf7f\">│   </span><span style=\"color: #008000; text-decoration-color: #008000\">'duration_minutes'</span>: <span style=\"color: #008080; text-decoration-color: #008080; font-weight: bold\">15</span>,\n",
       "<span style=\"color: #7fbf7f; text-decoration-color: #7fbf7f\">│   </span><span style=\"color: #008000; text-decoration-color: #008000\">'activity_type'</span>: <span style=\"color: #008000; text-decoration-color: #008000\">'Khởi động và Đặt vấn đề'</span>,\n",
       "<span style=\"color: #7fbf7f; text-decoration-color: #7fbf7f\">│   </span><span style=\"color: #008000; text-decoration-color: #008000\">'teacher_actions'</span>: <span style=\"font-weight: bold\">[</span>\n",
       "<span style=\"color: #7fbf7f; text-decoration-color: #7fbf7f\">│   │   </span><span style=\"color: #008000; text-decoration-color: #008000\">'Chuẩn bị và trình chiếu các hình ảnh/video đa dạng, hấp dẫn về đường tròn và tam giác trong thực tế.'</span>,\n",
       "<span style=\"color: #7fbf7f; text-decoration-color: #7fbf7f\">│   │   </span><span style=\"color: #008000; text-decoration-color: #008000\">\"Đặt các câu hỏi gợi mở ban đầu để kích thích tư duy của học sinh (ví dụ: 'Các em thấy hình tròn và hình tam giác xuất hiện ở đâu trong các hình ảnh này?', 'Có mối liên hệ đặc biệt nào giữa chúng không?').\"</span>,\n",
       "<span style=\"color: #7fbf7f; text-decoration-color: #7fbf7f\">│   │   </span><span style=\"color: #008000; text-decoration-color: #008000\">'Hướng dẫn học sinh thảo luận nhóm, khuyến khích các em liên hệ kiến thức đã học với thực tế.'</span>,\n",
       "<span style=\"color: #7fbf7f; text-decoration-color: #7fbf7f\">│   │   </span><span style=\"color: #008000; text-decoration-color: #008000\">'Đi vòng quanh các nhóm, lắng nghe, gợi ý và hỗ trợ khi cần thiết, đặc biệt là với các nhóm gặp khó khăn trong việc đặt vấn đề.'</span>,\n",
       "<span style=\"color: #7fbf7f; text-decoration-color: #7fbf7f\">│   │   </span><span style=\"color: #008000; text-decoration-color: #008000\">'Tổ chức chia nhóm học tập một cách hợp lý, có thể dựa trên kết quả học tập hoặc ngẫu nhiên để đảm bảo sự đa dạng trong mỗi nhóm.'</span>,\n",
       "<span style=\"color: #7fbf7f; text-decoration-color: #7fbf7f\">│   │   </span><span style=\"color: #008000; text-decoration-color: #008000\">'Yêu cầu đại diện các nhóm trình bày nhanh vấn đề đã tìm được và tổng kết các vấn đề chung.'</span>\n",
       "<span style=\"color: #7fbf7f; text-decoration-color: #7fbf7f\">│   </span><span style=\"font-weight: bold\">]</span>,\n",
       "<span style=\"color: #7fbf7f; text-decoration-color: #7fbf7f\">│   </span><span style=\"color: #008000; text-decoration-color: #008000\">'solution_guide'</span>: <span style=\"color: #008000; text-decoration-color: #008000\">\"Các câu hỏi gợi mở cho học sinh trong quá trình quan sát và thảo luận:\\n- 'Đường tròn này có vị trí gì đặc biệt so với tam giác (đi qua các đỉnh, tiếp xúc các cạnh)?'\\n- 'Trong thực tế, khi nào chúng ta cần vẽ một đường tròn đi qua ba điểm cho trước (ví dụ: xác định vị trí trung tâm của ba ngôi làng)?'\\n- 'Khi nào cần vẽ một đường tròn tiếp xúc với ba cạnh của một tam giác (ví dụ: thiết kế một khu vườn hình tam giác có hồ nước tròn lớn nhất bên trong)?'\\n- 'Việc biết về đường tròn ngoại tiếp/nội tiếp có ý nghĩa gì trong các lĩnh vực như kiến trúc, kỹ thuật, hay nghệ thuật?'\"</span>,\n",
       "<span style=\"color: #7fbf7f; text-decoration-color: #7fbf7f\">│   </span><span style=\"color: #008000; text-decoration-color: #008000\">'differentiation'</span>: <span style=\"font-weight: bold\">{</span>\n",
       "<span style=\"color: #7fbf7f; text-decoration-color: #7fbf7f\">│   │   </span><span style=\"color: #008000; text-decoration-color: #008000\">'for_struggling_students'</span>: <span style=\"color: #008000; text-decoration-color: #008000\">\"Cung cấp các hình ảnh/video đơn giản, dễ nhận diện hơn. Đặt các câu hỏi gợi ý cụ thể hơn (ví dụ: 'Trong hình ảnh này, đường tròn có đi qua các đỉnh của tam giác không?', 'Tam giác có nằm hoàn toàn bên trong đường tròn không?'). Cung cấp phiếu gợi ý với các từ khóa hoặc câu hỏi dẫn dắt để học sinh dễ dàng đặt vấn đề hơn trong thảo luận nhóm.\"</span>,\n",
       "<span style=\"color: #7fbf7f; text-decoration-color: #7fbf7f\">│   │   </span><span style=\"color: #008000; text-decoration-color: #008000\">'for_advanced_students'</span>: <span style=\"color: #008000; text-decoration-color: #008000\">'Yêu cầu học sinh không chỉ nhận diện mà còn giải thích sơ bộ tại sao đường tròn và tam giác lại được sử dụng như vậy trong các ví dụ thực tế. Thách thức các em đặt ra các vấn đề phức tạp hơn, có thể liên quan đến việc tối ưu hóa hoặc thiết kế, và suy nghĩ về cách kiến thức mới có thể giúp giải quyết vấn đề đó.'</span>\n",
       "<span style=\"color: #7fbf7f; text-decoration-color: #7fbf7f\">│   </span><span style=\"font-weight: bold\">}</span>\n",
       "<span style=\"font-weight: bold\">}</span>\n",
       "</pre>\n"
      ],
      "text/plain": [
       "\u001b[1m{\u001b[0m\n",
       "\u001b[2;32m│   \u001b[0m\u001b[32m'activity_name'\u001b[0m: \u001b[32m'Khởi động, Ôn tập và Đặt vấn đề'\u001b[0m,\n",
       "\u001b[2;32m│   \u001b[0m\u001b[32m'description'\u001b[0m: \u001b[32m'Học sinh sẽ bắt đầu bằng việc quan sát một số hình ảnh/video về các vật thể, công trình kiến trúc, hoặc hiện tượng tự nhiên có chứa hình ảnh đường tròn và tam giác \u001b[0m\u001b[32m(\u001b[0m\u001b[32mví dụ: bánh xe, đồng hồ, logo, cầu, kim tự tháp, chòm sao\u001b[0m\u001b[32m)\u001b[0m\u001b[32m. Sau đó, học sinh cá nhân suy nghĩ và trả lời các câu hỏi gợi mở của giáo viên về mối quan hệ giữa đường tròn và tam giác trong các hình ảnh đó. Tiếp theo, học sinh thảo luận theo nhóm nhỏ \u001b[0m\u001b[32m(\u001b[0m\u001b[32mđã được chia sẵn\u001b[0m\u001b[32m)\u001b[0m\u001b[32m để nhận diện và đặt ra các vấn đề thực tế mà việc hiểu biết về đường tròn ngoại tiếp và đường tròn nội tiếp có thể giúp giải quyết. Cuối cùng, các nhóm sẽ báo cáo nhanh một vấn đề đã tìm được.'\u001b[0m,\n",
       "\u001b[2;32m│   \u001b[0m\u001b[32m'duration_minutes'\u001b[0m: \u001b[1;36m15\u001b[0m,\n",
       "\u001b[2;32m│   \u001b[0m\u001b[32m'activity_type'\u001b[0m: \u001b[32m'Khởi động và Đặt vấn đề'\u001b[0m,\n",
       "\u001b[2;32m│   \u001b[0m\u001b[32m'teacher_actions'\u001b[0m: \u001b[1m[\u001b[0m\n",
       "\u001b[2;32m│   │   \u001b[0m\u001b[32m'Chuẩn bị và trình chiếu các hình ảnh/video đa dạng, hấp dẫn về đường tròn và tam giác trong thực tế.'\u001b[0m,\n",
       "\u001b[2;32m│   │   \u001b[0m\u001b[32m\"Đặt các câu hỏi gợi mở ban đầu để kích thích tư duy của học sinh \u001b[0m\u001b[32m(\u001b[0m\u001b[32mví dụ: 'Các em thấy hình tròn và hình tam giác xuất hiện ở đâu trong các hình ảnh này?', 'Có mối liên hệ đặc biệt nào giữa chúng không?'\u001b[0m\u001b[32m)\u001b[0m\u001b[32m.\"\u001b[0m,\n",
       "\u001b[2;32m│   │   \u001b[0m\u001b[32m'Hướng dẫn học sinh thảo luận nhóm, khuyến khích các em liên hệ kiến thức đã học với thực tế.'\u001b[0m,\n",
       "\u001b[2;32m│   │   \u001b[0m\u001b[32m'Đi vòng quanh các nhóm, lắng nghe, gợi ý và hỗ trợ khi cần thiết, đặc biệt là với các nhóm gặp khó khăn trong việc đặt vấn đề.'\u001b[0m,\n",
       "\u001b[2;32m│   │   \u001b[0m\u001b[32m'Tổ chức chia nhóm học tập một cách hợp lý, có thể dựa trên kết quả học tập hoặc ngẫu nhiên để đảm bảo sự đa dạng trong mỗi nhóm.'\u001b[0m,\n",
       "\u001b[2;32m│   │   \u001b[0m\u001b[32m'Yêu cầu đại diện các nhóm trình bày nhanh vấn đề đã tìm được và tổng kết các vấn đề chung.'\u001b[0m\n",
       "\u001b[2;32m│   \u001b[0m\u001b[1m]\u001b[0m,\n",
       "\u001b[2;32m│   \u001b[0m\u001b[32m'solution_guide'\u001b[0m: \u001b[32m\"Các câu hỏi gợi mở cho học sinh trong quá trình quan sát và thảo luận:\\n- 'Đường tròn này có vị trí gì đặc biệt so với tam giác \u001b[0m\u001b[32m(\u001b[0m\u001b[32mđi qua các đỉnh, tiếp xúc các cạnh\u001b[0m\u001b[32m)\u001b[0m\u001b[32m?'\\n- 'Trong thực tế, khi nào chúng ta cần vẽ một đường tròn đi qua ba điểm cho trước \u001b[0m\u001b[32m(\u001b[0m\u001b[32mví dụ: xác định vị trí trung tâm của ba ngôi làng\u001b[0m\u001b[32m)\u001b[0m\u001b[32m?'\\n- 'Khi nào cần vẽ một đường tròn tiếp xúc với ba cạnh của một tam giác \u001b[0m\u001b[32m(\u001b[0m\u001b[32mví dụ: thiết kế một khu vườn hình tam giác có hồ nước tròn lớn nhất bên trong\u001b[0m\u001b[32m)\u001b[0m\u001b[32m?'\\n- 'Việc biết về đường tròn ngoại tiếp/nội tiếp có ý nghĩa gì trong các lĩnh vực như kiến trúc, kỹ thuật, hay nghệ thuật?'\"\u001b[0m,\n",
       "\u001b[2;32m│   \u001b[0m\u001b[32m'differentiation'\u001b[0m: \u001b[1m{\u001b[0m\n",
       "\u001b[2;32m│   │   \u001b[0m\u001b[32m'for_struggling_students'\u001b[0m: \u001b[32m\"Cung cấp các hình ảnh/video đơn giản, dễ nhận diện hơn. Đặt các câu hỏi gợi ý cụ thể hơn \u001b[0m\u001b[32m(\u001b[0m\u001b[32mví dụ: 'Trong hình ảnh này, đường tròn có đi qua các đỉnh của tam giác không?', 'Tam giác có nằm hoàn toàn bên trong đường tròn không?'\u001b[0m\u001b[32m)\u001b[0m\u001b[32m. Cung cấp phiếu gợi ý với các từ khóa hoặc câu hỏi dẫn dắt để học sinh dễ dàng đặt vấn đề hơn trong thảo luận nhóm.\"\u001b[0m,\n",
       "\u001b[2;32m│   │   \u001b[0m\u001b[32m'for_advanced_students'\u001b[0m: \u001b[32m'Yêu cầu học sinh không chỉ nhận diện mà còn giải thích sơ bộ tại sao đường tròn và tam giác lại được sử dụng như vậy trong các ví dụ thực tế. Thách thức các em đặt ra các vấn đề phức tạp hơn, có thể liên quan đến việc tối ưu hóa hoặc thiết kế, và suy nghĩ về cách kiến thức mới có thể giúp giải quyết vấn đề đó.'\u001b[0m\n",
       "\u001b[2;32m│   \u001b[0m\u001b[1m}\u001b[0m\n",
       "\u001b[1m}\u001b[0m\n"
      ]
     },
     "metadata": {},
     "output_type": "display_data"
    },
    {
     "data": {
      "text/html": [
       "<pre style=\"white-space:pre;overflow-x:auto;line-height:normal;font-family:Menlo,'DejaVu Sans Mono',consolas,'Courier New',monospace\">\n",
       "<span style=\"color: #808000; text-decoration-color: #808000; font-weight: bold\">------- Hoàn thành bước: activity_designer -------</span>\n",
       "</pre>\n"
      ],
      "text/plain": [
       "\n",
       "\u001b[1;33m------- Hoàn thành bước: activity_designer -------\u001b[0m\n"
      ]
     },
     "metadata": {},
     "output_type": "display_data"
    },
    {
     "data": {
      "text/html": [
       "<pre style=\"white-space:pre;overflow-x:auto;line-height:normal;font-family:Menlo,'DejaVu Sans Mono',consolas,'Courier New',monospace\"><span style=\"color: #808000; text-decoration-color: #808000; font-weight: bold\">⚠️  Đã xảy ra lỗi nghiêm trọng trong quá trình chạy graph: At key </span><span style=\"color: #808000; text-decoration-color: #808000; font-weight: bold\">'current_content_to_validate'</span><span style=\"color: #808000; text-decoration-color: #808000; font-weight: bold\">: Can receive only </span>\n",
       "<span style=\"color: #808000; text-decoration-color: #808000; font-weight: bold\">one value per step. Use an Annotated key to handle multiple values.</span>\n",
       "<span style=\"color: #808000; text-decoration-color: #808000; font-weight: bold\">For troubleshooting, visit: </span>\n",
       "<span style=\"color: #808000; text-decoration-color: #808000; font-weight: bold; text-decoration: underline\">https://python.langchain.com/docs/troubleshooting/errors/INVALID_CONCURRENT_GRAPH_UPDATE</span>\n",
       "</pre>\n"
      ],
      "text/plain": [
       "\u001b[1;33m⚠️  Đã xảy ra lỗi nghiêm trọng trong quá trình chạy graph: At key \u001b[0m\u001b[1;33m'current_content_to_validate'\u001b[0m\u001b[1;33m: Can receive only \u001b[0m\n",
       "\u001b[1;33mone value per step. Use an Annotated key to handle multiple values.\u001b[0m\n",
       "\u001b[1;33mFor troubleshooting, visit: \u001b[0m\n",
       "\u001b[1;4;33mhttps://python.langchain.com/docs/troubleshooting/errors/INVALID_CONCURRENT_GRAPH_UPDATE\u001b[0m\n"
      ]
     },
     "metadata": {},
     "output_type": "display_data"
    },
    {
     "name": "stderr",
     "output_type": "stream",
     "text": [
      "Traceback (most recent call last):\n",
      "  File \"C:\\Users\\Hi\\AppData\\Local\\Temp\\ipykernel_27992\\3008306962.py\", line 21, in run_architect\n",
      "    async for event in app.astream(initial_state, config=config):\n",
      "  File \"c:\\Users\\Hi\\Documents\\IAI - UET\\AI-Lesson-Plan-Generator\\plan_venv\\Lib\\site-packages\\langgraph\\pregel\\main.py\", line 2954, in astream\n",
      "    loop.after_tick()\n",
      "  File \"c:\\Users\\Hi\\Documents\\IAI - UET\\AI-Lesson-Plan-Generator\\plan_venv\\Lib\\site-packages\\langgraph\\pregel\\_loop.py\", line 525, in after_tick\n",
      "    self.updated_channels = apply_writes(\n",
      "                            ^^^^^^^^^^^^^\n",
      "  File \"c:\\Users\\Hi\\Documents\\IAI - UET\\AI-Lesson-Plan-Generator\\plan_venv\\Lib\\site-packages\\langgraph\\pregel\\_algo.py\", line 298, in apply_writes\n",
      "    if channels[chan].update(vals) and next_version is not None:\n",
      "       ^^^^^^^^^^^^^^^^^^^^^^^^^^^\n",
      "  File \"c:\\Users\\Hi\\Documents\\IAI - UET\\AI-Lesson-Plan-Generator\\plan_venv\\Lib\\site-packages\\langgraph\\channels\\last_value.py\", line 64, in update\n",
      "    raise InvalidUpdateError(msg)\n",
      "langgraph.errors.InvalidUpdateError: At key 'current_content_to_validate': Can receive only one value per step. Use an Annotated key to handle multiple values.\n",
      "For troubleshooting, visit: https://python.langchain.com/docs/troubleshooting/errors/INVALID_CONCURRENT_GRAPH_UPDATE\n"
     ]
    }
   ],
   "source": [
    "# ==============================================================================\n",
    "# CELL 5.2: KÍCH HOẠT CHẠY THỬ NGHIỆM\n",
    "# ==============================================================================\n",
    "# Yêu cầu để kiểm tra\n",
    "architect_request = \"Soạn giúp tôi giáo án bài 'Đường tròn ngoại tiếp và đường tròn nội tiếp' cho học sinh lớp 9 trong 90 phút. Đây là một lớp học khá yếu, các em thường mất tập trung và cần các hoạt động có tính tương tác cao.\"\n",
    "VERBOSE_MODE = True \n",
    "\n",
    "# Chạy quy trình đã được cải cách\n",
    "# Lưu ý: bạn cần một môi trường hỗ trợ `await` ở cấp độ cao nhất (như Jupyter Notebook)\n",
    "await run_architect(architect_request)"
   ]
  }
 ],
 "metadata": {
  "kernelspec": {
   "display_name": "plan_venv",
   "language": "python",
   "name": "python3"
  },
  "language_info": {
   "codemirror_mode": {
    "name": "ipython",
    "version": 3
   },
   "file_extension": ".py",
   "mimetype": "text/x-python",
   "name": "python",
   "nbconvert_exporter": "python",
   "pygments_lexer": "ipython3",
   "version": "3.11.8"
  }
 },
 "nbformat": 4,
 "nbformat_minor": 5
}
