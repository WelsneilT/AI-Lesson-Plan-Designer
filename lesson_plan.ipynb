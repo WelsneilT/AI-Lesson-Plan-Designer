{
 "cells": [
  {
   "cell_type": "markdown",
   "id": "a3bfa357",
   "metadata": {},
   "source": [
    "## PHẦN 1: CÀI ĐẶT, IMPORTS & THIẾT LẬP BAN ĐẦU"
   ]
  },
  {
   "cell_type": "code",
   "execution_count": 59,
   "id": "f1b9d691",
   "metadata": {},
   "outputs": [],
   "source": [
    "# ==============================================================================\n",
    "# CELL 1.1: CÀI ĐẶT THƯ VIỆN & BIẾN MÔI TRƯỜNG (CẬP NHẬT)\n",
    "# ==============================================================================\n",
    "import os\n",
    "import json\n",
    "import asyncio\n",
    "import operator\n",
    "import time \n",
    "import re\n",
    "from typing import TypedDict, Annotated, List, Dict, Any, Literal, Optional, Union\n",
    "\n",
    "# Tải các biến môi trường\n",
    "from dotenv import load_dotenv \n",
    "load_dotenv()\n",
    "\n",
    "# LangChain & LangGraph\n",
    "from langchain_core.messages import BaseMessage, HumanMessage   \n",
    "from pydantic.v1 import BaseModel, Field, schema_json_of\n",
    "# --- NÂNG CẤP: Chuyển sang thư viện Google Generative AI (dành cho AI Studio) ---\n",
    "from langchain_google_genai import ChatGoogleGenerativeAI\n",
    "from langgraph.graph import StateGraph, END\n",
    "from langgraph.graph.message import add_messages\n",
    "\n",
    "# --- NÂNG CẤP: Thêm công cụ tìm kiếm ---\n",
    "from langchain_community.tools.tavily_search import TavilySearchResults\n",
    "\n",
    "# Thư viện hỗ trợ & Kho tri thức\n",
    "from langchain_community.vectorstores import FAISS\n",
    "from langchain_huggingface import HuggingFaceEmbeddings\n",
    "from rich.console import Console\n",
    "from rich.markdown import Markdown\n",
    "from rich.pretty import pprint\n",
    "from IPython.display import Image, display"
   ]
  },
  {
   "cell_type": "code",
   "execution_count": 60,
   "id": "eb563d80",
   "metadata": {},
   "outputs": [],
   "source": [
    "# ==============================================================================\n",
    "# CELL 1.2: CẤU HÌNH LOG & CÁC HÀM IN ẤN\n",
    "# ==============================================================================\n",
    "from langchain_groq import ChatGroq\n",
    "# --- CẤU HÌNH LOG ---\n",
    "VERBOSE_MODE = True\n",
    "\n",
    "# --- KHỞI TẠO CÁC CÔNG CỤ IN ẤN ---\n",
    "console = Console()\n",
    "\n",
    "def print_step(message: str):\n",
    "    if VERBOSE_MODE:\n",
    "        console.print(f\"\\n[bold cyan]>[/bold cyan] {message}\")\n",
    "\n",
    "def print_result(data: Any, title: str = \"Kết quả\"):\n",
    "    if VERBOSE_MODE:\n",
    "        console.print(f\"[bold green]✔️ {title}:[/bold green]\")\n",
    "        pprint(data, expand_all=True)\n",
    "        \n",
    "def print_warning(message: str):\n",
    "    if VERBOSE_MODE:\n",
    "        console.print(f\"[bold yellow]⚠️  {message}[/bold yellow]\")"
   ]
  },
  {
   "cell_type": "code",
   "execution_count": 61,
   "id": "eb8e3f51",
   "metadata": {},
   "outputs": [
    {
     "name": "stdout",
     "output_type": "stream",
     "text": [
      "✅ LLM (Gemini 2.5 Flash từ Google AI Studio) đã được khởi tạo thành công.\n"
     ]
    }
   ],
   "source": [
    "# ==============================================================================\n",
    "# CELL 1.3: KHỞI TẠO LLM (NÂNG CẤP SANG GOOGLE AI STUDIO)\n",
    "# ==============================================================================\n",
    "try:\n",
    "    llm = ChatGoogleGenerativeAI(\n",
    "        model=\"gemini-2.5-flash\", # Sử dụng model mới nhất và mạnh nhất\n",
    "        temperature=0.1,\n",
    "        google_api_key=os.getenv(\"GOOGLE_API_KEY\")\n",
    "    )\n",
    "    print(\"✅ LLM (Gemini 2.5 Flash từ Google AI Studio) đã được khởi tạo thành công.\")\n",
    "except Exception as e:\n",
    "    print(f\"❌ LỖI: Không thể khởi tạo LLM. Hãy chắc chắn bạn đã cài 'langchain-google-genai' và có GOOGLE_API_KEY trong file .env. Lỗi: {e}\")\n",
    "    llm = None"
   ]
  },
  {
   "cell_type": "code",
   "execution_count": 62,
   "id": "0e17e6e5",
   "metadata": {},
   "outputs": [
    {
     "data": {
      "text/html": [
       "<pre style=\"white-space:pre;overflow-x:auto;line-height:normal;font-family:Menlo,'DejaVu Sans Mono',consolas,'Courier New',monospace\"><span style=\"color: #808000; text-decoration-color: #808000; font-weight: bold\">⚠️  Trí nhớ trống, không có gì để xây dựng vector store.</span>\n",
       "</pre>\n"
      ],
      "text/plain": [
       "\u001b[1;33m⚠️  Trí nhớ trống, không có gì để xây dựng vector store.\u001b[0m\n"
      ]
     },
     "metadata": {},
     "output_type": "display_data"
    }
   ],
   "source": [
    "# ==============================================================================\n",
    "# CELL 1.5: KHỞI TẠO VÀ QUẢN LÝ TRÍ NHỚ DÀI HẠN (NÂNG CẤP V9.4)\n",
    "# ==============================================================================\n",
    "MEMORY_FILE_PATH = \"long_term_memory.json\"\n",
    "memory_vector_store = None\n",
    "\n",
    "# Hàm để tải trí nhớ từ file JSON\n",
    "def load_memory():\n",
    "    if not os.path.exists(MEMORY_FILE_PATH):\n",
    "        return []\n",
    "    with open(MEMORY_FILE_PATH, 'r', encoding='utf-8') as f:\n",
    "        return json.load(f)\n",
    "\n",
    "# Hàm để lưu một giáo án mới vào trí nhớ\n",
    "def save_to_memory(request: str, structured_plan: Dict[str, Any]):\n",
    "    memory = load_memory()\n",
    "    memory.append({\n",
    "        \"request\": request,\n",
    "        \"plan\": structured_plan\n",
    "    })\n",
    "    with open(MEMORY_FILE_PATH, 'w', encoding='utf-8') as f:\n",
    "        json.dump(memory, f, ensure_ascii=False, indent=2)\n",
    "    print_step(\"🧠 Đã lưu giáo án thành công vào Trí nhớ Dài hạn.\")\n",
    "\n",
    "# Hàm để tạo một vector store từ trí nhớ (để tìm kiếm tương đồng)\n",
    "def build_memory_vector_store():\n",
    "    global memory_vector_store\n",
    "    memory_content = load_memory()\n",
    "    if not memory_content:\n",
    "        print_warning(\"Trí nhớ trống, không có gì để xây dựng vector store.\")\n",
    "        return\n",
    "\n",
    "    # Chỉ lấy phần 'request' để tìm kiếm\n",
    "    texts = [item['request'] for item in memory_content]\n",
    "    # Lưu toàn bộ item làm metadata\n",
    "    metadatas = memory_content\n",
    "    \n",
    "    memory_vector_store = FAISS.from_texts(texts, embeddings, metadatas=metadatas)\n",
    "    print_step(\"✅ Đã xây dựng Vector Store cho Trí nhớ Dài hạn.\")\n",
    "\n",
    "# Tự động xây dựng vector store khi khởi động notebook\n",
    "build_memory_vector_store()"
   ]
  },
  {
   "cell_type": "markdown",
   "id": "3ba01f0c",
   "metadata": {},
   "source": [
    "## PHẦN 2: ĐỊNH NGHĨA STATE CỦA HỆ THỐNG\n"
   ]
  },
  {
   "cell_type": "code",
   "execution_count": 63,
   "id": "9d8894ca",
   "metadata": {},
   "outputs": [
    {
     "data": {
      "text/html": [
       "<pre style=\"white-space:pre;overflow-x:auto;line-height:normal;font-family:Menlo,'DejaVu Sans Mono',consolas,'Courier New',monospace\">\n",
       "<span style=\"color: #008080; text-decoration-color: #008080; font-weight: bold\">&gt;</span> Đang tải và hợp nhất các kho tri thức từ <span style=\"color: #008080; text-decoration-color: #008080; font-weight: bold\">2</span> thư mục<span style=\"color: #808000; text-decoration-color: #808000\">...</span>\n",
       "</pre>\n"
      ],
      "text/plain": [
       "\n",
       "\u001b[1;36m>\u001b[0m Đang tải và hợp nhất các kho tri thức từ \u001b[1;36m2\u001b[0m thư mục\u001b[33m...\u001b[0m\n"
      ]
     },
     "metadata": {},
     "output_type": "display_data"
    },
    {
     "name": "stdout",
     "output_type": "stream",
     "text": [
      "✅ Đã tải thành công kho tri thức cơ sở: 'sgk_toan_12_1'\n",
      "✅ Đã hợp nhất thành công: 'sgk_toan_9'\n",
      "\n",
      "[bold green]✔️ Tất cả các kho tri thức RAG đã được tải và hợp nhất thành công.[/bold green]\n"
     ]
    }
   ],
   "source": [
    "# ==============================================================================\n",
    "# CELL 1.4: TẢI KHO TRI THỨC (RAG)\n",
    "# ==============================================================================\n",
    "# --- TẢI KHO TRI THỨC ---\n",
    "BASE_VECTOR_STORE_PATH = \"vector_store\"\n",
    "vector_store = None\n",
    "embeddings = HuggingFaceEmbeddings(model_name=\"all-MiniLM-L6-v2\")\n",
    "\n",
    "if os.path.exists(BASE_VECTOR_STORE_PATH):\n",
    "    subdirectories = [f.path for f in os.scandir(BASE_VECTOR_STORE_PATH) if f.is_dir()]\n",
    "    if not subdirectories:\n",
    "        print(f\"❌ LỖI: Không tìm thấy thư mục con nào trong '{BASE_VECTOR_STORE_PATH}'.\")\n",
    "    else:\n",
    "        try:\n",
    "            print_step(f\"Đang tải và hợp nhất các kho tri thức từ {len(subdirectories)} thư mục...\")\n",
    "            # Tải kho tri thức đầu tiên để làm cơ sở\n",
    "            first_store_path = subdirectories.pop(0)\n",
    "            vector_store = FAISS.load_local(first_store_path, embeddings, allow_dangerous_deserialization=True)\n",
    "            print(f\"✅ Đã tải thành công kho tri thức cơ sở: '{os.path.basename(first_store_path)}'\")\n",
    "\n",
    "            # Hợp nhất các kho tri thức còn lại\n",
    "            for store_path in subdirectories:\n",
    "                if os.path.exists(os.path.join(store_path, \"index.faiss\")):\n",
    "                    temp_store = FAISS.load_local(store_path, embeddings, allow_dangerous_deserialization=True)\n",
    "                    vector_store.merge_from(temp_store)\n",
    "                    print(f\"✅ Đã hợp nhất thành công: '{os.path.basename(store_path)}'\")\n",
    "                else:\n",
    "                    print_warning(f\"Bỏ qua thư mục '{os.path.basename(store_path)}' vì không chứa file index.faiss.\")\n",
    "            \n",
    "            print(\"\\n[bold green]✔️ Tất cả các kho tri thức RAG đã được tải và hợp nhất thành công.[/bold green]\")\n",
    "\n",
    "        except Exception as e:\n",
    "            print(f\"❌ LỖI trong quá trình tải hoặc hợp nhất kho tri thức: {e}\")\n",
    "else:\n",
    "    print(f\"❌ LỖI: Không tìm thấy thư mục gốc của kho tri thức tại '{BASE_VECTOR_STORE_PATH}'.\")\n"
   ]
  },
  {
   "cell_type": "code",
   "execution_count": 64,
   "id": "38cfae91",
   "metadata": {},
   "outputs": [
    {
     "name": "stdout",
     "output_type": "stream",
     "text": [
      "✅ 'TeacherStateV5' (v9.0 - Hỗ trợ Phân hóa & Cấu trúc) đã được định nghĩa.\n"
     ]
    }
   ],
   "source": [
    "# ==============================================================================\n",
    "# CELL 2.1: ĐỊNH NGHĨA STATE NÂNG CAO (v9.0)\n",
    "# ==============================================================================\n",
    "from typing import TypedDict, Annotated, List, Dict, Any, Literal, Optional, Union\n",
    "from langchain_core.messages import BaseMessage\n",
    "from langgraph.graph.message import add_messages\n",
    "import operator\n",
    "\n",
    "# --- Hàm tiện ích (giữ nguyên) ---\n",
    "def merge_dicts(dict1: Dict[str, Any], dict2: Dict[str, Any]) -> Dict[str, Any]:\n",
    "    merged = dict1.copy()\n",
    "    for key, value in dict2.items():\n",
    "        if key in merged and isinstance(merged[key], dict) and isinstance(value, dict):\n",
    "            merged[key] = merge_dicts(merged[key], value)\n",
    "        else:\n",
    "            merged[key] = value\n",
    "    return merged\n",
    "\n",
    "# --- Cấu trúc dữ liệu con (giữ nguyên) ---\n",
    "class DetailedTask(TypedDict):\n",
    "    task_id: int\n",
    "    task_name: str\n",
    "    task_description: str\n",
    "    estimated_duration: int \n",
    "    status: Literal[\"pending\", \"completed\"]\n",
    "\n",
    "# === NÂNG CẤP V9.0: CÁC CẤU TRÚC DỮ LIỆU MỚI CHO TƯ DUY SÂU ===\n",
    "class DifferentiatedInstruction(TypedDict):\n",
    "    \"\"\"Gợi ý cho việc dạy học phân hóa trong một hoạt động.\"\"\"\n",
    "    for_struggling_students: str\n",
    "    for_advanced_students: str\n",
    "\n",
    "class StructuredContentItem(TypedDict):\n",
    "    \"\"\"Định nghĩa một hoạt động hoặc đánh giá có cấu trúc.\"\"\"\n",
    "    task_id: int\n",
    "    activity_name: str\n",
    "    question_or_description: str # Gộp 'question' và 'description'\n",
    "    duration_minutes: int\n",
    "    content_type: str # Gộp 'activity_type' và 'question_type'\n",
    "    teacher_actions: List[str]\n",
    "    solution_guide: Any\n",
    "    answer: Optional[str] # Dành cho câu hỏi đánh giá\n",
    "    differentiation: Optional[DifferentiatedInstruction]\n",
    "\n",
    "class FinalStructuredPlan(TypedDict):\n",
    "    \"\"\"Định nghĩa cấu trúc JSON cho giáo án cuối cùng.\"\"\"\n",
    "    general_info: Dict[str, Any]\n",
    "    learning_objectives: List[str]\n",
    "    preparation: Dict[str, List[str]]\n",
    "    knowledge_summary: str\n",
    "    lesson_flow: List[StructuredContentItem]\n",
    "    # pedagogical_explainer: Dict[str, Any] # Dành cho nâng cấp tương lai\n",
    "\n",
    "# === NÂNG CẤP V9.0: STATE MỚI VỚI CÁC TRƯỜNG TRÍ TUỆ MỚI ===\n",
    "class TeacherStateV5(TypedDict):\n",
    "    # Các trường cơ bản\n",
    "    original_request: str\n",
    "    messages: Annotated[List[BaseMessage], add_messages]\n",
    "    domain: Optional[str]\n",
    "    \n",
    "    # === NÂNG CẤP: student_persona giờ sẽ chứa cả chiến lược phân hóa ===\n",
    "    student_persona: Optional[Dict[str, Any]] \n",
    "    \n",
    "    # Các bước tuần tự ban đầu\n",
    "    analyzed_objective: Optional[Any]\n",
    "    pedagogy_strategy: Optional[Any]\n",
    "    pedagogical_blueprint: Optional[List[str]]\n",
    "\n",
    "    # Các trường nâng cao\n",
    "    expanded_queries: Optional[List[str]]\n",
    "    task_list: Optional[List[DetailedTask]]\n",
    "    current_task_id: Optional[int]\n",
    "    reflection_notes: Optional[str]\n",
    "    agent_outputs: Annotated[Dict[str, Any], merge_dicts] \n",
    "    next_agent: str\n",
    "    \n",
    "    # Các trường tạm thời cho vòng lặp kiểm duyệt vi mô (Micro-loop)\n",
    "    current_content_to_validate: Optional[Dict[str, Any]]\n",
    "    validation_feedback: Optional[str]\n",
    "\n",
    "    inspirational_example: Optional[List[Dict[str, Any]]]\n",
    "\n",
    "    # === NÂNG CẤP: Output cuối cùng sẽ có 2 dạng ===\n",
    "    final_structured_plan: Optional[FinalStructuredPlan] # Dạng JSON có cấu trúc\n",
    "    final_markdown_plan: Optional[str] # Dạng Markdown để hiển thị\n",
    "\n",
    "print(\"✅ 'TeacherStateV5' (v9.0 - Hỗ trợ Phân hóa & Cấu trúc) đã được định nghĩa.\")"
   ]
  },
  {
   "cell_type": "code",
   "execution_count": 65,
   "id": "deb1ba5e",
   "metadata": {},
   "outputs": [
    {
     "name": "stdout",
     "output_type": "stream",
     "text": [
      "✅ Node khởi tạo 'initialize_state_node' đã được định nghĩa.\n"
     ]
    }
   ],
   "source": [
    "# ==============================================================================\n",
    "# CELL 2.2: NODE KHỞI TẠO STATE\n",
    "# ==============================================================================\n",
    "def initialize_state_node(state: TeacherStateV5) -> Dict[str, Any]:\n",
    "    \"\"\"\n",
    "    Node đầu tiên trong graph.\n",
    "    Lấy yêu cầu gốc từ tin nhắn đầu vào và điền vào trường 'original_request'.\n",
    "    \"\"\"\n",
    "    print_step(\"`Initializer`: Đang khởi tạo trạng thái và lấy yêu cầu gốc...\")\n",
    "    user_request = state['messages'][-1].content\n",
    "    return {\"original_request\": user_request}\n",
    "\n",
    "print(\"✅ Node khởi tạo 'initialize_state_node' đã được định nghĩa.\")"
   ]
  },
  {
   "cell_type": "markdown",
   "id": "924d794f",
   "metadata": {},
   "source": [
    "## PHẦN 3: ĐỊNH NGHĨA CÁC AGENT"
   ]
  },
  {
   "cell_type": "code",
   "execution_count": 66,
   "id": "8cc95063",
   "metadata": {},
   "outputs": [
    {
     "name": "stdout",
     "output_type": "stream",
     "text": [
      "✅ Các cấu trúc dữ liệu Pydantic (v9.7 - Hoạt động Linh hoạt) đã được định nghĩa.\n"
     ]
    }
   ],
   "source": [
    "# ==============================================================================\n",
    "# CELL 3.1: HÀM TIỆN ÍCH & CẤU TRÚC DỮ LIỆU (v9.7 - TƯ DUY LINH HOẠT)\n",
    "# ==============================================================================\n",
    "import json\n",
    "from pydantic.v1 import BaseModel, Field, schema_json_of\n",
    "from typing import List, Dict, Any, Literal, Optional\n",
    "\n",
    "# --- Các hàm tiện ích giữ nguyên ---\n",
    "def format_solution_guide(guide: Any) -> str:\n",
    "    if not guide: return \"Chưa có hướng dẫn.\"\n",
    "    if isinstance(guide, str): return guide\n",
    "    if isinstance(guide, list): return \"\\n\".join(f\"- {step}\" for step in guide)\n",
    "    if isinstance(guide, dict): return \"\\n\".join(f\"- {key.replace('_', ' ').title()}: {value}\" for key, value in guide.items())\n",
    "    return str(guide)\n",
    "\n",
    "def format_teacher_actions(actions: Optional[List[str]]) -> str:\n",
    "    if not actions: return \"Giáo viên quan sát và hỗ trợ chung.\"\n",
    "    return \"\\n\".join(f\"  - {action}\" for action in actions)\n",
    "\n",
    "def update_agent_outputs(state: \"TeacherStateV5\", key: str, value: Any) -> Dict[str, Any]:\n",
    "    outputs = state.get(\"agent_outputs\", {}).copy()\n",
    "    if key not in outputs: outputs[key] = []\n",
    "    outputs[key].append(value)\n",
    "    return {\"agent_outputs\": outputs}\n",
    "\n",
    "SYSTEM_PERSONA_PROMPT = \"BẠN LÀ MỘT TRỢ LÝ AI CHUYÊN NGHIỆP, ĐÓNG VAI TRÒ MỘT GIÁO VIÊN GIÀU KINH NGHIỆM TẠI VIỆT NAM. LUÔN LUÔN trả lời bằng TIẾNG VIỆT.\"\n",
    "\n",
    "# === CẬP NHẬT CẤU TRÚC HOẠT ĐỘNG LINH HOẠT ===\n",
    "class DifferentiatedInstructionModel(BaseModel):\n",
    "    for_struggling_students: str = Field(description=\"Gợi ý cụ thể cho nhóm học sinh yếu/gặp khó khăn.\")\n",
    "    for_advanced_students: str = Field(description=\"Gợi ý, thử thách hoặc hoạt động nâng cao cho nhóm học sinh giỏi.\")\n",
    "\n",
    "class LearningActivity(BaseModel):\n",
    "    activity_name: str = Field(description=\"Tên của hoạt động học tập.\")\n",
    "    activity_type: str = Field(description=\"Phân loại hoạt động. Ví dụ: 'Thảo luận nhóm', 'Thực hành cá nhân'\")\n",
    "    duration_minutes: int = Field(description=\"Tổng thời gian ước tính (bằng SỐ PHÚT) cho cả hai phần.\")\n",
    "    teacher_actions: List[str] = Field(description=\"Danh sách các hành động CỤ THỂ của GIÁO VIÊN.\")\n",
    "    # Thay 'description' bằng cấu trúc Lõi/Mở rộng\n",
    "    core_component: str = Field(description=\"Mô tả phần hoạt động CỐT LÕI mà TẤT CẢ học sinh cần hoàn thành.\")\n",
    "    extension_component: Optional[str] = Field(description=\"Mô tả phần hoạt động MỞ RỘNG dành cho học sinh làm nhanh hoặc nếu còn dư thời gian.\")\n",
    "    solution_guide: Optional[Any] = Field(description=\"Hướng dẫn giải hoặc các câu hỏi gợi mở.\")\n",
    "    differentiation: Optional[DifferentiatedInstructionModel] = Field(description=\"Gợi ý phân hóa cụ thể cho hoạt động này.\")\n",
    "\n",
    "class AssessmentItem(BaseModel):\n",
    "    activity_name: str = Field(description=\"Tên của hoạt động đánh giá.\")\n",
    "    question_type: str = Field(description=\"Loại câu hỏi. Ví dụ: 'Tự luận', 'Trắc nghiệm'\")\n",
    "    duration_minutes: int = Field(description=\"Tổng thời gian ước tính (bằng SỐ PHÚT) cho cả hai phần.\")\n",
    "    teacher_actions: List[str] = Field(description=\"Danh sách các hành động CỤ THỂ của GIÁO VIÊN.\")\n",
    "    # Thay 'question' bằng cấu trúc Lõi/Mở rộng\n",
    "    core_component: str = Field(description=\"Nội dung câu hỏi hoặc đề bài CỐT LÕI mà TẤT CẢ học sinh cần hoàn thành.\")\n",
    "    extension_component: Optional[str] = Field(description=\"Câu hỏi phụ hoặc thử thách MỞ RỘNG dành cho học sinh làm nhanh hoặc nếu còn dư thời gian.\")\n",
    "    answer: str = Field(description=\"Đáp án chính xác và ngắn gọn cho phần CỐT LÕI.\")\n",
    "    solution_guide: Any = Field(description=\"Hướng dẫn giải chi tiết từng bước.\")\n",
    "    differentiation: Optional[DifferentiatedInstructionModel] = Field(description=\"Gợi ý phân hóa cụ thể cho hoạt động này.\")\n",
    "\n",
    "# --- Các model khác giữ nguyên ---\n",
    "class StudentPersona(BaseModel):\n",
    "    learning_pace: Literal[\"nhanh\", \"trung bình\", \"chậm\"] = Field(description=\"Tốc độ học tập chung của lớp.\")\n",
    "    engagement_style: Literal[\"chủ động\", \"thụ động\", \"hỗn hợp\"] = Field(description=\"Mức độ tham gia chung của lớp.\")\n",
    "    special_notes: str = Field(description=\"Tóm tắt các đặc điểm nổi bật của lớp học.\")\n",
    "\n",
    "class StudentPersonaAndDifferentiation(StudentPersona):\n",
    "    differentiation_strategy: DifferentiatedInstructionModel = Field(description=\"Chiến lược dạy học phân hóa tổng thể cho cả bài học dựa trên các đặc điểm của lớp.\")\n",
    "\n",
    "class DetailedTaskModel(BaseModel):\n",
    "    task_name: str = Field(description=\"Tên của nhiệm vụ này.\")\n",
    "    task_description: str = Field(description=\"Mô tả chi tiết nhiệm vụ cần thực hiện.\")\n",
    "    estimated_duration: int = Field(description=\"Thời gian ước tính (bằng phút) cho nhiệm vụ này.\")\n",
    "\n",
    "class TaskListWithDuration(BaseModel):\n",
    "    tasks: List[DetailedTaskModel]\n",
    "\n",
    "class DetailedPedagogyChoice(BaseModel):\n",
    "    name: str = Field(description=\"Tên của phương pháp sư phạm được chọn.\")\n",
    "    rationale: str = Field(description=\"Lý do tại sao phương pháp này phù hợp.\")\n",
    "    key_actions: List[str] = Field(description=\"Danh sách các hành động/hoạt động cốt lõi đặc trưng cho phương pháp này.\")\n",
    "\n",
    "class ValidationResult(BaseModel):\n",
    "    is_valid: bool = Field(description=\"Nội dung có hợp lệ và chính xác về mặt chuyên môn không.\")\n",
    "    feedback: str = Field(description=\"Phản hồi chi tiết. Nếu không hợp lệ, hãy giải thích rõ ràng lỗi sai và gợi ý cách sửa.\")\n",
    "    suggested_duration: Optional[int] = Field(default=None, description=\"Nếu có lỗi về thời gian, hãy đề xuất một thời lượng hợp lý hơn (tính bằng SỐ PHÚT).\")\n",
    "\n",
    "class Domain(BaseModel): domain: str = Field(description=\"Lĩnh vực học thuật chính của yêu cầu.\")\n",
    "class ExpandedQueries(BaseModel): queries: List[str]\n",
    "class BestSnippets(BaseModel): best_snippets: List[str]\n",
    "class ParsedObjective(BaseModel): action_verb: str; bloom_level: int; topic: str; grade_level: str; duration_minutes: Optional[int]\n",
    "class TaskClassification(BaseModel): agent_category: Literal[\"activity_designer\", \"theory_synthesizer\", \"assessment_creator\"]\n",
    "class BlueprintStage(BaseModel): stage_name: str; stage_objective: str; stage_direction: str\n",
    "class PedagogicalBlueprint(BaseModel): blueprint: List[BlueprintStage]\n",
    "\n",
    "print(\"✅ Các cấu trúc dữ liệu Pydantic (v9.7 - Hoạt động Linh hoạt) đã được định nghĩa.\")"
   ]
  },
  {
   "cell_type": "code",
   "execution_count": 67,
   "id": "be758847",
   "metadata": {},
   "outputs": [
    {
     "name": "stdout",
     "output_type": "stream",
     "text": [
      "✅ Các agent phân tích yêu cầu ban đầu (v9.0 - Hỗ trợ Phân hóa) đã sẵn sàng.\n"
     ]
    }
   ],
   "source": [
    "# ==============================================================================\n",
    "# CELL 3.2: AGENT PHÂN TÍCH YÊU CẦU BAN ĐẦU (NÂNG CẤP V9.0)\n",
    "# ==============================================================================\n",
    "async def objective_interpreter_agent(state: \"TeacherStateV5\") -> Dict[str, Any]:\n",
    "    print_step(\"`Agent: Objective Interpreter` (v7.5) đang phân tích mục tiêu...\")\n",
    "    prompt = f\"{SYSTEM_PERSONA_PROMPT}\\n**NHIỆM VỤ:** Đọc yêu cầu của người dùng và trích xuất các thông tin sau.\\n**YÊU CẦU:** \\\"{state['original_request']}\\\"\\n**CÁC TRƯỜNG CẦN TRÍCH XUẤT:** `action_verb`, `bloom_level` (SỐ NGUYÊN), `topic`, `grade_level`, `duration_minutes`.\\n**CHỈ TRẢ VỀ JSON.**\"\n",
    "    structured_llm = llm.with_structured_output(ParsedObjective, method=\"json_mode\")\n",
    "    try:\n",
    "        parsed_result = await structured_llm.ainvoke(prompt)\n",
    "        analyzed_objective_dict = parsed_result.dict()\n",
    "        analyzed_objective_dict['constraints'] = {'duration_minutes': parsed_result.duration_minutes}\n",
    "        del analyzed_objective_dict['duration_minutes']\n",
    "        print_result(analyzed_objective_dict, \"Mục tiêu & Ràng buộc đã phân tích\")\n",
    "        return {\"analyzed_objective\": analyzed_objective_dict}\n",
    "    except Exception as e:\n",
    "        print_warning(f\"Lỗi tại Objective Interpreter: {e}. Sử dụng mục tiêu mặc định.\")\n",
    "        return {\"analyzed_objective\": { \"action_verb\": \"soạn\", \"bloom_level\": 3, \"topic\": state['original_request'], \"grade_level\": \"9\", \"constraints\": {\"duration_minutes\": 90} }}\n",
    "\n",
    "async def domain_classifier_agent(state: \"TeacherStateV5\") -> Dict[str, Any]:\n",
    "    print_step(\"`Agent: Domain Classifier` (v7.5) đang xác định lĩnh vực chuyên môn...\")\n",
    "    prompt = f\"{SYSTEM_PERSONA_PROMPT}\\n**NHIỆM VỤ:** Đọc yêu cầu của người dùng và xác định lĩnh vực học thuật chính.\\n**YÊU CẦU:** \\\"{state['original_request']}\\\"\\n**LĨNH VỰC CÓ THỂ CHỌN:** 'Toán học', 'Vật lý', 'Hóa học', 'Sinh học', 'Văn học', 'Lịch sử', 'Địa lý', 'Ngoại ngữ', 'Tin học'.\\n**YÊU CẦU ĐỊNH DẠNG:** Trả về JSON với key `domain`.\"\n",
    "    structured_llm = llm.with_structured_output(Domain, method=\"json_mode\")\n",
    "    try:\n",
    "        result = await structured_llm.ainvoke(prompt)\n",
    "        print_result(result.domain, \"Lĩnh vực chuyên môn được xác định\")\n",
    "        return {\"domain\": result.domain}\n",
    "    except Exception as e:\n",
    "        print_warning(f\"Lỗi tại Domain Classifier: {e}. Sử dụng lĩnh vực mặc định 'Toán học'.\")\n",
    "        return {\"domain\": \"Toán học\"}\n",
    "\n",
    "# === NÂNG CẤP: Agent này giờ đây là một nhà tư vấn chiến lược ===\n",
    "# === SỬA LỖI PARSING: Prompt được làm rõ ràng hơn về cấu trúc lồng nhau ===\n",
    "async def differentiated_instruction_advisor_agent(state: \"TeacherStateV5\") -> Dict[str, Any]:\n",
    "    print_step(\"`Agent: Differentiated Instruction Advisor` (v9.1) đang phân tích và đề xuất chiến lược phân hóa...\")\n",
    "    prompt = f\"\"\"{SYSTEM_PERSONA_PROMPT}\n",
    "    **VAI TRÒ:** Bạn là một chuyên gia sư phạm, chuyên về dạy học phân hóa.\n",
    "    **NHIỆM VỤ:** Phân tích mô tả về lớp học dưới đây và đề xuất một chiến lược dạy học phân hóa TỔNG THỂ cho cả buổi học.\n",
    "    **YÊU CẦU CỦA GIÁO VIÊN:** \"{state['original_request']}\"\n",
    "    \n",
    "    **CÁC BƯỚC SUY LUẬN (BẮT BUỘC):**\n",
    "    1.  **Phân tích Đặc điểm:** Dựa vào các từ khóa, hãy xác định `learning_pace`, `engagement_style`, và tóm tắt vào `special_notes`.\n",
    "    2.  **Đề xuất Chiến lược Phân hóa:** Dựa trên phân tích trên, hãy điền vào đối tượng `differentiation_strategy`. Đây PHẢI là một đối tượng JSON có 2 trường sau:\n",
    "        -   `for_struggling_students`: Một chiến lược cụ thể để **hỗ trợ** nhóm học sinh có thể gặp khó khăn. (Ví dụ: \"Chia nhỏ nhiệm vụ, cung cấp phiếu bài tập có gợi ý công thức, cho phép thêm thời gian.\")\n",
    "        -   `for_advanced_students`: Một chiến lược cụ thể để **thử thách** nhóm học sinh khá giỏi. (Ví dụ: \"Chuẩn bị các câu hỏi mở rộng 'Tại sao?' và 'Nếu... thì sao?', giao một bài toán ứng dụng thực tế nhỏ.\")\n",
    "\n",
    "    **YÊU CẦU ĐỊNH DẠNG:** BẮT BUỘC trả về một đối tượng JSON duy nhất tuân thủ schema `StudentPersonaAndDifferentiation`. Trường `differentiation_strategy` PHẢI là một object lồng vào bên trong.\n",
    "    \"\"\"\n",
    "    structured_llm = llm.with_structured_output(StudentPersonaAndDifferentiation, method=\"json_mode\")\n",
    "    try:\n",
    "        result = await structured_llm.ainvoke(prompt)\n",
    "        print_result(result.dict(), \"Hồ sơ lớp học và Chiến lược Phân hóa\")\n",
    "        return {\"student_persona\": result.dict()}\n",
    "    except Exception as e:\n",
    "        print_warning(f\"Lỗi tại Differentiated Instruction Advisor: {e}. Sử dụng hồ sơ mặc định.\")\n",
    "        fallback_persona = {\n",
    "            \"learning_pace\": \"trung bình\",\n",
    "            \"engagement_style\": \"hỗn hợp\",\n",
    "            \"special_notes\": \"Không có ghi chú đặc biệt.\",\n",
    "            \"differentiation_strategy\": {\n",
    "                \"for_struggling_students\": \"Quan sát và hỗ trợ thêm khi cần thiết.\",\n",
    "                \"for_advanced_students\": \"Khuyến khích các em tìm tòi thêm.\"\n",
    "            }\n",
    "        }\n",
    "        return {\"student_persona\": fallback_persona}\n",
    "\n",
    "print(\"✅ Các agent phân tích yêu cầu ban đầu (v9.0 - Hỗ trợ Phân hóa) đã sẵn sàng.\")"
   ]
  },
  {
   "cell_type": "code",
   "execution_count": 68,
   "id": "68b5bcd8",
   "metadata": {},
   "outputs": [
    {
     "name": "stdout",
     "output_type": "stream",
     "text": [
      "✅ Các agent lập kế hoạch chiến lược đã sẵn sàng.\n"
     ]
    }
   ],
   "source": [
    "# ==============================================================================\n",
    "# CELL 3.3: AGENT LẬP KẾ HOẠCH CHIẾN LƯỢC (v7.5)\n",
    "# ==============================================================================\n",
    "async def pedagogy_strategist_agent(state: \"TeacherStateV5\") -> Dict[str, Any]:\n",
    "    print_step(\"`Agent: Pedagogy Strategist` (v7.5) đang xây dựng chiến lược sư phạm chi tiết...\")\n",
    "    prompt = f\"\"\"{SYSTEM_PERSONA_PROMPT}\n",
    "    **MỤC TIÊU BÀI HỌC:** {state.get('analyzed_objective')}\n",
    "    **HỒ SƠ LỚP HỌC:** {state.get('student_persona')}\n",
    "    **NHIỆM VỤ:** Dựa vào mục tiêu và hồ sơ lớp học, hãy chọn MỘT phương pháp sư phạm phù hợp nhất. Sau đó, phân tích phương pháp đó thành các hành động cốt lõi.\n",
    "    **VÍ DỤ:** Nếu chọn 'Dạy học theo dự án', key_actions có thể là [\"Giao dự án\", \"Học sinh làm việc nhóm\", \"Báo cáo sản phẩm\"].\n",
    "    **YÊU CẦU ĐỊNH DẠNG:** Trả về JSON với các key `name`, `rationale`, `key_actions`.\n",
    "    \"\"\"\n",
    "    structured_llm = llm.with_structured_output(DetailedPedagogyChoice, method=\"json_mode\")\n",
    "    try:\n",
    "        result = await structured_llm.ainvoke(prompt)\n",
    "        print_result(result.dict(), \"Chiến lược sư phạm chi tiết\")\n",
    "        return {\"pedagogy_strategy\": result.dict()}\n",
    "    except Exception as e:\n",
    "        print_warning(f\"Lỗi tại Pedagogy Strategist: {e}. Sử dụng chiến lược mặc định.\")\n",
    "        return {\"pedagogy_strategy\": {\"name\": \"Dạy học giải quyết vấn đề\", \"rationale\": \"Mặc định do lỗi.\", \"key_actions\": [\"Nêu vấn đề\", \"Học sinh tìm giải pháp\", \"Trình bày kết quả\"]}}\n",
    "\n",
    "async def pedagogical_architect_agent(state: \"TeacherStateV5\") -> Dict[str, Any]:\n",
    "    print_step(\"`Agent: Pedagogical Architect` (v9.4) đang thiết kế kịch bản buổi học...\")\n",
    "    \n",
    "    inspirational_example = state.get(\"inspirational_example\")\n",
    "    example_prompt_part = \"\"\n",
    "    if inspirational_example:\n",
    "        example_prompt_part = f\"\"\"\n",
    "        **VÍ DỤ THAM KHẢO (TỪ MỘT GIÁO ÁN THÀNH CÔNG TRƯỚC ĐÂY):**\n",
    "        Đây là một luồng hoạt động đã được chứng minh là hiệu quả cho một chủ đề tương tự. Hãy học hỏi cấu trúc và cách tiếp cận từ nó:\n",
    "        ```json\n",
    "        {json.dumps(inspirational_example, ensure_ascii=False, indent=2)}\n",
    "        ```\n",
    "        \"\"\"\n",
    "    \n",
    "    prompt = f\"\"\"{SYSTEM_PERSONA_PROMPT} Với vai trò là một chuyên gia thiết kế trải nghiệm học tập.\n",
    "    **NHIỆM VỤ:** Xây dựng một \"Bản thiết kế Sư phạm\" - một kịch bản CẤP CAO cho buổi học.\n",
    "    \n",
    "    {example_prompt_part}\n",
    "    **QUY TẮC:**\n",
    "    1.  Tạo ra 3-5 giai đoạn chính cho dòng chảy của buổi học.\n",
    "    2.  Mỗi giai đoạn phải có tên (`stage_name`), mục tiêu (`stage_objective`), và định hướng (`stage_direction`).\n",
    "    3.  Đảm bảo độ khó tăng tiến qua các giai đoạn.\n",
    "    **THÔNG TIN PHÂN TÍCH:**\n",
    "    - Mục tiêu: {state.get('analyzed_objective')}\n",
    "    - Hồ sơ lớp học: {state.get('student_persona')}\n",
    "    - Chiến lược Sư phạm: {state.get('pedagogy_strategy')}\n",
    "    **YÊU CẦU ĐỊNH DẠNG:** Trả về JSON với key là `blueprint`, giá trị là một danh sách các đối tượng Stage.\n",
    "    \"\"\"\n",
    "    structured_llm = llm.with_structured_output(PedagogicalBlueprint, method=\"json_mode\")\n",
    "    try:\n",
    "        result = await structured_llm.ainvoke(prompt)\n",
    "        blueprint_list_of_strings = [f\"{stage.stage_name}: {stage.stage_direction}\" for stage in result.blueprint]\n",
    "        print_result(blueprint_list_of_strings, \"Bản thiết kế Sư phạm đã được tạo\")\n",
    "        return {\"pedagogical_blueprint\": blueprint_list_of_strings}\n",
    "    except Exception as e:\n",
    "        print_warning(f\"Lỗi tại Pedagogical Architect: {e}. Sử dụng blueprint mặc định.\")\n",
    "        return {\"pedagogical_blueprint\": [\"Giai đoạn 1: Giới thiệu bài học\", \"Giai đoạn 2: Luyện tập\", \"Giai đoạn 3: Đánh giá\"]}\n",
    "\n",
    "async def memory_retrieval_agent(state: \"TeacherStateV5\") -> Dict[str, Any]:\n",
    "    print_step(\"`Agent: Memory Retrieval` (v9.4) đang tìm kiếm trong trí nhớ...\")\n",
    "    \n",
    "    if not memory_vector_store:\n",
    "        print_warning(\"Không có Trí nhớ Dài hạn. Bỏ qua bước này.\")\n",
    "        return {\"inspirational_example\": None}\n",
    "\n",
    "    user_request = state[\"original_request\"]\n",
    "    \n",
    "    # Tìm kiếm 1 ví dụ tương đồng nhất trong trí nhớ\n",
    "    try:\n",
    "        results = memory_vector_store.similarity_search_with_score(user_request, k=1)\n",
    "        if results and results[0][1] < 0.5: # Chỉ lấy nếu độ tương đồng cao (điểm score thấp là tốt)\n",
    "            best_example = results[0][0].metadata\n",
    "            print_result(best_example['request'], \"Tìm thấy ví dụ tương đồng trong trí nhớ\")\n",
    "            # Chỉ trả về phần \"lesson_flow\" để làm ví dụ\n",
    "            return {\"inspirational_example\": best_example['plan']['lesson_flow']}\n",
    "        else:\n",
    "            print_step(\"Không tìm thấy ví dụ nào đủ tương đồng trong trí nhớ.\")\n",
    "            return {\"inspirational_example\": None}\n",
    "    except Exception as e:\n",
    "        print_warning(f\"Lỗi khi truy xuất trí nhớ: {e}\")\n",
    "        return {\"inspirational_example\": None}\n",
    "    \n",
    "print(\"✅ Các agent lập kế hoạch chiến lược đã sẵn sàng.\")"
   ]
  },
  {
   "cell_type": "code",
   "execution_count": 69,
   "id": "220113cd",
   "metadata": {},
   "outputs": [
    {
     "name": "stdout",
     "output_type": "stream",
     "text": [
      "✅ Các agent RAG đã sẵn sàng.\n"
     ]
    }
   ],
   "source": [
    "# ==============================================================================\n",
    "# CELL 3.4: AGENT TRUY XUẤT VÀ TỔNG HỢP KIẾN THỨC (RAG) (v7.5)\n",
    "# ==============================================================================\n",
    "async def query_expansion_agent(state: \"TeacherStateV5\") -> Dict[str, Any]:\n",
    "    print_step(\"`Agent: Query Expansion` (v7.5) đang phân tích yêu cầu...\")\n",
    "    prompt = f\"{SYSTEM_PERSONA_PROMPT}\\n**NHIỆM VỤ:** Tạo ra các cụm từ tìm kiếm đa dạng bằng tiếng Việt để tìm tài liệu.\\n**CHỦ ĐỀ:** \\\"{state.get('analyzed_objective', {}).get('topic', '')}\\\"\\n**LĨNH VỰC:** {state.get('domain', 'Chung')}\\n**YÊU CẦU ĐỊNH DẠNG:** Trả về JSON với key `queries`.\"\n",
    "    structured_llm = llm.with_structured_output(ExpandedQueries, method=\"json_mode\")\n",
    "    try:\n",
    "        response = await structured_llm.ainvoke(prompt)\n",
    "        print_result(response.queries, \"Các truy vấn tìm kiếm đã được mở rộng\")\n",
    "        return {\"expanded_queries\": response.queries}\n",
    "    except Exception as e:\n",
    "        print_warning(f\"Lỗi tại Query Expansion: {e}. Sử dụng truy vấn gốc.\")\n",
    "        return {\"expanded_queries\": [state.get('analyzed_objective', {}).get('topic', '')]}\n",
    "\n",
    "async def resource_scout_agent_v2(state: \"TeacherStateV5\") -> Dict[str, Any]:\n",
    "    print_step(\"`Agent: Resource Scout` (v8.1 - Sửa lỗi) đang tìm kiếm và sàng lọc...\")\n",
    "    retriever = vector_store.as_retriever(search_kwargs={\"k\": 5})\n",
    "    all_docs = []\n",
    "    queries = state.get('expanded_queries', [state.get('analyzed_objective', {}).get('topic', '')])\n",
    "    for query in queries:\n",
    "        all_docs.extend(retriever.invoke(query))\n",
    "    unique_docs_content = list({doc.page_content for doc in all_docs})[:8]\n",
    "    print_step(f\"Tìm thấy {len(all_docs)} tài liệu, sàng lọc còn {len(unique_docs_content)} đoạn văn bản độc nhất.\")\n",
    "    \n",
    "    # --- Phần Re-ranker giữ nguyên ---\n",
    "    rerank_prompt = f\"{SYSTEM_PERSONA_PROMPT}\\n**NHIỆM VỤ:** Đọc yêu cầu gốc và chọn ra 3-4 đoạn văn bản tiếng Việt phù hợp NHẤT từ danh sách dưới đây.\\n**YÊU CẦU GỐC:** \\\"{state.get('original_request', '')}\\\"\\n**DANH SÁCH TÀI LIỆU:** {json.dumps(unique_docs_content, ensure_ascii=False)}\\n**YÊU CẦU ĐỊNH DẠNG:** Trả về JSON với key `best_snippets`.\"\n",
    "    structured_llm_reranker = llm.with_structured_output(BestSnippets, method=\"json_mode\")\n",
    "    best_snippets_text = \"\\n\\n---\\n\\n\".join(unique_docs_content)\n",
    "    try:\n",
    "        reranked_result = await structured_llm_reranker.ainvoke(rerank_prompt)\n",
    "        best_snippets_text = \"\\n\\n---\\n\\n\".join(reranked_result.best_snippets)\n",
    "    except Exception as e:\n",
    "        print_warning(f\"Lỗi tại Re-ranker: {e}. Sử dụng tất cả tài liệu.\")\n",
    "\n",
    "    # === ĐẠI TU PROMPT TÓM TẮT ===\n",
    "    summary_prompt = f\"\"\"{SYSTEM_PERSONA_PROMPT}\n",
    "    **VAI TRÒ:** Bạn là một chuyên gia tổng hợp thông tin.\n",
    "    **NHIỆM VỤ DUY NHẤT:** Dựa **CHỈ** vào các đoạn văn bản dưới đây, hãy viết một bản **TÓM TẮT KIẾN THỨC CỐT LÕI** về chủ đề \"{state.get('analyzed_objective', {}).get('topic', '')}\".\n",
    "\n",
    "    **QUY TẮC TUYỆT ĐỐI:**\n",
    "    1.  **CHỈ DÙNG THÔNG TIN ĐƯỢC CUNG CẤP:** Tuyệt đối không được bình luận về chất lượng của các đoạn văn bản. Không được \"từ chối\" tóm tắt.\n",
    "    2.  **TỔNG HỢP & SUY LUẬN:** Nhiệm vụ của bạn là đọc tất cả các mẩu thông tin (kể cả từ các bài tập) và suy luận ra các định nghĩa, tính chất cốt lõi nhất.\n",
    "    3.  **CẤU TRÚC RÕ RÀNG:** Trình bày bản tóm tắt một cách mạch lạc, có đầu mục rõ ràng (ví dụ: 1. Định nghĩa, 2. Tính chất...).\n",
    "    4.  **TRẢ VỀ TÓM TẮT:** Luôn luôn trả về một bản tóm tắt, ngay cả khi nó ngắn gọn do thông tin hạn chế.\n",
    "\n",
    "    **CÁC ĐOẠN VĂN BẢN ĐỂ TÓM TẮT:**\n",
    "    {best_snippets_text}\n",
    "    \"\"\"\n",
    "    summary = \"Chưa có bản tóm tắt kiến thức.\"\n",
    "    try:\n",
    "        summary_response = await llm.ainvoke(summary_prompt)\n",
    "        summary = summary_response.content\n",
    "    except Exception as e:\n",
    "        print_warning(f\"Lỗi tại bước tóm tắt: {e}.\")\n",
    "        \n",
    "    resource = {\"source\": \"Sách giáo khoa (từ RAG - đã sàng lọc)\", \"summary\": summary}\n",
    "    print_result(resource, \"Tài liệu RAG cuối cùng\")\n",
    "    return update_agent_outputs(state, \"resources\", resource)\n",
    "\n",
    "print(\"✅ Các agent RAG đã sẵn sàng.\")"
   ]
  },
  {
   "cell_type": "code",
   "execution_count": 70,
   "id": "6eac918a",
   "metadata": {},
   "outputs": [
    {
     "name": "stdout",
     "output_type": "stream",
     "text": [
      "✅ Các agent giao việc và chuyên môn (v9.9 - Thiết quân luật) đã sẵn sàng.\n"
     ]
    }
   ],
   "source": [
    "# ==============================================================================\n",
    "# CELL 3.5: AGENT GIAO VIỆC & CHUYÊN MÔN (v9.9 - THIẾT QUÂN LUẬT)\n",
    "# ==============================================================================\n",
    "\n",
    "# === NÂNG CẤP LỚN: Plan Delegator với \"Kinh nghiệm Sư phạm\" ===\n",
    "async def plan_delegator_agent(state: \"TeacherStateV5\") -> Dict[str, Any]:\n",
    "    print_step(\"`Agent: Plan Delegator` (v9.9 - Nhà hoạch định Thực tế) đang triển khai...\")\n",
    "    \n",
    "    blueprint = state.get('pedagogical_blueprint', [])\n",
    "    topic = state.get('analyzed_objective', {}).get('topic', 'chủ đề đã cho')\n",
    "    total_duration = state.get('analyzed_objective', {}).get('constraints', {}).get('duration_minutes', 90)\n",
    "\n",
    "    # Xóa các kết quả cũ từ lần chạy trước để bắt đầu lại sạch sẽ\n",
    "    agent_outputs_history = state.get(\"agent_outputs\", {})\n",
    "    new_agent_outputs = {\"resources\": agent_outputs_history.get(\"resources\", [])}\n",
    "        \n",
    "    prompt = f\"\"\"{SYSTEM_PERSONA_PROMPT}\n",
    "    **VAI TRÒ:** Bạn là một Nhà Hoạch định Sư phạm giàu kinh nghiệm.\n",
    "    **NHIỆM VỤ:** Chuyển đổi \"Bản thiết kế Sư phạm\" cấp cao thành một danh sách các nhiệm vụ cụ thể, với sự phân bổ thời gian THỰC TẾ và KHẢ THI.\n",
    "\n",
    "    **BẢN THIẾT KẾ SƯ PHẠM:**\n",
    "    {json.dumps(blueprint, ensure_ascii=False, indent=2)}\n",
    "\n",
    "    **BẢNG TRA CỨU KINH NGHIỆM SƯ PHẠM (THAM KHẢO BẮT BUỘC):**\n",
    "    - **Khởi động/Khám phá ban đầu:** Thường mất 10-15 phút. Không nên quá ngắn.\n",
    "    - **Xây dựng kiến thức mới/Giảng lý thuyết:** Mỗi khái niệm lớn cần 15-20 phút.\n",
    "    - **Thực hành vẽ hình/Thí nghiệm (Học tập hợp tác):** Đây là hoạt động tốn thời gian nhất, thường cần 25-35 phút để đảm bảo chất lượng.\n",
    "    - **Luyện tập/Củng cố:** Khoảng 15-25 phút.\n",
    "    - **Tổng kết/Giao bài tập:** 5-10 phút.\n",
    "\n",
    "    **QUY TẮC TUYỆT ĐỐI:**\n",
    "    1.  **TƯ DUY THỰC TẾ:** Dựa vào Bảng tra cứu kinh nghiệm, hãy phân bổ thời gian cho từng nhiệm vụ một cách hợp lý. ĐỪNG cố gắng nhồi nhét quá nhiều thứ vào một khoảng thời gian ngắn.\n",
    "    2.  **TỔNG THỜI GIAN:** Tổng thời lượng của tất cả các nhiệm vụ cộng lại PHẢI bằng chính xác **{total_duration} phút**.\n",
    "    3.  **HOẠT ĐỘNG ĐỆM:** Nhiệm vụ cuối cùng PHẢI là một hoạt động 'Vận dụng' hoặc 'Tổng kết' và có mô tả linh hoạt.\n",
    "\n",
    "    **YÊU CẦU ĐỊNH DẠNG:** Trả về JSON tuân thủ schema `TaskListWithDuration`.\n",
    "    \"\"\"\n",
    "    \n",
    "    structured_llm = llm.with_structured_output(TaskListWithDuration, method=\"json_mode\")\n",
    "    \n",
    "    try:\n",
    "        task_list_result = await structured_llm.ainvoke(prompt)\n",
    "        tasks_with_status = [{\"task_id\": i, **t.dict(), \"status\": \"pending\"} for i, t in enumerate(task_list_result.tasks) if t]\n",
    "        \n",
    "        # Kiểm tra lại tổng thời gian lần cuối\n",
    "        current_total = sum(t['estimated_duration'] for t in tasks_with_status)\n",
    "        if not (total_duration - 5 <= current_total <= total_duration + 5):\n",
    "             print_warning(f\"Plan Delegator đã tạo kế hoạch có tổng thời gian ({current_total}) không khớp với yêu cầu ({total_duration}). Vẫn tiếp tục nhưng có thể gây lỗi sau này.\")\n",
    "\n",
    "        print_result(tasks_with_status, f\"Đã tạo {len(tasks_with_status)} nhiệm vụ chi tiết\")\n",
    "        \n",
    "        # Reset lại state để bắt đầu vòng thực thi mới\n",
    "        return {\"task_list\": tasks_with_status, \"reflection_notes\": None, \"agent_outputs\": new_agent_outputs}\n",
    "    \n",
    "    except Exception as e:\n",
    "        print_warning(f\"Lỗi tại Plan Delegator: {e}. Tạo task mặc định.\")\n",
    "        fallback_task = { \"task_id\": 0, \"task_name\": \"Hoạt động luyện tập\", \"task_description\": \"Học sinh thực hành bài tập.\", \"estimated_duration\": 45, \"status\": \"pending\" }\n",
    "        return {\"task_list\": [fallback_task], \"reflection_notes\": None, \"agent_outputs\": state.get(\"agent_outputs\", {})}\n",
    "\n",
    "\n",
    "# --- CÁC HÀM CŨ GIỮ NGUYÊN ---\n",
    "# (Dán lại các hàm content_validator_agent và specialist_agent_logic... từ lần trước vào đây)\n",
    "async def content_validator_agent(state: \"TeacherStateV5\") -> Dict[str, Any]:\n",
    "    print_step(f\"`Agent: Time-Budget Advisor` (v9.7) đang phản biện nội dung và ngân sách thời gian...\")\n",
    "    content = state.get('current_content_to_validate')\n",
    "    task_list = state.get('task_list', [])\n",
    "    current_task = next((t for t in task_list if t['task_id'] == state.get('current_task_id')), None)\n",
    "    \n",
    "    if not content or content.get(\"error\"):\n",
    "        return {\"validation_feedback\": \"Lỗi tạo nội dung, không thể phản biện.\", \"current_content_to_validate\": content}\n",
    "\n",
    "    total_allowed_duration = state.get('analyzed_objective', {}).get('constraints', {}).get('duration_minutes', 90)\n",
    "    agent_outputs = state.get('agent_outputs', {})\n",
    "    completed_activities = agent_outputs.get('activities', []) + agent_outputs.get('assessments', [])\n",
    "    time_spent = sum(item.get('duration_minutes', 0) for item in completed_activities)\n",
    "    time_remaining = total_allowed_duration - time_spent\n",
    "    \n",
    "    prompt = f\"\"\"{SYSTEM_PERSONA_PROMPT}\n",
    "    **VAI TRÒ:** Bạn là một Cố vấn Sư phạm, chuyên gia về phân bổ thời gian và chất lượng nội dung.\n",
    "    **NGÂN SÁCH THỜI GIAN HIỆN TẠI:**\n",
    "    - Tổng thời lượng buổi học: {total_allowed_duration} phút.\n",
    "    - Thời gian đã sử dụng cho các hoạt động trước: {time_spent} phút.\n",
    "    - **Thời gian còn lại cho TẤT CẢ các hoạt động sau:** {time_remaining} phút.\n",
    "    **NHIỆM VỤ:** Thẩm định nội dung được tạo ra, đặc biệt chú ý đến sự cân bằng giữa chất lượng và ngân sách thời gian.\n",
    "    **YÊU CẦU GỐC CỦA NHIỆM VỤ:**\n",
    "    - Tên nhiệm vụ: \"{current_task.get('task_name', 'N/A')}\"\n",
    "    - Thời lượng dự kiến: \"{current_task.get('estimated_duration', 'N/A')} phút\"\n",
    "    **NỘI DUNG ĐƯỢC TẠO RA CẦN XEM XÉT:**\n",
    "    ```json\n",
    "    {json.dumps(content, ensure_ascii=False, indent=2)}\n",
    "    ```\n",
    "    **CÁC BƯỚC SUY LUẬN:**\n",
    "    1.  **Kiểm tra Chất lượng:** Nội dung có chính xác về chuyên môn và phù hợp sư phạm không? Nếu không, `is_valid: false`.\n",
    "    2.  **Kiểm tra Thời gian Nội tại:** Thời lượng `duration_minutes` trong nội dung có hợp lý với các thành phần `core_component` và `extension_component` không?\n",
    "    3.  **Kiểm tra Ngân sách Toàn cục (QUAN TRỌNG NHẤT):** So sánh `duration_minutes` với `Thời gian còn lại`.\n",
    "        - Nếu `duration_minutes` chiếm một phần hợp lý của thời gian còn lại (để vẫn còn đủ cho các hoạt động sau), thì nội dung hợp lệ.\n",
    "        - Nếu `duration_minutes` quá lớn, chiếm gần hết hoặc vượt quá thời gian còn lại, đây là LỖI CẤU TRÚC NGHIÊM TRỌNG.\n",
    "    **YÊU CẦU ĐỊNH DẠNG:**\n",
    "    - Nếu hoàn toàn hợp lệ: `is_valid: true`, `feedback: \"Nội dung hợp lệ.\"`.\n",
    "    - Nếu có lỗi nhỏ về thời gian (có thể sửa): `is_valid: false`, `feedback: \"[STRUCTURAL_FEEDBACK] Thời gian chưa tối ưu...\"`, và **BẮT BUỘC** có `suggested_duration`.\n",
    "    - Nếu có lỗi lớn về ngân sách thời gian: `is_valid: false`, `feedback: \"[STRUCTURAL_FEEDBACK] Lỗi phân bổ ngân sách! Thời gian đề xuất ({content.get('duration_minutes')} phút) quá lớn so với thời gian còn lại ({time_remaining} phút). Cần thiết kế lại hoạt động này trong khoảng [X] phút để đảm bảo tiến độ.\"`, và **BẮT BUỘC** có `suggested_duration` là một con số hợp lý hơn.\n",
    "    \"\"\"\n",
    "    structured_llm = llm.with_structured_output(ValidationResult, method=\"json_mode\")\n",
    "    try:\n",
    "        result = await structured_llm.ainvoke(prompt)\n",
    "        if result.is_valid:\n",
    "            print_step(\"✔️ CỐ VẤN: Nội dung và ngân sách thời gian hợp lệ!\")\n",
    "            return {\"validation_feedback\": None, \"current_content_to_validate\": content}\n",
    "        else:\n",
    "            final_feedback = result.feedback\n",
    "            if result.suggested_duration:\n",
    "                final_feedback += f\" | SUGGESTED_DURATION: {result.suggested_duration}\"\n",
    "            print_warning(f\"CỐ VẤN PHẢN BIỆN: {final_feedback}\")\n",
    "            return {\"validation_feedback\": final_feedback, \"current_content_to_validate\": content}\n",
    "    except Exception as e:\n",
    "        print_warning(f\"Lỗi tại Time-Budget Advisor: {e}. Mặc định cho qua.\")\n",
    "        return {\"validation_feedback\": None, \"current_content_to_validate\": content}\n",
    "\n",
    "async def specialist_agent_logic(state: \"TeacherStateV5\", agent_type: str, pydantic_model: type[BaseModel]) -> Dict[str, Any]:\n",
    "    print_step(f\"`Agent: {agent_type}` (v9.7) đang tạo nội dung linh hoạt (Lõi + Mở rộng)...\")\n",
    "    task_to_run = next((t for t in state.get('task_list', []) if t['task_id'] == state.get('current_task_id')), None)\n",
    "    if not task_to_run: return {\"current_content_to_validate\": {\"error\": \"Không tìm thấy task hiện tại.\"}}\n",
    "    feedback_prompt = f\"**PHẢN HỒI TỪ LẦN TRƯỚC (CẦN SỬA):** \\\"{state.get('validation_feedback', '')}\\\".\" if state.get('validation_feedback') else \"\"\n",
    "    prompt = f\"\"\"{SYSTEM_PERSONA_PROMPT}\n",
    "    **VAI TRÒ:** Bạn là một nhà thiết kế hoạt động học tập sáng tạo và thực tế.\n",
    "    **NHIỆM VỤ:** Tạo ra **MỘT HOẠT ĐỘNG DUY NHẤT** với cấu trúc linh hoạt.\n",
    "    **BỐI CẢNH BÀI HỌC:**\n",
    "    - **Chủ đề chính:** {state.get('analyzed_objective', {}).get('topic', '')}\n",
    "    - **Chiến lược phân hóa chung:** {state.get('student_persona', {}).get('differentiation_strategy', {})}\n",
    "    **MÔ TẢ NHIỆM VỤ CẦN THỰC THI:**\n",
    "    - **Tên nhiệm vụ:** \"{task_to_run.get('task_name', '')}\"\n",
    "    - **Mô tả chi tiết:** \"{task_to_run.get('task_description', '')}\"\n",
    "    - **THỜI GIAN ƯỚC TÍNH (RÀNG BUỘC CHÍNH):** {task_to_run.get('estimated_duration', 10)} phút.\n",
    "    {feedback_prompt}\n",
    "    **QUY TẮC TUYỆT ĐỐI:**\n",
    "    1.  **ƯU TIÊN THỜI GIAN:** Tổng thời gian `duration_minutes` phải thực tế và tuân thủ thời gian ước tính.\n",
    "    2.  **CẤU TRÚC LÕI/MỞ RỘNG:**\n",
    "        -   **`core_component` (BẮT BUỘC):** Thiết kế phần hoạt động cốt lõi mà tất cả học sinh phải hoàn thành. Phần này nên chiếm khoảng 70-80% tổng thời gian.\n",
    "        -   **`extension_component` (NẾU PHÙ HỢP):** Thiết kế một hoạt động nhỏ, bài tập thêm, hoặc câu hỏi mở rộng. Phần này là \"nếu còn thời gian\". Nếu hoạt động quá ngắn hoặc là hoạt động giới thiệu, trường này có thể bỏ trống.\n",
    "    3.  **TẠO NỘI DUNG CỤ THỂ:** Đưa ra câu hỏi, đề bài rõ ràng trong các thành phần.\n",
    "    4.  **TUÂN THỦ SCHEMA:** Chỉ trả về một đối tượng JSON duy nhất theo đúng cấu trúc.\n",
    "    ```json\n",
    "    {schema_json_of(pydantic_model, indent=2)}\n",
    "    ```\n",
    "    \"\"\"\n",
    "    structured_llm = llm.with_structured_output(pydantic_model, method=\"json_mode\")\n",
    "    try:\n",
    "        result = await structured_llm.ainvoke(prompt)\n",
    "        content_dict = result.dict()\n",
    "        content_dict['duration_minutes'] = task_to_run.get('estimated_duration', 10)\n",
    "        content_dict['question_or_description'] = f\"**Phần Cốt lõi:**\\n{content_dict.get('core_component', '')}\\n\\n**Phần Mở rộng (nếu còn thời gian):**\\n{content_dict.get('extension_component', 'Không có')}\"\n",
    "        print_result(content_dict, f\"Nội dung do {agent_type} tạo ra (Linh hoạt)\")\n",
    "        return {\"current_content_to_validate\": content_dict, \"validation_feedback\": None}\n",
    "    except Exception as e:\n",
    "        print_warning(f\"Lỗi tại {agent_type}: {e}. Trả về nội dung mặc định.\")\n",
    "        return {\"current_content_to_validate\": {\"error\": str(e)}, \"validation_feedback\": None}\n",
    "\n",
    "async def theory_synthesizer_agent(state: \"TeacherStateV5\"): return await specialist_agent_logic(state, \"Theory Synthesizer\", LearningActivity)\n",
    "async def activity_designer_agent(state: \"TeacherStateV5\"): return await specialist_agent_logic(state, \"Activity Designer\", LearningActivity)\n",
    "async def assessment_creator_agent(state: \"TeacherStateV5\"): return await specialist_agent_logic(state, \"Assessment Creator\", AssessmentItem)\n",
    "\n",
    "print(\"✅ Các agent giao việc và chuyên môn (v9.9 - Thiết quân luật) đã sẵn sàng.\")"
   ]
  },
  {
   "cell_type": "code",
   "execution_count": 71,
   "id": "f509f0a6",
   "metadata": {},
   "outputs": [
    {
     "name": "stdout",
     "output_type": "stream",
     "text": [
      "✅ Agent tổng hợp & Node trình bày (v9.7 - Tư duy Linh hoạt) đã sẵn sàng.\n"
     ]
    }
   ],
   "source": [
    "# ==============================================================================\n",
    "# CELL 3.6: AGENT TỔNG HỢP & NODE TRÌNH BÀY (v9.7 - TƯ DUY LINH HOẠT)\n",
    "# ==============================================================================\n",
    "\n",
    "async def structured_plan_compiler_agent(state: \"TeacherStateV5\") -> Dict[str, Any]:\n",
    "    print_step(\"`Agent: Structured Plan Compiler` (v9.7 - Tư duy Linh hoạt) đang tổng hợp giáo án...\")\n",
    "    outputs = state.get('agent_outputs', {})\n",
    "    objective = state.get('analyzed_objective', {})\n",
    "    \n",
    "    activities = outputs.get('activities', [])\n",
    "    assessments = outputs.get('assessments', [])\n",
    "    all_content_items = activities + assessments\n",
    "    allowed_duration = objective.get('constraints', {}).get('duration_minutes', 90)\n",
    "\n",
    "    if not all_content_items:\n",
    "        reflection = \"Kế hoạch thất bại. Không có hoạt động nào được tạo ra. Lập kế hoạch lại.\"\n",
    "        print_warning(f\"CRITIC LỚN: {reflection}\")\n",
    "        return {\"reflection_notes\": reflection}\n",
    "\n",
    "    total_duration = sum(item.get('duration_minutes', 0) for item in all_content_items)\n",
    "    \n",
    "    # Nếu tổng thời gian hợp lệ, cho qua ngay\n",
    "    if (allowed_duration * 0.95) <= total_duration <= (allowed_duration + 5):\n",
    "         print_step(f\"CRITIC LỚN: Kế hoạch hợp lệ! Tổng thời gian ({total_duration} phút) nằm trong giới hạn cho phép.\")\n",
    "    # Nếu không, thử \"cắt tỉa\" hoạt động cuối\n",
    "    else:\n",
    "        print_warning(f\"CRITIC LỚN: Tổng thời gian ({total_duration} phút) không hợp lệ. Đang thử cắt tỉa hoạt động cuối...\")\n",
    "        \n",
    "        all_content_sorted = sorted(all_content_items, key=lambda x: x.get('task_id', float('inf')))\n",
    "        last_activity = all_content_sorted[-1]\n",
    "        \n",
    "        # Chỉ điều chỉnh nếu hoạt động cuối là hoạt động có thể co giãn\n",
    "        is_flexible = \"vận dụng\" in last_activity.get('activity_name', '').lower() or \\\n",
    "                      \"luyện tập\" in last_activity.get('activity_name', '').lower() or \\\n",
    "                      last_activity.get('extension_component')\n",
    "\n",
    "        if is_flexible:\n",
    "            duration_of_last_activity = last_activity.get('duration_minutes', 0)\n",
    "            duration_of_other_activities = total_duration - duration_of_last_activity\n",
    "            \n",
    "            new_duration_for_last = allowed_duration - duration_of_other_activities\n",
    "            \n",
    "            if new_duration_for_last >= 5: # Đảm bảo hoạt động cuối không quá ngắn\n",
    "                print_step(f\"Điều chỉnh thành công! Cắt bớt hoạt động cuối từ {duration_of_last_activity} phút xuống còn {new_duration_for_last} phút.\")\n",
    "                last_activity['duration_minutes'] = new_duration_for_last\n",
    "                # Cập nhật lại mô tả để phản ánh việc cắt bớt\n",
    "                last_activity['question_or_description'] = f\"**Phần Cốt lõi:**\\n{last_activity.get('core_component', '')}\\n\\n**Phần Mở rộng:** (Phần này có thể được bỏ qua do hạn chế về thời gian)\"\n",
    "                # Cập nhật lại danh sách với hoạt động đã được sửa\n",
    "                all_content_items = all_content_sorted[:-1] + [last_activity]\n",
    "            else:\n",
    "                reflection = f\"Kế hoạch thất bại. Tổng thời gian ({total_duration} phút) quá dài, không thể cứu vãn. Lập kế hoạch lại từ đầu với thời gian ngắn hơn cho mỗi hoạt động.\"\n",
    "                print_warning(f\"CRITIC LỚN: {reflection}\")\n",
    "                return {\"reflection_notes\": reflection}\n",
    "        else:\n",
    "            reflection = f\"Kế hoạch thất bại. Tổng thời gian ({total_duration} phút) không hợp lệ và hoạt động cuối không phải hoạt động linh hoạt. Lập kế hoạch lại.\"\n",
    "            print_warning(f\"CRITIC LỚN: {reflection}\")\n",
    "            return {\"reflection_notes\": reflection}\n",
    "\n",
    "    # --- Phần còn lại giữ nguyên ---\n",
    "    print_step(\"Bắt đầu tổng hợp giáo án dạng JSON...\")\n",
    "    persona = state.get('student_persona', {})\n",
    "    strategy = state.get('pedagogy_strategy', {})\n",
    "    resources = state.get('agent_outputs', {}).get('resources', [{}])[0]\n",
    "\n",
    "    general_info = { \"chủ đề\": objective.get('topic', 'N/A'), \"môn học\": state.get('domain', 'N/A'), \"lớp\": objective.get('grade_level', 'N/A'), \"thời lượng\": f\"{allowed_duration} phút\", \"phương pháp chủ đạo\": strategy.get('name', 'Chưa xác định'), \"đặc điểm lớp học\": persona.get('special_notes', 'Tiêu chuẩn'), }\n",
    "    learning_objectives = [ f\"Học sinh có thể {objective.get('action_verb', 'vận dụng')} kiến thức về {objective.get('topic', 'N/A')}.\", \"Rèn luyện kỹ năng tư duy logic và giải quyết vấn đề.\", \"Phát triển kỹ năng hợp tác và trình bày.\" ]\n",
    "    preparation = { \"giáo viên\": [\"Bảng phụ\", \"máy chiếu\", \"phiếu học tập\"], \"học sinh\": [\"Sách giáo khoa\", \"vở ghi\", \"dụng cụ học tập\"] }\n",
    "    final_plan_obj: FinalStructuredPlan = { \"general_info\": general_info, \"learning_objectives\": learning_objectives, \"preparation\": preparation, \"knowledge_summary\": resources.get('summary', 'Chưa có tóm tắt.'), \"lesson_flow\": all_content_sorted, }\n",
    "\n",
    "    return {\"final_structured_plan\": final_plan_obj, \"reflection_notes\": None}\n",
    "\n",
    "# --- markdown_presentation_node giữ nguyên ---\n",
    "def markdown_presentation_node(state: \"TeacherStateV5\") -> Dict[str, str]:\n",
    "    print_step(\"`Node: Markdown Presenter` (v9.7) đang tạo bản trình bày Markdown...\")\n",
    "    plan_json = state.get(\"final_structured_plan\")\n",
    "    if not isinstance(plan_json, dict): return {\"final_markdown_plan\": \"Lỗi: Không tìm thấy giáo án.\"}\n",
    "\n",
    "    md_parts = []\n",
    "    info = plan_json.get('general_info', {})\n",
    "    md_parts.append(f\"# GIÁO ÁN BÀI DẠY: {info.get('chủ đề', 'N/A').upper()}\")\n",
    "    md_parts.append(\"---\")\n",
    "    md_parts.append(\"## I. THÔNG TIN CHUNG\")\n",
    "    for key, value in info.items(): md_parts.append(f\"- **{key.replace('_', ' ').title()}:** {value}\")\n",
    "    md_parts.append(\"## II. MỤC TIÊU BÀI HỌC\")\n",
    "    for obj in plan_json.get('learning_objectives', []): md_parts.append(f\"- {obj}\")\n",
    "    md_parts.append(\"## III. CHUẨN BỊ\")\n",
    "    for key, items in plan_json.get('preparation', {}).items(): md_parts.append(f\"- **{key.title()}:** {', '.join(items)}\")\n",
    "    md_parts.append(\"## IV. TIẾN TRÌNH BÀI DẠY\")\n",
    "    for i, activity in enumerate(plan_json.get('lesson_flow', [])):\n",
    "        md_parts.append(f\"### Hoạt động {i+1}: {activity.get('activity_name')} ({activity.get('duration_minutes')} phút)\")\n",
    "        md_parts.append(f\"**Nhiệm vụ:**\\n{activity.get('question_or_description', 'Không có mô tả.')}\")\n",
    "        if activity.get('differentiation'):\n",
    "            diff = activity['differentiation']\n",
    "            md_parts.append(f\"> **Gợi ý Phân hóa:**\")\n",
    "            md_parts.append(f\"> - *Hỗ trợ (HS yếu):* {diff.get('for_struggling_students', 'Không có')}\")\n",
    "            md_parts.append(f\"> - *Thử thách (HS giỏi):* {diff.get('for_advanced_students', 'Không có')}\")\n",
    "        md_parts.append(\"\\n---\")\n",
    "    md_parts.append(\"## V. TÓM TẮT KIẾN THỨC CỐT LÕI\")\n",
    "    md_parts.append(plan_json.get('knowledge_summary', 'Chưa có tóm tắt.'))\n",
    "    final_md = \"\\n\".join(md_parts)\n",
    "    return {\"final_markdown_plan\": final_md}\n",
    "\n",
    "print(\"✅ Agent tổng hợp & Node trình bày (v9.7 - Tư duy Linh hoạt) đã sẵn sàng.\")"
   ]
  },
  {
   "cell_type": "markdown",
   "id": "d9377da3",
   "metadata": {},
   "source": [
    "## PHẦN 4: XÂY DỰNG VÀ BIÊN DỊCH GRAPH"
   ]
  },
  {
   "cell_type": "code",
   "execution_count": 72,
   "id": "3f7820ed",
   "metadata": {},
   "outputs": [
    {
     "name": "stdout",
     "output_type": "stream",
     "text": [
      "✅ Các node tiện ích và điều phối (v9.9 - Thiết quân luật) đã sẵn sàng.\n"
     ]
    }
   ],
   "source": [
    "# ==============================================================================\n",
    "# CELL 4.1: CÁC NODE TIỆN ÍCH & ĐIỀU PHỐI (v9.9 - THIẾT QUÂN LUẬT)\n",
    "# ==============================================================================\n",
    "from typing import Literal, Dict, Any\n",
    "import time\n",
    "import re\n",
    "\n",
    "# === NÂNG CẤP LỚN: \"Bác sĩ phẫu thuật\" thành \"Người cân bằng Ngân sách\" ===\n",
    "def budget_balancing_node(state: \"TeacherStateV5\") -> Dict[str, Any]:\n",
    "    print_step(\"`Node: Budget Balancer` đang phẫu thuật và cân bằng lại ngân sách...\")\n",
    "    feedback = state.get(\"validation_feedback\")\n",
    "    task_list = state.get(\"task_list\", [])\n",
    "    current_task_id = state.get(\"current_task_id\")\n",
    "\n",
    "    if not all([feedback, task_list, current_task_id is not None]):\n",
    "        return {}\n",
    "\n",
    "    match = re.search(r\"SUGGESTED_DURATION:\\s*(\\d+)\", feedback)\n",
    "    if not match:\n",
    "        # Nếu không có gợi ý thời gian, có thể là lỗi chuyên môn, không xử lý ở đây\n",
    "        return {\"validation_feedback\": \"Phản hồi không chứa gợi ý thời gian.\", \"reflection_notes\": feedback}\n",
    "    \n",
    "    suggested_duration = int(match.group(1))\n",
    "    new_task_list = [t.copy() for t in task_list]\n",
    "    \n",
    "    # Tìm nhiệm vụ hiện tại và nhiệm vụ cuối cùng (đệm)\n",
    "    current_task_index = -1\n",
    "    last_flexible_task_index = -1\n",
    "    \n",
    "    for i, task in enumerate(new_task_list):\n",
    "        if task.get(\"task_id\") == current_task_id:\n",
    "            current_task_index = i\n",
    "        if \"vận dụng\" in task.get('task_name', '').lower() or \"củng cố\" in task.get('task_name', '').lower():\n",
    "            last_flexible_task_index = i\n",
    "\n",
    "    if current_task_index == -1:\n",
    "        print_warning(f\"Không tìm thấy task ID {current_task_id} để cập nhật.\")\n",
    "        return {}\n",
    "\n",
    "    # Tính toán sự thay đổi thời gian\n",
    "    original_duration = new_task_list[current_task_index].get('estimated_duration', 0)\n",
    "    time_delta = suggested_duration - original_duration\n",
    "\n",
    "    # Cập nhật nhiệm vụ hiện tại\n",
    "    new_task_list[current_task_index][\"estimated_duration\"] = suggested_duration\n",
    "    print_result({\"task_id\": current_task_id, \"from\": original_duration, \"to\": suggested_duration, \"delta\": time_delta}, \"Bước 1: Cập nhật nhiệm vụ bị lỗi\")\n",
    "\n",
    "    # Cân bằng lại ngân sách bằng cách điều chỉnh nhiệm vụ đệm\n",
    "    if time_delta != 0 and last_flexible_task_index != -1 and current_task_index != last_flexible_task_index:\n",
    "        original_buffer_duration = new_task_list[last_flexible_task_index].get('estimated_duration', 0)\n",
    "        new_buffer_duration = original_buffer_duration - time_delta\n",
    "        \n",
    "        # Đảm bảo hoạt động đệm không bị âm thời gian\n",
    "        if new_buffer_duration < 5:\n",
    "            new_buffer_duration = 5 # Thời gian tối thiểu\n",
    "            print_warning(\"Không thể cân bằng hoàn toàn, hoạt động đệm đã ở mức tối thiểu.\")\n",
    "        \n",
    "        new_task_list[last_flexible_task_index]['estimated_duration'] = new_buffer_duration\n",
    "        print_result({\"task_id\": new_task_list[last_flexible_task_index]['task_id'], \"from\": original_buffer_duration, \"to\": new_buffer_duration}, \"Bước 2: Cân bằng lại ngân sách ở hoạt động đệm\")\n",
    "    \n",
    "    # Xóa feedback để chuẩn bị cho lần thử lại\n",
    "    return {\"task_list\": new_task_list, \"validation_feedback\": None, \"reflection_notes\": None}\n",
    "\n",
    "\n",
    "# --- CÁC NODE CŨ ---\n",
    "def delay_node(state: \"TeacherStateV5\") -> \"TeacherStateV5\":\n",
    "    time.sleep(1)\n",
    "    return state\n",
    "\n",
    "def mark_task_complete(state: \"TeacherStateV5\") -> Dict[str, Any]:\n",
    "    task_list = state.get(\"task_list\", [])\n",
    "    current_task_id = state.get(\"current_task_id\")\n",
    "    if not task_list or current_task_id is None: return {}\n",
    "    new_task_list = [t.copy() for t in task_list]\n",
    "    for task in new_task_list:\n",
    "        if task.get(\"task_id\") == current_task_id:\n",
    "            task[\"status\"] = \"completed\"\n",
    "            break\n",
    "    return {\"task_list\": new_task_list, \"current_task_id\": None}\n",
    "    \n",
    "def task_router_node(state: \"TeacherStateV5\") -> Dict[str, Any]:\n",
    "    print_step(\"`Router`: Đang kiểm tra nhiệm vụ...\")\n",
    "    task_list = state.get(\"task_list\", [])\n",
    "    next_task = next((task for task in task_list if task.get(\"status\") == \"pending\"), None)\n",
    "    if next_task:\n",
    "        print_step(f\"Nhiệm vụ tiếp theo: '{next_task['task_name']}' (ID: {next_task['task_id']})\")\n",
    "        return {\"current_task_id\": next_task['task_id']}\n",
    "    else:\n",
    "        print_step(\"Hết nhiệm vụ, chuyển sang node Compiler.\")\n",
    "        return {\"current_task_id\": None}\n",
    "\n",
    "async def task_dispatcher_agent(state: \"TeacherStateV5\") -> Dict[str, Any]:\n",
    "    print_step(\"`Agent: Task Dispatcher` đang giao việc...\")\n",
    "    task_to_run = next((t for t in state['task_list'] if t['task_id'] == state['current_task_id']), None)\n",
    "    if not task_to_run: return {\"next_agent\": \"mark_task_complete\"}\n",
    "\n",
    "    task_description = task_to_run['task_description']\n",
    "    prompt = f\"{SYSTEM_PERSONA_PROMPT}\\n**Nhiệm vụ:** Phân loại nhiệm vụ sau vào MỘT trong ba agent sau: 'activity_designer', 'theory_synthesizer', 'assessment_creator'.\\n\\n**QUY TẮC PHÂN LOẠI:**\\n- Giảng giải, giới thiệu, ôn tập, tổng kết -> 'theory_synthesizer'.\\n- Luyện tập, thực hành, thảo luận, làm việc nhóm -> 'activity_designer'.\\n- Kiểm tra, đánh giá, bài toán khó, vận dụng cao -> 'assessment_creator'.\\n\\n**NHIỆM VỤ CẦN PHÂN LOẠI:** \\\"{task_description}\\\"\\n\\n**YÊU CẦU JSON:** Trả về JSON với key duy nhất là `agent_category`.\"\n",
    "    structured_llm = llm.with_structured_output(TaskClassification)\n",
    "    try:\n",
    "        classification_result = await structured_llm.ainvoke(prompt)\n",
    "        next_agent = classification_result.agent_category\n",
    "    except Exception:\n",
    "        next_agent = \"activity_designer\"\n",
    "    print_step(f\"--- 🚚 `Dispatcher`: Giao nhiệm vụ cho `{next_agent}`.\")\n",
    "    return {\"next_agent\": next_agent}\n",
    "\n",
    "def commit_validated_content_node(state: \"TeacherStateV5\") -> Dict[str, Any]:\n",
    "    print_step(\"`Commiter`: Đang ghi nhận nội dung đã được xác thực...\")\n",
    "    agent_ran = state[\"next_agent\"]\n",
    "    content = state[\"current_content_to_validate\"]\n",
    "    content['task_id'] = state['current_task_id']\n",
    "    key_to_update = \"assessments\" if agent_ran == \"assessment_creator\" else \"activities\"\n",
    "    updated_outputs = update_agent_outputs(state, key_to_update, content)\n",
    "    updated_outputs[\"current_content_to_validate\"] = None\n",
    "    return updated_outputs\n",
    "\n",
    "def save_to_memory_node(state: \"TeacherStateV5\"):\n",
    "    if state.get(\"final_structured_plan\"):\n",
    "        save_to_memory(state[\"original_request\"], state[\"final_structured_plan\"])\n",
    "    return {} \n",
    "\n",
    "print(\"✅ Các node tiện ích và điều phối (v9.9 - Thiết quân luật) đã sẵn sàng.\")"
   ]
  },
  {
   "cell_type": "code",
   "execution_count": 73,
   "id": "6b7306e7",
   "metadata": {},
   "outputs": [
    {
     "name": "stdout",
     "output_type": "stream",
     "text": [
      "✅ Các hàm logic điều hướng (đã sửa lỗi) đã được định nghĩa.\n"
     ]
    }
   ],
   "source": [
    "# ==============================================================================\n",
    "# CELL 4.2: LOGIC ĐIỀU HƯỚNG CÓ ĐIỀU KIỆN (ĐÃ SỬA LỖI)\n",
    "# ==============================================================================\n",
    "def route_after_validation(state: \"TeacherStateV5\") -> Literal[\"commit\", \"retry_content\", \"replan_task\"]:\n",
    "    \"\"\"\n",
    "    Hàm điều hướng mới, thông minh hơn sau khi thẩm định nội dung.\n",
    "    - commit: Nội dung hợp lệ.\n",
    "    - replan_task: Nội dung có lỗi cấu trúc/thời gian, cần quay lại bước lập kế hoạch.\n",
    "    - retry_content: Nội dung có lỗi chuyên môn/sư phạm, cần agent chuyên môn thử lại.\n",
    "    \"\"\"\n",
    "    feedback = state.get(\"validation_feedback\")\n",
    "    if feedback is None:\n",
    "        print_step(\"ROUTER (Validation): Nội dung được chấp thuận. Chuyển sang bước ghi nhận.\")\n",
    "        return \"commit\"\n",
    "    \n",
    "    if \"[STRUCTURAL_FEEDBACK]\" in feedback:\n",
    "        print_step(\"ROUTER (Validation): Lỗi cấu trúc, yêu cầu LẬP KẾ HOẠCH LẠI.\")\n",
    "        # Chuyển phản hồi này cho Plan Delegator\n",
    "        state['reflection_notes'] = feedback\n",
    "        return \"replan_task\"\n",
    "    else:\n",
    "        print_step(\"ROUTER (Validation): Nội dung bị từ chối. Quay lại để agent chuyên môn THỬ LẠI.\")\n",
    "        return \"retry_content\"\n",
    "\n",
    "def route_after_router(state: \"TeacherStateV5\") -> Literal[\"continue_executing\", \"compile_and_critique\"]:\n",
    "    if state.get(\"current_task_id\") is None: \n",
    "        return \"compile_and_critique\"\n",
    "    else: \n",
    "        return \"continue_executing\"\n",
    "\n",
    "def route_after_compilation(state: \"TeacherStateV5\") -> Literal[\"finish\", \"replan\"]:\n",
    "    if state.get(\"reflection_notes\"):\n",
    "        print_step(\"ROUTER (Compilation): Phát hiện phản hồi từ Critic lớn. Yêu cầu hệ thống lập kế hoạch lại.\")\n",
    "        return \"replan\"\n",
    "    else:\n",
    "        print_step(\"ROUTER (Compilation): Critic lớn đã hài lòng. Kết thúc quy trình.\")\n",
    "        return \"finish\"\n",
    "\n",
    "print(\"✅ Các hàm logic điều hướng (đã sửa lỗi) đã được định nghĩa.\")"
   ]
  },
  {
   "cell_type": "code",
   "execution_count": 74,
   "id": "30df6071",
   "metadata": {},
   "outputs": [
    {
     "name": "stdout",
     "output_type": "stream",
     "text": [
      "✅ Graph đã được biên dịch thành công với chuỗi kết nối hoàn chỉnh (v9.9.1).\n"
     ]
    }
   ],
   "source": [
    "# ==============================================================================\n",
    "# CELL 4.3: LẮP RÁP VÀ BIÊN DỊCH GRAPH (v9.9.1 - SỬA LỖI KẾT NỐI)\n",
    "# ==============================================================================\n",
    "workflow = StateGraph(TeacherStateV5)\n",
    "\n",
    "# 1. Thêm tất cả các node\n",
    "workflow.add_node(\"initializer\", initialize_state_node)\n",
    "workflow.add_node(\"memory_retrieval\", memory_retrieval_agent)\n",
    "workflow.add_node(\"objective_interpreter\", objective_interpreter_agent)\n",
    "workflow.add_node(\"domain_classifier\", domain_classifier_agent)\n",
    "workflow.add_node(\"differentiated_instruction_advisor\", differentiated_instruction_advisor_agent) \n",
    "workflow.add_node(\"pedagogy_strategist\", pedagogy_strategist_agent)\n",
    "workflow.add_node(\"pedagogical_architect\", pedagogical_architect_agent)\n",
    "workflow.add_node(\"query_expansion\", query_expansion_agent)\n",
    "workflow.add_node(\"resource_scout\", resource_scout_agent_v2)\n",
    "workflow.add_node(\"plan_delegator\", plan_delegator_agent)\n",
    "workflow.add_node(\"task_router\", task_router_node)\n",
    "workflow.add_node(\"task_dispatcher\", task_dispatcher_agent)\n",
    "workflow.add_node(\"theory_synthesizer\", theory_synthesizer_agent)\n",
    "workflow.add_node(\"activity_designer\", activity_designer_agent)\n",
    "workflow.add_node(\"assessment_creator\", assessment_creator_agent)\n",
    "workflow.add_node(\"content_validator\", content_validator_agent)\n",
    "workflow.add_node(\"budget_balancer\", budget_balancing_node) # Đổi tên từ update_task_duration\n",
    "workflow.add_node(\"commit_validated_content\", commit_validated_content_node)\n",
    "workflow.add_node(\"mark_task_complete\", mark_task_complete)\n",
    "workflow.add_node(\"structured_plan_compiler\", structured_plan_compiler_agent) \n",
    "workflow.add_node(\"markdown_presenter\", markdown_presentation_node)\n",
    "workflow.add_node(\"save_to_memory\", save_to_memory_node)\n",
    "workflow.add_node(\"delay_node\", delay_node)\n",
    "\n",
    "# 2. Thiết lập các kết nối (edges) - PHIÊN BẢN ĐẦY ĐỦ\n",
    "# Luồng Phân tích & Lập kế hoạch ban đầu (NỐI LẠI MẠCH)\n",
    "workflow.set_entry_point(\"initializer\")\n",
    "workflow.add_edge(\"initializer\", \"memory_retrieval\")\n",
    "workflow.add_edge(\"memory_retrieval\", \"objective_interpreter\") # <-- LỖI ĐÃ ĐƯỢC SỬA Ở ĐÂY\n",
    "workflow.add_edge(\"objective_interpreter\", \"domain_classifier\")\n",
    "workflow.add_edge(\"domain_classifier\", \"differentiated_instruction_advisor\")\n",
    "workflow.add_edge(\"differentiated_instruction_advisor\", \"pedagogy_strategist\")\n",
    "workflow.add_edge(\"pedagogy_strategist\", \"pedagogical_architect\")\n",
    "workflow.add_edge(\"pedagogical_architect\", \"query_expansion\")\n",
    "workflow.add_edge(\"query_expansion\", \"resource_scout\")\n",
    "workflow.add_edge(\"resource_scout\", \"plan_delegator\")\n",
    "workflow.add_edge(\"plan_delegator\", \"task_router\")\n",
    "\n",
    "# Luồng thực thi nhiệm vụ\n",
    "workflow.add_conditional_edges(\n",
    "    \"task_router\", \n",
    "    route_after_router, \n",
    "    {\n",
    "        \"continue_executing\": \"task_dispatcher\",\n",
    "        \"compile_and_critique\": \"structured_plan_compiler\"\n",
    "    }\n",
    ")\n",
    "\n",
    "# Luồng thực thi chi tiết\n",
    "workflow.add_conditional_edges(\"task_dispatcher\", lambda state: state[\"next_agent\"], {\n",
    "    \"activity_designer\": \"activity_designer\", \n",
    "    \"assessment_creator\": \"assessment_creator\", \n",
    "    \"theory_synthesizer\": \"theory_synthesizer\"\n",
    "})\n",
    "workflow.add_edge(\"theory_synthesizer\", \"content_validator\")\n",
    "workflow.add_edge(\"activity_designer\", \"content_validator\")\n",
    "workflow.add_edge(\"assessment_creator\", \"content_validator\")\n",
    "\n",
    "# Luồng sửa chữa và cân bằng ngân sách\n",
    "workflow.add_conditional_edges(\n",
    "    \"content_validator\", \n",
    "    route_after_validation,\n",
    "    {\n",
    "        \"commit\": \"commit_validated_content\", \n",
    "        \"retry_content\": \"task_dispatcher\",\n",
    "        \"replan_task\": \"budget_balancer\" \n",
    "    }\n",
    ")\n",
    "workflow.add_edge(\"budget_balancer\", \"task_dispatcher\")\n",
    "\n",
    "# Hoàn thành một nhiệm vụ\n",
    "workflow.add_edge(\"commit_validated_content\", \"mark_task_complete\")\n",
    "workflow.add_edge(\"mark_task_complete\", \"delay_node\")\n",
    "workflow.add_edge(\"delay_node\", \"task_router\")\n",
    "\n",
    "# Luồng kết thúc\n",
    "workflow.add_conditional_edges(\n",
    "    \"structured_plan_compiler\", \n",
    "    route_after_compilation,\n",
    "    {\n",
    "        \"replan\": \"plan_delegator\", \n",
    "        \"finish\": \"markdown_presenter\"\n",
    "    }\n",
    ")\n",
    "workflow.add_edge(\"markdown_presenter\", \"save_to_memory\")\n",
    "workflow.add_edge(\"save_to_memory\", END)\n",
    "\n",
    "# Biên dịch graph\n",
    "app = workflow.compile()\n",
    "print(\"✅ Graph đã được biên dịch thành công với chuỗi kết nối hoàn chỉnh (v9.9.1).\")"
   ]
  },
  {
   "cell_type": "code",
   "execution_count": 75,
   "id": "ac549fea",
   "metadata": {},
   "outputs": [
    {
     "data": {
      "image/png": "[encoded data removed]",
      "text/plain": [
       "<IPython.core.display.Image object>"
      ]
     },
     "metadata": {},
     "output_type": "display_data"
    }
   ],
   "source": [
    "# ==============================================================================\n",
    "# CELL 4.4: HIỂN THỊ SƠ ĐỒ GRAPH (TÙY CHỌN)\n",
    "# ==============================================================================\n",
    "try:\n",
    "    # Lệnh này sẽ vẽ một sơ đồ của workflow, rất hữu ích để gỡ lỗi\n",
    "    display(Image(app.get_graph().draw_mermaid_png()))\n",
    "except Exception as e:\n",
    "    print(f\"Lỗi vẽ biểu đồ: {e}. Đây là lỗi không nghiêm trọng, bạn vẫn có thể chạy quy trình.\")"
   ]
  },
  {
   "cell_type": "markdown",
   "id": "a5e56adc",
   "metadata": {},
   "source": [
    "## PHẦN 5"
   ]
  },
  {
   "cell_type": "code",
   "execution_count": 76,
   "id": "f27d8fdf",
   "metadata": {},
   "outputs": [
    {
     "name": "stdout",
     "output_type": "stream",
     "text": [
      "✅ Hàm `run_architect` đã sẵn sàng để sử dụng.\n"
     ]
    }
   ],
   "source": [
    "# ==============================================================================\n",
    "# CELL 5.1: ĐỊNH NGHĨA HÀM CHẠY QUY TRÌNH\n",
    "# ==============================================================================\n",
    "async def run_architect(user_request: str):\n",
    "    if 'llm' not in globals() or llm is None:\n",
    "        print_warning(\"LLM chưa được khởi tạo. Vui lòng chạy lại Cell 1.3.\")\n",
    "        return\n",
    "    if 'vector_store' not in globals() or vector_store is None:\n",
    "        print_warning(\"Kho tri thức chưa được tải. Vui lòng chạy lại Cell 1.4.\")\n",
    "        return\n",
    "    if 'app' not in globals():\n",
    "        print_warning(\"Graph 'app' chưa được biên dịch. Vui lòng chạy lại Cell 4.3.\")\n",
    "        return\n",
    "\n",
    "    initial_state = {\"messages\": [HumanMessage(content=user_request)]}\n",
    "    console.print(f\"\\n[bold magenta]🚀 BẮT ĐẦU QUY TRÌNH V7.1 (THE ARCHITECT) VỚI YÊU CẦU:[/bold magenta]\\n> {user_request}\")\n",
    "    config = {\"recursion_limit\": 150} \n",
    "    \n",
    "    final_state_result = None\n",
    "    try:\n",
    "        async for event in app.astream(initial_state, config=config):\n",
    "            for node_name, node_output in event.items():\n",
    "                console.print(f\"\\n[bold yellow]------- Hoàn thành bước: {node_name} -------[/bold yellow]\")\n",
    "                final_state_result = node_output\n",
    "\n",
    "        console.print(\"\\n[bold magenta]🏁 KẾT THÚC QUY TRÌNH V7.1.[/bold magenta]\")\n",
    "        \n",
    "        if final_state_result and final_state_result.get(\"final_markdown_plan\"):\n",
    "            console.print(\"\\n[bold green]📝 GIÁO ÁN HOÀN CHỈNH (v9.0)[/bold green]\")\n",
    "            console.print(Markdown(final_state_result[\"final_markdown_plan\"]))\n",
    "            \n",
    "            # (Tùy chọn) In ra cả JSON để kiểm tra\n",
    "            if VERBOSE_MODE:\n",
    "                print_result(final_state_result.get(\"final_structured_plan\"), \"Output JSON có cấu trúc\")\n",
    "\n",
    "        else:\n",
    "            print_warning(\"Không tạo được giáo án cuối cùng. Có thể Critic đã yêu cầu làm lại nhưng hết giới hạn đệ quy.\")\n",
    "            print(\"\\nTrạng thái cuối cùng để gỡ lỗi:\")\n",
    "            pprint(final_state_result)\n",
    "            \n",
    "    except Exception as e:\n",
    "        print_warning(f\"Đã xảy ra lỗi nghiêm trọng trong quá trình chạy graph: {e}\")\n",
    "        import traceback\n",
    "        traceback.print_exc()\n",
    "\n",
    "print(\"✅ Hàm `run_architect` đã sẵn sàng để sử dụng.\")"
   ]
  },
  {
   "cell_type": "code",
   "execution_count": null,
   "id": "43c8121e",
   "metadata": {},
   "outputs": [
    {
     "data": {
      "text/html": [
       "<pre style=\"white-space:pre;overflow-x:auto;line-height:normal;font-family:Menlo,'DejaVu Sans Mono',consolas,'Courier New',monospace\">\n",
       "<span style=\"color: #800080; text-decoration-color: #800080; font-weight: bold\">🚀 BẮT ĐẦU QUY TRÌNH V7.</span><span style=\"color: #800080; text-decoration-color: #800080; font-weight: bold\">1</span><span style=\"color: #800080; text-decoration-color: #800080; font-weight: bold\"> (THE ARCHITECT) VỚI YÊU CẦU:</span>\n",
       "&gt; Soạn giúp tôi giáo án bài <span style=\"color: #008000; text-decoration-color: #008000\">'Đường tròn ngoại tiếp và đường tròn nội tiếp'</span> cho học sinh lớp <span style=\"color: #008080; text-decoration-color: #008080; font-weight: bold\">9</span> trong <span style=\"color: #008080; text-decoration-color: #008080; font-weight: bold\">90</span> phút. Đây là\n",
       "một lớp học khá yếu, các em thường mất tập trung và cần các hoạt động có tính tương tác cao.\n",
       "</pre>\n"
      ],
      "text/plain": [
       "\n",
       "\u001b[1;35m🚀 BẮT ĐẦU QUY TRÌNH V7.\u001b[0m\u001b[1;35m1\u001b[0m\u001b[1;35m \u001b[0m\u001b[1;35m(\u001b[0m\u001b[1;35mTHE ARCHITECT\u001b[0m\u001b[1;35m)\u001b[0m\u001b[1;35m VỚI YÊU CẦU:\u001b[0m\n",
       "> Soạn giúp tôi giáo án bài \u001b[32m'Đường tròn ngoại tiếp và đường tròn nội tiếp'\u001b[0m cho học sinh lớp \u001b[1;36m9\u001b[0m trong \u001b[1;36m90\u001b[0m phút. Đây là\n",
       "một lớp học khá yếu, các em thường mất tập trung và cần các hoạt động có tính tương tác cao.\n"
      ]
     },
     "metadata": {},
     "output_type": "display_data"
    },
    {
     "data": {
      "text/html": [
       "<pre style=\"white-space:pre;overflow-x:auto;line-height:normal;font-family:Menlo,'DejaVu Sans Mono',consolas,'Courier New',monospace\">\n",
       "<span style=\"color: #008080; text-decoration-color: #008080; font-weight: bold\">&gt;</span> `Initializer`: Đang khởi tạo trạng thái và lấy yêu cầu gốc<span style=\"color: #808000; text-decoration-color: #808000\">...</span>\n",
       "</pre>\n"
      ],
      "text/plain": [
       "\n",
       "\u001b[1;36m>\u001b[0m `Initializer`: Đang khởi tạo trạng thái và lấy yêu cầu gốc\u001b[33m...\u001b[0m\n"
      ]
     },
     "metadata": {},
     "output_type": "display_data"
    },
    {
     "data": {
      "text/html": [
       "<pre style=\"white-space:pre;overflow-x:auto;line-height:normal;font-family:Menlo,'DejaVu Sans Mono',consolas,'Courier New',monospace\">\n",
       "<span style=\"color: #808000; text-decoration-color: #808000; font-weight: bold\">------- Hoàn thành bước: initializer -------</span>\n",
       "</pre>\n"
      ],
      "text/plain": [
       "\n",
       "\u001b[1;33m------- Hoàn thành bước: initializer -------\u001b[0m\n"
      ]
     },
     "metadata": {},
     "output_type": "display_data"
    },
    {
     "data": {
      "text/html": [
       "<pre style=\"white-space:pre;overflow-x:auto;line-height:normal;font-family:Menlo,'DejaVu Sans Mono',consolas,'Courier New',monospace\">\n",
       "<span style=\"color: #008080; text-decoration-color: #008080; font-weight: bold\">&gt;</span> `Agent: Memory Retrieval` <span style=\"font-weight: bold\">(</span>v9.<span style=\"color: #008080; text-decoration-color: #008080; font-weight: bold\">4</span><span style=\"font-weight: bold\">)</span> đang tìm kiếm trong trí nhớ<span style=\"color: #808000; text-decoration-color: #808000\">...</span>\n",
       "</pre>\n"
      ],
      "text/plain": [
       "\n",
       "\u001b[1;36m>\u001b[0m `Agent: Memory Retrieval` \u001b[1m(\u001b[0mv9.\u001b[1;36m4\u001b[0m\u001b[1m)\u001b[0m đang tìm kiếm trong trí nhớ\u001b[33m...\u001b[0m\n"
      ]
     },
     "metadata": {},
     "output_type": "display_data"
    },
    {
     "data": {
      "text/html": [
       "<pre style=\"white-space:pre;overflow-x:auto;line-height:normal;font-family:Menlo,'DejaVu Sans Mono',consolas,'Courier New',monospace\"><span style=\"color: #808000; text-decoration-color: #808000; font-weight: bold\">⚠️  Không có Trí nhớ Dài hạn. Bỏ qua bước này.</span>\n",
       "</pre>\n"
      ],
      "text/plain": [
       "\u001b[1;33m⚠️  Không có Trí nhớ Dài hạn. Bỏ qua bước này.\u001b[0m\n"
      ]
     },
     "metadata": {},
     "output_type": "display_data"
    },
    {
     "data": {
      "text/html": [
       "<pre style=\"white-space:pre;overflow-x:auto;line-height:normal;font-family:Menlo,'DejaVu Sans Mono',consolas,'Courier New',monospace\">\n",
       "<span style=\"color: #808000; text-decoration-color: #808000; font-weight: bold\">------- Hoàn thành bước: memory_retrieval -------</span>\n",
       "</pre>\n"
      ],
      "text/plain": [
       "\n",
       "\u001b[1;33m------- Hoàn thành bước: memory_retrieval -------\u001b[0m\n"
      ]
     },
     "metadata": {},
     "output_type": "display_data"
    },
    {
     "data": {
      "text/html": [
       "<pre style=\"white-space:pre;overflow-x:auto;line-height:normal;font-family:Menlo,'DejaVu Sans Mono',consolas,'Courier New',monospace\">\n",
       "<span style=\"color: #008080; text-decoration-color: #008080; font-weight: bold\">&gt;</span> `Agent: Objective Interpreter` <span style=\"font-weight: bold\">(</span>v7.<span style=\"color: #008080; text-decoration-color: #008080; font-weight: bold\">5</span><span style=\"font-weight: bold\">)</span> đang phân tích mục tiêu<span style=\"color: #808000; text-decoration-color: #808000\">...</span>\n",
       "</pre>\n"
      ],
      "text/plain": [
       "\n",
       "\u001b[1;36m>\u001b[0m `Agent: Objective Interpreter` \u001b[1m(\u001b[0mv7.\u001b[1;36m5\u001b[0m\u001b[1m)\u001b[0m đang phân tích mục tiêu\u001b[33m...\u001b[0m\n"
      ]
     },
     "metadata": {},
     "output_type": "display_data"
    },
    {
     "data": {
      "text/html": [
       "<pre style=\"white-space:pre;overflow-x:auto;line-height:normal;font-family:Menlo,'DejaVu Sans Mono',consolas,'Courier New',monospace\"><span style=\"color: #008000; text-decoration-color: #008000; font-weight: bold\">✔️ Mục tiêu &amp; Ràng buộc đã phân tích:</span>\n",
       "</pre>\n"
      ],
      "text/plain": [
       "\u001b[1;32m✔️ Mục tiêu & Ràng buộc đã phân tích:\u001b[0m\n"
      ]
     },
     "metadata": {},
     "output_type": "display_data"
    },
    {
     "data": {
      "text/html": [
       "<pre style=\"white-space:pre;overflow-x:auto;line-height:normal;font-family:Menlo,'DejaVu Sans Mono',consolas,'Courier New',monospace\"><span style=\"font-weight: bold\">{</span>\n",
       "<span style=\"color: #7fbf7f; text-decoration-color: #7fbf7f\">│   </span><span style=\"color: #008000; text-decoration-color: #008000\">'action_verb'</span>: <span style=\"color: #008000; text-decoration-color: #008000\">'Soạn'</span>,\n",
       "<span style=\"color: #7fbf7f; text-decoration-color: #7fbf7f\">│   </span><span style=\"color: #008000; text-decoration-color: #008000\">'bloom_level'</span>: <span style=\"color: #008080; text-decoration-color: #008080; font-weight: bold\">2</span>,\n",
       "<span style=\"color: #7fbf7f; text-decoration-color: #7fbf7f\">│   </span><span style=\"color: #008000; text-decoration-color: #008000\">'topic'</span>: <span style=\"color: #008000; text-decoration-color: #008000\">'Đường tròn ngoại tiếp và đường tròn nội tiếp'</span>,\n",
       "<span style=\"color: #7fbf7f; text-decoration-color: #7fbf7f\">│   </span><span style=\"color: #008000; text-decoration-color: #008000\">'grade_level'</span>: <span style=\"color: #008000; text-decoration-color: #008000\">'Lớp 9'</span>,\n",
       "<span style=\"color: #7fbf7f; text-decoration-color: #7fbf7f\">│   </span><span style=\"color: #008000; text-decoration-color: #008000\">'constraints'</span>: <span style=\"font-weight: bold\">{</span>\n",
       "<span style=\"color: #7fbf7f; text-decoration-color: #7fbf7f\">│   │   </span><span style=\"color: #008000; text-decoration-color: #008000\">'duration_minutes'</span>: <span style=\"color: #008080; text-decoration-color: #008080; font-weight: bold\">90</span>\n",
       "<span style=\"color: #7fbf7f; text-decoration-color: #7fbf7f\">│   </span><span style=\"font-weight: bold\">}</span>\n",
       "<span style=\"font-weight: bold\">}</span>\n",
       "</pre>\n"
      ],
      "text/plain": [
       "\u001b[1m{\u001b[0m\n",
       "\u001b[2;32m│   \u001b[0m\u001b[32m'action_verb'\u001b[0m: \u001b[32m'Soạn'\u001b[0m,\n",
       "\u001b[2;32m│   \u001b[0m\u001b[32m'bloom_level'\u001b[0m: \u001b[1;36m2\u001b[0m,\n",
       "\u001b[2;32m│   \u001b[0m\u001b[32m'topic'\u001b[0m: \u001b[32m'Đường tròn ngoại tiếp và đường tròn nội tiếp'\u001b[0m,\n",
       "\u001b[2;32m│   \u001b[0m\u001b[32m'grade_level'\u001b[0m: \u001b[32m'Lớp 9'\u001b[0m,\n",
       "\u001b[2;32m│   \u001b[0m\u001b[32m'constraints'\u001b[0m: \u001b[1m{\u001b[0m\n",
       "\u001b[2;32m│   │   \u001b[0m\u001b[32m'duration_minutes'\u001b[0m: \u001b[1;36m90\u001b[0m\n",
       "\u001b[2;32m│   \u001b[0m\u001b[1m}\u001b[0m\n",
       "\u001b[1m}\u001b[0m\n"
      ]
     },
     "metadata": {},
     "output_type": "display_data"
    },
    {
     "data": {
      "text/html": [
       "<pre style=\"white-space:pre;overflow-x:auto;line-height:normal;font-family:Menlo,'DejaVu Sans Mono',consolas,'Courier New',monospace\">\n",
       "<span style=\"color: #808000; text-decoration-color: #808000; font-weight: bold\">------- Hoàn thành bước: objective_interpreter -------</span>\n",
       "</pre>\n"
      ],
      "text/plain": [
       "\n",
       "\u001b[1;33m------- Hoàn thành bước: objective_interpreter -------\u001b[0m\n"
      ]
     },
     "metadata": {},
     "output_type": "display_data"
    },
    {
     "data": {
      "text/html": [
       "<pre style=\"white-space:pre;overflow-x:auto;line-height:normal;font-family:Menlo,'DejaVu Sans Mono',consolas,'Courier New',monospace\">\n",
       "<span style=\"color: #008080; text-decoration-color: #008080; font-weight: bold\">&gt;</span> `Agent: Domain Classifier` <span style=\"font-weight: bold\">(</span>v7.<span style=\"color: #008080; text-decoration-color: #008080; font-weight: bold\">5</span><span style=\"font-weight: bold\">)</span> đang xác định lĩnh vực chuyên môn<span style=\"color: #808000; text-decoration-color: #808000\">...</span>\n",
       "</pre>\n"
      ],
      "text/plain": [
       "\n",
       "\u001b[1;36m>\u001b[0m `Agent: Domain Classifier` \u001b[1m(\u001b[0mv7.\u001b[1;36m5\u001b[0m\u001b[1m)\u001b[0m đang xác định lĩnh vực chuyên môn\u001b[33m...\u001b[0m\n"
      ]
     },
     "metadata": {},
     "output_type": "display_data"
    },
    {
     "data": {
      "text/html": [
       "<pre style=\"white-space:pre;overflow-x:auto;line-height:normal;font-family:Menlo,'DejaVu Sans Mono',consolas,'Courier New',monospace\"><span style=\"color: #008000; text-decoration-color: #008000; font-weight: bold\">✔️ Lĩnh vực chuyên môn được xác định:</span>\n",
       "</pre>\n"
      ],
      "text/plain": [
       "\u001b[1;32m✔️ Lĩnh vực chuyên môn được xác định:\u001b[0m\n"
      ]
     },
     "metadata": {},
     "output_type": "display_data"
    },
    {
     "data": {
      "text/html": [
       "<pre style=\"white-space:pre;overflow-x:auto;line-height:normal;font-family:Menlo,'DejaVu Sans Mono',consolas,'Courier New',monospace\"><span style=\"color: #008000; text-decoration-color: #008000\">'Toán học'</span>\n",
       "</pre>\n"
      ],
      "text/plain": [
       "\u001b[32m'Toán học'\u001b[0m\n"
      ]
     },
     "metadata": {},
     "output_type": "display_data"
    },
    {
     "data": {
      "text/html": [
       "<pre style=\"white-space:pre;overflow-x:auto;line-height:normal;font-family:Menlo,'DejaVu Sans Mono',consolas,'Courier New',monospace\">\n",
       "<span style=\"color: #808000; text-decoration-color: #808000; font-weight: bold\">------- Hoàn thành bước: domain_classifier -------</span>\n",
       "</pre>\n"
      ],
      "text/plain": [
       "\n",
       "\u001b[1;33m------- Hoàn thành bước: domain_classifier -------\u001b[0m\n"
      ]
     },
     "metadata": {},
     "output_type": "display_data"
    },
    {
     "data": {
      "text/html": [
       "<pre style=\"white-space:pre;overflow-x:auto;line-height:normal;font-family:Menlo,'DejaVu Sans Mono',consolas,'Courier New',monospace\">\n",
       "<span style=\"color: #008080; text-decoration-color: #008080; font-weight: bold\">&gt;</span> `Agent: Differentiated Instruction Advisor` <span style=\"font-weight: bold\">(</span>v9.<span style=\"color: #008080; text-decoration-color: #008080; font-weight: bold\">1</span><span style=\"font-weight: bold\">)</span> đang phân tích và đề xuất chiến lược phân hóa<span style=\"color: #808000; text-decoration-color: #808000\">...</span>\n",
       "</pre>\n"
      ],
      "text/plain": [
       "\n",
       "\u001b[1;36m>\u001b[0m `Agent: Differentiated Instruction Advisor` \u001b[1m(\u001b[0mv9.\u001b[1;36m1\u001b[0m\u001b[1m)\u001b[0m đang phân tích và đề xuất chiến lược phân hóa\u001b[33m...\u001b[0m\n"
      ]
     },
     "metadata": {},
     "output_type": "display_data"
    },
    {
     "data": {
      "text/html": [
       "<pre style=\"white-space:pre;overflow-x:auto;line-height:normal;font-family:Menlo,'DejaVu Sans Mono',consolas,'Courier New',monospace\"><span style=\"color: #008000; text-decoration-color: #008000; font-weight: bold\">✔️ Hồ sơ lớp học và Chiến lược Phân hóa:</span>\n",
       "</pre>\n"
      ],
      "text/plain": [
       "\u001b[1;32m✔️ Hồ sơ lớp học và Chiến lược Phân hóa:\u001b[0m\n"
      ]
     },
     "metadata": {},
     "output_type": "display_data"
    },
    {
     "data": {
      "text/html": [
       "<pre style=\"white-space:pre;overflow-x:auto;line-height:normal;font-family:Menlo,'DejaVu Sans Mono',consolas,'Courier New',monospace\"><span style=\"font-weight: bold\">{</span>\n",
       "<span style=\"color: #7fbf7f; text-decoration-color: #7fbf7f\">│   </span><span style=\"color: #008000; text-decoration-color: #008000\">'learning_pace'</span>: <span style=\"color: #008000; text-decoration-color: #008000\">'chậm'</span>,\n",
       "<span style=\"color: #7fbf7f; text-decoration-color: #7fbf7f\">│   </span><span style=\"color: #008000; text-decoration-color: #008000\">'engagement_style'</span>: <span style=\"color: #008000; text-decoration-color: #008000\">'thụ động'</span>,\n",
       "<span style=\"color: #7fbf7f; text-decoration-color: #7fbf7f\">│   </span><span style=\"color: #008000; text-decoration-color: #008000\">'special_notes'</span>: <span style=\"color: #008000; text-decoration-color: #008000\">'Lớp học khá yếu, học sinh dễ mất tập trung và cần các hoạt động tương tác cao để duy trì sự chú ý và hứng thú.'</span>,\n",
       "<span style=\"color: #7fbf7f; text-decoration-color: #7fbf7f\">│   </span><span style=\"color: #008000; text-decoration-color: #008000\">'differentiation_strategy'</span>: <span style=\"font-weight: bold\">{</span>\n",
       "<span style=\"color: #7fbf7f; text-decoration-color: #7fbf7f\">│   │   </span><span style=\"color: #008000; text-decoration-color: #008000\">'for_struggling_students'</span>: <span style=\"color: #008000; text-decoration-color: #008000\">'Chia nhỏ kiến thức thành các phần nhỏ, sử dụng nhiều ví dụ minh họa trực quan, cung cấp phiếu bài tập có gợi ý chi tiết và bài tập cơ bản. Tổ chức các hoạt động nhóm nhỏ để học sinh yếu nhận được sự hỗ trợ từ bạn bè và giáo viên. Dành thời gian kiểm tra, củng cố kiến thức nền tảng thường xuyên.'</span>,\n",
       "<span style=\"color: #7fbf7f; text-decoration-color: #7fbf7f\">│   │   </span><span style=\"color: #008000; text-decoration-color: #008000\">'for_advanced_students'</span>: <span style=\"color: #008000; text-decoration-color: #008000\">'Giao các bài tập nâng cao, đòi hỏi tư duy tổng hợp hoặc ứng dụng thực tế. Khuyến khích các em tìm nhiều cách giải khác nhau hoặc tự chứng minh một số tính chất. Có thể yêu cầu các em hỗ trợ, hướng dẫn các bạn yếu hơn trong nhóm hoặc chuẩn bị một câu hỏi mở rộng để thảo luận chung.'</span>\n",
       "<span style=\"color: #7fbf7f; text-decoration-color: #7fbf7f\">│   </span><span style=\"font-weight: bold\">}</span>\n",
       "<span style=\"font-weight: bold\">}</span>\n",
       "</pre>\n"
      ],
      "text/plain": [
       "\u001b[1m{\u001b[0m\n",
       "\u001b[2;32m│   \u001b[0m\u001b[32m'learning_pace'\u001b[0m: \u001b[32m'chậm'\u001b[0m,\n",
       "\u001b[2;32m│   \u001b[0m\u001b[32m'engagement_style'\u001b[0m: \u001b[32m'thụ động'\u001b[0m,\n",
       "\u001b[2;32m│   \u001b[0m\u001b[32m'special_notes'\u001b[0m: \u001b[32m'Lớp học khá yếu, học sinh dễ mất tập trung và cần các hoạt động tương tác cao để duy trì sự chú ý và hứng thú.'\u001b[0m,\n",
       "\u001b[2;32m│   \u001b[0m\u001b[32m'differentiation_strategy'\u001b[0m: \u001b[1m{\u001b[0m\n",
       "\u001b[2;32m│   │   \u001b[0m\u001b[32m'for_struggling_students'\u001b[0m: \u001b[32m'Chia nhỏ kiến thức thành các phần nhỏ, sử dụng nhiều ví dụ minh họa trực quan, cung cấp phiếu bài tập có gợi ý chi tiết và bài tập cơ bản. Tổ chức các hoạt động nhóm nhỏ để học sinh yếu nhận được sự hỗ trợ từ bạn bè và giáo viên. Dành thời gian kiểm tra, củng cố kiến thức nền tảng thường xuyên.'\u001b[0m,\n",
       "\u001b[2;32m│   │   \u001b[0m\u001b[32m'for_advanced_students'\u001b[0m: \u001b[32m'Giao các bài tập nâng cao, đòi hỏi tư duy tổng hợp hoặc ứng dụng thực tế. Khuyến khích các em tìm nhiều cách giải khác nhau hoặc tự chứng minh một số tính chất. Có thể yêu cầu các em hỗ trợ, hướng dẫn các bạn yếu hơn trong nhóm hoặc chuẩn bị một câu hỏi mở rộng để thảo luận chung.'\u001b[0m\n",
       "\u001b[2;32m│   \u001b[0m\u001b[1m}\u001b[0m\n",
       "\u001b[1m}\u001b[0m\n"
      ]
     },
     "metadata": {},
     "output_type": "display_data"
    },
    {
     "data": {
      "text/html": [
       "<pre style=\"white-space:pre;overflow-x:auto;line-height:normal;font-family:Menlo,'DejaVu Sans Mono',consolas,'Courier New',monospace\">\n",
       "<span style=\"color: #808000; text-decoration-color: #808000; font-weight: bold\">------- Hoàn thành bước: differentiated_instruction_advisor -------</span>\n",
       "</pre>\n"
      ],
      "text/plain": [
       "\n",
       "\u001b[1;33m------- Hoàn thành bước: differentiated_instruction_advisor -------\u001b[0m\n"
      ]
     },
     "metadata": {},
     "output_type": "display_data"
    },
    {
     "data": {
      "text/html": [
       "<pre style=\"white-space:pre;overflow-x:auto;line-height:normal;font-family:Menlo,'DejaVu Sans Mono',consolas,'Courier New',monospace\">\n",
       "<span style=\"color: #008080; text-decoration-color: #008080; font-weight: bold\">&gt;</span> `Agent: Pedagogy Strategist` <span style=\"font-weight: bold\">(</span>v7.<span style=\"color: #008080; text-decoration-color: #008080; font-weight: bold\">5</span><span style=\"font-weight: bold\">)</span> đang xây dựng chiến lược sư phạm chi tiết<span style=\"color: #808000; text-decoration-color: #808000\">...</span>\n",
       "</pre>\n"
      ],
      "text/plain": [
       "\n",
       "\u001b[1;36m>\u001b[0m `Agent: Pedagogy Strategist` \u001b[1m(\u001b[0mv7.\u001b[1;36m5\u001b[0m\u001b[1m)\u001b[0m đang xây dựng chiến lược sư phạm chi tiết\u001b[33m...\u001b[0m\n"
      ]
     },
     "metadata": {},
     "output_type": "display_data"
    },
    {
     "data": {
      "text/html": [
       "<pre style=\"white-space:pre;overflow-x:auto;line-height:normal;font-family:Menlo,'DejaVu Sans Mono',consolas,'Courier New',monospace\"><span style=\"color: #008000; text-decoration-color: #008000; font-weight: bold\">✔️ Chiến lược sư phạm chi tiết:</span>\n",
       "</pre>\n"
      ],
      "text/plain": [
       "\u001b[1;32m✔️ Chiến lược sư phạm chi tiết:\u001b[0m\n"
      ]
     },
     "metadata": {},
     "output_type": "display_data"
    },
    {
     "data": {
      "text/html": [
       "<pre style=\"white-space:pre;overflow-x:auto;line-height:normal;font-family:Menlo,'DejaVu Sans Mono',consolas,'Courier New',monospace\"><span style=\"font-weight: bold\">{</span>\n",
       "<span style=\"color: #7fbf7f; text-decoration-color: #7fbf7f\">│   </span><span style=\"color: #008000; text-decoration-color: #008000\">'name'</span>: <span style=\"color: #008000; text-decoration-color: #008000\">'Dạy học hợp tác (Cooperative Learning)'</span>,\n",
       "<span style=\"color: #7fbf7f; text-decoration-color: #7fbf7f\">│   </span><span style=\"color: #008000; text-decoration-color: #008000\">'rationale'</span>: <span style=\"color: #008000; text-decoration-color: #008000\">'Phương pháp dạy học hợp tác rất phù hợp với lớp học có tốc độ học chậm, học sinh thụ động và dễ mất tập trung. Nó tạo ra môi trường học tập năng động, khuyến khích sự tương tác liên tục giữa các thành viên, giúp học sinh chủ động hơn trong việc tiếp thu kiến thức. Học sinh yếu sẽ nhận được sự hỗ trợ trực tiếp từ bạn bè và giáo viên, trong khi học sinh khá giỏi có cơ hội củng cố kiến thức bằng cách giải thích cho người khác. Việc chia nhỏ kiến thức thành các nhiệm vụ nhóm cụ thể cũng giúp học sinh tiếp cận bài học một cách từ từ, hiệu quả và duy trì sự hứng thú trong suốt 90 phút.'</span>,\n",
       "<span style=\"color: #7fbf7f; text-decoration-color: #7fbf7f\">│   </span><span style=\"color: #008000; text-decoration-color: #008000\">'key_actions'</span>: <span style=\"font-weight: bold\">[</span>\n",
       "<span style=\"color: #7fbf7f; text-decoration-color: #7fbf7f\">│   │   </span><span style=\"color: #008000; text-decoration-color: #008000\">'Chia nhóm và giao nhiệm vụ học tập cụ thể liên quan đến đường tròn ngoại tiếp và nội tiếp.'</span>,\n",
       "<span style=\"color: #7fbf7f; text-decoration-color: #7fbf7f\">│   │   </span><span style=\"color: #008000; text-decoration-color: #008000\">'Học sinh làm việc nhóm để nghiên cứu, thảo luận và giải quyết các nhiệm vụ được giao, với sự hỗ trợ của giáo viên.'</span>,\n",
       "<span style=\"color: #7fbf7f; text-decoration-color: #7fbf7f\">│   │   </span><span style=\"color: #008000; text-decoration-color: #008000\">'Đại diện các nhóm trình bày sản phẩm hoặc kết quả làm việc của nhóm mình trước lớp.'</span>,\n",
       "<span style=\"color: #7fbf7f; text-decoration-color: #7fbf7f\">│   │   </span><span style=\"color: #008000; text-decoration-color: #008000\">'Giáo viên tổng kết, hệ thống hóa kiến thức, giải đáp thắc mắc và củng cố các khái niệm trọng tâm.'</span>,\n",
       "<span style=\"color: #7fbf7f; text-decoration-color: #7fbf7f\">│   │   </span><span style=\"color: #008000; text-decoration-color: #008000\">'Học sinh thực hành cá nhân thông qua các bài tập để củng cố kiến thức và giáo viên đánh giá mức độ tiếp thu.'</span>\n",
       "<span style=\"color: #7fbf7f; text-decoration-color: #7fbf7f\">│   </span><span style=\"font-weight: bold\">]</span>\n",
       "<span style=\"font-weight: bold\">}</span>\n",
       "</pre>\n"
      ],
      "text/plain": [
       "\u001b[1m{\u001b[0m\n",
       "\u001b[2;32m│   \u001b[0m\u001b[32m'name'\u001b[0m: \u001b[32m'Dạy học hợp tác \u001b[0m\u001b[32m(\u001b[0m\u001b[32mCooperative Learning\u001b[0m\u001b[32m)\u001b[0m\u001b[32m'\u001b[0m,\n",
       "\u001b[2;32m│   \u001b[0m\u001b[32m'rationale'\u001b[0m: \u001b[32m'Phương pháp dạy học hợp tác rất phù hợp với lớp học có tốc độ học chậm, học sinh thụ động và dễ mất tập trung. Nó tạo ra môi trường học tập năng động, khuyến khích sự tương tác liên tục giữa các thành viên, giúp học sinh chủ động hơn trong việc tiếp thu kiến thức. Học sinh yếu sẽ nhận được sự hỗ trợ trực tiếp từ bạn bè và giáo viên, trong khi học sinh khá giỏi có cơ hội củng cố kiến thức bằng cách giải thích cho người khác. Việc chia nhỏ kiến thức thành các nhiệm vụ nhóm cụ thể cũng giúp học sinh tiếp cận bài học một cách từ từ, hiệu quả và duy trì sự hứng thú trong suốt 90 phút.'\u001b[0m,\n",
       "\u001b[2;32m│   \u001b[0m\u001b[32m'key_actions'\u001b[0m: \u001b[1m[\u001b[0m\n",
       "\u001b[2;32m│   │   \u001b[0m\u001b[32m'Chia nhóm và giao nhiệm vụ học tập cụ thể liên quan đến đường tròn ngoại tiếp và nội tiếp.'\u001b[0m,\n",
       "\u001b[2;32m│   │   \u001b[0m\u001b[32m'Học sinh làm việc nhóm để nghiên cứu, thảo luận và giải quyết các nhiệm vụ được giao, với sự hỗ trợ của giáo viên.'\u001b[0m,\n",
       "\u001b[2;32m│   │   \u001b[0m\u001b[32m'Đại diện các nhóm trình bày sản phẩm hoặc kết quả làm việc của nhóm mình trước lớp.'\u001b[0m,\n",
       "\u001b[2;32m│   │   \u001b[0m\u001b[32m'Giáo viên tổng kết, hệ thống hóa kiến thức, giải đáp thắc mắc và củng cố các khái niệm trọng tâm.'\u001b[0m,\n",
       "\u001b[2;32m│   │   \u001b[0m\u001b[32m'Học sinh thực hành cá nhân thông qua các bài tập để củng cố kiến thức và giáo viên đánh giá mức độ tiếp thu.'\u001b[0m\n",
       "\u001b[2;32m│   \u001b[0m\u001b[1m]\u001b[0m\n",
       "\u001b[1m}\u001b[0m\n"
      ]
     },
     "metadata": {},
     "output_type": "display_data"
    },
    {
     "data": {
      "text/html": [
       "<pre style=\"white-space:pre;overflow-x:auto;line-height:normal;font-family:Menlo,'DejaVu Sans Mono',consolas,'Courier New',monospace\">\n",
       "<span style=\"color: #808000; text-decoration-color: #808000; font-weight: bold\">------- Hoàn thành bước: pedagogy_strategist -------</span>\n",
       "</pre>\n"
      ],
      "text/plain": [
       "\n",
       "\u001b[1;33m------- Hoàn thành bước: pedagogy_strategist -------\u001b[0m\n"
      ]
     },
     "metadata": {},
     "output_type": "display_data"
    },
    {
     "data": {
      "text/html": [
       "<pre style=\"white-space:pre;overflow-x:auto;line-height:normal;font-family:Menlo,'DejaVu Sans Mono',consolas,'Courier New',monospace\">\n",
       "<span style=\"color: #008080; text-decoration-color: #008080; font-weight: bold\">&gt;</span> `Agent: Pedagogical Architect` <span style=\"font-weight: bold\">(</span>v9.<span style=\"color: #008080; text-decoration-color: #008080; font-weight: bold\">4</span><span style=\"font-weight: bold\">)</span> đang thiết kế kịch bản buổi học<span style=\"color: #808000; text-decoration-color: #808000\">...</span>\n",
       "</pre>\n"
      ],
      "text/plain": [
       "\n",
       "\u001b[1;36m>\u001b[0m `Agent: Pedagogical Architect` \u001b[1m(\u001b[0mv9.\u001b[1;36m4\u001b[0m\u001b[1m)\u001b[0m đang thiết kế kịch bản buổi học\u001b[33m...\u001b[0m\n"
      ]
     },
     "metadata": {},
     "output_type": "display_data"
    },
    {
     "data": {
      "text/html": [
       "<pre style=\"white-space:pre;overflow-x:auto;line-height:normal;font-family:Menlo,'DejaVu Sans Mono',consolas,'Courier New',monospace\"><span style=\"color: #008000; text-decoration-color: #008000; font-weight: bold\">✔️ Bản thiết kế Sư phạm đã được tạo:</span>\n",
       "</pre>\n"
      ],
      "text/plain": [
       "\u001b[1;32m✔️ Bản thiết kế Sư phạm đã được tạo:\u001b[0m\n"
      ]
     },
     "metadata": {},
     "output_type": "display_data"
    },
    {
     "data": {
      "text/html": [
       "<pre style=\"white-space:pre;overflow-x:auto;line-height:normal;font-family:Menlo,'DejaVu Sans Mono',consolas,'Courier New',monospace\"><span style=\"font-weight: bold\">[</span>\n",
       "<span style=\"color: #7fbf7f; text-decoration-color: #7fbf7f\">│   </span><span style=\"color: #008000; text-decoration-color: #008000\">'Khởi động và Khám phá ban đầu: Giáo viên tổ chức trò chơi hoặc câu đố nhanh liên quan đến các yếu tố của đường tròn và tam giác. Sử dụng hình ảnh trực quan (ví dụ: một vật thể hình tròn bao quanh một vật thể hình tam giác, hoặc ngược lại) để giới thiệu khái niệm \"ngoại tiếp\" và \"nội tiếp\" một cách trực quan, dễ hiểu. Chia lớp thành các nhóm nhỏ (4-5 học sinh).'</span>,\n",
       "<span style=\"color: #7fbf7f; text-decoration-color: #7fbf7f\">│   </span><span style=\"color: #008000; text-decoration-color: #008000\">'Xây dựng kiến thức qua hoạt động nhóm: Mỗi nhóm nhận một phiếu học tập hoặc nhiệm vụ cụ thể (ví dụ: Nhóm A tìm hiểu về đường tròn ngoại tiếp, Nhóm B tìm hiểu về đường tròn nội tiếp). Nhiệm vụ bao gồm đọc tài liệu, vẽ hình, thảo luận để trả lời các câu hỏi gợi mở. Giáo viên di chuyển giữa các nhóm, quan sát, gợi ý và hỗ trợ khi cần thiết, đặc biệt chú ý đến các nhóm có học sinh yếu.'</span>,\n",
       "<span style=\"color: #7fbf7f; text-decoration-color: #7fbf7f\">│   </span><span style=\"color: #008000; text-decoration-color: #008000\">'Trình bày, Chuẩn hóa và Củng cố: Đại diện các nhóm lên bảng trình bày sản phẩm của nhóm mình (có thể là sơ đồ tư duy, hình vẽ, hoặc tóm tắt các định nghĩa/tính chất). Giáo viên lắng nghe, nhận xét, bổ sung và điều chỉnh để đảm bảo kiến thức được chính xác và đầy đủ. Tổng kết các khái niệm trọng tâm, các tính chất quan trọng và cách xác định tâm/bán kính của hai loại đường tròn này.'</span>,\n",
       "<span style=\"color: #7fbf7f; text-decoration-color: #7fbf7f\">│   </span><span style=\"color: #008000; text-decoration-color: #008000\">'Vận dụng và Luyện tập cá nhân/nhóm: Giáo viên phát phiếu bài tập với các dạng bài từ nhận biết, thông hiểu đến vận dụng. Học sinh làm bài tập cá nhân. Đối với học sinh yếu, giáo viên cung cấp phiếu bài tập có gợi ý chi tiết hoặc cho phép làm việc theo cặp/nhóm nhỏ để nhận sự hỗ trợ. Học sinh khá giỏi được khuyến khích làm các bài tập nâng cao hoặc tìm nhiều cách giải khác nhau. Giáo viên quan sát, hỗ trợ và chữa bài tập mẫu.'</span>,\n",
       "<span style=\"color: #7fbf7f; text-decoration-color: #7fbf7f\">│   </span><span style=\"color: #008000; text-decoration-color: #008000\">'Tổng kết và Định hướng: Giáo viên cùng học sinh tóm tắt lại các kiến thức cốt lõi về đường tròn ngoại tiếp và nội tiếp. Tổ chức một hoạt động kiểm tra nhanh (ví dụ: \"Ai nhanh hơn\" với các câu hỏi trắc nghiệm ngắn) để đánh giá mức độ hiểu bài. Giao bài tập về nhà và gợi ý các nguồn tài liệu để học sinh tự tìm hiểu thêm hoặc chuẩn bị cho bài học tiếp theo.'</span>\n",
       "<span style=\"font-weight: bold\">]</span>\n",
       "</pre>\n"
      ],
      "text/plain": [
       "\u001b[1m[\u001b[0m\n",
       "\u001b[2;32m│   \u001b[0m\u001b[32m'Khởi động và Khám phá ban đầu: Giáo viên tổ chức trò chơi hoặc câu đố nhanh liên quan đến các yếu tố của đường tròn và tam giác. Sử dụng hình ảnh trực quan \u001b[0m\u001b[32m(\u001b[0m\u001b[32mví dụ: một vật thể hình tròn bao quanh một vật thể hình tam giác, hoặc ngược lại\u001b[0m\u001b[32m)\u001b[0m\u001b[32m để giới thiệu khái niệm \"ngoại tiếp\" và \"nội tiếp\" một cách trực quan, dễ hiểu. Chia lớp thành các nhóm nhỏ \u001b[0m\u001b[32m(\u001b[0m\u001b[32m4-5 học sinh\u001b[0m\u001b[32m)\u001b[0m\u001b[32m.'\u001b[0m,\n",
       "\u001b[2;32m│   \u001b[0m\u001b[32m'Xây dựng kiến thức qua hoạt động nhóm: Mỗi nhóm nhận một phiếu học tập hoặc nhiệm vụ cụ thể \u001b[0m\u001b[32m(\u001b[0m\u001b[32mví dụ: Nhóm A tìm hiểu về đường tròn ngoại tiếp, Nhóm B tìm hiểu về đường tròn nội tiếp\u001b[0m\u001b[32m)\u001b[0m\u001b[32m. Nhiệm vụ bao gồm đọc tài liệu, vẽ hình, thảo luận để trả lời các câu hỏi gợi mở. Giáo viên di chuyển giữa các nhóm, quan sát, gợi ý và hỗ trợ khi cần thiết, đặc biệt chú ý đến các nhóm có học sinh yếu.'\u001b[0m,\n",
       "\u001b[2;32m│   \u001b[0m\u001b[32m'Trình bày, Chuẩn hóa và Củng cố: Đại diện các nhóm lên bảng trình bày sản phẩm của nhóm mình \u001b[0m\u001b[32m(\u001b[0m\u001b[32mcó thể là sơ đồ tư duy, hình vẽ, hoặc tóm tắt các định nghĩa/tính chất\u001b[0m\u001b[32m)\u001b[0m\u001b[32m. Giáo viên lắng nghe, nhận xét, bổ sung và điều chỉnh để đảm bảo kiến thức được chính xác và đầy đủ. Tổng kết các khái niệm trọng tâm, các tính chất quan trọng và cách xác định tâm/bán kính của hai loại đường tròn này.'\u001b[0m,\n",
       "\u001b[2;32m│   \u001b[0m\u001b[32m'Vận dụng và Luyện tập cá nhân/nhóm: Giáo viên phát phiếu bài tập với các dạng bài từ nhận biết, thông hiểu đến vận dụng. Học sinh làm bài tập cá nhân. Đối với học sinh yếu, giáo viên cung cấp phiếu bài tập có gợi ý chi tiết hoặc cho phép làm việc theo cặp/nhóm nhỏ để nhận sự hỗ trợ. Học sinh khá giỏi được khuyến khích làm các bài tập nâng cao hoặc tìm nhiều cách giải khác nhau. Giáo viên quan sát, hỗ trợ và chữa bài tập mẫu.'\u001b[0m,\n",
       "\u001b[2;32m│   \u001b[0m\u001b[32m'Tổng kết và Định hướng: Giáo viên cùng học sinh tóm tắt lại các kiến thức cốt lõi về đường tròn ngoại tiếp và nội tiếp. Tổ chức một hoạt động kiểm tra nhanh \u001b[0m\u001b[32m(\u001b[0m\u001b[32mví dụ: \"Ai nhanh hơn\" với các câu hỏi trắc nghiệm ngắn\u001b[0m\u001b[32m)\u001b[0m\u001b[32m để đánh giá mức độ hiểu bài. Giao bài tập về nhà và gợi ý các nguồn tài liệu để học sinh tự tìm hiểu thêm hoặc chuẩn bị cho bài học tiếp theo.'\u001b[0m\n",
       "\u001b[1m]\u001b[0m\n"
      ]
     },
     "metadata": {},
     "output_type": "display_data"
    },
    {
     "data": {
      "text/html": [
       "<pre style=\"white-space:pre;overflow-x:auto;line-height:normal;font-family:Menlo,'DejaVu Sans Mono',consolas,'Courier New',monospace\">\n",
       "<span style=\"color: #808000; text-decoration-color: #808000; font-weight: bold\">------- Hoàn thành bước: pedagogical_architect -------</span>\n",
       "</pre>\n"
      ],
      "text/plain": [
       "\n",
       "\u001b[1;33m------- Hoàn thành bước: pedagogical_architect -------\u001b[0m\n"
      ]
     },
     "metadata": {},
     "output_type": "display_data"
    },
    {
     "data": {
      "text/html": [
       "<pre style=\"white-space:pre;overflow-x:auto;line-height:normal;font-family:Menlo,'DejaVu Sans Mono',consolas,'Courier New',monospace\">\n",
       "<span style=\"color: #008080; text-decoration-color: #008080; font-weight: bold\">&gt;</span> `Agent: Query Expansion` <span style=\"font-weight: bold\">(</span>v7.<span style=\"color: #008080; text-decoration-color: #008080; font-weight: bold\">5</span><span style=\"font-weight: bold\">)</span> đang phân tích yêu cầu<span style=\"color: #808000; text-decoration-color: #808000\">...</span>\n",
       "</pre>\n"
      ],
      "text/plain": [
       "\n",
       "\u001b[1;36m>\u001b[0m `Agent: Query Expansion` \u001b[1m(\u001b[0mv7.\u001b[1;36m5\u001b[0m\u001b[1m)\u001b[0m đang phân tích yêu cầu\u001b[33m...\u001b[0m\n"
      ]
     },
     "metadata": {},
     "output_type": "display_data"
    },
    {
     "data": {
      "text/html": [
       "<pre style=\"white-space:pre;overflow-x:auto;line-height:normal;font-family:Menlo,'DejaVu Sans Mono',consolas,'Courier New',monospace\"><span style=\"color: #008000; text-decoration-color: #008000; font-weight: bold\">✔️ Các truy vấn tìm kiếm đã được mở rộng:</span>\n",
       "</pre>\n"
      ],
      "text/plain": [
       "\u001b[1;32m✔️ Các truy vấn tìm kiếm đã được mở rộng:\u001b[0m\n"
      ]
     },
     "metadata": {},
     "output_type": "display_data"
    },
    {
     "data": {
      "text/html": [
       "<pre style=\"white-space:pre;overflow-x:auto;line-height:normal;font-family:Menlo,'DejaVu Sans Mono',consolas,'Courier New',monospace\"><span style=\"font-weight: bold\">[</span>\n",
       "<span style=\"color: #7fbf7f; text-decoration-color: #7fbf7f\">│   </span><span style=\"color: #008000; text-decoration-color: #008000\">'Đường tròn ngoại tiếp là gì'</span>,\n",
       "<span style=\"color: #7fbf7f; text-decoration-color: #7fbf7f\">│   </span><span style=\"color: #008000; text-decoration-color: #008000\">'Đường tròn nội tiếp là gì'</span>,\n",
       "<span style=\"color: #7fbf7f; text-decoration-color: #7fbf7f\">│   </span><span style=\"color: #008000; text-decoration-color: #008000\">'Công thức tính bán kính đường tròn ngoại tiếp tam giác'</span>,\n",
       "<span style=\"color: #7fbf7f; text-decoration-color: #7fbf7f\">│   </span><span style=\"color: #008000; text-decoration-color: #008000\">'Công thức tính bán kính đường tròn nội tiếp tam giác'</span>,\n",
       "<span style=\"color: #7fbf7f; text-decoration-color: #7fbf7f\">│   </span><span style=\"color: #008000; text-decoration-color: #008000\">'Tính chất đường tròn ngoại tiếp và nội tiếp'</span>,\n",
       "<span style=\"color: #7fbf7f; text-decoration-color: #7fbf7f\">│   </span><span style=\"color: #008000; text-decoration-color: #008000\">'Bài tập đường tròn ngoại tiếp và nội tiếp lớp 9'</span>,\n",
       "<span style=\"color: #7fbf7f; text-decoration-color: #7fbf7f\">│   </span><span style=\"color: #008000; text-decoration-color: #008000\">'Chuyên đề đường tròn ngoại tiếp nội tiếp hình học'</span>,\n",
       "<span style=\"color: #7fbf7f; text-decoration-color: #7fbf7f\">│   </span><span style=\"color: #008000; text-decoration-color: #008000\">'Cách xác định tâm đường tròn ngoại tiếp'</span>,\n",
       "<span style=\"color: #7fbf7f; text-decoration-color: #7fbf7f\">│   </span><span style=\"color: #008000; text-decoration-color: #008000\">'Cách xác định tâm đường tròn nội tiếp'</span>,\n",
       "<span style=\"color: #7fbf7f; text-decoration-color: #7fbf7f\">│   </span><span style=\"color: #008000; text-decoration-color: #008000\">'Đường tròn ngoại tiếp tam giác vuông cân'</span>,\n",
       "<span style=\"color: #7fbf7f; text-decoration-color: #7fbf7f\">│   </span><span style=\"color: #008000; text-decoration-color: #008000\">'Đường tròn nội tiếp tam giác đều'</span>,\n",
       "<span style=\"color: #7fbf7f; text-decoration-color: #7fbf7f\">│   </span><span style=\"color: #008000; text-decoration-color: #008000\">'Ứng dụng đường tròn ngoại tiếp nội tiếp trong giải toán'</span>,\n",
       "<span style=\"color: #7fbf7f; text-decoration-color: #7fbf7f\">│   </span><span style=\"color: #008000; text-decoration-color: #008000\">'Lý thuyết đường tròn ngoại tiếp nội tiếp THCS'</span>,\n",
       "<span style=\"color: #7fbf7f; text-decoration-color: #7fbf7f\">│   </span><span style=\"color: #008000; text-decoration-color: #008000\">'Các dạng bài tập đường tròn ngoại tiếp nội tiếp nâng cao'</span>,\n",
       "<span style=\"color: #7fbf7f; text-decoration-color: #7fbf7f\">│   </span><span style=\"color: #008000; text-decoration-color: #008000\">'Mối quan hệ giữa đường tròn ngoại tiếp và nội tiếp tam giác'</span>\n",
       "<span style=\"font-weight: bold\">]</span>\n",
       "</pre>\n"
      ],
      "text/plain": [
       "\u001b[1m[\u001b[0m\n",
       "\u001b[2;32m│   \u001b[0m\u001b[32m'Đường tròn ngoại tiếp là gì'\u001b[0m,\n",
       "\u001b[2;32m│   \u001b[0m\u001b[32m'Đường tròn nội tiếp là gì'\u001b[0m,\n",
       "\u001b[2;32m│   \u001b[0m\u001b[32m'Công thức tính bán kính đường tròn ngoại tiếp tam giác'\u001b[0m,\n",
       "\u001b[2;32m│   \u001b[0m\u001b[32m'Công thức tính bán kính đường tròn nội tiếp tam giác'\u001b[0m,\n",
       "\u001b[2;32m│   \u001b[0m\u001b[32m'Tính chất đường tròn ngoại tiếp và nội tiếp'\u001b[0m,\n",
       "\u001b[2;32m│   \u001b[0m\u001b[32m'Bài tập đường tròn ngoại tiếp và nội tiếp lớp 9'\u001b[0m,\n",
       "\u001b[2;32m│   \u001b[0m\u001b[32m'Chuyên đề đường tròn ngoại tiếp nội tiếp hình học'\u001b[0m,\n",
       "\u001b[2;32m│   \u001b[0m\u001b[32m'Cách xác định tâm đường tròn ngoại tiếp'\u001b[0m,\n",
       "\u001b[2;32m│   \u001b[0m\u001b[32m'Cách xác định tâm đường tròn nội tiếp'\u001b[0m,\n",
       "\u001b[2;32m│   \u001b[0m\u001b[32m'Đường tròn ngoại tiếp tam giác vuông cân'\u001b[0m,\n",
       "\u001b[2;32m│   \u001b[0m\u001b[32m'Đường tròn nội tiếp tam giác đều'\u001b[0m,\n",
       "\u001b[2;32m│   \u001b[0m\u001b[32m'Ứng dụng đường tròn ngoại tiếp nội tiếp trong giải toán'\u001b[0m,\n",
       "\u001b[2;32m│   \u001b[0m\u001b[32m'Lý thuyết đường tròn ngoại tiếp nội tiếp THCS'\u001b[0m,\n",
       "\u001b[2;32m│   \u001b[0m\u001b[32m'Các dạng bài tập đường tròn ngoại tiếp nội tiếp nâng cao'\u001b[0m,\n",
       "\u001b[2;32m│   \u001b[0m\u001b[32m'Mối quan hệ giữa đường tròn ngoại tiếp và nội tiếp tam giác'\u001b[0m\n",
       "\u001b[1m]\u001b[0m\n"
      ]
     },
     "metadata": {},
     "output_type": "display_data"
    },
    {
     "data": {
      "text/html": [
       "<pre style=\"white-space:pre;overflow-x:auto;line-height:normal;font-family:Menlo,'DejaVu Sans Mono',consolas,'Courier New',monospace\">\n",
       "<span style=\"color: #808000; text-decoration-color: #808000; font-weight: bold\">------- Hoàn thành bước: query_expansion -------</span>\n",
       "</pre>\n"
      ],
      "text/plain": [
       "\n",
       "\u001b[1;33m------- Hoàn thành bước: query_expansion -------\u001b[0m\n"
      ]
     },
     "metadata": {},
     "output_type": "display_data"
    },
    {
     "data": {
      "text/html": [
       "<pre style=\"white-space:pre;overflow-x:auto;line-height:normal;font-family:Menlo,'DejaVu Sans Mono',consolas,'Courier New',monospace\">\n",
       "<span style=\"color: #008080; text-decoration-color: #008080; font-weight: bold\">&gt;</span> `Agent: Resource Scout` <span style=\"font-weight: bold\">(</span>v8.<span style=\"color: #008080; text-decoration-color: #008080; font-weight: bold\">1</span> - Sửa lỗi<span style=\"font-weight: bold\">)</span> đang tìm kiếm và sàng lọc<span style=\"color: #808000; text-decoration-color: #808000\">...</span>\n",
       "</pre>\n"
      ],
      "text/plain": [
       "\n",
       "\u001b[1;36m>\u001b[0m `Agent: Resource Scout` \u001b[1m(\u001b[0mv8.\u001b[1;36m1\u001b[0m - Sửa lỗi\u001b[1m)\u001b[0m đang tìm kiếm và sàng lọc\u001b[33m...\u001b[0m\n"
      ]
     },
     "metadata": {},
     "output_type": "display_data"
    },
    {
     "data": {
      "text/html": [
       "<pre style=\"white-space:pre;overflow-x:auto;line-height:normal;font-family:Menlo,'DejaVu Sans Mono',consolas,'Courier New',monospace\">\n",
       "<span style=\"color: #008080; text-decoration-color: #008080; font-weight: bold\">&gt;</span> Tìm thấy <span style=\"color: #008080; text-decoration-color: #008080; font-weight: bold\">75</span> tài liệu, sàng lọc còn <span style=\"color: #008080; text-decoration-color: #008080; font-weight: bold\">8</span> đoạn văn bản độc nhất.\n",
       "</pre>\n"
      ],
      "text/plain": [
       "\n",
       "\u001b[1;36m>\u001b[0m Tìm thấy \u001b[1;36m75\u001b[0m tài liệu, sàng lọc còn \u001b[1;36m8\u001b[0m đoạn văn bản độc nhất.\n"
      ]
     },
     "metadata": {},
     "output_type": "display_data"
    },
    {
     "data": {
      "text/html": [
       "<pre style=\"white-space:pre;overflow-x:auto;line-height:normal;font-family:Menlo,'DejaVu Sans Mono',consolas,'Courier New',monospace\"><span style=\"color: #008000; text-decoration-color: #008000; font-weight: bold\">✔️ Tài liệu RAG cuối cùng:</span>\n",
       "</pre>\n"
      ],
      "text/plain": [
       "\u001b[1;32m✔️ Tài liệu RAG cuối cùng:\u001b[0m\n"
      ]
     },
     "metadata": {},
     "output_type": "display_data"
    },
    {
     "data": {
      "text/html": [
       "<pre style=\"white-space:pre;overflow-x:auto;line-height:normal;font-family:Menlo,'DejaVu Sans Mono',consolas,'Courier New',monospace\"><span style=\"font-weight: bold\">{</span>\n",
       "<span style=\"color: #7fbf7f; text-decoration-color: #7fbf7f\">│   </span><span style=\"color: #008000; text-decoration-color: #008000\">'source'</span>: <span style=\"color: #008000; text-decoration-color: #008000\">'Sách giáo khoa (từ RAG - đã sàng lọc)'</span>,\n",
       "<span style=\"color: #7fbf7f; text-decoration-color: #7fbf7f\">│   </span><span style=\"color: #008000; text-decoration-color: #008000\">'summary'</span>: <span style=\"color: #008000; text-decoration-color: #008000\">'Chào các em,\\n\\nVới vai trò là một giáo viên, thầy sẽ tổng hợp kiến thức cốt lõi dựa **chỉ** vào các đoạn văn bản mà các em đã cung cấp. Mặc dù chủ đề yêu cầu là \"Đường tròn ngoại tiếp và đường tròn nội tiếp\", nhưng các đoạn văn bản này tập trung vào các khái niệm cơ bản hơn về vị trí tương đối của đường thẳng và đường tròn, cũng như tiếp tuyến của đường tròn. Đây là những kiến thức nền tảng rất quan trọng để sau này chúng ta tìm hiểu sâu hơn về đường tròn ngoại tiếp và nội tiếp.\\n\\nDưới đây là bản tóm tắt kiến thức cốt lõi từ tài liệu đã cho:\\n\\n---\\n\\n**TÓM TẮT KIẾN THỨC CỐT LÕI VỀ CHỦ ĐỀ \"ĐƯỜNG TRÒN NGOẠI TIẾP VÀ ĐƯỜNG TRÒN NỘI TIẾP\" (Dựa trên các đoạn văn bản đã cung cấp)**\\n\\n**1. Vị trí tương đối của đường thẳng và đường tròn**\\n\\n*   **Định nghĩa:**\\n    *   **Cắt nhau:** Đường thẳng và đường tròn có đúng hai điểm chung.\\n    *   **Tiếp xúc với nhau:** Đường thẳng và đường tròn có đúng một điểm chung. Điểm chung này được gọi là **tiếp điểm**. Khi đó, đường thẳng còn được gọi là **tiếp tuyến** của đường tròn tại tiếp điểm.\\n    *   **Không giao nhau:** Đường thẳng và đường tròn không có điểm chung nào.\\n\\n*   **Mối liên hệ giữa khoảng cách từ tâm đến đường thẳng (d) và bán kính (R):**\\n    *   Đường thẳng và đường tròn cắt nhau khi $d &lt; R$.\\n    *   Đường thẳng và đường tròn tiếp xúc với nhau khi $d = R$.\\n    *   Đường thẳng và đường tròn không giao nhau khi $d &gt; R$.\\n\\n**2. Dấu hiệu nhận biết tiếp tuyến của đường tròn**\\n\\n*   **Định lí 1:** Nếu một đường thẳng đi qua một điểm trên một đường tròn và vuông góc với bán kính đi qua điểm đó thì đường thẳng ấy là một tiếp tuyến của đường tròn.\\n\\n**3. Các tính chất và ứng dụng liên quan đến tiếp tuyến (từ các bài tập)**\\n\\n*   **Tính chất về các tiếp tuyến cắt nhau (Bài 5.30a):**\\n    Cho đường tròn (O) đường kính AB, tiếp tuyến xx\\' tại A và tiếp tuyến yy\\' tại B của (O). Một tiếp tuyến thứ ba của (O) tại điểm P (P khác A và B) cắt xx\\' tại M và cắt yy\\' tại N. Khi đó, đoạn thẳng MN bằng tổng độ dài của MA và NB ($MN = MA + NB$).\\n\\n*   **Tính chất về tiếp tuyến chung và tiếp xúc ngoài (Bài 5.31a, 5.31b):**\\n    Cho hai đường tròn (O) và (O\\') tiếp xúc ngoài với nhau tại A và cùng tiếp xúc với một đường thẳng d tại B và C. Tiếp tuyến của (O) tại A cắt BC tại M. Khi đó:\\n    *   Đường thẳng MA cũng tiếp xúc với đường tròn (O\\').\\n    *   Điểm M là trung điểm của đoạn thẳng BC.\\n\\n---\\n\\nHy vọng bản tóm tắt này giúp các em nắm vững các kiến thức cơ bản về đường tròn và tiếp tuyến từ tài liệu đã học.'</span>\n",
       "<span style=\"font-weight: bold\">}</span>\n",
       "</pre>\n"
      ],
      "text/plain": [
       "\u001b[1m{\u001b[0m\n",
       "\u001b[2;32m│   \u001b[0m\u001b[32m'source'\u001b[0m: \u001b[32m'Sách giáo khoa \u001b[0m\u001b[32m(\u001b[0m\u001b[32mtừ RAG - đã sàng lọc\u001b[0m\u001b[32m)\u001b[0m\u001b[32m'\u001b[0m,\n",
       "\u001b[2;32m│   \u001b[0m\u001b[32m'summary'\u001b[0m: \u001b[32m'Chào các em,\\n\\nVới vai trò là một giáo viên, thầy sẽ tổng hợp kiến thức cốt lõi dựa **chỉ** vào các đoạn văn bản mà các em đã cung cấp. Mặc dù chủ đề yêu cầu là \"Đường tròn ngoại tiếp và đường tròn nội tiếp\", nhưng các đoạn văn bản này tập trung vào các khái niệm cơ bản hơn về vị trí tương đối của đường thẳng và đường tròn, cũng như tiếp tuyến của đường tròn. Đây là những kiến thức nền tảng rất quan trọng để sau này chúng ta tìm hiểu sâu hơn về đường tròn ngoại tiếp và nội tiếp.\\n\\nDưới đây là bản tóm tắt kiến thức cốt lõi từ tài liệu đã cho:\\n\\n---\\n\\n**TÓM TẮT KIẾN THỨC CỐT LÕI VỀ CHỦ ĐỀ \"ĐƯỜNG TRÒN NGOẠI TIẾP VÀ ĐƯỜNG TRÒN NỘI TIẾP\" \u001b[0m\u001b[32m(\u001b[0m\u001b[32mDựa trên các đoạn văn bản đã cung cấp\u001b[0m\u001b[32m)\u001b[0m\u001b[32m**\\n\\n**1. Vị trí tương đối của đường thẳng và đường tròn**\\n\\n*   **Định nghĩa:**\\n    *   **Cắt nhau:** Đường thẳng và đường tròn có đúng hai điểm chung.\\n    *   **Tiếp xúc với nhau:** Đường thẳng và đường tròn có đúng một điểm chung. Điểm chung này được gọi là **tiếp điểm**. Khi đó, đường thẳng còn được gọi là **tiếp tuyến** của đường tròn tại tiếp điểm.\\n    *   **Không giao nhau:** Đường thẳng và đường tròn không có điểm chung nào.\\n\\n*   **Mối liên hệ giữa khoảng cách từ tâm đến đường thẳng \u001b[0m\u001b[32m(\u001b[0m\u001b[32md\u001b[0m\u001b[32m)\u001b[0m\u001b[32m và bán kính \u001b[0m\u001b[32m(\u001b[0m\u001b[32mR\u001b[0m\u001b[32m)\u001b[0m\u001b[32m:**\\n    *   Đường thẳng và đường tròn cắt nhau khi $d \u001b[0m\u001b[32m<\u001b[0m\u001b[32m R$.\\n    *   Đường thẳng và đường tròn tiếp xúc với nhau khi $d = R$.\\n    *   Đường thẳng và đường tròn không giao nhau khi $d \u001b[0m\u001b[32m>\u001b[0m\u001b[32m R$.\\n\\n**2. Dấu hiệu nhận biết tiếp tuyến của đường tròn**\\n\\n*   **Định lí 1:** Nếu một đường thẳng đi qua một điểm trên một đường tròn và vuông góc với bán kính đi qua điểm đó thì đường thẳng ấy là một tiếp tuyến của đường tròn.\\n\\n**3. Các tính chất và ứng dụng liên quan đến tiếp tuyến \u001b[0m\u001b[32m(\u001b[0m\u001b[32mtừ các bài tập\u001b[0m\u001b[32m)\u001b[0m\u001b[32m**\\n\\n*   **Tính chất về các tiếp tuyến cắt nhau \u001b[0m\u001b[32m(\u001b[0m\u001b[32mBài 5.30a\u001b[0m\u001b[32m)\u001b[0m\u001b[32m:**\\n    Cho đường tròn \u001b[0m\u001b[32m(\u001b[0m\u001b[32mO\u001b[0m\u001b[32m)\u001b[0m\u001b[32m đường kính AB, tiếp tuyến xx\\' tại A và tiếp tuyến yy\\' tại B của \u001b[0m\u001b[32m(\u001b[0m\u001b[32mO\u001b[0m\u001b[32m)\u001b[0m\u001b[32m. Một tiếp tuyến thứ ba của \u001b[0m\u001b[32m(\u001b[0m\u001b[32mO\u001b[0m\u001b[32m)\u001b[0m\u001b[32m tại điểm P \u001b[0m\u001b[32m(\u001b[0m\u001b[32mP khác A và B\u001b[0m\u001b[32m)\u001b[0m\u001b[32m cắt xx\\' tại M và cắt yy\\' tại N. Khi đó, đoạn thẳng MN bằng tổng độ dài của MA và NB \u001b[0m\u001b[32m(\u001b[0m\u001b[32m$MN = MA + NB$\u001b[0m\u001b[32m)\u001b[0m\u001b[32m.\\n\\n*   **Tính chất về tiếp tuyến chung và tiếp xúc ngoài \u001b[0m\u001b[32m(\u001b[0m\u001b[32mBài 5.31a, 5.31b\u001b[0m\u001b[32m)\u001b[0m\u001b[32m:**\\n    Cho hai đường tròn \u001b[0m\u001b[32m(\u001b[0m\u001b[32mO\u001b[0m\u001b[32m)\u001b[0m\u001b[32m và \u001b[0m\u001b[32m(\u001b[0m\u001b[32mO\\'\u001b[0m\u001b[32m)\u001b[0m\u001b[32m tiếp xúc ngoài với nhau tại A và cùng tiếp xúc với một đường thẳng d tại B và C. Tiếp tuyến của \u001b[0m\u001b[32m(\u001b[0m\u001b[32mO\u001b[0m\u001b[32m)\u001b[0m\u001b[32m tại A cắt BC tại M. Khi đó:\\n    *   Đường thẳng MA cũng tiếp xúc với đường tròn \u001b[0m\u001b[32m(\u001b[0m\u001b[32mO\\'\u001b[0m\u001b[32m)\u001b[0m\u001b[32m.\\n    *   Điểm M là trung điểm của đoạn thẳng BC.\\n\\n---\\n\\nHy vọng bản tóm tắt này giúp các em nắm vững các kiến thức cơ bản về đường tròn và tiếp tuyến từ tài liệu đã học.'\u001b[0m\n",
       "\u001b[1m}\u001b[0m\n"
      ]
     },
     "metadata": {},
     "output_type": "display_data"
    },
    {
     "data": {
      "text/html": [
       "<pre style=\"white-space:pre;overflow-x:auto;line-height:normal;font-family:Menlo,'DejaVu Sans Mono',consolas,'Courier New',monospace\">\n",
       "<span style=\"color: #808000; text-decoration-color: #808000; font-weight: bold\">------- Hoàn thành bước: resource_scout -------</span>\n",
       "</pre>\n"
      ],
      "text/plain": [
       "\n",
       "\u001b[1;33m------- Hoàn thành bước: resource_scout -------\u001b[0m\n"
      ]
     },
     "metadata": {},
     "output_type": "display_data"
    },
    {
     "data": {
      "text/html": [
       "<pre style=\"white-space:pre;overflow-x:auto;line-height:normal;font-family:Menlo,'DejaVu Sans Mono',consolas,'Courier New',monospace\">\n",
       "<span style=\"color: #008080; text-decoration-color: #008080; font-weight: bold\">&gt;</span> `Agent: Plan Delegator` <span style=\"font-weight: bold\">(</span>v9.<span style=\"color: #008080; text-decoration-color: #008080; font-weight: bold\">9</span> - Nhà hoạch định Thực tế<span style=\"font-weight: bold\">)</span> đang triển khai<span style=\"color: #808000; text-decoration-color: #808000\">...</span>\n",
       "</pre>\n"
      ],
      "text/plain": [
       "\n",
       "\u001b[1;36m>\u001b[0m `Agent: Plan Delegator` \u001b[1m(\u001b[0mv9.\u001b[1;36m9\u001b[0m - Nhà hoạch định Thực tế\u001b[1m)\u001b[0m đang triển khai\u001b[33m...\u001b[0m\n"
      ]
     },
     "metadata": {},
     "output_type": "display_data"
    },
    {
     "data": {
      "text/html": [
       "<pre style=\"white-space:pre;overflow-x:auto;line-height:normal;font-family:Menlo,'DejaVu Sans Mono',consolas,'Courier New',monospace\"><span style=\"color: #008000; text-decoration-color: #008000; font-weight: bold\">✔️ Đã tạo </span><span style=\"color: #008000; text-decoration-color: #008000; font-weight: bold\">5</span><span style=\"color: #008000; text-decoration-color: #008000; font-weight: bold\"> nhiệm vụ chi tiết:</span>\n",
       "</pre>\n"
      ],
      "text/plain": [
       "\u001b[1;32m✔️ Đã tạo \u001b[0m\u001b[1;32m5\u001b[0m\u001b[1;32m nhiệm vụ chi tiết:\u001b[0m\n"
      ]
     },
     "metadata": {},
     "output_type": "display_data"
    },
    {
     "data": {
      "text/html": [
       "<pre style=\"white-space:pre;overflow-x:auto;line-height:normal;font-family:Menlo,'DejaVu Sans Mono',consolas,'Courier New',monospace\"><span style=\"font-weight: bold\">[</span>\n",
       "<span style=\"color: #7fbf7f; text-decoration-color: #7fbf7f\">│   </span><span style=\"font-weight: bold\">{</span>\n",
       "<span style=\"color: #7fbf7f; text-decoration-color: #7fbf7f\">│   │   </span><span style=\"color: #008000; text-decoration-color: #008000\">'task_id'</span>: <span style=\"color: #008080; text-decoration-color: #008080; font-weight: bold\">0</span>,\n",
       "<span style=\"color: #7fbf7f; text-decoration-color: #7fbf7f\">│   │   </span><span style=\"color: #008000; text-decoration-color: #008000\">'task_name'</span>: <span style=\"color: #008000; text-decoration-color: #008000\">'Khởi động và Khám phá ban đầu'</span>,\n",
       "<span style=\"color: #7fbf7f; text-decoration-color: #7fbf7f\">│   │   </span><span style=\"color: #008000; text-decoration-color: #008000\">'task_description'</span>: <span style=\"color: #008000; text-decoration-color: #008000\">'Giáo viên tổ chức trò chơi hoặc câu đố nhanh liên quan đến các yếu tố của đường tròn và tam giác. Sử dụng hình ảnh trực quan (ví dụ: một vật thể hình tròn bao quanh một vật thể hình tam giác, hoặc ngược lại) để giới thiệu khái niệm \"ngoại tiếp\" và \"nội tiếp\" một cách trực quan, dễ hiểu. Chia lớp thành các nhóm nhỏ (4-5 học sinh).'</span>,\n",
       "<span style=\"color: #7fbf7f; text-decoration-color: #7fbf7f\">│   │   </span><span style=\"color: #008000; text-decoration-color: #008000\">'estimated_duration'</span>: <span style=\"color: #008080; text-decoration-color: #008080; font-weight: bold\">15</span>,\n",
       "<span style=\"color: #7fbf7f; text-decoration-color: #7fbf7f\">│   │   </span><span style=\"color: #008000; text-decoration-color: #008000\">'status'</span>: <span style=\"color: #008000; text-decoration-color: #008000\">'pending'</span>\n",
       "<span style=\"color: #7fbf7f; text-decoration-color: #7fbf7f\">│   </span><span style=\"font-weight: bold\">}</span>,\n",
       "<span style=\"color: #7fbf7f; text-decoration-color: #7fbf7f\">│   </span><span style=\"font-weight: bold\">{</span>\n",
       "<span style=\"color: #7fbf7f; text-decoration-color: #7fbf7f\">│   │   </span><span style=\"color: #008000; text-decoration-color: #008000\">'task_id'</span>: <span style=\"color: #008080; text-decoration-color: #008080; font-weight: bold\">1</span>,\n",
       "<span style=\"color: #7fbf7f; text-decoration-color: #7fbf7f\">│   │   </span><span style=\"color: #008000; text-decoration-color: #008000\">'task_name'</span>: <span style=\"color: #008000; text-decoration-color: #008000\">'Xây dựng kiến thức qua hoạt động nhóm'</span>,\n",
       "<span style=\"color: #7fbf7f; text-decoration-color: #7fbf7f\">│   │   </span><span style=\"color: #008000; text-decoration-color: #008000\">'task_description'</span>: <span style=\"color: #008000; text-decoration-color: #008000\">'Mỗi nhóm nhận một phiếu học tập hoặc nhiệm vụ cụ thể (ví dụ: Nhóm A tìm hiểu về đường tròn ngoại tiếp, Nhóm B tìm hiểu về đường tròn nội tiếp). Nhiệm vụ bao gồm đọc tài liệu, vẽ hình, thảo luận để trả lời các câu hỏi gợi mở. Giáo viên di chuyển giữa các nhóm, quan sát, gợi ý và hỗ trợ khi cần thiết, đặc biệt chú ý đến các nhóm có học sinh yếu.'</span>,\n",
       "<span style=\"color: #7fbf7f; text-decoration-color: #7fbf7f\">│   │   </span><span style=\"color: #008000; text-decoration-color: #008000\">'estimated_duration'</span>: <span style=\"color: #008080; text-decoration-color: #008080; font-weight: bold\">30</span>,\n",
       "<span style=\"color: #7fbf7f; text-decoration-color: #7fbf7f\">│   │   </span><span style=\"color: #008000; text-decoration-color: #008000\">'status'</span>: <span style=\"color: #008000; text-decoration-color: #008000\">'pending'</span>\n",
       "<span style=\"color: #7fbf7f; text-decoration-color: #7fbf7f\">│   </span><span style=\"font-weight: bold\">}</span>,\n",
       "<span style=\"color: #7fbf7f; text-decoration-color: #7fbf7f\">│   </span><span style=\"font-weight: bold\">{</span>\n",
       "<span style=\"color: #7fbf7f; text-decoration-color: #7fbf7f\">│   │   </span><span style=\"color: #008000; text-decoration-color: #008000\">'task_id'</span>: <span style=\"color: #008080; text-decoration-color: #008080; font-weight: bold\">2</span>,\n",
       "<span style=\"color: #7fbf7f; text-decoration-color: #7fbf7f\">│   │   </span><span style=\"color: #008000; text-decoration-color: #008000\">'task_name'</span>: <span style=\"color: #008000; text-decoration-color: #008000\">'Trình bày, Chuẩn hóa và Củng cố kiến thức'</span>,\n",
       "<span style=\"color: #7fbf7f; text-decoration-color: #7fbf7f\">│   │   </span><span style=\"color: #008000; text-decoration-color: #008000\">'task_description'</span>: <span style=\"color: #008000; text-decoration-color: #008000\">'Đại diện các nhóm lên bảng trình bày sản phẩm của nhóm mình (có thể là sơ đồ tư duy, hình vẽ, hoặc tóm tắt các định nghĩa/tính chất). Giáo viên lắng nghe, nhận xét, bổ sung và điều chỉnh để đảm bảo kiến thức được chính xác và đầy đủ. Tổng kết các khái niệm trọng tâm, các tính chất quan trọng và cách xác định tâm/bán kính của hai loại đường tròn này.'</span>,\n",
       "<span style=\"color: #7fbf7f; text-decoration-color: #7fbf7f\">│   │   </span><span style=\"color: #008000; text-decoration-color: #008000\">'estimated_duration'</span>: <span style=\"color: #008080; text-decoration-color: #008080; font-weight: bold\">25</span>,\n",
       "<span style=\"color: #7fbf7f; text-decoration-color: #7fbf7f\">│   │   </span><span style=\"color: #008000; text-decoration-color: #008000\">'status'</span>: <span style=\"color: #008000; text-decoration-color: #008000\">'pending'</span>\n",
       "<span style=\"color: #7fbf7f; text-decoration-color: #7fbf7f\">│   </span><span style=\"font-weight: bold\">}</span>,\n",
       "<span style=\"color: #7fbf7f; text-decoration-color: #7fbf7f\">│   </span><span style=\"font-weight: bold\">{</span>\n",
       "<span style=\"color: #7fbf7f; text-decoration-color: #7fbf7f\">│   │   </span><span style=\"color: #008000; text-decoration-color: #008000\">'task_id'</span>: <span style=\"color: #008080; text-decoration-color: #008080; font-weight: bold\">3</span>,\n",
       "<span style=\"color: #7fbf7f; text-decoration-color: #7fbf7f\">│   │   </span><span style=\"color: #008000; text-decoration-color: #008000\">'task_name'</span>: <span style=\"color: #008000; text-decoration-color: #008000\">'Vận dụng và Luyện tập cá nhân/nhóm'</span>,\n",
       "<span style=\"color: #7fbf7f; text-decoration-color: #7fbf7f\">│   │   </span><span style=\"color: #008000; text-decoration-color: #008000\">'task_description'</span>: <span style=\"color: #008000; text-decoration-color: #008000\">'Giáo viên phát phiếu bài tập với các dạng bài từ nhận biết, thông hiểu đến vận dụng. Học sinh làm bài tập cá nhân. Đối với học sinh yếu, giáo viên cung cấp phiếu bài tập có gợi ý chi tiết hoặc cho phép làm việc theo cặp/nhóm nhỏ để nhận sự hỗ trợ. Học sinh khá giỏi được khuyến khích làm các bài tập nâng cao hoặc tìm nhiều cách giải khác nhau. Giáo viên quan sát, hỗ trợ và chữa bài tập mẫu.'</span>,\n",
       "<span style=\"color: #7fbf7f; text-decoration-color: #7fbf7f\">│   │   </span><span style=\"color: #008000; text-decoration-color: #008000\">'estimated_duration'</span>: <span style=\"color: #008080; text-decoration-color: #008080; font-weight: bold\">15</span>,\n",
       "<span style=\"color: #7fbf7f; text-decoration-color: #7fbf7f\">│   │   </span><span style=\"color: #008000; text-decoration-color: #008000\">'status'</span>: <span style=\"color: #008000; text-decoration-color: #008000\">'pending'</span>\n",
       "<span style=\"color: #7fbf7f; text-decoration-color: #7fbf7f\">│   </span><span style=\"font-weight: bold\">}</span>,\n",
       "<span style=\"color: #7fbf7f; text-decoration-color: #7fbf7f\">│   </span><span style=\"font-weight: bold\">{</span>\n",
       "<span style=\"color: #7fbf7f; text-decoration-color: #7fbf7f\">│   │   </span><span style=\"color: #008000; text-decoration-color: #008000\">'task_id'</span>: <span style=\"color: #008080; text-decoration-color: #008080; font-weight: bold\">4</span>,\n",
       "<span style=\"color: #7fbf7f; text-decoration-color: #7fbf7f\">│   │   </span><span style=\"color: #008000; text-decoration-color: #008000\">'task_name'</span>: <span style=\"color: #008000; text-decoration-color: #008000\">'Tổng kết và Định hướng'</span>,\n",
       "<span style=\"color: #7fbf7f; text-decoration-color: #7fbf7f\">│   │   </span><span style=\"color: #008000; text-decoration-color: #008000\">'task_description'</span>: <span style=\"color: #008000; text-decoration-color: #008000\">'Giáo viên cùng học sinh tóm tắt lại các kiến thức cốt lõi về đường tròn ngoại tiếp và nội tiếp. Tổ chức một hoạt động kiểm tra nhanh (ví dụ: \"Ai nhanh hơn\" với các câu hỏi trắc nghiệm ngắn) để đánh giá mức độ hiểu bài. Giao bài tập về nhà và gợi ý các nguồn tài liệu để học sinh tự tìm hiểu thêm hoặc chuẩn bị cho bài học tiếp theo.'</span>,\n",
       "<span style=\"color: #7fbf7f; text-decoration-color: #7fbf7f\">│   │   </span><span style=\"color: #008000; text-decoration-color: #008000\">'estimated_duration'</span>: <span style=\"color: #008080; text-decoration-color: #008080; font-weight: bold\">5</span>,\n",
       "<span style=\"color: #7fbf7f; text-decoration-color: #7fbf7f\">│   │   </span><span style=\"color: #008000; text-decoration-color: #008000\">'status'</span>: <span style=\"color: #008000; text-decoration-color: #008000\">'pending'</span>\n",
       "<span style=\"color: #7fbf7f; text-decoration-color: #7fbf7f\">│   </span><span style=\"font-weight: bold\">}</span>\n",
       "<span style=\"font-weight: bold\">]</span>\n",
       "</pre>\n"
      ],
      "text/plain": [
       "\u001b[1m[\u001b[0m\n",
       "\u001b[2;32m│   \u001b[0m\u001b[1m{\u001b[0m\n",
       "\u001b[2;32m│   │   \u001b[0m\u001b[32m'task_id'\u001b[0m: \u001b[1;36m0\u001b[0m,\n",
       "\u001b[2;32m│   │   \u001b[0m\u001b[32m'task_name'\u001b[0m: \u001b[32m'Khởi động và Khám phá ban đầu'\u001b[0m,\n",
       "\u001b[2;32m│   │   \u001b[0m\u001b[32m'task_description'\u001b[0m: \u001b[32m'Giáo viên tổ chức trò chơi hoặc câu đố nhanh liên quan đến các yếu tố của đường tròn và tam giác. Sử dụng hình ảnh trực quan \u001b[0m\u001b[32m(\u001b[0m\u001b[32mví dụ: một vật thể hình tròn bao quanh một vật thể hình tam giác, hoặc ngược lại\u001b[0m\u001b[32m)\u001b[0m\u001b[32m để giới thiệu khái niệm \"ngoại tiếp\" và \"nội tiếp\" một cách trực quan, dễ hiểu. Chia lớp thành các nhóm nhỏ \u001b[0m\u001b[32m(\u001b[0m\u001b[32m4-5 học sinh\u001b[0m\u001b[32m)\u001b[0m\u001b[32m.'\u001b[0m,\n",
       "\u001b[2;32m│   │   \u001b[0m\u001b[32m'estimated_duration'\u001b[0m: \u001b[1;36m15\u001b[0m,\n",
       "\u001b[2;32m│   │   \u001b[0m\u001b[32m'status'\u001b[0m: \u001b[32m'pending'\u001b[0m\n",
       "\u001b[2;32m│   \u001b[0m\u001b[1m}\u001b[0m,\n",
       "\u001b[2;32m│   \u001b[0m\u001b[1m{\u001b[0m\n",
       "\u001b[2;32m│   │   \u001b[0m\u001b[32m'task_id'\u001b[0m: \u001b[1;36m1\u001b[0m,\n",
       "\u001b[2;32m│   │   \u001b[0m\u001b[32m'task_name'\u001b[0m: \u001b[32m'Xây dựng kiến thức qua hoạt động nhóm'\u001b[0m,\n",
       "\u001b[2;32m│   │   \u001b[0m\u001b[32m'task_description'\u001b[0m: \u001b[32m'Mỗi nhóm nhận một phiếu học tập hoặc nhiệm vụ cụ thể \u001b[0m\u001b[32m(\u001b[0m\u001b[32mví dụ: Nhóm A tìm hiểu về đường tròn ngoại tiếp, Nhóm B tìm hiểu về đường tròn nội tiếp\u001b[0m\u001b[32m)\u001b[0m\u001b[32m. Nhiệm vụ bao gồm đọc tài liệu, vẽ hình, thảo luận để trả lời các câu hỏi gợi mở. Giáo viên di chuyển giữa các nhóm, quan sát, gợi ý và hỗ trợ khi cần thiết, đặc biệt chú ý đến các nhóm có học sinh yếu.'\u001b[0m,\n",
       "\u001b[2;32m│   │   \u001b[0m\u001b[32m'estimated_duration'\u001b[0m: \u001b[1;36m30\u001b[0m,\n",
       "\u001b[2;32m│   │   \u001b[0m\u001b[32m'status'\u001b[0m: \u001b[32m'pending'\u001b[0m\n",
       "\u001b[2;32m│   \u001b[0m\u001b[1m}\u001b[0m,\n",
       "\u001b[2;32m│   \u001b[0m\u001b[1m{\u001b[0m\n",
       "\u001b[2;32m│   │   \u001b[0m\u001b[32m'task_id'\u001b[0m: \u001b[1;36m2\u001b[0m,\n",
       "\u001b[2;32m│   │   \u001b[0m\u001b[32m'task_name'\u001b[0m: \u001b[32m'Trình bày, Chuẩn hóa và Củng cố kiến thức'\u001b[0m,\n",
       "\u001b[2;32m│   │   \u001b[0m\u001b[32m'task_description'\u001b[0m: \u001b[32m'Đại diện các nhóm lên bảng trình bày sản phẩm của nhóm mình \u001b[0m\u001b[32m(\u001b[0m\u001b[32mcó thể là sơ đồ tư duy, hình vẽ, hoặc tóm tắt các định nghĩa/tính chất\u001b[0m\u001b[32m)\u001b[0m\u001b[32m. Giáo viên lắng nghe, nhận xét, bổ sung và điều chỉnh để đảm bảo kiến thức được chính xác và đầy đủ. Tổng kết các khái niệm trọng tâm, các tính chất quan trọng và cách xác định tâm/bán kính của hai loại đường tròn này.'\u001b[0m,\n",
       "\u001b[2;32m│   │   \u001b[0m\u001b[32m'estimated_duration'\u001b[0m: \u001b[1;36m25\u001b[0m,\n",
       "\u001b[2;32m│   │   \u001b[0m\u001b[32m'status'\u001b[0m: \u001b[32m'pending'\u001b[0m\n",
       "\u001b[2;32m│   \u001b[0m\u001b[1m}\u001b[0m,\n",
       "\u001b[2;32m│   \u001b[0m\u001b[1m{\u001b[0m\n",
       "\u001b[2;32m│   │   \u001b[0m\u001b[32m'task_id'\u001b[0m: \u001b[1;36m3\u001b[0m,\n",
       "\u001b[2;32m│   │   \u001b[0m\u001b[32m'task_name'\u001b[0m: \u001b[32m'Vận dụng và Luyện tập cá nhân/nhóm'\u001b[0m,\n",
       "\u001b[2;32m│   │   \u001b[0m\u001b[32m'task_description'\u001b[0m: \u001b[32m'Giáo viên phát phiếu bài tập với các dạng bài từ nhận biết, thông hiểu đến vận dụng. Học sinh làm bài tập cá nhân. Đối với học sinh yếu, giáo viên cung cấp phiếu bài tập có gợi ý chi tiết hoặc cho phép làm việc theo cặp/nhóm nhỏ để nhận sự hỗ trợ. Học sinh khá giỏi được khuyến khích làm các bài tập nâng cao hoặc tìm nhiều cách giải khác nhau. Giáo viên quan sát, hỗ trợ và chữa bài tập mẫu.'\u001b[0m,\n",
       "\u001b[2;32m│   │   \u001b[0m\u001b[32m'estimated_duration'\u001b[0m: \u001b[1;36m15\u001b[0m,\n",
       "\u001b[2;32m│   │   \u001b[0m\u001b[32m'status'\u001b[0m: \u001b[32m'pending'\u001b[0m\n",
       "\u001b[2;32m│   \u001b[0m\u001b[1m}\u001b[0m,\n",
       "\u001b[2;32m│   \u001b[0m\u001b[1m{\u001b[0m\n",
       "\u001b[2;32m│   │   \u001b[0m\u001b[32m'task_id'\u001b[0m: \u001b[1;36m4\u001b[0m,\n",
       "\u001b[2;32m│   │   \u001b[0m\u001b[32m'task_name'\u001b[0m: \u001b[32m'Tổng kết và Định hướng'\u001b[0m,\n",
       "\u001b[2;32m│   │   \u001b[0m\u001b[32m'task_description'\u001b[0m: \u001b[32m'Giáo viên cùng học sinh tóm tắt lại các kiến thức cốt lõi về đường tròn ngoại tiếp và nội tiếp. Tổ chức một hoạt động kiểm tra nhanh \u001b[0m\u001b[32m(\u001b[0m\u001b[32mví dụ: \"Ai nhanh hơn\" với các câu hỏi trắc nghiệm ngắn\u001b[0m\u001b[32m)\u001b[0m\u001b[32m để đánh giá mức độ hiểu bài. Giao bài tập về nhà và gợi ý các nguồn tài liệu để học sinh tự tìm hiểu thêm hoặc chuẩn bị cho bài học tiếp theo.'\u001b[0m,\n",
       "\u001b[2;32m│   │   \u001b[0m\u001b[32m'estimated_duration'\u001b[0m: \u001b[1;36m5\u001b[0m,\n",
       "\u001b[2;32m│   │   \u001b[0m\u001b[32m'status'\u001b[0m: \u001b[32m'pending'\u001b[0m\n",
       "\u001b[2;32m│   \u001b[0m\u001b[1m}\u001b[0m\n",
       "\u001b[1m]\u001b[0m\n"
      ]
     },
     "metadata": {},
     "output_type": "display_data"
    },
    {
     "data": {
      "text/html": [
       "<pre style=\"white-space:pre;overflow-x:auto;line-height:normal;font-family:Menlo,'DejaVu Sans Mono',consolas,'Courier New',monospace\">\n",
       "<span style=\"color: #808000; text-decoration-color: #808000; font-weight: bold\">------- Hoàn thành bước: plan_delegator -------</span>\n",
       "</pre>\n"
      ],
      "text/plain": [
       "\n",
       "\u001b[1;33m------- Hoàn thành bước: plan_delegator -------\u001b[0m\n"
      ]
     },
     "metadata": {},
     "output_type": "display_data"
    },
    {
     "data": {
      "text/html": [
       "<pre style=\"white-space:pre;overflow-x:auto;line-height:normal;font-family:Menlo,'DejaVu Sans Mono',consolas,'Courier New',monospace\">\n",
       "<span style=\"color: #008080; text-decoration-color: #008080; font-weight: bold\">&gt;</span> `Router`: Đang kiểm tra nhiệm vụ<span style=\"color: #808000; text-decoration-color: #808000\">...</span>\n",
       "</pre>\n"
      ],
      "text/plain": [
       "\n",
       "\u001b[1;36m>\u001b[0m `Router`: Đang kiểm tra nhiệm vụ\u001b[33m...\u001b[0m\n"
      ]
     },
     "metadata": {},
     "output_type": "display_data"
    },
    {
     "data": {
      "text/html": [
       "<pre style=\"white-space:pre;overflow-x:auto;line-height:normal;font-family:Menlo,'DejaVu Sans Mono',consolas,'Courier New',monospace\">\n",
       "<span style=\"color: #008080; text-decoration-color: #008080; font-weight: bold\">&gt;</span> Nhiệm vụ tiếp theo: <span style=\"color: #008000; text-decoration-color: #008000\">'Khởi động và Khám phá ban đầu'</span> <span style=\"font-weight: bold\">(</span>ID: <span style=\"color: #008080; text-decoration-color: #008080; font-weight: bold\">0</span><span style=\"font-weight: bold\">)</span>\n",
       "</pre>\n"
      ],
      "text/plain": [
       "\n",
       "\u001b[1;36m>\u001b[0m Nhiệm vụ tiếp theo: \u001b[32m'Khởi động và Khám phá ban đầu'\u001b[0m \u001b[1m(\u001b[0mID: \u001b[1;36m0\u001b[0m\u001b[1m)\u001b[0m\n"
      ]
     },
     "metadata": {},
     "output_type": "display_data"
    },
    {
     "data": {
      "text/html": [
       "<pre style=\"white-space:pre;overflow-x:auto;line-height:normal;font-family:Menlo,'DejaVu Sans Mono',consolas,'Courier New',monospace\">\n",
       "<span style=\"color: #808000; text-decoration-color: #808000; font-weight: bold\">------- Hoàn thành bước: task_router -------</span>\n",
       "</pre>\n"
      ],
      "text/plain": [
       "\n",
       "\u001b[1;33m------- Hoàn thành bước: task_router -------\u001b[0m\n"
      ]
     },
     "metadata": {},
     "output_type": "display_data"
    },
    {
     "data": {
      "text/html": [
       "<pre style=\"white-space:pre;overflow-x:auto;line-height:normal;font-family:Menlo,'DejaVu Sans Mono',consolas,'Courier New',monospace\">\n",
       "<span style=\"color: #008080; text-decoration-color: #008080; font-weight: bold\">&gt;</span> `Agent: Task Dispatcher` đang giao việc<span style=\"color: #808000; text-decoration-color: #808000\">...</span>\n",
       "</pre>\n"
      ],
      "text/plain": [
       "\n",
       "\u001b[1;36m>\u001b[0m `Agent: Task Dispatcher` đang giao việc\u001b[33m...\u001b[0m\n"
      ]
     },
     "metadata": {},
     "output_type": "display_data"
    },
    {
     "data": {
      "text/html": [
       "<pre style=\"white-space:pre;overflow-x:auto;line-height:normal;font-family:Menlo,'DejaVu Sans Mono',consolas,'Courier New',monospace\">\n",
       "<span style=\"color: #008080; text-decoration-color: #008080; font-weight: bold\">&gt;</span> --- 🚚 `Dispatcher`: Giao nhiệm vụ cho `activity_designer`.\n",
       "</pre>\n"
      ],
      "text/plain": [
       "\n",
       "\u001b[1;36m>\u001b[0m --- 🚚 `Dispatcher`: Giao nhiệm vụ cho `activity_designer`.\n"
      ]
     },
     "metadata": {},
     "output_type": "display_data"
    },
    {
     "data": {
      "text/html": [
       "<pre style=\"white-space:pre;overflow-x:auto;line-height:normal;font-family:Menlo,'DejaVu Sans Mono',consolas,'Courier New',monospace\">\n",
       "<span style=\"color: #808000; text-decoration-color: #808000; font-weight: bold\">------- Hoàn thành bước: task_dispatcher -------</span>\n",
       "</pre>\n"
      ],
      "text/plain": [
       "\n",
       "\u001b[1;33m------- Hoàn thành bước: task_dispatcher -------\u001b[0m\n"
      ]
     },
     "metadata": {},
     "output_type": "display_data"
    },
    {
     "data": {
      "text/html": [
       "<pre style=\"white-space:pre;overflow-x:auto;line-height:normal;font-family:Menlo,'DejaVu Sans Mono',consolas,'Courier New',monospace\">\n",
       "<span style=\"color: #008080; text-decoration-color: #008080; font-weight: bold\">&gt;</span> `Agent: Activity Designer` <span style=\"font-weight: bold\">(</span>v9.<span style=\"color: #008080; text-decoration-color: #008080; font-weight: bold\">7</span><span style=\"font-weight: bold\">)</span> đang tạo nội dung linh hoạt <span style=\"font-weight: bold\">(</span>Lõi + Mở rộng<span style=\"font-weight: bold\">)</span><span style=\"color: #808000; text-decoration-color: #808000\">...</span>\n",
       "</pre>\n"
      ],
      "text/plain": [
       "\n",
       "\u001b[1;36m>\u001b[0m `Agent: Activity Designer` \u001b[1m(\u001b[0mv9.\u001b[1;36m7\u001b[0m\u001b[1m)\u001b[0m đang tạo nội dung linh hoạt \u001b[1m(\u001b[0mLõi + Mở rộng\u001b[1m)\u001b[0m\u001b[33m...\u001b[0m\n"
      ]
     },
     "metadata": {},
     "output_type": "display_data"
    },
    {
     "data": {
      "text/html": [
       "<pre style=\"white-space:pre;overflow-x:auto;line-height:normal;font-family:Menlo,'DejaVu Sans Mono',consolas,'Courier New',monospace\"><span style=\"color: #008000; text-decoration-color: #008000; font-weight: bold\">✔️ Nội dung do Activity Designer tạo ra (Linh hoạt):</span>\n",
       "</pre>\n"
      ],
      "text/plain": [
       "\u001b[1;32m✔️ Nội dung do Activity Designer tạo ra \u001b[0m\u001b[1;32m(\u001b[0m\u001b[1;32mLinh hoạt\u001b[0m\u001b[1;32m)\u001b[0m\u001b[1;32m:\u001b[0m\n"
      ]
     },
     "metadata": {},
     "output_type": "display_data"
    },
    {
     "data": {
      "text/html": [
       "<pre style=\"white-space:pre;overflow-x:auto;line-height:normal;font-family:Menlo,'DejaVu Sans Mono',consolas,'Courier New',monospace\"><span style=\"font-weight: bold\">{</span>\n",
       "<span style=\"color: #7fbf7f; text-decoration-color: #7fbf7f\">│   </span><span style=\"color: #008000; text-decoration-color: #008000\">'activity_name'</span>: <span style=\"color: #008000; text-decoration-color: #008000\">'Khởi động và Khám phá ban đầu'</span>,\n",
       "<span style=\"color: #7fbf7f; text-decoration-color: #7fbf7f\">│   </span><span style=\"color: #008000; text-decoration-color: #008000\">'activity_type'</span>: <span style=\"color: #008000; text-decoration-color: #008000\">'Trò chơi, Quan sát và Thảo luận nhóm'</span>,\n",
       "<span style=\"color: #7fbf7f; text-decoration-color: #7fbf7f\">│   </span><span style=\"color: #008000; text-decoration-color: #008000\">'duration_minutes'</span>: <span style=\"color: #008080; text-decoration-color: #008080; font-weight: bold\">15</span>,\n",
       "<span style=\"color: #7fbf7f; text-decoration-color: #7fbf7f\">│   </span><span style=\"color: #008000; text-decoration-color: #008000\">'teacher_actions'</span>: <span style=\"font-weight: bold\">[</span>\n",
       "<span style=\"color: #7fbf7f; text-decoration-color: #7fbf7f\">│   │   </span><span style=\"color: #008000; text-decoration-color: #008000\">'Chuẩn bị các hình ảnh/vật thể trực quan (ví dụ: đĩa tròn đặt trên tam giác, hoặc tam giác vẽ trong đường tròn).'</span>,\n",
       "<span style=\"color: #7fbf7f; text-decoration-color: #7fbf7f\">│   │   </span><span style=\"color: #008000; text-decoration-color: #008000\">'Tổ chức trò chơi \"Ai nhanh hơn?\" với các câu hỏi nhanh về định nghĩa đường tròn, tam giác, các yếu tố cơ bản (tâm, bán kính, cạnh, góc).'</span>,\n",
       "<span style=\"color: #7fbf7f; text-decoration-color: #7fbf7f\">│   │   </span><span style=\"color: #008000; text-decoration-color: #008000\">'Chiếu/trình bày các hình ảnh trực quan và đặt câu hỏi gợi mở: \"Các em thấy mối quan hệ giữa hình tròn và hình tam giác trong các hình này là gì?\"'</span>,\n",
       "<span style=\"color: #7fbf7f; text-decoration-color: #7fbf7f\">│   │   </span><span style=\"color: #008000; text-decoration-color: #008000\">'Chia lớp thành các nhóm nhỏ (4-5 học sinh) và hướng dẫn thảo luận.'</span>,\n",
       "<span style=\"color: #7fbf7f; text-decoration-color: #7fbf7f\">│   │   </span><span style=\"color: #008000; text-decoration-color: #008000\">'Lắng nghe, quan sát các nhóm thảo luận, gợi ý khi cần thiết.'</span>,\n",
       "<span style=\"color: #7fbf7f; text-decoration-color: #7fbf7f\">│   │   </span><span style=\"color: #008000; text-decoration-color: #008000\">'Tổng hợp ý kiến các nhóm và chính thức giới thiệu khái niệm \"đường tròn ngoại tiếp\" và \"đường tròn nội tiếp\" dựa trên các ví dụ đã quan sát.'</span>\n",
       "<span style=\"color: #7fbf7f; text-decoration-color: #7fbf7f\">│   </span><span style=\"font-weight: bold\">]</span>,\n",
       "<span style=\"color: #7fbf7f; text-decoration-color: #7fbf7f\">│   </span><span style=\"color: #008000; text-decoration-color: #008000\">'core_component'</span>: <span style=\"color: #008000; text-decoration-color: #008000\">'Phần 1: Khởi động nhanh (5 phút) Học sinh tham gia trò chơi \"Ai nhanh hơn?\" trả lời các câu hỏi trắc nghiệm hoặc điền từ về các khái niệm cơ bản của đường tròn và tam giác (ví dụ: \\'Tâm của đường tròn là...\\', \\'Tam giác có 3 cạnh và 3...\\'). Phần 2: Khám phá trực quan (8 phút) Giáo viên trình chiếu các hình ảnh/vật thể thực tế (ví dụ: một chiếc bánh pizza hình tròn đặt vừa vặn trong hộp hình tam giác, hoặc một chiếc nhẫn tròn đeo vừa ngón tay hình tam giác). Các nhóm thảo luận và trả lời các câu hỏi: 1. Mô tả mối quan hệ vị trí giữa hình tròn và hình tam giác trong mỗi hình ảnh. 2. Theo các em, khi nào thì một hình tròn được gọi là \\'bao quanh\\' một tam giác, và khi nào thì một tam giác được gọi là \\'nằm trong\\' một hình tròn? 3. Hãy thử dùng từ ngữ của riêng mình để diễn tả hai mối quan hệ này. Giáo viên tổng hợp ý kiến và giới thiệu chính thức thuật ngữ \\'đường tròn ngoại tiếp\\' và \\'đường tròn nội tiếp\\'.'</span>,\n",
       "<span style=\"color: #7fbf7f; text-decoration-color: #7fbf7f\">│   </span><span style=\"color: #008000; text-decoration-color: #008000\">'extension_component'</span>: <span style=\"color: #008000; text-decoration-color: #008000\">\"Nếu còn thời gian, các nhóm suy nghĩ: 'Ngoài các hình ảnh đã xem, các em có thể nghĩ ra ví dụ nào khác trong đời sống thực tế thể hiện mối quan hệ ngoại tiếp hoặc nội tiếp không?'\"</span>,\n",
       "<span style=\"color: #7fbf7f; text-decoration-color: #7fbf7f\">│   </span><span style=\"color: #008000; text-decoration-color: #008000\">'solution_guide'</span>: <span style=\"color: #008000; text-decoration-color: #008000\">\"Các câu hỏi gợi mở cho giáo viên khi tổng kết: 'Đường tròn ngoại tiếp' là đường tròn đi qua những điểm nào của tam giác? 'Đường tròn nội tiếp' là đường tròn tiếp xúc với những yếu tố nào của tam giác? Làm thế nào để xác định tâm của đường tròn ngoại tiếp/nội tiếp một tam giác?\"</span>,\n",
       "<span style=\"color: #7fbf7f; text-decoration-color: #7fbf7f\">│   </span><span style=\"color: #008000; text-decoration-color: #008000\">'differentiation'</span>: <span style=\"font-weight: bold\">{</span>\n",
       "<span style=\"color: #7fbf7f; text-decoration-color: #7fbf7f\">│   │   </span><span style=\"color: #008000; text-decoration-color: #008000\">'for_struggling_students'</span>: <span style=\"color: #008000; text-decoration-color: #008000\">\"Trong trò chơi khởi động, giáo viên có thể đặt các câu hỏi dễ hơn, có nhiều gợi ý. Khi quan sát hình ảnh, giáo viên có thể chỉ rõ từng chi tiết và đặt câu hỏi cụ thể hơn: 'Hình tròn này chạm vào những điểm nào của tam giác?', 'Hình tam giác này nằm hoàn toàn bên trong hay bên ngoài hình tròn?'. Khuyến khích các em vẽ lại các hình đơn giản.\"</span>,\n",
       "<span style=\"color: #7fbf7f; text-decoration-color: #7fbf7f\">│   │   </span><span style=\"color: #008000; text-decoration-color: #008000\">'for_advanced_students'</span>: <span style=\"color: #008000; text-decoration-color: #008000\">\"Khuyến khích các em tự đưa ra định nghĩa ban đầu cho 'ngoại tiếp' và 'nội tiếp' trước khi giáo viên giới thiệu. Yêu cầu các em suy nghĩ về các tính chất đặc biệt của tâm đường tròn ngoại tiếp/nội tiếp mà các em đã biết (ví dụ: tâm đường tròn ngoại tiếp là giao điểm của các đường trung trực). Thử thách các em tìm thêm các ví dụ phức tạp hơn trong thực tế.\"</span>\n",
       "<span style=\"color: #7fbf7f; text-decoration-color: #7fbf7f\">│   </span><span style=\"font-weight: bold\">}</span>,\n",
       "<span style=\"color: #7fbf7f; text-decoration-color: #7fbf7f\">│   </span><span style=\"color: #008000; text-decoration-color: #008000\">'question_or_description'</span>: <span style=\"color: #008000; text-decoration-color: #008000\">'**Phần Cốt lõi:**\\nPhần 1: Khởi động nhanh (5 phút) Học sinh tham gia trò chơi \"Ai nhanh hơn?\" trả lời các câu hỏi trắc nghiệm hoặc điền từ về các khái niệm cơ bản của đường tròn và tam giác (ví dụ: \\'Tâm của đường tròn là...\\', \\'Tam giác có 3 cạnh và 3...\\'). Phần 2: Khám phá trực quan (8 phút) Giáo viên trình chiếu các hình ảnh/vật thể thực tế (ví dụ: một chiếc bánh pizza hình tròn đặt vừa vặn trong hộp hình tam giác, hoặc một chiếc nhẫn tròn đeo vừa ngón tay hình tam giác). Các nhóm thảo luận và trả lời các câu hỏi: 1. Mô tả mối quan hệ vị trí giữa hình tròn và hình tam giác trong mỗi hình ảnh. 2. Theo các em, khi nào thì một hình tròn được gọi là \\'bao quanh\\' một tam giác, và khi nào thì một tam giác được gọi là \\'nằm trong\\' một hình tròn? 3. Hãy thử dùng từ ngữ của riêng mình để diễn tả hai mối quan hệ này. Giáo viên tổng hợp ý kiến và giới thiệu chính thức thuật ngữ \\'đường tròn ngoại tiếp\\' và \\'đường tròn nội tiếp\\'.\\n\\n**Phần Mở rộng (nếu còn thời gian):**\\nNếu còn thời gian, các nhóm suy nghĩ: \\'Ngoài các hình ảnh đã xem, các em có thể nghĩ ra ví dụ nào khác trong đời sống thực tế thể hiện mối quan hệ ngoại tiếp hoặc nội tiếp không?\\''</span>\n",
       "<span style=\"font-weight: bold\">}</span>\n",
       "</pre>\n"
      ],
      "text/plain": [
       "\u001b[1m{\u001b[0m\n",
       "\u001b[2;32m│   \u001b[0m\u001b[32m'activity_name'\u001b[0m: \u001b[32m'Khởi động và Khám phá ban đầu'\u001b[0m,\n",
       "\u001b[2;32m│   \u001b[0m\u001b[32m'activity_type'\u001b[0m: \u001b[32m'Trò chơi, Quan sát và Thảo luận nhóm'\u001b[0m,\n",
       "\u001b[2;32m│   \u001b[0m\u001b[32m'duration_minutes'\u001b[0m: \u001b[1;36m15\u001b[0m,\n",
       "\u001b[2;32m│   \u001b[0m\u001b[32m'teacher_actions'\u001b[0m: \u001b[1m[\u001b[0m\n",
       "\u001b[2;32m│   │   \u001b[0m\u001b[32m'Chuẩn bị các hình ảnh/vật thể trực quan \u001b[0m\u001b[32m(\u001b[0m\u001b[32mví dụ: đĩa tròn đặt trên tam giác, hoặc tam giác vẽ trong đường tròn\u001b[0m\u001b[32m)\u001b[0m\u001b[32m.'\u001b[0m,\n",
       "\u001b[2;32m│   │   \u001b[0m\u001b[32m'Tổ chức trò chơi \"Ai nhanh hơn?\" với các câu hỏi nhanh về định nghĩa đường tròn, tam giác, các yếu tố cơ bản \u001b[0m\u001b[32m(\u001b[0m\u001b[32mtâm, bán kính, cạnh, góc\u001b[0m\u001b[32m)\u001b[0m\u001b[32m.'\u001b[0m,\n",
       "\u001b[2;32m│   │   \u001b[0m\u001b[32m'Chiếu/trình bày các hình ảnh trực quan và đặt câu hỏi gợi mở: \"Các em thấy mối quan hệ giữa hình tròn và hình tam giác trong các hình này là gì?\"'\u001b[0m,\n",
       "\u001b[2;32m│   │   \u001b[0m\u001b[32m'Chia lớp thành các nhóm nhỏ \u001b[0m\u001b[32m(\u001b[0m\u001b[32m4-5 học sinh\u001b[0m\u001b[32m)\u001b[0m\u001b[32m và hướng dẫn thảo luận.'\u001b[0m,\n",
       "\u001b[2;32m│   │   \u001b[0m\u001b[32m'Lắng nghe, quan sát các nhóm thảo luận, gợi ý khi cần thiết.'\u001b[0m,\n",
       "\u001b[2;32m│   │   \u001b[0m\u001b[32m'Tổng hợp ý kiến các nhóm và chính thức giới thiệu khái niệm \"đường tròn ngoại tiếp\" và \"đường tròn nội tiếp\" dựa trên các ví dụ đã quan sát.'\u001b[0m\n",
       "\u001b[2;32m│   \u001b[0m\u001b[1m]\u001b[0m,\n",
       "\u001b[2;32m│   \u001b[0m\u001b[32m'core_component'\u001b[0m: \u001b[32m'Phần 1: Khởi động nhanh \u001b[0m\u001b[32m(\u001b[0m\u001b[32m5 phút\u001b[0m\u001b[32m)\u001b[0m\u001b[32m Học sinh tham gia trò chơi \"Ai nhanh hơn?\" trả lời các câu hỏi trắc nghiệm hoặc điền từ về các khái niệm cơ bản của đường tròn và tam giác \u001b[0m\u001b[32m(\u001b[0m\u001b[32mví dụ: \\'Tâm của đường tròn là...\\', \\'Tam giác có 3 cạnh và 3...\\'\u001b[0m\u001b[32m)\u001b[0m\u001b[32m. Phần 2: Khám phá trực quan \u001b[0m\u001b[32m(\u001b[0m\u001b[32m8 phút\u001b[0m\u001b[32m)\u001b[0m\u001b[32m Giáo viên trình chiếu các hình ảnh/vật thể thực tế \u001b[0m\u001b[32m(\u001b[0m\u001b[32mví dụ: một chiếc bánh pizza hình tròn đặt vừa vặn trong hộp hình tam giác, hoặc một chiếc nhẫn tròn đeo vừa ngón tay hình tam giác\u001b[0m\u001b[32m)\u001b[0m\u001b[32m. Các nhóm thảo luận và trả lời các câu hỏi: 1. Mô tả mối quan hệ vị trí giữa hình tròn và hình tam giác trong mỗi hình ảnh. 2. Theo các em, khi nào thì một hình tròn được gọi là \\'bao quanh\\' một tam giác, và khi nào thì một tam giác được gọi là \\'nằm trong\\' một hình tròn? 3. Hãy thử dùng từ ngữ của riêng mình để diễn tả hai mối quan hệ này. Giáo viên tổng hợp ý kiến và giới thiệu chính thức thuật ngữ \\'đường tròn ngoại tiếp\\' và \\'đường tròn nội tiếp\\'.'\u001b[0m,\n",
       "\u001b[2;32m│   \u001b[0m\u001b[32m'extension_component'\u001b[0m: \u001b[32m\"Nếu còn thời gian, các nhóm suy nghĩ: 'Ngoài các hình ảnh đã xem, các em có thể nghĩ ra ví dụ nào khác trong đời sống thực tế thể hiện mối quan hệ ngoại tiếp hoặc nội tiếp không?'\"\u001b[0m,\n",
       "\u001b[2;32m│   \u001b[0m\u001b[32m'solution_guide'\u001b[0m: \u001b[32m\"Các câu hỏi gợi mở cho giáo viên khi tổng kết: 'Đường tròn ngoại tiếp' là đường tròn đi qua những điểm nào của tam giác? 'Đường tròn nội tiếp' là đường tròn tiếp xúc với những yếu tố nào của tam giác? Làm thế nào để xác định tâm của đường tròn ngoại tiếp/nội tiếp một tam giác?\"\u001b[0m,\n",
       "\u001b[2;32m│   \u001b[0m\u001b[32m'differentiation'\u001b[0m: \u001b[1m{\u001b[0m\n",
       "\u001b[2;32m│   │   \u001b[0m\u001b[32m'for_struggling_students'\u001b[0m: \u001b[32m\"Trong trò chơi khởi động, giáo viên có thể đặt các câu hỏi dễ hơn, có nhiều gợi ý. Khi quan sát hình ảnh, giáo viên có thể chỉ rõ từng chi tiết và đặt câu hỏi cụ thể hơn: 'Hình tròn này chạm vào những điểm nào của tam giác?', 'Hình tam giác này nằm hoàn toàn bên trong hay bên ngoài hình tròn?'. Khuyến khích các em vẽ lại các hình đơn giản.\"\u001b[0m,\n",
       "\u001b[2;32m│   │   \u001b[0m\u001b[32m'for_advanced_students'\u001b[0m: \u001b[32m\"Khuyến khích các em tự đưa ra định nghĩa ban đầu cho 'ngoại tiếp' và 'nội tiếp' trước khi giáo viên giới thiệu. Yêu cầu các em suy nghĩ về các tính chất đặc biệt của tâm đường tròn ngoại tiếp/nội tiếp mà các em đã biết \u001b[0m\u001b[32m(\u001b[0m\u001b[32mví dụ: tâm đường tròn ngoại tiếp là giao điểm của các đường trung trực\u001b[0m\u001b[32m)\u001b[0m\u001b[32m. Thử thách các em tìm thêm các ví dụ phức tạp hơn trong thực tế.\"\u001b[0m\n",
       "\u001b[2;32m│   \u001b[0m\u001b[1m}\u001b[0m,\n",
       "\u001b[2;32m│   \u001b[0m\u001b[32m'question_or_description'\u001b[0m: \u001b[32m'**Phần Cốt lõi:**\\nPhần 1: Khởi động nhanh \u001b[0m\u001b[32m(\u001b[0m\u001b[32m5 phút\u001b[0m\u001b[32m)\u001b[0m\u001b[32m Học sinh tham gia trò chơi \"Ai nhanh hơn?\" trả lời các câu hỏi trắc nghiệm hoặc điền từ về các khái niệm cơ bản của đường tròn và tam giác \u001b[0m\u001b[32m(\u001b[0m\u001b[32mví dụ: \\'Tâm của đường tròn là...\\', \\'Tam giác có 3 cạnh và 3...\\'\u001b[0m\u001b[32m)\u001b[0m\u001b[32m. Phần 2: Khám phá trực quan \u001b[0m\u001b[32m(\u001b[0m\u001b[32m8 phút\u001b[0m\u001b[32m)\u001b[0m\u001b[32m Giáo viên trình chiếu các hình ảnh/vật thể thực tế \u001b[0m\u001b[32m(\u001b[0m\u001b[32mví dụ: một chiếc bánh pizza hình tròn đặt vừa vặn trong hộp hình tam giác, hoặc một chiếc nhẫn tròn đeo vừa ngón tay hình tam giác\u001b[0m\u001b[32m)\u001b[0m\u001b[32m. Các nhóm thảo luận và trả lời các câu hỏi: 1. Mô tả mối quan hệ vị trí giữa hình tròn và hình tam giác trong mỗi hình ảnh. 2. Theo các em, khi nào thì một hình tròn được gọi là \\'bao quanh\\' một tam giác, và khi nào thì một tam giác được gọi là \\'nằm trong\\' một hình tròn? 3. Hãy thử dùng từ ngữ của riêng mình để diễn tả hai mối quan hệ này. Giáo viên tổng hợp ý kiến và giới thiệu chính thức thuật ngữ \\'đường tròn ngoại tiếp\\' và \\'đường tròn nội tiếp\\'.\\n\\n**Phần Mở rộng \u001b[0m\u001b[32m(\u001b[0m\u001b[32mnếu còn thời gian\u001b[0m\u001b[32m)\u001b[0m\u001b[32m:**\\nNếu còn thời gian, các nhóm suy nghĩ: \\'Ngoài các hình ảnh đã xem, các em có thể nghĩ ra ví dụ nào khác trong đời sống thực tế thể hiện mối quan hệ ngoại tiếp hoặc nội tiếp không?\\''\u001b[0m\n",
       "\u001b[1m}\u001b[0m\n"
      ]
     },
     "metadata": {},
     "output_type": "display_data"
    },
    {
     "data": {
      "text/html": [
       "<pre style=\"white-space:pre;overflow-x:auto;line-height:normal;font-family:Menlo,'DejaVu Sans Mono',consolas,'Courier New',monospace\">\n",
       "<span style=\"color: #808000; text-decoration-color: #808000; font-weight: bold\">------- Hoàn thành bước: activity_designer -------</span>\n",
       "</pre>\n"
      ],
      "text/plain": [
       "\n",
       "\u001b[1;33m------- Hoàn thành bước: activity_designer -------\u001b[0m\n"
      ]
     },
     "metadata": {},
     "output_type": "display_data"
    },
    {
     "data": {
      "text/html": [
       "<pre style=\"white-space:pre;overflow-x:auto;line-height:normal;font-family:Menlo,'DejaVu Sans Mono',consolas,'Courier New',monospace\">\n",
       "<span style=\"color: #008080; text-decoration-color: #008080; font-weight: bold\">&gt;</span> `Agent: Time-Budget Advisor` <span style=\"font-weight: bold\">(</span>v9.<span style=\"color: #008080; text-decoration-color: #008080; font-weight: bold\">7</span><span style=\"font-weight: bold\">)</span> đang phản biện nội dung và ngân sách thời gian<span style=\"color: #808000; text-decoration-color: #808000\">...</span>\n",
       "</pre>\n"
      ],
      "text/plain": [
       "\n",
       "\u001b[1;36m>\u001b[0m `Agent: Time-Budget Advisor` \u001b[1m(\u001b[0mv9.\u001b[1;36m7\u001b[0m\u001b[1m)\u001b[0m đang phản biện nội dung và ngân sách thời gian\u001b[33m...\u001b[0m\n"
      ]
     },
     "metadata": {},
     "output_type": "display_data"
    },
    {
     "data": {
      "text/html": [
       "<pre style=\"white-space:pre;overflow-x:auto;line-height:normal;font-family:Menlo,'DejaVu Sans Mono',consolas,'Courier New',monospace\"><span style=\"color: #808000; text-decoration-color: #808000; font-weight: bold\">⚠️  CỐ VẤN PHẢN BIỆN: [STRUCTURAL_FEEDBACK] Thời gian phân bổ cho phần Khám phá trực quan (</span><span style=\"color: #808000; text-decoration-color: #808000; font-weight: bold\">8</span><span style=\"color: #808000; text-decoration-color: #808000; font-weight: bold\"> phút) có thể hơi gấp </span>\n",
       "<span style=\"color: #808000; text-decoration-color: #808000; font-weight: bold\">gáp để học sinh có đủ thời gian thảo luận sâu và giáo viên tổng hợp, giới thiệu hai khái niệm mới một cách hiệu </span>\n",
       "<span style=\"color: #808000; text-decoration-color: #808000; font-weight: bold\">quả. Nên dành thêm thời gian cho hoạt động cốt lõi này để đảm bảo sự hiểu bài của học sinh. | SUGGESTED_DURATION: </span>\n",
       "<span style=\"color: #808000; text-decoration-color: #808000; font-weight: bold\">20</span>\n",
       "</pre>\n"
      ],
      "text/plain": [
       "\u001b[1;33m⚠️  CỐ VẤN PHẢN BIỆN: \u001b[0m\u001b[1;33m[\u001b[0m\u001b[1;33mSTRUCTURAL_FEEDBACK\u001b[0m\u001b[1;33m]\u001b[0m\u001b[1;33m Thời gian phân bổ cho phần Khám phá trực quan \u001b[0m\u001b[1;33m(\u001b[0m\u001b[1;33m8\u001b[0m\u001b[1;33m phút\u001b[0m\u001b[1;33m)\u001b[0m\u001b[1;33m có thể hơi gấp \u001b[0m\n",
       "\u001b[1;33mgáp để học sinh có đủ thời gian thảo luận sâu và giáo viên tổng hợp, giới thiệu hai khái niệm mới một cách hiệu \u001b[0m\n",
       "\u001b[1;33mquả. Nên dành thêm thời gian cho hoạt động cốt lõi này để đảm bảo sự hiểu bài của học sinh. | SUGGESTED_DURATION: \u001b[0m\n",
       "\u001b[1;33m20\u001b[0m\n"
      ]
     },
     "metadata": {},
     "output_type": "display_data"
    },
    {
     "data": {
      "text/html": [
       "<pre style=\"white-space:pre;overflow-x:auto;line-height:normal;font-family:Menlo,'DejaVu Sans Mono',consolas,'Courier New',monospace\">\n",
       "<span style=\"color: #008080; text-decoration-color: #008080; font-weight: bold\">&gt;</span> ROUTER <span style=\"font-weight: bold\">(</span>Validation<span style=\"font-weight: bold\">)</span>: Lỗi cấu trúc, yêu cầu LẬP KẾ HOẠCH LẠI.\n",
       "</pre>\n"
      ],
      "text/plain": [
       "\n",
       "\u001b[1;36m>\u001b[0m ROUTER \u001b[1m(\u001b[0mValidation\u001b[1m)\u001b[0m: Lỗi cấu trúc, yêu cầu LẬP KẾ HOẠCH LẠI.\n"
      ]
     },
     "metadata": {},
     "output_type": "display_data"
    },
    {
     "data": {
      "text/html": [
       "<pre style=\"white-space:pre;overflow-x:auto;line-height:normal;font-family:Menlo,'DejaVu Sans Mono',consolas,'Courier New',monospace\">\n",
       "<span style=\"color: #808000; text-decoration-color: #808000; font-weight: bold\">------- Hoàn thành bước: content_validator -------</span>\n",
       "</pre>\n"
      ],
      "text/plain": [
       "\n",
       "\u001b[1;33m------- Hoàn thành bước: content_validator -------\u001b[0m\n"
      ]
     },
     "metadata": {},
     "output_type": "display_data"
    },
    {
     "data": {
      "text/html": [
       "<pre style=\"white-space:pre;overflow-x:auto;line-height:normal;font-family:Menlo,'DejaVu Sans Mono',consolas,'Courier New',monospace\">\n",
       "<span style=\"color: #008080; text-decoration-color: #008080; font-weight: bold\">&gt;</span> `Node: Budget Balancer` đang phẫu thuật và cân bằng lại ngân sách<span style=\"color: #808000; text-decoration-color: #808000\">...</span>\n",
       "</pre>\n"
      ],
      "text/plain": [
       "\n",
       "\u001b[1;36m>\u001b[0m `Node: Budget Balancer` đang phẫu thuật và cân bằng lại ngân sách\u001b[33m...\u001b[0m\n"
      ]
     },
     "metadata": {},
     "output_type": "display_data"
    },
    {
     "data": {
      "text/html": [
       "<pre style=\"white-space:pre;overflow-x:auto;line-height:normal;font-family:Menlo,'DejaVu Sans Mono',consolas,'Courier New',monospace\"><span style=\"color: #008000; text-decoration-color: #008000; font-weight: bold\">✔️ Bước </span><span style=\"color: #008000; text-decoration-color: #008000; font-weight: bold\">1</span><span style=\"color: #008000; text-decoration-color: #008000; font-weight: bold\">: Cập nhật nhiệm vụ bị lỗi:</span>\n",
       "</pre>\n"
      ],
      "text/plain": [
       "\u001b[1;32m✔️ Bước \u001b[0m\u001b[1;32m1\u001b[0m\u001b[1;32m: Cập nhật nhiệm vụ bị lỗi:\u001b[0m\n"
      ]
     },
     "metadata": {},
     "output_type": "display_data"
    },
    {
     "data": {
      "text/html": [
       "<pre style=\"white-space:pre;overflow-x:auto;line-height:normal;font-family:Menlo,'DejaVu Sans Mono',consolas,'Courier New',monospace\"><span style=\"font-weight: bold\">{</span>\n",
       "<span style=\"color: #7fbf7f; text-decoration-color: #7fbf7f\">│   </span><span style=\"color: #008000; text-decoration-color: #008000\">'task_id'</span>: <span style=\"color: #008080; text-decoration-color: #008080; font-weight: bold\">0</span>,\n",
       "<span style=\"color: #7fbf7f; text-decoration-color: #7fbf7f\">│   </span><span style=\"color: #008000; text-decoration-color: #008000\">'from'</span>: <span style=\"color: #008080; text-decoration-color: #008080; font-weight: bold\">15</span>,\n",
       "<span style=\"color: #7fbf7f; text-decoration-color: #7fbf7f\">│   </span><span style=\"color: #008000; text-decoration-color: #008000\">'to'</span>: <span style=\"color: #008080; text-decoration-color: #008080; font-weight: bold\">20</span>,\n",
       "<span style=\"color: #7fbf7f; text-decoration-color: #7fbf7f\">│   </span><span style=\"color: #008000; text-decoration-color: #008000\">'delta'</span>: <span style=\"color: #008080; text-decoration-color: #008080; font-weight: bold\">5</span>\n",
       "<span style=\"font-weight: bold\">}</span>\n",
       "</pre>\n"
      ],
      "text/plain": [
       "\u001b[1m{\u001b[0m\n",
       "\u001b[2;32m│   \u001b[0m\u001b[32m'task_id'\u001b[0m: \u001b[1;36m0\u001b[0m,\n",
       "\u001b[2;32m│   \u001b[0m\u001b[32m'from'\u001b[0m: \u001b[1;36m15\u001b[0m,\n",
       "\u001b[2;32m│   \u001b[0m\u001b[32m'to'\u001b[0m: \u001b[1;36m20\u001b[0m,\n",
       "\u001b[2;32m│   \u001b[0m\u001b[32m'delta'\u001b[0m: \u001b[1;36m5\u001b[0m\n",
       "\u001b[1m}\u001b[0m\n"
      ]
     },
     "metadata": {},
     "output_type": "display_data"
    },
    {
     "data": {
      "text/html": [
       "<pre style=\"white-space:pre;overflow-x:auto;line-height:normal;font-family:Menlo,'DejaVu Sans Mono',consolas,'Courier New',monospace\"><span style=\"color: #008000; text-decoration-color: #008000; font-weight: bold\">✔️ Bước </span><span style=\"color: #008000; text-decoration-color: #008000; font-weight: bold\">2</span><span style=\"color: #008000; text-decoration-color: #008000; font-weight: bold\">: Cân bằng lại ngân sách ở hoạt động đệm:</span>\n",
       "</pre>\n"
      ],
      "text/plain": [
       "\u001b[1;32m✔️ Bước \u001b[0m\u001b[1;32m2\u001b[0m\u001b[1;32m: Cân bằng lại ngân sách ở hoạt động đệm:\u001b[0m\n"
      ]
     },
     "metadata": {},
     "output_type": "display_data"
    },
    {
     "data": {
      "text/html": [
       "<pre style=\"white-space:pre;overflow-x:auto;line-height:normal;font-family:Menlo,'DejaVu Sans Mono',consolas,'Courier New',monospace\"><span style=\"font-weight: bold\">{</span>\n",
       "<span style=\"color: #7fbf7f; text-decoration-color: #7fbf7f\">│   </span><span style=\"color: #008000; text-decoration-color: #008000\">'task_id'</span>: <span style=\"color: #008080; text-decoration-color: #008080; font-weight: bold\">3</span>,\n",
       "<span style=\"color: #7fbf7f; text-decoration-color: #7fbf7f\">│   </span><span style=\"color: #008000; text-decoration-color: #008000\">'from'</span>: <span style=\"color: #008080; text-decoration-color: #008080; font-weight: bold\">15</span>,\n",
       "<span style=\"color: #7fbf7f; text-decoration-color: #7fbf7f\">│   </span><span style=\"color: #008000; text-decoration-color: #008000\">'to'</span>: <span style=\"color: #008080; text-decoration-color: #008080; font-weight: bold\">10</span>\n",
       "<span style=\"font-weight: bold\">}</span>\n",
       "</pre>\n"
      ],
      "text/plain": [
       "\u001b[1m{\u001b[0m\n",
       "\u001b[2;32m│   \u001b[0m\u001b[32m'task_id'\u001b[0m: \u001b[1;36m3\u001b[0m,\n",
       "\u001b[2;32m│   \u001b[0m\u001b[32m'from'\u001b[0m: \u001b[1;36m15\u001b[0m,\n",
       "\u001b[2;32m│   \u001b[0m\u001b[32m'to'\u001b[0m: \u001b[1;36m10\u001b[0m\n",
       "\u001b[1m}\u001b[0m\n"
      ]
     },
     "metadata": {},
     "output_type": "display_data"
    },
    {
     "data": {
      "text/html": [
       "<pre style=\"white-space:pre;overflow-x:auto;line-height:normal;font-family:Menlo,'DejaVu Sans Mono',consolas,'Courier New',monospace\">\n",
       "<span style=\"color: #808000; text-decoration-color: #808000; font-weight: bold\">------- Hoàn thành bước: budget_balancer -------</span>\n",
       "</pre>\n"
      ],
      "text/plain": [
       "\n",
       "\u001b[1;33m------- Hoàn thành bước: budget_balancer -------\u001b[0m\n"
      ]
     },
     "metadata": {},
     "output_type": "display_data"
    },
    {
     "data": {
      "text/html": [
       "<pre style=\"white-space:pre;overflow-x:auto;line-height:normal;font-family:Menlo,'DejaVu Sans Mono',consolas,'Courier New',monospace\">\n",
       "<span style=\"color: #008080; text-decoration-color: #008080; font-weight: bold\">&gt;</span> `Agent: Task Dispatcher` đang giao việc<span style=\"color: #808000; text-decoration-color: #808000\">...</span>\n",
       "</pre>\n"
      ],
      "text/plain": [
       "\n",
       "\u001b[1;36m>\u001b[0m `Agent: Task Dispatcher` đang giao việc\u001b[33m...\u001b[0m\n"
      ]
     },
     "metadata": {},
     "output_type": "display_data"
    },
    {
     "data": {
      "text/html": [
       "<pre style=\"white-space:pre;overflow-x:auto;line-height:normal;font-family:Menlo,'DejaVu Sans Mono',consolas,'Courier New',monospace\">\n",
       "<span style=\"color: #008080; text-decoration-color: #008080; font-weight: bold\">&gt;</span> --- 🚚 `Dispatcher`: Giao nhiệm vụ cho `activity_designer`.\n",
       "</pre>\n"
      ],
      "text/plain": [
       "\n",
       "\u001b[1;36m>\u001b[0m --- 🚚 `Dispatcher`: Giao nhiệm vụ cho `activity_designer`.\n"
      ]
     },
     "metadata": {},
     "output_type": "display_data"
    },
    {
     "data": {
      "text/html": [
       "<pre style=\"white-space:pre;overflow-x:auto;line-height:normal;font-family:Menlo,'DejaVu Sans Mono',consolas,'Courier New',monospace\">\n",
       "<span style=\"color: #808000; text-decoration-color: #808000; font-weight: bold\">------- Hoàn thành bước: task_dispatcher -------</span>\n",
       "</pre>\n"
      ],
      "text/plain": [
       "\n",
       "\u001b[1;33m------- Hoàn thành bước: task_dispatcher -------\u001b[0m\n"
      ]
     },
     "metadata": {},
     "output_type": "display_data"
    },
    {
     "data": {
      "text/html": [
       "<pre style=\"white-space:pre;overflow-x:auto;line-height:normal;font-family:Menlo,'DejaVu Sans Mono',consolas,'Courier New',monospace\">\n",
       "<span style=\"color: #008080; text-decoration-color: #008080; font-weight: bold\">&gt;</span> `Agent: Activity Designer` <span style=\"font-weight: bold\">(</span>v9.<span style=\"color: #008080; text-decoration-color: #008080; font-weight: bold\">7</span><span style=\"font-weight: bold\">)</span> đang tạo nội dung linh hoạt <span style=\"font-weight: bold\">(</span>Lõi + Mở rộng<span style=\"font-weight: bold\">)</span><span style=\"color: #808000; text-decoration-color: #808000\">...</span>\n",
       "</pre>\n"
      ],
      "text/plain": [
       "\n",
       "\u001b[1;36m>\u001b[0m `Agent: Activity Designer` \u001b[1m(\u001b[0mv9.\u001b[1;36m7\u001b[0m\u001b[1m)\u001b[0m đang tạo nội dung linh hoạt \u001b[1m(\u001b[0mLõi + Mở rộng\u001b[1m)\u001b[0m\u001b[33m...\u001b[0m\n"
      ]
     },
     "metadata": {},
     "output_type": "display_data"
    },
    {
     "data": {
      "text/html": [
       "<pre style=\"white-space:pre;overflow-x:auto;line-height:normal;font-family:Menlo,'DejaVu Sans Mono',consolas,'Courier New',monospace\"><span style=\"color: #008000; text-decoration-color: #008000; font-weight: bold\">✔️ Nội dung do Activity Designer tạo ra (Linh hoạt):</span>\n",
       "</pre>\n"
      ],
      "text/plain": [
       "\u001b[1;32m✔️ Nội dung do Activity Designer tạo ra \u001b[0m\u001b[1;32m(\u001b[0m\u001b[1;32mLinh hoạt\u001b[0m\u001b[1;32m)\u001b[0m\u001b[1;32m:\u001b[0m\n"
      ]
     },
     "metadata": {},
     "output_type": "display_data"
    },
    {
     "data": {
      "text/html": [
       "<pre style=\"white-space:pre;overflow-x:auto;line-height:normal;font-family:Menlo,'DejaVu Sans Mono',consolas,'Courier New',monospace\"><span style=\"font-weight: bold\">{</span>\n",
       "<span style=\"color: #7fbf7f; text-decoration-color: #7fbf7f\">│   </span><span style=\"color: #008000; text-decoration-color: #008000\">'activity_name'</span>: <span style=\"color: #008000; text-decoration-color: #008000\">'Khởi động và Khám phá ban đầu'</span>,\n",
       "<span style=\"color: #7fbf7f; text-decoration-color: #7fbf7f\">│   </span><span style=\"color: #008000; text-decoration-color: #008000\">'activity_type'</span>: <span style=\"color: #008000; text-decoration-color: #008000\">'Trò chơi tương tác và Thảo luận nhóm'</span>,\n",
       "<span style=\"color: #7fbf7f; text-decoration-color: #7fbf7f\">│   </span><span style=\"color: #008000; text-decoration-color: #008000\">'duration_minutes'</span>: <span style=\"color: #008080; text-decoration-color: #008080; font-weight: bold\">20</span>,\n",
       "<span style=\"color: #7fbf7f; text-decoration-color: #7fbf7f\">│   </span><span style=\"color: #008000; text-decoration-color: #008000\">'teacher_actions'</span>: <span style=\"font-weight: bold\">[</span>\n",
       "<span style=\"color: #7fbf7f; text-decoration-color: #7fbf7f\">│   │   </span><span style=\"color: #008000; text-decoration-color: #008000\">'Chuẩn bị các hình ảnh trực quan (vật thể thật hoặc hình ảnh trình chiếu) về đường tròn và tam giác có mối quan hệ ngoại tiếp/nội tiếp.'</span>,\n",
       "<span style=\"color: #7fbf7f; text-decoration-color: #7fbf7f\">│   │   </span><span style=\"color: #008000; text-decoration-color: #008000\">'Tổ chức lớp thành các nhóm nhỏ (4-5 học sinh).'</span>,\n",
       "<span style=\"color: #7fbf7f; text-decoration-color: #7fbf7f\">│   │   </span><span style=\"color: #008000; text-decoration-color: #008000\">'Phát phiếu bài tập hoặc bảng nhóm cho các nhóm.'</span>,\n",
       "<span style=\"color: #7fbf7f; text-decoration-color: #7fbf7f\">│   │   </span><span style=\"color: #008000; text-decoration-color: #008000\">'Đặt câu hỏi gợi mở và khuyến khích học sinh thảo luận trong nhóm.'</span>,\n",
       "<span style=\"color: #7fbf7f; text-decoration-color: #7fbf7f\">│   │   </span><span style=\"color: #008000; text-decoration-color: #008000\">'Lắng nghe các câu trả lời của học sinh, ghi nhận các ý tưởng hay.'</span>,\n",
       "<span style=\"color: #7fbf7f; text-decoration-color: #7fbf7f\">│   │   </span><span style=\"color: #008000; text-decoration-color: #008000\">\"Giới thiệu chính xác khái niệm 'đường tròn ngoại tiếp' và 'đường tròn nội tiếp' sau khi học sinh đã có những nhận định ban đầu.\"</span>,\n",
       "<span style=\"color: #7fbf7f; text-decoration-color: #7fbf7f\">│   │   </span><span style=\"color: #008000; text-decoration-color: #008000\">'Hướng dẫn học sinh vẽ ví dụ đơn giản về hai loại đường tròn này.'</span>,\n",
       "<span style=\"color: #7fbf7f; text-decoration-color: #7fbf7f\">│   │   </span><span style=\"color: #008000; text-decoration-color: #008000\">'Đi vòng quanh các nhóm để quan sát, hỗ trợ và giải đáp thắc mắc.'</span>\n",
       "<span style=\"color: #7fbf7f; text-decoration-color: #7fbf7f\">│   </span><span style=\"font-weight: bold\">]</span>,\n",
       "<span style=\"color: #7fbf7f; text-decoration-color: #7fbf7f\">│   </span><span style=\"color: #008000; text-decoration-color: #008000\">'core_component'</span>: <span style=\"color: #008000; text-decoration-color: #008000\">\"Giáo viên trình chiếu các hình ảnh trực quan (ví dụ: một chiếc đĩa tròn đặt trên một miếng bánh hình tam giác, hoặc một chiếc nhẫn tròn lồng vào một mặt dây chuyền hình tam giác). Học sinh theo nhóm (4-5 em) sẽ quan sát và thảo luận nhanh trong 5 phút để trả lời các câu hỏi: 1. Vật thể nào nằm 'bên trong' vật thể nào? 2. Vật thể nào 'bao quanh' vật thể nào? 3. Hãy dùng từ ngữ của riêng em để mô tả mối quan hệ giữa hai vật thể này. Sau đó, giáo viên giới thiệu chính xác các thuật ngữ 'đường tròn ngoại tiếp' và 'đường tròn nội tiếp' thông qua các hình ảnh đã cho và các ví dụ đơn giản khác trên bảng/máy chiếu. Các nhóm sẽ cùng nhau vẽ nhanh một ví dụ về đường tròn ngoại tiếp tam giác và một ví dụ về đường tròn nội tiếp tam giác vào phiếu bài tập hoặc bảng nhóm.\"</span>,\n",
       "<span style=\"color: #7fbf7f; text-decoration-color: #7fbf7f\">│   </span><span style=\"color: #008000; text-decoration-color: #008000\">'extension_component'</span>: <span style=\"color: #008000; text-decoration-color: #008000\">'Nếu còn thời gian, các nhóm có thể thử thách nhau bằng cách vẽ một hình tam giác bất kỳ và cố gắng vẽ phác thảo đường tròn ngoại tiếp hoặc nội tiếp của tam giác đó mà không cần dụng cụ, chỉ dựa trên cảm nhận ban đầu về vị trí tâm và bán kính. Sau đó, các nhóm chia sẻ hình vẽ của mình và nhận xét lẫn nhau.'</span>,\n",
       "<span style=\"color: #7fbf7f; text-decoration-color: #7fbf7f\">│   </span><span style=\"color: #008000; text-decoration-color: #008000\">'solution_guide'</span>: <span style=\"color: #008000; text-decoration-color: #008000\">\"Các câu trả lời mong đợi từ học sinh: 1. Vật thể này nằm trong vật thể kia. 2. Vật thể này bao quanh vật thể kia. 3. Mối quan hệ 'bao bọc' hoặc 'nằm gọn trong'. Giáo viên cần chốt lại rằng 'đường tròn ngoại tiếp' là đường tròn đi qua tất cả các đỉnh của tam giác, còn 'đường tròn nội tiếp' là đường tròn tiếp xúc với tất cả các cạnh của tam giác.\"</span>,\n",
       "<span style=\"color: #7fbf7f; text-decoration-color: #7fbf7f\">│   </span><span style=\"color: #008000; text-decoration-color: #008000\">'differentiation'</span>: <span style=\"font-weight: bold\">{</span>\n",
       "<span style=\"color: #7fbf7f; text-decoration-color: #7fbf7f\">│   │   </span><span style=\"color: #008000; text-decoration-color: #008000\">'for_struggling_students'</span>: <span style=\"color: #008000; text-decoration-color: #008000\">\"Giáo viên cung cấp thêm các hình ảnh minh họa rõ ràng hơn, có thể là các mô hình vật lý để học sinh dễ hình dung. Gợi ý các từ khóa đơn giản như 'nằm ngoài', 'nằm trong', 'chạm vào' để các em dễ mô tả. Đảm bảo các em hiểu được khái niệm cơ bản trước khi chuyển sang phần vẽ.\"</span>,\n",
       "<span style=\"color: #7fbf7f; text-decoration-color: #7fbf7f\">│   │   </span><span style=\"color: #008000; text-decoration-color: #008000\">'for_advanced_students'</span>: <span style=\"color: #008000; text-decoration-color: #008000\">\"Yêu cầu các em suy nghĩ và đưa ra thêm các ví dụ khác trong thực tế về mối quan hệ ngoại tiếp/nội tiếp. Có thể đặt câu hỏi mở rộng: 'Theo em, có phải lúc nào một tam giác cũng có đường tròn ngoại tiếp và đường tròn nội tiếp không? Vì sao?' hoặc 'Có mối quan hệ tương tự nào giữa hình tròn và các hình đa giác khác không?'\"</span>\n",
       "<span style=\"color: #7fbf7f; text-decoration-color: #7fbf7f\">│   </span><span style=\"font-weight: bold\">}</span>,\n",
       "<span style=\"color: #7fbf7f; text-decoration-color: #7fbf7f\">│   </span><span style=\"color: #008000; text-decoration-color: #008000\">'question_or_description'</span>: <span style=\"color: #008000; text-decoration-color: #008000\">\"**Phần Cốt lõi:**\\nGiáo viên trình chiếu các hình ảnh trực quan (ví dụ: một chiếc đĩa tròn đặt trên một miếng bánh hình tam giác, hoặc một chiếc nhẫn tròn lồng vào một mặt dây chuyền hình tam giác). Học sinh theo nhóm (4-5 em) sẽ quan sát và thảo luận nhanh trong 5 phút để trả lời các câu hỏi: 1. Vật thể nào nằm 'bên trong' vật thể nào? 2. Vật thể nào 'bao quanh' vật thể nào? 3. Hãy dùng từ ngữ của riêng em để mô tả mối quan hệ giữa hai vật thể này. Sau đó, giáo viên giới thiệu chính xác các thuật ngữ 'đường tròn ngoại tiếp' và 'đường tròn nội tiếp' thông qua các hình ảnh đã cho và các ví dụ đơn giản khác trên bảng/máy chiếu. Các nhóm sẽ cùng nhau vẽ nhanh một ví dụ về đường tròn ngoại tiếp tam giác và một ví dụ về đường tròn nội tiếp tam giác vào phiếu bài tập hoặc bảng nhóm.\\n\\n**Phần Mở rộng (nếu còn thời gian):**\\nNếu còn thời gian, các nhóm có thể thử thách nhau bằng cách vẽ một hình tam giác bất kỳ và cố gắng vẽ phác thảo đường tròn ngoại tiếp hoặc nội tiếp của tam giác đó mà không cần dụng cụ, chỉ dựa trên cảm nhận ban đầu về vị trí tâm và bán kính. Sau đó, các nhóm chia sẻ hình vẽ của mình và nhận xét lẫn nhau.\"</span>\n",
       "<span style=\"font-weight: bold\">}</span>\n",
       "</pre>\n"
      ],
      "text/plain": [
       "\u001b[1m{\u001b[0m\n",
       "\u001b[2;32m│   \u001b[0m\u001b[32m'activity_name'\u001b[0m: \u001b[32m'Khởi động và Khám phá ban đầu'\u001b[0m,\n",
       "\u001b[2;32m│   \u001b[0m\u001b[32m'activity_type'\u001b[0m: \u001b[32m'Trò chơi tương tác và Thảo luận nhóm'\u001b[0m,\n",
       "\u001b[2;32m│   \u001b[0m\u001b[32m'duration_minutes'\u001b[0m: \u001b[1;36m20\u001b[0m,\n",
       "\u001b[2;32m│   \u001b[0m\u001b[32m'teacher_actions'\u001b[0m: \u001b[1m[\u001b[0m\n",
       "\u001b[2;32m│   │   \u001b[0m\u001b[32m'Chuẩn bị các hình ảnh trực quan \u001b[0m\u001b[32m(\u001b[0m\u001b[32mvật thể thật hoặc hình ảnh trình chiếu\u001b[0m\u001b[32m)\u001b[0m\u001b[32m về đường tròn và tam giác có mối quan hệ ngoại tiếp/nội tiếp.'\u001b[0m,\n",
       "\u001b[2;32m│   │   \u001b[0m\u001b[32m'Tổ chức lớp thành các nhóm nhỏ \u001b[0m\u001b[32m(\u001b[0m\u001b[32m4-5 học sinh\u001b[0m\u001b[32m)\u001b[0m\u001b[32m.'\u001b[0m,\n",
       "\u001b[2;32m│   │   \u001b[0m\u001b[32m'Phát phiếu bài tập hoặc bảng nhóm cho các nhóm.'\u001b[0m,\n",
       "\u001b[2;32m│   │   \u001b[0m\u001b[32m'Đặt câu hỏi gợi mở và khuyến khích học sinh thảo luận trong nhóm.'\u001b[0m,\n",
       "\u001b[2;32m│   │   \u001b[0m\u001b[32m'Lắng nghe các câu trả lời của học sinh, ghi nhận các ý tưởng hay.'\u001b[0m,\n",
       "\u001b[2;32m│   │   \u001b[0m\u001b[32m\"Giới thiệu chính xác khái niệm 'đường tròn ngoại tiếp' và 'đường tròn nội tiếp' sau khi học sinh đã có những nhận định ban đầu.\"\u001b[0m,\n",
       "\u001b[2;32m│   │   \u001b[0m\u001b[32m'Hướng dẫn học sinh vẽ ví dụ đơn giản về hai loại đường tròn này.'\u001b[0m,\n",
       "\u001b[2;32m│   │   \u001b[0m\u001b[32m'Đi vòng quanh các nhóm để quan sát, hỗ trợ và giải đáp thắc mắc.'\u001b[0m\n",
       "\u001b[2;32m│   \u001b[0m\u001b[1m]\u001b[0m,\n",
       "\u001b[2;32m│   \u001b[0m\u001b[32m'core_component'\u001b[0m: \u001b[32m\"Giáo viên trình chiếu các hình ảnh trực quan \u001b[0m\u001b[32m(\u001b[0m\u001b[32mví dụ: một chiếc đĩa tròn đặt trên một miếng bánh hình tam giác, hoặc một chiếc nhẫn tròn lồng vào một mặt dây chuyền hình tam giác\u001b[0m\u001b[32m)\u001b[0m\u001b[32m. Học sinh theo nhóm \u001b[0m\u001b[32m(\u001b[0m\u001b[32m4-5 em\u001b[0m\u001b[32m)\u001b[0m\u001b[32m sẽ quan sát và thảo luận nhanh trong 5 phút để trả lời các câu hỏi: 1. Vật thể nào nằm 'bên trong' vật thể nào? 2. Vật thể nào 'bao quanh' vật thể nào? 3. Hãy dùng từ ngữ của riêng em để mô tả mối quan hệ giữa hai vật thể này. Sau đó, giáo viên giới thiệu chính xác các thuật ngữ 'đường tròn ngoại tiếp' và 'đường tròn nội tiếp' thông qua các hình ảnh đã cho và các ví dụ đơn giản khác trên bảng/máy chiếu. Các nhóm sẽ cùng nhau vẽ nhanh một ví dụ về đường tròn ngoại tiếp tam giác và một ví dụ về đường tròn nội tiếp tam giác vào phiếu bài tập hoặc bảng nhóm.\"\u001b[0m,\n",
       "\u001b[2;32m│   \u001b[0m\u001b[32m'extension_component'\u001b[0m: \u001b[32m'Nếu còn thời gian, các nhóm có thể thử thách nhau bằng cách vẽ một hình tam giác bất kỳ và cố gắng vẽ phác thảo đường tròn ngoại tiếp hoặc nội tiếp của tam giác đó mà không cần dụng cụ, chỉ dựa trên cảm nhận ban đầu về vị trí tâm và bán kính. Sau đó, các nhóm chia sẻ hình vẽ của mình và nhận xét lẫn nhau.'\u001b[0m,\n",
       "\u001b[2;32m│   \u001b[0m\u001b[32m'solution_guide'\u001b[0m: \u001b[32m\"Các câu trả lời mong đợi từ học sinh: 1. Vật thể này nằm trong vật thể kia. 2. Vật thể này bao quanh vật thể kia. 3. Mối quan hệ 'bao bọc' hoặc 'nằm gọn trong'. Giáo viên cần chốt lại rằng 'đường tròn ngoại tiếp' là đường tròn đi qua tất cả các đỉnh của tam giác, còn 'đường tròn nội tiếp' là đường tròn tiếp xúc với tất cả các cạnh của tam giác.\"\u001b[0m,\n",
       "\u001b[2;32m│   \u001b[0m\u001b[32m'differentiation'\u001b[0m: \u001b[1m{\u001b[0m\n",
       "\u001b[2;32m│   │   \u001b[0m\u001b[32m'for_struggling_students'\u001b[0m: \u001b[32m\"Giáo viên cung cấp thêm các hình ảnh minh họa rõ ràng hơn, có thể là các mô hình vật lý để học sinh dễ hình dung. Gợi ý các từ khóa đơn giản như 'nằm ngoài', 'nằm trong', 'chạm vào' để các em dễ mô tả. Đảm bảo các em hiểu được khái niệm cơ bản trước khi chuyển sang phần vẽ.\"\u001b[0m,\n",
       "\u001b[2;32m│   │   \u001b[0m\u001b[32m'for_advanced_students'\u001b[0m: \u001b[32m\"Yêu cầu các em suy nghĩ và đưa ra thêm các ví dụ khác trong thực tế về mối quan hệ ngoại tiếp/nội tiếp. Có thể đặt câu hỏi mở rộng: 'Theo em, có phải lúc nào một tam giác cũng có đường tròn ngoại tiếp và đường tròn nội tiếp không? Vì sao?' hoặc 'Có mối quan hệ tương tự nào giữa hình tròn và các hình đa giác khác không?'\"\u001b[0m\n",
       "\u001b[2;32m│   \u001b[0m\u001b[1m}\u001b[0m,\n",
       "\u001b[2;32m│   \u001b[0m\u001b[32m'question_or_description'\u001b[0m: \u001b[32m\"**Phần Cốt lõi:**\\nGiáo viên trình chiếu các hình ảnh trực quan \u001b[0m\u001b[32m(\u001b[0m\u001b[32mví dụ: một chiếc đĩa tròn đặt trên một miếng bánh hình tam giác, hoặc một chiếc nhẫn tròn lồng vào một mặt dây chuyền hình tam giác\u001b[0m\u001b[32m)\u001b[0m\u001b[32m. Học sinh theo nhóm \u001b[0m\u001b[32m(\u001b[0m\u001b[32m4-5 em\u001b[0m\u001b[32m)\u001b[0m\u001b[32m sẽ quan sát và thảo luận nhanh trong 5 phút để trả lời các câu hỏi: 1. Vật thể nào nằm 'bên trong' vật thể nào? 2. Vật thể nào 'bao quanh' vật thể nào? 3. Hãy dùng từ ngữ của riêng em để mô tả mối quan hệ giữa hai vật thể này. Sau đó, giáo viên giới thiệu chính xác các thuật ngữ 'đường tròn ngoại tiếp' và 'đường tròn nội tiếp' thông qua các hình ảnh đã cho và các ví dụ đơn giản khác trên bảng/máy chiếu. Các nhóm sẽ cùng nhau vẽ nhanh một ví dụ về đường tròn ngoại tiếp tam giác và một ví dụ về đường tròn nội tiếp tam giác vào phiếu bài tập hoặc bảng nhóm.\\n\\n**Phần Mở rộng \u001b[0m\u001b[32m(\u001b[0m\u001b[32mnếu còn thời gian\u001b[0m\u001b[32m)\u001b[0m\u001b[32m:**\\nNếu còn thời gian, các nhóm có thể thử thách nhau bằng cách vẽ một hình tam giác bất kỳ và cố gắng vẽ phác thảo đường tròn ngoại tiếp hoặc nội tiếp của tam giác đó mà không cần dụng cụ, chỉ dựa trên cảm nhận ban đầu về vị trí tâm và bán kính. Sau đó, các nhóm chia sẻ hình vẽ của mình và nhận xét lẫn nhau.\"\u001b[0m\n",
       "\u001b[1m}\u001b[0m\n"
      ]
     },
     "metadata": {},
     "output_type": "display_data"
    },
    {
     "data": {
      "text/html": [
       "<pre style=\"white-space:pre;overflow-x:auto;line-height:normal;font-family:Menlo,'DejaVu Sans Mono',consolas,'Courier New',monospace\">\n",
       "<span style=\"color: #808000; text-decoration-color: #808000; font-weight: bold\">------- Hoàn thành bước: activity_designer -------</span>\n",
       "</pre>\n"
      ],
      "text/plain": [
       "\n",
       "\u001b[1;33m------- Hoàn thành bước: activity_designer -------\u001b[0m\n"
      ]
     },
     "metadata": {},
     "output_type": "display_data"
    },
    {
     "data": {
      "text/html": [
       "<pre style=\"white-space:pre;overflow-x:auto;line-height:normal;font-family:Menlo,'DejaVu Sans Mono',consolas,'Courier New',monospace\">\n",
       "<span style=\"color: #008080; text-decoration-color: #008080; font-weight: bold\">&gt;</span> `Agent: Time-Budget Advisor` <span style=\"font-weight: bold\">(</span>v9.<span style=\"color: #008080; text-decoration-color: #008080; font-weight: bold\">7</span><span style=\"font-weight: bold\">)</span> đang phản biện nội dung và ngân sách thời gian<span style=\"color: #808000; text-decoration-color: #808000\">...</span>\n",
       "</pre>\n"
      ],
      "text/plain": [
       "\n",
       "\u001b[1;36m>\u001b[0m `Agent: Time-Budget Advisor` \u001b[1m(\u001b[0mv9.\u001b[1;36m7\u001b[0m\u001b[1m)\u001b[0m đang phản biện nội dung và ngân sách thời gian\u001b[33m...\u001b[0m\n"
      ]
     },
     "metadata": {},
     "output_type": "display_data"
    },
    {
     "data": {
      "text/html": [
       "<pre style=\"white-space:pre;overflow-x:auto;line-height:normal;font-family:Menlo,'DejaVu Sans Mono',consolas,'Courier New',monospace\">\n",
       "<span style=\"color: #008080; text-decoration-color: #008080; font-weight: bold\">&gt;</span> ✔️ CỐ VẤN: Nội dung và ngân sách thời gian hợp lệ!\n",
       "</pre>\n"
      ],
      "text/plain": [
       "\n",
       "\u001b[1;36m>\u001b[0m ✔️ CỐ VẤN: Nội dung và ngân sách thời gian hợp lệ!\n"
      ]
     },
     "metadata": {},
     "output_type": "display_data"
    },
    {
     "data": {
      "text/html": [
       "<pre style=\"white-space:pre;overflow-x:auto;line-height:normal;font-family:Menlo,'DejaVu Sans Mono',consolas,'Courier New',monospace\">\n",
       "<span style=\"color: #008080; text-decoration-color: #008080; font-weight: bold\">&gt;</span> ROUTER <span style=\"font-weight: bold\">(</span>Validation<span style=\"font-weight: bold\">)</span>: Nội dung được chấp thuận. Chuyển sang bước ghi nhận.\n",
       "</pre>\n"
      ],
      "text/plain": [
       "\n",
       "\u001b[1;36m>\u001b[0m ROUTER \u001b[1m(\u001b[0mValidation\u001b[1m)\u001b[0m: Nội dung được chấp thuận. Chuyển sang bước ghi nhận.\n"
      ]
     },
     "metadata": {},
     "output_type": "display_data"
    },
    {
     "data": {
      "text/html": [
       "<pre style=\"white-space:pre;overflow-x:auto;line-height:normal;font-family:Menlo,'DejaVu Sans Mono',consolas,'Courier New',monospace\">\n",
       "<span style=\"color: #808000; text-decoration-color: #808000; font-weight: bold\">------- Hoàn thành bước: content_validator -------</span>\n",
       "</pre>\n"
      ],
      "text/plain": [
       "\n",
       "\u001b[1;33m------- Hoàn thành bước: content_validator -------\u001b[0m\n"
      ]
     },
     "metadata": {},
     "output_type": "display_data"
    },
    {
     "data": {
      "text/html": [
       "<pre style=\"white-space:pre;overflow-x:auto;line-height:normal;font-family:Menlo,'DejaVu Sans Mono',consolas,'Courier New',monospace\">\n",
       "<span style=\"color: #008080; text-decoration-color: #008080; font-weight: bold\">&gt;</span> `Commiter`: Đang ghi nhận nội dung đã được xác thực<span style=\"color: #808000; text-decoration-color: #808000\">...</span>\n",
       "</pre>\n"
      ],
      "text/plain": [
       "\n",
       "\u001b[1;36m>\u001b[0m `Commiter`: Đang ghi nhận nội dung đã được xác thực\u001b[33m...\u001b[0m\n"
      ]
     },
     "metadata": {},
     "output_type": "display_data"
    },
    {
     "data": {
      "text/html": [
       "<pre style=\"white-space:pre;overflow-x:auto;line-height:normal;font-family:Menlo,'DejaVu Sans Mono',consolas,'Courier New',monospace\">\n",
       "<span style=\"color: #808000; text-decoration-color: #808000; font-weight: bold\">------- Hoàn thành bước: commit_validated_content -------</span>\n",
       "</pre>\n"
      ],
      "text/plain": [
       "\n",
       "\u001b[1;33m------- Hoàn thành bước: commit_validated_content -------\u001b[0m\n"
      ]
     },
     "metadata": {},
     "output_type": "display_data"
    },
    {
     "data": {
      "text/html": [
       "<pre style=\"white-space:pre;overflow-x:auto;line-height:normal;font-family:Menlo,'DejaVu Sans Mono',consolas,'Courier New',monospace\">\n",
       "<span style=\"color: #808000; text-decoration-color: #808000; font-weight: bold\">------- Hoàn thành bước: mark_task_complete -------</span>\n",
       "</pre>\n"
      ],
      "text/plain": [
       "\n",
       "\u001b[1;33m------- Hoàn thành bước: mark_task_complete -------\u001b[0m\n"
      ]
     },
     "metadata": {},
     "output_type": "display_data"
    },
    {
     "data": {
      "text/html": [
       "<pre style=\"white-space:pre;overflow-x:auto;line-height:normal;font-family:Menlo,'DejaVu Sans Mono',consolas,'Courier New',monospace\">\n",
       "<span style=\"color: #808000; text-decoration-color: #808000; font-weight: bold\">------- Hoàn thành bước: delay_node -------</span>\n",
       "</pre>\n"
      ],
      "text/plain": [
       "\n",
       "\u001b[1;33m------- Hoàn thành bước: delay_node -------\u001b[0m\n"
      ]
     },
     "metadata": {},
     "output_type": "display_data"
    },
    {
     "data": {
      "text/html": [
       "<pre style=\"white-space:pre;overflow-x:auto;line-height:normal;font-family:Menlo,'DejaVu Sans Mono',consolas,'Courier New',monospace\">\n",
       "<span style=\"color: #008080; text-decoration-color: #008080; font-weight: bold\">&gt;</span> `Router`: Đang kiểm tra nhiệm vụ<span style=\"color: #808000; text-decoration-color: #808000\">...</span>\n",
       "</pre>\n"
      ],
      "text/plain": [
       "\n",
       "\u001b[1;36m>\u001b[0m `Router`: Đang kiểm tra nhiệm vụ\u001b[33m...\u001b[0m\n"
      ]
     },
     "metadata": {},
     "output_type": "display_data"
    },
    {
     "data": {
      "text/html": [
       "<pre style=\"white-space:pre;overflow-x:auto;line-height:normal;font-family:Menlo,'DejaVu Sans Mono',consolas,'Courier New',monospace\">\n",
       "<span style=\"color: #008080; text-decoration-color: #008080; font-weight: bold\">&gt;</span> Nhiệm vụ tiếp theo: <span style=\"color: #008000; text-decoration-color: #008000\">'Xây dựng kiến thức qua hoạt động nhóm'</span> <span style=\"font-weight: bold\">(</span>ID: <span style=\"color: #008080; text-decoration-color: #008080; font-weight: bold\">1</span><span style=\"font-weight: bold\">)</span>\n",
       "</pre>\n"
      ],
      "text/plain": [
       "\n",
       "\u001b[1;36m>\u001b[0m Nhiệm vụ tiếp theo: \u001b[32m'Xây dựng kiến thức qua hoạt động nhóm'\u001b[0m \u001b[1m(\u001b[0mID: \u001b[1;36m1\u001b[0m\u001b[1m)\u001b[0m\n"
      ]
     },
     "metadata": {},
     "output_type": "display_data"
    },
    {
     "data": {
      "text/html": [
       "<pre style=\"white-space:pre;overflow-x:auto;line-height:normal;font-family:Menlo,'DejaVu Sans Mono',consolas,'Courier New',monospace\">\n",
       "<span style=\"color: #808000; text-decoration-color: #808000; font-weight: bold\">------- Hoàn thành bước: task_router -------</span>\n",
       "</pre>\n"
      ],
      "text/plain": [
       "\n",
       "\u001b[1;33m------- Hoàn thành bước: task_router -------\u001b[0m\n"
      ]
     },
     "metadata": {},
     "output_type": "display_data"
    },
    {
     "data": {
      "text/html": [
       "<pre style=\"white-space:pre;overflow-x:auto;line-height:normal;font-family:Menlo,'DejaVu Sans Mono',consolas,'Courier New',monospace\">\n",
       "<span style=\"color: #008080; text-decoration-color: #008080; font-weight: bold\">&gt;</span> `Agent: Task Dispatcher` đang giao việc<span style=\"color: #808000; text-decoration-color: #808000\">...</span>\n",
       "</pre>\n"
      ],
      "text/plain": [
       "\n",
       "\u001b[1;36m>\u001b[0m `Agent: Task Dispatcher` đang giao việc\u001b[33m...\u001b[0m\n"
      ]
     },
     "metadata": {},
     "output_type": "display_data"
    },
    {
     "data": {
      "text/html": [
       "<pre style=\"white-space:pre;overflow-x:auto;line-height:normal;font-family:Menlo,'DejaVu Sans Mono',consolas,'Courier New',monospace\">\n",
       "<span style=\"color: #008080; text-decoration-color: #008080; font-weight: bold\">&gt;</span> --- 🚚 `Dispatcher`: Giao nhiệm vụ cho `activity_designer`.\n",
       "</pre>\n"
      ],
      "text/plain": [
       "\n",
       "\u001b[1;36m>\u001b[0m --- 🚚 `Dispatcher`: Giao nhiệm vụ cho `activity_designer`.\n"
      ]
     },
     "metadata": {},
     "output_type": "display_data"
    },
    {
     "data": {
      "text/html": [
       "<pre style=\"white-space:pre;overflow-x:auto;line-height:normal;font-family:Menlo,'DejaVu Sans Mono',consolas,'Courier New',monospace\">\n",
       "<span style=\"color: #808000; text-decoration-color: #808000; font-weight: bold\">------- Hoàn thành bước: task_dispatcher -------</span>\n",
       "</pre>\n"
      ],
      "text/plain": [
       "\n",
       "\u001b[1;33m------- Hoàn thành bước: task_dispatcher -------\u001b[0m\n"
      ]
     },
     "metadata": {},
     "output_type": "display_data"
    },
    {
     "data": {
      "text/html": [
       "<pre style=\"white-space:pre;overflow-x:auto;line-height:normal;font-family:Menlo,'DejaVu Sans Mono',consolas,'Courier New',monospace\">\n",
       "<span style=\"color: #008080; text-decoration-color: #008080; font-weight: bold\">&gt;</span> `Agent: Activity Designer` <span style=\"font-weight: bold\">(</span>v9.<span style=\"color: #008080; text-decoration-color: #008080; font-weight: bold\">7</span><span style=\"font-weight: bold\">)</span> đang tạo nội dung linh hoạt <span style=\"font-weight: bold\">(</span>Lõi + Mở rộng<span style=\"font-weight: bold\">)</span><span style=\"color: #808000; text-decoration-color: #808000\">...</span>\n",
       "</pre>\n"
      ],
      "text/plain": [
       "\n",
       "\u001b[1;36m>\u001b[0m `Agent: Activity Designer` \u001b[1m(\u001b[0mv9.\u001b[1;36m7\u001b[0m\u001b[1m)\u001b[0m đang tạo nội dung linh hoạt \u001b[1m(\u001b[0mLõi + Mở rộng\u001b[1m)\u001b[0m\u001b[33m...\u001b[0m\n"
      ]
     },
     "metadata": {},
     "output_type": "display_data"
    },
    {
     "data": {
      "text/html": [
       "<pre style=\"white-space:pre;overflow-x:auto;line-height:normal;font-family:Menlo,'DejaVu Sans Mono',consolas,'Courier New',monospace\"><span style=\"color: #008000; text-decoration-color: #008000; font-weight: bold\">✔️ Nội dung do Activity Designer tạo ra (Linh hoạt):</span>\n",
       "</pre>\n"
      ],
      "text/plain": [
       "\u001b[1;32m✔️ Nội dung do Activity Designer tạo ra \u001b[0m\u001b[1;32m(\u001b[0m\u001b[1;32mLinh hoạt\u001b[0m\u001b[1;32m)\u001b[0m\u001b[1;32m:\u001b[0m\n"
      ]
     },
     "metadata": {},
     "output_type": "display_data"
    },
    {
     "data": {
      "text/html": [
       "<pre style=\"white-space:pre;overflow-x:auto;line-height:normal;font-family:Menlo,'DejaVu Sans Mono',consolas,'Courier New',monospace\"><span style=\"font-weight: bold\">{</span>\n",
       "<span style=\"color: #7fbf7f; text-decoration-color: #7fbf7f\">│   </span><span style=\"color: #008000; text-decoration-color: #008000\">'activity_name'</span>: <span style=\"color: #008000; text-decoration-color: #008000\">'Xây dựng kiến thức qua hoạt động nhóm'</span>,\n",
       "<span style=\"color: #7fbf7f; text-decoration-color: #7fbf7f\">│   </span><span style=\"color: #008000; text-decoration-color: #008000\">'activity_type'</span>: <span style=\"color: #008000; text-decoration-color: #008000\">'Hoạt động nhóm'</span>,\n",
       "<span style=\"color: #7fbf7f; text-decoration-color: #7fbf7f\">│   </span><span style=\"color: #008000; text-decoration-color: #008000\">'duration_minutes'</span>: <span style=\"color: #008080; text-decoration-color: #008080; font-weight: bold\">30</span>,\n",
       "<span style=\"color: #7fbf7f; text-decoration-color: #7fbf7f\">│   </span><span style=\"color: #008000; text-decoration-color: #008000\">'teacher_actions'</span>: <span style=\"font-weight: bold\">[</span>\n",
       "<span style=\"color: #7fbf7f; text-decoration-color: #7fbf7f\">│   │   </span><span style=\"color: #008000; text-decoration-color: #008000\">'Phát phiếu học tập/nhiệm vụ cho từng nhóm (Nhóm A: Đường tròn ngoại tiếp; Nhóm B: Đường tròn nội tiếp).'</span>,\n",
       "<span style=\"color: #7fbf7f; text-decoration-color: #7fbf7f\">│   │   </span><span style=\"color: #008000; text-decoration-color: #008000\">'Quan sát, lắng nghe các nhóm thảo luận và kịp thời đưa ra gợi ý, định hướng khi cần thiết.'</span>,\n",
       "<span style=\"color: #7fbf7f; text-decoration-color: #7fbf7f\">│   │   </span><span style=\"color: #008000; text-decoration-color: #008000\">'Di chuyển linh hoạt giữa các nhóm, đặc biệt ưu tiên hỗ trợ các nhóm có học sinh yếu bằng cách đặt câu hỏi gợi mở, kiểm tra kiến thức nền tảng.'</span>,\n",
       "<span style=\"color: #7fbf7f; text-decoration-color: #7fbf7f\">│   │   </span><span style=\"color: #008000; text-decoration-color: #008000\">'Đảm bảo các nhóm đều nắm được nhiệm vụ và tiến độ làm việc.'</span>,\n",
       "<span style=\"color: #7fbf7f; text-decoration-color: #7fbf7f\">│   │   </span><span style=\"color: #008000; text-decoration-color: #008000\">'Chuẩn bị cho phần báo cáo/chia sẻ kiến thức sau hoạt động nhóm.'</span>\n",
       "<span style=\"color: #7fbf7f; text-decoration-color: #7fbf7f\">│   </span><span style=\"font-weight: bold\">]</span>,\n",
       "<span style=\"color: #7fbf7f; text-decoration-color: #7fbf7f\">│   </span><span style=\"color: #008000; text-decoration-color: #008000\">'core_component'</span>: <span style=\"color: #008000; text-decoration-color: #008000\">'Mỗi nhóm nhận một phiếu học tập với nhiệm vụ cụ thể:\\n*   Nhóm A (Đường tròn ngoại tiếp):\\n    *   Đọc tài liệu về đường tròn ngoại tiếp tam giác.\\n    *   Vẽ một tam giác bất kỳ và xác định tâm, bán kính đường tròn ngoại tiếp bằng thước và compa.\\n    *   Thảo luận và trả lời các câu hỏi:\\n        *   Đường tròn ngoại tiếp là gì?\\n        *   Tâm đường tròn ngoại tiếp tam giác được xác định như thế nào? (Là giao điểm của các đường gì?)\\n        *   Nêu tính chất của tâm đường tròn ngoại tiếp đối với các loại tam giác (nhọn, vuông, tù).\\n*   Nhóm B (Đường tròn nội tiếp):\\n    *   Đọc tài liệu về đường tròn nội tiếp tam giác.\\n    *   Vẽ một tam giác bất kỳ và xác định tâm, bán kính đường tròn nội tiếp bằng thước và compa.\\n    *   Thảo luận và trả lời các câu hỏi:\\n        *   Đường tròn nội tiếp là gì?\\n        *   Tâm đường tròn nội tiếp tam giác được xác định như thế nào? (Là giao điểm của các đường gì?)\\n        *   Nêu tính chất của tâm đường tròn nội tiếp đối với các cạnh của tam giác.'</span>,\n",
       "<span style=\"color: #7fbf7f; text-decoration-color: #7fbf7f\">│   </span><span style=\"color: #008000; text-decoration-color: #008000\">'extension_component'</span>: <span style=\"color: #008000; text-decoration-color: #008000\">'Đối với các nhóm hoàn thành sớm nhiệm vụ cốt lõi:\\n*   Câu hỏi mở rộng 1: Nêu điểm giống và khác nhau cơ bản giữa đường tròn ngoại tiếp và đường tròn nội tiếp tam giác.\\n*   Câu hỏi mở rộng 2: Cho tam giác đều ABC, tâm đường tròn ngoại tiếp và tâm đường tròn nội tiếp có trùng nhau không? Giải thích.\\n*   Bài tập ứng dụng: Một mảnh vườn hình tam giác cần được tưới nước từ một vòi phun đặt tại tâm. Nếu vòi phun cần tưới đến tất cả các đỉnh của mảnh vườn, vòi phun nên đặt ở tâm đường tròn nào? Nếu vòi phun cần tưới đến mọi điểm trên các cạnh của mảnh vườn, vòi phun nên đặt ở tâm đường tròn nào?'</span>,\n",
       "<span style=\"color: #7fbf7f; text-decoration-color: #7fbf7f\">│   </span><span style=\"color: #008000; text-decoration-color: #008000\">'solution_guide'</span>: <span style=\"color: #008000; text-decoration-color: #008000\">'Gợi ý cho giáo viên:\\n*   Đường tròn ngoại tiếp: Tâm là giao điểm 3 đường trung trực. Bán kính là khoảng cách từ tâm đến các đỉnh.\\n    *   Tam giác nhọn: Tâm nằm trong.\\n    *   Tam giác vuông: Tâm là trung điểm cạnh huyền.\\n    *   Tam giác tù: Tâm nằm ngoài.\\n*   Đường tròn nội tiếp: Tâm là giao điểm 3 đường phân giác. Bán kính là khoảng cách từ tâm đến các cạnh (vuông góc).\\n    *   Tâm luôn nằm trong tam giác.\\n*   Mở rộng:\\n    *   Giống: Đều là đường tròn liên quan đến tam giác.\\n    *   Khác: Vị trí tâm, cách xác định tâm, đối tượng tiếp xúc (đỉnh/cạnh).\\n    *   Tam giác đều: Tâm ngoại tiếp và nội tiếp trùng nhau (là trọng tâm, trực tâm, tâm đường tròn nội tiếp, tâm đường tròn ngoại tiếp).\\n    *   Ứng dụng: Tưới đến đỉnh -&gt; tâm đường tròn ngoại tiếp. Tưới đến cạnh -&gt; tâm đường tròn nội tiếp.'</span>,\n",
       "<span style=\"color: #7fbf7f; text-decoration-color: #7fbf7f\">│   </span><span style=\"color: #008000; text-decoration-color: #008000\">'differentiation'</span>: <span style=\"font-weight: bold\">{</span>\n",
       "<span style=\"color: #7fbf7f; text-decoration-color: #7fbf7f\">│   │   </span><span style=\"color: #008000; text-decoration-color: #008000\">'for_struggling_students'</span>: <span style=\"color: #008000; text-decoration-color: #008000\">'Giáo viên dành thời gian đến các nhóm có học sinh yếu, cung cấp phiếu học tập có sẵn hình vẽ hoặc các bước gợi ý chi tiết hơn để xác định tâm và bán kính. Đặt các câu hỏi đơn giản, trực tiếp để kiểm tra sự hiểu biết về định nghĩa cơ bản. Khuyến khích các em vẽ hình từng bước theo hướng dẫn của giáo viên hoặc bạn trong nhóm.'</span>,\n",
       "<span style=\"color: #7fbf7f; text-decoration-color: #7fbf7f\">│   │   </span><span style=\"color: #008000; text-decoration-color: #008000\">'for_advanced_students'</span>: <span style=\"color: #008000; text-decoration-color: #008000\">'Khuyến khích các nhóm này tự chứng minh một số tính chất nhỏ (ví dụ: tại sao tâm đường tròn ngoại tiếp là giao điểm 3 đường trung trực). Yêu cầu các em chuẩn bị một phần trình bày ngắn gọn về ứng dụng thực tế của đường tròn ngoại tiếp/nội tiếp hoặc so sánh sâu hơn hai loại đường tròn này.'</span>\n",
       "<span style=\"color: #7fbf7f; text-decoration-color: #7fbf7f\">│   </span><span style=\"font-weight: bold\">}</span>,\n",
       "<span style=\"color: #7fbf7f; text-decoration-color: #7fbf7f\">│   </span><span style=\"color: #008000; text-decoration-color: #008000\">'question_or_description'</span>: <span style=\"color: #008000; text-decoration-color: #008000\">'**Phần Cốt lõi:**\\nMỗi nhóm nhận một phiếu học tập với nhiệm vụ cụ thể:\\n*   Nhóm A (Đường tròn ngoại tiếp):\\n    *   Đọc tài liệu về đường tròn ngoại tiếp tam giác.\\n    *   Vẽ một tam giác bất kỳ và xác định tâm, bán kính đường tròn ngoại tiếp bằng thước và compa.\\n    *   Thảo luận và trả lời các câu hỏi:\\n        *   Đường tròn ngoại tiếp là gì?\\n        *   Tâm đường tròn ngoại tiếp tam giác được xác định như thế nào? (Là giao điểm của các đường gì?)\\n        *   Nêu tính chất của tâm đường tròn ngoại tiếp đối với các loại tam giác (nhọn, vuông, tù).\\n*   Nhóm B (Đường tròn nội tiếp):\\n    *   Đọc tài liệu về đường tròn nội tiếp tam giác.\\n    *   Vẽ một tam giác bất kỳ và xác định tâm, bán kính đường tròn nội tiếp bằng thước và compa.\\n    *   Thảo luận và trả lời các câu hỏi:\\n        *   Đường tròn nội tiếp là gì?\\n        *   Tâm đường tròn nội tiếp tam giác được xác định như thế nào? (Là giao điểm của các đường gì?)\\n        *   Nêu tính chất của tâm đường tròn nội tiếp đối với các cạnh của tam giác.\\n\\n**Phần Mở rộng (nếu còn thời gian):**\\nĐối với các nhóm hoàn thành sớm nhiệm vụ cốt lõi:\\n*   Câu hỏi mở rộng 1: Nêu điểm giống và khác nhau cơ bản giữa đường tròn ngoại tiếp và đường tròn nội tiếp tam giác.\\n*   Câu hỏi mở rộng 2: Cho tam giác đều ABC, tâm đường tròn ngoại tiếp và tâm đường tròn nội tiếp có trùng nhau không? Giải thích.\\n*   Bài tập ứng dụng: Một mảnh vườn hình tam giác cần được tưới nước từ một vòi phun đặt tại tâm. Nếu vòi phun cần tưới đến tất cả các đỉnh của mảnh vườn, vòi phun nên đặt ở tâm đường tròn nào? Nếu vòi phun cần tưới đến mọi điểm trên các cạnh của mảnh vườn, vòi phun nên đặt ở tâm đường tròn nào?'</span>\n",
       "<span style=\"font-weight: bold\">}</span>\n",
       "</pre>\n"
      ],
      "text/plain": [
       "\u001b[1m{\u001b[0m\n",
       "\u001b[2;32m│   \u001b[0m\u001b[32m'activity_name'\u001b[0m: \u001b[32m'Xây dựng kiến thức qua hoạt động nhóm'\u001b[0m,\n",
       "\u001b[2;32m│   \u001b[0m\u001b[32m'activity_type'\u001b[0m: \u001b[32m'Hoạt động nhóm'\u001b[0m,\n",
       "\u001b[2;32m│   \u001b[0m\u001b[32m'duration_minutes'\u001b[0m: \u001b[1;36m30\u001b[0m,\n",
       "\u001b[2;32m│   \u001b[0m\u001b[32m'teacher_actions'\u001b[0m: \u001b[1m[\u001b[0m\n",
       "\u001b[2;32m│   │   \u001b[0m\u001b[32m'Phát phiếu học tập/nhiệm vụ cho từng nhóm \u001b[0m\u001b[32m(\u001b[0m\u001b[32mNhóm A: Đường tròn ngoại tiếp; Nhóm B: Đường tròn nội tiếp\u001b[0m\u001b[32m)\u001b[0m\u001b[32m.'\u001b[0m,\n",
       "\u001b[2;32m│   │   \u001b[0m\u001b[32m'Quan sát, lắng nghe các nhóm thảo luận và kịp thời đưa ra gợi ý, định hướng khi cần thiết.'\u001b[0m,\n",
       "\u001b[2;32m│   │   \u001b[0m\u001b[32m'Di chuyển linh hoạt giữa các nhóm, đặc biệt ưu tiên hỗ trợ các nhóm có học sinh yếu bằng cách đặt câu hỏi gợi mở, kiểm tra kiến thức nền tảng.'\u001b[0m,\n",
       "\u001b[2;32m│   │   \u001b[0m\u001b[32m'Đảm bảo các nhóm đều nắm được nhiệm vụ và tiến độ làm việc.'\u001b[0m,\n",
       "\u001b[2;32m│   │   \u001b[0m\u001b[32m'Chuẩn bị cho phần báo cáo/chia sẻ kiến thức sau hoạt động nhóm.'\u001b[0m\n",
       "\u001b[2;32m│   \u001b[0m\u001b[1m]\u001b[0m,\n",
       "\u001b[2;32m│   \u001b[0m\u001b[32m'core_component'\u001b[0m: \u001b[32m'Mỗi nhóm nhận một phiếu học tập với nhiệm vụ cụ thể:\\n*   Nhóm A \u001b[0m\u001b[32m(\u001b[0m\u001b[32mĐường tròn ngoại tiếp\u001b[0m\u001b[32m)\u001b[0m\u001b[32m:\\n    *   Đọc tài liệu về đường tròn ngoại tiếp tam giác.\\n    *   Vẽ một tam giác bất kỳ và xác định tâm, bán kính đường tròn ngoại tiếp bằng thước và compa.\\n    *   Thảo luận và trả lời các câu hỏi:\\n        *   Đường tròn ngoại tiếp là gì?\\n        *   Tâm đường tròn ngoại tiếp tam giác được xác định như thế nào? \u001b[0m\u001b[32m(\u001b[0m\u001b[32mLà giao điểm của các đường gì?\u001b[0m\u001b[32m)\u001b[0m\u001b[32m\\n        *   Nêu tính chất của tâm đường tròn ngoại tiếp đối với các loại tam giác \u001b[0m\u001b[32m(\u001b[0m\u001b[32mnhọn, vuông, tù\u001b[0m\u001b[32m)\u001b[0m\u001b[32m.\\n*   Nhóm B \u001b[0m\u001b[32m(\u001b[0m\u001b[32mĐường tròn nội tiếp\u001b[0m\u001b[32m)\u001b[0m\u001b[32m:\\n    *   Đọc tài liệu về đường tròn nội tiếp tam giác.\\n    *   Vẽ một tam giác bất kỳ và xác định tâm, bán kính đường tròn nội tiếp bằng thước và compa.\\n    *   Thảo luận và trả lời các câu hỏi:\\n        *   Đường tròn nội tiếp là gì?\\n        *   Tâm đường tròn nội tiếp tam giác được xác định như thế nào? \u001b[0m\u001b[32m(\u001b[0m\u001b[32mLà giao điểm của các đường gì?\u001b[0m\u001b[32m)\u001b[0m\u001b[32m\\n        *   Nêu tính chất của tâm đường tròn nội tiếp đối với các cạnh của tam giác.'\u001b[0m,\n",
       "\u001b[2;32m│   \u001b[0m\u001b[32m'extension_component'\u001b[0m: \u001b[32m'Đối với các nhóm hoàn thành sớm nhiệm vụ cốt lõi:\\n*   Câu hỏi mở rộng 1: Nêu điểm giống và khác nhau cơ bản giữa đường tròn ngoại tiếp và đường tròn nội tiếp tam giác.\\n*   Câu hỏi mở rộng 2: Cho tam giác đều ABC, tâm đường tròn ngoại tiếp và tâm đường tròn nội tiếp có trùng nhau không? Giải thích.\\n*   Bài tập ứng dụng: Một mảnh vườn hình tam giác cần được tưới nước từ một vòi phun đặt tại tâm. Nếu vòi phun cần tưới đến tất cả các đỉnh của mảnh vườn, vòi phun nên đặt ở tâm đường tròn nào? Nếu vòi phun cần tưới đến mọi điểm trên các cạnh của mảnh vườn, vòi phun nên đặt ở tâm đường tròn nào?'\u001b[0m,\n",
       "\u001b[2;32m│   \u001b[0m\u001b[32m'solution_guide'\u001b[0m: \u001b[32m'Gợi ý cho giáo viên:\\n*   Đường tròn ngoại tiếp: Tâm là giao điểm 3 đường trung trực. Bán kính là khoảng cách từ tâm đến các đỉnh.\\n    *   Tam giác nhọn: Tâm nằm trong.\\n    *   Tam giác vuông: Tâm là trung điểm cạnh huyền.\\n    *   Tam giác tù: Tâm nằm ngoài.\\n*   Đường tròn nội tiếp: Tâm là giao điểm 3 đường phân giác. Bán kính là khoảng cách từ tâm đến các cạnh \u001b[0m\u001b[32m(\u001b[0m\u001b[32mvuông góc\u001b[0m\u001b[32m)\u001b[0m\u001b[32m.\\n    *   Tâm luôn nằm trong tam giác.\\n*   Mở rộng:\\n    *   Giống: Đều là đường tròn liên quan đến tam giác.\\n    *   Khác: Vị trí tâm, cách xác định tâm, đối tượng tiếp xúc \u001b[0m\u001b[32m(\u001b[0m\u001b[32mđỉnh/cạnh\u001b[0m\u001b[32m)\u001b[0m\u001b[32m.\\n    *   Tam giác đều: Tâm ngoại tiếp và nội tiếp trùng nhau \u001b[0m\u001b[32m(\u001b[0m\u001b[32mlà trọng tâm, trực tâm, tâm đường tròn nội tiếp, tâm đường tròn ngoại tiếp\u001b[0m\u001b[32m)\u001b[0m\u001b[32m.\\n    *   Ứng dụng: Tưới đến đỉnh -> tâm đường tròn ngoại tiếp. Tưới đến cạnh -> tâm đường tròn nội tiếp.'\u001b[0m,\n",
       "\u001b[2;32m│   \u001b[0m\u001b[32m'differentiation'\u001b[0m: \u001b[1m{\u001b[0m\n",
       "\u001b[2;32m│   │   \u001b[0m\u001b[32m'for_struggling_students'\u001b[0m: \u001b[32m'Giáo viên dành thời gian đến các nhóm có học sinh yếu, cung cấp phiếu học tập có sẵn hình vẽ hoặc các bước gợi ý chi tiết hơn để xác định tâm và bán kính. Đặt các câu hỏi đơn giản, trực tiếp để kiểm tra sự hiểu biết về định nghĩa cơ bản. Khuyến khích các em vẽ hình từng bước theo hướng dẫn của giáo viên hoặc bạn trong nhóm.'\u001b[0m,\n",
       "\u001b[2;32m│   │   \u001b[0m\u001b[32m'for_advanced_students'\u001b[0m: \u001b[32m'Khuyến khích các nhóm này tự chứng minh một số tính chất nhỏ \u001b[0m\u001b[32m(\u001b[0m\u001b[32mví dụ: tại sao tâm đường tròn ngoại tiếp là giao điểm 3 đường trung trực\u001b[0m\u001b[32m)\u001b[0m\u001b[32m. Yêu cầu các em chuẩn bị một phần trình bày ngắn gọn về ứng dụng thực tế của đường tròn ngoại tiếp/nội tiếp hoặc so sánh sâu hơn hai loại đường tròn này.'\u001b[0m\n",
       "\u001b[2;32m│   \u001b[0m\u001b[1m}\u001b[0m,\n",
       "\u001b[2;32m│   \u001b[0m\u001b[32m'question_or_description'\u001b[0m: \u001b[32m'**Phần Cốt lõi:**\\nMỗi nhóm nhận một phiếu học tập với nhiệm vụ cụ thể:\\n*   Nhóm A \u001b[0m\u001b[32m(\u001b[0m\u001b[32mĐường tròn ngoại tiếp\u001b[0m\u001b[32m)\u001b[0m\u001b[32m:\\n    *   Đọc tài liệu về đường tròn ngoại tiếp tam giác.\\n    *   Vẽ một tam giác bất kỳ và xác định tâm, bán kính đường tròn ngoại tiếp bằng thước và compa.\\n    *   Thảo luận và trả lời các câu hỏi:\\n        *   Đường tròn ngoại tiếp là gì?\\n        *   Tâm đường tròn ngoại tiếp tam giác được xác định như thế nào? \u001b[0m\u001b[32m(\u001b[0m\u001b[32mLà giao điểm của các đường gì?\u001b[0m\u001b[32m)\u001b[0m\u001b[32m\\n        *   Nêu tính chất của tâm đường tròn ngoại tiếp đối với các loại tam giác \u001b[0m\u001b[32m(\u001b[0m\u001b[32mnhọn, vuông, tù\u001b[0m\u001b[32m)\u001b[0m\u001b[32m.\\n*   Nhóm B \u001b[0m\u001b[32m(\u001b[0m\u001b[32mĐường tròn nội tiếp\u001b[0m\u001b[32m)\u001b[0m\u001b[32m:\\n    *   Đọc tài liệu về đường tròn nội tiếp tam giác.\\n    *   Vẽ một tam giác bất kỳ và xác định tâm, bán kính đường tròn nội tiếp bằng thước và compa.\\n    *   Thảo luận và trả lời các câu hỏi:\\n        *   Đường tròn nội tiếp là gì?\\n        *   Tâm đường tròn nội tiếp tam giác được xác định như thế nào? \u001b[0m\u001b[32m(\u001b[0m\u001b[32mLà giao điểm của các đường gì?\u001b[0m\u001b[32m)\u001b[0m\u001b[32m\\n        *   Nêu tính chất của tâm đường tròn nội tiếp đối với các cạnh của tam giác.\\n\\n**Phần Mở rộng \u001b[0m\u001b[32m(\u001b[0m\u001b[32mnếu còn thời gian\u001b[0m\u001b[32m)\u001b[0m\u001b[32m:**\\nĐối với các nhóm hoàn thành sớm nhiệm vụ cốt lõi:\\n*   Câu hỏi mở rộng 1: Nêu điểm giống và khác nhau cơ bản giữa đường tròn ngoại tiếp và đường tròn nội tiếp tam giác.\\n*   Câu hỏi mở rộng 2: Cho tam giác đều ABC, tâm đường tròn ngoại tiếp và tâm đường tròn nội tiếp có trùng nhau không? Giải thích.\\n*   Bài tập ứng dụng: Một mảnh vườn hình tam giác cần được tưới nước từ một vòi phun đặt tại tâm. Nếu vòi phun cần tưới đến tất cả các đỉnh của mảnh vườn, vòi phun nên đặt ở tâm đường tròn nào? Nếu vòi phun cần tưới đến mọi điểm trên các cạnh của mảnh vườn, vòi phun nên đặt ở tâm đường tròn nào?'\u001b[0m\n",
       "\u001b[1m}\u001b[0m\n"
      ]
     },
     "metadata": {},
     "output_type": "display_data"
    },
    {
     "data": {
      "text/html": [
       "<pre style=\"white-space:pre;overflow-x:auto;line-height:normal;font-family:Menlo,'DejaVu Sans Mono',consolas,'Courier New',monospace\">\n",
       "<span style=\"color: #808000; text-decoration-color: #808000; font-weight: bold\">------- Hoàn thành bước: activity_designer -------</span>\n",
       "</pre>\n"
      ],
      "text/plain": [
       "\n",
       "\u001b[1;33m------- Hoàn thành bước: activity_designer -------\u001b[0m\n"
      ]
     },
     "metadata": {},
     "output_type": "display_data"
    },
    {
     "data": {
      "text/html": [
       "<pre style=\"white-space:pre;overflow-x:auto;line-height:normal;font-family:Menlo,'DejaVu Sans Mono',consolas,'Courier New',monospace\">\n",
       "<span style=\"color: #008080; text-decoration-color: #008080; font-weight: bold\">&gt;</span> `Agent: Time-Budget Advisor` <span style=\"font-weight: bold\">(</span>v9.<span style=\"color: #008080; text-decoration-color: #008080; font-weight: bold\">7</span><span style=\"font-weight: bold\">)</span> đang phản biện nội dung và ngân sách thời gian<span style=\"color: #808000; text-decoration-color: #808000\">...</span>\n",
       "</pre>\n"
      ],
      "text/plain": [
       "\n",
       "\u001b[1;36m>\u001b[0m `Agent: Time-Budget Advisor` \u001b[1m(\u001b[0mv9.\u001b[1;36m7\u001b[0m\u001b[1m)\u001b[0m đang phản biện nội dung và ngân sách thời gian\u001b[33m...\u001b[0m\n"
      ]
     },
     "metadata": {},
     "output_type": "display_data"
    },
    {
     "data": {
      "text/html": [
       "<pre style=\"white-space:pre;overflow-x:auto;line-height:normal;font-family:Menlo,'DejaVu Sans Mono',consolas,'Courier New',monospace\"><span style=\"color: #808000; text-decoration-color: #808000; font-weight: bold\">⚠️  CỐ VẤN PHẢN BIỆN: [STRUCTURAL_FEEDBACK] Thời lượng </span><span style=\"color: #808000; text-decoration-color: #808000; font-weight: bold\">30</span><span style=\"color: #808000; text-decoration-color: #808000; font-weight: bold\"> phút cho hoạt động này có vẻ chưa tối ưu. Với việc yêu cầu</span>\n",
       "<span style=\"color: #808000; text-decoration-color: #808000; font-weight: bold\">học sinh đọc tài liệu, vẽ hình chính xác bằng thước và compa, sau đó thảo luận và trả lời nhiều câu hỏi chuyên sâu </span>\n",
       "<span style=\"color: #808000; text-decoration-color: #808000; font-weight: bold\">về cả đường tròn ngoại tiếp và nội tiếp, thời gian này có thể không đủ để các nhóm hoàn thành nhiệm vụ một cách kỹ </span>\n",
       "<span style=\"color: #808000; text-decoration-color: #808000; font-weight: bold\">lưỡng và đạt được sự hiểu biết sâu sắc. Đặc biệt, việc vẽ hình và xác định tâm/bán kính đòi hỏi sự tỉ mỉ và có thể </span>\n",
       "<span style=\"color: #808000; text-decoration-color: #808000; font-weight: bold\">mất nhiều thời gian hơn dự kiến, nhất là với học sinh yếu. Hoạt động này cần thêm thời gian để đảm bảo chất lượng </span>\n",
       "<span style=\"color: #808000; text-decoration-color: #808000; font-weight: bold\">học tập và cho phép giáo viên hỗ trợ các nhóm hiệu quả hơn. | SUGGESTED_DURATION: </span><span style=\"color: #808000; text-decoration-color: #808000; font-weight: bold\">45</span>\n",
       "</pre>\n"
      ],
      "text/plain": [
       "\u001b[1;33m⚠️  CỐ VẤN PHẢN BIỆN: \u001b[0m\u001b[1;33m[\u001b[0m\u001b[1;33mSTRUCTURAL_FEEDBACK\u001b[0m\u001b[1;33m]\u001b[0m\u001b[1;33m Thời lượng \u001b[0m\u001b[1;33m30\u001b[0m\u001b[1;33m phút cho hoạt động này có vẻ chưa tối ưu. Với việc yêu cầu\u001b[0m\n",
       "\u001b[1;33mhọc sinh đọc tài liệu, vẽ hình chính xác bằng thước và compa, sau đó thảo luận và trả lời nhiều câu hỏi chuyên sâu \u001b[0m\n",
       "\u001b[1;33mvề cả đường tròn ngoại tiếp và nội tiếp, thời gian này có thể không đủ để các nhóm hoàn thành nhiệm vụ một cách kỹ \u001b[0m\n",
       "\u001b[1;33mlưỡng và đạt được sự hiểu biết sâu sắc. Đặc biệt, việc vẽ hình và xác định tâm/bán kính đòi hỏi sự tỉ mỉ và có thể \u001b[0m\n",
       "\u001b[1;33mmất nhiều thời gian hơn dự kiến, nhất là với học sinh yếu. Hoạt động này cần thêm thời gian để đảm bảo chất lượng \u001b[0m\n",
       "\u001b[1;33mhọc tập và cho phép giáo viên hỗ trợ các nhóm hiệu quả hơn. | SUGGESTED_DURATION: \u001b[0m\u001b[1;33m45\u001b[0m\n"
      ]
     },
     "metadata": {},
     "output_type": "display_data"
    },
    {
     "data": {
      "text/html": [
       "<pre style=\"white-space:pre;overflow-x:auto;line-height:normal;font-family:Menlo,'DejaVu Sans Mono',consolas,'Courier New',monospace\">\n",
       "<span style=\"color: #008080; text-decoration-color: #008080; font-weight: bold\">&gt;</span> ROUTER <span style=\"font-weight: bold\">(</span>Validation<span style=\"font-weight: bold\">)</span>: Lỗi cấu trúc, yêu cầu LẬP KẾ HOẠCH LẠI.\n",
       "</pre>\n"
      ],
      "text/plain": [
       "\n",
       "\u001b[1;36m>\u001b[0m ROUTER \u001b[1m(\u001b[0mValidation\u001b[1m)\u001b[0m: Lỗi cấu trúc, yêu cầu LẬP KẾ HOẠCH LẠI.\n"
      ]
     },
     "metadata": {},
     "output_type": "display_data"
    },
    {
     "data": {
      "text/html": [
       "<pre style=\"white-space:pre;overflow-x:auto;line-height:normal;font-family:Menlo,'DejaVu Sans Mono',consolas,'Courier New',monospace\">\n",
       "<span style=\"color: #808000; text-decoration-color: #808000; font-weight: bold\">------- Hoàn thành bước: content_validator -------</span>\n",
       "</pre>\n"
      ],
      "text/plain": [
       "\n",
       "\u001b[1;33m------- Hoàn thành bước: content_validator -------\u001b[0m\n"
      ]
     },
     "metadata": {},
     "output_type": "display_data"
    },
    {
     "data": {
      "text/html": [
       "<pre style=\"white-space:pre;overflow-x:auto;line-height:normal;font-family:Menlo,'DejaVu Sans Mono',consolas,'Courier New',monospace\">\n",
       "<span style=\"color: #008080; text-decoration-color: #008080; font-weight: bold\">&gt;</span> `Node: Budget Balancer` đang phẫu thuật và cân bằng lại ngân sách<span style=\"color: #808000; text-decoration-color: #808000\">...</span>\n",
       "</pre>\n"
      ],
      "text/plain": [
       "\n",
       "\u001b[1;36m>\u001b[0m `Node: Budget Balancer` đang phẫu thuật và cân bằng lại ngân sách\u001b[33m...\u001b[0m\n"
      ]
     },
     "metadata": {},
     "output_type": "display_data"
    },
    {
     "data": {
      "text/html": [
       "<pre style=\"white-space:pre;overflow-x:auto;line-height:normal;font-family:Menlo,'DejaVu Sans Mono',consolas,'Courier New',monospace\"><span style=\"color: #008000; text-decoration-color: #008000; font-weight: bold\">✔️ Bước </span><span style=\"color: #008000; text-decoration-color: #008000; font-weight: bold\">1</span><span style=\"color: #008000; text-decoration-color: #008000; font-weight: bold\">: Cập nhật nhiệm vụ bị lỗi:</span>\n",
       "</pre>\n"
      ],
      "text/plain": [
       "\u001b[1;32m✔️ Bước \u001b[0m\u001b[1;32m1\u001b[0m\u001b[1;32m: Cập nhật nhiệm vụ bị lỗi:\u001b[0m\n"
      ]
     },
     "metadata": {},
     "output_type": "display_data"
    },
    {
     "data": {
      "text/html": [
       "<pre style=\"white-space:pre;overflow-x:auto;line-height:normal;font-family:Menlo,'DejaVu Sans Mono',consolas,'Courier New',monospace\"><span style=\"font-weight: bold\">{</span>\n",
       "<span style=\"color: #7fbf7f; text-decoration-color: #7fbf7f\">│   </span><span style=\"color: #008000; text-decoration-color: #008000\">'task_id'</span>: <span style=\"color: #008080; text-decoration-color: #008080; font-weight: bold\">1</span>,\n",
       "<span style=\"color: #7fbf7f; text-decoration-color: #7fbf7f\">│   </span><span style=\"color: #008000; text-decoration-color: #008000\">'from'</span>: <span style=\"color: #008080; text-decoration-color: #008080; font-weight: bold\">30</span>,\n",
       "<span style=\"color: #7fbf7f; text-decoration-color: #7fbf7f\">│   </span><span style=\"color: #008000; text-decoration-color: #008000\">'to'</span>: <span style=\"color: #008080; text-decoration-color: #008080; font-weight: bold\">45</span>,\n",
       "<span style=\"color: #7fbf7f; text-decoration-color: #7fbf7f\">│   </span><span style=\"color: #008000; text-decoration-color: #008000\">'delta'</span>: <span style=\"color: #008080; text-decoration-color: #008080; font-weight: bold\">15</span>\n",
       "<span style=\"font-weight: bold\">}</span>\n",
       "</pre>\n"
      ],
      "text/plain": [
       "\u001b[1m{\u001b[0m\n",
       "\u001b[2;32m│   \u001b[0m\u001b[32m'task_id'\u001b[0m: \u001b[1;36m1\u001b[0m,\n",
       "\u001b[2;32m│   \u001b[0m\u001b[32m'from'\u001b[0m: \u001b[1;36m30\u001b[0m,\n",
       "\u001b[2;32m│   \u001b[0m\u001b[32m'to'\u001b[0m: \u001b[1;36m45\u001b[0m,\n",
       "\u001b[2;32m│   \u001b[0m\u001b[32m'delta'\u001b[0m: \u001b[1;36m15\u001b[0m\n",
       "\u001b[1m}\u001b[0m\n"
      ]
     },
     "metadata": {},
     "output_type": "display_data"
    },
    {
     "data": {
      "text/html": [
       "<pre style=\"white-space:pre;overflow-x:auto;line-height:normal;font-family:Menlo,'DejaVu Sans Mono',consolas,'Courier New',monospace\"><span style=\"color: #808000; text-decoration-color: #808000; font-weight: bold\">⚠️  Không thể cân bằng hoàn toàn, hoạt động đệm đã ở mức tối thiểu.</span>\n",
       "</pre>\n"
      ],
      "text/plain": [
       "\u001b[1;33m⚠️  Không thể cân bằng hoàn toàn, hoạt động đệm đã ở mức tối thiểu.\u001b[0m\n"
      ]
     },
     "metadata": {},
     "output_type": "display_data"
    },
    {
     "data": {
      "text/html": [
       "<pre style=\"white-space:pre;overflow-x:auto;line-height:normal;font-family:Menlo,'DejaVu Sans Mono',consolas,'Courier New',monospace\"><span style=\"color: #008000; text-decoration-color: #008000; font-weight: bold\">✔️ Bước </span><span style=\"color: #008000; text-decoration-color: #008000; font-weight: bold\">2</span><span style=\"color: #008000; text-decoration-color: #008000; font-weight: bold\">: Cân bằng lại ngân sách ở hoạt động đệm:</span>\n",
       "</pre>\n"
      ],
      "text/plain": [
       "\u001b[1;32m✔️ Bước \u001b[0m\u001b[1;32m2\u001b[0m\u001b[1;32m: Cân bằng lại ngân sách ở hoạt động đệm:\u001b[0m\n"
      ]
     },
     "metadata": {},
     "output_type": "display_data"
    },
    {
     "data": {
      "text/html": [
       "<pre style=\"white-space:pre;overflow-x:auto;line-height:normal;font-family:Menlo,'DejaVu Sans Mono',consolas,'Courier New',monospace\"><span style=\"font-weight: bold\">{</span>\n",
       "<span style=\"color: #7fbf7f; text-decoration-color: #7fbf7f\">│   </span><span style=\"color: #008000; text-decoration-color: #008000\">'task_id'</span>: <span style=\"color: #008080; text-decoration-color: #008080; font-weight: bold\">3</span>,\n",
       "<span style=\"color: #7fbf7f; text-decoration-color: #7fbf7f\">│   </span><span style=\"color: #008000; text-decoration-color: #008000\">'from'</span>: <span style=\"color: #008080; text-decoration-color: #008080; font-weight: bold\">10</span>,\n",
       "<span style=\"color: #7fbf7f; text-decoration-color: #7fbf7f\">│   </span><span style=\"color: #008000; text-decoration-color: #008000\">'to'</span>: <span style=\"color: #008080; text-decoration-color: #008080; font-weight: bold\">5</span>\n",
       "<span style=\"font-weight: bold\">}</span>\n",
       "</pre>\n"
      ],
      "text/plain": [
       "\u001b[1m{\u001b[0m\n",
       "\u001b[2;32m│   \u001b[0m\u001b[32m'task_id'\u001b[0m: \u001b[1;36m3\u001b[0m,\n",
       "\u001b[2;32m│   \u001b[0m\u001b[32m'from'\u001b[0m: \u001b[1;36m10\u001b[0m,\n",
       "\u001b[2;32m│   \u001b[0m\u001b[32m'to'\u001b[0m: \u001b[1;36m5\u001b[0m\n",
       "\u001b[1m}\u001b[0m\n"
      ]
     },
     "metadata": {},
     "output_type": "display_data"
    },
    {
     "data": {
      "text/html": [
       "<pre style=\"white-space:pre;overflow-x:auto;line-height:normal;font-family:Menlo,'DejaVu Sans Mono',consolas,'Courier New',monospace\">\n",
       "<span style=\"color: #808000; text-decoration-color: #808000; font-weight: bold\">------- Hoàn thành bước: budget_balancer -------</span>\n",
       "</pre>\n"
      ],
      "text/plain": [
       "\n",
       "\u001b[1;33m------- Hoàn thành bước: budget_balancer -------\u001b[0m\n"
      ]
     },
     "metadata": {},
     "output_type": "display_data"
    },
    {
     "data": {
      "text/html": [
       "<pre style=\"white-space:pre;overflow-x:auto;line-height:normal;font-family:Menlo,'DejaVu Sans Mono',consolas,'Courier New',monospace\">\n",
       "<span style=\"color: #008080; text-decoration-color: #008080; font-weight: bold\">&gt;</span> `Agent: Task Dispatcher` đang giao việc<span style=\"color: #808000; text-decoration-color: #808000\">...</span>\n",
       "</pre>\n"
      ],
      "text/plain": [
       "\n",
       "\u001b[1;36m>\u001b[0m `Agent: Task Dispatcher` đang giao việc\u001b[33m...\u001b[0m\n"
      ]
     },
     "metadata": {},
     "output_type": "display_data"
    },
    {
     "data": {
      "text/html": [
       "<pre style=\"white-space:pre;overflow-x:auto;line-height:normal;font-family:Menlo,'DejaVu Sans Mono',consolas,'Courier New',monospace\">\n",
       "<span style=\"color: #008080; text-decoration-color: #008080; font-weight: bold\">&gt;</span> --- 🚚 `Dispatcher`: Giao nhiệm vụ cho `activity_designer`.\n",
       "</pre>\n"
      ],
      "text/plain": [
       "\n",
       "\u001b[1;36m>\u001b[0m --- 🚚 `Dispatcher`: Giao nhiệm vụ cho `activity_designer`.\n"
      ]
     },
     "metadata": {},
     "output_type": "display_data"
    },
    {
     "data": {
      "text/html": [
       "<pre style=\"white-space:pre;overflow-x:auto;line-height:normal;font-family:Menlo,'DejaVu Sans Mono',consolas,'Courier New',monospace\">\n",
       "<span style=\"color: #808000; text-decoration-color: #808000; font-weight: bold\">------- Hoàn thành bước: task_dispatcher -------</span>\n",
       "</pre>\n"
      ],
      "text/plain": [
       "\n",
       "\u001b[1;33m------- Hoàn thành bước: task_dispatcher -------\u001b[0m\n"
      ]
     },
     "metadata": {},
     "output_type": "display_data"
    },
    {
     "data": {
      "text/html": [
       "<pre style=\"white-space:pre;overflow-x:auto;line-height:normal;font-family:Menlo,'DejaVu Sans Mono',consolas,'Courier New',monospace\">\n",
       "<span style=\"color: #008080; text-decoration-color: #008080; font-weight: bold\">&gt;</span> `Agent: Activity Designer` <span style=\"font-weight: bold\">(</span>v9.<span style=\"color: #008080; text-decoration-color: #008080; font-weight: bold\">7</span><span style=\"font-weight: bold\">)</span> đang tạo nội dung linh hoạt <span style=\"font-weight: bold\">(</span>Lõi + Mở rộng<span style=\"font-weight: bold\">)</span><span style=\"color: #808000; text-decoration-color: #808000\">...</span>\n",
       "</pre>\n"
      ],
      "text/plain": [
       "\n",
       "\u001b[1;36m>\u001b[0m `Agent: Activity Designer` \u001b[1m(\u001b[0mv9.\u001b[1;36m7\u001b[0m\u001b[1m)\u001b[0m đang tạo nội dung linh hoạt \u001b[1m(\u001b[0mLõi + Mở rộng\u001b[1m)\u001b[0m\u001b[33m...\u001b[0m\n"
      ]
     },
     "metadata": {},
     "output_type": "display_data"
    },
    {
     "data": {
      "text/html": [
       "<pre style=\"white-space:pre;overflow-x:auto;line-height:normal;font-family:Menlo,'DejaVu Sans Mono',consolas,'Courier New',monospace\"><span style=\"color: #008000; text-decoration-color: #008000; font-weight: bold\">✔️ Nội dung do Activity Designer tạo ra (Linh hoạt):</span>\n",
       "</pre>\n"
      ],
      "text/plain": [
       "\u001b[1;32m✔️ Nội dung do Activity Designer tạo ra \u001b[0m\u001b[1;32m(\u001b[0m\u001b[1;32mLinh hoạt\u001b[0m\u001b[1;32m)\u001b[0m\u001b[1;32m:\u001b[0m\n"
      ]
     },
     "metadata": {},
     "output_type": "display_data"
    },
    {
     "data": {
      "text/html": [
       "<pre style=\"white-space:pre;overflow-x:auto;line-height:normal;font-family:Menlo,'DejaVu Sans Mono',consolas,'Courier New',monospace\"><span style=\"font-weight: bold\">{</span>\n",
       "<span style=\"color: #7fbf7f; text-decoration-color: #7fbf7f\">│   </span><span style=\"color: #008000; text-decoration-color: #008000\">'activity_name'</span>: <span style=\"color: #008000; text-decoration-color: #008000\">'Xây dựng kiến thức qua hoạt động nhóm'</span>,\n",
       "<span style=\"color: #7fbf7f; text-decoration-color: #7fbf7f\">│   </span><span style=\"color: #008000; text-decoration-color: #008000\">'activity_type'</span>: <span style=\"color: #008000; text-decoration-color: #008000\">'Thảo luận nhóm'</span>,\n",
       "<span style=\"color: #7fbf7f; text-decoration-color: #7fbf7f\">│   </span><span style=\"color: #008000; text-decoration-color: #008000\">'duration_minutes'</span>: <span style=\"color: #008080; text-decoration-color: #008080; font-weight: bold\">45</span>,\n",
       "<span style=\"color: #7fbf7f; text-decoration-color: #7fbf7f\">│   </span><span style=\"color: #008000; text-decoration-color: #008000\">'teacher_actions'</span>: <span style=\"font-weight: bold\">[</span>\n",
       "<span style=\"color: #7fbf7f; text-decoration-color: #7fbf7f\">│   │   </span><span style=\"color: #008000; text-decoration-color: #008000\">'Phân chia học sinh thành các nhóm, giao phiếu học tập và tài liệu tham khảo (nếu có).'</span>,\n",
       "<span style=\"color: #7fbf7f; text-decoration-color: #7fbf7f\">│   │   </span><span style=\"color: #008000; text-decoration-color: #008000\">'Di chuyển liên tục giữa các nhóm, quan sát quá trình thảo luận và làm việc của học sinh.'</span>,\n",
       "<span style=\"color: #7fbf7f; text-decoration-color: #7fbf7f\">│   │   </span><span style=\"color: #008000; text-decoration-color: #008000\">'Lắng nghe các câu hỏi của học sinh và đưa ra gợi ý, hướng dẫn kịp thời, đặc biệt ưu tiên các nhóm có học sinh yếu.'</span>,\n",
       "<span style=\"color: #7fbf7f; text-decoration-color: #7fbf7f\">│   │   </span><span style=\"color: #008000; text-decoration-color: #008000\">'Kiểm tra sự chính xác của các hình vẽ và cách trình bày của các nhóm.'</span>,\n",
       "<span style=\"color: #7fbf7f; text-decoration-color: #7fbf7f\">│   │   </span><span style=\"color: #008000; text-decoration-color: #008000\">'Đặt câu hỏi gợi mở để khuyến khích tư duy sâu hơn và đảm bảo tất cả thành viên đều tham gia.'</span>,\n",
       "<span style=\"color: #7fbf7f; text-decoration-color: #7fbf7f\">│   │   </span><span style=\"color: #008000; text-decoration-color: #008000\">'Quản lý thời gian để đảm bảo các nhóm hoàn thành nhiệm vụ cốt lõi trong khung thời gian cho phép.'</span>\n",
       "<span style=\"color: #7fbf7f; text-decoration-color: #7fbf7f\">│   </span><span style=\"font-weight: bold\">]</span>,\n",
       "<span style=\"color: #7fbf7f; text-decoration-color: #7fbf7f\">│   </span><span style=\"color: #008000; text-decoration-color: #008000\">'core_component'</span>: <span style=\"color: #008000; text-decoration-color: #008000\">'Mỗi nhóm (3-4 học sinh) nhận một phiếu học tập chuyên sâu về một loại đường tròn:\\n- Nhóm 1, 3, 5: Tìm hiểu về Đường tròn ngoại tiếp tam giác.\\n- Nhóm 2, 4, 6: Tìm hiểu về Đường tròn nội tiếp tam giác.\\nNhiệm vụ của mỗi nhóm là:\\n1.  Đọc tài liệu (sách giáo khoa, tài liệu bổ trợ) để nắm vững khái niệm, định nghĩa.\\n2.  Vẽ hình minh họa chính xác một tam giác và đường tròn tương ứng (ngoại tiếp hoặc nội tiếp).\\n3.  Thảo luận và trả lời các câu hỏi trên phiếu học tập:\\n    a.  Đường tròn ngoại tiếp/nội tiếp là gì? Tâm và bán kính của nó được xác định như thế nào?\\n    b.  Nêu các tính chất cơ bản của đường tròn ngoại tiếp/nội tiếp tam giác.\\n    c.  Cho ví dụ cụ thể về cách xác định tâm và bán kính của đường tròn ngoại tiếp/nội tiếp một tam giác vuông/đều (tùy theo phiếu).\\nThời gian thực hiện: 35 phút.'</span>,\n",
       "<span style=\"color: #7fbf7f; text-decoration-color: #7fbf7f\">│   </span><span style=\"color: #008000; text-decoration-color: #008000\">'extension_component'</span>: <span style=\"color: #008000; text-decoration-color: #008000\">\"Nếu còn thời gian (khoảng 10 phút cuối), các nhóm có thể trao đổi phiếu học tập với nhau để tìm hiểu về loại đường tròn còn lại. Hoặc, giáo viên có thể yêu cầu các nhóm giải một bài tập ứng dụng nhỏ liên quan đến cả hai loại đường tròn, ví dụ: 'Cho tam giác ABC có đường tròn ngoại tiếp (O;R) và đường tròn nội tiếp (I;r). Hãy nêu một số mối quan hệ giữa R và r (nếu có)'.\"</span>,\n",
       "<span style=\"color: #7fbf7f; text-decoration-color: #7fbf7f\">│   </span><span style=\"color: #008000; text-decoration-color: #008000\">'solution_guide'</span>: <span style=\"color: #008000; text-decoration-color: #008000\">'Phiếu học tập cần có các nội dung chính:\\n-   **Đường tròn ngoại tiếp:** Là đường tròn đi qua ba đỉnh của tam giác. Tâm là giao điểm của ba đường trung trực của tam giác. Bán kính R.\\n-   **Đường tròn nội tiếp:** Là đường tròn tiếp xúc với ba cạnh của tam giác. Tâm là giao điểm của ba đường phân giác trong của tam giác. Bán kính r.\\n-   **Tính chất:** Tâm đường tròn ngoại tiếp cách đều ba đỉnh. Tâm đường tròn nội tiếp cách đều ba cạnh.\\n-   **Gợi mở:** Đối với tam giác vuông, tâm đường tròn ngoại tiếp là trung điểm cạnh huyền. Đối với tam giác đều, tâm đường tròn ngoại tiếp và nội tiếp trùng nhau.'</span>,\n",
       "<span style=\"color: #7fbf7f; text-decoration-color: #7fbf7f\">│   </span><span style=\"color: #008000; text-decoration-color: #008000\">'differentiation'</span>: <span style=\"font-weight: bold\">{</span>\n",
       "<span style=\"color: #7fbf7f; text-decoration-color: #7fbf7f\">│   │   </span><span style=\"color: #008000; text-decoration-color: #008000\">'for_struggling_students'</span>: <span style=\"color: #008000; text-decoration-color: #008000\">'Giáo viên dành nhiều thời gian hơn để hỗ trợ trực tiếp các nhóm có học sinh yếu, cung cấp phiếu học tập có sẵn các phần điền vào chỗ trống hoặc hình vẽ mẫu để các em dễ dàng hoàn thành. Gợi ý các bạn trong nhóm hỗ trợ lẫn nhau, chia nhỏ nhiệm vụ để mỗi em có thể đóng góp.'</span>,\n",
       "<span style=\"color: #7fbf7f; text-decoration-color: #7fbf7f\">│   │   </span><span style=\"color: #008000; text-decoration-color: #008000\">'for_advanced_students'</span>: <span style=\"color: #008000; text-decoration-color: #008000\">\"Đối với các nhóm hoàn thành nhanh, giáo viên có thể giao thêm câu hỏi mở rộng như: 'Nêu mối liên hệ giữa tâm đường tròn ngoại tiếp/nội tiếp với các đường đặc biệt trong tam giác (trung tuyến, phân giác, đường cao, trung trực)?' hoặc 'Liệu có phải mọi tứ giác đều có đường tròn ngoại tiếp/nội tiếp không? Tại sao?'. Khuyến khích các em chuẩn bị một phần trình bày ngắn gọn về một tính chất nâng cao cho cả lớp.\"</span>\n",
       "<span style=\"color: #7fbf7f; text-decoration-color: #7fbf7f\">│   </span><span style=\"font-weight: bold\">}</span>,\n",
       "<span style=\"color: #7fbf7f; text-decoration-color: #7fbf7f\">│   </span><span style=\"color: #008000; text-decoration-color: #008000\">'question_or_description'</span>: <span style=\"color: #008000; text-decoration-color: #008000\">\"**Phần Cốt lõi:**\\nMỗi nhóm (3-4 học sinh) nhận một phiếu học tập chuyên sâu về một loại đường tròn:\\n- Nhóm 1, 3, 5: Tìm hiểu về Đường tròn ngoại tiếp tam giác.\\n- Nhóm 2, 4, 6: Tìm hiểu về Đường tròn nội tiếp tam giác.\\nNhiệm vụ của mỗi nhóm là:\\n1.  Đọc tài liệu (sách giáo khoa, tài liệu bổ trợ) để nắm vững khái niệm, định nghĩa.\\n2.  Vẽ hình minh họa chính xác một tam giác và đường tròn tương ứng (ngoại tiếp hoặc nội tiếp).\\n3.  Thảo luận và trả lời các câu hỏi trên phiếu học tập:\\n    a.  Đường tròn ngoại tiếp/nội tiếp là gì? Tâm và bán kính của nó được xác định như thế nào?\\n    b.  Nêu các tính chất cơ bản của đường tròn ngoại tiếp/nội tiếp tam giác.\\n    c.  Cho ví dụ cụ thể về cách xác định tâm và bán kính của đường tròn ngoại tiếp/nội tiếp một tam giác vuông/đều (tùy theo phiếu).\\nThời gian thực hiện: 35 phút.\\n\\n**Phần Mở rộng (nếu còn thời gian):**\\nNếu còn thời gian (khoảng 10 phút cuối), các nhóm có thể trao đổi phiếu học tập với nhau để tìm hiểu về loại đường tròn còn lại. Hoặc, giáo viên có thể yêu cầu các nhóm giải một bài tập ứng dụng nhỏ liên quan đến cả hai loại đường tròn, ví dụ: 'Cho tam giác ABC có đường tròn ngoại tiếp (O;R) và đường tròn nội tiếp (I;r). Hãy nêu một số mối quan hệ giữa R và r (nếu có)'.\"</span>\n",
       "<span style=\"font-weight: bold\">}</span>\n",
       "</pre>\n"
      ],
      "text/plain": [
       "\u001b[1m{\u001b[0m\n",
       "\u001b[2;32m│   \u001b[0m\u001b[32m'activity_name'\u001b[0m: \u001b[32m'Xây dựng kiến thức qua hoạt động nhóm'\u001b[0m,\n",
       "\u001b[2;32m│   \u001b[0m\u001b[32m'activity_type'\u001b[0m: \u001b[32m'Thảo luận nhóm'\u001b[0m,\n",
       "\u001b[2;32m│   \u001b[0m\u001b[32m'duration_minutes'\u001b[0m: \u001b[1;36m45\u001b[0m,\n",
       "\u001b[2;32m│   \u001b[0m\u001b[32m'teacher_actions'\u001b[0m: \u001b[1m[\u001b[0m\n",
       "\u001b[2;32m│   │   \u001b[0m\u001b[32m'Phân chia học sinh thành các nhóm, giao phiếu học tập và tài liệu tham khảo \u001b[0m\u001b[32m(\u001b[0m\u001b[32mnếu có\u001b[0m\u001b[32m)\u001b[0m\u001b[32m.'\u001b[0m,\n",
       "\u001b[2;32m│   │   \u001b[0m\u001b[32m'Di chuyển liên tục giữa các nhóm, quan sát quá trình thảo luận và làm việc của học sinh.'\u001b[0m,\n",
       "\u001b[2;32m│   │   \u001b[0m\u001b[32m'Lắng nghe các câu hỏi của học sinh và đưa ra gợi ý, hướng dẫn kịp thời, đặc biệt ưu tiên các nhóm có học sinh yếu.'\u001b[0m,\n",
       "\u001b[2;32m│   │   \u001b[0m\u001b[32m'Kiểm tra sự chính xác của các hình vẽ và cách trình bày của các nhóm.'\u001b[0m,\n",
       "\u001b[2;32m│   │   \u001b[0m\u001b[32m'Đặt câu hỏi gợi mở để khuyến khích tư duy sâu hơn và đảm bảo tất cả thành viên đều tham gia.'\u001b[0m,\n",
       "\u001b[2;32m│   │   \u001b[0m\u001b[32m'Quản lý thời gian để đảm bảo các nhóm hoàn thành nhiệm vụ cốt lõi trong khung thời gian cho phép.'\u001b[0m\n",
       "\u001b[2;32m│   \u001b[0m\u001b[1m]\u001b[0m,\n",
       "\u001b[2;32m│   \u001b[0m\u001b[32m'core_component'\u001b[0m: \u001b[32m'Mỗi nhóm \u001b[0m\u001b[32m(\u001b[0m\u001b[32m3-4 học sinh\u001b[0m\u001b[32m)\u001b[0m\u001b[32m nhận một phiếu học tập chuyên sâu về một loại đường tròn:\\n- Nhóm 1, 3, 5: Tìm hiểu về Đường tròn ngoại tiếp tam giác.\\n- Nhóm 2, 4, 6: Tìm hiểu về Đường tròn nội tiếp tam giác.\\nNhiệm vụ của mỗi nhóm là:\\n1.  Đọc tài liệu \u001b[0m\u001b[32m(\u001b[0m\u001b[32msách giáo khoa, tài liệu bổ trợ\u001b[0m\u001b[32m)\u001b[0m\u001b[32m để nắm vững khái niệm, định nghĩa.\\n2.  Vẽ hình minh họa chính xác một tam giác và đường tròn tương ứng \u001b[0m\u001b[32m(\u001b[0m\u001b[32mngoại tiếp hoặc nội tiếp\u001b[0m\u001b[32m)\u001b[0m\u001b[32m.\\n3.  Thảo luận và trả lời các câu hỏi trên phiếu học tập:\\n    a.  Đường tròn ngoại tiếp/nội tiếp là gì? Tâm và bán kính của nó được xác định như thế nào?\\n    b.  Nêu các tính chất cơ bản của đường tròn ngoại tiếp/nội tiếp tam giác.\\n    c.  Cho ví dụ cụ thể về cách xác định tâm và bán kính của đường tròn ngoại tiếp/nội tiếp một tam giác vuông/đều \u001b[0m\u001b[32m(\u001b[0m\u001b[32mtùy theo phiếu\u001b[0m\u001b[32m)\u001b[0m\u001b[32m.\\nThời gian thực hiện: 35 phút.'\u001b[0m,\n",
       "\u001b[2;32m│   \u001b[0m\u001b[32m'extension_component'\u001b[0m: \u001b[32m\"Nếu còn thời gian \u001b[0m\u001b[32m(\u001b[0m\u001b[32mkhoảng 10 phút cuối\u001b[0m\u001b[32m)\u001b[0m\u001b[32m, các nhóm có thể trao đổi phiếu học tập với nhau để tìm hiểu về loại đường tròn còn lại. Hoặc, giáo viên có thể yêu cầu các nhóm giải một bài tập ứng dụng nhỏ liên quan đến cả hai loại đường tròn, ví dụ: 'Cho tam giác ABC có đường tròn ngoại tiếp \u001b[0m\u001b[32m(\u001b[0m\u001b[32mO;R\u001b[0m\u001b[32m)\u001b[0m\u001b[32m và đường tròn nội tiếp \u001b[0m\u001b[32m(\u001b[0m\u001b[32mI;r\u001b[0m\u001b[32m)\u001b[0m\u001b[32m. Hãy nêu một số mối quan hệ giữa R và r \u001b[0m\u001b[32m(\u001b[0m\u001b[32mnếu có\u001b[0m\u001b[32m)\u001b[0m\u001b[32m'.\"\u001b[0m,\n",
       "\u001b[2;32m│   \u001b[0m\u001b[32m'solution_guide'\u001b[0m: \u001b[32m'Phiếu học tập cần có các nội dung chính:\\n-   **Đường tròn ngoại tiếp:** Là đường tròn đi qua ba đỉnh của tam giác. Tâm là giao điểm của ba đường trung trực của tam giác. Bán kính R.\\n-   **Đường tròn nội tiếp:** Là đường tròn tiếp xúc với ba cạnh của tam giác. Tâm là giao điểm của ba đường phân giác trong của tam giác. Bán kính r.\\n-   **Tính chất:** Tâm đường tròn ngoại tiếp cách đều ba đỉnh. Tâm đường tròn nội tiếp cách đều ba cạnh.\\n-   **Gợi mở:** Đối với tam giác vuông, tâm đường tròn ngoại tiếp là trung điểm cạnh huyền. Đối với tam giác đều, tâm đường tròn ngoại tiếp và nội tiếp trùng nhau.'\u001b[0m,\n",
       "\u001b[2;32m│   \u001b[0m\u001b[32m'differentiation'\u001b[0m: \u001b[1m{\u001b[0m\n",
       "\u001b[2;32m│   │   \u001b[0m\u001b[32m'for_struggling_students'\u001b[0m: \u001b[32m'Giáo viên dành nhiều thời gian hơn để hỗ trợ trực tiếp các nhóm có học sinh yếu, cung cấp phiếu học tập có sẵn các phần điền vào chỗ trống hoặc hình vẽ mẫu để các em dễ dàng hoàn thành. Gợi ý các bạn trong nhóm hỗ trợ lẫn nhau, chia nhỏ nhiệm vụ để mỗi em có thể đóng góp.'\u001b[0m,\n",
       "\u001b[2;32m│   │   \u001b[0m\u001b[32m'for_advanced_students'\u001b[0m: \u001b[32m\"Đối với các nhóm hoàn thành nhanh, giáo viên có thể giao thêm câu hỏi mở rộng như: 'Nêu mối liên hệ giữa tâm đường tròn ngoại tiếp/nội tiếp với các đường đặc biệt trong tam giác \u001b[0m\u001b[32m(\u001b[0m\u001b[32mtrung tuyến, phân giác, đường cao, trung trực\u001b[0m\u001b[32m)\u001b[0m\u001b[32m?' hoặc 'Liệu có phải mọi tứ giác đều có đường tròn ngoại tiếp/nội tiếp không? Tại sao?'. Khuyến khích các em chuẩn bị một phần trình bày ngắn gọn về một tính chất nâng cao cho cả lớp.\"\u001b[0m\n",
       "\u001b[2;32m│   \u001b[0m\u001b[1m}\u001b[0m,\n",
       "\u001b[2;32m│   \u001b[0m\u001b[32m'question_or_description'\u001b[0m: \u001b[32m\"**Phần Cốt lõi:**\\nMỗi nhóm \u001b[0m\u001b[32m(\u001b[0m\u001b[32m3-4 học sinh\u001b[0m\u001b[32m)\u001b[0m\u001b[32m nhận một phiếu học tập chuyên sâu về một loại đường tròn:\\n- Nhóm 1, 3, 5: Tìm hiểu về Đường tròn ngoại tiếp tam giác.\\n- Nhóm 2, 4, 6: Tìm hiểu về Đường tròn nội tiếp tam giác.\\nNhiệm vụ của mỗi nhóm là:\\n1.  Đọc tài liệu \u001b[0m\u001b[32m(\u001b[0m\u001b[32msách giáo khoa, tài liệu bổ trợ\u001b[0m\u001b[32m)\u001b[0m\u001b[32m để nắm vững khái niệm, định nghĩa.\\n2.  Vẽ hình minh họa chính xác một tam giác và đường tròn tương ứng \u001b[0m\u001b[32m(\u001b[0m\u001b[32mngoại tiếp hoặc nội tiếp\u001b[0m\u001b[32m)\u001b[0m\u001b[32m.\\n3.  Thảo luận và trả lời các câu hỏi trên phiếu học tập:\\n    a.  Đường tròn ngoại tiếp/nội tiếp là gì? Tâm và bán kính của nó được xác định như thế nào?\\n    b.  Nêu các tính chất cơ bản của đường tròn ngoại tiếp/nội tiếp tam giác.\\n    c.  Cho ví dụ cụ thể về cách xác định tâm và bán kính của đường tròn ngoại tiếp/nội tiếp một tam giác vuông/đều \u001b[0m\u001b[32m(\u001b[0m\u001b[32mtùy theo phiếu\u001b[0m\u001b[32m)\u001b[0m\u001b[32m.\\nThời gian thực hiện: 35 phút.\\n\\n**Phần Mở rộng \u001b[0m\u001b[32m(\u001b[0m\u001b[32mnếu còn thời gian\u001b[0m\u001b[32m)\u001b[0m\u001b[32m:**\\nNếu còn thời gian \u001b[0m\u001b[32m(\u001b[0m\u001b[32mkhoảng 10 phút cuối\u001b[0m\u001b[32m)\u001b[0m\u001b[32m, các nhóm có thể trao đổi phiếu học tập với nhau để tìm hiểu về loại đường tròn còn lại. Hoặc, giáo viên có thể yêu cầu các nhóm giải một bài tập ứng dụng nhỏ liên quan đến cả hai loại đường tròn, ví dụ: 'Cho tam giác ABC có đường tròn ngoại tiếp \u001b[0m\u001b[32m(\u001b[0m\u001b[32mO;R\u001b[0m\u001b[32m)\u001b[0m\u001b[32m và đường tròn nội tiếp \u001b[0m\u001b[32m(\u001b[0m\u001b[32mI;r\u001b[0m\u001b[32m)\u001b[0m\u001b[32m. Hãy nêu một số mối quan hệ giữa R và r \u001b[0m\u001b[32m(\u001b[0m\u001b[32mnếu có\u001b[0m\u001b[32m)\u001b[0m\u001b[32m'.\"\u001b[0m\n",
       "\u001b[1m}\u001b[0m\n"
      ]
     },
     "metadata": {},
     "output_type": "display_data"
    },
    {
     "data": {
      "text/html": [
       "<pre style=\"white-space:pre;overflow-x:auto;line-height:normal;font-family:Menlo,'DejaVu Sans Mono',consolas,'Courier New',monospace\">\n",
       "<span style=\"color: #808000; text-decoration-color: #808000; font-weight: bold\">------- Hoàn thành bước: activity_designer -------</span>\n",
       "</pre>\n"
      ],
      "text/plain": [
       "\n",
       "\u001b[1;33m------- Hoàn thành bước: activity_designer -------\u001b[0m\n"
      ]
     },
     "metadata": {},
     "output_type": "display_data"
    },
    {
     "data": {
      "text/html": [
       "<pre style=\"white-space:pre;overflow-x:auto;line-height:normal;font-family:Menlo,'DejaVu Sans Mono',consolas,'Courier New',monospace\">\n",
       "<span style=\"color: #008080; text-decoration-color: #008080; font-weight: bold\">&gt;</span> `Agent: Time-Budget Advisor` <span style=\"font-weight: bold\">(</span>v9.<span style=\"color: #008080; text-decoration-color: #008080; font-weight: bold\">7</span><span style=\"font-weight: bold\">)</span> đang phản biện nội dung và ngân sách thời gian<span style=\"color: #808000; text-decoration-color: #808000\">...</span>\n",
       "</pre>\n"
      ],
      "text/plain": [
       "\n",
       "\u001b[1;36m>\u001b[0m `Agent: Time-Budget Advisor` \u001b[1m(\u001b[0mv9.\u001b[1;36m7\u001b[0m\u001b[1m)\u001b[0m đang phản biện nội dung và ngân sách thời gian\u001b[33m...\u001b[0m\n"
      ]
     },
     "metadata": {},
     "output_type": "display_data"
    },
    {
     "data": {
      "text/html": [
       "<pre style=\"white-space:pre;overflow-x:auto;line-height:normal;font-family:Menlo,'DejaVu Sans Mono',consolas,'Courier New',monospace\"><span style=\"color: #808000; text-decoration-color: #808000; font-weight: bold\">⚠️  CỐ VẤN PHẢN BIỆN: [STRUCTURAL_FEEDBACK] Lỗi phân bổ ngân sách! Thời gian đề xuất (</span><span style=\"color: #808000; text-decoration-color: #808000; font-weight: bold\">45</span><span style=\"color: #808000; text-decoration-color: #808000; font-weight: bold\"> phút) quá lớn so với thời </span>\n",
       "<span style=\"color: #808000; text-decoration-color: #808000; font-weight: bold\">gian còn lại (</span><span style=\"color: #808000; text-decoration-color: #808000; font-weight: bold\">70</span><span style=\"color: #808000; text-decoration-color: #808000; font-weight: bold\"> phút). Hoạt động này chiếm hơn </span><span style=\"color: #808000; text-decoration-color: #808000; font-weight: bold\">60</span><span style=\"color: #808000; text-decoration-color: #808000; font-weight: bold\">% thời gian còn lại, có thể ảnh hưởng đến việc phân bổ thời gian </span>\n",
       "<span style=\"color: #808000; text-decoration-color: #808000; font-weight: bold\">cho các hoạt động tiếp theo trong buổi học. Cần thiết kế lại hoạt động này trong khoảng </span><span style=\"color: #808000; text-decoration-color: #808000; font-weight: bold\">35</span><span style=\"color: #808000; text-decoration-color: #808000; font-weight: bold\"> phút để đảm bảo tiến độ </span>\n",
       "<span style=\"color: #808000; text-decoration-color: #808000; font-weight: bold\">và cân bằng thời gian cho toàn bộ buổi học. | SUGGESTED_DURATION: </span><span style=\"color: #808000; text-decoration-color: #808000; font-weight: bold\">35</span>\n",
       "</pre>\n"
      ],
      "text/plain": [
       "\u001b[1;33m⚠️  CỐ VẤN PHẢN BIỆN: \u001b[0m\u001b[1;33m[\u001b[0m\u001b[1;33mSTRUCTURAL_FEEDBACK\u001b[0m\u001b[1;33m]\u001b[0m\u001b[1;33m Lỗi phân bổ ngân sách! Thời gian đề xuất \u001b[0m\u001b[1;33m(\u001b[0m\u001b[1;33m45\u001b[0m\u001b[1;33m phút\u001b[0m\u001b[1;33m)\u001b[0m\u001b[1;33m quá lớn so với thời \u001b[0m\n",
       "\u001b[1;33mgian còn lại \u001b[0m\u001b[1;33m(\u001b[0m\u001b[1;33m70\u001b[0m\u001b[1;33m phút\u001b[0m\u001b[1;33m)\u001b[0m\u001b[1;33m. Hoạt động này chiếm hơn \u001b[0m\u001b[1;33m60\u001b[0m\u001b[1;33m% thời gian còn lại, có thể ảnh hưởng đến việc phân bổ thời gian \u001b[0m\n",
       "\u001b[1;33mcho các hoạt động tiếp theo trong buổi học. Cần thiết kế lại hoạt động này trong khoảng \u001b[0m\u001b[1;33m35\u001b[0m\u001b[1;33m phút để đảm bảo tiến độ \u001b[0m\n",
       "\u001b[1;33mvà cân bằng thời gian cho toàn bộ buổi học. | SUGGESTED_DURATION: \u001b[0m\u001b[1;33m35\u001b[0m\n"
      ]
     },
     "metadata": {},
     "output_type": "display_data"
    },
    {
     "data": {
      "text/html": [
       "<pre style=\"white-space:pre;overflow-x:auto;line-height:normal;font-family:Menlo,'DejaVu Sans Mono',consolas,'Courier New',monospace\">\n",
       "<span style=\"color: #008080; text-decoration-color: #008080; font-weight: bold\">&gt;</span> ROUTER <span style=\"font-weight: bold\">(</span>Validation<span style=\"font-weight: bold\">)</span>: Lỗi cấu trúc, yêu cầu LẬP KẾ HOẠCH LẠI.\n",
       "</pre>\n"
      ],
      "text/plain": [
       "\n",
       "\u001b[1;36m>\u001b[0m ROUTER \u001b[1m(\u001b[0mValidation\u001b[1m)\u001b[0m: Lỗi cấu trúc, yêu cầu LẬP KẾ HOẠCH LẠI.\n"
      ]
     },
     "metadata": {},
     "output_type": "display_data"
    },
    {
     "data": {
      "text/html": [
       "<pre style=\"white-space:pre;overflow-x:auto;line-height:normal;font-family:Menlo,'DejaVu Sans Mono',consolas,'Courier New',monospace\">\n",
       "<span style=\"color: #808000; text-decoration-color: #808000; font-weight: bold\">------- Hoàn thành bước: content_validator -------</span>\n",
       "</pre>\n"
      ],
      "text/plain": [
       "\n",
       "\u001b[1;33m------- Hoàn thành bước: content_validator -------\u001b[0m\n"
      ]
     },
     "metadata": {},
     "output_type": "display_data"
    },
    {
     "data": {
      "text/html": [
       "<pre style=\"white-space:pre;overflow-x:auto;line-height:normal;font-family:Menlo,'DejaVu Sans Mono',consolas,'Courier New',monospace\">\n",
       "<span style=\"color: #008080; text-decoration-color: #008080; font-weight: bold\">&gt;</span> `Node: Budget Balancer` đang phẫu thuật và cân bằng lại ngân sách<span style=\"color: #808000; text-decoration-color: #808000\">...</span>\n",
       "</pre>\n"
      ],
      "text/plain": [
       "\n",
       "\u001b[1;36m>\u001b[0m `Node: Budget Balancer` đang phẫu thuật và cân bằng lại ngân sách\u001b[33m...\u001b[0m\n"
      ]
     },
     "metadata": {},
     "output_type": "display_data"
    },
    {
     "data": {
      "text/html": [
       "<pre style=\"white-space:pre;overflow-x:auto;line-height:normal;font-family:Menlo,'DejaVu Sans Mono',consolas,'Courier New',monospace\"><span style=\"color: #008000; text-decoration-color: #008000; font-weight: bold\">✔️ Bước </span><span style=\"color: #008000; text-decoration-color: #008000; font-weight: bold\">1</span><span style=\"color: #008000; text-decoration-color: #008000; font-weight: bold\">: Cập nhật nhiệm vụ bị lỗi:</span>\n",
       "</pre>\n"
      ],
      "text/plain": [
       "\u001b[1;32m✔️ Bước \u001b[0m\u001b[1;32m1\u001b[0m\u001b[1;32m: Cập nhật nhiệm vụ bị lỗi:\u001b[0m\n"
      ]
     },
     "metadata": {},
     "output_type": "display_data"
    },
    {
     "data": {
      "text/html": [
       "<pre style=\"white-space:pre;overflow-x:auto;line-height:normal;font-family:Menlo,'DejaVu Sans Mono',consolas,'Courier New',monospace\"><span style=\"font-weight: bold\">{</span>\n",
       "<span style=\"color: #7fbf7f; text-decoration-color: #7fbf7f\">│   </span><span style=\"color: #008000; text-decoration-color: #008000\">'task_id'</span>: <span style=\"color: #008080; text-decoration-color: #008080; font-weight: bold\">1</span>,\n",
       "<span style=\"color: #7fbf7f; text-decoration-color: #7fbf7f\">│   </span><span style=\"color: #008000; text-decoration-color: #008000\">'from'</span>: <span style=\"color: #008080; text-decoration-color: #008080; font-weight: bold\">45</span>,\n",
       "<span style=\"color: #7fbf7f; text-decoration-color: #7fbf7f\">│   </span><span style=\"color: #008000; text-decoration-color: #008000\">'to'</span>: <span style=\"color: #008080; text-decoration-color: #008080; font-weight: bold\">35</span>,\n",
       "<span style=\"color: #7fbf7f; text-decoration-color: #7fbf7f\">│   </span><span style=\"color: #008000; text-decoration-color: #008000\">'delta'</span>: <span style=\"color: #008080; text-decoration-color: #008080; font-weight: bold\">-10</span>\n",
       "<span style=\"font-weight: bold\">}</span>\n",
       "</pre>\n"
      ],
      "text/plain": [
       "\u001b[1m{\u001b[0m\n",
       "\u001b[2;32m│   \u001b[0m\u001b[32m'task_id'\u001b[0m: \u001b[1;36m1\u001b[0m,\n",
       "\u001b[2;32m│   \u001b[0m\u001b[32m'from'\u001b[0m: \u001b[1;36m45\u001b[0m,\n",
       "\u001b[2;32m│   \u001b[0m\u001b[32m'to'\u001b[0m: \u001b[1;36m35\u001b[0m,\n",
       "\u001b[2;32m│   \u001b[0m\u001b[32m'delta'\u001b[0m: \u001b[1;36m-10\u001b[0m\n",
       "\u001b[1m}\u001b[0m\n"
      ]
     },
     "metadata": {},
     "output_type": "display_data"
    },
    {
     "data": {
      "text/html": [
       "<pre style=\"white-space:pre;overflow-x:auto;line-height:normal;font-family:Menlo,'DejaVu Sans Mono',consolas,'Courier New',monospace\"><span style=\"color: #008000; text-decoration-color: #008000; font-weight: bold\">✔️ Bước </span><span style=\"color: #008000; text-decoration-color: #008000; font-weight: bold\">2</span><span style=\"color: #008000; text-decoration-color: #008000; font-weight: bold\">: Cân bằng lại ngân sách ở hoạt động đệm:</span>\n",
       "</pre>\n"
      ],
      "text/plain": [
       "\u001b[1;32m✔️ Bước \u001b[0m\u001b[1;32m2\u001b[0m\u001b[1;32m: Cân bằng lại ngân sách ở hoạt động đệm:\u001b[0m\n"
      ]
     },
     "metadata": {},
     "output_type": "display_data"
    },
    {
     "data": {
      "text/html": [
       "<pre style=\"white-space:pre;overflow-x:auto;line-height:normal;font-family:Menlo,'DejaVu Sans Mono',consolas,'Courier New',monospace\"><span style=\"font-weight: bold\">{</span>\n",
       "<span style=\"color: #7fbf7f; text-decoration-color: #7fbf7f\">│   </span><span style=\"color: #008000; text-decoration-color: #008000\">'task_id'</span>: <span style=\"color: #008080; text-decoration-color: #008080; font-weight: bold\">3</span>,\n",
       "<span style=\"color: #7fbf7f; text-decoration-color: #7fbf7f\">│   </span><span style=\"color: #008000; text-decoration-color: #008000\">'from'</span>: <span style=\"color: #008080; text-decoration-color: #008080; font-weight: bold\">5</span>,\n",
       "<span style=\"color: #7fbf7f; text-decoration-color: #7fbf7f\">│   </span><span style=\"color: #008000; text-decoration-color: #008000\">'to'</span>: <span style=\"color: #008080; text-decoration-color: #008080; font-weight: bold\">15</span>\n",
       "<span style=\"font-weight: bold\">}</span>\n",
       "</pre>\n"
      ],
      "text/plain": [
       "\u001b[1m{\u001b[0m\n",
       "\u001b[2;32m│   \u001b[0m\u001b[32m'task_id'\u001b[0m: \u001b[1;36m3\u001b[0m,\n",
       "\u001b[2;32m│   \u001b[0m\u001b[32m'from'\u001b[0m: \u001b[1;36m5\u001b[0m,\n",
       "\u001b[2;32m│   \u001b[0m\u001b[32m'to'\u001b[0m: \u001b[1;36m15\u001b[0m\n",
       "\u001b[1m}\u001b[0m\n"
      ]
     },
     "metadata": {},
     "output_type": "display_data"
    },
    {
     "data": {
      "text/html": [
       "<pre style=\"white-space:pre;overflow-x:auto;line-height:normal;font-family:Menlo,'DejaVu Sans Mono',consolas,'Courier New',monospace\">\n",
       "<span style=\"color: #808000; text-decoration-color: #808000; font-weight: bold\">------- Hoàn thành bước: budget_balancer -------</span>\n",
       "</pre>\n"
      ],
      "text/plain": [
       "\n",
       "\u001b[1;33m------- Hoàn thành bước: budget_balancer -------\u001b[0m\n"
      ]
     },
     "metadata": {},
     "output_type": "display_data"
    },
    {
     "data": {
      "text/html": [
       "<pre style=\"white-space:pre;overflow-x:auto;line-height:normal;font-family:Menlo,'DejaVu Sans Mono',consolas,'Courier New',monospace\">\n",
       "<span style=\"color: #008080; text-decoration-color: #008080; font-weight: bold\">&gt;</span> `Agent: Task Dispatcher` đang giao việc<span style=\"color: #808000; text-decoration-color: #808000\">...</span>\n",
       "</pre>\n"
      ],
      "text/plain": [
       "\n",
       "\u001b[1;36m>\u001b[0m `Agent: Task Dispatcher` đang giao việc\u001b[33m...\u001b[0m\n"
      ]
     },
     "metadata": {},
     "output_type": "display_data"
    },
    {
     "data": {
      "text/html": [
       "<pre style=\"white-space:pre;overflow-x:auto;line-height:normal;font-family:Menlo,'DejaVu Sans Mono',consolas,'Courier New',monospace\">\n",
       "<span style=\"color: #008080; text-decoration-color: #008080; font-weight: bold\">&gt;</span> --- 🚚 `Dispatcher`: Giao nhiệm vụ cho `activity_designer`.\n",
       "</pre>\n"
      ],
      "text/plain": [
       "\n",
       "\u001b[1;36m>\u001b[0m --- 🚚 `Dispatcher`: Giao nhiệm vụ cho `activity_designer`.\n"
      ]
     },
     "metadata": {},
     "output_type": "display_data"
    },
    {
     "data": {
      "text/html": [
       "<pre style=\"white-space:pre;overflow-x:auto;line-height:normal;font-family:Menlo,'DejaVu Sans Mono',consolas,'Courier New',monospace\">\n",
       "<span style=\"color: #808000; text-decoration-color: #808000; font-weight: bold\">------- Hoàn thành bước: task_dispatcher -------</span>\n",
       "</pre>\n"
      ],
      "text/plain": [
       "\n",
       "\u001b[1;33m------- Hoàn thành bước: task_dispatcher -------\u001b[0m\n"
      ]
     },
     "metadata": {},
     "output_type": "display_data"
    },
    {
     "data": {
      "text/html": [
       "<pre style=\"white-space:pre;overflow-x:auto;line-height:normal;font-family:Menlo,'DejaVu Sans Mono',consolas,'Courier New',monospace\">\n",
       "<span style=\"color: #008080; text-decoration-color: #008080; font-weight: bold\">&gt;</span> `Agent: Activity Designer` <span style=\"font-weight: bold\">(</span>v9.<span style=\"color: #008080; text-decoration-color: #008080; font-weight: bold\">7</span><span style=\"font-weight: bold\">)</span> đang tạo nội dung linh hoạt <span style=\"font-weight: bold\">(</span>Lõi + Mở rộng<span style=\"font-weight: bold\">)</span><span style=\"color: #808000; text-decoration-color: #808000\">...</span>\n",
       "</pre>\n"
      ],
      "text/plain": [
       "\n",
       "\u001b[1;36m>\u001b[0m `Agent: Activity Designer` \u001b[1m(\u001b[0mv9.\u001b[1;36m7\u001b[0m\u001b[1m)\u001b[0m đang tạo nội dung linh hoạt \u001b[1m(\u001b[0mLõi + Mở rộng\u001b[1m)\u001b[0m\u001b[33m...\u001b[0m\n"
      ]
     },
     "metadata": {},
     "output_type": "display_data"
    },
    {
     "data": {
      "text/html": [
       "<pre style=\"white-space:pre;overflow-x:auto;line-height:normal;font-family:Menlo,'DejaVu Sans Mono',consolas,'Courier New',monospace\"><span style=\"color: #008000; text-decoration-color: #008000; font-weight: bold\">✔️ Nội dung do Activity Designer tạo ra (Linh hoạt):</span>\n",
       "</pre>\n"
      ],
      "text/plain": [
       "\u001b[1;32m✔️ Nội dung do Activity Designer tạo ra \u001b[0m\u001b[1;32m(\u001b[0m\u001b[1;32mLinh hoạt\u001b[0m\u001b[1;32m)\u001b[0m\u001b[1;32m:\u001b[0m\n"
      ]
     },
     "metadata": {},
     "output_type": "display_data"
    },
    {
     "data": {
      "text/html": [
       "<pre style=\"white-space:pre;overflow-x:auto;line-height:normal;font-family:Menlo,'DejaVu Sans Mono',consolas,'Courier New',monospace\"><span style=\"font-weight: bold\">{</span>\n",
       "<span style=\"color: #7fbf7f; text-decoration-color: #7fbf7f\">│   </span><span style=\"color: #008000; text-decoration-color: #008000\">'activity_name'</span>: <span style=\"color: #008000; text-decoration-color: #008000\">'Xây dựng kiến thức qua hoạt động nhóm'</span>,\n",
       "<span style=\"color: #7fbf7f; text-decoration-color: #7fbf7f\">│   </span><span style=\"color: #008000; text-decoration-color: #008000\">'activity_type'</span>: <span style=\"color: #008000; text-decoration-color: #008000\">'Thảo luận nhóm'</span>,\n",
       "<span style=\"color: #7fbf7f; text-decoration-color: #7fbf7f\">│   </span><span style=\"color: #008000; text-decoration-color: #008000\">'duration_minutes'</span>: <span style=\"color: #008080; text-decoration-color: #008080; font-weight: bold\">35</span>,\n",
       "<span style=\"color: #7fbf7f; text-decoration-color: #7fbf7f\">│   </span><span style=\"color: #008000; text-decoration-color: #008000\">'teacher_actions'</span>: <span style=\"font-weight: bold\">[</span>\n",
       "<span style=\"color: #7fbf7f; text-decoration-color: #7fbf7f\">│   │   </span><span style=\"color: #008000; text-decoration-color: #008000\">'Chia lớp thành các nhóm nhỏ (4-5 học sinh/nhóm) và phân công chủ đề cho từng nhóm (ví dụ: Nhóm 1,3 làm về đường tròn ngoại tiếp; Nhóm 2,4 làm về đường tròn nội tiếp).'</span>,\n",
       "<span style=\"color: #7fbf7f; text-decoration-color: #7fbf7f\">│   │   </span><span style=\"color: #008000; text-decoration-color: #008000\">'Phát phiếu học tập và tài liệu liên quan cho từng nhóm.'</span>,\n",
       "<span style=\"color: #7fbf7f; text-decoration-color: #7fbf7f\">│   │   </span><span style=\"color: #008000; text-decoration-color: #008000\">'Quan sát, lắng nghe các nhóm thảo luận, không can thiệp ngay mà để học sinh tự tìm tòi.'</span>,\n",
       "<span style=\"color: #7fbf7f; text-decoration-color: #7fbf7f\">│   │   </span><span style=\"color: #008000; text-decoration-color: #008000\">\"Di chuyển giữa các nhóm, gợi mở câu hỏi khi học sinh gặp khó khăn (ví dụ: 'Tâm đường tròn ngoại tiếp là gì?', 'Làm thế nào để xác định tâm đó?').\"</span>,\n",
       "<span style=\"color: #7fbf7f; text-decoration-color: #7fbf7f\">│   │   </span><span style=\"color: #008000; text-decoration-color: #008000\">'Đặc biệt chú ý đến các nhóm có học sinh yếu, cung cấp hỗ trợ kịp thời, giải thích lại các khái niệm cơ bản nếu cần.'</span>,\n",
       "<span style=\"color: #7fbf7f; text-decoration-color: #7fbf7f\">│   │   </span><span style=\"color: #008000; text-decoration-color: #008000\">'Khuyến khích học sinh trình bày ý tưởng, cách vẽ hình của mình.'</span>,\n",
       "<span style=\"color: #7fbf7f; text-decoration-color: #7fbf7f\">│   │   </span><span style=\"color: #008000; text-decoration-color: #008000\">'Quản lý thời gian, thông báo khi còn 5 phút để các nhóm hoàn tất phần cốt lõi.'</span>\n",
       "<span style=\"color: #7fbf7f; text-decoration-color: #7fbf7f\">│   </span><span style=\"font-weight: bold\">]</span>,\n",
       "<span style=\"color: #7fbf7f; text-decoration-color: #7fbf7f\">│   </span><span style=\"color: #008000; text-decoration-color: #008000\">'core_component'</span>: <span style=\"color: #008000; text-decoration-color: #008000\">\"Mỗi nhóm sẽ nhận một phiếu học tập chuyên biệt về một trong hai chủ đề: 'Đường tròn ngoại tiếp tam giác' hoặc 'Đường tròn nội tiếp tam giác'.\\n\\n**Nhiệm vụ chung cho các nhóm (28 phút):**\\n1.  **Đọc và hiểu:** Đọc kỹ phần lý thuyết và các ví dụ minh họa trong phiếu học tập.\\n2.  **Thảo luận:** Cùng nhau thảo luận để làm rõ các khái niệm, định nghĩa, tính chất.\\n3.  **Vẽ hình:** Thực hành vẽ hình minh họa cho đường tròn ngoại tiếp/nội tiếp tam giác (ví dụ: tam giác nhọn, vuông, tù).\\n4.  **Trả lời câu hỏi:** Hoàn thành các câu hỏi trong phiếu học tập, bao gồm:\\n    *   Định nghĩa đường tròn ngoại tiếp/nội tiếp là gì?\\n    *   Tâm của đường tròn ngoại tiếp/nội tiếp được xác định như thế nào? (Nêu rõ là giao điểm của các đường gì trong tam giác).\\n    *   Nêu một số tính chất quan trọng của đường tròn ngoại tiếp/nội tiếp tam giác.\\n    *   Vẽ hình minh họa cho một trường hợp cụ thể (ví dụ: vẽ đường tròn ngoại tiếp tam giác vuông, đường tròn nội tiếp tam giác đều).\"</span>,\n",
       "<span style=\"color: #7fbf7f; text-decoration-color: #7fbf7f\">│   </span><span style=\"color: #008000; text-decoration-color: #008000\">'extension_component'</span>: <span style=\"color: #008000; text-decoration-color: #008000\">\"Nếu các nhóm hoàn thành sớm phần cốt lõi (khoảng 7 phút còn lại):\\n\\n**Nhiệm vụ mở rộng:**\\n1.  **Thử thách tư duy:** 'Cho một tam giác đều, hãy xác định vị trí của tâm đường tròn ngoại tiếp và tâm đường tròn nội tiếp. Hai tâm này có trùng nhau không? Giải thích tại sao?'\\n2.  **Ứng dụng:** 'Hãy nghĩ xem đường tròn ngoại tiếp hoặc nội tiếp có thể được ứng dụng trong lĩnh vực nào của đời sống hoặc kỹ thuật?' (Ví dụ: thiết kế, kiến trúc, v.v.).\\n3.  **Trao đổi chéo:** Các nhóm có thể trao đổi phiếu học tập với nhau để xem xét và góp ý cho phần trả lời của nhóm bạn, hoặc đặt câu hỏi cho nhóm bạn về chủ đề mà họ vừa tìm hiểu.\"</span>,\n",
       "<span style=\"color: #7fbf7f; text-decoration-color: #7fbf7f\">│   </span><span style=\"color: #008000; text-decoration-color: #008000\">'solution_guide'</span>: <span style=\"color: #008000; text-decoration-color: #008000\">'Các điểm chính cần học sinh nắm được:\\n*   **Đường tròn ngoại tiếp:** Là đường tròn đi qua ba đỉnh của tam giác. Tâm là giao điểm của ba đường trung trực của tam giác. Bán kính là khoảng cách từ tâm đến các đỉnh.\\n*   **Đường tròn nội tiếp:** Là đường tròn tiếp xúc với ba cạnh của tam giác. Tâm là giao điểm của ba đường phân giác trong của tam giác. Bán kính là khoảng cách từ tâm đến các cạnh.\\n*   **Tính chất đặc biệt:**\\n    *   Tam giác vuông: Tâm đường tròn ngoại tiếp là trung điểm cạnh huyền.\\n    *   Tam giác đều: Tâm đường tròn ngoại tiếp và nội tiếp trùng nhau, đó cũng là trọng tâm, trực tâm, tâm đường tròn bàng tiếp.\\n*   **Gợi mở:** Khuyến khích học sinh vẽ hình chính xác để trực quan hóa các khái niệm.'</span>,\n",
       "<span style=\"color: #7fbf7f; text-decoration-color: #7fbf7f\">│   </span><span style=\"color: #008000; text-decoration-color: #008000\">'differentiation'</span>: <span style=\"font-weight: bold\">{</span>\n",
       "<span style=\"color: #7fbf7f; text-decoration-color: #7fbf7f\">│   │   </span><span style=\"color: #008000; text-decoration-color: #008000\">'for_struggling_students'</span>: <span style=\"color: #008000; text-decoration-color: #008000\">'Giáo viên có thể cung cấp phiếu học tập có sẵn một số hình vẽ cơ bản hoặc các câu hỏi dạng điền khuyết để giảm bớt gánh nặng ban đầu. Dành nhiều thời gian hơn để hướng dẫn trực tiếp, kiểm tra sự hiểu bài của các em trong nhóm. Khuyến khích các em chỉ cần nắm vững định nghĩa và cách xác định tâm cơ bản.'</span>,\n",
       "<span style=\"color: #7fbf7f; text-decoration-color: #7fbf7f\">│   │   </span><span style=\"color: #008000; text-decoration-color: #008000\">'for_advanced_students'</span>: <span style=\"color: #008000; text-decoration-color: #008000\">\"Giao thêm câu hỏi mở rộng trong phiếu học tập (ví dụ: 'Chứng minh rằng tâm đường tròn ngoại tiếp tam giác vuông là trung điểm cạnh huyền' hoặc 'Nêu mối liên hệ giữa bán kính đường tròn nội tiếp và diện tích tam giác'). Khuyến khích các em tìm hiểu thêm về các công thức tính bán kính R, r hoặc các ứng dụng thực tế của đường tròn ngoại tiếp/nội tiếp.\"</span>\n",
       "<span style=\"color: #7fbf7f; text-decoration-color: #7fbf7f\">│   </span><span style=\"font-weight: bold\">}</span>,\n",
       "<span style=\"color: #7fbf7f; text-decoration-color: #7fbf7f\">│   </span><span style=\"color: #008000; text-decoration-color: #008000\">'question_or_description'</span>: <span style=\"color: #008000; text-decoration-color: #008000\">\"**Phần Cốt lõi:**\\nMỗi nhóm sẽ nhận một phiếu học tập chuyên biệt về một trong hai chủ đề: 'Đường tròn ngoại tiếp tam giác' hoặc 'Đường tròn nội tiếp tam giác'.\\n\\n**Nhiệm vụ chung cho các nhóm (28 phút):**\\n1.  **Đọc và hiểu:** Đọc kỹ phần lý thuyết và các ví dụ minh họa trong phiếu học tập.\\n2.  **Thảo luận:** Cùng nhau thảo luận để làm rõ các khái niệm, định nghĩa, tính chất.\\n3.  **Vẽ hình:** Thực hành vẽ hình minh họa cho đường tròn ngoại tiếp/nội tiếp tam giác (ví dụ: tam giác nhọn, vuông, tù).\\n4.  **Trả lời câu hỏi:** Hoàn thành các câu hỏi trong phiếu học tập, bao gồm:\\n    *   Định nghĩa đường tròn ngoại tiếp/nội tiếp là gì?\\n    *   Tâm của đường tròn ngoại tiếp/nội tiếp được xác định như thế nào? (Nêu rõ là giao điểm của các đường gì trong tam giác).\\n    *   Nêu một số tính chất quan trọng của đường tròn ngoại tiếp/nội tiếp tam giác.\\n    *   Vẽ hình minh họa cho một trường hợp cụ thể (ví dụ: vẽ đường tròn ngoại tiếp tam giác vuông, đường tròn nội tiếp tam giác đều).\\n\\n**Phần Mở rộng (nếu còn thời gian):**\\nNếu các nhóm hoàn thành sớm phần cốt lõi (khoảng 7 phút còn lại):\\n\\n**Nhiệm vụ mở rộng:**\\n1.  **Thử thách tư duy:** 'Cho một tam giác đều, hãy xác định vị trí của tâm đường tròn ngoại tiếp và tâm đường tròn nội tiếp. Hai tâm này có trùng nhau không? Giải thích tại sao?'\\n2.  **Ứng dụng:** 'Hãy nghĩ xem đường tròn ngoại tiếp hoặc nội tiếp có thể được ứng dụng trong lĩnh vực nào của đời sống hoặc kỹ thuật?' (Ví dụ: thiết kế, kiến trúc, v.v.).\\n3.  **Trao đổi chéo:** Các nhóm có thể trao đổi phiếu học tập với nhau để xem xét và góp ý cho phần trả lời của nhóm bạn, hoặc đặt câu hỏi cho nhóm bạn về chủ đề mà họ vừa tìm hiểu.\"</span>\n",
       "<span style=\"font-weight: bold\">}</span>\n",
       "</pre>\n"
      ],
      "text/plain": [
       "\u001b[1m{\u001b[0m\n",
       "\u001b[2;32m│   \u001b[0m\u001b[32m'activity_name'\u001b[0m: \u001b[32m'Xây dựng kiến thức qua hoạt động nhóm'\u001b[0m,\n",
       "\u001b[2;32m│   \u001b[0m\u001b[32m'activity_type'\u001b[0m: \u001b[32m'Thảo luận nhóm'\u001b[0m,\n",
       "\u001b[2;32m│   \u001b[0m\u001b[32m'duration_minutes'\u001b[0m: \u001b[1;36m35\u001b[0m,\n",
       "\u001b[2;32m│   \u001b[0m\u001b[32m'teacher_actions'\u001b[0m: \u001b[1m[\u001b[0m\n",
       "\u001b[2;32m│   │   \u001b[0m\u001b[32m'Chia lớp thành các nhóm nhỏ \u001b[0m\u001b[32m(\u001b[0m\u001b[32m4-5 học sinh/nhóm\u001b[0m\u001b[32m)\u001b[0m\u001b[32m và phân công chủ đề cho từng nhóm \u001b[0m\u001b[32m(\u001b[0m\u001b[32mví dụ: Nhóm 1,3 làm về đường tròn ngoại tiếp; Nhóm 2,4 làm về đường tròn nội tiếp\u001b[0m\u001b[32m)\u001b[0m\u001b[32m.'\u001b[0m,\n",
       "\u001b[2;32m│   │   \u001b[0m\u001b[32m'Phát phiếu học tập và tài liệu liên quan cho từng nhóm.'\u001b[0m,\n",
       "\u001b[2;32m│   │   \u001b[0m\u001b[32m'Quan sát, lắng nghe các nhóm thảo luận, không can thiệp ngay mà để học sinh tự tìm tòi.'\u001b[0m,\n",
       "\u001b[2;32m│   │   \u001b[0m\u001b[32m\"Di chuyển giữa các nhóm, gợi mở câu hỏi khi học sinh gặp khó khăn \u001b[0m\u001b[32m(\u001b[0m\u001b[32mví dụ: 'Tâm đường tròn ngoại tiếp là gì?', 'Làm thế nào để xác định tâm đó?'\u001b[0m\u001b[32m)\u001b[0m\u001b[32m.\"\u001b[0m,\n",
       "\u001b[2;32m│   │   \u001b[0m\u001b[32m'Đặc biệt chú ý đến các nhóm có học sinh yếu, cung cấp hỗ trợ kịp thời, giải thích lại các khái niệm cơ bản nếu cần.'\u001b[0m,\n",
       "\u001b[2;32m│   │   \u001b[0m\u001b[32m'Khuyến khích học sinh trình bày ý tưởng, cách vẽ hình của mình.'\u001b[0m,\n",
       "\u001b[2;32m│   │   \u001b[0m\u001b[32m'Quản lý thời gian, thông báo khi còn 5 phút để các nhóm hoàn tất phần cốt lõi.'\u001b[0m\n",
       "\u001b[2;32m│   \u001b[0m\u001b[1m]\u001b[0m,\n",
       "\u001b[2;32m│   \u001b[0m\u001b[32m'core_component'\u001b[0m: \u001b[32m\"Mỗi nhóm sẽ nhận một phiếu học tập chuyên biệt về một trong hai chủ đề: 'Đường tròn ngoại tiếp tam giác' hoặc 'Đường tròn nội tiếp tam giác'.\\n\\n**Nhiệm vụ chung cho các nhóm \u001b[0m\u001b[32m(\u001b[0m\u001b[32m28 phút\u001b[0m\u001b[32m)\u001b[0m\u001b[32m:**\\n1.  **Đọc và hiểu:** Đọc kỹ phần lý thuyết và các ví dụ minh họa trong phiếu học tập.\\n2.  **Thảo luận:** Cùng nhau thảo luận để làm rõ các khái niệm, định nghĩa, tính chất.\\n3.  **Vẽ hình:** Thực hành vẽ hình minh họa cho đường tròn ngoại tiếp/nội tiếp tam giác \u001b[0m\u001b[32m(\u001b[0m\u001b[32mví dụ: tam giác nhọn, vuông, tù\u001b[0m\u001b[32m)\u001b[0m\u001b[32m.\\n4.  **Trả lời câu hỏi:** Hoàn thành các câu hỏi trong phiếu học tập, bao gồm:\\n    *   Định nghĩa đường tròn ngoại tiếp/nội tiếp là gì?\\n    *   Tâm của đường tròn ngoại tiếp/nội tiếp được xác định như thế nào? \u001b[0m\u001b[32m(\u001b[0m\u001b[32mNêu rõ là giao điểm của các đường gì trong tam giác\u001b[0m\u001b[32m)\u001b[0m\u001b[32m.\\n    *   Nêu một số tính chất quan trọng của đường tròn ngoại tiếp/nội tiếp tam giác.\\n    *   Vẽ hình minh họa cho một trường hợp cụ thể \u001b[0m\u001b[32m(\u001b[0m\u001b[32mví dụ: vẽ đường tròn ngoại tiếp tam giác vuông, đường tròn nội tiếp tam giác đều\u001b[0m\u001b[32m)\u001b[0m\u001b[32m.\"\u001b[0m,\n",
       "\u001b[2;32m│   \u001b[0m\u001b[32m'extension_component'\u001b[0m: \u001b[32m\"Nếu các nhóm hoàn thành sớm phần cốt lõi \u001b[0m\u001b[32m(\u001b[0m\u001b[32mkhoảng 7 phút còn lại\u001b[0m\u001b[32m)\u001b[0m\u001b[32m:\\n\\n**Nhiệm vụ mở rộng:**\\n1.  **Thử thách tư duy:** 'Cho một tam giác đều, hãy xác định vị trí của tâm đường tròn ngoại tiếp và tâm đường tròn nội tiếp. Hai tâm này có trùng nhau không? Giải thích tại sao?'\\n2.  **Ứng dụng:** 'Hãy nghĩ xem đường tròn ngoại tiếp hoặc nội tiếp có thể được ứng dụng trong lĩnh vực nào của đời sống hoặc kỹ thuật?' \u001b[0m\u001b[32m(\u001b[0m\u001b[32mVí dụ: thiết kế, kiến trúc, v.v.\u001b[0m\u001b[32m)\u001b[0m\u001b[32m.\\n3.  **Trao đổi chéo:** Các nhóm có thể trao đổi phiếu học tập với nhau để xem xét và góp ý cho phần trả lời của nhóm bạn, hoặc đặt câu hỏi cho nhóm bạn về chủ đề mà họ vừa tìm hiểu.\"\u001b[0m,\n",
       "\u001b[2;32m│   \u001b[0m\u001b[32m'solution_guide'\u001b[0m: \u001b[32m'Các điểm chính cần học sinh nắm được:\\n*   **Đường tròn ngoại tiếp:** Là đường tròn đi qua ba đỉnh của tam giác. Tâm là giao điểm của ba đường trung trực của tam giác. Bán kính là khoảng cách từ tâm đến các đỉnh.\\n*   **Đường tròn nội tiếp:** Là đường tròn tiếp xúc với ba cạnh của tam giác. Tâm là giao điểm của ba đường phân giác trong của tam giác. Bán kính là khoảng cách từ tâm đến các cạnh.\\n*   **Tính chất đặc biệt:**\\n    *   Tam giác vuông: Tâm đường tròn ngoại tiếp là trung điểm cạnh huyền.\\n    *   Tam giác đều: Tâm đường tròn ngoại tiếp và nội tiếp trùng nhau, đó cũng là trọng tâm, trực tâm, tâm đường tròn bàng tiếp.\\n*   **Gợi mở:** Khuyến khích học sinh vẽ hình chính xác để trực quan hóa các khái niệm.'\u001b[0m,\n",
       "\u001b[2;32m│   \u001b[0m\u001b[32m'differentiation'\u001b[0m: \u001b[1m{\u001b[0m\n",
       "\u001b[2;32m│   │   \u001b[0m\u001b[32m'for_struggling_students'\u001b[0m: \u001b[32m'Giáo viên có thể cung cấp phiếu học tập có sẵn một số hình vẽ cơ bản hoặc các câu hỏi dạng điền khuyết để giảm bớt gánh nặng ban đầu. Dành nhiều thời gian hơn để hướng dẫn trực tiếp, kiểm tra sự hiểu bài của các em trong nhóm. Khuyến khích các em chỉ cần nắm vững định nghĩa và cách xác định tâm cơ bản.'\u001b[0m,\n",
       "\u001b[2;32m│   │   \u001b[0m\u001b[32m'for_advanced_students'\u001b[0m: \u001b[32m\"Giao thêm câu hỏi mở rộng trong phiếu học tập \u001b[0m\u001b[32m(\u001b[0m\u001b[32mví dụ: 'Chứng minh rằng tâm đường tròn ngoại tiếp tam giác vuông là trung điểm cạnh huyền' hoặc 'Nêu mối liên hệ giữa bán kính đường tròn nội tiếp và diện tích tam giác'\u001b[0m\u001b[32m)\u001b[0m\u001b[32m. Khuyến khích các em tìm hiểu thêm về các công thức tính bán kính R, r hoặc các ứng dụng thực tế của đường tròn ngoại tiếp/nội tiếp.\"\u001b[0m\n",
       "\u001b[2;32m│   \u001b[0m\u001b[1m}\u001b[0m,\n",
       "\u001b[2;32m│   \u001b[0m\u001b[32m'question_or_description'\u001b[0m: \u001b[32m\"**Phần Cốt lõi:**\\nMỗi nhóm sẽ nhận một phiếu học tập chuyên biệt về một trong hai chủ đề: 'Đường tròn ngoại tiếp tam giác' hoặc 'Đường tròn nội tiếp tam giác'.\\n\\n**Nhiệm vụ chung cho các nhóm \u001b[0m\u001b[32m(\u001b[0m\u001b[32m28 phút\u001b[0m\u001b[32m)\u001b[0m\u001b[32m:**\\n1.  **Đọc và hiểu:** Đọc kỹ phần lý thuyết và các ví dụ minh họa trong phiếu học tập.\\n2.  **Thảo luận:** Cùng nhau thảo luận để làm rõ các khái niệm, định nghĩa, tính chất.\\n3.  **Vẽ hình:** Thực hành vẽ hình minh họa cho đường tròn ngoại tiếp/nội tiếp tam giác \u001b[0m\u001b[32m(\u001b[0m\u001b[32mví dụ: tam giác nhọn, vuông, tù\u001b[0m\u001b[32m)\u001b[0m\u001b[32m.\\n4.  **Trả lời câu hỏi:** Hoàn thành các câu hỏi trong phiếu học tập, bao gồm:\\n    *   Định nghĩa đường tròn ngoại tiếp/nội tiếp là gì?\\n    *   Tâm của đường tròn ngoại tiếp/nội tiếp được xác định như thế nào? \u001b[0m\u001b[32m(\u001b[0m\u001b[32mNêu rõ là giao điểm của các đường gì trong tam giác\u001b[0m\u001b[32m)\u001b[0m\u001b[32m.\\n    *   Nêu một số tính chất quan trọng của đường tròn ngoại tiếp/nội tiếp tam giác.\\n    *   Vẽ hình minh họa cho một trường hợp cụ thể \u001b[0m\u001b[32m(\u001b[0m\u001b[32mví dụ: vẽ đường tròn ngoại tiếp tam giác vuông, đường tròn nội tiếp tam giác đều\u001b[0m\u001b[32m)\u001b[0m\u001b[32m.\\n\\n**Phần Mở rộng \u001b[0m\u001b[32m(\u001b[0m\u001b[32mnếu còn thời gian\u001b[0m\u001b[32m)\u001b[0m\u001b[32m:**\\nNếu các nhóm hoàn thành sớm phần cốt lõi \u001b[0m\u001b[32m(\u001b[0m\u001b[32mkhoảng 7 phút còn lại\u001b[0m\u001b[32m)\u001b[0m\u001b[32m:\\n\\n**Nhiệm vụ mở rộng:**\\n1.  **Thử thách tư duy:** 'Cho một tam giác đều, hãy xác định vị trí của tâm đường tròn ngoại tiếp và tâm đường tròn nội tiếp. Hai tâm này có trùng nhau không? Giải thích tại sao?'\\n2.  **Ứng dụng:** 'Hãy nghĩ xem đường tròn ngoại tiếp hoặc nội tiếp có thể được ứng dụng trong lĩnh vực nào của đời sống hoặc kỹ thuật?' \u001b[0m\u001b[32m(\u001b[0m\u001b[32mVí dụ: thiết kế, kiến trúc, v.v.\u001b[0m\u001b[32m)\u001b[0m\u001b[32m.\\n3.  **Trao đổi chéo:** Các nhóm có thể trao đổi phiếu học tập với nhau để xem xét và góp ý cho phần trả lời của nhóm bạn, hoặc đặt câu hỏi cho nhóm bạn về chủ đề mà họ vừa tìm hiểu.\"\u001b[0m\n",
       "\u001b[1m}\u001b[0m\n"
      ]
     },
     "metadata": {},
     "output_type": "display_data"
    },
    {
     "data": {
      "text/html": [
       "<pre style=\"white-space:pre;overflow-x:auto;line-height:normal;font-family:Menlo,'DejaVu Sans Mono',consolas,'Courier New',monospace\">\n",
       "<span style=\"color: #808000; text-decoration-color: #808000; font-weight: bold\">------- Hoàn thành bước: activity_designer -------</span>\n",
       "</pre>\n"
      ],
      "text/plain": [
       "\n",
       "\u001b[1;33m------- Hoàn thành bước: activity_designer -------\u001b[0m\n"
      ]
     },
     "metadata": {},
     "output_type": "display_data"
    },
    {
     "data": {
      "text/html": [
       "<pre style=\"white-space:pre;overflow-x:auto;line-height:normal;font-family:Menlo,'DejaVu Sans Mono',consolas,'Courier New',monospace\">\n",
       "<span style=\"color: #008080; text-decoration-color: #008080; font-weight: bold\">&gt;</span> `Agent: Time-Budget Advisor` <span style=\"font-weight: bold\">(</span>v9.<span style=\"color: #008080; text-decoration-color: #008080; font-weight: bold\">7</span><span style=\"font-weight: bold\">)</span> đang phản biện nội dung và ngân sách thời gian<span style=\"color: #808000; text-decoration-color: #808000\">...</span>\n",
       "</pre>\n"
      ],
      "text/plain": [
       "\n",
       "\u001b[1;36m>\u001b[0m `Agent: Time-Budget Advisor` \u001b[1m(\u001b[0mv9.\u001b[1;36m7\u001b[0m\u001b[1m)\u001b[0m đang phản biện nội dung và ngân sách thời gian\u001b[33m...\u001b[0m\n"
      ]
     },
     "metadata": {},
     "output_type": "display_data"
    },
    {
     "data": {
      "text/html": [
       "<pre style=\"white-space:pre;overflow-x:auto;line-height:normal;font-family:Menlo,'DejaVu Sans Mono',consolas,'Courier New',monospace\">\n",
       "<span style=\"color: #008080; text-decoration-color: #008080; font-weight: bold\">&gt;</span> ✔️ CỐ VẤN: Nội dung và ngân sách thời gian hợp lệ!\n",
       "</pre>\n"
      ],
      "text/plain": [
       "\n",
       "\u001b[1;36m>\u001b[0m ✔️ CỐ VẤN: Nội dung và ngân sách thời gian hợp lệ!\n"
      ]
     },
     "metadata": {},
     "output_type": "display_data"
    },
    {
     "data": {
      "text/html": [
       "<pre style=\"white-space:pre;overflow-x:auto;line-height:normal;font-family:Menlo,'DejaVu Sans Mono',consolas,'Courier New',monospace\">\n",
       "<span style=\"color: #008080; text-decoration-color: #008080; font-weight: bold\">&gt;</span> ROUTER <span style=\"font-weight: bold\">(</span>Validation<span style=\"font-weight: bold\">)</span>: Nội dung được chấp thuận. Chuyển sang bước ghi nhận.\n",
       "</pre>\n"
      ],
      "text/plain": [
       "\n",
       "\u001b[1;36m>\u001b[0m ROUTER \u001b[1m(\u001b[0mValidation\u001b[1m)\u001b[0m: Nội dung được chấp thuận. Chuyển sang bước ghi nhận.\n"
      ]
     },
     "metadata": {},
     "output_type": "display_data"
    },
    {
     "data": {
      "text/html": [
       "<pre style=\"white-space:pre;overflow-x:auto;line-height:normal;font-family:Menlo,'DejaVu Sans Mono',consolas,'Courier New',monospace\">\n",
       "<span style=\"color: #808000; text-decoration-color: #808000; font-weight: bold\">------- Hoàn thành bước: content_validator -------</span>\n",
       "</pre>\n"
      ],
      "text/plain": [
       "\n",
       "\u001b[1;33m------- Hoàn thành bước: content_validator -------\u001b[0m\n"
      ]
     },
     "metadata": {},
     "output_type": "display_data"
    },
    {
     "data": {
      "text/html": [
       "<pre style=\"white-space:pre;overflow-x:auto;line-height:normal;font-family:Menlo,'DejaVu Sans Mono',consolas,'Courier New',monospace\">\n",
       "<span style=\"color: #008080; text-decoration-color: #008080; font-weight: bold\">&gt;</span> `Commiter`: Đang ghi nhận nội dung đã được xác thực<span style=\"color: #808000; text-decoration-color: #808000\">...</span>\n",
       "</pre>\n"
      ],
      "text/plain": [
       "\n",
       "\u001b[1;36m>\u001b[0m `Commiter`: Đang ghi nhận nội dung đã được xác thực\u001b[33m...\u001b[0m\n"
      ]
     },
     "metadata": {},
     "output_type": "display_data"
    },
    {
     "data": {
      "text/html": [
       "<pre style=\"white-space:pre;overflow-x:auto;line-height:normal;font-family:Menlo,'DejaVu Sans Mono',consolas,'Courier New',monospace\">\n",
       "<span style=\"color: #808000; text-decoration-color: #808000; font-weight: bold\">------- Hoàn thành bước: commit_validated_content -------</span>\n",
       "</pre>\n"
      ],
      "text/plain": [
       "\n",
       "\u001b[1;33m------- Hoàn thành bước: commit_validated_content -------\u001b[0m\n"
      ]
     },
     "metadata": {},
     "output_type": "display_data"
    },
    {
     "data": {
      "text/html": [
       "<pre style=\"white-space:pre;overflow-x:auto;line-height:normal;font-family:Menlo,'DejaVu Sans Mono',consolas,'Courier New',monospace\">\n",
       "<span style=\"color: #808000; text-decoration-color: #808000; font-weight: bold\">------- Hoàn thành bước: mark_task_complete -------</span>\n",
       "</pre>\n"
      ],
      "text/plain": [
       "\n",
       "\u001b[1;33m------- Hoàn thành bước: mark_task_complete -------\u001b[0m\n"
      ]
     },
     "metadata": {},
     "output_type": "display_data"
    },
    {
     "data": {
      "text/html": [
       "<pre style=\"white-space:pre;overflow-x:auto;line-height:normal;font-family:Menlo,'DejaVu Sans Mono',consolas,'Courier New',monospace\">\n",
       "<span style=\"color: #808000; text-decoration-color: #808000; font-weight: bold\">------- Hoàn thành bước: delay_node -------</span>\n",
       "</pre>\n"
      ],
      "text/plain": [
       "\n",
       "\u001b[1;33m------- Hoàn thành bước: delay_node -------\u001b[0m\n"
      ]
     },
     "metadata": {},
     "output_type": "display_data"
    },
    {
     "data": {
      "text/html": [
       "<pre style=\"white-space:pre;overflow-x:auto;line-height:normal;font-family:Menlo,'DejaVu Sans Mono',consolas,'Courier New',monospace\">\n",
       "<span style=\"color: #008080; text-decoration-color: #008080; font-weight: bold\">&gt;</span> `Router`: Đang kiểm tra nhiệm vụ<span style=\"color: #808000; text-decoration-color: #808000\">...</span>\n",
       "</pre>\n"
      ],
      "text/plain": [
       "\n",
       "\u001b[1;36m>\u001b[0m `Router`: Đang kiểm tra nhiệm vụ\u001b[33m...\u001b[0m\n"
      ]
     },
     "metadata": {},
     "output_type": "display_data"
    },
    {
     "data": {
      "text/html": [
       "<pre style=\"white-space:pre;overflow-x:auto;line-height:normal;font-family:Menlo,'DejaVu Sans Mono',consolas,'Courier New',monospace\">\n",
       "<span style=\"color: #008080; text-decoration-color: #008080; font-weight: bold\">&gt;</span> Nhiệm vụ tiếp theo: <span style=\"color: #008000; text-decoration-color: #008000\">'Trình bày, Chuẩn hóa và Củng cố kiến thức'</span> <span style=\"font-weight: bold\">(</span>ID: <span style=\"color: #008080; text-decoration-color: #008080; font-weight: bold\">2</span><span style=\"font-weight: bold\">)</span>\n",
       "</pre>\n"
      ],
      "text/plain": [
       "\n",
       "\u001b[1;36m>\u001b[0m Nhiệm vụ tiếp theo: \u001b[32m'Trình bày, Chuẩn hóa và Củng cố kiến thức'\u001b[0m \u001b[1m(\u001b[0mID: \u001b[1;36m2\u001b[0m\u001b[1m)\u001b[0m\n"
      ]
     },
     "metadata": {},
     "output_type": "display_data"
    },
    {
     "data": {
      "text/html": [
       "<pre style=\"white-space:pre;overflow-x:auto;line-height:normal;font-family:Menlo,'DejaVu Sans Mono',consolas,'Courier New',monospace\">\n",
       "<span style=\"color: #808000; text-decoration-color: #808000; font-weight: bold\">------- Hoàn thành bước: task_router -------</span>\n",
       "</pre>\n"
      ],
      "text/plain": [
       "\n",
       "\u001b[1;33m------- Hoàn thành bước: task_router -------\u001b[0m\n"
      ]
     },
     "metadata": {},
     "output_type": "display_data"
    },
    {
     "data": {
      "text/html": [
       "<pre style=\"white-space:pre;overflow-x:auto;line-height:normal;font-family:Menlo,'DejaVu Sans Mono',consolas,'Courier New',monospace\">\n",
       "<span style=\"color: #008080; text-decoration-color: #008080; font-weight: bold\">&gt;</span> `Agent: Task Dispatcher` đang giao việc<span style=\"color: #808000; text-decoration-color: #808000\">...</span>\n",
       "</pre>\n"
      ],
      "text/plain": [
       "\n",
       "\u001b[1;36m>\u001b[0m `Agent: Task Dispatcher` đang giao việc\u001b[33m...\u001b[0m\n"
      ]
     },
     "metadata": {},
     "output_type": "display_data"
    },
    {
     "data": {
      "text/html": [
       "<pre style=\"white-space:pre;overflow-x:auto;line-height:normal;font-family:Menlo,'DejaVu Sans Mono',consolas,'Courier New',monospace\">\n",
       "<span style=\"color: #008080; text-decoration-color: #008080; font-weight: bold\">&gt;</span> --- 🚚 `Dispatcher`: Giao nhiệm vụ cho `theory_synthesizer`.\n",
       "</pre>\n"
      ],
      "text/plain": [
       "\n",
       "\u001b[1;36m>\u001b[0m --- 🚚 `Dispatcher`: Giao nhiệm vụ cho `theory_synthesizer`.\n"
      ]
     },
     "metadata": {},
     "output_type": "display_data"
    },
    {
     "data": {
      "text/html": [
       "<pre style=\"white-space:pre;overflow-x:auto;line-height:normal;font-family:Menlo,'DejaVu Sans Mono',consolas,'Courier New',monospace\">\n",
       "<span style=\"color: #808000; text-decoration-color: #808000; font-weight: bold\">------- Hoàn thành bước: task_dispatcher -------</span>\n",
       "</pre>\n"
      ],
      "text/plain": [
       "\n",
       "\u001b[1;33m------- Hoàn thành bước: task_dispatcher -------\u001b[0m\n"
      ]
     },
     "metadata": {},
     "output_type": "display_data"
    },
    {
     "data": {
      "text/html": [
       "<pre style=\"white-space:pre;overflow-x:auto;line-height:normal;font-family:Menlo,'DejaVu Sans Mono',consolas,'Courier New',monospace\">\n",
       "<span style=\"color: #008080; text-decoration-color: #008080; font-weight: bold\">&gt;</span> `Agent: Theory Synthesizer` <span style=\"font-weight: bold\">(</span>v9.<span style=\"color: #008080; text-decoration-color: #008080; font-weight: bold\">7</span><span style=\"font-weight: bold\">)</span> đang tạo nội dung linh hoạt <span style=\"font-weight: bold\">(</span>Lõi + Mở rộng<span style=\"font-weight: bold\">)</span><span style=\"color: #808000; text-decoration-color: #808000\">...</span>\n",
       "</pre>\n"
      ],
      "text/plain": [
       "\n",
       "\u001b[1;36m>\u001b[0m `Agent: Theory Synthesizer` \u001b[1m(\u001b[0mv9.\u001b[1;36m7\u001b[0m\u001b[1m)\u001b[0m đang tạo nội dung linh hoạt \u001b[1m(\u001b[0mLõi + Mở rộng\u001b[1m)\u001b[0m\u001b[33m...\u001b[0m\n"
      ]
     },
     "metadata": {},
     "output_type": "display_data"
    },
    {
     "data": {
      "text/html": [
       "<pre style=\"white-space:pre;overflow-x:auto;line-height:normal;font-family:Menlo,'DejaVu Sans Mono',consolas,'Courier New',monospace\"><span style=\"color: #008000; text-decoration-color: #008000; font-weight: bold\">✔️ Nội dung do Theory Synthesizer tạo ra (Linh hoạt):</span>\n",
       "</pre>\n"
      ],
      "text/plain": [
       "\u001b[1;32m✔️ Nội dung do Theory Synthesizer tạo ra \u001b[0m\u001b[1;32m(\u001b[0m\u001b[1;32mLinh hoạt\u001b[0m\u001b[1;32m)\u001b[0m\u001b[1;32m:\u001b[0m\n"
      ]
     },
     "metadata": {},
     "output_type": "display_data"
    },
    {
     "data": {
      "text/html": [
       "<pre style=\"white-space:pre;overflow-x:auto;line-height:normal;font-family:Menlo,'DejaVu Sans Mono',consolas,'Courier New',monospace\"><span style=\"font-weight: bold\">{</span>\n",
       "<span style=\"color: #7fbf7f; text-decoration-color: #7fbf7f\">│   </span><span style=\"color: #008000; text-decoration-color: #008000\">'activity_name'</span>: <span style=\"color: #008000; text-decoration-color: #008000\">'Trình bày, Chuẩn hóa và Củng cố kiến thức'</span>,\n",
       "<span style=\"color: #7fbf7f; text-decoration-color: #7fbf7f\">│   </span><span style=\"color: #008000; text-decoration-color: #008000\">'activity_type'</span>: <span style=\"color: #008000; text-decoration-color: #008000\">'Trình bày nhóm và Tổng kết kiến thức'</span>,\n",
       "<span style=\"color: #7fbf7f; text-decoration-color: #7fbf7f\">│   </span><span style=\"color: #008000; text-decoration-color: #008000\">'duration_minutes'</span>: <span style=\"color: #008080; text-decoration-color: #008080; font-weight: bold\">25</span>,\n",
       "<span style=\"color: #7fbf7f; text-decoration-color: #7fbf7f\">│   </span><span style=\"color: #008000; text-decoration-color: #008000\">'teacher_actions'</span>: <span style=\"font-weight: bold\">[</span>\n",
       "<span style=\"color: #7fbf7f; text-decoration-color: #7fbf7f\">│   │   </span><span style=\"color: #008000; text-decoration-color: #008000\">'Mời đại diện các nhóm lên trình bày sản phẩm của nhóm mình.'</span>,\n",
       "<span style=\"color: #7fbf7f; text-decoration-color: #7fbf7f\">│   │   </span><span style=\"color: #008000; text-decoration-color: #008000\">'Lắng nghe, đặt câu hỏi gợi mở, nhận xét và bổ sung các điểm còn thiếu hoặc chưa chính xác trong phần trình bày của học sinh.'</span>,\n",
       "<span style=\"color: #7fbf7f; text-decoration-color: #7fbf7f\">│   │   </span><span style=\"color: #008000; text-decoration-color: #008000\">'Chuẩn hóa các định nghĩa, tính chất và cách xác định tâm, bán kính của đường tròn ngoại tiếp tam giác (tâm là giao 3 đường trung trực, bán kính R) và đường tròn nội tiếp tam giác (tâm là giao 3 đường phân giác, bán kính r).'</span>,\n",
       "<span style=\"color: #7fbf7f; text-decoration-color: #7fbf7f\">│   │   </span><span style=\"color: #008000; text-decoration-color: #008000\">'Tổng kết các kiến thức trọng tâm bằng sơ đồ hoặc bảng so sánh để học sinh dễ ghi nhớ.'</span>,\n",
       "<span style=\"color: #7fbf7f; text-decoration-color: #7fbf7f\">│   │   </span><span style=\"color: #008000; text-decoration-color: #008000\">'Giải đáp thắc mắc của học sinh (nếu có) và củng cố kiến thức nền tảng.'</span>\n",
       "<span style=\"color: #7fbf7f; text-decoration-color: #7fbf7f\">│   </span><span style=\"font-weight: bold\">]</span>,\n",
       "<span style=\"color: #7fbf7f; text-decoration-color: #7fbf7f\">│   </span><span style=\"color: #008000; text-decoration-color: #008000\">'core_component'</span>: <span style=\"color: #008000; text-decoration-color: #008000\">'Các nhóm lần lượt cử đại diện lên bảng trình bày sản phẩm đã chuẩn bị về đường tròn ngoại tiếp và đường tròn nội tiếp (sơ đồ tư duy, hình vẽ, tóm tắt các định nghĩa/tính chất). Giáo viên lắng nghe, đặt câu hỏi gợi mở, nhận xét và bổ sung các điểm còn thiếu hoặc chưa chính xác trong phần trình bày của học sinh. Sau đó, giáo viên tổng kết lại toàn bộ các khái niệm trọng tâm, các tính chất quan trọng và cách xác định tâm/bán kính của hai loại đường tròn này, nhấn mạnh sự khác biệt và mối liên hệ giữa chúng để đảm bảo tất cả học sinh nắm vững kiến thức cốt lõi.'</span>,\n",
       "<span style=\"color: #7fbf7f; text-decoration-color: #7fbf7f\">│   </span><span style=\"color: #008000; text-decoration-color: #008000\">'extension_component'</span>: <span style=\"color: #008000; text-decoration-color: #008000\">\"Nếu còn thời gian, giáo viên có thể đặt câu hỏi mở rộng cho cả lớp hoặc nhóm học sinh làm nhanh: 'Liệu có mối liên hệ nào giữa bán kính đường tròn ngoại tiếp và bán kính đường tròn nội tiếp trong một tam giác vuông cân không? Hãy thử tìm hiểu.' Hoặc yêu cầu học sinh nêu một ứng dụng thực tế của đường tròn ngoại tiếp/nội tiếp trong đời sống hoặc các lĩnh vực khác.\"</span>,\n",
       "<span style=\"color: #7fbf7f; text-decoration-color: #7fbf7f\">│   </span><span style=\"color: #008000; text-decoration-color: #008000\">'solution_guide'</span>: <span style=\"color: #008000; text-decoration-color: #008000\">'Giáo viên cần chuẩn bị sẵn các sơ đồ, bảng tóm tắt kiến thức chuẩn xác về: Định nghĩa, tính chất cơ bản của đường tròn ngoại tiếp và nội tiếp. Cách xác định tâm và bán kính của đường tròn ngoại tiếp (giao điểm 3 đường trung trực, công thức R). Cách xác định tâm và bán kính của đường tròn nội tiếp (giao điểm 3 đường phân giác, công thức r). Lưu ý các trường hợp đặc biệt (tam giác đều, tam giác vuông). Đối với câu hỏi mở rộng, gợi ý học sinh xem xét mối quan hệ giữa các cạnh và góc trong tam giác vuông cân để tìm ra R và r, sau đó so sánh.'</span>,\n",
       "<span style=\"color: #7fbf7f; text-decoration-color: #7fbf7f\">│   </span><span style=\"color: #008000; text-decoration-color: #008000\">'differentiation'</span>: <span style=\"font-weight: bold\">{</span>\n",
       "<span style=\"color: #7fbf7f; text-decoration-color: #7fbf7f\">│   │   </span><span style=\"color: #008000; text-decoration-color: #008000\">'for_struggling_students'</span>: <span style=\"color: #008000; text-decoration-color: #008000\">'Trong quá trình các nhóm trình bày, giáo viên tập trung hỏi các câu hỏi cơ bản để kiểm tra sự hiểu biết về định nghĩa và cách xác định tâm/bán kính. Khi tổng kết, giáo viên cung cấp bảng tóm tắt kiến thức cốt lõi với các hình vẽ minh họa rõ ràng, yêu cầu các em ghi chép đầy đủ và có thể cung cấp phiếu bài tập củng cố đơn giản.'</span>,\n",
       "<span style=\"color: #7fbf7f; text-decoration-color: #7fbf7f\">│   │   </span><span style=\"color: #008000; text-decoration-color: #008000\">'for_advanced_students'</span>: <span style=\"color: #008000; text-decoration-color: #008000\">'Khuyến khích các em đặt câu hỏi phản biện hoặc bổ sung cho phần trình bày của nhóm bạn. Khi giáo viên tổng kết, có thể yêu cầu các em nêu thêm các tính chất nâng cao hoặc mối liên hệ giữa hai loại đường tròn này trong các trường hợp đặc biệt (ví dụ: tam giác đều, tam giác vuông). Giao câu hỏi mở rộng để các em suy nghĩ thêm.'</span>\n",
       "<span style=\"color: #7fbf7f; text-decoration-color: #7fbf7f\">│   </span><span style=\"font-weight: bold\">}</span>,\n",
       "<span style=\"color: #7fbf7f; text-decoration-color: #7fbf7f\">│   </span><span style=\"color: #008000; text-decoration-color: #008000\">'question_or_description'</span>: <span style=\"color: #008000; text-decoration-color: #008000\">\"**Phần Cốt lõi:**\\nCác nhóm lần lượt cử đại diện lên bảng trình bày sản phẩm đã chuẩn bị về đường tròn ngoại tiếp và đường tròn nội tiếp (sơ đồ tư duy, hình vẽ, tóm tắt các định nghĩa/tính chất). Giáo viên lắng nghe, đặt câu hỏi gợi mở, nhận xét và bổ sung các điểm còn thiếu hoặc chưa chính xác trong phần trình bày của học sinh. Sau đó, giáo viên tổng kết lại toàn bộ các khái niệm trọng tâm, các tính chất quan trọng và cách xác định tâm/bán kính của hai loại đường tròn này, nhấn mạnh sự khác biệt và mối liên hệ giữa chúng để đảm bảo tất cả học sinh nắm vững kiến thức cốt lõi.\\n\\n**Phần Mở rộng (nếu còn thời gian):**\\nNếu còn thời gian, giáo viên có thể đặt câu hỏi mở rộng cho cả lớp hoặc nhóm học sinh làm nhanh: 'Liệu có mối liên hệ nào giữa bán kính đường tròn ngoại tiếp và bán kính đường tròn nội tiếp trong một tam giác vuông cân không? Hãy thử tìm hiểu.' Hoặc yêu cầu học sinh nêu một ứng dụng thực tế của đường tròn ngoại tiếp/nội tiếp trong đời sống hoặc các lĩnh vực khác.\"</span>\n",
       "<span style=\"font-weight: bold\">}</span>\n",
       "</pre>\n"
      ],
      "text/plain": [
       "\u001b[1m{\u001b[0m\n",
       "\u001b[2;32m│   \u001b[0m\u001b[32m'activity_name'\u001b[0m: \u001b[32m'Trình bày, Chuẩn hóa và Củng cố kiến thức'\u001b[0m,\n",
       "\u001b[2;32m│   \u001b[0m\u001b[32m'activity_type'\u001b[0m: \u001b[32m'Trình bày nhóm và Tổng kết kiến thức'\u001b[0m,\n",
       "\u001b[2;32m│   \u001b[0m\u001b[32m'duration_minutes'\u001b[0m: \u001b[1;36m25\u001b[0m,\n",
       "\u001b[2;32m│   \u001b[0m\u001b[32m'teacher_actions'\u001b[0m: \u001b[1m[\u001b[0m\n",
       "\u001b[2;32m│   │   \u001b[0m\u001b[32m'Mời đại diện các nhóm lên trình bày sản phẩm của nhóm mình.'\u001b[0m,\n",
       "\u001b[2;32m│   │   \u001b[0m\u001b[32m'Lắng nghe, đặt câu hỏi gợi mở, nhận xét và bổ sung các điểm còn thiếu hoặc chưa chính xác trong phần trình bày của học sinh.'\u001b[0m,\n",
       "\u001b[2;32m│   │   \u001b[0m\u001b[32m'Chuẩn hóa các định nghĩa, tính chất và cách xác định tâm, bán kính của đường tròn ngoại tiếp tam giác \u001b[0m\u001b[32m(\u001b[0m\u001b[32mtâm là giao 3 đường trung trực, bán kính R\u001b[0m\u001b[32m)\u001b[0m\u001b[32m và đường tròn nội tiếp tam giác \u001b[0m\u001b[32m(\u001b[0m\u001b[32mtâm là giao 3 đường phân giác, bán kính r\u001b[0m\u001b[32m)\u001b[0m\u001b[32m.'\u001b[0m,\n",
       "\u001b[2;32m│   │   \u001b[0m\u001b[32m'Tổng kết các kiến thức trọng tâm bằng sơ đồ hoặc bảng so sánh để học sinh dễ ghi nhớ.'\u001b[0m,\n",
       "\u001b[2;32m│   │   \u001b[0m\u001b[32m'Giải đáp thắc mắc của học sinh \u001b[0m\u001b[32m(\u001b[0m\u001b[32mnếu có\u001b[0m\u001b[32m)\u001b[0m\u001b[32m và củng cố kiến thức nền tảng.'\u001b[0m\n",
       "\u001b[2;32m│   \u001b[0m\u001b[1m]\u001b[0m,\n",
       "\u001b[2;32m│   \u001b[0m\u001b[32m'core_component'\u001b[0m: \u001b[32m'Các nhóm lần lượt cử đại diện lên bảng trình bày sản phẩm đã chuẩn bị về đường tròn ngoại tiếp và đường tròn nội tiếp \u001b[0m\u001b[32m(\u001b[0m\u001b[32msơ đồ tư duy, hình vẽ, tóm tắt các định nghĩa/tính chất\u001b[0m\u001b[32m)\u001b[0m\u001b[32m. Giáo viên lắng nghe, đặt câu hỏi gợi mở, nhận xét và bổ sung các điểm còn thiếu hoặc chưa chính xác trong phần trình bày của học sinh. Sau đó, giáo viên tổng kết lại toàn bộ các khái niệm trọng tâm, các tính chất quan trọng và cách xác định tâm/bán kính của hai loại đường tròn này, nhấn mạnh sự khác biệt và mối liên hệ giữa chúng để đảm bảo tất cả học sinh nắm vững kiến thức cốt lõi.'\u001b[0m,\n",
       "\u001b[2;32m│   \u001b[0m\u001b[32m'extension_component'\u001b[0m: \u001b[32m\"Nếu còn thời gian, giáo viên có thể đặt câu hỏi mở rộng cho cả lớp hoặc nhóm học sinh làm nhanh: 'Liệu có mối liên hệ nào giữa bán kính đường tròn ngoại tiếp và bán kính đường tròn nội tiếp trong một tam giác vuông cân không? Hãy thử tìm hiểu.' Hoặc yêu cầu học sinh nêu một ứng dụng thực tế của đường tròn ngoại tiếp/nội tiếp trong đời sống hoặc các lĩnh vực khác.\"\u001b[0m,\n",
       "\u001b[2;32m│   \u001b[0m\u001b[32m'solution_guide'\u001b[0m: \u001b[32m'Giáo viên cần chuẩn bị sẵn các sơ đồ, bảng tóm tắt kiến thức chuẩn xác về: Định nghĩa, tính chất cơ bản của đường tròn ngoại tiếp và nội tiếp. Cách xác định tâm và bán kính của đường tròn ngoại tiếp \u001b[0m\u001b[32m(\u001b[0m\u001b[32mgiao điểm 3 đường trung trực, công thức R\u001b[0m\u001b[32m)\u001b[0m\u001b[32m. Cách xác định tâm và bán kính của đường tròn nội tiếp \u001b[0m\u001b[32m(\u001b[0m\u001b[32mgiao điểm 3 đường phân giác, công thức r\u001b[0m\u001b[32m)\u001b[0m\u001b[32m. Lưu ý các trường hợp đặc biệt \u001b[0m\u001b[32m(\u001b[0m\u001b[32mtam giác đều, tam giác vuông\u001b[0m\u001b[32m)\u001b[0m\u001b[32m. Đối với câu hỏi mở rộng, gợi ý học sinh xem xét mối quan hệ giữa các cạnh và góc trong tam giác vuông cân để tìm ra R và r, sau đó so sánh.'\u001b[0m,\n",
       "\u001b[2;32m│   \u001b[0m\u001b[32m'differentiation'\u001b[0m: \u001b[1m{\u001b[0m\n",
       "\u001b[2;32m│   │   \u001b[0m\u001b[32m'for_struggling_students'\u001b[0m: \u001b[32m'Trong quá trình các nhóm trình bày, giáo viên tập trung hỏi các câu hỏi cơ bản để kiểm tra sự hiểu biết về định nghĩa và cách xác định tâm/bán kính. Khi tổng kết, giáo viên cung cấp bảng tóm tắt kiến thức cốt lõi với các hình vẽ minh họa rõ ràng, yêu cầu các em ghi chép đầy đủ và có thể cung cấp phiếu bài tập củng cố đơn giản.'\u001b[0m,\n",
       "\u001b[2;32m│   │   \u001b[0m\u001b[32m'for_advanced_students'\u001b[0m: \u001b[32m'Khuyến khích các em đặt câu hỏi phản biện hoặc bổ sung cho phần trình bày của nhóm bạn. Khi giáo viên tổng kết, có thể yêu cầu các em nêu thêm các tính chất nâng cao hoặc mối liên hệ giữa hai loại đường tròn này trong các trường hợp đặc biệt \u001b[0m\u001b[32m(\u001b[0m\u001b[32mví dụ: tam giác đều, tam giác vuông\u001b[0m\u001b[32m)\u001b[0m\u001b[32m. Giao câu hỏi mở rộng để các em suy nghĩ thêm.'\u001b[0m\n",
       "\u001b[2;32m│   \u001b[0m\u001b[1m}\u001b[0m,\n",
       "\u001b[2;32m│   \u001b[0m\u001b[32m'question_or_description'\u001b[0m: \u001b[32m\"**Phần Cốt lõi:**\\nCác nhóm lần lượt cử đại diện lên bảng trình bày sản phẩm đã chuẩn bị về đường tròn ngoại tiếp và đường tròn nội tiếp \u001b[0m\u001b[32m(\u001b[0m\u001b[32msơ đồ tư duy, hình vẽ, tóm tắt các định nghĩa/tính chất\u001b[0m\u001b[32m)\u001b[0m\u001b[32m. Giáo viên lắng nghe, đặt câu hỏi gợi mở, nhận xét và bổ sung các điểm còn thiếu hoặc chưa chính xác trong phần trình bày của học sinh. Sau đó, giáo viên tổng kết lại toàn bộ các khái niệm trọng tâm, các tính chất quan trọng và cách xác định tâm/bán kính của hai loại đường tròn này, nhấn mạnh sự khác biệt và mối liên hệ giữa chúng để đảm bảo tất cả học sinh nắm vững kiến thức cốt lõi.\\n\\n**Phần Mở rộng \u001b[0m\u001b[32m(\u001b[0m\u001b[32mnếu còn thời gian\u001b[0m\u001b[32m)\u001b[0m\u001b[32m:**\\nNếu còn thời gian, giáo viên có thể đặt câu hỏi mở rộng cho cả lớp hoặc nhóm học sinh làm nhanh: 'Liệu có mối liên hệ nào giữa bán kính đường tròn ngoại tiếp và bán kính đường tròn nội tiếp trong một tam giác vuông cân không? Hãy thử tìm hiểu.' Hoặc yêu cầu học sinh nêu một ứng dụng thực tế của đường tròn ngoại tiếp/nội tiếp trong đời sống hoặc các lĩnh vực khác.\"\u001b[0m\n",
       "\u001b[1m}\u001b[0m\n"
      ]
     },
     "metadata": {},
     "output_type": "display_data"
    },
    {
     "data": {
      "text/html": [
       "<pre style=\"white-space:pre;overflow-x:auto;line-height:normal;font-family:Menlo,'DejaVu Sans Mono',consolas,'Courier New',monospace\">\n",
       "<span style=\"color: #808000; text-decoration-color: #808000; font-weight: bold\">------- Hoàn thành bước: theory_synthesizer -------</span>\n",
       "</pre>\n"
      ],
      "text/plain": [
       "\n",
       "\u001b[1;33m------- Hoàn thành bước: theory_synthesizer -------\u001b[0m\n"
      ]
     },
     "metadata": {},
     "output_type": "display_data"
    },
    {
     "data": {
      "text/html": [
       "<pre style=\"white-space:pre;overflow-x:auto;line-height:normal;font-family:Menlo,'DejaVu Sans Mono',consolas,'Courier New',monospace\">\n",
       "<span style=\"color: #008080; text-decoration-color: #008080; font-weight: bold\">&gt;</span> `Agent: Time-Budget Advisor` <span style=\"font-weight: bold\">(</span>v9.<span style=\"color: #008080; text-decoration-color: #008080; font-weight: bold\">7</span><span style=\"font-weight: bold\">)</span> đang phản biện nội dung và ngân sách thời gian<span style=\"color: #808000; text-decoration-color: #808000\">...</span>\n",
       "</pre>\n"
      ],
      "text/plain": [
       "\n",
       "\u001b[1;36m>\u001b[0m `Agent: Time-Budget Advisor` \u001b[1m(\u001b[0mv9.\u001b[1;36m7\u001b[0m\u001b[1m)\u001b[0m đang phản biện nội dung và ngân sách thời gian\u001b[33m...\u001b[0m\n"
      ]
     },
     "metadata": {},
     "output_type": "display_data"
    },
    {
     "data": {
      "text/html": [
       "<pre style=\"white-space:pre;overflow-x:auto;line-height:normal;font-family:Menlo,'DejaVu Sans Mono',consolas,'Courier New',monospace\"><span style=\"color: #808000; text-decoration-color: #808000; font-weight: bold\">⚠️  CỐ VẤN PHẢN BIỆN: Lỗi phân bổ ngân sách! Thời gian đề xuất (</span><span style=\"color: #808000; text-decoration-color: #808000; font-weight: bold\">25</span><span style=\"color: #808000; text-decoration-color: #808000; font-weight: bold\"> phút) quá lớn so với thời gian còn lại (</span><span style=\"color: #808000; text-decoration-color: #808000; font-weight: bold\">35</span><span style=\"color: #808000; text-decoration-color: #808000; font-weight: bold\"> phút).</span>\n",
       "<span style=\"color: #808000; text-decoration-color: #808000; font-weight: bold\">Hoạt động </span><span style=\"color: #808000; text-decoration-color: #808000; font-weight: bold\">\"Trình bày, Chuẩn hóa và Củng cố kiến thức\"</span><span style=\"color: #808000; text-decoration-color: #808000; font-weight: bold\"> này rất quan trọng và có nhiều nội dung cần triển khai (trình</span>\n",
       "<span style=\"color: #808000; text-decoration-color: #808000; font-weight: bold\">bày nhóm, chuẩn hóa kiến thức cho cả hai loại đường tròn, tổng kết). Để đảm bảo tiến độ chung của buổi học và còn </span>\n",
       "<span style=\"color: #808000; text-decoration-color: #808000; font-weight: bold\">đủ thời gian cho các hoạt động tiếp theo (ví dụ: luyện tập, giao bài tập về nhà), hoạt động này cần được thiết kế </span>\n",
       "<span style=\"color: #808000; text-decoration-color: #808000; font-weight: bold\">lại để gói gọn trong khoảng </span><span style=\"color: #808000; text-decoration-color: #808000; font-weight: bold\">20</span><span style=\"color: #808000; text-decoration-color: #808000; font-weight: bold\"> phút. Điều này có thể yêu cầu giáo viên cần tinh gọn phần trình bày của học sinh </span>\n",
       "<span style=\"color: #808000; text-decoration-color: #808000; font-weight: bold\">hoặc tập trung chuẩn hóa các kiến thức cốt lõi nhất. | SUGGESTED_DURATION: </span><span style=\"color: #808000; text-decoration-color: #808000; font-weight: bold\">20</span>\n",
       "</pre>\n"
      ],
      "text/plain": [
       "\u001b[1;33m⚠️  CỐ VẤN PHẢN BIỆN: Lỗi phân bổ ngân sách! Thời gian đề xuất \u001b[0m\u001b[1;33m(\u001b[0m\u001b[1;33m25\u001b[0m\u001b[1;33m phút\u001b[0m\u001b[1;33m)\u001b[0m\u001b[1;33m quá lớn so với thời gian còn lại \u001b[0m\u001b[1;33m(\u001b[0m\u001b[1;33m35\u001b[0m\u001b[1;33m phút\u001b[0m\u001b[1;33m)\u001b[0m\u001b[1;33m.\u001b[0m\n",
       "\u001b[1;33mHoạt động \u001b[0m\u001b[1;33m\"Trình bày, Chuẩn hóa và Củng cố kiến thức\"\u001b[0m\u001b[1;33m này rất quan trọng và có nhiều nội dung cần triển khai \u001b[0m\u001b[1;33m(\u001b[0m\u001b[1;33mtrình\u001b[0m\n",
       "\u001b[1;33mbày nhóm, chuẩn hóa kiến thức cho cả hai loại đường tròn, tổng kết\u001b[0m\u001b[1;33m)\u001b[0m\u001b[1;33m. Để đảm bảo tiến độ chung của buổi học và còn \u001b[0m\n",
       "\u001b[1;33mđủ thời gian cho các hoạt động tiếp theo \u001b[0m\u001b[1;33m(\u001b[0m\u001b[1;33mví dụ: luyện tập, giao bài tập về nhà\u001b[0m\u001b[1;33m)\u001b[0m\u001b[1;33m, hoạt động này cần được thiết kế \u001b[0m\n",
       "\u001b[1;33mlại để gói gọn trong khoảng \u001b[0m\u001b[1;33m20\u001b[0m\u001b[1;33m phút. Điều này có thể yêu cầu giáo viên cần tinh gọn phần trình bày của học sinh \u001b[0m\n",
       "\u001b[1;33mhoặc tập trung chuẩn hóa các kiến thức cốt lõi nhất. | SUGGESTED_DURATION: \u001b[0m\u001b[1;33m20\u001b[0m\n"
      ]
     },
     "metadata": {},
     "output_type": "display_data"
    },
    {
     "data": {
      "text/html": [
       "<pre style=\"white-space:pre;overflow-x:auto;line-height:normal;font-family:Menlo,'DejaVu Sans Mono',consolas,'Courier New',monospace\">\n",
       "<span style=\"color: #008080; text-decoration-color: #008080; font-weight: bold\">&gt;</span> ROUTER <span style=\"font-weight: bold\">(</span>Validation<span style=\"font-weight: bold\">)</span>: Nội dung bị từ chối. Quay lại để agent chuyên môn THỬ LẠI.\n",
       "</pre>\n"
      ],
      "text/plain": [
       "\n",
       "\u001b[1;36m>\u001b[0m ROUTER \u001b[1m(\u001b[0mValidation\u001b[1m)\u001b[0m: Nội dung bị từ chối. Quay lại để agent chuyên môn THỬ LẠI.\n"
      ]
     },
     "metadata": {},
     "output_type": "display_data"
    },
    {
     "data": {
      "text/html": [
       "<pre style=\"white-space:pre;overflow-x:auto;line-height:normal;font-family:Menlo,'DejaVu Sans Mono',consolas,'Courier New',monospace\">\n",
       "<span style=\"color: #808000; text-decoration-color: #808000; font-weight: bold\">------- Hoàn thành bước: content_validator -------</span>\n",
       "</pre>\n"
      ],
      "text/plain": [
       "\n",
       "\u001b[1;33m------- Hoàn thành bước: content_validator -------\u001b[0m\n"
      ]
     },
     "metadata": {},
     "output_type": "display_data"
    },
    {
     "data": {
      "text/html": [
       "<pre style=\"white-space:pre;overflow-x:auto;line-height:normal;font-family:Menlo,'DejaVu Sans Mono',consolas,'Courier New',monospace\">\n",
       "<span style=\"color: #008080; text-decoration-color: #008080; font-weight: bold\">&gt;</span> `Agent: Task Dispatcher` đang giao việc<span style=\"color: #808000; text-decoration-color: #808000\">...</span>\n",
       "</pre>\n"
      ],
      "text/plain": [
       "\n",
       "\u001b[1;36m>\u001b[0m `Agent: Task Dispatcher` đang giao việc\u001b[33m...\u001b[0m\n"
      ]
     },
     "metadata": {},
     "output_type": "display_data"
    },
    {
     "data": {
      "text/html": [
       "<pre style=\"white-space:pre;overflow-x:auto;line-height:normal;font-family:Menlo,'DejaVu Sans Mono',consolas,'Courier New',monospace\">\n",
       "<span style=\"color: #008080; text-decoration-color: #008080; font-weight: bold\">&gt;</span> --- 🚚 `Dispatcher`: Giao nhiệm vụ cho `activity_designer`.\n",
       "</pre>\n"
      ],
      "text/plain": [
       "\n",
       "\u001b[1;36m>\u001b[0m --- 🚚 `Dispatcher`: Giao nhiệm vụ cho `activity_designer`.\n"
      ]
     },
     "metadata": {},
     "output_type": "display_data"
    },
    {
     "data": {
      "text/html": [
       "<pre style=\"white-space:pre;overflow-x:auto;line-height:normal;font-family:Menlo,'DejaVu Sans Mono',consolas,'Courier New',monospace\">\n",
       "<span style=\"color: #808000; text-decoration-color: #808000; font-weight: bold\">------- Hoàn thành bước: task_dispatcher -------</span>\n",
       "</pre>\n"
      ],
      "text/plain": [
       "\n",
       "\u001b[1;33m------- Hoàn thành bước: task_dispatcher -------\u001b[0m\n"
      ]
     },
     "metadata": {},
     "output_type": "display_data"
    },
    {
     "data": {
      "text/html": [
       "<pre style=\"white-space:pre;overflow-x:auto;line-height:normal;font-family:Menlo,'DejaVu Sans Mono',consolas,'Courier New',monospace\">\n",
       "<span style=\"color: #008080; text-decoration-color: #008080; font-weight: bold\">&gt;</span> `Agent: Activity Designer` <span style=\"font-weight: bold\">(</span>v9.<span style=\"color: #008080; text-decoration-color: #008080; font-weight: bold\">7</span><span style=\"font-weight: bold\">)</span> đang tạo nội dung linh hoạt <span style=\"font-weight: bold\">(</span>Lõi + Mở rộng<span style=\"font-weight: bold\">)</span><span style=\"color: #808000; text-decoration-color: #808000\">...</span>\n",
       "</pre>\n"
      ],
      "text/plain": [
       "\n",
       "\u001b[1;36m>\u001b[0m `Agent: Activity Designer` \u001b[1m(\u001b[0mv9.\u001b[1;36m7\u001b[0m\u001b[1m)\u001b[0m đang tạo nội dung linh hoạt \u001b[1m(\u001b[0mLõi + Mở rộng\u001b[1m)\u001b[0m\u001b[33m...\u001b[0m\n"
      ]
     },
     "metadata": {},
     "output_type": "display_data"
    },
    {
     "data": {
      "text/html": [
       "<pre style=\"white-space:pre;overflow-x:auto;line-height:normal;font-family:Menlo,'DejaVu Sans Mono',consolas,'Courier New',monospace\"><span style=\"color: #008000; text-decoration-color: #008000; font-weight: bold\">✔️ Nội dung do Activity Designer tạo ra (Linh hoạt):</span>\n",
       "</pre>\n"
      ],
      "text/plain": [
       "\u001b[1;32m✔️ Nội dung do Activity Designer tạo ra \u001b[0m\u001b[1;32m(\u001b[0m\u001b[1;32mLinh hoạt\u001b[0m\u001b[1;32m)\u001b[0m\u001b[1;32m:\u001b[0m\n"
      ]
     },
     "metadata": {},
     "output_type": "display_data"
    },
    {
     "data": {
      "text/html": [
       "<pre style=\"white-space:pre;overflow-x:auto;line-height:normal;font-family:Menlo,'DejaVu Sans Mono',consolas,'Courier New',monospace\"><span style=\"font-weight: bold\">{</span>\n",
       "<span style=\"color: #7fbf7f; text-decoration-color: #7fbf7f\">│   </span><span style=\"color: #008000; text-decoration-color: #008000\">'activity_name'</span>: <span style=\"color: #008000; text-decoration-color: #008000\">'Trình bày, Chuẩn hóa và Củng cố kiến thức'</span>,\n",
       "<span style=\"color: #7fbf7f; text-decoration-color: #7fbf7f\">│   </span><span style=\"color: #008000; text-decoration-color: #008000\">'activity_type'</span>: <span style=\"color: #008000; text-decoration-color: #008000\">'Trình bày nhóm, Phản hồi và Tổng kết'</span>,\n",
       "<span style=\"color: #7fbf7f; text-decoration-color: #7fbf7f\">│   </span><span style=\"color: #008000; text-decoration-color: #008000\">'duration_minutes'</span>: <span style=\"color: #008080; text-decoration-color: #008080; font-weight: bold\">25</span>,\n",
       "<span style=\"color: #7fbf7f; text-decoration-color: #7fbf7f\">│   </span><span style=\"color: #008000; text-decoration-color: #008000\">'teacher_actions'</span>: <span style=\"font-weight: bold\">[</span>\n",
       "<span style=\"color: #7fbf7f; text-decoration-color: #7fbf7f\">│   │   </span><span style=\"color: #008000; text-decoration-color: #008000\">'Mời đại diện các nhóm lên trình bày sản phẩm (sơ đồ tư duy, hình vẽ, tóm tắt) về đường tròn ngoại tiếp và nội tiếp.'</span>,\n",
       "<span style=\"color: #7fbf7f; text-decoration-color: #7fbf7f\">│   │   </span><span style=\"color: #008000; text-decoration-color: #008000\">'Lắng nghe, đặt câu hỏi gợi mở để học sinh giải thích rõ hơn.'</span>,\n",
       "<span style=\"color: #7fbf7f; text-decoration-color: #7fbf7f\">│   │   </span><span style=\"color: #008000; text-decoration-color: #008000\">'Nhận xét, bổ sung, điều chỉnh các kiến thức chưa chính xác hoặc chưa đầy đủ của học sinh.'</span>,\n",
       "<span style=\"color: #7fbf7f; text-decoration-color: #7fbf7f\">│   │   </span><span style=\"color: #008000; text-decoration-color: #008000\">'Tổng kết, chuẩn hóa các khái niệm trọng tâm (định nghĩa, tính chất, cách xác định tâm/bán kính) của đường tròn ngoại tiếp và nội tiếp tam giác.'</span>,\n",
       "<span style=\"color: #7fbf7f; text-decoration-color: #7fbf7f\">│   │   </span><span style=\"color: #008000; text-decoration-color: #008000\">'Ghi bảng các nội dung cốt lõi để học sinh tiện theo dõi và ghi chép.'</span>\n",
       "<span style=\"color: #7fbf7f; text-decoration-color: #7fbf7f\">│   </span><span style=\"font-weight: bold\">]</span>,\n",
       "<span style=\"color: #7fbf7f; text-decoration-color: #7fbf7f\">│   </span><span style=\"color: #008000; text-decoration-color: #008000\">'core_component'</span>: <span style=\"color: #008000; text-decoration-color: #008000\">'Các nhóm cử đại diện lên bảng trình bày sản phẩm của nhóm mình (sơ đồ tư duy, hình vẽ minh họa, tóm tắt các định nghĩa/tính chất của đường tròn ngoại tiếp và nội tiếp tam giác). Giáo viên lắng nghe, đưa ra phản hồi, nhận xét và điều chỉnh để đảm bảo kiến thức được chính xác, đầy đủ. Sau đó, giáo viên tổng kết, chuẩn hóa toàn bộ kiến thức trọng tâm về đường tròn ngoại tiếp (tâm là giao điểm 3 đường trung trực, bán kính) và đường tròn nội tiếp (tâm là giao điểm 3 đường phân giác, bán kính) của tam giác, nhấn mạnh các trường hợp đặc biệt (tam giác vuông, đều).'</span>,\n",
       "<span style=\"color: #7fbf7f; text-decoration-color: #7fbf7f\">│   </span><span style=\"color: #008000; text-decoration-color: #008000\">'extension_component'</span>: <span style=\"color: #008000; text-decoration-color: #008000\">\"Nếu còn thời gian, giáo viên có thể đặt câu hỏi mở rộng: 'Liệu có mối liên hệ nào giữa bán kính đường tròn ngoại tiếp và nội tiếp của một tam giác không?' hoặc 'Trong trường hợp nào thì tâm đường tròn ngoại tiếp và nội tiếp trùng nhau?'\"</span>,\n",
       "<span style=\"color: #7fbf7f; text-decoration-color: #7fbf7f\">│   </span><span style=\"color: #008000; text-decoration-color: #008000\">'solution_guide'</span>: <span style=\"color: #008000; text-decoration-color: #008000\">'Giáo viên cần chuẩn bị sẵn các sơ đồ, hình vẽ minh họa chuẩn xác về đường tròn ngoại tiếp và nội tiếp. Chuẩn bị các câu hỏi gợi mở để học sinh tự rút ra kiến thức. Đảm bảo tổng kết đầy đủ các ý chính: Định nghĩa, Cách xác định tâm (giao điểm 3 đường trung trực/phân giác), Cách xác định bán kính, Vị trí tâm trong các loại tam giác (nhọn, vuông, tù, đều). Nhấn mạnh sự khác biệt giữa hai loại đường tròn.'</span>,\n",
       "<span style=\"color: #7fbf7f; text-decoration-color: #7fbf7f\">│   </span><span style=\"color: #008000; text-decoration-color: #008000\">'differentiation'</span>: <span style=\"font-weight: bold\">{</span>\n",
       "<span style=\"color: #7fbf7f; text-decoration-color: #7fbf7f\">│   │   </span><span style=\"color: #008000; text-decoration-color: #008000\">'for_struggling_students'</span>: <span style=\"color: #008000; text-decoration-color: #008000\">'Trong quá trình các nhóm trình bày và giáo viên tổng kết, giáo viên cần đặc biệt chú ý quan sát biểu hiện của học sinh yếu. Có thể đặt câu hỏi trực tiếp, đơn giản để kiểm tra mức độ hiểu bài của các em về các khái niệm cơ bản. Yêu cầu các em nhắc lại định nghĩa hoặc cách xác định tâm/bán kính. Cung cấp một bảng tóm tắt kiến thức đã chuẩn hóa để các em dễ dàng ghi chép và ôn tập.'</span>,\n",
       "<span style=\"color: #7fbf7f; text-decoration-color: #7fbf7f\">│   │   </span><span style=\"color: #008000; text-decoration-color: #008000\">'for_advanced_students'</span>: <span style=\"color: #008000; text-decoration-color: #008000\">'Khuyến khích học sinh khá giỏi đặt câu hỏi phản biện hoặc bổ sung cho phần trình bày của các nhóm. Khi giáo viên tổng kết, có thể yêu cầu các em tự đưa ra các trường hợp đặc biệt của tam giác (vuông, đều) và dự đoán vị trí tâm của hai loại đường tròn này. Giao nhiệm vụ suy nghĩ về câu hỏi mở rộng (nếu có) để chuẩn bị cho buổi học sau hoặc thảo luận nhanh.'</span>\n",
       "<span style=\"color: #7fbf7f; text-decoration-color: #7fbf7f\">│   </span><span style=\"font-weight: bold\">}</span>,\n",
       "<span style=\"color: #7fbf7f; text-decoration-color: #7fbf7f\">│   </span><span style=\"color: #008000; text-decoration-color: #008000\">'question_or_description'</span>: <span style=\"color: #008000; text-decoration-color: #008000\">\"**Phần Cốt lõi:**\\nCác nhóm cử đại diện lên bảng trình bày sản phẩm của nhóm mình (sơ đồ tư duy, hình vẽ minh họa, tóm tắt các định nghĩa/tính chất của đường tròn ngoại tiếp và nội tiếp tam giác). Giáo viên lắng nghe, đưa ra phản hồi, nhận xét và điều chỉnh để đảm bảo kiến thức được chính xác, đầy đủ. Sau đó, giáo viên tổng kết, chuẩn hóa toàn bộ kiến thức trọng tâm về đường tròn ngoại tiếp (tâm là giao điểm 3 đường trung trực, bán kính) và đường tròn nội tiếp (tâm là giao điểm 3 đường phân giác, bán kính) của tam giác, nhấn mạnh các trường hợp đặc biệt (tam giác vuông, đều).\\n\\n**Phần Mở rộng (nếu còn thời gian):**\\nNếu còn thời gian, giáo viên có thể đặt câu hỏi mở rộng: 'Liệu có mối liên hệ nào giữa bán kính đường tròn ngoại tiếp và nội tiếp của một tam giác không?' hoặc 'Trong trường hợp nào thì tâm đường tròn ngoại tiếp và nội tiếp trùng nhau?'\"</span>\n",
       "<span style=\"font-weight: bold\">}</span>\n",
       "</pre>\n"
      ],
      "text/plain": [
       "\u001b[1m{\u001b[0m\n",
       "\u001b[2;32m│   \u001b[0m\u001b[32m'activity_name'\u001b[0m: \u001b[32m'Trình bày, Chuẩn hóa và Củng cố kiến thức'\u001b[0m,\n",
       "\u001b[2;32m│   \u001b[0m\u001b[32m'activity_type'\u001b[0m: \u001b[32m'Trình bày nhóm, Phản hồi và Tổng kết'\u001b[0m,\n",
       "\u001b[2;32m│   \u001b[0m\u001b[32m'duration_minutes'\u001b[0m: \u001b[1;36m25\u001b[0m,\n",
       "\u001b[2;32m│   \u001b[0m\u001b[32m'teacher_actions'\u001b[0m: \u001b[1m[\u001b[0m\n",
       "\u001b[2;32m│   │   \u001b[0m\u001b[32m'Mời đại diện các nhóm lên trình bày sản phẩm \u001b[0m\u001b[32m(\u001b[0m\u001b[32msơ đồ tư duy, hình vẽ, tóm tắt\u001b[0m\u001b[32m)\u001b[0m\u001b[32m về đường tròn ngoại tiếp và nội tiếp.'\u001b[0m,\n",
       "\u001b[2;32m│   │   \u001b[0m\u001b[32m'Lắng nghe, đặt câu hỏi gợi mở để học sinh giải thích rõ hơn.'\u001b[0m,\n",
       "\u001b[2;32m│   │   \u001b[0m\u001b[32m'Nhận xét, bổ sung, điều chỉnh các kiến thức chưa chính xác hoặc chưa đầy đủ của học sinh.'\u001b[0m,\n",
       "\u001b[2;32m│   │   \u001b[0m\u001b[32m'Tổng kết, chuẩn hóa các khái niệm trọng tâm \u001b[0m\u001b[32m(\u001b[0m\u001b[32mđịnh nghĩa, tính chất, cách xác định tâm/bán kính\u001b[0m\u001b[32m)\u001b[0m\u001b[32m của đường tròn ngoại tiếp và nội tiếp tam giác.'\u001b[0m,\n",
       "\u001b[2;32m│   │   \u001b[0m\u001b[32m'Ghi bảng các nội dung cốt lõi để học sinh tiện theo dõi và ghi chép.'\u001b[0m\n",
       "\u001b[2;32m│   \u001b[0m\u001b[1m]\u001b[0m,\n",
       "\u001b[2;32m│   \u001b[0m\u001b[32m'core_component'\u001b[0m: \u001b[32m'Các nhóm cử đại diện lên bảng trình bày sản phẩm của nhóm mình \u001b[0m\u001b[32m(\u001b[0m\u001b[32msơ đồ tư duy, hình vẽ minh họa, tóm tắt các định nghĩa/tính chất của đường tròn ngoại tiếp và nội tiếp tam giác\u001b[0m\u001b[32m)\u001b[0m\u001b[32m. Giáo viên lắng nghe, đưa ra phản hồi, nhận xét và điều chỉnh để đảm bảo kiến thức được chính xác, đầy đủ. Sau đó, giáo viên tổng kết, chuẩn hóa toàn bộ kiến thức trọng tâm về đường tròn ngoại tiếp \u001b[0m\u001b[32m(\u001b[0m\u001b[32mtâm là giao điểm 3 đường trung trực, bán kính\u001b[0m\u001b[32m)\u001b[0m\u001b[32m và đường tròn nội tiếp \u001b[0m\u001b[32m(\u001b[0m\u001b[32mtâm là giao điểm 3 đường phân giác, bán kính\u001b[0m\u001b[32m)\u001b[0m\u001b[32m của tam giác, nhấn mạnh các trường hợp đặc biệt \u001b[0m\u001b[32m(\u001b[0m\u001b[32mtam giác vuông, đều\u001b[0m\u001b[32m)\u001b[0m\u001b[32m.'\u001b[0m,\n",
       "\u001b[2;32m│   \u001b[0m\u001b[32m'extension_component'\u001b[0m: \u001b[32m\"Nếu còn thời gian, giáo viên có thể đặt câu hỏi mở rộng: 'Liệu có mối liên hệ nào giữa bán kính đường tròn ngoại tiếp và nội tiếp của một tam giác không?' hoặc 'Trong trường hợp nào thì tâm đường tròn ngoại tiếp và nội tiếp trùng nhau?'\"\u001b[0m,\n",
       "\u001b[2;32m│   \u001b[0m\u001b[32m'solution_guide'\u001b[0m: \u001b[32m'Giáo viên cần chuẩn bị sẵn các sơ đồ, hình vẽ minh họa chuẩn xác về đường tròn ngoại tiếp và nội tiếp. Chuẩn bị các câu hỏi gợi mở để học sinh tự rút ra kiến thức. Đảm bảo tổng kết đầy đủ các ý chính: Định nghĩa, Cách xác định tâm \u001b[0m\u001b[32m(\u001b[0m\u001b[32mgiao điểm 3 đường trung trực/phân giác\u001b[0m\u001b[32m)\u001b[0m\u001b[32m, Cách xác định bán kính, Vị trí tâm trong các loại tam giác \u001b[0m\u001b[32m(\u001b[0m\u001b[32mnhọn, vuông, tù, đều\u001b[0m\u001b[32m)\u001b[0m\u001b[32m. Nhấn mạnh sự khác biệt giữa hai loại đường tròn.'\u001b[0m,\n",
       "\u001b[2;32m│   \u001b[0m\u001b[32m'differentiation'\u001b[0m: \u001b[1m{\u001b[0m\n",
       "\u001b[2;32m│   │   \u001b[0m\u001b[32m'for_struggling_students'\u001b[0m: \u001b[32m'Trong quá trình các nhóm trình bày và giáo viên tổng kết, giáo viên cần đặc biệt chú ý quan sát biểu hiện của học sinh yếu. Có thể đặt câu hỏi trực tiếp, đơn giản để kiểm tra mức độ hiểu bài của các em về các khái niệm cơ bản. Yêu cầu các em nhắc lại định nghĩa hoặc cách xác định tâm/bán kính. Cung cấp một bảng tóm tắt kiến thức đã chuẩn hóa để các em dễ dàng ghi chép và ôn tập.'\u001b[0m,\n",
       "\u001b[2;32m│   │   \u001b[0m\u001b[32m'for_advanced_students'\u001b[0m: \u001b[32m'Khuyến khích học sinh khá giỏi đặt câu hỏi phản biện hoặc bổ sung cho phần trình bày của các nhóm. Khi giáo viên tổng kết, có thể yêu cầu các em tự đưa ra các trường hợp đặc biệt của tam giác \u001b[0m\u001b[32m(\u001b[0m\u001b[32mvuông, đều\u001b[0m\u001b[32m)\u001b[0m\u001b[32m và dự đoán vị trí tâm của hai loại đường tròn này. Giao nhiệm vụ suy nghĩ về câu hỏi mở rộng \u001b[0m\u001b[32m(\u001b[0m\u001b[32mnếu có\u001b[0m\u001b[32m)\u001b[0m\u001b[32m để chuẩn bị cho buổi học sau hoặc thảo luận nhanh.'\u001b[0m\n",
       "\u001b[2;32m│   \u001b[0m\u001b[1m}\u001b[0m,\n",
       "\u001b[2;32m│   \u001b[0m\u001b[32m'question_or_description'\u001b[0m: \u001b[32m\"**Phần Cốt lõi:**\\nCác nhóm cử đại diện lên bảng trình bày sản phẩm của nhóm mình \u001b[0m\u001b[32m(\u001b[0m\u001b[32msơ đồ tư duy, hình vẽ minh họa, tóm tắt các định nghĩa/tính chất của đường tròn ngoại tiếp và nội tiếp tam giác\u001b[0m\u001b[32m)\u001b[0m\u001b[32m. Giáo viên lắng nghe, đưa ra phản hồi, nhận xét và điều chỉnh để đảm bảo kiến thức được chính xác, đầy đủ. Sau đó, giáo viên tổng kết, chuẩn hóa toàn bộ kiến thức trọng tâm về đường tròn ngoại tiếp \u001b[0m\u001b[32m(\u001b[0m\u001b[32mtâm là giao điểm 3 đường trung trực, bán kính\u001b[0m\u001b[32m)\u001b[0m\u001b[32m và đường tròn nội tiếp \u001b[0m\u001b[32m(\u001b[0m\u001b[32mtâm là giao điểm 3 đường phân giác, bán kính\u001b[0m\u001b[32m)\u001b[0m\u001b[32m của tam giác, nhấn mạnh các trường hợp đặc biệt \u001b[0m\u001b[32m(\u001b[0m\u001b[32mtam giác vuông, đều\u001b[0m\u001b[32m)\u001b[0m\u001b[32m.\\n\\n**Phần Mở rộng \u001b[0m\u001b[32m(\u001b[0m\u001b[32mnếu còn thời gian\u001b[0m\u001b[32m)\u001b[0m\u001b[32m:**\\nNếu còn thời gian, giáo viên có thể đặt câu hỏi mở rộng: 'Liệu có mối liên hệ nào giữa bán kính đường tròn ngoại tiếp và nội tiếp của một tam giác không?' hoặc 'Trong trường hợp nào thì tâm đường tròn ngoại tiếp và nội tiếp trùng nhau?'\"\u001b[0m\n",
       "\u001b[1m}\u001b[0m\n"
      ]
     },
     "metadata": {},
     "output_type": "display_data"
    },
    {
     "data": {
      "text/html": [
       "<pre style=\"white-space:pre;overflow-x:auto;line-height:normal;font-family:Menlo,'DejaVu Sans Mono',consolas,'Courier New',monospace\">\n",
       "<span style=\"color: #808000; text-decoration-color: #808000; font-weight: bold\">------- Hoàn thành bước: activity_designer -------</span>\n",
       "</pre>\n"
      ],
      "text/plain": [
       "\n",
       "\u001b[1;33m------- Hoàn thành bước: activity_designer -------\u001b[0m\n"
      ]
     },
     "metadata": {},
     "output_type": "display_data"
    },
    {
     "data": {
      "text/html": [
       "<pre style=\"white-space:pre;overflow-x:auto;line-height:normal;font-family:Menlo,'DejaVu Sans Mono',consolas,'Courier New',monospace\">\n",
       "<span style=\"color: #008080; text-decoration-color: #008080; font-weight: bold\">&gt;</span> `Agent: Time-Budget Advisor` <span style=\"font-weight: bold\">(</span>v9.<span style=\"color: #008080; text-decoration-color: #008080; font-weight: bold\">7</span><span style=\"font-weight: bold\">)</span> đang phản biện nội dung và ngân sách thời gian<span style=\"color: #808000; text-decoration-color: #808000\">...</span>\n",
       "</pre>\n"
      ],
      "text/plain": [
       "\n",
       "\u001b[1;36m>\u001b[0m `Agent: Time-Budget Advisor` \u001b[1m(\u001b[0mv9.\u001b[1;36m7\u001b[0m\u001b[1m)\u001b[0m đang phản biện nội dung và ngân sách thời gian\u001b[33m...\u001b[0m\n"
      ]
     },
     "metadata": {},
     "output_type": "display_data"
    },
    {
     "data": {
      "text/html": [
       "<pre style=\"white-space:pre;overflow-x:auto;line-height:normal;font-family:Menlo,'DejaVu Sans Mono',consolas,'Courier New',monospace\"><span style=\"color: #808000; text-decoration-color: #808000; font-weight: bold\">⚠️  CỐ VẤN PHẢN BIỆN: [STRUCTURAL_FEEDBACK] Lỗi phân bổ ngân sách! Thời gian đề xuất (</span><span style=\"color: #808000; text-decoration-color: #808000; font-weight: bold\">25</span><span style=\"color: #808000; text-decoration-color: #808000; font-weight: bold\"> phút) quá lớn so với thời </span>\n",
       "<span style=\"color: #808000; text-decoration-color: #808000; font-weight: bold\">gian còn lại (</span><span style=\"color: #808000; text-decoration-color: #808000; font-weight: bold\">35</span><span style=\"color: #808000; text-decoration-color: #808000; font-weight: bold\"> phút). Hoạt động này bao gồm nhiều phần (trình bày nhóm, phản hồi, tổng kết, chuẩn hóa kiến thức </span>\n",
       "<span style=\"color: #808000; text-decoration-color: #808000; font-weight: bold\">cho cả hai loại đường tròn và các trường hợp đặc biệt) nên rất khó để hoàn thành trong </span><span style=\"color: #808000; text-decoration-color: #808000; font-weight: bold\">25</span><span style=\"color: #808000; text-decoration-color: #808000; font-weight: bold\"> phút. Nếu hoàn thành, nó </span>\n",
       "<span style=\"color: #808000; text-decoration-color: #808000; font-weight: bold\">sẽ chiếm gần hết thời gian còn lại của buổi học, không đủ cho các hoạt động tiếp theo. Cần thiết kế lại hoạt động </span>\n",
       "<span style=\"color: #808000; text-decoration-color: #808000; font-weight: bold\">này trong khoảng </span><span style=\"color: #808000; text-decoration-color: #808000; font-weight: bold\">15</span><span style=\"color: #808000; text-decoration-color: #808000; font-weight: bold\"> phút để đảm bảo tiến độ. | SUGGESTED_DURATION: </span><span style=\"color: #808000; text-decoration-color: #808000; font-weight: bold\">15</span>\n",
       "</pre>\n"
      ],
      "text/plain": [
       "\u001b[1;33m⚠️  CỐ VẤN PHẢN BIỆN: \u001b[0m\u001b[1;33m[\u001b[0m\u001b[1;33mSTRUCTURAL_FEEDBACK\u001b[0m\u001b[1;33m]\u001b[0m\u001b[1;33m Lỗi phân bổ ngân sách! Thời gian đề xuất \u001b[0m\u001b[1;33m(\u001b[0m\u001b[1;33m25\u001b[0m\u001b[1;33m phút\u001b[0m\u001b[1;33m)\u001b[0m\u001b[1;33m quá lớn so với thời \u001b[0m\n",
       "\u001b[1;33mgian còn lại \u001b[0m\u001b[1;33m(\u001b[0m\u001b[1;33m35\u001b[0m\u001b[1;33m phút\u001b[0m\u001b[1;33m)\u001b[0m\u001b[1;33m. Hoạt động này bao gồm nhiều phần \u001b[0m\u001b[1;33m(\u001b[0m\u001b[1;33mtrình bày nhóm, phản hồi, tổng kết, chuẩn hóa kiến thức \u001b[0m\n",
       "\u001b[1;33mcho cả hai loại đường tròn và các trường hợp đặc biệt\u001b[0m\u001b[1;33m)\u001b[0m\u001b[1;33m nên rất khó để hoàn thành trong \u001b[0m\u001b[1;33m25\u001b[0m\u001b[1;33m phút. Nếu hoàn thành, nó \u001b[0m\n",
       "\u001b[1;33msẽ chiếm gần hết thời gian còn lại của buổi học, không đủ cho các hoạt động tiếp theo. Cần thiết kế lại hoạt động \u001b[0m\n",
       "\u001b[1;33mnày trong khoảng \u001b[0m\u001b[1;33m15\u001b[0m\u001b[1;33m phút để đảm bảo tiến độ. | SUGGESTED_DURATION: \u001b[0m\u001b[1;33m15\u001b[0m\n"
      ]
     },
     "metadata": {},
     "output_type": "display_data"
    },
    {
     "data": {
      "text/html": [
       "<pre style=\"white-space:pre;overflow-x:auto;line-height:normal;font-family:Menlo,'DejaVu Sans Mono',consolas,'Courier New',monospace\">\n",
       "<span style=\"color: #008080; text-decoration-color: #008080; font-weight: bold\">&gt;</span> ROUTER <span style=\"font-weight: bold\">(</span>Validation<span style=\"font-weight: bold\">)</span>: Lỗi cấu trúc, yêu cầu LẬP KẾ HOẠCH LẠI.\n",
       "</pre>\n"
      ],
      "text/plain": [
       "\n",
       "\u001b[1;36m>\u001b[0m ROUTER \u001b[1m(\u001b[0mValidation\u001b[1m)\u001b[0m: Lỗi cấu trúc, yêu cầu LẬP KẾ HOẠCH LẠI.\n"
      ]
     },
     "metadata": {},
     "output_type": "display_data"
    },
    {
     "data": {
      "text/html": [
       "<pre style=\"white-space:pre;overflow-x:auto;line-height:normal;font-family:Menlo,'DejaVu Sans Mono',consolas,'Courier New',monospace\">\n",
       "<span style=\"color: #808000; text-decoration-color: #808000; font-weight: bold\">------- Hoàn thành bước: content_validator -------</span>\n",
       "</pre>\n"
      ],
      "text/plain": [
       "\n",
       "\u001b[1;33m------- Hoàn thành bước: content_validator -------\u001b[0m\n"
      ]
     },
     "metadata": {},
     "output_type": "display_data"
    },
    {
     "data": {
      "text/html": [
       "<pre style=\"white-space:pre;overflow-x:auto;line-height:normal;font-family:Menlo,'DejaVu Sans Mono',consolas,'Courier New',monospace\">\n",
       "<span style=\"color: #008080; text-decoration-color: #008080; font-weight: bold\">&gt;</span> `Node: Budget Balancer` đang phẫu thuật và cân bằng lại ngân sách<span style=\"color: #808000; text-decoration-color: #808000\">...</span>\n",
       "</pre>\n"
      ],
      "text/plain": [
       "\n",
       "\u001b[1;36m>\u001b[0m `Node: Budget Balancer` đang phẫu thuật và cân bằng lại ngân sách\u001b[33m...\u001b[0m\n"
      ]
     },
     "metadata": {},
     "output_type": "display_data"
    },
    {
     "data": {
      "text/html": [
       "<pre style=\"white-space:pre;overflow-x:auto;line-height:normal;font-family:Menlo,'DejaVu Sans Mono',consolas,'Courier New',monospace\"><span style=\"color: #008000; text-decoration-color: #008000; font-weight: bold\">✔️ Bước </span><span style=\"color: #008000; text-decoration-color: #008000; font-weight: bold\">1</span><span style=\"color: #008000; text-decoration-color: #008000; font-weight: bold\">: Cập nhật nhiệm vụ bị lỗi:</span>\n",
       "</pre>\n"
      ],
      "text/plain": [
       "\u001b[1;32m✔️ Bước \u001b[0m\u001b[1;32m1\u001b[0m\u001b[1;32m: Cập nhật nhiệm vụ bị lỗi:\u001b[0m\n"
      ]
     },
     "metadata": {},
     "output_type": "display_data"
    },
    {
     "data": {
      "text/html": [
       "<pre style=\"white-space:pre;overflow-x:auto;line-height:normal;font-family:Menlo,'DejaVu Sans Mono',consolas,'Courier New',monospace\"><span style=\"font-weight: bold\">{</span>\n",
       "<span style=\"color: #7fbf7f; text-decoration-color: #7fbf7f\">│   </span><span style=\"color: #008000; text-decoration-color: #008000\">'task_id'</span>: <span style=\"color: #008080; text-decoration-color: #008080; font-weight: bold\">2</span>,\n",
       "<span style=\"color: #7fbf7f; text-decoration-color: #7fbf7f\">│   </span><span style=\"color: #008000; text-decoration-color: #008000\">'from'</span>: <span style=\"color: #008080; text-decoration-color: #008080; font-weight: bold\">25</span>,\n",
       "<span style=\"color: #7fbf7f; text-decoration-color: #7fbf7f\">│   </span><span style=\"color: #008000; text-decoration-color: #008000\">'to'</span>: <span style=\"color: #008080; text-decoration-color: #008080; font-weight: bold\">15</span>,\n",
       "<span style=\"color: #7fbf7f; text-decoration-color: #7fbf7f\">│   </span><span style=\"color: #008000; text-decoration-color: #008000\">'delta'</span>: <span style=\"color: #008080; text-decoration-color: #008080; font-weight: bold\">-10</span>\n",
       "<span style=\"font-weight: bold\">}</span>\n",
       "</pre>\n"
      ],
      "text/plain": [
       "\u001b[1m{\u001b[0m\n",
       "\u001b[2;32m│   \u001b[0m\u001b[32m'task_id'\u001b[0m: \u001b[1;36m2\u001b[0m,\n",
       "\u001b[2;32m│   \u001b[0m\u001b[32m'from'\u001b[0m: \u001b[1;36m25\u001b[0m,\n",
       "\u001b[2;32m│   \u001b[0m\u001b[32m'to'\u001b[0m: \u001b[1;36m15\u001b[0m,\n",
       "\u001b[2;32m│   \u001b[0m\u001b[32m'delta'\u001b[0m: \u001b[1;36m-10\u001b[0m\n",
       "\u001b[1m}\u001b[0m\n"
      ]
     },
     "metadata": {},
     "output_type": "display_data"
    },
    {
     "data": {
      "text/html": [
       "<pre style=\"white-space:pre;overflow-x:auto;line-height:normal;font-family:Menlo,'DejaVu Sans Mono',consolas,'Courier New',monospace\"><span style=\"color: #008000; text-decoration-color: #008000; font-weight: bold\">✔️ Bước </span><span style=\"color: #008000; text-decoration-color: #008000; font-weight: bold\">2</span><span style=\"color: #008000; text-decoration-color: #008000; font-weight: bold\">: Cân bằng lại ngân sách ở hoạt động đệm:</span>\n",
       "</pre>\n"
      ],
      "text/plain": [
       "\u001b[1;32m✔️ Bước \u001b[0m\u001b[1;32m2\u001b[0m\u001b[1;32m: Cân bằng lại ngân sách ở hoạt động đệm:\u001b[0m\n"
      ]
     },
     "metadata": {},
     "output_type": "display_data"
    },
    {
     "data": {
      "text/html": [
       "<pre style=\"white-space:pre;overflow-x:auto;line-height:normal;font-family:Menlo,'DejaVu Sans Mono',consolas,'Courier New',monospace\"><span style=\"font-weight: bold\">{</span>\n",
       "<span style=\"color: #7fbf7f; text-decoration-color: #7fbf7f\">│   </span><span style=\"color: #008000; text-decoration-color: #008000\">'task_id'</span>: <span style=\"color: #008080; text-decoration-color: #008080; font-weight: bold\">3</span>,\n",
       "<span style=\"color: #7fbf7f; text-decoration-color: #7fbf7f\">│   </span><span style=\"color: #008000; text-decoration-color: #008000\">'from'</span>: <span style=\"color: #008080; text-decoration-color: #008080; font-weight: bold\">15</span>,\n",
       "<span style=\"color: #7fbf7f; text-decoration-color: #7fbf7f\">│   </span><span style=\"color: #008000; text-decoration-color: #008000\">'to'</span>: <span style=\"color: #008080; text-decoration-color: #008080; font-weight: bold\">25</span>\n",
       "<span style=\"font-weight: bold\">}</span>\n",
       "</pre>\n"
      ],
      "text/plain": [
       "\u001b[1m{\u001b[0m\n",
       "\u001b[2;32m│   \u001b[0m\u001b[32m'task_id'\u001b[0m: \u001b[1;36m3\u001b[0m,\n",
       "\u001b[2;32m│   \u001b[0m\u001b[32m'from'\u001b[0m: \u001b[1;36m15\u001b[0m,\n",
       "\u001b[2;32m│   \u001b[0m\u001b[32m'to'\u001b[0m: \u001b[1;36m25\u001b[0m\n",
       "\u001b[1m}\u001b[0m\n"
      ]
     },
     "metadata": {},
     "output_type": "display_data"
    },
    {
     "data": {
      "text/html": [
       "<pre style=\"white-space:pre;overflow-x:auto;line-height:normal;font-family:Menlo,'DejaVu Sans Mono',consolas,'Courier New',monospace\">\n",
       "<span style=\"color: #808000; text-decoration-color: #808000; font-weight: bold\">------- Hoàn thành bước: budget_balancer -------</span>\n",
       "</pre>\n"
      ],
      "text/plain": [
       "\n",
       "\u001b[1;33m------- Hoàn thành bước: budget_balancer -------\u001b[0m\n"
      ]
     },
     "metadata": {},
     "output_type": "display_data"
    },
    {
     "data": {
      "text/html": [
       "<pre style=\"white-space:pre;overflow-x:auto;line-height:normal;font-family:Menlo,'DejaVu Sans Mono',consolas,'Courier New',monospace\">\n",
       "<span style=\"color: #008080; text-decoration-color: #008080; font-weight: bold\">&gt;</span> `Agent: Task Dispatcher` đang giao việc<span style=\"color: #808000; text-decoration-color: #808000\">...</span>\n",
       "</pre>\n"
      ],
      "text/plain": [
       "\n",
       "\u001b[1;36m>\u001b[0m `Agent: Task Dispatcher` đang giao việc\u001b[33m...\u001b[0m\n"
      ]
     },
     "metadata": {},
     "output_type": "display_data"
    },
    {
     "data": {
      "text/html": [
       "<pre style=\"white-space:pre;overflow-x:auto;line-height:normal;font-family:Menlo,'DejaVu Sans Mono',consolas,'Courier New',monospace\">\n",
       "<span style=\"color: #008080; text-decoration-color: #008080; font-weight: bold\">&gt;</span> --- 🚚 `Dispatcher`: Giao nhiệm vụ cho `theory_synthesizer`.\n",
       "</pre>\n"
      ],
      "text/plain": [
       "\n",
       "\u001b[1;36m>\u001b[0m --- 🚚 `Dispatcher`: Giao nhiệm vụ cho `theory_synthesizer`.\n"
      ]
     },
     "metadata": {},
     "output_type": "display_data"
    },
    {
     "data": {
      "text/html": [
       "<pre style=\"white-space:pre;overflow-x:auto;line-height:normal;font-family:Menlo,'DejaVu Sans Mono',consolas,'Courier New',monospace\">\n",
       "<span style=\"color: #808000; text-decoration-color: #808000; font-weight: bold\">------- Hoàn thành bước: task_dispatcher -------</span>\n",
       "</pre>\n"
      ],
      "text/plain": [
       "\n",
       "\u001b[1;33m------- Hoàn thành bước: task_dispatcher -------\u001b[0m\n"
      ]
     },
     "metadata": {},
     "output_type": "display_data"
    },
    {
     "data": {
      "text/html": [
       "<pre style=\"white-space:pre;overflow-x:auto;line-height:normal;font-family:Menlo,'DejaVu Sans Mono',consolas,'Courier New',monospace\">\n",
       "<span style=\"color: #008080; text-decoration-color: #008080; font-weight: bold\">&gt;</span> `Agent: Theory Synthesizer` <span style=\"font-weight: bold\">(</span>v9.<span style=\"color: #008080; text-decoration-color: #008080; font-weight: bold\">7</span><span style=\"font-weight: bold\">)</span> đang tạo nội dung linh hoạt <span style=\"font-weight: bold\">(</span>Lõi + Mở rộng<span style=\"font-weight: bold\">)</span><span style=\"color: #808000; text-decoration-color: #808000\">...</span>\n",
       "</pre>\n"
      ],
      "text/plain": [
       "\n",
       "\u001b[1;36m>\u001b[0m `Agent: Theory Synthesizer` \u001b[1m(\u001b[0mv9.\u001b[1;36m7\u001b[0m\u001b[1m)\u001b[0m đang tạo nội dung linh hoạt \u001b[1m(\u001b[0mLõi + Mở rộng\u001b[1m)\u001b[0m\u001b[33m...\u001b[0m\n"
      ]
     },
     "metadata": {},
     "output_type": "display_data"
    },
    {
     "data": {
      "text/html": [
       "<pre style=\"white-space:pre;overflow-x:auto;line-height:normal;font-family:Menlo,'DejaVu Sans Mono',consolas,'Courier New',monospace\"><span style=\"color: #008000; text-decoration-color: #008000; font-weight: bold\">✔️ Nội dung do Theory Synthesizer tạo ra (Linh hoạt):</span>\n",
       "</pre>\n"
      ],
      "text/plain": [
       "\u001b[1;32m✔️ Nội dung do Theory Synthesizer tạo ra \u001b[0m\u001b[1;32m(\u001b[0m\u001b[1;32mLinh hoạt\u001b[0m\u001b[1;32m)\u001b[0m\u001b[1;32m:\u001b[0m\n"
      ]
     },
     "metadata": {},
     "output_type": "display_data"
    },
    {
     "data": {
      "text/html": [
       "<pre style=\"white-space:pre;overflow-x:auto;line-height:normal;font-family:Menlo,'DejaVu Sans Mono',consolas,'Courier New',monospace\"><span style=\"font-weight: bold\">{</span>\n",
       "<span style=\"color: #7fbf7f; text-decoration-color: #7fbf7f\">│   </span><span style=\"color: #008000; text-decoration-color: #008000\">'activity_name'</span>: <span style=\"color: #008000; text-decoration-color: #008000\">'Trình bày, Chuẩn hóa và Củng cố kiến thức'</span>,\n",
       "<span style=\"color: #7fbf7f; text-decoration-color: #7fbf7f\">│   </span><span style=\"color: #008000; text-decoration-color: #008000\">'activity_type'</span>: <span style=\"color: #008000; text-decoration-color: #008000\">'Thuyết trình nhóm và Tổng kết kiến thức'</span>,\n",
       "<span style=\"color: #7fbf7f; text-decoration-color: #7fbf7f\">│   </span><span style=\"color: #008000; text-decoration-color: #008000\">'duration_minutes'</span>: <span style=\"color: #008080; text-decoration-color: #008080; font-weight: bold\">15</span>,\n",
       "<span style=\"color: #7fbf7f; text-decoration-color: #7fbf7f\">│   </span><span style=\"color: #008000; text-decoration-color: #008000\">'teacher_actions'</span>: <span style=\"font-weight: bold\">[</span>\n",
       "<span style=\"color: #7fbf7f; text-decoration-color: #7fbf7f\">│   │   </span><span style=\"color: #008000; text-decoration-color: #008000\">'Mời đại diện các nhóm lên trình bày sản phẩm (sơ đồ tư duy, hình vẽ, tóm tắt kiến thức).'</span>,\n",
       "<span style=\"color: #7fbf7f; text-decoration-color: #7fbf7f\">│   │   </span><span style=\"color: #008000; text-decoration-color: #008000\">'Lắng nghe, đặt câu hỏi gợi mở để học sinh làm rõ ý.'</span>,\n",
       "<span style=\"color: #7fbf7f; text-decoration-color: #7fbf7f\">│   │   </span><span style=\"color: #008000; text-decoration-color: #008000\">'Nhận xét, bổ sung, điều chỉnh các khái niệm, tính chất để đảm bảo tính chính xác và đầy đủ.'</span>,\n",
       "<span style=\"color: #7fbf7f; text-decoration-color: #7fbf7f\">│   │   </span><span style=\"color: #008000; text-decoration-color: #008000\">'Tổng kết các kiến thức trọng tâm về đường tròn ngoại tiếp và nội tiếp (định nghĩa, tính chất, cách xác định tâm và bán kính).'</span>,\n",
       "<span style=\"color: #7fbf7f; text-decoration-color: #7fbf7f\">│   │   </span><span style=\"color: #008000; text-decoration-color: #008000\">'Ghi lại các điểm chính lên bảng hoặc trình chiếu slide tổng kết.'</span>\n",
       "<span style=\"color: #7fbf7f; text-decoration-color: #7fbf7f\">│   </span><span style=\"font-weight: bold\">]</span>,\n",
       "<span style=\"color: #7fbf7f; text-decoration-color: #7fbf7f\">│   </span><span style=\"color: #008000; text-decoration-color: #008000\">'core_component'</span>: <span style=\"color: #008000; text-decoration-color: #008000\">'Các nhóm cử đại diện lên trình bày sản phẩm của mình (có thể là sơ đồ tư duy, hình vẽ minh họa, hoặc tóm tắt các định nghĩa/tính chất của đường tròn ngoại tiếp và nội tiếp). Sau mỗi phần trình bày, giáo viên sẽ lắng nghe, nhận xét, bổ sung và điều chỉnh các thông tin để đảm bảo kiến thức được chính xác, đầy đủ và chuẩn hóa. Giáo viên sẽ tổng kết lại các khái niệm trọng tâm, các tính chất quan trọng và phương pháp xác định tâm, bán kính của cả hai loại đường tròn này, nhấn mạnh các điểm cần lưu ý và các lỗi thường gặp.'</span>,\n",
       "<span style=\"color: #7fbf7f; text-decoration-color: #7fbf7f\">│   </span><span style=\"color: #008000; text-decoration-color: #008000\">'extension_component'</span>: <span style=\"color: #008000; text-decoration-color: #008000\">\"Nếu còn thời gian, giáo viên có thể đặt câu hỏi mở rộng: 'Liệu có phải mọi tứ giác đều có đường tròn ngoại tiếp hoặc nội tiếp không? Giải thích.' hoặc 'Nêu một ứng dụng thực tế của đường tròn ngoại tiếp/nội tiếp trong đời sống hoặc các lĩnh vực khác.'\"</span>,\n",
       "<span style=\"color: #7fbf7f; text-decoration-color: #7fbf7f\">│   </span><span style=\"color: #008000; text-decoration-color: #008000\">'solution_guide'</span>: <span style=\"color: #008000; text-decoration-color: #008000\">'Các điểm cần nhấn mạnh trong phần tổng kết:\\n1.  Đường tròn ngoại tiếp: Định nghĩa (đi qua 3 đỉnh tam giác), tâm (giao 3 đường trung trực), bán kính (khoảng cách từ tâm đến đỉnh).\\n2.  Đường tròn nội tiếp: Định nghĩa (tiếp xúc 3 cạnh tam giác), tâm (giao 3 đường phân giác), bán kính (khoảng cách từ tâm đến cạnh).\\n3.  Phân biệt: Sự khác nhau cơ bản về vị trí tâm và cách xác định bán kính.\\n4.  Lưu ý: Các trường hợp đặc biệt (tam giác vuông, tam giác đều).'</span>,\n",
       "<span style=\"color: #7fbf7f; text-decoration-color: #7fbf7f\">│   </span><span style=\"color: #008000; text-decoration-color: #008000\">'differentiation'</span>: <span style=\"font-weight: bold\">{</span>\n",
       "<span style=\"color: #7fbf7f; text-decoration-color: #7fbf7f\">│   │   </span><span style=\"color: #008000; text-decoration-color: #008000\">'for_struggling_students'</span>: <span style=\"color: #008000; text-decoration-color: #008000\">'Trong quá trình các nhóm trình bày, giáo viên tập trung vào việc làm rõ các khái niệm cơ bản cho học sinh yếu, có thể yêu cầu các em nhắc lại định nghĩa hoặc chỉ ra các yếu tố trên hình vẽ. Cung cấp một phiếu tóm tắt kiến thức đã chuẩn hóa sau buổi tổng kết.'</span>,\n",
       "<span style=\"color: #7fbf7f; text-decoration-color: #7fbf7f\">│   │   </span><span style=\"color: #008000; text-decoration-color: #008000\">'for_advanced_students'</span>: <span style=\"color: #008000; text-decoration-color: #008000\">'Khuyến khích học sinh giỏi đặt câu hỏi phản biện hoặc bổ sung thêm các kiến thức nâng cao (ví dụ: các trường hợp đặc biệt của đường tròn ngoại tiếp/nội tiếp trong các hình cụ thể như hình vuông, tam giác đều). Yêu cầu các em giải thích sâu hơn về lý do tại sao một tính chất lại đúng.'</span>\n",
       "<span style=\"color: #7fbf7f; text-decoration-color: #7fbf7f\">│   </span><span style=\"font-weight: bold\">}</span>,\n",
       "<span style=\"color: #7fbf7f; text-decoration-color: #7fbf7f\">│   </span><span style=\"color: #008000; text-decoration-color: #008000\">'question_or_description'</span>: <span style=\"color: #008000; text-decoration-color: #008000\">\"**Phần Cốt lõi:**\\nCác nhóm cử đại diện lên trình bày sản phẩm của mình (có thể là sơ đồ tư duy, hình vẽ minh họa, hoặc tóm tắt các định nghĩa/tính chất của đường tròn ngoại tiếp và nội tiếp). Sau mỗi phần trình bày, giáo viên sẽ lắng nghe, nhận xét, bổ sung và điều chỉnh các thông tin để đảm bảo kiến thức được chính xác, đầy đủ và chuẩn hóa. Giáo viên sẽ tổng kết lại các khái niệm trọng tâm, các tính chất quan trọng và phương pháp xác định tâm, bán kính của cả hai loại đường tròn này, nhấn mạnh các điểm cần lưu ý và các lỗi thường gặp.\\n\\n**Phần Mở rộng (nếu còn thời gian):**\\nNếu còn thời gian, giáo viên có thể đặt câu hỏi mở rộng: 'Liệu có phải mọi tứ giác đều có đường tròn ngoại tiếp hoặc nội tiếp không? Giải thích.' hoặc 'Nêu một ứng dụng thực tế của đường tròn ngoại tiếp/nội tiếp trong đời sống hoặc các lĩnh vực khác.'\"</span>\n",
       "<span style=\"font-weight: bold\">}</span>\n",
       "</pre>\n"
      ],
      "text/plain": [
       "\u001b[1m{\u001b[0m\n",
       "\u001b[2;32m│   \u001b[0m\u001b[32m'activity_name'\u001b[0m: \u001b[32m'Trình bày, Chuẩn hóa và Củng cố kiến thức'\u001b[0m,\n",
       "\u001b[2;32m│   \u001b[0m\u001b[32m'activity_type'\u001b[0m: \u001b[32m'Thuyết trình nhóm và Tổng kết kiến thức'\u001b[0m,\n",
       "\u001b[2;32m│   \u001b[0m\u001b[32m'duration_minutes'\u001b[0m: \u001b[1;36m15\u001b[0m,\n",
       "\u001b[2;32m│   \u001b[0m\u001b[32m'teacher_actions'\u001b[0m: \u001b[1m[\u001b[0m\n",
       "\u001b[2;32m│   │   \u001b[0m\u001b[32m'Mời đại diện các nhóm lên trình bày sản phẩm \u001b[0m\u001b[32m(\u001b[0m\u001b[32msơ đồ tư duy, hình vẽ, tóm tắt kiến thức\u001b[0m\u001b[32m)\u001b[0m\u001b[32m.'\u001b[0m,\n",
       "\u001b[2;32m│   │   \u001b[0m\u001b[32m'Lắng nghe, đặt câu hỏi gợi mở để học sinh làm rõ ý.'\u001b[0m,\n",
       "\u001b[2;32m│   │   \u001b[0m\u001b[32m'Nhận xét, bổ sung, điều chỉnh các khái niệm, tính chất để đảm bảo tính chính xác và đầy đủ.'\u001b[0m,\n",
       "\u001b[2;32m│   │   \u001b[0m\u001b[32m'Tổng kết các kiến thức trọng tâm về đường tròn ngoại tiếp và nội tiếp \u001b[0m\u001b[32m(\u001b[0m\u001b[32mđịnh nghĩa, tính chất, cách xác định tâm và bán kính\u001b[0m\u001b[32m)\u001b[0m\u001b[32m.'\u001b[0m,\n",
       "\u001b[2;32m│   │   \u001b[0m\u001b[32m'Ghi lại các điểm chính lên bảng hoặc trình chiếu slide tổng kết.'\u001b[0m\n",
       "\u001b[2;32m│   \u001b[0m\u001b[1m]\u001b[0m,\n",
       "\u001b[2;32m│   \u001b[0m\u001b[32m'core_component'\u001b[0m: \u001b[32m'Các nhóm cử đại diện lên trình bày sản phẩm của mình \u001b[0m\u001b[32m(\u001b[0m\u001b[32mcó thể là sơ đồ tư duy, hình vẽ minh họa, hoặc tóm tắt các định nghĩa/tính chất của đường tròn ngoại tiếp và nội tiếp\u001b[0m\u001b[32m)\u001b[0m\u001b[32m. Sau mỗi phần trình bày, giáo viên sẽ lắng nghe, nhận xét, bổ sung và điều chỉnh các thông tin để đảm bảo kiến thức được chính xác, đầy đủ và chuẩn hóa. Giáo viên sẽ tổng kết lại các khái niệm trọng tâm, các tính chất quan trọng và phương pháp xác định tâm, bán kính của cả hai loại đường tròn này, nhấn mạnh các điểm cần lưu ý và các lỗi thường gặp.'\u001b[0m,\n",
       "\u001b[2;32m│   \u001b[0m\u001b[32m'extension_component'\u001b[0m: \u001b[32m\"Nếu còn thời gian, giáo viên có thể đặt câu hỏi mở rộng: 'Liệu có phải mọi tứ giác đều có đường tròn ngoại tiếp hoặc nội tiếp không? Giải thích.' hoặc 'Nêu một ứng dụng thực tế của đường tròn ngoại tiếp/nội tiếp trong đời sống hoặc các lĩnh vực khác.'\"\u001b[0m,\n",
       "\u001b[2;32m│   \u001b[0m\u001b[32m'solution_guide'\u001b[0m: \u001b[32m'Các điểm cần nhấn mạnh trong phần tổng kết:\\n1.  Đường tròn ngoại tiếp: Định nghĩa \u001b[0m\u001b[32m(\u001b[0m\u001b[32mđi qua 3 đỉnh tam giác\u001b[0m\u001b[32m)\u001b[0m\u001b[32m, tâm \u001b[0m\u001b[32m(\u001b[0m\u001b[32mgiao 3 đường trung trực\u001b[0m\u001b[32m)\u001b[0m\u001b[32m, bán kính \u001b[0m\u001b[32m(\u001b[0m\u001b[32mkhoảng cách từ tâm đến đỉnh\u001b[0m\u001b[32m)\u001b[0m\u001b[32m.\\n2.  Đường tròn nội tiếp: Định nghĩa \u001b[0m\u001b[32m(\u001b[0m\u001b[32mtiếp xúc 3 cạnh tam giác\u001b[0m\u001b[32m)\u001b[0m\u001b[32m, tâm \u001b[0m\u001b[32m(\u001b[0m\u001b[32mgiao 3 đường phân giác\u001b[0m\u001b[32m)\u001b[0m\u001b[32m, bán kính \u001b[0m\u001b[32m(\u001b[0m\u001b[32mkhoảng cách từ tâm đến cạnh\u001b[0m\u001b[32m)\u001b[0m\u001b[32m.\\n3.  Phân biệt: Sự khác nhau cơ bản về vị trí tâm và cách xác định bán kính.\\n4.  Lưu ý: Các trường hợp đặc biệt \u001b[0m\u001b[32m(\u001b[0m\u001b[32mtam giác vuông, tam giác đều\u001b[0m\u001b[32m)\u001b[0m\u001b[32m.'\u001b[0m,\n",
       "\u001b[2;32m│   \u001b[0m\u001b[32m'differentiation'\u001b[0m: \u001b[1m{\u001b[0m\n",
       "\u001b[2;32m│   │   \u001b[0m\u001b[32m'for_struggling_students'\u001b[0m: \u001b[32m'Trong quá trình các nhóm trình bày, giáo viên tập trung vào việc làm rõ các khái niệm cơ bản cho học sinh yếu, có thể yêu cầu các em nhắc lại định nghĩa hoặc chỉ ra các yếu tố trên hình vẽ. Cung cấp một phiếu tóm tắt kiến thức đã chuẩn hóa sau buổi tổng kết.'\u001b[0m,\n",
       "\u001b[2;32m│   │   \u001b[0m\u001b[32m'for_advanced_students'\u001b[0m: \u001b[32m'Khuyến khích học sinh giỏi đặt câu hỏi phản biện hoặc bổ sung thêm các kiến thức nâng cao \u001b[0m\u001b[32m(\u001b[0m\u001b[32mví dụ: các trường hợp đặc biệt của đường tròn ngoại tiếp/nội tiếp trong các hình cụ thể như hình vuông, tam giác đều\u001b[0m\u001b[32m)\u001b[0m\u001b[32m. Yêu cầu các em giải thích sâu hơn về lý do tại sao một tính chất lại đúng.'\u001b[0m\n",
       "\u001b[2;32m│   \u001b[0m\u001b[1m}\u001b[0m,\n",
       "\u001b[2;32m│   \u001b[0m\u001b[32m'question_or_description'\u001b[0m: \u001b[32m\"**Phần Cốt lõi:**\\nCác nhóm cử đại diện lên trình bày sản phẩm của mình \u001b[0m\u001b[32m(\u001b[0m\u001b[32mcó thể là sơ đồ tư duy, hình vẽ minh họa, hoặc tóm tắt các định nghĩa/tính chất của đường tròn ngoại tiếp và nội tiếp\u001b[0m\u001b[32m)\u001b[0m\u001b[32m. Sau mỗi phần trình bày, giáo viên sẽ lắng nghe, nhận xét, bổ sung và điều chỉnh các thông tin để đảm bảo kiến thức được chính xác, đầy đủ và chuẩn hóa. Giáo viên sẽ tổng kết lại các khái niệm trọng tâm, các tính chất quan trọng và phương pháp xác định tâm, bán kính của cả hai loại đường tròn này, nhấn mạnh các điểm cần lưu ý và các lỗi thường gặp.\\n\\n**Phần Mở rộng \u001b[0m\u001b[32m(\u001b[0m\u001b[32mnếu còn thời gian\u001b[0m\u001b[32m)\u001b[0m\u001b[32m:**\\nNếu còn thời gian, giáo viên có thể đặt câu hỏi mở rộng: 'Liệu có phải mọi tứ giác đều có đường tròn ngoại tiếp hoặc nội tiếp không? Giải thích.' hoặc 'Nêu một ứng dụng thực tế của đường tròn ngoại tiếp/nội tiếp trong đời sống hoặc các lĩnh vực khác.'\"\u001b[0m\n",
       "\u001b[1m}\u001b[0m\n"
      ]
     },
     "metadata": {},
     "output_type": "display_data"
    },
    {
     "data": {
      "text/html": [
       "<pre style=\"white-space:pre;overflow-x:auto;line-height:normal;font-family:Menlo,'DejaVu Sans Mono',consolas,'Courier New',monospace\">\n",
       "<span style=\"color: #808000; text-decoration-color: #808000; font-weight: bold\">------- Hoàn thành bước: theory_synthesizer -------</span>\n",
       "</pre>\n"
      ],
      "text/plain": [
       "\n",
       "\u001b[1;33m------- Hoàn thành bước: theory_synthesizer -------\u001b[0m\n"
      ]
     },
     "metadata": {},
     "output_type": "display_data"
    },
    {
     "data": {
      "text/html": [
       "<pre style=\"white-space:pre;overflow-x:auto;line-height:normal;font-family:Menlo,'DejaVu Sans Mono',consolas,'Courier New',monospace\">\n",
       "<span style=\"color: #008080; text-decoration-color: #008080; font-weight: bold\">&gt;</span> `Agent: Time-Budget Advisor` <span style=\"font-weight: bold\">(</span>v9.<span style=\"color: #008080; text-decoration-color: #008080; font-weight: bold\">7</span><span style=\"font-weight: bold\">)</span> đang phản biện nội dung và ngân sách thời gian<span style=\"color: #808000; text-decoration-color: #808000\">...</span>\n",
       "</pre>\n"
      ],
      "text/plain": [
       "\n",
       "\u001b[1;36m>\u001b[0m `Agent: Time-Budget Advisor` \u001b[1m(\u001b[0mv9.\u001b[1;36m7\u001b[0m\u001b[1m)\u001b[0m đang phản biện nội dung và ngân sách thời gian\u001b[33m...\u001b[0m\n"
      ]
     },
     "metadata": {},
     "output_type": "display_data"
    },
    {
     "data": {
      "text/html": [
       "<pre style=\"white-space:pre;overflow-x:auto;line-height:normal;font-family:Menlo,'DejaVu Sans Mono',consolas,'Courier New',monospace\"><span style=\"color: #808000; text-decoration-color: #808000; font-weight: bold\">⚠️  CỐ VẤN PHẢN BIỆN: [STRUCTURAL_FEEDBACK] Thời lượng </span><span style=\"color: #808000; text-decoration-color: #808000; font-weight: bold\">15</span><span style=\"color: #808000; text-decoration-color: #808000; font-weight: bold\"> phút cho hoạt động </span><span style=\"color: #808000; text-decoration-color: #808000; font-weight: bold\">\"Trình bày, Chuẩn hóa và Củng cố kiến </span>\n",
       "<span style=\"color: #808000; text-decoration-color: #808000; font-weight: bold\">thức\"</span><span style=\"color: #808000; text-decoration-color: #808000; font-weight: bold\"> là khá eo hẹp để đảm bảo các nhóm có đủ thời gian trình bày (đặc biệt nếu có nhiều nhóm) và giáo viên có thể </span>\n",
       "<span style=\"color: #808000; text-decoration-color: #808000; font-weight: bold\">nhận xét, bổ sung, chuẩn hóa kiến thức một cách kỹ lưỡng, cũng như tổng kết đầy đủ các nội dung trọng tâm về cả hai</span>\n",
       "<span style=\"color: #808000; text-decoration-color: #808000; font-weight: bold\">loại đường tròn. Để hoạt động này đạt hiệu quả tối ưu về chất lượng nội dung và sự củng cố kiến thức cho học sinh, </span>\n",
       "<span style=\"color: #808000; text-decoration-color: #808000; font-weight: bold\">cần có thêm thời gian. | SUGGESTED_DURATION: </span><span style=\"color: #808000; text-decoration-color: #808000; font-weight: bold\">20</span>\n",
       "</pre>\n"
      ],
      "text/plain": [
       "\u001b[1;33m⚠️  CỐ VẤN PHẢN BIỆN: \u001b[0m\u001b[1;33m[\u001b[0m\u001b[1;33mSTRUCTURAL_FEEDBACK\u001b[0m\u001b[1;33m]\u001b[0m\u001b[1;33m Thời lượng \u001b[0m\u001b[1;33m15\u001b[0m\u001b[1;33m phút cho hoạt động \u001b[0m\u001b[1;33m\"Trình bày, Chuẩn hóa và Củng cố kiến \u001b[0m\n",
       "\u001b[1;33mthức\"\u001b[0m\u001b[1;33m là khá eo hẹp để đảm bảo các nhóm có đủ thời gian trình bày \u001b[0m\u001b[1;33m(\u001b[0m\u001b[1;33mđặc biệt nếu có nhiều nhóm\u001b[0m\u001b[1;33m)\u001b[0m\u001b[1;33m và giáo viên có thể \u001b[0m\n",
       "\u001b[1;33mnhận xét, bổ sung, chuẩn hóa kiến thức một cách kỹ lưỡng, cũng như tổng kết đầy đủ các nội dung trọng tâm về cả hai\u001b[0m\n",
       "\u001b[1;33mloại đường tròn. Để hoạt động này đạt hiệu quả tối ưu về chất lượng nội dung và sự củng cố kiến thức cho học sinh, \u001b[0m\n",
       "\u001b[1;33mcần có thêm thời gian. | SUGGESTED_DURATION: \u001b[0m\u001b[1;33m20\u001b[0m\n"
      ]
     },
     "metadata": {},
     "output_type": "display_data"
    },
    {
     "data": {
      "text/html": [
       "<pre style=\"white-space:pre;overflow-x:auto;line-height:normal;font-family:Menlo,'DejaVu Sans Mono',consolas,'Courier New',monospace\">\n",
       "<span style=\"color: #008080; text-decoration-color: #008080; font-weight: bold\">&gt;</span> ROUTER <span style=\"font-weight: bold\">(</span>Validation<span style=\"font-weight: bold\">)</span>: Lỗi cấu trúc, yêu cầu LẬP KẾ HOẠCH LẠI.\n",
       "</pre>\n"
      ],
      "text/plain": [
       "\n",
       "\u001b[1;36m>\u001b[0m ROUTER \u001b[1m(\u001b[0mValidation\u001b[1m)\u001b[0m: Lỗi cấu trúc, yêu cầu LẬP KẾ HOẠCH LẠI.\n"
      ]
     },
     "metadata": {},
     "output_type": "display_data"
    },
    {
     "data": {
      "text/html": [
       "<pre style=\"white-space:pre;overflow-x:auto;line-height:normal;font-family:Menlo,'DejaVu Sans Mono',consolas,'Courier New',monospace\">\n",
       "<span style=\"color: #808000; text-decoration-color: #808000; font-weight: bold\">------- Hoàn thành bước: content_validator -------</span>\n",
       "</pre>\n"
      ],
      "text/plain": [
       "\n",
       "\u001b[1;33m------- Hoàn thành bước: content_validator -------\u001b[0m\n"
      ]
     },
     "metadata": {},
     "output_type": "display_data"
    },
    {
     "data": {
      "text/html": [
       "<pre style=\"white-space:pre;overflow-x:auto;line-height:normal;font-family:Menlo,'DejaVu Sans Mono',consolas,'Courier New',monospace\">\n",
       "<span style=\"color: #008080; text-decoration-color: #008080; font-weight: bold\">&gt;</span> `Node: Budget Balancer` đang phẫu thuật và cân bằng lại ngân sách<span style=\"color: #808000; text-decoration-color: #808000\">...</span>\n",
       "</pre>\n"
      ],
      "text/plain": [
       "\n",
       "\u001b[1;36m>\u001b[0m `Node: Budget Balancer` đang phẫu thuật và cân bằng lại ngân sách\u001b[33m...\u001b[0m\n"
      ]
     },
     "metadata": {},
     "output_type": "display_data"
    },
    {
     "data": {
      "text/html": [
       "<pre style=\"white-space:pre;overflow-x:auto;line-height:normal;font-family:Menlo,'DejaVu Sans Mono',consolas,'Courier New',monospace\"><span style=\"color: #008000; text-decoration-color: #008000; font-weight: bold\">✔️ Bước </span><span style=\"color: #008000; text-decoration-color: #008000; font-weight: bold\">1</span><span style=\"color: #008000; text-decoration-color: #008000; font-weight: bold\">: Cập nhật nhiệm vụ bị lỗi:</span>\n",
       "</pre>\n"
      ],
      "text/plain": [
       "\u001b[1;32m✔️ Bước \u001b[0m\u001b[1;32m1\u001b[0m\u001b[1;32m: Cập nhật nhiệm vụ bị lỗi:\u001b[0m\n"
      ]
     },
     "metadata": {},
     "output_type": "display_data"
    },
    {
     "data": {
      "text/html": [
       "<pre style=\"white-space:pre;overflow-x:auto;line-height:normal;font-family:Menlo,'DejaVu Sans Mono',consolas,'Courier New',monospace\"><span style=\"font-weight: bold\">{</span>\n",
       "<span style=\"color: #7fbf7f; text-decoration-color: #7fbf7f\">│   </span><span style=\"color: #008000; text-decoration-color: #008000\">'task_id'</span>: <span style=\"color: #008080; text-decoration-color: #008080; font-weight: bold\">2</span>,\n",
       "<span style=\"color: #7fbf7f; text-decoration-color: #7fbf7f\">│   </span><span style=\"color: #008000; text-decoration-color: #008000\">'from'</span>: <span style=\"color: #008080; text-decoration-color: #008080; font-weight: bold\">15</span>,\n",
       "<span style=\"color: #7fbf7f; text-decoration-color: #7fbf7f\">│   </span><span style=\"color: #008000; text-decoration-color: #008000\">'to'</span>: <span style=\"color: #008080; text-decoration-color: #008080; font-weight: bold\">20</span>,\n",
       "<span style=\"color: #7fbf7f; text-decoration-color: #7fbf7f\">│   </span><span style=\"color: #008000; text-decoration-color: #008000\">'delta'</span>: <span style=\"color: #008080; text-decoration-color: #008080; font-weight: bold\">5</span>\n",
       "<span style=\"font-weight: bold\">}</span>\n",
       "</pre>\n"
      ],
      "text/plain": [
       "\u001b[1m{\u001b[0m\n",
       "\u001b[2;32m│   \u001b[0m\u001b[32m'task_id'\u001b[0m: \u001b[1;36m2\u001b[0m,\n",
       "\u001b[2;32m│   \u001b[0m\u001b[32m'from'\u001b[0m: \u001b[1;36m15\u001b[0m,\n",
       "\u001b[2;32m│   \u001b[0m\u001b[32m'to'\u001b[0m: \u001b[1;36m20\u001b[0m,\n",
       "\u001b[2;32m│   \u001b[0m\u001b[32m'delta'\u001b[0m: \u001b[1;36m5\u001b[0m\n",
       "\u001b[1m}\u001b[0m\n"
      ]
     },
     "metadata": {},
     "output_type": "display_data"
    },
    {
     "data": {
      "text/html": [
       "<pre style=\"white-space:pre;overflow-x:auto;line-height:normal;font-family:Menlo,'DejaVu Sans Mono',consolas,'Courier New',monospace\"><span style=\"color: #008000; text-decoration-color: #008000; font-weight: bold\">✔️ Bước </span><span style=\"color: #008000; text-decoration-color: #008000; font-weight: bold\">2</span><span style=\"color: #008000; text-decoration-color: #008000; font-weight: bold\">: Cân bằng lại ngân sách ở hoạt động đệm:</span>\n",
       "</pre>\n"
      ],
      "text/plain": [
       "\u001b[1;32m✔️ Bước \u001b[0m\u001b[1;32m2\u001b[0m\u001b[1;32m: Cân bằng lại ngân sách ở hoạt động đệm:\u001b[0m\n"
      ]
     },
     "metadata": {},
     "output_type": "display_data"
    },
    {
     "data": {
      "text/html": [
       "<pre style=\"white-space:pre;overflow-x:auto;line-height:normal;font-family:Menlo,'DejaVu Sans Mono',consolas,'Courier New',monospace\"><span style=\"font-weight: bold\">{</span>\n",
       "<span style=\"color: #7fbf7f; text-decoration-color: #7fbf7f\">│   </span><span style=\"color: #008000; text-decoration-color: #008000\">'task_id'</span>: <span style=\"color: #008080; text-decoration-color: #008080; font-weight: bold\">3</span>,\n",
       "<span style=\"color: #7fbf7f; text-decoration-color: #7fbf7f\">│   </span><span style=\"color: #008000; text-decoration-color: #008000\">'from'</span>: <span style=\"color: #008080; text-decoration-color: #008080; font-weight: bold\">25</span>,\n",
       "<span style=\"color: #7fbf7f; text-decoration-color: #7fbf7f\">│   </span><span style=\"color: #008000; text-decoration-color: #008000\">'to'</span>: <span style=\"color: #008080; text-decoration-color: #008080; font-weight: bold\">20</span>\n",
       "<span style=\"font-weight: bold\">}</span>\n",
       "</pre>\n"
      ],
      "text/plain": [
       "\u001b[1m{\u001b[0m\n",
       "\u001b[2;32m│   \u001b[0m\u001b[32m'task_id'\u001b[0m: \u001b[1;36m3\u001b[0m,\n",
       "\u001b[2;32m│   \u001b[0m\u001b[32m'from'\u001b[0m: \u001b[1;36m25\u001b[0m,\n",
       "\u001b[2;32m│   \u001b[0m\u001b[32m'to'\u001b[0m: \u001b[1;36m20\u001b[0m\n",
       "\u001b[1m}\u001b[0m\n"
      ]
     },
     "metadata": {},
     "output_type": "display_data"
    },
    {
     "data": {
      "text/html": [
       "<pre style=\"white-space:pre;overflow-x:auto;line-height:normal;font-family:Menlo,'DejaVu Sans Mono',consolas,'Courier New',monospace\">\n",
       "<span style=\"color: #808000; text-decoration-color: #808000; font-weight: bold\">------- Hoàn thành bước: budget_balancer -------</span>\n",
       "</pre>\n"
      ],
      "text/plain": [
       "\n",
       "\u001b[1;33m------- Hoàn thành bước: budget_balancer -------\u001b[0m\n"
      ]
     },
     "metadata": {},
     "output_type": "display_data"
    },
    {
     "data": {
      "text/html": [
       "<pre style=\"white-space:pre;overflow-x:auto;line-height:normal;font-family:Menlo,'DejaVu Sans Mono',consolas,'Courier New',monospace\">\n",
       "<span style=\"color: #008080; text-decoration-color: #008080; font-weight: bold\">&gt;</span> `Agent: Task Dispatcher` đang giao việc<span style=\"color: #808000; text-decoration-color: #808000\">...</span>\n",
       "</pre>\n"
      ],
      "text/plain": [
       "\n",
       "\u001b[1;36m>\u001b[0m `Agent: Task Dispatcher` đang giao việc\u001b[33m...\u001b[0m\n"
      ]
     },
     "metadata": {},
     "output_type": "display_data"
    },
    {
     "data": {
      "text/html": [
       "<pre style=\"white-space:pre;overflow-x:auto;line-height:normal;font-family:Menlo,'DejaVu Sans Mono',consolas,'Courier New',monospace\">\n",
       "<span style=\"color: #008080; text-decoration-color: #008080; font-weight: bold\">&gt;</span> --- 🚚 `Dispatcher`: Giao nhiệm vụ cho `theory_synthesizer`.\n",
       "</pre>\n"
      ],
      "text/plain": [
       "\n",
       "\u001b[1;36m>\u001b[0m --- 🚚 `Dispatcher`: Giao nhiệm vụ cho `theory_synthesizer`.\n"
      ]
     },
     "metadata": {},
     "output_type": "display_data"
    },
    {
     "data": {
      "text/html": [
       "<pre style=\"white-space:pre;overflow-x:auto;line-height:normal;font-family:Menlo,'DejaVu Sans Mono',consolas,'Courier New',monospace\">\n",
       "<span style=\"color: #808000; text-decoration-color: #808000; font-weight: bold\">------- Hoàn thành bước: task_dispatcher -------</span>\n",
       "</pre>\n"
      ],
      "text/plain": [
       "\n",
       "\u001b[1;33m------- Hoàn thành bước: task_dispatcher -------\u001b[0m\n"
      ]
     },
     "metadata": {},
     "output_type": "display_data"
    },
    {
     "data": {
      "text/html": [
       "<pre style=\"white-space:pre;overflow-x:auto;line-height:normal;font-family:Menlo,'DejaVu Sans Mono',consolas,'Courier New',monospace\">\n",
       "<span style=\"color: #008080; text-decoration-color: #008080; font-weight: bold\">&gt;</span> `Agent: Theory Synthesizer` <span style=\"font-weight: bold\">(</span>v9.<span style=\"color: #008080; text-decoration-color: #008080; font-weight: bold\">7</span><span style=\"font-weight: bold\">)</span> đang tạo nội dung linh hoạt <span style=\"font-weight: bold\">(</span>Lõi + Mở rộng<span style=\"font-weight: bold\">)</span><span style=\"color: #808000; text-decoration-color: #808000\">...</span>\n",
       "</pre>\n"
      ],
      "text/plain": [
       "\n",
       "\u001b[1;36m>\u001b[0m `Agent: Theory Synthesizer` \u001b[1m(\u001b[0mv9.\u001b[1;36m7\u001b[0m\u001b[1m)\u001b[0m đang tạo nội dung linh hoạt \u001b[1m(\u001b[0mLõi + Mở rộng\u001b[1m)\u001b[0m\u001b[33m...\u001b[0m\n"
      ]
     },
     "metadata": {},
     "output_type": "display_data"
    },
    {
     "data": {
      "text/html": [
       "<pre style=\"white-space:pre;overflow-x:auto;line-height:normal;font-family:Menlo,'DejaVu Sans Mono',consolas,'Courier New',monospace\"><span style=\"color: #008000; text-decoration-color: #008000; font-weight: bold\">✔️ Nội dung do Theory Synthesizer tạo ra (Linh hoạt):</span>\n",
       "</pre>\n"
      ],
      "text/plain": [
       "\u001b[1;32m✔️ Nội dung do Theory Synthesizer tạo ra \u001b[0m\u001b[1;32m(\u001b[0m\u001b[1;32mLinh hoạt\u001b[0m\u001b[1;32m)\u001b[0m\u001b[1;32m:\u001b[0m\n"
      ]
     },
     "metadata": {},
     "output_type": "display_data"
    },
    {
     "data": {
      "text/html": [
       "<pre style=\"white-space:pre;overflow-x:auto;line-height:normal;font-family:Menlo,'DejaVu Sans Mono',consolas,'Courier New',monospace\"><span style=\"font-weight: bold\">{</span>\n",
       "<span style=\"color: #7fbf7f; text-decoration-color: #7fbf7f\">│   </span><span style=\"color: #008000; text-decoration-color: #008000\">'activity_name'</span>: <span style=\"color: #008000; text-decoration-color: #008000\">'Trình bày, Chuẩn hóa và Củng cố kiến thức về Đường tròn ngoại tiếp và nội tiếp'</span>,\n",
       "<span style=\"color: #7fbf7f; text-decoration-color: #7fbf7f\">│   </span><span style=\"color: #008000; text-decoration-color: #008000\">'activity_type'</span>: <span style=\"color: #008000; text-decoration-color: #008000\">'Tổng kết và Chuẩn hóa kiến thức'</span>,\n",
       "<span style=\"color: #7fbf7f; text-decoration-color: #7fbf7f\">│   </span><span style=\"color: #008000; text-decoration-color: #008000\">'duration_minutes'</span>: <span style=\"color: #008080; text-decoration-color: #008080; font-weight: bold\">20</span>,\n",
       "<span style=\"color: #7fbf7f; text-decoration-color: #7fbf7f\">│   </span><span style=\"color: #008000; text-decoration-color: #008000\">'teacher_actions'</span>: <span style=\"font-weight: bold\">[</span>\n",
       "<span style=\"color: #7fbf7f; text-decoration-color: #7fbf7f\">│   │   </span><span style=\"color: #008000; text-decoration-color: #008000\">'Mời đại diện các nhóm lên trình bày sản phẩm (sơ đồ tư duy, hình vẽ, tóm tắt kiến thức).'</span>,\n",
       "<span style=\"color: #7fbf7f; text-decoration-color: #7fbf7f\">│   │   </span><span style=\"color: #008000; text-decoration-color: #008000\">'Lắng nghe, đặt câu hỏi gợi mở để học sinh làm rõ ý tưởng.'</span>,\n",
       "<span style=\"color: #7fbf7f; text-decoration-color: #7fbf7f\">│   │   </span><span style=\"color: #008000; text-decoration-color: #008000\">'Nhận xét, bổ sung, điều chỉnh các khái niệm, tính chất để đảm bảo tính chính xác và đầy đủ.'</span>,\n",
       "<span style=\"color: #7fbf7f; text-decoration-color: #7fbf7f\">│   │   </span><span style=\"color: #008000; text-decoration-color: #008000\">'Tổng kết các kiến thức trọng tâm: định nghĩa, tính chất, cách xác định tâm và bán kính của đường tròn ngoại tiếp (giao điểm 3 đường trung trực) và đường tròn nội tiếp (giao điểm 3 đường phân giác) của tam giác.'</span>,\n",
       "<span style=\"color: #7fbf7f; text-decoration-color: #7fbf7f\">│   │   </span><span style=\"color: #008000; text-decoration-color: #008000\">'Ghi lại các điểm cần lưu ý hoặc các lỗi sai phổ biến lên bảng.'</span>\n",
       "<span style=\"color: #7fbf7f; text-decoration-color: #7fbf7f\">│   </span><span style=\"font-weight: bold\">]</span>,\n",
       "<span style=\"color: #7fbf7f; text-decoration-color: #7fbf7f\">│   </span><span style=\"color: #008000; text-decoration-color: #008000\">'core_component'</span>: <span style=\"color: #008000; text-decoration-color: #008000\">'Trong 15-17 phút đầu, đại diện các nhóm lần lượt lên bảng trình bày sản phẩm của nhóm mình về đường tròn ngoại tiếp và đường tròn nội tiếp (có thể là sơ đồ tư duy, hình vẽ minh họa, hoặc tóm tắt các định nghĩa/tính chất). Các nhóm khác lắng nghe và đặt câu hỏi. Giáo viên sẽ điều hành phần trình bày, lắng nghe, nhận xét, bổ sung và điều chỉnh để đảm bảo kiến thức được chính xác và đầy đủ. Sau đó, giáo viên tổng kết lại các khái niệm trọng tâm, các tính chất quan trọng và cách xác định tâm/bán kính của hai loại đường tròn này trong tam giác.'</span>,\n",
       "<span style=\"color: #7fbf7f; text-decoration-color: #7fbf7f\">│   </span><span style=\"color: #008000; text-decoration-color: #008000\">'extension_component'</span>: <span style=\"color: #008000; text-decoration-color: #008000\">\"Nếu còn thời gian (khoảng 3-5 phút cuối), giáo viên có thể đặt câu hỏi mở rộng cho cả lớp: 'Liệu có phải mọi tứ giác đều có đường tròn ngoại tiếp hay nội tiếp không? Nêu điều kiện để một tứ giác có đường tròn ngoại tiếp và nội tiếp.' Hoặc yêu cầu học sinh tự đặt câu hỏi cho nhau về chủ đề này.\"</span>,\n",
       "<span style=\"color: #7fbf7f; text-decoration-color: #7fbf7f\">│   </span><span style=\"color: #008000; text-decoration-color: #008000\">'solution_guide'</span>: <span style=\"color: #008000; text-decoration-color: #008000\">'Các điểm kiến thức cần chốt sau hoạt động: 1. Định nghĩa đường tròn ngoại tiếp/nội tiếp. 2. Tâm và bán kính của đường tròn ngoại tiếp (giao điểm 3 đường trung trực, bán kính R). 3. Tâm và bán kính của đường tròn nội tiếp (giao điểm 3 đường phân giác, bán kính r). 4. Vị trí của tâm đối với các loại tam giác (nhọn, vuông, tù).'</span>,\n",
       "<span style=\"color: #7fbf7f; text-decoration-color: #7fbf7f\">│   </span><span style=\"color: #008000; text-decoration-color: #008000\">'differentiation'</span>: <span style=\"font-weight: bold\">{</span>\n",
       "<span style=\"color: #7fbf7f; text-decoration-color: #7fbf7f\">│   │   </span><span style=\"color: #008000; text-decoration-color: #008000\">'for_struggling_students'</span>: <span style=\"color: #008000; text-decoration-color: #008000\">'Trong quá trình các nhóm trình bày, học sinh yếu được khuyến khích ghi chép lại các định nghĩa, tính chất cơ bản vào phiếu tóm tắt kiến thức do giáo viên cung cấp (có thể là phiếu điền khuyết). Giáo viên có thể trực tiếp gợi ý hoặc đặt câu hỏi đơn giản để các em dễ dàng theo dõi và nắm bắt nội dung cốt lõi.'</span>,\n",
       "<span style=\"color: #7fbf7f; text-decoration-color: #7fbf7f\">│   │   </span><span style=\"color: #008000; text-decoration-color: #008000\">'for_advanced_students'</span>: <span style=\"color: #008000; text-decoration-color: #008000\">\"Khuyến khích học sinh giỏi đặt các câu hỏi phản biện, đào sâu kiến thức cho nhóm trình bày (ví dụ: 'Tại sao tâm đường tròn ngoại tiếp lại là giao điểm của 3 đường trung trực?'). Các em cũng có thể được yêu cầu tổng hợp các điểm khác biệt và tương đồng giữa đường tròn ngoại tiếp và nội tiếp một cách chi tiết hơn.\"</span>\n",
       "<span style=\"color: #7fbf7f; text-decoration-color: #7fbf7f\">│   </span><span style=\"font-weight: bold\">}</span>,\n",
       "<span style=\"color: #7fbf7f; text-decoration-color: #7fbf7f\">│   </span><span style=\"color: #008000; text-decoration-color: #008000\">'question_or_description'</span>: <span style=\"color: #008000; text-decoration-color: #008000\">\"**Phần Cốt lõi:**\\nTrong 15-17 phút đầu, đại diện các nhóm lần lượt lên bảng trình bày sản phẩm của nhóm mình về đường tròn ngoại tiếp và đường tròn nội tiếp (có thể là sơ đồ tư duy, hình vẽ minh họa, hoặc tóm tắt các định nghĩa/tính chất). Các nhóm khác lắng nghe và đặt câu hỏi. Giáo viên sẽ điều hành phần trình bày, lắng nghe, nhận xét, bổ sung và điều chỉnh để đảm bảo kiến thức được chính xác và đầy đủ. Sau đó, giáo viên tổng kết lại các khái niệm trọng tâm, các tính chất quan trọng và cách xác định tâm/bán kính của hai loại đường tròn này trong tam giác.\\n\\n**Phần Mở rộng (nếu còn thời gian):**\\nNếu còn thời gian (khoảng 3-5 phút cuối), giáo viên có thể đặt câu hỏi mở rộng cho cả lớp: 'Liệu có phải mọi tứ giác đều có đường tròn ngoại tiếp hay nội tiếp không? Nêu điều kiện để một tứ giác có đường tròn ngoại tiếp và nội tiếp.' Hoặc yêu cầu học sinh tự đặt câu hỏi cho nhau về chủ đề này.\"</span>\n",
       "<span style=\"font-weight: bold\">}</span>\n",
       "</pre>\n"
      ],
      "text/plain": [
       "\u001b[1m{\u001b[0m\n",
       "\u001b[2;32m│   \u001b[0m\u001b[32m'activity_name'\u001b[0m: \u001b[32m'Trình bày, Chuẩn hóa và Củng cố kiến thức về Đường tròn ngoại tiếp và nội tiếp'\u001b[0m,\n",
       "\u001b[2;32m│   \u001b[0m\u001b[32m'activity_type'\u001b[0m: \u001b[32m'Tổng kết và Chuẩn hóa kiến thức'\u001b[0m,\n",
       "\u001b[2;32m│   \u001b[0m\u001b[32m'duration_minutes'\u001b[0m: \u001b[1;36m20\u001b[0m,\n",
       "\u001b[2;32m│   \u001b[0m\u001b[32m'teacher_actions'\u001b[0m: \u001b[1m[\u001b[0m\n",
       "\u001b[2;32m│   │   \u001b[0m\u001b[32m'Mời đại diện các nhóm lên trình bày sản phẩm \u001b[0m\u001b[32m(\u001b[0m\u001b[32msơ đồ tư duy, hình vẽ, tóm tắt kiến thức\u001b[0m\u001b[32m)\u001b[0m\u001b[32m.'\u001b[0m,\n",
       "\u001b[2;32m│   │   \u001b[0m\u001b[32m'Lắng nghe, đặt câu hỏi gợi mở để học sinh làm rõ ý tưởng.'\u001b[0m,\n",
       "\u001b[2;32m│   │   \u001b[0m\u001b[32m'Nhận xét, bổ sung, điều chỉnh các khái niệm, tính chất để đảm bảo tính chính xác và đầy đủ.'\u001b[0m,\n",
       "\u001b[2;32m│   │   \u001b[0m\u001b[32m'Tổng kết các kiến thức trọng tâm: định nghĩa, tính chất, cách xác định tâm và bán kính của đường tròn ngoại tiếp \u001b[0m\u001b[32m(\u001b[0m\u001b[32mgiao điểm 3 đường trung trực\u001b[0m\u001b[32m)\u001b[0m\u001b[32m và đường tròn nội tiếp \u001b[0m\u001b[32m(\u001b[0m\u001b[32mgiao điểm 3 đường phân giác\u001b[0m\u001b[32m)\u001b[0m\u001b[32m của tam giác.'\u001b[0m,\n",
       "\u001b[2;32m│   │   \u001b[0m\u001b[32m'Ghi lại các điểm cần lưu ý hoặc các lỗi sai phổ biến lên bảng.'\u001b[0m\n",
       "\u001b[2;32m│   \u001b[0m\u001b[1m]\u001b[0m,\n",
       "\u001b[2;32m│   \u001b[0m\u001b[32m'core_component'\u001b[0m: \u001b[32m'Trong 15-17 phút đầu, đại diện các nhóm lần lượt lên bảng trình bày sản phẩm của nhóm mình về đường tròn ngoại tiếp và đường tròn nội tiếp \u001b[0m\u001b[32m(\u001b[0m\u001b[32mcó thể là sơ đồ tư duy, hình vẽ minh họa, hoặc tóm tắt các định nghĩa/tính chất\u001b[0m\u001b[32m)\u001b[0m\u001b[32m. Các nhóm khác lắng nghe và đặt câu hỏi. Giáo viên sẽ điều hành phần trình bày, lắng nghe, nhận xét, bổ sung và điều chỉnh để đảm bảo kiến thức được chính xác và đầy đủ. Sau đó, giáo viên tổng kết lại các khái niệm trọng tâm, các tính chất quan trọng và cách xác định tâm/bán kính của hai loại đường tròn này trong tam giác.'\u001b[0m,\n",
       "\u001b[2;32m│   \u001b[0m\u001b[32m'extension_component'\u001b[0m: \u001b[32m\"Nếu còn thời gian \u001b[0m\u001b[32m(\u001b[0m\u001b[32mkhoảng 3-5 phút cuối\u001b[0m\u001b[32m)\u001b[0m\u001b[32m, giáo viên có thể đặt câu hỏi mở rộng cho cả lớp: 'Liệu có phải mọi tứ giác đều có đường tròn ngoại tiếp hay nội tiếp không? Nêu điều kiện để một tứ giác có đường tròn ngoại tiếp và nội tiếp.' Hoặc yêu cầu học sinh tự đặt câu hỏi cho nhau về chủ đề này.\"\u001b[0m,\n",
       "\u001b[2;32m│   \u001b[0m\u001b[32m'solution_guide'\u001b[0m: \u001b[32m'Các điểm kiến thức cần chốt sau hoạt động: 1. Định nghĩa đường tròn ngoại tiếp/nội tiếp. 2. Tâm và bán kính của đường tròn ngoại tiếp \u001b[0m\u001b[32m(\u001b[0m\u001b[32mgiao điểm 3 đường trung trực, bán kính R\u001b[0m\u001b[32m)\u001b[0m\u001b[32m. 3. Tâm và bán kính của đường tròn nội tiếp \u001b[0m\u001b[32m(\u001b[0m\u001b[32mgiao điểm 3 đường phân giác, bán kính r\u001b[0m\u001b[32m)\u001b[0m\u001b[32m. 4. Vị trí của tâm đối với các loại tam giác \u001b[0m\u001b[32m(\u001b[0m\u001b[32mnhọn, vuông, tù\u001b[0m\u001b[32m)\u001b[0m\u001b[32m.'\u001b[0m,\n",
       "\u001b[2;32m│   \u001b[0m\u001b[32m'differentiation'\u001b[0m: \u001b[1m{\u001b[0m\n",
       "\u001b[2;32m│   │   \u001b[0m\u001b[32m'for_struggling_students'\u001b[0m: \u001b[32m'Trong quá trình các nhóm trình bày, học sinh yếu được khuyến khích ghi chép lại các định nghĩa, tính chất cơ bản vào phiếu tóm tắt kiến thức do giáo viên cung cấp \u001b[0m\u001b[32m(\u001b[0m\u001b[32mcó thể là phiếu điền khuyết\u001b[0m\u001b[32m)\u001b[0m\u001b[32m. Giáo viên có thể trực tiếp gợi ý hoặc đặt câu hỏi đơn giản để các em dễ dàng theo dõi và nắm bắt nội dung cốt lõi.'\u001b[0m,\n",
       "\u001b[2;32m│   │   \u001b[0m\u001b[32m'for_advanced_students'\u001b[0m: \u001b[32m\"Khuyến khích học sinh giỏi đặt các câu hỏi phản biện, đào sâu kiến thức cho nhóm trình bày \u001b[0m\u001b[32m(\u001b[0m\u001b[32mví dụ: 'Tại sao tâm đường tròn ngoại tiếp lại là giao điểm của 3 đường trung trực?'\u001b[0m\u001b[32m)\u001b[0m\u001b[32m. Các em cũng có thể được yêu cầu tổng hợp các điểm khác biệt và tương đồng giữa đường tròn ngoại tiếp và nội tiếp một cách chi tiết hơn.\"\u001b[0m\n",
       "\u001b[2;32m│   \u001b[0m\u001b[1m}\u001b[0m,\n",
       "\u001b[2;32m│   \u001b[0m\u001b[32m'question_or_description'\u001b[0m: \u001b[32m\"**Phần Cốt lõi:**\\nTrong 15-17 phút đầu, đại diện các nhóm lần lượt lên bảng trình bày sản phẩm của nhóm mình về đường tròn ngoại tiếp và đường tròn nội tiếp \u001b[0m\u001b[32m(\u001b[0m\u001b[32mcó thể là sơ đồ tư duy, hình vẽ minh họa, hoặc tóm tắt các định nghĩa/tính chất\u001b[0m\u001b[32m)\u001b[0m\u001b[32m. Các nhóm khác lắng nghe và đặt câu hỏi. Giáo viên sẽ điều hành phần trình bày, lắng nghe, nhận xét, bổ sung và điều chỉnh để đảm bảo kiến thức được chính xác và đầy đủ. Sau đó, giáo viên tổng kết lại các khái niệm trọng tâm, các tính chất quan trọng và cách xác định tâm/bán kính của hai loại đường tròn này trong tam giác.\\n\\n**Phần Mở rộng \u001b[0m\u001b[32m(\u001b[0m\u001b[32mnếu còn thời gian\u001b[0m\u001b[32m)\u001b[0m\u001b[32m:**\\nNếu còn thời gian \u001b[0m\u001b[32m(\u001b[0m\u001b[32mkhoảng 3-5 phút cuối\u001b[0m\u001b[32m)\u001b[0m\u001b[32m, giáo viên có thể đặt câu hỏi mở rộng cho cả lớp: 'Liệu có phải mọi tứ giác đều có đường tròn ngoại tiếp hay nội tiếp không? Nêu điều kiện để một tứ giác có đường tròn ngoại tiếp và nội tiếp.' Hoặc yêu cầu học sinh tự đặt câu hỏi cho nhau về chủ đề này.\"\u001b[0m\n",
       "\u001b[1m}\u001b[0m\n"
      ]
     },
     "metadata": {},
     "output_type": "display_data"
    },
    {
     "data": {
      "text/html": [
       "<pre style=\"white-space:pre;overflow-x:auto;line-height:normal;font-family:Menlo,'DejaVu Sans Mono',consolas,'Courier New',monospace\">\n",
       "<span style=\"color: #808000; text-decoration-color: #808000; font-weight: bold\">------- Hoàn thành bước: theory_synthesizer -------</span>\n",
       "</pre>\n"
      ],
      "text/plain": [
       "\n",
       "\u001b[1;33m------- Hoàn thành bước: theory_synthesizer -------\u001b[0m\n"
      ]
     },
     "metadata": {},
     "output_type": "display_data"
    },
    {
     "data": {
      "text/html": [
       "<pre style=\"white-space:pre;overflow-x:auto;line-height:normal;font-family:Menlo,'DejaVu Sans Mono',consolas,'Courier New',monospace\">\n",
       "<span style=\"color: #008080; text-decoration-color: #008080; font-weight: bold\">&gt;</span> `Agent: Time-Budget Advisor` <span style=\"font-weight: bold\">(</span>v9.<span style=\"color: #008080; text-decoration-color: #008080; font-weight: bold\">7</span><span style=\"font-weight: bold\">)</span> đang phản biện nội dung và ngân sách thời gian<span style=\"color: #808000; text-decoration-color: #808000\">...</span>\n",
       "</pre>\n"
      ],
      "text/plain": [
       "\n",
       "\u001b[1;36m>\u001b[0m `Agent: Time-Budget Advisor` \u001b[1m(\u001b[0mv9.\u001b[1;36m7\u001b[0m\u001b[1m)\u001b[0m đang phản biện nội dung và ngân sách thời gian\u001b[33m...\u001b[0m\n"
      ]
     },
     "metadata": {},
     "output_type": "display_data"
    },
    {
     "data": {
      "text/html": [
       "<pre style=\"white-space:pre;overflow-x:auto;line-height:normal;font-family:Menlo,'DejaVu Sans Mono',consolas,'Courier New',monospace\"><span style=\"color: #808000; text-decoration-color: #808000; font-weight: bold\">⚠️  CỐ VẤN PHẢN BIỆN: [STRUCTURAL_FEEDBACK] Lỗi phân bổ ngân sách! Thời gian đề xuất (</span><span style=\"color: #808000; text-decoration-color: #808000; font-weight: bold\">20</span><span style=\"color: #808000; text-decoration-color: #808000; font-weight: bold\"> phút) cho hoạt động này là</span>\n",
       "<span style=\"color: #808000; text-decoration-color: #808000; font-weight: bold\">quá lớn so với tổng thời gian còn lại của buổi học (</span><span style=\"color: #808000; text-decoration-color: #808000; font-weight: bold\">35</span><span style=\"color: #808000; text-decoration-color: #808000; font-weight: bold\"> phút). Hoạt động này chiếm gần </span><span style=\"color: #808000; text-decoration-color: #808000; font-weight: bold\">60</span><span style=\"color: #808000; text-decoration-color: #808000; font-weight: bold\">% thời lượng còn lại, có </span>\n",
       "<span style=\"color: #808000; text-decoration-color: #808000; font-weight: bold\">thể khiến các hoạt động sau bị rút ngắn hoặc không đủ thời gian thực hiện. Để đảm bảo tiến độ và cân bằng cho toàn </span>\n",
       "<span style=\"color: #808000; text-decoration-color: #808000; font-weight: bold\">bộ buổi học, hoạt động </span><span style=\"color: #808000; text-decoration-color: #808000; font-weight: bold\">'Trình bày, Chuẩn hóa và Củng cố kiến thức'</span><span style=\"color: #808000; text-decoration-color: #808000; font-weight: bold\"> cần được thiết kế lại trong khoảng </span><span style=\"color: #808000; text-decoration-color: #808000; font-weight: bold\">15</span><span style=\"color: #808000; text-decoration-color: #808000; font-weight: bold\"> phút. Điều</span>\n",
       "<span style=\"color: #808000; text-decoration-color: #808000; font-weight: bold\">này đòi hỏi giáo viên cần tinh gọn phần trình bày của học sinh và đặc biệt là phần tổng kết, chuẩn hóa kiến thức </span>\n",
       "<span style=\"color: #808000; text-decoration-color: #808000; font-weight: bold\">của giáo viên để đảm bảo hiệu quả trong thời lượng cho phép. | SUGGESTED_DURATION: </span><span style=\"color: #808000; text-decoration-color: #808000; font-weight: bold\">15</span>\n",
       "</pre>\n"
      ],
      "text/plain": [
       "\u001b[1;33m⚠️  CỐ VẤN PHẢN BIỆN: \u001b[0m\u001b[1;33m[\u001b[0m\u001b[1;33mSTRUCTURAL_FEEDBACK\u001b[0m\u001b[1;33m]\u001b[0m\u001b[1;33m Lỗi phân bổ ngân sách! Thời gian đề xuất \u001b[0m\u001b[1;33m(\u001b[0m\u001b[1;33m20\u001b[0m\u001b[1;33m phút\u001b[0m\u001b[1;33m)\u001b[0m\u001b[1;33m cho hoạt động này là\u001b[0m\n",
       "\u001b[1;33mquá lớn so với tổng thời gian còn lại của buổi học \u001b[0m\u001b[1;33m(\u001b[0m\u001b[1;33m35\u001b[0m\u001b[1;33m phút\u001b[0m\u001b[1;33m)\u001b[0m\u001b[1;33m. Hoạt động này chiếm gần \u001b[0m\u001b[1;33m60\u001b[0m\u001b[1;33m% thời lượng còn lại, có \u001b[0m\n",
       "\u001b[1;33mthể khiến các hoạt động sau bị rút ngắn hoặc không đủ thời gian thực hiện. Để đảm bảo tiến độ và cân bằng cho toàn \u001b[0m\n",
       "\u001b[1;33mbộ buổi học, hoạt động \u001b[0m\u001b[1;33m'Trình bày, Chuẩn hóa và Củng cố kiến thức'\u001b[0m\u001b[1;33m cần được thiết kế lại trong khoảng \u001b[0m\u001b[1;33m15\u001b[0m\u001b[1;33m phút. Điều\u001b[0m\n",
       "\u001b[1;33mnày đòi hỏi giáo viên cần tinh gọn phần trình bày của học sinh và đặc biệt là phần tổng kết, chuẩn hóa kiến thức \u001b[0m\n",
       "\u001b[1;33mcủa giáo viên để đảm bảo hiệu quả trong thời lượng cho phép. | SUGGESTED_DURATION: \u001b[0m\u001b[1;33m15\u001b[0m\n"
      ]
     },
     "metadata": {},
     "output_type": "display_data"
    },
    {
     "data": {
      "text/html": [
       "<pre style=\"white-space:pre;overflow-x:auto;line-height:normal;font-family:Menlo,'DejaVu Sans Mono',consolas,'Courier New',monospace\">\n",
       "<span style=\"color: #008080; text-decoration-color: #008080; font-weight: bold\">&gt;</span> ROUTER <span style=\"font-weight: bold\">(</span>Validation<span style=\"font-weight: bold\">)</span>: Lỗi cấu trúc, yêu cầu LẬP KẾ HOẠCH LẠI.\n",
       "</pre>\n"
      ],
      "text/plain": [
       "\n",
       "\u001b[1;36m>\u001b[0m ROUTER \u001b[1m(\u001b[0mValidation\u001b[1m)\u001b[0m: Lỗi cấu trúc, yêu cầu LẬP KẾ HOẠCH LẠI.\n"
      ]
     },
     "metadata": {},
     "output_type": "display_data"
    },
    {
     "data": {
      "text/html": [
       "<pre style=\"white-space:pre;overflow-x:auto;line-height:normal;font-family:Menlo,'DejaVu Sans Mono',consolas,'Courier New',monospace\">\n",
       "<span style=\"color: #808000; text-decoration-color: #808000; font-weight: bold\">------- Hoàn thành bước: content_validator -------</span>\n",
       "</pre>\n"
      ],
      "text/plain": [
       "\n",
       "\u001b[1;33m------- Hoàn thành bước: content_validator -------\u001b[0m\n"
      ]
     },
     "metadata": {},
     "output_type": "display_data"
    },
    {
     "data": {
      "text/html": [
       "<pre style=\"white-space:pre;overflow-x:auto;line-height:normal;font-family:Menlo,'DejaVu Sans Mono',consolas,'Courier New',monospace\">\n",
       "<span style=\"color: #008080; text-decoration-color: #008080; font-weight: bold\">&gt;</span> `Node: Budget Balancer` đang phẫu thuật và cân bằng lại ngân sách<span style=\"color: #808000; text-decoration-color: #808000\">...</span>\n",
       "</pre>\n"
      ],
      "text/plain": [
       "\n",
       "\u001b[1;36m>\u001b[0m `Node: Budget Balancer` đang phẫu thuật và cân bằng lại ngân sách\u001b[33m...\u001b[0m\n"
      ]
     },
     "metadata": {},
     "output_type": "display_data"
    },
    {
     "data": {
      "text/html": [
       "<pre style=\"white-space:pre;overflow-x:auto;line-height:normal;font-family:Menlo,'DejaVu Sans Mono',consolas,'Courier New',monospace\"><span style=\"color: #008000; text-decoration-color: #008000; font-weight: bold\">✔️ Bước </span><span style=\"color: #008000; text-decoration-color: #008000; font-weight: bold\">1</span><span style=\"color: #008000; text-decoration-color: #008000; font-weight: bold\">: Cập nhật nhiệm vụ bị lỗi:</span>\n",
       "</pre>\n"
      ],
      "text/plain": [
       "\u001b[1;32m✔️ Bước \u001b[0m\u001b[1;32m1\u001b[0m\u001b[1;32m: Cập nhật nhiệm vụ bị lỗi:\u001b[0m\n"
      ]
     },
     "metadata": {},
     "output_type": "display_data"
    },
    {
     "data": {
      "text/html": [
       "<pre style=\"white-space:pre;overflow-x:auto;line-height:normal;font-family:Menlo,'DejaVu Sans Mono',consolas,'Courier New',monospace\"><span style=\"font-weight: bold\">{</span>\n",
       "<span style=\"color: #7fbf7f; text-decoration-color: #7fbf7f\">│   </span><span style=\"color: #008000; text-decoration-color: #008000\">'task_id'</span>: <span style=\"color: #008080; text-decoration-color: #008080; font-weight: bold\">2</span>,\n",
       "<span style=\"color: #7fbf7f; text-decoration-color: #7fbf7f\">│   </span><span style=\"color: #008000; text-decoration-color: #008000\">'from'</span>: <span style=\"color: #008080; text-decoration-color: #008080; font-weight: bold\">20</span>,\n",
       "<span style=\"color: #7fbf7f; text-decoration-color: #7fbf7f\">│   </span><span style=\"color: #008000; text-decoration-color: #008000\">'to'</span>: <span style=\"color: #008080; text-decoration-color: #008080; font-weight: bold\">15</span>,\n",
       "<span style=\"color: #7fbf7f; text-decoration-color: #7fbf7f\">│   </span><span style=\"color: #008000; text-decoration-color: #008000\">'delta'</span>: <span style=\"color: #008080; text-decoration-color: #008080; font-weight: bold\">-5</span>\n",
       "<span style=\"font-weight: bold\">}</span>\n",
       "</pre>\n"
      ],
      "text/plain": [
       "\u001b[1m{\u001b[0m\n",
       "\u001b[2;32m│   \u001b[0m\u001b[32m'task_id'\u001b[0m: \u001b[1;36m2\u001b[0m,\n",
       "\u001b[2;32m│   \u001b[0m\u001b[32m'from'\u001b[0m: \u001b[1;36m20\u001b[0m,\n",
       "\u001b[2;32m│   \u001b[0m\u001b[32m'to'\u001b[0m: \u001b[1;36m15\u001b[0m,\n",
       "\u001b[2;32m│   \u001b[0m\u001b[32m'delta'\u001b[0m: \u001b[1;36m-5\u001b[0m\n",
       "\u001b[1m}\u001b[0m\n"
      ]
     },
     "metadata": {},
     "output_type": "display_data"
    },
    {
     "data": {
      "text/html": [
       "<pre style=\"white-space:pre;overflow-x:auto;line-height:normal;font-family:Menlo,'DejaVu Sans Mono',consolas,'Courier New',monospace\"><span style=\"color: #008000; text-decoration-color: #008000; font-weight: bold\">✔️ Bước </span><span style=\"color: #008000; text-decoration-color: #008000; font-weight: bold\">2</span><span style=\"color: #008000; text-decoration-color: #008000; font-weight: bold\">: Cân bằng lại ngân sách ở hoạt động đệm:</span>\n",
       "</pre>\n"
      ],
      "text/plain": [
       "\u001b[1;32m✔️ Bước \u001b[0m\u001b[1;32m2\u001b[0m\u001b[1;32m: Cân bằng lại ngân sách ở hoạt động đệm:\u001b[0m\n"
      ]
     },
     "metadata": {},
     "output_type": "display_data"
    },
    {
     "data": {
      "text/html": [
       "<pre style=\"white-space:pre;overflow-x:auto;line-height:normal;font-family:Menlo,'DejaVu Sans Mono',consolas,'Courier New',monospace\"><span style=\"font-weight: bold\">{</span>\n",
       "<span style=\"color: #7fbf7f; text-decoration-color: #7fbf7f\">│   </span><span style=\"color: #008000; text-decoration-color: #008000\">'task_id'</span>: <span style=\"color: #008080; text-decoration-color: #008080; font-weight: bold\">3</span>,\n",
       "<span style=\"color: #7fbf7f; text-decoration-color: #7fbf7f\">│   </span><span style=\"color: #008000; text-decoration-color: #008000\">'from'</span>: <span style=\"color: #008080; text-decoration-color: #008080; font-weight: bold\">20</span>,\n",
       "<span style=\"color: #7fbf7f; text-decoration-color: #7fbf7f\">│   </span><span style=\"color: #008000; text-decoration-color: #008000\">'to'</span>: <span style=\"color: #008080; text-decoration-color: #008080; font-weight: bold\">25</span>\n",
       "<span style=\"font-weight: bold\">}</span>\n",
       "</pre>\n"
      ],
      "text/plain": [
       "\u001b[1m{\u001b[0m\n",
       "\u001b[2;32m│   \u001b[0m\u001b[32m'task_id'\u001b[0m: \u001b[1;36m3\u001b[0m,\n",
       "\u001b[2;32m│   \u001b[0m\u001b[32m'from'\u001b[0m: \u001b[1;36m20\u001b[0m,\n",
       "\u001b[2;32m│   \u001b[0m\u001b[32m'to'\u001b[0m: \u001b[1;36m25\u001b[0m\n",
       "\u001b[1m}\u001b[0m\n"
      ]
     },
     "metadata": {},
     "output_type": "display_data"
    },
    {
     "data": {
      "text/html": [
       "<pre style=\"white-space:pre;overflow-x:auto;line-height:normal;font-family:Menlo,'DejaVu Sans Mono',consolas,'Courier New',monospace\">\n",
       "<span style=\"color: #808000; text-decoration-color: #808000; font-weight: bold\">------- Hoàn thành bước: budget_balancer -------</span>\n",
       "</pre>\n"
      ],
      "text/plain": [
       "\n",
       "\u001b[1;33m------- Hoàn thành bước: budget_balancer -------\u001b[0m\n"
      ]
     },
     "metadata": {},
     "output_type": "display_data"
    },
    {
     "data": {
      "text/html": [
       "<pre style=\"white-space:pre;overflow-x:auto;line-height:normal;font-family:Menlo,'DejaVu Sans Mono',consolas,'Courier New',monospace\">\n",
       "<span style=\"color: #008080; text-decoration-color: #008080; font-weight: bold\">&gt;</span> `Agent: Task Dispatcher` đang giao việc<span style=\"color: #808000; text-decoration-color: #808000\">...</span>\n",
       "</pre>\n"
      ],
      "text/plain": [
       "\n",
       "\u001b[1;36m>\u001b[0m `Agent: Task Dispatcher` đang giao việc\u001b[33m...\u001b[0m\n"
      ]
     },
     "metadata": {},
     "output_type": "display_data"
    }
   ],
   "source": [
    "# ==============================================================================\n",
    "# CELL 5.2: KÍCH HOẠT CHẠY THỬ NGHIỆM\n",
    "# ==============================================================================\n",
    "# Yêu cầu để kiểm tra\n",
    "architect_request = \"Soạn giúp tôi giáo án bài 'Đường tròn ngoại tiếp và đường tròn nội tiếp' cho học sinh lớp 9 trong 90 phút. Đây là một lớp học khá yếu, các em thường mất tập trung và cần các hoạt động có tính tương tác cao.\"\n",
    "VERBOSE_MODE = True \n",
    "\n",
    "# Chạy quy trình đã được cải cách\n",
    "# Lưu ý: bạn cần một môi trường hỗ trợ `await` ở cấp độ cao nhất (như Jupyter Notebook)\n",
    "await run_architect(architect_request)"
   ]
  }
 ],
 "metadata": {
  "kernelspec": {
   "display_name": "plan_venv",
   "language": "python",
   "name": "python3"
  },
  "language_info": {
   "codemirror_mode": {
    "name": "ipython",
    "version": 3
   },
   "file_extension": ".py",
   "mimetype": "text/x-python",
   "name": "python",
   "nbconvert_exporter": "python",
   "pygments_lexer": "ipython3",
   "version": "3.11.8"
  }
 },
 "nbformat": 4,
 "nbformat_minor": 5
}
