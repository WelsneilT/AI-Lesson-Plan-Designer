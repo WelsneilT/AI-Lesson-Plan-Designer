{
 "cells": [
  {
   "cell_type": "markdown",
   "id": "a3bfa357",
   "metadata": {},
   "source": [
    "## PHẦN 1: CÀI ĐẶT, IMPORTS & THIẾT LẬP BAN ĐẦU"
   ]
  },
  {
   "cell_type": "code",
   "execution_count": 1,
   "id": "f1b9d691",
   "metadata": {},
   "outputs": [
    {
     "name": "stderr",
     "output_type": "stream",
     "text": [
      "c:\\Users\\Hi\\Documents\\IAI - UET\\AI-Lesson-Plan-Generator\\plan_venv\\Lib\\site-packages\\IPython\\core\\interactiveshell.py:3699: LangChainDeprecationWarning: As of langchain-core 0.3.0, LangChain uses pydantic v2 internally. The langchain_core.pydantic_v1 module was a compatibility shim for pydantic v1, and should no longer be used. Please update the code to import from Pydantic directly.\n",
      "\n",
      "For example, replace imports like: `from langchain_core.pydantic_v1 import BaseModel`\n",
      "with: `from pydantic import BaseModel`\n",
      "or the v1 compatibility namespace if you are working in a code base that has not been fully upgraded to pydantic 2 yet. \tfrom pydantic.v1 import BaseModel\n",
      "\n",
      "  exec(code_obj, self.user_global_ns, self.user_ns)\n"
     ]
    }
   ],
   "source": [
    "# ==============================================================================\n",
    "# CELL 1.1: CÀI ĐẶT THƯ VIỆN & BIẾN MÔI TRƯỜNG (CẬP NHẬT)\n",
    "# ==============================================================================\n",
    "import os\n",
    "import json\n",
    "import asyncio\n",
    "import operator\n",
    "import time \n",
    "from typing import TypedDict, Annotated, List, Dict, Any, Literal, Optional, Union\n",
    "\n",
    "# Tải các biến môi trường\n",
    "from dotenv import load_dotenv \n",
    "load_dotenv()\n",
    "\n",
    "# LangChain & LangGraph\n",
    "from langchain_core.messages import BaseMessage, HumanMessage\n",
    "from langchain_core.pydantic_v1 import BaseModel, Field\n",
    "# --- NÂNG CẤP: Chuyển sang thư viện Google Generative AI (dành cho AI Studio) ---\n",
    "from langchain_google_genai import ChatGoogleGenerativeAI\n",
    "from langgraph.graph import StateGraph, END\n",
    "from langgraph.graph.message import add_messages\n",
    "\n",
    "# --- NÂNG CẤP: Thêm công cụ tìm kiếm ---\n",
    "from langchain_community.tools.tavily_search import TavilySearchResults\n",
    "\n",
    "# Thư viện hỗ trợ & Kho tri thức\n",
    "from langchain_community.vectorstores import FAISS\n",
    "from langchain_huggingface import HuggingFaceEmbeddings\n",
    "from rich.console import Console\n",
    "from rich.markdown import Markdown\n",
    "from rich.pretty import pprint\n",
    "from IPython.display import Image, display"
   ]
  },
  {
   "cell_type": "code",
   "execution_count": 3,
   "id": "eb563d80",
   "metadata": {},
   "outputs": [],
   "source": [
    "# ==============================================================================\n",
    "# CELL 1.2: CẤU HÌNH LOG & CÁC HÀM IN ẤN\n",
    "# ==============================================================================\n",
    "from langchain_groq import ChatGroq\n",
    "# --- CẤU HÌNH LOG ---\n",
    "VERBOSE_MODE = True\n",
    "\n",
    "# --- KHỞI TẠO CÁC CÔNG CỤ IN ẤN ---\n",
    "console = Console()\n",
    "\n",
    "def print_step(message: str):\n",
    "    if VERBOSE_MODE:\n",
    "        console.print(f\"\\n[bold cyan]>[/bold cyan] {message}\")\n",
    "\n",
    "def print_result(data: Any, title: str = \"Kết quả\"):\n",
    "    if VERBOSE_MODE:\n",
    "        console.print(f\"[bold green]✔️ {title}:[/bold green]\")\n",
    "        pprint(data, expand_all=True)\n",
    "        \n",
    "def print_warning(message: str):\n",
    "    if VERBOSE_MODE:\n",
    "        console.print(f\"[bold yellow]⚠️  {message}[/bold yellow]\")"
   ]
  },
  {
   "cell_type": "code",
   "execution_count": 4,
   "id": "eb8e3f51",
   "metadata": {},
   "outputs": [
    {
     "name": "stdout",
     "output_type": "stream",
     "text": [
      "✅ LLM (Gemini 2.5 Flash từ Google AI Studio) đã được khởi tạo thành công.\n"
     ]
    }
   ],
   "source": [
    "# ==============================================================================\n",
    "# CELL 1.3: KHỞI TẠO LLM (NÂNG CẤP SANG GOOGLE AI STUDIO)\n",
    "# ==============================================================================\n",
    "try:\n",
    "    llm = ChatGoogleGenerativeAI(\n",
    "        model=\"gemini-2.5-flash\", # Sử dụng model mới nhất và mạnh nhất\n",
    "        temperature=0.1,\n",
    "        google_api_key=os.getenv(\"GOOGLE_API_KEY\")\n",
    "    )\n",
    "    print(\"✅ LLM (Gemini 2.5 Flash từ Google AI Studio) đã được khởi tạo thành công.\")\n",
    "except Exception as e:\n",
    "    print(f\"❌ LỖI: Không thể khởi tạo LLM. Hãy chắc chắn bạn đã cài 'langchain-google-genai' và có GOOGLE_API_KEY trong file .env. Lỗi: {e}\")\n",
    "    llm = None"
   ]
  },
  {
   "cell_type": "markdown",
   "id": "3ba01f0c",
   "metadata": {},
   "source": [
    "## PHẦN 2: ĐỊNH NGHĨA STATE CỦA HỆ THỐNG\n"
   ]
  },
  {
   "cell_type": "code",
   "execution_count": 14,
   "id": "9d8894ca",
   "metadata": {},
   "outputs": [
    {
     "name": "stderr",
     "output_type": "stream",
     "text": [
      "c:\\Users\\Hi\\Documents\\IAI - UET\\AI-Lesson-Plan-Generator\\plan_venv\\Lib\\site-packages\\tqdm\\auto.py:21: TqdmWarning: IProgress not found. Please update jupyter and ipywidgets. See https://ipywidgets.readthedocs.io/en/stable/user_install.html\n",
      "  from .autonotebook import tqdm as notebook_tqdm\n"
     ]
    },
    {
     "data": {
      "text/html": [
       "<pre style=\"white-space:pre;overflow-x:auto;line-height:normal;font-family:Menlo,'DejaVu Sans Mono',consolas,'Courier New',monospace\">\n",
       "<span style=\"color: #008080; text-decoration-color: #008080; font-weight: bold\">&gt;</span> Đang tải và hợp nhất các kho tri thức từ <span style=\"color: #008080; text-decoration-color: #008080; font-weight: bold\">2</span> thư mục<span style=\"color: #808000; text-decoration-color: #808000\">...</span>\n",
       "</pre>\n"
      ],
      "text/plain": [
       "\n",
       "\u001b[1;36m>\u001b[0m Đang tải và hợp nhất các kho tri thức từ \u001b[1;36m2\u001b[0m thư mục\u001b[33m...\u001b[0m\n"
      ]
     },
     "metadata": {},
     "output_type": "display_data"
    },
    {
     "name": "stdout",
     "output_type": "stream",
     "text": [
      "✅ Đã tải thành công kho tri thức cơ sở: 'sgk_toan_12_1'\n",
      "✅ Đã hợp nhất thành công: 'sgk_toan_9'\n",
      "\n",
      "[bold green]✔️ Tất cả các kho tri thức RAG đã được tải và hợp nhất thành công.[/bold green]\n"
     ]
    }
   ],
   "source": [
    "# ==============================================================================\n",
    "# CELL 1.4: TẢI KHO TRI THỨC (RAG)\n",
    "# ==============================================================================\n",
    "# --- TẢI KHO TRI THỨC ---\n",
    "BASE_VECTOR_STORE_PATH = \"vector_store\"\n",
    "vector_store = None\n",
    "embeddings = HuggingFaceEmbeddings(model_name=\"all-MiniLM-L6-v2\")\n",
    "\n",
    "if os.path.exists(BASE_VECTOR_STORE_PATH):\n",
    "    subdirectories = [f.path for f in os.scandir(BASE_VECTOR_STORE_PATH) if f.is_dir()]\n",
    "    if not subdirectories:\n",
    "        print(f\"❌ LỖI: Không tìm thấy thư mục con nào trong '{BASE_VECTOR_STORE_PATH}'.\")\n",
    "    else:\n",
    "        try:\n",
    "            print_step(f\"Đang tải và hợp nhất các kho tri thức từ {len(subdirectories)} thư mục...\")\n",
    "            # Tải kho tri thức đầu tiên để làm cơ sở\n",
    "            first_store_path = subdirectories.pop(0)\n",
    "            vector_store = FAISS.load_local(first_store_path, embeddings, allow_dangerous_deserialization=True)\n",
    "            print(f\"✅ Đã tải thành công kho tri thức cơ sở: '{os.path.basename(first_store_path)}'\")\n",
    "\n",
    "            # Hợp nhất các kho tri thức còn lại\n",
    "            for store_path in subdirectories:\n",
    "                if os.path.exists(os.path.join(store_path, \"index.faiss\")):\n",
    "                    temp_store = FAISS.load_local(store_path, embeddings, allow_dangerous_deserialization=True)\n",
    "                    vector_store.merge_from(temp_store)\n",
    "                    print(f\"✅ Đã hợp nhất thành công: '{os.path.basename(store_path)}'\")\n",
    "                else:\n",
    "                    print_warning(f\"Bỏ qua thư mục '{os.path.basename(store_path)}' vì không chứa file index.faiss.\")\n",
    "            \n",
    "            print(\"\\n[bold green]✔️ Tất cả các kho tri thức RAG đã được tải và hợp nhất thành công.[/bold green]\")\n",
    "\n",
    "        except Exception as e:\n",
    "            print(f\"❌ LỖI trong quá trình tải hoặc hợp nhất kho tri thức: {e}\")\n",
    "else:\n",
    "    print(f\"❌ LỖI: Không tìm thấy thư mục gốc của kho tri thức tại '{BASE_VECTOR_STORE_PATH}'.\")\n"
   ]
  },
  {
   "cell_type": "code",
   "execution_count": 15,
   "id": "38cfae91",
   "metadata": {},
   "outputs": [
    {
     "name": "stdout",
     "output_type": "stream",
     "text": [
      "✅ 'TeacherStateV5' (v9.0 - Hỗ trợ Phân hóa & Cấu trúc) đã được định nghĩa.\n"
     ]
    }
   ],
   "source": [
    "# ==============================================================================\n",
    "# CELL 2.1: ĐỊNH NGHĨA STATE NÂNG CAO (v9.0)\n",
    "# ==============================================================================\n",
    "from typing import TypedDict, Annotated, List, Dict, Any, Literal, Optional, Union\n",
    "from langchain_core.messages import BaseMessage\n",
    "from langgraph.graph.message import add_messages\n",
    "import operator\n",
    "\n",
    "# --- Hàm tiện ích (giữ nguyên) ---\n",
    "def merge_dicts(dict1: Dict[str, Any], dict2: Dict[str, Any]) -> Dict[str, Any]:\n",
    "    merged = dict1.copy()\n",
    "    for key, value in dict2.items():\n",
    "        if key in merged and isinstance(merged[key], dict) and isinstance(value, dict):\n",
    "            merged[key] = merge_dicts(merged[key], value)\n",
    "        else:\n",
    "            merged[key] = value\n",
    "    return merged\n",
    "\n",
    "# --- Cấu trúc dữ liệu con (giữ nguyên) ---\n",
    "class DetailedTask(TypedDict):\n",
    "    task_id: int\n",
    "    task_name: str\n",
    "    task_description: str\n",
    "    estimated_duration: int \n",
    "    status: Literal[\"pending\", \"completed\"]\n",
    "\n",
    "# === NÂNG CẤP V9.0: CÁC CẤU TRÚC DỮ LIỆU MỚI CHO TƯ DUY SÂU ===\n",
    "class DifferentiatedInstruction(TypedDict):\n",
    "    \"\"\"Gợi ý cho việc dạy học phân hóa trong một hoạt động.\"\"\"\n",
    "    for_struggling_students: str\n",
    "    for_advanced_students: str\n",
    "\n",
    "class StructuredContentItem(TypedDict):\n",
    "    \"\"\"Định nghĩa một hoạt động hoặc đánh giá có cấu trúc.\"\"\"\n",
    "    task_id: int\n",
    "    activity_name: str\n",
    "    question_or_description: str # Gộp 'question' và 'description'\n",
    "    duration_minutes: int\n",
    "    content_type: str # Gộp 'activity_type' và 'question_type'\n",
    "    teacher_actions: List[str]\n",
    "    solution_guide: Any\n",
    "    answer: Optional[str] # Dành cho câu hỏi đánh giá\n",
    "    differentiation: Optional[DifferentiatedInstruction]\n",
    "\n",
    "class FinalStructuredPlan(TypedDict):\n",
    "    \"\"\"Định nghĩa cấu trúc JSON cho giáo án cuối cùng.\"\"\"\n",
    "    general_info: Dict[str, Any]\n",
    "    learning_objectives: List[str]\n",
    "    preparation: Dict[str, List[str]]\n",
    "    knowledge_summary: str\n",
    "    lesson_flow: List[StructuredContentItem]\n",
    "    # pedagogical_explainer: Dict[str, Any] # Dành cho nâng cấp tương lai\n",
    "\n",
    "# === NÂNG CẤP V9.0: STATE MỚI VỚI CÁC TRƯỜNG TRÍ TUỆ MỚI ===\n",
    "class TeacherStateV5(TypedDict):\n",
    "    # Các trường cơ bản\n",
    "    original_request: str\n",
    "    messages: Annotated[List[BaseMessage], add_messages]\n",
    "    domain: Optional[str]\n",
    "    \n",
    "    # === NÂNG CẤP: student_persona giờ sẽ chứa cả chiến lược phân hóa ===\n",
    "    student_persona: Optional[Dict[str, Any]] \n",
    "    \n",
    "    # Các bước tuần tự ban đầu\n",
    "    analyzed_objective: Optional[Any]\n",
    "    pedagogy_strategy: Optional[Any]\n",
    "    pedagogical_blueprint: Optional[List[str]]\n",
    "\n",
    "    # Các trường nâng cao\n",
    "    expanded_queries: Optional[List[str]]\n",
    "    task_list: Optional[List[DetailedTask]]\n",
    "    current_task_id: Optional[int]\n",
    "    reflection_notes: Optional[str]\n",
    "    agent_outputs: Annotated[Dict[str, Any], merge_dicts] \n",
    "    next_agent: str\n",
    "    \n",
    "    # Các trường tạm thời cho vòng lặp kiểm duyệt vi mô (Micro-loop)\n",
    "    current_content_to_validate: Optional[Dict[str, Any]]\n",
    "    validation_feedback: Optional[str]\n",
    "\n",
    "    # === NÂNG CẤP: Output cuối cùng sẽ có 2 dạng ===\n",
    "    final_structured_plan: Optional[FinalStructuredPlan] # Dạng JSON có cấu trúc\n",
    "    final_markdown_plan: Optional[str] # Dạng Markdown để hiển thị\n",
    "\n",
    "print(\"✅ 'TeacherStateV5' (v9.0 - Hỗ trợ Phân hóa & Cấu trúc) đã được định nghĩa.\")"
   ]
  },
  {
   "cell_type": "code",
   "execution_count": 16,
   "id": "deb1ba5e",
   "metadata": {},
   "outputs": [
    {
     "name": "stdout",
     "output_type": "stream",
     "text": [
      "✅ Node khởi tạo 'initialize_state_node' đã được định nghĩa.\n"
     ]
    }
   ],
   "source": [
    "# ==============================================================================\n",
    "# CELL 2.2: NODE KHỞI TẠO STATE\n",
    "# ==============================================================================\n",
    "def initialize_state_node(state: TeacherStateV5) -> Dict[str, Any]:\n",
    "    \"\"\"\n",
    "    Node đầu tiên trong graph.\n",
    "    Lấy yêu cầu gốc từ tin nhắn đầu vào và điền vào trường 'original_request'.\n",
    "    \"\"\"\n",
    "    print_step(\"`Initializer`: Đang khởi tạo trạng thái và lấy yêu cầu gốc...\")\n",
    "    user_request = state['messages'][-1].content\n",
    "    return {\"original_request\": user_request}\n",
    "\n",
    "print(\"✅ Node khởi tạo 'initialize_state_node' đã được định nghĩa.\")"
   ]
  },
  {
   "cell_type": "markdown",
   "id": "924d794f",
   "metadata": {},
   "source": [
    "## PHẦN 3: ĐỊNH NGHĨA CÁC AGENT"
   ]
  },
  {
   "cell_type": "code",
   "execution_count": 17,
   "id": "8cc95063",
   "metadata": {},
   "outputs": [
    {
     "name": "stdout",
     "output_type": "stream",
     "text": [
      "✅ Các cấu trúc dữ liệu Pydantic (v9.0 - Hỗ trợ Phân hóa) đã được định nghĩa.\n"
     ]
    }
   ],
   "source": [
    "# ==============================================================================\n",
    "# CELL 3.1: HÀM TIỆN ÍCH, PERSONA & CÁC CẤU TRÚC DỮ LIỆU (NÂNG CẤP V9.0)\n",
    "# ==============================================================================\n",
    "import json\n",
    "from langchain_core.pydantic_v1 import BaseModel, Field, schema_json_of\n",
    "from typing import List, Dict, Any, Literal, Optional\n",
    "\n",
    "# --- HÀM TIỆN ÍCH & PERSONA (giữ nguyên) ---\n",
    "def format_solution_guide(guide: Any) -> str:\n",
    "    if not guide: return \"Chưa có hướng dẫn.\"\n",
    "    if isinstance(guide, str): return guide\n",
    "    if isinstance(guide, list): return \"\\n\".join(f\"- {step}\" for step in guide)\n",
    "    if isinstance(guide, dict): return \"\\n\".join(f\"- {key.replace('_', ' ').title()}: {value}\" for key, value in guide.items())\n",
    "    return str(guide)\n",
    "\n",
    "def format_teacher_actions(actions: Optional[List[str]]) -> str:\n",
    "    if not actions: return \"Giáo viên quan sát và hỗ trợ chung.\"\n",
    "    return \"\\n\".join(f\"  - {action}\" for action in actions)\n",
    "\n",
    "def update_agent_outputs(state: \"TeacherStateV5\", key: str, value: Any) -> Dict[str, Any]:\n",
    "    outputs = state.get(\"agent_outputs\", {}).copy()\n",
    "    if key not in outputs: outputs[key] = []\n",
    "    outputs[key].append(value)\n",
    "    return {\"agent_outputs\": outputs}\n",
    "\n",
    "SYSTEM_PERSONA_PROMPT = \"BẠN LÀ MỘT TRỢ LÝ AI CHUYÊN NGHIỆP, ĐÓNG VAI TRÒ MỘT GIÁO VIÊN GIÀU KINH NGHIỆM TẠI VIỆT NAM. LUÔN LUÔN trả lời bằng TIẾNG VIỆT.\"\n",
    "\n",
    "# === NÂNG CẤP V9.0: PYDANTIC MODELS MỚI CHO TƯ DUY SÂU ===\n",
    "\n",
    "class DifferentiatedInstructionModel(BaseModel):\n",
    "    \"\"\"Gợi ý cụ thể cho việc dạy học phân hóa trong một hoạt động.\"\"\"\n",
    "    for_struggling_students: str = Field(description=\"Một gợi ý hoạt động, câu hỏi, hoặc sự hỗ trợ cụ thể cho nhóm học sinh yếu/gặp khó khăn.\")\n",
    "    for_advanced_students: str = Field(description=\"Một câu hỏi mở rộng, một thử thách, hoặc một hoạt động nâng cao cho nhóm học sinh giỏi.\")\n",
    "\n",
    "class LearningActivity(BaseModel):\n",
    "    activity_name: str = Field(description=\"Tên của hoạt động học tập. Ví dụ: 'Thảo luận nhóm về ứng dụng của Tích phân'\")\n",
    "    description: str = Field(description=\"Mô tả chi tiết các bước HỌC SINH cần làm.\")\n",
    "    duration_minutes: int = Field(description=\"Thời gian ước tính (bằng SỐ PHÚT).\")\n",
    "    activity_type: str = Field(description=\"Phân loại hoạt động. Ví dụ: 'Thảo luận nhóm', 'Thực hành cá nhân'\")\n",
    "    teacher_actions: List[str] = Field(description=\"Danh sách các hành động CỤ THỂ của GIÁO VIÊN trong hoạt động này.\")\n",
    "    solution_guide: Optional[Any] = Field(description=\"Hướng dẫn giải hoặc các câu hỏi gợi mở cụ thể cho học sinh.\")\n",
    "    differentiation: Optional[DifferentiatedInstructionModel] = Field(description=\"Gợi ý phân hóa cụ thể cho hoạt động này.\")\n",
    "\n",
    "class AssessmentItem(BaseModel):\n",
    "    activity_name: str = Field(description=\"Tên của hoạt động đánh giá. Ví dụ: 'Thử thách cuối bài'\")\n",
    "    question: str = Field(description=\"Nội dung câu hỏi hoặc đề bài toán cụ thể.\")\n",
    "    question_type: str = Field(description=\"Loại câu hỏi. Ví dụ: 'Tự luận', 'Trắc nghiệm'\")\n",
    "    teacher_actions: List[str] = Field(description=\"Danh sách các hành động CỤ THỂ của GIÁO VIÊN trong hoạt động này.\")\n",
    "    answer: str = Field(description=\"Đáp án chính xác và ngắn gọn.\")\n",
    "    solution_guide: Any = Field(description=\"Hướng dẫn giải chi tiết từng bước.\")\n",
    "    duration_minutes: int = Field(description=\"Thời gian ước tính (bằng SỐ PHÚT).\")\n",
    "    differentiation: Optional[DifferentiatedInstructionModel] = Field(description=\"Gợi ý phân hóa cụ thể cho hoạt động này, ví dụ một câu hỏi phụ khó hơn.\")\n",
    "\n",
    "class StudentPersona(BaseModel):\n",
    "    learning_pace: Literal[\"nhanh\", \"trung bình\", \"chậm\"] = Field(description=\"Tốc độ học tập chung của lớp.\")\n",
    "    engagement_style: Literal[\"chủ động\", \"thụ động\", \"hỗn hợp\"] = Field(description=\"Mức độ tham gia chung của lớp.\")\n",
    "    special_notes: str = Field(description=\"Tóm tắt các đặc điểm nổi bật của lớp học.\")\n",
    "\n",
    "class StudentPersonaAndDifferentiation(StudentPersona):\n",
    "    \"\"\"Mở rộng StudentPersona để bao gồm cả chiến lược phân hóa tổng thể.\"\"\"\n",
    "    differentiation_strategy: DifferentiatedInstructionModel = Field(description=\"Chiến lược dạy học phân hóa tổng thể cho cả bài học dựa trên các đặc điểm của lớp.\")\n",
    "\n",
    "# --- Các model khác giữ nguyên ---\n",
    "class DetailedTaskModel(BaseModel):\n",
    "    task_name: str = Field(description=\"Tên của nhiệm vụ này.\")\n",
    "    task_description: str = Field(description=\"Mô tả chi tiết nhiệm vụ cần thực hiện.\")\n",
    "    estimated_duration: int = Field(description=\"Thời gian ước tính (bằng phút) cho nhiệm vụ này.\")\n",
    "\n",
    "class TaskListWithDuration(BaseModel):\n",
    "    tasks: List[DetailedTaskModel]\n",
    "\n",
    "class DetailedPedagogyChoice(BaseModel):\n",
    "    name: str = Field(description=\"Tên của phương pháp sư phạm được chọn.\")\n",
    "    rationale: str = Field(description=\"Lý do tại sao phương pháp này phù hợp.\")\n",
    "    key_actions: List[str] = Field(description=\"Danh sách các hành động/hoạt động cốt lõi đặc trưng cho phương pháp này.\")\n",
    "\n",
    "class ValidationResult(BaseModel):\n",
    "    is_valid: bool = Field(description=\"Nội dung có hợp lệ và chính xác về mặt chuyên môn không.\")\n",
    "    feedback: str = Field(description=\"Phản hồi chi tiết. Nếu không hợp lệ, hãy giải thích rõ ràng lỗi sai và gợi ý cách sửa.\")\n",
    "\n",
    "class Domain(BaseModel):\n",
    "    domain: str = Field(description=\"Lĩnh vực học thuật chính của yêu cầu.\")\n",
    "\n",
    "class ExpandedQueries(BaseModel): queries: List[str]\n",
    "class BestSnippets(BaseModel): best_snippets: List[str]\n",
    "class ParsedObjective(BaseModel): action_verb: str; bloom_level: int; topic: str; grade_level: str; duration_minutes: Optional[int]\n",
    "class TaskClassification(BaseModel): agent_category: Literal[\"activity_designer\", \"theory_synthesizer\", \"assessment_creator\"]\n",
    "\n",
    "class BlueprintStage(BaseModel):\n",
    "    stage_name: str = Field(description=\"Tên của giai đoạn.\")\n",
    "    stage_objective: str = Field(description=\"Mô tả mục tiêu của giai đoạn này.\")\n",
    "    stage_direction: str = Field(description=\"Định hướng chung về hoạt động trong giai đoạn này.\")\n",
    "\n",
    "class PedagogicalBlueprint(BaseModel):\n",
    "    blueprint: List[BlueprintStage]\n",
    "\n",
    "print(\"✅ Các cấu trúc dữ liệu Pydantic (v9.0 - Hỗ trợ Phân hóa) đã được định nghĩa.\")"
   ]
  },
  {
   "cell_type": "code",
   "execution_count": 18,
   "id": "be758847",
   "metadata": {},
   "outputs": [
    {
     "name": "stdout",
     "output_type": "stream",
     "text": [
      "✅ Các agent phân tích yêu cầu ban đầu (v9.0 - Hỗ trợ Phân hóa) đã sẵn sàng.\n"
     ]
    }
   ],
   "source": [
    "# ==============================================================================\n",
    "# CELL 3.2: AGENT PHÂN TÍCH YÊU CẦU BAN ĐẦU (NÂNG CẤP V9.0)\n",
    "# ==============================================================================\n",
    "async def objective_interpreter_agent(state: \"TeacherStateV5\") -> Dict[str, Any]:\n",
    "    print_step(\"`Agent: Objective Interpreter` (v7.5) đang phân tích mục tiêu...\")\n",
    "    prompt = f\"{SYSTEM_PERSONA_PROMPT}\\n**NHIỆM VỤ:** Đọc yêu cầu của người dùng và trích xuất các thông tin sau.\\n**YÊU CẦU:** \\\"{state['original_request']}\\\"\\n**CÁC TRƯỜNG CẦN TRÍCH XUẤT:** `action_verb`, `bloom_level` (SỐ NGUYÊN), `topic`, `grade_level`, `duration_minutes`.\\n**CHỈ TRẢ VỀ JSON.**\"\n",
    "    structured_llm = llm.with_structured_output(ParsedObjective, method=\"json_mode\")\n",
    "    try:\n",
    "        parsed_result = await structured_llm.ainvoke(prompt)\n",
    "        analyzed_objective_dict = parsed_result.dict()\n",
    "        analyzed_objective_dict['constraints'] = {'duration_minutes': parsed_result.duration_minutes}\n",
    "        del analyzed_objective_dict['duration_minutes']\n",
    "        print_result(analyzed_objective_dict, \"Mục tiêu & Ràng buộc đã phân tích\")\n",
    "        return {\"analyzed_objective\": analyzed_objective_dict}\n",
    "    except Exception as e:\n",
    "        print_warning(f\"Lỗi tại Objective Interpreter: {e}. Sử dụng mục tiêu mặc định.\")\n",
    "        return {\"analyzed_objective\": { \"action_verb\": \"soạn\", \"bloom_level\": 3, \"topic\": state['original_request'], \"grade_level\": \"9\", \"constraints\": {\"duration_minutes\": 90} }}\n",
    "\n",
    "async def domain_classifier_agent(state: \"TeacherStateV5\") -> Dict[str, Any]:\n",
    "    print_step(\"`Agent: Domain Classifier` (v7.5) đang xác định lĩnh vực chuyên môn...\")\n",
    "    prompt = f\"{SYSTEM_PERSONA_PROMPT}\\n**NHIỆM VỤ:** Đọc yêu cầu của người dùng và xác định lĩnh vực học thuật chính.\\n**YÊU CẦU:** \\\"{state['original_request']}\\\"\\n**LĨNH VỰC CÓ THỂ CHỌN:** 'Toán học', 'Vật lý', 'Hóa học', 'Sinh học', 'Văn học', 'Lịch sử', 'Địa lý', 'Ngoại ngữ', 'Tin học'.\\n**YÊU CẦU ĐỊNH DẠNG:** Trả về JSON với key `domain`.\"\n",
    "    structured_llm = llm.with_structured_output(Domain, method=\"json_mode\")\n",
    "    try:\n",
    "        result = await structured_llm.ainvoke(prompt)\n",
    "        print_result(result.domain, \"Lĩnh vực chuyên môn được xác định\")\n",
    "        return {\"domain\": result.domain}\n",
    "    except Exception as e:\n",
    "        print_warning(f\"Lỗi tại Domain Classifier: {e}. Sử dụng lĩnh vực mặc định 'Toán học'.\")\n",
    "        return {\"domain\": \"Toán học\"}\n",
    "\n",
    "# === NÂNG CẤP: Agent này giờ đây là một nhà tư vấn chiến lược ===\n",
    "async def differentiated_instruction_advisor_agent(state: \"TeacherStateV5\") -> Dict[str, Any]:\n",
    "    print_step(\"`Agent: Differentiated Instruction Advisor` (v9.0) đang phân tích và đề xuất chiến lược phân hóa...\")\n",
    "    prompt = f\"\"\"{SYSTEM_PERSONA_PROMPT}\n",
    "    **VAI TRÒ:** Bạn là một chuyên gia sư phạm, chuyên về dạy học phân hóa.\n",
    "    **NHIỆM VỤ:** Phân tích mô tả về lớp học dưới đây và đề xuất một chiến lược dạy học phân hóa TỔNG THỂ cho cả buổi học.\n",
    "    **YÊU CẦU CỦA GIÁO VIÊN:** \"{state['original_request']}\"\n",
    "    \n",
    "    **CÁC BƯỚC SUY LUẬN (BẮT BUỘC):**\n",
    "    1.  **Phân tích Đặc điểm:** Dựa vào các từ khóa như \"yếu\", \"mất tập trung\", \"giỏi\", \"nhanh\", \"chậm\", hãy xác định `learning_pace`, `engagement_style`, và tóm tắt vào `special_notes`.\n",
    "    2.  **Đề xuất Chiến lược Phân hóa:** Dựa trên phân tích trên, hãy suy nghĩ và đề xuất:\n",
    "        -   `for_struggling_students`: Một chiến lược cụ thể để **hỗ trợ** nhóm học sinh có thể gặp khó khăn. (Ví dụ: \"Chia nhỏ nhiệm vụ, cung cấp phiếu bài tập có gợi ý công thức, cho phép thêm thời gian.\")\n",
    "        -   `for_advanced_students`: Một chiến lược cụ thể để **thử thách** nhóm học sinh khá giỏi. (Ví dụ: \"Chuẩn bị các câu hỏi mở rộng 'Tại sao?' và 'Nếu... thì sao?', giao một bài toán ứng dụng thực tế nhỏ.\")\n",
    "\n",
    "    **YÊU CẦU ĐỊNH DẠNG:** BẮT BUỘC trả về một đối tượng JSON duy nhất tuân thủ schema `StudentPersonaAndDifferentiation`.\n",
    "    \"\"\"\n",
    "    structured_llm = llm.with_structured_output(StudentPersonaAndDifferentiation, method=\"json_mode\")\n",
    "    try:\n",
    "        result = await structured_llm.ainvoke(prompt)\n",
    "        print_result(result.dict(), \"Hồ sơ lớp học và Chiến lược Phân hóa\")\n",
    "        return {\"student_persona\": result.dict()}\n",
    "    except Exception as e:\n",
    "        print_warning(f\"Lỗi tại Differentiated Instruction Advisor: {e}. Sử dụng hồ sơ mặc định.\")\n",
    "        fallback_persona = {\n",
    "            \"learning_pace\": \"trung bình\",\n",
    "            \"engagement_style\": \"hỗn hợp\",\n",
    "            \"special_notes\": \"Không có ghi chú đặc biệt.\",\n",
    "            \"differentiation_strategy\": {\n",
    "                \"for_struggling_students\": \"Quan sát và hỗ trợ thêm khi cần thiết.\",\n",
    "                \"for_advanced_students\": \"Khuyến khích các em tìm tòi thêm.\"\n",
    "            }\n",
    "        }\n",
    "        return {\"student_persona\": fallback_persona}\n",
    "\n",
    "print(\"✅ Các agent phân tích yêu cầu ban đầu (v9.0 - Hỗ trợ Phân hóa) đã sẵn sàng.\")"
   ]
  },
  {
   "cell_type": "code",
   "execution_count": 19,
   "id": "68b5bcd8",
   "metadata": {},
   "outputs": [
    {
     "name": "stdout",
     "output_type": "stream",
     "text": [
      "✅ Các agent lập kế hoạch chiến lược đã sẵn sàng.\n"
     ]
    }
   ],
   "source": [
    "# ==============================================================================\n",
    "# CELL 3.3: AGENT LẬP KẾ HOẠCH CHIẾN LƯỢC (v7.5)\n",
    "# ==============================================================================\n",
    "async def pedagogy_strategist_agent(state: \"TeacherStateV5\") -> Dict[str, Any]:\n",
    "    print_step(\"`Agent: Pedagogy Strategist` (v7.5) đang xây dựng chiến lược sư phạm chi tiết...\")\n",
    "    prompt = f\"\"\"{SYSTEM_PERSONA_PROMPT}\n",
    "    **MỤC TIÊU BÀI HỌC:** {state.get('analyzed_objective')}\n",
    "    **HỒ SƠ LỚP HỌC:** {state.get('student_persona')}\n",
    "    **NHIỆM VỤ:** Dựa vào mục tiêu và hồ sơ lớp học, hãy chọn MỘT phương pháp sư phạm phù hợp nhất. Sau đó, phân tích phương pháp đó thành các hành động cốt lõi.\n",
    "    **VÍ DỤ:** Nếu chọn 'Dạy học theo dự án', key_actions có thể là [\"Giao dự án\", \"Học sinh làm việc nhóm\", \"Báo cáo sản phẩm\"].\n",
    "    **YÊU CẦU ĐỊNH DẠNG:** Trả về JSON với các key `name`, `rationale`, `key_actions`.\n",
    "    \"\"\"\n",
    "    structured_llm = llm.with_structured_output(DetailedPedagogyChoice, method=\"json_mode\")\n",
    "    try:\n",
    "        result = await structured_llm.ainvoke(prompt)\n",
    "        print_result(result.dict(), \"Chiến lược sư phạm chi tiết\")\n",
    "        return {\"pedagogy_strategy\": result.dict()}\n",
    "    except Exception as e:\n",
    "        print_warning(f\"Lỗi tại Pedagogy Strategist: {e}. Sử dụng chiến lược mặc định.\")\n",
    "        return {\"pedagogy_strategy\": {\"name\": \"Dạy học giải quyết vấn đề\", \"rationale\": \"Mặc định do lỗi.\", \"key_actions\": [\"Nêu vấn đề\", \"Học sinh tìm giải pháp\", \"Trình bày kết quả\"]}}\n",
    "\n",
    "async def pedagogical_architect_agent(state: \"TeacherStateV5\") -> Dict[str, Any]:\n",
    "    print_step(\"`Agent: Pedagogical Architect` (v7.5) đang thiết kế kịch bản buổi học...\")\n",
    "    prompt = f\"\"\"{SYSTEM_PERSONA_PROMPT} Với vai trò là một chuyên gia thiết kế trải nghiệm học tập.\n",
    "    **NHIỆM VỤ:** Xây dựng một \"Bản thiết kế Sư phạm\" - một kịch bản CẤP CAO cho buổi học.\n",
    "    **QUY TẮC:**\n",
    "    1.  Tạo ra 3-5 giai đoạn chính cho dòng chảy của buổi học.\n",
    "    2.  Mỗi giai đoạn phải có tên (`stage_name`), mục tiêu (`stage_objective`), và định hướng (`stage_direction`).\n",
    "    3.  Đảm bảo độ khó tăng tiến qua các giai đoạn.\n",
    "    **THÔNG TIN PHÂN TÍCH:**\n",
    "    - Mục tiêu: {state.get('analyzed_objective')}\n",
    "    - Hồ sơ lớp học: {state.get('student_persona')}\n",
    "    - Chiến lược Sư phạm: {state.get('pedagogy_strategy')}\n",
    "    **YÊU CẦU ĐỊNH DẠNG:** Trả về JSON với key là `blueprint`, giá trị là một danh sách các đối tượng Stage.\n",
    "    \"\"\"\n",
    "    structured_llm = llm.with_structured_output(PedagogicalBlueprint, method=\"json_mode\")\n",
    "    try:\n",
    "        result = await structured_llm.ainvoke(prompt)\n",
    "        blueprint_list_of_strings = [f\"{stage.stage_name}: {stage.stage_direction}\" for stage in result.blueprint]\n",
    "        print_result(blueprint_list_of_strings, \"Bản thiết kế Sư phạm đã được tạo\")\n",
    "        return {\"pedagogical_blueprint\": blueprint_list_of_strings}\n",
    "    except Exception as e:\n",
    "        print_warning(f\"Lỗi tại Pedagogical Architect: {e}. Sử dụng blueprint mặc định.\")\n",
    "        return {\"pedagogical_blueprint\": [\"Giai đoạn 1: Giới thiệu bài học\", \"Giai đoạn 2: Luyện tập\", \"Giai đoạn 3: Đánh giá\"]}\n",
    "\n",
    "print(\"✅ Các agent lập kế hoạch chiến lược đã sẵn sàng.\")"
   ]
  },
  {
   "cell_type": "code",
   "execution_count": 20,
   "id": "220113cd",
   "metadata": {},
   "outputs": [
    {
     "name": "stdout",
     "output_type": "stream",
     "text": [
      "✅ Các agent RAG đã sẵn sàng.\n"
     ]
    }
   ],
   "source": [
    "# ==============================================================================\n",
    "# CELL 3.4: AGENT TRUY XUẤT VÀ TỔNG HỢP KIẾN THỨC (RAG) (v7.5)\n",
    "# ==============================================================================\n",
    "async def query_expansion_agent(state: \"TeacherStateV5\") -> Dict[str, Any]:\n",
    "    print_step(\"`Agent: Query Expansion` (v7.5) đang phân tích yêu cầu...\")\n",
    "    prompt = f\"{SYSTEM_PERSONA_PROMPT}\\n**NHIỆM VỤ:** Tạo ra các cụm từ tìm kiếm đa dạng bằng tiếng Việt để tìm tài liệu.\\n**CHỦ ĐỀ:** \\\"{state.get('analyzed_objective', {}).get('topic', '')}\\\"\\n**LĨNH VỰC:** {state.get('domain', 'Chung')}\\n**YÊU CẦU ĐỊNH DẠNG:** Trả về JSON với key `queries`.\"\n",
    "    structured_llm = llm.with_structured_output(ExpandedQueries, method=\"json_mode\")\n",
    "    try:\n",
    "        response = await structured_llm.ainvoke(prompt)\n",
    "        print_result(response.queries, \"Các truy vấn tìm kiếm đã được mở rộng\")\n",
    "        return {\"expanded_queries\": response.queries}\n",
    "    except Exception as e:\n",
    "        print_warning(f\"Lỗi tại Query Expansion: {e}. Sử dụng truy vấn gốc.\")\n",
    "        return {\"expanded_queries\": [state.get('analyzed_objective', {}).get('topic', '')]}\n",
    "\n",
    "async def resource_scout_agent_v2(state: \"TeacherStateV5\") -> Dict[str, Any]:\n",
    "    print_step(\"`Agent: Resource Scout` (v8.1 - Sửa lỗi) đang tìm kiếm và sàng lọc...\")\n",
    "    retriever = vector_store.as_retriever(search_kwargs={\"k\": 5})\n",
    "    all_docs = []\n",
    "    queries = state.get('expanded_queries', [state.get('analyzed_objective', {}).get('topic', '')])\n",
    "    for query in queries:\n",
    "        all_docs.extend(retriever.invoke(query))\n",
    "    unique_docs_content = list({doc.page_content for doc in all_docs})[:8]\n",
    "    print_step(f\"Tìm thấy {len(all_docs)} tài liệu, sàng lọc còn {len(unique_docs_content)} đoạn văn bản độc nhất.\")\n",
    "    \n",
    "    # --- Phần Re-ranker giữ nguyên ---\n",
    "    rerank_prompt = f\"{SYSTEM_PERSONA_PROMPT}\\n**NHIỆM VỤ:** Đọc yêu cầu gốc và chọn ra 3-4 đoạn văn bản tiếng Việt phù hợp NHẤT từ danh sách dưới đây.\\n**YÊU CẦU GỐC:** \\\"{state.get('original_request', '')}\\\"\\n**DANH SÁCH TÀI LIỆU:** {json.dumps(unique_docs_content, ensure_ascii=False)}\\n**YÊU CẦU ĐỊNH DẠNG:** Trả về JSON với key `best_snippets`.\"\n",
    "    structured_llm_reranker = llm.with_structured_output(BestSnippets, method=\"json_mode\")\n",
    "    best_snippets_text = \"\\n\\n---\\n\\n\".join(unique_docs_content)\n",
    "    try:\n",
    "        reranked_result = await structured_llm_reranker.ainvoke(rerank_prompt)\n",
    "        best_snippets_text = \"\\n\\n---\\n\\n\".join(reranked_result.best_snippets)\n",
    "    except Exception as e:\n",
    "        print_warning(f\"Lỗi tại Re-ranker: {e}. Sử dụng tất cả tài liệu.\")\n",
    "\n",
    "    # === ĐẠI TU PROMPT TÓM TẮT ===\n",
    "    summary_prompt = f\"\"\"{SYSTEM_PERSONA_PROMPT}\n",
    "    **VAI TRÒ:** Bạn là một chuyên gia tổng hợp thông tin.\n",
    "    **NHIỆM VỤ DUY NHẤT:** Dựa **CHỈ** vào các đoạn văn bản dưới đây, hãy viết một bản **TÓM TẮT KIẾN THỨC CỐT LÕI** về chủ đề \"{state.get('analyzed_objective', {}).get('topic', '')}\".\n",
    "\n",
    "    **QUY TẮC TUYỆT ĐỐI:**\n",
    "    1.  **CHỈ DÙNG THÔNG TIN ĐƯỢC CUNG CẤP:** Tuyệt đối không được bình luận về chất lượng của các đoạn văn bản. Không được \"từ chối\" tóm tắt.\n",
    "    2.  **TỔNG HỢP & SUY LUẬN:** Nhiệm vụ của bạn là đọc tất cả các mẩu thông tin (kể cả từ các bài tập) và suy luận ra các định nghĩa, tính chất cốt lõi nhất.\n",
    "    3.  **CẤU TRÚC RÕ RÀNG:** Trình bày bản tóm tắt một cách mạch lạc, có đầu mục rõ ràng (ví dụ: 1. Định nghĩa, 2. Tính chất...).\n",
    "    4.  **TRẢ VỀ TÓM TẮT:** Luôn luôn trả về một bản tóm tắt, ngay cả khi nó ngắn gọn do thông tin hạn chế.\n",
    "\n",
    "    **CÁC ĐOẠN VĂN BẢN ĐỂ TÓM TẮT:**\n",
    "    {best_snippets_text}\n",
    "    \"\"\"\n",
    "    summary = \"Chưa có bản tóm tắt kiến thức.\"\n",
    "    try:\n",
    "        summary_response = await llm.ainvoke(summary_prompt)\n",
    "        summary = summary_response.content\n",
    "    except Exception as e:\n",
    "        print_warning(f\"Lỗi tại bước tóm tắt: {e}.\")\n",
    "        \n",
    "    resource = {\"source\": \"Sách giáo khoa (từ RAG - đã sàng lọc)\", \"summary\": summary}\n",
    "    print_result(resource, \"Tài liệu RAG cuối cùng\")\n",
    "    return update_agent_outputs(state, \"resources\", resource)\n",
    "\n",
    "print(\"✅ Các agent RAG đã sẵn sàng.\")"
   ]
  },
  {
   "cell_type": "code",
   "execution_count": 21,
   "id": "6eac918a",
   "metadata": {},
   "outputs": [
    {
     "name": "stdout",
     "output_type": "stream",
     "text": [
      "✅ Các agent giao việc và chuyên môn (v9.0 - Hỗ trợ Phân hóa) đã sẵn sàng.\n"
     ]
    }
   ],
   "source": [
    "# ==============================================================================\n",
    "# CELL 3.5: AGENT GIAO VIỆC VÀ CÁC AGENT CHUYÊN MÔN (NÂNG CẤP V9.0)\n",
    "# ==============================================================================\n",
    "async def plan_delegator_agent(state: \"TeacherStateV5\") -> Dict[str, Any]:\n",
    "    print_step(\"`Agent: Plan Delegator` (v8.2 - Siêu cụ thể) đang triển khai Bản thiết kế...\")\n",
    "    \n",
    "    blueprint = state.get('pedagogical_blueprint', [])\n",
    "    topic = state.get('analyzed_objective', {}).get('topic', 'chủ đề đã cho')\n",
    "    \n",
    "    prompt = f\"\"\"{SYSTEM_PERSONA_PROMPT}\n",
    "    **VAI TRÒ:** Bạn là một **Trợ lý Sư phạm**, chuyên viên thực thi kế hoạch.\n",
    "    **NHIỆM VỤ DUY NHẤT:** Dựa vào **Bản thiết kế Sư phạm** dưới đây, hãy **chuyển đổi (convert)** nó thành một danh sách các **NHIỆM VỤ HỌC TẬP CỤ THỂ** về chủ đề \"{topic}\".\n",
    "    **BẢN THIẾT KẾ SƯ PHẠM (KỊCH BẢN BUỔI HỌC CẦN TUÂN THỦ):**\n",
    "    {json.dumps(blueprint, ensure_ascii=False, indent=2)}\n",
    "    **QUY TẮC TUYỆT ĐỐI:**\n",
    "    1.  **BÁM SÁT KỊCH BẢN 1:1:** Mỗi giai đoạn trong bản thiết kế PHẢI được chuyển đổi thành ít nhất MỘT nhiệm vụ học tập tương ứng. Giữ nguyên tinh thần của từng giai đoạn.\n",
    "    2.  **TẬP TRUNG VÀO NỘI DUNG MÔN HỌC:** Các nhiệm vụ phải xoay quanh việc học về \"{topic}\".\n",
    "    3.  **HÀNH ĐỘNG CỤ THỂ:** Mô tả hành động học sinh sẽ làm liên quan đến môn học. Ví dụ: \"Học sinh chứng minh định lý...\", \"Học sinh thảo luận về ứng dụng của...\". CẤM các từ ngữ chung chung như \"Tiếp thu kiến thức\", \"Vận dụng\".\n",
    "    4.  **Phân bổ Thời gian:** Chia tổng thời lượng {state.get('analyzed_objective', {}).get('constraints', {}).get('duration_minutes', 90)} phút một cách hợp lý.\n",
    "    5.  **RÀ SOÁT VÀ TỐI ƯU HÓA:** Sau khi tạo danh sách, hãy tự rà soát. Nếu có hai nhiệm vụ liên tiếp có mục tiêu rất giống nhau, hãy gộp chúng thành một.\n",
    "    **YÊU CẦU ĐỊNH DẠNG:** BẮT BUỘC trả về JSON tuân thủ schema `TaskListWithDuration`.\n",
    "    \"\"\"\n",
    "    \n",
    "    structured_llm = llm.with_structured_output(TaskListWithDuration, method=\"json_mode\")\n",
    "    \n",
    "    try:\n",
    "        task_list_result = await structured_llm.ainvoke(prompt)\n",
    "        tasks_with_status = [{\"task_id\": i, **t.dict(), \"status\": \"pending\"} for i, t in enumerate(task_list_result.tasks) if t]\n",
    "        print_result(tasks_with_status, f\"Đã tạo {len(tasks_with_status)} nhiệm vụ chi tiết\")\n",
    "        new_agent_outputs = {\"resources\": state.get(\"agent_outputs\", {}).get(\"resources\", [])}\n",
    "        return {\"task_list\": tasks_with_status, \"reflection_notes\": None, \"agent_outputs\": new_agent_outputs}\n",
    "    \n",
    "    except Exception as e:\n",
    "        print_warning(f\"Lỗi tại Plan Delegator: {e}. Tạo task mặc định.\")\n",
    "        topic_fallback = state.get('analyzed_objective', {}).get('topic', state.get('original_request', 'chủ đề đã cho'))\n",
    "        fallback_task = {\n",
    "            \"task_id\": 0, \"task_name\": f\"Hoạt động luyện tập về {topic_fallback}\",\n",
    "            \"task_description\": f\"Học sinh thực hành các bài tập cơ bản liên quan đến chủ đề: {topic_fallback}.\",\n",
    "            \"estimated_duration\": 45, \"status\": \"pending\"\n",
    "        }\n",
    "        return {\"task_list\": [fallback_task], \"reflection_notes\": None, \"agent_outputs\": state.get(\"agent_outputs\", {})}\n",
    "\n",
    "# === NÂNG CẤP: Logic của agent chuyên môn giờ đây phải suy nghĩ về phân hóa ===\n",
    "async def specialist_agent_logic(state: \"TeacherStateV5\", agent_type: str, pydantic_model: type[BaseModel]) -> Dict[str, Any]:\n",
    "    print_step(f\"`Agent: {agent_type}` (v9.0) đang tạo nội dung chi tiết và gợi ý phân hóa...\")\n",
    "    task_to_run = next((t for t in state.get('task_list', []) if t['task_id'] == state.get('current_task_id')), None)\n",
    "    if not task_to_run: return {\"current_content_to_validate\": {\"error\": \"Không tìm thấy task hiện tại.\"}, \"validation_feedback\": None}\n",
    "\n",
    "    feedback_prompt = f\"**PHẢN HỒI TỪ LẦN TRƯỚC (CẦN SỬA):** \\\"{state.get('validation_feedback', '')}\\\".\" if state.get('validation_feedback') else \"\"\n",
    "    \n",
    "    # Lấy chiến lược phân hóa tổng thể từ state\n",
    "    differentiation_strategy = state.get('student_persona', {}).get('differentiation_strategy', {})\n",
    "\n",
    "    prompt = f\"\"\"{SYSTEM_PERSONA_PROMPT}\n",
    "    **VAI TRÒ:** Bạn là một nhà thiết kế hoạt động học tập sáng tạo và chu đáo.\n",
    "    **NHIỆM VỤ:** Tạo ra **MỘT HOẠT ĐỘNG DUY NHẤT**, có tính đến sự đa dạng của học sinh trong lớp.\n",
    "\n",
    "    **BỐI CẢNH BÀI HỌC:**\n",
    "    - **Chủ đề chính:** {state.get('analyzed_objective', {}).get('topic', '')}\n",
    "    - **Chiến lược phân hóa chung của bài:** {json.dumps(differentiation_strategy, ensure_ascii=False)}\n",
    "    \n",
    "    **MÔ TẢ NHIỆM VỤ CẦN THỰC THI:**\n",
    "    - **Tên nhiệm vụ:** \"{task_to_run.get('task_name', '')}\"\n",
    "    - **Mô tả chi tiết:** \"{task_to_run.get('task_description', '')}\"\n",
    "    \n",
    "    {feedback_prompt}\n",
    "    \n",
    "    **QUY TẮC TUYỆT ĐỐI:**\n",
    "    1.  **TẠO NỘI DUNG CỤ THỂ:** Đưa ra câu hỏi, đề bài toán, các bước thực hành rõ ràng.\n",
    "    2.  **MÔ TẢ HÀNH ĐỘNG CỦA GIÁO VIÊN:** Liệt kê các hành động cụ thể.\n",
    "    3.  **SUY NGHĨ VỀ PHÂN HÓA (RẤT QUAN TRỌNG):** Dựa vào \"Chiến lược phân hóa chung\", hãy tạo ra các gợi ý phân hóa (`differentiation`) **cụ thể cho hoạt động này**. Ví dụ: Nếu chiến lược chung là \"cung cấp gợi ý\", thì gợi ý cụ thể ở đây là gì?\n",
    "    4.  **TUÂN THỦ SCHEMA:** Chỉ trả về một đối tượng JSON duy nhất theo đúng cấu trúc.\n",
    "    ```json\n",
    "    {schema_json_of(pydantic_model, indent=2)}\n",
    "    ```\n",
    "    \"\"\"\n",
    "    structured_llm = llm.with_structured_output(pydantic_model, method=\"json_mode\")\n",
    "    try:\n",
    "        result = await structured_llm.ainvoke(prompt)\n",
    "        content_dict = result.dict()\n",
    "        content_dict['duration_minutes'] = task_to_run.get('estimated_duration', 10)\n",
    "        print_result(content_dict, f\"Nội dung do {agent_type} tạo ra (có phân hóa)\")\n",
    "        return {\"current_content_to_validate\": content_dict, \"validation_feedback\": None}\n",
    "    except Exception as e:\n",
    "        print_warning(f\"Lỗi tại {agent_type}: {e}. Trả về nội dung mặc định.\")\n",
    "        return {\"current_content_to_validate\": {\"error\": str(e)}, \"validation_feedback\": None}\n",
    "\n",
    "async def theory_synthesizer_agent(state: \"TeacherStateV5\"): return await specialist_agent_logic(state, \"Theory Synthesizer\", LearningActivity)\n",
    "async def activity_designer_agent(state: \"TeacherStateV5\"): return await specialist_agent_logic(state, \"Activity Designer\", LearningActivity)\n",
    "async def assessment_creator_agent(state: \"TeacherStateV5\"): return await specialist_agent_logic(state, \"Assessment Creator\", AssessmentItem)\n",
    "\n",
    "print(\"✅ Các agent giao việc và chuyên môn (v9.0 - Hỗ trợ Phân hóa) đã sẵn sàng.\")"
   ]
  },
  {
   "cell_type": "code",
   "execution_count": 22,
   "id": "f509f0a6",
   "metadata": {},
   "outputs": [
    {
     "name": "stdout",
     "output_type": "stream",
     "text": [
      "✅ Agent tổng hợp cấu trúc & Node trình bày Markdown (v9.0) đã sẵn sàng.\n"
     ]
    }
   ],
   "source": [
    "# ==============================================================================\n",
    "# CELL 3.6: AGENT TỔNG HỢP CÓ CẤU TRÚC & NODE TRÌNH BÀY (NÂNG CẤP V9.0)\n",
    "# ==============================================================================\n",
    "# Nâng cấp 1: Agent này giờ chỉ tạo đối tượng JSON có cấu trúc\n",
    "async def structured_plan_compiler_agent(state: \"TeacherStateV5\") -> Dict[str, Any]:\n",
    "    print_step(\"`Agent: Structured Plan Compiler` (v9.0) đang tổng hợp giáo án có cấu trúc...\")\n",
    "    outputs = state.get('agent_outputs', {})\n",
    "    objective = state.get('analyzed_objective', {})\n",
    "    \n",
    "    # Kiểm tra điều kiện hợp lệ (giữ nguyên)\n",
    "    activities = outputs.get('activities', [])\n",
    "    assessments = outputs.get('assessments', [])\n",
    "    all_content_items = activities + assessments\n",
    "    total_duration = sum(item.get('duration_minutes', 0) for item in all_content_items)\n",
    "    allowed_duration = objective.get('constraints', {}).get('duration_minutes', 90)\n",
    "    if not all_content_items or not ((allowed_duration * 0.85) <= total_duration <= (allowed_duration + 10)):\n",
    "        reflection = f\"Kế hoạch thất bại. Tổng thời gian ({total_duration} phút) không hợp lệ hoặc số lượng hoạt động quá ít. Lập kế hoạch lại.\"\n",
    "        print_warning(f\"CRITIC: {reflection}\")\n",
    "        return {\"reflection_notes\": reflection}\n",
    "\n",
    "    print_step(\"CRITIC: Kế hoạch hợp lệ! Bắt đầu tổng hợp giáo án dạng JSON...\")\n",
    "    \n",
    "    # Tổ chức dữ liệu từ state\n",
    "    persona = state.get('student_persona', {})\n",
    "    strategy = state.get('pedagogy_strategy', {})\n",
    "    resources = state.get('agent_outputs', {}).get('resources', [{}])[0]\n",
    "\n",
    "    general_info = {\n",
    "        \"chủ đề\": objective.get('topic', 'N/A'),\n",
    "        \"môn học\": state.get('domain', 'N/A'),\n",
    "        \"lớp\": objective.get('grade_level', 'N/A'),\n",
    "        \"thời lượng\": f\"{allowed_duration} phút\",\n",
    "        \"phương pháp chủ đạo\": strategy.get('name', 'Chưa xác định'),\n",
    "        \"đặc điểm lớp học\": persona.get('special_notes', 'Tiêu chuẩn'),\n",
    "    }\n",
    "\n",
    "    learning_objectives = [\n",
    "        f\"Học sinh có thể {objective.get('action_verb', 'vận dụng')} kiến thức về {objective.get('topic', 'N/A')}.\",\n",
    "        \"Rèn luyện kỹ năng tư duy logic và giải quyết vấn đề.\",\n",
    "        \"Phát triển kỹ năng hợp tác và trình bày.\"\n",
    "    ]\n",
    "\n",
    "    preparation = {\n",
    "        \"giáo viên\": [\"Bảng phụ\", \"máy chiếu\", \"phiếu học tập (nếu có trong hoạt động)\"],\n",
    "        \"học sinh\": [\"Sách giáo khoa\", \"vở ghi\", \"dụng cụ học tập\"]\n",
    "    }\n",
    "    \n",
    "    # Sắp xếp các hoạt động\n",
    "    all_content_sorted = sorted(all_content_items, key=lambda x: x.get('task_id', float('inf')))\n",
    "\n",
    "    # Xây dựng đối tượng JSON cuối cùng theo schema FinalStructuredPlan\n",
    "    final_plan_obj: FinalStructuredPlan = {\n",
    "        \"general_info\": general_info,\n",
    "        \"learning_objectives\": learning_objectives,\n",
    "        \"preparation\": preparation,\n",
    "        \"knowledge_summary\": resources.get('summary', 'Chưa có tóm tắt.'),\n",
    "        \"lesson_flow\": all_content_sorted,\n",
    "    }\n",
    "\n",
    "    return {\"final_structured_plan\": final_plan_obj, \"reflection_notes\": None}\n",
    "\n",
    "# Nâng cấp 2: Thêm Node mới chỉ để tạo Markdown từ JSON\n",
    "def markdown_presentation_node(state: \"TeacherStateV5\") -> Dict[str, str]:\n",
    "    print_step(\"`Node: Markdown Presenter` (v9.0) đang tạo bản trình bày Markdown...\")\n",
    "    \n",
    "    plan_json = state.get(\"final_structured_plan\")\n",
    "    if not isinstance(plan_json, dict):\n",
    "        return {\"final_markdown_plan\": \"Lỗi: Không tìm thấy giáo án có cấu trúc để tạo Markdown.\"}\n",
    "\n",
    "    # Dùng Python f-string để \"dịch\" JSON thành Markdown\n",
    "    md_parts = []\n",
    "    \n",
    "    # Phần I: Thông tin chung\n",
    "    info = plan_json['general_info']\n",
    "    md_parts.append(f\"# GIÁO ÁN BÀI DẠY: {info.get('chủ đề').upper()}\")\n",
    "    md_parts.append(\"---\")\n",
    "    md_parts.append(\"## I. THÔNG TIN CHUNG\")\n",
    "    for key, value in info.items():\n",
    "        md_parts.append(f\"- **{key.replace('_', ' ').title()}:** {value}\")\n",
    "    \n",
    "    # Phần II: Mục tiêu\n",
    "    md_parts.append(\"## II. MỤC TIÊU BÀI HỌC\")\n",
    "    for obj in plan_json['learning_objectives']:\n",
    "        md_parts.append(f\"- {obj}\")\n",
    "\n",
    "    # Phần III: Chuẩn bị\n",
    "    md_parts.append(\"## III. CHUẨN BỊ\")\n",
    "    for key, items in plan_json['preparation'].items():\n",
    "        md_parts.append(f\"- **{key.title()}:** {', '.join(items)}\")\n",
    "\n",
    "    # Phần IV: Tiến trình bài dạy\n",
    "    md_parts.append(\"## IV. TIẾN TRÌNH BÀI DẠY\")\n",
    "    for i, activity in enumerate(plan_json['lesson_flow']):\n",
    "        md_parts.append(f\"### Hoạt động {i+1}: {activity.get('activity_name')} ({activity.get('duration_minutes')} phút)\")\n",
    "        if activity.get('question'):\n",
    "             md_parts.append(f\"**Nhiệm vụ (Đề bài):**\\n{activity.get('question')}\")\n",
    "        else:\n",
    "             md_parts.append(f\"**Nhiệm vụ (Mô tả):**\\n{activity.get('description')}\")\n",
    "        \n",
    "        # Thêm phần phân hóa vào Markdown\n",
    "        if activity.get('differentiation'):\n",
    "            diff = activity['differentiation']\n",
    "            md_parts.append(\"**Gợi ý Phân hóa:**\")\n",
    "            md_parts.append(f\"  - *Hỗ trợ (HS yếu):* {diff.get('for_struggling_students', 'Không có')}\")\n",
    "            md_parts.append(f\"  - *Thử thách (HS giỏi):* {diff.get('for_advanced_students', 'Không có')}\")\n",
    "        md_parts.append(\"\\n---\")\n",
    "        \n",
    "    # Phần V: Tóm tắt kiến thức\n",
    "    md_parts.append(\"## V. TÓM TẮT KIẾN THỨC CỐT LÕI\")\n",
    "    md_parts.append(plan_json['knowledge_summary'])\n",
    "\n",
    "    final_md = \"\\n\".join(md_parts)\n",
    "    \n",
    "    return {\"final_markdown_plan\": final_md}\n",
    "\n",
    "print(\"✅ Agent tổng hợp cấu trúc & Node trình bày Markdown (v9.0) đã sẵn sàng.\")\n"
   ]
  },
  {
   "cell_type": "markdown",
   "id": "d9377da3",
   "metadata": {},
   "source": [
    "## PHẦN 4: XÂY DỰNG VÀ BIÊN DỊCH GRAPH"
   ]
  },
  {
   "cell_type": "code",
   "execution_count": 23,
   "id": "3f7820ed",
   "metadata": {},
   "outputs": [
    {
     "name": "stdout",
     "output_type": "stream",
     "text": [
      "✅ Các node tiện ích và điều phối của graph (v8.0) đã sẵn sàng.\n"
     ]
    }
   ],
   "source": [
    "# ==============================================================================\n",
    "# CELL 4.1: CÁC NODE TIỆN ÍCH VÀ ĐIỀU PHỐI CỦA GRAPH (v8.0)\n",
    "# ==============================================================================\n",
    "from typing import Literal, Dict, Any\n",
    "import time\n",
    "\n",
    "# === NÂNG CẤP #0: Thêm node delay để chống Rate Limit ===\n",
    "def delay_node(state: \"TeacherStateV5\") -> \"TeacherStateV5\":\n",
    "    \"\"\"Node này chỉ đơn giản là dừng lại một chút để tránh vượt giới hạn API.\"\"\"\n",
    "    delay_seconds = 2\n",
    "    print_step(f\"...Đang nghỉ {delay_seconds} giây để tránh vượt rate limit...\")\n",
    "    time.sleep(delay_seconds)\n",
    "    return state\n",
    "\n",
    "def mark_task_complete(state: \"TeacherStateV5\") -> Dict[str, Any]:\n",
    "    task_list = state.get(\"task_list\", [])\n",
    "    current_task_id = state.get(\"current_task_id\")\n",
    "    if not task_list or current_task_id is None: return {}\n",
    "    new_task_list = [t.copy() for t in task_list]\n",
    "    for task in new_task_list:\n",
    "        if task.get(\"task_id\") == current_task_id:\n",
    "            task[\"status\"] = \"completed\"\n",
    "            break\n",
    "    return {\"task_list\": new_task_list, \"current_task_id\": None}\n",
    "    \n",
    "def task_router_node(state: \"TeacherStateV5\") -> Dict[str, Any]:\n",
    "    print_step(\"`Router`: Đang kiểm tra nhiệm vụ...\")\n",
    "    task_list = state.get(\"task_list\", [])\n",
    "    next_task = next((task for task in task_list if task.get(\"status\") == \"pending\"), None)\n",
    "    if next_task:\n",
    "        print_step(f\"Nhiệm vụ tiếp theo: '{next_task['task_name']}' (ID: {next_task['task_id']})\")\n",
    "        return {\"current_task_id\": next_task['task_id']}\n",
    "    else:\n",
    "        print_step(\"Hết nhiệm vụ, chuyển sang node Compiler & Critic.\")\n",
    "        return {\"current_task_id\": None}\n",
    "\n",
    "async def task_dispatcher_agent(state: \"TeacherStateV5\") -> Dict[str, Any]:\n",
    "    print_step(\"`Agent: Task Dispatcher` (v7.1) Bắt đầu...\")\n",
    "    task_to_run = next((t for t in state['task_list'] if t['task_id'] == state['current_task_id']), None)\n",
    "    if not task_to_run:\n",
    "        print_warning(\"Dispatcher không tìm thấy task, sẽ bỏ qua bước này.\")\n",
    "        return {\"next_agent\": \"mark_task_complete\"}\n",
    "\n",
    "    task_description = task_to_run['task_description']\n",
    "    prompt = f\"{SYSTEM_PERSONA_PROMPT}\\n**Nhiệm vụ:** Phân loại nhiệm vụ sau vào MỘT trong ba agent sau: 'activity_designer', 'theory_synthesizer', 'assessment_creator'.\\n\\n**QUY TẮC PHÂN LOẠI:**\\n- Giảng giải, giới thiệu, ôn tập, tổng kết -> 'theory_synthesizer'.\\n- Luyện tập, thực hành, thảo luận, làm việc nhóm -> 'activity_designer'.\\n- Kiểm tra, đánh giá, bài toán khó, vận dụng cao -> 'assessment_creator'.\\n\\n**NHIỆM VỤ CẦN PHÂN LOẠI:** \\\"{task_description}\\\"\\n\\n**YÊU CẦU JSON:** Trả về JSON với key duy nhất là `agent_category`.\"\n",
    "    structured_llm = llm.with_structured_output(TaskClassification)\n",
    "    try:\n",
    "        classification_result = await structured_llm.ainvoke(prompt)\n",
    "        next_agent = classification_result.agent_category\n",
    "    except Exception as e:\n",
    "        print_warning(f\"Lỗi tại Dispatcher: {e}. Giao nhiệm vụ cho 'activity_designer'.\")\n",
    "        next_agent = \"activity_designer\"\n",
    "    print_step(f\"--- 🚚 `Dispatcher`: Giao nhiệm vụ cho `{next_agent}`.\")\n",
    "    return {\"next_agent\": next_agent}\n",
    "\n",
    "def commit_validated_content_node(state: \"TeacherStateV5\") -> Dict[str, Any]:\n",
    "    print_step(\"`Commiter`: Đang ghi nhận nội dung đã được xác thực...\")\n",
    "    agent_ran = state[\"next_agent\"]\n",
    "    content = state[\"current_content_to_validate\"]\n",
    "    \n",
    "    content['task_id'] = state['current_task_id']\n",
    "    \n",
    "    key_to_update = \"assessments\" if agent_ran == \"assessment_creator\" else \"activities\"\n",
    "    updated_outputs = update_agent_outputs(state, key_to_update, content)\n",
    "    updated_outputs[\"current_content_to_validate\"] = None\n",
    "    return updated_outputs\n",
    "\n",
    "print(\"✅ Các node tiện ích và điều phối của graph (v8.0) đã sẵn sàng.\")"
   ]
  },
  {
   "cell_type": "code",
   "execution_count": 24,
   "id": "6b7306e7",
   "metadata": {},
   "outputs": [
    {
     "name": "stdout",
     "output_type": "stream",
     "text": [
      "✅ Các hàm logic điều hướng đã được định nghĩa.\n"
     ]
    }
   ],
   "source": [
    "# ==============================================================================\n",
    "# CELL 4.2: LOGIC ĐIỀU HƯỚNG CÓ ĐIỀU KIỆN\n",
    "# ==============================================================================\n",
    "def route_after_validation(state: \"TeacherStateV5\") -> Literal[\"commit\", \"retry\"]:\n",
    "    if state.get(\"validation_feedback\") is None:\n",
    "        print_step(\"ROUTER (Validation): Nội dung được chấp thuận. Chuyển sang bước ghi nhận.\")\n",
    "        return \"commit\"\n",
    "    else:\n",
    "        print_step(\"ROUTER (Validation): Nội dung bị từ chối. Quay lại để thử lại.\")\n",
    "        return \"retry\"\n",
    "\n",
    "def route_after_router(state: \"TeacherStateV5\") -> Literal[\"continue_executing\", \"compile_and_critique\"]:\n",
    "    if state.get(\"current_task_id\") is None: return \"compile_and_critique\"\n",
    "    else: return \"continue_executing\"\n",
    "\n",
    "def route_after_compilation(state: \"TeacherStateV5\") -> Literal[\"finish\", \"replan\"]:\n",
    "    if state.get(\"reflection_notes\"):\n",
    "        print_step(\"ROUTER (Compilation): Phát hiện phản hồi từ Critic lớn. Yêu cầu hệ thống lập kế hoạch lại.\")\n",
    "        return \"replan\"\n",
    "    else:\n",
    "        print_step(\"ROUTER (Compilation): Critic lớn đã hài lòng. Kết thúc quy trình.\")\n",
    "        return \"finish\"\n",
    "\n",
    "print(\"✅ Các hàm logic điều hướng đã được định nghĩa.\")"
   ]
  },
  {
   "cell_type": "code",
   "execution_count": 25,
   "id": "30df6071",
   "metadata": {},
   "outputs": [
    {
     "ename": "NameError",
     "evalue": "name 'content_validator_agent' is not defined",
     "output_type": "error",
     "traceback": [
      "\u001b[31m---------------------------------------------------------------------------\u001b[39m",
      "\u001b[31mNameError\u001b[39m                                 Traceback (most recent call last)",
      "\u001b[36mCell\u001b[39m\u001b[36m \u001b[39m\u001b[32mIn[25]\u001b[39m\u001b[32m, line 22\u001b[39m\n\u001b[32m     20\u001b[39m workflow.add_node(\u001b[33m\"\u001b[39m\u001b[33mactivity_designer\u001b[39m\u001b[33m\"\u001b[39m, activity_designer_agent)\n\u001b[32m     21\u001b[39m workflow.add_node(\u001b[33m\"\u001b[39m\u001b[33massessment_creator\u001b[39m\u001b[33m\"\u001b[39m, assessment_creator_agent)\n\u001b[32m---> \u001b[39m\u001b[32m22\u001b[39m workflow.add_node(\u001b[33m\"\u001b[39m\u001b[33mcontent_validator\u001b[39m\u001b[33m\"\u001b[39m, \u001b[43mcontent_validator_agent\u001b[49m)\n\u001b[32m     23\u001b[39m workflow.add_node(\u001b[33m\"\u001b[39m\u001b[33mcommit_validated_content\u001b[39m\u001b[33m\"\u001b[39m, commit_validated_content_node)\n\u001b[32m     24\u001b[39m workflow.add_node(\u001b[33m\"\u001b[39m\u001b[33mmark_task_complete\u001b[39m\u001b[33m\"\u001b[39m, mark_task_complete)\n",
      "\u001b[31mNameError\u001b[39m: name 'content_validator_agent' is not defined"
     ]
    }
   ],
   "source": [
    "# ==============================================================================\n",
    "# CELL 4.3: LẮP RÁP VÀ BIÊN DỊCH GRAPH (NÂNG CẤP V9.0)\n",
    "# ==============================================================================\n",
    "workflow = StateGraph(TeacherStateV5)\n",
    "\n",
    "# Thêm các node vào graph (bao gồm các node đã nâng cấp và node mới)\n",
    "workflow.add_node(\"initializer\", initialize_state_node)\n",
    "workflow.add_node(\"objective_interpreter\", objective_interpreter_agent)\n",
    "workflow.add_node(\"domain_classifier\", domain_classifier_agent)\n",
    "# Nâng cấp\n",
    "workflow.add_node(\"differentiated_instruction_advisor\", differentiated_instruction_advisor_agent) \n",
    "workflow.add_node(\"pedagogy_strategist\", pedagogy_strategist_agent)\n",
    "workflow.add_node(\"pedagogical_architect\", pedagogical_architect_agent)\n",
    "workflow.add_node(\"query_expansion\", query_expansion_agent)\n",
    "workflow.add_node(\"resource_scout\", resource_scout_agent_v2)\n",
    "workflow.add_node(\"plan_delegator\", plan_delegator_agent)\n",
    "workflow.add_node(\"task_router\", task_router_node)\n",
    "workflow.add_node(\"task_dispatcher\", task_dispatcher_agent)\n",
    "workflow.add_node(\"theory_synthesizer\", theory_synthesizer_agent)\n",
    "workflow.add_node(\"activity_designer\", activity_designer_agent)\n",
    "workflow.add_node(\"assessment_creator\", assessment_creator_agent)\n",
    "workflow.add_node(\"content_validator\", content_validator_agent)\n",
    "workflow.add_node(\"commit_validated_content\", commit_validated_content_node)\n",
    "workflow.add_node(\"mark_task_complete\", mark_task_complete)\n",
    "# Nâng cấp\n",
    "workflow.add_node(\"structured_plan_compiler\", structured_plan_compiler_agent) \n",
    "# Mới\n",
    "workflow.add_node(\"markdown_presenter\", markdown_presentation_node)\n",
    "workflow.add_node(\"delay_node\", delay_node)\n",
    "\n",
    "\n",
    "# Thiết lập các kết nối (edges)\n",
    "workflow.set_entry_point(\"initializer\")\n",
    "workflow.add_edge(\"initializer\", \"objective_interpreter\")\n",
    "workflow.add_edge(\"objective_interpreter\", \"domain_classifier\")\n",
    "# Sửa kết nối để đi qua agent phân hóa mới\n",
    "workflow.add_edge(\"domain_classifier\", \"differentiated_instruction_advisor\")\n",
    "workflow.add_edge(\"differentiated_instruction_advisor\", \"pedagogy_strategist\")\n",
    "workflow.add_edge(\"pedagogy_strategist\", \"pedagogical_architect\")\n",
    "workflow.add_edge(\"pedagogical_architect\", \"query_expansion\")\n",
    "workflow.add_edge(\"query_expansion\", \"resource_scout\")\n",
    "workflow.add_edge(\"resource_scout\", \"plan_delegator\")\n",
    "workflow.add_edge(\"plan_delegator\", \"task_router\")\n",
    "\n",
    "# Các kết nối có điều kiện\n",
    "workflow.add_conditional_edges(\n",
    "    \"task_router\", \n",
    "    route_after_router, \n",
    "    {\n",
    "        \"continue_executing\": \"task_dispatcher\", \n",
    "        \"compile_and_critique\": \"structured_plan_compiler\" # Sửa đích đến\n",
    "    }\n",
    ")\n",
    "workflow.add_conditional_edges(\"task_dispatcher\", lambda state: state[\"next_agent\"], {\n",
    "    \"activity_designer\": \"activity_designer\", \n",
    "    \"assessment_creator\": \"assessment_creator\", \n",
    "    \"theory_synthesizer\": \"theory_synthesizer\"\n",
    "})\n",
    "workflow.add_edge(\"theory_synthesizer\", \"content_validator\")\n",
    "workflow.add_edge(\"activity_designer\", \"content_validator\")\n",
    "workflow.add_edge(\"assessment_creator\", \"content_validator\")\n",
    "workflow.add_conditional_edges(\"content_validator\", route_after_validation, {\"commit\": \"commit_validated_content\", \"retry\": \"task_dispatcher\"})\n",
    "workflow.add_edge(\"commit_validated_content\", \"mark_task_complete\")\n",
    "workflow.add_edge(\"mark_task_complete\", \"delay_node\")\n",
    "workflow.add_edge(\"delay_node\", \"task_router\")\n",
    "\n",
    "# Luồng mới ở cuối: Compiler (JSON) -> Presenter (Markdown) -> End\n",
    "workflow.add_edge(\"structured_plan_compiler\", \"markdown_presenter\")\n",
    "workflow.add_conditional_edges(\n",
    "    \"structured_plan_compiler\", \n",
    "    route_after_compilation, \n",
    "    {\n",
    "        \"replan\": \"plan_delegator\", \n",
    "        \"finish\": \"markdown_presenter\" # Nếu hợp lệ, đi tiếp để tạo markdown\n",
    "    }\n",
    ")\n",
    "workflow.add_edge(\"markdown_presenter\", END)\n",
    "\n",
    "# Biên dịch graph\n",
    "app = workflow.compile()\n",
    "print(\"✅ Graph 9.0 (The Differentiated Co-Pilot) đã được biên dịch thành công.\")"
   ]
  },
  {
   "cell_type": "code",
   "execution_count": null,
   "id": "ac549fea",
   "metadata": {},
   "outputs": [
    {
     "data": {
      "image/png": "[encoded data removed]",
      "text/plain": [
       "<IPython.core.display.Image object>"
      ]
     },
     "metadata": {},
     "output_type": "display_data"
    }
   ],
   "source": [
    "# ==============================================================================\n",
    "# CELL 4.4: HIỂN THỊ SƠ ĐỒ GRAPH (TÙY CHỌN)\n",
    "# ==============================================================================\n",
    "try:\n",
    "    # Lệnh này sẽ vẽ một sơ đồ của workflow, rất hữu ích để gỡ lỗi\n",
    "    display(Image(app.get_graph().draw_mermaid_png()))\n",
    "except Exception as e:\n",
    "    print(f\"Lỗi vẽ biểu đồ: {e}. Đây là lỗi không nghiêm trọng, bạn vẫn có thể chạy quy trình.\")"
   ]
  },
  {
   "cell_type": "markdown",
   "id": "a5e56adc",
   "metadata": {},
   "source": [
    "## PHẦN 5"
   ]
  },
  {
   "cell_type": "code",
   "execution_count": null,
   "id": "f27d8fdf",
   "metadata": {},
   "outputs": [
    {
     "name": "stdout",
     "output_type": "stream",
     "text": [
      "✅ Hàm `run_architect` đã sẵn sàng để sử dụng.\n"
     ]
    }
   ],
   "source": [
    "# ==============================================================================\n",
    "# CELL 5.1: ĐỊNH NGHĨA HÀM CHẠY QUY TRÌNH\n",
    "# ==============================================================================\n",
    "async def run_architect(user_request: str):\n",
    "    if 'llm' not in globals() or llm is None:\n",
    "        print_warning(\"LLM chưa được khởi tạo. Vui lòng chạy lại Cell 1.3.\")\n",
    "        return\n",
    "    if 'vector_store' not in globals() or vector_store is None:\n",
    "        print_warning(\"Kho tri thức chưa được tải. Vui lòng chạy lại Cell 1.4.\")\n",
    "        return\n",
    "    if 'app' not in globals():\n",
    "        print_warning(\"Graph 'app' chưa được biên dịch. Vui lòng chạy lại Cell 4.3.\")\n",
    "        return\n",
    "\n",
    "    initial_state = {\"messages\": [HumanMessage(content=user_request)]}\n",
    "    console.print(f\"\\n[bold magenta]🚀 BẮT ĐẦU QUY TRÌNH V7.1 (THE ARCHITECT) VỚI YÊU CẦU:[/bold magenta]\\n> {user_request}\")\n",
    "    config = {\"recursion_limit\": 150} \n",
    "    \n",
    "    final_state_result = None\n",
    "    try:\n",
    "        async for event in app.astream(initial_state, config=config):\n",
    "            for node_name, node_output in event.items():\n",
    "                console.print(f\"\\n[bold yellow]------- Hoàn thành bước: {node_name} -------[/bold yellow]\")\n",
    "                final_state_result = node_output\n",
    "\n",
    "        console.print(\"\\n[bold magenta]🏁 KẾT THÚC QUY TRÌNH V7.1.[/bold magenta]\")\n",
    "        \n",
    "        if final_state_result and final_state_result.get(\"final_markdown_plan\"):\n",
    "            console.print(\"\\n[bold green]📝 GIÁO ÁN HOÀN CHỈNH (v9.0)[/bold green]\")\n",
    "            console.print(Markdown(final_state_result[\"final_markdown_plan\"]))\n",
    "            \n",
    "            # (Tùy chọn) In ra cả JSON để kiểm tra\n",
    "            if VERBOSE_MODE:\n",
    "                print_result(final_state_result.get(\"final_structured_plan\"), \"Output JSON có cấu trúc\")\n",
    "\n",
    "        else:\n",
    "            print_warning(\"Không tạo được giáo án cuối cùng. Có thể Critic đã yêu cầu làm lại nhưng hết giới hạn đệ quy.\")\n",
    "            print(\"\\nTrạng thái cuối cùng để gỡ lỗi:\")\n",
    "            pprint(final_state_result)\n",
    "            \n",
    "    except Exception as e:\n",
    "        print_warning(f\"Đã xảy ra lỗi nghiêm trọng trong quá trình chạy graph: {e}\")\n",
    "        import traceback\n",
    "        traceback.print_exc()\n",
    "\n",
    "print(\"✅ Hàm `run_architect` đã sẵn sàng để sử dụng.\")"
   ]
  },
  {
   "cell_type": "code",
   "execution_count": null,
   "id": "43c8121e",
   "metadata": {},
   "outputs": [
    {
     "data": {
      "text/html": [
       "<pre style=\"white-space:pre;overflow-x:auto;line-height:normal;font-family:Menlo,'DejaVu Sans Mono',consolas,'Courier New',monospace\">\n",
       "<span style=\"color: #800080; text-decoration-color: #800080; font-weight: bold\">🚀 BẮT ĐẦU QUY TRÌNH V7.</span><span style=\"color: #800080; text-decoration-color: #800080; font-weight: bold\">1</span><span style=\"color: #800080; text-decoration-color: #800080; font-weight: bold\"> (THE ARCHITECT) VỚI YÊU CẦU:</span>\n",
       "&gt; Soạn giúp tôi giáo án bài <span style=\"color: #008000; text-decoration-color: #008000\">'Đường tròn ngoại tiếp và đường tròn nội tiếp'</span> cho học sinh lớp <span style=\"color: #008080; text-decoration-color: #008080; font-weight: bold\">9</span> trong <span style=\"color: #008080; text-decoration-color: #008080; font-weight: bold\">90</span> phút. Đây là\n",
       "một lớp học khá yếu, các em thường mất tập trung và cần các hoạt động có tính tương tác cao.\n",
       "</pre>\n"
      ],
      "text/plain": [
       "\n",
       "\u001b[1;35m🚀 BẮT ĐẦU QUY TRÌNH V7.\u001b[0m\u001b[1;35m1\u001b[0m\u001b[1;35m \u001b[0m\u001b[1;35m(\u001b[0m\u001b[1;35mTHE ARCHITECT\u001b[0m\u001b[1;35m)\u001b[0m\u001b[1;35m VỚI YÊU CẦU:\u001b[0m\n",
       "> Soạn giúp tôi giáo án bài \u001b[32m'Đường tròn ngoại tiếp và đường tròn nội tiếp'\u001b[0m cho học sinh lớp \u001b[1;36m9\u001b[0m trong \u001b[1;36m90\u001b[0m phút. Đây là\n",
       "một lớp học khá yếu, các em thường mất tập trung và cần các hoạt động có tính tương tác cao.\n"
      ]
     },
     "metadata": {},
     "output_type": "display_data"
    },
    {
     "data": {
      "text/html": [
       "<pre style=\"white-space:pre;overflow-x:auto;line-height:normal;font-family:Menlo,'DejaVu Sans Mono',consolas,'Courier New',monospace\">\n",
       "<span style=\"color: #008080; text-decoration-color: #008080; font-weight: bold\">&gt;</span> `Initializer`: Đang khởi tạo trạng thái và lấy yêu cầu gốc<span style=\"color: #808000; text-decoration-color: #808000\">...</span>\n",
       "</pre>\n"
      ],
      "text/plain": [
       "\n",
       "\u001b[1;36m>\u001b[0m `Initializer`: Đang khởi tạo trạng thái và lấy yêu cầu gốc\u001b[33m...\u001b[0m\n"
      ]
     },
     "metadata": {},
     "output_type": "display_data"
    },
    {
     "data": {
      "text/html": [
       "<pre style=\"white-space:pre;overflow-x:auto;line-height:normal;font-family:Menlo,'DejaVu Sans Mono',consolas,'Courier New',monospace\">\n",
       "<span style=\"color: #808000; text-decoration-color: #808000; font-weight: bold\">------- Hoàn thành bước: initializer -------</span>\n",
       "</pre>\n"
      ],
      "text/plain": [
       "\n",
       "\u001b[1;33m------- Hoàn thành bước: initializer -------\u001b[0m\n"
      ]
     },
     "metadata": {},
     "output_type": "display_data"
    },
    {
     "data": {
      "text/html": [
       "<pre style=\"white-space:pre;overflow-x:auto;line-height:normal;font-family:Menlo,'DejaVu Sans Mono',consolas,'Courier New',monospace\">\n",
       "<span style=\"color: #008080; text-decoration-color: #008080; font-weight: bold\">&gt;</span> `Agent: Objective Interpreter` <span style=\"font-weight: bold\">(</span>v7.<span style=\"color: #008080; text-decoration-color: #008080; font-weight: bold\">5</span><span style=\"font-weight: bold\">)</span> đang phân tích mục tiêu<span style=\"color: #808000; text-decoration-color: #808000\">...</span>\n",
       "</pre>\n"
      ],
      "text/plain": [
       "\n",
       "\u001b[1;36m>\u001b[0m `Agent: Objective Interpreter` \u001b[1m(\u001b[0mv7.\u001b[1;36m5\u001b[0m\u001b[1m)\u001b[0m đang phân tích mục tiêu\u001b[33m...\u001b[0m\n"
      ]
     },
     "metadata": {},
     "output_type": "display_data"
    },
    {
     "data": {
      "text/html": [
       "<pre style=\"white-space:pre;overflow-x:auto;line-height:normal;font-family:Menlo,'DejaVu Sans Mono',consolas,'Courier New',monospace\"><span style=\"color: #008000; text-decoration-color: #008000; font-weight: bold\">✔️ Mục tiêu &amp; Ràng buộc đã phân tích:</span>\n",
       "</pre>\n"
      ],
      "text/plain": [
       "\u001b[1;32m✔️ Mục tiêu & Ràng buộc đã phân tích:\u001b[0m\n"
      ]
     },
     "metadata": {},
     "output_type": "display_data"
    },
    {
     "data": {
      "text/html": [
       "<pre style=\"white-space:pre;overflow-x:auto;line-height:normal;font-family:Menlo,'DejaVu Sans Mono',consolas,'Courier New',monospace\"><span style=\"font-weight: bold\">{</span>\n",
       "<span style=\"color: #7fbf7f; text-decoration-color: #7fbf7f\">│   </span><span style=\"color: #008000; text-decoration-color: #008000\">'action_verb'</span>: <span style=\"color: #008000; text-decoration-color: #008000\">'thiết kế'</span>,\n",
       "<span style=\"color: #7fbf7f; text-decoration-color: #7fbf7f\">│   </span><span style=\"color: #008000; text-decoration-color: #008000\">'bloom_level'</span>: <span style=\"color: #008080; text-decoration-color: #008080; font-weight: bold\">2</span>,\n",
       "<span style=\"color: #7fbf7f; text-decoration-color: #7fbf7f\">│   </span><span style=\"color: #008000; text-decoration-color: #008000\">'topic'</span>: <span style=\"color: #008000; text-decoration-color: #008000\">'Đường tròn ngoại tiếp và đường tròn nội tiếp'</span>,\n",
       "<span style=\"color: #7fbf7f; text-decoration-color: #7fbf7f\">│   </span><span style=\"color: #008000; text-decoration-color: #008000\">'grade_level'</span>: <span style=\"color: #008000; text-decoration-color: #008000\">'lớp 9'</span>,\n",
       "<span style=\"color: #7fbf7f; text-decoration-color: #7fbf7f\">│   </span><span style=\"color: #008000; text-decoration-color: #008000\">'constraints'</span>: <span style=\"font-weight: bold\">{</span>\n",
       "<span style=\"color: #7fbf7f; text-decoration-color: #7fbf7f\">│   │   </span><span style=\"color: #008000; text-decoration-color: #008000\">'duration_minutes'</span>: <span style=\"color: #008080; text-decoration-color: #008080; font-weight: bold\">90</span>\n",
       "<span style=\"color: #7fbf7f; text-decoration-color: #7fbf7f\">│   </span><span style=\"font-weight: bold\">}</span>\n",
       "<span style=\"font-weight: bold\">}</span>\n",
       "</pre>\n"
      ],
      "text/plain": [
       "\u001b[1m{\u001b[0m\n",
       "\u001b[2;32m│   \u001b[0m\u001b[32m'action_verb'\u001b[0m: \u001b[32m'thiết kế'\u001b[0m,\n",
       "\u001b[2;32m│   \u001b[0m\u001b[32m'bloom_level'\u001b[0m: \u001b[1;36m2\u001b[0m,\n",
       "\u001b[2;32m│   \u001b[0m\u001b[32m'topic'\u001b[0m: \u001b[32m'Đường tròn ngoại tiếp và đường tròn nội tiếp'\u001b[0m,\n",
       "\u001b[2;32m│   \u001b[0m\u001b[32m'grade_level'\u001b[0m: \u001b[32m'lớp 9'\u001b[0m,\n",
       "\u001b[2;32m│   \u001b[0m\u001b[32m'constraints'\u001b[0m: \u001b[1m{\u001b[0m\n",
       "\u001b[2;32m│   │   \u001b[0m\u001b[32m'duration_minutes'\u001b[0m: \u001b[1;36m90\u001b[0m\n",
       "\u001b[2;32m│   \u001b[0m\u001b[1m}\u001b[0m\n",
       "\u001b[1m}\u001b[0m\n"
      ]
     },
     "metadata": {},
     "output_type": "display_data"
    },
    {
     "data": {
      "text/html": [
       "<pre style=\"white-space:pre;overflow-x:auto;line-height:normal;font-family:Menlo,'DejaVu Sans Mono',consolas,'Courier New',monospace\">\n",
       "<span style=\"color: #808000; text-decoration-color: #808000; font-weight: bold\">------- Hoàn thành bước: objective_interpreter -------</span>\n",
       "</pre>\n"
      ],
      "text/plain": [
       "\n",
       "\u001b[1;33m------- Hoàn thành bước: objective_interpreter -------\u001b[0m\n"
      ]
     },
     "metadata": {},
     "output_type": "display_data"
    },
    {
     "data": {
      "text/html": [
       "<pre style=\"white-space:pre;overflow-x:auto;line-height:normal;font-family:Menlo,'DejaVu Sans Mono',consolas,'Courier New',monospace\">\n",
       "<span style=\"color: #008080; text-decoration-color: #008080; font-weight: bold\">&gt;</span> `Agent: Domain Classifier` <span style=\"font-weight: bold\">(</span>v7.<span style=\"color: #008080; text-decoration-color: #008080; font-weight: bold\">5</span><span style=\"font-weight: bold\">)</span> đang xác định lĩnh vực chuyên môn<span style=\"color: #808000; text-decoration-color: #808000\">...</span>\n",
       "</pre>\n"
      ],
      "text/plain": [
       "\n",
       "\u001b[1;36m>\u001b[0m `Agent: Domain Classifier` \u001b[1m(\u001b[0mv7.\u001b[1;36m5\u001b[0m\u001b[1m)\u001b[0m đang xác định lĩnh vực chuyên môn\u001b[33m...\u001b[0m\n"
      ]
     },
     "metadata": {},
     "output_type": "display_data"
    },
    {
     "data": {
      "text/html": [
       "<pre style=\"white-space:pre;overflow-x:auto;line-height:normal;font-family:Menlo,'DejaVu Sans Mono',consolas,'Courier New',monospace\"><span style=\"color: #008000; text-decoration-color: #008000; font-weight: bold\">✔️ Lĩnh vực chuyên môn được xác định:</span>\n",
       "</pre>\n"
      ],
      "text/plain": [
       "\u001b[1;32m✔️ Lĩnh vực chuyên môn được xác định:\u001b[0m\n"
      ]
     },
     "metadata": {},
     "output_type": "display_data"
    },
    {
     "data": {
      "text/html": [
       "<pre style=\"white-space:pre;overflow-x:auto;line-height:normal;font-family:Menlo,'DejaVu Sans Mono',consolas,'Courier New',monospace\"><span style=\"color: #008000; text-decoration-color: #008000\">'Toán học'</span>\n",
       "</pre>\n"
      ],
      "text/plain": [
       "\u001b[32m'Toán học'\u001b[0m\n"
      ]
     },
     "metadata": {},
     "output_type": "display_data"
    },
    {
     "data": {
      "text/html": [
       "<pre style=\"white-space:pre;overflow-x:auto;line-height:normal;font-family:Menlo,'DejaVu Sans Mono',consolas,'Courier New',monospace\">\n",
       "<span style=\"color: #808000; text-decoration-color: #808000; font-weight: bold\">------- Hoàn thành bước: domain_classifier -------</span>\n",
       "</pre>\n"
      ],
      "text/plain": [
       "\n",
       "\u001b[1;33m------- Hoàn thành bước: domain_classifier -------\u001b[0m\n"
      ]
     },
     "metadata": {},
     "output_type": "display_data"
    },
    {
     "data": {
      "text/html": [
       "<pre style=\"white-space:pre;overflow-x:auto;line-height:normal;font-family:Menlo,'DejaVu Sans Mono',consolas,'Courier New',monospace\">\n",
       "<span style=\"color: #008080; text-decoration-color: #008080; font-weight: bold\">&gt;</span> `Agent: Student Persona Adapter` <span style=\"font-weight: bold\">(</span>v7.<span style=\"color: #008080; text-decoration-color: #008080; font-weight: bold\">5</span><span style=\"font-weight: bold\">)</span> đang phân tích đặc điểm lớp học<span style=\"color: #808000; text-decoration-color: #808000\">...</span>\n",
       "</pre>\n"
      ],
      "text/plain": [
       "\n",
       "\u001b[1;36m>\u001b[0m `Agent: Student Persona Adapter` \u001b[1m(\u001b[0mv7.\u001b[1;36m5\u001b[0m\u001b[1m)\u001b[0m đang phân tích đặc điểm lớp học\u001b[33m...\u001b[0m\n"
      ]
     },
     "metadata": {},
     "output_type": "display_data"
    },
    {
     "data": {
      "text/html": [
       "<pre style=\"white-space:pre;overflow-x:auto;line-height:normal;font-family:Menlo,'DejaVu Sans Mono',consolas,'Courier New',monospace\"><span style=\"color: #008000; text-decoration-color: #008000; font-weight: bold\">✔️ Hồ sơ lớp học đã được phân tích:</span>\n",
       "</pre>\n"
      ],
      "text/plain": [
       "\u001b[1;32m✔️ Hồ sơ lớp học đã được phân tích:\u001b[0m\n"
      ]
     },
     "metadata": {},
     "output_type": "display_data"
    },
    {
     "data": {
      "text/html": [
       "<pre style=\"white-space:pre;overflow-x:auto;line-height:normal;font-family:Menlo,'DejaVu Sans Mono',consolas,'Courier New',monospace\"><span style=\"font-weight: bold\">{</span>\n",
       "<span style=\"color: #7fbf7f; text-decoration-color: #7fbf7f\">│   </span><span style=\"color: #008000; text-decoration-color: #008000\">'learning_pace'</span>: <span style=\"color: #008000; text-decoration-color: #008000\">'chậm'</span>,\n",
       "<span style=\"color: #7fbf7f; text-decoration-color: #7fbf7f\">│   </span><span style=\"color: #008000; text-decoration-color: #008000\">'engagement_style'</span>: <span style=\"color: #008000; text-decoration-color: #008000\">'chủ động'</span>,\n",
       "<span style=\"color: #7fbf7f; text-decoration-color: #7fbf7f\">│   </span><span style=\"color: #008000; text-decoration-color: #008000\">'special_notes'</span>: <span style=\"color: #008000; text-decoration-color: #008000\">'Lớp học khá yếu, học sinh dễ mất tập trung và cần các hoạt động tương tác cao.'</span>\n",
       "<span style=\"font-weight: bold\">}</span>\n",
       "</pre>\n"
      ],
      "text/plain": [
       "\u001b[1m{\u001b[0m\n",
       "\u001b[2;32m│   \u001b[0m\u001b[32m'learning_pace'\u001b[0m: \u001b[32m'chậm'\u001b[0m,\n",
       "\u001b[2;32m│   \u001b[0m\u001b[32m'engagement_style'\u001b[0m: \u001b[32m'chủ động'\u001b[0m,\n",
       "\u001b[2;32m│   \u001b[0m\u001b[32m'special_notes'\u001b[0m: \u001b[32m'Lớp học khá yếu, học sinh dễ mất tập trung và cần các hoạt động tương tác cao.'\u001b[0m\n",
       "\u001b[1m}\u001b[0m\n"
      ]
     },
     "metadata": {},
     "output_type": "display_data"
    },
    {
     "data": {
      "text/html": [
       "<pre style=\"white-space:pre;overflow-x:auto;line-height:normal;font-family:Menlo,'DejaVu Sans Mono',consolas,'Courier New',monospace\">\n",
       "<span style=\"color: #808000; text-decoration-color: #808000; font-weight: bold\">------- Hoàn thành bước: student_persona_adapter -------</span>\n",
       "</pre>\n"
      ],
      "text/plain": [
       "\n",
       "\u001b[1;33m------- Hoàn thành bước: student_persona_adapter -------\u001b[0m\n"
      ]
     },
     "metadata": {},
     "output_type": "display_data"
    },
    {
     "data": {
      "text/html": [
       "<pre style=\"white-space:pre;overflow-x:auto;line-height:normal;font-family:Menlo,'DejaVu Sans Mono',consolas,'Courier New',monospace\">\n",
       "<span style=\"color: #008080; text-decoration-color: #008080; font-weight: bold\">&gt;</span> `Agent: Pedagogy Strategist` <span style=\"font-weight: bold\">(</span>v7.<span style=\"color: #008080; text-decoration-color: #008080; font-weight: bold\">5</span><span style=\"font-weight: bold\">)</span> đang xây dựng chiến lược sư phạm chi tiết<span style=\"color: #808000; text-decoration-color: #808000\">...</span>\n",
       "</pre>\n"
      ],
      "text/plain": [
       "\n",
       "\u001b[1;36m>\u001b[0m `Agent: Pedagogy Strategist` \u001b[1m(\u001b[0mv7.\u001b[1;36m5\u001b[0m\u001b[1m)\u001b[0m đang xây dựng chiến lược sư phạm chi tiết\u001b[33m...\u001b[0m\n"
      ]
     },
     "metadata": {},
     "output_type": "display_data"
    },
    {
     "data": {
      "text/html": [
       "<pre style=\"white-space:pre;overflow-x:auto;line-height:normal;font-family:Menlo,'DejaVu Sans Mono',consolas,'Courier New',monospace\"><span style=\"color: #008000; text-decoration-color: #008000; font-weight: bold\">✔️ Chiến lược sư phạm chi tiết:</span>\n",
       "</pre>\n"
      ],
      "text/plain": [
       "\u001b[1;32m✔️ Chiến lược sư phạm chi tiết:\u001b[0m\n"
      ]
     },
     "metadata": {},
     "output_type": "display_data"
    },
    {
     "data": {
      "text/html": [
       "<pre style=\"white-space:pre;overflow-x:auto;line-height:normal;font-family:Menlo,'DejaVu Sans Mono',consolas,'Courier New',monospace\"><span style=\"font-weight: bold\">{</span>\n",
       "<span style=\"color: #7fbf7f; text-decoration-color: #7fbf7f\">│   </span><span style=\"color: #008000; text-decoration-color: #008000\">'name'</span>: <span style=\"color: #008000; text-decoration-color: #008000\">'Dạy học hợp tác kết hợp thực hành'</span>,\n",
       "<span style=\"color: #7fbf7f; text-decoration-color: #7fbf7f\">│   </span><span style=\"color: #008000; text-decoration-color: #008000\">'rationale'</span>: <span style=\"color: #008000; text-decoration-color: #008000\">\"Phương pháp này rất phù hợp với lớp học có tốc độ học chậm, dễ mất tập trung và cần tương tác cao. Việc chia nhóm và giao nhiệm vụ thực hành cụ thể giúp học sinh chủ động tham gia, hỗ trợ lẫn nhau, duy trì sự tập trung và củng cố kiến thức thông qua việc 'thiết kế' trực tiếp. Hoạt động thực hành cũng giúp biến kiến thức hình học trừu tượng thành trải nghiệm cụ thể, dễ hiểu hơn, đồng thời phát huy tính chủ động và khả năng làm việc nhóm của học sinh.\"</span>,\n",
       "<span style=\"color: #7fbf7f; text-decoration-color: #7fbf7f\">│   </span><span style=\"color: #008000; text-decoration-color: #008000\">'key_actions'</span>: <span style=\"font-weight: bold\">[</span>\n",
       "<span style=\"color: #7fbf7f; text-decoration-color: #7fbf7f\">│   │   </span><span style=\"color: #008000; text-decoration-color: #008000\">'Giới thiệu nhiệm vụ thực hành/vấn đề cụ thể liên quan đến đường tròn ngoại tiếp và nội tiếp (ví dụ: thiết kế vị trí đài phun nước trong sân vườn hình tam giác)'</span>,\n",
       "<span style=\"color: #7fbf7f; text-decoration-color: #7fbf7f\">│   │   </span><span style=\"color: #008000; text-decoration-color: #008000\">'Chia học sinh thành các nhóm nhỏ (3-4 em) và phân công vai trò rõ ràng trong nhóm'</span>,\n",
       "<span style=\"color: #7fbf7f; text-decoration-color: #7fbf7f\">│   │   </span><span style=\"color: #008000; text-decoration-color: #008000\">'Cung cấp vật liệu cần thiết (thước, compa, giấy) và hướng dẫn ban đầu về cách thực hiện nhiệm vụ'</span>,\n",
       "<span style=\"color: #7fbf7f; text-decoration-color: #7fbf7f\">│   │   </span><span style=\"color: #008000; text-decoration-color: #008000\">'Học sinh làm việc nhóm, cùng nhau thực hành vẽ/thiết kế, thảo luận và giải quyết vấn đề'</span>,\n",
       "<span style=\"color: #7fbf7f; text-decoration-color: #7fbf7f\">│   │   </span><span style=\"color: #008000; text-decoration-color: #008000\">'Giáo viên quan sát, hỗ trợ, gợi mở và giải đáp thắc mắc cho từng nhóm'</span>,\n",
       "<span style=\"color: #7fbf7f; text-decoration-color: #7fbf7f\">│   │   </span><span style=\"color: #008000; text-decoration-color: #008000\">'Các nhóm trình bày sản phẩm/kết quả thực hành của mình trước lớp'</span>,\n",
       "<span style=\"color: #7fbf7f; text-decoration-color: #7fbf7f\">│   │   </span><span style=\"color: #008000; text-decoration-color: #008000\">'Cả lớp cùng thảo luận, nhận xét và giáo viên tổng kết, chốt lại kiến thức trọng tâm'</span>\n",
       "<span style=\"color: #7fbf7f; text-decoration-color: #7fbf7f\">│   </span><span style=\"font-weight: bold\">]</span>\n",
       "<span style=\"font-weight: bold\">}</span>\n",
       "</pre>\n"
      ],
      "text/plain": [
       "\u001b[1m{\u001b[0m\n",
       "\u001b[2;32m│   \u001b[0m\u001b[32m'name'\u001b[0m: \u001b[32m'Dạy học hợp tác kết hợp thực hành'\u001b[0m,\n",
       "\u001b[2;32m│   \u001b[0m\u001b[32m'rationale'\u001b[0m: \u001b[32m\"Phương pháp này rất phù hợp với lớp học có tốc độ học chậm, dễ mất tập trung và cần tương tác cao. Việc chia nhóm và giao nhiệm vụ thực hành cụ thể giúp học sinh chủ động tham gia, hỗ trợ lẫn nhau, duy trì sự tập trung và củng cố kiến thức thông qua việc 'thiết kế' trực tiếp. Hoạt động thực hành cũng giúp biến kiến thức hình học trừu tượng thành trải nghiệm cụ thể, dễ hiểu hơn, đồng thời phát huy tính chủ động và khả năng làm việc nhóm của học sinh.\"\u001b[0m,\n",
       "\u001b[2;32m│   \u001b[0m\u001b[32m'key_actions'\u001b[0m: \u001b[1m[\u001b[0m\n",
       "\u001b[2;32m│   │   \u001b[0m\u001b[32m'Giới thiệu nhiệm vụ thực hành/vấn đề cụ thể liên quan đến đường tròn ngoại tiếp và nội tiếp \u001b[0m\u001b[32m(\u001b[0m\u001b[32mví dụ: thiết kế vị trí đài phun nước trong sân vườn hình tam giác\u001b[0m\u001b[32m)\u001b[0m\u001b[32m'\u001b[0m,\n",
       "\u001b[2;32m│   │   \u001b[0m\u001b[32m'Chia học sinh thành các nhóm nhỏ \u001b[0m\u001b[32m(\u001b[0m\u001b[32m3-4 em\u001b[0m\u001b[32m)\u001b[0m\u001b[32m và phân công vai trò rõ ràng trong nhóm'\u001b[0m,\n",
       "\u001b[2;32m│   │   \u001b[0m\u001b[32m'Cung cấp vật liệu cần thiết \u001b[0m\u001b[32m(\u001b[0m\u001b[32mthước, compa, giấy\u001b[0m\u001b[32m)\u001b[0m\u001b[32m và hướng dẫn ban đầu về cách thực hiện nhiệm vụ'\u001b[0m,\n",
       "\u001b[2;32m│   │   \u001b[0m\u001b[32m'Học sinh làm việc nhóm, cùng nhau thực hành vẽ/thiết kế, thảo luận và giải quyết vấn đề'\u001b[0m,\n",
       "\u001b[2;32m│   │   \u001b[0m\u001b[32m'Giáo viên quan sát, hỗ trợ, gợi mở và giải đáp thắc mắc cho từng nhóm'\u001b[0m,\n",
       "\u001b[2;32m│   │   \u001b[0m\u001b[32m'Các nhóm trình bày sản phẩm/kết quả thực hành của mình trước lớp'\u001b[0m,\n",
       "\u001b[2;32m│   │   \u001b[0m\u001b[32m'Cả lớp cùng thảo luận, nhận xét và giáo viên tổng kết, chốt lại kiến thức trọng tâm'\u001b[0m\n",
       "\u001b[2;32m│   \u001b[0m\u001b[1m]\u001b[0m\n",
       "\u001b[1m}\u001b[0m\n"
      ]
     },
     "metadata": {},
     "output_type": "display_data"
    },
    {
     "data": {
      "text/html": [
       "<pre style=\"white-space:pre;overflow-x:auto;line-height:normal;font-family:Menlo,'DejaVu Sans Mono',consolas,'Courier New',monospace\">\n",
       "<span style=\"color: #808000; text-decoration-color: #808000; font-weight: bold\">------- Hoàn thành bước: pedagogy_strategist -------</span>\n",
       "</pre>\n"
      ],
      "text/plain": [
       "\n",
       "\u001b[1;33m------- Hoàn thành bước: pedagogy_strategist -------\u001b[0m\n"
      ]
     },
     "metadata": {},
     "output_type": "display_data"
    },
    {
     "data": {
      "text/html": [
       "<pre style=\"white-space:pre;overflow-x:auto;line-height:normal;font-family:Menlo,'DejaVu Sans Mono',consolas,'Courier New',monospace\">\n",
       "<span style=\"color: #008080; text-decoration-color: #008080; font-weight: bold\">&gt;</span> `Agent: Pedagogical Architect` <span style=\"font-weight: bold\">(</span>v7.<span style=\"color: #008080; text-decoration-color: #008080; font-weight: bold\">5</span><span style=\"font-weight: bold\">)</span> đang thiết kế kịch bản buổi học<span style=\"color: #808000; text-decoration-color: #808000\">...</span>\n",
       "</pre>\n"
      ],
      "text/plain": [
       "\n",
       "\u001b[1;36m>\u001b[0m `Agent: Pedagogical Architect` \u001b[1m(\u001b[0mv7.\u001b[1;36m5\u001b[0m\u001b[1m)\u001b[0m đang thiết kế kịch bản buổi học\u001b[33m...\u001b[0m\n"
      ]
     },
     "metadata": {},
     "output_type": "display_data"
    },
    {
     "data": {
      "text/html": [
       "<pre style=\"white-space:pre;overflow-x:auto;line-height:normal;font-family:Menlo,'DejaVu Sans Mono',consolas,'Courier New',monospace\"><span style=\"color: #008000; text-decoration-color: #008000; font-weight: bold\">✔️ Bản thiết kế Sư phạm đã được tạo:</span>\n",
       "</pre>\n"
      ],
      "text/plain": [
       "\u001b[1;32m✔️ Bản thiết kế Sư phạm đã được tạo:\u001b[0m\n"
      ]
     },
     "metadata": {},
     "output_type": "display_data"
    },
    {
     "data": {
      "text/html": [
       "<pre style=\"white-space:pre;overflow-x:auto;line-height:normal;font-family:Menlo,'DejaVu Sans Mono',consolas,'Courier New',monospace\"><span style=\"font-weight: bold\">[</span>\n",
       "<span style=\"color: #7fbf7f; text-decoration-color: #7fbf7f\">│   </span><span style=\"color: #008000; text-decoration-color: #008000\">'Giai đoạn 1: Khơi gợi và Đặt vấn đề: Giáo viên giới thiệu một tình huống thực tế gần gũi (ví dụ: thiết kế vị trí đài phun nước trong sân vườn hình tam giác, hoặc đặt cột cờ ở trung tâm sân trường hình tam giác) để khơi gợi vấn đề, tạo sự tò mò và kết nối kiến thức cũ (tâm đường tròn) với kiến thức mới. Khuyến khích học sinh đặt câu hỏi và chia sẻ ý tưởng ban đầu.'</span>,\n",
       "<span style=\"color: #7fbf7f; text-decoration-color: #7fbf7f\">│   </span><span style=\"color: #008000; text-decoration-color: #008000\">\"Giai đoạn 2: Khám phá và Xây dựng kiến thức: Giáo viên chia học sinh thành các nhóm nhỏ (3-4 em), phát vật liệu cần thiết (giấy, thước, compa, kéo) và giao nhiệm vụ thực hành cụ thể. Ví dụ: 'Hãy vẽ một tam giác bất kỳ, sau đó tìm cách vẽ một đường tròn đi qua ba đỉnh của tam giác đó' và 'Hãy vẽ một tam giác khác, sau đó tìm cách vẽ một đường tròn tiếp xúc với cả ba cạnh của tam giác đó'. Giáo viên quan sát, gợi mở, hỗ trợ các nhóm trong quá trình thực hành, thảo luận và ghi nhận các phát hiện ban đầu của học sinh.\"</span>,\n",
       "<span style=\"color: #7fbf7f; text-decoration-color: #7fbf7f\">│   </span><span style=\"color: #008000; text-decoration-color: #008000\">'Giai đoạn 3: Vận dụng và Củng cố: Các nhóm trình bày sản phẩm/kết quả thực hành của mình trước lớp, giải thích cách làm và những phát hiện của nhóm. Giáo viên đặt câu hỏi gợi mở để các nhóm và cả lớp cùng thảo luận, nhận xét, so sánh các cách làm. Giáo viên chốt lại kiến thức trọng tâm về định nghĩa, tính chất của tâm và bán kính đường tròn ngoại tiếp/nội tiếp, đồng thời đưa ra một số bài tập vận dụng nhỏ để học sinh thực hành cá nhân hoặc theo cặp.'</span>,\n",
       "<span style=\"color: #7fbf7f; text-decoration-color: #7fbf7f\">│   </span><span style=\"color: #008000; text-decoration-color: #008000\">'Giai đoạn 4: Tổng kết và Mở rộng: Giáo viên tổng kết lại toàn bộ kiến thức trọng tâm của buổi học, nhấn mạnh các điểm cần lưu ý, các lỗi thường gặp và mối liên hệ giữa đường tròn ngoại tiếp/nội tiếp với các dạng tam giác đặc biệt. Giải đáp các thắc mắc cuối cùng của học sinh. Giao bài tập về nhà để học sinh tự luyện tập và mở rộng kiến thức, khuyến khích các em tìm thêm các ứng dụng thực tế khác của đường tròn ngoại tiếp và nội tiếp.'</span>\n",
       "<span style=\"font-weight: bold\">]</span>\n",
       "</pre>\n"
      ],
      "text/plain": [
       "\u001b[1m[\u001b[0m\n",
       "\u001b[2;32m│   \u001b[0m\u001b[32m'Giai đoạn 1: Khơi gợi và Đặt vấn đề: Giáo viên giới thiệu một tình huống thực tế gần gũi \u001b[0m\u001b[32m(\u001b[0m\u001b[32mví dụ: thiết kế vị trí đài phun nước trong sân vườn hình tam giác, hoặc đặt cột cờ ở trung tâm sân trường hình tam giác\u001b[0m\u001b[32m)\u001b[0m\u001b[32m để khơi gợi vấn đề, tạo sự tò mò và kết nối kiến thức cũ \u001b[0m\u001b[32m(\u001b[0m\u001b[32mtâm đường tròn\u001b[0m\u001b[32m)\u001b[0m\u001b[32m với kiến thức mới. Khuyến khích học sinh đặt câu hỏi và chia sẻ ý tưởng ban đầu.'\u001b[0m,\n",
       "\u001b[2;32m│   \u001b[0m\u001b[32m\"Giai đoạn 2: Khám phá và Xây dựng kiến thức: Giáo viên chia học sinh thành các nhóm nhỏ \u001b[0m\u001b[32m(\u001b[0m\u001b[32m3-4 em\u001b[0m\u001b[32m)\u001b[0m\u001b[32m, phát vật liệu cần thiết \u001b[0m\u001b[32m(\u001b[0m\u001b[32mgiấy, thước, compa, kéo\u001b[0m\u001b[32m)\u001b[0m\u001b[32m và giao nhiệm vụ thực hành cụ thể. Ví dụ: 'Hãy vẽ một tam giác bất kỳ, sau đó tìm cách vẽ một đường tròn đi qua ba đỉnh của tam giác đó' và 'Hãy vẽ một tam giác khác, sau đó tìm cách vẽ một đường tròn tiếp xúc với cả ba cạnh của tam giác đó'. Giáo viên quan sát, gợi mở, hỗ trợ các nhóm trong quá trình thực hành, thảo luận và ghi nhận các phát hiện ban đầu của học sinh.\"\u001b[0m,\n",
       "\u001b[2;32m│   \u001b[0m\u001b[32m'Giai đoạn 3: Vận dụng và Củng cố: Các nhóm trình bày sản phẩm/kết quả thực hành của mình trước lớp, giải thích cách làm và những phát hiện của nhóm. Giáo viên đặt câu hỏi gợi mở để các nhóm và cả lớp cùng thảo luận, nhận xét, so sánh các cách làm. Giáo viên chốt lại kiến thức trọng tâm về định nghĩa, tính chất của tâm và bán kính đường tròn ngoại tiếp/nội tiếp, đồng thời đưa ra một số bài tập vận dụng nhỏ để học sinh thực hành cá nhân hoặc theo cặp.'\u001b[0m,\n",
       "\u001b[2;32m│   \u001b[0m\u001b[32m'Giai đoạn 4: Tổng kết và Mở rộng: Giáo viên tổng kết lại toàn bộ kiến thức trọng tâm của buổi học, nhấn mạnh các điểm cần lưu ý, các lỗi thường gặp và mối liên hệ giữa đường tròn ngoại tiếp/nội tiếp với các dạng tam giác đặc biệt. Giải đáp các thắc mắc cuối cùng của học sinh. Giao bài tập về nhà để học sinh tự luyện tập và mở rộng kiến thức, khuyến khích các em tìm thêm các ứng dụng thực tế khác của đường tròn ngoại tiếp và nội tiếp.'\u001b[0m\n",
       "\u001b[1m]\u001b[0m\n"
      ]
     },
     "metadata": {},
     "output_type": "display_data"
    },
    {
     "data": {
      "text/html": [
       "<pre style=\"white-space:pre;overflow-x:auto;line-height:normal;font-family:Menlo,'DejaVu Sans Mono',consolas,'Courier New',monospace\">\n",
       "<span style=\"color: #808000; text-decoration-color: #808000; font-weight: bold\">------- Hoàn thành bước: pedagogical_architect -------</span>\n",
       "</pre>\n"
      ],
      "text/plain": [
       "\n",
       "\u001b[1;33m------- Hoàn thành bước: pedagogical_architect -------\u001b[0m\n"
      ]
     },
     "metadata": {},
     "output_type": "display_data"
    },
    {
     "data": {
      "text/html": [
       "<pre style=\"white-space:pre;overflow-x:auto;line-height:normal;font-family:Menlo,'DejaVu Sans Mono',consolas,'Courier New',monospace\">\n",
       "<span style=\"color: #008080; text-decoration-color: #008080; font-weight: bold\">&gt;</span> `Agent: Query Expansion` <span style=\"font-weight: bold\">(</span>v7.<span style=\"color: #008080; text-decoration-color: #008080; font-weight: bold\">5</span><span style=\"font-weight: bold\">)</span> đang phân tích yêu cầu<span style=\"color: #808000; text-decoration-color: #808000\">...</span>\n",
       "</pre>\n"
      ],
      "text/plain": [
       "\n",
       "\u001b[1;36m>\u001b[0m `Agent: Query Expansion` \u001b[1m(\u001b[0mv7.\u001b[1;36m5\u001b[0m\u001b[1m)\u001b[0m đang phân tích yêu cầu\u001b[33m...\u001b[0m\n"
      ]
     },
     "metadata": {},
     "output_type": "display_data"
    },
    {
     "data": {
      "text/html": [
       "<pre style=\"white-space:pre;overflow-x:auto;line-height:normal;font-family:Menlo,'DejaVu Sans Mono',consolas,'Courier New',monospace\"><span style=\"color: #008000; text-decoration-color: #008000; font-weight: bold\">✔️ Các truy vấn tìm kiếm đã được mở rộng:</span>\n",
       "</pre>\n"
      ],
      "text/plain": [
       "\u001b[1;32m✔️ Các truy vấn tìm kiếm đã được mở rộng:\u001b[0m\n"
      ]
     },
     "metadata": {},
     "output_type": "display_data"
    },
    {
     "data": {
      "text/html": [
       "<pre style=\"white-space:pre;overflow-x:auto;line-height:normal;font-family:Menlo,'DejaVu Sans Mono',consolas,'Courier New',monospace\"><span style=\"font-weight: bold\">[</span>\n",
       "<span style=\"color: #7fbf7f; text-decoration-color: #7fbf7f\">│   </span><span style=\"color: #008000; text-decoration-color: #008000\">'đường tròn ngoại tiếp và đường tròn nội tiếp'</span>,\n",
       "<span style=\"color: #7fbf7f; text-decoration-color: #7fbf7f\">│   </span><span style=\"color: #008000; text-decoration-color: #008000\">'công thức đường tròn ngoại tiếp tam giác'</span>,\n",
       "<span style=\"color: #7fbf7f; text-decoration-color: #7fbf7f\">│   </span><span style=\"color: #008000; text-decoration-color: #008000\">'tính chất đường tròn nội tiếp tứ giác'</span>,\n",
       "<span style=\"color: #7fbf7f; text-decoration-color: #7fbf7f\">│   </span><span style=\"color: #008000; text-decoration-color: #008000\">'bài tập đường tròn ngoại tiếp lớp 9'</span>,\n",
       "<span style=\"color: #7fbf7f; text-decoration-color: #7fbf7f\">│   </span><span style=\"color: #008000; text-decoration-color: #008000\">'lý thuyết đường tròn nội tiếp và ngoại tiếp'</span>,\n",
       "<span style=\"color: #7fbf7f; text-decoration-color: #7fbf7f\">│   </span><span style=\"color: #008000; text-decoration-color: #008000\">'cách xác định tâm đường tròn ngoại tiếp'</span>,\n",
       "<span style=\"color: #7fbf7f; text-decoration-color: #7fbf7f\">│   </span><span style=\"color: #008000; text-decoration-color: #008000\">'bán kính đường tròn nội tiếp tam giác vuông'</span>,\n",
       "<span style=\"color: #7fbf7f; text-decoration-color: #7fbf7f\">│   </span><span style=\"color: #008000; text-decoration-color: #008000\">'chuyên đề đường tròn ngoại tiếp nội tiếp ôn thi'</span>,\n",
       "<span style=\"color: #7fbf7f; text-decoration-color: #7fbf7f\">│   </span><span style=\"color: #008000; text-decoration-color: #008000\">'ứng dụng đường tròn ngoại tiếp trong hình học'</span>,\n",
       "<span style=\"color: #7fbf7f; text-decoration-color: #7fbf7f\">│   </span><span style=\"color: #008000; text-decoration-color: #008000\">'phân biệt đường tròn nội tiếp và ngoại tiếp'</span>,\n",
       "<span style=\"color: #7fbf7f; text-decoration-color: #7fbf7f\">│   </span><span style=\"color: #008000; text-decoration-color: #008000\">'đường tròn ngoại tiếp đa giác đều'</span>,\n",
       "<span style=\"color: #7fbf7f; text-decoration-color: #7fbf7f\">│   </span><span style=\"color: #008000; text-decoration-color: #008000\">'bài tập nâng cao đường tròn nội tiếp'</span>,\n",
       "<span style=\"color: #7fbf7f; text-decoration-color: #7fbf7f\">│   </span><span style=\"color: #008000; text-decoration-color: #008000\">'mối liên hệ giữa đường tròn nội tiếp và ngoại tiếp'</span>,\n",
       "<span style=\"color: #7fbf7f; text-decoration-color: #7fbf7f\">│   </span><span style=\"color: #008000; text-decoration-color: #008000\">'công thức tính diện tích tam giác qua bán kính đường tròn nội tiếp'</span>,\n",
       "<span style=\"color: #7fbf7f; text-decoration-color: #7fbf7f\">│   </span><span style=\"color: #008000; text-decoration-color: #008000\">'đường tròn ngoại tiếp tứ giác nội tiếp'</span>\n",
       "<span style=\"font-weight: bold\">]</span>\n",
       "</pre>\n"
      ],
      "text/plain": [
       "\u001b[1m[\u001b[0m\n",
       "\u001b[2;32m│   \u001b[0m\u001b[32m'đường tròn ngoại tiếp và đường tròn nội tiếp'\u001b[0m,\n",
       "\u001b[2;32m│   \u001b[0m\u001b[32m'công thức đường tròn ngoại tiếp tam giác'\u001b[0m,\n",
       "\u001b[2;32m│   \u001b[0m\u001b[32m'tính chất đường tròn nội tiếp tứ giác'\u001b[0m,\n",
       "\u001b[2;32m│   \u001b[0m\u001b[32m'bài tập đường tròn ngoại tiếp lớp 9'\u001b[0m,\n",
       "\u001b[2;32m│   \u001b[0m\u001b[32m'lý thuyết đường tròn nội tiếp và ngoại tiếp'\u001b[0m,\n",
       "\u001b[2;32m│   \u001b[0m\u001b[32m'cách xác định tâm đường tròn ngoại tiếp'\u001b[0m,\n",
       "\u001b[2;32m│   \u001b[0m\u001b[32m'bán kính đường tròn nội tiếp tam giác vuông'\u001b[0m,\n",
       "\u001b[2;32m│   \u001b[0m\u001b[32m'chuyên đề đường tròn ngoại tiếp nội tiếp ôn thi'\u001b[0m,\n",
       "\u001b[2;32m│   \u001b[0m\u001b[32m'ứng dụng đường tròn ngoại tiếp trong hình học'\u001b[0m,\n",
       "\u001b[2;32m│   \u001b[0m\u001b[32m'phân biệt đường tròn nội tiếp và ngoại tiếp'\u001b[0m,\n",
       "\u001b[2;32m│   \u001b[0m\u001b[32m'đường tròn ngoại tiếp đa giác đều'\u001b[0m,\n",
       "\u001b[2;32m│   \u001b[0m\u001b[32m'bài tập nâng cao đường tròn nội tiếp'\u001b[0m,\n",
       "\u001b[2;32m│   \u001b[0m\u001b[32m'mối liên hệ giữa đường tròn nội tiếp và ngoại tiếp'\u001b[0m,\n",
       "\u001b[2;32m│   \u001b[0m\u001b[32m'công thức tính diện tích tam giác qua bán kính đường tròn nội tiếp'\u001b[0m,\n",
       "\u001b[2;32m│   \u001b[0m\u001b[32m'đường tròn ngoại tiếp tứ giác nội tiếp'\u001b[0m\n",
       "\u001b[1m]\u001b[0m\n"
      ]
     },
     "metadata": {},
     "output_type": "display_data"
    },
    {
     "data": {
      "text/html": [
       "<pre style=\"white-space:pre;overflow-x:auto;line-height:normal;font-family:Menlo,'DejaVu Sans Mono',consolas,'Courier New',monospace\">\n",
       "<span style=\"color: #808000; text-decoration-color: #808000; font-weight: bold\">------- Hoàn thành bước: query_expansion -------</span>\n",
       "</pre>\n"
      ],
      "text/plain": [
       "\n",
       "\u001b[1;33m------- Hoàn thành bước: query_expansion -------\u001b[0m\n"
      ]
     },
     "metadata": {},
     "output_type": "display_data"
    },
    {
     "data": {
      "text/html": [
       "<pre style=\"white-space:pre;overflow-x:auto;line-height:normal;font-family:Menlo,'DejaVu Sans Mono',consolas,'Courier New',monospace\">\n",
       "<span style=\"color: #008080; text-decoration-color: #008080; font-weight: bold\">&gt;</span> `Agent: Resource Scout` <span style=\"font-weight: bold\">(</span>v8.<span style=\"color: #008080; text-decoration-color: #008080; font-weight: bold\">1</span> - Sửa lỗi<span style=\"font-weight: bold\">)</span> đang tìm kiếm và sàng lọc<span style=\"color: #808000; text-decoration-color: #808000\">...</span>\n",
       "</pre>\n"
      ],
      "text/plain": [
       "\n",
       "\u001b[1;36m>\u001b[0m `Agent: Resource Scout` \u001b[1m(\u001b[0mv8.\u001b[1;36m1\u001b[0m - Sửa lỗi\u001b[1m)\u001b[0m đang tìm kiếm và sàng lọc\u001b[33m...\u001b[0m\n"
      ]
     },
     "metadata": {},
     "output_type": "display_data"
    },
    {
     "data": {
      "text/html": [
       "<pre style=\"white-space:pre;overflow-x:auto;line-height:normal;font-family:Menlo,'DejaVu Sans Mono',consolas,'Courier New',monospace\">\n",
       "<span style=\"color: #008080; text-decoration-color: #008080; font-weight: bold\">&gt;</span> Tìm thấy <span style=\"color: #008080; text-decoration-color: #008080; font-weight: bold\">75</span> tài liệu, sàng lọc còn <span style=\"color: #008080; text-decoration-color: #008080; font-weight: bold\">8</span> đoạn văn bản độc nhất.\n",
       "</pre>\n"
      ],
      "text/plain": [
       "\n",
       "\u001b[1;36m>\u001b[0m Tìm thấy \u001b[1;36m75\u001b[0m tài liệu, sàng lọc còn \u001b[1;36m8\u001b[0m đoạn văn bản độc nhất.\n"
      ]
     },
     "metadata": {},
     "output_type": "display_data"
    },
    {
     "data": {
      "text/html": [
       "<pre style=\"white-space:pre;overflow-x:auto;line-height:normal;font-family:Menlo,'DejaVu Sans Mono',consolas,'Courier New',monospace\"><span style=\"color: #008000; text-decoration-color: #008000; font-weight: bold\">✔️ Tài liệu RAG cuối cùng:</span>\n",
       "</pre>\n"
      ],
      "text/plain": [
       "\u001b[1;32m✔️ Tài liệu RAG cuối cùng:\u001b[0m\n"
      ]
     },
     "metadata": {},
     "output_type": "display_data"
    },
    {
     "data": {
      "text/html": [
       "<pre style=\"white-space:pre;overflow-x:auto;line-height:normal;font-family:Menlo,'DejaVu Sans Mono',consolas,'Courier New',monospace\"><span style=\"font-weight: bold\">{</span>\n",
       "<span style=\"color: #7fbf7f; text-decoration-color: #7fbf7f\">│   </span><span style=\"color: #008000; text-decoration-color: #008000\">'source'</span>: <span style=\"color: #008000; text-decoration-color: #008000\">'Sách giáo khoa (từ RAG - đã sàng lọc)'</span>,\n",
       "<span style=\"color: #7fbf7f; text-decoration-color: #7fbf7f\">│   </span><span style=\"color: #008000; text-decoration-color: #008000\">'summary'</span>: <span style=\"color: #008000; text-decoration-color: #008000\">'Chào các em học sinh,\\n\\nVới vai trò là một giáo viên giàu kinh nghiệm, thầy/cô sẽ tổng hợp kiến thức cốt lõi từ các đoạn văn bản mà các em đã cung cấp.\\n\\n**TÓM TẮT KIẾN THỨC CỐT LÕI VỀ ĐƯỜNG TRÒN (LIÊN QUAN ĐẾN TAM GIÁC VÀ CÁC KHÁI NIỆM CHUNG)**\\n\\nKính chào các em học sinh. Dựa trên các đoạn văn bản được cung cấp, thầy/cô nhận thấy rằng các khái niệm \"đường tròn ngoại tiếp\" và \"đường tròn nội tiếp\" không được định nghĩa trực tiếp. Tuy nhiên, văn bản có đề cập đến một số tính chất và trường hợp đặc biệt của đường tròn có liên quan đến tam giác, cùng với các kiến thức cơ bản về đường tròn.\\n\\nDưới đây là bản tóm tắt các kiến thức cốt lõi được suy luận từ các đoạn văn bản:\\n\\n**1. Đường tròn và Tam giác:**\\n\\n*   **1.1. Đường tròn đi qua các đỉnh của tam giác:**\\n    *   Nếu một tam giác có các đỉnh nằm trên một đường tròn và một cạnh của tam giác là đường kính của đường tròn đó, thì tam giác đó là tam giác vuông tại đỉnh đối diện với cạnh đường kính. Ngược lại, nếu một tam giác là tam giác vuông, thì đường tròn có đường kính là cạnh huyền của tam giác đó sẽ đi qua cả ba đỉnh của tam giác (Bài 5.36a).\\n    *   Đường tròn có đường kính là một cạnh của tam giác có thể đi qua các chân đường cao kẻ từ hai đỉnh còn lại của tam giác đó (Ví dụ 1a).\\n\\n**2. Vị trí tương đối của đường thẳng và đường tròn:**\\n\\n*   **2.1. Định nghĩa:**\\n    *   **Cắt nhau:** Đường thẳng và đường tròn có đúng hai điểm chung.\\n    *   **Tiếp xúc với nhau:** Đường thẳng và đường tròn có đúng một điểm chung. Điểm chung này gọi là **tiếp điểm**, và đường thẳng được gọi là **tiếp tuyến** của đường tròn tại tiếp điểm đó.\\n    *   **Không giao nhau:** Đường thẳng và đường tròn không có điểm chung nào.\\n*   **2.2. Dấu hiệu nhận biết:** Gọi $d$ là khoảng cách từ tâm $O$ của đường tròn đến đường thẳng $a$, và $R$ là bán kính của đường tròn $(O; R)$.\\n    *   Đường thẳng $a$ và đường tròn $(O; R)$ cắt nhau khi $d &lt; R$.\\n    *   Đường thẳng $a$ và đường tròn $(O; R)$ tiếp xúc với nhau khi $d = R$.\\n    *   Đường thẳng $a$ và đường tròn $(O; R)$ không giao nhau khi $d &gt; R$.\\n*   **2.3. Dấu hiệu nhận biết tiếp tuyến của đường tròn:** Nếu một đường thẳng đi qua một điểm trên một đường tròn và vuông góc với bán kính đi qua điểm đó, thì đường thẳng ấy là một tiếp tuyến của đường tròn (Định lí 1).\\n\\n**3. Vị trí tương đối của hai đường tròn:**\\n\\n*   Cho hai đường tròn $(O; R)$ và $(O\\'; R\\')$ với $R \\\\geq R\\'$.\\n*   **Hai đường tròn cắt nhau:** Có 2 điểm chung. Hệ thức giữa khoảng cách $OO\\'$ và bán kính: $R - R\\' &lt; OO\\' &lt; R + R\\'$.\\n*   **Hai đường tròn tiếp xúc nhau:** Có 1 điểm chung.\\n    *   **Tiếp xúc ngoài:** Khoảng cách giữa hai tâm bằng tổng hai bán kính: $OO\\' = R + R\\'$.\\n    *   **Tiếp xúc trong:** Khoảng cách giữa hai tâm bằng hiệu hai bán kính (lớn trừ bé): $OO\\' = R - R\\' &gt; 0$.\\n*   **Hai đường tròn không giao nhau:** Không có điểm chung.\\n    *   **Hai đường tròn ở ngoài nhau:** Khoảng cách giữa hai tâm lớn hơn tổng hai bán kính: $OO\\' &gt; R + R\\'$.\\n    *   **Một đường tròn đựng đường tròn kia (đồng tâm hoặc không đồng tâm):** Khoảng cách giữa hai tâm nhỏ hơn hiệu hai bán kính: $OO\\' &lt; R - R\\'$.\\n\\n**4. Các khái niệm và công thức tính toán liên quan đến đường tròn:**\\n\\n*   **Cung tròn:** Là một phần của đường tròn. Có cung nhỏ và cung lớn.\\n*   **Độ dài cung:** Có thể tính được khi biết bán kính và số đo cung (Bài 5.9b, 5.36c, 5.37b).\\n*   **Hình quạt tròn:** Là phần hình tròn giới hạn bởi hai bán kính và cung tròn.\\n*   **Diện tích hình quạt tròn:** Có thể tính được khi biết bán kính và số đo cung (Bài 5.10, 5.12, 5.13, 5.36c, 5.37b).\\n*   **Hình vành khuyên:** Là phần nằm giữa hai đường tròn đồng tâm.\\n*   **Diện tích hình vành khuyên:** Có thể tính được khi biết bán kính của hai đường tròn đồng tâm (Bài 5.11).\\n\\nHy vọng bản tóm tắt này giúp các em nắm vững các kiến thức cơ bản về đường tròn từ các bài tập và ví dụ đã cho.'</span>\n",
       "<span style=\"font-weight: bold\">}</span>\n",
       "</pre>\n"
      ],
      "text/plain": [
       "\u001b[1m{\u001b[0m\n",
       "\u001b[2;32m│   \u001b[0m\u001b[32m'source'\u001b[0m: \u001b[32m'Sách giáo khoa \u001b[0m\u001b[32m(\u001b[0m\u001b[32mtừ RAG - đã sàng lọc\u001b[0m\u001b[32m)\u001b[0m\u001b[32m'\u001b[0m,\n",
       "\u001b[2;32m│   \u001b[0m\u001b[32m'summary'\u001b[0m: \u001b[32m'Chào các em học sinh,\\n\\nVới vai trò là một giáo viên giàu kinh nghiệm, thầy/cô sẽ tổng hợp kiến thức cốt lõi từ các đoạn văn bản mà các em đã cung cấp.\\n\\n**TÓM TẮT KIẾN THỨC CỐT LÕI VỀ ĐƯỜNG TRÒN \u001b[0m\u001b[32m(\u001b[0m\u001b[32mLIÊN QUAN ĐẾN TAM GIÁC VÀ CÁC KHÁI NIỆM CHUNG\u001b[0m\u001b[32m)\u001b[0m\u001b[32m**\\n\\nKính chào các em học sinh. Dựa trên các đoạn văn bản được cung cấp, thầy/cô nhận thấy rằng các khái niệm \"đường tròn ngoại tiếp\" và \"đường tròn nội tiếp\" không được định nghĩa trực tiếp. Tuy nhiên, văn bản có đề cập đến một số tính chất và trường hợp đặc biệt của đường tròn có liên quan đến tam giác, cùng với các kiến thức cơ bản về đường tròn.\\n\\nDưới đây là bản tóm tắt các kiến thức cốt lõi được suy luận từ các đoạn văn bản:\\n\\n**1. Đường tròn và Tam giác:**\\n\\n*   **1.1. Đường tròn đi qua các đỉnh của tam giác:**\\n    *   Nếu một tam giác có các đỉnh nằm trên một đường tròn và một cạnh của tam giác là đường kính của đường tròn đó, thì tam giác đó là tam giác vuông tại đỉnh đối diện với cạnh đường kính. Ngược lại, nếu một tam giác là tam giác vuông, thì đường tròn có đường kính là cạnh huyền của tam giác đó sẽ đi qua cả ba đỉnh của tam giác \u001b[0m\u001b[32m(\u001b[0m\u001b[32mBài 5.36a\u001b[0m\u001b[32m)\u001b[0m\u001b[32m.\\n    *   Đường tròn có đường kính là một cạnh của tam giác có thể đi qua các chân đường cao kẻ từ hai đỉnh còn lại của tam giác đó \u001b[0m\u001b[32m(\u001b[0m\u001b[32mVí dụ 1a\u001b[0m\u001b[32m)\u001b[0m\u001b[32m.\\n\\n**2. Vị trí tương đối của đường thẳng và đường tròn:**\\n\\n*   **2.1. Định nghĩa:**\\n    *   **Cắt nhau:** Đường thẳng và đường tròn có đúng hai điểm chung.\\n    *   **Tiếp xúc với nhau:** Đường thẳng và đường tròn có đúng một điểm chung. Điểm chung này gọi là **tiếp điểm**, và đường thẳng được gọi là **tiếp tuyến** của đường tròn tại tiếp điểm đó.\\n    *   **Không giao nhau:** Đường thẳng và đường tròn không có điểm chung nào.\\n*   **2.2. Dấu hiệu nhận biết:** Gọi $d$ là khoảng cách từ tâm $O$ của đường tròn đến đường thẳng $a$, và $R$ là bán kính của đường tròn $\u001b[0m\u001b[32m(\u001b[0m\u001b[32mO; R\u001b[0m\u001b[32m)\u001b[0m\u001b[32m$.\\n    *   Đường thẳng $a$ và đường tròn $\u001b[0m\u001b[32m(\u001b[0m\u001b[32mO; R\u001b[0m\u001b[32m)\u001b[0m\u001b[32m$ cắt nhau khi $d \u001b[0m\u001b[32m<\u001b[0m\u001b[32m R$.\\n    *   Đường thẳng $a$ và đường tròn $\u001b[0m\u001b[32m(\u001b[0m\u001b[32mO; R\u001b[0m\u001b[32m)\u001b[0m\u001b[32m$ tiếp xúc với nhau khi $d = R$.\\n    *   Đường thẳng $a$ và đường tròn $\u001b[0m\u001b[32m(\u001b[0m\u001b[32mO; R\u001b[0m\u001b[32m)\u001b[0m\u001b[32m$ không giao nhau khi $d > R$.\\n*   **2.3. Dấu hiệu nhận biết tiếp tuyến của đường tròn:** Nếu một đường thẳng đi qua một điểm trên một đường tròn và vuông góc với bán kính đi qua điểm đó, thì đường thẳng ấy là một tiếp tuyến của đường tròn \u001b[0m\u001b[32m(\u001b[0m\u001b[32mĐịnh lí 1\u001b[0m\u001b[32m)\u001b[0m\u001b[32m.\\n\\n**3. Vị trí tương đối của hai đường tròn:**\\n\\n*   Cho hai đường tròn $\u001b[0m\u001b[32m(\u001b[0m\u001b[32mO; R\u001b[0m\u001b[32m)\u001b[0m\u001b[32m$ và $\u001b[0m\u001b[32m(\u001b[0m\u001b[32mO\\'; R\\'\u001b[0m\u001b[32m)\u001b[0m\u001b[32m$ với $R \\\\geq R\\'$.\\n*   **Hai đường tròn cắt nhau:** Có 2 điểm chung. Hệ thức giữa khoảng cách $OO\\'$ và bán kính: $R - R\\' < OO\\' < R + R\\'$.\\n*   **Hai đường tròn tiếp xúc nhau:** Có 1 điểm chung.\\n    *   **Tiếp xúc ngoài:** Khoảng cách giữa hai tâm bằng tổng hai bán kính: $OO\\' = R + R\\'$.\\n    *   **Tiếp xúc trong:** Khoảng cách giữa hai tâm bằng hiệu hai bán kính \u001b[0m\u001b[32m(\u001b[0m\u001b[32mlớn trừ bé\u001b[0m\u001b[32m)\u001b[0m\u001b[32m: $OO\\' = R - R\\' > 0$.\\n*   **Hai đường tròn không giao nhau:** Không có điểm chung.\\n    *   **Hai đường tròn ở ngoài nhau:** Khoảng cách giữa hai tâm lớn hơn tổng hai bán kính: $OO\\' \u001b[0m\u001b[32m>\u001b[0m\u001b[32m R + R\\'$.\\n    *   **Một đường tròn đựng đường tròn kia \u001b[0m\u001b[32m(\u001b[0m\u001b[32mđồng tâm hoặc không đồng tâm\u001b[0m\u001b[32m)\u001b[0m\u001b[32m:** Khoảng cách giữa hai tâm nhỏ hơn hiệu hai bán kính: $OO\\' < R - R\\'$.\\n\\n**4. Các khái niệm và công thức tính toán liên quan đến đường tròn:**\\n\\n*   **Cung tròn:** Là một phần của đường tròn. Có cung nhỏ và cung lớn.\\n*   **Độ dài cung:** Có thể tính được khi biết bán kính và số đo cung \u001b[0m\u001b[32m(\u001b[0m\u001b[32mBài 5.9b, 5.36c, 5.37b\u001b[0m\u001b[32m)\u001b[0m\u001b[32m.\\n*   **Hình quạt tròn:** Là phần hình tròn giới hạn bởi hai bán kính và cung tròn.\\n*   **Diện tích hình quạt tròn:** Có thể tính được khi biết bán kính và số đo cung \u001b[0m\u001b[32m(\u001b[0m\u001b[32mBài 5.10, 5.12, 5.13, 5.36c, 5.37b\u001b[0m\u001b[32m)\u001b[0m\u001b[32m.\\n*   **Hình vành khuyên:** Là phần nằm giữa hai đường tròn đồng tâm.\\n*   **Diện tích hình vành khuyên:** Có thể tính được khi biết bán kính của hai đường tròn đồng tâm \u001b[0m\u001b[32m(\u001b[0m\u001b[32mBài 5.11\u001b[0m\u001b[32m)\u001b[0m\u001b[32m.\\n\\nHy vọng bản tóm tắt này giúp các em nắm vững các kiến thức cơ bản về đường tròn từ các bài tập và ví dụ đã cho.'\u001b[0m\n",
       "\u001b[1m}\u001b[0m\n"
      ]
     },
     "metadata": {},
     "output_type": "display_data"
    },
    {
     "data": {
      "text/html": [
       "<pre style=\"white-space:pre;overflow-x:auto;line-height:normal;font-family:Menlo,'DejaVu Sans Mono',consolas,'Courier New',monospace\">\n",
       "<span style=\"color: #808000; text-decoration-color: #808000; font-weight: bold\">------- Hoàn thành bước: resource_scout -------</span>\n",
       "</pre>\n"
      ],
      "text/plain": [
       "\n",
       "\u001b[1;33m------- Hoàn thành bước: resource_scout -------\u001b[0m\n"
      ]
     },
     "metadata": {},
     "output_type": "display_data"
    },
    {
     "data": {
      "text/html": [
       "<pre style=\"white-space:pre;overflow-x:auto;line-height:normal;font-family:Menlo,'DejaVu Sans Mono',consolas,'Courier New',monospace\">\n",
       "<span style=\"color: #008080; text-decoration-color: #008080; font-weight: bold\">&gt;</span> `Agent: Plan Delegator` <span style=\"font-weight: bold\">(</span>v8.<span style=\"color: #008080; text-decoration-color: #008080; font-weight: bold\">2</span> - Siêu cụ thể<span style=\"font-weight: bold\">)</span> đang triển khai Bản thiết kế<span style=\"color: #808000; text-decoration-color: #808000\">...</span>\n",
       "</pre>\n"
      ],
      "text/plain": [
       "\n",
       "\u001b[1;36m>\u001b[0m `Agent: Plan Delegator` \u001b[1m(\u001b[0mv8.\u001b[1;36m2\u001b[0m - Siêu cụ thể\u001b[1m)\u001b[0m đang triển khai Bản thiết kế\u001b[33m...\u001b[0m\n"
      ]
     },
     "metadata": {},
     "output_type": "display_data"
    },
    {
     "data": {
      "text/html": [
       "<pre style=\"white-space:pre;overflow-x:auto;line-height:normal;font-family:Menlo,'DejaVu Sans Mono',consolas,'Courier New',monospace\"><span style=\"color: #008000; text-decoration-color: #008000; font-weight: bold\">✔️ Đã tạo </span><span style=\"color: #008000; text-decoration-color: #008000; font-weight: bold\">5</span><span style=\"color: #008000; text-decoration-color: #008000; font-weight: bold\"> nhiệm vụ chi tiết:</span>\n",
       "</pre>\n"
      ],
      "text/plain": [
       "\u001b[1;32m✔️ Đã tạo \u001b[0m\u001b[1;32m5\u001b[0m\u001b[1;32m nhiệm vụ chi tiết:\u001b[0m\n"
      ]
     },
     "metadata": {},
     "output_type": "display_data"
    },
    {
     "data": {
      "text/html": [
       "<pre style=\"white-space:pre;overflow-x:auto;line-height:normal;font-family:Menlo,'DejaVu Sans Mono',consolas,'Courier New',monospace\"><span style=\"font-weight: bold\">[</span>\n",
       "<span style=\"color: #7fbf7f; text-decoration-color: #7fbf7f\">│   </span><span style=\"font-weight: bold\">{</span>\n",
       "<span style=\"color: #7fbf7f; text-decoration-color: #7fbf7f\">│   │   </span><span style=\"color: #008000; text-decoration-color: #008000\">'task_id'</span>: <span style=\"color: #008080; text-decoration-color: #008080; font-weight: bold\">0</span>,\n",
       "<span style=\"color: #7fbf7f; text-decoration-color: #7fbf7f\">│   │   </span><span style=\"color: #008000; text-decoration-color: #008000\">'task_name'</span>: <span style=\"color: #008000; text-decoration-color: #008000\">'Ôn tập kiến thức nền tảng về hình học'</span>,\n",
       "<span style=\"color: #7fbf7f; text-decoration-color: #7fbf7f\">│   │   </span><span style=\"color: #008000; text-decoration-color: #008000\">'task_description'</span>: <span style=\"color: #008000; text-decoration-color: #008000\">'Học sinh ôn tập và trình bày lại các khái niệm cơ bản về đường tròn, tam giác, và các loại đường đặc biệt trong tam giác (đường trung trực, đường phân giác) thông qua việc trả lời câu hỏi và vẽ minh họa.'</span>,\n",
       "<span style=\"color: #7fbf7f; text-decoration-color: #7fbf7f\">│   │   </span><span style=\"color: #008000; text-decoration-color: #008000\">'estimated_duration'</span>: <span style=\"color: #008080; text-decoration-color: #008080; font-weight: bold\">10</span>,\n",
       "<span style=\"color: #7fbf7f; text-decoration-color: #7fbf7f\">│   │   </span><span style=\"color: #008000; text-decoration-color: #008000\">'status'</span>: <span style=\"color: #008000; text-decoration-color: #008000\">'pending'</span>\n",
       "<span style=\"color: #7fbf7f; text-decoration-color: #7fbf7f\">│   </span><span style=\"font-weight: bold\">}</span>,\n",
       "<span style=\"color: #7fbf7f; text-decoration-color: #7fbf7f\">│   </span><span style=\"font-weight: bold\">{</span>\n",
       "<span style=\"color: #7fbf7f; text-decoration-color: #7fbf7f\">│   │   </span><span style=\"color: #008000; text-decoration-color: #008000\">'task_id'</span>: <span style=\"color: #008080; text-decoration-color: #008080; font-weight: bold\">1</span>,\n",
       "<span style=\"color: #7fbf7f; text-decoration-color: #7fbf7f\">│   │   </span><span style=\"color: #008000; text-decoration-color: #008000\">'task_name'</span>: <span style=\"color: #008000; text-decoration-color: #008000\">'Khám phá và định nghĩa Đường tròn ngoại tiếp'</span>,\n",
       "<span style=\"color: #7fbf7f; text-decoration-color: #7fbf7f\">│   │   </span><span style=\"color: #008000; text-decoration-color: #008000\">'task_description'</span>: <span style=\"color: #008000; text-decoration-color: #008000\">'Học sinh thực hiện vẽ hình một tam giác bất kỳ, sau đó xác định giao điểm của ba đường trung trực của các cạnh để tìm tâm đường tròn ngoại tiếp và vẽ đường tròn đi qua ba đỉnh của tam giác. Từ đó, học sinh nêu định nghĩa và các tính chất cơ bản của đường tròn ngoại tiếp.'</span>,\n",
       "<span style=\"color: #7fbf7f; text-decoration-color: #7fbf7f\">│   │   </span><span style=\"color: #008000; text-decoration-color: #008000\">'estimated_duration'</span>: <span style=\"color: #008080; text-decoration-color: #008080; font-weight: bold\">25</span>,\n",
       "<span style=\"color: #7fbf7f; text-decoration-color: #7fbf7f\">│   │   </span><span style=\"color: #008000; text-decoration-color: #008000\">'status'</span>: <span style=\"color: #008000; text-decoration-color: #008000\">'pending'</span>\n",
       "<span style=\"color: #7fbf7f; text-decoration-color: #7fbf7f\">│   </span><span style=\"font-weight: bold\">}</span>,\n",
       "<span style=\"color: #7fbf7f; text-decoration-color: #7fbf7f\">│   </span><span style=\"font-weight: bold\">{</span>\n",
       "<span style=\"color: #7fbf7f; text-decoration-color: #7fbf7f\">│   │   </span><span style=\"color: #008000; text-decoration-color: #008000\">'task_id'</span>: <span style=\"color: #008080; text-decoration-color: #008080; font-weight: bold\">2</span>,\n",
       "<span style=\"color: #7fbf7f; text-decoration-color: #7fbf7f\">│   │   </span><span style=\"color: #008000; text-decoration-color: #008000\">'task_name'</span>: <span style=\"color: #008000; text-decoration-color: #008000\">'Vận dụng kiến thức về Đường tròn ngoại tiếp'</span>,\n",
       "<span style=\"color: #7fbf7f; text-decoration-color: #7fbf7f\">│   │   </span><span style=\"color: #008000; text-decoration-color: #008000\">'task_description'</span>: <span style=\"color: #008000; text-decoration-color: #008000\">'Học sinh giải các bài tập thực hành liên quan đến việc xác định tâm, bán kính đường tròn ngoại tiếp của các loại tam giác khác nhau (vuông, cân, đều) và chứng minh các tính chất liên quan đến đường tròn ngoại tiếp tứ giác nội tiếp.'</span>,\n",
       "<span style=\"color: #7fbf7f; text-decoration-color: #7fbf7f\">│   │   </span><span style=\"color: #008000; text-decoration-color: #008000\">'estimated_duration'</span>: <span style=\"color: #008080; text-decoration-color: #008080; font-weight: bold\">20</span>,\n",
       "<span style=\"color: #7fbf7f; text-decoration-color: #7fbf7f\">│   │   </span><span style=\"color: #008000; text-decoration-color: #008000\">'status'</span>: <span style=\"color: #008000; text-decoration-color: #008000\">'pending'</span>\n",
       "<span style=\"color: #7fbf7f; text-decoration-color: #7fbf7f\">│   </span><span style=\"font-weight: bold\">}</span>,\n",
       "<span style=\"color: #7fbf7f; text-decoration-color: #7fbf7f\">│   </span><span style=\"font-weight: bold\">{</span>\n",
       "<span style=\"color: #7fbf7f; text-decoration-color: #7fbf7f\">│   │   </span><span style=\"color: #008000; text-decoration-color: #008000\">'task_id'</span>: <span style=\"color: #008080; text-decoration-color: #008080; font-weight: bold\">3</span>,\n",
       "<span style=\"color: #7fbf7f; text-decoration-color: #7fbf7f\">│   │   </span><span style=\"color: #008000; text-decoration-color: #008000\">'task_name'</span>: <span style=\"color: #008000; text-decoration-color: #008000\">'Khám phá và định nghĩa Đường tròn nội tiếp'</span>,\n",
       "<span style=\"color: #7fbf7f; text-decoration-color: #7fbf7f\">│   │   </span><span style=\"color: #008000; text-decoration-color: #008000\">'task_description'</span>: <span style=\"color: #008000; text-decoration-color: #008000\">'Học sinh thực hiện vẽ hình một tam giác bất kỳ, sau đó xác định giao điểm của ba đường phân giác của các góc để tìm tâm đường tròn nội tiếp và vẽ đường tròn tiếp xúc với ba cạnh của tam giác. Từ đó, học sinh nêu định nghĩa và các tính chất cơ bản của đường tròn nội tiếp.'</span>,\n",
       "<span style=\"color: #7fbf7f; text-decoration-color: #7fbf7f\">│   │   </span><span style=\"color: #008000; text-decoration-color: #008000\">'estimated_duration'</span>: <span style=\"color: #008080; text-decoration-color: #008080; font-weight: bold\">25</span>,\n",
       "<span style=\"color: #7fbf7f; text-decoration-color: #7fbf7f\">│   │   </span><span style=\"color: #008000; text-decoration-color: #008000\">'status'</span>: <span style=\"color: #008000; text-decoration-color: #008000\">'pending'</span>\n",
       "<span style=\"color: #7fbf7f; text-decoration-color: #7fbf7f\">│   </span><span style=\"font-weight: bold\">}</span>,\n",
       "<span style=\"color: #7fbf7f; text-decoration-color: #7fbf7f\">│   </span><span style=\"font-weight: bold\">{</span>\n",
       "<span style=\"color: #7fbf7f; text-decoration-color: #7fbf7f\">│   │   </span><span style=\"color: #008000; text-decoration-color: #008000\">'task_id'</span>: <span style=\"color: #008080; text-decoration-color: #008080; font-weight: bold\">4</span>,\n",
       "<span style=\"color: #7fbf7f; text-decoration-color: #7fbf7f\">│   │   </span><span style=\"color: #008000; text-decoration-color: #008000\">'task_name'</span>: <span style=\"color: #008000; text-decoration-color: #008000\">'Vận dụng Đường tròn nội tiếp và tổng kết kiến thức'</span>,\n",
       "<span style=\"color: #7fbf7f; text-decoration-color: #7fbf7f\">│   │   </span><span style=\"color: #008000; text-decoration-color: #008000\">'task_description'</span>: <span style=\"color: #008000; text-decoration-color: #008000\">'Học sinh giải các bài tập thực hành liên quan đến việc xác định tâm, bán kính đường tròn nội tiếp của tam giác. Sau đó, học sinh so sánh điểm giống và khác nhau giữa đường tròn ngoại tiếp và đường tròn nội tiếp, hệ thống hóa kiến thức đã học.'</span>,\n",
       "<span style=\"color: #7fbf7f; text-decoration-color: #7fbf7f\">│   │   </span><span style=\"color: #008000; text-decoration-color: #008000\">'estimated_duration'</span>: <span style=\"color: #008080; text-decoration-color: #008080; font-weight: bold\">10</span>,\n",
       "<span style=\"color: #7fbf7f; text-decoration-color: #7fbf7f\">│   │   </span><span style=\"color: #008000; text-decoration-color: #008000\">'status'</span>: <span style=\"color: #008000; text-decoration-color: #008000\">'pending'</span>\n",
       "<span style=\"color: #7fbf7f; text-decoration-color: #7fbf7f\">│   </span><span style=\"font-weight: bold\">}</span>\n",
       "<span style=\"font-weight: bold\">]</span>\n",
       "</pre>\n"
      ],
      "text/plain": [
       "\u001b[1m[\u001b[0m\n",
       "\u001b[2;32m│   \u001b[0m\u001b[1m{\u001b[0m\n",
       "\u001b[2;32m│   │   \u001b[0m\u001b[32m'task_id'\u001b[0m: \u001b[1;36m0\u001b[0m,\n",
       "\u001b[2;32m│   │   \u001b[0m\u001b[32m'task_name'\u001b[0m: \u001b[32m'Ôn tập kiến thức nền tảng về hình học'\u001b[0m,\n",
       "\u001b[2;32m│   │   \u001b[0m\u001b[32m'task_description'\u001b[0m: \u001b[32m'Học sinh ôn tập và trình bày lại các khái niệm cơ bản về đường tròn, tam giác, và các loại đường đặc biệt trong tam giác \u001b[0m\u001b[32m(\u001b[0m\u001b[32mđường trung trực, đường phân giác\u001b[0m\u001b[32m)\u001b[0m\u001b[32m thông qua việc trả lời câu hỏi và vẽ minh họa.'\u001b[0m,\n",
       "\u001b[2;32m│   │   \u001b[0m\u001b[32m'estimated_duration'\u001b[0m: \u001b[1;36m10\u001b[0m,\n",
       "\u001b[2;32m│   │   \u001b[0m\u001b[32m'status'\u001b[0m: \u001b[32m'pending'\u001b[0m\n",
       "\u001b[2;32m│   \u001b[0m\u001b[1m}\u001b[0m,\n",
       "\u001b[2;32m│   \u001b[0m\u001b[1m{\u001b[0m\n",
       "\u001b[2;32m│   │   \u001b[0m\u001b[32m'task_id'\u001b[0m: \u001b[1;36m1\u001b[0m,\n",
       "\u001b[2;32m│   │   \u001b[0m\u001b[32m'task_name'\u001b[0m: \u001b[32m'Khám phá và định nghĩa Đường tròn ngoại tiếp'\u001b[0m,\n",
       "\u001b[2;32m│   │   \u001b[0m\u001b[32m'task_description'\u001b[0m: \u001b[32m'Học sinh thực hiện vẽ hình một tam giác bất kỳ, sau đó xác định giao điểm của ba đường trung trực của các cạnh để tìm tâm đường tròn ngoại tiếp và vẽ đường tròn đi qua ba đỉnh của tam giác. Từ đó, học sinh nêu định nghĩa và các tính chất cơ bản của đường tròn ngoại tiếp.'\u001b[0m,\n",
       "\u001b[2;32m│   │   \u001b[0m\u001b[32m'estimated_duration'\u001b[0m: \u001b[1;36m25\u001b[0m,\n",
       "\u001b[2;32m│   │   \u001b[0m\u001b[32m'status'\u001b[0m: \u001b[32m'pending'\u001b[0m\n",
       "\u001b[2;32m│   \u001b[0m\u001b[1m}\u001b[0m,\n",
       "\u001b[2;32m│   \u001b[0m\u001b[1m{\u001b[0m\n",
       "\u001b[2;32m│   │   \u001b[0m\u001b[32m'task_id'\u001b[0m: \u001b[1;36m2\u001b[0m,\n",
       "\u001b[2;32m│   │   \u001b[0m\u001b[32m'task_name'\u001b[0m: \u001b[32m'Vận dụng kiến thức về Đường tròn ngoại tiếp'\u001b[0m,\n",
       "\u001b[2;32m│   │   \u001b[0m\u001b[32m'task_description'\u001b[0m: \u001b[32m'Học sinh giải các bài tập thực hành liên quan đến việc xác định tâm, bán kính đường tròn ngoại tiếp của các loại tam giác khác nhau \u001b[0m\u001b[32m(\u001b[0m\u001b[32mvuông, cân, đều\u001b[0m\u001b[32m)\u001b[0m\u001b[32m và chứng minh các tính chất liên quan đến đường tròn ngoại tiếp tứ giác nội tiếp.'\u001b[0m,\n",
       "\u001b[2;32m│   │   \u001b[0m\u001b[32m'estimated_duration'\u001b[0m: \u001b[1;36m20\u001b[0m,\n",
       "\u001b[2;32m│   │   \u001b[0m\u001b[32m'status'\u001b[0m: \u001b[32m'pending'\u001b[0m\n",
       "\u001b[2;32m│   \u001b[0m\u001b[1m}\u001b[0m,\n",
       "\u001b[2;32m│   \u001b[0m\u001b[1m{\u001b[0m\n",
       "\u001b[2;32m│   │   \u001b[0m\u001b[32m'task_id'\u001b[0m: \u001b[1;36m3\u001b[0m,\n",
       "\u001b[2;32m│   │   \u001b[0m\u001b[32m'task_name'\u001b[0m: \u001b[32m'Khám phá và định nghĩa Đường tròn nội tiếp'\u001b[0m,\n",
       "\u001b[2;32m│   │   \u001b[0m\u001b[32m'task_description'\u001b[0m: \u001b[32m'Học sinh thực hiện vẽ hình một tam giác bất kỳ, sau đó xác định giao điểm của ba đường phân giác của các góc để tìm tâm đường tròn nội tiếp và vẽ đường tròn tiếp xúc với ba cạnh của tam giác. Từ đó, học sinh nêu định nghĩa và các tính chất cơ bản của đường tròn nội tiếp.'\u001b[0m,\n",
       "\u001b[2;32m│   │   \u001b[0m\u001b[32m'estimated_duration'\u001b[0m: \u001b[1;36m25\u001b[0m,\n",
       "\u001b[2;32m│   │   \u001b[0m\u001b[32m'status'\u001b[0m: \u001b[32m'pending'\u001b[0m\n",
       "\u001b[2;32m│   \u001b[0m\u001b[1m}\u001b[0m,\n",
       "\u001b[2;32m│   \u001b[0m\u001b[1m{\u001b[0m\n",
       "\u001b[2;32m│   │   \u001b[0m\u001b[32m'task_id'\u001b[0m: \u001b[1;36m4\u001b[0m,\n",
       "\u001b[2;32m│   │   \u001b[0m\u001b[32m'task_name'\u001b[0m: \u001b[32m'Vận dụng Đường tròn nội tiếp và tổng kết kiến thức'\u001b[0m,\n",
       "\u001b[2;32m│   │   \u001b[0m\u001b[32m'task_description'\u001b[0m: \u001b[32m'Học sinh giải các bài tập thực hành liên quan đến việc xác định tâm, bán kính đường tròn nội tiếp của tam giác. Sau đó, học sinh so sánh điểm giống và khác nhau giữa đường tròn ngoại tiếp và đường tròn nội tiếp, hệ thống hóa kiến thức đã học.'\u001b[0m,\n",
       "\u001b[2;32m│   │   \u001b[0m\u001b[32m'estimated_duration'\u001b[0m: \u001b[1;36m10\u001b[0m,\n",
       "\u001b[2;32m│   │   \u001b[0m\u001b[32m'status'\u001b[0m: \u001b[32m'pending'\u001b[0m\n",
       "\u001b[2;32m│   \u001b[0m\u001b[1m}\u001b[0m\n",
       "\u001b[1m]\u001b[0m\n"
      ]
     },
     "metadata": {},
     "output_type": "display_data"
    },
    {
     "data": {
      "text/html": [
       "<pre style=\"white-space:pre;overflow-x:auto;line-height:normal;font-family:Menlo,'DejaVu Sans Mono',consolas,'Courier New',monospace\">\n",
       "<span style=\"color: #808000; text-decoration-color: #808000; font-weight: bold\">------- Hoàn thành bước: plan_delegator -------</span>\n",
       "</pre>\n"
      ],
      "text/plain": [
       "\n",
       "\u001b[1;33m------- Hoàn thành bước: plan_delegator -------\u001b[0m\n"
      ]
     },
     "metadata": {},
     "output_type": "display_data"
    },
    {
     "data": {
      "text/html": [
       "<pre style=\"white-space:pre;overflow-x:auto;line-height:normal;font-family:Menlo,'DejaVu Sans Mono',consolas,'Courier New',monospace\">\n",
       "<span style=\"color: #008080; text-decoration-color: #008080; font-weight: bold\">&gt;</span> `Router`: Đang kiểm tra nhiệm vụ<span style=\"color: #808000; text-decoration-color: #808000\">...</span>\n",
       "</pre>\n"
      ],
      "text/plain": [
       "\n",
       "\u001b[1;36m>\u001b[0m `Router`: Đang kiểm tra nhiệm vụ\u001b[33m...\u001b[0m\n"
      ]
     },
     "metadata": {},
     "output_type": "display_data"
    },
    {
     "data": {
      "text/html": [
       "<pre style=\"white-space:pre;overflow-x:auto;line-height:normal;font-family:Menlo,'DejaVu Sans Mono',consolas,'Courier New',monospace\">\n",
       "<span style=\"color: #008080; text-decoration-color: #008080; font-weight: bold\">&gt;</span> Nhiệm vụ tiếp theo: <span style=\"color: #008000; text-decoration-color: #008000\">'Ôn tập kiến thức nền tảng về hình học'</span> <span style=\"font-weight: bold\">(</span>ID: <span style=\"color: #008080; text-decoration-color: #008080; font-weight: bold\">0</span><span style=\"font-weight: bold\">)</span>\n",
       "</pre>\n"
      ],
      "text/plain": [
       "\n",
       "\u001b[1;36m>\u001b[0m Nhiệm vụ tiếp theo: \u001b[32m'Ôn tập kiến thức nền tảng về hình học'\u001b[0m \u001b[1m(\u001b[0mID: \u001b[1;36m0\u001b[0m\u001b[1m)\u001b[0m\n"
      ]
     },
     "metadata": {},
     "output_type": "display_data"
    },
    {
     "data": {
      "text/html": [
       "<pre style=\"white-space:pre;overflow-x:auto;line-height:normal;font-family:Menlo,'DejaVu Sans Mono',consolas,'Courier New',monospace\">\n",
       "<span style=\"color: #808000; text-decoration-color: #808000; font-weight: bold\">------- Hoàn thành bước: task_router -------</span>\n",
       "</pre>\n"
      ],
      "text/plain": [
       "\n",
       "\u001b[1;33m------- Hoàn thành bước: task_router -------\u001b[0m\n"
      ]
     },
     "metadata": {},
     "output_type": "display_data"
    },
    {
     "data": {
      "text/html": [
       "<pre style=\"white-space:pre;overflow-x:auto;line-height:normal;font-family:Menlo,'DejaVu Sans Mono',consolas,'Courier New',monospace\">\n",
       "<span style=\"color: #008080; text-decoration-color: #008080; font-weight: bold\">&gt;</span> `Agent: Task Dispatcher` <span style=\"font-weight: bold\">(</span>v7.<span style=\"color: #008080; text-decoration-color: #008080; font-weight: bold\">1</span><span style=\"font-weight: bold\">)</span> Bắt đầu<span style=\"color: #808000; text-decoration-color: #808000\">...</span>\n",
       "</pre>\n"
      ],
      "text/plain": [
       "\n",
       "\u001b[1;36m>\u001b[0m `Agent: Task Dispatcher` \u001b[1m(\u001b[0mv7.\u001b[1;36m1\u001b[0m\u001b[1m)\u001b[0m Bắt đầu\u001b[33m...\u001b[0m\n"
      ]
     },
     "metadata": {},
     "output_type": "display_data"
    },
    {
     "data": {
      "text/html": [
       "<pre style=\"white-space:pre;overflow-x:auto;line-height:normal;font-family:Menlo,'DejaVu Sans Mono',consolas,'Courier New',monospace\">\n",
       "<span style=\"color: #008080; text-decoration-color: #008080; font-weight: bold\">&gt;</span> --- 🚚 `Dispatcher`: Giao nhiệm vụ cho `theory_synthesizer`.\n",
       "</pre>\n"
      ],
      "text/plain": [
       "\n",
       "\u001b[1;36m>\u001b[0m --- 🚚 `Dispatcher`: Giao nhiệm vụ cho `theory_synthesizer`.\n"
      ]
     },
     "metadata": {},
     "output_type": "display_data"
    },
    {
     "data": {
      "text/html": [
       "<pre style=\"white-space:pre;overflow-x:auto;line-height:normal;font-family:Menlo,'DejaVu Sans Mono',consolas,'Courier New',monospace\">\n",
       "<span style=\"color: #808000; text-decoration-color: #808000; font-weight: bold\">------- Hoàn thành bước: task_dispatcher -------</span>\n",
       "</pre>\n"
      ],
      "text/plain": [
       "\n",
       "\u001b[1;33m------- Hoàn thành bước: task_dispatcher -------\u001b[0m\n"
      ]
     },
     "metadata": {},
     "output_type": "display_data"
    },
    {
     "data": {
      "text/html": [
       "<pre style=\"white-space:pre;overflow-x:auto;line-height:normal;font-family:Menlo,'DejaVu Sans Mono',consolas,'Courier New',monospace\">\n",
       "<span style=\"color: #008080; text-decoration-color: #008080; font-weight: bold\">&gt;</span> `Agent: Theory Synthesizer` <span style=\"font-weight: bold\">(</span>v8.<span style=\"color: #008080; text-decoration-color: #008080; font-weight: bold\">0</span><span style=\"font-weight: bold\">)</span> đang tạo nội dung chi tiết<span style=\"color: #808000; text-decoration-color: #808000\">...</span>\n",
       "</pre>\n"
      ],
      "text/plain": [
       "\n",
       "\u001b[1;36m>\u001b[0m `Agent: Theory Synthesizer` \u001b[1m(\u001b[0mv8.\u001b[1;36m0\u001b[0m\u001b[1m)\u001b[0m đang tạo nội dung chi tiết\u001b[33m...\u001b[0m\n"
      ]
     },
     "metadata": {},
     "output_type": "display_data"
    },
    {
     "data": {
      "text/html": [
       "<pre style=\"white-space:pre;overflow-x:auto;line-height:normal;font-family:Menlo,'DejaVu Sans Mono',consolas,'Courier New',monospace\"><span style=\"color: #008000; text-decoration-color: #008000; font-weight: bold\">✔️ Nội dung do Theory Synthesizer tạo ra:</span>\n",
       "</pre>\n"
      ],
      "text/plain": [
       "\u001b[1;32m✔️ Nội dung do Theory Synthesizer tạo ra:\u001b[0m\n"
      ]
     },
     "metadata": {},
     "output_type": "display_data"
    },
    {
     "data": {
      "text/html": [
       "<pre style=\"white-space:pre;overflow-x:auto;line-height:normal;font-family:Menlo,'DejaVu Sans Mono',consolas,'Courier New',monospace\"><span style=\"font-weight: bold\">{</span>\n",
       "<span style=\"color: #7fbf7f; text-decoration-color: #7fbf7f\">│   </span><span style=\"color: #008000; text-decoration-color: #008000\">'activity_name'</span>: <span style=\"color: #008000; text-decoration-color: #008000\">'Ôn tập kiến thức nền tảng về hình học'</span>,\n",
       "<span style=\"color: #7fbf7f; text-decoration-color: #7fbf7f\">│   </span><span style=\"color: #008000; text-decoration-color: #008000\">'description'</span>: <span style=\"color: #008000; text-decoration-color: #008000\">'Học sinh sẽ nhận phiếu bài tập cá nhân. Trên phiếu có các câu hỏi và yêu cầu vẽ hình minh họa về các khái niệm cơ bản của hình học liên quan đến đường tròn và tam giác. Cụ thể, học sinh sẽ: 1. Định nghĩa đường tròn, tâm, bán kính, dây cung, đường kính. 2. Nêu các loại tam giác cơ bản (đều, cân, vuông) và đặc điểm của chúng. 3. Định nghĩa và vẽ minh họa đường trung trực của đoạn thẳng. 4. Định nghĩa và vẽ minh họa đường phân giác của góc. Học sinh hoàn thành phiếu bài tập trong thời gian quy định.'</span>,\n",
       "<span style=\"color: #7fbf7f; text-decoration-color: #7fbf7f\">│   </span><span style=\"color: #008000; text-decoration-color: #008000\">'duration_minutes'</span>: <span style=\"color: #008080; text-decoration-color: #008080; font-weight: bold\">10</span>,\n",
       "<span style=\"color: #7fbf7f; text-decoration-color: #7fbf7f\">│   </span><span style=\"color: #008000; text-decoration-color: #008000\">'activity_type'</span>: <span style=\"color: #008000; text-decoration-color: #008000\">'Ôn tập cá nhân'</span>,\n",
       "<span style=\"color: #7fbf7f; text-decoration-color: #7fbf7f\">│   </span><span style=\"color: #008000; text-decoration-color: #008000\">'teacher_actions'</span>: <span style=\"font-weight: bold\">[</span>\n",
       "<span style=\"color: #7fbf7f; text-decoration-color: #7fbf7f\">│   │   </span><span style=\"color: #008000; text-decoration-color: #008000\">'Chiếu slide giới thiệu hoạt động \"Ôn tập kiến thức nền tảng về hình học\" và mục tiêu của hoạt động.'</span>,\n",
       "<span style=\"color: #7fbf7f; text-decoration-color: #7fbf7f\">│   │   </span><span style=\"color: #008000; text-decoration-color: #008000\">'Phát phiếu bài tập \"Ôn tập kiến thức nền tảng\" cho từng học sinh.'</span>,\n",
       "<span style=\"color: #7fbf7f; text-decoration-color: #7fbf7f\">│   │   </span><span style=\"color: #008000; text-decoration-color: #008000\">'Nhắc nhở học sinh đọc kỹ yêu cầu và hoàn thành bài tập cá nhân.'</span>,\n",
       "<span style=\"color: #7fbf7f; text-decoration-color: #7fbf7f\">│   │   </span><span style=\"color: #008000; text-decoration-color: #008000\">'Quan sát học sinh làm bài, đi lại trong lớp để nắm bắt tình hình và kịp thời hỗ trợ.'</span>,\n",
       "<span style=\"color: #7fbf7f; text-decoration-color: #7fbf7f\">│   │   </span><span style=\"color: #008000; text-decoration-color: #008000\">'Gợi ý, hỗ trợ những học sinh gặp khó khăn (ví dụ: \"Em thử nhớ lại định nghĩa đường trung trực là gì?\", \"Đường phân giác có tính chất gì đặc biệt?\").'</span>,\n",
       "<span style=\"color: #7fbf7f; text-decoration-color: #7fbf7f\">│   │   </span><span style=\"color: #008000; text-decoration-color: #008000\">'Thu phiếu bài tập sau khi hết giờ.'</span>\n",
       "<span style=\"color: #7fbf7f; text-decoration-color: #7fbf7f\">│   </span><span style=\"font-weight: bold\">]</span>,\n",
       "<span style=\"color: #7fbf7f; text-decoration-color: #7fbf7f\">│   </span><span style=\"color: #008000; text-decoration-color: #008000\">'solution_guide'</span>: <span style=\"font-weight: bold\">[</span>\n",
       "<span style=\"color: #7fbf7f; text-decoration-color: #7fbf7f\">│   │   </span><span style=\"color: #008000; text-decoration-color: #008000\">'Câu 1: Hãy định nghĩa đường tròn, tâm, bán kính, dây cung, đường kính và vẽ hình minh họa một đường tròn với các yếu tố đó.'</span>,\n",
       "<span style=\"color: #7fbf7f; text-decoration-color: #7fbf7f\">│   │   </span><span style=\"color: #008000; text-decoration-color: #008000\">'Câu 2: Nêu tên và đặc điểm của ba loại tam giác cơ bản (tam giác đều, tam giác cân, tam giác vuông). Vẽ hình minh họa cho mỗi loại.'</span>,\n",
       "<span style=\"color: #7fbf7f; text-decoration-color: #7fbf7f\">│   │   </span><span style=\"color: #008000; text-decoration-color: #008000\">'Câu 3: Đường trung trực của một đoạn thẳng là gì? Vẽ một đoạn thẳng AB và đường trung trực của nó.'</span>,\n",
       "<span style=\"color: #7fbf7f; text-decoration-color: #7fbf7f\">│   │   </span><span style=\"color: #008000; text-decoration-color: #008000\">'Câu 4: Đường phân giác của một góc là gì? Vẽ một góc xOy và đường phân giác của góc đó.'</span>\n",
       "<span style=\"color: #7fbf7f; text-decoration-color: #7fbf7f\">│   </span><span style=\"font-weight: bold\">]</span>\n",
       "<span style=\"font-weight: bold\">}</span>\n",
       "</pre>\n"
      ],
      "text/plain": [
       "\u001b[1m{\u001b[0m\n",
       "\u001b[2;32m│   \u001b[0m\u001b[32m'activity_name'\u001b[0m: \u001b[32m'Ôn tập kiến thức nền tảng về hình học'\u001b[0m,\n",
       "\u001b[2;32m│   \u001b[0m\u001b[32m'description'\u001b[0m: \u001b[32m'Học sinh sẽ nhận phiếu bài tập cá nhân. Trên phiếu có các câu hỏi và yêu cầu vẽ hình minh họa về các khái niệm cơ bản của hình học liên quan đến đường tròn và tam giác. Cụ thể, học sinh sẽ: 1. Định nghĩa đường tròn, tâm, bán kính, dây cung, đường kính. 2. Nêu các loại tam giác cơ bản \u001b[0m\u001b[32m(\u001b[0m\u001b[32mđều, cân, vuông\u001b[0m\u001b[32m)\u001b[0m\u001b[32m và đặc điểm của chúng. 3. Định nghĩa và vẽ minh họa đường trung trực của đoạn thẳng. 4. Định nghĩa và vẽ minh họa đường phân giác của góc. Học sinh hoàn thành phiếu bài tập trong thời gian quy định.'\u001b[0m,\n",
       "\u001b[2;32m│   \u001b[0m\u001b[32m'duration_minutes'\u001b[0m: \u001b[1;36m10\u001b[0m,\n",
       "\u001b[2;32m│   \u001b[0m\u001b[32m'activity_type'\u001b[0m: \u001b[32m'Ôn tập cá nhân'\u001b[0m,\n",
       "\u001b[2;32m│   \u001b[0m\u001b[32m'teacher_actions'\u001b[0m: \u001b[1m[\u001b[0m\n",
       "\u001b[2;32m│   │   \u001b[0m\u001b[32m'Chiếu slide giới thiệu hoạt động \"Ôn tập kiến thức nền tảng về hình học\" và mục tiêu của hoạt động.'\u001b[0m,\n",
       "\u001b[2;32m│   │   \u001b[0m\u001b[32m'Phát phiếu bài tập \"Ôn tập kiến thức nền tảng\" cho từng học sinh.'\u001b[0m,\n",
       "\u001b[2;32m│   │   \u001b[0m\u001b[32m'Nhắc nhở học sinh đọc kỹ yêu cầu và hoàn thành bài tập cá nhân.'\u001b[0m,\n",
       "\u001b[2;32m│   │   \u001b[0m\u001b[32m'Quan sát học sinh làm bài, đi lại trong lớp để nắm bắt tình hình và kịp thời hỗ trợ.'\u001b[0m,\n",
       "\u001b[2;32m│   │   \u001b[0m\u001b[32m'Gợi ý, hỗ trợ những học sinh gặp khó khăn \u001b[0m\u001b[32m(\u001b[0m\u001b[32mví dụ: \"Em thử nhớ lại định nghĩa đường trung trực là gì?\", \"Đường phân giác có tính chất gì đặc biệt?\"\u001b[0m\u001b[32m)\u001b[0m\u001b[32m.'\u001b[0m,\n",
       "\u001b[2;32m│   │   \u001b[0m\u001b[32m'Thu phiếu bài tập sau khi hết giờ.'\u001b[0m\n",
       "\u001b[2;32m│   \u001b[0m\u001b[1m]\u001b[0m,\n",
       "\u001b[2;32m│   \u001b[0m\u001b[32m'solution_guide'\u001b[0m: \u001b[1m[\u001b[0m\n",
       "\u001b[2;32m│   │   \u001b[0m\u001b[32m'Câu 1: Hãy định nghĩa đường tròn, tâm, bán kính, dây cung, đường kính và vẽ hình minh họa một đường tròn với các yếu tố đó.'\u001b[0m,\n",
       "\u001b[2;32m│   │   \u001b[0m\u001b[32m'Câu 2: Nêu tên và đặc điểm của ba loại tam giác cơ bản \u001b[0m\u001b[32m(\u001b[0m\u001b[32mtam giác đều, tam giác cân, tam giác vuông\u001b[0m\u001b[32m)\u001b[0m\u001b[32m. Vẽ hình minh họa cho mỗi loại.'\u001b[0m,\n",
       "\u001b[2;32m│   │   \u001b[0m\u001b[32m'Câu 3: Đường trung trực của một đoạn thẳng là gì? Vẽ một đoạn thẳng AB và đường trung trực của nó.'\u001b[0m,\n",
       "\u001b[2;32m│   │   \u001b[0m\u001b[32m'Câu 4: Đường phân giác của một góc là gì? Vẽ một góc xOy và đường phân giác của góc đó.'\u001b[0m\n",
       "\u001b[2;32m│   \u001b[0m\u001b[1m]\u001b[0m\n",
       "\u001b[1m}\u001b[0m\n"
      ]
     },
     "metadata": {},
     "output_type": "display_data"
    },
    {
     "data": {
      "text/html": [
       "<pre style=\"white-space:pre;overflow-x:auto;line-height:normal;font-family:Menlo,'DejaVu Sans Mono',consolas,'Courier New',monospace\">\n",
       "<span style=\"color: #808000; text-decoration-color: #808000; font-weight: bold\">------- Hoàn thành bước: theory_synthesizer -------</span>\n",
       "</pre>\n"
      ],
      "text/plain": [
       "\n",
       "\u001b[1;33m------- Hoàn thành bước: theory_synthesizer -------\u001b[0m\n"
      ]
     },
     "metadata": {},
     "output_type": "display_data"
    },
    {
     "data": {
      "text/html": [
       "<pre style=\"white-space:pre;overflow-x:auto;line-height:normal;font-family:Menlo,'DejaVu Sans Mono',consolas,'Courier New',monospace\">\n",
       "<span style=\"color: #008080; text-decoration-color: #008080; font-weight: bold\">&gt;</span> `Agent: Contextual Critic` <span style=\"font-weight: bold\">(</span>v7.<span style=\"color: #008080; text-decoration-color: #008080; font-weight: bold\">5</span><span style=\"font-weight: bold\">)</span> đang phản biện nội dung<span style=\"color: #808000; text-decoration-color: #808000\">...</span>\n",
       "</pre>\n"
      ],
      "text/plain": [
       "\n",
       "\u001b[1;36m>\u001b[0m `Agent: Contextual Critic` \u001b[1m(\u001b[0mv7.\u001b[1;36m5\u001b[0m\u001b[1m)\u001b[0m đang phản biện nội dung\u001b[33m...\u001b[0m\n"
      ]
     },
     "metadata": {},
     "output_type": "display_data"
    },
    {
     "data": {
      "text/html": [
       "<pre style=\"white-space:pre;overflow-x:auto;line-height:normal;font-family:Menlo,'DejaVu Sans Mono',consolas,'Courier New',monospace\">\n",
       "<span style=\"color: #008080; text-decoration-color: #008080; font-weight: bold\">&gt;</span> ✔️ CHUYÊN GIA PHẢN BIỆN: Nội dung hợp lệ!\n",
       "</pre>\n"
      ],
      "text/plain": [
       "\n",
       "\u001b[1;36m>\u001b[0m ✔️ CHUYÊN GIA PHẢN BIỆN: Nội dung hợp lệ!\n"
      ]
     },
     "metadata": {},
     "output_type": "display_data"
    },
    {
     "data": {
      "text/html": [
       "<pre style=\"white-space:pre;overflow-x:auto;line-height:normal;font-family:Menlo,'DejaVu Sans Mono',consolas,'Courier New',monospace\">\n",
       "<span style=\"color: #008080; text-decoration-color: #008080; font-weight: bold\">&gt;</span> ROUTER <span style=\"font-weight: bold\">(</span>Validation<span style=\"font-weight: bold\">)</span>: Nội dung được chấp thuận. Chuyển sang bước ghi nhận.\n",
       "</pre>\n"
      ],
      "text/plain": [
       "\n",
       "\u001b[1;36m>\u001b[0m ROUTER \u001b[1m(\u001b[0mValidation\u001b[1m)\u001b[0m: Nội dung được chấp thuận. Chuyển sang bước ghi nhận.\n"
      ]
     },
     "metadata": {},
     "output_type": "display_data"
    },
    {
     "data": {
      "text/html": [
       "<pre style=\"white-space:pre;overflow-x:auto;line-height:normal;font-family:Menlo,'DejaVu Sans Mono',consolas,'Courier New',monospace\">\n",
       "<span style=\"color: #808000; text-decoration-color: #808000; font-weight: bold\">------- Hoàn thành bước: content_validator -------</span>\n",
       "</pre>\n"
      ],
      "text/plain": [
       "\n",
       "\u001b[1;33m------- Hoàn thành bước: content_validator -------\u001b[0m\n"
      ]
     },
     "metadata": {},
     "output_type": "display_data"
    },
    {
     "data": {
      "text/html": [
       "<pre style=\"white-space:pre;overflow-x:auto;line-height:normal;font-family:Menlo,'DejaVu Sans Mono',consolas,'Courier New',monospace\">\n",
       "<span style=\"color: #008080; text-decoration-color: #008080; font-weight: bold\">&gt;</span> `Commiter`: Đang ghi nhận nội dung đã được xác thực<span style=\"color: #808000; text-decoration-color: #808000\">...</span>\n",
       "</pre>\n"
      ],
      "text/plain": [
       "\n",
       "\u001b[1;36m>\u001b[0m `Commiter`: Đang ghi nhận nội dung đã được xác thực\u001b[33m...\u001b[0m\n"
      ]
     },
     "metadata": {},
     "output_type": "display_data"
    },
    {
     "data": {
      "text/html": [
       "<pre style=\"white-space:pre;overflow-x:auto;line-height:normal;font-family:Menlo,'DejaVu Sans Mono',consolas,'Courier New',monospace\">\n",
       "<span style=\"color: #808000; text-decoration-color: #808000; font-weight: bold\">------- Hoàn thành bước: commit_validated_content -------</span>\n",
       "</pre>\n"
      ],
      "text/plain": [
       "\n",
       "\u001b[1;33m------- Hoàn thành bước: commit_validated_content -------\u001b[0m\n"
      ]
     },
     "metadata": {},
     "output_type": "display_data"
    },
    {
     "data": {
      "text/html": [
       "<pre style=\"white-space:pre;overflow-x:auto;line-height:normal;font-family:Menlo,'DejaVu Sans Mono',consolas,'Courier New',monospace\">\n",
       "<span style=\"color: #808000; text-decoration-color: #808000; font-weight: bold\">------- Hoàn thành bước: mark_task_complete -------</span>\n",
       "</pre>\n"
      ],
      "text/plain": [
       "\n",
       "\u001b[1;33m------- Hoàn thành bước: mark_task_complete -------\u001b[0m\n"
      ]
     },
     "metadata": {},
     "output_type": "display_data"
    },
    {
     "data": {
      "text/html": [
       "<pre style=\"white-space:pre;overflow-x:auto;line-height:normal;font-family:Menlo,'DejaVu Sans Mono',consolas,'Courier New',monospace\">\n",
       "<span style=\"color: #008080; text-decoration-color: #008080; font-weight: bold\">&gt;</span> <span style=\"color: #808000; text-decoration-color: #808000\">...</span>Đang nghỉ <span style=\"color: #008080; text-decoration-color: #008080; font-weight: bold\">2</span> giây để tránh vượt rate limit<span style=\"color: #808000; text-decoration-color: #808000\">...</span>\n",
       "</pre>\n"
      ],
      "text/plain": [
       "\n",
       "\u001b[1;36m>\u001b[0m \u001b[33m...\u001b[0mĐang nghỉ \u001b[1;36m2\u001b[0m giây để tránh vượt rate limit\u001b[33m...\u001b[0m\n"
      ]
     },
     "metadata": {},
     "output_type": "display_data"
    },
    {
     "data": {
      "text/html": [
       "<pre style=\"white-space:pre;overflow-x:auto;line-height:normal;font-family:Menlo,'DejaVu Sans Mono',consolas,'Courier New',monospace\">\n",
       "<span style=\"color: #808000; text-decoration-color: #808000; font-weight: bold\">------- Hoàn thành bước: delay_node -------</span>\n",
       "</pre>\n"
      ],
      "text/plain": [
       "\n",
       "\u001b[1;33m------- Hoàn thành bước: delay_node -------\u001b[0m\n"
      ]
     },
     "metadata": {},
     "output_type": "display_data"
    },
    {
     "data": {
      "text/html": [
       "<pre style=\"white-space:pre;overflow-x:auto;line-height:normal;font-family:Menlo,'DejaVu Sans Mono',consolas,'Courier New',monospace\">\n",
       "<span style=\"color: #008080; text-decoration-color: #008080; font-weight: bold\">&gt;</span> `Router`: Đang kiểm tra nhiệm vụ<span style=\"color: #808000; text-decoration-color: #808000\">...</span>\n",
       "</pre>\n"
      ],
      "text/plain": [
       "\n",
       "\u001b[1;36m>\u001b[0m `Router`: Đang kiểm tra nhiệm vụ\u001b[33m...\u001b[0m\n"
      ]
     },
     "metadata": {},
     "output_type": "display_data"
    },
    {
     "data": {
      "text/html": [
       "<pre style=\"white-space:pre;overflow-x:auto;line-height:normal;font-family:Menlo,'DejaVu Sans Mono',consolas,'Courier New',monospace\">\n",
       "<span style=\"color: #008080; text-decoration-color: #008080; font-weight: bold\">&gt;</span> Nhiệm vụ tiếp theo: <span style=\"color: #008000; text-decoration-color: #008000\">'Khám phá và định nghĩa Đường tròn ngoại tiếp'</span> <span style=\"font-weight: bold\">(</span>ID: <span style=\"color: #008080; text-decoration-color: #008080; font-weight: bold\">1</span><span style=\"font-weight: bold\">)</span>\n",
       "</pre>\n"
      ],
      "text/plain": [
       "\n",
       "\u001b[1;36m>\u001b[0m Nhiệm vụ tiếp theo: \u001b[32m'Khám phá và định nghĩa Đường tròn ngoại tiếp'\u001b[0m \u001b[1m(\u001b[0mID: \u001b[1;36m1\u001b[0m\u001b[1m)\u001b[0m\n"
      ]
     },
     "metadata": {},
     "output_type": "display_data"
    },
    {
     "data": {
      "text/html": [
       "<pre style=\"white-space:pre;overflow-x:auto;line-height:normal;font-family:Menlo,'DejaVu Sans Mono',consolas,'Courier New',monospace\">\n",
       "<span style=\"color: #808000; text-decoration-color: #808000; font-weight: bold\">------- Hoàn thành bước: task_router -------</span>\n",
       "</pre>\n"
      ],
      "text/plain": [
       "\n",
       "\u001b[1;33m------- Hoàn thành bước: task_router -------\u001b[0m\n"
      ]
     },
     "metadata": {},
     "output_type": "display_data"
    },
    {
     "data": {
      "text/html": [
       "<pre style=\"white-space:pre;overflow-x:auto;line-height:normal;font-family:Menlo,'DejaVu Sans Mono',consolas,'Courier New',monospace\">\n",
       "<span style=\"color: #008080; text-decoration-color: #008080; font-weight: bold\">&gt;</span> `Agent: Task Dispatcher` <span style=\"font-weight: bold\">(</span>v7.<span style=\"color: #008080; text-decoration-color: #008080; font-weight: bold\">1</span><span style=\"font-weight: bold\">)</span> Bắt đầu<span style=\"color: #808000; text-decoration-color: #808000\">...</span>\n",
       "</pre>\n"
      ],
      "text/plain": [
       "\n",
       "\u001b[1;36m>\u001b[0m `Agent: Task Dispatcher` \u001b[1m(\u001b[0mv7.\u001b[1;36m1\u001b[0m\u001b[1m)\u001b[0m Bắt đầu\u001b[33m...\u001b[0m\n"
      ]
     },
     "metadata": {},
     "output_type": "display_data"
    },
    {
     "data": {
      "text/html": [
       "<pre style=\"white-space:pre;overflow-x:auto;line-height:normal;font-family:Menlo,'DejaVu Sans Mono',consolas,'Courier New',monospace\">\n",
       "<span style=\"color: #008080; text-decoration-color: #008080; font-weight: bold\">&gt;</span> --- 🚚 `Dispatcher`: Giao nhiệm vụ cho `activity_designer`.\n",
       "</pre>\n"
      ],
      "text/plain": [
       "\n",
       "\u001b[1;36m>\u001b[0m --- 🚚 `Dispatcher`: Giao nhiệm vụ cho `activity_designer`.\n"
      ]
     },
     "metadata": {},
     "output_type": "display_data"
    },
    {
     "data": {
      "text/html": [
       "<pre style=\"white-space:pre;overflow-x:auto;line-height:normal;font-family:Menlo,'DejaVu Sans Mono',consolas,'Courier New',monospace\">\n",
       "<span style=\"color: #808000; text-decoration-color: #808000; font-weight: bold\">------- Hoàn thành bước: task_dispatcher -------</span>\n",
       "</pre>\n"
      ],
      "text/plain": [
       "\n",
       "\u001b[1;33m------- Hoàn thành bước: task_dispatcher -------\u001b[0m\n"
      ]
     },
     "metadata": {},
     "output_type": "display_data"
    },
    {
     "data": {
      "text/html": [
       "<pre style=\"white-space:pre;overflow-x:auto;line-height:normal;font-family:Menlo,'DejaVu Sans Mono',consolas,'Courier New',monospace\">\n",
       "<span style=\"color: #008080; text-decoration-color: #008080; font-weight: bold\">&gt;</span> `Agent: Activity Designer` <span style=\"font-weight: bold\">(</span>v8.<span style=\"color: #008080; text-decoration-color: #008080; font-weight: bold\">0</span><span style=\"font-weight: bold\">)</span> đang tạo nội dung chi tiết<span style=\"color: #808000; text-decoration-color: #808000\">...</span>\n",
       "</pre>\n"
      ],
      "text/plain": [
       "\n",
       "\u001b[1;36m>\u001b[0m `Agent: Activity Designer` \u001b[1m(\u001b[0mv8.\u001b[1;36m0\u001b[0m\u001b[1m)\u001b[0m đang tạo nội dung chi tiết\u001b[33m...\u001b[0m\n"
      ]
     },
     "metadata": {},
     "output_type": "display_data"
    },
    {
     "data": {
      "text/html": [
       "<pre style=\"white-space:pre;overflow-x:auto;line-height:normal;font-family:Menlo,'DejaVu Sans Mono',consolas,'Courier New',monospace\"><span style=\"color: #008000; text-decoration-color: #008000; font-weight: bold\">✔️ Nội dung do Activity Designer tạo ra:</span>\n",
       "</pre>\n"
      ],
      "text/plain": [
       "\u001b[1;32m✔️ Nội dung do Activity Designer tạo ra:\u001b[0m\n"
      ]
     },
     "metadata": {},
     "output_type": "display_data"
    },
    {
     "data": {
      "text/html": [
       "<pre style=\"white-space:pre;overflow-x:auto;line-height:normal;font-family:Menlo,'DejaVu Sans Mono',consolas,'Courier New',monospace\"><span style=\"font-weight: bold\">{</span>\n",
       "<span style=\"color: #7fbf7f; text-decoration-color: #7fbf7f\">│   </span><span style=\"color: #008000; text-decoration-color: #008000\">'activity_name'</span>: <span style=\"color: #008000; text-decoration-color: #008000\">'Khám phá và định nghĩa Đường tròn ngoại tiếp'</span>,\n",
       "<span style=\"color: #7fbf7f; text-decoration-color: #7fbf7f\">│   </span><span style=\"color: #008000; text-decoration-color: #008000\">'description'</span>: <span style=\"color: #008000; text-decoration-color: #008000\">'Học sinh thực hiện các bước sau:\\n1. Vẽ một tam giác bất kỳ (ví dụ: tam giác ABC) vào vở hoặc giấy A4.\\n2. Dùng thước và compa để vẽ ba đường trung trực của ba cạnh của tam giác đó.\\n3. Xác định giao điểm của ba đường trung trực. Gọi điểm đó là O.\\n4. Dùng compa vẽ đường tròn tâm O đi qua ba đỉnh của tam giác.\\n5. Thảo luận nhóm (2-3 học sinh) để nêu định nghĩa đường tròn ngoại tiếp tam giác và các tính chất cơ bản của nó (ví dụ: vị trí của tâm đường tròn ngoại tiếp đối với các loại tam giác nhọn, vuông, tù).'</span>,\n",
       "<span style=\"color: #7fbf7f; text-decoration-color: #7fbf7f\">│   </span><span style=\"color: #008000; text-decoration-color: #008000\">'duration_minutes'</span>: <span style=\"color: #008080; text-decoration-color: #008080; font-weight: bold\">25</span>,\n",
       "<span style=\"color: #7fbf7f; text-decoration-color: #7fbf7f\">│   </span><span style=\"color: #008000; text-decoration-color: #008000\">'activity_type'</span>: <span style=\"color: #008000; text-decoration-color: #008000\">'Hoạt động thực hành và khám phá'</span>,\n",
       "<span style=\"color: #7fbf7f; text-decoration-color: #7fbf7f\">│   </span><span style=\"color: #008000; text-decoration-color: #008000\">'teacher_actions'</span>: <span style=\"font-weight: bold\">[</span>\n",
       "<span style=\"color: #7fbf7f; text-decoration-color: #7fbf7f\">│   │   </span><span style=\"color: #008000; text-decoration-color: #008000\">'Phát giấy A4 và yêu cầu học sinh chuẩn bị thước, compa.'</span>,\n",
       "<span style=\"color: #7fbf7f; text-decoration-color: #7fbf7f\">│   │   </span><span style=\"color: #008000; text-decoration-color: #008000\">'Chiếu slide hướng dẫn các bước vẽ hình (vẽ tam giác, vẽ đường trung trực, xác định giao điểm, vẽ đường tròn).'</span>,\n",
       "<span style=\"color: #7fbf7f; text-decoration-color: #7fbf7f\">│   │   </span><span style=\"color: #008000; text-decoration-color: #008000\">'Đi lại quan sát các nhóm thực hiện, kịp thời hỗ trợ những học sinh gặp khó khăn trong việc vẽ đường trung trực và xác định tâm.'</span>,\n",
       "<span style=\"color: #7fbf7f; text-decoration-color: #7fbf7f\">│   │   </span><span style=\"color: #008000; text-decoration-color: #008000\">\"Gợi ý các câu hỏi để học sinh thảo luận và rút ra định nghĩa, tính chất (sử dụng các câu hỏi trong phần 'solution_guide').\"</span>,\n",
       "<span style=\"color: #7fbf7f; text-decoration-color: #7fbf7f\">│   │   </span><span style=\"color: #008000; text-decoration-color: #008000\">'Yêu cầu đại diện một số nhóm trình bày kết quả vẽ hình và định nghĩa, tính chất đã rút ra.'</span>,\n",
       "<span style=\"color: #7fbf7f; text-decoration-color: #7fbf7f\">│   │   </span><span style=\"color: #008000; text-decoration-color: #008000\">'Chốt lại định nghĩa và các tính chất quan trọng của đường tròn ngoại tiếp tam giác.'</span>\n",
       "<span style=\"color: #7fbf7f; text-decoration-color: #7fbf7f\">│   </span><span style=\"font-weight: bold\">]</span>,\n",
       "<span style=\"color: #7fbf7f; text-decoration-color: #7fbf7f\">│   </span><span style=\"color: #008000; text-decoration-color: #008000\">'solution_guide'</span>: <span style=\"font-weight: bold\">[</span>\n",
       "<span style=\"color: #7fbf7f; text-decoration-color: #7fbf7f\">│   │   </span><span style=\"color: #008000; text-decoration-color: #008000\">'Giao điểm của ba đường trung trực có vị trí đặc biệt gì so với ba đỉnh của tam giác?'</span>,\n",
       "<span style=\"color: #7fbf7f; text-decoration-color: #7fbf7f\">│   │   </span><span style=\"color: #008000; text-decoration-color: #008000\">'Đường tròn vừa vẽ có đặc điểm gì liên quan đến tam giác?'</span>,\n",
       "<span style=\"color: #7fbf7f; text-decoration-color: #7fbf7f\">│   │   </span><span style=\"color: #008000; text-decoration-color: #008000\">'Từ đó, em hãy định nghĩa đường tròn ngoại tiếp tam giác.'</span>,\n",
       "<span style=\"color: #7fbf7f; text-decoration-color: #7fbf7f\">│   │   </span><span style=\"color: #008000; text-decoration-color: #008000\">'Tâm của đường tròn ngoại tiếp nằm ở đâu đối với các loại tam giác khác nhau (tam giác nhọn, tam giác vuông, tam giác tù)?'</span>\n",
       "<span style=\"color: #7fbf7f; text-decoration-color: #7fbf7f\">│   </span><span style=\"font-weight: bold\">]</span>\n",
       "<span style=\"font-weight: bold\">}</span>\n",
       "</pre>\n"
      ],
      "text/plain": [
       "\u001b[1m{\u001b[0m\n",
       "\u001b[2;32m│   \u001b[0m\u001b[32m'activity_name'\u001b[0m: \u001b[32m'Khám phá và định nghĩa Đường tròn ngoại tiếp'\u001b[0m,\n",
       "\u001b[2;32m│   \u001b[0m\u001b[32m'description'\u001b[0m: \u001b[32m'Học sinh thực hiện các bước sau:\\n1. Vẽ một tam giác bất kỳ \u001b[0m\u001b[32m(\u001b[0m\u001b[32mví dụ: tam giác ABC\u001b[0m\u001b[32m)\u001b[0m\u001b[32m vào vở hoặc giấy A4.\\n2. Dùng thước và compa để vẽ ba đường trung trực của ba cạnh của tam giác đó.\\n3. Xác định giao điểm của ba đường trung trực. Gọi điểm đó là O.\\n4. Dùng compa vẽ đường tròn tâm O đi qua ba đỉnh của tam giác.\\n5. Thảo luận nhóm \u001b[0m\u001b[32m(\u001b[0m\u001b[32m2-3 học sinh\u001b[0m\u001b[32m)\u001b[0m\u001b[32m để nêu định nghĩa đường tròn ngoại tiếp tam giác và các tính chất cơ bản của nó \u001b[0m\u001b[32m(\u001b[0m\u001b[32mví dụ: vị trí của tâm đường tròn ngoại tiếp đối với các loại tam giác nhọn, vuông, tù\u001b[0m\u001b[32m)\u001b[0m\u001b[32m.'\u001b[0m,\n",
       "\u001b[2;32m│   \u001b[0m\u001b[32m'duration_minutes'\u001b[0m: \u001b[1;36m25\u001b[0m,\n",
       "\u001b[2;32m│   \u001b[0m\u001b[32m'activity_type'\u001b[0m: \u001b[32m'Hoạt động thực hành và khám phá'\u001b[0m,\n",
       "\u001b[2;32m│   \u001b[0m\u001b[32m'teacher_actions'\u001b[0m: \u001b[1m[\u001b[0m\n",
       "\u001b[2;32m│   │   \u001b[0m\u001b[32m'Phát giấy A4 và yêu cầu học sinh chuẩn bị thước, compa.'\u001b[0m,\n",
       "\u001b[2;32m│   │   \u001b[0m\u001b[32m'Chiếu slide hướng dẫn các bước vẽ hình \u001b[0m\u001b[32m(\u001b[0m\u001b[32mvẽ tam giác, vẽ đường trung trực, xác định giao điểm, vẽ đường tròn\u001b[0m\u001b[32m)\u001b[0m\u001b[32m.'\u001b[0m,\n",
       "\u001b[2;32m│   │   \u001b[0m\u001b[32m'Đi lại quan sát các nhóm thực hiện, kịp thời hỗ trợ những học sinh gặp khó khăn trong việc vẽ đường trung trực và xác định tâm.'\u001b[0m,\n",
       "\u001b[2;32m│   │   \u001b[0m\u001b[32m\"Gợi ý các câu hỏi để học sinh thảo luận và rút ra định nghĩa, tính chất \u001b[0m\u001b[32m(\u001b[0m\u001b[32msử dụng các câu hỏi trong phần 'solution_guide'\u001b[0m\u001b[32m)\u001b[0m\u001b[32m.\"\u001b[0m,\n",
       "\u001b[2;32m│   │   \u001b[0m\u001b[32m'Yêu cầu đại diện một số nhóm trình bày kết quả vẽ hình và định nghĩa, tính chất đã rút ra.'\u001b[0m,\n",
       "\u001b[2;32m│   │   \u001b[0m\u001b[32m'Chốt lại định nghĩa và các tính chất quan trọng của đường tròn ngoại tiếp tam giác.'\u001b[0m\n",
       "\u001b[2;32m│   \u001b[0m\u001b[1m]\u001b[0m,\n",
       "\u001b[2;32m│   \u001b[0m\u001b[32m'solution_guide'\u001b[0m: \u001b[1m[\u001b[0m\n",
       "\u001b[2;32m│   │   \u001b[0m\u001b[32m'Giao điểm của ba đường trung trực có vị trí đặc biệt gì so với ba đỉnh của tam giác?'\u001b[0m,\n",
       "\u001b[2;32m│   │   \u001b[0m\u001b[32m'Đường tròn vừa vẽ có đặc điểm gì liên quan đến tam giác?'\u001b[0m,\n",
       "\u001b[2;32m│   │   \u001b[0m\u001b[32m'Từ đó, em hãy định nghĩa đường tròn ngoại tiếp tam giác.'\u001b[0m,\n",
       "\u001b[2;32m│   │   \u001b[0m\u001b[32m'Tâm của đường tròn ngoại tiếp nằm ở đâu đối với các loại tam giác khác nhau \u001b[0m\u001b[32m(\u001b[0m\u001b[32mtam giác nhọn, tam giác vuông, tam giác tù\u001b[0m\u001b[32m)\u001b[0m\u001b[32m?'\u001b[0m\n",
       "\u001b[2;32m│   \u001b[0m\u001b[1m]\u001b[0m\n",
       "\u001b[1m}\u001b[0m\n"
      ]
     },
     "metadata": {},
     "output_type": "display_data"
    },
    {
     "data": {
      "text/html": [
       "<pre style=\"white-space:pre;overflow-x:auto;line-height:normal;font-family:Menlo,'DejaVu Sans Mono',consolas,'Courier New',monospace\">\n",
       "<span style=\"color: #808000; text-decoration-color: #808000; font-weight: bold\">------- Hoàn thành bước: activity_designer -------</span>\n",
       "</pre>\n"
      ],
      "text/plain": [
       "\n",
       "\u001b[1;33m------- Hoàn thành bước: activity_designer -------\u001b[0m\n"
      ]
     },
     "metadata": {},
     "output_type": "display_data"
    },
    {
     "data": {
      "text/html": [
       "<pre style=\"white-space:pre;overflow-x:auto;line-height:normal;font-family:Menlo,'DejaVu Sans Mono',consolas,'Courier New',monospace\">\n",
       "<span style=\"color: #008080; text-decoration-color: #008080; font-weight: bold\">&gt;</span> `Agent: Contextual Critic` <span style=\"font-weight: bold\">(</span>v7.<span style=\"color: #008080; text-decoration-color: #008080; font-weight: bold\">5</span><span style=\"font-weight: bold\">)</span> đang phản biện nội dung<span style=\"color: #808000; text-decoration-color: #808000\">...</span>\n",
       "</pre>\n"
      ],
      "text/plain": [
       "\n",
       "\u001b[1;36m>\u001b[0m `Agent: Contextual Critic` \u001b[1m(\u001b[0mv7.\u001b[1;36m5\u001b[0m\u001b[1m)\u001b[0m đang phản biện nội dung\u001b[33m...\u001b[0m\n"
      ]
     },
     "metadata": {},
     "output_type": "display_data"
    },
    {
     "data": {
      "text/html": [
       "<pre style=\"white-space:pre;overflow-x:auto;line-height:normal;font-family:Menlo,'DejaVu Sans Mono',consolas,'Courier New',monospace\">\n",
       "<span style=\"color: #008080; text-decoration-color: #008080; font-weight: bold\">&gt;</span> ✔️ CHUYÊN GIA PHẢN BIỆN: Nội dung hợp lệ!\n",
       "</pre>\n"
      ],
      "text/plain": [
       "\n",
       "\u001b[1;36m>\u001b[0m ✔️ CHUYÊN GIA PHẢN BIỆN: Nội dung hợp lệ!\n"
      ]
     },
     "metadata": {},
     "output_type": "display_data"
    },
    {
     "data": {
      "text/html": [
       "<pre style=\"white-space:pre;overflow-x:auto;line-height:normal;font-family:Menlo,'DejaVu Sans Mono',consolas,'Courier New',monospace\">\n",
       "<span style=\"color: #008080; text-decoration-color: #008080; font-weight: bold\">&gt;</span> ROUTER <span style=\"font-weight: bold\">(</span>Validation<span style=\"font-weight: bold\">)</span>: Nội dung được chấp thuận. Chuyển sang bước ghi nhận.\n",
       "</pre>\n"
      ],
      "text/plain": [
       "\n",
       "\u001b[1;36m>\u001b[0m ROUTER \u001b[1m(\u001b[0mValidation\u001b[1m)\u001b[0m: Nội dung được chấp thuận. Chuyển sang bước ghi nhận.\n"
      ]
     },
     "metadata": {},
     "output_type": "display_data"
    },
    {
     "data": {
      "text/html": [
       "<pre style=\"white-space:pre;overflow-x:auto;line-height:normal;font-family:Menlo,'DejaVu Sans Mono',consolas,'Courier New',monospace\">\n",
       "<span style=\"color: #808000; text-decoration-color: #808000; font-weight: bold\">------- Hoàn thành bước: content_validator -------</span>\n",
       "</pre>\n"
      ],
      "text/plain": [
       "\n",
       "\u001b[1;33m------- Hoàn thành bước: content_validator -------\u001b[0m\n"
      ]
     },
     "metadata": {},
     "output_type": "display_data"
    },
    {
     "data": {
      "text/html": [
       "<pre style=\"white-space:pre;overflow-x:auto;line-height:normal;font-family:Menlo,'DejaVu Sans Mono',consolas,'Courier New',monospace\">\n",
       "<span style=\"color: #008080; text-decoration-color: #008080; font-weight: bold\">&gt;</span> `Commiter`: Đang ghi nhận nội dung đã được xác thực<span style=\"color: #808000; text-decoration-color: #808000\">...</span>\n",
       "</pre>\n"
      ],
      "text/plain": [
       "\n",
       "\u001b[1;36m>\u001b[0m `Commiter`: Đang ghi nhận nội dung đã được xác thực\u001b[33m...\u001b[0m\n"
      ]
     },
     "metadata": {},
     "output_type": "display_data"
    },
    {
     "data": {
      "text/html": [
       "<pre style=\"white-space:pre;overflow-x:auto;line-height:normal;font-family:Menlo,'DejaVu Sans Mono',consolas,'Courier New',monospace\">\n",
       "<span style=\"color: #808000; text-decoration-color: #808000; font-weight: bold\">------- Hoàn thành bước: commit_validated_content -------</span>\n",
       "</pre>\n"
      ],
      "text/plain": [
       "\n",
       "\u001b[1;33m------- Hoàn thành bước: commit_validated_content -------\u001b[0m\n"
      ]
     },
     "metadata": {},
     "output_type": "display_data"
    },
    {
     "data": {
      "text/html": [
       "<pre style=\"white-space:pre;overflow-x:auto;line-height:normal;font-family:Menlo,'DejaVu Sans Mono',consolas,'Courier New',monospace\">\n",
       "<span style=\"color: #808000; text-decoration-color: #808000; font-weight: bold\">------- Hoàn thành bước: mark_task_complete -------</span>\n",
       "</pre>\n"
      ],
      "text/plain": [
       "\n",
       "\u001b[1;33m------- Hoàn thành bước: mark_task_complete -------\u001b[0m\n"
      ]
     },
     "metadata": {},
     "output_type": "display_data"
    },
    {
     "data": {
      "text/html": [
       "<pre style=\"white-space:pre;overflow-x:auto;line-height:normal;font-family:Menlo,'DejaVu Sans Mono',consolas,'Courier New',monospace\">\n",
       "<span style=\"color: #008080; text-decoration-color: #008080; font-weight: bold\">&gt;</span> <span style=\"color: #808000; text-decoration-color: #808000\">...</span>Đang nghỉ <span style=\"color: #008080; text-decoration-color: #008080; font-weight: bold\">2</span> giây để tránh vượt rate limit<span style=\"color: #808000; text-decoration-color: #808000\">...</span>\n",
       "</pre>\n"
      ],
      "text/plain": [
       "\n",
       "\u001b[1;36m>\u001b[0m \u001b[33m...\u001b[0mĐang nghỉ \u001b[1;36m2\u001b[0m giây để tránh vượt rate limit\u001b[33m...\u001b[0m\n"
      ]
     },
     "metadata": {},
     "output_type": "display_data"
    },
    {
     "data": {
      "text/html": [
       "<pre style=\"white-space:pre;overflow-x:auto;line-height:normal;font-family:Menlo,'DejaVu Sans Mono',consolas,'Courier New',monospace\">\n",
       "<span style=\"color: #808000; text-decoration-color: #808000; font-weight: bold\">------- Hoàn thành bước: delay_node -------</span>\n",
       "</pre>\n"
      ],
      "text/plain": [
       "\n",
       "\u001b[1;33m------- Hoàn thành bước: delay_node -------\u001b[0m\n"
      ]
     },
     "metadata": {},
     "output_type": "display_data"
    },
    {
     "data": {
      "text/html": [
       "<pre style=\"white-space:pre;overflow-x:auto;line-height:normal;font-family:Menlo,'DejaVu Sans Mono',consolas,'Courier New',monospace\">\n",
       "<span style=\"color: #008080; text-decoration-color: #008080; font-weight: bold\">&gt;</span> `Router`: Đang kiểm tra nhiệm vụ<span style=\"color: #808000; text-decoration-color: #808000\">...</span>\n",
       "</pre>\n"
      ],
      "text/plain": [
       "\n",
       "\u001b[1;36m>\u001b[0m `Router`: Đang kiểm tra nhiệm vụ\u001b[33m...\u001b[0m\n"
      ]
     },
     "metadata": {},
     "output_type": "display_data"
    },
    {
     "data": {
      "text/html": [
       "<pre style=\"white-space:pre;overflow-x:auto;line-height:normal;font-family:Menlo,'DejaVu Sans Mono',consolas,'Courier New',monospace\">\n",
       "<span style=\"color: #008080; text-decoration-color: #008080; font-weight: bold\">&gt;</span> Nhiệm vụ tiếp theo: <span style=\"color: #008000; text-decoration-color: #008000\">'Vận dụng kiến thức về Đường tròn ngoại tiếp'</span> <span style=\"font-weight: bold\">(</span>ID: <span style=\"color: #008080; text-decoration-color: #008080; font-weight: bold\">2</span><span style=\"font-weight: bold\">)</span>\n",
       "</pre>\n"
      ],
      "text/plain": [
       "\n",
       "\u001b[1;36m>\u001b[0m Nhiệm vụ tiếp theo: \u001b[32m'Vận dụng kiến thức về Đường tròn ngoại tiếp'\u001b[0m \u001b[1m(\u001b[0mID: \u001b[1;36m2\u001b[0m\u001b[1m)\u001b[0m\n"
      ]
     },
     "metadata": {},
     "output_type": "display_data"
    },
    {
     "data": {
      "text/html": [
       "<pre style=\"white-space:pre;overflow-x:auto;line-height:normal;font-family:Menlo,'DejaVu Sans Mono',consolas,'Courier New',monospace\">\n",
       "<span style=\"color: #808000; text-decoration-color: #808000; font-weight: bold\">------- Hoàn thành bước: task_router -------</span>\n",
       "</pre>\n"
      ],
      "text/plain": [
       "\n",
       "\u001b[1;33m------- Hoàn thành bước: task_router -------\u001b[0m\n"
      ]
     },
     "metadata": {},
     "output_type": "display_data"
    },
    {
     "data": {
      "text/html": [
       "<pre style=\"white-space:pre;overflow-x:auto;line-height:normal;font-family:Menlo,'DejaVu Sans Mono',consolas,'Courier New',monospace\">\n",
       "<span style=\"color: #008080; text-decoration-color: #008080; font-weight: bold\">&gt;</span> `Agent: Task Dispatcher` <span style=\"font-weight: bold\">(</span>v7.<span style=\"color: #008080; text-decoration-color: #008080; font-weight: bold\">1</span><span style=\"font-weight: bold\">)</span> Bắt đầu<span style=\"color: #808000; text-decoration-color: #808000\">...</span>\n",
       "</pre>\n"
      ],
      "text/plain": [
       "\n",
       "\u001b[1;36m>\u001b[0m `Agent: Task Dispatcher` \u001b[1m(\u001b[0mv7.\u001b[1;36m1\u001b[0m\u001b[1m)\u001b[0m Bắt đầu\u001b[33m...\u001b[0m\n"
      ]
     },
     "metadata": {},
     "output_type": "display_data"
    },
    {
     "data": {
      "text/html": [
       "<pre style=\"white-space:pre;overflow-x:auto;line-height:normal;font-family:Menlo,'DejaVu Sans Mono',consolas,'Courier New',monospace\">\n",
       "<span style=\"color: #008080; text-decoration-color: #008080; font-weight: bold\">&gt;</span> --- 🚚 `Dispatcher`: Giao nhiệm vụ cho `activity_designer`.\n",
       "</pre>\n"
      ],
      "text/plain": [
       "\n",
       "\u001b[1;36m>\u001b[0m --- 🚚 `Dispatcher`: Giao nhiệm vụ cho `activity_designer`.\n"
      ]
     },
     "metadata": {},
     "output_type": "display_data"
    },
    {
     "data": {
      "text/html": [
       "<pre style=\"white-space:pre;overflow-x:auto;line-height:normal;font-family:Menlo,'DejaVu Sans Mono',consolas,'Courier New',monospace\">\n",
       "<span style=\"color: #808000; text-decoration-color: #808000; font-weight: bold\">------- Hoàn thành bước: task_dispatcher -------</span>\n",
       "</pre>\n"
      ],
      "text/plain": [
       "\n",
       "\u001b[1;33m------- Hoàn thành bước: task_dispatcher -------\u001b[0m\n"
      ]
     },
     "metadata": {},
     "output_type": "display_data"
    },
    {
     "data": {
      "text/html": [
       "<pre style=\"white-space:pre;overflow-x:auto;line-height:normal;font-family:Menlo,'DejaVu Sans Mono',consolas,'Courier New',monospace\">\n",
       "<span style=\"color: #008080; text-decoration-color: #008080; font-weight: bold\">&gt;</span> `Agent: Activity Designer` <span style=\"font-weight: bold\">(</span>v8.<span style=\"color: #008080; text-decoration-color: #008080; font-weight: bold\">0</span><span style=\"font-weight: bold\">)</span> đang tạo nội dung chi tiết<span style=\"color: #808000; text-decoration-color: #808000\">...</span>\n",
       "</pre>\n"
      ],
      "text/plain": [
       "\n",
       "\u001b[1;36m>\u001b[0m `Agent: Activity Designer` \u001b[1m(\u001b[0mv8.\u001b[1;36m0\u001b[0m\u001b[1m)\u001b[0m đang tạo nội dung chi tiết\u001b[33m...\u001b[0m\n"
      ]
     },
     "metadata": {},
     "output_type": "display_data"
    },
    {
     "data": {
      "text/html": [
       "<pre style=\"white-space:pre;overflow-x:auto;line-height:normal;font-family:Menlo,'DejaVu Sans Mono',consolas,'Courier New',monospace\"><span style=\"color: #008000; text-decoration-color: #008000; font-weight: bold\">✔️ Nội dung do Activity Designer tạo ra:</span>\n",
       "</pre>\n"
      ],
      "text/plain": [
       "\u001b[1;32m✔️ Nội dung do Activity Designer tạo ra:\u001b[0m\n"
      ]
     },
     "metadata": {},
     "output_type": "display_data"
    },
    {
     "data": {
      "text/html": [
       "<pre style=\"white-space:pre;overflow-x:auto;line-height:normal;font-family:Menlo,'DejaVu Sans Mono',consolas,'Courier New',monospace\"><span style=\"font-weight: bold\">{</span>\n",
       "<span style=\"color: #7fbf7f; text-decoration-color: #7fbf7f\">│   </span><span style=\"color: #008000; text-decoration-color: #008000\">'activity_name'</span>: <span style=\"color: #008000; text-decoration-color: #008000\">'Vận dụng kiến thức về Đường tròn ngoại tiếp'</span>,\n",
       "<span style=\"color: #7fbf7f; text-decoration-color: #7fbf7f\">│   </span><span style=\"color: #008000; text-decoration-color: #008000\">'description'</span>: <span style=\"color: #008000; text-decoration-color: #008000\">'Học sinh sẽ giải các bài tập thực hành để củng cố kiến thức về đường tròn ngoại tiếp. Các bài tập bao gồm:\\n\\nBài 1: Cho tam giác ABC vuông tại A có AB = 6cm, AC = 8cm. Hãy xác định tâm và tính bán kính đường tròn ngoại tiếp tam giác ABC.\\n\\nBài 2: Cho tam giác đều ABC cạnh 6cm. Hãy xác định tâm và tính bán kính đường tròn ngoại tiếp tam giác ABC.\\n\\nBài 3: Cho tứ giác ABCD nội tiếp đường tròn. Biết góc A = 75 độ, góc B = 100 độ. Hãy tính số đo góc C và góc D.'</span>,\n",
       "<span style=\"color: #7fbf7f; text-decoration-color: #7fbf7f\">│   </span><span style=\"color: #008000; text-decoration-color: #008000\">'duration_minutes'</span>: <span style=\"color: #008080; text-decoration-color: #008080; font-weight: bold\">20</span>,\n",
       "<span style=\"color: #7fbf7f; text-decoration-color: #7fbf7f\">│   </span><span style=\"color: #008000; text-decoration-color: #008000\">'activity_type'</span>: <span style=\"color: #008000; text-decoration-color: #008000\">'Luyện tập'</span>,\n",
       "<span style=\"color: #7fbf7f; text-decoration-color: #7fbf7f\">│   </span><span style=\"color: #008000; text-decoration-color: #008000\">'teacher_actions'</span>: <span style=\"font-weight: bold\">[</span>\n",
       "<span style=\"color: #7fbf7f; text-decoration-color: #7fbf7f\">│   │   </span><span style=\"color: #008000; text-decoration-color: #008000\">'Chiếu đề bài tập lên màn hình hoặc phát phiếu bài tập cho học sinh.'</span>,\n",
       "<span style=\"color: #7fbf7f; text-decoration-color: #7fbf7f\">│   │   </span><span style=\"color: #008000; text-decoration-color: #008000\">'Nhắc lại ngắn gọn các kiến thức trọng tâm về tâm đường tròn ngoại tiếp của tam giác vuông, tam giác đều và tính chất góc của tứ giác nội tiếp.'</span>,\n",
       "<span style=\"color: #7fbf7f; text-decoration-color: #7fbf7f\">│   │   </span><span style=\"color: #008000; text-decoration-color: #008000\">'Quan sát học sinh làm bài, đi lại trong lớp để nắm bắt tình hình và kịp thời hỗ trợ.'</span>,\n",
       "<span style=\"color: #7fbf7f; text-decoration-color: #7fbf7f\">│   │   </span><span style=\"color: #008000; text-decoration-color: #008000\">\"Gợi ý, đặt câu hỏi dẫn dắt khi học sinh gặp khó khăn (ví dụ: 'Tâm đường tròn ngoại tiếp tam giác vuông nằm ở đâu?', 'Tính chất góc của tứ giác nội tiếp là gì?').\"</span>,\n",
       "<span style=\"color: #7fbf7f; text-decoration-color: #7fbf7f\">│   │   </span><span style=\"color: #008000; text-decoration-color: #008000\">'Gọi 2-3 học sinh lên bảng trình bày lời giải các bài tập.'</span>,\n",
       "<span style=\"color: #7fbf7f; text-decoration-color: #7fbf7f\">│   │   </span><span style=\"color: #008000; text-decoration-color: #008000\">'Chữa bài tập và chốt lại các kiến thức quan trọng sau khi học sinh đã hoàn thành.'</span>\n",
       "<span style=\"color: #7fbf7f; text-decoration-color: #7fbf7f\">│   </span><span style=\"font-weight: bold\">]</span>,\n",
       "<span style=\"color: #7fbf7f; text-decoration-color: #7fbf7f\">│   </span><span style=\"color: #008000; text-decoration-color: #008000\">'solution_guide'</span>: <span style=\"font-weight: bold\">[</span>\n",
       "<span style=\"color: #7fbf7f; text-decoration-color: #7fbf7f\">│   │   </span><span style=\"color: #008000; text-decoration-color: #008000\">'Bài 1: Tâm đường tròn ngoại tiếp tam giác vuông là trung điểm cạnh huyền. Bán kính bằng nửa cạnh huyền. (Cạnh huyền BC = 10cm, R = 5cm).'</span>,\n",
       "<span style=\"color: #7fbf7f; text-decoration-color: #7fbf7f\">│   │   </span><span style=\"color: #008000; text-decoration-color: #008000\">'Bài 2: Tâm đường tròn ngoại tiếp tam giác đều là giao điểm của ba đường trung trực (cũng là trọng tâm, trực tâm, tâm đường tròn nội tiếp). Bán kính R = a/√3 (với a là cạnh tam giác). (R = 6/√3 = 2√3 cm).'</span>,\n",
       "<span style=\"color: #7fbf7f; text-decoration-color: #7fbf7f\">│   │   </span><span style=\"color: #008000; text-decoration-color: #008000\">'Bài 3: Trong tứ giác nội tiếp, tổng hai góc đối diện bằng 180 độ. (Góc C = 180 - 75 = 105 độ; Góc D = 180 - 100 = 80 độ).'</span>\n",
       "<span style=\"color: #7fbf7f; text-decoration-color: #7fbf7f\">│   </span><span style=\"font-weight: bold\">]</span>\n",
       "<span style=\"font-weight: bold\">}</span>\n",
       "</pre>\n"
      ],
      "text/plain": [
       "\u001b[1m{\u001b[0m\n",
       "\u001b[2;32m│   \u001b[0m\u001b[32m'activity_name'\u001b[0m: \u001b[32m'Vận dụng kiến thức về Đường tròn ngoại tiếp'\u001b[0m,\n",
       "\u001b[2;32m│   \u001b[0m\u001b[32m'description'\u001b[0m: \u001b[32m'Học sinh sẽ giải các bài tập thực hành để củng cố kiến thức về đường tròn ngoại tiếp. Các bài tập bao gồm:\\n\\nBài 1: Cho tam giác ABC vuông tại A có AB = 6cm, AC = 8cm. Hãy xác định tâm và tính bán kính đường tròn ngoại tiếp tam giác ABC.\\n\\nBài 2: Cho tam giác đều ABC cạnh 6cm. Hãy xác định tâm và tính bán kính đường tròn ngoại tiếp tam giác ABC.\\n\\nBài 3: Cho tứ giác ABCD nội tiếp đường tròn. Biết góc A = 75 độ, góc B = 100 độ. Hãy tính số đo góc C và góc D.'\u001b[0m,\n",
       "\u001b[2;32m│   \u001b[0m\u001b[32m'duration_minutes'\u001b[0m: \u001b[1;36m20\u001b[0m,\n",
       "\u001b[2;32m│   \u001b[0m\u001b[32m'activity_type'\u001b[0m: \u001b[32m'Luyện tập'\u001b[0m,\n",
       "\u001b[2;32m│   \u001b[0m\u001b[32m'teacher_actions'\u001b[0m: \u001b[1m[\u001b[0m\n",
       "\u001b[2;32m│   │   \u001b[0m\u001b[32m'Chiếu đề bài tập lên màn hình hoặc phát phiếu bài tập cho học sinh.'\u001b[0m,\n",
       "\u001b[2;32m│   │   \u001b[0m\u001b[32m'Nhắc lại ngắn gọn các kiến thức trọng tâm về tâm đường tròn ngoại tiếp của tam giác vuông, tam giác đều và tính chất góc của tứ giác nội tiếp.'\u001b[0m,\n",
       "\u001b[2;32m│   │   \u001b[0m\u001b[32m'Quan sát học sinh làm bài, đi lại trong lớp để nắm bắt tình hình và kịp thời hỗ trợ.'\u001b[0m,\n",
       "\u001b[2;32m│   │   \u001b[0m\u001b[32m\"Gợi ý, đặt câu hỏi dẫn dắt khi học sinh gặp khó khăn \u001b[0m\u001b[32m(\u001b[0m\u001b[32mví dụ: 'Tâm đường tròn ngoại tiếp tam giác vuông nằm ở đâu?', 'Tính chất góc của tứ giác nội tiếp là gì?'\u001b[0m\u001b[32m)\u001b[0m\u001b[32m.\"\u001b[0m,\n",
       "\u001b[2;32m│   │   \u001b[0m\u001b[32m'Gọi 2-3 học sinh lên bảng trình bày lời giải các bài tập.'\u001b[0m,\n",
       "\u001b[2;32m│   │   \u001b[0m\u001b[32m'Chữa bài tập và chốt lại các kiến thức quan trọng sau khi học sinh đã hoàn thành.'\u001b[0m\n",
       "\u001b[2;32m│   \u001b[0m\u001b[1m]\u001b[0m,\n",
       "\u001b[2;32m│   \u001b[0m\u001b[32m'solution_guide'\u001b[0m: \u001b[1m[\u001b[0m\n",
       "\u001b[2;32m│   │   \u001b[0m\u001b[32m'Bài 1: Tâm đường tròn ngoại tiếp tam giác vuông là trung điểm cạnh huyền. Bán kính bằng nửa cạnh huyền. \u001b[0m\u001b[32m(\u001b[0m\u001b[32mCạnh huyền BC = 10cm, R = 5cm\u001b[0m\u001b[32m)\u001b[0m\u001b[32m.'\u001b[0m,\n",
       "\u001b[2;32m│   │   \u001b[0m\u001b[32m'Bài 2: Tâm đường tròn ngoại tiếp tam giác đều là giao điểm của ba đường trung trực \u001b[0m\u001b[32m(\u001b[0m\u001b[32mcũng là trọng tâm, trực tâm, tâm đường tròn nội tiếp\u001b[0m\u001b[32m)\u001b[0m\u001b[32m. Bán kính R = a/√3 \u001b[0m\u001b[32m(\u001b[0m\u001b[32mvới a là cạnh tam giác\u001b[0m\u001b[32m)\u001b[0m\u001b[32m. \u001b[0m\u001b[32m(\u001b[0m\u001b[32mR = 6/√3 = 2√3 cm\u001b[0m\u001b[32m)\u001b[0m\u001b[32m.'\u001b[0m,\n",
       "\u001b[2;32m│   │   \u001b[0m\u001b[32m'Bài 3: Trong tứ giác nội tiếp, tổng hai góc đối diện bằng 180 độ. \u001b[0m\u001b[32m(\u001b[0m\u001b[32mGóc C = 180 - 75 = 105 độ; Góc D = 180 - 100 = 80 độ\u001b[0m\u001b[32m)\u001b[0m\u001b[32m.'\u001b[0m\n",
       "\u001b[2;32m│   \u001b[0m\u001b[1m]\u001b[0m\n",
       "\u001b[1m}\u001b[0m\n"
      ]
     },
     "metadata": {},
     "output_type": "display_data"
    },
    {
     "data": {
      "text/html": [
       "<pre style=\"white-space:pre;overflow-x:auto;line-height:normal;font-family:Menlo,'DejaVu Sans Mono',consolas,'Courier New',monospace\">\n",
       "<span style=\"color: #808000; text-decoration-color: #808000; font-weight: bold\">------- Hoàn thành bước: activity_designer -------</span>\n",
       "</pre>\n"
      ],
      "text/plain": [
       "\n",
       "\u001b[1;33m------- Hoàn thành bước: activity_designer -------\u001b[0m\n"
      ]
     },
     "metadata": {},
     "output_type": "display_data"
    },
    {
     "data": {
      "text/html": [
       "<pre style=\"white-space:pre;overflow-x:auto;line-height:normal;font-family:Menlo,'DejaVu Sans Mono',consolas,'Courier New',monospace\">\n",
       "<span style=\"color: #008080; text-decoration-color: #008080; font-weight: bold\">&gt;</span> `Agent: Contextual Critic` <span style=\"font-weight: bold\">(</span>v7.<span style=\"color: #008080; text-decoration-color: #008080; font-weight: bold\">5</span><span style=\"font-weight: bold\">)</span> đang phản biện nội dung<span style=\"color: #808000; text-decoration-color: #808000\">...</span>\n",
       "</pre>\n"
      ],
      "text/plain": [
       "\n",
       "\u001b[1;36m>\u001b[0m `Agent: Contextual Critic` \u001b[1m(\u001b[0mv7.\u001b[1;36m5\u001b[0m\u001b[1m)\u001b[0m đang phản biện nội dung\u001b[33m...\u001b[0m\n"
      ]
     },
     "metadata": {},
     "output_type": "display_data"
    },
    {
     "data": {
      "text/html": [
       "<pre style=\"white-space:pre;overflow-x:auto;line-height:normal;font-family:Menlo,'DejaVu Sans Mono',consolas,'Courier New',monospace\">\n",
       "<span style=\"color: #008080; text-decoration-color: #008080; font-weight: bold\">&gt;</span> ✔️ CHUYÊN GIA PHẢN BIỆN: Nội dung hợp lệ!\n",
       "</pre>\n"
      ],
      "text/plain": [
       "\n",
       "\u001b[1;36m>\u001b[0m ✔️ CHUYÊN GIA PHẢN BIỆN: Nội dung hợp lệ!\n"
      ]
     },
     "metadata": {},
     "output_type": "display_data"
    },
    {
     "data": {
      "text/html": [
       "<pre style=\"white-space:pre;overflow-x:auto;line-height:normal;font-family:Menlo,'DejaVu Sans Mono',consolas,'Courier New',monospace\">\n",
       "<span style=\"color: #008080; text-decoration-color: #008080; font-weight: bold\">&gt;</span> ROUTER <span style=\"font-weight: bold\">(</span>Validation<span style=\"font-weight: bold\">)</span>: Nội dung được chấp thuận. Chuyển sang bước ghi nhận.\n",
       "</pre>\n"
      ],
      "text/plain": [
       "\n",
       "\u001b[1;36m>\u001b[0m ROUTER \u001b[1m(\u001b[0mValidation\u001b[1m)\u001b[0m: Nội dung được chấp thuận. Chuyển sang bước ghi nhận.\n"
      ]
     },
     "metadata": {},
     "output_type": "display_data"
    },
    {
     "data": {
      "text/html": [
       "<pre style=\"white-space:pre;overflow-x:auto;line-height:normal;font-family:Menlo,'DejaVu Sans Mono',consolas,'Courier New',monospace\">\n",
       "<span style=\"color: #808000; text-decoration-color: #808000; font-weight: bold\">------- Hoàn thành bước: content_validator -------</span>\n",
       "</pre>\n"
      ],
      "text/plain": [
       "\n",
       "\u001b[1;33m------- Hoàn thành bước: content_validator -------\u001b[0m\n"
      ]
     },
     "metadata": {},
     "output_type": "display_data"
    },
    {
     "data": {
      "text/html": [
       "<pre style=\"white-space:pre;overflow-x:auto;line-height:normal;font-family:Menlo,'DejaVu Sans Mono',consolas,'Courier New',monospace\">\n",
       "<span style=\"color: #008080; text-decoration-color: #008080; font-weight: bold\">&gt;</span> `Commiter`: Đang ghi nhận nội dung đã được xác thực<span style=\"color: #808000; text-decoration-color: #808000\">...</span>\n",
       "</pre>\n"
      ],
      "text/plain": [
       "\n",
       "\u001b[1;36m>\u001b[0m `Commiter`: Đang ghi nhận nội dung đã được xác thực\u001b[33m...\u001b[0m\n"
      ]
     },
     "metadata": {},
     "output_type": "display_data"
    },
    {
     "data": {
      "text/html": [
       "<pre style=\"white-space:pre;overflow-x:auto;line-height:normal;font-family:Menlo,'DejaVu Sans Mono',consolas,'Courier New',monospace\">\n",
       "<span style=\"color: #808000; text-decoration-color: #808000; font-weight: bold\">------- Hoàn thành bước: commit_validated_content -------</span>\n",
       "</pre>\n"
      ],
      "text/plain": [
       "\n",
       "\u001b[1;33m------- Hoàn thành bước: commit_validated_content -------\u001b[0m\n"
      ]
     },
     "metadata": {},
     "output_type": "display_data"
    },
    {
     "data": {
      "text/html": [
       "<pre style=\"white-space:pre;overflow-x:auto;line-height:normal;font-family:Menlo,'DejaVu Sans Mono',consolas,'Courier New',monospace\">\n",
       "<span style=\"color: #808000; text-decoration-color: #808000; font-weight: bold\">------- Hoàn thành bước: mark_task_complete -------</span>\n",
       "</pre>\n"
      ],
      "text/plain": [
       "\n",
       "\u001b[1;33m------- Hoàn thành bước: mark_task_complete -------\u001b[0m\n"
      ]
     },
     "metadata": {},
     "output_type": "display_data"
    },
    {
     "data": {
      "text/html": [
       "<pre style=\"white-space:pre;overflow-x:auto;line-height:normal;font-family:Menlo,'DejaVu Sans Mono',consolas,'Courier New',monospace\">\n",
       "<span style=\"color: #008080; text-decoration-color: #008080; font-weight: bold\">&gt;</span> <span style=\"color: #808000; text-decoration-color: #808000\">...</span>Đang nghỉ <span style=\"color: #008080; text-decoration-color: #008080; font-weight: bold\">2</span> giây để tránh vượt rate limit<span style=\"color: #808000; text-decoration-color: #808000\">...</span>\n",
       "</pre>\n"
      ],
      "text/plain": [
       "\n",
       "\u001b[1;36m>\u001b[0m \u001b[33m...\u001b[0mĐang nghỉ \u001b[1;36m2\u001b[0m giây để tránh vượt rate limit\u001b[33m...\u001b[0m\n"
      ]
     },
     "metadata": {},
     "output_type": "display_data"
    },
    {
     "data": {
      "text/html": [
       "<pre style=\"white-space:pre;overflow-x:auto;line-height:normal;font-family:Menlo,'DejaVu Sans Mono',consolas,'Courier New',monospace\">\n",
       "<span style=\"color: #808000; text-decoration-color: #808000; font-weight: bold\">------- Hoàn thành bước: delay_node -------</span>\n",
       "</pre>\n"
      ],
      "text/plain": [
       "\n",
       "\u001b[1;33m------- Hoàn thành bước: delay_node -------\u001b[0m\n"
      ]
     },
     "metadata": {},
     "output_type": "display_data"
    },
    {
     "data": {
      "text/html": [
       "<pre style=\"white-space:pre;overflow-x:auto;line-height:normal;font-family:Menlo,'DejaVu Sans Mono',consolas,'Courier New',monospace\">\n",
       "<span style=\"color: #008080; text-decoration-color: #008080; font-weight: bold\">&gt;</span> `Router`: Đang kiểm tra nhiệm vụ<span style=\"color: #808000; text-decoration-color: #808000\">...</span>\n",
       "</pre>\n"
      ],
      "text/plain": [
       "\n",
       "\u001b[1;36m>\u001b[0m `Router`: Đang kiểm tra nhiệm vụ\u001b[33m...\u001b[0m\n"
      ]
     },
     "metadata": {},
     "output_type": "display_data"
    },
    {
     "data": {
      "text/html": [
       "<pre style=\"white-space:pre;overflow-x:auto;line-height:normal;font-family:Menlo,'DejaVu Sans Mono',consolas,'Courier New',monospace\">\n",
       "<span style=\"color: #008080; text-decoration-color: #008080; font-weight: bold\">&gt;</span> Nhiệm vụ tiếp theo: <span style=\"color: #008000; text-decoration-color: #008000\">'Khám phá và định nghĩa Đường tròn nội tiếp'</span> <span style=\"font-weight: bold\">(</span>ID: <span style=\"color: #008080; text-decoration-color: #008080; font-weight: bold\">3</span><span style=\"font-weight: bold\">)</span>\n",
       "</pre>\n"
      ],
      "text/plain": [
       "\n",
       "\u001b[1;36m>\u001b[0m Nhiệm vụ tiếp theo: \u001b[32m'Khám phá và định nghĩa Đường tròn nội tiếp'\u001b[0m \u001b[1m(\u001b[0mID: \u001b[1;36m3\u001b[0m\u001b[1m)\u001b[0m\n"
      ]
     },
     "metadata": {},
     "output_type": "display_data"
    },
    {
     "data": {
      "text/html": [
       "<pre style=\"white-space:pre;overflow-x:auto;line-height:normal;font-family:Menlo,'DejaVu Sans Mono',consolas,'Courier New',monospace\">\n",
       "<span style=\"color: #808000; text-decoration-color: #808000; font-weight: bold\">------- Hoàn thành bước: task_router -------</span>\n",
       "</pre>\n"
      ],
      "text/plain": [
       "\n",
       "\u001b[1;33m------- Hoàn thành bước: task_router -------\u001b[0m\n"
      ]
     },
     "metadata": {},
     "output_type": "display_data"
    },
    {
     "data": {
      "text/html": [
       "<pre style=\"white-space:pre;overflow-x:auto;line-height:normal;font-family:Menlo,'DejaVu Sans Mono',consolas,'Courier New',monospace\">\n",
       "<span style=\"color: #008080; text-decoration-color: #008080; font-weight: bold\">&gt;</span> `Agent: Task Dispatcher` <span style=\"font-weight: bold\">(</span>v7.<span style=\"color: #008080; text-decoration-color: #008080; font-weight: bold\">1</span><span style=\"font-weight: bold\">)</span> Bắt đầu<span style=\"color: #808000; text-decoration-color: #808000\">...</span>\n",
       "</pre>\n"
      ],
      "text/plain": [
       "\n",
       "\u001b[1;36m>\u001b[0m `Agent: Task Dispatcher` \u001b[1m(\u001b[0mv7.\u001b[1;36m1\u001b[0m\u001b[1m)\u001b[0m Bắt đầu\u001b[33m...\u001b[0m\n"
      ]
     },
     "metadata": {},
     "output_type": "display_data"
    },
    {
     "data": {
      "text/html": [
       "<pre style=\"white-space:pre;overflow-x:auto;line-height:normal;font-family:Menlo,'DejaVu Sans Mono',consolas,'Courier New',monospace\">\n",
       "<span style=\"color: #008080; text-decoration-color: #008080; font-weight: bold\">&gt;</span> --- 🚚 `Dispatcher`: Giao nhiệm vụ cho `activity_designer`.\n",
       "</pre>\n"
      ],
      "text/plain": [
       "\n",
       "\u001b[1;36m>\u001b[0m --- 🚚 `Dispatcher`: Giao nhiệm vụ cho `activity_designer`.\n"
      ]
     },
     "metadata": {},
     "output_type": "display_data"
    },
    {
     "data": {
      "text/html": [
       "<pre style=\"white-space:pre;overflow-x:auto;line-height:normal;font-family:Menlo,'DejaVu Sans Mono',consolas,'Courier New',monospace\">\n",
       "<span style=\"color: #808000; text-decoration-color: #808000; font-weight: bold\">------- Hoàn thành bước: task_dispatcher -------</span>\n",
       "</pre>\n"
      ],
      "text/plain": [
       "\n",
       "\u001b[1;33m------- Hoàn thành bước: task_dispatcher -------\u001b[0m\n"
      ]
     },
     "metadata": {},
     "output_type": "display_data"
    },
    {
     "data": {
      "text/html": [
       "<pre style=\"white-space:pre;overflow-x:auto;line-height:normal;font-family:Menlo,'DejaVu Sans Mono',consolas,'Courier New',monospace\">\n",
       "<span style=\"color: #008080; text-decoration-color: #008080; font-weight: bold\">&gt;</span> `Agent: Activity Designer` <span style=\"font-weight: bold\">(</span>v8.<span style=\"color: #008080; text-decoration-color: #008080; font-weight: bold\">0</span><span style=\"font-weight: bold\">)</span> đang tạo nội dung chi tiết<span style=\"color: #808000; text-decoration-color: #808000\">...</span>\n",
       "</pre>\n"
      ],
      "text/plain": [
       "\n",
       "\u001b[1;36m>\u001b[0m `Agent: Activity Designer` \u001b[1m(\u001b[0mv8.\u001b[1;36m0\u001b[0m\u001b[1m)\u001b[0m đang tạo nội dung chi tiết\u001b[33m...\u001b[0m\n"
      ]
     },
     "metadata": {},
     "output_type": "display_data"
    },
    {
     "data": {
      "text/html": [
       "<pre style=\"white-space:pre;overflow-x:auto;line-height:normal;font-family:Menlo,'DejaVu Sans Mono',consolas,'Courier New',monospace\"><span style=\"color: #008000; text-decoration-color: #008000; font-weight: bold\">✔️ Nội dung do Activity Designer tạo ra:</span>\n",
       "</pre>\n"
      ],
      "text/plain": [
       "\u001b[1;32m✔️ Nội dung do Activity Designer tạo ra:\u001b[0m\n"
      ]
     },
     "metadata": {},
     "output_type": "display_data"
    },
    {
     "data": {
      "text/html": [
       "<pre style=\"white-space:pre;overflow-x:auto;line-height:normal;font-family:Menlo,'DejaVu Sans Mono',consolas,'Courier New',monospace\"><span style=\"font-weight: bold\">{</span>\n",
       "<span style=\"color: #7fbf7f; text-decoration-color: #7fbf7f\">│   </span><span style=\"color: #008000; text-decoration-color: #008000\">'activity_name'</span>: <span style=\"color: #008000; text-decoration-color: #008000\">'Khám phá và định nghĩa Đường tròn nội tiếp'</span>,\n",
       "<span style=\"color: #7fbf7f; text-decoration-color: #7fbf7f\">│   </span><span style=\"color: #008000; text-decoration-color: #008000\">'description'</span>: <span style=\"color: #008000; text-decoration-color: #008000\">'Học sinh thực hiện các bước sau: 1. Vẽ một tam giác ABC bất kỳ lên giấy. 2. Dùng thước và compa để vẽ ba đường phân giác của ba góc A, B, C của tam giác. 3. Xác định giao điểm của ba đường phân giác đó (điểm I). Điểm I chính là tâm của đường tròn nội tiếp. 4. Từ tâm I, vẽ đường tròn tiếp xúc với ba cạnh của tam giác. 5. Dựa trên hình vẽ và quá trình thực hiện, hãy nêu định nghĩa về đường tròn nội tiếp tam giác và liệt kê các tính chất cơ bản của nó.'</span>,\n",
       "<span style=\"color: #7fbf7f; text-decoration-color: #7fbf7f\">│   </span><span style=\"color: #008000; text-decoration-color: #008000\">'duration_minutes'</span>: <span style=\"color: #008080; text-decoration-color: #008080; font-weight: bold\">25</span>,\n",
       "<span style=\"color: #7fbf7f; text-decoration-color: #7fbf7f\">│   </span><span style=\"color: #008000; text-decoration-color: #008000\">'activity_type'</span>: <span style=\"color: #008000; text-decoration-color: #008000\">'Thực hành và khám phá'</span>,\n",
       "<span style=\"color: #7fbf7f; text-decoration-color: #7fbf7f\">│   </span><span style=\"color: #008000; text-decoration-color: #008000\">'teacher_actions'</span>: <span style=\"font-weight: bold\">[</span>\n",
       "<span style=\"color: #7fbf7f; text-decoration-color: #7fbf7f\">│   │   </span><span style=\"color: #008000; text-decoration-color: #008000\">'Kiểm tra sự chuẩn bị dụng cụ học tập (thước, compa) của học sinh.'</span>,\n",
       "<span style=\"color: #7fbf7f; text-decoration-color: #7fbf7f\">│   │   </span><span style=\"color: #008000; text-decoration-color: #008000\">'Chiếu slide hướng dẫn các bước vẽ đường phân giác nếu cần thiết.'</span>,\n",
       "<span style=\"color: #7fbf7f; text-decoration-color: #7fbf7f\">│   │   </span><span style=\"color: #008000; text-decoration-color: #008000\">'Đi lại quan sát các nhóm/cá nhân thực hiện, kịp thời hỗ trợ những học sinh gặp khó khăn trong việc vẽ hình hoặc xác định tâm.'</span>,\n",
       "<span style=\"color: #7fbf7f; text-decoration-color: #7fbf7f\">│   │   </span><span style=\"color: #008000; text-decoration-color: #008000\">\"Đặt câu hỏi gợi mở: 'Làm thế nào để biết đường tròn đã tiếp xúc với ba cạnh?', 'Khoảng cách từ tâm I đến các cạnh có gì đặc biệt?'\"</span>,\n",
       "<span style=\"color: #7fbf7f; text-decoration-color: #7fbf7f\">│   │   </span><span style=\"color: #008000; text-decoration-color: #008000\">'Yêu cầu một vài học sinh/nhóm trình bày kết quả vẽ hình và định nghĩa, tính chất đã tìm được.'</span>,\n",
       "<span style=\"color: #7fbf7f; text-decoration-color: #7fbf7f\">│   │   </span><span style=\"color: #008000; text-decoration-color: #008000\">'Tổng kết và chốt kiến thức về định nghĩa và tính chất của đường tròn nội tiếp.'</span>\n",
       "<span style=\"color: #7fbf7f; text-decoration-color: #7fbf7f\">│   </span><span style=\"font-weight: bold\">]</span>,\n",
       "<span style=\"color: #7fbf7f; text-decoration-color: #7fbf7f\">│   </span><span style=\"color: #008000; text-decoration-color: #008000\">'solution_guide'</span>: <span style=\"font-weight: bold\">[</span>\n",
       "<span style=\"color: #7fbf7f; text-decoration-color: #7fbf7f\">│   │   </span><span style=\"color: #008000; text-decoration-color: #008000\">'Câu hỏi gợi mở 1: Ba đường phân giác của một tam giác có đặc điểm gì về giao điểm của chúng?'</span>,\n",
       "<span style=\"color: #7fbf7f; text-decoration-color: #7fbf7f\">│   │   </span><span style=\"color: #008000; text-decoration-color: #008000\">'Câu hỏi gợi mở 2: Khoảng cách từ tâm I (giao điểm của ba đường phân giác) đến ba cạnh của tam giác có mối quan hệ như thế nào?'</span>,\n",
       "<span style=\"color: #7fbf7f; text-decoration-color: #7fbf7f\">│   │   </span><span style=\"color: #008000; text-decoration-color: #008000\">'Câu hỏi gợi mở 3: Dựa vào mối quan hệ đó, em hãy định nghĩa đường tròn nội tiếp tam giác.'</span>,\n",
       "<span style=\"color: #7fbf7f; text-decoration-color: #7fbf7f\">│   │   </span><span style=\"color: #008000; text-decoration-color: #008000\">'Câu hỏi gợi mở 4: Đường tròn nội tiếp có những tính chất cơ bản nào liên quan đến tâm và bán kính của nó?'</span>\n",
       "<span style=\"color: #7fbf7f; text-decoration-color: #7fbf7f\">│   </span><span style=\"font-weight: bold\">]</span>\n",
       "<span style=\"font-weight: bold\">}</span>\n",
       "</pre>\n"
      ],
      "text/plain": [
       "\u001b[1m{\u001b[0m\n",
       "\u001b[2;32m│   \u001b[0m\u001b[32m'activity_name'\u001b[0m: \u001b[32m'Khám phá và định nghĩa Đường tròn nội tiếp'\u001b[0m,\n",
       "\u001b[2;32m│   \u001b[0m\u001b[32m'description'\u001b[0m: \u001b[32m'Học sinh thực hiện các bước sau: 1. Vẽ một tam giác ABC bất kỳ lên giấy. 2. Dùng thước và compa để vẽ ba đường phân giác của ba góc A, B, C của tam giác. 3. Xác định giao điểm của ba đường phân giác đó \u001b[0m\u001b[32m(\u001b[0m\u001b[32mđiểm I\u001b[0m\u001b[32m)\u001b[0m\u001b[32m. Điểm I chính là tâm của đường tròn nội tiếp. 4. Từ tâm I, vẽ đường tròn tiếp xúc với ba cạnh của tam giác. 5. Dựa trên hình vẽ và quá trình thực hiện, hãy nêu định nghĩa về đường tròn nội tiếp tam giác và liệt kê các tính chất cơ bản của nó.'\u001b[0m,\n",
       "\u001b[2;32m│   \u001b[0m\u001b[32m'duration_minutes'\u001b[0m: \u001b[1;36m25\u001b[0m,\n",
       "\u001b[2;32m│   \u001b[0m\u001b[32m'activity_type'\u001b[0m: \u001b[32m'Thực hành và khám phá'\u001b[0m,\n",
       "\u001b[2;32m│   \u001b[0m\u001b[32m'teacher_actions'\u001b[0m: \u001b[1m[\u001b[0m\n",
       "\u001b[2;32m│   │   \u001b[0m\u001b[32m'Kiểm tra sự chuẩn bị dụng cụ học tập \u001b[0m\u001b[32m(\u001b[0m\u001b[32mthước, compa\u001b[0m\u001b[32m)\u001b[0m\u001b[32m của học sinh.'\u001b[0m,\n",
       "\u001b[2;32m│   │   \u001b[0m\u001b[32m'Chiếu slide hướng dẫn các bước vẽ đường phân giác nếu cần thiết.'\u001b[0m,\n",
       "\u001b[2;32m│   │   \u001b[0m\u001b[32m'Đi lại quan sát các nhóm/cá nhân thực hiện, kịp thời hỗ trợ những học sinh gặp khó khăn trong việc vẽ hình hoặc xác định tâm.'\u001b[0m,\n",
       "\u001b[2;32m│   │   \u001b[0m\u001b[32m\"Đặt câu hỏi gợi mở: 'Làm thế nào để biết đường tròn đã tiếp xúc với ba cạnh?', 'Khoảng cách từ tâm I đến các cạnh có gì đặc biệt?'\"\u001b[0m,\n",
       "\u001b[2;32m│   │   \u001b[0m\u001b[32m'Yêu cầu một vài học sinh/nhóm trình bày kết quả vẽ hình và định nghĩa, tính chất đã tìm được.'\u001b[0m,\n",
       "\u001b[2;32m│   │   \u001b[0m\u001b[32m'Tổng kết và chốt kiến thức về định nghĩa và tính chất của đường tròn nội tiếp.'\u001b[0m\n",
       "\u001b[2;32m│   \u001b[0m\u001b[1m]\u001b[0m,\n",
       "\u001b[2;32m│   \u001b[0m\u001b[32m'solution_guide'\u001b[0m: \u001b[1m[\u001b[0m\n",
       "\u001b[2;32m│   │   \u001b[0m\u001b[32m'Câu hỏi gợi mở 1: Ba đường phân giác của một tam giác có đặc điểm gì về giao điểm của chúng?'\u001b[0m,\n",
       "\u001b[2;32m│   │   \u001b[0m\u001b[32m'Câu hỏi gợi mở 2: Khoảng cách từ tâm I \u001b[0m\u001b[32m(\u001b[0m\u001b[32mgiao điểm của ba đường phân giác\u001b[0m\u001b[32m)\u001b[0m\u001b[32m đến ba cạnh của tam giác có mối quan hệ như thế nào?'\u001b[0m,\n",
       "\u001b[2;32m│   │   \u001b[0m\u001b[32m'Câu hỏi gợi mở 3: Dựa vào mối quan hệ đó, em hãy định nghĩa đường tròn nội tiếp tam giác.'\u001b[0m,\n",
       "\u001b[2;32m│   │   \u001b[0m\u001b[32m'Câu hỏi gợi mở 4: Đường tròn nội tiếp có những tính chất cơ bản nào liên quan đến tâm và bán kính của nó?'\u001b[0m\n",
       "\u001b[2;32m│   \u001b[0m\u001b[1m]\u001b[0m\n",
       "\u001b[1m}\u001b[0m\n"
      ]
     },
     "metadata": {},
     "output_type": "display_data"
    },
    {
     "data": {
      "text/html": [
       "<pre style=\"white-space:pre;overflow-x:auto;line-height:normal;font-family:Menlo,'DejaVu Sans Mono',consolas,'Courier New',monospace\">\n",
       "<span style=\"color: #808000; text-decoration-color: #808000; font-weight: bold\">------- Hoàn thành bước: activity_designer -------</span>\n",
       "</pre>\n"
      ],
      "text/plain": [
       "\n",
       "\u001b[1;33m------- Hoàn thành bước: activity_designer -------\u001b[0m\n"
      ]
     },
     "metadata": {},
     "output_type": "display_data"
    },
    {
     "data": {
      "text/html": [
       "<pre style=\"white-space:pre;overflow-x:auto;line-height:normal;font-family:Menlo,'DejaVu Sans Mono',consolas,'Courier New',monospace\">\n",
       "<span style=\"color: #008080; text-decoration-color: #008080; font-weight: bold\">&gt;</span> `Agent: Contextual Critic` <span style=\"font-weight: bold\">(</span>v7.<span style=\"color: #008080; text-decoration-color: #008080; font-weight: bold\">5</span><span style=\"font-weight: bold\">)</span> đang phản biện nội dung<span style=\"color: #808000; text-decoration-color: #808000\">...</span>\n",
       "</pre>\n"
      ],
      "text/plain": [
       "\n",
       "\u001b[1;36m>\u001b[0m `Agent: Contextual Critic` \u001b[1m(\u001b[0mv7.\u001b[1;36m5\u001b[0m\u001b[1m)\u001b[0m đang phản biện nội dung\u001b[33m...\u001b[0m\n"
      ]
     },
     "metadata": {},
     "output_type": "display_data"
    },
    {
     "data": {
      "text/html": [
       "<pre style=\"white-space:pre;overflow-x:auto;line-height:normal;font-family:Menlo,'DejaVu Sans Mono',consolas,'Courier New',monospace\">\n",
       "<span style=\"color: #008080; text-decoration-color: #008080; font-weight: bold\">&gt;</span> ✔️ CHUYÊN GIA PHẢN BIỆN: Nội dung hợp lệ!\n",
       "</pre>\n"
      ],
      "text/plain": [
       "\n",
       "\u001b[1;36m>\u001b[0m ✔️ CHUYÊN GIA PHẢN BIỆN: Nội dung hợp lệ!\n"
      ]
     },
     "metadata": {},
     "output_type": "display_data"
    },
    {
     "data": {
      "text/html": [
       "<pre style=\"white-space:pre;overflow-x:auto;line-height:normal;font-family:Menlo,'DejaVu Sans Mono',consolas,'Courier New',monospace\">\n",
       "<span style=\"color: #008080; text-decoration-color: #008080; font-weight: bold\">&gt;</span> ROUTER <span style=\"font-weight: bold\">(</span>Validation<span style=\"font-weight: bold\">)</span>: Nội dung được chấp thuận. Chuyển sang bước ghi nhận.\n",
       "</pre>\n"
      ],
      "text/plain": [
       "\n",
       "\u001b[1;36m>\u001b[0m ROUTER \u001b[1m(\u001b[0mValidation\u001b[1m)\u001b[0m: Nội dung được chấp thuận. Chuyển sang bước ghi nhận.\n"
      ]
     },
     "metadata": {},
     "output_type": "display_data"
    },
    {
     "data": {
      "text/html": [
       "<pre style=\"white-space:pre;overflow-x:auto;line-height:normal;font-family:Menlo,'DejaVu Sans Mono',consolas,'Courier New',monospace\">\n",
       "<span style=\"color: #808000; text-decoration-color: #808000; font-weight: bold\">------- Hoàn thành bước: content_validator -------</span>\n",
       "</pre>\n"
      ],
      "text/plain": [
       "\n",
       "\u001b[1;33m------- Hoàn thành bước: content_validator -------\u001b[0m\n"
      ]
     },
     "metadata": {},
     "output_type": "display_data"
    },
    {
     "data": {
      "text/html": [
       "<pre style=\"white-space:pre;overflow-x:auto;line-height:normal;font-family:Menlo,'DejaVu Sans Mono',consolas,'Courier New',monospace\">\n",
       "<span style=\"color: #008080; text-decoration-color: #008080; font-weight: bold\">&gt;</span> `Commiter`: Đang ghi nhận nội dung đã được xác thực<span style=\"color: #808000; text-decoration-color: #808000\">...</span>\n",
       "</pre>\n"
      ],
      "text/plain": [
       "\n",
       "\u001b[1;36m>\u001b[0m `Commiter`: Đang ghi nhận nội dung đã được xác thực\u001b[33m...\u001b[0m\n"
      ]
     },
     "metadata": {},
     "output_type": "display_data"
    },
    {
     "data": {
      "text/html": [
       "<pre style=\"white-space:pre;overflow-x:auto;line-height:normal;font-family:Menlo,'DejaVu Sans Mono',consolas,'Courier New',monospace\">\n",
       "<span style=\"color: #808000; text-decoration-color: #808000; font-weight: bold\">------- Hoàn thành bước: commit_validated_content -------</span>\n",
       "</pre>\n"
      ],
      "text/plain": [
       "\n",
       "\u001b[1;33m------- Hoàn thành bước: commit_validated_content -------\u001b[0m\n"
      ]
     },
     "metadata": {},
     "output_type": "display_data"
    },
    {
     "data": {
      "text/html": [
       "<pre style=\"white-space:pre;overflow-x:auto;line-height:normal;font-family:Menlo,'DejaVu Sans Mono',consolas,'Courier New',monospace\">\n",
       "<span style=\"color: #808000; text-decoration-color: #808000; font-weight: bold\">------- Hoàn thành bước: mark_task_complete -------</span>\n",
       "</pre>\n"
      ],
      "text/plain": [
       "\n",
       "\u001b[1;33m------- Hoàn thành bước: mark_task_complete -------\u001b[0m\n"
      ]
     },
     "metadata": {},
     "output_type": "display_data"
    },
    {
     "data": {
      "text/html": [
       "<pre style=\"white-space:pre;overflow-x:auto;line-height:normal;font-family:Menlo,'DejaVu Sans Mono',consolas,'Courier New',monospace\">\n",
       "<span style=\"color: #008080; text-decoration-color: #008080; font-weight: bold\">&gt;</span> <span style=\"color: #808000; text-decoration-color: #808000\">...</span>Đang nghỉ <span style=\"color: #008080; text-decoration-color: #008080; font-weight: bold\">2</span> giây để tránh vượt rate limit<span style=\"color: #808000; text-decoration-color: #808000\">...</span>\n",
       "</pre>\n"
      ],
      "text/plain": [
       "\n",
       "\u001b[1;36m>\u001b[0m \u001b[33m...\u001b[0mĐang nghỉ \u001b[1;36m2\u001b[0m giây để tránh vượt rate limit\u001b[33m...\u001b[0m\n"
      ]
     },
     "metadata": {},
     "output_type": "display_data"
    },
    {
     "data": {
      "text/html": [
       "<pre style=\"white-space:pre;overflow-x:auto;line-height:normal;font-family:Menlo,'DejaVu Sans Mono',consolas,'Courier New',monospace\">\n",
       "<span style=\"color: #808000; text-decoration-color: #808000; font-weight: bold\">------- Hoàn thành bước: delay_node -------</span>\n",
       "</pre>\n"
      ],
      "text/plain": [
       "\n",
       "\u001b[1;33m------- Hoàn thành bước: delay_node -------\u001b[0m\n"
      ]
     },
     "metadata": {},
     "output_type": "display_data"
    },
    {
     "data": {
      "text/html": [
       "<pre style=\"white-space:pre;overflow-x:auto;line-height:normal;font-family:Menlo,'DejaVu Sans Mono',consolas,'Courier New',monospace\">\n",
       "<span style=\"color: #008080; text-decoration-color: #008080; font-weight: bold\">&gt;</span> `Router`: Đang kiểm tra nhiệm vụ<span style=\"color: #808000; text-decoration-color: #808000\">...</span>\n",
       "</pre>\n"
      ],
      "text/plain": [
       "\n",
       "\u001b[1;36m>\u001b[0m `Router`: Đang kiểm tra nhiệm vụ\u001b[33m...\u001b[0m\n"
      ]
     },
     "metadata": {},
     "output_type": "display_data"
    },
    {
     "data": {
      "text/html": [
       "<pre style=\"white-space:pre;overflow-x:auto;line-height:normal;font-family:Menlo,'DejaVu Sans Mono',consolas,'Courier New',monospace\">\n",
       "<span style=\"color: #008080; text-decoration-color: #008080; font-weight: bold\">&gt;</span> Nhiệm vụ tiếp theo: <span style=\"color: #008000; text-decoration-color: #008000\">'Vận dụng Đường tròn nội tiếp và tổng kết kiến thức'</span> <span style=\"font-weight: bold\">(</span>ID: <span style=\"color: #008080; text-decoration-color: #008080; font-weight: bold\">4</span><span style=\"font-weight: bold\">)</span>\n",
       "</pre>\n"
      ],
      "text/plain": [
       "\n",
       "\u001b[1;36m>\u001b[0m Nhiệm vụ tiếp theo: \u001b[32m'Vận dụng Đường tròn nội tiếp và tổng kết kiến thức'\u001b[0m \u001b[1m(\u001b[0mID: \u001b[1;36m4\u001b[0m\u001b[1m)\u001b[0m\n"
      ]
     },
     "metadata": {},
     "output_type": "display_data"
    },
    {
     "data": {
      "text/html": [
       "<pre style=\"white-space:pre;overflow-x:auto;line-height:normal;font-family:Menlo,'DejaVu Sans Mono',consolas,'Courier New',monospace\">\n",
       "<span style=\"color: #808000; text-decoration-color: #808000; font-weight: bold\">------- Hoàn thành bước: task_router -------</span>\n",
       "</pre>\n"
      ],
      "text/plain": [
       "\n",
       "\u001b[1;33m------- Hoàn thành bước: task_router -------\u001b[0m\n"
      ]
     },
     "metadata": {},
     "output_type": "display_data"
    },
    {
     "data": {
      "text/html": [
       "<pre style=\"white-space:pre;overflow-x:auto;line-height:normal;font-family:Menlo,'DejaVu Sans Mono',consolas,'Courier New',monospace\">\n",
       "<span style=\"color: #008080; text-decoration-color: #008080; font-weight: bold\">&gt;</span> `Agent: Task Dispatcher` <span style=\"font-weight: bold\">(</span>v7.<span style=\"color: #008080; text-decoration-color: #008080; font-weight: bold\">1</span><span style=\"font-weight: bold\">)</span> Bắt đầu<span style=\"color: #808000; text-decoration-color: #808000\">...</span>\n",
       "</pre>\n"
      ],
      "text/plain": [
       "\n",
       "\u001b[1;36m>\u001b[0m `Agent: Task Dispatcher` \u001b[1m(\u001b[0mv7.\u001b[1;36m1\u001b[0m\u001b[1m)\u001b[0m Bắt đầu\u001b[33m...\u001b[0m\n"
      ]
     },
     "metadata": {},
     "output_type": "display_data"
    },
    {
     "data": {
      "text/html": [
       "<pre style=\"white-space:pre;overflow-x:auto;line-height:normal;font-family:Menlo,'DejaVu Sans Mono',consolas,'Courier New',monospace\">\n",
       "<span style=\"color: #008080; text-decoration-color: #008080; font-weight: bold\">&gt;</span> --- 🚚 `Dispatcher`: Giao nhiệm vụ cho `activity_designer`.\n",
       "</pre>\n"
      ],
      "text/plain": [
       "\n",
       "\u001b[1;36m>\u001b[0m --- 🚚 `Dispatcher`: Giao nhiệm vụ cho `activity_designer`.\n"
      ]
     },
     "metadata": {},
     "output_type": "display_data"
    },
    {
     "data": {
      "text/html": [
       "<pre style=\"white-space:pre;overflow-x:auto;line-height:normal;font-family:Menlo,'DejaVu Sans Mono',consolas,'Courier New',monospace\">\n",
       "<span style=\"color: #808000; text-decoration-color: #808000; font-weight: bold\">------- Hoàn thành bước: task_dispatcher -------</span>\n",
       "</pre>\n"
      ],
      "text/plain": [
       "\n",
       "\u001b[1;33m------- Hoàn thành bước: task_dispatcher -------\u001b[0m\n"
      ]
     },
     "metadata": {},
     "output_type": "display_data"
    },
    {
     "data": {
      "text/html": [
       "<pre style=\"white-space:pre;overflow-x:auto;line-height:normal;font-family:Menlo,'DejaVu Sans Mono',consolas,'Courier New',monospace\">\n",
       "<span style=\"color: #008080; text-decoration-color: #008080; font-weight: bold\">&gt;</span> `Agent: Activity Designer` <span style=\"font-weight: bold\">(</span>v8.<span style=\"color: #008080; text-decoration-color: #008080; font-weight: bold\">0</span><span style=\"font-weight: bold\">)</span> đang tạo nội dung chi tiết<span style=\"color: #808000; text-decoration-color: #808000\">...</span>\n",
       "</pre>\n"
      ],
      "text/plain": [
       "\n",
       "\u001b[1;36m>\u001b[0m `Agent: Activity Designer` \u001b[1m(\u001b[0mv8.\u001b[1;36m0\u001b[0m\u001b[1m)\u001b[0m đang tạo nội dung chi tiết\u001b[33m...\u001b[0m\n"
      ]
     },
     "metadata": {},
     "output_type": "display_data"
    },
    {
     "data": {
      "text/html": [
       "<pre style=\"white-space:pre;overflow-x:auto;line-height:normal;font-family:Menlo,'DejaVu Sans Mono',consolas,'Courier New',monospace\"><span style=\"color: #008000; text-decoration-color: #008000; font-weight: bold\">✔️ Nội dung do Activity Designer tạo ra:</span>\n",
       "</pre>\n"
      ],
      "text/plain": [
       "\u001b[1;32m✔️ Nội dung do Activity Designer tạo ra:\u001b[0m\n"
      ]
     },
     "metadata": {},
     "output_type": "display_data"
    },
    {
     "data": {
      "text/html": [
       "<pre style=\"white-space:pre;overflow-x:auto;line-height:normal;font-family:Menlo,'DejaVu Sans Mono',consolas,'Courier New',monospace\"><span style=\"font-weight: bold\">{</span>\n",
       "<span style=\"color: #7fbf7f; text-decoration-color: #7fbf7f\">│   </span><span style=\"color: #008000; text-decoration-color: #008000\">'activity_name'</span>: <span style=\"color: #008000; text-decoration-color: #008000\">'Vận dụng Đường tròn nội tiếp và tổng kết kiến thức'</span>,\n",
       "<span style=\"color: #7fbf7f; text-decoration-color: #7fbf7f\">│   </span><span style=\"color: #008000; text-decoration-color: #008000\">'description'</span>: <span style=\"color: #008000; text-decoration-color: #008000\">'Học sinh sẽ thực hiện các nhiệm vụ sau:1. Giải bài tập thực hành: Bài 1: Cho tam giác ABC vuông tại A có AB = 6cm, AC = 8cm. Tính bán kính đường tròn nội tiếp tam giác ABC. Bài 2: Nêu cách xác định tâm đường tròn nội tiếp của một tam giác bất kỳ bằng thước và compa.2. So sánh và tổng kết kiến thức: Lập bảng so sánh điểm giống và khác nhau giữa đường tròn ngoại tiếp và đường tròn nội tiếp của một tam giác (về định nghĩa, vị trí tâm, cách xác định tâm, công thức tính bán kính). Thảo luận nhóm để hệ thống hóa các kiến thức quan trọng nhất về hai loại đường tròn này.'</span>,\n",
       "<span style=\"color: #7fbf7f; text-decoration-color: #7fbf7f\">│   </span><span style=\"color: #008000; text-decoration-color: #008000\">'duration_minutes'</span>: <span style=\"color: #008080; text-decoration-color: #008080; font-weight: bold\">10</span>,\n",
       "<span style=\"color: #7fbf7f; text-decoration-color: #7fbf7f\">│   </span><span style=\"color: #008000; text-decoration-color: #008000\">'activity_type'</span>: <span style=\"color: #008000; text-decoration-color: #008000\">'Luyện tập và Tổng kết'</span>,\n",
       "<span style=\"color: #7fbf7f; text-decoration-color: #7fbf7f\">│   </span><span style=\"color: #008000; text-decoration-color: #008000\">'teacher_actions'</span>: <span style=\"font-weight: bold\">[</span>\n",
       "<span style=\"color: #7fbf7f; text-decoration-color: #7fbf7f\">│   │   </span><span style=\"color: #008000; text-decoration-color: #008000\">'Chiếu slide chứa các bài tập thực hành và yêu cầu so sánh.'</span>,\n",
       "<span style=\"color: #7fbf7f; text-decoration-color: #7fbf7f\">│   │   </span><span style=\"color: #008000; text-decoration-color: #008000\">'Phát phiếu học tập có in sẵn đề bài và bảng so sánh cho từng nhóm hoặc cá nhân.'</span>,\n",
       "<span style=\"color: #7fbf7f; text-decoration-color: #7fbf7f\">│   │   </span><span style=\"color: #008000; text-decoration-color: #008000\">'Đi lại quan sát các nhóm làm việc, gợi ý và hỗ trợ khi học sinh gặp khó khăn.'</span>,\n",
       "<span style=\"color: #7fbf7f; text-decoration-color: #7fbf7f\">│   │   </span><span style=\"color: #008000; text-decoration-color: #008000\">\"Đặt câu hỏi gợi mở: 'Tâm đường tròn nội tiếp là giao điểm của những đường nào?', 'Công thức tính bán kính đường tròn nội tiếp tam giác vuông là gì?', 'Điểm khác biệt lớn nhất giữa tâm đường tròn nội tiếp và ngoại tiếp là gì?'\"</span>,\n",
       "<span style=\"color: #7fbf7f; text-decoration-color: #7fbf7f\">│   │   </span><span style=\"color: #008000; text-decoration-color: #008000\">'Yêu cầu đại diện 1-2 nhóm trình bày kết quả bài tập và bảng so sánh trên bảng hoặc qua máy chiếu.'</span>,\n",
       "<span style=\"color: #7fbf7f; text-decoration-color: #7fbf7f\">│   │   </span><span style=\"color: #008000; text-decoration-color: #008000\">'Tổng kết các kiến thức trọng tâm về đường tròn nội tiếp và ngoại tiếp, nhấn mạnh các điểm cần lưu ý và các lỗi thường gặp.'</span>\n",
       "<span style=\"color: #7fbf7f; text-decoration-color: #7fbf7f\">│   </span><span style=\"font-weight: bold\">]</span>,\n",
       "<span style=\"color: #7fbf7f; text-decoration-color: #7fbf7f\">│   </span><span style=\"color: #008000; text-decoration-color: #008000\">'solution_guide'</span>: <span style=\"font-weight: bold\">{</span>\n",
       "<span style=\"color: #7fbf7f; text-decoration-color: #7fbf7f\">│   │   </span><span style=\"color: #008000; text-decoration-color: #008000\">'Gợi ý Bài 1'</span>: <span style=\"color: #008000; text-decoration-color: #008000\">'Sử dụng công thức tính bán kính đường tròn nội tiếp tam giác vuông r = (a+b-c)/2 hoặc công thức diện tích S = pr.'</span>,\n",
       "<span style=\"color: #7fbf7f; text-decoration-color: #7fbf7f\">│   │   </span><span style=\"color: #008000; text-decoration-color: #008000\">'Gợi ý Bài 2'</span>: <span style=\"color: #008000; text-decoration-color: #008000\">'Tâm đường tròn nội tiếp là giao điểm của ba đường phân giác trong của tam giác.'</span>,\n",
       "<span style=\"color: #7fbf7f; text-decoration-color: #7fbf7f\">│   │   </span><span style=\"color: #008000; text-decoration-color: #008000\">'Gợi ý so sánh'</span>: <span style=\"color: #008000; text-decoration-color: #008000\">'Tập trung vào định nghĩa, vị trí tâm (trong/ngoài tam giác), cách xác định tâm (giao điểm của đường gì), và công thức tính bán kính (nếu có).'</span>,\n",
       "<span style=\"color: #7fbf7f; text-decoration-color: #7fbf7f\">│   │   </span><span style=\"color: #008000; text-decoration-color: #008000\">'Câu hỏi tổng kết'</span>: <span style=\"color: #008000; text-decoration-color: #008000\">'Khi nào thì tâm đường tròn ngoại tiếp nằm ngoài tam giác? Khi nào thì tâm đường tròn nội tiếp trùng với tâm đường tròn ngoại tiếp?'</span>\n",
       "<span style=\"color: #7fbf7f; text-decoration-color: #7fbf7f\">│   </span><span style=\"font-weight: bold\">}</span>\n",
       "<span style=\"font-weight: bold\">}</span>\n",
       "</pre>\n"
      ],
      "text/plain": [
       "\u001b[1m{\u001b[0m\n",
       "\u001b[2;32m│   \u001b[0m\u001b[32m'activity_name'\u001b[0m: \u001b[32m'Vận dụng Đường tròn nội tiếp và tổng kết kiến thức'\u001b[0m,\n",
       "\u001b[2;32m│   \u001b[0m\u001b[32m'description'\u001b[0m: \u001b[32m'Học sinh sẽ thực hiện các nhiệm vụ sau:1. Giải bài tập thực hành: Bài 1: Cho tam giác ABC vuông tại A có AB = 6cm, AC = 8cm. Tính bán kính đường tròn nội tiếp tam giác ABC. Bài 2: Nêu cách xác định tâm đường tròn nội tiếp của một tam giác bất kỳ bằng thước và compa.2. So sánh và tổng kết kiến thức: Lập bảng so sánh điểm giống và khác nhau giữa đường tròn ngoại tiếp và đường tròn nội tiếp của một tam giác \u001b[0m\u001b[32m(\u001b[0m\u001b[32mvề định nghĩa, vị trí tâm, cách xác định tâm, công thức tính bán kính\u001b[0m\u001b[32m)\u001b[0m\u001b[32m. Thảo luận nhóm để hệ thống hóa các kiến thức quan trọng nhất về hai loại đường tròn này.'\u001b[0m,\n",
       "\u001b[2;32m│   \u001b[0m\u001b[32m'duration_minutes'\u001b[0m: \u001b[1;36m10\u001b[0m,\n",
       "\u001b[2;32m│   \u001b[0m\u001b[32m'activity_type'\u001b[0m: \u001b[32m'Luyện tập và Tổng kết'\u001b[0m,\n",
       "\u001b[2;32m│   \u001b[0m\u001b[32m'teacher_actions'\u001b[0m: \u001b[1m[\u001b[0m\n",
       "\u001b[2;32m│   │   \u001b[0m\u001b[32m'Chiếu slide chứa các bài tập thực hành và yêu cầu so sánh.'\u001b[0m,\n",
       "\u001b[2;32m│   │   \u001b[0m\u001b[32m'Phát phiếu học tập có in sẵn đề bài và bảng so sánh cho từng nhóm hoặc cá nhân.'\u001b[0m,\n",
       "\u001b[2;32m│   │   \u001b[0m\u001b[32m'Đi lại quan sát các nhóm làm việc, gợi ý và hỗ trợ khi học sinh gặp khó khăn.'\u001b[0m,\n",
       "\u001b[2;32m│   │   \u001b[0m\u001b[32m\"Đặt câu hỏi gợi mở: 'Tâm đường tròn nội tiếp là giao điểm của những đường nào?', 'Công thức tính bán kính đường tròn nội tiếp tam giác vuông là gì?', 'Điểm khác biệt lớn nhất giữa tâm đường tròn nội tiếp và ngoại tiếp là gì?'\"\u001b[0m,\n",
       "\u001b[2;32m│   │   \u001b[0m\u001b[32m'Yêu cầu đại diện 1-2 nhóm trình bày kết quả bài tập và bảng so sánh trên bảng hoặc qua máy chiếu.'\u001b[0m,\n",
       "\u001b[2;32m│   │   \u001b[0m\u001b[32m'Tổng kết các kiến thức trọng tâm về đường tròn nội tiếp và ngoại tiếp, nhấn mạnh các điểm cần lưu ý và các lỗi thường gặp.'\u001b[0m\n",
       "\u001b[2;32m│   \u001b[0m\u001b[1m]\u001b[0m,\n",
       "\u001b[2;32m│   \u001b[0m\u001b[32m'solution_guide'\u001b[0m: \u001b[1m{\u001b[0m\n",
       "\u001b[2;32m│   │   \u001b[0m\u001b[32m'Gợi ý Bài 1'\u001b[0m: \u001b[32m'Sử dụng công thức tính bán kính đường tròn nội tiếp tam giác vuông r = \u001b[0m\u001b[32m(\u001b[0m\u001b[32ma+b-c\u001b[0m\u001b[32m)\u001b[0m\u001b[32m/2 hoặc công thức diện tích S = pr.'\u001b[0m,\n",
       "\u001b[2;32m│   │   \u001b[0m\u001b[32m'Gợi ý Bài 2'\u001b[0m: \u001b[32m'Tâm đường tròn nội tiếp là giao điểm của ba đường phân giác trong của tam giác.'\u001b[0m,\n",
       "\u001b[2;32m│   │   \u001b[0m\u001b[32m'Gợi ý so sánh'\u001b[0m: \u001b[32m'Tập trung vào định nghĩa, vị trí tâm \u001b[0m\u001b[32m(\u001b[0m\u001b[32mtrong/ngoài tam giác\u001b[0m\u001b[32m)\u001b[0m\u001b[32m, cách xác định tâm \u001b[0m\u001b[32m(\u001b[0m\u001b[32mgiao điểm của đường gì\u001b[0m\u001b[32m)\u001b[0m\u001b[32m, và công thức tính bán kính \u001b[0m\u001b[32m(\u001b[0m\u001b[32mnếu có\u001b[0m\u001b[32m)\u001b[0m\u001b[32m.'\u001b[0m,\n",
       "\u001b[2;32m│   │   \u001b[0m\u001b[32m'Câu hỏi tổng kết'\u001b[0m: \u001b[32m'Khi nào thì tâm đường tròn ngoại tiếp nằm ngoài tam giác? Khi nào thì tâm đường tròn nội tiếp trùng với tâm đường tròn ngoại tiếp?'\u001b[0m\n",
       "\u001b[2;32m│   \u001b[0m\u001b[1m}\u001b[0m\n",
       "\u001b[1m}\u001b[0m\n"
      ]
     },
     "metadata": {},
     "output_type": "display_data"
    },
    {
     "data": {
      "text/html": [
       "<pre style=\"white-space:pre;overflow-x:auto;line-height:normal;font-family:Menlo,'DejaVu Sans Mono',consolas,'Courier New',monospace\">\n",
       "<span style=\"color: #808000; text-decoration-color: #808000; font-weight: bold\">------- Hoàn thành bước: activity_designer -------</span>\n",
       "</pre>\n"
      ],
      "text/plain": [
       "\n",
       "\u001b[1;33m------- Hoàn thành bước: activity_designer -------\u001b[0m\n"
      ]
     },
     "metadata": {},
     "output_type": "display_data"
    },
    {
     "data": {
      "text/html": [
       "<pre style=\"white-space:pre;overflow-x:auto;line-height:normal;font-family:Menlo,'DejaVu Sans Mono',consolas,'Courier New',monospace\">\n",
       "<span style=\"color: #008080; text-decoration-color: #008080; font-weight: bold\">&gt;</span> `Agent: Contextual Critic` <span style=\"font-weight: bold\">(</span>v7.<span style=\"color: #008080; text-decoration-color: #008080; font-weight: bold\">5</span><span style=\"font-weight: bold\">)</span> đang phản biện nội dung<span style=\"color: #808000; text-decoration-color: #808000\">...</span>\n",
       "</pre>\n"
      ],
      "text/plain": [
       "\n",
       "\u001b[1;36m>\u001b[0m `Agent: Contextual Critic` \u001b[1m(\u001b[0mv7.\u001b[1;36m5\u001b[0m\u001b[1m)\u001b[0m đang phản biện nội dung\u001b[33m...\u001b[0m\n"
      ]
     },
     "metadata": {},
     "output_type": "display_data"
    },
    {
     "data": {
      "text/html": [
       "<pre style=\"white-space:pre;overflow-x:auto;line-height:normal;font-family:Menlo,'DejaVu Sans Mono',consolas,'Courier New',monospace\">\n",
       "<span style=\"color: #008080; text-decoration-color: #008080; font-weight: bold\">&gt;</span> ✔️ CHUYÊN GIA PHẢN BIỆN: Nội dung hợp lệ!\n",
       "</pre>\n"
      ],
      "text/plain": [
       "\n",
       "\u001b[1;36m>\u001b[0m ✔️ CHUYÊN GIA PHẢN BIỆN: Nội dung hợp lệ!\n"
      ]
     },
     "metadata": {},
     "output_type": "display_data"
    },
    {
     "data": {
      "text/html": [
       "<pre style=\"white-space:pre;overflow-x:auto;line-height:normal;font-family:Menlo,'DejaVu Sans Mono',consolas,'Courier New',monospace\">\n",
       "<span style=\"color: #008080; text-decoration-color: #008080; font-weight: bold\">&gt;</span> ROUTER <span style=\"font-weight: bold\">(</span>Validation<span style=\"font-weight: bold\">)</span>: Nội dung được chấp thuận. Chuyển sang bước ghi nhận.\n",
       "</pre>\n"
      ],
      "text/plain": [
       "\n",
       "\u001b[1;36m>\u001b[0m ROUTER \u001b[1m(\u001b[0mValidation\u001b[1m)\u001b[0m: Nội dung được chấp thuận. Chuyển sang bước ghi nhận.\n"
      ]
     },
     "metadata": {},
     "output_type": "display_data"
    },
    {
     "data": {
      "text/html": [
       "<pre style=\"white-space:pre;overflow-x:auto;line-height:normal;font-family:Menlo,'DejaVu Sans Mono',consolas,'Courier New',monospace\">\n",
       "<span style=\"color: #808000; text-decoration-color: #808000; font-weight: bold\">------- Hoàn thành bước: content_validator -------</span>\n",
       "</pre>\n"
      ],
      "text/plain": [
       "\n",
       "\u001b[1;33m------- Hoàn thành bước: content_validator -------\u001b[0m\n"
      ]
     },
     "metadata": {},
     "output_type": "display_data"
    },
    {
     "data": {
      "text/html": [
       "<pre style=\"white-space:pre;overflow-x:auto;line-height:normal;font-family:Menlo,'DejaVu Sans Mono',consolas,'Courier New',monospace\">\n",
       "<span style=\"color: #008080; text-decoration-color: #008080; font-weight: bold\">&gt;</span> `Commiter`: Đang ghi nhận nội dung đã được xác thực<span style=\"color: #808000; text-decoration-color: #808000\">...</span>\n",
       "</pre>\n"
      ],
      "text/plain": [
       "\n",
       "\u001b[1;36m>\u001b[0m `Commiter`: Đang ghi nhận nội dung đã được xác thực\u001b[33m...\u001b[0m\n"
      ]
     },
     "metadata": {},
     "output_type": "display_data"
    },
    {
     "data": {
      "text/html": [
       "<pre style=\"white-space:pre;overflow-x:auto;line-height:normal;font-family:Menlo,'DejaVu Sans Mono',consolas,'Courier New',monospace\">\n",
       "<span style=\"color: #808000; text-decoration-color: #808000; font-weight: bold\">------- Hoàn thành bước: commit_validated_content -------</span>\n",
       "</pre>\n"
      ],
      "text/plain": [
       "\n",
       "\u001b[1;33m------- Hoàn thành bước: commit_validated_content -------\u001b[0m\n"
      ]
     },
     "metadata": {},
     "output_type": "display_data"
    },
    {
     "data": {
      "text/html": [
       "<pre style=\"white-space:pre;overflow-x:auto;line-height:normal;font-family:Menlo,'DejaVu Sans Mono',consolas,'Courier New',monospace\">\n",
       "<span style=\"color: #808000; text-decoration-color: #808000; font-weight: bold\">------- Hoàn thành bước: mark_task_complete -------</span>\n",
       "</pre>\n"
      ],
      "text/plain": [
       "\n",
       "\u001b[1;33m------- Hoàn thành bước: mark_task_complete -------\u001b[0m\n"
      ]
     },
     "metadata": {},
     "output_type": "display_data"
    },
    {
     "data": {
      "text/html": [
       "<pre style=\"white-space:pre;overflow-x:auto;line-height:normal;font-family:Menlo,'DejaVu Sans Mono',consolas,'Courier New',monospace\">\n",
       "<span style=\"color: #008080; text-decoration-color: #008080; font-weight: bold\">&gt;</span> <span style=\"color: #808000; text-decoration-color: #808000\">...</span>Đang nghỉ <span style=\"color: #008080; text-decoration-color: #008080; font-weight: bold\">2</span> giây để tránh vượt rate limit<span style=\"color: #808000; text-decoration-color: #808000\">...</span>\n",
       "</pre>\n"
      ],
      "text/plain": [
       "\n",
       "\u001b[1;36m>\u001b[0m \u001b[33m...\u001b[0mĐang nghỉ \u001b[1;36m2\u001b[0m giây để tránh vượt rate limit\u001b[33m...\u001b[0m\n"
      ]
     },
     "metadata": {},
     "output_type": "display_data"
    },
    {
     "data": {
      "text/html": [
       "<pre style=\"white-space:pre;overflow-x:auto;line-height:normal;font-family:Menlo,'DejaVu Sans Mono',consolas,'Courier New',monospace\">\n",
       "<span style=\"color: #808000; text-decoration-color: #808000; font-weight: bold\">------- Hoàn thành bước: delay_node -------</span>\n",
       "</pre>\n"
      ],
      "text/plain": [
       "\n",
       "\u001b[1;33m------- Hoàn thành bước: delay_node -------\u001b[0m\n"
      ]
     },
     "metadata": {},
     "output_type": "display_data"
    },
    {
     "data": {
      "text/html": [
       "<pre style=\"white-space:pre;overflow-x:auto;line-height:normal;font-family:Menlo,'DejaVu Sans Mono',consolas,'Courier New',monospace\">\n",
       "<span style=\"color: #008080; text-decoration-color: #008080; font-weight: bold\">&gt;</span> `Router`: Đang kiểm tra nhiệm vụ<span style=\"color: #808000; text-decoration-color: #808000\">...</span>\n",
       "</pre>\n"
      ],
      "text/plain": [
       "\n",
       "\u001b[1;36m>\u001b[0m `Router`: Đang kiểm tra nhiệm vụ\u001b[33m...\u001b[0m\n"
      ]
     },
     "metadata": {},
     "output_type": "display_data"
    },
    {
     "data": {
      "text/html": [
       "<pre style=\"white-space:pre;overflow-x:auto;line-height:normal;font-family:Menlo,'DejaVu Sans Mono',consolas,'Courier New',monospace\">\n",
       "<span style=\"color: #008080; text-decoration-color: #008080; font-weight: bold\">&gt;</span> Hết nhiệm vụ, chuyển sang node Compiler &amp; Critic.\n",
       "</pre>\n"
      ],
      "text/plain": [
       "\n",
       "\u001b[1;36m>\u001b[0m Hết nhiệm vụ, chuyển sang node Compiler & Critic.\n"
      ]
     },
     "metadata": {},
     "output_type": "display_data"
    },
    {
     "data": {
      "text/html": [
       "<pre style=\"white-space:pre;overflow-x:auto;line-height:normal;font-family:Menlo,'DejaVu Sans Mono',consolas,'Courier New',monospace\">\n",
       "<span style=\"color: #808000; text-decoration-color: #808000; font-weight: bold\">------- Hoàn thành bước: task_router -------</span>\n",
       "</pre>\n"
      ],
      "text/plain": [
       "\n",
       "\u001b[1;33m------- Hoàn thành bước: task_router -------\u001b[0m\n"
      ]
     },
     "metadata": {},
     "output_type": "display_data"
    },
    {
     "data": {
      "text/html": [
       "<pre style=\"white-space:pre;overflow-x:auto;line-height:normal;font-family:Menlo,'DejaVu Sans Mono',consolas,'Courier New',monospace\">\n",
       "<span style=\"color: #008080; text-decoration-color: #008080; font-weight: bold\">&gt;</span> `Agent: Plan Compiler &amp; Critic` <span style=\"font-weight: bold\">(</span>v8.<span style=\"color: #008080; text-decoration-color: #008080; font-weight: bold\">0</span><span style=\"font-weight: bold\">)</span> đang tổng hợp và đánh giá<span style=\"color: #808000; text-decoration-color: #808000\">...</span>\n",
       "</pre>\n"
      ],
      "text/plain": [
       "\n",
       "\u001b[1;36m>\u001b[0m `Agent: Plan Compiler & Critic` \u001b[1m(\u001b[0mv8.\u001b[1;36m0\u001b[0m\u001b[1m)\u001b[0m đang tổng hợp và đánh giá\u001b[33m...\u001b[0m\n"
      ]
     },
     "metadata": {},
     "output_type": "display_data"
    },
    {
     "data": {
      "text/html": [
       "<pre style=\"white-space:pre;overflow-x:auto;line-height:normal;font-family:Menlo,'DejaVu Sans Mono',consolas,'Courier New',monospace\">\n",
       "<span style=\"color: #008080; text-decoration-color: #008080; font-weight: bold\">&gt;</span> CRITIC: Kế hoạch hợp lệ! Bắt đầu tổng hợp giáo án chi tiết<span style=\"color: #808000; text-decoration-color: #808000\">...</span>\n",
       "</pre>\n"
      ],
      "text/plain": [
       "\n",
       "\u001b[1;36m>\u001b[0m CRITIC: Kế hoạch hợp lệ! Bắt đầu tổng hợp giáo án chi tiết\u001b[33m...\u001b[0m\n"
      ]
     },
     "metadata": {},
     "output_type": "display_data"
    },
    {
     "data": {
      "text/html": [
       "<pre style=\"white-space:pre;overflow-x:auto;line-height:normal;font-family:Menlo,'DejaVu Sans Mono',consolas,'Courier New',monospace\">\n",
       "<span style=\"color: #008080; text-decoration-color: #008080; font-weight: bold\">&gt;</span> ✔️ Đã biên tập thành công giáo án cuối cùng với lời chuyển mượt mà.\n",
       "</pre>\n"
      ],
      "text/plain": [
       "\n",
       "\u001b[1;36m>\u001b[0m ✔️ Đã biên tập thành công giáo án cuối cùng với lời chuyển mượt mà.\n"
      ]
     },
     "metadata": {},
     "output_type": "display_data"
    },
    {
     "data": {
      "text/html": [
       "<pre style=\"white-space:pre;overflow-x:auto;line-height:normal;font-family:Menlo,'DejaVu Sans Mono',consolas,'Courier New',monospace\">\n",
       "<span style=\"color: #008080; text-decoration-color: #008080; font-weight: bold\">&gt;</span> ROUTER <span style=\"font-weight: bold\">(</span>Compilation<span style=\"font-weight: bold\">)</span>: Critic lớn đã hài lòng. Kết thúc quy trình.\n",
       "</pre>\n"
      ],
      "text/plain": [
       "\n",
       "\u001b[1;36m>\u001b[0m ROUTER \u001b[1m(\u001b[0mCompilation\u001b[1m)\u001b[0m: Critic lớn đã hài lòng. Kết thúc quy trình.\n"
      ]
     },
     "metadata": {},
     "output_type": "display_data"
    },
    {
     "data": {
      "text/html": [
       "<pre style=\"white-space:pre;overflow-x:auto;line-height:normal;font-family:Menlo,'DejaVu Sans Mono',consolas,'Courier New',monospace\">\n",
       "<span style=\"color: #808000; text-decoration-color: #808000; font-weight: bold\">------- Hoàn thành bước: plan_compiler_and_critic -------</span>\n",
       "</pre>\n"
      ],
      "text/plain": [
       "\n",
       "\u001b[1;33m------- Hoàn thành bước: plan_compiler_and_critic -------\u001b[0m\n"
      ]
     },
     "metadata": {},
     "output_type": "display_data"
    },
    {
     "data": {
      "text/html": [
       "<pre style=\"white-space:pre;overflow-x:auto;line-height:normal;font-family:Menlo,'DejaVu Sans Mono',consolas,'Courier New',monospace\">\n",
       "<span style=\"color: #800080; text-decoration-color: #800080; font-weight: bold\">🏁 KẾT THÚC QUY TRÌNH V7.</span><span style=\"color: #800080; text-decoration-color: #800080; font-weight: bold\">1</span><span style=\"color: #800080; text-decoration-color: #800080; font-weight: bold\">.</span>\n",
       "</pre>\n"
      ],
      "text/plain": [
       "\n",
       "\u001b[1;35m🏁 KẾT THÚC QUY TRÌNH V7.\u001b[0m\u001b[1;35m1\u001b[0m\u001b[1;35m.\u001b[0m\n"
      ]
     },
     "metadata": {},
     "output_type": "display_data"
    },
    {
     "data": {
      "text/html": [
       "<pre style=\"white-space:pre;overflow-x:auto;line-height:normal;font-family:Menlo,'DejaVu Sans Mono',consolas,'Courier New',monospace\">\n",
       "<span style=\"color: #008000; text-decoration-color: #008000; font-weight: bold\">📝 GIÁO ÁN HOÀN CHỈNH (v7.</span><span style=\"color: #008000; text-decoration-color: #008000; font-weight: bold\">1</span><span style=\"color: #008000; text-decoration-color: #008000; font-weight: bold\">)</span>\n",
       "</pre>\n"
      ],
      "text/plain": [
       "\n",
       "\u001b[1;32m📝 GIÁO ÁN HOÀN CHỈNH \u001b[0m\u001b[1;32m(\u001b[0m\u001b[1;32mv7.\u001b[0m\u001b[1;32m1\u001b[0m\u001b[1;32m)\u001b[0m\n"
      ]
     },
     "metadata": {},
     "output_type": "display_data"
    },
    {
     "data": {
      "text/html": [
       "<pre style=\"white-space:pre;overflow-x:auto;line-height:normal;font-family:Menlo,'DejaVu Sans Mono',consolas,'Courier New',monospace\">Chào các em học sinh,                                                                                              \n",
       "\n",
       "Với vai trò là một Biên tập viên Sư phạm giàu kinh nghiệm, thầy/cô đã tiếp nhận thông tin tổng quan và bản nháp chi\n",
       "tiết các hoạt động của buổi học. Dựa trên những thông tin này, thầy/cô xin trình bày một Giáo án hoàn chỉnh dưới   \n",
       "đây, đảm bảo tuân thủ mọi quy tắc đã đề ra.                                                                        \n",
       "\n",
       "<span style=\"color: #808000; text-decoration-color: #808000\">───────────────────────────────────────────────────────────────────────────────────────────────────────────────────</span>\n",
       "┏━━━━━━━━━━━━━━━━━━━━━━━━━━━━━━━━━━━━━━━━━━━━━━━━━━━━━━━━━━━━━━━━━━━━━━━━━━━━━━━━━━━━━━━━━━━━━━━━━━━━━━━━━━━━━━━━━┓\n",
       "┃                                             <span style=\"font-weight: bold\">GIÁO ÁN MÔN TOÁN LỚP 9</span>                                              ┃\n",
       "┗━━━━━━━━━━━━━━━━━━━━━━━━━━━━━━━━━━━━━━━━━━━━━━━━━━━━━━━━━━━━━━━━━━━━━━━━━━━━━━━━━━━━━━━━━━━━━━━━━━━━━━━━━━━━━━━━━┛\n",
       "\n",
       "\n",
       "                                 <span style=\"font-weight: bold; text-decoration: underline\">BÀI: ĐƯỜNG TRÒN NGOẠI TIẾP VÀ ĐƯỜNG TRÒN NỘI TIẾP</span>                                 \n",
       "\n",
       "<span style=\"color: #808000; text-decoration-color: #808000\">───────────────────────────────────────────────────────────────────────────────────────────────────────────────────</span>\n",
       "                                                <span style=\"font-weight: bold\">I. THÔNG TIN CHUNG</span>                                                 \n",
       "\n",
       "<span style=\"color: #808000; text-decoration-color: #808000; font-weight: bold\"> • </span><span style=\"font-weight: bold\">Môn học:</span> Toán học                                                                                               \n",
       "<span style=\"color: #808000; text-decoration-color: #808000; font-weight: bold\"> • </span><span style=\"font-weight: bold\">Lớp:</span> 9                                                                                                          \n",
       "<span style=\"color: #808000; text-decoration-color: #808000; font-weight: bold\"> • </span><span style=\"font-weight: bold\">Thời lượng:</span> 90 phút                                                                                             \n",
       "<span style=\"color: #808000; text-decoration-color: #808000; font-weight: bold\"> • </span><span style=\"font-weight: bold\">Chủ đề:</span> Đường tròn ngoại tiếp và đường tròn nội tiếp                                                            \n",
       "<span style=\"color: #808000; text-decoration-color: #808000; font-weight: bold\"> • </span><span style=\"font-weight: bold\">Phương pháp chủ đạo:</span> Dạy học hợp tác kết hợp thực hành                                                          \n",
       "<span style=\"color: #808000; text-decoration-color: #808000; font-weight: bold\"> • </span><span style=\"font-weight: bold\">Đặc điểm lớp học:</span> Lớp học khá yếu, học sinh dễ mất tập trung và cần các hoạt động tương tác cao.                \n",
       "\n",
       "                                               <span style=\"font-weight: bold\">II. MỤC TIÊU BÀI HỌC</span>                                                \n",
       "\n",
       "Sau khi hoàn thành bài học này, học sinh có thể:                                                                   \n",
       "\n",
       "<span style=\"color: #808000; text-decoration-color: #808000; font-weight: bold\"> 1 </span><span style=\"font-weight: bold\">Kiến thức:</span>                                                                                                      \n",
       "<span style=\"color: #808000; text-decoration-color: #808000; font-weight: bold\">    • </span>Nêu được định nghĩa đường tròn ngoại tiếp tam giác và đường tròn nội tiếp tam giác.                          \n",
       "<span style=\"color: #808000; text-decoration-color: #808000; font-weight: bold\">    • </span>Xác định được tâm và bán kính của đường tròn ngoại tiếp, đường tròn nội tiếp trong các trường hợp tam giác   \n",
       "<span style=\"color: #808000; text-decoration-color: #808000; font-weight: bold\">      </span>đặc biệt (tam giác vuông, tam giác đều).                                                                     \n",
       "<span style=\"color: #808000; text-decoration-color: #808000; font-weight: bold\">    • </span>Nắm vững mối liên hệ giữa đường tròn và tam giác, đặc biệt là vị trí của tâm đường tròn ngoại tiếp và nội    \n",
       "<span style=\"color: #808000; text-decoration-color: #808000; font-weight: bold\">      </span>tiếp.                                                                                                        \n",
       "<span style=\"color: #808000; text-decoration-color: #808000; font-weight: bold\">    • </span>Hiểu và vận dụng được các tính chất cơ bản của tứ giác nội tiếp đường tròn.                                  \n",
       "<span style=\"color: #808000; text-decoration-color: #808000; font-weight: bold\"> 2 </span><span style=\"font-weight: bold\">Kỹ năng:</span>                                                                                                        \n",
       "<span style=\"color: #808000; text-decoration-color: #808000; font-weight: bold\">    • </span>Vẽ hình chính xác các đường trung trực, đường phân giác và đường tròn bằng thước, compa.                     \n",
       "<span style=\"color: #808000; text-decoration-color: #808000; font-weight: bold\">    • </span>Thực hiện các phép tính liên quan đến bán kính đường tròn ngoại tiếp và nội tiếp.                            \n",
       "<span style=\"color: #808000; text-decoration-color: #808000; font-weight: bold\">    • </span>Phân tích, tổng hợp kiến thức để giải quyết các bài tập hình học.                                            \n",
       "<span style=\"color: #808000; text-decoration-color: #808000; font-weight: bold\">    • </span>Làm việc nhóm hiệu quả, trình bày ý tưởng và kết quả.                                                        \n",
       "<span style=\"color: #808000; text-decoration-color: #808000; font-weight: bold\"> 3 </span><span style=\"font-weight: bold\">Thái độ:</span>                                                                                                        \n",
       "<span style=\"color: #808000; text-decoration-color: #808000; font-weight: bold\">    • </span>Tích cực, chủ động tham gia vào các hoạt động học tập.                                                       \n",
       "<span style=\"color: #808000; text-decoration-color: #808000; font-weight: bold\">    • </span>Cẩn thận, chính xác trong việc vẽ hình và tính toán.                                                         \n",
       "<span style=\"color: #808000; text-decoration-color: #808000; font-weight: bold\">    • </span>Yêu thích môn Toán và hình học.                                                                              \n",
       "<span style=\"color: #808000; text-decoration-color: #808000; font-weight: bold\">    • </span>Có tinh thần hợp tác, giúp đỡ bạn bè.                                                                        \n",
       "\n",
       "                                      <span style=\"font-weight: bold\">III. CHUẨN BỊ CỦA GIÁO VIÊN VÀ HỌC SINH</span>                                      \n",
       "\n",
       "<span style=\"color: #808000; text-decoration-color: #808000; font-weight: bold\"> 1 </span><span style=\"font-weight: bold\">Giáo viên:</span>                                                                                                      \n",
       "<span style=\"color: #808000; text-decoration-color: #808000; font-weight: bold\">    • </span>Giáo án, máy chiếu, bảng phụ.                                                                                \n",
       "<span style=\"color: #808000; text-decoration-color: #808000; font-weight: bold\">    • </span>Phiếu bài tập \"Ôn tập kiến thức nền tảng\".                                                                   \n",
       "<span style=\"color: #808000; text-decoration-color: #808000; font-weight: bold\">    • </span>Giấy A4, thước, compa mẫu để hướng dẫn.                                                                      \n",
       "<span style=\"color: #808000; text-decoration-color: #808000; font-weight: bold\">    • </span>Các slide trình chiếu nội dung bài học, hướng dẫn vẽ hình, đề bài tập và gợi ý đáp án.                       \n",
       "<span style=\"color: #808000; text-decoration-color: #808000; font-weight: bold\"> 2 </span><span style=\"font-weight: bold\">Học sinh:</span>                                                                                                       \n",
       "<span style=\"color: #808000; text-decoration-color: #808000; font-weight: bold\">    • </span>Sách giáo khoa Toán 9.                                                                                       \n",
       "<span style=\"color: #808000; text-decoration-color: #808000; font-weight: bold\">    • </span>Vở ghi, bút, thước kẻ, compa.                                                                                \n",
       "<span style=\"color: #808000; text-decoration-color: #808000; font-weight: bold\">    • </span>Giấy nháp.                                                                                                   \n",
       "\n",
       "                                              <span style=\"font-weight: bold\">IV. TIẾN TRÌNH DẠY HỌC</span>                                               \n",
       "\n",
       "                           <span style=\"color: #7f7f7f; text-decoration-color: #7f7f7f; font-weight: bold\">Hoạt động 1: Ôn tập kiến thức nền tảng về hình học (10 phút)</span>                            \n",
       "\n",
       "<span style=\"color: #808000; text-decoration-color: #808000; font-weight: bold\"> • </span><span style=\"font-weight: bold\">Loại hình:</span> Ôn tập cá nhân                                                                                       \n",
       "<span style=\"color: #808000; text-decoration-color: #808000; font-weight: bold\"> • </span><span style=\"font-weight: bold\">Hành động của Giáo viên:</span>                                                                                        \n",
       "<span style=\"color: #808000; text-decoration-color: #808000; font-weight: bold\">    • </span>Chiếu slide giới thiệu hoạt động \"Ôn tập kiến thức nền tảng về hình học\" và mục tiêu của hoạt động.          \n",
       "<span style=\"color: #808000; text-decoration-color: #808000; font-weight: bold\">    • </span>Phát phiếu bài tập \"Ôn tập kiến thức nền tảng\" cho từng học sinh.                                            \n",
       "<span style=\"color: #808000; text-decoration-color: #808000; font-weight: bold\">    • </span>Nhắc nhở học sinh đọc kỹ yêu cầu và hoàn thành bài tập cá nhân.                                              \n",
       "<span style=\"color: #808000; text-decoration-color: #808000; font-weight: bold\">    • </span>Quan sát học sinh làm bài, đi lại trong lớp để nắm bắt tình hình và kịp thời hỗ trợ.                         \n",
       "<span style=\"color: #808000; text-decoration-color: #808000; font-weight: bold\">    • </span>Gợi ý, hỗ trợ những học sinh gặp khó khăn (ví dụ: \"Em thử nhớ lại định nghĩa đường trung trực là gì?\", \"Đường\n",
       "<span style=\"color: #808000; text-decoration-color: #808000; font-weight: bold\">      </span>phân giác có tính chất gì đặc biệt?\").                                                                       \n",
       "<span style=\"color: #808000; text-decoration-color: #808000; font-weight: bold\">    • </span>Thu phiếu bài tập sau khi hết giờ.                                                                           \n",
       "<span style=\"color: #808000; text-decoration-color: #808000; font-weight: bold\"> • </span><span style=\"font-weight: bold\">Nhiệm vụ của Học sinh (Mô tả):</span> Học sinh sẽ nhận phiếu bài tập cá nhân. Trên phiếu có các câu hỏi và yêu cầu vẽ  \n",
       "<span style=\"color: #808000; text-decoration-color: #808000; font-weight: bold\">   </span>hình minh họa về các khái niệm cơ bản của hình học liên quan đến đường tròn và tam giác. Cụ thể, học sinh sẽ: 1.\n",
       "<span style=\"color: #808000; text-decoration-color: #808000; font-weight: bold\">   </span>Định nghĩa đường tròn, tâm, bán kính, dây cung, đường kính. 2. Nêu các loại tam giác cơ bản (đều, cân, vuông) và\n",
       "<span style=\"color: #808000; text-decoration-color: #808000; font-weight: bold\">   </span>đặc điểm của chúng. 3. Định nghĩa và vẽ minh họa đường trung trực của đoạn thẳng. 4. Định nghĩa và vẽ minh họa  \n",
       "<span style=\"color: #808000; text-decoration-color: #808000; font-weight: bold\">   </span>đường phân giác của góc. Học sinh hoàn thành phiếu bài tập trong thời gian quy định.                            \n",
       "<span style=\"color: #808000; text-decoration-color: #808000; font-weight: bold\"> • </span><span style=\"font-weight: bold\">Gợi ý đáp án/Hướng dẫn giải:</span>                                                                                    \n",
       "<span style=\"color: #808000; text-decoration-color: #808000; font-weight: bold\">    • </span>Câu 1: Hãy định nghĩa đường tròn, tâm, bán kính, dây cung, đường kính và vẽ hình minh họa một đường tròn với \n",
       "<span style=\"color: #808000; text-decoration-color: #808000; font-weight: bold\">      </span>các yếu tố đó.                                                                                               \n",
       "<span style=\"color: #808000; text-decoration-color: #808000; font-weight: bold\">    • </span>Câu 2: Nêu tên và đặc điểm của ba loại tam giác cơ bản (tam giác đều, tam giác cân, tam giác vuông). Vẽ hình \n",
       "<span style=\"color: #808000; text-decoration-color: #808000; font-weight: bold\">      </span>minh họa cho mỗi loại.                                                                                       \n",
       "<span style=\"color: #808000; text-decoration-color: #808000; font-weight: bold\">    • </span>Câu 3: Đường trung trực của một đoạn thẳng là gì? Vẽ một đoạn thẳng AB và đường trung trực của nó.           \n",
       "<span style=\"color: #808000; text-decoration-color: #808000; font-weight: bold\">    • </span>Câu 4: Đường phân giác của một góc là gì? Vẽ một góc xOy và đường phân giác của góc đó.                      \n",
       "\n",
       "<span style=\"font-style: italic\">GV: \"Rất tốt! Các em đã cùng thầy/cô ôn lại những kiến thức nền tảng quan trọng. Những khái niệm về đường trung </span>   \n",
       "<span style=\"font-style: italic\">trực, đường phân giác, và các loại tam giác sẽ là chìa khóa để chúng ta khám phá những điều thú vị tiếp theo. Bây </span> \n",
       "<span style=\"font-style: italic\">giờ, chúng ta sẽ cùng nhau đi sâu hơn để khám phá một khái niệm mới mẻ và thú vị: Đường tròn ngoại tiếp tam giác.\"</span> \n",
       "\n",
       "                        <span style=\"color: #7f7f7f; text-decoration-color: #7f7f7f; font-weight: bold\">Hoạt động 2: Khám phá và định nghĩa Đường tròn ngoại tiếp (25 phút)</span>                        \n",
       "\n",
       "<span style=\"color: #808000; text-decoration-color: #808000; font-weight: bold\"> • </span><span style=\"font-weight: bold\">Loại hình:</span> Hoạt động thực hành và khám phá                                                                      \n",
       "<span style=\"color: #808000; text-decoration-color: #808000; font-weight: bold\"> • </span><span style=\"font-weight: bold\">Hành động của Giáo viên:</span>                                                                                        \n",
       "<span style=\"color: #808000; text-decoration-color: #808000; font-weight: bold\">    • </span>Phát giấy A4 và yêu cầu học sinh chuẩn bị thước, compa.                                                      \n",
       "<span style=\"color: #808000; text-decoration-color: #808000; font-weight: bold\">    • </span>Chiếu slide hướng dẫn các bước vẽ hình (vẽ tam giác, vẽ đường trung trực, xác định giao điểm, vẽ đường tròn).\n",
       "<span style=\"color: #808000; text-decoration-color: #808000; font-weight: bold\">    • </span>Đi lại quan sát các nhóm thực hiện, kịp thời hỗ trợ những học sinh gặp khó khăn trong việc vẽ đường trung    \n",
       "<span style=\"color: #808000; text-decoration-color: #808000; font-weight: bold\">      </span>trực và xác định tâm.                                                                                        \n",
       "<span style=\"color: #808000; text-decoration-color: #808000; font-weight: bold\">    • </span>Gợi ý các câu hỏi để học sinh thảo luận và rút ra định nghĩa, tính chất (sử dụng các câu hỏi trong phần      \n",
       "<span style=\"color: #808000; text-decoration-color: #808000; font-weight: bold\">      </span>'solution_guide').                                                                                           \n",
       "<span style=\"color: #808000; text-decoration-color: #808000; font-weight: bold\">    • </span>Yêu cầu đại diện một số nhóm trình bày kết quả vẽ hình và định nghĩa, tính chất đã rút ra.                   \n",
       "<span style=\"color: #808000; text-decoration-color: #808000; font-weight: bold\">    • </span>Chốt lại định nghĩa và các tính chất quan trọng của đường tròn ngoại tiếp tam giác.                          \n",
       "<span style=\"color: #808000; text-decoration-color: #808000; font-weight: bold\"> • </span><span style=\"font-weight: bold\">Nhiệm vụ của Học sinh (Mô tả):</span> Học sinh thực hiện các bước sau:                                                 \n",
       "<span style=\"color: #808000; text-decoration-color: #808000; font-weight: bold\">    1 </span>Vẽ một tam giác bất kỳ (ví dụ: tam giác ABC) vào vở hoặc giấy A4.                                            \n",
       "<span style=\"color: #808000; text-decoration-color: #808000; font-weight: bold\">    2 </span>Dùng thước và compa để vẽ ba đường trung trực của ba cạnh của tam giác đó.                                   \n",
       "<span style=\"color: #808000; text-decoration-color: #808000; font-weight: bold\">    3 </span>Xác định giao điểm của ba đường trung trực. Gọi điểm đó là O.                                                \n",
       "<span style=\"color: #808000; text-decoration-color: #808000; font-weight: bold\">    4 </span>Dùng compa vẽ đường tròn tâm O đi qua ba đỉnh của tam giác.                                                  \n",
       "<span style=\"color: #808000; text-decoration-color: #808000; font-weight: bold\">    5 </span>Thảo luận nhóm (2-3 học sinh) để nêu định nghĩa đường tròn ngoại tiếp tam giác và các tính chất cơ bản của nó\n",
       "<span style=\"color: #808000; text-decoration-color: #808000; font-weight: bold\">      </span>(ví dụ: vị trí của tâm đường tròn ngoại tiếp đối với các loại tam giác nhọn, vuông, tù).                     \n",
       "<span style=\"color: #808000; text-decoration-color: #808000; font-weight: bold\"> • </span><span style=\"font-weight: bold\">Gợi ý đáp án/Hướng dẫn giải:</span>                                                                                    \n",
       "<span style=\"color: #808000; text-decoration-color: #808000; font-weight: bold\">    • </span>Giao điểm của ba đường trung trực có vị trí đặc biệt gì so với ba đỉnh của tam giác?                         \n",
       "<span style=\"color: #808000; text-decoration-color: #808000; font-weight: bold\">    • </span>Đường tròn vừa vẽ có đặc điểm gì liên quan đến tam giác?                                                     \n",
       "<span style=\"color: #808000; text-decoration-color: #808000; font-weight: bold\">    • </span>Từ đó, em hãy định nghĩa đường tròn ngoại tiếp tam giác.                                                     \n",
       "<span style=\"color: #808000; text-decoration-color: #808000; font-weight: bold\">    • </span>Tâm của đường tròn ngoại tiếp nằm ở đâu đối với các loại tam giác khác nhau (tam giác nhọn, tam giác vuông,  \n",
       "<span style=\"color: #808000; text-decoration-color: #808000; font-weight: bold\">      </span>tam giác tù)?                                                                                                \n",
       "\n",
       "<span style=\"font-style: italic\">GV: \"Tuyệt vời! Các em đã tự mình khám phá và định nghĩa được đường tròn ngoại tiếp. Thầy/cô thấy các nhóm đã vẽ </span>  \n",
       "<span style=\"font-style: italic\">hình rất chính xác và rút ra được những nhận xét quan trọng. Để củng cố kiến thức này, chúng ta hãy cùng nhau vận </span> \n",
       "<span style=\"font-style: italic\">dụng nó vào giải quyết một số bài tập cụ thể nhé!\"</span>                                                                 \n",
       "\n",
       "                        <span style=\"color: #7f7f7f; text-decoration-color: #7f7f7f; font-weight: bold\">Hoạt động 3: Vận dụng kiến thức về Đường tròn ngoại tiếp (20 phút)</span>                         \n",
       "\n",
       "<span style=\"color: #808000; text-decoration-color: #808000; font-weight: bold\"> • </span><span style=\"font-weight: bold\">Loại hình:</span> Luyện tập                                                                                            \n",
       "<span style=\"color: #808000; text-decoration-color: #808000; font-weight: bold\"> • </span><span style=\"font-weight: bold\">Hành động của Giáo viên:</span>                                                                                        \n",
       "<span style=\"color: #808000; text-decoration-color: #808000; font-weight: bold\">    • </span>Chiếu đề bài tập lên màn hình hoặc phát phiếu bài tập cho học sinh.                                          \n",
       "<span style=\"color: #808000; text-decoration-color: #808000; font-weight: bold\">    • </span>Nhắc lại ngắn gọn các kiến thức trọng tâm về tâm đường tròn ngoại tiếp của tam giác vuông, tam giác đều và   \n",
       "<span style=\"color: #808000; text-decoration-color: #808000; font-weight: bold\">      </span>tính chất góc của tứ giác nội tiếp.                                                                          \n",
       "<span style=\"color: #808000; text-decoration-color: #808000; font-weight: bold\">    • </span>Quan sát học sinh làm bài, đi lại trong lớp để nắm bắt tình hình và kịp thời hỗ trợ.                         \n",
       "<span style=\"color: #808000; text-decoration-color: #808000; font-weight: bold\">    • </span>Gợi ý, đặt câu hỏi dẫn dắt khi học sinh gặp khó khăn (ví dụ: 'Tâm đường tròn ngoại tiếp tam giác vuông nằm ở \n",
       "<span style=\"color: #808000; text-decoration-color: #808000; font-weight: bold\">      </span>đâu?', 'Tính chất góc của tứ giác nội tiếp là gì?').                                                         \n",
       "<span style=\"color: #808000; text-decoration-color: #808000; font-weight: bold\">    • </span>Gọi 2-3 học sinh lên bảng trình bày lời giải các bài tập.                                                    \n",
       "<span style=\"color: #808000; text-decoration-color: #808000; font-weight: bold\">    • </span>Chữa bài tập và chốt lại các kiến thức quan trọng sau khi học sinh đã hoàn thành.                            \n",
       "<span style=\"color: #808000; text-decoration-color: #808000; font-weight: bold\"> • </span><span style=\"font-weight: bold\">Nhiệm vụ của Học sinh (Mô tả):</span> Học sinh sẽ giải các bài tập thực hành để củng cố kiến thức về đường tròn ngoại  \n",
       "<span style=\"color: #808000; text-decoration-color: #808000; font-weight: bold\">   </span>tiếp. Các bài tập bao gồm:                                                                                      \n",
       "<span style=\"color: #808000; text-decoration-color: #808000; font-weight: bold\">   </span>Bài 1: Cho tam giác ABC vuông tại A có AB = 6cm, AC = 8cm. Hãy xác định tâm và tính bán kính đường tròn ngoại   \n",
       "<span style=\"color: #808000; text-decoration-color: #808000; font-weight: bold\">   </span>tiếp tam giác ABC.                                                                                              \n",
       "<span style=\"color: #808000; text-decoration-color: #808000; font-weight: bold\">   </span>Bài 2: Cho tam giác đều ABC cạnh 6cm. Hãy xác định tâm và tính bán kính đường tròn ngoại tiếp tam giác ABC.     \n",
       "<span style=\"color: #808000; text-decoration-color: #808000; font-weight: bold\">   </span>Bài 3: Cho tứ giác ABCD nội tiếp đường tròn. Biết góc A = 75 độ, góc B = 100 độ. Hãy tính số đo góc C và góc D. \n",
       "<span style=\"color: #808000; text-decoration-color: #808000; font-weight: bold\"> • </span><span style=\"font-weight: bold\">Gợi ý đáp án/Hướng dẫn giải:</span>                                                                                    \n",
       "<span style=\"color: #808000; text-decoration-color: #808000; font-weight: bold\">    • </span>Bài 1: Tâm đường tròn ngoại tiếp tam giác vuông là trung điểm cạnh huyền. Bán kính bằng nửa cạnh huyền. (Cạnh\n",
       "<span style=\"color: #808000; text-decoration-color: #808000; font-weight: bold\">      </span>huyền BC = 10cm, R = 5cm).                                                                                   \n",
       "<span style=\"color: #808000; text-decoration-color: #808000; font-weight: bold\">    • </span>Bài 2: Tâm đường tròn ngoại tiếp tam giác đều là giao điểm của ba đường trung trực (cũng là trọng tâm, trực  \n",
       "<span style=\"color: #808000; text-decoration-color: #808000; font-weight: bold\">      </span>tâm, tâm đường tròn nội tiếp). Bán kính R = a/√3 (với a là cạnh tam giác). (R = 6/√3 = 2√3 cm).              \n",
       "<span style=\"color: #808000; text-decoration-color: #808000; font-weight: bold\">    • </span>Bài 3: Trong tứ giác nội tiếp, tổng hai góc đối diện bằng 180 độ. (Góc C = 180 - 75 = 105 độ; Góc D = 180 -  \n",
       "<span style=\"color: #808000; text-decoration-color: #808000; font-weight: bold\">      </span>100 = 80 độ).                                                                                                \n",
       "\n",
       "<span style=\"font-style: italic\">GV: \"Các em làm bài rất tốt! Thầy/cô thấy các em đã nắm vững cách xác định tâm và tính bán kính đường tròn ngoại </span>  \n",
       "<span style=\"font-style: italic\">tiếp cho các tam giác đặc biệt, cũng như tính chất của tứ giác nội tiếp. Bây giờ, sau khi đã nắm vững về đường tròn</span>\n",
       "<span style=\"font-style: italic\">ngoại tiếp, chúng ta sẽ tiếp tục hành trình khám phá một loại đường tròn khác cũng rất quan trọng, đó là đường tròn</span>\n",
       "<span style=\"font-style: italic\">nội tiếp tam giác.\"</span>                                                                                                \n",
       "\n",
       "                         <span style=\"color: #7f7f7f; text-decoration-color: #7f7f7f; font-weight: bold\">Hoạt động 4: Khám phá và định nghĩa Đường tròn nội tiếp (25 phút)</span>                         \n",
       "\n",
       "<span style=\"color: #808000; text-decoration-color: #808000; font-weight: bold\"> • </span><span style=\"font-weight: bold\">Loại hình:</span> Thực hành và khám phá                                                                                \n",
       "<span style=\"color: #808000; text-decoration-color: #808000; font-weight: bold\"> • </span><span style=\"font-weight: bold\">Hành động của Giáo viên:</span>                                                                                        \n",
       "<span style=\"color: #808000; text-decoration-color: #808000; font-weight: bold\">    • </span>Kiểm tra sự chuẩn bị dụng cụ học tập (thước, compa) của học sinh.                                            \n",
       "<span style=\"color: #808000; text-decoration-color: #808000; font-weight: bold\">    • </span>Chiếu slide hướng dẫn các bước vẽ đường phân giác nếu cần thiết.                                             \n",
       "<span style=\"color: #808000; text-decoration-color: #808000; font-weight: bold\">    • </span>Đi lại quan sát các nhóm/cá nhân thực hiện, kịp thời hỗ trợ những học sinh gặp khó khăn trong việc vẽ hình   \n",
       "<span style=\"color: #808000; text-decoration-color: #808000; font-weight: bold\">      </span>hoặc xác định tâm.                                                                                           \n",
       "<span style=\"color: #808000; text-decoration-color: #808000; font-weight: bold\">    • </span>Đặt câu hỏi gợi mở: 'Làm thế nào để biết đường tròn đã tiếp xúc với ba cạnh?', 'Khoảng cách từ tâm I đến các \n",
       "<span style=\"color: #808000; text-decoration-color: #808000; font-weight: bold\">      </span>cạnh có gì đặc biệt?'                                                                                        \n",
       "<span style=\"color: #808000; text-decoration-color: #808000; font-weight: bold\">    • </span>Yêu cầu một vài học sinh/nhóm trình bày kết quả vẽ hình và định nghĩa, tính chất đã tìm được.                \n",
       "<span style=\"color: #808000; text-decoration-color: #808000; font-weight: bold\">    • </span>Tổng kết và chốt kiến thức về định nghĩa và tính chất của đường tròn nội tiếp.                               \n",
       "<span style=\"color: #808000; text-decoration-color: #808000; font-weight: bold\"> • </span><span style=\"font-weight: bold\">Nhiệm vụ của Học sinh (Mô tả):</span> Học sinh thực hiện các bước sau: 1. Vẽ một tam giác ABC bất kỳ lên giấy. 2. Dùng \n",
       "<span style=\"color: #808000; text-decoration-color: #808000; font-weight: bold\">   </span>thước và compa để vẽ ba đường phân giác của ba góc A, B, C của tam giác. 3. Xác định giao điểm của ba đường phân\n",
       "<span style=\"color: #808000; text-decoration-color: #808000; font-weight: bold\">   </span>giác đó (điểm I). Điểm I chính là tâm của đường tròn nội tiếp. 4. Từ tâm I, vẽ đường tròn tiếp xúc với ba cạnh  \n",
       "<span style=\"color: #808000; text-decoration-color: #808000; font-weight: bold\">   </span>của tam giác. 5. Dựa trên hình vẽ và quá trình thực hiện, hãy nêu định nghĩa về đường tròn nội tiếp tam giác và \n",
       "<span style=\"color: #808000; text-decoration-color: #808000; font-weight: bold\">   </span>liệt kê các tính chất cơ bản của nó.                                                                            \n",
       "<span style=\"color: #808000; text-decoration-color: #808000; font-weight: bold\"> • </span><span style=\"font-weight: bold\">Gợi ý đáp án/Hướng dẫn giải:</span>                                                                                    \n",
       "<span style=\"color: #808000; text-decoration-color: #808000; font-weight: bold\">    • </span>Câu hỏi gợi mở 1: Ba đường phân giác của một tam giác có đặc điểm gì về giao điểm của chúng?                 \n",
       "<span style=\"color: #808000; text-decoration-color: #808000; font-weight: bold\">    • </span>Câu hỏi gợi mở 2: Khoảng cách từ tâm I (giao điểm của ba đường phân giác) đến ba cạnh của tam giác có mối    \n",
       "<span style=\"color: #808000; text-decoration-color: #808000; font-weight: bold\">      </span>quan hệ như thế nào?                                                                                         \n",
       "<span style=\"color: #808000; text-decoration-color: #808000; font-weight: bold\">    • </span>Câu hỏi gợi mở 3: Dựa vào mối quan hệ đó, em hãy định nghĩa đường tròn nội tiếp tam giác.                    \n",
       "<span style=\"color: #808000; text-decoration-color: #808000; font-weight: bold\">    • </span>Câu hỏi gợi mở 4: Đường tròn nội tiếp có những tính chất cơ bản nào liên quan đến tâm và bán kính của nó?    \n",
       "\n",
       "<span style=\"font-style: italic\">GV: \"Thầy/cô rất ấn tượng với khả năng khám phá của các em! Chúng ta đã hiểu rõ về đường tròn nội tiếp, biết cách </span> \n",
       "<span style=\"font-style: italic\">xác định tâm và vẽ nó. Để kết thúc buổi học hôm nay, chúng ta sẽ cùng nhau vận dụng kiến thức này và tổng kết lại </span> \n",
       "<span style=\"font-style: italic\">những điểm cốt lõi nhất nhé!\"</span>                                                                                      \n",
       "\n",
       "                     <span style=\"color: #7f7f7f; text-decoration-color: #7f7f7f; font-weight: bold\">Hoạt động 5: Vận dụng Đường tròn nội tiếp và tổng kết kiến thức (10 phút)</span>                     \n",
       "\n",
       "<span style=\"color: #808000; text-decoration-color: #808000; font-weight: bold\"> • </span><span style=\"font-weight: bold\">Loại hình:</span> Luyện tập và Tổng kết                                                                                \n",
       "<span style=\"color: #808000; text-decoration-color: #808000; font-weight: bold\"> • </span><span style=\"font-weight: bold\">Hành động của Giáo viên:</span>                                                                                        \n",
       "<span style=\"color: #808000; text-decoration-color: #808000; font-weight: bold\">    • </span>Chiếu slide chứa các bài tập thực hành và yêu cầu so sánh.                                                   \n",
       "<span style=\"color: #808000; text-decoration-color: #808000; font-weight: bold\">    • </span>Phát phiếu học tập có in sẵn đề bài và bảng so sánh cho từng nhóm hoặc cá nhân.                              \n",
       "<span style=\"color: #808000; text-decoration-color: #808000; font-weight: bold\">    • </span>Đi lại quan sát các nhóm làm việc, gợi ý và hỗ trợ khi học sinh gặp khó khăn.                                \n",
       "<span style=\"color: #808000; text-decoration-color: #808000; font-weight: bold\">    • </span>Đặt câu hỏi gợi mở: 'Tâm đường tròn nội tiếp là giao điểm của những đường nào?', 'Công thức tính bán kính    \n",
       "<span style=\"color: #808000; text-decoration-color: #808000; font-weight: bold\">      </span>đường tròn nội tiếp tam giác vuông là gì?', 'Điểm khác biệt lớn nhất giữa tâm đường tròn nội tiếp và ngoại   \n",
       "<span style=\"color: #808000; text-decoration-color: #808000; font-weight: bold\">      </span>tiếp là gì?'                                                                                                 \n",
       "<span style=\"color: #808000; text-decoration-color: #808000; font-weight: bold\">    • </span>Yêu cầu đại diện 1-2 nhóm trình bày kết quả bài tập và bảng so sánh trên bảng hoặc qua máy chiếu.            \n",
       "<span style=\"color: #808000; text-decoration-color: #808000; font-weight: bold\">    • </span>Tổng kết các kiến thức trọng tâm về đường tròn nội tiếp và ngoại tiếp, nhấn mạnh các điểm cần lưu ý và các   \n",
       "<span style=\"color: #808000; text-decoration-color: #808000; font-weight: bold\">      </span>lỗi thường gặp.                                                                                              \n",
       "<span style=\"color: #808000; text-decoration-color: #808000; font-weight: bold\"> • </span><span style=\"font-weight: bold\">Nhiệm vụ của Học sinh (Mô tả):</span> Học sinh sẽ thực hiện các nhiệm vụ sau:1. Giải bài tập thực hành: Bài 1: Cho tam \n",
       "<span style=\"color: #808000; text-decoration-color: #808000; font-weight: bold\">   </span>giác ABC vuông tại A có AB = 6cm, AC = 8cm. Tính bán kính đường tròn nội tiếp tam giác ABC. Bài 2: Nêu cách xác \n",
       "<span style=\"color: #808000; text-decoration-color: #808000; font-weight: bold\">   </span>định tâm đường tròn nội tiếp của một tam giác bất kỳ bằng thước và compa.2. So sánh và tổng kết kiến thức: Lập  \n",
       "<span style=\"color: #808000; text-decoration-color: #808000; font-weight: bold\">   </span>bảng so sánh điểm giống và khác nhau giữa đường tròn ngoại tiếp và đường tròn nội tiếp của một tam giác (về định\n",
       "<span style=\"color: #808000; text-decoration-color: #808000; font-weight: bold\">   </span>nghĩa, vị trí tâm, cách xác định tâm, công thức tính bán kính). Thảo luận nhóm để hệ thống hóa các kiến thức    \n",
       "<span style=\"color: #808000; text-decoration-color: #808000; font-weight: bold\">   </span>quan trọng nhất về hai loại đường tròn này.                                                                     \n",
       "<span style=\"color: #808000; text-decoration-color: #808000; font-weight: bold\"> • </span><span style=\"font-weight: bold\">Gợi ý đáp án/Hướng dẫn giải:</span>                                                                                    \n",
       "<span style=\"color: #808000; text-decoration-color: #808000; font-weight: bold\">    • </span>Gợi Ý Bài 1: Sử dụng công thức tính bán kính đường tròn nội tiếp tam giác vuông r = (a+b-c)/2 hoặc công thức \n",
       "<span style=\"color: #808000; text-decoration-color: #808000; font-weight: bold\">      </span>diện tích S = pr.                                                                                            \n",
       "<span style=\"color: #808000; text-decoration-color: #808000; font-weight: bold\">    • </span>Gợi Ý Bài 2: Tâm đường tròn nội tiếp là giao điểm của ba đường phân giác trong của tam giác.                 \n",
       "<span style=\"color: #808000; text-decoration-color: #808000; font-weight: bold\">    • </span>Gợi Ý So Sánh: Tập trung vào định nghĩa, vị trí tâm (trong/ngoài tam giác), cách xác định tâm (giao điểm của \n",
       "<span style=\"color: #808000; text-decoration-color: #808000; font-weight: bold\">      </span>đường gì), và công thức tính bán kính (nếu có).                                                              \n",
       "<span style=\"color: #808000; text-decoration-color: #808000; font-weight: bold\">    • </span>Câu Hỏi Tổng Kết: Khi nào thì tâm đường tròn ngoại tiếp nằm ngoài tam giác? Khi nào thì tâm đường tròn nội   \n",
       "<span style=\"color: #808000; text-decoration-color: #808000; font-weight: bold\">      </span>tiếp trùng với tâm đường tròn ngoại tiếp?                                                                    \n",
       "\n",
       "                                            <span style=\"font-weight: bold\">V. DẶN DÒ VÀ BÀI TẬP VỀ NHÀ</span>                                            \n",
       "\n",
       "<span style=\"color: #808000; text-decoration-color: #808000; font-weight: bold\"> • </span><span style=\"font-weight: bold\">Dặn dò:</span>                                                                                                         \n",
       "<span style=\"color: #808000; text-decoration-color: #808000; font-weight: bold\">    • </span>Ôn tập lại toàn bộ kiến thức về đường tròn ngoại tiếp và đường tròn nội tiếp tam giác.                       \n",
       "<span style=\"color: #808000; text-decoration-color: #808000; font-weight: bold\">    • </span>Xem lại các bài tập đã chữa trên lớp.                                                                        \n",
       "<span style=\"color: #808000; text-decoration-color: #808000; font-weight: bold\">    • </span>Chuẩn bị cho bài học tiếp theo.                                                                              \n",
       "<span style=\"color: #808000; text-decoration-color: #808000; font-weight: bold\"> • </span><span style=\"font-weight: bold\">Bài tập về nhà:</span>                                                                                                 \n",
       "<span style=\"color: #808000; text-decoration-color: #808000; font-weight: bold\">    • </span>Làm các bài tập còn lại trong sách giáo khoa liên quan đến chủ đề.                                           \n",
       "<span style=\"color: #808000; text-decoration-color: #808000; font-weight: bold\">    • </span>Tìm hiểu thêm về các ứng dụng của đường tròn ngoại tiếp và nội tiếp trong thực tế hoặc các bài toán nâng cao.\n",
       "\n",
       "<span style=\"color: #808000; text-decoration-color: #808000\">───────────────────────────────────────────────────────────────────────────────────────────────────────────────────</span>\n",
       "</pre>\n"
      ],
      "text/plain": [
       "Chào các em học sinh,                                                                                              \n",
       "\n",
       "Với vai trò là một Biên tập viên Sư phạm giàu kinh nghiệm, thầy/cô đã tiếp nhận thông tin tổng quan và bản nháp chi\n",
       "tiết các hoạt động của buổi học. Dựa trên những thông tin này, thầy/cô xin trình bày một Giáo án hoàn chỉnh dưới   \n",
       "đây, đảm bảo tuân thủ mọi quy tắc đã đề ra.                                                                        \n",
       "\n",
       "\u001b[33m───────────────────────────────────────────────────────────────────────────────────────────────────────────────────\u001b[0m\n",
       "┏━━━━━━━━━━━━━━━━━━━━━━━━━━━━━━━━━━━━━━━━━━━━━━━━━━━━━━━━━━━━━━━━━━━━━━━━━━━━━━━━━━━━━━━━━━━━━━━━━━━━━━━━━━━━━━━━━┓\n",
       "┃                                             \u001b[1mGIÁO ÁN MÔN TOÁN LỚP 9\u001b[0m                                              ┃\n",
       "┗━━━━━━━━━━━━━━━━━━━━━━━━━━━━━━━━━━━━━━━━━━━━━━━━━━━━━━━━━━━━━━━━━━━━━━━━━━━━━━━━━━━━━━━━━━━━━━━━━━━━━━━━━━━━━━━━━┛\n",
       "\n",
       "\n",
       "                                 \u001b[1;4mBÀI: ĐƯỜNG TRÒN NGOẠI TIẾP VÀ ĐƯỜNG TRÒN NỘI TIẾP\u001b[0m                                 \n",
       "\n",
       "\u001b[33m───────────────────────────────────────────────────────────────────────────────────────────────────────────────────\u001b[0m\n",
       "                                                \u001b[1mI. THÔNG TIN CHUNG\u001b[0m                                                 \n",
       "\n",
       "\u001b[1;33m • \u001b[0m\u001b[1mMôn học:\u001b[0m Toán học                                                                                               \n",
       "\u001b[1;33m • \u001b[0m\u001b[1mLớp:\u001b[0m 9                                                                                                          \n",
       "\u001b[1;33m • \u001b[0m\u001b[1mThời lượng:\u001b[0m 90 phút                                                                                             \n",
       "\u001b[1;33m • \u001b[0m\u001b[1mChủ đề:\u001b[0m Đường tròn ngoại tiếp và đường tròn nội tiếp                                                            \n",
       "\u001b[1;33m • \u001b[0m\u001b[1mPhương pháp chủ đạo:\u001b[0m Dạy học hợp tác kết hợp thực hành                                                          \n",
       "\u001b[1;33m • \u001b[0m\u001b[1mĐặc điểm lớp học:\u001b[0m Lớp học khá yếu, học sinh dễ mất tập trung và cần các hoạt động tương tác cao.                \n",
       "\n",
       "                                               \u001b[1mII. MỤC TIÊU BÀI HỌC\u001b[0m                                                \n",
       "\n",
       "Sau khi hoàn thành bài học này, học sinh có thể:                                                                   \n",
       "\n",
       "\u001b[1;33m 1 \u001b[0m\u001b[1mKiến thức:\u001b[0m                                                                                                      \n",
       "\u001b[1;33m   \u001b[0m\u001b[1;33m • \u001b[0mNêu được định nghĩa đường tròn ngoại tiếp tam giác và đường tròn nội tiếp tam giác.                          \n",
       "\u001b[1;33m   \u001b[0m\u001b[1;33m • \u001b[0mXác định được tâm và bán kính của đường tròn ngoại tiếp, đường tròn nội tiếp trong các trường hợp tam giác   \n",
       "\u001b[1;33m   \u001b[0m\u001b[1;33m   \u001b[0mđặc biệt (tam giác vuông, tam giác đều).                                                                     \n",
       "\u001b[1;33m   \u001b[0m\u001b[1;33m • \u001b[0mNắm vững mối liên hệ giữa đường tròn và tam giác, đặc biệt là vị trí của tâm đường tròn ngoại tiếp và nội    \n",
       "\u001b[1;33m   \u001b[0m\u001b[1;33m   \u001b[0mtiếp.                                                                                                        \n",
       "\u001b[1;33m   \u001b[0m\u001b[1;33m • \u001b[0mHiểu và vận dụng được các tính chất cơ bản của tứ giác nội tiếp đường tròn.                                  \n",
       "\u001b[1;33m 2 \u001b[0m\u001b[1mKỹ năng:\u001b[0m                                                                                                        \n",
       "\u001b[1;33m   \u001b[0m\u001b[1;33m • \u001b[0mVẽ hình chính xác các đường trung trực, đường phân giác và đường tròn bằng thước, compa.                     \n",
       "\u001b[1;33m   \u001b[0m\u001b[1;33m • \u001b[0mThực hiện các phép tính liên quan đến bán kính đường tròn ngoại tiếp và nội tiếp.                            \n",
       "\u001b[1;33m   \u001b[0m\u001b[1;33m • \u001b[0mPhân tích, tổng hợp kiến thức để giải quyết các bài tập hình học.                                            \n",
       "\u001b[1;33m   \u001b[0m\u001b[1;33m • \u001b[0mLàm việc nhóm hiệu quả, trình bày ý tưởng và kết quả.                                                        \n",
       "\u001b[1;33m 3 \u001b[0m\u001b[1mThái độ:\u001b[0m                                                                                                        \n",
       "\u001b[1;33m   \u001b[0m\u001b[1;33m • \u001b[0mTích cực, chủ động tham gia vào các hoạt động học tập.                                                       \n",
       "\u001b[1;33m   \u001b[0m\u001b[1;33m • \u001b[0mCẩn thận, chính xác trong việc vẽ hình và tính toán.                                                         \n",
       "\u001b[1;33m   \u001b[0m\u001b[1;33m • \u001b[0mYêu thích môn Toán và hình học.                                                                              \n",
       "\u001b[1;33m   \u001b[0m\u001b[1;33m • \u001b[0mCó tinh thần hợp tác, giúp đỡ bạn bè.                                                                        \n",
       "\n",
       "                                      \u001b[1mIII. CHUẨN BỊ CỦA GIÁO VIÊN VÀ HỌC SINH\u001b[0m                                      \n",
       "\n",
       "\u001b[1;33m 1 \u001b[0m\u001b[1mGiáo viên:\u001b[0m                                                                                                      \n",
       "\u001b[1;33m   \u001b[0m\u001b[1;33m • \u001b[0mGiáo án, máy chiếu, bảng phụ.                                                                                \n",
       "\u001b[1;33m   \u001b[0m\u001b[1;33m • \u001b[0mPhiếu bài tập \"Ôn tập kiến thức nền tảng\".                                                                   \n",
       "\u001b[1;33m   \u001b[0m\u001b[1;33m • \u001b[0mGiấy A4, thước, compa mẫu để hướng dẫn.                                                                      \n",
       "\u001b[1;33m   \u001b[0m\u001b[1;33m • \u001b[0mCác slide trình chiếu nội dung bài học, hướng dẫn vẽ hình, đề bài tập và gợi ý đáp án.                       \n",
       "\u001b[1;33m 2 \u001b[0m\u001b[1mHọc sinh:\u001b[0m                                                                                                       \n",
       "\u001b[1;33m   \u001b[0m\u001b[1;33m • \u001b[0mSách giáo khoa Toán 9.                                                                                       \n",
       "\u001b[1;33m   \u001b[0m\u001b[1;33m • \u001b[0mVở ghi, bút, thước kẻ, compa.                                                                                \n",
       "\u001b[1;33m   \u001b[0m\u001b[1;33m • \u001b[0mGiấy nháp.                                                                                                   \n",
       "\n",
       "                                              \u001b[1mIV. TIẾN TRÌNH DẠY HỌC\u001b[0m                                               \n",
       "\n",
       "                           \u001b[1;2mHoạt động 1: Ôn tập kiến thức nền tảng về hình học (10 phút)\u001b[0m                            \n",
       "\n",
       "\u001b[1;33m • \u001b[0m\u001b[1mLoại hình:\u001b[0m Ôn tập cá nhân                                                                                       \n",
       "\u001b[1;33m • \u001b[0m\u001b[1mHành động của Giáo viên:\u001b[0m                                                                                        \n",
       "\u001b[1;33m   \u001b[0m\u001b[1;33m • \u001b[0mChiếu slide giới thiệu hoạt động \"Ôn tập kiến thức nền tảng về hình học\" và mục tiêu của hoạt động.          \n",
       "\u001b[1;33m   \u001b[0m\u001b[1;33m • \u001b[0mPhát phiếu bài tập \"Ôn tập kiến thức nền tảng\" cho từng học sinh.                                            \n",
       "\u001b[1;33m   \u001b[0m\u001b[1;33m • \u001b[0mNhắc nhở học sinh đọc kỹ yêu cầu và hoàn thành bài tập cá nhân.                                              \n",
       "\u001b[1;33m   \u001b[0m\u001b[1;33m • \u001b[0mQuan sát học sinh làm bài, đi lại trong lớp để nắm bắt tình hình và kịp thời hỗ trợ.                         \n",
       "\u001b[1;33m   \u001b[0m\u001b[1;33m • \u001b[0mGợi ý, hỗ trợ những học sinh gặp khó khăn (ví dụ: \"Em thử nhớ lại định nghĩa đường trung trực là gì?\", \"Đường\n",
       "\u001b[1;33m   \u001b[0m\u001b[1;33m   \u001b[0mphân giác có tính chất gì đặc biệt?\").                                                                       \n",
       "\u001b[1;33m   \u001b[0m\u001b[1;33m • \u001b[0mThu phiếu bài tập sau khi hết giờ.                                                                           \n",
       "\u001b[1;33m • \u001b[0m\u001b[1mNhiệm vụ của Học sinh (Mô tả):\u001b[0m Học sinh sẽ nhận phiếu bài tập cá nhân. Trên phiếu có các câu hỏi và yêu cầu vẽ  \n",
       "\u001b[1;33m   \u001b[0mhình minh họa về các khái niệm cơ bản của hình học liên quan đến đường tròn và tam giác. Cụ thể, học sinh sẽ: 1.\n",
       "\u001b[1;33m   \u001b[0mĐịnh nghĩa đường tròn, tâm, bán kính, dây cung, đường kính. 2. Nêu các loại tam giác cơ bản (đều, cân, vuông) và\n",
       "\u001b[1;33m   \u001b[0mđặc điểm của chúng. 3. Định nghĩa và vẽ minh họa đường trung trực của đoạn thẳng. 4. Định nghĩa và vẽ minh họa  \n",
       "\u001b[1;33m   \u001b[0mđường phân giác của góc. Học sinh hoàn thành phiếu bài tập trong thời gian quy định.                            \n",
       "\u001b[1;33m • \u001b[0m\u001b[1mGợi ý đáp án/Hướng dẫn giải:\u001b[0m                                                                                    \n",
       "\u001b[1;33m   \u001b[0m\u001b[1;33m • \u001b[0mCâu 1: Hãy định nghĩa đường tròn, tâm, bán kính, dây cung, đường kính và vẽ hình minh họa một đường tròn với \n",
       "\u001b[1;33m   \u001b[0m\u001b[1;33m   \u001b[0mcác yếu tố đó.                                                                                               \n",
       "\u001b[1;33m   \u001b[0m\u001b[1;33m • \u001b[0mCâu 2: Nêu tên và đặc điểm của ba loại tam giác cơ bản (tam giác đều, tam giác cân, tam giác vuông). Vẽ hình \n",
       "\u001b[1;33m   \u001b[0m\u001b[1;33m   \u001b[0mminh họa cho mỗi loại.                                                                                       \n",
       "\u001b[1;33m   \u001b[0m\u001b[1;33m • \u001b[0mCâu 3: Đường trung trực của một đoạn thẳng là gì? Vẽ một đoạn thẳng AB và đường trung trực của nó.           \n",
       "\u001b[1;33m   \u001b[0m\u001b[1;33m • \u001b[0mCâu 4: Đường phân giác của một góc là gì? Vẽ một góc xOy và đường phân giác của góc đó.                      \n",
       "\n",
       "\u001b[3mGV: \"Rất tốt! Các em đã cùng thầy/cô ôn lại những kiến thức nền tảng quan trọng. Những khái niệm về đường trung \u001b[0m   \n",
       "\u001b[3mtrực, đường phân giác, và các loại tam giác sẽ là chìa khóa để chúng ta khám phá những điều thú vị tiếp theo. Bây \u001b[0m \n",
       "\u001b[3mgiờ, chúng ta sẽ cùng nhau đi sâu hơn để khám phá một khái niệm mới mẻ và thú vị: Đường tròn ngoại tiếp tam giác.\"\u001b[0m \n",
       "\n",
       "                        \u001b[1;2mHoạt động 2: Khám phá và định nghĩa Đường tròn ngoại tiếp (25 phút)\u001b[0m                        \n",
       "\n",
       "\u001b[1;33m • \u001b[0m\u001b[1mLoại hình:\u001b[0m Hoạt động thực hành và khám phá                                                                      \n",
       "\u001b[1;33m • \u001b[0m\u001b[1mHành động của Giáo viên:\u001b[0m                                                                                        \n",
       "\u001b[1;33m   \u001b[0m\u001b[1;33m • \u001b[0mPhát giấy A4 và yêu cầu học sinh chuẩn bị thước, compa.                                                      \n",
       "\u001b[1;33m   \u001b[0m\u001b[1;33m • \u001b[0mChiếu slide hướng dẫn các bước vẽ hình (vẽ tam giác, vẽ đường trung trực, xác định giao điểm, vẽ đường tròn).\n",
       "\u001b[1;33m   \u001b[0m\u001b[1;33m • \u001b[0mĐi lại quan sát các nhóm thực hiện, kịp thời hỗ trợ những học sinh gặp khó khăn trong việc vẽ đường trung    \n",
       "\u001b[1;33m   \u001b[0m\u001b[1;33m   \u001b[0mtrực và xác định tâm.                                                                                        \n",
       "\u001b[1;33m   \u001b[0m\u001b[1;33m • \u001b[0mGợi ý các câu hỏi để học sinh thảo luận và rút ra định nghĩa, tính chất (sử dụng các câu hỏi trong phần      \n",
       "\u001b[1;33m   \u001b[0m\u001b[1;33m   \u001b[0m'solution_guide').                                                                                           \n",
       "\u001b[1;33m   \u001b[0m\u001b[1;33m • \u001b[0mYêu cầu đại diện một số nhóm trình bày kết quả vẽ hình và định nghĩa, tính chất đã rút ra.                   \n",
       "\u001b[1;33m   \u001b[0m\u001b[1;33m • \u001b[0mChốt lại định nghĩa và các tính chất quan trọng của đường tròn ngoại tiếp tam giác.                          \n",
       "\u001b[1;33m • \u001b[0m\u001b[1mNhiệm vụ của Học sinh (Mô tả):\u001b[0m Học sinh thực hiện các bước sau:                                                 \n",
       "\u001b[1;33m   \u001b[0m\u001b[1;33m 1 \u001b[0mVẽ một tam giác bất kỳ (ví dụ: tam giác ABC) vào vở hoặc giấy A4.                                            \n",
       "\u001b[1;33m   \u001b[0m\u001b[1;33m 2 \u001b[0mDùng thước và compa để vẽ ba đường trung trực của ba cạnh của tam giác đó.                                   \n",
       "\u001b[1;33m   \u001b[0m\u001b[1;33m 3 \u001b[0mXác định giao điểm của ba đường trung trực. Gọi điểm đó là O.                                                \n",
       "\u001b[1;33m   \u001b[0m\u001b[1;33m 4 \u001b[0mDùng compa vẽ đường tròn tâm O đi qua ba đỉnh của tam giác.                                                  \n",
       "\u001b[1;33m   \u001b[0m\u001b[1;33m 5 \u001b[0mThảo luận nhóm (2-3 học sinh) để nêu định nghĩa đường tròn ngoại tiếp tam giác và các tính chất cơ bản của nó\n",
       "\u001b[1;33m   \u001b[0m\u001b[1;33m   \u001b[0m(ví dụ: vị trí của tâm đường tròn ngoại tiếp đối với các loại tam giác nhọn, vuông, tù).                     \n",
       "\u001b[1;33m • \u001b[0m\u001b[1mGợi ý đáp án/Hướng dẫn giải:\u001b[0m                                                                                    \n",
       "\u001b[1;33m   \u001b[0m\u001b[1;33m • \u001b[0mGiao điểm của ba đường trung trực có vị trí đặc biệt gì so với ba đỉnh của tam giác?                         \n",
       "\u001b[1;33m   \u001b[0m\u001b[1;33m • \u001b[0mĐường tròn vừa vẽ có đặc điểm gì liên quan đến tam giác?                                                     \n",
       "\u001b[1;33m   \u001b[0m\u001b[1;33m • \u001b[0mTừ đó, em hãy định nghĩa đường tròn ngoại tiếp tam giác.                                                     \n",
       "\u001b[1;33m   \u001b[0m\u001b[1;33m • \u001b[0mTâm của đường tròn ngoại tiếp nằm ở đâu đối với các loại tam giác khác nhau (tam giác nhọn, tam giác vuông,  \n",
       "\u001b[1;33m   \u001b[0m\u001b[1;33m   \u001b[0mtam giác tù)?                                                                                                \n",
       "\n",
       "\u001b[3mGV: \"Tuyệt vời! Các em đã tự mình khám phá và định nghĩa được đường tròn ngoại tiếp. Thầy/cô thấy các nhóm đã vẽ \u001b[0m  \n",
       "\u001b[3mhình rất chính xác và rút ra được những nhận xét quan trọng. Để củng cố kiến thức này, chúng ta hãy cùng nhau vận \u001b[0m \n",
       "\u001b[3mdụng nó vào giải quyết một số bài tập cụ thể nhé!\"\u001b[0m                                                                 \n",
       "\n",
       "                        \u001b[1;2mHoạt động 3: Vận dụng kiến thức về Đường tròn ngoại tiếp (20 phút)\u001b[0m                         \n",
       "\n",
       "\u001b[1;33m • \u001b[0m\u001b[1mLoại hình:\u001b[0m Luyện tập                                                                                            \n",
       "\u001b[1;33m • \u001b[0m\u001b[1mHành động của Giáo viên:\u001b[0m                                                                                        \n",
       "\u001b[1;33m   \u001b[0m\u001b[1;33m • \u001b[0mChiếu đề bài tập lên màn hình hoặc phát phiếu bài tập cho học sinh.                                          \n",
       "\u001b[1;33m   \u001b[0m\u001b[1;33m • \u001b[0mNhắc lại ngắn gọn các kiến thức trọng tâm về tâm đường tròn ngoại tiếp của tam giác vuông, tam giác đều và   \n",
       "\u001b[1;33m   \u001b[0m\u001b[1;33m   \u001b[0mtính chất góc của tứ giác nội tiếp.                                                                          \n",
       "\u001b[1;33m   \u001b[0m\u001b[1;33m • \u001b[0mQuan sát học sinh làm bài, đi lại trong lớp để nắm bắt tình hình và kịp thời hỗ trợ.                         \n",
       "\u001b[1;33m   \u001b[0m\u001b[1;33m • \u001b[0mGợi ý, đặt câu hỏi dẫn dắt khi học sinh gặp khó khăn (ví dụ: 'Tâm đường tròn ngoại tiếp tam giác vuông nằm ở \n",
       "\u001b[1;33m   \u001b[0m\u001b[1;33m   \u001b[0mđâu?', 'Tính chất góc của tứ giác nội tiếp là gì?').                                                         \n",
       "\u001b[1;33m   \u001b[0m\u001b[1;33m • \u001b[0mGọi 2-3 học sinh lên bảng trình bày lời giải các bài tập.                                                    \n",
       "\u001b[1;33m   \u001b[0m\u001b[1;33m • \u001b[0mChữa bài tập và chốt lại các kiến thức quan trọng sau khi học sinh đã hoàn thành.                            \n",
       "\u001b[1;33m • \u001b[0m\u001b[1mNhiệm vụ của Học sinh (Mô tả):\u001b[0m Học sinh sẽ giải các bài tập thực hành để củng cố kiến thức về đường tròn ngoại  \n",
       "\u001b[1;33m   \u001b[0mtiếp. Các bài tập bao gồm:                                                                                      \n",
       "\u001b[1;33m   \u001b[0mBài 1: Cho tam giác ABC vuông tại A có AB = 6cm, AC = 8cm. Hãy xác định tâm và tính bán kính đường tròn ngoại   \n",
       "\u001b[1;33m   \u001b[0mtiếp tam giác ABC.                                                                                              \n",
       "\u001b[1;33m   \u001b[0mBài 2: Cho tam giác đều ABC cạnh 6cm. Hãy xác định tâm và tính bán kính đường tròn ngoại tiếp tam giác ABC.     \n",
       "\u001b[1;33m   \u001b[0mBài 3: Cho tứ giác ABCD nội tiếp đường tròn. Biết góc A = 75 độ, góc B = 100 độ. Hãy tính số đo góc C và góc D. \n",
       "\u001b[1;33m • \u001b[0m\u001b[1mGợi ý đáp án/Hướng dẫn giải:\u001b[0m                                                                                    \n",
       "\u001b[1;33m   \u001b[0m\u001b[1;33m • \u001b[0mBài 1: Tâm đường tròn ngoại tiếp tam giác vuông là trung điểm cạnh huyền. Bán kính bằng nửa cạnh huyền. (Cạnh\n",
       "\u001b[1;33m   \u001b[0m\u001b[1;33m   \u001b[0mhuyền BC = 10cm, R = 5cm).                                                                                   \n",
       "\u001b[1;33m   \u001b[0m\u001b[1;33m • \u001b[0mBài 2: Tâm đường tròn ngoại tiếp tam giác đều là giao điểm của ba đường trung trực (cũng là trọng tâm, trực  \n",
       "\u001b[1;33m   \u001b[0m\u001b[1;33m   \u001b[0mtâm, tâm đường tròn nội tiếp). Bán kính R = a/√3 (với a là cạnh tam giác). (R = 6/√3 = 2√3 cm).              \n",
       "\u001b[1;33m   \u001b[0m\u001b[1;33m • \u001b[0mBài 3: Trong tứ giác nội tiếp, tổng hai góc đối diện bằng 180 độ. (Góc C = 180 - 75 = 105 độ; Góc D = 180 -  \n",
       "\u001b[1;33m   \u001b[0m\u001b[1;33m   \u001b[0m100 = 80 độ).                                                                                                \n",
       "\n",
       "\u001b[3mGV: \"Các em làm bài rất tốt! Thầy/cô thấy các em đã nắm vững cách xác định tâm và tính bán kính đường tròn ngoại \u001b[0m  \n",
       "\u001b[3mtiếp cho các tam giác đặc biệt, cũng như tính chất của tứ giác nội tiếp. Bây giờ, sau khi đã nắm vững về đường tròn\u001b[0m\n",
       "\u001b[3mngoại tiếp, chúng ta sẽ tiếp tục hành trình khám phá một loại đường tròn khác cũng rất quan trọng, đó là đường tròn\u001b[0m\n",
       "\u001b[3mnội tiếp tam giác.\"\u001b[0m                                                                                                \n",
       "\n",
       "                         \u001b[1;2mHoạt động 4: Khám phá và định nghĩa Đường tròn nội tiếp (25 phút)\u001b[0m                         \n",
       "\n",
       "\u001b[1;33m • \u001b[0m\u001b[1mLoại hình:\u001b[0m Thực hành và khám phá                                                                                \n",
       "\u001b[1;33m • \u001b[0m\u001b[1mHành động của Giáo viên:\u001b[0m                                                                                        \n",
       "\u001b[1;33m   \u001b[0m\u001b[1;33m • \u001b[0mKiểm tra sự chuẩn bị dụng cụ học tập (thước, compa) của học sinh.                                            \n",
       "\u001b[1;33m   \u001b[0m\u001b[1;33m • \u001b[0mChiếu slide hướng dẫn các bước vẽ đường phân giác nếu cần thiết.                                             \n",
       "\u001b[1;33m   \u001b[0m\u001b[1;33m • \u001b[0mĐi lại quan sát các nhóm/cá nhân thực hiện, kịp thời hỗ trợ những học sinh gặp khó khăn trong việc vẽ hình   \n",
       "\u001b[1;33m   \u001b[0m\u001b[1;33m   \u001b[0mhoặc xác định tâm.                                                                                           \n",
       "\u001b[1;33m   \u001b[0m\u001b[1;33m • \u001b[0mĐặt câu hỏi gợi mở: 'Làm thế nào để biết đường tròn đã tiếp xúc với ba cạnh?', 'Khoảng cách từ tâm I đến các \n",
       "\u001b[1;33m   \u001b[0m\u001b[1;33m   \u001b[0mcạnh có gì đặc biệt?'                                                                                        \n",
       "\u001b[1;33m   \u001b[0m\u001b[1;33m • \u001b[0mYêu cầu một vài học sinh/nhóm trình bày kết quả vẽ hình và định nghĩa, tính chất đã tìm được.                \n",
       "\u001b[1;33m   \u001b[0m\u001b[1;33m • \u001b[0mTổng kết và chốt kiến thức về định nghĩa và tính chất của đường tròn nội tiếp.                               \n",
       "\u001b[1;33m • \u001b[0m\u001b[1mNhiệm vụ của Học sinh (Mô tả):\u001b[0m Học sinh thực hiện các bước sau: 1. Vẽ một tam giác ABC bất kỳ lên giấy. 2. Dùng \n",
       "\u001b[1;33m   \u001b[0mthước và compa để vẽ ba đường phân giác của ba góc A, B, C của tam giác. 3. Xác định giao điểm của ba đường phân\n",
       "\u001b[1;33m   \u001b[0mgiác đó (điểm I). Điểm I chính là tâm của đường tròn nội tiếp. 4. Từ tâm I, vẽ đường tròn tiếp xúc với ba cạnh  \n",
       "\u001b[1;33m   \u001b[0mcủa tam giác. 5. Dựa trên hình vẽ và quá trình thực hiện, hãy nêu định nghĩa về đường tròn nội tiếp tam giác và \n",
       "\u001b[1;33m   \u001b[0mliệt kê các tính chất cơ bản của nó.                                                                            \n",
       "\u001b[1;33m • \u001b[0m\u001b[1mGợi ý đáp án/Hướng dẫn giải:\u001b[0m                                                                                    \n",
       "\u001b[1;33m   \u001b[0m\u001b[1;33m • \u001b[0mCâu hỏi gợi mở 1: Ba đường phân giác của một tam giác có đặc điểm gì về giao điểm của chúng?                 \n",
       "\u001b[1;33m   \u001b[0m\u001b[1;33m • \u001b[0mCâu hỏi gợi mở 2: Khoảng cách từ tâm I (giao điểm của ba đường phân giác) đến ba cạnh của tam giác có mối    \n",
       "\u001b[1;33m   \u001b[0m\u001b[1;33m   \u001b[0mquan hệ như thế nào?                                                                                         \n",
       "\u001b[1;33m   \u001b[0m\u001b[1;33m • \u001b[0mCâu hỏi gợi mở 3: Dựa vào mối quan hệ đó, em hãy định nghĩa đường tròn nội tiếp tam giác.                    \n",
       "\u001b[1;33m   \u001b[0m\u001b[1;33m • \u001b[0mCâu hỏi gợi mở 4: Đường tròn nội tiếp có những tính chất cơ bản nào liên quan đến tâm và bán kính của nó?    \n",
       "\n",
       "\u001b[3mGV: \"Thầy/cô rất ấn tượng với khả năng khám phá của các em! Chúng ta đã hiểu rõ về đường tròn nội tiếp, biết cách \u001b[0m \n",
       "\u001b[3mxác định tâm và vẽ nó. Để kết thúc buổi học hôm nay, chúng ta sẽ cùng nhau vận dụng kiến thức này và tổng kết lại \u001b[0m \n",
       "\u001b[3mnhững điểm cốt lõi nhất nhé!\"\u001b[0m                                                                                      \n",
       "\n",
       "                     \u001b[1;2mHoạt động 5: Vận dụng Đường tròn nội tiếp và tổng kết kiến thức (10 phút)\u001b[0m                     \n",
       "\n",
       "\u001b[1;33m • \u001b[0m\u001b[1mLoại hình:\u001b[0m Luyện tập và Tổng kết                                                                                \n",
       "\u001b[1;33m • \u001b[0m\u001b[1mHành động của Giáo viên:\u001b[0m                                                                                        \n",
       "\u001b[1;33m   \u001b[0m\u001b[1;33m • \u001b[0mChiếu slide chứa các bài tập thực hành và yêu cầu so sánh.                                                   \n",
       "\u001b[1;33m   \u001b[0m\u001b[1;33m • \u001b[0mPhát phiếu học tập có in sẵn đề bài và bảng so sánh cho từng nhóm hoặc cá nhân.                              \n",
       "\u001b[1;33m   \u001b[0m\u001b[1;33m • \u001b[0mĐi lại quan sát các nhóm làm việc, gợi ý và hỗ trợ khi học sinh gặp khó khăn.                                \n",
       "\u001b[1;33m   \u001b[0m\u001b[1;33m • \u001b[0mĐặt câu hỏi gợi mở: 'Tâm đường tròn nội tiếp là giao điểm của những đường nào?', 'Công thức tính bán kính    \n",
       "\u001b[1;33m   \u001b[0m\u001b[1;33m   \u001b[0mđường tròn nội tiếp tam giác vuông là gì?', 'Điểm khác biệt lớn nhất giữa tâm đường tròn nội tiếp và ngoại   \n",
       "\u001b[1;33m   \u001b[0m\u001b[1;33m   \u001b[0mtiếp là gì?'                                                                                                 \n",
       "\u001b[1;33m   \u001b[0m\u001b[1;33m • \u001b[0mYêu cầu đại diện 1-2 nhóm trình bày kết quả bài tập và bảng so sánh trên bảng hoặc qua máy chiếu.            \n",
       "\u001b[1;33m   \u001b[0m\u001b[1;33m • \u001b[0mTổng kết các kiến thức trọng tâm về đường tròn nội tiếp và ngoại tiếp, nhấn mạnh các điểm cần lưu ý và các   \n",
       "\u001b[1;33m   \u001b[0m\u001b[1;33m   \u001b[0mlỗi thường gặp.                                                                                              \n",
       "\u001b[1;33m • \u001b[0m\u001b[1mNhiệm vụ của Học sinh (Mô tả):\u001b[0m Học sinh sẽ thực hiện các nhiệm vụ sau:1. Giải bài tập thực hành: Bài 1: Cho tam \n",
       "\u001b[1;33m   \u001b[0mgiác ABC vuông tại A có AB = 6cm, AC = 8cm. Tính bán kính đường tròn nội tiếp tam giác ABC. Bài 2: Nêu cách xác \n",
       "\u001b[1;33m   \u001b[0mđịnh tâm đường tròn nội tiếp của một tam giác bất kỳ bằng thước và compa.2. So sánh và tổng kết kiến thức: Lập  \n",
       "\u001b[1;33m   \u001b[0mbảng so sánh điểm giống và khác nhau giữa đường tròn ngoại tiếp và đường tròn nội tiếp của một tam giác (về định\n",
       "\u001b[1;33m   \u001b[0mnghĩa, vị trí tâm, cách xác định tâm, công thức tính bán kính). Thảo luận nhóm để hệ thống hóa các kiến thức    \n",
       "\u001b[1;33m   \u001b[0mquan trọng nhất về hai loại đường tròn này.                                                                     \n",
       "\u001b[1;33m • \u001b[0m\u001b[1mGợi ý đáp án/Hướng dẫn giải:\u001b[0m                                                                                    \n",
       "\u001b[1;33m   \u001b[0m\u001b[1;33m • \u001b[0mGợi Ý Bài 1: Sử dụng công thức tính bán kính đường tròn nội tiếp tam giác vuông r = (a+b-c)/2 hoặc công thức \n",
       "\u001b[1;33m   \u001b[0m\u001b[1;33m   \u001b[0mdiện tích S = pr.                                                                                            \n",
       "\u001b[1;33m   \u001b[0m\u001b[1;33m • \u001b[0mGợi Ý Bài 2: Tâm đường tròn nội tiếp là giao điểm của ba đường phân giác trong của tam giác.                 \n",
       "\u001b[1;33m   \u001b[0m\u001b[1;33m • \u001b[0mGợi Ý So Sánh: Tập trung vào định nghĩa, vị trí tâm (trong/ngoài tam giác), cách xác định tâm (giao điểm của \n",
       "\u001b[1;33m   \u001b[0m\u001b[1;33m   \u001b[0mđường gì), và công thức tính bán kính (nếu có).                                                              \n",
       "\u001b[1;33m   \u001b[0m\u001b[1;33m • \u001b[0mCâu Hỏi Tổng Kết: Khi nào thì tâm đường tròn ngoại tiếp nằm ngoài tam giác? Khi nào thì tâm đường tròn nội   \n",
       "\u001b[1;33m   \u001b[0m\u001b[1;33m   \u001b[0mtiếp trùng với tâm đường tròn ngoại tiếp?                                                                    \n",
       "\n",
       "                                            \u001b[1mV. DẶN DÒ VÀ BÀI TẬP VỀ NHÀ\u001b[0m                                            \n",
       "\n",
       "\u001b[1;33m • \u001b[0m\u001b[1mDặn dò:\u001b[0m                                                                                                         \n",
       "\u001b[1;33m   \u001b[0m\u001b[1;33m • \u001b[0mÔn tập lại toàn bộ kiến thức về đường tròn ngoại tiếp và đường tròn nội tiếp tam giác.                       \n",
       "\u001b[1;33m   \u001b[0m\u001b[1;33m • \u001b[0mXem lại các bài tập đã chữa trên lớp.                                                                        \n",
       "\u001b[1;33m   \u001b[0m\u001b[1;33m • \u001b[0mChuẩn bị cho bài học tiếp theo.                                                                              \n",
       "\u001b[1;33m • \u001b[0m\u001b[1mBài tập về nhà:\u001b[0m                                                                                                 \n",
       "\u001b[1;33m   \u001b[0m\u001b[1;33m • \u001b[0mLàm các bài tập còn lại trong sách giáo khoa liên quan đến chủ đề.                                           \n",
       "\u001b[1;33m   \u001b[0m\u001b[1;33m • \u001b[0mTìm hiểu thêm về các ứng dụng của đường tròn ngoại tiếp và nội tiếp trong thực tế hoặc các bài toán nâng cao.\n",
       "\n",
       "\u001b[33m───────────────────────────────────────────────────────────────────────────────────────────────────────────────────\u001b[0m\n"
      ]
     },
     "metadata": {},
     "output_type": "display_data"
    }
   ],
   "source": [
    "# ==============================================================================\n",
    "# CELL 5.2: KÍCH HOẠT CHẠY THỬ NGHIỆM\n",
    "# ==============================================================================\n",
    "# Yêu cầu để kiểm tra\n",
    "architect_request = \"Soạn giúp tôi giáo án bài 'Đường tròn ngoại tiếp và đường tròn nội tiếp' cho học sinh lớp 9 trong 90 phút. Đây là một lớp học khá yếu, các em thường mất tập trung và cần các hoạt động có tính tương tác cao.\"\n",
    "VERBOSE_MODE = True \n",
    "\n",
    "# Chạy quy trình đã được cải cách\n",
    "# Lưu ý: bạn cần một môi trường hỗ trợ `await` ở cấp độ cao nhất (như Jupyter Notebook)\n",
    "await run_architect(architect_request)"
   ]
  }
 ],
 "metadata": {
  "kernelspec": {
   "display_name": "plan_venv",
   "language": "python",
   "name": "python3"
  },
  "language_info": {
   "codemirror_mode": {
    "name": "ipython",
    "version": 3
   },
   "file_extension": ".py",
   "mimetype": "text/x-python",
   "name": "python",
   "nbconvert_exporter": "python",
   "pygments_lexer": "ipython3",
   "version": "3.11.8"
  }
 },
 "nbformat": 4,
 "nbformat_minor": 5
}
