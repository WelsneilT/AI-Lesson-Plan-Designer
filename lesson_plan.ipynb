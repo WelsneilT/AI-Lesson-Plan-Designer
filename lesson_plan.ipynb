{
 "cells": [
  {
   "cell_type": "markdown",
   "id": "a3bfa357",
   "metadata": {},
   "source": [
    "## PHẦN 1: CÀI ĐẶT, IMPORTS & THIẾT LẬP BAN ĐẦU"
   ]
  },
  {
   "cell_type": "code",
   "execution_count": 1,
   "id": "f1b9d691",
   "metadata": {},
   "outputs": [],
   "source": [
    "# ==============================================================================\n",
    "# CELL 1.1: CÀI ĐẶT THƯ VIỆN & BIẾN MÔI TRƯỜNG (CẬP NHẬT)\n",
    "# ==============================================================================\n",
    "import os\n",
    "import json\n",
    "import asyncio\n",
    "import operator\n",
    "import time \n",
    "import re\n",
    "from typing import TypedDict, Annotated, List, Dict, Any, Literal, Optional, Union\n",
    "\n",
    "# Tải các biến môi trường\n",
    "from dotenv import load_dotenv \n",
    "load_dotenv()\n",
    "\n",
    "# LangChain & LangGraph\n",
    "from langchain_core.messages import BaseMessage, HumanMessage   \n",
    "from pydantic.v1 import BaseModel, Field, schema_json_of\n",
    "# --- NÂNG CẤP: Chuyển sang thư viện Google Generative AI (dành cho AI Studio) ---\n",
    "from langchain_google_genai import ChatGoogleGenerativeAI\n",
    "from langgraph.graph import StateGraph, END\n",
    "from langgraph.graph.message import add_messages\n",
    "\n",
    "# --- NÂNG CẤP: Thêm công cụ tìm kiếm ---\n",
    "from langchain_community.tools.tavily_search import TavilySearchResults\n",
    "\n",
    "# Thư viện hỗ trợ & Kho tri thức\n",
    "from langchain_community.vectorstores import FAISS\n",
    "from langchain_huggingface import HuggingFaceEmbeddings\n",
    "from rich.console import Console\n",
    "from rich.markdown import Markdown\n",
    "from rich.pretty import pprint\n",
    "from IPython.display import Image, display"
   ]
  },
  {
   "cell_type": "code",
   "execution_count": 2,
   "id": "eb563d80",
   "metadata": {},
   "outputs": [],
   "source": [
    "# ==============================================================================\n",
    "# CELL 1.2: CẤU HÌNH LOG & CÁC HÀM IN ẤN\n",
    "# ==============================================================================\n",
    "from langchain_groq import ChatGroq\n",
    "# --- CẤU HÌNH LOG ---\n",
    "VERBOSE_MODE = True\n",
    "\n",
    "# --- KHỞI TẠO CÁC CÔNG CỤ IN ẤN ---\n",
    "console = Console()\n",
    "\n",
    "def print_step(message: str):\n",
    "    if VERBOSE_MODE:\n",
    "        console.print(f\"\\n[bold cyan]>[/bold cyan] {message}\")\n",
    "\n",
    "def print_result(data: Any, title: str = \"Kết quả\"):\n",
    "    if VERBOSE_MODE:\n",
    "        console.print(f\"[bold green]✔️ {title}:[/bold green]\")\n",
    "        pprint(data, expand_all=True)\n",
    "        \n",
    "def print_warning(message: str):\n",
    "    if VERBOSE_MODE:\n",
    "        console.print(f\"[bold yellow]⚠️  {message}[/bold yellow]\")"
   ]
  },
  {
   "cell_type": "code",
   "execution_count": 3,
   "id": "eb8e3f51",
   "metadata": {},
   "outputs": [
    {
     "name": "stdout",
     "output_type": "stream",
     "text": [
      "✅ LLM (Gemini 2.5 Flash từ Google AI Studio) đã được khởi tạo thành công.\n"
     ]
    }
   ],
   "source": [
    "# ==============================================================================\n",
    "# CELL 1.3: KHỞI TẠO LLM (NÂNG CẤP SANG GOOGLE AI STUDIO)\n",
    "# ==============================================================================\n",
    "try:\n",
    "    llm = ChatGoogleGenerativeAI(\n",
    "        model=\"gemini-2.5-flash\", # Sử dụng model mới nhất và mạnh nhất\n",
    "        temperature=0.1,\n",
    "        google_api_key=os.getenv(\"GOOGLE_API_KEY\")\n",
    "    )\n",
    "    print(\"✅ LLM (Gemini 2.5 Flash từ Google AI Studio) đã được khởi tạo thành công.\")\n",
    "except Exception as e:\n",
    "    print(f\"❌ LỖI: Không thể khởi tạo LLM. Hãy chắc chắn bạn đã cài 'langchain-google-genai' và có GOOGLE_API_KEY trong file .env. Lỗi: {e}\")\n",
    "    llm = None"
   ]
  },
  {
   "cell_type": "code",
   "execution_count": null,
   "id": "0e17e6e5",
   "metadata": {},
   "outputs": [],
   "source": []
  },
  {
   "cell_type": "markdown",
   "id": "3ba01f0c",
   "metadata": {},
   "source": [
    "## PHẦN 2: ĐỊNH NGHĨA STATE CỦA HỆ THỐNG\n"
   ]
  },
  {
   "cell_type": "code",
   "execution_count": 4,
   "id": "9d8894ca",
   "metadata": {},
   "outputs": [
    {
     "name": "stderr",
     "output_type": "stream",
     "text": [
      "c:\\Users\\Hi\\Documents\\IAI - UET\\AI-Lesson-Plan-Generator\\plan_venv\\Lib\\site-packages\\tqdm\\auto.py:21: TqdmWarning: IProgress not found. Please update jupyter and ipywidgets. See https://ipywidgets.readthedocs.io/en/stable/user_install.html\n",
      "  from .autonotebook import tqdm as notebook_tqdm\n"
     ]
    },
    {
     "data": {
      "text/html": [
       "<pre style=\"white-space:pre;overflow-x:auto;line-height:normal;font-family:Menlo,'DejaVu Sans Mono',consolas,'Courier New',monospace\">\n",
       "<span style=\"color: #008080; text-decoration-color: #008080; font-weight: bold\">&gt;</span> Đang tải và hợp nhất các kho tri thức từ <span style=\"color: #008080; text-decoration-color: #008080; font-weight: bold\">2</span> thư mục<span style=\"color: #808000; text-decoration-color: #808000\">...</span>\n",
       "</pre>\n"
      ],
      "text/plain": [
       "\n",
       "\u001b[1;36m>\u001b[0m Đang tải và hợp nhất các kho tri thức từ \u001b[1;36m2\u001b[0m thư mục\u001b[33m...\u001b[0m\n"
      ]
     },
     "metadata": {},
     "output_type": "display_data"
    },
    {
     "name": "stdout",
     "output_type": "stream",
     "text": [
      "✅ Đã tải thành công kho tri thức cơ sở: 'sgk_toan_12_1'\n",
      "✅ Đã hợp nhất thành công: 'sgk_toan_9'\n",
      "\n",
      "[bold green]✔️ Tất cả các kho tri thức RAG đã được tải và hợp nhất thành công.[/bold green]\n"
     ]
    }
   ],
   "source": [
    "# ==============================================================================\n",
    "# CELL 1.4: TẢI KHO TRI THỨC (RAG)\n",
    "# ==============================================================================\n",
    "# --- TẢI KHO TRI THỨC ---\n",
    "BASE_VECTOR_STORE_PATH = \"vector_store\"\n",
    "vector_store = None\n",
    "embeddings = HuggingFaceEmbeddings(model_name=\"all-MiniLM-L6-v2\")\n",
    "\n",
    "if os.path.exists(BASE_VECTOR_STORE_PATH):\n",
    "    subdirectories = [f.path for f in os.scandir(BASE_VECTOR_STORE_PATH) if f.is_dir()]\n",
    "    if not subdirectories:\n",
    "        print(f\"❌ LỖI: Không tìm thấy thư mục con nào trong '{BASE_VECTOR_STORE_PATH}'.\")\n",
    "    else:\n",
    "        try:\n",
    "            print_step(f\"Đang tải và hợp nhất các kho tri thức từ {len(subdirectories)} thư mục...\")\n",
    "            # Tải kho tri thức đầu tiên để làm cơ sở\n",
    "            first_store_path = subdirectories.pop(0)\n",
    "            vector_store = FAISS.load_local(first_store_path, embeddings, allow_dangerous_deserialization=True)\n",
    "            print(f\"✅ Đã tải thành công kho tri thức cơ sở: '{os.path.basename(first_store_path)}'\")\n",
    "\n",
    "            # Hợp nhất các kho tri thức còn lại\n",
    "            for store_path in subdirectories:\n",
    "                if os.path.exists(os.path.join(store_path, \"index.faiss\")):\n",
    "                    temp_store = FAISS.load_local(store_path, embeddings, allow_dangerous_deserialization=True)\n",
    "                    vector_store.merge_from(temp_store)\n",
    "                    print(f\"✅ Đã hợp nhất thành công: '{os.path.basename(store_path)}'\")\n",
    "                else:\n",
    "                    print_warning(f\"Bỏ qua thư mục '{os.path.basename(store_path)}' vì không chứa file index.faiss.\")\n",
    "            \n",
    "            print(\"\\n[bold green]✔️ Tất cả các kho tri thức RAG đã được tải và hợp nhất thành công.[/bold green]\")\n",
    "\n",
    "        except Exception as e:\n",
    "            print(f\"❌ LỖI trong quá trình tải hoặc hợp nhất kho tri thức: {e}\")\n",
    "else:\n",
    "    print(f\"❌ LỖI: Không tìm thấy thư mục gốc của kho tri thức tại '{BASE_VECTOR_STORE_PATH}'.\")\n"
   ]
  },
  {
   "cell_type": "code",
   "execution_count": 5,
   "id": "73b17652",
   "metadata": {},
   "outputs": [
    {
     "data": {
      "text/html": [
       "<pre style=\"white-space:pre;overflow-x:auto;line-height:normal;font-family:Menlo,'DejaVu Sans Mono',consolas,'Courier New',monospace\">\n",
       "<span style=\"color: #008080; text-decoration-color: #008080; font-weight: bold\">&gt;</span> ✅ Đã xây dựng Vector Store cho Trí nhớ Dài hạn.\n",
       "</pre>\n"
      ],
      "text/plain": [
       "\n",
       "\u001b[1;36m>\u001b[0m ✅ Đã xây dựng Vector Store cho Trí nhớ Dài hạn.\n"
      ]
     },
     "metadata": {},
     "output_type": "display_data"
    }
   ],
   "source": [
    "# ==============================================================================\n",
    "# CELL 1.5: KHỞI TẠO VÀ QUẢN LÝ TRÍ NHỚ DÀI HẠN (NÂNG CẤP V9.4)\n",
    "# ==============================================================================\n",
    "MEMORY_FILE_PATH = \"long_term_memory.json\"\n",
    "memory_vector_store = None\n",
    "\n",
    "# Hàm để tải trí nhớ từ file JSON\n",
    "def load_memory():\n",
    "    if not os.path.exists(MEMORY_FILE_PATH):\n",
    "        return []\n",
    "    with open(MEMORY_FILE_PATH, 'r', encoding='utf-8') as f:\n",
    "        return json.load(f)\n",
    "\n",
    "# Hàm để lưu một giáo án mới vào trí nhớ\n",
    "def save_to_memory(request: str, structured_plan: Dict[str, Any]):\n",
    "    memory = load_memory()\n",
    "    memory.append({\n",
    "        \"request\": request,\n",
    "        \"plan\": structured_plan\n",
    "    })\n",
    "    with open(MEMORY_FILE_PATH, 'w', encoding='utf-8') as f:\n",
    "        json.dump(memory, f, ensure_ascii=False, indent=2)\n",
    "    print_step(\"🧠 Đã lưu giáo án thành công vào Trí nhớ Dài hạn.\")\n",
    "\n",
    "# Hàm để tạo một vector store từ trí nhớ (để tìm kiếm tương đồng)\n",
    "def build_memory_vector_store():\n",
    "    global memory_vector_store\n",
    "    memory_content = load_memory()\n",
    "    if not memory_content:\n",
    "        print_warning(\"Trí nhớ trống, không có gì để xây dựng vector store.\")\n",
    "        return\n",
    "\n",
    "    # Chỉ lấy phần 'request' để tìm kiếm\n",
    "    texts = [item['request'] for item in memory_content]\n",
    "    # Lưu toàn bộ item làm metadata\n",
    "    metadatas = memory_content\n",
    "    \n",
    "    memory_vector_store = FAISS.from_texts(texts, embeddings, metadatas=metadatas)\n",
    "    print_step(\"✅ Đã xây dựng Vector Store cho Trí nhớ Dài hạn.\")\n",
    "\n",
    "# Tự động xây dựng vector store khi khởi động notebook\n",
    "build_memory_vector_store()"
   ]
  },
  {
   "cell_type": "code",
   "execution_count": 6,
   "id": "38cfae91",
   "metadata": {},
   "outputs": [
    {
     "name": "stdout",
     "output_type": "stream",
     "text": [
      "✅ 'TeacherStateV5' (v9.0 - Hỗ trợ Phân hóa & Cấu trúc) đã được định nghĩa.\n"
     ]
    }
   ],
   "source": [
    "# ==============================================================================\n",
    "# CELL 2.1: ĐỊNH NGHĨA STATE NÂNG CAO (v9.0)\n",
    "# ==============================================================================\n",
    "from typing import TypedDict, Annotated, List, Dict, Any, Literal, Optional, Union\n",
    "from langchain_core.messages import BaseMessage\n",
    "from langgraph.graph.message import add_messages\n",
    "import operator\n",
    "\n",
    "# --- Hàm tiện ích (giữ nguyên) ---\n",
    "def merge_dicts(dict1: Dict[str, Any], dict2: Dict[str, Any]) -> Dict[str, Any]:\n",
    "    merged = dict1.copy()\n",
    "    for key, value in dict2.items():\n",
    "        if key in merged and isinstance(merged[key], dict) and isinstance(value, dict):\n",
    "            merged[key] = merge_dicts(merged[key], value)\n",
    "        else:\n",
    "            merged[key] = value\n",
    "    return merged\n",
    "\n",
    "# --- Cấu trúc dữ liệu con (giữ nguyên) ---\n",
    "class DetailedTask(TypedDict):\n",
    "    task_id: int\n",
    "    task_name: str\n",
    "    task_description: str\n",
    "    estimated_duration: int \n",
    "    status: Literal[\"pending\", \"completed\"]\n",
    "\n",
    "# === NÂNG CẤP V9.0: CÁC CẤU TRÚC DỮ LIỆU MỚI CHO TƯ DUY SÂU ===\n",
    "class DifferentiatedInstruction(TypedDict):\n",
    "    \"\"\"Gợi ý cho việc dạy học phân hóa trong một hoạt động.\"\"\"\n",
    "    for_struggling_students: str\n",
    "    for_advanced_students: str\n",
    "\n",
    "class StructuredContentItem(TypedDict):\n",
    "    \"\"\"Định nghĩa một hoạt động hoặc đánh giá có cấu trúc.\"\"\"\n",
    "    task_id: int\n",
    "    activity_name: str\n",
    "    question_or_description: str # Gộp 'question' và 'description'\n",
    "    duration_minutes: int\n",
    "    content_type: str # Gộp 'activity_type' và 'question_type'\n",
    "    teacher_actions: List[str]\n",
    "    solution_guide: Any\n",
    "    answer: Optional[str] # Dành cho câu hỏi đánh giá\n",
    "    differentiation: Optional[DifferentiatedInstruction]\n",
    "\n",
    "class FinalStructuredPlan(TypedDict):\n",
    "    \"\"\"Định nghĩa cấu trúc JSON cho giáo án cuối cùng.\"\"\"\n",
    "    general_info: Dict[str, Any]\n",
    "    learning_objectives: List[str]\n",
    "    preparation: Dict[str, List[str]]\n",
    "    knowledge_summary: str\n",
    "    lesson_flow: List[StructuredContentItem]\n",
    "    # pedagogical_explainer: Dict[str, Any] # Dành cho nâng cấp tương lai\n",
    "\n",
    "# === NÂNG CẤP V9.0: STATE MỚI VỚI CÁC TRƯỜNG TRÍ TUỆ MỚI ===\n",
    "class TeacherStateV5(TypedDict):\n",
    "    # Các trường cơ bản\n",
    "    original_request: str\n",
    "    messages: Annotated[List[BaseMessage], add_messages]\n",
    "    domain: Optional[str]\n",
    "    \n",
    "    # === NÂNG CẤP: student_persona giờ sẽ chứa cả chiến lược phân hóa ===\n",
    "    student_persona: Optional[Dict[str, Any]] \n",
    "    \n",
    "    # Các bước tuần tự ban đầu\n",
    "    analyzed_objective: Optional[Any]\n",
    "    pedagogy_strategy: Optional[Any]\n",
    "    pedagogical_blueprint: Optional[List[str]]\n",
    "\n",
    "    # Các trường nâng cao\n",
    "    expanded_queries: Optional[List[str]]\n",
    "    task_list: Optional[List[DetailedTask]]\n",
    "    current_task_id: Optional[int]\n",
    "    current_task_retry_count: int  # <-- THÊM DÒNG NÀY VÀO ĐÂY\n",
    "    reflection_notes: Optional[str]\n",
    "    agent_outputs: Annotated[Dict[str, Any], merge_dicts] \n",
    "    next_agent: str\n",
    "    \n",
    "    # Các trường tạm thời cho vòng lặp kiểm duyệt vi mô (Micro-loop)\n",
    "    current_content_to_validate: Optional[Dict[str, Any]]\n",
    "    validation_feedback: Optional[str]\n",
    "\n",
    "    inspirational_example: Optional[List[Dict[str, Any]]]\n",
    "\n",
    "    # === NÂNG CẤP: Output cuối cùng sẽ có 2 dạng ===\n",
    "    final_structured_plan: Optional[FinalStructuredPlan] # Dạng JSON có cấu trúc\n",
    "    final_markdown_plan: Optional[str] # Dạng Markdown để hiển thị\n",
    "\n",
    "\n",
    "print(\"✅ 'TeacherStateV5' (v9.0 - Hỗ trợ Phân hóa & Cấu trúc) đã được định nghĩa.\")"
   ]
  },
  {
   "cell_type": "code",
   "execution_count": 7,
   "id": "deb1ba5e",
   "metadata": {},
   "outputs": [
    {
     "name": "stdout",
     "output_type": "stream",
     "text": [
      "✅ Node khởi tạo 'initialize_state_node' đã được định nghĩa.\n"
     ]
    }
   ],
   "source": [
    "# ==============================================================================\n",
    "# CELL 2.2: NODE KHỞI TẠO STATE\n",
    "# ==============================================================================\n",
    "def initialize_state_node(state: TeacherStateV5) -> Dict[str, Any]:\n",
    "    \"\"\"\n",
    "    Node đầu tiên trong graph.\n",
    "    Lấy yêu cầu gốc từ tin nhắn đầu vào và điền vào trường 'original_request'.\n",
    "    \"\"\"\n",
    "    print_step(\"`Initializer`: Đang khởi tạo trạng thái và lấy yêu cầu gốc...\")\n",
    "    user_request = state['messages'][-1].content\n",
    "    return {\"original_request\": user_request}\n",
    "\n",
    "print(\"✅ Node khởi tạo 'initialize_state_node' đã được định nghĩa.\")"
   ]
  },
  {
   "cell_type": "markdown",
   "id": "924d794f",
   "metadata": {},
   "source": [
    "## PHẦN 3: ĐỊNH NGHĨA CÁC AGENT"
   ]
  },
  {
   "cell_type": "code",
   "execution_count": 8,
   "id": "8cc95063",
   "metadata": {},
   "outputs": [
    {
     "name": "stdout",
     "output_type": "stream",
     "text": [
      "✅ Các cấu trúc dữ liệu Pydantic (v9.7 - Hoạt động Linh hoạt) đã được định nghĩa.\n"
     ]
    }
   ],
   "source": [
    "# ==============================================================================\n",
    "# CELL 3.1: HÀM TIỆN ÍCH & CẤU TRÚC DỮ LIỆU (v9.7 - TƯ DUY LINH HOẠT)\n",
    "# ==============================================================================\n",
    "import json\n",
    "from pydantic.v1 import BaseModel, Field, schema_json_of\n",
    "from typing import List, Dict, Any, Literal, Optional\n",
    "\n",
    "# --- Các hàm tiện ích giữ nguyên ---\n",
    "def format_solution_guide(guide: Any) -> str:\n",
    "    if not guide: return \"Chưa có hướng dẫn.\"\n",
    "    if isinstance(guide, str): return guide\n",
    "    if isinstance(guide, list): return \"\\n\".join(f\"- {step}\" for step in guide)\n",
    "    if isinstance(guide, dict): return \"\\n\".join(f\"- {key.replace('_', ' ').title()}: {value}\" for key, value in guide.items())\n",
    "    return str(guide)\n",
    "\n",
    "def format_teacher_actions(actions: Optional[List[str]]) -> str:\n",
    "    if not actions: return \"Giáo viên quan sát và hỗ trợ chung.\"\n",
    "    return \"\\n\".join(f\"  - {action}\" for action in actions)\n",
    "\n",
    "def update_agent_outputs(state: \"TeacherStateV5\", key: str, value: Any) -> Dict[str, Any]:\n",
    "    outputs = state.get(\"agent_outputs\", {}).copy()\n",
    "    if key not in outputs: outputs[key] = []\n",
    "    outputs[key].append(value)\n",
    "    return {\"agent_outputs\": outputs}\n",
    "\n",
    "SYSTEM_PERSONA_PROMPT = \"BẠN LÀ MỘT TRỢ LÝ AI CHUYÊN NGHIỆP, ĐÓNG VAI TRÒ MỘT GIÁO VIÊN GIÀU KINH NGHIỆM TẠI VIỆT NAM. LUÔN LUÔN trả lời bằng TIẾNG VIỆT.\"\n",
    "\n",
    "# === CẬP NHẬT CẤU TRÚC HOẠT ĐỘNG LINH HOẠT ===\n",
    "class DifferentiatedInstructionModel(BaseModel):\n",
    "    for_struggling_students: str = Field(description=\"Gợi ý cụ thể cho nhóm học sinh yếu/gặp khó khăn.\")\n",
    "    for_advanced_students: str = Field(description=\"Gợi ý, thử thách hoặc hoạt động nâng cao cho nhóm học sinh giỏi.\")\n",
    "\n",
    "class LearningActivity(BaseModel):\n",
    "    activity_name: str = Field(description=\"Tên của hoạt động học tập.\")\n",
    "    activity_type: str = Field(description=\"Phân loại hoạt động. Ví dụ: 'Thảo luận nhóm', 'Thực hành cá nhân'\")\n",
    "    duration_minutes: int = Field(description=\"Tổng thời gian ước tính (bằng SỐ PHÚT) cho cả hai phần.\")\n",
    "    teacher_actions: List[str] = Field(description=\"Danh sách các hành động CỤ THỂ của GIÁO VIÊN.\")\n",
    "    # Thay 'description' bằng cấu trúc Lõi/Mở rộng\n",
    "    core_component: str = Field(description=\"Mô tả phần hoạt động CỐT LÕI mà TẤT CẢ học sinh cần hoàn thành.\")\n",
    "    extension_component: Optional[str] = Field(description=\"Mô tả phần hoạt động MỞ RỘNG dành cho học sinh làm nhanh hoặc nếu còn dư thời gian.\")\n",
    "    solution_guide: Optional[Any] = Field(description=\"Hướng dẫn giải hoặc các câu hỏi gợi mở.\")\n",
    "    differentiation: Optional[DifferentiatedInstructionModel] = Field(description=\"Gợi ý phân hóa cụ thể cho hoạt động này.\")\n",
    "\n",
    "class AssessmentItem(BaseModel):\n",
    "    activity_name: str = Field(description=\"Tên của hoạt động đánh giá.\")\n",
    "    question_type: str = Field(description=\"Loại câu hỏi. Ví dụ: 'Tự luận', 'Trắc nghiệm'\")\n",
    "    duration_minutes: int = Field(description=\"Tổng thời gian ước tính (bằng SỐ PHÚT) cho cả hai phần.\")\n",
    "    teacher_actions: List[str] = Field(description=\"Danh sách các hành động CỤ THỂ của GIÁO VIÊN.\")\n",
    "    # Thay 'question' bằng cấu trúc Lõi/Mở rộng\n",
    "    core_component: str = Field(description=\"Nội dung câu hỏi hoặc đề bài CỐT LÕI mà TẤT CẢ học sinh cần hoàn thành.\")\n",
    "    extension_component: Optional[str] = Field(description=\"Câu hỏi phụ hoặc thử thách MỞ RỘNG dành cho học sinh làm nhanh hoặc nếu còn dư thời gian.\")\n",
    "    answer: str = Field(description=\"Đáp án chính xác và ngắn gọn cho phần CỐT LÕI.\")\n",
    "    solution_guide: Any = Field(description=\"Hướng dẫn giải chi tiết từng bước.\")\n",
    "    differentiation: Optional[DifferentiatedInstructionModel] = Field(description=\"Gợi ý phân hóa cụ thể cho hoạt động này.\")\n",
    "\n",
    "# --- Các model khác giữ nguyên ---\n",
    "class StudentPersona(BaseModel):\n",
    "    learning_pace: Literal[\"nhanh\", \"trung bình\", \"chậm\"] = Field(description=\"Tốc độ học tập chung của lớp.\")\n",
    "    engagement_style: Literal[\"chủ động\", \"thụ động\", \"hỗn hợp\"] = Field(description=\"Mức độ tham gia chung của lớp.\")\n",
    "    special_notes: str = Field(description=\"Tóm tắt các đặc điểm nổi bật của lớp học.\")\n",
    "\n",
    "class StudentPersonaAndDifferentiation(StudentPersona):\n",
    "    differentiation_strategy: DifferentiatedInstructionModel = Field(description=\"Chiến lược dạy học phân hóa tổng thể cho cả bài học dựa trên các đặc điểm của lớp.\")\n",
    "\n",
    "class DetailedTaskModel(BaseModel):\n",
    "    task_name: str = Field(description=\"Tên của nhiệm vụ này.\")\n",
    "    task_description: str = Field(description=\"Mô tả chi tiết nhiệm vụ cần thực hiện.\")\n",
    "    estimated_duration: int = Field(description=\"Thời gian ước tính (bằng phút) cho nhiệm vụ này.\")\n",
    "\n",
    "class TaskListWithDuration(BaseModel):\n",
    "    tasks: List[DetailedTaskModel]\n",
    "\n",
    "class DetailedPedagogyChoice(BaseModel):\n",
    "    name: str = Field(description=\"Tên của phương pháp sư phạm được chọn.\")\n",
    "    rationale: str = Field(description=\"Lý do tại sao phương pháp này phù hợp.\")\n",
    "    key_actions: List[str] = Field(description=\"Danh sách các hành động/hoạt động cốt lõi đặc trưng cho phương pháp này.\")\n",
    "\n",
    "class ValidationResult(BaseModel):\n",
    "    is_valid: bool = Field(description=\"Nội dung có hợp lệ và chính xác về mặt chuyên môn không.\")\n",
    "    feedback: str = Field(description=\"Phản hồi chi tiết. Nếu không hợp lệ, hãy giải thích rõ ràng lỗi sai và gợi ý cách sửa.\")\n",
    "    suggested_duration: Optional[int] = Field(default=None, description=\"Nếu có lỗi về thời gian, hãy đề xuất một thời lượng hợp lý hơn (tính bằng SỐ PHÚT).\")\n",
    "\n",
    "class Domain(BaseModel): domain: str = Field(description=\"Lĩnh vực học thuật chính của yêu cầu.\")\n",
    "class ExpandedQueries(BaseModel): queries: List[str]\n",
    "class BestSnippets(BaseModel): best_snippets: List[str]\n",
    "class ParsedObjective(BaseModel): action_verb: str; bloom_level: int; topic: str; grade_level: str; duration_minutes: Optional[int]\n",
    "class TaskClassification(BaseModel): agent_category: Literal[\"activity_designer\", \"theory_synthesizer\", \"assessment_creator\"]\n",
    "class BlueprintStage(BaseModel): stage_name: str; stage_objective: str; stage_direction: str\n",
    "class PedagogicalBlueprint(BaseModel): blueprint: List[BlueprintStage]\n",
    "\n",
    "print(\"✅ Các cấu trúc dữ liệu Pydantic (v9.7 - Hoạt động Linh hoạt) đã được định nghĩa.\")"
   ]
  },
  {
   "cell_type": "code",
   "execution_count": 9,
   "id": "be758847",
   "metadata": {},
   "outputs": [
    {
     "name": "stdout",
     "output_type": "stream",
     "text": [
      "✅ Các agent phân tích yêu cầu ban đầu (v9.0 - Hỗ trợ Phân hóa) đã sẵn sàng.\n"
     ]
    }
   ],
   "source": [
    "# ==============================================================================\n",
    "# CELL 3.2: AGENT PHÂN TÍCH YÊU CẦU BAN ĐẦU (NÂNG CẤP V9.0)\n",
    "# ==============================================================================\n",
    "async def objective_interpreter_agent(state: \"TeacherStateV5\") -> Dict[str, Any]:\n",
    "    print_step(\"`Agent: Objective Interpreter` (v7.5) đang phân tích mục tiêu...\")\n",
    "    prompt = f\"{SYSTEM_PERSONA_PROMPT}\\n**NHIỆM VỤ:** Đọc yêu cầu của người dùng và trích xuất các thông tin sau.\\n**YÊU CẦU:** \\\"{state['original_request']}\\\"\\n**CÁC TRƯỜNG CẦN TRÍCH XUẤT:** `action_verb`, `bloom_level` (SỐ NGUYÊN), `topic`, `grade_level`, `duration_minutes`.\\n**CHỈ TRẢ VỀ JSON.**\"\n",
    "    structured_llm = llm.with_structured_output(ParsedObjective, method=\"json_mode\")\n",
    "    try:\n",
    "        parsed_result = await structured_llm.ainvoke(prompt)\n",
    "        analyzed_objective_dict = parsed_result.dict()\n",
    "        analyzed_objective_dict['constraints'] = {'duration_minutes': parsed_result.duration_minutes}\n",
    "        del analyzed_objective_dict['duration_minutes']\n",
    "        print_result(analyzed_objective_dict, \"Mục tiêu & Ràng buộc đã phân tích\")\n",
    "        return {\"analyzed_objective\": analyzed_objective_dict}\n",
    "    except Exception as e:\n",
    "        print_warning(f\"Lỗi tại Objective Interpreter: {e}. Sử dụng mục tiêu mặc định.\")\n",
    "        return {\"analyzed_objective\": { \"action_verb\": \"soạn\", \"bloom_level\": 3, \"topic\": state['original_request'], \"grade_level\": \"9\", \"constraints\": {\"duration_minutes\": 90} }}\n",
    "\n",
    "async def domain_classifier_agent(state: \"TeacherStateV5\") -> Dict[str, Any]:\n",
    "    print_step(\"`Agent: Domain Classifier` (v7.5) đang xác định lĩnh vực chuyên môn...\")\n",
    "    prompt = f\"{SYSTEM_PERSONA_PROMPT}\\n**NHIỆM VỤ:** Đọc yêu cầu của người dùng và xác định lĩnh vực học thuật chính.\\n**YÊU CẦU:** \\\"{state['original_request']}\\\"\\n**LĨNH VỰC CÓ THỂ CHỌN:** 'Toán học', 'Vật lý', 'Hóa học', 'Sinh học', 'Văn học', 'Lịch sử', 'Địa lý', 'Ngoại ngữ', 'Tin học'.\\n**YÊU CẦU ĐỊNH DẠNG:** Trả về JSON với key `domain`.\"\n",
    "    structured_llm = llm.with_structured_output(Domain, method=\"json_mode\")\n",
    "    try:\n",
    "        result = await structured_llm.ainvoke(prompt)\n",
    "        print_result(result.domain, \"Lĩnh vực chuyên môn được xác định\")\n",
    "        return {\"domain\": result.domain}\n",
    "    except Exception as e:\n",
    "        print_warning(f\"Lỗi tại Domain Classifier: {e}. Sử dụng lĩnh vực mặc định 'Toán học'.\")\n",
    "        return {\"domain\": \"Toán học\"}\n",
    "\n",
    "# === NÂNG CẤP: Agent này giờ đây là một nhà tư vấn chiến lược ===\n",
    "# === SỬA LỖI PARSING: Prompt được làm rõ ràng hơn về cấu trúc lồng nhau ===\n",
    "async def differentiated_instruction_advisor_agent(state: \"TeacherStateV5\") -> Dict[str, Any]:\n",
    "    print_step(\"`Agent: Differentiated Instruction Advisor` (v9.1) đang phân tích và đề xuất chiến lược phân hóa...\")\n",
    "    prompt = f\"\"\"{SYSTEM_PERSONA_PROMPT}\n",
    "    **VAI TRÒ:** Bạn là một chuyên gia sư phạm, chuyên về dạy học phân hóa.\n",
    "    **NHIỆM VỤ:** Phân tích mô tả về lớp học dưới đây và đề xuất một chiến lược dạy học phân hóa TỔNG THỂ cho cả buổi học.\n",
    "    **YÊU CẦU CỦA GIÁO VIÊN:** \"{state['original_request']}\"\n",
    "    \n",
    "    **CÁC BƯỚC SUY LUẬN (BẮT BUỘC):**\n",
    "    1.  **Phân tích Đặc điểm:** Dựa vào các từ khóa, hãy xác định `learning_pace`, `engagement_style`, và tóm tắt vào `special_notes`.\n",
    "    2.  **Đề xuất Chiến lược Phân hóa:** Dựa trên phân tích trên, hãy điền vào đối tượng `differentiation_strategy`. Đây PHẢI là một đối tượng JSON có 2 trường sau:\n",
    "        -   `for_struggling_students`: Một chiến lược cụ thể để **hỗ trợ** nhóm học sinh có thể gặp khó khăn. (Ví dụ: \"Chia nhỏ nhiệm vụ, cung cấp phiếu bài tập có gợi ý công thức, cho phép thêm thời gian.\")\n",
    "        -   `for_advanced_students`: Một chiến lược cụ thể để **thử thách** nhóm học sinh khá giỏi. (Ví dụ: \"Chuẩn bị các câu hỏi mở rộng 'Tại sao?' và 'Nếu... thì sao?', giao một bài toán ứng dụng thực tế nhỏ.\")\n",
    "\n",
    "    **YÊU CẦU ĐỊNH DẠNG:** BẮT BUỘC trả về một đối tượng JSON duy nhất tuân thủ schema `StudentPersonaAndDifferentiation`. Trường `differentiation_strategy` PHẢI là một object lồng vào bên trong.\n",
    "    \"\"\"\n",
    "    structured_llm = llm.with_structured_output(StudentPersonaAndDifferentiation, method=\"json_mode\")\n",
    "    try:\n",
    "        result = await structured_llm.ainvoke(prompt)\n",
    "        print_result(result.dict(), \"Hồ sơ lớp học và Chiến lược Phân hóa\")\n",
    "        return {\"student_persona\": result.dict()}\n",
    "    except Exception as e:\n",
    "        print_warning(f\"Lỗi tại Differentiated Instruction Advisor: {e}. Sử dụng hồ sơ mặc định.\")\n",
    "        fallback_persona = {\n",
    "            \"learning_pace\": \"trung bình\",\n",
    "            \"engagement_style\": \"hỗn hợp\",\n",
    "            \"special_notes\": \"Không có ghi chú đặc biệt.\",\n",
    "            \"differentiation_strategy\": {\n",
    "                \"for_struggling_students\": \"Quan sát và hỗ trợ thêm khi cần thiết.\",\n",
    "                \"for_advanced_students\": \"Khuyến khích các em tìm tòi thêm.\"\n",
    "            }\n",
    "        }\n",
    "        return {\"student_persona\": fallback_persona}\n",
    "\n",
    "print(\"✅ Các agent phân tích yêu cầu ban đầu (v9.0 - Hỗ trợ Phân hóa) đã sẵn sàng.\")"
   ]
  },
  {
   "cell_type": "code",
   "execution_count": 10,
   "id": "68b5bcd8",
   "metadata": {},
   "outputs": [
    {
     "name": "stdout",
     "output_type": "stream",
     "text": [
      "✅ Các agent lập kế hoạch chiến lược đã sẵn sàng.\n"
     ]
    }
   ],
   "source": [
    "# ==============================================================================\n",
    "# CELL 3.3: AGENT LẬP KẾ HOẠCH CHIẾN LƯỢC (v7.5)\n",
    "# ==============================================================================\n",
    "async def pedagogy_strategist_agent(state: \"TeacherStateV5\") -> Dict[str, Any]:\n",
    "    print_step(\"`Agent: Pedagogy Strategist` (v7.5) đang xây dựng chiến lược sư phạm chi tiết...\")\n",
    "    prompt = f\"\"\"{SYSTEM_PERSONA_PROMPT}\n",
    "    **MỤC TIÊU BÀI HỌC:** {state.get('analyzed_objective')}\n",
    "    **HỒ SƠ LỚP HỌC:** {state.get('student_persona')}\n",
    "    **NHIỆM VỤ:** Dựa vào mục tiêu và hồ sơ lớp học, hãy chọn MỘT phương pháp sư phạm phù hợp nhất. Sau đó, phân tích phương pháp đó thành các hành động cốt lõi.\n",
    "    **VÍ DỤ:** Nếu chọn 'Dạy học theo dự án', key_actions có thể là [\"Giao dự án\", \"Học sinh làm việc nhóm\", \"Báo cáo sản phẩm\"].\n",
    "    **YÊU CẦU ĐỊNH DẠNG:** Trả về JSON với các key `name`, `rationale`, `key_actions`.\n",
    "    \"\"\"\n",
    "    structured_llm = llm.with_structured_output(DetailedPedagogyChoice, method=\"json_mode\")\n",
    "    try:\n",
    "        result = await structured_llm.ainvoke(prompt)\n",
    "        print_result(result.dict(), \"Chiến lược sư phạm chi tiết\")\n",
    "        return {\"pedagogy_strategy\": result.dict()}\n",
    "    except Exception as e:\n",
    "        print_warning(f\"Lỗi tại Pedagogy Strategist: {e}. Sử dụng chiến lược mặc định.\")\n",
    "        return {\"pedagogy_strategy\": {\"name\": \"Dạy học giải quyết vấn đề\", \"rationale\": \"Mặc định do lỗi.\", \"key_actions\": [\"Nêu vấn đề\", \"Học sinh tìm giải pháp\", \"Trình bày kết quả\"]}}\n",
    "\n",
    "async def pedagogical_architect_agent(state: \"TeacherStateV5\") -> Dict[str, Any]:\n",
    "    print_step(\"`Agent: Pedagogical Architect` (v9.4) đang thiết kế kịch bản buổi học...\")\n",
    "    \n",
    "    inspirational_example = state.get(\"inspirational_example\")\n",
    "    example_prompt_part = \"\"\n",
    "    if inspirational_example:\n",
    "        example_prompt_part = f\"\"\"\n",
    "        **VÍ DỤ THAM KHẢO (TỪ MỘT GIÁO ÁN THÀNH CÔNG TRƯỚC ĐÂY):**\n",
    "        Đây là một luồng hoạt động đã được chứng minh là hiệu quả cho một chủ đề tương tự. Hãy học hỏi cấu trúc và cách tiếp cận từ nó:\n",
    "        ```json\n",
    "        {json.dumps(inspirational_example, ensure_ascii=False, indent=2)}\n",
    "        ```\n",
    "        \"\"\"\n",
    "    \n",
    "    prompt = f\"\"\"{SYSTEM_PERSONA_PROMPT} Với vai trò là một chuyên gia thiết kế trải nghiệm học tập.\n",
    "    **NHIỆM VỤ:** Xây dựng một \"Bản thiết kế Sư phạm\" - một kịch bản CẤP CAO cho buổi học.\n",
    "    \n",
    "    {example_prompt_part}\n",
    "    **QUY TẮC:**\n",
    "    1.  Tạo ra 3-5 giai đoạn chính cho dòng chảy của buổi học.\n",
    "    2.  Mỗi giai đoạn phải có tên (`stage_name`), mục tiêu (`stage_objective`), và định hướng (`stage_direction`).\n",
    "    3.  Đảm bảo độ khó tăng tiến qua các giai đoạn.\n",
    "    **THÔNG TIN PHÂN TÍCH:**\n",
    "    - Mục tiêu: {state.get('analyzed_objective')}\n",
    "    - Hồ sơ lớp học: {state.get('student_persona')}\n",
    "    - Chiến lược Sư phạm: {state.get('pedagogy_strategy')}\n",
    "    **YÊU CẦU ĐỊNH DẠNG:** Trả về JSON với key là `blueprint`, giá trị là một danh sách các đối tượng Stage.\n",
    "    \"\"\"\n",
    "    structured_llm = llm.with_structured_output(PedagogicalBlueprint, method=\"json_mode\")\n",
    "    try:\n",
    "        result = await structured_llm.ainvoke(prompt)\n",
    "        blueprint_list_of_strings = [f\"{stage.stage_name}: {stage.stage_direction}\" for stage in result.blueprint]\n",
    "        print_result(blueprint_list_of_strings, \"Bản thiết kế Sư phạm đã được tạo\")\n",
    "        return {\"pedagogical_blueprint\": blueprint_list_of_strings}\n",
    "    except Exception as e:\n",
    "        print_warning(f\"Lỗi tại Pedagogical Architect: {e}. Sử dụng blueprint mặc định.\")\n",
    "        return {\"pedagogical_blueprint\": [\"Giai đoạn 1: Giới thiệu bài học\", \"Giai đoạn 2: Luyện tập\", \"Giai đoạn 3: Đánh giá\"]}\n",
    "\n",
    "async def memory_retrieval_agent(state: \"TeacherStateV5\") -> Dict[str, Any]:\n",
    "    print_step(\"`Agent: Memory Retrieval` (v9.4) đang tìm kiếm trong trí nhớ...\")\n",
    "    \n",
    "    if not memory_vector_store:\n",
    "        print_warning(\"Không có Trí nhớ Dài hạn. Bỏ qua bước này.\")\n",
    "        return {\"inspirational_example\": None}\n",
    "\n",
    "    user_request = state[\"original_request\"]\n",
    "    \n",
    "    # Tìm kiếm 1 ví dụ tương đồng nhất trong trí nhớ\n",
    "    try:\n",
    "        results = memory_vector_store.similarity_search_with_score(user_request, k=1)\n",
    "        if results and results[0][1] < 0.5: # Chỉ lấy nếu độ tương đồng cao (điểm score thấp là tốt)\n",
    "            best_example = results[0][0].metadata\n",
    "            print_result(best_example['request'], \"Tìm thấy ví dụ tương đồng trong trí nhớ\")\n",
    "            # Chỉ trả về phần \"lesson_flow\" để làm ví dụ\n",
    "            return {\"inspirational_example\": best_example['plan']['lesson_flow']}\n",
    "        else:\n",
    "            print_step(\"Không tìm thấy ví dụ nào đủ tương đồng trong trí nhớ.\")\n",
    "            return {\"inspirational_example\": None}\n",
    "    except Exception as e:\n",
    "        print_warning(f\"Lỗi khi truy xuất trí nhớ: {e}\")\n",
    "        return {\"inspirational_example\": None}\n",
    "    \n",
    "print(\"✅ Các agent lập kế hoạch chiến lược đã sẵn sàng.\")"
   ]
  },
  {
   "cell_type": "code",
   "execution_count": 11,
   "id": "220113cd",
   "metadata": {},
   "outputs": [
    {
     "name": "stdout",
     "output_type": "stream",
     "text": [
      "✅ Các agent RAG đã sẵn sàng.\n"
     ]
    }
   ],
   "source": [
    "# ==============================================================================\n",
    "# CELL 3.4: AGENT TRUY XUẤT VÀ TỔNG HỢP KIẾN THỨC (RAG) (v7.5)\n",
    "# ==============================================================================\n",
    "async def query_expansion_agent(state: \"TeacherStateV5\") -> Dict[str, Any]:\n",
    "    print_step(\"`Agent: Query Expansion` (v7.5) đang phân tích yêu cầu...\")\n",
    "    prompt = f\"{SYSTEM_PERSONA_PROMPT}\\n**NHIỆM VỤ:** Tạo ra các cụm từ tìm kiếm đa dạng bằng tiếng Việt để tìm tài liệu.\\n**CHỦ ĐỀ:** \\\"{state.get('analyzed_objective', {}).get('topic', '')}\\\"\\n**LĨNH VỰC:** {state.get('domain', 'Chung')}\\n**YÊU CẦU ĐỊNH DẠNG:** Trả về JSON với key `queries`.\"\n",
    "    structured_llm = llm.with_structured_output(ExpandedQueries, method=\"json_mode\")\n",
    "    try:\n",
    "        response = await structured_llm.ainvoke(prompt)\n",
    "        print_result(response.queries, \"Các truy vấn tìm kiếm đã được mở rộng\")\n",
    "        return {\"expanded_queries\": response.queries}\n",
    "    except Exception as e:\n",
    "        print_warning(f\"Lỗi tại Query Expansion: {e}. Sử dụng truy vấn gốc.\")\n",
    "        return {\"expanded_queries\": [state.get('analyzed_objective', {}).get('topic', '')]}\n",
    "\n",
    "async def resource_scout_agent_v2(state: \"TeacherStateV5\") -> Dict[str, Any]:\n",
    "    print_step(\"`Agent: Resource Scout` (v8.1 - Sửa lỗi) đang tìm kiếm và sàng lọc...\")\n",
    "    retriever = vector_store.as_retriever(search_kwargs={\"k\": 5})\n",
    "    all_docs = []\n",
    "    queries = state.get('expanded_queries', [state.get('analyzed_objective', {}).get('topic', '')])\n",
    "    for query in queries:\n",
    "        all_docs.extend(retriever.invoke(query))\n",
    "    unique_docs_content = list({doc.page_content for doc in all_docs})[:8]\n",
    "    print_step(f\"Tìm thấy {len(all_docs)} tài liệu, sàng lọc còn {len(unique_docs_content)} đoạn văn bản độc nhất.\")\n",
    "    \n",
    "    # --- Phần Re-ranker giữ nguyên ---\n",
    "    rerank_prompt = f\"{SYSTEM_PERSONA_PROMPT}\\n**NHIỆM VỤ:** Đọc yêu cầu gốc và chọn ra 3-4 đoạn văn bản tiếng Việt phù hợp NHẤT từ danh sách dưới đây.\\n**YÊU CẦU GỐC:** \\\"{state.get('original_request', '')}\\\"\\n**DANH SÁCH TÀI LIỆU:** {json.dumps(unique_docs_content, ensure_ascii=False)}\\n**YÊU CẦU ĐỊNH DẠNG:** Trả về JSON với key `best_snippets`.\"\n",
    "    structured_llm_reranker = llm.with_structured_output(BestSnippets, method=\"json_mode\")\n",
    "    best_snippets_text = \"\\n\\n---\\n\\n\".join(unique_docs_content)\n",
    "    try:\n",
    "        reranked_result = await structured_llm_reranker.ainvoke(rerank_prompt)\n",
    "        best_snippets_text = \"\\n\\n---\\n\\n\".join(reranked_result.best_snippets)\n",
    "    except Exception as e:\n",
    "        print_warning(f\"Lỗi tại Re-ranker: {e}. Sử dụng tất cả tài liệu.\")\n",
    "\n",
    "    # === ĐẠI TU PROMPT TÓM TẮT ===\n",
    "    summary_prompt = f\"\"\"{SYSTEM_PERSONA_PROMPT}\n",
    "    **VAI TRÒ:** Bạn là một chuyên gia tổng hợp thông tin.\n",
    "    **NHIỆM VỤ DUY NHẤT:** Dựa **CHỈ** vào các đoạn văn bản dưới đây, hãy viết một bản **TÓM TẮT KIẾN THỨC CỐT LÕI** về chủ đề \"{state.get('analyzed_objective', {}).get('topic', '')}\".\n",
    "\n",
    "    **QUY TẮC TUYỆT ĐỐI:**\n",
    "    1.  **CHỈ DÙNG THÔNG TIN ĐƯỢC CUNG CẤP:** Tuyệt đối không được bình luận về chất lượng của các đoạn văn bản. Không được \"từ chối\" tóm tắt.\n",
    "    2.  **TỔNG HỢP & SUY LUẬN:** Nhiệm vụ của bạn là đọc tất cả các mẩu thông tin (kể cả từ các bài tập) và suy luận ra các định nghĩa, tính chất cốt lõi nhất.\n",
    "    3.  **CẤU TRÚC RÕ RÀNG:** Trình bày bản tóm tắt một cách mạch lạc, có đầu mục rõ ràng (ví dụ: 1. Định nghĩa, 2. Tính chất...).\n",
    "    4.  **TRẢ VỀ TÓM TẮT:** Luôn luôn trả về một bản tóm tắt, ngay cả khi nó ngắn gọn do thông tin hạn chế.\n",
    "\n",
    "    **CÁC ĐOẠN VĂN BẢN ĐỂ TÓM TẮT:**\n",
    "    {best_snippets_text}\n",
    "    \"\"\"\n",
    "    summary = \"Chưa có bản tóm tắt kiến thức.\"\n",
    "    try:\n",
    "        summary_response = await llm.ainvoke(summary_prompt)\n",
    "        summary = summary_response.content\n",
    "    except Exception as e:\n",
    "        print_warning(f\"Lỗi tại bước tóm tắt: {e}.\")\n",
    "        \n",
    "    resource = {\"source\": \"Sách giáo khoa (từ RAG - đã sàng lọc)\", \"summary\": summary}\n",
    "    print_result(resource, \"Tài liệu RAG cuối cùng\")\n",
    "    return update_agent_outputs(state, \"resources\", resource)\n",
    "\n",
    "print(\"✅ Các agent RAG đã sẵn sàng.\")"
   ]
  },
  {
   "cell_type": "code",
   "execution_count": 12,
   "id": "6eac918a",
   "metadata": {},
   "outputs": [
    {
     "name": "stdout",
     "output_type": "stream",
     "text": [
      "✅ Các agent giao việc và chuyên môn (v12.0 - Hoàn thiện) đã sẵn sàng.\n"
     ]
    }
   ],
   "source": [
    "# ==============================================================================\n",
    "# CELL 3.5: AGENT GIAO VIỆC & CHUYÊN MÔN (v12.0 - HOÀN THIỆN)\n",
    "# ==============================================================================\n",
    "\n",
    "# Plan Delegator được trang bị \"kinh nghiệm sư phạm\" và mệnh lệnh rõ ràng\n",
    "async def plan_delegator_agent(state: \"TeacherStateV5\") -> Dict[str, Any]:\n",
    "    print_step(\"`Agent: Plan Delegator` (v12.0 - Nhà hoạch định Thông thái) đang triển khai...\")\n",
    "    \n",
    "    blueprint = state.get('pedagogical_blueprint', [])\n",
    "    total_duration = state.get('analyzed_objective', {}).get('constraints', {}).get('duration_minutes', 90)\n",
    "\n",
    "    # Reset lại agent_outputs mỗi khi lập kế hoạch lại\n",
    "    agent_outputs_history = state.get(\"agent_outputs\", {})\n",
    "    new_agent_outputs = {\"resources\": agent_outputs_history.get(\"resources\", [])}\n",
    "        \n",
    "    prompt = f\"\"\"{SYSTEM_PERSONA_PROMPT}\n",
    "    **VAI TRÒ:** Bạn là một Nhà Hoạch định Sư phạm giàu kinh nghiệm.\n",
    "    **NHIỆM VỤ:** Chuyển đổi \"Bản thiết kế Sư phạm\" thành một danh sách các nhiệm vụ cụ thể, với sự phân bổ thời gian THỰC TẾ và KHẢ THI.\n",
    "\n",
    "    **BẢN THIẾT KẾ SƯ PHẠM:**\n",
    "    {json.dumps(blueprint, ensure_ascii=False, indent=2)}\n",
    "\n",
    "    **BẢNG TRA CỨU KINH NGHIỆM SƯ PHẠM (THAM KHẢO BẮT BUỘC):**\n",
    "    - Khởi động/Khám phá ban đầu: ~10-15 phút.\n",
    "    - Xây dựng kiến thức (mỗi khái niệm lớn): ~20-25 phút.\n",
    "    - Thực hành/Hoạt động nhóm (vẽ hình, thí nghiệm): ~25-30 phút.\n",
    "    - Luyện tập/Củng cố (giải bài tập): ~15-20 phút.\n",
    "    - Tổng kết/Đánh giá/Giao bài tập: ~5-10 phút.\n",
    "\n",
    "    **QUY TẮC TUYỆT ĐỐI:**\n",
    "    1.  **PHÂN BỔ THỰC TẾ:** Dựa vào Bảng tra cứu kinh nghiệm, hãy phân bổ thời gian cho từng nhiệm vụ một cách hợp lý. Đặc biệt, các hoạt động khám phá và thực hành cần nhiều thời gian.\n",
    "    2.  **TUÂN THỦ TỔNG THỜI GIAN:** Tổng thời lượng của tất cả các nhiệm vụ cộng lại PHẢI bằng chính xác **{total_duration} phút**.\n",
    "    \n",
    "    **YÊU CẦU ĐỊNH DẠNG:** Trả về JSON theo schema `TaskListWithDuration`.\n",
    "    \"\"\"\n",
    "    \n",
    "    structured_llm = llm.with_structured_output(TaskListWithDuration, method=\"json_mode\")\n",
    "    \n",
    "    try:\n",
    "        task_list_result = await structured_llm.ainvoke(prompt)\n",
    "        tasks_with_status = [{\"task_id\": i, **t.dict(), \"status\": \"pending\"} for i, t in enumerate(task_list_result.tasks) if t]\n",
    "        \n",
    "        print_result(tasks_with_status, f\"Đã tạo {len(tasks_with_status)} nhiệm vụ chi tiết\")\n",
    "        \n",
    "        return {\"task_list\": tasks_with_status, \"reflection_notes\": None, \"agent_outputs\": new_agent_outputs}\n",
    "    \n",
    "    except Exception as e:\n",
    "        print_warning(f\"Lỗi tại Plan Delegator: {e}. Tạo task mặc định.\")\n",
    "        fallback_task = { \"task_id\": 0, \"task_name\": \"Hoạt động luyện tập\", \"task_description\": \"Học sinh thực hành bài tập.\", \"estimated_duration\": 45, \"status\": \"pending\" }\n",
    "        return {\"task_list\": [fallback_task], \"reflection_notes\": None, \"agent_outputs\": state.get(\"agent_outputs\", {})}\n",
    "\n",
    "\n",
    "# Specialist Agent với \"Tư duy Kỷ luật\"\n",
    "async def specialist_agent_logic(state: \"TeacherStateV5\", agent_type: str, pydantic_model: type[BaseModel]) -> Dict[str, Any]:\n",
    "    print_step(f\"`Agent: {agent_type}` (v12.0) đang tạo nội dung theo kỷ luật...\")\n",
    "    task_to_run = next((t for t in state.get('task_list', []) if t['task_id'] == state.get('current_task_id')), None)\n",
    "    if not task_to_run: return {\"current_content_to_validate\": {\"error\": \"Không tìm thấy task hiện tại.\"}}\n",
    "\n",
    "    feedback_prompt = \"\"\n",
    "    if state.get('validation_feedback'):\n",
    "        feedback_prompt = f\"\"\"\n",
    "    **CẢNH BÁO TỪ NGƯỜI BẢO VỆ!**\n",
    "    Phiên bản trước đã bị từ chối với lý do sau: \"{state.get('validation_feedback', '')}\"\n",
    "    **MỆNH LỆNH TUYỆT ĐỐI:** BẠN PHẢI tạo ra một phiên bản ĐƠN GIẢN HƠN ĐÁNG KỂ. Hãy giảm số lượng yêu cầu, giảm độ phức tạp của bài tập, hoặc rút ngắn các bước lại. KHÔNG được lặp lại lỗi cũ.\n",
    "    \"\"\"\n",
    "    \n",
    "    prompt = f\"\"\"{SYSTEM_PERSONA_PROMPT}\n",
    "    **VAI TRÒ:** Bạn là một nhà thiết kế hoạt động học tập sáng tạo, tuân thủ nghiêm ngặt kế hoạch được giao.\n",
    "    \n",
    "    **KẾ HOẠCH ĐÃ BAN HÀNH:**\n",
    "    - Tên nhiệm vụ: \"{task_to_run.get('task_name', '')}\"\n",
    "    - **THỜI GIAN TỐI ĐA (MỆNH LỆNH TUYỆT ĐỐI):** {task_to_run.get('estimated_duration', 10)} phút.\n",
    "\n",
    "    {feedback_prompt}\n",
    "    \n",
    "    **QUY TẮC SỐ 1 - KỶ LUẬT THỜI GIAN:**\n",
    "    Nhiệm vụ của bạn là co giãn nội dung cho vừa với thời gian. Hãy thiết kế hoạt động tốt nhất có thể trong giới hạn thời gian đã cho. Nếu cần, hãy giảm bớt số lượng bài tập hoặc rút ngắn các bước. `duration_minutes` trong output của bạn PHẢI bằng **{task_to_run.get('estimated_duration', 10)}.**\n",
    "    \n",
    "    **QUY TẮC KHÁC:**\n",
    "    - **PHÂN HÓA:** Tạo gợi ý phân hóa chi tiết cho học sinh yếu và giỏi.\n",
    "    - **TUÂN THỦ SCHEMA:** Trả về JSON theo đúng cấu trúc.\n",
    "    \n",
    "    ```json\n",
    "    {schema_json_of(pydantic_model, indent=2)}\n",
    "    ```\n",
    "    \"\"\"\n",
    "    structured_llm = llm.with_structured_output(pydantic_model, method=\"json_mode\")\n",
    "    try:\n",
    "        result = await structured_llm.ainvoke(prompt)\n",
    "        content_dict = result.dict()\n",
    "        \n",
    "        # Gộp các trường để tương thích\n",
    "        if 'description' in content_dict: content_dict['question_or_description'] = content_dict.pop('description')\n",
    "        if 'question' in content_dict: content_dict['question_or_description'] = content_dict.pop('question')\n",
    "        if 'activity_type' in content_dict: content_dict['content_type'] = content_dict.pop('activity_type')\n",
    "        if 'question_type' in content_dict: content_dict['content_type'] = content_dict.pop('question_type')\n",
    "\n",
    "        print_result(content_dict, f\"Nội dung do {agent_type} tạo ra\")\n",
    "        return {\"current_content_to_validate\": content_dict, \"validation_feedback\": None}\n",
    "    except Exception as e:\n",
    "        print_warning(f\"Lỗi tại {agent_type}: {e}.\")\n",
    "        return {\"current_content_to_validate\": {\"error\": str(e)}}\n",
    "\n",
    "async def theory_synthesizer_agent(state: \"TeacherStateV5\"): return await specialist_agent_logic(state, \"Theory Synthesizer\", LearningActivity)\n",
    "async def activity_designer_agent(state: \"TeacherStateV5\"): return await specialist_agent_logic(state, \"Activity Designer\", LearningActivity)\n",
    "async def assessment_creator_agent(state: \"TeacherStateV5\"): return await specialist_agent_logic(state, \"Assessment Creator\", AssessmentItem)\n",
    "\n",
    "print(\"✅ Các agent giao việc và chuyên môn (v12.0 - Hoàn thiện) đã sẵn sàng.\")"
   ]
  },
  {
   "cell_type": "code",
   "execution_count": 13,
   "id": "f509f0a6",
   "metadata": {},
   "outputs": [
    {
     "name": "stdout",
     "output_type": "stream",
     "text": [
      "✅ Agent Cố vấn và Tổng hợp (v12.0) đã sẵn sàng.\n"
     ]
    }
   ],
   "source": [
    "# ==============================================================================\n",
    "# CELL 3.6: AGENT CỐ VẤN VÀ TỔNG HỢP (v12.0 - HOÀN THIỆN)\n",
    "# ==============================================================================\n",
    "\n",
    "# Critic trở thành \"Người bảo vệ Kế hoạch\"\n",
    "async def content_validator_agent(state: \"TeacherStateV5\") -> Dict[str, Any]:\n",
    "    print_step(f\"`Agent: Guardian Critic` (v12.1 - Cố vấn Thông thái) đang bảo vệ kế hoạch...\")\n",
    "    content = state.get('current_content_to_validate')\n",
    "    task_list = state.get('task_list', [])\n",
    "    current_task = next((t for t in task_list if t['task_id'] == state.get('current_task_id')), None)\n",
    "    \n",
    "    if not content or content.get(\"error\"):\n",
    "        # Giữ nguyên trường hợp lỗi cơ bản\n",
    "        return {\"validation_feedback\": \"Lỗi tạo nội dung, không thể phản biện.\"}\n",
    "\n",
    "    # Đảm bảo current_task tồn tại trước khi truy cập\n",
    "    if not current_task:\n",
    "        return {\"validation_feedback\": \"Lỗi nghiêm trọng: Không tìm thấy thông tin về nhiệm vụ hiện tại.\"}\n",
    "\n",
    "    estimated_duration = current_task.get('estimated_duration', 'N/A')\n",
    "\n",
    "    # <<< THAY ĐỔI LỚN BẮT ĐẦU TỪ ĐÂY >>>\n",
    "    # Prompt được thiết kế lại hoàn toàn để Critic đưa ra phản hồi mang tính xây dựng và hành động cụ thể.\n",
    "    prompt = f\"\"\"{SYSTEM_PERSONA_PROMPT}\n",
    "    **VAI TRÒ:** Bạn là một Cố vấn Sư phạm giàu kinh nghiệm, không phải một cỗ máy chỉ biết từ chối. Nhiệm vụ của bạn là hướng dẫn các agent khác tạo ra nội dung khả thi.\n",
    "    \n",
    "    **KẾ HOẠCH GỐC ĐÃ BAN HÀNH:**\n",
    "    - Tên nhiệm vụ: \"{current_task.get('task_name', 'Không có tên')}\"\n",
    "    - Thời gian cho phép: **{estimated_duration} phút.**\n",
    "\n",
    "    **NỘI DUNG CẦN THẨM ĐỊNH:**\n",
    "    ```json\n",
    "    {json.dumps(content, ensure_ascii=False, indent=2)}\n",
    "    ```\n",
    "    **QUY TRÌNH SUY LUẬN BẮT BUỘC:**\n",
    "    1.  **Phân tích Yêu cầu:** Đọc kỹ mô tả hoạt động. Nó yêu cầu học sinh làm bao nhiêu việc? (Ví dụ: xem video, thảo luận nhóm, làm 3 bài tập, vẽ sơ đồ, trình bày...).\n",
    "    2.  **Ước tính Thời gian Thực tế:** Dựa trên kinh nghiệm của một giáo viên, mỗi đầu việc nhỏ đó thực sự tốn bao nhiêu phút? Cộng tổng thời gian thực tế lại.\n",
    "    3.  **So sánh và Kết luận:** Thời gian thực tế ước tính có lớn hơn **{estimated_duration} phút** không?\n",
    "    \n",
    "    **YÊU CẦU ĐỊNH DẠNG (RẤT QUAN TRỌNG):**\n",
    "    - **Nếu hợp lệ:** Trả về JSON với `is_valid: true`.\n",
    "    - **Nếu KHÔNG hợp lệ:** Trả về JSON với `is_valid: false`. Trong trường `feedback`, BẮT BUỘC phải làm 2 việc:\n",
    "        1.  **Phân tích lỗi:** Giải thích NGẮN GỌN và CHÍNH XÁC tại sao hoạt động này không khả thi. (Ví dụ: \"Yêu cầu học sinh làm 3 bài tập và trình bày trong 15 phút là quá nhiều.\").\n",
    "        2.  **Ra Mệnh lệnh Sửa chữa CỤ THỂ:** Đưa ra một MỆNH LỆNH trực tiếp, mang tính hành động để agent chuyên môn biết phải làm gì.\n",
    "            -   *Ví dụ tốt:* \"Hãy thiết kế lại hoạt động CHỈ VỚI 1 BÀI TẬP DUY NHẤT.\"\n",
    "            -   *Ví dụ tốt:* \"Hãy loại bỏ phần yêu cầu trình bày trước lớp để tiết kiệm thời gian.\"\n",
    "            -   *Ví dụ xấu (chung chung):* \"Hãy làm cho nó đơn giản hơn.\"\n",
    "    \n",
    "    **QUY TẮC TUYỆT ĐỐI:** KHÔNG BAO GIỜ đề xuất tăng thời gian. Luôn ra lệnh CẮT GIẢM nội dung cho vừa với thời gian đã cho.\n",
    "    \"\"\"\n",
    "    # <<< KẾT THÚC PHẦN THAY ĐỔI >>>\n",
    "\n",
    "    structured_llm = llm.with_structured_output(ValidationResult, method=\"json_mode\")\n",
    "    try:\n",
    "        result = await structured_llm.ainvoke(prompt)\n",
    "        if result.is_valid:\n",
    "            print_step(\"✔️ GUARDIAN: Nội dung tuân thủ kế hoạch!\")\n",
    "            return {\"validation_feedback\": None}\n",
    "        else:\n",
    "            # Phản hồi giờ đây đã mang tính xây dựng hơn nhiều\n",
    "            constructive_feedback = result.feedback.strip()\n",
    "            print_warning(f\"GUARDIAN PHẢN BIỆN (có tính xây dựng): {constructive_feedback}\")\n",
    "            return {\"validation_feedback\": constructive_feedback}\n",
    "    except Exception as e:\n",
    "        print_warning(f\"Lỗi tại Guardian Critic: {e}. Mặc định cho qua.\")\n",
    "        return {\"validation_feedback\": None}\n",
    "\n",
    "\n",
    "# Dán lại code đầy đủ của hai hàm trên\n",
    "async def structured_plan_compiler_agent(state: \"TeacherStateV5\") -> Dict[str, Any]:\n",
    "    print_step(\"`Agent: Structured Plan Compiler` (v12.0) đang tổng hợp giáo án...\")\n",
    "    outputs = state.get('agent_outputs', {})\n",
    "    objective = state.get('analyzed_objective', {})\n",
    "    \n",
    "    activities = outputs.get('activities', [])\n",
    "    assessments = outputs.get('assessments', [])\n",
    "    all_content_items = activities + assessments\n",
    "    allowed_duration = objective.get('constraints', {}).get('duration_minutes', 90)\n",
    "\n",
    "    if not all_content_items:\n",
    "        return {\"reflection_notes\": \"Kế hoạch thất bại, không có hoạt động nào được tạo ra.\"}\n",
    "\n",
    "    total_duration = sum(item.get('duration_minutes', 0) for item in all_content_items)\n",
    "    \n",
    "    if not ((allowed_duration * 0.95) <= total_duration <= (allowed_duration + 5)):\n",
    "        reflection = f\"Kế hoạch thất bại. Tổng thời gian ({total_duration} phút) không hợp lệ. Lập kế hoạch lại.\"\n",
    "        print_warning(f\"CRITIC LỚN: {reflection}\")\n",
    "        return {\"reflection_notes\": reflection}\n",
    "\n",
    "    print_step(\"CRITIC LỚN: Kế hoạch hợp lệ! Bắt đầu tổng hợp JSON...\")\n",
    "    all_content_sorted = sorted(all_content_items, key=lambda x: x.get('task_id', float('inf')))\n",
    "    \n",
    "    persona = state.get('student_persona', {})\n",
    "    strategy = state.get('pedagogy_strategy', {})\n",
    "    resources = state.get('agent_outputs', {}).get('resources', [{}])[0]\n",
    "    general_info = { \"chủ đề\": objective.get('topic', 'N/A'), \"môn học\": state.get('domain', 'N/A'), \"lớp\": objective.get('grade_level', 'N/A'), \"thời lượng\": f\"{allowed_duration} phút\", \"phương pháp chủ đạo\": strategy.get('name', 'Chưa xác định'), \"đặc điểm lớp học\": persona.get('special_notes', 'Tiêu chuẩn'), }\n",
    "    learning_objectives = [ f\"Học sinh có thể {objective.get('action_verb', 'vận dụng')} kiến thức về {objective.get('topic', 'N/A')}.\", \"Rèn luyện kỹ năng tư duy logic.\", \"Phát triển kỹ năng hợp tác.\" ]\n",
    "    preparation = { \"giáo viên\": [\"Bảng phụ\", \"máy chiếu\", \"phiếu học tập\"], \"học sinh\": [\"Sách giáo khoa\", \"vở ghi\", \"dụng cụ học tập\"] }\n",
    "    final_plan_obj: FinalStructuredPlan = { \"general_info\": general_info, \"learning_objectives\": learning_objectives, \"preparation\": preparation, \"knowledge_summary\": resources.get('summary', 'Chưa có tóm tắt.'), \"lesson_flow\": all_content_sorted, }\n",
    "    return {\"final_structured_plan\": final_plan_obj, \"reflection_notes\": None}\n",
    "\n",
    "def markdown_presentation_node(state: \"TeacherStateV5\") -> Dict[str, str]:\n",
    "    print_step(\"`Node: Markdown Presenter` (v12.0) đang tạo bản trình bày...\")\n",
    "    plan_json = state.get(\"final_structured_plan\")\n",
    "    if not isinstance(plan_json, dict): return {\"final_markdown_plan\": \"Lỗi: Không tìm thấy giáo án.\"}\n",
    "    md_parts = []\n",
    "    info = plan_json.get('general_info', {})\n",
    "    md_parts.append(f\"# GIÁO ÁN BÀI DẠY: {info.get('chủ đề', 'N/A').upper()}\")\n",
    "    md_parts.append(\"---\")\n",
    "    md_parts.append(\"## I. THÔNG TIN CHUNG\")\n",
    "    for key, value in info.items(): md_parts.append(f\"- **{key.replace('_', ' ').title()}:** {value}\")\n",
    "    md_parts.append(\"## II. MỤC TIÊU BÀI HỌC\")\n",
    "    for obj in plan_json.get('learning_objectives', []): md_parts.append(f\"- {obj}\")\n",
    "    md_parts.append(\"## III. CHUẨN BỊ\")\n",
    "    for key, items in plan_json.get('preparation', {}).items(): md_parts.append(f\"- **{key.title()}:** {', '.join(items)}\")\n",
    "    md_parts.append(\"## IV. TIẾN TRÌNH BÀI DẠY\")\n",
    "    for i, activity in enumerate(plan_json.get('lesson_flow', [])):\n",
    "        md_parts.append(f\"### Hoạt động {i+1}: {activity.get('activity_name')} ({activity.get('duration_minutes')} phút)\")\n",
    "        md_parts.append(f\"**Nhiệm vụ:**\\n{activity.get('question_or_description', 'Không có mô tả.')}\")\n",
    "        if activity.get('differentiation'):\n",
    "            diff = activity['differentiation']\n",
    "            md_parts.append(f\"> **Gợi ý Phân hóa:**\")\n",
    "            md_parts.append(f\"> - *Hỗ trợ (HS yếu):* {diff.get('for_struggling_students', 'Không có')}\")\n",
    "            md_parts.append(f\"> - *Thử thách (HS giỏi):* {diff.get('for_advanced_students', 'Không có')}\")\n",
    "        md_parts.append(\"\\n---\")\n",
    "    md_parts.append(\"## V. TÓM TẮT KIẾN THỨC CỐT LÕI\")\n",
    "    md_parts.append(plan_json.get('knowledge_summary', 'Chưa có tóm tắt.'))\n",
    "    final_md = \"\\n\".join(md_parts)\n",
    "    return {\"final_markdown_plan\": final_md}\n",
    "\n",
    "print(\"✅ Agent Cố vấn và Tổng hợp (v12.0) đã sẵn sàng.\")"
   ]
  },
  {
   "cell_type": "markdown",
   "id": "d9377da3",
   "metadata": {},
   "source": [
    "## PHẦN 4: XÂY DỰNG VÀ BIÊN DỊCH GRAPH"
   ]
  },
  {
   "cell_type": "code",
   "execution_count": 14,
   "id": "3f7820ed",
   "metadata": {},
   "outputs": [
    {
     "name": "stdout",
     "output_type": "stream",
     "text": [
      "✅ Các node tiện ích và điều phối (v12.0 - Hoàn thiện) đã sẵn sàng.\n"
     ]
    }
   ],
   "source": [
    "# ==============================================================================\n",
    "# CELL 4.1: CÁC NODE TIỆN ÍCH & ĐIỀU PHỐI (v12.0 - HOÀN THIỆN)\n",
    "# ==============================================================================\n",
    "from typing import Literal, Dict, Any\n",
    "import time\n",
    "\n",
    "def delay_node(state: \"TeacherStateV5\"): time.sleep(1); return state\n",
    "\n",
    "def mark_task_complete(state: \"TeacherStateV5\") -> Dict[str, Any]:\n",
    "    task_list = state.get(\"task_list\", [])\n",
    "    current_task_id = state.get(\"current_task_id\")\n",
    "    if not task_list or current_task_id is None: return {}\n",
    "    new_task_list = [t.copy() for t in task_list]\n",
    "    for task in new_task_list:\n",
    "        if task.get(\"task_id\") == current_task_id:\n",
    "            task[\"status\"] = \"completed\"\n",
    "            break\n",
    "    return {\"task_list\": new_task_list, \"current_task_id\": None}\n",
    "    \n",
    "def task_router_node(state: \"TeacherStateV5\"):\n",
    "    print_step(\"`Router`: Đang kiểm tra nhiệm vụ...\")\n",
    "    task_list = state.get(\"task_list\", [])\n",
    "    next_task = next((task for task in task_list if task.get(\"status\") == \"pending\"), None)\n",
    "    if next_task:\n",
    "        print_step(f\"Nhiệm vụ tiếp theo: '{next_task['task_name']}' (ID: {next_task['task_id']})\")\n",
    "        # <<< SỬA ĐỔI DÒNG DƯỚI ĐÂY >>>\n",
    "        # Reset bộ đếm khi bắt đầu một task mới\n",
    "        return {\"current_task_id\": next_task['task_id'], \"current_task_retry_count\": 0}\n",
    "    else:\n",
    "        print_step(\"Hết nhiệm vụ, chuyển sang node Compiler.\")\n",
    "        return {\"current_task_id\": None}\n",
    "\n",
    "async def task_dispatcher_agent(state: \"TeacherStateV5\"):\n",
    "    print_step(\"`Agent: Task Dispatcher` đang giao việc...\")\n",
    "    task_to_run = next((t for t in state['task_list'] if t['task_id'] == state['current_task_id']), None)\n",
    "    if not task_to_run: return {\"next_agent\": \"structured_plan_compiler\"}\n",
    "    task_description = task_to_run['task_description']\n",
    "    prompt = f\"{SYSTEM_PERSONA_PROMPT}\\n**Nhiệm vụ:** Phân loại nhiệm vụ sau vào MỘT trong ba agent: 'activity_designer', 'theory_synthesizer', 'assessment_creator'.\"\n",
    "    structured_llm = llm.with_structured_output(TaskClassification)\n",
    "    try:\n",
    "        classification_result = await structured_llm.ainvoke(prompt)\n",
    "        next_agent = classification_result.agent_category\n",
    "    except Exception:\n",
    "        next_agent = \"activity_designer\"\n",
    "    print_step(f\"--- 🚚 `Dispatcher`: Giao nhiệm vụ cho `{next_agent}`.\")\n",
    "    return {\"next_agent\": next_agent}\n",
    "\n",
    "def commit_validated_content_node(state: \"TeacherStateV5\") -> Dict[str, Any]:\n",
    "    print_step(\"`Commiter`: Đang ghi nhận nội dung đã được xác thực...\")\n",
    "    agent_ran = state[\"next_agent\"]\n",
    "    content = state[\"current_content_to_validate\"]\n",
    "    content['task_id'] = state['current_task_id']\n",
    "    key_to_update = \"assessments\" if agent_ran == \"assessment_creator\" else \"activities\"\n",
    "    updated_outputs = update_agent_outputs(state, key_to_update, content)\n",
    "    updated_outputs[\"current_content_to_validate\"] = None\n",
    "    updated_outputs[\"validation_feedback\"] = None\n",
    "    return updated_outputs\n",
    "\n",
    "def save_to_memory_node(state: \"TeacherStateV5\"):\n",
    "    if state.get(\"final_structured_plan\"):\n",
    "        save_to_memory(state[\"original_request\"], state[\"final_structured_plan\"])\n",
    "    return {} \n",
    "\n",
    "print(\"✅ Các node tiện ích và điều phối (v12.0 - Hoàn thiện) đã sẵn sàng.\")"
   ]
  },
  {
   "cell_type": "code",
   "execution_count": 15,
   "id": "6b7306e7",
   "metadata": {},
   "outputs": [
    {
     "name": "stdout",
     "output_type": "stream",
     "text": [
      "✅ Các hàm logic điều hướng (v12.1 - Ngắt mạch) đã được định nghĩa.\n"
     ]
    }
   ],
   "source": [
    "# ==============================================================================\n",
    "# CELL 4.2: LOGIC ĐIỀU HƯỚNG CÓ ĐIỀU KIỆN (v12.1 - NÂNG CẤP NGẮT MẠCH)\n",
    "# ==============================================================================\n",
    "\n",
    "def route_after_guardian_critique(state: \"TeacherStateV5\") -> Literal[\"commit\", \"retry_content_creation\", \"replan\"]:\n",
    "    \"\"\"\n",
    "    Điều hướng sau khi thẩm định với cơ chế NGẮT MẠCH.\n",
    "    - commit: Nội dung hợp lệ.\n",
    "    - retry_content_creation: Thất bại, nhưng vẫn còn lượt thử lại.\n",
    "    - replan: Thất bại quá nhiều lần, cần lập kế hoạch lại từ đầu.\n",
    "    \"\"\"\n",
    "    if state.get(\"validation_feedback\") is None:\n",
    "        print_step(\"ROUTER (Validation): Nội dung được chấp thuận. Chuyển sang ghi nhận.\")\n",
    "        return \"commit\"\n",
    "    \n",
    "    # Lấy và tăng bộ đếm thử lại\n",
    "    # Gán giá trị mặc định cho `current_task_retry_count` nếu nó chưa tồn tại trong state\n",
    "    retry_count = state.get(\"current_task_retry_count\", 0) + 1\n",
    "    \n",
    "    # Cho phép thử lại tối đa 2 lần (tổng cộng 3 lần chạy)\n",
    "    if retry_count < 3:\n",
    "        print_warning(f\"ROUTER (Validation): Nội dung bị từ chối. Thử lại lần {retry_count}/2.\")\n",
    "        # Cập nhật lại state với số lần thử lại mới\n",
    "        state['current_task_retry_count'] = retry_count\n",
    "        return \"retry_content_creation\"\n",
    "    else:\n",
    "        # Nếu đã thử lại quá nhiều lần -> KÍCH HOẠT NGẮT MẠCH\n",
    "        task_id = state.get('current_task_id', 'Không xác định')\n",
    "        print_warning(f\"ROUTER (Validation): THẤT BẠI VĨNH VIỄN nhiệm vụ ID '{task_id}'. Yêu cầu LẬP KẾ HOẠCH LẠI TOÀN BỘ.\")\n",
    "        \n",
    "        # Gửi tín hiệu và lý do để Plan Delegator lập kế hoạch lại một cách thông minh hơn\n",
    "        reflection = (f\"Kế hoạch trước đó đã thất bại. Nhiệm vụ ID {task_id} không thể hoàn thành sau 3 lần thử. \"\n",
    "                      f\"Lý do thất bại cuối cùng là: '{state.get('validation_feedback', 'Không rõ')}'.\"\n",
    "                      f\"Hãy tạo ra một kế hoạch mới với các nhiệm vụ có thời lượng thực tế hơn hoặc các bước nhỏ hơn.\")\n",
    "        state['reflection_notes'] = reflection\n",
    "        return \"replan\"\n",
    "\n",
    "def route_after_router(state: \"TeacherStateV5\") -> Literal[\"continue_executing\", \"compile_and_critique\"]:\n",
    "    if state.get(\"current_task_id\") is None: \n",
    "        return \"compile_and_critique\"\n",
    "    else: \n",
    "        return \"continue_executing\"\n",
    "\n",
    "def route_after_compilation(state: \"TeacherStateV5\") -> Literal[\"finish\", \"replan\"]:\n",
    "    if state.get(\"reflection_notes\"):\n",
    "        print_step(\"ROUTER (Compilation): Phát hiện phản hồi từ Critic lớn. Yêu cầu hệ thống lập kế hoạch lại.\")\n",
    "        return \"replan\"\n",
    "    else:\n",
    "        print_step(\"ROUTER (Compilation): Critic lớn đã hài lòng. Kết thúc quy trình.\")\n",
    "        return \"finish\"\n",
    "\n",
    "print(\"✅ Các hàm logic điều hướng (v12.1 - Ngắt mạch) đã được định nghĩa.\")"
   ]
  },
  {
   "cell_type": "code",
   "execution_count": 16,
   "id": "30df6071",
   "metadata": {},
   "outputs": [
    {
     "name": "stdout",
     "output_type": "stream",
     "text": [
      "✅ Graph đã được biên dịch thành công với logic 'Ngắt mạch & Tự sửa lỗi' (v12.1).\n"
     ]
    }
   ],
   "source": [
    "# ==============================================================================\n",
    "# CELL 4.3: LẮP RÁP VÀ BIÊN DỊCH GRAPH (v12.1 - NÂNG CẤP NGẮT MẠCH)\n",
    "# ==============================================================================\n",
    "workflow = StateGraph(TeacherStateV5)\n",
    "\n",
    "# 1. Thêm tất cả các node cần thiết vào graph\n",
    "# Luồng Phân tích & Lập kế hoạch\n",
    "workflow.add_node(\"initializer\", initialize_state_node)\n",
    "workflow.add_node(\"memory_retrieval\", memory_retrieval_agent)\n",
    "workflow.add_node(\"objective_interpreter\", objective_interpreter_agent)\n",
    "workflow.add_node(\"domain_classifier\", domain_classifier_agent)\n",
    "workflow.add_node(\"differentiated_instruction_advisor\", differentiated_instruction_advisor_agent) \n",
    "workflow.add_node(\"pedagogy_strategist\", pedagogy_strategist_agent)\n",
    "workflow.add_node(\"pedagogical_architect\", pedagogical_architect_agent)\n",
    "workflow.add_node(\"query_expansion\", query_expansion_agent)\n",
    "workflow.add_node(\"resource_scout\", resource_scout_agent_v2)\n",
    "workflow.add_node(\"plan_delegator\", plan_delegator_agent) # Node quan trọng để quay lại khi cần lập kế hoạch lại\n",
    "\n",
    "# Luồng Thực thi & Phản biện\n",
    "workflow.add_node(\"task_router\", task_router_node)\n",
    "workflow.add_node(\"task_dispatcher\", task_dispatcher_agent)\n",
    "workflow.add_node(\"theory_synthesizer\", theory_synthesizer_agent)\n",
    "workflow.add_node(\"activity_designer\", activity_designer_agent)\n",
    "workflow.add_node(\"assessment_creator\", assessment_creator_agent)\n",
    "workflow.add_node(\"content_validator\", content_validator_agent) # Node thẩm định quan trọng\n",
    "workflow.add_node(\"commit_validated_content\", commit_validated_content_node)\n",
    "workflow.add_node(\"mark_task_complete\", mark_task_complete)\n",
    "\n",
    "# Luồng Tổng hợp & Kết thúc\n",
    "workflow.add_node(\"structured_plan_compiler\", structured_plan_compiler_agent) \n",
    "workflow.add_node(\"markdown_presenter\", markdown_presentation_node)\n",
    "workflow.add_node(\"save_to_memory\", save_to_memory_node)\n",
    "workflow.add_node(\"delay_node\", delay_node) # Node chờ nhỏ để log dễ đọc hơn\n",
    "\n",
    "# 2. Thiết lập các kết nối (edges) tuần tự và có điều kiện\n",
    "\n",
    "# --- Luồng Phân tích & Lập kế hoạch ban đầu ---\n",
    "workflow.set_entry_point(\"initializer\")\n",
    "workflow.add_edge(\"initializer\", \"memory_retrieval\")\n",
    "workflow.add_edge(\"memory_retrieval\", \"objective_interpreter\")\n",
    "workflow.add_edge(\"objective_interpreter\", \"domain_classifier\")\n",
    "workflow.add_edge(\"domain_classifier\", \"differentiated_instruction_advisor\")\n",
    "workflow.add_edge(\"differentiated_instruction_advisor\", \"pedagogy_strategist\")\n",
    "workflow.add_edge(\"pedagogy_strategist\", \"pedagogical_architect\")\n",
    "workflow.add_edge(\"pedagogical_architect\", \"query_expansion\")\n",
    "workflow.add_edge(\"query_expansion\", \"resource_scout\")\n",
    "workflow.add_edge(\"resource_scout\", \"plan_delegator\")\n",
    "\n",
    "# Từ đây, bắt đầu vòng lặp thực thi các nhiệm vụ\n",
    "workflow.add_edge(\"plan_delegator\", \"task_router\")\n",
    "\n",
    "# --- Vòng lặp Thực thi Nhiệm vụ ---\n",
    "# Task Router sẽ quyết định tiếp tục thực thi hay chuyển sang tổng hợp\n",
    "workflow.add_conditional_edges(\n",
    "    \"task_router\", \n",
    "    route_after_router, \n",
    "    { \n",
    "        \"continue_executing\": \"task_dispatcher\", \n",
    "        \"compile_and_critique\": \"structured_plan_compiler\" \n",
    "    }\n",
    ")\n",
    "\n",
    "# Task Dispatcher sẽ giao việc cho Agent chuyên môn phù hợp\n",
    "workflow.add_conditional_edges(\n",
    "    \"task_dispatcher\", \n",
    "    lambda state: state[\"next_agent\"], \n",
    "    {\n",
    "        \"activity_designer\": \"activity_designer\", \n",
    "        \"assessment_creator\": \"assessment_creator\", \n",
    "        \"theory_synthesizer\": \"theory_synthesizer\"\n",
    "    }\n",
    ")\n",
    "\n",
    "# Tất cả các Agent chuyên môn đều gửi sản phẩm của mình cho Guardian Critic để thẩm định\n",
    "workflow.add_edge(\"theory_synthesizer\", \"content_validator\")\n",
    "workflow.add_edge(\"activity_designer\", \"content_validator\")\n",
    "workflow.add_edge(\"assessment_creator\", \"content_validator\")\n",
    "\n",
    "# <<< THAY ĐỔI QUAN TRỌNG: Logic điều hướng mới với cơ chế Ngắt mạch >>>\n",
    "# Sử dụng hàm route_after_guardian_critique đã định nghĩa ở CELL 4.2\n",
    "# Hàm này có 3 ngã rẽ:\n",
    "# 1. \"commit\": Nếu nội dung tốt -> Đi tiếp.\n",
    "# 2. \"retry_content_creation\": Nếu nội dung chưa tốt nhưng còn lượt thử -> Quay lại Dispatcher để thử lại.\n",
    "# 3. \"replan\": Nếu đã thử lại quá nhiều lần -> Kích hoạt Ngắt mạch, quay về Plan Delegator để lập kế hoạch mới.\n",
    "workflow.add_conditional_edges(\n",
    "    \"content_validator\",\n",
    "    route_after_guardian_critique,\n",
    "    {\n",
    "        \"commit\": \"commit_validated_content\",\n",
    "        \"retry_content_creation\": \"task_dispatcher\",\n",
    "        \"replan\": \"plan_delegator\" \n",
    "    }\n",
    ")\n",
    "# <<< KẾT THÚC PHẦN THAY ĐỔI >>>\n",
    "\n",
    "\n",
    "# Nếu nội dung được chấp thuận, ghi nhận và đánh dấu nhiệm vụ hoàn thành, sau đó quay lại Router\n",
    "workflow.add_edge(\"commit_validated_content\", \"mark_task_complete\")\n",
    "workflow.add_edge(\"mark_task_complete\", \"delay_node\")\n",
    "workflow.add_edge(\"delay_node\", \"task_router\")\n",
    "\n",
    "# --- Luồng Kết thúc ---\n",
    "# Sau khi tất cả nhiệm vụ hoàn thành, Compiler sẽ tổng hợp và Critic lớn sẽ đánh giá\n",
    "workflow.add_conditional_edges(\n",
    "    \"structured_plan_compiler\", \n",
    "    route_after_compilation,\n",
    "    { \n",
    "        \"replan\": \"plan_delegator\", # Nếu Critic lớn không hài lòng, quay lại lập kế hoạch\n",
    "        \"finish\": \"markdown_presenter\" # Nếu Critic lớn hài lòng, kết thúc\n",
    "    }\n",
    ")\n",
    "workflow.add_edge(\"markdown_presenter\", \"save_to_memory\")\n",
    "workflow.add_edge(\"save_to_memory\", END)\n",
    "\n",
    "# Biên dịch graph hoàn chỉnh\n",
    "app = workflow.compile()\n",
    "print(\"✅ Graph đã được biên dịch thành công với logic 'Ngắt mạch & Tự sửa lỗi' (v12.1).\")"
   ]
  },
  {
   "cell_type": "code",
   "execution_count": 17,
   "id": "ac549fea",
   "metadata": {},
   "outputs": [
    {
     "data": {
      "image/png": "[encoded data removed]",
      "text/plain": [
       "<IPython.core.display.Image object>"
      ]
     },
     "metadata": {},
     "output_type": "display_data"
    }
   ],
   "source": [
    "# ==============================================================================\n",
    "# CELL 4.4: HIỂN THỊ SƠ ĐỒ GRAPH (TÙY CHỌN)\n",
    "# ==============================================================================\n",
    "try:\n",
    "    # Lệnh này sẽ vẽ một sơ đồ của workflow, rất hữu ích để gỡ lỗi\n",
    "    display(Image(app.get_graph().draw_mermaid_png()))\n",
    "except Exception as e:\n",
    "    print(f\"Lỗi vẽ biểu đồ: {e}. Đây là lỗi không nghiêm trọng, bạn vẫn có thể chạy quy trình.\")"
   ]
  },
  {
   "cell_type": "markdown",
   "id": "a5e56adc",
   "metadata": {},
   "source": [
    "## PHẦN 5"
   ]
  },
  {
   "cell_type": "code",
   "execution_count": 18,
   "id": "f27d8fdf",
   "metadata": {},
   "outputs": [
    {
     "name": "stdout",
     "output_type": "stream",
     "text": [
      "✅ Hàm `run_architect` (v12.0) đã sẵn sàng để sử dụng.\n"
     ]
    }
   ],
   "source": [
    "# ==============================================================================\n",
    "# CELL 5.1: ĐỊNH NGHĨA HÀM CHẠY QUY TRÌNH (v12.0 - HOÀN THIỆN)\n",
    "# ==============================================================================\n",
    "async def run_architect(user_request: str):\n",
    "    if 'llm' not in globals() or llm is None:\n",
    "        print_warning(\"LLM chưa được khởi tạo.\")\n",
    "        return\n",
    "    if 'vector_store' not in globals() or vector_store is None:\n",
    "        print_warning(\"Kho tri thức chưa được tải.\")\n",
    "        return\n",
    "    if 'app' not in globals():\n",
    "        print_warning(\"Graph 'app' chưa được biên dịch.\")\n",
    "        return\n",
    "\n",
    "    initial_state = {\"messages\": [HumanMessage(content=user_request)]}\n",
    "    console.print(f\"\\n[bold magenta]🚀 BẮT ĐẦU QUY TRÌNH V12.0 (HOÀN THIỆN) VỚI YÊU CẦU:[/bold magenta]\\n> {user_request}\")\n",
    "    config = {\"recursion_limit\": 150} \n",
    "    \n",
    "    final_markdown_plan = None\n",
    "    final_structured_plan = None\n",
    "    \n",
    "    try:\n",
    "        async for event in app.astream(initial_state, config=config):\n",
    "            for node_name, node_output in event.items():\n",
    "                console.print(f\"\\n[bold yellow]------- Hoàn thành bước: {node_name} -------[/bold yellow]\")\n",
    "                if node_name == \"markdown_presenter\":\n",
    "                    final_markdown_plan = node_output.get(\"final_markdown_plan\")\n",
    "                    final_structured_plan = node_output.get(\"final_structured_plan\")\n",
    "\n",
    "        console.print(\"\\n[bold magenta]🏁 KẾT THÚC QUY TRÌNH.[/bold magenta]\")\n",
    "        \n",
    "        if final_markdown_plan:\n",
    "            console.print(\"\\n[bold green]📝 GIÁO ÁN HOÀN CHỈNH (v12.0)[/bold green]\")\n",
    "            console.print(Markdown(final_markdown_plan))\n",
    "            \n",
    "            if VERBOSE_MODE and final_structured_plan:\n",
    "                print_result(final_structured_plan, \"Output JSON có cấu trúc\")\n",
    "        else:\n",
    "            print_warning(\"Không tạo được giáo án cuối cùng. Vui lòng kiểm tra log để gỡ lỗi.\")\n",
    "            \n",
    "    except Exception as e:\n",
    "        print_warning(f\"Đã xảy ra lỗi nghiêm trọng trong quá trình chạy graph: {e}\")\n",
    "        import traceback\n",
    "        traceback.print_exc()\n",
    "\n",
    "print(\"✅ Hàm `run_architect` (v12.0) đã sẵn sàng để sử dụng.\")"
   ]
  },
  {
   "cell_type": "code",
   "execution_count": null,
   "id": "43c8121e",
   "metadata": {},
   "outputs": [
    {
     "data": {
      "text/html": [
       "<pre style=\"white-space:pre;overflow-x:auto;line-height:normal;font-family:Menlo,'DejaVu Sans Mono',consolas,'Courier New',monospace\">\n",
       "<span style=\"color: #800080; text-decoration-color: #800080; font-weight: bold\">🚀 BẮT ĐẦU QUY TRÌNH V12.</span><span style=\"color: #800080; text-decoration-color: #800080; font-weight: bold\">0</span><span style=\"color: #800080; text-decoration-color: #800080; font-weight: bold\"> (HOÀN THIỆN) VỚI YÊU CẦU:</span>\n",
       "&gt; Soạn giúp tôi giáo án bài <span style=\"color: #008000; text-decoration-color: #008000\">'Đường tròn ngoại tiếp và đường tròn nội tiếp'</span> cho học sinh lớp <span style=\"color: #008080; text-decoration-color: #008080; font-weight: bold\">9</span> trong <span style=\"color: #008080; text-decoration-color: #008080; font-weight: bold\">90</span> phút. Đây là\n",
       "một lớp học khá yếu, các em thường mất tập trung và cần các hoạt động có tính tương tác cao.\n",
       "</pre>\n"
      ],
      "text/plain": [
       "\n",
       "\u001b[1;35m🚀 BẮT ĐẦU QUY TRÌNH V12.\u001b[0m\u001b[1;35m0\u001b[0m\u001b[1;35m \u001b[0m\u001b[1;35m(\u001b[0m\u001b[1;35mHOÀN THIỆN\u001b[0m\u001b[1;35m)\u001b[0m\u001b[1;35m VỚI YÊU CẦU:\u001b[0m\n",
       "> Soạn giúp tôi giáo án bài \u001b[32m'Đường tròn ngoại tiếp và đường tròn nội tiếp'\u001b[0m cho học sinh lớp \u001b[1;36m9\u001b[0m trong \u001b[1;36m90\u001b[0m phút. Đây là\n",
       "một lớp học khá yếu, các em thường mất tập trung và cần các hoạt động có tính tương tác cao.\n"
      ]
     },
     "metadata": {},
     "output_type": "display_data"
    },
    {
     "data": {
      "text/html": [
       "<pre style=\"white-space:pre;overflow-x:auto;line-height:normal;font-family:Menlo,'DejaVu Sans Mono',consolas,'Courier New',monospace\">\n",
       "<span style=\"color: #008080; text-decoration-color: #008080; font-weight: bold\">&gt;</span> `Initializer`: Đang khởi tạo trạng thái và lấy yêu cầu gốc<span style=\"color: #808000; text-decoration-color: #808000\">...</span>\n",
       "</pre>\n"
      ],
      "text/plain": [
       "\n",
       "\u001b[1;36m>\u001b[0m `Initializer`: Đang khởi tạo trạng thái và lấy yêu cầu gốc\u001b[33m...\u001b[0m\n"
      ]
     },
     "metadata": {},
     "output_type": "display_data"
    },
    {
     "data": {
      "text/html": [
       "<pre style=\"white-space:pre;overflow-x:auto;line-height:normal;font-family:Menlo,'DejaVu Sans Mono',consolas,'Courier New',monospace\">\n",
       "<span style=\"color: #808000; text-decoration-color: #808000; font-weight: bold\">------- Hoàn thành bước: initializer -------</span>\n",
       "</pre>\n"
      ],
      "text/plain": [
       "\n",
       "\u001b[1;33m------- Hoàn thành bước: initializer -------\u001b[0m\n"
      ]
     },
     "metadata": {},
     "output_type": "display_data"
    },
    {
     "data": {
      "text/html": [
       "<pre style=\"white-space:pre;overflow-x:auto;line-height:normal;font-family:Menlo,'DejaVu Sans Mono',consolas,'Courier New',monospace\">\n",
       "<span style=\"color: #008080; text-decoration-color: #008080; font-weight: bold\">&gt;</span> `Agent: Memory Retrieval` <span style=\"font-weight: bold\">(</span>v9.<span style=\"color: #008080; text-decoration-color: #008080; font-weight: bold\">4</span><span style=\"font-weight: bold\">)</span> đang tìm kiếm trong trí nhớ<span style=\"color: #808000; text-decoration-color: #808000\">...</span>\n",
       "</pre>\n"
      ],
      "text/plain": [
       "\n",
       "\u001b[1;36m>\u001b[0m `Agent: Memory Retrieval` \u001b[1m(\u001b[0mv9.\u001b[1;36m4\u001b[0m\u001b[1m)\u001b[0m đang tìm kiếm trong trí nhớ\u001b[33m...\u001b[0m\n"
      ]
     },
     "metadata": {},
     "output_type": "display_data"
    },
    {
     "data": {
      "text/html": [
       "<pre style=\"white-space:pre;overflow-x:auto;line-height:normal;font-family:Menlo,'DejaVu Sans Mono',consolas,'Courier New',monospace\"><span style=\"color: #008000; text-decoration-color: #008000; font-weight: bold\">✔️ Tìm thấy ví dụ tương đồng trong trí nhớ:</span>\n",
       "</pre>\n"
      ],
      "text/plain": [
       "\u001b[1;32m✔️ Tìm thấy ví dụ tương đồng trong trí nhớ:\u001b[0m\n"
      ]
     },
     "metadata": {},
     "output_type": "display_data"
    },
    {
     "data": {
      "text/html": [
       "<pre style=\"white-space:pre;overflow-x:auto;line-height:normal;font-family:Menlo,'DejaVu Sans Mono',consolas,'Courier New',monospace\"><span style=\"color: #008000; text-decoration-color: #008000\">\"Soạn giúp tôi giáo án bài 'Đường tròn ngoại tiếp và đường tròn nội tiếp' cho học sinh lớp 9 trong 90 phút. Đây là một lớp học khá yếu, các em thường mất tập trung và cần các hoạt động có tính tương tác cao.\"</span>\n",
       "</pre>\n"
      ],
      "text/plain": [
       "\u001b[32m\"Soạn giúp tôi giáo án bài 'Đường tròn ngoại tiếp và đường tròn nội tiếp' cho học sinh lớp 9 trong 90 phút. Đây là một lớp học khá yếu, các em thường mất tập trung và cần các hoạt động có tính tương tác cao.\"\u001b[0m\n"
      ]
     },
     "metadata": {},
     "output_type": "display_data"
    },
    {
     "data": {
      "text/html": [
       "<pre style=\"white-space:pre;overflow-x:auto;line-height:normal;font-family:Menlo,'DejaVu Sans Mono',consolas,'Courier New',monospace\">\n",
       "<span style=\"color: #808000; text-decoration-color: #808000; font-weight: bold\">------- Hoàn thành bước: memory_retrieval -------</span>\n",
       "</pre>\n"
      ],
      "text/plain": [
       "\n",
       "\u001b[1;33m------- Hoàn thành bước: memory_retrieval -------\u001b[0m\n"
      ]
     },
     "metadata": {},
     "output_type": "display_data"
    },
    {
     "data": {
      "text/html": [
       "<pre style=\"white-space:pre;overflow-x:auto;line-height:normal;font-family:Menlo,'DejaVu Sans Mono',consolas,'Courier New',monospace\">\n",
       "<span style=\"color: #008080; text-decoration-color: #008080; font-weight: bold\">&gt;</span> `Agent: Objective Interpreter` <span style=\"font-weight: bold\">(</span>v7.<span style=\"color: #008080; text-decoration-color: #008080; font-weight: bold\">5</span><span style=\"font-weight: bold\">)</span> đang phân tích mục tiêu<span style=\"color: #808000; text-decoration-color: #808000\">...</span>\n",
       "</pre>\n"
      ],
      "text/plain": [
       "\n",
       "\u001b[1;36m>\u001b[0m `Agent: Objective Interpreter` \u001b[1m(\u001b[0mv7.\u001b[1;36m5\u001b[0m\u001b[1m)\u001b[0m đang phân tích mục tiêu\u001b[33m...\u001b[0m\n"
      ]
     },
     "metadata": {},
     "output_type": "display_data"
    },
    {
     "data": {
      "text/html": [
       "<pre style=\"white-space:pre;overflow-x:auto;line-height:normal;font-family:Menlo,'DejaVu Sans Mono',consolas,'Courier New',monospace\"><span style=\"color: #008000; text-decoration-color: #008000; font-weight: bold\">✔️ Mục tiêu &amp; Ràng buộc đã phân tích:</span>\n",
       "</pre>\n"
      ],
      "text/plain": [
       "\u001b[1;32m✔️ Mục tiêu & Ràng buộc đã phân tích:\u001b[0m\n"
      ]
     },
     "metadata": {},
     "output_type": "display_data"
    },
    {
     "data": {
      "text/html": [
       "<pre style=\"white-space:pre;overflow-x:auto;line-height:normal;font-family:Menlo,'DejaVu Sans Mono',consolas,'Courier New',monospace\"><span style=\"font-weight: bold\">{</span>\n",
       "<span style=\"color: #7fbf7f; text-decoration-color: #7fbf7f\">│   </span><span style=\"color: #008000; text-decoration-color: #008000\">'action_verb'</span>: <span style=\"color: #008000; text-decoration-color: #008000\">'Soạn'</span>,\n",
       "<span style=\"color: #7fbf7f; text-decoration-color: #7fbf7f\">│   </span><span style=\"color: #008000; text-decoration-color: #008000\">'bloom_level'</span>: <span style=\"color: #008080; text-decoration-color: #008080; font-weight: bold\">2</span>,\n",
       "<span style=\"color: #7fbf7f; text-decoration-color: #7fbf7f\">│   </span><span style=\"color: #008000; text-decoration-color: #008000\">'topic'</span>: <span style=\"color: #008000; text-decoration-color: #008000\">'Đường tròn ngoại tiếp và đường tròn nội tiếp'</span>,\n",
       "<span style=\"color: #7fbf7f; text-decoration-color: #7fbf7f\">│   </span><span style=\"color: #008000; text-decoration-color: #008000\">'grade_level'</span>: <span style=\"color: #008000; text-decoration-color: #008000\">'Lớp 9'</span>,\n",
       "<span style=\"color: #7fbf7f; text-decoration-color: #7fbf7f\">│   </span><span style=\"color: #008000; text-decoration-color: #008000\">'constraints'</span>: <span style=\"font-weight: bold\">{</span>\n",
       "<span style=\"color: #7fbf7f; text-decoration-color: #7fbf7f\">│   │   </span><span style=\"color: #008000; text-decoration-color: #008000\">'duration_minutes'</span>: <span style=\"color: #008080; text-decoration-color: #008080; font-weight: bold\">90</span>\n",
       "<span style=\"color: #7fbf7f; text-decoration-color: #7fbf7f\">│   </span><span style=\"font-weight: bold\">}</span>\n",
       "<span style=\"font-weight: bold\">}</span>\n",
       "</pre>\n"
      ],
      "text/plain": [
       "\u001b[1m{\u001b[0m\n",
       "\u001b[2;32m│   \u001b[0m\u001b[32m'action_verb'\u001b[0m: \u001b[32m'Soạn'\u001b[0m,\n",
       "\u001b[2;32m│   \u001b[0m\u001b[32m'bloom_level'\u001b[0m: \u001b[1;36m2\u001b[0m,\n",
       "\u001b[2;32m│   \u001b[0m\u001b[32m'topic'\u001b[0m: \u001b[32m'Đường tròn ngoại tiếp và đường tròn nội tiếp'\u001b[0m,\n",
       "\u001b[2;32m│   \u001b[0m\u001b[32m'grade_level'\u001b[0m: \u001b[32m'Lớp 9'\u001b[0m,\n",
       "\u001b[2;32m│   \u001b[0m\u001b[32m'constraints'\u001b[0m: \u001b[1m{\u001b[0m\n",
       "\u001b[2;32m│   │   \u001b[0m\u001b[32m'duration_minutes'\u001b[0m: \u001b[1;36m90\u001b[0m\n",
       "\u001b[2;32m│   \u001b[0m\u001b[1m}\u001b[0m\n",
       "\u001b[1m}\u001b[0m\n"
      ]
     },
     "metadata": {},
     "output_type": "display_data"
    },
    {
     "data": {
      "text/html": [
       "<pre style=\"white-space:pre;overflow-x:auto;line-height:normal;font-family:Menlo,'DejaVu Sans Mono',consolas,'Courier New',monospace\">\n",
       "<span style=\"color: #808000; text-decoration-color: #808000; font-weight: bold\">------- Hoàn thành bước: objective_interpreter -------</span>\n",
       "</pre>\n"
      ],
      "text/plain": [
       "\n",
       "\u001b[1;33m------- Hoàn thành bước: objective_interpreter -------\u001b[0m\n"
      ]
     },
     "metadata": {},
     "output_type": "display_data"
    },
    {
     "data": {
      "text/html": [
       "<pre style=\"white-space:pre;overflow-x:auto;line-height:normal;font-family:Menlo,'DejaVu Sans Mono',consolas,'Courier New',monospace\">\n",
       "<span style=\"color: #008080; text-decoration-color: #008080; font-weight: bold\">&gt;</span> `Agent: Domain Classifier` <span style=\"font-weight: bold\">(</span>v7.<span style=\"color: #008080; text-decoration-color: #008080; font-weight: bold\">5</span><span style=\"font-weight: bold\">)</span> đang xác định lĩnh vực chuyên môn<span style=\"color: #808000; text-decoration-color: #808000\">...</span>\n",
       "</pre>\n"
      ],
      "text/plain": [
       "\n",
       "\u001b[1;36m>\u001b[0m `Agent: Domain Classifier` \u001b[1m(\u001b[0mv7.\u001b[1;36m5\u001b[0m\u001b[1m)\u001b[0m đang xác định lĩnh vực chuyên môn\u001b[33m...\u001b[0m\n"
      ]
     },
     "metadata": {},
     "output_type": "display_data"
    },
    {
     "data": {
      "text/html": [
       "<pre style=\"white-space:pre;overflow-x:auto;line-height:normal;font-family:Menlo,'DejaVu Sans Mono',consolas,'Courier New',monospace\"><span style=\"color: #008000; text-decoration-color: #008000; font-weight: bold\">✔️ Lĩnh vực chuyên môn được xác định:</span>\n",
       "</pre>\n"
      ],
      "text/plain": [
       "\u001b[1;32m✔️ Lĩnh vực chuyên môn được xác định:\u001b[0m\n"
      ]
     },
     "metadata": {},
     "output_type": "display_data"
    },
    {
     "data": {
      "text/html": [
       "<pre style=\"white-space:pre;overflow-x:auto;line-height:normal;font-family:Menlo,'DejaVu Sans Mono',consolas,'Courier New',monospace\"><span style=\"color: #008000; text-decoration-color: #008000\">'Toán học'</span>\n",
       "</pre>\n"
      ],
      "text/plain": [
       "\u001b[32m'Toán học'\u001b[0m\n"
      ]
     },
     "metadata": {},
     "output_type": "display_data"
    },
    {
     "data": {
      "text/html": [
       "<pre style=\"white-space:pre;overflow-x:auto;line-height:normal;font-family:Menlo,'DejaVu Sans Mono',consolas,'Courier New',monospace\">\n",
       "<span style=\"color: #808000; text-decoration-color: #808000; font-weight: bold\">------- Hoàn thành bước: domain_classifier -------</span>\n",
       "</pre>\n"
      ],
      "text/plain": [
       "\n",
       "\u001b[1;33m------- Hoàn thành bước: domain_classifier -------\u001b[0m\n"
      ]
     },
     "metadata": {},
     "output_type": "display_data"
    },
    {
     "data": {
      "text/html": [
       "<pre style=\"white-space:pre;overflow-x:auto;line-height:normal;font-family:Menlo,'DejaVu Sans Mono',consolas,'Courier New',monospace\">\n",
       "<span style=\"color: #008080; text-decoration-color: #008080; font-weight: bold\">&gt;</span> `Agent: Differentiated Instruction Advisor` <span style=\"font-weight: bold\">(</span>v9.<span style=\"color: #008080; text-decoration-color: #008080; font-weight: bold\">1</span><span style=\"font-weight: bold\">)</span> đang phân tích và đề xuất chiến lược phân hóa<span style=\"color: #808000; text-decoration-color: #808000\">...</span>\n",
       "</pre>\n"
      ],
      "text/plain": [
       "\n",
       "\u001b[1;36m>\u001b[0m `Agent: Differentiated Instruction Advisor` \u001b[1m(\u001b[0mv9.\u001b[1;36m1\u001b[0m\u001b[1m)\u001b[0m đang phân tích và đề xuất chiến lược phân hóa\u001b[33m...\u001b[0m\n"
      ]
     },
     "metadata": {},
     "output_type": "display_data"
    },
    {
     "data": {
      "text/html": [
       "<pre style=\"white-space:pre;overflow-x:auto;line-height:normal;font-family:Menlo,'DejaVu Sans Mono',consolas,'Courier New',monospace\"><span style=\"color: #008000; text-decoration-color: #008000; font-weight: bold\">✔️ Hồ sơ lớp học và Chiến lược Phân hóa:</span>\n",
       "</pre>\n"
      ],
      "text/plain": [
       "\u001b[1;32m✔️ Hồ sơ lớp học và Chiến lược Phân hóa:\u001b[0m\n"
      ]
     },
     "metadata": {},
     "output_type": "display_data"
    },
    {
     "data": {
      "text/html": [
       "<pre style=\"white-space:pre;overflow-x:auto;line-height:normal;font-family:Menlo,'DejaVu Sans Mono',consolas,'Courier New',monospace\"><span style=\"font-weight: bold\">{</span>\n",
       "<span style=\"color: #7fbf7f; text-decoration-color: #7fbf7f\">│   </span><span style=\"color: #008000; text-decoration-color: #008000\">'learning_pace'</span>: <span style=\"color: #008000; text-decoration-color: #008000\">'chậm'</span>,\n",
       "<span style=\"color: #7fbf7f; text-decoration-color: #7fbf7f\">│   </span><span style=\"color: #008000; text-decoration-color: #008000\">'engagement_style'</span>: <span style=\"color: #008000; text-decoration-color: #008000\">'thụ động'</span>,\n",
       "<span style=\"color: #7fbf7f; text-decoration-color: #7fbf7f\">│   </span><span style=\"color: #008000; text-decoration-color: #008000\">'special_notes'</span>: <span style=\"color: #008000; text-decoration-color: #008000\">'Lớp học có tốc độ tiếp thu chậm, học sinh dễ mất tập trung và cần các hoạt động tương tác cao để duy trì sự chú ý và hứng thú.'</span>,\n",
       "<span style=\"color: #7fbf7f; text-decoration-color: #7fbf7f\">│   </span><span style=\"color: #008000; text-decoration-color: #008000\">'differentiation_strategy'</span>: <span style=\"font-weight: bold\">{</span>\n",
       "<span style=\"color: #7fbf7f; text-decoration-color: #7fbf7f\">│   │   </span><span style=\"color: #008000; text-decoration-color: #008000\">'for_struggling_students'</span>: <span style=\"color: #008000; text-decoration-color: #008000\">'Chia nhỏ kiến thức thành các phần dễ tiếp thu, sử dụng nhiều hình ảnh trực quan và mô hình. Cung cấp phiếu bài tập có gợi ý, ví dụ minh họa chi tiết. Tăng cường kiểm tra, hỗ trợ cá nhân hoặc nhóm nhỏ thường xuyên, khuyến khích đặt câu hỏi và nhắc lại kiến thức cơ bản.'</span>,\n",
       "<span style=\"color: #7fbf7f; text-decoration-color: #7fbf7f\">│   │   </span><span style=\"color: #008000; text-decoration-color: #008000\">'for_advanced_students'</span>: <span style=\"color: #008000; text-decoration-color: #008000\">'Cung cấp các bài tập nâng cao, yêu cầu chứng minh hoặc giải thích sâu hơn về các tính chất. Khuyến khích tìm kiếm ứng dụng thực tế hoặc mở rộng bài toán. Giao nhiệm vụ hướng dẫn, hỗ trợ các bạn trong nhóm khi cần thiết, tạo cơ hội cho các em tự khám phá và trình bày.'</span>\n",
       "<span style=\"color: #7fbf7f; text-decoration-color: #7fbf7f\">│   </span><span style=\"font-weight: bold\">}</span>\n",
       "<span style=\"font-weight: bold\">}</span>\n",
       "</pre>\n"
      ],
      "text/plain": [
       "\u001b[1m{\u001b[0m\n",
       "\u001b[2;32m│   \u001b[0m\u001b[32m'learning_pace'\u001b[0m: \u001b[32m'chậm'\u001b[0m,\n",
       "\u001b[2;32m│   \u001b[0m\u001b[32m'engagement_style'\u001b[0m: \u001b[32m'thụ động'\u001b[0m,\n",
       "\u001b[2;32m│   \u001b[0m\u001b[32m'special_notes'\u001b[0m: \u001b[32m'Lớp học có tốc độ tiếp thu chậm, học sinh dễ mất tập trung và cần các hoạt động tương tác cao để duy trì sự chú ý và hứng thú.'\u001b[0m,\n",
       "\u001b[2;32m│   \u001b[0m\u001b[32m'differentiation_strategy'\u001b[0m: \u001b[1m{\u001b[0m\n",
       "\u001b[2;32m│   │   \u001b[0m\u001b[32m'for_struggling_students'\u001b[0m: \u001b[32m'Chia nhỏ kiến thức thành các phần dễ tiếp thu, sử dụng nhiều hình ảnh trực quan và mô hình. Cung cấp phiếu bài tập có gợi ý, ví dụ minh họa chi tiết. Tăng cường kiểm tra, hỗ trợ cá nhân hoặc nhóm nhỏ thường xuyên, khuyến khích đặt câu hỏi và nhắc lại kiến thức cơ bản.'\u001b[0m,\n",
       "\u001b[2;32m│   │   \u001b[0m\u001b[32m'for_advanced_students'\u001b[0m: \u001b[32m'Cung cấp các bài tập nâng cao, yêu cầu chứng minh hoặc giải thích sâu hơn về các tính chất. Khuyến khích tìm kiếm ứng dụng thực tế hoặc mở rộng bài toán. Giao nhiệm vụ hướng dẫn, hỗ trợ các bạn trong nhóm khi cần thiết, tạo cơ hội cho các em tự khám phá và trình bày.'\u001b[0m\n",
       "\u001b[2;32m│   \u001b[0m\u001b[1m}\u001b[0m\n",
       "\u001b[1m}\u001b[0m\n"
      ]
     },
     "metadata": {},
     "output_type": "display_data"
    },
    {
     "data": {
      "text/html": [
       "<pre style=\"white-space:pre;overflow-x:auto;line-height:normal;font-family:Menlo,'DejaVu Sans Mono',consolas,'Courier New',monospace\">\n",
       "<span style=\"color: #808000; text-decoration-color: #808000; font-weight: bold\">------- Hoàn thành bước: differentiated_instruction_advisor -------</span>\n",
       "</pre>\n"
      ],
      "text/plain": [
       "\n",
       "\u001b[1;33m------- Hoàn thành bước: differentiated_instruction_advisor -------\u001b[0m\n"
      ]
     },
     "metadata": {},
     "output_type": "display_data"
    },
    {
     "data": {
      "text/html": [
       "<pre style=\"white-space:pre;overflow-x:auto;line-height:normal;font-family:Menlo,'DejaVu Sans Mono',consolas,'Courier New',monospace\">\n",
       "<span style=\"color: #008080; text-decoration-color: #008080; font-weight: bold\">&gt;</span> `Agent: Pedagogy Strategist` <span style=\"font-weight: bold\">(</span>v7.<span style=\"color: #008080; text-decoration-color: #008080; font-weight: bold\">5</span><span style=\"font-weight: bold\">)</span> đang xây dựng chiến lược sư phạm chi tiết<span style=\"color: #808000; text-decoration-color: #808000\">...</span>\n",
       "</pre>\n"
      ],
      "text/plain": [
       "\n",
       "\u001b[1;36m>\u001b[0m `Agent: Pedagogy Strategist` \u001b[1m(\u001b[0mv7.\u001b[1;36m5\u001b[0m\u001b[1m)\u001b[0m đang xây dựng chiến lược sư phạm chi tiết\u001b[33m...\u001b[0m\n"
      ]
     },
     "metadata": {},
     "output_type": "display_data"
    },
    {
     "data": {
      "text/html": [
       "<pre style=\"white-space:pre;overflow-x:auto;line-height:normal;font-family:Menlo,'DejaVu Sans Mono',consolas,'Courier New',monospace\"><span style=\"color: #008000; text-decoration-color: #008000; font-weight: bold\">✔️ Chiến lược sư phạm chi tiết:</span>\n",
       "</pre>\n"
      ],
      "text/plain": [
       "\u001b[1;32m✔️ Chiến lược sư phạm chi tiết:\u001b[0m\n"
      ]
     },
     "metadata": {},
     "output_type": "display_data"
    },
    {
     "data": {
      "text/html": [
       "<pre style=\"white-space:pre;overflow-x:auto;line-height:normal;font-family:Menlo,'DejaVu Sans Mono',consolas,'Courier New',monospace\"><span style=\"font-weight: bold\">{</span>\n",
       "<span style=\"color: #7fbf7f; text-decoration-color: #7fbf7f\">│   </span><span style=\"color: #008000; text-decoration-color: #008000\">'name'</span>: <span style=\"color: #008000; text-decoration-color: #008000\">'Dạy học hợp tác kết hợp phương pháp trực quan và khám phá có hướng dẫn'</span>,\n",
       "<span style=\"color: #7fbf7f; text-decoration-color: #7fbf7f\">│   </span><span style=\"color: #008000; text-decoration-color: #008000\">'rationale'</span>: <span style=\"color: #008000; text-decoration-color: #008000\">'Phương pháp này đặc biệt phù hợp với lớp học có tốc độ tiếp thu chậm và học sinh thụ động vì nó khuyến khích sự tương tác cao và hỗ trợ lẫn nhau giữa các thành viên trong nhóm. Việc chia nhỏ kiến thức thành các nhiệm vụ cụ thể trên phiếu học tập, kết hợp với các hoạt động trực quan (vẽ hình, sử dụng mô hình) và khám phá có hướng dẫn, giúp học sinh dễ dàng tiếp cận và xây dựng kiến thức một cách chủ động. Học sinh yếu được bạn bè và giáo viên hỗ trợ kịp thời, trong khi học sinh khá giỏi có cơ hội phát huy năng lực, hướng dẫn bạn và giải quyết các bài tập nâng cao. Điều này giúp duy trì sự chú ý và hứng thú của học sinh trong suốt 90 phút học.'</span>,\n",
       "<span style=\"color: #7fbf7f; text-decoration-color: #7fbf7f\">│   </span><span style=\"color: #008000; text-decoration-color: #008000\">'key_actions'</span>: <span style=\"font-weight: bold\">[</span>\n",
       "<span style=\"color: #7fbf7f; text-decoration-color: #7fbf7f\">│   │   </span><span style=\"color: #008000; text-decoration-color: #008000\">'Khởi động và đặt vấn đề, tạo tình huống học tập có vấn đề.'</span>,\n",
       "<span style=\"color: #7fbf7f; text-decoration-color: #7fbf7f\">│   │   </span><span style=\"color: #008000; text-decoration-color: #008000\">'Chia lớp thành các nhóm nhỏ, giao phiếu học tập với nhiệm vụ khám phá có hướng dẫn về đường tròn ngoại tiếp và nội tiếp.'</span>,\n",
       "<span style=\"color: #7fbf7f; text-decoration-color: #7fbf7f\">│   │   </span><span style=\"color: #008000; text-decoration-color: #008000\">'Học sinh làm việc nhóm, sử dụng các dụng cụ học tập (compa, thước, giấy) và tài liệu trực quan để thực hiện các hoạt động vẽ, quan sát, thảo luận và rút ra kết luận.'</span>,\n",
       "<span style=\"color: #7fbf7f; text-decoration-color: #7fbf7f\">│   │   </span><span style=\"color: #008000; text-decoration-color: #008000\">'Giáo viên quan sát, hỗ trợ từng nhóm, giải đáp thắc mắc, gợi ý cho học sinh yếu và khuyến khích học sinh khá giỏi mở rộng vấn đề.'</span>,\n",
       "<span style=\"color: #7fbf7f; text-decoration-color: #7fbf7f\">│   │   </span><span style=\"color: #008000; text-decoration-color: #008000\">'Đại diện các nhóm trình bày kết quả khám phá và chia sẻ kiến thức với cả lớp.'</span>,\n",
       "<span style=\"color: #7fbf7f; text-decoration-color: #7fbf7f\">│   │   </span><span style=\"color: #008000; text-decoration-color: #008000\">'Giáo viên tổng kết, chuẩn hóa kiến thức trọng tâm (định nghĩa, tính chất, cách xác định tâm và bán kính của đường tròn ngoại tiếp/nội tiếp).'</span>,\n",
       "<span style=\"color: #7fbf7f; text-decoration-color: #7fbf7f\">│   │   </span><span style=\"color: #008000; text-decoration-color: #008000\">'Củng cố kiến thức bằng các bài tập vận dụng cơ bản và nâng cao, có sự phân hóa rõ rệt cho từng đối tượng học sinh.'</span>,\n",
       "<span style=\"color: #7fbf7f; text-decoration-color: #7fbf7f\">│   │   </span><span style=\"color: #008000; text-decoration-color: #008000\">'Đánh giá nhanh mức độ hiểu bài và giao nhiệm vụ về nhà.'</span>\n",
       "<span style=\"color: #7fbf7f; text-decoration-color: #7fbf7f\">│   </span><span style=\"font-weight: bold\">]</span>\n",
       "<span style=\"font-weight: bold\">}</span>\n",
       "</pre>\n"
      ],
      "text/plain": [
       "\u001b[1m{\u001b[0m\n",
       "\u001b[2;32m│   \u001b[0m\u001b[32m'name'\u001b[0m: \u001b[32m'Dạy học hợp tác kết hợp phương pháp trực quan và khám phá có hướng dẫn'\u001b[0m,\n",
       "\u001b[2;32m│   \u001b[0m\u001b[32m'rationale'\u001b[0m: \u001b[32m'Phương pháp này đặc biệt phù hợp với lớp học có tốc độ tiếp thu chậm và học sinh thụ động vì nó khuyến khích sự tương tác cao và hỗ trợ lẫn nhau giữa các thành viên trong nhóm. Việc chia nhỏ kiến thức thành các nhiệm vụ cụ thể trên phiếu học tập, kết hợp với các hoạt động trực quan \u001b[0m\u001b[32m(\u001b[0m\u001b[32mvẽ hình, sử dụng mô hình\u001b[0m\u001b[32m)\u001b[0m\u001b[32m và khám phá có hướng dẫn, giúp học sinh dễ dàng tiếp cận và xây dựng kiến thức một cách chủ động. Học sinh yếu được bạn bè và giáo viên hỗ trợ kịp thời, trong khi học sinh khá giỏi có cơ hội phát huy năng lực, hướng dẫn bạn và giải quyết các bài tập nâng cao. Điều này giúp duy trì sự chú ý và hứng thú của học sinh trong suốt 90 phút học.'\u001b[0m,\n",
       "\u001b[2;32m│   \u001b[0m\u001b[32m'key_actions'\u001b[0m: \u001b[1m[\u001b[0m\n",
       "\u001b[2;32m│   │   \u001b[0m\u001b[32m'Khởi động và đặt vấn đề, tạo tình huống học tập có vấn đề.'\u001b[0m,\n",
       "\u001b[2;32m│   │   \u001b[0m\u001b[32m'Chia lớp thành các nhóm nhỏ, giao phiếu học tập với nhiệm vụ khám phá có hướng dẫn về đường tròn ngoại tiếp và nội tiếp.'\u001b[0m,\n",
       "\u001b[2;32m│   │   \u001b[0m\u001b[32m'Học sinh làm việc nhóm, sử dụng các dụng cụ học tập \u001b[0m\u001b[32m(\u001b[0m\u001b[32mcompa, thước, giấy\u001b[0m\u001b[32m)\u001b[0m\u001b[32m và tài liệu trực quan để thực hiện các hoạt động vẽ, quan sát, thảo luận và rút ra kết luận.'\u001b[0m,\n",
       "\u001b[2;32m│   │   \u001b[0m\u001b[32m'Giáo viên quan sát, hỗ trợ từng nhóm, giải đáp thắc mắc, gợi ý cho học sinh yếu và khuyến khích học sinh khá giỏi mở rộng vấn đề.'\u001b[0m,\n",
       "\u001b[2;32m│   │   \u001b[0m\u001b[32m'Đại diện các nhóm trình bày kết quả khám phá và chia sẻ kiến thức với cả lớp.'\u001b[0m,\n",
       "\u001b[2;32m│   │   \u001b[0m\u001b[32m'Giáo viên tổng kết, chuẩn hóa kiến thức trọng tâm \u001b[0m\u001b[32m(\u001b[0m\u001b[32mđịnh nghĩa, tính chất, cách xác định tâm và bán kính của đường tròn ngoại tiếp/nội tiếp\u001b[0m\u001b[32m)\u001b[0m\u001b[32m.'\u001b[0m,\n",
       "\u001b[2;32m│   │   \u001b[0m\u001b[32m'Củng cố kiến thức bằng các bài tập vận dụng cơ bản và nâng cao, có sự phân hóa rõ rệt cho từng đối tượng học sinh.'\u001b[0m,\n",
       "\u001b[2;32m│   │   \u001b[0m\u001b[32m'Đánh giá nhanh mức độ hiểu bài và giao nhiệm vụ về nhà.'\u001b[0m\n",
       "\u001b[2;32m│   \u001b[0m\u001b[1m]\u001b[0m\n",
       "\u001b[1m}\u001b[0m\n"
      ]
     },
     "metadata": {},
     "output_type": "display_data"
    },
    {
     "data": {
      "text/html": [
       "<pre style=\"white-space:pre;overflow-x:auto;line-height:normal;font-family:Menlo,'DejaVu Sans Mono',consolas,'Courier New',monospace\">\n",
       "<span style=\"color: #808000; text-decoration-color: #808000; font-weight: bold\">------- Hoàn thành bước: pedagogy_strategist -------</span>\n",
       "</pre>\n"
      ],
      "text/plain": [
       "\n",
       "\u001b[1;33m------- Hoàn thành bước: pedagogy_strategist -------\u001b[0m\n"
      ]
     },
     "metadata": {},
     "output_type": "display_data"
    },
    {
     "data": {
      "text/html": [
       "<pre style=\"white-space:pre;overflow-x:auto;line-height:normal;font-family:Menlo,'DejaVu Sans Mono',consolas,'Courier New',monospace\">\n",
       "<span style=\"color: #008080; text-decoration-color: #008080; font-weight: bold\">&gt;</span> `Agent: Pedagogical Architect` <span style=\"font-weight: bold\">(</span>v9.<span style=\"color: #008080; text-decoration-color: #008080; font-weight: bold\">4</span><span style=\"font-weight: bold\">)</span> đang thiết kế kịch bản buổi học<span style=\"color: #808000; text-decoration-color: #808000\">...</span>\n",
       "</pre>\n"
      ],
      "text/plain": [
       "\n",
       "\u001b[1;36m>\u001b[0m `Agent: Pedagogical Architect` \u001b[1m(\u001b[0mv9.\u001b[1;36m4\u001b[0m\u001b[1m)\u001b[0m đang thiết kế kịch bản buổi học\u001b[33m...\u001b[0m\n"
      ]
     },
     "metadata": {},
     "output_type": "display_data"
    },
    {
     "data": {
      "text/html": [
       "<pre style=\"white-space:pre;overflow-x:auto;line-height:normal;font-family:Menlo,'DejaVu Sans Mono',consolas,'Courier New',monospace\"><span style=\"color: #008000; text-decoration-color: #008000; font-weight: bold\">✔️ Bản thiết kế Sư phạm đã được tạo:</span>\n",
       "</pre>\n"
      ],
      "text/plain": [
       "\u001b[1;32m✔️ Bản thiết kế Sư phạm đã được tạo:\u001b[0m\n"
      ]
     },
     "metadata": {},
     "output_type": "display_data"
    },
    {
     "data": {
      "text/html": [
       "<pre style=\"white-space:pre;overflow-x:auto;line-height:normal;font-family:Menlo,'DejaVu Sans Mono',consolas,'Courier New',monospace\"><span style=\"font-weight: bold\">[</span>\n",
       "<span style=\"color: #7fbf7f; text-decoration-color: #7fbf7f\">│   </span><span style=\"color: #008000; text-decoration-color: #008000\">'Khởi động và Tạo tình huống: Giáo viên sử dụng các hình ảnh/vật thể quen thuộc trong đời sống có chứa hình ảnh đường tròn và tam giác (ví dụ: logo, kiến trúc, đồ vật), đặt câu hỏi gợi mở để học sinh liên hệ và suy nghĩ về các khái niệm cơ bản, từ đó dẫn dắt đến nhu cầu tìm hiểu về đường tròn ngoại tiếp và nội tiếp.'</span>,\n",
       "<span style=\"color: #7fbf7f; text-decoration-color: #7fbf7f\">│   </span><span style=\"color: #008000; text-decoration-color: #008000\">'Khám phá Đường tròn ngoại tiếp: Chia lớp thành các nhóm nhỏ. Phát phiếu học tập có hướng dẫn chi tiết các bước vẽ tam giác, vẽ đường trung trực, xác định giao điểm và vẽ đường tròn đi qua 3 đỉnh. Học sinh thực hành với compa, thước, giấy. Giáo viên quan sát, hỗ trợ nhóm yếu, đặt câu hỏi gợi mở cho nhóm khá giỏi.'</span>,\n",
       "<span style=\"color: #7fbf7f; text-decoration-color: #7fbf7f\">│   </span><span style=\"color: #008000; text-decoration-color: #008000\">'Khám phá Đường tròn nội tiếp: Tương tự giai đoạn 2, nhưng tập trung vào đường tròn nội tiếp. Học sinh thực hành vẽ tam giác, vẽ đường phân giác, xác định giao điểm và vẽ đường tròn tiếp xúc với 3 cạnh. Giáo viên tiếp tục hỗ trợ, khuyến khích học sinh khá giỏi giải thích sâu hơn về tính chất.'</span>,\n",
       "<span style=\"color: #7fbf7f; text-decoration-color: #7fbf7f\">│   </span><span style=\"color: #008000; text-decoration-color: #008000\">'Vận dụng và Luyện tập: Giáo viên cung cấp các dạng bài tập đa dạng (nhận biết, tính toán, chứng minh) trên phiếu bài tập có phân hóa. Học sinh làm việc cá nhân hoặc theo cặp. Giáo viên đi lại quan sát, hỗ trợ kịp thời cho học sinh yếu, khuyến khích học sinh khá giỏi thử sức với các bài tập khó hơn hoặc tìm cách giải khác.'</span>,\n",
       "<span style=\"color: #7fbf7f; text-decoration-color: #7fbf7f\">│   </span><span style=\"color: #008000; text-decoration-color: #008000\">'Tổng kết và Mở rộng: Giáo viên tổ chức cho học sinh cùng nhau tóm tắt các khái niệm, tính chất quan trọng đã học. Giáo viên chốt lại kiến thức, nhấn mạnh các điểm cần lưu ý. Có thể đặt một câu hỏi mở rộng hoặc giao nhiệm vụ về nhà liên quan đến ứng dụng thực tế của đường tròn ngoại tiếp/nội tiếp.'</span>\n",
       "<span style=\"font-weight: bold\">]</span>\n",
       "</pre>\n"
      ],
      "text/plain": [
       "\u001b[1m[\u001b[0m\n",
       "\u001b[2;32m│   \u001b[0m\u001b[32m'Khởi động và Tạo tình huống: Giáo viên sử dụng các hình ảnh/vật thể quen thuộc trong đời sống có chứa hình ảnh đường tròn và tam giác \u001b[0m\u001b[32m(\u001b[0m\u001b[32mví dụ: logo, kiến trúc, đồ vật\u001b[0m\u001b[32m)\u001b[0m\u001b[32m, đặt câu hỏi gợi mở để học sinh liên hệ và suy nghĩ về các khái niệm cơ bản, từ đó dẫn dắt đến nhu cầu tìm hiểu về đường tròn ngoại tiếp và nội tiếp.'\u001b[0m,\n",
       "\u001b[2;32m│   \u001b[0m\u001b[32m'Khám phá Đường tròn ngoại tiếp: Chia lớp thành các nhóm nhỏ. Phát phiếu học tập có hướng dẫn chi tiết các bước vẽ tam giác, vẽ đường trung trực, xác định giao điểm và vẽ đường tròn đi qua 3 đỉnh. Học sinh thực hành với compa, thước, giấy. Giáo viên quan sát, hỗ trợ nhóm yếu, đặt câu hỏi gợi mở cho nhóm khá giỏi.'\u001b[0m,\n",
       "\u001b[2;32m│   \u001b[0m\u001b[32m'Khám phá Đường tròn nội tiếp: Tương tự giai đoạn 2, nhưng tập trung vào đường tròn nội tiếp. Học sinh thực hành vẽ tam giác, vẽ đường phân giác, xác định giao điểm và vẽ đường tròn tiếp xúc với 3 cạnh. Giáo viên tiếp tục hỗ trợ, khuyến khích học sinh khá giỏi giải thích sâu hơn về tính chất.'\u001b[0m,\n",
       "\u001b[2;32m│   \u001b[0m\u001b[32m'Vận dụng và Luyện tập: Giáo viên cung cấp các dạng bài tập đa dạng \u001b[0m\u001b[32m(\u001b[0m\u001b[32mnhận biết, tính toán, chứng minh\u001b[0m\u001b[32m)\u001b[0m\u001b[32m trên phiếu bài tập có phân hóa. Học sinh làm việc cá nhân hoặc theo cặp. Giáo viên đi lại quan sát, hỗ trợ kịp thời cho học sinh yếu, khuyến khích học sinh khá giỏi thử sức với các bài tập khó hơn hoặc tìm cách giải khác.'\u001b[0m,\n",
       "\u001b[2;32m│   \u001b[0m\u001b[32m'Tổng kết và Mở rộng: Giáo viên tổ chức cho học sinh cùng nhau tóm tắt các khái niệm, tính chất quan trọng đã học. Giáo viên chốt lại kiến thức, nhấn mạnh các điểm cần lưu ý. Có thể đặt một câu hỏi mở rộng hoặc giao nhiệm vụ về nhà liên quan đến ứng dụng thực tế của đường tròn ngoại tiếp/nội tiếp.'\u001b[0m\n",
       "\u001b[1m]\u001b[0m\n"
      ]
     },
     "metadata": {},
     "output_type": "display_data"
    },
    {
     "data": {
      "text/html": [
       "<pre style=\"white-space:pre;overflow-x:auto;line-height:normal;font-family:Menlo,'DejaVu Sans Mono',consolas,'Courier New',monospace\">\n",
       "<span style=\"color: #808000; text-decoration-color: #808000; font-weight: bold\">------- Hoàn thành bước: pedagogical_architect -------</span>\n",
       "</pre>\n"
      ],
      "text/plain": [
       "\n",
       "\u001b[1;33m------- Hoàn thành bước: pedagogical_architect -------\u001b[0m\n"
      ]
     },
     "metadata": {},
     "output_type": "display_data"
    },
    {
     "data": {
      "text/html": [
       "<pre style=\"white-space:pre;overflow-x:auto;line-height:normal;font-family:Menlo,'DejaVu Sans Mono',consolas,'Courier New',monospace\">\n",
       "<span style=\"color: #008080; text-decoration-color: #008080; font-weight: bold\">&gt;</span> `Agent: Query Expansion` <span style=\"font-weight: bold\">(</span>v7.<span style=\"color: #008080; text-decoration-color: #008080; font-weight: bold\">5</span><span style=\"font-weight: bold\">)</span> đang phân tích yêu cầu<span style=\"color: #808000; text-decoration-color: #808000\">...</span>\n",
       "</pre>\n"
      ],
      "text/plain": [
       "\n",
       "\u001b[1;36m>\u001b[0m `Agent: Query Expansion` \u001b[1m(\u001b[0mv7.\u001b[1;36m5\u001b[0m\u001b[1m)\u001b[0m đang phân tích yêu cầu\u001b[33m...\u001b[0m\n"
      ]
     },
     "metadata": {},
     "output_type": "display_data"
    },
    {
     "data": {
      "text/html": [
       "<pre style=\"white-space:pre;overflow-x:auto;line-height:normal;font-family:Menlo,'DejaVu Sans Mono',consolas,'Courier New',monospace\"><span style=\"color: #008000; text-decoration-color: #008000; font-weight: bold\">✔️ Các truy vấn tìm kiếm đã được mở rộng:</span>\n",
       "</pre>\n"
      ],
      "text/plain": [
       "\u001b[1;32m✔️ Các truy vấn tìm kiếm đã được mở rộng:\u001b[0m\n"
      ]
     },
     "metadata": {},
     "output_type": "display_data"
    },
    {
     "data": {
      "text/html": [
       "<pre style=\"white-space:pre;overflow-x:auto;line-height:normal;font-family:Menlo,'DejaVu Sans Mono',consolas,'Courier New',monospace\"><span style=\"font-weight: bold\">[</span>\n",
       "<span style=\"color: #7fbf7f; text-decoration-color: #7fbf7f\">│   </span><span style=\"color: #008000; text-decoration-color: #008000\">'Đường tròn ngoại tiếp là gì'</span>,\n",
       "<span style=\"color: #7fbf7f; text-decoration-color: #7fbf7f\">│   </span><span style=\"color: #008000; text-decoration-color: #008000\">'Đường tròn nội tiếp là gì'</span>,\n",
       "<span style=\"color: #7fbf7f; text-decoration-color: #7fbf7f\">│   </span><span style=\"color: #008000; text-decoration-color: #008000\">'Công thức tính bán kính đường tròn ngoại tiếp tam giác'</span>,\n",
       "<span style=\"color: #7fbf7f; text-decoration-color: #7fbf7f\">│   </span><span style=\"color: #008000; text-decoration-color: #008000\">'Công thức tính bán kính đường tròn nội tiếp tam giác'</span>,\n",
       "<span style=\"color: #7fbf7f; text-decoration-color: #7fbf7f\">│   </span><span style=\"color: #008000; text-decoration-color: #008000\">'Tính chất đường tròn ngoại tiếp và nội tiếp'</span>,\n",
       "<span style=\"color: #7fbf7f; text-decoration-color: #7fbf7f\">│   </span><span style=\"color: #008000; text-decoration-color: #008000\">'Bài tập đường tròn ngoại tiếp nội tiếp lớp 9'</span>,\n",
       "<span style=\"color: #7fbf7f; text-decoration-color: #7fbf7f\">│   </span><span style=\"color: #008000; text-decoration-color: #008000\">'Chuyên đề đường tròn ngoại tiếp nội tiếp hình học'</span>,\n",
       "<span style=\"color: #7fbf7f; text-decoration-color: #7fbf7f\">│   </span><span style=\"color: #008000; text-decoration-color: #008000\">'Cách vẽ đường tròn ngoại tiếp tam giác'</span>,\n",
       "<span style=\"color: #7fbf7f; text-decoration-color: #7fbf7f\">│   </span><span style=\"color: #008000; text-decoration-color: #008000\">'Cách vẽ đường tròn nội tiếp tam giác'</span>,\n",
       "<span style=\"color: #7fbf7f; text-decoration-color: #7fbf7f\">│   </span><span style=\"color: #008000; text-decoration-color: #008000\">'Đường tròn ngoại tiếp tứ giác nội tiếp'</span>,\n",
       "<span style=\"color: #7fbf7f; text-decoration-color: #7fbf7f\">│   </span><span style=\"color: #008000; text-decoration-color: #008000\">'Đường tròn nội tiếp tứ giác'</span>,\n",
       "<span style=\"color: #7fbf7f; text-decoration-color: #7fbf7f\">│   </span><span style=\"color: #008000; text-decoration-color: #008000\">'Lý thuyết đường tròn ngoại tiếp và nội tiếp'</span>,\n",
       "<span style=\"color: #7fbf7f; text-decoration-color: #7fbf7f\">│   </span><span style=\"color: #008000; text-decoration-color: #008000\">'Ứng dụng đường tròn ngoại tiếp nội tiếp'</span>,\n",
       "<span style=\"color: #7fbf7f; text-decoration-color: #7fbf7f\">│   </span><span style=\"color: #008000; text-decoration-color: #008000\">'Đường tròn ngoại tiếp đa giác đều'</span>,\n",
       "<span style=\"color: #7fbf7f; text-decoration-color: #7fbf7f\">│   </span><span style=\"color: #008000; text-decoration-color: #008000\">'Đường tròn nội tiếp đa giác đều'</span>,\n",
       "<span style=\"color: #7fbf7f; text-decoration-color: #7fbf7f\">│   </span><span style=\"color: #008000; text-decoration-color: #008000\">'Ví dụ về đường tròn ngoại tiếp nội tiếp có lời giải'</span>,\n",
       "<span style=\"color: #7fbf7f; text-decoration-color: #7fbf7f\">│   </span><span style=\"color: #008000; text-decoration-color: #008000\">'Bài tập nâng cao đường tròn ngoại tiếp nội tiếp'</span>,\n",
       "<span style=\"color: #7fbf7f; text-decoration-color: #7fbf7f\">│   </span><span style=\"color: #008000; text-decoration-color: #008000\">'Quan hệ giữa đường tròn ngoại tiếp và nội tiếp tam giác'</span>\n",
       "<span style=\"font-weight: bold\">]</span>\n",
       "</pre>\n"
      ],
      "text/plain": [
       "\u001b[1m[\u001b[0m\n",
       "\u001b[2;32m│   \u001b[0m\u001b[32m'Đường tròn ngoại tiếp là gì'\u001b[0m,\n",
       "\u001b[2;32m│   \u001b[0m\u001b[32m'Đường tròn nội tiếp là gì'\u001b[0m,\n",
       "\u001b[2;32m│   \u001b[0m\u001b[32m'Công thức tính bán kính đường tròn ngoại tiếp tam giác'\u001b[0m,\n",
       "\u001b[2;32m│   \u001b[0m\u001b[32m'Công thức tính bán kính đường tròn nội tiếp tam giác'\u001b[0m,\n",
       "\u001b[2;32m│   \u001b[0m\u001b[32m'Tính chất đường tròn ngoại tiếp và nội tiếp'\u001b[0m,\n",
       "\u001b[2;32m│   \u001b[0m\u001b[32m'Bài tập đường tròn ngoại tiếp nội tiếp lớp 9'\u001b[0m,\n",
       "\u001b[2;32m│   \u001b[0m\u001b[32m'Chuyên đề đường tròn ngoại tiếp nội tiếp hình học'\u001b[0m,\n",
       "\u001b[2;32m│   \u001b[0m\u001b[32m'Cách vẽ đường tròn ngoại tiếp tam giác'\u001b[0m,\n",
       "\u001b[2;32m│   \u001b[0m\u001b[32m'Cách vẽ đường tròn nội tiếp tam giác'\u001b[0m,\n",
       "\u001b[2;32m│   \u001b[0m\u001b[32m'Đường tròn ngoại tiếp tứ giác nội tiếp'\u001b[0m,\n",
       "\u001b[2;32m│   \u001b[0m\u001b[32m'Đường tròn nội tiếp tứ giác'\u001b[0m,\n",
       "\u001b[2;32m│   \u001b[0m\u001b[32m'Lý thuyết đường tròn ngoại tiếp và nội tiếp'\u001b[0m,\n",
       "\u001b[2;32m│   \u001b[0m\u001b[32m'Ứng dụng đường tròn ngoại tiếp nội tiếp'\u001b[0m,\n",
       "\u001b[2;32m│   \u001b[0m\u001b[32m'Đường tròn ngoại tiếp đa giác đều'\u001b[0m,\n",
       "\u001b[2;32m│   \u001b[0m\u001b[32m'Đường tròn nội tiếp đa giác đều'\u001b[0m,\n",
       "\u001b[2;32m│   \u001b[0m\u001b[32m'Ví dụ về đường tròn ngoại tiếp nội tiếp có lời giải'\u001b[0m,\n",
       "\u001b[2;32m│   \u001b[0m\u001b[32m'Bài tập nâng cao đường tròn ngoại tiếp nội tiếp'\u001b[0m,\n",
       "\u001b[2;32m│   \u001b[0m\u001b[32m'Quan hệ giữa đường tròn ngoại tiếp và nội tiếp tam giác'\u001b[0m\n",
       "\u001b[1m]\u001b[0m\n"
      ]
     },
     "metadata": {},
     "output_type": "display_data"
    },
    {
     "data": {
      "text/html": [
       "<pre style=\"white-space:pre;overflow-x:auto;line-height:normal;font-family:Menlo,'DejaVu Sans Mono',consolas,'Courier New',monospace\">\n",
       "<span style=\"color: #808000; text-decoration-color: #808000; font-weight: bold\">------- Hoàn thành bước: query_expansion -------</span>\n",
       "</pre>\n"
      ],
      "text/plain": [
       "\n",
       "\u001b[1;33m------- Hoàn thành bước: query_expansion -------\u001b[0m\n"
      ]
     },
     "metadata": {},
     "output_type": "display_data"
    },
    {
     "data": {
      "text/html": [
       "<pre style=\"white-space:pre;overflow-x:auto;line-height:normal;font-family:Menlo,'DejaVu Sans Mono',consolas,'Courier New',monospace\">\n",
       "<span style=\"color: #008080; text-decoration-color: #008080; font-weight: bold\">&gt;</span> `Agent: Resource Scout` <span style=\"font-weight: bold\">(</span>v8.<span style=\"color: #008080; text-decoration-color: #008080; font-weight: bold\">1</span> - Sửa lỗi<span style=\"font-weight: bold\">)</span> đang tìm kiếm và sàng lọc<span style=\"color: #808000; text-decoration-color: #808000\">...</span>\n",
       "</pre>\n"
      ],
      "text/plain": [
       "\n",
       "\u001b[1;36m>\u001b[0m `Agent: Resource Scout` \u001b[1m(\u001b[0mv8.\u001b[1;36m1\u001b[0m - Sửa lỗi\u001b[1m)\u001b[0m đang tìm kiếm và sàng lọc\u001b[33m...\u001b[0m\n"
      ]
     },
     "metadata": {},
     "output_type": "display_data"
    },
    {
     "data": {
      "text/html": [
       "<pre style=\"white-space:pre;overflow-x:auto;line-height:normal;font-family:Menlo,'DejaVu Sans Mono',consolas,'Courier New',monospace\">\n",
       "<span style=\"color: #008080; text-decoration-color: #008080; font-weight: bold\">&gt;</span> Tìm thấy <span style=\"color: #008080; text-decoration-color: #008080; font-weight: bold\">90</span> tài liệu, sàng lọc còn <span style=\"color: #008080; text-decoration-color: #008080; font-weight: bold\">8</span> đoạn văn bản độc nhất.\n",
       "</pre>\n"
      ],
      "text/plain": [
       "\n",
       "\u001b[1;36m>\u001b[0m Tìm thấy \u001b[1;36m90\u001b[0m tài liệu, sàng lọc còn \u001b[1;36m8\u001b[0m đoạn văn bản độc nhất.\n"
      ]
     },
     "metadata": {},
     "output_type": "display_data"
    },
    {
     "data": {
      "text/html": [
       "<pre style=\"white-space:pre;overflow-x:auto;line-height:normal;font-family:Menlo,'DejaVu Sans Mono',consolas,'Courier New',monospace\"><span style=\"color: #008000; text-decoration-color: #008000; font-weight: bold\">✔️ Tài liệu RAG cuối cùng:</span>\n",
       "</pre>\n"
      ],
      "text/plain": [
       "\u001b[1;32m✔️ Tài liệu RAG cuối cùng:\u001b[0m\n"
      ]
     },
     "metadata": {},
     "output_type": "display_data"
    },
    {
     "data": {
      "text/html": [
       "<pre style=\"white-space:pre;overflow-x:auto;line-height:normal;font-family:Menlo,'DejaVu Sans Mono',consolas,'Courier New',monospace\"><span style=\"font-weight: bold\">{</span>\n",
       "<span style=\"color: #7fbf7f; text-decoration-color: #7fbf7f\">│   </span><span style=\"color: #008000; text-decoration-color: #008000\">'source'</span>: <span style=\"color: #008000; text-decoration-color: #008000\">'Sách giáo khoa (từ RAG - đã sàng lọc)'</span>,\n",
       "<span style=\"color: #7fbf7f; text-decoration-color: #7fbf7f\">│   </span><span style=\"color: #008000; text-decoration-color: #008000\">'summary'</span>: <span style=\"color: #008000; text-decoration-color: #008000\">'Chào các em,\\n\\nVới vai trò là một giáo viên giàu kinh nghiệm, thầy sẽ giúp các em tổng hợp kiến thức cốt lõi về chủ đề \"Đường tròn ngoại tiếp và đường tròn nội tiếp\" dựa trên các đoạn văn bản đã cho. Các em lưu ý, thầy chỉ sử dụng thông tin có sẵn trong tài liệu để tóm tắt nhé.\\n\\n---\\n\\n**TÓM TẮT KIẾN THỨC CỐT LÕI VỀ CHỦ ĐỀ \"ĐƯỜNG TRÒN NGOẠI TIẾP VÀ ĐƯỜNG TRÒN NỘI TIẾP\"**\\n\\n1.  **Đường tròn đi qua các đỉnh của đa giác (Khái niệm liên quan đến \"Đường tròn ngoại tiếp\")**\\n    *   **Định nghĩa (Suy luận từ các ví dụ):** Một đường tròn có thể đi qua tất cả các đỉnh của một số đa giác nhất định.\\n    *   **Đối với tam giác vuông:**\\n        *   Các điểm A, B, C của một tam giác vuông tại A thuộc cùng một đường tròn.\\n        *   Đường tròn này có đường kính là cạnh huyền của tam giác vuông (ví dụ: BC).\\n        *   Ngược lại, nếu một tam giác có một cạnh là đường kính của đường tròn và đỉnh còn lại nằm trên đường tròn đó, thì tam giác đó là tam giác vuông.\\n    *   **Đối với hình vuông:**\\n        *   Có một đường tròn đi qua bốn đỉnh của hình vuông.\\n        *   Tâm của đường tròn này là giao điểm của hai đường chéo của hình vuông.\\n        *   Tâm này cũng là tâm đối xứng của đường tròn.\\n        *   Đường tròn này có hai trục đối xứng.\\n\\n2.  **Đường tròn nội tiếp**\\n    *   *Trong các đoạn văn bản được cung cấp, không có thông tin nào để định nghĩa hoặc mô tả về đường tròn nội tiếp.*\\n\\n3.  **Các khái niệm và tính chất chung về đường tròn**\\n    *   **Xác định tâm đường tròn:** Có thể tìm tâm của một hình tròn bằng cách gấp đôi mảnh giấy hình tròn theo hai cách khác nhau.\\n    *   **Trục đối xứng của đường tròn:** Đường trung trực của một đoạn thẳng nối hai điểm bất kỳ thuộc đường tròn là một trục đối xứng của đường tròn đó.\\n    *   **Vị trí của một điểm đối với đường tròn (O; R):**\\n        *   Điểm nằm **trên** đường tròn nếu khoảng cách từ tâm O đến điểm đó bằng bán kính R.\\n        *   Điểm nằm **trong** đường tròn nếu khoảng cách từ tâm O đến điểm đó nhỏ hơn bán kính R.\\n        *   Điểm nằm **ngoài** đường tròn nếu khoảng cách từ tâm O đến điểm đó lớn hơn bán kính R.\\n    *   **Vị trí tương đối của hai đường tròn (O; R) và (O\\'; R\\'):**\\n        *   **Tiếp xúc ngoài:** Khi khoảng cách giữa hai tâm bằng tổng hai bán kính ($OO\\' = R + R\\'$).\\n        *   **Không giao nhau:**\\n            *   **Ở ngoài nhau:** Khi khoảng cách giữa hai tâm lớn hơn tổng hai bán kính ($OO\\' &gt; R + R\\'$).\\n            *   **Đựng nhau:** Khi khoảng cách giữa hai tâm nhỏ hơn hiệu hai bán kính ($OO\\' &lt; R - R\\'$).\\n            *   **Đồng tâm:** Khi hai tâm trùng nhau ($O \\\\equiv O\\'$) và bán kính khác nhau ($R \\\\neq R\\'$).\\n    *   **Tiếp tuyến:** Một đường thẳng có thể là tiếp tuyến của một đường tròn (ví dụ: BA là tiếp tuyến của đường tròn (C; CA)).\\n\\n---\\nHy vọng bản tóm tắt này giúp các em nắm vững kiến thức từ các bài học đã cho.'</span>\n",
       "<span style=\"font-weight: bold\">}</span>\n",
       "</pre>\n"
      ],
      "text/plain": [
       "\u001b[1m{\u001b[0m\n",
       "\u001b[2;32m│   \u001b[0m\u001b[32m'source'\u001b[0m: \u001b[32m'Sách giáo khoa \u001b[0m\u001b[32m(\u001b[0m\u001b[32mtừ RAG - đã sàng lọc\u001b[0m\u001b[32m)\u001b[0m\u001b[32m'\u001b[0m,\n",
       "\u001b[2;32m│   \u001b[0m\u001b[32m'summary'\u001b[0m: \u001b[32m'Chào các em,\\n\\nVới vai trò là một giáo viên giàu kinh nghiệm, thầy sẽ giúp các em tổng hợp kiến thức cốt lõi về chủ đề \"Đường tròn ngoại tiếp và đường tròn nội tiếp\" dựa trên các đoạn văn bản đã cho. Các em lưu ý, thầy chỉ sử dụng thông tin có sẵn trong tài liệu để tóm tắt nhé.\\n\\n---\\n\\n**TÓM TẮT KIẾN THỨC CỐT LÕI VỀ CHỦ ĐỀ \"ĐƯỜNG TRÒN NGOẠI TIẾP VÀ ĐƯỜNG TRÒN NỘI TIẾP\"**\\n\\n1.  **Đường tròn đi qua các đỉnh của đa giác \u001b[0m\u001b[32m(\u001b[0m\u001b[32mKhái niệm liên quan đến \"Đường tròn ngoại tiếp\"\u001b[0m\u001b[32m)\u001b[0m\u001b[32m**\\n    *   **Định nghĩa \u001b[0m\u001b[32m(\u001b[0m\u001b[32mSuy luận từ các ví dụ\u001b[0m\u001b[32m)\u001b[0m\u001b[32m:** Một đường tròn có thể đi qua tất cả các đỉnh của một số đa giác nhất định.\\n    *   **Đối với tam giác vuông:**\\n        *   Các điểm A, B, C của một tam giác vuông tại A thuộc cùng một đường tròn.\\n        *   Đường tròn này có đường kính là cạnh huyền của tam giác vuông \u001b[0m\u001b[32m(\u001b[0m\u001b[32mví dụ: BC\u001b[0m\u001b[32m)\u001b[0m\u001b[32m.\\n        *   Ngược lại, nếu một tam giác có một cạnh là đường kính của đường tròn và đỉnh còn lại nằm trên đường tròn đó, thì tam giác đó là tam giác vuông.\\n    *   **Đối với hình vuông:**\\n        *   Có một đường tròn đi qua bốn đỉnh của hình vuông.\\n        *   Tâm của đường tròn này là giao điểm của hai đường chéo của hình vuông.\\n        *   Tâm này cũng là tâm đối xứng của đường tròn.\\n        *   Đường tròn này có hai trục đối xứng.\\n\\n2.  **Đường tròn nội tiếp**\\n    *   *Trong các đoạn văn bản được cung cấp, không có thông tin nào để định nghĩa hoặc mô tả về đường tròn nội tiếp.*\\n\\n3.  **Các khái niệm và tính chất chung về đường tròn**\\n    *   **Xác định tâm đường tròn:** Có thể tìm tâm của một hình tròn bằng cách gấp đôi mảnh giấy hình tròn theo hai cách khác nhau.\\n    *   **Trục đối xứng của đường tròn:** Đường trung trực của một đoạn thẳng nối hai điểm bất kỳ thuộc đường tròn là một trục đối xứng của đường tròn đó.\\n    *   **Vị trí của một điểm đối với đường tròn \u001b[0m\u001b[32m(\u001b[0m\u001b[32mO; R\u001b[0m\u001b[32m)\u001b[0m\u001b[32m:**\\n        *   Điểm nằm **trên** đường tròn nếu khoảng cách từ tâm O đến điểm đó bằng bán kính R.\\n        *   Điểm nằm **trong** đường tròn nếu khoảng cách từ tâm O đến điểm đó nhỏ hơn bán kính R.\\n        *   Điểm nằm **ngoài** đường tròn nếu khoảng cách từ tâm O đến điểm đó lớn hơn bán kính R.\\n    *   **Vị trí tương đối của hai đường tròn \u001b[0m\u001b[32m(\u001b[0m\u001b[32mO; R\u001b[0m\u001b[32m)\u001b[0m\u001b[32m và \u001b[0m\u001b[32m(\u001b[0m\u001b[32mO\\'; R\\'\u001b[0m\u001b[32m)\u001b[0m\u001b[32m:**\\n        *   **Tiếp xúc ngoài:** Khi khoảng cách giữa hai tâm bằng tổng hai bán kính \u001b[0m\u001b[32m(\u001b[0m\u001b[32m$OO\\' = R + R\\'$\u001b[0m\u001b[32m)\u001b[0m\u001b[32m.\\n        *   **Không giao nhau:**\\n            *   **Ở ngoài nhau:** Khi khoảng cách giữa hai tâm lớn hơn tổng hai bán kính \u001b[0m\u001b[32m(\u001b[0m\u001b[32m$OO\\' > R + R\\'$\u001b[0m\u001b[32m)\u001b[0m\u001b[32m.\\n            *   **Đựng nhau:** Khi khoảng cách giữa hai tâm nhỏ hơn hiệu hai bán kính \u001b[0m\u001b[32m(\u001b[0m\u001b[32m$OO\\' < R - R\\'$\u001b[0m\u001b[32m)\u001b[0m\u001b[32m.\\n            *   **Đồng tâm:** Khi hai tâm trùng nhau \u001b[0m\u001b[32m(\u001b[0m\u001b[32m$O \\\\equiv O\\'$\u001b[0m\u001b[32m)\u001b[0m\u001b[32m và bán kính khác nhau \u001b[0m\u001b[32m(\u001b[0m\u001b[32m$R \\\\neq R\\'$\u001b[0m\u001b[32m)\u001b[0m\u001b[32m.\\n    *   **Tiếp tuyến:** Một đường thẳng có thể là tiếp tuyến của một đường tròn \u001b[0m\u001b[32m(\u001b[0m\u001b[32mví dụ: BA là tiếp tuyến của đường tròn \u001b[0m\u001b[32m(\u001b[0m\u001b[32mC; CA\u001b[0m\u001b[32m)\u001b[0m\u001b[32m)\u001b[0m\u001b[32m.\\n\\n---\\nHy vọng bản tóm tắt này giúp các em nắm vững kiến thức từ các bài học đã cho.'\u001b[0m\n",
       "\u001b[1m}\u001b[0m\n"
      ]
     },
     "metadata": {},
     "output_type": "display_data"
    },
    {
     "data": {
      "text/html": [
       "<pre style=\"white-space:pre;overflow-x:auto;line-height:normal;font-family:Menlo,'DejaVu Sans Mono',consolas,'Courier New',monospace\">\n",
       "<span style=\"color: #808000; text-decoration-color: #808000; font-weight: bold\">------- Hoàn thành bước: resource_scout -------</span>\n",
       "</pre>\n"
      ],
      "text/plain": [
       "\n",
       "\u001b[1;33m------- Hoàn thành bước: resource_scout -------\u001b[0m\n"
      ]
     },
     "metadata": {},
     "output_type": "display_data"
    },
    {
     "data": {
      "text/html": [
       "<pre style=\"white-space:pre;overflow-x:auto;line-height:normal;font-family:Menlo,'DejaVu Sans Mono',consolas,'Courier New',monospace\">\n",
       "<span style=\"color: #008080; text-decoration-color: #008080; font-weight: bold\">&gt;</span> `Agent: Plan Delegator` <span style=\"font-weight: bold\">(</span>v12.<span style=\"color: #008080; text-decoration-color: #008080; font-weight: bold\">0</span> - Nhà hoạch định Thông thái<span style=\"font-weight: bold\">)</span> đang triển khai<span style=\"color: #808000; text-decoration-color: #808000\">...</span>\n",
       "</pre>\n"
      ],
      "text/plain": [
       "\n",
       "\u001b[1;36m>\u001b[0m `Agent: Plan Delegator` \u001b[1m(\u001b[0mv12.\u001b[1;36m0\u001b[0m - Nhà hoạch định Thông thái\u001b[1m)\u001b[0m đang triển khai\u001b[33m...\u001b[0m\n"
      ]
     },
     "metadata": {},
     "output_type": "display_data"
    },
    {
     "data": {
      "text/html": [
       "<pre style=\"white-space:pre;overflow-x:auto;line-height:normal;font-family:Menlo,'DejaVu Sans Mono',consolas,'Courier New',monospace\"><span style=\"color: #008000; text-decoration-color: #008000; font-weight: bold\">✔️ Đã tạo </span><span style=\"color: #008000; text-decoration-color: #008000; font-weight: bold\">5</span><span style=\"color: #008000; text-decoration-color: #008000; font-weight: bold\"> nhiệm vụ chi tiết:</span>\n",
       "</pre>\n"
      ],
      "text/plain": [
       "\u001b[1;32m✔️ Đã tạo \u001b[0m\u001b[1;32m5\u001b[0m\u001b[1;32m nhiệm vụ chi tiết:\u001b[0m\n"
      ]
     },
     "metadata": {},
     "output_type": "display_data"
    },
    {
     "data": {
      "text/html": [
       "<pre style=\"white-space:pre;overflow-x:auto;line-height:normal;font-family:Menlo,'DejaVu Sans Mono',consolas,'Courier New',monospace\"><span style=\"font-weight: bold\">[</span>\n",
       "<span style=\"color: #7fbf7f; text-decoration-color: #7fbf7f\">│   </span><span style=\"font-weight: bold\">{</span>\n",
       "<span style=\"color: #7fbf7f; text-decoration-color: #7fbf7f\">│   │   </span><span style=\"color: #008000; text-decoration-color: #008000\">'task_id'</span>: <span style=\"color: #008080; text-decoration-color: #008080; font-weight: bold\">0</span>,\n",
       "<span style=\"color: #7fbf7f; text-decoration-color: #7fbf7f\">│   │   </span><span style=\"color: #008000; text-decoration-color: #008000\">'task_name'</span>: <span style=\"color: #008000; text-decoration-color: #008000\">'Khởi động và Tạo tình huống'</span>,\n",
       "<span style=\"color: #7fbf7f; text-decoration-color: #7fbf7f\">│   │   </span><span style=\"color: #008000; text-decoration-color: #008000\">'task_description'</span>: <span style=\"color: #008000; text-decoration-color: #008000\">'Giáo viên sử dụng các hình ảnh/vật thể quen thuộc trong đời sống có chứa hình ảnh đường tròn và tam giác (ví dụ: logo, kiến trúc, đồ vật), đặt câu hỏi gợi mở để học sinh liên hệ và suy nghĩ về các khái niệm cơ bản, từ đó dẫn dắt đến nhu cầu tìm hiểu về đường tròn ngoại tiếp và nội tiếp.'</span>,\n",
       "<span style=\"color: #7fbf7f; text-decoration-color: #7fbf7f\">│   │   </span><span style=\"color: #008000; text-decoration-color: #008000\">'estimated_duration'</span>: <span style=\"color: #008080; text-decoration-color: #008080; font-weight: bold\">10</span>,\n",
       "<span style=\"color: #7fbf7f; text-decoration-color: #7fbf7f\">│   │   </span><span style=\"color: #008000; text-decoration-color: #008000\">'status'</span>: <span style=\"color: #008000; text-decoration-color: #008000\">'pending'</span>\n",
       "<span style=\"color: #7fbf7f; text-decoration-color: #7fbf7f\">│   </span><span style=\"font-weight: bold\">}</span>,\n",
       "<span style=\"color: #7fbf7f; text-decoration-color: #7fbf7f\">│   </span><span style=\"font-weight: bold\">{</span>\n",
       "<span style=\"color: #7fbf7f; text-decoration-color: #7fbf7f\">│   │   </span><span style=\"color: #008000; text-decoration-color: #008000\">'task_id'</span>: <span style=\"color: #008080; text-decoration-color: #008080; font-weight: bold\">1</span>,\n",
       "<span style=\"color: #7fbf7f; text-decoration-color: #7fbf7f\">│   │   </span><span style=\"color: #008000; text-decoration-color: #008000\">'task_name'</span>: <span style=\"color: #008000; text-decoration-color: #008000\">'Khám phá Đường tròn ngoại tiếp'</span>,\n",
       "<span style=\"color: #7fbf7f; text-decoration-color: #7fbf7f\">│   │   </span><span style=\"color: #008000; text-decoration-color: #008000\">'task_description'</span>: <span style=\"color: #008000; text-decoration-color: #008000\">'Chia lớp thành các nhóm nhỏ. Phát phiếu học tập có hướng dẫn chi tiết các bước vẽ tam giác, vẽ đường trung trực, xác định giao điểm và vẽ đường tròn đi qua 3 đỉnh. Học sinh thực hành với compa, thước, giấy. Giáo viên quan sát, hỗ trợ nhóm yếu, đặt câu hỏi gợi mở cho nhóm khá giỏi.'</span>,\n",
       "<span style=\"color: #7fbf7f; text-decoration-color: #7fbf7f\">│   │   </span><span style=\"color: #008000; text-decoration-color: #008000\">'estimated_duration'</span>: <span style=\"color: #008080; text-decoration-color: #008080; font-weight: bold\">25</span>,\n",
       "<span style=\"color: #7fbf7f; text-decoration-color: #7fbf7f\">│   │   </span><span style=\"color: #008000; text-decoration-color: #008000\">'status'</span>: <span style=\"color: #008000; text-decoration-color: #008000\">'pending'</span>\n",
       "<span style=\"color: #7fbf7f; text-decoration-color: #7fbf7f\">│   </span><span style=\"font-weight: bold\">}</span>,\n",
       "<span style=\"color: #7fbf7f; text-decoration-color: #7fbf7f\">│   </span><span style=\"font-weight: bold\">{</span>\n",
       "<span style=\"color: #7fbf7f; text-decoration-color: #7fbf7f\">│   │   </span><span style=\"color: #008000; text-decoration-color: #008000\">'task_id'</span>: <span style=\"color: #008080; text-decoration-color: #008080; font-weight: bold\">2</span>,\n",
       "<span style=\"color: #7fbf7f; text-decoration-color: #7fbf7f\">│   │   </span><span style=\"color: #008000; text-decoration-color: #008000\">'task_name'</span>: <span style=\"color: #008000; text-decoration-color: #008000\">'Khám phá Đường tròn nội tiếp'</span>,\n",
       "<span style=\"color: #7fbf7f; text-decoration-color: #7fbf7f\">│   │   </span><span style=\"color: #008000; text-decoration-color: #008000\">'task_description'</span>: <span style=\"color: #008000; text-decoration-color: #008000\">'Tương tự giai đoạn khám phá đường tròn ngoại tiếp, học sinh thực hành vẽ tam giác, vẽ đường phân giác, xác định giao điểm và vẽ đường tròn tiếp xúc với 3 cạnh. Giáo viên tiếp tục hỗ trợ, khuyến khích học sinh khá giỏi giải thích sâu hơn về tính chất.'</span>,\n",
       "<span style=\"color: #7fbf7f; text-decoration-color: #7fbf7f\">│   │   </span><span style=\"color: #008000; text-decoration-color: #008000\">'estimated_duration'</span>: <span style=\"color: #008080; text-decoration-color: #008080; font-weight: bold\">25</span>,\n",
       "<span style=\"color: #7fbf7f; text-decoration-color: #7fbf7f\">│   │   </span><span style=\"color: #008000; text-decoration-color: #008000\">'status'</span>: <span style=\"color: #008000; text-decoration-color: #008000\">'pending'</span>\n",
       "<span style=\"color: #7fbf7f; text-decoration-color: #7fbf7f\">│   </span><span style=\"font-weight: bold\">}</span>,\n",
       "<span style=\"color: #7fbf7f; text-decoration-color: #7fbf7f\">│   </span><span style=\"font-weight: bold\">{</span>\n",
       "<span style=\"color: #7fbf7f; text-decoration-color: #7fbf7f\">│   │   </span><span style=\"color: #008000; text-decoration-color: #008000\">'task_id'</span>: <span style=\"color: #008080; text-decoration-color: #008080; font-weight: bold\">3</span>,\n",
       "<span style=\"color: #7fbf7f; text-decoration-color: #7fbf7f\">│   │   </span><span style=\"color: #008000; text-decoration-color: #008000\">'task_name'</span>: <span style=\"color: #008000; text-decoration-color: #008000\">'Vận dụng và Luyện tập'</span>,\n",
       "<span style=\"color: #7fbf7f; text-decoration-color: #7fbf7f\">│   │   </span><span style=\"color: #008000; text-decoration-color: #008000\">'task_description'</span>: <span style=\"color: #008000; text-decoration-color: #008000\">'Giáo viên cung cấp các dạng bài tập đa dạng (nhận biết, tính toán, chứng minh) trên phiếu bài tập có phân hóa. Học sinh làm việc cá nhân hoặc theo cặp. Giáo viên đi lại quan sát, hỗ trợ kịp thời cho học sinh yếu, khuyến khích học sinh khá giỏi thử sức với các bài tập khó hơn hoặc tìm cách giải khác.'</span>,\n",
       "<span style=\"color: #7fbf7f; text-decoration-color: #7fbf7f\">│   │   </span><span style=\"color: #008000; text-decoration-color: #008000\">'estimated_duration'</span>: <span style=\"color: #008080; text-decoration-color: #008080; font-weight: bold\">20</span>,\n",
       "<span style=\"color: #7fbf7f; text-decoration-color: #7fbf7f\">│   │   </span><span style=\"color: #008000; text-decoration-color: #008000\">'status'</span>: <span style=\"color: #008000; text-decoration-color: #008000\">'pending'</span>\n",
       "<span style=\"color: #7fbf7f; text-decoration-color: #7fbf7f\">│   </span><span style=\"font-weight: bold\">}</span>,\n",
       "<span style=\"color: #7fbf7f; text-decoration-color: #7fbf7f\">│   </span><span style=\"font-weight: bold\">{</span>\n",
       "<span style=\"color: #7fbf7f; text-decoration-color: #7fbf7f\">│   │   </span><span style=\"color: #008000; text-decoration-color: #008000\">'task_id'</span>: <span style=\"color: #008080; text-decoration-color: #008080; font-weight: bold\">4</span>,\n",
       "<span style=\"color: #7fbf7f; text-decoration-color: #7fbf7f\">│   │   </span><span style=\"color: #008000; text-decoration-color: #008000\">'task_name'</span>: <span style=\"color: #008000; text-decoration-color: #008000\">'Tổng kết và Mở rộng'</span>,\n",
       "<span style=\"color: #7fbf7f; text-decoration-color: #7fbf7f\">│   │   </span><span style=\"color: #008000; text-decoration-color: #008000\">'task_description'</span>: <span style=\"color: #008000; text-decoration-color: #008000\">'Giáo viên tổ chức cho học sinh cùng nhau tóm tắt các khái niệm, tính chất quan trọng đã học. Giáo viên chốt lại kiến thức, nhấn mạnh các điểm cần lưu ý. Có thể đặt một câu hỏi mở rộng hoặc giao nhiệm vụ về nhà liên quan đến ứng dụng thực tế của đường tròn ngoại tiếp/nội tiếp.'</span>,\n",
       "<span style=\"color: #7fbf7f; text-decoration-color: #7fbf7f\">│   │   </span><span style=\"color: #008000; text-decoration-color: #008000\">'estimated_duration'</span>: <span style=\"color: #008080; text-decoration-color: #008080; font-weight: bold\">10</span>,\n",
       "<span style=\"color: #7fbf7f; text-decoration-color: #7fbf7f\">│   │   </span><span style=\"color: #008000; text-decoration-color: #008000\">'status'</span>: <span style=\"color: #008000; text-decoration-color: #008000\">'pending'</span>\n",
       "<span style=\"color: #7fbf7f; text-decoration-color: #7fbf7f\">│   </span><span style=\"font-weight: bold\">}</span>\n",
       "<span style=\"font-weight: bold\">]</span>\n",
       "</pre>\n"
      ],
      "text/plain": [
       "\u001b[1m[\u001b[0m\n",
       "\u001b[2;32m│   \u001b[0m\u001b[1m{\u001b[0m\n",
       "\u001b[2;32m│   │   \u001b[0m\u001b[32m'task_id'\u001b[0m: \u001b[1;36m0\u001b[0m,\n",
       "\u001b[2;32m│   │   \u001b[0m\u001b[32m'task_name'\u001b[0m: \u001b[32m'Khởi động và Tạo tình huống'\u001b[0m,\n",
       "\u001b[2;32m│   │   \u001b[0m\u001b[32m'task_description'\u001b[0m: \u001b[32m'Giáo viên sử dụng các hình ảnh/vật thể quen thuộc trong đời sống có chứa hình ảnh đường tròn và tam giác \u001b[0m\u001b[32m(\u001b[0m\u001b[32mví dụ: logo, kiến trúc, đồ vật\u001b[0m\u001b[32m)\u001b[0m\u001b[32m, đặt câu hỏi gợi mở để học sinh liên hệ và suy nghĩ về các khái niệm cơ bản, từ đó dẫn dắt đến nhu cầu tìm hiểu về đường tròn ngoại tiếp và nội tiếp.'\u001b[0m,\n",
       "\u001b[2;32m│   │   \u001b[0m\u001b[32m'estimated_duration'\u001b[0m: \u001b[1;36m10\u001b[0m,\n",
       "\u001b[2;32m│   │   \u001b[0m\u001b[32m'status'\u001b[0m: \u001b[32m'pending'\u001b[0m\n",
       "\u001b[2;32m│   \u001b[0m\u001b[1m}\u001b[0m,\n",
       "\u001b[2;32m│   \u001b[0m\u001b[1m{\u001b[0m\n",
       "\u001b[2;32m│   │   \u001b[0m\u001b[32m'task_id'\u001b[0m: \u001b[1;36m1\u001b[0m,\n",
       "\u001b[2;32m│   │   \u001b[0m\u001b[32m'task_name'\u001b[0m: \u001b[32m'Khám phá Đường tròn ngoại tiếp'\u001b[0m,\n",
       "\u001b[2;32m│   │   \u001b[0m\u001b[32m'task_description'\u001b[0m: \u001b[32m'Chia lớp thành các nhóm nhỏ. Phát phiếu học tập có hướng dẫn chi tiết các bước vẽ tam giác, vẽ đường trung trực, xác định giao điểm và vẽ đường tròn đi qua 3 đỉnh. Học sinh thực hành với compa, thước, giấy. Giáo viên quan sát, hỗ trợ nhóm yếu, đặt câu hỏi gợi mở cho nhóm khá giỏi.'\u001b[0m,\n",
       "\u001b[2;32m│   │   \u001b[0m\u001b[32m'estimated_duration'\u001b[0m: \u001b[1;36m25\u001b[0m,\n",
       "\u001b[2;32m│   │   \u001b[0m\u001b[32m'status'\u001b[0m: \u001b[32m'pending'\u001b[0m\n",
       "\u001b[2;32m│   \u001b[0m\u001b[1m}\u001b[0m,\n",
       "\u001b[2;32m│   \u001b[0m\u001b[1m{\u001b[0m\n",
       "\u001b[2;32m│   │   \u001b[0m\u001b[32m'task_id'\u001b[0m: \u001b[1;36m2\u001b[0m,\n",
       "\u001b[2;32m│   │   \u001b[0m\u001b[32m'task_name'\u001b[0m: \u001b[32m'Khám phá Đường tròn nội tiếp'\u001b[0m,\n",
       "\u001b[2;32m│   │   \u001b[0m\u001b[32m'task_description'\u001b[0m: \u001b[32m'Tương tự giai đoạn khám phá đường tròn ngoại tiếp, học sinh thực hành vẽ tam giác, vẽ đường phân giác, xác định giao điểm và vẽ đường tròn tiếp xúc với 3 cạnh. Giáo viên tiếp tục hỗ trợ, khuyến khích học sinh khá giỏi giải thích sâu hơn về tính chất.'\u001b[0m,\n",
       "\u001b[2;32m│   │   \u001b[0m\u001b[32m'estimated_duration'\u001b[0m: \u001b[1;36m25\u001b[0m,\n",
       "\u001b[2;32m│   │   \u001b[0m\u001b[32m'status'\u001b[0m: \u001b[32m'pending'\u001b[0m\n",
       "\u001b[2;32m│   \u001b[0m\u001b[1m}\u001b[0m,\n",
       "\u001b[2;32m│   \u001b[0m\u001b[1m{\u001b[0m\n",
       "\u001b[2;32m│   │   \u001b[0m\u001b[32m'task_id'\u001b[0m: \u001b[1;36m3\u001b[0m,\n",
       "\u001b[2;32m│   │   \u001b[0m\u001b[32m'task_name'\u001b[0m: \u001b[32m'Vận dụng và Luyện tập'\u001b[0m,\n",
       "\u001b[2;32m│   │   \u001b[0m\u001b[32m'task_description'\u001b[0m: \u001b[32m'Giáo viên cung cấp các dạng bài tập đa dạng \u001b[0m\u001b[32m(\u001b[0m\u001b[32mnhận biết, tính toán, chứng minh\u001b[0m\u001b[32m)\u001b[0m\u001b[32m trên phiếu bài tập có phân hóa. Học sinh làm việc cá nhân hoặc theo cặp. Giáo viên đi lại quan sát, hỗ trợ kịp thời cho học sinh yếu, khuyến khích học sinh khá giỏi thử sức với các bài tập khó hơn hoặc tìm cách giải khác.'\u001b[0m,\n",
       "\u001b[2;32m│   │   \u001b[0m\u001b[32m'estimated_duration'\u001b[0m: \u001b[1;36m20\u001b[0m,\n",
       "\u001b[2;32m│   │   \u001b[0m\u001b[32m'status'\u001b[0m: \u001b[32m'pending'\u001b[0m\n",
       "\u001b[2;32m│   \u001b[0m\u001b[1m}\u001b[0m,\n",
       "\u001b[2;32m│   \u001b[0m\u001b[1m{\u001b[0m\n",
       "\u001b[2;32m│   │   \u001b[0m\u001b[32m'task_id'\u001b[0m: \u001b[1;36m4\u001b[0m,\n",
       "\u001b[2;32m│   │   \u001b[0m\u001b[32m'task_name'\u001b[0m: \u001b[32m'Tổng kết và Mở rộng'\u001b[0m,\n",
       "\u001b[2;32m│   │   \u001b[0m\u001b[32m'task_description'\u001b[0m: \u001b[32m'Giáo viên tổ chức cho học sinh cùng nhau tóm tắt các khái niệm, tính chất quan trọng đã học. Giáo viên chốt lại kiến thức, nhấn mạnh các điểm cần lưu ý. Có thể đặt một câu hỏi mở rộng hoặc giao nhiệm vụ về nhà liên quan đến ứng dụng thực tế của đường tròn ngoại tiếp/nội tiếp.'\u001b[0m,\n",
       "\u001b[2;32m│   │   \u001b[0m\u001b[32m'estimated_duration'\u001b[0m: \u001b[1;36m10\u001b[0m,\n",
       "\u001b[2;32m│   │   \u001b[0m\u001b[32m'status'\u001b[0m: \u001b[32m'pending'\u001b[0m\n",
       "\u001b[2;32m│   \u001b[0m\u001b[1m}\u001b[0m\n",
       "\u001b[1m]\u001b[0m\n"
      ]
     },
     "metadata": {},
     "output_type": "display_data"
    },
    {
     "data": {
      "text/html": [
       "<pre style=\"white-space:pre;overflow-x:auto;line-height:normal;font-family:Menlo,'DejaVu Sans Mono',consolas,'Courier New',monospace\">\n",
       "<span style=\"color: #808000; text-decoration-color: #808000; font-weight: bold\">------- Hoàn thành bước: plan_delegator -------</span>\n",
       "</pre>\n"
      ],
      "text/plain": [
       "\n",
       "\u001b[1;33m------- Hoàn thành bước: plan_delegator -------\u001b[0m\n"
      ]
     },
     "metadata": {},
     "output_type": "display_data"
    },
    {
     "data": {
      "text/html": [
       "<pre style=\"white-space:pre;overflow-x:auto;line-height:normal;font-family:Menlo,'DejaVu Sans Mono',consolas,'Courier New',monospace\">\n",
       "<span style=\"color: #008080; text-decoration-color: #008080; font-weight: bold\">&gt;</span> `Router`: Đang kiểm tra nhiệm vụ<span style=\"color: #808000; text-decoration-color: #808000\">...</span>\n",
       "</pre>\n"
      ],
      "text/plain": [
       "\n",
       "\u001b[1;36m>\u001b[0m `Router`: Đang kiểm tra nhiệm vụ\u001b[33m...\u001b[0m\n"
      ]
     },
     "metadata": {},
     "output_type": "display_data"
    },
    {
     "data": {
      "text/html": [
       "<pre style=\"white-space:pre;overflow-x:auto;line-height:normal;font-family:Menlo,'DejaVu Sans Mono',consolas,'Courier New',monospace\">\n",
       "<span style=\"color: #008080; text-decoration-color: #008080; font-weight: bold\">&gt;</span> Nhiệm vụ tiếp theo: <span style=\"color: #008000; text-decoration-color: #008000\">'Khởi động và Tạo tình huống'</span> <span style=\"font-weight: bold\">(</span>ID: <span style=\"color: #008080; text-decoration-color: #008080; font-weight: bold\">0</span><span style=\"font-weight: bold\">)</span>\n",
       "</pre>\n"
      ],
      "text/plain": [
       "\n",
       "\u001b[1;36m>\u001b[0m Nhiệm vụ tiếp theo: \u001b[32m'Khởi động và Tạo tình huống'\u001b[0m \u001b[1m(\u001b[0mID: \u001b[1;36m0\u001b[0m\u001b[1m)\u001b[0m\n"
      ]
     },
     "metadata": {},
     "output_type": "display_data"
    },
    {
     "data": {
      "text/html": [
       "<pre style=\"white-space:pre;overflow-x:auto;line-height:normal;font-family:Menlo,'DejaVu Sans Mono',consolas,'Courier New',monospace\">\n",
       "<span style=\"color: #808000; text-decoration-color: #808000; font-weight: bold\">------- Hoàn thành bước: task_router -------</span>\n",
       "</pre>\n"
      ],
      "text/plain": [
       "\n",
       "\u001b[1;33m------- Hoàn thành bước: task_router -------\u001b[0m\n"
      ]
     },
     "metadata": {},
     "output_type": "display_data"
    },
    {
     "data": {
      "text/html": [
       "<pre style=\"white-space:pre;overflow-x:auto;line-height:normal;font-family:Menlo,'DejaVu Sans Mono',consolas,'Courier New',monospace\">\n",
       "<span style=\"color: #008080; text-decoration-color: #008080; font-weight: bold\">&gt;</span> `Agent: Task Dispatcher` đang giao việc<span style=\"color: #808000; text-decoration-color: #808000\">...</span>\n",
       "</pre>\n"
      ],
      "text/plain": [
       "\n",
       "\u001b[1;36m>\u001b[0m `Agent: Task Dispatcher` đang giao việc\u001b[33m...\u001b[0m\n"
      ]
     },
     "metadata": {},
     "output_type": "display_data"
    },
    {
     "data": {
      "text/html": [
       "<pre style=\"white-space:pre;overflow-x:auto;line-height:normal;font-family:Menlo,'DejaVu Sans Mono',consolas,'Courier New',monospace\">\n",
       "<span style=\"color: #008080; text-decoration-color: #008080; font-weight: bold\">&gt;</span> --- 🚚 `Dispatcher`: Giao nhiệm vụ cho `activity_designer`.\n",
       "</pre>\n"
      ],
      "text/plain": [
       "\n",
       "\u001b[1;36m>\u001b[0m --- 🚚 `Dispatcher`: Giao nhiệm vụ cho `activity_designer`.\n"
      ]
     },
     "metadata": {},
     "output_type": "display_data"
    },
    {
     "data": {
      "text/html": [
       "<pre style=\"white-space:pre;overflow-x:auto;line-height:normal;font-family:Menlo,'DejaVu Sans Mono',consolas,'Courier New',monospace\">\n",
       "<span style=\"color: #808000; text-decoration-color: #808000; font-weight: bold\">------- Hoàn thành bước: task_dispatcher -------</span>\n",
       "</pre>\n"
      ],
      "text/plain": [
       "\n",
       "\u001b[1;33m------- Hoàn thành bước: task_dispatcher -------\u001b[0m\n"
      ]
     },
     "metadata": {},
     "output_type": "display_data"
    },
    {
     "data": {
      "text/html": [
       "<pre style=\"white-space:pre;overflow-x:auto;line-height:normal;font-family:Menlo,'DejaVu Sans Mono',consolas,'Courier New',monospace\">\n",
       "<span style=\"color: #008080; text-decoration-color: #008080; font-weight: bold\">&gt;</span> `Agent: Activity Designer` <span style=\"font-weight: bold\">(</span>v12.<span style=\"color: #008080; text-decoration-color: #008080; font-weight: bold\">0</span><span style=\"font-weight: bold\">)</span> đang tạo nội dung theo kỷ luật<span style=\"color: #808000; text-decoration-color: #808000\">...</span>\n",
       "</pre>\n"
      ],
      "text/plain": [
       "\n",
       "\u001b[1;36m>\u001b[0m `Agent: Activity Designer` \u001b[1m(\u001b[0mv12.\u001b[1;36m0\u001b[0m\u001b[1m)\u001b[0m đang tạo nội dung theo kỷ luật\u001b[33m...\u001b[0m\n"
      ]
     },
     "metadata": {},
     "output_type": "display_data"
    },
    {
     "data": {
      "text/html": [
       "<pre style=\"white-space:pre;overflow-x:auto;line-height:normal;font-family:Menlo,'DejaVu Sans Mono',consolas,'Courier New',monospace\"><span style=\"color: #008000; text-decoration-color: #008000; font-weight: bold\">✔️ Nội dung do Activity Designer tạo ra:</span>\n",
       "</pre>\n"
      ],
      "text/plain": [
       "\u001b[1;32m✔️ Nội dung do Activity Designer tạo ra:\u001b[0m\n"
      ]
     },
     "metadata": {},
     "output_type": "display_data"
    },
    {
     "data": {
      "text/html": [
       "<pre style=\"white-space:pre;overflow-x:auto;line-height:normal;font-family:Menlo,'DejaVu Sans Mono',consolas,'Courier New',monospace\"><span style=\"font-weight: bold\">{</span>\n",
       "<span style=\"color: #7fbf7f; text-decoration-color: #7fbf7f\">│   </span><span style=\"color: #008000; text-decoration-color: #008000\">'activity_name'</span>: <span style=\"color: #008000; text-decoration-color: #008000\">'Khởi động và Tạo tình huống'</span>,\n",
       "<span style=\"color: #7fbf7f; text-decoration-color: #7fbf7f\">│   </span><span style=\"color: #008000; text-decoration-color: #008000\">'duration_minutes'</span>: <span style=\"color: #008080; text-decoration-color: #008080; font-weight: bold\">10</span>,\n",
       "<span style=\"color: #7fbf7f; text-decoration-color: #7fbf7f\">│   </span><span style=\"color: #008000; text-decoration-color: #008000\">'teacher_actions'</span>: <span style=\"font-weight: bold\">[</span>\n",
       "<span style=\"color: #7fbf7f; text-decoration-color: #7fbf7f\">│   │   </span><span style=\"color: #008000; text-decoration-color: #008000\">\"Trình chiếu hình ảnh/video và đưa ra câu hỏi gợi mở chung (ví dụ: 'Hình ảnh/video này gợi cho em cảm xúc gì? Em có suy nghĩ gì về điều này?').\"</span>,\n",
       "<span style=\"color: #7fbf7f; text-decoration-color: #7fbf7f\">│   │   </span><span style=\"color: #008000; text-decoration-color: #008000\">'Hướng dẫn học sinh suy nghĩ cá nhân và thảo luận nhóm theo thời gian quy định.'</span>,\n",
       "<span style=\"color: #7fbf7f; text-decoration-color: #7fbf7f\">│   │   </span><span style=\"color: #008000; text-decoration-color: #008000\">'Quan sát, lắng nghe các nhóm thảo luận và hỗ trợ khi cần thiết (ví dụ: gợi ý câu hỏi, khuyến khích tất cả thành viên tham gia).'</span>,\n",
       "<span style=\"color: #7fbf7f; text-decoration-color: #7fbf7f\">│   │   </span><span style=\"color: #008000; text-decoration-color: #008000\">'Mời đại diện các nhóm chia sẻ và tổng hợp các ý kiến chính.'</span>,\n",
       "<span style=\"color: #7fbf7f; text-decoration-color: #7fbf7f\">│   │   </span><span style=\"color: #008000; text-decoration-color: #008000\">'Dẫn dắt từ các ý kiến của học sinh vào chủ đề bài học mới một cách tự nhiên.'</span>\n",
       "<span style=\"color: #7fbf7f; text-decoration-color: #7fbf7f\">│   </span><span style=\"font-weight: bold\">]</span>,\n",
       "<span style=\"color: #7fbf7f; text-decoration-color: #7fbf7f\">│   </span><span style=\"color: #008000; text-decoration-color: #008000\">'core_component'</span>: <span style=\"color: #008000; text-decoration-color: #008000\">'Giáo viên trình chiếu một hình ảnh hoặc video ngắn (khoảng 1-2 phút) liên quan đến chủ đề bài học sắp tới. Học sinh suy nghĩ cá nhân trong 2 phút về cảm nhận, suy nghĩ đầu tiên của mình về hình ảnh/video đó. Sau đó, học sinh chia sẻ nhanh ý kiến trong nhóm 2-3 người trong 3 phút. Cuối cùng, giáo viên mời 2-3 đại diện nhóm chia sẻ ý kiến nổi bật trước lớp trong 3 phút.'</span>,\n",
       "<span style=\"color: #7fbf7f; text-decoration-color: #7fbf7f\">│   </span><span style=\"color: #008000; text-decoration-color: #008000\">'extension_component'</span>: <span style=\"color: #008000; text-decoration-color: #008000\">'Đối với học sinh hoàn thành nhanh hoặc có ý tưởng sâu sắc, yêu cầu các em đặt một câu hỏi mở rộng liên quan đến hình ảnh/video hoặc đề xuất một giải pháp ban đầu cho vấn đề được gợi mở, chuẩn bị để chia sẻ nếu còn thời gian.'</span>,\n",
       "<span style=\"color: #7fbf7f; text-decoration-color: #7fbf7f\">│   </span><span style=\"color: #008000; text-decoration-color: #008000\">'solution_guide'</span>: <span style=\"color: #008000; text-decoration-color: #008000\">\"Không có 'giải pháp' cụ thể cho hoạt động khởi động này, mục tiêu là kích thích tư duy và tạo tình huống. Giáo viên nên tập trung vào việc lắng nghe và ghi nhận các ý kiến đa dạng của học sinh. Các câu hỏi gợi mở có thể bao gồm: 'Hình ảnh/video này gợi cho em cảm xúc gì?', 'Em có suy nghĩ gì về điều này?', 'Điều này có liên quan gì đến cuộc sống của chúng ta?', 'Theo em, vấn đề này có thể được giải quyết như thế nào?'\"</span>,\n",
       "<span style=\"color: #7fbf7f; text-decoration-color: #7fbf7f\">│   </span><span style=\"color: #008000; text-decoration-color: #008000\">'differentiation'</span>: <span style=\"font-weight: bold\">{</span>\n",
       "<span style=\"color: #7fbf7f; text-decoration-color: #7fbf7f\">│   │   </span><span style=\"color: #008000; text-decoration-color: #008000\">'for_struggling_students'</span>: <span style=\"color: #008000; text-decoration-color: #008000\">\"Cung cấp các câu hỏi gợi ý cụ thể hơn (ví dụ: 'Bạn thấy gì trong hình?', 'Hình ảnh này làm bạn nghĩ đến điều gì trong cuộc sống hàng ngày?'), cho phép các em ghi chú từ khóa thay vì câu hoàn chỉnh, hoặc ghép cặp với bạn học tốt hơn để nhận hỗ trợ và tự tin chia sẻ.\"</span>,\n",
       "<span style=\"color: #7fbf7f; text-decoration-color: #7fbf7f\">│   │   </span><span style=\"color: #008000; text-decoration-color: #008000\">'for_advanced_students'</span>: <span style=\"color: #008000; text-decoration-color: #008000\">'Yêu cầu các em phân tích sâu hơn về nguyên nhân/hậu quả của vấn đề trong hình ảnh/video, hoặc liên hệ với các kiến thức đã học/sự kiện thực tế khác. Khuyến khích các em đặt câu hỏi phản biện hoặc đề xuất một giải pháp ban đầu cho vấn đề được gợi mở.'</span>\n",
       "<span style=\"color: #7fbf7f; text-decoration-color: #7fbf7f\">│   </span><span style=\"font-weight: bold\">}</span>,\n",
       "<span style=\"color: #7fbf7f; text-decoration-color: #7fbf7f\">│   </span><span style=\"color: #008000; text-decoration-color: #008000\">'content_type'</span>: <span style=\"color: #008000; text-decoration-color: #008000\">'Thảo luận nhanh và Chia sẻ'</span>\n",
       "<span style=\"font-weight: bold\">}</span>\n",
       "</pre>\n"
      ],
      "text/plain": [
       "\u001b[1m{\u001b[0m\n",
       "\u001b[2;32m│   \u001b[0m\u001b[32m'activity_name'\u001b[0m: \u001b[32m'Khởi động và Tạo tình huống'\u001b[0m,\n",
       "\u001b[2;32m│   \u001b[0m\u001b[32m'duration_minutes'\u001b[0m: \u001b[1;36m10\u001b[0m,\n",
       "\u001b[2;32m│   \u001b[0m\u001b[32m'teacher_actions'\u001b[0m: \u001b[1m[\u001b[0m\n",
       "\u001b[2;32m│   │   \u001b[0m\u001b[32m\"Trình chiếu hình ảnh/video và đưa ra câu hỏi gợi mở chung \u001b[0m\u001b[32m(\u001b[0m\u001b[32mví dụ: 'Hình ảnh/video này gợi cho em cảm xúc gì? Em có suy nghĩ gì về điều này?'\u001b[0m\u001b[32m)\u001b[0m\u001b[32m.\"\u001b[0m,\n",
       "\u001b[2;32m│   │   \u001b[0m\u001b[32m'Hướng dẫn học sinh suy nghĩ cá nhân và thảo luận nhóm theo thời gian quy định.'\u001b[0m,\n",
       "\u001b[2;32m│   │   \u001b[0m\u001b[32m'Quan sát, lắng nghe các nhóm thảo luận và hỗ trợ khi cần thiết \u001b[0m\u001b[32m(\u001b[0m\u001b[32mví dụ: gợi ý câu hỏi, khuyến khích tất cả thành viên tham gia\u001b[0m\u001b[32m)\u001b[0m\u001b[32m.'\u001b[0m,\n",
       "\u001b[2;32m│   │   \u001b[0m\u001b[32m'Mời đại diện các nhóm chia sẻ và tổng hợp các ý kiến chính.'\u001b[0m,\n",
       "\u001b[2;32m│   │   \u001b[0m\u001b[32m'Dẫn dắt từ các ý kiến của học sinh vào chủ đề bài học mới một cách tự nhiên.'\u001b[0m\n",
       "\u001b[2;32m│   \u001b[0m\u001b[1m]\u001b[0m,\n",
       "\u001b[2;32m│   \u001b[0m\u001b[32m'core_component'\u001b[0m: \u001b[32m'Giáo viên trình chiếu một hình ảnh hoặc video ngắn \u001b[0m\u001b[32m(\u001b[0m\u001b[32mkhoảng 1-2 phút\u001b[0m\u001b[32m)\u001b[0m\u001b[32m liên quan đến chủ đề bài học sắp tới. Học sinh suy nghĩ cá nhân trong 2 phút về cảm nhận, suy nghĩ đầu tiên của mình về hình ảnh/video đó. Sau đó, học sinh chia sẻ nhanh ý kiến trong nhóm 2-3 người trong 3 phút. Cuối cùng, giáo viên mời 2-3 đại diện nhóm chia sẻ ý kiến nổi bật trước lớp trong 3 phút.'\u001b[0m,\n",
       "\u001b[2;32m│   \u001b[0m\u001b[32m'extension_component'\u001b[0m: \u001b[32m'Đối với học sinh hoàn thành nhanh hoặc có ý tưởng sâu sắc, yêu cầu các em đặt một câu hỏi mở rộng liên quan đến hình ảnh/video hoặc đề xuất một giải pháp ban đầu cho vấn đề được gợi mở, chuẩn bị để chia sẻ nếu còn thời gian.'\u001b[0m,\n",
       "\u001b[2;32m│   \u001b[0m\u001b[32m'solution_guide'\u001b[0m: \u001b[32m\"Không có 'giải pháp' cụ thể cho hoạt động khởi động này, mục tiêu là kích thích tư duy và tạo tình huống. Giáo viên nên tập trung vào việc lắng nghe và ghi nhận các ý kiến đa dạng của học sinh. Các câu hỏi gợi mở có thể bao gồm: 'Hình ảnh/video này gợi cho em cảm xúc gì?', 'Em có suy nghĩ gì về điều này?', 'Điều này có liên quan gì đến cuộc sống của chúng ta?', 'Theo em, vấn đề này có thể được giải quyết như thế nào?'\"\u001b[0m,\n",
       "\u001b[2;32m│   \u001b[0m\u001b[32m'differentiation'\u001b[0m: \u001b[1m{\u001b[0m\n",
       "\u001b[2;32m│   │   \u001b[0m\u001b[32m'for_struggling_students'\u001b[0m: \u001b[32m\"Cung cấp các câu hỏi gợi ý cụ thể hơn \u001b[0m\u001b[32m(\u001b[0m\u001b[32mví dụ: 'Bạn thấy gì trong hình?', 'Hình ảnh này làm bạn nghĩ đến điều gì trong cuộc sống hàng ngày?'\u001b[0m\u001b[32m)\u001b[0m\u001b[32m, cho phép các em ghi chú từ khóa thay vì câu hoàn chỉnh, hoặc ghép cặp với bạn học tốt hơn để nhận hỗ trợ và tự tin chia sẻ.\"\u001b[0m,\n",
       "\u001b[2;32m│   │   \u001b[0m\u001b[32m'for_advanced_students'\u001b[0m: \u001b[32m'Yêu cầu các em phân tích sâu hơn về nguyên nhân/hậu quả của vấn đề trong hình ảnh/video, hoặc liên hệ với các kiến thức đã học/sự kiện thực tế khác. Khuyến khích các em đặt câu hỏi phản biện hoặc đề xuất một giải pháp ban đầu cho vấn đề được gợi mở.'\u001b[0m\n",
       "\u001b[2;32m│   \u001b[0m\u001b[1m}\u001b[0m,\n",
       "\u001b[2;32m│   \u001b[0m\u001b[32m'content_type'\u001b[0m: \u001b[32m'Thảo luận nhanh và Chia sẻ'\u001b[0m\n",
       "\u001b[1m}\u001b[0m\n"
      ]
     },
     "metadata": {},
     "output_type": "display_data"
    },
    {
     "data": {
      "text/html": [
       "<pre style=\"white-space:pre;overflow-x:auto;line-height:normal;font-family:Menlo,'DejaVu Sans Mono',consolas,'Courier New',monospace\">\n",
       "<span style=\"color: #808000; text-decoration-color: #808000; font-weight: bold\">------- Hoàn thành bước: activity_designer -------</span>\n",
       "</pre>\n"
      ],
      "text/plain": [
       "\n",
       "\u001b[1;33m------- Hoàn thành bước: activity_designer -------\u001b[0m\n"
      ]
     },
     "metadata": {},
     "output_type": "display_data"
    },
    {
     "data": {
      "text/html": [
       "<pre style=\"white-space:pre;overflow-x:auto;line-height:normal;font-family:Menlo,'DejaVu Sans Mono',consolas,'Courier New',monospace\">\n",
       "<span style=\"color: #008080; text-decoration-color: #008080; font-weight: bold\">&gt;</span> `Agent: Guardian Critic` <span style=\"font-weight: bold\">(</span>v12.<span style=\"color: #008080; text-decoration-color: #008080; font-weight: bold\">1</span> - Cố vấn Thông thái<span style=\"font-weight: bold\">)</span> đang bảo vệ kế hoạch<span style=\"color: #808000; text-decoration-color: #808000\">...</span>\n",
       "</pre>\n"
      ],
      "text/plain": [
       "\n",
       "\u001b[1;36m>\u001b[0m `Agent: Guardian Critic` \u001b[1m(\u001b[0mv12.\u001b[1;36m1\u001b[0m - Cố vấn Thông thái\u001b[1m)\u001b[0m đang bảo vệ kế hoạch\u001b[33m...\u001b[0m\n"
      ]
     },
     "metadata": {},
     "output_type": "display_data"
    },
    {
     "data": {
      "text/html": [
       "<pre style=\"white-space:pre;overflow-x:auto;line-height:normal;font-family:Menlo,'DejaVu Sans Mono',consolas,'Courier New',monospace\"><span style=\"color: #808000; text-decoration-color: #808000; font-weight: bold\">⚠️  GUARDIAN PHẢN BIỆN (có tính xây dựng): Hoạt động này có vẻ hợp lý trên lý thuyết nhưng thời gian thực tế sẽ vượt</span>\n",
       "<span style=\"color: #808000; text-decoration-color: #808000; font-weight: bold\">quá </span><span style=\"color: #808000; text-decoration-color: #808000; font-weight: bold\">10</span><span style=\"color: #808000; text-decoration-color: #808000; font-weight: bold\"> phút. Cụ thể, việc mời </span><span style=\"color: #808000; text-decoration-color: #808000; font-weight: bold\">2</span><span style=\"color: #808000; text-decoration-color: #808000; font-weight: bold\">-</span><span style=\"color: #808000; text-decoration-color: #808000; font-weight: bold\">3</span><span style=\"color: #808000; text-decoration-color: #808000; font-weight: bold\"> nhóm chia sẻ ý kiến và giáo viên tổng hợp, dẫn dắt vào bài mới trong vỏn vẹn </span><span style=\"color: #808000; text-decoration-color: #808000; font-weight: bold\">3</span><span style=\"color: #808000; text-decoration-color: #808000; font-weight: bold\"> </span>\n",
       "<span style=\"color: #808000; text-decoration-color: #808000; font-weight: bold\">phút là không khả thi. Mỗi nhóm cần ít nhất </span><span style=\"color: #808000; text-decoration-color: #808000; font-weight: bold\">1</span><span style=\"color: #808000; text-decoration-color: #808000; font-weight: bold\"> phút để chia sẻ, chưa kể thời gian chuyển tiếp và giáo viên tổng kết.</span>\n",
       "<span style=\"color: #808000; text-decoration-color: #808000; font-weight: bold\">Để đảm bảo hoạt động diễn ra trong </span><span style=\"color: #808000; text-decoration-color: #808000; font-weight: bold\">10</span><span style=\"color: #808000; text-decoration-color: #808000; font-weight: bold\"> phút, hãy giảm số lượng nhóm được mời chia sẻ trước lớp xuống còn </span><span style=\"color: #808000; text-decoration-color: #808000; font-weight: bold\">1</span><span style=\"color: #808000; text-decoration-color: #808000; font-weight: bold\">-</span><span style=\"color: #808000; text-decoration-color: #808000; font-weight: bold\">2</span><span style=\"color: #808000; text-decoration-color: #808000; font-weight: bold\"> nhóm, </span>\n",
       "<span style=\"color: #808000; text-decoration-color: #808000; font-weight: bold\">hoặc rút ngắn thời gian chia sẻ của mỗi nhóm xuống còn tối đa </span><span style=\"color: #808000; text-decoration-color: #808000; font-weight: bold\">1</span><span style=\"color: #808000; text-decoration-color: #808000; font-weight: bold\"> phút, đồng thời tối ưu hóa thời gian giáo viên tổng</span>\n",
       "<span style=\"color: #808000; text-decoration-color: #808000; font-weight: bold\">hợp và dẫn dắt.</span>\n",
       "</pre>\n"
      ],
      "text/plain": [
       "\u001b[1;33m⚠️  GUARDIAN PHẢN BIỆN \u001b[0m\u001b[1;33m(\u001b[0m\u001b[1;33mcó tính xây dựng\u001b[0m\u001b[1;33m)\u001b[0m\u001b[1;33m: Hoạt động này có vẻ hợp lý trên lý thuyết nhưng thời gian thực tế sẽ vượt\u001b[0m\n",
       "\u001b[1;33mquá \u001b[0m\u001b[1;33m10\u001b[0m\u001b[1;33m phút. Cụ thể, việc mời \u001b[0m\u001b[1;33m2\u001b[0m\u001b[1;33m-\u001b[0m\u001b[1;33m3\u001b[0m\u001b[1;33m nhóm chia sẻ ý kiến và giáo viên tổng hợp, dẫn dắt vào bài mới trong vỏn vẹn \u001b[0m\u001b[1;33m3\u001b[0m\u001b[1;33m \u001b[0m\n",
       "\u001b[1;33mphút là không khả thi. Mỗi nhóm cần ít nhất \u001b[0m\u001b[1;33m1\u001b[0m\u001b[1;33m phút để chia sẻ, chưa kể thời gian chuyển tiếp và giáo viên tổng kết.\u001b[0m\n",
       "\u001b[1;33mĐể đảm bảo hoạt động diễn ra trong \u001b[0m\u001b[1;33m10\u001b[0m\u001b[1;33m phút, hãy giảm số lượng nhóm được mời chia sẻ trước lớp xuống còn \u001b[0m\u001b[1;33m1\u001b[0m\u001b[1;33m-\u001b[0m\u001b[1;33m2\u001b[0m\u001b[1;33m nhóm, \u001b[0m\n",
       "\u001b[1;33mhoặc rút ngắn thời gian chia sẻ của mỗi nhóm xuống còn tối đa \u001b[0m\u001b[1;33m1\u001b[0m\u001b[1;33m phút, đồng thời tối ưu hóa thời gian giáo viên tổng\u001b[0m\n",
       "\u001b[1;33mhợp và dẫn dắt.\u001b[0m\n"
      ]
     },
     "metadata": {},
     "output_type": "display_data"
    },
    {
     "data": {
      "text/html": [
       "<pre style=\"white-space:pre;overflow-x:auto;line-height:normal;font-family:Menlo,'DejaVu Sans Mono',consolas,'Courier New',monospace\"><span style=\"color: #808000; text-decoration-color: #808000; font-weight: bold\">⚠️  ROUTER (Validation): Nội dung bị từ chối. Thử lại lần </span><span style=\"color: #808000; text-decoration-color: #808000; font-weight: bold\">1</span><span style=\"color: #808000; text-decoration-color: #808000; font-weight: bold\">/</span><span style=\"color: #808000; text-decoration-color: #808000; font-weight: bold\">2</span><span style=\"color: #808000; text-decoration-color: #808000; font-weight: bold\">.</span>\n",
       "</pre>\n"
      ],
      "text/plain": [
       "\u001b[1;33m⚠️  ROUTER \u001b[0m\u001b[1;33m(\u001b[0m\u001b[1;33mValidation\u001b[0m\u001b[1;33m)\u001b[0m\u001b[1;33m: Nội dung bị từ chối. Thử lại lần \u001b[0m\u001b[1;33m1\u001b[0m\u001b[1;33m/\u001b[0m\u001b[1;33m2\u001b[0m\u001b[1;33m.\u001b[0m\n"
      ]
     },
     "metadata": {},
     "output_type": "display_data"
    },
    {
     "data": {
      "text/html": [
       "<pre style=\"white-space:pre;overflow-x:auto;line-height:normal;font-family:Menlo,'DejaVu Sans Mono',consolas,'Courier New',monospace\">\n",
       "<span style=\"color: #808000; text-decoration-color: #808000; font-weight: bold\">------- Hoàn thành bước: content_validator -------</span>\n",
       "</pre>\n"
      ],
      "text/plain": [
       "\n",
       "\u001b[1;33m------- Hoàn thành bước: content_validator -------\u001b[0m\n"
      ]
     },
     "metadata": {},
     "output_type": "display_data"
    },
    {
     "data": {
      "text/html": [
       "<pre style=\"white-space:pre;overflow-x:auto;line-height:normal;font-family:Menlo,'DejaVu Sans Mono',consolas,'Courier New',monospace\">\n",
       "<span style=\"color: #008080; text-decoration-color: #008080; font-weight: bold\">&gt;</span> `Agent: Task Dispatcher` đang giao việc<span style=\"color: #808000; text-decoration-color: #808000\">...</span>\n",
       "</pre>\n"
      ],
      "text/plain": [
       "\n",
       "\u001b[1;36m>\u001b[0m `Agent: Task Dispatcher` đang giao việc\u001b[33m...\u001b[0m\n"
      ]
     },
     "metadata": {},
     "output_type": "display_data"
    },
    {
     "data": {
      "text/html": [
       "<pre style=\"white-space:pre;overflow-x:auto;line-height:normal;font-family:Menlo,'DejaVu Sans Mono',consolas,'Courier New',monospace\">\n",
       "<span style=\"color: #008080; text-decoration-color: #008080; font-weight: bold\">&gt;</span> --- 🚚 `Dispatcher`: Giao nhiệm vụ cho `theory_synthesizer`.\n",
       "</pre>\n"
      ],
      "text/plain": [
       "\n",
       "\u001b[1;36m>\u001b[0m --- 🚚 `Dispatcher`: Giao nhiệm vụ cho `theory_synthesizer`.\n"
      ]
     },
     "metadata": {},
     "output_type": "display_data"
    },
    {
     "data": {
      "text/html": [
       "<pre style=\"white-space:pre;overflow-x:auto;line-height:normal;font-family:Menlo,'DejaVu Sans Mono',consolas,'Courier New',monospace\">\n",
       "<span style=\"color: #808000; text-decoration-color: #808000; font-weight: bold\">------- Hoàn thành bước: task_dispatcher -------</span>\n",
       "</pre>\n"
      ],
      "text/plain": [
       "\n",
       "\u001b[1;33m------- Hoàn thành bước: task_dispatcher -------\u001b[0m\n"
      ]
     },
     "metadata": {},
     "output_type": "display_data"
    },
    {
     "data": {
      "text/html": [
       "<pre style=\"white-space:pre;overflow-x:auto;line-height:normal;font-family:Menlo,'DejaVu Sans Mono',consolas,'Courier New',monospace\">\n",
       "<span style=\"color: #008080; text-decoration-color: #008080; font-weight: bold\">&gt;</span> `Agent: Theory Synthesizer` <span style=\"font-weight: bold\">(</span>v12.<span style=\"color: #008080; text-decoration-color: #008080; font-weight: bold\">0</span><span style=\"font-weight: bold\">)</span> đang tạo nội dung theo kỷ luật<span style=\"color: #808000; text-decoration-color: #808000\">...</span>\n",
       "</pre>\n"
      ],
      "text/plain": [
       "\n",
       "\u001b[1;36m>\u001b[0m `Agent: Theory Synthesizer` \u001b[1m(\u001b[0mv12.\u001b[1;36m0\u001b[0m\u001b[1m)\u001b[0m đang tạo nội dung theo kỷ luật\u001b[33m...\u001b[0m\n"
      ]
     },
     "metadata": {},
     "output_type": "display_data"
    },
    {
     "data": {
      "text/html": [
       "<pre style=\"white-space:pre;overflow-x:auto;line-height:normal;font-family:Menlo,'DejaVu Sans Mono',consolas,'Courier New',monospace\"><span style=\"color: #008000; text-decoration-color: #008000; font-weight: bold\">✔️ Nội dung do Theory Synthesizer tạo ra:</span>\n",
       "</pre>\n"
      ],
      "text/plain": [
       "\u001b[1;32m✔️ Nội dung do Theory Synthesizer tạo ra:\u001b[0m\n"
      ]
     },
     "metadata": {},
     "output_type": "display_data"
    },
    {
     "data": {
      "text/html": [
       "<pre style=\"white-space:pre;overflow-x:auto;line-height:normal;font-family:Menlo,'DejaVu Sans Mono',consolas,'Courier New',monospace\"><span style=\"font-weight: bold\">{</span>\n",
       "<span style=\"color: #7fbf7f; text-decoration-color: #7fbf7f\">│   </span><span style=\"color: #008000; text-decoration-color: #008000\">'activity_name'</span>: <span style=\"color: #008000; text-decoration-color: #008000\">'Khởi động: \"Bạn nghĩ gì?\"'</span>,\n",
       "<span style=\"color: #7fbf7f; text-decoration-color: #7fbf7f\">│   </span><span style=\"color: #008000; text-decoration-color: #008000\">'duration_minutes'</span>: <span style=\"color: #008080; text-decoration-color: #008080; font-weight: bold\">10</span>,\n",
       "<span style=\"color: #7fbf7f; text-decoration-color: #7fbf7f\">│   </span><span style=\"color: #008000; text-decoration-color: #008000\">'teacher_actions'</span>: <span style=\"font-weight: bold\">[</span>\n",
       "<span style=\"color: #7fbf7f; text-decoration-color: #7fbf7f\">│   │   </span><span style=\"color: #008000; text-decoration-color: #008000\">'Giới thiệu hoạt động và trình bày rõ câu hỏi/tình huống trong 1 phút.'</span>,\n",
       "<span style=\"color: #7fbf7f; text-decoration-color: #7fbf7f\">│   │   </span><span style=\"color: #008000; text-decoration-color: #008000\">'Quan sát, lắng nghe các nhóm thảo luận, sẵn sàng hỗ trợ nếu cần (không can thiệp sâu).'</span>,\n",
       "<span style=\"color: #7fbf7f; text-decoration-color: #7fbf7f\">│   │   </span><span style=\"color: #008000; text-decoration-color: #008000\">'Chọn ngẫu nhiên 1-2 nhóm để chia sẻ, nhắc nhở về giới hạn thời gian (1 phút/nhóm).'</span>,\n",
       "<span style=\"color: #7fbf7f; text-decoration-color: #7fbf7f\">│   │   </span><span style=\"color: #008000; text-decoration-color: #008000\">'Tổng hợp nhanh các ý kiến chính, khen ngợi sự tham gia của học sinh.'</span>,\n",
       "<span style=\"color: #7fbf7f; text-decoration-color: #7fbf7f\">│   │   </span><span style=\"color: #008000; text-decoration-color: #008000\">'Dẫn dắt, kết nối các ý kiến của học sinh với nội dung bài học mới một cách ngắn gọn, súc tích (trong 2-3 phút cuối).'</span>,\n",
       "<span style=\"color: #7fbf7f; text-decoration-color: #7fbf7f\">│   │   </span><span style=\"color: #008000; text-decoration-color: #008000\">'Đảm bảo hoạt động diễn ra đúng 10 phút.'</span>\n",
       "<span style=\"color: #7fbf7f; text-decoration-color: #7fbf7f\">│   </span><span style=\"font-weight: bold\">]</span>,\n",
       "<span style=\"color: #7fbf7f; text-decoration-color: #7fbf7f\">│   </span><span style=\"color: #008000; text-decoration-color: #008000\">'core_component'</span>: <span style=\"color: #008000; text-decoration-color: #008000\">\"Giáo viên trình chiếu một hình ảnh/video ngắn (khoảng 30 giây) hoặc đưa ra một câu hỏi/tình huống gợi mở liên quan đến chủ đề bài học mới. Ví dụ: 'Hãy chia sẻ một hành động nhỏ bạn đã làm để giúp đỡ người khác hoặc cộng đồng trong tuần qua.' hoặc 'Theo bạn, điều gì là quan trọng nhất để xây dựng một cộng đồng vững mạnh?'. Học sinh thảo luận nhóm (3-4 phút) để đưa ra 1-2 ý kiến/hành động cụ thể. Sau đó, giáo viên mời 1-2 nhóm đại diện chia sẻ nhanh (mỗi nhóm tối đa 1 phút).\"</span>,\n",
       "<span style=\"color: #7fbf7f; text-decoration-color: #7fbf7f\">│   </span><span style=\"color: #008000; text-decoration-color: #008000\">'extension_component'</span>: <span style=\"color: #008000; text-decoration-color: #008000\">\"Nếu còn thời gian hoặc có nhóm hoàn thành nhanh, giáo viên có thể đặt thêm câu hỏi phụ: 'Nếu có cơ hội, bạn muốn thực hiện hành động nào lớn hơn để tạo ra sự thay đổi tích cực?' hoặc 'Bạn sẽ làm gì để khuyến khích người khác cùng tham gia?'\"</span>,\n",
       "<span style=\"color: #7fbf7f; text-decoration-color: #7fbf7f\">│   </span><span style=\"color: #008000; text-decoration-color: #008000\">'solution_guide'</span>: <span style=\"color: #008000; text-decoration-color: #008000\">\"Không có 'đáp án đúng' tuyệt đối. Mục tiêu là khơi gợi tư duy và sự liên hệ cá nhân. Giáo viên nên tập trung vào việc tổng hợp các ý tưởng đa dạng và dẫn dắt vào chủ đề bài học một cách tự nhiên. Các câu hỏi gợi mở có thể là: 'Tại sao ý kiến này lại quan trọng?', 'Điều này liên quan gì đến cuộc sống của chúng ta?'\"</span>,\n",
       "<span style=\"color: #7fbf7f; text-decoration-color: #7fbf7f\">│   </span><span style=\"color: #008000; text-decoration-color: #008000\">'differentiation'</span>: <span style=\"font-weight: bold\">{</span>\n",
       "<span style=\"color: #7fbf7f; text-decoration-color: #7fbf7f\">│   │   </span><span style=\"color: #008000; text-decoration-color: #008000\">'for_struggling_students'</span>: <span style=\"color: #008000; text-decoration-color: #008000\">'Giáo viên có thể gợi ý các từ khóa hoặc ví dụ đơn giản hơn để các em dễ hình dung và tham gia thảo luận. Khuyến khích các em chỉ cần nêu một ý tưởng đơn giản nhất mà mình nghĩ đến.'</span>,\n",
       "<span style=\"color: #7fbf7f; text-decoration-color: #7fbf7f\">│   │   </span><span style=\"color: #008000; text-decoration-color: #008000\">'for_advanced_students'</span>: <span style=\"color: #008000; text-decoration-color: #008000\">'Khuyến khích các em không chỉ nêu ý tưởng mà còn giải thích ngắn gọn lý do hoặc đề xuất giải pháp (nếu tình huống cho phép). Có thể yêu cầu các em suy nghĩ về tác động rộng hơn của hành động/ý tưởng đó.'</span>\n",
       "<span style=\"color: #7fbf7f; text-decoration-color: #7fbf7f\">│   </span><span style=\"font-weight: bold\">}</span>,\n",
       "<span style=\"color: #7fbf7f; text-decoration-color: #7fbf7f\">│   </span><span style=\"color: #008000; text-decoration-color: #008000\">'content_type'</span>: <span style=\"color: #008000; text-decoration-color: #008000\">'Thảo luận nhóm và Chia sẻ nhanh'</span>\n",
       "<span style=\"font-weight: bold\">}</span>\n",
       "</pre>\n"
      ],
      "text/plain": [
       "\u001b[1m{\u001b[0m\n",
       "\u001b[2;32m│   \u001b[0m\u001b[32m'activity_name'\u001b[0m: \u001b[32m'Khởi động: \"Bạn nghĩ gì?\"'\u001b[0m,\n",
       "\u001b[2;32m│   \u001b[0m\u001b[32m'duration_minutes'\u001b[0m: \u001b[1;36m10\u001b[0m,\n",
       "\u001b[2;32m│   \u001b[0m\u001b[32m'teacher_actions'\u001b[0m: \u001b[1m[\u001b[0m\n",
       "\u001b[2;32m│   │   \u001b[0m\u001b[32m'Giới thiệu hoạt động và trình bày rõ câu hỏi/tình huống trong 1 phút.'\u001b[0m,\n",
       "\u001b[2;32m│   │   \u001b[0m\u001b[32m'Quan sát, lắng nghe các nhóm thảo luận, sẵn sàng hỗ trợ nếu cần \u001b[0m\u001b[32m(\u001b[0m\u001b[32mkhông can thiệp sâu\u001b[0m\u001b[32m)\u001b[0m\u001b[32m.'\u001b[0m,\n",
       "\u001b[2;32m│   │   \u001b[0m\u001b[32m'Chọn ngẫu nhiên 1-2 nhóm để chia sẻ, nhắc nhở về giới hạn thời gian \u001b[0m\u001b[32m(\u001b[0m\u001b[32m1 phút/nhóm\u001b[0m\u001b[32m)\u001b[0m\u001b[32m.'\u001b[0m,\n",
       "\u001b[2;32m│   │   \u001b[0m\u001b[32m'Tổng hợp nhanh các ý kiến chính, khen ngợi sự tham gia của học sinh.'\u001b[0m,\n",
       "\u001b[2;32m│   │   \u001b[0m\u001b[32m'Dẫn dắt, kết nối các ý kiến của học sinh với nội dung bài học mới một cách ngắn gọn, súc tích \u001b[0m\u001b[32m(\u001b[0m\u001b[32mtrong 2-3 phút cuối\u001b[0m\u001b[32m)\u001b[0m\u001b[32m.'\u001b[0m,\n",
       "\u001b[2;32m│   │   \u001b[0m\u001b[32m'Đảm bảo hoạt động diễn ra đúng 10 phút.'\u001b[0m\n",
       "\u001b[2;32m│   \u001b[0m\u001b[1m]\u001b[0m,\n",
       "\u001b[2;32m│   \u001b[0m\u001b[32m'core_component'\u001b[0m: \u001b[32m\"Giáo viên trình chiếu một hình ảnh/video ngắn \u001b[0m\u001b[32m(\u001b[0m\u001b[32mkhoảng 30 giây\u001b[0m\u001b[32m)\u001b[0m\u001b[32m hoặc đưa ra một câu hỏi/tình huống gợi mở liên quan đến chủ đề bài học mới. Ví dụ: 'Hãy chia sẻ một hành động nhỏ bạn đã làm để giúp đỡ người khác hoặc cộng đồng trong tuần qua.' hoặc 'Theo bạn, điều gì là quan trọng nhất để xây dựng một cộng đồng vững mạnh?'. Học sinh thảo luận nhóm \u001b[0m\u001b[32m(\u001b[0m\u001b[32m3-4 phút\u001b[0m\u001b[32m)\u001b[0m\u001b[32m để đưa ra 1-2 ý kiến/hành động cụ thể. Sau đó, giáo viên mời 1-2 nhóm đại diện chia sẻ nhanh \u001b[0m\u001b[32m(\u001b[0m\u001b[32mmỗi nhóm tối đa 1 phút\u001b[0m\u001b[32m)\u001b[0m\u001b[32m.\"\u001b[0m,\n",
       "\u001b[2;32m│   \u001b[0m\u001b[32m'extension_component'\u001b[0m: \u001b[32m\"Nếu còn thời gian hoặc có nhóm hoàn thành nhanh, giáo viên có thể đặt thêm câu hỏi phụ: 'Nếu có cơ hội, bạn muốn thực hiện hành động nào lớn hơn để tạo ra sự thay đổi tích cực?' hoặc 'Bạn sẽ làm gì để khuyến khích người khác cùng tham gia?'\"\u001b[0m,\n",
       "\u001b[2;32m│   \u001b[0m\u001b[32m'solution_guide'\u001b[0m: \u001b[32m\"Không có 'đáp án đúng' tuyệt đối. Mục tiêu là khơi gợi tư duy và sự liên hệ cá nhân. Giáo viên nên tập trung vào việc tổng hợp các ý tưởng đa dạng và dẫn dắt vào chủ đề bài học một cách tự nhiên. Các câu hỏi gợi mở có thể là: 'Tại sao ý kiến này lại quan trọng?', 'Điều này liên quan gì đến cuộc sống của chúng ta?'\"\u001b[0m,\n",
       "\u001b[2;32m│   \u001b[0m\u001b[32m'differentiation'\u001b[0m: \u001b[1m{\u001b[0m\n",
       "\u001b[2;32m│   │   \u001b[0m\u001b[32m'for_struggling_students'\u001b[0m: \u001b[32m'Giáo viên có thể gợi ý các từ khóa hoặc ví dụ đơn giản hơn để các em dễ hình dung và tham gia thảo luận. Khuyến khích các em chỉ cần nêu một ý tưởng đơn giản nhất mà mình nghĩ đến.'\u001b[0m,\n",
       "\u001b[2;32m│   │   \u001b[0m\u001b[32m'for_advanced_students'\u001b[0m: \u001b[32m'Khuyến khích các em không chỉ nêu ý tưởng mà còn giải thích ngắn gọn lý do hoặc đề xuất giải pháp \u001b[0m\u001b[32m(\u001b[0m\u001b[32mnếu tình huống cho phép\u001b[0m\u001b[32m)\u001b[0m\u001b[32m. Có thể yêu cầu các em suy nghĩ về tác động rộng hơn của hành động/ý tưởng đó.'\u001b[0m\n",
       "\u001b[2;32m│   \u001b[0m\u001b[1m}\u001b[0m,\n",
       "\u001b[2;32m│   \u001b[0m\u001b[32m'content_type'\u001b[0m: \u001b[32m'Thảo luận nhóm và Chia sẻ nhanh'\u001b[0m\n",
       "\u001b[1m}\u001b[0m\n"
      ]
     },
     "metadata": {},
     "output_type": "display_data"
    },
    {
     "data": {
      "text/html": [
       "<pre style=\"white-space:pre;overflow-x:auto;line-height:normal;font-family:Menlo,'DejaVu Sans Mono',consolas,'Courier New',monospace\">\n",
       "<span style=\"color: #808000; text-decoration-color: #808000; font-weight: bold\">------- Hoàn thành bước: theory_synthesizer -------</span>\n",
       "</pre>\n"
      ],
      "text/plain": [
       "\n",
       "\u001b[1;33m------- Hoàn thành bước: theory_synthesizer -------\u001b[0m\n"
      ]
     },
     "metadata": {},
     "output_type": "display_data"
    },
    {
     "data": {
      "text/html": [
       "<pre style=\"white-space:pre;overflow-x:auto;line-height:normal;font-family:Menlo,'DejaVu Sans Mono',consolas,'Courier New',monospace\">\n",
       "<span style=\"color: #008080; text-decoration-color: #008080; font-weight: bold\">&gt;</span> `Agent: Guardian Critic` <span style=\"font-weight: bold\">(</span>v12.<span style=\"color: #008080; text-decoration-color: #008080; font-weight: bold\">1</span> - Cố vấn Thông thái<span style=\"font-weight: bold\">)</span> đang bảo vệ kế hoạch<span style=\"color: #808000; text-decoration-color: #808000\">...</span>\n",
       "</pre>\n"
      ],
      "text/plain": [
       "\n",
       "\u001b[1;36m>\u001b[0m `Agent: Guardian Critic` \u001b[1m(\u001b[0mv12.\u001b[1;36m1\u001b[0m - Cố vấn Thông thái\u001b[1m)\u001b[0m đang bảo vệ kế hoạch\u001b[33m...\u001b[0m\n"
      ]
     },
     "metadata": {},
     "output_type": "display_data"
    },
    {
     "data": {
      "text/html": [
       "<pre style=\"white-space:pre;overflow-x:auto;line-height:normal;font-family:Menlo,'DejaVu Sans Mono',consolas,'Courier New',monospace\"><span style=\"color: #808000; text-decoration-color: #808000; font-weight: bold\">⚠️  GUARDIAN PHẢN BIỆN (có tính xây dựng): Hoạt động này được thiết kế với nhiều bước, và khi cộng tổng thời gian </span>\n",
       "<span style=\"color: #808000; text-decoration-color: #808000; font-weight: bold\">tối thiểu cho mỗi bước (giới thiệu, trình chiếu, thảo luận nhóm, chia sẻ, tổng hợp, kết nối) thì đã vượt quá </span><span style=\"color: #808000; text-decoration-color: #808000; font-weight: bold\">10</span><span style=\"color: #808000; text-decoration-color: #808000; font-weight: bold\"> </span>\n",
       "<span style=\"color: #808000; text-decoration-color: #808000; font-weight: bold\">phút cho phép. Cụ thể, việc thảo luận nhóm </span><span style=\"color: #808000; text-decoration-color: #808000; font-weight: bold\">3</span><span style=\"color: #808000; text-decoration-color: #808000; font-weight: bold\">-</span><span style=\"color: #808000; text-decoration-color: #808000; font-weight: bold\">4</span><span style=\"color: #808000; text-decoration-color: #808000; font-weight: bold\"> phút, sau đó </span><span style=\"color: #808000; text-decoration-color: #808000; font-weight: bold\">1</span><span style=\"color: #808000; text-decoration-color: #808000; font-weight: bold\">-</span><span style=\"color: #808000; text-decoration-color: #808000; font-weight: bold\">2</span><span style=\"color: #808000; text-decoration-color: #808000; font-weight: bold\"> nhóm chia sẻ (tối đa </span><span style=\"color: #808000; text-decoration-color: #808000; font-weight: bold\">2</span><span style=\"color: #808000; text-decoration-color: #808000; font-weight: bold\"> phút), cộng thêm phần giáo </span>\n",
       "<span style=\"color: #808000; text-decoration-color: #808000; font-weight: bold\">viên dẫn dắt kết nối </span><span style=\"color: #808000; text-decoration-color: #808000; font-weight: bold\">2</span><span style=\"color: #808000; text-decoration-color: #808000; font-weight: bold\">-</span><span style=\"color: #808000; text-decoration-color: #808000; font-weight: bold\">3</span><span style=\"color: #808000; text-decoration-color: #808000; font-weight: bold\"> phút sẽ khiến hoạt động kéo dài hơn dự kiến (ước tính khoảng </span><span style=\"color: #808000; text-decoration-color: #808000; font-weight: bold\">11.5</span><span style=\"color: #808000; text-decoration-color: #808000; font-weight: bold\"> phút). Để đảm bảo hoạt </span>\n",
       "<span style=\"color: #808000; text-decoration-color: #808000; font-weight: bold\">động diễn ra trong </span><span style=\"color: #808000; text-decoration-color: #808000; font-weight: bold\">10</span><span style=\"color: #808000; text-decoration-color: #808000; font-weight: bold\"> phút, hãy điều chỉnh lại thời lượng thảo luận nhóm (ví dụ: giảm xuống </span><span style=\"color: #808000; text-decoration-color: #808000; font-weight: bold\">2</span><span style=\"color: #808000; text-decoration-color: #808000; font-weight: bold\">-</span><span style=\"color: #808000; text-decoration-color: #808000; font-weight: bold\">3</span><span style=\"color: #808000; text-decoration-color: #808000; font-weight: bold\"> phút) và/hoặc giới </span>\n",
       "<span style=\"color: #808000; text-decoration-color: #808000; font-weight: bold\">hạn số nhóm chia sẻ (chỉ </span><span style=\"color: #808000; text-decoration-color: #808000; font-weight: bold\">1</span><span style=\"color: #808000; text-decoration-color: #808000; font-weight: bold\"> nhóm) và/hoặc rút gọn phần giáo viên tổng hợp/kết nối (ví dụ: xuống </span><span style=\"color: #808000; text-decoration-color: #808000; font-weight: bold\">1</span><span style=\"color: #808000; text-decoration-color: #808000; font-weight: bold\">-</span><span style=\"color: #808000; text-decoration-color: #808000; font-weight: bold\">2</span><span style=\"color: #808000; text-decoration-color: #808000; font-weight: bold\"> phút).</span>\n",
       "</pre>\n"
      ],
      "text/plain": [
       "\u001b[1;33m⚠️  GUARDIAN PHẢN BIỆN \u001b[0m\u001b[1;33m(\u001b[0m\u001b[1;33mcó tính xây dựng\u001b[0m\u001b[1;33m)\u001b[0m\u001b[1;33m: Hoạt động này được thiết kế với nhiều bước, và khi cộng tổng thời gian \u001b[0m\n",
       "\u001b[1;33mtối thiểu cho mỗi bước \u001b[0m\u001b[1;33m(\u001b[0m\u001b[1;33mgiới thiệu, trình chiếu, thảo luận nhóm, chia sẻ, tổng hợp, kết nối\u001b[0m\u001b[1;33m)\u001b[0m\u001b[1;33m thì đã vượt quá \u001b[0m\u001b[1;33m10\u001b[0m\u001b[1;33m \u001b[0m\n",
       "\u001b[1;33mphút cho phép. Cụ thể, việc thảo luận nhóm \u001b[0m\u001b[1;33m3\u001b[0m\u001b[1;33m-\u001b[0m\u001b[1;33m4\u001b[0m\u001b[1;33m phút, sau đó \u001b[0m\u001b[1;33m1\u001b[0m\u001b[1;33m-\u001b[0m\u001b[1;33m2\u001b[0m\u001b[1;33m nhóm chia sẻ \u001b[0m\u001b[1;33m(\u001b[0m\u001b[1;33mtối đa \u001b[0m\u001b[1;33m2\u001b[0m\u001b[1;33m phút\u001b[0m\u001b[1;33m)\u001b[0m\u001b[1;33m, cộng thêm phần giáo \u001b[0m\n",
       "\u001b[1;33mviên dẫn dắt kết nối \u001b[0m\u001b[1;33m2\u001b[0m\u001b[1;33m-\u001b[0m\u001b[1;33m3\u001b[0m\u001b[1;33m phút sẽ khiến hoạt động kéo dài hơn dự kiến \u001b[0m\u001b[1;33m(\u001b[0m\u001b[1;33mước tính khoảng \u001b[0m\u001b[1;33m11.5\u001b[0m\u001b[1;33m phút\u001b[0m\u001b[1;33m)\u001b[0m\u001b[1;33m. Để đảm bảo hoạt \u001b[0m\n",
       "\u001b[1;33mđộng diễn ra trong \u001b[0m\u001b[1;33m10\u001b[0m\u001b[1;33m phút, hãy điều chỉnh lại thời lượng thảo luận nhóm \u001b[0m\u001b[1;33m(\u001b[0m\u001b[1;33mví dụ: giảm xuống \u001b[0m\u001b[1;33m2\u001b[0m\u001b[1;33m-\u001b[0m\u001b[1;33m3\u001b[0m\u001b[1;33m phút\u001b[0m\u001b[1;33m)\u001b[0m\u001b[1;33m và/hoặc giới \u001b[0m\n",
       "\u001b[1;33mhạn số nhóm chia sẻ \u001b[0m\u001b[1;33m(\u001b[0m\u001b[1;33mchỉ \u001b[0m\u001b[1;33m1\u001b[0m\u001b[1;33m nhóm\u001b[0m\u001b[1;33m)\u001b[0m\u001b[1;33m và/hoặc rút gọn phần giáo viên tổng hợp/kết nối \u001b[0m\u001b[1;33m(\u001b[0m\u001b[1;33mví dụ: xuống \u001b[0m\u001b[1;33m1\u001b[0m\u001b[1;33m-\u001b[0m\u001b[1;33m2\u001b[0m\u001b[1;33m phút\u001b[0m\u001b[1;33m)\u001b[0m\u001b[1;33m.\u001b[0m\n"
      ]
     },
     "metadata": {},
     "output_type": "display_data"
    },
    {
     "data": {
      "text/html": [
       "<pre style=\"white-space:pre;overflow-x:auto;line-height:normal;font-family:Menlo,'DejaVu Sans Mono',consolas,'Courier New',monospace\"><span style=\"color: #808000; text-decoration-color: #808000; font-weight: bold\">⚠️  ROUTER (Validation): Nội dung bị từ chối. Thử lại lần </span><span style=\"color: #808000; text-decoration-color: #808000; font-weight: bold\">1</span><span style=\"color: #808000; text-decoration-color: #808000; font-weight: bold\">/</span><span style=\"color: #808000; text-decoration-color: #808000; font-weight: bold\">2</span><span style=\"color: #808000; text-decoration-color: #808000; font-weight: bold\">.</span>\n",
       "</pre>\n"
      ],
      "text/plain": [
       "\u001b[1;33m⚠️  ROUTER \u001b[0m\u001b[1;33m(\u001b[0m\u001b[1;33mValidation\u001b[0m\u001b[1;33m)\u001b[0m\u001b[1;33m: Nội dung bị từ chối. Thử lại lần \u001b[0m\u001b[1;33m1\u001b[0m\u001b[1;33m/\u001b[0m\u001b[1;33m2\u001b[0m\u001b[1;33m.\u001b[0m\n"
      ]
     },
     "metadata": {},
     "output_type": "display_data"
    },
    {
     "data": {
      "text/html": [
       "<pre style=\"white-space:pre;overflow-x:auto;line-height:normal;font-family:Menlo,'DejaVu Sans Mono',consolas,'Courier New',monospace\">\n",
       "<span style=\"color: #808000; text-decoration-color: #808000; font-weight: bold\">------- Hoàn thành bước: content_validator -------</span>\n",
       "</pre>\n"
      ],
      "text/plain": [
       "\n",
       "\u001b[1;33m------- Hoàn thành bước: content_validator -------\u001b[0m\n"
      ]
     },
     "metadata": {},
     "output_type": "display_data"
    },
    {
     "data": {
      "text/html": [
       "<pre style=\"white-space:pre;overflow-x:auto;line-height:normal;font-family:Menlo,'DejaVu Sans Mono',consolas,'Courier New',monospace\">\n",
       "<span style=\"color: #008080; text-decoration-color: #008080; font-weight: bold\">&gt;</span> `Agent: Task Dispatcher` đang giao việc<span style=\"color: #808000; text-decoration-color: #808000\">...</span>\n",
       "</pre>\n"
      ],
      "text/plain": [
       "\n",
       "\u001b[1;36m>\u001b[0m `Agent: Task Dispatcher` đang giao việc\u001b[33m...\u001b[0m\n"
      ]
     },
     "metadata": {},
     "output_type": "display_data"
    },
    {
     "data": {
      "text/html": [
       "<pre style=\"white-space:pre;overflow-x:auto;line-height:normal;font-family:Menlo,'DejaVu Sans Mono',consolas,'Courier New',monospace\">\n",
       "<span style=\"color: #008080; text-decoration-color: #008080; font-weight: bold\">&gt;</span> --- 🚚 `Dispatcher`: Giao nhiệm vụ cho `activity_designer`.\n",
       "</pre>\n"
      ],
      "text/plain": [
       "\n",
       "\u001b[1;36m>\u001b[0m --- 🚚 `Dispatcher`: Giao nhiệm vụ cho `activity_designer`.\n"
      ]
     },
     "metadata": {},
     "output_type": "display_data"
    },
    {
     "data": {
      "text/html": [
       "<pre style=\"white-space:pre;overflow-x:auto;line-height:normal;font-family:Menlo,'DejaVu Sans Mono',consolas,'Courier New',monospace\">\n",
       "<span style=\"color: #808000; text-decoration-color: #808000; font-weight: bold\">------- Hoàn thành bước: task_dispatcher -------</span>\n",
       "</pre>\n"
      ],
      "text/plain": [
       "\n",
       "\u001b[1;33m------- Hoàn thành bước: task_dispatcher -------\u001b[0m\n"
      ]
     },
     "metadata": {},
     "output_type": "display_data"
    },
    {
     "data": {
      "text/html": [
       "<pre style=\"white-space:pre;overflow-x:auto;line-height:normal;font-family:Menlo,'DejaVu Sans Mono',consolas,'Courier New',monospace\">\n",
       "<span style=\"color: #008080; text-decoration-color: #008080; font-weight: bold\">&gt;</span> `Agent: Activity Designer` <span style=\"font-weight: bold\">(</span>v12.<span style=\"color: #008080; text-decoration-color: #008080; font-weight: bold\">0</span><span style=\"font-weight: bold\">)</span> đang tạo nội dung theo kỷ luật<span style=\"color: #808000; text-decoration-color: #808000\">...</span>\n",
       "</pre>\n"
      ],
      "text/plain": [
       "\n",
       "\u001b[1;36m>\u001b[0m `Agent: Activity Designer` \u001b[1m(\u001b[0mv12.\u001b[1;36m0\u001b[0m\u001b[1m)\u001b[0m đang tạo nội dung theo kỷ luật\u001b[33m...\u001b[0m\n"
      ]
     },
     "metadata": {},
     "output_type": "display_data"
    },
    {
     "data": {
      "text/html": [
       "<pre style=\"white-space:pre;overflow-x:auto;line-height:normal;font-family:Menlo,'DejaVu Sans Mono',consolas,'Courier New',monospace\"><span style=\"color: #008000; text-decoration-color: #008000; font-weight: bold\">✔️ Nội dung do Activity Designer tạo ra:</span>\n",
       "</pre>\n"
      ],
      "text/plain": [
       "\u001b[1;32m✔️ Nội dung do Activity Designer tạo ra:\u001b[0m\n"
      ]
     },
     "metadata": {},
     "output_type": "display_data"
    },
    {
     "data": {
      "text/html": [
       "<pre style=\"white-space:pre;overflow-x:auto;line-height:normal;font-family:Menlo,'DejaVu Sans Mono',consolas,'Courier New',monospace\"><span style=\"font-weight: bold\">{</span>\n",
       "<span style=\"color: #7fbf7f; text-decoration-color: #7fbf7f\">│   </span><span style=\"color: #008000; text-decoration-color: #008000\">'activity_name'</span>: <span style=\"color: #008000; text-decoration-color: #008000\">'Khởi động và Tạo tình huống'</span>,\n",
       "<span style=\"color: #7fbf7f; text-decoration-color: #7fbf7f\">│   </span><span style=\"color: #008000; text-decoration-color: #008000\">'duration_minutes'</span>: <span style=\"color: #008080; text-decoration-color: #008080; font-weight: bold\">10</span>,\n",
       "<span style=\"color: #7fbf7f; text-decoration-color: #7fbf7f\">│   </span><span style=\"color: #008000; text-decoration-color: #008000\">'teacher_actions'</span>: <span style=\"font-weight: bold\">[</span>\n",
       "<span style=\"color: #7fbf7f; text-decoration-color: #7fbf7f\">│   │   </span><span style=\"color: #008000; text-decoration-color: #008000\">'Chuẩn bị sẵn hình ảnh/video/tình huống gây ấn tượng, phù hợp với chủ đề bài học.'</span>,\n",
       "<span style=\"color: #7fbf7f; text-decoration-color: #7fbf7f\">│   │   </span><span style=\"color: #008000; text-decoration-color: #008000\">'Giới thiệu tình huống/hình ảnh/video một cách ngắn gọn, rõ ràng (1.5 phút).'</span>,\n",
       "<span style=\"color: #7fbf7f; text-decoration-color: #7fbf7f\">│   │   </span><span style=\"color: #008000; text-decoration-color: #008000\">\"Đưa ra câu hỏi gợi mở: 'Bạn cảm thấy thế nào khi nhìn thấy/nghe thấy điều này? Vấn đề này có liên quan gì đến cuộc sống của chúng ta?' (0.5 phút).\"</span>,\n",
       "<span style=\"color: #7fbf7f; text-decoration-color: #7fbf7f\">│   │   </span><span style=\"color: #008000; text-decoration-color: #008000\">'Quan sát và hỗ trợ các cặp đôi trong quá trình thảo luận (2 phút).'</span>,\n",
       "<span style=\"color: #7fbf7f; text-decoration-color: #7fbf7f\">│   │   </span><span style=\"color: #008000; text-decoration-color: #008000\">'Mời 1-2 cặp đôi chia sẻ nhanh (2 phút).'</span>,\n",
       "<span style=\"color: #7fbf7f; text-decoration-color: #7fbf7f\">│   │   </span><span style=\"color: #008000; text-decoration-color: #008000\">'Tổng hợp các ý kiến, chốt lại vấn đề và kết nối một cách khéo léo vào nội dung bài học mới, nêu mục tiêu bài học (4 phút).'</span>\n",
       "<span style=\"color: #7fbf7f; text-decoration-color: #7fbf7f\">│   </span><span style=\"font-weight: bold\">]</span>,\n",
       "<span style=\"color: #7fbf7f; text-decoration-color: #7fbf7f\">│   </span><span style=\"color: #008000; text-decoration-color: #008000\">'core_component'</span>: <span style=\"color: #008000; text-decoration-color: #008000\">'Giáo viên trình chiếu một hình ảnh/đoạn video ngắn (khoảng 30 giây) hoặc một câu chuyện/tình huống thực tế gây ấn tượng liên quan đến chủ đề bài học. Học sinh suy nghĩ cá nhân trong 1 phút, sau đó thảo luận nhanh với bạn bên cạnh (thảo luận cặp đôi) trong 2 phút về cảm nhận và suy nghĩ của mình về tình huống/hình ảnh đó. Sau đó, 1-2 cặp đôi sẽ chia sẻ nhanh ý kiến trước lớp.'</span>,\n",
       "<span style=\"color: #7fbf7f; text-decoration-color: #7fbf7f\">│   </span><span style=\"color: #008000; text-decoration-color: #008000\">'extension_component'</span>: <span style=\"color: #008000; text-decoration-color: #008000\">'Nếu còn thời gian, học sinh có thể ghi lại một từ khóa hoặc một câu hỏi lớn mà các em muốn tìm hiểu thêm về chủ đề này vào giấy nhớ và dán lên bảng.'</span>,\n",
       "<span style=\"color: #7fbf7f; text-decoration-color: #7fbf7f\">│   </span><span style=\"color: #008000; text-decoration-color: #008000\">'solution_guide'</span>: <span style=\"color: #008000; text-decoration-color: #008000\">\"Đây là hoạt động khởi động, không có 'đáp án' cụ thể. Hướng dẫn giải là các câu hỏi gợi mở để học sinh bộc lộ cảm xúc, suy nghĩ và kết nối với thực tế. Giáo viên cần linh hoạt trong việc tổng hợp các ý kiến đa dạng của học sinh để dẫn dắt vào bài học một cách tự nhiên nhất.\"</span>,\n",
       "<span style=\"color: #7fbf7f; text-decoration-color: #7fbf7f\">│   </span><span style=\"color: #008000; text-decoration-color: #008000\">'differentiation'</span>: <span style=\"font-weight: bold\">{</span>\n",
       "<span style=\"color: #7fbf7f; text-decoration-color: #7fbf7f\">│   │   </span><span style=\"color: #008000; text-decoration-color: #008000\">'for_struggling_students'</span>: <span style=\"color: #008000; text-decoration-color: #008000\">\"Giáo viên có thể gợi ý các từ khóa hoặc câu hỏi đơn giản hơn như 'Bạn thấy gì?', 'Bạn cảm thấy thế nào?' hoặc cho phép học sinh chỉ cần chia sẻ một ý tưởng/cảm xúc duy nhất. Có thể ghép cặp với học sinh khá hơn để được hỗ trợ.\"</span>,\n",
       "<span style=\"color: #7fbf7f; text-decoration-color: #7fbf7f\">│   │   </span><span style=\"color: #008000; text-decoration-color: #008000\">'for_advanced_students'</span>: <span style=\"color: #008000; text-decoration-color: #008000\">'Khuyến khích học sinh suy nghĩ sâu hơn về nguyên nhân, hậu quả hoặc đề xuất giải pháp ban đầu cho vấn đề được đưa ra. Yêu cầu các em liên hệ với các kiến thức đã học hoặc các sự kiện thời sự.'</span>\n",
       "<span style=\"color: #7fbf7f; text-decoration-color: #7fbf7f\">│   </span><span style=\"font-weight: bold\">}</span>,\n",
       "<span style=\"color: #7fbf7f; text-decoration-color: #7fbf7f\">│   </span><span style=\"color: #008000; text-decoration-color: #008000\">'content_type'</span>: <span style=\"color: #008000; text-decoration-color: #008000\">'Thảo luận cặp đôi và chia sẻ nhanh'</span>\n",
       "<span style=\"font-weight: bold\">}</span>\n",
       "</pre>\n"
      ],
      "text/plain": [
       "\u001b[1m{\u001b[0m\n",
       "\u001b[2;32m│   \u001b[0m\u001b[32m'activity_name'\u001b[0m: \u001b[32m'Khởi động và Tạo tình huống'\u001b[0m,\n",
       "\u001b[2;32m│   \u001b[0m\u001b[32m'duration_minutes'\u001b[0m: \u001b[1;36m10\u001b[0m,\n",
       "\u001b[2;32m│   \u001b[0m\u001b[32m'teacher_actions'\u001b[0m: \u001b[1m[\u001b[0m\n",
       "\u001b[2;32m│   │   \u001b[0m\u001b[32m'Chuẩn bị sẵn hình ảnh/video/tình huống gây ấn tượng, phù hợp với chủ đề bài học.'\u001b[0m,\n",
       "\u001b[2;32m│   │   \u001b[0m\u001b[32m'Giới thiệu tình huống/hình ảnh/video một cách ngắn gọn, rõ ràng \u001b[0m\u001b[32m(\u001b[0m\u001b[32m1.5 phút\u001b[0m\u001b[32m)\u001b[0m\u001b[32m.'\u001b[0m,\n",
       "\u001b[2;32m│   │   \u001b[0m\u001b[32m\"Đưa ra câu hỏi gợi mở: 'Bạn cảm thấy thế nào khi nhìn thấy/nghe thấy điều này? Vấn đề này có liên quan gì đến cuộc sống của chúng ta?' \u001b[0m\u001b[32m(\u001b[0m\u001b[32m0.5 phút\u001b[0m\u001b[32m)\u001b[0m\u001b[32m.\"\u001b[0m,\n",
       "\u001b[2;32m│   │   \u001b[0m\u001b[32m'Quan sát và hỗ trợ các cặp đôi trong quá trình thảo luận \u001b[0m\u001b[32m(\u001b[0m\u001b[32m2 phút\u001b[0m\u001b[32m)\u001b[0m\u001b[32m.'\u001b[0m,\n",
       "\u001b[2;32m│   │   \u001b[0m\u001b[32m'Mời 1-2 cặp đôi chia sẻ nhanh \u001b[0m\u001b[32m(\u001b[0m\u001b[32m2 phút\u001b[0m\u001b[32m)\u001b[0m\u001b[32m.'\u001b[0m,\n",
       "\u001b[2;32m│   │   \u001b[0m\u001b[32m'Tổng hợp các ý kiến, chốt lại vấn đề và kết nối một cách khéo léo vào nội dung bài học mới, nêu mục tiêu bài học \u001b[0m\u001b[32m(\u001b[0m\u001b[32m4 phút\u001b[0m\u001b[32m)\u001b[0m\u001b[32m.'\u001b[0m\n",
       "\u001b[2;32m│   \u001b[0m\u001b[1m]\u001b[0m,\n",
       "\u001b[2;32m│   \u001b[0m\u001b[32m'core_component'\u001b[0m: \u001b[32m'Giáo viên trình chiếu một hình ảnh/đoạn video ngắn \u001b[0m\u001b[32m(\u001b[0m\u001b[32mkhoảng 30 giây\u001b[0m\u001b[32m)\u001b[0m\u001b[32m hoặc một câu chuyện/tình huống thực tế gây ấn tượng liên quan đến chủ đề bài học. Học sinh suy nghĩ cá nhân trong 1 phút, sau đó thảo luận nhanh với bạn bên cạnh \u001b[0m\u001b[32m(\u001b[0m\u001b[32mthảo luận cặp đôi\u001b[0m\u001b[32m)\u001b[0m\u001b[32m trong 2 phút về cảm nhận và suy nghĩ của mình về tình huống/hình ảnh đó. Sau đó, 1-2 cặp đôi sẽ chia sẻ nhanh ý kiến trước lớp.'\u001b[0m,\n",
       "\u001b[2;32m│   \u001b[0m\u001b[32m'extension_component'\u001b[0m: \u001b[32m'Nếu còn thời gian, học sinh có thể ghi lại một từ khóa hoặc một câu hỏi lớn mà các em muốn tìm hiểu thêm về chủ đề này vào giấy nhớ và dán lên bảng.'\u001b[0m,\n",
       "\u001b[2;32m│   \u001b[0m\u001b[32m'solution_guide'\u001b[0m: \u001b[32m\"Đây là hoạt động khởi động, không có 'đáp án' cụ thể. Hướng dẫn giải là các câu hỏi gợi mở để học sinh bộc lộ cảm xúc, suy nghĩ và kết nối với thực tế. Giáo viên cần linh hoạt trong việc tổng hợp các ý kiến đa dạng của học sinh để dẫn dắt vào bài học một cách tự nhiên nhất.\"\u001b[0m,\n",
       "\u001b[2;32m│   \u001b[0m\u001b[32m'differentiation'\u001b[0m: \u001b[1m{\u001b[0m\n",
       "\u001b[2;32m│   │   \u001b[0m\u001b[32m'for_struggling_students'\u001b[0m: \u001b[32m\"Giáo viên có thể gợi ý các từ khóa hoặc câu hỏi đơn giản hơn như 'Bạn thấy gì?', 'Bạn cảm thấy thế nào?' hoặc cho phép học sinh chỉ cần chia sẻ một ý tưởng/cảm xúc duy nhất. Có thể ghép cặp với học sinh khá hơn để được hỗ trợ.\"\u001b[0m,\n",
       "\u001b[2;32m│   │   \u001b[0m\u001b[32m'for_advanced_students'\u001b[0m: \u001b[32m'Khuyến khích học sinh suy nghĩ sâu hơn về nguyên nhân, hậu quả hoặc đề xuất giải pháp ban đầu cho vấn đề được đưa ra. Yêu cầu các em liên hệ với các kiến thức đã học hoặc các sự kiện thời sự.'\u001b[0m\n",
       "\u001b[2;32m│   \u001b[0m\u001b[1m}\u001b[0m,\n",
       "\u001b[2;32m│   \u001b[0m\u001b[32m'content_type'\u001b[0m: \u001b[32m'Thảo luận cặp đôi và chia sẻ nhanh'\u001b[0m\n",
       "\u001b[1m}\u001b[0m\n"
      ]
     },
     "metadata": {},
     "output_type": "display_data"
    },
    {
     "data": {
      "text/html": [
       "<pre style=\"white-space:pre;overflow-x:auto;line-height:normal;font-family:Menlo,'DejaVu Sans Mono',consolas,'Courier New',monospace\">\n",
       "<span style=\"color: #808000; text-decoration-color: #808000; font-weight: bold\">------- Hoàn thành bước: activity_designer -------</span>\n",
       "</pre>\n"
      ],
      "text/plain": [
       "\n",
       "\u001b[1;33m------- Hoàn thành bước: activity_designer -------\u001b[0m\n"
      ]
     },
     "metadata": {},
     "output_type": "display_data"
    },
    {
     "data": {
      "text/html": [
       "<pre style=\"white-space:pre;overflow-x:auto;line-height:normal;font-family:Menlo,'DejaVu Sans Mono',consolas,'Courier New',monospace\">\n",
       "<span style=\"color: #008080; text-decoration-color: #008080; font-weight: bold\">&gt;</span> `Agent: Guardian Critic` <span style=\"font-weight: bold\">(</span>v12.<span style=\"color: #008080; text-decoration-color: #008080; font-weight: bold\">1</span> - Cố vấn Thông thái<span style=\"font-weight: bold\">)</span> đang bảo vệ kế hoạch<span style=\"color: #808000; text-decoration-color: #808000\">...</span>\n",
       "</pre>\n"
      ],
      "text/plain": [
       "\n",
       "\u001b[1;36m>\u001b[0m `Agent: Guardian Critic` \u001b[1m(\u001b[0mv12.\u001b[1;36m1\u001b[0m - Cố vấn Thông thái\u001b[1m)\u001b[0m đang bảo vệ kế hoạch\u001b[33m...\u001b[0m\n"
      ]
     },
     "metadata": {},
     "output_type": "display_data"
    },
    {
     "data": {
      "text/html": [
       "<pre style=\"white-space:pre;overflow-x:auto;line-height:normal;font-family:Menlo,'DejaVu Sans Mono',consolas,'Courier New',monospace\"><span style=\"color: #808000; text-decoration-color: #808000; font-weight: bold\">⚠️  GUARDIAN PHẢN BIỆN (có tính xây dựng): Hoạt động này không khả thi vì tổng thời gian thực hiện các bước (giới </span>\n",
       "<span style=\"color: #808000; text-decoration-color: #808000; font-weight: bold\">thiệu, suy nghĩ cá nhân, thảo luận cặp đôi, chia sẻ và tổng kết) là </span><span style=\"color: #808000; text-decoration-color: #808000; font-weight: bold\">11</span><span style=\"color: #808000; text-decoration-color: #808000; font-weight: bold\"> phút, vượt quá </span><span style=\"color: #808000; text-decoration-color: #808000; font-weight: bold\">1</span><span style=\"color: #808000; text-decoration-color: #808000; font-weight: bold\"> phút so với thời gian cho </span>\n",
       "<span style=\"color: #808000; text-decoration-color: #808000; font-weight: bold\">phép là </span><span style=\"color: #808000; text-decoration-color: #808000; font-weight: bold\">10</span><span style=\"color: #808000; text-decoration-color: #808000; font-weight: bold\"> phút. Hãy giảm thời gian tổng hợp ý kiến và kết nối bài học từ </span><span style=\"color: #808000; text-decoration-color: #808000; font-weight: bold\">4</span><span style=\"color: #808000; text-decoration-color: #808000; font-weight: bold\"> phút xuống còn </span><span style=\"color: #808000; text-decoration-color: #808000; font-weight: bold\">3</span><span style=\"color: #808000; text-decoration-color: #808000; font-weight: bold\"> phút để đảm bảo hoạt </span>\n",
       "<span style=\"color: #808000; text-decoration-color: #808000; font-weight: bold\">động hoàn thành trong </span><span style=\"color: #808000; text-decoration-color: #808000; font-weight: bold\">10</span><span style=\"color: #808000; text-decoration-color: #808000; font-weight: bold\"> phút.</span>\n",
       "</pre>\n"
      ],
      "text/plain": [
       "\u001b[1;33m⚠️  GUARDIAN PHẢN BIỆN \u001b[0m\u001b[1;33m(\u001b[0m\u001b[1;33mcó tính xây dựng\u001b[0m\u001b[1;33m)\u001b[0m\u001b[1;33m: Hoạt động này không khả thi vì tổng thời gian thực hiện các bước \u001b[0m\u001b[1;33m(\u001b[0m\u001b[1;33mgiới \u001b[0m\n",
       "\u001b[1;33mthiệu, suy nghĩ cá nhân, thảo luận cặp đôi, chia sẻ và tổng kết\u001b[0m\u001b[1;33m)\u001b[0m\u001b[1;33m là \u001b[0m\u001b[1;33m11\u001b[0m\u001b[1;33m phút, vượt quá \u001b[0m\u001b[1;33m1\u001b[0m\u001b[1;33m phút so với thời gian cho \u001b[0m\n",
       "\u001b[1;33mphép là \u001b[0m\u001b[1;33m10\u001b[0m\u001b[1;33m phút. Hãy giảm thời gian tổng hợp ý kiến và kết nối bài học từ \u001b[0m\u001b[1;33m4\u001b[0m\u001b[1;33m phút xuống còn \u001b[0m\u001b[1;33m3\u001b[0m\u001b[1;33m phút để đảm bảo hoạt \u001b[0m\n",
       "\u001b[1;33mđộng hoàn thành trong \u001b[0m\u001b[1;33m10\u001b[0m\u001b[1;33m phút.\u001b[0m\n"
      ]
     },
     "metadata": {},
     "output_type": "display_data"
    },
    {
     "data": {
      "text/html": [
       "<pre style=\"white-space:pre;overflow-x:auto;line-height:normal;font-family:Menlo,'DejaVu Sans Mono',consolas,'Courier New',monospace\"><span style=\"color: #808000; text-decoration-color: #808000; font-weight: bold\">⚠️  ROUTER (Validation): Nội dung bị từ chối. Thử lại lần </span><span style=\"color: #808000; text-decoration-color: #808000; font-weight: bold\">1</span><span style=\"color: #808000; text-decoration-color: #808000; font-weight: bold\">/</span><span style=\"color: #808000; text-decoration-color: #808000; font-weight: bold\">2</span><span style=\"color: #808000; text-decoration-color: #808000; font-weight: bold\">.</span>\n",
       "</pre>\n"
      ],
      "text/plain": [
       "\u001b[1;33m⚠️  ROUTER \u001b[0m\u001b[1;33m(\u001b[0m\u001b[1;33mValidation\u001b[0m\u001b[1;33m)\u001b[0m\u001b[1;33m: Nội dung bị từ chối. Thử lại lần \u001b[0m\u001b[1;33m1\u001b[0m\u001b[1;33m/\u001b[0m\u001b[1;33m2\u001b[0m\u001b[1;33m.\u001b[0m\n"
      ]
     },
     "metadata": {},
     "output_type": "display_data"
    },
    {
     "data": {
      "text/html": [
       "<pre style=\"white-space:pre;overflow-x:auto;line-height:normal;font-family:Menlo,'DejaVu Sans Mono',consolas,'Courier New',monospace\">\n",
       "<span style=\"color: #808000; text-decoration-color: #808000; font-weight: bold\">------- Hoàn thành bước: content_validator -------</span>\n",
       "</pre>\n"
      ],
      "text/plain": [
       "\n",
       "\u001b[1;33m------- Hoàn thành bước: content_validator -------\u001b[0m\n"
      ]
     },
     "metadata": {},
     "output_type": "display_data"
    },
    {
     "data": {
      "text/html": [
       "<pre style=\"white-space:pre;overflow-x:auto;line-height:normal;font-family:Menlo,'DejaVu Sans Mono',consolas,'Courier New',monospace\">\n",
       "<span style=\"color: #008080; text-decoration-color: #008080; font-weight: bold\">&gt;</span> `Agent: Task Dispatcher` đang giao việc<span style=\"color: #808000; text-decoration-color: #808000\">...</span>\n",
       "</pre>\n"
      ],
      "text/plain": [
       "\n",
       "\u001b[1;36m>\u001b[0m `Agent: Task Dispatcher` đang giao việc\u001b[33m...\u001b[0m\n"
      ]
     },
     "metadata": {},
     "output_type": "display_data"
    },
    {
     "data": {
      "text/html": [
       "<pre style=\"white-space:pre;overflow-x:auto;line-height:normal;font-family:Menlo,'DejaVu Sans Mono',consolas,'Courier New',monospace\">\n",
       "<span style=\"color: #008080; text-decoration-color: #008080; font-weight: bold\">&gt;</span> --- 🚚 `Dispatcher`: Giao nhiệm vụ cho `assessment_creator`.\n",
       "</pre>\n"
      ],
      "text/plain": [
       "\n",
       "\u001b[1;36m>\u001b[0m --- 🚚 `Dispatcher`: Giao nhiệm vụ cho `assessment_creator`.\n"
      ]
     },
     "metadata": {},
     "output_type": "display_data"
    },
    {
     "data": {
      "text/html": [
       "<pre style=\"white-space:pre;overflow-x:auto;line-height:normal;font-family:Menlo,'DejaVu Sans Mono',consolas,'Courier New',monospace\">\n",
       "<span style=\"color: #808000; text-decoration-color: #808000; font-weight: bold\">------- Hoàn thành bước: task_dispatcher -------</span>\n",
       "</pre>\n"
      ],
      "text/plain": [
       "\n",
       "\u001b[1;33m------- Hoàn thành bước: task_dispatcher -------\u001b[0m\n"
      ]
     },
     "metadata": {},
     "output_type": "display_data"
    },
    {
     "data": {
      "text/html": [
       "<pre style=\"white-space:pre;overflow-x:auto;line-height:normal;font-family:Menlo,'DejaVu Sans Mono',consolas,'Courier New',monospace\">\n",
       "<span style=\"color: #008080; text-decoration-color: #008080; font-weight: bold\">&gt;</span> `Agent: Assessment Creator` <span style=\"font-weight: bold\">(</span>v12.<span style=\"color: #008080; text-decoration-color: #008080; font-weight: bold\">0</span><span style=\"font-weight: bold\">)</span> đang tạo nội dung theo kỷ luật<span style=\"color: #808000; text-decoration-color: #808000\">...</span>\n",
       "</pre>\n"
      ],
      "text/plain": [
       "\n",
       "\u001b[1;36m>\u001b[0m `Agent: Assessment Creator` \u001b[1m(\u001b[0mv12.\u001b[1;36m0\u001b[0m\u001b[1m)\u001b[0m đang tạo nội dung theo kỷ luật\u001b[33m...\u001b[0m\n"
      ]
     },
     "metadata": {},
     "output_type": "display_data"
    },
    {
     "data": {
      "text/html": [
       "<pre style=\"white-space:pre;overflow-x:auto;line-height:normal;font-family:Menlo,'DejaVu Sans Mono',consolas,'Courier New',monospace\"><span style=\"color: #008000; text-decoration-color: #008000; font-weight: bold\">✔️ Nội dung do Assessment Creator tạo ra:</span>\n",
       "</pre>\n"
      ],
      "text/plain": [
       "\u001b[1;32m✔️ Nội dung do Assessment Creator tạo ra:\u001b[0m\n"
      ]
     },
     "metadata": {},
     "output_type": "display_data"
    },
    {
     "data": {
      "text/html": [
       "<pre style=\"white-space:pre;overflow-x:auto;line-height:normal;font-family:Menlo,'DejaVu Sans Mono',consolas,'Courier New',monospace\"><span style=\"font-weight: bold\">{</span>\n",
       "<span style=\"color: #7fbf7f; text-decoration-color: #7fbf7f\">│   </span><span style=\"color: #008000; text-decoration-color: #008000\">'activity_name'</span>: <span style=\"color: #008000; text-decoration-color: #008000\">'Khởi động: Quyết định của bạn'</span>,\n",
       "<span style=\"color: #7fbf7f; text-decoration-color: #7fbf7f\">│   </span><span style=\"color: #008000; text-decoration-color: #008000\">'duration_minutes'</span>: <span style=\"color: #008080; text-decoration-color: #008080; font-weight: bold\">10</span>,\n",
       "<span style=\"color: #7fbf7f; text-decoration-color: #7fbf7f\">│   </span><span style=\"color: #008000; text-decoration-color: #008000\">'teacher_actions'</span>: <span style=\"font-weight: bold\">[</span>\n",
       "<span style=\"color: #7fbf7f; text-decoration-color: #7fbf7f\">│   │   </span><span style=\"color: #008000; text-decoration-color: #008000\">'Giới thiệu hoạt động và nêu rõ câu hỏi cốt lõi (1 phút).'</span>,\n",
       "<span style=\"color: #7fbf7f; text-decoration-color: #7fbf7f\">│   │   </span><span style=\"color: #008000; text-decoration-color: #008000\">'Yêu cầu học sinh suy nghĩ cá nhân và ghi nhanh ý tưởng vào vở (3 phút).'</span>,\n",
       "<span style=\"color: #7fbf7f; text-decoration-color: #7fbf7f\">│   │   </span><span style=\"color: #008000; text-decoration-color: #008000\">'Mời 2-3 học sinh xung phong chia sẻ ngắn gọn ý tưởng của mình (3 phút).'</span>,\n",
       "<span style=\"color: #7fbf7f; text-decoration-color: #7fbf7f\">│   │   </span><span style=\"color: #008000; text-decoration-color: #008000\">'Tổng hợp các ý kiến chính và kết nối với nội dung bài học sắp tới (3 phút).'</span>\n",
       "<span style=\"color: #7fbf7f; text-decoration-color: #7fbf7f\">│   </span><span style=\"font-weight: bold\">]</span>,\n",
       "<span style=\"color: #7fbf7f; text-decoration-color: #7fbf7f\">│   </span><span style=\"color: #008000; text-decoration-color: #008000\">'core_component'</span>: <span style=\"color: #008000; text-decoration-color: #008000\">'Hãy nhớ lại một tình huống trong cuộc sống (học tập, gia đình, bạn bè) mà em đã phải đưa ra một quyết định quan trọng. Em đã quyết định như thế nào và điều gì đã ảnh hưởng đến quyết định đó?'</span>,\n",
       "<span style=\"color: #7fbf7f; text-decoration-color: #7fbf7f\">│   </span><span style=\"color: #008000; text-decoration-color: #008000\">'extension_component'</span>: <span style=\"color: #008000; text-decoration-color: #008000\">'Nếu được quay lại thời điểm đó, em có muốn thay đổi quyết định của mình không? Vì sao?'</span>,\n",
       "<span style=\"color: #7fbf7f; text-decoration-color: #7fbf7f\">│   </span><span style=\"color: #008000; text-decoration-color: #008000\">'answer'</span>: <span style=\"color: #008000; text-decoration-color: #008000\">'Học sinh chia sẻ về một tình huống cụ thể, nêu rõ quyết định và các yếu tố (lý do, cảm xúc, lời khuyên, thông tin...) đã ảnh hưởng đến quyết định đó. Đáp án cần thể hiện khả năng tự nhìn nhận và phân tích.'</span>,\n",
       "<span style=\"color: #7fbf7f; text-decoration-color: #7fbf7f\">│   </span><span style=\"color: #008000; text-decoration-color: #008000\">'solution_guide'</span>: <span style=\"color: #800080; text-decoration-color: #800080; font-style: italic\">None</span>,\n",
       "<span style=\"color: #7fbf7f; text-decoration-color: #7fbf7f\">│   </span><span style=\"color: #008000; text-decoration-color: #008000\">'differentiation'</span>: <span style=\"font-weight: bold\">{</span>\n",
       "<span style=\"color: #7fbf7f; text-decoration-color: #7fbf7f\">│   │   </span><span style=\"color: #008000; text-decoration-color: #008000\">'for_struggling_students'</span>: <span style=\"color: #008000; text-decoration-color: #008000\">'Gợi ý các tình huống đơn giản hơn (ví dụ: chọn món ăn, chọn trò chơi, chọn sách đọc). Khuyến khích các em chỉ cần nêu được quyết định và một lý do đơn giản. Có thể cung cấp từ khóa gợi ý.'</span>,\n",
       "<span style=\"color: #7fbf7f; text-decoration-color: #7fbf7f\">│   │   </span><span style=\"color: #008000; text-decoration-color: #008000\">'for_advanced_students'</span>: <span style=\"color: #008000; text-decoration-color: #008000\">'Yêu cầu các em phân tích sâu hơn về hậu quả của quyết định đó và bài học rút ra. Khuyến khích các em suy nghĩ về các yếu tố bên ngoài và bên trong đã tác động.'</span>\n",
       "<span style=\"color: #7fbf7f; text-decoration-color: #7fbf7f\">│   </span><span style=\"font-weight: bold\">}</span>,\n",
       "<span style=\"color: #7fbf7f; text-decoration-color: #7fbf7f\">│   </span><span style=\"color: #008000; text-decoration-color: #008000\">'content_type'</span>: <span style=\"color: #008000; text-decoration-color: #008000\">'Tự luận'</span>\n",
       "<span style=\"font-weight: bold\">}</span>\n",
       "</pre>\n"
      ],
      "text/plain": [
       "\u001b[1m{\u001b[0m\n",
       "\u001b[2;32m│   \u001b[0m\u001b[32m'activity_name'\u001b[0m: \u001b[32m'Khởi động: Quyết định của bạn'\u001b[0m,\n",
       "\u001b[2;32m│   \u001b[0m\u001b[32m'duration_minutes'\u001b[0m: \u001b[1;36m10\u001b[0m,\n",
       "\u001b[2;32m│   \u001b[0m\u001b[32m'teacher_actions'\u001b[0m: \u001b[1m[\u001b[0m\n",
       "\u001b[2;32m│   │   \u001b[0m\u001b[32m'Giới thiệu hoạt động và nêu rõ câu hỏi cốt lõi \u001b[0m\u001b[32m(\u001b[0m\u001b[32m1 phút\u001b[0m\u001b[32m)\u001b[0m\u001b[32m.'\u001b[0m,\n",
       "\u001b[2;32m│   │   \u001b[0m\u001b[32m'Yêu cầu học sinh suy nghĩ cá nhân và ghi nhanh ý tưởng vào vở \u001b[0m\u001b[32m(\u001b[0m\u001b[32m3 phút\u001b[0m\u001b[32m)\u001b[0m\u001b[32m.'\u001b[0m,\n",
       "\u001b[2;32m│   │   \u001b[0m\u001b[32m'Mời 2-3 học sinh xung phong chia sẻ ngắn gọn ý tưởng của mình \u001b[0m\u001b[32m(\u001b[0m\u001b[32m3 phút\u001b[0m\u001b[32m)\u001b[0m\u001b[32m.'\u001b[0m,\n",
       "\u001b[2;32m│   │   \u001b[0m\u001b[32m'Tổng hợp các ý kiến chính và kết nối với nội dung bài học sắp tới \u001b[0m\u001b[32m(\u001b[0m\u001b[32m3 phút\u001b[0m\u001b[32m)\u001b[0m\u001b[32m.'\u001b[0m\n",
       "\u001b[2;32m│   \u001b[0m\u001b[1m]\u001b[0m,\n",
       "\u001b[2;32m│   \u001b[0m\u001b[32m'core_component'\u001b[0m: \u001b[32m'Hãy nhớ lại một tình huống trong cuộc sống \u001b[0m\u001b[32m(\u001b[0m\u001b[32mhọc tập, gia đình, bạn bè\u001b[0m\u001b[32m)\u001b[0m\u001b[32m mà em đã phải đưa ra một quyết định quan trọng. Em đã quyết định như thế nào và điều gì đã ảnh hưởng đến quyết định đó?'\u001b[0m,\n",
       "\u001b[2;32m│   \u001b[0m\u001b[32m'extension_component'\u001b[0m: \u001b[32m'Nếu được quay lại thời điểm đó, em có muốn thay đổi quyết định của mình không? Vì sao?'\u001b[0m,\n",
       "\u001b[2;32m│   \u001b[0m\u001b[32m'answer'\u001b[0m: \u001b[32m'Học sinh chia sẻ về một tình huống cụ thể, nêu rõ quyết định và các yếu tố \u001b[0m\u001b[32m(\u001b[0m\u001b[32mlý do, cảm xúc, lời khuyên, thông tin...\u001b[0m\u001b[32m)\u001b[0m\u001b[32m đã ảnh hưởng đến quyết định đó. Đáp án cần thể hiện khả năng tự nhìn nhận và phân tích.'\u001b[0m,\n",
       "\u001b[2;32m│   \u001b[0m\u001b[32m'solution_guide'\u001b[0m: \u001b[3;35mNone\u001b[0m,\n",
       "\u001b[2;32m│   \u001b[0m\u001b[32m'differentiation'\u001b[0m: \u001b[1m{\u001b[0m\n",
       "\u001b[2;32m│   │   \u001b[0m\u001b[32m'for_struggling_students'\u001b[0m: \u001b[32m'Gợi ý các tình huống đơn giản hơn \u001b[0m\u001b[32m(\u001b[0m\u001b[32mví dụ: chọn món ăn, chọn trò chơi, chọn sách đọc\u001b[0m\u001b[32m)\u001b[0m\u001b[32m. Khuyến khích các em chỉ cần nêu được quyết định và một lý do đơn giản. Có thể cung cấp từ khóa gợi ý.'\u001b[0m,\n",
       "\u001b[2;32m│   │   \u001b[0m\u001b[32m'for_advanced_students'\u001b[0m: \u001b[32m'Yêu cầu các em phân tích sâu hơn về hậu quả của quyết định đó và bài học rút ra. Khuyến khích các em suy nghĩ về các yếu tố bên ngoài và bên trong đã tác động.'\u001b[0m\n",
       "\u001b[2;32m│   \u001b[0m\u001b[1m}\u001b[0m,\n",
       "\u001b[2;32m│   \u001b[0m\u001b[32m'content_type'\u001b[0m: \u001b[32m'Tự luận'\u001b[0m\n",
       "\u001b[1m}\u001b[0m\n"
      ]
     },
     "metadata": {},
     "output_type": "display_data"
    },
    {
     "data": {
      "text/html": [
       "<pre style=\"white-space:pre;overflow-x:auto;line-height:normal;font-family:Menlo,'DejaVu Sans Mono',consolas,'Courier New',monospace\">\n",
       "<span style=\"color: #808000; text-decoration-color: #808000; font-weight: bold\">------- Hoàn thành bước: assessment_creator -------</span>\n",
       "</pre>\n"
      ],
      "text/plain": [
       "\n",
       "\u001b[1;33m------- Hoàn thành bước: assessment_creator -------\u001b[0m\n"
      ]
     },
     "metadata": {},
     "output_type": "display_data"
    },
    {
     "data": {
      "text/html": [
       "<pre style=\"white-space:pre;overflow-x:auto;line-height:normal;font-family:Menlo,'DejaVu Sans Mono',consolas,'Courier New',monospace\">\n",
       "<span style=\"color: #008080; text-decoration-color: #008080; font-weight: bold\">&gt;</span> `Agent: Guardian Critic` <span style=\"font-weight: bold\">(</span>v12.<span style=\"color: #008080; text-decoration-color: #008080; font-weight: bold\">1</span> - Cố vấn Thông thái<span style=\"font-weight: bold\">)</span> đang bảo vệ kế hoạch<span style=\"color: #808000; text-decoration-color: #808000\">...</span>\n",
       "</pre>\n"
      ],
      "text/plain": [
       "\n",
       "\u001b[1;36m>\u001b[0m `Agent: Guardian Critic` \u001b[1m(\u001b[0mv12.\u001b[1;36m1\u001b[0m - Cố vấn Thông thái\u001b[1m)\u001b[0m đang bảo vệ kế hoạch\u001b[33m...\u001b[0m\n"
      ]
     },
     "metadata": {},
     "output_type": "display_data"
    },
    {
     "data": {
      "text/html": [
       "<pre style=\"white-space:pre;overflow-x:auto;line-height:normal;font-family:Menlo,'DejaVu Sans Mono',consolas,'Courier New',monospace\"><span style=\"color: #808000; text-decoration-color: #808000; font-weight: bold\">⚠️  GUARDIAN PHẢN BIỆN (có tính xây dựng): Hoạt động này có cấu trúc tốt nhưng thời gian phân bổ cho phần suy nghĩ </span>\n",
       "<span style=\"color: #808000; text-decoration-color: #808000; font-weight: bold\">cá nhân của học sinh (</span><span style=\"color: #808000; text-decoration-color: #808000; font-weight: bold\">3</span><span style=\"color: #808000; text-decoration-color: #808000; font-weight: bold\"> phút) là không đủ để các em nhớ lại một </span><span style=\"color: #808000; text-decoration-color: #808000; font-weight: bold\">'quyết định quan trọng'</span><span style=\"color: #808000; text-decoration-color: #808000; font-weight: bold\"> và phân tích sâu </span><span style=\"color: #808000; text-decoration-color: #808000; font-weight: bold\">'điều gì </span>\n",
       "<span style=\"color: #808000; text-decoration-color: #808000; font-weight: bold\">đã ảnh hưởng'</span><span style=\"color: #808000; text-decoration-color: #808000; font-weight: bold\"> đến quyết định đó. Để học sinh có thể thực hiện nhiệm vụ này một cách sâu sắc và chuẩn bị tốt cho </span>\n",
       "<span style=\"color: #808000; text-decoration-color: #808000; font-weight: bold\">phần chia sẻ, cần nhiều thời gian hơn. Điều này có thể khiến học sinh không kịp chuẩn bị hoặc đưa ra câu trả lời </span>\n",
       "<span style=\"color: #808000; text-decoration-color: #808000; font-weight: bold\">hời hợt, ảnh hưởng đến chất lượng phần chia sẻ và mục tiêu khởi động. Hãy giảm độ phức tạp của câu hỏi cốt lõi để </span>\n",
       "<span style=\"color: #808000; text-decoration-color: #808000; font-weight: bold\">học sinh có thể hoàn thành phần suy nghĩ cá nhân trong thời gian ngắn hơn, HOẶC giảm số lượng học sinh chia sẻ để </span>\n",
       "<span style=\"color: #808000; text-decoration-color: #808000; font-weight: bold\">có thể kéo dài thời gian suy nghĩ cá nhân.</span>\n",
       "</pre>\n"
      ],
      "text/plain": [
       "\u001b[1;33m⚠️  GUARDIAN PHẢN BIỆN \u001b[0m\u001b[1;33m(\u001b[0m\u001b[1;33mcó tính xây dựng\u001b[0m\u001b[1;33m)\u001b[0m\u001b[1;33m: Hoạt động này có cấu trúc tốt nhưng thời gian phân bổ cho phần suy nghĩ \u001b[0m\n",
       "\u001b[1;33mcá nhân của học sinh \u001b[0m\u001b[1;33m(\u001b[0m\u001b[1;33m3\u001b[0m\u001b[1;33m phút\u001b[0m\u001b[1;33m)\u001b[0m\u001b[1;33m là không đủ để các em nhớ lại một \u001b[0m\u001b[1;33m'quyết định quan trọng'\u001b[0m\u001b[1;33m và phân tích sâu \u001b[0m\u001b[1;33m'điều gì \u001b[0m\n",
       "\u001b[1;33mđã ảnh hưởng'\u001b[0m\u001b[1;33m đến quyết định đó. Để học sinh có thể thực hiện nhiệm vụ này một cách sâu sắc và chuẩn bị tốt cho \u001b[0m\n",
       "\u001b[1;33mphần chia sẻ, cần nhiều thời gian hơn. Điều này có thể khiến học sinh không kịp chuẩn bị hoặc đưa ra câu trả lời \u001b[0m\n",
       "\u001b[1;33mhời hợt, ảnh hưởng đến chất lượng phần chia sẻ và mục tiêu khởi động. Hãy giảm độ phức tạp của câu hỏi cốt lõi để \u001b[0m\n",
       "\u001b[1;33mhọc sinh có thể hoàn thành phần suy nghĩ cá nhân trong thời gian ngắn hơn, HOẶC giảm số lượng học sinh chia sẻ để \u001b[0m\n",
       "\u001b[1;33mcó thể kéo dài thời gian suy nghĩ cá nhân.\u001b[0m\n"
      ]
     },
     "metadata": {},
     "output_type": "display_data"
    },
    {
     "data": {
      "text/html": [
       "<pre style=\"white-space:pre;overflow-x:auto;line-height:normal;font-family:Menlo,'DejaVu Sans Mono',consolas,'Courier New',monospace\"><span style=\"color: #808000; text-decoration-color: #808000; font-weight: bold\">⚠️  ROUTER (Validation): Nội dung bị từ chối. Thử lại lần </span><span style=\"color: #808000; text-decoration-color: #808000; font-weight: bold\">1</span><span style=\"color: #808000; text-decoration-color: #808000; font-weight: bold\">/</span><span style=\"color: #808000; text-decoration-color: #808000; font-weight: bold\">2</span><span style=\"color: #808000; text-decoration-color: #808000; font-weight: bold\">.</span>\n",
       "</pre>\n"
      ],
      "text/plain": [
       "\u001b[1;33m⚠️  ROUTER \u001b[0m\u001b[1;33m(\u001b[0m\u001b[1;33mValidation\u001b[0m\u001b[1;33m)\u001b[0m\u001b[1;33m: Nội dung bị từ chối. Thử lại lần \u001b[0m\u001b[1;33m1\u001b[0m\u001b[1;33m/\u001b[0m\u001b[1;33m2\u001b[0m\u001b[1;33m.\u001b[0m\n"
      ]
     },
     "metadata": {},
     "output_type": "display_data"
    },
    {
     "data": {
      "text/html": [
       "<pre style=\"white-space:pre;overflow-x:auto;line-height:normal;font-family:Menlo,'DejaVu Sans Mono',consolas,'Courier New',monospace\">\n",
       "<span style=\"color: #808000; text-decoration-color: #808000; font-weight: bold\">------- Hoàn thành bước: content_validator -------</span>\n",
       "</pre>\n"
      ],
      "text/plain": [
       "\n",
       "\u001b[1;33m------- Hoàn thành bước: content_validator -------\u001b[0m\n"
      ]
     },
     "metadata": {},
     "output_type": "display_data"
    },
    {
     "data": {
      "text/html": [
       "<pre style=\"white-space:pre;overflow-x:auto;line-height:normal;font-family:Menlo,'DejaVu Sans Mono',consolas,'Courier New',monospace\">\n",
       "<span style=\"color: #008080; text-decoration-color: #008080; font-weight: bold\">&gt;</span> `Agent: Task Dispatcher` đang giao việc<span style=\"color: #808000; text-decoration-color: #808000\">...</span>\n",
       "</pre>\n"
      ],
      "text/plain": [
       "\n",
       "\u001b[1;36m>\u001b[0m `Agent: Task Dispatcher` đang giao việc\u001b[33m...\u001b[0m\n"
      ]
     },
     "metadata": {},
     "output_type": "display_data"
    },
    {
     "data": {
      "text/html": [
       "<pre style=\"white-space:pre;overflow-x:auto;line-height:normal;font-family:Menlo,'DejaVu Sans Mono',consolas,'Courier New',monospace\">\n",
       "<span style=\"color: #008080; text-decoration-color: #008080; font-weight: bold\">&gt;</span> --- 🚚 `Dispatcher`: Giao nhiệm vụ cho `activity_designer`.\n",
       "</pre>\n"
      ],
      "text/plain": [
       "\n",
       "\u001b[1;36m>\u001b[0m --- 🚚 `Dispatcher`: Giao nhiệm vụ cho `activity_designer`.\n"
      ]
     },
     "metadata": {},
     "output_type": "display_data"
    },
    {
     "data": {
      "text/html": [
       "<pre style=\"white-space:pre;overflow-x:auto;line-height:normal;font-family:Menlo,'DejaVu Sans Mono',consolas,'Courier New',monospace\">\n",
       "<span style=\"color: #808000; text-decoration-color: #808000; font-weight: bold\">------- Hoàn thành bước: task_dispatcher -------</span>\n",
       "</pre>\n"
      ],
      "text/plain": [
       "\n",
       "\u001b[1;33m------- Hoàn thành bước: task_dispatcher -------\u001b[0m\n"
      ]
     },
     "metadata": {},
     "output_type": "display_data"
    },
    {
     "data": {
      "text/html": [
       "<pre style=\"white-space:pre;overflow-x:auto;line-height:normal;font-family:Menlo,'DejaVu Sans Mono',consolas,'Courier New',monospace\">\n",
       "<span style=\"color: #008080; text-decoration-color: #008080; font-weight: bold\">&gt;</span> `Agent: Activity Designer` <span style=\"font-weight: bold\">(</span>v12.<span style=\"color: #008080; text-decoration-color: #008080; font-weight: bold\">0</span><span style=\"font-weight: bold\">)</span> đang tạo nội dung theo kỷ luật<span style=\"color: #808000; text-decoration-color: #808000\">...</span>\n",
       "</pre>\n"
      ],
      "text/plain": [
       "\n",
       "\u001b[1;36m>\u001b[0m `Agent: Activity Designer` \u001b[1m(\u001b[0mv12.\u001b[1;36m0\u001b[0m\u001b[1m)\u001b[0m đang tạo nội dung theo kỷ luật\u001b[33m...\u001b[0m\n"
      ]
     },
     "metadata": {},
     "output_type": "display_data"
    },
    {
     "data": {
      "text/html": [
       "<pre style=\"white-space:pre;overflow-x:auto;line-height:normal;font-family:Menlo,'DejaVu Sans Mono',consolas,'Courier New',monospace\"><span style=\"color: #008000; text-decoration-color: #008000; font-weight: bold\">✔️ Nội dung do Activity Designer tạo ra:</span>\n",
       "</pre>\n"
      ],
      "text/plain": [
       "\u001b[1;32m✔️ Nội dung do Activity Designer tạo ra:\u001b[0m\n"
      ]
     },
     "metadata": {},
     "output_type": "display_data"
    },
    {
     "data": {
      "text/html": [
       "<pre style=\"white-space:pre;overflow-x:auto;line-height:normal;font-family:Menlo,'DejaVu Sans Mono',consolas,'Courier New',monospace\"><span style=\"font-weight: bold\">{</span>\n",
       "<span style=\"color: #7fbf7f; text-decoration-color: #7fbf7f\">│   </span><span style=\"color: #008000; text-decoration-color: #008000\">'activity_name'</span>: <span style=\"color: #008000; text-decoration-color: #008000\">'Khởi động và Tạo tình huống'</span>,\n",
       "<span style=\"color: #7fbf7f; text-decoration-color: #7fbf7f\">│   </span><span style=\"color: #008000; text-decoration-color: #008000\">'duration_minutes'</span>: <span style=\"color: #008080; text-decoration-color: #008080; font-weight: bold\">10</span>,\n",
       "<span style=\"color: #7fbf7f; text-decoration-color: #7fbf7f\">│   </span><span style=\"color: #008000; text-decoration-color: #008000\">'teacher_actions'</span>: <span style=\"font-weight: bold\">[</span>\n",
       "<span style=\"color: #7fbf7f; text-decoration-color: #7fbf7f\">│   │   </span><span style=\"color: #008000; text-decoration-color: #008000\">'Giới thiệu mục tiêu hoạt động: giúp học sinh làm quen với việc đưa ra lựa chọn và lý do.'</span>,\n",
       "<span style=\"color: #7fbf7f; text-decoration-color: #7fbf7f\">│   │   </span><span style=\"color: #008000; text-decoration-color: #008000\">\"Phát câu hỏi gợi mở: 'Hãy nghĩ về một lựa chọn đơn giản bạn đã đưa ra gần đây và lý do bạn chọn nó.'\"</span>,\n",
       "<span style=\"color: #7fbf7f; text-decoration-color: #7fbf7f\">│   │   </span><span style=\"color: #008000; text-decoration-color: #008000\">'Cho học sinh 3 phút suy nghĩ cá nhân, đi lại quan sát và hỗ trợ nếu cần.'</span>,\n",
       "<span style=\"color: #7fbf7f; text-decoration-color: #7fbf7f\">│   │   </span><span style=\"color: #008000; text-decoration-color: #008000\">'Mời 2-3 học sinh xung phong hoặc chỉ định chia sẻ ngắn gọn (mỗi em khoảng 1 phút).'</span>,\n",
       "<span style=\"color: #7fbf7f; text-decoration-color: #7fbf7f\">│   │   </span><span style=\"color: #008000; text-decoration-color: #008000\">'Lắng nghe, khuyến khích và đặt câu hỏi phụ (nếu có thời gian) để làm rõ.'</span>,\n",
       "<span style=\"color: #7fbf7f; text-decoration-color: #7fbf7f\">│   │   </span><span style=\"color: #008000; text-decoration-color: #008000\">'Tổng kết các ý kiến, nhấn mạnh rằng mỗi lựa chọn đều có lý do riêng và kết nối với chủ đề bài học sắp tới (ví dụ: tầm quan trọng của việc đưa ra quyết định có cân nhắc).'</span>\n",
       "<span style=\"color: #7fbf7f; text-decoration-color: #7fbf7f\">│   </span><span style=\"font-weight: bold\">]</span>,\n",
       "<span style=\"color: #7fbf7f; text-decoration-color: #7fbf7f\">│   </span><span style=\"color: #008000; text-decoration-color: #008000\">'core_component'</span>: <span style=\"color: #008000; text-decoration-color: #008000\">'Học sinh suy nghĩ cá nhân trong 3 phút về một lựa chọn đơn giản mà các em đã đưa ra gần đây (ví dụ: chọn món ăn cho bữa trưa, chọn màu sắc cho đồ dùng học tập, chọn trò chơi để giải trí). Sau đó, các em chuẩn bị chia sẻ ngắn gọn về lựa chọn đó và lý do tại sao các em lại đưa ra lựa chọn đó. Giáo viên sẽ mời 2-3 học sinh chia sẻ trước lớp.'</span>,\n",
       "<span style=\"color: #7fbf7f; text-decoration-color: #7fbf7f\">│   </span><span style=\"color: #008000; text-decoration-color: #008000\">'extension_component'</span>: <span style=\"color: #008000; text-decoration-color: #008000\">'Nếu còn thời gian hoặc đối với học sinh hoàn thành nhanh: Yêu cầu các em ghi lại thêm 1-2 lựa chọn đơn giản khác mà các em đã đưa ra trong ngày và lý do của chúng vào vở nháp. Hoặc, thảo luận nhanh với bạn bên cạnh về một lựa chọn thú vị mà bạn của mình đã chia sẻ.'</span>,\n",
       "<span style=\"color: #7fbf7f; text-decoration-color: #7fbf7f\">│   </span><span style=\"color: #008000; text-decoration-color: #008000\">'solution_guide'</span>: <span style=\"color: #008000; text-decoration-color: #008000\">\"Các câu hỏi gợi mở cho học sinh khi chia sẻ: 'Bạn đã chọn gì?', 'Tại sao bạn lại chọn điều đó?', 'Lựa chọn đó có ý nghĩa gì với bạn?'\"</span>,\n",
       "<span style=\"color: #7fbf7f; text-decoration-color: #7fbf7f\">│   </span><span style=\"color: #008000; text-decoration-color: #008000\">'differentiation'</span>: <span style=\"font-weight: bold\">{</span>\n",
       "<span style=\"color: #7fbf7f; text-decoration-color: #7fbf7f\">│   │   </span><span style=\"color: #008000; text-decoration-color: #008000\">'for_struggling_students'</span>: <span style=\"color: #008000; text-decoration-color: #008000\">\"Đối với học sinh gặp khó khăn: Giáo viên có thể gợi ý các ví dụ cụ thể hơn (ví dụ: 'Bạn chọn bút màu gì?', 'Bạn chọn ngồi cạnh ai?'). Khuyến khích các em chỉ cần nêu lựa chọn và một lý do đơn giản nhất. Có thể cho các em thảo luận nhanh với bạn bên cạnh trong 30 giây trước khi chia sẻ để củng cố ý tưởng.\"</span>,\n",
       "<span style=\"color: #7fbf7f; text-decoration-color: #7fbf7f\">│   │   </span><span style=\"color: #008000; text-decoration-color: #008000\">'for_advanced_students'</span>: <span style=\"color: #008000; text-decoration-color: #008000\">\"Đối với học sinh khá giỏi: Khuyến khích các em suy nghĩ về một lựa chọn có thể có nhiều hơn một lý do hoặc một lựa chọn mà các em đã phải cân nhắc giữa các phương án. Yêu cầu các em thử nghĩ xem 'điều gì' hoặc 'ai' đã ảnh hưởng đến lựa chọn đó (ví dụ: lời khuyên của bạn, quảng cáo, sở thích cá nhân).\"</span>\n",
       "<span style=\"color: #7fbf7f; text-decoration-color: #7fbf7f\">│   </span><span style=\"font-weight: bold\">}</span>,\n",
       "<span style=\"color: #7fbf7f; text-decoration-color: #7fbf7f\">│   </span><span style=\"color: #008000; text-decoration-color: #008000\">'content_type'</span>: <span style=\"color: #008000; text-decoration-color: #008000\">'Hoạt động cá nhân và chia sẻ'</span>\n",
       "<span style=\"font-weight: bold\">}</span>\n",
       "</pre>\n"
      ],
      "text/plain": [
       "\u001b[1m{\u001b[0m\n",
       "\u001b[2;32m│   \u001b[0m\u001b[32m'activity_name'\u001b[0m: \u001b[32m'Khởi động và Tạo tình huống'\u001b[0m,\n",
       "\u001b[2;32m│   \u001b[0m\u001b[32m'duration_minutes'\u001b[0m: \u001b[1;36m10\u001b[0m,\n",
       "\u001b[2;32m│   \u001b[0m\u001b[32m'teacher_actions'\u001b[0m: \u001b[1m[\u001b[0m\n",
       "\u001b[2;32m│   │   \u001b[0m\u001b[32m'Giới thiệu mục tiêu hoạt động: giúp học sinh làm quen với việc đưa ra lựa chọn và lý do.'\u001b[0m,\n",
       "\u001b[2;32m│   │   \u001b[0m\u001b[32m\"Phát câu hỏi gợi mở: 'Hãy nghĩ về một lựa chọn đơn giản bạn đã đưa ra gần đây và lý do bạn chọn nó.'\"\u001b[0m,\n",
       "\u001b[2;32m│   │   \u001b[0m\u001b[32m'Cho học sinh 3 phút suy nghĩ cá nhân, đi lại quan sát và hỗ trợ nếu cần.'\u001b[0m,\n",
       "\u001b[2;32m│   │   \u001b[0m\u001b[32m'Mời 2-3 học sinh xung phong hoặc chỉ định chia sẻ ngắn gọn \u001b[0m\u001b[32m(\u001b[0m\u001b[32mmỗi em khoảng 1 phút\u001b[0m\u001b[32m)\u001b[0m\u001b[32m.'\u001b[0m,\n",
       "\u001b[2;32m│   │   \u001b[0m\u001b[32m'Lắng nghe, khuyến khích và đặt câu hỏi phụ \u001b[0m\u001b[32m(\u001b[0m\u001b[32mnếu có thời gian\u001b[0m\u001b[32m)\u001b[0m\u001b[32m để làm rõ.'\u001b[0m,\n",
       "\u001b[2;32m│   │   \u001b[0m\u001b[32m'Tổng kết các ý kiến, nhấn mạnh rằng mỗi lựa chọn đều có lý do riêng và kết nối với chủ đề bài học sắp tới \u001b[0m\u001b[32m(\u001b[0m\u001b[32mví dụ: tầm quan trọng của việc đưa ra quyết định có cân nhắc\u001b[0m\u001b[32m)\u001b[0m\u001b[32m.'\u001b[0m\n",
       "\u001b[2;32m│   \u001b[0m\u001b[1m]\u001b[0m,\n",
       "\u001b[2;32m│   \u001b[0m\u001b[32m'core_component'\u001b[0m: \u001b[32m'Học sinh suy nghĩ cá nhân trong 3 phút về một lựa chọn đơn giản mà các em đã đưa ra gần đây \u001b[0m\u001b[32m(\u001b[0m\u001b[32mví dụ: chọn món ăn cho bữa trưa, chọn màu sắc cho đồ dùng học tập, chọn trò chơi để giải trí\u001b[0m\u001b[32m)\u001b[0m\u001b[32m. Sau đó, các em chuẩn bị chia sẻ ngắn gọn về lựa chọn đó và lý do tại sao các em lại đưa ra lựa chọn đó. Giáo viên sẽ mời 2-3 học sinh chia sẻ trước lớp.'\u001b[0m,\n",
       "\u001b[2;32m│   \u001b[0m\u001b[32m'extension_component'\u001b[0m: \u001b[32m'Nếu còn thời gian hoặc đối với học sinh hoàn thành nhanh: Yêu cầu các em ghi lại thêm 1-2 lựa chọn đơn giản khác mà các em đã đưa ra trong ngày và lý do của chúng vào vở nháp. Hoặc, thảo luận nhanh với bạn bên cạnh về một lựa chọn thú vị mà bạn của mình đã chia sẻ.'\u001b[0m,\n",
       "\u001b[2;32m│   \u001b[0m\u001b[32m'solution_guide'\u001b[0m: \u001b[32m\"Các câu hỏi gợi mở cho học sinh khi chia sẻ: 'Bạn đã chọn gì?', 'Tại sao bạn lại chọn điều đó?', 'Lựa chọn đó có ý nghĩa gì với bạn?'\"\u001b[0m,\n",
       "\u001b[2;32m│   \u001b[0m\u001b[32m'differentiation'\u001b[0m: \u001b[1m{\u001b[0m\n",
       "\u001b[2;32m│   │   \u001b[0m\u001b[32m'for_struggling_students'\u001b[0m: \u001b[32m\"Đối với học sinh gặp khó khăn: Giáo viên có thể gợi ý các ví dụ cụ thể hơn \u001b[0m\u001b[32m(\u001b[0m\u001b[32mví dụ: 'Bạn chọn bút màu gì?', 'Bạn chọn ngồi cạnh ai?'\u001b[0m\u001b[32m)\u001b[0m\u001b[32m. Khuyến khích các em chỉ cần nêu lựa chọn và một lý do đơn giản nhất. Có thể cho các em thảo luận nhanh với bạn bên cạnh trong 30 giây trước khi chia sẻ để củng cố ý tưởng.\"\u001b[0m,\n",
       "\u001b[2;32m│   │   \u001b[0m\u001b[32m'for_advanced_students'\u001b[0m: \u001b[32m\"Đối với học sinh khá giỏi: Khuyến khích các em suy nghĩ về một lựa chọn có thể có nhiều hơn một lý do hoặc một lựa chọn mà các em đã phải cân nhắc giữa các phương án. Yêu cầu các em thử nghĩ xem 'điều gì' hoặc 'ai' đã ảnh hưởng đến lựa chọn đó \u001b[0m\u001b[32m(\u001b[0m\u001b[32mví dụ: lời khuyên của bạn, quảng cáo, sở thích cá nhân\u001b[0m\u001b[32m)\u001b[0m\u001b[32m.\"\u001b[0m\n",
       "\u001b[2;32m│   \u001b[0m\u001b[1m}\u001b[0m,\n",
       "\u001b[2;32m│   \u001b[0m\u001b[32m'content_type'\u001b[0m: \u001b[32m'Hoạt động cá nhân và chia sẻ'\u001b[0m\n",
       "\u001b[1m}\u001b[0m\n"
      ]
     },
     "metadata": {},
     "output_type": "display_data"
    },
    {
     "data": {
      "text/html": [
       "<pre style=\"white-space:pre;overflow-x:auto;line-height:normal;font-family:Menlo,'DejaVu Sans Mono',consolas,'Courier New',monospace\">\n",
       "<span style=\"color: #808000; text-decoration-color: #808000; font-weight: bold\">------- Hoàn thành bước: activity_designer -------</span>\n",
       "</pre>\n"
      ],
      "text/plain": [
       "\n",
       "\u001b[1;33m------- Hoàn thành bước: activity_designer -------\u001b[0m\n"
      ]
     },
     "metadata": {},
     "output_type": "display_data"
    },
    {
     "data": {
      "text/html": [
       "<pre style=\"white-space:pre;overflow-x:auto;line-height:normal;font-family:Menlo,'DejaVu Sans Mono',consolas,'Courier New',monospace\">\n",
       "<span style=\"color: #008080; text-decoration-color: #008080; font-weight: bold\">&gt;</span> `Agent: Guardian Critic` <span style=\"font-weight: bold\">(</span>v12.<span style=\"color: #008080; text-decoration-color: #008080; font-weight: bold\">1</span> - Cố vấn Thông thái<span style=\"font-weight: bold\">)</span> đang bảo vệ kế hoạch<span style=\"color: #808000; text-decoration-color: #808000\">...</span>\n",
       "</pre>\n"
      ],
      "text/plain": [
       "\n",
       "\u001b[1;36m>\u001b[0m `Agent: Guardian Critic` \u001b[1m(\u001b[0mv12.\u001b[1;36m1\u001b[0m - Cố vấn Thông thái\u001b[1m)\u001b[0m đang bảo vệ kế hoạch\u001b[33m...\u001b[0m\n"
      ]
     },
     "metadata": {},
     "output_type": "display_data"
    },
    {
     "data": {
      "text/html": [
       "<pre style=\"white-space:pre;overflow-x:auto;line-height:normal;font-family:Menlo,'DejaVu Sans Mono',consolas,'Courier New',monospace\">\n",
       "<span style=\"color: #008080; text-decoration-color: #008080; font-weight: bold\">&gt;</span> ✔️ GUARDIAN: Nội dung tuân thủ kế hoạch!\n",
       "</pre>\n"
      ],
      "text/plain": [
       "\n",
       "\u001b[1;36m>\u001b[0m ✔️ GUARDIAN: Nội dung tuân thủ kế hoạch!\n"
      ]
     },
     "metadata": {},
     "output_type": "display_data"
    },
    {
     "data": {
      "text/html": [
       "<pre style=\"white-space:pre;overflow-x:auto;line-height:normal;font-family:Menlo,'DejaVu Sans Mono',consolas,'Courier New',monospace\">\n",
       "<span style=\"color: #008080; text-decoration-color: #008080; font-weight: bold\">&gt;</span> ROUTER <span style=\"font-weight: bold\">(</span>Validation<span style=\"font-weight: bold\">)</span>: Nội dung được chấp thuận. Chuyển sang ghi nhận.\n",
       "</pre>\n"
      ],
      "text/plain": [
       "\n",
       "\u001b[1;36m>\u001b[0m ROUTER \u001b[1m(\u001b[0mValidation\u001b[1m)\u001b[0m: Nội dung được chấp thuận. Chuyển sang ghi nhận.\n"
      ]
     },
     "metadata": {},
     "output_type": "display_data"
    },
    {
     "data": {
      "text/html": [
       "<pre style=\"white-space:pre;overflow-x:auto;line-height:normal;font-family:Menlo,'DejaVu Sans Mono',consolas,'Courier New',monospace\">\n",
       "<span style=\"color: #808000; text-decoration-color: #808000; font-weight: bold\">------- Hoàn thành bước: content_validator -------</span>\n",
       "</pre>\n"
      ],
      "text/plain": [
       "\n",
       "\u001b[1;33m------- Hoàn thành bước: content_validator -------\u001b[0m\n"
      ]
     },
     "metadata": {},
     "output_type": "display_data"
    },
    {
     "data": {
      "text/html": [
       "<pre style=\"white-space:pre;overflow-x:auto;line-height:normal;font-family:Menlo,'DejaVu Sans Mono',consolas,'Courier New',monospace\">\n",
       "<span style=\"color: #008080; text-decoration-color: #008080; font-weight: bold\">&gt;</span> `Commiter`: Đang ghi nhận nội dung đã được xác thực<span style=\"color: #808000; text-decoration-color: #808000\">...</span>\n",
       "</pre>\n"
      ],
      "text/plain": [
       "\n",
       "\u001b[1;36m>\u001b[0m `Commiter`: Đang ghi nhận nội dung đã được xác thực\u001b[33m...\u001b[0m\n"
      ]
     },
     "metadata": {},
     "output_type": "display_data"
    },
    {
     "data": {
      "text/html": [
       "<pre style=\"white-space:pre;overflow-x:auto;line-height:normal;font-family:Menlo,'DejaVu Sans Mono',consolas,'Courier New',monospace\">\n",
       "<span style=\"color: #808000; text-decoration-color: #808000; font-weight: bold\">------- Hoàn thành bước: commit_validated_content -------</span>\n",
       "</pre>\n"
      ],
      "text/plain": [
       "\n",
       "\u001b[1;33m------- Hoàn thành bước: commit_validated_content -------\u001b[0m\n"
      ]
     },
     "metadata": {},
     "output_type": "display_data"
    },
    {
     "data": {
      "text/html": [
       "<pre style=\"white-space:pre;overflow-x:auto;line-height:normal;font-family:Menlo,'DejaVu Sans Mono',consolas,'Courier New',monospace\">\n",
       "<span style=\"color: #808000; text-decoration-color: #808000; font-weight: bold\">------- Hoàn thành bước: mark_task_complete -------</span>\n",
       "</pre>\n"
      ],
      "text/plain": [
       "\n",
       "\u001b[1;33m------- Hoàn thành bước: mark_task_complete -------\u001b[0m\n"
      ]
     },
     "metadata": {},
     "output_type": "display_data"
    },
    {
     "data": {
      "text/html": [
       "<pre style=\"white-space:pre;overflow-x:auto;line-height:normal;font-family:Menlo,'DejaVu Sans Mono',consolas,'Courier New',monospace\">\n",
       "<span style=\"color: #808000; text-decoration-color: #808000; font-weight: bold\">------- Hoàn thành bước: delay_node -------</span>\n",
       "</pre>\n"
      ],
      "text/plain": [
       "\n",
       "\u001b[1;33m------- Hoàn thành bước: delay_node -------\u001b[0m\n"
      ]
     },
     "metadata": {},
     "output_type": "display_data"
    },
    {
     "data": {
      "text/html": [
       "<pre style=\"white-space:pre;overflow-x:auto;line-height:normal;font-family:Menlo,'DejaVu Sans Mono',consolas,'Courier New',monospace\">\n",
       "<span style=\"color: #008080; text-decoration-color: #008080; font-weight: bold\">&gt;</span> `Router`: Đang kiểm tra nhiệm vụ<span style=\"color: #808000; text-decoration-color: #808000\">...</span>\n",
       "</pre>\n"
      ],
      "text/plain": [
       "\n",
       "\u001b[1;36m>\u001b[0m `Router`: Đang kiểm tra nhiệm vụ\u001b[33m...\u001b[0m\n"
      ]
     },
     "metadata": {},
     "output_type": "display_data"
    },
    {
     "data": {
      "text/html": [
       "<pre style=\"white-space:pre;overflow-x:auto;line-height:normal;font-family:Menlo,'DejaVu Sans Mono',consolas,'Courier New',monospace\">\n",
       "<span style=\"color: #008080; text-decoration-color: #008080; font-weight: bold\">&gt;</span> Nhiệm vụ tiếp theo: <span style=\"color: #008000; text-decoration-color: #008000\">'Khám phá Đường tròn ngoại tiếp'</span> <span style=\"font-weight: bold\">(</span>ID: <span style=\"color: #008080; text-decoration-color: #008080; font-weight: bold\">1</span><span style=\"font-weight: bold\">)</span>\n",
       "</pre>\n"
      ],
      "text/plain": [
       "\n",
       "\u001b[1;36m>\u001b[0m Nhiệm vụ tiếp theo: \u001b[32m'Khám phá Đường tròn ngoại tiếp'\u001b[0m \u001b[1m(\u001b[0mID: \u001b[1;36m1\u001b[0m\u001b[1m)\u001b[0m\n"
      ]
     },
     "metadata": {},
     "output_type": "display_data"
    },
    {
     "data": {
      "text/html": [
       "<pre style=\"white-space:pre;overflow-x:auto;line-height:normal;font-family:Menlo,'DejaVu Sans Mono',consolas,'Courier New',monospace\">\n",
       "<span style=\"color: #808000; text-decoration-color: #808000; font-weight: bold\">------- Hoàn thành bước: task_router -------</span>\n",
       "</pre>\n"
      ],
      "text/plain": [
       "\n",
       "\u001b[1;33m------- Hoàn thành bước: task_router -------\u001b[0m\n"
      ]
     },
     "metadata": {},
     "output_type": "display_data"
    },
    {
     "data": {
      "text/html": [
       "<pre style=\"white-space:pre;overflow-x:auto;line-height:normal;font-family:Menlo,'DejaVu Sans Mono',consolas,'Courier New',monospace\">\n",
       "<span style=\"color: #008080; text-decoration-color: #008080; font-weight: bold\">&gt;</span> `Agent: Task Dispatcher` đang giao việc<span style=\"color: #808000; text-decoration-color: #808000\">...</span>\n",
       "</pre>\n"
      ],
      "text/plain": [
       "\n",
       "\u001b[1;36m>\u001b[0m `Agent: Task Dispatcher` đang giao việc\u001b[33m...\u001b[0m\n"
      ]
     },
     "metadata": {},
     "output_type": "display_data"
    },
    {
     "data": {
      "text/html": [
       "<pre style=\"white-space:pre;overflow-x:auto;line-height:normal;font-family:Menlo,'DejaVu Sans Mono',consolas,'Courier New',monospace\">\n",
       "<span style=\"color: #008080; text-decoration-color: #008080; font-weight: bold\">&gt;</span> --- 🚚 `Dispatcher`: Giao nhiệm vụ cho `assessment_creator`.\n",
       "</pre>\n"
      ],
      "text/plain": [
       "\n",
       "\u001b[1;36m>\u001b[0m --- 🚚 `Dispatcher`: Giao nhiệm vụ cho `assessment_creator`.\n"
      ]
     },
     "metadata": {},
     "output_type": "display_data"
    },
    {
     "data": {
      "text/html": [
       "<pre style=\"white-space:pre;overflow-x:auto;line-height:normal;font-family:Menlo,'DejaVu Sans Mono',consolas,'Courier New',monospace\">\n",
       "<span style=\"color: #808000; text-decoration-color: #808000; font-weight: bold\">------- Hoàn thành bước: task_dispatcher -------</span>\n",
       "</pre>\n"
      ],
      "text/plain": [
       "\n",
       "\u001b[1;33m------- Hoàn thành bước: task_dispatcher -------\u001b[0m\n"
      ]
     },
     "metadata": {},
     "output_type": "display_data"
    },
    {
     "data": {
      "text/html": [
       "<pre style=\"white-space:pre;overflow-x:auto;line-height:normal;font-family:Menlo,'DejaVu Sans Mono',consolas,'Courier New',monospace\">\n",
       "<span style=\"color: #008080; text-decoration-color: #008080; font-weight: bold\">&gt;</span> `Agent: Assessment Creator` <span style=\"font-weight: bold\">(</span>v12.<span style=\"color: #008080; text-decoration-color: #008080; font-weight: bold\">0</span><span style=\"font-weight: bold\">)</span> đang tạo nội dung theo kỷ luật<span style=\"color: #808000; text-decoration-color: #808000\">...</span>\n",
       "</pre>\n"
      ],
      "text/plain": [
       "\n",
       "\u001b[1;36m>\u001b[0m `Agent: Assessment Creator` \u001b[1m(\u001b[0mv12.\u001b[1;36m0\u001b[0m\u001b[1m)\u001b[0m đang tạo nội dung theo kỷ luật\u001b[33m...\u001b[0m\n"
      ]
     },
     "metadata": {},
     "output_type": "display_data"
    },
    {
     "data": {
      "text/html": [
       "<pre style=\"white-space:pre;overflow-x:auto;line-height:normal;font-family:Menlo,'DejaVu Sans Mono',consolas,'Courier New',monospace\"><span style=\"color: #008000; text-decoration-color: #008000; font-weight: bold\">✔️ Nội dung do Assessment Creator tạo ra:</span>\n",
       "</pre>\n"
      ],
      "text/plain": [
       "\u001b[1;32m✔️ Nội dung do Assessment Creator tạo ra:\u001b[0m\n"
      ]
     },
     "metadata": {},
     "output_type": "display_data"
    },
    {
     "data": {
      "text/html": [
       "<pre style=\"white-space:pre;overflow-x:auto;line-height:normal;font-family:Menlo,'DejaVu Sans Mono',consolas,'Courier New',monospace\"><span style=\"font-weight: bold\">{</span>\n",
       "<span style=\"color: #7fbf7f; text-decoration-color: #7fbf7f\">│   </span><span style=\"color: #008000; text-decoration-color: #008000\">'activity_name'</span>: <span style=\"color: #008000; text-decoration-color: #008000\">'Khám phá Đường tròn ngoại tiếp'</span>,\n",
       "<span style=\"color: #7fbf7f; text-decoration-color: #7fbf7f\">│   </span><span style=\"color: #008000; text-decoration-color: #008000\">'duration_minutes'</span>: <span style=\"color: #008080; text-decoration-color: #008080; font-weight: bold\">25</span>,\n",
       "<span style=\"color: #7fbf7f; text-decoration-color: #7fbf7f\">│   </span><span style=\"color: #008000; text-decoration-color: #008000\">'teacher_actions'</span>: <span style=\"font-weight: bold\">[</span>\n",
       "<span style=\"color: #7fbf7f; text-decoration-color: #7fbf7f\">│   │   </span><span style=\"color: #008000; text-decoration-color: #008000\">'Giới thiệu hoạt động và mục tiêu học tập: củng cố kiến thức về đường tròn ngoại tiếp tam giác vuông.'</span>,\n",
       "<span style=\"color: #7fbf7f; text-decoration-color: #7fbf7f\">│   │   </span><span style=\"color: #008000; text-decoration-color: #008000\">'Phát đề bài và hướng dẫn học sinh đọc kỹ yêu cầu của cả hai phần (cốt lõi và mở rộng).'</span>,\n",
       "<span style=\"color: #7fbf7f; text-decoration-color: #7fbf7f\">│   │   </span><span style=\"color: #008000; text-decoration-color: #008000\">'Quan sát học sinh làm bài, hỗ trợ khi cần thiết bằng cách gợi ý, không giải trực tiếp.'</span>,\n",
       "<span style=\"color: #7fbf7f; text-decoration-color: #7fbf7f\">│   │   </span><span style=\"color: #008000; text-decoration-color: #008000\">'Nhắc nhở thời gian còn lại sau mỗi 10 phút.'</span>,\n",
       "<span style=\"color: #7fbf7f; text-decoration-color: #7fbf7f\">│   │   </span><span style=\"color: #008000; text-decoration-color: #008000\">'Thu bài khi hết giờ và tổng kết nhanh các kiến thức trọng tâm.'</span>\n",
       "<span style=\"color: #7fbf7f; text-decoration-color: #7fbf7f\">│   </span><span style=\"font-weight: bold\">]</span>,\n",
       "<span style=\"color: #7fbf7f; text-decoration-color: #7fbf7f\">│   </span><span style=\"color: #008000; text-decoration-color: #008000\">'core_component'</span>: <span style=\"color: #008000; text-decoration-color: #008000\">'Cho tam giác ABC có AB = 6cm, AC = 8cm và BC = 10cm.a) Chứng minh tam giác ABC vuông.b) Xác định tâm và tính bán kính đường tròn ngoại tiếp tam giác ABC.'</span>,\n",
       "<span style=\"color: #7fbf7f; text-decoration-color: #7fbf7f\">│   </span><span style=\"color: #008000; text-decoration-color: #008000\">'extension_component'</span>: <span style=\"color: #008000; text-decoration-color: #008000\">'Cho tam giác đều DEF có cạnh bằng a. Hãy xác định tâm và tính bán kính đường tròn ngoại tiếp tam giác DEF.'</span>,\n",
       "<span style=\"color: #7fbf7f; text-decoration-color: #7fbf7f\">│   </span><span style=\"color: #008000; text-decoration-color: #008000\">'answer'</span>: <span style=\"color: #008000; text-decoration-color: #008000\">'a) Ta có AB^2 + AC^2 = 6^2 + 8^2 = 36 + 64 = 100. BC^2 = 10^2 = 100. Vì AB^2 + AC^2 = BC^2 nên tam giác ABC vuông tại A (theo định lý Pytago đảo).b) Vì tam giác ABC vuông tại A, tâm đường tròn ngoại tiếp là trung điểm của cạnh huyền BC. Bán kính R = BC/2 = 10/2 = 5cm.'</span>,\n",
       "<span style=\"color: #7fbf7f; text-decoration-color: #7fbf7f\">│   </span><span style=\"color: #008000; text-decoration-color: #008000\">'solution_guide'</span>: <span style=\"color: #008000; text-decoration-color: #008000\">'a) Để chứng minh tam giác ABC vuông, học sinh cần áp dụng định lý Pytago đảo: Tính tổng bình phương hai cạnh ngắn hơn (AB^2 + AC^2) và so sánh với bình phương cạnh dài nhất (BC^2). Nếu bằng nhau, kết luận tam giác vuông tại đỉnh đối diện với cạnh dài nhất (A).b) Đối với tam giác vuông, tâm đường tròn ngoại tiếp là trung điểm của cạnh huyền. Học sinh cần xác định cạnh huyền (BC) và tính trung điểm của nó. Bán kính đường tròn ngoại tiếp bằng một nửa độ dài cạnh huyền (R = BC/2).'</span>,\n",
       "<span style=\"color: #7fbf7f; text-decoration-color: #7fbf7f\">│   </span><span style=\"color: #008000; text-decoration-color: #008000\">'differentiation'</span>: <span style=\"font-weight: bold\">{</span>\n",
       "<span style=\"color: #7fbf7f; text-decoration-color: #7fbf7f\">│   │   </span><span style=\"color: #008000; text-decoration-color: #008000\">'for_struggling_students'</span>: <span style=\"color: #008000; text-decoration-color: #008000\">'Giáo viên có thể gợi ý về việc sử dụng định lý Pytago đảo để kiểm tra tính vuông của tam giác. Nhắc lại kiến thức về tâm đường tròn ngoại tiếp tam giác vuông là trung điểm cạnh huyền và bán kính bằng nửa cạnh huyền. Có thể cung cấp công thức R = cạnh huyền / 2.'</span>,\n",
       "<span style=\"color: #7fbf7f; text-decoration-color: #7fbf7f\">│   │   </span><span style=\"color: #008000; text-decoration-color: #008000\">'for_advanced_students'</span>: <span style=\"color: #008000; text-decoration-color: #008000\">'Yêu cầu học sinh chứng minh tại sao tâm đường tròn ngoại tiếp tam giác vuông lại là trung điểm của cạnh huyền. Hoặc yêu cầu học sinh tìm thêm một cách khác để chứng minh tam giác ABC vuông (ví dụ: sử dụng định lý đảo về đường trung tuyến ứng với cạnh huyền).'</span>\n",
       "<span style=\"color: #7fbf7f; text-decoration-color: #7fbf7f\">│   </span><span style=\"font-weight: bold\">}</span>,\n",
       "<span style=\"color: #7fbf7f; text-decoration-color: #7fbf7f\">│   </span><span style=\"color: #008000; text-decoration-color: #008000\">'content_type'</span>: <span style=\"color: #008000; text-decoration-color: #008000\">'Tự luận'</span>\n",
       "<span style=\"font-weight: bold\">}</span>\n",
       "</pre>\n"
      ],
      "text/plain": [
       "\u001b[1m{\u001b[0m\n",
       "\u001b[2;32m│   \u001b[0m\u001b[32m'activity_name'\u001b[0m: \u001b[32m'Khám phá Đường tròn ngoại tiếp'\u001b[0m,\n",
       "\u001b[2;32m│   \u001b[0m\u001b[32m'duration_minutes'\u001b[0m: \u001b[1;36m25\u001b[0m,\n",
       "\u001b[2;32m│   \u001b[0m\u001b[32m'teacher_actions'\u001b[0m: \u001b[1m[\u001b[0m\n",
       "\u001b[2;32m│   │   \u001b[0m\u001b[32m'Giới thiệu hoạt động và mục tiêu học tập: củng cố kiến thức về đường tròn ngoại tiếp tam giác vuông.'\u001b[0m,\n",
       "\u001b[2;32m│   │   \u001b[0m\u001b[32m'Phát đề bài và hướng dẫn học sinh đọc kỹ yêu cầu của cả hai phần \u001b[0m\u001b[32m(\u001b[0m\u001b[32mcốt lõi và mở rộng\u001b[0m\u001b[32m)\u001b[0m\u001b[32m.'\u001b[0m,\n",
       "\u001b[2;32m│   │   \u001b[0m\u001b[32m'Quan sát học sinh làm bài, hỗ trợ khi cần thiết bằng cách gợi ý, không giải trực tiếp.'\u001b[0m,\n",
       "\u001b[2;32m│   │   \u001b[0m\u001b[32m'Nhắc nhở thời gian còn lại sau mỗi 10 phút.'\u001b[0m,\n",
       "\u001b[2;32m│   │   \u001b[0m\u001b[32m'Thu bài khi hết giờ và tổng kết nhanh các kiến thức trọng tâm.'\u001b[0m\n",
       "\u001b[2;32m│   \u001b[0m\u001b[1m]\u001b[0m,\n",
       "\u001b[2;32m│   \u001b[0m\u001b[32m'core_component'\u001b[0m: \u001b[32m'Cho tam giác ABC có AB = 6cm, AC = 8cm và BC = 10cm.a\u001b[0m\u001b[32m)\u001b[0m\u001b[32m Chứng minh tam giác ABC vuông.b\u001b[0m\u001b[32m)\u001b[0m\u001b[32m Xác định tâm và tính bán kính đường tròn ngoại tiếp tam giác ABC.'\u001b[0m,\n",
       "\u001b[2;32m│   \u001b[0m\u001b[32m'extension_component'\u001b[0m: \u001b[32m'Cho tam giác đều DEF có cạnh bằng a. Hãy xác định tâm và tính bán kính đường tròn ngoại tiếp tam giác DEF.'\u001b[0m,\n",
       "\u001b[2;32m│   \u001b[0m\u001b[32m'answer'\u001b[0m: \u001b[32m'a\u001b[0m\u001b[32m)\u001b[0m\u001b[32m Ta có AB^2 + AC^2 = 6^2 + 8^2 = 36 + 64 = 100. BC^2 = 10^2 = 100. Vì AB^2 + AC^2 = BC^2 nên tam giác ABC vuông tại A \u001b[0m\u001b[32m(\u001b[0m\u001b[32mtheo định lý Pytago đảo\u001b[0m\u001b[32m)\u001b[0m\u001b[32m.b\u001b[0m\u001b[32m)\u001b[0m\u001b[32m Vì tam giác ABC vuông tại A, tâm đường tròn ngoại tiếp là trung điểm của cạnh huyền BC. Bán kính R = BC/2 = 10/2 = 5cm.'\u001b[0m,\n",
       "\u001b[2;32m│   \u001b[0m\u001b[32m'solution_guide'\u001b[0m: \u001b[32m'a\u001b[0m\u001b[32m)\u001b[0m\u001b[32m Để chứng minh tam giác ABC vuông, học sinh cần áp dụng định lý Pytago đảo: Tính tổng bình phương hai cạnh ngắn hơn \u001b[0m\u001b[32m(\u001b[0m\u001b[32mAB^2 + AC^2\u001b[0m\u001b[32m)\u001b[0m\u001b[32m và so sánh với bình phương cạnh dài nhất \u001b[0m\u001b[32m(\u001b[0m\u001b[32mBC^2\u001b[0m\u001b[32m)\u001b[0m\u001b[32m. Nếu bằng nhau, kết luận tam giác vuông tại đỉnh đối diện với cạnh dài nhất \u001b[0m\u001b[32m(\u001b[0m\u001b[32mA\u001b[0m\u001b[32m)\u001b[0m\u001b[32m.b\u001b[0m\u001b[32m)\u001b[0m\u001b[32m Đối với tam giác vuông, tâm đường tròn ngoại tiếp là trung điểm của cạnh huyền. Học sinh cần xác định cạnh huyền \u001b[0m\u001b[32m(\u001b[0m\u001b[32mBC\u001b[0m\u001b[32m)\u001b[0m\u001b[32m và tính trung điểm của nó. Bán kính đường tròn ngoại tiếp bằng một nửa độ dài cạnh huyền \u001b[0m\u001b[32m(\u001b[0m\u001b[32mR = BC/2\u001b[0m\u001b[32m)\u001b[0m\u001b[32m.'\u001b[0m,\n",
       "\u001b[2;32m│   \u001b[0m\u001b[32m'differentiation'\u001b[0m: \u001b[1m{\u001b[0m\n",
       "\u001b[2;32m│   │   \u001b[0m\u001b[32m'for_struggling_students'\u001b[0m: \u001b[32m'Giáo viên có thể gợi ý về việc sử dụng định lý Pytago đảo để kiểm tra tính vuông của tam giác. Nhắc lại kiến thức về tâm đường tròn ngoại tiếp tam giác vuông là trung điểm cạnh huyền và bán kính bằng nửa cạnh huyền. Có thể cung cấp công thức R = cạnh huyền / 2.'\u001b[0m,\n",
       "\u001b[2;32m│   │   \u001b[0m\u001b[32m'for_advanced_students'\u001b[0m: \u001b[32m'Yêu cầu học sinh chứng minh tại sao tâm đường tròn ngoại tiếp tam giác vuông lại là trung điểm của cạnh huyền. Hoặc yêu cầu học sinh tìm thêm một cách khác để chứng minh tam giác ABC vuông \u001b[0m\u001b[32m(\u001b[0m\u001b[32mví dụ: sử dụng định lý đảo về đường trung tuyến ứng với cạnh huyền\u001b[0m\u001b[32m)\u001b[0m\u001b[32m.'\u001b[0m\n",
       "\u001b[2;32m│   \u001b[0m\u001b[1m}\u001b[0m,\n",
       "\u001b[2;32m│   \u001b[0m\u001b[32m'content_type'\u001b[0m: \u001b[32m'Tự luận'\u001b[0m\n",
       "\u001b[1m}\u001b[0m\n"
      ]
     },
     "metadata": {},
     "output_type": "display_data"
    },
    {
     "data": {
      "text/html": [
       "<pre style=\"white-space:pre;overflow-x:auto;line-height:normal;font-family:Menlo,'DejaVu Sans Mono',consolas,'Courier New',monospace\">\n",
       "<span style=\"color: #808000; text-decoration-color: #808000; font-weight: bold\">------- Hoàn thành bước: assessment_creator -------</span>\n",
       "</pre>\n"
      ],
      "text/plain": [
       "\n",
       "\u001b[1;33m------- Hoàn thành bước: assessment_creator -------\u001b[0m\n"
      ]
     },
     "metadata": {},
     "output_type": "display_data"
    },
    {
     "data": {
      "text/html": [
       "<pre style=\"white-space:pre;overflow-x:auto;line-height:normal;font-family:Menlo,'DejaVu Sans Mono',consolas,'Courier New',monospace\">\n",
       "<span style=\"color: #008080; text-decoration-color: #008080; font-weight: bold\">&gt;</span> `Agent: Guardian Critic` <span style=\"font-weight: bold\">(</span>v12.<span style=\"color: #008080; text-decoration-color: #008080; font-weight: bold\">1</span> - Cố vấn Thông thái<span style=\"font-weight: bold\">)</span> đang bảo vệ kế hoạch<span style=\"color: #808000; text-decoration-color: #808000\">...</span>\n",
       "</pre>\n"
      ],
      "text/plain": [
       "\n",
       "\u001b[1;36m>\u001b[0m `Agent: Guardian Critic` \u001b[1m(\u001b[0mv12.\u001b[1;36m1\u001b[0m - Cố vấn Thông thái\u001b[1m)\u001b[0m đang bảo vệ kế hoạch\u001b[33m...\u001b[0m\n"
      ]
     },
     "metadata": {},
     "output_type": "display_data"
    },
    {
     "data": {
      "text/html": [
       "<pre style=\"white-space:pre;overflow-x:auto;line-height:normal;font-family:Menlo,'DejaVu Sans Mono',consolas,'Courier New',monospace\"><span style=\"color: #808000; text-decoration-color: #808000; font-weight: bold\">⚠️  GUARDIAN PHẢN BIỆN (có tính xây dựng): Hoạt động này quá dài so với thời lượng </span><span style=\"color: #808000; text-decoration-color: #808000; font-weight: bold\">25</span><span style=\"color: #808000; text-decoration-color: #808000; font-weight: bold\"> phút. Phần mở rộng về đường </span>\n",
       "<span style=\"color: #808000; text-decoration-color: #808000; font-weight: bold\">tròn ngoại tiếp tam giác đều phức tạp và không tập trung vào mục tiêu củng cố kiến thức về đường tròn ngoại tiếp </span>\n",
       "<span style=\"color: #808000; text-decoration-color: #808000; font-weight: bold\">tam giác vuông, gây quá tải cho học sinh. Hãy loại bỏ hoàn toàn phần </span><span style=\"color: #808000; text-decoration-color: #808000; font-weight: bold\">'extension_component'</span><span style=\"color: #808000; text-decoration-color: #808000; font-weight: bold\"> để tập trung vào mục </span>\n",
       "<span style=\"color: #808000; text-decoration-color: #808000; font-weight: bold\">tiêu củng cố kiến thức về đường tròn ngoại tiếp tam giác vuông và đảm bảo thời lượng phù hợp.</span>\n",
       "</pre>\n"
      ],
      "text/plain": [
       "\u001b[1;33m⚠️  GUARDIAN PHẢN BIỆN \u001b[0m\u001b[1;33m(\u001b[0m\u001b[1;33mcó tính xây dựng\u001b[0m\u001b[1;33m)\u001b[0m\u001b[1;33m: Hoạt động này quá dài so với thời lượng \u001b[0m\u001b[1;33m25\u001b[0m\u001b[1;33m phút. Phần mở rộng về đường \u001b[0m\n",
       "\u001b[1;33mtròn ngoại tiếp tam giác đều phức tạp và không tập trung vào mục tiêu củng cố kiến thức về đường tròn ngoại tiếp \u001b[0m\n",
       "\u001b[1;33mtam giác vuông, gây quá tải cho học sinh. Hãy loại bỏ hoàn toàn phần \u001b[0m\u001b[1;33m'extension_component'\u001b[0m\u001b[1;33m để tập trung vào mục \u001b[0m\n",
       "\u001b[1;33mtiêu củng cố kiến thức về đường tròn ngoại tiếp tam giác vuông và đảm bảo thời lượng phù hợp.\u001b[0m\n"
      ]
     },
     "metadata": {},
     "output_type": "display_data"
    },
    {
     "data": {
      "text/html": [
       "<pre style=\"white-space:pre;overflow-x:auto;line-height:normal;font-family:Menlo,'DejaVu Sans Mono',consolas,'Courier New',monospace\"><span style=\"color: #808000; text-decoration-color: #808000; font-weight: bold\">⚠️  ROUTER (Validation): Nội dung bị từ chối. Thử lại lần </span><span style=\"color: #808000; text-decoration-color: #808000; font-weight: bold\">1</span><span style=\"color: #808000; text-decoration-color: #808000; font-weight: bold\">/</span><span style=\"color: #808000; text-decoration-color: #808000; font-weight: bold\">2</span><span style=\"color: #808000; text-decoration-color: #808000; font-weight: bold\">.</span>\n",
       "</pre>\n"
      ],
      "text/plain": [
       "\u001b[1;33m⚠️  ROUTER \u001b[0m\u001b[1;33m(\u001b[0m\u001b[1;33mValidation\u001b[0m\u001b[1;33m)\u001b[0m\u001b[1;33m: Nội dung bị từ chối. Thử lại lần \u001b[0m\u001b[1;33m1\u001b[0m\u001b[1;33m/\u001b[0m\u001b[1;33m2\u001b[0m\u001b[1;33m.\u001b[0m\n"
      ]
     },
     "metadata": {},
     "output_type": "display_data"
    },
    {
     "data": {
      "text/html": [
       "<pre style=\"white-space:pre;overflow-x:auto;line-height:normal;font-family:Menlo,'DejaVu Sans Mono',consolas,'Courier New',monospace\">\n",
       "<span style=\"color: #808000; text-decoration-color: #808000; font-weight: bold\">------- Hoàn thành bước: content_validator -------</span>\n",
       "</pre>\n"
      ],
      "text/plain": [
       "\n",
       "\u001b[1;33m------- Hoàn thành bước: content_validator -------\u001b[0m\n"
      ]
     },
     "metadata": {},
     "output_type": "display_data"
    },
    {
     "data": {
      "text/html": [
       "<pre style=\"white-space:pre;overflow-x:auto;line-height:normal;font-family:Menlo,'DejaVu Sans Mono',consolas,'Courier New',monospace\">\n",
       "<span style=\"color: #008080; text-decoration-color: #008080; font-weight: bold\">&gt;</span> `Agent: Task Dispatcher` đang giao việc<span style=\"color: #808000; text-decoration-color: #808000\">...</span>\n",
       "</pre>\n"
      ],
      "text/plain": [
       "\n",
       "\u001b[1;36m>\u001b[0m `Agent: Task Dispatcher` đang giao việc\u001b[33m...\u001b[0m\n"
      ]
     },
     "metadata": {},
     "output_type": "display_data"
    },
    {
     "data": {
      "text/html": [
       "<pre style=\"white-space:pre;overflow-x:auto;line-height:normal;font-family:Menlo,'DejaVu Sans Mono',consolas,'Courier New',monospace\">\n",
       "<span style=\"color: #008080; text-decoration-color: #008080; font-weight: bold\">&gt;</span> --- 🚚 `Dispatcher`: Giao nhiệm vụ cho `activity_designer`.\n",
       "</pre>\n"
      ],
      "text/plain": [
       "\n",
       "\u001b[1;36m>\u001b[0m --- 🚚 `Dispatcher`: Giao nhiệm vụ cho `activity_designer`.\n"
      ]
     },
     "metadata": {},
     "output_type": "display_data"
    },
    {
     "data": {
      "text/html": [
       "<pre style=\"white-space:pre;overflow-x:auto;line-height:normal;font-family:Menlo,'DejaVu Sans Mono',consolas,'Courier New',monospace\">\n",
       "<span style=\"color: #808000; text-decoration-color: #808000; font-weight: bold\">------- Hoàn thành bước: task_dispatcher -------</span>\n",
       "</pre>\n"
      ],
      "text/plain": [
       "\n",
       "\u001b[1;33m------- Hoàn thành bước: task_dispatcher -------\u001b[0m\n"
      ]
     },
     "metadata": {},
     "output_type": "display_data"
    },
    {
     "data": {
      "text/html": [
       "<pre style=\"white-space:pre;overflow-x:auto;line-height:normal;font-family:Menlo,'DejaVu Sans Mono',consolas,'Courier New',monospace\">\n",
       "<span style=\"color: #008080; text-decoration-color: #008080; font-weight: bold\">&gt;</span> `Agent: Activity Designer` <span style=\"font-weight: bold\">(</span>v12.<span style=\"color: #008080; text-decoration-color: #008080; font-weight: bold\">0</span><span style=\"font-weight: bold\">)</span> đang tạo nội dung theo kỷ luật<span style=\"color: #808000; text-decoration-color: #808000\">...</span>\n",
       "</pre>\n"
      ],
      "text/plain": [
       "\n",
       "\u001b[1;36m>\u001b[0m `Agent: Activity Designer` \u001b[1m(\u001b[0mv12.\u001b[1;36m0\u001b[0m\u001b[1m)\u001b[0m đang tạo nội dung theo kỷ luật\u001b[33m...\u001b[0m\n"
      ]
     },
     "metadata": {},
     "output_type": "display_data"
    },
    {
     "data": {
      "text/html": [
       "<pre style=\"white-space:pre;overflow-x:auto;line-height:normal;font-family:Menlo,'DejaVu Sans Mono',consolas,'Courier New',monospace\"><span style=\"color: #008000; text-decoration-color: #008000; font-weight: bold\">✔️ Nội dung do Activity Designer tạo ra:</span>\n",
       "</pre>\n"
      ],
      "text/plain": [
       "\u001b[1;32m✔️ Nội dung do Activity Designer tạo ra:\u001b[0m\n"
      ]
     },
     "metadata": {},
     "output_type": "display_data"
    },
    {
     "data": {
      "text/html": [
       "<pre style=\"white-space:pre;overflow-x:auto;line-height:normal;font-family:Menlo,'DejaVu Sans Mono',consolas,'Courier New',monospace\"><span style=\"font-weight: bold\">{</span>\n",
       "<span style=\"color: #7fbf7f; text-decoration-color: #7fbf7f\">│   </span><span style=\"color: #008000; text-decoration-color: #008000\">'activity_name'</span>: <span style=\"color: #008000; text-decoration-color: #008000\">'Khám phá Đường tròn ngoại tiếp'</span>,\n",
       "<span style=\"color: #7fbf7f; text-decoration-color: #7fbf7f\">│   </span><span style=\"color: #008000; text-decoration-color: #008000\">'duration_minutes'</span>: <span style=\"color: #008080; text-decoration-color: #008080; font-weight: bold\">25</span>,\n",
       "<span style=\"color: #7fbf7f; text-decoration-color: #7fbf7f\">│   </span><span style=\"color: #008000; text-decoration-color: #008000\">'teacher_actions'</span>: <span style=\"font-weight: bold\">[</span>\n",
       "<span style=\"color: #7fbf7f; text-decoration-color: #7fbf7f\">│   │   </span><span style=\"color: #008000; text-decoration-color: #008000\">'Giới thiệu nhiệm vụ và mục tiêu của hoạt động (2 phút).'</span>,\n",
       "<span style=\"color: #7fbf7f; text-decoration-color: #7fbf7f\">│   │   </span><span style=\"color: #008000; text-decoration-color: #008000\">'Phát phiếu bài tập và hướng dẫn học sinh làm việc cá nhân/theo cặp (2 phút).'</span>,\n",
       "<span style=\"color: #7fbf7f; text-decoration-color: #7fbf7f\">│   │   </span><span style=\"color: #008000; text-decoration-color: #008000\">'Quan sát, đi lại giữa các nhóm/cá nhân, hỗ trợ và giải đáp thắc mắc khi cần (15 phút).'</span>,\n",
       "<span style=\"color: #7fbf7f; text-decoration-color: #7fbf7f\">│   │   </span><span style=\"color: #008000; text-decoration-color: #008000\">'Yêu cầu một vài học sinh trình bày kết quả và nhận xét của mình (4 phút).'</span>,\n",
       "<span style=\"color: #7fbf7f; text-decoration-color: #7fbf7f\">│   │   </span><span style=\"color: #008000; text-decoration-color: #008000\">'Tổng kết kiến thức trọng tâm về đường tròn ngoại tiếp tam giác vuông (2 phút).'</span>\n",
       "<span style=\"color: #7fbf7f; text-decoration-color: #7fbf7f\">│   </span><span style=\"font-weight: bold\">]</span>,\n",
       "<span style=\"color: #7fbf7f; text-decoration-color: #7fbf7f\">│   </span><span style=\"color: #008000; text-decoration-color: #008000\">'core_component'</span>: <span style=\"color: #008000; text-decoration-color: #008000\">'Học sinh làm việc cá nhân hoặc theo cặp để hoàn thành phiếu bài tập củng cố kiến thức về đường tròn ngoại tiếp tam giác vuông. Phiếu bài tập bao gồm:\\n1.  Cho một tam giác vuông ABC vuông tại A.\\n    a. Xác định cạnh huyền của tam giác.\\n    b. Xác định trung điểm M của cạnh huyền BC.\\n    c. Vẽ đường tròn tâm M bán kính MB (hoặc MC, MA).\\n    d. Kiểm tra xem các đỉnh A, B, C có nằm trên đường tròn vừa vẽ không.\\n    e. Nêu nhận xét về vị trí tâm đường tròn ngoại tiếp tam giác vuông và bán kính của nó.\\n2.  Áp dụng: Cho tam giác vuông DEF vuông tại D có DE = 6cm, DF = 8cm. Tính bán kính đường tròn ngoại tiếp tam giác DEF.'</span>,\n",
       "<span style=\"color: #7fbf7f; text-decoration-color: #7fbf7f\">│   </span><span style=\"color: #008000; text-decoration-color: #008000\">'extension_component'</span>: <span style=\"color: #800080; text-decoration-color: #800080; font-style: italic\">None</span>,\n",
       "<span style=\"color: #7fbf7f; text-decoration-color: #7fbf7f\">│   </span><span style=\"color: #008000; text-decoration-color: #008000\">'solution_guide'</span>: <span style=\"color: #008000; text-decoration-color: #008000\">\"Gợi ý cho học sinh: 'Tâm đường tròn ngoại tiếp tam giác vuông nằm ở đâu? Bán kính của nó liên quan thế nào đến cạnh huyền?' Đối với bài tập tính toán, hãy nhắc học sinh nhớ lại định lý Pytago để tính độ dài cạnh huyền trước, sau đó áp dụng tính chất của đường tròn ngoại tiếp tam giác vuông.\"</span>,\n",
       "<span style=\"color: #7fbf7f; text-decoration-color: #7fbf7f\">│   </span><span style=\"color: #008000; text-decoration-color: #008000\">'differentiation'</span>: <span style=\"font-weight: bold\">{</span>\n",
       "<span style=\"color: #7fbf7f; text-decoration-color: #7fbf7f\">│   │   </span><span style=\"color: #008000; text-decoration-color: #008000\">'for_struggling_students'</span>: <span style=\"color: #008000; text-decoration-color: #008000\">\"Cung cấp tam giác vuông đã vẽ sẵn trên giấy ô ly hoặc giấy kẻ caro để học sinh dễ dàng xác định trung điểm và vẽ hình chính xác hơn. Gợi ý từng bước cụ thể: 'Bước 1: Tìm cạnh huyền. Bước 2: Tìm trung điểm của cạnh huyền. Bước 3: Dùng compa vẽ đường tròn tâm là trung điểm đó với bán kính bằng một nửa cạnh huyền.' Nhắc lại định lý Pytago để tính cạnh huyền nếu học sinh gặp khó khăn ở bài tập áp dụng.\"</span>,\n",
       "<span style=\"color: #7fbf7f; text-decoration-color: #7fbf7f\">│   │   </span><span style=\"color: #008000; text-decoration-color: #008000\">'for_advanced_students'</span>: <span style=\"color: #008000; text-decoration-color: #008000\">\"Yêu cầu học sinh chứng minh tại sao trung điểm cạnh huyền lại là tâm đường tròn ngoại tiếp tam giác vuông (gợi ý sử dụng tính chất đường trung tuyến ứng với cạnh huyền trong tam giác vuông hoặc tính chất hình chữ nhật). Đặt câu hỏi mở rộng: 'Nếu tam giác không phải là tam giác vuông thì tâm đường tròn ngoại tiếp nằm ở đâu so với tam giác?' (chỉ yêu cầu nêu nhận xét, không cần chứng minh sâu).\"</span>\n",
       "<span style=\"color: #7fbf7f; text-decoration-color: #7fbf7f\">│   </span><span style=\"font-weight: bold\">}</span>,\n",
       "<span style=\"color: #7fbf7f; text-decoration-color: #7fbf7f\">│   </span><span style=\"color: #008000; text-decoration-color: #008000\">'content_type'</span>: <span style=\"color: #008000; text-decoration-color: #008000\">'Thực hành cá nhân và củng cố kiến thức'</span>\n",
       "<span style=\"font-weight: bold\">}</span>\n",
       "</pre>\n"
      ],
      "text/plain": [
       "\u001b[1m{\u001b[0m\n",
       "\u001b[2;32m│   \u001b[0m\u001b[32m'activity_name'\u001b[0m: \u001b[32m'Khám phá Đường tròn ngoại tiếp'\u001b[0m,\n",
       "\u001b[2;32m│   \u001b[0m\u001b[32m'duration_minutes'\u001b[0m: \u001b[1;36m25\u001b[0m,\n",
       "\u001b[2;32m│   \u001b[0m\u001b[32m'teacher_actions'\u001b[0m: \u001b[1m[\u001b[0m\n",
       "\u001b[2;32m│   │   \u001b[0m\u001b[32m'Giới thiệu nhiệm vụ và mục tiêu của hoạt động \u001b[0m\u001b[32m(\u001b[0m\u001b[32m2 phút\u001b[0m\u001b[32m)\u001b[0m\u001b[32m.'\u001b[0m,\n",
       "\u001b[2;32m│   │   \u001b[0m\u001b[32m'Phát phiếu bài tập và hướng dẫn học sinh làm việc cá nhân/theo cặp \u001b[0m\u001b[32m(\u001b[0m\u001b[32m2 phút\u001b[0m\u001b[32m)\u001b[0m\u001b[32m.'\u001b[0m,\n",
       "\u001b[2;32m│   │   \u001b[0m\u001b[32m'Quan sát, đi lại giữa các nhóm/cá nhân, hỗ trợ và giải đáp thắc mắc khi cần \u001b[0m\u001b[32m(\u001b[0m\u001b[32m15 phút\u001b[0m\u001b[32m)\u001b[0m\u001b[32m.'\u001b[0m,\n",
       "\u001b[2;32m│   │   \u001b[0m\u001b[32m'Yêu cầu một vài học sinh trình bày kết quả và nhận xét của mình \u001b[0m\u001b[32m(\u001b[0m\u001b[32m4 phút\u001b[0m\u001b[32m)\u001b[0m\u001b[32m.'\u001b[0m,\n",
       "\u001b[2;32m│   │   \u001b[0m\u001b[32m'Tổng kết kiến thức trọng tâm về đường tròn ngoại tiếp tam giác vuông \u001b[0m\u001b[32m(\u001b[0m\u001b[32m2 phút\u001b[0m\u001b[32m)\u001b[0m\u001b[32m.'\u001b[0m\n",
       "\u001b[2;32m│   \u001b[0m\u001b[1m]\u001b[0m,\n",
       "\u001b[2;32m│   \u001b[0m\u001b[32m'core_component'\u001b[0m: \u001b[32m'Học sinh làm việc cá nhân hoặc theo cặp để hoàn thành phiếu bài tập củng cố kiến thức về đường tròn ngoại tiếp tam giác vuông. Phiếu bài tập bao gồm:\\n1.  Cho một tam giác vuông ABC vuông tại A.\\n    a. Xác định cạnh huyền của tam giác.\\n    b. Xác định trung điểm M của cạnh huyền BC.\\n    c. Vẽ đường tròn tâm M bán kính MB \u001b[0m\u001b[32m(\u001b[0m\u001b[32mhoặc MC, MA\u001b[0m\u001b[32m)\u001b[0m\u001b[32m.\\n    d. Kiểm tra xem các đỉnh A, B, C có nằm trên đường tròn vừa vẽ không.\\n    e. Nêu nhận xét về vị trí tâm đường tròn ngoại tiếp tam giác vuông và bán kính của nó.\\n2.  Áp dụng: Cho tam giác vuông DEF vuông tại D có DE = 6cm, DF = 8cm. Tính bán kính đường tròn ngoại tiếp tam giác DEF.'\u001b[0m,\n",
       "\u001b[2;32m│   \u001b[0m\u001b[32m'extension_component'\u001b[0m: \u001b[3;35mNone\u001b[0m,\n",
       "\u001b[2;32m│   \u001b[0m\u001b[32m'solution_guide'\u001b[0m: \u001b[32m\"Gợi ý cho học sinh: 'Tâm đường tròn ngoại tiếp tam giác vuông nằm ở đâu? Bán kính của nó liên quan thế nào đến cạnh huyền?' Đối với bài tập tính toán, hãy nhắc học sinh nhớ lại định lý Pytago để tính độ dài cạnh huyền trước, sau đó áp dụng tính chất của đường tròn ngoại tiếp tam giác vuông.\"\u001b[0m,\n",
       "\u001b[2;32m│   \u001b[0m\u001b[32m'differentiation'\u001b[0m: \u001b[1m{\u001b[0m\n",
       "\u001b[2;32m│   │   \u001b[0m\u001b[32m'for_struggling_students'\u001b[0m: \u001b[32m\"Cung cấp tam giác vuông đã vẽ sẵn trên giấy ô ly hoặc giấy kẻ caro để học sinh dễ dàng xác định trung điểm và vẽ hình chính xác hơn. Gợi ý từng bước cụ thể: 'Bước 1: Tìm cạnh huyền. Bước 2: Tìm trung điểm của cạnh huyền. Bước 3: Dùng compa vẽ đường tròn tâm là trung điểm đó với bán kính bằng một nửa cạnh huyền.' Nhắc lại định lý Pytago để tính cạnh huyền nếu học sinh gặp khó khăn ở bài tập áp dụng.\"\u001b[0m,\n",
       "\u001b[2;32m│   │   \u001b[0m\u001b[32m'for_advanced_students'\u001b[0m: \u001b[32m\"Yêu cầu học sinh chứng minh tại sao trung điểm cạnh huyền lại là tâm đường tròn ngoại tiếp tam giác vuông \u001b[0m\u001b[32m(\u001b[0m\u001b[32mgợi ý sử dụng tính chất đường trung tuyến ứng với cạnh huyền trong tam giác vuông hoặc tính chất hình chữ nhật\u001b[0m\u001b[32m)\u001b[0m\u001b[32m. Đặt câu hỏi mở rộng: 'Nếu tam giác không phải là tam giác vuông thì tâm đường tròn ngoại tiếp nằm ở đâu so với tam giác?' \u001b[0m\u001b[32m(\u001b[0m\u001b[32mchỉ yêu cầu nêu nhận xét, không cần chứng minh sâu\u001b[0m\u001b[32m)\u001b[0m\u001b[32m.\"\u001b[0m\n",
       "\u001b[2;32m│   \u001b[0m\u001b[1m}\u001b[0m,\n",
       "\u001b[2;32m│   \u001b[0m\u001b[32m'content_type'\u001b[0m: \u001b[32m'Thực hành cá nhân và củng cố kiến thức'\u001b[0m\n",
       "\u001b[1m}\u001b[0m\n"
      ]
     },
     "metadata": {},
     "output_type": "display_data"
    },
    {
     "data": {
      "text/html": [
       "<pre style=\"white-space:pre;overflow-x:auto;line-height:normal;font-family:Menlo,'DejaVu Sans Mono',consolas,'Courier New',monospace\">\n",
       "<span style=\"color: #808000; text-decoration-color: #808000; font-weight: bold\">------- Hoàn thành bước: activity_designer -------</span>\n",
       "</pre>\n"
      ],
      "text/plain": [
       "\n",
       "\u001b[1;33m------- Hoàn thành bước: activity_designer -------\u001b[0m\n"
      ]
     },
     "metadata": {},
     "output_type": "display_data"
    },
    {
     "data": {
      "text/html": [
       "<pre style=\"white-space:pre;overflow-x:auto;line-height:normal;font-family:Menlo,'DejaVu Sans Mono',consolas,'Courier New',monospace\">\n",
       "<span style=\"color: #008080; text-decoration-color: #008080; font-weight: bold\">&gt;</span> `Agent: Guardian Critic` <span style=\"font-weight: bold\">(</span>v12.<span style=\"color: #008080; text-decoration-color: #008080; font-weight: bold\">1</span> - Cố vấn Thông thái<span style=\"font-weight: bold\">)</span> đang bảo vệ kế hoạch<span style=\"color: #808000; text-decoration-color: #808000\">...</span>\n",
       "</pre>\n"
      ],
      "text/plain": [
       "\n",
       "\u001b[1;36m>\u001b[0m `Agent: Guardian Critic` \u001b[1m(\u001b[0mv12.\u001b[1;36m1\u001b[0m - Cố vấn Thông thái\u001b[1m)\u001b[0m đang bảo vệ kế hoạch\u001b[33m...\u001b[0m\n"
      ]
     },
     "metadata": {},
     "output_type": "display_data"
    },
    {
     "data": {
      "text/html": [
       "<pre style=\"white-space:pre;overflow-x:auto;line-height:normal;font-family:Menlo,'DejaVu Sans Mono',consolas,'Courier New',monospace\"><span style=\"color: #808000; text-decoration-color: #808000; font-weight: bold\">⚠️  GUARDIAN PHẢN BIỆN (có tính xây dựng): Hoạt động cốt lõi (phiếu bài tập) quá nhiều nội dung cho </span><span style=\"color: #808000; text-decoration-color: #808000; font-weight: bold\">15</span><span style=\"color: #808000; text-decoration-color: #808000; font-weight: bold\"> phút làm việc</span>\n",
       "<span style=\"color: #808000; text-decoration-color: #808000; font-weight: bold\">cá nhân/theo cặp. Phần </span><span style=\"color: #808000; text-decoration-color: #808000; font-weight: bold\">1</span><span style=\"color: #808000; text-decoration-color: #808000; font-weight: bold\"> yêu cầu học sinh thực hiện nhiều bước vẽ và khám phá, trong khi phần </span><span style=\"color: #808000; text-decoration-color: #808000; font-weight: bold\">2</span><span style=\"color: #808000; text-decoration-color: #808000; font-weight: bold\"> là bài tập áp dụng </span>\n",
       "<span style=\"color: #808000; text-decoration-color: #808000; font-weight: bold\">cần tính toán (sử dụng định lý Pytago). Với thời gian </span><span style=\"color: #808000; text-decoration-color: #808000; font-weight: bold\">15</span><span style=\"color: #808000; text-decoration-color: #808000; font-weight: bold\"> phút, học sinh sẽ khó có thể hoàn thành đầy đủ và sâu sắc </span>\n",
       "<span style=\"color: #808000; text-decoration-color: #808000; font-weight: bold\">cả hai phần. Hãy giảm bớt nội dung của phiếu bài tập để đảm bảo học sinh có đủ thời gian hoàn thành trong </span><span style=\"color: #808000; text-decoration-color: #808000; font-weight: bold\">15</span><span style=\"color: #808000; text-decoration-color: #808000; font-weight: bold\"> phút. </span>\n",
       "<span style=\"color: #808000; text-decoration-color: #808000; font-weight: bold\">Ví dụ, có thể tập trung vào phần khám phá (câu </span><span style=\"color: #808000; text-decoration-color: #808000; font-weight: bold\">1</span><span style=\"color: #808000; text-decoration-color: #808000; font-weight: bold\">) và bỏ qua bài tập áp dụng (câu </span><span style=\"color: #808000; text-decoration-color: #808000; font-weight: bold\">2</span><span style=\"color: #808000; text-decoration-color: #808000; font-weight: bold\">), hoặc cung cấp hình vẽ sẵn để </span>\n",
       "<span style=\"color: #808000; text-decoration-color: #808000; font-weight: bold\">tiết kiệm thời gian vẽ.</span>\n",
       "</pre>\n"
      ],
      "text/plain": [
       "\u001b[1;33m⚠️  GUARDIAN PHẢN BIỆN \u001b[0m\u001b[1;33m(\u001b[0m\u001b[1;33mcó tính xây dựng\u001b[0m\u001b[1;33m)\u001b[0m\u001b[1;33m: Hoạt động cốt lõi \u001b[0m\u001b[1;33m(\u001b[0m\u001b[1;33mphiếu bài tập\u001b[0m\u001b[1;33m)\u001b[0m\u001b[1;33m quá nhiều nội dung cho \u001b[0m\u001b[1;33m15\u001b[0m\u001b[1;33m phút làm việc\u001b[0m\n",
       "\u001b[1;33mcá nhân/theo cặp. Phần \u001b[0m\u001b[1;33m1\u001b[0m\u001b[1;33m yêu cầu học sinh thực hiện nhiều bước vẽ và khám phá, trong khi phần \u001b[0m\u001b[1;33m2\u001b[0m\u001b[1;33m là bài tập áp dụng \u001b[0m\n",
       "\u001b[1;33mcần tính toán \u001b[0m\u001b[1;33m(\u001b[0m\u001b[1;33msử dụng định lý Pytago\u001b[0m\u001b[1;33m)\u001b[0m\u001b[1;33m. Với thời gian \u001b[0m\u001b[1;33m15\u001b[0m\u001b[1;33m phút, học sinh sẽ khó có thể hoàn thành đầy đủ và sâu sắc \u001b[0m\n",
       "\u001b[1;33mcả hai phần. Hãy giảm bớt nội dung của phiếu bài tập để đảm bảo học sinh có đủ thời gian hoàn thành trong \u001b[0m\u001b[1;33m15\u001b[0m\u001b[1;33m phút. \u001b[0m\n",
       "\u001b[1;33mVí dụ, có thể tập trung vào phần khám phá \u001b[0m\u001b[1;33m(\u001b[0m\u001b[1;33mcâu \u001b[0m\u001b[1;33m1\u001b[0m\u001b[1;33m)\u001b[0m\u001b[1;33m và bỏ qua bài tập áp dụng \u001b[0m\u001b[1;33m(\u001b[0m\u001b[1;33mcâu \u001b[0m\u001b[1;33m2\u001b[0m\u001b[1;33m)\u001b[0m\u001b[1;33m, hoặc cung cấp hình vẽ sẵn để \u001b[0m\n",
       "\u001b[1;33mtiết kiệm thời gian vẽ.\u001b[0m\n"
      ]
     },
     "metadata": {},
     "output_type": "display_data"
    },
    {
     "data": {
      "text/html": [
       "<pre style=\"white-space:pre;overflow-x:auto;line-height:normal;font-family:Menlo,'DejaVu Sans Mono',consolas,'Courier New',monospace\"><span style=\"color: #808000; text-decoration-color: #808000; font-weight: bold\">⚠️  ROUTER (Validation): Nội dung bị từ chối. Thử lại lần </span><span style=\"color: #808000; text-decoration-color: #808000; font-weight: bold\">1</span><span style=\"color: #808000; text-decoration-color: #808000; font-weight: bold\">/</span><span style=\"color: #808000; text-decoration-color: #808000; font-weight: bold\">2</span><span style=\"color: #808000; text-decoration-color: #808000; font-weight: bold\">.</span>\n",
       "</pre>\n"
      ],
      "text/plain": [
       "\u001b[1;33m⚠️  ROUTER \u001b[0m\u001b[1;33m(\u001b[0m\u001b[1;33mValidation\u001b[0m\u001b[1;33m)\u001b[0m\u001b[1;33m: Nội dung bị từ chối. Thử lại lần \u001b[0m\u001b[1;33m1\u001b[0m\u001b[1;33m/\u001b[0m\u001b[1;33m2\u001b[0m\u001b[1;33m.\u001b[0m\n"
      ]
     },
     "metadata": {},
     "output_type": "display_data"
    },
    {
     "data": {
      "text/html": [
       "<pre style=\"white-space:pre;overflow-x:auto;line-height:normal;font-family:Menlo,'DejaVu Sans Mono',consolas,'Courier New',monospace\">\n",
       "<span style=\"color: #808000; text-decoration-color: #808000; font-weight: bold\">------- Hoàn thành bước: content_validator -------</span>\n",
       "</pre>\n"
      ],
      "text/plain": [
       "\n",
       "\u001b[1;33m------- Hoàn thành bước: content_validator -------\u001b[0m\n"
      ]
     },
     "metadata": {},
     "output_type": "display_data"
    },
    {
     "data": {
      "text/html": [
       "<pre style=\"white-space:pre;overflow-x:auto;line-height:normal;font-family:Menlo,'DejaVu Sans Mono',consolas,'Courier New',monospace\">\n",
       "<span style=\"color: #008080; text-decoration-color: #008080; font-weight: bold\">&gt;</span> `Agent: Task Dispatcher` đang giao việc<span style=\"color: #808000; text-decoration-color: #808000\">...</span>\n",
       "</pre>\n"
      ],
      "text/plain": [
       "\n",
       "\u001b[1;36m>\u001b[0m `Agent: Task Dispatcher` đang giao việc\u001b[33m...\u001b[0m\n"
      ]
     },
     "metadata": {},
     "output_type": "display_data"
    },
    {
     "data": {
      "text/html": [
       "<pre style=\"white-space:pre;overflow-x:auto;line-height:normal;font-family:Menlo,'DejaVu Sans Mono',consolas,'Courier New',monospace\">\n",
       "<span style=\"color: #008080; text-decoration-color: #008080; font-weight: bold\">&gt;</span> --- 🚚 `Dispatcher`: Giao nhiệm vụ cho `theory_synthesizer`.\n",
       "</pre>\n"
      ],
      "text/plain": [
       "\n",
       "\u001b[1;36m>\u001b[0m --- 🚚 `Dispatcher`: Giao nhiệm vụ cho `theory_synthesizer`.\n"
      ]
     },
     "metadata": {},
     "output_type": "display_data"
    },
    {
     "data": {
      "text/html": [
       "<pre style=\"white-space:pre;overflow-x:auto;line-height:normal;font-family:Menlo,'DejaVu Sans Mono',consolas,'Courier New',monospace\">\n",
       "<span style=\"color: #808000; text-decoration-color: #808000; font-weight: bold\">------- Hoàn thành bước: task_dispatcher -------</span>\n",
       "</pre>\n"
      ],
      "text/plain": [
       "\n",
       "\u001b[1;33m------- Hoàn thành bước: task_dispatcher -------\u001b[0m\n"
      ]
     },
     "metadata": {},
     "output_type": "display_data"
    },
    {
     "data": {
      "text/html": [
       "<pre style=\"white-space:pre;overflow-x:auto;line-height:normal;font-family:Menlo,'DejaVu Sans Mono',consolas,'Courier New',monospace\">\n",
       "<span style=\"color: #008080; text-decoration-color: #008080; font-weight: bold\">&gt;</span> `Agent: Theory Synthesizer` <span style=\"font-weight: bold\">(</span>v12.<span style=\"color: #008080; text-decoration-color: #008080; font-weight: bold\">0</span><span style=\"font-weight: bold\">)</span> đang tạo nội dung theo kỷ luật<span style=\"color: #808000; text-decoration-color: #808000\">...</span>\n",
       "</pre>\n"
      ],
      "text/plain": [
       "\n",
       "\u001b[1;36m>\u001b[0m `Agent: Theory Synthesizer` \u001b[1m(\u001b[0mv12.\u001b[1;36m0\u001b[0m\u001b[1m)\u001b[0m đang tạo nội dung theo kỷ luật\u001b[33m...\u001b[0m\n"
      ]
     },
     "metadata": {},
     "output_type": "display_data"
    },
    {
     "data": {
      "text/html": [
       "<pre style=\"white-space:pre;overflow-x:auto;line-height:normal;font-family:Menlo,'DejaVu Sans Mono',consolas,'Courier New',monospace\"><span style=\"color: #008000; text-decoration-color: #008000; font-weight: bold\">✔️ Nội dung do Theory Synthesizer tạo ra:</span>\n",
       "</pre>\n"
      ],
      "text/plain": [
       "\u001b[1;32m✔️ Nội dung do Theory Synthesizer tạo ra:\u001b[0m\n"
      ]
     },
     "metadata": {},
     "output_type": "display_data"
    },
    {
     "data": {
      "text/html": [
       "<pre style=\"white-space:pre;overflow-x:auto;line-height:normal;font-family:Menlo,'DejaVu Sans Mono',consolas,'Courier New',monospace\"><span style=\"font-weight: bold\">{</span>\n",
       "<span style=\"color: #7fbf7f; text-decoration-color: #7fbf7f\">│   </span><span style=\"color: #008000; text-decoration-color: #008000\">'activity_name'</span>: <span style=\"color: #008000; text-decoration-color: #008000\">'Khám phá Đường tròn ngoại tiếp'</span>,\n",
       "<span style=\"color: #7fbf7f; text-decoration-color: #7fbf7f\">│   </span><span style=\"color: #008000; text-decoration-color: #008000\">'duration_minutes'</span>: <span style=\"color: #008080; text-decoration-color: #008080; font-weight: bold\">25</span>,\n",
       "<span style=\"color: #7fbf7f; text-decoration-color: #7fbf7f\">│   </span><span style=\"color: #008000; text-decoration-color: #008000\">'teacher_actions'</span>: <span style=\"font-weight: bold\">[</span>\n",
       "<span style=\"color: #7fbf7f; text-decoration-color: #7fbf7f\">│   │   </span><span style=\"color: #008000; text-decoration-color: #008000\">'Phát phiếu bài tập và dụng cụ học tập (thước, compa) cho học sinh.'</span>,\n",
       "<span style=\"color: #7fbf7f; text-decoration-color: #7fbf7f\">│   │   </span><span style=\"color: #008000; text-decoration-color: #008000\">'Hướng dẫn rõ ràng về các bước thực hiện trong phiếu bài tập.'</span>,\n",
       "<span style=\"color: #7fbf7f; text-decoration-color: #7fbf7f\">│   │   </span><span style=\"color: #008000; text-decoration-color: #008000\">'Đi lại quan sát, hỗ trợ kịp thời các nhóm/cá nhân gặp khó khăn trong quá trình vẽ và khám phá.'</span>,\n",
       "<span style=\"color: #7fbf7f; text-decoration-color: #7fbf7f\">│   │   </span><span style=\"color: #008000; text-decoration-color: #008000\">\"Đặt câu hỏi gợi mở để học sinh tự suy luận và rút ra kết luận (ví dụ: 'Tại sao điểm O lại cách đều ba đỉnh của tam giác?').\"</span>,\n",
       "<span style=\"color: #7fbf7f; text-decoration-color: #7fbf7f\">│   │   </span><span style=\"color: #008000; text-decoration-color: #008000\">'Kiểm tra nhanh kết quả của một số nhóm/cá nhân để nắm bắt mức độ hiểu bài.'</span>,\n",
       "<span style=\"color: #7fbf7f; text-decoration-color: #7fbf7f\">│   │   </span><span style=\"color: #008000; text-decoration-color: #008000\">'Tổ chức cho học sinh chia sẻ kết quả và nhận xét, sau đó chốt kiến thức về đường tròn ngoại tiếp và tâm đường tròn ngoại tiếp.'</span>\n",
       "<span style=\"color: #7fbf7f; text-decoration-color: #7fbf7f\">│   </span><span style=\"font-weight: bold\">]</span>,\n",
       "<span style=\"color: #7fbf7f; text-decoration-color: #7fbf7f\">│   </span><span style=\"color: #008000; text-decoration-color: #008000\">'core_component'</span>: <span style=\"color: #008000; text-decoration-color: #008000\">'Học sinh làm việc cá nhân hoặc theo cặp (khoảng 15-20 phút) để hoàn thành phiếu bài tập:\\n1.  **Vẽ và Khám phá:**\\n    *   Vẽ một tam giác ABC bất kỳ (hoặc sử dụng hình vẽ tam giác đã được cung cấp sẵn).\\n    *   Vẽ đường trung trực của cạnh AB và BC.\\n    *   Xác định giao điểm O của hai đường trung trực này.\\n    *   Dùng compa vẽ đường tròn tâm O, bán kính OA (hoặc OB, OC).\\n    *   Quan sát xem đường tròn này có đi qua cả ba đỉnh A, B, C của tam giác không.\\n    *   Thảo luận với bạn bên cạnh: Điểm O có vai trò gì đối với tam giác ABC và đường tròn vừa vẽ?\\n2.  **Kết nối kiến thức:**\\n    *   Dựa vào kết quả khám phá, hãy nêu định nghĩa về đường tròn ngoại tiếp tam giác và tâm đường tròn ngoại tiếp.'</span>,\n",
       "<span style=\"color: #7fbf7f; text-decoration-color: #7fbf7f\">│   </span><span style=\"color: #008000; text-decoration-color: #008000\">'extension_component'</span>: <span style=\"color: #008000; text-decoration-color: #008000\">'Học sinh làm nhanh có thể thử vẽ đường tròn ngoại tiếp cho một tam giác vuông hoặc tam giác tù. Sau đó, nhận xét về vị trí của tâm đường tròn ngoại tiếp trong các trường hợp đặc biệt này. Hoặc tìm hiểu thêm về các ứng dụng của đường tròn ngoại tiếp trong thực tế.'</span>,\n",
       "<span style=\"color: #7fbf7f; text-decoration-color: #7fbf7f\">│   </span><span style=\"color: #008000; text-decoration-color: #008000\">'solution_guide'</span>: <span style=\"color: #008000; text-decoration-color: #008000\">\"Gợi ý: Điểm nằm trên đường trung trực của một đoạn thẳng thì cách đều hai mút của đoạn thẳng đó. Câu hỏi gợi mở: 'Điểm O là giao điểm của đường trung trực của AB và BC, vậy O có tính chất gì đặc biệt đối với A, B, C?' Chốt kiến thức: Tâm đường tròn ngoại tiếp là giao điểm của ba đường trung trực của tam giác và đường tròn ngoại tiếp là đường tròn đi qua ba đỉnh của tam giác.\"</span>,\n",
       "<span style=\"color: #7fbf7f; text-decoration-color: #7fbf7f\">│   </span><span style=\"color: #008000; text-decoration-color: #008000\">'differentiation'</span>: <span style=\"font-weight: bold\">{</span>\n",
       "<span style=\"color: #7fbf7f; text-decoration-color: #7fbf7f\">│   │   </span><span style=\"color: #008000; text-decoration-color: #008000\">'for_struggling_students'</span>: <span style=\"color: #008000; text-decoration-color: #008000\">\"Cung cấp hình vẽ tam giác đã được vẽ sẵn trên phiếu bài tập để học sinh tập trung vào việc vẽ đường trung trực và đường tròn. Giáo viên có thể gợi ý từng bước cụ thể hơn (ví dụ: 'Để vẽ đường trung trực của AB, em cần làm gì trước?').\"</span>,\n",
       "<span style=\"color: #7fbf7f; text-decoration-color: #7fbf7f\">│   │   </span><span style=\"color: #008000; text-decoration-color: #008000\">'for_advanced_students'</span>: <span style=\"color: #008000; text-decoration-color: #008000\">'Yêu cầu học sinh chứng minh tại sao giao điểm của hai đường trung trực lại cách đều ba đỉnh của tam giác. Thử vẽ đường trung trực của cạnh còn lại (AC) và nhận xét về vị trí của nó. Nêu nhận xét về vị trí của tâm đường tròn ngoại tiếp đối với tam giác nhọn, tam giác vuông, tam giác tù.'</span>\n",
       "<span style=\"color: #7fbf7f; text-decoration-color: #7fbf7f\">│   </span><span style=\"font-weight: bold\">}</span>,\n",
       "<span style=\"color: #7fbf7f; text-decoration-color: #7fbf7f\">│   </span><span style=\"color: #008000; text-decoration-color: #008000\">'content_type'</span>: <span style=\"color: #008000; text-decoration-color: #008000\">'Thực hành cá nhân/theo cặp'</span>\n",
       "<span style=\"font-weight: bold\">}</span>\n",
       "</pre>\n"
      ],
      "text/plain": [
       "\u001b[1m{\u001b[0m\n",
       "\u001b[2;32m│   \u001b[0m\u001b[32m'activity_name'\u001b[0m: \u001b[32m'Khám phá Đường tròn ngoại tiếp'\u001b[0m,\n",
       "\u001b[2;32m│   \u001b[0m\u001b[32m'duration_minutes'\u001b[0m: \u001b[1;36m25\u001b[0m,\n",
       "\u001b[2;32m│   \u001b[0m\u001b[32m'teacher_actions'\u001b[0m: \u001b[1m[\u001b[0m\n",
       "\u001b[2;32m│   │   \u001b[0m\u001b[32m'Phát phiếu bài tập và dụng cụ học tập \u001b[0m\u001b[32m(\u001b[0m\u001b[32mthước, compa\u001b[0m\u001b[32m)\u001b[0m\u001b[32m cho học sinh.'\u001b[0m,\n",
       "\u001b[2;32m│   │   \u001b[0m\u001b[32m'Hướng dẫn rõ ràng về các bước thực hiện trong phiếu bài tập.'\u001b[0m,\n",
       "\u001b[2;32m│   │   \u001b[0m\u001b[32m'Đi lại quan sát, hỗ trợ kịp thời các nhóm/cá nhân gặp khó khăn trong quá trình vẽ và khám phá.'\u001b[0m,\n",
       "\u001b[2;32m│   │   \u001b[0m\u001b[32m\"Đặt câu hỏi gợi mở để học sinh tự suy luận và rút ra kết luận \u001b[0m\u001b[32m(\u001b[0m\u001b[32mví dụ: 'Tại sao điểm O lại cách đều ba đỉnh của tam giác?'\u001b[0m\u001b[32m)\u001b[0m\u001b[32m.\"\u001b[0m,\n",
       "\u001b[2;32m│   │   \u001b[0m\u001b[32m'Kiểm tra nhanh kết quả của một số nhóm/cá nhân để nắm bắt mức độ hiểu bài.'\u001b[0m,\n",
       "\u001b[2;32m│   │   \u001b[0m\u001b[32m'Tổ chức cho học sinh chia sẻ kết quả và nhận xét, sau đó chốt kiến thức về đường tròn ngoại tiếp và tâm đường tròn ngoại tiếp.'\u001b[0m\n",
       "\u001b[2;32m│   \u001b[0m\u001b[1m]\u001b[0m,\n",
       "\u001b[2;32m│   \u001b[0m\u001b[32m'core_component'\u001b[0m: \u001b[32m'Học sinh làm việc cá nhân hoặc theo cặp \u001b[0m\u001b[32m(\u001b[0m\u001b[32mkhoảng 15-20 phút\u001b[0m\u001b[32m)\u001b[0m\u001b[32m để hoàn thành phiếu bài tập:\\n1.  **Vẽ và Khám phá:**\\n    *   Vẽ một tam giác ABC bất kỳ \u001b[0m\u001b[32m(\u001b[0m\u001b[32mhoặc sử dụng hình vẽ tam giác đã được cung cấp sẵn\u001b[0m\u001b[32m)\u001b[0m\u001b[32m.\\n    *   Vẽ đường trung trực của cạnh AB và BC.\\n    *   Xác định giao điểm O của hai đường trung trực này.\\n    *   Dùng compa vẽ đường tròn tâm O, bán kính OA \u001b[0m\u001b[32m(\u001b[0m\u001b[32mhoặc OB, OC\u001b[0m\u001b[32m)\u001b[0m\u001b[32m.\\n    *   Quan sát xem đường tròn này có đi qua cả ba đỉnh A, B, C của tam giác không.\\n    *   Thảo luận với bạn bên cạnh: Điểm O có vai trò gì đối với tam giác ABC và đường tròn vừa vẽ?\\n2.  **Kết nối kiến thức:**\\n    *   Dựa vào kết quả khám phá, hãy nêu định nghĩa về đường tròn ngoại tiếp tam giác và tâm đường tròn ngoại tiếp.'\u001b[0m,\n",
       "\u001b[2;32m│   \u001b[0m\u001b[32m'extension_component'\u001b[0m: \u001b[32m'Học sinh làm nhanh có thể thử vẽ đường tròn ngoại tiếp cho một tam giác vuông hoặc tam giác tù. Sau đó, nhận xét về vị trí của tâm đường tròn ngoại tiếp trong các trường hợp đặc biệt này. Hoặc tìm hiểu thêm về các ứng dụng của đường tròn ngoại tiếp trong thực tế.'\u001b[0m,\n",
       "\u001b[2;32m│   \u001b[0m\u001b[32m'solution_guide'\u001b[0m: \u001b[32m\"Gợi ý: Điểm nằm trên đường trung trực của một đoạn thẳng thì cách đều hai mút của đoạn thẳng đó. Câu hỏi gợi mở: 'Điểm O là giao điểm của đường trung trực của AB và BC, vậy O có tính chất gì đặc biệt đối với A, B, C?' Chốt kiến thức: Tâm đường tròn ngoại tiếp là giao điểm của ba đường trung trực của tam giác và đường tròn ngoại tiếp là đường tròn đi qua ba đỉnh của tam giác.\"\u001b[0m,\n",
       "\u001b[2;32m│   \u001b[0m\u001b[32m'differentiation'\u001b[0m: \u001b[1m{\u001b[0m\n",
       "\u001b[2;32m│   │   \u001b[0m\u001b[32m'for_struggling_students'\u001b[0m: \u001b[32m\"Cung cấp hình vẽ tam giác đã được vẽ sẵn trên phiếu bài tập để học sinh tập trung vào việc vẽ đường trung trực và đường tròn. Giáo viên có thể gợi ý từng bước cụ thể hơn \u001b[0m\u001b[32m(\u001b[0m\u001b[32mví dụ: 'Để vẽ đường trung trực của AB, em cần làm gì trước?'\u001b[0m\u001b[32m)\u001b[0m\u001b[32m.\"\u001b[0m,\n",
       "\u001b[2;32m│   │   \u001b[0m\u001b[32m'for_advanced_students'\u001b[0m: \u001b[32m'Yêu cầu học sinh chứng minh tại sao giao điểm của hai đường trung trực lại cách đều ba đỉnh của tam giác. Thử vẽ đường trung trực của cạnh còn lại \u001b[0m\u001b[32m(\u001b[0m\u001b[32mAC\u001b[0m\u001b[32m)\u001b[0m\u001b[32m và nhận xét về vị trí của nó. Nêu nhận xét về vị trí của tâm đường tròn ngoại tiếp đối với tam giác nhọn, tam giác vuông, tam giác tù.'\u001b[0m\n",
       "\u001b[2;32m│   \u001b[0m\u001b[1m}\u001b[0m,\n",
       "\u001b[2;32m│   \u001b[0m\u001b[32m'content_type'\u001b[0m: \u001b[32m'Thực hành cá nhân/theo cặp'\u001b[0m\n",
       "\u001b[1m}\u001b[0m\n"
      ]
     },
     "metadata": {},
     "output_type": "display_data"
    },
    {
     "data": {
      "text/html": [
       "<pre style=\"white-space:pre;overflow-x:auto;line-height:normal;font-family:Menlo,'DejaVu Sans Mono',consolas,'Courier New',monospace\">\n",
       "<span style=\"color: #808000; text-decoration-color: #808000; font-weight: bold\">------- Hoàn thành bước: theory_synthesizer -------</span>\n",
       "</pre>\n"
      ],
      "text/plain": [
       "\n",
       "\u001b[1;33m------- Hoàn thành bước: theory_synthesizer -------\u001b[0m\n"
      ]
     },
     "metadata": {},
     "output_type": "display_data"
    },
    {
     "data": {
      "text/html": [
       "<pre style=\"white-space:pre;overflow-x:auto;line-height:normal;font-family:Menlo,'DejaVu Sans Mono',consolas,'Courier New',monospace\">\n",
       "<span style=\"color: #008080; text-decoration-color: #008080; font-weight: bold\">&gt;</span> `Agent: Guardian Critic` <span style=\"font-weight: bold\">(</span>v12.<span style=\"color: #008080; text-decoration-color: #008080; font-weight: bold\">1</span> - Cố vấn Thông thái<span style=\"font-weight: bold\">)</span> đang bảo vệ kế hoạch<span style=\"color: #808000; text-decoration-color: #808000\">...</span>\n",
       "</pre>\n"
      ],
      "text/plain": [
       "\n",
       "\u001b[1;36m>\u001b[0m `Agent: Guardian Critic` \u001b[1m(\u001b[0mv12.\u001b[1;36m1\u001b[0m - Cố vấn Thông thái\u001b[1m)\u001b[0m đang bảo vệ kế hoạch\u001b[33m...\u001b[0m\n"
      ]
     },
     "metadata": {},
     "output_type": "display_data"
    },
    {
     "data": {
      "text/html": [
       "<pre style=\"white-space:pre;overflow-x:auto;line-height:normal;font-family:Menlo,'DejaVu Sans Mono',consolas,'Courier New',monospace\"><span style=\"color: #808000; text-decoration-color: #808000; font-weight: bold\">⚠️  GUARDIAN PHẢN BIỆN (có tính xây dựng): Hoạt động yêu cầu học sinh thực hiện nhiều bước vẽ hình phức tạp (vẽ hai</span>\n",
       "<span style=\"color: #808000; text-decoration-color: #808000; font-weight: bold\">đường trung trực chính xác, sau đó vẽ đường tròn) và đồng thời khám phá, thảo luận, rút ra định nghĩa trong khoảng </span>\n",
       "<span style=\"color: #808000; text-decoration-color: #808000; font-weight: bold\">thời gian </span><span style=\"color: #808000; text-decoration-color: #808000; font-weight: bold\">15</span><span style=\"color: #808000; text-decoration-color: #808000; font-weight: bold\">-</span><span style=\"color: #808000; text-decoration-color: #808000; font-weight: bold\">20</span><span style=\"color: #808000; text-decoration-color: #808000; font-weight: bold\"> phút là quá tải. Thời gian còn lại cho giáo viên hướng dẫn, quan sát và chốt kiến thức (khoảng </span><span style=\"color: #808000; text-decoration-color: #808000; font-weight: bold\">5</span><span style=\"color: #808000; text-decoration-color: #808000; font-weight: bold\">-</span><span style=\"color: #808000; text-decoration-color: #808000; font-weight: bold\">10</span>\n",
       "<span style=\"color: #808000; text-decoration-color: #808000; font-weight: bold\">phút) là không đủ. Tổng thời gian ước tính cho hoạt động này phải từ </span><span style=\"color: #808000; text-decoration-color: #808000; font-weight: bold\">30</span><span style=\"color: #808000; text-decoration-color: #808000; font-weight: bold\">-</span><span style=\"color: #808000; text-decoration-color: #808000; font-weight: bold\">35</span><span style=\"color: #808000; text-decoration-color: #808000; font-weight: bold\"> phút mới khả thi. Để đảm bảo hoạt động </span>\n",
       "<span style=\"color: #808000; text-decoration-color: #808000; font-weight: bold\">khả thi trong </span><span style=\"color: #808000; text-decoration-color: #808000; font-weight: bold\">25</span><span style=\"color: #808000; text-decoration-color: #808000; font-weight: bold\"> phút, hãy đơn giản hóa phần vẽ hình của học sinh. Ví dụ, có thể cung cấp hình vẽ tam giác đã có </span>\n",
       "<span style=\"color: #808000; text-decoration-color: #808000; font-weight: bold\">sẵn một đường trung trực, hoặc yêu cầu học sinh chỉ cần vẽ một đường trung trực và giáo viên hỗ trợ phần còn lại để</span>\n",
       "<span style=\"color: #808000; text-decoration-color: #808000; font-weight: bold\">tìm tâm. Hoặc, cân nhắc giảm bớt yêu cầu về việc tự rút ra định nghĩa chi tiết, thay vào đó tập trung vào việc quan</span>\n",
       "<span style=\"color: #808000; text-decoration-color: #808000; font-weight: bold\">sát và nhận biết.</span>\n",
       "</pre>\n"
      ],
      "text/plain": [
       "\u001b[1;33m⚠️  GUARDIAN PHẢN BIỆN \u001b[0m\u001b[1;33m(\u001b[0m\u001b[1;33mcó tính xây dựng\u001b[0m\u001b[1;33m)\u001b[0m\u001b[1;33m: Hoạt động yêu cầu học sinh thực hiện nhiều bước vẽ hình phức tạp \u001b[0m\u001b[1;33m(\u001b[0m\u001b[1;33mvẽ hai\u001b[0m\n",
       "\u001b[1;33mđường trung trực chính xác, sau đó vẽ đường tròn\u001b[0m\u001b[1;33m)\u001b[0m\u001b[1;33m và đồng thời khám phá, thảo luận, rút ra định nghĩa trong khoảng \u001b[0m\n",
       "\u001b[1;33mthời gian \u001b[0m\u001b[1;33m15\u001b[0m\u001b[1;33m-\u001b[0m\u001b[1;33m20\u001b[0m\u001b[1;33m phút là quá tải. Thời gian còn lại cho giáo viên hướng dẫn, quan sát và chốt kiến thức \u001b[0m\u001b[1;33m(\u001b[0m\u001b[1;33mkhoảng \u001b[0m\u001b[1;33m5\u001b[0m\u001b[1;33m-\u001b[0m\u001b[1;33m10\u001b[0m\n",
       "\u001b[1;33mphút\u001b[0m\u001b[1;33m)\u001b[0m\u001b[1;33m là không đủ. Tổng thời gian ước tính cho hoạt động này phải từ \u001b[0m\u001b[1;33m30\u001b[0m\u001b[1;33m-\u001b[0m\u001b[1;33m35\u001b[0m\u001b[1;33m phút mới khả thi. Để đảm bảo hoạt động \u001b[0m\n",
       "\u001b[1;33mkhả thi trong \u001b[0m\u001b[1;33m25\u001b[0m\u001b[1;33m phút, hãy đơn giản hóa phần vẽ hình của học sinh. Ví dụ, có thể cung cấp hình vẽ tam giác đã có \u001b[0m\n",
       "\u001b[1;33msẵn một đường trung trực, hoặc yêu cầu học sinh chỉ cần vẽ một đường trung trực và giáo viên hỗ trợ phần còn lại để\u001b[0m\n",
       "\u001b[1;33mtìm tâm. Hoặc, cân nhắc giảm bớt yêu cầu về việc tự rút ra định nghĩa chi tiết, thay vào đó tập trung vào việc quan\u001b[0m\n",
       "\u001b[1;33msát và nhận biết.\u001b[0m\n"
      ]
     },
     "metadata": {},
     "output_type": "display_data"
    },
    {
     "data": {
      "text/html": [
       "<pre style=\"white-space:pre;overflow-x:auto;line-height:normal;font-family:Menlo,'DejaVu Sans Mono',consolas,'Courier New',monospace\"><span style=\"color: #808000; text-decoration-color: #808000; font-weight: bold\">⚠️  ROUTER (Validation): Nội dung bị từ chối. Thử lại lần </span><span style=\"color: #808000; text-decoration-color: #808000; font-weight: bold\">1</span><span style=\"color: #808000; text-decoration-color: #808000; font-weight: bold\">/</span><span style=\"color: #808000; text-decoration-color: #808000; font-weight: bold\">2</span><span style=\"color: #808000; text-decoration-color: #808000; font-weight: bold\">.</span>\n",
       "</pre>\n"
      ],
      "text/plain": [
       "\u001b[1;33m⚠️  ROUTER \u001b[0m\u001b[1;33m(\u001b[0m\u001b[1;33mValidation\u001b[0m\u001b[1;33m)\u001b[0m\u001b[1;33m: Nội dung bị từ chối. Thử lại lần \u001b[0m\u001b[1;33m1\u001b[0m\u001b[1;33m/\u001b[0m\u001b[1;33m2\u001b[0m\u001b[1;33m.\u001b[0m\n"
      ]
     },
     "metadata": {},
     "output_type": "display_data"
    },
    {
     "data": {
      "text/html": [
       "<pre style=\"white-space:pre;overflow-x:auto;line-height:normal;font-family:Menlo,'DejaVu Sans Mono',consolas,'Courier New',monospace\">\n",
       "<span style=\"color: #808000; text-decoration-color: #808000; font-weight: bold\">------- Hoàn thành bước: content_validator -------</span>\n",
       "</pre>\n"
      ],
      "text/plain": [
       "\n",
       "\u001b[1;33m------- Hoàn thành bước: content_validator -------\u001b[0m\n"
      ]
     },
     "metadata": {},
     "output_type": "display_data"
    },
    {
     "data": {
      "text/html": [
       "<pre style=\"white-space:pre;overflow-x:auto;line-height:normal;font-family:Menlo,'DejaVu Sans Mono',consolas,'Courier New',monospace\">\n",
       "<span style=\"color: #008080; text-decoration-color: #008080; font-weight: bold\">&gt;</span> `Agent: Task Dispatcher` đang giao việc<span style=\"color: #808000; text-decoration-color: #808000\">...</span>\n",
       "</pre>\n"
      ],
      "text/plain": [
       "\n",
       "\u001b[1;36m>\u001b[0m `Agent: Task Dispatcher` đang giao việc\u001b[33m...\u001b[0m\n"
      ]
     },
     "metadata": {},
     "output_type": "display_data"
    },
    {
     "data": {
      "text/html": [
       "<pre style=\"white-space:pre;overflow-x:auto;line-height:normal;font-family:Menlo,'DejaVu Sans Mono',consolas,'Courier New',monospace\">\n",
       "<span style=\"color: #008080; text-decoration-color: #008080; font-weight: bold\">&gt;</span> --- 🚚 `Dispatcher`: Giao nhiệm vụ cho `activity_designer`.\n",
       "</pre>\n"
      ],
      "text/plain": [
       "\n",
       "\u001b[1;36m>\u001b[0m --- 🚚 `Dispatcher`: Giao nhiệm vụ cho `activity_designer`.\n"
      ]
     },
     "metadata": {},
     "output_type": "display_data"
    },
    {
     "data": {
      "text/html": [
       "<pre style=\"white-space:pre;overflow-x:auto;line-height:normal;font-family:Menlo,'DejaVu Sans Mono',consolas,'Courier New',monospace\">\n",
       "<span style=\"color: #808000; text-decoration-color: #808000; font-weight: bold\">------- Hoàn thành bước: task_dispatcher -------</span>\n",
       "</pre>\n"
      ],
      "text/plain": [
       "\n",
       "\u001b[1;33m------- Hoàn thành bước: task_dispatcher -------\u001b[0m\n"
      ]
     },
     "metadata": {},
     "output_type": "display_data"
    },
    {
     "data": {
      "text/html": [
       "<pre style=\"white-space:pre;overflow-x:auto;line-height:normal;font-family:Menlo,'DejaVu Sans Mono',consolas,'Courier New',monospace\">\n",
       "<span style=\"color: #008080; text-decoration-color: #008080; font-weight: bold\">&gt;</span> `Agent: Activity Designer` <span style=\"font-weight: bold\">(</span>v12.<span style=\"color: #008080; text-decoration-color: #008080; font-weight: bold\">0</span><span style=\"font-weight: bold\">)</span> đang tạo nội dung theo kỷ luật<span style=\"color: #808000; text-decoration-color: #808000\">...</span>\n",
       "</pre>\n"
      ],
      "text/plain": [
       "\n",
       "\u001b[1;36m>\u001b[0m `Agent: Activity Designer` \u001b[1m(\u001b[0mv12.\u001b[1;36m0\u001b[0m\u001b[1m)\u001b[0m đang tạo nội dung theo kỷ luật\u001b[33m...\u001b[0m\n"
      ]
     },
     "metadata": {},
     "output_type": "display_data"
    },
    {
     "data": {
      "text/html": [
       "<pre style=\"white-space:pre;overflow-x:auto;line-height:normal;font-family:Menlo,'DejaVu Sans Mono',consolas,'Courier New',monospace\"><span style=\"color: #008000; text-decoration-color: #008000; font-weight: bold\">✔️ Nội dung do Activity Designer tạo ra:</span>\n",
       "</pre>\n"
      ],
      "text/plain": [
       "\u001b[1;32m✔️ Nội dung do Activity Designer tạo ra:\u001b[0m\n"
      ]
     },
     "metadata": {},
     "output_type": "display_data"
    },
    {
     "data": {
      "text/html": [
       "<pre style=\"white-space:pre;overflow-x:auto;line-height:normal;font-family:Menlo,'DejaVu Sans Mono',consolas,'Courier New',monospace\"><span style=\"font-weight: bold\">{</span>\n",
       "<span style=\"color: #7fbf7f; text-decoration-color: #7fbf7f\">│   </span><span style=\"color: #008000; text-decoration-color: #008000\">'activity_name'</span>: <span style=\"color: #008000; text-decoration-color: #008000\">'Khám phá Đường tròn ngoại tiếp'</span>,\n",
       "<span style=\"color: #7fbf7f; text-decoration-color: #7fbf7f\">│   </span><span style=\"color: #008000; text-decoration-color: #008000\">'duration_minutes'</span>: <span style=\"color: #008080; text-decoration-color: #008080; font-weight: bold\">25</span>,\n",
       "<span style=\"color: #7fbf7f; text-decoration-color: #7fbf7f\">│   </span><span style=\"color: #008000; text-decoration-color: #008000\">'teacher_actions'</span>: <span style=\"font-weight: bold\">[</span>\n",
       "<span style=\"color: #7fbf7f; text-decoration-color: #7fbf7f\">│   │   </span><span style=\"color: #008000; text-decoration-color: #008000\">'Giới thiệu nhiệm vụ và mục tiêu của hoạt động.'</span>,\n",
       "<span style=\"color: #7fbf7f; text-decoration-color: #7fbf7f\">│   │   </span><span style=\"color: #008000; text-decoration-color: #008000\">'Phát phiếu học tập và dụng cụ (compa, thước kẻ) cho các nhóm.'</span>,\n",
       "<span style=\"color: #7fbf7f; text-decoration-color: #7fbf7f\">│   │   </span><span style=\"color: #008000; text-decoration-color: #008000\">'Hướng dẫn rõ ràng các bước thực hiện, đặc biệt là cách vẽ đường trung trực và sử dụng compa.'</span>,\n",
       "<span style=\"color: #7fbf7f; text-decoration-color: #7fbf7f\">│   │   </span><span style=\"color: #008000; text-decoration-color: #008000\">'Đi vòng quanh các nhóm, quan sát, hỗ trợ kịp thời khi học sinh gặp khó khăn trong việc vẽ hoặc xác định giao điểm.'</span>,\n",
       "<span style=\"color: #7fbf7f; text-decoration-color: #7fbf7f\">│   │   </span><span style=\"color: #008000; text-decoration-color: #008000\">\"Gợi ý các câu hỏi để thúc đẩy thảo luận và khám phá (ví dụ: 'Các đỉnh của tam giác có nằm trên đường tròn không?', 'Khoảng cách từ giao điểm đến các đỉnh có bằng nhau không?').\"</span>,\n",
       "<span style=\"color: #7fbf7f; text-decoration-color: #7fbf7f\">│   │   </span><span style=\"color: #008000; text-decoration-color: #008000\">'Tổ chức cho một vài nhóm trình bày kết quả và định nghĩa của mình.'</span>,\n",
       "<span style=\"color: #7fbf7f; text-decoration-color: #7fbf7f\">│   │   </span><span style=\"color: #008000; text-decoration-color: #008000\">'Tổng kết, chuẩn hóa kiến thức về đường tròn ngoại tiếp, tâm đường tròn ngoại tiếp và các tính chất liên quan.'</span>\n",
       "<span style=\"color: #7fbf7f; text-decoration-color: #7fbf7f\">│   </span><span style=\"font-weight: bold\">]</span>,\n",
       "<span style=\"color: #7fbf7f; text-decoration-color: #7fbf7f\">│   </span><span style=\"color: #008000; text-decoration-color: #008000\">'core_component'</span>: <span style=\"color: #008000; text-decoration-color: #008000\">'Học sinh làm việc theo nhóm (2-3 người). Mỗi nhóm nhận một phiếu học tập có sẵn 2-3 tam giác khác nhau (ví dụ: tam giác nhọn, tam giác tù). Trên mỗi tam giác, giáo viên đã vẽ sẵn một đường trung trực của một cạnh. Nhiệm vụ của học sinh:\\n1. Vẽ thêm một đường trung trực của một cạnh khác trong mỗi tam giác.\\n2. Xác định giao điểm của hai đường trung trực này.\\n3. Dùng compa, đặt mũi nhọn vào giao điểm vừa tìm được và vẽ đường tròn đi qua ba đỉnh của tam giác.\\n4. Quan sát kết quả và thảo luận trong nhóm: Đường tròn này có gì đặc biệt? Giao điểm của các đường trung trực có vai trò gì đối với đường tròn và tam giác? Từ đó, thử phát biểu định nghĩa về đường tròn ngoại tiếp tam giác và tâm đường tròn ngoại tiếp.'</span>,\n",
       "<span style=\"color: #7fbf7f; text-decoration-color: #7fbf7f\">│   </span><span style=\"color: #008000; text-decoration-color: #008000\">'extension_component'</span>: <span style=\"color: #008000; text-decoration-color: #008000\">'Học sinh thử vẽ đường tròn ngoại tiếp cho một tam giác vuông hoặc một tam giác tù và nhận xét về vị trí của tâm đường tròn ngoại tiếp so với tam giác trong các trường hợp này.'</span>,\n",
       "<span style=\"color: #7fbf7f; text-decoration-color: #7fbf7f\">│   </span><span style=\"color: #008000; text-decoration-color: #008000\">'solution_guide'</span>: <span style=\"color: #008000; text-decoration-color: #008000\">'Các câu hỏi gợi mở để học sinh rút ra kiến thức:\\n- Giao điểm của hai đường trung trực có đặc điểm gì về khoảng cách đến các đỉnh của tam giác?\\n- Đường tròn vẽ được có đi qua tất cả ba đỉnh của tam giác không?\\n- Vậy, đường tròn đi qua ba đỉnh của một tam giác được gọi là gì?\\n- Tâm của đường tròn đó là điểm nào?\\n\\nKiến thức cần đạt:\\n- Giao điểm của ba đường trung trực của một tam giác là tâm của đường tròn đi qua ba đỉnh của tam giác đó.\\n- Đường tròn đi qua ba đỉnh của một tam giác được gọi là đường tròn ngoại tiếp tam giác.\\n- Tâm của đường tròn ngoại tiếp tam giác là giao điểm của ba đường trung trực của tam giác đó.'</span>,\n",
       "<span style=\"color: #7fbf7f; text-decoration-color: #7fbf7f\">│   </span><span style=\"color: #008000; text-decoration-color: #008000\">'differentiation'</span>: <span style=\"font-weight: bold\">{</span>\n",
       "<span style=\"color: #7fbf7f; text-decoration-color: #7fbf7f\">│   │   </span><span style=\"color: #008000; text-decoration-color: #008000\">'for_struggling_students'</span>: <span style=\"color: #008000; text-decoration-color: #008000\">\"Cung cấp các phiếu học tập mà trên đó đã có sẵn giao điểm của hai đường trung trực (tâm đường tròn ngoại tiếp) hoặc thậm chí cả hai đường trung trực đã được vẽ. Yêu cầu học sinh chỉ cần dùng compa vẽ đường tròn và quan sát. Gợi ý các câu hỏi đơn giản hơn như 'Đường tròn này đi qua những điểm nào của tam giác?' để giúp các em dễ dàng nhận biết.\"</span>,\n",
       "<span style=\"color: #7fbf7f; text-decoration-color: #7fbf7f\">│   │   </span><span style=\"color: #008000; text-decoration-color: #008000\">'for_advanced_students'</span>: <span style=\"color: #008000; text-decoration-color: #008000\">'Yêu cầu học sinh tự vẽ cả hai đường trung trực từ đầu trên một tam giác mới (chưa có đường trung trực nào được vẽ sẵn). Thử thách học sinh chứng minh tại sao giao điểm của các đường trung trực lại cách đều ba đỉnh của tam giác. Yêu cầu tìm hiểu và dự đoán vị trí của tâm đường tròn ngoại tiếp đối với tam giác nhọn, tam giác vuông và tam giác tù.'</span>\n",
       "<span style=\"color: #7fbf7f; text-decoration-color: #7fbf7f\">│   </span><span style=\"font-weight: bold\">}</span>,\n",
       "<span style=\"color: #7fbf7f; text-decoration-color: #7fbf7f\">│   </span><span style=\"color: #008000; text-decoration-color: #008000\">'content_type'</span>: <span style=\"color: #008000; text-decoration-color: #008000\">'Thực hành nhóm và thảo luận'</span>\n",
       "<span style=\"font-weight: bold\">}</span>\n",
       "</pre>\n"
      ],
      "text/plain": [
       "\u001b[1m{\u001b[0m\n",
       "\u001b[2;32m│   \u001b[0m\u001b[32m'activity_name'\u001b[0m: \u001b[32m'Khám phá Đường tròn ngoại tiếp'\u001b[0m,\n",
       "\u001b[2;32m│   \u001b[0m\u001b[32m'duration_minutes'\u001b[0m: \u001b[1;36m25\u001b[0m,\n",
       "\u001b[2;32m│   \u001b[0m\u001b[32m'teacher_actions'\u001b[0m: \u001b[1m[\u001b[0m\n",
       "\u001b[2;32m│   │   \u001b[0m\u001b[32m'Giới thiệu nhiệm vụ và mục tiêu của hoạt động.'\u001b[0m,\n",
       "\u001b[2;32m│   │   \u001b[0m\u001b[32m'Phát phiếu học tập và dụng cụ \u001b[0m\u001b[32m(\u001b[0m\u001b[32mcompa, thước kẻ\u001b[0m\u001b[32m)\u001b[0m\u001b[32m cho các nhóm.'\u001b[0m,\n",
       "\u001b[2;32m│   │   \u001b[0m\u001b[32m'Hướng dẫn rõ ràng các bước thực hiện, đặc biệt là cách vẽ đường trung trực và sử dụng compa.'\u001b[0m,\n",
       "\u001b[2;32m│   │   \u001b[0m\u001b[32m'Đi vòng quanh các nhóm, quan sát, hỗ trợ kịp thời khi học sinh gặp khó khăn trong việc vẽ hoặc xác định giao điểm.'\u001b[0m,\n",
       "\u001b[2;32m│   │   \u001b[0m\u001b[32m\"Gợi ý các câu hỏi để thúc đẩy thảo luận và khám phá \u001b[0m\u001b[32m(\u001b[0m\u001b[32mví dụ: 'Các đỉnh của tam giác có nằm trên đường tròn không?', 'Khoảng cách từ giao điểm đến các đỉnh có bằng nhau không?'\u001b[0m\u001b[32m)\u001b[0m\u001b[32m.\"\u001b[0m,\n",
       "\u001b[2;32m│   │   \u001b[0m\u001b[32m'Tổ chức cho một vài nhóm trình bày kết quả và định nghĩa của mình.'\u001b[0m,\n",
       "\u001b[2;32m│   │   \u001b[0m\u001b[32m'Tổng kết, chuẩn hóa kiến thức về đường tròn ngoại tiếp, tâm đường tròn ngoại tiếp và các tính chất liên quan.'\u001b[0m\n",
       "\u001b[2;32m│   \u001b[0m\u001b[1m]\u001b[0m,\n",
       "\u001b[2;32m│   \u001b[0m\u001b[32m'core_component'\u001b[0m: \u001b[32m'Học sinh làm việc theo nhóm \u001b[0m\u001b[32m(\u001b[0m\u001b[32m2-3 người\u001b[0m\u001b[32m)\u001b[0m\u001b[32m. Mỗi nhóm nhận một phiếu học tập có sẵn 2-3 tam giác khác nhau \u001b[0m\u001b[32m(\u001b[0m\u001b[32mví dụ: tam giác nhọn, tam giác tù\u001b[0m\u001b[32m)\u001b[0m\u001b[32m. Trên mỗi tam giác, giáo viên đã vẽ sẵn một đường trung trực của một cạnh. Nhiệm vụ của học sinh:\\n1. Vẽ thêm một đường trung trực của một cạnh khác trong mỗi tam giác.\\n2. Xác định giao điểm của hai đường trung trực này.\\n3. Dùng compa, đặt mũi nhọn vào giao điểm vừa tìm được và vẽ đường tròn đi qua ba đỉnh của tam giác.\\n4. Quan sát kết quả và thảo luận trong nhóm: Đường tròn này có gì đặc biệt? Giao điểm của các đường trung trực có vai trò gì đối với đường tròn và tam giác? Từ đó, thử phát biểu định nghĩa về đường tròn ngoại tiếp tam giác và tâm đường tròn ngoại tiếp.'\u001b[0m,\n",
       "\u001b[2;32m│   \u001b[0m\u001b[32m'extension_component'\u001b[0m: \u001b[32m'Học sinh thử vẽ đường tròn ngoại tiếp cho một tam giác vuông hoặc một tam giác tù và nhận xét về vị trí của tâm đường tròn ngoại tiếp so với tam giác trong các trường hợp này.'\u001b[0m,\n",
       "\u001b[2;32m│   \u001b[0m\u001b[32m'solution_guide'\u001b[0m: \u001b[32m'Các câu hỏi gợi mở để học sinh rút ra kiến thức:\\n- Giao điểm của hai đường trung trực có đặc điểm gì về khoảng cách đến các đỉnh của tam giác?\\n- Đường tròn vẽ được có đi qua tất cả ba đỉnh của tam giác không?\\n- Vậy, đường tròn đi qua ba đỉnh của một tam giác được gọi là gì?\\n- Tâm của đường tròn đó là điểm nào?\\n\\nKiến thức cần đạt:\\n- Giao điểm của ba đường trung trực của một tam giác là tâm của đường tròn đi qua ba đỉnh của tam giác đó.\\n- Đường tròn đi qua ba đỉnh của một tam giác được gọi là đường tròn ngoại tiếp tam giác.\\n- Tâm của đường tròn ngoại tiếp tam giác là giao điểm của ba đường trung trực của tam giác đó.'\u001b[0m,\n",
       "\u001b[2;32m│   \u001b[0m\u001b[32m'differentiation'\u001b[0m: \u001b[1m{\u001b[0m\n",
       "\u001b[2;32m│   │   \u001b[0m\u001b[32m'for_struggling_students'\u001b[0m: \u001b[32m\"Cung cấp các phiếu học tập mà trên đó đã có sẵn giao điểm của hai đường trung trực \u001b[0m\u001b[32m(\u001b[0m\u001b[32mtâm đường tròn ngoại tiếp\u001b[0m\u001b[32m)\u001b[0m\u001b[32m hoặc thậm chí cả hai đường trung trực đã được vẽ. Yêu cầu học sinh chỉ cần dùng compa vẽ đường tròn và quan sát. Gợi ý các câu hỏi đơn giản hơn như 'Đường tròn này đi qua những điểm nào của tam giác?' để giúp các em dễ dàng nhận biết.\"\u001b[0m,\n",
       "\u001b[2;32m│   │   \u001b[0m\u001b[32m'for_advanced_students'\u001b[0m: \u001b[32m'Yêu cầu học sinh tự vẽ cả hai đường trung trực từ đầu trên một tam giác mới \u001b[0m\u001b[32m(\u001b[0m\u001b[32mchưa có đường trung trực nào được vẽ sẵn\u001b[0m\u001b[32m)\u001b[0m\u001b[32m. Thử thách học sinh chứng minh tại sao giao điểm của các đường trung trực lại cách đều ba đỉnh của tam giác. Yêu cầu tìm hiểu và dự đoán vị trí của tâm đường tròn ngoại tiếp đối với tam giác nhọn, tam giác vuông và tam giác tù.'\u001b[0m\n",
       "\u001b[2;32m│   \u001b[0m\u001b[1m}\u001b[0m,\n",
       "\u001b[2;32m│   \u001b[0m\u001b[32m'content_type'\u001b[0m: \u001b[32m'Thực hành nhóm và thảo luận'\u001b[0m\n",
       "\u001b[1m}\u001b[0m\n"
      ]
     },
     "metadata": {},
     "output_type": "display_data"
    },
    {
     "data": {
      "text/html": [
       "<pre style=\"white-space:pre;overflow-x:auto;line-height:normal;font-family:Menlo,'DejaVu Sans Mono',consolas,'Courier New',monospace\">\n",
       "<span style=\"color: #808000; text-decoration-color: #808000; font-weight: bold\">------- Hoàn thành bước: activity_designer -------</span>\n",
       "</pre>\n"
      ],
      "text/plain": [
       "\n",
       "\u001b[1;33m------- Hoàn thành bước: activity_designer -------\u001b[0m\n"
      ]
     },
     "metadata": {},
     "output_type": "display_data"
    },
    {
     "data": {
      "text/html": [
       "<pre style=\"white-space:pre;overflow-x:auto;line-height:normal;font-family:Menlo,'DejaVu Sans Mono',consolas,'Courier New',monospace\">\n",
       "<span style=\"color: #008080; text-decoration-color: #008080; font-weight: bold\">&gt;</span> `Agent: Guardian Critic` <span style=\"font-weight: bold\">(</span>v12.<span style=\"color: #008080; text-decoration-color: #008080; font-weight: bold\">1</span> - Cố vấn Thông thái<span style=\"font-weight: bold\">)</span> đang bảo vệ kế hoạch<span style=\"color: #808000; text-decoration-color: #808000\">...</span>\n",
       "</pre>\n"
      ],
      "text/plain": [
       "\n",
       "\u001b[1;36m>\u001b[0m `Agent: Guardian Critic` \u001b[1m(\u001b[0mv12.\u001b[1;36m1\u001b[0m - Cố vấn Thông thái\u001b[1m)\u001b[0m đang bảo vệ kế hoạch\u001b[33m...\u001b[0m\n"
      ]
     },
     "metadata": {},
     "output_type": "display_data"
    },
    {
     "data": {
      "text/html": [
       "<pre style=\"white-space:pre;overflow-x:auto;line-height:normal;font-family:Menlo,'DejaVu Sans Mono',consolas,'Courier New',monospace\"><span style=\"color: #808000; text-decoration-color: #808000; font-weight: bold\">⚠️  GUARDIAN PHẢN BIỆN (có tính xây dựng): Hoạt động yêu cầu học sinh vẽ đường trung trực và đường tròn ngoại tiếp </span>\n",
       "<span style=\"color: #808000; text-decoration-color: #808000; font-weight: bold\">cho </span><span style=\"color: #808000; text-decoration-color: #808000; font-weight: bold\">2</span><span style=\"color: #808000; text-decoration-color: #808000; font-weight: bold\">-</span><span style=\"color: #808000; text-decoration-color: #808000; font-weight: bold\">3</span><span style=\"color: #808000; text-decoration-color: #808000; font-weight: bold\"> tam giác, sau đó thảo luận, trình bày và giáo viên tổng kết trong </span><span style=\"color: #808000; text-decoration-color: #808000; font-weight: bold\">25</span><span style=\"color: #808000; text-decoration-color: #808000; font-weight: bold\"> phút là quá nhiều. Việc vẽ hình đòi </span>\n",
       "<span style=\"color: #808000; text-decoration-color: #808000; font-weight: bold\">hỏi sự tỉ mỉ và thời gian, đặc biệt là với nhiều tam giác. Phần thảo luận và trình bày cũng cần đủ thời gian để học</span>\n",
       "<span style=\"color: #808000; text-decoration-color: #808000; font-weight: bold\">sinh rút ra kiến thức. Để đảm bảo hoạt động khả thi trong </span><span style=\"color: #808000; text-decoration-color: #808000; font-weight: bold\">25</span><span style=\"color: #808000; text-decoration-color: #808000; font-weight: bold\"> phút, hãy giảm số lượng tam giác học sinh cần thực </span>\n",
       "<span style=\"color: #808000; text-decoration-color: #808000; font-weight: bold\">hành xuống chỉ còn </span><span style=\"color: #808000; text-decoration-color: #808000; font-weight: bold\">1</span><span style=\"color: #808000; text-decoration-color: #808000; font-weight: bold\"> tam giác duy nhất trong phần hoạt động cốt lõi và loại bỏ hoàn toàn phần </span>\n",
       "<span style=\"color: #808000; text-decoration-color: #808000; font-weight: bold\">'extension_component'</span><span style=\"color: #808000; text-decoration-color: #808000; font-weight: bold\">.</span>\n",
       "</pre>\n"
      ],
      "text/plain": [
       "\u001b[1;33m⚠️  GUARDIAN PHẢN BIỆN \u001b[0m\u001b[1;33m(\u001b[0m\u001b[1;33mcó tính xây dựng\u001b[0m\u001b[1;33m)\u001b[0m\u001b[1;33m: Hoạt động yêu cầu học sinh vẽ đường trung trực và đường tròn ngoại tiếp \u001b[0m\n",
       "\u001b[1;33mcho \u001b[0m\u001b[1;33m2\u001b[0m\u001b[1;33m-\u001b[0m\u001b[1;33m3\u001b[0m\u001b[1;33m tam giác, sau đó thảo luận, trình bày và giáo viên tổng kết trong \u001b[0m\u001b[1;33m25\u001b[0m\u001b[1;33m phút là quá nhiều. Việc vẽ hình đòi \u001b[0m\n",
       "\u001b[1;33mhỏi sự tỉ mỉ và thời gian, đặc biệt là với nhiều tam giác. Phần thảo luận và trình bày cũng cần đủ thời gian để học\u001b[0m\n",
       "\u001b[1;33msinh rút ra kiến thức. Để đảm bảo hoạt động khả thi trong \u001b[0m\u001b[1;33m25\u001b[0m\u001b[1;33m phút, hãy giảm số lượng tam giác học sinh cần thực \u001b[0m\n",
       "\u001b[1;33mhành xuống chỉ còn \u001b[0m\u001b[1;33m1\u001b[0m\u001b[1;33m tam giác duy nhất trong phần hoạt động cốt lõi và loại bỏ hoàn toàn phần \u001b[0m\n",
       "\u001b[1;33m'extension_component'\u001b[0m\u001b[1;33m.\u001b[0m\n"
      ]
     },
     "metadata": {},
     "output_type": "display_data"
    },
    {
     "data": {
      "text/html": [
       "<pre style=\"white-space:pre;overflow-x:auto;line-height:normal;font-family:Menlo,'DejaVu Sans Mono',consolas,'Courier New',monospace\"><span style=\"color: #808000; text-decoration-color: #808000; font-weight: bold\">⚠️  ROUTER (Validation): Nội dung bị từ chối. Thử lại lần </span><span style=\"color: #808000; text-decoration-color: #808000; font-weight: bold\">1</span><span style=\"color: #808000; text-decoration-color: #808000; font-weight: bold\">/</span><span style=\"color: #808000; text-decoration-color: #808000; font-weight: bold\">2</span><span style=\"color: #808000; text-decoration-color: #808000; font-weight: bold\">.</span>\n",
       "</pre>\n"
      ],
      "text/plain": [
       "\u001b[1;33m⚠️  ROUTER \u001b[0m\u001b[1;33m(\u001b[0m\u001b[1;33mValidation\u001b[0m\u001b[1;33m)\u001b[0m\u001b[1;33m: Nội dung bị từ chối. Thử lại lần \u001b[0m\u001b[1;33m1\u001b[0m\u001b[1;33m/\u001b[0m\u001b[1;33m2\u001b[0m\u001b[1;33m.\u001b[0m\n"
      ]
     },
     "metadata": {},
     "output_type": "display_data"
    },
    {
     "data": {
      "text/html": [
       "<pre style=\"white-space:pre;overflow-x:auto;line-height:normal;font-family:Menlo,'DejaVu Sans Mono',consolas,'Courier New',monospace\">\n",
       "<span style=\"color: #808000; text-decoration-color: #808000; font-weight: bold\">------- Hoàn thành bước: content_validator -------</span>\n",
       "</pre>\n"
      ],
      "text/plain": [
       "\n",
       "\u001b[1;33m------- Hoàn thành bước: content_validator -------\u001b[0m\n"
      ]
     },
     "metadata": {},
     "output_type": "display_data"
    },
    {
     "data": {
      "text/html": [
       "<pre style=\"white-space:pre;overflow-x:auto;line-height:normal;font-family:Menlo,'DejaVu Sans Mono',consolas,'Courier New',monospace\">\n",
       "<span style=\"color: #008080; text-decoration-color: #008080; font-weight: bold\">&gt;</span> `Agent: Task Dispatcher` đang giao việc<span style=\"color: #808000; text-decoration-color: #808000\">...</span>\n",
       "</pre>\n"
      ],
      "text/plain": [
       "\n",
       "\u001b[1;36m>\u001b[0m `Agent: Task Dispatcher` đang giao việc\u001b[33m...\u001b[0m\n"
      ]
     },
     "metadata": {},
     "output_type": "display_data"
    },
    {
     "data": {
      "text/html": [
       "<pre style=\"white-space:pre;overflow-x:auto;line-height:normal;font-family:Menlo,'DejaVu Sans Mono',consolas,'Courier New',monospace\">\n",
       "<span style=\"color: #008080; text-decoration-color: #008080; font-weight: bold\">&gt;</span> --- 🚚 `Dispatcher`: Giao nhiệm vụ cho `activity_designer`.\n",
       "</pre>\n"
      ],
      "text/plain": [
       "\n",
       "\u001b[1;36m>\u001b[0m --- 🚚 `Dispatcher`: Giao nhiệm vụ cho `activity_designer`.\n"
      ]
     },
     "metadata": {},
     "output_type": "display_data"
    },
    {
     "data": {
      "text/html": [
       "<pre style=\"white-space:pre;overflow-x:auto;line-height:normal;font-family:Menlo,'DejaVu Sans Mono',consolas,'Courier New',monospace\">\n",
       "<span style=\"color: #808000; text-decoration-color: #808000; font-weight: bold\">------- Hoàn thành bước: task_dispatcher -------</span>\n",
       "</pre>\n"
      ],
      "text/plain": [
       "\n",
       "\u001b[1;33m------- Hoàn thành bước: task_dispatcher -------\u001b[0m\n"
      ]
     },
     "metadata": {},
     "output_type": "display_data"
    },
    {
     "data": {
      "text/html": [
       "<pre style=\"white-space:pre;overflow-x:auto;line-height:normal;font-family:Menlo,'DejaVu Sans Mono',consolas,'Courier New',monospace\">\n",
       "<span style=\"color: #008080; text-decoration-color: #008080; font-weight: bold\">&gt;</span> `Agent: Activity Designer` <span style=\"font-weight: bold\">(</span>v12.<span style=\"color: #008080; text-decoration-color: #008080; font-weight: bold\">0</span><span style=\"font-weight: bold\">)</span> đang tạo nội dung theo kỷ luật<span style=\"color: #808000; text-decoration-color: #808000\">...</span>\n",
       "</pre>\n"
      ],
      "text/plain": [
       "\n",
       "\u001b[1;36m>\u001b[0m `Agent: Activity Designer` \u001b[1m(\u001b[0mv12.\u001b[1;36m0\u001b[0m\u001b[1m)\u001b[0m đang tạo nội dung theo kỷ luật\u001b[33m...\u001b[0m\n"
      ]
     },
     "metadata": {},
     "output_type": "display_data"
    },
    {
     "data": {
      "text/html": [
       "<pre style=\"white-space:pre;overflow-x:auto;line-height:normal;font-family:Menlo,'DejaVu Sans Mono',consolas,'Courier New',monospace\"><span style=\"color: #008000; text-decoration-color: #008000; font-weight: bold\">✔️ Nội dung do Activity Designer tạo ra:</span>\n",
       "</pre>\n"
      ],
      "text/plain": [
       "\u001b[1;32m✔️ Nội dung do Activity Designer tạo ra:\u001b[0m\n"
      ]
     },
     "metadata": {},
     "output_type": "display_data"
    },
    {
     "data": {
      "text/html": [
       "<pre style=\"white-space:pre;overflow-x:auto;line-height:normal;font-family:Menlo,'DejaVu Sans Mono',consolas,'Courier New',monospace\"><span style=\"font-weight: bold\">{</span>\n",
       "<span style=\"color: #7fbf7f; text-decoration-color: #7fbf7f\">│   </span><span style=\"color: #008000; text-decoration-color: #008000\">'activity_name'</span>: <span style=\"color: #008000; text-decoration-color: #008000\">'Khám phá Đường tròn ngoại tiếp'</span>,\n",
       "<span style=\"color: #7fbf7f; text-decoration-color: #7fbf7f\">│   </span><span style=\"color: #008000; text-decoration-color: #008000\">'duration_minutes'</span>: <span style=\"color: #008080; text-decoration-color: #008080; font-weight: bold\">25</span>,\n",
       "<span style=\"color: #7fbf7f; text-decoration-color: #7fbf7f\">│   </span><span style=\"color: #008000; text-decoration-color: #008000\">'teacher_actions'</span>: <span style=\"font-weight: bold\">[</span>\n",
       "<span style=\"color: #7fbf7f; text-decoration-color: #7fbf7f\">│   │   </span><span style=\"color: #008000; text-decoration-color: #008000\">'Giới thiệu mục tiêu bài học và hướng dẫn hoạt động.'</span>,\n",
       "<span style=\"color: #7fbf7f; text-decoration-color: #7fbf7f\">│   │   </span><span style=\"color: #008000; text-decoration-color: #008000\">'Phát giấy, thước, compa cho từng học sinh hoặc nhóm nhỏ.'</span>,\n",
       "<span style=\"color: #7fbf7f; text-decoration-color: #7fbf7f\">│   │   </span><span style=\"color: #008000; text-decoration-color: #008000\">'Hướng dẫn học sinh vẽ một tam giác bất kỳ trên giấy.'</span>,\n",
       "<span style=\"color: #7fbf7f; text-decoration-color: #7fbf7f\">│   │   </span><span style=\"color: #008000; text-decoration-color: #008000\">'Quan sát, đi lại các nhóm/cá nhân để hỗ trợ, giải đáp thắc mắc trong quá trình học sinh thực hành vẽ đường trung trực và đường tròn ngoại tiếp.'</span>,\n",
       "<span style=\"color: #7fbf7f; text-decoration-color: #7fbf7f\">│   │   </span><span style=\"color: #008000; text-decoration-color: #008000\">'Gợi ý học sinh thảo luận nhóm nhỏ (2-3 em) về điểm đặc biệt của giao điểm các đường trung trực và mối liên hệ với đường tròn đi qua ba đỉnh.'</span>,\n",
       "<span style=\"color: #7fbf7f; text-decoration-color: #7fbf7f\">│   │   </span><span style=\"color: #008000; text-decoration-color: #008000\">'Mời đại diện một vài học sinh/nhóm trình bày kết quả và nhận xét.'</span>,\n",
       "<span style=\"color: #7fbf7f; text-decoration-color: #7fbf7f\">│   │   </span><span style=\"color: #008000; text-decoration-color: #008000\">'Tổng kết kiến thức, chốt lại định nghĩa, tính chất của đường tròn ngoại tiếp tam giác và vị trí tâm đường tròn trong các loại tam giác khác nhau.'</span>\n",
       "<span style=\"color: #7fbf7f; text-decoration-color: #7fbf7f\">│   </span><span style=\"font-weight: bold\">]</span>,\n",
       "<span style=\"color: #7fbf7f; text-decoration-color: #7fbf7f\">│   </span><span style=\"color: #008000; text-decoration-color: #008000\">'core_component'</span>: <span style=\"color: #008000; text-decoration-color: #008000\">'Học sinh làm việc cá nhân: Vẽ một tam giác bất kỳ (ví dụ: tam giác nhọn, tam giác tù, tam giác vuông) trên giấy. Sau đó, sử dụng thước và compa để vẽ hai đường trung trực của hai cạnh bất kỳ của tam giác đó. Xác định giao điểm của hai đường trung trực này. Từ giao điểm đó, vẽ đường tròn đi qua ba đỉnh của tam giác. Quan sát và ghi lại nhận xét về vị trí của tâm đường tròn và mối quan hệ với các đỉnh tam giác.'</span>,\n",
       "<span style=\"color: #7fbf7f; text-decoration-color: #7fbf7f\">│   </span><span style=\"color: #008000; text-decoration-color: #008000\">'extension_component'</span>: <span style=\"color: #800080; text-decoration-color: #800080; font-style: italic\">None</span>,\n",
       "<span style=\"color: #7fbf7f; text-decoration-color: #7fbf7f\">│   </span><span style=\"color: #008000; text-decoration-color: #008000\">'solution_guide'</span>: <span style=\"color: #008000; text-decoration-color: #008000\">'Gợi ý: Giao điểm của hai đường trung trực chính là tâm của đường tròn ngoại tiếp. Khoảng cách từ tâm này đến ba đỉnh của tam giác là bằng nhau (bán kính đường tròn ngoại tiếp). Học sinh cần nhận ra rằng ba đường trung trực của một tam giác đồng quy tại một điểm, và điểm đó cách đều ba đỉnh của tam giác.'</span>,\n",
       "<span style=\"color: #7fbf7f; text-decoration-color: #7fbf7f\">│   </span><span style=\"color: #008000; text-decoration-color: #008000\">'differentiation'</span>: <span style=\"font-weight: bold\">{</span>\n",
       "<span style=\"color: #7fbf7f; text-decoration-color: #7fbf7f\">│   │   </span><span style=\"color: #008000; text-decoration-color: #008000\">'for_struggling_students'</span>: <span style=\"color: #008000; text-decoration-color: #008000\">'Giáo viên có thể cung cấp sẵn một tam giác đã vẽ hoặc hướng dẫn từng bước cụ thể cách vẽ đường trung trực (ví dụ: nhắc lại cách xác định trung điểm, cách vẽ đường vuông góc). Có thể cho học sinh chỉ cần vẽ một đường trung trực và giáo viên hỗ trợ phần còn lại, hoặc làm mẫu từng bước nhỏ trên bảng/máy chiếu.'</span>,\n",
       "<span style=\"color: #7fbf7f; text-decoration-color: #7fbf7f\">│   │   </span><span style=\"color: #008000; text-decoration-color: #008000\">'for_advanced_students'</span>: <span style=\"color: #008000; text-decoration-color: #008000\">'Sau khi hoàn thành, yêu cầu học sinh thử vẽ đường tròn ngoại tiếp cho một tam giác đặc biệt (ví dụ: tam giác đều, tam giác vuông) và nhận xét về vị trí của tâm đường tròn trong từng trường hợp. Hoặc yêu cầu học sinh giải thích/chứng minh tại sao giao điểm của các đường trung trực lại cách đều ba đỉnh của tam giác.'</span>\n",
       "<span style=\"color: #7fbf7f; text-decoration-color: #7fbf7f\">│   </span><span style=\"font-weight: bold\">}</span>,\n",
       "<span style=\"color: #7fbf7f; text-decoration-color: #7fbf7f\">│   </span><span style=\"color: #008000; text-decoration-color: #008000\">'content_type'</span>: <span style=\"color: #008000; text-decoration-color: #008000\">'Thực hành cá nhân và Thảo luận nhóm nhỏ'</span>\n",
       "<span style=\"font-weight: bold\">}</span>\n",
       "</pre>\n"
      ],
      "text/plain": [
       "\u001b[1m{\u001b[0m\n",
       "\u001b[2;32m│   \u001b[0m\u001b[32m'activity_name'\u001b[0m: \u001b[32m'Khám phá Đường tròn ngoại tiếp'\u001b[0m,\n",
       "\u001b[2;32m│   \u001b[0m\u001b[32m'duration_minutes'\u001b[0m: \u001b[1;36m25\u001b[0m,\n",
       "\u001b[2;32m│   \u001b[0m\u001b[32m'teacher_actions'\u001b[0m: \u001b[1m[\u001b[0m\n",
       "\u001b[2;32m│   │   \u001b[0m\u001b[32m'Giới thiệu mục tiêu bài học và hướng dẫn hoạt động.'\u001b[0m,\n",
       "\u001b[2;32m│   │   \u001b[0m\u001b[32m'Phát giấy, thước, compa cho từng học sinh hoặc nhóm nhỏ.'\u001b[0m,\n",
       "\u001b[2;32m│   │   \u001b[0m\u001b[32m'Hướng dẫn học sinh vẽ một tam giác bất kỳ trên giấy.'\u001b[0m,\n",
       "\u001b[2;32m│   │   \u001b[0m\u001b[32m'Quan sát, đi lại các nhóm/cá nhân để hỗ trợ, giải đáp thắc mắc trong quá trình học sinh thực hành vẽ đường trung trực và đường tròn ngoại tiếp.'\u001b[0m,\n",
       "\u001b[2;32m│   │   \u001b[0m\u001b[32m'Gợi ý học sinh thảo luận nhóm nhỏ \u001b[0m\u001b[32m(\u001b[0m\u001b[32m2-3 em\u001b[0m\u001b[32m)\u001b[0m\u001b[32m về điểm đặc biệt của giao điểm các đường trung trực và mối liên hệ với đường tròn đi qua ba đỉnh.'\u001b[0m,\n",
       "\u001b[2;32m│   │   \u001b[0m\u001b[32m'Mời đại diện một vài học sinh/nhóm trình bày kết quả và nhận xét.'\u001b[0m,\n",
       "\u001b[2;32m│   │   \u001b[0m\u001b[32m'Tổng kết kiến thức, chốt lại định nghĩa, tính chất của đường tròn ngoại tiếp tam giác và vị trí tâm đường tròn trong các loại tam giác khác nhau.'\u001b[0m\n",
       "\u001b[2;32m│   \u001b[0m\u001b[1m]\u001b[0m,\n",
       "\u001b[2;32m│   \u001b[0m\u001b[32m'core_component'\u001b[0m: \u001b[32m'Học sinh làm việc cá nhân: Vẽ một tam giác bất kỳ \u001b[0m\u001b[32m(\u001b[0m\u001b[32mví dụ: tam giác nhọn, tam giác tù, tam giác vuông\u001b[0m\u001b[32m)\u001b[0m\u001b[32m trên giấy. Sau đó, sử dụng thước và compa để vẽ hai đường trung trực của hai cạnh bất kỳ của tam giác đó. Xác định giao điểm của hai đường trung trực này. Từ giao điểm đó, vẽ đường tròn đi qua ba đỉnh của tam giác. Quan sát và ghi lại nhận xét về vị trí của tâm đường tròn và mối quan hệ với các đỉnh tam giác.'\u001b[0m,\n",
       "\u001b[2;32m│   \u001b[0m\u001b[32m'extension_component'\u001b[0m: \u001b[3;35mNone\u001b[0m,\n",
       "\u001b[2;32m│   \u001b[0m\u001b[32m'solution_guide'\u001b[0m: \u001b[32m'Gợi ý: Giao điểm của hai đường trung trực chính là tâm của đường tròn ngoại tiếp. Khoảng cách từ tâm này đến ba đỉnh của tam giác là bằng nhau \u001b[0m\u001b[32m(\u001b[0m\u001b[32mbán kính đường tròn ngoại tiếp\u001b[0m\u001b[32m)\u001b[0m\u001b[32m. Học sinh cần nhận ra rằng ba đường trung trực của một tam giác đồng quy tại một điểm, và điểm đó cách đều ba đỉnh của tam giác.'\u001b[0m,\n",
       "\u001b[2;32m│   \u001b[0m\u001b[32m'differentiation'\u001b[0m: \u001b[1m{\u001b[0m\n",
       "\u001b[2;32m│   │   \u001b[0m\u001b[32m'for_struggling_students'\u001b[0m: \u001b[32m'Giáo viên có thể cung cấp sẵn một tam giác đã vẽ hoặc hướng dẫn từng bước cụ thể cách vẽ đường trung trực \u001b[0m\u001b[32m(\u001b[0m\u001b[32mví dụ: nhắc lại cách xác định trung điểm, cách vẽ đường vuông góc\u001b[0m\u001b[32m)\u001b[0m\u001b[32m. Có thể cho học sinh chỉ cần vẽ một đường trung trực và giáo viên hỗ trợ phần còn lại, hoặc làm mẫu từng bước nhỏ trên bảng/máy chiếu.'\u001b[0m,\n",
       "\u001b[2;32m│   │   \u001b[0m\u001b[32m'for_advanced_students'\u001b[0m: \u001b[32m'Sau khi hoàn thành, yêu cầu học sinh thử vẽ đường tròn ngoại tiếp cho một tam giác đặc biệt \u001b[0m\u001b[32m(\u001b[0m\u001b[32mví dụ: tam giác đều, tam giác vuông\u001b[0m\u001b[32m)\u001b[0m\u001b[32m và nhận xét về vị trí của tâm đường tròn trong từng trường hợp. Hoặc yêu cầu học sinh giải thích/chứng minh tại sao giao điểm của các đường trung trực lại cách đều ba đỉnh của tam giác.'\u001b[0m\n",
       "\u001b[2;32m│   \u001b[0m\u001b[1m}\u001b[0m,\n",
       "\u001b[2;32m│   \u001b[0m\u001b[32m'content_type'\u001b[0m: \u001b[32m'Thực hành cá nhân và Thảo luận nhóm nhỏ'\u001b[0m\n",
       "\u001b[1m}\u001b[0m\n"
      ]
     },
     "metadata": {},
     "output_type": "display_data"
    },
    {
     "data": {
      "text/html": [
       "<pre style=\"white-space:pre;overflow-x:auto;line-height:normal;font-family:Menlo,'DejaVu Sans Mono',consolas,'Courier New',monospace\">\n",
       "<span style=\"color: #808000; text-decoration-color: #808000; font-weight: bold\">------- Hoàn thành bước: activity_designer -------</span>\n",
       "</pre>\n"
      ],
      "text/plain": [
       "\n",
       "\u001b[1;33m------- Hoàn thành bước: activity_designer -------\u001b[0m\n"
      ]
     },
     "metadata": {},
     "output_type": "display_data"
    },
    {
     "data": {
      "text/html": [
       "<pre style=\"white-space:pre;overflow-x:auto;line-height:normal;font-family:Menlo,'DejaVu Sans Mono',consolas,'Courier New',monospace\">\n",
       "<span style=\"color: #008080; text-decoration-color: #008080; font-weight: bold\">&gt;</span> `Agent: Guardian Critic` <span style=\"font-weight: bold\">(</span>v12.<span style=\"color: #008080; text-decoration-color: #008080; font-weight: bold\">1</span> - Cố vấn Thông thái<span style=\"font-weight: bold\">)</span> đang bảo vệ kế hoạch<span style=\"color: #808000; text-decoration-color: #808000\">...</span>\n",
       "</pre>\n"
      ],
      "text/plain": [
       "\n",
       "\u001b[1;36m>\u001b[0m `Agent: Guardian Critic` \u001b[1m(\u001b[0mv12.\u001b[1;36m1\u001b[0m - Cố vấn Thông thái\u001b[1m)\u001b[0m đang bảo vệ kế hoạch\u001b[33m...\u001b[0m\n"
      ]
     },
     "metadata": {},
     "output_type": "display_data"
    },
    {
     "data": {
      "text/html": [
       "<pre style=\"white-space:pre;overflow-x:auto;line-height:normal;font-family:Menlo,'DejaVu Sans Mono',consolas,'Courier New',monospace\"><span style=\"color: #808000; text-decoration-color: #808000; font-weight: bold\">⚠️  GUARDIAN PHẢN BIỆN (có tính xây dựng): Hoạt động này quá tham vọng cho </span><span style=\"color: #808000; text-decoration-color: #808000; font-weight: bold\">25</span><span style=\"color: #808000; text-decoration-color: #808000; font-weight: bold\"> phút. Việc vẽ hai đường trung trực và</span>\n",
       "<span style=\"color: #808000; text-decoration-color: #808000; font-weight: bold\">đường tròn ngoại tiếp đòi hỏi sự tỉ mỉ, chính xác và thường tốn nhiều thời gian hơn dự kiến, đặc biệt khi học sinh </span>\n",
       "<span style=\"color: #808000; text-decoration-color: #808000; font-weight: bold\">cần sự hỗ trợ từ giáo viên. Thêm vào đó, phần thảo luận nhóm và trình bày trước lớp sẽ khiến tổng thời lượng vượt </span>\n",
       "<span style=\"color: #808000; text-decoration-color: #808000; font-weight: bold\">xa </span><span style=\"color: #808000; text-decoration-color: #808000; font-weight: bold\">25</span><span style=\"color: #808000; text-decoration-color: #808000; font-weight: bold\"> phút. Hãy cắt giảm phần trình bày của học sinh trước lớp. Đồng thời, cân nhắc đơn giản hóa yêu cầu thực hành </span>\n",
       "<span style=\"color: #808000; text-decoration-color: #808000; font-weight: bold\">vẽ (ví dụ: chỉ yêu cầu vẽ một đường trung trực và giáo viên hỗ trợ phần còn lại, hoặc cung cấp sẵn tam giác đã vẽ </span>\n",
       "<span style=\"color: #808000; text-decoration-color: #808000; font-weight: bold\">để học sinh tập trung vào việc xác định tâm và vẽ đường tròn).</span>\n",
       "</pre>\n"
      ],
      "text/plain": [
       "\u001b[1;33m⚠️  GUARDIAN PHẢN BIỆN \u001b[0m\u001b[1;33m(\u001b[0m\u001b[1;33mcó tính xây dựng\u001b[0m\u001b[1;33m)\u001b[0m\u001b[1;33m: Hoạt động này quá tham vọng cho \u001b[0m\u001b[1;33m25\u001b[0m\u001b[1;33m phút. Việc vẽ hai đường trung trực và\u001b[0m\n",
       "\u001b[1;33mđường tròn ngoại tiếp đòi hỏi sự tỉ mỉ, chính xác và thường tốn nhiều thời gian hơn dự kiến, đặc biệt khi học sinh \u001b[0m\n",
       "\u001b[1;33mcần sự hỗ trợ từ giáo viên. Thêm vào đó, phần thảo luận nhóm và trình bày trước lớp sẽ khiến tổng thời lượng vượt \u001b[0m\n",
       "\u001b[1;33mxa \u001b[0m\u001b[1;33m25\u001b[0m\u001b[1;33m phút. Hãy cắt giảm phần trình bày của học sinh trước lớp. Đồng thời, cân nhắc đơn giản hóa yêu cầu thực hành \u001b[0m\n",
       "\u001b[1;33mvẽ \u001b[0m\u001b[1;33m(\u001b[0m\u001b[1;33mví dụ: chỉ yêu cầu vẽ một đường trung trực và giáo viên hỗ trợ phần còn lại, hoặc cung cấp sẵn tam giác đã vẽ \u001b[0m\n",
       "\u001b[1;33mđể học sinh tập trung vào việc xác định tâm và vẽ đường tròn\u001b[0m\u001b[1;33m)\u001b[0m\u001b[1;33m.\u001b[0m\n"
      ]
     },
     "metadata": {},
     "output_type": "display_data"
    },
    {
     "data": {
      "text/html": [
       "<pre style=\"white-space:pre;overflow-x:auto;line-height:normal;font-family:Menlo,'DejaVu Sans Mono',consolas,'Courier New',monospace\"><span style=\"color: #808000; text-decoration-color: #808000; font-weight: bold\">⚠️  ROUTER (Validation): Nội dung bị từ chối. Thử lại lần </span><span style=\"color: #808000; text-decoration-color: #808000; font-weight: bold\">1</span><span style=\"color: #808000; text-decoration-color: #808000; font-weight: bold\">/</span><span style=\"color: #808000; text-decoration-color: #808000; font-weight: bold\">2</span><span style=\"color: #808000; text-decoration-color: #808000; font-weight: bold\">.</span>\n",
       "</pre>\n"
      ],
      "text/plain": [
       "\u001b[1;33m⚠️  ROUTER \u001b[0m\u001b[1;33m(\u001b[0m\u001b[1;33mValidation\u001b[0m\u001b[1;33m)\u001b[0m\u001b[1;33m: Nội dung bị từ chối. Thử lại lần \u001b[0m\u001b[1;33m1\u001b[0m\u001b[1;33m/\u001b[0m\u001b[1;33m2\u001b[0m\u001b[1;33m.\u001b[0m\n"
      ]
     },
     "metadata": {},
     "output_type": "display_data"
    },
    {
     "data": {
      "text/html": [
       "<pre style=\"white-space:pre;overflow-x:auto;line-height:normal;font-family:Menlo,'DejaVu Sans Mono',consolas,'Courier New',monospace\">\n",
       "<span style=\"color: #808000; text-decoration-color: #808000; font-weight: bold\">------- Hoàn thành bước: content_validator -------</span>\n",
       "</pre>\n"
      ],
      "text/plain": [
       "\n",
       "\u001b[1;33m------- Hoàn thành bước: content_validator -------\u001b[0m\n"
      ]
     },
     "metadata": {},
     "output_type": "display_data"
    },
    {
     "data": {
      "text/html": [
       "<pre style=\"white-space:pre;overflow-x:auto;line-height:normal;font-family:Menlo,'DejaVu Sans Mono',consolas,'Courier New',monospace\">\n",
       "<span style=\"color: #008080; text-decoration-color: #008080; font-weight: bold\">&gt;</span> `Agent: Task Dispatcher` đang giao việc<span style=\"color: #808000; text-decoration-color: #808000\">...</span>\n",
       "</pre>\n"
      ],
      "text/plain": [
       "\n",
       "\u001b[1;36m>\u001b[0m `Agent: Task Dispatcher` đang giao việc\u001b[33m...\u001b[0m\n"
      ]
     },
     "metadata": {},
     "output_type": "display_data"
    },
    {
     "data": {
      "text/html": [
       "<pre style=\"white-space:pre;overflow-x:auto;line-height:normal;font-family:Menlo,'DejaVu Sans Mono',consolas,'Courier New',monospace\">\n",
       "<span style=\"color: #008080; text-decoration-color: #008080; font-weight: bold\">&gt;</span> --- 🚚 `Dispatcher`: Giao nhiệm vụ cho `activity_designer`.\n",
       "</pre>\n"
      ],
      "text/plain": [
       "\n",
       "\u001b[1;36m>\u001b[0m --- 🚚 `Dispatcher`: Giao nhiệm vụ cho `activity_designer`.\n"
      ]
     },
     "metadata": {},
     "output_type": "display_data"
    },
    {
     "data": {
      "text/html": [
       "<pre style=\"white-space:pre;overflow-x:auto;line-height:normal;font-family:Menlo,'DejaVu Sans Mono',consolas,'Courier New',monospace\">\n",
       "<span style=\"color: #808000; text-decoration-color: #808000; font-weight: bold\">------- Hoàn thành bước: task_dispatcher -------</span>\n",
       "</pre>\n"
      ],
      "text/plain": [
       "\n",
       "\u001b[1;33m------- Hoàn thành bước: task_dispatcher -------\u001b[0m\n"
      ]
     },
     "metadata": {},
     "output_type": "display_data"
    },
    {
     "data": {
      "text/html": [
       "<pre style=\"white-space:pre;overflow-x:auto;line-height:normal;font-family:Menlo,'DejaVu Sans Mono',consolas,'Courier New',monospace\">\n",
       "<span style=\"color: #008080; text-decoration-color: #008080; font-weight: bold\">&gt;</span> `Agent: Activity Designer` <span style=\"font-weight: bold\">(</span>v12.<span style=\"color: #008080; text-decoration-color: #008080; font-weight: bold\">0</span><span style=\"font-weight: bold\">)</span> đang tạo nội dung theo kỷ luật<span style=\"color: #808000; text-decoration-color: #808000\">...</span>\n",
       "</pre>\n"
      ],
      "text/plain": [
       "\n",
       "\u001b[1;36m>\u001b[0m `Agent: Activity Designer` \u001b[1m(\u001b[0mv12.\u001b[1;36m0\u001b[0m\u001b[1m)\u001b[0m đang tạo nội dung theo kỷ luật\u001b[33m...\u001b[0m\n"
      ]
     },
     "metadata": {},
     "output_type": "display_data"
    },
    {
     "data": {
      "text/html": [
       "<pre style=\"white-space:pre;overflow-x:auto;line-height:normal;font-family:Menlo,'DejaVu Sans Mono',consolas,'Courier New',monospace\"><span style=\"color: #008000; text-decoration-color: #008000; font-weight: bold\">✔️ Nội dung do Activity Designer tạo ra:</span>\n",
       "</pre>\n"
      ],
      "text/plain": [
       "\u001b[1;32m✔️ Nội dung do Activity Designer tạo ra:\u001b[0m\n"
      ]
     },
     "metadata": {},
     "output_type": "display_data"
    },
    {
     "data": {
      "text/html": [
       "<pre style=\"white-space:pre;overflow-x:auto;line-height:normal;font-family:Menlo,'DejaVu Sans Mono',consolas,'Courier New',monospace\"><span style=\"font-weight: bold\">{</span>\n",
       "<span style=\"color: #7fbf7f; text-decoration-color: #7fbf7f\">│   </span><span style=\"color: #008000; text-decoration-color: #008000\">'activity_name'</span>: <span style=\"color: #008000; text-decoration-color: #008000\">'Khám phá Đường tròn ngoại tiếp'</span>,\n",
       "<span style=\"color: #7fbf7f; text-decoration-color: #7fbf7f\">│   </span><span style=\"color: #008000; text-decoration-color: #008000\">'duration_minutes'</span>: <span style=\"color: #008080; text-decoration-color: #008080; font-weight: bold\">25</span>,\n",
       "<span style=\"color: #7fbf7f; text-decoration-color: #7fbf7f\">│   </span><span style=\"color: #008000; text-decoration-color: #008000\">'teacher_actions'</span>: <span style=\"font-weight: bold\">[</span>\n",
       "<span style=\"color: #7fbf7f; text-decoration-color: #7fbf7f\">│   │   </span><span style=\"color: #008000; text-decoration-color: #008000\">'Giới thiệu mục tiêu bài học và phát phiếu học tập có sẵn các tam giác.'</span>,\n",
       "<span style=\"color: #7fbf7f; text-decoration-color: #7fbf7f\">│   │   </span><span style=\"color: #008000; text-decoration-color: #008000\">'Hướng dẫn lại cách vẽ đường trung trực của một đoạn thẳng (nếu cần).'</span>,\n",
       "<span style=\"color: #7fbf7f; text-decoration-color: #7fbf7f\">│   │   </span><span style=\"color: #008000; text-decoration-color: #008000\">'Quan sát, đi lại các nhóm/cá nhân để hỗ trợ, giải đáp thắc mắc trong quá trình học sinh thực hành vẽ.'</span>,\n",
       "<span style=\"color: #7fbf7f; text-decoration-color: #7fbf7f\">│   │   </span><span style=\"color: #008000; text-decoration-color: #008000\">'Cung cấp gợi ý hoặc chỉ dẫn cụ thể để học sinh xác định tâm đường tròn ngoại tiếp (ví dụ: chiếu hình ảnh tâm O, hoặc hướng dẫn nhanh cách tìm giao điểm của hai đường trung trực nếu học sinh đã vẽ được một đường).'</span>,\n",
       "<span style=\"color: #7fbf7f; text-decoration-color: #7fbf7f\">│   │   </span><span style=\"color: #008000; text-decoration-color: #008000\">'Yêu cầu học sinh so sánh kết quả với bạn bên cạnh và đặt câu hỏi gợi mở về vị trí tâm đường tròn ngoại tiếp.'</span>,\n",
       "<span style=\"color: #7fbf7f; text-decoration-color: #7fbf7f\">│   │   </span><span style=\"color: #008000; text-decoration-color: #008000\">'Tổng kết kiến thức trọng tâm về đường tròn ngoại tiếp, tâm và bán kính của nó, nhấn mạnh vị trí tâm với từng loại tam giác.'</span>\n",
       "<span style=\"color: #7fbf7f; text-decoration-color: #7fbf7f\">│   </span><span style=\"font-weight: bold\">]</span>,\n",
       "<span style=\"color: #7fbf7f; text-decoration-color: #7fbf7f\">│   </span><span style=\"color: #008000; text-decoration-color: #008000\">'core_component'</span>: <span style=\"color: #008000; text-decoration-color: #008000\">'Học sinh nhận phiếu học tập có sẵn các tam giác (ví dụ: tam giác nhọn, tam giác tù). Học sinh chọn một tam giác bất kỳ trên phiếu. Nhiệm vụ chính là: 1. Vẽ một đường trung trực của một cạnh bất kỳ của tam giác đó. 2. Giáo viên sẽ hướng dẫn hoặc cung cấp gợi ý để học sinh xác định tâm đường tròn ngoại tiếp (giao điểm của ba đường trung trực). 3. Sử dụng compa, vẽ đường tròn đi qua ba đỉnh của tam giác, với tâm là điểm vừa xác định. 4. Thảo luận nhanh với bạn bên cạnh về kết quả và những gì đã quan sát được về vị trí của tâm đường tròn ngoại tiếp.'</span>,\n",
       "<span style=\"color: #7fbf7f; text-decoration-color: #7fbf7f\">│   </span><span style=\"color: #008000; text-decoration-color: #008000\">'extension_component'</span>: <span style=\"color: #008000; text-decoration-color: #008000\">'Nếu hoàn thành sớm, học sinh có thể: 1. Thực hiện lại các bước trên với một tam giác khác trên phiếu (ví dụ: tam giác vuông hoặc tam giác tù) để quan sát vị trí tâm đường tròn ngoại tiếp. 2. Suy nghĩ: Tâm đường tròn ngoại tiếp của tam giác vuông nằm ở đâu và tại sao?'</span>,\n",
       "<span style=\"color: #7fbf7f; text-decoration-color: #7fbf7f\">│   </span><span style=\"color: #008000; text-decoration-color: #008000\">'solution_guide'</span>: <span style=\"color: #008000; text-decoration-color: #008000\">'1. Tâm đường tròn ngoại tiếp là giao điểm của ba đường trung trực của ba cạnh tam giác. 2. Bán kính đường tròn ngoại tiếp là khoảng cách từ tâm đến bất kỳ đỉnh nào của tam giác. 3. Vị trí của tâm đường tròn ngoại tiếp phụ thuộc vào loại tam giác: Tam giác nhọn: Tâm nằm bên trong tam giác. Tam giác vuông: Tâm là trung điểm của cạnh huyền. Tam giác tù: Tâm nằm bên ngoài tam giác.'</span>,\n",
       "<span style=\"color: #7fbf7f; text-decoration-color: #7fbf7f\">│   </span><span style=\"color: #008000; text-decoration-color: #008000\">'differentiation'</span>: <span style=\"font-weight: bold\">{</span>\n",
       "<span style=\"color: #7fbf7f; text-decoration-color: #7fbf7f\">│   │   </span><span style=\"color: #008000; text-decoration-color: #008000\">'for_struggling_students'</span>: <span style=\"color: #008000; text-decoration-color: #008000\">'Cung cấp phiếu học tập có sẵn tam giác và một đường trung trực đã vẽ. Học sinh chỉ cần vẽ đường trung trực thứ hai hoặc chỉ cần xác định tâm và vẽ đường tròn. Giáo viên có thể hướng dẫn trực tiếp từng bước, sử dụng thước và compa mẫu để học sinh làm theo.'</span>,\n",
       "<span style=\"color: #7fbf7f; text-decoration-color: #7fbf7f\">│   │   </span><span style=\"color: #008000; text-decoration-color: #008000\">'for_advanced_students'</span>: <span style=\"color: #008000; text-decoration-color: #008000\">'Yêu cầu học sinh tự vẽ một tam giác bất kỳ (không cần theo mẫu) và thực hiện toàn bộ quá trình xác định tâm và vẽ đường tròn ngoại tiếp. Thử thách học sinh suy nghĩ và giải thích tại sao tâm đường tròn ngoại tiếp lại là giao điểm của ba đường trung trực.'</span>\n",
       "<span style=\"color: #7fbf7f; text-decoration-color: #7fbf7f\">│   </span><span style=\"font-weight: bold\">}</span>,\n",
       "<span style=\"color: #7fbf7f; text-decoration-color: #7fbf7f\">│   </span><span style=\"color: #008000; text-decoration-color: #008000\">'content_type'</span>: <span style=\"color: #008000; text-decoration-color: #008000\">'Thực hành cá nhân và Thảo luận cặp đôi'</span>\n",
       "<span style=\"font-weight: bold\">}</span>\n",
       "</pre>\n"
      ],
      "text/plain": [
       "\u001b[1m{\u001b[0m\n",
       "\u001b[2;32m│   \u001b[0m\u001b[32m'activity_name'\u001b[0m: \u001b[32m'Khám phá Đường tròn ngoại tiếp'\u001b[0m,\n",
       "\u001b[2;32m│   \u001b[0m\u001b[32m'duration_minutes'\u001b[0m: \u001b[1;36m25\u001b[0m,\n",
       "\u001b[2;32m│   \u001b[0m\u001b[32m'teacher_actions'\u001b[0m: \u001b[1m[\u001b[0m\n",
       "\u001b[2;32m│   │   \u001b[0m\u001b[32m'Giới thiệu mục tiêu bài học và phát phiếu học tập có sẵn các tam giác.'\u001b[0m,\n",
       "\u001b[2;32m│   │   \u001b[0m\u001b[32m'Hướng dẫn lại cách vẽ đường trung trực của một đoạn thẳng \u001b[0m\u001b[32m(\u001b[0m\u001b[32mnếu cần\u001b[0m\u001b[32m)\u001b[0m\u001b[32m.'\u001b[0m,\n",
       "\u001b[2;32m│   │   \u001b[0m\u001b[32m'Quan sát, đi lại các nhóm/cá nhân để hỗ trợ, giải đáp thắc mắc trong quá trình học sinh thực hành vẽ.'\u001b[0m,\n",
       "\u001b[2;32m│   │   \u001b[0m\u001b[32m'Cung cấp gợi ý hoặc chỉ dẫn cụ thể để học sinh xác định tâm đường tròn ngoại tiếp \u001b[0m\u001b[32m(\u001b[0m\u001b[32mví dụ: chiếu hình ảnh tâm O, hoặc hướng dẫn nhanh cách tìm giao điểm của hai đường trung trực nếu học sinh đã vẽ được một đường\u001b[0m\u001b[32m)\u001b[0m\u001b[32m.'\u001b[0m,\n",
       "\u001b[2;32m│   │   \u001b[0m\u001b[32m'Yêu cầu học sinh so sánh kết quả với bạn bên cạnh và đặt câu hỏi gợi mở về vị trí tâm đường tròn ngoại tiếp.'\u001b[0m,\n",
       "\u001b[2;32m│   │   \u001b[0m\u001b[32m'Tổng kết kiến thức trọng tâm về đường tròn ngoại tiếp, tâm và bán kính của nó, nhấn mạnh vị trí tâm với từng loại tam giác.'\u001b[0m\n",
       "\u001b[2;32m│   \u001b[0m\u001b[1m]\u001b[0m,\n",
       "\u001b[2;32m│   \u001b[0m\u001b[32m'core_component'\u001b[0m: \u001b[32m'Học sinh nhận phiếu học tập có sẵn các tam giác \u001b[0m\u001b[32m(\u001b[0m\u001b[32mví dụ: tam giác nhọn, tam giác tù\u001b[0m\u001b[32m)\u001b[0m\u001b[32m. Học sinh chọn một tam giác bất kỳ trên phiếu. Nhiệm vụ chính là: 1. Vẽ một đường trung trực của một cạnh bất kỳ của tam giác đó. 2. Giáo viên sẽ hướng dẫn hoặc cung cấp gợi ý để học sinh xác định tâm đường tròn ngoại tiếp \u001b[0m\u001b[32m(\u001b[0m\u001b[32mgiao điểm của ba đường trung trực\u001b[0m\u001b[32m)\u001b[0m\u001b[32m. 3. Sử dụng compa, vẽ đường tròn đi qua ba đỉnh của tam giác, với tâm là điểm vừa xác định. 4. Thảo luận nhanh với bạn bên cạnh về kết quả và những gì đã quan sát được về vị trí của tâm đường tròn ngoại tiếp.'\u001b[0m,\n",
       "\u001b[2;32m│   \u001b[0m\u001b[32m'extension_component'\u001b[0m: \u001b[32m'Nếu hoàn thành sớm, học sinh có thể: 1. Thực hiện lại các bước trên với một tam giác khác trên phiếu \u001b[0m\u001b[32m(\u001b[0m\u001b[32mví dụ: tam giác vuông hoặc tam giác tù\u001b[0m\u001b[32m)\u001b[0m\u001b[32m để quan sát vị trí tâm đường tròn ngoại tiếp. 2. Suy nghĩ: Tâm đường tròn ngoại tiếp của tam giác vuông nằm ở đâu và tại sao?'\u001b[0m,\n",
       "\u001b[2;32m│   \u001b[0m\u001b[32m'solution_guide'\u001b[0m: \u001b[32m'1. Tâm đường tròn ngoại tiếp là giao điểm của ba đường trung trực của ba cạnh tam giác. 2. Bán kính đường tròn ngoại tiếp là khoảng cách từ tâm đến bất kỳ đỉnh nào của tam giác. 3. Vị trí của tâm đường tròn ngoại tiếp phụ thuộc vào loại tam giác: Tam giác nhọn: Tâm nằm bên trong tam giác. Tam giác vuông: Tâm là trung điểm của cạnh huyền. Tam giác tù: Tâm nằm bên ngoài tam giác.'\u001b[0m,\n",
       "\u001b[2;32m│   \u001b[0m\u001b[32m'differentiation'\u001b[0m: \u001b[1m{\u001b[0m\n",
       "\u001b[2;32m│   │   \u001b[0m\u001b[32m'for_struggling_students'\u001b[0m: \u001b[32m'Cung cấp phiếu học tập có sẵn tam giác và một đường trung trực đã vẽ. Học sinh chỉ cần vẽ đường trung trực thứ hai hoặc chỉ cần xác định tâm và vẽ đường tròn. Giáo viên có thể hướng dẫn trực tiếp từng bước, sử dụng thước và compa mẫu để học sinh làm theo.'\u001b[0m,\n",
       "\u001b[2;32m│   │   \u001b[0m\u001b[32m'for_advanced_students'\u001b[0m: \u001b[32m'Yêu cầu học sinh tự vẽ một tam giác bất kỳ \u001b[0m\u001b[32m(\u001b[0m\u001b[32mkhông cần theo mẫu\u001b[0m\u001b[32m)\u001b[0m\u001b[32m và thực hiện toàn bộ quá trình xác định tâm và vẽ đường tròn ngoại tiếp. Thử thách học sinh suy nghĩ và giải thích tại sao tâm đường tròn ngoại tiếp lại là giao điểm của ba đường trung trực.'\u001b[0m\n",
       "\u001b[2;32m│   \u001b[0m\u001b[1m}\u001b[0m,\n",
       "\u001b[2;32m│   \u001b[0m\u001b[32m'content_type'\u001b[0m: \u001b[32m'Thực hành cá nhân và Thảo luận cặp đôi'\u001b[0m\n",
       "\u001b[1m}\u001b[0m\n"
      ]
     },
     "metadata": {},
     "output_type": "display_data"
    },
    {
     "data": {
      "text/html": [
       "<pre style=\"white-space:pre;overflow-x:auto;line-height:normal;font-family:Menlo,'DejaVu Sans Mono',consolas,'Courier New',monospace\">\n",
       "<span style=\"color: #808000; text-decoration-color: #808000; font-weight: bold\">------- Hoàn thành bước: activity_designer -------</span>\n",
       "</pre>\n"
      ],
      "text/plain": [
       "\n",
       "\u001b[1;33m------- Hoàn thành bước: activity_designer -------\u001b[0m\n"
      ]
     },
     "metadata": {},
     "output_type": "display_data"
    },
    {
     "data": {
      "text/html": [
       "<pre style=\"white-space:pre;overflow-x:auto;line-height:normal;font-family:Menlo,'DejaVu Sans Mono',consolas,'Courier New',monospace\">\n",
       "<span style=\"color: #008080; text-decoration-color: #008080; font-weight: bold\">&gt;</span> `Agent: Guardian Critic` <span style=\"font-weight: bold\">(</span>v12.<span style=\"color: #008080; text-decoration-color: #008080; font-weight: bold\">1</span> - Cố vấn Thông thái<span style=\"font-weight: bold\">)</span> đang bảo vệ kế hoạch<span style=\"color: #808000; text-decoration-color: #808000\">...</span>\n",
       "</pre>\n"
      ],
      "text/plain": [
       "\n",
       "\u001b[1;36m>\u001b[0m `Agent: Guardian Critic` \u001b[1m(\u001b[0mv12.\u001b[1;36m1\u001b[0m - Cố vấn Thông thái\u001b[1m)\u001b[0m đang bảo vệ kế hoạch\u001b[33m...\u001b[0m\n"
      ]
     },
     "metadata": {},
     "output_type": "display_data"
    },
    {
     "data": {
      "text/html": [
       "<pre style=\"white-space:pre;overflow-x:auto;line-height:normal;font-family:Menlo,'DejaVu Sans Mono',consolas,'Courier New',monospace\"><span style=\"color: #808000; text-decoration-color: #808000; font-weight: bold\">⚠️  GUARDIAN PHẢN BIỆN (có tính xây dựng): Hoạt động này quá tham vọng cho </span><span style=\"color: #808000; text-decoration-color: #808000; font-weight: bold\">25</span><span style=\"color: #808000; text-decoration-color: #808000; font-weight: bold\"> phút. Việc học sinh thực hành vẽ đường</span>\n",
       "<span style=\"color: #808000; text-decoration-color: #808000; font-weight: bold\">trung trực, xác định tâm và vẽ đường tròn ngoại tiếp đòi hỏi sự tỉ mỉ và thời gian đáng kể, đặc biệt khi cần vẽ ít </span>\n",
       "<span style=\"color: #808000; text-decoration-color: #808000; font-weight: bold\">nhất hai đường trung trực để xác định tâm. Ngoài ra, có sự không nhất quán giữa việc yêu cầu học sinh </span><span style=\"color: #808000; text-decoration-color: #808000; font-weight: bold\">'Vẽ một đường</span>\n",
       "<span style=\"color: #808000; text-decoration-color: #808000; font-weight: bold\">trung trực'</span><span style=\"color: #808000; text-decoration-color: #808000; font-weight: bold\"> nhưng lại </span><span style=\"color: #808000; text-decoration-color: #808000; font-weight: bold\">'xác định tâm (giao điểm của ba đường trung trực)'</span><span style=\"color: #808000; text-decoration-color: #808000; font-weight: bold\">. Để đảm bảo tính khả thi trong </span><span style=\"color: #808000; text-decoration-color: #808000; font-weight: bold\">25</span><span style=\"color: #808000; text-decoration-color: #808000; font-weight: bold\"> phút, </span>\n",
       "<span style=\"color: #808000; text-decoration-color: #808000; font-weight: bold\">hãy điều chỉnh lại hoạt động để học sinh CHỈ CẦN VẼ MỘT ĐƯỜNG TRUNG TRỰC và giáo viên CUNG CẤP SẴN VỊ TRÍ TÂM đường</span>\n",
       "<span style=\"color: #808000; text-decoration-color: #808000; font-weight: bold\">tròn ngoại tiếp (hoặc hình ảnh tâm) để học sinh tập trung vào việc vẽ đường tròn và quan sát vị trí tâm. Phần </span><span style=\"color: #808000; text-decoration-color: #808000; font-weight: bold\">'khám</span>\n",
       "<span style=\"color: #808000; text-decoration-color: #808000; font-weight: bold\">phá'</span><span style=\"color: #808000; text-decoration-color: #808000; font-weight: bold\"> về vị trí tâm có thể được thực hiện thông qua thảo luận hoặc gợi ý của giáo viên thay vì yêu cầu học sinh tự </span>\n",
       "<span style=\"color: #808000; text-decoration-color: #808000; font-weight: bold\">xác định hoàn toàn qua vẽ.</span>\n",
       "</pre>\n"
      ],
      "text/plain": [
       "\u001b[1;33m⚠️  GUARDIAN PHẢN BIỆN \u001b[0m\u001b[1;33m(\u001b[0m\u001b[1;33mcó tính xây dựng\u001b[0m\u001b[1;33m)\u001b[0m\u001b[1;33m: Hoạt động này quá tham vọng cho \u001b[0m\u001b[1;33m25\u001b[0m\u001b[1;33m phút. Việc học sinh thực hành vẽ đường\u001b[0m\n",
       "\u001b[1;33mtrung trực, xác định tâm và vẽ đường tròn ngoại tiếp đòi hỏi sự tỉ mỉ và thời gian đáng kể, đặc biệt khi cần vẽ ít \u001b[0m\n",
       "\u001b[1;33mnhất hai đường trung trực để xác định tâm. Ngoài ra, có sự không nhất quán giữa việc yêu cầu học sinh \u001b[0m\u001b[1;33m'Vẽ một đường\u001b[0m\n",
       "\u001b[1;33mtrung trực'\u001b[0m\u001b[1;33m nhưng lại \u001b[0m\u001b[1;33m'xác định tâm \u001b[0m\u001b[1;33m(\u001b[0m\u001b[1;33mgiao điểm của ba đường trung trực\u001b[0m\u001b[1;33m)\u001b[0m\u001b[1;33m'\u001b[0m\u001b[1;33m. Để đảm bảo tính khả thi trong \u001b[0m\u001b[1;33m25\u001b[0m\u001b[1;33m phút, \u001b[0m\n",
       "\u001b[1;33mhãy điều chỉnh lại hoạt động để học sinh CHỈ CẦN VẼ MỘT ĐƯỜNG TRUNG TRỰC và giáo viên CUNG CẤP SẴN VỊ TRÍ TÂM đường\u001b[0m\n",
       "\u001b[1;33mtròn ngoại tiếp \u001b[0m\u001b[1;33m(\u001b[0m\u001b[1;33mhoặc hình ảnh tâm\u001b[0m\u001b[1;33m)\u001b[0m\u001b[1;33m để học sinh tập trung vào việc vẽ đường tròn và quan sát vị trí tâm. Phần \u001b[0m\u001b[1;33m'khám\u001b[0m\n",
       "\u001b[1;33mphá'\u001b[0m\u001b[1;33m về vị trí tâm có thể được thực hiện thông qua thảo luận hoặc gợi ý của giáo viên thay vì yêu cầu học sinh tự \u001b[0m\n",
       "\u001b[1;33mxác định hoàn toàn qua vẽ.\u001b[0m\n"
      ]
     },
     "metadata": {},
     "output_type": "display_data"
    },
    {
     "data": {
      "text/html": [
       "<pre style=\"white-space:pre;overflow-x:auto;line-height:normal;font-family:Menlo,'DejaVu Sans Mono',consolas,'Courier New',monospace\"><span style=\"color: #808000; text-decoration-color: #808000; font-weight: bold\">⚠️  ROUTER (Validation): Nội dung bị từ chối. Thử lại lần </span><span style=\"color: #808000; text-decoration-color: #808000; font-weight: bold\">1</span><span style=\"color: #808000; text-decoration-color: #808000; font-weight: bold\">/</span><span style=\"color: #808000; text-decoration-color: #808000; font-weight: bold\">2</span><span style=\"color: #808000; text-decoration-color: #808000; font-weight: bold\">.</span>\n",
       "</pre>\n"
      ],
      "text/plain": [
       "\u001b[1;33m⚠️  ROUTER \u001b[0m\u001b[1;33m(\u001b[0m\u001b[1;33mValidation\u001b[0m\u001b[1;33m)\u001b[0m\u001b[1;33m: Nội dung bị từ chối. Thử lại lần \u001b[0m\u001b[1;33m1\u001b[0m\u001b[1;33m/\u001b[0m\u001b[1;33m2\u001b[0m\u001b[1;33m.\u001b[0m\n"
      ]
     },
     "metadata": {},
     "output_type": "display_data"
    },
    {
     "data": {
      "text/html": [
       "<pre style=\"white-space:pre;overflow-x:auto;line-height:normal;font-family:Menlo,'DejaVu Sans Mono',consolas,'Courier New',monospace\">\n",
       "<span style=\"color: #808000; text-decoration-color: #808000; font-weight: bold\">------- Hoàn thành bước: content_validator -------</span>\n",
       "</pre>\n"
      ],
      "text/plain": [
       "\n",
       "\u001b[1;33m------- Hoàn thành bước: content_validator -------\u001b[0m\n"
      ]
     },
     "metadata": {},
     "output_type": "display_data"
    },
    {
     "data": {
      "text/html": [
       "<pre style=\"white-space:pre;overflow-x:auto;line-height:normal;font-family:Menlo,'DejaVu Sans Mono',consolas,'Courier New',monospace\">\n",
       "<span style=\"color: #008080; text-decoration-color: #008080; font-weight: bold\">&gt;</span> `Agent: Task Dispatcher` đang giao việc<span style=\"color: #808000; text-decoration-color: #808000\">...</span>\n",
       "</pre>\n"
      ],
      "text/plain": [
       "\n",
       "\u001b[1;36m>\u001b[0m `Agent: Task Dispatcher` đang giao việc\u001b[33m...\u001b[0m\n"
      ]
     },
     "metadata": {},
     "output_type": "display_data"
    },
    {
     "data": {
      "text/html": [
       "<pre style=\"white-space:pre;overflow-x:auto;line-height:normal;font-family:Menlo,'DejaVu Sans Mono',consolas,'Courier New',monospace\">\n",
       "<span style=\"color: #008080; text-decoration-color: #008080; font-weight: bold\">&gt;</span> --- 🚚 `Dispatcher`: Giao nhiệm vụ cho `activity_designer`.\n",
       "</pre>\n"
      ],
      "text/plain": [
       "\n",
       "\u001b[1;36m>\u001b[0m --- 🚚 `Dispatcher`: Giao nhiệm vụ cho `activity_designer`.\n"
      ]
     },
     "metadata": {},
     "output_type": "display_data"
    },
    {
     "data": {
      "text/html": [
       "<pre style=\"white-space:pre;overflow-x:auto;line-height:normal;font-family:Menlo,'DejaVu Sans Mono',consolas,'Courier New',monospace\">\n",
       "<span style=\"color: #808000; text-decoration-color: #808000; font-weight: bold\">------- Hoàn thành bước: task_dispatcher -------</span>\n",
       "</pre>\n"
      ],
      "text/plain": [
       "\n",
       "\u001b[1;33m------- Hoàn thành bước: task_dispatcher -------\u001b[0m\n"
      ]
     },
     "metadata": {},
     "output_type": "display_data"
    },
    {
     "data": {
      "text/html": [
       "<pre style=\"white-space:pre;overflow-x:auto;line-height:normal;font-family:Menlo,'DejaVu Sans Mono',consolas,'Courier New',monospace\">\n",
       "<span style=\"color: #008080; text-decoration-color: #008080; font-weight: bold\">&gt;</span> `Agent: Activity Designer` <span style=\"font-weight: bold\">(</span>v12.<span style=\"color: #008080; text-decoration-color: #008080; font-weight: bold\">0</span><span style=\"font-weight: bold\">)</span> đang tạo nội dung theo kỷ luật<span style=\"color: #808000; text-decoration-color: #808000\">...</span>\n",
       "</pre>\n"
      ],
      "text/plain": [
       "\n",
       "\u001b[1;36m>\u001b[0m `Agent: Activity Designer` \u001b[1m(\u001b[0mv12.\u001b[1;36m0\u001b[0m\u001b[1m)\u001b[0m đang tạo nội dung theo kỷ luật\u001b[33m...\u001b[0m\n"
      ]
     },
     "metadata": {},
     "output_type": "display_data"
    },
    {
     "data": {
      "text/html": [
       "<pre style=\"white-space:pre;overflow-x:auto;line-height:normal;font-family:Menlo,'DejaVu Sans Mono',consolas,'Courier New',monospace\"><span style=\"color: #008000; text-decoration-color: #008000; font-weight: bold\">✔️ Nội dung do Activity Designer tạo ra:</span>\n",
       "</pre>\n"
      ],
      "text/plain": [
       "\u001b[1;32m✔️ Nội dung do Activity Designer tạo ra:\u001b[0m\n"
      ]
     },
     "metadata": {},
     "output_type": "display_data"
    },
    {
     "data": {
      "text/html": [
       "<pre style=\"white-space:pre;overflow-x:auto;line-height:normal;font-family:Menlo,'DejaVu Sans Mono',consolas,'Courier New',monospace\"><span style=\"font-weight: bold\">{</span>\n",
       "<span style=\"color: #7fbf7f; text-decoration-color: #7fbf7f\">│   </span><span style=\"color: #008000; text-decoration-color: #008000\">'activity_name'</span>: <span style=\"color: #008000; text-decoration-color: #008000\">'Khám phá Đường tròn ngoại tiếp'</span>,\n",
       "<span style=\"color: #7fbf7f; text-decoration-color: #7fbf7f\">│   </span><span style=\"color: #008000; text-decoration-color: #008000\">'duration_minutes'</span>: <span style=\"color: #008080; text-decoration-color: #008080; font-weight: bold\">25</span>,\n",
       "<span style=\"color: #7fbf7f; text-decoration-color: #7fbf7f\">│   </span><span style=\"color: #008000; text-decoration-color: #008000\">'teacher_actions'</span>: <span style=\"font-weight: bold\">[</span>\n",
       "<span style=\"color: #7fbf7f; text-decoration-color: #7fbf7f\">│   │   </span><span style=\"color: #008000; text-decoration-color: #008000\">'Giới thiệu khái niệm đường tròn ngoại tiếp và tâm đường tròn ngoại tiếp.'</span>,\n",
       "<span style=\"color: #7fbf7f; text-decoration-color: #7fbf7f\">│   │   </span><span style=\"color: #008000; text-decoration-color: #008000\">'Phát phiếu bài tập có sẵn các tam giác (hoặc yêu cầu học sinh vẽ nhanh một tam giác bất kỳ).'</span>,\n",
       "<span style=\"color: #7fbf7f; text-decoration-color: #7fbf7f\">│   │   </span><span style=\"color: #008000; text-decoration-color: #008000\">'Hướng dẫn học sinh vẽ đường trung trực của MỘT cạnh bất kỳ của tam giác.'</span>,\n",
       "<span style=\"color: #7fbf7f; text-decoration-color: #7fbf7f\">│   │   </span><span style=\"color: #008000; text-decoration-color: #008000\">'Cung cấp vị trí tâm O của đường tròn ngoại tiếp (có thể bằng cách đánh dấu sẵn trên phiếu hoặc chỉ định trên bảng/máy chiếu).'</span>,\n",
       "<span style=\"color: #7fbf7f; text-decoration-color: #7fbf7f\">│   │   </span><span style=\"color: #008000; text-decoration-color: #008000\">'Yêu cầu học sinh dùng compa vẽ đường tròn tâm O đi qua một đỉnh của tam giác.'</span>,\n",
       "<span style=\"color: #7fbf7f; text-decoration-color: #7fbf7f\">│   │   </span><span style=\"color: #008000; text-decoration-color: #008000\">'Yêu cầu học sinh quan sát và nhận xét về đường tròn vừa vẽ.'</span>,\n",
       "<span style=\"color: #7fbf7f; text-decoration-color: #7fbf7f\">│   │   </span><span style=\"color: #008000; text-decoration-color: #008000\">'Tổ chức thảo luận ngắn gọn về vị trí của tâm đường tròn ngoại tiếp đối với các loại tam giác khác nhau (nhắc lại kiến thức đã học hoặc gợi mở).'</span>,\n",
       "<span style=\"color: #7fbf7f; text-decoration-color: #7fbf7f\">│   │   </span><span style=\"color: #008000; text-decoration-color: #008000\">'Tổng kết kiến thức và chốt lại định nghĩa, tính chất.'</span>\n",
       "<span style=\"color: #7fbf7f; text-decoration-color: #7fbf7f\">│   </span><span style=\"font-weight: bold\">]</span>,\n",
       "<span style=\"color: #7fbf7f; text-decoration-color: #7fbf7f\">│   </span><span style=\"color: #008000; text-decoration-color: #008000\">'core_component'</span>: <span style=\"color: #008000; text-decoration-color: #008000\">'Học sinh được cung cấp một tam giác (hoặc tự vẽ một tam giác đơn giản). Học sinh thực hiện các bước sau: 1. Vẽ đường trung trực của MỘT cạnh bất kỳ của tam giác. 2. Giáo viên cung cấp vị trí tâm O của đường tròn ngoại tiếp (có thể đánh dấu sẵn trên hình hoặc chỉ định). 3. Dùng compa vẽ đường tròn tâm O đi qua một đỉnh của tam giác. 4. Quan sát và nhận xét xem đường tròn có đi qua tất cả các đỉnh còn lại của tam giác hay không.'</span>,\n",
       "<span style=\"color: #7fbf7f; text-decoration-color: #7fbf7f\">│   </span><span style=\"color: #008000; text-decoration-color: #008000\">'extension_component'</span>: <span style=\"color: #008000; text-decoration-color: #008000\">'Nếu hoàn thành sớm, học sinh có thể: 1. Thử vẽ đường trung trực của cạnh thứ hai và quan sát giao điểm của hai đường trung trực đó. 2. Thảo luận với bạn về mối liên hệ giữa vị trí tâm O và loại tam giác (nhọn, tù, vuông). 3. Tìm hiểu thêm về các trường hợp đặc biệt của tâm đường tròn ngoại tiếp.'</span>,\n",
       "<span style=\"color: #7fbf7f; text-decoration-color: #7fbf7f\">│   </span><span style=\"color: #008000; text-decoration-color: #008000\">'solution_guide'</span>: <span style=\"color: #008000; text-decoration-color: #008000\">'Các câu hỏi gợi mở: 1. Đường tròn bạn vừa vẽ có đi qua tất cả ba đỉnh của tam giác không? 2. Khoảng cách từ tâm O đến các đỉnh của tam giác có bằng nhau không? 3. Tâm O nằm ở đâu so với tam giác (bên trong, bên ngoài, trên cạnh)?'</span>,\n",
       "<span style=\"color: #7fbf7f; text-decoration-color: #7fbf7f\">│   </span><span style=\"color: #008000; text-decoration-color: #008000\">'differentiation'</span>: <span style=\"font-weight: bold\">{</span>\n",
       "<span style=\"color: #7fbf7f; text-decoration-color: #7fbf7f\">│   │   </span><span style=\"color: #008000; text-decoration-color: #008000\">'for_struggling_students'</span>: <span style=\"color: #008000; text-decoration-color: #008000\">'Cung cấp tam giác đã vẽ sẵn trên giấy ô ly để dễ dàng xác định trung điểm và vẽ đường trung trực. Giáo viên hướng dẫn từng bước cụ thể, có thể cầm tay chỉ việc hoặc sử dụng thước kẻ, compa mẫu. Chỉ tập trung vào việc vẽ đúng đường tròn ngoại tiếp sau khi có tâm O.'</span>,\n",
       "<span style=\"color: #7fbf7f; text-decoration-color: #7fbf7f\">│   │   </span><span style=\"color: #008000; text-decoration-color: #008000\">'for_advanced_students'</span>: <span style=\"color: #008000; text-decoration-color: #008000\">'Yêu cầu học sinh tự vẽ các loại tam giác khác nhau (tam giác nhọn, tam giác tù, tam giác vuông) và dự đoán vị trí tâm đường tròn ngoại tiếp trước khi vẽ. Thử thách học sinh giải thích tại sao tâm đường tròn ngoại tiếp lại cách đều ba đỉnh của tam giác. Khuyến khích học sinh tự tìm cách xác định tâm O bằng cách vẽ hai đường trung trực nếu có thời gian.'</span>\n",
       "<span style=\"color: #7fbf7f; text-decoration-color: #7fbf7f\">│   </span><span style=\"font-weight: bold\">}</span>,\n",
       "<span style=\"color: #7fbf7f; text-decoration-color: #7fbf7f\">│   </span><span style=\"color: #008000; text-decoration-color: #008000\">'content_type'</span>: <span style=\"color: #008000; text-decoration-color: #008000\">'Thực hành cá nhân và Thảo luận nhóm'</span>\n",
       "<span style=\"font-weight: bold\">}</span>\n",
       "</pre>\n"
      ],
      "text/plain": [
       "\u001b[1m{\u001b[0m\n",
       "\u001b[2;32m│   \u001b[0m\u001b[32m'activity_name'\u001b[0m: \u001b[32m'Khám phá Đường tròn ngoại tiếp'\u001b[0m,\n",
       "\u001b[2;32m│   \u001b[0m\u001b[32m'duration_minutes'\u001b[0m: \u001b[1;36m25\u001b[0m,\n",
       "\u001b[2;32m│   \u001b[0m\u001b[32m'teacher_actions'\u001b[0m: \u001b[1m[\u001b[0m\n",
       "\u001b[2;32m│   │   \u001b[0m\u001b[32m'Giới thiệu khái niệm đường tròn ngoại tiếp và tâm đường tròn ngoại tiếp.'\u001b[0m,\n",
       "\u001b[2;32m│   │   \u001b[0m\u001b[32m'Phát phiếu bài tập có sẵn các tam giác \u001b[0m\u001b[32m(\u001b[0m\u001b[32mhoặc yêu cầu học sinh vẽ nhanh một tam giác bất kỳ\u001b[0m\u001b[32m)\u001b[0m\u001b[32m.'\u001b[0m,\n",
       "\u001b[2;32m│   │   \u001b[0m\u001b[32m'Hướng dẫn học sinh vẽ đường trung trực của MỘT cạnh bất kỳ của tam giác.'\u001b[0m,\n",
       "\u001b[2;32m│   │   \u001b[0m\u001b[32m'Cung cấp vị trí tâm O của đường tròn ngoại tiếp \u001b[0m\u001b[32m(\u001b[0m\u001b[32mcó thể bằng cách đánh dấu sẵn trên phiếu hoặc chỉ định trên bảng/máy chiếu\u001b[0m\u001b[32m)\u001b[0m\u001b[32m.'\u001b[0m,\n",
       "\u001b[2;32m│   │   \u001b[0m\u001b[32m'Yêu cầu học sinh dùng compa vẽ đường tròn tâm O đi qua một đỉnh của tam giác.'\u001b[0m,\n",
       "\u001b[2;32m│   │   \u001b[0m\u001b[32m'Yêu cầu học sinh quan sát và nhận xét về đường tròn vừa vẽ.'\u001b[0m,\n",
       "\u001b[2;32m│   │   \u001b[0m\u001b[32m'Tổ chức thảo luận ngắn gọn về vị trí của tâm đường tròn ngoại tiếp đối với các loại tam giác khác nhau \u001b[0m\u001b[32m(\u001b[0m\u001b[32mnhắc lại kiến thức đã học hoặc gợi mở\u001b[0m\u001b[32m)\u001b[0m\u001b[32m.'\u001b[0m,\n",
       "\u001b[2;32m│   │   \u001b[0m\u001b[32m'Tổng kết kiến thức và chốt lại định nghĩa, tính chất.'\u001b[0m\n",
       "\u001b[2;32m│   \u001b[0m\u001b[1m]\u001b[0m,\n",
       "\u001b[2;32m│   \u001b[0m\u001b[32m'core_component'\u001b[0m: \u001b[32m'Học sinh được cung cấp một tam giác \u001b[0m\u001b[32m(\u001b[0m\u001b[32mhoặc tự vẽ một tam giác đơn giản\u001b[0m\u001b[32m)\u001b[0m\u001b[32m. Học sinh thực hiện các bước sau: 1. Vẽ đường trung trực của MỘT cạnh bất kỳ của tam giác. 2. Giáo viên cung cấp vị trí tâm O của đường tròn ngoại tiếp \u001b[0m\u001b[32m(\u001b[0m\u001b[32mcó thể đánh dấu sẵn trên hình hoặc chỉ định\u001b[0m\u001b[32m)\u001b[0m\u001b[32m. 3. Dùng compa vẽ đường tròn tâm O đi qua một đỉnh của tam giác. 4. Quan sát và nhận xét xem đường tròn có đi qua tất cả các đỉnh còn lại của tam giác hay không.'\u001b[0m,\n",
       "\u001b[2;32m│   \u001b[0m\u001b[32m'extension_component'\u001b[0m: \u001b[32m'Nếu hoàn thành sớm, học sinh có thể: 1. Thử vẽ đường trung trực của cạnh thứ hai và quan sát giao điểm của hai đường trung trực đó. 2. Thảo luận với bạn về mối liên hệ giữa vị trí tâm O và loại tam giác \u001b[0m\u001b[32m(\u001b[0m\u001b[32mnhọn, tù, vuông\u001b[0m\u001b[32m)\u001b[0m\u001b[32m. 3. Tìm hiểu thêm về các trường hợp đặc biệt của tâm đường tròn ngoại tiếp.'\u001b[0m,\n",
       "\u001b[2;32m│   \u001b[0m\u001b[32m'solution_guide'\u001b[0m: \u001b[32m'Các câu hỏi gợi mở: 1. Đường tròn bạn vừa vẽ có đi qua tất cả ba đỉnh của tam giác không? 2. Khoảng cách từ tâm O đến các đỉnh của tam giác có bằng nhau không? 3. Tâm O nằm ở đâu so với tam giác \u001b[0m\u001b[32m(\u001b[0m\u001b[32mbên trong, bên ngoài, trên cạnh\u001b[0m\u001b[32m)\u001b[0m\u001b[32m?'\u001b[0m,\n",
       "\u001b[2;32m│   \u001b[0m\u001b[32m'differentiation'\u001b[0m: \u001b[1m{\u001b[0m\n",
       "\u001b[2;32m│   │   \u001b[0m\u001b[32m'for_struggling_students'\u001b[0m: \u001b[32m'Cung cấp tam giác đã vẽ sẵn trên giấy ô ly để dễ dàng xác định trung điểm và vẽ đường trung trực. Giáo viên hướng dẫn từng bước cụ thể, có thể cầm tay chỉ việc hoặc sử dụng thước kẻ, compa mẫu. Chỉ tập trung vào việc vẽ đúng đường tròn ngoại tiếp sau khi có tâm O.'\u001b[0m,\n",
       "\u001b[2;32m│   │   \u001b[0m\u001b[32m'for_advanced_students'\u001b[0m: \u001b[32m'Yêu cầu học sinh tự vẽ các loại tam giác khác nhau \u001b[0m\u001b[32m(\u001b[0m\u001b[32mtam giác nhọn, tam giác tù, tam giác vuông\u001b[0m\u001b[32m)\u001b[0m\u001b[32m và dự đoán vị trí tâm đường tròn ngoại tiếp trước khi vẽ. Thử thách học sinh giải thích tại sao tâm đường tròn ngoại tiếp lại cách đều ba đỉnh của tam giác. Khuyến khích học sinh tự tìm cách xác định tâm O bằng cách vẽ hai đường trung trực nếu có thời gian.'\u001b[0m\n",
       "\u001b[2;32m│   \u001b[0m\u001b[1m}\u001b[0m,\n",
       "\u001b[2;32m│   \u001b[0m\u001b[32m'content_type'\u001b[0m: \u001b[32m'Thực hành cá nhân và Thảo luận nhóm'\u001b[0m\n",
       "\u001b[1m}\u001b[0m\n"
      ]
     },
     "metadata": {},
     "output_type": "display_data"
    },
    {
     "data": {
      "text/html": [
       "<pre style=\"white-space:pre;overflow-x:auto;line-height:normal;font-family:Menlo,'DejaVu Sans Mono',consolas,'Courier New',monospace\">\n",
       "<span style=\"color: #808000; text-decoration-color: #808000; font-weight: bold\">------- Hoàn thành bước: activity_designer -------</span>\n",
       "</pre>\n"
      ],
      "text/plain": [
       "\n",
       "\u001b[1;33m------- Hoàn thành bước: activity_designer -------\u001b[0m\n"
      ]
     },
     "metadata": {},
     "output_type": "display_data"
    },
    {
     "data": {
      "text/html": [
       "<pre style=\"white-space:pre;overflow-x:auto;line-height:normal;font-family:Menlo,'DejaVu Sans Mono',consolas,'Courier New',monospace\">\n",
       "<span style=\"color: #008080; text-decoration-color: #008080; font-weight: bold\">&gt;</span> `Agent: Guardian Critic` <span style=\"font-weight: bold\">(</span>v12.<span style=\"color: #008080; text-decoration-color: #008080; font-weight: bold\">1</span> - Cố vấn Thông thái<span style=\"font-weight: bold\">)</span> đang bảo vệ kế hoạch<span style=\"color: #808000; text-decoration-color: #808000\">...</span>\n",
       "</pre>\n"
      ],
      "text/plain": [
       "\n",
       "\u001b[1;36m>\u001b[0m `Agent: Guardian Critic` \u001b[1m(\u001b[0mv12.\u001b[1;36m1\u001b[0m - Cố vấn Thông thái\u001b[1m)\u001b[0m đang bảo vệ kế hoạch\u001b[33m...\u001b[0m\n"
      ]
     },
     "metadata": {},
     "output_type": "display_data"
    },
    {
     "data": {
      "text/html": [
       "<pre style=\"white-space:pre;overflow-x:auto;line-height:normal;font-family:Menlo,'DejaVu Sans Mono',consolas,'Courier New',monospace\"><span style=\"color: #808000; text-decoration-color: #808000; font-weight: bold\">⚠️  GUARDIAN PHẢN BIỆN (có tính xây dựng): Hoạt động này yêu cầu học sinh thực hiện các thao tác vẽ hình học (vẽ </span>\n",
       "<span style=\"color: #808000; text-decoration-color: #808000; font-weight: bold\">đường trung trực, vẽ đường tròn bằng compa) đòi hỏi sự tỉ mỉ và thời gian, đồng thời có phần thảo luận về vị trí </span>\n",
       "<span style=\"color: #808000; text-decoration-color: #808000; font-weight: bold\">tâm đường tròn ngoại tiếp đối với CÁC LOẠI tam giác khác nhau. Tổng thời gian cho các hoạt động này là quá nhiều so</span>\n",
       "<span style=\"color: #808000; text-decoration-color: #808000; font-weight: bold\">với </span><span style=\"color: #808000; text-decoration-color: #808000; font-weight: bold\">25</span><span style=\"color: #808000; text-decoration-color: #808000; font-weight: bold\"> phút cho phép, đặc biệt khi có học sinh cần hỗ trợ hoặc thao tác chậm. Để đảm bảo tính khả thi trong </span><span style=\"color: #808000; text-decoration-color: #808000; font-weight: bold\">25</span><span style=\"color: #808000; text-decoration-color: #808000; font-weight: bold\"> </span>\n",
       "<span style=\"color: #808000; text-decoration-color: #808000; font-weight: bold\">phút, hãy loại bỏ phần thảo luận về </span><span style=\"color: #808000; text-decoration-color: #808000; font-weight: bold\">\"vị trí của tâm đường tròn ngoại tiếp đối với các loại tam giác khác nhau\"</span><span style=\"color: #808000; text-decoration-color: #808000; font-weight: bold\"> khỏi</span>\n",
       "<span style=\"color: #808000; text-decoration-color: #808000; font-weight: bold\">hoạt động chính. Phần này có thể chuyển thành hoạt động mở rộng hoặc nội dung của buổi học tiếp theo.</span>\n",
       "</pre>\n"
      ],
      "text/plain": [
       "\u001b[1;33m⚠️  GUARDIAN PHẢN BIỆN \u001b[0m\u001b[1;33m(\u001b[0m\u001b[1;33mcó tính xây dựng\u001b[0m\u001b[1;33m)\u001b[0m\u001b[1;33m: Hoạt động này yêu cầu học sinh thực hiện các thao tác vẽ hình học \u001b[0m\u001b[1;33m(\u001b[0m\u001b[1;33mvẽ \u001b[0m\n",
       "\u001b[1;33mđường trung trực, vẽ đường tròn bằng compa\u001b[0m\u001b[1;33m)\u001b[0m\u001b[1;33m đòi hỏi sự tỉ mỉ và thời gian, đồng thời có phần thảo luận về vị trí \u001b[0m\n",
       "\u001b[1;33mtâm đường tròn ngoại tiếp đối với CÁC LOẠI tam giác khác nhau. Tổng thời gian cho các hoạt động này là quá nhiều so\u001b[0m\n",
       "\u001b[1;33mvới \u001b[0m\u001b[1;33m25\u001b[0m\u001b[1;33m phút cho phép, đặc biệt khi có học sinh cần hỗ trợ hoặc thao tác chậm. Để đảm bảo tính khả thi trong \u001b[0m\u001b[1;33m25\u001b[0m\u001b[1;33m \u001b[0m\n",
       "\u001b[1;33mphút, hãy loại bỏ phần thảo luận về \u001b[0m\u001b[1;33m\"vị trí của tâm đường tròn ngoại tiếp đối với các loại tam giác khác nhau\"\u001b[0m\u001b[1;33m khỏi\u001b[0m\n",
       "\u001b[1;33mhoạt động chính. Phần này có thể chuyển thành hoạt động mở rộng hoặc nội dung của buổi học tiếp theo.\u001b[0m\n"
      ]
     },
     "metadata": {},
     "output_type": "display_data"
    },
    {
     "data": {
      "text/html": [
       "<pre style=\"white-space:pre;overflow-x:auto;line-height:normal;font-family:Menlo,'DejaVu Sans Mono',consolas,'Courier New',monospace\"><span style=\"color: #808000; text-decoration-color: #808000; font-weight: bold\">⚠️  ROUTER (Validation): Nội dung bị từ chối. Thử lại lần </span><span style=\"color: #808000; text-decoration-color: #808000; font-weight: bold\">1</span><span style=\"color: #808000; text-decoration-color: #808000; font-weight: bold\">/</span><span style=\"color: #808000; text-decoration-color: #808000; font-weight: bold\">2</span><span style=\"color: #808000; text-decoration-color: #808000; font-weight: bold\">.</span>\n",
       "</pre>\n"
      ],
      "text/plain": [
       "\u001b[1;33m⚠️  ROUTER \u001b[0m\u001b[1;33m(\u001b[0m\u001b[1;33mValidation\u001b[0m\u001b[1;33m)\u001b[0m\u001b[1;33m: Nội dung bị từ chối. Thử lại lần \u001b[0m\u001b[1;33m1\u001b[0m\u001b[1;33m/\u001b[0m\u001b[1;33m2\u001b[0m\u001b[1;33m.\u001b[0m\n"
      ]
     },
     "metadata": {},
     "output_type": "display_data"
    },
    {
     "data": {
      "text/html": [
       "<pre style=\"white-space:pre;overflow-x:auto;line-height:normal;font-family:Menlo,'DejaVu Sans Mono',consolas,'Courier New',monospace\">\n",
       "<span style=\"color: #808000; text-decoration-color: #808000; font-weight: bold\">------- Hoàn thành bước: content_validator -------</span>\n",
       "</pre>\n"
      ],
      "text/plain": [
       "\n",
       "\u001b[1;33m------- Hoàn thành bước: content_validator -------\u001b[0m\n"
      ]
     },
     "metadata": {},
     "output_type": "display_data"
    },
    {
     "data": {
      "text/html": [
       "<pre style=\"white-space:pre;overflow-x:auto;line-height:normal;font-family:Menlo,'DejaVu Sans Mono',consolas,'Courier New',monospace\">\n",
       "<span style=\"color: #008080; text-decoration-color: #008080; font-weight: bold\">&gt;</span> `Agent: Task Dispatcher` đang giao việc<span style=\"color: #808000; text-decoration-color: #808000\">...</span>\n",
       "</pre>\n"
      ],
      "text/plain": [
       "\n",
       "\u001b[1;36m>\u001b[0m `Agent: Task Dispatcher` đang giao việc\u001b[33m...\u001b[0m\n"
      ]
     },
     "metadata": {},
     "output_type": "display_data"
    },
    {
     "data": {
      "text/html": [
       "<pre style=\"white-space:pre;overflow-x:auto;line-height:normal;font-family:Menlo,'DejaVu Sans Mono',consolas,'Courier New',monospace\">\n",
       "<span style=\"color: #008080; text-decoration-color: #008080; font-weight: bold\">&gt;</span> --- 🚚 `Dispatcher`: Giao nhiệm vụ cho `assessment_creator`.\n",
       "</pre>\n"
      ],
      "text/plain": [
       "\n",
       "\u001b[1;36m>\u001b[0m --- 🚚 `Dispatcher`: Giao nhiệm vụ cho `assessment_creator`.\n"
      ]
     },
     "metadata": {},
     "output_type": "display_data"
    },
    {
     "data": {
      "text/html": [
       "<pre style=\"white-space:pre;overflow-x:auto;line-height:normal;font-family:Menlo,'DejaVu Sans Mono',consolas,'Courier New',monospace\">\n",
       "<span style=\"color: #808000; text-decoration-color: #808000; font-weight: bold\">------- Hoàn thành bước: task_dispatcher -------</span>\n",
       "</pre>\n"
      ],
      "text/plain": [
       "\n",
       "\u001b[1;33m------- Hoàn thành bước: task_dispatcher -------\u001b[0m\n"
      ]
     },
     "metadata": {},
     "output_type": "display_data"
    },
    {
     "data": {
      "text/html": [
       "<pre style=\"white-space:pre;overflow-x:auto;line-height:normal;font-family:Menlo,'DejaVu Sans Mono',consolas,'Courier New',monospace\">\n",
       "<span style=\"color: #008080; text-decoration-color: #008080; font-weight: bold\">&gt;</span> `Agent: Assessment Creator` <span style=\"font-weight: bold\">(</span>v12.<span style=\"color: #008080; text-decoration-color: #008080; font-weight: bold\">0</span><span style=\"font-weight: bold\">)</span> đang tạo nội dung theo kỷ luật<span style=\"color: #808000; text-decoration-color: #808000\">...</span>\n",
       "</pre>\n"
      ],
      "text/plain": [
       "\n",
       "\u001b[1;36m>\u001b[0m `Agent: Assessment Creator` \u001b[1m(\u001b[0mv12.\u001b[1;36m0\u001b[0m\u001b[1m)\u001b[0m đang tạo nội dung theo kỷ luật\u001b[33m...\u001b[0m\n"
      ]
     },
     "metadata": {},
     "output_type": "display_data"
    },
    {
     "data": {
      "text/html": [
       "<pre style=\"white-space:pre;overflow-x:auto;line-height:normal;font-family:Menlo,'DejaVu Sans Mono',consolas,'Courier New',monospace\"><span style=\"color: #008000; text-decoration-color: #008000; font-weight: bold\">✔️ Nội dung do Assessment Creator tạo ra:</span>\n",
       "</pre>\n"
      ],
      "text/plain": [
       "\u001b[1;32m✔️ Nội dung do Assessment Creator tạo ra:\u001b[0m\n"
      ]
     },
     "metadata": {},
     "output_type": "display_data"
    },
    {
     "data": {
      "text/html": [
       "<pre style=\"white-space:pre;overflow-x:auto;line-height:normal;font-family:Menlo,'DejaVu Sans Mono',consolas,'Courier New',monospace\"><span style=\"font-weight: bold\">{</span>\n",
       "<span style=\"color: #7fbf7f; text-decoration-color: #7fbf7f\">│   </span><span style=\"color: #008000; text-decoration-color: #008000\">'activity_name'</span>: <span style=\"color: #008000; text-decoration-color: #008000\">'Khám phá Đường tròn ngoại tiếp'</span>,\n",
       "<span style=\"color: #7fbf7f; text-decoration-color: #7fbf7f\">│   </span><span style=\"color: #008000; text-decoration-color: #008000\">'duration_minutes'</span>: <span style=\"color: #008080; text-decoration-color: #008080; font-weight: bold\">25</span>,\n",
       "<span style=\"color: #7fbf7f; text-decoration-color: #7fbf7f\">│   </span><span style=\"color: #008000; text-decoration-color: #008000\">'teacher_actions'</span>: <span style=\"font-weight: bold\">[</span>\n",
       "<span style=\"color: #7fbf7f; text-decoration-color: #7fbf7f\">│   │   </span><span style=\"color: #008000; text-decoration-color: #008000\">'Phát giấy và dụng cụ học tập (thước, compa) cho học sinh.'</span>,\n",
       "<span style=\"color: #7fbf7f; text-decoration-color: #7fbf7f\">│   │   </span><span style=\"color: #008000; text-decoration-color: #008000\">'Hướng dẫn học sinh vẽ một tam giác ABC bất kỳ lên giấy.'</span>,\n",
       "<span style=\"color: #7fbf7f; text-decoration-color: #7fbf7f\">│   │   </span><span style=\"color: #008000; text-decoration-color: #008000\">'Quan sát và hỗ trợ từng học sinh trong quá trình vẽ đường trung trực và xác định tâm đường tròn.'</span>,\n",
       "<span style=\"color: #7fbf7f; text-decoration-color: #7fbf7f\">│   │   </span><span style=\"color: #008000; text-decoration-color: #008000\">'Kiểm tra kết quả vẽ của học sinh, đảm bảo đường tròn đi qua cả ba đỉnh.'</span>,\n",
       "<span style=\"color: #7fbf7f; text-decoration-color: #7fbf7f\">│   │   </span><span style=\"color: #008000; text-decoration-color: #008000\">'Thu bài và đánh giá khả năng thực hiện các bước vẽ hình học của học sinh.'</span>\n",
       "<span style=\"color: #7fbf7f; text-decoration-color: #7fbf7f\">│   </span><span style=\"font-weight: bold\">]</span>,\n",
       "<span style=\"color: #7fbf7f; text-decoration-color: #7fbf7f\">│   </span><span style=\"color: #008000; text-decoration-color: #008000\">'core_component'</span>: <span style=\"color: #008000; text-decoration-color: #008000\">'Cho tam giác ABC bất kỳ. Hãy thực hiện các bước sau để vẽ đường tròn ngoại tiếp tam giác đó:\\n1. Vẽ hai đường trung trực của hai cạnh bất kỳ của tam giác ABC.\\n2. Xác định giao điểm của hai đường trung trực vừa vẽ.\\n3. Từ giao điểm đó, vẽ đường tròn đi qua ba đỉnh của tam giác ABC.'</span>,\n",
       "<span style=\"color: #7fbf7f; text-decoration-color: #7fbf7f\">│   </span><span style=\"color: #008000; text-decoration-color: #008000\">'extension_component'</span>: <span style=\"color: #008000; text-decoration-color: #008000\">'Nếu còn thời gian, hãy thử vẽ đường tròn ngoại tiếp cho một tam giác vuông hoặc tam giác tù. Em có nhận xét gì về vị trí tâm đường tròn ngoại tiếp trong các trường hợp này?'</span>,\n",
       "<span style=\"color: #7fbf7f; text-decoration-color: #7fbf7f\">│   </span><span style=\"color: #008000; text-decoration-color: #008000\">'answer'</span>: <span style=\"color: #008000; text-decoration-color: #008000\">'Giao điểm của hai đường trung trực của hai cạnh bất kỳ trong tam giác chính là tâm đường tròn ngoại tiếp tam giác đó. Đường tròn này đi qua ba đỉnh của tam giác.'</span>,\n",
       "<span style=\"color: #7fbf7f; text-decoration-color: #7fbf7f\">│   </span><span style=\"color: #008000; text-decoration-color: #008000\">'solution_guide'</span>: <span style=\"color: #008000; text-decoration-color: #008000\">'1. Vẽ tam giác ABC bất kỳ.\\n2. Dùng compa và thước để vẽ đường trung trực của cạnh AB (gọi là d1).\\n3. Dùng compa và thước để vẽ đường trung trực của cạnh BC (gọi là d2).\\n4. Xác định giao điểm O của d1 và d2. Điểm O chính là tâm đường tròn ngoại tiếp tam giác ABC.\\n5. Đặt mũi nhọn compa tại O, mở rộng bán kính đến một trong ba đỉnh của tam giác (ví dụ: đỉnh A).\\n6. Giữ nguyên bán kính và vẽ đường tròn tâm O. Đường tròn này sẽ đi qua cả ba đỉnh A, B, C của tam giác.'</span>,\n",
       "<span style=\"color: #7fbf7f; text-decoration-color: #7fbf7f\">│   </span><span style=\"color: #008000; text-decoration-color: #008000\">'differentiation'</span>: <span style=\"font-weight: bold\">{</span>\n",
       "<span style=\"color: #7fbf7f; text-decoration-color: #7fbf7f\">│   │   </span><span style=\"color: #008000; text-decoration-color: #008000\">'for_struggling_students'</span>: <span style=\"color: #008000; text-decoration-color: #008000\">'Cung cấp một tam giác đã được vẽ sẵn hoặc hướng dẫn từng bước vẽ tam giác. Hướng dẫn chi tiết cách vẽ đường trung trực của một đoạn thẳng (ví dụ: gợi ý dùng compa để xác định hai điểm cách đều hai đầu mút). Cho phép học sinh làm việc theo cặp để hỗ trợ lẫn nhau trong quá trình vẽ.'</span>,\n",
       "<span style=\"color: #7fbf7f; text-decoration-color: #7fbf7f\">│   │   </span><span style=\"color: #008000; text-decoration-color: #008000\">'for_advanced_students'</span>: <span style=\"color: #008000; text-decoration-color: #008000\">'Yêu cầu học sinh chứng minh tại sao giao điểm của hai đường trung trực lại cách đều ba đỉnh của tam giác. Nếu hoàn thành sớm, hãy thử vẽ đường tròn ngoại tiếp cho một tam giác vuông hoặc tam giác tù và nhận xét về vị trí tâm đường tròn ngoại tiếp trong các trường hợp này.'</span>\n",
       "<span style=\"color: #7fbf7f; text-decoration-color: #7fbf7f\">│   </span><span style=\"font-weight: bold\">}</span>,\n",
       "<span style=\"color: #7fbf7f; text-decoration-color: #7fbf7f\">│   </span><span style=\"color: #008000; text-decoration-color: #008000\">'content_type'</span>: <span style=\"color: #008000; text-decoration-color: #008000\">'Tự luận'</span>\n",
       "<span style=\"font-weight: bold\">}</span>\n",
       "</pre>\n"
      ],
      "text/plain": [
       "\u001b[1m{\u001b[0m\n",
       "\u001b[2;32m│   \u001b[0m\u001b[32m'activity_name'\u001b[0m: \u001b[32m'Khám phá Đường tròn ngoại tiếp'\u001b[0m,\n",
       "\u001b[2;32m│   \u001b[0m\u001b[32m'duration_minutes'\u001b[0m: \u001b[1;36m25\u001b[0m,\n",
       "\u001b[2;32m│   \u001b[0m\u001b[32m'teacher_actions'\u001b[0m: \u001b[1m[\u001b[0m\n",
       "\u001b[2;32m│   │   \u001b[0m\u001b[32m'Phát giấy và dụng cụ học tập \u001b[0m\u001b[32m(\u001b[0m\u001b[32mthước, compa\u001b[0m\u001b[32m)\u001b[0m\u001b[32m cho học sinh.'\u001b[0m,\n",
       "\u001b[2;32m│   │   \u001b[0m\u001b[32m'Hướng dẫn học sinh vẽ một tam giác ABC bất kỳ lên giấy.'\u001b[0m,\n",
       "\u001b[2;32m│   │   \u001b[0m\u001b[32m'Quan sát và hỗ trợ từng học sinh trong quá trình vẽ đường trung trực và xác định tâm đường tròn.'\u001b[0m,\n",
       "\u001b[2;32m│   │   \u001b[0m\u001b[32m'Kiểm tra kết quả vẽ của học sinh, đảm bảo đường tròn đi qua cả ba đỉnh.'\u001b[0m,\n",
       "\u001b[2;32m│   │   \u001b[0m\u001b[32m'Thu bài và đánh giá khả năng thực hiện các bước vẽ hình học của học sinh.'\u001b[0m\n",
       "\u001b[2;32m│   \u001b[0m\u001b[1m]\u001b[0m,\n",
       "\u001b[2;32m│   \u001b[0m\u001b[32m'core_component'\u001b[0m: \u001b[32m'Cho tam giác ABC bất kỳ. Hãy thực hiện các bước sau để vẽ đường tròn ngoại tiếp tam giác đó:\\n1. Vẽ hai đường trung trực của hai cạnh bất kỳ của tam giác ABC.\\n2. Xác định giao điểm của hai đường trung trực vừa vẽ.\\n3. Từ giao điểm đó, vẽ đường tròn đi qua ba đỉnh của tam giác ABC.'\u001b[0m,\n",
       "\u001b[2;32m│   \u001b[0m\u001b[32m'extension_component'\u001b[0m: \u001b[32m'Nếu còn thời gian, hãy thử vẽ đường tròn ngoại tiếp cho một tam giác vuông hoặc tam giác tù. Em có nhận xét gì về vị trí tâm đường tròn ngoại tiếp trong các trường hợp này?'\u001b[0m,\n",
       "\u001b[2;32m│   \u001b[0m\u001b[32m'answer'\u001b[0m: \u001b[32m'Giao điểm của hai đường trung trực của hai cạnh bất kỳ trong tam giác chính là tâm đường tròn ngoại tiếp tam giác đó. Đường tròn này đi qua ba đỉnh của tam giác.'\u001b[0m,\n",
       "\u001b[2;32m│   \u001b[0m\u001b[32m'solution_guide'\u001b[0m: \u001b[32m'1. Vẽ tam giác ABC bất kỳ.\\n2. Dùng compa và thước để vẽ đường trung trực của cạnh AB \u001b[0m\u001b[32m(\u001b[0m\u001b[32mgọi là d1\u001b[0m\u001b[32m)\u001b[0m\u001b[32m.\\n3. Dùng compa và thước để vẽ đường trung trực của cạnh BC \u001b[0m\u001b[32m(\u001b[0m\u001b[32mgọi là d2\u001b[0m\u001b[32m)\u001b[0m\u001b[32m.\\n4. Xác định giao điểm O của d1 và d2. Điểm O chính là tâm đường tròn ngoại tiếp tam giác ABC.\\n5. Đặt mũi nhọn compa tại O, mở rộng bán kính đến một trong ba đỉnh của tam giác \u001b[0m\u001b[32m(\u001b[0m\u001b[32mví dụ: đỉnh A\u001b[0m\u001b[32m)\u001b[0m\u001b[32m.\\n6. Giữ nguyên bán kính và vẽ đường tròn tâm O. Đường tròn này sẽ đi qua cả ba đỉnh A, B, C của tam giác.'\u001b[0m,\n",
       "\u001b[2;32m│   \u001b[0m\u001b[32m'differentiation'\u001b[0m: \u001b[1m{\u001b[0m\n",
       "\u001b[2;32m│   │   \u001b[0m\u001b[32m'for_struggling_students'\u001b[0m: \u001b[32m'Cung cấp một tam giác đã được vẽ sẵn hoặc hướng dẫn từng bước vẽ tam giác. Hướng dẫn chi tiết cách vẽ đường trung trực của một đoạn thẳng \u001b[0m\u001b[32m(\u001b[0m\u001b[32mví dụ: gợi ý dùng compa để xác định hai điểm cách đều hai đầu mút\u001b[0m\u001b[32m)\u001b[0m\u001b[32m. Cho phép học sinh làm việc theo cặp để hỗ trợ lẫn nhau trong quá trình vẽ.'\u001b[0m,\n",
       "\u001b[2;32m│   │   \u001b[0m\u001b[32m'for_advanced_students'\u001b[0m: \u001b[32m'Yêu cầu học sinh chứng minh tại sao giao điểm của hai đường trung trực lại cách đều ba đỉnh của tam giác. Nếu hoàn thành sớm, hãy thử vẽ đường tròn ngoại tiếp cho một tam giác vuông hoặc tam giác tù và nhận xét về vị trí tâm đường tròn ngoại tiếp trong các trường hợp này.'\u001b[0m\n",
       "\u001b[2;32m│   \u001b[0m\u001b[1m}\u001b[0m,\n",
       "\u001b[2;32m│   \u001b[0m\u001b[32m'content_type'\u001b[0m: \u001b[32m'Tự luận'\u001b[0m\n",
       "\u001b[1m}\u001b[0m\n"
      ]
     },
     "metadata": {},
     "output_type": "display_data"
    },
    {
     "data": {
      "text/html": [
       "<pre style=\"white-space:pre;overflow-x:auto;line-height:normal;font-family:Menlo,'DejaVu Sans Mono',consolas,'Courier New',monospace\">\n",
       "<span style=\"color: #808000; text-decoration-color: #808000; font-weight: bold\">------- Hoàn thành bước: assessment_creator -------</span>\n",
       "</pre>\n"
      ],
      "text/plain": [
       "\n",
       "\u001b[1;33m------- Hoàn thành bước: assessment_creator -------\u001b[0m\n"
      ]
     },
     "metadata": {},
     "output_type": "display_data"
    },
    {
     "data": {
      "text/html": [
       "<pre style=\"white-space:pre;overflow-x:auto;line-height:normal;font-family:Menlo,'DejaVu Sans Mono',consolas,'Courier New',monospace\">\n",
       "<span style=\"color: #008080; text-decoration-color: #008080; font-weight: bold\">&gt;</span> `Agent: Guardian Critic` <span style=\"font-weight: bold\">(</span>v12.<span style=\"color: #008080; text-decoration-color: #008080; font-weight: bold\">1</span> - Cố vấn Thông thái<span style=\"font-weight: bold\">)</span> đang bảo vệ kế hoạch<span style=\"color: #808000; text-decoration-color: #808000\">...</span>\n",
       "</pre>\n"
      ],
      "text/plain": [
       "\n",
       "\u001b[1;36m>\u001b[0m `Agent: Guardian Critic` \u001b[1m(\u001b[0mv12.\u001b[1;36m1\u001b[0m - Cố vấn Thông thái\u001b[1m)\u001b[0m đang bảo vệ kế hoạch\u001b[33m...\u001b[0m\n"
      ]
     },
     "metadata": {},
     "output_type": "display_data"
    },
    {
     "data": {
      "text/html": [
       "<pre style=\"white-space:pre;overflow-x:auto;line-height:normal;font-family:Menlo,'DejaVu Sans Mono',consolas,'Courier New',monospace\"><span style=\"color: #808000; text-decoration-color: #808000; font-weight: bold\">⚠️  GUARDIAN PHẢN BIỆN (có tính xây dựng): Hoạt động này quá dài so với </span><span style=\"color: #808000; text-decoration-color: #808000; font-weight: bold\">25</span><span style=\"color: #808000; text-decoration-color: #808000; font-weight: bold\"> phút. Việc yêu cầu học sinh tự vẽ tam </span>\n",
       "<span style=\"color: #808000; text-decoration-color: #808000; font-weight: bold\">giác, sau đó vẽ hai đường trung trực và cuối cùng là vẽ đường tròn ngoại tiếp đòi hỏi sự tỉ mỉ, chính xác và nhiều </span>\n",
       "<span style=\"color: #808000; text-decoration-color: #808000; font-weight: bold\">thời gian thực hành, đặc biệt khi có thể có lỗi sai và cần sự hỗ trợ từ giáo viên. Phần mở rộng gần như không thể </span>\n",
       "<span style=\"color: #808000; text-decoration-color: #808000; font-weight: bold\">thực hiện được. Hãy đơn giản hóa hoạt động bằng cách cung cấp sẵn một tam giác đã được vẽ, hoặc chỉ tập trung vào </span>\n",
       "<span style=\"color: #808000; text-decoration-color: #808000; font-weight: bold\">việc vẽ một đường trung trực và xác định tâm đường tròn ngoại tiếp, không yêu cầu vẽ toàn bộ đường tròn.</span>\n",
       "</pre>\n"
      ],
      "text/plain": [
       "\u001b[1;33m⚠️  GUARDIAN PHẢN BIỆN \u001b[0m\u001b[1;33m(\u001b[0m\u001b[1;33mcó tính xây dựng\u001b[0m\u001b[1;33m)\u001b[0m\u001b[1;33m: Hoạt động này quá dài so với \u001b[0m\u001b[1;33m25\u001b[0m\u001b[1;33m phút. Việc yêu cầu học sinh tự vẽ tam \u001b[0m\n",
       "\u001b[1;33mgiác, sau đó vẽ hai đường trung trực và cuối cùng là vẽ đường tròn ngoại tiếp đòi hỏi sự tỉ mỉ, chính xác và nhiều \u001b[0m\n",
       "\u001b[1;33mthời gian thực hành, đặc biệt khi có thể có lỗi sai và cần sự hỗ trợ từ giáo viên. Phần mở rộng gần như không thể \u001b[0m\n",
       "\u001b[1;33mthực hiện được. Hãy đơn giản hóa hoạt động bằng cách cung cấp sẵn một tam giác đã được vẽ, hoặc chỉ tập trung vào \u001b[0m\n",
       "\u001b[1;33mviệc vẽ một đường trung trực và xác định tâm đường tròn ngoại tiếp, không yêu cầu vẽ toàn bộ đường tròn.\u001b[0m\n"
      ]
     },
     "metadata": {},
     "output_type": "display_data"
    },
    {
     "data": {
      "text/html": [
       "<pre style=\"white-space:pre;overflow-x:auto;line-height:normal;font-family:Menlo,'DejaVu Sans Mono',consolas,'Courier New',monospace\"><span style=\"color: #808000; text-decoration-color: #808000; font-weight: bold\">⚠️  ROUTER (Validation): Nội dung bị từ chối. Thử lại lần </span><span style=\"color: #808000; text-decoration-color: #808000; font-weight: bold\">1</span><span style=\"color: #808000; text-decoration-color: #808000; font-weight: bold\">/</span><span style=\"color: #808000; text-decoration-color: #808000; font-weight: bold\">2</span><span style=\"color: #808000; text-decoration-color: #808000; font-weight: bold\">.</span>\n",
       "</pre>\n"
      ],
      "text/plain": [
       "\u001b[1;33m⚠️  ROUTER \u001b[0m\u001b[1;33m(\u001b[0m\u001b[1;33mValidation\u001b[0m\u001b[1;33m)\u001b[0m\u001b[1;33m: Nội dung bị từ chối. Thử lại lần \u001b[0m\u001b[1;33m1\u001b[0m\u001b[1;33m/\u001b[0m\u001b[1;33m2\u001b[0m\u001b[1;33m.\u001b[0m\n"
      ]
     },
     "metadata": {},
     "output_type": "display_data"
    },
    {
     "data": {
      "text/html": [
       "<pre style=\"white-space:pre;overflow-x:auto;line-height:normal;font-family:Menlo,'DejaVu Sans Mono',consolas,'Courier New',monospace\">\n",
       "<span style=\"color: #808000; text-decoration-color: #808000; font-weight: bold\">------- Hoàn thành bước: content_validator -------</span>\n",
       "</pre>\n"
      ],
      "text/plain": [
       "\n",
       "\u001b[1;33m------- Hoàn thành bước: content_validator -------\u001b[0m\n"
      ]
     },
     "metadata": {},
     "output_type": "display_data"
    },
    {
     "data": {
      "text/html": [
       "<pre style=\"white-space:pre;overflow-x:auto;line-height:normal;font-family:Menlo,'DejaVu Sans Mono',consolas,'Courier New',monospace\">\n",
       "<span style=\"color: #008080; text-decoration-color: #008080; font-weight: bold\">&gt;</span> `Agent: Task Dispatcher` đang giao việc<span style=\"color: #808000; text-decoration-color: #808000\">...</span>\n",
       "</pre>\n"
      ],
      "text/plain": [
       "\n",
       "\u001b[1;36m>\u001b[0m `Agent: Task Dispatcher` đang giao việc\u001b[33m...\u001b[0m\n"
      ]
     },
     "metadata": {},
     "output_type": "display_data"
    },
    {
     "data": {
      "text/html": [
       "<pre style=\"white-space:pre;overflow-x:auto;line-height:normal;font-family:Menlo,'DejaVu Sans Mono',consolas,'Courier New',monospace\">\n",
       "<span style=\"color: #008080; text-decoration-color: #008080; font-weight: bold\">&gt;</span> --- 🚚 `Dispatcher`: Giao nhiệm vụ cho `activity_designer`.\n",
       "</pre>\n"
      ],
      "text/plain": [
       "\n",
       "\u001b[1;36m>\u001b[0m --- 🚚 `Dispatcher`: Giao nhiệm vụ cho `activity_designer`.\n"
      ]
     },
     "metadata": {},
     "output_type": "display_data"
    },
    {
     "data": {
      "text/html": [
       "<pre style=\"white-space:pre;overflow-x:auto;line-height:normal;font-family:Menlo,'DejaVu Sans Mono',consolas,'Courier New',monospace\">\n",
       "<span style=\"color: #808000; text-decoration-color: #808000; font-weight: bold\">------- Hoàn thành bước: task_dispatcher -------</span>\n",
       "</pre>\n"
      ],
      "text/plain": [
       "\n",
       "\u001b[1;33m------- Hoàn thành bước: task_dispatcher -------\u001b[0m\n"
      ]
     },
     "metadata": {},
     "output_type": "display_data"
    },
    {
     "data": {
      "text/html": [
       "<pre style=\"white-space:pre;overflow-x:auto;line-height:normal;font-family:Menlo,'DejaVu Sans Mono',consolas,'Courier New',monospace\">\n",
       "<span style=\"color: #008080; text-decoration-color: #008080; font-weight: bold\">&gt;</span> `Agent: Activity Designer` <span style=\"font-weight: bold\">(</span>v12.<span style=\"color: #008080; text-decoration-color: #008080; font-weight: bold\">0</span><span style=\"font-weight: bold\">)</span> đang tạo nội dung theo kỷ luật<span style=\"color: #808000; text-decoration-color: #808000\">...</span>\n",
       "</pre>\n"
      ],
      "text/plain": [
       "\n",
       "\u001b[1;36m>\u001b[0m `Agent: Activity Designer` \u001b[1m(\u001b[0mv12.\u001b[1;36m0\u001b[0m\u001b[1m)\u001b[0m đang tạo nội dung theo kỷ luật\u001b[33m...\u001b[0m\n"
      ]
     },
     "metadata": {},
     "output_type": "display_data"
    },
    {
     "data": {
      "text/html": [
       "<pre style=\"white-space:pre;overflow-x:auto;line-height:normal;font-family:Menlo,'DejaVu Sans Mono',consolas,'Courier New',monospace\"><span style=\"color: #008000; text-decoration-color: #008000; font-weight: bold\">✔️ Nội dung do Activity Designer tạo ra:</span>\n",
       "</pre>\n"
      ],
      "text/plain": [
       "\u001b[1;32m✔️ Nội dung do Activity Designer tạo ra:\u001b[0m\n"
      ]
     },
     "metadata": {},
     "output_type": "display_data"
    },
    {
     "data": {
      "text/html": [
       "<pre style=\"white-space:pre;overflow-x:auto;line-height:normal;font-family:Menlo,'DejaVu Sans Mono',consolas,'Courier New',monospace\"><span style=\"font-weight: bold\">{</span>\n",
       "<span style=\"color: #7fbf7f; text-decoration-color: #7fbf7f\">│   </span><span style=\"color: #008000; text-decoration-color: #008000\">'activity_name'</span>: <span style=\"color: #008000; text-decoration-color: #008000\">'Khám phá Đường tròn ngoại tiếp'</span>,\n",
       "<span style=\"color: #7fbf7f; text-decoration-color: #7fbf7f\">│   </span><span style=\"color: #008000; text-decoration-color: #008000\">'duration_minutes'</span>: <span style=\"color: #008080; text-decoration-color: #008080; font-weight: bold\">25</span>,\n",
       "<span style=\"color: #7fbf7f; text-decoration-color: #7fbf7f\">│   </span><span style=\"color: #008000; text-decoration-color: #008000\">'teacher_actions'</span>: <span style=\"font-weight: bold\">[</span>\n",
       "<span style=\"color: #7fbf7f; text-decoration-color: #7fbf7f\">│   │   </span><span style=\"color: #008000; text-decoration-color: #008000\">'Phát phiếu bài tập có sẵn các tam giác và dụng cụ học tập (thước, compa) cho học sinh.'</span>,\n",
       "<span style=\"color: #7fbf7f; text-decoration-color: #7fbf7f\">│   │   </span><span style=\"color: #008000; text-decoration-color: #008000\">'Hướng dẫn lại các bước vẽ đường trung trực của một đoạn thẳng nếu học sinh gặp khó khăn.'</span>,\n",
       "<span style=\"color: #7fbf7f; text-decoration-color: #7fbf7f\">│   │   </span><span style=\"color: #008000; text-decoration-color: #008000\">'Đi lại các nhóm/cá nhân để quan sát quá trình thực hiện, hỗ trợ kịp thời và giải đáp thắc mắc.'</span>,\n",
       "<span style=\"color: #7fbf7f; text-decoration-color: #7fbf7f\">│   │   </span><span style=\"color: #008000; text-decoration-color: #008000\">'Gợi ý học sinh kiểm tra lại các bước vẽ và đo đạc nếu kết quả không chính xác hoặc không khớp với lý thuyết.'</span>,\n",
       "<span style=\"color: #7fbf7f; text-decoration-color: #7fbf7f\">│   │   </span><span style=\"color: #008000; text-decoration-color: #008000\">'Tổ chức cho học sinh chia sẻ kết quả, nhận xét về vị trí của tâm đường tròn ngoại tiếp đối với các loại tam giác khác nhau (nhọn, tù, vuông) và rút ra kết luận.'</span>\n",
       "<span style=\"color: #7fbf7f; text-decoration-color: #7fbf7f\">│   </span><span style=\"font-weight: bold\">]</span>,\n",
       "<span style=\"color: #7fbf7f; text-decoration-color: #7fbf7f\">│   </span><span style=\"color: #008000; text-decoration-color: #008000\">'core_component'</span>: <span style=\"color: #008000; text-decoration-color: #008000\">'Học sinh nhận phiếu bài tập có sẵn các tam giác (nhọn, tù, vuông). Với mỗi tam giác, học sinh sử dụng thước và compa để vẽ hai đường trung trực của hai cạnh bất kỳ. Sau đó, xác định giao điểm của hai đường trung trực này (chính là tâm đường tròn ngoại tiếp). Cuối cùng, học sinh đo khoảng cách từ giao điểm này đến ba đỉnh của tam giác để kiểm tra xem chúng có bằng nhau không.'</span>,\n",
       "<span style=\"color: #7fbf7f; text-decoration-color: #7fbf7f\">│   </span><span style=\"color: #008000; text-decoration-color: #008000\">'extension_component'</span>: <span style=\"color: #008000; text-decoration-color: #008000\">'Học sinh có thể thử vẽ đường tròn ngoại tiếp cho một trong các tam giác đã xác định tâm. Thảo luận sâu hơn về vị trí của tâm đường tròn ngoại tiếp đối với tam giác nhọn (nằm bên trong), tam giác vuông (là trung điểm cạnh huyền), và tam giác tù (nằm bên ngoài).'</span>,\n",
       "<span style=\"color: #7fbf7f; text-decoration-color: #7fbf7f\">│   </span><span style=\"color: #008000; text-decoration-color: #008000\">'solution_guide'</span>: <span style=\"color: #008000; text-decoration-color: #008000\">'Gợi ý: Giao điểm của hai đường trung trực của hai cạnh trong tam giác chính là tâm đường tròn ngoại tiếp. Khoảng cách từ tâm đường tròn ngoại tiếp đến ba đỉnh của tam giác phải bằng nhau. Câu hỏi gợi mở: Tâm đường tròn ngoại tiếp nằm ở đâu đối với tam giác nhọn? Tam giác vuông? Tam giác tù? Tại sao?'</span>,\n",
       "<span style=\"color: #7fbf7f; text-decoration-color: #7fbf7f\">│   </span><span style=\"color: #008000; text-decoration-color: #008000\">'differentiation'</span>: <span style=\"font-weight: bold\">{</span>\n",
       "<span style=\"color: #7fbf7f; text-decoration-color: #7fbf7f\">│   │   </span><span style=\"color: #008000; text-decoration-color: #008000\">'for_struggling_students'</span>: <span style=\"color: #008000; text-decoration-color: #008000\">'Cung cấp các tam giác đơn giản hơn (ví dụ: tam giác cân, tam giác đều) hoặc chỉ yêu cầu vẽ một đường trung trực và xác định trung điểm của cạnh. Giáo viên có thể hướng dẫn từng bước cụ thể cách vẽ đường trung trực hoặc cho phép học sinh làm việc theo cặp để hỗ trợ lẫn nhau.'</span>,\n",
       "<span style=\"color: #7fbf7f; text-decoration-color: #7fbf7f\">│   │   </span><span style=\"color: #008000; text-decoration-color: #008000\">'for_advanced_students'</span>: <span style=\"color: #008000; text-decoration-color: #008000\">'Yêu cầu học sinh chứng minh tại sao giao điểm của hai đường trung trực lại cách đều ba đỉnh của tam giác. Thử thách học sinh vẽ đường tròn ngoại tiếp cho một tam giác đặc biệt (ví dụ: tam giác vuông, tam giác tù) và nhận xét về vị trí tâm. Khuyến khích nghiên cứu mối liên hệ giữa tâm đường tròn ngoại tiếp và các đường đặc biệt khác trong tam giác (trọng tâm, trực tâm, tâm đường tròn nội tiếp).'</span>\n",
       "<span style=\"color: #7fbf7f; text-decoration-color: #7fbf7f\">│   </span><span style=\"font-weight: bold\">}</span>,\n",
       "<span style=\"color: #7fbf7f; text-decoration-color: #7fbf7f\">│   </span><span style=\"color: #008000; text-decoration-color: #008000\">'content_type'</span>: <span style=\"color: #008000; text-decoration-color: #008000\">'Thực hành cá nhân kết hợp thảo luận'</span>\n",
       "<span style=\"font-weight: bold\">}</span>\n",
       "</pre>\n"
      ],
      "text/plain": [
       "\u001b[1m{\u001b[0m\n",
       "\u001b[2;32m│   \u001b[0m\u001b[32m'activity_name'\u001b[0m: \u001b[32m'Khám phá Đường tròn ngoại tiếp'\u001b[0m,\n",
       "\u001b[2;32m│   \u001b[0m\u001b[32m'duration_minutes'\u001b[0m: \u001b[1;36m25\u001b[0m,\n",
       "\u001b[2;32m│   \u001b[0m\u001b[32m'teacher_actions'\u001b[0m: \u001b[1m[\u001b[0m\n",
       "\u001b[2;32m│   │   \u001b[0m\u001b[32m'Phát phiếu bài tập có sẵn các tam giác và dụng cụ học tập \u001b[0m\u001b[32m(\u001b[0m\u001b[32mthước, compa\u001b[0m\u001b[32m)\u001b[0m\u001b[32m cho học sinh.'\u001b[0m,\n",
       "\u001b[2;32m│   │   \u001b[0m\u001b[32m'Hướng dẫn lại các bước vẽ đường trung trực của một đoạn thẳng nếu học sinh gặp khó khăn.'\u001b[0m,\n",
       "\u001b[2;32m│   │   \u001b[0m\u001b[32m'Đi lại các nhóm/cá nhân để quan sát quá trình thực hiện, hỗ trợ kịp thời và giải đáp thắc mắc.'\u001b[0m,\n",
       "\u001b[2;32m│   │   \u001b[0m\u001b[32m'Gợi ý học sinh kiểm tra lại các bước vẽ và đo đạc nếu kết quả không chính xác hoặc không khớp với lý thuyết.'\u001b[0m,\n",
       "\u001b[2;32m│   │   \u001b[0m\u001b[32m'Tổ chức cho học sinh chia sẻ kết quả, nhận xét về vị trí của tâm đường tròn ngoại tiếp đối với các loại tam giác khác nhau \u001b[0m\u001b[32m(\u001b[0m\u001b[32mnhọn, tù, vuông\u001b[0m\u001b[32m)\u001b[0m\u001b[32m và rút ra kết luận.'\u001b[0m\n",
       "\u001b[2;32m│   \u001b[0m\u001b[1m]\u001b[0m,\n",
       "\u001b[2;32m│   \u001b[0m\u001b[32m'core_component'\u001b[0m: \u001b[32m'Học sinh nhận phiếu bài tập có sẵn các tam giác \u001b[0m\u001b[32m(\u001b[0m\u001b[32mnhọn, tù, vuông\u001b[0m\u001b[32m)\u001b[0m\u001b[32m. Với mỗi tam giác, học sinh sử dụng thước và compa để vẽ hai đường trung trực của hai cạnh bất kỳ. Sau đó, xác định giao điểm của hai đường trung trực này \u001b[0m\u001b[32m(\u001b[0m\u001b[32mchính là tâm đường tròn ngoại tiếp\u001b[0m\u001b[32m)\u001b[0m\u001b[32m. Cuối cùng, học sinh đo khoảng cách từ giao điểm này đến ba đỉnh của tam giác để kiểm tra xem chúng có bằng nhau không.'\u001b[0m,\n",
       "\u001b[2;32m│   \u001b[0m\u001b[32m'extension_component'\u001b[0m: \u001b[32m'Học sinh có thể thử vẽ đường tròn ngoại tiếp cho một trong các tam giác đã xác định tâm. Thảo luận sâu hơn về vị trí của tâm đường tròn ngoại tiếp đối với tam giác nhọn \u001b[0m\u001b[32m(\u001b[0m\u001b[32mnằm bên trong\u001b[0m\u001b[32m)\u001b[0m\u001b[32m, tam giác vuông \u001b[0m\u001b[32m(\u001b[0m\u001b[32mlà trung điểm cạnh huyền\u001b[0m\u001b[32m)\u001b[0m\u001b[32m, và tam giác tù \u001b[0m\u001b[32m(\u001b[0m\u001b[32mnằm bên ngoài\u001b[0m\u001b[32m)\u001b[0m\u001b[32m.'\u001b[0m,\n",
       "\u001b[2;32m│   \u001b[0m\u001b[32m'solution_guide'\u001b[0m: \u001b[32m'Gợi ý: Giao điểm của hai đường trung trực của hai cạnh trong tam giác chính là tâm đường tròn ngoại tiếp. Khoảng cách từ tâm đường tròn ngoại tiếp đến ba đỉnh của tam giác phải bằng nhau. Câu hỏi gợi mở: Tâm đường tròn ngoại tiếp nằm ở đâu đối với tam giác nhọn? Tam giác vuông? Tam giác tù? Tại sao?'\u001b[0m,\n",
       "\u001b[2;32m│   \u001b[0m\u001b[32m'differentiation'\u001b[0m: \u001b[1m{\u001b[0m\n",
       "\u001b[2;32m│   │   \u001b[0m\u001b[32m'for_struggling_students'\u001b[0m: \u001b[32m'Cung cấp các tam giác đơn giản hơn \u001b[0m\u001b[32m(\u001b[0m\u001b[32mví dụ: tam giác cân, tam giác đều\u001b[0m\u001b[32m)\u001b[0m\u001b[32m hoặc chỉ yêu cầu vẽ một đường trung trực và xác định trung điểm của cạnh. Giáo viên có thể hướng dẫn từng bước cụ thể cách vẽ đường trung trực hoặc cho phép học sinh làm việc theo cặp để hỗ trợ lẫn nhau.'\u001b[0m,\n",
       "\u001b[2;32m│   │   \u001b[0m\u001b[32m'for_advanced_students'\u001b[0m: \u001b[32m'Yêu cầu học sinh chứng minh tại sao giao điểm của hai đường trung trực lại cách đều ba đỉnh của tam giác. Thử thách học sinh vẽ đường tròn ngoại tiếp cho một tam giác đặc biệt \u001b[0m\u001b[32m(\u001b[0m\u001b[32mví dụ: tam giác vuông, tam giác tù\u001b[0m\u001b[32m)\u001b[0m\u001b[32m và nhận xét về vị trí tâm. Khuyến khích nghiên cứu mối liên hệ giữa tâm đường tròn ngoại tiếp và các đường đặc biệt khác trong tam giác \u001b[0m\u001b[32m(\u001b[0m\u001b[32mtrọng tâm, trực tâm, tâm đường tròn nội tiếp\u001b[0m\u001b[32m)\u001b[0m\u001b[32m.'\u001b[0m\n",
       "\u001b[2;32m│   \u001b[0m\u001b[1m}\u001b[0m,\n",
       "\u001b[2;32m│   \u001b[0m\u001b[32m'content_type'\u001b[0m: \u001b[32m'Thực hành cá nhân kết hợp thảo luận'\u001b[0m\n",
       "\u001b[1m}\u001b[0m\n"
      ]
     },
     "metadata": {},
     "output_type": "display_data"
    },
    {
     "data": {
      "text/html": [
       "<pre style=\"white-space:pre;overflow-x:auto;line-height:normal;font-family:Menlo,'DejaVu Sans Mono',consolas,'Courier New',monospace\">\n",
       "<span style=\"color: #808000; text-decoration-color: #808000; font-weight: bold\">------- Hoàn thành bước: activity_designer -------</span>\n",
       "</pre>\n"
      ],
      "text/plain": [
       "\n",
       "\u001b[1;33m------- Hoàn thành bước: activity_designer -------\u001b[0m\n"
      ]
     },
     "metadata": {},
     "output_type": "display_data"
    },
    {
     "data": {
      "text/html": [
       "<pre style=\"white-space:pre;overflow-x:auto;line-height:normal;font-family:Menlo,'DejaVu Sans Mono',consolas,'Courier New',monospace\">\n",
       "<span style=\"color: #008080; text-decoration-color: #008080; font-weight: bold\">&gt;</span> `Agent: Guardian Critic` <span style=\"font-weight: bold\">(</span>v12.<span style=\"color: #008080; text-decoration-color: #008080; font-weight: bold\">1</span> - Cố vấn Thông thái<span style=\"font-weight: bold\">)</span> đang bảo vệ kế hoạch<span style=\"color: #808000; text-decoration-color: #808000\">...</span>\n",
       "</pre>\n"
      ],
      "text/plain": [
       "\n",
       "\u001b[1;36m>\u001b[0m `Agent: Guardian Critic` \u001b[1m(\u001b[0mv12.\u001b[1;36m1\u001b[0m - Cố vấn Thông thái\u001b[1m)\u001b[0m đang bảo vệ kế hoạch\u001b[33m...\u001b[0m\n"
      ]
     },
     "metadata": {},
     "output_type": "display_data"
    },
    {
     "data": {
      "text/html": [
       "<pre style=\"white-space:pre;overflow-x:auto;line-height:normal;font-family:Menlo,'DejaVu Sans Mono',consolas,'Courier New',monospace\"><span style=\"color: #808000; text-decoration-color: #808000; font-weight: bold\">⚠️  GUARDIAN PHẢN BIỆN (có tính xây dựng): Hoạt động này yêu cầu học sinh thực hiện quá nhiều thao tác vẽ và đo đạc</span>\n",
       "<span style=\"color: #808000; text-decoration-color: #808000; font-weight: bold\">cho nhiều loại tam giác khác nhau trong </span><span style=\"color: #808000; text-decoration-color: #808000; font-weight: bold\">25</span><span style=\"color: #808000; text-decoration-color: #808000; font-weight: bold\"> phút, điều này là không khả thi. Việc vẽ đường trung trực bằng thước và </span>\n",
       "<span style=\"color: #808000; text-decoration-color: #808000; font-weight: bold\">compa đòi hỏi sự tỉ mỉ và tốn thời gian để đảm bảo độ chính xác. Phần thảo luận và rút ra kết luận về vị trí tâm </span>\n",
       "<span style=\"color: #808000; text-decoration-color: #808000; font-weight: bold\">đường tròn ngoại tiếp cho từng loại tam giác cũng cần thời gian đáng kể. Hãy điều chỉnh lại nội dung chính </span>\n",
       "<span style=\"color: #808000; text-decoration-color: #808000; font-weight: bold\">(core_component) để học sinh CHỈ THỰC HIỆN VẼ VÀ XÁC ĐỊNH TÂM ĐƯỜNG TRÒN NGOẠI TIẾP CHO MỘT HOẶC TỐI ĐA HAI TAM </span>\n",
       "<span style=\"color: #808000; text-decoration-color: #808000; font-weight: bold\">GIÁC ĐƠN GIẢN. Phần thảo luận về vị trí tâm đường tròn ngoại tiếp cho các loại tam giác khác nhau nên được giáo </span>\n",
       "<span style=\"color: #808000; text-decoration-color: #808000; font-weight: bold\">viên tổng kết nhanh hoặc chỉ tập trung vào một loại tam giác cụ thể.</span>\n",
       "</pre>\n"
      ],
      "text/plain": [
       "\u001b[1;33m⚠️  GUARDIAN PHẢN BIỆN \u001b[0m\u001b[1;33m(\u001b[0m\u001b[1;33mcó tính xây dựng\u001b[0m\u001b[1;33m)\u001b[0m\u001b[1;33m: Hoạt động này yêu cầu học sinh thực hiện quá nhiều thao tác vẽ và đo đạc\u001b[0m\n",
       "\u001b[1;33mcho nhiều loại tam giác khác nhau trong \u001b[0m\u001b[1;33m25\u001b[0m\u001b[1;33m phút, điều này là không khả thi. Việc vẽ đường trung trực bằng thước và \u001b[0m\n",
       "\u001b[1;33mcompa đòi hỏi sự tỉ mỉ và tốn thời gian để đảm bảo độ chính xác. Phần thảo luận và rút ra kết luận về vị trí tâm \u001b[0m\n",
       "\u001b[1;33mđường tròn ngoại tiếp cho từng loại tam giác cũng cần thời gian đáng kể. Hãy điều chỉnh lại nội dung chính \u001b[0m\n",
       "\u001b[1;33m(\u001b[0m\u001b[1;33mcore_component\u001b[0m\u001b[1;33m)\u001b[0m\u001b[1;33m để học sinh CHỈ THỰC HIỆN VẼ VÀ XÁC ĐỊNH TÂM ĐƯỜNG TRÒN NGOẠI TIẾP CHO MỘT HOẶC TỐI ĐA HAI TAM \u001b[0m\n",
       "\u001b[1;33mGIÁC ĐƠN GIẢN. Phần thảo luận về vị trí tâm đường tròn ngoại tiếp cho các loại tam giác khác nhau nên được giáo \u001b[0m\n",
       "\u001b[1;33mviên tổng kết nhanh hoặc chỉ tập trung vào một loại tam giác cụ thể.\u001b[0m\n"
      ]
     },
     "metadata": {},
     "output_type": "display_data"
    },
    {
     "data": {
      "text/html": [
       "<pre style=\"white-space:pre;overflow-x:auto;line-height:normal;font-family:Menlo,'DejaVu Sans Mono',consolas,'Courier New',monospace\"><span style=\"color: #808000; text-decoration-color: #808000; font-weight: bold\">⚠️  ROUTER (Validation): Nội dung bị từ chối. Thử lại lần </span><span style=\"color: #808000; text-decoration-color: #808000; font-weight: bold\">1</span><span style=\"color: #808000; text-decoration-color: #808000; font-weight: bold\">/</span><span style=\"color: #808000; text-decoration-color: #808000; font-weight: bold\">2</span><span style=\"color: #808000; text-decoration-color: #808000; font-weight: bold\">.</span>\n",
       "</pre>\n"
      ],
      "text/plain": [
       "\u001b[1;33m⚠️  ROUTER \u001b[0m\u001b[1;33m(\u001b[0m\u001b[1;33mValidation\u001b[0m\u001b[1;33m)\u001b[0m\u001b[1;33m: Nội dung bị từ chối. Thử lại lần \u001b[0m\u001b[1;33m1\u001b[0m\u001b[1;33m/\u001b[0m\u001b[1;33m2\u001b[0m\u001b[1;33m.\u001b[0m\n"
      ]
     },
     "metadata": {},
     "output_type": "display_data"
    },
    {
     "data": {
      "text/html": [
       "<pre style=\"white-space:pre;overflow-x:auto;line-height:normal;font-family:Menlo,'DejaVu Sans Mono',consolas,'Courier New',monospace\">\n",
       "<span style=\"color: #808000; text-decoration-color: #808000; font-weight: bold\">------- Hoàn thành bước: content_validator -------</span>\n",
       "</pre>\n"
      ],
      "text/plain": [
       "\n",
       "\u001b[1;33m------- Hoàn thành bước: content_validator -------\u001b[0m\n"
      ]
     },
     "metadata": {},
     "output_type": "display_data"
    },
    {
     "data": {
      "text/html": [
       "<pre style=\"white-space:pre;overflow-x:auto;line-height:normal;font-family:Menlo,'DejaVu Sans Mono',consolas,'Courier New',monospace\">\n",
       "<span style=\"color: #008080; text-decoration-color: #008080; font-weight: bold\">&gt;</span> `Agent: Task Dispatcher` đang giao việc<span style=\"color: #808000; text-decoration-color: #808000\">...</span>\n",
       "</pre>\n"
      ],
      "text/plain": [
       "\n",
       "\u001b[1;36m>\u001b[0m `Agent: Task Dispatcher` đang giao việc\u001b[33m...\u001b[0m\n"
      ]
     },
     "metadata": {},
     "output_type": "display_data"
    },
    {
     "data": {
      "text/html": [
       "<pre style=\"white-space:pre;overflow-x:auto;line-height:normal;font-family:Menlo,'DejaVu Sans Mono',consolas,'Courier New',monospace\">\n",
       "<span style=\"color: #008080; text-decoration-color: #008080; font-weight: bold\">&gt;</span> --- 🚚 `Dispatcher`: Giao nhiệm vụ cho `activity_designer`.\n",
       "</pre>\n"
      ],
      "text/plain": [
       "\n",
       "\u001b[1;36m>\u001b[0m --- 🚚 `Dispatcher`: Giao nhiệm vụ cho `activity_designer`.\n"
      ]
     },
     "metadata": {},
     "output_type": "display_data"
    },
    {
     "data": {
      "text/html": [
       "<pre style=\"white-space:pre;overflow-x:auto;line-height:normal;font-family:Menlo,'DejaVu Sans Mono',consolas,'Courier New',monospace\">\n",
       "<span style=\"color: #808000; text-decoration-color: #808000; font-weight: bold\">------- Hoàn thành bước: task_dispatcher -------</span>\n",
       "</pre>\n"
      ],
      "text/plain": [
       "\n",
       "\u001b[1;33m------- Hoàn thành bước: task_dispatcher -------\u001b[0m\n"
      ]
     },
     "metadata": {},
     "output_type": "display_data"
    },
    {
     "data": {
      "text/html": [
       "<pre style=\"white-space:pre;overflow-x:auto;line-height:normal;font-family:Menlo,'DejaVu Sans Mono',consolas,'Courier New',monospace\">\n",
       "<span style=\"color: #008080; text-decoration-color: #008080; font-weight: bold\">&gt;</span> `Agent: Activity Designer` <span style=\"font-weight: bold\">(</span>v12.<span style=\"color: #008080; text-decoration-color: #008080; font-weight: bold\">0</span><span style=\"font-weight: bold\">)</span> đang tạo nội dung theo kỷ luật<span style=\"color: #808000; text-decoration-color: #808000\">...</span>\n",
       "</pre>\n"
      ],
      "text/plain": [
       "\n",
       "\u001b[1;36m>\u001b[0m `Agent: Activity Designer` \u001b[1m(\u001b[0mv12.\u001b[1;36m0\u001b[0m\u001b[1m)\u001b[0m đang tạo nội dung theo kỷ luật\u001b[33m...\u001b[0m\n"
      ]
     },
     "metadata": {},
     "output_type": "display_data"
    },
    {
     "data": {
      "text/html": [
       "<pre style=\"white-space:pre;overflow-x:auto;line-height:normal;font-family:Menlo,'DejaVu Sans Mono',consolas,'Courier New',monospace\"><span style=\"color: #008000; text-decoration-color: #008000; font-weight: bold\">✔️ Nội dung do Activity Designer tạo ra:</span>\n",
       "</pre>\n"
      ],
      "text/plain": [
       "\u001b[1;32m✔️ Nội dung do Activity Designer tạo ra:\u001b[0m\n"
      ]
     },
     "metadata": {},
     "output_type": "display_data"
    },
    {
     "data": {
      "text/html": [
       "<pre style=\"white-space:pre;overflow-x:auto;line-height:normal;font-family:Menlo,'DejaVu Sans Mono',consolas,'Courier New',monospace\"><span style=\"font-weight: bold\">{</span>\n",
       "<span style=\"color: #7fbf7f; text-decoration-color: #7fbf7f\">│   </span><span style=\"color: #008000; text-decoration-color: #008000\">'activity_name'</span>: <span style=\"color: #008000; text-decoration-color: #008000\">'Khám phá Đường tròn ngoại tiếp'</span>,\n",
       "<span style=\"color: #7fbf7f; text-decoration-color: #7fbf7f\">│   </span><span style=\"color: #008000; text-decoration-color: #008000\">'duration_minutes'</span>: <span style=\"color: #008080; text-decoration-color: #008080; font-weight: bold\">25</span>,\n",
       "<span style=\"color: #7fbf7f; text-decoration-color: #7fbf7f\">│   </span><span style=\"color: #008000; text-decoration-color: #008000\">'teacher_actions'</span>: <span style=\"font-weight: bold\">[</span>\n",
       "<span style=\"color: #7fbf7f; text-decoration-color: #7fbf7f\">│   │   </span><span style=\"color: #008000; text-decoration-color: #008000\">'Giới thiệu mục tiêu bài học: Xác định tâm và vẽ đường tròn ngoại tiếp tam giác.'</span>,\n",
       "<span style=\"color: #7fbf7f; text-decoration-color: #7fbf7f\">│   │   </span><span style=\"color: #008000; text-decoration-color: #008000\">'Phát phiếu học tập/giấy vẽ, thước, compa cho học sinh.'</span>,\n",
       "<span style=\"color: #7fbf7f; text-decoration-color: #7fbf7f\">│   │   </span><span style=\"color: #008000; text-decoration-color: #008000\">'Hướng dẫn các bước thực hiện phần cốt lõi, nhấn mạnh sự tỉ mỉ khi vẽ đường trung trực.'</span>,\n",
       "<span style=\"color: #7fbf7f; text-decoration-color: #7fbf7f\">│   │   </span><span style=\"color: #008000; text-decoration-color: #008000\">'Quan sát, đi lại giữa các nhóm/cá nhân để hỗ trợ, giải đáp thắc mắc và kiểm tra tiến độ.'</span>,\n",
       "<span style=\"color: #7fbf7f; text-decoration-color: #7fbf7f\">│   │   </span><span style=\"color: #008000; text-decoration-color: #008000\">'Gợi ý, đặt câu hỏi dẫn dắt khi học sinh gặp khó khăn hoặc khi thảo luận về vị trí tâm đường tròn.'</span>,\n",
       "<span style=\"color: #7fbf7f; text-decoration-color: #7fbf7f\">│   │   </span><span style=\"color: #008000; text-decoration-color: #008000\">'Tổng kết hoạt động, chốt kiến thức về định nghĩa, cách xác định tâm và vị trí tâm đường tròn ngoại tiếp cho tam giác nhọn.'</span>\n",
       "<span style=\"color: #7fbf7f; text-decoration-color: #7fbf7f\">│   </span><span style=\"font-weight: bold\">]</span>,\n",
       "<span style=\"color: #7fbf7f; text-decoration-color: #7fbf7f\">│   </span><span style=\"color: #008000; text-decoration-color: #008000\">'core_component'</span>: <span style=\"color: #008000; text-decoration-color: #008000\">'Học sinh thực hiện các bước sau trên giấy vẽ:\\n1. Vẽ một tam giác ABC bất kỳ (ví dụ: tam giác nhọn).\\n2. Sử dụng thước và compa, vẽ đường trung trực của cạnh AB.\\n3. Tiếp tục sử dụng thước và compa, vẽ đường trung trực của cạnh BC.\\n4. Xác định giao điểm O của hai đường trung trực vừa vẽ. Đây chính là tâm của đường tròn ngoại tiếp tam giác ABC.\\n5. Dùng compa vẽ đường tròn tâm O, bán kính OA (hoặc OB, OC). Quan sát xem đường tròn có đi qua cả ba đỉnh của tam giác không.\\n6. Thảo luận nhanh trong nhóm/cá nhân: Nhận xét về vị trí của tâm O so với tam giác ABC (nằm trong, ngoài hay trên cạnh của tam giác).'</span>,\n",
       "<span style=\"color: #7fbf7f; text-decoration-color: #7fbf7f\">│   </span><span style=\"color: #008000; text-decoration-color: #008000\">'extension_component'</span>: <span style=\"color: #008000; text-decoration-color: #008000\">'Đối với học sinh hoàn thành sớm:\\n1. Vẽ thêm một tam giác vuông hoặc tam giác tù.\\n2. Thực hiện các bước tương tự để xác định tâm và vẽ đường tròn ngoại tiếp cho tam giác đó.\\n3. Nêu nhận xét về vị trí của tâm đường tròn ngoại tiếp đối với tam giác vuông và tam giác tù.'</span>,\n",
       "<span style=\"color: #7fbf7f; text-decoration-color: #7fbf7f\">│   </span><span style=\"color: #008000; text-decoration-color: #008000\">'solution_guide'</span>: <span style=\"color: #008000; text-decoration-color: #008000\">\"Gợi ý:\\n- Để vẽ đường trung trực của một đoạn thẳng, học sinh cần vẽ hai cung tròn có cùng bán kính lớn hơn một nửa đoạn thẳng đó, tâm là hai mút của đoạn thẳng. Nối hai giao điểm của hai cung tròn sẽ được đường trung trực.\\n- Câu hỏi gợi mở: 'Tại sao chỉ cần vẽ hai đường trung trực mà không cần ba?' (Vì ba đường trung trực của tam giác đồng quy tại một điểm).\\n- Vị trí tâm đường tròn ngoại tiếp:\\n  + Tam giác nhọn: Tâm nằm bên trong tam giác.\\n  + Tam giác vuông: Tâm là trung điểm của cạnh huyền.\\n  + Tam giác tù: Tâm nằm bên ngoài tam giác.\"</span>,\n",
       "<span style=\"color: #7fbf7f; text-decoration-color: #7fbf7f\">│   </span><span style=\"color: #008000; text-decoration-color: #008000\">'differentiation'</span>: <span style=\"font-weight: bold\">{</span>\n",
       "<span style=\"color: #7fbf7f; text-decoration-color: #7fbf7f\">│   │   </span><span style=\"color: #008000; text-decoration-color: #008000\">'for_struggling_students'</span>: <span style=\"color: #008000; text-decoration-color: #008000\">'Cung cấp tam giác đã được vẽ sẵn trên giấy để học sinh chỉ tập trung vào việc vẽ đường trung trực. Hướng dẫn từng bước cụ thể hơn cho việc sử dụng compa và thước. Cho phép học sinh chỉ cần vẽ một đường trung trực và xác định trung điểm của cạnh, sau đó giáo viên hỗ trợ vẽ đường trung trực thứ hai. Giáo viên có thể trực tiếp hướng dẫn thao tác vẽ trên giấy của học sinh.'</span>,\n",
       "<span style=\"color: #7fbf7f; text-decoration-color: #7fbf7f\">│   │   </span><span style=\"color: #008000; text-decoration-color: #008000\">'for_advanced_students'</span>: <span style=\"color: #008000; text-decoration-color: #008000\">'Yêu cầu học sinh chứng minh tại sao giao điểm của ba đường trung trực lại cách đều ba đỉnh của tam giác. Thử thách học sinh tìm hiểu và trình bày mối liên hệ giữa tâm đường tròn ngoại tiếp và các đường đặc biệt khác trong tam giác (ví dụ: trọng tâm, trực tâm, tâm đường tròn nội tiếp) hoặc tìm hiểu về đường tròn Euler.'</span>\n",
       "<span style=\"color: #7fbf7f; text-decoration-color: #7fbf7f\">│   </span><span style=\"font-weight: bold\">}</span>,\n",
       "<span style=\"color: #7fbf7f; text-decoration-color: #7fbf7f\">│   </span><span style=\"color: #008000; text-decoration-color: #008000\">'content_type'</span>: <span style=\"color: #008000; text-decoration-color: #008000\">'Thực hành cá nhân/nhóm nhỏ và Thảo luận'</span>\n",
       "<span style=\"font-weight: bold\">}</span>\n",
       "</pre>\n"
      ],
      "text/plain": [
       "\u001b[1m{\u001b[0m\n",
       "\u001b[2;32m│   \u001b[0m\u001b[32m'activity_name'\u001b[0m: \u001b[32m'Khám phá Đường tròn ngoại tiếp'\u001b[0m,\n",
       "\u001b[2;32m│   \u001b[0m\u001b[32m'duration_minutes'\u001b[0m: \u001b[1;36m25\u001b[0m,\n",
       "\u001b[2;32m│   \u001b[0m\u001b[32m'teacher_actions'\u001b[0m: \u001b[1m[\u001b[0m\n",
       "\u001b[2;32m│   │   \u001b[0m\u001b[32m'Giới thiệu mục tiêu bài học: Xác định tâm và vẽ đường tròn ngoại tiếp tam giác.'\u001b[0m,\n",
       "\u001b[2;32m│   │   \u001b[0m\u001b[32m'Phát phiếu học tập/giấy vẽ, thước, compa cho học sinh.'\u001b[0m,\n",
       "\u001b[2;32m│   │   \u001b[0m\u001b[32m'Hướng dẫn các bước thực hiện phần cốt lõi, nhấn mạnh sự tỉ mỉ khi vẽ đường trung trực.'\u001b[0m,\n",
       "\u001b[2;32m│   │   \u001b[0m\u001b[32m'Quan sát, đi lại giữa các nhóm/cá nhân để hỗ trợ, giải đáp thắc mắc và kiểm tra tiến độ.'\u001b[0m,\n",
       "\u001b[2;32m│   │   \u001b[0m\u001b[32m'Gợi ý, đặt câu hỏi dẫn dắt khi học sinh gặp khó khăn hoặc khi thảo luận về vị trí tâm đường tròn.'\u001b[0m,\n",
       "\u001b[2;32m│   │   \u001b[0m\u001b[32m'Tổng kết hoạt động, chốt kiến thức về định nghĩa, cách xác định tâm và vị trí tâm đường tròn ngoại tiếp cho tam giác nhọn.'\u001b[0m\n",
       "\u001b[2;32m│   \u001b[0m\u001b[1m]\u001b[0m,\n",
       "\u001b[2;32m│   \u001b[0m\u001b[32m'core_component'\u001b[0m: \u001b[32m'Học sinh thực hiện các bước sau trên giấy vẽ:\\n1. Vẽ một tam giác ABC bất kỳ \u001b[0m\u001b[32m(\u001b[0m\u001b[32mví dụ: tam giác nhọn\u001b[0m\u001b[32m)\u001b[0m\u001b[32m.\\n2. Sử dụng thước và compa, vẽ đường trung trực của cạnh AB.\\n3. Tiếp tục sử dụng thước và compa, vẽ đường trung trực của cạnh BC.\\n4. Xác định giao điểm O của hai đường trung trực vừa vẽ. Đây chính là tâm của đường tròn ngoại tiếp tam giác ABC.\\n5. Dùng compa vẽ đường tròn tâm O, bán kính OA \u001b[0m\u001b[32m(\u001b[0m\u001b[32mhoặc OB, OC\u001b[0m\u001b[32m)\u001b[0m\u001b[32m. Quan sát xem đường tròn có đi qua cả ba đỉnh của tam giác không.\\n6. Thảo luận nhanh trong nhóm/cá nhân: Nhận xét về vị trí của tâm O so với tam giác ABC \u001b[0m\u001b[32m(\u001b[0m\u001b[32mnằm trong, ngoài hay trên cạnh của tam giác\u001b[0m\u001b[32m)\u001b[0m\u001b[32m.'\u001b[0m,\n",
       "\u001b[2;32m│   \u001b[0m\u001b[32m'extension_component'\u001b[0m: \u001b[32m'Đối với học sinh hoàn thành sớm:\\n1. Vẽ thêm một tam giác vuông hoặc tam giác tù.\\n2. Thực hiện các bước tương tự để xác định tâm và vẽ đường tròn ngoại tiếp cho tam giác đó.\\n3. Nêu nhận xét về vị trí của tâm đường tròn ngoại tiếp đối với tam giác vuông và tam giác tù.'\u001b[0m,\n",
       "\u001b[2;32m│   \u001b[0m\u001b[32m'solution_guide'\u001b[0m: \u001b[32m\"Gợi ý:\\n- Để vẽ đường trung trực của một đoạn thẳng, học sinh cần vẽ hai cung tròn có cùng bán kính lớn hơn một nửa đoạn thẳng đó, tâm là hai mút của đoạn thẳng. Nối hai giao điểm của hai cung tròn sẽ được đường trung trực.\\n- Câu hỏi gợi mở: 'Tại sao chỉ cần vẽ hai đường trung trực mà không cần ba?' \u001b[0m\u001b[32m(\u001b[0m\u001b[32mVì ba đường trung trực của tam giác đồng quy tại một điểm\u001b[0m\u001b[32m)\u001b[0m\u001b[32m.\\n- Vị trí tâm đường tròn ngoại tiếp:\\n  + Tam giác nhọn: Tâm nằm bên trong tam giác.\\n  + Tam giác vuông: Tâm là trung điểm của cạnh huyền.\\n  + Tam giác tù: Tâm nằm bên ngoài tam giác.\"\u001b[0m,\n",
       "\u001b[2;32m│   \u001b[0m\u001b[32m'differentiation'\u001b[0m: \u001b[1m{\u001b[0m\n",
       "\u001b[2;32m│   │   \u001b[0m\u001b[32m'for_struggling_students'\u001b[0m: \u001b[32m'Cung cấp tam giác đã được vẽ sẵn trên giấy để học sinh chỉ tập trung vào việc vẽ đường trung trực. Hướng dẫn từng bước cụ thể hơn cho việc sử dụng compa và thước. Cho phép học sinh chỉ cần vẽ một đường trung trực và xác định trung điểm của cạnh, sau đó giáo viên hỗ trợ vẽ đường trung trực thứ hai. Giáo viên có thể trực tiếp hướng dẫn thao tác vẽ trên giấy của học sinh.'\u001b[0m,\n",
       "\u001b[2;32m│   │   \u001b[0m\u001b[32m'for_advanced_students'\u001b[0m: \u001b[32m'Yêu cầu học sinh chứng minh tại sao giao điểm của ba đường trung trực lại cách đều ba đỉnh của tam giác. Thử thách học sinh tìm hiểu và trình bày mối liên hệ giữa tâm đường tròn ngoại tiếp và các đường đặc biệt khác trong tam giác \u001b[0m\u001b[32m(\u001b[0m\u001b[32mví dụ: trọng tâm, trực tâm, tâm đường tròn nội tiếp\u001b[0m\u001b[32m)\u001b[0m\u001b[32m hoặc tìm hiểu về đường tròn Euler.'\u001b[0m\n",
       "\u001b[2;32m│   \u001b[0m\u001b[1m}\u001b[0m,\n",
       "\u001b[2;32m│   \u001b[0m\u001b[32m'content_type'\u001b[0m: \u001b[32m'Thực hành cá nhân/nhóm nhỏ và Thảo luận'\u001b[0m\n",
       "\u001b[1m}\u001b[0m\n"
      ]
     },
     "metadata": {},
     "output_type": "display_data"
    },
    {
     "data": {
      "text/html": [
       "<pre style=\"white-space:pre;overflow-x:auto;line-height:normal;font-family:Menlo,'DejaVu Sans Mono',consolas,'Courier New',monospace\">\n",
       "<span style=\"color: #808000; text-decoration-color: #808000; font-weight: bold\">------- Hoàn thành bước: activity_designer -------</span>\n",
       "</pre>\n"
      ],
      "text/plain": [
       "\n",
       "\u001b[1;33m------- Hoàn thành bước: activity_designer -------\u001b[0m\n"
      ]
     },
     "metadata": {},
     "output_type": "display_data"
    },
    {
     "data": {
      "text/html": [
       "<pre style=\"white-space:pre;overflow-x:auto;line-height:normal;font-family:Menlo,'DejaVu Sans Mono',consolas,'Courier New',monospace\">\n",
       "<span style=\"color: #008080; text-decoration-color: #008080; font-weight: bold\">&gt;</span> `Agent: Guardian Critic` <span style=\"font-weight: bold\">(</span>v12.<span style=\"color: #008080; text-decoration-color: #008080; font-weight: bold\">1</span> - Cố vấn Thông thái<span style=\"font-weight: bold\">)</span> đang bảo vệ kế hoạch<span style=\"color: #808000; text-decoration-color: #808000\">...</span>\n",
       "</pre>\n"
      ],
      "text/plain": [
       "\n",
       "\u001b[1;36m>\u001b[0m `Agent: Guardian Critic` \u001b[1m(\u001b[0mv12.\u001b[1;36m1\u001b[0m - Cố vấn Thông thái\u001b[1m)\u001b[0m đang bảo vệ kế hoạch\u001b[33m...\u001b[0m\n"
      ]
     },
     "metadata": {},
     "output_type": "display_data"
    },
    {
     "data": {
      "text/html": [
       "<pre style=\"white-space:pre;overflow-x:auto;line-height:normal;font-family:Menlo,'DejaVu Sans Mono',consolas,'Courier New',monospace\"><span style=\"color: #808000; text-decoration-color: #808000; font-weight: bold\">⚠️  GUARDIAN PHẢN BIỆN (có tính xây dựng): Hoạt động yêu cầu học sinh tự vẽ hai đường trung trực và đường tròn ngoại</span>\n",
       "<span style=\"color: #808000; text-decoration-color: #808000; font-weight: bold\">tiếp trong </span><span style=\"color: #808000; text-decoration-color: #808000; font-weight: bold\">25</span><span style=\"color: #808000; text-decoration-color: #808000; font-weight: bold\"> phút là quá nhiều. Việc vẽ chính xác bằng compa và thước tốn nhiều thời gian hơn dự kiến, đặc biệt </span>\n",
       "<span style=\"color: #808000; text-decoration-color: #808000; font-weight: bold\">với học sinh chưa thành thạo. Hãy giảm bớt số lượng đường trung trực học sinh cần tự vẽ hoặc cung cấp sẵn một phần </span>\n",
       "<span style=\"color: #808000; text-decoration-color: #808000; font-weight: bold\">hình vẽ để học sinh tập trung vào việc xác định tâm và vẽ đường tròn.</span>\n",
       "</pre>\n"
      ],
      "text/plain": [
       "\u001b[1;33m⚠️  GUARDIAN PHẢN BIỆN \u001b[0m\u001b[1;33m(\u001b[0m\u001b[1;33mcó tính xây dựng\u001b[0m\u001b[1;33m)\u001b[0m\u001b[1;33m: Hoạt động yêu cầu học sinh tự vẽ hai đường trung trực và đường tròn ngoại\u001b[0m\n",
       "\u001b[1;33mtiếp trong \u001b[0m\u001b[1;33m25\u001b[0m\u001b[1;33m phút là quá nhiều. Việc vẽ chính xác bằng compa và thước tốn nhiều thời gian hơn dự kiến, đặc biệt \u001b[0m\n",
       "\u001b[1;33mvới học sinh chưa thành thạo. Hãy giảm bớt số lượng đường trung trực học sinh cần tự vẽ hoặc cung cấp sẵn một phần \u001b[0m\n",
       "\u001b[1;33mhình vẽ để học sinh tập trung vào việc xác định tâm và vẽ đường tròn.\u001b[0m\n"
      ]
     },
     "metadata": {},
     "output_type": "display_data"
    },
    {
     "data": {
      "text/html": [
       "<pre style=\"white-space:pre;overflow-x:auto;line-height:normal;font-family:Menlo,'DejaVu Sans Mono',consolas,'Courier New',monospace\"><span style=\"color: #808000; text-decoration-color: #808000; font-weight: bold\">⚠️  ROUTER (Validation): Nội dung bị từ chối. Thử lại lần </span><span style=\"color: #808000; text-decoration-color: #808000; font-weight: bold\">1</span><span style=\"color: #808000; text-decoration-color: #808000; font-weight: bold\">/</span><span style=\"color: #808000; text-decoration-color: #808000; font-weight: bold\">2</span><span style=\"color: #808000; text-decoration-color: #808000; font-weight: bold\">.</span>\n",
       "</pre>\n"
      ],
      "text/plain": [
       "\u001b[1;33m⚠️  ROUTER \u001b[0m\u001b[1;33m(\u001b[0m\u001b[1;33mValidation\u001b[0m\u001b[1;33m)\u001b[0m\u001b[1;33m: Nội dung bị từ chối. Thử lại lần \u001b[0m\u001b[1;33m1\u001b[0m\u001b[1;33m/\u001b[0m\u001b[1;33m2\u001b[0m\u001b[1;33m.\u001b[0m\n"
      ]
     },
     "metadata": {},
     "output_type": "display_data"
    },
    {
     "data": {
      "text/html": [
       "<pre style=\"white-space:pre;overflow-x:auto;line-height:normal;font-family:Menlo,'DejaVu Sans Mono',consolas,'Courier New',monospace\">\n",
       "<span style=\"color: #808000; text-decoration-color: #808000; font-weight: bold\">------- Hoàn thành bước: content_validator -------</span>\n",
       "</pre>\n"
      ],
      "text/plain": [
       "\n",
       "\u001b[1;33m------- Hoàn thành bước: content_validator -------\u001b[0m\n"
      ]
     },
     "metadata": {},
     "output_type": "display_data"
    },
    {
     "data": {
      "text/html": [
       "<pre style=\"white-space:pre;overflow-x:auto;line-height:normal;font-family:Menlo,'DejaVu Sans Mono',consolas,'Courier New',monospace\">\n",
       "<span style=\"color: #008080; text-decoration-color: #008080; font-weight: bold\">&gt;</span> `Agent: Task Dispatcher` đang giao việc<span style=\"color: #808000; text-decoration-color: #808000\">...</span>\n",
       "</pre>\n"
      ],
      "text/plain": [
       "\n",
       "\u001b[1;36m>\u001b[0m `Agent: Task Dispatcher` đang giao việc\u001b[33m...\u001b[0m\n"
      ]
     },
     "metadata": {},
     "output_type": "display_data"
    },
    {
     "data": {
      "text/html": [
       "<pre style=\"white-space:pre;overflow-x:auto;line-height:normal;font-family:Menlo,'DejaVu Sans Mono',consolas,'Courier New',monospace\">\n",
       "<span style=\"color: #008080; text-decoration-color: #008080; font-weight: bold\">&gt;</span> --- 🚚 `Dispatcher`: Giao nhiệm vụ cho `activity_designer`.\n",
       "</pre>\n"
      ],
      "text/plain": [
       "\n",
       "\u001b[1;36m>\u001b[0m --- 🚚 `Dispatcher`: Giao nhiệm vụ cho `activity_designer`.\n"
      ]
     },
     "metadata": {},
     "output_type": "display_data"
    },
    {
     "data": {
      "text/html": [
       "<pre style=\"white-space:pre;overflow-x:auto;line-height:normal;font-family:Menlo,'DejaVu Sans Mono',consolas,'Courier New',monospace\">\n",
       "<span style=\"color: #808000; text-decoration-color: #808000; font-weight: bold\">------- Hoàn thành bước: task_dispatcher -------</span>\n",
       "</pre>\n"
      ],
      "text/plain": [
       "\n",
       "\u001b[1;33m------- Hoàn thành bước: task_dispatcher -------\u001b[0m\n"
      ]
     },
     "metadata": {},
     "output_type": "display_data"
    },
    {
     "data": {
      "text/html": [
       "<pre style=\"white-space:pre;overflow-x:auto;line-height:normal;font-family:Menlo,'DejaVu Sans Mono',consolas,'Courier New',monospace\">\n",
       "<span style=\"color: #008080; text-decoration-color: #008080; font-weight: bold\">&gt;</span> `Agent: Activity Designer` <span style=\"font-weight: bold\">(</span>v12.<span style=\"color: #008080; text-decoration-color: #008080; font-weight: bold\">0</span><span style=\"font-weight: bold\">)</span> đang tạo nội dung theo kỷ luật<span style=\"color: #808000; text-decoration-color: #808000\">...</span>\n",
       "</pre>\n"
      ],
      "text/plain": [
       "\n",
       "\u001b[1;36m>\u001b[0m `Agent: Activity Designer` \u001b[1m(\u001b[0mv12.\u001b[1;36m0\u001b[0m\u001b[1m)\u001b[0m đang tạo nội dung theo kỷ luật\u001b[33m...\u001b[0m\n"
      ]
     },
     "metadata": {},
     "output_type": "display_data"
    },
    {
     "data": {
      "text/html": [
       "<pre style=\"white-space:pre;overflow-x:auto;line-height:normal;font-family:Menlo,'DejaVu Sans Mono',consolas,'Courier New',monospace\"><span style=\"color: #008000; text-decoration-color: #008000; font-weight: bold\">✔️ Nội dung do Activity Designer tạo ra:</span>\n",
       "</pre>\n"
      ],
      "text/plain": [
       "\u001b[1;32m✔️ Nội dung do Activity Designer tạo ra:\u001b[0m\n"
      ]
     },
     "metadata": {},
     "output_type": "display_data"
    },
    {
     "data": {
      "text/html": [
       "<pre style=\"white-space:pre;overflow-x:auto;line-height:normal;font-family:Menlo,'DejaVu Sans Mono',consolas,'Courier New',monospace\"><span style=\"font-weight: bold\">{</span>\n",
       "<span style=\"color: #7fbf7f; text-decoration-color: #7fbf7f\">│   </span><span style=\"color: #008000; text-decoration-color: #008000\">'activity_name'</span>: <span style=\"color: #008000; text-decoration-color: #008000\">'Khám phá Đường tròn ngoại tiếp'</span>,\n",
       "<span style=\"color: #7fbf7f; text-decoration-color: #7fbf7f\">│   </span><span style=\"color: #008000; text-decoration-color: #008000\">'duration_minutes'</span>: <span style=\"color: #008080; text-decoration-color: #008080; font-weight: bold\">25</span>,\n",
       "<span style=\"color: #7fbf7f; text-decoration-color: #7fbf7f\">│   </span><span style=\"color: #008000; text-decoration-color: #008000\">'teacher_actions'</span>: <span style=\"font-weight: bold\">[</span>\n",
       "<span style=\"color: #7fbf7f; text-decoration-color: #7fbf7f\">│   │   </span><span style=\"color: #008000; text-decoration-color: #008000\">'Phát phiếu học tập có sẵn các tam giác và một đường trung trực của một cạnh.'</span>,\n",
       "<span style=\"color: #7fbf7f; text-decoration-color: #7fbf7f\">│   │   </span><span style=\"color: #008000; text-decoration-color: #008000\">'Hướng dẫn học sinh cách vẽ đường trung trực thứ hai và xác định tâm đường tròn ngoại tiếp.'</span>,\n",
       "<span style=\"color: #7fbf7f; text-decoration-color: #7fbf7f\">│   │   </span><span style=\"color: #008000; text-decoration-color: #008000\">'Quan sát, hỗ trợ cá nhân hoặc nhóm khi học sinh gặp khó khăn trong việc vẽ hoặc xác định tâm.'</span>,\n",
       "<span style=\"color: #7fbf7f; text-decoration-color: #7fbf7f\">│   │   </span><span style=\"color: #008000; text-decoration-color: #008000\">'Yêu cầu học sinh chia sẻ kết quả và quan sát về vị trí tâm đường tròn ngoại tiếp với các loại tam giác khác nhau.'</span>,\n",
       "<span style=\"color: #7fbf7f; text-decoration-color: #7fbf7f\">│   │   </span><span style=\"color: #008000; text-decoration-color: #008000\">'Tổng kết kiến thức về định nghĩa, cách xác định tâm và vẽ đường tròn ngoại tiếp.'</span>\n",
       "<span style=\"color: #7fbf7f; text-decoration-color: #7fbf7f\">│   </span><span style=\"font-weight: bold\">]</span>,\n",
       "<span style=\"color: #7fbf7f; text-decoration-color: #7fbf7f\">│   </span><span style=\"color: #008000; text-decoration-color: #008000\">'core_component'</span>: <span style=\"color: #008000; text-decoration-color: #008000\">'Học sinh nhận phiếu học tập có sẵn các tam giác (ví dụ: tam giác nhọn, tam giác tù) và một đường trung trực của một cạnh đã được vẽ sẵn. Nhiệm vụ của học sinh là: 1. Vẽ thêm một đường trung trực của một cạnh khác trong mỗi tam giác. 2. Xác định giao điểm của hai đường trung trực vừa vẽ (tâm đường tròn ngoại tiếp). 3. Dùng compa vẽ đường tròn đi qua ba đỉnh của tam giác đó.'</span>,\n",
       "<span style=\"color: #7fbf7f; text-decoration-color: #7fbf7f\">│   </span><span style=\"color: #008000; text-decoration-color: #008000\">'extension_component'</span>: <span style=\"color: #008000; text-decoration-color: #008000\">'Học sinh vẽ thêm đường trung trực thứ ba và kiểm tra xem nó có đi qua tâm vừa tìm được không. Thảo luận về vị trí của tâm đường tròn ngoại tiếp đối với tam giác vuông, tam giác nhọn, tam giác tù. Tìm hiểu ứng dụng của đường tròn ngoại tiếp trong thực tế hoặc các bài toán hình học khác.'</span>,\n",
       "<span style=\"color: #7fbf7f; text-decoration-color: #7fbf7f\">│   </span><span style=\"color: #008000; text-decoration-color: #008000\">'solution_guide'</span>: <span style=\"color: #008000; text-decoration-color: #008000\">'Tâm đường tròn ngoại tiếp là giao điểm của ba đường trung trực của ba cạnh tam giác. Điểm này cách đều ba đỉnh của tam giác. Bán kính đường tròn ngoại tiếp là khoảng cách từ tâm đến bất kỳ đỉnh nào của tam giác. Đối với tam giác nhọn, tâm nằm bên trong tam giác. Đối với tam giác vuông, tâm nằm trên trung điểm cạnh huyền. Đối với tam giác tù, tâm nằm bên ngoài tam giác.'</span>,\n",
       "<span style=\"color: #7fbf7f; text-decoration-color: #7fbf7f\">│   </span><span style=\"color: #008000; text-decoration-color: #008000\">'differentiation'</span>: <span style=\"font-weight: bold\">{</span>\n",
       "<span style=\"color: #7fbf7f; text-decoration-color: #7fbf7f\">│   │   </span><span style=\"color: #008000; text-decoration-color: #008000\">'for_struggling_students'</span>: <span style=\"color: #008000; text-decoration-color: #008000\">'Cung cấp các tam giác có kích thước lớn hơn để dễ vẽ. Hướng dẫn từng bước cụ thể cách đặt compa và thước để vẽ đường trung trực. Có thể cung cấp sẵn điểm giữa của các cạnh hoặc một phần của đường trung trực thứ hai để học sinh hoàn thiện. Tập trung vào việc vẽ đúng một đường trung trực và xác định tâm.'</span>,\n",
       "<span style=\"color: #7fbf7f; text-decoration-color: #7fbf7f\">│   │   </span><span style=\"color: #008000; text-decoration-color: #008000\">'for_advanced_students'</span>: <span style=\"color: #008000; text-decoration-color: #008000\">'Yêu cầu học sinh tự vẽ một tam giác bất kỳ và tự vẽ hai đường trung trực để xác định tâm. Thử thách học sinh chứng minh tại sao giao điểm của ba đường trung trực lại cách đều ba đỉnh của tam giác. Yêu cầu học sinh dự đoán vị trí tâm đường tròn ngoại tiếp trước khi vẽ cho các loại tam giác khác nhau (vuông, tù, nhọn).'</span>\n",
       "<span style=\"color: #7fbf7f; text-decoration-color: #7fbf7f\">│   </span><span style=\"font-weight: bold\">}</span>,\n",
       "<span style=\"color: #7fbf7f; text-decoration-color: #7fbf7f\">│   </span><span style=\"color: #008000; text-decoration-color: #008000\">'content_type'</span>: <span style=\"color: #008000; text-decoration-color: #008000\">'Thực hành cá nhân và Thảo luận nhóm'</span>\n",
       "<span style=\"font-weight: bold\">}</span>\n",
       "</pre>\n"
      ],
      "text/plain": [
       "\u001b[1m{\u001b[0m\n",
       "\u001b[2;32m│   \u001b[0m\u001b[32m'activity_name'\u001b[0m: \u001b[32m'Khám phá Đường tròn ngoại tiếp'\u001b[0m,\n",
       "\u001b[2;32m│   \u001b[0m\u001b[32m'duration_minutes'\u001b[0m: \u001b[1;36m25\u001b[0m,\n",
       "\u001b[2;32m│   \u001b[0m\u001b[32m'teacher_actions'\u001b[0m: \u001b[1m[\u001b[0m\n",
       "\u001b[2;32m│   │   \u001b[0m\u001b[32m'Phát phiếu học tập có sẵn các tam giác và một đường trung trực của một cạnh.'\u001b[0m,\n",
       "\u001b[2;32m│   │   \u001b[0m\u001b[32m'Hướng dẫn học sinh cách vẽ đường trung trực thứ hai và xác định tâm đường tròn ngoại tiếp.'\u001b[0m,\n",
       "\u001b[2;32m│   │   \u001b[0m\u001b[32m'Quan sát, hỗ trợ cá nhân hoặc nhóm khi học sinh gặp khó khăn trong việc vẽ hoặc xác định tâm.'\u001b[0m,\n",
       "\u001b[2;32m│   │   \u001b[0m\u001b[32m'Yêu cầu học sinh chia sẻ kết quả và quan sát về vị trí tâm đường tròn ngoại tiếp với các loại tam giác khác nhau.'\u001b[0m,\n",
       "\u001b[2;32m│   │   \u001b[0m\u001b[32m'Tổng kết kiến thức về định nghĩa, cách xác định tâm và vẽ đường tròn ngoại tiếp.'\u001b[0m\n",
       "\u001b[2;32m│   \u001b[0m\u001b[1m]\u001b[0m,\n",
       "\u001b[2;32m│   \u001b[0m\u001b[32m'core_component'\u001b[0m: \u001b[32m'Học sinh nhận phiếu học tập có sẵn các tam giác \u001b[0m\u001b[32m(\u001b[0m\u001b[32mví dụ: tam giác nhọn, tam giác tù\u001b[0m\u001b[32m)\u001b[0m\u001b[32m và một đường trung trực của một cạnh đã được vẽ sẵn. Nhiệm vụ của học sinh là: 1. Vẽ thêm một đường trung trực của một cạnh khác trong mỗi tam giác. 2. Xác định giao điểm của hai đường trung trực vừa vẽ \u001b[0m\u001b[32m(\u001b[0m\u001b[32mtâm đường tròn ngoại tiếp\u001b[0m\u001b[32m)\u001b[0m\u001b[32m. 3. Dùng compa vẽ đường tròn đi qua ba đỉnh của tam giác đó.'\u001b[0m,\n",
       "\u001b[2;32m│   \u001b[0m\u001b[32m'extension_component'\u001b[0m: \u001b[32m'Học sinh vẽ thêm đường trung trực thứ ba và kiểm tra xem nó có đi qua tâm vừa tìm được không. Thảo luận về vị trí của tâm đường tròn ngoại tiếp đối với tam giác vuông, tam giác nhọn, tam giác tù. Tìm hiểu ứng dụng của đường tròn ngoại tiếp trong thực tế hoặc các bài toán hình học khác.'\u001b[0m,\n",
       "\u001b[2;32m│   \u001b[0m\u001b[32m'solution_guide'\u001b[0m: \u001b[32m'Tâm đường tròn ngoại tiếp là giao điểm của ba đường trung trực của ba cạnh tam giác. Điểm này cách đều ba đỉnh của tam giác. Bán kính đường tròn ngoại tiếp là khoảng cách từ tâm đến bất kỳ đỉnh nào của tam giác. Đối với tam giác nhọn, tâm nằm bên trong tam giác. Đối với tam giác vuông, tâm nằm trên trung điểm cạnh huyền. Đối với tam giác tù, tâm nằm bên ngoài tam giác.'\u001b[0m,\n",
       "\u001b[2;32m│   \u001b[0m\u001b[32m'differentiation'\u001b[0m: \u001b[1m{\u001b[0m\n",
       "\u001b[2;32m│   │   \u001b[0m\u001b[32m'for_struggling_students'\u001b[0m: \u001b[32m'Cung cấp các tam giác có kích thước lớn hơn để dễ vẽ. Hướng dẫn từng bước cụ thể cách đặt compa và thước để vẽ đường trung trực. Có thể cung cấp sẵn điểm giữa của các cạnh hoặc một phần của đường trung trực thứ hai để học sinh hoàn thiện. Tập trung vào việc vẽ đúng một đường trung trực và xác định tâm.'\u001b[0m,\n",
       "\u001b[2;32m│   │   \u001b[0m\u001b[32m'for_advanced_students'\u001b[0m: \u001b[32m'Yêu cầu học sinh tự vẽ một tam giác bất kỳ và tự vẽ hai đường trung trực để xác định tâm. Thử thách học sinh chứng minh tại sao giao điểm của ba đường trung trực lại cách đều ba đỉnh của tam giác. Yêu cầu học sinh dự đoán vị trí tâm đường tròn ngoại tiếp trước khi vẽ cho các loại tam giác khác nhau \u001b[0m\u001b[32m(\u001b[0m\u001b[32mvuông, tù, nhọn\u001b[0m\u001b[32m)\u001b[0m\u001b[32m.'\u001b[0m\n",
       "\u001b[2;32m│   \u001b[0m\u001b[1m}\u001b[0m,\n",
       "\u001b[2;32m│   \u001b[0m\u001b[32m'content_type'\u001b[0m: \u001b[32m'Thực hành cá nhân và Thảo luận nhóm'\u001b[0m\n",
       "\u001b[1m}\u001b[0m\n"
      ]
     },
     "metadata": {},
     "output_type": "display_data"
    },
    {
     "data": {
      "text/html": [
       "<pre style=\"white-space:pre;overflow-x:auto;line-height:normal;font-family:Menlo,'DejaVu Sans Mono',consolas,'Courier New',monospace\">\n",
       "<span style=\"color: #808000; text-decoration-color: #808000; font-weight: bold\">------- Hoàn thành bước: activity_designer -------</span>\n",
       "</pre>\n"
      ],
      "text/plain": [
       "\n",
       "\u001b[1;33m------- Hoàn thành bước: activity_designer -------\u001b[0m\n"
      ]
     },
     "metadata": {},
     "output_type": "display_data"
    },
    {
     "data": {
      "text/html": [
       "<pre style=\"white-space:pre;overflow-x:auto;line-height:normal;font-family:Menlo,'DejaVu Sans Mono',consolas,'Courier New',monospace\">\n",
       "<span style=\"color: #008080; text-decoration-color: #008080; font-weight: bold\">&gt;</span> `Agent: Guardian Critic` <span style=\"font-weight: bold\">(</span>v12.<span style=\"color: #008080; text-decoration-color: #008080; font-weight: bold\">1</span> - Cố vấn Thông thái<span style=\"font-weight: bold\">)</span> đang bảo vệ kế hoạch<span style=\"color: #808000; text-decoration-color: #808000\">...</span>\n",
       "</pre>\n"
      ],
      "text/plain": [
       "\n",
       "\u001b[1;36m>\u001b[0m `Agent: Guardian Critic` \u001b[1m(\u001b[0mv12.\u001b[1;36m1\u001b[0m - Cố vấn Thông thái\u001b[1m)\u001b[0m đang bảo vệ kế hoạch\u001b[33m...\u001b[0m\n"
      ]
     },
     "metadata": {},
     "output_type": "display_data"
    },
    {
     "data": {
      "text/html": [
       "<pre style=\"white-space:pre;overflow-x:auto;line-height:normal;font-family:Menlo,'DejaVu Sans Mono',consolas,'Courier New',monospace\"><span style=\"color: #808000; text-decoration-color: #808000; font-weight: bold\">⚠️  GUARDIAN PHẢN BIỆN (có tính xây dựng): Hoạt động yêu cầu học sinh thực hiện nhiều thao tác vẽ hình phức tạp (vẽ</span>\n",
       "<span style=\"color: #808000; text-decoration-color: #808000; font-weight: bold\">đường trung trực, vẽ đường tròn ngoại tiếp) cho nhiều tam giác, sau đó chia sẻ và tổng kết trong </span><span style=\"color: #808000; text-decoration-color: #808000; font-weight: bold\">25</span><span style=\"color: #808000; text-decoration-color: #808000; font-weight: bold\"> phút là quá </span>\n",
       "<span style=\"color: #808000; text-decoration-color: #808000; font-weight: bold\">tải. Việc vẽ hình chính xác đòi hỏi thời gian và sự tỉ mỉ, đặc biệt là với học sinh. Phần mở rộng (vẽ thêm đường </span>\n",
       "<span style=\"color: #808000; text-decoration-color: #808000; font-weight: bold\">trung trực thứ ba, tìm hiểu ứng dụng) cũng không khả thi trong khung thời gian này. Hãy giới hạn hoạt động vẽ hình </span>\n",
       "<span style=\"color: #808000; text-decoration-color: #808000; font-weight: bold\">chỉ trên MỘT TAM GIÁC DUY NHẤT (ví dụ: chỉ tam giác nhọn) và loại bỏ hoàn toàn phần </span><span style=\"color: #808000; text-decoration-color: #808000; font-weight: bold\">'extension_component'</span><span style=\"color: #808000; text-decoration-color: #808000; font-weight: bold\"> để đảm </span>\n",
       "<span style=\"color: #808000; text-decoration-color: #808000; font-weight: bold\">bảo tính khả thi trong </span><span style=\"color: #808000; text-decoration-color: #808000; font-weight: bold\">25</span><span style=\"color: #808000; text-decoration-color: #808000; font-weight: bold\"> phút.</span>\n",
       "</pre>\n"
      ],
      "text/plain": [
       "\u001b[1;33m⚠️  GUARDIAN PHẢN BIỆN \u001b[0m\u001b[1;33m(\u001b[0m\u001b[1;33mcó tính xây dựng\u001b[0m\u001b[1;33m)\u001b[0m\u001b[1;33m: Hoạt động yêu cầu học sinh thực hiện nhiều thao tác vẽ hình phức tạp \u001b[0m\u001b[1;33m(\u001b[0m\u001b[1;33mvẽ\u001b[0m\n",
       "\u001b[1;33mđường trung trực, vẽ đường tròn ngoại tiếp\u001b[0m\u001b[1;33m)\u001b[0m\u001b[1;33m cho nhiều tam giác, sau đó chia sẻ và tổng kết trong \u001b[0m\u001b[1;33m25\u001b[0m\u001b[1;33m phút là quá \u001b[0m\n",
       "\u001b[1;33mtải. Việc vẽ hình chính xác đòi hỏi thời gian và sự tỉ mỉ, đặc biệt là với học sinh. Phần mở rộng \u001b[0m\u001b[1;33m(\u001b[0m\u001b[1;33mvẽ thêm đường \u001b[0m\n",
       "\u001b[1;33mtrung trực thứ ba, tìm hiểu ứng dụng\u001b[0m\u001b[1;33m)\u001b[0m\u001b[1;33m cũng không khả thi trong khung thời gian này. Hãy giới hạn hoạt động vẽ hình \u001b[0m\n",
       "\u001b[1;33mchỉ trên MỘT TAM GIÁC DUY NHẤT \u001b[0m\u001b[1;33m(\u001b[0m\u001b[1;33mví dụ: chỉ tam giác nhọn\u001b[0m\u001b[1;33m)\u001b[0m\u001b[1;33m và loại bỏ hoàn toàn phần \u001b[0m\u001b[1;33m'extension_component'\u001b[0m\u001b[1;33m để đảm \u001b[0m\n",
       "\u001b[1;33mbảo tính khả thi trong \u001b[0m\u001b[1;33m25\u001b[0m\u001b[1;33m phút.\u001b[0m\n"
      ]
     },
     "metadata": {},
     "output_type": "display_data"
    },
    {
     "data": {
      "text/html": [
       "<pre style=\"white-space:pre;overflow-x:auto;line-height:normal;font-family:Menlo,'DejaVu Sans Mono',consolas,'Courier New',monospace\"><span style=\"color: #808000; text-decoration-color: #808000; font-weight: bold\">⚠️  ROUTER (Validation): Nội dung bị từ chối. Thử lại lần </span><span style=\"color: #808000; text-decoration-color: #808000; font-weight: bold\">1</span><span style=\"color: #808000; text-decoration-color: #808000; font-weight: bold\">/</span><span style=\"color: #808000; text-decoration-color: #808000; font-weight: bold\">2</span><span style=\"color: #808000; text-decoration-color: #808000; font-weight: bold\">.</span>\n",
       "</pre>\n"
      ],
      "text/plain": [
       "\u001b[1;33m⚠️  ROUTER \u001b[0m\u001b[1;33m(\u001b[0m\u001b[1;33mValidation\u001b[0m\u001b[1;33m)\u001b[0m\u001b[1;33m: Nội dung bị từ chối. Thử lại lần \u001b[0m\u001b[1;33m1\u001b[0m\u001b[1;33m/\u001b[0m\u001b[1;33m2\u001b[0m\u001b[1;33m.\u001b[0m\n"
      ]
     },
     "metadata": {},
     "output_type": "display_data"
    },
    {
     "data": {
      "text/html": [
       "<pre style=\"white-space:pre;overflow-x:auto;line-height:normal;font-family:Menlo,'DejaVu Sans Mono',consolas,'Courier New',monospace\">\n",
       "<span style=\"color: #808000; text-decoration-color: #808000; font-weight: bold\">------- Hoàn thành bước: content_validator -------</span>\n",
       "</pre>\n"
      ],
      "text/plain": [
       "\n",
       "\u001b[1;33m------- Hoàn thành bước: content_validator -------\u001b[0m\n"
      ]
     },
     "metadata": {},
     "output_type": "display_data"
    },
    {
     "data": {
      "text/html": [
       "<pre style=\"white-space:pre;overflow-x:auto;line-height:normal;font-family:Menlo,'DejaVu Sans Mono',consolas,'Courier New',monospace\">\n",
       "<span style=\"color: #008080; text-decoration-color: #008080; font-weight: bold\">&gt;</span> `Agent: Task Dispatcher` đang giao việc<span style=\"color: #808000; text-decoration-color: #808000\">...</span>\n",
       "</pre>\n"
      ],
      "text/plain": [
       "\n",
       "\u001b[1;36m>\u001b[0m `Agent: Task Dispatcher` đang giao việc\u001b[33m...\u001b[0m\n"
      ]
     },
     "metadata": {},
     "output_type": "display_data"
    },
    {
     "data": {
      "text/html": [
       "<pre style=\"white-space:pre;overflow-x:auto;line-height:normal;font-family:Menlo,'DejaVu Sans Mono',consolas,'Courier New',monospace\">\n",
       "<span style=\"color: #008080; text-decoration-color: #008080; font-weight: bold\">&gt;</span> --- 🚚 `Dispatcher`: Giao nhiệm vụ cho `activity_designer`.\n",
       "</pre>\n"
      ],
      "text/plain": [
       "\n",
       "\u001b[1;36m>\u001b[0m --- 🚚 `Dispatcher`: Giao nhiệm vụ cho `activity_designer`.\n"
      ]
     },
     "metadata": {},
     "output_type": "display_data"
    },
    {
     "data": {
      "text/html": [
       "<pre style=\"white-space:pre;overflow-x:auto;line-height:normal;font-family:Menlo,'DejaVu Sans Mono',consolas,'Courier New',monospace\">\n",
       "<span style=\"color: #808000; text-decoration-color: #808000; font-weight: bold\">------- Hoàn thành bước: task_dispatcher -------</span>\n",
       "</pre>\n"
      ],
      "text/plain": [
       "\n",
       "\u001b[1;33m------- Hoàn thành bước: task_dispatcher -------\u001b[0m\n"
      ]
     },
     "metadata": {},
     "output_type": "display_data"
    },
    {
     "data": {
      "text/html": [
       "<pre style=\"white-space:pre;overflow-x:auto;line-height:normal;font-family:Menlo,'DejaVu Sans Mono',consolas,'Courier New',monospace\">\n",
       "<span style=\"color: #008080; text-decoration-color: #008080; font-weight: bold\">&gt;</span> `Agent: Activity Designer` <span style=\"font-weight: bold\">(</span>v12.<span style=\"color: #008080; text-decoration-color: #008080; font-weight: bold\">0</span><span style=\"font-weight: bold\">)</span> đang tạo nội dung theo kỷ luật<span style=\"color: #808000; text-decoration-color: #808000\">...</span>\n",
       "</pre>\n"
      ],
      "text/plain": [
       "\n",
       "\u001b[1;36m>\u001b[0m `Agent: Activity Designer` \u001b[1m(\u001b[0mv12.\u001b[1;36m0\u001b[0m\u001b[1m)\u001b[0m đang tạo nội dung theo kỷ luật\u001b[33m...\u001b[0m\n"
      ]
     },
     "metadata": {},
     "output_type": "display_data"
    }
   ],
   "source": [
    "# ==============================================================================\n",
    "# CELL 5.2: KÍCH HOẠT CHẠY THỬ NGHIỆM\n",
    "# ==============================================================================\n",
    "# Yêu cầu để kiểm tra\n",
    "architect_request = \"Soạn giúp tôi giáo án bài 'Đường tròn ngoại tiếp và đường tròn nội tiếp' cho học sinh lớp 9 trong 90 phút. Đây là một lớp học khá yếu, các em thường mất tập trung và cần các hoạt động có tính tương tác cao.\"\n",
    "VERBOSE_MODE = True \n",
    "\n",
    "# Chạy quy trình đã được cải cách\n",
    "# Lưu ý: bạn cần một môi trường hỗ trợ `await` ở cấp độ cao nhất (như Jupyter Notebook)\n",
    "await run_architect(architect_request)"
   ]
  }
 ],
 "metadata": {
  "kernelspec": {
   "display_name": "plan_venv",
   "language": "python",
   "name": "python3"
  },
  "language_info": {
   "codemirror_mode": {
    "name": "ipython",
    "version": 3
   },
   "file_extension": ".py",
   "mimetype": "text/x-python",
   "name": "python",
   "nbconvert_exporter": "python",
   "pygments_lexer": "ipython3",
   "version": "3.11.8"
  }
 },
 "nbformat": 4,
 "nbformat_minor": 5
}
