{
 "cells": [
  {
   "cell_type": "markdown",
   "id": "a3bfa357",
   "metadata": {},
   "source": [
    "## PHẦN 1: CÀI ĐẶT, IMPORTS & THIẾT LẬP BAN ĐẦU"
   ]
  },
  {
   "cell_type": "code",
   "execution_count": 20,
   "id": "f1b9d691",
   "metadata": {},
   "outputs": [],
   "source": [
    "# ==============================================================================\n",
    "# CELL 1.1: CÀI ĐẶT THƯ VIỆN & BIẾN MÔI TRƯỜNG (CẬP NHẬT)\n",
    "# ==============================================================================\n",
    "import os\n",
    "import json\n",
    "import asyncio\n",
    "import operator\n",
    "import time \n",
    "import re\n",
    "from typing import TypedDict, Annotated, List, Dict, Any, Literal, Optional, Union\n",
    "\n",
    "# Tải các biến môi trường\n",
    "from dotenv import load_dotenv \n",
    "load_dotenv()\n",
    "\n",
    "# LangChain & LangGraph\n",
    "from langchain_core.messages import BaseMessage, HumanMessage   \n",
    "from pydantic.v1 import BaseModel, Field, schema_json_of\n",
    "# --- NÂNG CẤP: Chuyển sang thư viện Google Generative AI (dành cho AI Studio) ---\n",
    "from langchain_google_genai import ChatGoogleGenerativeAI\n",
    "from langgraph.graph import StateGraph, END\n",
    "from langgraph.graph.message import add_messages\n",
    "\n",
    "# --- NÂNG CẤP: Thêm công cụ tìm kiếm ---\n",
    "from langchain_community.tools.tavily_search import TavilySearchResults\n",
    "\n",
    "# Thư viện hỗ trợ & Kho tri thức\n",
    "from langchain_community.vectorstores import FAISS\n",
    "from langchain_huggingface import HuggingFaceEmbeddings\n",
    "from rich.console import Console\n",
    "from rich.markdown import Markdown\n",
    "from rich.pretty import pprint\n",
    "from IPython.display import Image, display"
   ]
  },
  {
   "cell_type": "code",
   "execution_count": 21,
   "id": "eb563d80",
   "metadata": {},
   "outputs": [],
   "source": [
    "# ==============================================================================\n",
    "# CELL 1.2: CẤU HÌNH LOG & CÁC HÀM IN ẤN\n",
    "# ==============================================================================\n",
    "from langchain_groq import ChatGroq\n",
    "# --- CẤU HÌNH LOG ---\n",
    "VERBOSE_MODE = True\n",
    "\n",
    "# --- KHỞI TẠO CÁC CÔNG CỤ IN ẤN ---\n",
    "console = Console()\n",
    "\n",
    "def print_step(message: str):\n",
    "    if VERBOSE_MODE:\n",
    "        console.print(f\"\\n[bold cyan]>[/bold cyan] {message}\")\n",
    "\n",
    "def print_result(data: Any, title: str = \"Kết quả\"):\n",
    "    if VERBOSE_MODE:\n",
    "        console.print(f\"[bold green]✔️ {title}:[/bold green]\")\n",
    "        pprint(data, expand_all=True)\n",
    "        \n",
    "def print_warning(message: str):\n",
    "    if VERBOSE_MODE:\n",
    "        console.print(f\"[bold yellow]⚠️  {message}[/bold yellow]\")"
   ]
  },
  {
   "cell_type": "code",
   "execution_count": 22,
   "id": "eb8e3f51",
   "metadata": {},
   "outputs": [
    {
     "name": "stdout",
     "output_type": "stream",
     "text": [
      "✅ LLM (Gemini 2.5 Flash từ Google AI Studio) đã được khởi tạo thành công.\n"
     ]
    }
   ],
   "source": [
    "# ==============================================================================\n",
    "# CELL 1.3: KHỞI TẠO LLM (NÂNG CẤP SANG GOOGLE AI STUDIO)\n",
    "# ==============================================================================\n",
    "try:\n",
    "    llm = ChatGoogleGenerativeAI(\n",
    "        model=\"gemini-2.5-flash\", # Sử dụng model mới nhất và mạnh nhất\n",
    "        temperature=0.1,\n",
    "        google_api_key=os.getenv(\"GOOGLE_API_KEY\")\n",
    "    )\n",
    "    print(\"✅ LLM (Gemini 2.5 Flash từ Google AI Studio) đã được khởi tạo thành công.\")\n",
    "except Exception as e:\n",
    "    print(f\"❌ LỖI: Không thể khởi tạo LLM. Hãy chắc chắn bạn đã cài 'langchain-google-genai' và có GOOGLE_API_KEY trong file .env. Lỗi: {e}\")\n",
    "    llm = None"
   ]
  },
  {
   "cell_type": "code",
   "execution_count": null,
   "id": "0e17e6e5",
   "metadata": {},
   "outputs": [],
   "source": []
  },
  {
   "cell_type": "markdown",
   "id": "3ba01f0c",
   "metadata": {},
   "source": [
    "## PHẦN 2: ĐỊNH NGHĨA STATE CỦA HỆ THỐNG\n"
   ]
  },
  {
   "cell_type": "code",
   "execution_count": 23,
   "id": "9d8894ca",
   "metadata": {},
   "outputs": [
    {
     "data": {
      "text/html": [
       "<pre style=\"white-space:pre;overflow-x:auto;line-height:normal;font-family:Menlo,'DejaVu Sans Mono',consolas,'Courier New',monospace\">\n",
       "<span style=\"color: #008080; text-decoration-color: #008080; font-weight: bold\">&gt;</span> Đang tải và hợp nhất các kho tri thức từ <span style=\"color: #008080; text-decoration-color: #008080; font-weight: bold\">2</span> thư mục<span style=\"color: #808000; text-decoration-color: #808000\">...</span>\n",
       "</pre>\n"
      ],
      "text/plain": [
       "\n",
       "\u001b[1;36m>\u001b[0m Đang tải và hợp nhất các kho tri thức từ \u001b[1;36m2\u001b[0m thư mục\u001b[33m...\u001b[0m\n"
      ]
     },
     "metadata": {},
     "output_type": "display_data"
    },
    {
     "name": "stdout",
     "output_type": "stream",
     "text": [
      "✅ Đã tải thành công kho tri thức cơ sở: 'sgk_toan_12_1'\n",
      "✅ Đã hợp nhất thành công: 'sgk_toan_9'\n",
      "\n",
      "[bold green]✔️ Tất cả các kho tri thức RAG đã được tải và hợp nhất thành công.[/bold green]\n"
     ]
    }
   ],
   "source": [
    "# ==============================================================================\n",
    "# CELL 1.4: TẢI KHO TRI THỨC (RAG)\n",
    "# ==============================================================================\n",
    "# --- TẢI KHO TRI THỨC ---\n",
    "BASE_VECTOR_STORE_PATH = \"vector_store\"\n",
    "vector_store = None\n",
    "embeddings = HuggingFaceEmbeddings(model_name=\"all-MiniLM-L6-v2\")\n",
    "\n",
    "if os.path.exists(BASE_VECTOR_STORE_PATH):\n",
    "    subdirectories = [f.path for f in os.scandir(BASE_VECTOR_STORE_PATH) if f.is_dir()]\n",
    "    if not subdirectories:\n",
    "        print(f\"❌ LỖI: Không tìm thấy thư mục con nào trong '{BASE_VECTOR_STORE_PATH}'.\")\n",
    "    else:\n",
    "        try:\n",
    "            print_step(f\"Đang tải và hợp nhất các kho tri thức từ {len(subdirectories)} thư mục...\")\n",
    "            # Tải kho tri thức đầu tiên để làm cơ sở\n",
    "            first_store_path = subdirectories.pop(0)\n",
    "            vector_store = FAISS.load_local(first_store_path, embeddings, allow_dangerous_deserialization=True)\n",
    "            print(f\"✅ Đã tải thành công kho tri thức cơ sở: '{os.path.basename(first_store_path)}'\")\n",
    "\n",
    "            # Hợp nhất các kho tri thức còn lại\n",
    "            for store_path in subdirectories:\n",
    "                if os.path.exists(os.path.join(store_path, \"index.faiss\")):\n",
    "                    temp_store = FAISS.load_local(store_path, embeddings, allow_dangerous_deserialization=True)\n",
    "                    vector_store.merge_from(temp_store)\n",
    "                    print(f\"✅ Đã hợp nhất thành công: '{os.path.basename(store_path)}'\")\n",
    "                else:\n",
    "                    print_warning(f\"Bỏ qua thư mục '{os.path.basename(store_path)}' vì không chứa file index.faiss.\")\n",
    "            \n",
    "            print(\"\\n[bold green]✔️ Tất cả các kho tri thức RAG đã được tải và hợp nhất thành công.[/bold green]\")\n",
    "\n",
    "        except Exception as e:\n",
    "            print(f\"❌ LỖI trong quá trình tải hoặc hợp nhất kho tri thức: {e}\")\n",
    "else:\n",
    "    print(f\"❌ LỖI: Không tìm thấy thư mục gốc của kho tri thức tại '{BASE_VECTOR_STORE_PATH}'.\")\n"
   ]
  },
  {
   "cell_type": "code",
   "execution_count": 24,
   "id": "73b17652",
   "metadata": {},
   "outputs": [
    {
     "data": {
      "text/html": [
       "<pre style=\"white-space:pre;overflow-x:auto;line-height:normal;font-family:Menlo,'DejaVu Sans Mono',consolas,'Courier New',monospace\">\n",
       "<span style=\"color: #008080; text-decoration-color: #008080; font-weight: bold\">&gt;</span> ✅ Đã xây dựng Vector Store cho Trí nhớ Dài hạn.\n",
       "</pre>\n"
      ],
      "text/plain": [
       "\n",
       "\u001b[1;36m>\u001b[0m ✅ Đã xây dựng Vector Store cho Trí nhớ Dài hạn.\n"
      ]
     },
     "metadata": {},
     "output_type": "display_data"
    }
   ],
   "source": [
    "# ==============================================================================\n",
    "# CELL 1.5: KHỞI TẠO VÀ QUẢN LÝ TRÍ NHỚ DÀI HẠN (NÂNG CẤP V9.4)\n",
    "# ==============================================================================\n",
    "MEMORY_FILE_PATH = \"long_term_memory.json\"\n",
    "memory_vector_store = None\n",
    "\n",
    "# Hàm để tải trí nhớ từ file JSON\n",
    "def load_memory():\n",
    "    if not os.path.exists(MEMORY_FILE_PATH):\n",
    "        return []\n",
    "    with open(MEMORY_FILE_PATH, 'r', encoding='utf-8') as f:\n",
    "        return json.load(f)\n",
    "\n",
    "# Hàm để lưu một giáo án mới vào trí nhớ\n",
    "def save_to_memory(request: str, structured_plan: Dict[str, Any]):\n",
    "    memory = load_memory()\n",
    "    memory.append({\n",
    "        \"request\": request,\n",
    "        \"plan\": structured_plan\n",
    "    })\n",
    "    with open(MEMORY_FILE_PATH, 'w', encoding='utf-8') as f:\n",
    "        json.dump(memory, f, ensure_ascii=False, indent=2)\n",
    "    print_step(\"🧠 Đã lưu giáo án thành công vào Trí nhớ Dài hạn.\")\n",
    "\n",
    "# Hàm để tạo một vector store từ trí nhớ (để tìm kiếm tương đồng)\n",
    "def build_memory_vector_store():\n",
    "    global memory_vector_store\n",
    "    memory_content = load_memory()\n",
    "    if not memory_content:\n",
    "        print_warning(\"Trí nhớ trống, không có gì để xây dựng vector store.\")\n",
    "        return\n",
    "\n",
    "    # Chỉ lấy phần 'request' để tìm kiếm\n",
    "    texts = [item['request'] for item in memory_content]\n",
    "    # Lưu toàn bộ item làm metadata\n",
    "    metadatas = memory_content\n",
    "    \n",
    "    memory_vector_store = FAISS.from_texts(texts, embeddings, metadatas=metadatas)\n",
    "    print_step(\"✅ Đã xây dựng Vector Store cho Trí nhớ Dài hạn.\")\n",
    "\n",
    "# Tự động xây dựng vector store khi khởi động notebook\n",
    "build_memory_vector_store()"
   ]
  },
  {
   "cell_type": "code",
   "execution_count": 25,
   "id": "38cfae91",
   "metadata": {},
   "outputs": [
    {
     "name": "stdout",
     "output_type": "stream",
     "text": [
      "✅ 'TeacherStateV5' (v9.0 - Hỗ trợ Phân hóa & Cấu trúc) đã được định nghĩa.\n"
     ]
    }
   ],
   "source": [
    "# ==============================================================================\n",
    "# CELL 2.1: ĐỊNH NGHĨA STATE NÂNG CAO (v9.0)\n",
    "# ==============================================================================\n",
    "from typing import TypedDict, Annotated, List, Dict, Any, Literal, Optional, Union\n",
    "from langchain_core.messages import BaseMessage\n",
    "from langgraph.graph.message import add_messages\n",
    "import operator\n",
    "\n",
    "# --- Hàm tiện ích (giữ nguyên) ---\n",
    "def merge_dicts(dict1: Dict[str, Any], dict2: Dict[str, Any]) -> Dict[str, Any]:\n",
    "    merged = dict1.copy()\n",
    "    for key, value in dict2.items():\n",
    "        if key in merged and isinstance(merged[key], dict) and isinstance(value, dict):\n",
    "            merged[key] = merge_dicts(merged[key], value)\n",
    "        else:\n",
    "            merged[key] = value\n",
    "    return merged\n",
    "\n",
    "# --- Cấu trúc dữ liệu con (giữ nguyên) ---\n",
    "class DetailedTask(TypedDict):\n",
    "    task_id: int\n",
    "    task_name: str\n",
    "    task_description: str\n",
    "    estimated_duration: int \n",
    "    status: Literal[\"pending\", \"completed\"]\n",
    "\n",
    "# === NÂNG CẤP V9.0: CÁC CẤU TRÚC DỮ LIỆU MỚI CHO TƯ DUY SÂU ===\n",
    "class DifferentiatedInstruction(TypedDict):\n",
    "    \"\"\"Gợi ý cho việc dạy học phân hóa trong một hoạt động.\"\"\"\n",
    "    for_struggling_students: str\n",
    "    for_advanced_students: str\n",
    "\n",
    "class StructuredContentItem(TypedDict):\n",
    "    \"\"\"Định nghĩa một hoạt động hoặc đánh giá có cấu trúc.\"\"\"\n",
    "    task_id: int\n",
    "    activity_name: str\n",
    "    question_or_description: str # Gộp 'question' và 'description'\n",
    "    duration_minutes: int\n",
    "    content_type: str # Gộp 'activity_type' và 'question_type'\n",
    "    teacher_actions: List[str]\n",
    "    solution_guide: Any\n",
    "    answer: Optional[str] # Dành cho câu hỏi đánh giá\n",
    "    differentiation: Optional[DifferentiatedInstruction]\n",
    "\n",
    "class FinalStructuredPlan(TypedDict):\n",
    "    \"\"\"Định nghĩa cấu trúc JSON cho giáo án cuối cùng.\"\"\"\n",
    "    general_info: Dict[str, Any]\n",
    "    learning_objectives: List[str]\n",
    "    preparation: Dict[str, List[str]]\n",
    "    knowledge_summary: str\n",
    "    lesson_flow: List[StructuredContentItem]\n",
    "    # pedagogical_explainer: Dict[str, Any] # Dành cho nâng cấp tương lai\n",
    "\n",
    "# === NÂNG CẤP V9.0: STATE MỚI VỚI CÁC TRƯỜNG TRÍ TUỆ MỚI ===\n",
    "class TeacherStateV5(TypedDict):\n",
    "    # Các trường cơ bản\n",
    "    original_request: str\n",
    "    messages: Annotated[List[BaseMessage], add_messages]\n",
    "    domain: Optional[str]\n",
    "    \n",
    "    # === NÂNG CẤP: student_persona giờ sẽ chứa cả chiến lược phân hóa ===\n",
    "    student_persona: Optional[Dict[str, Any]] \n",
    "    \n",
    "    # Các bước tuần tự ban đầu\n",
    "    analyzed_objective: Optional[Any]\n",
    "    pedagogy_strategy: Optional[Any]\n",
    "    pedagogical_blueprint: Optional[List[str]]\n",
    "\n",
    "    # Các trường nâng cao\n",
    "    expanded_queries: Optional[List[str]]\n",
    "    task_list: Optional[List[DetailedTask]]\n",
    "    current_task_id: Optional[int]\n",
    "    reflection_notes: Optional[str]\n",
    "    agent_outputs: Annotated[Dict[str, Any], merge_dicts] \n",
    "    next_agent: str\n",
    "    \n",
    "    # Các trường tạm thời cho vòng lặp kiểm duyệt vi mô (Micro-loop)\n",
    "    current_content_to_validate: Optional[Dict[str, Any]]\n",
    "    validation_feedback: Optional[str]\n",
    "\n",
    "    inspirational_example: Optional[List[Dict[str, Any]]]\n",
    "\n",
    "    # === NÂNG CẤP: Output cuối cùng sẽ có 2 dạng ===\n",
    "    final_structured_plan: Optional[FinalStructuredPlan] # Dạng JSON có cấu trúc\n",
    "    final_markdown_plan: Optional[str] # Dạng Markdown để hiển thị\n",
    "\n",
    "print(\"✅ 'TeacherStateV5' (v9.0 - Hỗ trợ Phân hóa & Cấu trúc) đã được định nghĩa.\")"
   ]
  },
  {
   "cell_type": "code",
   "execution_count": 26,
   "id": "deb1ba5e",
   "metadata": {},
   "outputs": [
    {
     "name": "stdout",
     "output_type": "stream",
     "text": [
      "✅ Node khởi tạo 'initialize_state_node' đã được định nghĩa.\n"
     ]
    }
   ],
   "source": [
    "# ==============================================================================\n",
    "# CELL 2.2: NODE KHỞI TẠO STATE\n",
    "# ==============================================================================\n",
    "def initialize_state_node(state: TeacherStateV5) -> Dict[str, Any]:\n",
    "    \"\"\"\n",
    "    Node đầu tiên trong graph.\n",
    "    Lấy yêu cầu gốc từ tin nhắn đầu vào và điền vào trường 'original_request'.\n",
    "    \"\"\"\n",
    "    print_step(\"`Initializer`: Đang khởi tạo trạng thái và lấy yêu cầu gốc...\")\n",
    "    user_request = state['messages'][-1].content\n",
    "    return {\"original_request\": user_request}\n",
    "\n",
    "print(\"✅ Node khởi tạo 'initialize_state_node' đã được định nghĩa.\")"
   ]
  },
  {
   "cell_type": "markdown",
   "id": "924d794f",
   "metadata": {},
   "source": [
    "## PHẦN 3: ĐỊNH NGHĨA CÁC AGENT"
   ]
  },
  {
   "cell_type": "code",
   "execution_count": 27,
   "id": "8cc95063",
   "metadata": {},
   "outputs": [
    {
     "name": "stdout",
     "output_type": "stream",
     "text": [
      "✅ Các cấu trúc dữ liệu Pydantic (v9.7 - Hoạt động Linh hoạt) đã được định nghĩa.\n"
     ]
    }
   ],
   "source": [
    "# ==============================================================================\n",
    "# CELL 3.1: HÀM TIỆN ÍCH & CẤU TRÚC DỮ LIỆU (v9.7 - TƯ DUY LINH HOẠT)\n",
    "# ==============================================================================\n",
    "import json\n",
    "from pydantic.v1 import BaseModel, Field, schema_json_of\n",
    "from typing import List, Dict, Any, Literal, Optional\n",
    "\n",
    "# --- Các hàm tiện ích giữ nguyên ---\n",
    "def format_solution_guide(guide: Any) -> str:\n",
    "    if not guide: return \"Chưa có hướng dẫn.\"\n",
    "    if isinstance(guide, str): return guide\n",
    "    if isinstance(guide, list): return \"\\n\".join(f\"- {step}\" for step in guide)\n",
    "    if isinstance(guide, dict): return \"\\n\".join(f\"- {key.replace('_', ' ').title()}: {value}\" for key, value in guide.items())\n",
    "    return str(guide)\n",
    "\n",
    "def format_teacher_actions(actions: Optional[List[str]]) -> str:\n",
    "    if not actions: return \"Giáo viên quan sát và hỗ trợ chung.\"\n",
    "    return \"\\n\".join(f\"  - {action}\" for action in actions)\n",
    "\n",
    "def update_agent_outputs(state: \"TeacherStateV5\", key: str, value: Any) -> Dict[str, Any]:\n",
    "    outputs = state.get(\"agent_outputs\", {}).copy()\n",
    "    if key not in outputs: outputs[key] = []\n",
    "    outputs[key].append(value)\n",
    "    return {\"agent_outputs\": outputs}\n",
    "\n",
    "SYSTEM_PERSONA_PROMPT = \"BẠN LÀ MỘT TRỢ LÝ AI CHUYÊN NGHIỆP, ĐÓNG VAI TRÒ MỘT GIÁO VIÊN GIÀU KINH NGHIỆM TẠI VIỆT NAM. LUÔN LUÔN trả lời bằng TIẾNG VIỆT.\"\n",
    "\n",
    "# === CẬP NHẬT CẤU TRÚC HOẠT ĐỘNG LINH HOẠT ===\n",
    "class DifferentiatedInstructionModel(BaseModel):\n",
    "    for_struggling_students: str = Field(description=\"Gợi ý cụ thể cho nhóm học sinh yếu/gặp khó khăn.\")\n",
    "    for_advanced_students: str = Field(description=\"Gợi ý, thử thách hoặc hoạt động nâng cao cho nhóm học sinh giỏi.\")\n",
    "\n",
    "class LearningActivity(BaseModel):\n",
    "    activity_name: str = Field(description=\"Tên của hoạt động học tập.\")\n",
    "    activity_type: str = Field(description=\"Phân loại hoạt động. Ví dụ: 'Thảo luận nhóm', 'Thực hành cá nhân'\")\n",
    "    duration_minutes: int = Field(description=\"Tổng thời gian ước tính (bằng SỐ PHÚT) cho cả hai phần.\")\n",
    "    teacher_actions: List[str] = Field(description=\"Danh sách các hành động CỤ THỂ của GIÁO VIÊN.\")\n",
    "    # Thay 'description' bằng cấu trúc Lõi/Mở rộng\n",
    "    core_component: str = Field(description=\"Mô tả phần hoạt động CỐT LÕI mà TẤT CẢ học sinh cần hoàn thành.\")\n",
    "    extension_component: Optional[str] = Field(description=\"Mô tả phần hoạt động MỞ RỘNG dành cho học sinh làm nhanh hoặc nếu còn dư thời gian.\")\n",
    "    solution_guide: Optional[Any] = Field(description=\"Hướng dẫn giải hoặc các câu hỏi gợi mở.\")\n",
    "    differentiation: Optional[DifferentiatedInstructionModel] = Field(description=\"Gợi ý phân hóa cụ thể cho hoạt động này.\")\n",
    "\n",
    "class AssessmentItem(BaseModel):\n",
    "    activity_name: str = Field(description=\"Tên của hoạt động đánh giá.\")\n",
    "    question_type: str = Field(description=\"Loại câu hỏi. Ví dụ: 'Tự luận', 'Trắc nghiệm'\")\n",
    "    duration_minutes: int = Field(description=\"Tổng thời gian ước tính (bằng SỐ PHÚT) cho cả hai phần.\")\n",
    "    teacher_actions: List[str] = Field(description=\"Danh sách các hành động CỤ THỂ của GIÁO VIÊN.\")\n",
    "    # Thay 'question' bằng cấu trúc Lõi/Mở rộng\n",
    "    core_component: str = Field(description=\"Nội dung câu hỏi hoặc đề bài CỐT LÕI mà TẤT CẢ học sinh cần hoàn thành.\")\n",
    "    extension_component: Optional[str] = Field(description=\"Câu hỏi phụ hoặc thử thách MỞ RỘNG dành cho học sinh làm nhanh hoặc nếu còn dư thời gian.\")\n",
    "    answer: str = Field(description=\"Đáp án chính xác và ngắn gọn cho phần CỐT LÕI.\")\n",
    "    solution_guide: Any = Field(description=\"Hướng dẫn giải chi tiết từng bước.\")\n",
    "    differentiation: Optional[DifferentiatedInstructionModel] = Field(description=\"Gợi ý phân hóa cụ thể cho hoạt động này.\")\n",
    "\n",
    "# --- Các model khác giữ nguyên ---\n",
    "class StudentPersona(BaseModel):\n",
    "    learning_pace: Literal[\"nhanh\", \"trung bình\", \"chậm\"] = Field(description=\"Tốc độ học tập chung của lớp.\")\n",
    "    engagement_style: Literal[\"chủ động\", \"thụ động\", \"hỗn hợp\"] = Field(description=\"Mức độ tham gia chung của lớp.\")\n",
    "    special_notes: str = Field(description=\"Tóm tắt các đặc điểm nổi bật của lớp học.\")\n",
    "\n",
    "class StudentPersonaAndDifferentiation(StudentPersona):\n",
    "    differentiation_strategy: DifferentiatedInstructionModel = Field(description=\"Chiến lược dạy học phân hóa tổng thể cho cả bài học dựa trên các đặc điểm của lớp.\")\n",
    "\n",
    "class DetailedTaskModel(BaseModel):\n",
    "    task_name: str = Field(description=\"Tên của nhiệm vụ này.\")\n",
    "    task_description: str = Field(description=\"Mô tả chi tiết nhiệm vụ cần thực hiện.\")\n",
    "    estimated_duration: int = Field(description=\"Thời gian ước tính (bằng phút) cho nhiệm vụ này.\")\n",
    "\n",
    "class TaskListWithDuration(BaseModel):\n",
    "    tasks: List[DetailedTaskModel]\n",
    "\n",
    "class DetailedPedagogyChoice(BaseModel):\n",
    "    name: str = Field(description=\"Tên của phương pháp sư phạm được chọn.\")\n",
    "    rationale: str = Field(description=\"Lý do tại sao phương pháp này phù hợp.\")\n",
    "    key_actions: List[str] = Field(description=\"Danh sách các hành động/hoạt động cốt lõi đặc trưng cho phương pháp này.\")\n",
    "\n",
    "class ValidationResult(BaseModel):\n",
    "    is_valid: bool = Field(description=\"Nội dung có hợp lệ và chính xác về mặt chuyên môn không.\")\n",
    "    feedback: str = Field(description=\"Phản hồi chi tiết. Nếu không hợp lệ, hãy giải thích rõ ràng lỗi sai và gợi ý cách sửa.\")\n",
    "    suggested_duration: Optional[int] = Field(default=None, description=\"Nếu có lỗi về thời gian, hãy đề xuất một thời lượng hợp lý hơn (tính bằng SỐ PHÚT).\")\n",
    "\n",
    "class Domain(BaseModel): domain: str = Field(description=\"Lĩnh vực học thuật chính của yêu cầu.\")\n",
    "class ExpandedQueries(BaseModel): queries: List[str]\n",
    "class BestSnippets(BaseModel): best_snippets: List[str]\n",
    "class ParsedObjective(BaseModel): action_verb: str; bloom_level: int; topic: str; grade_level: str; duration_minutes: Optional[int]\n",
    "class TaskClassification(BaseModel): agent_category: Literal[\"activity_designer\", \"theory_synthesizer\", \"assessment_creator\"]\n",
    "class BlueprintStage(BaseModel): stage_name: str; stage_objective: str; stage_direction: str\n",
    "class PedagogicalBlueprint(BaseModel): blueprint: List[BlueprintStage]\n",
    "\n",
    "print(\"✅ Các cấu trúc dữ liệu Pydantic (v9.7 - Hoạt động Linh hoạt) đã được định nghĩa.\")"
   ]
  },
  {
   "cell_type": "code",
   "execution_count": 28,
   "id": "be758847",
   "metadata": {},
   "outputs": [
    {
     "name": "stdout",
     "output_type": "stream",
     "text": [
      "✅ Các agent phân tích yêu cầu ban đầu (v9.0 - Hỗ trợ Phân hóa) đã sẵn sàng.\n"
     ]
    }
   ],
   "source": [
    "# ==============================================================================\n",
    "# CELL 3.2: AGENT PHÂN TÍCH YÊU CẦU BAN ĐẦU (NÂNG CẤP V9.0)\n",
    "# ==============================================================================\n",
    "async def objective_interpreter_agent(state: \"TeacherStateV5\") -> Dict[str, Any]:\n",
    "    print_step(\"`Agent: Objective Interpreter` (v7.5) đang phân tích mục tiêu...\")\n",
    "    prompt = f\"{SYSTEM_PERSONA_PROMPT}\\n**NHIỆM VỤ:** Đọc yêu cầu của người dùng và trích xuất các thông tin sau.\\n**YÊU CẦU:** \\\"{state['original_request']}\\\"\\n**CÁC TRƯỜNG CẦN TRÍCH XUẤT:** `action_verb`, `bloom_level` (SỐ NGUYÊN), `topic`, `grade_level`, `duration_minutes`.\\n**CHỈ TRẢ VỀ JSON.**\"\n",
    "    structured_llm = llm.with_structured_output(ParsedObjective, method=\"json_mode\")\n",
    "    try:\n",
    "        parsed_result = await structured_llm.ainvoke(prompt)\n",
    "        analyzed_objective_dict = parsed_result.dict()\n",
    "        analyzed_objective_dict['constraints'] = {'duration_minutes': parsed_result.duration_minutes}\n",
    "        del analyzed_objective_dict['duration_minutes']\n",
    "        print_result(analyzed_objective_dict, \"Mục tiêu & Ràng buộc đã phân tích\")\n",
    "        return {\"analyzed_objective\": analyzed_objective_dict}\n",
    "    except Exception as e:\n",
    "        print_warning(f\"Lỗi tại Objective Interpreter: {e}. Sử dụng mục tiêu mặc định.\")\n",
    "        return {\"analyzed_objective\": { \"action_verb\": \"soạn\", \"bloom_level\": 3, \"topic\": state['original_request'], \"grade_level\": \"9\", \"constraints\": {\"duration_minutes\": 90} }}\n",
    "\n",
    "async def domain_classifier_agent(state: \"TeacherStateV5\") -> Dict[str, Any]:\n",
    "    print_step(\"`Agent: Domain Classifier` (v7.5) đang xác định lĩnh vực chuyên môn...\")\n",
    "    prompt = f\"{SYSTEM_PERSONA_PROMPT}\\n**NHIỆM VỤ:** Đọc yêu cầu của người dùng và xác định lĩnh vực học thuật chính.\\n**YÊU CẦU:** \\\"{state['original_request']}\\\"\\n**LĨNH VỰC CÓ THỂ CHỌN:** 'Toán học', 'Vật lý', 'Hóa học', 'Sinh học', 'Văn học', 'Lịch sử', 'Địa lý', 'Ngoại ngữ', 'Tin học'.\\n**YÊU CẦU ĐỊNH DẠNG:** Trả về JSON với key `domain`.\"\n",
    "    structured_llm = llm.with_structured_output(Domain, method=\"json_mode\")\n",
    "    try:\n",
    "        result = await structured_llm.ainvoke(prompt)\n",
    "        print_result(result.domain, \"Lĩnh vực chuyên môn được xác định\")\n",
    "        return {\"domain\": result.domain}\n",
    "    except Exception as e:\n",
    "        print_warning(f\"Lỗi tại Domain Classifier: {e}. Sử dụng lĩnh vực mặc định 'Toán học'.\")\n",
    "        return {\"domain\": \"Toán học\"}\n",
    "\n",
    "# === NÂNG CẤP: Agent này giờ đây là một nhà tư vấn chiến lược ===\n",
    "# === SỬA LỖI PARSING: Prompt được làm rõ ràng hơn về cấu trúc lồng nhau ===\n",
    "async def differentiated_instruction_advisor_agent(state: \"TeacherStateV5\") -> Dict[str, Any]:\n",
    "    print_step(\"`Agent: Differentiated Instruction Advisor` (v9.1) đang phân tích và đề xuất chiến lược phân hóa...\")\n",
    "    prompt = f\"\"\"{SYSTEM_PERSONA_PROMPT}\n",
    "    **VAI TRÒ:** Bạn là một chuyên gia sư phạm, chuyên về dạy học phân hóa.\n",
    "    **NHIỆM VỤ:** Phân tích mô tả về lớp học dưới đây và đề xuất một chiến lược dạy học phân hóa TỔNG THỂ cho cả buổi học.\n",
    "    **YÊU CẦU CỦA GIÁO VIÊN:** \"{state['original_request']}\"\n",
    "    \n",
    "    **CÁC BƯỚC SUY LUẬN (BẮT BUỘC):**\n",
    "    1.  **Phân tích Đặc điểm:** Dựa vào các từ khóa, hãy xác định `learning_pace`, `engagement_style`, và tóm tắt vào `special_notes`.\n",
    "    2.  **Đề xuất Chiến lược Phân hóa:** Dựa trên phân tích trên, hãy điền vào đối tượng `differentiation_strategy`. Đây PHẢI là một đối tượng JSON có 2 trường sau:\n",
    "        -   `for_struggling_students`: Một chiến lược cụ thể để **hỗ trợ** nhóm học sinh có thể gặp khó khăn. (Ví dụ: \"Chia nhỏ nhiệm vụ, cung cấp phiếu bài tập có gợi ý công thức, cho phép thêm thời gian.\")\n",
    "        -   `for_advanced_students`: Một chiến lược cụ thể để **thử thách** nhóm học sinh khá giỏi. (Ví dụ: \"Chuẩn bị các câu hỏi mở rộng 'Tại sao?' và 'Nếu... thì sao?', giao một bài toán ứng dụng thực tế nhỏ.\")\n",
    "\n",
    "    **YÊU CẦU ĐỊNH DẠNG:** BẮT BUỘC trả về một đối tượng JSON duy nhất tuân thủ schema `StudentPersonaAndDifferentiation`. Trường `differentiation_strategy` PHẢI là một object lồng vào bên trong.\n",
    "    \"\"\"\n",
    "    structured_llm = llm.with_structured_output(StudentPersonaAndDifferentiation, method=\"json_mode\")\n",
    "    try:\n",
    "        result = await structured_llm.ainvoke(prompt)\n",
    "        print_result(result.dict(), \"Hồ sơ lớp học và Chiến lược Phân hóa\")\n",
    "        return {\"student_persona\": result.dict()}\n",
    "    except Exception as e:\n",
    "        print_warning(f\"Lỗi tại Differentiated Instruction Advisor: {e}. Sử dụng hồ sơ mặc định.\")\n",
    "        fallback_persona = {\n",
    "            \"learning_pace\": \"trung bình\",\n",
    "            \"engagement_style\": \"hỗn hợp\",\n",
    "            \"special_notes\": \"Không có ghi chú đặc biệt.\",\n",
    "            \"differentiation_strategy\": {\n",
    "                \"for_struggling_students\": \"Quan sát và hỗ trợ thêm khi cần thiết.\",\n",
    "                \"for_advanced_students\": \"Khuyến khích các em tìm tòi thêm.\"\n",
    "            }\n",
    "        }\n",
    "        return {\"student_persona\": fallback_persona}\n",
    "\n",
    "print(\"✅ Các agent phân tích yêu cầu ban đầu (v9.0 - Hỗ trợ Phân hóa) đã sẵn sàng.\")"
   ]
  },
  {
   "cell_type": "code",
   "execution_count": 29,
   "id": "68b5bcd8",
   "metadata": {},
   "outputs": [
    {
     "name": "stdout",
     "output_type": "stream",
     "text": [
      "✅ Các agent lập kế hoạch chiến lược đã sẵn sàng.\n"
     ]
    }
   ],
   "source": [
    "# ==============================================================================\n",
    "# CELL 3.3: AGENT LẬP KẾ HOẠCH CHIẾN LƯỢC (v7.5)\n",
    "# ==============================================================================\n",
    "async def pedagogy_strategist_agent(state: \"TeacherStateV5\") -> Dict[str, Any]:\n",
    "    print_step(\"`Agent: Pedagogy Strategist` (v7.5) đang xây dựng chiến lược sư phạm chi tiết...\")\n",
    "    prompt = f\"\"\"{SYSTEM_PERSONA_PROMPT}\n",
    "    **MỤC TIÊU BÀI HỌC:** {state.get('analyzed_objective')}\n",
    "    **HỒ SƠ LỚP HỌC:** {state.get('student_persona')}\n",
    "    **NHIỆM VỤ:** Dựa vào mục tiêu và hồ sơ lớp học, hãy chọn MỘT phương pháp sư phạm phù hợp nhất. Sau đó, phân tích phương pháp đó thành các hành động cốt lõi.\n",
    "    **VÍ DỤ:** Nếu chọn 'Dạy học theo dự án', key_actions có thể là [\"Giao dự án\", \"Học sinh làm việc nhóm\", \"Báo cáo sản phẩm\"].\n",
    "    **YÊU CẦU ĐỊNH DẠNG:** Trả về JSON với các key `name`, `rationale`, `key_actions`.\n",
    "    \"\"\"\n",
    "    structured_llm = llm.with_structured_output(DetailedPedagogyChoice, method=\"json_mode\")\n",
    "    try:\n",
    "        result = await structured_llm.ainvoke(prompt)\n",
    "        print_result(result.dict(), \"Chiến lược sư phạm chi tiết\")\n",
    "        return {\"pedagogy_strategy\": result.dict()}\n",
    "    except Exception as e:\n",
    "        print_warning(f\"Lỗi tại Pedagogy Strategist: {e}. Sử dụng chiến lược mặc định.\")\n",
    "        return {\"pedagogy_strategy\": {\"name\": \"Dạy học giải quyết vấn đề\", \"rationale\": \"Mặc định do lỗi.\", \"key_actions\": [\"Nêu vấn đề\", \"Học sinh tìm giải pháp\", \"Trình bày kết quả\"]}}\n",
    "\n",
    "async def pedagogical_architect_agent(state: \"TeacherStateV5\") -> Dict[str, Any]:\n",
    "    print_step(\"`Agent: Pedagogical Architect` (v9.4) đang thiết kế kịch bản buổi học...\")\n",
    "    \n",
    "    inspirational_example = state.get(\"inspirational_example\")\n",
    "    example_prompt_part = \"\"\n",
    "    if inspirational_example:\n",
    "        example_prompt_part = f\"\"\"\n",
    "        **VÍ DỤ THAM KHẢO (TỪ MỘT GIÁO ÁN THÀNH CÔNG TRƯỚC ĐÂY):**\n",
    "        Đây là một luồng hoạt động đã được chứng minh là hiệu quả cho một chủ đề tương tự. Hãy học hỏi cấu trúc và cách tiếp cận từ nó:\n",
    "        ```json\n",
    "        {json.dumps(inspirational_example, ensure_ascii=False, indent=2)}\n",
    "        ```\n",
    "        \"\"\"\n",
    "    \n",
    "    prompt = f\"\"\"{SYSTEM_PERSONA_PROMPT} Với vai trò là một chuyên gia thiết kế trải nghiệm học tập.\n",
    "    **NHIỆM VỤ:** Xây dựng một \"Bản thiết kế Sư phạm\" - một kịch bản CẤP CAO cho buổi học.\n",
    "    \n",
    "    {example_prompt_part}\n",
    "    **QUY TẮC:**\n",
    "    1.  Tạo ra 3-5 giai đoạn chính cho dòng chảy của buổi học.\n",
    "    2.  Mỗi giai đoạn phải có tên (`stage_name`), mục tiêu (`stage_objective`), và định hướng (`stage_direction`).\n",
    "    3.  Đảm bảo độ khó tăng tiến qua các giai đoạn.\n",
    "    **THÔNG TIN PHÂN TÍCH:**\n",
    "    - Mục tiêu: {state.get('analyzed_objective')}\n",
    "    - Hồ sơ lớp học: {state.get('student_persona')}\n",
    "    - Chiến lược Sư phạm: {state.get('pedagogy_strategy')}\n",
    "    **YÊU CẦU ĐỊNH DẠNG:** Trả về JSON với key là `blueprint`, giá trị là một danh sách các đối tượng Stage.\n",
    "    \"\"\"\n",
    "    structured_llm = llm.with_structured_output(PedagogicalBlueprint, method=\"json_mode\")\n",
    "    try:\n",
    "        result = await structured_llm.ainvoke(prompt)\n",
    "        blueprint_list_of_strings = [f\"{stage.stage_name}: {stage.stage_direction}\" for stage in result.blueprint]\n",
    "        print_result(blueprint_list_of_strings, \"Bản thiết kế Sư phạm đã được tạo\")\n",
    "        return {\"pedagogical_blueprint\": blueprint_list_of_strings}\n",
    "    except Exception as e:\n",
    "        print_warning(f\"Lỗi tại Pedagogical Architect: {e}. Sử dụng blueprint mặc định.\")\n",
    "        return {\"pedagogical_blueprint\": [\"Giai đoạn 1: Giới thiệu bài học\", \"Giai đoạn 2: Luyện tập\", \"Giai đoạn 3: Đánh giá\"]}\n",
    "\n",
    "async def memory_retrieval_agent(state: \"TeacherStateV5\") -> Dict[str, Any]:\n",
    "    print_step(\"`Agent: Memory Retrieval` (v9.4) đang tìm kiếm trong trí nhớ...\")\n",
    "    \n",
    "    if not memory_vector_store:\n",
    "        print_warning(\"Không có Trí nhớ Dài hạn. Bỏ qua bước này.\")\n",
    "        return {\"inspirational_example\": None}\n",
    "\n",
    "    user_request = state[\"original_request\"]\n",
    "    \n",
    "    # Tìm kiếm 1 ví dụ tương đồng nhất trong trí nhớ\n",
    "    try:\n",
    "        results = memory_vector_store.similarity_search_with_score(user_request, k=1)\n",
    "        if results and results[0][1] < 0.5: # Chỉ lấy nếu độ tương đồng cao (điểm score thấp là tốt)\n",
    "            best_example = results[0][0].metadata\n",
    "            print_result(best_example['request'], \"Tìm thấy ví dụ tương đồng trong trí nhớ\")\n",
    "            # Chỉ trả về phần \"lesson_flow\" để làm ví dụ\n",
    "            return {\"inspirational_example\": best_example['plan']['lesson_flow']}\n",
    "        else:\n",
    "            print_step(\"Không tìm thấy ví dụ nào đủ tương đồng trong trí nhớ.\")\n",
    "            return {\"inspirational_example\": None}\n",
    "    except Exception as e:\n",
    "        print_warning(f\"Lỗi khi truy xuất trí nhớ: {e}\")\n",
    "        return {\"inspirational_example\": None}\n",
    "    \n",
    "print(\"✅ Các agent lập kế hoạch chiến lược đã sẵn sàng.\")"
   ]
  },
  {
   "cell_type": "code",
   "execution_count": 30,
   "id": "220113cd",
   "metadata": {},
   "outputs": [
    {
     "name": "stdout",
     "output_type": "stream",
     "text": [
      "✅ Các agent RAG đã sẵn sàng.\n"
     ]
    }
   ],
   "source": [
    "# ==============================================================================\n",
    "# CELL 3.4: AGENT TRUY XUẤT VÀ TỔNG HỢP KIẾN THỨC (RAG) (v7.5)\n",
    "# ==============================================================================\n",
    "async def query_expansion_agent(state: \"TeacherStateV5\") -> Dict[str, Any]:\n",
    "    print_step(\"`Agent: Query Expansion` (v7.5) đang phân tích yêu cầu...\")\n",
    "    prompt = f\"{SYSTEM_PERSONA_PROMPT}\\n**NHIỆM VỤ:** Tạo ra các cụm từ tìm kiếm đa dạng bằng tiếng Việt để tìm tài liệu.\\n**CHỦ ĐỀ:** \\\"{state.get('analyzed_objective', {}).get('topic', '')}\\\"\\n**LĨNH VỰC:** {state.get('domain', 'Chung')}\\n**YÊU CẦU ĐỊNH DẠNG:** Trả về JSON với key `queries`.\"\n",
    "    structured_llm = llm.with_structured_output(ExpandedQueries, method=\"json_mode\")\n",
    "    try:\n",
    "        response = await structured_llm.ainvoke(prompt)\n",
    "        print_result(response.queries, \"Các truy vấn tìm kiếm đã được mở rộng\")\n",
    "        return {\"expanded_queries\": response.queries}\n",
    "    except Exception as e:\n",
    "        print_warning(f\"Lỗi tại Query Expansion: {e}. Sử dụng truy vấn gốc.\")\n",
    "        return {\"expanded_queries\": [state.get('analyzed_objective', {}).get('topic', '')]}\n",
    "\n",
    "async def resource_scout_agent_v2(state: \"TeacherStateV5\") -> Dict[str, Any]:\n",
    "    print_step(\"`Agent: Resource Scout` (v8.1 - Sửa lỗi) đang tìm kiếm và sàng lọc...\")\n",
    "    retriever = vector_store.as_retriever(search_kwargs={\"k\": 5})\n",
    "    all_docs = []\n",
    "    queries = state.get('expanded_queries', [state.get('analyzed_objective', {}).get('topic', '')])\n",
    "    for query in queries:\n",
    "        all_docs.extend(retriever.invoke(query))\n",
    "    unique_docs_content = list({doc.page_content for doc in all_docs})[:8]\n",
    "    print_step(f\"Tìm thấy {len(all_docs)} tài liệu, sàng lọc còn {len(unique_docs_content)} đoạn văn bản độc nhất.\")\n",
    "    \n",
    "    # --- Phần Re-ranker giữ nguyên ---\n",
    "    rerank_prompt = f\"{SYSTEM_PERSONA_PROMPT}\\n**NHIỆM VỤ:** Đọc yêu cầu gốc và chọn ra 3-4 đoạn văn bản tiếng Việt phù hợp NHẤT từ danh sách dưới đây.\\n**YÊU CẦU GỐC:** \\\"{state.get('original_request', '')}\\\"\\n**DANH SÁCH TÀI LIỆU:** {json.dumps(unique_docs_content, ensure_ascii=False)}\\n**YÊU CẦU ĐỊNH DẠNG:** Trả về JSON với key `best_snippets`.\"\n",
    "    structured_llm_reranker = llm.with_structured_output(BestSnippets, method=\"json_mode\")\n",
    "    best_snippets_text = \"\\n\\n---\\n\\n\".join(unique_docs_content)\n",
    "    try:\n",
    "        reranked_result = await structured_llm_reranker.ainvoke(rerank_prompt)\n",
    "        best_snippets_text = \"\\n\\n---\\n\\n\".join(reranked_result.best_snippets)\n",
    "    except Exception as e:\n",
    "        print_warning(f\"Lỗi tại Re-ranker: {e}. Sử dụng tất cả tài liệu.\")\n",
    "\n",
    "    # === ĐẠI TU PROMPT TÓM TẮT ===\n",
    "    summary_prompt = f\"\"\"{SYSTEM_PERSONA_PROMPT}\n",
    "    **VAI TRÒ:** Bạn là một chuyên gia tổng hợp thông tin.\n",
    "    **NHIỆM VỤ DUY NHẤT:** Dựa **CHỈ** vào các đoạn văn bản dưới đây, hãy viết một bản **TÓM TẮT KIẾN THỨC CỐT LÕI** về chủ đề \"{state.get('analyzed_objective', {}).get('topic', '')}\".\n",
    "\n",
    "    **QUY TẮC TUYỆT ĐỐI:**\n",
    "    1.  **CHỈ DÙNG THÔNG TIN ĐƯỢC CUNG CẤP:** Tuyệt đối không được bình luận về chất lượng của các đoạn văn bản. Không được \"từ chối\" tóm tắt.\n",
    "    2.  **TỔNG HỢP & SUY LUẬN:** Nhiệm vụ của bạn là đọc tất cả các mẩu thông tin (kể cả từ các bài tập) và suy luận ra các định nghĩa, tính chất cốt lõi nhất.\n",
    "    3.  **CẤU TRÚC RÕ RÀNG:** Trình bày bản tóm tắt một cách mạch lạc, có đầu mục rõ ràng (ví dụ: 1. Định nghĩa, 2. Tính chất...).\n",
    "    4.  **TRẢ VỀ TÓM TẮT:** Luôn luôn trả về một bản tóm tắt, ngay cả khi nó ngắn gọn do thông tin hạn chế.\n",
    "\n",
    "    **CÁC ĐOẠN VĂN BẢN ĐỂ TÓM TẮT:**\n",
    "    {best_snippets_text}\n",
    "    \"\"\"\n",
    "    summary = \"Chưa có bản tóm tắt kiến thức.\"\n",
    "    try:\n",
    "        summary_response = await llm.ainvoke(summary_prompt)\n",
    "        summary = summary_response.content\n",
    "    except Exception as e:\n",
    "        print_warning(f\"Lỗi tại bước tóm tắt: {e}.\")\n",
    "        \n",
    "    resource = {\"source\": \"Sách giáo khoa (từ RAG - đã sàng lọc)\", \"summary\": summary}\n",
    "    print_result(resource, \"Tài liệu RAG cuối cùng\")\n",
    "    return update_agent_outputs(state, \"resources\", resource)\n",
    "\n",
    "print(\"✅ Các agent RAG đã sẵn sàng.\")"
   ]
  },
  {
   "cell_type": "code",
   "execution_count": 31,
   "id": "6eac918a",
   "metadata": {},
   "outputs": [
    {
     "name": "stdout",
     "output_type": "stream",
     "text": [
      "✅ Các agent giao việc và chuyên môn (v12.0 - Hoàn thiện) đã sẵn sàng.\n"
     ]
    }
   ],
   "source": [
    "# ==============================================================================\n",
    "# CELL 3.5: AGENT GIAO VIỆC & CHUYÊN MÔN (v12.0 - HOÀN THIỆN)\n",
    "# ==============================================================================\n",
    "\n",
    "# Plan Delegator được trang bị \"kinh nghiệm sư phạm\" và mệnh lệnh rõ ràng\n",
    "async def plan_delegator_agent(state: \"TeacherStateV5\") -> Dict[str, Any]:\n",
    "    print_step(\"`Agent: Plan Delegator` (v12.0 - Nhà hoạch định Thông thái) đang triển khai...\")\n",
    "    \n",
    "    blueprint = state.get('pedagogical_blueprint', [])\n",
    "    total_duration = state.get('analyzed_objective', {}).get('constraints', {}).get('duration_minutes', 90)\n",
    "\n",
    "    # Reset lại agent_outputs mỗi khi lập kế hoạch lại\n",
    "    agent_outputs_history = state.get(\"agent_outputs\", {})\n",
    "    new_agent_outputs = {\"resources\": agent_outputs_history.get(\"resources\", [])}\n",
    "        \n",
    "    prompt = f\"\"\"{SYSTEM_PERSONA_PROMPT}\n",
    "    **VAI TRÒ:** Bạn là một Nhà Hoạch định Sư phạm giàu kinh nghiệm.\n",
    "    **NHIỆM VỤ:** Chuyển đổi \"Bản thiết kế Sư phạm\" thành một danh sách các nhiệm vụ cụ thể, với sự phân bổ thời gian THỰC TẾ và KHẢ THI.\n",
    "\n",
    "    **BẢN THIẾT KẾ SƯ PHẠM:**\n",
    "    {json.dumps(blueprint, ensure_ascii=False, indent=2)}\n",
    "\n",
    "    **BẢNG TRA CỨU KINH NGHIỆM SƯ PHẠM (THAM KHẢO BẮT BUỘC):**\n",
    "    - Khởi động/Khám phá ban đầu: ~10-15 phút.\n",
    "    - Xây dựng kiến thức (mỗi khái niệm lớn): ~20-25 phút.\n",
    "    - Thực hành/Hoạt động nhóm (vẽ hình, thí nghiệm): ~25-30 phút.\n",
    "    - Luyện tập/Củng cố (giải bài tập): ~15-20 phút.\n",
    "    - Tổng kết/Đánh giá/Giao bài tập: ~5-10 phút.\n",
    "\n",
    "    **QUY TẮC TUYỆT ĐỐI:**\n",
    "    1.  **PHÂN BỔ THỰC TẾ:** Dựa vào Bảng tra cứu kinh nghiệm, hãy phân bổ thời gian cho từng nhiệm vụ một cách hợp lý. Đặc biệt, các hoạt động khám phá và thực hành cần nhiều thời gian.\n",
    "    2.  **TUÂN THỦ TỔNG THỜI GIAN:** Tổng thời lượng của tất cả các nhiệm vụ cộng lại PHẢI bằng chính xác **{total_duration} phút**.\n",
    "    \n",
    "    **YÊU CẦU ĐỊNH DẠNG:** Trả về JSON theo schema `TaskListWithDuration`.\n",
    "    \"\"\"\n",
    "    \n",
    "    structured_llm = llm.with_structured_output(TaskListWithDuration, method=\"json_mode\")\n",
    "    \n",
    "    try:\n",
    "        task_list_result = await structured_llm.ainvoke(prompt)\n",
    "        tasks_with_status = [{\"task_id\": i, **t.dict(), \"status\": \"pending\"} for i, t in enumerate(task_list_result.tasks) if t]\n",
    "        \n",
    "        print_result(tasks_with_status, f\"Đã tạo {len(tasks_with_status)} nhiệm vụ chi tiết\")\n",
    "        \n",
    "        return {\"task_list\": tasks_with_status, \"reflection_notes\": None, \"agent_outputs\": new_agent_outputs}\n",
    "    \n",
    "    except Exception as e:\n",
    "        print_warning(f\"Lỗi tại Plan Delegator: {e}. Tạo task mặc định.\")\n",
    "        fallback_task = { \"task_id\": 0, \"task_name\": \"Hoạt động luyện tập\", \"task_description\": \"Học sinh thực hành bài tập.\", \"estimated_duration\": 45, \"status\": \"pending\" }\n",
    "        return {\"task_list\": [fallback_task], \"reflection_notes\": None, \"agent_outputs\": state.get(\"agent_outputs\", {})}\n",
    "\n",
    "\n",
    "# Specialist Agent với \"Tư duy Kỷ luật\"\n",
    "async def specialist_agent_logic(state: \"TeacherStateV5\", agent_type: str, pydantic_model: type[BaseModel]) -> Dict[str, Any]:\n",
    "    print_step(f\"`Agent: {agent_type}` (v12.0) đang tạo nội dung theo kỷ luật...\")\n",
    "    task_to_run = next((t for t in state.get('task_list', []) if t['task_id'] == state.get('current_task_id')), None)\n",
    "    if not task_to_run: return {\"current_content_to_validate\": {\"error\": \"Không tìm thấy task hiện tại.\"}}\n",
    "\n",
    "    feedback_prompt = f\"**MỆNH LỆNH TỪ NGƯỜI BẢO VỆ (CẦN SỬA):** \\\"{state.get('validation_feedback', '')}\\\". Hãy tạo một phiên bản đơn giản hơn.\" if state.get('validation_feedback') else \"\"\n",
    "    \n",
    "    prompt = f\"\"\"{SYSTEM_PERSONA_PROMPT}\n",
    "    **VAI TRÒ:** Bạn là một nhà thiết kế hoạt động học tập sáng tạo, tuân thủ nghiêm ngặt kế hoạch được giao.\n",
    "    \n",
    "    **KẾ HOẠCH ĐÃ BAN HÀNH:**\n",
    "    - Tên nhiệm vụ: \"{task_to_run.get('task_name', '')}\"\n",
    "    - **THỜI GIAN TỐI ĐA (MỆNH LỆNH TUYỆT ĐỐI):** {task_to_run.get('estimated_duration', 10)} phút.\n",
    "\n",
    "    {feedback_prompt}\n",
    "    \n",
    "    **QUY TẮC SỐ 1 - KỶ LUẬT THỜI GIAN:**\n",
    "    Nhiệm vụ của bạn là co giãn nội dung cho vừa với thời gian. Hãy thiết kế hoạt động tốt nhất có thể trong giới hạn thời gian đã cho. Nếu cần, hãy giảm bớt số lượng bài tập hoặc rút ngắn các bước. `duration_minutes` trong output của bạn PHẢI bằng **{task_to_run.get('estimated_duration', 10)}.**\n",
    "    \n",
    "    **QUY TẮC KHÁC:**\n",
    "    - **PHÂN HÓA:** Tạo gợi ý phân hóa chi tiết cho học sinh yếu và giỏi.\n",
    "    - **TUÂN THỦ SCHEMA:** Trả về JSON theo đúng cấu trúc.\n",
    "    \n",
    "    ```json\n",
    "    {schema_json_of(pydantic_model, indent=2)}\n",
    "    ```\n",
    "    \"\"\"\n",
    "    structured_llm = llm.with_structured_output(pydantic_model, method=\"json_mode\")\n",
    "    try:\n",
    "        result = await structured_llm.ainvoke(prompt)\n",
    "        content_dict = result.dict()\n",
    "        \n",
    "        # Gộp các trường để tương thích\n",
    "        if 'description' in content_dict: content_dict['question_or_description'] = content_dict.pop('description')\n",
    "        if 'question' in content_dict: content_dict['question_or_description'] = content_dict.pop('question')\n",
    "        if 'activity_type' in content_dict: content_dict['content_type'] = content_dict.pop('activity_type')\n",
    "        if 'question_type' in content_dict: content_dict['content_type'] = content_dict.pop('question_type')\n",
    "\n",
    "        print_result(content_dict, f\"Nội dung do {agent_type} tạo ra\")\n",
    "        return {\"current_content_to_validate\": content_dict, \"validation_feedback\": None}\n",
    "    except Exception as e:\n",
    "        print_warning(f\"Lỗi tại {agent_type}: {e}.\")\n",
    "        return {\"current_content_to_validate\": {\"error\": str(e)}}\n",
    "\n",
    "async def theory_synthesizer_agent(state: \"TeacherStateV5\"): return await specialist_agent_logic(state, \"Theory Synthesizer\", LearningActivity)\n",
    "async def activity_designer_agent(state: \"TeacherStateV5\"): return await specialist_agent_logic(state, \"Activity Designer\", LearningActivity)\n",
    "async def assessment_creator_agent(state: \"TeacherStateV5\"): return await specialist_agent_logic(state, \"Assessment Creator\", AssessmentItem)\n",
    "\n",
    "print(\"✅ Các agent giao việc và chuyên môn (v12.0 - Hoàn thiện) đã sẵn sàng.\")"
   ]
  },
  {
   "cell_type": "code",
   "execution_count": 32,
   "id": "f509f0a6",
   "metadata": {},
   "outputs": [
    {
     "name": "stdout",
     "output_type": "stream",
     "text": [
      "✅ Agent Cố vấn và Tổng hợp (v12.0) đã sẵn sàng.\n"
     ]
    }
   ],
   "source": [
    "# ==============================================================================\n",
    "# CELL 3.6: AGENT CỐ VẤN VÀ TỔNG HỢP (v12.0 - HOÀN THIỆN)\n",
    "# ==============================================================================\n",
    "\n",
    "# Critic trở thành \"Người bảo vệ Kế hoạch\"\n",
    "async def content_validator_agent(state: \"TeacherStateV5\") -> Dict[str, Any]:\n",
    "    print_step(f\"`Agent: Guardian Critic` (v12.0) đang bảo vệ kế hoạch...\")\n",
    "    content = state.get('current_content_to_validate')\n",
    "    task_list = state.get('task_list', [])\n",
    "    current_task = next((t for t in task_list if t['task_id'] == state.get('current_task_id')), None)\n",
    "    \n",
    "    if not content or content.get(\"error\"):\n",
    "        return {\"validation_feedback\": \"Lỗi tạo nội dung, không thể phản biện.\"}\n",
    "\n",
    "    estimated_duration = current_task.get('estimated_duration', 'N/A')\n",
    "\n",
    "    prompt = f\"\"\"{SYSTEM_PERSONA_PROMPT}\n",
    "    **VAI TRÒ:** Bạn là một Người Bảo vệ Kế hoạch. Nhiệm vụ của bạn là đảm bảo các hoạt động phải TUÂN THỦ KẾ HOẠCH GỐC.\n",
    "    \n",
    "    **KẾ HOẠCH GỐC ĐÃ BAN HÀNH:**\n",
    "    - Thời gian cho phép: **{estimated_duration} phút.**\n",
    "\n",
    "    **NỘI DUNG CẦN THẨM ĐỊNH:**\n",
    "    ```json\n",
    "    {json.dumps(content, ensure_ascii=False, indent=2)}\n",
    "    ```\n",
    "    **SUY LUẬN:**\n",
    "    1.  **Kiểm tra Chất lượng:** Nội dung có chính xác và phù hợp không?\n",
    "    2.  **Kiểm tra Tuân thủ Thời gian:** Dựa vào mô tả, hoạt động này có thực sự khả thi trong **{estimated_duration} phút** không?\n",
    "    \n",
    "    **YÊU CẦU ĐỊNH DẠNG:**\n",
    "    - Nếu hợp lệ và tuân thủ kế hoạch: `is_valid: true`.\n",
    "    - Nếu không hợp lệ: `is_valid: false`, `feedback` giải thích tại sao nội dung không tuân thủ và ra lệnh: **\"Hãy thiết kế lại một phiên bản đơn giản hơn để khớp với thời gian {estimated_duration} phút đã cho.\"** TUYỆT ĐỐI KHÔNG đề xuất tăng thời gian (`suggested_duration` phải là null).\n",
    "    \"\"\"\n",
    "    structured_llm = llm.with_structured_output(ValidationResult, method=\"json_mode\")\n",
    "    try:\n",
    "        result = await structured_llm.ainvoke(prompt)\n",
    "        if result.is_valid:\n",
    "            print_step(\"✔️ GUARDIAN: Nội dung tuân thủ kế hoạch!\")\n",
    "            return {\"validation_feedback\": None}\n",
    "        else:\n",
    "            clean_feedback = result.feedback.split(\"|\")[0].strip()\n",
    "            print_warning(f\"GUARDIAN PHẢN BIỆN: {clean_feedback}\")\n",
    "            return {\"validation_feedback\": clean_feedback}\n",
    "    except Exception as e:\n",
    "        print_warning(f\"Lỗi tại Guardian Critic: {e}. Mặc định cho qua.\")\n",
    "        return {\"validation_feedback\": None}\n",
    "\n",
    "\n",
    "# Dán lại code đầy đủ của hai hàm trên\n",
    "async def structured_plan_compiler_agent(state: \"TeacherStateV5\") -> Dict[str, Any]:\n",
    "    print_step(\"`Agent: Structured Plan Compiler` (v12.0) đang tổng hợp giáo án...\")\n",
    "    outputs = state.get('agent_outputs', {})\n",
    "    objective = state.get('analyzed_objective', {})\n",
    "    \n",
    "    activities = outputs.get('activities', [])\n",
    "    assessments = outputs.get('assessments', [])\n",
    "    all_content_items = activities + assessments\n",
    "    allowed_duration = objective.get('constraints', {}).get('duration_minutes', 90)\n",
    "\n",
    "    if not all_content_items:\n",
    "        return {\"reflection_notes\": \"Kế hoạch thất bại, không có hoạt động nào được tạo ra.\"}\n",
    "\n",
    "    total_duration = sum(item.get('duration_minutes', 0) for item in all_content_items)\n",
    "    \n",
    "    if not ((allowed_duration * 0.95) <= total_duration <= (allowed_duration + 5)):\n",
    "        reflection = f\"Kế hoạch thất bại. Tổng thời gian ({total_duration} phút) không hợp lệ. Lập kế hoạch lại.\"\n",
    "        print_warning(f\"CRITIC LỚN: {reflection}\")\n",
    "        return {\"reflection_notes\": reflection}\n",
    "\n",
    "    print_step(\"CRITIC LỚN: Kế hoạch hợp lệ! Bắt đầu tổng hợp JSON...\")\n",
    "    all_content_sorted = sorted(all_content_items, key=lambda x: x.get('task_id', float('inf')))\n",
    "    \n",
    "    persona = state.get('student_persona', {})\n",
    "    strategy = state.get('pedagogy_strategy', {})\n",
    "    resources = state.get('agent_outputs', {}).get('resources', [{}])[0]\n",
    "    general_info = { \"chủ đề\": objective.get('topic', 'N/A'), \"môn học\": state.get('domain', 'N/A'), \"lớp\": objective.get('grade_level', 'N/A'), \"thời lượng\": f\"{allowed_duration} phút\", \"phương pháp chủ đạo\": strategy.get('name', 'Chưa xác định'), \"đặc điểm lớp học\": persona.get('special_notes', 'Tiêu chuẩn'), }\n",
    "    learning_objectives = [ f\"Học sinh có thể {objective.get('action_verb', 'vận dụng')} kiến thức về {objective.get('topic', 'N/A')}.\", \"Rèn luyện kỹ năng tư duy logic.\", \"Phát triển kỹ năng hợp tác.\" ]\n",
    "    preparation = { \"giáo viên\": [\"Bảng phụ\", \"máy chiếu\", \"phiếu học tập\"], \"học sinh\": [\"Sách giáo khoa\", \"vở ghi\", \"dụng cụ học tập\"] }\n",
    "    final_plan_obj: FinalStructuredPlan = { \"general_info\": general_info, \"learning_objectives\": learning_objectives, \"preparation\": preparation, \"knowledge_summary\": resources.get('summary', 'Chưa có tóm tắt.'), \"lesson_flow\": all_content_sorted, }\n",
    "    return {\"final_structured_plan\": final_plan_obj, \"reflection_notes\": None}\n",
    "\n",
    "def markdown_presentation_node(state: \"TeacherStateV5\") -> Dict[str, str]:\n",
    "    print_step(\"`Node: Markdown Presenter` (v12.0) đang tạo bản trình bày...\")\n",
    "    plan_json = state.get(\"final_structured_plan\")\n",
    "    if not isinstance(plan_json, dict): return {\"final_markdown_plan\": \"Lỗi: Không tìm thấy giáo án.\"}\n",
    "    md_parts = []\n",
    "    info = plan_json.get('general_info', {})\n",
    "    md_parts.append(f\"# GIÁO ÁN BÀI DẠY: {info.get('chủ đề', 'N/A').upper()}\")\n",
    "    md_parts.append(\"---\")\n",
    "    md_parts.append(\"## I. THÔNG TIN CHUNG\")\n",
    "    for key, value in info.items(): md_parts.append(f\"- **{key.replace('_', ' ').title()}:** {value}\")\n",
    "    md_parts.append(\"## II. MỤC TIÊU BÀI HỌC\")\n",
    "    for obj in plan_json.get('learning_objectives', []): md_parts.append(f\"- {obj}\")\n",
    "    md_parts.append(\"## III. CHUẨN BỊ\")\n",
    "    for key, items in plan_json.get('preparation', {}).items(): md_parts.append(f\"- **{key.title()}:** {', '.join(items)}\")\n",
    "    md_parts.append(\"## IV. TIẾN TRÌNH BÀI DẠY\")\n",
    "    for i, activity in enumerate(plan_json.get('lesson_flow', [])):\n",
    "        md_parts.append(f\"### Hoạt động {i+1}: {activity.get('activity_name')} ({activity.get('duration_minutes')} phút)\")\n",
    "        md_parts.append(f\"**Nhiệm vụ:**\\n{activity.get('question_or_description', 'Không có mô tả.')}\")\n",
    "        if activity.get('differentiation'):\n",
    "            diff = activity['differentiation']\n",
    "            md_parts.append(f\"> **Gợi ý Phân hóa:**\")\n",
    "            md_parts.append(f\"> - *Hỗ trợ (HS yếu):* {diff.get('for_struggling_students', 'Không có')}\")\n",
    "            md_parts.append(f\"> - *Thử thách (HS giỏi):* {diff.get('for_advanced_students', 'Không có')}\")\n",
    "        md_parts.append(\"\\n---\")\n",
    "    md_parts.append(\"## V. TÓM TẮT KIẾN THỨC CỐT LÕI\")\n",
    "    md_parts.append(plan_json.get('knowledge_summary', 'Chưa có tóm tắt.'))\n",
    "    final_md = \"\\n\".join(md_parts)\n",
    "    return {\"final_markdown_plan\": final_md}\n",
    "\n",
    "print(\"✅ Agent Cố vấn và Tổng hợp (v12.0) đã sẵn sàng.\")"
   ]
  },
  {
   "cell_type": "markdown",
   "id": "d9377da3",
   "metadata": {},
   "source": [
    "## PHẦN 4: XÂY DỰNG VÀ BIÊN DỊCH GRAPH"
   ]
  },
  {
   "cell_type": "code",
   "execution_count": 33,
   "id": "3f7820ed",
   "metadata": {},
   "outputs": [
    {
     "name": "stdout",
     "output_type": "stream",
     "text": [
      "✅ Các node tiện ích và điều phối (v12.0 - Hoàn thiện) đã sẵn sàng.\n"
     ]
    }
   ],
   "source": [
    "# ==============================================================================\n",
    "# CELL 4.1: CÁC NODE TIỆN ÍCH & ĐIỀU PHỐI (v12.0 - HOÀN THIỆN)\n",
    "# ==============================================================================\n",
    "from typing import Literal, Dict, Any\n",
    "import time\n",
    "\n",
    "def delay_node(state: \"TeacherStateV5\"): time.sleep(1); return state\n",
    "\n",
    "def mark_task_complete(state: \"TeacherStateV5\") -> Dict[str, Any]:\n",
    "    task_list = state.get(\"task_list\", [])\n",
    "    current_task_id = state.get(\"current_task_id\")\n",
    "    if not task_list or current_task_id is None: return {}\n",
    "    new_task_list = [t.copy() for t in task_list]\n",
    "    for task in new_task_list:\n",
    "        if task.get(\"task_id\") == current_task_id:\n",
    "            task[\"status\"] = \"completed\"\n",
    "            break\n",
    "    return {\"task_list\": new_task_list, \"current_task_id\": None}\n",
    "    \n",
    "def task_router_node(state: \"TeacherStateV5\"):\n",
    "    print_step(\"`Router`: Đang kiểm tra nhiệm vụ...\")\n",
    "    task_list = state.get(\"task_list\", [])\n",
    "    next_task = next((task for task in task_list if task.get(\"status\") == \"pending\"), None)\n",
    "    if next_task:\n",
    "        print_step(f\"Nhiệm vụ tiếp theo: '{next_task['task_name']}' (ID: {next_task['task_id']})\")\n",
    "        return {\"current_task_id\": next_task['task_id']}\n",
    "    else:\n",
    "        print_step(\"Hết nhiệm vụ, chuyển sang node Compiler.\")\n",
    "        return {\"current_task_id\": None}\n",
    "\n",
    "async def task_dispatcher_agent(state: \"TeacherStateV5\"):\n",
    "    print_step(\"`Agent: Task Dispatcher` đang giao việc...\")\n",
    "    task_to_run = next((t for t in state['task_list'] if t['task_id'] == state['current_task_id']), None)\n",
    "    if not task_to_run: return {\"next_agent\": \"structured_plan_compiler\"}\n",
    "    task_description = task_to_run['task_description']\n",
    "    prompt = f\"{SYSTEM_PERSONA_PROMPT}\\n**Nhiệm vụ:** Phân loại nhiệm vụ sau vào MỘT trong ba agent: 'activity_designer', 'theory_synthesizer', 'assessment_creator'.\"\n",
    "    structured_llm = llm.with_structured_output(TaskClassification)\n",
    "    try:\n",
    "        classification_result = await structured_llm.ainvoke(prompt)\n",
    "        next_agent = classification_result.agent_category\n",
    "    except Exception:\n",
    "        next_agent = \"activity_designer\"\n",
    "    print_step(f\"--- 🚚 `Dispatcher`: Giao nhiệm vụ cho `{next_agent}`.\")\n",
    "    return {\"next_agent\": next_agent}\n",
    "\n",
    "def commit_validated_content_node(state: \"TeacherStateV5\") -> Dict[str, Any]:\n",
    "    print_step(\"`Commiter`: Đang ghi nhận nội dung đã được xác thực...\")\n",
    "    agent_ran = state[\"next_agent\"]\n",
    "    content = state[\"current_content_to_validate\"]\n",
    "    content['task_id'] = state['current_task_id']\n",
    "    key_to_update = \"assessments\" if agent_ran == \"assessment_creator\" else \"activities\"\n",
    "    updated_outputs = update_agent_outputs(state, key_to_update, content)\n",
    "    updated_outputs[\"current_content_to_validate\"] = None\n",
    "    updated_outputs[\"validation_feedback\"] = None\n",
    "    return updated_outputs\n",
    "\n",
    "def save_to_memory_node(state: \"TeacherStateV5\"):\n",
    "    if state.get(\"final_structured_plan\"):\n",
    "        save_to_memory(state[\"original_request\"], state[\"final_structured_plan\"])\n",
    "    return {} \n",
    "\n",
    "print(\"✅ Các node tiện ích và điều phối (v12.0 - Hoàn thiện) đã sẵn sàng.\")"
   ]
  },
  {
   "cell_type": "code",
   "execution_count": 34,
   "id": "6b7306e7",
   "metadata": {},
   "outputs": [
    {
     "name": "stdout",
     "output_type": "stream",
     "text": [
      "✅ Các hàm logic điều hướng (đã sửa lỗi) đã được định nghĩa.\n"
     ]
    }
   ],
   "source": [
    "# ==============================================================================\n",
    "# CELL 4.2: LOGIC ĐIỀU HƯỚNG CÓ ĐIỀU KIỆN (ĐÃ SỬA LỖI)\n",
    "# ==============================================================================\n",
    "def route_after_validation(state: \"TeacherStateV5\") -> Literal[\"commit\", \"retry_content\", \"replan_task\"]:\n",
    "    \"\"\"\n",
    "    Hàm điều hướng mới, thông minh hơn sau khi thẩm định nội dung.\n",
    "    - commit: Nội dung hợp lệ.\n",
    "    - replan_task: Nội dung có lỗi cấu trúc/thời gian, cần quay lại bước lập kế hoạch.\n",
    "    - retry_content: Nội dung có lỗi chuyên môn/sư phạm, cần agent chuyên môn thử lại.\n",
    "    \"\"\"\n",
    "    feedback = state.get(\"validation_feedback\")\n",
    "    if feedback is None:\n",
    "        print_step(\"ROUTER (Validation): Nội dung được chấp thuận. Chuyển sang bước ghi nhận.\")\n",
    "        return \"commit\"\n",
    "    \n",
    "    if \"[STRUCTURAL_FEEDBACK]\" in feedback:\n",
    "        print_step(\"ROUTER (Validation): Lỗi cấu trúc, yêu cầu LẬP KẾ HOẠCH LẠI.\")\n",
    "        # Chuyển phản hồi này cho Plan Delegator\n",
    "        state['reflection_notes'] = feedback\n",
    "        return \"replan_task\"\n",
    "    else:\n",
    "        print_step(\"ROUTER (Validation): Nội dung bị từ chối. Quay lại để agent chuyên môn THỬ LẠI.\")\n",
    "        return \"retry_content\"\n",
    "\n",
    "def route_after_router(state: \"TeacherStateV5\") -> Literal[\"continue_executing\", \"compile_and_critique\"]:\n",
    "    if state.get(\"current_task_id\") is None: \n",
    "        return \"compile_and_critique\"\n",
    "    else: \n",
    "        return \"continue_executing\"\n",
    "\n",
    "def route_after_compilation(state: \"TeacherStateV5\") -> Literal[\"finish\", \"replan\"]:\n",
    "    if state.get(\"reflection_notes\"):\n",
    "        print_step(\"ROUTER (Compilation): Phát hiện phản hồi từ Critic lớn. Yêu cầu hệ thống lập kế hoạch lại.\")\n",
    "        return \"replan\"\n",
    "    else:\n",
    "        print_step(\"ROUTER (Compilation): Critic lớn đã hài lòng. Kết thúc quy trình.\")\n",
    "        return \"finish\"\n",
    "\n",
    "print(\"✅ Các hàm logic điều hướng (đã sửa lỗi) đã được định nghĩa.\")"
   ]
  },
  {
   "cell_type": "code",
   "execution_count": 35,
   "id": "30df6071",
   "metadata": {},
   "outputs": [
    {
     "name": "stdout",
     "output_type": "stream",
     "text": [
      "✅ Graph đã được biên dịch thành công với logic 'Hoàn thiện & Ổn định' (v12.0).\n"
     ]
    }
   ],
   "source": [
    "# ==============================================================================\n",
    "# CELL 4.3: LẮP RÁP VÀ BIÊN DỊCH GRAPH (v12.0 - HOÀN THIỆN)\n",
    "# ==============================================================================\n",
    "workflow = StateGraph(TeacherStateV5)\n",
    "\n",
    "# 1. Thêm các node cần thiết\n",
    "# ... (Dán lại toàn bộ danh sách node từ các phiên bản trước)\n",
    "workflow.add_node(\"initializer\", initialize_state_node)\n",
    "workflow.add_node(\"memory_retrieval\", memory_retrieval_agent)\n",
    "workflow.add_node(\"objective_interpreter\", objective_interpreter_agent)\n",
    "workflow.add_node(\"domain_classifier\", domain_classifier_agent)\n",
    "workflow.add_node(\"differentiated_instruction_advisor\", differentiated_instruction_advisor_agent) \n",
    "workflow.add_node(\"pedagogy_strategist\", pedagogy_strategist_agent)\n",
    "workflow.add_node(\"pedagogical_architect\", pedagogical_architect_agent)\n",
    "workflow.add_node(\"query_expansion\", query_expansion_agent)\n",
    "workflow.add_node(\"resource_scout\", resource_scout_agent_v2)\n",
    "workflow.add_node(\"plan_delegator\", plan_delegator_agent)\n",
    "workflow.add_node(\"task_router\", task_router_node)\n",
    "workflow.add_node(\"task_dispatcher\", task_dispatcher_agent)\n",
    "workflow.add_node(\"theory_synthesizer\", theory_synthesizer_agent)\n",
    "workflow.add_node(\"activity_designer\", activity_designer_agent)\n",
    "workflow.add_node(\"assessment_creator\", assessment_creator_agent)\n",
    "workflow.add_node(\"content_validator\", content_validator_agent)\n",
    "workflow.add_node(\"commit_validated_content\", commit_validated_content_node)\n",
    "workflow.add_node(\"mark_task_complete\", mark_task_complete)\n",
    "workflow.add_node(\"structured_plan_compiler\", structured_plan_compiler_agent) \n",
    "workflow.add_node(\"markdown_presenter\", markdown_presentation_node)\n",
    "workflow.add_node(\"save_to_memory\", save_to_memory_node)\n",
    "workflow.add_node(\"delay_node\", delay_node)\n",
    "\n",
    "# 2. Thiết lập các kết nối (edges)\n",
    "workflow.set_entry_point(\"initializer\")\n",
    "workflow.add_edge(\"initializer\", \"memory_retrieval\")\n",
    "workflow.add_edge(\"memory_retrieval\", \"objective_interpreter\")\n",
    "# ... (Nối các edge của luồng phân tích ban đầu)\n",
    "workflow.add_edge(\"objective_interpreter\", \"domain_classifier\")\n",
    "workflow.add_edge(\"domain_classifier\", \"differentiated_instruction_advisor\")\n",
    "workflow.add_edge(\"differentiated_instruction_advisor\", \"pedagogy_strategist\")\n",
    "workflow.add_edge(\"pedagogy_strategist\", \"pedagogical_architect\")\n",
    "workflow.add_edge(\"pedagogical_architect\", \"query_expansion\")\n",
    "workflow.add_edge(\"query_expansion\", \"resource_scout\")\n",
    "workflow.add_edge(\"resource_scout\", \"plan_delegator\")\n",
    "workflow.add_edge(\"plan_delegator\", \"task_router\")\n",
    "\n",
    "# Luồng thực thi nhiệm vụ\n",
    "workflow.add_conditional_edges(\n",
    "    \"task_router\", route_after_router, \n",
    "    { \"continue_executing\": \"task_dispatcher\", \"compile_and_critique\": \"structured_plan_compiler\" }\n",
    ")\n",
    "workflow.add_conditional_edges(\"task_dispatcher\", lambda state: state[\"next_agent\"], {\n",
    "    \"activity_designer\": \"activity_designer\", \n",
    "    \"assessment_creator\": \"assessment_creator\", \n",
    "    \"theory_synthesizer\": \"theory_synthesizer\"\n",
    "})\n",
    "workflow.add_edge(\"theory_synthesizer\", \"content_validator\")\n",
    "workflow.add_edge(\"activity_designer\", \"content_validator\")\n",
    "workflow.add_edge(\"assessment_creator\", \"content_validator\")\n",
    "\n",
    "# Logic điều hướng mới sau khi Guardian Critic thẩm định\n",
    "def route_after_guardian_critique(state: \"TeacherStateV5\") -> Literal[\"commit\", \"retry_content_creation\"]:\n",
    "    if state.get(\"validation_feedback\") is None:\n",
    "        return \"commit\"\n",
    "    else:\n",
    "        return \"retry_content_creation\"\n",
    "\n",
    "workflow.add_conditional_edges(\n",
    "    \"content_validator\",\n",
    "    route_after_guardian_critique,\n",
    "    {\n",
    "        \"commit\": \"commit_validated_content\",\n",
    "        \"retry_content_creation\": \"task_dispatcher\" \n",
    "    }\n",
    ")\n",
    "\n",
    "# Hoàn thành một nhiệm vụ\n",
    "workflow.add_edge(\"commit_validated_content\", \"mark_task_complete\")\n",
    "workflow.add_edge(\"mark_task_complete\", \"delay_node\")\n",
    "workflow.add_edge(\"delay_node\", \"task_router\")\n",
    "\n",
    "# Luồng kết thúc\n",
    "workflow.add_conditional_edges(\n",
    "    \"structured_plan_compiler\", \n",
    "    route_after_compilation,\n",
    "    { \"replan\": \"plan_delegator\", \"finish\": \"markdown_presenter\" }\n",
    ")\n",
    "workflow.add_edge(\"markdown_presenter\", \"save_to_memory\")\n",
    "workflow.add_edge(\"save_to_memory\", END)\n",
    "\n",
    "# Biên dịch graph\n",
    "app = workflow.compile()\n",
    "print(\"✅ Graph đã được biên dịch thành công với logic 'Hoàn thiện & Ổn định' (v12.0).\")"
   ]
  },
  {
   "cell_type": "code",
   "execution_count": 36,
   "id": "ac549fea",
   "metadata": {},
   "outputs": [
    {
     "data": {
      "image/png": "[encoded data removed]",
      "text/plain": [
       "<IPython.core.display.Image object>"
      ]
     },
     "metadata": {},
     "output_type": "display_data"
    }
   ],
   "source": [
    "# ==============================================================================\n",
    "# CELL 4.4: HIỂN THỊ SƠ ĐỒ GRAPH (TÙY CHỌN)\n",
    "# ==============================================================================\n",
    "try:\n",
    "    # Lệnh này sẽ vẽ một sơ đồ của workflow, rất hữu ích để gỡ lỗi\n",
    "    display(Image(app.get_graph().draw_mermaid_png()))\n",
    "except Exception as e:\n",
    "    print(f\"Lỗi vẽ biểu đồ: {e}. Đây là lỗi không nghiêm trọng, bạn vẫn có thể chạy quy trình.\")"
   ]
  },
  {
   "cell_type": "markdown",
   "id": "a5e56adc",
   "metadata": {},
   "source": [
    "## PHẦN 5"
   ]
  },
  {
   "cell_type": "code",
   "execution_count": 37,
   "id": "f27d8fdf",
   "metadata": {},
   "outputs": [
    {
     "name": "stdout",
     "output_type": "stream",
     "text": [
      "✅ Hàm `run_architect` (v12.0) đã sẵn sàng để sử dụng.\n"
     ]
    }
   ],
   "source": [
    "# ==============================================================================\n",
    "# CELL 5.1: ĐỊNH NGHĨA HÀM CHẠY QUY TRÌNH (v12.0 - HOÀN THIỆN)\n",
    "# ==============================================================================\n",
    "async def run_architect(user_request: str):\n",
    "    if 'llm' not in globals() or llm is None:\n",
    "        print_warning(\"LLM chưa được khởi tạo.\")\n",
    "        return\n",
    "    if 'vector_store' not in globals() or vector_store is None:\n",
    "        print_warning(\"Kho tri thức chưa được tải.\")\n",
    "        return\n",
    "    if 'app' not in globals():\n",
    "        print_warning(\"Graph 'app' chưa được biên dịch.\")\n",
    "        return\n",
    "\n",
    "    initial_state = {\"messages\": [HumanMessage(content=user_request)]}\n",
    "    console.print(f\"\\n[bold magenta]🚀 BẮT ĐẦU QUY TRÌNH V12.0 (HOÀN THIỆN) VỚI YÊU CẦU:[/bold magenta]\\n> {user_request}\")\n",
    "    config = {\"recursion_limit\": 150} \n",
    "    \n",
    "    final_markdown_plan = None\n",
    "    final_structured_plan = None\n",
    "    \n",
    "    try:\n",
    "        async for event in app.astream(initial_state, config=config):\n",
    "            for node_name, node_output in event.items():\n",
    "                console.print(f\"\\n[bold yellow]------- Hoàn thành bước: {node_name} -------[/bold yellow]\")\n",
    "                if node_name == \"markdown_presenter\":\n",
    "                    final_markdown_plan = node_output.get(\"final_markdown_plan\")\n",
    "                    final_structured_plan = node_output.get(\"final_structured_plan\")\n",
    "\n",
    "        console.print(\"\\n[bold magenta]🏁 KẾT THÚC QUY TRÌNH.[/bold magenta]\")\n",
    "        \n",
    "        if final_markdown_plan:\n",
    "            console.print(\"\\n[bold green]📝 GIÁO ÁN HOÀN CHỈNH (v12.0)[/bold green]\")\n",
    "            console.print(Markdown(final_markdown_plan))\n",
    "            \n",
    "            if VERBOSE_MODE and final_structured_plan:\n",
    "                print_result(final_structured_plan, \"Output JSON có cấu trúc\")\n",
    "        else:\n",
    "            print_warning(\"Không tạo được giáo án cuối cùng. Vui lòng kiểm tra log để gỡ lỗi.\")\n",
    "            \n",
    "    except Exception as e:\n",
    "        print_warning(f\"Đã xảy ra lỗi nghiêm trọng trong quá trình chạy graph: {e}\")\n",
    "        import traceback\n",
    "        traceback.print_exc()\n",
    "\n",
    "print(\"✅ Hàm `run_architect` (v12.0) đã sẵn sàng để sử dụng.\")"
   ]
  },
  {
   "cell_type": "code",
   "execution_count": 38,
   "id": "43c8121e",
   "metadata": {},
   "outputs": [
    {
     "data": {
      "text/html": [
       "<pre style=\"white-space:pre;overflow-x:auto;line-height:normal;font-family:Menlo,'DejaVu Sans Mono',consolas,'Courier New',monospace\">\n",
       "<span style=\"color: #800080; text-decoration-color: #800080; font-weight: bold\">🚀 BẮT ĐẦU QUY TRÌNH V12.</span><span style=\"color: #800080; text-decoration-color: #800080; font-weight: bold\">0</span><span style=\"color: #800080; text-decoration-color: #800080; font-weight: bold\"> (HOÀN THIỆN) VỚI YÊU CẦU:</span>\n",
       "&gt; Soạn giúp tôi giáo án bài <span style=\"color: #008000; text-decoration-color: #008000\">'Đường tròn ngoại tiếp và đường tròn nội tiếp'</span> cho học sinh lớp <span style=\"color: #008080; text-decoration-color: #008080; font-weight: bold\">9</span> trong <span style=\"color: #008080; text-decoration-color: #008080; font-weight: bold\">90</span> phút. Đây là\n",
       "một lớp học khá yếu, các em thường mất tập trung và cần các hoạt động có tính tương tác cao.\n",
       "</pre>\n"
      ],
      "text/plain": [
       "\n",
       "\u001b[1;35m🚀 BẮT ĐẦU QUY TRÌNH V12.\u001b[0m\u001b[1;35m0\u001b[0m\u001b[1;35m \u001b[0m\u001b[1;35m(\u001b[0m\u001b[1;35mHOÀN THIỆN\u001b[0m\u001b[1;35m)\u001b[0m\u001b[1;35m VỚI YÊU CẦU:\u001b[0m\n",
       "> Soạn giúp tôi giáo án bài \u001b[32m'Đường tròn ngoại tiếp và đường tròn nội tiếp'\u001b[0m cho học sinh lớp \u001b[1;36m9\u001b[0m trong \u001b[1;36m90\u001b[0m phút. Đây là\n",
       "một lớp học khá yếu, các em thường mất tập trung và cần các hoạt động có tính tương tác cao.\n"
      ]
     },
     "metadata": {},
     "output_type": "display_data"
    },
    {
     "data": {
      "text/html": [
       "<pre style=\"white-space:pre;overflow-x:auto;line-height:normal;font-family:Menlo,'DejaVu Sans Mono',consolas,'Courier New',monospace\">\n",
       "<span style=\"color: #008080; text-decoration-color: #008080; font-weight: bold\">&gt;</span> `Initializer`: Đang khởi tạo trạng thái và lấy yêu cầu gốc<span style=\"color: #808000; text-decoration-color: #808000\">...</span>\n",
       "</pre>\n"
      ],
      "text/plain": [
       "\n",
       "\u001b[1;36m>\u001b[0m `Initializer`: Đang khởi tạo trạng thái và lấy yêu cầu gốc\u001b[33m...\u001b[0m\n"
      ]
     },
     "metadata": {},
     "output_type": "display_data"
    },
    {
     "data": {
      "text/html": [
       "<pre style=\"white-space:pre;overflow-x:auto;line-height:normal;font-family:Menlo,'DejaVu Sans Mono',consolas,'Courier New',monospace\">\n",
       "<span style=\"color: #808000; text-decoration-color: #808000; font-weight: bold\">------- Hoàn thành bước: initializer -------</span>\n",
       "</pre>\n"
      ],
      "text/plain": [
       "\n",
       "\u001b[1;33m------- Hoàn thành bước: initializer -------\u001b[0m\n"
      ]
     },
     "metadata": {},
     "output_type": "display_data"
    },
    {
     "data": {
      "text/html": [
       "<pre style=\"white-space:pre;overflow-x:auto;line-height:normal;font-family:Menlo,'DejaVu Sans Mono',consolas,'Courier New',monospace\">\n",
       "<span style=\"color: #008080; text-decoration-color: #008080; font-weight: bold\">&gt;</span> `Agent: Memory Retrieval` <span style=\"font-weight: bold\">(</span>v9.<span style=\"color: #008080; text-decoration-color: #008080; font-weight: bold\">4</span><span style=\"font-weight: bold\">)</span> đang tìm kiếm trong trí nhớ<span style=\"color: #808000; text-decoration-color: #808000\">...</span>\n",
       "</pre>\n"
      ],
      "text/plain": [
       "\n",
       "\u001b[1;36m>\u001b[0m `Agent: Memory Retrieval` \u001b[1m(\u001b[0mv9.\u001b[1;36m4\u001b[0m\u001b[1m)\u001b[0m đang tìm kiếm trong trí nhớ\u001b[33m...\u001b[0m\n"
      ]
     },
     "metadata": {},
     "output_type": "display_data"
    },
    {
     "data": {
      "text/html": [
       "<pre style=\"white-space:pre;overflow-x:auto;line-height:normal;font-family:Menlo,'DejaVu Sans Mono',consolas,'Courier New',monospace\"><span style=\"color: #008000; text-decoration-color: #008000; font-weight: bold\">✔️ Tìm thấy ví dụ tương đồng trong trí nhớ:</span>\n",
       "</pre>\n"
      ],
      "text/plain": [
       "\u001b[1;32m✔️ Tìm thấy ví dụ tương đồng trong trí nhớ:\u001b[0m\n"
      ]
     },
     "metadata": {},
     "output_type": "display_data"
    },
    {
     "data": {
      "text/html": [
       "<pre style=\"white-space:pre;overflow-x:auto;line-height:normal;font-family:Menlo,'DejaVu Sans Mono',consolas,'Courier New',monospace\"><span style=\"color: #008000; text-decoration-color: #008000\">\"Soạn giúp tôi giáo án bài 'Đường tròn ngoại tiếp và đường tròn nội tiếp' cho học sinh lớp 9 trong 90 phút. Đây là một lớp học khá yếu, các em thường mất tập trung và cần các hoạt động có tính tương tác cao.\"</span>\n",
       "</pre>\n"
      ],
      "text/plain": [
       "\u001b[32m\"Soạn giúp tôi giáo án bài 'Đường tròn ngoại tiếp và đường tròn nội tiếp' cho học sinh lớp 9 trong 90 phút. Đây là một lớp học khá yếu, các em thường mất tập trung và cần các hoạt động có tính tương tác cao.\"\u001b[0m\n"
      ]
     },
     "metadata": {},
     "output_type": "display_data"
    },
    {
     "data": {
      "text/html": [
       "<pre style=\"white-space:pre;overflow-x:auto;line-height:normal;font-family:Menlo,'DejaVu Sans Mono',consolas,'Courier New',monospace\">\n",
       "<span style=\"color: #808000; text-decoration-color: #808000; font-weight: bold\">------- Hoàn thành bước: memory_retrieval -------</span>\n",
       "</pre>\n"
      ],
      "text/plain": [
       "\n",
       "\u001b[1;33m------- Hoàn thành bước: memory_retrieval -------\u001b[0m\n"
      ]
     },
     "metadata": {},
     "output_type": "display_data"
    },
    {
     "data": {
      "text/html": [
       "<pre style=\"white-space:pre;overflow-x:auto;line-height:normal;font-family:Menlo,'DejaVu Sans Mono',consolas,'Courier New',monospace\">\n",
       "<span style=\"color: #008080; text-decoration-color: #008080; font-weight: bold\">&gt;</span> `Agent: Objective Interpreter` <span style=\"font-weight: bold\">(</span>v7.<span style=\"color: #008080; text-decoration-color: #008080; font-weight: bold\">5</span><span style=\"font-weight: bold\">)</span> đang phân tích mục tiêu<span style=\"color: #808000; text-decoration-color: #808000\">...</span>\n",
       "</pre>\n"
      ],
      "text/plain": [
       "\n",
       "\u001b[1;36m>\u001b[0m `Agent: Objective Interpreter` \u001b[1m(\u001b[0mv7.\u001b[1;36m5\u001b[0m\u001b[1m)\u001b[0m đang phân tích mục tiêu\u001b[33m...\u001b[0m\n"
      ]
     },
     "metadata": {},
     "output_type": "display_data"
    },
    {
     "data": {
      "text/html": [
       "<pre style=\"white-space:pre;overflow-x:auto;line-height:normal;font-family:Menlo,'DejaVu Sans Mono',consolas,'Courier New',monospace\"><span style=\"color: #008000; text-decoration-color: #008000; font-weight: bold\">✔️ Mục tiêu &amp; Ràng buộc đã phân tích:</span>\n",
       "</pre>\n"
      ],
      "text/plain": [
       "\u001b[1;32m✔️ Mục tiêu & Ràng buộc đã phân tích:\u001b[0m\n"
      ]
     },
     "metadata": {},
     "output_type": "display_data"
    },
    {
     "data": {
      "text/html": [
       "<pre style=\"white-space:pre;overflow-x:auto;line-height:normal;font-family:Menlo,'DejaVu Sans Mono',consolas,'Courier New',monospace\"><span style=\"font-weight: bold\">{</span>\n",
       "<span style=\"color: #7fbf7f; text-decoration-color: #7fbf7f\">│   </span><span style=\"color: #008000; text-decoration-color: #008000\">'action_verb'</span>: <span style=\"color: #008000; text-decoration-color: #008000\">'Soạn'</span>,\n",
       "<span style=\"color: #7fbf7f; text-decoration-color: #7fbf7f\">│   </span><span style=\"color: #008000; text-decoration-color: #008000\">'bloom_level'</span>: <span style=\"color: #008080; text-decoration-color: #008080; font-weight: bold\">3</span>,\n",
       "<span style=\"color: #7fbf7f; text-decoration-color: #7fbf7f\">│   </span><span style=\"color: #008000; text-decoration-color: #008000\">'topic'</span>: <span style=\"color: #008000; text-decoration-color: #008000\">'Đường tròn ngoại tiếp và đường tròn nội tiếp'</span>,\n",
       "<span style=\"color: #7fbf7f; text-decoration-color: #7fbf7f\">│   </span><span style=\"color: #008000; text-decoration-color: #008000\">'grade_level'</span>: <span style=\"color: #008000; text-decoration-color: #008000\">'Lớp 9'</span>,\n",
       "<span style=\"color: #7fbf7f; text-decoration-color: #7fbf7f\">│   </span><span style=\"color: #008000; text-decoration-color: #008000\">'constraints'</span>: <span style=\"font-weight: bold\">{</span>\n",
       "<span style=\"color: #7fbf7f; text-decoration-color: #7fbf7f\">│   │   </span><span style=\"color: #008000; text-decoration-color: #008000\">'duration_minutes'</span>: <span style=\"color: #008080; text-decoration-color: #008080; font-weight: bold\">90</span>\n",
       "<span style=\"color: #7fbf7f; text-decoration-color: #7fbf7f\">│   </span><span style=\"font-weight: bold\">}</span>\n",
       "<span style=\"font-weight: bold\">}</span>\n",
       "</pre>\n"
      ],
      "text/plain": [
       "\u001b[1m{\u001b[0m\n",
       "\u001b[2;32m│   \u001b[0m\u001b[32m'action_verb'\u001b[0m: \u001b[32m'Soạn'\u001b[0m,\n",
       "\u001b[2;32m│   \u001b[0m\u001b[32m'bloom_level'\u001b[0m: \u001b[1;36m3\u001b[0m,\n",
       "\u001b[2;32m│   \u001b[0m\u001b[32m'topic'\u001b[0m: \u001b[32m'Đường tròn ngoại tiếp và đường tròn nội tiếp'\u001b[0m,\n",
       "\u001b[2;32m│   \u001b[0m\u001b[32m'grade_level'\u001b[0m: \u001b[32m'Lớp 9'\u001b[0m,\n",
       "\u001b[2;32m│   \u001b[0m\u001b[32m'constraints'\u001b[0m: \u001b[1m{\u001b[0m\n",
       "\u001b[2;32m│   │   \u001b[0m\u001b[32m'duration_minutes'\u001b[0m: \u001b[1;36m90\u001b[0m\n",
       "\u001b[2;32m│   \u001b[0m\u001b[1m}\u001b[0m\n",
       "\u001b[1m}\u001b[0m\n"
      ]
     },
     "metadata": {},
     "output_type": "display_data"
    },
    {
     "data": {
      "text/html": [
       "<pre style=\"white-space:pre;overflow-x:auto;line-height:normal;font-family:Menlo,'DejaVu Sans Mono',consolas,'Courier New',monospace\">\n",
       "<span style=\"color: #808000; text-decoration-color: #808000; font-weight: bold\">------- Hoàn thành bước: objective_interpreter -------</span>\n",
       "</pre>\n"
      ],
      "text/plain": [
       "\n",
       "\u001b[1;33m------- Hoàn thành bước: objective_interpreter -------\u001b[0m\n"
      ]
     },
     "metadata": {},
     "output_type": "display_data"
    },
    {
     "data": {
      "text/html": [
       "<pre style=\"white-space:pre;overflow-x:auto;line-height:normal;font-family:Menlo,'DejaVu Sans Mono',consolas,'Courier New',monospace\">\n",
       "<span style=\"color: #008080; text-decoration-color: #008080; font-weight: bold\">&gt;</span> `Agent: Domain Classifier` <span style=\"font-weight: bold\">(</span>v7.<span style=\"color: #008080; text-decoration-color: #008080; font-weight: bold\">5</span><span style=\"font-weight: bold\">)</span> đang xác định lĩnh vực chuyên môn<span style=\"color: #808000; text-decoration-color: #808000\">...</span>\n",
       "</pre>\n"
      ],
      "text/plain": [
       "\n",
       "\u001b[1;36m>\u001b[0m `Agent: Domain Classifier` \u001b[1m(\u001b[0mv7.\u001b[1;36m5\u001b[0m\u001b[1m)\u001b[0m đang xác định lĩnh vực chuyên môn\u001b[33m...\u001b[0m\n"
      ]
     },
     "metadata": {},
     "output_type": "display_data"
    },
    {
     "data": {
      "text/html": [
       "<pre style=\"white-space:pre;overflow-x:auto;line-height:normal;font-family:Menlo,'DejaVu Sans Mono',consolas,'Courier New',monospace\"><span style=\"color: #008000; text-decoration-color: #008000; font-weight: bold\">✔️ Lĩnh vực chuyên môn được xác định:</span>\n",
       "</pre>\n"
      ],
      "text/plain": [
       "\u001b[1;32m✔️ Lĩnh vực chuyên môn được xác định:\u001b[0m\n"
      ]
     },
     "metadata": {},
     "output_type": "display_data"
    },
    {
     "data": {
      "text/html": [
       "<pre style=\"white-space:pre;overflow-x:auto;line-height:normal;font-family:Menlo,'DejaVu Sans Mono',consolas,'Courier New',monospace\"><span style=\"color: #008000; text-decoration-color: #008000\">'Toán học'</span>\n",
       "</pre>\n"
      ],
      "text/plain": [
       "\u001b[32m'Toán học'\u001b[0m\n"
      ]
     },
     "metadata": {},
     "output_type": "display_data"
    },
    {
     "data": {
      "text/html": [
       "<pre style=\"white-space:pre;overflow-x:auto;line-height:normal;font-family:Menlo,'DejaVu Sans Mono',consolas,'Courier New',monospace\">\n",
       "<span style=\"color: #808000; text-decoration-color: #808000; font-weight: bold\">------- Hoàn thành bước: domain_classifier -------</span>\n",
       "</pre>\n"
      ],
      "text/plain": [
       "\n",
       "\u001b[1;33m------- Hoàn thành bước: domain_classifier -------\u001b[0m\n"
      ]
     },
     "metadata": {},
     "output_type": "display_data"
    },
    {
     "data": {
      "text/html": [
       "<pre style=\"white-space:pre;overflow-x:auto;line-height:normal;font-family:Menlo,'DejaVu Sans Mono',consolas,'Courier New',monospace\">\n",
       "<span style=\"color: #008080; text-decoration-color: #008080; font-weight: bold\">&gt;</span> `Agent: Differentiated Instruction Advisor` <span style=\"font-weight: bold\">(</span>v9.<span style=\"color: #008080; text-decoration-color: #008080; font-weight: bold\">1</span><span style=\"font-weight: bold\">)</span> đang phân tích và đề xuất chiến lược phân hóa<span style=\"color: #808000; text-decoration-color: #808000\">...</span>\n",
       "</pre>\n"
      ],
      "text/plain": [
       "\n",
       "\u001b[1;36m>\u001b[0m `Agent: Differentiated Instruction Advisor` \u001b[1m(\u001b[0mv9.\u001b[1;36m1\u001b[0m\u001b[1m)\u001b[0m đang phân tích và đề xuất chiến lược phân hóa\u001b[33m...\u001b[0m\n"
      ]
     },
     "metadata": {},
     "output_type": "display_data"
    },
    {
     "data": {
      "text/html": [
       "<pre style=\"white-space:pre;overflow-x:auto;line-height:normal;font-family:Menlo,'DejaVu Sans Mono',consolas,'Courier New',monospace\"><span style=\"color: #008000; text-decoration-color: #008000; font-weight: bold\">✔️ Hồ sơ lớp học và Chiến lược Phân hóa:</span>\n",
       "</pre>\n"
      ],
      "text/plain": [
       "\u001b[1;32m✔️ Hồ sơ lớp học và Chiến lược Phân hóa:\u001b[0m\n"
      ]
     },
     "metadata": {},
     "output_type": "display_data"
    },
    {
     "data": {
      "text/html": [
       "<pre style=\"white-space:pre;overflow-x:auto;line-height:normal;font-family:Menlo,'DejaVu Sans Mono',consolas,'Courier New',monospace\"><span style=\"font-weight: bold\">{</span>\n",
       "<span style=\"color: #7fbf7f; text-decoration-color: #7fbf7f\">│   </span><span style=\"color: #008000; text-decoration-color: #008000\">'learning_pace'</span>: <span style=\"color: #008000; text-decoration-color: #008000\">'chậm'</span>,\n",
       "<span style=\"color: #7fbf7f; text-decoration-color: #7fbf7f\">│   </span><span style=\"color: #008000; text-decoration-color: #008000\">'engagement_style'</span>: <span style=\"color: #008000; text-decoration-color: #008000\">'thụ động'</span>,\n",
       "<span style=\"color: #7fbf7f; text-decoration-color: #7fbf7f\">│   </span><span style=\"color: #008000; text-decoration-color: #008000\">'special_notes'</span>: <span style=\"color: #008000; text-decoration-color: #008000\">'Lớp học có tốc độ tiếp thu chậm, dễ mất tập trung, cần các hoạt động tương tác cao để duy trì sự chú ý và hứng thú.'</span>,\n",
       "<span style=\"color: #7fbf7f; text-decoration-color: #7fbf7f\">│   </span><span style=\"color: #008000; text-decoration-color: #008000\">'differentiation_strategy'</span>: <span style=\"font-weight: bold\">{</span>\n",
       "<span style=\"color: #7fbf7f; text-decoration-color: #7fbf7f\">│   │   </span><span style=\"color: #008000; text-decoration-color: #008000\">'for_struggling_students'</span>: <span style=\"color: #008000; text-decoration-color: #008000\">'Chia nhỏ kiến thức thành các phần nhỏ, sử dụng nhiều hình ảnh trực quan và mô hình. Cung cấp phiếu bài tập có gợi ý, ví dụ minh họa chi tiết. Tổ chức các hoạt động nhóm nhỏ với vai trò rõ ràng, giáo viên thường xuyên kiểm tra, hỗ trợ trực tiếp và kịp thời. Cho phép thêm thời gian cho các bài tập khó.'</span>,\n",
       "<span style=\"color: #7fbf7f; text-decoration-color: #7fbf7f\">│   │   </span><span style=\"color: #008000; text-decoration-color: #008000\">'for_advanced_students'</span>: <span style=\"color: #008000; text-decoration-color: #008000\">'Giao các bài tập nâng cao, bài toán chứng minh hoặc bài toán ứng dụng thực tế có nhiều bước. Khuyến khích các em tự tìm tòi, khám phá các tính chất mở rộng hoặc mối liên hệ giữa các khái niệm. Cho phép các em hỗ trợ, hướng dẫn các bạn trong nhóm (có sự giám sát của giáo viên). Chuẩn bị các câu hỏi mở rộng để kích thích tư duy phản biện.'</span>\n",
       "<span style=\"color: #7fbf7f; text-decoration-color: #7fbf7f\">│   </span><span style=\"font-weight: bold\">}</span>\n",
       "<span style=\"font-weight: bold\">}</span>\n",
       "</pre>\n"
      ],
      "text/plain": [
       "\u001b[1m{\u001b[0m\n",
       "\u001b[2;32m│   \u001b[0m\u001b[32m'learning_pace'\u001b[0m: \u001b[32m'chậm'\u001b[0m,\n",
       "\u001b[2;32m│   \u001b[0m\u001b[32m'engagement_style'\u001b[0m: \u001b[32m'thụ động'\u001b[0m,\n",
       "\u001b[2;32m│   \u001b[0m\u001b[32m'special_notes'\u001b[0m: \u001b[32m'Lớp học có tốc độ tiếp thu chậm, dễ mất tập trung, cần các hoạt động tương tác cao để duy trì sự chú ý và hứng thú.'\u001b[0m,\n",
       "\u001b[2;32m│   \u001b[0m\u001b[32m'differentiation_strategy'\u001b[0m: \u001b[1m{\u001b[0m\n",
       "\u001b[2;32m│   │   \u001b[0m\u001b[32m'for_struggling_students'\u001b[0m: \u001b[32m'Chia nhỏ kiến thức thành các phần nhỏ, sử dụng nhiều hình ảnh trực quan và mô hình. Cung cấp phiếu bài tập có gợi ý, ví dụ minh họa chi tiết. Tổ chức các hoạt động nhóm nhỏ với vai trò rõ ràng, giáo viên thường xuyên kiểm tra, hỗ trợ trực tiếp và kịp thời. Cho phép thêm thời gian cho các bài tập khó.'\u001b[0m,\n",
       "\u001b[2;32m│   │   \u001b[0m\u001b[32m'for_advanced_students'\u001b[0m: \u001b[32m'Giao các bài tập nâng cao, bài toán chứng minh hoặc bài toán ứng dụng thực tế có nhiều bước. Khuyến khích các em tự tìm tòi, khám phá các tính chất mở rộng hoặc mối liên hệ giữa các khái niệm. Cho phép các em hỗ trợ, hướng dẫn các bạn trong nhóm \u001b[0m\u001b[32m(\u001b[0m\u001b[32mcó sự giám sát của giáo viên\u001b[0m\u001b[32m)\u001b[0m\u001b[32m. Chuẩn bị các câu hỏi mở rộng để kích thích tư duy phản biện.'\u001b[0m\n",
       "\u001b[2;32m│   \u001b[0m\u001b[1m}\u001b[0m\n",
       "\u001b[1m}\u001b[0m\n"
      ]
     },
     "metadata": {},
     "output_type": "display_data"
    },
    {
     "data": {
      "text/html": [
       "<pre style=\"white-space:pre;overflow-x:auto;line-height:normal;font-family:Menlo,'DejaVu Sans Mono',consolas,'Courier New',monospace\">\n",
       "<span style=\"color: #808000; text-decoration-color: #808000; font-weight: bold\">------- Hoàn thành bước: differentiated_instruction_advisor -------</span>\n",
       "</pre>\n"
      ],
      "text/plain": [
       "\n",
       "\u001b[1;33m------- Hoàn thành bước: differentiated_instruction_advisor -------\u001b[0m\n"
      ]
     },
     "metadata": {},
     "output_type": "display_data"
    },
    {
     "data": {
      "text/html": [
       "<pre style=\"white-space:pre;overflow-x:auto;line-height:normal;font-family:Menlo,'DejaVu Sans Mono',consolas,'Courier New',monospace\">\n",
       "<span style=\"color: #008080; text-decoration-color: #008080; font-weight: bold\">&gt;</span> `Agent: Pedagogy Strategist` <span style=\"font-weight: bold\">(</span>v7.<span style=\"color: #008080; text-decoration-color: #008080; font-weight: bold\">5</span><span style=\"font-weight: bold\">)</span> đang xây dựng chiến lược sư phạm chi tiết<span style=\"color: #808000; text-decoration-color: #808000\">...</span>\n",
       "</pre>\n"
      ],
      "text/plain": [
       "\n",
       "\u001b[1;36m>\u001b[0m `Agent: Pedagogy Strategist` \u001b[1m(\u001b[0mv7.\u001b[1;36m5\u001b[0m\u001b[1m)\u001b[0m đang xây dựng chiến lược sư phạm chi tiết\u001b[33m...\u001b[0m\n"
      ]
     },
     "metadata": {},
     "output_type": "display_data"
    },
    {
     "data": {
      "text/html": [
       "<pre style=\"white-space:pre;overflow-x:auto;line-height:normal;font-family:Menlo,'DejaVu Sans Mono',consolas,'Courier New',monospace\"><span style=\"color: #008000; text-decoration-color: #008000; font-weight: bold\">✔️ Chiến lược sư phạm chi tiết:</span>\n",
       "</pre>\n"
      ],
      "text/plain": [
       "\u001b[1;32m✔️ Chiến lược sư phạm chi tiết:\u001b[0m\n"
      ]
     },
     "metadata": {},
     "output_type": "display_data"
    },
    {
     "data": {
      "text/html": [
       "<pre style=\"white-space:pre;overflow-x:auto;line-height:normal;font-family:Menlo,'DejaVu Sans Mono',consolas,'Courier New',monospace\"><span style=\"font-weight: bold\">{</span>\n",
       "<span style=\"color: #7fbf7f; text-decoration-color: #7fbf7f\">│   </span><span style=\"color: #008000; text-decoration-color: #008000\">'name'</span>: <span style=\"color: #008000; text-decoration-color: #008000\">'Dạy học hợp tác (Cooperative Learning)'</span>,\n",
       "<span style=\"color: #7fbf7f; text-decoration-color: #7fbf7f\">│   </span><span style=\"color: #008000; text-decoration-color: #008000\">'rationale'</span>: <span style=\"color: #008000; text-decoration-color: #008000\">\"Phương pháp Dạy học hợp tác là lựa chọn phù hợp nhất cho lớp học này vì nó trực tiếp giải quyết các đặc điểm của học sinh: tốc độ tiếp thu chậm, dễ mất tập trung và phong cách học thụ động. Bằng cách chia học sinh thành các nhóm nhỏ, mỗi em đều có vai trò và trách nhiệm, khuyến khích sự tương tác và tham gia tích cực. Học sinh có thể hỗ trợ lẫn nhau, giúp các em tiếp thu chậm dễ dàng hơn trong việc nắm bắt kiến thức, đồng thời tạo cơ hội cho học sinh khá giỏi củng cố và mở rộng hiểu biết thông qua việc hướng dẫn bạn bè. Các hoạt động nhóm đa dạng, có sự giám sát và hỗ trợ của giáo viên sẽ duy trì sự chú ý và hứng thú của học sinh trong suốt 90 phút, giúp các em 'soạn' (tức là xây dựng, tổng hợp) kiến thức về đường tròn ngoại tiếp và nội tiếp một cách chủ động và hiệu quả.\"</span>,\n",
       "<span style=\"color: #7fbf7f; text-decoration-color: #7fbf7f\">│   </span><span style=\"color: #008000; text-decoration-color: #008000\">'key_actions'</span>: <span style=\"font-weight: bold\">[</span>\n",
       "<span style=\"color: #7fbf7f; text-decoration-color: #7fbf7f\">│   │   </span><span style=\"color: #008000; text-decoration-color: #008000\">'Giới thiệu bài toán/tình huống thực tế liên quan đến đường tròn ngoại tiếp và nội tiếp để tạo động lực và định hướng.'</span>,\n",
       "<span style=\"color: #7fbf7f; text-decoration-color: #7fbf7f\">│   │   </span><span style=\"color: #008000; text-decoration-color: #008000\">\"Chia lớp thành các nhóm nhỏ (4-5 học sinh) và phân công nhiệm vụ cụ thể cho mỗi nhóm (ví dụ: nhóm 1 tìm hiểu cách xác định tâm và bán kính đường tròn ngoại tiếp tam giác; nhóm 2 tìm hiểu cách xác định tâm và bán kính đường tròn nội tiếp tam giác; nhóm 3 'soạn' các bước vẽ hoặc giải một dạng bài tập cụ thể).\"</span>,\n",
       "<span style=\"color: #7fbf7f; text-decoration-color: #7fbf7f\">│   │   </span><span style=\"color: #008000; text-decoration-color: #008000\">\"Các nhóm cùng nhau thảo luận, sử dụng tài liệu, dụng cụ (thước, compa) để thực hành vẽ, khám phá tính chất và 'soạn' ra các khái niệm, tính chất, cách vẽ, hoặc các bước giải bài tập liên quan đến nhiệm vụ được giao. Giáo viên quan sát, gợi ý, hỗ trợ kịp thời cho từng nhóm, đặc biệt là các nhóm học sinh chậm.\"</span>,\n",
       "<span style=\"color: #7fbf7f; text-decoration-color: #7fbf7f\">│   │   </span><span style=\"color: #008000; text-decoration-color: #008000\">'Đại diện các nhóm trình bày sản phẩm của mình (có thể là bản vẽ, sơ đồ tư duy, các bước giải chi tiết, hoặc bảng tổng hợp tính chất) trước lớp.'</span>,\n",
       "<span style=\"color: #7fbf7f; text-decoration-color: #7fbf7f\">│   │   </span><span style=\"color: #008000; text-decoration-color: #008000\">'Cả lớp cùng giáo viên thảo luận, nhận xét, bổ sung cho các phần trình bày của các nhóm. Giáo viên tổng kết, hệ thống hóa kiến thức trọng tâm về đường tròn ngoại tiếp và nội tiếp, đồng thời sửa chữa các sai sót (nếu có).'</span>\n",
       "<span style=\"color: #7fbf7f; text-decoration-color: #7fbf7f\">│   </span><span style=\"font-weight: bold\">]</span>\n",
       "<span style=\"font-weight: bold\">}</span>\n",
       "</pre>\n"
      ],
      "text/plain": [
       "\u001b[1m{\u001b[0m\n",
       "\u001b[2;32m│   \u001b[0m\u001b[32m'name'\u001b[0m: \u001b[32m'Dạy học hợp tác \u001b[0m\u001b[32m(\u001b[0m\u001b[32mCooperative Learning\u001b[0m\u001b[32m)\u001b[0m\u001b[32m'\u001b[0m,\n",
       "\u001b[2;32m│   \u001b[0m\u001b[32m'rationale'\u001b[0m: \u001b[32m\"Phương pháp Dạy học hợp tác là lựa chọn phù hợp nhất cho lớp học này vì nó trực tiếp giải quyết các đặc điểm của học sinh: tốc độ tiếp thu chậm, dễ mất tập trung và phong cách học thụ động. Bằng cách chia học sinh thành các nhóm nhỏ, mỗi em đều có vai trò và trách nhiệm, khuyến khích sự tương tác và tham gia tích cực. Học sinh có thể hỗ trợ lẫn nhau, giúp các em tiếp thu chậm dễ dàng hơn trong việc nắm bắt kiến thức, đồng thời tạo cơ hội cho học sinh khá giỏi củng cố và mở rộng hiểu biết thông qua việc hướng dẫn bạn bè. Các hoạt động nhóm đa dạng, có sự giám sát và hỗ trợ của giáo viên sẽ duy trì sự chú ý và hứng thú của học sinh trong suốt 90 phút, giúp các em 'soạn' \u001b[0m\u001b[32m(\u001b[0m\u001b[32mtức là xây dựng, tổng hợp\u001b[0m\u001b[32m)\u001b[0m\u001b[32m kiến thức về đường tròn ngoại tiếp và nội tiếp một cách chủ động và hiệu quả.\"\u001b[0m,\n",
       "\u001b[2;32m│   \u001b[0m\u001b[32m'key_actions'\u001b[0m: \u001b[1m[\u001b[0m\n",
       "\u001b[2;32m│   │   \u001b[0m\u001b[32m'Giới thiệu bài toán/tình huống thực tế liên quan đến đường tròn ngoại tiếp và nội tiếp để tạo động lực và định hướng.'\u001b[0m,\n",
       "\u001b[2;32m│   │   \u001b[0m\u001b[32m\"Chia lớp thành các nhóm nhỏ \u001b[0m\u001b[32m(\u001b[0m\u001b[32m4-5 học sinh\u001b[0m\u001b[32m)\u001b[0m\u001b[32m và phân công nhiệm vụ cụ thể cho mỗi nhóm \u001b[0m\u001b[32m(\u001b[0m\u001b[32mví dụ: nhóm 1 tìm hiểu cách xác định tâm và bán kính đường tròn ngoại tiếp tam giác; nhóm 2 tìm hiểu cách xác định tâm và bán kính đường tròn nội tiếp tam giác; nhóm 3 'soạn' các bước vẽ hoặc giải một dạng bài tập cụ thể\u001b[0m\u001b[32m)\u001b[0m\u001b[32m.\"\u001b[0m,\n",
       "\u001b[2;32m│   │   \u001b[0m\u001b[32m\"Các nhóm cùng nhau thảo luận, sử dụng tài liệu, dụng cụ \u001b[0m\u001b[32m(\u001b[0m\u001b[32mthước, compa\u001b[0m\u001b[32m)\u001b[0m\u001b[32m để thực hành vẽ, khám phá tính chất và 'soạn' ra các khái niệm, tính chất, cách vẽ, hoặc các bước giải bài tập liên quan đến nhiệm vụ được giao. Giáo viên quan sát, gợi ý, hỗ trợ kịp thời cho từng nhóm, đặc biệt là các nhóm học sinh chậm.\"\u001b[0m,\n",
       "\u001b[2;32m│   │   \u001b[0m\u001b[32m'Đại diện các nhóm trình bày sản phẩm của mình \u001b[0m\u001b[32m(\u001b[0m\u001b[32mcó thể là bản vẽ, sơ đồ tư duy, các bước giải chi tiết, hoặc bảng tổng hợp tính chất\u001b[0m\u001b[32m)\u001b[0m\u001b[32m trước lớp.'\u001b[0m,\n",
       "\u001b[2;32m│   │   \u001b[0m\u001b[32m'Cả lớp cùng giáo viên thảo luận, nhận xét, bổ sung cho các phần trình bày của các nhóm. Giáo viên tổng kết, hệ thống hóa kiến thức trọng tâm về đường tròn ngoại tiếp và nội tiếp, đồng thời sửa chữa các sai sót \u001b[0m\u001b[32m(\u001b[0m\u001b[32mnếu có\u001b[0m\u001b[32m)\u001b[0m\u001b[32m.'\u001b[0m\n",
       "\u001b[2;32m│   \u001b[0m\u001b[1m]\u001b[0m\n",
       "\u001b[1m}\u001b[0m\n"
      ]
     },
     "metadata": {},
     "output_type": "display_data"
    },
    {
     "data": {
      "text/html": [
       "<pre style=\"white-space:pre;overflow-x:auto;line-height:normal;font-family:Menlo,'DejaVu Sans Mono',consolas,'Courier New',monospace\">\n",
       "<span style=\"color: #808000; text-decoration-color: #808000; font-weight: bold\">------- Hoàn thành bước: pedagogy_strategist -------</span>\n",
       "</pre>\n"
      ],
      "text/plain": [
       "\n",
       "\u001b[1;33m------- Hoàn thành bước: pedagogy_strategist -------\u001b[0m\n"
      ]
     },
     "metadata": {},
     "output_type": "display_data"
    },
    {
     "data": {
      "text/html": [
       "<pre style=\"white-space:pre;overflow-x:auto;line-height:normal;font-family:Menlo,'DejaVu Sans Mono',consolas,'Courier New',monospace\">\n",
       "<span style=\"color: #008080; text-decoration-color: #008080; font-weight: bold\">&gt;</span> `Agent: Pedagogical Architect` <span style=\"font-weight: bold\">(</span>v9.<span style=\"color: #008080; text-decoration-color: #008080; font-weight: bold\">4</span><span style=\"font-weight: bold\">)</span> đang thiết kế kịch bản buổi học<span style=\"color: #808000; text-decoration-color: #808000\">...</span>\n",
       "</pre>\n"
      ],
      "text/plain": [
       "\n",
       "\u001b[1;36m>\u001b[0m `Agent: Pedagogical Architect` \u001b[1m(\u001b[0mv9.\u001b[1;36m4\u001b[0m\u001b[1m)\u001b[0m đang thiết kế kịch bản buổi học\u001b[33m...\u001b[0m\n"
      ]
     },
     "metadata": {},
     "output_type": "display_data"
    },
    {
     "data": {
      "text/html": [
       "<pre style=\"white-space:pre;overflow-x:auto;line-height:normal;font-family:Menlo,'DejaVu Sans Mono',consolas,'Courier New',monospace\"><span style=\"color: #008000; text-decoration-color: #008000; font-weight: bold\">✔️ Bản thiết kế Sư phạm đã được tạo:</span>\n",
       "</pre>\n"
      ],
      "text/plain": [
       "\u001b[1;32m✔️ Bản thiết kế Sư phạm đã được tạo:\u001b[0m\n"
      ]
     },
     "metadata": {},
     "output_type": "display_data"
    },
    {
     "data": {
      "text/html": [
       "<pre style=\"white-space:pre;overflow-x:auto;line-height:normal;font-family:Menlo,'DejaVu Sans Mono',consolas,'Courier New',monospace\"><span style=\"font-weight: bold\">[</span>\n",
       "<span style=\"color: #7fbf7f; text-decoration-color: #7fbf7f\">│   </span><span style=\"color: #008000; text-decoration-color: #008000\">'Khởi động và Đặt vấn đề: \"Thức tỉnh tư duy\": Giáo viên trình chiếu một hình ảnh hoặc video ngắn (khoảng 1-2 phút) về các vật thể, công trình kiến trúc, hoặc thiết kế có sử dụng hình ảnh đường tròn ngoại tiếp/nội tiếp (ví dụ: logo, bánh răng, thiết kế sân vận động, cách sắp xếp vật thể trong không gian). Sau đó, giáo viên đặt câu hỏi gợi mở: \"Các em có nhận ra hình ảnh quen thuộc nào trong các ví dụ này không? Theo các em, tại sao người ta lại sử dụng những hình tròn này trong thiết kế/cấu trúc đó?\" Học sinh có 2 phút để suy nghĩ cá nhân, sau đó chia sẻ nhanh ý kiến với bạn bên cạnh. Giáo viên mời 2-3 học sinh chia sẻ trước lớp, sau đó dẫn dắt khéo léo vào chủ đề bài học: Đường tròn ngoại tiếp và đường tròn nội tiếp tam giác, nêu rõ mục tiêu cần đạt được.'</span>,\n",
       "<span style=\"color: #7fbf7f; text-decoration-color: #7fbf7f\">│   </span><span style=\"color: #008000; text-decoration-color: #008000\">'Khám phá và Xây dựng kiến thức: \"Kiến tạo tri thức\": Giáo viên chia lớp thành các nhóm nhỏ (4-5 học sinh). Mỗi nhóm được phát tài liệu học tập (có thể là phiếu học tập, sách giáo khoa, hoặc tài liệu tham khảo ngắn gọn) và dụng cụ học tập (thước, compa, giấy vẽ). Giáo viên phân công nhiệm vụ cụ thể cho từng nhóm: Nhóm 1 và 2 tập trung khám phá về đường tròn ngoại tiếp tam giác (định nghĩa, tính chất, cách xác định tâm và bán kính, đặc biệt với tam giác vuông/đều). Nhóm 3 và 4 tập trung khám phá về đường tròn nội tiếp tam giác (định nghĩa, tính chất, cách xác định tâm và bán kính, đặc biệt với tam giác vuông/đều). Các nhóm cùng nhau đọc tài liệu, thảo luận, thực hành vẽ hình và \\'soạn\\' (ghi chép, sơ đồ hóa) các kiến thức trọng tâm theo nhiệm vụ được giao. Giáo viên đi quanh các nhóm, quan sát, lắng nghe, và hỗ trợ kịp thời bằng cách đặt câu hỏi gợi mở, hướng dẫn các nhóm gặp khó khăn.'</span>,\n",
       "<span style=\"color: #7fbf7f; text-decoration-color: #7fbf7f\">│   </span><span style=\"color: #008000; text-decoration-color: #008000\">'Trình bày và Hệ thống hóa: \"Chia sẻ và Khẳng định\": Đại diện các nhóm lần lượt trình bày sản phẩm của mình (có thể là bản vẽ minh họa, sơ đồ tư duy, bảng tổng hợp tính chất, hoặc các bước xác định tâm/bán kính) trước lớp. Mỗi nhóm có khoảng 3-4 phút để trình bày. Các nhóm khác lắng nghe, đặt câu hỏi và bổ sung ý kiến. Sau mỗi phần trình bày, giáo viên tổng hợp các ý kiến, chuẩn hóa kiến thức, nhấn mạnh các điểm quan trọng, đặc biệt là các tính chất đặc biệt của đường tròn ngoại tiếp/nội tiếp trong tam giác vuông, tam giác đều. Giáo viên giải đáp các thắc mắc của học sinh và hệ thống hóa toàn bộ kiến thức cốt lõi của bài học lên bảng hoặc trình chiếu.'</span>,\n",
       "<span style=\"color: #7fbf7f; text-decoration-color: #7fbf7f\">│   </span><span style=\"color: #008000; text-decoration-color: #008000\">'Vận dụng và Củng cố: \"Thử thách và Nâng tầm\": Giáo viên đưa ra một chuỗi các bài tập vận dụng từ cơ bản đến nâng cao, có phân hóa rõ ràng. Ví dụ: Bài 1 (cơ bản): Xác định tâm và bán kính đường tròn ngoại tiếp/nội tiếp một tam giác cụ thể (có hình vẽ). Bài 2 (trung bình): Tính bán kính đường tròn ngoại tiếp/nội tiếp khi biết các yếu tố của tam giác. Bài 3 (nâng cao/ứng dụng): Một bài toán thực tế liên quan đến đường tròn ngoại tiếp/nội tiếp (ví dụ: thiết kế một chi tiết máy, xác định vị trí đặt đài phun nước trong một công viên hình tam giác). Học sinh làm việc cá nhân hoặc theo cặp. Giáo viên đi lại quan sát, hỗ trợ, và khuyến khích các em trình bày cách giải. Sau đó, giáo viên chọn một số bài tập tiêu biểu để chữa bài chung, mời học sinh lên bảng trình bày và giải thích. Cuối cùng, giáo viên tổng kết lại các kiến thức trọng tâm và giao bài tập về nhà để học sinh tiếp tục củng cố.'</span>\n",
       "<span style=\"font-weight: bold\">]</span>\n",
       "</pre>\n"
      ],
      "text/plain": [
       "\u001b[1m[\u001b[0m\n",
       "\u001b[2;32m│   \u001b[0m\u001b[32m'Khởi động và Đặt vấn đề: \"Thức tỉnh tư duy\": Giáo viên trình chiếu một hình ảnh hoặc video ngắn \u001b[0m\u001b[32m(\u001b[0m\u001b[32mkhoảng 1-2 phút\u001b[0m\u001b[32m)\u001b[0m\u001b[32m về các vật thể, công trình kiến trúc, hoặc thiết kế có sử dụng hình ảnh đường tròn ngoại tiếp/nội tiếp \u001b[0m\u001b[32m(\u001b[0m\u001b[32mví dụ: logo, bánh răng, thiết kế sân vận động, cách sắp xếp vật thể trong không gian\u001b[0m\u001b[32m)\u001b[0m\u001b[32m. Sau đó, giáo viên đặt câu hỏi gợi mở: \"Các em có nhận ra hình ảnh quen thuộc nào trong các ví dụ này không? Theo các em, tại sao người ta lại sử dụng những hình tròn này trong thiết kế/cấu trúc đó?\" Học sinh có 2 phút để suy nghĩ cá nhân, sau đó chia sẻ nhanh ý kiến với bạn bên cạnh. Giáo viên mời 2-3 học sinh chia sẻ trước lớp, sau đó dẫn dắt khéo léo vào chủ đề bài học: Đường tròn ngoại tiếp và đường tròn nội tiếp tam giác, nêu rõ mục tiêu cần đạt được.'\u001b[0m,\n",
       "\u001b[2;32m│   \u001b[0m\u001b[32m'Khám phá và Xây dựng kiến thức: \"Kiến tạo tri thức\": Giáo viên chia lớp thành các nhóm nhỏ \u001b[0m\u001b[32m(\u001b[0m\u001b[32m4-5 học sinh\u001b[0m\u001b[32m)\u001b[0m\u001b[32m. Mỗi nhóm được phát tài liệu học tập \u001b[0m\u001b[32m(\u001b[0m\u001b[32mcó thể là phiếu học tập, sách giáo khoa, hoặc tài liệu tham khảo ngắn gọn\u001b[0m\u001b[32m)\u001b[0m\u001b[32m và dụng cụ học tập \u001b[0m\u001b[32m(\u001b[0m\u001b[32mthước, compa, giấy vẽ\u001b[0m\u001b[32m)\u001b[0m\u001b[32m. Giáo viên phân công nhiệm vụ cụ thể cho từng nhóm: Nhóm 1 và 2 tập trung khám phá về đường tròn ngoại tiếp tam giác \u001b[0m\u001b[32m(\u001b[0m\u001b[32mđịnh nghĩa, tính chất, cách xác định tâm và bán kính, đặc biệt với tam giác vuông/đều\u001b[0m\u001b[32m)\u001b[0m\u001b[32m. Nhóm 3 và 4 tập trung khám phá về đường tròn nội tiếp tam giác \u001b[0m\u001b[32m(\u001b[0m\u001b[32mđịnh nghĩa, tính chất, cách xác định tâm và bán kính, đặc biệt với tam giác vuông/đều\u001b[0m\u001b[32m)\u001b[0m\u001b[32m. Các nhóm cùng nhau đọc tài liệu, thảo luận, thực hành vẽ hình và \\'soạn\\' \u001b[0m\u001b[32m(\u001b[0m\u001b[32mghi chép, sơ đồ hóa\u001b[0m\u001b[32m)\u001b[0m\u001b[32m các kiến thức trọng tâm theo nhiệm vụ được giao. Giáo viên đi quanh các nhóm, quan sát, lắng nghe, và hỗ trợ kịp thời bằng cách đặt câu hỏi gợi mở, hướng dẫn các nhóm gặp khó khăn.'\u001b[0m,\n",
       "\u001b[2;32m│   \u001b[0m\u001b[32m'Trình bày và Hệ thống hóa: \"Chia sẻ và Khẳng định\": Đại diện các nhóm lần lượt trình bày sản phẩm của mình \u001b[0m\u001b[32m(\u001b[0m\u001b[32mcó thể là bản vẽ minh họa, sơ đồ tư duy, bảng tổng hợp tính chất, hoặc các bước xác định tâm/bán kính\u001b[0m\u001b[32m)\u001b[0m\u001b[32m trước lớp. Mỗi nhóm có khoảng 3-4 phút để trình bày. Các nhóm khác lắng nghe, đặt câu hỏi và bổ sung ý kiến. Sau mỗi phần trình bày, giáo viên tổng hợp các ý kiến, chuẩn hóa kiến thức, nhấn mạnh các điểm quan trọng, đặc biệt là các tính chất đặc biệt của đường tròn ngoại tiếp/nội tiếp trong tam giác vuông, tam giác đều. Giáo viên giải đáp các thắc mắc của học sinh và hệ thống hóa toàn bộ kiến thức cốt lõi của bài học lên bảng hoặc trình chiếu.'\u001b[0m,\n",
       "\u001b[2;32m│   \u001b[0m\u001b[32m'Vận dụng và Củng cố: \"Thử thách và Nâng tầm\": Giáo viên đưa ra một chuỗi các bài tập vận dụng từ cơ bản đến nâng cao, có phân hóa rõ ràng. Ví dụ: Bài 1 \u001b[0m\u001b[32m(\u001b[0m\u001b[32mcơ bản\u001b[0m\u001b[32m)\u001b[0m\u001b[32m: Xác định tâm và bán kính đường tròn ngoại tiếp/nội tiếp một tam giác cụ thể \u001b[0m\u001b[32m(\u001b[0m\u001b[32mcó hình vẽ\u001b[0m\u001b[32m)\u001b[0m\u001b[32m. Bài 2 \u001b[0m\u001b[32m(\u001b[0m\u001b[32mtrung bình\u001b[0m\u001b[32m)\u001b[0m\u001b[32m: Tính bán kính đường tròn ngoại tiếp/nội tiếp khi biết các yếu tố của tam giác. Bài 3 \u001b[0m\u001b[32m(\u001b[0m\u001b[32mnâng cao/ứng dụng\u001b[0m\u001b[32m)\u001b[0m\u001b[32m: Một bài toán thực tế liên quan đến đường tròn ngoại tiếp/nội tiếp \u001b[0m\u001b[32m(\u001b[0m\u001b[32mví dụ: thiết kế một chi tiết máy, xác định vị trí đặt đài phun nước trong một công viên hình tam giác\u001b[0m\u001b[32m)\u001b[0m\u001b[32m. Học sinh làm việc cá nhân hoặc theo cặp. Giáo viên đi lại quan sát, hỗ trợ, và khuyến khích các em trình bày cách giải. Sau đó, giáo viên chọn một số bài tập tiêu biểu để chữa bài chung, mời học sinh lên bảng trình bày và giải thích. Cuối cùng, giáo viên tổng kết lại các kiến thức trọng tâm và giao bài tập về nhà để học sinh tiếp tục củng cố.'\u001b[0m\n",
       "\u001b[1m]\u001b[0m\n"
      ]
     },
     "metadata": {},
     "output_type": "display_data"
    },
    {
     "data": {
      "text/html": [
       "<pre style=\"white-space:pre;overflow-x:auto;line-height:normal;font-family:Menlo,'DejaVu Sans Mono',consolas,'Courier New',monospace\">\n",
       "<span style=\"color: #808000; text-decoration-color: #808000; font-weight: bold\">------- Hoàn thành bước: pedagogical_architect -------</span>\n",
       "</pre>\n"
      ],
      "text/plain": [
       "\n",
       "\u001b[1;33m------- Hoàn thành bước: pedagogical_architect -------\u001b[0m\n"
      ]
     },
     "metadata": {},
     "output_type": "display_data"
    },
    {
     "data": {
      "text/html": [
       "<pre style=\"white-space:pre;overflow-x:auto;line-height:normal;font-family:Menlo,'DejaVu Sans Mono',consolas,'Courier New',monospace\">\n",
       "<span style=\"color: #008080; text-decoration-color: #008080; font-weight: bold\">&gt;</span> `Agent: Query Expansion` <span style=\"font-weight: bold\">(</span>v7.<span style=\"color: #008080; text-decoration-color: #008080; font-weight: bold\">5</span><span style=\"font-weight: bold\">)</span> đang phân tích yêu cầu<span style=\"color: #808000; text-decoration-color: #808000\">...</span>\n",
       "</pre>\n"
      ],
      "text/plain": [
       "\n",
       "\u001b[1;36m>\u001b[0m `Agent: Query Expansion` \u001b[1m(\u001b[0mv7.\u001b[1;36m5\u001b[0m\u001b[1m)\u001b[0m đang phân tích yêu cầu\u001b[33m...\u001b[0m\n"
      ]
     },
     "metadata": {},
     "output_type": "display_data"
    },
    {
     "data": {
      "text/html": [
       "<pre style=\"white-space:pre;overflow-x:auto;line-height:normal;font-family:Menlo,'DejaVu Sans Mono',consolas,'Courier New',monospace\"><span style=\"color: #008000; text-decoration-color: #008000; font-weight: bold\">✔️ Các truy vấn tìm kiếm đã được mở rộng:</span>\n",
       "</pre>\n"
      ],
      "text/plain": [
       "\u001b[1;32m✔️ Các truy vấn tìm kiếm đã được mở rộng:\u001b[0m\n"
      ]
     },
     "metadata": {},
     "output_type": "display_data"
    },
    {
     "data": {
      "text/html": [
       "<pre style=\"white-space:pre;overflow-x:auto;line-height:normal;font-family:Menlo,'DejaVu Sans Mono',consolas,'Courier New',monospace\"><span style=\"font-weight: bold\">[</span>\n",
       "<span style=\"color: #7fbf7f; text-decoration-color: #7fbf7f\">│   </span><span style=\"color: #008000; text-decoration-color: #008000\">'Đường tròn ngoại tiếp là gì'</span>,\n",
       "<span style=\"color: #7fbf7f; text-decoration-color: #7fbf7f\">│   </span><span style=\"color: #008000; text-decoration-color: #008000\">'Đường tròn nội tiếp là gì'</span>,\n",
       "<span style=\"color: #7fbf7f; text-decoration-color: #7fbf7f\">│   </span><span style=\"color: #008000; text-decoration-color: #008000\">'Công thức tính bán kính đường tròn ngoại tiếp tam giác'</span>,\n",
       "<span style=\"color: #7fbf7f; text-decoration-color: #7fbf7f\">│   </span><span style=\"color: #008000; text-decoration-color: #008000\">'Công thức tính bán kính đường tròn nội tiếp tam giác'</span>,\n",
       "<span style=\"color: #7fbf7f; text-decoration-color: #7fbf7f\">│   </span><span style=\"color: #008000; text-decoration-color: #008000\">'Tính chất đường tròn ngoại tiếp và nội tiếp'</span>,\n",
       "<span style=\"color: #7fbf7f; text-decoration-color: #7fbf7f\">│   </span><span style=\"color: #008000; text-decoration-color: #008000\">'Bài tập đường tròn ngoại tiếp tam giác'</span>,\n",
       "<span style=\"color: #7fbf7f; text-decoration-color: #7fbf7f\">│   </span><span style=\"color: #008000; text-decoration-color: #008000\">'Bài tập đường tròn nội tiếp tam giác'</span>,\n",
       "<span style=\"color: #7fbf7f; text-decoration-color: #7fbf7f\">│   </span><span style=\"color: #008000; text-decoration-color: #008000\">'Chuyên đề đường tròn ngoại tiếp nội tiếp'</span>,\n",
       "<span style=\"color: #7fbf7f; text-decoration-color: #7fbf7f\">│   </span><span style=\"color: #008000; text-decoration-color: #008000\">'Đường tròn ngoại tiếp tứ giác'</span>,\n",
       "<span style=\"color: #7fbf7f; text-decoration-color: #7fbf7f\">│   </span><span style=\"color: #008000; text-decoration-color: #008000\">'Đường tròn nội tiếp tứ giác'</span>,\n",
       "<span style=\"color: #7fbf7f; text-decoration-color: #7fbf7f\">│   </span><span style=\"color: #008000; text-decoration-color: #008000\">'Phương pháp giải bài tập đường tròn ngoại tiếp'</span>,\n",
       "<span style=\"color: #7fbf7f; text-decoration-color: #7fbf7f\">│   </span><span style=\"color: #008000; text-decoration-color: #008000\">'Lý thuyết đường tròn ngoại tiếp và nội tiếp lớp 9'</span>,\n",
       "<span style=\"color: #7fbf7f; text-decoration-color: #7fbf7f\">│   </span><span style=\"color: #008000; text-decoration-color: #008000\">'Ứng dụng đường tròn ngoại tiếp trong hình học'</span>,\n",
       "<span style=\"color: #7fbf7f; text-decoration-color: #7fbf7f\">│   </span><span style=\"color: #008000; text-decoration-color: #008000\">'Quan hệ giữa đường tròn ngoại tiếp và nội tiếp tam giác'</span>,\n",
       "<span style=\"color: #7fbf7f; text-decoration-color: #7fbf7f\">│   </span><span style=\"color: #008000; text-decoration-color: #008000\">'Đường tròn ngoại tiếp tam giác vuông'</span>\n",
       "<span style=\"font-weight: bold\">]</span>\n",
       "</pre>\n"
      ],
      "text/plain": [
       "\u001b[1m[\u001b[0m\n",
       "\u001b[2;32m│   \u001b[0m\u001b[32m'Đường tròn ngoại tiếp là gì'\u001b[0m,\n",
       "\u001b[2;32m│   \u001b[0m\u001b[32m'Đường tròn nội tiếp là gì'\u001b[0m,\n",
       "\u001b[2;32m│   \u001b[0m\u001b[32m'Công thức tính bán kính đường tròn ngoại tiếp tam giác'\u001b[0m,\n",
       "\u001b[2;32m│   \u001b[0m\u001b[32m'Công thức tính bán kính đường tròn nội tiếp tam giác'\u001b[0m,\n",
       "\u001b[2;32m│   \u001b[0m\u001b[32m'Tính chất đường tròn ngoại tiếp và nội tiếp'\u001b[0m,\n",
       "\u001b[2;32m│   \u001b[0m\u001b[32m'Bài tập đường tròn ngoại tiếp tam giác'\u001b[0m,\n",
       "\u001b[2;32m│   \u001b[0m\u001b[32m'Bài tập đường tròn nội tiếp tam giác'\u001b[0m,\n",
       "\u001b[2;32m│   \u001b[0m\u001b[32m'Chuyên đề đường tròn ngoại tiếp nội tiếp'\u001b[0m,\n",
       "\u001b[2;32m│   \u001b[0m\u001b[32m'Đường tròn ngoại tiếp tứ giác'\u001b[0m,\n",
       "\u001b[2;32m│   \u001b[0m\u001b[32m'Đường tròn nội tiếp tứ giác'\u001b[0m,\n",
       "\u001b[2;32m│   \u001b[0m\u001b[32m'Phương pháp giải bài tập đường tròn ngoại tiếp'\u001b[0m,\n",
       "\u001b[2;32m│   \u001b[0m\u001b[32m'Lý thuyết đường tròn ngoại tiếp và nội tiếp lớp 9'\u001b[0m,\n",
       "\u001b[2;32m│   \u001b[0m\u001b[32m'Ứng dụng đường tròn ngoại tiếp trong hình học'\u001b[0m,\n",
       "\u001b[2;32m│   \u001b[0m\u001b[32m'Quan hệ giữa đường tròn ngoại tiếp và nội tiếp tam giác'\u001b[0m,\n",
       "\u001b[2;32m│   \u001b[0m\u001b[32m'Đường tròn ngoại tiếp tam giác vuông'\u001b[0m\n",
       "\u001b[1m]\u001b[0m\n"
      ]
     },
     "metadata": {},
     "output_type": "display_data"
    },
    {
     "data": {
      "text/html": [
       "<pre style=\"white-space:pre;overflow-x:auto;line-height:normal;font-family:Menlo,'DejaVu Sans Mono',consolas,'Courier New',monospace\">\n",
       "<span style=\"color: #808000; text-decoration-color: #808000; font-weight: bold\">------- Hoàn thành bước: query_expansion -------</span>\n",
       "</pre>\n"
      ],
      "text/plain": [
       "\n",
       "\u001b[1;33m------- Hoàn thành bước: query_expansion -------\u001b[0m\n"
      ]
     },
     "metadata": {},
     "output_type": "display_data"
    },
    {
     "data": {
      "text/html": [
       "<pre style=\"white-space:pre;overflow-x:auto;line-height:normal;font-family:Menlo,'DejaVu Sans Mono',consolas,'Courier New',monospace\">\n",
       "<span style=\"color: #008080; text-decoration-color: #008080; font-weight: bold\">&gt;</span> `Agent: Resource Scout` <span style=\"font-weight: bold\">(</span>v8.<span style=\"color: #008080; text-decoration-color: #008080; font-weight: bold\">1</span> - Sửa lỗi<span style=\"font-weight: bold\">)</span> đang tìm kiếm và sàng lọc<span style=\"color: #808000; text-decoration-color: #808000\">...</span>\n",
       "</pre>\n"
      ],
      "text/plain": [
       "\n",
       "\u001b[1;36m>\u001b[0m `Agent: Resource Scout` \u001b[1m(\u001b[0mv8.\u001b[1;36m1\u001b[0m - Sửa lỗi\u001b[1m)\u001b[0m đang tìm kiếm và sàng lọc\u001b[33m...\u001b[0m\n"
      ]
     },
     "metadata": {},
     "output_type": "display_data"
    },
    {
     "data": {
      "text/html": [
       "<pre style=\"white-space:pre;overflow-x:auto;line-height:normal;font-family:Menlo,'DejaVu Sans Mono',consolas,'Courier New',monospace\">\n",
       "<span style=\"color: #008080; text-decoration-color: #008080; font-weight: bold\">&gt;</span> Tìm thấy <span style=\"color: #008080; text-decoration-color: #008080; font-weight: bold\">75</span> tài liệu, sàng lọc còn <span style=\"color: #008080; text-decoration-color: #008080; font-weight: bold\">8</span> đoạn văn bản độc nhất.\n",
       "</pre>\n"
      ],
      "text/plain": [
       "\n",
       "\u001b[1;36m>\u001b[0m Tìm thấy \u001b[1;36m75\u001b[0m tài liệu, sàng lọc còn \u001b[1;36m8\u001b[0m đoạn văn bản độc nhất.\n"
      ]
     },
     "metadata": {},
     "output_type": "display_data"
    },
    {
     "data": {
      "text/html": [
       "<pre style=\"white-space:pre;overflow-x:auto;line-height:normal;font-family:Menlo,'DejaVu Sans Mono',consolas,'Courier New',monospace\"><span style=\"color: #008000; text-decoration-color: #008000; font-weight: bold\">✔️ Tài liệu RAG cuối cùng:</span>\n",
       "</pre>\n"
      ],
      "text/plain": [
       "\u001b[1;32m✔️ Tài liệu RAG cuối cùng:\u001b[0m\n"
      ]
     },
     "metadata": {},
     "output_type": "display_data"
    },
    {
     "data": {
      "text/html": [
       "<pre style=\"white-space:pre;overflow-x:auto;line-height:normal;font-family:Menlo,'DejaVu Sans Mono',consolas,'Courier New',monospace\"><span style=\"font-weight: bold\">{</span>\n",
       "<span style=\"color: #7fbf7f; text-decoration-color: #7fbf7f\">│   </span><span style=\"color: #008000; text-decoration-color: #008000\">'source'</span>: <span style=\"color: #008000; text-decoration-color: #008000\">'Sách giáo khoa (từ RAG - đã sàng lọc)'</span>,\n",
       "<span style=\"color: #7fbf7f; text-decoration-color: #7fbf7f\">│   </span><span style=\"color: #008000; text-decoration-color: #008000\">'summary'</span>: <span style=\"color: #008000; text-decoration-color: #008000\">'Chào em,\\n\\nVới vai trò là một giáo viên giàu kinh nghiệm, thầy/cô đã tổng hợp các thông tin từ các đoạn văn bản em cung cấp để xây dựng bản tóm tắt này. Dựa trên **chỉ** những nội dung có sẵn, kiến thức cốt lõi liên quan đến đường tròn được thể hiện như sau.\\n\\nCần lưu ý rằng các khái niệm chuyên biệt về \"đường tròn ngoại tiếp\" và \"đường tròn nội tiếp\" của một đa giác (ví dụ như tam giác) không được trình bày trực tiếp trong các đoạn văn bản này. Thay vào đó, thông tin chủ yếu tập trung vào các tính chất và vị trí tương đối của hai đường tròn nói chung.\\n\\n---\\n\\n**TÓM TẮT KIẾN THỨC CỐT LÕI VỀ CHỦ ĐỀ \"ĐƯỜNG TRÒN NGOẠI TIẾP VÀ ĐƯỜNG TRÒN NỘI TIẾP\" (Dựa trên văn bản cung cấp)**\\n\\n**1. Khái niệm chung về Đường tròn:**\\n*   Đường tròn là một hình học cơ bản, có thể được nhận biết trong các vật thể thực tế (ví dụ: sản phẩm mây tre đan).\\n*   Một đường tròn được xác định bởi tâm và bán kính của nó (ví dụ: đường tròn (O; 3 cm)).\\n\\n**2. Vị trí tương đối của hai đường tròn:**\\nCác đoạn văn bản đề cập đến các trường hợp vị trí tương đối giữa hai đường tròn:\\n*   **Cắt nhau:** Hai đường tròn có hai điểm chung phân biệt. (Ví dụ 5.24, Ví dụ 1)\\n*   **Không giao nhau:** Hai đường tròn không có điểm chung nào. (Ví dụ 5.24)\\n*   **Tiếp xúc ngoài:** Hai đường tròn có một điểm chung duy nhất và nằm về hai phía của tiếp tuyến chung tại điểm đó. Điều này xảy ra khi khoảng cách giữa hai tâm bằng tổng hai bán kính (OO\\' = R + r). (Ví dụ 5.26a, 5.27)\\n*   **Tiếp xúc trong:** Hai đường tròn có một điểm chung duy nhất và một đường tròn nằm bên trong đường tròn kia (trừ điểm tiếp xúc). Điều này xảy ra khi khoảng cách giữa hai tâm bằng hiệu hai bán kính (OO\\' = |R - r|). (Ví dụ 5.26b, 5.26c)\\n\\n**3. Các tính chất và khái niệm liên quan đến Đường tròn:**\\n*   **Đối xứng:** Các cung tròn có thể có tính đối xứng, cho phép chúng chắp nối trơn tru.\\n*   **Dây cung:** Là đoạn thẳng nối hai điểm trên đường tròn. (Được suy luận từ mục lục \"Cung và dây của một đường tròn\").\\n*   **Tiếp tuyến:** Một đường thẳng có thể tiếp xúc với một đường tròn tại một điểm duy nhất. (Ví dụ 1b: \"đường thẳng MN tiếp xúc với đường tròn đường kính AB\").\\n*   **Đường tròn đường kính:** Một đường tròn có thể được xác định bởi một đường kính của nó. (Ví dụ 1b)\\n*   **Cung tròn:** Một phần của đường tròn. (Được suy luận từ mục lục \"Cung và dây của một đường tròn\").'</span>\n",
       "<span style=\"font-weight: bold\">}</span>\n",
       "</pre>\n"
      ],
      "text/plain": [
       "\u001b[1m{\u001b[0m\n",
       "\u001b[2;32m│   \u001b[0m\u001b[32m'source'\u001b[0m: \u001b[32m'Sách giáo khoa \u001b[0m\u001b[32m(\u001b[0m\u001b[32mtừ RAG - đã sàng lọc\u001b[0m\u001b[32m)\u001b[0m\u001b[32m'\u001b[0m,\n",
       "\u001b[2;32m│   \u001b[0m\u001b[32m'summary'\u001b[0m: \u001b[32m'Chào em,\\n\\nVới vai trò là một giáo viên giàu kinh nghiệm, thầy/cô đã tổng hợp các thông tin từ các đoạn văn bản em cung cấp để xây dựng bản tóm tắt này. Dựa trên **chỉ** những nội dung có sẵn, kiến thức cốt lõi liên quan đến đường tròn được thể hiện như sau.\\n\\nCần lưu ý rằng các khái niệm chuyên biệt về \"đường tròn ngoại tiếp\" và \"đường tròn nội tiếp\" của một đa giác \u001b[0m\u001b[32m(\u001b[0m\u001b[32mví dụ như tam giác\u001b[0m\u001b[32m)\u001b[0m\u001b[32m không được trình bày trực tiếp trong các đoạn văn bản này. Thay vào đó, thông tin chủ yếu tập trung vào các tính chất và vị trí tương đối của hai đường tròn nói chung.\\n\\n---\\n\\n**TÓM TẮT KIẾN THỨC CỐT LÕI VỀ CHỦ ĐỀ \"ĐƯỜNG TRÒN NGOẠI TIẾP VÀ ĐƯỜNG TRÒN NỘI TIẾP\" \u001b[0m\u001b[32m(\u001b[0m\u001b[32mDựa trên văn bản cung cấp\u001b[0m\u001b[32m)\u001b[0m\u001b[32m**\\n\\n**1. Khái niệm chung về Đường tròn:**\\n*   Đường tròn là một hình học cơ bản, có thể được nhận biết trong các vật thể thực tế \u001b[0m\u001b[32m(\u001b[0m\u001b[32mví dụ: sản phẩm mây tre đan\u001b[0m\u001b[32m)\u001b[0m\u001b[32m.\\n*   Một đường tròn được xác định bởi tâm và bán kính của nó \u001b[0m\u001b[32m(\u001b[0m\u001b[32mví dụ: đường tròn \u001b[0m\u001b[32m(\u001b[0m\u001b[32mO; 3 cm\u001b[0m\u001b[32m)\u001b[0m\u001b[32m)\u001b[0m\u001b[32m.\\n\\n**2. Vị trí tương đối của hai đường tròn:**\\nCác đoạn văn bản đề cập đến các trường hợp vị trí tương đối giữa hai đường tròn:\\n*   **Cắt nhau:** Hai đường tròn có hai điểm chung phân biệt. \u001b[0m\u001b[32m(\u001b[0m\u001b[32mVí dụ 5.24, Ví dụ 1\u001b[0m\u001b[32m)\u001b[0m\u001b[32m\\n*   **Không giao nhau:** Hai đường tròn không có điểm chung nào. \u001b[0m\u001b[32m(\u001b[0m\u001b[32mVí dụ 5.24\u001b[0m\u001b[32m)\u001b[0m\u001b[32m\\n*   **Tiếp xúc ngoài:** Hai đường tròn có một điểm chung duy nhất và nằm về hai phía của tiếp tuyến chung tại điểm đó. Điều này xảy ra khi khoảng cách giữa hai tâm bằng tổng hai bán kính \u001b[0m\u001b[32m(\u001b[0m\u001b[32mOO\\' = R + r\u001b[0m\u001b[32m)\u001b[0m\u001b[32m. \u001b[0m\u001b[32m(\u001b[0m\u001b[32mVí dụ 5.26a, 5.27\u001b[0m\u001b[32m)\u001b[0m\u001b[32m\\n*   **Tiếp xúc trong:** Hai đường tròn có một điểm chung duy nhất và một đường tròn nằm bên trong đường tròn kia \u001b[0m\u001b[32m(\u001b[0m\u001b[32mtrừ điểm tiếp xúc\u001b[0m\u001b[32m)\u001b[0m\u001b[32m. Điều này xảy ra khi khoảng cách giữa hai tâm bằng hiệu hai bán kính \u001b[0m\u001b[32m(\u001b[0m\u001b[32mOO\\' = |R - r|\u001b[0m\u001b[32m)\u001b[0m\u001b[32m. \u001b[0m\u001b[32m(\u001b[0m\u001b[32mVí dụ 5.26b, 5.26c\u001b[0m\u001b[32m)\u001b[0m\u001b[32m\\n\\n**3. Các tính chất và khái niệm liên quan đến Đường tròn:**\\n*   **Đối xứng:** Các cung tròn có thể có tính đối xứng, cho phép chúng chắp nối trơn tru.\\n*   **Dây cung:** Là đoạn thẳng nối hai điểm trên đường tròn. \u001b[0m\u001b[32m(\u001b[0m\u001b[32mĐược suy luận từ mục lục \"Cung và dây của một đường tròn\"\u001b[0m\u001b[32m)\u001b[0m\u001b[32m.\\n*   **Tiếp tuyến:** Một đường thẳng có thể tiếp xúc với một đường tròn tại một điểm duy nhất. \u001b[0m\u001b[32m(\u001b[0m\u001b[32mVí dụ 1b: \"đường thẳng MN tiếp xúc với đường tròn đường kính AB\"\u001b[0m\u001b[32m)\u001b[0m\u001b[32m.\\n*   **Đường tròn đường kính:** Một đường tròn có thể được xác định bởi một đường kính của nó. \u001b[0m\u001b[32m(\u001b[0m\u001b[32mVí dụ 1b\u001b[0m\u001b[32m)\u001b[0m\u001b[32m\\n*   **Cung tròn:** Một phần của đường tròn. \u001b[0m\u001b[32m(\u001b[0m\u001b[32mĐược suy luận từ mục lục \"Cung và dây của một đường tròn\"\u001b[0m\u001b[32m)\u001b[0m\u001b[32m.'\u001b[0m\n",
       "\u001b[1m}\u001b[0m\n"
      ]
     },
     "metadata": {},
     "output_type": "display_data"
    },
    {
     "data": {
      "text/html": [
       "<pre style=\"white-space:pre;overflow-x:auto;line-height:normal;font-family:Menlo,'DejaVu Sans Mono',consolas,'Courier New',monospace\">\n",
       "<span style=\"color: #808000; text-decoration-color: #808000; font-weight: bold\">------- Hoàn thành bước: resource_scout -------</span>\n",
       "</pre>\n"
      ],
      "text/plain": [
       "\n",
       "\u001b[1;33m------- Hoàn thành bước: resource_scout -------\u001b[0m\n"
      ]
     },
     "metadata": {},
     "output_type": "display_data"
    },
    {
     "data": {
      "text/html": [
       "<pre style=\"white-space:pre;overflow-x:auto;line-height:normal;font-family:Menlo,'DejaVu Sans Mono',consolas,'Courier New',monospace\">\n",
       "<span style=\"color: #008080; text-decoration-color: #008080; font-weight: bold\">&gt;</span> `Agent: Plan Delegator` <span style=\"font-weight: bold\">(</span>v12.<span style=\"color: #008080; text-decoration-color: #008080; font-weight: bold\">0</span> - Nhà hoạch định Thông thái<span style=\"font-weight: bold\">)</span> đang triển khai<span style=\"color: #808000; text-decoration-color: #808000\">...</span>\n",
       "</pre>\n"
      ],
      "text/plain": [
       "\n",
       "\u001b[1;36m>\u001b[0m `Agent: Plan Delegator` \u001b[1m(\u001b[0mv12.\u001b[1;36m0\u001b[0m - Nhà hoạch định Thông thái\u001b[1m)\u001b[0m đang triển khai\u001b[33m...\u001b[0m\n"
      ]
     },
     "metadata": {},
     "output_type": "display_data"
    },
    {
     "data": {
      "text/html": [
       "<pre style=\"white-space:pre;overflow-x:auto;line-height:normal;font-family:Menlo,'DejaVu Sans Mono',consolas,'Courier New',monospace\"><span style=\"color: #008000; text-decoration-color: #008000; font-weight: bold\">✔️ Đã tạo </span><span style=\"color: #008000; text-decoration-color: #008000; font-weight: bold\">5</span><span style=\"color: #008000; text-decoration-color: #008000; font-weight: bold\"> nhiệm vụ chi tiết:</span>\n",
       "</pre>\n"
      ],
      "text/plain": [
       "\u001b[1;32m✔️ Đã tạo \u001b[0m\u001b[1;32m5\u001b[0m\u001b[1;32m nhiệm vụ chi tiết:\u001b[0m\n"
      ]
     },
     "metadata": {},
     "output_type": "display_data"
    },
    {
     "data": {
      "text/html": [
       "<pre style=\"white-space:pre;overflow-x:auto;line-height:normal;font-family:Menlo,'DejaVu Sans Mono',consolas,'Courier New',monospace\"><span style=\"font-weight: bold\">[</span>\n",
       "<span style=\"color: #7fbf7f; text-decoration-color: #7fbf7f\">│   </span><span style=\"font-weight: bold\">{</span>\n",
       "<span style=\"color: #7fbf7f; text-decoration-color: #7fbf7f\">│   │   </span><span style=\"color: #008000; text-decoration-color: #008000\">'task_id'</span>: <span style=\"color: #008080; text-decoration-color: #008080; font-weight: bold\">0</span>,\n",
       "<span style=\"color: #7fbf7f; text-decoration-color: #7fbf7f\">│   │   </span><span style=\"color: #008000; text-decoration-color: #008000\">'task_name'</span>: <span style=\"color: #008000; text-decoration-color: #008000\">'Khởi động và Đặt vấn đề'</span>,\n",
       "<span style=\"color: #7fbf7f; text-decoration-color: #7fbf7f\">│   │   </span><span style=\"color: #008000; text-decoration-color: #008000\">'task_description'</span>: <span style=\"color: #008000; text-decoration-color: #008000\">'Giáo viên trình chiếu hình ảnh/video, đặt câu hỏi gợi mở về ứng dụng đường tròn ngoại tiếp/nội tiếp. Học sinh suy nghĩ cá nhân, chia sẻ nhóm và trình bày trước lớp. Giáo viên dẫn dắt vào bài học và nêu mục tiêu.'</span>,\n",
       "<span style=\"color: #7fbf7f; text-decoration-color: #7fbf7f\">│   │   </span><span style=\"color: #008000; text-decoration-color: #008000\">'estimated_duration'</span>: <span style=\"color: #008080; text-decoration-color: #008080; font-weight: bold\">10</span>,\n",
       "<span style=\"color: #7fbf7f; text-decoration-color: #7fbf7f\">│   │   </span><span style=\"color: #008000; text-decoration-color: #008000\">'status'</span>: <span style=\"color: #008000; text-decoration-color: #008000\">'pending'</span>\n",
       "<span style=\"color: #7fbf7f; text-decoration-color: #7fbf7f\">│   </span><span style=\"font-weight: bold\">}</span>,\n",
       "<span style=\"color: #7fbf7f; text-decoration-color: #7fbf7f\">│   </span><span style=\"font-weight: bold\">{</span>\n",
       "<span style=\"color: #7fbf7f; text-decoration-color: #7fbf7f\">│   │   </span><span style=\"color: #008000; text-decoration-color: #008000\">'task_id'</span>: <span style=\"color: #008080; text-decoration-color: #008080; font-weight: bold\">1</span>,\n",
       "<span style=\"color: #7fbf7f; text-decoration-color: #7fbf7f\">│   │   </span><span style=\"color: #008000; text-decoration-color: #008000\">'task_name'</span>: <span style=\"color: #008000; text-decoration-color: #008000\">'Khám phá và Xây dựng kiến thức mới'</span>,\n",
       "<span style=\"color: #7fbf7f; text-decoration-color: #7fbf7f\">│   │   </span><span style=\"color: #008000; text-decoration-color: #008000\">'task_description'</span>: <span style=\"color: #008000; text-decoration-color: #008000\">'Học sinh chia nhóm, nhận tài liệu và dụng cụ. Các nhóm khám phá về đường tròn ngoại tiếp hoặc nội tiếp tam giác (định nghĩa, tính chất, cách xác định tâm/bán kính, trường hợp đặc biệt). Giáo viên quan sát, hỗ trợ và gợi mở.'</span>,\n",
       "<span style=\"color: #7fbf7f; text-decoration-color: #7fbf7f\">│   │   </span><span style=\"color: #008000; text-decoration-color: #008000\">'estimated_duration'</span>: <span style=\"color: #008080; text-decoration-color: #008080; font-weight: bold\">35</span>,\n",
       "<span style=\"color: #7fbf7f; text-decoration-color: #7fbf7f\">│   │   </span><span style=\"color: #008000; text-decoration-color: #008000\">'status'</span>: <span style=\"color: #008000; text-decoration-color: #008000\">'pending'</span>\n",
       "<span style=\"color: #7fbf7f; text-decoration-color: #7fbf7f\">│   </span><span style=\"font-weight: bold\">}</span>,\n",
       "<span style=\"color: #7fbf7f; text-decoration-color: #7fbf7f\">│   </span><span style=\"font-weight: bold\">{</span>\n",
       "<span style=\"color: #7fbf7f; text-decoration-color: #7fbf7f\">│   │   </span><span style=\"color: #008000; text-decoration-color: #008000\">'task_id'</span>: <span style=\"color: #008080; text-decoration-color: #008080; font-weight: bold\">2</span>,\n",
       "<span style=\"color: #7fbf7f; text-decoration-color: #7fbf7f\">│   │   </span><span style=\"color: #008000; text-decoration-color: #008000\">'task_name'</span>: <span style=\"color: #008000; text-decoration-color: #008000\">'Trình bày và Hệ thống hóa kiến thức'</span>,\n",
       "<span style=\"color: #7fbf7f; text-decoration-color: #7fbf7f\">│   │   </span><span style=\"color: #008000; text-decoration-color: #008000\">'task_description'</span>: <span style=\"color: #008000; text-decoration-color: #008000\">'Đại diện các nhóm trình bày sản phẩm khám phá của mình. Các nhóm khác lắng nghe, đặt câu hỏi và bổ sung. Giáo viên tổng hợp, chuẩn hóa kiến thức, nhấn mạnh các điểm trọng tâm và giải đáp thắc mắc.'</span>,\n",
       "<span style=\"color: #7fbf7f; text-decoration-color: #7fbf7f\">│   │   </span><span style=\"color: #008000; text-decoration-color: #008000\">'estimated_duration'</span>: <span style=\"color: #008080; text-decoration-color: #008080; font-weight: bold\">25</span>,\n",
       "<span style=\"color: #7fbf7f; text-decoration-color: #7fbf7f\">│   │   </span><span style=\"color: #008000; text-decoration-color: #008000\">'status'</span>: <span style=\"color: #008000; text-decoration-color: #008000\">'pending'</span>\n",
       "<span style=\"color: #7fbf7f; text-decoration-color: #7fbf7f\">│   </span><span style=\"font-weight: bold\">}</span>,\n",
       "<span style=\"color: #7fbf7f; text-decoration-color: #7fbf7f\">│   </span><span style=\"font-weight: bold\">{</span>\n",
       "<span style=\"color: #7fbf7f; text-decoration-color: #7fbf7f\">│   │   </span><span style=\"color: #008000; text-decoration-color: #008000\">'task_id'</span>: <span style=\"color: #008080; text-decoration-color: #008080; font-weight: bold\">3</span>,\n",
       "<span style=\"color: #7fbf7f; text-decoration-color: #7fbf7f\">│   │   </span><span style=\"color: #008000; text-decoration-color: #008000\">'task_name'</span>: <span style=\"color: #008000; text-decoration-color: #008000\">'Vận dụng và Củng cố kiến thức'</span>,\n",
       "<span style=\"color: #7fbf7f; text-decoration-color: #7fbf7f\">│   │   </span><span style=\"color: #008000; text-decoration-color: #008000\">'task_description'</span>: <span style=\"color: #008000; text-decoration-color: #008000\">'Học sinh thực hiện chuỗi bài tập vận dụng từ cơ bản đến nâng cao (cá nhân hoặc theo cặp). Giáo viên quan sát, hỗ trợ và mời học sinh lên bảng chữa bài.'</span>,\n",
       "<span style=\"color: #7fbf7f; text-decoration-color: #7fbf7f\">│   │   </span><span style=\"color: #008000; text-decoration-color: #008000\">'estimated_duration'</span>: <span style=\"color: #008080; text-decoration-color: #008080; font-weight: bold\">15</span>,\n",
       "<span style=\"color: #7fbf7f; text-decoration-color: #7fbf7f\">│   │   </span><span style=\"color: #008000; text-decoration-color: #008000\">'status'</span>: <span style=\"color: #008000; text-decoration-color: #008000\">'pending'</span>\n",
       "<span style=\"color: #7fbf7f; text-decoration-color: #7fbf7f\">│   </span><span style=\"font-weight: bold\">}</span>,\n",
       "<span style=\"color: #7fbf7f; text-decoration-color: #7fbf7f\">│   </span><span style=\"font-weight: bold\">{</span>\n",
       "<span style=\"color: #7fbf7f; text-decoration-color: #7fbf7f\">│   │   </span><span style=\"color: #008000; text-decoration-color: #008000\">'task_id'</span>: <span style=\"color: #008080; text-decoration-color: #008080; font-weight: bold\">4</span>,\n",
       "<span style=\"color: #7fbf7f; text-decoration-color: #7fbf7f\">│   │   </span><span style=\"color: #008000; text-decoration-color: #008000\">'task_name'</span>: <span style=\"color: #008000; text-decoration-color: #008000\">'Tổng kết bài học và Giao bài tập về nhà'</span>,\n",
       "<span style=\"color: #7fbf7f; text-decoration-color: #7fbf7f\">│   │   </span><span style=\"color: #008000; text-decoration-color: #008000\">'task_description'</span>: <span style=\"color: #008000; text-decoration-color: #008000\">'Giáo viên tổng kết lại các kiến thức trọng tâm của bài học và giao bài tập về nhà để học sinh tiếp tục củng cố và mở rộng.'</span>,\n",
       "<span style=\"color: #7fbf7f; text-decoration-color: #7fbf7f\">│   │   </span><span style=\"color: #008000; text-decoration-color: #008000\">'estimated_duration'</span>: <span style=\"color: #008080; text-decoration-color: #008080; font-weight: bold\">5</span>,\n",
       "<span style=\"color: #7fbf7f; text-decoration-color: #7fbf7f\">│   │   </span><span style=\"color: #008000; text-decoration-color: #008000\">'status'</span>: <span style=\"color: #008000; text-decoration-color: #008000\">'pending'</span>\n",
       "<span style=\"color: #7fbf7f; text-decoration-color: #7fbf7f\">│   </span><span style=\"font-weight: bold\">}</span>\n",
       "<span style=\"font-weight: bold\">]</span>\n",
       "</pre>\n"
      ],
      "text/plain": [
       "\u001b[1m[\u001b[0m\n",
       "\u001b[2;32m│   \u001b[0m\u001b[1m{\u001b[0m\n",
       "\u001b[2;32m│   │   \u001b[0m\u001b[32m'task_id'\u001b[0m: \u001b[1;36m0\u001b[0m,\n",
       "\u001b[2;32m│   │   \u001b[0m\u001b[32m'task_name'\u001b[0m: \u001b[32m'Khởi động và Đặt vấn đề'\u001b[0m,\n",
       "\u001b[2;32m│   │   \u001b[0m\u001b[32m'task_description'\u001b[0m: \u001b[32m'Giáo viên trình chiếu hình ảnh/video, đặt câu hỏi gợi mở về ứng dụng đường tròn ngoại tiếp/nội tiếp. Học sinh suy nghĩ cá nhân, chia sẻ nhóm và trình bày trước lớp. Giáo viên dẫn dắt vào bài học và nêu mục tiêu.'\u001b[0m,\n",
       "\u001b[2;32m│   │   \u001b[0m\u001b[32m'estimated_duration'\u001b[0m: \u001b[1;36m10\u001b[0m,\n",
       "\u001b[2;32m│   │   \u001b[0m\u001b[32m'status'\u001b[0m: \u001b[32m'pending'\u001b[0m\n",
       "\u001b[2;32m│   \u001b[0m\u001b[1m}\u001b[0m,\n",
       "\u001b[2;32m│   \u001b[0m\u001b[1m{\u001b[0m\n",
       "\u001b[2;32m│   │   \u001b[0m\u001b[32m'task_id'\u001b[0m: \u001b[1;36m1\u001b[0m,\n",
       "\u001b[2;32m│   │   \u001b[0m\u001b[32m'task_name'\u001b[0m: \u001b[32m'Khám phá và Xây dựng kiến thức mới'\u001b[0m,\n",
       "\u001b[2;32m│   │   \u001b[0m\u001b[32m'task_description'\u001b[0m: \u001b[32m'Học sinh chia nhóm, nhận tài liệu và dụng cụ. Các nhóm khám phá về đường tròn ngoại tiếp hoặc nội tiếp tam giác \u001b[0m\u001b[32m(\u001b[0m\u001b[32mđịnh nghĩa, tính chất, cách xác định tâm/bán kính, trường hợp đặc biệt\u001b[0m\u001b[32m)\u001b[0m\u001b[32m. Giáo viên quan sát, hỗ trợ và gợi mở.'\u001b[0m,\n",
       "\u001b[2;32m│   │   \u001b[0m\u001b[32m'estimated_duration'\u001b[0m: \u001b[1;36m35\u001b[0m,\n",
       "\u001b[2;32m│   │   \u001b[0m\u001b[32m'status'\u001b[0m: \u001b[32m'pending'\u001b[0m\n",
       "\u001b[2;32m│   \u001b[0m\u001b[1m}\u001b[0m,\n",
       "\u001b[2;32m│   \u001b[0m\u001b[1m{\u001b[0m\n",
       "\u001b[2;32m│   │   \u001b[0m\u001b[32m'task_id'\u001b[0m: \u001b[1;36m2\u001b[0m,\n",
       "\u001b[2;32m│   │   \u001b[0m\u001b[32m'task_name'\u001b[0m: \u001b[32m'Trình bày và Hệ thống hóa kiến thức'\u001b[0m,\n",
       "\u001b[2;32m│   │   \u001b[0m\u001b[32m'task_description'\u001b[0m: \u001b[32m'Đại diện các nhóm trình bày sản phẩm khám phá của mình. Các nhóm khác lắng nghe, đặt câu hỏi và bổ sung. Giáo viên tổng hợp, chuẩn hóa kiến thức, nhấn mạnh các điểm trọng tâm và giải đáp thắc mắc.'\u001b[0m,\n",
       "\u001b[2;32m│   │   \u001b[0m\u001b[32m'estimated_duration'\u001b[0m: \u001b[1;36m25\u001b[0m,\n",
       "\u001b[2;32m│   │   \u001b[0m\u001b[32m'status'\u001b[0m: \u001b[32m'pending'\u001b[0m\n",
       "\u001b[2;32m│   \u001b[0m\u001b[1m}\u001b[0m,\n",
       "\u001b[2;32m│   \u001b[0m\u001b[1m{\u001b[0m\n",
       "\u001b[2;32m│   │   \u001b[0m\u001b[32m'task_id'\u001b[0m: \u001b[1;36m3\u001b[0m,\n",
       "\u001b[2;32m│   │   \u001b[0m\u001b[32m'task_name'\u001b[0m: \u001b[32m'Vận dụng và Củng cố kiến thức'\u001b[0m,\n",
       "\u001b[2;32m│   │   \u001b[0m\u001b[32m'task_description'\u001b[0m: \u001b[32m'Học sinh thực hiện chuỗi bài tập vận dụng từ cơ bản đến nâng cao \u001b[0m\u001b[32m(\u001b[0m\u001b[32mcá nhân hoặc theo cặp\u001b[0m\u001b[32m)\u001b[0m\u001b[32m. Giáo viên quan sát, hỗ trợ và mời học sinh lên bảng chữa bài.'\u001b[0m,\n",
       "\u001b[2;32m│   │   \u001b[0m\u001b[32m'estimated_duration'\u001b[0m: \u001b[1;36m15\u001b[0m,\n",
       "\u001b[2;32m│   │   \u001b[0m\u001b[32m'status'\u001b[0m: \u001b[32m'pending'\u001b[0m\n",
       "\u001b[2;32m│   \u001b[0m\u001b[1m}\u001b[0m,\n",
       "\u001b[2;32m│   \u001b[0m\u001b[1m{\u001b[0m\n",
       "\u001b[2;32m│   │   \u001b[0m\u001b[32m'task_id'\u001b[0m: \u001b[1;36m4\u001b[0m,\n",
       "\u001b[2;32m│   │   \u001b[0m\u001b[32m'task_name'\u001b[0m: \u001b[32m'Tổng kết bài học và Giao bài tập về nhà'\u001b[0m,\n",
       "\u001b[2;32m│   │   \u001b[0m\u001b[32m'task_description'\u001b[0m: \u001b[32m'Giáo viên tổng kết lại các kiến thức trọng tâm của bài học và giao bài tập về nhà để học sinh tiếp tục củng cố và mở rộng.'\u001b[0m,\n",
       "\u001b[2;32m│   │   \u001b[0m\u001b[32m'estimated_duration'\u001b[0m: \u001b[1;36m5\u001b[0m,\n",
       "\u001b[2;32m│   │   \u001b[0m\u001b[32m'status'\u001b[0m: \u001b[32m'pending'\u001b[0m\n",
       "\u001b[2;32m│   \u001b[0m\u001b[1m}\u001b[0m\n",
       "\u001b[1m]\u001b[0m\n"
      ]
     },
     "metadata": {},
     "output_type": "display_data"
    },
    {
     "data": {
      "text/html": [
       "<pre style=\"white-space:pre;overflow-x:auto;line-height:normal;font-family:Menlo,'DejaVu Sans Mono',consolas,'Courier New',monospace\">\n",
       "<span style=\"color: #808000; text-decoration-color: #808000; font-weight: bold\">------- Hoàn thành bước: plan_delegator -------</span>\n",
       "</pre>\n"
      ],
      "text/plain": [
       "\n",
       "\u001b[1;33m------- Hoàn thành bước: plan_delegator -------\u001b[0m\n"
      ]
     },
     "metadata": {},
     "output_type": "display_data"
    },
    {
     "data": {
      "text/html": [
       "<pre style=\"white-space:pre;overflow-x:auto;line-height:normal;font-family:Menlo,'DejaVu Sans Mono',consolas,'Courier New',monospace\">\n",
       "<span style=\"color: #008080; text-decoration-color: #008080; font-weight: bold\">&gt;</span> `Router`: Đang kiểm tra nhiệm vụ<span style=\"color: #808000; text-decoration-color: #808000\">...</span>\n",
       "</pre>\n"
      ],
      "text/plain": [
       "\n",
       "\u001b[1;36m>\u001b[0m `Router`: Đang kiểm tra nhiệm vụ\u001b[33m...\u001b[0m\n"
      ]
     },
     "metadata": {},
     "output_type": "display_data"
    },
    {
     "data": {
      "text/html": [
       "<pre style=\"white-space:pre;overflow-x:auto;line-height:normal;font-family:Menlo,'DejaVu Sans Mono',consolas,'Courier New',monospace\">\n",
       "<span style=\"color: #008080; text-decoration-color: #008080; font-weight: bold\">&gt;</span> Nhiệm vụ tiếp theo: <span style=\"color: #008000; text-decoration-color: #008000\">'Khởi động và Đặt vấn đề'</span> <span style=\"font-weight: bold\">(</span>ID: <span style=\"color: #008080; text-decoration-color: #008080; font-weight: bold\">0</span><span style=\"font-weight: bold\">)</span>\n",
       "</pre>\n"
      ],
      "text/plain": [
       "\n",
       "\u001b[1;36m>\u001b[0m Nhiệm vụ tiếp theo: \u001b[32m'Khởi động và Đặt vấn đề'\u001b[0m \u001b[1m(\u001b[0mID: \u001b[1;36m0\u001b[0m\u001b[1m)\u001b[0m\n"
      ]
     },
     "metadata": {},
     "output_type": "display_data"
    },
    {
     "data": {
      "text/html": [
       "<pre style=\"white-space:pre;overflow-x:auto;line-height:normal;font-family:Menlo,'DejaVu Sans Mono',consolas,'Courier New',monospace\">\n",
       "<span style=\"color: #808000; text-decoration-color: #808000; font-weight: bold\">------- Hoàn thành bước: task_router -------</span>\n",
       "</pre>\n"
      ],
      "text/plain": [
       "\n",
       "\u001b[1;33m------- Hoàn thành bước: task_router -------\u001b[0m\n"
      ]
     },
     "metadata": {},
     "output_type": "display_data"
    },
    {
     "data": {
      "text/html": [
       "<pre style=\"white-space:pre;overflow-x:auto;line-height:normal;font-family:Menlo,'DejaVu Sans Mono',consolas,'Courier New',monospace\">\n",
       "<span style=\"color: #008080; text-decoration-color: #008080; font-weight: bold\">&gt;</span> `Agent: Task Dispatcher` đang giao việc<span style=\"color: #808000; text-decoration-color: #808000\">...</span>\n",
       "</pre>\n"
      ],
      "text/plain": [
       "\n",
       "\u001b[1;36m>\u001b[0m `Agent: Task Dispatcher` đang giao việc\u001b[33m...\u001b[0m\n"
      ]
     },
     "metadata": {},
     "output_type": "display_data"
    },
    {
     "data": {
      "text/html": [
       "<pre style=\"white-space:pre;overflow-x:auto;line-height:normal;font-family:Menlo,'DejaVu Sans Mono',consolas,'Courier New',monospace\">\n",
       "<span style=\"color: #008080; text-decoration-color: #008080; font-weight: bold\">&gt;</span> --- 🚚 `Dispatcher`: Giao nhiệm vụ cho `assessment_creator`.\n",
       "</pre>\n"
      ],
      "text/plain": [
       "\n",
       "\u001b[1;36m>\u001b[0m --- 🚚 `Dispatcher`: Giao nhiệm vụ cho `assessment_creator`.\n"
      ]
     },
     "metadata": {},
     "output_type": "display_data"
    },
    {
     "data": {
      "text/html": [
       "<pre style=\"white-space:pre;overflow-x:auto;line-height:normal;font-family:Menlo,'DejaVu Sans Mono',consolas,'Courier New',monospace\">\n",
       "<span style=\"color: #808000; text-decoration-color: #808000; font-weight: bold\">------- Hoàn thành bước: task_dispatcher -------</span>\n",
       "</pre>\n"
      ],
      "text/plain": [
       "\n",
       "\u001b[1;33m------- Hoàn thành bước: task_dispatcher -------\u001b[0m\n"
      ]
     },
     "metadata": {},
     "output_type": "display_data"
    },
    {
     "data": {
      "text/html": [
       "<pre style=\"white-space:pre;overflow-x:auto;line-height:normal;font-family:Menlo,'DejaVu Sans Mono',consolas,'Courier New',monospace\">\n",
       "<span style=\"color: #008080; text-decoration-color: #008080; font-weight: bold\">&gt;</span> `Agent: Assessment Creator` <span style=\"font-weight: bold\">(</span>v12.<span style=\"color: #008080; text-decoration-color: #008080; font-weight: bold\">0</span><span style=\"font-weight: bold\">)</span> đang tạo nội dung theo kỷ luật<span style=\"color: #808000; text-decoration-color: #808000\">...</span>\n",
       "</pre>\n"
      ],
      "text/plain": [
       "\n",
       "\u001b[1;36m>\u001b[0m `Agent: Assessment Creator` \u001b[1m(\u001b[0mv12.\u001b[1;36m0\u001b[0m\u001b[1m)\u001b[0m đang tạo nội dung theo kỷ luật\u001b[33m...\u001b[0m\n"
      ]
     },
     "metadata": {},
     "output_type": "display_data"
    },
    {
     "data": {
      "text/html": [
       "<pre style=\"white-space:pre;overflow-x:auto;line-height:normal;font-family:Menlo,'DejaVu Sans Mono',consolas,'Courier New',monospace\"><span style=\"color: #008000; text-decoration-color: #008000; font-weight: bold\">✔️ Nội dung do Assessment Creator tạo ra:</span>\n",
       "</pre>\n"
      ],
      "text/plain": [
       "\u001b[1;32m✔️ Nội dung do Assessment Creator tạo ra:\u001b[0m\n"
      ]
     },
     "metadata": {},
     "output_type": "display_data"
    },
    {
     "data": {
      "text/html": [
       "<pre style=\"white-space:pre;overflow-x:auto;line-height:normal;font-family:Menlo,'DejaVu Sans Mono',consolas,'Courier New',monospace\"><span style=\"font-weight: bold\">{</span>\n",
       "<span style=\"color: #7fbf7f; text-decoration-color: #7fbf7f\">│   </span><span style=\"color: #008000; text-decoration-color: #008000\">'activity_name'</span>: <span style=\"color: #008000; text-decoration-color: #008000\">'Khởi động và Đặt vấn đề'</span>,\n",
       "<span style=\"color: #7fbf7f; text-decoration-color: #7fbf7f\">│   </span><span style=\"color: #008000; text-decoration-color: #008000\">'duration_minutes'</span>: <span style=\"color: #008080; text-decoration-color: #008080; font-weight: bold\">10</span>,\n",
       "<span style=\"color: #7fbf7f; text-decoration-color: #7fbf7f\">│   </span><span style=\"color: #008000; text-decoration-color: #008000\">'teacher_actions'</span>: <span style=\"font-weight: bold\">[</span>\n",
       "<span style=\"color: #7fbf7f; text-decoration-color: #7fbf7f\">│   │   </span><span style=\"color: #008000; text-decoration-color: #008000\">\"Giới thiệu hoạt động 'Khởi động và Đặt vấn đề' (1 phút).\"</span>,\n",
       "<span style=\"color: #7fbf7f; text-decoration-color: #7fbf7f\">│   │   </span><span style=\"color: #008000; text-decoration-color: #008000\">'Trình bày câu hỏi cốt lõi và yêu cầu học sinh suy nghĩ cá nhân trong 3 phút.'</span>,\n",
       "<span style=\"color: #7fbf7f; text-decoration-color: #7fbf7f\">│   │   </span><span style=\"color: #008000; text-decoration-color: #008000\">'Mời 2-3 học sinh xung phong chia sẻ ý kiến của mình (4 phút).'</span>,\n",
       "<span style=\"color: #7fbf7f; text-decoration-color: #7fbf7f\">│   │   </span><span style=\"color: #008000; text-decoration-color: #008000\">'Tổng kết các ý kiến, nhấn mạnh tầm quan trọng của việc ra quyết định có cơ sở và dẫn dắt vào nội dung bài học mới (2 phút).'</span>\n",
       "<span style=\"color: #7fbf7f; text-decoration-color: #7fbf7f\">│   </span><span style=\"font-weight: bold\">]</span>,\n",
       "<span style=\"color: #7fbf7f; text-decoration-color: #7fbf7f\">│   </span><span style=\"color: #008000; text-decoration-color: #008000\">'core_component'</span>: <span style=\"color: #008000; text-decoration-color: #008000\">'Hãy tưởng tượng bạn đang ở trong một tình huống khó khăn và cần đưa ra một quyết định quan trọng. Bạn sẽ làm gì để đảm bảo quyết định của mình là tốt nhất có thể?'</span>,\n",
       "<span style=\"color: #7fbf7f; text-decoration-color: #7fbf7f\">│   </span><span style=\"color: #008000; text-decoration-color: #008000\">'extension_component'</span>: <span style=\"color: #008000; text-decoration-color: #008000\">'Nếu bạn chỉ có 1 phút để đưa ra quyết định đó, bạn sẽ ưu tiên điều gì và tại sao?'</span>,\n",
       "<span style=\"color: #7fbf7f; text-decoration-color: #7fbf7f\">│   </span><span style=\"color: #008000; text-decoration-color: #008000\">'answer'</span>: <span style=\"color: #008000; text-decoration-color: #008000\">'Để đưa ra quyết định tốt nhất, cần thu thập thông tin đầy đủ, phân tích các lựa chọn, cân nhắc ưu nhược điểm, dự đoán hậu quả và tham khảo ý kiến nếu cần.'</span>,\n",
       "<span style=\"color: #7fbf7f; text-decoration-color: #7fbf7f\">│   </span><span style=\"color: #008000; text-decoration-color: #008000\">'solution_guide'</span>: <span style=\"color: #800080; text-decoration-color: #800080; font-style: italic\">None</span>,\n",
       "<span style=\"color: #7fbf7f; text-decoration-color: #7fbf7f\">│   </span><span style=\"color: #008000; text-decoration-color: #008000\">'differentiation'</span>: <span style=\"font-weight: bold\">{</span>\n",
       "<span style=\"color: #7fbf7f; text-decoration-color: #7fbf7f\">│   │   </span><span style=\"color: #008000; text-decoration-color: #008000\">'for_struggling_students'</span>: <span style=\"color: #008000; text-decoration-color: #008000\">\"Gợi ý các câu hỏi dẫn dắt để học sinh dễ dàng hình dung và đưa ra ý tưởng: 'Bạn sẽ tìm thông tin ở đâu?', 'Ai có thể giúp bạn trong tình huống này?', 'Bạn sẽ nghĩ đến những hậu quả nào?'. Khuyến khích các em nói ra ý tưởng dù chưa hoàn chỉnh.\"</span>,\n",
       "<span style=\"color: #7fbf7f; text-decoration-color: #7fbf7f\">│   │   </span><span style=\"color: #008000; text-decoration-color: #008000\">'for_advanced_students'</span>: <span style=\"color: #008000; text-decoration-color: #008000\">'Yêu cầu học sinh đưa ra một ví dụ cụ thể về tình huống khó khăn mà họ hoặc người thân đã gặp phải, và cách họ đã áp dụng (hoặc sẽ áp dụng) các bước để đưa ra quyết định. Thử thách các em phản biện lại một quan điểm khác về cách ra quyết định.'</span>\n",
       "<span style=\"color: #7fbf7f; text-decoration-color: #7fbf7f\">│   </span><span style=\"font-weight: bold\">}</span>,\n",
       "<span style=\"color: #7fbf7f; text-decoration-color: #7fbf7f\">│   </span><span style=\"color: #008000; text-decoration-color: #008000\">'content_type'</span>: <span style=\"color: #008000; text-decoration-color: #008000\">'Tự luận'</span>\n",
       "<span style=\"font-weight: bold\">}</span>\n",
       "</pre>\n"
      ],
      "text/plain": [
       "\u001b[1m{\u001b[0m\n",
       "\u001b[2;32m│   \u001b[0m\u001b[32m'activity_name'\u001b[0m: \u001b[32m'Khởi động và Đặt vấn đề'\u001b[0m,\n",
       "\u001b[2;32m│   \u001b[0m\u001b[32m'duration_minutes'\u001b[0m: \u001b[1;36m10\u001b[0m,\n",
       "\u001b[2;32m│   \u001b[0m\u001b[32m'teacher_actions'\u001b[0m: \u001b[1m[\u001b[0m\n",
       "\u001b[2;32m│   │   \u001b[0m\u001b[32m\"Giới thiệu hoạt động 'Khởi động và Đặt vấn đề' \u001b[0m\u001b[32m(\u001b[0m\u001b[32m1 phút\u001b[0m\u001b[32m)\u001b[0m\u001b[32m.\"\u001b[0m,\n",
       "\u001b[2;32m│   │   \u001b[0m\u001b[32m'Trình bày câu hỏi cốt lõi và yêu cầu học sinh suy nghĩ cá nhân trong 3 phút.'\u001b[0m,\n",
       "\u001b[2;32m│   │   \u001b[0m\u001b[32m'Mời 2-3 học sinh xung phong chia sẻ ý kiến của mình \u001b[0m\u001b[32m(\u001b[0m\u001b[32m4 phút\u001b[0m\u001b[32m)\u001b[0m\u001b[32m.'\u001b[0m,\n",
       "\u001b[2;32m│   │   \u001b[0m\u001b[32m'Tổng kết các ý kiến, nhấn mạnh tầm quan trọng của việc ra quyết định có cơ sở và dẫn dắt vào nội dung bài học mới \u001b[0m\u001b[32m(\u001b[0m\u001b[32m2 phút\u001b[0m\u001b[32m)\u001b[0m\u001b[32m.'\u001b[0m\n",
       "\u001b[2;32m│   \u001b[0m\u001b[1m]\u001b[0m,\n",
       "\u001b[2;32m│   \u001b[0m\u001b[32m'core_component'\u001b[0m: \u001b[32m'Hãy tưởng tượng bạn đang ở trong một tình huống khó khăn và cần đưa ra một quyết định quan trọng. Bạn sẽ làm gì để đảm bảo quyết định của mình là tốt nhất có thể?'\u001b[0m,\n",
       "\u001b[2;32m│   \u001b[0m\u001b[32m'extension_component'\u001b[0m: \u001b[32m'Nếu bạn chỉ có 1 phút để đưa ra quyết định đó, bạn sẽ ưu tiên điều gì và tại sao?'\u001b[0m,\n",
       "\u001b[2;32m│   \u001b[0m\u001b[32m'answer'\u001b[0m: \u001b[32m'Để đưa ra quyết định tốt nhất, cần thu thập thông tin đầy đủ, phân tích các lựa chọn, cân nhắc ưu nhược điểm, dự đoán hậu quả và tham khảo ý kiến nếu cần.'\u001b[0m,\n",
       "\u001b[2;32m│   \u001b[0m\u001b[32m'solution_guide'\u001b[0m: \u001b[3;35mNone\u001b[0m,\n",
       "\u001b[2;32m│   \u001b[0m\u001b[32m'differentiation'\u001b[0m: \u001b[1m{\u001b[0m\n",
       "\u001b[2;32m│   │   \u001b[0m\u001b[32m'for_struggling_students'\u001b[0m: \u001b[32m\"Gợi ý các câu hỏi dẫn dắt để học sinh dễ dàng hình dung và đưa ra ý tưởng: 'Bạn sẽ tìm thông tin ở đâu?', 'Ai có thể giúp bạn trong tình huống này?', 'Bạn sẽ nghĩ đến những hậu quả nào?'. Khuyến khích các em nói ra ý tưởng dù chưa hoàn chỉnh.\"\u001b[0m,\n",
       "\u001b[2;32m│   │   \u001b[0m\u001b[32m'for_advanced_students'\u001b[0m: \u001b[32m'Yêu cầu học sinh đưa ra một ví dụ cụ thể về tình huống khó khăn mà họ hoặc người thân đã gặp phải, và cách họ đã áp dụng \u001b[0m\u001b[32m(\u001b[0m\u001b[32mhoặc sẽ áp dụng\u001b[0m\u001b[32m)\u001b[0m\u001b[32m các bước để đưa ra quyết định. Thử thách các em phản biện lại một quan điểm khác về cách ra quyết định.'\u001b[0m\n",
       "\u001b[2;32m│   \u001b[0m\u001b[1m}\u001b[0m,\n",
       "\u001b[2;32m│   \u001b[0m\u001b[32m'content_type'\u001b[0m: \u001b[32m'Tự luận'\u001b[0m\n",
       "\u001b[1m}\u001b[0m\n"
      ]
     },
     "metadata": {},
     "output_type": "display_data"
    },
    {
     "data": {
      "text/html": [
       "<pre style=\"white-space:pre;overflow-x:auto;line-height:normal;font-family:Menlo,'DejaVu Sans Mono',consolas,'Courier New',monospace\">\n",
       "<span style=\"color: #808000; text-decoration-color: #808000; font-weight: bold\">------- Hoàn thành bước: assessment_creator -------</span>\n",
       "</pre>\n"
      ],
      "text/plain": [
       "\n",
       "\u001b[1;33m------- Hoàn thành bước: assessment_creator -------\u001b[0m\n"
      ]
     },
     "metadata": {},
     "output_type": "display_data"
    },
    {
     "data": {
      "text/html": [
       "<pre style=\"white-space:pre;overflow-x:auto;line-height:normal;font-family:Menlo,'DejaVu Sans Mono',consolas,'Courier New',monospace\">\n",
       "<span style=\"color: #008080; text-decoration-color: #008080; font-weight: bold\">&gt;</span> `Agent: Guardian Critic` <span style=\"font-weight: bold\">(</span>v12.<span style=\"color: #008080; text-decoration-color: #008080; font-weight: bold\">0</span><span style=\"font-weight: bold\">)</span> đang bảo vệ kế hoạch<span style=\"color: #808000; text-decoration-color: #808000\">...</span>\n",
       "</pre>\n"
      ],
      "text/plain": [
       "\n",
       "\u001b[1;36m>\u001b[0m `Agent: Guardian Critic` \u001b[1m(\u001b[0mv12.\u001b[1;36m0\u001b[0m\u001b[1m)\u001b[0m đang bảo vệ kế hoạch\u001b[33m...\u001b[0m\n"
      ]
     },
     "metadata": {},
     "output_type": "display_data"
    },
    {
     "data": {
      "text/html": [
       "<pre style=\"white-space:pre;overflow-x:auto;line-height:normal;font-family:Menlo,'DejaVu Sans Mono',consolas,'Courier New',monospace\">\n",
       "<span style=\"color: #008080; text-decoration-color: #008080; font-weight: bold\">&gt;</span> ✔️ GUARDIAN: Nội dung tuân thủ kế hoạch!\n",
       "</pre>\n"
      ],
      "text/plain": [
       "\n",
       "\u001b[1;36m>\u001b[0m ✔️ GUARDIAN: Nội dung tuân thủ kế hoạch!\n"
      ]
     },
     "metadata": {},
     "output_type": "display_data"
    },
    {
     "data": {
      "text/html": [
       "<pre style=\"white-space:pre;overflow-x:auto;line-height:normal;font-family:Menlo,'DejaVu Sans Mono',consolas,'Courier New',monospace\">\n",
       "<span style=\"color: #808000; text-decoration-color: #808000; font-weight: bold\">------- Hoàn thành bước: content_validator -------</span>\n",
       "</pre>\n"
      ],
      "text/plain": [
       "\n",
       "\u001b[1;33m------- Hoàn thành bước: content_validator -------\u001b[0m\n"
      ]
     },
     "metadata": {},
     "output_type": "display_data"
    },
    {
     "data": {
      "text/html": [
       "<pre style=\"white-space:pre;overflow-x:auto;line-height:normal;font-family:Menlo,'DejaVu Sans Mono',consolas,'Courier New',monospace\">\n",
       "<span style=\"color: #008080; text-decoration-color: #008080; font-weight: bold\">&gt;</span> `Commiter`: Đang ghi nhận nội dung đã được xác thực<span style=\"color: #808000; text-decoration-color: #808000\">...</span>\n",
       "</pre>\n"
      ],
      "text/plain": [
       "\n",
       "\u001b[1;36m>\u001b[0m `Commiter`: Đang ghi nhận nội dung đã được xác thực\u001b[33m...\u001b[0m\n"
      ]
     },
     "metadata": {},
     "output_type": "display_data"
    },
    {
     "data": {
      "text/html": [
       "<pre style=\"white-space:pre;overflow-x:auto;line-height:normal;font-family:Menlo,'DejaVu Sans Mono',consolas,'Courier New',monospace\">\n",
       "<span style=\"color: #808000; text-decoration-color: #808000; font-weight: bold\">------- Hoàn thành bước: commit_validated_content -------</span>\n",
       "</pre>\n"
      ],
      "text/plain": [
       "\n",
       "\u001b[1;33m------- Hoàn thành bước: commit_validated_content -------\u001b[0m\n"
      ]
     },
     "metadata": {},
     "output_type": "display_data"
    },
    {
     "data": {
      "text/html": [
       "<pre style=\"white-space:pre;overflow-x:auto;line-height:normal;font-family:Menlo,'DejaVu Sans Mono',consolas,'Courier New',monospace\">\n",
       "<span style=\"color: #808000; text-decoration-color: #808000; font-weight: bold\">------- Hoàn thành bước: mark_task_complete -------</span>\n",
       "</pre>\n"
      ],
      "text/plain": [
       "\n",
       "\u001b[1;33m------- Hoàn thành bước: mark_task_complete -------\u001b[0m\n"
      ]
     },
     "metadata": {},
     "output_type": "display_data"
    },
    {
     "data": {
      "text/html": [
       "<pre style=\"white-space:pre;overflow-x:auto;line-height:normal;font-family:Menlo,'DejaVu Sans Mono',consolas,'Courier New',monospace\">\n",
       "<span style=\"color: #808000; text-decoration-color: #808000; font-weight: bold\">------- Hoàn thành bước: delay_node -------</span>\n",
       "</pre>\n"
      ],
      "text/plain": [
       "\n",
       "\u001b[1;33m------- Hoàn thành bước: delay_node -------\u001b[0m\n"
      ]
     },
     "metadata": {},
     "output_type": "display_data"
    },
    {
     "data": {
      "text/html": [
       "<pre style=\"white-space:pre;overflow-x:auto;line-height:normal;font-family:Menlo,'DejaVu Sans Mono',consolas,'Courier New',monospace\">\n",
       "<span style=\"color: #008080; text-decoration-color: #008080; font-weight: bold\">&gt;</span> `Router`: Đang kiểm tra nhiệm vụ<span style=\"color: #808000; text-decoration-color: #808000\">...</span>\n",
       "</pre>\n"
      ],
      "text/plain": [
       "\n",
       "\u001b[1;36m>\u001b[0m `Router`: Đang kiểm tra nhiệm vụ\u001b[33m...\u001b[0m\n"
      ]
     },
     "metadata": {},
     "output_type": "display_data"
    },
    {
     "data": {
      "text/html": [
       "<pre style=\"white-space:pre;overflow-x:auto;line-height:normal;font-family:Menlo,'DejaVu Sans Mono',consolas,'Courier New',monospace\">\n",
       "<span style=\"color: #008080; text-decoration-color: #008080; font-weight: bold\">&gt;</span> Nhiệm vụ tiếp theo: <span style=\"color: #008000; text-decoration-color: #008000\">'Khám phá và Xây dựng kiến thức mới'</span> <span style=\"font-weight: bold\">(</span>ID: <span style=\"color: #008080; text-decoration-color: #008080; font-weight: bold\">1</span><span style=\"font-weight: bold\">)</span>\n",
       "</pre>\n"
      ],
      "text/plain": [
       "\n",
       "\u001b[1;36m>\u001b[0m Nhiệm vụ tiếp theo: \u001b[32m'Khám phá và Xây dựng kiến thức mới'\u001b[0m \u001b[1m(\u001b[0mID: \u001b[1;36m1\u001b[0m\u001b[1m)\u001b[0m\n"
      ]
     },
     "metadata": {},
     "output_type": "display_data"
    },
    {
     "data": {
      "text/html": [
       "<pre style=\"white-space:pre;overflow-x:auto;line-height:normal;font-family:Menlo,'DejaVu Sans Mono',consolas,'Courier New',monospace\">\n",
       "<span style=\"color: #808000; text-decoration-color: #808000; font-weight: bold\">------- Hoàn thành bước: task_router -------</span>\n",
       "</pre>\n"
      ],
      "text/plain": [
       "\n",
       "\u001b[1;33m------- Hoàn thành bước: task_router -------\u001b[0m\n"
      ]
     },
     "metadata": {},
     "output_type": "display_data"
    },
    {
     "data": {
      "text/html": [
       "<pre style=\"white-space:pre;overflow-x:auto;line-height:normal;font-family:Menlo,'DejaVu Sans Mono',consolas,'Courier New',monospace\">\n",
       "<span style=\"color: #008080; text-decoration-color: #008080; font-weight: bold\">&gt;</span> `Agent: Task Dispatcher` đang giao việc<span style=\"color: #808000; text-decoration-color: #808000\">...</span>\n",
       "</pre>\n"
      ],
      "text/plain": [
       "\n",
       "\u001b[1;36m>\u001b[0m `Agent: Task Dispatcher` đang giao việc\u001b[33m...\u001b[0m\n"
      ]
     },
     "metadata": {},
     "output_type": "display_data"
    },
    {
     "data": {
      "text/html": [
       "<pre style=\"white-space:pre;overflow-x:auto;line-height:normal;font-family:Menlo,'DejaVu Sans Mono',consolas,'Courier New',monospace\">\n",
       "<span style=\"color: #008080; text-decoration-color: #008080; font-weight: bold\">&gt;</span> --- 🚚 `Dispatcher`: Giao nhiệm vụ cho `activity_designer`.\n",
       "</pre>\n"
      ],
      "text/plain": [
       "\n",
       "\u001b[1;36m>\u001b[0m --- 🚚 `Dispatcher`: Giao nhiệm vụ cho `activity_designer`.\n"
      ]
     },
     "metadata": {},
     "output_type": "display_data"
    },
    {
     "data": {
      "text/html": [
       "<pre style=\"white-space:pre;overflow-x:auto;line-height:normal;font-family:Menlo,'DejaVu Sans Mono',consolas,'Courier New',monospace\">\n",
       "<span style=\"color: #808000; text-decoration-color: #808000; font-weight: bold\">------- Hoàn thành bước: task_dispatcher -------</span>\n",
       "</pre>\n"
      ],
      "text/plain": [
       "\n",
       "\u001b[1;33m------- Hoàn thành bước: task_dispatcher -------\u001b[0m\n"
      ]
     },
     "metadata": {},
     "output_type": "display_data"
    },
    {
     "data": {
      "text/html": [
       "<pre style=\"white-space:pre;overflow-x:auto;line-height:normal;font-family:Menlo,'DejaVu Sans Mono',consolas,'Courier New',monospace\">\n",
       "<span style=\"color: #008080; text-decoration-color: #008080; font-weight: bold\">&gt;</span> `Agent: Activity Designer` <span style=\"font-weight: bold\">(</span>v12.<span style=\"color: #008080; text-decoration-color: #008080; font-weight: bold\">0</span><span style=\"font-weight: bold\">)</span> đang tạo nội dung theo kỷ luật<span style=\"color: #808000; text-decoration-color: #808000\">...</span>\n",
       "</pre>\n"
      ],
      "text/plain": [
       "\n",
       "\u001b[1;36m>\u001b[0m `Agent: Activity Designer` \u001b[1m(\u001b[0mv12.\u001b[1;36m0\u001b[0m\u001b[1m)\u001b[0m đang tạo nội dung theo kỷ luật\u001b[33m...\u001b[0m\n"
      ]
     },
     "metadata": {},
     "output_type": "display_data"
    },
    {
     "data": {
      "text/html": [
       "<pre style=\"white-space:pre;overflow-x:auto;line-height:normal;font-family:Menlo,'DejaVu Sans Mono',consolas,'Courier New',monospace\"><span style=\"color: #008000; text-decoration-color: #008000; font-weight: bold\">✔️ Nội dung do Activity Designer tạo ra:</span>\n",
       "</pre>\n"
      ],
      "text/plain": [
       "\u001b[1;32m✔️ Nội dung do Activity Designer tạo ra:\u001b[0m\n"
      ]
     },
     "metadata": {},
     "output_type": "display_data"
    },
    {
     "data": {
      "text/html": [
       "<pre style=\"white-space:pre;overflow-x:auto;line-height:normal;font-family:Menlo,'DejaVu Sans Mono',consolas,'Courier New',monospace\"><span style=\"font-weight: bold\">{</span>\n",
       "<span style=\"color: #7fbf7f; text-decoration-color: #7fbf7f\">│   </span><span style=\"color: #008000; text-decoration-color: #008000\">'activity_name'</span>: <span style=\"color: #008000; text-decoration-color: #008000\">'Khám phá và Xây dựng kiến thức mới'</span>,\n",
       "<span style=\"color: #7fbf7f; text-decoration-color: #7fbf7f\">│   </span><span style=\"color: #008000; text-decoration-color: #008000\">'duration_minutes'</span>: <span style=\"color: #008080; text-decoration-color: #008080; font-weight: bold\">35</span>,\n",
       "<span style=\"color: #7fbf7f; text-decoration-color: #7fbf7f\">│   </span><span style=\"color: #008000; text-decoration-color: #008000\">'teacher_actions'</span>: <span style=\"font-weight: bold\">[</span>\n",
       "<span style=\"color: #7fbf7f; text-decoration-color: #7fbf7f\">│   │   </span><span style=\"color: #008000; text-decoration-color: #008000\">'Giới thiệu mục tiêu hoạt động và phân công nhiệm vụ rõ ràng.'</span>,\n",
       "<span style=\"color: #7fbf7f; text-decoration-color: #7fbf7f\">│   │   </span><span style=\"color: #008000; text-decoration-color: #008000\">'Chia nhóm học sinh, phân phát tài liệu và hướng dẫn về thời gian cho từng phần.'</span>,\n",
       "<span style=\"color: #7fbf7f; text-decoration-color: #7fbf7f\">│   │   </span><span style=\"color: #008000; text-decoration-color: #008000\">'Quan sát, lắng nghe các nhóm thảo luận, đi vòng quanh để hỗ trợ, gợi ý và đặt câu hỏi mở nhằm thúc đẩy tư duy.'</span>,\n",
       "<span style=\"color: #7fbf7f; text-decoration-color: #7fbf7f\">│   │   </span><span style=\"color: #008000; text-decoration-color: #008000\">'Tổ chức phần trình bày ngắn gọn của các nhóm (nếu thời gian cho phép, mỗi nhóm 1 phút).'</span>,\n",
       "<span style=\"color: #7fbf7f; text-decoration-color: #7fbf7f\">│   │   </span><span style=\"color: #008000; text-decoration-color: #008000\">'Tổng kết các ý chính đã được khám phá, giải đáp nhanh các thắc mắc chung và chuyển tiếp sang hoạt động tiếp theo.'</span>\n",
       "<span style=\"color: #7fbf7f; text-decoration-color: #7fbf7f\">│   </span><span style=\"font-weight: bold\">]</span>,\n",
       "<span style=\"color: #7fbf7f; text-decoration-color: #7fbf7f\">│   </span><span style=\"color: #008000; text-decoration-color: #008000\">'core_component'</span>: <span style=\"color: #008000; text-decoration-color: #008000\">'Học sinh làm việc theo nhóm (4-5 người) để nghiên cứu tài liệu/video/bài đọc được cung cấp về chủ đề mới. Các nhóm thảo luận để: 1. Xác định 3-5 khái niệm/ý chính quan trọng nhất. 2. Đặt 1-2 câu hỏi về những điểm chưa rõ hoặc muốn tìm hiểu sâu hơn. 3. Chuẩn bị trình bày ngắn gọn (1-2 phút/nhóm) về những gì nhóm đã khám phá và câu hỏi của nhóm.'</span>,\n",
       "<span style=\"color: #7fbf7f; text-decoration-color: #7fbf7f\">│   </span><span style=\"color: #008000; text-decoration-color: #008000\">'extension_component'</span>: <span style=\"color: #008000; text-decoration-color: #008000\">'Học sinh tiếp tục tìm kiếm các ví dụ thực tế hoặc ứng dụng của kiến thức vừa học trong đời sống hoặc các lĩnh vực khác. Chuẩn bị một câu hỏi thách thức hoặc một vấn đề mở rộng liên quan đến chủ đề để chia sẻ với cả lớp.'</span>,\n",
       "<span style=\"color: #7fbf7f; text-decoration-color: #7fbf7f\">│   </span><span style=\"color: #008000; text-decoration-color: #008000\">'solution_guide'</span>: <span style=\"color: #008000; text-decoration-color: #008000\">\"Các câu hỏi gợi mở để tổng kết và củng cố kiến thức: 'Ba điều quan trọng nhất bạn học được hôm nay là gì?', 'Bạn sẽ áp dụng kiến thức này vào đâu trong thực tế?', 'Có điều gì bạn muốn tìm hiểu sâu hơn về chủ đề này không?', 'Làm thế nào để giải thích khái niệm [Tên khái niệm] cho một người bạn?'\"</span>,\n",
       "<span style=\"color: #7fbf7f; text-decoration-color: #7fbf7f\">│   </span><span style=\"color: #008000; text-decoration-color: #008000\">'differentiation'</span>: <span style=\"font-weight: bold\">{</span>\n",
       "<span style=\"color: #7fbf7f; text-decoration-color: #7fbf7f\">│   │   </span><span style=\"color: #008000; text-decoration-color: #008000\">'for_struggling_students'</span>: <span style=\"color: #008000; text-decoration-color: #008000\">\"Cung cấp tài liệu đã được tóm tắt, có từ khóa nổi bật hoặc hình ảnh minh họa. Gợi ý các câu hỏi dẫn dắt cụ thể hơn (ví dụ: 'Khái niệm X là gì?', 'Nó có đặc điểm gì?'). Khuyến khích các em đặt câu hỏi đơn giản nhất để bắt đầu và ghép nhóm với học sinh khá giỏi để nhận được sự hỗ trợ.\"</span>,\n",
       "<span style=\"color: #7fbf7f; text-decoration-color: #7fbf7f\">│   │   </span><span style=\"color: #008000; text-decoration-color: #008000\">'for_advanced_students'</span>: <span style=\"color: #008000; text-decoration-color: #008000\">'Yêu cầu các em tìm kiếm thêm thông tin từ nguồn bên ngoài (sách giáo khoa nâng cao, internet) để bổ sung cho tài liệu được cung cấp. Thách thức các em liên hệ kiến thức mới với các chủ đề đã học hoặc đưa ra các ứng dụng tiềm năng trong tương lai. Yêu cầu chuẩn bị một câu hỏi phản biện sâu sắc cho các nhóm khác.'</span>\n",
       "<span style=\"color: #7fbf7f; text-decoration-color: #7fbf7f\">│   </span><span style=\"font-weight: bold\">}</span>,\n",
       "<span style=\"color: #7fbf7f; text-decoration-color: #7fbf7f\">│   </span><span style=\"color: #008000; text-decoration-color: #008000\">'content_type'</span>: <span style=\"color: #008000; text-decoration-color: #008000\">'Thảo luận nhóm và Thực hành cá nhân'</span>\n",
       "<span style=\"font-weight: bold\">}</span>\n",
       "</pre>\n"
      ],
      "text/plain": [
       "\u001b[1m{\u001b[0m\n",
       "\u001b[2;32m│   \u001b[0m\u001b[32m'activity_name'\u001b[0m: \u001b[32m'Khám phá và Xây dựng kiến thức mới'\u001b[0m,\n",
       "\u001b[2;32m│   \u001b[0m\u001b[32m'duration_minutes'\u001b[0m: \u001b[1;36m35\u001b[0m,\n",
       "\u001b[2;32m│   \u001b[0m\u001b[32m'teacher_actions'\u001b[0m: \u001b[1m[\u001b[0m\n",
       "\u001b[2;32m│   │   \u001b[0m\u001b[32m'Giới thiệu mục tiêu hoạt động và phân công nhiệm vụ rõ ràng.'\u001b[0m,\n",
       "\u001b[2;32m│   │   \u001b[0m\u001b[32m'Chia nhóm học sinh, phân phát tài liệu và hướng dẫn về thời gian cho từng phần.'\u001b[0m,\n",
       "\u001b[2;32m│   │   \u001b[0m\u001b[32m'Quan sát, lắng nghe các nhóm thảo luận, đi vòng quanh để hỗ trợ, gợi ý và đặt câu hỏi mở nhằm thúc đẩy tư duy.'\u001b[0m,\n",
       "\u001b[2;32m│   │   \u001b[0m\u001b[32m'Tổ chức phần trình bày ngắn gọn của các nhóm \u001b[0m\u001b[32m(\u001b[0m\u001b[32mnếu thời gian cho phép, mỗi nhóm 1 phút\u001b[0m\u001b[32m)\u001b[0m\u001b[32m.'\u001b[0m,\n",
       "\u001b[2;32m│   │   \u001b[0m\u001b[32m'Tổng kết các ý chính đã được khám phá, giải đáp nhanh các thắc mắc chung và chuyển tiếp sang hoạt động tiếp theo.'\u001b[0m\n",
       "\u001b[2;32m│   \u001b[0m\u001b[1m]\u001b[0m,\n",
       "\u001b[2;32m│   \u001b[0m\u001b[32m'core_component'\u001b[0m: \u001b[32m'Học sinh làm việc theo nhóm \u001b[0m\u001b[32m(\u001b[0m\u001b[32m4-5 người\u001b[0m\u001b[32m)\u001b[0m\u001b[32m để nghiên cứu tài liệu/video/bài đọc được cung cấp về chủ đề mới. Các nhóm thảo luận để: 1. Xác định 3-5 khái niệm/ý chính quan trọng nhất. 2. Đặt 1-2 câu hỏi về những điểm chưa rõ hoặc muốn tìm hiểu sâu hơn. 3. Chuẩn bị trình bày ngắn gọn \u001b[0m\u001b[32m(\u001b[0m\u001b[32m1-2 phút/nhóm\u001b[0m\u001b[32m)\u001b[0m\u001b[32m về những gì nhóm đã khám phá và câu hỏi của nhóm.'\u001b[0m,\n",
       "\u001b[2;32m│   \u001b[0m\u001b[32m'extension_component'\u001b[0m: \u001b[32m'Học sinh tiếp tục tìm kiếm các ví dụ thực tế hoặc ứng dụng của kiến thức vừa học trong đời sống hoặc các lĩnh vực khác. Chuẩn bị một câu hỏi thách thức hoặc một vấn đề mở rộng liên quan đến chủ đề để chia sẻ với cả lớp.'\u001b[0m,\n",
       "\u001b[2;32m│   \u001b[0m\u001b[32m'solution_guide'\u001b[0m: \u001b[32m\"Các câu hỏi gợi mở để tổng kết và củng cố kiến thức: 'Ba điều quan trọng nhất bạn học được hôm nay là gì?', 'Bạn sẽ áp dụng kiến thức này vào đâu trong thực tế?', 'Có điều gì bạn muốn tìm hiểu sâu hơn về chủ đề này không?', 'Làm thế nào để giải thích khái niệm \u001b[0m\u001b[32m[\u001b[0m\u001b[32mTên khái niệm\u001b[0m\u001b[32m]\u001b[0m\u001b[32m cho một người bạn?'\"\u001b[0m,\n",
       "\u001b[2;32m│   \u001b[0m\u001b[32m'differentiation'\u001b[0m: \u001b[1m{\u001b[0m\n",
       "\u001b[2;32m│   │   \u001b[0m\u001b[32m'for_struggling_students'\u001b[0m: \u001b[32m\"Cung cấp tài liệu đã được tóm tắt, có từ khóa nổi bật hoặc hình ảnh minh họa. Gợi ý các câu hỏi dẫn dắt cụ thể hơn \u001b[0m\u001b[32m(\u001b[0m\u001b[32mví dụ: 'Khái niệm X là gì?', 'Nó có đặc điểm gì?'\u001b[0m\u001b[32m)\u001b[0m\u001b[32m. Khuyến khích các em đặt câu hỏi đơn giản nhất để bắt đầu và ghép nhóm với học sinh khá giỏi để nhận được sự hỗ trợ.\"\u001b[0m,\n",
       "\u001b[2;32m│   │   \u001b[0m\u001b[32m'for_advanced_students'\u001b[0m: \u001b[32m'Yêu cầu các em tìm kiếm thêm thông tin từ nguồn bên ngoài \u001b[0m\u001b[32m(\u001b[0m\u001b[32msách giáo khoa nâng cao, internet\u001b[0m\u001b[32m)\u001b[0m\u001b[32m để bổ sung cho tài liệu được cung cấp. Thách thức các em liên hệ kiến thức mới với các chủ đề đã học hoặc đưa ra các ứng dụng tiềm năng trong tương lai. Yêu cầu chuẩn bị một câu hỏi phản biện sâu sắc cho các nhóm khác.'\u001b[0m\n",
       "\u001b[2;32m│   \u001b[0m\u001b[1m}\u001b[0m,\n",
       "\u001b[2;32m│   \u001b[0m\u001b[32m'content_type'\u001b[0m: \u001b[32m'Thảo luận nhóm và Thực hành cá nhân'\u001b[0m\n",
       "\u001b[1m}\u001b[0m\n"
      ]
     },
     "metadata": {},
     "output_type": "display_data"
    },
    {
     "data": {
      "text/html": [
       "<pre style=\"white-space:pre;overflow-x:auto;line-height:normal;font-family:Menlo,'DejaVu Sans Mono',consolas,'Courier New',monospace\">\n",
       "<span style=\"color: #808000; text-decoration-color: #808000; font-weight: bold\">------- Hoàn thành bước: activity_designer -------</span>\n",
       "</pre>\n"
      ],
      "text/plain": [
       "\n",
       "\u001b[1;33m------- Hoàn thành bước: activity_designer -------\u001b[0m\n"
      ]
     },
     "metadata": {},
     "output_type": "display_data"
    },
    {
     "data": {
      "text/html": [
       "<pre style=\"white-space:pre;overflow-x:auto;line-height:normal;font-family:Menlo,'DejaVu Sans Mono',consolas,'Courier New',monospace\">\n",
       "<span style=\"color: #008080; text-decoration-color: #008080; font-weight: bold\">&gt;</span> `Agent: Guardian Critic` <span style=\"font-weight: bold\">(</span>v12.<span style=\"color: #008080; text-decoration-color: #008080; font-weight: bold\">0</span><span style=\"font-weight: bold\">)</span> đang bảo vệ kế hoạch<span style=\"color: #808000; text-decoration-color: #808000\">...</span>\n",
       "</pre>\n"
      ],
      "text/plain": [
       "\n",
       "\u001b[1;36m>\u001b[0m `Agent: Guardian Critic` \u001b[1m(\u001b[0mv12.\u001b[1;36m0\u001b[0m\u001b[1m)\u001b[0m đang bảo vệ kế hoạch\u001b[33m...\u001b[0m\n"
      ]
     },
     "metadata": {},
     "output_type": "display_data"
    },
    {
     "data": {
      "text/html": [
       "<pre style=\"white-space:pre;overflow-x:auto;line-height:normal;font-family:Menlo,'DejaVu Sans Mono',consolas,'Courier New',monospace\"><span style=\"color: #808000; text-decoration-color: #808000; font-weight: bold\">⚠️  GUARDIAN PHẢN BIỆN: Hoạt động này được thiết kế khá chi tiết và có nhiều yếu tố tích cực, tuy nhiên, với thời </span>\n",
       "<span style=\"color: #808000; text-decoration-color: #808000; font-weight: bold\">lượng </span><span style=\"color: #808000; text-decoration-color: #808000; font-weight: bold\">35</span><span style=\"color: #808000; text-decoration-color: #808000; font-weight: bold\"> phút, nội dung này là quá tải và khó có thể thực hiện hiệu quả. Cụ thể:</span>\n",
       "<span style=\"color: #808000; text-decoration-color: #808000; font-weight: bold\">- Phần </span><span style=\"color: #808000; text-decoration-color: #808000; font-weight: bold\">\"Khám phá và Xây dựng kiến thức mới\"</span><span style=\"color: #808000; text-decoration-color: #808000; font-weight: bold\"> yêu cầu học sinh nghiên cứu tài liệu/video/bài đọc về chủ đề mới, xác </span>\n",
       "<span style=\"color: #808000; text-decoration-color: #808000; font-weight: bold\">định </span><span style=\"color: #808000; text-decoration-color: #808000; font-weight: bold\">3</span><span style=\"color: #808000; text-decoration-color: #808000; font-weight: bold\">-</span><span style=\"color: #808000; text-decoration-color: #808000; font-weight: bold\">5</span><span style=\"color: #808000; text-decoration-color: #808000; font-weight: bold\"> khái niệm, đặt câu hỏi và chuẩn bị trình bày. Đây là một khối lượng công việc lớn, đặc biệt khi là kiến </span>\n",
       "<span style=\"color: #808000; text-decoration-color: #808000; font-weight: bold\">thức mới, sẽ cần nhiều thời gian hơn </span><span style=\"color: #808000; text-decoration-color: #808000; font-weight: bold\">15</span><span style=\"color: #808000; text-decoration-color: #808000; font-weight: bold\">-</span><span style=\"color: #808000; text-decoration-color: #808000; font-weight: bold\">20</span><span style=\"color: #808000; text-decoration-color: #808000; font-weight: bold\"> phút cho hoạt động nhóm.</span>\n",
       "<span style=\"color: #808000; text-decoration-color: #808000; font-weight: bold\">- Việc tổ chức trình bày cho các nhóm (dù chỉ </span><span style=\"color: #808000; text-decoration-color: #808000; font-weight: bold\">1</span><span style=\"color: #808000; text-decoration-color: #808000; font-weight: bold\"> phút/nhóm) cũng sẽ tiêu tốn đáng kể thời gian (ví dụ </span><span style=\"color: #808000; text-decoration-color: #808000; font-weight: bold\">5</span><span style=\"color: #808000; text-decoration-color: #808000; font-weight: bold\"> nhóm đã là </span><span style=\"color: #808000; text-decoration-color: #808000; font-weight: bold\">5</span>\n",
       "<span style=\"color: #808000; text-decoration-color: #808000; font-weight: bold\">phút).</span>\n",
       "<span style=\"color: #808000; text-decoration-color: #808000; font-weight: bold\">- Phần </span><span style=\"color: #808000; text-decoration-color: #808000; font-weight: bold\">\"extension_component\"</span><span style=\"color: #808000; text-decoration-color: #808000; font-weight: bold\"> (mở rộng) yêu cầu học sinh tiếp tục tìm kiếm ví dụ thực tế hoặc ứng dụng và chuẩn bị </span>\n",
       "<span style=\"color: #808000; text-decoration-color: #808000; font-weight: bold\">câu hỏi thách thức, điều này gần như không thể thực hiện được trong thời gian còn lại sau khi hoàn thành phần cốt </span>\n",
       "<span style=\"color: #808000; text-decoration-color: #808000; font-weight: bold\">lõi và trình bày.</span>\n",
       "\n",
       "<span style=\"color: #808000; text-decoration-color: #808000; font-weight: bold\">Hoạt động này có thể phù hợp hơn với một tiết học dài hơn (ví dụ </span><span style=\"color: #808000; text-decoration-color: #808000; font-weight: bold\">45</span><span style=\"color: #808000; text-decoration-color: #808000; font-weight: bold\">-</span><span style=\"color: #808000; text-decoration-color: #808000; font-weight: bold\">60</span><span style=\"color: #808000; text-decoration-color: #808000; font-weight: bold\"> phút) hoặc cần được tinh giản đáng kể để phù</span>\n",
       "<span style=\"color: #808000; text-decoration-color: #808000; font-weight: bold\">hợp với </span><span style=\"color: #808000; text-decoration-color: #808000; font-weight: bold\">35</span><span style=\"color: #808000; text-decoration-color: #808000; font-weight: bold\"> phút. Hãy thiết kế lại một phiên bản đơn giản hơn để khớp với thời gian </span><span style=\"color: #808000; text-decoration-color: #808000; font-weight: bold\">35</span><span style=\"color: #808000; text-decoration-color: #808000; font-weight: bold\"> phút đã cho.</span>\n",
       "</pre>\n"
      ],
      "text/plain": [
       "\u001b[1;33m⚠️  GUARDIAN PHẢN BIỆN: Hoạt động này được thiết kế khá chi tiết và có nhiều yếu tố tích cực, tuy nhiên, với thời \u001b[0m\n",
       "\u001b[1;33mlượng \u001b[0m\u001b[1;33m35\u001b[0m\u001b[1;33m phút, nội dung này là quá tải và khó có thể thực hiện hiệu quả. Cụ thể:\u001b[0m\n",
       "\u001b[1;33m- Phần \u001b[0m\u001b[1;33m\"Khám phá và Xây dựng kiến thức mới\"\u001b[0m\u001b[1;33m yêu cầu học sinh nghiên cứu tài liệu/video/bài đọc về chủ đề mới, xác \u001b[0m\n",
       "\u001b[1;33mđịnh \u001b[0m\u001b[1;33m3\u001b[0m\u001b[1;33m-\u001b[0m\u001b[1;33m5\u001b[0m\u001b[1;33m khái niệm, đặt câu hỏi và chuẩn bị trình bày. Đây là một khối lượng công việc lớn, đặc biệt khi là kiến \u001b[0m\n",
       "\u001b[1;33mthức mới, sẽ cần nhiều thời gian hơn \u001b[0m\u001b[1;33m15\u001b[0m\u001b[1;33m-\u001b[0m\u001b[1;33m20\u001b[0m\u001b[1;33m phút cho hoạt động nhóm.\u001b[0m\n",
       "\u001b[1;33m- Việc tổ chức trình bày cho các nhóm \u001b[0m\u001b[1;33m(\u001b[0m\u001b[1;33mdù chỉ \u001b[0m\u001b[1;33m1\u001b[0m\u001b[1;33m phút/nhóm\u001b[0m\u001b[1;33m)\u001b[0m\u001b[1;33m cũng sẽ tiêu tốn đáng kể thời gian \u001b[0m\u001b[1;33m(\u001b[0m\u001b[1;33mví dụ \u001b[0m\u001b[1;33m5\u001b[0m\u001b[1;33m nhóm đã là \u001b[0m\u001b[1;33m5\u001b[0m\n",
       "\u001b[1;33mphút\u001b[0m\u001b[1;33m)\u001b[0m\u001b[1;33m.\u001b[0m\n",
       "\u001b[1;33m- Phần \u001b[0m\u001b[1;33m\"extension_component\"\u001b[0m\u001b[1;33m \u001b[0m\u001b[1;33m(\u001b[0m\u001b[1;33mmở rộng\u001b[0m\u001b[1;33m)\u001b[0m\u001b[1;33m yêu cầu học sinh tiếp tục tìm kiếm ví dụ thực tế hoặc ứng dụng và chuẩn bị \u001b[0m\n",
       "\u001b[1;33mcâu hỏi thách thức, điều này gần như không thể thực hiện được trong thời gian còn lại sau khi hoàn thành phần cốt \u001b[0m\n",
       "\u001b[1;33mlõi và trình bày.\u001b[0m\n",
       "\n",
       "\u001b[1;33mHoạt động này có thể phù hợp hơn với một tiết học dài hơn \u001b[0m\u001b[1;33m(\u001b[0m\u001b[1;33mví dụ \u001b[0m\u001b[1;33m45\u001b[0m\u001b[1;33m-\u001b[0m\u001b[1;33m60\u001b[0m\u001b[1;33m phút\u001b[0m\u001b[1;33m)\u001b[0m\u001b[1;33m hoặc cần được tinh giản đáng kể để phù\u001b[0m\n",
       "\u001b[1;33mhợp với \u001b[0m\u001b[1;33m35\u001b[0m\u001b[1;33m phút. Hãy thiết kế lại một phiên bản đơn giản hơn để khớp với thời gian \u001b[0m\u001b[1;33m35\u001b[0m\u001b[1;33m phút đã cho.\u001b[0m\n"
      ]
     },
     "metadata": {},
     "output_type": "display_data"
    },
    {
     "data": {
      "text/html": [
       "<pre style=\"white-space:pre;overflow-x:auto;line-height:normal;font-family:Menlo,'DejaVu Sans Mono',consolas,'Courier New',monospace\">\n",
       "<span style=\"color: #808000; text-decoration-color: #808000; font-weight: bold\">------- Hoàn thành bước: content_validator -------</span>\n",
       "</pre>\n"
      ],
      "text/plain": [
       "\n",
       "\u001b[1;33m------- Hoàn thành bước: content_validator -------\u001b[0m\n"
      ]
     },
     "metadata": {},
     "output_type": "display_data"
    },
    {
     "data": {
      "text/html": [
       "<pre style=\"white-space:pre;overflow-x:auto;line-height:normal;font-family:Menlo,'DejaVu Sans Mono',consolas,'Courier New',monospace\">\n",
       "<span style=\"color: #008080; text-decoration-color: #008080; font-weight: bold\">&gt;</span> `Agent: Task Dispatcher` đang giao việc<span style=\"color: #808000; text-decoration-color: #808000\">...</span>\n",
       "</pre>\n"
      ],
      "text/plain": [
       "\n",
       "\u001b[1;36m>\u001b[0m `Agent: Task Dispatcher` đang giao việc\u001b[33m...\u001b[0m\n"
      ]
     },
     "metadata": {},
     "output_type": "display_data"
    },
    {
     "data": {
      "text/html": [
       "<pre style=\"white-space:pre;overflow-x:auto;line-height:normal;font-family:Menlo,'DejaVu Sans Mono',consolas,'Courier New',monospace\">\n",
       "<span style=\"color: #008080; text-decoration-color: #008080; font-weight: bold\">&gt;</span> --- 🚚 `Dispatcher`: Giao nhiệm vụ cho `activity_designer`.\n",
       "</pre>\n"
      ],
      "text/plain": [
       "\n",
       "\u001b[1;36m>\u001b[0m --- 🚚 `Dispatcher`: Giao nhiệm vụ cho `activity_designer`.\n"
      ]
     },
     "metadata": {},
     "output_type": "display_data"
    },
    {
     "data": {
      "text/html": [
       "<pre style=\"white-space:pre;overflow-x:auto;line-height:normal;font-family:Menlo,'DejaVu Sans Mono',consolas,'Courier New',monospace\">\n",
       "<span style=\"color: #808000; text-decoration-color: #808000; font-weight: bold\">------- Hoàn thành bước: task_dispatcher -------</span>\n",
       "</pre>\n"
      ],
      "text/plain": [
       "\n",
       "\u001b[1;33m------- Hoàn thành bước: task_dispatcher -------\u001b[0m\n"
      ]
     },
     "metadata": {},
     "output_type": "display_data"
    },
    {
     "data": {
      "text/html": [
       "<pre style=\"white-space:pre;overflow-x:auto;line-height:normal;font-family:Menlo,'DejaVu Sans Mono',consolas,'Courier New',monospace\">\n",
       "<span style=\"color: #008080; text-decoration-color: #008080; font-weight: bold\">&gt;</span> `Agent: Activity Designer` <span style=\"font-weight: bold\">(</span>v12.<span style=\"color: #008080; text-decoration-color: #008080; font-weight: bold\">0</span><span style=\"font-weight: bold\">)</span> đang tạo nội dung theo kỷ luật<span style=\"color: #808000; text-decoration-color: #808000\">...</span>\n",
       "</pre>\n"
      ],
      "text/plain": [
       "\n",
       "\u001b[1;36m>\u001b[0m `Agent: Activity Designer` \u001b[1m(\u001b[0mv12.\u001b[1;36m0\u001b[0m\u001b[1m)\u001b[0m đang tạo nội dung theo kỷ luật\u001b[33m...\u001b[0m\n"
      ]
     },
     "metadata": {},
     "output_type": "display_data"
    },
    {
     "data": {
      "text/html": [
       "<pre style=\"white-space:pre;overflow-x:auto;line-height:normal;font-family:Menlo,'DejaVu Sans Mono',consolas,'Courier New',monospace\"><span style=\"color: #008000; text-decoration-color: #008000; font-weight: bold\">✔️ Nội dung do Activity Designer tạo ra:</span>\n",
       "</pre>\n"
      ],
      "text/plain": [
       "\u001b[1;32m✔️ Nội dung do Activity Designer tạo ra:\u001b[0m\n"
      ]
     },
     "metadata": {},
     "output_type": "display_data"
    },
    {
     "data": {
      "text/html": [
       "<pre style=\"white-space:pre;overflow-x:auto;line-height:normal;font-family:Menlo,'DejaVu Sans Mono',consolas,'Courier New',monospace\"><span style=\"font-weight: bold\">{</span>\n",
       "<span style=\"color: #7fbf7f; text-decoration-color: #7fbf7f\">│   </span><span style=\"color: #008000; text-decoration-color: #008000\">'activity_name'</span>: <span style=\"color: #008000; text-decoration-color: #008000\">'Khám phá và Xây dựng kiến thức mới'</span>,\n",
       "<span style=\"color: #7fbf7f; text-decoration-color: #7fbf7f\">│   </span><span style=\"color: #008000; text-decoration-color: #008000\">'duration_minutes'</span>: <span style=\"color: #008080; text-decoration-color: #008080; font-weight: bold\">35</span>,\n",
       "<span style=\"color: #7fbf7f; text-decoration-color: #7fbf7f\">│   </span><span style=\"color: #008000; text-decoration-color: #008000\">'teacher_actions'</span>: <span style=\"font-weight: bold\">[</span>\n",
       "<span style=\"color: #7fbf7f; text-decoration-color: #7fbf7f\">│   │   </span><span style=\"color: #008000; text-decoration-color: #008000\">'Giới thiệu chủ đề và mục tiêu hoạt động.'</span>,\n",
       "<span style=\"color: #7fbf7f; text-decoration-color: #7fbf7f\">│   │   </span><span style=\"color: #008000; text-decoration-color: #008000\">'Phân chia nhóm và phát tài liệu/hướng dẫn truy cập tài liệu.'</span>,\n",
       "<span style=\"color: #7fbf7f; text-decoration-color: #7fbf7f\">│   │   </span><span style=\"color: #008000; text-decoration-color: #008000\">'Giải thích rõ ràng nhiệm vụ: xác định ý chính và đặt câu hỏi.'</span>,\n",
       "<span style=\"color: #7fbf7f; text-decoration-color: #7fbf7f\">│   │   </span><span style=\"color: #008000; text-decoration-color: #008000\">'Di chuyển giữa các nhóm, lắng nghe, gợi ý, hỗ trợ khi cần thiết (ví dụ: gợi ý câu hỏi, làm rõ khái niệm).'</span>,\n",
       "<span style=\"color: #7fbf7f; text-decoration-color: #7fbf7f\">│   │   </span><span style=\"color: #008000; text-decoration-color: #008000\">'Theo dõi thời gian và thông báo khi còn 5 phút để các nhóm hoàn tất sản phẩm.'</span>,\n",
       "<span style=\"color: #7fbf7f; text-decoration-color: #7fbf7f\">│   │   </span><span style=\"color: #008000; text-decoration-color: #008000\">'Yêu cầu các nhóm dán/đặt sản phẩm của mình lên bảng/khu vực quy định.'</span>,\n",
       "<span style=\"color: #7fbf7f; text-decoration-color: #7fbf7f\">│   │   </span><span style=\"color: #008000; text-decoration-color: #008000\">'Tổ chức phần chia sẻ nhanh: Mời đại diện 1-2 nhóm chia sẻ ý chính và câu hỏi của nhóm mình (mỗi nhóm không quá 1 phút).'</span>,\n",
       "<span style=\"color: #7fbf7f; text-decoration-color: #7fbf7f\">│   │   </span><span style=\"color: #008000; text-decoration-color: #008000\">'Tổng hợp các ý chính và câu hỏi chung của cả lớp, giải đáp nhanh các thắc mắc hoặc định hướng cho buổi học tiếp theo.'</span>\n",
       "<span style=\"color: #7fbf7f; text-decoration-color: #7fbf7f\">│   </span><span style=\"font-weight: bold\">]</span>,\n",
       "<span style=\"color: #7fbf7f; text-decoration-color: #7fbf7f\">│   </span><span style=\"color: #008000; text-decoration-color: #008000\">'core_component'</span>: <span style=\"color: #008000; text-decoration-color: #008000\">'Học sinh làm việc theo nhóm (3-4 người). Giáo viên cung cấp một đoạn văn bản ngắn (hoặc một đoạn video/audio clip) về chủ đề mới. Nhiệm vụ của nhóm là: 1. Đọc/xem/nghe tài liệu và xác định 1-2 ý chính/khái niệm cốt lõi được đề cập. 2. Thảo luận trong nhóm để hiểu rõ các ý chính này. 3. Mỗi nhóm chuẩn bị một bản tóm tắt ngắn gọn (2-3 câu) về ý chính và đặt 1 câu hỏi liên quan đến nội dung mà nhóm muốn tìm hiểu thêm hoặc còn thắc mắc. Sản phẩm có thể là ghi chú trên giấy A4 hoặc bảng nhóm nhỏ.'</span>,\n",
       "<span style=\"color: #7fbf7f; text-decoration-color: #7fbf7f\">│   </span><span style=\"color: #008000; text-decoration-color: #008000\">'extension_component'</span>: <span style=\"color: #008000; text-decoration-color: #008000\">'Nếu còn thời gian hoặc nhóm hoàn thành sớm, các nhóm có thể thử trả lời một câu hỏi của nhóm khác (nếu các câu hỏi được hiển thị) hoặc tìm một ví dụ thực tế đơn giản minh họa cho một trong các khái niệm vừa học.'</span>,\n",
       "<span style=\"color: #7fbf7f; text-decoration-color: #7fbf7f\">│   </span><span style=\"color: #008000; text-decoration-color: #008000\">'solution_guide'</span>: <span style=\"color: #008000; text-decoration-color: #008000\">\"Các ý chính/khái niệm cốt lõi cần được học sinh xác định (liệt kê cụ thể các ý này). Gợi ý các dạng câu hỏi mà học sinh có thể đặt (ví dụ: 'Tại sao...?', 'Làm thế nào để...?', 'Ý nghĩa của... là gì?').\"</span>,\n",
       "<span style=\"color: #7fbf7f; text-decoration-color: #7fbf7f\">│   </span><span style=\"color: #008000; text-decoration-color: #008000\">'differentiation'</span>: <span style=\"font-weight: bold\">{</span>\n",
       "<span style=\"color: #7fbf7f; text-decoration-color: #7fbf7f\">│   │   </span><span style=\"color: #008000; text-decoration-color: #008000\">'for_struggling_students'</span>: <span style=\"color: #008000; text-decoration-color: #008000\">'Cung cấp tài liệu đã được lược giản, gạch chân các từ khóa quan trọng hoặc cung cấp các câu hỏi gợi ý cụ thể để định hướng việc tìm ý chính. Giáo viên dành nhiều thời gian hơn để hỗ trợ trực tiếp nhóm này, có thể gợi ý cấu trúc câu hỏi.'</span>,\n",
       "<span style=\"color: #7fbf7f; text-decoration-color: #7fbf7f\">│   │   </span><span style=\"color: #008000; text-decoration-color: #008000\">'for_advanced_students'</span>: <span style=\"color: #008000; text-decoration-color: #008000\">'Khuyến khích học sinh tìm kiếm mối liên hệ giữa kiến thức mới với các kiến thức đã học hoặc các vấn đề thực tế. Yêu cầu các em đặt câu hỏi mang tính phản biện hoặc mở rộng, dự đoán các ứng dụng tiềm năng của khái niệm mới.'</span>\n",
       "<span style=\"color: #7fbf7f; text-decoration-color: #7fbf7f\">│   </span><span style=\"font-weight: bold\">}</span>,\n",
       "<span style=\"color: #7fbf7f; text-decoration-color: #7fbf7f\">│   </span><span style=\"color: #008000; text-decoration-color: #008000\">'content_type'</span>: <span style=\"color: #008000; text-decoration-color: #008000\">'Thảo luận nhóm và Tổng hợp kiến thức'</span>\n",
       "<span style=\"font-weight: bold\">}</span>\n",
       "</pre>\n"
      ],
      "text/plain": [
       "\u001b[1m{\u001b[0m\n",
       "\u001b[2;32m│   \u001b[0m\u001b[32m'activity_name'\u001b[0m: \u001b[32m'Khám phá và Xây dựng kiến thức mới'\u001b[0m,\n",
       "\u001b[2;32m│   \u001b[0m\u001b[32m'duration_minutes'\u001b[0m: \u001b[1;36m35\u001b[0m,\n",
       "\u001b[2;32m│   \u001b[0m\u001b[32m'teacher_actions'\u001b[0m: \u001b[1m[\u001b[0m\n",
       "\u001b[2;32m│   │   \u001b[0m\u001b[32m'Giới thiệu chủ đề và mục tiêu hoạt động.'\u001b[0m,\n",
       "\u001b[2;32m│   │   \u001b[0m\u001b[32m'Phân chia nhóm và phát tài liệu/hướng dẫn truy cập tài liệu.'\u001b[0m,\n",
       "\u001b[2;32m│   │   \u001b[0m\u001b[32m'Giải thích rõ ràng nhiệm vụ: xác định ý chính và đặt câu hỏi.'\u001b[0m,\n",
       "\u001b[2;32m│   │   \u001b[0m\u001b[32m'Di chuyển giữa các nhóm, lắng nghe, gợi ý, hỗ trợ khi cần thiết \u001b[0m\u001b[32m(\u001b[0m\u001b[32mví dụ: gợi ý câu hỏi, làm rõ khái niệm\u001b[0m\u001b[32m)\u001b[0m\u001b[32m.'\u001b[0m,\n",
       "\u001b[2;32m│   │   \u001b[0m\u001b[32m'Theo dõi thời gian và thông báo khi còn 5 phút để các nhóm hoàn tất sản phẩm.'\u001b[0m,\n",
       "\u001b[2;32m│   │   \u001b[0m\u001b[32m'Yêu cầu các nhóm dán/đặt sản phẩm của mình lên bảng/khu vực quy định.'\u001b[0m,\n",
       "\u001b[2;32m│   │   \u001b[0m\u001b[32m'Tổ chức phần chia sẻ nhanh: Mời đại diện 1-2 nhóm chia sẻ ý chính và câu hỏi của nhóm mình \u001b[0m\u001b[32m(\u001b[0m\u001b[32mmỗi nhóm không quá 1 phút\u001b[0m\u001b[32m)\u001b[0m\u001b[32m.'\u001b[0m,\n",
       "\u001b[2;32m│   │   \u001b[0m\u001b[32m'Tổng hợp các ý chính và câu hỏi chung của cả lớp, giải đáp nhanh các thắc mắc hoặc định hướng cho buổi học tiếp theo.'\u001b[0m\n",
       "\u001b[2;32m│   \u001b[0m\u001b[1m]\u001b[0m,\n",
       "\u001b[2;32m│   \u001b[0m\u001b[32m'core_component'\u001b[0m: \u001b[32m'Học sinh làm việc theo nhóm \u001b[0m\u001b[32m(\u001b[0m\u001b[32m3-4 người\u001b[0m\u001b[32m)\u001b[0m\u001b[32m. Giáo viên cung cấp một đoạn văn bản ngắn \u001b[0m\u001b[32m(\u001b[0m\u001b[32mhoặc một đoạn video/audio clip\u001b[0m\u001b[32m)\u001b[0m\u001b[32m về chủ đề mới. Nhiệm vụ của nhóm là: 1. Đọc/xem/nghe tài liệu và xác định 1-2 ý chính/khái niệm cốt lõi được đề cập. 2. Thảo luận trong nhóm để hiểu rõ các ý chính này. 3. Mỗi nhóm chuẩn bị một bản tóm tắt ngắn gọn \u001b[0m\u001b[32m(\u001b[0m\u001b[32m2-3 câu\u001b[0m\u001b[32m)\u001b[0m\u001b[32m về ý chính và đặt 1 câu hỏi liên quan đến nội dung mà nhóm muốn tìm hiểu thêm hoặc còn thắc mắc. Sản phẩm có thể là ghi chú trên giấy A4 hoặc bảng nhóm nhỏ.'\u001b[0m,\n",
       "\u001b[2;32m│   \u001b[0m\u001b[32m'extension_component'\u001b[0m: \u001b[32m'Nếu còn thời gian hoặc nhóm hoàn thành sớm, các nhóm có thể thử trả lời một câu hỏi của nhóm khác \u001b[0m\u001b[32m(\u001b[0m\u001b[32mnếu các câu hỏi được hiển thị\u001b[0m\u001b[32m)\u001b[0m\u001b[32m hoặc tìm một ví dụ thực tế đơn giản minh họa cho một trong các khái niệm vừa học.'\u001b[0m,\n",
       "\u001b[2;32m│   \u001b[0m\u001b[32m'solution_guide'\u001b[0m: \u001b[32m\"Các ý chính/khái niệm cốt lõi cần được học sinh xác định \u001b[0m\u001b[32m(\u001b[0m\u001b[32mliệt kê cụ thể các ý này\u001b[0m\u001b[32m)\u001b[0m\u001b[32m. Gợi ý các dạng câu hỏi mà học sinh có thể đặt \u001b[0m\u001b[32m(\u001b[0m\u001b[32mví dụ: 'Tại sao...?', 'Làm thế nào để...?', 'Ý nghĩa của... là gì?'\u001b[0m\u001b[32m)\u001b[0m\u001b[32m.\"\u001b[0m,\n",
       "\u001b[2;32m│   \u001b[0m\u001b[32m'differentiation'\u001b[0m: \u001b[1m{\u001b[0m\n",
       "\u001b[2;32m│   │   \u001b[0m\u001b[32m'for_struggling_students'\u001b[0m: \u001b[32m'Cung cấp tài liệu đã được lược giản, gạch chân các từ khóa quan trọng hoặc cung cấp các câu hỏi gợi ý cụ thể để định hướng việc tìm ý chính. Giáo viên dành nhiều thời gian hơn để hỗ trợ trực tiếp nhóm này, có thể gợi ý cấu trúc câu hỏi.'\u001b[0m,\n",
       "\u001b[2;32m│   │   \u001b[0m\u001b[32m'for_advanced_students'\u001b[0m: \u001b[32m'Khuyến khích học sinh tìm kiếm mối liên hệ giữa kiến thức mới với các kiến thức đã học hoặc các vấn đề thực tế. Yêu cầu các em đặt câu hỏi mang tính phản biện hoặc mở rộng, dự đoán các ứng dụng tiềm năng của khái niệm mới.'\u001b[0m\n",
       "\u001b[2;32m│   \u001b[0m\u001b[1m}\u001b[0m,\n",
       "\u001b[2;32m│   \u001b[0m\u001b[32m'content_type'\u001b[0m: \u001b[32m'Thảo luận nhóm và Tổng hợp kiến thức'\u001b[0m\n",
       "\u001b[1m}\u001b[0m\n"
      ]
     },
     "metadata": {},
     "output_type": "display_data"
    },
    {
     "data": {
      "text/html": [
       "<pre style=\"white-space:pre;overflow-x:auto;line-height:normal;font-family:Menlo,'DejaVu Sans Mono',consolas,'Courier New',monospace\">\n",
       "<span style=\"color: #808000; text-decoration-color: #808000; font-weight: bold\">------- Hoàn thành bước: activity_designer -------</span>\n",
       "</pre>\n"
      ],
      "text/plain": [
       "\n",
       "\u001b[1;33m------- Hoàn thành bước: activity_designer -------\u001b[0m\n"
      ]
     },
     "metadata": {},
     "output_type": "display_data"
    },
    {
     "data": {
      "text/html": [
       "<pre style=\"white-space:pre;overflow-x:auto;line-height:normal;font-family:Menlo,'DejaVu Sans Mono',consolas,'Courier New',monospace\">\n",
       "<span style=\"color: #008080; text-decoration-color: #008080; font-weight: bold\">&gt;</span> `Agent: Guardian Critic` <span style=\"font-weight: bold\">(</span>v12.<span style=\"color: #008080; text-decoration-color: #008080; font-weight: bold\">0</span><span style=\"font-weight: bold\">)</span> đang bảo vệ kế hoạch<span style=\"color: #808000; text-decoration-color: #808000\">...</span>\n",
       "</pre>\n"
      ],
      "text/plain": [
       "\n",
       "\u001b[1;36m>\u001b[0m `Agent: Guardian Critic` \u001b[1m(\u001b[0mv12.\u001b[1;36m0\u001b[0m\u001b[1m)\u001b[0m đang bảo vệ kế hoạch\u001b[33m...\u001b[0m\n"
      ]
     },
     "metadata": {},
     "output_type": "display_data"
    },
    {
     "data": {
      "text/html": [
       "<pre style=\"white-space:pre;overflow-x:auto;line-height:normal;font-family:Menlo,'DejaVu Sans Mono',consolas,'Courier New',monospace\"><span style=\"color: #808000; text-decoration-color: #808000; font-weight: bold\">⚠️  GUARDIAN PHẢN BIỆN: Kế hoạch hoạt động này được xây dựng khá chi tiết và có cấu trúc tốt, các bước rõ ràng, có </span>\n",
       "<span style=\"color: #808000; text-decoration-color: #808000; font-weight: bold\">tính phân hóa cho các đối tượng học sinh khác nhau. Tuy nhiên, thời lượng </span><span style=\"color: #808000; text-decoration-color: #808000; font-weight: bold\">35</span><span style=\"color: #808000; text-decoration-color: #808000; font-weight: bold\"> phút được phân bổ cho hoạt động </span><span style=\"color: #808000; text-decoration-color: #808000; font-weight: bold\">\"Khám </span>\n",
       "<span style=\"color: #808000; text-decoration-color: #808000; font-weight: bold\">phá và Xây dựng kiến thức mới\"</span><span style=\"color: #808000; text-decoration-color: #808000; font-weight: bold\"> là quá eo hẹp và không thực sự khả thi để đảm bảo chất lượng học tập. Việc học sinh </span>\n",
       "<span style=\"color: #808000; text-decoration-color: #808000; font-weight: bold\">phải đọc/xem tài liệu, thảo luận nhóm sâu, xác định ý chính, tóm tắt, đặt câu hỏi, sau đó còn có thời gian cho </span><span style=\"color: #808000; text-decoration-color: #808000; font-weight: bold\">1</span><span style=\"color: #808000; text-decoration-color: #808000; font-weight: bold\">-</span><span style=\"color: #808000; text-decoration-color: #808000; font-weight: bold\">2</span><span style=\"color: #808000; text-decoration-color: #808000; font-weight: bold\"> </span>\n",
       "<span style=\"color: #808000; text-decoration-color: #808000; font-weight: bold\">nhóm chia sẻ và giáo viên tổng hợp, giải đáp thắc mắc, định hướng, sẽ rất khó để hoàn thành một cách hiệu quả trong</span>\n",
       "<span style=\"color: #808000; text-decoration-color: #808000; font-weight: bold\">35</span><span style=\"color: #808000; text-decoration-color: #808000; font-weight: bold\"> phút. Các em sẽ bị thúc ép về thời gian, khó có thể tư duy sâu và tiếp thu kiến thức mới một cách trọn vẹn. Hãy </span>\n",
       "<span style=\"color: #808000; text-decoration-color: #808000; font-weight: bold\">thiết kế lại một phiên bản đơn giản hơn để khớp với thời gian </span><span style=\"color: #808000; text-decoration-color: #808000; font-weight: bold\">35</span><span style=\"color: #808000; text-decoration-color: #808000; font-weight: bold\"> phút đã cho.</span>\n",
       "</pre>\n"
      ],
      "text/plain": [
       "\u001b[1;33m⚠️  GUARDIAN PHẢN BIỆN: Kế hoạch hoạt động này được xây dựng khá chi tiết và có cấu trúc tốt, các bước rõ ràng, có \u001b[0m\n",
       "\u001b[1;33mtính phân hóa cho các đối tượng học sinh khác nhau. Tuy nhiên, thời lượng \u001b[0m\u001b[1;33m35\u001b[0m\u001b[1;33m phút được phân bổ cho hoạt động \u001b[0m\u001b[1;33m\"Khám \u001b[0m\n",
       "\u001b[1;33mphá và Xây dựng kiến thức mới\"\u001b[0m\u001b[1;33m là quá eo hẹp và không thực sự khả thi để đảm bảo chất lượng học tập. Việc học sinh \u001b[0m\n",
       "\u001b[1;33mphải đọc/xem tài liệu, thảo luận nhóm sâu, xác định ý chính, tóm tắt, đặt câu hỏi, sau đó còn có thời gian cho \u001b[0m\u001b[1;33m1\u001b[0m\u001b[1;33m-\u001b[0m\u001b[1;33m2\u001b[0m\u001b[1;33m \u001b[0m\n",
       "\u001b[1;33mnhóm chia sẻ và giáo viên tổng hợp, giải đáp thắc mắc, định hướng, sẽ rất khó để hoàn thành một cách hiệu quả trong\u001b[0m\n",
       "\u001b[1;33m35\u001b[0m\u001b[1;33m phút. Các em sẽ bị thúc ép về thời gian, khó có thể tư duy sâu và tiếp thu kiến thức mới một cách trọn vẹn. Hãy \u001b[0m\n",
       "\u001b[1;33mthiết kế lại một phiên bản đơn giản hơn để khớp với thời gian \u001b[0m\u001b[1;33m35\u001b[0m\u001b[1;33m phút đã cho.\u001b[0m\n"
      ]
     },
     "metadata": {},
     "output_type": "display_data"
    },
    {
     "data": {
      "text/html": [
       "<pre style=\"white-space:pre;overflow-x:auto;line-height:normal;font-family:Menlo,'DejaVu Sans Mono',consolas,'Courier New',monospace\">\n",
       "<span style=\"color: #808000; text-decoration-color: #808000; font-weight: bold\">------- Hoàn thành bước: content_validator -------</span>\n",
       "</pre>\n"
      ],
      "text/plain": [
       "\n",
       "\u001b[1;33m------- Hoàn thành bước: content_validator -------\u001b[0m\n"
      ]
     },
     "metadata": {},
     "output_type": "display_data"
    },
    {
     "data": {
      "text/html": [
       "<pre style=\"white-space:pre;overflow-x:auto;line-height:normal;font-family:Menlo,'DejaVu Sans Mono',consolas,'Courier New',monospace\">\n",
       "<span style=\"color: #008080; text-decoration-color: #008080; font-weight: bold\">&gt;</span> `Agent: Task Dispatcher` đang giao việc<span style=\"color: #808000; text-decoration-color: #808000\">...</span>\n",
       "</pre>\n"
      ],
      "text/plain": [
       "\n",
       "\u001b[1;36m>\u001b[0m `Agent: Task Dispatcher` đang giao việc\u001b[33m...\u001b[0m\n"
      ]
     },
     "metadata": {},
     "output_type": "display_data"
    },
    {
     "data": {
      "text/html": [
       "<pre style=\"white-space:pre;overflow-x:auto;line-height:normal;font-family:Menlo,'DejaVu Sans Mono',consolas,'Courier New',monospace\">\n",
       "<span style=\"color: #008080; text-decoration-color: #008080; font-weight: bold\">&gt;</span> --- 🚚 `Dispatcher`: Giao nhiệm vụ cho `activity_designer`.\n",
       "</pre>\n"
      ],
      "text/plain": [
       "\n",
       "\u001b[1;36m>\u001b[0m --- 🚚 `Dispatcher`: Giao nhiệm vụ cho `activity_designer`.\n"
      ]
     },
     "metadata": {},
     "output_type": "display_data"
    },
    {
     "data": {
      "text/html": [
       "<pre style=\"white-space:pre;overflow-x:auto;line-height:normal;font-family:Menlo,'DejaVu Sans Mono',consolas,'Courier New',monospace\">\n",
       "<span style=\"color: #808000; text-decoration-color: #808000; font-weight: bold\">------- Hoàn thành bước: task_dispatcher -------</span>\n",
       "</pre>\n"
      ],
      "text/plain": [
       "\n",
       "\u001b[1;33m------- Hoàn thành bước: task_dispatcher -------\u001b[0m\n"
      ]
     },
     "metadata": {},
     "output_type": "display_data"
    },
    {
     "data": {
      "text/html": [
       "<pre style=\"white-space:pre;overflow-x:auto;line-height:normal;font-family:Menlo,'DejaVu Sans Mono',consolas,'Courier New',monospace\">\n",
       "<span style=\"color: #008080; text-decoration-color: #008080; font-weight: bold\">&gt;</span> `Agent: Activity Designer` <span style=\"font-weight: bold\">(</span>v12.<span style=\"color: #008080; text-decoration-color: #008080; font-weight: bold\">0</span><span style=\"font-weight: bold\">)</span> đang tạo nội dung theo kỷ luật<span style=\"color: #808000; text-decoration-color: #808000\">...</span>\n",
       "</pre>\n"
      ],
      "text/plain": [
       "\n",
       "\u001b[1;36m>\u001b[0m `Agent: Activity Designer` \u001b[1m(\u001b[0mv12.\u001b[1;36m0\u001b[0m\u001b[1m)\u001b[0m đang tạo nội dung theo kỷ luật\u001b[33m...\u001b[0m\n"
      ]
     },
     "metadata": {},
     "output_type": "display_data"
    },
    {
     "data": {
      "text/html": [
       "<pre style=\"white-space:pre;overflow-x:auto;line-height:normal;font-family:Menlo,'DejaVu Sans Mono',consolas,'Courier New',monospace\"><span style=\"color: #008000; text-decoration-color: #008000; font-weight: bold\">✔️ Nội dung do Activity Designer tạo ra:</span>\n",
       "</pre>\n"
      ],
      "text/plain": [
       "\u001b[1;32m✔️ Nội dung do Activity Designer tạo ra:\u001b[0m\n"
      ]
     },
     "metadata": {},
     "output_type": "display_data"
    },
    {
     "data": {
      "text/html": [
       "<pre style=\"white-space:pre;overflow-x:auto;line-height:normal;font-family:Menlo,'DejaVu Sans Mono',consolas,'Courier New',monospace\"><span style=\"font-weight: bold\">{</span>\n",
       "<span style=\"color: #7fbf7f; text-decoration-color: #7fbf7f\">│   </span><span style=\"color: #008000; text-decoration-color: #008000\">'activity_name'</span>: <span style=\"color: #008000; text-decoration-color: #008000\">'Khám phá và Xây dựng kiến thức trọng tâm'</span>,\n",
       "<span style=\"color: #7fbf7f; text-decoration-color: #7fbf7f\">│   </span><span style=\"color: #008000; text-decoration-color: #008000\">'duration_minutes'</span>: <span style=\"color: #008080; text-decoration-color: #008080; font-weight: bold\">35</span>,\n",
       "<span style=\"color: #7fbf7f; text-decoration-color: #7fbf7f\">│   </span><span style=\"color: #008000; text-decoration-color: #008000\">'teacher_actions'</span>: <span style=\"font-weight: bold\">[</span>\n",
       "<span style=\"color: #7fbf7f; text-decoration-color: #7fbf7f\">│   │   </span><span style=\"color: #008000; text-decoration-color: #008000\">'Giới thiệu mục tiêu và hướng dẫn hoạt động rõ ràng, ngắn gọn (2 phút).'</span>,\n",
       "<span style=\"color: #7fbf7f; text-decoration-color: #7fbf7f\">│   │   </span><span style=\"color: #008000; text-decoration-color: #008000\">'Phân phát tài liệu hoặc hướng dẫn truy cập tài liệu nhanh chóng (1 phút).'</span>,\n",
       "<span style=\"color: #7fbf7f; text-decoration-color: #7fbf7f\">│   │   </span><span style=\"color: #008000; text-decoration-color: #008000\">'Theo dõi, hỗ trợ các nhóm, giải đáp thắc mắc nhanh và định hướng thảo luận (10 phút).'</span>,\n",
       "<span style=\"color: #7fbf7f; text-decoration-color: #7fbf7f\">│   │   </span><span style=\"color: #008000; text-decoration-color: #008000\">'Quản lý thời gian chặt chẽ, nhắc nhở các nhóm chuyển giai đoạn (liên tục).'</span>,\n",
       "<span style=\"color: #7fbf7f; text-decoration-color: #7fbf7f\">│   │   </span><span style=\"color: #008000; text-decoration-color: #008000\">'Mời 1-2 nhóm đại diện chia sẻ nhanh kết quả (5 phút).'</span>,\n",
       "<span style=\"color: #7fbf7f; text-decoration-color: #7fbf7f\">│   │   </span><span style=\"color: #008000; text-decoration-color: #008000\">'Tổng hợp, chốt kiến thức trọng tâm, giải đáp các câu hỏi còn lại và định hướng cho hoạt động tiếp theo (12 phút).'</span>\n",
       "<span style=\"color: #7fbf7f; text-decoration-color: #7fbf7f\">│   </span><span style=\"font-weight: bold\">]</span>,\n",
       "<span style=\"color: #7fbf7f; text-decoration-color: #7fbf7f\">│   </span><span style=\"color: #008000; text-decoration-color: #008000\">'core_component'</span>: <span style=\"color: #008000; text-decoration-color: #008000\">'Học sinh làm việc theo nhóm (3-4 người). Mỗi nhóm được cung cấp một đoạn văn bản ngắn gọn hoặc một video clip đã được chọn lọc kỹ càng (tối đa 3-5 phút) liên quan đến chủ đề. Nhiệm vụ của nhóm là:\\n1. Đọc/xem nhanh tài liệu để nắm bắt thông tin chính (5 phút).\\n2. Thảo luận để xác định 2-3 ý chính hoặc trả lời các câu hỏi gợi mở cụ thể do giáo viên cung cấp (10 phút).\\n3. Chuẩn bị 1-2 câu tóm tắt hoặc câu trả lời đại diện của nhóm để chia sẻ nhanh (5 phút).\\nGiáo viên sẽ mời 1-2 nhóm chia sẻ nhanh, sau đó tổng hợp và chốt kiến thức trọng tâm.'</span>,\n",
       "<span style=\"color: #7fbf7f; text-decoration-color: #7fbf7f\">│   </span><span style=\"color: #008000; text-decoration-color: #008000\">'extension_component'</span>: <span style=\"color: #008000; text-decoration-color: #008000\">'Học sinh hoàn thành nhanh có thể: Tìm thêm ví dụ thực tế liên quan đến kiến thức vừa học hoặc đặt 1-2 câu hỏi sâu hơn về chủ đề để giáo viên hoặc các bạn cùng giải đáp trong phần tổng kết.'</span>,\n",
       "<span style=\"color: #7fbf7f; text-decoration-color: #7fbf7f\">│   </span><span style=\"color: #008000; text-decoration-color: #008000\">'solution_guide'</span>: <span style=\"color: #008000; text-decoration-color: #008000\">'Các ý chính cần đạt được từ hoạt động này là [Liệt kê 2-3 ý chính dự kiến của bài học]. Giáo viên cần chuẩn bị sẵn các câu hỏi gợi mở để dẫn dắt học sinh đến các ý này một cách hiệu quả trong thời gian giới hạn.'</span>,\n",
       "<span style=\"color: #7fbf7f; text-decoration-color: #7fbf7f\">│   </span><span style=\"color: #008000; text-decoration-color: #008000\">'differentiation'</span>: <span style=\"font-weight: bold\">{</span>\n",
       "<span style=\"color: #7fbf7f; text-decoration-color: #7fbf7f\">│   │   </span><span style=\"color: #008000; text-decoration-color: #008000\">'for_struggling_students'</span>: <span style=\"color: #008000; text-decoration-color: #008000\">'Cung cấp tài liệu đã được tóm tắt/gạch chân ý chính hoặc phiên bản đơn giản hóa. Ghép cặp với học sinh khá hơn. Giáo viên dành thời gian hỗ trợ trực tiếp, đặt câu hỏi gợi mở đơn giản hơn và khuyến khích các em nói ra suy nghĩ của mình.'</span>,\n",
       "<span style=\"color: #7fbf7f; text-decoration-color: #7fbf7f\">│   │   </span><span style=\"color: #008000; text-decoration-color: #008000\">'for_advanced_students'</span>: <span style=\"color: #008000; text-decoration-color: #008000\">'Khuyến khích tìm kiếm thông tin bổ sung nhanh (nếu có thiết bị và thời gian). Yêu cầu phân tích sâu hơn về mối liên hệ giữa các ý chính hoặc dự đoán ứng dụng của kiến thức trong thực tế. Chuẩn bị sẵn sàng để trình bày hoặc hỗ trợ các nhóm khác khi cần.'</span>\n",
       "<span style=\"color: #7fbf7f; text-decoration-color: #7fbf7f\">│   </span><span style=\"font-weight: bold\">}</span>,\n",
       "<span style=\"color: #7fbf7f; text-decoration-color: #7fbf7f\">│   </span><span style=\"color: #008000; text-decoration-color: #008000\">'content_type'</span>: <span style=\"color: #008000; text-decoration-color: #008000\">'Thảo luận nhóm và Xây dựng kiến thức'</span>\n",
       "<span style=\"font-weight: bold\">}</span>\n",
       "</pre>\n"
      ],
      "text/plain": [
       "\u001b[1m{\u001b[0m\n",
       "\u001b[2;32m│   \u001b[0m\u001b[32m'activity_name'\u001b[0m: \u001b[32m'Khám phá và Xây dựng kiến thức trọng tâm'\u001b[0m,\n",
       "\u001b[2;32m│   \u001b[0m\u001b[32m'duration_minutes'\u001b[0m: \u001b[1;36m35\u001b[0m,\n",
       "\u001b[2;32m│   \u001b[0m\u001b[32m'teacher_actions'\u001b[0m: \u001b[1m[\u001b[0m\n",
       "\u001b[2;32m│   │   \u001b[0m\u001b[32m'Giới thiệu mục tiêu và hướng dẫn hoạt động rõ ràng, ngắn gọn \u001b[0m\u001b[32m(\u001b[0m\u001b[32m2 phút\u001b[0m\u001b[32m)\u001b[0m\u001b[32m.'\u001b[0m,\n",
       "\u001b[2;32m│   │   \u001b[0m\u001b[32m'Phân phát tài liệu hoặc hướng dẫn truy cập tài liệu nhanh chóng \u001b[0m\u001b[32m(\u001b[0m\u001b[32m1 phút\u001b[0m\u001b[32m)\u001b[0m\u001b[32m.'\u001b[0m,\n",
       "\u001b[2;32m│   │   \u001b[0m\u001b[32m'Theo dõi, hỗ trợ các nhóm, giải đáp thắc mắc nhanh và định hướng thảo luận \u001b[0m\u001b[32m(\u001b[0m\u001b[32m10 phút\u001b[0m\u001b[32m)\u001b[0m\u001b[32m.'\u001b[0m,\n",
       "\u001b[2;32m│   │   \u001b[0m\u001b[32m'Quản lý thời gian chặt chẽ, nhắc nhở các nhóm chuyển giai đoạn \u001b[0m\u001b[32m(\u001b[0m\u001b[32mliên tục\u001b[0m\u001b[32m)\u001b[0m\u001b[32m.'\u001b[0m,\n",
       "\u001b[2;32m│   │   \u001b[0m\u001b[32m'Mời 1-2 nhóm đại diện chia sẻ nhanh kết quả \u001b[0m\u001b[32m(\u001b[0m\u001b[32m5 phút\u001b[0m\u001b[32m)\u001b[0m\u001b[32m.'\u001b[0m,\n",
       "\u001b[2;32m│   │   \u001b[0m\u001b[32m'Tổng hợp, chốt kiến thức trọng tâm, giải đáp các câu hỏi còn lại và định hướng cho hoạt động tiếp theo \u001b[0m\u001b[32m(\u001b[0m\u001b[32m12 phút\u001b[0m\u001b[32m)\u001b[0m\u001b[32m.'\u001b[0m\n",
       "\u001b[2;32m│   \u001b[0m\u001b[1m]\u001b[0m,\n",
       "\u001b[2;32m│   \u001b[0m\u001b[32m'core_component'\u001b[0m: \u001b[32m'Học sinh làm việc theo nhóm \u001b[0m\u001b[32m(\u001b[0m\u001b[32m3-4 người\u001b[0m\u001b[32m)\u001b[0m\u001b[32m. Mỗi nhóm được cung cấp một đoạn văn bản ngắn gọn hoặc một video clip đã được chọn lọc kỹ càng \u001b[0m\u001b[32m(\u001b[0m\u001b[32mtối đa 3-5 phút\u001b[0m\u001b[32m)\u001b[0m\u001b[32m liên quan đến chủ đề. Nhiệm vụ của nhóm là:\\n1. Đọc/xem nhanh tài liệu để nắm bắt thông tin chính \u001b[0m\u001b[32m(\u001b[0m\u001b[32m5 phút\u001b[0m\u001b[32m)\u001b[0m\u001b[32m.\\n2. Thảo luận để xác định 2-3 ý chính hoặc trả lời các câu hỏi gợi mở cụ thể do giáo viên cung cấp \u001b[0m\u001b[32m(\u001b[0m\u001b[32m10 phút\u001b[0m\u001b[32m)\u001b[0m\u001b[32m.\\n3. Chuẩn bị 1-2 câu tóm tắt hoặc câu trả lời đại diện của nhóm để chia sẻ nhanh \u001b[0m\u001b[32m(\u001b[0m\u001b[32m5 phút\u001b[0m\u001b[32m)\u001b[0m\u001b[32m.\\nGiáo viên sẽ mời 1-2 nhóm chia sẻ nhanh, sau đó tổng hợp và chốt kiến thức trọng tâm.'\u001b[0m,\n",
       "\u001b[2;32m│   \u001b[0m\u001b[32m'extension_component'\u001b[0m: \u001b[32m'Học sinh hoàn thành nhanh có thể: Tìm thêm ví dụ thực tế liên quan đến kiến thức vừa học hoặc đặt 1-2 câu hỏi sâu hơn về chủ đề để giáo viên hoặc các bạn cùng giải đáp trong phần tổng kết.'\u001b[0m,\n",
       "\u001b[2;32m│   \u001b[0m\u001b[32m'solution_guide'\u001b[0m: \u001b[32m'Các ý chính cần đạt được từ hoạt động này là \u001b[0m\u001b[32m[\u001b[0m\u001b[32mLiệt kê 2-3 ý chính dự kiến của bài học\u001b[0m\u001b[32m]\u001b[0m\u001b[32m. Giáo viên cần chuẩn bị sẵn các câu hỏi gợi mở để dẫn dắt học sinh đến các ý này một cách hiệu quả trong thời gian giới hạn.'\u001b[0m,\n",
       "\u001b[2;32m│   \u001b[0m\u001b[32m'differentiation'\u001b[0m: \u001b[1m{\u001b[0m\n",
       "\u001b[2;32m│   │   \u001b[0m\u001b[32m'for_struggling_students'\u001b[0m: \u001b[32m'Cung cấp tài liệu đã được tóm tắt/gạch chân ý chính hoặc phiên bản đơn giản hóa. Ghép cặp với học sinh khá hơn. Giáo viên dành thời gian hỗ trợ trực tiếp, đặt câu hỏi gợi mở đơn giản hơn và khuyến khích các em nói ra suy nghĩ của mình.'\u001b[0m,\n",
       "\u001b[2;32m│   │   \u001b[0m\u001b[32m'for_advanced_students'\u001b[0m: \u001b[32m'Khuyến khích tìm kiếm thông tin bổ sung nhanh \u001b[0m\u001b[32m(\u001b[0m\u001b[32mnếu có thiết bị và thời gian\u001b[0m\u001b[32m)\u001b[0m\u001b[32m. Yêu cầu phân tích sâu hơn về mối liên hệ giữa các ý chính hoặc dự đoán ứng dụng của kiến thức trong thực tế. Chuẩn bị sẵn sàng để trình bày hoặc hỗ trợ các nhóm khác khi cần.'\u001b[0m\n",
       "\u001b[2;32m│   \u001b[0m\u001b[1m}\u001b[0m,\n",
       "\u001b[2;32m│   \u001b[0m\u001b[32m'content_type'\u001b[0m: \u001b[32m'Thảo luận nhóm và Xây dựng kiến thức'\u001b[0m\n",
       "\u001b[1m}\u001b[0m\n"
      ]
     },
     "metadata": {},
     "output_type": "display_data"
    },
    {
     "data": {
      "text/html": [
       "<pre style=\"white-space:pre;overflow-x:auto;line-height:normal;font-family:Menlo,'DejaVu Sans Mono',consolas,'Courier New',monospace\">\n",
       "<span style=\"color: #808000; text-decoration-color: #808000; font-weight: bold\">------- Hoàn thành bước: activity_designer -------</span>\n",
       "</pre>\n"
      ],
      "text/plain": [
       "\n",
       "\u001b[1;33m------- Hoàn thành bước: activity_designer -------\u001b[0m\n"
      ]
     },
     "metadata": {},
     "output_type": "display_data"
    },
    {
     "data": {
      "text/html": [
       "<pre style=\"white-space:pre;overflow-x:auto;line-height:normal;font-family:Menlo,'DejaVu Sans Mono',consolas,'Courier New',monospace\">\n",
       "<span style=\"color: #008080; text-decoration-color: #008080; font-weight: bold\">&gt;</span> `Agent: Guardian Critic` <span style=\"font-weight: bold\">(</span>v12.<span style=\"color: #008080; text-decoration-color: #008080; font-weight: bold\">0</span><span style=\"font-weight: bold\">)</span> đang bảo vệ kế hoạch<span style=\"color: #808000; text-decoration-color: #808000\">...</span>\n",
       "</pre>\n"
      ],
      "text/plain": [
       "\n",
       "\u001b[1;36m>\u001b[0m `Agent: Guardian Critic` \u001b[1m(\u001b[0mv12.\u001b[1;36m0\u001b[0m\u001b[1m)\u001b[0m đang bảo vệ kế hoạch\u001b[33m...\u001b[0m\n"
      ]
     },
     "metadata": {},
     "output_type": "display_data"
    },
    {
     "data": {
      "text/html": [
       "<pre style=\"white-space:pre;overflow-x:auto;line-height:normal;font-family:Menlo,'DejaVu Sans Mono',consolas,'Courier New',monospace\"><span style=\"color: #808000; text-decoration-color: #808000; font-weight: bold\">⚠️  GUARDIAN PHẢN BIỆN: Kế hoạch hoạt động này không khả thi trong </span><span style=\"color: #808000; text-decoration-color: #808000; font-weight: bold\">35</span><span style=\"color: #808000; text-decoration-color: #808000; font-weight: bold\"> phút đã cho. Tổng thời gian ước tính cho các </span>\n",
       "<span style=\"color: #808000; text-decoration-color: #808000; font-weight: bold\">bước chi tiết (</span><span style=\"color: #808000; text-decoration-color: #808000; font-weight: bold\">3</span><span style=\"color: #808000; text-decoration-color: #808000; font-weight: bold\"> phút giới thiệu/phân phát + </span><span style=\"color: #808000; text-decoration-color: #808000; font-weight: bold\">20</span><span style=\"color: #808000; text-decoration-color: #808000; font-weight: bold\"> phút làm việc nhóm + </span><span style=\"color: #808000; text-decoration-color: #808000; font-weight: bold\">5</span><span style=\"color: #808000; text-decoration-color: #808000; font-weight: bold\"> phút chia sẻ + </span><span style=\"color: #808000; text-decoration-color: #808000; font-weight: bold\">12</span><span style=\"color: #808000; text-decoration-color: #808000; font-weight: bold\"> phút tổng kết) là </span><span style=\"color: #808000; text-decoration-color: #808000; font-weight: bold\">40</span><span style=\"color: #808000; text-decoration-color: #808000; font-weight: bold\"> phút,</span>\n",
       "<span style=\"color: #808000; text-decoration-color: #808000; font-weight: bold\">vượt quá </span><span style=\"color: #808000; text-decoration-color: #808000; font-weight: bold\">5</span><span style=\"color: #808000; text-decoration-color: #808000; font-weight: bold\"> phút so với thời lượng cho phép. Để đảm bảo tuân thủ kế hoạch gốc, hãy thiết kế lại một phiên bản đơn </span>\n",
       "<span style=\"color: #808000; text-decoration-color: #808000; font-weight: bold\">giản hơn để khớp với thời gian </span><span style=\"color: #808000; text-decoration-color: #808000; font-weight: bold\">35</span><span style=\"color: #808000; text-decoration-color: #808000; font-weight: bold\"> phút đã cho.</span>\n",
       "</pre>\n"
      ],
      "text/plain": [
       "\u001b[1;33m⚠️  GUARDIAN PHẢN BIỆN: Kế hoạch hoạt động này không khả thi trong \u001b[0m\u001b[1;33m35\u001b[0m\u001b[1;33m phút đã cho. Tổng thời gian ước tính cho các \u001b[0m\n",
       "\u001b[1;33mbước chi tiết \u001b[0m\u001b[1;33m(\u001b[0m\u001b[1;33m3\u001b[0m\u001b[1;33m phút giới thiệu/phân phát + \u001b[0m\u001b[1;33m20\u001b[0m\u001b[1;33m phút làm việc nhóm + \u001b[0m\u001b[1;33m5\u001b[0m\u001b[1;33m phút chia sẻ + \u001b[0m\u001b[1;33m12\u001b[0m\u001b[1;33m phút tổng kết\u001b[0m\u001b[1;33m)\u001b[0m\u001b[1;33m là \u001b[0m\u001b[1;33m40\u001b[0m\u001b[1;33m phút,\u001b[0m\n",
       "\u001b[1;33mvượt quá \u001b[0m\u001b[1;33m5\u001b[0m\u001b[1;33m phút so với thời lượng cho phép. Để đảm bảo tuân thủ kế hoạch gốc, hãy thiết kế lại một phiên bản đơn \u001b[0m\n",
       "\u001b[1;33mgiản hơn để khớp với thời gian \u001b[0m\u001b[1;33m35\u001b[0m\u001b[1;33m phút đã cho.\u001b[0m\n"
      ]
     },
     "metadata": {},
     "output_type": "display_data"
    },
    {
     "data": {
      "text/html": [
       "<pre style=\"white-space:pre;overflow-x:auto;line-height:normal;font-family:Menlo,'DejaVu Sans Mono',consolas,'Courier New',monospace\">\n",
       "<span style=\"color: #808000; text-decoration-color: #808000; font-weight: bold\">------- Hoàn thành bước: content_validator -------</span>\n",
       "</pre>\n"
      ],
      "text/plain": [
       "\n",
       "\u001b[1;33m------- Hoàn thành bước: content_validator -------\u001b[0m\n"
      ]
     },
     "metadata": {},
     "output_type": "display_data"
    },
    {
     "data": {
      "text/html": [
       "<pre style=\"white-space:pre;overflow-x:auto;line-height:normal;font-family:Menlo,'DejaVu Sans Mono',consolas,'Courier New',monospace\">\n",
       "<span style=\"color: #008080; text-decoration-color: #008080; font-weight: bold\">&gt;</span> `Agent: Task Dispatcher` đang giao việc<span style=\"color: #808000; text-decoration-color: #808000\">...</span>\n",
       "</pre>\n"
      ],
      "text/plain": [
       "\n",
       "\u001b[1;36m>\u001b[0m `Agent: Task Dispatcher` đang giao việc\u001b[33m...\u001b[0m\n"
      ]
     },
     "metadata": {},
     "output_type": "display_data"
    },
    {
     "data": {
      "text/html": [
       "<pre style=\"white-space:pre;overflow-x:auto;line-height:normal;font-family:Menlo,'DejaVu Sans Mono',consolas,'Courier New',monospace\">\n",
       "<span style=\"color: #008080; text-decoration-color: #008080; font-weight: bold\">&gt;</span> --- 🚚 `Dispatcher`: Giao nhiệm vụ cho `theory_synthesizer`.\n",
       "</pre>\n"
      ],
      "text/plain": [
       "\n",
       "\u001b[1;36m>\u001b[0m --- 🚚 `Dispatcher`: Giao nhiệm vụ cho `theory_synthesizer`.\n"
      ]
     },
     "metadata": {},
     "output_type": "display_data"
    },
    {
     "data": {
      "text/html": [
       "<pre style=\"white-space:pre;overflow-x:auto;line-height:normal;font-family:Menlo,'DejaVu Sans Mono',consolas,'Courier New',monospace\">\n",
       "<span style=\"color: #808000; text-decoration-color: #808000; font-weight: bold\">------- Hoàn thành bước: task_dispatcher -------</span>\n",
       "</pre>\n"
      ],
      "text/plain": [
       "\n",
       "\u001b[1;33m------- Hoàn thành bước: task_dispatcher -------\u001b[0m\n"
      ]
     },
     "metadata": {},
     "output_type": "display_data"
    },
    {
     "data": {
      "text/html": [
       "<pre style=\"white-space:pre;overflow-x:auto;line-height:normal;font-family:Menlo,'DejaVu Sans Mono',consolas,'Courier New',monospace\">\n",
       "<span style=\"color: #008080; text-decoration-color: #008080; font-weight: bold\">&gt;</span> `Agent: Theory Synthesizer` <span style=\"font-weight: bold\">(</span>v12.<span style=\"color: #008080; text-decoration-color: #008080; font-weight: bold\">0</span><span style=\"font-weight: bold\">)</span> đang tạo nội dung theo kỷ luật<span style=\"color: #808000; text-decoration-color: #808000\">...</span>\n",
       "</pre>\n"
      ],
      "text/plain": [
       "\n",
       "\u001b[1;36m>\u001b[0m `Agent: Theory Synthesizer` \u001b[1m(\u001b[0mv12.\u001b[1;36m0\u001b[0m\u001b[1m)\u001b[0m đang tạo nội dung theo kỷ luật\u001b[33m...\u001b[0m\n"
      ]
     },
     "metadata": {},
     "output_type": "display_data"
    },
    {
     "data": {
      "text/html": [
       "<pre style=\"white-space:pre;overflow-x:auto;line-height:normal;font-family:Menlo,'DejaVu Sans Mono',consolas,'Courier New',monospace\"><span style=\"color: #008000; text-decoration-color: #008000; font-weight: bold\">✔️ Nội dung do Theory Synthesizer tạo ra:</span>\n",
       "</pre>\n"
      ],
      "text/plain": [
       "\u001b[1;32m✔️ Nội dung do Theory Synthesizer tạo ra:\u001b[0m\n"
      ]
     },
     "metadata": {},
     "output_type": "display_data"
    },
    {
     "data": {
      "text/html": [
       "<pre style=\"white-space:pre;overflow-x:auto;line-height:normal;font-family:Menlo,'DejaVu Sans Mono',consolas,'Courier New',monospace\"><span style=\"font-weight: bold\">{</span>\n",
       "<span style=\"color: #7fbf7f; text-decoration-color: #7fbf7f\">│   </span><span style=\"color: #008000; text-decoration-color: #008000\">'activity_name'</span>: <span style=\"color: #008000; text-decoration-color: #008000\">'Khám phá và Xây dựng kiến thức mới'</span>,\n",
       "<span style=\"color: #7fbf7f; text-decoration-color: #7fbf7f\">│   </span><span style=\"color: #008000; text-decoration-color: #008000\">'duration_minutes'</span>: <span style=\"color: #008080; text-decoration-color: #008080; font-weight: bold\">35</span>,\n",
       "<span style=\"color: #7fbf7f; text-decoration-color: #7fbf7f\">│   </span><span style=\"color: #008000; text-decoration-color: #008000\">'teacher_actions'</span>: <span style=\"font-weight: bold\">[</span>\n",
       "<span style=\"color: #7fbf7f; text-decoration-color: #7fbf7f\">│   │   </span><span style=\"color: #008000; text-decoration-color: #008000\">'Giới thiệu mục tiêu hoạt động và phân phát tài liệu/nhiệm vụ cho các nhóm (3 phút).'</span>,\n",
       "<span style=\"color: #7fbf7f; text-decoration-color: #7fbf7f\">│   │   </span><span style=\"color: #008000; text-decoration-color: #008000\">'Quan sát, lắng nghe, đi lại giữa các nhóm để hỗ trợ, giải đáp thắc mắc, và gợi ý khi cần thiết, đảm bảo các nhóm đi đúng hướng (18 phút).'</span>,\n",
       "<span style=\"color: #7fbf7f; text-decoration-color: #7fbf7f\">│   │   </span><span style=\"color: #008000; text-decoration-color: #008000\">'Điều phối phần chia sẻ của các nhóm, khuyến khích các nhóm khác đặt câu hỏi hoặc bổ sung (4 phút).'</span>,\n",
       "<span style=\"color: #7fbf7f; text-decoration-color: #7fbf7f\">│   │   </span><span style=\"color: #008000; text-decoration-color: #008000\">'Tổng kết các ý chính, chốt kiến thức mới, làm rõ những điểm còn mơ hồ và mở rộng vấn đề nếu có (10 phút).'</span>\n",
       "<span style=\"color: #7fbf7f; text-decoration-color: #7fbf7f\">│   </span><span style=\"font-weight: bold\">]</span>,\n",
       "<span style=\"color: #7fbf7f; text-decoration-color: #7fbf7f\">│   </span><span style=\"color: #008000; text-decoration-color: #008000\">'core_component'</span>: <span style=\"color: #008000; text-decoration-color: #008000\">'Học sinh làm việc theo nhóm (4-5 em) để đọc, phân tích tài liệu/tình huống được giao (ví dụ: một đoạn văn bản, một bài toán, một trường hợp thực tế) nhằm khám phá và rút ra các kiến thức, khái niệm mới. Mỗi nhóm cần tóm tắt những phát hiện chính và chuẩn bị một đại diện để chia sẻ ngắn gọn (khoảng 1 phút/nhóm) trước lớp. Trọng tâm là việc tự lực khám phá và tổng hợp thông tin ban đầu.'</span>,\n",
       "<span style=\"color: #7fbf7f; text-decoration-color: #7fbf7f\">│   </span><span style=\"color: #008000; text-decoration-color: #008000\">'extension_component'</span>: <span style=\"color: #008000; text-decoration-color: #008000\">'Nếu các nhóm hoàn thành sớm phần cốt lõi, khuyến khích các em chuẩn bị thêm một ví dụ thực tế minh họa cho kiến thức vừa khám phá, hoặc tự đặt câu hỏi cho các nhóm khác về nội dung đã học.'</span>,\n",
       "<span style=\"color: #7fbf7f; text-decoration-color: #7fbf7f\">│   </span><span style=\"color: #008000; text-decoration-color: #008000\">'solution_guide'</span>: <span style=\"color: #008000; text-decoration-color: #008000\">\"Các câu hỏi gợi mở: 'Các em đã tìm thấy những điểm mới nào trong tài liệu?', 'Khái niệm/vấn đề chính mà tài liệu đề cập là gì?', 'Các em có thể tóm tắt nội dung này trong một câu không?'. Sau khi các nhóm chia sẻ, giáo viên cần chốt lại các khái niệm/kiến thức trọng tâm, đảm bảo tất cả học sinh đều nắm được.\"</span>,\n",
       "<span style=\"color: #7fbf7f; text-decoration-color: #7fbf7f\">│   </span><span style=\"color: #008000; text-decoration-color: #008000\">'differentiation'</span>: <span style=\"font-weight: bold\">{</span>\n",
       "<span style=\"color: #7fbf7f; text-decoration-color: #7fbf7f\">│   │   </span><span style=\"color: #008000; text-decoration-color: #008000\">'for_struggling_students'</span>: <span style=\"color: #008000; text-decoration-color: #008000\">'Cung cấp tài liệu đơn giản hóa, có sẵn các câu hỏi gợi ý cụ thể hoặc từ khóa quan trọng. Giáo viên có thể dành thêm thời gian hỗ trợ trực tiếp nhóm này, hoặc ghép nhóm với học sinh khá để nhận được sự giúp đỡ từ bạn bè.'</span>,\n",
       "<span style=\"color: #7fbf7f; text-decoration-color: #7fbf7f\">│   │   </span><span style=\"color: #008000; text-decoration-color: #008000\">'for_advanced_students'</span>: <span style=\"color: #008000; text-decoration-color: #008000\">'Cung cấp tài liệu có độ phức tạp cao hơn, hoặc yêu cầu các em không chỉ khám phá mà còn đề xuất giải pháp/ứng dụng kiến thức vào một tình huống mới. Khuyến khích các em tự đặt câu hỏi phản biện hoặc tìm kiếm thêm thông tin mở rộng.'</span>\n",
       "<span style=\"color: #7fbf7f; text-decoration-color: #7fbf7f\">│   </span><span style=\"font-weight: bold\">}</span>,\n",
       "<span style=\"color: #7fbf7f; text-decoration-color: #7fbf7f\">│   </span><span style=\"color: #008000; text-decoration-color: #008000\">'content_type'</span>: <span style=\"color: #008000; text-decoration-color: #008000\">'Thảo luận nhóm và Tổng kết'</span>\n",
       "<span style=\"font-weight: bold\">}</span>\n",
       "</pre>\n"
      ],
      "text/plain": [
       "\u001b[1m{\u001b[0m\n",
       "\u001b[2;32m│   \u001b[0m\u001b[32m'activity_name'\u001b[0m: \u001b[32m'Khám phá và Xây dựng kiến thức mới'\u001b[0m,\n",
       "\u001b[2;32m│   \u001b[0m\u001b[32m'duration_minutes'\u001b[0m: \u001b[1;36m35\u001b[0m,\n",
       "\u001b[2;32m│   \u001b[0m\u001b[32m'teacher_actions'\u001b[0m: \u001b[1m[\u001b[0m\n",
       "\u001b[2;32m│   │   \u001b[0m\u001b[32m'Giới thiệu mục tiêu hoạt động và phân phát tài liệu/nhiệm vụ cho các nhóm \u001b[0m\u001b[32m(\u001b[0m\u001b[32m3 phút\u001b[0m\u001b[32m)\u001b[0m\u001b[32m.'\u001b[0m,\n",
       "\u001b[2;32m│   │   \u001b[0m\u001b[32m'Quan sát, lắng nghe, đi lại giữa các nhóm để hỗ trợ, giải đáp thắc mắc, và gợi ý khi cần thiết, đảm bảo các nhóm đi đúng hướng \u001b[0m\u001b[32m(\u001b[0m\u001b[32m18 phút\u001b[0m\u001b[32m)\u001b[0m\u001b[32m.'\u001b[0m,\n",
       "\u001b[2;32m│   │   \u001b[0m\u001b[32m'Điều phối phần chia sẻ của các nhóm, khuyến khích các nhóm khác đặt câu hỏi hoặc bổ sung \u001b[0m\u001b[32m(\u001b[0m\u001b[32m4 phút\u001b[0m\u001b[32m)\u001b[0m\u001b[32m.'\u001b[0m,\n",
       "\u001b[2;32m│   │   \u001b[0m\u001b[32m'Tổng kết các ý chính, chốt kiến thức mới, làm rõ những điểm còn mơ hồ và mở rộng vấn đề nếu có \u001b[0m\u001b[32m(\u001b[0m\u001b[32m10 phút\u001b[0m\u001b[32m)\u001b[0m\u001b[32m.'\u001b[0m\n",
       "\u001b[2;32m│   \u001b[0m\u001b[1m]\u001b[0m,\n",
       "\u001b[2;32m│   \u001b[0m\u001b[32m'core_component'\u001b[0m: \u001b[32m'Học sinh làm việc theo nhóm \u001b[0m\u001b[32m(\u001b[0m\u001b[32m4-5 em\u001b[0m\u001b[32m)\u001b[0m\u001b[32m để đọc, phân tích tài liệu/tình huống được giao \u001b[0m\u001b[32m(\u001b[0m\u001b[32mví dụ: một đoạn văn bản, một bài toán, một trường hợp thực tế\u001b[0m\u001b[32m)\u001b[0m\u001b[32m nhằm khám phá và rút ra các kiến thức, khái niệm mới. Mỗi nhóm cần tóm tắt những phát hiện chính và chuẩn bị một đại diện để chia sẻ ngắn gọn \u001b[0m\u001b[32m(\u001b[0m\u001b[32mkhoảng 1 phút/nhóm\u001b[0m\u001b[32m)\u001b[0m\u001b[32m trước lớp. Trọng tâm là việc tự lực khám phá và tổng hợp thông tin ban đầu.'\u001b[0m,\n",
       "\u001b[2;32m│   \u001b[0m\u001b[32m'extension_component'\u001b[0m: \u001b[32m'Nếu các nhóm hoàn thành sớm phần cốt lõi, khuyến khích các em chuẩn bị thêm một ví dụ thực tế minh họa cho kiến thức vừa khám phá, hoặc tự đặt câu hỏi cho các nhóm khác về nội dung đã học.'\u001b[0m,\n",
       "\u001b[2;32m│   \u001b[0m\u001b[32m'solution_guide'\u001b[0m: \u001b[32m\"Các câu hỏi gợi mở: 'Các em đã tìm thấy những điểm mới nào trong tài liệu?', 'Khái niệm/vấn đề chính mà tài liệu đề cập là gì?', 'Các em có thể tóm tắt nội dung này trong một câu không?'. Sau khi các nhóm chia sẻ, giáo viên cần chốt lại các khái niệm/kiến thức trọng tâm, đảm bảo tất cả học sinh đều nắm được.\"\u001b[0m,\n",
       "\u001b[2;32m│   \u001b[0m\u001b[32m'differentiation'\u001b[0m: \u001b[1m{\u001b[0m\n",
       "\u001b[2;32m│   │   \u001b[0m\u001b[32m'for_struggling_students'\u001b[0m: \u001b[32m'Cung cấp tài liệu đơn giản hóa, có sẵn các câu hỏi gợi ý cụ thể hoặc từ khóa quan trọng. Giáo viên có thể dành thêm thời gian hỗ trợ trực tiếp nhóm này, hoặc ghép nhóm với học sinh khá để nhận được sự giúp đỡ từ bạn bè.'\u001b[0m,\n",
       "\u001b[2;32m│   │   \u001b[0m\u001b[32m'for_advanced_students'\u001b[0m: \u001b[32m'Cung cấp tài liệu có độ phức tạp cao hơn, hoặc yêu cầu các em không chỉ khám phá mà còn đề xuất giải pháp/ứng dụng kiến thức vào một tình huống mới. Khuyến khích các em tự đặt câu hỏi phản biện hoặc tìm kiếm thêm thông tin mở rộng.'\u001b[0m\n",
       "\u001b[2;32m│   \u001b[0m\u001b[1m}\u001b[0m,\n",
       "\u001b[2;32m│   \u001b[0m\u001b[32m'content_type'\u001b[0m: \u001b[32m'Thảo luận nhóm và Tổng kết'\u001b[0m\n",
       "\u001b[1m}\u001b[0m\n"
      ]
     },
     "metadata": {},
     "output_type": "display_data"
    },
    {
     "data": {
      "text/html": [
       "<pre style=\"white-space:pre;overflow-x:auto;line-height:normal;font-family:Menlo,'DejaVu Sans Mono',consolas,'Courier New',monospace\">\n",
       "<span style=\"color: #808000; text-decoration-color: #808000; font-weight: bold\">------- Hoàn thành bước: theory_synthesizer -------</span>\n",
       "</pre>\n"
      ],
      "text/plain": [
       "\n",
       "\u001b[1;33m------- Hoàn thành bước: theory_synthesizer -------\u001b[0m\n"
      ]
     },
     "metadata": {},
     "output_type": "display_data"
    },
    {
     "data": {
      "text/html": [
       "<pre style=\"white-space:pre;overflow-x:auto;line-height:normal;font-family:Menlo,'DejaVu Sans Mono',consolas,'Courier New',monospace\">\n",
       "<span style=\"color: #008080; text-decoration-color: #008080; font-weight: bold\">&gt;</span> `Agent: Guardian Critic` <span style=\"font-weight: bold\">(</span>v12.<span style=\"color: #008080; text-decoration-color: #008080; font-weight: bold\">0</span><span style=\"font-weight: bold\">)</span> đang bảo vệ kế hoạch<span style=\"color: #808000; text-decoration-color: #808000\">...</span>\n",
       "</pre>\n"
      ],
      "text/plain": [
       "\n",
       "\u001b[1;36m>\u001b[0m `Agent: Guardian Critic` \u001b[1m(\u001b[0mv12.\u001b[1;36m0\u001b[0m\u001b[1m)\u001b[0m đang bảo vệ kế hoạch\u001b[33m...\u001b[0m\n"
      ]
     },
     "metadata": {},
     "output_type": "display_data"
    },
    {
     "data": {
      "text/html": [
       "<pre style=\"white-space:pre;overflow-x:auto;line-height:normal;font-family:Menlo,'DejaVu Sans Mono',consolas,'Courier New',monospace\"><span style=\"color: #808000; text-decoration-color: #808000; font-weight: bold\">⚠️  GUARDIAN PHẢN BIỆN: Chào bạn, với vai trò là Người Bảo vệ Kế hoạch, tôi đã xem xét kỹ lưỡng nội dung hoạt động </span>\n",
       "<span style=\"color: #808000; text-decoration-color: #808000; font-weight: bold\">bạn đề xuất. Về mặt cấu trúc và các thành phần hoạt động, kế hoạch này khá chi tiết và hợp lý cho một buổi khám phá</span>\n",
       "<span style=\"color: #808000; text-decoration-color: #808000; font-weight: bold\">kiến thức mới. Các bước giáo viên thực hiện cũng được phân bổ rõ ràng. Tuy nhiên, khi xét đến tính khả thi trong </span>\n",
       "<span style=\"color: #808000; text-decoration-color: #808000; font-weight: bold\">khung thời gian </span><span style=\"color: #808000; text-decoration-color: #808000; font-weight: bold\">35</span><span style=\"color: #808000; text-decoration-color: #808000; font-weight: bold\"> phút đã cho, tôi nhận thấy có một điểm chưa hợp lý. Tổng thời gian các hoạt động của giáo viên </span>\n",
       "<span style=\"color: #808000; text-decoration-color: #808000; font-weight: bold\">cộng lại là </span><span style=\"color: #808000; text-decoration-color: #808000; font-weight: bold\">35</span><span style=\"color: #808000; text-decoration-color: #808000; font-weight: bold\"> phút (</span><span style=\"color: #808000; text-decoration-color: #808000; font-weight: bold\">3</span><span style=\"color: #808000; text-decoration-color: #808000; font-weight: bold\"> + </span><span style=\"color: #808000; text-decoration-color: #808000; font-weight: bold\">18</span><span style=\"color: #808000; text-decoration-color: #808000; font-weight: bold\"> + </span><span style=\"color: #808000; text-decoration-color: #808000; font-weight: bold\">4</span><span style=\"color: #808000; text-decoration-color: #808000; font-weight: bold\"> + </span><span style=\"color: #808000; text-decoration-color: #808000; font-weight: bold\">10</span><span style=\"color: #808000; text-decoration-color: #808000; font-weight: bold\">), khớp với kế hoạch. Nhưng phần </span><span style=\"color: #808000; text-decoration-color: #808000; font-weight: bold\">\"Điều phối phần chia sẻ của các nhóm\"</span><span style=\"color: #808000; text-decoration-color: #808000; font-weight: bold\"> chỉ có </span><span style=\"color: #808000; text-decoration-color: #808000; font-weight: bold\">4</span>\n",
       "<span style=\"color: #808000; text-decoration-color: #808000; font-weight: bold\">phút, trong khi mỗi nhóm cần khoảng </span><span style=\"color: #808000; text-decoration-color: #808000; font-weight: bold\">1</span><span style=\"color: #808000; text-decoration-color: #808000; font-weight: bold\"> phút để chia sẻ. Điều này có nghĩa là nếu lớp có từ </span><span style=\"color: #808000; text-decoration-color: #808000; font-weight: bold\">5</span><span style=\"color: #808000; text-decoration-color: #808000; font-weight: bold\"> nhóm trở lên, thời gian</span>\n",
       "<span style=\"color: #808000; text-decoration-color: #808000; font-weight: bold\">sẽ không đủ. Ngay cả khi chỉ có </span><span style=\"color: #808000; text-decoration-color: #808000; font-weight: bold\">4</span><span style=\"color: #808000; text-decoration-color: #808000; font-weight: bold\"> nhóm, </span><span style=\"color: #808000; text-decoration-color: #808000; font-weight: bold\">1</span><span style=\"color: #808000; text-decoration-color: #808000; font-weight: bold\"> phút/nhóm là rất gấp gáp và gần như không còn thời gian để </span><span style=\"color: #808000; text-decoration-color: #808000; font-weight: bold\">\"khuyến khích </span>\n",
       "<span style=\"color: #808000; text-decoration-color: #808000; font-weight: bold\">các nhóm khác đặt câu hỏi hoặc bổ sung\"</span><span style=\"color: #808000; text-decoration-color: #808000; font-weight: bold\"> như mục tiêu đã nêu. Điều này sẽ làm giảm chất lượng của phần tổng kết và </span>\n",
       "<span style=\"color: #808000; text-decoration-color: #808000; font-weight: bold\">tương tác giữa các nhóm. Do đó, hoạt động này có vẻ hơi tham vọng so với thời lượng cho phép để đảm bảo hiệu quả </span>\n",
       "<span style=\"color: #808000; text-decoration-color: #808000; font-weight: bold\">tối đa. Hãy thiết kế lại một phiên bản đơn giản hơn để khớp với thời gian </span><span style=\"color: #808000; text-decoration-color: #808000; font-weight: bold\">35</span><span style=\"color: #808000; text-decoration-color: #808000; font-weight: bold\"> phút đã cho.</span>\n",
       "</pre>\n"
      ],
      "text/plain": [
       "\u001b[1;33m⚠️  GUARDIAN PHẢN BIỆN: Chào bạn, với vai trò là Người Bảo vệ Kế hoạch, tôi đã xem xét kỹ lưỡng nội dung hoạt động \u001b[0m\n",
       "\u001b[1;33mbạn đề xuất. Về mặt cấu trúc và các thành phần hoạt động, kế hoạch này khá chi tiết và hợp lý cho một buổi khám phá\u001b[0m\n",
       "\u001b[1;33mkiến thức mới. Các bước giáo viên thực hiện cũng được phân bổ rõ ràng. Tuy nhiên, khi xét đến tính khả thi trong \u001b[0m\n",
       "\u001b[1;33mkhung thời gian \u001b[0m\u001b[1;33m35\u001b[0m\u001b[1;33m phút đã cho, tôi nhận thấy có một điểm chưa hợp lý. Tổng thời gian các hoạt động của giáo viên \u001b[0m\n",
       "\u001b[1;33mcộng lại là \u001b[0m\u001b[1;33m35\u001b[0m\u001b[1;33m phút \u001b[0m\u001b[1;33m(\u001b[0m\u001b[1;33m3\u001b[0m\u001b[1;33m + \u001b[0m\u001b[1;33m18\u001b[0m\u001b[1;33m + \u001b[0m\u001b[1;33m4\u001b[0m\u001b[1;33m + \u001b[0m\u001b[1;33m10\u001b[0m\u001b[1;33m)\u001b[0m\u001b[1;33m, khớp với kế hoạch. Nhưng phần \u001b[0m\u001b[1;33m\"Điều phối phần chia sẻ của các nhóm\"\u001b[0m\u001b[1;33m chỉ có \u001b[0m\u001b[1;33m4\u001b[0m\n",
       "\u001b[1;33mphút, trong khi mỗi nhóm cần khoảng \u001b[0m\u001b[1;33m1\u001b[0m\u001b[1;33m phút để chia sẻ. Điều này có nghĩa là nếu lớp có từ \u001b[0m\u001b[1;33m5\u001b[0m\u001b[1;33m nhóm trở lên, thời gian\u001b[0m\n",
       "\u001b[1;33msẽ không đủ. Ngay cả khi chỉ có \u001b[0m\u001b[1;33m4\u001b[0m\u001b[1;33m nhóm, \u001b[0m\u001b[1;33m1\u001b[0m\u001b[1;33m phút/nhóm là rất gấp gáp và gần như không còn thời gian để \u001b[0m\u001b[1;33m\"khuyến khích \u001b[0m\n",
       "\u001b[1;33mcác nhóm khác đặt câu hỏi hoặc bổ sung\"\u001b[0m\u001b[1;33m như mục tiêu đã nêu. Điều này sẽ làm giảm chất lượng của phần tổng kết và \u001b[0m\n",
       "\u001b[1;33mtương tác giữa các nhóm. Do đó, hoạt động này có vẻ hơi tham vọng so với thời lượng cho phép để đảm bảo hiệu quả \u001b[0m\n",
       "\u001b[1;33mtối đa. Hãy thiết kế lại một phiên bản đơn giản hơn để khớp với thời gian \u001b[0m\u001b[1;33m35\u001b[0m\u001b[1;33m phút đã cho.\u001b[0m\n"
      ]
     },
     "metadata": {},
     "output_type": "display_data"
    },
    {
     "data": {
      "text/html": [
       "<pre style=\"white-space:pre;overflow-x:auto;line-height:normal;font-family:Menlo,'DejaVu Sans Mono',consolas,'Courier New',monospace\">\n",
       "<span style=\"color: #808000; text-decoration-color: #808000; font-weight: bold\">------- Hoàn thành bước: content_validator -------</span>\n",
       "</pre>\n"
      ],
      "text/plain": [
       "\n",
       "\u001b[1;33m------- Hoàn thành bước: content_validator -------\u001b[0m\n"
      ]
     },
     "metadata": {},
     "output_type": "display_data"
    },
    {
     "data": {
      "text/html": [
       "<pre style=\"white-space:pre;overflow-x:auto;line-height:normal;font-family:Menlo,'DejaVu Sans Mono',consolas,'Courier New',monospace\">\n",
       "<span style=\"color: #008080; text-decoration-color: #008080; font-weight: bold\">&gt;</span> `Agent: Task Dispatcher` đang giao việc<span style=\"color: #808000; text-decoration-color: #808000\">...</span>\n",
       "</pre>\n"
      ],
      "text/plain": [
       "\n",
       "\u001b[1;36m>\u001b[0m `Agent: Task Dispatcher` đang giao việc\u001b[33m...\u001b[0m\n"
      ]
     },
     "metadata": {},
     "output_type": "display_data"
    },
    {
     "data": {
      "text/html": [
       "<pre style=\"white-space:pre;overflow-x:auto;line-height:normal;font-family:Menlo,'DejaVu Sans Mono',consolas,'Courier New',monospace\">\n",
       "<span style=\"color: #008080; text-decoration-color: #008080; font-weight: bold\">&gt;</span> --- 🚚 `Dispatcher`: Giao nhiệm vụ cho `activity_designer`.\n",
       "</pre>\n"
      ],
      "text/plain": [
       "\n",
       "\u001b[1;36m>\u001b[0m --- 🚚 `Dispatcher`: Giao nhiệm vụ cho `activity_designer`.\n"
      ]
     },
     "metadata": {},
     "output_type": "display_data"
    },
    {
     "data": {
      "text/html": [
       "<pre style=\"white-space:pre;overflow-x:auto;line-height:normal;font-family:Menlo,'DejaVu Sans Mono',consolas,'Courier New',monospace\">\n",
       "<span style=\"color: #808000; text-decoration-color: #808000; font-weight: bold\">------- Hoàn thành bước: task_dispatcher -------</span>\n",
       "</pre>\n"
      ],
      "text/plain": [
       "\n",
       "\u001b[1;33m------- Hoàn thành bước: task_dispatcher -------\u001b[0m\n"
      ]
     },
     "metadata": {},
     "output_type": "display_data"
    },
    {
     "data": {
      "text/html": [
       "<pre style=\"white-space:pre;overflow-x:auto;line-height:normal;font-family:Menlo,'DejaVu Sans Mono',consolas,'Courier New',monospace\">\n",
       "<span style=\"color: #008080; text-decoration-color: #008080; font-weight: bold\">&gt;</span> `Agent: Activity Designer` <span style=\"font-weight: bold\">(</span>v12.<span style=\"color: #008080; text-decoration-color: #008080; font-weight: bold\">0</span><span style=\"font-weight: bold\">)</span> đang tạo nội dung theo kỷ luật<span style=\"color: #808000; text-decoration-color: #808000\">...</span>\n",
       "</pre>\n"
      ],
      "text/plain": [
       "\n",
       "\u001b[1;36m>\u001b[0m `Agent: Activity Designer` \u001b[1m(\u001b[0mv12.\u001b[1;36m0\u001b[0m\u001b[1m)\u001b[0m đang tạo nội dung theo kỷ luật\u001b[33m...\u001b[0m\n"
      ]
     },
     "metadata": {},
     "output_type": "display_data"
    },
    {
     "data": {
      "text/html": [
       "<pre style=\"white-space:pre;overflow-x:auto;line-height:normal;font-family:Menlo,'DejaVu Sans Mono',consolas,'Courier New',monospace\"><span style=\"color: #008000; text-decoration-color: #008000; font-weight: bold\">✔️ Nội dung do Activity Designer tạo ra:</span>\n",
       "</pre>\n"
      ],
      "text/plain": [
       "\u001b[1;32m✔️ Nội dung do Activity Designer tạo ra:\u001b[0m\n"
      ]
     },
     "metadata": {},
     "output_type": "display_data"
    },
    {
     "data": {
      "text/html": [
       "<pre style=\"white-space:pre;overflow-x:auto;line-height:normal;font-family:Menlo,'DejaVu Sans Mono',consolas,'Courier New',monospace\"><span style=\"font-weight: bold\">{</span>\n",
       "<span style=\"color: #7fbf7f; text-decoration-color: #7fbf7f\">│   </span><span style=\"color: #008000; text-decoration-color: #008000\">'activity_name'</span>: <span style=\"color: #008000; text-decoration-color: #008000\">'Khám phá và Xây dựng kiến thức mới'</span>,\n",
       "<span style=\"color: #7fbf7f; text-decoration-color: #7fbf7f\">│   </span><span style=\"color: #008000; text-decoration-color: #008000\">'duration_minutes'</span>: <span style=\"color: #008080; text-decoration-color: #008080; font-weight: bold\">35</span>,\n",
       "<span style=\"color: #7fbf7f; text-decoration-color: #7fbf7f\">│   </span><span style=\"color: #008000; text-decoration-color: #008000\">'teacher_actions'</span>: <span style=\"font-weight: bold\">[</span>\n",
       "<span style=\"color: #7fbf7f; text-decoration-color: #7fbf7f\">│   │   </span><span style=\"color: #008000; text-decoration-color: #008000\">'Giới thiệu chủ đề, mục tiêu bài học và hướng dẫn rõ ràng về nhiệm vụ khám phá kiến thức (3 phút).'</span>,\n",
       "<span style=\"color: #7fbf7f; text-decoration-color: #7fbf7f\">│   │   </span><span style=\"color: #008000; text-decoration-color: #008000\">'Phân chia nhóm (nếu cần) và phát tài liệu/phiếu học tập cho các nhóm.'</span>,\n",
       "<span style=\"color: #7fbf7f; text-decoration-color: #7fbf7f\">│   │   </span><span style=\"color: #008000; text-decoration-color: #008000\">'Quan sát, lắng nghe các nhóm làm việc, đi vòng quanh lớp để hỗ trợ, giải đáp thắc mắc và gợi mở tư duy khi cần (18 phút).'</span>,\n",
       "<span style=\"color: #7fbf7f; text-decoration-color: #7fbf7f\">│   │   </span><span style=\"color: #008000; text-decoration-color: #008000\">'Khuyến khích học sinh tự tìm tòi, thảo luận và hợp tác. Ghi nhận nhanh các điểm chung/khác biệt trong quá trình làm việc của các nhóm để chuẩn bị cho phần tổng kết.'</span>,\n",
       "<span style=\"color: #7fbf7f; text-decoration-color: #7fbf7f\">│   │   </span><span style=\"color: #008000; text-decoration-color: #008000\">'Mời 2-3 nhóm đại diện chia sẻ ngắn gọn (khoảng 2-3 phút/nhóm) về những phát hiện, kết luận quan trọng nhất của nhóm mình (10 phút).'</span>,\n",
       "<span style=\"color: #7fbf7f; text-decoration-color: #7fbf7f\">│   │   </span><span style=\"color: #008000; text-decoration-color: #008000\">'Đặt câu hỏi gợi mở để các nhóm khác bổ sung hoặc phản biện (nếu có thời gian).'</span>,\n",
       "<span style=\"color: #7fbf7f; text-decoration-color: #7fbf7f\">│   │   </span><span style=\"color: #008000; text-decoration-color: #008000\">'Tổng hợp các ý kiến, chốt lại kiến thức cốt lõi, làm rõ các khái niệm quan trọng và chỉnh sửa những hiểu lầm (nếu có).'</span>,\n",
       "<span style=\"color: #7fbf7f; text-decoration-color: #7fbf7f\">│   │   </span><span style=\"color: #008000; text-decoration-color: #008000\">'Củng cố lại kiến thức trọng tâm của bài học và giao nhiệm vụ về nhà hoặc gợi ý các hoạt động mở rộng để học sinh tiếp tục tìm hiểu (4 phút).'</span>,\n",
       "<span style=\"color: #7fbf7f; text-decoration-color: #7fbf7f\">│   │   </span><span style=\"color: #008000; text-decoration-color: #008000\">'Đánh giá nhanh mức độ hiểu bài của học sinh (ví dụ: 1 câu hỏi nhanh, giơ tay biểu quyết).'</span>\n",
       "<span style=\"color: #7fbf7f; text-decoration-color: #7fbf7f\">│   </span><span style=\"font-weight: bold\">]</span>,\n",
       "<span style=\"color: #7fbf7f; text-decoration-color: #7fbf7f\">│   </span><span style=\"color: #008000; text-decoration-color: #008000\">'core_component'</span>: <span style=\"color: #008000; text-decoration-color: #008000\">'Học sinh làm việc nhóm để khám phá tài liệu, dữ liệu hoặc tình huống được cung cấp, từ đó rút ra các kiến thức mới hoặc xây dựng giải pháp cho vấn đề. Các nhóm cần ghi lại những phát hiện, câu hỏi và kết luận của mình trên phiếu học tập hoặc bảng nhóm.'</span>,\n",
       "<span style=\"color: #7fbf7f; text-decoration-color: #7fbf7f\">│   </span><span style=\"color: #008000; text-decoration-color: #008000\">'extension_component'</span>: <span style=\"color: #008000; text-decoration-color: #008000\">'Đối với các nhóm hoàn thành sớm hoặc học sinh có năng lực tốt, khuyến khích các em tìm kiếm thêm thông tin liên quan, đặt ra các câu hỏi sâu hơn, hoặc đề xuất các ứng dụng thực tế của kiến thức vừa học.'</span>,\n",
       "<span style=\"color: #7fbf7f; text-decoration-color: #7fbf7f\">│   </span><span style=\"color: #008000; text-decoration-color: #008000\">'solution_guide'</span>: <span style=\"color: #008000; text-decoration-color: #008000\">\"Các câu hỏi gợi mở cho giáo viên khi điều phối: 'Các em đã tìm thấy điều gì thú vị nhất?', 'Điểm mấu chốt của vấn đề này là gì?', 'Các em có thể áp dụng kiến thức này vào đâu trong thực tế?', 'Có điểm nào các nhóm còn băn khoăn không?'. Chuẩn bị sẵn các ý chính/khái niệm cốt lõi cần được học sinh khám phá để đối chiếu và tổng kết. Dự kiến các câu trả lời/phát hiện có thể có của học sinh để dễ dàng điều hướng thảo luận.\"</span>,\n",
       "<span style=\"color: #7fbf7f; text-decoration-color: #7fbf7f\">│   </span><span style=\"color: #008000; text-decoration-color: #008000\">'differentiation'</span>: <span style=\"font-weight: bold\">{</span>\n",
       "<span style=\"color: #7fbf7f; text-decoration-color: #7fbf7f\">│   │   </span><span style=\"color: #008000; text-decoration-color: #008000\">'for_struggling_students'</span>: <span style=\"color: #008000; text-decoration-color: #008000\">'Cung cấp tài liệu có cấu trúc rõ ràng hơn, có sẵn các câu hỏi gợi ý hoặc khung sườn để điền thông tin. Ưu tiên ghép nhóm với các bạn có năng lực khá để nhận được sự hỗ trợ trực tiếp. Giáo viên dành thời gian ghé thăm nhóm thường xuyên hơn, đặt các câu hỏi dẫn dắt cụ thể để giúp các em bắt đầu và duy trì hoạt động. Cho phép các em chỉ tập trung vào những kiến thức cơ bản nhất.'</span>,\n",
       "<span style=\"color: #7fbf7f; text-decoration-color: #7fbf7f\">│   │   </span><span style=\"color: #008000; text-decoration-color: #008000\">'for_advanced_students'</span>: <span style=\"color: #008000; text-decoration-color: #008000\">\"Cung cấp các tài liệu phức tạp hơn, yêu cầu phân tích sâu hơn hoặc liên hệ với các kiến thức đã học/thực tế. Khuyến khích các em tự đặt câu hỏi nghiên cứu, đề xuất các giải pháp sáng tạo hoặc mở rộng vấn đề. Giao nhiệm vụ 'chuyên gia' trong nhóm, hỗ trợ các bạn khác và trình bày phần mở rộng nếu có thời gian. Thử thách các em tìm ra nhiều cách giải quyết khác nhau cho cùng một vấn đề hoặc dự đoán các tình huống tiếp theo.\"</span>\n",
       "<span style=\"color: #7fbf7f; text-decoration-color: #7fbf7f\">│   </span><span style=\"font-weight: bold\">}</span>,\n",
       "<span style=\"color: #7fbf7f; text-decoration-color: #7fbf7f\">│   </span><span style=\"color: #008000; text-decoration-color: #008000\">'content_type'</span>: <span style=\"color: #008000; text-decoration-color: #008000\">'Thảo luận nhóm và Tổng kết'</span>\n",
       "<span style=\"font-weight: bold\">}</span>\n",
       "</pre>\n"
      ],
      "text/plain": [
       "\u001b[1m{\u001b[0m\n",
       "\u001b[2;32m│   \u001b[0m\u001b[32m'activity_name'\u001b[0m: \u001b[32m'Khám phá và Xây dựng kiến thức mới'\u001b[0m,\n",
       "\u001b[2;32m│   \u001b[0m\u001b[32m'duration_minutes'\u001b[0m: \u001b[1;36m35\u001b[0m,\n",
       "\u001b[2;32m│   \u001b[0m\u001b[32m'teacher_actions'\u001b[0m: \u001b[1m[\u001b[0m\n",
       "\u001b[2;32m│   │   \u001b[0m\u001b[32m'Giới thiệu chủ đề, mục tiêu bài học và hướng dẫn rõ ràng về nhiệm vụ khám phá kiến thức \u001b[0m\u001b[32m(\u001b[0m\u001b[32m3 phút\u001b[0m\u001b[32m)\u001b[0m\u001b[32m.'\u001b[0m,\n",
       "\u001b[2;32m│   │   \u001b[0m\u001b[32m'Phân chia nhóm \u001b[0m\u001b[32m(\u001b[0m\u001b[32mnếu cần\u001b[0m\u001b[32m)\u001b[0m\u001b[32m và phát tài liệu/phiếu học tập cho các nhóm.'\u001b[0m,\n",
       "\u001b[2;32m│   │   \u001b[0m\u001b[32m'Quan sát, lắng nghe các nhóm làm việc, đi vòng quanh lớp để hỗ trợ, giải đáp thắc mắc và gợi mở tư duy khi cần \u001b[0m\u001b[32m(\u001b[0m\u001b[32m18 phút\u001b[0m\u001b[32m)\u001b[0m\u001b[32m.'\u001b[0m,\n",
       "\u001b[2;32m│   │   \u001b[0m\u001b[32m'Khuyến khích học sinh tự tìm tòi, thảo luận và hợp tác. Ghi nhận nhanh các điểm chung/khác biệt trong quá trình làm việc của các nhóm để chuẩn bị cho phần tổng kết.'\u001b[0m,\n",
       "\u001b[2;32m│   │   \u001b[0m\u001b[32m'Mời 2-3 nhóm đại diện chia sẻ ngắn gọn \u001b[0m\u001b[32m(\u001b[0m\u001b[32mkhoảng 2-3 phút/nhóm\u001b[0m\u001b[32m)\u001b[0m\u001b[32m về những phát hiện, kết luận quan trọng nhất của nhóm mình \u001b[0m\u001b[32m(\u001b[0m\u001b[32m10 phút\u001b[0m\u001b[32m)\u001b[0m\u001b[32m.'\u001b[0m,\n",
       "\u001b[2;32m│   │   \u001b[0m\u001b[32m'Đặt câu hỏi gợi mở để các nhóm khác bổ sung hoặc phản biện \u001b[0m\u001b[32m(\u001b[0m\u001b[32mnếu có thời gian\u001b[0m\u001b[32m)\u001b[0m\u001b[32m.'\u001b[0m,\n",
       "\u001b[2;32m│   │   \u001b[0m\u001b[32m'Tổng hợp các ý kiến, chốt lại kiến thức cốt lõi, làm rõ các khái niệm quan trọng và chỉnh sửa những hiểu lầm \u001b[0m\u001b[32m(\u001b[0m\u001b[32mnếu có\u001b[0m\u001b[32m)\u001b[0m\u001b[32m.'\u001b[0m,\n",
       "\u001b[2;32m│   │   \u001b[0m\u001b[32m'Củng cố lại kiến thức trọng tâm của bài học và giao nhiệm vụ về nhà hoặc gợi ý các hoạt động mở rộng để học sinh tiếp tục tìm hiểu \u001b[0m\u001b[32m(\u001b[0m\u001b[32m4 phút\u001b[0m\u001b[32m)\u001b[0m\u001b[32m.'\u001b[0m,\n",
       "\u001b[2;32m│   │   \u001b[0m\u001b[32m'Đánh giá nhanh mức độ hiểu bài của học sinh \u001b[0m\u001b[32m(\u001b[0m\u001b[32mví dụ: 1 câu hỏi nhanh, giơ tay biểu quyết\u001b[0m\u001b[32m)\u001b[0m\u001b[32m.'\u001b[0m\n",
       "\u001b[2;32m│   \u001b[0m\u001b[1m]\u001b[0m,\n",
       "\u001b[2;32m│   \u001b[0m\u001b[32m'core_component'\u001b[0m: \u001b[32m'Học sinh làm việc nhóm để khám phá tài liệu, dữ liệu hoặc tình huống được cung cấp, từ đó rút ra các kiến thức mới hoặc xây dựng giải pháp cho vấn đề. Các nhóm cần ghi lại những phát hiện, câu hỏi và kết luận của mình trên phiếu học tập hoặc bảng nhóm.'\u001b[0m,\n",
       "\u001b[2;32m│   \u001b[0m\u001b[32m'extension_component'\u001b[0m: \u001b[32m'Đối với các nhóm hoàn thành sớm hoặc học sinh có năng lực tốt, khuyến khích các em tìm kiếm thêm thông tin liên quan, đặt ra các câu hỏi sâu hơn, hoặc đề xuất các ứng dụng thực tế của kiến thức vừa học.'\u001b[0m,\n",
       "\u001b[2;32m│   \u001b[0m\u001b[32m'solution_guide'\u001b[0m: \u001b[32m\"Các câu hỏi gợi mở cho giáo viên khi điều phối: 'Các em đã tìm thấy điều gì thú vị nhất?', 'Điểm mấu chốt của vấn đề này là gì?', 'Các em có thể áp dụng kiến thức này vào đâu trong thực tế?', 'Có điểm nào các nhóm còn băn khoăn không?'. Chuẩn bị sẵn các ý chính/khái niệm cốt lõi cần được học sinh khám phá để đối chiếu và tổng kết. Dự kiến các câu trả lời/phát hiện có thể có của học sinh để dễ dàng điều hướng thảo luận.\"\u001b[0m,\n",
       "\u001b[2;32m│   \u001b[0m\u001b[32m'differentiation'\u001b[0m: \u001b[1m{\u001b[0m\n",
       "\u001b[2;32m│   │   \u001b[0m\u001b[32m'for_struggling_students'\u001b[0m: \u001b[32m'Cung cấp tài liệu có cấu trúc rõ ràng hơn, có sẵn các câu hỏi gợi ý hoặc khung sườn để điền thông tin. Ưu tiên ghép nhóm với các bạn có năng lực khá để nhận được sự hỗ trợ trực tiếp. Giáo viên dành thời gian ghé thăm nhóm thường xuyên hơn, đặt các câu hỏi dẫn dắt cụ thể để giúp các em bắt đầu và duy trì hoạt động. Cho phép các em chỉ tập trung vào những kiến thức cơ bản nhất.'\u001b[0m,\n",
       "\u001b[2;32m│   │   \u001b[0m\u001b[32m'for_advanced_students'\u001b[0m: \u001b[32m\"Cung cấp các tài liệu phức tạp hơn, yêu cầu phân tích sâu hơn hoặc liên hệ với các kiến thức đã học/thực tế. Khuyến khích các em tự đặt câu hỏi nghiên cứu, đề xuất các giải pháp sáng tạo hoặc mở rộng vấn đề. Giao nhiệm vụ 'chuyên gia' trong nhóm, hỗ trợ các bạn khác và trình bày phần mở rộng nếu có thời gian. Thử thách các em tìm ra nhiều cách giải quyết khác nhau cho cùng một vấn đề hoặc dự đoán các tình huống tiếp theo.\"\u001b[0m\n",
       "\u001b[2;32m│   \u001b[0m\u001b[1m}\u001b[0m,\n",
       "\u001b[2;32m│   \u001b[0m\u001b[32m'content_type'\u001b[0m: \u001b[32m'Thảo luận nhóm và Tổng kết'\u001b[0m\n",
       "\u001b[1m}\u001b[0m\n"
      ]
     },
     "metadata": {},
     "output_type": "display_data"
    },
    {
     "data": {
      "text/html": [
       "<pre style=\"white-space:pre;overflow-x:auto;line-height:normal;font-family:Menlo,'DejaVu Sans Mono',consolas,'Courier New',monospace\">\n",
       "<span style=\"color: #808000; text-decoration-color: #808000; font-weight: bold\">------- Hoàn thành bước: activity_designer -------</span>\n",
       "</pre>\n"
      ],
      "text/plain": [
       "\n",
       "\u001b[1;33m------- Hoàn thành bước: activity_designer -------\u001b[0m\n"
      ]
     },
     "metadata": {},
     "output_type": "display_data"
    },
    {
     "data": {
      "text/html": [
       "<pre style=\"white-space:pre;overflow-x:auto;line-height:normal;font-family:Menlo,'DejaVu Sans Mono',consolas,'Courier New',monospace\">\n",
       "<span style=\"color: #008080; text-decoration-color: #008080; font-weight: bold\">&gt;</span> `Agent: Guardian Critic` <span style=\"font-weight: bold\">(</span>v12.<span style=\"color: #008080; text-decoration-color: #008080; font-weight: bold\">0</span><span style=\"font-weight: bold\">)</span> đang bảo vệ kế hoạch<span style=\"color: #808000; text-decoration-color: #808000\">...</span>\n",
       "</pre>\n"
      ],
      "text/plain": [
       "\n",
       "\u001b[1;36m>\u001b[0m `Agent: Guardian Critic` \u001b[1m(\u001b[0mv12.\u001b[1;36m0\u001b[0m\u001b[1m)\u001b[0m đang bảo vệ kế hoạch\u001b[33m...\u001b[0m\n"
      ]
     },
     "metadata": {},
     "output_type": "display_data"
    },
    {
     "data": {
      "text/html": [
       "<pre style=\"white-space:pre;overflow-x:auto;line-height:normal;font-family:Menlo,'DejaVu Sans Mono',consolas,'Courier New',monospace\"><span style=\"color: #808000; text-decoration-color: #808000; font-weight: bold\">⚠️  GUARDIAN PHẢN BIỆN: Kế hoạch hoạt động này có vẻ hợp lý về mặt nội dung và phương pháp, tuy nhiên, thời lượng </span><span style=\"color: #808000; text-decoration-color: #808000; font-weight: bold\">35</span>\n",
       "<span style=\"color: #808000; text-decoration-color: #808000; font-weight: bold\">phút được phân bổ cho các hoạt động cụ thể đã tính toán vừa đủ, nhưng lại chưa tính đến thời gian cho một số hoạt </span>\n",
       "<span style=\"color: #808000; text-decoration-color: #808000; font-weight: bold\">động cần thiết khác như: phân chia nhóm và phát tài liệu, cũng như thời gian để giáo viên tổng hợp, chốt kiến thức </span>\n",
       "<span style=\"color: #808000; text-decoration-color: #808000; font-weight: bold\">cốt lõi một cách sâu sắc sau phần chia sẻ của học sinh. Đặc biệt, việc tổng hợp ý kiến, chốt kiến thức, làm rõ khái</span>\n",
       "<span style=\"color: #808000; text-decoration-color: #808000; font-weight: bold\">niệm và chỉnh sửa hiểu lầm trong </span><span style=\"color: #808000; text-decoration-color: #808000; font-weight: bold\">4</span><span style=\"color: #808000; text-decoration-color: #808000; font-weight: bold\"> phút cuối cùng cùng với củng cố và giao nhiệm vụ về nhà là quá gấp gáp, khó đảm </span>\n",
       "<span style=\"color: #808000; text-decoration-color: #808000; font-weight: bold\">bảo hiệu quả. Hoạt động này sẽ khó có thể hoàn thành một cách trọn vẹn và chất lượng trong </span><span style=\"color: #808000; text-decoration-color: #808000; font-weight: bold\">35</span><span style=\"color: #808000; text-decoration-color: #808000; font-weight: bold\"> phút. Hãy thiết kế </span>\n",
       "<span style=\"color: #808000; text-decoration-color: #808000; font-weight: bold\">lại một phiên bản đơn giản hơn để khớp với thời gian </span><span style=\"color: #808000; text-decoration-color: #808000; font-weight: bold\">35</span><span style=\"color: #808000; text-decoration-color: #808000; font-weight: bold\"> phút đã cho.</span>\n",
       "</pre>\n"
      ],
      "text/plain": [
       "\u001b[1;33m⚠️  GUARDIAN PHẢN BIỆN: Kế hoạch hoạt động này có vẻ hợp lý về mặt nội dung và phương pháp, tuy nhiên, thời lượng \u001b[0m\u001b[1;33m35\u001b[0m\n",
       "\u001b[1;33mphút được phân bổ cho các hoạt động cụ thể đã tính toán vừa đủ, nhưng lại chưa tính đến thời gian cho một số hoạt \u001b[0m\n",
       "\u001b[1;33mđộng cần thiết khác như: phân chia nhóm và phát tài liệu, cũng như thời gian để giáo viên tổng hợp, chốt kiến thức \u001b[0m\n",
       "\u001b[1;33mcốt lõi một cách sâu sắc sau phần chia sẻ của học sinh. Đặc biệt, việc tổng hợp ý kiến, chốt kiến thức, làm rõ khái\u001b[0m\n",
       "\u001b[1;33mniệm và chỉnh sửa hiểu lầm trong \u001b[0m\u001b[1;33m4\u001b[0m\u001b[1;33m phút cuối cùng cùng với củng cố và giao nhiệm vụ về nhà là quá gấp gáp, khó đảm \u001b[0m\n",
       "\u001b[1;33mbảo hiệu quả. Hoạt động này sẽ khó có thể hoàn thành một cách trọn vẹn và chất lượng trong \u001b[0m\u001b[1;33m35\u001b[0m\u001b[1;33m phút. Hãy thiết kế \u001b[0m\n",
       "\u001b[1;33mlại một phiên bản đơn giản hơn để khớp với thời gian \u001b[0m\u001b[1;33m35\u001b[0m\u001b[1;33m phút đã cho.\u001b[0m\n"
      ]
     },
     "metadata": {},
     "output_type": "display_data"
    },
    {
     "data": {
      "text/html": [
       "<pre style=\"white-space:pre;overflow-x:auto;line-height:normal;font-family:Menlo,'DejaVu Sans Mono',consolas,'Courier New',monospace\">\n",
       "<span style=\"color: #808000; text-decoration-color: #808000; font-weight: bold\">------- Hoàn thành bước: content_validator -------</span>\n",
       "</pre>\n"
      ],
      "text/plain": [
       "\n",
       "\u001b[1;33m------- Hoàn thành bước: content_validator -------\u001b[0m\n"
      ]
     },
     "metadata": {},
     "output_type": "display_data"
    },
    {
     "data": {
      "text/html": [
       "<pre style=\"white-space:pre;overflow-x:auto;line-height:normal;font-family:Menlo,'DejaVu Sans Mono',consolas,'Courier New',monospace\">\n",
       "<span style=\"color: #008080; text-decoration-color: #008080; font-weight: bold\">&gt;</span> `Agent: Task Dispatcher` đang giao việc<span style=\"color: #808000; text-decoration-color: #808000\">...</span>\n",
       "</pre>\n"
      ],
      "text/plain": [
       "\n",
       "\u001b[1;36m>\u001b[0m `Agent: Task Dispatcher` đang giao việc\u001b[33m...\u001b[0m\n"
      ]
     },
     "metadata": {},
     "output_type": "display_data"
    },
    {
     "data": {
      "text/html": [
       "<pre style=\"white-space:pre;overflow-x:auto;line-height:normal;font-family:Menlo,'DejaVu Sans Mono',consolas,'Courier New',monospace\">\n",
       "<span style=\"color: #008080; text-decoration-color: #008080; font-weight: bold\">&gt;</span> --- 🚚 `Dispatcher`: Giao nhiệm vụ cho `theory_synthesizer`.\n",
       "</pre>\n"
      ],
      "text/plain": [
       "\n",
       "\u001b[1;36m>\u001b[0m --- 🚚 `Dispatcher`: Giao nhiệm vụ cho `theory_synthesizer`.\n"
      ]
     },
     "metadata": {},
     "output_type": "display_data"
    },
    {
     "data": {
      "text/html": [
       "<pre style=\"white-space:pre;overflow-x:auto;line-height:normal;font-family:Menlo,'DejaVu Sans Mono',consolas,'Courier New',monospace\">\n",
       "<span style=\"color: #808000; text-decoration-color: #808000; font-weight: bold\">------- Hoàn thành bước: task_dispatcher -------</span>\n",
       "</pre>\n"
      ],
      "text/plain": [
       "\n",
       "\u001b[1;33m------- Hoàn thành bước: task_dispatcher -------\u001b[0m\n"
      ]
     },
     "metadata": {},
     "output_type": "display_data"
    },
    {
     "data": {
      "text/html": [
       "<pre style=\"white-space:pre;overflow-x:auto;line-height:normal;font-family:Menlo,'DejaVu Sans Mono',consolas,'Courier New',monospace\">\n",
       "<span style=\"color: #008080; text-decoration-color: #008080; font-weight: bold\">&gt;</span> `Agent: Theory Synthesizer` <span style=\"font-weight: bold\">(</span>v12.<span style=\"color: #008080; text-decoration-color: #008080; font-weight: bold\">0</span><span style=\"font-weight: bold\">)</span> đang tạo nội dung theo kỷ luật<span style=\"color: #808000; text-decoration-color: #808000\">...</span>\n",
       "</pre>\n"
      ],
      "text/plain": [
       "\n",
       "\u001b[1;36m>\u001b[0m `Agent: Theory Synthesizer` \u001b[1m(\u001b[0mv12.\u001b[1;36m0\u001b[0m\u001b[1m)\u001b[0m đang tạo nội dung theo kỷ luật\u001b[33m...\u001b[0m\n"
      ]
     },
     "metadata": {},
     "output_type": "display_data"
    },
    {
     "data": {
      "text/html": [
       "<pre style=\"white-space:pre;overflow-x:auto;line-height:normal;font-family:Menlo,'DejaVu Sans Mono',consolas,'Courier New',monospace\"><span style=\"color: #008000; text-decoration-color: #008000; font-weight: bold\">✔️ Nội dung do Theory Synthesizer tạo ra:</span>\n",
       "</pre>\n"
      ],
      "text/plain": [
       "\u001b[1;32m✔️ Nội dung do Theory Synthesizer tạo ra:\u001b[0m\n"
      ]
     },
     "metadata": {},
     "output_type": "display_data"
    },
    {
     "data": {
      "text/html": [
       "<pre style=\"white-space:pre;overflow-x:auto;line-height:normal;font-family:Menlo,'DejaVu Sans Mono',consolas,'Courier New',monospace\"><span style=\"font-weight: bold\">{</span>\n",
       "<span style=\"color: #7fbf7f; text-decoration-color: #7fbf7f\">│   </span><span style=\"color: #008000; text-decoration-color: #008000\">'activity_name'</span>: <span style=\"color: #008000; text-decoration-color: #008000\">'Khám phá và Xây dựng kiến thức mới'</span>,\n",
       "<span style=\"color: #7fbf7f; text-decoration-color: #7fbf7f\">│   </span><span style=\"color: #008000; text-decoration-color: #008000\">'duration_minutes'</span>: <span style=\"color: #008080; text-decoration-color: #008080; font-weight: bold\">35</span>,\n",
       "<span style=\"color: #7fbf7f; text-decoration-color: #7fbf7f\">│   </span><span style=\"color: #008000; text-decoration-color: #008000\">'teacher_actions'</span>: <span style=\"font-weight: bold\">[</span>\n",
       "<span style=\"color: #7fbf7f; text-decoration-color: #7fbf7f\">│   │   </span><span style=\"color: #008000; text-decoration-color: #008000\">'Giới thiệu mục tiêu hoạt động và hướng dẫn cách thức làm việc nhóm (2 phút).'</span>,\n",
       "<span style=\"color: #7fbf7f; text-decoration-color: #7fbf7f\">│   │   </span><span style=\"color: #008000; text-decoration-color: #008000\">'Phân chia nhóm nhanh chóng và phát tài liệu cho từng nhóm (3 phút).'</span>,\n",
       "<span style=\"color: #7fbf7f; text-decoration-color: #7fbf7f\">│   │   </span><span style=\"color: #008000; text-decoration-color: #008000\">'Quan sát, lắng nghe, gợi ý và hỗ trợ các nhóm trong quá trình khám phá, đảm bảo tất cả học sinh đều tham gia (20 phút).'</span>,\n",
       "<span style=\"color: #7fbf7f; text-decoration-color: #7fbf7f\">│   │   </span><span style=\"color: #008000; text-decoration-color: #008000\">'Mời 2-3 nhóm đại diện trình bày nhanh kết quả khám phá của nhóm mình (4 phút).'</span>,\n",
       "<span style=\"color: #7fbf7f; text-decoration-color: #7fbf7f\">│   │   </span><span style=\"color: #008000; text-decoration-color: #008000\">'Tổng hợp, chốt kiến thức cốt lõi, làm rõ các khái niệm, chỉnh sửa hiểu lầm và nhấn mạnh các điểm quan trọng (4 phút).'</span>,\n",
       "<span style=\"color: #7fbf7f; text-decoration-color: #7fbf7f\">│   │   </span><span style=\"color: #008000; text-decoration-color: #008000\">'Củng cố kiến thức bằng một câu hỏi nhanh hoặc ví dụ ứng dụng, và giao nhiệm vụ về nhà (2 phút).'</span>\n",
       "<span style=\"color: #7fbf7f; text-decoration-color: #7fbf7f\">│   </span><span style=\"font-weight: bold\">]</span>,\n",
       "<span style=\"color: #7fbf7f; text-decoration-color: #7fbf7f\">│   </span><span style=\"color: #008000; text-decoration-color: #008000\">'core_component'</span>: <span style=\"color: #008000; text-decoration-color: #008000\">'Học sinh làm việc theo nhóm 3-4 người. Mỗi nhóm nhận một bộ tài liệu (ví dụ: các ví dụ, hình ảnh, dữ liệu liên quan đến kiến thức mới cần khám phá). Nhiệm vụ của nhóm là: 1. Quan sát, phân tích các ví dụ/dữ liệu được cung cấp. 2. Thảo luận để tìm ra quy luật, đặc điểm chung hoặc xây dựng khái niệm/kiến thức mới từ các ví dụ đó. 3. Ghi lại kết quả khám phá của nhóm lên bảng phụ hoặc giấy A0 để chuẩn bị chia sẻ.'</span>,\n",
       "<span style=\"color: #7fbf7f; text-decoration-color: #7fbf7f\">│   </span><span style=\"color: #008000; text-decoration-color: #008000\">'extension_component'</span>: <span style=\"color: #008000; text-decoration-color: #008000\">'Đối với các nhóm hoàn thành sớm, yêu cầu các em tìm thêm ví dụ thực tế hoặc ứng dụng của kiến thức vừa khám phá, hoặc đặt câu hỏi thách thức cho các nhóm khác liên quan đến nội dung bài học.'</span>,\n",
       "<span style=\"color: #7fbf7f; text-decoration-color: #7fbf7f\">│   </span><span style=\"color: #008000; text-decoration-color: #008000\">'solution_guide'</span>: <span style=\"color: #008000; text-decoration-color: #008000\">'Các câu hỏi gợi mở trong quá trình nhóm làm việc: \"Các em nhận thấy điểm chung nào giữa các ví dụ này?\", \"Có quy luật nào ẩn sau các dữ liệu này không?\", \"Các em có thể đặt tên cho khái niệm này là gì?\", \"Làm thế nào để kiểm chứng giả thuyết của mình?\". Khi tổng hợp: Đảm bảo học sinh nắm vững định nghĩa/quy luật chính, các trường hợp đặc biệt (nếu có) và ứng dụng cơ bản.'</span>,\n",
       "<span style=\"color: #7fbf7f; text-decoration-color: #7fbf7f\">│   </span><span style=\"color: #008000; text-decoration-color: #008000\">'differentiation'</span>: <span style=\"font-weight: bold\">{</span>\n",
       "<span style=\"color: #7fbf7f; text-decoration-color: #7fbf7f\">│   │   </span><span style=\"color: #008000; text-decoration-color: #008000\">'for_struggling_students'</span>: <span style=\"color: #008000; text-decoration-color: #008000\">'Giáo viên có thể ghép các em vào nhóm có học sinh khá/giỏi để nhận được sự hỗ trợ từ bạn bè. Cung cấp tài liệu có cấu trúc đơn giản hơn, ít ví dụ hơn hoặc có các câu hỏi dẫn dắt cụ thể hơn để các em dễ dàng bắt đầu và tham gia vào quá trình thảo luận.'</span>,\n",
       "<span style=\"color: #7fbf7f; text-decoration-color: #7fbf7f\">│   │   </span><span style=\"color: #008000; text-decoration-color: #008000\">'for_advanced_students'</span>: <span style=\"color: #008000; text-decoration-color: #008000\">'Khuyến khích các em đi sâu hơn vào phân tích, tìm kiếm các mối liên hệ phức tạp hơn hoặc các trường hợp ngoại lệ. Yêu cầu các em tự xây dựng một ví dụ minh họa mới cho kiến thức vừa khám phá hoặc suy nghĩ về ứng dụng của kiến thức trong các tình huống khác nhau.'</span>\n",
       "<span style=\"color: #7fbf7f; text-decoration-color: #7fbf7f\">│   </span><span style=\"font-weight: bold\">}</span>,\n",
       "<span style=\"color: #7fbf7f; text-decoration-color: #7fbf7f\">│   </span><span style=\"color: #008000; text-decoration-color: #008000\">'content_type'</span>: <span style=\"color: #008000; text-decoration-color: #008000\">'Hoạt động nhóm nhỏ và tổng hợp kiến thức'</span>\n",
       "<span style=\"font-weight: bold\">}</span>\n",
       "</pre>\n"
      ],
      "text/plain": [
       "\u001b[1m{\u001b[0m\n",
       "\u001b[2;32m│   \u001b[0m\u001b[32m'activity_name'\u001b[0m: \u001b[32m'Khám phá và Xây dựng kiến thức mới'\u001b[0m,\n",
       "\u001b[2;32m│   \u001b[0m\u001b[32m'duration_minutes'\u001b[0m: \u001b[1;36m35\u001b[0m,\n",
       "\u001b[2;32m│   \u001b[0m\u001b[32m'teacher_actions'\u001b[0m: \u001b[1m[\u001b[0m\n",
       "\u001b[2;32m│   │   \u001b[0m\u001b[32m'Giới thiệu mục tiêu hoạt động và hướng dẫn cách thức làm việc nhóm \u001b[0m\u001b[32m(\u001b[0m\u001b[32m2 phút\u001b[0m\u001b[32m)\u001b[0m\u001b[32m.'\u001b[0m,\n",
       "\u001b[2;32m│   │   \u001b[0m\u001b[32m'Phân chia nhóm nhanh chóng và phát tài liệu cho từng nhóm \u001b[0m\u001b[32m(\u001b[0m\u001b[32m3 phút\u001b[0m\u001b[32m)\u001b[0m\u001b[32m.'\u001b[0m,\n",
       "\u001b[2;32m│   │   \u001b[0m\u001b[32m'Quan sát, lắng nghe, gợi ý và hỗ trợ các nhóm trong quá trình khám phá, đảm bảo tất cả học sinh đều tham gia \u001b[0m\u001b[32m(\u001b[0m\u001b[32m20 phút\u001b[0m\u001b[32m)\u001b[0m\u001b[32m.'\u001b[0m,\n",
       "\u001b[2;32m│   │   \u001b[0m\u001b[32m'Mời 2-3 nhóm đại diện trình bày nhanh kết quả khám phá của nhóm mình \u001b[0m\u001b[32m(\u001b[0m\u001b[32m4 phút\u001b[0m\u001b[32m)\u001b[0m\u001b[32m.'\u001b[0m,\n",
       "\u001b[2;32m│   │   \u001b[0m\u001b[32m'Tổng hợp, chốt kiến thức cốt lõi, làm rõ các khái niệm, chỉnh sửa hiểu lầm và nhấn mạnh các điểm quan trọng \u001b[0m\u001b[32m(\u001b[0m\u001b[32m4 phút\u001b[0m\u001b[32m)\u001b[0m\u001b[32m.'\u001b[0m,\n",
       "\u001b[2;32m│   │   \u001b[0m\u001b[32m'Củng cố kiến thức bằng một câu hỏi nhanh hoặc ví dụ ứng dụng, và giao nhiệm vụ về nhà \u001b[0m\u001b[32m(\u001b[0m\u001b[32m2 phút\u001b[0m\u001b[32m)\u001b[0m\u001b[32m.'\u001b[0m\n",
       "\u001b[2;32m│   \u001b[0m\u001b[1m]\u001b[0m,\n",
       "\u001b[2;32m│   \u001b[0m\u001b[32m'core_component'\u001b[0m: \u001b[32m'Học sinh làm việc theo nhóm 3-4 người. Mỗi nhóm nhận một bộ tài liệu \u001b[0m\u001b[32m(\u001b[0m\u001b[32mví dụ: các ví dụ, hình ảnh, dữ liệu liên quan đến kiến thức mới cần khám phá\u001b[0m\u001b[32m)\u001b[0m\u001b[32m. Nhiệm vụ của nhóm là: 1. Quan sát, phân tích các ví dụ/dữ liệu được cung cấp. 2. Thảo luận để tìm ra quy luật, đặc điểm chung hoặc xây dựng khái niệm/kiến thức mới từ các ví dụ đó. 3. Ghi lại kết quả khám phá của nhóm lên bảng phụ hoặc giấy A0 để chuẩn bị chia sẻ.'\u001b[0m,\n",
       "\u001b[2;32m│   \u001b[0m\u001b[32m'extension_component'\u001b[0m: \u001b[32m'Đối với các nhóm hoàn thành sớm, yêu cầu các em tìm thêm ví dụ thực tế hoặc ứng dụng của kiến thức vừa khám phá, hoặc đặt câu hỏi thách thức cho các nhóm khác liên quan đến nội dung bài học.'\u001b[0m,\n",
       "\u001b[2;32m│   \u001b[0m\u001b[32m'solution_guide'\u001b[0m: \u001b[32m'Các câu hỏi gợi mở trong quá trình nhóm làm việc: \"Các em nhận thấy điểm chung nào giữa các ví dụ này?\", \"Có quy luật nào ẩn sau các dữ liệu này không?\", \"Các em có thể đặt tên cho khái niệm này là gì?\", \"Làm thế nào để kiểm chứng giả thuyết của mình?\". Khi tổng hợp: Đảm bảo học sinh nắm vững định nghĩa/quy luật chính, các trường hợp đặc biệt \u001b[0m\u001b[32m(\u001b[0m\u001b[32mnếu có\u001b[0m\u001b[32m)\u001b[0m\u001b[32m và ứng dụng cơ bản.'\u001b[0m,\n",
       "\u001b[2;32m│   \u001b[0m\u001b[32m'differentiation'\u001b[0m: \u001b[1m{\u001b[0m\n",
       "\u001b[2;32m│   │   \u001b[0m\u001b[32m'for_struggling_students'\u001b[0m: \u001b[32m'Giáo viên có thể ghép các em vào nhóm có học sinh khá/giỏi để nhận được sự hỗ trợ từ bạn bè. Cung cấp tài liệu có cấu trúc đơn giản hơn, ít ví dụ hơn hoặc có các câu hỏi dẫn dắt cụ thể hơn để các em dễ dàng bắt đầu và tham gia vào quá trình thảo luận.'\u001b[0m,\n",
       "\u001b[2;32m│   │   \u001b[0m\u001b[32m'for_advanced_students'\u001b[0m: \u001b[32m'Khuyến khích các em đi sâu hơn vào phân tích, tìm kiếm các mối liên hệ phức tạp hơn hoặc các trường hợp ngoại lệ. Yêu cầu các em tự xây dựng một ví dụ minh họa mới cho kiến thức vừa khám phá hoặc suy nghĩ về ứng dụng của kiến thức trong các tình huống khác nhau.'\u001b[0m\n",
       "\u001b[2;32m│   \u001b[0m\u001b[1m}\u001b[0m,\n",
       "\u001b[2;32m│   \u001b[0m\u001b[32m'content_type'\u001b[0m: \u001b[32m'Hoạt động nhóm nhỏ và tổng hợp kiến thức'\u001b[0m\n",
       "\u001b[1m}\u001b[0m\n"
      ]
     },
     "metadata": {},
     "output_type": "display_data"
    },
    {
     "data": {
      "text/html": [
       "<pre style=\"white-space:pre;overflow-x:auto;line-height:normal;font-family:Menlo,'DejaVu Sans Mono',consolas,'Courier New',monospace\">\n",
       "<span style=\"color: #808000; text-decoration-color: #808000; font-weight: bold\">------- Hoàn thành bước: theory_synthesizer -------</span>\n",
       "</pre>\n"
      ],
      "text/plain": [
       "\n",
       "\u001b[1;33m------- Hoàn thành bước: theory_synthesizer -------\u001b[0m\n"
      ]
     },
     "metadata": {},
     "output_type": "display_data"
    },
    {
     "data": {
      "text/html": [
       "<pre style=\"white-space:pre;overflow-x:auto;line-height:normal;font-family:Menlo,'DejaVu Sans Mono',consolas,'Courier New',monospace\">\n",
       "<span style=\"color: #008080; text-decoration-color: #008080; font-weight: bold\">&gt;</span> `Agent: Guardian Critic` <span style=\"font-weight: bold\">(</span>v12.<span style=\"color: #008080; text-decoration-color: #008080; font-weight: bold\">0</span><span style=\"font-weight: bold\">)</span> đang bảo vệ kế hoạch<span style=\"color: #808000; text-decoration-color: #808000\">...</span>\n",
       "</pre>\n"
      ],
      "text/plain": [
       "\n",
       "\u001b[1;36m>\u001b[0m `Agent: Guardian Critic` \u001b[1m(\u001b[0mv12.\u001b[1;36m0\u001b[0m\u001b[1m)\u001b[0m đang bảo vệ kế hoạch\u001b[33m...\u001b[0m\n"
      ]
     },
     "metadata": {},
     "output_type": "display_data"
    },
    {
     "data": {
      "text/html": [
       "<pre style=\"white-space:pre;overflow-x:auto;line-height:normal;font-family:Menlo,'DejaVu Sans Mono',consolas,'Courier New',monospace\"><span style=\"color: #808000; text-decoration-color: #808000; font-weight: bold\">⚠️  GUARDIAN PHẢN BIỆN: Hoạt động này có tổng thời lượng khớp với kế hoạch gốc (</span><span style=\"color: #808000; text-decoration-color: #808000; font-weight: bold\">35</span><span style=\"color: #808000; text-decoration-color: #808000; font-weight: bold\"> phút). Tuy nhiên, với mục tiêu </span>\n",
       "<span style=\"color: #808000; text-decoration-color: #808000; font-weight: bold\">\"Khám phá và Xây dựng kiến thức mới\"</span><span style=\"color: #808000; text-decoration-color: #808000; font-weight: bold\">, thời gian </span><span style=\"color: #808000; text-decoration-color: #808000; font-weight: bold\">20</span><span style=\"color: #808000; text-decoration-color: #808000; font-weight: bold\"> phút cho hoạt động khám phá nhóm và đặc biệt là </span><span style=\"color: #808000; text-decoration-color: #808000; font-weight: bold\">4</span><span style=\"color: #808000; text-decoration-color: #808000; font-weight: bold\"> phút để giáo </span>\n",
       "<span style=\"color: #808000; text-decoration-color: #808000; font-weight: bold\">viên tổng hợp, chốt kiến thức cốt lõi, làm rõ các khái niệm và chỉnh sửa hiểu lầm là quá ngắn. Điều này có thể </span>\n",
       "<span style=\"color: #808000; text-decoration-color: #808000; font-weight: bold\">khiến hoạt động trở nên vội vã, học sinh khó có thể khám phá sâu và giáo viên không đủ thời gian để củng cố kiến </span>\n",
       "<span style=\"color: #808000; text-decoration-color: #808000; font-weight: bold\">thức một cách hiệu quả, dẫn đến sự hiểu biết chưa vững chắc. Hoạt động này quá tham vọng so với thời lượng cho phép</span>\n",
       "<span style=\"color: #808000; text-decoration-color: #808000; font-weight: bold\">để đạt được mục tiêu học tập sâu sắc. Hãy thiết kế lại một phiên bản đơn giản hơn để khớp với thời gian </span><span style=\"color: #808000; text-decoration-color: #808000; font-weight: bold\">35</span><span style=\"color: #808000; text-decoration-color: #808000; font-weight: bold\"> phút đã </span>\n",
       "<span style=\"color: #808000; text-decoration-color: #808000; font-weight: bold\">cho.</span>\n",
       "</pre>\n"
      ],
      "text/plain": [
       "\u001b[1;33m⚠️  GUARDIAN PHẢN BIỆN: Hoạt động này có tổng thời lượng khớp với kế hoạch gốc \u001b[0m\u001b[1;33m(\u001b[0m\u001b[1;33m35\u001b[0m\u001b[1;33m phút\u001b[0m\u001b[1;33m)\u001b[0m\u001b[1;33m. Tuy nhiên, với mục tiêu \u001b[0m\n",
       "\u001b[1;33m\"Khám phá và Xây dựng kiến thức mới\"\u001b[0m\u001b[1;33m, thời gian \u001b[0m\u001b[1;33m20\u001b[0m\u001b[1;33m phút cho hoạt động khám phá nhóm và đặc biệt là \u001b[0m\u001b[1;33m4\u001b[0m\u001b[1;33m phút để giáo \u001b[0m\n",
       "\u001b[1;33mviên tổng hợp, chốt kiến thức cốt lõi, làm rõ các khái niệm và chỉnh sửa hiểu lầm là quá ngắn. Điều này có thể \u001b[0m\n",
       "\u001b[1;33mkhiến hoạt động trở nên vội vã, học sinh khó có thể khám phá sâu và giáo viên không đủ thời gian để củng cố kiến \u001b[0m\n",
       "\u001b[1;33mthức một cách hiệu quả, dẫn đến sự hiểu biết chưa vững chắc. Hoạt động này quá tham vọng so với thời lượng cho phép\u001b[0m\n",
       "\u001b[1;33mđể đạt được mục tiêu học tập sâu sắc. Hãy thiết kế lại một phiên bản đơn giản hơn để khớp với thời gian \u001b[0m\u001b[1;33m35\u001b[0m\u001b[1;33m phút đã \u001b[0m\n",
       "\u001b[1;33mcho.\u001b[0m\n"
      ]
     },
     "metadata": {},
     "output_type": "display_data"
    },
    {
     "data": {
      "text/html": [
       "<pre style=\"white-space:pre;overflow-x:auto;line-height:normal;font-family:Menlo,'DejaVu Sans Mono',consolas,'Courier New',monospace\">\n",
       "<span style=\"color: #808000; text-decoration-color: #808000; font-weight: bold\">------- Hoàn thành bước: content_validator -------</span>\n",
       "</pre>\n"
      ],
      "text/plain": [
       "\n",
       "\u001b[1;33m------- Hoàn thành bước: content_validator -------\u001b[0m\n"
      ]
     },
     "metadata": {},
     "output_type": "display_data"
    },
    {
     "data": {
      "text/html": [
       "<pre style=\"white-space:pre;overflow-x:auto;line-height:normal;font-family:Menlo,'DejaVu Sans Mono',consolas,'Courier New',monospace\">\n",
       "<span style=\"color: #008080; text-decoration-color: #008080; font-weight: bold\">&gt;</span> `Agent: Task Dispatcher` đang giao việc<span style=\"color: #808000; text-decoration-color: #808000\">...</span>\n",
       "</pre>\n"
      ],
      "text/plain": [
       "\n",
       "\u001b[1;36m>\u001b[0m `Agent: Task Dispatcher` đang giao việc\u001b[33m...\u001b[0m\n"
      ]
     },
     "metadata": {},
     "output_type": "display_data"
    },
    {
     "data": {
      "text/html": [
       "<pre style=\"white-space:pre;overflow-x:auto;line-height:normal;font-family:Menlo,'DejaVu Sans Mono',consolas,'Courier New',monospace\">\n",
       "<span style=\"color: #008080; text-decoration-color: #008080; font-weight: bold\">&gt;</span> --- 🚚 `Dispatcher`: Giao nhiệm vụ cho `assessment_creator`.\n",
       "</pre>\n"
      ],
      "text/plain": [
       "\n",
       "\u001b[1;36m>\u001b[0m --- 🚚 `Dispatcher`: Giao nhiệm vụ cho `assessment_creator`.\n"
      ]
     },
     "metadata": {},
     "output_type": "display_data"
    },
    {
     "data": {
      "text/html": [
       "<pre style=\"white-space:pre;overflow-x:auto;line-height:normal;font-family:Menlo,'DejaVu Sans Mono',consolas,'Courier New',monospace\">\n",
       "<span style=\"color: #808000; text-decoration-color: #808000; font-weight: bold\">------- Hoàn thành bước: task_dispatcher -------</span>\n",
       "</pre>\n"
      ],
      "text/plain": [
       "\n",
       "\u001b[1;33m------- Hoàn thành bước: task_dispatcher -------\u001b[0m\n"
      ]
     },
     "metadata": {},
     "output_type": "display_data"
    },
    {
     "data": {
      "text/html": [
       "<pre style=\"white-space:pre;overflow-x:auto;line-height:normal;font-family:Menlo,'DejaVu Sans Mono',consolas,'Courier New',monospace\">\n",
       "<span style=\"color: #008080; text-decoration-color: #008080; font-weight: bold\">&gt;</span> `Agent: Assessment Creator` <span style=\"font-weight: bold\">(</span>v12.<span style=\"color: #008080; text-decoration-color: #008080; font-weight: bold\">0</span><span style=\"font-weight: bold\">)</span> đang tạo nội dung theo kỷ luật<span style=\"color: #808000; text-decoration-color: #808000\">...</span>\n",
       "</pre>\n"
      ],
      "text/plain": [
       "\n",
       "\u001b[1;36m>\u001b[0m `Agent: Assessment Creator` \u001b[1m(\u001b[0mv12.\u001b[1;36m0\u001b[0m\u001b[1m)\u001b[0m đang tạo nội dung theo kỷ luật\u001b[33m...\u001b[0m\n"
      ]
     },
     "metadata": {},
     "output_type": "display_data"
    },
    {
     "data": {
      "text/html": [
       "<pre style=\"white-space:pre;overflow-x:auto;line-height:normal;font-family:Menlo,'DejaVu Sans Mono',consolas,'Courier New',monospace\"><span style=\"color: #008000; text-decoration-color: #008000; font-weight: bold\">✔️ Nội dung do Assessment Creator tạo ra:</span>\n",
       "</pre>\n"
      ],
      "text/plain": [
       "\u001b[1;32m✔️ Nội dung do Assessment Creator tạo ra:\u001b[0m\n"
      ]
     },
     "metadata": {},
     "output_type": "display_data"
    },
    {
     "data": {
      "text/html": [
       "<pre style=\"white-space:pre;overflow-x:auto;line-height:normal;font-family:Menlo,'DejaVu Sans Mono',consolas,'Courier New',monospace\"><span style=\"font-weight: bold\">{</span>\n",
       "<span style=\"color: #7fbf7f; text-decoration-color: #7fbf7f\">│   </span><span style=\"color: #008000; text-decoration-color: #008000\">'activity_name'</span>: <span style=\"color: #008000; text-decoration-color: #008000\">'Khám phá và Xây dựng kiến thức mới về Chuỗi thức ăn'</span>,\n",
       "<span style=\"color: #7fbf7f; text-decoration-color: #7fbf7f\">│   </span><span style=\"color: #008000; text-decoration-color: #008000\">'duration_minutes'</span>: <span style=\"color: #008080; text-decoration-color: #008080; font-weight: bold\">35</span>,\n",
       "<span style=\"color: #7fbf7f; text-decoration-color: #7fbf7f\">│   </span><span style=\"color: #008000; text-decoration-color: #008000\">'teacher_actions'</span>: <span style=\"font-weight: bold\">[</span>\n",
       "<span style=\"color: #7fbf7f; text-decoration-color: #7fbf7f\">│   │   </span><span style=\"color: #008000; text-decoration-color: #008000\">'Giới thiệu mục tiêu bài học: \"Hôm nay chúng ta sẽ cùng khám phá cách các sinh vật trong tự nhiên liên hệ với nhau qua chuỗi thức ăn.\" (2 phút)'</span>,\n",
       "<span style=\"color: #7fbf7f; text-decoration-color: #7fbf7f\">│   │   </span><span style=\"color: #008000; text-decoration-color: #008000\">'Phát phiếu bài tập/tài liệu có danh sách các sinh vật và hướng dẫn. (1 phút)'</span>,\n",
       "<span style=\"color: #7fbf7f; text-decoration-color: #7fbf7f\">│   │   </span><span style=\"color: #008000; text-decoration-color: #008000\">'Hướng dẫn học sinh làm việc cá nhân hoặc theo cặp (nếu có thể sắp xếp nhanh), nhấn mạnh thời gian làm bài. (2 phút)'</span>,\n",
       "<span style=\"color: #7fbf7f; text-decoration-color: #7fbf7f\">│   │   </span><span style=\"color: #008000; text-decoration-color: #008000\">'Quan sát, hỗ trợ, gợi ý khi học sinh làm bài, không đưa ra đáp án trực tiếp. (20 phút)'</span>,\n",
       "<span style=\"color: #7fbf7f; text-decoration-color: #7fbf7f\">│   │   </span><span style=\"color: #008000; text-decoration-color: #008000\">'Mời 2-3 nhóm/cá nhân trình bày nhanh kết quả. (5 phút)'</span>,\n",
       "<span style=\"color: #7fbf7f; text-decoration-color: #7fbf7f\">│   │   </span><span style=\"color: #008000; text-decoration-color: #008000\">'Tổng hợp, chốt kiến thức cốt lõi về khái niệm chuỗi thức ăn, sinh vật sản xuất, sinh vật tiêu thụ (bậc 1, 2, 3), và tầm quan trọng của chuỗi thức ăn trong hệ sinh thái. Sửa chữa các hiểu lầm. (5 phút)'</span>\n",
       "<span style=\"color: #7fbf7f; text-decoration-color: #7fbf7f\">│   </span><span style=\"font-weight: bold\">]</span>,\n",
       "<span style=\"color: #7fbf7f; text-decoration-color: #7fbf7f\">│   </span><span style=\"color: #008000; text-decoration-color: #008000\">'core_component'</span>: <span style=\"color: #008000; text-decoration-color: #008000\">'Dựa vào danh sách các sinh vật sau: Cỏ, Thỏ, Cáo, Đại bàng, Rắn, Chuột, Hạt ngô, Gà. 1. Hãy vẽ hoặc viết ra 3 chuỗi thức ăn khác nhau mà em có thể tạo ra từ các sinh vật trên. 2. Trong mỗi chuỗi thức ăn, hãy xác định đâu là sinh vật sản xuất, sinh vật tiêu thụ bậc 1, bậc 2, bậc 3 (nếu có).'</span>,\n",
       "<span style=\"color: #7fbf7f; text-decoration-color: #7fbf7f\">│   </span><span style=\"color: #008000; text-decoration-color: #008000\">'extension_component'</span>: <span style=\"color: #008000; text-decoration-color: #008000\">\"Nếu số lượng Thỏ giảm đột ngột, điều gì có thể xảy ra với số lượng Cáo và Cỏ trong chuỗi thức ăn 'Cỏ -&gt; Thỏ -&gt; Cáo'? Giải thích ngắn gọn.\"</span>,\n",
       "<span style=\"color: #7fbf7f; text-decoration-color: #7fbf7f\">│   </span><span style=\"color: #008000; text-decoration-color: #008000\">'answer'</span>: <span style=\"color: #008000; text-decoration-color: #008000\">'Các chuỗi thức ăn có thể bao gồm: 1. Cỏ -&gt; Thỏ -&gt; Cáo; 2. Hạt ngô -&gt; Gà -&gt; Cáo; 3. Cỏ -&gt; Chuột -&gt; Rắn -&gt; Đại bàng. Trong đó: Sinh vật sản xuất: Cỏ, Hạt ngô. Sinh vật tiêu thụ bậc 1: Thỏ, Chuột, Gà. Sinh vật tiêu thụ bậc 2: Cáo, Rắn. Sinh vật tiêu thụ bậc 3: Đại bàng.'</span>,\n",
       "<span style=\"color: #7fbf7f; text-decoration-color: #7fbf7f\">│   </span><span style=\"color: #008000; text-decoration-color: #008000\">'solution_guide'</span>: <span style=\"color: #008000; text-decoration-color: #008000\">'Nếu số lượng Thỏ giảm đột ngột: Số lượng Cáo có thể giảm do thiếu nguồn thức ăn chính. Số lượng Cỏ có thể tăng lên do ít bị Thỏ ăn hơn.'</span>,\n",
       "<span style=\"color: #7fbf7f; text-decoration-color: #7fbf7f\">│   </span><span style=\"color: #008000; text-decoration-color: #008000\">'differentiation'</span>: <span style=\"font-weight: bold\">{</span>\n",
       "<span style=\"color: #7fbf7f; text-decoration-color: #7fbf7f\">│   │   </span><span style=\"color: #008000; text-decoration-color: #008000\">'for_struggling_students'</span>: <span style=\"color: #008000; text-decoration-color: #008000\">'Cung cấp một ví dụ chuỗi thức ăn mẫu đã hoàn chỉnh. Giảm số lượng chuỗi thức ăn cần tạo (ví dụ: chỉ cần 1 hoặc 2). Cung cấp gợi ý về mối quan hệ ăn-bị ăn (ví dụ: \"Cỏ bị Thỏ ăn\"). Cho phép làm việc theo cặp cố định với học sinh khá hơn.'</span>,\n",
       "<span style=\"color: #7fbf7f; text-decoration-color: #7fbf7f\">│   │   </span><span style=\"color: #008000; text-decoration-color: #008000\">'for_advanced_students'</span>: <span style=\"color: #008000; text-decoration-color: #008000\">'Yêu cầu tạo thêm chuỗi thức ăn phức tạp hơn hoặc mạng lưới thức ăn nhỏ. Yêu cầu giải thích vai trò của sinh vật phân giải trong hệ sinh thái. Đặt câu hỏi mở rộng về tác động của con người đến chuỗi thức ăn.'</span>\n",
       "<span style=\"color: #7fbf7f; text-decoration-color: #7fbf7f\">│   </span><span style=\"font-weight: bold\">}</span>,\n",
       "<span style=\"color: #7fbf7f; text-decoration-color: #7fbf7f\">│   </span><span style=\"color: #008000; text-decoration-color: #008000\">'content_type'</span>: <span style=\"color: #008000; text-decoration-color: #008000\">'Tự luận'</span>\n",
       "<span style=\"font-weight: bold\">}</span>\n",
       "</pre>\n"
      ],
      "text/plain": [
       "\u001b[1m{\u001b[0m\n",
       "\u001b[2;32m│   \u001b[0m\u001b[32m'activity_name'\u001b[0m: \u001b[32m'Khám phá và Xây dựng kiến thức mới về Chuỗi thức ăn'\u001b[0m,\n",
       "\u001b[2;32m│   \u001b[0m\u001b[32m'duration_minutes'\u001b[0m: \u001b[1;36m35\u001b[0m,\n",
       "\u001b[2;32m│   \u001b[0m\u001b[32m'teacher_actions'\u001b[0m: \u001b[1m[\u001b[0m\n",
       "\u001b[2;32m│   │   \u001b[0m\u001b[32m'Giới thiệu mục tiêu bài học: \"Hôm nay chúng ta sẽ cùng khám phá cách các sinh vật trong tự nhiên liên hệ với nhau qua chuỗi thức ăn.\" \u001b[0m\u001b[32m(\u001b[0m\u001b[32m2 phút\u001b[0m\u001b[32m)\u001b[0m\u001b[32m'\u001b[0m,\n",
       "\u001b[2;32m│   │   \u001b[0m\u001b[32m'Phát phiếu bài tập/tài liệu có danh sách các sinh vật và hướng dẫn. \u001b[0m\u001b[32m(\u001b[0m\u001b[32m1 phút\u001b[0m\u001b[32m)\u001b[0m\u001b[32m'\u001b[0m,\n",
       "\u001b[2;32m│   │   \u001b[0m\u001b[32m'Hướng dẫn học sinh làm việc cá nhân hoặc theo cặp \u001b[0m\u001b[32m(\u001b[0m\u001b[32mnếu có thể sắp xếp nhanh\u001b[0m\u001b[32m)\u001b[0m\u001b[32m, nhấn mạnh thời gian làm bài. \u001b[0m\u001b[32m(\u001b[0m\u001b[32m2 phút\u001b[0m\u001b[32m)\u001b[0m\u001b[32m'\u001b[0m,\n",
       "\u001b[2;32m│   │   \u001b[0m\u001b[32m'Quan sát, hỗ trợ, gợi ý khi học sinh làm bài, không đưa ra đáp án trực tiếp. \u001b[0m\u001b[32m(\u001b[0m\u001b[32m20 phút\u001b[0m\u001b[32m)\u001b[0m\u001b[32m'\u001b[0m,\n",
       "\u001b[2;32m│   │   \u001b[0m\u001b[32m'Mời 2-3 nhóm/cá nhân trình bày nhanh kết quả. \u001b[0m\u001b[32m(\u001b[0m\u001b[32m5 phút\u001b[0m\u001b[32m)\u001b[0m\u001b[32m'\u001b[0m,\n",
       "\u001b[2;32m│   │   \u001b[0m\u001b[32m'Tổng hợp, chốt kiến thức cốt lõi về khái niệm chuỗi thức ăn, sinh vật sản xuất, sinh vật tiêu thụ \u001b[0m\u001b[32m(\u001b[0m\u001b[32mbậc 1, 2, 3\u001b[0m\u001b[32m)\u001b[0m\u001b[32m, và tầm quan trọng của chuỗi thức ăn trong hệ sinh thái. Sửa chữa các hiểu lầm. \u001b[0m\u001b[32m(\u001b[0m\u001b[32m5 phút\u001b[0m\u001b[32m)\u001b[0m\u001b[32m'\u001b[0m\n",
       "\u001b[2;32m│   \u001b[0m\u001b[1m]\u001b[0m,\n",
       "\u001b[2;32m│   \u001b[0m\u001b[32m'core_component'\u001b[0m: \u001b[32m'Dựa vào danh sách các sinh vật sau: Cỏ, Thỏ, Cáo, Đại bàng, Rắn, Chuột, Hạt ngô, Gà. 1. Hãy vẽ hoặc viết ra 3 chuỗi thức ăn khác nhau mà em có thể tạo ra từ các sinh vật trên. 2. Trong mỗi chuỗi thức ăn, hãy xác định đâu là sinh vật sản xuất, sinh vật tiêu thụ bậc 1, bậc 2, bậc 3 \u001b[0m\u001b[32m(\u001b[0m\u001b[32mnếu có\u001b[0m\u001b[32m)\u001b[0m\u001b[32m.'\u001b[0m,\n",
       "\u001b[2;32m│   \u001b[0m\u001b[32m'extension_component'\u001b[0m: \u001b[32m\"Nếu số lượng Thỏ giảm đột ngột, điều gì có thể xảy ra với số lượng Cáo và Cỏ trong chuỗi thức ăn 'Cỏ -> Thỏ -> Cáo'? Giải thích ngắn gọn.\"\u001b[0m,\n",
       "\u001b[2;32m│   \u001b[0m\u001b[32m'answer'\u001b[0m: \u001b[32m'Các chuỗi thức ăn có thể bao gồm: 1. Cỏ -> Thỏ -> Cáo; 2. Hạt ngô -> Gà -> Cáo; 3. Cỏ -> Chuột -> Rắn -> Đại bàng. Trong đó: Sinh vật sản xuất: Cỏ, Hạt ngô. Sinh vật tiêu thụ bậc 1: Thỏ, Chuột, Gà. Sinh vật tiêu thụ bậc 2: Cáo, Rắn. Sinh vật tiêu thụ bậc 3: Đại bàng.'\u001b[0m,\n",
       "\u001b[2;32m│   \u001b[0m\u001b[32m'solution_guide'\u001b[0m: \u001b[32m'Nếu số lượng Thỏ giảm đột ngột: Số lượng Cáo có thể giảm do thiếu nguồn thức ăn chính. Số lượng Cỏ có thể tăng lên do ít bị Thỏ ăn hơn.'\u001b[0m,\n",
       "\u001b[2;32m│   \u001b[0m\u001b[32m'differentiation'\u001b[0m: \u001b[1m{\u001b[0m\n",
       "\u001b[2;32m│   │   \u001b[0m\u001b[32m'for_struggling_students'\u001b[0m: \u001b[32m'Cung cấp một ví dụ chuỗi thức ăn mẫu đã hoàn chỉnh. Giảm số lượng chuỗi thức ăn cần tạo \u001b[0m\u001b[32m(\u001b[0m\u001b[32mví dụ: chỉ cần 1 hoặc 2\u001b[0m\u001b[32m)\u001b[0m\u001b[32m. Cung cấp gợi ý về mối quan hệ ăn-bị ăn \u001b[0m\u001b[32m(\u001b[0m\u001b[32mví dụ: \"Cỏ bị Thỏ ăn\"\u001b[0m\u001b[32m)\u001b[0m\u001b[32m. Cho phép làm việc theo cặp cố định với học sinh khá hơn.'\u001b[0m,\n",
       "\u001b[2;32m│   │   \u001b[0m\u001b[32m'for_advanced_students'\u001b[0m: \u001b[32m'Yêu cầu tạo thêm chuỗi thức ăn phức tạp hơn hoặc mạng lưới thức ăn nhỏ. Yêu cầu giải thích vai trò của sinh vật phân giải trong hệ sinh thái. Đặt câu hỏi mở rộng về tác động của con người đến chuỗi thức ăn.'\u001b[0m\n",
       "\u001b[2;32m│   \u001b[0m\u001b[1m}\u001b[0m,\n",
       "\u001b[2;32m│   \u001b[0m\u001b[32m'content_type'\u001b[0m: \u001b[32m'Tự luận'\u001b[0m\n",
       "\u001b[1m}\u001b[0m\n"
      ]
     },
     "metadata": {},
     "output_type": "display_data"
    },
    {
     "data": {
      "text/html": [
       "<pre style=\"white-space:pre;overflow-x:auto;line-height:normal;font-family:Menlo,'DejaVu Sans Mono',consolas,'Courier New',monospace\">\n",
       "<span style=\"color: #808000; text-decoration-color: #808000; font-weight: bold\">------- Hoàn thành bước: assessment_creator -------</span>\n",
       "</pre>\n"
      ],
      "text/plain": [
       "\n",
       "\u001b[1;33m------- Hoàn thành bước: assessment_creator -------\u001b[0m\n"
      ]
     },
     "metadata": {},
     "output_type": "display_data"
    },
    {
     "data": {
      "text/html": [
       "<pre style=\"white-space:pre;overflow-x:auto;line-height:normal;font-family:Menlo,'DejaVu Sans Mono',consolas,'Courier New',monospace\">\n",
       "<span style=\"color: #008080; text-decoration-color: #008080; font-weight: bold\">&gt;</span> `Agent: Guardian Critic` <span style=\"font-weight: bold\">(</span>v12.<span style=\"color: #008080; text-decoration-color: #008080; font-weight: bold\">0</span><span style=\"font-weight: bold\">)</span> đang bảo vệ kế hoạch<span style=\"color: #808000; text-decoration-color: #808000\">...</span>\n",
       "</pre>\n"
      ],
      "text/plain": [
       "\n",
       "\u001b[1;36m>\u001b[0m `Agent: Guardian Critic` \u001b[1m(\u001b[0mv12.\u001b[1;36m0\u001b[0m\u001b[1m)\u001b[0m đang bảo vệ kế hoạch\u001b[33m...\u001b[0m\n"
      ]
     },
     "metadata": {},
     "output_type": "display_data"
    },
    {
     "data": {
      "text/html": [
       "<pre style=\"white-space:pre;overflow-x:auto;line-height:normal;font-family:Menlo,'DejaVu Sans Mono',consolas,'Courier New',monospace\"><span style=\"color: #808000; text-decoration-color: #808000; font-weight: bold\">⚠️  GUARDIAN PHẢN BIỆN: Nội dung bài học về chuỗi thức ăn rất chính xác và phù hợp với mục tiêu. Tuy nhiên, về mặt </span>\n",
       "<span style=\"color: #808000; text-decoration-color: #808000; font-weight: bold\">khả thi trong khung thời gian </span><span style=\"color: #808000; text-decoration-color: #808000; font-weight: bold\">35</span><span style=\"color: #808000; text-decoration-color: #808000; font-weight: bold\"> phút, hoạt động này có vẻ hơi tham vọng. Cụ thể, </span><span style=\"color: #808000; text-decoration-color: #808000; font-weight: bold\">20</span><span style=\"color: #808000; text-decoration-color: #808000; font-weight: bold\"> phút dành cho học sinh tự khám</span>\n",
       "<span style=\"color: #808000; text-decoration-color: #808000; font-weight: bold\">phá, xây dựng </span><span style=\"color: #808000; text-decoration-color: #808000; font-weight: bold\">3</span><span style=\"color: #808000; text-decoration-color: #808000; font-weight: bold\"> chuỗi thức ăn và xác định các bậc dinh dưỡng cho từng chuỗi là khá gấp gáp, đặc biệt nếu học sinh </span>\n",
       "<span style=\"color: #808000; text-decoration-color: #808000; font-weight: bold\">cần vẽ hoặc đây là kiến thức mới mẻ đối với các em. Điều này có thể khiến học sinh làm việc vội vàng, không đủ thời</span>\n",
       "<span style=\"color: #808000; text-decoration-color: #808000; font-weight: bold\">gian tư duy sâu hoặc hoàn thành đầy đủ yêu cầu, ảnh hưởng đến chất lượng xây dựng kiến thức. Để đảm bảo hiệu quả </span>\n",
       "<span style=\"color: #808000; text-decoration-color: #808000; font-weight: bold\">học tập tốt nhất trong </span><span style=\"color: #808000; text-decoration-color: #808000; font-weight: bold\">35</span><span style=\"color: #808000; text-decoration-color: #808000; font-weight: bold\"> phút, cần điều chỉnh lại mức độ phức tạp của nhiệm vụ. Hãy thiết kế lại một phiên bản đơn</span>\n",
       "<span style=\"color: #808000; text-decoration-color: #808000; font-weight: bold\">giản hơn để khớp với thời gian </span><span style=\"color: #808000; text-decoration-color: #808000; font-weight: bold\">35</span><span style=\"color: #808000; text-decoration-color: #808000; font-weight: bold\"> phút đã cho.</span>\n",
       "</pre>\n"
      ],
      "text/plain": [
       "\u001b[1;33m⚠️  GUARDIAN PHẢN BIỆN: Nội dung bài học về chuỗi thức ăn rất chính xác và phù hợp với mục tiêu. Tuy nhiên, về mặt \u001b[0m\n",
       "\u001b[1;33mkhả thi trong khung thời gian \u001b[0m\u001b[1;33m35\u001b[0m\u001b[1;33m phút, hoạt động này có vẻ hơi tham vọng. Cụ thể, \u001b[0m\u001b[1;33m20\u001b[0m\u001b[1;33m phút dành cho học sinh tự khám\u001b[0m\n",
       "\u001b[1;33mphá, xây dựng \u001b[0m\u001b[1;33m3\u001b[0m\u001b[1;33m chuỗi thức ăn và xác định các bậc dinh dưỡng cho từng chuỗi là khá gấp gáp, đặc biệt nếu học sinh \u001b[0m\n",
       "\u001b[1;33mcần vẽ hoặc đây là kiến thức mới mẻ đối với các em. Điều này có thể khiến học sinh làm việc vội vàng, không đủ thời\u001b[0m\n",
       "\u001b[1;33mgian tư duy sâu hoặc hoàn thành đầy đủ yêu cầu, ảnh hưởng đến chất lượng xây dựng kiến thức. Để đảm bảo hiệu quả \u001b[0m\n",
       "\u001b[1;33mhọc tập tốt nhất trong \u001b[0m\u001b[1;33m35\u001b[0m\u001b[1;33m phút, cần điều chỉnh lại mức độ phức tạp của nhiệm vụ. Hãy thiết kế lại một phiên bản đơn\u001b[0m\n",
       "\u001b[1;33mgiản hơn để khớp với thời gian \u001b[0m\u001b[1;33m35\u001b[0m\u001b[1;33m phút đã cho.\u001b[0m\n"
      ]
     },
     "metadata": {},
     "output_type": "display_data"
    },
    {
     "data": {
      "text/html": [
       "<pre style=\"white-space:pre;overflow-x:auto;line-height:normal;font-family:Menlo,'DejaVu Sans Mono',consolas,'Courier New',monospace\">\n",
       "<span style=\"color: #808000; text-decoration-color: #808000; font-weight: bold\">------- Hoàn thành bước: content_validator -------</span>\n",
       "</pre>\n"
      ],
      "text/plain": [
       "\n",
       "\u001b[1;33m------- Hoàn thành bước: content_validator -------\u001b[0m\n"
      ]
     },
     "metadata": {},
     "output_type": "display_data"
    },
    {
     "data": {
      "text/html": [
       "<pre style=\"white-space:pre;overflow-x:auto;line-height:normal;font-family:Menlo,'DejaVu Sans Mono',consolas,'Courier New',monospace\">\n",
       "<span style=\"color: #008080; text-decoration-color: #008080; font-weight: bold\">&gt;</span> `Agent: Task Dispatcher` đang giao việc<span style=\"color: #808000; text-decoration-color: #808000\">...</span>\n",
       "</pre>\n"
      ],
      "text/plain": [
       "\n",
       "\u001b[1;36m>\u001b[0m `Agent: Task Dispatcher` đang giao việc\u001b[33m...\u001b[0m\n"
      ]
     },
     "metadata": {},
     "output_type": "display_data"
    },
    {
     "data": {
      "text/html": [
       "<pre style=\"white-space:pre;overflow-x:auto;line-height:normal;font-family:Menlo,'DejaVu Sans Mono',consolas,'Courier New',monospace\">\n",
       "<span style=\"color: #008080; text-decoration-color: #008080; font-weight: bold\">&gt;</span> --- 🚚 `Dispatcher`: Giao nhiệm vụ cho `theory_synthesizer`.\n",
       "</pre>\n"
      ],
      "text/plain": [
       "\n",
       "\u001b[1;36m>\u001b[0m --- 🚚 `Dispatcher`: Giao nhiệm vụ cho `theory_synthesizer`.\n"
      ]
     },
     "metadata": {},
     "output_type": "display_data"
    },
    {
     "data": {
      "text/html": [
       "<pre style=\"white-space:pre;overflow-x:auto;line-height:normal;font-family:Menlo,'DejaVu Sans Mono',consolas,'Courier New',monospace\">\n",
       "<span style=\"color: #808000; text-decoration-color: #808000; font-weight: bold\">------- Hoàn thành bước: task_dispatcher -------</span>\n",
       "</pre>\n"
      ],
      "text/plain": [
       "\n",
       "\u001b[1;33m------- Hoàn thành bước: task_dispatcher -------\u001b[0m\n"
      ]
     },
     "metadata": {},
     "output_type": "display_data"
    },
    {
     "data": {
      "text/html": [
       "<pre style=\"white-space:pre;overflow-x:auto;line-height:normal;font-family:Menlo,'DejaVu Sans Mono',consolas,'Courier New',monospace\">\n",
       "<span style=\"color: #008080; text-decoration-color: #008080; font-weight: bold\">&gt;</span> `Agent: Theory Synthesizer` <span style=\"font-weight: bold\">(</span>v12.<span style=\"color: #008080; text-decoration-color: #008080; font-weight: bold\">0</span><span style=\"font-weight: bold\">)</span> đang tạo nội dung theo kỷ luật<span style=\"color: #808000; text-decoration-color: #808000\">...</span>\n",
       "</pre>\n"
      ],
      "text/plain": [
       "\n",
       "\u001b[1;36m>\u001b[0m `Agent: Theory Synthesizer` \u001b[1m(\u001b[0mv12.\u001b[1;36m0\u001b[0m\u001b[1m)\u001b[0m đang tạo nội dung theo kỷ luật\u001b[33m...\u001b[0m\n"
      ]
     },
     "metadata": {},
     "output_type": "display_data"
    },
    {
     "data": {
      "text/html": [
       "<pre style=\"white-space:pre;overflow-x:auto;line-height:normal;font-family:Menlo,'DejaVu Sans Mono',consolas,'Courier New',monospace\"><span style=\"color: #008000; text-decoration-color: #008000; font-weight: bold\">✔️ Nội dung do Theory Synthesizer tạo ra:</span>\n",
       "</pre>\n"
      ],
      "text/plain": [
       "\u001b[1;32m✔️ Nội dung do Theory Synthesizer tạo ra:\u001b[0m\n"
      ]
     },
     "metadata": {},
     "output_type": "display_data"
    },
    {
     "data": {
      "text/html": [
       "<pre style=\"white-space:pre;overflow-x:auto;line-height:normal;font-family:Menlo,'DejaVu Sans Mono',consolas,'Courier New',monospace\"><span style=\"font-weight: bold\">{</span>\n",
       "<span style=\"color: #7fbf7f; text-decoration-color: #7fbf7f\">│   </span><span style=\"color: #008000; text-decoration-color: #008000\">'activity_name'</span>: <span style=\"color: #008000; text-decoration-color: #008000\">'Khám phá và Xây dựng kiến thức mới về Chuỗi thức ăn'</span>,\n",
       "<span style=\"color: #7fbf7f; text-decoration-color: #7fbf7f\">│   </span><span style=\"color: #008000; text-decoration-color: #008000\">'duration_minutes'</span>: <span style=\"color: #008080; text-decoration-color: #008080; font-weight: bold\">35</span>,\n",
       "<span style=\"color: #7fbf7f; text-decoration-color: #7fbf7f\">│   </span><span style=\"color: #008000; text-decoration-color: #008000\">'teacher_actions'</span>: <span style=\"font-weight: bold\">[</span>\n",
       "<span style=\"color: #7fbf7f; text-decoration-color: #7fbf7f\">│   │   </span><span style=\"color: #008000; text-decoration-color: #008000\">'Giới thiệu khái niệm chuỗi thức ăn và tầm quan trọng của nó trong tự nhiên (5 phút).'</span>,\n",
       "<span style=\"color: #7fbf7f; text-decoration-color: #7fbf7f\">│   │   </span><span style=\"color: #008000; text-decoration-color: #008000\">'Phát các thẻ hình ảnh sinh vật (ví dụ: cỏ, thỏ, cáo, hạt ngô, chuột, rắn, đại bàng, sâu, chim) và phiếu bài tập cho từng nhóm (2 phút).'</span>,\n",
       "<span style=\"color: #7fbf7f; text-decoration-color: #7fbf7f\">│   │   </span><span style=\"color: #008000; text-decoration-color: #008000\">'Hướng dẫn học sinh thảo luận nhóm để xây dựng chuỗi thức ăn và xác định vai trò của từng sinh vật (15 phút).'</span>,\n",
       "<span style=\"color: #7fbf7f; text-decoration-color: #7fbf7f\">│   │   </span><span style=\"color: #008000; text-decoration-color: #008000\">\"Đi vòng quanh các nhóm, quan sát, lắng nghe, gợi ý và hỗ trợ khi cần thiết (ví dụ: đặt câu hỏi 'Con vật này ăn gì?', 'Nó là sinh vật sản xuất hay tiêu thụ?').\"</span>,\n",
       "<span style=\"color: #7fbf7f; text-decoration-color: #7fbf7f\">│   │   </span><span style=\"color: #008000; text-decoration-color: #008000\">'Mời đại diện 1-2 nhóm trình bày sản phẩm và giải thích (8 phút).'</span>,\n",
       "<span style=\"color: #7fbf7f; text-decoration-color: #7fbf7f\">│   │   </span><span style=\"color: #008000; text-decoration-color: #008000\">'Tổng kết, chốt kiến thức về chuỗi thức ăn, sinh vật sản xuất, sinh vật tiêu thụ bậc 1, bậc 2 (5 phút).'</span>\n",
       "<span style=\"color: #7fbf7f; text-decoration-color: #7fbf7f\">│   </span><span style=\"font-weight: bold\">]</span>,\n",
       "<span style=\"color: #7fbf7f; text-decoration-color: #7fbf7f\">│   </span><span style=\"color: #008000; text-decoration-color: #008000\">'core_component'</span>: <span style=\"color: #008000; text-decoration-color: #008000\">'Trong nhóm 3-4 học sinh, sử dụng các thẻ hình ảnh sinh vật được cung cấp để: 1. Xây dựng ít nhất MỘT chuỗi thức ăn đơn giản (gồm 3-4 mắt xích). 2. Xác định sinh vật sản xuất và ít nhất hai sinh vật tiêu thụ (ví dụ: vật ăn thực vật, vật ăn thịt) trong chuỗi thức ăn đó. 3. Vẽ hoặc ghi lại chuỗi thức ăn đã xây dựng vào phiếu bài tập.'</span>,\n",
       "<span style=\"color: #7fbf7f; text-decoration-color: #7fbf7f\">│   </span><span style=\"color: #008000; text-decoration-color: #008000\">'extension_component'</span>: <span style=\"color: #008000; text-decoration-color: #008000\">'Đối với các nhóm hoàn thành sớm: 1. Xây dựng thêm một chuỗi thức ăn khác hoặc một lưới thức ăn đơn giản (nếu có đủ thẻ). 2. Thử thách xác định sinh vật tiêu thụ bậc 3 hoặc vai trò của sinh vật phân giải (nếu đã được giới thiệu sơ bộ). 3. Thảo luận về sự thay đổi của chuỗi thức ăn khi một mắt xích bị mất đi.'</span>,\n",
       "<span style=\"color: #7fbf7f; text-decoration-color: #7fbf7f\">│   </span><span style=\"color: #008000; text-decoration-color: #008000\">'solution_guide'</span>: <span style=\"color: #008000; text-decoration-color: #008000\">'Các chuỗi thức ăn mẫu có thể bao gồm: Cỏ -&gt; Thỏ -&gt; Cáo; Hạt ngô -&gt; Chuột -&gt; Rắn -&gt; Đại bàng. Sinh vật sản xuất là thực vật (cỏ, hạt ngô). Sinh vật tiêu thụ bậc 1 là động vật ăn thực vật (thỏ, chuột). Sinh vật tiêu thụ bậc 2 là động vật ăn thịt hoặc ăn tạp (cáo, rắn). Gợi ý: Luôn bắt đầu chuỗi thức ăn từ sinh vật sản xuất.'</span>,\n",
       "<span style=\"color: #7fbf7f; text-decoration-color: #7fbf7f\">│   </span><span style=\"color: #008000; text-decoration-color: #008000\">'differentiation'</span>: <span style=\"font-weight: bold\">{</span>\n",
       "<span style=\"color: #7fbf7f; text-decoration-color: #7fbf7f\">│   │   </span><span style=\"color: #008000; text-decoration-color: #008000\">'for_struggling_students'</span>: <span style=\"color: #008000; text-decoration-color: #008000\">'Cung cấp các chuỗi thức ăn mẫu đã được sắp xếp một phần hoặc chỉ yêu cầu xây dựng một chuỗi thức ăn rất đơn giản (ví dụ: cỏ -&gt; bò -&gt; người). Giáo viên có thể gợi ý trực tiếp bằng cách đặt câu hỏi dẫn dắt hoặc cung cấp từ khóa về vai trò của sinh vật (sản xuất, tiêu thụ).'</span>,\n",
       "<span style=\"color: #7fbf7f; text-decoration-color: #7fbf7f\">│   │   </span><span style=\"color: #008000; text-decoration-color: #008000\">'for_advanced_students'</span>: <span style=\"color: #008000; text-decoration-color: #008000\">'Yêu cầu học sinh xây dựng các chuỗi thức ăn phức tạp hơn hoặc một lưới thức ăn nhỏ. Thử thách các em giải thích mối quan hệ giữa các chuỗi thức ăn trong một hệ sinh thái cụ thể hoặc dự đoán hậu quả khi một loài bị tuyệt chủng trong chuỗi thức ăn đó.'</span>\n",
       "<span style=\"color: #7fbf7f; text-decoration-color: #7fbf7f\">│   </span><span style=\"font-weight: bold\">}</span>,\n",
       "<span style=\"color: #7fbf7f; text-decoration-color: #7fbf7f\">│   </span><span style=\"color: #008000; text-decoration-color: #008000\">'content_type'</span>: <span style=\"color: #008000; text-decoration-color: #008000\">'Thảo luận nhóm và Thực hành'</span>\n",
       "<span style=\"font-weight: bold\">}</span>\n",
       "</pre>\n"
      ],
      "text/plain": [
       "\u001b[1m{\u001b[0m\n",
       "\u001b[2;32m│   \u001b[0m\u001b[32m'activity_name'\u001b[0m: \u001b[32m'Khám phá và Xây dựng kiến thức mới về Chuỗi thức ăn'\u001b[0m,\n",
       "\u001b[2;32m│   \u001b[0m\u001b[32m'duration_minutes'\u001b[0m: \u001b[1;36m35\u001b[0m,\n",
       "\u001b[2;32m│   \u001b[0m\u001b[32m'teacher_actions'\u001b[0m: \u001b[1m[\u001b[0m\n",
       "\u001b[2;32m│   │   \u001b[0m\u001b[32m'Giới thiệu khái niệm chuỗi thức ăn và tầm quan trọng của nó trong tự nhiên \u001b[0m\u001b[32m(\u001b[0m\u001b[32m5 phút\u001b[0m\u001b[32m)\u001b[0m\u001b[32m.'\u001b[0m,\n",
       "\u001b[2;32m│   │   \u001b[0m\u001b[32m'Phát các thẻ hình ảnh sinh vật \u001b[0m\u001b[32m(\u001b[0m\u001b[32mví dụ: cỏ, thỏ, cáo, hạt ngô, chuột, rắn, đại bàng, sâu, chim\u001b[0m\u001b[32m)\u001b[0m\u001b[32m và phiếu bài tập cho từng nhóm \u001b[0m\u001b[32m(\u001b[0m\u001b[32m2 phút\u001b[0m\u001b[32m)\u001b[0m\u001b[32m.'\u001b[0m,\n",
       "\u001b[2;32m│   │   \u001b[0m\u001b[32m'Hướng dẫn học sinh thảo luận nhóm để xây dựng chuỗi thức ăn và xác định vai trò của từng sinh vật \u001b[0m\u001b[32m(\u001b[0m\u001b[32m15 phút\u001b[0m\u001b[32m)\u001b[0m\u001b[32m.'\u001b[0m,\n",
       "\u001b[2;32m│   │   \u001b[0m\u001b[32m\"Đi vòng quanh các nhóm, quan sát, lắng nghe, gợi ý và hỗ trợ khi cần thiết \u001b[0m\u001b[32m(\u001b[0m\u001b[32mví dụ: đặt câu hỏi 'Con vật này ăn gì?', 'Nó là sinh vật sản xuất hay tiêu thụ?'\u001b[0m\u001b[32m)\u001b[0m\u001b[32m.\"\u001b[0m,\n",
       "\u001b[2;32m│   │   \u001b[0m\u001b[32m'Mời đại diện 1-2 nhóm trình bày sản phẩm và giải thích \u001b[0m\u001b[32m(\u001b[0m\u001b[32m8 phút\u001b[0m\u001b[32m)\u001b[0m\u001b[32m.'\u001b[0m,\n",
       "\u001b[2;32m│   │   \u001b[0m\u001b[32m'Tổng kết, chốt kiến thức về chuỗi thức ăn, sinh vật sản xuất, sinh vật tiêu thụ bậc 1, bậc 2 \u001b[0m\u001b[32m(\u001b[0m\u001b[32m5 phút\u001b[0m\u001b[32m)\u001b[0m\u001b[32m.'\u001b[0m\n",
       "\u001b[2;32m│   \u001b[0m\u001b[1m]\u001b[0m,\n",
       "\u001b[2;32m│   \u001b[0m\u001b[32m'core_component'\u001b[0m: \u001b[32m'Trong nhóm 3-4 học sinh, sử dụng các thẻ hình ảnh sinh vật được cung cấp để: 1. Xây dựng ít nhất MỘT chuỗi thức ăn đơn giản \u001b[0m\u001b[32m(\u001b[0m\u001b[32mgồm 3-4 mắt xích\u001b[0m\u001b[32m)\u001b[0m\u001b[32m. 2. Xác định sinh vật sản xuất và ít nhất hai sinh vật tiêu thụ \u001b[0m\u001b[32m(\u001b[0m\u001b[32mví dụ: vật ăn thực vật, vật ăn thịt\u001b[0m\u001b[32m)\u001b[0m\u001b[32m trong chuỗi thức ăn đó. 3. Vẽ hoặc ghi lại chuỗi thức ăn đã xây dựng vào phiếu bài tập.'\u001b[0m,\n",
       "\u001b[2;32m│   \u001b[0m\u001b[32m'extension_component'\u001b[0m: \u001b[32m'Đối với các nhóm hoàn thành sớm: 1. Xây dựng thêm một chuỗi thức ăn khác hoặc một lưới thức ăn đơn giản \u001b[0m\u001b[32m(\u001b[0m\u001b[32mnếu có đủ thẻ\u001b[0m\u001b[32m)\u001b[0m\u001b[32m. 2. Thử thách xác định sinh vật tiêu thụ bậc 3 hoặc vai trò của sinh vật phân giải \u001b[0m\u001b[32m(\u001b[0m\u001b[32mnếu đã được giới thiệu sơ bộ\u001b[0m\u001b[32m)\u001b[0m\u001b[32m. 3. Thảo luận về sự thay đổi của chuỗi thức ăn khi một mắt xích bị mất đi.'\u001b[0m,\n",
       "\u001b[2;32m│   \u001b[0m\u001b[32m'solution_guide'\u001b[0m: \u001b[32m'Các chuỗi thức ăn mẫu có thể bao gồm: Cỏ -> Thỏ -> Cáo; Hạt ngô -> Chuột -> Rắn -> Đại bàng. Sinh vật sản xuất là thực vật \u001b[0m\u001b[32m(\u001b[0m\u001b[32mcỏ, hạt ngô\u001b[0m\u001b[32m)\u001b[0m\u001b[32m. Sinh vật tiêu thụ bậc 1 là động vật ăn thực vật \u001b[0m\u001b[32m(\u001b[0m\u001b[32mthỏ, chuột\u001b[0m\u001b[32m)\u001b[0m\u001b[32m. Sinh vật tiêu thụ bậc 2 là động vật ăn thịt hoặc ăn tạp \u001b[0m\u001b[32m(\u001b[0m\u001b[32mcáo, rắn\u001b[0m\u001b[32m)\u001b[0m\u001b[32m. Gợi ý: Luôn bắt đầu chuỗi thức ăn từ sinh vật sản xuất.'\u001b[0m,\n",
       "\u001b[2;32m│   \u001b[0m\u001b[32m'differentiation'\u001b[0m: \u001b[1m{\u001b[0m\n",
       "\u001b[2;32m│   │   \u001b[0m\u001b[32m'for_struggling_students'\u001b[0m: \u001b[32m'Cung cấp các chuỗi thức ăn mẫu đã được sắp xếp một phần hoặc chỉ yêu cầu xây dựng một chuỗi thức ăn rất đơn giản \u001b[0m\u001b[32m(\u001b[0m\u001b[32mví dụ: cỏ -> bò -> người\u001b[0m\u001b[32m)\u001b[0m\u001b[32m. Giáo viên có thể gợi ý trực tiếp bằng cách đặt câu hỏi dẫn dắt hoặc cung cấp từ khóa về vai trò của sinh vật \u001b[0m\u001b[32m(\u001b[0m\u001b[32msản xuất, tiêu thụ\u001b[0m\u001b[32m)\u001b[0m\u001b[32m.'\u001b[0m,\n",
       "\u001b[2;32m│   │   \u001b[0m\u001b[32m'for_advanced_students'\u001b[0m: \u001b[32m'Yêu cầu học sinh xây dựng các chuỗi thức ăn phức tạp hơn hoặc một lưới thức ăn nhỏ. Thử thách các em giải thích mối quan hệ giữa các chuỗi thức ăn trong một hệ sinh thái cụ thể hoặc dự đoán hậu quả khi một loài bị tuyệt chủng trong chuỗi thức ăn đó.'\u001b[0m\n",
       "\u001b[2;32m│   \u001b[0m\u001b[1m}\u001b[0m,\n",
       "\u001b[2;32m│   \u001b[0m\u001b[32m'content_type'\u001b[0m: \u001b[32m'Thảo luận nhóm và Thực hành'\u001b[0m\n",
       "\u001b[1m}\u001b[0m\n"
      ]
     },
     "metadata": {},
     "output_type": "display_data"
    },
    {
     "data": {
      "text/html": [
       "<pre style=\"white-space:pre;overflow-x:auto;line-height:normal;font-family:Menlo,'DejaVu Sans Mono',consolas,'Courier New',monospace\">\n",
       "<span style=\"color: #808000; text-decoration-color: #808000; font-weight: bold\">------- Hoàn thành bước: theory_synthesizer -------</span>\n",
       "</pre>\n"
      ],
      "text/plain": [
       "\n",
       "\u001b[1;33m------- Hoàn thành bước: theory_synthesizer -------\u001b[0m\n"
      ]
     },
     "metadata": {},
     "output_type": "display_data"
    },
    {
     "data": {
      "text/html": [
       "<pre style=\"white-space:pre;overflow-x:auto;line-height:normal;font-family:Menlo,'DejaVu Sans Mono',consolas,'Courier New',monospace\">\n",
       "<span style=\"color: #008080; text-decoration-color: #008080; font-weight: bold\">&gt;</span> `Agent: Guardian Critic` <span style=\"font-weight: bold\">(</span>v12.<span style=\"color: #008080; text-decoration-color: #008080; font-weight: bold\">0</span><span style=\"font-weight: bold\">)</span> đang bảo vệ kế hoạch<span style=\"color: #808000; text-decoration-color: #808000\">...</span>\n",
       "</pre>\n"
      ],
      "text/plain": [
       "\n",
       "\u001b[1;36m>\u001b[0m `Agent: Guardian Critic` \u001b[1m(\u001b[0mv12.\u001b[1;36m0\u001b[0m\u001b[1m)\u001b[0m đang bảo vệ kế hoạch\u001b[33m...\u001b[0m\n"
      ]
     },
     "metadata": {},
     "output_type": "display_data"
    },
    {
     "data": {
      "text/html": [
       "<pre style=\"white-space:pre;overflow-x:auto;line-height:normal;font-family:Menlo,'DejaVu Sans Mono',consolas,'Courier New',monospace\"><span style=\"color: #808000; text-decoration-color: #808000; font-weight: bold\">⚠️  GUARDIAN PHẢN BIỆN: Kế hoạch này có tổng thời gian là </span><span style=\"color: #808000; text-decoration-color: #808000; font-weight: bold\">35</span><span style=\"color: #808000; text-decoration-color: #808000; font-weight: bold\"> phút, đúng với kế hoạch gốc. Tuy nhiên, với vai trò là</span>\n",
       "<span style=\"color: #808000; text-decoration-color: #808000; font-weight: bold\">một giáo viên giàu kinh nghiệm, tôi nhận thấy việc phân bổ thời gian cho một số hoạt động còn khá chặt chẽ, đặc </span>\n",
       "<span style=\"color: #808000; text-decoration-color: #808000; font-weight: bold\">biệt là phần thảo luận nhóm xây dựng chuỗi thức ăn (</span><span style=\"color: #808000; text-decoration-color: #808000; font-weight: bold\">15</span><span style=\"color: #808000; text-decoration-color: #808000; font-weight: bold\"> phút) và phần trình bày của các nhóm (</span><span style=\"color: #808000; text-decoration-color: #808000; font-weight: bold\">8</span><span style=\"color: #808000; text-decoration-color: #808000; font-weight: bold\"> phút). </span><span style=\"color: #808000; text-decoration-color: #808000; font-weight: bold\">15</span><span style=\"color: #808000; text-decoration-color: #808000; font-weight: bold\"> phút cho </span>\n",
       "<span style=\"color: #808000; text-decoration-color: #808000; font-weight: bold\">hoạt động nhóm bao gồm thảo luận, xây dựng chuỗi thức ăn, xác định vai trò và ghi chép vào phiếu bài tập là khá gấp</span>\n",
       "<span style=\"color: #808000; text-decoration-color: #808000; font-weight: bold\">gáp, có thể khiến học sinh không đủ thời gian để tư duy sâu hoặc hoàn thành sản phẩm một cách chỉn chu. Tương tự, </span><span style=\"color: #808000; text-decoration-color: #808000; font-weight: bold\">8</span>\n",
       "<span style=\"color: #808000; text-decoration-color: #808000; font-weight: bold\">phút cho </span><span style=\"color: #808000; text-decoration-color: #808000; font-weight: bold\">1</span><span style=\"color: #808000; text-decoration-color: #808000; font-weight: bold\">-</span><span style=\"color: #808000; text-decoration-color: #808000; font-weight: bold\">2</span><span style=\"color: #808000; text-decoration-color: #808000; font-weight: bold\"> nhóm trình bày là rất ít, khó đảm bảo mỗi nhóm có đủ thời gian để giải thích rõ ràng và nhận được phản</span>\n",
       "<span style=\"color: #808000; text-decoration-color: #808000; font-weight: bold\">hồi từ giáo viên hoặc các bạn. Điều này dễ dẫn đến việc hoạt động bị kéo dài hơn dự kiến hoặc phải cắt bớt nội dung</span>\n",
       "<span style=\"color: #808000; text-decoration-color: #808000; font-weight: bold\">quan trọng. Để đảm bảo chất lượng và tính khả thi trong </span><span style=\"color: #808000; text-decoration-color: #808000; font-weight: bold\">35</span><span style=\"color: #808000; text-decoration-color: #808000; font-weight: bold\"> phút, cần có sự điều chỉnh. Hãy thiết kế lại một phiên </span>\n",
       "<span style=\"color: #808000; text-decoration-color: #808000; font-weight: bold\">bản đơn giản hơn để khớp với thời gian </span><span style=\"color: #808000; text-decoration-color: #808000; font-weight: bold\">35</span><span style=\"color: #808000; text-decoration-color: #808000; font-weight: bold\"> phút đã cho.</span>\n",
       "</pre>\n"
      ],
      "text/plain": [
       "\u001b[1;33m⚠️  GUARDIAN PHẢN BIỆN: Kế hoạch này có tổng thời gian là \u001b[0m\u001b[1;33m35\u001b[0m\u001b[1;33m phút, đúng với kế hoạch gốc. Tuy nhiên, với vai trò là\u001b[0m\n",
       "\u001b[1;33mmột giáo viên giàu kinh nghiệm, tôi nhận thấy việc phân bổ thời gian cho một số hoạt động còn khá chặt chẽ, đặc \u001b[0m\n",
       "\u001b[1;33mbiệt là phần thảo luận nhóm xây dựng chuỗi thức ăn \u001b[0m\u001b[1;33m(\u001b[0m\u001b[1;33m15\u001b[0m\u001b[1;33m phút\u001b[0m\u001b[1;33m)\u001b[0m\u001b[1;33m và phần trình bày của các nhóm \u001b[0m\u001b[1;33m(\u001b[0m\u001b[1;33m8\u001b[0m\u001b[1;33m phút\u001b[0m\u001b[1;33m)\u001b[0m\u001b[1;33m. \u001b[0m\u001b[1;33m15\u001b[0m\u001b[1;33m phút cho \u001b[0m\n",
       "\u001b[1;33mhoạt động nhóm bao gồm thảo luận, xây dựng chuỗi thức ăn, xác định vai trò và ghi chép vào phiếu bài tập là khá gấp\u001b[0m\n",
       "\u001b[1;33mgáp, có thể khiến học sinh không đủ thời gian để tư duy sâu hoặc hoàn thành sản phẩm một cách chỉn chu. Tương tự, \u001b[0m\u001b[1;33m8\u001b[0m\n",
       "\u001b[1;33mphút cho \u001b[0m\u001b[1;33m1\u001b[0m\u001b[1;33m-\u001b[0m\u001b[1;33m2\u001b[0m\u001b[1;33m nhóm trình bày là rất ít, khó đảm bảo mỗi nhóm có đủ thời gian để giải thích rõ ràng và nhận được phản\u001b[0m\n",
       "\u001b[1;33mhồi từ giáo viên hoặc các bạn. Điều này dễ dẫn đến việc hoạt động bị kéo dài hơn dự kiến hoặc phải cắt bớt nội dung\u001b[0m\n",
       "\u001b[1;33mquan trọng. Để đảm bảo chất lượng và tính khả thi trong \u001b[0m\u001b[1;33m35\u001b[0m\u001b[1;33m phút, cần có sự điều chỉnh. Hãy thiết kế lại một phiên \u001b[0m\n",
       "\u001b[1;33mbản đơn giản hơn để khớp với thời gian \u001b[0m\u001b[1;33m35\u001b[0m\u001b[1;33m phút đã cho.\u001b[0m\n"
      ]
     },
     "metadata": {},
     "output_type": "display_data"
    },
    {
     "data": {
      "text/html": [
       "<pre style=\"white-space:pre;overflow-x:auto;line-height:normal;font-family:Menlo,'DejaVu Sans Mono',consolas,'Courier New',monospace\">\n",
       "<span style=\"color: #808000; text-decoration-color: #808000; font-weight: bold\">------- Hoàn thành bước: content_validator -------</span>\n",
       "</pre>\n"
      ],
      "text/plain": [
       "\n",
       "\u001b[1;33m------- Hoàn thành bước: content_validator -------\u001b[0m\n"
      ]
     },
     "metadata": {},
     "output_type": "display_data"
    },
    {
     "data": {
      "text/html": [
       "<pre style=\"white-space:pre;overflow-x:auto;line-height:normal;font-family:Menlo,'DejaVu Sans Mono',consolas,'Courier New',monospace\">\n",
       "<span style=\"color: #008080; text-decoration-color: #008080; font-weight: bold\">&gt;</span> `Agent: Task Dispatcher` đang giao việc<span style=\"color: #808000; text-decoration-color: #808000\">...</span>\n",
       "</pre>\n"
      ],
      "text/plain": [
       "\n",
       "\u001b[1;36m>\u001b[0m `Agent: Task Dispatcher` đang giao việc\u001b[33m...\u001b[0m\n"
      ]
     },
     "metadata": {},
     "output_type": "display_data"
    },
    {
     "data": {
      "text/html": [
       "<pre style=\"white-space:pre;overflow-x:auto;line-height:normal;font-family:Menlo,'DejaVu Sans Mono',consolas,'Courier New',monospace\">\n",
       "<span style=\"color: #008080; text-decoration-color: #008080; font-weight: bold\">&gt;</span> --- 🚚 `Dispatcher`: Giao nhiệm vụ cho `assessment_creator`.\n",
       "</pre>\n"
      ],
      "text/plain": [
       "\n",
       "\u001b[1;36m>\u001b[0m --- 🚚 `Dispatcher`: Giao nhiệm vụ cho `assessment_creator`.\n"
      ]
     },
     "metadata": {},
     "output_type": "display_data"
    },
    {
     "data": {
      "text/html": [
       "<pre style=\"white-space:pre;overflow-x:auto;line-height:normal;font-family:Menlo,'DejaVu Sans Mono',consolas,'Courier New',monospace\">\n",
       "<span style=\"color: #808000; text-decoration-color: #808000; font-weight: bold\">------- Hoàn thành bước: task_dispatcher -------</span>\n",
       "</pre>\n"
      ],
      "text/plain": [
       "\n",
       "\u001b[1;33m------- Hoàn thành bước: task_dispatcher -------\u001b[0m\n"
      ]
     },
     "metadata": {},
     "output_type": "display_data"
    },
    {
     "data": {
      "text/html": [
       "<pre style=\"white-space:pre;overflow-x:auto;line-height:normal;font-family:Menlo,'DejaVu Sans Mono',consolas,'Courier New',monospace\">\n",
       "<span style=\"color: #008080; text-decoration-color: #008080; font-weight: bold\">&gt;</span> `Agent: Assessment Creator` <span style=\"font-weight: bold\">(</span>v12.<span style=\"color: #008080; text-decoration-color: #008080; font-weight: bold\">0</span><span style=\"font-weight: bold\">)</span> đang tạo nội dung theo kỷ luật<span style=\"color: #808000; text-decoration-color: #808000\">...</span>\n",
       "</pre>\n"
      ],
      "text/plain": [
       "\n",
       "\u001b[1;36m>\u001b[0m `Agent: Assessment Creator` \u001b[1m(\u001b[0mv12.\u001b[1;36m0\u001b[0m\u001b[1m)\u001b[0m đang tạo nội dung theo kỷ luật\u001b[33m...\u001b[0m\n"
      ]
     },
     "metadata": {},
     "output_type": "display_data"
    },
    {
     "data": {
      "text/html": [
       "<pre style=\"white-space:pre;overflow-x:auto;line-height:normal;font-family:Menlo,'DejaVu Sans Mono',consolas,'Courier New',monospace\"><span style=\"color: #008000; text-decoration-color: #008000; font-weight: bold\">✔️ Nội dung do Assessment Creator tạo ra:</span>\n",
       "</pre>\n"
      ],
      "text/plain": [
       "\u001b[1;32m✔️ Nội dung do Assessment Creator tạo ra:\u001b[0m\n"
      ]
     },
     "metadata": {},
     "output_type": "display_data"
    },
    {
     "data": {
      "text/html": [
       "<pre style=\"white-space:pre;overflow-x:auto;line-height:normal;font-family:Menlo,'DejaVu Sans Mono',consolas,'Courier New',monospace\"><span style=\"font-weight: bold\">{</span>\n",
       "<span style=\"color: #7fbf7f; text-decoration-color: #7fbf7f\">│   </span><span style=\"color: #008000; text-decoration-color: #008000\">'activity_name'</span>: <span style=\"color: #008000; text-decoration-color: #008000\">'Khám phá và Xây dựng kiến thức mới'</span>,\n",
       "<span style=\"color: #7fbf7f; text-decoration-color: #7fbf7f\">│   </span><span style=\"color: #008000; text-decoration-color: #008000\">'duration_minutes'</span>: <span style=\"color: #008080; text-decoration-color: #008080; font-weight: bold\">35</span>,\n",
       "<span style=\"color: #7fbf7f; text-decoration-color: #7fbf7f\">│   </span><span style=\"color: #008000; text-decoration-color: #008000\">'teacher_actions'</span>: <span style=\"font-weight: bold\">[</span>\n",
       "<span style=\"color: #7fbf7f; text-decoration-color: #7fbf7f\">│   │   </span><span style=\"color: #008000; text-decoration-color: #008000\">'Giới thiệu mục tiêu bài học và phổ biến nhiệm vụ (5 phút).'</span>,\n",
       "<span style=\"color: #7fbf7f; text-decoration-color: #7fbf7f\">│   │   </span><span style=\"color: #008000; text-decoration-color: #008000\">'Phát phiếu bài tập hoặc trình chiếu đề bài lên bảng. Hướng dẫn học sinh làm việc cá nhân hoặc theo cặp (20 phút).'</span>,\n",
       "<span style=\"color: #7fbf7f; text-decoration-color: #7fbf7f\">│   │   </span><span style=\"color: #008000; text-decoration-color: #008000\">'Quan sát, đi lại trong lớp, hỗ trợ và gợi ý khi học sinh gặp khó khăn, đảm bảo các em hiểu rõ yêu cầu.'</span>,\n",
       "<span style=\"color: #7fbf7f; text-decoration-color: #7fbf7f\">│   │   </span><span style=\"color: #008000; text-decoration-color: #008000\">'Mời đại diện 1-2 học sinh/cặp trình bày nhanh kết quả của mình (8 phút).'</span>,\n",
       "<span style=\"color: #7fbf7f; text-decoration-color: #7fbf7f\">│   │   </span><span style=\"color: #008000; text-decoration-color: #008000\">'Nhận xét, chữa bài chung, chốt kiến thức về khái niệm chuỗi thức ăn và vai trò của các sinh vật trong chuỗi.'</span>,\n",
       "<span style=\"color: #7fbf7f; text-decoration-color: #7fbf7f\">│   │   </span><span style=\"color: #008000; text-decoration-color: #008000\">'Tổng kết bài học và chuyển tiếp sang nội dung tiếp theo (2 phút).'</span>\n",
       "<span style=\"color: #7fbf7f; text-decoration-color: #7fbf7f\">│   </span><span style=\"font-weight: bold\">]</span>,\n",
       "<span style=\"color: #7fbf7f; text-decoration-color: #7fbf7f\">│   </span><span style=\"color: #008000; text-decoration-color: #008000\">'core_component'</span>: <span style=\"color: #008000; text-decoration-color: #008000\">'Cho danh sách các sinh vật: Cỏ, Thỏ, Cáo, Sâu, Chim sẻ, Hạt ngô.1. Xây dựng 2 chuỗi thức ăn hoàn chỉnh từ các sinh vật trên.2. Xác định vai trò của từng sinh vật (sinh vật sản xuất, sinh vật tiêu thụ bậc 1, 2, 3) trong mỗi chuỗi thức ăn bạn vừa xây dựng.'</span>,\n",
       "<span style=\"color: #7fbf7f; text-decoration-color: #7fbf7f\">│   </span><span style=\"color: #008000; text-decoration-color: #008000\">'extension_component'</span>: <span style=\"color: #008000; text-decoration-color: #008000\">'Nêu vai trò của Vi khuẩn trong hệ thái và giải thích điều gì sẽ xảy ra nếu không có sinh vật phân giải.'</span>,\n",
       "<span style=\"color: #7fbf7f; text-decoration-color: #7fbf7f\">│   </span><span style=\"color: #008000; text-decoration-color: #008000\">'answer'</span>: <span style=\"color: #008000; text-decoration-color: #008000\">'Chuỗi 1: Cỏ -&gt; Thỏ -&gt; Cáo. Trong đó: Cỏ là sinh vật sản xuất; Thỏ là sinh vật tiêu thụ bậc 1; Cáo là sinh vật tiêu thụ bậc 2. Chuỗi 2: Hạt ngô -&gt; Sâu -&gt; Chim sẻ. Trong đó: Hạt ngô là sinh vật sản xuất; Sâu là sinh vật tiêu thụ bậc 1; Chim sẻ là sinh vật tiêu thụ bậc 2.'</span>,\n",
       "<span style=\"color: #7fbf7f; text-decoration-color: #7fbf7f\">│   </span><span style=\"color: #008000; text-decoration-color: #008000\">'solution_guide'</span>: <span style=\"color: #008000; text-decoration-color: #008000\">'1. Xác định sinh vật sản xuất: Là sinh vật có khả năng tự tổng hợp chất hữu cơ (ví dụ: Cỏ, Hạt ngô).2. Xác định sinh vật tiêu thụ bậc 1: Là sinh vật ăn sinh vật sản xuất (ví dụ: Thỏ ăn Cỏ, Sâu ăn Hạt ngô).3. Xác định sinh vật tiêu thụ bậc 2: Là sinh vật ăn sinh vật tiêu thụ bậc 1 (ví dụ: Cáo ăn Thỏ, Chim sẻ ăn Sâu).4. Xây dựng chuỗi thức ăn theo trình tự: Sinh vật sản xuất -&gt; Sinh vật tiêu thụ bậc 1 -&gt; Sinh vật tiêu thụ bậc 2 -&gt; ...5. Đối chiếu với đáp án mẫu để kiểm tra tính chính xác.'</span>,\n",
       "<span style=\"color: #7fbf7f; text-decoration-color: #7fbf7f\">│   </span><span style=\"color: #008000; text-decoration-color: #008000\">'differentiation'</span>: <span style=\"font-weight: bold\">{</span>\n",
       "<span style=\"color: #7fbf7f; text-decoration-color: #7fbf7f\">│   │   </span><span style=\"color: #008000; text-decoration-color: #008000\">'for_struggling_students'</span>: <span style=\"color: #008000; text-decoration-color: #008000\">'Cung cấp gợi ý về cách xác định sinh vật sản xuất (thường là thực vật). Có thể cho sẵn một chuỗi thức ăn và chỉ yêu cầu học sinh xác định vai trò của từng sinh vật. Cho phép học sinh làm việc theo cặp với một bạn khá hơn để nhận được sự hỗ trợ trực tiếp.'</span>,\n",
       "<span style=\"color: #7fbf7f; text-decoration-color: #7fbf7f\">│   │   </span><span style=\"color: #008000; text-decoration-color: #008000\">'for_advanced_students'</span>: <span style=\"color: #008000; text-decoration-color: #008000\">'Yêu cầu học sinh xây dựng thêm một chuỗi thức ăn khác từ các sinh vật đã cho hoặc giải thích mối quan hệ giữa chuỗi thức ăn và lưới thức ăn. Thực hiện phần mở rộng: Nêu vai trò của Vi khuẩn trong hệ sinh thái và giải thích điều gì sẽ xảy ra nếu không có sinh vật phân giải.'</span>\n",
       "<span style=\"color: #7fbf7f; text-decoration-color: #7fbf7f\">│   </span><span style=\"font-weight: bold\">}</span>,\n",
       "<span style=\"color: #7fbf7f; text-decoration-color: #7fbf7f\">│   </span><span style=\"color: #008000; text-decoration-color: #008000\">'content_type'</span>: <span style=\"color: #008000; text-decoration-color: #008000\">'Tự luận'</span>\n",
       "<span style=\"font-weight: bold\">}</span>\n",
       "</pre>\n"
      ],
      "text/plain": [
       "\u001b[1m{\u001b[0m\n",
       "\u001b[2;32m│   \u001b[0m\u001b[32m'activity_name'\u001b[0m: \u001b[32m'Khám phá và Xây dựng kiến thức mới'\u001b[0m,\n",
       "\u001b[2;32m│   \u001b[0m\u001b[32m'duration_minutes'\u001b[0m: \u001b[1;36m35\u001b[0m,\n",
       "\u001b[2;32m│   \u001b[0m\u001b[32m'teacher_actions'\u001b[0m: \u001b[1m[\u001b[0m\n",
       "\u001b[2;32m│   │   \u001b[0m\u001b[32m'Giới thiệu mục tiêu bài học và phổ biến nhiệm vụ \u001b[0m\u001b[32m(\u001b[0m\u001b[32m5 phút\u001b[0m\u001b[32m)\u001b[0m\u001b[32m.'\u001b[0m,\n",
       "\u001b[2;32m│   │   \u001b[0m\u001b[32m'Phát phiếu bài tập hoặc trình chiếu đề bài lên bảng. Hướng dẫn học sinh làm việc cá nhân hoặc theo cặp \u001b[0m\u001b[32m(\u001b[0m\u001b[32m20 phút\u001b[0m\u001b[32m)\u001b[0m\u001b[32m.'\u001b[0m,\n",
       "\u001b[2;32m│   │   \u001b[0m\u001b[32m'Quan sát, đi lại trong lớp, hỗ trợ và gợi ý khi học sinh gặp khó khăn, đảm bảo các em hiểu rõ yêu cầu.'\u001b[0m,\n",
       "\u001b[2;32m│   │   \u001b[0m\u001b[32m'Mời đại diện 1-2 học sinh/cặp trình bày nhanh kết quả của mình \u001b[0m\u001b[32m(\u001b[0m\u001b[32m8 phút\u001b[0m\u001b[32m)\u001b[0m\u001b[32m.'\u001b[0m,\n",
       "\u001b[2;32m│   │   \u001b[0m\u001b[32m'Nhận xét, chữa bài chung, chốt kiến thức về khái niệm chuỗi thức ăn và vai trò của các sinh vật trong chuỗi.'\u001b[0m,\n",
       "\u001b[2;32m│   │   \u001b[0m\u001b[32m'Tổng kết bài học và chuyển tiếp sang nội dung tiếp theo \u001b[0m\u001b[32m(\u001b[0m\u001b[32m2 phút\u001b[0m\u001b[32m)\u001b[0m\u001b[32m.'\u001b[0m\n",
       "\u001b[2;32m│   \u001b[0m\u001b[1m]\u001b[0m,\n",
       "\u001b[2;32m│   \u001b[0m\u001b[32m'core_component'\u001b[0m: \u001b[32m'Cho danh sách các sinh vật: Cỏ, Thỏ, Cáo, Sâu, Chim sẻ, Hạt ngô.1. Xây dựng 2 chuỗi thức ăn hoàn chỉnh từ các sinh vật trên.2. Xác định vai trò của từng sinh vật \u001b[0m\u001b[32m(\u001b[0m\u001b[32msinh vật sản xuất, sinh vật tiêu thụ bậc 1, 2, 3\u001b[0m\u001b[32m)\u001b[0m\u001b[32m trong mỗi chuỗi thức ăn bạn vừa xây dựng.'\u001b[0m,\n",
       "\u001b[2;32m│   \u001b[0m\u001b[32m'extension_component'\u001b[0m: \u001b[32m'Nêu vai trò của Vi khuẩn trong hệ thái và giải thích điều gì sẽ xảy ra nếu không có sinh vật phân giải.'\u001b[0m,\n",
       "\u001b[2;32m│   \u001b[0m\u001b[32m'answer'\u001b[0m: \u001b[32m'Chuỗi 1: Cỏ -> Thỏ -> Cáo. Trong đó: Cỏ là sinh vật sản xuất; Thỏ là sinh vật tiêu thụ bậc 1; Cáo là sinh vật tiêu thụ bậc 2. Chuỗi 2: Hạt ngô -> Sâu -> Chim sẻ. Trong đó: Hạt ngô là sinh vật sản xuất; Sâu là sinh vật tiêu thụ bậc 1; Chim sẻ là sinh vật tiêu thụ bậc 2.'\u001b[0m,\n",
       "\u001b[2;32m│   \u001b[0m\u001b[32m'solution_guide'\u001b[0m: \u001b[32m'1. Xác định sinh vật sản xuất: Là sinh vật có khả năng tự tổng hợp chất hữu cơ \u001b[0m\u001b[32m(\u001b[0m\u001b[32mví dụ: Cỏ, Hạt ngô\u001b[0m\u001b[32m)\u001b[0m\u001b[32m.2. Xác định sinh vật tiêu thụ bậc 1: Là sinh vật ăn sinh vật sản xuất \u001b[0m\u001b[32m(\u001b[0m\u001b[32mví dụ: Thỏ ăn Cỏ, Sâu ăn Hạt ngô\u001b[0m\u001b[32m)\u001b[0m\u001b[32m.3. Xác định sinh vật tiêu thụ bậc 2: Là sinh vật ăn sinh vật tiêu thụ bậc 1 \u001b[0m\u001b[32m(\u001b[0m\u001b[32mví dụ: Cáo ăn Thỏ, Chim sẻ ăn Sâu\u001b[0m\u001b[32m)\u001b[0m\u001b[32m.4. Xây dựng chuỗi thức ăn theo trình tự: Sinh vật sản xuất -> Sinh vật tiêu thụ bậc 1 -> Sinh vật tiêu thụ bậc 2 -> ...5. Đối chiếu với đáp án mẫu để kiểm tra tính chính xác.'\u001b[0m,\n",
       "\u001b[2;32m│   \u001b[0m\u001b[32m'differentiation'\u001b[0m: \u001b[1m{\u001b[0m\n",
       "\u001b[2;32m│   │   \u001b[0m\u001b[32m'for_struggling_students'\u001b[0m: \u001b[32m'Cung cấp gợi ý về cách xác định sinh vật sản xuất \u001b[0m\u001b[32m(\u001b[0m\u001b[32mthường là thực vật\u001b[0m\u001b[32m)\u001b[0m\u001b[32m. Có thể cho sẵn một chuỗi thức ăn và chỉ yêu cầu học sinh xác định vai trò của từng sinh vật. Cho phép học sinh làm việc theo cặp với một bạn khá hơn để nhận được sự hỗ trợ trực tiếp.'\u001b[0m,\n",
       "\u001b[2;32m│   │   \u001b[0m\u001b[32m'for_advanced_students'\u001b[0m: \u001b[32m'Yêu cầu học sinh xây dựng thêm một chuỗi thức ăn khác từ các sinh vật đã cho hoặc giải thích mối quan hệ giữa chuỗi thức ăn và lưới thức ăn. Thực hiện phần mở rộng: Nêu vai trò của Vi khuẩn trong hệ sinh thái và giải thích điều gì sẽ xảy ra nếu không có sinh vật phân giải.'\u001b[0m\n",
       "\u001b[2;32m│   \u001b[0m\u001b[1m}\u001b[0m,\n",
       "\u001b[2;32m│   \u001b[0m\u001b[32m'content_type'\u001b[0m: \u001b[32m'Tự luận'\u001b[0m\n",
       "\u001b[1m}\u001b[0m\n"
      ]
     },
     "metadata": {},
     "output_type": "display_data"
    },
    {
     "data": {
      "text/html": [
       "<pre style=\"white-space:pre;overflow-x:auto;line-height:normal;font-family:Menlo,'DejaVu Sans Mono',consolas,'Courier New',monospace\">\n",
       "<span style=\"color: #808000; text-decoration-color: #808000; font-weight: bold\">------- Hoàn thành bước: assessment_creator -------</span>\n",
       "</pre>\n"
      ],
      "text/plain": [
       "\n",
       "\u001b[1;33m------- Hoàn thành bước: assessment_creator -------\u001b[0m\n"
      ]
     },
     "metadata": {},
     "output_type": "display_data"
    },
    {
     "data": {
      "text/html": [
       "<pre style=\"white-space:pre;overflow-x:auto;line-height:normal;font-family:Menlo,'DejaVu Sans Mono',consolas,'Courier New',monospace\">\n",
       "<span style=\"color: #008080; text-decoration-color: #008080; font-weight: bold\">&gt;</span> `Agent: Guardian Critic` <span style=\"font-weight: bold\">(</span>v12.<span style=\"color: #008080; text-decoration-color: #008080; font-weight: bold\">0</span><span style=\"font-weight: bold\">)</span> đang bảo vệ kế hoạch<span style=\"color: #808000; text-decoration-color: #808000\">...</span>\n",
       "</pre>\n"
      ],
      "text/plain": [
       "\n",
       "\u001b[1;36m>\u001b[0m `Agent: Guardian Critic` \u001b[1m(\u001b[0mv12.\u001b[1;36m0\u001b[0m\u001b[1m)\u001b[0m đang bảo vệ kế hoạch\u001b[33m...\u001b[0m\n"
      ]
     },
     "metadata": {},
     "output_type": "display_data"
    },
    {
     "data": {
      "text/html": [
       "<pre style=\"white-space:pre;overflow-x:auto;line-height:normal;font-family:Menlo,'DejaVu Sans Mono',consolas,'Courier New',monospace\"><span style=\"color: #808000; text-decoration-color: #808000; font-weight: bold\">⚠️  GUARDIAN PHẢN BIỆN: Kế hoạch này có một lỗi nghiêm trọng về phân bổ thời gian. Mặc dù tổng thời gian cho các </span>\n",
       "<span style=\"color: #808000; text-decoration-color: #808000; font-weight: bold\">hoạt động được định lượng là </span><span style=\"color: #808000; text-decoration-color: #808000; font-weight: bold\">35</span><span style=\"color: #808000; text-decoration-color: #808000; font-weight: bold\"> phút, nhưng hoạt động </span><span style=\"color: #808000; text-decoration-color: #808000; font-weight: bold\">\"Nhận xét, chữa bài chung, chốt kiến thức về khái niệm chuỗi </span>\n",
       "<span style=\"color: #808000; text-decoration-color: #808000; font-weight: bold\">thức ăn và vai trò của các sinh vật trong chuỗi\"</span><span style=\"color: #808000; text-decoration-color: #808000; font-weight: bold\"> lại không được phân bổ thời gian cụ thể. Đây là một bước cực kỳ </span>\n",
       "<span style=\"color: #808000; text-decoration-color: #808000; font-weight: bold\">quan trọng để củng cố kiến thức cho học sinh. Nếu không có thời gian cho hoạt động này, bài học sẽ bị cắt xén, </span>\n",
       "<span style=\"color: #808000; text-decoration-color: #808000; font-weight: bold\">không hiệu quả hoặc chắc chắn sẽ vượt quá </span><span style=\"color: #808000; text-decoration-color: #808000; font-weight: bold\">35</span><span style=\"color: #808000; text-decoration-color: #808000; font-weight: bold\"> phút cho phép. Hãy thiết kế lại một phiên bản đơn giản hơn để khớp với</span>\n",
       "<span style=\"color: #808000; text-decoration-color: #808000; font-weight: bold\">thời gian </span><span style=\"color: #808000; text-decoration-color: #808000; font-weight: bold\">35</span><span style=\"color: #808000; text-decoration-color: #808000; font-weight: bold\"> phút đã cho.</span>\n",
       "</pre>\n"
      ],
      "text/plain": [
       "\u001b[1;33m⚠️  GUARDIAN PHẢN BIỆN: Kế hoạch này có một lỗi nghiêm trọng về phân bổ thời gian. Mặc dù tổng thời gian cho các \u001b[0m\n",
       "\u001b[1;33mhoạt động được định lượng là \u001b[0m\u001b[1;33m35\u001b[0m\u001b[1;33m phút, nhưng hoạt động \u001b[0m\u001b[1;33m\"Nhận xét, chữa bài chung, chốt kiến thức về khái niệm chuỗi \u001b[0m\n",
       "\u001b[1;33mthức ăn và vai trò của các sinh vật trong chuỗi\"\u001b[0m\u001b[1;33m lại không được phân bổ thời gian cụ thể. Đây là một bước cực kỳ \u001b[0m\n",
       "\u001b[1;33mquan trọng để củng cố kiến thức cho học sinh. Nếu không có thời gian cho hoạt động này, bài học sẽ bị cắt xén, \u001b[0m\n",
       "\u001b[1;33mkhông hiệu quả hoặc chắc chắn sẽ vượt quá \u001b[0m\u001b[1;33m35\u001b[0m\u001b[1;33m phút cho phép. Hãy thiết kế lại một phiên bản đơn giản hơn để khớp với\u001b[0m\n",
       "\u001b[1;33mthời gian \u001b[0m\u001b[1;33m35\u001b[0m\u001b[1;33m phút đã cho.\u001b[0m\n"
      ]
     },
     "metadata": {},
     "output_type": "display_data"
    },
    {
     "data": {
      "text/html": [
       "<pre style=\"white-space:pre;overflow-x:auto;line-height:normal;font-family:Menlo,'DejaVu Sans Mono',consolas,'Courier New',monospace\">\n",
       "<span style=\"color: #808000; text-decoration-color: #808000; font-weight: bold\">------- Hoàn thành bước: content_validator -------</span>\n",
       "</pre>\n"
      ],
      "text/plain": [
       "\n",
       "\u001b[1;33m------- Hoàn thành bước: content_validator -------\u001b[0m\n"
      ]
     },
     "metadata": {},
     "output_type": "display_data"
    },
    {
     "data": {
      "text/html": [
       "<pre style=\"white-space:pre;overflow-x:auto;line-height:normal;font-family:Menlo,'DejaVu Sans Mono',consolas,'Courier New',monospace\">\n",
       "<span style=\"color: #008080; text-decoration-color: #008080; font-weight: bold\">&gt;</span> `Agent: Task Dispatcher` đang giao việc<span style=\"color: #808000; text-decoration-color: #808000\">...</span>\n",
       "</pre>\n"
      ],
      "text/plain": [
       "\n",
       "\u001b[1;36m>\u001b[0m `Agent: Task Dispatcher` đang giao việc\u001b[33m...\u001b[0m\n"
      ]
     },
     "metadata": {},
     "output_type": "display_data"
    },
    {
     "data": {
      "text/html": [
       "<pre style=\"white-space:pre;overflow-x:auto;line-height:normal;font-family:Menlo,'DejaVu Sans Mono',consolas,'Courier New',monospace\">\n",
       "<span style=\"color: #008080; text-decoration-color: #008080; font-weight: bold\">&gt;</span> --- 🚚 `Dispatcher`: Giao nhiệm vụ cho `activity_designer`.\n",
       "</pre>\n"
      ],
      "text/plain": [
       "\n",
       "\u001b[1;36m>\u001b[0m --- 🚚 `Dispatcher`: Giao nhiệm vụ cho `activity_designer`.\n"
      ]
     },
     "metadata": {},
     "output_type": "display_data"
    },
    {
     "data": {
      "text/html": [
       "<pre style=\"white-space:pre;overflow-x:auto;line-height:normal;font-family:Menlo,'DejaVu Sans Mono',consolas,'Courier New',monospace\">\n",
       "<span style=\"color: #808000; text-decoration-color: #808000; font-weight: bold\">------- Hoàn thành bước: task_dispatcher -------</span>\n",
       "</pre>\n"
      ],
      "text/plain": [
       "\n",
       "\u001b[1;33m------- Hoàn thành bước: task_dispatcher -------\u001b[0m\n"
      ]
     },
     "metadata": {},
     "output_type": "display_data"
    },
    {
     "data": {
      "text/html": [
       "<pre style=\"white-space:pre;overflow-x:auto;line-height:normal;font-family:Menlo,'DejaVu Sans Mono',consolas,'Courier New',monospace\">\n",
       "<span style=\"color: #008080; text-decoration-color: #008080; font-weight: bold\">&gt;</span> `Agent: Activity Designer` <span style=\"font-weight: bold\">(</span>v12.<span style=\"color: #008080; text-decoration-color: #008080; font-weight: bold\">0</span><span style=\"font-weight: bold\">)</span> đang tạo nội dung theo kỷ luật<span style=\"color: #808000; text-decoration-color: #808000\">...</span>\n",
       "</pre>\n"
      ],
      "text/plain": [
       "\n",
       "\u001b[1;36m>\u001b[0m `Agent: Activity Designer` \u001b[1m(\u001b[0mv12.\u001b[1;36m0\u001b[0m\u001b[1m)\u001b[0m đang tạo nội dung theo kỷ luật\u001b[33m...\u001b[0m\n"
      ]
     },
     "metadata": {},
     "output_type": "display_data"
    },
    {
     "data": {
      "text/html": [
       "<pre style=\"white-space:pre;overflow-x:auto;line-height:normal;font-family:Menlo,'DejaVu Sans Mono',consolas,'Courier New',monospace\"><span style=\"color: #008000; text-decoration-color: #008000; font-weight: bold\">✔️ Nội dung do Activity Designer tạo ra:</span>\n",
       "</pre>\n"
      ],
      "text/plain": [
       "\u001b[1;32m✔️ Nội dung do Activity Designer tạo ra:\u001b[0m\n"
      ]
     },
     "metadata": {},
     "output_type": "display_data"
    },
    {
     "data": {
      "text/html": [
       "<pre style=\"white-space:pre;overflow-x:auto;line-height:normal;font-family:Menlo,'DejaVu Sans Mono',consolas,'Courier New',monospace\"><span style=\"font-weight: bold\">{</span>\n",
       "<span style=\"color: #7fbf7f; text-decoration-color: #7fbf7f\">│   </span><span style=\"color: #008000; text-decoration-color: #008000\">'activity_name'</span>: <span style=\"color: #008000; text-decoration-color: #008000\">'Khám phá và Xây dựng kiến thức mới'</span>,\n",
       "<span style=\"color: #7fbf7f; text-decoration-color: #7fbf7f\">│   </span><span style=\"color: #008000; text-decoration-color: #008000\">'duration_minutes'</span>: <span style=\"color: #008080; text-decoration-color: #008080; font-weight: bold\">35</span>,\n",
       "<span style=\"color: #7fbf7f; text-decoration-color: #7fbf7f\">│   </span><span style=\"color: #008000; text-decoration-color: #008000\">'teacher_actions'</span>: <span style=\"font-weight: bold\">[</span>\n",
       "<span style=\"color: #7fbf7f; text-decoration-color: #7fbf7f\">│   │   </span><span style=\"color: #008000; text-decoration-color: #008000\">'Giới thiệu mục tiêu bài học và hoạt động (3 phút).'</span>,\n",
       "<span style=\"color: #7fbf7f; text-decoration-color: #7fbf7f\">│   │   </span><span style=\"color: #008000; text-decoration-color: #008000\">'Phát phiếu học tập/yêu cầu học sinh quan sát hình ảnh/video và hướng dẫn nhiệm vụ (trong 20 phút hoạt động nhóm).'</span>,\n",
       "<span style=\"color: #7fbf7f; text-decoration-color: #7fbf7f\">│   │   </span><span style=\"color: #008000; text-decoration-color: #008000\">'Quan sát, hỗ trợ các nhóm/cá nhân trong quá trình làm việc, gợi ý, đặt câu hỏi để học sinh khám phá mối quan hệ (trong 20 phút hoạt động nhóm).'</span>,\n",
       "<span style=\"color: #7fbf7f; text-decoration-color: #7fbf7f\">│   │   </span><span style=\"color: #008000; text-decoration-color: #008000\">'Mời đại diện nhóm/cá nhân trình bày sản phẩm (trong 12 phút chốt kiến thức).'</span>,\n",
       "<span style=\"color: #7fbf7f; text-decoration-color: #7fbf7f\">│   │   </span><span style=\"color: #008000; text-decoration-color: #008000\">'Nhận xét, chữa lỗi, bổ sung kiến thức cho học sinh (trong 12 phút chốt kiến thức).'</span>,\n",
       "<span style=\"color: #7fbf7f; text-decoration-color: #7fbf7f\">│   │   </span><span style=\"color: #008000; text-decoration-color: #008000\">'Chốt kiến thức trọng tâm về khái niệm chuỗi thức ăn và vai trò của các sinh vật (sinh vật sản xuất, tiêu thụ, phân giải) (trong 12 phút chốt kiến thức).'</span>\n",
       "<span style=\"color: #7fbf7f; text-decoration-color: #7fbf7f\">│   </span><span style=\"font-weight: bold\">]</span>,\n",
       "<span style=\"color: #7fbf7f; text-decoration-color: #7fbf7f\">│   </span><span style=\"color: #008000; text-decoration-color: #008000\">'core_component'</span>: <span style=\"color: #008000; text-decoration-color: #008000\">'Học sinh quan sát các hình ảnh/video về hệ sinh thái (ví dụ: đồng cỏ, rừng, ao hồ). Thảo luận nhóm (hoặc làm việc cá nhân) để xác định các sinh vật có trong hệ sinh thái và mối quan hệ ăn-bị ăn giữa chúng. Từ đó, vẽ hoặc viết ra ít nhất 2-3 chuỗi thức ăn đơn giản mà các em tìm thấy. Chuẩn bị trình bày sản phẩm.'</span>,\n",
       "<span style=\"color: #7fbf7f; text-decoration-color: #7fbf7f\">│   </span><span style=\"color: #008000; text-decoration-color: #008000\">'extension_component'</span>: <span style=\"color: #008000; text-decoration-color: #008000\">'Học sinh nhanh chóng hoàn thành có thể vẽ thêm các chuỗi thức ăn phức tạp hơn, hoặc tìm hiểu về lưới thức ăn, hoặc dự đoán điều gì sẽ xảy ra nếu một mắt xích trong chuỗi thức ăn bị mất đi.'</span>,\n",
       "<span style=\"color: #7fbf7f; text-decoration-color: #7fbf7f\">│   </span><span style=\"color: #008000; text-decoration-color: #008000\">'solution_guide'</span>: <span style=\"color: #008000; text-decoration-color: #008000\">'Giáo viên có thể chuẩn bị sẵn một số ví dụ về chuỗi thức ăn đơn giản (ví dụ: Cỏ -&gt; Thỏ -&gt; Cáo; Tảo -&gt; Cá con -&gt; Cá lớn -&gt; Chim bói cá) để gợi ý hoặc làm mẫu. Gợi ý học sinh phân loại sinh vật thành sinh vật sản xuất, sinh vật tiêu thụ (bậc 1, 2, 3), sinh vật phân giải.'</span>,\n",
       "<span style=\"color: #7fbf7f; text-decoration-color: #7fbf7f\">│   </span><span style=\"color: #008000; text-decoration-color: #008000\">'differentiation'</span>: <span style=\"font-weight: bold\">{</span>\n",
       "<span style=\"color: #7fbf7f; text-decoration-color: #7fbf7f\">│   │   </span><span style=\"color: #008000; text-decoration-color: #008000\">'for_struggling_students'</span>: <span style=\"color: #008000; text-decoration-color: #008000\">'Cung cấp hình ảnh/thẻ từ có sẵn tên các sinh vật và mũi tên gợi ý để học sinh chỉ cần sắp xếp. Giáo viên có thể gợi ý trực tiếp một chuỗi thức ăn mẫu để học sinh làm theo. Hỗ trợ cá nhân, đặt câu hỏi gợi mở đơn giản.'</span>,\n",
       "<span style=\"color: #7fbf7f; text-decoration-color: #7fbf7f\">│   │   </span><span style=\"color: #008000; text-decoration-color: #008000\">'for_advanced_students'</span>: <span style=\"color: #008000; text-decoration-color: #008000\">\"Yêu cầu học sinh xây dựng các chuỗi thức ăn dài hơn, phức tạp hơn (có 4-5 mắt xích). Thử thách học sinh tìm hiểu về khái niệm 'lưới thức ăn' và vẽ một lưới thức ăn nhỏ. Yêu cầu học sinh giải thích vai trò của sinh vật phân giải trong chuỗi thức ăn.\"</span>\n",
       "<span style=\"color: #7fbf7f; text-decoration-color: #7fbf7f\">│   </span><span style=\"font-weight: bold\">}</span>,\n",
       "<span style=\"color: #7fbf7f; text-decoration-color: #7fbf7f\">│   </span><span style=\"color: #008000; text-decoration-color: #008000\">'content_type'</span>: <span style=\"color: #008000; text-decoration-color: #008000\">'Thảo luận nhóm và Chốt kiến thức'</span>\n",
       "<span style=\"font-weight: bold\">}</span>\n",
       "</pre>\n"
      ],
      "text/plain": [
       "\u001b[1m{\u001b[0m\n",
       "\u001b[2;32m│   \u001b[0m\u001b[32m'activity_name'\u001b[0m: \u001b[32m'Khám phá và Xây dựng kiến thức mới'\u001b[0m,\n",
       "\u001b[2;32m│   \u001b[0m\u001b[32m'duration_minutes'\u001b[0m: \u001b[1;36m35\u001b[0m,\n",
       "\u001b[2;32m│   \u001b[0m\u001b[32m'teacher_actions'\u001b[0m: \u001b[1m[\u001b[0m\n",
       "\u001b[2;32m│   │   \u001b[0m\u001b[32m'Giới thiệu mục tiêu bài học và hoạt động \u001b[0m\u001b[32m(\u001b[0m\u001b[32m3 phút\u001b[0m\u001b[32m)\u001b[0m\u001b[32m.'\u001b[0m,\n",
       "\u001b[2;32m│   │   \u001b[0m\u001b[32m'Phát phiếu học tập/yêu cầu học sinh quan sát hình ảnh/video và hướng dẫn nhiệm vụ \u001b[0m\u001b[32m(\u001b[0m\u001b[32mtrong 20 phút hoạt động nhóm\u001b[0m\u001b[32m)\u001b[0m\u001b[32m.'\u001b[0m,\n",
       "\u001b[2;32m│   │   \u001b[0m\u001b[32m'Quan sát, hỗ trợ các nhóm/cá nhân trong quá trình làm việc, gợi ý, đặt câu hỏi để học sinh khám phá mối quan hệ \u001b[0m\u001b[32m(\u001b[0m\u001b[32mtrong 20 phút hoạt động nhóm\u001b[0m\u001b[32m)\u001b[0m\u001b[32m.'\u001b[0m,\n",
       "\u001b[2;32m│   │   \u001b[0m\u001b[32m'Mời đại diện nhóm/cá nhân trình bày sản phẩm \u001b[0m\u001b[32m(\u001b[0m\u001b[32mtrong 12 phút chốt kiến thức\u001b[0m\u001b[32m)\u001b[0m\u001b[32m.'\u001b[0m,\n",
       "\u001b[2;32m│   │   \u001b[0m\u001b[32m'Nhận xét, chữa lỗi, bổ sung kiến thức cho học sinh \u001b[0m\u001b[32m(\u001b[0m\u001b[32mtrong 12 phút chốt kiến thức\u001b[0m\u001b[32m)\u001b[0m\u001b[32m.'\u001b[0m,\n",
       "\u001b[2;32m│   │   \u001b[0m\u001b[32m'Chốt kiến thức trọng tâm về khái niệm chuỗi thức ăn và vai trò của các sinh vật \u001b[0m\u001b[32m(\u001b[0m\u001b[32msinh vật sản xuất, tiêu thụ, phân giải\u001b[0m\u001b[32m)\u001b[0m\u001b[32m \u001b[0m\u001b[32m(\u001b[0m\u001b[32mtrong 12 phút chốt kiến thức\u001b[0m\u001b[32m)\u001b[0m\u001b[32m.'\u001b[0m\n",
       "\u001b[2;32m│   \u001b[0m\u001b[1m]\u001b[0m,\n",
       "\u001b[2;32m│   \u001b[0m\u001b[32m'core_component'\u001b[0m: \u001b[32m'Học sinh quan sát các hình ảnh/video về hệ sinh thái \u001b[0m\u001b[32m(\u001b[0m\u001b[32mví dụ: đồng cỏ, rừng, ao hồ\u001b[0m\u001b[32m)\u001b[0m\u001b[32m. Thảo luận nhóm \u001b[0m\u001b[32m(\u001b[0m\u001b[32mhoặc làm việc cá nhân\u001b[0m\u001b[32m)\u001b[0m\u001b[32m để xác định các sinh vật có trong hệ sinh thái và mối quan hệ ăn-bị ăn giữa chúng. Từ đó, vẽ hoặc viết ra ít nhất 2-3 chuỗi thức ăn đơn giản mà các em tìm thấy. Chuẩn bị trình bày sản phẩm.'\u001b[0m,\n",
       "\u001b[2;32m│   \u001b[0m\u001b[32m'extension_component'\u001b[0m: \u001b[32m'Học sinh nhanh chóng hoàn thành có thể vẽ thêm các chuỗi thức ăn phức tạp hơn, hoặc tìm hiểu về lưới thức ăn, hoặc dự đoán điều gì sẽ xảy ra nếu một mắt xích trong chuỗi thức ăn bị mất đi.'\u001b[0m,\n",
       "\u001b[2;32m│   \u001b[0m\u001b[32m'solution_guide'\u001b[0m: \u001b[32m'Giáo viên có thể chuẩn bị sẵn một số ví dụ về chuỗi thức ăn đơn giản \u001b[0m\u001b[32m(\u001b[0m\u001b[32mví dụ: Cỏ -> Thỏ -> Cáo; Tảo -> Cá con -> Cá lớn -> Chim bói cá\u001b[0m\u001b[32m)\u001b[0m\u001b[32m để gợi ý hoặc làm mẫu. Gợi ý học sinh phân loại sinh vật thành sinh vật sản xuất, sinh vật tiêu thụ \u001b[0m\u001b[32m(\u001b[0m\u001b[32mbậc 1, 2, 3\u001b[0m\u001b[32m)\u001b[0m\u001b[32m, sinh vật phân giải.'\u001b[0m,\n",
       "\u001b[2;32m│   \u001b[0m\u001b[32m'differentiation'\u001b[0m: \u001b[1m{\u001b[0m\n",
       "\u001b[2;32m│   │   \u001b[0m\u001b[32m'for_struggling_students'\u001b[0m: \u001b[32m'Cung cấp hình ảnh/thẻ từ có sẵn tên các sinh vật và mũi tên gợi ý để học sinh chỉ cần sắp xếp. Giáo viên có thể gợi ý trực tiếp một chuỗi thức ăn mẫu để học sinh làm theo. Hỗ trợ cá nhân, đặt câu hỏi gợi mở đơn giản.'\u001b[0m,\n",
       "\u001b[2;32m│   │   \u001b[0m\u001b[32m'for_advanced_students'\u001b[0m: \u001b[32m\"Yêu cầu học sinh xây dựng các chuỗi thức ăn dài hơn, phức tạp hơn \u001b[0m\u001b[32m(\u001b[0m\u001b[32mcó 4-5 mắt xích\u001b[0m\u001b[32m)\u001b[0m\u001b[32m. Thử thách học sinh tìm hiểu về khái niệm 'lưới thức ăn' và vẽ một lưới thức ăn nhỏ. Yêu cầu học sinh giải thích vai trò của sinh vật phân giải trong chuỗi thức ăn.\"\u001b[0m\n",
       "\u001b[2;32m│   \u001b[0m\u001b[1m}\u001b[0m,\n",
       "\u001b[2;32m│   \u001b[0m\u001b[32m'content_type'\u001b[0m: \u001b[32m'Thảo luận nhóm và Chốt kiến thức'\u001b[0m\n",
       "\u001b[1m}\u001b[0m\n"
      ]
     },
     "metadata": {},
     "output_type": "display_data"
    },
    {
     "data": {
      "text/html": [
       "<pre style=\"white-space:pre;overflow-x:auto;line-height:normal;font-family:Menlo,'DejaVu Sans Mono',consolas,'Courier New',monospace\">\n",
       "<span style=\"color: #808000; text-decoration-color: #808000; font-weight: bold\">------- Hoàn thành bước: activity_designer -------</span>\n",
       "</pre>\n"
      ],
      "text/plain": [
       "\n",
       "\u001b[1;33m------- Hoàn thành bước: activity_designer -------\u001b[0m\n"
      ]
     },
     "metadata": {},
     "output_type": "display_data"
    },
    {
     "data": {
      "text/html": [
       "<pre style=\"white-space:pre;overflow-x:auto;line-height:normal;font-family:Menlo,'DejaVu Sans Mono',consolas,'Courier New',monospace\">\n",
       "<span style=\"color: #008080; text-decoration-color: #008080; font-weight: bold\">&gt;</span> `Agent: Guardian Critic` <span style=\"font-weight: bold\">(</span>v12.<span style=\"color: #008080; text-decoration-color: #008080; font-weight: bold\">0</span><span style=\"font-weight: bold\">)</span> đang bảo vệ kế hoạch<span style=\"color: #808000; text-decoration-color: #808000\">...</span>\n",
       "</pre>\n"
      ],
      "text/plain": [
       "\n",
       "\u001b[1;36m>\u001b[0m `Agent: Guardian Critic` \u001b[1m(\u001b[0mv12.\u001b[1;36m0\u001b[0m\u001b[1m)\u001b[0m đang bảo vệ kế hoạch\u001b[33m...\u001b[0m\n"
      ]
     },
     "metadata": {},
     "output_type": "display_data"
    },
    {
     "data": {
      "text/html": [
       "<pre style=\"white-space:pre;overflow-x:auto;line-height:normal;font-family:Menlo,'DejaVu Sans Mono',consolas,'Courier New',monospace\"><span style=\"color: #808000; text-decoration-color: #808000; font-weight: bold\">⚠️  GUARDIAN PHẢN BIỆN: Nội dung chuyên môn về chuỗi thức ăn và vai trò của các sinh vật là chính xác và phù hợp. </span>\n",
       "<span style=\"color: #808000; text-decoration-color: #808000; font-weight: bold\">Tuy nhiên, kế hoạch này không khả thi trong </span><span style=\"color: #808000; text-decoration-color: #808000; font-weight: bold\">35</span><span style=\"color: #808000; text-decoration-color: #808000; font-weight: bold\"> phút. Cụ thể, </span><span style=\"color: #808000; text-decoration-color: #808000; font-weight: bold\">20</span><span style=\"color: #808000; text-decoration-color: #808000; font-weight: bold\"> phút dành cho hoạt động nhóm (quan sát, thảo luận, </span>\n",
       "<span style=\"color: #808000; text-decoration-color: #808000; font-weight: bold\">xác định mối quan hệ, vẽ/viết </span><span style=\"color: #808000; text-decoration-color: #808000; font-weight: bold\">2</span><span style=\"color: #808000; text-decoration-color: #808000; font-weight: bold\">-</span><span style=\"color: #808000; text-decoration-color: #808000; font-weight: bold\">3</span><span style=\"color: #808000; text-decoration-color: #808000; font-weight: bold\"> chuỗi thức ăn và chuẩn bị trình bày) là quá ngắn. Tương tự, </span><span style=\"color: #808000; text-decoration-color: #808000; font-weight: bold\">12</span><span style=\"color: #808000; text-decoration-color: #808000; font-weight: bold\"> phút để mời đại </span>\n",
       "<span style=\"color: #808000; text-decoration-color: #808000; font-weight: bold\">diện nhóm trình bày, nhận xét, chữa lỗi, bổ sung và chốt kiến thức trọng tâm về khái niệm chuỗi thức ăn cùng vai </span>\n",
       "<span style=\"color: #808000; text-decoration-color: #808000; font-weight: bold\">trò của các sinh vật (sản xuất, tiêu thụ, phân giải) cũng rất khó thực hiện đầy đủ. Hoạt động này cần nhiều thời </span>\n",
       "<span style=\"color: #808000; text-decoration-color: #808000; font-weight: bold\">gian hơn để học sinh có thể thực sự khám phá và củng cố kiến thức một cách hiệu quả. Hãy thiết kế lại một phiên bản</span>\n",
       "<span style=\"color: #808000; text-decoration-color: #808000; font-weight: bold\">đơn giản hơn để khớp với thời gian </span><span style=\"color: #808000; text-decoration-color: #808000; font-weight: bold\">35</span><span style=\"color: #808000; text-decoration-color: #808000; font-weight: bold\"> phút đã cho.</span>\n",
       "</pre>\n"
      ],
      "text/plain": [
       "\u001b[1;33m⚠️  GUARDIAN PHẢN BIỆN: Nội dung chuyên môn về chuỗi thức ăn và vai trò của các sinh vật là chính xác và phù hợp. \u001b[0m\n",
       "\u001b[1;33mTuy nhiên, kế hoạch này không khả thi trong \u001b[0m\u001b[1;33m35\u001b[0m\u001b[1;33m phút. Cụ thể, \u001b[0m\u001b[1;33m20\u001b[0m\u001b[1;33m phút dành cho hoạt động nhóm \u001b[0m\u001b[1;33m(\u001b[0m\u001b[1;33mquan sát, thảo luận, \u001b[0m\n",
       "\u001b[1;33mxác định mối quan hệ, vẽ/viết \u001b[0m\u001b[1;33m2\u001b[0m\u001b[1;33m-\u001b[0m\u001b[1;33m3\u001b[0m\u001b[1;33m chuỗi thức ăn và chuẩn bị trình bày\u001b[0m\u001b[1;33m)\u001b[0m\u001b[1;33m là quá ngắn. Tương tự, \u001b[0m\u001b[1;33m12\u001b[0m\u001b[1;33m phút để mời đại \u001b[0m\n",
       "\u001b[1;33mdiện nhóm trình bày, nhận xét, chữa lỗi, bổ sung và chốt kiến thức trọng tâm về khái niệm chuỗi thức ăn cùng vai \u001b[0m\n",
       "\u001b[1;33mtrò của các sinh vật \u001b[0m\u001b[1;33m(\u001b[0m\u001b[1;33msản xuất, tiêu thụ, phân giải\u001b[0m\u001b[1;33m)\u001b[0m\u001b[1;33m cũng rất khó thực hiện đầy đủ. Hoạt động này cần nhiều thời \u001b[0m\n",
       "\u001b[1;33mgian hơn để học sinh có thể thực sự khám phá và củng cố kiến thức một cách hiệu quả. Hãy thiết kế lại một phiên bản\u001b[0m\n",
       "\u001b[1;33mđơn giản hơn để khớp với thời gian \u001b[0m\u001b[1;33m35\u001b[0m\u001b[1;33m phút đã cho.\u001b[0m\n"
      ]
     },
     "metadata": {},
     "output_type": "display_data"
    },
    {
     "data": {
      "text/html": [
       "<pre style=\"white-space:pre;overflow-x:auto;line-height:normal;font-family:Menlo,'DejaVu Sans Mono',consolas,'Courier New',monospace\">\n",
       "<span style=\"color: #808000; text-decoration-color: #808000; font-weight: bold\">------- Hoàn thành bước: content_validator -------</span>\n",
       "</pre>\n"
      ],
      "text/plain": [
       "\n",
       "\u001b[1;33m------- Hoàn thành bước: content_validator -------\u001b[0m\n"
      ]
     },
     "metadata": {},
     "output_type": "display_data"
    },
    {
     "data": {
      "text/html": [
       "<pre style=\"white-space:pre;overflow-x:auto;line-height:normal;font-family:Menlo,'DejaVu Sans Mono',consolas,'Courier New',monospace\">\n",
       "<span style=\"color: #008080; text-decoration-color: #008080; font-weight: bold\">&gt;</span> `Agent: Task Dispatcher` đang giao việc<span style=\"color: #808000; text-decoration-color: #808000\">...</span>\n",
       "</pre>\n"
      ],
      "text/plain": [
       "\n",
       "\u001b[1;36m>\u001b[0m `Agent: Task Dispatcher` đang giao việc\u001b[33m...\u001b[0m\n"
      ]
     },
     "metadata": {},
     "output_type": "display_data"
    },
    {
     "data": {
      "text/html": [
       "<pre style=\"white-space:pre;overflow-x:auto;line-height:normal;font-family:Menlo,'DejaVu Sans Mono',consolas,'Courier New',monospace\">\n",
       "<span style=\"color: #008080; text-decoration-color: #008080; font-weight: bold\">&gt;</span> --- 🚚 `Dispatcher`: Giao nhiệm vụ cho `assessment_creator`.\n",
       "</pre>\n"
      ],
      "text/plain": [
       "\n",
       "\u001b[1;36m>\u001b[0m --- 🚚 `Dispatcher`: Giao nhiệm vụ cho `assessment_creator`.\n"
      ]
     },
     "metadata": {},
     "output_type": "display_data"
    },
    {
     "data": {
      "text/html": [
       "<pre style=\"white-space:pre;overflow-x:auto;line-height:normal;font-family:Menlo,'DejaVu Sans Mono',consolas,'Courier New',monospace\">\n",
       "<span style=\"color: #808000; text-decoration-color: #808000; font-weight: bold\">------- Hoàn thành bước: task_dispatcher -------</span>\n",
       "</pre>\n"
      ],
      "text/plain": [
       "\n",
       "\u001b[1;33m------- Hoàn thành bước: task_dispatcher -------\u001b[0m\n"
      ]
     },
     "metadata": {},
     "output_type": "display_data"
    },
    {
     "data": {
      "text/html": [
       "<pre style=\"white-space:pre;overflow-x:auto;line-height:normal;font-family:Menlo,'DejaVu Sans Mono',consolas,'Courier New',monospace\">\n",
       "<span style=\"color: #008080; text-decoration-color: #008080; font-weight: bold\">&gt;</span> `Agent: Assessment Creator` <span style=\"font-weight: bold\">(</span>v12.<span style=\"color: #008080; text-decoration-color: #008080; font-weight: bold\">0</span><span style=\"font-weight: bold\">)</span> đang tạo nội dung theo kỷ luật<span style=\"color: #808000; text-decoration-color: #808000\">...</span>\n",
       "</pre>\n"
      ],
      "text/plain": [
       "\n",
       "\u001b[1;36m>\u001b[0m `Agent: Assessment Creator` \u001b[1m(\u001b[0mv12.\u001b[1;36m0\u001b[0m\u001b[1m)\u001b[0m đang tạo nội dung theo kỷ luật\u001b[33m...\u001b[0m\n"
      ]
     },
     "metadata": {},
     "output_type": "display_data"
    },
    {
     "data": {
      "text/html": [
       "<pre style=\"white-space:pre;overflow-x:auto;line-height:normal;font-family:Menlo,'DejaVu Sans Mono',consolas,'Courier New',monospace\"><span style=\"color: #008000; text-decoration-color: #008000; font-weight: bold\">✔️ Nội dung do Assessment Creator tạo ra:</span>\n",
       "</pre>\n"
      ],
      "text/plain": [
       "\u001b[1;32m✔️ Nội dung do Assessment Creator tạo ra:\u001b[0m\n"
      ]
     },
     "metadata": {},
     "output_type": "display_data"
    },
    {
     "data": {
      "text/html": [
       "<pre style=\"white-space:pre;overflow-x:auto;line-height:normal;font-family:Menlo,'DejaVu Sans Mono',consolas,'Courier New',monospace\"><span style=\"font-weight: bold\">{</span>\n",
       "<span style=\"color: #7fbf7f; text-decoration-color: #7fbf7f\">│   </span><span style=\"color: #008000; text-decoration-color: #008000\">'activity_name'</span>: <span style=\"color: #008000; text-decoration-color: #008000\">'Khám phá và Xây dựng kiến thức mới: Chuỗi thức ăn'</span>,\n",
       "<span style=\"color: #7fbf7f; text-decoration-color: #7fbf7f\">│   </span><span style=\"color: #008000; text-decoration-color: #008000\">'duration_minutes'</span>: <span style=\"color: #008080; text-decoration-color: #008080; font-weight: bold\">35</span>,\n",
       "<span style=\"color: #7fbf7f; text-decoration-color: #7fbf7f\">│   </span><span style=\"color: #008000; text-decoration-color: #008000\">'teacher_actions'</span>: <span style=\"font-weight: bold\">[</span>\n",
       "<span style=\"color: #7fbf7f; text-decoration-color: #7fbf7f\">│   │   </span><span style=\"color: #008000; text-decoration-color: #008000\">'Giáo viên giới thiệu chủ đề \"Chuỗi thức ăn\" và tầm quan trọng của nó trong tự nhiên (3 phút).'</span>,\n",
       "<span style=\"color: #7fbf7f; text-decoration-color: #7fbf7f\">│   │   </span><span style=\"color: #008000; text-decoration-color: #008000\">'Giáo viên phát phiếu bài tập hoặc chiếu đề bài lên bảng. Hướng dẫn học sinh đọc kỹ yêu cầu và làm việc cá nhân hoặc theo cặp (2 phút).'</span>,\n",
       "<span style=\"color: #7fbf7f; text-decoration-color: #7fbf7f\">│   │   </span><span style=\"color: #008000; text-decoration-color: #008000\">'Giáo viên quan sát, hỗ trợ, gợi ý cho học sinh trong quá trình làm bài. Khuyến khích học sinh thảo luận nhỏ trong cặp (15 phút).'</span>,\n",
       "<span style=\"color: #7fbf7f; text-decoration-color: #7fbf7f\">│   │   </span><span style=\"color: #008000; text-decoration-color: #008000\">'Giáo viên mời 1-2 học sinh/cặp trình bày nhanh chuỗi thức ăn và vai trò của các sinh vật mà họ đã xây dựng (5 phút).'</span>,\n",
       "<span style=\"color: #7fbf7f; text-decoration-color: #7fbf7f\">│   │   </span><span style=\"color: #008000; text-decoration-color: #008000\">'Giáo viên nhận xét, chữa lỗi, bổ sung và chốt kiến thức trọng tâm về khái niệm chuỗi thức ăn, các mắt xích trong chuỗi (sinh vật sản xuất, sinh vật tiêu thụ các bậc, sinh vật phân giải) (8 phút).'</span>,\n",
       "<span style=\"color: #7fbf7f; text-decoration-color: #7fbf7f\">│   │   </span><span style=\"color: #008000; text-decoration-color: #008000\">'Giáo viên giao nhiệm vụ mở rộng (nếu còn thời gian) hoặc dặn dò về nhà (2 phút).'</span>\n",
       "<span style=\"color: #7fbf7f; text-decoration-color: #7fbf7f\">│   </span><span style=\"font-weight: bold\">]</span>,\n",
       "<span style=\"color: #7fbf7f; text-decoration-color: #7fbf7f\">│   </span><span style=\"color: #008000; text-decoration-color: #008000\">'core_component'</span>: <span style=\"color: #008000; text-decoration-color: #008000\">'Từ các sinh vật sau: Cỏ, Thỏ, Cáo, Vi khuẩn, Đại bàng. Em hãy xây dựng MỘT chuỗi thức ăn hoàn chỉnh và xác định vai trò của từng sinh vật trong chuỗi đó (sinh vật sản xuất, sinh vật tiêu thụ bậc 1, 2, 3, sinh vật phân giải).'</span>,\n",
       "<span style=\"color: #7fbf7f; text-decoration-color: #7fbf7f\">│   </span><span style=\"color: #008000; text-decoration-color: #008000\">'extension_component'</span>: <span style=\"color: #008000; text-decoration-color: #008000\">'Hãy xây dựng thêm MỘT chuỗi thức ăn khác từ các sinh vật đã cho hoặc bổ sung thêm các sinh vật khác để tạo thành một lưới thức ăn đơn giản.'</span>,\n",
       "<span style=\"color: #7fbf7f; text-decoration-color: #7fbf7f\">│   </span><span style=\"color: #008000; text-decoration-color: #008000\">'answer'</span>: <span style=\"color: #008000; text-decoration-color: #008000\">'Chuỗi thức ăn: Cỏ -&gt; Thỏ -&gt; Cáo -&gt; Đại bàng -&gt; Vi khuẩn. Vai trò của từng sinh vật: Cỏ (Sinh vật sản xuất), Thỏ (Sinh vật tiêu thụ bậc 1), Cáo (Sinh vật tiêu thụ bậc 2), Đại bàng (Sinh vật tiêu thụ bậc 3), Vi khuẩn (Sinh vật phân giải).'</span>,\n",
       "<span style=\"color: #7fbf7f; text-decoration-color: #7fbf7f\">│   </span><span style=\"color: #008000; text-decoration-color: #008000\">'solution_guide'</span>: <span style=\"color: #800080; text-decoration-color: #800080; font-style: italic\">None</span>,\n",
       "<span style=\"color: #7fbf7f; text-decoration-color: #7fbf7f\">│   </span><span style=\"color: #008000; text-decoration-color: #008000\">'differentiation'</span>: <span style=\"font-weight: bold\">{</span>\n",
       "<span style=\"color: #7fbf7f; text-decoration-color: #7fbf7f\">│   │   </span><span style=\"color: #008000; text-decoration-color: #008000\">'for_struggling_students'</span>: <span style=\"color: #008000; text-decoration-color: #008000\">'Cung cấp thẻ hình ảnh các sinh vật thay vì chỉ tên chữ. Gợi ý các mối quan hệ cơ bản (ví dụ: \"Cỏ là thức ăn của con gì?\"). Chỉ yêu cầu xác định 2-3 vai trò chính (sinh vật sản xuất, sinh vật tiêu thụ, sinh vật phân giải) thay vì phân biệt bậc tiêu thụ. Có thể cho sẵn một phần của chuỗi thức ăn và yêu cầu điền vào chỗ trống.'</span>,\n",
       "<span style=\"color: #7fbf7f; text-decoration-color: #7fbf7f\">│   │   </span><span style=\"color: #008000; text-decoration-color: #008000\">'for_advanced_students'</span>: <span style=\"color: #008000; text-decoration-color: #008000\">'Yêu cầu học sinh xây dựng thêm 1-2 chuỗi thức ăn khác từ danh sách đã cho, hoặc bổ sung thêm các sinh vật khác để tạo thành một lưới thức ăn đơn giản. Học sinh có thể giải thích tại sao một sinh vật lại có vai trò đó, hoặc nêu ví dụ về tác động khi một mắt xích trong chuỗi bị mất đi.'</span>\n",
       "<span style=\"color: #7fbf7f; text-decoration-color: #7fbf7f\">│   </span><span style=\"font-weight: bold\">}</span>,\n",
       "<span style=\"color: #7fbf7f; text-decoration-color: #7fbf7f\">│   </span><span style=\"color: #008000; text-decoration-color: #008000\">'content_type'</span>: <span style=\"color: #008000; text-decoration-color: #008000\">'Tự luận'</span>\n",
       "<span style=\"font-weight: bold\">}</span>\n",
       "</pre>\n"
      ],
      "text/plain": [
       "\u001b[1m{\u001b[0m\n",
       "\u001b[2;32m│   \u001b[0m\u001b[32m'activity_name'\u001b[0m: \u001b[32m'Khám phá và Xây dựng kiến thức mới: Chuỗi thức ăn'\u001b[0m,\n",
       "\u001b[2;32m│   \u001b[0m\u001b[32m'duration_minutes'\u001b[0m: \u001b[1;36m35\u001b[0m,\n",
       "\u001b[2;32m│   \u001b[0m\u001b[32m'teacher_actions'\u001b[0m: \u001b[1m[\u001b[0m\n",
       "\u001b[2;32m│   │   \u001b[0m\u001b[32m'Giáo viên giới thiệu chủ đề \"Chuỗi thức ăn\" và tầm quan trọng của nó trong tự nhiên \u001b[0m\u001b[32m(\u001b[0m\u001b[32m3 phút\u001b[0m\u001b[32m)\u001b[0m\u001b[32m.'\u001b[0m,\n",
       "\u001b[2;32m│   │   \u001b[0m\u001b[32m'Giáo viên phát phiếu bài tập hoặc chiếu đề bài lên bảng. Hướng dẫn học sinh đọc kỹ yêu cầu và làm việc cá nhân hoặc theo cặp \u001b[0m\u001b[32m(\u001b[0m\u001b[32m2 phút\u001b[0m\u001b[32m)\u001b[0m\u001b[32m.'\u001b[0m,\n",
       "\u001b[2;32m│   │   \u001b[0m\u001b[32m'Giáo viên quan sát, hỗ trợ, gợi ý cho học sinh trong quá trình làm bài. Khuyến khích học sinh thảo luận nhỏ trong cặp \u001b[0m\u001b[32m(\u001b[0m\u001b[32m15 phút\u001b[0m\u001b[32m)\u001b[0m\u001b[32m.'\u001b[0m,\n",
       "\u001b[2;32m│   │   \u001b[0m\u001b[32m'Giáo viên mời 1-2 học sinh/cặp trình bày nhanh chuỗi thức ăn và vai trò của các sinh vật mà họ đã xây dựng \u001b[0m\u001b[32m(\u001b[0m\u001b[32m5 phút\u001b[0m\u001b[32m)\u001b[0m\u001b[32m.'\u001b[0m,\n",
       "\u001b[2;32m│   │   \u001b[0m\u001b[32m'Giáo viên nhận xét, chữa lỗi, bổ sung và chốt kiến thức trọng tâm về khái niệm chuỗi thức ăn, các mắt xích trong chuỗi \u001b[0m\u001b[32m(\u001b[0m\u001b[32msinh vật sản xuất, sinh vật tiêu thụ các bậc, sinh vật phân giải\u001b[0m\u001b[32m)\u001b[0m\u001b[32m \u001b[0m\u001b[32m(\u001b[0m\u001b[32m8 phút\u001b[0m\u001b[32m)\u001b[0m\u001b[32m.'\u001b[0m,\n",
       "\u001b[2;32m│   │   \u001b[0m\u001b[32m'Giáo viên giao nhiệm vụ mở rộng \u001b[0m\u001b[32m(\u001b[0m\u001b[32mnếu còn thời gian\u001b[0m\u001b[32m)\u001b[0m\u001b[32m hoặc dặn dò về nhà \u001b[0m\u001b[32m(\u001b[0m\u001b[32m2 phút\u001b[0m\u001b[32m)\u001b[0m\u001b[32m.'\u001b[0m\n",
       "\u001b[2;32m│   \u001b[0m\u001b[1m]\u001b[0m,\n",
       "\u001b[2;32m│   \u001b[0m\u001b[32m'core_component'\u001b[0m: \u001b[32m'Từ các sinh vật sau: Cỏ, Thỏ, Cáo, Vi khuẩn, Đại bàng. Em hãy xây dựng MỘT chuỗi thức ăn hoàn chỉnh và xác định vai trò của từng sinh vật trong chuỗi đó \u001b[0m\u001b[32m(\u001b[0m\u001b[32msinh vật sản xuất, sinh vật tiêu thụ bậc 1, 2, 3, sinh vật phân giải\u001b[0m\u001b[32m)\u001b[0m\u001b[32m.'\u001b[0m,\n",
       "\u001b[2;32m│   \u001b[0m\u001b[32m'extension_component'\u001b[0m: \u001b[32m'Hãy xây dựng thêm MỘT chuỗi thức ăn khác từ các sinh vật đã cho hoặc bổ sung thêm các sinh vật khác để tạo thành một lưới thức ăn đơn giản.'\u001b[0m,\n",
       "\u001b[2;32m│   \u001b[0m\u001b[32m'answer'\u001b[0m: \u001b[32m'Chuỗi thức ăn: Cỏ -> Thỏ -> Cáo -> Đại bàng -> Vi khuẩn. Vai trò của từng sinh vật: Cỏ \u001b[0m\u001b[32m(\u001b[0m\u001b[32mSinh vật sản xuất\u001b[0m\u001b[32m)\u001b[0m\u001b[32m, Thỏ \u001b[0m\u001b[32m(\u001b[0m\u001b[32mSinh vật tiêu thụ bậc 1\u001b[0m\u001b[32m)\u001b[0m\u001b[32m, Cáo \u001b[0m\u001b[32m(\u001b[0m\u001b[32mSinh vật tiêu thụ bậc 2\u001b[0m\u001b[32m)\u001b[0m\u001b[32m, Đại bàng \u001b[0m\u001b[32m(\u001b[0m\u001b[32mSinh vật tiêu thụ bậc 3\u001b[0m\u001b[32m)\u001b[0m\u001b[32m, Vi khuẩn \u001b[0m\u001b[32m(\u001b[0m\u001b[32mSinh vật phân giải\u001b[0m\u001b[32m)\u001b[0m\u001b[32m.'\u001b[0m,\n",
       "\u001b[2;32m│   \u001b[0m\u001b[32m'solution_guide'\u001b[0m: \u001b[3;35mNone\u001b[0m,\n",
       "\u001b[2;32m│   \u001b[0m\u001b[32m'differentiation'\u001b[0m: \u001b[1m{\u001b[0m\n",
       "\u001b[2;32m│   │   \u001b[0m\u001b[32m'for_struggling_students'\u001b[0m: \u001b[32m'Cung cấp thẻ hình ảnh các sinh vật thay vì chỉ tên chữ. Gợi ý các mối quan hệ cơ bản \u001b[0m\u001b[32m(\u001b[0m\u001b[32mví dụ: \"Cỏ là thức ăn của con gì?\"\u001b[0m\u001b[32m)\u001b[0m\u001b[32m. Chỉ yêu cầu xác định 2-3 vai trò chính \u001b[0m\u001b[32m(\u001b[0m\u001b[32msinh vật sản xuất, sinh vật tiêu thụ, sinh vật phân giải\u001b[0m\u001b[32m)\u001b[0m\u001b[32m thay vì phân biệt bậc tiêu thụ. Có thể cho sẵn một phần của chuỗi thức ăn và yêu cầu điền vào chỗ trống.'\u001b[0m,\n",
       "\u001b[2;32m│   │   \u001b[0m\u001b[32m'for_advanced_students'\u001b[0m: \u001b[32m'Yêu cầu học sinh xây dựng thêm 1-2 chuỗi thức ăn khác từ danh sách đã cho, hoặc bổ sung thêm các sinh vật khác để tạo thành một lưới thức ăn đơn giản. Học sinh có thể giải thích tại sao một sinh vật lại có vai trò đó, hoặc nêu ví dụ về tác động khi một mắt xích trong chuỗi bị mất đi.'\u001b[0m\n",
       "\u001b[2;32m│   \u001b[0m\u001b[1m}\u001b[0m,\n",
       "\u001b[2;32m│   \u001b[0m\u001b[32m'content_type'\u001b[0m: \u001b[32m'Tự luận'\u001b[0m\n",
       "\u001b[1m}\u001b[0m\n"
      ]
     },
     "metadata": {},
     "output_type": "display_data"
    },
    {
     "data": {
      "text/html": [
       "<pre style=\"white-space:pre;overflow-x:auto;line-height:normal;font-family:Menlo,'DejaVu Sans Mono',consolas,'Courier New',monospace\">\n",
       "<span style=\"color: #808000; text-decoration-color: #808000; font-weight: bold\">------- Hoàn thành bước: assessment_creator -------</span>\n",
       "</pre>\n"
      ],
      "text/plain": [
       "\n",
       "\u001b[1;33m------- Hoàn thành bước: assessment_creator -------\u001b[0m\n"
      ]
     },
     "metadata": {},
     "output_type": "display_data"
    },
    {
     "data": {
      "text/html": [
       "<pre style=\"white-space:pre;overflow-x:auto;line-height:normal;font-family:Menlo,'DejaVu Sans Mono',consolas,'Courier New',monospace\">\n",
       "<span style=\"color: #008080; text-decoration-color: #008080; font-weight: bold\">&gt;</span> `Agent: Guardian Critic` <span style=\"font-weight: bold\">(</span>v12.<span style=\"color: #008080; text-decoration-color: #008080; font-weight: bold\">0</span><span style=\"font-weight: bold\">)</span> đang bảo vệ kế hoạch<span style=\"color: #808000; text-decoration-color: #808000\">...</span>\n",
       "</pre>\n"
      ],
      "text/plain": [
       "\n",
       "\u001b[1;36m>\u001b[0m `Agent: Guardian Critic` \u001b[1m(\u001b[0mv12.\u001b[1;36m0\u001b[0m\u001b[1m)\u001b[0m đang bảo vệ kế hoạch\u001b[33m...\u001b[0m\n"
      ]
     },
     "metadata": {},
     "output_type": "display_data"
    },
    {
     "data": {
      "text/html": [
       "<pre style=\"white-space:pre;overflow-x:auto;line-height:normal;font-family:Menlo,'DejaVu Sans Mono',consolas,'Courier New',monospace\">\n",
       "<span style=\"color: #008080; text-decoration-color: #008080; font-weight: bold\">&gt;</span> ✔️ GUARDIAN: Nội dung tuân thủ kế hoạch!\n",
       "</pre>\n"
      ],
      "text/plain": [
       "\n",
       "\u001b[1;36m>\u001b[0m ✔️ GUARDIAN: Nội dung tuân thủ kế hoạch!\n"
      ]
     },
     "metadata": {},
     "output_type": "display_data"
    },
    {
     "data": {
      "text/html": [
       "<pre style=\"white-space:pre;overflow-x:auto;line-height:normal;font-family:Menlo,'DejaVu Sans Mono',consolas,'Courier New',monospace\">\n",
       "<span style=\"color: #808000; text-decoration-color: #808000; font-weight: bold\">------- Hoàn thành bước: content_validator -------</span>\n",
       "</pre>\n"
      ],
      "text/plain": [
       "\n",
       "\u001b[1;33m------- Hoàn thành bước: content_validator -------\u001b[0m\n"
      ]
     },
     "metadata": {},
     "output_type": "display_data"
    },
    {
     "data": {
      "text/html": [
       "<pre style=\"white-space:pre;overflow-x:auto;line-height:normal;font-family:Menlo,'DejaVu Sans Mono',consolas,'Courier New',monospace\">\n",
       "<span style=\"color: #008080; text-decoration-color: #008080; font-weight: bold\">&gt;</span> `Commiter`: Đang ghi nhận nội dung đã được xác thực<span style=\"color: #808000; text-decoration-color: #808000\">...</span>\n",
       "</pre>\n"
      ],
      "text/plain": [
       "\n",
       "\u001b[1;36m>\u001b[0m `Commiter`: Đang ghi nhận nội dung đã được xác thực\u001b[33m...\u001b[0m\n"
      ]
     },
     "metadata": {},
     "output_type": "display_data"
    },
    {
     "data": {
      "text/html": [
       "<pre style=\"white-space:pre;overflow-x:auto;line-height:normal;font-family:Menlo,'DejaVu Sans Mono',consolas,'Courier New',monospace\">\n",
       "<span style=\"color: #808000; text-decoration-color: #808000; font-weight: bold\">------- Hoàn thành bước: commit_validated_content -------</span>\n",
       "</pre>\n"
      ],
      "text/plain": [
       "\n",
       "\u001b[1;33m------- Hoàn thành bước: commit_validated_content -------\u001b[0m\n"
      ]
     },
     "metadata": {},
     "output_type": "display_data"
    },
    {
     "data": {
      "text/html": [
       "<pre style=\"white-space:pre;overflow-x:auto;line-height:normal;font-family:Menlo,'DejaVu Sans Mono',consolas,'Courier New',monospace\">\n",
       "<span style=\"color: #808000; text-decoration-color: #808000; font-weight: bold\">------- Hoàn thành bước: mark_task_complete -------</span>\n",
       "</pre>\n"
      ],
      "text/plain": [
       "\n",
       "\u001b[1;33m------- Hoàn thành bước: mark_task_complete -------\u001b[0m\n"
      ]
     },
     "metadata": {},
     "output_type": "display_data"
    },
    {
     "data": {
      "text/html": [
       "<pre style=\"white-space:pre;overflow-x:auto;line-height:normal;font-family:Menlo,'DejaVu Sans Mono',consolas,'Courier New',monospace\">\n",
       "<span style=\"color: #808000; text-decoration-color: #808000; font-weight: bold\">------- Hoàn thành bước: delay_node -------</span>\n",
       "</pre>\n"
      ],
      "text/plain": [
       "\n",
       "\u001b[1;33m------- Hoàn thành bước: delay_node -------\u001b[0m\n"
      ]
     },
     "metadata": {},
     "output_type": "display_data"
    },
    {
     "data": {
      "text/html": [
       "<pre style=\"white-space:pre;overflow-x:auto;line-height:normal;font-family:Menlo,'DejaVu Sans Mono',consolas,'Courier New',monospace\">\n",
       "<span style=\"color: #008080; text-decoration-color: #008080; font-weight: bold\">&gt;</span> `Router`: Đang kiểm tra nhiệm vụ<span style=\"color: #808000; text-decoration-color: #808000\">...</span>\n",
       "</pre>\n"
      ],
      "text/plain": [
       "\n",
       "\u001b[1;36m>\u001b[0m `Router`: Đang kiểm tra nhiệm vụ\u001b[33m...\u001b[0m\n"
      ]
     },
     "metadata": {},
     "output_type": "display_data"
    },
    {
     "data": {
      "text/html": [
       "<pre style=\"white-space:pre;overflow-x:auto;line-height:normal;font-family:Menlo,'DejaVu Sans Mono',consolas,'Courier New',monospace\">\n",
       "<span style=\"color: #008080; text-decoration-color: #008080; font-weight: bold\">&gt;</span> Nhiệm vụ tiếp theo: <span style=\"color: #008000; text-decoration-color: #008000\">'Trình bày và Hệ thống hóa kiến thức'</span> <span style=\"font-weight: bold\">(</span>ID: <span style=\"color: #008080; text-decoration-color: #008080; font-weight: bold\">2</span><span style=\"font-weight: bold\">)</span>\n",
       "</pre>\n"
      ],
      "text/plain": [
       "\n",
       "\u001b[1;36m>\u001b[0m Nhiệm vụ tiếp theo: \u001b[32m'Trình bày và Hệ thống hóa kiến thức'\u001b[0m \u001b[1m(\u001b[0mID: \u001b[1;36m2\u001b[0m\u001b[1m)\u001b[0m\n"
      ]
     },
     "metadata": {},
     "output_type": "display_data"
    },
    {
     "data": {
      "text/html": [
       "<pre style=\"white-space:pre;overflow-x:auto;line-height:normal;font-family:Menlo,'DejaVu Sans Mono',consolas,'Courier New',monospace\">\n",
       "<span style=\"color: #808000; text-decoration-color: #808000; font-weight: bold\">------- Hoàn thành bước: task_router -------</span>\n",
       "</pre>\n"
      ],
      "text/plain": [
       "\n",
       "\u001b[1;33m------- Hoàn thành bước: task_router -------\u001b[0m\n"
      ]
     },
     "metadata": {},
     "output_type": "display_data"
    },
    {
     "data": {
      "text/html": [
       "<pre style=\"white-space:pre;overflow-x:auto;line-height:normal;font-family:Menlo,'DejaVu Sans Mono',consolas,'Courier New',monospace\">\n",
       "<span style=\"color: #008080; text-decoration-color: #008080; font-weight: bold\">&gt;</span> `Agent: Task Dispatcher` đang giao việc<span style=\"color: #808000; text-decoration-color: #808000\">...</span>\n",
       "</pre>\n"
      ],
      "text/plain": [
       "\n",
       "\u001b[1;36m>\u001b[0m `Agent: Task Dispatcher` đang giao việc\u001b[33m...\u001b[0m\n"
      ]
     },
     "metadata": {},
     "output_type": "display_data"
    },
    {
     "data": {
      "text/html": [
       "<pre style=\"white-space:pre;overflow-x:auto;line-height:normal;font-family:Menlo,'DejaVu Sans Mono',consolas,'Courier New',monospace\">\n",
       "<span style=\"color: #008080; text-decoration-color: #008080; font-weight: bold\">&gt;</span> --- 🚚 `Dispatcher`: Giao nhiệm vụ cho `assessment_creator`.\n",
       "</pre>\n"
      ],
      "text/plain": [
       "\n",
       "\u001b[1;36m>\u001b[0m --- 🚚 `Dispatcher`: Giao nhiệm vụ cho `assessment_creator`.\n"
      ]
     },
     "metadata": {},
     "output_type": "display_data"
    },
    {
     "data": {
      "text/html": [
       "<pre style=\"white-space:pre;overflow-x:auto;line-height:normal;font-family:Menlo,'DejaVu Sans Mono',consolas,'Courier New',monospace\">\n",
       "<span style=\"color: #808000; text-decoration-color: #808000; font-weight: bold\">------- Hoàn thành bước: task_dispatcher -------</span>\n",
       "</pre>\n"
      ],
      "text/plain": [
       "\n",
       "\u001b[1;33m------- Hoàn thành bước: task_dispatcher -------\u001b[0m\n"
      ]
     },
     "metadata": {},
     "output_type": "display_data"
    },
    {
     "data": {
      "text/html": [
       "<pre style=\"white-space:pre;overflow-x:auto;line-height:normal;font-family:Menlo,'DejaVu Sans Mono',consolas,'Courier New',monospace\">\n",
       "<span style=\"color: #008080; text-decoration-color: #008080; font-weight: bold\">&gt;</span> `Agent: Assessment Creator` <span style=\"font-weight: bold\">(</span>v12.<span style=\"color: #008080; text-decoration-color: #008080; font-weight: bold\">0</span><span style=\"font-weight: bold\">)</span> đang tạo nội dung theo kỷ luật<span style=\"color: #808000; text-decoration-color: #808000\">...</span>\n",
       "</pre>\n"
      ],
      "text/plain": [
       "\n",
       "\u001b[1;36m>\u001b[0m `Agent: Assessment Creator` \u001b[1m(\u001b[0mv12.\u001b[1;36m0\u001b[0m\u001b[1m)\u001b[0m đang tạo nội dung theo kỷ luật\u001b[33m...\u001b[0m\n"
      ]
     },
     "metadata": {},
     "output_type": "display_data"
    },
    {
     "data": {
      "text/html": [
       "<pre style=\"white-space:pre;overflow-x:auto;line-height:normal;font-family:Menlo,'DejaVu Sans Mono',consolas,'Courier New',monospace\"><span style=\"color: #008000; text-decoration-color: #008000; font-weight: bold\">✔️ Nội dung do Assessment Creator tạo ra:</span>\n",
       "</pre>\n"
      ],
      "text/plain": [
       "\u001b[1;32m✔️ Nội dung do Assessment Creator tạo ra:\u001b[0m\n"
      ]
     },
     "metadata": {},
     "output_type": "display_data"
    },
    {
     "data": {
      "text/html": [
       "<pre style=\"white-space:pre;overflow-x:auto;line-height:normal;font-family:Menlo,'DejaVu Sans Mono',consolas,'Courier New',monospace\"><span style=\"font-weight: bold\">{</span>\n",
       "<span style=\"color: #7fbf7f; text-decoration-color: #7fbf7f\">│   </span><span style=\"color: #008000; text-decoration-color: #008000\">'activity_name'</span>: <span style=\"color: #008000; text-decoration-color: #008000\">'Trình bày và Hệ thống hóa kiến thức'</span>,\n",
       "<span style=\"color: #7fbf7f; text-decoration-color: #7fbf7f\">│   </span><span style=\"color: #008000; text-decoration-color: #008000\">'duration_minutes'</span>: <span style=\"color: #008080; text-decoration-color: #008080; font-weight: bold\">25</span>,\n",
       "<span style=\"color: #7fbf7f; text-decoration-color: #7fbf7f\">│   </span><span style=\"color: #008000; text-decoration-color: #008000\">'teacher_actions'</span>: <span style=\"font-weight: bold\">[</span>\n",
       "<span style=\"color: #7fbf7f; text-decoration-color: #7fbf7f\">│   │   </span><span style=\"color: #008000; text-decoration-color: #008000\">'Giới thiệu mục tiêu và yêu cầu của hoạt động.'</span>,\n",
       "<span style=\"color: #7fbf7f; text-decoration-color: #7fbf7f\">│   │   </span><span style=\"color: #008000; text-decoration-color: #008000\">'Phát đề bài và hướng dẫn học sinh chọn chủ đề phù hợp.'</span>,\n",
       "<span style=\"color: #7fbf7f; text-decoration-color: #7fbf7f\">│   │   </span><span style=\"color: #008000; text-decoration-color: #008000\">'Quan sát, đi lại trong lớp, hỗ trợ và gợi ý cho học sinh khi cần thiết (ví dụ: gợi ý cách bắt đầu, cách sắp xếp ý).'</span>,\n",
       "<span style=\"color: #7fbf7f; text-decoration-color: #7fbf7f\">│   │   </span><span style=\"color: #008000; text-decoration-color: #008000\">'Nhắc nhở thời gian còn lại.'</span>,\n",
       "<span style=\"color: #7fbf7f; text-decoration-color: #7fbf7f\">│   │   </span><span style=\"color: #008000; text-decoration-color: #008000\">'Thu bài và nhận xét chung về các cách hệ thống hóa kiến thức của học sinh.'</span>\n",
       "<span style=\"color: #7fbf7f; text-decoration-color: #7fbf7f\">│   </span><span style=\"font-weight: bold\">]</span>,\n",
       "<span style=\"color: #7fbf7f; text-decoration-color: #7fbf7f\">│   </span><span style=\"color: #008000; text-decoration-color: #008000\">'core_component'</span>: <span style=\"color: #008000; text-decoration-color: #008000\">'Chọn một chủ đề kiến thức trọng tâm đã học gần đây (ví dụ: một khái niệm khoa học, một sự kiện lịch sử quan trọng, hoặc một dạng bài tập toán học). Hãy trình bày và hệ thống hóa các kiến thức về chủ đề đó dưới dạng sơ đồ tư duy hoặc dàn ý chi tiết. Đảm bảo sơ đồ/dàn ý của bạn bao gồm: 1. Định nghĩa/Khái niệm chính. 2. Các đặc điểm/yếu tố cấu thành. 3. Mối quan hệ/liên kết giữa các yếu tố. 4. Ví dụ minh họa (nếu có).'</span>,\n",
       "<span style=\"color: #7fbf7f; text-decoration-color: #7fbf7f\">│   </span><span style=\"color: #008000; text-decoration-color: #008000\">'extension_component'</span>: <span style=\"color: #008000; text-decoration-color: #008000\">'Dựa trên sơ đồ/dàn ý đã lập, hãy phân tích sâu hơn một khía cạnh cụ thể của chủ đề hoặc đề xuất một vấn đề nghiên cứu/ứng dụng liên quan đến chủ đề đó trong thực tiễn.'</span>,\n",
       "<span style=\"color: #7fbf7f; text-decoration-color: #7fbf7f\">│   </span><span style=\"color: #008000; text-decoration-color: #008000\">'answer'</span>: <span style=\"color: #008000; text-decoration-color: #008000\">'Đáp án sẽ phụ thuộc vào chủ đề học sinh chọn. Tuy nhiên, một đáp án đạt yêu cầu cần thể hiện được: 1. Sự hiểu biết chính xác về khái niệm/chủ đề. 2. Khả năng phân tích và chia nhỏ kiến thức thành các phần rõ ràng. 3. Khả năng nhận diện và trình bày mối liên hệ logic giữa các phần. 4. Sự rõ ràng, mạch lạc trong cách trình bày (sơ đồ tư duy hoặc dàn ý).'</span>,\n",
       "<span style=\"color: #7fbf7f; text-decoration-color: #7fbf7f\">│   </span><span style=\"color: #008000; text-decoration-color: #008000\">'solution_guide'</span>: <span style=\"color: #008000; text-decoration-color: #008000\">'1. Chọn chủ đề: Học sinh chọn một chủ đề đã học mà mình nắm vững hoặc muốn đào sâu. 2. Thu thập thông tin: Ghi lại các khái niệm, đặc điểm, sự kiện, công thức liên quan đến chủ đề. 3. Phân loại và nhóm: Sắp xếp các thông tin thành các nhóm lớn, nhỏ. 4. Xác định mối quan hệ: Tìm ra cách các nhóm thông tin liên kết với nhau (nguyên nhân-kết quả, so sánh-đối chiếu, trình tự thời gian, v.v.). 5. Lựa chọn hình thức trình bày: Sơ đồ tư duy (đặt chủ đề chính ở trung tâm, các nhánh lớn là các nhóm thông tin chính, các nhánh nhỏ là chi tiết và ví dụ) hoặc Dàn ý chi tiết (sử dụng các đề mục lớn, nhỏ để trình bày theo cấu trúc logic). 6. Kiểm tra và chỉnh sửa: Đảm bảo đầy đủ, chính xác, logic và dễ hiểu.'</span>,\n",
       "<span style=\"color: #7fbf7f; text-decoration-color: #7fbf7f\">│   </span><span style=\"color: #008000; text-decoration-color: #008000\">'differentiation'</span>: <span style=\"font-weight: bold\">{</span>\n",
       "<span style=\"color: #7fbf7f; text-decoration-color: #7fbf7f\">│   │   </span><span style=\"color: #008000; text-decoration-color: #008000\">'for_struggling_students'</span>: <span style=\"color: #008000; text-decoration-color: #008000\">'Cung cấp sẵn một danh sách các chủ đề gợi ý cụ thể và hẹp hơn để học sinh dễ dàng lựa chọn. Có thể cung cấp một mẫu sơ đồ tư duy hoặc dàn ý trống với các nhánh/mục chính đã được định sẵn để học sinh chỉ cần điền thông tin. Cho phép học sinh làm việc theo cặp để hỗ trợ lẫn nhau.'</span>,\n",
       "<span style=\"color: #7fbf7f; text-decoration-color: #7fbf7f\">│   │   </span><span style=\"color: #008000; text-decoration-color: #008000\">'for_advanced_students'</span>: <span style=\"color: #008000; text-decoration-color: #008000\">'Yêu cầu học sinh không chỉ hệ thống hóa mà còn phải phân tích sâu hơn một khía cạnh cụ thể của chủ đề, hoặc so sánh chủ đề đã chọn với một chủ đề khác có liên quan. Học sinh có thể được yêu cầu trình bày bằng một hình thức sáng tạo hơn (ví dụ: infographic, bài thuyết trình ngắn) nếu có đủ thời gian và công cụ.'</span>\n",
       "<span style=\"color: #7fbf7f; text-decoration-color: #7fbf7f\">│   </span><span style=\"font-weight: bold\">}</span>,\n",
       "<span style=\"color: #7fbf7f; text-decoration-color: #7fbf7f\">│   </span><span style=\"color: #008000; text-decoration-color: #008000\">'content_type'</span>: <span style=\"color: #008000; text-decoration-color: #008000\">'Tự luận'</span>\n",
       "<span style=\"font-weight: bold\">}</span>\n",
       "</pre>\n"
      ],
      "text/plain": [
       "\u001b[1m{\u001b[0m\n",
       "\u001b[2;32m│   \u001b[0m\u001b[32m'activity_name'\u001b[0m: \u001b[32m'Trình bày và Hệ thống hóa kiến thức'\u001b[0m,\n",
       "\u001b[2;32m│   \u001b[0m\u001b[32m'duration_minutes'\u001b[0m: \u001b[1;36m25\u001b[0m,\n",
       "\u001b[2;32m│   \u001b[0m\u001b[32m'teacher_actions'\u001b[0m: \u001b[1m[\u001b[0m\n",
       "\u001b[2;32m│   │   \u001b[0m\u001b[32m'Giới thiệu mục tiêu và yêu cầu của hoạt động.'\u001b[0m,\n",
       "\u001b[2;32m│   │   \u001b[0m\u001b[32m'Phát đề bài và hướng dẫn học sinh chọn chủ đề phù hợp.'\u001b[0m,\n",
       "\u001b[2;32m│   │   \u001b[0m\u001b[32m'Quan sát, đi lại trong lớp, hỗ trợ và gợi ý cho học sinh khi cần thiết \u001b[0m\u001b[32m(\u001b[0m\u001b[32mví dụ: gợi ý cách bắt đầu, cách sắp xếp ý\u001b[0m\u001b[32m)\u001b[0m\u001b[32m.'\u001b[0m,\n",
       "\u001b[2;32m│   │   \u001b[0m\u001b[32m'Nhắc nhở thời gian còn lại.'\u001b[0m,\n",
       "\u001b[2;32m│   │   \u001b[0m\u001b[32m'Thu bài và nhận xét chung về các cách hệ thống hóa kiến thức của học sinh.'\u001b[0m\n",
       "\u001b[2;32m│   \u001b[0m\u001b[1m]\u001b[0m,\n",
       "\u001b[2;32m│   \u001b[0m\u001b[32m'core_component'\u001b[0m: \u001b[32m'Chọn một chủ đề kiến thức trọng tâm đã học gần đây \u001b[0m\u001b[32m(\u001b[0m\u001b[32mví dụ: một khái niệm khoa học, một sự kiện lịch sử quan trọng, hoặc một dạng bài tập toán học\u001b[0m\u001b[32m)\u001b[0m\u001b[32m. Hãy trình bày và hệ thống hóa các kiến thức về chủ đề đó dưới dạng sơ đồ tư duy hoặc dàn ý chi tiết. Đảm bảo sơ đồ/dàn ý của bạn bao gồm: 1. Định nghĩa/Khái niệm chính. 2. Các đặc điểm/yếu tố cấu thành. 3. Mối quan hệ/liên kết giữa các yếu tố. 4. Ví dụ minh họa \u001b[0m\u001b[32m(\u001b[0m\u001b[32mnếu có\u001b[0m\u001b[32m)\u001b[0m\u001b[32m.'\u001b[0m,\n",
       "\u001b[2;32m│   \u001b[0m\u001b[32m'extension_component'\u001b[0m: \u001b[32m'Dựa trên sơ đồ/dàn ý đã lập, hãy phân tích sâu hơn một khía cạnh cụ thể của chủ đề hoặc đề xuất một vấn đề nghiên cứu/ứng dụng liên quan đến chủ đề đó trong thực tiễn.'\u001b[0m,\n",
       "\u001b[2;32m│   \u001b[0m\u001b[32m'answer'\u001b[0m: \u001b[32m'Đáp án sẽ phụ thuộc vào chủ đề học sinh chọn. Tuy nhiên, một đáp án đạt yêu cầu cần thể hiện được: 1. Sự hiểu biết chính xác về khái niệm/chủ đề. 2. Khả năng phân tích và chia nhỏ kiến thức thành các phần rõ ràng. 3. Khả năng nhận diện và trình bày mối liên hệ logic giữa các phần. 4. Sự rõ ràng, mạch lạc trong cách trình bày \u001b[0m\u001b[32m(\u001b[0m\u001b[32msơ đồ tư duy hoặc dàn ý\u001b[0m\u001b[32m)\u001b[0m\u001b[32m.'\u001b[0m,\n",
       "\u001b[2;32m│   \u001b[0m\u001b[32m'solution_guide'\u001b[0m: \u001b[32m'1. Chọn chủ đề: Học sinh chọn một chủ đề đã học mà mình nắm vững hoặc muốn đào sâu. 2. Thu thập thông tin: Ghi lại các khái niệm, đặc điểm, sự kiện, công thức liên quan đến chủ đề. 3. Phân loại và nhóm: Sắp xếp các thông tin thành các nhóm lớn, nhỏ. 4. Xác định mối quan hệ: Tìm ra cách các nhóm thông tin liên kết với nhau \u001b[0m\u001b[32m(\u001b[0m\u001b[32mnguyên nhân-kết quả, so sánh-đối chiếu, trình tự thời gian, v.v.\u001b[0m\u001b[32m)\u001b[0m\u001b[32m. 5. Lựa chọn hình thức trình bày: Sơ đồ tư duy \u001b[0m\u001b[32m(\u001b[0m\u001b[32mđặt chủ đề chính ở trung tâm, các nhánh lớn là các nhóm thông tin chính, các nhánh nhỏ là chi tiết và ví dụ\u001b[0m\u001b[32m)\u001b[0m\u001b[32m hoặc Dàn ý chi tiết \u001b[0m\u001b[32m(\u001b[0m\u001b[32msử dụng các đề mục lớn, nhỏ để trình bày theo cấu trúc logic\u001b[0m\u001b[32m)\u001b[0m\u001b[32m. 6. Kiểm tra và chỉnh sửa: Đảm bảo đầy đủ, chính xác, logic và dễ hiểu.'\u001b[0m,\n",
       "\u001b[2;32m│   \u001b[0m\u001b[32m'differentiation'\u001b[0m: \u001b[1m{\u001b[0m\n",
       "\u001b[2;32m│   │   \u001b[0m\u001b[32m'for_struggling_students'\u001b[0m: \u001b[32m'Cung cấp sẵn một danh sách các chủ đề gợi ý cụ thể và hẹp hơn để học sinh dễ dàng lựa chọn. Có thể cung cấp một mẫu sơ đồ tư duy hoặc dàn ý trống với các nhánh/mục chính đã được định sẵn để học sinh chỉ cần điền thông tin. Cho phép học sinh làm việc theo cặp để hỗ trợ lẫn nhau.'\u001b[0m,\n",
       "\u001b[2;32m│   │   \u001b[0m\u001b[32m'for_advanced_students'\u001b[0m: \u001b[32m'Yêu cầu học sinh không chỉ hệ thống hóa mà còn phải phân tích sâu hơn một khía cạnh cụ thể của chủ đề, hoặc so sánh chủ đề đã chọn với một chủ đề khác có liên quan. Học sinh có thể được yêu cầu trình bày bằng một hình thức sáng tạo hơn \u001b[0m\u001b[32m(\u001b[0m\u001b[32mví dụ: infographic, bài thuyết trình ngắn\u001b[0m\u001b[32m)\u001b[0m\u001b[32m nếu có đủ thời gian và công cụ.'\u001b[0m\n",
       "\u001b[2;32m│   \u001b[0m\u001b[1m}\u001b[0m,\n",
       "\u001b[2;32m│   \u001b[0m\u001b[32m'content_type'\u001b[0m: \u001b[32m'Tự luận'\u001b[0m\n",
       "\u001b[1m}\u001b[0m\n"
      ]
     },
     "metadata": {},
     "output_type": "display_data"
    },
    {
     "data": {
      "text/html": [
       "<pre style=\"white-space:pre;overflow-x:auto;line-height:normal;font-family:Menlo,'DejaVu Sans Mono',consolas,'Courier New',monospace\">\n",
       "<span style=\"color: #808000; text-decoration-color: #808000; font-weight: bold\">------- Hoàn thành bước: assessment_creator -------</span>\n",
       "</pre>\n"
      ],
      "text/plain": [
       "\n",
       "\u001b[1;33m------- Hoàn thành bước: assessment_creator -------\u001b[0m\n"
      ]
     },
     "metadata": {},
     "output_type": "display_data"
    },
    {
     "data": {
      "text/html": [
       "<pre style=\"white-space:pre;overflow-x:auto;line-height:normal;font-family:Menlo,'DejaVu Sans Mono',consolas,'Courier New',monospace\">\n",
       "<span style=\"color: #008080; text-decoration-color: #008080; font-weight: bold\">&gt;</span> `Agent: Guardian Critic` <span style=\"font-weight: bold\">(</span>v12.<span style=\"color: #008080; text-decoration-color: #008080; font-weight: bold\">0</span><span style=\"font-weight: bold\">)</span> đang bảo vệ kế hoạch<span style=\"color: #808000; text-decoration-color: #808000\">...</span>\n",
       "</pre>\n"
      ],
      "text/plain": [
       "\n",
       "\u001b[1;36m>\u001b[0m `Agent: Guardian Critic` \u001b[1m(\u001b[0mv12.\u001b[1;36m0\u001b[0m\u001b[1m)\u001b[0m đang bảo vệ kế hoạch\u001b[33m...\u001b[0m\n"
      ]
     },
     "metadata": {},
     "output_type": "display_data"
    },
    {
     "data": {
      "text/html": [
       "<pre style=\"white-space:pre;overflow-x:auto;line-height:normal;font-family:Menlo,'DejaVu Sans Mono',consolas,'Courier New',monospace\"><span style=\"color: #808000; text-decoration-color: #808000; font-weight: bold\">⚠️  GUARDIAN PHẢN BIỆN: Hoạt động này có cấu trúc rõ ràng, mục tiêu cụ thể và có sự phân hóa tốt cho các đối tượng </span>\n",
       "<span style=\"color: #808000; text-decoration-color: #808000; font-weight: bold\">học sinh. Tuy nhiên, với thời lượng </span><span style=\"color: #808000; text-decoration-color: #808000; font-weight: bold\">25</span><span style=\"color: #808000; text-decoration-color: #808000; font-weight: bold\"> phút, yêu cầu </span><span style=\"color: #808000; text-decoration-color: #808000; font-weight: bold\">'trình bày và hệ thống hóa các kiến thức về chủ đề đó dưới </span>\n",
       "<span style=\"color: #808000; text-decoration-color: #808000; font-weight: bold\">dạng sơ đồ tư duy hoặc dàn ý chi tiết'</span><span style=\"color: #808000; text-decoration-color: #808000; font-weight: bold\"> bao gồm </span><span style=\"color: #808000; text-decoration-color: #808000; font-weight: bold\">4</span><span style=\"color: #808000; text-decoration-color: #808000; font-weight: bold\"> yếu tố (Định nghĩa, Đặc điểm, Mối quan hệ, Ví dụ) là khá tham </span>\n",
       "<span style=\"color: #808000; text-decoration-color: #808000; font-weight: bold\">vọng. Học sinh sẽ cần thời gian để lựa chọn chủ đề, nhớ lại kiến thức, tư duy cấu trúc, và sau đó thể hiện ra giấy </span>\n",
       "<span style=\"color: #808000; text-decoration-color: #808000; font-weight: bold\">một cách mạch lạc. Điều này có thể khiến học sinh làm việc vội vàng, không đảm bảo chất lượng hoặc không hoàn thành</span>\n",
       "<span style=\"color: #808000; text-decoration-color: #808000; font-weight: bold\">được đầy đủ các yêu cầu trong thời gian cho phép. Hoạt động này sẽ phù hợp hơn nếu có thời gian dài hơn hoặc yêu </span>\n",
       "<span style=\"color: #808000; text-decoration-color: #808000; font-weight: bold\">cầu đơn giản hơn. Hãy thiết kế lại một phiên bản đơn giản hơn để khớp với thời gian </span><span style=\"color: #808000; text-decoration-color: #808000; font-weight: bold\">25</span><span style=\"color: #808000; text-decoration-color: #808000; font-weight: bold\"> phút đã cho.</span>\n",
       "</pre>\n"
      ],
      "text/plain": [
       "\u001b[1;33m⚠️  GUARDIAN PHẢN BIỆN: Hoạt động này có cấu trúc rõ ràng, mục tiêu cụ thể và có sự phân hóa tốt cho các đối tượng \u001b[0m\n",
       "\u001b[1;33mhọc sinh. Tuy nhiên, với thời lượng \u001b[0m\u001b[1;33m25\u001b[0m\u001b[1;33m phút, yêu cầu \u001b[0m\u001b[1;33m'trình bày và hệ thống hóa các kiến thức về chủ đề đó dưới \u001b[0m\n",
       "\u001b[1;33mdạng sơ đồ tư duy hoặc dàn ý chi tiết'\u001b[0m\u001b[1;33m bao gồm \u001b[0m\u001b[1;33m4\u001b[0m\u001b[1;33m yếu tố \u001b[0m\u001b[1;33m(\u001b[0m\u001b[1;33mĐịnh nghĩa, Đặc điểm, Mối quan hệ, Ví dụ\u001b[0m\u001b[1;33m)\u001b[0m\u001b[1;33m là khá tham \u001b[0m\n",
       "\u001b[1;33mvọng. Học sinh sẽ cần thời gian để lựa chọn chủ đề, nhớ lại kiến thức, tư duy cấu trúc, và sau đó thể hiện ra giấy \u001b[0m\n",
       "\u001b[1;33mmột cách mạch lạc. Điều này có thể khiến học sinh làm việc vội vàng, không đảm bảo chất lượng hoặc không hoàn thành\u001b[0m\n",
       "\u001b[1;33mđược đầy đủ các yêu cầu trong thời gian cho phép. Hoạt động này sẽ phù hợp hơn nếu có thời gian dài hơn hoặc yêu \u001b[0m\n",
       "\u001b[1;33mcầu đơn giản hơn. Hãy thiết kế lại một phiên bản đơn giản hơn để khớp với thời gian \u001b[0m\u001b[1;33m25\u001b[0m\u001b[1;33m phút đã cho.\u001b[0m\n"
      ]
     },
     "metadata": {},
     "output_type": "display_data"
    },
    {
     "data": {
      "text/html": [
       "<pre style=\"white-space:pre;overflow-x:auto;line-height:normal;font-family:Menlo,'DejaVu Sans Mono',consolas,'Courier New',monospace\">\n",
       "<span style=\"color: #808000; text-decoration-color: #808000; font-weight: bold\">------- Hoàn thành bước: content_validator -------</span>\n",
       "</pre>\n"
      ],
      "text/plain": [
       "\n",
       "\u001b[1;33m------- Hoàn thành bước: content_validator -------\u001b[0m\n"
      ]
     },
     "metadata": {},
     "output_type": "display_data"
    },
    {
     "data": {
      "text/html": [
       "<pre style=\"white-space:pre;overflow-x:auto;line-height:normal;font-family:Menlo,'DejaVu Sans Mono',consolas,'Courier New',monospace\">\n",
       "<span style=\"color: #008080; text-decoration-color: #008080; font-weight: bold\">&gt;</span> `Agent: Task Dispatcher` đang giao việc<span style=\"color: #808000; text-decoration-color: #808000\">...</span>\n",
       "</pre>\n"
      ],
      "text/plain": [
       "\n",
       "\u001b[1;36m>\u001b[0m `Agent: Task Dispatcher` đang giao việc\u001b[33m...\u001b[0m\n"
      ]
     },
     "metadata": {},
     "output_type": "display_data"
    },
    {
     "data": {
      "text/html": [
       "<pre style=\"white-space:pre;overflow-x:auto;line-height:normal;font-family:Menlo,'DejaVu Sans Mono',consolas,'Courier New',monospace\">\n",
       "<span style=\"color: #008080; text-decoration-color: #008080; font-weight: bold\">&gt;</span> --- 🚚 `Dispatcher`: Giao nhiệm vụ cho `theory_synthesizer`.\n",
       "</pre>\n"
      ],
      "text/plain": [
       "\n",
       "\u001b[1;36m>\u001b[0m --- 🚚 `Dispatcher`: Giao nhiệm vụ cho `theory_synthesizer`.\n"
      ]
     },
     "metadata": {},
     "output_type": "display_data"
    },
    {
     "data": {
      "text/html": [
       "<pre style=\"white-space:pre;overflow-x:auto;line-height:normal;font-family:Menlo,'DejaVu Sans Mono',consolas,'Courier New',monospace\">\n",
       "<span style=\"color: #808000; text-decoration-color: #808000; font-weight: bold\">------- Hoàn thành bước: task_dispatcher -------</span>\n",
       "</pre>\n"
      ],
      "text/plain": [
       "\n",
       "\u001b[1;33m------- Hoàn thành bước: task_dispatcher -------\u001b[0m\n"
      ]
     },
     "metadata": {},
     "output_type": "display_data"
    },
    {
     "data": {
      "text/html": [
       "<pre style=\"white-space:pre;overflow-x:auto;line-height:normal;font-family:Menlo,'DejaVu Sans Mono',consolas,'Courier New',monospace\">\n",
       "<span style=\"color: #008080; text-decoration-color: #008080; font-weight: bold\">&gt;</span> `Agent: Theory Synthesizer` <span style=\"font-weight: bold\">(</span>v12.<span style=\"color: #008080; text-decoration-color: #008080; font-weight: bold\">0</span><span style=\"font-weight: bold\">)</span> đang tạo nội dung theo kỷ luật<span style=\"color: #808000; text-decoration-color: #808000\">...</span>\n",
       "</pre>\n"
      ],
      "text/plain": [
       "\n",
       "\u001b[1;36m>\u001b[0m `Agent: Theory Synthesizer` \u001b[1m(\u001b[0mv12.\u001b[1;36m0\u001b[0m\u001b[1m)\u001b[0m đang tạo nội dung theo kỷ luật\u001b[33m...\u001b[0m\n"
      ]
     },
     "metadata": {},
     "output_type": "display_data"
    },
    {
     "data": {
      "text/html": [
       "<pre style=\"white-space:pre;overflow-x:auto;line-height:normal;font-family:Menlo,'DejaVu Sans Mono',consolas,'Courier New',monospace\"><span style=\"color: #008000; text-decoration-color: #008000; font-weight: bold\">✔️ Nội dung do Theory Synthesizer tạo ra:</span>\n",
       "</pre>\n"
      ],
      "text/plain": [
       "\u001b[1;32m✔️ Nội dung do Theory Synthesizer tạo ra:\u001b[0m\n"
      ]
     },
     "metadata": {},
     "output_type": "display_data"
    },
    {
     "data": {
      "text/html": [
       "<pre style=\"white-space:pre;overflow-x:auto;line-height:normal;font-family:Menlo,'DejaVu Sans Mono',consolas,'Courier New',monospace\"><span style=\"font-weight: bold\">{</span>\n",
       "<span style=\"color: #7fbf7f; text-decoration-color: #7fbf7f\">│   </span><span style=\"color: #008000; text-decoration-color: #008000\">'activity_name'</span>: <span style=\"color: #008000; text-decoration-color: #008000\">'Trình bày và Hệ thống hóa kiến thức'</span>,\n",
       "<span style=\"color: #7fbf7f; text-decoration-color: #7fbf7f\">│   </span><span style=\"color: #008000; text-decoration-color: #008000\">'duration_minutes'</span>: <span style=\"color: #008080; text-decoration-color: #008080; font-weight: bold\">25</span>,\n",
       "<span style=\"color: #7fbf7f; text-decoration-color: #7fbf7f\">│   </span><span style=\"color: #008000; text-decoration-color: #008000\">'teacher_actions'</span>: <span style=\"font-weight: bold\">[</span>\n",
       "<span style=\"color: #7fbf7f; text-decoration-color: #7fbf7f\">│   │   </span><span style=\"color: #008000; text-decoration-color: #008000\">'Giới thiệu hoạt động, mục tiêu và thời gian thực hiện (25 phút).'</span>,\n",
       "<span style=\"color: #7fbf7f; text-decoration-color: #7fbf7f\">│   │   </span><span style=\"color: #008000; text-decoration-color: #008000\">'Nhắc nhở học sinh chọn khái niệm/thuật ngữ đã học gần đây.'</span>,\n",
       "<span style=\"color: #7fbf7f; text-decoration-color: #7fbf7f\">│   │   </span><span style=\"color: #008000; text-decoration-color: #008000\">'Di chuyển quanh lớp, quan sát, hỗ trợ và giải đáp thắc mắc cho học sinh.'</span>,\n",
       "<span style=\"color: #7fbf7f; text-decoration-color: #7fbf7f\">│   │   </span><span style=\"color: #008000; text-decoration-color: #008000\">'Khuyến khích học sinh trình bày rõ ràng, mạch lạc.'</span>,\n",
       "<span style=\"color: #7fbf7f; text-decoration-color: #7fbf7f\">│   │   </span><span style=\"color: #008000; text-decoration-color: #008000\">'Theo dõi thời gian và thông báo khi còn 5 phút cuối.'</span>,\n",
       "<span style=\"color: #7fbf7f; text-decoration-color: #7fbf7f\">│   │   </span><span style=\"color: #008000; text-decoration-color: #008000\">'Yêu cầu một vài học sinh chia sẻ nhanh sản phẩm của mình (nếu còn thời gian).'</span>\n",
       "<span style=\"color: #7fbf7f; text-decoration-color: #7fbf7f\">│   </span><span style=\"font-weight: bold\">]</span>,\n",
       "<span style=\"color: #7fbf7f; text-decoration-color: #7fbf7f\">│   </span><span style=\"color: #008000; text-decoration-color: #008000\">'core_component'</span>: <span style=\"color: #008000; text-decoration-color: #008000\">'Học sinh (làm việc cá nhân) chọn MỘT khái niệm/thuật ngữ trọng tâm từ bài học gần nhất. Nhiệm vụ là hệ thống hóa kiến thức về khái niệm đó dưới dạng gạch đầu dòng hoặc sơ đồ tư duy đơn giản, tập trung vào:\\n1. Định nghĩa ngắn gọn.\\n2. Hai đến ba đặc điểm/ví dụ tiêu biểu.'</span>,\n",
       "<span style=\"color: #7fbf7f; text-decoration-color: #7fbf7f\">│   </span><span style=\"color: #008000; text-decoration-color: #008000\">'extension_component'</span>: <span style=\"color: #008000; text-decoration-color: #008000\">'Học sinh hoàn thành sớm có thể chọn thêm một khái niệm/thuật ngữ khác để hệ thống hóa tương tự, hoặc mở rộng sơ đồ/dàn ý của mình bằng cách bổ sung các mối quan hệ với các khái niệm liên quan, hoặc tìm thêm các ví dụ thực tế/ứng dụng của khái niệm đó.'</span>,\n",
       "<span style=\"color: #7fbf7f; text-decoration-color: #7fbf7f\">│   </span><span style=\"color: #008000; text-decoration-color: #008000\">'solution_guide'</span>: <span style=\"color: #008000; text-decoration-color: #008000\">\"Không có 'đáp án' cố định cho hoạt động này. Hướng dẫn giải tập trung vào việc học sinh có thể tự kiểm tra:\\n- Khái niệm đã được định nghĩa rõ ràng chưa?\\n- Các đặc điểm/ví dụ có tiêu biểu và chính xác không?\\n- Cách trình bày có dễ hiểu và logic không?\"</span>,\n",
       "<span style=\"color: #7fbf7f; text-decoration-color: #7fbf7f\">│   </span><span style=\"color: #008000; text-decoration-color: #008000\">'differentiation'</span>: <span style=\"font-weight: bold\">{</span>\n",
       "<span style=\"color: #7fbf7f; text-decoration-color: #7fbf7f\">│   │   </span><span style=\"color: #008000; text-decoration-color: #008000\">'for_struggling_students'</span>: <span style=\"color: #008000; text-decoration-color: #008000\">\"Giáo viên có thể gợi ý danh sách các khái niệm/thuật ngữ cụ thể để học sinh lựa chọn. Cung cấp một mẫu dàn ý đơn giản với các câu hỏi gợi mở (ví dụ: 'Đây là gì?', 'Nó có gì đặc biệt?', 'Ví dụ nào minh họa?'). Hướng dẫn học sinh chỉ cần tập trung vào định nghĩa và một ví dụ cơ bản.\"</span>,\n",
       "<span style=\"color: #7fbf7f; text-decoration-color: #7fbf7f\">│   │   </span><span style=\"color: #008000; text-decoration-color: #008000\">'for_advanced_students'</span>: <span style=\"color: #008000; text-decoration-color: #008000\">'Khuyến khích học sinh chọn một khái niệm phức tạp hơn hoặc yêu cầu họ bổ sung thêm các mối quan hệ giữa khái niệm đã chọn với các khái niệm khác. Thử thách học sinh trình bày dưới dạng sơ đồ tư duy chi tiết hơn hoặc phân tích sâu hơn về vai trò/ý nghĩa của khái niệm đó trong bối cảnh rộng hơn.'</span>\n",
       "<span style=\"color: #7fbf7f; text-decoration-color: #7fbf7f\">│   </span><span style=\"font-weight: bold\">}</span>,\n",
       "<span style=\"color: #7fbf7f; text-decoration-color: #7fbf7f\">│   </span><span style=\"color: #008000; text-decoration-color: #008000\">'content_type'</span>: <span style=\"color: #008000; text-decoration-color: #008000\">'Thực hành cá nhân'</span>\n",
       "<span style=\"font-weight: bold\">}</span>\n",
       "</pre>\n"
      ],
      "text/plain": [
       "\u001b[1m{\u001b[0m\n",
       "\u001b[2;32m│   \u001b[0m\u001b[32m'activity_name'\u001b[0m: \u001b[32m'Trình bày và Hệ thống hóa kiến thức'\u001b[0m,\n",
       "\u001b[2;32m│   \u001b[0m\u001b[32m'duration_minutes'\u001b[0m: \u001b[1;36m25\u001b[0m,\n",
       "\u001b[2;32m│   \u001b[0m\u001b[32m'teacher_actions'\u001b[0m: \u001b[1m[\u001b[0m\n",
       "\u001b[2;32m│   │   \u001b[0m\u001b[32m'Giới thiệu hoạt động, mục tiêu và thời gian thực hiện \u001b[0m\u001b[32m(\u001b[0m\u001b[32m25 phút\u001b[0m\u001b[32m)\u001b[0m\u001b[32m.'\u001b[0m,\n",
       "\u001b[2;32m│   │   \u001b[0m\u001b[32m'Nhắc nhở học sinh chọn khái niệm/thuật ngữ đã học gần đây.'\u001b[0m,\n",
       "\u001b[2;32m│   │   \u001b[0m\u001b[32m'Di chuyển quanh lớp, quan sát, hỗ trợ và giải đáp thắc mắc cho học sinh.'\u001b[0m,\n",
       "\u001b[2;32m│   │   \u001b[0m\u001b[32m'Khuyến khích học sinh trình bày rõ ràng, mạch lạc.'\u001b[0m,\n",
       "\u001b[2;32m│   │   \u001b[0m\u001b[32m'Theo dõi thời gian và thông báo khi còn 5 phút cuối.'\u001b[0m,\n",
       "\u001b[2;32m│   │   \u001b[0m\u001b[32m'Yêu cầu một vài học sinh chia sẻ nhanh sản phẩm của mình \u001b[0m\u001b[32m(\u001b[0m\u001b[32mnếu còn thời gian\u001b[0m\u001b[32m)\u001b[0m\u001b[32m.'\u001b[0m\n",
       "\u001b[2;32m│   \u001b[0m\u001b[1m]\u001b[0m,\n",
       "\u001b[2;32m│   \u001b[0m\u001b[32m'core_component'\u001b[0m: \u001b[32m'Học sinh \u001b[0m\u001b[32m(\u001b[0m\u001b[32mlàm việc cá nhân\u001b[0m\u001b[32m)\u001b[0m\u001b[32m chọn MỘT khái niệm/thuật ngữ trọng tâm từ bài học gần nhất. Nhiệm vụ là hệ thống hóa kiến thức về khái niệm đó dưới dạng gạch đầu dòng hoặc sơ đồ tư duy đơn giản, tập trung vào:\\n1. Định nghĩa ngắn gọn.\\n2. Hai đến ba đặc điểm/ví dụ tiêu biểu.'\u001b[0m,\n",
       "\u001b[2;32m│   \u001b[0m\u001b[32m'extension_component'\u001b[0m: \u001b[32m'Học sinh hoàn thành sớm có thể chọn thêm một khái niệm/thuật ngữ khác để hệ thống hóa tương tự, hoặc mở rộng sơ đồ/dàn ý của mình bằng cách bổ sung các mối quan hệ với các khái niệm liên quan, hoặc tìm thêm các ví dụ thực tế/ứng dụng của khái niệm đó.'\u001b[0m,\n",
       "\u001b[2;32m│   \u001b[0m\u001b[32m'solution_guide'\u001b[0m: \u001b[32m\"Không có 'đáp án' cố định cho hoạt động này. Hướng dẫn giải tập trung vào việc học sinh có thể tự kiểm tra:\\n- Khái niệm đã được định nghĩa rõ ràng chưa?\\n- Các đặc điểm/ví dụ có tiêu biểu và chính xác không?\\n- Cách trình bày có dễ hiểu và logic không?\"\u001b[0m,\n",
       "\u001b[2;32m│   \u001b[0m\u001b[32m'differentiation'\u001b[0m: \u001b[1m{\u001b[0m\n",
       "\u001b[2;32m│   │   \u001b[0m\u001b[32m'for_struggling_students'\u001b[0m: \u001b[32m\"Giáo viên có thể gợi ý danh sách các khái niệm/thuật ngữ cụ thể để học sinh lựa chọn. Cung cấp một mẫu dàn ý đơn giản với các câu hỏi gợi mở \u001b[0m\u001b[32m(\u001b[0m\u001b[32mví dụ: 'Đây là gì?', 'Nó có gì đặc biệt?', 'Ví dụ nào minh họa?'\u001b[0m\u001b[32m)\u001b[0m\u001b[32m. Hướng dẫn học sinh chỉ cần tập trung vào định nghĩa và một ví dụ cơ bản.\"\u001b[0m,\n",
       "\u001b[2;32m│   │   \u001b[0m\u001b[32m'for_advanced_students'\u001b[0m: \u001b[32m'Khuyến khích học sinh chọn một khái niệm phức tạp hơn hoặc yêu cầu họ bổ sung thêm các mối quan hệ giữa khái niệm đã chọn với các khái niệm khác. Thử thách học sinh trình bày dưới dạng sơ đồ tư duy chi tiết hơn hoặc phân tích sâu hơn về vai trò/ý nghĩa của khái niệm đó trong bối cảnh rộng hơn.'\u001b[0m\n",
       "\u001b[2;32m│   \u001b[0m\u001b[1m}\u001b[0m,\n",
       "\u001b[2;32m│   \u001b[0m\u001b[32m'content_type'\u001b[0m: \u001b[32m'Thực hành cá nhân'\u001b[0m\n",
       "\u001b[1m}\u001b[0m\n"
      ]
     },
     "metadata": {},
     "output_type": "display_data"
    },
    {
     "data": {
      "text/html": [
       "<pre style=\"white-space:pre;overflow-x:auto;line-height:normal;font-family:Menlo,'DejaVu Sans Mono',consolas,'Courier New',monospace\">\n",
       "<span style=\"color: #808000; text-decoration-color: #808000; font-weight: bold\">------- Hoàn thành bước: theory_synthesizer -------</span>\n",
       "</pre>\n"
      ],
      "text/plain": [
       "\n",
       "\u001b[1;33m------- Hoàn thành bước: theory_synthesizer -------\u001b[0m\n"
      ]
     },
     "metadata": {},
     "output_type": "display_data"
    },
    {
     "data": {
      "text/html": [
       "<pre style=\"white-space:pre;overflow-x:auto;line-height:normal;font-family:Menlo,'DejaVu Sans Mono',consolas,'Courier New',monospace\">\n",
       "<span style=\"color: #008080; text-decoration-color: #008080; font-weight: bold\">&gt;</span> `Agent: Guardian Critic` <span style=\"font-weight: bold\">(</span>v12.<span style=\"color: #008080; text-decoration-color: #008080; font-weight: bold\">0</span><span style=\"font-weight: bold\">)</span> đang bảo vệ kế hoạch<span style=\"color: #808000; text-decoration-color: #808000\">...</span>\n",
       "</pre>\n"
      ],
      "text/plain": [
       "\n",
       "\u001b[1;36m>\u001b[0m `Agent: Guardian Critic` \u001b[1m(\u001b[0mv12.\u001b[1;36m0\u001b[0m\u001b[1m)\u001b[0m đang bảo vệ kế hoạch\u001b[33m...\u001b[0m\n"
      ]
     },
     "metadata": {},
     "output_type": "display_data"
    },
    {
     "data": {
      "text/html": [
       "<pre style=\"white-space:pre;overflow-x:auto;line-height:normal;font-family:Menlo,'DejaVu Sans Mono',consolas,'Courier New',monospace\"><span style=\"color: #808000; text-decoration-color: #808000; font-weight: bold\">⚠️  GUARDIAN PHẢN BIỆN: Hoạt động này có vẻ quá tham vọng để hoàn thành một cách hiệu quả trong </span><span style=\"color: #808000; text-decoration-color: #808000; font-weight: bold\">25</span><span style=\"color: #808000; text-decoration-color: #808000; font-weight: bold\"> phút. Mặc dù nội</span>\n",
       "<span style=\"color: #808000; text-decoration-color: #808000; font-weight: bold\">dung yêu cầu </span><span style=\"color: #808000; text-decoration-color: #808000; font-weight: bold\">'đơn giản'</span><span style=\"color: #808000; text-decoration-color: #808000; font-weight: bold\">, nhưng việc học sinh phải tự chọn khái niệm, sau đó hệ thống hóa kiến thức (định nghĩa, đặc</span>\n",
       "<span style=\"color: #808000; text-decoration-color: #808000; font-weight: bold\">điểm/ví dụ) dưới dạng gạch đầu dòng hoặc sơ đồ tư duy, cộng thêm thời gian giáo viên giới thiệu và khả năng chia sẻ</span>\n",
       "<span style=\"color: #808000; text-decoration-color: #808000; font-weight: bold\">sản phẩm, sẽ rất khó để đảm bảo tất cả học sinh hoàn thành chất lượng trong khung thời gian này. Đặc biệt, việc lựa</span>\n",
       "<span style=\"color: #808000; text-decoration-color: #808000; font-weight: bold\">chọn khái niệm ban đầu cũng tốn thời gian suy nghĩ của học sinh. Hãy thiết kế lại một phiên bản đơn giản hơn để </span>\n",
       "<span style=\"color: #808000; text-decoration-color: #808000; font-weight: bold\">khớp với thời gian </span><span style=\"color: #808000; text-decoration-color: #808000; font-weight: bold\">25</span><span style=\"color: #808000; text-decoration-color: #808000; font-weight: bold\"> phút đã cho.</span>\n",
       "</pre>\n"
      ],
      "text/plain": [
       "\u001b[1;33m⚠️  GUARDIAN PHẢN BIỆN: Hoạt động này có vẻ quá tham vọng để hoàn thành một cách hiệu quả trong \u001b[0m\u001b[1;33m25\u001b[0m\u001b[1;33m phút. Mặc dù nội\u001b[0m\n",
       "\u001b[1;33mdung yêu cầu \u001b[0m\u001b[1;33m'đơn giản'\u001b[0m\u001b[1;33m, nhưng việc học sinh phải tự chọn khái niệm, sau đó hệ thống hóa kiến thức \u001b[0m\u001b[1;33m(\u001b[0m\u001b[1;33mđịnh nghĩa, đặc\u001b[0m\n",
       "\u001b[1;33mđiểm/ví dụ\u001b[0m\u001b[1;33m)\u001b[0m\u001b[1;33m dưới dạng gạch đầu dòng hoặc sơ đồ tư duy, cộng thêm thời gian giáo viên giới thiệu và khả năng chia sẻ\u001b[0m\n",
       "\u001b[1;33msản phẩm, sẽ rất khó để đảm bảo tất cả học sinh hoàn thành chất lượng trong khung thời gian này. Đặc biệt, việc lựa\u001b[0m\n",
       "\u001b[1;33mchọn khái niệm ban đầu cũng tốn thời gian suy nghĩ của học sinh. Hãy thiết kế lại một phiên bản đơn giản hơn để \u001b[0m\n",
       "\u001b[1;33mkhớp với thời gian \u001b[0m\u001b[1;33m25\u001b[0m\u001b[1;33m phút đã cho.\u001b[0m\n"
      ]
     },
     "metadata": {},
     "output_type": "display_data"
    },
    {
     "data": {
      "text/html": [
       "<pre style=\"white-space:pre;overflow-x:auto;line-height:normal;font-family:Menlo,'DejaVu Sans Mono',consolas,'Courier New',monospace\">\n",
       "<span style=\"color: #808000; text-decoration-color: #808000; font-weight: bold\">------- Hoàn thành bước: content_validator -------</span>\n",
       "</pre>\n"
      ],
      "text/plain": [
       "\n",
       "\u001b[1;33m------- Hoàn thành bước: content_validator -------\u001b[0m\n"
      ]
     },
     "metadata": {},
     "output_type": "display_data"
    },
    {
     "data": {
      "text/html": [
       "<pre style=\"white-space:pre;overflow-x:auto;line-height:normal;font-family:Menlo,'DejaVu Sans Mono',consolas,'Courier New',monospace\">\n",
       "<span style=\"color: #008080; text-decoration-color: #008080; font-weight: bold\">&gt;</span> `Agent: Task Dispatcher` đang giao việc<span style=\"color: #808000; text-decoration-color: #808000\">...</span>\n",
       "</pre>\n"
      ],
      "text/plain": [
       "\n",
       "\u001b[1;36m>\u001b[0m `Agent: Task Dispatcher` đang giao việc\u001b[33m...\u001b[0m\n"
      ]
     },
     "metadata": {},
     "output_type": "display_data"
    },
    {
     "data": {
      "text/html": [
       "<pre style=\"white-space:pre;overflow-x:auto;line-height:normal;font-family:Menlo,'DejaVu Sans Mono',consolas,'Courier New',monospace\">\n",
       "<span style=\"color: #008080; text-decoration-color: #008080; font-weight: bold\">&gt;</span> --- 🚚 `Dispatcher`: Giao nhiệm vụ cho `activity_designer`.\n",
       "</pre>\n"
      ],
      "text/plain": [
       "\n",
       "\u001b[1;36m>\u001b[0m --- 🚚 `Dispatcher`: Giao nhiệm vụ cho `activity_designer`.\n"
      ]
     },
     "metadata": {},
     "output_type": "display_data"
    },
    {
     "data": {
      "text/html": [
       "<pre style=\"white-space:pre;overflow-x:auto;line-height:normal;font-family:Menlo,'DejaVu Sans Mono',consolas,'Courier New',monospace\">\n",
       "<span style=\"color: #808000; text-decoration-color: #808000; font-weight: bold\">------- Hoàn thành bước: task_dispatcher -------</span>\n",
       "</pre>\n"
      ],
      "text/plain": [
       "\n",
       "\u001b[1;33m------- Hoàn thành bước: task_dispatcher -------\u001b[0m\n"
      ]
     },
     "metadata": {},
     "output_type": "display_data"
    },
    {
     "data": {
      "text/html": [
       "<pre style=\"white-space:pre;overflow-x:auto;line-height:normal;font-family:Menlo,'DejaVu Sans Mono',consolas,'Courier New',monospace\">\n",
       "<span style=\"color: #008080; text-decoration-color: #008080; font-weight: bold\">&gt;</span> `Agent: Activity Designer` <span style=\"font-weight: bold\">(</span>v12.<span style=\"color: #008080; text-decoration-color: #008080; font-weight: bold\">0</span><span style=\"font-weight: bold\">)</span> đang tạo nội dung theo kỷ luật<span style=\"color: #808000; text-decoration-color: #808000\">...</span>\n",
       "</pre>\n"
      ],
      "text/plain": [
       "\n",
       "\u001b[1;36m>\u001b[0m `Agent: Activity Designer` \u001b[1m(\u001b[0mv12.\u001b[1;36m0\u001b[0m\u001b[1m)\u001b[0m đang tạo nội dung theo kỷ luật\u001b[33m...\u001b[0m\n"
      ]
     },
     "metadata": {},
     "output_type": "display_data"
    },
    {
     "data": {
      "text/html": [
       "<pre style=\"white-space:pre;overflow-x:auto;line-height:normal;font-family:Menlo,'DejaVu Sans Mono',consolas,'Courier New',monospace\"><span style=\"color: #008000; text-decoration-color: #008000; font-weight: bold\">✔️ Nội dung do Activity Designer tạo ra:</span>\n",
       "</pre>\n"
      ],
      "text/plain": [
       "\u001b[1;32m✔️ Nội dung do Activity Designer tạo ra:\u001b[0m\n"
      ]
     },
     "metadata": {},
     "output_type": "display_data"
    },
    {
     "data": {
      "text/html": [
       "<pre style=\"white-space:pre;overflow-x:auto;line-height:normal;font-family:Menlo,'DejaVu Sans Mono',consolas,'Courier New',monospace\"><span style=\"font-weight: bold\">{</span>\n",
       "<span style=\"color: #7fbf7f; text-decoration-color: #7fbf7f\">│   </span><span style=\"color: #008000; text-decoration-color: #008000\">'activity_name'</span>: <span style=\"color: #008000; text-decoration-color: #008000\">'Trình bày và Hệ thống hóa kiến thức'</span>,\n",
       "<span style=\"color: #7fbf7f; text-decoration-color: #7fbf7f\">│   </span><span style=\"color: #008000; text-decoration-color: #008000\">'duration_minutes'</span>: <span style=\"color: #008080; text-decoration-color: #008080; font-weight: bold\">25</span>,\n",
       "<span style=\"color: #7fbf7f; text-decoration-color: #7fbf7f\">│   </span><span style=\"color: #008000; text-decoration-color: #008000\">'teacher_actions'</span>: <span style=\"font-weight: bold\">[</span>\n",
       "<span style=\"color: #7fbf7f; text-decoration-color: #7fbf7f\">│   │   </span><span style=\"color: #008000; text-decoration-color: #008000\">'Giới thiệu mục tiêu và quy trình hoạt động một cách ngắn gọn (khoảng 3 phút).'</span>,\n",
       "<span style=\"color: #7fbf7f; text-decoration-color: #7fbf7f\">│   │   </span><span style=\"color: #008000; text-decoration-color: #008000\">'Cung cấp danh sách các khái niệm đã học hoặc chỉ định trực tiếp khái niệm cho từng học sinh/cặp để tiết kiệm thời gian lựa chọn.'</span>,\n",
       "<span style=\"color: #7fbf7f; text-decoration-color: #7fbf7f\">│   │   </span><span style=\"color: #008000; text-decoration-color: #008000\">'Di chuyển quanh lớp, quan sát, hỗ trợ kịp thời các học sinh gặp khó khăn, giải đáp thắc mắc nhanh chóng.'</span>,\n",
       "<span style=\"color: #7fbf7f; text-decoration-color: #7fbf7f\">│   │   </span><span style=\"color: #008000; text-decoration-color: #008000\">'Gợi ý, đặt câu hỏi mở để học sinh đào sâu kiến thức khi cần thiết.'</span>,\n",
       "<span style=\"color: #7fbf7f; text-decoration-color: #7fbf7f\">│   │   </span><span style=\"color: #008000; text-decoration-color: #008000\">'Mời 2-3 học sinh/cặp trình bày nhanh sản phẩm của mình (khoảng 4 phút cuối giờ, nếu thời gian cho phép).'</span>,\n",
       "<span style=\"color: #7fbf7f; text-decoration-color: #7fbf7f\">│   │   </span><span style=\"color: #008000; text-decoration-color: #008000\">'Tổng kết các điểm chính và củng cố kiến thức về các khái niệm đã được hệ thống hóa.'</span>\n",
       "<span style=\"color: #7fbf7f; text-decoration-color: #7fbf7f\">│   </span><span style=\"font-weight: bold\">]</span>,\n",
       "<span style=\"color: #7fbf7f; text-decoration-color: #7fbf7f\">│   </span><span style=\"color: #008000; text-decoration-color: #008000\">'core_component'</span>: <span style=\"color: #008000; text-decoration-color: #008000\">'Học sinh làm việc cá nhân hoặc theo cặp. Mỗi học sinh/cặp sẽ được giáo viên chỉ định (hoặc chọn từ một danh sách giới hạn) một khái niệm đã học. Nhiệm vụ là: 1. Viết định nghĩa chính xác của khái niệm đó. 2. Liệt kê ít nhất 2 đặc điểm nổi bật hoặc 2 ví dụ minh họa cụ thể cho khái niệm đó dưới dạng gạch đầu dòng. Sản phẩm được trình bày ngắn gọn trên giấy hoặc bảng cá nhân.'</span>,\n",
       "<span style=\"color: #7fbf7f; text-decoration-color: #7fbf7f\">│   </span><span style=\"color: #008000; text-decoration-color: #008000\">'extension_component'</span>: <span style=\"color: #008000; text-decoration-color: #008000\">'Nếu hoàn thành sớm, học sinh có thể: Tìm thêm 1-2 ví dụ khác cho khái niệm. Nêu mối liên hệ giữa khái niệm này với một khái niệm khác đã học. Đặt một câu hỏi thách đố cho bạn bè về khái niệm đó.'</span>,\n",
       "<span style=\"color: #7fbf7f; text-decoration-color: #7fbf7f\">│   </span><span style=\"color: #008000; text-decoration-color: #008000\">'solution_guide'</span>: <span style=\"color: #008000; text-decoration-color: #008000\">\"Giáo viên cần chuẩn bị sẵn đáp án/gợi ý cho các khái niệm được giao để đối chiếu và hỗ trợ học sinh. Chuẩn bị các câu hỏi gợi mở như: 'Khái niệm này có gì khác biệt so với khái niệm kia?', 'Em có thể nghĩ ra ví dụ nào trong đời sống liên quan đến khái niệm này không?'\"</span>,\n",
       "<span style=\"color: #7fbf7f; text-decoration-color: #7fbf7f\">│   </span><span style=\"color: #008000; text-decoration-color: #008000\">'differentiation'</span>: <span style=\"font-weight: bold\">{</span>\n",
       "<span style=\"color: #7fbf7f; text-decoration-color: #7fbf7f\">│   │   </span><span style=\"color: #008000; text-decoration-color: #008000\">'for_struggling_students'</span>: <span style=\"color: #008000; text-decoration-color: #008000\">'Giáo viên có thể: Giao các khái niệm đơn giản, dễ hiểu hơn. Cung cấp một phần định nghĩa hoặc ví dụ gợi ý để học sinh hoàn thiện. Hướng dẫn trực tiếp từng bước, đặt câu hỏi gợi mở cụ thể. Cho phép học sinh làm việc theo cặp với bạn giỏi hơn để nhận được sự hỗ trợ trực tiếp.'</span>,\n",
       "<span style=\"color: #7fbf7f; text-decoration-color: #7fbf7f\">│   │   </span><span style=\"color: #008000; text-decoration-color: #008000\">'for_advanced_students'</span>: <span style=\"color: #008000; text-decoration-color: #008000\">'Giáo viên có thể: Giao các khái niệm phức tạp hơn hoặc yêu cầu phân tích sâu hơn. Yêu cầu học sinh giải thích ý nghĩa/tầm quan trọng của khái niệm trong bối cảnh rộng hơn. Thử thách học sinh tạo một câu đố ngắn hoặc một tình huống thực tế áp dụng khái niệm để kiểm tra hiểu biết của bạn bè.'</span>\n",
       "<span style=\"color: #7fbf7f; text-decoration-color: #7fbf7f\">│   </span><span style=\"font-weight: bold\">}</span>,\n",
       "<span style=\"color: #7fbf7f; text-decoration-color: #7fbf7f\">│   </span><span style=\"color: #008000; text-decoration-color: #008000\">'content_type'</span>: <span style=\"color: #008000; text-decoration-color: #008000\">'Thực hành cá nhân/cặp đôi'</span>\n",
       "<span style=\"font-weight: bold\">}</span>\n",
       "</pre>\n"
      ],
      "text/plain": [
       "\u001b[1m{\u001b[0m\n",
       "\u001b[2;32m│   \u001b[0m\u001b[32m'activity_name'\u001b[0m: \u001b[32m'Trình bày và Hệ thống hóa kiến thức'\u001b[0m,\n",
       "\u001b[2;32m│   \u001b[0m\u001b[32m'duration_minutes'\u001b[0m: \u001b[1;36m25\u001b[0m,\n",
       "\u001b[2;32m│   \u001b[0m\u001b[32m'teacher_actions'\u001b[0m: \u001b[1m[\u001b[0m\n",
       "\u001b[2;32m│   │   \u001b[0m\u001b[32m'Giới thiệu mục tiêu và quy trình hoạt động một cách ngắn gọn \u001b[0m\u001b[32m(\u001b[0m\u001b[32mkhoảng 3 phút\u001b[0m\u001b[32m)\u001b[0m\u001b[32m.'\u001b[0m,\n",
       "\u001b[2;32m│   │   \u001b[0m\u001b[32m'Cung cấp danh sách các khái niệm đã học hoặc chỉ định trực tiếp khái niệm cho từng học sinh/cặp để tiết kiệm thời gian lựa chọn.'\u001b[0m,\n",
       "\u001b[2;32m│   │   \u001b[0m\u001b[32m'Di chuyển quanh lớp, quan sát, hỗ trợ kịp thời các học sinh gặp khó khăn, giải đáp thắc mắc nhanh chóng.'\u001b[0m,\n",
       "\u001b[2;32m│   │   \u001b[0m\u001b[32m'Gợi ý, đặt câu hỏi mở để học sinh đào sâu kiến thức khi cần thiết.'\u001b[0m,\n",
       "\u001b[2;32m│   │   \u001b[0m\u001b[32m'Mời 2-3 học sinh/cặp trình bày nhanh sản phẩm của mình \u001b[0m\u001b[32m(\u001b[0m\u001b[32mkhoảng 4 phút cuối giờ, nếu thời gian cho phép\u001b[0m\u001b[32m)\u001b[0m\u001b[32m.'\u001b[0m,\n",
       "\u001b[2;32m│   │   \u001b[0m\u001b[32m'Tổng kết các điểm chính và củng cố kiến thức về các khái niệm đã được hệ thống hóa.'\u001b[0m\n",
       "\u001b[2;32m│   \u001b[0m\u001b[1m]\u001b[0m,\n",
       "\u001b[2;32m│   \u001b[0m\u001b[32m'core_component'\u001b[0m: \u001b[32m'Học sinh làm việc cá nhân hoặc theo cặp. Mỗi học sinh/cặp sẽ được giáo viên chỉ định \u001b[0m\u001b[32m(\u001b[0m\u001b[32mhoặc chọn từ một danh sách giới hạn\u001b[0m\u001b[32m)\u001b[0m\u001b[32m một khái niệm đã học. Nhiệm vụ là: 1. Viết định nghĩa chính xác của khái niệm đó. 2. Liệt kê ít nhất 2 đặc điểm nổi bật hoặc 2 ví dụ minh họa cụ thể cho khái niệm đó dưới dạng gạch đầu dòng. Sản phẩm được trình bày ngắn gọn trên giấy hoặc bảng cá nhân.'\u001b[0m,\n",
       "\u001b[2;32m│   \u001b[0m\u001b[32m'extension_component'\u001b[0m: \u001b[32m'Nếu hoàn thành sớm, học sinh có thể: Tìm thêm 1-2 ví dụ khác cho khái niệm. Nêu mối liên hệ giữa khái niệm này với một khái niệm khác đã học. Đặt một câu hỏi thách đố cho bạn bè về khái niệm đó.'\u001b[0m,\n",
       "\u001b[2;32m│   \u001b[0m\u001b[32m'solution_guide'\u001b[0m: \u001b[32m\"Giáo viên cần chuẩn bị sẵn đáp án/gợi ý cho các khái niệm được giao để đối chiếu và hỗ trợ học sinh. Chuẩn bị các câu hỏi gợi mở như: 'Khái niệm này có gì khác biệt so với khái niệm kia?', 'Em có thể nghĩ ra ví dụ nào trong đời sống liên quan đến khái niệm này không?'\"\u001b[0m,\n",
       "\u001b[2;32m│   \u001b[0m\u001b[32m'differentiation'\u001b[0m: \u001b[1m{\u001b[0m\n",
       "\u001b[2;32m│   │   \u001b[0m\u001b[32m'for_struggling_students'\u001b[0m: \u001b[32m'Giáo viên có thể: Giao các khái niệm đơn giản, dễ hiểu hơn. Cung cấp một phần định nghĩa hoặc ví dụ gợi ý để học sinh hoàn thiện. Hướng dẫn trực tiếp từng bước, đặt câu hỏi gợi mở cụ thể. Cho phép học sinh làm việc theo cặp với bạn giỏi hơn để nhận được sự hỗ trợ trực tiếp.'\u001b[0m,\n",
       "\u001b[2;32m│   │   \u001b[0m\u001b[32m'for_advanced_students'\u001b[0m: \u001b[32m'Giáo viên có thể: Giao các khái niệm phức tạp hơn hoặc yêu cầu phân tích sâu hơn. Yêu cầu học sinh giải thích ý nghĩa/tầm quan trọng của khái niệm trong bối cảnh rộng hơn. Thử thách học sinh tạo một câu đố ngắn hoặc một tình huống thực tế áp dụng khái niệm để kiểm tra hiểu biết của bạn bè.'\u001b[0m\n",
       "\u001b[2;32m│   \u001b[0m\u001b[1m}\u001b[0m,\n",
       "\u001b[2;32m│   \u001b[0m\u001b[32m'content_type'\u001b[0m: \u001b[32m'Thực hành cá nhân/cặp đôi'\u001b[0m\n",
       "\u001b[1m}\u001b[0m\n"
      ]
     },
     "metadata": {},
     "output_type": "display_data"
    },
    {
     "data": {
      "text/html": [
       "<pre style=\"white-space:pre;overflow-x:auto;line-height:normal;font-family:Menlo,'DejaVu Sans Mono',consolas,'Courier New',monospace\">\n",
       "<span style=\"color: #808000; text-decoration-color: #808000; font-weight: bold\">------- Hoàn thành bước: activity_designer -------</span>\n",
       "</pre>\n"
      ],
      "text/plain": [
       "\n",
       "\u001b[1;33m------- Hoàn thành bước: activity_designer -------\u001b[0m\n"
      ]
     },
     "metadata": {},
     "output_type": "display_data"
    },
    {
     "data": {
      "text/html": [
       "<pre style=\"white-space:pre;overflow-x:auto;line-height:normal;font-family:Menlo,'DejaVu Sans Mono',consolas,'Courier New',monospace\">\n",
       "<span style=\"color: #008080; text-decoration-color: #008080; font-weight: bold\">&gt;</span> `Agent: Guardian Critic` <span style=\"font-weight: bold\">(</span>v12.<span style=\"color: #008080; text-decoration-color: #008080; font-weight: bold\">0</span><span style=\"font-weight: bold\">)</span> đang bảo vệ kế hoạch<span style=\"color: #808000; text-decoration-color: #808000\">...</span>\n",
       "</pre>\n"
      ],
      "text/plain": [
       "\n",
       "\u001b[1;36m>\u001b[0m `Agent: Guardian Critic` \u001b[1m(\u001b[0mv12.\u001b[1;36m0\u001b[0m\u001b[1m)\u001b[0m đang bảo vệ kế hoạch\u001b[33m...\u001b[0m\n"
      ]
     },
     "metadata": {},
     "output_type": "display_data"
    },
    {
     "data": {
      "text/html": [
       "<pre style=\"white-space:pre;overflow-x:auto;line-height:normal;font-family:Menlo,'DejaVu Sans Mono',consolas,'Courier New',monospace\"><span style=\"color: #808000; text-decoration-color: #808000; font-weight: bold\">⚠️  GUARDIAN PHẢN BIỆN: Hoạt động này có vẻ quá tham vọng để hoàn thành một cách hiệu quả trong </span><span style=\"color: #808000; text-decoration-color: #808000; font-weight: bold\">25</span><span style=\"color: #808000; text-decoration-color: #808000; font-weight: bold\"> phút. Mặc dù thời</span>\n",
       "<span style=\"color: #808000; text-decoration-color: #808000; font-weight: bold\">lượng tổng thể khớp với kế hoạch, nhưng thời gian dành cho từng phần hoạt động có thể không đủ. Cụ thể:</span>\n",
       "<span style=\"color: #808000; text-decoration-color: #808000; font-weight: bold\">- Phần học sinh làm việc cá nhân/theo cặp để định nghĩa và liệt kê đặc điểm/ví dụ đòi hỏi thời gian suy nghĩ, viết </span>\n",
       "<span style=\"color: #808000; text-decoration-color: #808000; font-weight: bold\">lách và có thể cả thảo luận (nếu làm việc cặp). Với vai trò của giáo viên là di chuyển, hỗ trợ, giải đáp thắc mắc </span>\n",
       "<span style=\"color: #808000; text-decoration-color: #808000; font-weight: bold\">và đặt câu hỏi gợi mở, </span><span style=\"color: #808000; text-decoration-color: #808000; font-weight: bold\">18</span><span style=\"color: #808000; text-decoration-color: #808000; font-weight: bold\"> phút còn lại (sau khi trừ </span><span style=\"color: #808000; text-decoration-color: #808000; font-weight: bold\">3</span><span style=\"color: #808000; text-decoration-color: #808000; font-weight: bold\"> phút giới thiệu và </span><span style=\"color: #808000; text-decoration-color: #808000; font-weight: bold\">4</span><span style=\"color: #808000; text-decoration-color: #808000; font-weight: bold\"> phút trình bày) là rất eo hẹp để đảm bảo</span>\n",
       "<span style=\"color: #808000; text-decoration-color: #808000; font-weight: bold\">tất cả học sinh đều hoàn thành sản phẩm chất lượng và nhận được sự hỗ trợ cần thiết.</span>\n",
       "<span style=\"color: #808000; text-decoration-color: #808000; font-weight: bold\">- Việc mời </span><span style=\"color: #808000; text-decoration-color: #808000; font-weight: bold\">2</span><span style=\"color: #808000; text-decoration-color: #808000; font-weight: bold\">-</span><span style=\"color: #808000; text-decoration-color: #808000; font-weight: bold\">3</span><span style=\"color: #808000; text-decoration-color: #808000; font-weight: bold\"> học sinh/cặp trình bày trong </span><span style=\"color: #808000; text-decoration-color: #808000; font-weight: bold\">4</span><span style=\"color: #808000; text-decoration-color: #808000; font-weight: bold\"> phút cuối giờ là rất gấp gáp, có thể khiến phần trình bày bị cắt xén </span>\n",
       "<span style=\"color: #808000; text-decoration-color: #808000; font-weight: bold\">hoặc không đủ thời gian cho tất cả các nhóm muốn chia sẻ.</span>\n",
       "<span style=\"color: #808000; text-decoration-color: #808000; font-weight: bold\">- Quan trọng hơn, phần tổng kết và củng cố kiến thức của giáo viên là rất cần thiết nhưng lại không được phân bổ </span>\n",
       "<span style=\"color: #808000; text-decoration-color: #808000; font-weight: bold\">thời gian rõ ràng sau phần trình bày của học sinh. Điều này có thể khiến phần tổng kết bị bỏ qua hoặc làm rất vội </span>\n",
       "<span style=\"color: #808000; text-decoration-color: #808000; font-weight: bold\">vàng, ảnh hưởng đến hiệu quả hệ thống hóa kiến thức.</span>\n",
       "\n",
       "<span style=\"color: #808000; text-decoration-color: #808000; font-weight: bold\">Hoạt động này có nguy cơ khiến học sinh cảm thấy vội vã, không đủ thời gian để tư duy sâu, và giáo viên khó có thể </span>\n",
       "<span style=\"color: #808000; text-decoration-color: #808000; font-weight: bold\">bao quát, hỗ trợ đầy đủ cũng như chốt kiến thức một cách trọn vẹn. Hãy thiết kế lại một phiên bản đơn giản hơn để </span>\n",
       "<span style=\"color: #808000; text-decoration-color: #808000; font-weight: bold\">khớp với thời gian </span><span style=\"color: #808000; text-decoration-color: #808000; font-weight: bold\">25</span><span style=\"color: #808000; text-decoration-color: #808000; font-weight: bold\"> phút đã cho.</span>\n",
       "</pre>\n"
      ],
      "text/plain": [
       "\u001b[1;33m⚠️  GUARDIAN PHẢN BIỆN: Hoạt động này có vẻ quá tham vọng để hoàn thành một cách hiệu quả trong \u001b[0m\u001b[1;33m25\u001b[0m\u001b[1;33m phút. Mặc dù thời\u001b[0m\n",
       "\u001b[1;33mlượng tổng thể khớp với kế hoạch, nhưng thời gian dành cho từng phần hoạt động có thể không đủ. Cụ thể:\u001b[0m\n",
       "\u001b[1;33m- Phần học sinh làm việc cá nhân/theo cặp để định nghĩa và liệt kê đặc điểm/ví dụ đòi hỏi thời gian suy nghĩ, viết \u001b[0m\n",
       "\u001b[1;33mlách và có thể cả thảo luận \u001b[0m\u001b[1;33m(\u001b[0m\u001b[1;33mnếu làm việc cặp\u001b[0m\u001b[1;33m)\u001b[0m\u001b[1;33m. Với vai trò của giáo viên là di chuyển, hỗ trợ, giải đáp thắc mắc \u001b[0m\n",
       "\u001b[1;33mvà đặt câu hỏi gợi mở, \u001b[0m\u001b[1;33m18\u001b[0m\u001b[1;33m phút còn lại \u001b[0m\u001b[1;33m(\u001b[0m\u001b[1;33msau khi trừ \u001b[0m\u001b[1;33m3\u001b[0m\u001b[1;33m phút giới thiệu và \u001b[0m\u001b[1;33m4\u001b[0m\u001b[1;33m phút trình bày\u001b[0m\u001b[1;33m)\u001b[0m\u001b[1;33m là rất eo hẹp để đảm bảo\u001b[0m\n",
       "\u001b[1;33mtất cả học sinh đều hoàn thành sản phẩm chất lượng và nhận được sự hỗ trợ cần thiết.\u001b[0m\n",
       "\u001b[1;33m- Việc mời \u001b[0m\u001b[1;33m2\u001b[0m\u001b[1;33m-\u001b[0m\u001b[1;33m3\u001b[0m\u001b[1;33m học sinh/cặp trình bày trong \u001b[0m\u001b[1;33m4\u001b[0m\u001b[1;33m phút cuối giờ là rất gấp gáp, có thể khiến phần trình bày bị cắt xén \u001b[0m\n",
       "\u001b[1;33mhoặc không đủ thời gian cho tất cả các nhóm muốn chia sẻ.\u001b[0m\n",
       "\u001b[1;33m- Quan trọng hơn, phần tổng kết và củng cố kiến thức của giáo viên là rất cần thiết nhưng lại không được phân bổ \u001b[0m\n",
       "\u001b[1;33mthời gian rõ ràng sau phần trình bày của học sinh. Điều này có thể khiến phần tổng kết bị bỏ qua hoặc làm rất vội \u001b[0m\n",
       "\u001b[1;33mvàng, ảnh hưởng đến hiệu quả hệ thống hóa kiến thức.\u001b[0m\n",
       "\n",
       "\u001b[1;33mHoạt động này có nguy cơ khiến học sinh cảm thấy vội vã, không đủ thời gian để tư duy sâu, và giáo viên khó có thể \u001b[0m\n",
       "\u001b[1;33mbao quát, hỗ trợ đầy đủ cũng như chốt kiến thức một cách trọn vẹn. Hãy thiết kế lại một phiên bản đơn giản hơn để \u001b[0m\n",
       "\u001b[1;33mkhớp với thời gian \u001b[0m\u001b[1;33m25\u001b[0m\u001b[1;33m phút đã cho.\u001b[0m\n"
      ]
     },
     "metadata": {},
     "output_type": "display_data"
    },
    {
     "data": {
      "text/html": [
       "<pre style=\"white-space:pre;overflow-x:auto;line-height:normal;font-family:Menlo,'DejaVu Sans Mono',consolas,'Courier New',monospace\">\n",
       "<span style=\"color: #808000; text-decoration-color: #808000; font-weight: bold\">------- Hoàn thành bước: content_validator -------</span>\n",
       "</pre>\n"
      ],
      "text/plain": [
       "\n",
       "\u001b[1;33m------- Hoàn thành bước: content_validator -------\u001b[0m\n"
      ]
     },
     "metadata": {},
     "output_type": "display_data"
    },
    {
     "data": {
      "text/html": [
       "<pre style=\"white-space:pre;overflow-x:auto;line-height:normal;font-family:Menlo,'DejaVu Sans Mono',consolas,'Courier New',monospace\">\n",
       "<span style=\"color: #008080; text-decoration-color: #008080; font-weight: bold\">&gt;</span> `Agent: Task Dispatcher` đang giao việc<span style=\"color: #808000; text-decoration-color: #808000\">...</span>\n",
       "</pre>\n"
      ],
      "text/plain": [
       "\n",
       "\u001b[1;36m>\u001b[0m `Agent: Task Dispatcher` đang giao việc\u001b[33m...\u001b[0m\n"
      ]
     },
     "metadata": {},
     "output_type": "display_data"
    },
    {
     "data": {
      "text/html": [
       "<pre style=\"white-space:pre;overflow-x:auto;line-height:normal;font-family:Menlo,'DejaVu Sans Mono',consolas,'Courier New',monospace\">\n",
       "<span style=\"color: #008080; text-decoration-color: #008080; font-weight: bold\">&gt;</span> --- 🚚 `Dispatcher`: Giao nhiệm vụ cho `activity_designer`.\n",
       "</pre>\n"
      ],
      "text/plain": [
       "\n",
       "\u001b[1;36m>\u001b[0m --- 🚚 `Dispatcher`: Giao nhiệm vụ cho `activity_designer`.\n"
      ]
     },
     "metadata": {},
     "output_type": "display_data"
    },
    {
     "data": {
      "text/html": [
       "<pre style=\"white-space:pre;overflow-x:auto;line-height:normal;font-family:Menlo,'DejaVu Sans Mono',consolas,'Courier New',monospace\">\n",
       "<span style=\"color: #808000; text-decoration-color: #808000; font-weight: bold\">------- Hoàn thành bước: task_dispatcher -------</span>\n",
       "</pre>\n"
      ],
      "text/plain": [
       "\n",
       "\u001b[1;33m------- Hoàn thành bước: task_dispatcher -------\u001b[0m\n"
      ]
     },
     "metadata": {},
     "output_type": "display_data"
    },
    {
     "data": {
      "text/html": [
       "<pre style=\"white-space:pre;overflow-x:auto;line-height:normal;font-family:Menlo,'DejaVu Sans Mono',consolas,'Courier New',monospace\">\n",
       "<span style=\"color: #008080; text-decoration-color: #008080; font-weight: bold\">&gt;</span> `Agent: Activity Designer` <span style=\"font-weight: bold\">(</span>v12.<span style=\"color: #008080; text-decoration-color: #008080; font-weight: bold\">0</span><span style=\"font-weight: bold\">)</span> đang tạo nội dung theo kỷ luật<span style=\"color: #808000; text-decoration-color: #808000\">...</span>\n",
       "</pre>\n"
      ],
      "text/plain": [
       "\n",
       "\u001b[1;36m>\u001b[0m `Agent: Activity Designer` \u001b[1m(\u001b[0mv12.\u001b[1;36m0\u001b[0m\u001b[1m)\u001b[0m đang tạo nội dung theo kỷ luật\u001b[33m...\u001b[0m\n"
      ]
     },
     "metadata": {},
     "output_type": "display_data"
    },
    {
     "data": {
      "text/html": [
       "<pre style=\"white-space:pre;overflow-x:auto;line-height:normal;font-family:Menlo,'DejaVu Sans Mono',consolas,'Courier New',monospace\"><span style=\"color: #008000; text-decoration-color: #008000; font-weight: bold\">✔️ Nội dung do Activity Designer tạo ra:</span>\n",
       "</pre>\n"
      ],
      "text/plain": [
       "\u001b[1;32m✔️ Nội dung do Activity Designer tạo ra:\u001b[0m\n"
      ]
     },
     "metadata": {},
     "output_type": "display_data"
    },
    {
     "data": {
      "text/html": [
       "<pre style=\"white-space:pre;overflow-x:auto;line-height:normal;font-family:Menlo,'DejaVu Sans Mono',consolas,'Courier New',monospace\"><span style=\"font-weight: bold\">{</span>\n",
       "<span style=\"color: #7fbf7f; text-decoration-color: #7fbf7f\">│   </span><span style=\"color: #008000; text-decoration-color: #008000\">'activity_name'</span>: <span style=\"color: #008000; text-decoration-color: #008000\">'Hệ thống hóa kiến thức trọng tâm và Chia sẻ'</span>,\n",
       "<span style=\"color: #7fbf7f; text-decoration-color: #7fbf7f\">│   </span><span style=\"color: #008000; text-decoration-color: #008000\">'duration_minutes'</span>: <span style=\"color: #008080; text-decoration-color: #008080; font-weight: bold\">25</span>,\n",
       "<span style=\"color: #7fbf7f; text-decoration-color: #7fbf7f\">│   </span><span style=\"color: #008000; text-decoration-color: #008000\">'teacher_actions'</span>: <span style=\"font-weight: bold\">[</span>\n",
       "<span style=\"color: #7fbf7f; text-decoration-color: #7fbf7f\">│   │   </span><span style=\"color: #008000; text-decoration-color: #008000\">'Giới thiệu mục tiêu, nhiệm vụ và thời gian cho hoạt động (2 phút).'</span>,\n",
       "<span style=\"color: #7fbf7f; text-decoration-color: #7fbf7f\">│   │   </span><span style=\"color: #008000; text-decoration-color: #008000\">'Di chuyển quanh lớp, quan sát, hỗ trợ các nhóm/cá nhân gặp khó khăn, giải đáp thắc mắc, đặt câu hỏi gợi mở để định hướng tư duy (15 phút).'</span>,\n",
       "<span style=\"color: #7fbf7f; text-decoration-color: #7fbf7f\">│   │   </span><span style=\"color: #008000; text-decoration-color: #008000\">'Mời 2-3 học sinh/cặp trình bày nhanh sản phẩm của mình, khuyến khích các bạn khác đặt câu hỏi hoặc bổ sung (5 phút).'</span>,\n",
       "<span style=\"color: #7fbf7f; text-decoration-color: #7fbf7f\">│   │   </span><span style=\"color: #008000; text-decoration-color: #008000\">'Tổng kết, chốt lại các kiến thức trọng tâm, bổ sung những điểm còn thiếu hoặc chưa chính xác, và nhận xét, biểu dương học sinh (3 phút).'</span>\n",
       "<span style=\"color: #7fbf7f; text-decoration-color: #7fbf7f\">│   </span><span style=\"font-weight: bold\">]</span>,\n",
       "<span style=\"color: #7fbf7f; text-decoration-color: #7fbf7f\">│   </span><span style=\"color: #008000; text-decoration-color: #008000\">'core_component'</span>: <span style=\"color: #008000; text-decoration-color: #008000\">\"Học sinh làm việc cá nhân hoặc theo cặp (tùy sĩ số và mục tiêu) để hệ thống hóa kiến thức về một chủ đề cụ thể đã học gần đây (ví dụ: 'Các đặc điểm chính của một loại hình văn học/khoa học cụ thể' hoặc 'Các bước giải quyết một dạng bài tập'). Sản phẩm là một sơ đồ tư duy đơn giản, bảng tóm tắt các ý chính, hoặc danh sách các thuật ngữ/khái niệm quan trọng kèm giải thích ngắn gọn. Mục tiêu là nắm vững các kiến thức cốt lõi.\"</span>,\n",
       "<span style=\"color: #7fbf7f; text-decoration-color: #7fbf7f\">│   </span><span style=\"color: #008000; text-decoration-color: #008000\">'extension_component'</span>: <span style=\"color: #008000; text-decoration-color: #008000\">'Học sinh hoàn thành sớm có thể: Mở rộng sơ đồ/bảng tóm tắt bằng cách thêm các ví dụ minh họa hoặc liên hệ thực tế. Chuẩn bị một câu hỏi thách thức cho các bạn về chủ đề đã hệ thống hóa. Tìm kiếm thêm thông tin liên quan để làm sâu sắc kiến thức.'</span>,\n",
       "<span style=\"color: #7fbf7f; text-decoration-color: #7fbf7f\">│   </span><span style=\"color: #008000; text-decoration-color: #008000\">'solution_guide'</span>: <span style=\"color: #008000; text-decoration-color: #008000\">\"Các sản phẩm cần thể hiện được: Các khái niệm/thuật ngữ chính được xác định rõ ràng. Mối quan hệ giữa các khái niệm (nếu có). Tóm tắt các ý chính một cách ngắn gọn, dễ hiểu. Sự logic và khoa học trong cách sắp xếp kiến thức. Giáo viên cần có sẵn một 'đáp án' hoặc 'sơ đồ chuẩn' để đối chiếu và tổng kết.\"</span>,\n",
       "<span style=\"color: #7fbf7f; text-decoration-color: #7fbf7f\">│   </span><span style=\"color: #008000; text-decoration-color: #008000\">'differentiation'</span>: <span style=\"font-weight: bold\">{</span>\n",
       "<span style=\"color: #7fbf7f; text-decoration-color: #7fbf7f\">│   │   </span><span style=\"color: #008000; text-decoration-color: #008000\">'for_struggling_students'</span>: <span style=\"color: #008000; text-decoration-color: #008000\">'Cung cấp các từ khóa gợi ý, câu hỏi định hướng cụ thể, hoặc một mẫu sơ đồ/bảng tóm tắt có sẵn một phần để học sinh điền vào. Khuyến khích làm việc theo cặp với bạn khá hơn. Tập trung vào việc xác định 3-4 ý chính cơ bản nhất.'</span>,\n",
       "<span style=\"color: #7fbf7f; text-decoration-color: #7fbf7f\">│   │   </span><span style=\"color: #008000; text-decoration-color: #008000\">'for_advanced_students'</span>: <span style=\"color: #008000; text-decoration-color: #008000\">'Yêu cầu học sinh không chỉ hệ thống hóa mà còn phân tích mối liên hệ giữa các khái niệm, hoặc so sánh/đối chiếu với các chủ đề khác đã học. Thách thức các em trình bày bằng nhiều hình thức sáng tạo hơn (ví dụ: dùng hình ảnh, biểu tượng) hoặc giải thích sâu hơn về một khía cạnh phức tạp.'</span>\n",
       "<span style=\"color: #7fbf7f; text-decoration-color: #7fbf7f\">│   </span><span style=\"font-weight: bold\">}</span>,\n",
       "<span style=\"color: #7fbf7f; text-decoration-color: #7fbf7f\">│   </span><span style=\"color: #008000; text-decoration-color: #008000\">'content_type'</span>: <span style=\"color: #008000; text-decoration-color: #008000\">'Thực hành cá nhân/cặp và Chia sẻ trước lớp'</span>\n",
       "<span style=\"font-weight: bold\">}</span>\n",
       "</pre>\n"
      ],
      "text/plain": [
       "\u001b[1m{\u001b[0m\n",
       "\u001b[2;32m│   \u001b[0m\u001b[32m'activity_name'\u001b[0m: \u001b[32m'Hệ thống hóa kiến thức trọng tâm và Chia sẻ'\u001b[0m,\n",
       "\u001b[2;32m│   \u001b[0m\u001b[32m'duration_minutes'\u001b[0m: \u001b[1;36m25\u001b[0m,\n",
       "\u001b[2;32m│   \u001b[0m\u001b[32m'teacher_actions'\u001b[0m: \u001b[1m[\u001b[0m\n",
       "\u001b[2;32m│   │   \u001b[0m\u001b[32m'Giới thiệu mục tiêu, nhiệm vụ và thời gian cho hoạt động \u001b[0m\u001b[32m(\u001b[0m\u001b[32m2 phút\u001b[0m\u001b[32m)\u001b[0m\u001b[32m.'\u001b[0m,\n",
       "\u001b[2;32m│   │   \u001b[0m\u001b[32m'Di chuyển quanh lớp, quan sát, hỗ trợ các nhóm/cá nhân gặp khó khăn, giải đáp thắc mắc, đặt câu hỏi gợi mở để định hướng tư duy \u001b[0m\u001b[32m(\u001b[0m\u001b[32m15 phút\u001b[0m\u001b[32m)\u001b[0m\u001b[32m.'\u001b[0m,\n",
       "\u001b[2;32m│   │   \u001b[0m\u001b[32m'Mời 2-3 học sinh/cặp trình bày nhanh sản phẩm của mình, khuyến khích các bạn khác đặt câu hỏi hoặc bổ sung \u001b[0m\u001b[32m(\u001b[0m\u001b[32m5 phút\u001b[0m\u001b[32m)\u001b[0m\u001b[32m.'\u001b[0m,\n",
       "\u001b[2;32m│   │   \u001b[0m\u001b[32m'Tổng kết, chốt lại các kiến thức trọng tâm, bổ sung những điểm còn thiếu hoặc chưa chính xác, và nhận xét, biểu dương học sinh \u001b[0m\u001b[32m(\u001b[0m\u001b[32m3 phút\u001b[0m\u001b[32m)\u001b[0m\u001b[32m.'\u001b[0m\n",
       "\u001b[2;32m│   \u001b[0m\u001b[1m]\u001b[0m,\n",
       "\u001b[2;32m│   \u001b[0m\u001b[32m'core_component'\u001b[0m: \u001b[32m\"Học sinh làm việc cá nhân hoặc theo cặp \u001b[0m\u001b[32m(\u001b[0m\u001b[32mtùy sĩ số và mục tiêu\u001b[0m\u001b[32m)\u001b[0m\u001b[32m để hệ thống hóa kiến thức về một chủ đề cụ thể đã học gần đây \u001b[0m\u001b[32m(\u001b[0m\u001b[32mví dụ: 'Các đặc điểm chính của một loại hình văn học/khoa học cụ thể' hoặc 'Các bước giải quyết một dạng bài tập'\u001b[0m\u001b[32m)\u001b[0m\u001b[32m. Sản phẩm là một sơ đồ tư duy đơn giản, bảng tóm tắt các ý chính, hoặc danh sách các thuật ngữ/khái niệm quan trọng kèm giải thích ngắn gọn. Mục tiêu là nắm vững các kiến thức cốt lõi.\"\u001b[0m,\n",
       "\u001b[2;32m│   \u001b[0m\u001b[32m'extension_component'\u001b[0m: \u001b[32m'Học sinh hoàn thành sớm có thể: Mở rộng sơ đồ/bảng tóm tắt bằng cách thêm các ví dụ minh họa hoặc liên hệ thực tế. Chuẩn bị một câu hỏi thách thức cho các bạn về chủ đề đã hệ thống hóa. Tìm kiếm thêm thông tin liên quan để làm sâu sắc kiến thức.'\u001b[0m,\n",
       "\u001b[2;32m│   \u001b[0m\u001b[32m'solution_guide'\u001b[0m: \u001b[32m\"Các sản phẩm cần thể hiện được: Các khái niệm/thuật ngữ chính được xác định rõ ràng. Mối quan hệ giữa các khái niệm \u001b[0m\u001b[32m(\u001b[0m\u001b[32mnếu có\u001b[0m\u001b[32m)\u001b[0m\u001b[32m. Tóm tắt các ý chính một cách ngắn gọn, dễ hiểu. Sự logic và khoa học trong cách sắp xếp kiến thức. Giáo viên cần có sẵn một 'đáp án' hoặc 'sơ đồ chuẩn' để đối chiếu và tổng kết.\"\u001b[0m,\n",
       "\u001b[2;32m│   \u001b[0m\u001b[32m'differentiation'\u001b[0m: \u001b[1m{\u001b[0m\n",
       "\u001b[2;32m│   │   \u001b[0m\u001b[32m'for_struggling_students'\u001b[0m: \u001b[32m'Cung cấp các từ khóa gợi ý, câu hỏi định hướng cụ thể, hoặc một mẫu sơ đồ/bảng tóm tắt có sẵn một phần để học sinh điền vào. Khuyến khích làm việc theo cặp với bạn khá hơn. Tập trung vào việc xác định 3-4 ý chính cơ bản nhất.'\u001b[0m,\n",
       "\u001b[2;32m│   │   \u001b[0m\u001b[32m'for_advanced_students'\u001b[0m: \u001b[32m'Yêu cầu học sinh không chỉ hệ thống hóa mà còn phân tích mối liên hệ giữa các khái niệm, hoặc so sánh/đối chiếu với các chủ đề khác đã học. Thách thức các em trình bày bằng nhiều hình thức sáng tạo hơn \u001b[0m\u001b[32m(\u001b[0m\u001b[32mví dụ: dùng hình ảnh, biểu tượng\u001b[0m\u001b[32m)\u001b[0m\u001b[32m hoặc giải thích sâu hơn về một khía cạnh phức tạp.'\u001b[0m\n",
       "\u001b[2;32m│   \u001b[0m\u001b[1m}\u001b[0m,\n",
       "\u001b[2;32m│   \u001b[0m\u001b[32m'content_type'\u001b[0m: \u001b[32m'Thực hành cá nhân/cặp và Chia sẻ trước lớp'\u001b[0m\n",
       "\u001b[1m}\u001b[0m\n"
      ]
     },
     "metadata": {},
     "output_type": "display_data"
    },
    {
     "data": {
      "text/html": [
       "<pre style=\"white-space:pre;overflow-x:auto;line-height:normal;font-family:Menlo,'DejaVu Sans Mono',consolas,'Courier New',monospace\">\n",
       "<span style=\"color: #808000; text-decoration-color: #808000; font-weight: bold\">------- Hoàn thành bước: activity_designer -------</span>\n",
       "</pre>\n"
      ],
      "text/plain": [
       "\n",
       "\u001b[1;33m------- Hoàn thành bước: activity_designer -------\u001b[0m\n"
      ]
     },
     "metadata": {},
     "output_type": "display_data"
    },
    {
     "data": {
      "text/html": [
       "<pre style=\"white-space:pre;overflow-x:auto;line-height:normal;font-family:Menlo,'DejaVu Sans Mono',consolas,'Courier New',monospace\">\n",
       "<span style=\"color: #008080; text-decoration-color: #008080; font-weight: bold\">&gt;</span> `Agent: Guardian Critic` <span style=\"font-weight: bold\">(</span>v12.<span style=\"color: #008080; text-decoration-color: #008080; font-weight: bold\">0</span><span style=\"font-weight: bold\">)</span> đang bảo vệ kế hoạch<span style=\"color: #808000; text-decoration-color: #808000\">...</span>\n",
       "</pre>\n"
      ],
      "text/plain": [
       "\n",
       "\u001b[1;36m>\u001b[0m `Agent: Guardian Critic` \u001b[1m(\u001b[0mv12.\u001b[1;36m0\u001b[0m\u001b[1m)\u001b[0m đang bảo vệ kế hoạch\u001b[33m...\u001b[0m\n"
      ]
     },
     "metadata": {},
     "output_type": "display_data"
    },
    {
     "data": {
      "text/html": [
       "<pre style=\"white-space:pre;overflow-x:auto;line-height:normal;font-family:Menlo,'DejaVu Sans Mono',consolas,'Courier New',monospace\"><span style=\"color: #808000; text-decoration-color: #808000; font-weight: bold\">⚠️  GUARDIAN PHẢN BIỆN: Hoạt động này có cấu trúc khá rõ ràng, tuy nhiên, thời lượng </span><span style=\"color: #808000; text-decoration-color: #808000; font-weight: bold\">25</span><span style=\"color: #808000; text-decoration-color: #808000; font-weight: bold\"> phút là quá ngắn để học sinh</span>\n",
       "<span style=\"color: #808000; text-decoration-color: #808000; font-weight: bold\">có thể thực hiện hiệu quả việc hệ thống hóa kiến thức (</span><span style=\"color: #808000; text-decoration-color: #808000; font-weight: bold\">15</span><span style=\"color: #808000; text-decoration-color: #808000; font-weight: bold\"> phút) và giáo viên tổng kết, chốt kiến thức một cách đầy </span>\n",
       "<span style=\"color: #808000; text-decoration-color: #808000; font-weight: bold\">đủ (</span><span style=\"color: #808000; text-decoration-color: #808000; font-weight: bold\">3</span><span style=\"color: #808000; text-decoration-color: #808000; font-weight: bold\"> phút). Việc tạo sơ đồ tư duy hoặc bảng tóm tắt, dù đơn giản, cũng cần thời gian để học sinh tư duy, sắp xếp </span>\n",
       "<span style=\"color: #808000; text-decoration-color: #808000; font-weight: bold\">và trình bày. Phần tổng kết của giáo viên cũng cần đủ thời gian để củng cố kiến thức và đưa ra nhận xét sâu sắc. Do</span>\n",
       "<span style=\"color: #808000; text-decoration-color: #808000; font-weight: bold\">đó, hoạt động này khó có thể đạt được mục tiêu đề ra trong khung thời gian cho phép. Hãy thiết kế lại một phiên bản</span>\n",
       "<span style=\"color: #808000; text-decoration-color: #808000; font-weight: bold\">đơn giản hơn để khớp với thời gian </span><span style=\"color: #808000; text-decoration-color: #808000; font-weight: bold\">25</span><span style=\"color: #808000; text-decoration-color: #808000; font-weight: bold\"> phút đã cho.</span>\n",
       "</pre>\n"
      ],
      "text/plain": [
       "\u001b[1;33m⚠️  GUARDIAN PHẢN BIỆN: Hoạt động này có cấu trúc khá rõ ràng, tuy nhiên, thời lượng \u001b[0m\u001b[1;33m25\u001b[0m\u001b[1;33m phút là quá ngắn để học sinh\u001b[0m\n",
       "\u001b[1;33mcó thể thực hiện hiệu quả việc hệ thống hóa kiến thức \u001b[0m\u001b[1;33m(\u001b[0m\u001b[1;33m15\u001b[0m\u001b[1;33m phút\u001b[0m\u001b[1;33m)\u001b[0m\u001b[1;33m và giáo viên tổng kết, chốt kiến thức một cách đầy \u001b[0m\n",
       "\u001b[1;33mđủ \u001b[0m\u001b[1;33m(\u001b[0m\u001b[1;33m3\u001b[0m\u001b[1;33m phút\u001b[0m\u001b[1;33m)\u001b[0m\u001b[1;33m. Việc tạo sơ đồ tư duy hoặc bảng tóm tắt, dù đơn giản, cũng cần thời gian để học sinh tư duy, sắp xếp \u001b[0m\n",
       "\u001b[1;33mvà trình bày. Phần tổng kết của giáo viên cũng cần đủ thời gian để củng cố kiến thức và đưa ra nhận xét sâu sắc. Do\u001b[0m\n",
       "\u001b[1;33mđó, hoạt động này khó có thể đạt được mục tiêu đề ra trong khung thời gian cho phép. Hãy thiết kế lại một phiên bản\u001b[0m\n",
       "\u001b[1;33mđơn giản hơn để khớp với thời gian \u001b[0m\u001b[1;33m25\u001b[0m\u001b[1;33m phút đã cho.\u001b[0m\n"
      ]
     },
     "metadata": {},
     "output_type": "display_data"
    },
    {
     "data": {
      "text/html": [
       "<pre style=\"white-space:pre;overflow-x:auto;line-height:normal;font-family:Menlo,'DejaVu Sans Mono',consolas,'Courier New',monospace\">\n",
       "<span style=\"color: #808000; text-decoration-color: #808000; font-weight: bold\">------- Hoàn thành bước: content_validator -------</span>\n",
       "</pre>\n"
      ],
      "text/plain": [
       "\n",
       "\u001b[1;33m------- Hoàn thành bước: content_validator -------\u001b[0m\n"
      ]
     },
     "metadata": {},
     "output_type": "display_data"
    },
    {
     "data": {
      "text/html": [
       "<pre style=\"white-space:pre;overflow-x:auto;line-height:normal;font-family:Menlo,'DejaVu Sans Mono',consolas,'Courier New',monospace\">\n",
       "<span style=\"color: #008080; text-decoration-color: #008080; font-weight: bold\">&gt;</span> `Agent: Task Dispatcher` đang giao việc<span style=\"color: #808000; text-decoration-color: #808000\">...</span>\n",
       "</pre>\n"
      ],
      "text/plain": [
       "\n",
       "\u001b[1;36m>\u001b[0m `Agent: Task Dispatcher` đang giao việc\u001b[33m...\u001b[0m\n"
      ]
     },
     "metadata": {},
     "output_type": "display_data"
    },
    {
     "data": {
      "text/html": [
       "<pre style=\"white-space:pre;overflow-x:auto;line-height:normal;font-family:Menlo,'DejaVu Sans Mono',consolas,'Courier New',monospace\">\n",
       "<span style=\"color: #008080; text-decoration-color: #008080; font-weight: bold\">&gt;</span> --- 🚚 `Dispatcher`: Giao nhiệm vụ cho `activity_designer`.\n",
       "</pre>\n"
      ],
      "text/plain": [
       "\n",
       "\u001b[1;36m>\u001b[0m --- 🚚 `Dispatcher`: Giao nhiệm vụ cho `activity_designer`.\n"
      ]
     },
     "metadata": {},
     "output_type": "display_data"
    },
    {
     "data": {
      "text/html": [
       "<pre style=\"white-space:pre;overflow-x:auto;line-height:normal;font-family:Menlo,'DejaVu Sans Mono',consolas,'Courier New',monospace\">\n",
       "<span style=\"color: #808000; text-decoration-color: #808000; font-weight: bold\">------- Hoàn thành bước: task_dispatcher -------</span>\n",
       "</pre>\n"
      ],
      "text/plain": [
       "\n",
       "\u001b[1;33m------- Hoàn thành bước: task_dispatcher -------\u001b[0m\n"
      ]
     },
     "metadata": {},
     "output_type": "display_data"
    },
    {
     "data": {
      "text/html": [
       "<pre style=\"white-space:pre;overflow-x:auto;line-height:normal;font-family:Menlo,'DejaVu Sans Mono',consolas,'Courier New',monospace\">\n",
       "<span style=\"color: #008080; text-decoration-color: #008080; font-weight: bold\">&gt;</span> `Agent: Activity Designer` <span style=\"font-weight: bold\">(</span>v12.<span style=\"color: #008080; text-decoration-color: #008080; font-weight: bold\">0</span><span style=\"font-weight: bold\">)</span> đang tạo nội dung theo kỷ luật<span style=\"color: #808000; text-decoration-color: #808000\">...</span>\n",
       "</pre>\n"
      ],
      "text/plain": [
       "\n",
       "\u001b[1;36m>\u001b[0m `Agent: Activity Designer` \u001b[1m(\u001b[0mv12.\u001b[1;36m0\u001b[0m\u001b[1m)\u001b[0m đang tạo nội dung theo kỷ luật\u001b[33m...\u001b[0m\n"
      ]
     },
     "metadata": {},
     "output_type": "display_data"
    },
    {
     "data": {
      "text/html": [
       "<pre style=\"white-space:pre;overflow-x:auto;line-height:normal;font-family:Menlo,'DejaVu Sans Mono',consolas,'Courier New',monospace\"><span style=\"color: #008000; text-decoration-color: #008000; font-weight: bold\">✔️ Nội dung do Activity Designer tạo ra:</span>\n",
       "</pre>\n"
      ],
      "text/plain": [
       "\u001b[1;32m✔️ Nội dung do Activity Designer tạo ra:\u001b[0m\n"
      ]
     },
     "metadata": {},
     "output_type": "display_data"
    },
    {
     "data": {
      "text/html": [
       "<pre style=\"white-space:pre;overflow-x:auto;line-height:normal;font-family:Menlo,'DejaVu Sans Mono',consolas,'Courier New',monospace\"><span style=\"font-weight: bold\">{</span>\n",
       "<span style=\"color: #7fbf7f; text-decoration-color: #7fbf7f\">│   </span><span style=\"color: #008000; text-decoration-color: #008000\">'activity_name'</span>: <span style=\"color: #008000; text-decoration-color: #008000\">'Trình bày và Hệ thống hóa kiến thức'</span>,\n",
       "<span style=\"color: #7fbf7f; text-decoration-color: #7fbf7f\">│   </span><span style=\"color: #008000; text-decoration-color: #008000\">'duration_minutes'</span>: <span style=\"color: #008080; text-decoration-color: #008080; font-weight: bold\">25</span>,\n",
       "<span style=\"color: #7fbf7f; text-decoration-color: #7fbf7f\">│   </span><span style=\"color: #008000; text-decoration-color: #008000\">'teacher_actions'</span>: <span style=\"font-weight: bold\">[</span>\n",
       "<span style=\"color: #7fbf7f; text-decoration-color: #7fbf7f\">│   │   </span><span style=\"color: #008000; text-decoration-color: #008000\">'Giới thiệu mục tiêu và quy trình hoạt động (2 phút).'</span>,\n",
       "<span style=\"color: #7fbf7f; text-decoration-color: #7fbf7f\">│   │   </span><span style=\"color: #008000; text-decoration-color: #008000\">'Chia lớp thành các nhóm nhỏ (3-4 học sinh/nhóm) và phát phiếu học tập/khung sơ đồ tư duy đã chuẩn bị sẵn.'</span>,\n",
       "<span style=\"color: #7fbf7f; text-decoration-color: #7fbf7f\">│   │   </span><span style=\"color: #008000; text-decoration-color: #008000\">'Quan sát, đi lại giữa các nhóm, lắng nghe, hỗ trợ và gợi ý khi học sinh gặp khó khăn (trong 15 phút hoạt động nhóm).'</span>,\n",
       "<span style=\"color: #7fbf7f; text-decoration-color: #7fbf7f\">│   │   </span><span style=\"color: #008000; text-decoration-color: #008000\">'Mời ngẫu nhiên 2-3 nhóm đại diện trình bày nhanh 1-2 điểm chính mà nhóm đã hệ thống được (5 phút).'</span>,\n",
       "<span style=\"color: #7fbf7f; text-decoration-color: #7fbf7f\">│   │   </span><span style=\"color: #008000; text-decoration-color: #008000\">'Tổng kết, chốt lại các kiến thức trọng tâm, bổ sung những điểm còn thiếu hoặc chưa chính xác, và giải đáp nhanh các thắc mắc của học sinh (3 phút).'</span>\n",
       "<span style=\"color: #7fbf7f; text-decoration-color: #7fbf7f\">│   </span><span style=\"font-weight: bold\">]</span>,\n",
       "<span style=\"color: #7fbf7f; text-decoration-color: #7fbf7f\">│   </span><span style=\"color: #008000; text-decoration-color: #008000\">'core_component'</span>: <span style=\"color: #008000; text-decoration-color: #008000\">'Học sinh làm việc theo nhóm nhỏ (3-4 người) trong 15 phút để hoàn thành một bảng tóm tắt hoặc sơ đồ tư duy (đã được giáo viên cung cấp khung sườn/các nhánh chính) về các kiến thức trọng tâm của bài học. Mục tiêu là điền các khái niệm, định nghĩa, ví dụ hoặc mối liên hệ chính vào các ô/nhánh còn trống. Sau đó, các nhóm chuẩn bị để chia sẻ nhanh 1-2 điểm nổi bật nhất mà nhóm đã hệ thống được.'</span>,\n",
       "<span style=\"color: #7fbf7f; text-decoration-color: #7fbf7f\">│   </span><span style=\"color: #008000; text-decoration-color: #008000\">'extension_component'</span>: <span style=\"color: #008000; text-decoration-color: #008000\">'Nếu còn thời gian, học sinh có thể trao đổi phiếu học tập/sơ đồ tư duy giữa các nhóm để nhận xét, bổ sung cho nhau hoặc tự đặt câu hỏi trắc nghiệm nhanh dựa trên kiến thức đã hệ thống.'</span>,\n",
       "<span style=\"color: #7fbf7f; text-decoration-color: #7fbf7f\">│   </span><span style=\"color: #008000; text-decoration-color: #008000\">'solution_guide'</span>: <span style=\"color: #008000; text-decoration-color: #008000\">\"Giáo viên cần chuẩn bị sẵn một bảng tóm tắt hoặc sơ đồ tư duy hoàn chỉnh để đối chiếu và chốt kiến thức. Các câu hỏi gợi mở có thể bao gồm: 'Khái niệm này có ý nghĩa gì trong thực tế?', 'Mối quan hệ giữa A và B là gì?', 'Có những ví dụ nào minh họa cho kiến thức này?'\"</span>,\n",
       "<span style=\"color: #7fbf7f; text-decoration-color: #7fbf7f\">│   </span><span style=\"color: #008000; text-decoration-color: #008000\">'differentiation'</span>: <span style=\"font-weight: bold\">{</span>\n",
       "<span style=\"color: #7fbf7f; text-decoration-color: #7fbf7f\">│   │   </span><span style=\"color: #008000; text-decoration-color: #008000\">'for_struggling_students'</span>: <span style=\"color: #008000; text-decoration-color: #008000\">'Cung cấp phiếu học tập có nhiều gợi ý hơn, các câu hỏi dẫn dắt cụ thể hoặc cho phép học sinh sử dụng tài liệu/sách giáo khoa mở trong quá trình làm việc. Giáo viên nên ưu tiên đến nhóm này để hỗ trợ trực tiếp, đặt câu hỏi gợi mở và khuyến khích các em tham gia.'</span>,\n",
       "<span style=\"color: #7fbf7f; text-decoration-color: #7fbf7f\">│   │   </span><span style=\"color: #008000; text-decoration-color: #008000\">'for_advanced_students'</span>: <span style=\"color: #008000; text-decoration-color: #008000\">'Khuyến khích học sinh bổ sung các ví dụ thực tế, liên hệ kiến thức với các bài học trước hoặc kiến thức liên môn. Yêu cầu các em tự tạo thêm một nhánh nhỏ trong sơ đồ tư duy để mở rộng một khái niệm hoặc đặt câu hỏi phản biện/mở rộng cho các nhóm khác khi chia sẻ.'</span>\n",
       "<span style=\"color: #7fbf7f; text-decoration-color: #7fbf7f\">│   </span><span style=\"font-weight: bold\">}</span>,\n",
       "<span style=\"color: #7fbf7f; text-decoration-color: #7fbf7f\">│   </span><span style=\"color: #008000; text-decoration-color: #008000\">'content_type'</span>: <span style=\"color: #008000; text-decoration-color: #008000\">'Hệ thống hóa kiến thức theo nhóm và chia sẻ nhanh'</span>\n",
       "<span style=\"font-weight: bold\">}</span>\n",
       "</pre>\n"
      ],
      "text/plain": [
       "\u001b[1m{\u001b[0m\n",
       "\u001b[2;32m│   \u001b[0m\u001b[32m'activity_name'\u001b[0m: \u001b[32m'Trình bày và Hệ thống hóa kiến thức'\u001b[0m,\n",
       "\u001b[2;32m│   \u001b[0m\u001b[32m'duration_minutes'\u001b[0m: \u001b[1;36m25\u001b[0m,\n",
       "\u001b[2;32m│   \u001b[0m\u001b[32m'teacher_actions'\u001b[0m: \u001b[1m[\u001b[0m\n",
       "\u001b[2;32m│   │   \u001b[0m\u001b[32m'Giới thiệu mục tiêu và quy trình hoạt động \u001b[0m\u001b[32m(\u001b[0m\u001b[32m2 phút\u001b[0m\u001b[32m)\u001b[0m\u001b[32m.'\u001b[0m,\n",
       "\u001b[2;32m│   │   \u001b[0m\u001b[32m'Chia lớp thành các nhóm nhỏ \u001b[0m\u001b[32m(\u001b[0m\u001b[32m3-4 học sinh/nhóm\u001b[0m\u001b[32m)\u001b[0m\u001b[32m và phát phiếu học tập/khung sơ đồ tư duy đã chuẩn bị sẵn.'\u001b[0m,\n",
       "\u001b[2;32m│   │   \u001b[0m\u001b[32m'Quan sát, đi lại giữa các nhóm, lắng nghe, hỗ trợ và gợi ý khi học sinh gặp khó khăn \u001b[0m\u001b[32m(\u001b[0m\u001b[32mtrong 15 phút hoạt động nhóm\u001b[0m\u001b[32m)\u001b[0m\u001b[32m.'\u001b[0m,\n",
       "\u001b[2;32m│   │   \u001b[0m\u001b[32m'Mời ngẫu nhiên 2-3 nhóm đại diện trình bày nhanh 1-2 điểm chính mà nhóm đã hệ thống được \u001b[0m\u001b[32m(\u001b[0m\u001b[32m5 phút\u001b[0m\u001b[32m)\u001b[0m\u001b[32m.'\u001b[0m,\n",
       "\u001b[2;32m│   │   \u001b[0m\u001b[32m'Tổng kết, chốt lại các kiến thức trọng tâm, bổ sung những điểm còn thiếu hoặc chưa chính xác, và giải đáp nhanh các thắc mắc của học sinh \u001b[0m\u001b[32m(\u001b[0m\u001b[32m3 phút\u001b[0m\u001b[32m)\u001b[0m\u001b[32m.'\u001b[0m\n",
       "\u001b[2;32m│   \u001b[0m\u001b[1m]\u001b[0m,\n",
       "\u001b[2;32m│   \u001b[0m\u001b[32m'core_component'\u001b[0m: \u001b[32m'Học sinh làm việc theo nhóm nhỏ \u001b[0m\u001b[32m(\u001b[0m\u001b[32m3-4 người\u001b[0m\u001b[32m)\u001b[0m\u001b[32m trong 15 phút để hoàn thành một bảng tóm tắt hoặc sơ đồ tư duy \u001b[0m\u001b[32m(\u001b[0m\u001b[32mđã được giáo viên cung cấp khung sườn/các nhánh chính\u001b[0m\u001b[32m)\u001b[0m\u001b[32m về các kiến thức trọng tâm của bài học. Mục tiêu là điền các khái niệm, định nghĩa, ví dụ hoặc mối liên hệ chính vào các ô/nhánh còn trống. Sau đó, các nhóm chuẩn bị để chia sẻ nhanh 1-2 điểm nổi bật nhất mà nhóm đã hệ thống được.'\u001b[0m,\n",
       "\u001b[2;32m│   \u001b[0m\u001b[32m'extension_component'\u001b[0m: \u001b[32m'Nếu còn thời gian, học sinh có thể trao đổi phiếu học tập/sơ đồ tư duy giữa các nhóm để nhận xét, bổ sung cho nhau hoặc tự đặt câu hỏi trắc nghiệm nhanh dựa trên kiến thức đã hệ thống.'\u001b[0m,\n",
       "\u001b[2;32m│   \u001b[0m\u001b[32m'solution_guide'\u001b[0m: \u001b[32m\"Giáo viên cần chuẩn bị sẵn một bảng tóm tắt hoặc sơ đồ tư duy hoàn chỉnh để đối chiếu và chốt kiến thức. Các câu hỏi gợi mở có thể bao gồm: 'Khái niệm này có ý nghĩa gì trong thực tế?', 'Mối quan hệ giữa A và B là gì?', 'Có những ví dụ nào minh họa cho kiến thức này?'\"\u001b[0m,\n",
       "\u001b[2;32m│   \u001b[0m\u001b[32m'differentiation'\u001b[0m: \u001b[1m{\u001b[0m\n",
       "\u001b[2;32m│   │   \u001b[0m\u001b[32m'for_struggling_students'\u001b[0m: \u001b[32m'Cung cấp phiếu học tập có nhiều gợi ý hơn, các câu hỏi dẫn dắt cụ thể hoặc cho phép học sinh sử dụng tài liệu/sách giáo khoa mở trong quá trình làm việc. Giáo viên nên ưu tiên đến nhóm này để hỗ trợ trực tiếp, đặt câu hỏi gợi mở và khuyến khích các em tham gia.'\u001b[0m,\n",
       "\u001b[2;32m│   │   \u001b[0m\u001b[32m'for_advanced_students'\u001b[0m: \u001b[32m'Khuyến khích học sinh bổ sung các ví dụ thực tế, liên hệ kiến thức với các bài học trước hoặc kiến thức liên môn. Yêu cầu các em tự tạo thêm một nhánh nhỏ trong sơ đồ tư duy để mở rộng một khái niệm hoặc đặt câu hỏi phản biện/mở rộng cho các nhóm khác khi chia sẻ.'\u001b[0m\n",
       "\u001b[2;32m│   \u001b[0m\u001b[1m}\u001b[0m,\n",
       "\u001b[2;32m│   \u001b[0m\u001b[32m'content_type'\u001b[0m: \u001b[32m'Hệ thống hóa kiến thức theo nhóm và chia sẻ nhanh'\u001b[0m\n",
       "\u001b[1m}\u001b[0m\n"
      ]
     },
     "metadata": {},
     "output_type": "display_data"
    },
    {
     "data": {
      "text/html": [
       "<pre style=\"white-space:pre;overflow-x:auto;line-height:normal;font-family:Menlo,'DejaVu Sans Mono',consolas,'Courier New',monospace\">\n",
       "<span style=\"color: #808000; text-decoration-color: #808000; font-weight: bold\">------- Hoàn thành bước: activity_designer -------</span>\n",
       "</pre>\n"
      ],
      "text/plain": [
       "\n",
       "\u001b[1;33m------- Hoàn thành bước: activity_designer -------\u001b[0m\n"
      ]
     },
     "metadata": {},
     "output_type": "display_data"
    },
    {
     "data": {
      "text/html": [
       "<pre style=\"white-space:pre;overflow-x:auto;line-height:normal;font-family:Menlo,'DejaVu Sans Mono',consolas,'Courier New',monospace\">\n",
       "<span style=\"color: #008080; text-decoration-color: #008080; font-weight: bold\">&gt;</span> `Agent: Guardian Critic` <span style=\"font-weight: bold\">(</span>v12.<span style=\"color: #008080; text-decoration-color: #008080; font-weight: bold\">0</span><span style=\"font-weight: bold\">)</span> đang bảo vệ kế hoạch<span style=\"color: #808000; text-decoration-color: #808000\">...</span>\n",
       "</pre>\n"
      ],
      "text/plain": [
       "\n",
       "\u001b[1;36m>\u001b[0m `Agent: Guardian Critic` \u001b[1m(\u001b[0mv12.\u001b[1;36m0\u001b[0m\u001b[1m)\u001b[0m đang bảo vệ kế hoạch\u001b[33m...\u001b[0m\n"
      ]
     },
     "metadata": {},
     "output_type": "display_data"
    },
    {
     "data": {
      "text/html": [
       "<pre style=\"white-space:pre;overflow-x:auto;line-height:normal;font-family:Menlo,'DejaVu Sans Mono',consolas,'Courier New',monospace\"><span style=\"color: #808000; text-decoration-color: #808000; font-weight: bold\">⚠️  GUARDIAN PHẢN BIỆN: Kế hoạch này có vẻ đầy đủ về mặt chuyên môn, nhưng thời lượng thực hiện có thể vượt quá </span><span style=\"color: #808000; text-decoration-color: #808000; font-weight: bold\">25</span><span style=\"color: #808000; text-decoration-color: #808000; font-weight: bold\"> </span>\n",
       "<span style=\"color: #808000; text-decoration-color: #808000; font-weight: bold\">phút cho phép. Cụ thể, bước </span><span style=\"color: #808000; text-decoration-color: #808000; font-weight: bold\">\"Chia lớp thành các nhóm nhỏ và phát phiếu học tập\"</span><span style=\"color: #808000; text-decoration-color: #808000; font-weight: bold\"> chưa được tính thời gian rõ ràng, </span>\n",
       "<span style=\"color: #808000; text-decoration-color: #808000; font-weight: bold\">và các hoạt động sau đó như trình bày của nhóm (</span><span style=\"color: #808000; text-decoration-color: #808000; font-weight: bold\">5</span><span style=\"color: #808000; text-decoration-color: #808000; font-weight: bold\"> phút cho </span><span style=\"color: #808000; text-decoration-color: #808000; font-weight: bold\">2</span><span style=\"color: #808000; text-decoration-color: #808000; font-weight: bold\">-</span><span style=\"color: #808000; text-decoration-color: #808000; font-weight: bold\">3</span><span style=\"color: #808000; text-decoration-color: #808000; font-weight: bold\"> nhóm) hay tổng kết của giáo viên (</span><span style=\"color: #808000; text-decoration-color: #808000; font-weight: bold\">3</span><span style=\"color: #808000; text-decoration-color: #808000; font-weight: bold\"> phút) đều rất eo</span>\n",
       "<span style=\"color: #808000; text-decoration-color: #808000; font-weight: bold\">hẹp, khó có thể thực hiện trọn vẹn và hiệu quả trong khung thời gian đó. Để đảm bảo chất lượng và tuân thủ thời </span>\n",
       "<span style=\"color: #808000; text-decoration-color: #808000; font-weight: bold\">gian, cần có sự điều chỉnh. Hãy thiết kế lại một phiên bản đơn giản hơn để khớp với thời gian </span><span style=\"color: #808000; text-decoration-color: #808000; font-weight: bold\">25</span><span style=\"color: #808000; text-decoration-color: #808000; font-weight: bold\"> phút đã cho.</span>\n",
       "</pre>\n"
      ],
      "text/plain": [
       "\u001b[1;33m⚠️  GUARDIAN PHẢN BIỆN: Kế hoạch này có vẻ đầy đủ về mặt chuyên môn, nhưng thời lượng thực hiện có thể vượt quá \u001b[0m\u001b[1;33m25\u001b[0m\u001b[1;33m \u001b[0m\n",
       "\u001b[1;33mphút cho phép. Cụ thể, bước \u001b[0m\u001b[1;33m\"Chia lớp thành các nhóm nhỏ và phát phiếu học tập\"\u001b[0m\u001b[1;33m chưa được tính thời gian rõ ràng, \u001b[0m\n",
       "\u001b[1;33mvà các hoạt động sau đó như trình bày của nhóm \u001b[0m\u001b[1;33m(\u001b[0m\u001b[1;33m5\u001b[0m\u001b[1;33m phút cho \u001b[0m\u001b[1;33m2\u001b[0m\u001b[1;33m-\u001b[0m\u001b[1;33m3\u001b[0m\u001b[1;33m nhóm\u001b[0m\u001b[1;33m)\u001b[0m\u001b[1;33m hay tổng kết của giáo viên \u001b[0m\u001b[1;33m(\u001b[0m\u001b[1;33m3\u001b[0m\u001b[1;33m phút\u001b[0m\u001b[1;33m)\u001b[0m\u001b[1;33m đều rất eo\u001b[0m\n",
       "\u001b[1;33mhẹp, khó có thể thực hiện trọn vẹn và hiệu quả trong khung thời gian đó. Để đảm bảo chất lượng và tuân thủ thời \u001b[0m\n",
       "\u001b[1;33mgian, cần có sự điều chỉnh. Hãy thiết kế lại một phiên bản đơn giản hơn để khớp với thời gian \u001b[0m\u001b[1;33m25\u001b[0m\u001b[1;33m phút đã cho.\u001b[0m\n"
      ]
     },
     "metadata": {},
     "output_type": "display_data"
    },
    {
     "data": {
      "text/html": [
       "<pre style=\"white-space:pre;overflow-x:auto;line-height:normal;font-family:Menlo,'DejaVu Sans Mono',consolas,'Courier New',monospace\">\n",
       "<span style=\"color: #808000; text-decoration-color: #808000; font-weight: bold\">------- Hoàn thành bước: content_validator -------</span>\n",
       "</pre>\n"
      ],
      "text/plain": [
       "\n",
       "\u001b[1;33m------- Hoàn thành bước: content_validator -------\u001b[0m\n"
      ]
     },
     "metadata": {},
     "output_type": "display_data"
    },
    {
     "data": {
      "text/html": [
       "<pre style=\"white-space:pre;overflow-x:auto;line-height:normal;font-family:Menlo,'DejaVu Sans Mono',consolas,'Courier New',monospace\">\n",
       "<span style=\"color: #008080; text-decoration-color: #008080; font-weight: bold\">&gt;</span> `Agent: Task Dispatcher` đang giao việc<span style=\"color: #808000; text-decoration-color: #808000\">...</span>\n",
       "</pre>\n"
      ],
      "text/plain": [
       "\n",
       "\u001b[1;36m>\u001b[0m `Agent: Task Dispatcher` đang giao việc\u001b[33m...\u001b[0m\n"
      ]
     },
     "metadata": {},
     "output_type": "display_data"
    },
    {
     "data": {
      "text/html": [
       "<pre style=\"white-space:pre;overflow-x:auto;line-height:normal;font-family:Menlo,'DejaVu Sans Mono',consolas,'Courier New',monospace\">\n",
       "<span style=\"color: #008080; text-decoration-color: #008080; font-weight: bold\">&gt;</span> --- 🚚 `Dispatcher`: Giao nhiệm vụ cho `activity_designer`.\n",
       "</pre>\n"
      ],
      "text/plain": [
       "\n",
       "\u001b[1;36m>\u001b[0m --- 🚚 `Dispatcher`: Giao nhiệm vụ cho `activity_designer`.\n"
      ]
     },
     "metadata": {},
     "output_type": "display_data"
    },
    {
     "data": {
      "text/html": [
       "<pre style=\"white-space:pre;overflow-x:auto;line-height:normal;font-family:Menlo,'DejaVu Sans Mono',consolas,'Courier New',monospace\">\n",
       "<span style=\"color: #808000; text-decoration-color: #808000; font-weight: bold\">------- Hoàn thành bước: task_dispatcher -------</span>\n",
       "</pre>\n"
      ],
      "text/plain": [
       "\n",
       "\u001b[1;33m------- Hoàn thành bước: task_dispatcher -------\u001b[0m\n"
      ]
     },
     "metadata": {},
     "output_type": "display_data"
    },
    {
     "data": {
      "text/html": [
       "<pre style=\"white-space:pre;overflow-x:auto;line-height:normal;font-family:Menlo,'DejaVu Sans Mono',consolas,'Courier New',monospace\">\n",
       "<span style=\"color: #008080; text-decoration-color: #008080; font-weight: bold\">&gt;</span> `Agent: Activity Designer` <span style=\"font-weight: bold\">(</span>v12.<span style=\"color: #008080; text-decoration-color: #008080; font-weight: bold\">0</span><span style=\"font-weight: bold\">)</span> đang tạo nội dung theo kỷ luật<span style=\"color: #808000; text-decoration-color: #808000\">...</span>\n",
       "</pre>\n"
      ],
      "text/plain": [
       "\n",
       "\u001b[1;36m>\u001b[0m `Agent: Activity Designer` \u001b[1m(\u001b[0mv12.\u001b[1;36m0\u001b[0m\u001b[1m)\u001b[0m đang tạo nội dung theo kỷ luật\u001b[33m...\u001b[0m\n"
      ]
     },
     "metadata": {},
     "output_type": "display_data"
    },
    {
     "data": {
      "text/html": [
       "<pre style=\"white-space:pre;overflow-x:auto;line-height:normal;font-family:Menlo,'DejaVu Sans Mono',consolas,'Courier New',monospace\"><span style=\"color: #008000; text-decoration-color: #008000; font-weight: bold\">✔️ Nội dung do Activity Designer tạo ra:</span>\n",
       "</pre>\n"
      ],
      "text/plain": [
       "\u001b[1;32m✔️ Nội dung do Activity Designer tạo ra:\u001b[0m\n"
      ]
     },
     "metadata": {},
     "output_type": "display_data"
    },
    {
     "data": {
      "text/html": [
       "<pre style=\"white-space:pre;overflow-x:auto;line-height:normal;font-family:Menlo,'DejaVu Sans Mono',consolas,'Courier New',monospace\"><span style=\"font-weight: bold\">{</span>\n",
       "<span style=\"color: #7fbf7f; text-decoration-color: #7fbf7f\">│   </span><span style=\"color: #008000; text-decoration-color: #008000\">'activity_name'</span>: <span style=\"color: #008000; text-decoration-color: #008000\">'Trình bày và Hệ thống hóa kiến thức'</span>,\n",
       "<span style=\"color: #7fbf7f; text-decoration-color: #7fbf7f\">│   </span><span style=\"color: #008000; text-decoration-color: #008000\">'duration_minutes'</span>: <span style=\"color: #008080; text-decoration-color: #008080; font-weight: bold\">25</span>,\n",
       "<span style=\"color: #7fbf7f; text-decoration-color: #7fbf7f\">│   </span><span style=\"color: #008000; text-decoration-color: #008000\">'teacher_actions'</span>: <span style=\"font-weight: bold\">[</span>\n",
       "<span style=\"color: #7fbf7f; text-decoration-color: #7fbf7f\">│   │   </span><span style=\"color: #008000; text-decoration-color: #008000\">'Giới thiệu nhiệm vụ, mục tiêu và thời gian cho hoạt động (2 phút).'</span>,\n",
       "<span style=\"color: #7fbf7f; text-decoration-color: #7fbf7f\">│   │   </span><span style=\"color: #008000; text-decoration-color: #008000\">'Chia lớp thành các nhóm nhỏ (3-4 học sinh/nhóm) và phát phiếu học tập (nếu có) hoặc hướng dẫn ghi chép vào vở/bảng phụ.'</span>,\n",
       "<span style=\"color: #7fbf7f; text-decoration-color: #7fbf7f\">│   │   </span><span style=\"color: #008000; text-decoration-color: #008000\">'Quan sát, lắng nghe, di chuyển giữa các nhóm để hỗ trợ, gợi mở, giải đáp thắc mắc trong quá trình học sinh hệ thống hóa kiến thức (18 phút).'</span>,\n",
       "<span style=\"color: #7fbf7f; text-decoration-color: #7fbf7f\">│   │   </span><span style=\"color: #008000; text-decoration-color: #008000\">'Chọn 1-2 nhóm trình bày nhanh kết quả nổi bật nhất của nhóm mình (mỗi nhóm 1-2 phút).'</span>,\n",
       "<span style=\"color: #7fbf7f; text-decoration-color: #7fbf7f\">│   │   </span><span style=\"color: #008000; text-decoration-color: #008000\">'Tổng kết, nhận xét, bổ sung và chốt kiến thức trọng tâm, định hướng học tập tiếp theo (3-4 phút).'</span>\n",
       "<span style=\"color: #7fbf7f; text-decoration-color: #7fbf7f\">│   </span><span style=\"font-weight: bold\">]</span>,\n",
       "<span style=\"color: #7fbf7f; text-decoration-color: #7fbf7f\">│   </span><span style=\"color: #008000; text-decoration-color: #008000\">'core_component'</span>: <span style=\"color: #008000; text-decoration-color: #008000\">'Học sinh làm việc theo nhóm (3-4 người) để tổng hợp và hệ thống hóa kiến thức về một chủ đề/bài học cụ thể đã học. Sản phẩm có thể là sơ đồ tư duy, bảng so sánh, tóm tắt các ý chính, hoặc danh sách các khái niệm/công thức quan trọng. Các nhóm tập trung vào việc xác định các khái niệm cốt lõi, mối quan hệ giữa chúng và các ví dụ minh họa.'</span>,\n",
       "<span style=\"color: #7fbf7f; text-decoration-color: #7fbf7f\">│   </span><span style=\"color: #008000; text-decoration-color: #008000\">'extension_component'</span>: <span style=\"color: #008000; text-decoration-color: #008000\">'Các nhóm hoàn thành sớm có thể: 1) Phát triển sâu hơn một nhánh kiến thức cụ thể trong sơ đồ/bảng của mình. 2) Đặt 1-2 câu hỏi thử thách cho các nhóm khác liên quan đến kiến thức đã hệ thống. 3) Tìm kiếm ứng dụng thực tế của kiến thức vừa hệ thống.'</span>,\n",
       "<span style=\"color: #7fbf7f; text-decoration-color: #7fbf7f\">│   </span><span style=\"color: #008000; text-decoration-color: #008000\">'solution_guide'</span>: <span style=\"color: #008000; text-decoration-color: #008000\">\"Giáo viên cần chuẩn bị trước một sơ đồ tư duy/bảng tổng hợp kiến thức mẫu để đối chiếu và chốt kiến thức. Các câu hỏi gợi mở có thể bao gồm: 'Khái niệm chính của bài này là gì?', 'Các khái niệm này có mối liên hệ như thế nào?', 'Có những ví dụ nào minh họa cho khái niệm này?', 'Điểm nào là quan trọng nhất cần ghi nhớ?'\"</span>,\n",
       "<span style=\"color: #7fbf7f; text-decoration-color: #7fbf7f\">│   </span><span style=\"color: #008000; text-decoration-color: #008000\">'differentiation'</span>: <span style=\"font-weight: bold\">{</span>\n",
       "<span style=\"color: #7fbf7f; text-decoration-color: #7fbf7f\">│   │   </span><span style=\"color: #008000; text-decoration-color: #008000\">'for_struggling_students'</span>: <span style=\"color: #008000; text-decoration-color: #008000\">'Cung cấp phiếu học tập có gợi ý, từ khóa hoặc cấu trúc sơ đồ/bảng đã được điền một phần. Giáo viên ưu tiên hỗ trợ trực tiếp, đặt câu hỏi gợi mở đơn giản, hoặc ghép nhóm với học sinh khá giỏi để nhận được sự hỗ trợ từ bạn bè.'</span>,\n",
       "<span style=\"color: #7fbf7f; text-decoration-color: #7fbf7f\">│   │   </span><span style=\"color: #008000; text-decoration-color: #008000\">'for_advanced_students'</span>: <span style=\"color: #008000; text-decoration-color: #008000\">'Khuyến khích học sinh mở rộng kiến thức bằng cách liên hệ với các chủ đề khác, phân tích sâu hơn nguyên nhân/hậu quả, hoặc đề xuất các vấn đề/tình huống phức tạp hơn để áp dụng kiến thức. Yêu cầu các em giải thích rõ ràng mối liên hệ giữa các khái niệm và đưa ra ví dụ phong phú, sáng tạo.'</span>\n",
       "<span style=\"color: #7fbf7f; text-decoration-color: #7fbf7f\">│   </span><span style=\"font-weight: bold\">}</span>,\n",
       "<span style=\"color: #7fbf7f; text-decoration-color: #7fbf7f\">│   </span><span style=\"color: #008000; text-decoration-color: #008000\">'content_type'</span>: <span style=\"color: #008000; text-decoration-color: #008000\">'Hệ thống hóa kiến thức theo nhóm'</span>\n",
       "<span style=\"font-weight: bold\">}</span>\n",
       "</pre>\n"
      ],
      "text/plain": [
       "\u001b[1m{\u001b[0m\n",
       "\u001b[2;32m│   \u001b[0m\u001b[32m'activity_name'\u001b[0m: \u001b[32m'Trình bày và Hệ thống hóa kiến thức'\u001b[0m,\n",
       "\u001b[2;32m│   \u001b[0m\u001b[32m'duration_minutes'\u001b[0m: \u001b[1;36m25\u001b[0m,\n",
       "\u001b[2;32m│   \u001b[0m\u001b[32m'teacher_actions'\u001b[0m: \u001b[1m[\u001b[0m\n",
       "\u001b[2;32m│   │   \u001b[0m\u001b[32m'Giới thiệu nhiệm vụ, mục tiêu và thời gian cho hoạt động \u001b[0m\u001b[32m(\u001b[0m\u001b[32m2 phút\u001b[0m\u001b[32m)\u001b[0m\u001b[32m.'\u001b[0m,\n",
       "\u001b[2;32m│   │   \u001b[0m\u001b[32m'Chia lớp thành các nhóm nhỏ \u001b[0m\u001b[32m(\u001b[0m\u001b[32m3-4 học sinh/nhóm\u001b[0m\u001b[32m)\u001b[0m\u001b[32m và phát phiếu học tập \u001b[0m\u001b[32m(\u001b[0m\u001b[32mnếu có\u001b[0m\u001b[32m)\u001b[0m\u001b[32m hoặc hướng dẫn ghi chép vào vở/bảng phụ.'\u001b[0m,\n",
       "\u001b[2;32m│   │   \u001b[0m\u001b[32m'Quan sát, lắng nghe, di chuyển giữa các nhóm để hỗ trợ, gợi mở, giải đáp thắc mắc trong quá trình học sinh hệ thống hóa kiến thức \u001b[0m\u001b[32m(\u001b[0m\u001b[32m18 phút\u001b[0m\u001b[32m)\u001b[0m\u001b[32m.'\u001b[0m,\n",
       "\u001b[2;32m│   │   \u001b[0m\u001b[32m'Chọn 1-2 nhóm trình bày nhanh kết quả nổi bật nhất của nhóm mình \u001b[0m\u001b[32m(\u001b[0m\u001b[32mmỗi nhóm 1-2 phút\u001b[0m\u001b[32m)\u001b[0m\u001b[32m.'\u001b[0m,\n",
       "\u001b[2;32m│   │   \u001b[0m\u001b[32m'Tổng kết, nhận xét, bổ sung và chốt kiến thức trọng tâm, định hướng học tập tiếp theo \u001b[0m\u001b[32m(\u001b[0m\u001b[32m3-4 phút\u001b[0m\u001b[32m)\u001b[0m\u001b[32m.'\u001b[0m\n",
       "\u001b[2;32m│   \u001b[0m\u001b[1m]\u001b[0m,\n",
       "\u001b[2;32m│   \u001b[0m\u001b[32m'core_component'\u001b[0m: \u001b[32m'Học sinh làm việc theo nhóm \u001b[0m\u001b[32m(\u001b[0m\u001b[32m3-4 người\u001b[0m\u001b[32m)\u001b[0m\u001b[32m để tổng hợp và hệ thống hóa kiến thức về một chủ đề/bài học cụ thể đã học. Sản phẩm có thể là sơ đồ tư duy, bảng so sánh, tóm tắt các ý chính, hoặc danh sách các khái niệm/công thức quan trọng. Các nhóm tập trung vào việc xác định các khái niệm cốt lõi, mối quan hệ giữa chúng và các ví dụ minh họa.'\u001b[0m,\n",
       "\u001b[2;32m│   \u001b[0m\u001b[32m'extension_component'\u001b[0m: \u001b[32m'Các nhóm hoàn thành sớm có thể: 1\u001b[0m\u001b[32m)\u001b[0m\u001b[32m Phát triển sâu hơn một nhánh kiến thức cụ thể trong sơ đồ/bảng của mình. 2\u001b[0m\u001b[32m)\u001b[0m\u001b[32m Đặt 1-2 câu hỏi thử thách cho các nhóm khác liên quan đến kiến thức đã hệ thống. 3\u001b[0m\u001b[32m)\u001b[0m\u001b[32m Tìm kiếm ứng dụng thực tế của kiến thức vừa hệ thống.'\u001b[0m,\n",
       "\u001b[2;32m│   \u001b[0m\u001b[32m'solution_guide'\u001b[0m: \u001b[32m\"Giáo viên cần chuẩn bị trước một sơ đồ tư duy/bảng tổng hợp kiến thức mẫu để đối chiếu và chốt kiến thức. Các câu hỏi gợi mở có thể bao gồm: 'Khái niệm chính của bài này là gì?', 'Các khái niệm này có mối liên hệ như thế nào?', 'Có những ví dụ nào minh họa cho khái niệm này?', 'Điểm nào là quan trọng nhất cần ghi nhớ?'\"\u001b[0m,\n",
       "\u001b[2;32m│   \u001b[0m\u001b[32m'differentiation'\u001b[0m: \u001b[1m{\u001b[0m\n",
       "\u001b[2;32m│   │   \u001b[0m\u001b[32m'for_struggling_students'\u001b[0m: \u001b[32m'Cung cấp phiếu học tập có gợi ý, từ khóa hoặc cấu trúc sơ đồ/bảng đã được điền một phần. Giáo viên ưu tiên hỗ trợ trực tiếp, đặt câu hỏi gợi mở đơn giản, hoặc ghép nhóm với học sinh khá giỏi để nhận được sự hỗ trợ từ bạn bè.'\u001b[0m,\n",
       "\u001b[2;32m│   │   \u001b[0m\u001b[32m'for_advanced_students'\u001b[0m: \u001b[32m'Khuyến khích học sinh mở rộng kiến thức bằng cách liên hệ với các chủ đề khác, phân tích sâu hơn nguyên nhân/hậu quả, hoặc đề xuất các vấn đề/tình huống phức tạp hơn để áp dụng kiến thức. Yêu cầu các em giải thích rõ ràng mối liên hệ giữa các khái niệm và đưa ra ví dụ phong phú, sáng tạo.'\u001b[0m\n",
       "\u001b[2;32m│   \u001b[0m\u001b[1m}\u001b[0m,\n",
       "\u001b[2;32m│   \u001b[0m\u001b[32m'content_type'\u001b[0m: \u001b[32m'Hệ thống hóa kiến thức theo nhóm'\u001b[0m\n",
       "\u001b[1m}\u001b[0m\n"
      ]
     },
     "metadata": {},
     "output_type": "display_data"
    },
    {
     "data": {
      "text/html": [
       "<pre style=\"white-space:pre;overflow-x:auto;line-height:normal;font-family:Menlo,'DejaVu Sans Mono',consolas,'Courier New',monospace\">\n",
       "<span style=\"color: #808000; text-decoration-color: #808000; font-weight: bold\">------- Hoàn thành bước: activity_designer -------</span>\n",
       "</pre>\n"
      ],
      "text/plain": [
       "\n",
       "\u001b[1;33m------- Hoàn thành bước: activity_designer -------\u001b[0m\n"
      ]
     },
     "metadata": {},
     "output_type": "display_data"
    },
    {
     "data": {
      "text/html": [
       "<pre style=\"white-space:pre;overflow-x:auto;line-height:normal;font-family:Menlo,'DejaVu Sans Mono',consolas,'Courier New',monospace\">\n",
       "<span style=\"color: #008080; text-decoration-color: #008080; font-weight: bold\">&gt;</span> `Agent: Guardian Critic` <span style=\"font-weight: bold\">(</span>v12.<span style=\"color: #008080; text-decoration-color: #008080; font-weight: bold\">0</span><span style=\"font-weight: bold\">)</span> đang bảo vệ kế hoạch<span style=\"color: #808000; text-decoration-color: #808000\">...</span>\n",
       "</pre>\n"
      ],
      "text/plain": [
       "\n",
       "\u001b[1;36m>\u001b[0m `Agent: Guardian Critic` \u001b[1m(\u001b[0mv12.\u001b[1;36m0\u001b[0m\u001b[1m)\u001b[0m đang bảo vệ kế hoạch\u001b[33m...\u001b[0m\n"
      ]
     },
     "metadata": {},
     "output_type": "display_data"
    },
    {
     "data": {
      "text/html": [
       "<pre style=\"white-space:pre;overflow-x:auto;line-height:normal;font-family:Menlo,'DejaVu Sans Mono',consolas,'Courier New',monospace\"><span style=\"color: #808000; text-decoration-color: #808000; font-weight: bold\">⚠️  GUARDIAN PHẢN BIỆN: Kế hoạch hoạt động này không khả thi trong khung thời gian </span><span style=\"color: #808000; text-decoration-color: #808000; font-weight: bold\">25</span><span style=\"color: #808000; text-decoration-color: #808000; font-weight: bold\"> phút đã cho. Mặc dù tổng thời</span>\n",
       "<span style=\"color: #808000; text-decoration-color: #808000; font-weight: bold\">lượng ghi trong kế hoạch là </span><span style=\"color: #808000; text-decoration-color: #808000; font-weight: bold\">25</span><span style=\"color: #808000; text-decoration-color: #808000; font-weight: bold\"> phút, nhưng khi cộng các khoảng thời gian chi tiết cho từng bước hoạt động của giáo </span>\n",
       "<span style=\"color: #808000; text-decoration-color: #808000; font-weight: bold\">viên (</span><span style=\"color: #808000; text-decoration-color: #808000; font-weight: bold\">2</span><span style=\"color: #808000; text-decoration-color: #808000; font-weight: bold\"> phút giới thiệu + </span><span style=\"color: #808000; text-decoration-color: #808000; font-weight: bold\">18</span><span style=\"color: #808000; text-decoration-color: #808000; font-weight: bold\"> phút hoạt động nhóm + </span><span style=\"color: #808000; text-decoration-color: #808000; font-weight: bold\">1</span><span style=\"color: #808000; text-decoration-color: #808000; font-weight: bold\">-</span><span style=\"color: #808000; text-decoration-color: #808000; font-weight: bold\">4</span><span style=\"color: #808000; text-decoration-color: #808000; font-weight: bold\"> phút trình bày + </span><span style=\"color: #808000; text-decoration-color: #808000; font-weight: bold\">3</span><span style=\"color: #808000; text-decoration-color: #808000; font-weight: bold\">-</span><span style=\"color: #808000; text-decoration-color: #808000; font-weight: bold\">4</span><span style=\"color: #808000; text-decoration-color: #808000; font-weight: bold\"> phút tổng kết), tổng thời gian tối </span>\n",
       "<span style=\"color: #808000; text-decoration-color: #808000; font-weight: bold\">thiểu đã là </span><span style=\"color: #808000; text-decoration-color: #808000; font-weight: bold\">24</span><span style=\"color: #808000; text-decoration-color: #808000; font-weight: bold\"> phút (nếu không tính thời gian chia nhóm/phát phiếu) hoặc </span><span style=\"color: #808000; text-decoration-color: #808000; font-weight: bold\">26</span><span style=\"color: #808000; text-decoration-color: #808000; font-weight: bold\"> phút (nếu tính thêm </span><span style=\"color: #808000; text-decoration-color: #808000; font-weight: bold\">2</span><span style=\"color: #808000; text-decoration-color: #808000; font-weight: bold\"> phút cho việc </span>\n",
       "<span style=\"color: #808000; text-decoration-color: #808000; font-weight: bold\">chia nhóm/phát phiếu). Điều này vượt quá hoặc sát nút thời gian cho phép, khiến hoạt động trở nên gấp gáp và khó </span>\n",
       "<span style=\"color: #808000; text-decoration-color: #808000; font-weight: bold\">hoàn thành trọn vẹn. Hãy thiết kế lại một phiên bản đơn giản hơn để khớp với thời gian </span><span style=\"color: #808000; text-decoration-color: #808000; font-weight: bold\">25</span><span style=\"color: #808000; text-decoration-color: #808000; font-weight: bold\"> phút đã cho.</span>\n",
       "</pre>\n"
      ],
      "text/plain": [
       "\u001b[1;33m⚠️  GUARDIAN PHẢN BIỆN: Kế hoạch hoạt động này không khả thi trong khung thời gian \u001b[0m\u001b[1;33m25\u001b[0m\u001b[1;33m phút đã cho. Mặc dù tổng thời\u001b[0m\n",
       "\u001b[1;33mlượng ghi trong kế hoạch là \u001b[0m\u001b[1;33m25\u001b[0m\u001b[1;33m phút, nhưng khi cộng các khoảng thời gian chi tiết cho từng bước hoạt động của giáo \u001b[0m\n",
       "\u001b[1;33mviên \u001b[0m\u001b[1;33m(\u001b[0m\u001b[1;33m2\u001b[0m\u001b[1;33m phút giới thiệu + \u001b[0m\u001b[1;33m18\u001b[0m\u001b[1;33m phút hoạt động nhóm + \u001b[0m\u001b[1;33m1\u001b[0m\u001b[1;33m-\u001b[0m\u001b[1;33m4\u001b[0m\u001b[1;33m phút trình bày + \u001b[0m\u001b[1;33m3\u001b[0m\u001b[1;33m-\u001b[0m\u001b[1;33m4\u001b[0m\u001b[1;33m phút tổng kết\u001b[0m\u001b[1;33m)\u001b[0m\u001b[1;33m, tổng thời gian tối \u001b[0m\n",
       "\u001b[1;33mthiểu đã là \u001b[0m\u001b[1;33m24\u001b[0m\u001b[1;33m phút \u001b[0m\u001b[1;33m(\u001b[0m\u001b[1;33mnếu không tính thời gian chia nhóm/phát phiếu\u001b[0m\u001b[1;33m)\u001b[0m\u001b[1;33m hoặc \u001b[0m\u001b[1;33m26\u001b[0m\u001b[1;33m phút \u001b[0m\u001b[1;33m(\u001b[0m\u001b[1;33mnếu tính thêm \u001b[0m\u001b[1;33m2\u001b[0m\u001b[1;33m phút cho việc \u001b[0m\n",
       "\u001b[1;33mchia nhóm/phát phiếu\u001b[0m\u001b[1;33m)\u001b[0m\u001b[1;33m. Điều này vượt quá hoặc sát nút thời gian cho phép, khiến hoạt động trở nên gấp gáp và khó \u001b[0m\n",
       "\u001b[1;33mhoàn thành trọn vẹn. Hãy thiết kế lại một phiên bản đơn giản hơn để khớp với thời gian \u001b[0m\u001b[1;33m25\u001b[0m\u001b[1;33m phút đã cho.\u001b[0m\n"
      ]
     },
     "metadata": {},
     "output_type": "display_data"
    },
    {
     "data": {
      "text/html": [
       "<pre style=\"white-space:pre;overflow-x:auto;line-height:normal;font-family:Menlo,'DejaVu Sans Mono',consolas,'Courier New',monospace\">\n",
       "<span style=\"color: #808000; text-decoration-color: #808000; font-weight: bold\">------- Hoàn thành bước: content_validator -------</span>\n",
       "</pre>\n"
      ],
      "text/plain": [
       "\n",
       "\u001b[1;33m------- Hoàn thành bước: content_validator -------\u001b[0m\n"
      ]
     },
     "metadata": {},
     "output_type": "display_data"
    },
    {
     "data": {
      "text/html": [
       "<pre style=\"white-space:pre;overflow-x:auto;line-height:normal;font-family:Menlo,'DejaVu Sans Mono',consolas,'Courier New',monospace\">\n",
       "<span style=\"color: #008080; text-decoration-color: #008080; font-weight: bold\">&gt;</span> `Agent: Task Dispatcher` đang giao việc<span style=\"color: #808000; text-decoration-color: #808000\">...</span>\n",
       "</pre>\n"
      ],
      "text/plain": [
       "\n",
       "\u001b[1;36m>\u001b[0m `Agent: Task Dispatcher` đang giao việc\u001b[33m...\u001b[0m\n"
      ]
     },
     "metadata": {},
     "output_type": "display_data"
    },
    {
     "data": {
      "text/html": [
       "<pre style=\"white-space:pre;overflow-x:auto;line-height:normal;font-family:Menlo,'DejaVu Sans Mono',consolas,'Courier New',monospace\">\n",
       "<span style=\"color: #008080; text-decoration-color: #008080; font-weight: bold\">&gt;</span> --- 🚚 `Dispatcher`: Giao nhiệm vụ cho `activity_designer`.\n",
       "</pre>\n"
      ],
      "text/plain": [
       "\n",
       "\u001b[1;36m>\u001b[0m --- 🚚 `Dispatcher`: Giao nhiệm vụ cho `activity_designer`.\n"
      ]
     },
     "metadata": {},
     "output_type": "display_data"
    },
    {
     "data": {
      "text/html": [
       "<pre style=\"white-space:pre;overflow-x:auto;line-height:normal;font-family:Menlo,'DejaVu Sans Mono',consolas,'Courier New',monospace\">\n",
       "<span style=\"color: #808000; text-decoration-color: #808000; font-weight: bold\">------- Hoàn thành bước: task_dispatcher -------</span>\n",
       "</pre>\n"
      ],
      "text/plain": [
       "\n",
       "\u001b[1;33m------- Hoàn thành bước: task_dispatcher -------\u001b[0m\n"
      ]
     },
     "metadata": {},
     "output_type": "display_data"
    },
    {
     "data": {
      "text/html": [
       "<pre style=\"white-space:pre;overflow-x:auto;line-height:normal;font-family:Menlo,'DejaVu Sans Mono',consolas,'Courier New',monospace\">\n",
       "<span style=\"color: #008080; text-decoration-color: #008080; font-weight: bold\">&gt;</span> `Agent: Activity Designer` <span style=\"font-weight: bold\">(</span>v12.<span style=\"color: #008080; text-decoration-color: #008080; font-weight: bold\">0</span><span style=\"font-weight: bold\">)</span> đang tạo nội dung theo kỷ luật<span style=\"color: #808000; text-decoration-color: #808000\">...</span>\n",
       "</pre>\n"
      ],
      "text/plain": [
       "\n",
       "\u001b[1;36m>\u001b[0m `Agent: Activity Designer` \u001b[1m(\u001b[0mv12.\u001b[1;36m0\u001b[0m\u001b[1m)\u001b[0m đang tạo nội dung theo kỷ luật\u001b[33m...\u001b[0m\n"
      ]
     },
     "metadata": {},
     "output_type": "display_data"
    },
    {
     "data": {
      "text/html": [
       "<pre style=\"white-space:pre;overflow-x:auto;line-height:normal;font-family:Menlo,'DejaVu Sans Mono',consolas,'Courier New',monospace\"><span style=\"color: #008000; text-decoration-color: #008000; font-weight: bold\">✔️ Nội dung do Activity Designer tạo ra:</span>\n",
       "</pre>\n"
      ],
      "text/plain": [
       "\u001b[1;32m✔️ Nội dung do Activity Designer tạo ra:\u001b[0m\n"
      ]
     },
     "metadata": {},
     "output_type": "display_data"
    },
    {
     "data": {
      "text/html": [
       "<pre style=\"white-space:pre;overflow-x:auto;line-height:normal;font-family:Menlo,'DejaVu Sans Mono',consolas,'Courier New',monospace\"><span style=\"font-weight: bold\">{</span>\n",
       "<span style=\"color: #7fbf7f; text-decoration-color: #7fbf7f\">│   </span><span style=\"color: #008000; text-decoration-color: #008000\">'activity_name'</span>: <span style=\"color: #008000; text-decoration-color: #008000\">'Trình bày và Hệ thống hóa kiến thức'</span>,\n",
       "<span style=\"color: #7fbf7f; text-decoration-color: #7fbf7f\">│   </span><span style=\"color: #008000; text-decoration-color: #008000\">'duration_minutes'</span>: <span style=\"color: #008080; text-decoration-color: #008080; font-weight: bold\">25</span>,\n",
       "<span style=\"color: #7fbf7f; text-decoration-color: #7fbf7f\">│   </span><span style=\"color: #008000; text-decoration-color: #008000\">'teacher_actions'</span>: <span style=\"font-weight: bold\">[</span>\n",
       "<span style=\"color: #7fbf7f; text-decoration-color: #7fbf7f\">│   │   </span><span style=\"color: #008000; text-decoration-color: #008000\">'Giới thiệu nhiệm vụ và mục tiêu hoạt động (2 phút).'</span>,\n",
       "<span style=\"color: #7fbf7f; text-decoration-color: #7fbf7f\">│   │   </span><span style=\"color: #008000; text-decoration-color: #008000\">'Chia nhóm (nếu chưa có) và phát tài liệu/phiếu học tập (nếu cần) (1 phút).'</span>,\n",
       "<span style=\"color: #7fbf7f; text-decoration-color: #7fbf7f\">│   │   </span><span style=\"color: #008000; text-decoration-color: #008000\">'Quan sát, hỗ trợ các nhóm trong quá trình thảo luận, gợi ý khi cần thiết, đảm bảo tất cả học sinh đều tham gia (15 phút).'</span>,\n",
       "<span style=\"color: #7fbf7f; text-decoration-color: #7fbf7f\">│   │   </span><span style=\"color: #008000; text-decoration-color: #008000\">'Mời 2-3 nhóm đại diện trình bày nhanh sản phẩm của nhóm (mỗi nhóm 2-3 phút) (6 phút).'</span>,\n",
       "<span style=\"color: #7fbf7f; text-decoration-color: #7fbf7f\">│   │   </span><span style=\"color: #008000; text-decoration-color: #008000\">'Tổng kết, nhận xét, chốt kiến thức trọng tâm và biểu dương các nhóm (1 phút).'</span>\n",
       "<span style=\"color: #7fbf7f; text-decoration-color: #7fbf7f\">│   </span><span style=\"font-weight: bold\">]</span>,\n",
       "<span style=\"color: #7fbf7f; text-decoration-color: #7fbf7f\">│   </span><span style=\"color: #008000; text-decoration-color: #008000\">'core_component'</span>: <span style=\"color: #008000; text-decoration-color: #008000\">'Học sinh làm việc theo nhóm (4-5 người/nhóm) để hệ thống hóa kiến thức về một chủ đề đã học (ví dụ: các khái niệm chính, công thức, quy trình, sự kiện lịch sử, v.v.) dưới dạng sơ đồ tư duy, bảng tóm tắt, hoặc dàn ý trình bày ngắn gọn trên giấy A0/bảng phụ. Mỗi nhóm cần đảm bảo tất cả thành viên đều hiểu rõ nội dung và có thể giải thích được sản phẩm của nhóm.'</span>,\n",
       "<span style=\"color: #7fbf7f; text-decoration-color: #7fbf7f\">│   </span><span style=\"color: #008000; text-decoration-color: #008000\">'extension_component'</span>: <span style=\"color: #008000; text-decoration-color: #008000\">'Các nhóm hoàn thành sớm có thể: 1) Thêm các ví dụ minh họa thực tế cho các khái niệm đã hệ thống. 2) Chuẩn bị 1-2 câu hỏi phản biện hoặc mở rộng kiến thức cho các nhóm khác sau khi trình bày. 3) Tìm kiếm thêm thông tin liên quan để làm phong phú thêm nội dung.'</span>,\n",
       "<span style=\"color: #7fbf7f; text-decoration-color: #7fbf7f\">│   </span><span style=\"color: #008000; text-decoration-color: #008000\">'solution_guide'</span>: <span style=\"color: #008000; text-decoration-color: #008000\">\"Tiêu chí đánh giá sản phẩm và phần trình bày: 1) Nội dung chính xác, đầy đủ (đủ các ý trọng tâm). 2) Trình bày rõ ràng, logic, dễ hiểu. 3) Sáng tạo trong cách thể hiện (sơ đồ, hình ảnh). 4) Khả năng trình bày lưu loát, tự tin. Giáo viên có thể đặt câu hỏi gợi mở như: 'Tại sao các em lại sắp xếp các ý này theo thứ tự đó?', 'Có cách nào khác để hệ thống hóa kiến thức này không?', 'Kiến thức này có thể ứng dụng trong trường hợp nào?'\"</span>,\n",
       "<span style=\"color: #7fbf7f; text-decoration-color: #7fbf7f\">│   </span><span style=\"color: #008000; text-decoration-color: #008000\">'differentiation'</span>: <span style=\"font-weight: bold\">{</span>\n",
       "<span style=\"color: #7fbf7f; text-decoration-color: #7fbf7f\">│   │   </span><span style=\"color: #008000; text-decoration-color: #008000\">'for_struggling_students'</span>: <span style=\"color: #008000; text-decoration-color: #008000\">'Cung cấp phiếu học tập có sẵn các từ khóa, câu hỏi gợi ý hoặc cấu trúc sơ đồ tư duy mẫu để học sinh dễ dàng điền vào. Giáo viên dành thời gian quan sát và hỗ trợ trực tiếp nhóm này, có thể gợi ý các phần kiến thức cơ bản nhất cần tập trung.'</span>,\n",
       "<span style=\"color: #7fbf7f; text-decoration-color: #7fbf7f\">│   │   </span><span style=\"color: #008000; text-decoration-color: #008000\">'for_advanced_students'</span>: <span style=\"color: #008000; text-decoration-color: #008000\">'Khuyến khích học sinh liên hệ kiến thức đã học với các vấn đề thực tiễn hoặc các chủ đề liên quan khác. Yêu cầu các em phân tích sâu hơn, đưa ra các lập luận hoặc giải thích các mối quan hệ phức tạp giữa các khái niệm. Có thể giao vai trò nhóm trưởng để các em hỗ trợ các bạn khác trong nhóm.'</span>\n",
       "<span style=\"color: #7fbf7f; text-decoration-color: #7fbf7f\">│   </span><span style=\"font-weight: bold\">}</span>,\n",
       "<span style=\"color: #7fbf7f; text-decoration-color: #7fbf7f\">│   </span><span style=\"color: #008000; text-decoration-color: #008000\">'content_type'</span>: <span style=\"color: #008000; text-decoration-color: #008000\">'Thảo luận nhóm và Trình bày'</span>\n",
       "<span style=\"font-weight: bold\">}</span>\n",
       "</pre>\n"
      ],
      "text/plain": [
       "\u001b[1m{\u001b[0m\n",
       "\u001b[2;32m│   \u001b[0m\u001b[32m'activity_name'\u001b[0m: \u001b[32m'Trình bày và Hệ thống hóa kiến thức'\u001b[0m,\n",
       "\u001b[2;32m│   \u001b[0m\u001b[32m'duration_minutes'\u001b[0m: \u001b[1;36m25\u001b[0m,\n",
       "\u001b[2;32m│   \u001b[0m\u001b[32m'teacher_actions'\u001b[0m: \u001b[1m[\u001b[0m\n",
       "\u001b[2;32m│   │   \u001b[0m\u001b[32m'Giới thiệu nhiệm vụ và mục tiêu hoạt động \u001b[0m\u001b[32m(\u001b[0m\u001b[32m2 phút\u001b[0m\u001b[32m)\u001b[0m\u001b[32m.'\u001b[0m,\n",
       "\u001b[2;32m│   │   \u001b[0m\u001b[32m'Chia nhóm \u001b[0m\u001b[32m(\u001b[0m\u001b[32mnếu chưa có\u001b[0m\u001b[32m)\u001b[0m\u001b[32m và phát tài liệu/phiếu học tập \u001b[0m\u001b[32m(\u001b[0m\u001b[32mnếu cần\u001b[0m\u001b[32m)\u001b[0m\u001b[32m \u001b[0m\u001b[32m(\u001b[0m\u001b[32m1 phút\u001b[0m\u001b[32m)\u001b[0m\u001b[32m.'\u001b[0m,\n",
       "\u001b[2;32m│   │   \u001b[0m\u001b[32m'Quan sát, hỗ trợ các nhóm trong quá trình thảo luận, gợi ý khi cần thiết, đảm bảo tất cả học sinh đều tham gia \u001b[0m\u001b[32m(\u001b[0m\u001b[32m15 phút\u001b[0m\u001b[32m)\u001b[0m\u001b[32m.'\u001b[0m,\n",
       "\u001b[2;32m│   │   \u001b[0m\u001b[32m'Mời 2-3 nhóm đại diện trình bày nhanh sản phẩm của nhóm \u001b[0m\u001b[32m(\u001b[0m\u001b[32mmỗi nhóm 2-3 phút\u001b[0m\u001b[32m)\u001b[0m\u001b[32m \u001b[0m\u001b[32m(\u001b[0m\u001b[32m6 phút\u001b[0m\u001b[32m)\u001b[0m\u001b[32m.'\u001b[0m,\n",
       "\u001b[2;32m│   │   \u001b[0m\u001b[32m'Tổng kết, nhận xét, chốt kiến thức trọng tâm và biểu dương các nhóm \u001b[0m\u001b[32m(\u001b[0m\u001b[32m1 phút\u001b[0m\u001b[32m)\u001b[0m\u001b[32m.'\u001b[0m\n",
       "\u001b[2;32m│   \u001b[0m\u001b[1m]\u001b[0m,\n",
       "\u001b[2;32m│   \u001b[0m\u001b[32m'core_component'\u001b[0m: \u001b[32m'Học sinh làm việc theo nhóm \u001b[0m\u001b[32m(\u001b[0m\u001b[32m4-5 người/nhóm\u001b[0m\u001b[32m)\u001b[0m\u001b[32m để hệ thống hóa kiến thức về một chủ đề đã học \u001b[0m\u001b[32m(\u001b[0m\u001b[32mví dụ: các khái niệm chính, công thức, quy trình, sự kiện lịch sử, v.v.\u001b[0m\u001b[32m)\u001b[0m\u001b[32m dưới dạng sơ đồ tư duy, bảng tóm tắt, hoặc dàn ý trình bày ngắn gọn trên giấy A0/bảng phụ. Mỗi nhóm cần đảm bảo tất cả thành viên đều hiểu rõ nội dung và có thể giải thích được sản phẩm của nhóm.'\u001b[0m,\n",
       "\u001b[2;32m│   \u001b[0m\u001b[32m'extension_component'\u001b[0m: \u001b[32m'Các nhóm hoàn thành sớm có thể: 1\u001b[0m\u001b[32m)\u001b[0m\u001b[32m Thêm các ví dụ minh họa thực tế cho các khái niệm đã hệ thống. 2\u001b[0m\u001b[32m)\u001b[0m\u001b[32m Chuẩn bị 1-2 câu hỏi phản biện hoặc mở rộng kiến thức cho các nhóm khác sau khi trình bày. 3\u001b[0m\u001b[32m)\u001b[0m\u001b[32m Tìm kiếm thêm thông tin liên quan để làm phong phú thêm nội dung.'\u001b[0m,\n",
       "\u001b[2;32m│   \u001b[0m\u001b[32m'solution_guide'\u001b[0m: \u001b[32m\"Tiêu chí đánh giá sản phẩm và phần trình bày: 1\u001b[0m\u001b[32m)\u001b[0m\u001b[32m Nội dung chính xác, đầy đủ \u001b[0m\u001b[32m(\u001b[0m\u001b[32mđủ các ý trọng tâm\u001b[0m\u001b[32m)\u001b[0m\u001b[32m. 2\u001b[0m\u001b[32m)\u001b[0m\u001b[32m Trình bày rõ ràng, logic, dễ hiểu. 3\u001b[0m\u001b[32m)\u001b[0m\u001b[32m Sáng tạo trong cách thể hiện \u001b[0m\u001b[32m(\u001b[0m\u001b[32msơ đồ, hình ảnh\u001b[0m\u001b[32m)\u001b[0m\u001b[32m. 4\u001b[0m\u001b[32m)\u001b[0m\u001b[32m Khả năng trình bày lưu loát, tự tin. Giáo viên có thể đặt câu hỏi gợi mở như: 'Tại sao các em lại sắp xếp các ý này theo thứ tự đó?', 'Có cách nào khác để hệ thống hóa kiến thức này không?', 'Kiến thức này có thể ứng dụng trong trường hợp nào?'\"\u001b[0m,\n",
       "\u001b[2;32m│   \u001b[0m\u001b[32m'differentiation'\u001b[0m: \u001b[1m{\u001b[0m\n",
       "\u001b[2;32m│   │   \u001b[0m\u001b[32m'for_struggling_students'\u001b[0m: \u001b[32m'Cung cấp phiếu học tập có sẵn các từ khóa, câu hỏi gợi ý hoặc cấu trúc sơ đồ tư duy mẫu để học sinh dễ dàng điền vào. Giáo viên dành thời gian quan sát và hỗ trợ trực tiếp nhóm này, có thể gợi ý các phần kiến thức cơ bản nhất cần tập trung.'\u001b[0m,\n",
       "\u001b[2;32m│   │   \u001b[0m\u001b[32m'for_advanced_students'\u001b[0m: \u001b[32m'Khuyến khích học sinh liên hệ kiến thức đã học với các vấn đề thực tiễn hoặc các chủ đề liên quan khác. Yêu cầu các em phân tích sâu hơn, đưa ra các lập luận hoặc giải thích các mối quan hệ phức tạp giữa các khái niệm. Có thể giao vai trò nhóm trưởng để các em hỗ trợ các bạn khác trong nhóm.'\u001b[0m\n",
       "\u001b[2;32m│   \u001b[0m\u001b[1m}\u001b[0m,\n",
       "\u001b[2;32m│   \u001b[0m\u001b[32m'content_type'\u001b[0m: \u001b[32m'Thảo luận nhóm và Trình bày'\u001b[0m\n",
       "\u001b[1m}\u001b[0m\n"
      ]
     },
     "metadata": {},
     "output_type": "display_data"
    },
    {
     "data": {
      "text/html": [
       "<pre style=\"white-space:pre;overflow-x:auto;line-height:normal;font-family:Menlo,'DejaVu Sans Mono',consolas,'Courier New',monospace\">\n",
       "<span style=\"color: #808000; text-decoration-color: #808000; font-weight: bold\">------- Hoàn thành bước: activity_designer -------</span>\n",
       "</pre>\n"
      ],
      "text/plain": [
       "\n",
       "\u001b[1;33m------- Hoàn thành bước: activity_designer -------\u001b[0m\n"
      ]
     },
     "metadata": {},
     "output_type": "display_data"
    },
    {
     "data": {
      "text/html": [
       "<pre style=\"white-space:pre;overflow-x:auto;line-height:normal;font-family:Menlo,'DejaVu Sans Mono',consolas,'Courier New',monospace\">\n",
       "<span style=\"color: #008080; text-decoration-color: #008080; font-weight: bold\">&gt;</span> `Agent: Guardian Critic` <span style=\"font-weight: bold\">(</span>v12.<span style=\"color: #008080; text-decoration-color: #008080; font-weight: bold\">0</span><span style=\"font-weight: bold\">)</span> đang bảo vệ kế hoạch<span style=\"color: #808000; text-decoration-color: #808000\">...</span>\n",
       "</pre>\n"
      ],
      "text/plain": [
       "\n",
       "\u001b[1;36m>\u001b[0m `Agent: Guardian Critic` \u001b[1m(\u001b[0mv12.\u001b[1;36m0\u001b[0m\u001b[1m)\u001b[0m đang bảo vệ kế hoạch\u001b[33m...\u001b[0m\n"
      ]
     },
     "metadata": {},
     "output_type": "display_data"
    },
    {
     "data": {
      "text/html": [
       "<pre style=\"white-space:pre;overflow-x:auto;line-height:normal;font-family:Menlo,'DejaVu Sans Mono',consolas,'Courier New',monospace\">\n",
       "<span style=\"color: #008080; text-decoration-color: #008080; font-weight: bold\">&gt;</span> ✔️ GUARDIAN: Nội dung tuân thủ kế hoạch!\n",
       "</pre>\n"
      ],
      "text/plain": [
       "\n",
       "\u001b[1;36m>\u001b[0m ✔️ GUARDIAN: Nội dung tuân thủ kế hoạch!\n"
      ]
     },
     "metadata": {},
     "output_type": "display_data"
    },
    {
     "data": {
      "text/html": [
       "<pre style=\"white-space:pre;overflow-x:auto;line-height:normal;font-family:Menlo,'DejaVu Sans Mono',consolas,'Courier New',monospace\">\n",
       "<span style=\"color: #808000; text-decoration-color: #808000; font-weight: bold\">------- Hoàn thành bước: content_validator -------</span>\n",
       "</pre>\n"
      ],
      "text/plain": [
       "\n",
       "\u001b[1;33m------- Hoàn thành bước: content_validator -------\u001b[0m\n"
      ]
     },
     "metadata": {},
     "output_type": "display_data"
    },
    {
     "data": {
      "text/html": [
       "<pre style=\"white-space:pre;overflow-x:auto;line-height:normal;font-family:Menlo,'DejaVu Sans Mono',consolas,'Courier New',monospace\">\n",
       "<span style=\"color: #008080; text-decoration-color: #008080; font-weight: bold\">&gt;</span> `Commiter`: Đang ghi nhận nội dung đã được xác thực<span style=\"color: #808000; text-decoration-color: #808000\">...</span>\n",
       "</pre>\n"
      ],
      "text/plain": [
       "\n",
       "\u001b[1;36m>\u001b[0m `Commiter`: Đang ghi nhận nội dung đã được xác thực\u001b[33m...\u001b[0m\n"
      ]
     },
     "metadata": {},
     "output_type": "display_data"
    },
    {
     "data": {
      "text/html": [
       "<pre style=\"white-space:pre;overflow-x:auto;line-height:normal;font-family:Menlo,'DejaVu Sans Mono',consolas,'Courier New',monospace\">\n",
       "<span style=\"color: #808000; text-decoration-color: #808000; font-weight: bold\">------- Hoàn thành bước: commit_validated_content -------</span>\n",
       "</pre>\n"
      ],
      "text/plain": [
       "\n",
       "\u001b[1;33m------- Hoàn thành bước: commit_validated_content -------\u001b[0m\n"
      ]
     },
     "metadata": {},
     "output_type": "display_data"
    },
    {
     "data": {
      "text/html": [
       "<pre style=\"white-space:pre;overflow-x:auto;line-height:normal;font-family:Menlo,'DejaVu Sans Mono',consolas,'Courier New',monospace\">\n",
       "<span style=\"color: #808000; text-decoration-color: #808000; font-weight: bold\">------- Hoàn thành bước: mark_task_complete -------</span>\n",
       "</pre>\n"
      ],
      "text/plain": [
       "\n",
       "\u001b[1;33m------- Hoàn thành bước: mark_task_complete -------\u001b[0m\n"
      ]
     },
     "metadata": {},
     "output_type": "display_data"
    },
    {
     "data": {
      "text/html": [
       "<pre style=\"white-space:pre;overflow-x:auto;line-height:normal;font-family:Menlo,'DejaVu Sans Mono',consolas,'Courier New',monospace\">\n",
       "<span style=\"color: #808000; text-decoration-color: #808000; font-weight: bold\">------- Hoàn thành bước: delay_node -------</span>\n",
       "</pre>\n"
      ],
      "text/plain": [
       "\n",
       "\u001b[1;33m------- Hoàn thành bước: delay_node -------\u001b[0m\n"
      ]
     },
     "metadata": {},
     "output_type": "display_data"
    },
    {
     "data": {
      "text/html": [
       "<pre style=\"white-space:pre;overflow-x:auto;line-height:normal;font-family:Menlo,'DejaVu Sans Mono',consolas,'Courier New',monospace\">\n",
       "<span style=\"color: #008080; text-decoration-color: #008080; font-weight: bold\">&gt;</span> `Router`: Đang kiểm tra nhiệm vụ<span style=\"color: #808000; text-decoration-color: #808000\">...</span>\n",
       "</pre>\n"
      ],
      "text/plain": [
       "\n",
       "\u001b[1;36m>\u001b[0m `Router`: Đang kiểm tra nhiệm vụ\u001b[33m...\u001b[0m\n"
      ]
     },
     "metadata": {},
     "output_type": "display_data"
    },
    {
     "data": {
      "text/html": [
       "<pre style=\"white-space:pre;overflow-x:auto;line-height:normal;font-family:Menlo,'DejaVu Sans Mono',consolas,'Courier New',monospace\">\n",
       "<span style=\"color: #008080; text-decoration-color: #008080; font-weight: bold\">&gt;</span> Nhiệm vụ tiếp theo: <span style=\"color: #008000; text-decoration-color: #008000\">'Vận dụng và Củng cố kiến thức'</span> <span style=\"font-weight: bold\">(</span>ID: <span style=\"color: #008080; text-decoration-color: #008080; font-weight: bold\">3</span><span style=\"font-weight: bold\">)</span>\n",
       "</pre>\n"
      ],
      "text/plain": [
       "\n",
       "\u001b[1;36m>\u001b[0m Nhiệm vụ tiếp theo: \u001b[32m'Vận dụng và Củng cố kiến thức'\u001b[0m \u001b[1m(\u001b[0mID: \u001b[1;36m3\u001b[0m\u001b[1m)\u001b[0m\n"
      ]
     },
     "metadata": {},
     "output_type": "display_data"
    },
    {
     "data": {
      "text/html": [
       "<pre style=\"white-space:pre;overflow-x:auto;line-height:normal;font-family:Menlo,'DejaVu Sans Mono',consolas,'Courier New',monospace\">\n",
       "<span style=\"color: #808000; text-decoration-color: #808000; font-weight: bold\">------- Hoàn thành bước: task_router -------</span>\n",
       "</pre>\n"
      ],
      "text/plain": [
       "\n",
       "\u001b[1;33m------- Hoàn thành bước: task_router -------\u001b[0m\n"
      ]
     },
     "metadata": {},
     "output_type": "display_data"
    },
    {
     "data": {
      "text/html": [
       "<pre style=\"white-space:pre;overflow-x:auto;line-height:normal;font-family:Menlo,'DejaVu Sans Mono',consolas,'Courier New',monospace\">\n",
       "<span style=\"color: #008080; text-decoration-color: #008080; font-weight: bold\">&gt;</span> `Agent: Task Dispatcher` đang giao việc<span style=\"color: #808000; text-decoration-color: #808000\">...</span>\n",
       "</pre>\n"
      ],
      "text/plain": [
       "\n",
       "\u001b[1;36m>\u001b[0m `Agent: Task Dispatcher` đang giao việc\u001b[33m...\u001b[0m\n"
      ]
     },
     "metadata": {},
     "output_type": "display_data"
    },
    {
     "data": {
      "text/html": [
       "<pre style=\"white-space:pre;overflow-x:auto;line-height:normal;font-family:Menlo,'DejaVu Sans Mono',consolas,'Courier New',monospace\">\n",
       "<span style=\"color: #008080; text-decoration-color: #008080; font-weight: bold\">&gt;</span> --- 🚚 `Dispatcher`: Giao nhiệm vụ cho `activity_designer`.\n",
       "</pre>\n"
      ],
      "text/plain": [
       "\n",
       "\u001b[1;36m>\u001b[0m --- 🚚 `Dispatcher`: Giao nhiệm vụ cho `activity_designer`.\n"
      ]
     },
     "metadata": {},
     "output_type": "display_data"
    },
    {
     "data": {
      "text/html": [
       "<pre style=\"white-space:pre;overflow-x:auto;line-height:normal;font-family:Menlo,'DejaVu Sans Mono',consolas,'Courier New',monospace\">\n",
       "<span style=\"color: #808000; text-decoration-color: #808000; font-weight: bold\">------- Hoàn thành bước: task_dispatcher -------</span>\n",
       "</pre>\n"
      ],
      "text/plain": [
       "\n",
       "\u001b[1;33m------- Hoàn thành bước: task_dispatcher -------\u001b[0m\n"
      ]
     },
     "metadata": {},
     "output_type": "display_data"
    },
    {
     "data": {
      "text/html": [
       "<pre style=\"white-space:pre;overflow-x:auto;line-height:normal;font-family:Menlo,'DejaVu Sans Mono',consolas,'Courier New',monospace\">\n",
       "<span style=\"color: #008080; text-decoration-color: #008080; font-weight: bold\">&gt;</span> `Agent: Activity Designer` <span style=\"font-weight: bold\">(</span>v12.<span style=\"color: #008080; text-decoration-color: #008080; font-weight: bold\">0</span><span style=\"font-weight: bold\">)</span> đang tạo nội dung theo kỷ luật<span style=\"color: #808000; text-decoration-color: #808000\">...</span>\n",
       "</pre>\n"
      ],
      "text/plain": [
       "\n",
       "\u001b[1;36m>\u001b[0m `Agent: Activity Designer` \u001b[1m(\u001b[0mv12.\u001b[1;36m0\u001b[0m\u001b[1m)\u001b[0m đang tạo nội dung theo kỷ luật\u001b[33m...\u001b[0m\n"
      ]
     },
     "metadata": {},
     "output_type": "display_data"
    },
    {
     "data": {
      "text/html": [
       "<pre style=\"white-space:pre;overflow-x:auto;line-height:normal;font-family:Menlo,'DejaVu Sans Mono',consolas,'Courier New',monospace\"><span style=\"color: #008000; text-decoration-color: #008000; font-weight: bold\">✔️ Nội dung do Activity Designer tạo ra:</span>\n",
       "</pre>\n"
      ],
      "text/plain": [
       "\u001b[1;32m✔️ Nội dung do Activity Designer tạo ra:\u001b[0m\n"
      ]
     },
     "metadata": {},
     "output_type": "display_data"
    },
    {
     "data": {
      "text/html": [
       "<pre style=\"white-space:pre;overflow-x:auto;line-height:normal;font-family:Menlo,'DejaVu Sans Mono',consolas,'Courier New',monospace\"><span style=\"font-weight: bold\">{</span>\n",
       "<span style=\"color: #7fbf7f; text-decoration-color: #7fbf7f\">│   </span><span style=\"color: #008000; text-decoration-color: #008000\">'activity_name'</span>: <span style=\"color: #008000; text-decoration-color: #008000\">'Vận dụng và Củng cố kiến thức'</span>,\n",
       "<span style=\"color: #7fbf7f; text-decoration-color: #7fbf7f\">│   </span><span style=\"color: #008000; text-decoration-color: #008000\">'duration_minutes'</span>: <span style=\"color: #008080; text-decoration-color: #008080; font-weight: bold\">15</span>,\n",
       "<span style=\"color: #7fbf7f; text-decoration-color: #7fbf7f\">│   </span><span style=\"color: #008000; text-decoration-color: #008000\">'teacher_actions'</span>: <span style=\"font-weight: bold\">[</span>\n",
       "<span style=\"color: #7fbf7f; text-decoration-color: #7fbf7f\">│   │   </span><span style=\"color: #008000; text-decoration-color: #008000\">'Giới thiệu nhiệm vụ, mục tiêu và thời gian thực hiện (1 phút).'</span>,\n",
       "<span style=\"color: #7fbf7f; text-decoration-color: #7fbf7f\">│   │   </span><span style=\"color: #008000; text-decoration-color: #008000\">'Phát phiếu bài tập hoặc trình chiếu đề bài. Nhắc nhở học sinh làm việc cá nhân (1 phút).'</span>,\n",
       "<span style=\"color: #7fbf7f; text-decoration-color: #7fbf7f\">│   │   </span><span style=\"color: #008000; text-decoration-color: #008000\">'Quan sát, đi lại trong lớp, hỗ trợ kịp thời các học sinh gặp khó khăn bằng cách đặt câu hỏi gợi mở hoặc hướng dẫn từng bước (8 phút).'</span>,\n",
       "<span style=\"color: #7fbf7f; text-decoration-color: #7fbf7f\">│   │   </span><span style=\"color: #008000; text-decoration-color: #008000\">'Mời 1-2 học sinh trình bày kết quả hoặc chia sẻ cách làm. Tổ chức cho cả lớp nhận xét, bổ sung (4 phút).'</span>,\n",
       "<span style=\"color: #7fbf7f; text-decoration-color: #7fbf7f\">│   │   </span><span style=\"color: #008000; text-decoration-color: #008000\">'Tổng kết, chốt lại kiến thức trọng tâm và các lỗi thường gặp (1 phút).'</span>\n",
       "<span style=\"color: #7fbf7f; text-decoration-color: #7fbf7f\">│   </span><span style=\"font-weight: bold\">]</span>,\n",
       "<span style=\"color: #7fbf7f; text-decoration-color: #7fbf7f\">│   </span><span style=\"color: #008000; text-decoration-color: #008000\">'core_component'</span>: <span style=\"color: #008000; text-decoration-color: #008000\">'Học sinh thực hiện 2 bài tập vận dụng kiến thức vừa học (ví dụ: giải bài toán, phân tích tình huống, điền khuyết). Các bài tập này tập trung vào việc củng cố các khái niệm và kỹ năng cơ bản.'</span>,\n",
       "<span style=\"color: #7fbf7f; text-decoration-color: #7fbf7f\">│   </span><span style=\"color: #008000; text-decoration-color: #008000\">'extension_component'</span>: <span style=\"color: #008000; text-decoration-color: #008000\">'Học sinh giải thêm 1 bài tập nâng cao hoặc một câu hỏi tư duy mở rộng liên quan đến kiến thức đã học, yêu cầu phân tích sâu hơn hoặc áp dụng vào tình huống phức tạp hơn.'</span>,\n",
       "<span style=\"color: #7fbf7f; text-decoration-color: #7fbf7f\">│   </span><span style=\"color: #008000; text-decoration-color: #008000\">'solution_guide'</span>: <span style=\"color: #008000; text-decoration-color: #008000\">'Giáo viên chuẩn bị đáp án chi tiết cho các bài tập. Khi chữa bài, tập trung vào việc học sinh trình bày rõ ràng các bước giải, lập luận logic và hiểu được bản chất vấn đề, không chỉ dừng lại ở đáp số cuối cùng. Gợi ý học sinh tự kiểm tra lại kết quả.'</span>,\n",
       "<span style=\"color: #7fbf7f; text-decoration-color: #7fbf7f\">│   </span><span style=\"color: #008000; text-decoration-color: #008000\">'differentiation'</span>: <span style=\"font-weight: bold\">{</span>\n",
       "<span style=\"color: #7fbf7f; text-decoration-color: #7fbf7f\">│   │   </span><span style=\"color: #008000; text-decoration-color: #008000\">'for_struggling_students'</span>: <span style=\"color: #008000; text-decoration-color: #008000\">'Giáo viên có thể cung cấp các gợi ý cụ thể hơn, ví dụ mẫu, hoặc cho phép học sinh làm việc theo cặp để hỗ trợ lẫn nhau. Tập trung vào việc hoàn thành ít nhất 1 bài tập cơ bản với sự hướng dẫn của giáo viên hoặc bạn bè.'</span>,\n",
       "<span style=\"color: #7fbf7f; text-decoration-color: #7fbf7f\">│   │   </span><span style=\"color: #008000; text-decoration-color: #008000\">'for_advanced_students'</span>: <span style=\"color: #008000; text-decoration-color: #008000\">'Học sinh được khuyến khích giải thêm bài tập nâng cao (phần mở rộng) hoặc được yêu cầu giải thích sâu hơn về lý do chọn phương pháp giải, các trường hợp đặc biệt hoặc tự đặt ra một bài tập tương tự.'</span>\n",
       "<span style=\"color: #7fbf7f; text-decoration-color: #7fbf7f\">│   </span><span style=\"font-weight: bold\">}</span>,\n",
       "<span style=\"color: #7fbf7f; text-decoration-color: #7fbf7f\">│   </span><span style=\"color: #008000; text-decoration-color: #008000\">'content_type'</span>: <span style=\"color: #008000; text-decoration-color: #008000\">'Thực hành cá nhân và Chia sẻ'</span>\n",
       "<span style=\"font-weight: bold\">}</span>\n",
       "</pre>\n"
      ],
      "text/plain": [
       "\u001b[1m{\u001b[0m\n",
       "\u001b[2;32m│   \u001b[0m\u001b[32m'activity_name'\u001b[0m: \u001b[32m'Vận dụng và Củng cố kiến thức'\u001b[0m,\n",
       "\u001b[2;32m│   \u001b[0m\u001b[32m'duration_minutes'\u001b[0m: \u001b[1;36m15\u001b[0m,\n",
       "\u001b[2;32m│   \u001b[0m\u001b[32m'teacher_actions'\u001b[0m: \u001b[1m[\u001b[0m\n",
       "\u001b[2;32m│   │   \u001b[0m\u001b[32m'Giới thiệu nhiệm vụ, mục tiêu và thời gian thực hiện \u001b[0m\u001b[32m(\u001b[0m\u001b[32m1 phút\u001b[0m\u001b[32m)\u001b[0m\u001b[32m.'\u001b[0m,\n",
       "\u001b[2;32m│   │   \u001b[0m\u001b[32m'Phát phiếu bài tập hoặc trình chiếu đề bài. Nhắc nhở học sinh làm việc cá nhân \u001b[0m\u001b[32m(\u001b[0m\u001b[32m1 phút\u001b[0m\u001b[32m)\u001b[0m\u001b[32m.'\u001b[0m,\n",
       "\u001b[2;32m│   │   \u001b[0m\u001b[32m'Quan sát, đi lại trong lớp, hỗ trợ kịp thời các học sinh gặp khó khăn bằng cách đặt câu hỏi gợi mở hoặc hướng dẫn từng bước \u001b[0m\u001b[32m(\u001b[0m\u001b[32m8 phút\u001b[0m\u001b[32m)\u001b[0m\u001b[32m.'\u001b[0m,\n",
       "\u001b[2;32m│   │   \u001b[0m\u001b[32m'Mời 1-2 học sinh trình bày kết quả hoặc chia sẻ cách làm. Tổ chức cho cả lớp nhận xét, bổ sung \u001b[0m\u001b[32m(\u001b[0m\u001b[32m4 phút\u001b[0m\u001b[32m)\u001b[0m\u001b[32m.'\u001b[0m,\n",
       "\u001b[2;32m│   │   \u001b[0m\u001b[32m'Tổng kết, chốt lại kiến thức trọng tâm và các lỗi thường gặp \u001b[0m\u001b[32m(\u001b[0m\u001b[32m1 phút\u001b[0m\u001b[32m)\u001b[0m\u001b[32m.'\u001b[0m\n",
       "\u001b[2;32m│   \u001b[0m\u001b[1m]\u001b[0m,\n",
       "\u001b[2;32m│   \u001b[0m\u001b[32m'core_component'\u001b[0m: \u001b[32m'Học sinh thực hiện 2 bài tập vận dụng kiến thức vừa học \u001b[0m\u001b[32m(\u001b[0m\u001b[32mví dụ: giải bài toán, phân tích tình huống, điền khuyết\u001b[0m\u001b[32m)\u001b[0m\u001b[32m. Các bài tập này tập trung vào việc củng cố các khái niệm và kỹ năng cơ bản.'\u001b[0m,\n",
       "\u001b[2;32m│   \u001b[0m\u001b[32m'extension_component'\u001b[0m: \u001b[32m'Học sinh giải thêm 1 bài tập nâng cao hoặc một câu hỏi tư duy mở rộng liên quan đến kiến thức đã học, yêu cầu phân tích sâu hơn hoặc áp dụng vào tình huống phức tạp hơn.'\u001b[0m,\n",
       "\u001b[2;32m│   \u001b[0m\u001b[32m'solution_guide'\u001b[0m: \u001b[32m'Giáo viên chuẩn bị đáp án chi tiết cho các bài tập. Khi chữa bài, tập trung vào việc học sinh trình bày rõ ràng các bước giải, lập luận logic và hiểu được bản chất vấn đề, không chỉ dừng lại ở đáp số cuối cùng. Gợi ý học sinh tự kiểm tra lại kết quả.'\u001b[0m,\n",
       "\u001b[2;32m│   \u001b[0m\u001b[32m'differentiation'\u001b[0m: \u001b[1m{\u001b[0m\n",
       "\u001b[2;32m│   │   \u001b[0m\u001b[32m'for_struggling_students'\u001b[0m: \u001b[32m'Giáo viên có thể cung cấp các gợi ý cụ thể hơn, ví dụ mẫu, hoặc cho phép học sinh làm việc theo cặp để hỗ trợ lẫn nhau. Tập trung vào việc hoàn thành ít nhất 1 bài tập cơ bản với sự hướng dẫn của giáo viên hoặc bạn bè.'\u001b[0m,\n",
       "\u001b[2;32m│   │   \u001b[0m\u001b[32m'for_advanced_students'\u001b[0m: \u001b[32m'Học sinh được khuyến khích giải thêm bài tập nâng cao \u001b[0m\u001b[32m(\u001b[0m\u001b[32mphần mở rộng\u001b[0m\u001b[32m)\u001b[0m\u001b[32m hoặc được yêu cầu giải thích sâu hơn về lý do chọn phương pháp giải, các trường hợp đặc biệt hoặc tự đặt ra một bài tập tương tự.'\u001b[0m\n",
       "\u001b[2;32m│   \u001b[0m\u001b[1m}\u001b[0m,\n",
       "\u001b[2;32m│   \u001b[0m\u001b[32m'content_type'\u001b[0m: \u001b[32m'Thực hành cá nhân và Chia sẻ'\u001b[0m\n",
       "\u001b[1m}\u001b[0m\n"
      ]
     },
     "metadata": {},
     "output_type": "display_data"
    },
    {
     "data": {
      "text/html": [
       "<pre style=\"white-space:pre;overflow-x:auto;line-height:normal;font-family:Menlo,'DejaVu Sans Mono',consolas,'Courier New',monospace\">\n",
       "<span style=\"color: #808000; text-decoration-color: #808000; font-weight: bold\">------- Hoàn thành bước: activity_designer -------</span>\n",
       "</pre>\n"
      ],
      "text/plain": [
       "\n",
       "\u001b[1;33m------- Hoàn thành bước: activity_designer -------\u001b[0m\n"
      ]
     },
     "metadata": {},
     "output_type": "display_data"
    },
    {
     "data": {
      "text/html": [
       "<pre style=\"white-space:pre;overflow-x:auto;line-height:normal;font-family:Menlo,'DejaVu Sans Mono',consolas,'Courier New',monospace\">\n",
       "<span style=\"color: #008080; text-decoration-color: #008080; font-weight: bold\">&gt;</span> `Agent: Guardian Critic` <span style=\"font-weight: bold\">(</span>v12.<span style=\"color: #008080; text-decoration-color: #008080; font-weight: bold\">0</span><span style=\"font-weight: bold\">)</span> đang bảo vệ kế hoạch<span style=\"color: #808000; text-decoration-color: #808000\">...</span>\n",
       "</pre>\n"
      ],
      "text/plain": [
       "\n",
       "\u001b[1;36m>\u001b[0m `Agent: Guardian Critic` \u001b[1m(\u001b[0mv12.\u001b[1;36m0\u001b[0m\u001b[1m)\u001b[0m đang bảo vệ kế hoạch\u001b[33m...\u001b[0m\n"
      ]
     },
     "metadata": {},
     "output_type": "display_data"
    },
    {
     "data": {
      "text/html": [
       "<pre style=\"white-space:pre;overflow-x:auto;line-height:normal;font-family:Menlo,'DejaVu Sans Mono',consolas,'Courier New',monospace\"><span style=\"color: #808000; text-decoration-color: #808000; font-weight: bold\">⚠️  GUARDIAN PHẢN BIỆN: Kế hoạch này chưa thực sự khả thi trong </span><span style=\"color: #808000; text-decoration-color: #808000; font-weight: bold\">15</span><span style=\"color: #808000; text-decoration-color: #808000; font-weight: bold\"> phút. Mặc dù tổng thời gian các hoạt động của </span>\n",
       "<span style=\"color: #808000; text-decoration-color: #808000; font-weight: bold\">giáo viên là </span><span style=\"color: #808000; text-decoration-color: #808000; font-weight: bold\">15</span><span style=\"color: #808000; text-decoration-color: #808000; font-weight: bold\"> phút, nhưng thời gian dành cho học sinh thực hiện </span><span style=\"color: #808000; text-decoration-color: #808000; font-weight: bold\">2</span><span style=\"color: #808000; text-decoration-color: #808000; font-weight: bold\"> bài tập vận dụng và </span><span style=\"color: #808000; text-decoration-color: #808000; font-weight: bold\">1</span><span style=\"color: #808000; text-decoration-color: #808000; font-weight: bold\"> bài tập nâng cao (chỉ </span><span style=\"color: #808000; text-decoration-color: #808000; font-weight: bold\">8</span><span style=\"color: #808000; text-decoration-color: #808000; font-weight: bold\"> </span>\n",
       "<span style=\"color: #808000; text-decoration-color: #808000; font-weight: bold\">phút) là quá ngắn. Việc mời </span><span style=\"color: #808000; text-decoration-color: #808000; font-weight: bold\">1</span><span style=\"color: #808000; text-decoration-color: #808000; font-weight: bold\">-</span><span style=\"color: #808000; text-decoration-color: #808000; font-weight: bold\">2</span><span style=\"color: #808000; text-decoration-color: #808000; font-weight: bold\"> học sinh trình bày và cả lớp nhận xét trong </span><span style=\"color: #808000; text-decoration-color: #808000; font-weight: bold\">4</span><span style=\"color: #808000; text-decoration-color: #808000; font-weight: bold\"> phút cũng rất gấp gáp, khó đảm bảo </span>\n",
       "<span style=\"color: #808000; text-decoration-color: #808000; font-weight: bold\">chất lượng. Với số lượng bài tập và yêu cầu như vậy, học sinh sẽ không đủ thời gian để suy nghĩ, làm bài và trình </span>\n",
       "<span style=\"color: #808000; text-decoration-color: #808000; font-weight: bold\">bày một cách hiệu quả. Hãy thiết kế lại một phiên bản đơn giản hơn để khớp với thời gian </span><span style=\"color: #808000; text-decoration-color: #808000; font-weight: bold\">15</span><span style=\"color: #808000; text-decoration-color: #808000; font-weight: bold\"> phút đã cho.</span>\n",
       "</pre>\n"
      ],
      "text/plain": [
       "\u001b[1;33m⚠️  GUARDIAN PHẢN BIỆN: Kế hoạch này chưa thực sự khả thi trong \u001b[0m\u001b[1;33m15\u001b[0m\u001b[1;33m phút. Mặc dù tổng thời gian các hoạt động của \u001b[0m\n",
       "\u001b[1;33mgiáo viên là \u001b[0m\u001b[1;33m15\u001b[0m\u001b[1;33m phút, nhưng thời gian dành cho học sinh thực hiện \u001b[0m\u001b[1;33m2\u001b[0m\u001b[1;33m bài tập vận dụng và \u001b[0m\u001b[1;33m1\u001b[0m\u001b[1;33m bài tập nâng cao \u001b[0m\u001b[1;33m(\u001b[0m\u001b[1;33mchỉ \u001b[0m\u001b[1;33m8\u001b[0m\u001b[1;33m \u001b[0m\n",
       "\u001b[1;33mphút\u001b[0m\u001b[1;33m)\u001b[0m\u001b[1;33m là quá ngắn. Việc mời \u001b[0m\u001b[1;33m1\u001b[0m\u001b[1;33m-\u001b[0m\u001b[1;33m2\u001b[0m\u001b[1;33m học sinh trình bày và cả lớp nhận xét trong \u001b[0m\u001b[1;33m4\u001b[0m\u001b[1;33m phút cũng rất gấp gáp, khó đảm bảo \u001b[0m\n",
       "\u001b[1;33mchất lượng. Với số lượng bài tập và yêu cầu như vậy, học sinh sẽ không đủ thời gian để suy nghĩ, làm bài và trình \u001b[0m\n",
       "\u001b[1;33mbày một cách hiệu quả. Hãy thiết kế lại một phiên bản đơn giản hơn để khớp với thời gian \u001b[0m\u001b[1;33m15\u001b[0m\u001b[1;33m phút đã cho.\u001b[0m\n"
      ]
     },
     "metadata": {},
     "output_type": "display_data"
    },
    {
     "data": {
      "text/html": [
       "<pre style=\"white-space:pre;overflow-x:auto;line-height:normal;font-family:Menlo,'DejaVu Sans Mono',consolas,'Courier New',monospace\">\n",
       "<span style=\"color: #808000; text-decoration-color: #808000; font-weight: bold\">------- Hoàn thành bước: content_validator -------</span>\n",
       "</pre>\n"
      ],
      "text/plain": [
       "\n",
       "\u001b[1;33m------- Hoàn thành bước: content_validator -------\u001b[0m\n"
      ]
     },
     "metadata": {},
     "output_type": "display_data"
    },
    {
     "data": {
      "text/html": [
       "<pre style=\"white-space:pre;overflow-x:auto;line-height:normal;font-family:Menlo,'DejaVu Sans Mono',consolas,'Courier New',monospace\">\n",
       "<span style=\"color: #008080; text-decoration-color: #008080; font-weight: bold\">&gt;</span> `Agent: Task Dispatcher` đang giao việc<span style=\"color: #808000; text-decoration-color: #808000\">...</span>\n",
       "</pre>\n"
      ],
      "text/plain": [
       "\n",
       "\u001b[1;36m>\u001b[0m `Agent: Task Dispatcher` đang giao việc\u001b[33m...\u001b[0m\n"
      ]
     },
     "metadata": {},
     "output_type": "display_data"
    },
    {
     "data": {
      "text/html": [
       "<pre style=\"white-space:pre;overflow-x:auto;line-height:normal;font-family:Menlo,'DejaVu Sans Mono',consolas,'Courier New',monospace\">\n",
       "<span style=\"color: #008080; text-decoration-color: #008080; font-weight: bold\">&gt;</span> --- 🚚 `Dispatcher`: Giao nhiệm vụ cho `activity_designer`.\n",
       "</pre>\n"
      ],
      "text/plain": [
       "\n",
       "\u001b[1;36m>\u001b[0m --- 🚚 `Dispatcher`: Giao nhiệm vụ cho `activity_designer`.\n"
      ]
     },
     "metadata": {},
     "output_type": "display_data"
    },
    {
     "data": {
      "text/html": [
       "<pre style=\"white-space:pre;overflow-x:auto;line-height:normal;font-family:Menlo,'DejaVu Sans Mono',consolas,'Courier New',monospace\">\n",
       "<span style=\"color: #808000; text-decoration-color: #808000; font-weight: bold\">------- Hoàn thành bước: task_dispatcher -------</span>\n",
       "</pre>\n"
      ],
      "text/plain": [
       "\n",
       "\u001b[1;33m------- Hoàn thành bước: task_dispatcher -------\u001b[0m\n"
      ]
     },
     "metadata": {},
     "output_type": "display_data"
    },
    {
     "data": {
      "text/html": [
       "<pre style=\"white-space:pre;overflow-x:auto;line-height:normal;font-family:Menlo,'DejaVu Sans Mono',consolas,'Courier New',monospace\">\n",
       "<span style=\"color: #008080; text-decoration-color: #008080; font-weight: bold\">&gt;</span> `Agent: Activity Designer` <span style=\"font-weight: bold\">(</span>v12.<span style=\"color: #008080; text-decoration-color: #008080; font-weight: bold\">0</span><span style=\"font-weight: bold\">)</span> đang tạo nội dung theo kỷ luật<span style=\"color: #808000; text-decoration-color: #808000\">...</span>\n",
       "</pre>\n"
      ],
      "text/plain": [
       "\n",
       "\u001b[1;36m>\u001b[0m `Agent: Activity Designer` \u001b[1m(\u001b[0mv12.\u001b[1;36m0\u001b[0m\u001b[1m)\u001b[0m đang tạo nội dung theo kỷ luật\u001b[33m...\u001b[0m\n"
      ]
     },
     "metadata": {},
     "output_type": "display_data"
    },
    {
     "data": {
      "text/html": [
       "<pre style=\"white-space:pre;overflow-x:auto;line-height:normal;font-family:Menlo,'DejaVu Sans Mono',consolas,'Courier New',monospace\"><span style=\"color: #008000; text-decoration-color: #008000; font-weight: bold\">✔️ Nội dung do Activity Designer tạo ra:</span>\n",
       "</pre>\n"
      ],
      "text/plain": [
       "\u001b[1;32m✔️ Nội dung do Activity Designer tạo ra:\u001b[0m\n"
      ]
     },
     "metadata": {},
     "output_type": "display_data"
    },
    {
     "data": {
      "text/html": [
       "<pre style=\"white-space:pre;overflow-x:auto;line-height:normal;font-family:Menlo,'DejaVu Sans Mono',consolas,'Courier New',monospace\"><span style=\"font-weight: bold\">{</span>\n",
       "<span style=\"color: #7fbf7f; text-decoration-color: #7fbf7f\">│   </span><span style=\"color: #008000; text-decoration-color: #008000\">'activity_name'</span>: <span style=\"color: #008000; text-decoration-color: #008000\">'Vận dụng và Củng cố kiến thức'</span>,\n",
       "<span style=\"color: #7fbf7f; text-decoration-color: #7fbf7f\">│   </span><span style=\"color: #008000; text-decoration-color: #008000\">'duration_minutes'</span>: <span style=\"color: #008080; text-decoration-color: #008080; font-weight: bold\">15</span>,\n",
       "<span style=\"color: #7fbf7f; text-decoration-color: #7fbf7f\">│   </span><span style=\"color: #008000; text-decoration-color: #008000\">'teacher_actions'</span>: <span style=\"font-weight: bold\">[</span>\n",
       "<span style=\"color: #7fbf7f; text-decoration-color: #7fbf7f\">│   │   </span><span style=\"color: #008000; text-decoration-color: #008000\">'Giới thiệu nhiệm vụ và thời gian thực hiện (1-2 phút).'</span>,\n",
       "<span style=\"color: #7fbf7f; text-decoration-color: #7fbf7f\">│   │   </span><span style=\"color: #008000; text-decoration-color: #008000\">'Phát phiếu bài tập (nếu có) hoặc hướng dẫn học sinh mở sách giáo khoa đến bài tập cần làm.'</span>,\n",
       "<span style=\"color: #7fbf7f; text-decoration-color: #7fbf7f\">│   │   </span><span style=\"color: #008000; text-decoration-color: #008000\">'Quan sát, đi lại trong lớp, hỗ trợ kịp thời các học sinh gặp khó khăn (gợi ý, không giải hộ).'</span>,\n",
       "<span style=\"color: #7fbf7f; text-decoration-color: #7fbf7f\">│   │   </span><span style=\"color: #008000; text-decoration-color: #008000\">'Mời 1-2 học sinh trình bày nhanh kết quả/cách làm của bài tập cốt lõi (3-4 phút).'</span>,\n",
       "<span style=\"color: #7fbf7f; text-decoration-color: #7fbf7f\">│   │   </span><span style=\"color: #008000; text-decoration-color: #008000\">'Tổ chức cho cả lớp nhận xét, bổ sung (nếu cần) và giáo viên chốt đáp án, nhấn mạnh kiến thức trọng tâm (1-2 phút).'</span>,\n",
       "<span style=\"color: #7fbf7f; text-decoration-color: #7fbf7f\">│   │   </span><span style=\"color: #008000; text-decoration-color: #008000\">'Khen ngợi, động viên học sinh.'</span>\n",
       "<span style=\"color: #7fbf7f; text-decoration-color: #7fbf7f\">│   </span><span style=\"font-weight: bold\">]</span>,\n",
       "<span style=\"color: #7fbf7f; text-decoration-color: #7fbf7f\">│   </span><span style=\"color: #008000; text-decoration-color: #008000\">'core_component'</span>: <span style=\"color: #008000; text-decoration-color: #008000\">\"Học sinh cá nhân hoàn thành bài tập vận dụng số 1 (hoặc một bài tập tổng hợp) trong phiếu bài tập/sách giáo khoa. Bài tập này tập trung vào việc áp dụng kiến thức trọng tâm vừa học để giải quyết một tình huống/bài toán cụ thể, ví dụ: 'Tính toán [đại lượng] trong trường hợp [tình huống cụ thể]' hoặc 'Phân tích [hiện tượng] dựa trên [lý thuyết đã học]'.\"</span>,\n",
       "<span style=\"color: #7fbf7f; text-decoration-color: #7fbf7f\">│   </span><span style=\"color: #008000; text-decoration-color: #008000\">'extension_component'</span>: <span style=\"color: #008000; text-decoration-color: #008000\">\"Học sinh hoàn thành nhanh có thể làm bài tập vận dụng số 2 (nếu có) hoặc suy nghĩ về một câu hỏi mở rộng/nâng cao liên quan đến bài tập vừa làm, ví dụ: 'Nếu thay đổi [yếu tố] thì kết quả sẽ như thế nào?' hoặc 'Nêu thêm một ứng dụng thực tế của kiến thức này'.\"</span>,\n",
       "<span style=\"color: #7fbf7f; text-decoration-color: #7fbf7f\">│   </span><span style=\"color: #008000; text-decoration-color: #008000\">'solution_guide'</span>: <span style=\"color: #008000; text-decoration-color: #008000\">'Đáp án chính xác của bài tập vận dụng số 1. Các bước giải cần rõ ràng, logic. Gợi ý các lỗi sai thường gặp và cách khắc phục.'</span>,\n",
       "<span style=\"color: #7fbf7f; text-decoration-color: #7fbf7f\">│   </span><span style=\"color: #008000; text-decoration-color: #008000\">'differentiation'</span>: <span style=\"font-weight: bold\">{</span>\n",
       "<span style=\"color: #7fbf7f; text-decoration-color: #7fbf7f\">│   │   </span><span style=\"color: #008000; text-decoration-color: #008000\">'for_struggling_students'</span>: <span style=\"color: #008000; text-decoration-color: #008000\">'Giáo viên có thể cung cấp gợi ý cụ thể hơn, chia nhỏ bài tập thành các bước đơn giản, hoặc cho phép học sinh tham khảo lại ví dụ mẫu/ghi nhớ kiến thức.'</span>,\n",
       "<span style=\"color: #7fbf7f; text-decoration-color: #7fbf7f\">│   │   </span><span style=\"color: #008000; text-decoration-color: #008000\">'for_advanced_students'</span>: <span style=\"color: #008000; text-decoration-color: #008000\">'Khuyến khích học sinh giải thích sâu hơn về lý do chọn phương pháp, tìm kiếm các cách giải khác (nếu có), hoặc đặt câu hỏi phản biện cho bài làm của bạn.'</span>\n",
       "<span style=\"color: #7fbf7f; text-decoration-color: #7fbf7f\">│   </span><span style=\"font-weight: bold\">}</span>,\n",
       "<span style=\"color: #7fbf7f; text-decoration-color: #7fbf7f\">│   </span><span style=\"color: #008000; text-decoration-color: #008000\">'content_type'</span>: <span style=\"color: #008000; text-decoration-color: #008000\">'Thực hành cá nhân và Chia sẻ'</span>\n",
       "<span style=\"font-weight: bold\">}</span>\n",
       "</pre>\n"
      ],
      "text/plain": [
       "\u001b[1m{\u001b[0m\n",
       "\u001b[2;32m│   \u001b[0m\u001b[32m'activity_name'\u001b[0m: \u001b[32m'Vận dụng và Củng cố kiến thức'\u001b[0m,\n",
       "\u001b[2;32m│   \u001b[0m\u001b[32m'duration_minutes'\u001b[0m: \u001b[1;36m15\u001b[0m,\n",
       "\u001b[2;32m│   \u001b[0m\u001b[32m'teacher_actions'\u001b[0m: \u001b[1m[\u001b[0m\n",
       "\u001b[2;32m│   │   \u001b[0m\u001b[32m'Giới thiệu nhiệm vụ và thời gian thực hiện \u001b[0m\u001b[32m(\u001b[0m\u001b[32m1-2 phút\u001b[0m\u001b[32m)\u001b[0m\u001b[32m.'\u001b[0m,\n",
       "\u001b[2;32m│   │   \u001b[0m\u001b[32m'Phát phiếu bài tập \u001b[0m\u001b[32m(\u001b[0m\u001b[32mnếu có\u001b[0m\u001b[32m)\u001b[0m\u001b[32m hoặc hướng dẫn học sinh mở sách giáo khoa đến bài tập cần làm.'\u001b[0m,\n",
       "\u001b[2;32m│   │   \u001b[0m\u001b[32m'Quan sát, đi lại trong lớp, hỗ trợ kịp thời các học sinh gặp khó khăn \u001b[0m\u001b[32m(\u001b[0m\u001b[32mgợi ý, không giải hộ\u001b[0m\u001b[32m)\u001b[0m\u001b[32m.'\u001b[0m,\n",
       "\u001b[2;32m│   │   \u001b[0m\u001b[32m'Mời 1-2 học sinh trình bày nhanh kết quả/cách làm của bài tập cốt lõi \u001b[0m\u001b[32m(\u001b[0m\u001b[32m3-4 phút\u001b[0m\u001b[32m)\u001b[0m\u001b[32m.'\u001b[0m,\n",
       "\u001b[2;32m│   │   \u001b[0m\u001b[32m'Tổ chức cho cả lớp nhận xét, bổ sung \u001b[0m\u001b[32m(\u001b[0m\u001b[32mnếu cần\u001b[0m\u001b[32m)\u001b[0m\u001b[32m và giáo viên chốt đáp án, nhấn mạnh kiến thức trọng tâm \u001b[0m\u001b[32m(\u001b[0m\u001b[32m1-2 phút\u001b[0m\u001b[32m)\u001b[0m\u001b[32m.'\u001b[0m,\n",
       "\u001b[2;32m│   │   \u001b[0m\u001b[32m'Khen ngợi, động viên học sinh.'\u001b[0m\n",
       "\u001b[2;32m│   \u001b[0m\u001b[1m]\u001b[0m,\n",
       "\u001b[2;32m│   \u001b[0m\u001b[32m'core_component'\u001b[0m: \u001b[32m\"Học sinh cá nhân hoàn thành bài tập vận dụng số 1 \u001b[0m\u001b[32m(\u001b[0m\u001b[32mhoặc một bài tập tổng hợp\u001b[0m\u001b[32m)\u001b[0m\u001b[32m trong phiếu bài tập/sách giáo khoa. Bài tập này tập trung vào việc áp dụng kiến thức trọng tâm vừa học để giải quyết một tình huống/bài toán cụ thể, ví dụ: 'Tính toán \u001b[0m\u001b[32m[\u001b[0m\u001b[32mđại lượng\u001b[0m\u001b[32m]\u001b[0m\u001b[32m trong trường hợp \u001b[0m\u001b[32m[\u001b[0m\u001b[32mtình huống cụ thể\u001b[0m\u001b[32m]\u001b[0m\u001b[32m' hoặc 'Phân tích \u001b[0m\u001b[32m[\u001b[0m\u001b[32mhiện tượng\u001b[0m\u001b[32m]\u001b[0m\u001b[32m dựa trên \u001b[0m\u001b[32m[\u001b[0m\u001b[32mlý thuyết đã học\u001b[0m\u001b[32m]\u001b[0m\u001b[32m'.\"\u001b[0m,\n",
       "\u001b[2;32m│   \u001b[0m\u001b[32m'extension_component'\u001b[0m: \u001b[32m\"Học sinh hoàn thành nhanh có thể làm bài tập vận dụng số 2 \u001b[0m\u001b[32m(\u001b[0m\u001b[32mnếu có\u001b[0m\u001b[32m)\u001b[0m\u001b[32m hoặc suy nghĩ về một câu hỏi mở rộng/nâng cao liên quan đến bài tập vừa làm, ví dụ: 'Nếu thay đổi \u001b[0m\u001b[32m[\u001b[0m\u001b[32myếu tố\u001b[0m\u001b[32m]\u001b[0m\u001b[32m thì kết quả sẽ như thế nào?' hoặc 'Nêu thêm một ứng dụng thực tế của kiến thức này'.\"\u001b[0m,\n",
       "\u001b[2;32m│   \u001b[0m\u001b[32m'solution_guide'\u001b[0m: \u001b[32m'Đáp án chính xác của bài tập vận dụng số 1. Các bước giải cần rõ ràng, logic. Gợi ý các lỗi sai thường gặp và cách khắc phục.'\u001b[0m,\n",
       "\u001b[2;32m│   \u001b[0m\u001b[32m'differentiation'\u001b[0m: \u001b[1m{\u001b[0m\n",
       "\u001b[2;32m│   │   \u001b[0m\u001b[32m'for_struggling_students'\u001b[0m: \u001b[32m'Giáo viên có thể cung cấp gợi ý cụ thể hơn, chia nhỏ bài tập thành các bước đơn giản, hoặc cho phép học sinh tham khảo lại ví dụ mẫu/ghi nhớ kiến thức.'\u001b[0m,\n",
       "\u001b[2;32m│   │   \u001b[0m\u001b[32m'for_advanced_students'\u001b[0m: \u001b[32m'Khuyến khích học sinh giải thích sâu hơn về lý do chọn phương pháp, tìm kiếm các cách giải khác \u001b[0m\u001b[32m(\u001b[0m\u001b[32mnếu có\u001b[0m\u001b[32m)\u001b[0m\u001b[32m, hoặc đặt câu hỏi phản biện cho bài làm của bạn.'\u001b[0m\n",
       "\u001b[2;32m│   \u001b[0m\u001b[1m}\u001b[0m,\n",
       "\u001b[2;32m│   \u001b[0m\u001b[32m'content_type'\u001b[0m: \u001b[32m'Thực hành cá nhân và Chia sẻ'\u001b[0m\n",
       "\u001b[1m}\u001b[0m\n"
      ]
     },
     "metadata": {},
     "output_type": "display_data"
    },
    {
     "data": {
      "text/html": [
       "<pre style=\"white-space:pre;overflow-x:auto;line-height:normal;font-family:Menlo,'DejaVu Sans Mono',consolas,'Courier New',monospace\">\n",
       "<span style=\"color: #808000; text-decoration-color: #808000; font-weight: bold\">------- Hoàn thành bước: activity_designer -------</span>\n",
       "</pre>\n"
      ],
      "text/plain": [
       "\n",
       "\u001b[1;33m------- Hoàn thành bước: activity_designer -------\u001b[0m\n"
      ]
     },
     "metadata": {},
     "output_type": "display_data"
    },
    {
     "data": {
      "text/html": [
       "<pre style=\"white-space:pre;overflow-x:auto;line-height:normal;font-family:Menlo,'DejaVu Sans Mono',consolas,'Courier New',monospace\">\n",
       "<span style=\"color: #008080; text-decoration-color: #008080; font-weight: bold\">&gt;</span> `Agent: Guardian Critic` <span style=\"font-weight: bold\">(</span>v12.<span style=\"color: #008080; text-decoration-color: #008080; font-weight: bold\">0</span><span style=\"font-weight: bold\">)</span> đang bảo vệ kế hoạch<span style=\"color: #808000; text-decoration-color: #808000\">...</span>\n",
       "</pre>\n"
      ],
      "text/plain": [
       "\n",
       "\u001b[1;36m>\u001b[0m `Agent: Guardian Critic` \u001b[1m(\u001b[0mv12.\u001b[1;36m0\u001b[0m\u001b[1m)\u001b[0m đang bảo vệ kế hoạch\u001b[33m...\u001b[0m\n"
      ]
     },
     "metadata": {},
     "output_type": "display_data"
    },
    {
     "data": {
      "text/html": [
       "<pre style=\"white-space:pre;overflow-x:auto;line-height:normal;font-family:Menlo,'DejaVu Sans Mono',consolas,'Courier New',monospace\"><span style=\"color: #808000; text-decoration-color: #808000; font-weight: bold\">⚠️  GUARDIAN PHẢN BIỆN: Hoạt động này được thiết kế khá tốt về mặt sư phạm, tuy nhiên, việc thực hiện toàn bộ các </span>\n",
       "<span style=\"color: #808000; text-decoration-color: #808000; font-weight: bold\">bước trong </span><span style=\"color: #808000; text-decoration-color: #808000; font-weight: bold\">15</span><span style=\"color: #808000; text-decoration-color: #808000; font-weight: bold\"> phút là rất thách thức và khó khả thi để đảm bảo hiệu quả học tập cho đa số học sinh. Cụ thể, thời </span>\n",
       "<span style=\"color: #808000; text-decoration-color: #808000; font-weight: bold\">gian dành cho học sinh cá nhân hoàn thành bài tập vận dụng (một bài tập cốt lõi, có thể là tổng hợp) và thời gian </span>\n",
       "<span style=\"color: #808000; text-decoration-color: #808000; font-weight: bold\">cho </span><span style=\"color: #808000; text-decoration-color: #808000; font-weight: bold\">1</span><span style=\"color: #808000; text-decoration-color: #808000; font-weight: bold\">-</span><span style=\"color: #808000; text-decoration-color: #808000; font-weight: bold\">2</span><span style=\"color: #808000; text-decoration-color: #808000; font-weight: bold\"> học sinh trình bày, cùng với việc giáo viên chốt kiến thức, nhận xét, bổ sung là quá eo hẹp. Một bài tập </span>\n",
       "<span style=\"color: #808000; text-decoration-color: #808000; font-weight: bold\">vận dụng thường đòi hỏi học sinh có đủ thời gian để tư duy, thực hiện và kiểm tra lại. Với thời lượng còn lại sau </span>\n",
       "<span style=\"color: #808000; text-decoration-color: #808000; font-weight: bold\">khi trừ đi phần giới thiệu và tổng kết, học sinh sẽ có rất ít thời gian để thực sự làm bài tập một cách hiệu quả, </span>\n",
       "<span style=\"color: #808000; text-decoration-color: #808000; font-weight: bold\">và giáo viên cũng khó có thể quan sát, hỗ trợ kịp thời cho tất cả. Hãy thiết kế lại một phiên bản đơn giản hơn để </span>\n",
       "<span style=\"color: #808000; text-decoration-color: #808000; font-weight: bold\">khớp với thời gian </span><span style=\"color: #808000; text-decoration-color: #808000; font-weight: bold\">15</span><span style=\"color: #808000; text-decoration-color: #808000; font-weight: bold\"> phút đã cho.</span>\n",
       "</pre>\n"
      ],
      "text/plain": [
       "\u001b[1;33m⚠️  GUARDIAN PHẢN BIỆN: Hoạt động này được thiết kế khá tốt về mặt sư phạm, tuy nhiên, việc thực hiện toàn bộ các \u001b[0m\n",
       "\u001b[1;33mbước trong \u001b[0m\u001b[1;33m15\u001b[0m\u001b[1;33m phút là rất thách thức và khó khả thi để đảm bảo hiệu quả học tập cho đa số học sinh. Cụ thể, thời \u001b[0m\n",
       "\u001b[1;33mgian dành cho học sinh cá nhân hoàn thành bài tập vận dụng \u001b[0m\u001b[1;33m(\u001b[0m\u001b[1;33mmột bài tập cốt lõi, có thể là tổng hợp\u001b[0m\u001b[1;33m)\u001b[0m\u001b[1;33m và thời gian \u001b[0m\n",
       "\u001b[1;33mcho \u001b[0m\u001b[1;33m1\u001b[0m\u001b[1;33m-\u001b[0m\u001b[1;33m2\u001b[0m\u001b[1;33m học sinh trình bày, cùng với việc giáo viên chốt kiến thức, nhận xét, bổ sung là quá eo hẹp. Một bài tập \u001b[0m\n",
       "\u001b[1;33mvận dụng thường đòi hỏi học sinh có đủ thời gian để tư duy, thực hiện và kiểm tra lại. Với thời lượng còn lại sau \u001b[0m\n",
       "\u001b[1;33mkhi trừ đi phần giới thiệu và tổng kết, học sinh sẽ có rất ít thời gian để thực sự làm bài tập một cách hiệu quả, \u001b[0m\n",
       "\u001b[1;33mvà giáo viên cũng khó có thể quan sát, hỗ trợ kịp thời cho tất cả. Hãy thiết kế lại một phiên bản đơn giản hơn để \u001b[0m\n",
       "\u001b[1;33mkhớp với thời gian \u001b[0m\u001b[1;33m15\u001b[0m\u001b[1;33m phút đã cho.\u001b[0m\n"
      ]
     },
     "metadata": {},
     "output_type": "display_data"
    },
    {
     "data": {
      "text/html": [
       "<pre style=\"white-space:pre;overflow-x:auto;line-height:normal;font-family:Menlo,'DejaVu Sans Mono',consolas,'Courier New',monospace\">\n",
       "<span style=\"color: #808000; text-decoration-color: #808000; font-weight: bold\">------- Hoàn thành bước: content_validator -------</span>\n",
       "</pre>\n"
      ],
      "text/plain": [
       "\n",
       "\u001b[1;33m------- Hoàn thành bước: content_validator -------\u001b[0m\n"
      ]
     },
     "metadata": {},
     "output_type": "display_data"
    },
    {
     "data": {
      "text/html": [
       "<pre style=\"white-space:pre;overflow-x:auto;line-height:normal;font-family:Menlo,'DejaVu Sans Mono',consolas,'Courier New',monospace\">\n",
       "<span style=\"color: #008080; text-decoration-color: #008080; font-weight: bold\">&gt;</span> `Agent: Task Dispatcher` đang giao việc<span style=\"color: #808000; text-decoration-color: #808000\">...</span>\n",
       "</pre>\n"
      ],
      "text/plain": [
       "\n",
       "\u001b[1;36m>\u001b[0m `Agent: Task Dispatcher` đang giao việc\u001b[33m...\u001b[0m\n"
      ]
     },
     "metadata": {},
     "output_type": "display_data"
    },
    {
     "data": {
      "text/html": [
       "<pre style=\"white-space:pre;overflow-x:auto;line-height:normal;font-family:Menlo,'DejaVu Sans Mono',consolas,'Courier New',monospace\">\n",
       "<span style=\"color: #008080; text-decoration-color: #008080; font-weight: bold\">&gt;</span> --- 🚚 `Dispatcher`: Giao nhiệm vụ cho `assessment_creator`.\n",
       "</pre>\n"
      ],
      "text/plain": [
       "\n",
       "\u001b[1;36m>\u001b[0m --- 🚚 `Dispatcher`: Giao nhiệm vụ cho `assessment_creator`.\n"
      ]
     },
     "metadata": {},
     "output_type": "display_data"
    },
    {
     "data": {
      "text/html": [
       "<pre style=\"white-space:pre;overflow-x:auto;line-height:normal;font-family:Menlo,'DejaVu Sans Mono',consolas,'Courier New',monospace\">\n",
       "<span style=\"color: #808000; text-decoration-color: #808000; font-weight: bold\">------- Hoàn thành bước: task_dispatcher -------</span>\n",
       "</pre>\n"
      ],
      "text/plain": [
       "\n",
       "\u001b[1;33m------- Hoàn thành bước: task_dispatcher -------\u001b[0m\n"
      ]
     },
     "metadata": {},
     "output_type": "display_data"
    },
    {
     "data": {
      "text/html": [
       "<pre style=\"white-space:pre;overflow-x:auto;line-height:normal;font-family:Menlo,'DejaVu Sans Mono',consolas,'Courier New',monospace\">\n",
       "<span style=\"color: #008080; text-decoration-color: #008080; font-weight: bold\">&gt;</span> `Agent: Assessment Creator` <span style=\"font-weight: bold\">(</span>v12.<span style=\"color: #008080; text-decoration-color: #008080; font-weight: bold\">0</span><span style=\"font-weight: bold\">)</span> đang tạo nội dung theo kỷ luật<span style=\"color: #808000; text-decoration-color: #808000\">...</span>\n",
       "</pre>\n"
      ],
      "text/plain": [
       "\n",
       "\u001b[1;36m>\u001b[0m `Agent: Assessment Creator` \u001b[1m(\u001b[0mv12.\u001b[1;36m0\u001b[0m\u001b[1m)\u001b[0m đang tạo nội dung theo kỷ luật\u001b[33m...\u001b[0m\n"
      ]
     },
     "metadata": {},
     "output_type": "display_data"
    },
    {
     "data": {
      "text/html": [
       "<pre style=\"white-space:pre;overflow-x:auto;line-height:normal;font-family:Menlo,'DejaVu Sans Mono',consolas,'Courier New',monospace\"><span style=\"color: #008000; text-decoration-color: #008000; font-weight: bold\">✔️ Nội dung do Assessment Creator tạo ra:</span>\n",
       "</pre>\n"
      ],
      "text/plain": [
       "\u001b[1;32m✔️ Nội dung do Assessment Creator tạo ra:\u001b[0m\n"
      ]
     },
     "metadata": {},
     "output_type": "display_data"
    },
    {
     "data": {
      "text/html": [
       "<pre style=\"white-space:pre;overflow-x:auto;line-height:normal;font-family:Menlo,'DejaVu Sans Mono',consolas,'Courier New',monospace\"><span style=\"font-weight: bold\">{</span>\n",
       "<span style=\"color: #7fbf7f; text-decoration-color: #7fbf7f\">│   </span><span style=\"color: #008000; text-decoration-color: #008000\">'activity_name'</span>: <span style=\"color: #008000; text-decoration-color: #008000\">'Vận dụng và Củng cố kiến thức'</span>,\n",
       "<span style=\"color: #7fbf7f; text-decoration-color: #7fbf7f\">│   </span><span style=\"color: #008000; text-decoration-color: #008000\">'duration_minutes'</span>: <span style=\"color: #008080; text-decoration-color: #008080; font-weight: bold\">15</span>,\n",
       "<span style=\"color: #7fbf7f; text-decoration-color: #7fbf7f\">│   </span><span style=\"color: #008000; text-decoration-color: #008000\">'teacher_actions'</span>: <span style=\"font-weight: bold\">[</span>\n",
       "<span style=\"color: #7fbf7f; text-decoration-color: #7fbf7f\">│   │   </span><span style=\"color: #008000; text-decoration-color: #008000\">'Phút 1-2: Giáo viên giới thiệu hoạt động, chiếu đề bài lên bảng hoặc phát phiếu bài tập. Nhấn mạnh học sinh cần hoàn thành bài tập cốt lõi trong thời gian quy định.'</span>,\n",
       "<span style=\"color: #7fbf7f; text-decoration-color: #7fbf7f\">│   │   </span><span style=\"color: #008000; text-decoration-color: #008000\">'Phút 3-10: Học sinh làm bài cá nhân (8 phút). Giáo viên quan sát, đi lại trong lớp để nắm bắt tình hình, hỗ trợ nhanh các em gặp khó khăn bằng gợi ý hoặc câu hỏi dẫn dắt.'</span>,\n",
       "<span style=\"color: #7fbf7f; text-decoration-color: #7fbf7f\">│   │   </span><span style=\"color: #008000; text-decoration-color: #008000\">'Phút 11-13: Giáo viên mời 1-2 học sinh trình bày nhanh đáp án và cách làm của mình. Giáo viên nhận xét, bổ sung, chốt đáp án đúng và phương pháp giải hiệu quả nhất.'</span>,\n",
       "<span style=\"color: #7fbf7f; text-decoration-color: #7fbf7f\">│   │   </span><span style=\"color: #008000; text-decoration-color: #008000\">'Phút 14-15: Giáo viên tổng kết kiến thức trọng tâm đã được vận dụng, nhấn mạnh ý nghĩa thực tiễn của bài toán và giao nhiệm vụ về nhà (nếu có).'</span>\n",
       "<span style=\"color: #7fbf7f; text-decoration-color: #7fbf7f\">│   </span><span style=\"font-weight: bold\">]</span>,\n",
       "<span style=\"color: #7fbf7f; text-decoration-color: #7fbf7f\">│   </span><span style=\"color: #008000; text-decoration-color: #008000\">'core_component'</span>: <span style=\"color: #008000; text-decoration-color: #008000\">'Một cửa hàng bán áo phông với giá 120.000 VNĐ/chiếc. Trong một ngày, cửa hàng đã bán được một số chiếc áo và thu về tổng cộng 3.600.000 VNĐ. Hỏi cửa hàng đã bán được bao nhiêu chiếc áo phông?'</span>,\n",
       "<span style=\"color: #7fbf7f; text-decoration-color: #7fbf7f\">│   </span><span style=\"color: #008000; text-decoration-color: #008000\">'extension_component'</span>: <span style=\"color: #008000; text-decoration-color: #008000\">'Nếu cửa hàng muốn đạt doanh thu 5.000.000 VNĐ trong ngày hôm sau và quyết định giảm giá mỗi chiếc áo 10%, thì cửa hàng cần bán được bao nhiêu chiếc áo?'</span>,\n",
       "<span style=\"color: #7fbf7f; text-decoration-color: #7fbf7f\">│   </span><span style=\"color: #008000; text-decoration-color: #008000\">'answer'</span>: <span style=\"color: #008000; text-decoration-color: #008000\">'Cửa hàng đã bán được 30 chiếc áo phông.'</span>,\n",
       "<span style=\"color: #7fbf7f; text-decoration-color: #7fbf7f\">│   </span><span style=\"color: #008000; text-decoration-color: #008000\">'solution_guide'</span>: <span style=\"color: #008000; text-decoration-color: #008000\">'1. Xác định tổng số tiền thu được: 3.600.000 VNĐ.2. Xác định giá mỗi chiếc áo: 120.000 VNĐ.3. Để tìm số chiếc áo bán được, ta lấy tổng số tiền thu được chia cho giá của một chiếc áo.4. Số chiếc áo bán được = 3.600.000 VNĐ / 120.000 VNĐ/chiếc = 30 chiếc áo.'</span>,\n",
       "<span style=\"color: #7fbf7f; text-decoration-color: #7fbf7f\">│   </span><span style=\"color: #008000; text-decoration-color: #008000\">'differentiation'</span>: <span style=\"font-weight: bold\">{</span>\n",
       "<span style=\"color: #7fbf7f; text-decoration-color: #7fbf7f\">│   │   </span><span style=\"color: #008000; text-decoration-color: #008000\">'for_struggling_students'</span>: <span style=\"color: #008000; text-decoration-color: #008000\">\"Giáo viên có thể gợi ý công thức hoặc phép tính cần sử dụng (ví dụ: 'Để tìm số lượng, em cần lấy tổng số tiền chia cho giá của một sản phẩm'). Cho phép học sinh sử dụng máy tính cầm tay nếu cần thiết. Có thể cung cấp một ví dụ tương tự đơn giản hơn để học sinh tham khảo trước khi làm bài chính.\"</span>,\n",
       "<span style=\"color: #7fbf7f; text-decoration-color: #7fbf7f\">│   │   </span><span style=\"color: #008000; text-decoration-color: #008000\">'for_advanced_students'</span>: <span style=\"color: #008000; text-decoration-color: #008000\">'Khuyến khích học sinh giải bài toán bằng nhiều cách khác nhau (nếu có). Yêu cầu học sinh đặt thêm một câu hỏi phụ liên quan đến bài toán và tự giải. Nếu hoàn thành sớm phần cốt lõi, học sinh có thể làm phần mở rộng.'</span>\n",
       "<span style=\"color: #7fbf7f; text-decoration-color: #7fbf7f\">│   </span><span style=\"font-weight: bold\">}</span>,\n",
       "<span style=\"color: #7fbf7f; text-decoration-color: #7fbf7f\">│   </span><span style=\"color: #008000; text-decoration-color: #008000\">'content_type'</span>: <span style=\"color: #008000; text-decoration-color: #008000\">'Tự luận ngắn'</span>\n",
       "<span style=\"font-weight: bold\">}</span>\n",
       "</pre>\n"
      ],
      "text/plain": [
       "\u001b[1m{\u001b[0m\n",
       "\u001b[2;32m│   \u001b[0m\u001b[32m'activity_name'\u001b[0m: \u001b[32m'Vận dụng và Củng cố kiến thức'\u001b[0m,\n",
       "\u001b[2;32m│   \u001b[0m\u001b[32m'duration_minutes'\u001b[0m: \u001b[1;36m15\u001b[0m,\n",
       "\u001b[2;32m│   \u001b[0m\u001b[32m'teacher_actions'\u001b[0m: \u001b[1m[\u001b[0m\n",
       "\u001b[2;32m│   │   \u001b[0m\u001b[32m'Phút 1-2: Giáo viên giới thiệu hoạt động, chiếu đề bài lên bảng hoặc phát phiếu bài tập. Nhấn mạnh học sinh cần hoàn thành bài tập cốt lõi trong thời gian quy định.'\u001b[0m,\n",
       "\u001b[2;32m│   │   \u001b[0m\u001b[32m'Phút 3-10: Học sinh làm bài cá nhân \u001b[0m\u001b[32m(\u001b[0m\u001b[32m8 phút\u001b[0m\u001b[32m)\u001b[0m\u001b[32m. Giáo viên quan sát, đi lại trong lớp để nắm bắt tình hình, hỗ trợ nhanh các em gặp khó khăn bằng gợi ý hoặc câu hỏi dẫn dắt.'\u001b[0m,\n",
       "\u001b[2;32m│   │   \u001b[0m\u001b[32m'Phút 11-13: Giáo viên mời 1-2 học sinh trình bày nhanh đáp án và cách làm của mình. Giáo viên nhận xét, bổ sung, chốt đáp án đúng và phương pháp giải hiệu quả nhất.'\u001b[0m,\n",
       "\u001b[2;32m│   │   \u001b[0m\u001b[32m'Phút 14-15: Giáo viên tổng kết kiến thức trọng tâm đã được vận dụng, nhấn mạnh ý nghĩa thực tiễn của bài toán và giao nhiệm vụ về nhà \u001b[0m\u001b[32m(\u001b[0m\u001b[32mnếu có\u001b[0m\u001b[32m)\u001b[0m\u001b[32m.'\u001b[0m\n",
       "\u001b[2;32m│   \u001b[0m\u001b[1m]\u001b[0m,\n",
       "\u001b[2;32m│   \u001b[0m\u001b[32m'core_component'\u001b[0m: \u001b[32m'Một cửa hàng bán áo phông với giá 120.000 VNĐ/chiếc. Trong một ngày, cửa hàng đã bán được một số chiếc áo và thu về tổng cộng 3.600.000 VNĐ. Hỏi cửa hàng đã bán được bao nhiêu chiếc áo phông?'\u001b[0m,\n",
       "\u001b[2;32m│   \u001b[0m\u001b[32m'extension_component'\u001b[0m: \u001b[32m'Nếu cửa hàng muốn đạt doanh thu 5.000.000 VNĐ trong ngày hôm sau và quyết định giảm giá mỗi chiếc áo 10%, thì cửa hàng cần bán được bao nhiêu chiếc áo?'\u001b[0m,\n",
       "\u001b[2;32m│   \u001b[0m\u001b[32m'answer'\u001b[0m: \u001b[32m'Cửa hàng đã bán được 30 chiếc áo phông.'\u001b[0m,\n",
       "\u001b[2;32m│   \u001b[0m\u001b[32m'solution_guide'\u001b[0m: \u001b[32m'1. Xác định tổng số tiền thu được: 3.600.000 VNĐ.2. Xác định giá mỗi chiếc áo: 120.000 VNĐ.3. Để tìm số chiếc áo bán được, ta lấy tổng số tiền thu được chia cho giá của một chiếc áo.4. Số chiếc áo bán được = 3.600.000 VNĐ / 120.000 VNĐ/chiếc = 30 chiếc áo.'\u001b[0m,\n",
       "\u001b[2;32m│   \u001b[0m\u001b[32m'differentiation'\u001b[0m: \u001b[1m{\u001b[0m\n",
       "\u001b[2;32m│   │   \u001b[0m\u001b[32m'for_struggling_students'\u001b[0m: \u001b[32m\"Giáo viên có thể gợi ý công thức hoặc phép tính cần sử dụng \u001b[0m\u001b[32m(\u001b[0m\u001b[32mví dụ: 'Để tìm số lượng, em cần lấy tổng số tiền chia cho giá của một sản phẩm'\u001b[0m\u001b[32m)\u001b[0m\u001b[32m. Cho phép học sinh sử dụng máy tính cầm tay nếu cần thiết. Có thể cung cấp một ví dụ tương tự đơn giản hơn để học sinh tham khảo trước khi làm bài chính.\"\u001b[0m,\n",
       "\u001b[2;32m│   │   \u001b[0m\u001b[32m'for_advanced_students'\u001b[0m: \u001b[32m'Khuyến khích học sinh giải bài toán bằng nhiều cách khác nhau \u001b[0m\u001b[32m(\u001b[0m\u001b[32mnếu có\u001b[0m\u001b[32m)\u001b[0m\u001b[32m. Yêu cầu học sinh đặt thêm một câu hỏi phụ liên quan đến bài toán và tự giải. Nếu hoàn thành sớm phần cốt lõi, học sinh có thể làm phần mở rộng.'\u001b[0m\n",
       "\u001b[2;32m│   \u001b[0m\u001b[1m}\u001b[0m,\n",
       "\u001b[2;32m│   \u001b[0m\u001b[32m'content_type'\u001b[0m: \u001b[32m'Tự luận ngắn'\u001b[0m\n",
       "\u001b[1m}\u001b[0m\n"
      ]
     },
     "metadata": {},
     "output_type": "display_data"
    },
    {
     "data": {
      "text/html": [
       "<pre style=\"white-space:pre;overflow-x:auto;line-height:normal;font-family:Menlo,'DejaVu Sans Mono',consolas,'Courier New',monospace\">\n",
       "<span style=\"color: #808000; text-decoration-color: #808000; font-weight: bold\">------- Hoàn thành bước: assessment_creator -------</span>\n",
       "</pre>\n"
      ],
      "text/plain": [
       "\n",
       "\u001b[1;33m------- Hoàn thành bước: assessment_creator -------\u001b[0m\n"
      ]
     },
     "metadata": {},
     "output_type": "display_data"
    },
    {
     "data": {
      "text/html": [
       "<pre style=\"white-space:pre;overflow-x:auto;line-height:normal;font-family:Menlo,'DejaVu Sans Mono',consolas,'Courier New',monospace\">\n",
       "<span style=\"color: #008080; text-decoration-color: #008080; font-weight: bold\">&gt;</span> `Agent: Guardian Critic` <span style=\"font-weight: bold\">(</span>v12.<span style=\"color: #008080; text-decoration-color: #008080; font-weight: bold\">0</span><span style=\"font-weight: bold\">)</span> đang bảo vệ kế hoạch<span style=\"color: #808000; text-decoration-color: #808000\">...</span>\n",
       "</pre>\n"
      ],
      "text/plain": [
       "\n",
       "\u001b[1;36m>\u001b[0m `Agent: Guardian Critic` \u001b[1m(\u001b[0mv12.\u001b[1;36m0\u001b[0m\u001b[1m)\u001b[0m đang bảo vệ kế hoạch\u001b[33m...\u001b[0m\n"
      ]
     },
     "metadata": {},
     "output_type": "display_data"
    },
    {
     "data": {
      "text/html": [
       "<pre style=\"white-space:pre;overflow-x:auto;line-height:normal;font-family:Menlo,'DejaVu Sans Mono',consolas,'Courier New',monospace\">\n",
       "<span style=\"color: #008080; text-decoration-color: #008080; font-weight: bold\">&gt;</span> ✔️ GUARDIAN: Nội dung tuân thủ kế hoạch!\n",
       "</pre>\n"
      ],
      "text/plain": [
       "\n",
       "\u001b[1;36m>\u001b[0m ✔️ GUARDIAN: Nội dung tuân thủ kế hoạch!\n"
      ]
     },
     "metadata": {},
     "output_type": "display_data"
    },
    {
     "data": {
      "text/html": [
       "<pre style=\"white-space:pre;overflow-x:auto;line-height:normal;font-family:Menlo,'DejaVu Sans Mono',consolas,'Courier New',monospace\">\n",
       "<span style=\"color: #808000; text-decoration-color: #808000; font-weight: bold\">------- Hoàn thành bước: content_validator -------</span>\n",
       "</pre>\n"
      ],
      "text/plain": [
       "\n",
       "\u001b[1;33m------- Hoàn thành bước: content_validator -------\u001b[0m\n"
      ]
     },
     "metadata": {},
     "output_type": "display_data"
    },
    {
     "data": {
      "text/html": [
       "<pre style=\"white-space:pre;overflow-x:auto;line-height:normal;font-family:Menlo,'DejaVu Sans Mono',consolas,'Courier New',monospace\">\n",
       "<span style=\"color: #008080; text-decoration-color: #008080; font-weight: bold\">&gt;</span> `Commiter`: Đang ghi nhận nội dung đã được xác thực<span style=\"color: #808000; text-decoration-color: #808000\">...</span>\n",
       "</pre>\n"
      ],
      "text/plain": [
       "\n",
       "\u001b[1;36m>\u001b[0m `Commiter`: Đang ghi nhận nội dung đã được xác thực\u001b[33m...\u001b[0m\n"
      ]
     },
     "metadata": {},
     "output_type": "display_data"
    },
    {
     "data": {
      "text/html": [
       "<pre style=\"white-space:pre;overflow-x:auto;line-height:normal;font-family:Menlo,'DejaVu Sans Mono',consolas,'Courier New',monospace\">\n",
       "<span style=\"color: #808000; text-decoration-color: #808000; font-weight: bold\">------- Hoàn thành bước: commit_validated_content -------</span>\n",
       "</pre>\n"
      ],
      "text/plain": [
       "\n",
       "\u001b[1;33m------- Hoàn thành bước: commit_validated_content -------\u001b[0m\n"
      ]
     },
     "metadata": {},
     "output_type": "display_data"
    },
    {
     "data": {
      "text/html": [
       "<pre style=\"white-space:pre;overflow-x:auto;line-height:normal;font-family:Menlo,'DejaVu Sans Mono',consolas,'Courier New',monospace\">\n",
       "<span style=\"color: #808000; text-decoration-color: #808000; font-weight: bold\">------- Hoàn thành bước: mark_task_complete -------</span>\n",
       "</pre>\n"
      ],
      "text/plain": [
       "\n",
       "\u001b[1;33m------- Hoàn thành bước: mark_task_complete -------\u001b[0m\n"
      ]
     },
     "metadata": {},
     "output_type": "display_data"
    },
    {
     "data": {
      "text/html": [
       "<pre style=\"white-space:pre;overflow-x:auto;line-height:normal;font-family:Menlo,'DejaVu Sans Mono',consolas,'Courier New',monospace\">\n",
       "<span style=\"color: #808000; text-decoration-color: #808000; font-weight: bold\">------- Hoàn thành bước: delay_node -------</span>\n",
       "</pre>\n"
      ],
      "text/plain": [
       "\n",
       "\u001b[1;33m------- Hoàn thành bước: delay_node -------\u001b[0m\n"
      ]
     },
     "metadata": {},
     "output_type": "display_data"
    },
    {
     "data": {
      "text/html": [
       "<pre style=\"white-space:pre;overflow-x:auto;line-height:normal;font-family:Menlo,'DejaVu Sans Mono',consolas,'Courier New',monospace\">\n",
       "<span style=\"color: #008080; text-decoration-color: #008080; font-weight: bold\">&gt;</span> `Router`: Đang kiểm tra nhiệm vụ<span style=\"color: #808000; text-decoration-color: #808000\">...</span>\n",
       "</pre>\n"
      ],
      "text/plain": [
       "\n",
       "\u001b[1;36m>\u001b[0m `Router`: Đang kiểm tra nhiệm vụ\u001b[33m...\u001b[0m\n"
      ]
     },
     "metadata": {},
     "output_type": "display_data"
    },
    {
     "data": {
      "text/html": [
       "<pre style=\"white-space:pre;overflow-x:auto;line-height:normal;font-family:Menlo,'DejaVu Sans Mono',consolas,'Courier New',monospace\">\n",
       "<span style=\"color: #008080; text-decoration-color: #008080; font-weight: bold\">&gt;</span> Nhiệm vụ tiếp theo: <span style=\"color: #008000; text-decoration-color: #008000\">'Tổng kết bài học và Giao bài tập về nhà'</span> <span style=\"font-weight: bold\">(</span>ID: <span style=\"color: #008080; text-decoration-color: #008080; font-weight: bold\">4</span><span style=\"font-weight: bold\">)</span>\n",
       "</pre>\n"
      ],
      "text/plain": [
       "\n",
       "\u001b[1;36m>\u001b[0m Nhiệm vụ tiếp theo: \u001b[32m'Tổng kết bài học và Giao bài tập về nhà'\u001b[0m \u001b[1m(\u001b[0mID: \u001b[1;36m4\u001b[0m\u001b[1m)\u001b[0m\n"
      ]
     },
     "metadata": {},
     "output_type": "display_data"
    },
    {
     "data": {
      "text/html": [
       "<pre style=\"white-space:pre;overflow-x:auto;line-height:normal;font-family:Menlo,'DejaVu Sans Mono',consolas,'Courier New',monospace\">\n",
       "<span style=\"color: #808000; text-decoration-color: #808000; font-weight: bold\">------- Hoàn thành bước: task_router -------</span>\n",
       "</pre>\n"
      ],
      "text/plain": [
       "\n",
       "\u001b[1;33m------- Hoàn thành bước: task_router -------\u001b[0m\n"
      ]
     },
     "metadata": {},
     "output_type": "display_data"
    },
    {
     "data": {
      "text/html": [
       "<pre style=\"white-space:pre;overflow-x:auto;line-height:normal;font-family:Menlo,'DejaVu Sans Mono',consolas,'Courier New',monospace\">\n",
       "<span style=\"color: #008080; text-decoration-color: #008080; font-weight: bold\">&gt;</span> `Agent: Task Dispatcher` đang giao việc<span style=\"color: #808000; text-decoration-color: #808000\">...</span>\n",
       "</pre>\n"
      ],
      "text/plain": [
       "\n",
       "\u001b[1;36m>\u001b[0m `Agent: Task Dispatcher` đang giao việc\u001b[33m...\u001b[0m\n"
      ]
     },
     "metadata": {},
     "output_type": "display_data"
    },
    {
     "data": {
      "text/html": [
       "<pre style=\"white-space:pre;overflow-x:auto;line-height:normal;font-family:Menlo,'DejaVu Sans Mono',consolas,'Courier New',monospace\">\n",
       "<span style=\"color: #008080; text-decoration-color: #008080; font-weight: bold\">&gt;</span> --- 🚚 `Dispatcher`: Giao nhiệm vụ cho `assessment_creator`.\n",
       "</pre>\n"
      ],
      "text/plain": [
       "\n",
       "\u001b[1;36m>\u001b[0m --- 🚚 `Dispatcher`: Giao nhiệm vụ cho `assessment_creator`.\n"
      ]
     },
     "metadata": {},
     "output_type": "display_data"
    },
    {
     "data": {
      "text/html": [
       "<pre style=\"white-space:pre;overflow-x:auto;line-height:normal;font-family:Menlo,'DejaVu Sans Mono',consolas,'Courier New',monospace\">\n",
       "<span style=\"color: #808000; text-decoration-color: #808000; font-weight: bold\">------- Hoàn thành bước: task_dispatcher -------</span>\n",
       "</pre>\n"
      ],
      "text/plain": [
       "\n",
       "\u001b[1;33m------- Hoàn thành bước: task_dispatcher -------\u001b[0m\n"
      ]
     },
     "metadata": {},
     "output_type": "display_data"
    },
    {
     "data": {
      "text/html": [
       "<pre style=\"white-space:pre;overflow-x:auto;line-height:normal;font-family:Menlo,'DejaVu Sans Mono',consolas,'Courier New',monospace\">\n",
       "<span style=\"color: #008080; text-decoration-color: #008080; font-weight: bold\">&gt;</span> `Agent: Assessment Creator` <span style=\"font-weight: bold\">(</span>v12.<span style=\"color: #008080; text-decoration-color: #008080; font-weight: bold\">0</span><span style=\"font-weight: bold\">)</span> đang tạo nội dung theo kỷ luật<span style=\"color: #808000; text-decoration-color: #808000\">...</span>\n",
       "</pre>\n"
      ],
      "text/plain": [
       "\n",
       "\u001b[1;36m>\u001b[0m `Agent: Assessment Creator` \u001b[1m(\u001b[0mv12.\u001b[1;36m0\u001b[0m\u001b[1m)\u001b[0m đang tạo nội dung theo kỷ luật\u001b[33m...\u001b[0m\n"
      ]
     },
     "metadata": {},
     "output_type": "display_data"
    },
    {
     "data": {
      "text/html": [
       "<pre style=\"white-space:pre;overflow-x:auto;line-height:normal;font-family:Menlo,'DejaVu Sans Mono',consolas,'Courier New',monospace\"><span style=\"color: #008000; text-decoration-color: #008000; font-weight: bold\">✔️ Nội dung do Assessment Creator tạo ra:</span>\n",
       "</pre>\n"
      ],
      "text/plain": [
       "\u001b[1;32m✔️ Nội dung do Assessment Creator tạo ra:\u001b[0m\n"
      ]
     },
     "metadata": {},
     "output_type": "display_data"
    },
    {
     "data": {
      "text/html": [
       "<pre style=\"white-space:pre;overflow-x:auto;line-height:normal;font-family:Menlo,'DejaVu Sans Mono',consolas,'Courier New',monospace\"><span style=\"font-weight: bold\">{</span>\n",
       "<span style=\"color: #7fbf7f; text-decoration-color: #7fbf7f\">│   </span><span style=\"color: #008000; text-decoration-color: #008000\">'activity_name'</span>: <span style=\"color: #008000; text-decoration-color: #008000\">'Tổng kết bài học và Giao bài tập về nhà'</span>,\n",
       "<span style=\"color: #7fbf7f; text-decoration-color: #7fbf7f\">│   </span><span style=\"color: #008000; text-decoration-color: #008000\">'duration_minutes'</span>: <span style=\"color: #008080; text-decoration-color: #008080; font-weight: bold\">5</span>,\n",
       "<span style=\"color: #7fbf7f; text-decoration-color: #7fbf7f\">│   </span><span style=\"color: #008000; text-decoration-color: #008000\">'teacher_actions'</span>: <span style=\"font-weight: bold\">[</span>\n",
       "<span style=\"color: #7fbf7f; text-decoration-color: #7fbf7f\">│   │   </span><span style=\"color: #008000; text-decoration-color: #008000\">'Yêu cầu học sinh tổng hợp nhanh 1-2 kiến thức trọng tâm của bài học.'</span>,\n",
       "<span style=\"color: #7fbf7f; text-decoration-color: #7fbf7f\">│   │   </span><span style=\"color: #008000; text-decoration-color: #008000\">'Giao bài tập về nhà (ghi rõ trang/bài).'</span>,\n",
       "<span style=\"color: #7fbf7f; text-decoration-color: #7fbf7f\">│   │   </span><span style=\"color: #008000; text-decoration-color: #008000\">'Nhắc nhở chuẩn bị bài mới cho buổi học tiếp theo.'</span>,\n",
       "<span style=\"color: #7fbf7f; text-decoration-color: #7fbf7f\">│   │   </span><span style=\"color: #008000; text-decoration-color: #008000\">'Giải đáp nhanh 1-2 thắc mắc cuối giờ (nếu có).'</span>\n",
       "<span style=\"color: #7fbf7f; text-decoration-color: #7fbf7f\">│   </span><span style=\"font-weight: bold\">]</span>,\n",
       "<span style=\"color: #7fbf7f; text-decoration-color: #7fbf7f\">│   </span><span style=\"color: #008000; text-decoration-color: #008000\">'core_component'</span>: <span style=\"color: #008000; text-decoration-color: #008000\">'Mỗi học sinh hãy ghi lại 2 điểm kiến thức quan trọng nhất mà em tâm đắc hoặc thấy khó nhất trong bài học hôm nay. Sau đó, ghi chép đầy đủ bài tập về nhà được giao.'</span>,\n",
       "<span style=\"color: #7fbf7f; text-decoration-color: #7fbf7f\">│   </span><span style=\"color: #008000; text-decoration-color: #008000\">'extension_component'</span>: <span style=\"color: #008000; text-decoration-color: #008000\">'Nếu còn thời gian, hãy suy nghĩ và chia sẻ nhanh một ứng dụng thực tế của kiến thức vừa học trong cuộc sống hàng ngày.'</span>,\n",
       "<span style=\"color: #7fbf7f; text-decoration-color: #7fbf7f\">│   </span><span style=\"color: #008000; text-decoration-color: #008000\">'answer'</span>: <span style=\"color: #008000; text-decoration-color: #008000\">'Học sinh nêu được 2 điểm kiến thức trọng tâm (ví dụ: khái niệm, công thức, quy trình chính) và ghi chép đầy đủ bài tập về nhà (ví dụ: Bài 1, 2 trang 50 SGK).'</span>,\n",
       "<span style=\"color: #7fbf7f; text-decoration-color: #7fbf7f\">│   </span><span style=\"color: #008000; text-decoration-color: #008000\">'solution_guide'</span>: <span style=\"color: #008000; text-decoration-color: #008000\">'Giáo viên lắng nghe nhanh các ý kiến tổng kết của học sinh (nếu có thời gian cho 1-2 em chia sẻ), kiểm tra việc ghi chép bài tập về nhà của một vài học sinh ngẫu nhiên để đảm bảo các em nắm được nhiệm vụ.'</span>,\n",
       "<span style=\"color: #7fbf7f; text-decoration-color: #7fbf7f\">│   </span><span style=\"color: #008000; text-decoration-color: #008000\">'differentiation'</span>: <span style=\"font-weight: bold\">{</span>\n",
       "<span style=\"color: #7fbf7f; text-decoration-color: #7fbf7f\">│   │   </span><span style=\"color: #008000; text-decoration-color: #008000\">'for_struggling_students'</span>: <span style=\"color: #008000; text-decoration-color: #008000\">'Giáo viên có thể gợi ý các từ khóa chính hoặc chỉ định một phần cụ thể trong sách/bài giảng để học sinh dễ dàng tìm ra điểm quan trọng. Cho phép học sinh chỉ cần nêu 1 điểm.'</span>,\n",
       "<span style=\"color: #7fbf7f; text-decoration-color: #7fbf7f\">│   │   </span><span style=\"color: #008000; text-decoration-color: #008000\">'for_advanced_students'</span>: <span style=\"color: #008000; text-decoration-color: #008000\">'Yêu cầu học sinh giải thích ngắn gọn tại sao điểm kiến thức đó lại quan trọng hoặc liên hệ nó với một kiến thức đã học trước đó.'</span>\n",
       "<span style=\"color: #7fbf7f; text-decoration-color: #7fbf7f\">│   </span><span style=\"font-weight: bold\">}</span>,\n",
       "<span style=\"color: #7fbf7f; text-decoration-color: #7fbf7f\">│   </span><span style=\"color: #008000; text-decoration-color: #008000\">'content_type'</span>: <span style=\"color: #008000; text-decoration-color: #008000\">'Tổng hợp kiến thức'</span>\n",
       "<span style=\"font-weight: bold\">}</span>\n",
       "</pre>\n"
      ],
      "text/plain": [
       "\u001b[1m{\u001b[0m\n",
       "\u001b[2;32m│   \u001b[0m\u001b[32m'activity_name'\u001b[0m: \u001b[32m'Tổng kết bài học và Giao bài tập về nhà'\u001b[0m,\n",
       "\u001b[2;32m│   \u001b[0m\u001b[32m'duration_minutes'\u001b[0m: \u001b[1;36m5\u001b[0m,\n",
       "\u001b[2;32m│   \u001b[0m\u001b[32m'teacher_actions'\u001b[0m: \u001b[1m[\u001b[0m\n",
       "\u001b[2;32m│   │   \u001b[0m\u001b[32m'Yêu cầu học sinh tổng hợp nhanh 1-2 kiến thức trọng tâm của bài học.'\u001b[0m,\n",
       "\u001b[2;32m│   │   \u001b[0m\u001b[32m'Giao bài tập về nhà \u001b[0m\u001b[32m(\u001b[0m\u001b[32mghi rõ trang/bài\u001b[0m\u001b[32m)\u001b[0m\u001b[32m.'\u001b[0m,\n",
       "\u001b[2;32m│   │   \u001b[0m\u001b[32m'Nhắc nhở chuẩn bị bài mới cho buổi học tiếp theo.'\u001b[0m,\n",
       "\u001b[2;32m│   │   \u001b[0m\u001b[32m'Giải đáp nhanh 1-2 thắc mắc cuối giờ \u001b[0m\u001b[32m(\u001b[0m\u001b[32mnếu có\u001b[0m\u001b[32m)\u001b[0m\u001b[32m.'\u001b[0m\n",
       "\u001b[2;32m│   \u001b[0m\u001b[1m]\u001b[0m,\n",
       "\u001b[2;32m│   \u001b[0m\u001b[32m'core_component'\u001b[0m: \u001b[32m'Mỗi học sinh hãy ghi lại 2 điểm kiến thức quan trọng nhất mà em tâm đắc hoặc thấy khó nhất trong bài học hôm nay. Sau đó, ghi chép đầy đủ bài tập về nhà được giao.'\u001b[0m,\n",
       "\u001b[2;32m│   \u001b[0m\u001b[32m'extension_component'\u001b[0m: \u001b[32m'Nếu còn thời gian, hãy suy nghĩ và chia sẻ nhanh một ứng dụng thực tế của kiến thức vừa học trong cuộc sống hàng ngày.'\u001b[0m,\n",
       "\u001b[2;32m│   \u001b[0m\u001b[32m'answer'\u001b[0m: \u001b[32m'Học sinh nêu được 2 điểm kiến thức trọng tâm \u001b[0m\u001b[32m(\u001b[0m\u001b[32mví dụ: khái niệm, công thức, quy trình chính\u001b[0m\u001b[32m)\u001b[0m\u001b[32m và ghi chép đầy đủ bài tập về nhà \u001b[0m\u001b[32m(\u001b[0m\u001b[32mví dụ: Bài 1, 2 trang 50 SGK\u001b[0m\u001b[32m)\u001b[0m\u001b[32m.'\u001b[0m,\n",
       "\u001b[2;32m│   \u001b[0m\u001b[32m'solution_guide'\u001b[0m: \u001b[32m'Giáo viên lắng nghe nhanh các ý kiến tổng kết của học sinh \u001b[0m\u001b[32m(\u001b[0m\u001b[32mnếu có thời gian cho 1-2 em chia sẻ\u001b[0m\u001b[32m)\u001b[0m\u001b[32m, kiểm tra việc ghi chép bài tập về nhà của một vài học sinh ngẫu nhiên để đảm bảo các em nắm được nhiệm vụ.'\u001b[0m,\n",
       "\u001b[2;32m│   \u001b[0m\u001b[32m'differentiation'\u001b[0m: \u001b[1m{\u001b[0m\n",
       "\u001b[2;32m│   │   \u001b[0m\u001b[32m'for_struggling_students'\u001b[0m: \u001b[32m'Giáo viên có thể gợi ý các từ khóa chính hoặc chỉ định một phần cụ thể trong sách/bài giảng để học sinh dễ dàng tìm ra điểm quan trọng. Cho phép học sinh chỉ cần nêu 1 điểm.'\u001b[0m,\n",
       "\u001b[2;32m│   │   \u001b[0m\u001b[32m'for_advanced_students'\u001b[0m: \u001b[32m'Yêu cầu học sinh giải thích ngắn gọn tại sao điểm kiến thức đó lại quan trọng hoặc liên hệ nó với một kiến thức đã học trước đó.'\u001b[0m\n",
       "\u001b[2;32m│   \u001b[0m\u001b[1m}\u001b[0m,\n",
       "\u001b[2;32m│   \u001b[0m\u001b[32m'content_type'\u001b[0m: \u001b[32m'Tổng hợp kiến thức'\u001b[0m\n",
       "\u001b[1m}\u001b[0m\n"
      ]
     },
     "metadata": {},
     "output_type": "display_data"
    },
    {
     "data": {
      "text/html": [
       "<pre style=\"white-space:pre;overflow-x:auto;line-height:normal;font-family:Menlo,'DejaVu Sans Mono',consolas,'Courier New',monospace\">\n",
       "<span style=\"color: #808000; text-decoration-color: #808000; font-weight: bold\">------- Hoàn thành bước: assessment_creator -------</span>\n",
       "</pre>\n"
      ],
      "text/plain": [
       "\n",
       "\u001b[1;33m------- Hoàn thành bước: assessment_creator -------\u001b[0m\n"
      ]
     },
     "metadata": {},
     "output_type": "display_data"
    },
    {
     "data": {
      "text/html": [
       "<pre style=\"white-space:pre;overflow-x:auto;line-height:normal;font-family:Menlo,'DejaVu Sans Mono',consolas,'Courier New',monospace\">\n",
       "<span style=\"color: #008080; text-decoration-color: #008080; font-weight: bold\">&gt;</span> `Agent: Guardian Critic` <span style=\"font-weight: bold\">(</span>v12.<span style=\"color: #008080; text-decoration-color: #008080; font-weight: bold\">0</span><span style=\"font-weight: bold\">)</span> đang bảo vệ kế hoạch<span style=\"color: #808000; text-decoration-color: #808000\">...</span>\n",
       "</pre>\n"
      ],
      "text/plain": [
       "\n",
       "\u001b[1;36m>\u001b[0m `Agent: Guardian Critic` \u001b[1m(\u001b[0mv12.\u001b[1;36m0\u001b[0m\u001b[1m)\u001b[0m đang bảo vệ kế hoạch\u001b[33m...\u001b[0m\n"
      ]
     },
     "metadata": {},
     "output_type": "display_data"
    },
    {
     "data": {
      "text/html": [
       "<pre style=\"white-space:pre;overflow-x:auto;line-height:normal;font-family:Menlo,'DejaVu Sans Mono',consolas,'Courier New',monospace\"><span style=\"color: #808000; text-decoration-color: #808000; font-weight: bold\">⚠️  GUARDIAN PHẢN BIỆN: Nội dung hoạt động về mặt chuyên môn là phù hợp và đầy đủ. Tuy nhiên, với thời lượng </span><span style=\"color: #808000; text-decoration-color: #808000; font-weight: bold\">5</span><span style=\"color: #808000; text-decoration-color: #808000; font-weight: bold\"> phút,</span>\n",
       "<span style=\"color: #808000; text-decoration-color: #808000; font-weight: bold\">việc thực hiện tất cả các hoạt động được liệt kê, đặc biệt là </span><span style=\"color: #808000; text-decoration-color: #808000; font-weight: bold\">\"Giải đáp nhanh 1-2 thắc mắc cuối giờ\"</span><span style=\"color: #808000; text-decoration-color: #808000; font-weight: bold\"> và việc giáo </span>\n",
       "<span style=\"color: #808000; text-decoration-color: #808000; font-weight: bold\">viên lắng nghe ý kiến tổng kết/kiểm tra bài tập về nhà của học sinh là không khả thi. Thời gian sẽ rất eo hẹp, khó </span>\n",
       "<span style=\"color: #808000; text-decoration-color: #808000; font-weight: bold\">đảm bảo chất lượng và sự tương tác cần thiết. Hãy thiết kế lại một phiên bản đơn giản hơn để khớp với thời gian </span><span style=\"color: #808000; text-decoration-color: #808000; font-weight: bold\">5</span><span style=\"color: #808000; text-decoration-color: #808000; font-weight: bold\"> </span>\n",
       "<span style=\"color: #808000; text-decoration-color: #808000; font-weight: bold\">phút đã cho.</span>\n",
       "</pre>\n"
      ],
      "text/plain": [
       "\u001b[1;33m⚠️  GUARDIAN PHẢN BIỆN: Nội dung hoạt động về mặt chuyên môn là phù hợp và đầy đủ. Tuy nhiên, với thời lượng \u001b[0m\u001b[1;33m5\u001b[0m\u001b[1;33m phút,\u001b[0m\n",
       "\u001b[1;33mviệc thực hiện tất cả các hoạt động được liệt kê, đặc biệt là \u001b[0m\u001b[1;33m\"Giải đáp nhanh 1-2 thắc mắc cuối giờ\"\u001b[0m\u001b[1;33m và việc giáo \u001b[0m\n",
       "\u001b[1;33mviên lắng nghe ý kiến tổng kết/kiểm tra bài tập về nhà của học sinh là không khả thi. Thời gian sẽ rất eo hẹp, khó \u001b[0m\n",
       "\u001b[1;33mđảm bảo chất lượng và sự tương tác cần thiết. Hãy thiết kế lại một phiên bản đơn giản hơn để khớp với thời gian \u001b[0m\u001b[1;33m5\u001b[0m\u001b[1;33m \u001b[0m\n",
       "\u001b[1;33mphút đã cho.\u001b[0m\n"
      ]
     },
     "metadata": {},
     "output_type": "display_data"
    },
    {
     "data": {
      "text/html": [
       "<pre style=\"white-space:pre;overflow-x:auto;line-height:normal;font-family:Menlo,'DejaVu Sans Mono',consolas,'Courier New',monospace\">\n",
       "<span style=\"color: #808000; text-decoration-color: #808000; font-weight: bold\">------- Hoàn thành bước: content_validator -------</span>\n",
       "</pre>\n"
      ],
      "text/plain": [
       "\n",
       "\u001b[1;33m------- Hoàn thành bước: content_validator -------\u001b[0m\n"
      ]
     },
     "metadata": {},
     "output_type": "display_data"
    },
    {
     "data": {
      "text/html": [
       "<pre style=\"white-space:pre;overflow-x:auto;line-height:normal;font-family:Menlo,'DejaVu Sans Mono',consolas,'Courier New',monospace\">\n",
       "<span style=\"color: #008080; text-decoration-color: #008080; font-weight: bold\">&gt;</span> `Agent: Task Dispatcher` đang giao việc<span style=\"color: #808000; text-decoration-color: #808000\">...</span>\n",
       "</pre>\n"
      ],
      "text/plain": [
       "\n",
       "\u001b[1;36m>\u001b[0m `Agent: Task Dispatcher` đang giao việc\u001b[33m...\u001b[0m\n"
      ]
     },
     "metadata": {},
     "output_type": "display_data"
    },
    {
     "data": {
      "text/html": [
       "<pre style=\"white-space:pre;overflow-x:auto;line-height:normal;font-family:Menlo,'DejaVu Sans Mono',consolas,'Courier New',monospace\">\n",
       "<span style=\"color: #008080; text-decoration-color: #008080; font-weight: bold\">&gt;</span> --- 🚚 `Dispatcher`: Giao nhiệm vụ cho `assessment_creator`.\n",
       "</pre>\n"
      ],
      "text/plain": [
       "\n",
       "\u001b[1;36m>\u001b[0m --- 🚚 `Dispatcher`: Giao nhiệm vụ cho `assessment_creator`.\n"
      ]
     },
     "metadata": {},
     "output_type": "display_data"
    },
    {
     "data": {
      "text/html": [
       "<pre style=\"white-space:pre;overflow-x:auto;line-height:normal;font-family:Menlo,'DejaVu Sans Mono',consolas,'Courier New',monospace\">\n",
       "<span style=\"color: #808000; text-decoration-color: #808000; font-weight: bold\">------- Hoàn thành bước: task_dispatcher -------</span>\n",
       "</pre>\n"
      ],
      "text/plain": [
       "\n",
       "\u001b[1;33m------- Hoàn thành bước: task_dispatcher -------\u001b[0m\n"
      ]
     },
     "metadata": {},
     "output_type": "display_data"
    },
    {
     "data": {
      "text/html": [
       "<pre style=\"white-space:pre;overflow-x:auto;line-height:normal;font-family:Menlo,'DejaVu Sans Mono',consolas,'Courier New',monospace\">\n",
       "<span style=\"color: #008080; text-decoration-color: #008080; font-weight: bold\">&gt;</span> `Agent: Assessment Creator` <span style=\"font-weight: bold\">(</span>v12.<span style=\"color: #008080; text-decoration-color: #008080; font-weight: bold\">0</span><span style=\"font-weight: bold\">)</span> đang tạo nội dung theo kỷ luật<span style=\"color: #808000; text-decoration-color: #808000\">...</span>\n",
       "</pre>\n"
      ],
      "text/plain": [
       "\n",
       "\u001b[1;36m>\u001b[0m `Agent: Assessment Creator` \u001b[1m(\u001b[0mv12.\u001b[1;36m0\u001b[0m\u001b[1m)\u001b[0m đang tạo nội dung theo kỷ luật\u001b[33m...\u001b[0m\n"
      ]
     },
     "metadata": {},
     "output_type": "display_data"
    },
    {
     "data": {
      "text/html": [
       "<pre style=\"white-space:pre;overflow-x:auto;line-height:normal;font-family:Menlo,'DejaVu Sans Mono',consolas,'Courier New',monospace\"><span style=\"color: #008000; text-decoration-color: #008000; font-weight: bold\">✔️ Nội dung do Assessment Creator tạo ra:</span>\n",
       "</pre>\n"
      ],
      "text/plain": [
       "\u001b[1;32m✔️ Nội dung do Assessment Creator tạo ra:\u001b[0m\n"
      ]
     },
     "metadata": {},
     "output_type": "display_data"
    },
    {
     "data": {
      "text/html": [
       "<pre style=\"white-space:pre;overflow-x:auto;line-height:normal;font-family:Menlo,'DejaVu Sans Mono',consolas,'Courier New',monospace\"><span style=\"font-weight: bold\">{</span>\n",
       "<span style=\"color: #7fbf7f; text-decoration-color: #7fbf7f\">│   </span><span style=\"color: #008000; text-decoration-color: #008000\">'activity_name'</span>: <span style=\"color: #008000; text-decoration-color: #008000\">'Tổng kết bài học và Giao bài tập về nhà'</span>,\n",
       "<span style=\"color: #7fbf7f; text-decoration-color: #7fbf7f\">│   </span><span style=\"color: #008000; text-decoration-color: #008000\">'duration_minutes'</span>: <span style=\"color: #008080; text-decoration-color: #008080; font-weight: bold\">5</span>,\n",
       "<span style=\"color: #7fbf7f; text-decoration-color: #7fbf7f\">│   </span><span style=\"color: #008000; text-decoration-color: #008000\">'teacher_actions'</span>: <span style=\"font-weight: bold\">[</span>\n",
       "<span style=\"color: #7fbf7f; text-decoration-color: #7fbf7f\">│   │   </span><span style=\"color: #008000; text-decoration-color: #008000\">'Giáo viên tóm tắt nhanh 1-2 ý chính của bài học (30 giây).'</span>,\n",
       "<span style=\"color: #7fbf7f; text-decoration-color: #7fbf7f\">│   │   </span><span style=\"color: #008000; text-decoration-color: #008000\">'Giáo viên yêu cầu học sinh ghi lại 1 điều quan trọng nhất đã học được trong bài hôm nay vào vở (1 phút).'</span>,\n",
       "<span style=\"color: #7fbf7f; text-decoration-color: #7fbf7f\">│   │   </span><span style=\"color: #008000; text-decoration-color: #008000\">'Giáo viên giao bài tập về nhà một cách rõ ràng, ngắn gọn (2 phút): Yêu cầu học sinh hoàn thành bài tập [Tên bài tập cụ thể] và chuẩn bị bài mới [Tên bài mới].'</span>,\n",
       "<span style=\"color: #7fbf7f; text-decoration-color: #7fbf7f\">│   │   </span><span style=\"color: #008000; text-decoration-color: #008000\">\"Giáo viên hỏi nhanh 'Có bạn nào có câu hỏi gì về bài tập về nhà không?' và giải đáp ngắn gọn, trọng tâm (1 phút 30 giây).\"</span>\n",
       "<span style=\"color: #7fbf7f; text-decoration-color: #7fbf7f\">│   </span><span style=\"font-weight: bold\">]</span>,\n",
       "<span style=\"color: #7fbf7f; text-decoration-color: #7fbf7f\">│   </span><span style=\"color: #008000; text-decoration-color: #008000\">'core_component'</span>: <span style=\"color: #008000; text-decoration-color: #008000\">'Em hãy viết một câu tóm tắt điều quan trọng nhất em đã học được trong bài học hôm nay. Sau đó, ghi lại bài tập về nhà: Hoàn thành bài tập [Tên bài tập cụ thể, ví dụ: Bài 1, 2 trang 50 SGK] và đọc trước bài [Tên bài mới].'</span>,\n",
       "<span style=\"color: #7fbf7f; text-decoration-color: #7fbf7f\">│   </span><span style=\"color: #008000; text-decoration-color: #008000\">'extension_component'</span>: <span style=\"color: #008000; text-decoration-color: #008000\">'Nếu còn thời gian, em hãy suy nghĩ và viết thêm 1 ứng dụng thực tế của kiến thức vừa học trong cuộc sống hàng ngày.'</span>,\n",
       "<span style=\"color: #7fbf7f; text-decoration-color: #7fbf7f\">│   </span><span style=\"color: #008000; text-decoration-color: #008000\">'answer'</span>: <span style=\"color: #008000; text-decoration-color: #008000\">'Học sinh tóm tắt được nội dung cốt lõi của bài học (ví dụ: khái niệm chính, công thức, quy tắc, sự kiện lịch sử quan trọng nhất) và ghi chép đầy đủ bài tập về nhà.'</span>,\n",
       "<span style=\"color: #7fbf7f; text-decoration-color: #7fbf7f\">│   </span><span style=\"color: #008000; text-decoration-color: #008000\">'solution_guide'</span>: <span style=\"color: #800080; text-decoration-color: #800080; font-style: italic\">None</span>,\n",
       "<span style=\"color: #7fbf7f; text-decoration-color: #7fbf7f\">│   </span><span style=\"color: #008000; text-decoration-color: #008000\">'differentiation'</span>: <span style=\"font-weight: bold\">{</span>\n",
       "<span style=\"color: #7fbf7f; text-decoration-color: #7fbf7f\">│   │   </span><span style=\"color: #008000; text-decoration-color: #008000\">'for_struggling_students'</span>: <span style=\"color: #008000; text-decoration-color: #008000\">\"Đối với phần tổng kết, giáo viên có thể gợi ý các từ khóa hoặc cấu trúc câu mẫu (ví dụ: 'Hôm nay em học được về...', 'Điều quan trọng nhất là...'). Đối với bài tập về nhà, khuyến khích các em chỉ cần hoàn thành phần cơ bản nhất hoặc làm lại các ví dụ đã chữa trên lớp.\"</span>,\n",
       "<span style=\"color: #7fbf7f; text-decoration-color: #7fbf7f\">│   │   </span><span style=\"color: #008000; text-decoration-color: #008000\">'for_advanced_students'</span>: <span style=\"color: #008000; text-decoration-color: #008000\">'Đối với phần tổng kết, yêu cầu học sinh không chỉ tóm tắt mà còn nêu cảm nhận hoặc một câu hỏi còn băn khoăn về bài học. Đối với bài tập về nhà, giao thêm một bài tập nâng cao hoặc yêu cầu tìm hiểu sâu hơn về một khía cạnh liên quan đến bài học.'</span>\n",
       "<span style=\"color: #7fbf7f; text-decoration-color: #7fbf7f\">│   </span><span style=\"font-weight: bold\">}</span>,\n",
       "<span style=\"color: #7fbf7f; text-decoration-color: #7fbf7f\">│   </span><span style=\"color: #008000; text-decoration-color: #008000\">'content_type'</span>: <span style=\"color: #008000; text-decoration-color: #008000\">'Tự luận'</span>\n",
       "<span style=\"font-weight: bold\">}</span>\n",
       "</pre>\n"
      ],
      "text/plain": [
       "\u001b[1m{\u001b[0m\n",
       "\u001b[2;32m│   \u001b[0m\u001b[32m'activity_name'\u001b[0m: \u001b[32m'Tổng kết bài học và Giao bài tập về nhà'\u001b[0m,\n",
       "\u001b[2;32m│   \u001b[0m\u001b[32m'duration_minutes'\u001b[0m: \u001b[1;36m5\u001b[0m,\n",
       "\u001b[2;32m│   \u001b[0m\u001b[32m'teacher_actions'\u001b[0m: \u001b[1m[\u001b[0m\n",
       "\u001b[2;32m│   │   \u001b[0m\u001b[32m'Giáo viên tóm tắt nhanh 1-2 ý chính của bài học \u001b[0m\u001b[32m(\u001b[0m\u001b[32m30 giây\u001b[0m\u001b[32m)\u001b[0m\u001b[32m.'\u001b[0m,\n",
       "\u001b[2;32m│   │   \u001b[0m\u001b[32m'Giáo viên yêu cầu học sinh ghi lại 1 điều quan trọng nhất đã học được trong bài hôm nay vào vở \u001b[0m\u001b[32m(\u001b[0m\u001b[32m1 phút\u001b[0m\u001b[32m)\u001b[0m\u001b[32m.'\u001b[0m,\n",
       "\u001b[2;32m│   │   \u001b[0m\u001b[32m'Giáo viên giao bài tập về nhà một cách rõ ràng, ngắn gọn \u001b[0m\u001b[32m(\u001b[0m\u001b[32m2 phút\u001b[0m\u001b[32m)\u001b[0m\u001b[32m: Yêu cầu học sinh hoàn thành bài tập \u001b[0m\u001b[32m[\u001b[0m\u001b[32mTên bài tập cụ thể\u001b[0m\u001b[32m]\u001b[0m\u001b[32m và chuẩn bị bài mới \u001b[0m\u001b[32m[\u001b[0m\u001b[32mTên bài mới\u001b[0m\u001b[32m]\u001b[0m\u001b[32m.'\u001b[0m,\n",
       "\u001b[2;32m│   │   \u001b[0m\u001b[32m\"Giáo viên hỏi nhanh 'Có bạn nào có câu hỏi gì về bài tập về nhà không?' và giải đáp ngắn gọn, trọng tâm \u001b[0m\u001b[32m(\u001b[0m\u001b[32m1 phút 30 giây\u001b[0m\u001b[32m)\u001b[0m\u001b[32m.\"\u001b[0m\n",
       "\u001b[2;32m│   \u001b[0m\u001b[1m]\u001b[0m,\n",
       "\u001b[2;32m│   \u001b[0m\u001b[32m'core_component'\u001b[0m: \u001b[32m'Em hãy viết một câu tóm tắt điều quan trọng nhất em đã học được trong bài học hôm nay. Sau đó, ghi lại bài tập về nhà: Hoàn thành bài tập \u001b[0m\u001b[32m[\u001b[0m\u001b[32mTên bài tập cụ thể, ví dụ: Bài 1, 2 trang 50 SGK\u001b[0m\u001b[32m]\u001b[0m\u001b[32m và đọc trước bài \u001b[0m\u001b[32m[\u001b[0m\u001b[32mTên bài mới\u001b[0m\u001b[32m]\u001b[0m\u001b[32m.'\u001b[0m,\n",
       "\u001b[2;32m│   \u001b[0m\u001b[32m'extension_component'\u001b[0m: \u001b[32m'Nếu còn thời gian, em hãy suy nghĩ và viết thêm 1 ứng dụng thực tế của kiến thức vừa học trong cuộc sống hàng ngày.'\u001b[0m,\n",
       "\u001b[2;32m│   \u001b[0m\u001b[32m'answer'\u001b[0m: \u001b[32m'Học sinh tóm tắt được nội dung cốt lõi của bài học \u001b[0m\u001b[32m(\u001b[0m\u001b[32mví dụ: khái niệm chính, công thức, quy tắc, sự kiện lịch sử quan trọng nhất\u001b[0m\u001b[32m)\u001b[0m\u001b[32m và ghi chép đầy đủ bài tập về nhà.'\u001b[0m,\n",
       "\u001b[2;32m│   \u001b[0m\u001b[32m'solution_guide'\u001b[0m: \u001b[3;35mNone\u001b[0m,\n",
       "\u001b[2;32m│   \u001b[0m\u001b[32m'differentiation'\u001b[0m: \u001b[1m{\u001b[0m\n",
       "\u001b[2;32m│   │   \u001b[0m\u001b[32m'for_struggling_students'\u001b[0m: \u001b[32m\"Đối với phần tổng kết, giáo viên có thể gợi ý các từ khóa hoặc cấu trúc câu mẫu \u001b[0m\u001b[32m(\u001b[0m\u001b[32mví dụ: 'Hôm nay em học được về...', 'Điều quan trọng nhất là...'\u001b[0m\u001b[32m)\u001b[0m\u001b[32m. Đối với bài tập về nhà, khuyến khích các em chỉ cần hoàn thành phần cơ bản nhất hoặc làm lại các ví dụ đã chữa trên lớp.\"\u001b[0m,\n",
       "\u001b[2;32m│   │   \u001b[0m\u001b[32m'for_advanced_students'\u001b[0m: \u001b[32m'Đối với phần tổng kết, yêu cầu học sinh không chỉ tóm tắt mà còn nêu cảm nhận hoặc một câu hỏi còn băn khoăn về bài học. Đối với bài tập về nhà, giao thêm một bài tập nâng cao hoặc yêu cầu tìm hiểu sâu hơn về một khía cạnh liên quan đến bài học.'\u001b[0m\n",
       "\u001b[2;32m│   \u001b[0m\u001b[1m}\u001b[0m,\n",
       "\u001b[2;32m│   \u001b[0m\u001b[32m'content_type'\u001b[0m: \u001b[32m'Tự luận'\u001b[0m\n",
       "\u001b[1m}\u001b[0m\n"
      ]
     },
     "metadata": {},
     "output_type": "display_data"
    },
    {
     "data": {
      "text/html": [
       "<pre style=\"white-space:pre;overflow-x:auto;line-height:normal;font-family:Menlo,'DejaVu Sans Mono',consolas,'Courier New',monospace\">\n",
       "<span style=\"color: #808000; text-decoration-color: #808000; font-weight: bold\">------- Hoàn thành bước: assessment_creator -------</span>\n",
       "</pre>\n"
      ],
      "text/plain": [
       "\n",
       "\u001b[1;33m------- Hoàn thành bước: assessment_creator -------\u001b[0m\n"
      ]
     },
     "metadata": {},
     "output_type": "display_data"
    },
    {
     "data": {
      "text/html": [
       "<pre style=\"white-space:pre;overflow-x:auto;line-height:normal;font-family:Menlo,'DejaVu Sans Mono',consolas,'Courier New',monospace\">\n",
       "<span style=\"color: #008080; text-decoration-color: #008080; font-weight: bold\">&gt;</span> `Agent: Guardian Critic` <span style=\"font-weight: bold\">(</span>v12.<span style=\"color: #008080; text-decoration-color: #008080; font-weight: bold\">0</span><span style=\"font-weight: bold\">)</span> đang bảo vệ kế hoạch<span style=\"color: #808000; text-decoration-color: #808000\">...</span>\n",
       "</pre>\n"
      ],
      "text/plain": [
       "\n",
       "\u001b[1;36m>\u001b[0m `Agent: Guardian Critic` \u001b[1m(\u001b[0mv12.\u001b[1;36m0\u001b[0m\u001b[1m)\u001b[0m đang bảo vệ kế hoạch\u001b[33m...\u001b[0m\n"
      ]
     },
     "metadata": {},
     "output_type": "display_data"
    },
    {
     "data": {
      "text/html": [
       "<pre style=\"white-space:pre;overflow-x:auto;line-height:normal;font-family:Menlo,'DejaVu Sans Mono',consolas,'Courier New',monospace\"><span style=\"color: #808000; text-decoration-color: #808000; font-weight: bold\">⚠️  GUARDIAN PHẢN BIỆN: Kế hoạch tổng kết và giao bài tập về nhà này có cấu trúc tốt, nhưng thời lượng </span><span style=\"color: #808000; text-decoration-color: #808000; font-weight: bold\">5</span><span style=\"color: #808000; text-decoration-color: #808000; font-weight: bold\"> phút được </span>\n",
       "<span style=\"color: #808000; text-decoration-color: #808000; font-weight: bold\">phân bổ cho từng hoạt động là quá chặt chẽ và khó khả thi trong thực tế lớp học. Cụ thể, việc học sinh cần </span><span style=\"color: #808000; text-decoration-color: #808000; font-weight: bold\">1</span><span style=\"color: #808000; text-decoration-color: #808000; font-weight: bold\"> phút </span>\n",
       "<span style=\"color: #808000; text-decoration-color: #808000; font-weight: bold\">để ghi lại điều quan trọng nhất có thể không đủ cho tất cả các em, và </span><span style=\"color: #808000; text-decoration-color: #808000; font-weight: bold\">1</span><span style=\"color: #808000; text-decoration-color: #808000; font-weight: bold\"> phút </span><span style=\"color: #808000; text-decoration-color: #808000; font-weight: bold\">30</span><span style=\"color: #808000; text-decoration-color: #808000; font-weight: bold\"> giây cho phần hỏi đáp bài tập về </span>\n",
       "<span style=\"color: #808000; text-decoration-color: #808000; font-weight: bold\">nhà rất dễ bị vượt quá nếu có nhiều học sinh có thắc mắc hoặc cần giải thích kỹ hơn. Điều này có thể khiến hoạt </span>\n",
       "<span style=\"color: #808000; text-decoration-color: #808000; font-weight: bold\">động bị kéo dài, ảnh hưởng đến thời gian của tiết học tiếp theo. Hãy thiết kế lại một phiên bản đơn giản hơn để </span>\n",
       "<span style=\"color: #808000; text-decoration-color: #808000; font-weight: bold\">khớp với thời gian </span><span style=\"color: #808000; text-decoration-color: #808000; font-weight: bold\">5</span><span style=\"color: #808000; text-decoration-color: #808000; font-weight: bold\"> phút đã cho.</span>\n",
       "</pre>\n"
      ],
      "text/plain": [
       "\u001b[1;33m⚠️  GUARDIAN PHẢN BIỆN: Kế hoạch tổng kết và giao bài tập về nhà này có cấu trúc tốt, nhưng thời lượng \u001b[0m\u001b[1;33m5\u001b[0m\u001b[1;33m phút được \u001b[0m\n",
       "\u001b[1;33mphân bổ cho từng hoạt động là quá chặt chẽ và khó khả thi trong thực tế lớp học. Cụ thể, việc học sinh cần \u001b[0m\u001b[1;33m1\u001b[0m\u001b[1;33m phút \u001b[0m\n",
       "\u001b[1;33mđể ghi lại điều quan trọng nhất có thể không đủ cho tất cả các em, và \u001b[0m\u001b[1;33m1\u001b[0m\u001b[1;33m phút \u001b[0m\u001b[1;33m30\u001b[0m\u001b[1;33m giây cho phần hỏi đáp bài tập về \u001b[0m\n",
       "\u001b[1;33mnhà rất dễ bị vượt quá nếu có nhiều học sinh có thắc mắc hoặc cần giải thích kỹ hơn. Điều này có thể khiến hoạt \u001b[0m\n",
       "\u001b[1;33mđộng bị kéo dài, ảnh hưởng đến thời gian của tiết học tiếp theo. Hãy thiết kế lại một phiên bản đơn giản hơn để \u001b[0m\n",
       "\u001b[1;33mkhớp với thời gian \u001b[0m\u001b[1;33m5\u001b[0m\u001b[1;33m phút đã cho.\u001b[0m\n"
      ]
     },
     "metadata": {},
     "output_type": "display_data"
    },
    {
     "data": {
      "text/html": [
       "<pre style=\"white-space:pre;overflow-x:auto;line-height:normal;font-family:Menlo,'DejaVu Sans Mono',consolas,'Courier New',monospace\">\n",
       "<span style=\"color: #808000; text-decoration-color: #808000; font-weight: bold\">------- Hoàn thành bước: content_validator -------</span>\n",
       "</pre>\n"
      ],
      "text/plain": [
       "\n",
       "\u001b[1;33m------- Hoàn thành bước: content_validator -------\u001b[0m\n"
      ]
     },
     "metadata": {},
     "output_type": "display_data"
    },
    {
     "data": {
      "text/html": [
       "<pre style=\"white-space:pre;overflow-x:auto;line-height:normal;font-family:Menlo,'DejaVu Sans Mono',consolas,'Courier New',monospace\">\n",
       "<span style=\"color: #008080; text-decoration-color: #008080; font-weight: bold\">&gt;</span> `Agent: Task Dispatcher` đang giao việc<span style=\"color: #808000; text-decoration-color: #808000\">...</span>\n",
       "</pre>\n"
      ],
      "text/plain": [
       "\n",
       "\u001b[1;36m>\u001b[0m `Agent: Task Dispatcher` đang giao việc\u001b[33m...\u001b[0m\n"
      ]
     },
     "metadata": {},
     "output_type": "display_data"
    },
    {
     "data": {
      "text/html": [
       "<pre style=\"white-space:pre;overflow-x:auto;line-height:normal;font-family:Menlo,'DejaVu Sans Mono',consolas,'Courier New',monospace\">\n",
       "<span style=\"color: #008080; text-decoration-color: #008080; font-weight: bold\">&gt;</span> --- 🚚 `Dispatcher`: Giao nhiệm vụ cho `activity_designer`.\n",
       "</pre>\n"
      ],
      "text/plain": [
       "\n",
       "\u001b[1;36m>\u001b[0m --- 🚚 `Dispatcher`: Giao nhiệm vụ cho `activity_designer`.\n"
      ]
     },
     "metadata": {},
     "output_type": "display_data"
    },
    {
     "data": {
      "text/html": [
       "<pre style=\"white-space:pre;overflow-x:auto;line-height:normal;font-family:Menlo,'DejaVu Sans Mono',consolas,'Courier New',monospace\">\n",
       "<span style=\"color: #808000; text-decoration-color: #808000; font-weight: bold\">------- Hoàn thành bước: task_dispatcher -------</span>\n",
       "</pre>\n"
      ],
      "text/plain": [
       "\n",
       "\u001b[1;33m------- Hoàn thành bước: task_dispatcher -------\u001b[0m\n"
      ]
     },
     "metadata": {},
     "output_type": "display_data"
    },
    {
     "data": {
      "text/html": [
       "<pre style=\"white-space:pre;overflow-x:auto;line-height:normal;font-family:Menlo,'DejaVu Sans Mono',consolas,'Courier New',monospace\">\n",
       "<span style=\"color: #008080; text-decoration-color: #008080; font-weight: bold\">&gt;</span> `Agent: Activity Designer` <span style=\"font-weight: bold\">(</span>v12.<span style=\"color: #008080; text-decoration-color: #008080; font-weight: bold\">0</span><span style=\"font-weight: bold\">)</span> đang tạo nội dung theo kỷ luật<span style=\"color: #808000; text-decoration-color: #808000\">...</span>\n",
       "</pre>\n"
      ],
      "text/plain": [
       "\n",
       "\u001b[1;36m>\u001b[0m `Agent: Activity Designer` \u001b[1m(\u001b[0mv12.\u001b[1;36m0\u001b[0m\u001b[1m)\u001b[0m đang tạo nội dung theo kỷ luật\u001b[33m...\u001b[0m\n"
      ]
     },
     "metadata": {},
     "output_type": "display_data"
    },
    {
     "data": {
      "text/html": [
       "<pre style=\"white-space:pre;overflow-x:auto;line-height:normal;font-family:Menlo,'DejaVu Sans Mono',consolas,'Courier New',monospace\"><span style=\"color: #008000; text-decoration-color: #008000; font-weight: bold\">✔️ Nội dung do Activity Designer tạo ra:</span>\n",
       "</pre>\n"
      ],
      "text/plain": [
       "\u001b[1;32m✔️ Nội dung do Activity Designer tạo ra:\u001b[0m\n"
      ]
     },
     "metadata": {},
     "output_type": "display_data"
    },
    {
     "data": {
      "text/html": [
       "<pre style=\"white-space:pre;overflow-x:auto;line-height:normal;font-family:Menlo,'DejaVu Sans Mono',consolas,'Courier New',monospace\"><span style=\"font-weight: bold\">{</span>\n",
       "<span style=\"color: #7fbf7f; text-decoration-color: #7fbf7f\">│   </span><span style=\"color: #008000; text-decoration-color: #008000\">'activity_name'</span>: <span style=\"color: #008000; text-decoration-color: #008000\">'Tổng kết bài học và Giao bài tập về nhà'</span>,\n",
       "<span style=\"color: #7fbf7f; text-decoration-color: #7fbf7f\">│   </span><span style=\"color: #008000; text-decoration-color: #008000\">'duration_minutes'</span>: <span style=\"color: #008080; text-decoration-color: #008080; font-weight: bold\">5</span>,\n",
       "<span style=\"color: #7fbf7f; text-decoration-color: #7fbf7f\">│   </span><span style=\"color: #008000; text-decoration-color: #008000\">'teacher_actions'</span>: <span style=\"font-weight: bold\">[</span>\n",
       "<span style=\"color: #7fbf7f; text-decoration-color: #7fbf7f\">│   │   </span><span style=\"color: #008000; text-decoration-color: #008000\">'Tóm tắt ngắn gọn 2-3 ý chính của bài học.'</span>,\n",
       "<span style=\"color: #7fbf7f; text-decoration-color: #7fbf7f\">│   │   </span><span style=\"color: #008000; text-decoration-color: #008000\">'Trình bày rõ ràng bài tập về nhà (số lượng, yêu cầu, thời hạn) trên bảng hoặc slide.'</span>,\n",
       "<span style=\"color: #7fbf7f; text-decoration-color: #7fbf7f\">│   │   </span><span style=\"color: #008000; text-decoration-color: #008000\">\"Hỏi nhanh 'Có bạn nào có thắc mắc gì về bài tập không?' và giải đáp ngắn gọn, trọng tâm.\"</span>,\n",
       "<span style=\"color: #7fbf7f; text-decoration-color: #7fbf7f\">│   │   </span><span style=\"color: #008000; text-decoration-color: #008000\">'Nhắc nhở học sinh về thời hạn nộp bài và tầm quan trọng của việc tự học.'</span>\n",
       "<span style=\"color: #7fbf7f; text-decoration-color: #7fbf7f\">│   </span><span style=\"font-weight: bold\">]</span>,\n",
       "<span style=\"color: #7fbf7f; text-decoration-color: #7fbf7f\">│   </span><span style=\"color: #008000; text-decoration-color: #008000\">'core_component'</span>: <span style=\"color: #008000; text-decoration-color: #008000\">'Giáo viên tóm tắt nhanh các kiến thức trọng tâm của bài học (khoảng 2 phút) và giao bài tập về nhà một cách rõ ràng, cụ thể (khoảng 2.5 phút). Giáo viên sẽ nêu rõ số lượng, yêu cầu và thời hạn nộp bài. Học sinh lắng nghe, ghi chép các điểm chính và bài tập về nhà. Giáo viên chỉ giải đáp nhanh các thắc mắc chính yếu về bài tập, khuyến khích học sinh tự đọc kỹ đề bài và tài liệu.'</span>,\n",
       "<span style=\"color: #7fbf7f; text-decoration-color: #7fbf7f\">│   </span><span style=\"color: #008000; text-decoration-color: #008000\">'extension_component'</span>: <span style=\"color: #008000; text-decoration-color: #008000\">'Nếu còn thời gian, giáo viên có thể đưa ra một câu hỏi gợi mở hoặc một thử thách nhỏ liên quan đến bài học để học sinh suy nghĩ thêm ở nhà, không bắt buộc phải nộp.'</span>,\n",
       "<span style=\"color: #7fbf7f; text-decoration-color: #7fbf7f\">│   </span><span style=\"color: #008000; text-decoration-color: #008000\">'solution_guide'</span>: <span style=\"color: #800080; text-decoration-color: #800080; font-style: italic\">None</span>,\n",
       "<span style=\"color: #7fbf7f; text-decoration-color: #7fbf7f\">│   </span><span style=\"color: #008000; text-decoration-color: #008000\">'differentiation'</span>: <span style=\"font-weight: bold\">{</span>\n",
       "<span style=\"color: #7fbf7f; text-decoration-color: #7fbf7f\">│   │   </span><span style=\"color: #008000; text-decoration-color: #008000\">'for_struggling_students'</span>: <span style=\"color: #008000; text-decoration-color: #008000\">'Khuyến khích học sinh yếu xem lại các phần kiến thức cơ bản trong sách giáo khoa/vở ghi và ưu tiên làm các bài tập dễ trước để củng cố nền tảng. Giáo viên có thể gợi ý cụ thể trang/mục cần xem lại.'</span>,\n",
       "<span style=\"color: #7fbf7f; text-decoration-color: #7fbf7f\">│   │   </span><span style=\"color: #008000; text-decoration-color: #008000\">'for_advanced_students'</span>: <span style=\"color: #008000; text-decoration-color: #008000\">'Gợi ý học sinh giỏi thử sức với các bài tập nâng cao (nếu có trong sách bài tập hoặc tài liệu tham khảo) hoặc tìm hiểu thêm về một khía cạnh mở rộng của bài học để đào sâu kiến thức.'</span>\n",
       "<span style=\"color: #7fbf7f; text-decoration-color: #7fbf7f\">│   </span><span style=\"font-weight: bold\">}</span>,\n",
       "<span style=\"color: #7fbf7f; text-decoration-color: #7fbf7f\">│   </span><span style=\"color: #008000; text-decoration-color: #008000\">'content_type'</span>: <span style=\"color: #008000; text-decoration-color: #008000\">'Tổng kết và Hướng dẫn'</span>\n",
       "<span style=\"font-weight: bold\">}</span>\n",
       "</pre>\n"
      ],
      "text/plain": [
       "\u001b[1m{\u001b[0m\n",
       "\u001b[2;32m│   \u001b[0m\u001b[32m'activity_name'\u001b[0m: \u001b[32m'Tổng kết bài học và Giao bài tập về nhà'\u001b[0m,\n",
       "\u001b[2;32m│   \u001b[0m\u001b[32m'duration_minutes'\u001b[0m: \u001b[1;36m5\u001b[0m,\n",
       "\u001b[2;32m│   \u001b[0m\u001b[32m'teacher_actions'\u001b[0m: \u001b[1m[\u001b[0m\n",
       "\u001b[2;32m│   │   \u001b[0m\u001b[32m'Tóm tắt ngắn gọn 2-3 ý chính của bài học.'\u001b[0m,\n",
       "\u001b[2;32m│   │   \u001b[0m\u001b[32m'Trình bày rõ ràng bài tập về nhà \u001b[0m\u001b[32m(\u001b[0m\u001b[32msố lượng, yêu cầu, thời hạn\u001b[0m\u001b[32m)\u001b[0m\u001b[32m trên bảng hoặc slide.'\u001b[0m,\n",
       "\u001b[2;32m│   │   \u001b[0m\u001b[32m\"Hỏi nhanh 'Có bạn nào có thắc mắc gì về bài tập không?' và giải đáp ngắn gọn, trọng tâm.\"\u001b[0m,\n",
       "\u001b[2;32m│   │   \u001b[0m\u001b[32m'Nhắc nhở học sinh về thời hạn nộp bài và tầm quan trọng của việc tự học.'\u001b[0m\n",
       "\u001b[2;32m│   \u001b[0m\u001b[1m]\u001b[0m,\n",
       "\u001b[2;32m│   \u001b[0m\u001b[32m'core_component'\u001b[0m: \u001b[32m'Giáo viên tóm tắt nhanh các kiến thức trọng tâm của bài học \u001b[0m\u001b[32m(\u001b[0m\u001b[32mkhoảng 2 phút\u001b[0m\u001b[32m)\u001b[0m\u001b[32m và giao bài tập về nhà một cách rõ ràng, cụ thể \u001b[0m\u001b[32m(\u001b[0m\u001b[32mkhoảng 2.5 phút\u001b[0m\u001b[32m)\u001b[0m\u001b[32m. Giáo viên sẽ nêu rõ số lượng, yêu cầu và thời hạn nộp bài. Học sinh lắng nghe, ghi chép các điểm chính và bài tập về nhà. Giáo viên chỉ giải đáp nhanh các thắc mắc chính yếu về bài tập, khuyến khích học sinh tự đọc kỹ đề bài và tài liệu.'\u001b[0m,\n",
       "\u001b[2;32m│   \u001b[0m\u001b[32m'extension_component'\u001b[0m: \u001b[32m'Nếu còn thời gian, giáo viên có thể đưa ra một câu hỏi gợi mở hoặc một thử thách nhỏ liên quan đến bài học để học sinh suy nghĩ thêm ở nhà, không bắt buộc phải nộp.'\u001b[0m,\n",
       "\u001b[2;32m│   \u001b[0m\u001b[32m'solution_guide'\u001b[0m: \u001b[3;35mNone\u001b[0m,\n",
       "\u001b[2;32m│   \u001b[0m\u001b[32m'differentiation'\u001b[0m: \u001b[1m{\u001b[0m\n",
       "\u001b[2;32m│   │   \u001b[0m\u001b[32m'for_struggling_students'\u001b[0m: \u001b[32m'Khuyến khích học sinh yếu xem lại các phần kiến thức cơ bản trong sách giáo khoa/vở ghi và ưu tiên làm các bài tập dễ trước để củng cố nền tảng. Giáo viên có thể gợi ý cụ thể trang/mục cần xem lại.'\u001b[0m,\n",
       "\u001b[2;32m│   │   \u001b[0m\u001b[32m'for_advanced_students'\u001b[0m: \u001b[32m'Gợi ý học sinh giỏi thử sức với các bài tập nâng cao \u001b[0m\u001b[32m(\u001b[0m\u001b[32mnếu có trong sách bài tập hoặc tài liệu tham khảo\u001b[0m\u001b[32m)\u001b[0m\u001b[32m hoặc tìm hiểu thêm về một khía cạnh mở rộng của bài học để đào sâu kiến thức.'\u001b[0m\n",
       "\u001b[2;32m│   \u001b[0m\u001b[1m}\u001b[0m,\n",
       "\u001b[2;32m│   \u001b[0m\u001b[32m'content_type'\u001b[0m: \u001b[32m'Tổng kết và Hướng dẫn'\u001b[0m\n",
       "\u001b[1m}\u001b[0m\n"
      ]
     },
     "metadata": {},
     "output_type": "display_data"
    },
    {
     "data": {
      "text/html": [
       "<pre style=\"white-space:pre;overflow-x:auto;line-height:normal;font-family:Menlo,'DejaVu Sans Mono',consolas,'Courier New',monospace\">\n",
       "<span style=\"color: #808000; text-decoration-color: #808000; font-weight: bold\">------- Hoàn thành bước: activity_designer -------</span>\n",
       "</pre>\n"
      ],
      "text/plain": [
       "\n",
       "\u001b[1;33m------- Hoàn thành bước: activity_designer -------\u001b[0m\n"
      ]
     },
     "metadata": {},
     "output_type": "display_data"
    },
    {
     "data": {
      "text/html": [
       "<pre style=\"white-space:pre;overflow-x:auto;line-height:normal;font-family:Menlo,'DejaVu Sans Mono',consolas,'Courier New',monospace\">\n",
       "<span style=\"color: #008080; text-decoration-color: #008080; font-weight: bold\">&gt;</span> `Agent: Guardian Critic` <span style=\"font-weight: bold\">(</span>v12.<span style=\"color: #008080; text-decoration-color: #008080; font-weight: bold\">0</span><span style=\"font-weight: bold\">)</span> đang bảo vệ kế hoạch<span style=\"color: #808000; text-decoration-color: #808000\">...</span>\n",
       "</pre>\n"
      ],
      "text/plain": [
       "\n",
       "\u001b[1;36m>\u001b[0m `Agent: Guardian Critic` \u001b[1m(\u001b[0mv12.\u001b[1;36m0\u001b[0m\u001b[1m)\u001b[0m đang bảo vệ kế hoạch\u001b[33m...\u001b[0m\n"
      ]
     },
     "metadata": {},
     "output_type": "display_data"
    },
    {
     "data": {
      "text/html": [
       "<pre style=\"white-space:pre;overflow-x:auto;line-height:normal;font-family:Menlo,'DejaVu Sans Mono',consolas,'Courier New',monospace\"><span style=\"color: #808000; text-decoration-color: #808000; font-weight: bold\">⚠️  GUARDIAN PHẢN BIỆN: Kế hoạch tổng kết và giao bài tập về nhà được trình bày khá rõ ràng về các bước và phân bổ </span>\n",
       "<span style=\"color: #808000; text-decoration-color: #808000; font-weight: bold\">thời gian dự kiến. Tuy nhiên, với vai trò là một giáo viên có kinh nghiệm, tôi nhận thấy việc thực hiện phần hỏi </span>\n",
       "<span style=\"color: #808000; text-decoration-color: #808000; font-weight: bold\">đáp thắc mắc và nhắc nhở học sinh (dự kiến trong </span><span style=\"color: #808000; text-decoration-color: #808000; font-weight: bold\">0.5</span><span style=\"color: #808000; text-decoration-color: #808000; font-weight: bold\"> phút còn lại sau khi tóm tắt bài và giao bài tập) là cực kỳ </span>\n",
       "<span style=\"color: #808000; text-decoration-color: #808000; font-weight: bold\">khó khăn trong thực tế. Thời gian này quá eo hẹp để học sinh có thể đặt câu hỏi và giáo viên giải đáp một cách hiệu</span>\n",
       "<span style=\"color: #808000; text-decoration-color: #808000; font-weight: bold\">quả, dù là </span><span style=\"color: #808000; text-decoration-color: #808000; font-weight: bold\">'nhanh'</span><span style=\"color: #808000; text-decoration-color: #808000; font-weight: bold\"> và </span><span style=\"color: #808000; text-decoration-color: #808000; font-weight: bold\">'ngắn gọn'</span><span style=\"color: #808000; text-decoration-color: #808000; font-weight: bold\">. Điều này dễ dẫn đến việc hoạt động bị kéo dài quá </span><span style=\"color: #808000; text-decoration-color: #808000; font-weight: bold\">5</span><span style=\"color: #808000; text-decoration-color: #808000; font-weight: bold\"> phút hoặc phần hỏi đáp bị bỏ </span>\n",
       "<span style=\"color: #808000; text-decoration-color: #808000; font-weight: bold\">qua, ảnh hưởng đến sự hiểu bài của học sinh. Do đó, kế hoạch này chưa thực sự khả thi để tuân thủ nghiêm ngặt thời </span>\n",
       "<span style=\"color: #808000; text-decoration-color: #808000; font-weight: bold\">gian </span><span style=\"color: #808000; text-decoration-color: #808000; font-weight: bold\">5</span><span style=\"color: #808000; text-decoration-color: #808000; font-weight: bold\"> phút đã cho. Hãy thiết kế lại một phiên bản đơn giản hơn để khớp với thời gian </span><span style=\"color: #808000; text-decoration-color: #808000; font-weight: bold\">5</span><span style=\"color: #808000; text-decoration-color: #808000; font-weight: bold\"> phút đã cho.</span>\n",
       "</pre>\n"
      ],
      "text/plain": [
       "\u001b[1;33m⚠️  GUARDIAN PHẢN BIỆN: Kế hoạch tổng kết và giao bài tập về nhà được trình bày khá rõ ràng về các bước và phân bổ \u001b[0m\n",
       "\u001b[1;33mthời gian dự kiến. Tuy nhiên, với vai trò là một giáo viên có kinh nghiệm, tôi nhận thấy việc thực hiện phần hỏi \u001b[0m\n",
       "\u001b[1;33mđáp thắc mắc và nhắc nhở học sinh \u001b[0m\u001b[1;33m(\u001b[0m\u001b[1;33mdự kiến trong \u001b[0m\u001b[1;33m0.5\u001b[0m\u001b[1;33m phút còn lại sau khi tóm tắt bài và giao bài tập\u001b[0m\u001b[1;33m)\u001b[0m\u001b[1;33m là cực kỳ \u001b[0m\n",
       "\u001b[1;33mkhó khăn trong thực tế. Thời gian này quá eo hẹp để học sinh có thể đặt câu hỏi và giáo viên giải đáp một cách hiệu\u001b[0m\n",
       "\u001b[1;33mquả, dù là \u001b[0m\u001b[1;33m'nhanh'\u001b[0m\u001b[1;33m và \u001b[0m\u001b[1;33m'ngắn gọn'\u001b[0m\u001b[1;33m. Điều này dễ dẫn đến việc hoạt động bị kéo dài quá \u001b[0m\u001b[1;33m5\u001b[0m\u001b[1;33m phút hoặc phần hỏi đáp bị bỏ \u001b[0m\n",
       "\u001b[1;33mqua, ảnh hưởng đến sự hiểu bài của học sinh. Do đó, kế hoạch này chưa thực sự khả thi để tuân thủ nghiêm ngặt thời \u001b[0m\n",
       "\u001b[1;33mgian \u001b[0m\u001b[1;33m5\u001b[0m\u001b[1;33m phút đã cho. Hãy thiết kế lại một phiên bản đơn giản hơn để khớp với thời gian \u001b[0m\u001b[1;33m5\u001b[0m\u001b[1;33m phút đã cho.\u001b[0m\n"
      ]
     },
     "metadata": {},
     "output_type": "display_data"
    },
    {
     "data": {
      "text/html": [
       "<pre style=\"white-space:pre;overflow-x:auto;line-height:normal;font-family:Menlo,'DejaVu Sans Mono',consolas,'Courier New',monospace\">\n",
       "<span style=\"color: #808000; text-decoration-color: #808000; font-weight: bold\">------- Hoàn thành bước: content_validator -------</span>\n",
       "</pre>\n"
      ],
      "text/plain": [
       "\n",
       "\u001b[1;33m------- Hoàn thành bước: content_validator -------\u001b[0m\n"
      ]
     },
     "metadata": {},
     "output_type": "display_data"
    },
    {
     "data": {
      "text/html": [
       "<pre style=\"white-space:pre;overflow-x:auto;line-height:normal;font-family:Menlo,'DejaVu Sans Mono',consolas,'Courier New',monospace\">\n",
       "<span style=\"color: #008080; text-decoration-color: #008080; font-weight: bold\">&gt;</span> `Agent: Task Dispatcher` đang giao việc<span style=\"color: #808000; text-decoration-color: #808000\">...</span>\n",
       "</pre>\n"
      ],
      "text/plain": [
       "\n",
       "\u001b[1;36m>\u001b[0m `Agent: Task Dispatcher` đang giao việc\u001b[33m...\u001b[0m\n"
      ]
     },
     "metadata": {},
     "output_type": "display_data"
    },
    {
     "data": {
      "text/html": [
       "<pre style=\"white-space:pre;overflow-x:auto;line-height:normal;font-family:Menlo,'DejaVu Sans Mono',consolas,'Courier New',monospace\">\n",
       "<span style=\"color: #008080; text-decoration-color: #008080; font-weight: bold\">&gt;</span> --- 🚚 `Dispatcher`: Giao nhiệm vụ cho `activity_designer`.\n",
       "</pre>\n"
      ],
      "text/plain": [
       "\n",
       "\u001b[1;36m>\u001b[0m --- 🚚 `Dispatcher`: Giao nhiệm vụ cho `activity_designer`.\n"
      ]
     },
     "metadata": {},
     "output_type": "display_data"
    },
    {
     "data": {
      "text/html": [
       "<pre style=\"white-space:pre;overflow-x:auto;line-height:normal;font-family:Menlo,'DejaVu Sans Mono',consolas,'Courier New',monospace\">\n",
       "<span style=\"color: #808000; text-decoration-color: #808000; font-weight: bold\">------- Hoàn thành bước: task_dispatcher -------</span>\n",
       "</pre>\n"
      ],
      "text/plain": [
       "\n",
       "\u001b[1;33m------- Hoàn thành bước: task_dispatcher -------\u001b[0m\n"
      ]
     },
     "metadata": {},
     "output_type": "display_data"
    },
    {
     "data": {
      "text/html": [
       "<pre style=\"white-space:pre;overflow-x:auto;line-height:normal;font-family:Menlo,'DejaVu Sans Mono',consolas,'Courier New',monospace\">\n",
       "<span style=\"color: #008080; text-decoration-color: #008080; font-weight: bold\">&gt;</span> `Agent: Activity Designer` <span style=\"font-weight: bold\">(</span>v12.<span style=\"color: #008080; text-decoration-color: #008080; font-weight: bold\">0</span><span style=\"font-weight: bold\">)</span> đang tạo nội dung theo kỷ luật<span style=\"color: #808000; text-decoration-color: #808000\">...</span>\n",
       "</pre>\n"
      ],
      "text/plain": [
       "\n",
       "\u001b[1;36m>\u001b[0m `Agent: Activity Designer` \u001b[1m(\u001b[0mv12.\u001b[1;36m0\u001b[0m\u001b[1m)\u001b[0m đang tạo nội dung theo kỷ luật\u001b[33m...\u001b[0m\n"
      ]
     },
     "metadata": {},
     "output_type": "display_data"
    },
    {
     "data": {
      "text/html": [
       "<pre style=\"white-space:pre;overflow-x:auto;line-height:normal;font-family:Menlo,'DejaVu Sans Mono',consolas,'Courier New',monospace\"><span style=\"color: #008000; text-decoration-color: #008000; font-weight: bold\">✔️ Nội dung do Activity Designer tạo ra:</span>\n",
       "</pre>\n"
      ],
      "text/plain": [
       "\u001b[1;32m✔️ Nội dung do Activity Designer tạo ra:\u001b[0m\n"
      ]
     },
     "metadata": {},
     "output_type": "display_data"
    },
    {
     "data": {
      "text/html": [
       "<pre style=\"white-space:pre;overflow-x:auto;line-height:normal;font-family:Menlo,'DejaVu Sans Mono',consolas,'Courier New',monospace\"><span style=\"font-weight: bold\">{</span>\n",
       "<span style=\"color: #7fbf7f; text-decoration-color: #7fbf7f\">│   </span><span style=\"color: #008000; text-decoration-color: #008000\">'activity_name'</span>: <span style=\"color: #008000; text-decoration-color: #008000\">'Tổng kết bài học và Giao bài tập về nhà'</span>,\n",
       "<span style=\"color: #7fbf7f; text-decoration-color: #7fbf7f\">│   </span><span style=\"color: #008000; text-decoration-color: #008000\">'duration_minutes'</span>: <span style=\"color: #008080; text-decoration-color: #008080; font-weight: bold\">5</span>,\n",
       "<span style=\"color: #7fbf7f; text-decoration-color: #7fbf7f\">│   </span><span style=\"color: #008000; text-decoration-color: #008000\">'teacher_actions'</span>: <span style=\"font-weight: bold\">[</span>\n",
       "<span style=\"color: #7fbf7f; text-decoration-color: #7fbf7f\">│   │   </span><span style=\"color: #008000; text-decoration-color: #008000\">'Tóm tắt ngắn gọn 2-3 ý chính/khái niệm quan trọng nhất của bài học (khoảng 1.5 phút).'</span>,\n",
       "<span style=\"color: #7fbf7f; text-decoration-color: #7fbf7f\">│   │   </span><span style=\"color: #008000; text-decoration-color: #008000\">'Trình bày rõ ràng bài tập về nhà (số lượng, dạng bài, yêu cầu cụ thể) và thời hạn nộp bài (khoảng 2.5 phút).'</span>,\n",
       "<span style=\"color: #7fbf7f; text-decoration-color: #7fbf7f\">│   │   </span><span style=\"color: #008000; text-decoration-color: #008000\">'Nhấn mạnh các lưu ý quan trọng khi làm bài tập về nhà để tránh sai sót phổ biến (khoảng 0.5 phút).'</span>,\n",
       "<span style=\"color: #7fbf7f; text-decoration-color: #7fbf7f\">│   │   </span><span style=\"color: #008000; text-decoration-color: #008000\">'Nhắc nhở học sinh ghi chép đầy đủ và chủ động tìm kiếm sự hỗ trợ nếu có thắc mắc (ví dụ: qua nhóm lớp, hỏi bạn bè, hoặc hỏi giáo viên vào đầu giờ học tiếp theo) (khoảng 0.5 phút).'</span>\n",
       "<span style=\"color: #7fbf7f; text-decoration-color: #7fbf7f\">│   </span><span style=\"font-weight: bold\">]</span>,\n",
       "<span style=\"color: #7fbf7f; text-decoration-color: #7fbf7f\">│   </span><span style=\"color: #008000; text-decoration-color: #008000\">'core_component'</span>: <span style=\"color: #008000; text-decoration-color: #008000\">'Học sinh lắng nghe giáo viên tóm tắt các nội dung trọng tâm của bài học và ghi chép lại bài tập về nhà, các yêu cầu cụ thể cũng như thời hạn nộp bài.'</span>,\n",
       "<span style=\"color: #7fbf7f; text-decoration-color: #7fbf7f\">│   </span><span style=\"color: #008000; text-decoration-color: #008000\">'extension_component'</span>: <span style=\"color: #800080; text-decoration-color: #800080; font-style: italic\">None</span>,\n",
       "<span style=\"color: #7fbf7f; text-decoration-color: #7fbf7f\">│   </span><span style=\"color: #008000; text-decoration-color: #008000\">'solution_guide'</span>: <span style=\"color: #800080; text-decoration-color: #800080; font-style: italic\">None</span>,\n",
       "<span style=\"color: #7fbf7f; text-decoration-color: #7fbf7f\">│   </span><span style=\"color: #008000; text-decoration-color: #008000\">'differentiation'</span>: <span style=\"font-weight: bold\">{</span>\n",
       "<span style=\"color: #7fbf7f; text-decoration-color: #7fbf7f\">│   │   </span><span style=\"color: #008000; text-decoration-color: #008000\">'for_struggling_students'</span>: <span style=\"color: #008000; text-decoration-color: #008000\">'Nhấn mạnh các bài tập cơ bản nhất cần hoàn thành, gợi ý xem lại phần nào trong sách giáo khoa/vở ghi để làm bài. Khuyến khích các em hỏi bạn hoặc giáo viên ngay khi gặp khó khăn.'</span>,\n",
       "<span style=\"color: #7fbf7f; text-decoration-color: #7fbf7f\">│   │   </span><span style=\"color: #008000; text-decoration-color: #008000\">'for_advanced_students'</span>: <span style=\"color: #008000; text-decoration-color: #008000\">'Gợi ý các bài tập nâng cao hoặc câu hỏi mở rộng liên quan đến nội dung bài học để các em tự tìm hiểu thêm. Khuyến khích các em thử thách bản thân với các dạng bài khó hơn hoặc tìm hiểu sâu hơn về một khía cạnh nào đó của bài học.'</span>\n",
       "<span style=\"color: #7fbf7f; text-decoration-color: #7fbf7f\">│   </span><span style=\"font-weight: bold\">}</span>,\n",
       "<span style=\"color: #7fbf7f; text-decoration-color: #7fbf7f\">│   </span><span style=\"color: #008000; text-decoration-color: #008000\">'content_type'</span>: <span style=\"color: #008000; text-decoration-color: #008000\">'Tổng kết và Giao nhiệm vụ'</span>\n",
       "<span style=\"font-weight: bold\">}</span>\n",
       "</pre>\n"
      ],
      "text/plain": [
       "\u001b[1m{\u001b[0m\n",
       "\u001b[2;32m│   \u001b[0m\u001b[32m'activity_name'\u001b[0m: \u001b[32m'Tổng kết bài học và Giao bài tập về nhà'\u001b[0m,\n",
       "\u001b[2;32m│   \u001b[0m\u001b[32m'duration_minutes'\u001b[0m: \u001b[1;36m5\u001b[0m,\n",
       "\u001b[2;32m│   \u001b[0m\u001b[32m'teacher_actions'\u001b[0m: \u001b[1m[\u001b[0m\n",
       "\u001b[2;32m│   │   \u001b[0m\u001b[32m'Tóm tắt ngắn gọn 2-3 ý chính/khái niệm quan trọng nhất của bài học \u001b[0m\u001b[32m(\u001b[0m\u001b[32mkhoảng 1.5 phút\u001b[0m\u001b[32m)\u001b[0m\u001b[32m.'\u001b[0m,\n",
       "\u001b[2;32m│   │   \u001b[0m\u001b[32m'Trình bày rõ ràng bài tập về nhà \u001b[0m\u001b[32m(\u001b[0m\u001b[32msố lượng, dạng bài, yêu cầu cụ thể\u001b[0m\u001b[32m)\u001b[0m\u001b[32m và thời hạn nộp bài \u001b[0m\u001b[32m(\u001b[0m\u001b[32mkhoảng 2.5 phút\u001b[0m\u001b[32m)\u001b[0m\u001b[32m.'\u001b[0m,\n",
       "\u001b[2;32m│   │   \u001b[0m\u001b[32m'Nhấn mạnh các lưu ý quan trọng khi làm bài tập về nhà để tránh sai sót phổ biến \u001b[0m\u001b[32m(\u001b[0m\u001b[32mkhoảng 0.5 phút\u001b[0m\u001b[32m)\u001b[0m\u001b[32m.'\u001b[0m,\n",
       "\u001b[2;32m│   │   \u001b[0m\u001b[32m'Nhắc nhở học sinh ghi chép đầy đủ và chủ động tìm kiếm sự hỗ trợ nếu có thắc mắc \u001b[0m\u001b[32m(\u001b[0m\u001b[32mví dụ: qua nhóm lớp, hỏi bạn bè, hoặc hỏi giáo viên vào đầu giờ học tiếp theo\u001b[0m\u001b[32m)\u001b[0m\u001b[32m \u001b[0m\u001b[32m(\u001b[0m\u001b[32mkhoảng 0.5 phút\u001b[0m\u001b[32m)\u001b[0m\u001b[32m.'\u001b[0m\n",
       "\u001b[2;32m│   \u001b[0m\u001b[1m]\u001b[0m,\n",
       "\u001b[2;32m│   \u001b[0m\u001b[32m'core_component'\u001b[0m: \u001b[32m'Học sinh lắng nghe giáo viên tóm tắt các nội dung trọng tâm của bài học và ghi chép lại bài tập về nhà, các yêu cầu cụ thể cũng như thời hạn nộp bài.'\u001b[0m,\n",
       "\u001b[2;32m│   \u001b[0m\u001b[32m'extension_component'\u001b[0m: \u001b[3;35mNone\u001b[0m,\n",
       "\u001b[2;32m│   \u001b[0m\u001b[32m'solution_guide'\u001b[0m: \u001b[3;35mNone\u001b[0m,\n",
       "\u001b[2;32m│   \u001b[0m\u001b[32m'differentiation'\u001b[0m: \u001b[1m{\u001b[0m\n",
       "\u001b[2;32m│   │   \u001b[0m\u001b[32m'for_struggling_students'\u001b[0m: \u001b[32m'Nhấn mạnh các bài tập cơ bản nhất cần hoàn thành, gợi ý xem lại phần nào trong sách giáo khoa/vở ghi để làm bài. Khuyến khích các em hỏi bạn hoặc giáo viên ngay khi gặp khó khăn.'\u001b[0m,\n",
       "\u001b[2;32m│   │   \u001b[0m\u001b[32m'for_advanced_students'\u001b[0m: \u001b[32m'Gợi ý các bài tập nâng cao hoặc câu hỏi mở rộng liên quan đến nội dung bài học để các em tự tìm hiểu thêm. Khuyến khích các em thử thách bản thân với các dạng bài khó hơn hoặc tìm hiểu sâu hơn về một khía cạnh nào đó của bài học.'\u001b[0m\n",
       "\u001b[2;32m│   \u001b[0m\u001b[1m}\u001b[0m,\n",
       "\u001b[2;32m│   \u001b[0m\u001b[32m'content_type'\u001b[0m: \u001b[32m'Tổng kết và Giao nhiệm vụ'\u001b[0m\n",
       "\u001b[1m}\u001b[0m\n"
      ]
     },
     "metadata": {},
     "output_type": "display_data"
    },
    {
     "data": {
      "text/html": [
       "<pre style=\"white-space:pre;overflow-x:auto;line-height:normal;font-family:Menlo,'DejaVu Sans Mono',consolas,'Courier New',monospace\">\n",
       "<span style=\"color: #808000; text-decoration-color: #808000; font-weight: bold\">------- Hoàn thành bước: activity_designer -------</span>\n",
       "</pre>\n"
      ],
      "text/plain": [
       "\n",
       "\u001b[1;33m------- Hoàn thành bước: activity_designer -------\u001b[0m\n"
      ]
     },
     "metadata": {},
     "output_type": "display_data"
    },
    {
     "data": {
      "text/html": [
       "<pre style=\"white-space:pre;overflow-x:auto;line-height:normal;font-family:Menlo,'DejaVu Sans Mono',consolas,'Courier New',monospace\">\n",
       "<span style=\"color: #008080; text-decoration-color: #008080; font-weight: bold\">&gt;</span> `Agent: Guardian Critic` <span style=\"font-weight: bold\">(</span>v12.<span style=\"color: #008080; text-decoration-color: #008080; font-weight: bold\">0</span><span style=\"font-weight: bold\">)</span> đang bảo vệ kế hoạch<span style=\"color: #808000; text-decoration-color: #808000\">...</span>\n",
       "</pre>\n"
      ],
      "text/plain": [
       "\n",
       "\u001b[1;36m>\u001b[0m `Agent: Guardian Critic` \u001b[1m(\u001b[0mv12.\u001b[1;36m0\u001b[0m\u001b[1m)\u001b[0m đang bảo vệ kế hoạch\u001b[33m...\u001b[0m\n"
      ]
     },
     "metadata": {},
     "output_type": "display_data"
    },
    {
     "data": {
      "text/html": [
       "<pre style=\"white-space:pre;overflow-x:auto;line-height:normal;font-family:Menlo,'DejaVu Sans Mono',consolas,'Courier New',monospace\">\n",
       "<span style=\"color: #008080; text-decoration-color: #008080; font-weight: bold\">&gt;</span> ✔️ GUARDIAN: Nội dung tuân thủ kế hoạch!\n",
       "</pre>\n"
      ],
      "text/plain": [
       "\n",
       "\u001b[1;36m>\u001b[0m ✔️ GUARDIAN: Nội dung tuân thủ kế hoạch!\n"
      ]
     },
     "metadata": {},
     "output_type": "display_data"
    },
    {
     "data": {
      "text/html": [
       "<pre style=\"white-space:pre;overflow-x:auto;line-height:normal;font-family:Menlo,'DejaVu Sans Mono',consolas,'Courier New',monospace\">\n",
       "<span style=\"color: #808000; text-decoration-color: #808000; font-weight: bold\">------- Hoàn thành bước: content_validator -------</span>\n",
       "</pre>\n"
      ],
      "text/plain": [
       "\n",
       "\u001b[1;33m------- Hoàn thành bước: content_validator -------\u001b[0m\n"
      ]
     },
     "metadata": {},
     "output_type": "display_data"
    },
    {
     "data": {
      "text/html": [
       "<pre style=\"white-space:pre;overflow-x:auto;line-height:normal;font-family:Menlo,'DejaVu Sans Mono',consolas,'Courier New',monospace\">\n",
       "<span style=\"color: #008080; text-decoration-color: #008080; font-weight: bold\">&gt;</span> `Commiter`: Đang ghi nhận nội dung đã được xác thực<span style=\"color: #808000; text-decoration-color: #808000\">...</span>\n",
       "</pre>\n"
      ],
      "text/plain": [
       "\n",
       "\u001b[1;36m>\u001b[0m `Commiter`: Đang ghi nhận nội dung đã được xác thực\u001b[33m...\u001b[0m\n"
      ]
     },
     "metadata": {},
     "output_type": "display_data"
    },
    {
     "data": {
      "text/html": [
       "<pre style=\"white-space:pre;overflow-x:auto;line-height:normal;font-family:Menlo,'DejaVu Sans Mono',consolas,'Courier New',monospace\">\n",
       "<span style=\"color: #808000; text-decoration-color: #808000; font-weight: bold\">------- Hoàn thành bước: commit_validated_content -------</span>\n",
       "</pre>\n"
      ],
      "text/plain": [
       "\n",
       "\u001b[1;33m------- Hoàn thành bước: commit_validated_content -------\u001b[0m\n"
      ]
     },
     "metadata": {},
     "output_type": "display_data"
    },
    {
     "data": {
      "text/html": [
       "<pre style=\"white-space:pre;overflow-x:auto;line-height:normal;font-family:Menlo,'DejaVu Sans Mono',consolas,'Courier New',monospace\">\n",
       "<span style=\"color: #808000; text-decoration-color: #808000; font-weight: bold\">------- Hoàn thành bước: mark_task_complete -------</span>\n",
       "</pre>\n"
      ],
      "text/plain": [
       "\n",
       "\u001b[1;33m------- Hoàn thành bước: mark_task_complete -------\u001b[0m\n"
      ]
     },
     "metadata": {},
     "output_type": "display_data"
    },
    {
     "data": {
      "text/html": [
       "<pre style=\"white-space:pre;overflow-x:auto;line-height:normal;font-family:Menlo,'DejaVu Sans Mono',consolas,'Courier New',monospace\">\n",
       "<span style=\"color: #808000; text-decoration-color: #808000; font-weight: bold\">------- Hoàn thành bước: delay_node -------</span>\n",
       "</pre>\n"
      ],
      "text/plain": [
       "\n",
       "\u001b[1;33m------- Hoàn thành bước: delay_node -------\u001b[0m\n"
      ]
     },
     "metadata": {},
     "output_type": "display_data"
    },
    {
     "data": {
      "text/html": [
       "<pre style=\"white-space:pre;overflow-x:auto;line-height:normal;font-family:Menlo,'DejaVu Sans Mono',consolas,'Courier New',monospace\">\n",
       "<span style=\"color: #008080; text-decoration-color: #008080; font-weight: bold\">&gt;</span> `Router`: Đang kiểm tra nhiệm vụ<span style=\"color: #808000; text-decoration-color: #808000\">...</span>\n",
       "</pre>\n"
      ],
      "text/plain": [
       "\n",
       "\u001b[1;36m>\u001b[0m `Router`: Đang kiểm tra nhiệm vụ\u001b[33m...\u001b[0m\n"
      ]
     },
     "metadata": {},
     "output_type": "display_data"
    },
    {
     "data": {
      "text/html": [
       "<pre style=\"white-space:pre;overflow-x:auto;line-height:normal;font-family:Menlo,'DejaVu Sans Mono',consolas,'Courier New',monospace\">\n",
       "<span style=\"color: #008080; text-decoration-color: #008080; font-weight: bold\">&gt;</span> Hết nhiệm vụ, chuyển sang node Compiler.\n",
       "</pre>\n"
      ],
      "text/plain": [
       "\n",
       "\u001b[1;36m>\u001b[0m Hết nhiệm vụ, chuyển sang node Compiler.\n"
      ]
     },
     "metadata": {},
     "output_type": "display_data"
    },
    {
     "data": {
      "text/html": [
       "<pre style=\"white-space:pre;overflow-x:auto;line-height:normal;font-family:Menlo,'DejaVu Sans Mono',consolas,'Courier New',monospace\">\n",
       "<span style=\"color: #808000; text-decoration-color: #808000; font-weight: bold\">------- Hoàn thành bước: task_router -------</span>\n",
       "</pre>\n"
      ],
      "text/plain": [
       "\n",
       "\u001b[1;33m------- Hoàn thành bước: task_router -------\u001b[0m\n"
      ]
     },
     "metadata": {},
     "output_type": "display_data"
    },
    {
     "data": {
      "text/html": [
       "<pre style=\"white-space:pre;overflow-x:auto;line-height:normal;font-family:Menlo,'DejaVu Sans Mono',consolas,'Courier New',monospace\">\n",
       "<span style=\"color: #008080; text-decoration-color: #008080; font-weight: bold\">&gt;</span> `Agent: Structured Plan Compiler` <span style=\"font-weight: bold\">(</span>v12.<span style=\"color: #008080; text-decoration-color: #008080; font-weight: bold\">0</span><span style=\"font-weight: bold\">)</span> đang tổng hợp giáo án<span style=\"color: #808000; text-decoration-color: #808000\">...</span>\n",
       "</pre>\n"
      ],
      "text/plain": [
       "\n",
       "\u001b[1;36m>\u001b[0m `Agent: Structured Plan Compiler` \u001b[1m(\u001b[0mv12.\u001b[1;36m0\u001b[0m\u001b[1m)\u001b[0m đang tổng hợp giáo án\u001b[33m...\u001b[0m\n"
      ]
     },
     "metadata": {},
     "output_type": "display_data"
    },
    {
     "data": {
      "text/html": [
       "<pre style=\"white-space:pre;overflow-x:auto;line-height:normal;font-family:Menlo,'DejaVu Sans Mono',consolas,'Courier New',monospace\">\n",
       "<span style=\"color: #008080; text-decoration-color: #008080; font-weight: bold\">&gt;</span> CRITIC LỚN: Kế hoạch hợp lệ! Bắt đầu tổng hợp JSON<span style=\"color: #808000; text-decoration-color: #808000\">...</span>\n",
       "</pre>\n"
      ],
      "text/plain": [
       "\n",
       "\u001b[1;36m>\u001b[0m CRITIC LỚN: Kế hoạch hợp lệ! Bắt đầu tổng hợp JSON\u001b[33m...\u001b[0m\n"
      ]
     },
     "metadata": {},
     "output_type": "display_data"
    },
    {
     "data": {
      "text/html": [
       "<pre style=\"white-space:pre;overflow-x:auto;line-height:normal;font-family:Menlo,'DejaVu Sans Mono',consolas,'Courier New',monospace\">\n",
       "<span style=\"color: #008080; text-decoration-color: #008080; font-weight: bold\">&gt;</span> ROUTER <span style=\"font-weight: bold\">(</span>Compilation<span style=\"font-weight: bold\">)</span>: Critic lớn đã hài lòng. Kết thúc quy trình.\n",
       "</pre>\n"
      ],
      "text/plain": [
       "\n",
       "\u001b[1;36m>\u001b[0m ROUTER \u001b[1m(\u001b[0mCompilation\u001b[1m)\u001b[0m: Critic lớn đã hài lòng. Kết thúc quy trình.\n"
      ]
     },
     "metadata": {},
     "output_type": "display_data"
    },
    {
     "data": {
      "text/html": [
       "<pre style=\"white-space:pre;overflow-x:auto;line-height:normal;font-family:Menlo,'DejaVu Sans Mono',consolas,'Courier New',monospace\">\n",
       "<span style=\"color: #808000; text-decoration-color: #808000; font-weight: bold\">------- Hoàn thành bước: structured_plan_compiler -------</span>\n",
       "</pre>\n"
      ],
      "text/plain": [
       "\n",
       "\u001b[1;33m------- Hoàn thành bước: structured_plan_compiler -------\u001b[0m\n"
      ]
     },
     "metadata": {},
     "output_type": "display_data"
    },
    {
     "data": {
      "text/html": [
       "<pre style=\"white-space:pre;overflow-x:auto;line-height:normal;font-family:Menlo,'DejaVu Sans Mono',consolas,'Courier New',monospace\">\n",
       "<span style=\"color: #008080; text-decoration-color: #008080; font-weight: bold\">&gt;</span> `Node: Markdown Presenter` <span style=\"font-weight: bold\">(</span>v12.<span style=\"color: #008080; text-decoration-color: #008080; font-weight: bold\">0</span><span style=\"font-weight: bold\">)</span> đang tạo bản trình bày<span style=\"color: #808000; text-decoration-color: #808000\">...</span>\n",
       "</pre>\n"
      ],
      "text/plain": [
       "\n",
       "\u001b[1;36m>\u001b[0m `Node: Markdown Presenter` \u001b[1m(\u001b[0mv12.\u001b[1;36m0\u001b[0m\u001b[1m)\u001b[0m đang tạo bản trình bày\u001b[33m...\u001b[0m\n"
      ]
     },
     "metadata": {},
     "output_type": "display_data"
    },
    {
     "data": {
      "text/html": [
       "<pre style=\"white-space:pre;overflow-x:auto;line-height:normal;font-family:Menlo,'DejaVu Sans Mono',consolas,'Courier New',monospace\">\n",
       "<span style=\"color: #808000; text-decoration-color: #808000; font-weight: bold\">------- Hoàn thành bước: markdown_presenter -------</span>\n",
       "</pre>\n"
      ],
      "text/plain": [
       "\n",
       "\u001b[1;33m------- Hoàn thành bước: markdown_presenter -------\u001b[0m\n"
      ]
     },
     "metadata": {},
     "output_type": "display_data"
    },
    {
     "data": {
      "text/html": [
       "<pre style=\"white-space:pre;overflow-x:auto;line-height:normal;font-family:Menlo,'DejaVu Sans Mono',consolas,'Courier New',monospace\">\n",
       "<span style=\"color: #008080; text-decoration-color: #008080; font-weight: bold\">&gt;</span> 🧠 Đã lưu giáo án thành công vào Trí nhớ Dài hạn.\n",
       "</pre>\n"
      ],
      "text/plain": [
       "\n",
       "\u001b[1;36m>\u001b[0m 🧠 Đã lưu giáo án thành công vào Trí nhớ Dài hạn.\n"
      ]
     },
     "metadata": {},
     "output_type": "display_data"
    },
    {
     "data": {
      "text/html": [
       "<pre style=\"white-space:pre;overflow-x:auto;line-height:normal;font-family:Menlo,'DejaVu Sans Mono',consolas,'Courier New',monospace\">\n",
       "<span style=\"color: #808000; text-decoration-color: #808000; font-weight: bold\">------- Hoàn thành bước: save_to_memory -------</span>\n",
       "</pre>\n"
      ],
      "text/plain": [
       "\n",
       "\u001b[1;33m------- Hoàn thành bước: save_to_memory -------\u001b[0m\n"
      ]
     },
     "metadata": {},
     "output_type": "display_data"
    },
    {
     "data": {
      "text/html": [
       "<pre style=\"white-space:pre;overflow-x:auto;line-height:normal;font-family:Menlo,'DejaVu Sans Mono',consolas,'Courier New',monospace\">\n",
       "<span style=\"color: #800080; text-decoration-color: #800080; font-weight: bold\">🏁 KẾT THÚC QUY TRÌNH.</span>\n",
       "</pre>\n"
      ],
      "text/plain": [
       "\n",
       "\u001b[1;35m🏁 KẾT THÚC QUY TRÌNH.\u001b[0m\n"
      ]
     },
     "metadata": {},
     "output_type": "display_data"
    },
    {
     "data": {
      "text/html": [
       "<pre style=\"white-space:pre;overflow-x:auto;line-height:normal;font-family:Menlo,'DejaVu Sans Mono',consolas,'Courier New',monospace\">\n",
       "<span style=\"color: #008000; text-decoration-color: #008000; font-weight: bold\">📝 GIÁO ÁN HOÀN CHỈNH (v12.</span><span style=\"color: #008000; text-decoration-color: #008000; font-weight: bold\">0</span><span style=\"color: #008000; text-decoration-color: #008000; font-weight: bold\">)</span>\n",
       "</pre>\n"
      ],
      "text/plain": [
       "\n",
       "\u001b[1;32m📝 GIÁO ÁN HOÀN CHỈNH \u001b[0m\u001b[1;32m(\u001b[0m\u001b[1;32mv12.\u001b[0m\u001b[1;32m0\u001b[0m\u001b[1;32m)\u001b[0m\n"
      ]
     },
     "metadata": {},
     "output_type": "display_data"
    },
    {
     "data": {
      "text/html": [
       "<pre style=\"white-space:pre;overflow-x:auto;line-height:normal;font-family:Menlo,'DejaVu Sans Mono',consolas,'Courier New',monospace\">┏━━━━━━━━━━━━━━━━━━━━━━━━━━━━━━━━━━━━━━━━━━━━━━━━━━━━━━━━━━━━━━━━━━━━━━━━━━━━━━━━━━━━━━━━━━━━━━━━━━━━━━━━━━━━━━━━━┓\n",
       "┃                          <span style=\"font-weight: bold\">GIÁO ÁN BÀI DẠY: ĐƯỜNG TRÒN NGOẠI TIẾP VÀ ĐƯỜNG TRÒN NỘI TIẾP</span>                          ┃\n",
       "┗━━━━━━━━━━━━━━━━━━━━━━━━━━━━━━━━━━━━━━━━━━━━━━━━━━━━━━━━━━━━━━━━━━━━━━━━━━━━━━━━━━━━━━━━━━━━━━━━━━━━━━━━━━━━━━━━━┛\n",
       "\n",
       "<span style=\"color: #808000; text-decoration-color: #808000\">───────────────────────────────────────────────────────────────────────────────────────────────────────────────────</span>\n",
       "\n",
       "                                                <span style=\"font-weight: bold; text-decoration: underline\">I. THÔNG TIN CHUNG</span>                                                 \n",
       "\n",
       "<span style=\"color: #808000; text-decoration-color: #808000; font-weight: bold\"> • </span><span style=\"font-weight: bold\">Chủ Đề:</span> Đường tròn ngoại tiếp và đường tròn nội tiếp                                                            \n",
       "<span style=\"color: #808000; text-decoration-color: #808000; font-weight: bold\"> • </span><span style=\"font-weight: bold\">Môn Học:</span> Toán học                                                                                               \n",
       "<span style=\"color: #808000; text-decoration-color: #808000; font-weight: bold\"> • </span><span style=\"font-weight: bold\">Lớp:</span> Lớp 9                                                                                                      \n",
       "<span style=\"color: #808000; text-decoration-color: #808000; font-weight: bold\"> • </span><span style=\"font-weight: bold\">Thời Lượng:</span> 90 phút                                                                                             \n",
       "<span style=\"color: #808000; text-decoration-color: #808000; font-weight: bold\"> • </span><span style=\"font-weight: bold\">Phương Pháp Chủ Đạo:</span> Dạy học hợp tác (Cooperative Learning)                                                     \n",
       "<span style=\"color: #808000; text-decoration-color: #808000; font-weight: bold\"> • </span><span style=\"font-weight: bold\">Đặc Điểm Lớp Học:</span> Lớp học có tốc độ tiếp thu chậm, dễ mất tập trung, cần các hoạt động tương tác cao để duy trì \n",
       "<span style=\"color: #808000; text-decoration-color: #808000; font-weight: bold\">   </span>sự chú ý và hứng thú.                                                                                           \n",
       "\n",
       "\n",
       "                                               <span style=\"font-weight: bold; text-decoration: underline\">II. MỤC TIÊU BÀI HỌC</span>                                                \n",
       "\n",
       "<span style=\"color: #808000; text-decoration-color: #808000; font-weight: bold\"> • </span>Học sinh có thể Soạn kiến thức về Đường tròn ngoại tiếp và đường tròn nội tiếp.                                 \n",
       "<span style=\"color: #808000; text-decoration-color: #808000; font-weight: bold\"> • </span>Rèn luyện kỹ năng tư duy logic.                                                                                 \n",
       "<span style=\"color: #808000; text-decoration-color: #808000; font-weight: bold\"> • </span>Phát triển kỹ năng hợp tác.                                                                                     \n",
       "\n",
       "\n",
       "                                                   <span style=\"font-weight: bold; text-decoration: underline\">III. CHUẨN BỊ</span>                                                   \n",
       "\n",
       "<span style=\"color: #808000; text-decoration-color: #808000; font-weight: bold\"> • </span><span style=\"font-weight: bold\">Giáo Viên:</span> Bảng phụ, máy chiếu, phiếu học tập                                                                   \n",
       "<span style=\"color: #808000; text-decoration-color: #808000; font-weight: bold\"> • </span><span style=\"font-weight: bold\">Học Sinh:</span> Sách giáo khoa, vở ghi, dụng cụ học tập                                                               \n",
       "\n",
       "\n",
       "                                              <span style=\"font-weight: bold; text-decoration: underline\">IV. TIẾN TRÌNH BÀI DẠY</span>                                               \n",
       "\n",
       "                                  <span style=\"font-weight: bold\">Hoạt động 1: Khởi động và Đặt vấn đề (10 phút)</span>                                   \n",
       "\n",
       "<span style=\"font-weight: bold\">Nhiệm vụ:</span> Không có mô tả.                                                                                          \n",
       "\n",
       "<span style=\"color: #800080; text-decoration-color: #800080\">▌ </span><span style=\"color: #800080; text-decoration-color: #800080; font-weight: bold\">Gợi ý Phân hóa:</span><span style=\"color: #800080; text-decoration-color: #800080\">                                                                                                </span>\n",
       "<span style=\"color: #800080; text-decoration-color: #800080\">▌ </span><span style=\"color: #808000; text-decoration-color: #808000; font-weight: bold\"> • </span><span style=\"color: #800080; text-decoration-color: #800080; font-style: italic\">Hỗ trợ (HS yếu):</span><span style=\"color: #800080; text-decoration-color: #800080\"> Gợi ý các câu hỏi dẫn dắt để học sinh dễ dàng hình dung và đưa ra ý tưởng: 'Bạn sẽ tìm     </span>\n",
       "<span style=\"color: #800080; text-decoration-color: #800080\">▌ </span><span style=\"color: #808000; text-decoration-color: #808000; font-weight: bold\">   </span><span style=\"color: #800080; text-decoration-color: #800080\">thông tin ở đâu?', 'Ai có thể giúp bạn trong tình huống này?', 'Bạn sẽ nghĩ đến những hậu quả nào?'. Khuyến </span>\n",
       "<span style=\"color: #800080; text-decoration-color: #800080\">▌ </span><span style=\"color: #808000; text-decoration-color: #808000; font-weight: bold\">   </span><span style=\"color: #800080; text-decoration-color: #800080\">khích các em nói ra ý tưởng dù chưa hoàn chỉnh.                                                             </span>\n",
       "<span style=\"color: #800080; text-decoration-color: #800080\">▌ </span><span style=\"color: #808000; text-decoration-color: #808000; font-weight: bold\"> • </span><span style=\"color: #800080; text-decoration-color: #800080; font-style: italic\">Thử thách (HS giỏi):</span><span style=\"color: #800080; text-decoration-color: #800080\"> Yêu cầu học sinh đưa ra một ví dụ cụ thể về tình huống khó khăn mà họ hoặc người thân  </span>\n",
       "<span style=\"color: #800080; text-decoration-color: #800080\">▌ </span><span style=\"color: #808000; text-decoration-color: #808000; font-weight: bold\">   </span><span style=\"color: #800080; text-decoration-color: #800080\">đã gặp phải, và cách họ đã áp dụng (hoặc sẽ áp dụng) các bước để đưa ra quyết định. Thử thách các em phản   </span>\n",
       "<span style=\"color: #800080; text-decoration-color: #800080\">▌ </span><span style=\"color: #808000; text-decoration-color: #808000; font-weight: bold\">   </span><span style=\"color: #800080; text-decoration-color: #800080\">biện lại một quan điểm khác về cách ra quyết định.                                                          </span>\n",
       "\n",
       "<span style=\"color: #808000; text-decoration-color: #808000\">───────────────────────────────────────────────────────────────────────────────────────────────────────────────────</span>\n",
       "                     <span style=\"font-weight: bold\">Hoạt động 2: Khám phá và Xây dựng kiến thức mới: Chuỗi thức ăn (35 phút)</span>                      \n",
       "\n",
       "<span style=\"font-weight: bold\">Nhiệm vụ:</span> Không có mô tả.                                                                                          \n",
       "\n",
       "<span style=\"color: #800080; text-decoration-color: #800080\">▌ </span><span style=\"color: #800080; text-decoration-color: #800080; font-weight: bold\">Gợi ý Phân hóa:</span><span style=\"color: #800080; text-decoration-color: #800080\">                                                                                                </span>\n",
       "<span style=\"color: #800080; text-decoration-color: #800080\">▌ </span><span style=\"color: #808000; text-decoration-color: #808000; font-weight: bold\"> • </span><span style=\"color: #800080; text-decoration-color: #800080; font-style: italic\">Hỗ trợ (HS yếu):</span><span style=\"color: #800080; text-decoration-color: #800080\"> Cung cấp thẻ hình ảnh các sinh vật thay vì chỉ tên chữ. Gợi ý các mối quan hệ cơ bản (ví   </span>\n",
       "<span style=\"color: #800080; text-decoration-color: #800080\">▌ </span><span style=\"color: #808000; text-decoration-color: #808000; font-weight: bold\">   </span><span style=\"color: #800080; text-decoration-color: #800080\">dụ: \"Cỏ là thức ăn của con gì?\"). Chỉ yêu cầu xác định 2-3 vai trò chính (sinh vật sản xuất, sinh vật tiêu  </span>\n",
       "<span style=\"color: #800080; text-decoration-color: #800080\">▌ </span><span style=\"color: #808000; text-decoration-color: #808000; font-weight: bold\">   </span><span style=\"color: #800080; text-decoration-color: #800080\">thụ, sinh vật phân giải) thay vì phân biệt bậc tiêu thụ. Có thể cho sẵn một phần của chuỗi thức ăn và yêu   </span>\n",
       "<span style=\"color: #800080; text-decoration-color: #800080\">▌ </span><span style=\"color: #808000; text-decoration-color: #808000; font-weight: bold\">   </span><span style=\"color: #800080; text-decoration-color: #800080\">cầu điền vào chỗ trống.                                                                                     </span>\n",
       "<span style=\"color: #800080; text-decoration-color: #800080\">▌ </span><span style=\"color: #808000; text-decoration-color: #808000; font-weight: bold\"> • </span><span style=\"color: #800080; text-decoration-color: #800080; font-style: italic\">Thử thách (HS giỏi):</span><span style=\"color: #800080; text-decoration-color: #800080\"> Yêu cầu học sinh xây dựng thêm 1-2 chuỗi thức ăn khác từ danh sách đã cho, hoặc bổ sung</span>\n",
       "<span style=\"color: #800080; text-decoration-color: #800080\">▌ </span><span style=\"color: #808000; text-decoration-color: #808000; font-weight: bold\">   </span><span style=\"color: #800080; text-decoration-color: #800080\">thêm các sinh vật khác để tạo thành một lưới thức ăn đơn giản. Học sinh có thể giải thích tại sao một sinh  </span>\n",
       "<span style=\"color: #800080; text-decoration-color: #800080\">▌ </span><span style=\"color: #808000; text-decoration-color: #808000; font-weight: bold\">   </span><span style=\"color: #800080; text-decoration-color: #800080\">vật lại có vai trò đó, hoặc nêu ví dụ về tác động khi một mắt xích trong chuỗi bị mất đi.                   </span>\n",
       "\n",
       "<span style=\"color: #808000; text-decoration-color: #808000\">───────────────────────────────────────────────────────────────────────────────────────────────────────────────────</span>\n",
       "                            <span style=\"font-weight: bold\">Hoạt động 3: Trình bày và Hệ thống hóa kiến thức (25 phút)</span>                             \n",
       "\n",
       "<span style=\"font-weight: bold\">Nhiệm vụ:</span> Không có mô tả.                                                                                          \n",
       "\n",
       "<span style=\"color: #800080; text-decoration-color: #800080\">▌ </span><span style=\"color: #800080; text-decoration-color: #800080; font-weight: bold\">Gợi ý Phân hóa:</span><span style=\"color: #800080; text-decoration-color: #800080\">                                                                                                </span>\n",
       "<span style=\"color: #800080; text-decoration-color: #800080\">▌ </span><span style=\"color: #808000; text-decoration-color: #808000; font-weight: bold\"> • </span><span style=\"color: #800080; text-decoration-color: #800080; font-style: italic\">Hỗ trợ (HS yếu):</span><span style=\"color: #800080; text-decoration-color: #800080\"> Cung cấp phiếu học tập có sẵn các từ khóa, câu hỏi gợi ý hoặc cấu trúc sơ đồ tư duy mẫu để </span>\n",
       "<span style=\"color: #800080; text-decoration-color: #800080\">▌ </span><span style=\"color: #808000; text-decoration-color: #808000; font-weight: bold\">   </span><span style=\"color: #800080; text-decoration-color: #800080\">học sinh dễ dàng điền vào. Giáo viên dành thời gian quan sát và hỗ trợ trực tiếp nhóm này, có thể gợi ý các </span>\n",
       "<span style=\"color: #800080; text-decoration-color: #800080\">▌ </span><span style=\"color: #808000; text-decoration-color: #808000; font-weight: bold\">   </span><span style=\"color: #800080; text-decoration-color: #800080\">phần kiến thức cơ bản nhất cần tập trung.                                                                   </span>\n",
       "<span style=\"color: #800080; text-decoration-color: #800080\">▌ </span><span style=\"color: #808000; text-decoration-color: #808000; font-weight: bold\"> • </span><span style=\"color: #800080; text-decoration-color: #800080; font-style: italic\">Thử thách (HS giỏi):</span><span style=\"color: #800080; text-decoration-color: #800080\"> Khuyến khích học sinh liên hệ kiến thức đã học với các vấn đề thực tiễn hoặc các chủ đề</span>\n",
       "<span style=\"color: #800080; text-decoration-color: #800080\">▌ </span><span style=\"color: #808000; text-decoration-color: #808000; font-weight: bold\">   </span><span style=\"color: #800080; text-decoration-color: #800080\">liên quan khác. Yêu cầu các em phân tích sâu hơn, đưa ra các lập luận hoặc giải thích các mối quan hệ phức  </span>\n",
       "<span style=\"color: #800080; text-decoration-color: #800080\">▌ </span><span style=\"color: #808000; text-decoration-color: #808000; font-weight: bold\">   </span><span style=\"color: #800080; text-decoration-color: #800080\">tạp giữa các khái niệm. Có thể giao vai trò nhóm trưởng để các em hỗ trợ các bạn khác trong nhóm.           </span>\n",
       "\n",
       "<span style=\"color: #808000; text-decoration-color: #808000\">───────────────────────────────────────────────────────────────────────────────────────────────────────────────────</span>\n",
       "                               <span style=\"font-weight: bold\">Hoạt động 4: Vận dụng và Củng cố kiến thức (15 phút)</span>                                \n",
       "\n",
       "<span style=\"font-weight: bold\">Nhiệm vụ:</span> Không có mô tả.                                                                                          \n",
       "\n",
       "<span style=\"color: #800080; text-decoration-color: #800080\">▌ </span><span style=\"color: #800080; text-decoration-color: #800080; font-weight: bold\">Gợi ý Phân hóa:</span><span style=\"color: #800080; text-decoration-color: #800080\">                                                                                                </span>\n",
       "<span style=\"color: #800080; text-decoration-color: #800080\">▌ </span><span style=\"color: #808000; text-decoration-color: #808000; font-weight: bold\"> • </span><span style=\"color: #800080; text-decoration-color: #800080; font-style: italic\">Hỗ trợ (HS yếu):</span><span style=\"color: #800080; text-decoration-color: #800080\"> Giáo viên có thể gợi ý công thức hoặc phép tính cần sử dụng (ví dụ: 'Để tìm số lượng, em   </span>\n",
       "<span style=\"color: #800080; text-decoration-color: #800080\">▌ </span><span style=\"color: #808000; text-decoration-color: #808000; font-weight: bold\">   </span><span style=\"color: #800080; text-decoration-color: #800080\">cần lấy tổng số tiền chia cho giá của một sản phẩm'). Cho phép học sinh sử dụng máy tính cầm tay nếu cần    </span>\n",
       "<span style=\"color: #800080; text-decoration-color: #800080\">▌ </span><span style=\"color: #808000; text-decoration-color: #808000; font-weight: bold\">   </span><span style=\"color: #800080; text-decoration-color: #800080\">thiết. Có thể cung cấp một ví dụ tương tự đơn giản hơn để học sinh tham khảo trước khi làm bài chính.       </span>\n",
       "<span style=\"color: #800080; text-decoration-color: #800080\">▌ </span><span style=\"color: #808000; text-decoration-color: #808000; font-weight: bold\"> • </span><span style=\"color: #800080; text-decoration-color: #800080; font-style: italic\">Thử thách (HS giỏi):</span><span style=\"color: #800080; text-decoration-color: #800080\"> Khuyến khích học sinh giải bài toán bằng nhiều cách khác nhau (nếu có). Yêu cầu học    </span>\n",
       "<span style=\"color: #800080; text-decoration-color: #800080\">▌ </span><span style=\"color: #808000; text-decoration-color: #808000; font-weight: bold\">   </span><span style=\"color: #800080; text-decoration-color: #800080\">sinh đặt thêm một câu hỏi phụ liên quan đến bài toán và tự giải. Nếu hoàn thành sớm phần cốt lõi, học sinh  </span>\n",
       "<span style=\"color: #800080; text-decoration-color: #800080\">▌ </span><span style=\"color: #808000; text-decoration-color: #808000; font-weight: bold\">   </span><span style=\"color: #800080; text-decoration-color: #800080\">có thể làm phần mở rộng.                                                                                    </span>\n",
       "\n",
       "<span style=\"color: #808000; text-decoration-color: #808000\">───────────────────────────────────────────────────────────────────────────────────────────────────────────────────</span>\n",
       "                           <span style=\"font-weight: bold\">Hoạt động 5: Tổng kết bài học và Giao bài tập về nhà (5 phút)</span>                           \n",
       "\n",
       "<span style=\"font-weight: bold\">Nhiệm vụ:</span> Không có mô tả.                                                                                          \n",
       "\n",
       "<span style=\"color: #800080; text-decoration-color: #800080\">▌ </span><span style=\"color: #800080; text-decoration-color: #800080; font-weight: bold\">Gợi ý Phân hóa:</span><span style=\"color: #800080; text-decoration-color: #800080\">                                                                                                </span>\n",
       "<span style=\"color: #800080; text-decoration-color: #800080\">▌ </span><span style=\"color: #808000; text-decoration-color: #808000; font-weight: bold\"> • </span><span style=\"color: #800080; text-decoration-color: #800080; font-style: italic\">Hỗ trợ (HS yếu):</span><span style=\"color: #800080; text-decoration-color: #800080\"> Nhấn mạnh các bài tập cơ bản nhất cần hoàn thành, gợi ý xem lại phần nào trong sách giáo   </span>\n",
       "<span style=\"color: #800080; text-decoration-color: #800080\">▌ </span><span style=\"color: #808000; text-decoration-color: #808000; font-weight: bold\">   </span><span style=\"color: #800080; text-decoration-color: #800080\">khoa/vở ghi để làm bài. Khuyến khích các em hỏi bạn hoặc giáo viên ngay khi gặp khó khăn.                   </span>\n",
       "<span style=\"color: #800080; text-decoration-color: #800080\">▌ </span><span style=\"color: #808000; text-decoration-color: #808000; font-weight: bold\"> • </span><span style=\"color: #800080; text-decoration-color: #800080; font-style: italic\">Thử thách (HS giỏi):</span><span style=\"color: #800080; text-decoration-color: #800080\"> Gợi ý các bài tập nâng cao hoặc câu hỏi mở rộng liên quan đến nội dung bài học để các  </span>\n",
       "<span style=\"color: #800080; text-decoration-color: #800080\">▌ </span><span style=\"color: #808000; text-decoration-color: #808000; font-weight: bold\">   </span><span style=\"color: #800080; text-decoration-color: #800080\">em tự tìm hiểu thêm. Khuyến khích các em thử thách bản thân với các dạng bài khó hơn hoặc tìm hiểu sâu hơn  </span>\n",
       "<span style=\"color: #800080; text-decoration-color: #800080\">▌ </span><span style=\"color: #808000; text-decoration-color: #808000; font-weight: bold\">   </span><span style=\"color: #800080; text-decoration-color: #800080\">về một khía cạnh nào đó của bài học.                                                                        </span>\n",
       "\n",
       "<span style=\"color: #808000; text-decoration-color: #808000\">───────────────────────────────────────────────────────────────────────────────────────────────────────────────────</span>\n",
       "\n",
       "                                           <span style=\"font-weight: bold; text-decoration: underline\">V. TÓM TẮT KIẾN THỨC CỐT LÕI</span>                                            \n",
       "\n",
       "Chào em,                                                                                                           \n",
       "\n",
       "Với vai trò là một giáo viên giàu kinh nghiệm, thầy/cô đã tổng hợp các thông tin từ các đoạn văn bản em cung cấp để\n",
       "xây dựng bản tóm tắt này. Dựa trên <span style=\"font-weight: bold\">chỉ</span> những nội dung có sẵn, kiến thức cốt lõi liên quan đến đường tròn được thể  \n",
       "hiện như sau.                                                                                                      \n",
       "\n",
       "Cần lưu ý rằng các khái niệm chuyên biệt về \"đường tròn ngoại tiếp\" và \"đường tròn nội tiếp\" của một đa giác (ví dụ\n",
       "như tam giác) không được trình bày trực tiếp trong các đoạn văn bản này. Thay vào đó, thông tin chủ yếu tập trung  \n",
       "vào các tính chất và vị trí tương đối của hai đường tròn nói chung.                                                \n",
       "\n",
       "<span style=\"color: #808000; text-decoration-color: #808000\">───────────────────────────────────────────────────────────────────────────────────────────────────────────────────</span>\n",
       "<span style=\"font-weight: bold\">TÓM TẮT KIẾN THỨC CỐT LÕI VỀ CHỦ ĐỀ \"ĐƯỜNG TRÒN NGOẠI TIẾP VÀ ĐƯỜNG TRÒN NỘI TIẾP\" (Dựa trên văn bản cung cấp)</span>     \n",
       "\n",
       "<span style=\"font-weight: bold\">1. Khái niệm chung về Đường tròn:</span>                                                                                  \n",
       "\n",
       "<span style=\"color: #808000; text-decoration-color: #808000; font-weight: bold\"> • </span>Đường tròn là một hình học cơ bản, có thể được nhận biết trong các vật thể thực tế (ví dụ: sản phẩm mây tre     \n",
       "<span style=\"color: #808000; text-decoration-color: #808000; font-weight: bold\">   </span>đan).                                                                                                           \n",
       "<span style=\"color: #808000; text-decoration-color: #808000; font-weight: bold\"> • </span>Một đường tròn được xác định bởi tâm và bán kính của nó (ví dụ: đường tròn (O; 3 cm)).                          \n",
       "\n",
       "<span style=\"font-weight: bold\">2. Vị trí tương đối của hai đường tròn:</span> Các đoạn văn bản đề cập đến các trường hợp vị trí tương đối giữa hai đường \n",
       "tròn:                                                                                                              \n",
       "\n",
       "<span style=\"color: #808000; text-decoration-color: #808000; font-weight: bold\"> • </span><span style=\"font-weight: bold\">Cắt nhau:</span> Hai đường tròn có hai điểm chung phân biệt. (Ví dụ 5.24, Ví dụ 1)                                     \n",
       "<span style=\"color: #808000; text-decoration-color: #808000; font-weight: bold\"> • </span><span style=\"font-weight: bold\">Không giao nhau:</span> Hai đường tròn không có điểm chung nào. (Ví dụ 5.24)                                           \n",
       "<span style=\"color: #808000; text-decoration-color: #808000; font-weight: bold\"> • </span><span style=\"font-weight: bold\">Tiếp xúc ngoài:</span> Hai đường tròn có một điểm chung duy nhất và nằm về hai phía của tiếp tuyến chung tại điểm đó.  \n",
       "<span style=\"color: #808000; text-decoration-color: #808000; font-weight: bold\">   </span>Điều này xảy ra khi khoảng cách giữa hai tâm bằng tổng hai bán kính (OO' = R + r). (Ví dụ 5.26a, 5.27)          \n",
       "<span style=\"color: #808000; text-decoration-color: #808000; font-weight: bold\"> • </span><span style=\"font-weight: bold\">Tiếp xúc trong:</span> Hai đường tròn có một điểm chung duy nhất và một đường tròn nằm bên trong đường tròn kia (trừ   \n",
       "<span style=\"color: #808000; text-decoration-color: #808000; font-weight: bold\">   </span>điểm tiếp xúc). Điều này xảy ra khi khoảng cách giữa hai tâm bằng hiệu hai bán kính (OO' = |R - r|). (Ví dụ     \n",
       "<span style=\"color: #808000; text-decoration-color: #808000; font-weight: bold\">   </span>5.26b, 5.26c)                                                                                                   \n",
       "\n",
       "<span style=\"font-weight: bold\">3. Các tính chất và khái niệm liên quan đến Đường tròn:</span>                                                            \n",
       "\n",
       "<span style=\"color: #808000; text-decoration-color: #808000; font-weight: bold\"> • </span><span style=\"font-weight: bold\">Đối xứng:</span> Các cung tròn có thể có tính đối xứng, cho phép chúng chắp nối trơn tru.                              \n",
       "<span style=\"color: #808000; text-decoration-color: #808000; font-weight: bold\"> • </span><span style=\"font-weight: bold\">Dây cung:</span> Là đoạn thẳng nối hai điểm trên đường tròn. (Được suy luận từ mục lục \"Cung và dây của một đường      \n",
       "<span style=\"color: #808000; text-decoration-color: #808000; font-weight: bold\">   </span>tròn\").                                                                                                         \n",
       "<span style=\"color: #808000; text-decoration-color: #808000; font-weight: bold\"> • </span><span style=\"font-weight: bold\">Tiếp tuyến:</span> Một đường thẳng có thể tiếp xúc với một đường tròn tại một điểm duy nhất. (Ví dụ 1b: \"đường thẳng MN\n",
       "<span style=\"color: #808000; text-decoration-color: #808000; font-weight: bold\">   </span>tiếp xúc với đường tròn đường kính AB\").                                                                        \n",
       "<span style=\"color: #808000; text-decoration-color: #808000; font-weight: bold\"> • </span><span style=\"font-weight: bold\">Đường tròn đường kính:</span> Một đường tròn có thể được xác định bởi một đường kính của nó. (Ví dụ 1b)                \n",
       "<span style=\"color: #808000; text-decoration-color: #808000; font-weight: bold\"> • </span><span style=\"font-weight: bold\">Cung tròn:</span> Một phần của đường tròn. (Được suy luận từ mục lục \"Cung và dây của một đường tròn\").                \n",
       "</pre>\n"
      ],
      "text/plain": [
       "┏━━━━━━━━━━━━━━━━━━━━━━━━━━━━━━━━━━━━━━━━━━━━━━━━━━━━━━━━━━━━━━━━━━━━━━━━━━━━━━━━━━━━━━━━━━━━━━━━━━━━━━━━━━━━━━━━━┓\n",
       "┃                          \u001b[1mGIÁO ÁN BÀI DẠY: ĐƯỜNG TRÒN NGOẠI TIẾP VÀ ĐƯỜNG TRÒN NỘI TIẾP\u001b[0m                          ┃\n",
       "┗━━━━━━━━━━━━━━━━━━━━━━━━━━━━━━━━━━━━━━━━━━━━━━━━━━━━━━━━━━━━━━━━━━━━━━━━━━━━━━━━━━━━━━━━━━━━━━━━━━━━━━━━━━━━━━━━━┛\n",
       "\n",
       "\u001b[33m───────────────────────────────────────────────────────────────────────────────────────────────────────────────────\u001b[0m\n",
       "\n",
       "                                                \u001b[1;4mI. THÔNG TIN CHUNG\u001b[0m                                                 \n",
       "\n",
       "\u001b[1;33m • \u001b[0m\u001b[1mChủ Đề:\u001b[0m Đường tròn ngoại tiếp và đường tròn nội tiếp                                                            \n",
       "\u001b[1;33m • \u001b[0m\u001b[1mMôn Học:\u001b[0m Toán học                                                                                               \n",
       "\u001b[1;33m • \u001b[0m\u001b[1mLớp:\u001b[0m Lớp 9                                                                                                      \n",
       "\u001b[1;33m • \u001b[0m\u001b[1mThời Lượng:\u001b[0m 90 phút                                                                                             \n",
       "\u001b[1;33m • \u001b[0m\u001b[1mPhương Pháp Chủ Đạo:\u001b[0m Dạy học hợp tác (Cooperative Learning)                                                     \n",
       "\u001b[1;33m • \u001b[0m\u001b[1mĐặc Điểm Lớp Học:\u001b[0m Lớp học có tốc độ tiếp thu chậm, dễ mất tập trung, cần các hoạt động tương tác cao để duy trì \n",
       "\u001b[1;33m   \u001b[0msự chú ý và hứng thú.                                                                                           \n",
       "\n",
       "\n",
       "                                               \u001b[1;4mII. MỤC TIÊU BÀI HỌC\u001b[0m                                                \n",
       "\n",
       "\u001b[1;33m • \u001b[0mHọc sinh có thể Soạn kiến thức về Đường tròn ngoại tiếp và đường tròn nội tiếp.                                 \n",
       "\u001b[1;33m • \u001b[0mRèn luyện kỹ năng tư duy logic.                                                                                 \n",
       "\u001b[1;33m • \u001b[0mPhát triển kỹ năng hợp tác.                                                                                     \n",
       "\n",
       "\n",
       "                                                   \u001b[1;4mIII. CHUẨN BỊ\u001b[0m                                                   \n",
       "\n",
       "\u001b[1;33m • \u001b[0m\u001b[1mGiáo Viên:\u001b[0m Bảng phụ, máy chiếu, phiếu học tập                                                                   \n",
       "\u001b[1;33m • \u001b[0m\u001b[1mHọc Sinh:\u001b[0m Sách giáo khoa, vở ghi, dụng cụ học tập                                                               \n",
       "\n",
       "\n",
       "                                              \u001b[1;4mIV. TIẾN TRÌNH BÀI DẠY\u001b[0m                                               \n",
       "\n",
       "                                  \u001b[1mHoạt động 1: Khởi động và Đặt vấn đề (10 phút)\u001b[0m                                   \n",
       "\n",
       "\u001b[1mNhiệm vụ:\u001b[0m Không có mô tả.                                                                                          \n",
       "\n",
       "\u001b[35m▌ \u001b[0m\u001b[1;35mGợi ý Phân hóa:\u001b[0m\u001b[35m                                                                                                \u001b[0m\n",
       "\u001b[35m▌ \u001b[0m\u001b[1;33m • \u001b[0m\u001b[3;35mHỗ trợ (HS yếu):\u001b[0m\u001b[35m Gợi ý các câu hỏi dẫn dắt để học sinh dễ dàng hình dung và đưa ra ý tưởng: 'Bạn sẽ tìm \u001b[0m\u001b[35m    \u001b[0m\n",
       "\u001b[35m▌ \u001b[0m\u001b[1;33m   \u001b[0m\u001b[35mthông tin ở đâu?', 'Ai có thể giúp bạn trong tình huống này?', 'Bạn sẽ nghĩ đến những hậu quả nào?'. Khuyến \u001b[0m\n",
       "\u001b[35m▌ \u001b[0m\u001b[1;33m   \u001b[0m\u001b[35mkhích các em nói ra ý tưởng dù chưa hoàn chỉnh.\u001b[0m\u001b[35m                                                             \u001b[0m\n",
       "\u001b[35m▌ \u001b[0m\u001b[1;33m • \u001b[0m\u001b[3;35mThử thách (HS giỏi):\u001b[0m\u001b[35m Yêu cầu học sinh đưa ra một ví dụ cụ thể về tình huống khó khăn mà họ hoặc người thân \u001b[0m\u001b[35m \u001b[0m\n",
       "\u001b[35m▌ \u001b[0m\u001b[1;33m   \u001b[0m\u001b[35mđã gặp phải, và cách họ đã áp dụng (hoặc sẽ áp dụng) các bước để đưa ra quyết định. Thử thách các em phản \u001b[0m\u001b[35m  \u001b[0m\n",
       "\u001b[35m▌ \u001b[0m\u001b[1;33m   \u001b[0m\u001b[35mbiện lại một quan điểm khác về cách ra quyết định.\u001b[0m\u001b[35m                                                          \u001b[0m\n",
       "\n",
       "\u001b[33m───────────────────────────────────────────────────────────────────────────────────────────────────────────────────\u001b[0m\n",
       "                     \u001b[1mHoạt động 2: Khám phá và Xây dựng kiến thức mới: Chuỗi thức ăn (35 phút)\u001b[0m                      \n",
       "\n",
       "\u001b[1mNhiệm vụ:\u001b[0m Không có mô tả.                                                                                          \n",
       "\n",
       "\u001b[35m▌ \u001b[0m\u001b[1;35mGợi ý Phân hóa:\u001b[0m\u001b[35m                                                                                                \u001b[0m\n",
       "\u001b[35m▌ \u001b[0m\u001b[1;33m • \u001b[0m\u001b[3;35mHỗ trợ (HS yếu):\u001b[0m\u001b[35m Cung cấp thẻ hình ảnh các sinh vật thay vì chỉ tên chữ. Gợi ý các mối quan hệ cơ bản (ví \u001b[0m\u001b[35m  \u001b[0m\n",
       "\u001b[35m▌ \u001b[0m\u001b[1;33m   \u001b[0m\u001b[35mdụ: \"Cỏ là thức ăn của con gì?\"). Chỉ yêu cầu xác định 2-3 vai trò chính (sinh vật sản xuất, sinh vật tiêu \u001b[0m\u001b[35m \u001b[0m\n",
       "\u001b[35m▌ \u001b[0m\u001b[1;33m   \u001b[0m\u001b[35mthụ, sinh vật phân giải) thay vì phân biệt bậc tiêu thụ. Có thể cho sẵn một phần của chuỗi thức ăn và yêu \u001b[0m\u001b[35m  \u001b[0m\n",
       "\u001b[35m▌ \u001b[0m\u001b[1;33m   \u001b[0m\u001b[35mcầu điền vào chỗ trống.\u001b[0m\u001b[35m                                                                                     \u001b[0m\n",
       "\u001b[35m▌ \u001b[0m\u001b[1;33m • \u001b[0m\u001b[3;35mThử thách (HS giỏi):\u001b[0m\u001b[35m Yêu cầu học sinh xây dựng thêm 1-2 chuỗi thức ăn khác từ danh sách đã cho, hoặc bổ sung\u001b[0m\n",
       "\u001b[35m▌ \u001b[0m\u001b[1;33m   \u001b[0m\u001b[35mthêm các sinh vật khác để tạo thành một lưới thức ăn đơn giản. Học sinh có thể giải thích tại sao một sinh \u001b[0m\u001b[35m \u001b[0m\n",
       "\u001b[35m▌ \u001b[0m\u001b[1;33m   \u001b[0m\u001b[35mvật lại có vai trò đó, hoặc nêu ví dụ về tác động khi một mắt xích trong chuỗi bị mất đi.\u001b[0m\u001b[35m                   \u001b[0m\n",
       "\n",
       "\u001b[33m───────────────────────────────────────────────────────────────────────────────────────────────────────────────────\u001b[0m\n",
       "                            \u001b[1mHoạt động 3: Trình bày và Hệ thống hóa kiến thức (25 phút)\u001b[0m                             \n",
       "\n",
       "\u001b[1mNhiệm vụ:\u001b[0m Không có mô tả.                                                                                          \n",
       "\n",
       "\u001b[35m▌ \u001b[0m\u001b[1;35mGợi ý Phân hóa:\u001b[0m\u001b[35m                                                                                                \u001b[0m\n",
       "\u001b[35m▌ \u001b[0m\u001b[1;33m • \u001b[0m\u001b[3;35mHỗ trợ (HS yếu):\u001b[0m\u001b[35m Cung cấp phiếu học tập có sẵn các từ khóa, câu hỏi gợi ý hoặc cấu trúc sơ đồ tư duy mẫu để \u001b[0m\n",
       "\u001b[35m▌ \u001b[0m\u001b[1;33m   \u001b[0m\u001b[35mhọc sinh dễ dàng điền vào. Giáo viên dành thời gian quan sát và hỗ trợ trực tiếp nhóm này, có thể gợi ý các \u001b[0m\n",
       "\u001b[35m▌ \u001b[0m\u001b[1;33m   \u001b[0m\u001b[35mphần kiến thức cơ bản nhất cần tập trung.\u001b[0m\u001b[35m                                                                   \u001b[0m\n",
       "\u001b[35m▌ \u001b[0m\u001b[1;33m • \u001b[0m\u001b[3;35mThử thách (HS giỏi):\u001b[0m\u001b[35m Khuyến khích học sinh liên hệ kiến thức đã học với các vấn đề thực tiễn hoặc các chủ đề\u001b[0m\n",
       "\u001b[35m▌ \u001b[0m\u001b[1;33m   \u001b[0m\u001b[35mliên quan khác. Yêu cầu các em phân tích sâu hơn, đưa ra các lập luận hoặc giải thích các mối quan hệ phức \u001b[0m\u001b[35m \u001b[0m\n",
       "\u001b[35m▌ \u001b[0m\u001b[1;33m   \u001b[0m\u001b[35mtạp giữa các khái niệm. Có thể giao vai trò nhóm trưởng để các em hỗ trợ các bạn khác trong nhóm.\u001b[0m\u001b[35m           \u001b[0m\n",
       "\n",
       "\u001b[33m───────────────────────────────────────────────────────────────────────────────────────────────────────────────────\u001b[0m\n",
       "                               \u001b[1mHoạt động 4: Vận dụng và Củng cố kiến thức (15 phút)\u001b[0m                                \n",
       "\n",
       "\u001b[1mNhiệm vụ:\u001b[0m Không có mô tả.                                                                                          \n",
       "\n",
       "\u001b[35m▌ \u001b[0m\u001b[1;35mGợi ý Phân hóa:\u001b[0m\u001b[35m                                                                                                \u001b[0m\n",
       "\u001b[35m▌ \u001b[0m\u001b[1;33m • \u001b[0m\u001b[3;35mHỗ trợ (HS yếu):\u001b[0m\u001b[35m Giáo viên có thể gợi ý công thức hoặc phép tính cần sử dụng (ví dụ: 'Để tìm số lượng, em \u001b[0m\u001b[35m  \u001b[0m\n",
       "\u001b[35m▌ \u001b[0m\u001b[1;33m   \u001b[0m\u001b[35mcần lấy tổng số tiền chia cho giá của một sản phẩm'). Cho phép học sinh sử dụng máy tính cầm tay nếu cần \u001b[0m\u001b[35m   \u001b[0m\n",
       "\u001b[35m▌ \u001b[0m\u001b[1;33m   \u001b[0m\u001b[35mthiết. Có thể cung cấp một ví dụ tương tự đơn giản hơn để học sinh tham khảo trước khi làm bài chính.\u001b[0m\u001b[35m       \u001b[0m\n",
       "\u001b[35m▌ \u001b[0m\u001b[1;33m • \u001b[0m\u001b[3;35mThử thách (HS giỏi):\u001b[0m\u001b[35m Khuyến khích học sinh giải bài toán bằng nhiều cách khác nhau (nếu có). Yêu cầu học \u001b[0m\u001b[35m   \u001b[0m\n",
       "\u001b[35m▌ \u001b[0m\u001b[1;33m   \u001b[0m\u001b[35msinh đặt thêm một câu hỏi phụ liên quan đến bài toán và tự giải. Nếu hoàn thành sớm phần cốt lõi, học sinh \u001b[0m\u001b[35m \u001b[0m\n",
       "\u001b[35m▌ \u001b[0m\u001b[1;33m   \u001b[0m\u001b[35mcó thể làm phần mở rộng.\u001b[0m\u001b[35m                                                                                    \u001b[0m\n",
       "\n",
       "\u001b[33m───────────────────────────────────────────────────────────────────────────────────────────────────────────────────\u001b[0m\n",
       "                           \u001b[1mHoạt động 5: Tổng kết bài học và Giao bài tập về nhà (5 phút)\u001b[0m                           \n",
       "\n",
       "\u001b[1mNhiệm vụ:\u001b[0m Không có mô tả.                                                                                          \n",
       "\n",
       "\u001b[35m▌ \u001b[0m\u001b[1;35mGợi ý Phân hóa:\u001b[0m\u001b[35m                                                                                                \u001b[0m\n",
       "\u001b[35m▌ \u001b[0m\u001b[1;33m • \u001b[0m\u001b[3;35mHỗ trợ (HS yếu):\u001b[0m\u001b[35m Nhấn mạnh các bài tập cơ bản nhất cần hoàn thành, gợi ý xem lại phần nào trong sách giáo \u001b[0m\u001b[35m  \u001b[0m\n",
       "\u001b[35m▌ \u001b[0m\u001b[1;33m   \u001b[0m\u001b[35mkhoa/vở ghi để làm bài. Khuyến khích các em hỏi bạn hoặc giáo viên ngay khi gặp khó khăn.\u001b[0m\u001b[35m                   \u001b[0m\n",
       "\u001b[35m▌ \u001b[0m\u001b[1;33m • \u001b[0m\u001b[3;35mThử thách (HS giỏi):\u001b[0m\u001b[35m Gợi ý các bài tập nâng cao hoặc câu hỏi mở rộng liên quan đến nội dung bài học để các \u001b[0m\u001b[35m \u001b[0m\n",
       "\u001b[35m▌ \u001b[0m\u001b[1;33m   \u001b[0m\u001b[35mem tự tìm hiểu thêm. Khuyến khích các em thử thách bản thân với các dạng bài khó hơn hoặc tìm hiểu sâu hơn \u001b[0m\u001b[35m \u001b[0m\n",
       "\u001b[35m▌ \u001b[0m\u001b[1;33m   \u001b[0m\u001b[35mvề một khía cạnh nào đó của bài học.\u001b[0m\u001b[35m                                                                        \u001b[0m\n",
       "\n",
       "\u001b[33m───────────────────────────────────────────────────────────────────────────────────────────────────────────────────\u001b[0m\n",
       "\n",
       "                                           \u001b[1;4mV. TÓM TẮT KIẾN THỨC CỐT LÕI\u001b[0m                                            \n",
       "\n",
       "Chào em,                                                                                                           \n",
       "\n",
       "Với vai trò là một giáo viên giàu kinh nghiệm, thầy/cô đã tổng hợp các thông tin từ các đoạn văn bản em cung cấp để\n",
       "xây dựng bản tóm tắt này. Dựa trên \u001b[1mchỉ\u001b[0m những nội dung có sẵn, kiến thức cốt lõi liên quan đến đường tròn được thể  \n",
       "hiện như sau.                                                                                                      \n",
       "\n",
       "Cần lưu ý rằng các khái niệm chuyên biệt về \"đường tròn ngoại tiếp\" và \"đường tròn nội tiếp\" của một đa giác (ví dụ\n",
       "như tam giác) không được trình bày trực tiếp trong các đoạn văn bản này. Thay vào đó, thông tin chủ yếu tập trung  \n",
       "vào các tính chất và vị trí tương đối của hai đường tròn nói chung.                                                \n",
       "\n",
       "\u001b[33m───────────────────────────────────────────────────────────────────────────────────────────────────────────────────\u001b[0m\n",
       "\u001b[1mTÓM TẮT KIẾN THỨC CỐT LÕI VỀ CHỦ ĐỀ \"ĐƯỜNG TRÒN NGOẠI TIẾP VÀ ĐƯỜNG TRÒN NỘI TIẾP\" (Dựa trên văn bản cung cấp)\u001b[0m     \n",
       "\n",
       "\u001b[1m1. Khái niệm chung về Đường tròn:\u001b[0m                                                                                  \n",
       "\n",
       "\u001b[1;33m • \u001b[0mĐường tròn là một hình học cơ bản, có thể được nhận biết trong các vật thể thực tế (ví dụ: sản phẩm mây tre     \n",
       "\u001b[1;33m   \u001b[0mđan).                                                                                                           \n",
       "\u001b[1;33m • \u001b[0mMột đường tròn được xác định bởi tâm và bán kính của nó (ví dụ: đường tròn (O; 3 cm)).                          \n",
       "\n",
       "\u001b[1m2. Vị trí tương đối của hai đường tròn:\u001b[0m Các đoạn văn bản đề cập đến các trường hợp vị trí tương đối giữa hai đường \n",
       "tròn:                                                                                                              \n",
       "\n",
       "\u001b[1;33m • \u001b[0m\u001b[1mCắt nhau:\u001b[0m Hai đường tròn có hai điểm chung phân biệt. (Ví dụ 5.24, Ví dụ 1)                                     \n",
       "\u001b[1;33m • \u001b[0m\u001b[1mKhông giao nhau:\u001b[0m Hai đường tròn không có điểm chung nào. (Ví dụ 5.24)                                           \n",
       "\u001b[1;33m • \u001b[0m\u001b[1mTiếp xúc ngoài:\u001b[0m Hai đường tròn có một điểm chung duy nhất và nằm về hai phía của tiếp tuyến chung tại điểm đó.  \n",
       "\u001b[1;33m   \u001b[0mĐiều này xảy ra khi khoảng cách giữa hai tâm bằng tổng hai bán kính (OO' = R + r). (Ví dụ 5.26a, 5.27)          \n",
       "\u001b[1;33m • \u001b[0m\u001b[1mTiếp xúc trong:\u001b[0m Hai đường tròn có một điểm chung duy nhất và một đường tròn nằm bên trong đường tròn kia (trừ   \n",
       "\u001b[1;33m   \u001b[0mđiểm tiếp xúc). Điều này xảy ra khi khoảng cách giữa hai tâm bằng hiệu hai bán kính (OO' = |R - r|). (Ví dụ     \n",
       "\u001b[1;33m   \u001b[0m5.26b, 5.26c)                                                                                                   \n",
       "\n",
       "\u001b[1m3. Các tính chất và khái niệm liên quan đến Đường tròn:\u001b[0m                                                            \n",
       "\n",
       "\u001b[1;33m • \u001b[0m\u001b[1mĐối xứng:\u001b[0m Các cung tròn có thể có tính đối xứng, cho phép chúng chắp nối trơn tru.                              \n",
       "\u001b[1;33m • \u001b[0m\u001b[1mDây cung:\u001b[0m Là đoạn thẳng nối hai điểm trên đường tròn. (Được suy luận từ mục lục \"Cung và dây của một đường      \n",
       "\u001b[1;33m   \u001b[0mtròn\").                                                                                                         \n",
       "\u001b[1;33m • \u001b[0m\u001b[1mTiếp tuyến:\u001b[0m Một đường thẳng có thể tiếp xúc với một đường tròn tại một điểm duy nhất. (Ví dụ 1b: \"đường thẳng MN\n",
       "\u001b[1;33m   \u001b[0mtiếp xúc với đường tròn đường kính AB\").                                                                        \n",
       "\u001b[1;33m • \u001b[0m\u001b[1mĐường tròn đường kính:\u001b[0m Một đường tròn có thể được xác định bởi một đường kính của nó. (Ví dụ 1b)                \n",
       "\u001b[1;33m • \u001b[0m\u001b[1mCung tròn:\u001b[0m Một phần của đường tròn. (Được suy luận từ mục lục \"Cung và dây của một đường tròn\").                \n"
      ]
     },
     "metadata": {},
     "output_type": "display_data"
    }
   ],
   "source": [
    "# ==============================================================================\n",
    "# CELL 5.2: KÍCH HOẠT CHẠY THỬ NGHIỆM\n",
    "# ==============================================================================\n",
    "# Yêu cầu để kiểm tra\n",
    "architect_request = \"Soạn giúp tôi giáo án bài 'Đường tròn ngoại tiếp và đường tròn nội tiếp' cho học sinh lớp 9 trong 90 phút. Đây là một lớp học khá yếu, các em thường mất tập trung và cần các hoạt động có tính tương tác cao.\"\n",
    "VERBOSE_MODE = True \n",
    "\n",
    "# Chạy quy trình đã được cải cách\n",
    "# Lưu ý: bạn cần một môi trường hỗ trợ `await` ở cấp độ cao nhất (như Jupyter Notebook)\n",
    "await run_architect(architect_request)"
   ]
  }
 ],
 "metadata": {
  "kernelspec": {
   "display_name": "plan_venv",
   "language": "python",
   "name": "python3"
  },
  "language_info": {
   "codemirror_mode": {
    "name": "ipython",
    "version": 3
   },
   "file_extension": ".py",
   "mimetype": "text/x-python",
   "name": "python",
   "nbconvert_exporter": "python",
   "pygments_lexer": "ipython3",
   "version": "3.11.8"
  }
 },
 "nbformat": 4,
 "nbformat_minor": 5
}
