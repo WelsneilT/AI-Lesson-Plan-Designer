{
 "cells": [
  {
   "cell_type": "markdown",
   "id": "a3bfa357",
   "metadata": {},
   "source": [
    "## PHẦN 1: CÀI ĐẶT, IMPORTS & THIẾT LẬP BAN ĐẦU"
   ]
  },
  {
   "cell_type": "code",
   "execution_count": 39,
   "id": "f1b9d691",
   "metadata": {},
   "outputs": [],
   "source": [
    "# ==============================================================================\n",
    "# CELL 1.1: CÀI ĐẶT THƯ VIỆN & BIẾN MÔI TRƯỜNG (CẬP NHẬT)\n",
    "# ==============================================================================\n",
    "import os\n",
    "import json\n",
    "import asyncio\n",
    "import operator\n",
    "import time \n",
    "import re\n",
    "from typing import TypedDict, Annotated, List, Dict, Any, Literal, Optional, Union\n",
    "\n",
    "# Tải các biến môi trường\n",
    "from dotenv import load_dotenv \n",
    "load_dotenv()\n",
    "\n",
    "# LangChain & LangGraph\n",
    "from langchain_core.messages import BaseMessage, HumanMessage   \n",
    "from pydantic.v1 import BaseModel, Field, schema_json_of\n",
    "# --- NÂNG CẤP: Chuyển sang thư viện Google Generative AI (dành cho AI Studio) ---\n",
    "from langchain_google_genai import ChatGoogleGenerativeAI\n",
    "from langgraph.graph import StateGraph, END\n",
    "from langgraph.graph.message import add_messages\n",
    "\n",
    "# --- NÂNG CẤP: Thêm công cụ tìm kiếm ---\n",
    "from langchain_community.tools.tavily_search import TavilySearchResults\n",
    "\n",
    "# Thư viện hỗ trợ & Kho tri thức\n",
    "from langchain_community.vectorstores import FAISS\n",
    "from langchain_huggingface import HuggingFaceEmbeddings\n",
    "from rich.console import Console\n",
    "from rich.markdown import Markdown\n",
    "from rich.pretty import pprint\n",
    "from IPython.display import Image, display"
   ]
  },
  {
   "cell_type": "code",
   "execution_count": 40,
   "id": "eb563d80",
   "metadata": {},
   "outputs": [],
   "source": [
    "# ==============================================================================\n",
    "# CELL 1.2: CẤU HÌNH LOG & CÁC HÀM IN ẤN\n",
    "# ==============================================================================\n",
    "from langchain_groq import ChatGroq\n",
    "# --- CẤU HÌNH LOG ---\n",
    "VERBOSE_MODE = True\n",
    "\n",
    "# --- KHỞI TẠO CÁC CÔNG CỤ IN ẤN ---\n",
    "console = Console()\n",
    "\n",
    "def print_step(message: str):\n",
    "    if VERBOSE_MODE:\n",
    "        console.print(f\"\\n[bold cyan]>[/bold cyan] {message}\")\n",
    "\n",
    "def print_result(data: Any, title: str = \"Kết quả\"):\n",
    "    if VERBOSE_MODE:\n",
    "        console.print(f\"[bold green]✔️ {title}:[/bold green]\")\n",
    "        pprint(data, expand_all=True)\n",
    "        \n",
    "def print_warning(message: str):\n",
    "    if VERBOSE_MODE:\n",
    "        console.print(f\"[bold yellow]⚠️  {message}[/bold yellow]\")"
   ]
  },
  {
   "cell_type": "code",
   "execution_count": 41,
   "id": "eb8e3f51",
   "metadata": {},
   "outputs": [
    {
     "name": "stdout",
     "output_type": "stream",
     "text": [
      "✅ LLM (Gemini 2.5 Flash từ Google AI Studio) đã được khởi tạo thành công.\n"
     ]
    }
   ],
   "source": [
    "# ==============================================================================\n",
    "# CELL 1.3: KHỞI TẠO LLM (NÂNG CẤP SANG GOOGLE AI STUDIO)\n",
    "# ==============================================================================\n",
    "try:\n",
    "    llm = ChatGoogleGenerativeAI(\n",
    "        model=\"gemini-2.5-flash\", # Sử dụng model mới nhất và mạnh nhất\n",
    "        temperature=0.1,\n",
    "        google_api_key=os.getenv(\"GOOGLE_API_KEY\")\n",
    "    )\n",
    "    print(\"✅ LLM (Gemini 2.5 Flash từ Google AI Studio) đã được khởi tạo thành công.\")\n",
    "except Exception as e:\n",
    "    print(f\"❌ LỖI: Không thể khởi tạo LLM. Hãy chắc chắn bạn đã cài 'langchain-google-genai' và có GOOGLE_API_KEY trong file .env. Lỗi: {e}\")\n",
    "    llm = None"
   ]
  },
  {
   "cell_type": "code",
   "execution_count": 42,
   "id": "0e17e6e5",
   "metadata": {},
   "outputs": [
    {
     "data": {
      "text/html": [
       "<pre style=\"white-space:pre;overflow-x:auto;line-height:normal;font-family:Menlo,'DejaVu Sans Mono',consolas,'Courier New',monospace\"><span style=\"color: #808000; text-decoration-color: #808000; font-weight: bold\">⚠️  Trí nhớ trống, không có gì để xây dựng vector store.</span>\n",
       "</pre>\n"
      ],
      "text/plain": [
       "\u001b[1;33m⚠️  Trí nhớ trống, không có gì để xây dựng vector store.\u001b[0m\n"
      ]
     },
     "metadata": {},
     "output_type": "display_data"
    }
   ],
   "source": [
    "# ==============================================================================\n",
    "# CELL 1.5: KHỞI TẠO VÀ QUẢN LÝ TRÍ NHỚ DÀI HẠN (NÂNG CẤP V9.4)\n",
    "# ==============================================================================\n",
    "MEMORY_FILE_PATH = \"long_term_memory.json\"\n",
    "memory_vector_store = None\n",
    "\n",
    "# Hàm để tải trí nhớ từ file JSON\n",
    "def load_memory():\n",
    "    if not os.path.exists(MEMORY_FILE_PATH):\n",
    "        return []\n",
    "    with open(MEMORY_FILE_PATH, 'r', encoding='utf-8') as f:\n",
    "        return json.load(f)\n",
    "\n",
    "# Hàm để lưu một giáo án mới vào trí nhớ\n",
    "def save_to_memory(request: str, structured_plan: Dict[str, Any]):\n",
    "    memory = load_memory()\n",
    "    memory.append({\n",
    "        \"request\": request,\n",
    "        \"plan\": structured_plan\n",
    "    })\n",
    "    with open(MEMORY_FILE_PATH, 'w', encoding='utf-8') as f:\n",
    "        json.dump(memory, f, ensure_ascii=False, indent=2)\n",
    "    print_step(\"🧠 Đã lưu giáo án thành công vào Trí nhớ Dài hạn.\")\n",
    "\n",
    "# Hàm để tạo một vector store từ trí nhớ (để tìm kiếm tương đồng)\n",
    "def build_memory_vector_store():\n",
    "    global memory_vector_store\n",
    "    memory_content = load_memory()\n",
    "    if not memory_content:\n",
    "        print_warning(\"Trí nhớ trống, không có gì để xây dựng vector store.\")\n",
    "        return\n",
    "\n",
    "    # Chỉ lấy phần 'request' để tìm kiếm\n",
    "    texts = [item['request'] for item in memory_content]\n",
    "    # Lưu toàn bộ item làm metadata\n",
    "    metadatas = memory_content\n",
    "    \n",
    "    memory_vector_store = FAISS.from_texts(texts, embeddings, metadatas=metadatas)\n",
    "    print_step(\"✅ Đã xây dựng Vector Store cho Trí nhớ Dài hạn.\")\n",
    "\n",
    "# Tự động xây dựng vector store khi khởi động notebook\n",
    "build_memory_vector_store()"
   ]
  },
  {
   "cell_type": "markdown",
   "id": "3ba01f0c",
   "metadata": {},
   "source": [
    "## PHẦN 2: ĐỊNH NGHĨA STATE CỦA HỆ THỐNG\n"
   ]
  },
  {
   "cell_type": "code",
   "execution_count": 43,
   "id": "9d8894ca",
   "metadata": {},
   "outputs": [
    {
     "data": {
      "text/html": [
       "<pre style=\"white-space:pre;overflow-x:auto;line-height:normal;font-family:Menlo,'DejaVu Sans Mono',consolas,'Courier New',monospace\">\n",
       "<span style=\"color: #008080; text-decoration-color: #008080; font-weight: bold\">&gt;</span> Đang tải và hợp nhất các kho tri thức từ <span style=\"color: #008080; text-decoration-color: #008080; font-weight: bold\">2</span> thư mục<span style=\"color: #808000; text-decoration-color: #808000\">...</span>\n",
       "</pre>\n"
      ],
      "text/plain": [
       "\n",
       "\u001b[1;36m>\u001b[0m Đang tải và hợp nhất các kho tri thức từ \u001b[1;36m2\u001b[0m thư mục\u001b[33m...\u001b[0m\n"
      ]
     },
     "metadata": {},
     "output_type": "display_data"
    },
    {
     "name": "stdout",
     "output_type": "stream",
     "text": [
      "✅ Đã tải thành công kho tri thức cơ sở: 'sgk_toan_12_1'\n",
      "✅ Đã hợp nhất thành công: 'sgk_toan_9'\n",
      "\n",
      "[bold green]✔️ Tất cả các kho tri thức RAG đã được tải và hợp nhất thành công.[/bold green]\n"
     ]
    }
   ],
   "source": [
    "# ==============================================================================\n",
    "# CELL 1.4: TẢI KHO TRI THỨC (RAG)\n",
    "# ==============================================================================\n",
    "# --- TẢI KHO TRI THỨC ---\n",
    "BASE_VECTOR_STORE_PATH = \"vector_store\"\n",
    "vector_store = None\n",
    "embeddings = HuggingFaceEmbeddings(model_name=\"all-MiniLM-L6-v2\")\n",
    "\n",
    "if os.path.exists(BASE_VECTOR_STORE_PATH):\n",
    "    subdirectories = [f.path for f in os.scandir(BASE_VECTOR_STORE_PATH) if f.is_dir()]\n",
    "    if not subdirectories:\n",
    "        print(f\"❌ LỖI: Không tìm thấy thư mục con nào trong '{BASE_VECTOR_STORE_PATH}'.\")\n",
    "    else:\n",
    "        try:\n",
    "            print_step(f\"Đang tải và hợp nhất các kho tri thức từ {len(subdirectories)} thư mục...\")\n",
    "            # Tải kho tri thức đầu tiên để làm cơ sở\n",
    "            first_store_path = subdirectories.pop(0)\n",
    "            vector_store = FAISS.load_local(first_store_path, embeddings, allow_dangerous_deserialization=True)\n",
    "            print(f\"✅ Đã tải thành công kho tri thức cơ sở: '{os.path.basename(first_store_path)}'\")\n",
    "\n",
    "            # Hợp nhất các kho tri thức còn lại\n",
    "            for store_path in subdirectories:\n",
    "                if os.path.exists(os.path.join(store_path, \"index.faiss\")):\n",
    "                    temp_store = FAISS.load_local(store_path, embeddings, allow_dangerous_deserialization=True)\n",
    "                    vector_store.merge_from(temp_store)\n",
    "                    print(f\"✅ Đã hợp nhất thành công: '{os.path.basename(store_path)}'\")\n",
    "                else:\n",
    "                    print_warning(f\"Bỏ qua thư mục '{os.path.basename(store_path)}' vì không chứa file index.faiss.\")\n",
    "            \n",
    "            print(\"\\n[bold green]✔️ Tất cả các kho tri thức RAG đã được tải và hợp nhất thành công.[/bold green]\")\n",
    "\n",
    "        except Exception as e:\n",
    "            print(f\"❌ LỖI trong quá trình tải hoặc hợp nhất kho tri thức: {e}\")\n",
    "else:\n",
    "    print(f\"❌ LỖI: Không tìm thấy thư mục gốc của kho tri thức tại '{BASE_VECTOR_STORE_PATH}'.\")\n"
   ]
  },
  {
   "cell_type": "code",
   "execution_count": 44,
   "id": "38cfae91",
   "metadata": {},
   "outputs": [
    {
     "name": "stdout",
     "output_type": "stream",
     "text": [
      "✅ 'TeacherStateV5' (v9.0 - Hỗ trợ Phân hóa & Cấu trúc) đã được định nghĩa.\n"
     ]
    }
   ],
   "source": [
    "# ==============================================================================\n",
    "# CELL 2.1: ĐỊNH NGHĨA STATE NÂNG CAO (v9.0)\n",
    "# ==============================================================================\n",
    "from typing import TypedDict, Annotated, List, Dict, Any, Literal, Optional, Union\n",
    "from langchain_core.messages import BaseMessage\n",
    "from langgraph.graph.message import add_messages\n",
    "import operator\n",
    "\n",
    "# --- Hàm tiện ích (giữ nguyên) ---\n",
    "def merge_dicts(dict1: Dict[str, Any], dict2: Dict[str, Any]) -> Dict[str, Any]:\n",
    "    merged = dict1.copy()\n",
    "    for key, value in dict2.items():\n",
    "        if key in merged and isinstance(merged[key], dict) and isinstance(value, dict):\n",
    "            merged[key] = merge_dicts(merged[key], value)\n",
    "        else:\n",
    "            merged[key] = value\n",
    "    return merged\n",
    "\n",
    "# --- Cấu trúc dữ liệu con (giữ nguyên) ---\n",
    "class DetailedTask(TypedDict):\n",
    "    task_id: int\n",
    "    task_name: str\n",
    "    task_description: str\n",
    "    estimated_duration: int \n",
    "    status: Literal[\"pending\", \"completed\"]\n",
    "\n",
    "# === NÂNG CẤP V9.0: CÁC CẤU TRÚC DỮ LIỆU MỚI CHO TƯ DUY SÂU ===\n",
    "class DifferentiatedInstruction(TypedDict):\n",
    "    \"\"\"Gợi ý cho việc dạy học phân hóa trong một hoạt động.\"\"\"\n",
    "    for_struggling_students: str\n",
    "    for_advanced_students: str\n",
    "\n",
    "class StructuredContentItem(TypedDict):\n",
    "    \"\"\"Định nghĩa một hoạt động hoặc đánh giá có cấu trúc.\"\"\"\n",
    "    task_id: int\n",
    "    activity_name: str\n",
    "    question_or_description: str # Gộp 'question' và 'description'\n",
    "    duration_minutes: int\n",
    "    content_type: str # Gộp 'activity_type' và 'question_type'\n",
    "    teacher_actions: List[str]\n",
    "    solution_guide: Any\n",
    "    answer: Optional[str] # Dành cho câu hỏi đánh giá\n",
    "    differentiation: Optional[DifferentiatedInstruction]\n",
    "\n",
    "class FinalStructuredPlan(TypedDict):\n",
    "    \"\"\"Định nghĩa cấu trúc JSON cho giáo án cuối cùng.\"\"\"\n",
    "    general_info: Dict[str, Any]\n",
    "    learning_objectives: List[str]\n",
    "    preparation: Dict[str, List[str]]\n",
    "    knowledge_summary: str\n",
    "    lesson_flow: List[StructuredContentItem]\n",
    "    # pedagogical_explainer: Dict[str, Any] # Dành cho nâng cấp tương lai\n",
    "\n",
    "# === NÂNG CẤP V9.0: STATE MỚI VỚI CÁC TRƯỜNG TRÍ TUỆ MỚI ===\n",
    "class TeacherStateV5(TypedDict):\n",
    "    # Các trường cơ bản\n",
    "    original_request: str\n",
    "    messages: Annotated[List[BaseMessage], add_messages]\n",
    "    domain: Optional[str]\n",
    "    \n",
    "    # === NÂNG CẤP: student_persona giờ sẽ chứa cả chiến lược phân hóa ===\n",
    "    student_persona: Optional[Dict[str, Any]] \n",
    "    \n",
    "    # Các bước tuần tự ban đầu\n",
    "    analyzed_objective: Optional[Any]\n",
    "    pedagogy_strategy: Optional[Any]\n",
    "    pedagogical_blueprint: Optional[List[str]]\n",
    "\n",
    "    # Các trường nâng cao\n",
    "    expanded_queries: Optional[List[str]]\n",
    "    task_list: Optional[List[DetailedTask]]\n",
    "    current_task_id: Optional[int]\n",
    "    reflection_notes: Optional[str]\n",
    "    agent_outputs: Annotated[Dict[str, Any], merge_dicts] \n",
    "    next_agent: str\n",
    "    \n",
    "    # Các trường tạm thời cho vòng lặp kiểm duyệt vi mô (Micro-loop)\n",
    "    current_content_to_validate: Optional[Dict[str, Any]]\n",
    "    validation_feedback: Optional[str]\n",
    "\n",
    "    inspirational_example: Optional[List[Dict[str, Any]]]\n",
    "\n",
    "    # === NÂNG CẤP: Output cuối cùng sẽ có 2 dạng ===\n",
    "    final_structured_plan: Optional[FinalStructuredPlan] # Dạng JSON có cấu trúc\n",
    "    final_markdown_plan: Optional[str] # Dạng Markdown để hiển thị\n",
    "\n",
    "print(\"✅ 'TeacherStateV5' (v9.0 - Hỗ trợ Phân hóa & Cấu trúc) đã được định nghĩa.\")"
   ]
  },
  {
   "cell_type": "code",
   "execution_count": 45,
   "id": "deb1ba5e",
   "metadata": {},
   "outputs": [
    {
     "name": "stdout",
     "output_type": "stream",
     "text": [
      "✅ Node khởi tạo 'initialize_state_node' đã được định nghĩa.\n"
     ]
    }
   ],
   "source": [
    "# ==============================================================================\n",
    "# CELL 2.2: NODE KHỞI TẠO STATE\n",
    "# ==============================================================================\n",
    "def initialize_state_node(state: TeacherStateV5) -> Dict[str, Any]:\n",
    "    \"\"\"\n",
    "    Node đầu tiên trong graph.\n",
    "    Lấy yêu cầu gốc từ tin nhắn đầu vào và điền vào trường 'original_request'.\n",
    "    \"\"\"\n",
    "    print_step(\"`Initializer`: Đang khởi tạo trạng thái và lấy yêu cầu gốc...\")\n",
    "    user_request = state['messages'][-1].content\n",
    "    return {\"original_request\": user_request}\n",
    "\n",
    "print(\"✅ Node khởi tạo 'initialize_state_node' đã được định nghĩa.\")"
   ]
  },
  {
   "cell_type": "markdown",
   "id": "924d794f",
   "metadata": {},
   "source": [
    "## PHẦN 3: ĐỊNH NGHĨA CÁC AGENT"
   ]
  },
  {
   "cell_type": "code",
   "execution_count": 46,
   "id": "8cc95063",
   "metadata": {},
   "outputs": [
    {
     "name": "stdout",
     "output_type": "stream",
     "text": [
      "✅ Các cấu trúc dữ liệu Pydantic (v9.7 - Hoạt động Linh hoạt) đã được định nghĩa.\n"
     ]
    }
   ],
   "source": [
    "# ==============================================================================\n",
    "# CELL 3.1: HÀM TIỆN ÍCH & CẤU TRÚC DỮ LIỆU (v9.7 - TƯ DUY LINH HOẠT)\n",
    "# ==============================================================================\n",
    "import json\n",
    "from pydantic.v1 import BaseModel, Field, schema_json_of\n",
    "from typing import List, Dict, Any, Literal, Optional\n",
    "\n",
    "# --- Các hàm tiện ích giữ nguyên ---\n",
    "def format_solution_guide(guide: Any) -> str:\n",
    "    if not guide: return \"Chưa có hướng dẫn.\"\n",
    "    if isinstance(guide, str): return guide\n",
    "    if isinstance(guide, list): return \"\\n\".join(f\"- {step}\" for step in guide)\n",
    "    if isinstance(guide, dict): return \"\\n\".join(f\"- {key.replace('_', ' ').title()}: {value}\" for key, value in guide.items())\n",
    "    return str(guide)\n",
    "\n",
    "def format_teacher_actions(actions: Optional[List[str]]) -> str:\n",
    "    if not actions: return \"Giáo viên quan sát và hỗ trợ chung.\"\n",
    "    return \"\\n\".join(f\"  - {action}\" for action in actions)\n",
    "\n",
    "def update_agent_outputs(state: \"TeacherStateV5\", key: str, value: Any) -> Dict[str, Any]:\n",
    "    outputs = state.get(\"agent_outputs\", {}).copy()\n",
    "    if key not in outputs: outputs[key] = []\n",
    "    outputs[key].append(value)\n",
    "    return {\"agent_outputs\": outputs}\n",
    "\n",
    "SYSTEM_PERSONA_PROMPT = \"BẠN LÀ MỘT TRỢ LÝ AI CHUYÊN NGHIỆP, ĐÓNG VAI TRÒ MỘT GIÁO VIÊN GIÀU KINH NGHIỆM TẠI VIỆT NAM. LUÔN LUÔN trả lời bằng TIẾNG VIỆT.\"\n",
    "\n",
    "# === CẬP NHẬT CẤU TRÚC HOẠT ĐỘNG LINH HOẠT ===\n",
    "class DifferentiatedInstructionModel(BaseModel):\n",
    "    for_struggling_students: str = Field(description=\"Gợi ý cụ thể cho nhóm học sinh yếu/gặp khó khăn.\")\n",
    "    for_advanced_students: str = Field(description=\"Gợi ý, thử thách hoặc hoạt động nâng cao cho nhóm học sinh giỏi.\")\n",
    "\n",
    "class LearningActivity(BaseModel):\n",
    "    activity_name: str = Field(description=\"Tên của hoạt động học tập.\")\n",
    "    activity_type: str = Field(description=\"Phân loại hoạt động. Ví dụ: 'Thảo luận nhóm', 'Thực hành cá nhân'\")\n",
    "    duration_minutes: int = Field(description=\"Tổng thời gian ước tính (bằng SỐ PHÚT) cho cả hai phần.\")\n",
    "    teacher_actions: List[str] = Field(description=\"Danh sách các hành động CỤ THỂ của GIÁO VIÊN.\")\n",
    "    # Thay 'description' bằng cấu trúc Lõi/Mở rộng\n",
    "    core_component: str = Field(description=\"Mô tả phần hoạt động CỐT LÕI mà TẤT CẢ học sinh cần hoàn thành.\")\n",
    "    extension_component: Optional[str] = Field(description=\"Mô tả phần hoạt động MỞ RỘNG dành cho học sinh làm nhanh hoặc nếu còn dư thời gian.\")\n",
    "    solution_guide: Optional[Any] = Field(description=\"Hướng dẫn giải hoặc các câu hỏi gợi mở.\")\n",
    "    differentiation: Optional[DifferentiatedInstructionModel] = Field(description=\"Gợi ý phân hóa cụ thể cho hoạt động này.\")\n",
    "\n",
    "class AssessmentItem(BaseModel):\n",
    "    activity_name: str = Field(description=\"Tên của hoạt động đánh giá.\")\n",
    "    question_type: str = Field(description=\"Loại câu hỏi. Ví dụ: 'Tự luận', 'Trắc nghiệm'\")\n",
    "    duration_minutes: int = Field(description=\"Tổng thời gian ước tính (bằng SỐ PHÚT) cho cả hai phần.\")\n",
    "    teacher_actions: List[str] = Field(description=\"Danh sách các hành động CỤ THỂ của GIÁO VIÊN.\")\n",
    "    # Thay 'question' bằng cấu trúc Lõi/Mở rộng\n",
    "    core_component: str = Field(description=\"Nội dung câu hỏi hoặc đề bài CỐT LÕI mà TẤT CẢ học sinh cần hoàn thành.\")\n",
    "    extension_component: Optional[str] = Field(description=\"Câu hỏi phụ hoặc thử thách MỞ RỘNG dành cho học sinh làm nhanh hoặc nếu còn dư thời gian.\")\n",
    "    answer: str = Field(description=\"Đáp án chính xác và ngắn gọn cho phần CỐT LÕI.\")\n",
    "    solution_guide: Any = Field(description=\"Hướng dẫn giải chi tiết từng bước.\")\n",
    "    differentiation: Optional[DifferentiatedInstructionModel] = Field(description=\"Gợi ý phân hóa cụ thể cho hoạt động này.\")\n",
    "\n",
    "# --- Các model khác giữ nguyên ---\n",
    "class StudentPersona(BaseModel):\n",
    "    learning_pace: Literal[\"nhanh\", \"trung bình\", \"chậm\"] = Field(description=\"Tốc độ học tập chung của lớp.\")\n",
    "    engagement_style: Literal[\"chủ động\", \"thụ động\", \"hỗn hợp\"] = Field(description=\"Mức độ tham gia chung của lớp.\")\n",
    "    special_notes: str = Field(description=\"Tóm tắt các đặc điểm nổi bật của lớp học.\")\n",
    "\n",
    "class StudentPersonaAndDifferentiation(StudentPersona):\n",
    "    differentiation_strategy: DifferentiatedInstructionModel = Field(description=\"Chiến lược dạy học phân hóa tổng thể cho cả bài học dựa trên các đặc điểm của lớp.\")\n",
    "\n",
    "class DetailedTaskModel(BaseModel):\n",
    "    task_name: str = Field(description=\"Tên của nhiệm vụ này.\")\n",
    "    task_description: str = Field(description=\"Mô tả chi tiết nhiệm vụ cần thực hiện.\")\n",
    "    estimated_duration: int = Field(description=\"Thời gian ước tính (bằng phút) cho nhiệm vụ này.\")\n",
    "\n",
    "class TaskListWithDuration(BaseModel):\n",
    "    tasks: List[DetailedTaskModel]\n",
    "\n",
    "class DetailedPedagogyChoice(BaseModel):\n",
    "    name: str = Field(description=\"Tên của phương pháp sư phạm được chọn.\")\n",
    "    rationale: str = Field(description=\"Lý do tại sao phương pháp này phù hợp.\")\n",
    "    key_actions: List[str] = Field(description=\"Danh sách các hành động/hoạt động cốt lõi đặc trưng cho phương pháp này.\")\n",
    "\n",
    "class ValidationResult(BaseModel):\n",
    "    is_valid: bool = Field(description=\"Nội dung có hợp lệ và chính xác về mặt chuyên môn không.\")\n",
    "    feedback: str = Field(description=\"Phản hồi chi tiết. Nếu không hợp lệ, hãy giải thích rõ ràng lỗi sai và gợi ý cách sửa.\")\n",
    "    suggested_duration: Optional[int] = Field(default=None, description=\"Nếu có lỗi về thời gian, hãy đề xuất một thời lượng hợp lý hơn (tính bằng SỐ PHÚT).\")\n",
    "\n",
    "class Domain(BaseModel): domain: str = Field(description=\"Lĩnh vực học thuật chính của yêu cầu.\")\n",
    "class ExpandedQueries(BaseModel): queries: List[str]\n",
    "class BestSnippets(BaseModel): best_snippets: List[str]\n",
    "class ParsedObjective(BaseModel): action_verb: str; bloom_level: int; topic: str; grade_level: str; duration_minutes: Optional[int]\n",
    "class TaskClassification(BaseModel): agent_category: Literal[\"activity_designer\", \"theory_synthesizer\", \"assessment_creator\"]\n",
    "class BlueprintStage(BaseModel): stage_name: str; stage_objective: str; stage_direction: str\n",
    "class PedagogicalBlueprint(BaseModel): blueprint: List[BlueprintStage]\n",
    "\n",
    "print(\"✅ Các cấu trúc dữ liệu Pydantic (v9.7 - Hoạt động Linh hoạt) đã được định nghĩa.\")"
   ]
  },
  {
   "cell_type": "code",
   "execution_count": 47,
   "id": "be758847",
   "metadata": {},
   "outputs": [
    {
     "name": "stdout",
     "output_type": "stream",
     "text": [
      "✅ Các agent phân tích yêu cầu ban đầu (v9.0 - Hỗ trợ Phân hóa) đã sẵn sàng.\n"
     ]
    }
   ],
   "source": [
    "# ==============================================================================\n",
    "# CELL 3.2: AGENT PHÂN TÍCH YÊU CẦU BAN ĐẦU (NÂNG CẤP V9.0)\n",
    "# ==============================================================================\n",
    "async def objective_interpreter_agent(state: \"TeacherStateV5\") -> Dict[str, Any]:\n",
    "    print_step(\"`Agent: Objective Interpreter` (v7.5) đang phân tích mục tiêu...\")\n",
    "    prompt = f\"{SYSTEM_PERSONA_PROMPT}\\n**NHIỆM VỤ:** Đọc yêu cầu của người dùng và trích xuất các thông tin sau.\\n**YÊU CẦU:** \\\"{state['original_request']}\\\"\\n**CÁC TRƯỜNG CẦN TRÍCH XUẤT:** `action_verb`, `bloom_level` (SỐ NGUYÊN), `topic`, `grade_level`, `duration_minutes`.\\n**CHỈ TRẢ VỀ JSON.**\"\n",
    "    structured_llm = llm.with_structured_output(ParsedObjective, method=\"json_mode\")\n",
    "    try:\n",
    "        parsed_result = await structured_llm.ainvoke(prompt)\n",
    "        analyzed_objective_dict = parsed_result.dict()\n",
    "        analyzed_objective_dict['constraints'] = {'duration_minutes': parsed_result.duration_minutes}\n",
    "        del analyzed_objective_dict['duration_minutes']\n",
    "        print_result(analyzed_objective_dict, \"Mục tiêu & Ràng buộc đã phân tích\")\n",
    "        return {\"analyzed_objective\": analyzed_objective_dict}\n",
    "    except Exception as e:\n",
    "        print_warning(f\"Lỗi tại Objective Interpreter: {e}. Sử dụng mục tiêu mặc định.\")\n",
    "        return {\"analyzed_objective\": { \"action_verb\": \"soạn\", \"bloom_level\": 3, \"topic\": state['original_request'], \"grade_level\": \"9\", \"constraints\": {\"duration_minutes\": 90} }}\n",
    "\n",
    "async def domain_classifier_agent(state: \"TeacherStateV5\") -> Dict[str, Any]:\n",
    "    print_step(\"`Agent: Domain Classifier` (v7.5) đang xác định lĩnh vực chuyên môn...\")\n",
    "    prompt = f\"{SYSTEM_PERSONA_PROMPT}\\n**NHIỆM VỤ:** Đọc yêu cầu của người dùng và xác định lĩnh vực học thuật chính.\\n**YÊU CẦU:** \\\"{state['original_request']}\\\"\\n**LĨNH VỰC CÓ THỂ CHỌN:** 'Toán học', 'Vật lý', 'Hóa học', 'Sinh học', 'Văn học', 'Lịch sử', 'Địa lý', 'Ngoại ngữ', 'Tin học'.\\n**YÊU CẦU ĐỊNH DẠNG:** Trả về JSON với key `domain`.\"\n",
    "    structured_llm = llm.with_structured_output(Domain, method=\"json_mode\")\n",
    "    try:\n",
    "        result = await structured_llm.ainvoke(prompt)\n",
    "        print_result(result.domain, \"Lĩnh vực chuyên môn được xác định\")\n",
    "        return {\"domain\": result.domain}\n",
    "    except Exception as e:\n",
    "        print_warning(f\"Lỗi tại Domain Classifier: {e}. Sử dụng lĩnh vực mặc định 'Toán học'.\")\n",
    "        return {\"domain\": \"Toán học\"}\n",
    "\n",
    "# === NÂNG CẤP: Agent này giờ đây là một nhà tư vấn chiến lược ===\n",
    "# === SỬA LỖI PARSING: Prompt được làm rõ ràng hơn về cấu trúc lồng nhau ===\n",
    "async def differentiated_instruction_advisor_agent(state: \"TeacherStateV5\") -> Dict[str, Any]:\n",
    "    print_step(\"`Agent: Differentiated Instruction Advisor` (v9.1) đang phân tích và đề xuất chiến lược phân hóa...\")\n",
    "    prompt = f\"\"\"{SYSTEM_PERSONA_PROMPT}\n",
    "    **VAI TRÒ:** Bạn là một chuyên gia sư phạm, chuyên về dạy học phân hóa.\n",
    "    **NHIỆM VỤ:** Phân tích mô tả về lớp học dưới đây và đề xuất một chiến lược dạy học phân hóa TỔNG THỂ cho cả buổi học.\n",
    "    **YÊU CẦU CỦA GIÁO VIÊN:** \"{state['original_request']}\"\n",
    "    \n",
    "    **CÁC BƯỚC SUY LUẬN (BẮT BUỘC):**\n",
    "    1.  **Phân tích Đặc điểm:** Dựa vào các từ khóa, hãy xác định `learning_pace`, `engagement_style`, và tóm tắt vào `special_notes`.\n",
    "    2.  **Đề xuất Chiến lược Phân hóa:** Dựa trên phân tích trên, hãy điền vào đối tượng `differentiation_strategy`. Đây PHẢI là một đối tượng JSON có 2 trường sau:\n",
    "        -   `for_struggling_students`: Một chiến lược cụ thể để **hỗ trợ** nhóm học sinh có thể gặp khó khăn. (Ví dụ: \"Chia nhỏ nhiệm vụ, cung cấp phiếu bài tập có gợi ý công thức, cho phép thêm thời gian.\")\n",
    "        -   `for_advanced_students`: Một chiến lược cụ thể để **thử thách** nhóm học sinh khá giỏi. (Ví dụ: \"Chuẩn bị các câu hỏi mở rộng 'Tại sao?' và 'Nếu... thì sao?', giao một bài toán ứng dụng thực tế nhỏ.\")\n",
    "\n",
    "    **YÊU CẦU ĐỊNH DẠNG:** BẮT BUỘC trả về một đối tượng JSON duy nhất tuân thủ schema `StudentPersonaAndDifferentiation`. Trường `differentiation_strategy` PHẢI là một object lồng vào bên trong.\n",
    "    \"\"\"\n",
    "    structured_llm = llm.with_structured_output(StudentPersonaAndDifferentiation, method=\"json_mode\")\n",
    "    try:\n",
    "        result = await structured_llm.ainvoke(prompt)\n",
    "        print_result(result.dict(), \"Hồ sơ lớp học và Chiến lược Phân hóa\")\n",
    "        return {\"student_persona\": result.dict()}\n",
    "    except Exception as e:\n",
    "        print_warning(f\"Lỗi tại Differentiated Instruction Advisor: {e}. Sử dụng hồ sơ mặc định.\")\n",
    "        fallback_persona = {\n",
    "            \"learning_pace\": \"trung bình\",\n",
    "            \"engagement_style\": \"hỗn hợp\",\n",
    "            \"special_notes\": \"Không có ghi chú đặc biệt.\",\n",
    "            \"differentiation_strategy\": {\n",
    "                \"for_struggling_students\": \"Quan sát và hỗ trợ thêm khi cần thiết.\",\n",
    "                \"for_advanced_students\": \"Khuyến khích các em tìm tòi thêm.\"\n",
    "            }\n",
    "        }\n",
    "        return {\"student_persona\": fallback_persona}\n",
    "\n",
    "print(\"✅ Các agent phân tích yêu cầu ban đầu (v9.0 - Hỗ trợ Phân hóa) đã sẵn sàng.\")"
   ]
  },
  {
   "cell_type": "code",
   "execution_count": 48,
   "id": "68b5bcd8",
   "metadata": {},
   "outputs": [
    {
     "name": "stdout",
     "output_type": "stream",
     "text": [
      "✅ Các agent lập kế hoạch chiến lược đã sẵn sàng.\n"
     ]
    }
   ],
   "source": [
    "# ==============================================================================\n",
    "# CELL 3.3: AGENT LẬP KẾ HOẠCH CHIẾN LƯỢC (v7.5)\n",
    "# ==============================================================================\n",
    "async def pedagogy_strategist_agent(state: \"TeacherStateV5\") -> Dict[str, Any]:\n",
    "    print_step(\"`Agent: Pedagogy Strategist` (v7.5) đang xây dựng chiến lược sư phạm chi tiết...\")\n",
    "    prompt = f\"\"\"{SYSTEM_PERSONA_PROMPT}\n",
    "    **MỤC TIÊU BÀI HỌC:** {state.get('analyzed_objective')}\n",
    "    **HỒ SƠ LỚP HỌC:** {state.get('student_persona')}\n",
    "    **NHIỆM VỤ:** Dựa vào mục tiêu và hồ sơ lớp học, hãy chọn MỘT phương pháp sư phạm phù hợp nhất. Sau đó, phân tích phương pháp đó thành các hành động cốt lõi.\n",
    "    **VÍ DỤ:** Nếu chọn 'Dạy học theo dự án', key_actions có thể là [\"Giao dự án\", \"Học sinh làm việc nhóm\", \"Báo cáo sản phẩm\"].\n",
    "    **YÊU CẦU ĐỊNH DẠNG:** Trả về JSON với các key `name`, `rationale`, `key_actions`.\n",
    "    \"\"\"\n",
    "    structured_llm = llm.with_structured_output(DetailedPedagogyChoice, method=\"json_mode\")\n",
    "    try:\n",
    "        result = await structured_llm.ainvoke(prompt)\n",
    "        print_result(result.dict(), \"Chiến lược sư phạm chi tiết\")\n",
    "        return {\"pedagogy_strategy\": result.dict()}\n",
    "    except Exception as e:\n",
    "        print_warning(f\"Lỗi tại Pedagogy Strategist: {e}. Sử dụng chiến lược mặc định.\")\n",
    "        return {\"pedagogy_strategy\": {\"name\": \"Dạy học giải quyết vấn đề\", \"rationale\": \"Mặc định do lỗi.\", \"key_actions\": [\"Nêu vấn đề\", \"Học sinh tìm giải pháp\", \"Trình bày kết quả\"]}}\n",
    "\n",
    "async def pedagogical_architect_agent(state: \"TeacherStateV5\") -> Dict[str, Any]:\n",
    "    print_step(\"`Agent: Pedagogical Architect` (v9.4) đang thiết kế kịch bản buổi học...\")\n",
    "    \n",
    "    inspirational_example = state.get(\"inspirational_example\")\n",
    "    example_prompt_part = \"\"\n",
    "    if inspirational_example:\n",
    "        example_prompt_part = f\"\"\"\n",
    "        **VÍ DỤ THAM KHẢO (TỪ MỘT GIÁO ÁN THÀNH CÔNG TRƯỚC ĐÂY):**\n",
    "        Đây là một luồng hoạt động đã được chứng minh là hiệu quả cho một chủ đề tương tự. Hãy học hỏi cấu trúc và cách tiếp cận từ nó:\n",
    "        ```json\n",
    "        {json.dumps(inspirational_example, ensure_ascii=False, indent=2)}\n",
    "        ```\n",
    "        \"\"\"\n",
    "    \n",
    "    prompt = f\"\"\"{SYSTEM_PERSONA_PROMPT} Với vai trò là một chuyên gia thiết kế trải nghiệm học tập.\n",
    "    **NHIỆM VỤ:** Xây dựng một \"Bản thiết kế Sư phạm\" - một kịch bản CẤP CAO cho buổi học.\n",
    "    \n",
    "    {example_prompt_part}\n",
    "    **QUY TẮC:**\n",
    "    1.  Tạo ra 3-5 giai đoạn chính cho dòng chảy của buổi học.\n",
    "    2.  Mỗi giai đoạn phải có tên (`stage_name`), mục tiêu (`stage_objective`), và định hướng (`stage_direction`).\n",
    "    3.  Đảm bảo độ khó tăng tiến qua các giai đoạn.\n",
    "    **THÔNG TIN PHÂN TÍCH:**\n",
    "    - Mục tiêu: {state.get('analyzed_objective')}\n",
    "    - Hồ sơ lớp học: {state.get('student_persona')}\n",
    "    - Chiến lược Sư phạm: {state.get('pedagogy_strategy')}\n",
    "    **YÊU CẦU ĐỊNH DẠNG:** Trả về JSON với key là `blueprint`, giá trị là một danh sách các đối tượng Stage.\n",
    "    \"\"\"\n",
    "    structured_llm = llm.with_structured_output(PedagogicalBlueprint, method=\"json_mode\")\n",
    "    try:\n",
    "        result = await structured_llm.ainvoke(prompt)\n",
    "        blueprint_list_of_strings = [f\"{stage.stage_name}: {stage.stage_direction}\" for stage in result.blueprint]\n",
    "        print_result(blueprint_list_of_strings, \"Bản thiết kế Sư phạm đã được tạo\")\n",
    "        return {\"pedagogical_blueprint\": blueprint_list_of_strings}\n",
    "    except Exception as e:\n",
    "        print_warning(f\"Lỗi tại Pedagogical Architect: {e}. Sử dụng blueprint mặc định.\")\n",
    "        return {\"pedagogical_blueprint\": [\"Giai đoạn 1: Giới thiệu bài học\", \"Giai đoạn 2: Luyện tập\", \"Giai đoạn 3: Đánh giá\"]}\n",
    "\n",
    "async def memory_retrieval_agent(state: \"TeacherStateV5\") -> Dict[str, Any]:\n",
    "    print_step(\"`Agent: Memory Retrieval` (v9.4) đang tìm kiếm trong trí nhớ...\")\n",
    "    \n",
    "    if not memory_vector_store:\n",
    "        print_warning(\"Không có Trí nhớ Dài hạn. Bỏ qua bước này.\")\n",
    "        return {\"inspirational_example\": None}\n",
    "\n",
    "    user_request = state[\"original_request\"]\n",
    "    \n",
    "    # Tìm kiếm 1 ví dụ tương đồng nhất trong trí nhớ\n",
    "    try:\n",
    "        results = memory_vector_store.similarity_search_with_score(user_request, k=1)\n",
    "        if results and results[0][1] < 0.5: # Chỉ lấy nếu độ tương đồng cao (điểm score thấp là tốt)\n",
    "            best_example = results[0][0].metadata\n",
    "            print_result(best_example['request'], \"Tìm thấy ví dụ tương đồng trong trí nhớ\")\n",
    "            # Chỉ trả về phần \"lesson_flow\" để làm ví dụ\n",
    "            return {\"inspirational_example\": best_example['plan']['lesson_flow']}\n",
    "        else:\n",
    "            print_step(\"Không tìm thấy ví dụ nào đủ tương đồng trong trí nhớ.\")\n",
    "            return {\"inspirational_example\": None}\n",
    "    except Exception as e:\n",
    "        print_warning(f\"Lỗi khi truy xuất trí nhớ: {e}\")\n",
    "        return {\"inspirational_example\": None}\n",
    "    \n",
    "print(\"✅ Các agent lập kế hoạch chiến lược đã sẵn sàng.\")"
   ]
  },
  {
   "cell_type": "code",
   "execution_count": 49,
   "id": "220113cd",
   "metadata": {},
   "outputs": [
    {
     "name": "stdout",
     "output_type": "stream",
     "text": [
      "✅ Các agent RAG đã sẵn sàng.\n"
     ]
    }
   ],
   "source": [
    "# ==============================================================================\n",
    "# CELL 3.4: AGENT TRUY XUẤT VÀ TỔNG HỢP KIẾN THỨC (RAG) (v7.5)\n",
    "# ==============================================================================\n",
    "async def query_expansion_agent(state: \"TeacherStateV5\") -> Dict[str, Any]:\n",
    "    print_step(\"`Agent: Query Expansion` (v7.5) đang phân tích yêu cầu...\")\n",
    "    prompt = f\"{SYSTEM_PERSONA_PROMPT}\\n**NHIỆM VỤ:** Tạo ra các cụm từ tìm kiếm đa dạng bằng tiếng Việt để tìm tài liệu.\\n**CHỦ ĐỀ:** \\\"{state.get('analyzed_objective', {}).get('topic', '')}\\\"\\n**LĨNH VỰC:** {state.get('domain', 'Chung')}\\n**YÊU CẦU ĐỊNH DẠNG:** Trả về JSON với key `queries`.\"\n",
    "    structured_llm = llm.with_structured_output(ExpandedQueries, method=\"json_mode\")\n",
    "    try:\n",
    "        response = await structured_llm.ainvoke(prompt)\n",
    "        print_result(response.queries, \"Các truy vấn tìm kiếm đã được mở rộng\")\n",
    "        return {\"expanded_queries\": response.queries}\n",
    "    except Exception as e:\n",
    "        print_warning(f\"Lỗi tại Query Expansion: {e}. Sử dụng truy vấn gốc.\")\n",
    "        return {\"expanded_queries\": [state.get('analyzed_objective', {}).get('topic', '')]}\n",
    "\n",
    "async def resource_scout_agent_v2(state: \"TeacherStateV5\") -> Dict[str, Any]:\n",
    "    print_step(\"`Agent: Resource Scout` (v8.1 - Sửa lỗi) đang tìm kiếm và sàng lọc...\")\n",
    "    retriever = vector_store.as_retriever(search_kwargs={\"k\": 5})\n",
    "    all_docs = []\n",
    "    queries = state.get('expanded_queries', [state.get('analyzed_objective', {}).get('topic', '')])\n",
    "    for query in queries:\n",
    "        all_docs.extend(retriever.invoke(query))\n",
    "    unique_docs_content = list({doc.page_content for doc in all_docs})[:8]\n",
    "    print_step(f\"Tìm thấy {len(all_docs)} tài liệu, sàng lọc còn {len(unique_docs_content)} đoạn văn bản độc nhất.\")\n",
    "    \n",
    "    # --- Phần Re-ranker giữ nguyên ---\n",
    "    rerank_prompt = f\"{SYSTEM_PERSONA_PROMPT}\\n**NHIỆM VỤ:** Đọc yêu cầu gốc và chọn ra 3-4 đoạn văn bản tiếng Việt phù hợp NHẤT từ danh sách dưới đây.\\n**YÊU CẦU GỐC:** \\\"{state.get('original_request', '')}\\\"\\n**DANH SÁCH TÀI LIỆU:** {json.dumps(unique_docs_content, ensure_ascii=False)}\\n**YÊU CẦU ĐỊNH DẠNG:** Trả về JSON với key `best_snippets`.\"\n",
    "    structured_llm_reranker = llm.with_structured_output(BestSnippets, method=\"json_mode\")\n",
    "    best_snippets_text = \"\\n\\n---\\n\\n\".join(unique_docs_content)\n",
    "    try:\n",
    "        reranked_result = await structured_llm_reranker.ainvoke(rerank_prompt)\n",
    "        best_snippets_text = \"\\n\\n---\\n\\n\".join(reranked_result.best_snippets)\n",
    "    except Exception as e:\n",
    "        print_warning(f\"Lỗi tại Re-ranker: {e}. Sử dụng tất cả tài liệu.\")\n",
    "\n",
    "    # === ĐẠI TU PROMPT TÓM TẮT ===\n",
    "    summary_prompt = f\"\"\"{SYSTEM_PERSONA_PROMPT}\n",
    "    **VAI TRÒ:** Bạn là một chuyên gia tổng hợp thông tin.\n",
    "    **NHIỆM VỤ DUY NHẤT:** Dựa **CHỈ** vào các đoạn văn bản dưới đây, hãy viết một bản **TÓM TẮT KIẾN THỨC CỐT LÕI** về chủ đề \"{state.get('analyzed_objective', {}).get('topic', '')}\".\n",
    "\n",
    "    **QUY TẮC TUYỆT ĐỐI:**\n",
    "    1.  **CHỈ DÙNG THÔNG TIN ĐƯỢC CUNG CẤP:** Tuyệt đối không được bình luận về chất lượng của các đoạn văn bản. Không được \"từ chối\" tóm tắt.\n",
    "    2.  **TỔNG HỢP & SUY LUẬN:** Nhiệm vụ của bạn là đọc tất cả các mẩu thông tin (kể cả từ các bài tập) và suy luận ra các định nghĩa, tính chất cốt lõi nhất.\n",
    "    3.  **CẤU TRÚC RÕ RÀNG:** Trình bày bản tóm tắt một cách mạch lạc, có đầu mục rõ ràng (ví dụ: 1. Định nghĩa, 2. Tính chất...).\n",
    "    4.  **TRẢ VỀ TÓM TẮT:** Luôn luôn trả về một bản tóm tắt, ngay cả khi nó ngắn gọn do thông tin hạn chế.\n",
    "\n",
    "    **CÁC ĐOẠN VĂN BẢN ĐỂ TÓM TẮT:**\n",
    "    {best_snippets_text}\n",
    "    \"\"\"\n",
    "    summary = \"Chưa có bản tóm tắt kiến thức.\"\n",
    "    try:\n",
    "        summary_response = await llm.ainvoke(summary_prompt)\n",
    "        summary = summary_response.content\n",
    "    except Exception as e:\n",
    "        print_warning(f\"Lỗi tại bước tóm tắt: {e}.\")\n",
    "        \n",
    "    resource = {\"source\": \"Sách giáo khoa (từ RAG - đã sàng lọc)\", \"summary\": summary}\n",
    "    print_result(resource, \"Tài liệu RAG cuối cùng\")\n",
    "    return update_agent_outputs(state, \"resources\", resource)\n",
    "\n",
    "print(\"✅ Các agent RAG đã sẵn sàng.\")"
   ]
  },
  {
   "cell_type": "code",
   "execution_count": 50,
   "id": "6eac918a",
   "metadata": {},
   "outputs": [
    {
     "name": "stdout",
     "output_type": "stream",
     "text": [
      "✅ Các agent giao việc và chuyên môn (v9.7 - Tư duy Linh hoạt) đã sẵn sàng.\n"
     ]
    }
   ],
   "source": [
    "# ==============================================================================\n",
    "# CELL 3.5: AGENT GIAO VIỆC VÀ AGENT CHUYÊN MÔN (v9.7 - TƯ DUY LINH HOẠT)\n",
    "# ==============================================================================\n",
    "\n",
    "# --- HÀM plan_delegator_agent GIỮ NGUYÊN TỪ GIẢI PHÁP TRƯỚC ---\n",
    "# (Dán lại hàm plan_delegator_agent đã sửa ở lần trước vào đây)\n",
    "async def plan_delegator_agent(state: \"TeacherStateV5\") -> Dict[str, Any]:\n",
    "    print_step(\"`Agent: Plan Delegator` (v9.7 - Tư duy Linh hoạt) đang triển khai Bản thiết kế...\")\n",
    "    \n",
    "    blueprint = state.get('pedagogical_blueprint', [])\n",
    "    topic = state.get('analyzed_objective', {}).get('topic', 'chủ đề đã cho')\n",
    "    reflection_notes = state.get('reflection_notes')\n",
    "\n",
    "    replan_prompt_part = \"\"\n",
    "    if reflection_notes and \"Tổng thời gian\" in reflection_notes:\n",
    "        print_warning(f\"Nhận được yêu cầu làm lại kế hoạch từ Compiler: {reflection_notes}\")\n",
    "        replan_prompt_part = f\"\"\"\n",
    "        **MỆNH LỆNH TỪ VÒNG LẶP TRƯỚC:**\n",
    "        \"{reflection_notes}\"\n",
    "        Kế hoạch trước đã thất bại vì TỔNG THỜI GIAN vượt quá giới hạn.\n",
    "        **HƯỚNG DẪN SỬA LỖI:**\n",
    "        Khi tạo danh sách nhiệm vụ mới, hãy **giảm thời lượng** của các hoạt động, đặc biệt là các hoạt động luyện tập, để đảm bảo tổng thời gian cộng lại **KHÔNG VƯỢỢT QUÁ {state.get('analyzed_objective', {}).get('constraints', {}).get('duration_minutes', 90)} phút**. Đây là ưu tiên hàng đầu.\n",
    "        \"\"\"\n",
    "\n",
    "    prompt = f\"\"\"{SYSTEM_PERSONA_PROMPT}\n",
    "    **VAI TRÒ:** Bạn là một Trợ lý Sư phạm, chuyên viên thực thi kế hoạch một cách chính xác và linh hoạt.\n",
    "    **NHIỆM VỤ:** Dựa vào **Bản thiết kế Sư phạm**, hãy chuyển đổi nó thành một danh sách các **NHIỆM VỤ HỌC TẬP CỤ THỂ** về chủ đề \"{topic}\".\n",
    "\n",
    "    {replan_prompt_part}\n",
    "\n",
    "    **BẢN THIẾT KẾ SƯ PHẠM (KỊCH BẢN CẦN TUÂN THỦ):**\n",
    "    {json.dumps(blueprint, ensure_ascii=False, indent=2)}\n",
    "\n",
    "    **QUY TẮC TUYỆT ĐỐI:**\n",
    "    1.  **ƯU TIÊN MỆNH LỆNH:** Nếu có `MỆNH LỆNH TỪ VÒNG LẶP TRƯỚC`, hãy tuân thủ nó.\n",
    "    2.  **BÁM SÁT KỊCH BẢN:** Mỗi giai đoạn trong bản thiết kế phải được chuyển đổi thành ít nhất MỘT nhiệm vụ học tập.\n",
    "    3.  **PHÂN BỔ THỜI GIAN HỢP LÝ:** Chia tổng thời lượng {state.get('analyzed_objective', {}).get('constraints', {}).get('duration_minutes', 90)} phút cho tất cả các nhiệm vụ.\n",
    "    4.  **QUY TẮC HOẠT ĐỘNG ĐỆM (RẤT QUAN TRỌNG):** Nhiệm vụ cuối cùng của kế hoạch **PHẢI** là một hoạt động 'Vận dụng và Củng cố'. Trong `task_description` của nhiệm vụ này, hãy ghi rõ rằng: \"Hoạt động này có thể co giãn. Ưu tiên hoàn thành các bài tập cơ bản. Các bài tập nâng cao là phần mở rộng nếu còn thời gian.\" Điều này giúp giáo viên linh hoạt trong thực tế.\n",
    "    \n",
    "    **YÊU CẦU ĐỊNH DẠNG:** BẮT BUỘC trả về JSON tuân thủ schema `TaskListWithDuration`.\n",
    "    \"\"\"\n",
    "    \n",
    "    structured_llm = llm.with_structured_output(TaskListWithDuration, method=\"json_mode\")\n",
    "    \n",
    "    try:\n",
    "        agent_outputs_history = state.get(\"agent_outputs\", {})\n",
    "        new_agent_outputs = {\"resources\": agent_outputs_history.get(\"resources\", [])}\n",
    "        \n",
    "        task_list_result = await structured_llm.ainvoke(prompt)\n",
    "        tasks_with_status = [{\"task_id\": i, **t.dict(), \"status\": \"pending\"} for i, t in enumerate(task_list_result.tasks) if t]\n",
    "        \n",
    "        print_result(tasks_with_status, f\"Đã tạo {len(tasks_with_status)} nhiệm vụ chi tiết\")\n",
    "        \n",
    "        return {\"task_list\": tasks_with_status, \"reflection_notes\": None, \"agent_outputs\": new_agent_outputs}\n",
    "    \n",
    "    except Exception as e:\n",
    "        print_warning(f\"Lỗi tại Plan Delegator: {e}. Tạo task mặc định.\")\n",
    "        fallback_task = {\n",
    "            \"task_id\": 0, \"task_name\": f\"Hoạt động luyện tập về {topic_fallback}\",\n",
    "            \"task_description\": \"Học sinh thực hành các bài tập cơ bản. Phần nâng cao có thể thực hiện nếu còn thời gian.\",\n",
    "            \"estimated_duration\": 45, \"status\": \"pending\"\n",
    "        }\n",
    "        return {\"task_list\": [fallback_task], \"reflection_notes\": None, \"agent_outputs\": state.get(\"agent_outputs\", {})}\n",
    "\n",
    "# === NÂNG CẤP `Content Validator` THÀNH `Time-Budget Advisor` ===\n",
    "async def content_validator_agent(state: \"TeacherStateV5\") -> Dict[str, Any]:\n",
    "    print_step(f\"`Agent: Time-Budget Advisor` (v9.7) đang phản biện nội dung và ngân sách thời gian...\")\n",
    "    content = state.get('current_content_to_validate')\n",
    "    task_list = state.get('task_list', [])\n",
    "    current_task = next((t for t in task_list if t['task_id'] == state.get('current_task_id')), None)\n",
    "    \n",
    "    if not content or content.get(\"error\"):\n",
    "        # Xử lý lỗi từ agent chuyên môn\n",
    "        return {\"validation_feedback\": \"Lỗi tạo nội dung, không thể phản biện.\", \"current_content_to_validate\": content}\n",
    "\n",
    "    # Tính toán ngân sách thời gian\n",
    "    total_allowed_duration = state.get('analyzed_objective', {}).get('constraints', {}).get('duration_minutes', 90)\n",
    "    agent_outputs = state.get('agent_outputs', {})\n",
    "    completed_activities = agent_outputs.get('activities', []) + agent_outputs.get('assessments', [])\n",
    "    time_spent = sum(item.get('duration_minutes', 0) for item in completed_activities)\n",
    "    time_remaining = total_allowed_duration - time_spent\n",
    "    \n",
    "    prompt = f\"\"\"{SYSTEM_PERSONA_PROMPT}\n",
    "    **VAI TRÒ:** Bạn là một Cố vấn Sư phạm, chuyên gia về phân bổ thời gian và chất lượng nội dung.\n",
    "    **NGÂN SÁCH THỜI GIAN HIỆN TẠI:**\n",
    "    - Tổng thời lượng buổi học: {total_allowed_duration} phút.\n",
    "    - Thời gian đã sử dụng cho các hoạt động trước: {time_spent} phút.\n",
    "    - **Thời gian còn lại cho TẤT CẢ các hoạt động sau:** {time_remaining} phút.\n",
    "\n",
    "    **NHIỆM VỤ:** Thẩm định nội dung được tạo ra, đặc biệt chú ý đến sự cân bằng giữa chất lượng và ngân sách thời gian.\n",
    "    \n",
    "    **YÊU CẦU GỐC CỦA NHIỆM VỤ:**\n",
    "    - Tên nhiệm vụ: \"{current_task.get('task_name', 'N/A')}\"\n",
    "    - Thời lượng dự kiến: \"{current_task.get('estimated_duration', 'N/A')} phút\"\n",
    "\n",
    "    **NỘI DUNG ĐƯỢC TẠO RA CẦN XEM XÉT:**\n",
    "    ```json\n",
    "    {json.dumps(content, ensure_ascii=False, indent=2)}\n",
    "    ```\n",
    "\n",
    "    **CÁC BƯỚC SUY LUẬN:**\n",
    "    1.  **Kiểm tra Chất lượng:** Nội dung có chính xác về chuyên môn và phù hợp sư phạm không? Nếu không, `is_valid: false`.\n",
    "    2.  **Kiểm tra Thời gian Nội tại:** Thời lượng `duration_minutes` trong nội dung có hợp lý với các thành phần `core_component` và `extension_component` không?\n",
    "    3.  **Kiểm tra Ngân sách Toàn cục (QUAN TRỌNG NHẤT):** So sánh `duration_minutes` với `Thời gian còn lại`.\n",
    "        - Nếu `duration_minutes` chiếm một phần hợp lý của thời gian còn lại (để vẫn còn đủ cho các hoạt động sau), thì nội dung hợp lệ.\n",
    "        - Nếu `duration_minutes` quá lớn, chiếm gần hết hoặc vượt quá thời gian còn lại, đây là LỖI CẤU TRÚC NGHIÊM TRỌNG.\n",
    "\n",
    "    **YÊU CẦU ĐỊNH DẠNG:**\n",
    "    - Nếu hoàn toàn hợp lệ: `is_valid: true`, `feedback: \"Nội dung hợp lệ.\"`.\n",
    "    - Nếu có lỗi nhỏ về thời gian (có thể sửa): `is_valid: false`, `feedback: \"[STRUCTURAL_FEEDBACK] Thời gian chưa tối ưu...\"`, và **BẮT BUỘC** có `suggested_duration`.\n",
    "    - Nếu có lỗi lớn về ngân sách thời gian: `is_valid: false`, `feedback: \"[STRUCTURAL_FEEDBACK] Lỗi phân bổ ngân sách! Thời gian đề xuất ({content.get('duration_minutes')} phút) quá lớn so với thời gian còn lại ({time_remaining} phút). Cần thiết kế lại hoạt động này trong khoảng [X] phút để đảm bảo tiến độ.\"`, và **BẮT BUỘC** có `suggested_duration` là một con số hợp lý hơn.\n",
    "    \"\"\"\n",
    "    structured_llm = llm.with_structured_output(ValidationResult, method=\"json_mode\")\n",
    "    try:\n",
    "        result = await structured_llm.ainvoke(prompt)\n",
    "        if result.is_valid:\n",
    "            print_step(\"✔️ CỐ VẤN: Nội dung và ngân sách thời gian hợp lệ!\")\n",
    "            return {\"validation_feedback\": None, \"current_content_to_validate\": content}\n",
    "        else:\n",
    "            final_feedback = result.feedback\n",
    "            if result.suggested_duration:\n",
    "                final_feedback += f\" | SUGGESTED_DURATION: {result.suggested_duration}\"\n",
    "            \n",
    "            print_warning(f\"CỐ VẤN PHẢN BIỆN: {final_feedback}\")\n",
    "            return {\"validation_feedback\": final_feedback, \"current_content_to_validate\": content}\n",
    "    except Exception as e:\n",
    "        print_warning(f\"Lỗi tại Time-Budget Advisor: {e}. Mặc định cho qua.\")\n",
    "        return {\"validation_feedback\": None, \"current_content_to_validate\": content}\n",
    "\n",
    "# === NÂNG CẤP `Specialist Agents` ĐỂ TẠO HOẠT ĐỘNG LINH HOẠT ===\n",
    "async def specialist_agent_logic(state: \"TeacherStateV5\", agent_type: str, pydantic_model: type[BaseModel]) -> Dict[str, Any]:\n",
    "    print_step(f\"`Agent: {agent_type}` (v9.7) đang tạo nội dung linh hoạt (Lõi + Mở rộng)...\")\n",
    "    task_to_run = next((t for t in state.get('task_list', []) if t['task_id'] == state.get('current_task_id')), None)\n",
    "    if not task_to_run: return {\"current_content_to_validate\": {\"error\": \"Không tìm thấy task hiện tại.\"}}\n",
    "\n",
    "    feedback_prompt = f\"**PHẢN HỒI TỪ LẦN TRƯỚC (CẦN SỬA):** \\\"{state.get('validation_feedback', '')}\\\".\" if state.get('validation_feedback') else \"\"\n",
    "    \n",
    "    prompt = f\"\"\"{SYSTEM_PERSONA_PROMPT}\n",
    "    **VAI TRÒ:** Bạn là một nhà thiết kế hoạt động học tập sáng tạo và thực tế.\n",
    "    **NHIỆM VỤ:** Tạo ra **MỘT HOẠT ĐỘNG DUY NHẤT** với cấu trúc linh hoạt.\n",
    "\n",
    "    **BỐI CẢNH BÀI HỌC:**\n",
    "    - **Chủ đề chính:** {state.get('analyzed_objective', {}).get('topic', '')}\n",
    "    - **Chiến lược phân hóa chung:** {state.get('student_persona', {}).get('differentiation_strategy', {})}\n",
    "    \n",
    "    **MÔ TẢ NHIỆM VỤ CẦN THỰC THI:**\n",
    "    - **Tên nhiệm vụ:** \"{task_to_run.get('task_name', '')}\"\n",
    "    - **Mô tả chi tiết:** \"{task_to_run.get('task_description', '')}\"\n",
    "    - **THỜI GIAN ƯỚC TÍNH (RÀNG BUỘC CHÍNH):** {task_to_run.get('estimated_duration', 10)} phút.\n",
    "\n",
    "    {feedback_prompt}\n",
    "    \n",
    "    **QUY TẮC TUYỆT ĐỐI:**\n",
    "    1.  **ƯU TIÊN THỜI GIAN:** Tổng thời gian `duration_minutes` phải thực tế và tuân thủ thời gian ước tính.\n",
    "    2.  **CẤU TRÚC LÕI/MỞ RỘNG:**\n",
    "        -   **`core_component` (BẮT BUỘC):** Thiết kế phần hoạt động cốt lõi mà tất cả học sinh phải hoàn thành. Phần này nên chiếm khoảng 70-80% tổng thời gian.\n",
    "        -   **`extension_component` (NẾU PHÙ HỢP):** Thiết kế một hoạt động nhỏ, bài tập thêm, hoặc câu hỏi mở rộng. Phần này là \"nếu còn thời gian\". Nếu hoạt động quá ngắn hoặc là hoạt động giới thiệu, trường này có thể bỏ trống.\n",
    "    3.  **TẠO NỘI DUNG CỤ THỂ:** Đưa ra câu hỏi, đề bài rõ ràng trong các thành phần.\n",
    "    4.  **TUÂN THỦ SCHEMA:** Chỉ trả về một đối tượng JSON duy nhất theo đúng cấu trúc.\n",
    "    ```json\n",
    "    {schema_json_of(pydantic_model, indent=2)}\n",
    "    ```\n",
    "    \"\"\"\n",
    "    structured_llm = llm.with_structured_output(pydantic_model, method=\"json_mode\")\n",
    "    try:\n",
    "        result = await structured_llm.ainvoke(prompt)\n",
    "        content_dict = result.dict()\n",
    "        content_dict['duration_minutes'] = task_to_run.get('estimated_duration', 10)\n",
    "        # Gộp core và extension thành một description chung để tương thích với node trình bày\n",
    "        content_dict['question_or_description'] = f\"**Phần Cốt lõi:**\\n{content_dict.get('core_component', '')}\\n\\n**Phần Mở rộng (nếu còn thời gian):**\\n{content_dict.get('extension_component', 'Không có')}\"\n",
    "        print_result(content_dict, f\"Nội dung do {agent_type} tạo ra (Linh hoạt)\")\n",
    "        return {\"current_content_to_validate\": content_dict, \"validation_feedback\": None}\n",
    "    except Exception as e:\n",
    "        print_warning(f\"Lỗi tại {agent_type}: {e}. Trả về nội dung mặc định.\")\n",
    "        return {\"current_content_to_validate\": {\"error\": str(e)}, \"validation_feedback\": None}\n",
    "\n",
    "async def theory_synthesizer_agent(state: \"TeacherStateV5\"): return await specialist_agent_logic(state, \"Theory Synthesizer\", LearningActivity)\n",
    "async def activity_designer_agent(state: \"TeacherStateV5\"): return await specialist_agent_logic(state, \"Activity Designer\", LearningActivity)\n",
    "async def assessment_creator_agent(state: \"TeacherStateV5\"): return await specialist_agent_logic(state, \"Assessment Creator\", AssessmentItem)\n",
    "\n",
    "print(\"✅ Các agent giao việc và chuyên môn (v9.7 - Tư duy Linh hoạt) đã sẵn sàng.\")"
   ]
  },
  {
   "cell_type": "code",
   "execution_count": 51,
   "id": "f509f0a6",
   "metadata": {},
   "outputs": [
    {
     "name": "stdout",
     "output_type": "stream",
     "text": [
      "✅ Agent tổng hợp & Node trình bày (v9.7 - Tư duy Linh hoạt) đã sẵn sàng.\n"
     ]
    }
   ],
   "source": [
    "# ==============================================================================\n",
    "# CELL 3.6: AGENT TỔNG HỢP & NODE TRÌNH BÀY (v9.7 - TƯ DUY LINH HOẠT)\n",
    "# ==============================================================================\n",
    "\n",
    "async def structured_plan_compiler_agent(state: \"TeacherStateV5\") -> Dict[str, Any]:\n",
    "    print_step(\"`Agent: Structured Plan Compiler` (v9.7 - Tư duy Linh hoạt) đang tổng hợp giáo án...\")\n",
    "    outputs = state.get('agent_outputs', {})\n",
    "    objective = state.get('analyzed_objective', {})\n",
    "    \n",
    "    activities = outputs.get('activities', [])\n",
    "    assessments = outputs.get('assessments', [])\n",
    "    all_content_items = activities + assessments\n",
    "    allowed_duration = objective.get('constraints', {}).get('duration_minutes', 90)\n",
    "\n",
    "    if not all_content_items:\n",
    "        reflection = \"Kế hoạch thất bại. Không có hoạt động nào được tạo ra. Lập kế hoạch lại.\"\n",
    "        print_warning(f\"CRITIC LỚN: {reflection}\")\n",
    "        return {\"reflection_notes\": reflection}\n",
    "\n",
    "    total_duration = sum(item.get('duration_minutes', 0) for item in all_content_items)\n",
    "    \n",
    "    # Nếu tổng thời gian hợp lệ, cho qua ngay\n",
    "    if (allowed_duration * 0.95) <= total_duration <= (allowed_duration + 5):\n",
    "         print_step(f\"CRITIC LỚN: Kế hoạch hợp lệ! Tổng thời gian ({total_duration} phút) nằm trong giới hạn cho phép.\")\n",
    "    # Nếu không, thử \"cắt tỉa\" hoạt động cuối\n",
    "    else:\n",
    "        print_warning(f\"CRITIC LỚN: Tổng thời gian ({total_duration} phút) không hợp lệ. Đang thử cắt tỉa hoạt động cuối...\")\n",
    "        \n",
    "        all_content_sorted = sorted(all_content_items, key=lambda x: x.get('task_id', float('inf')))\n",
    "        last_activity = all_content_sorted[-1]\n",
    "        \n",
    "        # Chỉ điều chỉnh nếu hoạt động cuối là hoạt động có thể co giãn\n",
    "        is_flexible = \"vận dụng\" in last_activity.get('activity_name', '').lower() or \\\n",
    "                      \"luyện tập\" in last_activity.get('activity_name', '').lower() or \\\n",
    "                      last_activity.get('extension_component')\n",
    "\n",
    "        if is_flexible:\n",
    "            duration_of_last_activity = last_activity.get('duration_minutes', 0)\n",
    "            duration_of_other_activities = total_duration - duration_of_last_activity\n",
    "            \n",
    "            new_duration_for_last = allowed_duration - duration_of_other_activities\n",
    "            \n",
    "            if new_duration_for_last >= 5: # Đảm bảo hoạt động cuối không quá ngắn\n",
    "                print_step(f\"Điều chỉnh thành công! Cắt bớt hoạt động cuối từ {duration_of_last_activity} phút xuống còn {new_duration_for_last} phút.\")\n",
    "                last_activity['duration_minutes'] = new_duration_for_last\n",
    "                # Cập nhật lại mô tả để phản ánh việc cắt bớt\n",
    "                last_activity['question_or_description'] = f\"**Phần Cốt lõi:**\\n{last_activity.get('core_component', '')}\\n\\n**Phần Mở rộng:** (Phần này có thể được bỏ qua do hạn chế về thời gian)\"\n",
    "                # Cập nhật lại danh sách với hoạt động đã được sửa\n",
    "                all_content_items = all_content_sorted[:-1] + [last_activity]\n",
    "            else:\n",
    "                reflection = f\"Kế hoạch thất bại. Tổng thời gian ({total_duration} phút) quá dài, không thể cứu vãn. Lập kế hoạch lại từ đầu với thời gian ngắn hơn cho mỗi hoạt động.\"\n",
    "                print_warning(f\"CRITIC LỚN: {reflection}\")\n",
    "                return {\"reflection_notes\": reflection}\n",
    "        else:\n",
    "            reflection = f\"Kế hoạch thất bại. Tổng thời gian ({total_duration} phút) không hợp lệ và hoạt động cuối không phải hoạt động linh hoạt. Lập kế hoạch lại.\"\n",
    "            print_warning(f\"CRITIC LỚN: {reflection}\")\n",
    "            return {\"reflection_notes\": reflection}\n",
    "\n",
    "    # --- Phần còn lại giữ nguyên ---\n",
    "    print_step(\"Bắt đầu tổng hợp giáo án dạng JSON...\")\n",
    "    persona = state.get('student_persona', {})\n",
    "    strategy = state.get('pedagogy_strategy', {})\n",
    "    resources = state.get('agent_outputs', {}).get('resources', [{}])[0]\n",
    "\n",
    "    general_info = { \"chủ đề\": objective.get('topic', 'N/A'), \"môn học\": state.get('domain', 'N/A'), \"lớp\": objective.get('grade_level', 'N/A'), \"thời lượng\": f\"{allowed_duration} phút\", \"phương pháp chủ đạo\": strategy.get('name', 'Chưa xác định'), \"đặc điểm lớp học\": persona.get('special_notes', 'Tiêu chuẩn'), }\n",
    "    learning_objectives = [ f\"Học sinh có thể {objective.get('action_verb', 'vận dụng')} kiến thức về {objective.get('topic', 'N/A')}.\", \"Rèn luyện kỹ năng tư duy logic và giải quyết vấn đề.\", \"Phát triển kỹ năng hợp tác và trình bày.\" ]\n",
    "    preparation = { \"giáo viên\": [\"Bảng phụ\", \"máy chiếu\", \"phiếu học tập\"], \"học sinh\": [\"Sách giáo khoa\", \"vở ghi\", \"dụng cụ học tập\"] }\n",
    "    final_plan_obj: FinalStructuredPlan = { \"general_info\": general_info, \"learning_objectives\": learning_objectives, \"preparation\": preparation, \"knowledge_summary\": resources.get('summary', 'Chưa có tóm tắt.'), \"lesson_flow\": all_content_sorted, }\n",
    "\n",
    "    return {\"final_structured_plan\": final_plan_obj, \"reflection_notes\": None}\n",
    "\n",
    "# --- markdown_presentation_node giữ nguyên ---\n",
    "def markdown_presentation_node(state: \"TeacherStateV5\") -> Dict[str, str]:\n",
    "    print_step(\"`Node: Markdown Presenter` (v9.7) đang tạo bản trình bày Markdown...\")\n",
    "    plan_json = state.get(\"final_structured_plan\")\n",
    "    if not isinstance(plan_json, dict): return {\"final_markdown_plan\": \"Lỗi: Không tìm thấy giáo án.\"}\n",
    "\n",
    "    md_parts = []\n",
    "    info = plan_json.get('general_info', {})\n",
    "    md_parts.append(f\"# GIÁO ÁN BÀI DẠY: {info.get('chủ đề', 'N/A').upper()}\")\n",
    "    md_parts.append(\"---\")\n",
    "    md_parts.append(\"## I. THÔNG TIN CHUNG\")\n",
    "    for key, value in info.items(): md_parts.append(f\"- **{key.replace('_', ' ').title()}:** {value}\")\n",
    "    md_parts.append(\"## II. MỤC TIÊU BÀI HỌC\")\n",
    "    for obj in plan_json.get('learning_objectives', []): md_parts.append(f\"- {obj}\")\n",
    "    md_parts.append(\"## III. CHUẨN BỊ\")\n",
    "    for key, items in plan_json.get('preparation', {}).items(): md_parts.append(f\"- **{key.title()}:** {', '.join(items)}\")\n",
    "    md_parts.append(\"## IV. TIẾN TRÌNH BÀI DẠY\")\n",
    "    for i, activity in enumerate(plan_json.get('lesson_flow', [])):\n",
    "        md_parts.append(f\"### Hoạt động {i+1}: {activity.get('activity_name')} ({activity.get('duration_minutes')} phút)\")\n",
    "        md_parts.append(f\"**Nhiệm vụ:**\\n{activity.get('question_or_description', 'Không có mô tả.')}\")\n",
    "        if activity.get('differentiation'):\n",
    "            diff = activity['differentiation']\n",
    "            md_parts.append(f\"> **Gợi ý Phân hóa:**\")\n",
    "            md_parts.append(f\"> - *Hỗ trợ (HS yếu):* {diff.get('for_struggling_students', 'Không có')}\")\n",
    "            md_parts.append(f\"> - *Thử thách (HS giỏi):* {diff.get('for_advanced_students', 'Không có')}\")\n",
    "        md_parts.append(\"\\n---\")\n",
    "    md_parts.append(\"## V. TÓM TẮT KIẾN THỨC CỐT LÕI\")\n",
    "    md_parts.append(plan_json.get('knowledge_summary', 'Chưa có tóm tắt.'))\n",
    "    final_md = \"\\n\".join(md_parts)\n",
    "    return {\"final_markdown_plan\": final_md}\n",
    "\n",
    "print(\"✅ Agent tổng hợp & Node trình bày (v9.7 - Tư duy Linh hoạt) đã sẵn sàng.\")"
   ]
  },
  {
   "cell_type": "markdown",
   "id": "d9377da3",
   "metadata": {},
   "source": [
    "## PHẦN 4: XÂY DỰNG VÀ BIÊN DỊCH GRAPH"
   ]
  },
  {
   "cell_type": "code",
   "execution_count": 52,
   "id": "3f7820ed",
   "metadata": {},
   "outputs": [
    {
     "name": "stdout",
     "output_type": "stream",
     "text": [
      "✅ Các node tiện ích và điều phối của graph (v8.0) đã sẵn sàng.\n"
     ]
    }
   ],
   "source": [
    "# ==============================================================================\n",
    "# CELL 4.1: CÁC NODE TIỆN ÍCH VÀ ĐIỀU PHỐI CỦA GRAPH (v8.0)\n",
    "# ==============================================================================\n",
    "from typing import Literal, Dict, Any\n",
    "import time\n",
    "\n",
    "def update_task_duration_node(state: \"TeacherStateV5\") -> Dict[str, Any]:\n",
    "    \"\"\"\n",
    "    Node này thực hiện một \"ca phẫu thuật\" chính xác vào danh sách nhiệm vụ.\n",
    "    Nó tìm nhiệm vụ bị lỗi thời gian và cập nhật nó với thời lượng được đề xuất.\n",
    "    \"\"\"\n",
    "    print_step(\"`Node: Task Time Surgeon`  surgically updating task duration...\")\n",
    "    feedback = state.get(\"validation_feedback\")\n",
    "    task_list = state.get(\"task_list\", [])\n",
    "    current_task_id = state.get(\"current_task_id\")\n",
    "\n",
    "    if not all([feedback, task_list, current_task_id is not None]):\n",
    "        print_warning(\"Thiếu thông tin để sửa thời gian, bỏ qua.\")\n",
    "        return {}\n",
    "\n",
    "    # Trích xuất thời gian đề xuất từ feedback\n",
    "    suggested_duration = None\n",
    "    try:\n",
    "        # Sử dụng regex để tìm số theo sau \"SUGGESTED_DURATION:\"\n",
    "        match = re.search(r\"SUGGESTED_DURATION:\\s*(\\d+)\", feedback)\n",
    "        if match:\n",
    "            suggested_duration = int(match.group(1))\n",
    "            print_step(f\"Đã trích xuất thời gian đề xuất: {suggested_duration} phút.\")\n",
    "    except (ValueError, TypeError):\n",
    "        print_warning(\"Không thể trích xuất thời gian đề xuất từ feedback.\")\n",
    "        return {\"validation_feedback\": \"Lỗi trích xuất, không thể sửa.\", \"reflection_notes\": feedback}\n",
    "\n",
    "    if suggested_duration is None:\n",
    "        print_warning(\"Không tìm thấy thời gian đề xuất trong feedback.\")\n",
    "        return {\"validation_feedback\": \"Không có gợi ý, không thể sửa.\", \"reflection_notes\": feedback}\n",
    "\n",
    "    # Tạo một bản sao của danh sách để chỉnh sửa\n",
    "    new_task_list = [t.copy() for t in task_list]\n",
    "    task_updated = False\n",
    "    for task in new_task_list:\n",
    "        if task.get(\"task_id\") == current_task_id:\n",
    "            original_duration = task.get('estimated_duration')\n",
    "            task[\"estimated_duration\"] = suggested_duration\n",
    "            print_result(\n",
    "                {\"task_id\": current_task_id, \"from\": original_duration, \"to\": suggested_duration},\n",
    "                \"Đã cập nhật thời lượng nhiệm vụ\"\n",
    "            )\n",
    "            task_updated = True\n",
    "            break\n",
    "            \n",
    "    if not task_updated:\n",
    "        print_warning(f\"Không tìm thấy task ID {current_task_id} để cập nhật.\")\n",
    "        return {}\n",
    "\n",
    "    # Xóa feedback cũ để chuẩn bị cho lần thử lại\n",
    "    return {\n",
    "        \"task_list\": new_task_list,\n",
    "        \"validation_feedback\": None,\n",
    "        \"reflection_notes\": None # Quan trọng: Xóa ghi chú để không gây nhiễu\n",
    "    }\n",
    "\n",
    "# === NÂNG CẤP #0: Thêm node delay để chống Rate Limit ===\n",
    "def delay_node(state: \"TeacherStateV5\") -> \"TeacherStateV5\":\n",
    "    \"\"\"Node này chỉ đơn giản là dừng lại một chút để tránh vượt giới hạn API.\"\"\"\n",
    "    delay_seconds = 2\n",
    "    print_step(f\"...Đang nghỉ {delay_seconds} giây để tránh vượt rate limit...\")\n",
    "    time.sleep(delay_seconds)\n",
    "    return state\n",
    "\n",
    "def mark_task_complete(state: \"TeacherStateV5\") -> Dict[str, Any]:\n",
    "    task_list = state.get(\"task_list\", [])\n",
    "    current_task_id = state.get(\"current_task_id\")\n",
    "    if not task_list or current_task_id is None: return {}\n",
    "    new_task_list = [t.copy() for t in task_list]\n",
    "    for task in new_task_list:\n",
    "        if task.get(\"task_id\") == current_task_id:\n",
    "            task[\"status\"] = \"completed\"\n",
    "            break\n",
    "    return {\"task_list\": new_task_list, \"current_task_id\": None}\n",
    "    \n",
    "def task_router_node(state: \"TeacherStateV5\") -> Dict[str, Any]:\n",
    "    print_step(\"`Router`: Đang kiểm tra nhiệm vụ...\")\n",
    "    task_list = state.get(\"task_list\", [])\n",
    "    next_task = next((task for task in task_list if task.get(\"status\") == \"pending\"), None)\n",
    "    if next_task:\n",
    "        print_step(f\"Nhiệm vụ tiếp theo: '{next_task['task_name']}' (ID: {next_task['task_id']})\")\n",
    "        return {\"current_task_id\": next_task['task_id']}\n",
    "    else:\n",
    "        print_step(\"Hết nhiệm vụ, chuyển sang node Compiler & Critic.\")\n",
    "        return {\"current_task_id\": None}\n",
    "\n",
    "async def task_dispatcher_agent(state: \"TeacherStateV5\") -> Dict[str, Any]:\n",
    "    print_step(\"`Agent: Task Dispatcher` (v7.1) Bắt đầu...\")\n",
    "    task_to_run = next((t for t in state['task_list'] if t['task_id'] == state['current_task_id']), None)\n",
    "    if not task_to_run:\n",
    "        print_warning(\"Dispatcher không tìm thấy task, sẽ bỏ qua bước này.\")\n",
    "        return {\"next_agent\": \"mark_task_complete\"}\n",
    "\n",
    "    task_description = task_to_run['task_description']\n",
    "    prompt = f\"{SYSTEM_PERSONA_PROMPT}\\n**Nhiệm vụ:** Phân loại nhiệm vụ sau vào MỘT trong ba agent sau: 'activity_designer', 'theory_synthesizer', 'assessment_creator'.\\n\\n**QUY TẮC PHÂN LOẠI:**\\n- Giảng giải, giới thiệu, ôn tập, tổng kết -> 'theory_synthesizer'.\\n- Luyện tập, thực hành, thảo luận, làm việc nhóm -> 'activity_designer'.\\n- Kiểm tra, đánh giá, bài toán khó, vận dụng cao -> 'assessment_creator'.\\n\\n**NHIỆM VỤ CẦN PHÂN LOẠI:** \\\"{task_description}\\\"\\n\\n**YÊU CẦU JSON:** Trả về JSON với key duy nhất là `agent_category`.\"\n",
    "    structured_llm = llm.with_structured_output(TaskClassification)\n",
    "    try:\n",
    "        classification_result = await structured_llm.ainvoke(prompt)\n",
    "        next_agent = classification_result.agent_category\n",
    "    except Exception as e:\n",
    "        print_warning(f\"Lỗi tại Dispatcher: {e}. Giao nhiệm vụ cho 'activity_designer'.\")\n",
    "        next_agent = \"activity_designer\"\n",
    "    print_step(f\"--- 🚚 `Dispatcher`: Giao nhiệm vụ cho `{next_agent}`.\")\n",
    "    return {\"next_agent\": next_agent}\n",
    "\n",
    "def commit_validated_content_node(state: \"TeacherStateV5\") -> Dict[str, Any]:\n",
    "    print_step(\"`Commiter`: Đang ghi nhận nội dung đã được xác thực...\")\n",
    "    agent_ran = state[\"next_agent\"]\n",
    "    content = state[\"current_content_to_validate\"]\n",
    "    \n",
    "    content['task_id'] = state['current_task_id']\n",
    "    \n",
    "    key_to_update = \"assessments\" if agent_ran == \"assessment_creator\" else \"activities\"\n",
    "    updated_outputs = update_agent_outputs(state, key_to_update, content)\n",
    "    updated_outputs[\"current_content_to_validate\"] = None\n",
    "    return updated_outputs\n",
    "\n",
    "def save_to_memory_node(state: \"TeacherStateV5\"):\n",
    "    print_step(\"Kiểm tra để lưu vào Trí nhớ Dài hạn...\")\n",
    "    if state.get(\"final_structured_plan\"):\n",
    "        save_to_memory(state[\"original_request\"], state[\"final_structured_plan\"])\n",
    "    return {} \n",
    "\n",
    "print(\"✅ Các node tiện ích và điều phối của graph (v8.0) đã sẵn sàng.\")"
   ]
  },
  {
   "cell_type": "code",
   "execution_count": 53,
   "id": "6b7306e7",
   "metadata": {},
   "outputs": [
    {
     "name": "stdout",
     "output_type": "stream",
     "text": [
      "✅ Các hàm logic điều hướng (đã sửa lỗi) đã được định nghĩa.\n"
     ]
    }
   ],
   "source": [
    "# ==============================================================================\n",
    "# CELL 4.2: LOGIC ĐIỀU HƯỚNG CÓ ĐIỀU KIỆN (ĐÃ SỬA LỖI)\n",
    "# ==============================================================================\n",
    "def route_after_validation(state: \"TeacherStateV5\") -> Literal[\"commit\", \"retry_content\", \"replan_task\"]:\n",
    "    \"\"\"\n",
    "    Hàm điều hướng mới, thông minh hơn sau khi thẩm định nội dung.\n",
    "    - commit: Nội dung hợp lệ.\n",
    "    - replan_task: Nội dung có lỗi cấu trúc/thời gian, cần quay lại bước lập kế hoạch.\n",
    "    - retry_content: Nội dung có lỗi chuyên môn/sư phạm, cần agent chuyên môn thử lại.\n",
    "    \"\"\"\n",
    "    feedback = state.get(\"validation_feedback\")\n",
    "    if feedback is None:\n",
    "        print_step(\"ROUTER (Validation): Nội dung được chấp thuận. Chuyển sang bước ghi nhận.\")\n",
    "        return \"commit\"\n",
    "    \n",
    "    if \"[STRUCTURAL_FEEDBACK]\" in feedback:\n",
    "        print_step(\"ROUTER (Validation): Lỗi cấu trúc, yêu cầu LẬP KẾ HOẠCH LẠI.\")\n",
    "        # Chuyển phản hồi này cho Plan Delegator\n",
    "        state['reflection_notes'] = feedback\n",
    "        return \"replan_task\"\n",
    "    else:\n",
    "        print_step(\"ROUTER (Validation): Nội dung bị từ chối. Quay lại để agent chuyên môn THỬ LẠI.\")\n",
    "        return \"retry_content\"\n",
    "\n",
    "def route_after_router(state: \"TeacherStateV5\") -> Literal[\"continue_executing\", \"compile_and_critique\"]:\n",
    "    if state.get(\"current_task_id\") is None: \n",
    "        return \"compile_and_critique\"\n",
    "    else: \n",
    "        return \"continue_executing\"\n",
    "\n",
    "def route_after_compilation(state: \"TeacherStateV5\") -> Literal[\"finish\", \"replan\"]:\n",
    "    if state.get(\"reflection_notes\"):\n",
    "        print_step(\"ROUTER (Compilation): Phát hiện phản hồi từ Critic lớn. Yêu cầu hệ thống lập kế hoạch lại.\")\n",
    "        return \"replan\"\n",
    "    else:\n",
    "        print_step(\"ROUTER (Compilation): Critic lớn đã hài lòng. Kết thúc quy trình.\")\n",
    "        return \"finish\"\n",
    "\n",
    "print(\"✅ Các hàm logic điều hướng (đã sửa lỗi) đã được định nghĩa.\")"
   ]
  },
  {
   "cell_type": "code",
   "execution_count": 54,
   "id": "30df6071",
   "metadata": {},
   "outputs": [
    {
     "name": "stdout",
     "output_type": "stream",
     "text": [
      "✅ Graph đã được biên dịch thành công với logic 'Phẫu thuật Thời gian' (v9.6).\n"
     ]
    }
   ],
   "source": [
    "# ==============================================================================\n",
    "# CELL 4.3: LẮP RÁP VÀ BIÊN DỊCH GRAPH (v9.6 - PHẪU THUẬT)\n",
    "# ==============================================================================\n",
    "workflow = StateGraph(TeacherStateV5)\n",
    "\n",
    "# 1. Thêm các node vào graph\n",
    "workflow.add_node(\"initializer\", initialize_state_node)\n",
    "workflow.add_node(\"memory_retrieval\", memory_retrieval_agent)\n",
    "workflow.add_node(\"objective_interpreter\", objective_interpreter_agent)\n",
    "workflow.add_node(\"domain_classifier\", domain_classifier_agent)\n",
    "workflow.add_node(\"differentiated_instruction_advisor\", differentiated_instruction_advisor_agent) \n",
    "workflow.add_node(\"pedagogy_strategist\", pedagogy_strategist_agent)\n",
    "workflow.add_node(\"pedagogical_architect\", pedagogical_architect_agent)\n",
    "workflow.add_node(\"query_expansion\", query_expansion_agent)\n",
    "workflow.add_node(\"resource_scout\", resource_scout_agent_v2)\n",
    "workflow.add_node(\"plan_delegator\", plan_delegator_agent)\n",
    "workflow.add_node(\"task_router\", task_router_node)\n",
    "workflow.add_node(\"task_dispatcher\", task_dispatcher_agent)\n",
    "workflow.add_node(\"theory_synthesizer\", theory_synthesizer_agent)\n",
    "workflow.add_node(\"activity_designer\", activity_designer_agent)\n",
    "workflow.add_node(\"assessment_creator\", assessment_creator_agent)\n",
    "workflow.add_node(\"content_validator\", content_validator_agent)\n",
    "# === THÊM NODE MỚI VÀO GRAPH ===\n",
    "workflow.add_node(\"update_task_duration\", update_task_duration_node)\n",
    "workflow.add_node(\"commit_validated_content\", commit_validated_content_node)\n",
    "workflow.add_node(\"mark_task_complete\", mark_task_complete)\n",
    "workflow.add_node(\"structured_plan_compiler\", structured_plan_compiler_agent) \n",
    "workflow.add_node(\"markdown_presenter\", markdown_presentation_node)\n",
    "workflow.add_node(\"save_to_memory\", save_to_memory_node)\n",
    "workflow.add_node(\"delay_node\", delay_node)\n",
    "\n",
    "# 2. Thiết lập các kết nối (edges)\n",
    "workflow.set_entry_point(\"initializer\")\n",
    "workflow.add_edge(\"initializer\", \"memory_retrieval\")\n",
    "workflow.add_edge(\"memory_retrieval\", \"objective_interpreter\")\n",
    "workflow.add_edge(\"objective_interpreter\", \"domain_classifier\")\n",
    "workflow.add_edge(\"domain_classifier\", \"differentiated_instruction_advisor\")\n",
    "workflow.add_edge(\"differentiated_instruction_advisor\", \"pedagogy_strategist\")\n",
    "workflow.add_edge(\"pedagogy_strategist\", \"pedagogical_architect\")\n",
    "workflow.add_edge(\"pedagogical_architect\", \"query_expansion\")\n",
    "workflow.add_edge(\"query_expansion\", \"resource_scout\")\n",
    "workflow.add_edge(\"resource_scout\", \"plan_delegator\")\n",
    "workflow.add_edge(\"plan_delegator\", \"task_router\")\n",
    "\n",
    "# --- LUỒNG THỰC THI NHIỆM VỤ ---\n",
    "workflow.add_conditional_edges(\n",
    "    \"task_router\", \n",
    "    route_after_router, \n",
    "    {\n",
    "        \"continue_executing\": \"task_dispatcher\", \n",
    "        \"compile_and_critique\": \"structured_plan_compiler\"\n",
    "    }\n",
    ")\n",
    "workflow.add_conditional_edges(\"task_dispatcher\", lambda state: state[\"next_agent\"], {\n",
    "    \"activity_designer\": \"activity_designer\", \n",
    "    \"assessment_creator\": \"assessment_creator\", \n",
    "    \"theory_synthesizer\": \"theory_synthesizer\"\n",
    "})\n",
    "\n",
    "workflow.add_edge(\"theory_synthesizer\", \"content_validator\")\n",
    "workflow.add_edge(\"activity_designer\", \"content_validator\")\n",
    "workflow.add_edge(\"assessment_creator\", \"content_validator\")\n",
    "\n",
    "# === ĐÂY LÀ THAY ĐỔI QUAN TRỌNG NHẤT ===\n",
    "# Logic điều hướng sau khi Validate\n",
    "workflow.add_conditional_edges(\n",
    "    \"content_validator\", \n",
    "    route_after_validation,\n",
    "    {\n",
    "        \"commit\": \"commit_validated_content\", \n",
    "        \"retry_content\": \"task_dispatcher\",\n",
    "        # Thay vì quay lại plan_delegator, chúng ta sẽ đi sửa chữa\n",
    "        \"replan_task\": \"update_task_duration\" \n",
    "    }\n",
    ")\n",
    "# Sau khi sửa chữa xong, quay lại thử lại\n",
    "workflow.add_edge(\"update_task_duration\", \"task_dispatcher\")\n",
    "# ==========================================\n",
    "\n",
    "workflow.add_edge(\"commit_validated_content\", \"mark_task_complete\")\n",
    "workflow.add_edge(\"mark_task_complete\", \"delay_node\")\n",
    "workflow.add_edge(\"delay_node\", \"task_router\")\n",
    "\n",
    "# --- LUỒNG KẾT THÚC ---\n",
    "# Lưu ý: Vẫn có khả năng Plan Delegator tạo ra kế hoạch sai về TỔNG thời gian,\n",
    "# nên vẫn cần nhánh \"replan\" từ compiler. Nhưng vòng lặp nhỏ đã được loại bỏ.\n",
    "workflow.add_conditional_edges(\n",
    "    \"structured_plan_compiler\", \n",
    "    route_after_compilation,\n",
    "    {\n",
    "        \"replan\": \"plan_delegator\", \n",
    "        \"finish\": \"markdown_presenter\"\n",
    "    }\n",
    ")\n",
    "workflow.add_edge(\"markdown_presenter\", \"save_to_memory\")\n",
    "workflow.add_edge(\"save_to_memory\", END)\n",
    "\n",
    "# Biên dịch graph\n",
    "app = workflow.compile()\n",
    "print(\"✅ Graph đã được biên dịch thành công với logic 'Phẫu thuật Thời gian' (v9.6).\")"
   ]
  },
  {
   "cell_type": "code",
   "execution_count": 55,
   "id": "ac549fea",
   "metadata": {},
   "outputs": [
    {
     "data": {
      "image/png": "[encoded data removed]",
      "text/plain": [
       "<IPython.core.display.Image object>"
      ]
     },
     "metadata": {},
     "output_type": "display_data"
    }
   ],
   "source": [
    "# ==============================================================================\n",
    "# CELL 4.4: HIỂN THỊ SƠ ĐỒ GRAPH (TÙY CHỌN)\n",
    "# ==============================================================================\n",
    "try:\n",
    "    # Lệnh này sẽ vẽ một sơ đồ của workflow, rất hữu ích để gỡ lỗi\n",
    "    display(Image(app.get_graph().draw_mermaid_png()))\n",
    "except Exception as e:\n",
    "    print(f\"Lỗi vẽ biểu đồ: {e}. Đây là lỗi không nghiêm trọng, bạn vẫn có thể chạy quy trình.\")"
   ]
  },
  {
   "cell_type": "markdown",
   "id": "a5e56adc",
   "metadata": {},
   "source": [
    "## PHẦN 5"
   ]
  },
  {
   "cell_type": "code",
   "execution_count": 56,
   "id": "f27d8fdf",
   "metadata": {},
   "outputs": [
    {
     "name": "stdout",
     "output_type": "stream",
     "text": [
      "✅ Hàm `run_architect` đã sẵn sàng để sử dụng.\n"
     ]
    }
   ],
   "source": [
    "# ==============================================================================\n",
    "# CELL 5.1: ĐỊNH NGHĨA HÀM CHẠY QUY TRÌNH\n",
    "# ==============================================================================\n",
    "async def run_architect(user_request: str):\n",
    "    if 'llm' not in globals() or llm is None:\n",
    "        print_warning(\"LLM chưa được khởi tạo. Vui lòng chạy lại Cell 1.3.\")\n",
    "        return\n",
    "    if 'vector_store' not in globals() or vector_store is None:\n",
    "        print_warning(\"Kho tri thức chưa được tải. Vui lòng chạy lại Cell 1.4.\")\n",
    "        return\n",
    "    if 'app' not in globals():\n",
    "        print_warning(\"Graph 'app' chưa được biên dịch. Vui lòng chạy lại Cell 4.3.\")\n",
    "        return\n",
    "\n",
    "    initial_state = {\"messages\": [HumanMessage(content=user_request)]}\n",
    "    console.print(f\"\\n[bold magenta]🚀 BẮT ĐẦU QUY TRÌNH V7.1 (THE ARCHITECT) VỚI YÊU CẦU:[/bold magenta]\\n> {user_request}\")\n",
    "    config = {\"recursion_limit\": 150} \n",
    "    \n",
    "    final_state_result = None\n",
    "    try:\n",
    "        async for event in app.astream(initial_state, config=config):\n",
    "            for node_name, node_output in event.items():\n",
    "                console.print(f\"\\n[bold yellow]------- Hoàn thành bước: {node_name} -------[/bold yellow]\")\n",
    "                final_state_result = node_output\n",
    "\n",
    "        console.print(\"\\n[bold magenta]🏁 KẾT THÚC QUY TRÌNH V7.1.[/bold magenta]\")\n",
    "        \n",
    "        if final_state_result and final_state_result.get(\"final_markdown_plan\"):\n",
    "            console.print(\"\\n[bold green]📝 GIÁO ÁN HOÀN CHỈNH (v9.0)[/bold green]\")\n",
    "            console.print(Markdown(final_state_result[\"final_markdown_plan\"]))\n",
    "            \n",
    "            # (Tùy chọn) In ra cả JSON để kiểm tra\n",
    "            if VERBOSE_MODE:\n",
    "                print_result(final_state_result.get(\"final_structured_plan\"), \"Output JSON có cấu trúc\")\n",
    "\n",
    "        else:\n",
    "            print_warning(\"Không tạo được giáo án cuối cùng. Có thể Critic đã yêu cầu làm lại nhưng hết giới hạn đệ quy.\")\n",
    "            print(\"\\nTrạng thái cuối cùng để gỡ lỗi:\")\n",
    "            pprint(final_state_result)\n",
    "            \n",
    "    except Exception as e:\n",
    "        print_warning(f\"Đã xảy ra lỗi nghiêm trọng trong quá trình chạy graph: {e}\")\n",
    "        import traceback\n",
    "        traceback.print_exc()\n",
    "\n",
    "print(\"✅ Hàm `run_architect` đã sẵn sàng để sử dụng.\")"
   ]
  },
  {
   "cell_type": "code",
   "execution_count": 57,
   "id": "43c8121e",
   "metadata": {},
   "outputs": [
    {
     "data": {
      "text/html": [
       "<pre style=\"white-space:pre;overflow-x:auto;line-height:normal;font-family:Menlo,'DejaVu Sans Mono',consolas,'Courier New',monospace\">\n",
       "<span style=\"color: #800080; text-decoration-color: #800080; font-weight: bold\">🚀 BẮT ĐẦU QUY TRÌNH V7.</span><span style=\"color: #800080; text-decoration-color: #800080; font-weight: bold\">1</span><span style=\"color: #800080; text-decoration-color: #800080; font-weight: bold\"> (THE ARCHITECT) VỚI YÊU CẦU:</span>\n",
       "&gt; Soạn giúp tôi giáo án bài <span style=\"color: #008000; text-decoration-color: #008000\">'Đường tròn ngoại tiếp và đường tròn nội tiếp'</span> cho học sinh lớp <span style=\"color: #008080; text-decoration-color: #008080; font-weight: bold\">9</span> trong <span style=\"color: #008080; text-decoration-color: #008080; font-weight: bold\">90</span> phút. Đây là\n",
       "một lớp học khá yếu, các em thường mất tập trung và cần các hoạt động có tính tương tác cao.\n",
       "</pre>\n"
      ],
      "text/plain": [
       "\n",
       "\u001b[1;35m🚀 BẮT ĐẦU QUY TRÌNH V7.\u001b[0m\u001b[1;35m1\u001b[0m\u001b[1;35m \u001b[0m\u001b[1;35m(\u001b[0m\u001b[1;35mTHE ARCHITECT\u001b[0m\u001b[1;35m)\u001b[0m\u001b[1;35m VỚI YÊU CẦU:\u001b[0m\n",
       "> Soạn giúp tôi giáo án bài \u001b[32m'Đường tròn ngoại tiếp và đường tròn nội tiếp'\u001b[0m cho học sinh lớp \u001b[1;36m9\u001b[0m trong \u001b[1;36m90\u001b[0m phút. Đây là\n",
       "một lớp học khá yếu, các em thường mất tập trung và cần các hoạt động có tính tương tác cao.\n"
      ]
     },
     "metadata": {},
     "output_type": "display_data"
    },
    {
     "data": {
      "text/html": [
       "<pre style=\"white-space:pre;overflow-x:auto;line-height:normal;font-family:Menlo,'DejaVu Sans Mono',consolas,'Courier New',monospace\">\n",
       "<span style=\"color: #008080; text-decoration-color: #008080; font-weight: bold\">&gt;</span> `Initializer`: Đang khởi tạo trạng thái và lấy yêu cầu gốc<span style=\"color: #808000; text-decoration-color: #808000\">...</span>\n",
       "</pre>\n"
      ],
      "text/plain": [
       "\n",
       "\u001b[1;36m>\u001b[0m `Initializer`: Đang khởi tạo trạng thái và lấy yêu cầu gốc\u001b[33m...\u001b[0m\n"
      ]
     },
     "metadata": {},
     "output_type": "display_data"
    },
    {
     "data": {
      "text/html": [
       "<pre style=\"white-space:pre;overflow-x:auto;line-height:normal;font-family:Menlo,'DejaVu Sans Mono',consolas,'Courier New',monospace\">\n",
       "<span style=\"color: #808000; text-decoration-color: #808000; font-weight: bold\">------- Hoàn thành bước: initializer -------</span>\n",
       "</pre>\n"
      ],
      "text/plain": [
       "\n",
       "\u001b[1;33m------- Hoàn thành bước: initializer -------\u001b[0m\n"
      ]
     },
     "metadata": {},
     "output_type": "display_data"
    },
    {
     "data": {
      "text/html": [
       "<pre style=\"white-space:pre;overflow-x:auto;line-height:normal;font-family:Menlo,'DejaVu Sans Mono',consolas,'Courier New',monospace\">\n",
       "<span style=\"color: #008080; text-decoration-color: #008080; font-weight: bold\">&gt;</span> `Agent: Memory Retrieval` <span style=\"font-weight: bold\">(</span>v9.<span style=\"color: #008080; text-decoration-color: #008080; font-weight: bold\">4</span><span style=\"font-weight: bold\">)</span> đang tìm kiếm trong trí nhớ<span style=\"color: #808000; text-decoration-color: #808000\">...</span>\n",
       "</pre>\n"
      ],
      "text/plain": [
       "\n",
       "\u001b[1;36m>\u001b[0m `Agent: Memory Retrieval` \u001b[1m(\u001b[0mv9.\u001b[1;36m4\u001b[0m\u001b[1m)\u001b[0m đang tìm kiếm trong trí nhớ\u001b[33m...\u001b[0m\n"
      ]
     },
     "metadata": {},
     "output_type": "display_data"
    },
    {
     "data": {
      "text/html": [
       "<pre style=\"white-space:pre;overflow-x:auto;line-height:normal;font-family:Menlo,'DejaVu Sans Mono',consolas,'Courier New',monospace\"><span style=\"color: #808000; text-decoration-color: #808000; font-weight: bold\">⚠️  Không có Trí nhớ Dài hạn. Bỏ qua bước này.</span>\n",
       "</pre>\n"
      ],
      "text/plain": [
       "\u001b[1;33m⚠️  Không có Trí nhớ Dài hạn. Bỏ qua bước này.\u001b[0m\n"
      ]
     },
     "metadata": {},
     "output_type": "display_data"
    },
    {
     "data": {
      "text/html": [
       "<pre style=\"white-space:pre;overflow-x:auto;line-height:normal;font-family:Menlo,'DejaVu Sans Mono',consolas,'Courier New',monospace\">\n",
       "<span style=\"color: #808000; text-decoration-color: #808000; font-weight: bold\">------- Hoàn thành bước: memory_retrieval -------</span>\n",
       "</pre>\n"
      ],
      "text/plain": [
       "\n",
       "\u001b[1;33m------- Hoàn thành bước: memory_retrieval -------\u001b[0m\n"
      ]
     },
     "metadata": {},
     "output_type": "display_data"
    },
    {
     "data": {
      "text/html": [
       "<pre style=\"white-space:pre;overflow-x:auto;line-height:normal;font-family:Menlo,'DejaVu Sans Mono',consolas,'Courier New',monospace\">\n",
       "<span style=\"color: #008080; text-decoration-color: #008080; font-weight: bold\">&gt;</span> `Agent: Objective Interpreter` <span style=\"font-weight: bold\">(</span>v7.<span style=\"color: #008080; text-decoration-color: #008080; font-weight: bold\">5</span><span style=\"font-weight: bold\">)</span> đang phân tích mục tiêu<span style=\"color: #808000; text-decoration-color: #808000\">...</span>\n",
       "</pre>\n"
      ],
      "text/plain": [
       "\n",
       "\u001b[1;36m>\u001b[0m `Agent: Objective Interpreter` \u001b[1m(\u001b[0mv7.\u001b[1;36m5\u001b[0m\u001b[1m)\u001b[0m đang phân tích mục tiêu\u001b[33m...\u001b[0m\n"
      ]
     },
     "metadata": {},
     "output_type": "display_data"
    },
    {
     "data": {
      "text/html": [
       "<pre style=\"white-space:pre;overflow-x:auto;line-height:normal;font-family:Menlo,'DejaVu Sans Mono',consolas,'Courier New',monospace\"><span style=\"color: #008000; text-decoration-color: #008000; font-weight: bold\">✔️ Mục tiêu &amp; Ràng buộc đã phân tích:</span>\n",
       "</pre>\n"
      ],
      "text/plain": [
       "\u001b[1;32m✔️ Mục tiêu & Ràng buộc đã phân tích:\u001b[0m\n"
      ]
     },
     "metadata": {},
     "output_type": "display_data"
    },
    {
     "data": {
      "text/html": [
       "<pre style=\"white-space:pre;overflow-x:auto;line-height:normal;font-family:Menlo,'DejaVu Sans Mono',consolas,'Courier New',monospace\"><span style=\"font-weight: bold\">{</span>\n",
       "<span style=\"color: #7fbf7f; text-decoration-color: #7fbf7f\">│   </span><span style=\"color: #008000; text-decoration-color: #008000\">'action_verb'</span>: <span style=\"color: #008000; text-decoration-color: #008000\">'Soạn'</span>,\n",
       "<span style=\"color: #7fbf7f; text-decoration-color: #7fbf7f\">│   </span><span style=\"color: #008000; text-decoration-color: #008000\">'bloom_level'</span>: <span style=\"color: #008080; text-decoration-color: #008080; font-weight: bold\">2</span>,\n",
       "<span style=\"color: #7fbf7f; text-decoration-color: #7fbf7f\">│   </span><span style=\"color: #008000; text-decoration-color: #008000\">'topic'</span>: <span style=\"color: #008000; text-decoration-color: #008000\">'Đường tròn ngoại tiếp và đường tròn nội tiếp'</span>,\n",
       "<span style=\"color: #7fbf7f; text-decoration-color: #7fbf7f\">│   </span><span style=\"color: #008000; text-decoration-color: #008000\">'grade_level'</span>: <span style=\"color: #008000; text-decoration-color: #008000\">'Lớp 9'</span>,\n",
       "<span style=\"color: #7fbf7f; text-decoration-color: #7fbf7f\">│   </span><span style=\"color: #008000; text-decoration-color: #008000\">'constraints'</span>: <span style=\"font-weight: bold\">{</span>\n",
       "<span style=\"color: #7fbf7f; text-decoration-color: #7fbf7f\">│   │   </span><span style=\"color: #008000; text-decoration-color: #008000\">'duration_minutes'</span>: <span style=\"color: #008080; text-decoration-color: #008080; font-weight: bold\">90</span>\n",
       "<span style=\"color: #7fbf7f; text-decoration-color: #7fbf7f\">│   </span><span style=\"font-weight: bold\">}</span>\n",
       "<span style=\"font-weight: bold\">}</span>\n",
       "</pre>\n"
      ],
      "text/plain": [
       "\u001b[1m{\u001b[0m\n",
       "\u001b[2;32m│   \u001b[0m\u001b[32m'action_verb'\u001b[0m: \u001b[32m'Soạn'\u001b[0m,\n",
       "\u001b[2;32m│   \u001b[0m\u001b[32m'bloom_level'\u001b[0m: \u001b[1;36m2\u001b[0m,\n",
       "\u001b[2;32m│   \u001b[0m\u001b[32m'topic'\u001b[0m: \u001b[32m'Đường tròn ngoại tiếp và đường tròn nội tiếp'\u001b[0m,\n",
       "\u001b[2;32m│   \u001b[0m\u001b[32m'grade_level'\u001b[0m: \u001b[32m'Lớp 9'\u001b[0m,\n",
       "\u001b[2;32m│   \u001b[0m\u001b[32m'constraints'\u001b[0m: \u001b[1m{\u001b[0m\n",
       "\u001b[2;32m│   │   \u001b[0m\u001b[32m'duration_minutes'\u001b[0m: \u001b[1;36m90\u001b[0m\n",
       "\u001b[2;32m│   \u001b[0m\u001b[1m}\u001b[0m\n",
       "\u001b[1m}\u001b[0m\n"
      ]
     },
     "metadata": {},
     "output_type": "display_data"
    },
    {
     "data": {
      "text/html": [
       "<pre style=\"white-space:pre;overflow-x:auto;line-height:normal;font-family:Menlo,'DejaVu Sans Mono',consolas,'Courier New',monospace\">\n",
       "<span style=\"color: #808000; text-decoration-color: #808000; font-weight: bold\">------- Hoàn thành bước: objective_interpreter -------</span>\n",
       "</pre>\n"
      ],
      "text/plain": [
       "\n",
       "\u001b[1;33m------- Hoàn thành bước: objective_interpreter -------\u001b[0m\n"
      ]
     },
     "metadata": {},
     "output_type": "display_data"
    },
    {
     "data": {
      "text/html": [
       "<pre style=\"white-space:pre;overflow-x:auto;line-height:normal;font-family:Menlo,'DejaVu Sans Mono',consolas,'Courier New',monospace\">\n",
       "<span style=\"color: #008080; text-decoration-color: #008080; font-weight: bold\">&gt;</span> `Agent: Domain Classifier` <span style=\"font-weight: bold\">(</span>v7.<span style=\"color: #008080; text-decoration-color: #008080; font-weight: bold\">5</span><span style=\"font-weight: bold\">)</span> đang xác định lĩnh vực chuyên môn<span style=\"color: #808000; text-decoration-color: #808000\">...</span>\n",
       "</pre>\n"
      ],
      "text/plain": [
       "\n",
       "\u001b[1;36m>\u001b[0m `Agent: Domain Classifier` \u001b[1m(\u001b[0mv7.\u001b[1;36m5\u001b[0m\u001b[1m)\u001b[0m đang xác định lĩnh vực chuyên môn\u001b[33m...\u001b[0m\n"
      ]
     },
     "metadata": {},
     "output_type": "display_data"
    },
    {
     "data": {
      "text/html": [
       "<pre style=\"white-space:pre;overflow-x:auto;line-height:normal;font-family:Menlo,'DejaVu Sans Mono',consolas,'Courier New',monospace\"><span style=\"color: #008000; text-decoration-color: #008000; font-weight: bold\">✔️ Lĩnh vực chuyên môn được xác định:</span>\n",
       "</pre>\n"
      ],
      "text/plain": [
       "\u001b[1;32m✔️ Lĩnh vực chuyên môn được xác định:\u001b[0m\n"
      ]
     },
     "metadata": {},
     "output_type": "display_data"
    },
    {
     "data": {
      "text/html": [
       "<pre style=\"white-space:pre;overflow-x:auto;line-height:normal;font-family:Menlo,'DejaVu Sans Mono',consolas,'Courier New',monospace\"><span style=\"color: #008000; text-decoration-color: #008000\">'Toán học'</span>\n",
       "</pre>\n"
      ],
      "text/plain": [
       "\u001b[32m'Toán học'\u001b[0m\n"
      ]
     },
     "metadata": {},
     "output_type": "display_data"
    },
    {
     "data": {
      "text/html": [
       "<pre style=\"white-space:pre;overflow-x:auto;line-height:normal;font-family:Menlo,'DejaVu Sans Mono',consolas,'Courier New',monospace\">\n",
       "<span style=\"color: #808000; text-decoration-color: #808000; font-weight: bold\">------- Hoàn thành bước: domain_classifier -------</span>\n",
       "</pre>\n"
      ],
      "text/plain": [
       "\n",
       "\u001b[1;33m------- Hoàn thành bước: domain_classifier -------\u001b[0m\n"
      ]
     },
     "metadata": {},
     "output_type": "display_data"
    },
    {
     "data": {
      "text/html": [
       "<pre style=\"white-space:pre;overflow-x:auto;line-height:normal;font-family:Menlo,'DejaVu Sans Mono',consolas,'Courier New',monospace\">\n",
       "<span style=\"color: #008080; text-decoration-color: #008080; font-weight: bold\">&gt;</span> `Agent: Differentiated Instruction Advisor` <span style=\"font-weight: bold\">(</span>v9.<span style=\"color: #008080; text-decoration-color: #008080; font-weight: bold\">1</span><span style=\"font-weight: bold\">)</span> đang phân tích và đề xuất chiến lược phân hóa<span style=\"color: #808000; text-decoration-color: #808000\">...</span>\n",
       "</pre>\n"
      ],
      "text/plain": [
       "\n",
       "\u001b[1;36m>\u001b[0m `Agent: Differentiated Instruction Advisor` \u001b[1m(\u001b[0mv9.\u001b[1;36m1\u001b[0m\u001b[1m)\u001b[0m đang phân tích và đề xuất chiến lược phân hóa\u001b[33m...\u001b[0m\n"
      ]
     },
     "metadata": {},
     "output_type": "display_data"
    },
    {
     "data": {
      "text/html": [
       "<pre style=\"white-space:pre;overflow-x:auto;line-height:normal;font-family:Menlo,'DejaVu Sans Mono',consolas,'Courier New',monospace\"><span style=\"color: #008000; text-decoration-color: #008000; font-weight: bold\">✔️ Hồ sơ lớp học và Chiến lược Phân hóa:</span>\n",
       "</pre>\n"
      ],
      "text/plain": [
       "\u001b[1;32m✔️ Hồ sơ lớp học và Chiến lược Phân hóa:\u001b[0m\n"
      ]
     },
     "metadata": {},
     "output_type": "display_data"
    },
    {
     "data": {
      "text/html": [
       "<pre style=\"white-space:pre;overflow-x:auto;line-height:normal;font-family:Menlo,'DejaVu Sans Mono',consolas,'Courier New',monospace\"><span style=\"font-weight: bold\">{</span>\n",
       "<span style=\"color: #7fbf7f; text-decoration-color: #7fbf7f\">│   </span><span style=\"color: #008000; text-decoration-color: #008000\">'learning_pace'</span>: <span style=\"color: #008000; text-decoration-color: #008000\">'chậm'</span>,\n",
       "<span style=\"color: #7fbf7f; text-decoration-color: #7fbf7f\">│   </span><span style=\"color: #008000; text-decoration-color: #008000\">'engagement_style'</span>: <span style=\"color: #008000; text-decoration-color: #008000\">'thụ động'</span>,\n",
       "<span style=\"color: #7fbf7f; text-decoration-color: #7fbf7f\">│   </span><span style=\"color: #008000; text-decoration-color: #008000\">'special_notes'</span>: <span style=\"color: #008000; text-decoration-color: #008000\">'Lớp học có tốc độ tiếp thu chậm, dễ mất tập trung và cần các hoạt động tương tác cao để duy trì sự chú ý.'</span>,\n",
       "<span style=\"color: #7fbf7f; text-decoration-color: #7fbf7f\">│   </span><span style=\"color: #008000; text-decoration-color: #008000\">'differentiation_strategy'</span>: <span style=\"font-weight: bold\">{</span>\n",
       "<span style=\"color: #7fbf7f; text-decoration-color: #7fbf7f\">│   │   </span><span style=\"color: #008000; text-decoration-color: #008000\">'for_struggling_students'</span>: <span style=\"color: #008000; text-decoration-color: #008000\">'Chia nhỏ kiến thức thành các phần dễ hiểu, cung cấp nhiều ví dụ minh họa trực quan, sử dụng phiếu bài tập có gợi ý hoặc điền khuyết, tăng cường luyện tập tại chỗ với sự hướng dẫn sát sao của giáo viên, cho phép thêm thời gian hoàn thành nhiệm vụ.'</span>,\n",
       "<span style=\"color: #7fbf7f; text-decoration-color: #7fbf7f\">│   │   </span><span style=\"color: #008000; text-decoration-color: #008000\">'for_advanced_students'</span>: <span style=\"color: #008000; text-decoration-color: #008000\">'Giao các bài tập nâng cao, mở rộng kiến thức liên quan (ví dụ: các tính chất đặc biệt của đường tròn, ứng dụng trong thực tế), khuyến khích các em tự tìm tòi, khám phá thêm hoặc hướng dẫn bạn bè trong nhóm.'</span>\n",
       "<span style=\"color: #7fbf7f; text-decoration-color: #7fbf7f\">│   </span><span style=\"font-weight: bold\">}</span>\n",
       "<span style=\"font-weight: bold\">}</span>\n",
       "</pre>\n"
      ],
      "text/plain": [
       "\u001b[1m{\u001b[0m\n",
       "\u001b[2;32m│   \u001b[0m\u001b[32m'learning_pace'\u001b[0m: \u001b[32m'chậm'\u001b[0m,\n",
       "\u001b[2;32m│   \u001b[0m\u001b[32m'engagement_style'\u001b[0m: \u001b[32m'thụ động'\u001b[0m,\n",
       "\u001b[2;32m│   \u001b[0m\u001b[32m'special_notes'\u001b[0m: \u001b[32m'Lớp học có tốc độ tiếp thu chậm, dễ mất tập trung và cần các hoạt động tương tác cao để duy trì sự chú ý.'\u001b[0m,\n",
       "\u001b[2;32m│   \u001b[0m\u001b[32m'differentiation_strategy'\u001b[0m: \u001b[1m{\u001b[0m\n",
       "\u001b[2;32m│   │   \u001b[0m\u001b[32m'for_struggling_students'\u001b[0m: \u001b[32m'Chia nhỏ kiến thức thành các phần dễ hiểu, cung cấp nhiều ví dụ minh họa trực quan, sử dụng phiếu bài tập có gợi ý hoặc điền khuyết, tăng cường luyện tập tại chỗ với sự hướng dẫn sát sao của giáo viên, cho phép thêm thời gian hoàn thành nhiệm vụ.'\u001b[0m,\n",
       "\u001b[2;32m│   │   \u001b[0m\u001b[32m'for_advanced_students'\u001b[0m: \u001b[32m'Giao các bài tập nâng cao, mở rộng kiến thức liên quan \u001b[0m\u001b[32m(\u001b[0m\u001b[32mví dụ: các tính chất đặc biệt của đường tròn, ứng dụng trong thực tế\u001b[0m\u001b[32m)\u001b[0m\u001b[32m, khuyến khích các em tự tìm tòi, khám phá thêm hoặc hướng dẫn bạn bè trong nhóm.'\u001b[0m\n",
       "\u001b[2;32m│   \u001b[0m\u001b[1m}\u001b[0m\n",
       "\u001b[1m}\u001b[0m\n"
      ]
     },
     "metadata": {},
     "output_type": "display_data"
    },
    {
     "data": {
      "text/html": [
       "<pre style=\"white-space:pre;overflow-x:auto;line-height:normal;font-family:Menlo,'DejaVu Sans Mono',consolas,'Courier New',monospace\">\n",
       "<span style=\"color: #808000; text-decoration-color: #808000; font-weight: bold\">------- Hoàn thành bước: differentiated_instruction_advisor -------</span>\n",
       "</pre>\n"
      ],
      "text/plain": [
       "\n",
       "\u001b[1;33m------- Hoàn thành bước: differentiated_instruction_advisor -------\u001b[0m\n"
      ]
     },
     "metadata": {},
     "output_type": "display_data"
    },
    {
     "data": {
      "text/html": [
       "<pre style=\"white-space:pre;overflow-x:auto;line-height:normal;font-family:Menlo,'DejaVu Sans Mono',consolas,'Courier New',monospace\">\n",
       "<span style=\"color: #008080; text-decoration-color: #008080; font-weight: bold\">&gt;</span> `Agent: Pedagogy Strategist` <span style=\"font-weight: bold\">(</span>v7.<span style=\"color: #008080; text-decoration-color: #008080; font-weight: bold\">5</span><span style=\"font-weight: bold\">)</span> đang xây dựng chiến lược sư phạm chi tiết<span style=\"color: #808000; text-decoration-color: #808000\">...</span>\n",
       "</pre>\n"
      ],
      "text/plain": [
       "\n",
       "\u001b[1;36m>\u001b[0m `Agent: Pedagogy Strategist` \u001b[1m(\u001b[0mv7.\u001b[1;36m5\u001b[0m\u001b[1m)\u001b[0m đang xây dựng chiến lược sư phạm chi tiết\u001b[33m...\u001b[0m\n"
      ]
     },
     "metadata": {},
     "output_type": "display_data"
    },
    {
     "data": {
      "text/html": [
       "<pre style=\"white-space:pre;overflow-x:auto;line-height:normal;font-family:Menlo,'DejaVu Sans Mono',consolas,'Courier New',monospace\"><span style=\"color: #008000; text-decoration-color: #008000; font-weight: bold\">✔️ Chiến lược sư phạm chi tiết:</span>\n",
       "</pre>\n"
      ],
      "text/plain": [
       "\u001b[1;32m✔️ Chiến lược sư phạm chi tiết:\u001b[0m\n"
      ]
     },
     "metadata": {},
     "output_type": "display_data"
    },
    {
     "data": {
      "text/html": [
       "<pre style=\"white-space:pre;overflow-x:auto;line-height:normal;font-family:Menlo,'DejaVu Sans Mono',consolas,'Courier New',monospace\"><span style=\"font-weight: bold\">{</span>\n",
       "<span style=\"color: #7fbf7f; text-decoration-color: #7fbf7f\">│   </span><span style=\"color: #008000; text-decoration-color: #008000\">'name'</span>: <span style=\"color: #008000; text-decoration-color: #008000\">'Dạy học hợp tác (Cooperative Learning)'</span>,\n",
       "<span style=\"color: #7fbf7f; text-decoration-color: #7fbf7f\">│   </span><span style=\"color: #008000; text-decoration-color: #008000\">'rationale'</span>: <span style=\"color: #008000; text-decoration-color: #008000\">'Phương pháp dạy học hợp tác rất phù hợp với lớp học có tốc độ tiếp thu chậm, dễ mất tập trung và có phong cách học thụ động. Việc chia nhóm giúp tăng cường tương tác giữa các học sinh, khuyến khích sự chủ động tham gia và hỗ trợ lẫn nhau. Học sinh yếu hơn có thể nhận được sự giúp đỡ từ bạn bè trong nhóm, trong khi học sinh khá giỏi có cơ hội củng cố kiến thức và phát triển kỹ năng hướng dẫn. Các hoạt động nhóm đa dạng, luân phiên sẽ duy trì sự chú ý và hứng thú của học sinh trong suốt 90 phút, đồng thời giúp giáo viên dễ dàng quan sát, hỗ trợ và phân hóa kiến thức theo từng nhóm đối tượng.'</span>,\n",
       "<span style=\"color: #7fbf7f; text-decoration-color: #7fbf7f\">│   </span><span style=\"color: #008000; text-decoration-color: #008000\">'key_actions'</span>: <span style=\"font-weight: bold\">[</span>\n",
       "<span style=\"color: #7fbf7f; text-decoration-color: #7fbf7f\">│   │   </span><span style=\"color: #008000; text-decoration-color: #008000\">'Chia nhóm và giao nhiệm vụ học tập cụ thể liên quan đến đường tròn ngoại tiếp và nội tiếp (ví dụ: khám phá định nghĩa, tính chất, cách vẽ, giải bài tập cơ bản).'</span>,\n",
       "<span style=\"color: #7fbf7f; text-decoration-color: #7fbf7f\">│   │   </span><span style=\"color: #008000; text-decoration-color: #008000\">'Học sinh làm việc nhóm, cùng nhau thảo luận, nghiên cứu tài liệu, thực hiện các hoạt động (vẽ hình, chứng minh, giải bài tập) dưới sự hướng dẫn và hỗ trợ của giáo viên.'</span>,\n",
       "<span style=\"color: #7fbf7f; text-decoration-color: #7fbf7f\">│   │   </span><span style=\"color: #008000; text-decoration-color: #008000\">'Đại diện các nhóm trình bày sản phẩm hoặc kết quả thảo luận của nhóm mình trước lớp.'</span>,\n",
       "<span style=\"color: #7fbf7f; text-decoration-color: #7fbf7f\">│   │   </span><span style=\"color: #008000; text-decoration-color: #008000\">'Giáo viên nhận xét, bổ sung, tổng hợp các kiến thức trọng tâm, giải đáp thắc mắc và chuẩn hóa bài học.'</span>,\n",
       "<span style=\"color: #7fbf7f; text-decoration-color: #7fbf7f\">│   │   </span><span style=\"color: #008000; text-decoration-color: #008000\">'Giáo viên đánh giá hoạt động nhóm và kết quả học tập của học sinh, đưa ra phản hồi để cải thiện.'</span>\n",
       "<span style=\"color: #7fbf7f; text-decoration-color: #7fbf7f\">│   </span><span style=\"font-weight: bold\">]</span>\n",
       "<span style=\"font-weight: bold\">}</span>\n",
       "</pre>\n"
      ],
      "text/plain": [
       "\u001b[1m{\u001b[0m\n",
       "\u001b[2;32m│   \u001b[0m\u001b[32m'name'\u001b[0m: \u001b[32m'Dạy học hợp tác \u001b[0m\u001b[32m(\u001b[0m\u001b[32mCooperative Learning\u001b[0m\u001b[32m)\u001b[0m\u001b[32m'\u001b[0m,\n",
       "\u001b[2;32m│   \u001b[0m\u001b[32m'rationale'\u001b[0m: \u001b[32m'Phương pháp dạy học hợp tác rất phù hợp với lớp học có tốc độ tiếp thu chậm, dễ mất tập trung và có phong cách học thụ động. Việc chia nhóm giúp tăng cường tương tác giữa các học sinh, khuyến khích sự chủ động tham gia và hỗ trợ lẫn nhau. Học sinh yếu hơn có thể nhận được sự giúp đỡ từ bạn bè trong nhóm, trong khi học sinh khá giỏi có cơ hội củng cố kiến thức và phát triển kỹ năng hướng dẫn. Các hoạt động nhóm đa dạng, luân phiên sẽ duy trì sự chú ý và hứng thú của học sinh trong suốt 90 phút, đồng thời giúp giáo viên dễ dàng quan sát, hỗ trợ và phân hóa kiến thức theo từng nhóm đối tượng.'\u001b[0m,\n",
       "\u001b[2;32m│   \u001b[0m\u001b[32m'key_actions'\u001b[0m: \u001b[1m[\u001b[0m\n",
       "\u001b[2;32m│   │   \u001b[0m\u001b[32m'Chia nhóm và giao nhiệm vụ học tập cụ thể liên quan đến đường tròn ngoại tiếp và nội tiếp \u001b[0m\u001b[32m(\u001b[0m\u001b[32mví dụ: khám phá định nghĩa, tính chất, cách vẽ, giải bài tập cơ bản\u001b[0m\u001b[32m)\u001b[0m\u001b[32m.'\u001b[0m,\n",
       "\u001b[2;32m│   │   \u001b[0m\u001b[32m'Học sinh làm việc nhóm, cùng nhau thảo luận, nghiên cứu tài liệu, thực hiện các hoạt động \u001b[0m\u001b[32m(\u001b[0m\u001b[32mvẽ hình, chứng minh, giải bài tập\u001b[0m\u001b[32m)\u001b[0m\u001b[32m dưới sự hướng dẫn và hỗ trợ của giáo viên.'\u001b[0m,\n",
       "\u001b[2;32m│   │   \u001b[0m\u001b[32m'Đại diện các nhóm trình bày sản phẩm hoặc kết quả thảo luận của nhóm mình trước lớp.'\u001b[0m,\n",
       "\u001b[2;32m│   │   \u001b[0m\u001b[32m'Giáo viên nhận xét, bổ sung, tổng hợp các kiến thức trọng tâm, giải đáp thắc mắc và chuẩn hóa bài học.'\u001b[0m,\n",
       "\u001b[2;32m│   │   \u001b[0m\u001b[32m'Giáo viên đánh giá hoạt động nhóm và kết quả học tập của học sinh, đưa ra phản hồi để cải thiện.'\u001b[0m\n",
       "\u001b[2;32m│   \u001b[0m\u001b[1m]\u001b[0m\n",
       "\u001b[1m}\u001b[0m\n"
      ]
     },
     "metadata": {},
     "output_type": "display_data"
    },
    {
     "data": {
      "text/html": [
       "<pre style=\"white-space:pre;overflow-x:auto;line-height:normal;font-family:Menlo,'DejaVu Sans Mono',consolas,'Courier New',monospace\">\n",
       "<span style=\"color: #808000; text-decoration-color: #808000; font-weight: bold\">------- Hoàn thành bước: pedagogy_strategist -------</span>\n",
       "</pre>\n"
      ],
      "text/plain": [
       "\n",
       "\u001b[1;33m------- Hoàn thành bước: pedagogy_strategist -------\u001b[0m\n"
      ]
     },
     "metadata": {},
     "output_type": "display_data"
    },
    {
     "data": {
      "text/html": [
       "<pre style=\"white-space:pre;overflow-x:auto;line-height:normal;font-family:Menlo,'DejaVu Sans Mono',consolas,'Courier New',monospace\">\n",
       "<span style=\"color: #008080; text-decoration-color: #008080; font-weight: bold\">&gt;</span> `Agent: Pedagogical Architect` <span style=\"font-weight: bold\">(</span>v9.<span style=\"color: #008080; text-decoration-color: #008080; font-weight: bold\">4</span><span style=\"font-weight: bold\">)</span> đang thiết kế kịch bản buổi học<span style=\"color: #808000; text-decoration-color: #808000\">...</span>\n",
       "</pre>\n"
      ],
      "text/plain": [
       "\n",
       "\u001b[1;36m>\u001b[0m `Agent: Pedagogical Architect` \u001b[1m(\u001b[0mv9.\u001b[1;36m4\u001b[0m\u001b[1m)\u001b[0m đang thiết kế kịch bản buổi học\u001b[33m...\u001b[0m\n"
      ]
     },
     "metadata": {},
     "output_type": "display_data"
    },
    {
     "data": {
      "text/html": [
       "<pre style=\"white-space:pre;overflow-x:auto;line-height:normal;font-family:Menlo,'DejaVu Sans Mono',consolas,'Courier New',monospace\"><span style=\"color: #008000; text-decoration-color: #008000; font-weight: bold\">✔️ Bản thiết kế Sư phạm đã được tạo:</span>\n",
       "</pre>\n"
      ],
      "text/plain": [
       "\u001b[1;32m✔️ Bản thiết kế Sư phạm đã được tạo:\u001b[0m\n"
      ]
     },
     "metadata": {},
     "output_type": "display_data"
    },
    {
     "data": {
      "text/html": [
       "<pre style=\"white-space:pre;overflow-x:auto;line-height:normal;font-family:Menlo,'DejaVu Sans Mono',consolas,'Courier New',monospace\"><span style=\"font-weight: bold\">[</span>\n",
       "<span style=\"color: #7fbf7f; text-decoration-color: #7fbf7f\">│   </span><span style=\"color: #008000; text-decoration-color: #008000\">\"Khởi động và Khám phá ban đầu: Giáo viên sử dụng hình ảnh/video ngắn về các vật thể có hình dạng liên quan (ví dụ: bánh xe, đồng xu, logo) hoặc các hình vẽ đơn giản để đặt câu hỏi gợi mở. Tổ chức hoạt động 'Ghép đôi' hoặc 'Đố vui nhanh' về các yếu tố cơ bản của đường tròn và tam giác. Dẫn dắt học sinh đến câu hỏi 'Làm thế nào để vẽ một đường tròn đi qua 3 đỉnh của tam giác?' hoặc 'Làm thế nào để vẽ một đường tròn tiếp xúc với 3 cạnh của tam giác?'.\"</span>,\n",
       "<span style=\"color: #7fbf7f; text-decoration-color: #7fbf7f\">│   </span><span style=\"color: #008000; text-decoration-color: #008000\">'Xây dựng kiến thức cốt lõi (Học tập hợp tác): Chia lớp thành các nhóm nhỏ (4-5 học sinh). Mỗi nhóm nhận một phiếu học tập có các nhiệm vụ cụ thể: Nhiệm vụ 1: Vẽ một tam giác bất kỳ và tìm cách vẽ đường tròn đi qua 3 đỉnh của nó (đường tròn ngoại tiếp). Nhiệm vụ 2: Vẽ một tam giác bất kỳ và tìm cách vẽ đường tròn tiếp xúc với 3 cạnh của nó (đường tròn nội tiếp). Nhiệm vụ 3: Thảo luận và ghi lại định nghĩa, tính chất, cách xác định tâm và bán kính của mỗi loại đường tròn. Giáo viên đi quanh các nhóm, quan sát, gợi ý, hỗ trợ và giải đáp thắc mắc. Khuyến khích học sinh yếu hơn đặt câu hỏi và học sinh khá giỏi hướng dẫn bạn.'</span>,\n",
       "<span style=\"color: #7fbf7f; text-decoration-color: #7fbf7f\">│   </span><span style=\"color: #008000; text-decoration-color: #008000\">\"Vận dụng và Luyện tập cơ bản: Giáo viên cung cấp các bài tập vận dụng từ dễ đến trung bình. Bài tập nhóm: Các nhóm tiếp tục làm việc để giải quyết 1-2 bài tập áp dụng trực tiếp (ví dụ: 'Cho tam giác ABC vuông tại A, hãy xác định tâm và bán kính đường tròn ngoại tiếp tam giác đó'). Bài tập cá nhân: Mỗi học sinh làm 1-2 bài tập tương tự vào vở để củng cố. Giáo viên theo dõi, hỗ chữa các nhóm/cá nhân gặp khó khăn. Khuyến khích học sinh khá giỏi thử sức với các bài tập có thêm một bước suy luận nhỏ.\"</span>,\n",
       "<span style=\"color: #7fbf7f; text-decoration-color: #7fbf7f\">│   </span><span style=\"color: #008000; text-decoration-color: #008000\">'Tổng kết, Củng cố và Mở rộng: Đại diện 1-2 nhóm trình bày kết quả/cách giải của một bài tập tiêu biểu. Giáo viên tổng hợp, chuẩn hóa kiến thức về định nghĩa, tính chất, cách xác định tâm và bán kính của đường tròn ngoại tiếp và nội tiếp. Sử dụng sơ đồ tư duy hoặc bảng so sánh để học sinh dễ hình dung. Giải đáp các câu hỏi của học sinh. Đối với học sinh khá giỏi, giáo viên có thể đưa ra một bài toán nhỏ có tính chất mở rộng hoặc gợi ý về các tính chất đặc biệt của đường tròn ngoại tiếp/nội tiếp trong tam giác đều, tam giác vuông.'</span>,\n",
       "<span style=\"color: #7fbf7f; text-decoration-color: #7fbf7f\">│   </span><span style=\"color: #008000; text-decoration-color: #008000\">'Đánh giá và Giao nhiệm vụ về nhà: Giáo viên cho học sinh làm một bài tập trắc nghiệm nhanh hoặc điền khuyết 2-3 câu để kiểm tra mức độ hiểu bài. Thu phiếu học tập nhóm để đánh giá quá trình. Giao bài tập về nhà bao gồm các dạng bài đã học và một số bài tập nâng cao (có đánh dấu) cho học sinh khá giỏi tự luyện tập. Nhắc nhở học sinh chuẩn bị bài cho buổi học tiếp theo.'</span>\n",
       "<span style=\"font-weight: bold\">]</span>\n",
       "</pre>\n"
      ],
      "text/plain": [
       "\u001b[1m[\u001b[0m\n",
       "\u001b[2;32m│   \u001b[0m\u001b[32m\"Khởi động và Khám phá ban đầu: Giáo viên sử dụng hình ảnh/video ngắn về các vật thể có hình dạng liên quan \u001b[0m\u001b[32m(\u001b[0m\u001b[32mví dụ: bánh xe, đồng xu, logo\u001b[0m\u001b[32m)\u001b[0m\u001b[32m hoặc các hình vẽ đơn giản để đặt câu hỏi gợi mở. Tổ chức hoạt động 'Ghép đôi' hoặc 'Đố vui nhanh' về các yếu tố cơ bản của đường tròn và tam giác. Dẫn dắt học sinh đến câu hỏi 'Làm thế nào để vẽ một đường tròn đi qua 3 đỉnh của tam giác?' hoặc 'Làm thế nào để vẽ một đường tròn tiếp xúc với 3 cạnh của tam giác?'.\"\u001b[0m,\n",
       "\u001b[2;32m│   \u001b[0m\u001b[32m'Xây dựng kiến thức cốt lõi \u001b[0m\u001b[32m(\u001b[0m\u001b[32mHọc tập hợp tác\u001b[0m\u001b[32m)\u001b[0m\u001b[32m: Chia lớp thành các nhóm nhỏ \u001b[0m\u001b[32m(\u001b[0m\u001b[32m4-5 học sinh\u001b[0m\u001b[32m)\u001b[0m\u001b[32m. Mỗi nhóm nhận một phiếu học tập có các nhiệm vụ cụ thể: Nhiệm vụ 1: Vẽ một tam giác bất kỳ và tìm cách vẽ đường tròn đi qua 3 đỉnh của nó \u001b[0m\u001b[32m(\u001b[0m\u001b[32mđường tròn ngoại tiếp\u001b[0m\u001b[32m)\u001b[0m\u001b[32m. Nhiệm vụ 2: Vẽ một tam giác bất kỳ và tìm cách vẽ đường tròn tiếp xúc với 3 cạnh của nó \u001b[0m\u001b[32m(\u001b[0m\u001b[32mđường tròn nội tiếp\u001b[0m\u001b[32m)\u001b[0m\u001b[32m. Nhiệm vụ 3: Thảo luận và ghi lại định nghĩa, tính chất, cách xác định tâm và bán kính của mỗi loại đường tròn. Giáo viên đi quanh các nhóm, quan sát, gợi ý, hỗ trợ và giải đáp thắc mắc. Khuyến khích học sinh yếu hơn đặt câu hỏi và học sinh khá giỏi hướng dẫn bạn.'\u001b[0m,\n",
       "\u001b[2;32m│   \u001b[0m\u001b[32m\"Vận dụng và Luyện tập cơ bản: Giáo viên cung cấp các bài tập vận dụng từ dễ đến trung bình. Bài tập nhóm: Các nhóm tiếp tục làm việc để giải quyết 1-2 bài tập áp dụng trực tiếp \u001b[0m\u001b[32m(\u001b[0m\u001b[32mví dụ: 'Cho tam giác ABC vuông tại A, hãy xác định tâm và bán kính đường tròn ngoại tiếp tam giác đó'\u001b[0m\u001b[32m)\u001b[0m\u001b[32m. Bài tập cá nhân: Mỗi học sinh làm 1-2 bài tập tương tự vào vở để củng cố. Giáo viên theo dõi, hỗ chữa các nhóm/cá nhân gặp khó khăn. Khuyến khích học sinh khá giỏi thử sức với các bài tập có thêm một bước suy luận nhỏ.\"\u001b[0m,\n",
       "\u001b[2;32m│   \u001b[0m\u001b[32m'Tổng kết, Củng cố và Mở rộng: Đại diện 1-2 nhóm trình bày kết quả/cách giải của một bài tập tiêu biểu. Giáo viên tổng hợp, chuẩn hóa kiến thức về định nghĩa, tính chất, cách xác định tâm và bán kính của đường tròn ngoại tiếp và nội tiếp. Sử dụng sơ đồ tư duy hoặc bảng so sánh để học sinh dễ hình dung. Giải đáp các câu hỏi của học sinh. Đối với học sinh khá giỏi, giáo viên có thể đưa ra một bài toán nhỏ có tính chất mở rộng hoặc gợi ý về các tính chất đặc biệt của đường tròn ngoại tiếp/nội tiếp trong tam giác đều, tam giác vuông.'\u001b[0m,\n",
       "\u001b[2;32m│   \u001b[0m\u001b[32m'Đánh giá và Giao nhiệm vụ về nhà: Giáo viên cho học sinh làm một bài tập trắc nghiệm nhanh hoặc điền khuyết 2-3 câu để kiểm tra mức độ hiểu bài. Thu phiếu học tập nhóm để đánh giá quá trình. Giao bài tập về nhà bao gồm các dạng bài đã học và một số bài tập nâng cao \u001b[0m\u001b[32m(\u001b[0m\u001b[32mcó đánh dấu\u001b[0m\u001b[32m)\u001b[0m\u001b[32m cho học sinh khá giỏi tự luyện tập. Nhắc nhở học sinh chuẩn bị bài cho buổi học tiếp theo.'\u001b[0m\n",
       "\u001b[1m]\u001b[0m\n"
      ]
     },
     "metadata": {},
     "output_type": "display_data"
    },
    {
     "data": {
      "text/html": [
       "<pre style=\"white-space:pre;overflow-x:auto;line-height:normal;font-family:Menlo,'DejaVu Sans Mono',consolas,'Courier New',monospace\">\n",
       "<span style=\"color: #808000; text-decoration-color: #808000; font-weight: bold\">------- Hoàn thành bước: pedagogical_architect -------</span>\n",
       "</pre>\n"
      ],
      "text/plain": [
       "\n",
       "\u001b[1;33m------- Hoàn thành bước: pedagogical_architect -------\u001b[0m\n"
      ]
     },
     "metadata": {},
     "output_type": "display_data"
    },
    {
     "data": {
      "text/html": [
       "<pre style=\"white-space:pre;overflow-x:auto;line-height:normal;font-family:Menlo,'DejaVu Sans Mono',consolas,'Courier New',monospace\">\n",
       "<span style=\"color: #008080; text-decoration-color: #008080; font-weight: bold\">&gt;</span> `Agent: Query Expansion` <span style=\"font-weight: bold\">(</span>v7.<span style=\"color: #008080; text-decoration-color: #008080; font-weight: bold\">5</span><span style=\"font-weight: bold\">)</span> đang phân tích yêu cầu<span style=\"color: #808000; text-decoration-color: #808000\">...</span>\n",
       "</pre>\n"
      ],
      "text/plain": [
       "\n",
       "\u001b[1;36m>\u001b[0m `Agent: Query Expansion` \u001b[1m(\u001b[0mv7.\u001b[1;36m5\u001b[0m\u001b[1m)\u001b[0m đang phân tích yêu cầu\u001b[33m...\u001b[0m\n"
      ]
     },
     "metadata": {},
     "output_type": "display_data"
    },
    {
     "data": {
      "text/html": [
       "<pre style=\"white-space:pre;overflow-x:auto;line-height:normal;font-family:Menlo,'DejaVu Sans Mono',consolas,'Courier New',monospace\"><span style=\"color: #008000; text-decoration-color: #008000; font-weight: bold\">✔️ Các truy vấn tìm kiếm đã được mở rộng:</span>\n",
       "</pre>\n"
      ],
      "text/plain": [
       "\u001b[1;32m✔️ Các truy vấn tìm kiếm đã được mở rộng:\u001b[0m\n"
      ]
     },
     "metadata": {},
     "output_type": "display_data"
    },
    {
     "data": {
      "text/html": [
       "<pre style=\"white-space:pre;overflow-x:auto;line-height:normal;font-family:Menlo,'DejaVu Sans Mono',consolas,'Courier New',monospace\"><span style=\"font-weight: bold\">[</span>\n",
       "<span style=\"color: #7fbf7f; text-decoration-color: #7fbf7f\">│   </span><span style=\"color: #008000; text-decoration-color: #008000\">'đường tròn ngoại tiếp là gì'</span>,\n",
       "<span style=\"color: #7fbf7f; text-decoration-color: #7fbf7f\">│   </span><span style=\"color: #008000; text-decoration-color: #008000\">'đường tròn nội tiếp là gì'</span>,\n",
       "<span style=\"color: #7fbf7f; text-decoration-color: #7fbf7f\">│   </span><span style=\"color: #008000; text-decoration-color: #008000\">'công thức bán kính đường tròn ngoại tiếp tam giác'</span>,\n",
       "<span style=\"color: #7fbf7f; text-decoration-color: #7fbf7f\">│   </span><span style=\"color: #008000; text-decoration-color: #008000\">'công thức bán kính đường tròn nội tiếp tam giác'</span>,\n",
       "<span style=\"color: #7fbf7f; text-decoration-color: #7fbf7f\">│   </span><span style=\"color: #008000; text-decoration-color: #008000\">'tính chất đường tròn ngoại tiếp và nội tiếp'</span>,\n",
       "<span style=\"color: #7fbf7f; text-decoration-color: #7fbf7f\">│   </span><span style=\"color: #008000; text-decoration-color: #008000\">'bài tập đường tròn ngoại tiếp tam giác'</span>,\n",
       "<span style=\"color: #7fbf7f; text-decoration-color: #7fbf7f\">│   </span><span style=\"color: #008000; text-decoration-color: #008000\">'bài tập đường tròn nội tiếp tam giác'</span>,\n",
       "<span style=\"color: #7fbf7f; text-decoration-color: #7fbf7f\">│   </span><span style=\"color: #008000; text-decoration-color: #008000\">'tâm đường tròn ngoại tiếp tam giác'</span>,\n",
       "<span style=\"color: #7fbf7f; text-decoration-color: #7fbf7f\">│   </span><span style=\"color: #008000; text-decoration-color: #008000\">'tâm đường tròn nội tiếp tam giác'</span>,\n",
       "<span style=\"color: #7fbf7f; text-decoration-color: #7fbf7f\">│   </span><span style=\"color: #008000; text-decoration-color: #008000\">'đường tròn ngoại tiếp tứ giác'</span>,\n",
       "<span style=\"color: #7fbf7f; text-decoration-color: #7fbf7f\">│   </span><span style=\"color: #008000; text-decoration-color: #008000\">'đường tròn nội tiếp tứ giác'</span>,\n",
       "<span style=\"color: #7fbf7f; text-decoration-color: #7fbf7f\">│   </span><span style=\"color: #008000; text-decoration-color: #008000\">'cách vẽ đường tròn ngoại tiếp tam giác'</span>,\n",
       "<span style=\"color: #7fbf7f; text-decoration-color: #7fbf7f\">│   </span><span style=\"color: #008000; text-decoration-color: #008000\">'cách vẽ đường tròn nội tiếp tam giác'</span>,\n",
       "<span style=\"color: #7fbf7f; text-decoration-color: #7fbf7f\">│   </span><span style=\"color: #008000; text-decoration-color: #008000\">'ứng dụng đường tròn ngoại tiếp nội tiếp'</span>,\n",
       "<span style=\"color: #7fbf7f; text-decoration-color: #7fbf7f\">│   </span><span style=\"color: #008000; text-decoration-color: #008000\">'chuyên đề đường tròn ngoại tiếp nội tiếp'</span>,\n",
       "<span style=\"color: #7fbf7f; text-decoration-color: #7fbf7f\">│   </span><span style=\"color: #008000; text-decoration-color: #008000\">'toán 9 đường tròn ngoại tiếp nội tiếp'</span>,\n",
       "<span style=\"color: #7fbf7f; text-decoration-color: #7fbf7f\">│   </span><span style=\"color: #008000; text-decoration-color: #008000\">'lý thuyết đường tròn ngoại tiếp nội tiếp'</span>,\n",
       "<span style=\"color: #7fbf7f; text-decoration-color: #7fbf7f\">│   </span><span style=\"color: #008000; text-decoration-color: #008000\">'bài tập nâng cao đường tròn ngoại tiếp nội tiếp'</span>,\n",
       "<span style=\"color: #7fbf7f; text-decoration-color: #7fbf7f\">│   </span><span style=\"color: #008000; text-decoration-color: #008000\">'quan hệ giữa đường tròn ngoại tiếp và nội tiếp'</span>,\n",
       "<span style=\"color: #7fbf7f; text-decoration-color: #7fbf7f\">│   </span><span style=\"color: #008000; text-decoration-color: #008000\">'đường tròn bàng tiếp tam giác'</span>\n",
       "<span style=\"font-weight: bold\">]</span>\n",
       "</pre>\n"
      ],
      "text/plain": [
       "\u001b[1m[\u001b[0m\n",
       "\u001b[2;32m│   \u001b[0m\u001b[32m'đường tròn ngoại tiếp là gì'\u001b[0m,\n",
       "\u001b[2;32m│   \u001b[0m\u001b[32m'đường tròn nội tiếp là gì'\u001b[0m,\n",
       "\u001b[2;32m│   \u001b[0m\u001b[32m'công thức bán kính đường tròn ngoại tiếp tam giác'\u001b[0m,\n",
       "\u001b[2;32m│   \u001b[0m\u001b[32m'công thức bán kính đường tròn nội tiếp tam giác'\u001b[0m,\n",
       "\u001b[2;32m│   \u001b[0m\u001b[32m'tính chất đường tròn ngoại tiếp và nội tiếp'\u001b[0m,\n",
       "\u001b[2;32m│   \u001b[0m\u001b[32m'bài tập đường tròn ngoại tiếp tam giác'\u001b[0m,\n",
       "\u001b[2;32m│   \u001b[0m\u001b[32m'bài tập đường tròn nội tiếp tam giác'\u001b[0m,\n",
       "\u001b[2;32m│   \u001b[0m\u001b[32m'tâm đường tròn ngoại tiếp tam giác'\u001b[0m,\n",
       "\u001b[2;32m│   \u001b[0m\u001b[32m'tâm đường tròn nội tiếp tam giác'\u001b[0m,\n",
       "\u001b[2;32m│   \u001b[0m\u001b[32m'đường tròn ngoại tiếp tứ giác'\u001b[0m,\n",
       "\u001b[2;32m│   \u001b[0m\u001b[32m'đường tròn nội tiếp tứ giác'\u001b[0m,\n",
       "\u001b[2;32m│   \u001b[0m\u001b[32m'cách vẽ đường tròn ngoại tiếp tam giác'\u001b[0m,\n",
       "\u001b[2;32m│   \u001b[0m\u001b[32m'cách vẽ đường tròn nội tiếp tam giác'\u001b[0m,\n",
       "\u001b[2;32m│   \u001b[0m\u001b[32m'ứng dụng đường tròn ngoại tiếp nội tiếp'\u001b[0m,\n",
       "\u001b[2;32m│   \u001b[0m\u001b[32m'chuyên đề đường tròn ngoại tiếp nội tiếp'\u001b[0m,\n",
       "\u001b[2;32m│   \u001b[0m\u001b[32m'toán 9 đường tròn ngoại tiếp nội tiếp'\u001b[0m,\n",
       "\u001b[2;32m│   \u001b[0m\u001b[32m'lý thuyết đường tròn ngoại tiếp nội tiếp'\u001b[0m,\n",
       "\u001b[2;32m│   \u001b[0m\u001b[32m'bài tập nâng cao đường tròn ngoại tiếp nội tiếp'\u001b[0m,\n",
       "\u001b[2;32m│   \u001b[0m\u001b[32m'quan hệ giữa đường tròn ngoại tiếp và nội tiếp'\u001b[0m,\n",
       "\u001b[2;32m│   \u001b[0m\u001b[32m'đường tròn bàng tiếp tam giác'\u001b[0m\n",
       "\u001b[1m]\u001b[0m\n"
      ]
     },
     "metadata": {},
     "output_type": "display_data"
    },
    {
     "data": {
      "text/html": [
       "<pre style=\"white-space:pre;overflow-x:auto;line-height:normal;font-family:Menlo,'DejaVu Sans Mono',consolas,'Courier New',monospace\">\n",
       "<span style=\"color: #808000; text-decoration-color: #808000; font-weight: bold\">------- Hoàn thành bước: query_expansion -------</span>\n",
       "</pre>\n"
      ],
      "text/plain": [
       "\n",
       "\u001b[1;33m------- Hoàn thành bước: query_expansion -------\u001b[0m\n"
      ]
     },
     "metadata": {},
     "output_type": "display_data"
    },
    {
     "data": {
      "text/html": [
       "<pre style=\"white-space:pre;overflow-x:auto;line-height:normal;font-family:Menlo,'DejaVu Sans Mono',consolas,'Courier New',monospace\">\n",
       "<span style=\"color: #008080; text-decoration-color: #008080; font-weight: bold\">&gt;</span> `Agent: Resource Scout` <span style=\"font-weight: bold\">(</span>v8.<span style=\"color: #008080; text-decoration-color: #008080; font-weight: bold\">1</span> - Sửa lỗi<span style=\"font-weight: bold\">)</span> đang tìm kiếm và sàng lọc<span style=\"color: #808000; text-decoration-color: #808000\">...</span>\n",
       "</pre>\n"
      ],
      "text/plain": [
       "\n",
       "\u001b[1;36m>\u001b[0m `Agent: Resource Scout` \u001b[1m(\u001b[0mv8.\u001b[1;36m1\u001b[0m - Sửa lỗi\u001b[1m)\u001b[0m đang tìm kiếm và sàng lọc\u001b[33m...\u001b[0m\n"
      ]
     },
     "metadata": {},
     "output_type": "display_data"
    },
    {
     "data": {
      "text/html": [
       "<pre style=\"white-space:pre;overflow-x:auto;line-height:normal;font-family:Menlo,'DejaVu Sans Mono',consolas,'Courier New',monospace\">\n",
       "<span style=\"color: #008080; text-decoration-color: #008080; font-weight: bold\">&gt;</span> Tìm thấy <span style=\"color: #008080; text-decoration-color: #008080; font-weight: bold\">100</span> tài liệu, sàng lọc còn <span style=\"color: #008080; text-decoration-color: #008080; font-weight: bold\">8</span> đoạn văn bản độc nhất.\n",
       "</pre>\n"
      ],
      "text/plain": [
       "\n",
       "\u001b[1;36m>\u001b[0m Tìm thấy \u001b[1;36m100\u001b[0m tài liệu, sàng lọc còn \u001b[1;36m8\u001b[0m đoạn văn bản độc nhất.\n"
      ]
     },
     "metadata": {},
     "output_type": "display_data"
    },
    {
     "data": {
      "text/html": [
       "<pre style=\"white-space:pre;overflow-x:auto;line-height:normal;font-family:Menlo,'DejaVu Sans Mono',consolas,'Courier New',monospace\"><span style=\"color: #008000; text-decoration-color: #008000; font-weight: bold\">✔️ Tài liệu RAG cuối cùng:</span>\n",
       "</pre>\n"
      ],
      "text/plain": [
       "\u001b[1;32m✔️ Tài liệu RAG cuối cùng:\u001b[0m\n"
      ]
     },
     "metadata": {},
     "output_type": "display_data"
    },
    {
     "data": {
      "text/html": [
       "<pre style=\"white-space:pre;overflow-x:auto;line-height:normal;font-family:Menlo,'DejaVu Sans Mono',consolas,'Courier New',monospace\"><span style=\"font-weight: bold\">{</span>\n",
       "<span style=\"color: #7fbf7f; text-decoration-color: #7fbf7f\">│   </span><span style=\"color: #008000; text-decoration-color: #008000\">'source'</span>: <span style=\"color: #008000; text-decoration-color: #008000\">'Sách giáo khoa (từ RAG - đã sàng lọc)'</span>,\n",
       "<span style=\"color: #7fbf7f; text-decoration-color: #7fbf7f\">│   </span><span style=\"color: #008000; text-decoration-color: #008000\">'summary'</span>: <span style=\"color: #008000; text-decoration-color: #008000\">'Chào em,\\n\\nVới vai trò là một giáo viên giàu kinh nghiệm, thầy sẽ giúp em tổng hợp kiến thức cốt lõi về chủ đề \"Đường tròn\" dựa trên các đoạn văn bản đã cho. Mặc dù các đoạn văn bản này chủ yếu giới thiệu về đường tròn cơ bản, nhưng thầy sẽ chắt lọc những điểm quan trọng nhất.\\n\\n---\\n\\n**TÓM TẮT KIẾN THỨC CỐT LÕI VỀ ĐƯỜNG TRÒN**\\n\\nDựa trên các đoạn văn bản được cung cấp, kiến thức cốt lõi về đường tròn bao gồm các điểm sau:\\n\\n**1. Định nghĩa Đường tròn**\\n*   **Khái niệm:** Đường tròn tâm O bán kính R ($R &gt; 0$), kí hiệu là $(O, R)$ hoặc $(O)$, là hình gồm tất cả các điểm cách điểm O một khoảng bằng R.\\n*   **Điểm thuộc đường tròn:** Nếu A là một điểm của đường tròn (O), ta viết $A \\\\in (O)$. Khi đó, đường tròn (O) đi qua điểm A, hay điểm A nằm trên đường tròn (O).\\n\\n**2. Vị trí của một điểm đối với Đường tròn**\\nCho đường tròn $(O; R)$ và điểm M:\\n*   Điểm M nằm **trên** đường tròn $(O; R)$ nếu $OM = R$.\\n*   Điểm M nằm **trong** đường tròn $(O; R)$ nếu $OM &lt; R$.\\n*   Điểm M nằm **ngoài** đường tròn $(O; R)$ nếu $OM &gt; R$.\\n\\n**3. Hình tròn**\\n*   **Định nghĩa:** Hình tròn tâm O bán kính R là hình gồm các điểm nằm trên và nằm trong đường tròn $(O; R)$.\\n\\n**4. Tính đối xứng của Đường tròn**\\n*   **Tâm đối xứng:** Đường tròn có tâm O là tâm đối xứng.\\n*   **Trục đối xứng:** Đường tròn có mọi đường thẳng đi qua tâm O là trục đối xứng.\\n\\n**5. Các mối quan hệ giữa hai Đường tròn (được đề cập trong bài tập)**\\nMặc dù các định nghĩa chi tiết không được cung cấp trong phần lý thuyết, nhưng các bài tập đã đề cập đến các mối quan hệ sau giữa hai đường tròn:\\n*   **Cắt nhau:** Hai đường tròn có thể cắt nhau tại hai điểm.\\n*   **Không giao nhau:** Hai đường tròn có thể không có điểm chung.\\n*   **Tiếp xúc:** Hai đường tròn có thể tiếp xúc với nhau (tiếp xúc trong hoặc tiếp xúc ngoài) tại một điểm duy nhất.\\n\\n---\\n\\nHy vọng bản tóm tắt này giúp em nắm vững các khái niệm cơ bản về đường tròn từ tài liệu đã cho.'</span>\n",
       "<span style=\"font-weight: bold\">}</span>\n",
       "</pre>\n"
      ],
      "text/plain": [
       "\u001b[1m{\u001b[0m\n",
       "\u001b[2;32m│   \u001b[0m\u001b[32m'source'\u001b[0m: \u001b[32m'Sách giáo khoa \u001b[0m\u001b[32m(\u001b[0m\u001b[32mtừ RAG - đã sàng lọc\u001b[0m\u001b[32m)\u001b[0m\u001b[32m'\u001b[0m,\n",
       "\u001b[2;32m│   \u001b[0m\u001b[32m'summary'\u001b[0m: \u001b[32m'Chào em,\\n\\nVới vai trò là một giáo viên giàu kinh nghiệm, thầy sẽ giúp em tổng hợp kiến thức cốt lõi về chủ đề \"Đường tròn\" dựa trên các đoạn văn bản đã cho. Mặc dù các đoạn văn bản này chủ yếu giới thiệu về đường tròn cơ bản, nhưng thầy sẽ chắt lọc những điểm quan trọng nhất.\\n\\n---\\n\\n**TÓM TẮT KIẾN THỨC CỐT LÕI VỀ ĐƯỜNG TRÒN**\\n\\nDựa trên các đoạn văn bản được cung cấp, kiến thức cốt lõi về đường tròn bao gồm các điểm sau:\\n\\n**1. Định nghĩa Đường tròn**\\n*   **Khái niệm:** Đường tròn tâm O bán kính R \u001b[0m\u001b[32m(\u001b[0m\u001b[32m$R > 0$\u001b[0m\u001b[32m)\u001b[0m\u001b[32m, kí hiệu là $\u001b[0m\u001b[32m(\u001b[0m\u001b[32mO, R\u001b[0m\u001b[32m)\u001b[0m\u001b[32m$ hoặc $\u001b[0m\u001b[32m(\u001b[0m\u001b[32mO\u001b[0m\u001b[32m)\u001b[0m\u001b[32m$, là hình gồm tất cả các điểm cách điểm O một khoảng bằng R.\\n*   **Điểm thuộc đường tròn:** Nếu A là một điểm của đường tròn \u001b[0m\u001b[32m(\u001b[0m\u001b[32mO\u001b[0m\u001b[32m)\u001b[0m\u001b[32m, ta viết $A \\\\in \u001b[0m\u001b[32m(\u001b[0m\u001b[32mO\u001b[0m\u001b[32m)\u001b[0m\u001b[32m$. Khi đó, đường tròn \u001b[0m\u001b[32m(\u001b[0m\u001b[32mO\u001b[0m\u001b[32m)\u001b[0m\u001b[32m đi qua điểm A, hay điểm A nằm trên đường tròn \u001b[0m\u001b[32m(\u001b[0m\u001b[32mO\u001b[0m\u001b[32m)\u001b[0m\u001b[32m.\\n\\n**2. Vị trí của một điểm đối với Đường tròn**\\nCho đường tròn $\u001b[0m\u001b[32m(\u001b[0m\u001b[32mO; R\u001b[0m\u001b[32m)\u001b[0m\u001b[32m$ và điểm M:\\n*   Điểm M nằm **trên** đường tròn $\u001b[0m\u001b[32m(\u001b[0m\u001b[32mO; R\u001b[0m\u001b[32m)\u001b[0m\u001b[32m$ nếu $OM = R$.\\n*   Điểm M nằm **trong** đường tròn $\u001b[0m\u001b[32m(\u001b[0m\u001b[32mO; R\u001b[0m\u001b[32m)\u001b[0m\u001b[32m$ nếu $OM \u001b[0m\u001b[32m<\u001b[0m\u001b[32m R$.\\n*   Điểm M nằm **ngoài** đường tròn $\u001b[0m\u001b[32m(\u001b[0m\u001b[32mO; R\u001b[0m\u001b[32m)\u001b[0m\u001b[32m$ nếu $OM \u001b[0m\u001b[32m>\u001b[0m\u001b[32m R$.\\n\\n**3. Hình tròn**\\n*   **Định nghĩa:** Hình tròn tâm O bán kính R là hình gồm các điểm nằm trên và nằm trong đường tròn $\u001b[0m\u001b[32m(\u001b[0m\u001b[32mO; R\u001b[0m\u001b[32m)\u001b[0m\u001b[32m$.\\n\\n**4. Tính đối xứng của Đường tròn**\\n*   **Tâm đối xứng:** Đường tròn có tâm O là tâm đối xứng.\\n*   **Trục đối xứng:** Đường tròn có mọi đường thẳng đi qua tâm O là trục đối xứng.\\n\\n**5. Các mối quan hệ giữa hai Đường tròn \u001b[0m\u001b[32m(\u001b[0m\u001b[32mđược đề cập trong bài tập\u001b[0m\u001b[32m)\u001b[0m\u001b[32m**\\nMặc dù các định nghĩa chi tiết không được cung cấp trong phần lý thuyết, nhưng các bài tập đã đề cập đến các mối quan hệ sau giữa hai đường tròn:\\n*   **Cắt nhau:** Hai đường tròn có thể cắt nhau tại hai điểm.\\n*   **Không giao nhau:** Hai đường tròn có thể không có điểm chung.\\n*   **Tiếp xúc:** Hai đường tròn có thể tiếp xúc với nhau \u001b[0m\u001b[32m(\u001b[0m\u001b[32mtiếp xúc trong hoặc tiếp xúc ngoài\u001b[0m\u001b[32m)\u001b[0m\u001b[32m tại một điểm duy nhất.\\n\\n---\\n\\nHy vọng bản tóm tắt này giúp em nắm vững các khái niệm cơ bản về đường tròn từ tài liệu đã cho.'\u001b[0m\n",
       "\u001b[1m}\u001b[0m\n"
      ]
     },
     "metadata": {},
     "output_type": "display_data"
    },
    {
     "data": {
      "text/html": [
       "<pre style=\"white-space:pre;overflow-x:auto;line-height:normal;font-family:Menlo,'DejaVu Sans Mono',consolas,'Courier New',monospace\">\n",
       "<span style=\"color: #808000; text-decoration-color: #808000; font-weight: bold\">------- Hoàn thành bước: resource_scout -------</span>\n",
       "</pre>\n"
      ],
      "text/plain": [
       "\n",
       "\u001b[1;33m------- Hoàn thành bước: resource_scout -------\u001b[0m\n"
      ]
     },
     "metadata": {},
     "output_type": "display_data"
    },
    {
     "data": {
      "text/html": [
       "<pre style=\"white-space:pre;overflow-x:auto;line-height:normal;font-family:Menlo,'DejaVu Sans Mono',consolas,'Courier New',monospace\">\n",
       "<span style=\"color: #008080; text-decoration-color: #008080; font-weight: bold\">&gt;</span> `Agent: Plan Delegator` <span style=\"font-weight: bold\">(</span>v9.<span style=\"color: #008080; text-decoration-color: #008080; font-weight: bold\">7</span> - Tư duy Linh hoạt<span style=\"font-weight: bold\">)</span> đang triển khai Bản thiết kế<span style=\"color: #808000; text-decoration-color: #808000\">...</span>\n",
       "</pre>\n"
      ],
      "text/plain": [
       "\n",
       "\u001b[1;36m>\u001b[0m `Agent: Plan Delegator` \u001b[1m(\u001b[0mv9.\u001b[1;36m7\u001b[0m - Tư duy Linh hoạt\u001b[1m)\u001b[0m đang triển khai Bản thiết kế\u001b[33m...\u001b[0m\n"
      ]
     },
     "metadata": {},
     "output_type": "display_data"
    },
    {
     "data": {
      "text/html": [
       "<pre style=\"white-space:pre;overflow-x:auto;line-height:normal;font-family:Menlo,'DejaVu Sans Mono',consolas,'Courier New',monospace\"><span style=\"color: #008000; text-decoration-color: #008000; font-weight: bold\">✔️ Đã tạo </span><span style=\"color: #008000; text-decoration-color: #008000; font-weight: bold\">5</span><span style=\"color: #008000; text-decoration-color: #008000; font-weight: bold\"> nhiệm vụ chi tiết:</span>\n",
       "</pre>\n"
      ],
      "text/plain": [
       "\u001b[1;32m✔️ Đã tạo \u001b[0m\u001b[1;32m5\u001b[0m\u001b[1;32m nhiệm vụ chi tiết:\u001b[0m\n"
      ]
     },
     "metadata": {},
     "output_type": "display_data"
    },
    {
     "data": {
      "text/html": [
       "<pre style=\"white-space:pre;overflow-x:auto;line-height:normal;font-family:Menlo,'DejaVu Sans Mono',consolas,'Courier New',monospace\"><span style=\"font-weight: bold\">[</span>\n",
       "<span style=\"color: #7fbf7f; text-decoration-color: #7fbf7f\">│   </span><span style=\"font-weight: bold\">{</span>\n",
       "<span style=\"color: #7fbf7f; text-decoration-color: #7fbf7f\">│   │   </span><span style=\"color: #008000; text-decoration-color: #008000\">'task_id'</span>: <span style=\"color: #008080; text-decoration-color: #008080; font-weight: bold\">0</span>,\n",
       "<span style=\"color: #7fbf7f; text-decoration-color: #7fbf7f\">│   │   </span><span style=\"color: #008000; text-decoration-color: #008000\">'task_name'</span>: <span style=\"color: #008000; text-decoration-color: #008000\">'Khởi động và Khám phá ban đầu'</span>,\n",
       "<span style=\"color: #7fbf7f; text-decoration-color: #7fbf7f\">│   │   </span><span style=\"color: #008000; text-decoration-color: #008000\">'task_description'</span>: <span style=\"color: #008000; text-decoration-color: #008000\">\"Giáo viên sử dụng hình ảnh/video ngắn về các vật thể có hình dạng liên quan (ví dụ: bánh xe, đồng xu, logo) hoặc các hình vẽ đơn giản để đặt câu hỏi gợi mở. Tổ chức hoạt động 'Ghép đôi' hoặc 'Đố vui nhanh' về các yếu tố cơ bản của đường tròn và tam giác. Dẫn dắt học sinh đến câu hỏi 'Làm thế nào để vẽ một đường tròn đi qua 3 đỉnh của tam giác?' hoặc 'Làm thế nào để vẽ một đường tròn tiếp xúc với 3 cạnh của tam giác?'.\"</span>,\n",
       "<span style=\"color: #7fbf7f; text-decoration-color: #7fbf7f\">│   │   </span><span style=\"color: #008000; text-decoration-color: #008000\">'estimated_duration'</span>: <span style=\"color: #008080; text-decoration-color: #008080; font-weight: bold\">10</span>,\n",
       "<span style=\"color: #7fbf7f; text-decoration-color: #7fbf7f\">│   │   </span><span style=\"color: #008000; text-decoration-color: #008000\">'status'</span>: <span style=\"color: #008000; text-decoration-color: #008000\">'pending'</span>\n",
       "<span style=\"color: #7fbf7f; text-decoration-color: #7fbf7f\">│   </span><span style=\"font-weight: bold\">}</span>,\n",
       "<span style=\"color: #7fbf7f; text-decoration-color: #7fbf7f\">│   </span><span style=\"font-weight: bold\">{</span>\n",
       "<span style=\"color: #7fbf7f; text-decoration-color: #7fbf7f\">│   │   </span><span style=\"color: #008000; text-decoration-color: #008000\">'task_id'</span>: <span style=\"color: #008080; text-decoration-color: #008080; font-weight: bold\">1</span>,\n",
       "<span style=\"color: #7fbf7f; text-decoration-color: #7fbf7f\">│   │   </span><span style=\"color: #008000; text-decoration-color: #008000\">'task_name'</span>: <span style=\"color: #008000; text-decoration-color: #008000\">'Xây dựng kiến thức cốt lõi (Học tập hợp tác)'</span>,\n",
       "<span style=\"color: #7fbf7f; text-decoration-color: #7fbf7f\">│   │   </span><span style=\"color: #008000; text-decoration-color: #008000\">'task_description'</span>: <span style=\"color: #008000; text-decoration-color: #008000\">'Chia lớp thành các nhóm nhỏ (4-5 học sinh). Mỗi nhóm nhận một phiếu học tập có các nhiệm vụ cụ thể: Nhiệm vụ 1: Vẽ một tam giác bất kỳ và tìm cách vẽ đường tròn đi qua 3 đỉnh của nó (đường tròn ngoại tiếp). Nhiệm vụ 2: Vẽ một tam giác bất kỳ và tìm cách vẽ đường tròn tiếp xúc với 3 cạnh của nó (đường tròn nội tiếp). Nhiệm vụ 3: Thảo luận và ghi lại định nghĩa, tính chất, cách xác định tâm và bán kính của mỗi loại đường tròn. Giáo viên đi quanh các nhóm, quan sát, gợi ý, hỗ trợ và giải đáp thắc mắc.'</span>,\n",
       "<span style=\"color: #7fbf7f; text-decoration-color: #7fbf7f\">│   │   </span><span style=\"color: #008000; text-decoration-color: #008000\">'estimated_duration'</span>: <span style=\"color: #008080; text-decoration-color: #008080; font-weight: bold\">30</span>,\n",
       "<span style=\"color: #7fbf7f; text-decoration-color: #7fbf7f\">│   │   </span><span style=\"color: #008000; text-decoration-color: #008000\">'status'</span>: <span style=\"color: #008000; text-decoration-color: #008000\">'pending'</span>\n",
       "<span style=\"color: #7fbf7f; text-decoration-color: #7fbf7f\">│   </span><span style=\"font-weight: bold\">}</span>,\n",
       "<span style=\"color: #7fbf7f; text-decoration-color: #7fbf7f\">│   </span><span style=\"font-weight: bold\">{</span>\n",
       "<span style=\"color: #7fbf7f; text-decoration-color: #7fbf7f\">│   │   </span><span style=\"color: #008000; text-decoration-color: #008000\">'task_id'</span>: <span style=\"color: #008080; text-decoration-color: #008080; font-weight: bold\">2</span>,\n",
       "<span style=\"color: #7fbf7f; text-decoration-color: #7fbf7f\">│   │   </span><span style=\"color: #008000; text-decoration-color: #008000\">'task_name'</span>: <span style=\"color: #008000; text-decoration-color: #008000\">'Vận dụng và Luyện tập cơ bản'</span>,\n",
       "<span style=\"color: #7fbf7f; text-decoration-color: #7fbf7f\">│   │   </span><span style=\"color: #008000; text-decoration-color: #008000\">'task_description'</span>: <span style=\"color: #008000; text-decoration-color: #008000\">'Giáo viên cung cấp các bài tập vận dụng từ dễ đến trung bình. Học sinh làm bài tập nhóm (1-2 bài) và bài tập cá nhân (1-2 bài) để áp dụng trực tiếp kiến thức về đường tròn ngoại tiếp và nội tiếp. Giáo viên theo dõi, hỗ trợ các nhóm/cá nhân gặp khó khăn. Khuyến khích học sinh khá giỏi thử sức với các bài tập có thêm một bước suy luận nhỏ.'</span>,\n",
       "<span style=\"color: #7fbf7f; text-decoration-color: #7fbf7f\">│   │   </span><span style=\"color: #008000; text-decoration-color: #008000\">'estimated_duration'</span>: <span style=\"color: #008080; text-decoration-color: #008080; font-weight: bold\">25</span>,\n",
       "<span style=\"color: #7fbf7f; text-decoration-color: #7fbf7f\">│   │   </span><span style=\"color: #008000; text-decoration-color: #008000\">'status'</span>: <span style=\"color: #008000; text-decoration-color: #008000\">'pending'</span>\n",
       "<span style=\"color: #7fbf7f; text-decoration-color: #7fbf7f\">│   </span><span style=\"font-weight: bold\">}</span>,\n",
       "<span style=\"color: #7fbf7f; text-decoration-color: #7fbf7f\">│   </span><span style=\"font-weight: bold\">{</span>\n",
       "<span style=\"color: #7fbf7f; text-decoration-color: #7fbf7f\">│   │   </span><span style=\"color: #008000; text-decoration-color: #008000\">'task_id'</span>: <span style=\"color: #008080; text-decoration-color: #008080; font-weight: bold\">3</span>,\n",
       "<span style=\"color: #7fbf7f; text-decoration-color: #7fbf7f\">│   │   </span><span style=\"color: #008000; text-decoration-color: #008000\">'task_name'</span>: <span style=\"color: #008000; text-decoration-color: #008000\">'Tổng kết, Củng cố và Mở rộng'</span>,\n",
       "<span style=\"color: #7fbf7f; text-decoration-color: #7fbf7f\">│   │   </span><span style=\"color: #008000; text-decoration-color: #008000\">'task_description'</span>: <span style=\"color: #008000; text-decoration-color: #008000\">'Đại diện 1-2 nhóm trình bày kết quả/cách giải của một bài tập tiêu biểu. Giáo viên tổng hợp, chuẩn hóa kiến thức về định nghĩa, tính chất, cách xác định tâm và bán kính của đường tròn ngoại tiếp và nội tiếp. Sử dụng sơ đồ tư duy hoặc bảng so sánh để học sinh dễ hình dung. Giải đáp các câu hỏi của học sinh. Hoạt động này có thể co giãn. Ưu tiên củng cố các kiến thức cơ bản. Các nội dung mở rộng hoặc bài tập nâng cao là phần bổ sung nếu còn thời gian.'</span>,\n",
       "<span style=\"color: #7fbf7f; text-decoration-color: #7fbf7f\">│   │   </span><span style=\"color: #008000; text-decoration-color: #008000\">'estimated_duration'</span>: <span style=\"color: #008080; text-decoration-color: #008080; font-weight: bold\">15</span>,\n",
       "<span style=\"color: #7fbf7f; text-decoration-color: #7fbf7f\">│   │   </span><span style=\"color: #008000; text-decoration-color: #008000\">'status'</span>: <span style=\"color: #008000; text-decoration-color: #008000\">'pending'</span>\n",
       "<span style=\"color: #7fbf7f; text-decoration-color: #7fbf7f\">│   </span><span style=\"font-weight: bold\">}</span>,\n",
       "<span style=\"color: #7fbf7f; text-decoration-color: #7fbf7f\">│   </span><span style=\"font-weight: bold\">{</span>\n",
       "<span style=\"color: #7fbf7f; text-decoration-color: #7fbf7f\">│   │   </span><span style=\"color: #008000; text-decoration-color: #008000\">'task_id'</span>: <span style=\"color: #008080; text-decoration-color: #008080; font-weight: bold\">4</span>,\n",
       "<span style=\"color: #7fbf7f; text-decoration-color: #7fbf7f\">│   │   </span><span style=\"color: #008000; text-decoration-color: #008000\">'task_name'</span>: <span style=\"color: #008000; text-decoration-color: #008000\">'Đánh giá và Giao nhiệm vụ về nhà'</span>,\n",
       "<span style=\"color: #7fbf7f; text-decoration-color: #7fbf7f\">│   │   </span><span style=\"color: #008000; text-decoration-color: #008000\">'task_description'</span>: <span style=\"color: #008000; text-decoration-color: #008000\">'Giáo viên cho học sinh làm một bài tập trắc nghiệm nhanh hoặc điền khuyết 2-3 câu để kiểm tra mức độ hiểu bài. Thu phiếu học tập nhóm để đánh giá quá trình. Giao bài tập về nhà bao gồm các dạng bài đã học và một số bài tập nâng cao (có đánh dấu) cho học sinh khá giỏi tự luyện tập. Nhắc nhở học sinh chuẩn bị bài cho buổi học tiếp theo.'</span>,\n",
       "<span style=\"color: #7fbf7f; text-decoration-color: #7fbf7f\">│   │   </span><span style=\"color: #008000; text-decoration-color: #008000\">'estimated_duration'</span>: <span style=\"color: #008080; text-decoration-color: #008080; font-weight: bold\">10</span>,\n",
       "<span style=\"color: #7fbf7f; text-decoration-color: #7fbf7f\">│   │   </span><span style=\"color: #008000; text-decoration-color: #008000\">'status'</span>: <span style=\"color: #008000; text-decoration-color: #008000\">'pending'</span>\n",
       "<span style=\"color: #7fbf7f; text-decoration-color: #7fbf7f\">│   </span><span style=\"font-weight: bold\">}</span>\n",
       "<span style=\"font-weight: bold\">]</span>\n",
       "</pre>\n"
      ],
      "text/plain": [
       "\u001b[1m[\u001b[0m\n",
       "\u001b[2;32m│   \u001b[0m\u001b[1m{\u001b[0m\n",
       "\u001b[2;32m│   │   \u001b[0m\u001b[32m'task_id'\u001b[0m: \u001b[1;36m0\u001b[0m,\n",
       "\u001b[2;32m│   │   \u001b[0m\u001b[32m'task_name'\u001b[0m: \u001b[32m'Khởi động và Khám phá ban đầu'\u001b[0m,\n",
       "\u001b[2;32m│   │   \u001b[0m\u001b[32m'task_description'\u001b[0m: \u001b[32m\"Giáo viên sử dụng hình ảnh/video ngắn về các vật thể có hình dạng liên quan \u001b[0m\u001b[32m(\u001b[0m\u001b[32mví dụ: bánh xe, đồng xu, logo\u001b[0m\u001b[32m)\u001b[0m\u001b[32m hoặc các hình vẽ đơn giản để đặt câu hỏi gợi mở. Tổ chức hoạt động 'Ghép đôi' hoặc 'Đố vui nhanh' về các yếu tố cơ bản của đường tròn và tam giác. Dẫn dắt học sinh đến câu hỏi 'Làm thế nào để vẽ một đường tròn đi qua 3 đỉnh của tam giác?' hoặc 'Làm thế nào để vẽ một đường tròn tiếp xúc với 3 cạnh của tam giác?'.\"\u001b[0m,\n",
       "\u001b[2;32m│   │   \u001b[0m\u001b[32m'estimated_duration'\u001b[0m: \u001b[1;36m10\u001b[0m,\n",
       "\u001b[2;32m│   │   \u001b[0m\u001b[32m'status'\u001b[0m: \u001b[32m'pending'\u001b[0m\n",
       "\u001b[2;32m│   \u001b[0m\u001b[1m}\u001b[0m,\n",
       "\u001b[2;32m│   \u001b[0m\u001b[1m{\u001b[0m\n",
       "\u001b[2;32m│   │   \u001b[0m\u001b[32m'task_id'\u001b[0m: \u001b[1;36m1\u001b[0m,\n",
       "\u001b[2;32m│   │   \u001b[0m\u001b[32m'task_name'\u001b[0m: \u001b[32m'Xây dựng kiến thức cốt lõi \u001b[0m\u001b[32m(\u001b[0m\u001b[32mHọc tập hợp tác\u001b[0m\u001b[32m)\u001b[0m\u001b[32m'\u001b[0m,\n",
       "\u001b[2;32m│   │   \u001b[0m\u001b[32m'task_description'\u001b[0m: \u001b[32m'Chia lớp thành các nhóm nhỏ \u001b[0m\u001b[32m(\u001b[0m\u001b[32m4-5 học sinh\u001b[0m\u001b[32m)\u001b[0m\u001b[32m. Mỗi nhóm nhận một phiếu học tập có các nhiệm vụ cụ thể: Nhiệm vụ 1: Vẽ một tam giác bất kỳ và tìm cách vẽ đường tròn đi qua 3 đỉnh của nó \u001b[0m\u001b[32m(\u001b[0m\u001b[32mđường tròn ngoại tiếp\u001b[0m\u001b[32m)\u001b[0m\u001b[32m. Nhiệm vụ 2: Vẽ một tam giác bất kỳ và tìm cách vẽ đường tròn tiếp xúc với 3 cạnh của nó \u001b[0m\u001b[32m(\u001b[0m\u001b[32mđường tròn nội tiếp\u001b[0m\u001b[32m)\u001b[0m\u001b[32m. Nhiệm vụ 3: Thảo luận và ghi lại định nghĩa, tính chất, cách xác định tâm và bán kính của mỗi loại đường tròn. Giáo viên đi quanh các nhóm, quan sát, gợi ý, hỗ trợ và giải đáp thắc mắc.'\u001b[0m,\n",
       "\u001b[2;32m│   │   \u001b[0m\u001b[32m'estimated_duration'\u001b[0m: \u001b[1;36m30\u001b[0m,\n",
       "\u001b[2;32m│   │   \u001b[0m\u001b[32m'status'\u001b[0m: \u001b[32m'pending'\u001b[0m\n",
       "\u001b[2;32m│   \u001b[0m\u001b[1m}\u001b[0m,\n",
       "\u001b[2;32m│   \u001b[0m\u001b[1m{\u001b[0m\n",
       "\u001b[2;32m│   │   \u001b[0m\u001b[32m'task_id'\u001b[0m: \u001b[1;36m2\u001b[0m,\n",
       "\u001b[2;32m│   │   \u001b[0m\u001b[32m'task_name'\u001b[0m: \u001b[32m'Vận dụng và Luyện tập cơ bản'\u001b[0m,\n",
       "\u001b[2;32m│   │   \u001b[0m\u001b[32m'task_description'\u001b[0m: \u001b[32m'Giáo viên cung cấp các bài tập vận dụng từ dễ đến trung bình. Học sinh làm bài tập nhóm \u001b[0m\u001b[32m(\u001b[0m\u001b[32m1-2 bài\u001b[0m\u001b[32m)\u001b[0m\u001b[32m và bài tập cá nhân \u001b[0m\u001b[32m(\u001b[0m\u001b[32m1-2 bài\u001b[0m\u001b[32m)\u001b[0m\u001b[32m để áp dụng trực tiếp kiến thức về đường tròn ngoại tiếp và nội tiếp. Giáo viên theo dõi, hỗ trợ các nhóm/cá nhân gặp khó khăn. Khuyến khích học sinh khá giỏi thử sức với các bài tập có thêm một bước suy luận nhỏ.'\u001b[0m,\n",
       "\u001b[2;32m│   │   \u001b[0m\u001b[32m'estimated_duration'\u001b[0m: \u001b[1;36m25\u001b[0m,\n",
       "\u001b[2;32m│   │   \u001b[0m\u001b[32m'status'\u001b[0m: \u001b[32m'pending'\u001b[0m\n",
       "\u001b[2;32m│   \u001b[0m\u001b[1m}\u001b[0m,\n",
       "\u001b[2;32m│   \u001b[0m\u001b[1m{\u001b[0m\n",
       "\u001b[2;32m│   │   \u001b[0m\u001b[32m'task_id'\u001b[0m: \u001b[1;36m3\u001b[0m,\n",
       "\u001b[2;32m│   │   \u001b[0m\u001b[32m'task_name'\u001b[0m: \u001b[32m'Tổng kết, Củng cố và Mở rộng'\u001b[0m,\n",
       "\u001b[2;32m│   │   \u001b[0m\u001b[32m'task_description'\u001b[0m: \u001b[32m'Đại diện 1-2 nhóm trình bày kết quả/cách giải của một bài tập tiêu biểu. Giáo viên tổng hợp, chuẩn hóa kiến thức về định nghĩa, tính chất, cách xác định tâm và bán kính của đường tròn ngoại tiếp và nội tiếp. Sử dụng sơ đồ tư duy hoặc bảng so sánh để học sinh dễ hình dung. Giải đáp các câu hỏi của học sinh. Hoạt động này có thể co giãn. Ưu tiên củng cố các kiến thức cơ bản. Các nội dung mở rộng hoặc bài tập nâng cao là phần bổ sung nếu còn thời gian.'\u001b[0m,\n",
       "\u001b[2;32m│   │   \u001b[0m\u001b[32m'estimated_duration'\u001b[0m: \u001b[1;36m15\u001b[0m,\n",
       "\u001b[2;32m│   │   \u001b[0m\u001b[32m'status'\u001b[0m: \u001b[32m'pending'\u001b[0m\n",
       "\u001b[2;32m│   \u001b[0m\u001b[1m}\u001b[0m,\n",
       "\u001b[2;32m│   \u001b[0m\u001b[1m{\u001b[0m\n",
       "\u001b[2;32m│   │   \u001b[0m\u001b[32m'task_id'\u001b[0m: \u001b[1;36m4\u001b[0m,\n",
       "\u001b[2;32m│   │   \u001b[0m\u001b[32m'task_name'\u001b[0m: \u001b[32m'Đánh giá và Giao nhiệm vụ về nhà'\u001b[0m,\n",
       "\u001b[2;32m│   │   \u001b[0m\u001b[32m'task_description'\u001b[0m: \u001b[32m'Giáo viên cho học sinh làm một bài tập trắc nghiệm nhanh hoặc điền khuyết 2-3 câu để kiểm tra mức độ hiểu bài. Thu phiếu học tập nhóm để đánh giá quá trình. Giao bài tập về nhà bao gồm các dạng bài đã học và một số bài tập nâng cao \u001b[0m\u001b[32m(\u001b[0m\u001b[32mcó đánh dấu\u001b[0m\u001b[32m)\u001b[0m\u001b[32m cho học sinh khá giỏi tự luyện tập. Nhắc nhở học sinh chuẩn bị bài cho buổi học tiếp theo.'\u001b[0m,\n",
       "\u001b[2;32m│   │   \u001b[0m\u001b[32m'estimated_duration'\u001b[0m: \u001b[1;36m10\u001b[0m,\n",
       "\u001b[2;32m│   │   \u001b[0m\u001b[32m'status'\u001b[0m: \u001b[32m'pending'\u001b[0m\n",
       "\u001b[2;32m│   \u001b[0m\u001b[1m}\u001b[0m\n",
       "\u001b[1m]\u001b[0m\n"
      ]
     },
     "metadata": {},
     "output_type": "display_data"
    },
    {
     "data": {
      "text/html": [
       "<pre style=\"white-space:pre;overflow-x:auto;line-height:normal;font-family:Menlo,'DejaVu Sans Mono',consolas,'Courier New',monospace\">\n",
       "<span style=\"color: #808000; text-decoration-color: #808000; font-weight: bold\">------- Hoàn thành bước: plan_delegator -------</span>\n",
       "</pre>\n"
      ],
      "text/plain": [
       "\n",
       "\u001b[1;33m------- Hoàn thành bước: plan_delegator -------\u001b[0m\n"
      ]
     },
     "metadata": {},
     "output_type": "display_data"
    },
    {
     "data": {
      "text/html": [
       "<pre style=\"white-space:pre;overflow-x:auto;line-height:normal;font-family:Menlo,'DejaVu Sans Mono',consolas,'Courier New',monospace\">\n",
       "<span style=\"color: #008080; text-decoration-color: #008080; font-weight: bold\">&gt;</span> `Router`: Đang kiểm tra nhiệm vụ<span style=\"color: #808000; text-decoration-color: #808000\">...</span>\n",
       "</pre>\n"
      ],
      "text/plain": [
       "\n",
       "\u001b[1;36m>\u001b[0m `Router`: Đang kiểm tra nhiệm vụ\u001b[33m...\u001b[0m\n"
      ]
     },
     "metadata": {},
     "output_type": "display_data"
    },
    {
     "data": {
      "text/html": [
       "<pre style=\"white-space:pre;overflow-x:auto;line-height:normal;font-family:Menlo,'DejaVu Sans Mono',consolas,'Courier New',monospace\">\n",
       "<span style=\"color: #008080; text-decoration-color: #008080; font-weight: bold\">&gt;</span> Nhiệm vụ tiếp theo: <span style=\"color: #008000; text-decoration-color: #008000\">'Khởi động và Khám phá ban đầu'</span> <span style=\"font-weight: bold\">(</span>ID: <span style=\"color: #008080; text-decoration-color: #008080; font-weight: bold\">0</span><span style=\"font-weight: bold\">)</span>\n",
       "</pre>\n"
      ],
      "text/plain": [
       "\n",
       "\u001b[1;36m>\u001b[0m Nhiệm vụ tiếp theo: \u001b[32m'Khởi động và Khám phá ban đầu'\u001b[0m \u001b[1m(\u001b[0mID: \u001b[1;36m0\u001b[0m\u001b[1m)\u001b[0m\n"
      ]
     },
     "metadata": {},
     "output_type": "display_data"
    },
    {
     "data": {
      "text/html": [
       "<pre style=\"white-space:pre;overflow-x:auto;line-height:normal;font-family:Menlo,'DejaVu Sans Mono',consolas,'Courier New',monospace\">\n",
       "<span style=\"color: #808000; text-decoration-color: #808000; font-weight: bold\">------- Hoàn thành bước: task_router -------</span>\n",
       "</pre>\n"
      ],
      "text/plain": [
       "\n",
       "\u001b[1;33m------- Hoàn thành bước: task_router -------\u001b[0m\n"
      ]
     },
     "metadata": {},
     "output_type": "display_data"
    },
    {
     "data": {
      "text/html": [
       "<pre style=\"white-space:pre;overflow-x:auto;line-height:normal;font-family:Menlo,'DejaVu Sans Mono',consolas,'Courier New',monospace\">\n",
       "<span style=\"color: #008080; text-decoration-color: #008080; font-weight: bold\">&gt;</span> `Agent: Task Dispatcher` <span style=\"font-weight: bold\">(</span>v7.<span style=\"color: #008080; text-decoration-color: #008080; font-weight: bold\">1</span><span style=\"font-weight: bold\">)</span> Bắt đầu<span style=\"color: #808000; text-decoration-color: #808000\">...</span>\n",
       "</pre>\n"
      ],
      "text/plain": [
       "\n",
       "\u001b[1;36m>\u001b[0m `Agent: Task Dispatcher` \u001b[1m(\u001b[0mv7.\u001b[1;36m1\u001b[0m\u001b[1m)\u001b[0m Bắt đầu\u001b[33m...\u001b[0m\n"
      ]
     },
     "metadata": {},
     "output_type": "display_data"
    },
    {
     "data": {
      "text/html": [
       "<pre style=\"white-space:pre;overflow-x:auto;line-height:normal;font-family:Menlo,'DejaVu Sans Mono',consolas,'Courier New',monospace\">\n",
       "<span style=\"color: #008080; text-decoration-color: #008080; font-weight: bold\">&gt;</span> --- 🚚 `Dispatcher`: Giao nhiệm vụ cho `activity_designer`.\n",
       "</pre>\n"
      ],
      "text/plain": [
       "\n",
       "\u001b[1;36m>\u001b[0m --- 🚚 `Dispatcher`: Giao nhiệm vụ cho `activity_designer`.\n"
      ]
     },
     "metadata": {},
     "output_type": "display_data"
    },
    {
     "data": {
      "text/html": [
       "<pre style=\"white-space:pre;overflow-x:auto;line-height:normal;font-family:Menlo,'DejaVu Sans Mono',consolas,'Courier New',monospace\">\n",
       "<span style=\"color: #808000; text-decoration-color: #808000; font-weight: bold\">------- Hoàn thành bước: task_dispatcher -------</span>\n",
       "</pre>\n"
      ],
      "text/plain": [
       "\n",
       "\u001b[1;33m------- Hoàn thành bước: task_dispatcher -------\u001b[0m\n"
      ]
     },
     "metadata": {},
     "output_type": "display_data"
    },
    {
     "data": {
      "text/html": [
       "<pre style=\"white-space:pre;overflow-x:auto;line-height:normal;font-family:Menlo,'DejaVu Sans Mono',consolas,'Courier New',monospace\">\n",
       "<span style=\"color: #008080; text-decoration-color: #008080; font-weight: bold\">&gt;</span> `Agent: Activity Designer` <span style=\"font-weight: bold\">(</span>v9.<span style=\"color: #008080; text-decoration-color: #008080; font-weight: bold\">7</span><span style=\"font-weight: bold\">)</span> đang tạo nội dung linh hoạt <span style=\"font-weight: bold\">(</span>Lõi + Mở rộng<span style=\"font-weight: bold\">)</span><span style=\"color: #808000; text-decoration-color: #808000\">...</span>\n",
       "</pre>\n"
      ],
      "text/plain": [
       "\n",
       "\u001b[1;36m>\u001b[0m `Agent: Activity Designer` \u001b[1m(\u001b[0mv9.\u001b[1;36m7\u001b[0m\u001b[1m)\u001b[0m đang tạo nội dung linh hoạt \u001b[1m(\u001b[0mLõi + Mở rộng\u001b[1m)\u001b[0m\u001b[33m...\u001b[0m\n"
      ]
     },
     "metadata": {},
     "output_type": "display_data"
    },
    {
     "data": {
      "text/html": [
       "<pre style=\"white-space:pre;overflow-x:auto;line-height:normal;font-family:Menlo,'DejaVu Sans Mono',consolas,'Courier New',monospace\"><span style=\"color: #008000; text-decoration-color: #008000; font-weight: bold\">✔️ Nội dung do Activity Designer tạo ra (Linh hoạt):</span>\n",
       "</pre>\n"
      ],
      "text/plain": [
       "\u001b[1;32m✔️ Nội dung do Activity Designer tạo ra \u001b[0m\u001b[1;32m(\u001b[0m\u001b[1;32mLinh hoạt\u001b[0m\u001b[1;32m)\u001b[0m\u001b[1;32m:\u001b[0m\n"
      ]
     },
     "metadata": {},
     "output_type": "display_data"
    },
    {
     "data": {
      "text/html": [
       "<pre style=\"white-space:pre;overflow-x:auto;line-height:normal;font-family:Menlo,'DejaVu Sans Mono',consolas,'Courier New',monospace\"><span style=\"font-weight: bold\">{</span>\n",
       "<span style=\"color: #7fbf7f; text-decoration-color: #7fbf7f\">│   </span><span style=\"color: #008000; text-decoration-color: #008000\">'activity_name'</span>: <span style=\"color: #008000; text-decoration-color: #008000\">'Khởi động và Khám phá ban đầu: Đường tròn ngoại tiếp và nội tiếp'</span>,\n",
       "<span style=\"color: #7fbf7f; text-decoration-color: #7fbf7f\">│   </span><span style=\"color: #008000; text-decoration-color: #008000\">'activity_type'</span>: <span style=\"color: #008000; text-decoration-color: #008000\">'Hoạt động khởi động, gợi mở và thảo luận nhóm nhỏ'</span>,\n",
       "<span style=\"color: #7fbf7f; text-decoration-color: #7fbf7f\">│   </span><span style=\"color: #008000; text-decoration-color: #008000\">'duration_minutes'</span>: <span style=\"color: #008080; text-decoration-color: #008080; font-weight: bold\">10</span>,\n",
       "<span style=\"color: #7fbf7f; text-decoration-color: #7fbf7f\">│   </span><span style=\"color: #008000; text-decoration-color: #008000\">'teacher_actions'</span>: <span style=\"font-weight: bold\">[</span>\n",
       "<span style=\"color: #7fbf7f; text-decoration-color: #7fbf7f\">│   │   </span><span style=\"color: #008000; text-decoration-color: #008000\">'Chiếu hình ảnh/video các vật thể có hình dạng đường tròn và tam giác (ví dụ: bánh xe, logo, biển báo giao thông).'</span>,\n",
       "<span style=\"color: #7fbf7f; text-decoration-color: #7fbf7f\">│   │   </span><span style=\"color: #008000; text-decoration-color: #008000\">\"Đặt câu hỏi gợi mở: 'Các em thấy hình tròn và hình tam giác xuất hiện ở đâu trong cuộc sống?'\"</span>,\n",
       "<span style=\"color: #7fbf7f; text-decoration-color: #7fbf7f\">│   │   </span><span style=\"color: #008000; text-decoration-color: #008000\">\"Tổ chức hoạt động 'Ghép đôi' hoặc 'Đố vui nhanh' về các khái niệm cơ bản của đường tròn (tâm, bán kính, dây cung, đường kính) và tam giác (đỉnh, cạnh, góc).\"</span>,\n",
       "<span style=\"color: #7fbf7f; text-decoration-color: #7fbf7f\">│   │   </span><span style=\"color: #008000; text-decoration-color: #008000\">\"Dẫn dắt học sinh đến câu hỏi trọng tâm: 'Làm thế nào để vẽ một đường tròn đi qua 3 đỉnh của tam giác?' và 'Làm thế nào để vẽ một đường tròn tiếp xúc với 3 cạnh của tam giác?'\"</span>,\n",
       "<span style=\"color: #7fbf7f; text-decoration-color: #7fbf7f\">│   │   </span><span style=\"color: #008000; text-decoration-color: #008000\">'Lắng nghe và ghi nhận các ý tưởng ban đầu của học sinh.'</span>\n",
       "<span style=\"color: #7fbf7f; text-decoration-color: #7fbf7f\">│   </span><span style=\"font-weight: bold\">]</span>,\n",
       "<span style=\"color: #7fbf7f; text-decoration-color: #7fbf7f\">│   </span><span style=\"color: #008000; text-decoration-color: #008000\">'core_component'</span>: <span style=\"color: #008000; text-decoration-color: #008000\">\"Học sinh quan sát hình ảnh/video các vật thể có hình dạng đường tròn và tam giác (ví dụ: bánh xe, logo, biển báo giao thông). Sau đó, tham gia hoạt động 'Ghép đôi' hoặc 'Đố vui nhanh' để ôn tập các khái niệm cơ bản về đường tròn (tâm, bán kính, dây cung, đường kính) và tam giác (đỉnh, cạnh, góc). Tiếp theo, giáo viên đặt hai câu hỏi lớn: 'Làm thế nào để vẽ một đường tròn đi qua 3 đỉnh của tam giác?' và 'Làm thế nào để vẽ một đường tròn tiếp xúc với 3 cạnh của tam giác?'. Học sinh thảo luận nhóm nhỏ (2-3 phút) để đưa ra các ý tưởng ban đầu hoặc các câu hỏi liên quan.\"</span>,\n",
       "<span style=\"color: #7fbf7f; text-decoration-color: #7fbf7f\">│   </span><span style=\"color: #008000; text-decoration-color: #008000\">'extension_component'</span>: <span style=\"color: #008000; text-decoration-color: #008000\">\"Nếu còn thời gian, học sinh suy nghĩ: 'Liệu có phải tam giác nào cũng có đường tròn đi qua 3 đỉnh và đường tròn tiếp xúc với 3 cạnh không?' hoặc 'Có bao nhiêu đường tròn như vậy cho một tam giác cố định?'\"</span>,\n",
       "<span style=\"color: #7fbf7f; text-decoration-color: #7fbf7f\">│   </span><span style=\"color: #008000; text-decoration-color: #008000\">'solution_guide'</span>: <span style=\"color: #008000; text-decoration-color: #008000\">\"Các câu hỏi gợi mở: 'Điểm nào cách đều 3 đỉnh của tam giác?', 'Điểm nào cách đều 3 cạnh của tam giác?', 'Các đường đặc biệt nào trong tam giác có tính chất này?'\"</span>,\n",
       "<span style=\"color: #7fbf7f; text-decoration-color: #7fbf7f\">│   </span><span style=\"color: #008000; text-decoration-color: #008000\">'differentiation'</span>: <span style=\"font-weight: bold\">{</span>\n",
       "<span style=\"color: #7fbf7f; text-decoration-color: #7fbf7f\">│   │   </span><span style=\"color: #008000; text-decoration-color: #008000\">'for_struggling_students'</span>: <span style=\"color: #008000; text-decoration-color: #008000\">\"Giáo viên có thể cung cấp phiếu bài tập 'Ghép đôi' có hình ảnh minh họa rõ ràng hoặc các câu hỏi trắc nghiệm đơn giản về khái niệm cơ bản. Gợi ý trực tiếp hơn về mối liên hệ giữa các điểm đặc biệt của tam giác và tâm đường tròn.\"</span>,\n",
       "<span style=\"color: #7fbf7f; text-decoration-color: #7fbf7f\">│   │   </span><span style=\"color: #008000; text-decoration-color: #008000\">'for_advanced_students'</span>: <span style=\"color: #008000; text-decoration-color: #008000\">'Khuyến khích học sinh suy nghĩ về các trường hợp đặc biệt của tam giác (tam giác vuông, tam giác đều) và dự đoán vị trí của tâm đường tròn ngoại tiếp/nội tiếp trong các trường hợp đó.'</span>\n",
       "<span style=\"color: #7fbf7f; text-decoration-color: #7fbf7f\">│   </span><span style=\"font-weight: bold\">}</span>,\n",
       "<span style=\"color: #7fbf7f; text-decoration-color: #7fbf7f\">│   </span><span style=\"color: #008000; text-decoration-color: #008000\">'question_or_description'</span>: <span style=\"color: #008000; text-decoration-color: #008000\">\"**Phần Cốt lõi:**\\nHọc sinh quan sát hình ảnh/video các vật thể có hình dạng đường tròn và tam giác (ví dụ: bánh xe, logo, biển báo giao thông). Sau đó, tham gia hoạt động 'Ghép đôi' hoặc 'Đố vui nhanh' để ôn tập các khái niệm cơ bản về đường tròn (tâm, bán kính, dây cung, đường kính) và tam giác (đỉnh, cạnh, góc). Tiếp theo, giáo viên đặt hai câu hỏi lớn: 'Làm thế nào để vẽ một đường tròn đi qua 3 đỉnh của tam giác?' và 'Làm thế nào để vẽ một đường tròn tiếp xúc với 3 cạnh của tam giác?'. Học sinh thảo luận nhóm nhỏ (2-3 phút) để đưa ra các ý tưởng ban đầu hoặc các câu hỏi liên quan.\\n\\n**Phần Mở rộng (nếu còn thời gian):**\\nNếu còn thời gian, học sinh suy nghĩ: 'Liệu có phải tam giác nào cũng có đường tròn đi qua 3 đỉnh và đường tròn tiếp xúc với 3 cạnh không?' hoặc 'Có bao nhiêu đường tròn như vậy cho một tam giác cố định?'\"</span>\n",
       "<span style=\"font-weight: bold\">}</span>\n",
       "</pre>\n"
      ],
      "text/plain": [
       "\u001b[1m{\u001b[0m\n",
       "\u001b[2;32m│   \u001b[0m\u001b[32m'activity_name'\u001b[0m: \u001b[32m'Khởi động và Khám phá ban đầu: Đường tròn ngoại tiếp và nội tiếp'\u001b[0m,\n",
       "\u001b[2;32m│   \u001b[0m\u001b[32m'activity_type'\u001b[0m: \u001b[32m'Hoạt động khởi động, gợi mở và thảo luận nhóm nhỏ'\u001b[0m,\n",
       "\u001b[2;32m│   \u001b[0m\u001b[32m'duration_minutes'\u001b[0m: \u001b[1;36m10\u001b[0m,\n",
       "\u001b[2;32m│   \u001b[0m\u001b[32m'teacher_actions'\u001b[0m: \u001b[1m[\u001b[0m\n",
       "\u001b[2;32m│   │   \u001b[0m\u001b[32m'Chiếu hình ảnh/video các vật thể có hình dạng đường tròn và tam giác \u001b[0m\u001b[32m(\u001b[0m\u001b[32mví dụ: bánh xe, logo, biển báo giao thông\u001b[0m\u001b[32m)\u001b[0m\u001b[32m.'\u001b[0m,\n",
       "\u001b[2;32m│   │   \u001b[0m\u001b[32m\"Đặt câu hỏi gợi mở: 'Các em thấy hình tròn và hình tam giác xuất hiện ở đâu trong cuộc sống?'\"\u001b[0m,\n",
       "\u001b[2;32m│   │   \u001b[0m\u001b[32m\"Tổ chức hoạt động 'Ghép đôi' hoặc 'Đố vui nhanh' về các khái niệm cơ bản của đường tròn \u001b[0m\u001b[32m(\u001b[0m\u001b[32mtâm, bán kính, dây cung, đường kính\u001b[0m\u001b[32m)\u001b[0m\u001b[32m và tam giác \u001b[0m\u001b[32m(\u001b[0m\u001b[32mđỉnh, cạnh, góc\u001b[0m\u001b[32m)\u001b[0m\u001b[32m.\"\u001b[0m,\n",
       "\u001b[2;32m│   │   \u001b[0m\u001b[32m\"Dẫn dắt học sinh đến câu hỏi trọng tâm: 'Làm thế nào để vẽ một đường tròn đi qua 3 đỉnh của tam giác?' và 'Làm thế nào để vẽ một đường tròn tiếp xúc với 3 cạnh của tam giác?'\"\u001b[0m,\n",
       "\u001b[2;32m│   │   \u001b[0m\u001b[32m'Lắng nghe và ghi nhận các ý tưởng ban đầu của học sinh.'\u001b[0m\n",
       "\u001b[2;32m│   \u001b[0m\u001b[1m]\u001b[0m,\n",
       "\u001b[2;32m│   \u001b[0m\u001b[32m'core_component'\u001b[0m: \u001b[32m\"Học sinh quan sát hình ảnh/video các vật thể có hình dạng đường tròn và tam giác \u001b[0m\u001b[32m(\u001b[0m\u001b[32mví dụ: bánh xe, logo, biển báo giao thông\u001b[0m\u001b[32m)\u001b[0m\u001b[32m. Sau đó, tham gia hoạt động 'Ghép đôi' hoặc 'Đố vui nhanh' để ôn tập các khái niệm cơ bản về đường tròn \u001b[0m\u001b[32m(\u001b[0m\u001b[32mtâm, bán kính, dây cung, đường kính\u001b[0m\u001b[32m)\u001b[0m\u001b[32m và tam giác \u001b[0m\u001b[32m(\u001b[0m\u001b[32mđỉnh, cạnh, góc\u001b[0m\u001b[32m)\u001b[0m\u001b[32m. Tiếp theo, giáo viên đặt hai câu hỏi lớn: 'Làm thế nào để vẽ một đường tròn đi qua 3 đỉnh của tam giác?' và 'Làm thế nào để vẽ một đường tròn tiếp xúc với 3 cạnh của tam giác?'. Học sinh thảo luận nhóm nhỏ \u001b[0m\u001b[32m(\u001b[0m\u001b[32m2-3 phút\u001b[0m\u001b[32m)\u001b[0m\u001b[32m để đưa ra các ý tưởng ban đầu hoặc các câu hỏi liên quan.\"\u001b[0m,\n",
       "\u001b[2;32m│   \u001b[0m\u001b[32m'extension_component'\u001b[0m: \u001b[32m\"Nếu còn thời gian, học sinh suy nghĩ: 'Liệu có phải tam giác nào cũng có đường tròn đi qua 3 đỉnh và đường tròn tiếp xúc với 3 cạnh không?' hoặc 'Có bao nhiêu đường tròn như vậy cho một tam giác cố định?'\"\u001b[0m,\n",
       "\u001b[2;32m│   \u001b[0m\u001b[32m'solution_guide'\u001b[0m: \u001b[32m\"Các câu hỏi gợi mở: 'Điểm nào cách đều 3 đỉnh của tam giác?', 'Điểm nào cách đều 3 cạnh của tam giác?', 'Các đường đặc biệt nào trong tam giác có tính chất này?'\"\u001b[0m,\n",
       "\u001b[2;32m│   \u001b[0m\u001b[32m'differentiation'\u001b[0m: \u001b[1m{\u001b[0m\n",
       "\u001b[2;32m│   │   \u001b[0m\u001b[32m'for_struggling_students'\u001b[0m: \u001b[32m\"Giáo viên có thể cung cấp phiếu bài tập 'Ghép đôi' có hình ảnh minh họa rõ ràng hoặc các câu hỏi trắc nghiệm đơn giản về khái niệm cơ bản. Gợi ý trực tiếp hơn về mối liên hệ giữa các điểm đặc biệt của tam giác và tâm đường tròn.\"\u001b[0m,\n",
       "\u001b[2;32m│   │   \u001b[0m\u001b[32m'for_advanced_students'\u001b[0m: \u001b[32m'Khuyến khích học sinh suy nghĩ về các trường hợp đặc biệt của tam giác \u001b[0m\u001b[32m(\u001b[0m\u001b[32mtam giác vuông, tam giác đều\u001b[0m\u001b[32m)\u001b[0m\u001b[32m và dự đoán vị trí của tâm đường tròn ngoại tiếp/nội tiếp trong các trường hợp đó.'\u001b[0m\n",
       "\u001b[2;32m│   \u001b[0m\u001b[1m}\u001b[0m,\n",
       "\u001b[2;32m│   \u001b[0m\u001b[32m'question_or_description'\u001b[0m: \u001b[32m\"**Phần Cốt lõi:**\\nHọc sinh quan sát hình ảnh/video các vật thể có hình dạng đường tròn và tam giác \u001b[0m\u001b[32m(\u001b[0m\u001b[32mví dụ: bánh xe, logo, biển báo giao thông\u001b[0m\u001b[32m)\u001b[0m\u001b[32m. Sau đó, tham gia hoạt động 'Ghép đôi' hoặc 'Đố vui nhanh' để ôn tập các khái niệm cơ bản về đường tròn \u001b[0m\u001b[32m(\u001b[0m\u001b[32mtâm, bán kính, dây cung, đường kính\u001b[0m\u001b[32m)\u001b[0m\u001b[32m và tam giác \u001b[0m\u001b[32m(\u001b[0m\u001b[32mđỉnh, cạnh, góc\u001b[0m\u001b[32m)\u001b[0m\u001b[32m. Tiếp theo, giáo viên đặt hai câu hỏi lớn: 'Làm thế nào để vẽ một đường tròn đi qua 3 đỉnh của tam giác?' và 'Làm thế nào để vẽ một đường tròn tiếp xúc với 3 cạnh của tam giác?'. Học sinh thảo luận nhóm nhỏ \u001b[0m\u001b[32m(\u001b[0m\u001b[32m2-3 phút\u001b[0m\u001b[32m)\u001b[0m\u001b[32m để đưa ra các ý tưởng ban đầu hoặc các câu hỏi liên quan.\\n\\n**Phần Mở rộng \u001b[0m\u001b[32m(\u001b[0m\u001b[32mnếu còn thời gian\u001b[0m\u001b[32m)\u001b[0m\u001b[32m:**\\nNếu còn thời gian, học sinh suy nghĩ: 'Liệu có phải tam giác nào cũng có đường tròn đi qua 3 đỉnh và đường tròn tiếp xúc với 3 cạnh không?' hoặc 'Có bao nhiêu đường tròn như vậy cho một tam giác cố định?'\"\u001b[0m\n",
       "\u001b[1m}\u001b[0m\n"
      ]
     },
     "metadata": {},
     "output_type": "display_data"
    },
    {
     "data": {
      "text/html": [
       "<pre style=\"white-space:pre;overflow-x:auto;line-height:normal;font-family:Menlo,'DejaVu Sans Mono',consolas,'Courier New',monospace\">\n",
       "<span style=\"color: #808000; text-decoration-color: #808000; font-weight: bold\">------- Hoàn thành bước: activity_designer -------</span>\n",
       "</pre>\n"
      ],
      "text/plain": [
       "\n",
       "\u001b[1;33m------- Hoàn thành bước: activity_designer -------\u001b[0m\n"
      ]
     },
     "metadata": {},
     "output_type": "display_data"
    },
    {
     "data": {
      "text/html": [
       "<pre style=\"white-space:pre;overflow-x:auto;line-height:normal;font-family:Menlo,'DejaVu Sans Mono',consolas,'Courier New',monospace\">\n",
       "<span style=\"color: #008080; text-decoration-color: #008080; font-weight: bold\">&gt;</span> `Agent: Time-Budget Advisor` <span style=\"font-weight: bold\">(</span>v9.<span style=\"color: #008080; text-decoration-color: #008080; font-weight: bold\">7</span><span style=\"font-weight: bold\">)</span> đang phản biện nội dung và ngân sách thời gian<span style=\"color: #808000; text-decoration-color: #808000\">...</span>\n",
       "</pre>\n"
      ],
      "text/plain": [
       "\n",
       "\u001b[1;36m>\u001b[0m `Agent: Time-Budget Advisor` \u001b[1m(\u001b[0mv9.\u001b[1;36m7\u001b[0m\u001b[1m)\u001b[0m đang phản biện nội dung và ngân sách thời gian\u001b[33m...\u001b[0m\n"
      ]
     },
     "metadata": {},
     "output_type": "display_data"
    },
    {
     "data": {
      "text/html": [
       "<pre style=\"white-space:pre;overflow-x:auto;line-height:normal;font-family:Menlo,'DejaVu Sans Mono',consolas,'Courier New',monospace\">\n",
       "<span style=\"color: #008080; text-decoration-color: #008080; font-weight: bold\">&gt;</span> ✔️ CỐ VẤN: Nội dung và ngân sách thời gian hợp lệ!\n",
       "</pre>\n"
      ],
      "text/plain": [
       "\n",
       "\u001b[1;36m>\u001b[0m ✔️ CỐ VẤN: Nội dung và ngân sách thời gian hợp lệ!\n"
      ]
     },
     "metadata": {},
     "output_type": "display_data"
    },
    {
     "data": {
      "text/html": [
       "<pre style=\"white-space:pre;overflow-x:auto;line-height:normal;font-family:Menlo,'DejaVu Sans Mono',consolas,'Courier New',monospace\">\n",
       "<span style=\"color: #008080; text-decoration-color: #008080; font-weight: bold\">&gt;</span> ROUTER <span style=\"font-weight: bold\">(</span>Validation<span style=\"font-weight: bold\">)</span>: Nội dung được chấp thuận. Chuyển sang bước ghi nhận.\n",
       "</pre>\n"
      ],
      "text/plain": [
       "\n",
       "\u001b[1;36m>\u001b[0m ROUTER \u001b[1m(\u001b[0mValidation\u001b[1m)\u001b[0m: Nội dung được chấp thuận. Chuyển sang bước ghi nhận.\n"
      ]
     },
     "metadata": {},
     "output_type": "display_data"
    },
    {
     "data": {
      "text/html": [
       "<pre style=\"white-space:pre;overflow-x:auto;line-height:normal;font-family:Menlo,'DejaVu Sans Mono',consolas,'Courier New',monospace\">\n",
       "<span style=\"color: #808000; text-decoration-color: #808000; font-weight: bold\">------- Hoàn thành bước: content_validator -------</span>\n",
       "</pre>\n"
      ],
      "text/plain": [
       "\n",
       "\u001b[1;33m------- Hoàn thành bước: content_validator -------\u001b[0m\n"
      ]
     },
     "metadata": {},
     "output_type": "display_data"
    },
    {
     "data": {
      "text/html": [
       "<pre style=\"white-space:pre;overflow-x:auto;line-height:normal;font-family:Menlo,'DejaVu Sans Mono',consolas,'Courier New',monospace\">\n",
       "<span style=\"color: #008080; text-decoration-color: #008080; font-weight: bold\">&gt;</span> `Commiter`: Đang ghi nhận nội dung đã được xác thực<span style=\"color: #808000; text-decoration-color: #808000\">...</span>\n",
       "</pre>\n"
      ],
      "text/plain": [
       "\n",
       "\u001b[1;36m>\u001b[0m `Commiter`: Đang ghi nhận nội dung đã được xác thực\u001b[33m...\u001b[0m\n"
      ]
     },
     "metadata": {},
     "output_type": "display_data"
    },
    {
     "data": {
      "text/html": [
       "<pre style=\"white-space:pre;overflow-x:auto;line-height:normal;font-family:Menlo,'DejaVu Sans Mono',consolas,'Courier New',monospace\">\n",
       "<span style=\"color: #808000; text-decoration-color: #808000; font-weight: bold\">------- Hoàn thành bước: commit_validated_content -------</span>\n",
       "</pre>\n"
      ],
      "text/plain": [
       "\n",
       "\u001b[1;33m------- Hoàn thành bước: commit_validated_content -------\u001b[0m\n"
      ]
     },
     "metadata": {},
     "output_type": "display_data"
    },
    {
     "data": {
      "text/html": [
       "<pre style=\"white-space:pre;overflow-x:auto;line-height:normal;font-family:Menlo,'DejaVu Sans Mono',consolas,'Courier New',monospace\">\n",
       "<span style=\"color: #808000; text-decoration-color: #808000; font-weight: bold\">------- Hoàn thành bước: mark_task_complete -------</span>\n",
       "</pre>\n"
      ],
      "text/plain": [
       "\n",
       "\u001b[1;33m------- Hoàn thành bước: mark_task_complete -------\u001b[0m\n"
      ]
     },
     "metadata": {},
     "output_type": "display_data"
    },
    {
     "data": {
      "text/html": [
       "<pre style=\"white-space:pre;overflow-x:auto;line-height:normal;font-family:Menlo,'DejaVu Sans Mono',consolas,'Courier New',monospace\">\n",
       "<span style=\"color: #008080; text-decoration-color: #008080; font-weight: bold\">&gt;</span> <span style=\"color: #808000; text-decoration-color: #808000\">...</span>Đang nghỉ <span style=\"color: #008080; text-decoration-color: #008080; font-weight: bold\">2</span> giây để tránh vượt rate limit<span style=\"color: #808000; text-decoration-color: #808000\">...</span>\n",
       "</pre>\n"
      ],
      "text/plain": [
       "\n",
       "\u001b[1;36m>\u001b[0m \u001b[33m...\u001b[0mĐang nghỉ \u001b[1;36m2\u001b[0m giây để tránh vượt rate limit\u001b[33m...\u001b[0m\n"
      ]
     },
     "metadata": {},
     "output_type": "display_data"
    },
    {
     "data": {
      "text/html": [
       "<pre style=\"white-space:pre;overflow-x:auto;line-height:normal;font-family:Menlo,'DejaVu Sans Mono',consolas,'Courier New',monospace\">\n",
       "<span style=\"color: #808000; text-decoration-color: #808000; font-weight: bold\">------- Hoàn thành bước: delay_node -------</span>\n",
       "</pre>\n"
      ],
      "text/plain": [
       "\n",
       "\u001b[1;33m------- Hoàn thành bước: delay_node -------\u001b[0m\n"
      ]
     },
     "metadata": {},
     "output_type": "display_data"
    },
    {
     "data": {
      "text/html": [
       "<pre style=\"white-space:pre;overflow-x:auto;line-height:normal;font-family:Menlo,'DejaVu Sans Mono',consolas,'Courier New',monospace\">\n",
       "<span style=\"color: #008080; text-decoration-color: #008080; font-weight: bold\">&gt;</span> `Router`: Đang kiểm tra nhiệm vụ<span style=\"color: #808000; text-decoration-color: #808000\">...</span>\n",
       "</pre>\n"
      ],
      "text/plain": [
       "\n",
       "\u001b[1;36m>\u001b[0m `Router`: Đang kiểm tra nhiệm vụ\u001b[33m...\u001b[0m\n"
      ]
     },
     "metadata": {},
     "output_type": "display_data"
    },
    {
     "data": {
      "text/html": [
       "<pre style=\"white-space:pre;overflow-x:auto;line-height:normal;font-family:Menlo,'DejaVu Sans Mono',consolas,'Courier New',monospace\">\n",
       "<span style=\"color: #008080; text-decoration-color: #008080; font-weight: bold\">&gt;</span> Nhiệm vụ tiếp theo: <span style=\"color: #008000; text-decoration-color: #008000\">'Xây dựng kiến thức cốt lõi (Học tập hợp tác)'</span> <span style=\"font-weight: bold\">(</span>ID: <span style=\"color: #008080; text-decoration-color: #008080; font-weight: bold\">1</span><span style=\"font-weight: bold\">)</span>\n",
       "</pre>\n"
      ],
      "text/plain": [
       "\n",
       "\u001b[1;36m>\u001b[0m Nhiệm vụ tiếp theo: \u001b[32m'Xây dựng kiến thức cốt lõi \u001b[0m\u001b[32m(\u001b[0m\u001b[32mHọc tập hợp tác\u001b[0m\u001b[32m)\u001b[0m\u001b[32m'\u001b[0m \u001b[1m(\u001b[0mID: \u001b[1;36m1\u001b[0m\u001b[1m)\u001b[0m\n"
      ]
     },
     "metadata": {},
     "output_type": "display_data"
    },
    {
     "data": {
      "text/html": [
       "<pre style=\"white-space:pre;overflow-x:auto;line-height:normal;font-family:Menlo,'DejaVu Sans Mono',consolas,'Courier New',monospace\">\n",
       "<span style=\"color: #808000; text-decoration-color: #808000; font-weight: bold\">------- Hoàn thành bước: task_router -------</span>\n",
       "</pre>\n"
      ],
      "text/plain": [
       "\n",
       "\u001b[1;33m------- Hoàn thành bước: task_router -------\u001b[0m\n"
      ]
     },
     "metadata": {},
     "output_type": "display_data"
    },
    {
     "data": {
      "text/html": [
       "<pre style=\"white-space:pre;overflow-x:auto;line-height:normal;font-family:Menlo,'DejaVu Sans Mono',consolas,'Courier New',monospace\">\n",
       "<span style=\"color: #008080; text-decoration-color: #008080; font-weight: bold\">&gt;</span> `Agent: Task Dispatcher` <span style=\"font-weight: bold\">(</span>v7.<span style=\"color: #008080; text-decoration-color: #008080; font-weight: bold\">1</span><span style=\"font-weight: bold\">)</span> Bắt đầu<span style=\"color: #808000; text-decoration-color: #808000\">...</span>\n",
       "</pre>\n"
      ],
      "text/plain": [
       "\n",
       "\u001b[1;36m>\u001b[0m `Agent: Task Dispatcher` \u001b[1m(\u001b[0mv7.\u001b[1;36m1\u001b[0m\u001b[1m)\u001b[0m Bắt đầu\u001b[33m...\u001b[0m\n"
      ]
     },
     "metadata": {},
     "output_type": "display_data"
    },
    {
     "data": {
      "text/html": [
       "<pre style=\"white-space:pre;overflow-x:auto;line-height:normal;font-family:Menlo,'DejaVu Sans Mono',consolas,'Courier New',monospace\">\n",
       "<span style=\"color: #008080; text-decoration-color: #008080; font-weight: bold\">&gt;</span> --- 🚚 `Dispatcher`: Giao nhiệm vụ cho `activity_designer`.\n",
       "</pre>\n"
      ],
      "text/plain": [
       "\n",
       "\u001b[1;36m>\u001b[0m --- 🚚 `Dispatcher`: Giao nhiệm vụ cho `activity_designer`.\n"
      ]
     },
     "metadata": {},
     "output_type": "display_data"
    },
    {
     "data": {
      "text/html": [
       "<pre style=\"white-space:pre;overflow-x:auto;line-height:normal;font-family:Menlo,'DejaVu Sans Mono',consolas,'Courier New',monospace\">\n",
       "<span style=\"color: #808000; text-decoration-color: #808000; font-weight: bold\">------- Hoàn thành bước: task_dispatcher -------</span>\n",
       "</pre>\n"
      ],
      "text/plain": [
       "\n",
       "\u001b[1;33m------- Hoàn thành bước: task_dispatcher -------\u001b[0m\n"
      ]
     },
     "metadata": {},
     "output_type": "display_data"
    },
    {
     "data": {
      "text/html": [
       "<pre style=\"white-space:pre;overflow-x:auto;line-height:normal;font-family:Menlo,'DejaVu Sans Mono',consolas,'Courier New',monospace\">\n",
       "<span style=\"color: #008080; text-decoration-color: #008080; font-weight: bold\">&gt;</span> `Agent: Activity Designer` <span style=\"font-weight: bold\">(</span>v9.<span style=\"color: #008080; text-decoration-color: #008080; font-weight: bold\">7</span><span style=\"font-weight: bold\">)</span> đang tạo nội dung linh hoạt <span style=\"font-weight: bold\">(</span>Lõi + Mở rộng<span style=\"font-weight: bold\">)</span><span style=\"color: #808000; text-decoration-color: #808000\">...</span>\n",
       "</pre>\n"
      ],
      "text/plain": [
       "\n",
       "\u001b[1;36m>\u001b[0m `Agent: Activity Designer` \u001b[1m(\u001b[0mv9.\u001b[1;36m7\u001b[0m\u001b[1m)\u001b[0m đang tạo nội dung linh hoạt \u001b[1m(\u001b[0mLõi + Mở rộng\u001b[1m)\u001b[0m\u001b[33m...\u001b[0m\n"
      ]
     },
     "metadata": {},
     "output_type": "display_data"
    },
    {
     "data": {
      "text/html": [
       "<pre style=\"white-space:pre;overflow-x:auto;line-height:normal;font-family:Menlo,'DejaVu Sans Mono',consolas,'Courier New',monospace\"><span style=\"color: #008000; text-decoration-color: #008000; font-weight: bold\">✔️ Nội dung do Activity Designer tạo ra (Linh hoạt):</span>\n",
       "</pre>\n"
      ],
      "text/plain": [
       "\u001b[1;32m✔️ Nội dung do Activity Designer tạo ra \u001b[0m\u001b[1;32m(\u001b[0m\u001b[1;32mLinh hoạt\u001b[0m\u001b[1;32m)\u001b[0m\u001b[1;32m:\u001b[0m\n"
      ]
     },
     "metadata": {},
     "output_type": "display_data"
    },
    {
     "data": {
      "text/html": [
       "<pre style=\"white-space:pre;overflow-x:auto;line-height:normal;font-family:Menlo,'DejaVu Sans Mono',consolas,'Courier New',monospace\"><span style=\"font-weight: bold\">{</span>\n",
       "<span style=\"color: #7fbf7f; text-decoration-color: #7fbf7f\">│   </span><span style=\"color: #008000; text-decoration-color: #008000\">'activity_name'</span>: <span style=\"color: #008000; text-decoration-color: #008000\">'Xây dựng kiến thức cốt lõi (Học tập hợp tác)'</span>,\n",
       "<span style=\"color: #7fbf7f; text-decoration-color: #7fbf7f\">│   </span><span style=\"color: #008000; text-decoration-color: #008000\">'activity_type'</span>: <span style=\"color: #008000; text-decoration-color: #008000\">'Học tập hợp tác'</span>,\n",
       "<span style=\"color: #7fbf7f; text-decoration-color: #7fbf7f\">│   </span><span style=\"color: #008000; text-decoration-color: #008000\">'duration_minutes'</span>: <span style=\"color: #008080; text-decoration-color: #008080; font-weight: bold\">30</span>,\n",
       "<span style=\"color: #7fbf7f; text-decoration-color: #7fbf7f\">│   </span><span style=\"color: #008000; text-decoration-color: #008000\">'teacher_actions'</span>: <span style=\"font-weight: bold\">[</span>\n",
       "<span style=\"color: #7fbf7f; text-decoration-color: #7fbf7f\">│   │   </span><span style=\"color: #008000; text-decoration-color: #008000\">'Chia lớp thành các nhóm 4-5 học sinh và phát phiếu học tập cùng dụng cụ (thước, compa).'</span>,\n",
       "<span style=\"color: #7fbf7f; text-decoration-color: #7fbf7f\">│   │   </span><span style=\"color: #008000; text-decoration-color: #008000\">'Đi quanh các nhóm, quan sát tiến độ và lắng nghe thảo luận của học sinh.'</span>,\n",
       "<span style=\"color: #7fbf7f; text-decoration-color: #7fbf7f\">│   │   </span><span style=\"color: #008000; text-decoration-color: #008000\">\"Gợi ý, đặt câu hỏi dẫn dắt khi học sinh gặp khó khăn (ví dụ: 'Để vẽ đường tròn đi qua 3 đỉnh, tâm của nó phải cách đều 3 đỉnh. Vậy điểm nào cách đều 3 đỉnh của tam giác?').\"</span>,\n",
       "<span style=\"color: #7fbf7f; text-decoration-color: #7fbf7f\">│   │   </span><span style=\"color: #008000; text-decoration-color: #008000\">'Hỗ trợ về kỹ năng sử dụng dụng cụ học tập nếu cần.'</span>,\n",
       "<span style=\"color: #7fbf7f; text-decoration-color: #7fbf7f\">│   │   </span><span style=\"color: #008000; text-decoration-color: #008000\">'Giải đáp thắc mắc và chỉnh sửa sai lầm kịp thời cho các nhóm.'</span>,\n",
       "<span style=\"color: #7fbf7f; text-decoration-color: #7fbf7f\">│   │   </span><span style=\"color: #008000; text-decoration-color: #008000\">'Khuyến khích các nhóm trình bày kết quả và chia sẻ phương pháp tìm ra tâm và bán kính của đường tròn.'</span>\n",
       "<span style=\"color: #7fbf7f; text-decoration-color: #7fbf7f\">│   </span><span style=\"font-weight: bold\">]</span>,\n",
       "<span style=\"color: #7fbf7f; text-decoration-color: #7fbf7f\">│   </span><span style=\"color: #008000; text-decoration-color: #008000\">'core_component'</span>: <span style=\"color: #008000; text-decoration-color: #008000\">'Học sinh làm việc theo nhóm (4-5 người) với phiếu học tập. Nhiệm vụ 1 (10 phút): Vẽ một tam giác bất kỳ và sử dụng compa, thước để tìm cách vẽ đường tròn đi qua 3 đỉnh của nó (đường tròn ngoại tiếp). Ghi lại các bước thực hiện và nhận xét về tâm của đường tròn. Nhiệm vụ 2 (10 phút): Vẽ một tam giác bất kỳ khác và tìm cách vẽ đường tròn tiếp xúc với 3 cạnh của nó (đường tròn nội tiếp). Ghi lại các bước thực hiện và nhận xét về tâm của đường tròn. Nhiệm vụ 3 (5 phút): Thảo luận trong nhóm để tổng hợp và ghi lại định nghĩa, tính chất cơ bản, và cách xác định tâm, bán kính của đường tròn ngoại tiếp và đường tròn nội tiếp tam giác.'</span>,\n",
       "<span style=\"color: #7fbf7f; text-decoration-color: #7fbf7f\">│   </span><span style=\"color: #008000; text-decoration-color: #008000\">'extension_component'</span>: <span style=\"color: #008000; text-decoration-color: #008000\">'Nếu hoàn thành sớm, các nhóm có thể: Thử thách 1: Với tam giác vuông, tâm đường tròn ngoại tiếp nằm ở đâu? Với tam giác đều, tâm đường tròn ngoại tiếp và nội tiếp có trùng nhau không? Thử thách 2: Tìm hiểu ứng dụng của đường tròn ngoại tiếp/nội tiếp trong thực tế hoặc trong các bài toán hình học khác (ví dụ: tính diện tích tam giác thông qua bán kính đường tròn nội tiếp/ngoại tiếp).'</span>,\n",
       "<span style=\"color: #7fbf7f; text-decoration-color: #7fbf7f\">│   </span><span style=\"color: #008000; text-decoration-color: #008000\">'solution_guide'</span>: <span style=\"color: #008000; text-decoration-color: #008000\">'Đường tròn ngoại tiếp: Tâm là giao điểm của 3 đường trung trực của tam giác. Bán kính là khoảng cách từ tâm đến 3 đỉnh. Đường tròn nội tiếp: Tâm là giao điểm của 3 đường phân giác của tam giác. Bán kính là khoảng cách từ tâm đến 3 cạnh (vuông góc với cạnh). Gợi mở: Tại sao tâm đường tròn ngoại tiếp lại là giao điểm của 3 đường trung trực? Tại sao tâm đường tròn nội tiếp lại là giao điểm của 3 đường phân giác? Kiểm tra: Yêu cầu học sinh dùng compa kiểm tra lại xem đường tròn đã vẽ có thực sự đi qua 3 đỉnh/tiếp xúc 3 cạnh chưa.'</span>,\n",
       "<span style=\"color: #7fbf7f; text-decoration-color: #7fbf7f\">│   </span><span style=\"color: #008000; text-decoration-color: #008000\">'differentiation'</span>: <span style=\"font-weight: bold\">{</span>\n",
       "<span style=\"color: #7fbf7f; text-decoration-color: #7fbf7f\">│   │   </span><span style=\"color: #008000; text-decoration-color: #008000\">'for_struggling_students'</span>: <span style=\"color: #008000; text-decoration-color: #008000\">'Cung cấp các tam giác đã được vẽ sẵn trên phiếu, hoặc phiếu có các bước gợi ý/điền khuyết để tìm tâm đường tròn. Giáo viên dành thời gian hướng dẫn trực tiếp, kiểm tra từng bước thực hiện của nhóm và cung cấp thêm ví dụ minh họa trực quan.'</span>,\n",
       "<span style=\"color: #7fbf7f; text-decoration-color: #7fbf7f\">│   │   </span><span style=\"color: #008000; text-decoration-color: #008000\">'for_advanced_students'</span>: <span style=\"color: #008000; text-decoration-color: #008000\">'Khuyến khích các em tự chứng minh các tính chất về tâm đường tròn (ví dụ: tâm đường tròn ngoại tiếp là giao điểm 3 đường trung trực). Giao thêm các bài tập mở rộng như tìm tâm đường tròn ngoại tiếp/nội tiếp của các hình đặc biệt khác (ví dụ: tứ giác nội tiếp/ngoại tiếp) hoặc các bài toán ứng dụng thực tế.'</span>\n",
       "<span style=\"color: #7fbf7f; text-decoration-color: #7fbf7f\">│   </span><span style=\"font-weight: bold\">}</span>,\n",
       "<span style=\"color: #7fbf7f; text-decoration-color: #7fbf7f\">│   </span><span style=\"color: #008000; text-decoration-color: #008000\">'question_or_description'</span>: <span style=\"color: #008000; text-decoration-color: #008000\">'**Phần Cốt lõi:**\\nHọc sinh làm việc theo nhóm (4-5 người) với phiếu học tập. Nhiệm vụ 1 (10 phút): Vẽ một tam giác bất kỳ và sử dụng compa, thước để tìm cách vẽ đường tròn đi qua 3 đỉnh của nó (đường tròn ngoại tiếp). Ghi lại các bước thực hiện và nhận xét về tâm của đường tròn. Nhiệm vụ 2 (10 phút): Vẽ một tam giác bất kỳ khác và tìm cách vẽ đường tròn tiếp xúc với 3 cạnh của nó (đường tròn nội tiếp). Ghi lại các bước thực hiện và nhận xét về tâm của đường tròn. Nhiệm vụ 3 (5 phút): Thảo luận trong nhóm để tổng hợp và ghi lại định nghĩa, tính chất cơ bản, và cách xác định tâm, bán kính của đường tròn ngoại tiếp và đường tròn nội tiếp tam giác.\\n\\n**Phần Mở rộng (nếu còn thời gian):**\\nNếu hoàn thành sớm, các nhóm có thể: Thử thách 1: Với tam giác vuông, tâm đường tròn ngoại tiếp nằm ở đâu? Với tam giác đều, tâm đường tròn ngoại tiếp và nội tiếp có trùng nhau không? Thử thách 2: Tìm hiểu ứng dụng của đường tròn ngoại tiếp/nội tiếp trong thực tế hoặc trong các bài toán hình học khác (ví dụ: tính diện tích tam giác thông qua bán kính đường tròn nội tiếp/ngoại tiếp).'</span>\n",
       "<span style=\"font-weight: bold\">}</span>\n",
       "</pre>\n"
      ],
      "text/plain": [
       "\u001b[1m{\u001b[0m\n",
       "\u001b[2;32m│   \u001b[0m\u001b[32m'activity_name'\u001b[0m: \u001b[32m'Xây dựng kiến thức cốt lõi \u001b[0m\u001b[32m(\u001b[0m\u001b[32mHọc tập hợp tác\u001b[0m\u001b[32m)\u001b[0m\u001b[32m'\u001b[0m,\n",
       "\u001b[2;32m│   \u001b[0m\u001b[32m'activity_type'\u001b[0m: \u001b[32m'Học tập hợp tác'\u001b[0m,\n",
       "\u001b[2;32m│   \u001b[0m\u001b[32m'duration_minutes'\u001b[0m: \u001b[1;36m30\u001b[0m,\n",
       "\u001b[2;32m│   \u001b[0m\u001b[32m'teacher_actions'\u001b[0m: \u001b[1m[\u001b[0m\n",
       "\u001b[2;32m│   │   \u001b[0m\u001b[32m'Chia lớp thành các nhóm 4-5 học sinh và phát phiếu học tập cùng dụng cụ \u001b[0m\u001b[32m(\u001b[0m\u001b[32mthước, compa\u001b[0m\u001b[32m)\u001b[0m\u001b[32m.'\u001b[0m,\n",
       "\u001b[2;32m│   │   \u001b[0m\u001b[32m'Đi quanh các nhóm, quan sát tiến độ và lắng nghe thảo luận của học sinh.'\u001b[0m,\n",
       "\u001b[2;32m│   │   \u001b[0m\u001b[32m\"Gợi ý, đặt câu hỏi dẫn dắt khi học sinh gặp khó khăn \u001b[0m\u001b[32m(\u001b[0m\u001b[32mví dụ: 'Để vẽ đường tròn đi qua 3 đỉnh, tâm của nó phải cách đều 3 đỉnh. Vậy điểm nào cách đều 3 đỉnh của tam giác?'\u001b[0m\u001b[32m)\u001b[0m\u001b[32m.\"\u001b[0m,\n",
       "\u001b[2;32m│   │   \u001b[0m\u001b[32m'Hỗ trợ về kỹ năng sử dụng dụng cụ học tập nếu cần.'\u001b[0m,\n",
       "\u001b[2;32m│   │   \u001b[0m\u001b[32m'Giải đáp thắc mắc và chỉnh sửa sai lầm kịp thời cho các nhóm.'\u001b[0m,\n",
       "\u001b[2;32m│   │   \u001b[0m\u001b[32m'Khuyến khích các nhóm trình bày kết quả và chia sẻ phương pháp tìm ra tâm và bán kính của đường tròn.'\u001b[0m\n",
       "\u001b[2;32m│   \u001b[0m\u001b[1m]\u001b[0m,\n",
       "\u001b[2;32m│   \u001b[0m\u001b[32m'core_component'\u001b[0m: \u001b[32m'Học sinh làm việc theo nhóm \u001b[0m\u001b[32m(\u001b[0m\u001b[32m4-5 người\u001b[0m\u001b[32m)\u001b[0m\u001b[32m với phiếu học tập. Nhiệm vụ 1 \u001b[0m\u001b[32m(\u001b[0m\u001b[32m10 phút\u001b[0m\u001b[32m)\u001b[0m\u001b[32m: Vẽ một tam giác bất kỳ và sử dụng compa, thước để tìm cách vẽ đường tròn đi qua 3 đỉnh của nó \u001b[0m\u001b[32m(\u001b[0m\u001b[32mđường tròn ngoại tiếp\u001b[0m\u001b[32m)\u001b[0m\u001b[32m. Ghi lại các bước thực hiện và nhận xét về tâm của đường tròn. Nhiệm vụ 2 \u001b[0m\u001b[32m(\u001b[0m\u001b[32m10 phút\u001b[0m\u001b[32m)\u001b[0m\u001b[32m: Vẽ một tam giác bất kỳ khác và tìm cách vẽ đường tròn tiếp xúc với 3 cạnh của nó \u001b[0m\u001b[32m(\u001b[0m\u001b[32mđường tròn nội tiếp\u001b[0m\u001b[32m)\u001b[0m\u001b[32m. Ghi lại các bước thực hiện và nhận xét về tâm của đường tròn. Nhiệm vụ 3 \u001b[0m\u001b[32m(\u001b[0m\u001b[32m5 phút\u001b[0m\u001b[32m)\u001b[0m\u001b[32m: Thảo luận trong nhóm để tổng hợp và ghi lại định nghĩa, tính chất cơ bản, và cách xác định tâm, bán kính của đường tròn ngoại tiếp và đường tròn nội tiếp tam giác.'\u001b[0m,\n",
       "\u001b[2;32m│   \u001b[0m\u001b[32m'extension_component'\u001b[0m: \u001b[32m'Nếu hoàn thành sớm, các nhóm có thể: Thử thách 1: Với tam giác vuông, tâm đường tròn ngoại tiếp nằm ở đâu? Với tam giác đều, tâm đường tròn ngoại tiếp và nội tiếp có trùng nhau không? Thử thách 2: Tìm hiểu ứng dụng của đường tròn ngoại tiếp/nội tiếp trong thực tế hoặc trong các bài toán hình học khác \u001b[0m\u001b[32m(\u001b[0m\u001b[32mví dụ: tính diện tích tam giác thông qua bán kính đường tròn nội tiếp/ngoại tiếp\u001b[0m\u001b[32m)\u001b[0m\u001b[32m.'\u001b[0m,\n",
       "\u001b[2;32m│   \u001b[0m\u001b[32m'solution_guide'\u001b[0m: \u001b[32m'Đường tròn ngoại tiếp: Tâm là giao điểm của 3 đường trung trực của tam giác. Bán kính là khoảng cách từ tâm đến 3 đỉnh. Đường tròn nội tiếp: Tâm là giao điểm của 3 đường phân giác của tam giác. Bán kính là khoảng cách từ tâm đến 3 cạnh \u001b[0m\u001b[32m(\u001b[0m\u001b[32mvuông góc với cạnh\u001b[0m\u001b[32m)\u001b[0m\u001b[32m. Gợi mở: Tại sao tâm đường tròn ngoại tiếp lại là giao điểm của 3 đường trung trực? Tại sao tâm đường tròn nội tiếp lại là giao điểm của 3 đường phân giác? Kiểm tra: Yêu cầu học sinh dùng compa kiểm tra lại xem đường tròn đã vẽ có thực sự đi qua 3 đỉnh/tiếp xúc 3 cạnh chưa.'\u001b[0m,\n",
       "\u001b[2;32m│   \u001b[0m\u001b[32m'differentiation'\u001b[0m: \u001b[1m{\u001b[0m\n",
       "\u001b[2;32m│   │   \u001b[0m\u001b[32m'for_struggling_students'\u001b[0m: \u001b[32m'Cung cấp các tam giác đã được vẽ sẵn trên phiếu, hoặc phiếu có các bước gợi ý/điền khuyết để tìm tâm đường tròn. Giáo viên dành thời gian hướng dẫn trực tiếp, kiểm tra từng bước thực hiện của nhóm và cung cấp thêm ví dụ minh họa trực quan.'\u001b[0m,\n",
       "\u001b[2;32m│   │   \u001b[0m\u001b[32m'for_advanced_students'\u001b[0m: \u001b[32m'Khuyến khích các em tự chứng minh các tính chất về tâm đường tròn \u001b[0m\u001b[32m(\u001b[0m\u001b[32mví dụ: tâm đường tròn ngoại tiếp là giao điểm 3 đường trung trực\u001b[0m\u001b[32m)\u001b[0m\u001b[32m. Giao thêm các bài tập mở rộng như tìm tâm đường tròn ngoại tiếp/nội tiếp của các hình đặc biệt khác \u001b[0m\u001b[32m(\u001b[0m\u001b[32mví dụ: tứ giác nội tiếp/ngoại tiếp\u001b[0m\u001b[32m)\u001b[0m\u001b[32m hoặc các bài toán ứng dụng thực tế.'\u001b[0m\n",
       "\u001b[2;32m│   \u001b[0m\u001b[1m}\u001b[0m,\n",
       "\u001b[2;32m│   \u001b[0m\u001b[32m'question_or_description'\u001b[0m: \u001b[32m'**Phần Cốt lõi:**\\nHọc sinh làm việc theo nhóm \u001b[0m\u001b[32m(\u001b[0m\u001b[32m4-5 người\u001b[0m\u001b[32m)\u001b[0m\u001b[32m với phiếu học tập. Nhiệm vụ 1 \u001b[0m\u001b[32m(\u001b[0m\u001b[32m10 phút\u001b[0m\u001b[32m)\u001b[0m\u001b[32m: Vẽ một tam giác bất kỳ và sử dụng compa, thước để tìm cách vẽ đường tròn đi qua 3 đỉnh của nó \u001b[0m\u001b[32m(\u001b[0m\u001b[32mđường tròn ngoại tiếp\u001b[0m\u001b[32m)\u001b[0m\u001b[32m. Ghi lại các bước thực hiện và nhận xét về tâm của đường tròn. Nhiệm vụ 2 \u001b[0m\u001b[32m(\u001b[0m\u001b[32m10 phút\u001b[0m\u001b[32m)\u001b[0m\u001b[32m: Vẽ một tam giác bất kỳ khác và tìm cách vẽ đường tròn tiếp xúc với 3 cạnh của nó \u001b[0m\u001b[32m(\u001b[0m\u001b[32mđường tròn nội tiếp\u001b[0m\u001b[32m)\u001b[0m\u001b[32m. Ghi lại các bước thực hiện và nhận xét về tâm của đường tròn. Nhiệm vụ 3 \u001b[0m\u001b[32m(\u001b[0m\u001b[32m5 phút\u001b[0m\u001b[32m)\u001b[0m\u001b[32m: Thảo luận trong nhóm để tổng hợp và ghi lại định nghĩa, tính chất cơ bản, và cách xác định tâm, bán kính của đường tròn ngoại tiếp và đường tròn nội tiếp tam giác.\\n\\n**Phần Mở rộng \u001b[0m\u001b[32m(\u001b[0m\u001b[32mnếu còn thời gian\u001b[0m\u001b[32m)\u001b[0m\u001b[32m:**\\nNếu hoàn thành sớm, các nhóm có thể: Thử thách 1: Với tam giác vuông, tâm đường tròn ngoại tiếp nằm ở đâu? Với tam giác đều, tâm đường tròn ngoại tiếp và nội tiếp có trùng nhau không? Thử thách 2: Tìm hiểu ứng dụng của đường tròn ngoại tiếp/nội tiếp trong thực tế hoặc trong các bài toán hình học khác \u001b[0m\u001b[32m(\u001b[0m\u001b[32mví dụ: tính diện tích tam giác thông qua bán kính đường tròn nội tiếp/ngoại tiếp\u001b[0m\u001b[32m)\u001b[0m\u001b[32m.'\u001b[0m\n",
       "\u001b[1m}\u001b[0m\n"
      ]
     },
     "metadata": {},
     "output_type": "display_data"
    },
    {
     "data": {
      "text/html": [
       "<pre style=\"white-space:pre;overflow-x:auto;line-height:normal;font-family:Menlo,'DejaVu Sans Mono',consolas,'Courier New',monospace\">\n",
       "<span style=\"color: #808000; text-decoration-color: #808000; font-weight: bold\">------- Hoàn thành bước: activity_designer -------</span>\n",
       "</pre>\n"
      ],
      "text/plain": [
       "\n",
       "\u001b[1;33m------- Hoàn thành bước: activity_designer -------\u001b[0m\n"
      ]
     },
     "metadata": {},
     "output_type": "display_data"
    },
    {
     "data": {
      "text/html": [
       "<pre style=\"white-space:pre;overflow-x:auto;line-height:normal;font-family:Menlo,'DejaVu Sans Mono',consolas,'Courier New',monospace\">\n",
       "<span style=\"color: #008080; text-decoration-color: #008080; font-weight: bold\">&gt;</span> `Agent: Time-Budget Advisor` <span style=\"font-weight: bold\">(</span>v9.<span style=\"color: #008080; text-decoration-color: #008080; font-weight: bold\">7</span><span style=\"font-weight: bold\">)</span> đang phản biện nội dung và ngân sách thời gian<span style=\"color: #808000; text-decoration-color: #808000\">...</span>\n",
       "</pre>\n"
      ],
      "text/plain": [
       "\n",
       "\u001b[1;36m>\u001b[0m `Agent: Time-Budget Advisor` \u001b[1m(\u001b[0mv9.\u001b[1;36m7\u001b[0m\u001b[1m)\u001b[0m đang phản biện nội dung và ngân sách thời gian\u001b[33m...\u001b[0m\n"
      ]
     },
     "metadata": {},
     "output_type": "display_data"
    },
    {
     "data": {
      "text/html": [
       "<pre style=\"white-space:pre;overflow-x:auto;line-height:normal;font-family:Menlo,'DejaVu Sans Mono',consolas,'Courier New',monospace\">\n",
       "<span style=\"color: #008080; text-decoration-color: #008080; font-weight: bold\">&gt;</span> ✔️ CỐ VẤN: Nội dung và ngân sách thời gian hợp lệ!\n",
       "</pre>\n"
      ],
      "text/plain": [
       "\n",
       "\u001b[1;36m>\u001b[0m ✔️ CỐ VẤN: Nội dung và ngân sách thời gian hợp lệ!\n"
      ]
     },
     "metadata": {},
     "output_type": "display_data"
    },
    {
     "data": {
      "text/html": [
       "<pre style=\"white-space:pre;overflow-x:auto;line-height:normal;font-family:Menlo,'DejaVu Sans Mono',consolas,'Courier New',monospace\">\n",
       "<span style=\"color: #008080; text-decoration-color: #008080; font-weight: bold\">&gt;</span> ROUTER <span style=\"font-weight: bold\">(</span>Validation<span style=\"font-weight: bold\">)</span>: Nội dung được chấp thuận. Chuyển sang bước ghi nhận.\n",
       "</pre>\n"
      ],
      "text/plain": [
       "\n",
       "\u001b[1;36m>\u001b[0m ROUTER \u001b[1m(\u001b[0mValidation\u001b[1m)\u001b[0m: Nội dung được chấp thuận. Chuyển sang bước ghi nhận.\n"
      ]
     },
     "metadata": {},
     "output_type": "display_data"
    },
    {
     "data": {
      "text/html": [
       "<pre style=\"white-space:pre;overflow-x:auto;line-height:normal;font-family:Menlo,'DejaVu Sans Mono',consolas,'Courier New',monospace\">\n",
       "<span style=\"color: #808000; text-decoration-color: #808000; font-weight: bold\">------- Hoàn thành bước: content_validator -------</span>\n",
       "</pre>\n"
      ],
      "text/plain": [
       "\n",
       "\u001b[1;33m------- Hoàn thành bước: content_validator -------\u001b[0m\n"
      ]
     },
     "metadata": {},
     "output_type": "display_data"
    },
    {
     "data": {
      "text/html": [
       "<pre style=\"white-space:pre;overflow-x:auto;line-height:normal;font-family:Menlo,'DejaVu Sans Mono',consolas,'Courier New',monospace\">\n",
       "<span style=\"color: #008080; text-decoration-color: #008080; font-weight: bold\">&gt;</span> `Commiter`: Đang ghi nhận nội dung đã được xác thực<span style=\"color: #808000; text-decoration-color: #808000\">...</span>\n",
       "</pre>\n"
      ],
      "text/plain": [
       "\n",
       "\u001b[1;36m>\u001b[0m `Commiter`: Đang ghi nhận nội dung đã được xác thực\u001b[33m...\u001b[0m\n"
      ]
     },
     "metadata": {},
     "output_type": "display_data"
    },
    {
     "data": {
      "text/html": [
       "<pre style=\"white-space:pre;overflow-x:auto;line-height:normal;font-family:Menlo,'DejaVu Sans Mono',consolas,'Courier New',monospace\">\n",
       "<span style=\"color: #808000; text-decoration-color: #808000; font-weight: bold\">------- Hoàn thành bước: commit_validated_content -------</span>\n",
       "</pre>\n"
      ],
      "text/plain": [
       "\n",
       "\u001b[1;33m------- Hoàn thành bước: commit_validated_content -------\u001b[0m\n"
      ]
     },
     "metadata": {},
     "output_type": "display_data"
    },
    {
     "data": {
      "text/html": [
       "<pre style=\"white-space:pre;overflow-x:auto;line-height:normal;font-family:Menlo,'DejaVu Sans Mono',consolas,'Courier New',monospace\">\n",
       "<span style=\"color: #808000; text-decoration-color: #808000; font-weight: bold\">------- Hoàn thành bước: mark_task_complete -------</span>\n",
       "</pre>\n"
      ],
      "text/plain": [
       "\n",
       "\u001b[1;33m------- Hoàn thành bước: mark_task_complete -------\u001b[0m\n"
      ]
     },
     "metadata": {},
     "output_type": "display_data"
    },
    {
     "data": {
      "text/html": [
       "<pre style=\"white-space:pre;overflow-x:auto;line-height:normal;font-family:Menlo,'DejaVu Sans Mono',consolas,'Courier New',monospace\">\n",
       "<span style=\"color: #008080; text-decoration-color: #008080; font-weight: bold\">&gt;</span> <span style=\"color: #808000; text-decoration-color: #808000\">...</span>Đang nghỉ <span style=\"color: #008080; text-decoration-color: #008080; font-weight: bold\">2</span> giây để tránh vượt rate limit<span style=\"color: #808000; text-decoration-color: #808000\">...</span>\n",
       "</pre>\n"
      ],
      "text/plain": [
       "\n",
       "\u001b[1;36m>\u001b[0m \u001b[33m...\u001b[0mĐang nghỉ \u001b[1;36m2\u001b[0m giây để tránh vượt rate limit\u001b[33m...\u001b[0m\n"
      ]
     },
     "metadata": {},
     "output_type": "display_data"
    },
    {
     "data": {
      "text/html": [
       "<pre style=\"white-space:pre;overflow-x:auto;line-height:normal;font-family:Menlo,'DejaVu Sans Mono',consolas,'Courier New',monospace\">\n",
       "<span style=\"color: #808000; text-decoration-color: #808000; font-weight: bold\">------- Hoàn thành bước: delay_node -------</span>\n",
       "</pre>\n"
      ],
      "text/plain": [
       "\n",
       "\u001b[1;33m------- Hoàn thành bước: delay_node -------\u001b[0m\n"
      ]
     },
     "metadata": {},
     "output_type": "display_data"
    },
    {
     "data": {
      "text/html": [
       "<pre style=\"white-space:pre;overflow-x:auto;line-height:normal;font-family:Menlo,'DejaVu Sans Mono',consolas,'Courier New',monospace\">\n",
       "<span style=\"color: #008080; text-decoration-color: #008080; font-weight: bold\">&gt;</span> `Router`: Đang kiểm tra nhiệm vụ<span style=\"color: #808000; text-decoration-color: #808000\">...</span>\n",
       "</pre>\n"
      ],
      "text/plain": [
       "\n",
       "\u001b[1;36m>\u001b[0m `Router`: Đang kiểm tra nhiệm vụ\u001b[33m...\u001b[0m\n"
      ]
     },
     "metadata": {},
     "output_type": "display_data"
    },
    {
     "data": {
      "text/html": [
       "<pre style=\"white-space:pre;overflow-x:auto;line-height:normal;font-family:Menlo,'DejaVu Sans Mono',consolas,'Courier New',monospace\">\n",
       "<span style=\"color: #008080; text-decoration-color: #008080; font-weight: bold\">&gt;</span> Nhiệm vụ tiếp theo: <span style=\"color: #008000; text-decoration-color: #008000\">'Vận dụng và Luyện tập cơ bản'</span> <span style=\"font-weight: bold\">(</span>ID: <span style=\"color: #008080; text-decoration-color: #008080; font-weight: bold\">2</span><span style=\"font-weight: bold\">)</span>\n",
       "</pre>\n"
      ],
      "text/plain": [
       "\n",
       "\u001b[1;36m>\u001b[0m Nhiệm vụ tiếp theo: \u001b[32m'Vận dụng và Luyện tập cơ bản'\u001b[0m \u001b[1m(\u001b[0mID: \u001b[1;36m2\u001b[0m\u001b[1m)\u001b[0m\n"
      ]
     },
     "metadata": {},
     "output_type": "display_data"
    },
    {
     "data": {
      "text/html": [
       "<pre style=\"white-space:pre;overflow-x:auto;line-height:normal;font-family:Menlo,'DejaVu Sans Mono',consolas,'Courier New',monospace\">\n",
       "<span style=\"color: #808000; text-decoration-color: #808000; font-weight: bold\">------- Hoàn thành bước: task_router -------</span>\n",
       "</pre>\n"
      ],
      "text/plain": [
       "\n",
       "\u001b[1;33m------- Hoàn thành bước: task_router -------\u001b[0m\n"
      ]
     },
     "metadata": {},
     "output_type": "display_data"
    },
    {
     "data": {
      "text/html": [
       "<pre style=\"white-space:pre;overflow-x:auto;line-height:normal;font-family:Menlo,'DejaVu Sans Mono',consolas,'Courier New',monospace\">\n",
       "<span style=\"color: #008080; text-decoration-color: #008080; font-weight: bold\">&gt;</span> `Agent: Task Dispatcher` <span style=\"font-weight: bold\">(</span>v7.<span style=\"color: #008080; text-decoration-color: #008080; font-weight: bold\">1</span><span style=\"font-weight: bold\">)</span> Bắt đầu<span style=\"color: #808000; text-decoration-color: #808000\">...</span>\n",
       "</pre>\n"
      ],
      "text/plain": [
       "\n",
       "\u001b[1;36m>\u001b[0m `Agent: Task Dispatcher` \u001b[1m(\u001b[0mv7.\u001b[1;36m1\u001b[0m\u001b[1m)\u001b[0m Bắt đầu\u001b[33m...\u001b[0m\n"
      ]
     },
     "metadata": {},
     "output_type": "display_data"
    },
    {
     "data": {
      "text/html": [
       "<pre style=\"white-space:pre;overflow-x:auto;line-height:normal;font-family:Menlo,'DejaVu Sans Mono',consolas,'Courier New',monospace\">\n",
       "<span style=\"color: #008080; text-decoration-color: #008080; font-weight: bold\">&gt;</span> --- 🚚 `Dispatcher`: Giao nhiệm vụ cho `activity_designer`.\n",
       "</pre>\n"
      ],
      "text/plain": [
       "\n",
       "\u001b[1;36m>\u001b[0m --- 🚚 `Dispatcher`: Giao nhiệm vụ cho `activity_designer`.\n"
      ]
     },
     "metadata": {},
     "output_type": "display_data"
    },
    {
     "data": {
      "text/html": [
       "<pre style=\"white-space:pre;overflow-x:auto;line-height:normal;font-family:Menlo,'DejaVu Sans Mono',consolas,'Courier New',monospace\">\n",
       "<span style=\"color: #808000; text-decoration-color: #808000; font-weight: bold\">------- Hoàn thành bước: task_dispatcher -------</span>\n",
       "</pre>\n"
      ],
      "text/plain": [
       "\n",
       "\u001b[1;33m------- Hoàn thành bước: task_dispatcher -------\u001b[0m\n"
      ]
     },
     "metadata": {},
     "output_type": "display_data"
    },
    {
     "data": {
      "text/html": [
       "<pre style=\"white-space:pre;overflow-x:auto;line-height:normal;font-family:Menlo,'DejaVu Sans Mono',consolas,'Courier New',monospace\">\n",
       "<span style=\"color: #008080; text-decoration-color: #008080; font-weight: bold\">&gt;</span> `Agent: Activity Designer` <span style=\"font-weight: bold\">(</span>v9.<span style=\"color: #008080; text-decoration-color: #008080; font-weight: bold\">7</span><span style=\"font-weight: bold\">)</span> đang tạo nội dung linh hoạt <span style=\"font-weight: bold\">(</span>Lõi + Mở rộng<span style=\"font-weight: bold\">)</span><span style=\"color: #808000; text-decoration-color: #808000\">...</span>\n",
       "</pre>\n"
      ],
      "text/plain": [
       "\n",
       "\u001b[1;36m>\u001b[0m `Agent: Activity Designer` \u001b[1m(\u001b[0mv9.\u001b[1;36m7\u001b[0m\u001b[1m)\u001b[0m đang tạo nội dung linh hoạt \u001b[1m(\u001b[0mLõi + Mở rộng\u001b[1m)\u001b[0m\u001b[33m...\u001b[0m\n"
      ]
     },
     "metadata": {},
     "output_type": "display_data"
    },
    {
     "data": {
      "text/html": [
       "<pre style=\"white-space:pre;overflow-x:auto;line-height:normal;font-family:Menlo,'DejaVu Sans Mono',consolas,'Courier New',monospace\"><span style=\"color: #008000; text-decoration-color: #008000; font-weight: bold\">✔️ Nội dung do Activity Designer tạo ra (Linh hoạt):</span>\n",
       "</pre>\n"
      ],
      "text/plain": [
       "\u001b[1;32m✔️ Nội dung do Activity Designer tạo ra \u001b[0m\u001b[1;32m(\u001b[0m\u001b[1;32mLinh hoạt\u001b[0m\u001b[1;32m)\u001b[0m\u001b[1;32m:\u001b[0m\n"
      ]
     },
     "metadata": {},
     "output_type": "display_data"
    },
    {
     "data": {
      "text/html": [
       "<pre style=\"white-space:pre;overflow-x:auto;line-height:normal;font-family:Menlo,'DejaVu Sans Mono',consolas,'Courier New',monospace\"><span style=\"font-weight: bold\">{</span>\n",
       "<span style=\"color: #7fbf7f; text-decoration-color: #7fbf7f\">│   </span><span style=\"color: #008000; text-decoration-color: #008000\">'activity_name'</span>: <span style=\"color: #008000; text-decoration-color: #008000\">'Vận dụng và Luyện tập cơ bản'</span>,\n",
       "<span style=\"color: #7fbf7f; text-decoration-color: #7fbf7f\">│   </span><span style=\"color: #008000; text-decoration-color: #008000\">'activity_type'</span>: <span style=\"color: #008000; text-decoration-color: #008000\">'Thực hành nhóm và cá nhân'</span>,\n",
       "<span style=\"color: #7fbf7f; text-decoration-color: #7fbf7f\">│   </span><span style=\"color: #008000; text-decoration-color: #008000\">'duration_minutes'</span>: <span style=\"color: #008080; text-decoration-color: #008080; font-weight: bold\">25</span>,\n",
       "<span style=\"color: #7fbf7f; text-decoration-color: #7fbf7f\">│   </span><span style=\"color: #008000; text-decoration-color: #008000\">'teacher_actions'</span>: <span style=\"font-weight: bold\">[</span>\n",
       "<span style=\"color: #7fbf7f; text-decoration-color: #7fbf7f\">│   │   </span><span style=\"color: #008000; text-decoration-color: #008000\">'Phát phiếu bài tập cho từng nhóm/cá nhân.'</span>,\n",
       "<span style=\"color: #7fbf7f; text-decoration-color: #7fbf7f\">│   │   </span><span style=\"color: #008000; text-decoration-color: #008000\">'Đi lại quan sát, lắng nghe các nhóm thảo luận và làm bài.'</span>,\n",
       "<span style=\"color: #7fbf7f; text-decoration-color: #7fbf7f\">│   │   </span><span style=\"color: #008000; text-decoration-color: #008000\">'Kịp thời hỗ trợ, gợi ý cho các nhóm/cá nhân gặp khó khăn (ví dụ: nhắc lại công thức, vẽ hình minh họa).'</span>,\n",
       "<span style=\"color: #7fbf7f; text-decoration-color: #7fbf7f\">│   │   </span><span style=\"color: #008000; text-decoration-color: #008000\">'Khuyến khích học sinh khá giỏi thử sức với các bài tập mở rộng.'</span>,\n",
       "<span style=\"color: #7fbf7f; text-decoration-color: #7fbf7f\">│   │   </span><span style=\"color: #008000; text-decoration-color: #008000\">'Chọn một vài bài tập tiêu biểu để chữa nhanh hoặc yêu cầu học sinh lên bảng trình bày (nếu còn thời gian).'</span>\n",
       "<span style=\"color: #7fbf7f; text-decoration-color: #7fbf7f\">│   </span><span style=\"font-weight: bold\">]</span>,\n",
       "<span style=\"color: #7fbf7f; text-decoration-color: #7fbf7f\">│   </span><span style=\"color: #008000; text-decoration-color: #008000\">'core_component'</span>: <span style=\"color: #008000; text-decoration-color: #008000\">'Học sinh làm các bài tập vận dụng cơ bản về đường tròn ngoại tiếp và nội tiếp.\\n*   **Bài tập nhóm (10 phút):**\\n    *   **Bài 1:** Cho tam giác ABC vuông tại A có AB = 6cm, AC = 8cm.\\n        a) Tính độ dài cạnh BC.\\n        b) Tính bán kính đường tròn ngoại tiếp tam giác ABC.\\n        c) Tính bán kính đường tròn nội tiếp tam giác ABC.\\n*   **Bài tập cá nhân (10 phút):**\\n    *   **Bài 2:** Cho hình vuông ABCD có cạnh 10cm.\\n        a) Tính bán kính đường tròn ngoại tiếp hình vuông ABCD.\\n        b) Tính bán kính đường tròn nội tiếp hình vuông ABCD.\\n    *   **Bài 3:** Cho tam giác đều ABC có cạnh bằng 6cm. Tính bán kính đường tròn ngoại tiếp và nội tiếp tam giác ABC.'</span>,\n",
       "<span style=\"color: #7fbf7f; text-decoration-color: #7fbf7f\">│   </span><span style=\"color: #008000; text-decoration-color: #008000\">'extension_component'</span>: <span style=\"color: #008000; text-decoration-color: #008000\">'Dành cho học sinh hoàn thành sớm hoặc muốn thử thách:\\n*   **Bài 4:** Cho tam giác ABC nhọn, đường cao AH. Gọi M, N lần lượt là hình chiếu của H trên AB, AC. Chứng minh bốn điểm A, M, H, N cùng thuộc một đường tròn. Xác định tâm và bán kính của đường tròn đó.\\n*   **Bài 5:** Cho đường tròn (O; R) và dây AB cố định không đi qua tâm. Điểm C di chuyển trên cung lớn AB. Gọi I là tâm đường tròn nội tiếp tam giác ABC. Chứng minh rằng điểm I luôn nằm trên một đường tròn cố định.'</span>,\n",
       "<span style=\"color: #7fbf7f; text-decoration-color: #7fbf7f\">│   </span><span style=\"color: #008000; text-decoration-color: #008000\">'solution_guide'</span>: <span style=\"color: #008000; text-decoration-color: #008000\">'**Gợi ý giải:**\\n*   **Bài 1:**\\n    *   a) Dùng định lý Pytago.\\n    *   b) Tam giác vuông, tâm đường tròn ngoại tiếp là trung điểm cạnh huyền.\\n    *   c) Sử dụng công thức r = (a+b-c)/2 hoặc r = S/p.\\n*   **Bài 2:**\\n    *   a) Đường tròn ngoại tiếp hình vuông đi qua 4 đỉnh, đường kính là đường chéo hình vuông.\\n    *   b) Đường tròn nội tiếp hình vuông tiếp xúc với 4 cạnh, đường kính bằng cạnh hình vuông.\\n*   **Bài 3:**\\n    *   Tam giác đều: R = a/√3, r = a/(2√3).\\n*   **Bài 4:**\\n    *   Chứng minh các góc AMH và ANH là góc vuông. Tứ giác AMHN có tổng hai góc đối bằng 180 độ hoặc hai đỉnh M, N cùng nhìn AH dưới một góc vuông. Tâm là trung điểm AH, bán kính là AH/2.\\n*   **Bài 5:**\\n    *   Sử dụng tính chất góc tạo bởi tia phân giác và cung bị chắn. Chứng minh góc AIC không đổi. Điểm I nhìn đoạn AC dưới một góc không đổi.'</span>,\n",
       "<span style=\"color: #7fbf7f; text-decoration-color: #7fbf7f\">│   </span><span style=\"color: #008000; text-decoration-color: #008000\">'differentiation'</span>: <span style=\"font-weight: bold\">{</span>\n",
       "<span style=\"color: #7fbf7f; text-decoration-color: #7fbf7f\">│   │   </span><span style=\"color: #008000; text-decoration-color: #008000\">'for_struggling_students'</span>: <span style=\"color: #008000; text-decoration-color: #008000\">'Đối với Bài 1, giáo viên có thể gợi ý công thức tính bán kính đường tròn ngoại tiếp tam giác vuông (R = cạnh huyền / 2) và công thức tính bán kính đường tròn nội tiếp (r = (a+b-c)/2 hoặc r = S/p). Cung cấp phiếu bài tập có chỗ trống để điền kết quả hoặc gợi ý từng bước giải. Chỉ yêu cầu hoàn thành Bài 1 và Bài 2a.'</span>,\n",
       "<span style=\"color: #7fbf7f; text-decoration-color: #7fbf7f\">│   │   </span><span style=\"color: #008000; text-decoration-color: #008000\">'for_advanced_students'</span>: <span style=\"color: #008000; text-decoration-color: #008000\">'Khuyến khích học sinh làm thêm Bài 4 và Bài 5. Yêu cầu các em trình bày lời giải chi tiết, rõ ràng, có thể yêu cầu giải thích các định lý, tính chất đã sử dụng. Nếu có thời gian, có thể yêu cầu các em tự đặt thêm một bài toán tương tự.'</span>\n",
       "<span style=\"color: #7fbf7f; text-decoration-color: #7fbf7f\">│   </span><span style=\"font-weight: bold\">}</span>,\n",
       "<span style=\"color: #7fbf7f; text-decoration-color: #7fbf7f\">│   </span><span style=\"color: #008000; text-decoration-color: #008000\">'question_or_description'</span>: <span style=\"color: #008000; text-decoration-color: #008000\">'**Phần Cốt lõi:**\\nHọc sinh làm các bài tập vận dụng cơ bản về đường tròn ngoại tiếp và nội tiếp.\\n*   **Bài tập nhóm (10 phút):**\\n    *   **Bài 1:** Cho tam giác ABC vuông tại A có AB = 6cm, AC = 8cm.\\n        a) Tính độ dài cạnh BC.\\n        b) Tính bán kính đường tròn ngoại tiếp tam giác ABC.\\n        c) Tính bán kính đường tròn nội tiếp tam giác ABC.\\n*   **Bài tập cá nhân (10 phút):**\\n    *   **Bài 2:** Cho hình vuông ABCD có cạnh 10cm.\\n        a) Tính bán kính đường tròn ngoại tiếp hình vuông ABCD.\\n        b) Tính bán kính đường tròn nội tiếp hình vuông ABCD.\\n    *   **Bài 3:** Cho tam giác đều ABC có cạnh bằng 6cm. Tính bán kính đường tròn ngoại tiếp và nội tiếp tam giác ABC.\\n\\n**Phần Mở rộng (nếu còn thời gian):**\\nDành cho học sinh hoàn thành sớm hoặc muốn thử thách:\\n*   **Bài 4:** Cho tam giác ABC nhọn, đường cao AH. Gọi M, N lần lượt là hình chiếu của H trên AB, AC. Chứng minh bốn điểm A, M, H, N cùng thuộc một đường tròn. Xác định tâm và bán kính của đường tròn đó.\\n*   **Bài 5:** Cho đường tròn (O; R) và dây AB cố định không đi qua tâm. Điểm C di chuyển trên cung lớn AB. Gọi I là tâm đường tròn nội tiếp tam giác ABC. Chứng minh rằng điểm I luôn nằm trên một đường tròn cố định.'</span>\n",
       "<span style=\"font-weight: bold\">}</span>\n",
       "</pre>\n"
      ],
      "text/plain": [
       "\u001b[1m{\u001b[0m\n",
       "\u001b[2;32m│   \u001b[0m\u001b[32m'activity_name'\u001b[0m: \u001b[32m'Vận dụng và Luyện tập cơ bản'\u001b[0m,\n",
       "\u001b[2;32m│   \u001b[0m\u001b[32m'activity_type'\u001b[0m: \u001b[32m'Thực hành nhóm và cá nhân'\u001b[0m,\n",
       "\u001b[2;32m│   \u001b[0m\u001b[32m'duration_minutes'\u001b[0m: \u001b[1;36m25\u001b[0m,\n",
       "\u001b[2;32m│   \u001b[0m\u001b[32m'teacher_actions'\u001b[0m: \u001b[1m[\u001b[0m\n",
       "\u001b[2;32m│   │   \u001b[0m\u001b[32m'Phát phiếu bài tập cho từng nhóm/cá nhân.'\u001b[0m,\n",
       "\u001b[2;32m│   │   \u001b[0m\u001b[32m'Đi lại quan sát, lắng nghe các nhóm thảo luận và làm bài.'\u001b[0m,\n",
       "\u001b[2;32m│   │   \u001b[0m\u001b[32m'Kịp thời hỗ trợ, gợi ý cho các nhóm/cá nhân gặp khó khăn \u001b[0m\u001b[32m(\u001b[0m\u001b[32mví dụ: nhắc lại công thức, vẽ hình minh họa\u001b[0m\u001b[32m)\u001b[0m\u001b[32m.'\u001b[0m,\n",
       "\u001b[2;32m│   │   \u001b[0m\u001b[32m'Khuyến khích học sinh khá giỏi thử sức với các bài tập mở rộng.'\u001b[0m,\n",
       "\u001b[2;32m│   │   \u001b[0m\u001b[32m'Chọn một vài bài tập tiêu biểu để chữa nhanh hoặc yêu cầu học sinh lên bảng trình bày \u001b[0m\u001b[32m(\u001b[0m\u001b[32mnếu còn thời gian\u001b[0m\u001b[32m)\u001b[0m\u001b[32m.'\u001b[0m\n",
       "\u001b[2;32m│   \u001b[0m\u001b[1m]\u001b[0m,\n",
       "\u001b[2;32m│   \u001b[0m\u001b[32m'core_component'\u001b[0m: \u001b[32m'Học sinh làm các bài tập vận dụng cơ bản về đường tròn ngoại tiếp và nội tiếp.\\n*   **Bài tập nhóm \u001b[0m\u001b[32m(\u001b[0m\u001b[32m10 phút\u001b[0m\u001b[32m)\u001b[0m\u001b[32m:**\\n    *   **Bài 1:** Cho tam giác ABC vuông tại A có AB = 6cm, AC = 8cm.\\n        a\u001b[0m\u001b[32m)\u001b[0m\u001b[32m Tính độ dài cạnh BC.\\n        b\u001b[0m\u001b[32m)\u001b[0m\u001b[32m Tính bán kính đường tròn ngoại tiếp tam giác ABC.\\n        c\u001b[0m\u001b[32m)\u001b[0m\u001b[32m Tính bán kính đường tròn nội tiếp tam giác ABC.\\n*   **Bài tập cá nhân \u001b[0m\u001b[32m(\u001b[0m\u001b[32m10 phút\u001b[0m\u001b[32m)\u001b[0m\u001b[32m:**\\n    *   **Bài 2:** Cho hình vuông ABCD có cạnh 10cm.\\n        a\u001b[0m\u001b[32m)\u001b[0m\u001b[32m Tính bán kính đường tròn ngoại tiếp hình vuông ABCD.\\n        b\u001b[0m\u001b[32m)\u001b[0m\u001b[32m Tính bán kính đường tròn nội tiếp hình vuông ABCD.\\n    *   **Bài 3:** Cho tam giác đều ABC có cạnh bằng 6cm. Tính bán kính đường tròn ngoại tiếp và nội tiếp tam giác ABC.'\u001b[0m,\n",
       "\u001b[2;32m│   \u001b[0m\u001b[32m'extension_component'\u001b[0m: \u001b[32m'Dành cho học sinh hoàn thành sớm hoặc muốn thử thách:\\n*   **Bài 4:** Cho tam giác ABC nhọn, đường cao AH. Gọi M, N lần lượt là hình chiếu của H trên AB, AC. Chứng minh bốn điểm A, M, H, N cùng thuộc một đường tròn. Xác định tâm và bán kính của đường tròn đó.\\n*   **Bài 5:** Cho đường tròn \u001b[0m\u001b[32m(\u001b[0m\u001b[32mO; R\u001b[0m\u001b[32m)\u001b[0m\u001b[32m và dây AB cố định không đi qua tâm. Điểm C di chuyển trên cung lớn AB. Gọi I là tâm đường tròn nội tiếp tam giác ABC. Chứng minh rằng điểm I luôn nằm trên một đường tròn cố định.'\u001b[0m,\n",
       "\u001b[2;32m│   \u001b[0m\u001b[32m'solution_guide'\u001b[0m: \u001b[32m'**Gợi ý giải:**\\n*   **Bài 1:**\\n    *   a\u001b[0m\u001b[32m)\u001b[0m\u001b[32m Dùng định lý Pytago.\\n    *   b\u001b[0m\u001b[32m)\u001b[0m\u001b[32m Tam giác vuông, tâm đường tròn ngoại tiếp là trung điểm cạnh huyền.\\n    *   c\u001b[0m\u001b[32m)\u001b[0m\u001b[32m Sử dụng công thức r = \u001b[0m\u001b[32m(\u001b[0m\u001b[32ma+b-c\u001b[0m\u001b[32m)\u001b[0m\u001b[32m/2 hoặc r = S/p.\\n*   **Bài 2:**\\n    *   a\u001b[0m\u001b[32m)\u001b[0m\u001b[32m Đường tròn ngoại tiếp hình vuông đi qua 4 đỉnh, đường kính là đường chéo hình vuông.\\n    *   b\u001b[0m\u001b[32m)\u001b[0m\u001b[32m Đường tròn nội tiếp hình vuông tiếp xúc với 4 cạnh, đường kính bằng cạnh hình vuông.\\n*   **Bài 3:**\\n    *   Tam giác đều: R = a/√3, r = a/\u001b[0m\u001b[32m(\u001b[0m\u001b[32m2√3\u001b[0m\u001b[32m)\u001b[0m\u001b[32m.\\n*   **Bài 4:**\\n    *   Chứng minh các góc AMH và ANH là góc vuông. Tứ giác AMHN có tổng hai góc đối bằng 180 độ hoặc hai đỉnh M, N cùng nhìn AH dưới một góc vuông. Tâm là trung điểm AH, bán kính là AH/2.\\n*   **Bài 5:**\\n    *   Sử dụng tính chất góc tạo bởi tia phân giác và cung bị chắn. Chứng minh góc AIC không đổi. Điểm I nhìn đoạn AC dưới một góc không đổi.'\u001b[0m,\n",
       "\u001b[2;32m│   \u001b[0m\u001b[32m'differentiation'\u001b[0m: \u001b[1m{\u001b[0m\n",
       "\u001b[2;32m│   │   \u001b[0m\u001b[32m'for_struggling_students'\u001b[0m: \u001b[32m'Đối với Bài 1, giáo viên có thể gợi ý công thức tính bán kính đường tròn ngoại tiếp tam giác vuông \u001b[0m\u001b[32m(\u001b[0m\u001b[32mR = cạnh huyền / 2\u001b[0m\u001b[32m)\u001b[0m\u001b[32m và công thức tính bán kính đường tròn nội tiếp \u001b[0m\u001b[32m(\u001b[0m\u001b[32mr = \u001b[0m\u001b[32m(\u001b[0m\u001b[32ma+b-c\u001b[0m\u001b[32m)\u001b[0m\u001b[32m/2 hoặc r = S/p\u001b[0m\u001b[32m)\u001b[0m\u001b[32m. Cung cấp phiếu bài tập có chỗ trống để điền kết quả hoặc gợi ý từng bước giải. Chỉ yêu cầu hoàn thành Bài 1 và Bài 2a.'\u001b[0m,\n",
       "\u001b[2;32m│   │   \u001b[0m\u001b[32m'for_advanced_students'\u001b[0m: \u001b[32m'Khuyến khích học sinh làm thêm Bài 4 và Bài 5. Yêu cầu các em trình bày lời giải chi tiết, rõ ràng, có thể yêu cầu giải thích các định lý, tính chất đã sử dụng. Nếu có thời gian, có thể yêu cầu các em tự đặt thêm một bài toán tương tự.'\u001b[0m\n",
       "\u001b[2;32m│   \u001b[0m\u001b[1m}\u001b[0m,\n",
       "\u001b[2;32m│   \u001b[0m\u001b[32m'question_or_description'\u001b[0m: \u001b[32m'**Phần Cốt lõi:**\\nHọc sinh làm các bài tập vận dụng cơ bản về đường tròn ngoại tiếp và nội tiếp.\\n*   **Bài tập nhóm \u001b[0m\u001b[32m(\u001b[0m\u001b[32m10 phút\u001b[0m\u001b[32m)\u001b[0m\u001b[32m:**\\n    *   **Bài 1:** Cho tam giác ABC vuông tại A có AB = 6cm, AC = 8cm.\\n        a\u001b[0m\u001b[32m)\u001b[0m\u001b[32m Tính độ dài cạnh BC.\\n        b\u001b[0m\u001b[32m)\u001b[0m\u001b[32m Tính bán kính đường tròn ngoại tiếp tam giác ABC.\\n        c\u001b[0m\u001b[32m)\u001b[0m\u001b[32m Tính bán kính đường tròn nội tiếp tam giác ABC.\\n*   **Bài tập cá nhân \u001b[0m\u001b[32m(\u001b[0m\u001b[32m10 phút\u001b[0m\u001b[32m)\u001b[0m\u001b[32m:**\\n    *   **Bài 2:** Cho hình vuông ABCD có cạnh 10cm.\\n        a\u001b[0m\u001b[32m)\u001b[0m\u001b[32m Tính bán kính đường tròn ngoại tiếp hình vuông ABCD.\\n        b\u001b[0m\u001b[32m)\u001b[0m\u001b[32m Tính bán kính đường tròn nội tiếp hình vuông ABCD.\\n    *   **Bài 3:** Cho tam giác đều ABC có cạnh bằng 6cm. Tính bán kính đường tròn ngoại tiếp và nội tiếp tam giác ABC.\\n\\n**Phần Mở rộng \u001b[0m\u001b[32m(\u001b[0m\u001b[32mnếu còn thời gian\u001b[0m\u001b[32m)\u001b[0m\u001b[32m:**\\nDành cho học sinh hoàn thành sớm hoặc muốn thử thách:\\n*   **Bài 4:** Cho tam giác ABC nhọn, đường cao AH. Gọi M, N lần lượt là hình chiếu của H trên AB, AC. Chứng minh bốn điểm A, M, H, N cùng thuộc một đường tròn. Xác định tâm và bán kính của đường tròn đó.\\n*   **Bài 5:** Cho đường tròn \u001b[0m\u001b[32m(\u001b[0m\u001b[32mO; R\u001b[0m\u001b[32m)\u001b[0m\u001b[32m và dây AB cố định không đi qua tâm. Điểm C di chuyển trên cung lớn AB. Gọi I là tâm đường tròn nội tiếp tam giác ABC. Chứng minh rằng điểm I luôn nằm trên một đường tròn cố định.'\u001b[0m\n",
       "\u001b[1m}\u001b[0m\n"
      ]
     },
     "metadata": {},
     "output_type": "display_data"
    },
    {
     "data": {
      "text/html": [
       "<pre style=\"white-space:pre;overflow-x:auto;line-height:normal;font-family:Menlo,'DejaVu Sans Mono',consolas,'Courier New',monospace\">\n",
       "<span style=\"color: #808000; text-decoration-color: #808000; font-weight: bold\">------- Hoàn thành bước: activity_designer -------</span>\n",
       "</pre>\n"
      ],
      "text/plain": [
       "\n",
       "\u001b[1;33m------- Hoàn thành bước: activity_designer -------\u001b[0m\n"
      ]
     },
     "metadata": {},
     "output_type": "display_data"
    },
    {
     "data": {
      "text/html": [
       "<pre style=\"white-space:pre;overflow-x:auto;line-height:normal;font-family:Menlo,'DejaVu Sans Mono',consolas,'Courier New',monospace\">\n",
       "<span style=\"color: #008080; text-decoration-color: #008080; font-weight: bold\">&gt;</span> `Agent: Time-Budget Advisor` <span style=\"font-weight: bold\">(</span>v9.<span style=\"color: #008080; text-decoration-color: #008080; font-weight: bold\">7</span><span style=\"font-weight: bold\">)</span> đang phản biện nội dung và ngân sách thời gian<span style=\"color: #808000; text-decoration-color: #808000\">...</span>\n",
       "</pre>\n"
      ],
      "text/plain": [
       "\n",
       "\u001b[1;36m>\u001b[0m `Agent: Time-Budget Advisor` \u001b[1m(\u001b[0mv9.\u001b[1;36m7\u001b[0m\u001b[1m)\u001b[0m đang phản biện nội dung và ngân sách thời gian\u001b[33m...\u001b[0m\n"
      ]
     },
     "metadata": {},
     "output_type": "display_data"
    },
    {
     "data": {
      "text/html": [
       "<pre style=\"white-space:pre;overflow-x:auto;line-height:normal;font-family:Menlo,'DejaVu Sans Mono',consolas,'Courier New',monospace\"><span style=\"color: #808000; text-decoration-color: #808000; font-weight: bold\">⚠️  CỐ VẤN PHẢN BIỆN: [STRUCTURAL_FEEDBACK] Thời gian dự kiến </span><span style=\"color: #808000; text-decoration-color: #808000; font-weight: bold\">25</span><span style=\"color: #808000; text-decoration-color: #808000; font-weight: bold\"> phút là hơi gấp gáp để học sinh có thể hoàn thành </span>\n",
       "<span style=\"color: #808000; text-decoration-color: #808000; font-weight: bold\">đầy đủ các bài tập cốt lõi và giáo viên có đủ thời gian để quan sát, hỗ trợ, cũng như chữa bài và tổng kết hiệu </span>\n",
       "<span style=\"color: #808000; text-decoration-color: #808000; font-weight: bold\">quả. Đặc biệt, việc chữa bài và yêu cầu học sinh lên bảng trình bày trong </span><span style=\"color: #808000; text-decoration-color: #808000; font-weight: bold\">5</span><span style=\"color: #808000; text-decoration-color: #808000; font-weight: bold\"> phút còn lại là rất khó khả thi. Hoạt </span>\n",
       "<span style=\"color: #808000; text-decoration-color: #808000; font-weight: bold\">động này cần thêm thời gian để đảm bảo chất lượng luyện tập và củng cố kiến thức. | SUGGESTED_DURATION: </span><span style=\"color: #808000; text-decoration-color: #808000; font-weight: bold\">30</span>\n",
       "</pre>\n"
      ],
      "text/plain": [
       "\u001b[1;33m⚠️  CỐ VẤN PHẢN BIỆN: \u001b[0m\u001b[1;33m[\u001b[0m\u001b[1;33mSTRUCTURAL_FEEDBACK\u001b[0m\u001b[1;33m]\u001b[0m\u001b[1;33m Thời gian dự kiến \u001b[0m\u001b[1;33m25\u001b[0m\u001b[1;33m phút là hơi gấp gáp để học sinh có thể hoàn thành \u001b[0m\n",
       "\u001b[1;33mđầy đủ các bài tập cốt lõi và giáo viên có đủ thời gian để quan sát, hỗ trợ, cũng như chữa bài và tổng kết hiệu \u001b[0m\n",
       "\u001b[1;33mquả. Đặc biệt, việc chữa bài và yêu cầu học sinh lên bảng trình bày trong \u001b[0m\u001b[1;33m5\u001b[0m\u001b[1;33m phút còn lại là rất khó khả thi. Hoạt \u001b[0m\n",
       "\u001b[1;33mđộng này cần thêm thời gian để đảm bảo chất lượng luyện tập và củng cố kiến thức. | SUGGESTED_DURATION: \u001b[0m\u001b[1;33m30\u001b[0m\n"
      ]
     },
     "metadata": {},
     "output_type": "display_data"
    },
    {
     "data": {
      "text/html": [
       "<pre style=\"white-space:pre;overflow-x:auto;line-height:normal;font-family:Menlo,'DejaVu Sans Mono',consolas,'Courier New',monospace\">\n",
       "<span style=\"color: #008080; text-decoration-color: #008080; font-weight: bold\">&gt;</span> ROUTER <span style=\"font-weight: bold\">(</span>Validation<span style=\"font-weight: bold\">)</span>: Lỗi cấu trúc, yêu cầu LẬP KẾ HOẠCH LẠI.\n",
       "</pre>\n"
      ],
      "text/plain": [
       "\n",
       "\u001b[1;36m>\u001b[0m ROUTER \u001b[1m(\u001b[0mValidation\u001b[1m)\u001b[0m: Lỗi cấu trúc, yêu cầu LẬP KẾ HOẠCH LẠI.\n"
      ]
     },
     "metadata": {},
     "output_type": "display_data"
    },
    {
     "data": {
      "text/html": [
       "<pre style=\"white-space:pre;overflow-x:auto;line-height:normal;font-family:Menlo,'DejaVu Sans Mono',consolas,'Courier New',monospace\">\n",
       "<span style=\"color: #808000; text-decoration-color: #808000; font-weight: bold\">------- Hoàn thành bước: content_validator -------</span>\n",
       "</pre>\n"
      ],
      "text/plain": [
       "\n",
       "\u001b[1;33m------- Hoàn thành bước: content_validator -------\u001b[0m\n"
      ]
     },
     "metadata": {},
     "output_type": "display_data"
    },
    {
     "data": {
      "text/html": [
       "<pre style=\"white-space:pre;overflow-x:auto;line-height:normal;font-family:Menlo,'DejaVu Sans Mono',consolas,'Courier New',monospace\">\n",
       "<span style=\"color: #008080; text-decoration-color: #008080; font-weight: bold\">&gt;</span> `Node: Task Time Surgeon`  surgically updating task duration<span style=\"color: #808000; text-decoration-color: #808000\">...</span>\n",
       "</pre>\n"
      ],
      "text/plain": [
       "\n",
       "\u001b[1;36m>\u001b[0m `Node: Task Time Surgeon`  surgically updating task duration\u001b[33m...\u001b[0m\n"
      ]
     },
     "metadata": {},
     "output_type": "display_data"
    },
    {
     "data": {
      "text/html": [
       "<pre style=\"white-space:pre;overflow-x:auto;line-height:normal;font-family:Menlo,'DejaVu Sans Mono',consolas,'Courier New',monospace\">\n",
       "<span style=\"color: #008080; text-decoration-color: #008080; font-weight: bold\">&gt;</span> Đã trích xuất thời gian đề xuất: <span style=\"color: #008080; text-decoration-color: #008080; font-weight: bold\">30</span> phút.\n",
       "</pre>\n"
      ],
      "text/plain": [
       "\n",
       "\u001b[1;36m>\u001b[0m Đã trích xuất thời gian đề xuất: \u001b[1;36m30\u001b[0m phút.\n"
      ]
     },
     "metadata": {},
     "output_type": "display_data"
    },
    {
     "data": {
      "text/html": [
       "<pre style=\"white-space:pre;overflow-x:auto;line-height:normal;font-family:Menlo,'DejaVu Sans Mono',consolas,'Courier New',monospace\"><span style=\"color: #008000; text-decoration-color: #008000; font-weight: bold\">✔️ Đã cập nhật thời lượng nhiệm vụ:</span>\n",
       "</pre>\n"
      ],
      "text/plain": [
       "\u001b[1;32m✔️ Đã cập nhật thời lượng nhiệm vụ:\u001b[0m\n"
      ]
     },
     "metadata": {},
     "output_type": "display_data"
    },
    {
     "data": {
      "text/html": [
       "<pre style=\"white-space:pre;overflow-x:auto;line-height:normal;font-family:Menlo,'DejaVu Sans Mono',consolas,'Courier New',monospace\"><span style=\"font-weight: bold\">{</span>\n",
       "<span style=\"color: #7fbf7f; text-decoration-color: #7fbf7f\">│   </span><span style=\"color: #008000; text-decoration-color: #008000\">'task_id'</span>: <span style=\"color: #008080; text-decoration-color: #008080; font-weight: bold\">2</span>,\n",
       "<span style=\"color: #7fbf7f; text-decoration-color: #7fbf7f\">│   </span><span style=\"color: #008000; text-decoration-color: #008000\">'from'</span>: <span style=\"color: #008080; text-decoration-color: #008080; font-weight: bold\">25</span>,\n",
       "<span style=\"color: #7fbf7f; text-decoration-color: #7fbf7f\">│   </span><span style=\"color: #008000; text-decoration-color: #008000\">'to'</span>: <span style=\"color: #008080; text-decoration-color: #008080; font-weight: bold\">30</span>\n",
       "<span style=\"font-weight: bold\">}</span>\n",
       "</pre>\n"
      ],
      "text/plain": [
       "\u001b[1m{\u001b[0m\n",
       "\u001b[2;32m│   \u001b[0m\u001b[32m'task_id'\u001b[0m: \u001b[1;36m2\u001b[0m,\n",
       "\u001b[2;32m│   \u001b[0m\u001b[32m'from'\u001b[0m: \u001b[1;36m25\u001b[0m,\n",
       "\u001b[2;32m│   \u001b[0m\u001b[32m'to'\u001b[0m: \u001b[1;36m30\u001b[0m\n",
       "\u001b[1m}\u001b[0m\n"
      ]
     },
     "metadata": {},
     "output_type": "display_data"
    },
    {
     "data": {
      "text/html": [
       "<pre style=\"white-space:pre;overflow-x:auto;line-height:normal;font-family:Menlo,'DejaVu Sans Mono',consolas,'Courier New',monospace\">\n",
       "<span style=\"color: #808000; text-decoration-color: #808000; font-weight: bold\">------- Hoàn thành bước: update_task_duration -------</span>\n",
       "</pre>\n"
      ],
      "text/plain": [
       "\n",
       "\u001b[1;33m------- Hoàn thành bước: update_task_duration -------\u001b[0m\n"
      ]
     },
     "metadata": {},
     "output_type": "display_data"
    },
    {
     "data": {
      "text/html": [
       "<pre style=\"white-space:pre;overflow-x:auto;line-height:normal;font-family:Menlo,'DejaVu Sans Mono',consolas,'Courier New',monospace\">\n",
       "<span style=\"color: #008080; text-decoration-color: #008080; font-weight: bold\">&gt;</span> `Agent: Task Dispatcher` <span style=\"font-weight: bold\">(</span>v7.<span style=\"color: #008080; text-decoration-color: #008080; font-weight: bold\">1</span><span style=\"font-weight: bold\">)</span> Bắt đầu<span style=\"color: #808000; text-decoration-color: #808000\">...</span>\n",
       "</pre>\n"
      ],
      "text/plain": [
       "\n",
       "\u001b[1;36m>\u001b[0m `Agent: Task Dispatcher` \u001b[1m(\u001b[0mv7.\u001b[1;36m1\u001b[0m\u001b[1m)\u001b[0m Bắt đầu\u001b[33m...\u001b[0m\n"
      ]
     },
     "metadata": {},
     "output_type": "display_data"
    },
    {
     "data": {
      "text/html": [
       "<pre style=\"white-space:pre;overflow-x:auto;line-height:normal;font-family:Menlo,'DejaVu Sans Mono',consolas,'Courier New',monospace\">\n",
       "<span style=\"color: #008080; text-decoration-color: #008080; font-weight: bold\">&gt;</span> --- 🚚 `Dispatcher`: Giao nhiệm vụ cho `activity_designer`.\n",
       "</pre>\n"
      ],
      "text/plain": [
       "\n",
       "\u001b[1;36m>\u001b[0m --- 🚚 `Dispatcher`: Giao nhiệm vụ cho `activity_designer`.\n"
      ]
     },
     "metadata": {},
     "output_type": "display_data"
    },
    {
     "data": {
      "text/html": [
       "<pre style=\"white-space:pre;overflow-x:auto;line-height:normal;font-family:Menlo,'DejaVu Sans Mono',consolas,'Courier New',monospace\">\n",
       "<span style=\"color: #808000; text-decoration-color: #808000; font-weight: bold\">------- Hoàn thành bước: task_dispatcher -------</span>\n",
       "</pre>\n"
      ],
      "text/plain": [
       "\n",
       "\u001b[1;33m------- Hoàn thành bước: task_dispatcher -------\u001b[0m\n"
      ]
     },
     "metadata": {},
     "output_type": "display_data"
    },
    {
     "data": {
      "text/html": [
       "<pre style=\"white-space:pre;overflow-x:auto;line-height:normal;font-family:Menlo,'DejaVu Sans Mono',consolas,'Courier New',monospace\">\n",
       "<span style=\"color: #008080; text-decoration-color: #008080; font-weight: bold\">&gt;</span> `Agent: Activity Designer` <span style=\"font-weight: bold\">(</span>v9.<span style=\"color: #008080; text-decoration-color: #008080; font-weight: bold\">7</span><span style=\"font-weight: bold\">)</span> đang tạo nội dung linh hoạt <span style=\"font-weight: bold\">(</span>Lõi + Mở rộng<span style=\"font-weight: bold\">)</span><span style=\"color: #808000; text-decoration-color: #808000\">...</span>\n",
       "</pre>\n"
      ],
      "text/plain": [
       "\n",
       "\u001b[1;36m>\u001b[0m `Agent: Activity Designer` \u001b[1m(\u001b[0mv9.\u001b[1;36m7\u001b[0m\u001b[1m)\u001b[0m đang tạo nội dung linh hoạt \u001b[1m(\u001b[0mLõi + Mở rộng\u001b[1m)\u001b[0m\u001b[33m...\u001b[0m\n"
      ]
     },
     "metadata": {},
     "output_type": "display_data"
    },
    {
     "data": {
      "text/html": [
       "<pre style=\"white-space:pre;overflow-x:auto;line-height:normal;font-family:Menlo,'DejaVu Sans Mono',consolas,'Courier New',monospace\"><span style=\"color: #008000; text-decoration-color: #008000; font-weight: bold\">✔️ Nội dung do Activity Designer tạo ra (Linh hoạt):</span>\n",
       "</pre>\n"
      ],
      "text/plain": [
       "\u001b[1;32m✔️ Nội dung do Activity Designer tạo ra \u001b[0m\u001b[1;32m(\u001b[0m\u001b[1;32mLinh hoạt\u001b[0m\u001b[1;32m)\u001b[0m\u001b[1;32m:\u001b[0m\n"
      ]
     },
     "metadata": {},
     "output_type": "display_data"
    },
    {
     "data": {
      "text/html": [
       "<pre style=\"white-space:pre;overflow-x:auto;line-height:normal;font-family:Menlo,'DejaVu Sans Mono',consolas,'Courier New',monospace\"><span style=\"font-weight: bold\">{</span>\n",
       "<span style=\"color: #7fbf7f; text-decoration-color: #7fbf7f\">│   </span><span style=\"color: #008000; text-decoration-color: #008000\">'activity_name'</span>: <span style=\"color: #008000; text-decoration-color: #008000\">'Vận dụng và Luyện tập cơ bản'</span>,\n",
       "<span style=\"color: #7fbf7f; text-decoration-color: #7fbf7f\">│   </span><span style=\"color: #008000; text-decoration-color: #008000\">'activity_type'</span>: <span style=\"color: #008000; text-decoration-color: #008000\">'Thực hành nhóm và cá nhân'</span>,\n",
       "<span style=\"color: #7fbf7f; text-decoration-color: #7fbf7f\">│   </span><span style=\"color: #008000; text-decoration-color: #008000\">'duration_minutes'</span>: <span style=\"color: #008080; text-decoration-color: #008080; font-weight: bold\">30</span>,\n",
       "<span style=\"color: #7fbf7f; text-decoration-color: #7fbf7f\">│   </span><span style=\"color: #008000; text-decoration-color: #008000\">'teacher_actions'</span>: <span style=\"font-weight: bold\">[</span>\n",
       "<span style=\"color: #7fbf7f; text-decoration-color: #7fbf7f\">│   │   </span><span style=\"color: #008000; text-decoration-color: #008000\">'Phát phiếu bài tập cho học sinh (có thể bao gồm hình vẽ minh họa cho bài tập 1).'</span>,\n",
       "<span style=\"color: #7fbf7f; text-decoration-color: #7fbf7f\">│   │   </span><span style=\"color: #008000; text-decoration-color: #008000\">'Quan sát các nhóm/cá nhân làm bài, đi lại trong lớp để nắm bắt tình hình.'</span>,\n",
       "<span style=\"color: #7fbf7f; text-decoration-color: #7fbf7f\">│   │   </span><span style=\"color: #008000; text-decoration-color: #008000\">'Gợi ý, hướng dẫn trực tiếp cho các học sinh hoặc nhóm gặp khó khăn (ví dụ: nhắc lại công thức, gợi ý về tâm đường tròn).'</span>,\n",
       "<span style=\"color: #7fbf7f; text-decoration-color: #7fbf7f\">│   │   </span><span style=\"color: #008000; text-decoration-color: #008000\">'Khuyến khích học sinh khá giỏi thử sức với bài tập mở rộng nếu hoàn thành sớm phần cốt lõi.'</span>,\n",
       "<span style=\"color: #7fbf7f; text-decoration-color: #7fbf7f\">│   │   </span><span style=\"color: #008000; text-decoration-color: #008000\">'Kiểm tra nhanh kết quả của một số nhóm/cá nhân và đưa ra nhận xét chung.'</span>\n",
       "<span style=\"color: #7fbf7f; text-decoration-color: #7fbf7f\">│   </span><span style=\"font-weight: bold\">]</span>,\n",
       "<span style=\"color: #7fbf7f; text-decoration-color: #7fbf7f\">│   </span><span style=\"color: #008000; text-decoration-color: #008000\">'core_component'</span>: <span style=\"color: #008000; text-decoration-color: #008000\">'Học sinh làm việc theo nhóm (2-3 người) để giải quyết Bài tập 1, sau đó làm việc cá nhân để hoàn thành Bài tập 2. Các bài tập tập trung vào việc vận dụng trực tiếp kiến thức về đường tròn ngoại tiếp và nội tiếp.\\n\\nBài tập 1 (Nhóm): Cho tam giác ABC vuông tại A có AB = 6cm, AC = 8cm. Tính bán kính đường tròn ngoại tiếp tam giác ABC.\\n\\nBài tập 2 (Cá nhân): Cho tam giác đều ABC cạnh a. Tính bán kính đường tròn nội tiếp tam giác ABC theo a.'</span>,\n",
       "<span style=\"color: #7fbf7f; text-decoration-color: #7fbf7f\">│   </span><span style=\"color: #008000; text-decoration-color: #008000\">'extension_component'</span>: <span style=\"color: #008000; text-decoration-color: #008000\">'Học sinh làm nhanh hoặc còn thời gian sẽ thử sức với bài tập mở rộng, yêu cầu thêm một bước suy luận nhỏ:\\n\\nBài tập mở rộng: Cho hình vuông ABCD có cạnh bằng 4cm.\\na) Tính bán kính đường tròn ngoại tiếp hình vuông ABCD.\\nb) Tính bán kính đường tròn nội tiếp hình vuông ABCD.'</span>,\n",
       "<span style=\"color: #7fbf7f; text-decoration-color: #7fbf7f\">│   </span><span style=\"color: #008000; text-decoration-color: #008000\">'solution_guide'</span>: <span style=\"color: #008000; text-decoration-color: #008000\">'Gợi ý giải:\\n\\nBài tập 1 (Core): Tam giác ABC vuông tại A, tâm đường tròn ngoại tiếp là trung điểm cạnh huyền BC. Bán kính R = BC/2. Sử dụng định lý Pytago để tính BC.\\n\\nBài tập 2 (Core): Tam giác đều ABC cạnh a. Tâm đường tròn nội tiếp trùng với trọng tâm. Bán kính r = a*căn(3)/6 (hoặc gợi ý sử dụng công thức diện tích S = p*r).\\n\\nBài tập mở rộng (Extension):\\na) Đường tròn ngoại tiếp hình vuông có đường kính là đường chéo của hình vuông. Đường chéo hình vuông cạnh a là a*căn(2).\\nb) Đường tròn nội tiếp hình vuông có đường kính bằng cạnh hình vuông.'</span>,\n",
       "<span style=\"color: #7fbf7f; text-decoration-color: #7fbf7f\">│   </span><span style=\"color: #008000; text-decoration-color: #008000\">'differentiation'</span>: <span style=\"font-weight: bold\">{</span>\n",
       "<span style=\"color: #7fbf7f; text-decoration-color: #7fbf7f\">│   │   </span><span style=\"color: #008000; text-decoration-color: #008000\">'for_struggling_students'</span>: <span style=\"color: #008000; text-decoration-color: #008000\">'Cung cấp phiếu bài tập có sẵn hình vẽ hoặc các gợi ý công thức, các bước giải cơ bản. Giáo viên có thể trực tiếp hướng dẫn từng bước giải hoặc đặt câu hỏi gợi mở để học sinh tự tìm ra. Cho phép học sinh thảo luận nhiều hơn với bạn bè trong nhóm.'</span>,\n",
       "<span style=\"color: #7fbf7f; text-decoration-color: #7fbf7f\">│   │   </span><span style=\"color: #008000; text-decoration-color: #008000\">'for_advanced_students'</span>: <span style=\"color: #008000; text-decoration-color: #008000\">'Khuyến khích các em giải thích cách làm và các bước suy luận cho bài tập mở rộng. Nếu hoàn thành sớm, có thể yêu cầu các em tự đặt một bài toán tương tự hoặc tìm hiểu ứng dụng của đường tròn ngoại tiếp/nội tiếp trong thực tế (ví dụ: trong kiến trúc, thiết kế).'</span>\n",
       "<span style=\"color: #7fbf7f; text-decoration-color: #7fbf7f\">│   </span><span style=\"font-weight: bold\">}</span>,\n",
       "<span style=\"color: #7fbf7f; text-decoration-color: #7fbf7f\">│   </span><span style=\"color: #008000; text-decoration-color: #008000\">'question_or_description'</span>: <span style=\"color: #008000; text-decoration-color: #008000\">'**Phần Cốt lõi:**\\nHọc sinh làm việc theo nhóm (2-3 người) để giải quyết Bài tập 1, sau đó làm việc cá nhân để hoàn thành Bài tập 2. Các bài tập tập trung vào việc vận dụng trực tiếp kiến thức về đường tròn ngoại tiếp và nội tiếp.\\n\\nBài tập 1 (Nhóm): Cho tam giác ABC vuông tại A có AB = 6cm, AC = 8cm. Tính bán kính đường tròn ngoại tiếp tam giác ABC.\\n\\nBài tập 2 (Cá nhân): Cho tam giác đều ABC cạnh a. Tính bán kính đường tròn nội tiếp tam giác ABC theo a.\\n\\n**Phần Mở rộng (nếu còn thời gian):**\\nHọc sinh làm nhanh hoặc còn thời gian sẽ thử sức với bài tập mở rộng, yêu cầu thêm một bước suy luận nhỏ:\\n\\nBài tập mở rộng: Cho hình vuông ABCD có cạnh bằng 4cm.\\na) Tính bán kính đường tròn ngoại tiếp hình vuông ABCD.\\nb) Tính bán kính đường tròn nội tiếp hình vuông ABCD.'</span>\n",
       "<span style=\"font-weight: bold\">}</span>\n",
       "</pre>\n"
      ],
      "text/plain": [
       "\u001b[1m{\u001b[0m\n",
       "\u001b[2;32m│   \u001b[0m\u001b[32m'activity_name'\u001b[0m: \u001b[32m'Vận dụng và Luyện tập cơ bản'\u001b[0m,\n",
       "\u001b[2;32m│   \u001b[0m\u001b[32m'activity_type'\u001b[0m: \u001b[32m'Thực hành nhóm và cá nhân'\u001b[0m,\n",
       "\u001b[2;32m│   \u001b[0m\u001b[32m'duration_minutes'\u001b[0m: \u001b[1;36m30\u001b[0m,\n",
       "\u001b[2;32m│   \u001b[0m\u001b[32m'teacher_actions'\u001b[0m: \u001b[1m[\u001b[0m\n",
       "\u001b[2;32m│   │   \u001b[0m\u001b[32m'Phát phiếu bài tập cho học sinh \u001b[0m\u001b[32m(\u001b[0m\u001b[32mcó thể bao gồm hình vẽ minh họa cho bài tập 1\u001b[0m\u001b[32m)\u001b[0m\u001b[32m.'\u001b[0m,\n",
       "\u001b[2;32m│   │   \u001b[0m\u001b[32m'Quan sát các nhóm/cá nhân làm bài, đi lại trong lớp để nắm bắt tình hình.'\u001b[0m,\n",
       "\u001b[2;32m│   │   \u001b[0m\u001b[32m'Gợi ý, hướng dẫn trực tiếp cho các học sinh hoặc nhóm gặp khó khăn \u001b[0m\u001b[32m(\u001b[0m\u001b[32mví dụ: nhắc lại công thức, gợi ý về tâm đường tròn\u001b[0m\u001b[32m)\u001b[0m\u001b[32m.'\u001b[0m,\n",
       "\u001b[2;32m│   │   \u001b[0m\u001b[32m'Khuyến khích học sinh khá giỏi thử sức với bài tập mở rộng nếu hoàn thành sớm phần cốt lõi.'\u001b[0m,\n",
       "\u001b[2;32m│   │   \u001b[0m\u001b[32m'Kiểm tra nhanh kết quả của một số nhóm/cá nhân và đưa ra nhận xét chung.'\u001b[0m\n",
       "\u001b[2;32m│   \u001b[0m\u001b[1m]\u001b[0m,\n",
       "\u001b[2;32m│   \u001b[0m\u001b[32m'core_component'\u001b[0m: \u001b[32m'Học sinh làm việc theo nhóm \u001b[0m\u001b[32m(\u001b[0m\u001b[32m2-3 người\u001b[0m\u001b[32m)\u001b[0m\u001b[32m để giải quyết Bài tập 1, sau đó làm việc cá nhân để hoàn thành Bài tập 2. Các bài tập tập trung vào việc vận dụng trực tiếp kiến thức về đường tròn ngoại tiếp và nội tiếp.\\n\\nBài tập 1 \u001b[0m\u001b[32m(\u001b[0m\u001b[32mNhóm\u001b[0m\u001b[32m)\u001b[0m\u001b[32m: Cho tam giác ABC vuông tại A có AB = 6cm, AC = 8cm. Tính bán kính đường tròn ngoại tiếp tam giác ABC.\\n\\nBài tập 2 \u001b[0m\u001b[32m(\u001b[0m\u001b[32mCá nhân\u001b[0m\u001b[32m)\u001b[0m\u001b[32m: Cho tam giác đều ABC cạnh a. Tính bán kính đường tròn nội tiếp tam giác ABC theo a.'\u001b[0m,\n",
       "\u001b[2;32m│   \u001b[0m\u001b[32m'extension_component'\u001b[0m: \u001b[32m'Học sinh làm nhanh hoặc còn thời gian sẽ thử sức với bài tập mở rộng, yêu cầu thêm một bước suy luận nhỏ:\\n\\nBài tập mở rộng: Cho hình vuông ABCD có cạnh bằng 4cm.\\na\u001b[0m\u001b[32m)\u001b[0m\u001b[32m Tính bán kính đường tròn ngoại tiếp hình vuông ABCD.\\nb\u001b[0m\u001b[32m)\u001b[0m\u001b[32m Tính bán kính đường tròn nội tiếp hình vuông ABCD.'\u001b[0m,\n",
       "\u001b[2;32m│   \u001b[0m\u001b[32m'solution_guide'\u001b[0m: \u001b[32m'Gợi ý giải:\\n\\nBài tập 1 \u001b[0m\u001b[32m(\u001b[0m\u001b[32mCore\u001b[0m\u001b[32m)\u001b[0m\u001b[32m: Tam giác ABC vuông tại A, tâm đường tròn ngoại tiếp là trung điểm cạnh huyền BC. Bán kính R = BC/2. Sử dụng định lý Pytago để tính BC.\\n\\nBài tập 2 \u001b[0m\u001b[32m(\u001b[0m\u001b[32mCore\u001b[0m\u001b[32m)\u001b[0m\u001b[32m: Tam giác đều ABC cạnh a. Tâm đường tròn nội tiếp trùng với trọng tâm. Bán kính r = a*căn\u001b[0m\u001b[32m(\u001b[0m\u001b[32m3\u001b[0m\u001b[32m)\u001b[0m\u001b[32m/6 \u001b[0m\u001b[32m(\u001b[0m\u001b[32mhoặc gợi ý sử dụng công thức diện tích S = p*r\u001b[0m\u001b[32m)\u001b[0m\u001b[32m.\\n\\nBài tập mở rộng \u001b[0m\u001b[32m(\u001b[0m\u001b[32mExtension\u001b[0m\u001b[32m)\u001b[0m\u001b[32m:\\na\u001b[0m\u001b[32m)\u001b[0m\u001b[32m Đường tròn ngoại tiếp hình vuông có đường kính là đường chéo của hình vuông. Đường chéo hình vuông cạnh a là a*căn\u001b[0m\u001b[32m(\u001b[0m\u001b[32m2\u001b[0m\u001b[32m)\u001b[0m\u001b[32m.\\nb\u001b[0m\u001b[32m)\u001b[0m\u001b[32m Đường tròn nội tiếp hình vuông có đường kính bằng cạnh hình vuông.'\u001b[0m,\n",
       "\u001b[2;32m│   \u001b[0m\u001b[32m'differentiation'\u001b[0m: \u001b[1m{\u001b[0m\n",
       "\u001b[2;32m│   │   \u001b[0m\u001b[32m'for_struggling_students'\u001b[0m: \u001b[32m'Cung cấp phiếu bài tập có sẵn hình vẽ hoặc các gợi ý công thức, các bước giải cơ bản. Giáo viên có thể trực tiếp hướng dẫn từng bước giải hoặc đặt câu hỏi gợi mở để học sinh tự tìm ra. Cho phép học sinh thảo luận nhiều hơn với bạn bè trong nhóm.'\u001b[0m,\n",
       "\u001b[2;32m│   │   \u001b[0m\u001b[32m'for_advanced_students'\u001b[0m: \u001b[32m'Khuyến khích các em giải thích cách làm và các bước suy luận cho bài tập mở rộng. Nếu hoàn thành sớm, có thể yêu cầu các em tự đặt một bài toán tương tự hoặc tìm hiểu ứng dụng của đường tròn ngoại tiếp/nội tiếp trong thực tế \u001b[0m\u001b[32m(\u001b[0m\u001b[32mví dụ: trong kiến trúc, thiết kế\u001b[0m\u001b[32m)\u001b[0m\u001b[32m.'\u001b[0m\n",
       "\u001b[2;32m│   \u001b[0m\u001b[1m}\u001b[0m,\n",
       "\u001b[2;32m│   \u001b[0m\u001b[32m'question_or_description'\u001b[0m: \u001b[32m'**Phần Cốt lõi:**\\nHọc sinh làm việc theo nhóm \u001b[0m\u001b[32m(\u001b[0m\u001b[32m2-3 người\u001b[0m\u001b[32m)\u001b[0m\u001b[32m để giải quyết Bài tập 1, sau đó làm việc cá nhân để hoàn thành Bài tập 2. Các bài tập tập trung vào việc vận dụng trực tiếp kiến thức về đường tròn ngoại tiếp và nội tiếp.\\n\\nBài tập 1 \u001b[0m\u001b[32m(\u001b[0m\u001b[32mNhóm\u001b[0m\u001b[32m)\u001b[0m\u001b[32m: Cho tam giác ABC vuông tại A có AB = 6cm, AC = 8cm. Tính bán kính đường tròn ngoại tiếp tam giác ABC.\\n\\nBài tập 2 \u001b[0m\u001b[32m(\u001b[0m\u001b[32mCá nhân\u001b[0m\u001b[32m)\u001b[0m\u001b[32m: Cho tam giác đều ABC cạnh a. Tính bán kính đường tròn nội tiếp tam giác ABC theo a.\\n\\n**Phần Mở rộng \u001b[0m\u001b[32m(\u001b[0m\u001b[32mnếu còn thời gian\u001b[0m\u001b[32m)\u001b[0m\u001b[32m:**\\nHọc sinh làm nhanh hoặc còn thời gian sẽ thử sức với bài tập mở rộng, yêu cầu thêm một bước suy luận nhỏ:\\n\\nBài tập mở rộng: Cho hình vuông ABCD có cạnh bằng 4cm.\\na\u001b[0m\u001b[32m)\u001b[0m\u001b[32m Tính bán kính đường tròn ngoại tiếp hình vuông ABCD.\\nb\u001b[0m\u001b[32m)\u001b[0m\u001b[32m Tính bán kính đường tròn nội tiếp hình vuông ABCD.'\u001b[0m\n",
       "\u001b[1m}\u001b[0m\n"
      ]
     },
     "metadata": {},
     "output_type": "display_data"
    },
    {
     "data": {
      "text/html": [
       "<pre style=\"white-space:pre;overflow-x:auto;line-height:normal;font-family:Menlo,'DejaVu Sans Mono',consolas,'Courier New',monospace\">\n",
       "<span style=\"color: #808000; text-decoration-color: #808000; font-weight: bold\">------- Hoàn thành bước: activity_designer -------</span>\n",
       "</pre>\n"
      ],
      "text/plain": [
       "\n",
       "\u001b[1;33m------- Hoàn thành bước: activity_designer -------\u001b[0m\n"
      ]
     },
     "metadata": {},
     "output_type": "display_data"
    },
    {
     "data": {
      "text/html": [
       "<pre style=\"white-space:pre;overflow-x:auto;line-height:normal;font-family:Menlo,'DejaVu Sans Mono',consolas,'Courier New',monospace\">\n",
       "<span style=\"color: #008080; text-decoration-color: #008080; font-weight: bold\">&gt;</span> `Agent: Time-Budget Advisor` <span style=\"font-weight: bold\">(</span>v9.<span style=\"color: #008080; text-decoration-color: #008080; font-weight: bold\">7</span><span style=\"font-weight: bold\">)</span> đang phản biện nội dung và ngân sách thời gian<span style=\"color: #808000; text-decoration-color: #808000\">...</span>\n",
       "</pre>\n"
      ],
      "text/plain": [
       "\n",
       "\u001b[1;36m>\u001b[0m `Agent: Time-Budget Advisor` \u001b[1m(\u001b[0mv9.\u001b[1;36m7\u001b[0m\u001b[1m)\u001b[0m đang phản biện nội dung và ngân sách thời gian\u001b[33m...\u001b[0m\n"
      ]
     },
     "metadata": {},
     "output_type": "display_data"
    },
    {
     "data": {
      "text/html": [
       "<pre style=\"white-space:pre;overflow-x:auto;line-height:normal;font-family:Menlo,'DejaVu Sans Mono',consolas,'Courier New',monospace\">\n",
       "<span style=\"color: #008080; text-decoration-color: #008080; font-weight: bold\">&gt;</span> ✔️ CỐ VẤN: Nội dung và ngân sách thời gian hợp lệ!\n",
       "</pre>\n"
      ],
      "text/plain": [
       "\n",
       "\u001b[1;36m>\u001b[0m ✔️ CỐ VẤN: Nội dung và ngân sách thời gian hợp lệ!\n"
      ]
     },
     "metadata": {},
     "output_type": "display_data"
    },
    {
     "data": {
      "text/html": [
       "<pre style=\"white-space:pre;overflow-x:auto;line-height:normal;font-family:Menlo,'DejaVu Sans Mono',consolas,'Courier New',monospace\">\n",
       "<span style=\"color: #008080; text-decoration-color: #008080; font-weight: bold\">&gt;</span> ROUTER <span style=\"font-weight: bold\">(</span>Validation<span style=\"font-weight: bold\">)</span>: Nội dung được chấp thuận. Chuyển sang bước ghi nhận.\n",
       "</pre>\n"
      ],
      "text/plain": [
       "\n",
       "\u001b[1;36m>\u001b[0m ROUTER \u001b[1m(\u001b[0mValidation\u001b[1m)\u001b[0m: Nội dung được chấp thuận. Chuyển sang bước ghi nhận.\n"
      ]
     },
     "metadata": {},
     "output_type": "display_data"
    },
    {
     "data": {
      "text/html": [
       "<pre style=\"white-space:pre;overflow-x:auto;line-height:normal;font-family:Menlo,'DejaVu Sans Mono',consolas,'Courier New',monospace\">\n",
       "<span style=\"color: #808000; text-decoration-color: #808000; font-weight: bold\">------- Hoàn thành bước: content_validator -------</span>\n",
       "</pre>\n"
      ],
      "text/plain": [
       "\n",
       "\u001b[1;33m------- Hoàn thành bước: content_validator -------\u001b[0m\n"
      ]
     },
     "metadata": {},
     "output_type": "display_data"
    },
    {
     "data": {
      "text/html": [
       "<pre style=\"white-space:pre;overflow-x:auto;line-height:normal;font-family:Menlo,'DejaVu Sans Mono',consolas,'Courier New',monospace\">\n",
       "<span style=\"color: #008080; text-decoration-color: #008080; font-weight: bold\">&gt;</span> `Commiter`: Đang ghi nhận nội dung đã được xác thực<span style=\"color: #808000; text-decoration-color: #808000\">...</span>\n",
       "</pre>\n"
      ],
      "text/plain": [
       "\n",
       "\u001b[1;36m>\u001b[0m `Commiter`: Đang ghi nhận nội dung đã được xác thực\u001b[33m...\u001b[0m\n"
      ]
     },
     "metadata": {},
     "output_type": "display_data"
    },
    {
     "data": {
      "text/html": [
       "<pre style=\"white-space:pre;overflow-x:auto;line-height:normal;font-family:Menlo,'DejaVu Sans Mono',consolas,'Courier New',monospace\">\n",
       "<span style=\"color: #808000; text-decoration-color: #808000; font-weight: bold\">------- Hoàn thành bước: commit_validated_content -------</span>\n",
       "</pre>\n"
      ],
      "text/plain": [
       "\n",
       "\u001b[1;33m------- Hoàn thành bước: commit_validated_content -------\u001b[0m\n"
      ]
     },
     "metadata": {},
     "output_type": "display_data"
    },
    {
     "data": {
      "text/html": [
       "<pre style=\"white-space:pre;overflow-x:auto;line-height:normal;font-family:Menlo,'DejaVu Sans Mono',consolas,'Courier New',monospace\">\n",
       "<span style=\"color: #808000; text-decoration-color: #808000; font-weight: bold\">------- Hoàn thành bước: mark_task_complete -------</span>\n",
       "</pre>\n"
      ],
      "text/plain": [
       "\n",
       "\u001b[1;33m------- Hoàn thành bước: mark_task_complete -------\u001b[0m\n"
      ]
     },
     "metadata": {},
     "output_type": "display_data"
    },
    {
     "data": {
      "text/html": [
       "<pre style=\"white-space:pre;overflow-x:auto;line-height:normal;font-family:Menlo,'DejaVu Sans Mono',consolas,'Courier New',monospace\">\n",
       "<span style=\"color: #008080; text-decoration-color: #008080; font-weight: bold\">&gt;</span> <span style=\"color: #808000; text-decoration-color: #808000\">...</span>Đang nghỉ <span style=\"color: #008080; text-decoration-color: #008080; font-weight: bold\">2</span> giây để tránh vượt rate limit<span style=\"color: #808000; text-decoration-color: #808000\">...</span>\n",
       "</pre>\n"
      ],
      "text/plain": [
       "\n",
       "\u001b[1;36m>\u001b[0m \u001b[33m...\u001b[0mĐang nghỉ \u001b[1;36m2\u001b[0m giây để tránh vượt rate limit\u001b[33m...\u001b[0m\n"
      ]
     },
     "metadata": {},
     "output_type": "display_data"
    },
    {
     "data": {
      "text/html": [
       "<pre style=\"white-space:pre;overflow-x:auto;line-height:normal;font-family:Menlo,'DejaVu Sans Mono',consolas,'Courier New',monospace\">\n",
       "<span style=\"color: #808000; text-decoration-color: #808000; font-weight: bold\">------- Hoàn thành bước: delay_node -------</span>\n",
       "</pre>\n"
      ],
      "text/plain": [
       "\n",
       "\u001b[1;33m------- Hoàn thành bước: delay_node -------\u001b[0m\n"
      ]
     },
     "metadata": {},
     "output_type": "display_data"
    },
    {
     "data": {
      "text/html": [
       "<pre style=\"white-space:pre;overflow-x:auto;line-height:normal;font-family:Menlo,'DejaVu Sans Mono',consolas,'Courier New',monospace\">\n",
       "<span style=\"color: #008080; text-decoration-color: #008080; font-weight: bold\">&gt;</span> `Router`: Đang kiểm tra nhiệm vụ<span style=\"color: #808000; text-decoration-color: #808000\">...</span>\n",
       "</pre>\n"
      ],
      "text/plain": [
       "\n",
       "\u001b[1;36m>\u001b[0m `Router`: Đang kiểm tra nhiệm vụ\u001b[33m...\u001b[0m\n"
      ]
     },
     "metadata": {},
     "output_type": "display_data"
    },
    {
     "data": {
      "text/html": [
       "<pre style=\"white-space:pre;overflow-x:auto;line-height:normal;font-family:Menlo,'DejaVu Sans Mono',consolas,'Courier New',monospace\">\n",
       "<span style=\"color: #008080; text-decoration-color: #008080; font-weight: bold\">&gt;</span> Nhiệm vụ tiếp theo: <span style=\"color: #008000; text-decoration-color: #008000\">'Tổng kết, Củng cố và Mở rộng'</span> <span style=\"font-weight: bold\">(</span>ID: <span style=\"color: #008080; text-decoration-color: #008080; font-weight: bold\">3</span><span style=\"font-weight: bold\">)</span>\n",
       "</pre>\n"
      ],
      "text/plain": [
       "\n",
       "\u001b[1;36m>\u001b[0m Nhiệm vụ tiếp theo: \u001b[32m'Tổng kết, Củng cố và Mở rộng'\u001b[0m \u001b[1m(\u001b[0mID: \u001b[1;36m3\u001b[0m\u001b[1m)\u001b[0m\n"
      ]
     },
     "metadata": {},
     "output_type": "display_data"
    },
    {
     "data": {
      "text/html": [
       "<pre style=\"white-space:pre;overflow-x:auto;line-height:normal;font-family:Menlo,'DejaVu Sans Mono',consolas,'Courier New',monospace\">\n",
       "<span style=\"color: #808000; text-decoration-color: #808000; font-weight: bold\">------- Hoàn thành bước: task_router -------</span>\n",
       "</pre>\n"
      ],
      "text/plain": [
       "\n",
       "\u001b[1;33m------- Hoàn thành bước: task_router -------\u001b[0m\n"
      ]
     },
     "metadata": {},
     "output_type": "display_data"
    },
    {
     "data": {
      "text/html": [
       "<pre style=\"white-space:pre;overflow-x:auto;line-height:normal;font-family:Menlo,'DejaVu Sans Mono',consolas,'Courier New',monospace\">\n",
       "<span style=\"color: #008080; text-decoration-color: #008080; font-weight: bold\">&gt;</span> `Agent: Task Dispatcher` <span style=\"font-weight: bold\">(</span>v7.<span style=\"color: #008080; text-decoration-color: #008080; font-weight: bold\">1</span><span style=\"font-weight: bold\">)</span> Bắt đầu<span style=\"color: #808000; text-decoration-color: #808000\">...</span>\n",
       "</pre>\n"
      ],
      "text/plain": [
       "\n",
       "\u001b[1;36m>\u001b[0m `Agent: Task Dispatcher` \u001b[1m(\u001b[0mv7.\u001b[1;36m1\u001b[0m\u001b[1m)\u001b[0m Bắt đầu\u001b[33m...\u001b[0m\n"
      ]
     },
     "metadata": {},
     "output_type": "display_data"
    },
    {
     "data": {
      "text/html": [
       "<pre style=\"white-space:pre;overflow-x:auto;line-height:normal;font-family:Menlo,'DejaVu Sans Mono',consolas,'Courier New',monospace\">\n",
       "<span style=\"color: #008080; text-decoration-color: #008080; font-weight: bold\">&gt;</span> --- 🚚 `Dispatcher`: Giao nhiệm vụ cho `theory_synthesizer`.\n",
       "</pre>\n"
      ],
      "text/plain": [
       "\n",
       "\u001b[1;36m>\u001b[0m --- 🚚 `Dispatcher`: Giao nhiệm vụ cho `theory_synthesizer`.\n"
      ]
     },
     "metadata": {},
     "output_type": "display_data"
    },
    {
     "data": {
      "text/html": [
       "<pre style=\"white-space:pre;overflow-x:auto;line-height:normal;font-family:Menlo,'DejaVu Sans Mono',consolas,'Courier New',monospace\">\n",
       "<span style=\"color: #808000; text-decoration-color: #808000; font-weight: bold\">------- Hoàn thành bước: task_dispatcher -------</span>\n",
       "</pre>\n"
      ],
      "text/plain": [
       "\n",
       "\u001b[1;33m------- Hoàn thành bước: task_dispatcher -------\u001b[0m\n"
      ]
     },
     "metadata": {},
     "output_type": "display_data"
    },
    {
     "data": {
      "text/html": [
       "<pre style=\"white-space:pre;overflow-x:auto;line-height:normal;font-family:Menlo,'DejaVu Sans Mono',consolas,'Courier New',monospace\">\n",
       "<span style=\"color: #008080; text-decoration-color: #008080; font-weight: bold\">&gt;</span> `Agent: Theory Synthesizer` <span style=\"font-weight: bold\">(</span>v9.<span style=\"color: #008080; text-decoration-color: #008080; font-weight: bold\">7</span><span style=\"font-weight: bold\">)</span> đang tạo nội dung linh hoạt <span style=\"font-weight: bold\">(</span>Lõi + Mở rộng<span style=\"font-weight: bold\">)</span><span style=\"color: #808000; text-decoration-color: #808000\">...</span>\n",
       "</pre>\n"
      ],
      "text/plain": [
       "\n",
       "\u001b[1;36m>\u001b[0m `Agent: Theory Synthesizer` \u001b[1m(\u001b[0mv9.\u001b[1;36m7\u001b[0m\u001b[1m)\u001b[0m đang tạo nội dung linh hoạt \u001b[1m(\u001b[0mLõi + Mở rộng\u001b[1m)\u001b[0m\u001b[33m...\u001b[0m\n"
      ]
     },
     "metadata": {},
     "output_type": "display_data"
    },
    {
     "data": {
      "text/html": [
       "<pre style=\"white-space:pre;overflow-x:auto;line-height:normal;font-family:Menlo,'DejaVu Sans Mono',consolas,'Courier New',monospace\"><span style=\"color: #008000; text-decoration-color: #008000; font-weight: bold\">✔️ Nội dung do Theory Synthesizer tạo ra (Linh hoạt):</span>\n",
       "</pre>\n"
      ],
      "text/plain": [
       "\u001b[1;32m✔️ Nội dung do Theory Synthesizer tạo ra \u001b[0m\u001b[1;32m(\u001b[0m\u001b[1;32mLinh hoạt\u001b[0m\u001b[1;32m)\u001b[0m\u001b[1;32m:\u001b[0m\n"
      ]
     },
     "metadata": {},
     "output_type": "display_data"
    },
    {
     "data": {
      "text/html": [
       "<pre style=\"white-space:pre;overflow-x:auto;line-height:normal;font-family:Menlo,'DejaVu Sans Mono',consolas,'Courier New',monospace\"><span style=\"font-weight: bold\">{</span>\n",
       "<span style=\"color: #7fbf7f; text-decoration-color: #7fbf7f\">│   </span><span style=\"color: #008000; text-decoration-color: #008000\">'activity_name'</span>: <span style=\"color: #008000; text-decoration-color: #008000\">'Tổng kết, Củng cố và Mở rộng Kiến thức Đường tròn Ngoại tiếp và Nội tiếp'</span>,\n",
       "<span style=\"color: #7fbf7f; text-decoration-color: #7fbf7f\">│   </span><span style=\"color: #008000; text-decoration-color: #008000\">'activity_type'</span>: <span style=\"color: #008000; text-decoration-color: #008000\">'Tổng kết và Củng cố kiến thức'</span>,\n",
       "<span style=\"color: #7fbf7f; text-decoration-color: #7fbf7f\">│   </span><span style=\"color: #008000; text-decoration-color: #008000\">'duration_minutes'</span>: <span style=\"color: #008080; text-decoration-color: #008080; font-weight: bold\">15</span>,\n",
       "<span style=\"color: #7fbf7f; text-decoration-color: #7fbf7f\">│   </span><span style=\"color: #008000; text-decoration-color: #008000\">'teacher_actions'</span>: <span style=\"font-weight: bold\">[</span>\n",
       "<span style=\"color: #7fbf7f; text-decoration-color: #7fbf7f\">│   │   </span><span style=\"color: #008000; text-decoration-color: #008000\">'Mời 1-2 nhóm đại diện trình bày lời giải/kết quả của bài tập đã giao về đường tròn ngoại tiếp/nội tiếp.'</span>,\n",
       "<span style=\"color: #7fbf7f; text-decoration-color: #7fbf7f\">│   │   </span><span style=\"color: #008000; text-decoration-color: #008000\">'Lắng nghe, nhận xét và chuẩn hóa kiến thức trình bày của học sinh.'</span>,\n",
       "<span style=\"color: #7fbf7f; text-decoration-color: #7fbf7f\">│   │   </span><span style=\"color: #008000; text-decoration-color: #008000\">'Sử dụng sơ đồ tư duy hoặc bảng so sánh (đã chuẩn bị sẵn hoặc cùng học sinh xây dựng nhanh) để tổng hợp các định nghĩa, tính chất, cách xác định tâm và bán kính của đường tròn ngoại tiếp và nội tiếp.'</span>,\n",
       "<span style=\"color: #7fbf7f; text-decoration-color: #7fbf7f\">│   │   </span><span style=\"color: #008000; text-decoration-color: #008000\">'Giải đáp các thắc mắc, câu hỏi của học sinh về các kiến thức cơ bản.'</span>,\n",
       "<span style=\"color: #7fbf7f; text-decoration-color: #7fbf7f\">│   │   </span><span style=\"color: #008000; text-decoration-color: #008000\">'Giao bài tập mở rộng hoặc câu hỏi nâng cao cho học sinh hoàn thành nếu còn thời gian.'</span>\n",
       "<span style=\"color: #7fbf7f; text-decoration-color: #7fbf7f\">│   </span><span style=\"font-weight: bold\">]</span>,\n",
       "<span style=\"color: #7fbf7f; text-decoration-color: #7fbf7f\">│   </span><span style=\"color: #008000; text-decoration-color: #008000\">'core_component'</span>: <span style=\"color: #008000; text-decoration-color: #008000\">'Trong 10-12 phút đầu, giáo viên mời đại diện 1-2 nhóm (đã được chuẩn bị trước hoặc chọn ngẫu nhiên) lên bảng trình bày cách giải một bài tập tiêu biểu về xác định tâm và bán kính của đường tròn ngoại tiếp hoặc nội tiếp của một tam giác cụ thể (ví dụ: tam giác vuông, tam giác đều). Sau đó, giáo viên tổng hợp và chuẩn hóa kiến thức bằng cách sử dụng sơ đồ tư duy hoặc bảng so sánh lớn trên bảng/máy chiếu, tập trung vào: 1. Định nghĩa đường tròn ngoại tiếp/nội tiếp. 2. Tâm của đường tròn ngoại tiếp/nội tiếp (giao điểm của đường gì?). 3. Bán kính của đường tròn ngoại tiếp/nội tiếp. 4. Cách xác định tâm và bán kính trong các trường hợp tam giác đặc biệt (vuông, cân, đều). Giáo viên dành thời gian giải đáp các câu hỏi cơ bản của học sinh để đảm bảo tất cả nắm vững kiến thức cốt lõi.'</span>,\n",
       "<span style=\"color: #7fbf7f; text-decoration-color: #7fbf7f\">│   </span><span style=\"color: #008000; text-decoration-color: #008000\">'extension_component'</span>: <span style=\"color: #008000; text-decoration-color: #008000\">\"Nếu còn 3-5 phút cuối, giáo viên có thể đưa ra một trong các hoạt động sau: 1. Bài tập nâng cao: 'Cho tam giác ABC có AB=3cm, AC=4cm, BC=5cm. Tính bán kính đường tròn ngoại tiếp và nội tiếp của tam giác ABC.' 2. Câu hỏi mở rộng: 'Ngoài các tính chất đã học, em có biết thêm tính chất đặc biệt nào của đường tròn ngoại tiếp/nội tiếp không?' hoặc 'Trong thực tế, đường tròn ngoại tiếp/nội tiếp được ứng dụng ở đâu?' 3. Thử thách tư duy: 'Có phải mọi tứ giác đều có đường tròn ngoại tiếp và nội tiếp không? Giải thích.'\"</span>,\n",
       "<span style=\"color: #7fbf7f; text-decoration-color: #7fbf7f\">│   </span><span style=\"color: #008000; text-decoration-color: #008000\">'solution_guide'</span>: <span style=\"color: #008000; text-decoration-color: #008000\">'Các điểm cần nhấn mạnh khi tổng kết: Đường tròn ngoại tiếp: Tâm là giao điểm 3 đường trung trực; bán kính R = a/(2sinA) = abc/(4S). Với tam giác vuông, tâm là trung điểm cạnh huyền, R = cạnh huyền/2. Đường tròn nội tiếp: Tâm là giao điểm 3 đường phân giác; bán kính r = S/p (S là diện tích, p là nửa chu vi). Bài tập mở rộng (tam giác 3,4,5): Đây là tam giác vuông tại A. Bán kính đường tròn ngoại tiếp R = BC/2 = 5/2 = 2.5 cm. Diện tích S = (1/2) * AB * AC = (1/2) * 3 * 4 = 6 cm². Nửa chu vi p = (3+4+5)/2 = 6 cm. Bán kính đường tròn nội tiếp r = S/p = 6/6 = 1 cm.'</span>,\n",
       "<span style=\"color: #7fbf7f; text-decoration-color: #7fbf7f\">│   </span><span style=\"color: #008000; text-decoration-color: #008000\">'differentiation'</span>: <span style=\"font-weight: bold\">{</span>\n",
       "<span style=\"color: #7fbf7f; text-decoration-color: #7fbf7f\">│   │   </span><span style=\"color: #008000; text-decoration-color: #008000\">'for_struggling_students'</span>: <span style=\"color: #008000; text-decoration-color: #008000\">'Giáo viên tập trung vào việc củng cố các định nghĩa và cách xác định tâm/bán kính cơ bản thông qua sơ đồ tư duy/bảng so sánh. Có thể cung cấp phiếu học tập điền khuyết cho sơ đồ hoặc bảng so sánh để các em dễ theo dõi và ghi nhớ. Khuyến khích các em đặt câu hỏi về những phần chưa rõ và dành thời gian giải thích thêm.'</span>,\n",
       "<span style=\"color: #7fbf7f; text-decoration-color: #7fbf7f\">│   │   </span><span style=\"color: #008000; text-decoration-color: #008000\">'for_advanced_students'</span>: <span style=\"color: #008000; text-decoration-color: #008000\">'Khuyến khích các em tham gia giải bài tập mở rộng (nếu có) hoặc suy nghĩ về các câu hỏi nâng cao. Các em có thể được yêu cầu giải thích sâu hơn về mối liên hệ giữa các tính chất hoặc tìm kiếm các ứng dụng thực tế. Nếu có học sinh gặp khó khăn, các em có thể hỗ trợ giải thích cho bạn dưới sự hướng dẫn của giáo viên.'</span>\n",
       "<span style=\"color: #7fbf7f; text-decoration-color: #7fbf7f\">│   </span><span style=\"font-weight: bold\">}</span>,\n",
       "<span style=\"color: #7fbf7f; text-decoration-color: #7fbf7f\">│   </span><span style=\"color: #008000; text-decoration-color: #008000\">'question_or_description'</span>: <span style=\"color: #008000; text-decoration-color: #008000\">\"**Phần Cốt lõi:**\\nTrong 10-12 phút đầu, giáo viên mời đại diện 1-2 nhóm (đã được chuẩn bị trước hoặc chọn ngẫu nhiên) lên bảng trình bày cách giải một bài tập tiêu biểu về xác định tâm và bán kính của đường tròn ngoại tiếp hoặc nội tiếp của một tam giác cụ thể (ví dụ: tam giác vuông, tam giác đều). Sau đó, giáo viên tổng hợp và chuẩn hóa kiến thức bằng cách sử dụng sơ đồ tư duy hoặc bảng so sánh lớn trên bảng/máy chiếu, tập trung vào: 1. Định nghĩa đường tròn ngoại tiếp/nội tiếp. 2. Tâm của đường tròn ngoại tiếp/nội tiếp (giao điểm của đường gì?). 3. Bán kính của đường tròn ngoại tiếp/nội tiếp. 4. Cách xác định tâm và bán kính trong các trường hợp tam giác đặc biệt (vuông, cân, đều). Giáo viên dành thời gian giải đáp các câu hỏi cơ bản của học sinh để đảm bảo tất cả nắm vững kiến thức cốt lõi.\\n\\n**Phần Mở rộng (nếu còn thời gian):**\\nNếu còn 3-5 phút cuối, giáo viên có thể đưa ra một trong các hoạt động sau: 1. Bài tập nâng cao: 'Cho tam giác ABC có AB=3cm, AC=4cm, BC=5cm. Tính bán kính đường tròn ngoại tiếp và nội tiếp của tam giác ABC.' 2. Câu hỏi mở rộng: 'Ngoài các tính chất đã học, em có biết thêm tính chất đặc biệt nào của đường tròn ngoại tiếp/nội tiếp không?' hoặc 'Trong thực tế, đường tròn ngoại tiếp/nội tiếp được ứng dụng ở đâu?' 3. Thử thách tư duy: 'Có phải mọi tứ giác đều có đường tròn ngoại tiếp và nội tiếp không? Giải thích.'\"</span>\n",
       "<span style=\"font-weight: bold\">}</span>\n",
       "</pre>\n"
      ],
      "text/plain": [
       "\u001b[1m{\u001b[0m\n",
       "\u001b[2;32m│   \u001b[0m\u001b[32m'activity_name'\u001b[0m: \u001b[32m'Tổng kết, Củng cố và Mở rộng Kiến thức Đường tròn Ngoại tiếp và Nội tiếp'\u001b[0m,\n",
       "\u001b[2;32m│   \u001b[0m\u001b[32m'activity_type'\u001b[0m: \u001b[32m'Tổng kết và Củng cố kiến thức'\u001b[0m,\n",
       "\u001b[2;32m│   \u001b[0m\u001b[32m'duration_minutes'\u001b[0m: \u001b[1;36m15\u001b[0m,\n",
       "\u001b[2;32m│   \u001b[0m\u001b[32m'teacher_actions'\u001b[0m: \u001b[1m[\u001b[0m\n",
       "\u001b[2;32m│   │   \u001b[0m\u001b[32m'Mời 1-2 nhóm đại diện trình bày lời giải/kết quả của bài tập đã giao về đường tròn ngoại tiếp/nội tiếp.'\u001b[0m,\n",
       "\u001b[2;32m│   │   \u001b[0m\u001b[32m'Lắng nghe, nhận xét và chuẩn hóa kiến thức trình bày của học sinh.'\u001b[0m,\n",
       "\u001b[2;32m│   │   \u001b[0m\u001b[32m'Sử dụng sơ đồ tư duy hoặc bảng so sánh \u001b[0m\u001b[32m(\u001b[0m\u001b[32mđã chuẩn bị sẵn hoặc cùng học sinh xây dựng nhanh\u001b[0m\u001b[32m)\u001b[0m\u001b[32m để tổng hợp các định nghĩa, tính chất, cách xác định tâm và bán kính của đường tròn ngoại tiếp và nội tiếp.'\u001b[0m,\n",
       "\u001b[2;32m│   │   \u001b[0m\u001b[32m'Giải đáp các thắc mắc, câu hỏi của học sinh về các kiến thức cơ bản.'\u001b[0m,\n",
       "\u001b[2;32m│   │   \u001b[0m\u001b[32m'Giao bài tập mở rộng hoặc câu hỏi nâng cao cho học sinh hoàn thành nếu còn thời gian.'\u001b[0m\n",
       "\u001b[2;32m│   \u001b[0m\u001b[1m]\u001b[0m,\n",
       "\u001b[2;32m│   \u001b[0m\u001b[32m'core_component'\u001b[0m: \u001b[32m'Trong 10-12 phút đầu, giáo viên mời đại diện 1-2 nhóm \u001b[0m\u001b[32m(\u001b[0m\u001b[32mđã được chuẩn bị trước hoặc chọn ngẫu nhiên\u001b[0m\u001b[32m)\u001b[0m\u001b[32m lên bảng trình bày cách giải một bài tập tiêu biểu về xác định tâm và bán kính của đường tròn ngoại tiếp hoặc nội tiếp của một tam giác cụ thể \u001b[0m\u001b[32m(\u001b[0m\u001b[32mví dụ: tam giác vuông, tam giác đều\u001b[0m\u001b[32m)\u001b[0m\u001b[32m. Sau đó, giáo viên tổng hợp và chuẩn hóa kiến thức bằng cách sử dụng sơ đồ tư duy hoặc bảng so sánh lớn trên bảng/máy chiếu, tập trung vào: 1. Định nghĩa đường tròn ngoại tiếp/nội tiếp. 2. Tâm của đường tròn ngoại tiếp/nội tiếp \u001b[0m\u001b[32m(\u001b[0m\u001b[32mgiao điểm của đường gì?\u001b[0m\u001b[32m)\u001b[0m\u001b[32m. 3. Bán kính của đường tròn ngoại tiếp/nội tiếp. 4. Cách xác định tâm và bán kính trong các trường hợp tam giác đặc biệt \u001b[0m\u001b[32m(\u001b[0m\u001b[32mvuông, cân, đều\u001b[0m\u001b[32m)\u001b[0m\u001b[32m. Giáo viên dành thời gian giải đáp các câu hỏi cơ bản của học sinh để đảm bảo tất cả nắm vững kiến thức cốt lõi.'\u001b[0m,\n",
       "\u001b[2;32m│   \u001b[0m\u001b[32m'extension_component'\u001b[0m: \u001b[32m\"Nếu còn 3-5 phút cuối, giáo viên có thể đưa ra một trong các hoạt động sau: 1. Bài tập nâng cao: 'Cho tam giác ABC có \u001b[0m\u001b[32mAB\u001b[0m\u001b[32m=\u001b[0m\u001b[32m3cm\u001b[0m\u001b[32m, \u001b[0m\u001b[32mAC\u001b[0m\u001b[32m=\u001b[0m\u001b[32m4cm\u001b[0m\u001b[32m, \u001b[0m\u001b[32mBC\u001b[0m\u001b[32m=\u001b[0m\u001b[32m5cm\u001b[0m\u001b[32m. Tính bán kính đường tròn ngoại tiếp và nội tiếp của tam giác ABC.' 2. Câu hỏi mở rộng: 'Ngoài các tính chất đã học, em có biết thêm tính chất đặc biệt nào của đường tròn ngoại tiếp/nội tiếp không?' hoặc 'Trong thực tế, đường tròn ngoại tiếp/nội tiếp được ứng dụng ở đâu?' 3. Thử thách tư duy: 'Có phải mọi tứ giác đều có đường tròn ngoại tiếp và nội tiếp không? Giải thích.'\"\u001b[0m,\n",
       "\u001b[2;32m│   \u001b[0m\u001b[32m'solution_guide'\u001b[0m: \u001b[32m'Các điểm cần nhấn mạnh khi tổng kết: Đường tròn ngoại tiếp: Tâm là giao điểm 3 đường trung trực; bán kính R = a/\u001b[0m\u001b[32m(\u001b[0m\u001b[32m2sinA\u001b[0m\u001b[32m)\u001b[0m\u001b[32m = abc/\u001b[0m\u001b[32m(\u001b[0m\u001b[32m4S\u001b[0m\u001b[32m)\u001b[0m\u001b[32m. Với tam giác vuông, tâm là trung điểm cạnh huyền, R = cạnh huyền/2. Đường tròn nội tiếp: Tâm là giao điểm 3 đường phân giác; bán kính r = S/p \u001b[0m\u001b[32m(\u001b[0m\u001b[32mS là diện tích, p là nửa chu vi\u001b[0m\u001b[32m)\u001b[0m\u001b[32m. Bài tập mở rộng \u001b[0m\u001b[32m(\u001b[0m\u001b[32mtam giác 3,4,5\u001b[0m\u001b[32m)\u001b[0m\u001b[32m: Đây là tam giác vuông tại A. Bán kính đường tròn ngoại tiếp R = BC/2 = 5/2 = 2.5 cm. Diện tích S = \u001b[0m\u001b[32m(\u001b[0m\u001b[32m1/2\u001b[0m\u001b[32m)\u001b[0m\u001b[32m * AB * AC = \u001b[0m\u001b[32m(\u001b[0m\u001b[32m1/2\u001b[0m\u001b[32m)\u001b[0m\u001b[32m * 3 * 4 = 6 cm². Nửa chu vi p = \u001b[0m\u001b[32m(\u001b[0m\u001b[32m3+4+5\u001b[0m\u001b[32m)\u001b[0m\u001b[32m/2 = 6 cm. Bán kính đường tròn nội tiếp r = S/p = 6/6 = 1 cm.'\u001b[0m,\n",
       "\u001b[2;32m│   \u001b[0m\u001b[32m'differentiation'\u001b[0m: \u001b[1m{\u001b[0m\n",
       "\u001b[2;32m│   │   \u001b[0m\u001b[32m'for_struggling_students'\u001b[0m: \u001b[32m'Giáo viên tập trung vào việc củng cố các định nghĩa và cách xác định tâm/bán kính cơ bản thông qua sơ đồ tư duy/bảng so sánh. Có thể cung cấp phiếu học tập điền khuyết cho sơ đồ hoặc bảng so sánh để các em dễ theo dõi và ghi nhớ. Khuyến khích các em đặt câu hỏi về những phần chưa rõ và dành thời gian giải thích thêm.'\u001b[0m,\n",
       "\u001b[2;32m│   │   \u001b[0m\u001b[32m'for_advanced_students'\u001b[0m: \u001b[32m'Khuyến khích các em tham gia giải bài tập mở rộng \u001b[0m\u001b[32m(\u001b[0m\u001b[32mnếu có\u001b[0m\u001b[32m)\u001b[0m\u001b[32m hoặc suy nghĩ về các câu hỏi nâng cao. Các em có thể được yêu cầu giải thích sâu hơn về mối liên hệ giữa các tính chất hoặc tìm kiếm các ứng dụng thực tế. Nếu có học sinh gặp khó khăn, các em có thể hỗ trợ giải thích cho bạn dưới sự hướng dẫn của giáo viên.'\u001b[0m\n",
       "\u001b[2;32m│   \u001b[0m\u001b[1m}\u001b[0m,\n",
       "\u001b[2;32m│   \u001b[0m\u001b[32m'question_or_description'\u001b[0m: \u001b[32m\"**Phần Cốt lõi:**\\nTrong 10-12 phút đầu, giáo viên mời đại diện 1-2 nhóm \u001b[0m\u001b[32m(\u001b[0m\u001b[32mđã được chuẩn bị trước hoặc chọn ngẫu nhiên\u001b[0m\u001b[32m)\u001b[0m\u001b[32m lên bảng trình bày cách giải một bài tập tiêu biểu về xác định tâm và bán kính của đường tròn ngoại tiếp hoặc nội tiếp của một tam giác cụ thể \u001b[0m\u001b[32m(\u001b[0m\u001b[32mví dụ: tam giác vuông, tam giác đều\u001b[0m\u001b[32m)\u001b[0m\u001b[32m. Sau đó, giáo viên tổng hợp và chuẩn hóa kiến thức bằng cách sử dụng sơ đồ tư duy hoặc bảng so sánh lớn trên bảng/máy chiếu, tập trung vào: 1. Định nghĩa đường tròn ngoại tiếp/nội tiếp. 2. Tâm của đường tròn ngoại tiếp/nội tiếp \u001b[0m\u001b[32m(\u001b[0m\u001b[32mgiao điểm của đường gì?\u001b[0m\u001b[32m)\u001b[0m\u001b[32m. 3. Bán kính của đường tròn ngoại tiếp/nội tiếp. 4. Cách xác định tâm và bán kính trong các trường hợp tam giác đặc biệt \u001b[0m\u001b[32m(\u001b[0m\u001b[32mvuông, cân, đều\u001b[0m\u001b[32m)\u001b[0m\u001b[32m. Giáo viên dành thời gian giải đáp các câu hỏi cơ bản của học sinh để đảm bảo tất cả nắm vững kiến thức cốt lõi.\\n\\n**Phần Mở rộng \u001b[0m\u001b[32m(\u001b[0m\u001b[32mnếu còn thời gian\u001b[0m\u001b[32m)\u001b[0m\u001b[32m:**\\nNếu còn 3-5 phút cuối, giáo viên có thể đưa ra một trong các hoạt động sau: 1. Bài tập nâng cao: 'Cho tam giác ABC có \u001b[0m\u001b[32mAB\u001b[0m\u001b[32m=\u001b[0m\u001b[32m3cm\u001b[0m\u001b[32m, \u001b[0m\u001b[32mAC\u001b[0m\u001b[32m=\u001b[0m\u001b[32m4cm\u001b[0m\u001b[32m, \u001b[0m\u001b[32mBC\u001b[0m\u001b[32m=\u001b[0m\u001b[32m5cm\u001b[0m\u001b[32m. Tính bán kính đường tròn ngoại tiếp và nội tiếp của tam giác ABC.' 2. Câu hỏi mở rộng: 'Ngoài các tính chất đã học, em có biết thêm tính chất đặc biệt nào của đường tròn ngoại tiếp/nội tiếp không?' hoặc 'Trong thực tế, đường tròn ngoại tiếp/nội tiếp được ứng dụng ở đâu?' 3. Thử thách tư duy: 'Có phải mọi tứ giác đều có đường tròn ngoại tiếp và nội tiếp không? Giải thích.'\"\u001b[0m\n",
       "\u001b[1m}\u001b[0m\n"
      ]
     },
     "metadata": {},
     "output_type": "display_data"
    },
    {
     "data": {
      "text/html": [
       "<pre style=\"white-space:pre;overflow-x:auto;line-height:normal;font-family:Menlo,'DejaVu Sans Mono',consolas,'Courier New',monospace\">\n",
       "<span style=\"color: #808000; text-decoration-color: #808000; font-weight: bold\">------- Hoàn thành bước: theory_synthesizer -------</span>\n",
       "</pre>\n"
      ],
      "text/plain": [
       "\n",
       "\u001b[1;33m------- Hoàn thành bước: theory_synthesizer -------\u001b[0m\n"
      ]
     },
     "metadata": {},
     "output_type": "display_data"
    },
    {
     "data": {
      "text/html": [
       "<pre style=\"white-space:pre;overflow-x:auto;line-height:normal;font-family:Menlo,'DejaVu Sans Mono',consolas,'Courier New',monospace\">\n",
       "<span style=\"color: #008080; text-decoration-color: #008080; font-weight: bold\">&gt;</span> `Agent: Time-Budget Advisor` <span style=\"font-weight: bold\">(</span>v9.<span style=\"color: #008080; text-decoration-color: #008080; font-weight: bold\">7</span><span style=\"font-weight: bold\">)</span> đang phản biện nội dung và ngân sách thời gian<span style=\"color: #808000; text-decoration-color: #808000\">...</span>\n",
       "</pre>\n"
      ],
      "text/plain": [
       "\n",
       "\u001b[1;36m>\u001b[0m `Agent: Time-Budget Advisor` \u001b[1m(\u001b[0mv9.\u001b[1;36m7\u001b[0m\u001b[1m)\u001b[0m đang phản biện nội dung và ngân sách thời gian\u001b[33m...\u001b[0m\n"
      ]
     },
     "metadata": {},
     "output_type": "display_data"
    },
    {
     "data": {
      "text/html": [
       "<pre style=\"white-space:pre;overflow-x:auto;line-height:normal;font-family:Menlo,'DejaVu Sans Mono',consolas,'Courier New',monospace\"><span style=\"color: #808000; text-decoration-color: #808000; font-weight: bold\">⚠️  CỐ VẤN PHẢN BIỆN: [STRUCTURAL_FEEDBACK] Lỗi phân bổ ngân sách! Thời gian đề xuất (</span><span style=\"color: #808000; text-decoration-color: #808000; font-weight: bold\">15</span><span style=\"color: #808000; text-decoration-color: #808000; font-weight: bold\"> phút) quá lớn so với thời </span>\n",
       "<span style=\"color: #808000; text-decoration-color: #808000; font-weight: bold\">gian còn lại (</span><span style=\"color: #808000; text-decoration-color: #808000; font-weight: bold\">20</span><span style=\"color: #808000; text-decoration-color: #808000; font-weight: bold\"> phút) cho TẤT CẢ các hoạt động sau. Hoạt động này chiếm </span><span style=\"color: #808000; text-decoration-color: #808000; font-weight: bold\">75</span><span style=\"color: #808000; text-decoration-color: #808000; font-weight: bold\">% tổng thời gian còn lại, có thể không </span>\n",
       "<span style=\"color: #808000; text-decoration-color: #808000; font-weight: bold\">đủ thời gian cho các hoạt động kết thúc buổi học khác (ví dụ: giao bài tập về nhà, dặn dò, chuẩn bị cho buổi học </span>\n",
       "<span style=\"color: #808000; text-decoration-color: #808000; font-weight: bold\">tiếp theo). Cần thiết kế lại hoạt động này trong khoảng </span><span style=\"color: #808000; text-decoration-color: #808000; font-weight: bold\">10</span><span style=\"color: #808000; text-decoration-color: #808000; font-weight: bold\">-</span><span style=\"color: #808000; text-decoration-color: #808000; font-weight: bold\">12</span><span style=\"color: #808000; text-decoration-color: #808000; font-weight: bold\"> phút để đảm bảo tiến độ chung của buổi học. | </span>\n",
       "<span style=\"color: #808000; text-decoration-color: #808000; font-weight: bold\">SUGGESTED_DURATION: </span><span style=\"color: #808000; text-decoration-color: #808000; font-weight: bold\">12</span>\n",
       "</pre>\n"
      ],
      "text/plain": [
       "\u001b[1;33m⚠️  CỐ VẤN PHẢN BIỆN: \u001b[0m\u001b[1;33m[\u001b[0m\u001b[1;33mSTRUCTURAL_FEEDBACK\u001b[0m\u001b[1;33m]\u001b[0m\u001b[1;33m Lỗi phân bổ ngân sách! Thời gian đề xuất \u001b[0m\u001b[1;33m(\u001b[0m\u001b[1;33m15\u001b[0m\u001b[1;33m phút\u001b[0m\u001b[1;33m)\u001b[0m\u001b[1;33m quá lớn so với thời \u001b[0m\n",
       "\u001b[1;33mgian còn lại \u001b[0m\u001b[1;33m(\u001b[0m\u001b[1;33m20\u001b[0m\u001b[1;33m phút\u001b[0m\u001b[1;33m)\u001b[0m\u001b[1;33m cho TẤT CẢ các hoạt động sau. Hoạt động này chiếm \u001b[0m\u001b[1;33m75\u001b[0m\u001b[1;33m% tổng thời gian còn lại, có thể không \u001b[0m\n",
       "\u001b[1;33mđủ thời gian cho các hoạt động kết thúc buổi học khác \u001b[0m\u001b[1;33m(\u001b[0m\u001b[1;33mví dụ: giao bài tập về nhà, dặn dò, chuẩn bị cho buổi học \u001b[0m\n",
       "\u001b[1;33mtiếp theo\u001b[0m\u001b[1;33m)\u001b[0m\u001b[1;33m. Cần thiết kế lại hoạt động này trong khoảng \u001b[0m\u001b[1;33m10\u001b[0m\u001b[1;33m-\u001b[0m\u001b[1;33m12\u001b[0m\u001b[1;33m phút để đảm bảo tiến độ chung của buổi học. | \u001b[0m\n",
       "\u001b[1;33mSUGGESTED_DURATION: \u001b[0m\u001b[1;33m12\u001b[0m\n"
      ]
     },
     "metadata": {},
     "output_type": "display_data"
    },
    {
     "data": {
      "text/html": [
       "<pre style=\"white-space:pre;overflow-x:auto;line-height:normal;font-family:Menlo,'DejaVu Sans Mono',consolas,'Courier New',monospace\">\n",
       "<span style=\"color: #008080; text-decoration-color: #008080; font-weight: bold\">&gt;</span> ROUTER <span style=\"font-weight: bold\">(</span>Validation<span style=\"font-weight: bold\">)</span>: Lỗi cấu trúc, yêu cầu LẬP KẾ HOẠCH LẠI.\n",
       "</pre>\n"
      ],
      "text/plain": [
       "\n",
       "\u001b[1;36m>\u001b[0m ROUTER \u001b[1m(\u001b[0mValidation\u001b[1m)\u001b[0m: Lỗi cấu trúc, yêu cầu LẬP KẾ HOẠCH LẠI.\n"
      ]
     },
     "metadata": {},
     "output_type": "display_data"
    },
    {
     "data": {
      "text/html": [
       "<pre style=\"white-space:pre;overflow-x:auto;line-height:normal;font-family:Menlo,'DejaVu Sans Mono',consolas,'Courier New',monospace\">\n",
       "<span style=\"color: #808000; text-decoration-color: #808000; font-weight: bold\">------- Hoàn thành bước: content_validator -------</span>\n",
       "</pre>\n"
      ],
      "text/plain": [
       "\n",
       "\u001b[1;33m------- Hoàn thành bước: content_validator -------\u001b[0m\n"
      ]
     },
     "metadata": {},
     "output_type": "display_data"
    },
    {
     "data": {
      "text/html": [
       "<pre style=\"white-space:pre;overflow-x:auto;line-height:normal;font-family:Menlo,'DejaVu Sans Mono',consolas,'Courier New',monospace\">\n",
       "<span style=\"color: #008080; text-decoration-color: #008080; font-weight: bold\">&gt;</span> `Node: Task Time Surgeon`  surgically updating task duration<span style=\"color: #808000; text-decoration-color: #808000\">...</span>\n",
       "</pre>\n"
      ],
      "text/plain": [
       "\n",
       "\u001b[1;36m>\u001b[0m `Node: Task Time Surgeon`  surgically updating task duration\u001b[33m...\u001b[0m\n"
      ]
     },
     "metadata": {},
     "output_type": "display_data"
    },
    {
     "data": {
      "text/html": [
       "<pre style=\"white-space:pre;overflow-x:auto;line-height:normal;font-family:Menlo,'DejaVu Sans Mono',consolas,'Courier New',monospace\">\n",
       "<span style=\"color: #008080; text-decoration-color: #008080; font-weight: bold\">&gt;</span> Đã trích xuất thời gian đề xuất: <span style=\"color: #008080; text-decoration-color: #008080; font-weight: bold\">12</span> phút.\n",
       "</pre>\n"
      ],
      "text/plain": [
       "\n",
       "\u001b[1;36m>\u001b[0m Đã trích xuất thời gian đề xuất: \u001b[1;36m12\u001b[0m phút.\n"
      ]
     },
     "metadata": {},
     "output_type": "display_data"
    },
    {
     "data": {
      "text/html": [
       "<pre style=\"white-space:pre;overflow-x:auto;line-height:normal;font-family:Menlo,'DejaVu Sans Mono',consolas,'Courier New',monospace\"><span style=\"color: #008000; text-decoration-color: #008000; font-weight: bold\">✔️ Đã cập nhật thời lượng nhiệm vụ:</span>\n",
       "</pre>\n"
      ],
      "text/plain": [
       "\u001b[1;32m✔️ Đã cập nhật thời lượng nhiệm vụ:\u001b[0m\n"
      ]
     },
     "metadata": {},
     "output_type": "display_data"
    },
    {
     "data": {
      "text/html": [
       "<pre style=\"white-space:pre;overflow-x:auto;line-height:normal;font-family:Menlo,'DejaVu Sans Mono',consolas,'Courier New',monospace\"><span style=\"font-weight: bold\">{</span>\n",
       "<span style=\"color: #7fbf7f; text-decoration-color: #7fbf7f\">│   </span><span style=\"color: #008000; text-decoration-color: #008000\">'task_id'</span>: <span style=\"color: #008080; text-decoration-color: #008080; font-weight: bold\">3</span>,\n",
       "<span style=\"color: #7fbf7f; text-decoration-color: #7fbf7f\">│   </span><span style=\"color: #008000; text-decoration-color: #008000\">'from'</span>: <span style=\"color: #008080; text-decoration-color: #008080; font-weight: bold\">15</span>,\n",
       "<span style=\"color: #7fbf7f; text-decoration-color: #7fbf7f\">│   </span><span style=\"color: #008000; text-decoration-color: #008000\">'to'</span>: <span style=\"color: #008080; text-decoration-color: #008080; font-weight: bold\">12</span>\n",
       "<span style=\"font-weight: bold\">}</span>\n",
       "</pre>\n"
      ],
      "text/plain": [
       "\u001b[1m{\u001b[0m\n",
       "\u001b[2;32m│   \u001b[0m\u001b[32m'task_id'\u001b[0m: \u001b[1;36m3\u001b[0m,\n",
       "\u001b[2;32m│   \u001b[0m\u001b[32m'from'\u001b[0m: \u001b[1;36m15\u001b[0m,\n",
       "\u001b[2;32m│   \u001b[0m\u001b[32m'to'\u001b[0m: \u001b[1;36m12\u001b[0m\n",
       "\u001b[1m}\u001b[0m\n"
      ]
     },
     "metadata": {},
     "output_type": "display_data"
    },
    {
     "data": {
      "text/html": [
       "<pre style=\"white-space:pre;overflow-x:auto;line-height:normal;font-family:Menlo,'DejaVu Sans Mono',consolas,'Courier New',monospace\">\n",
       "<span style=\"color: #808000; text-decoration-color: #808000; font-weight: bold\">------- Hoàn thành bước: update_task_duration -------</span>\n",
       "</pre>\n"
      ],
      "text/plain": [
       "\n",
       "\u001b[1;33m------- Hoàn thành bước: update_task_duration -------\u001b[0m\n"
      ]
     },
     "metadata": {},
     "output_type": "display_data"
    },
    {
     "data": {
      "text/html": [
       "<pre style=\"white-space:pre;overflow-x:auto;line-height:normal;font-family:Menlo,'DejaVu Sans Mono',consolas,'Courier New',monospace\">\n",
       "<span style=\"color: #008080; text-decoration-color: #008080; font-weight: bold\">&gt;</span> `Agent: Task Dispatcher` <span style=\"font-weight: bold\">(</span>v7.<span style=\"color: #008080; text-decoration-color: #008080; font-weight: bold\">1</span><span style=\"font-weight: bold\">)</span> Bắt đầu<span style=\"color: #808000; text-decoration-color: #808000\">...</span>\n",
       "</pre>\n"
      ],
      "text/plain": [
       "\n",
       "\u001b[1;36m>\u001b[0m `Agent: Task Dispatcher` \u001b[1m(\u001b[0mv7.\u001b[1;36m1\u001b[0m\u001b[1m)\u001b[0m Bắt đầu\u001b[33m...\u001b[0m\n"
      ]
     },
     "metadata": {},
     "output_type": "display_data"
    },
    {
     "data": {
      "text/html": [
       "<pre style=\"white-space:pre;overflow-x:auto;line-height:normal;font-family:Menlo,'DejaVu Sans Mono',consolas,'Courier New',monospace\">\n",
       "<span style=\"color: #008080; text-decoration-color: #008080; font-weight: bold\">&gt;</span> --- 🚚 `Dispatcher`: Giao nhiệm vụ cho `theory_synthesizer`.\n",
       "</pre>\n"
      ],
      "text/plain": [
       "\n",
       "\u001b[1;36m>\u001b[0m --- 🚚 `Dispatcher`: Giao nhiệm vụ cho `theory_synthesizer`.\n"
      ]
     },
     "metadata": {},
     "output_type": "display_data"
    },
    {
     "data": {
      "text/html": [
       "<pre style=\"white-space:pre;overflow-x:auto;line-height:normal;font-family:Menlo,'DejaVu Sans Mono',consolas,'Courier New',monospace\">\n",
       "<span style=\"color: #808000; text-decoration-color: #808000; font-weight: bold\">------- Hoàn thành bước: task_dispatcher -------</span>\n",
       "</pre>\n"
      ],
      "text/plain": [
       "\n",
       "\u001b[1;33m------- Hoàn thành bước: task_dispatcher -------\u001b[0m\n"
      ]
     },
     "metadata": {},
     "output_type": "display_data"
    },
    {
     "data": {
      "text/html": [
       "<pre style=\"white-space:pre;overflow-x:auto;line-height:normal;font-family:Menlo,'DejaVu Sans Mono',consolas,'Courier New',monospace\">\n",
       "<span style=\"color: #008080; text-decoration-color: #008080; font-weight: bold\">&gt;</span> `Agent: Theory Synthesizer` <span style=\"font-weight: bold\">(</span>v9.<span style=\"color: #008080; text-decoration-color: #008080; font-weight: bold\">7</span><span style=\"font-weight: bold\">)</span> đang tạo nội dung linh hoạt <span style=\"font-weight: bold\">(</span>Lõi + Mở rộng<span style=\"font-weight: bold\">)</span><span style=\"color: #808000; text-decoration-color: #808000\">...</span>\n",
       "</pre>\n"
      ],
      "text/plain": [
       "\n",
       "\u001b[1;36m>\u001b[0m `Agent: Theory Synthesizer` \u001b[1m(\u001b[0mv9.\u001b[1;36m7\u001b[0m\u001b[1m)\u001b[0m đang tạo nội dung linh hoạt \u001b[1m(\u001b[0mLõi + Mở rộng\u001b[1m)\u001b[0m\u001b[33m...\u001b[0m\n"
      ]
     },
     "metadata": {},
     "output_type": "display_data"
    },
    {
     "data": {
      "text/html": [
       "<pre style=\"white-space:pre;overflow-x:auto;line-height:normal;font-family:Menlo,'DejaVu Sans Mono',consolas,'Courier New',monospace\"><span style=\"color: #008000; text-decoration-color: #008000; font-weight: bold\">✔️ Nội dung do Theory Synthesizer tạo ra (Linh hoạt):</span>\n",
       "</pre>\n"
      ],
      "text/plain": [
       "\u001b[1;32m✔️ Nội dung do Theory Synthesizer tạo ra \u001b[0m\u001b[1;32m(\u001b[0m\u001b[1;32mLinh hoạt\u001b[0m\u001b[1;32m)\u001b[0m\u001b[1;32m:\u001b[0m\n"
      ]
     },
     "metadata": {},
     "output_type": "display_data"
    },
    {
     "data": {
      "text/html": [
       "<pre style=\"white-space:pre;overflow-x:auto;line-height:normal;font-family:Menlo,'DejaVu Sans Mono',consolas,'Courier New',monospace\"><span style=\"font-weight: bold\">{</span>\n",
       "<span style=\"color: #7fbf7f; text-decoration-color: #7fbf7f\">│   </span><span style=\"color: #008000; text-decoration-color: #008000\">'activity_name'</span>: <span style=\"color: #008000; text-decoration-color: #008000\">'Tổng kết, Củng cố và Mở rộng'</span>,\n",
       "<span style=\"color: #7fbf7f; text-decoration-color: #7fbf7f\">│   </span><span style=\"color: #008000; text-decoration-color: #008000\">'activity_type'</span>: <span style=\"color: #008000; text-decoration-color: #008000\">'Tổng kết và Củng cố kiến thức'</span>,\n",
       "<span style=\"color: #7fbf7f; text-decoration-color: #7fbf7f\">│   </span><span style=\"color: #008000; text-decoration-color: #008000\">'duration_minutes'</span>: <span style=\"color: #008080; text-decoration-color: #008080; font-weight: bold\">12</span>,\n",
       "<span style=\"color: #7fbf7f; text-decoration-color: #7fbf7f\">│   </span><span style=\"color: #008000; text-decoration-color: #008000\">'teacher_actions'</span>: <span style=\"font-weight: bold\">[</span>\n",
       "<span style=\"color: #7fbf7f; text-decoration-color: #7fbf7f\">│   │   </span><span style=\"color: #008000; text-decoration-color: #008000\">'Mời 1-2 nhóm đại diện trình bày bài tập đã chuẩn bị.'</span>,\n",
       "<span style=\"color: #7fbf7f; text-decoration-color: #7fbf7f\">│   │   </span><span style=\"color: #008000; text-decoration-color: #008000\">'Lắng nghe, nhận xét và chuẩn hóa phần trình bày của học sinh.'</span>,\n",
       "<span style=\"color: #7fbf7f; text-decoration-color: #7fbf7f\">│   │   </span><span style=\"color: #008000; text-decoration-color: #008000\">'Sử dụng sơ đồ tư duy hoặc bảng so sánh để tổng hợp và hệ thống hóa kiến thức về đường tròn ngoại tiếp và nội tiếp (định nghĩa, tính chất, cách xác định tâm, bán kính).'</span>,\n",
       "<span style=\"color: #7fbf7f; text-decoration-color: #7fbf7f\">│   │   </span><span style=\"color: #008000; text-decoration-color: #008000\">'Giải đáp các thắc mắc của học sinh về kiến thức cơ bản.'</span>,\n",
       "<span style=\"color: #7fbf7f; text-decoration-color: #7fbf7f\">│   │   </span><span style=\"color: #008000; text-decoration-color: #008000\">'Quan sát mức độ hiểu bài của học sinh để điều chỉnh tốc độ và nội dung.'</span>\n",
       "<span style=\"color: #7fbf7f; text-decoration-color: #7fbf7f\">│   </span><span style=\"font-weight: bold\">]</span>,\n",
       "<span style=\"color: #7fbf7f; text-decoration-color: #7fbf7f\">│   </span><span style=\"color: #008000; text-decoration-color: #008000\">'core_component'</span>: <span style=\"color: #008000; text-decoration-color: #008000\">'Đại diện 1-2 nhóm trình bày kết quả/cách giải của một bài tập tiêu biểu về đường tròn ngoại tiếp/nội tiếp. Giáo viên tổng hợp, chuẩn hóa kiến thức trọng tâm về định nghĩa, tính chất, cách xác định tâm và bán kính của đường tròn ngoại tiếp và nội tiếp bằng cách sử dụng sơ đồ tư duy hoặc bảng so sánh trên bảng/máy chiếu. Giáo viên giải đáp các câu hỏi cơ bản của học sinh để đảm bảo tất cả nắm vững kiến thức cốt lõi.'</span>,\n",
       "<span style=\"color: #7fbf7f; text-decoration-color: #7fbf7f\">│   </span><span style=\"color: #008000; text-decoration-color: #008000\">'extension_component'</span>: <span style=\"color: #008000; text-decoration-color: #008000\">\"Nếu còn thời gian (khoảng 2-3 phút), giáo viên có thể đưa ra một câu hỏi mở rộng hoặc bài tập nâng cao nhanh như: 'Hãy nêu một ứng dụng thực tế của đường tròn ngoại tiếp hoặc nội tiếp trong đời sống/kỹ thuật.' hoặc 'Chứng minh rằng tâm đường tròn ngoại tiếp tam giác vuông là trung điểm cạnh huyền.'\"</span>,\n",
       "<span style=\"color: #7fbf7f; text-decoration-color: #7fbf7f\">│   </span><span style=\"color: #008000; text-decoration-color: #008000\">'solution_guide'</span>: <span style=\"color: #008000; text-decoration-color: #008000\">\"Sơ đồ tư duy/bảng so sánh cần làm nổi bật sự khác biệt và điểm chung giữa hai loại đường tròn (ví dụ: tâm là giao điểm của đường gì, bán kính là khoảng cách từ tâm đến đâu). Gợi ý các câu hỏi để học sinh tự trả lời khi tổng kết: 'Đường tròn ngoại tiếp là gì?', 'Tâm đường tròn nội tiếp được xác định như thế nào?'\"</span>,\n",
       "<span style=\"color: #7fbf7f; text-decoration-color: #7fbf7f\">│   </span><span style=\"color: #008000; text-decoration-color: #008000\">'differentiation'</span>: <span style=\"font-weight: bold\">{</span>\n",
       "<span style=\"color: #7fbf7f; text-decoration-color: #7fbf7f\">│   │   </span><span style=\"color: #008000; text-decoration-color: #008000\">'for_struggling_students'</span>: <span style=\"color: #008000; text-decoration-color: #008000\">'Trong quá trình tổng hợp, giáo viên có thể dừng lại để hỏi các câu hỏi gợi mở, yêu cầu học sinh nhắc lại các định nghĩa cơ bản, hoặc cung cấp phiếu tóm tắt kiến thức điền khuyết để các em dễ theo dõi và ghi nhớ.'</span>,\n",
       "<span style=\"color: #7fbf7f; text-decoration-color: #7fbf7f\">│   │   </span><span style=\"color: #008000; text-decoration-color: #008000\">'for_advanced_students'</span>: <span style=\"color: #008000; text-decoration-color: #008000\">'Khuyến khích các em đặt câu hỏi sâu hơn về mối liên hệ giữa các tính chất hoặc ứng dụng thực tế. Nếu có bài tập mở rộng, ưu tiên các em làm trước hoặc yêu cầu các em tự tổng hợp kiến thức theo cách riêng (sơ đồ tư duy cá nhân) và chia sẻ.'</span>\n",
       "<span style=\"color: #7fbf7f; text-decoration-color: #7fbf7f\">│   </span><span style=\"font-weight: bold\">}</span>,\n",
       "<span style=\"color: #7fbf7f; text-decoration-color: #7fbf7f\">│   </span><span style=\"color: #008000; text-decoration-color: #008000\">'question_or_description'</span>: <span style=\"color: #008000; text-decoration-color: #008000\">\"**Phần Cốt lõi:**\\nĐại diện 1-2 nhóm trình bày kết quả/cách giải của một bài tập tiêu biểu về đường tròn ngoại tiếp/nội tiếp. Giáo viên tổng hợp, chuẩn hóa kiến thức trọng tâm về định nghĩa, tính chất, cách xác định tâm và bán kính của đường tròn ngoại tiếp và nội tiếp bằng cách sử dụng sơ đồ tư duy hoặc bảng so sánh trên bảng/máy chiếu. Giáo viên giải đáp các câu hỏi cơ bản của học sinh để đảm bảo tất cả nắm vững kiến thức cốt lõi.\\n\\n**Phần Mở rộng (nếu còn thời gian):**\\nNếu còn thời gian (khoảng 2-3 phút), giáo viên có thể đưa ra một câu hỏi mở rộng hoặc bài tập nâng cao nhanh như: 'Hãy nêu một ứng dụng thực tế của đường tròn ngoại tiếp hoặc nội tiếp trong đời sống/kỹ thuật.' hoặc 'Chứng minh rằng tâm đường tròn ngoại tiếp tam giác vuông là trung điểm cạnh huyền.'\"</span>\n",
       "<span style=\"font-weight: bold\">}</span>\n",
       "</pre>\n"
      ],
      "text/plain": [
       "\u001b[1m{\u001b[0m\n",
       "\u001b[2;32m│   \u001b[0m\u001b[32m'activity_name'\u001b[0m: \u001b[32m'Tổng kết, Củng cố và Mở rộng'\u001b[0m,\n",
       "\u001b[2;32m│   \u001b[0m\u001b[32m'activity_type'\u001b[0m: \u001b[32m'Tổng kết và Củng cố kiến thức'\u001b[0m,\n",
       "\u001b[2;32m│   \u001b[0m\u001b[32m'duration_minutes'\u001b[0m: \u001b[1;36m12\u001b[0m,\n",
       "\u001b[2;32m│   \u001b[0m\u001b[32m'teacher_actions'\u001b[0m: \u001b[1m[\u001b[0m\n",
       "\u001b[2;32m│   │   \u001b[0m\u001b[32m'Mời 1-2 nhóm đại diện trình bày bài tập đã chuẩn bị.'\u001b[0m,\n",
       "\u001b[2;32m│   │   \u001b[0m\u001b[32m'Lắng nghe, nhận xét và chuẩn hóa phần trình bày của học sinh.'\u001b[0m,\n",
       "\u001b[2;32m│   │   \u001b[0m\u001b[32m'Sử dụng sơ đồ tư duy hoặc bảng so sánh để tổng hợp và hệ thống hóa kiến thức về đường tròn ngoại tiếp và nội tiếp \u001b[0m\u001b[32m(\u001b[0m\u001b[32mđịnh nghĩa, tính chất, cách xác định tâm, bán kính\u001b[0m\u001b[32m)\u001b[0m\u001b[32m.'\u001b[0m,\n",
       "\u001b[2;32m│   │   \u001b[0m\u001b[32m'Giải đáp các thắc mắc của học sinh về kiến thức cơ bản.'\u001b[0m,\n",
       "\u001b[2;32m│   │   \u001b[0m\u001b[32m'Quan sát mức độ hiểu bài của học sinh để điều chỉnh tốc độ và nội dung.'\u001b[0m\n",
       "\u001b[2;32m│   \u001b[0m\u001b[1m]\u001b[0m,\n",
       "\u001b[2;32m│   \u001b[0m\u001b[32m'core_component'\u001b[0m: \u001b[32m'Đại diện 1-2 nhóm trình bày kết quả/cách giải của một bài tập tiêu biểu về đường tròn ngoại tiếp/nội tiếp. Giáo viên tổng hợp, chuẩn hóa kiến thức trọng tâm về định nghĩa, tính chất, cách xác định tâm và bán kính của đường tròn ngoại tiếp và nội tiếp bằng cách sử dụng sơ đồ tư duy hoặc bảng so sánh trên bảng/máy chiếu. Giáo viên giải đáp các câu hỏi cơ bản của học sinh để đảm bảo tất cả nắm vững kiến thức cốt lõi.'\u001b[0m,\n",
       "\u001b[2;32m│   \u001b[0m\u001b[32m'extension_component'\u001b[0m: \u001b[32m\"Nếu còn thời gian \u001b[0m\u001b[32m(\u001b[0m\u001b[32mkhoảng 2-3 phút\u001b[0m\u001b[32m)\u001b[0m\u001b[32m, giáo viên có thể đưa ra một câu hỏi mở rộng hoặc bài tập nâng cao nhanh như: 'Hãy nêu một ứng dụng thực tế của đường tròn ngoại tiếp hoặc nội tiếp trong đời sống/kỹ thuật.' hoặc 'Chứng minh rằng tâm đường tròn ngoại tiếp tam giác vuông là trung điểm cạnh huyền.'\"\u001b[0m,\n",
       "\u001b[2;32m│   \u001b[0m\u001b[32m'solution_guide'\u001b[0m: \u001b[32m\"Sơ đồ tư duy/bảng so sánh cần làm nổi bật sự khác biệt và điểm chung giữa hai loại đường tròn \u001b[0m\u001b[32m(\u001b[0m\u001b[32mví dụ: tâm là giao điểm của đường gì, bán kính là khoảng cách từ tâm đến đâu\u001b[0m\u001b[32m)\u001b[0m\u001b[32m. Gợi ý các câu hỏi để học sinh tự trả lời khi tổng kết: 'Đường tròn ngoại tiếp là gì?', 'Tâm đường tròn nội tiếp được xác định như thế nào?'\"\u001b[0m,\n",
       "\u001b[2;32m│   \u001b[0m\u001b[32m'differentiation'\u001b[0m: \u001b[1m{\u001b[0m\n",
       "\u001b[2;32m│   │   \u001b[0m\u001b[32m'for_struggling_students'\u001b[0m: \u001b[32m'Trong quá trình tổng hợp, giáo viên có thể dừng lại để hỏi các câu hỏi gợi mở, yêu cầu học sinh nhắc lại các định nghĩa cơ bản, hoặc cung cấp phiếu tóm tắt kiến thức điền khuyết để các em dễ theo dõi và ghi nhớ.'\u001b[0m,\n",
       "\u001b[2;32m│   │   \u001b[0m\u001b[32m'for_advanced_students'\u001b[0m: \u001b[32m'Khuyến khích các em đặt câu hỏi sâu hơn về mối liên hệ giữa các tính chất hoặc ứng dụng thực tế. Nếu có bài tập mở rộng, ưu tiên các em làm trước hoặc yêu cầu các em tự tổng hợp kiến thức theo cách riêng \u001b[0m\u001b[32m(\u001b[0m\u001b[32msơ đồ tư duy cá nhân\u001b[0m\u001b[32m)\u001b[0m\u001b[32m và chia sẻ.'\u001b[0m\n",
       "\u001b[2;32m│   \u001b[0m\u001b[1m}\u001b[0m,\n",
       "\u001b[2;32m│   \u001b[0m\u001b[32m'question_or_description'\u001b[0m: \u001b[32m\"**Phần Cốt lõi:**\\nĐại diện 1-2 nhóm trình bày kết quả/cách giải của một bài tập tiêu biểu về đường tròn ngoại tiếp/nội tiếp. Giáo viên tổng hợp, chuẩn hóa kiến thức trọng tâm về định nghĩa, tính chất, cách xác định tâm và bán kính của đường tròn ngoại tiếp và nội tiếp bằng cách sử dụng sơ đồ tư duy hoặc bảng so sánh trên bảng/máy chiếu. Giáo viên giải đáp các câu hỏi cơ bản của học sinh để đảm bảo tất cả nắm vững kiến thức cốt lõi.\\n\\n**Phần Mở rộng \u001b[0m\u001b[32m(\u001b[0m\u001b[32mnếu còn thời gian\u001b[0m\u001b[32m)\u001b[0m\u001b[32m:**\\nNếu còn thời gian \u001b[0m\u001b[32m(\u001b[0m\u001b[32mkhoảng 2-3 phút\u001b[0m\u001b[32m)\u001b[0m\u001b[32m, giáo viên có thể đưa ra một câu hỏi mở rộng hoặc bài tập nâng cao nhanh như: 'Hãy nêu một ứng dụng thực tế của đường tròn ngoại tiếp hoặc nội tiếp trong đời sống/kỹ thuật.' hoặc 'Chứng minh rằng tâm đường tròn ngoại tiếp tam giác vuông là trung điểm cạnh huyền.'\"\u001b[0m\n",
       "\u001b[1m}\u001b[0m\n"
      ]
     },
     "metadata": {},
     "output_type": "display_data"
    },
    {
     "data": {
      "text/html": [
       "<pre style=\"white-space:pre;overflow-x:auto;line-height:normal;font-family:Menlo,'DejaVu Sans Mono',consolas,'Courier New',monospace\">\n",
       "<span style=\"color: #808000; text-decoration-color: #808000; font-weight: bold\">------- Hoàn thành bước: theory_synthesizer -------</span>\n",
       "</pre>\n"
      ],
      "text/plain": [
       "\n",
       "\u001b[1;33m------- Hoàn thành bước: theory_synthesizer -------\u001b[0m\n"
      ]
     },
     "metadata": {},
     "output_type": "display_data"
    },
    {
     "data": {
      "text/html": [
       "<pre style=\"white-space:pre;overflow-x:auto;line-height:normal;font-family:Menlo,'DejaVu Sans Mono',consolas,'Courier New',monospace\">\n",
       "<span style=\"color: #008080; text-decoration-color: #008080; font-weight: bold\">&gt;</span> `Agent: Time-Budget Advisor` <span style=\"font-weight: bold\">(</span>v9.<span style=\"color: #008080; text-decoration-color: #008080; font-weight: bold\">7</span><span style=\"font-weight: bold\">)</span> đang phản biện nội dung và ngân sách thời gian<span style=\"color: #808000; text-decoration-color: #808000\">...</span>\n",
       "</pre>\n"
      ],
      "text/plain": [
       "\n",
       "\u001b[1;36m>\u001b[0m `Agent: Time-Budget Advisor` \u001b[1m(\u001b[0mv9.\u001b[1;36m7\u001b[0m\u001b[1m)\u001b[0m đang phản biện nội dung và ngân sách thời gian\u001b[33m...\u001b[0m\n"
      ]
     },
     "metadata": {},
     "output_type": "display_data"
    },
    {
     "data": {
      "text/html": [
       "<pre style=\"white-space:pre;overflow-x:auto;line-height:normal;font-family:Menlo,'DejaVu Sans Mono',consolas,'Courier New',monospace\"><span style=\"color: #808000; text-decoration-color: #808000; font-weight: bold\">⚠️  CỐ VẤN PHẢN BIỆN: Nội dung hoạt động </span><span style=\"color: #808000; text-decoration-color: #808000; font-weight: bold\">\"Tổng kết, Củng cố và Mở rộng\"</span><span style=\"color: #808000; text-decoration-color: #808000; font-weight: bold\"> được thiết kế khá tốt về mặt chuyên môn và </span>\n",
       "<span style=\"color: #808000; text-decoration-color: #808000; font-weight: bold\">sư phạm, với các thành phần cốt lõi, mở rộng và phân hóa rõ ràng. Tuy nhiên, có lỗi nghiêm trọng về phân bổ ngân </span>\n",
       "<span style=\"color: #808000; text-decoration-color: #808000; font-weight: bold\">sách thời gian. [STRUCTURAL_FEEDBACK] Thời gian đề xuất (</span><span style=\"color: #808000; text-decoration-color: #808000; font-weight: bold\">12</span><span style=\"color: #808000; text-decoration-color: #808000; font-weight: bold\"> phút) quá lớn so với tổng thời gian còn lại của buổi </span>\n",
       "<span style=\"color: #808000; text-decoration-color: #808000; font-weight: bold\">học (</span><span style=\"color: #808000; text-decoration-color: #808000; font-weight: bold\">20</span><span style=\"color: #808000; text-decoration-color: #808000; font-weight: bold\"> phút). Hoạt động này chiếm </span><span style=\"color: #808000; text-decoration-color: #808000; font-weight: bold\">60</span><span style=\"color: #808000; text-decoration-color: #808000; font-weight: bold\">% tổng thời gian còn lại, có thể ảnh hưởng đến việc hoàn thành các hoạt động </span>\n",
       "<span style=\"color: #808000; text-decoration-color: #808000; font-weight: bold\">tiếp theo hoặc phần kết thúc buổi học. Để đảm bảo tiến độ và vẫn giữ được chất lượng cốt lõi, hoạt động này cần </span>\n",
       "<span style=\"color: #808000; text-decoration-color: #808000; font-weight: bold\">được thiết kế lại trong khoảng </span><span style=\"color: #808000; text-decoration-color: #808000; font-weight: bold\">10</span><span style=\"color: #808000; text-decoration-color: #808000; font-weight: bold\"> phút. | SUGGESTED_DURATION: </span><span style=\"color: #808000; text-decoration-color: #808000; font-weight: bold\">10</span>\n",
       "</pre>\n"
      ],
      "text/plain": [
       "\u001b[1;33m⚠️  CỐ VẤN PHẢN BIỆN: Nội dung hoạt động \u001b[0m\u001b[1;33m\"Tổng kết, Củng cố và Mở rộng\"\u001b[0m\u001b[1;33m được thiết kế khá tốt về mặt chuyên môn và \u001b[0m\n",
       "\u001b[1;33msư phạm, với các thành phần cốt lõi, mở rộng và phân hóa rõ ràng. Tuy nhiên, có lỗi nghiêm trọng về phân bổ ngân \u001b[0m\n",
       "\u001b[1;33msách thời gian. \u001b[0m\u001b[1;33m[\u001b[0m\u001b[1;33mSTRUCTURAL_FEEDBACK\u001b[0m\u001b[1;33m]\u001b[0m\u001b[1;33m Thời gian đề xuất \u001b[0m\u001b[1;33m(\u001b[0m\u001b[1;33m12\u001b[0m\u001b[1;33m phút\u001b[0m\u001b[1;33m)\u001b[0m\u001b[1;33m quá lớn so với tổng thời gian còn lại của buổi \u001b[0m\n",
       "\u001b[1;33mhọc \u001b[0m\u001b[1;33m(\u001b[0m\u001b[1;33m20\u001b[0m\u001b[1;33m phút\u001b[0m\u001b[1;33m)\u001b[0m\u001b[1;33m. Hoạt động này chiếm \u001b[0m\u001b[1;33m60\u001b[0m\u001b[1;33m% tổng thời gian còn lại, có thể ảnh hưởng đến việc hoàn thành các hoạt động \u001b[0m\n",
       "\u001b[1;33mtiếp theo hoặc phần kết thúc buổi học. Để đảm bảo tiến độ và vẫn giữ được chất lượng cốt lõi, hoạt động này cần \u001b[0m\n",
       "\u001b[1;33mđược thiết kế lại trong khoảng \u001b[0m\u001b[1;33m10\u001b[0m\u001b[1;33m phút. | SUGGESTED_DURATION: \u001b[0m\u001b[1;33m10\u001b[0m\n"
      ]
     },
     "metadata": {},
     "output_type": "display_data"
    },
    {
     "data": {
      "text/html": [
       "<pre style=\"white-space:pre;overflow-x:auto;line-height:normal;font-family:Menlo,'DejaVu Sans Mono',consolas,'Courier New',monospace\">\n",
       "<span style=\"color: #008080; text-decoration-color: #008080; font-weight: bold\">&gt;</span> ROUTER <span style=\"font-weight: bold\">(</span>Validation<span style=\"font-weight: bold\">)</span>: Lỗi cấu trúc, yêu cầu LẬP KẾ HOẠCH LẠI.\n",
       "</pre>\n"
      ],
      "text/plain": [
       "\n",
       "\u001b[1;36m>\u001b[0m ROUTER \u001b[1m(\u001b[0mValidation\u001b[1m)\u001b[0m: Lỗi cấu trúc, yêu cầu LẬP KẾ HOẠCH LẠI.\n"
      ]
     },
     "metadata": {},
     "output_type": "display_data"
    },
    {
     "data": {
      "text/html": [
       "<pre style=\"white-space:pre;overflow-x:auto;line-height:normal;font-family:Menlo,'DejaVu Sans Mono',consolas,'Courier New',monospace\">\n",
       "<span style=\"color: #808000; text-decoration-color: #808000; font-weight: bold\">------- Hoàn thành bước: content_validator -------</span>\n",
       "</pre>\n"
      ],
      "text/plain": [
       "\n",
       "\u001b[1;33m------- Hoàn thành bước: content_validator -------\u001b[0m\n"
      ]
     },
     "metadata": {},
     "output_type": "display_data"
    },
    {
     "data": {
      "text/html": [
       "<pre style=\"white-space:pre;overflow-x:auto;line-height:normal;font-family:Menlo,'DejaVu Sans Mono',consolas,'Courier New',monospace\">\n",
       "<span style=\"color: #008080; text-decoration-color: #008080; font-weight: bold\">&gt;</span> `Node: Task Time Surgeon`  surgically updating task duration<span style=\"color: #808000; text-decoration-color: #808000\">...</span>\n",
       "</pre>\n"
      ],
      "text/plain": [
       "\n",
       "\u001b[1;36m>\u001b[0m `Node: Task Time Surgeon`  surgically updating task duration\u001b[33m...\u001b[0m\n"
      ]
     },
     "metadata": {},
     "output_type": "display_data"
    },
    {
     "data": {
      "text/html": [
       "<pre style=\"white-space:pre;overflow-x:auto;line-height:normal;font-family:Menlo,'DejaVu Sans Mono',consolas,'Courier New',monospace\">\n",
       "<span style=\"color: #008080; text-decoration-color: #008080; font-weight: bold\">&gt;</span> Đã trích xuất thời gian đề xuất: <span style=\"color: #008080; text-decoration-color: #008080; font-weight: bold\">10</span> phút.\n",
       "</pre>\n"
      ],
      "text/plain": [
       "\n",
       "\u001b[1;36m>\u001b[0m Đã trích xuất thời gian đề xuất: \u001b[1;36m10\u001b[0m phút.\n"
      ]
     },
     "metadata": {},
     "output_type": "display_data"
    },
    {
     "data": {
      "text/html": [
       "<pre style=\"white-space:pre;overflow-x:auto;line-height:normal;font-family:Menlo,'DejaVu Sans Mono',consolas,'Courier New',monospace\"><span style=\"color: #008000; text-decoration-color: #008000; font-weight: bold\">✔️ Đã cập nhật thời lượng nhiệm vụ:</span>\n",
       "</pre>\n"
      ],
      "text/plain": [
       "\u001b[1;32m✔️ Đã cập nhật thời lượng nhiệm vụ:\u001b[0m\n"
      ]
     },
     "metadata": {},
     "output_type": "display_data"
    },
    {
     "data": {
      "text/html": [
       "<pre style=\"white-space:pre;overflow-x:auto;line-height:normal;font-family:Menlo,'DejaVu Sans Mono',consolas,'Courier New',monospace\"><span style=\"font-weight: bold\">{</span>\n",
       "<span style=\"color: #7fbf7f; text-decoration-color: #7fbf7f\">│   </span><span style=\"color: #008000; text-decoration-color: #008000\">'task_id'</span>: <span style=\"color: #008080; text-decoration-color: #008080; font-weight: bold\">3</span>,\n",
       "<span style=\"color: #7fbf7f; text-decoration-color: #7fbf7f\">│   </span><span style=\"color: #008000; text-decoration-color: #008000\">'from'</span>: <span style=\"color: #008080; text-decoration-color: #008080; font-weight: bold\">12</span>,\n",
       "<span style=\"color: #7fbf7f; text-decoration-color: #7fbf7f\">│   </span><span style=\"color: #008000; text-decoration-color: #008000\">'to'</span>: <span style=\"color: #008080; text-decoration-color: #008080; font-weight: bold\">10</span>\n",
       "<span style=\"font-weight: bold\">}</span>\n",
       "</pre>\n"
      ],
      "text/plain": [
       "\u001b[1m{\u001b[0m\n",
       "\u001b[2;32m│   \u001b[0m\u001b[32m'task_id'\u001b[0m: \u001b[1;36m3\u001b[0m,\n",
       "\u001b[2;32m│   \u001b[0m\u001b[32m'from'\u001b[0m: \u001b[1;36m12\u001b[0m,\n",
       "\u001b[2;32m│   \u001b[0m\u001b[32m'to'\u001b[0m: \u001b[1;36m10\u001b[0m\n",
       "\u001b[1m}\u001b[0m\n"
      ]
     },
     "metadata": {},
     "output_type": "display_data"
    },
    {
     "data": {
      "text/html": [
       "<pre style=\"white-space:pre;overflow-x:auto;line-height:normal;font-family:Menlo,'DejaVu Sans Mono',consolas,'Courier New',monospace\">\n",
       "<span style=\"color: #808000; text-decoration-color: #808000; font-weight: bold\">------- Hoàn thành bước: update_task_duration -------</span>\n",
       "</pre>\n"
      ],
      "text/plain": [
       "\n",
       "\u001b[1;33m------- Hoàn thành bước: update_task_duration -------\u001b[0m\n"
      ]
     },
     "metadata": {},
     "output_type": "display_data"
    },
    {
     "data": {
      "text/html": [
       "<pre style=\"white-space:pre;overflow-x:auto;line-height:normal;font-family:Menlo,'DejaVu Sans Mono',consolas,'Courier New',monospace\">\n",
       "<span style=\"color: #008080; text-decoration-color: #008080; font-weight: bold\">&gt;</span> `Agent: Task Dispatcher` <span style=\"font-weight: bold\">(</span>v7.<span style=\"color: #008080; text-decoration-color: #008080; font-weight: bold\">1</span><span style=\"font-weight: bold\">)</span> Bắt đầu<span style=\"color: #808000; text-decoration-color: #808000\">...</span>\n",
       "</pre>\n"
      ],
      "text/plain": [
       "\n",
       "\u001b[1;36m>\u001b[0m `Agent: Task Dispatcher` \u001b[1m(\u001b[0mv7.\u001b[1;36m1\u001b[0m\u001b[1m)\u001b[0m Bắt đầu\u001b[33m...\u001b[0m\n"
      ]
     },
     "metadata": {},
     "output_type": "display_data"
    },
    {
     "data": {
      "text/html": [
       "<pre style=\"white-space:pre;overflow-x:auto;line-height:normal;font-family:Menlo,'DejaVu Sans Mono',consolas,'Courier New',monospace\">\n",
       "<span style=\"color: #008080; text-decoration-color: #008080; font-weight: bold\">&gt;</span> --- 🚚 `Dispatcher`: Giao nhiệm vụ cho `theory_synthesizer`.\n",
       "</pre>\n"
      ],
      "text/plain": [
       "\n",
       "\u001b[1;36m>\u001b[0m --- 🚚 `Dispatcher`: Giao nhiệm vụ cho `theory_synthesizer`.\n"
      ]
     },
     "metadata": {},
     "output_type": "display_data"
    },
    {
     "data": {
      "text/html": [
       "<pre style=\"white-space:pre;overflow-x:auto;line-height:normal;font-family:Menlo,'DejaVu Sans Mono',consolas,'Courier New',monospace\">\n",
       "<span style=\"color: #808000; text-decoration-color: #808000; font-weight: bold\">------- Hoàn thành bước: task_dispatcher -------</span>\n",
       "</pre>\n"
      ],
      "text/plain": [
       "\n",
       "\u001b[1;33m------- Hoàn thành bước: task_dispatcher -------\u001b[0m\n"
      ]
     },
     "metadata": {},
     "output_type": "display_data"
    },
    {
     "data": {
      "text/html": [
       "<pre style=\"white-space:pre;overflow-x:auto;line-height:normal;font-family:Menlo,'DejaVu Sans Mono',consolas,'Courier New',monospace\">\n",
       "<span style=\"color: #008080; text-decoration-color: #008080; font-weight: bold\">&gt;</span> `Agent: Theory Synthesizer` <span style=\"font-weight: bold\">(</span>v9.<span style=\"color: #008080; text-decoration-color: #008080; font-weight: bold\">7</span><span style=\"font-weight: bold\">)</span> đang tạo nội dung linh hoạt <span style=\"font-weight: bold\">(</span>Lõi + Mở rộng<span style=\"font-weight: bold\">)</span><span style=\"color: #808000; text-decoration-color: #808000\">...</span>\n",
       "</pre>\n"
      ],
      "text/plain": [
       "\n",
       "\u001b[1;36m>\u001b[0m `Agent: Theory Synthesizer` \u001b[1m(\u001b[0mv9.\u001b[1;36m7\u001b[0m\u001b[1m)\u001b[0m đang tạo nội dung linh hoạt \u001b[1m(\u001b[0mLõi + Mở rộng\u001b[1m)\u001b[0m\u001b[33m...\u001b[0m\n"
      ]
     },
     "metadata": {},
     "output_type": "display_data"
    },
    {
     "data": {
      "text/html": [
       "<pre style=\"white-space:pre;overflow-x:auto;line-height:normal;font-family:Menlo,'DejaVu Sans Mono',consolas,'Courier New',monospace\"><span style=\"color: #008000; text-decoration-color: #008000; font-weight: bold\">✔️ Nội dung do Theory Synthesizer tạo ra (Linh hoạt):</span>\n",
       "</pre>\n"
      ],
      "text/plain": [
       "\u001b[1;32m✔️ Nội dung do Theory Synthesizer tạo ra \u001b[0m\u001b[1;32m(\u001b[0m\u001b[1;32mLinh hoạt\u001b[0m\u001b[1;32m)\u001b[0m\u001b[1;32m:\u001b[0m\n"
      ]
     },
     "metadata": {},
     "output_type": "display_data"
    },
    {
     "data": {
      "text/html": [
       "<pre style=\"white-space:pre;overflow-x:auto;line-height:normal;font-family:Menlo,'DejaVu Sans Mono',consolas,'Courier New',monospace\"><span style=\"font-weight: bold\">{</span>\n",
       "<span style=\"color: #7fbf7f; text-decoration-color: #7fbf7f\">│   </span><span style=\"color: #008000; text-decoration-color: #008000\">'activity_name'</span>: <span style=\"color: #008000; text-decoration-color: #008000\">'Tổng kết, Củng cố và Mở rộng'</span>,\n",
       "<span style=\"color: #7fbf7f; text-decoration-color: #7fbf7f\">│   </span><span style=\"color: #008000; text-decoration-color: #008000\">'activity_type'</span>: <span style=\"color: #008000; text-decoration-color: #008000\">'Tổng kết và Củng cố kiến thức'</span>,\n",
       "<span style=\"color: #7fbf7f; text-decoration-color: #7fbf7f\">│   </span><span style=\"color: #008000; text-decoration-color: #008000\">'duration_minutes'</span>: <span style=\"color: #008080; text-decoration-color: #008080; font-weight: bold\">10</span>,\n",
       "<span style=\"color: #7fbf7f; text-decoration-color: #7fbf7f\">│   </span><span style=\"color: #008000; text-decoration-color: #008000\">'teacher_actions'</span>: <span style=\"font-weight: bold\">[</span>\n",
       "<span style=\"color: #7fbf7f; text-decoration-color: #7fbf7f\">│   │   </span><span style=\"color: #008000; text-decoration-color: #008000\">'Mời 1-2 nhóm trình bày bài tập tiêu biểu (khoảng 3-4 phút).'</span>,\n",
       "<span style=\"color: #7fbf7f; text-decoration-color: #7fbf7f\">│   │   </span><span style=\"color: #008000; text-decoration-color: #008000\">'Tổng hợp và chuẩn hóa kiến thức về đường tròn ngoại tiếp và nội tiếp (định nghĩa, tính chất, cách xác định tâm và bán kính) bằng sơ đồ tư duy/bảng so sánh (khoảng 4-5 phút).'</span>,\n",
       "<span style=\"color: #7fbf7f; text-decoration-color: #7fbf7f\">│   │   </span><span style=\"color: #008000; text-decoration-color: #008000\">'Giải đáp các câu hỏi của học sinh (khoảng 1-2 phút).'</span>,\n",
       "<span style=\"color: #7fbf7f; text-decoration-color: #7fbf7f\">│   │   </span><span style=\"color: #008000; text-decoration-color: #008000\">'Quan sát và hỗ trợ các nhóm trong quá trình trình bày.'</span>\n",
       "<span style=\"color: #7fbf7f; text-decoration-color: #7fbf7f\">│   </span><span style=\"font-weight: bold\">]</span>,\n",
       "<span style=\"color: #7fbf7f; text-decoration-color: #7fbf7f\">│   </span><span style=\"color: #008000; text-decoration-color: #008000\">'core_component'</span>: <span style=\"color: #008000; text-decoration-color: #008000\">'Giáo viên mời 1-2 nhóm đại diện trình bày nhanh kết quả/cách giải của một bài tập tiêu biểu đã giao về đường tròn ngoại tiếp hoặc nội tiếp (ví dụ: xác định tâm, bán kính của đường tròn ngoại tiếp/nội tiếp một tam giác cụ thể). Sau đó, giáo viên tổng hợp, chuẩn hóa kiến thức về định nghĩa, tính chất, cách xác định tâm và bán kính của đường tròn ngoại tiếp và nội tiếp. Giáo viên có thể sử dụng sơ đồ tư duy hoặc bảng so sánh trên bảng/máy chiếu để học sinh dễ hình dung và hệ thống hóa kiến thức. Giáo viên giải đáp các câu hỏi cơ bản của học sinh để củng cố sự hiểu biết.'</span>,\n",
       "<span style=\"color: #7fbf7f; text-decoration-color: #7fbf7f\">│   </span><span style=\"color: #008000; text-decoration-color: #008000\">'extension_component'</span>: <span style=\"color: #008000; text-decoration-color: #008000\">\"Nếu còn thời gian (khoảng 1-2 phút cuối), giáo viên có thể đưa ra một câu hỏi mở rộng hoặc thử thách nhanh: 'Có phải mọi tứ giác đều có đường tròn ngoại tiếp không? Vì sao?' hoặc 'Hãy nêu một ứng dụng thực tế của đường tròn ngoại tiếp hoặc nội tiếp mà em biết.'\"</span>,\n",
       "<span style=\"color: #7fbf7f; text-decoration-color: #7fbf7f\">│   </span><span style=\"color: #008000; text-decoration-color: #008000\">'solution_guide'</span>: <span style=\"color: #008000; text-decoration-color: #008000\">'Hướng dẫn giải/Gợi mở: Đối với phần tổng hợp kiến thức, giáo viên cần nhấn mạnh: Đường tròn ngoại tiếp (tâm là giao điểm 3 đường trung trực, bán kính là khoảng cách từ tâm đến đỉnh); Đường tròn nội tiếp (tâm là giao điểm 3 đường phân giác, bán kính là khoảng cách từ tâm đến cạnh). Đối với câu hỏi mở rộng: Không phải mọi tứ giác đều có đường tròn ngoại tiếp (chỉ tứ giác nội tiếp). Ứng dụng thực tế: thiết kế kiến trúc, cơ khí, nghệ thuật, v.v.'</span>,\n",
       "<span style=\"color: #7fbf7f; text-decoration-color: #7fbf7f\">│   </span><span style=\"color: #008000; text-decoration-color: #008000\">'differentiation'</span>: <span style=\"font-weight: bold\">{</span>\n",
       "<span style=\"color: #7fbf7f; text-decoration-color: #7fbf7f\">│   │   </span><span style=\"color: #008000; text-decoration-color: #008000\">'for_struggling_students'</span>: <span style=\"color: #008000; text-decoration-color: #008000\">'Trong quá trình tổng hợp kiến thức, giáo viên có thể cung cấp phiếu tóm tắt kiến thức dạng điền khuyết hoặc sơ đồ tư duy có sẵn một phần để học sinh hoàn thiện. Tập trung vào việc nhận diện đúng định nghĩa và các tính chất cơ bản nhất của tâm và bán kính.'</span>,\n",
       "<span style=\"color: #7fbf7f; text-decoration-color: #7fbf7f\">│   │   </span><span style=\"color: #008000; text-decoration-color: #008000\">'for_advanced_students'</span>: <span style=\"color: #008000; text-decoration-color: #008000\">'Khuyến khích các em đặt câu hỏi sâu hơn về mối liên hệ giữa đường tròn ngoại tiếp/nội tiếp với các tính chất đặc biệt của tam giác/tứ giác (ví dụ: tam giác đều, tam giác vuông). Hoặc yêu cầu các em suy nghĩ về cách chứng minh một tính chất nào đó đã được tổng hợp.'</span>\n",
       "<span style=\"color: #7fbf7f; text-decoration-color: #7fbf7f\">│   </span><span style=\"font-weight: bold\">}</span>,\n",
       "<span style=\"color: #7fbf7f; text-decoration-color: #7fbf7f\">│   </span><span style=\"color: #008000; text-decoration-color: #008000\">'question_or_description'</span>: <span style=\"color: #008000; text-decoration-color: #008000\">\"**Phần Cốt lõi:**\\nGiáo viên mời 1-2 nhóm đại diện trình bày nhanh kết quả/cách giải của một bài tập tiêu biểu đã giao về đường tròn ngoại tiếp hoặc nội tiếp (ví dụ: xác định tâm, bán kính của đường tròn ngoại tiếp/nội tiếp một tam giác cụ thể). Sau đó, giáo viên tổng hợp, chuẩn hóa kiến thức về định nghĩa, tính chất, cách xác định tâm và bán kính của đường tròn ngoại tiếp và nội tiếp. Giáo viên có thể sử dụng sơ đồ tư duy hoặc bảng so sánh trên bảng/máy chiếu để học sinh dễ hình dung và hệ thống hóa kiến thức. Giáo viên giải đáp các câu hỏi cơ bản của học sinh để củng cố sự hiểu biết.\\n\\n**Phần Mở rộng (nếu còn thời gian):**\\nNếu còn thời gian (khoảng 1-2 phút cuối), giáo viên có thể đưa ra một câu hỏi mở rộng hoặc thử thách nhanh: 'Có phải mọi tứ giác đều có đường tròn ngoại tiếp không? Vì sao?' hoặc 'Hãy nêu một ứng dụng thực tế của đường tròn ngoại tiếp hoặc nội tiếp mà em biết.'\"</span>\n",
       "<span style=\"font-weight: bold\">}</span>\n",
       "</pre>\n"
      ],
      "text/plain": [
       "\u001b[1m{\u001b[0m\n",
       "\u001b[2;32m│   \u001b[0m\u001b[32m'activity_name'\u001b[0m: \u001b[32m'Tổng kết, Củng cố và Mở rộng'\u001b[0m,\n",
       "\u001b[2;32m│   \u001b[0m\u001b[32m'activity_type'\u001b[0m: \u001b[32m'Tổng kết và Củng cố kiến thức'\u001b[0m,\n",
       "\u001b[2;32m│   \u001b[0m\u001b[32m'duration_minutes'\u001b[0m: \u001b[1;36m10\u001b[0m,\n",
       "\u001b[2;32m│   \u001b[0m\u001b[32m'teacher_actions'\u001b[0m: \u001b[1m[\u001b[0m\n",
       "\u001b[2;32m│   │   \u001b[0m\u001b[32m'Mời 1-2 nhóm trình bày bài tập tiêu biểu \u001b[0m\u001b[32m(\u001b[0m\u001b[32mkhoảng 3-4 phút\u001b[0m\u001b[32m)\u001b[0m\u001b[32m.'\u001b[0m,\n",
       "\u001b[2;32m│   │   \u001b[0m\u001b[32m'Tổng hợp và chuẩn hóa kiến thức về đường tròn ngoại tiếp và nội tiếp \u001b[0m\u001b[32m(\u001b[0m\u001b[32mđịnh nghĩa, tính chất, cách xác định tâm và bán kính\u001b[0m\u001b[32m)\u001b[0m\u001b[32m bằng sơ đồ tư duy/bảng so sánh \u001b[0m\u001b[32m(\u001b[0m\u001b[32mkhoảng 4-5 phút\u001b[0m\u001b[32m)\u001b[0m\u001b[32m.'\u001b[0m,\n",
       "\u001b[2;32m│   │   \u001b[0m\u001b[32m'Giải đáp các câu hỏi của học sinh \u001b[0m\u001b[32m(\u001b[0m\u001b[32mkhoảng 1-2 phút\u001b[0m\u001b[32m)\u001b[0m\u001b[32m.'\u001b[0m,\n",
       "\u001b[2;32m│   │   \u001b[0m\u001b[32m'Quan sát và hỗ trợ các nhóm trong quá trình trình bày.'\u001b[0m\n",
       "\u001b[2;32m│   \u001b[0m\u001b[1m]\u001b[0m,\n",
       "\u001b[2;32m│   \u001b[0m\u001b[32m'core_component'\u001b[0m: \u001b[32m'Giáo viên mời 1-2 nhóm đại diện trình bày nhanh kết quả/cách giải của một bài tập tiêu biểu đã giao về đường tròn ngoại tiếp hoặc nội tiếp \u001b[0m\u001b[32m(\u001b[0m\u001b[32mví dụ: xác định tâm, bán kính của đường tròn ngoại tiếp/nội tiếp một tam giác cụ thể\u001b[0m\u001b[32m)\u001b[0m\u001b[32m. Sau đó, giáo viên tổng hợp, chuẩn hóa kiến thức về định nghĩa, tính chất, cách xác định tâm và bán kính của đường tròn ngoại tiếp và nội tiếp. Giáo viên có thể sử dụng sơ đồ tư duy hoặc bảng so sánh trên bảng/máy chiếu để học sinh dễ hình dung và hệ thống hóa kiến thức. Giáo viên giải đáp các câu hỏi cơ bản của học sinh để củng cố sự hiểu biết.'\u001b[0m,\n",
       "\u001b[2;32m│   \u001b[0m\u001b[32m'extension_component'\u001b[0m: \u001b[32m\"Nếu còn thời gian \u001b[0m\u001b[32m(\u001b[0m\u001b[32mkhoảng 1-2 phút cuối\u001b[0m\u001b[32m)\u001b[0m\u001b[32m, giáo viên có thể đưa ra một câu hỏi mở rộng hoặc thử thách nhanh: 'Có phải mọi tứ giác đều có đường tròn ngoại tiếp không? Vì sao?' hoặc 'Hãy nêu một ứng dụng thực tế của đường tròn ngoại tiếp hoặc nội tiếp mà em biết.'\"\u001b[0m,\n",
       "\u001b[2;32m│   \u001b[0m\u001b[32m'solution_guide'\u001b[0m: \u001b[32m'Hướng dẫn giải/Gợi mở: Đối với phần tổng hợp kiến thức, giáo viên cần nhấn mạnh: Đường tròn ngoại tiếp \u001b[0m\u001b[32m(\u001b[0m\u001b[32mtâm là giao điểm 3 đường trung trực, bán kính là khoảng cách từ tâm đến đỉnh\u001b[0m\u001b[32m)\u001b[0m\u001b[32m; Đường tròn nội tiếp \u001b[0m\u001b[32m(\u001b[0m\u001b[32mtâm là giao điểm 3 đường phân giác, bán kính là khoảng cách từ tâm đến cạnh\u001b[0m\u001b[32m)\u001b[0m\u001b[32m. Đối với câu hỏi mở rộng: Không phải mọi tứ giác đều có đường tròn ngoại tiếp \u001b[0m\u001b[32m(\u001b[0m\u001b[32mchỉ tứ giác nội tiếp\u001b[0m\u001b[32m)\u001b[0m\u001b[32m. Ứng dụng thực tế: thiết kế kiến trúc, cơ khí, nghệ thuật, v.v.'\u001b[0m,\n",
       "\u001b[2;32m│   \u001b[0m\u001b[32m'differentiation'\u001b[0m: \u001b[1m{\u001b[0m\n",
       "\u001b[2;32m│   │   \u001b[0m\u001b[32m'for_struggling_students'\u001b[0m: \u001b[32m'Trong quá trình tổng hợp kiến thức, giáo viên có thể cung cấp phiếu tóm tắt kiến thức dạng điền khuyết hoặc sơ đồ tư duy có sẵn một phần để học sinh hoàn thiện. Tập trung vào việc nhận diện đúng định nghĩa và các tính chất cơ bản nhất của tâm và bán kính.'\u001b[0m,\n",
       "\u001b[2;32m│   │   \u001b[0m\u001b[32m'for_advanced_students'\u001b[0m: \u001b[32m'Khuyến khích các em đặt câu hỏi sâu hơn về mối liên hệ giữa đường tròn ngoại tiếp/nội tiếp với các tính chất đặc biệt của tam giác/tứ giác \u001b[0m\u001b[32m(\u001b[0m\u001b[32mví dụ: tam giác đều, tam giác vuông\u001b[0m\u001b[32m)\u001b[0m\u001b[32m. Hoặc yêu cầu các em suy nghĩ về cách chứng minh một tính chất nào đó đã được tổng hợp.'\u001b[0m\n",
       "\u001b[2;32m│   \u001b[0m\u001b[1m}\u001b[0m,\n",
       "\u001b[2;32m│   \u001b[0m\u001b[32m'question_or_description'\u001b[0m: \u001b[32m\"**Phần Cốt lõi:**\\nGiáo viên mời 1-2 nhóm đại diện trình bày nhanh kết quả/cách giải của một bài tập tiêu biểu đã giao về đường tròn ngoại tiếp hoặc nội tiếp \u001b[0m\u001b[32m(\u001b[0m\u001b[32mví dụ: xác định tâm, bán kính của đường tròn ngoại tiếp/nội tiếp một tam giác cụ thể\u001b[0m\u001b[32m)\u001b[0m\u001b[32m. Sau đó, giáo viên tổng hợp, chuẩn hóa kiến thức về định nghĩa, tính chất, cách xác định tâm và bán kính của đường tròn ngoại tiếp và nội tiếp. Giáo viên có thể sử dụng sơ đồ tư duy hoặc bảng so sánh trên bảng/máy chiếu để học sinh dễ hình dung và hệ thống hóa kiến thức. Giáo viên giải đáp các câu hỏi cơ bản của học sinh để củng cố sự hiểu biết.\\n\\n**Phần Mở rộng \u001b[0m\u001b[32m(\u001b[0m\u001b[32mnếu còn thời gian\u001b[0m\u001b[32m)\u001b[0m\u001b[32m:**\\nNếu còn thời gian \u001b[0m\u001b[32m(\u001b[0m\u001b[32mkhoảng 1-2 phút cuối\u001b[0m\u001b[32m)\u001b[0m\u001b[32m, giáo viên có thể đưa ra một câu hỏi mở rộng hoặc thử thách nhanh: 'Có phải mọi tứ giác đều có đường tròn ngoại tiếp không? Vì sao?' hoặc 'Hãy nêu một ứng dụng thực tế của đường tròn ngoại tiếp hoặc nội tiếp mà em biết.'\"\u001b[0m\n",
       "\u001b[1m}\u001b[0m\n"
      ]
     },
     "metadata": {},
     "output_type": "display_data"
    },
    {
     "data": {
      "text/html": [
       "<pre style=\"white-space:pre;overflow-x:auto;line-height:normal;font-family:Menlo,'DejaVu Sans Mono',consolas,'Courier New',monospace\">\n",
       "<span style=\"color: #808000; text-decoration-color: #808000; font-weight: bold\">------- Hoàn thành bước: theory_synthesizer -------</span>\n",
       "</pre>\n"
      ],
      "text/plain": [
       "\n",
       "\u001b[1;33m------- Hoàn thành bước: theory_synthesizer -------\u001b[0m\n"
      ]
     },
     "metadata": {},
     "output_type": "display_data"
    },
    {
     "data": {
      "text/html": [
       "<pre style=\"white-space:pre;overflow-x:auto;line-height:normal;font-family:Menlo,'DejaVu Sans Mono',consolas,'Courier New',monospace\">\n",
       "<span style=\"color: #008080; text-decoration-color: #008080; font-weight: bold\">&gt;</span> `Agent: Time-Budget Advisor` <span style=\"font-weight: bold\">(</span>v9.<span style=\"color: #008080; text-decoration-color: #008080; font-weight: bold\">7</span><span style=\"font-weight: bold\">)</span> đang phản biện nội dung và ngân sách thời gian<span style=\"color: #808000; text-decoration-color: #808000\">...</span>\n",
       "</pre>\n"
      ],
      "text/plain": [
       "\n",
       "\u001b[1;36m>\u001b[0m `Agent: Time-Budget Advisor` \u001b[1m(\u001b[0mv9.\u001b[1;36m7\u001b[0m\u001b[1m)\u001b[0m đang phản biện nội dung và ngân sách thời gian\u001b[33m...\u001b[0m\n"
      ]
     },
     "metadata": {},
     "output_type": "display_data"
    },
    {
     "data": {
      "text/html": [
       "<pre style=\"white-space:pre;overflow-x:auto;line-height:normal;font-family:Menlo,'DejaVu Sans Mono',consolas,'Courier New',monospace\">\n",
       "<span style=\"color: #008080; text-decoration-color: #008080; font-weight: bold\">&gt;</span> ✔️ CỐ VẤN: Nội dung và ngân sách thời gian hợp lệ!\n",
       "</pre>\n"
      ],
      "text/plain": [
       "\n",
       "\u001b[1;36m>\u001b[0m ✔️ CỐ VẤN: Nội dung và ngân sách thời gian hợp lệ!\n"
      ]
     },
     "metadata": {},
     "output_type": "display_data"
    },
    {
     "data": {
      "text/html": [
       "<pre style=\"white-space:pre;overflow-x:auto;line-height:normal;font-family:Menlo,'DejaVu Sans Mono',consolas,'Courier New',monospace\">\n",
       "<span style=\"color: #008080; text-decoration-color: #008080; font-weight: bold\">&gt;</span> ROUTER <span style=\"font-weight: bold\">(</span>Validation<span style=\"font-weight: bold\">)</span>: Nội dung được chấp thuận. Chuyển sang bước ghi nhận.\n",
       "</pre>\n"
      ],
      "text/plain": [
       "\n",
       "\u001b[1;36m>\u001b[0m ROUTER \u001b[1m(\u001b[0mValidation\u001b[1m)\u001b[0m: Nội dung được chấp thuận. Chuyển sang bước ghi nhận.\n"
      ]
     },
     "metadata": {},
     "output_type": "display_data"
    },
    {
     "data": {
      "text/html": [
       "<pre style=\"white-space:pre;overflow-x:auto;line-height:normal;font-family:Menlo,'DejaVu Sans Mono',consolas,'Courier New',monospace\">\n",
       "<span style=\"color: #808000; text-decoration-color: #808000; font-weight: bold\">------- Hoàn thành bước: content_validator -------</span>\n",
       "</pre>\n"
      ],
      "text/plain": [
       "\n",
       "\u001b[1;33m------- Hoàn thành bước: content_validator -------\u001b[0m\n"
      ]
     },
     "metadata": {},
     "output_type": "display_data"
    },
    {
     "data": {
      "text/html": [
       "<pre style=\"white-space:pre;overflow-x:auto;line-height:normal;font-family:Menlo,'DejaVu Sans Mono',consolas,'Courier New',monospace\">\n",
       "<span style=\"color: #008080; text-decoration-color: #008080; font-weight: bold\">&gt;</span> `Commiter`: Đang ghi nhận nội dung đã được xác thực<span style=\"color: #808000; text-decoration-color: #808000\">...</span>\n",
       "</pre>\n"
      ],
      "text/plain": [
       "\n",
       "\u001b[1;36m>\u001b[0m `Commiter`: Đang ghi nhận nội dung đã được xác thực\u001b[33m...\u001b[0m\n"
      ]
     },
     "metadata": {},
     "output_type": "display_data"
    },
    {
     "data": {
      "text/html": [
       "<pre style=\"white-space:pre;overflow-x:auto;line-height:normal;font-family:Menlo,'DejaVu Sans Mono',consolas,'Courier New',monospace\">\n",
       "<span style=\"color: #808000; text-decoration-color: #808000; font-weight: bold\">------- Hoàn thành bước: commit_validated_content -------</span>\n",
       "</pre>\n"
      ],
      "text/plain": [
       "\n",
       "\u001b[1;33m------- Hoàn thành bước: commit_validated_content -------\u001b[0m\n"
      ]
     },
     "metadata": {},
     "output_type": "display_data"
    },
    {
     "data": {
      "text/html": [
       "<pre style=\"white-space:pre;overflow-x:auto;line-height:normal;font-family:Menlo,'DejaVu Sans Mono',consolas,'Courier New',monospace\">\n",
       "<span style=\"color: #808000; text-decoration-color: #808000; font-weight: bold\">------- Hoàn thành bước: mark_task_complete -------</span>\n",
       "</pre>\n"
      ],
      "text/plain": [
       "\n",
       "\u001b[1;33m------- Hoàn thành bước: mark_task_complete -------\u001b[0m\n"
      ]
     },
     "metadata": {},
     "output_type": "display_data"
    },
    {
     "data": {
      "text/html": [
       "<pre style=\"white-space:pre;overflow-x:auto;line-height:normal;font-family:Menlo,'DejaVu Sans Mono',consolas,'Courier New',monospace\">\n",
       "<span style=\"color: #008080; text-decoration-color: #008080; font-weight: bold\">&gt;</span> <span style=\"color: #808000; text-decoration-color: #808000\">...</span>Đang nghỉ <span style=\"color: #008080; text-decoration-color: #008080; font-weight: bold\">2</span> giây để tránh vượt rate limit<span style=\"color: #808000; text-decoration-color: #808000\">...</span>\n",
       "</pre>\n"
      ],
      "text/plain": [
       "\n",
       "\u001b[1;36m>\u001b[0m \u001b[33m...\u001b[0mĐang nghỉ \u001b[1;36m2\u001b[0m giây để tránh vượt rate limit\u001b[33m...\u001b[0m\n"
      ]
     },
     "metadata": {},
     "output_type": "display_data"
    },
    {
     "data": {
      "text/html": [
       "<pre style=\"white-space:pre;overflow-x:auto;line-height:normal;font-family:Menlo,'DejaVu Sans Mono',consolas,'Courier New',monospace\">\n",
       "<span style=\"color: #808000; text-decoration-color: #808000; font-weight: bold\">------- Hoàn thành bước: delay_node -------</span>\n",
       "</pre>\n"
      ],
      "text/plain": [
       "\n",
       "\u001b[1;33m------- Hoàn thành bước: delay_node -------\u001b[0m\n"
      ]
     },
     "metadata": {},
     "output_type": "display_data"
    },
    {
     "data": {
      "text/html": [
       "<pre style=\"white-space:pre;overflow-x:auto;line-height:normal;font-family:Menlo,'DejaVu Sans Mono',consolas,'Courier New',monospace\">\n",
       "<span style=\"color: #008080; text-decoration-color: #008080; font-weight: bold\">&gt;</span> `Router`: Đang kiểm tra nhiệm vụ<span style=\"color: #808000; text-decoration-color: #808000\">...</span>\n",
       "</pre>\n"
      ],
      "text/plain": [
       "\n",
       "\u001b[1;36m>\u001b[0m `Router`: Đang kiểm tra nhiệm vụ\u001b[33m...\u001b[0m\n"
      ]
     },
     "metadata": {},
     "output_type": "display_data"
    },
    {
     "data": {
      "text/html": [
       "<pre style=\"white-space:pre;overflow-x:auto;line-height:normal;font-family:Menlo,'DejaVu Sans Mono',consolas,'Courier New',monospace\">\n",
       "<span style=\"color: #008080; text-decoration-color: #008080; font-weight: bold\">&gt;</span> Nhiệm vụ tiếp theo: <span style=\"color: #008000; text-decoration-color: #008000\">'Đánh giá và Giao nhiệm vụ về nhà'</span> <span style=\"font-weight: bold\">(</span>ID: <span style=\"color: #008080; text-decoration-color: #008080; font-weight: bold\">4</span><span style=\"font-weight: bold\">)</span>\n",
       "</pre>\n"
      ],
      "text/plain": [
       "\n",
       "\u001b[1;36m>\u001b[0m Nhiệm vụ tiếp theo: \u001b[32m'Đánh giá và Giao nhiệm vụ về nhà'\u001b[0m \u001b[1m(\u001b[0mID: \u001b[1;36m4\u001b[0m\u001b[1m)\u001b[0m\n"
      ]
     },
     "metadata": {},
     "output_type": "display_data"
    },
    {
     "data": {
      "text/html": [
       "<pre style=\"white-space:pre;overflow-x:auto;line-height:normal;font-family:Menlo,'DejaVu Sans Mono',consolas,'Courier New',monospace\">\n",
       "<span style=\"color: #808000; text-decoration-color: #808000; font-weight: bold\">------- Hoàn thành bước: task_router -------</span>\n",
       "</pre>\n"
      ],
      "text/plain": [
       "\n",
       "\u001b[1;33m------- Hoàn thành bước: task_router -------\u001b[0m\n"
      ]
     },
     "metadata": {},
     "output_type": "display_data"
    },
    {
     "data": {
      "text/html": [
       "<pre style=\"white-space:pre;overflow-x:auto;line-height:normal;font-family:Menlo,'DejaVu Sans Mono',consolas,'Courier New',monospace\">\n",
       "<span style=\"color: #008080; text-decoration-color: #008080; font-weight: bold\">&gt;</span> `Agent: Task Dispatcher` <span style=\"font-weight: bold\">(</span>v7.<span style=\"color: #008080; text-decoration-color: #008080; font-weight: bold\">1</span><span style=\"font-weight: bold\">)</span> Bắt đầu<span style=\"color: #808000; text-decoration-color: #808000\">...</span>\n",
       "</pre>\n"
      ],
      "text/plain": [
       "\n",
       "\u001b[1;36m>\u001b[0m `Agent: Task Dispatcher` \u001b[1m(\u001b[0mv7.\u001b[1;36m1\u001b[0m\u001b[1m)\u001b[0m Bắt đầu\u001b[33m...\u001b[0m\n"
      ]
     },
     "metadata": {},
     "output_type": "display_data"
    },
    {
     "data": {
      "text/html": [
       "<pre style=\"white-space:pre;overflow-x:auto;line-height:normal;font-family:Menlo,'DejaVu Sans Mono',consolas,'Courier New',monospace\">\n",
       "<span style=\"color: #008080; text-decoration-color: #008080; font-weight: bold\">&gt;</span> --- 🚚 `Dispatcher`: Giao nhiệm vụ cho `assessment_creator`.\n",
       "</pre>\n"
      ],
      "text/plain": [
       "\n",
       "\u001b[1;36m>\u001b[0m --- 🚚 `Dispatcher`: Giao nhiệm vụ cho `assessment_creator`.\n"
      ]
     },
     "metadata": {},
     "output_type": "display_data"
    },
    {
     "data": {
      "text/html": [
       "<pre style=\"white-space:pre;overflow-x:auto;line-height:normal;font-family:Menlo,'DejaVu Sans Mono',consolas,'Courier New',monospace\">\n",
       "<span style=\"color: #808000; text-decoration-color: #808000; font-weight: bold\">------- Hoàn thành bước: task_dispatcher -------</span>\n",
       "</pre>\n"
      ],
      "text/plain": [
       "\n",
       "\u001b[1;33m------- Hoàn thành bước: task_dispatcher -------\u001b[0m\n"
      ]
     },
     "metadata": {},
     "output_type": "display_data"
    },
    {
     "data": {
      "text/html": [
       "<pre style=\"white-space:pre;overflow-x:auto;line-height:normal;font-family:Menlo,'DejaVu Sans Mono',consolas,'Courier New',monospace\">\n",
       "<span style=\"color: #008080; text-decoration-color: #008080; font-weight: bold\">&gt;</span> `Agent: Assessment Creator` <span style=\"font-weight: bold\">(</span>v9.<span style=\"color: #008080; text-decoration-color: #008080; font-weight: bold\">7</span><span style=\"font-weight: bold\">)</span> đang tạo nội dung linh hoạt <span style=\"font-weight: bold\">(</span>Lõi + Mở rộng<span style=\"font-weight: bold\">)</span><span style=\"color: #808000; text-decoration-color: #808000\">...</span>\n",
       "</pre>\n"
      ],
      "text/plain": [
       "\n",
       "\u001b[1;36m>\u001b[0m `Agent: Assessment Creator` \u001b[1m(\u001b[0mv9.\u001b[1;36m7\u001b[0m\u001b[1m)\u001b[0m đang tạo nội dung linh hoạt \u001b[1m(\u001b[0mLõi + Mở rộng\u001b[1m)\u001b[0m\u001b[33m...\u001b[0m\n"
      ]
     },
     "metadata": {},
     "output_type": "display_data"
    },
    {
     "data": {
      "text/html": [
       "<pre style=\"white-space:pre;overflow-x:auto;line-height:normal;font-family:Menlo,'DejaVu Sans Mono',consolas,'Courier New',monospace\"><span style=\"color: #008000; text-decoration-color: #008000; font-weight: bold\">✔️ Nội dung do Assessment Creator tạo ra (Linh hoạt):</span>\n",
       "</pre>\n"
      ],
      "text/plain": [
       "\u001b[1;32m✔️ Nội dung do Assessment Creator tạo ra \u001b[0m\u001b[1;32m(\u001b[0m\u001b[1;32mLinh hoạt\u001b[0m\u001b[1;32m)\u001b[0m\u001b[1;32m:\u001b[0m\n"
      ]
     },
     "metadata": {},
     "output_type": "display_data"
    },
    {
     "data": {
      "text/html": [
       "<pre style=\"white-space:pre;overflow-x:auto;line-height:normal;font-family:Menlo,'DejaVu Sans Mono',consolas,'Courier New',monospace\"><span style=\"font-weight: bold\">{</span>\n",
       "<span style=\"color: #7fbf7f; text-decoration-color: #7fbf7f\">│   </span><span style=\"color: #008000; text-decoration-color: #008000\">'activity_name'</span>: <span style=\"color: #008000; text-decoration-color: #008000\">'Đánh giá và Giao nhiệm vụ về nhà'</span>,\n",
       "<span style=\"color: #7fbf7f; text-decoration-color: #7fbf7f\">│   </span><span style=\"color: #008000; text-decoration-color: #008000\">'question_type'</span>: <span style=\"color: #008000; text-decoration-color: #008000\">'Trắc nghiệm/Điền khuyết'</span>,\n",
       "<span style=\"color: #7fbf7f; text-decoration-color: #7fbf7f\">│   </span><span style=\"color: #008000; text-decoration-color: #008000\">'duration_minutes'</span>: <span style=\"color: #008080; text-decoration-color: #008080; font-weight: bold\">10</span>,\n",
       "<span style=\"color: #7fbf7f; text-decoration-color: #7fbf7f\">│   </span><span style=\"color: #008000; text-decoration-color: #008000\">'teacher_actions'</span>: <span style=\"font-weight: bold\">[</span>\n",
       "<span style=\"color: #7fbf7f; text-decoration-color: #7fbf7f\">│   │   </span><span style=\"color: #008000; text-decoration-color: #008000\">'Phát phiếu bài tập kiểm tra nhanh hoặc chiếu câu hỏi lên bảng.'</span>,\n",
       "<span style=\"color: #7fbf7f; text-decoration-color: #7fbf7f\">│   │   </span><span style=\"color: #008000; text-decoration-color: #008000\">'Yêu cầu học sinh hoàn thành bài kiểm tra trong 5 phút.'</span>,\n",
       "<span style=\"color: #7fbf7f; text-decoration-color: #7fbf7f\">│   │   </span><span style=\"color: #008000; text-decoration-color: #008000\">'Thu phiếu kiểm tra và phiếu học tập nhóm (nếu có).'</span>,\n",
       "<span style=\"color: #7fbf7f; text-decoration-color: #7fbf7f\">│   │   </span><span style=\"color: #008000; text-decoration-color: #008000\">'Giao bài tập về nhà, hướng dẫn học sinh ghi chép các bài tập cần làm.'</span>,\n",
       "<span style=\"color: #7fbf7f; text-decoration-color: #7fbf7f\">│   │   </span><span style=\"color: #008000; text-decoration-color: #008000\">'Nhắc nhở học sinh chuẩn bị bài cho buổi học tiếp theo.'</span>\n",
       "<span style=\"color: #7fbf7f; text-decoration-color: #7fbf7f\">│   </span><span style=\"font-weight: bold\">]</span>,\n",
       "<span style=\"color: #7fbf7f; text-decoration-color: #7fbf7f\">│   </span><span style=\"color: #008000; text-decoration-color: #008000\">'core_component'</span>: <span style=\"color: #008000; text-decoration-color: #008000\">'Phần 1: Kiểm tra nhanh (5 phút)Hoàn thành các câu hỏi sau:1. Đường tròn ngoại tiếp tam giác là đường tròn đi qua (các) ________ của tam giác. Tâm của đường tròn ngoại tiếp là giao điểm của ba đường ________ của tam giác.2. Đường tròn nội tiếp tam giác là đường tròn tiếp xúc với (các) ________ của tam giác. Tâm của đường tròn nội tiếp là giao điểm của ba đường ________ của tam giác.3. Chọn đáp án đúng: Trong một tam giác vuông, tâm đường tròn ngoại tiếp nằm ở đâu?A. Trọng tâmB. Trực tâmC. Trung điểm cạnh huyềnD. Giao điểm ba đường phân giác'</span>,\n",
       "<span style=\"color: #7fbf7f; text-decoration-color: #7fbf7f\">│   </span><span style=\"color: #008000; text-decoration-color: #008000\">'extension_component'</span>: <span style=\"color: #008000; text-decoration-color: #008000\">\"Phần 2: Giao nhiệm vụ về nhà (5 phút)1. Bài tập bắt buộc:Bài 1: Cho tam giác ABC vuông tại A có AB = 6cm, AC = 8cm. Tính bán kính đường tròn ngoại tiếp tam giác ABC.Bài 2: Cho tam giác đều ABC cạnh a. Tính bán kính đường tròn nội tiếp và ngoại tiếp tam giác đó theo a.2. Bài tập nâng cao (dành cho học sinh khá, giỏi):Bài 3: Cho tam giác ABC có ba góc nhọn. Gọi O là tâm đường tròn ngoại tiếp, I là tâm đường tròn nội tiếp. Chứng minh rằng nếu O trùng với I thì tam giác ABC là tam giác đều.3. Chuẩn bị bài mới: Đọc trước bài 'Tứ giác nội tiếp' và làm các bài tập khởi động trong sách giáo khoa.\"</span>,\n",
       "<span style=\"color: #7fbf7f; text-decoration-color: #7fbf7f\">│   </span><span style=\"color: #008000; text-decoration-color: #008000\">'answer'</span>: <span style=\"color: #008000; text-decoration-color: #008000\">'1. đỉnh; trung trực2. cạnh; phân giác3. C. Trung điểm cạnh huyền'</span>,\n",
       "<span style=\"color: #7fbf7f; text-decoration-color: #7fbf7f\">│   </span><span style=\"color: #008000; text-decoration-color: #008000\">'solution_guide'</span>: <span style=\"color: #800080; text-decoration-color: #800080; font-style: italic\">None</span>,\n",
       "<span style=\"color: #7fbf7f; text-decoration-color: #7fbf7f\">│   </span><span style=\"color: #008000; text-decoration-color: #008000\">'differentiation'</span>: <span style=\"font-weight: bold\">{</span>\n",
       "<span style=\"color: #7fbf7f; text-decoration-color: #7fbf7f\">│   │   </span><span style=\"color: #008000; text-decoration-color: #008000\">'for_struggling_students'</span>: <span style=\"color: #008000; text-decoration-color: #008000\">'Đối với học sinh còn gặp khó khăn, giáo viên có thể gợi ý tập trung ôn lại định nghĩa và tính chất cơ bản của đường tròn nội tiếp, ngoại tiếp qua các ví dụ trong sách giáo khoa. Khuyến khích các em chỉ làm các bài tập bắt buộc trong phần bài tập về nhà và xem lại các ví dụ đã chữa trên lớp.'</span>,\n",
       "<span style=\"color: #7fbf7f; text-decoration-color: #7fbf7f\">│   │   </span><span style=\"color: #008000; text-decoration-color: #008000\">'for_advanced_students'</span>: <span style=\"color: #008000; text-decoration-color: #008000\">'Đối với học sinh khá, giỏi, khuyến khích các em hoàn thành cả bài tập nâng cao (Bài 3) trong phần bài tập về nhà. Giáo viên có thể gợi ý thêm về các tính chất đặc biệt của đường tròn hoặc các bài toán liên quan đến diện tích, chu vi khi có đường tròn nội/ngoại tiếp.'</span>\n",
       "<span style=\"color: #7fbf7f; text-decoration-color: #7fbf7f\">│   </span><span style=\"font-weight: bold\">}</span>,\n",
       "<span style=\"color: #7fbf7f; text-decoration-color: #7fbf7f\">│   </span><span style=\"color: #008000; text-decoration-color: #008000\">'question_or_description'</span>: <span style=\"color: #008000; text-decoration-color: #008000\">\"**Phần Cốt lõi:**\\nPhần 1: Kiểm tra nhanh (5 phút)Hoàn thành các câu hỏi sau:1. Đường tròn ngoại tiếp tam giác là đường tròn đi qua (các) ________ của tam giác. Tâm của đường tròn ngoại tiếp là giao điểm của ba đường ________ của tam giác.2. Đường tròn nội tiếp tam giác là đường tròn tiếp xúc với (các) ________ của tam giác. Tâm của đường tròn nội tiếp là giao điểm của ba đường ________ của tam giác.3. Chọn đáp án đúng: Trong một tam giác vuông, tâm đường tròn ngoại tiếp nằm ở đâu?A. Trọng tâmB. Trực tâmC. Trung điểm cạnh huyềnD. Giao điểm ba đường phân giác\\n\\n**Phần Mở rộng (nếu còn thời gian):**\\nPhần 2: Giao nhiệm vụ về nhà (5 phút)1. Bài tập bắt buộc:Bài 1: Cho tam giác ABC vuông tại A có AB = 6cm, AC = 8cm. Tính bán kính đường tròn ngoại tiếp tam giác ABC.Bài 2: Cho tam giác đều ABC cạnh a. Tính bán kính đường tròn nội tiếp và ngoại tiếp tam giác đó theo a.2. Bài tập nâng cao (dành cho học sinh khá, giỏi):Bài 3: Cho tam giác ABC có ba góc nhọn. Gọi O là tâm đường tròn ngoại tiếp, I là tâm đường tròn nội tiếp. Chứng minh rằng nếu O trùng với I thì tam giác ABC là tam giác đều.3. Chuẩn bị bài mới: Đọc trước bài 'Tứ giác nội tiếp' và làm các bài tập khởi động trong sách giáo khoa.\"</span>\n",
       "<span style=\"font-weight: bold\">}</span>\n",
       "</pre>\n"
      ],
      "text/plain": [
       "\u001b[1m{\u001b[0m\n",
       "\u001b[2;32m│   \u001b[0m\u001b[32m'activity_name'\u001b[0m: \u001b[32m'Đánh giá và Giao nhiệm vụ về nhà'\u001b[0m,\n",
       "\u001b[2;32m│   \u001b[0m\u001b[32m'question_type'\u001b[0m: \u001b[32m'Trắc nghiệm/Điền khuyết'\u001b[0m,\n",
       "\u001b[2;32m│   \u001b[0m\u001b[32m'duration_minutes'\u001b[0m: \u001b[1;36m10\u001b[0m,\n",
       "\u001b[2;32m│   \u001b[0m\u001b[32m'teacher_actions'\u001b[0m: \u001b[1m[\u001b[0m\n",
       "\u001b[2;32m│   │   \u001b[0m\u001b[32m'Phát phiếu bài tập kiểm tra nhanh hoặc chiếu câu hỏi lên bảng.'\u001b[0m,\n",
       "\u001b[2;32m│   │   \u001b[0m\u001b[32m'Yêu cầu học sinh hoàn thành bài kiểm tra trong 5 phút.'\u001b[0m,\n",
       "\u001b[2;32m│   │   \u001b[0m\u001b[32m'Thu phiếu kiểm tra và phiếu học tập nhóm \u001b[0m\u001b[32m(\u001b[0m\u001b[32mnếu có\u001b[0m\u001b[32m)\u001b[0m\u001b[32m.'\u001b[0m,\n",
       "\u001b[2;32m│   │   \u001b[0m\u001b[32m'Giao bài tập về nhà, hướng dẫn học sinh ghi chép các bài tập cần làm.'\u001b[0m,\n",
       "\u001b[2;32m│   │   \u001b[0m\u001b[32m'Nhắc nhở học sinh chuẩn bị bài cho buổi học tiếp theo.'\u001b[0m\n",
       "\u001b[2;32m│   \u001b[0m\u001b[1m]\u001b[0m,\n",
       "\u001b[2;32m│   \u001b[0m\u001b[32m'core_component'\u001b[0m: \u001b[32m'Phần 1: Kiểm tra nhanh \u001b[0m\u001b[32m(\u001b[0m\u001b[32m5 phút\u001b[0m\u001b[32m)\u001b[0m\u001b[32mHoàn thành các câu hỏi sau:1. Đường tròn ngoại tiếp tam giác là đường tròn đi qua \u001b[0m\u001b[32m(\u001b[0m\u001b[32mcác\u001b[0m\u001b[32m)\u001b[0m\u001b[32m ________ của tam giác. Tâm của đường tròn ngoại tiếp là giao điểm của ba đường ________ của tam giác.2. Đường tròn nội tiếp tam giác là đường tròn tiếp xúc với \u001b[0m\u001b[32m(\u001b[0m\u001b[32mcác\u001b[0m\u001b[32m)\u001b[0m\u001b[32m ________ của tam giác. Tâm của đường tròn nội tiếp là giao điểm của ba đường ________ của tam giác.3. Chọn đáp án đúng: Trong một tam giác vuông, tâm đường tròn ngoại tiếp nằm ở đâu?A. Trọng tâmB. Trực tâmC. Trung điểm cạnh huyềnD. Giao điểm ba đường phân giác'\u001b[0m,\n",
       "\u001b[2;32m│   \u001b[0m\u001b[32m'extension_component'\u001b[0m: \u001b[32m\"Phần 2: Giao nhiệm vụ về nhà \u001b[0m\u001b[32m(\u001b[0m\u001b[32m5 phút\u001b[0m\u001b[32m)\u001b[0m\u001b[32m1. Bài tập bắt buộc:Bài 1: Cho tam giác ABC vuông tại A có AB = 6cm, AC = 8cm. Tính bán kính đường tròn ngoại tiếp tam giác ABC.Bài 2: Cho tam giác đều ABC cạnh a. Tính bán kính đường tròn nội tiếp và ngoại tiếp tam giác đó theo a.2. Bài tập nâng cao \u001b[0m\u001b[32m(\u001b[0m\u001b[32mdành cho học sinh khá, giỏi\u001b[0m\u001b[32m)\u001b[0m\u001b[32m:Bài 3: Cho tam giác ABC có ba góc nhọn. Gọi O là tâm đường tròn ngoại tiếp, I là tâm đường tròn nội tiếp. Chứng minh rằng nếu O trùng với I thì tam giác ABC là tam giác đều.3. Chuẩn bị bài mới: Đọc trước bài 'Tứ giác nội tiếp' và làm các bài tập khởi động trong sách giáo khoa.\"\u001b[0m,\n",
       "\u001b[2;32m│   \u001b[0m\u001b[32m'answer'\u001b[0m: \u001b[32m'1. đỉnh; trung trực2. cạnh; phân giác3. C. Trung điểm cạnh huyền'\u001b[0m,\n",
       "\u001b[2;32m│   \u001b[0m\u001b[32m'solution_guide'\u001b[0m: \u001b[3;35mNone\u001b[0m,\n",
       "\u001b[2;32m│   \u001b[0m\u001b[32m'differentiation'\u001b[0m: \u001b[1m{\u001b[0m\n",
       "\u001b[2;32m│   │   \u001b[0m\u001b[32m'for_struggling_students'\u001b[0m: \u001b[32m'Đối với học sinh còn gặp khó khăn, giáo viên có thể gợi ý tập trung ôn lại định nghĩa và tính chất cơ bản của đường tròn nội tiếp, ngoại tiếp qua các ví dụ trong sách giáo khoa. Khuyến khích các em chỉ làm các bài tập bắt buộc trong phần bài tập về nhà và xem lại các ví dụ đã chữa trên lớp.'\u001b[0m,\n",
       "\u001b[2;32m│   │   \u001b[0m\u001b[32m'for_advanced_students'\u001b[0m: \u001b[32m'Đối với học sinh khá, giỏi, khuyến khích các em hoàn thành cả bài tập nâng cao \u001b[0m\u001b[32m(\u001b[0m\u001b[32mBài 3\u001b[0m\u001b[32m)\u001b[0m\u001b[32m trong phần bài tập về nhà. Giáo viên có thể gợi ý thêm về các tính chất đặc biệt của đường tròn hoặc các bài toán liên quan đến diện tích, chu vi khi có đường tròn nội/ngoại tiếp.'\u001b[0m\n",
       "\u001b[2;32m│   \u001b[0m\u001b[1m}\u001b[0m,\n",
       "\u001b[2;32m│   \u001b[0m\u001b[32m'question_or_description'\u001b[0m: \u001b[32m\"**Phần Cốt lõi:**\\nPhần 1: Kiểm tra nhanh \u001b[0m\u001b[32m(\u001b[0m\u001b[32m5 phút\u001b[0m\u001b[32m)\u001b[0m\u001b[32mHoàn thành các câu hỏi sau:1. Đường tròn ngoại tiếp tam giác là đường tròn đi qua \u001b[0m\u001b[32m(\u001b[0m\u001b[32mcác\u001b[0m\u001b[32m)\u001b[0m\u001b[32m ________ của tam giác. Tâm của đường tròn ngoại tiếp là giao điểm của ba đường ________ của tam giác.2. Đường tròn nội tiếp tam giác là đường tròn tiếp xúc với \u001b[0m\u001b[32m(\u001b[0m\u001b[32mcác\u001b[0m\u001b[32m)\u001b[0m\u001b[32m ________ của tam giác. Tâm của đường tròn nội tiếp là giao điểm của ba đường ________ của tam giác.3. Chọn đáp án đúng: Trong một tam giác vuông, tâm đường tròn ngoại tiếp nằm ở đâu?A. Trọng tâmB. Trực tâmC. Trung điểm cạnh huyềnD. Giao điểm ba đường phân giác\\n\\n**Phần Mở rộng \u001b[0m\u001b[32m(\u001b[0m\u001b[32mnếu còn thời gian\u001b[0m\u001b[32m)\u001b[0m\u001b[32m:**\\nPhần 2: Giao nhiệm vụ về nhà \u001b[0m\u001b[32m(\u001b[0m\u001b[32m5 phút\u001b[0m\u001b[32m)\u001b[0m\u001b[32m1. Bài tập bắt buộc:Bài 1: Cho tam giác ABC vuông tại A có AB = 6cm, AC = 8cm. Tính bán kính đường tròn ngoại tiếp tam giác ABC.Bài 2: Cho tam giác đều ABC cạnh a. Tính bán kính đường tròn nội tiếp và ngoại tiếp tam giác đó theo a.2. Bài tập nâng cao \u001b[0m\u001b[32m(\u001b[0m\u001b[32mdành cho học sinh khá, giỏi\u001b[0m\u001b[32m)\u001b[0m\u001b[32m:Bài 3: Cho tam giác ABC có ba góc nhọn. Gọi O là tâm đường tròn ngoại tiếp, I là tâm đường tròn nội tiếp. Chứng minh rằng nếu O trùng với I thì tam giác ABC là tam giác đều.3. Chuẩn bị bài mới: Đọc trước bài 'Tứ giác nội tiếp' và làm các bài tập khởi động trong sách giáo khoa.\"\u001b[0m\n",
       "\u001b[1m}\u001b[0m\n"
      ]
     },
     "metadata": {},
     "output_type": "display_data"
    },
    {
     "data": {
      "text/html": [
       "<pre style=\"white-space:pre;overflow-x:auto;line-height:normal;font-family:Menlo,'DejaVu Sans Mono',consolas,'Courier New',monospace\">\n",
       "<span style=\"color: #808000; text-decoration-color: #808000; font-weight: bold\">------- Hoàn thành bước: assessment_creator -------</span>\n",
       "</pre>\n"
      ],
      "text/plain": [
       "\n",
       "\u001b[1;33m------- Hoàn thành bước: assessment_creator -------\u001b[0m\n"
      ]
     },
     "metadata": {},
     "output_type": "display_data"
    },
    {
     "data": {
      "text/html": [
       "<pre style=\"white-space:pre;overflow-x:auto;line-height:normal;font-family:Menlo,'DejaVu Sans Mono',consolas,'Courier New',monospace\">\n",
       "<span style=\"color: #008080; text-decoration-color: #008080; font-weight: bold\">&gt;</span> `Agent: Time-Budget Advisor` <span style=\"font-weight: bold\">(</span>v9.<span style=\"color: #008080; text-decoration-color: #008080; font-weight: bold\">7</span><span style=\"font-weight: bold\">)</span> đang phản biện nội dung và ngân sách thời gian<span style=\"color: #808000; text-decoration-color: #808000\">...</span>\n",
       "</pre>\n"
      ],
      "text/plain": [
       "\n",
       "\u001b[1;36m>\u001b[0m `Agent: Time-Budget Advisor` \u001b[1m(\u001b[0mv9.\u001b[1;36m7\u001b[0m\u001b[1m)\u001b[0m đang phản biện nội dung và ngân sách thời gian\u001b[33m...\u001b[0m\n"
      ]
     },
     "metadata": {},
     "output_type": "display_data"
    },
    {
     "data": {
      "text/html": [
       "<pre style=\"white-space:pre;overflow-x:auto;line-height:normal;font-family:Menlo,'DejaVu Sans Mono',consolas,'Courier New',monospace\"><span style=\"color: #808000; text-decoration-color: #808000; font-weight: bold\">⚠️  CỐ VẤN PHẢN BIỆN: Lỗi phân bổ ngân sách! Thời gian đề xuất (</span><span style=\"color: #808000; text-decoration-color: #808000; font-weight: bold\">10</span><span style=\"color: #808000; text-decoration-color: #808000; font-weight: bold\"> phút) chiếm trọn vẹn thời gian còn lại của buổi </span>\n",
       "<span style=\"color: #808000; text-decoration-color: #808000; font-weight: bold\">học (</span><span style=\"color: #808000; text-decoration-color: #808000; font-weight: bold\">10</span><span style=\"color: #808000; text-decoration-color: #808000; font-weight: bold\"> phút), không để lại bất kỳ khoảng đệm nào cho việc kết thúc buổi học hoặc các phát sinh. Hơn nữa, nội dung </span>\n",
       "<span style=\"color: #808000; text-decoration-color: #808000; font-weight: bold\">của hoạt động này, bao gồm cả kiểm tra nhanh và giao bài tập về nhà chi tiết (với </span><span style=\"color: #808000; text-decoration-color: #808000; font-weight: bold\">3</span><span style=\"color: #808000; text-decoration-color: #808000; font-weight: bold\"> bài tập và hướng dẫn chuẩn bị </span>\n",
       "<span style=\"color: #808000; text-decoration-color: #808000; font-weight: bold\">bài mới), là quá nhiều để thực hiện hiệu quả trong </span><span style=\"color: #808000; text-decoration-color: #808000; font-weight: bold\">10</span><span style=\"color: #808000; text-decoration-color: #808000; font-weight: bold\"> phút. Việc giao bài tập về nhà trong </span><span style=\"color: #808000; text-decoration-color: #808000; font-weight: bold\">5</span><span style=\"color: #808000; text-decoration-color: #808000; font-weight: bold\"> phút cuối cùng sẽ rất </span>\n",
       "<span style=\"color: #808000; text-decoration-color: #808000; font-weight: bold\">vội vàng, khó đảm bảo học sinh ghi chép đầy đủ và hiểu rõ yêu cầu. Cần thiết kế lại hoạt động này trong khoảng </span><span style=\"color: #808000; text-decoration-color: #808000; font-weight: bold\">8</span><span style=\"color: #808000; text-decoration-color: #808000; font-weight: bold\"> </span>\n",
       "<span style=\"color: #808000; text-decoration-color: #808000; font-weight: bold\">phút để đảm bảo tiến độ và có thời gian kết thúc buổi học một cách trọn vẹn. | SUGGESTED_DURATION: </span><span style=\"color: #808000; text-decoration-color: #808000; font-weight: bold\">8</span>\n",
       "</pre>\n"
      ],
      "text/plain": [
       "\u001b[1;33m⚠️  CỐ VẤN PHẢN BIỆN: Lỗi phân bổ ngân sách! Thời gian đề xuất \u001b[0m\u001b[1;33m(\u001b[0m\u001b[1;33m10\u001b[0m\u001b[1;33m phút\u001b[0m\u001b[1;33m)\u001b[0m\u001b[1;33m chiếm trọn vẹn thời gian còn lại của buổi \u001b[0m\n",
       "\u001b[1;33mhọc \u001b[0m\u001b[1;33m(\u001b[0m\u001b[1;33m10\u001b[0m\u001b[1;33m phút\u001b[0m\u001b[1;33m)\u001b[0m\u001b[1;33m, không để lại bất kỳ khoảng đệm nào cho việc kết thúc buổi học hoặc các phát sinh. Hơn nữa, nội dung \u001b[0m\n",
       "\u001b[1;33mcủa hoạt động này, bao gồm cả kiểm tra nhanh và giao bài tập về nhà chi tiết \u001b[0m\u001b[1;33m(\u001b[0m\u001b[1;33mvới \u001b[0m\u001b[1;33m3\u001b[0m\u001b[1;33m bài tập và hướng dẫn chuẩn bị \u001b[0m\n",
       "\u001b[1;33mbài mới\u001b[0m\u001b[1;33m)\u001b[0m\u001b[1;33m, là quá nhiều để thực hiện hiệu quả trong \u001b[0m\u001b[1;33m10\u001b[0m\u001b[1;33m phút. Việc giao bài tập về nhà trong \u001b[0m\u001b[1;33m5\u001b[0m\u001b[1;33m phút cuối cùng sẽ rất \u001b[0m\n",
       "\u001b[1;33mvội vàng, khó đảm bảo học sinh ghi chép đầy đủ và hiểu rõ yêu cầu. Cần thiết kế lại hoạt động này trong khoảng \u001b[0m\u001b[1;33m8\u001b[0m\u001b[1;33m \u001b[0m\n",
       "\u001b[1;33mphút để đảm bảo tiến độ và có thời gian kết thúc buổi học một cách trọn vẹn. | SUGGESTED_DURATION: \u001b[0m\u001b[1;33m8\u001b[0m\n"
      ]
     },
     "metadata": {},
     "output_type": "display_data"
    },
    {
     "data": {
      "text/html": [
       "<pre style=\"white-space:pre;overflow-x:auto;line-height:normal;font-family:Menlo,'DejaVu Sans Mono',consolas,'Courier New',monospace\">\n",
       "<span style=\"color: #008080; text-decoration-color: #008080; font-weight: bold\">&gt;</span> ROUTER <span style=\"font-weight: bold\">(</span>Validation<span style=\"font-weight: bold\">)</span>: Nội dung bị từ chối. Quay lại để agent chuyên môn THỬ LẠI.\n",
       "</pre>\n"
      ],
      "text/plain": [
       "\n",
       "\u001b[1;36m>\u001b[0m ROUTER \u001b[1m(\u001b[0mValidation\u001b[1m)\u001b[0m: Nội dung bị từ chối. Quay lại để agent chuyên môn THỬ LẠI.\n"
      ]
     },
     "metadata": {},
     "output_type": "display_data"
    },
    {
     "data": {
      "text/html": [
       "<pre style=\"white-space:pre;overflow-x:auto;line-height:normal;font-family:Menlo,'DejaVu Sans Mono',consolas,'Courier New',monospace\">\n",
       "<span style=\"color: #808000; text-decoration-color: #808000; font-weight: bold\">------- Hoàn thành bước: content_validator -------</span>\n",
       "</pre>\n"
      ],
      "text/plain": [
       "\n",
       "\u001b[1;33m------- Hoàn thành bước: content_validator -------\u001b[0m\n"
      ]
     },
     "metadata": {},
     "output_type": "display_data"
    },
    {
     "data": {
      "text/html": [
       "<pre style=\"white-space:pre;overflow-x:auto;line-height:normal;font-family:Menlo,'DejaVu Sans Mono',consolas,'Courier New',monospace\">\n",
       "<span style=\"color: #008080; text-decoration-color: #008080; font-weight: bold\">&gt;</span> `Agent: Task Dispatcher` <span style=\"font-weight: bold\">(</span>v7.<span style=\"color: #008080; text-decoration-color: #008080; font-weight: bold\">1</span><span style=\"font-weight: bold\">)</span> Bắt đầu<span style=\"color: #808000; text-decoration-color: #808000\">...</span>\n",
       "</pre>\n"
      ],
      "text/plain": [
       "\n",
       "\u001b[1;36m>\u001b[0m `Agent: Task Dispatcher` \u001b[1m(\u001b[0mv7.\u001b[1;36m1\u001b[0m\u001b[1m)\u001b[0m Bắt đầu\u001b[33m...\u001b[0m\n"
      ]
     },
     "metadata": {},
     "output_type": "display_data"
    },
    {
     "data": {
      "text/html": [
       "<pre style=\"white-space:pre;overflow-x:auto;line-height:normal;font-family:Menlo,'DejaVu Sans Mono',consolas,'Courier New',monospace\">\n",
       "<span style=\"color: #008080; text-decoration-color: #008080; font-weight: bold\">&gt;</span> --- 🚚 `Dispatcher`: Giao nhiệm vụ cho `assessment_creator`.\n",
       "</pre>\n"
      ],
      "text/plain": [
       "\n",
       "\u001b[1;36m>\u001b[0m --- 🚚 `Dispatcher`: Giao nhiệm vụ cho `assessment_creator`.\n"
      ]
     },
     "metadata": {},
     "output_type": "display_data"
    },
    {
     "data": {
      "text/html": [
       "<pre style=\"white-space:pre;overflow-x:auto;line-height:normal;font-family:Menlo,'DejaVu Sans Mono',consolas,'Courier New',monospace\">\n",
       "<span style=\"color: #808000; text-decoration-color: #808000; font-weight: bold\">------- Hoàn thành bước: task_dispatcher -------</span>\n",
       "</pre>\n"
      ],
      "text/plain": [
       "\n",
       "\u001b[1;33m------- Hoàn thành bước: task_dispatcher -------\u001b[0m\n"
      ]
     },
     "metadata": {},
     "output_type": "display_data"
    },
    {
     "data": {
      "text/html": [
       "<pre style=\"white-space:pre;overflow-x:auto;line-height:normal;font-family:Menlo,'DejaVu Sans Mono',consolas,'Courier New',monospace\">\n",
       "<span style=\"color: #008080; text-decoration-color: #008080; font-weight: bold\">&gt;</span> `Agent: Assessment Creator` <span style=\"font-weight: bold\">(</span>v9.<span style=\"color: #008080; text-decoration-color: #008080; font-weight: bold\">7</span><span style=\"font-weight: bold\">)</span> đang tạo nội dung linh hoạt <span style=\"font-weight: bold\">(</span>Lõi + Mở rộng<span style=\"font-weight: bold\">)</span><span style=\"color: #808000; text-decoration-color: #808000\">...</span>\n",
       "</pre>\n"
      ],
      "text/plain": [
       "\n",
       "\u001b[1;36m>\u001b[0m `Agent: Assessment Creator` \u001b[1m(\u001b[0mv9.\u001b[1;36m7\u001b[0m\u001b[1m)\u001b[0m đang tạo nội dung linh hoạt \u001b[1m(\u001b[0mLõi + Mở rộng\u001b[1m)\u001b[0m\u001b[33m...\u001b[0m\n"
      ]
     },
     "metadata": {},
     "output_type": "display_data"
    },
    {
     "data": {
      "text/html": [
       "<pre style=\"white-space:pre;overflow-x:auto;line-height:normal;font-family:Menlo,'DejaVu Sans Mono',consolas,'Courier New',monospace\"><span style=\"color: #008000; text-decoration-color: #008000; font-weight: bold\">✔️ Nội dung do Assessment Creator tạo ra (Linh hoạt):</span>\n",
       "</pre>\n"
      ],
      "text/plain": [
       "\u001b[1;32m✔️ Nội dung do Assessment Creator tạo ra \u001b[0m\u001b[1;32m(\u001b[0m\u001b[1;32mLinh hoạt\u001b[0m\u001b[1;32m)\u001b[0m\u001b[1;32m:\u001b[0m\n"
      ]
     },
     "metadata": {},
     "output_type": "display_data"
    },
    {
     "data": {
      "text/html": [
       "<pre style=\"white-space:pre;overflow-x:auto;line-height:normal;font-family:Menlo,'DejaVu Sans Mono',consolas,'Courier New',monospace\"><span style=\"font-weight: bold\">{</span>\n",
       "<span style=\"color: #7fbf7f; text-decoration-color: #7fbf7f\">│   </span><span style=\"color: #008000; text-decoration-color: #008000\">'activity_name'</span>: <span style=\"color: #008000; text-decoration-color: #008000\">'Đánh giá nhanh và Giao bài tập về nhà'</span>,\n",
       "<span style=\"color: #7fbf7f; text-decoration-color: #7fbf7f\">│   </span><span style=\"color: #008000; text-decoration-color: #008000\">'question_type'</span>: <span style=\"color: #008000; text-decoration-color: #008000\">'Trắc nghiệm và Bài tập về nhà'</span>,\n",
       "<span style=\"color: #7fbf7f; text-decoration-color: #7fbf7f\">│   </span><span style=\"color: #008000; text-decoration-color: #008000\">'duration_minutes'</span>: <span style=\"color: #008080; text-decoration-color: #008080; font-weight: bold\">10</span>,\n",
       "<span style=\"color: #7fbf7f; text-decoration-color: #7fbf7f\">│   </span><span style=\"color: #008000; text-decoration-color: #008000\">'teacher_actions'</span>: <span style=\"font-weight: bold\">[</span>\n",
       "<span style=\"color: #7fbf7f; text-decoration-color: #7fbf7f\">│   │   </span><span style=\"color: #008000; text-decoration-color: #008000\">'Phát phiếu bài tập trắc nghiệm nhanh cho học sinh (1 câu).'</span>,\n",
       "<span style=\"color: #7fbf7f; text-decoration-color: #7fbf7f\">│   │   </span><span style=\"color: #008000; text-decoration-color: #008000\">'Yêu cầu học sinh hoàn thành trong 3 phút.'</span>,\n",
       "<span style=\"color: #7fbf7f; text-decoration-color: #7fbf7f\">│   │   </span><span style=\"color: #008000; text-decoration-color: #008000\">'Thu phiếu bài tập để đánh giá nhanh mức độ hiểu bài.'</span>,\n",
       "<span style=\"color: #7fbf7f; text-decoration-color: #7fbf7f\">│   │   </span><span style=\"color: #008000; text-decoration-color: #008000\">'Ghi bảng hoặc chiếu slide các bài tập về nhà (2 bài cơ bản và 1 bài nâng cao có đánh dấu).'</span>,\n",
       "<span style=\"color: #7fbf7f; text-decoration-color: #7fbf7f\">│   │   </span><span style=\"color: #008000; text-decoration-color: #008000\">'Giải thích ngắn gọn yêu cầu của bài tập về nhà.'</span>,\n",
       "<span style=\"color: #7fbf7f; text-decoration-color: #7fbf7f\">│   │   </span><span style=\"color: #008000; text-decoration-color: #008000\">\"Nhắc nhở học sinh chuẩn bị bài mới 'Tứ giác nội tiếp' cho buổi học tiếp theo.\"</span>\n",
       "<span style=\"color: #7fbf7f; text-decoration-color: #7fbf7f\">│   </span><span style=\"font-weight: bold\">]</span>,\n",
       "<span style=\"color: #7fbf7f; text-decoration-color: #7fbf7f\">│   </span><span style=\"color: #008000; text-decoration-color: #008000\">'core_component'</span>: <span style=\"color: #008000; text-decoration-color: #008000\">'**Phần 1: Kiểm tra nhanh (3 phút)**Chọn đáp án đúng:Cho tam giác ABC có ba góc nhọn. Gọi O là tâm đường tròn ngoại tiếp tam giác ABC. Phát biểu nào sau đây là đúng?A. O là giao điểm ba đường cao.B. O là giao điểm ba đường trung tuyến.C. O là giao điểm ba đường trung trực.D. O là giao điểm ba đường phân giác.**Phần 2: Giao bài tập về nhà (4 phút)**Các em ghi chép bài tập về nhà sau:1. Cho tam giác đều ABC cạnh a. Tính bán kính đường tròn ngoại tiếp và đường tròn nội tiếp tam giác đó.2. Cho tam giác vuông ABC tại A, có AB = 6cm, AC = 8cm. Tính bán kính đường tròn ngoại tiếp tam giác ABC.'</span>,\n",
       "<span style=\"color: #7fbf7f; text-decoration-color: #7fbf7f\">│   </span><span style=\"color: #008000; text-decoration-color: #008000\">'extension_component'</span>: <span style=\"color: #008000; text-decoration-color: #008000\">'**Bài tập nâng cao (dành cho học sinh khá giỏi):**3. Cho đường tròn (O; R) và dây cung AB không đi qua tâm. Gọi M là trung điểm của AB. Chứng minh OM vuông góc với AB. Từ đó, hãy nêu mối liên hệ giữa đường kính và dây cung.'</span>,\n",
       "<span style=\"color: #7fbf7f; text-decoration-color: #7fbf7f\">│   </span><span style=\"color: #008000; text-decoration-color: #008000\">'answer'</span>: <span style=\"color: #008000; text-decoration-color: #008000\">'C. O là giao điểm ba đường trung trực.'</span>,\n",
       "<span style=\"color: #7fbf7f; text-decoration-color: #7fbf7f\">│   </span><span style=\"color: #008000; text-decoration-color: #008000\">'solution_guide'</span>: <span style=\"color: #800080; text-decoration-color: #800080; font-style: italic\">None</span>,\n",
       "<span style=\"color: #7fbf7f; text-decoration-color: #7fbf7f\">│   </span><span style=\"color: #008000; text-decoration-color: #008000\">'differentiation'</span>: <span style=\"font-weight: bold\">{</span>\n",
       "<span style=\"color: #7fbf7f; text-decoration-color: #7fbf7f\">│   │   </span><span style=\"color: #008000; text-decoration-color: #008000\">'for_struggling_students'</span>: <span style=\"color: #008000; text-decoration-color: #008000\">'Đối với bài kiểm tra nhanh, giáo viên có thể gợi ý hoặc cho phép học sinh xem lại vở ghi nếu cần. Đối với bài tập về nhà, chỉ yêu cầu hoàn thành bài 1 và bài 2 cơ bản. Khuyến khích các em xem lại lý thuyết và ví dụ trong sách giáo khoa.'</span>,\n",
       "<span style=\"color: #7fbf7f; text-decoration-color: #7fbf7f\">│   │   </span><span style=\"color: #008000; text-decoration-color: #008000\">'for_advanced_students'</span>: <span style=\"color: #008000; text-decoration-color: #008000\">'Khuyến khích học sinh làm thêm bài tập nâng cao (bài 3 trong phần mở rộng) và tự tìm hiểu thêm các tính chất đặc biệt của đường tròn hoặc ứng dụng trong thực tế. Có thể giao thêm một bài toán chứng minh nhỏ liên quan đến tâm đường tròn.'</span>\n",
       "<span style=\"color: #7fbf7f; text-decoration-color: #7fbf7f\">│   </span><span style=\"font-weight: bold\">}</span>,\n",
       "<span style=\"color: #7fbf7f; text-decoration-color: #7fbf7f\">│   </span><span style=\"color: #008000; text-decoration-color: #008000\">'question_or_description'</span>: <span style=\"color: #008000; text-decoration-color: #008000\">'**Phần Cốt lõi:**\\n**Phần 1: Kiểm tra nhanh (3 phút)**Chọn đáp án đúng:Cho tam giác ABC có ba góc nhọn. Gọi O là tâm đường tròn ngoại tiếp tam giác ABC. Phát biểu nào sau đây là đúng?A. O là giao điểm ba đường cao.B. O là giao điểm ba đường trung tuyến.C. O là giao điểm ba đường trung trực.D. O là giao điểm ba đường phân giác.**Phần 2: Giao bài tập về nhà (4 phút)**Các em ghi chép bài tập về nhà sau:1. Cho tam giác đều ABC cạnh a. Tính bán kính đường tròn ngoại tiếp và đường tròn nội tiếp tam giác đó.2. Cho tam giác vuông ABC tại A, có AB = 6cm, AC = 8cm. Tính bán kính đường tròn ngoại tiếp tam giác ABC.\\n\\n**Phần Mở rộng (nếu còn thời gian):**\\n**Bài tập nâng cao (dành cho học sinh khá giỏi):**3. Cho đường tròn (O; R) và dây cung AB không đi qua tâm. Gọi M là trung điểm của AB. Chứng minh OM vuông góc với AB. Từ đó, hãy nêu mối liên hệ giữa đường kính và dây cung.'</span>\n",
       "<span style=\"font-weight: bold\">}</span>\n",
       "</pre>\n"
      ],
      "text/plain": [
       "\u001b[1m{\u001b[0m\n",
       "\u001b[2;32m│   \u001b[0m\u001b[32m'activity_name'\u001b[0m: \u001b[32m'Đánh giá nhanh và Giao bài tập về nhà'\u001b[0m,\n",
       "\u001b[2;32m│   \u001b[0m\u001b[32m'question_type'\u001b[0m: \u001b[32m'Trắc nghiệm và Bài tập về nhà'\u001b[0m,\n",
       "\u001b[2;32m│   \u001b[0m\u001b[32m'duration_minutes'\u001b[0m: \u001b[1;36m10\u001b[0m,\n",
       "\u001b[2;32m│   \u001b[0m\u001b[32m'teacher_actions'\u001b[0m: \u001b[1m[\u001b[0m\n",
       "\u001b[2;32m│   │   \u001b[0m\u001b[32m'Phát phiếu bài tập trắc nghiệm nhanh cho học sinh \u001b[0m\u001b[32m(\u001b[0m\u001b[32m1 câu\u001b[0m\u001b[32m)\u001b[0m\u001b[32m.'\u001b[0m,\n",
       "\u001b[2;32m│   │   \u001b[0m\u001b[32m'Yêu cầu học sinh hoàn thành trong 3 phút.'\u001b[0m,\n",
       "\u001b[2;32m│   │   \u001b[0m\u001b[32m'Thu phiếu bài tập để đánh giá nhanh mức độ hiểu bài.'\u001b[0m,\n",
       "\u001b[2;32m│   │   \u001b[0m\u001b[32m'Ghi bảng hoặc chiếu slide các bài tập về nhà \u001b[0m\u001b[32m(\u001b[0m\u001b[32m2 bài cơ bản và 1 bài nâng cao có đánh dấu\u001b[0m\u001b[32m)\u001b[0m\u001b[32m.'\u001b[0m,\n",
       "\u001b[2;32m│   │   \u001b[0m\u001b[32m'Giải thích ngắn gọn yêu cầu của bài tập về nhà.'\u001b[0m,\n",
       "\u001b[2;32m│   │   \u001b[0m\u001b[32m\"Nhắc nhở học sinh chuẩn bị bài mới 'Tứ giác nội tiếp' cho buổi học tiếp theo.\"\u001b[0m\n",
       "\u001b[2;32m│   \u001b[0m\u001b[1m]\u001b[0m,\n",
       "\u001b[2;32m│   \u001b[0m\u001b[32m'core_component'\u001b[0m: \u001b[32m'**Phần 1: Kiểm tra nhanh \u001b[0m\u001b[32m(\u001b[0m\u001b[32m3 phút\u001b[0m\u001b[32m)\u001b[0m\u001b[32m**Chọn đáp án đúng:Cho tam giác ABC có ba góc nhọn. Gọi O là tâm đường tròn ngoại tiếp tam giác ABC. Phát biểu nào sau đây là đúng?A. O là giao điểm ba đường cao.B. O là giao điểm ba đường trung tuyến.C. O là giao điểm ba đường trung trực.D. O là giao điểm ba đường phân giác.**Phần 2: Giao bài tập về nhà \u001b[0m\u001b[32m(\u001b[0m\u001b[32m4 phút\u001b[0m\u001b[32m)\u001b[0m\u001b[32m**Các em ghi chép bài tập về nhà sau:1. Cho tam giác đều ABC cạnh a. Tính bán kính đường tròn ngoại tiếp và đường tròn nội tiếp tam giác đó.2. Cho tam giác vuông ABC tại A, có AB = 6cm, AC = 8cm. Tính bán kính đường tròn ngoại tiếp tam giác ABC.'\u001b[0m,\n",
       "\u001b[2;32m│   \u001b[0m\u001b[32m'extension_component'\u001b[0m: \u001b[32m'**Bài tập nâng cao \u001b[0m\u001b[32m(\u001b[0m\u001b[32mdành cho học sinh khá giỏi\u001b[0m\u001b[32m)\u001b[0m\u001b[32m:**3. Cho đường tròn \u001b[0m\u001b[32m(\u001b[0m\u001b[32mO; R\u001b[0m\u001b[32m)\u001b[0m\u001b[32m và dây cung AB không đi qua tâm. Gọi M là trung điểm của AB. Chứng minh OM vuông góc với AB. Từ đó, hãy nêu mối liên hệ giữa đường kính và dây cung.'\u001b[0m,\n",
       "\u001b[2;32m│   \u001b[0m\u001b[32m'answer'\u001b[0m: \u001b[32m'C. O là giao điểm ba đường trung trực.'\u001b[0m,\n",
       "\u001b[2;32m│   \u001b[0m\u001b[32m'solution_guide'\u001b[0m: \u001b[3;35mNone\u001b[0m,\n",
       "\u001b[2;32m│   \u001b[0m\u001b[32m'differentiation'\u001b[0m: \u001b[1m{\u001b[0m\n",
       "\u001b[2;32m│   │   \u001b[0m\u001b[32m'for_struggling_students'\u001b[0m: \u001b[32m'Đối với bài kiểm tra nhanh, giáo viên có thể gợi ý hoặc cho phép học sinh xem lại vở ghi nếu cần. Đối với bài tập về nhà, chỉ yêu cầu hoàn thành bài 1 và bài 2 cơ bản. Khuyến khích các em xem lại lý thuyết và ví dụ trong sách giáo khoa.'\u001b[0m,\n",
       "\u001b[2;32m│   │   \u001b[0m\u001b[32m'for_advanced_students'\u001b[0m: \u001b[32m'Khuyến khích học sinh làm thêm bài tập nâng cao \u001b[0m\u001b[32m(\u001b[0m\u001b[32mbài 3 trong phần mở rộng\u001b[0m\u001b[32m)\u001b[0m\u001b[32m và tự tìm hiểu thêm các tính chất đặc biệt của đường tròn hoặc ứng dụng trong thực tế. Có thể giao thêm một bài toán chứng minh nhỏ liên quan đến tâm đường tròn.'\u001b[0m\n",
       "\u001b[2;32m│   \u001b[0m\u001b[1m}\u001b[0m,\n",
       "\u001b[2;32m│   \u001b[0m\u001b[32m'question_or_description'\u001b[0m: \u001b[32m'**Phần Cốt lõi:**\\n**Phần 1: Kiểm tra nhanh \u001b[0m\u001b[32m(\u001b[0m\u001b[32m3 phút\u001b[0m\u001b[32m)\u001b[0m\u001b[32m**Chọn đáp án đúng:Cho tam giác ABC có ba góc nhọn. Gọi O là tâm đường tròn ngoại tiếp tam giác ABC. Phát biểu nào sau đây là đúng?A. O là giao điểm ba đường cao.B. O là giao điểm ba đường trung tuyến.C. O là giao điểm ba đường trung trực.D. O là giao điểm ba đường phân giác.**Phần 2: Giao bài tập về nhà \u001b[0m\u001b[32m(\u001b[0m\u001b[32m4 phút\u001b[0m\u001b[32m)\u001b[0m\u001b[32m**Các em ghi chép bài tập về nhà sau:1. Cho tam giác đều ABC cạnh a. Tính bán kính đường tròn ngoại tiếp và đường tròn nội tiếp tam giác đó.2. Cho tam giác vuông ABC tại A, có AB = 6cm, AC = 8cm. Tính bán kính đường tròn ngoại tiếp tam giác ABC.\\n\\n**Phần Mở rộng \u001b[0m\u001b[32m(\u001b[0m\u001b[32mnếu còn thời gian\u001b[0m\u001b[32m)\u001b[0m\u001b[32m:**\\n**Bài tập nâng cao \u001b[0m\u001b[32m(\u001b[0m\u001b[32mdành cho học sinh khá giỏi\u001b[0m\u001b[32m)\u001b[0m\u001b[32m:**3. Cho đường tròn \u001b[0m\u001b[32m(\u001b[0m\u001b[32mO; R\u001b[0m\u001b[32m)\u001b[0m\u001b[32m và dây cung AB không đi qua tâm. Gọi M là trung điểm của AB. Chứng minh OM vuông góc với AB. Từ đó, hãy nêu mối liên hệ giữa đường kính và dây cung.'\u001b[0m\n",
       "\u001b[1m}\u001b[0m\n"
      ]
     },
     "metadata": {},
     "output_type": "display_data"
    },
    {
     "data": {
      "text/html": [
       "<pre style=\"white-space:pre;overflow-x:auto;line-height:normal;font-family:Menlo,'DejaVu Sans Mono',consolas,'Courier New',monospace\">\n",
       "<span style=\"color: #808000; text-decoration-color: #808000; font-weight: bold\">------- Hoàn thành bước: assessment_creator -------</span>\n",
       "</pre>\n"
      ],
      "text/plain": [
       "\n",
       "\u001b[1;33m------- Hoàn thành bước: assessment_creator -------\u001b[0m\n"
      ]
     },
     "metadata": {},
     "output_type": "display_data"
    },
    {
     "data": {
      "text/html": [
       "<pre style=\"white-space:pre;overflow-x:auto;line-height:normal;font-family:Menlo,'DejaVu Sans Mono',consolas,'Courier New',monospace\">\n",
       "<span style=\"color: #008080; text-decoration-color: #008080; font-weight: bold\">&gt;</span> `Agent: Time-Budget Advisor` <span style=\"font-weight: bold\">(</span>v9.<span style=\"color: #008080; text-decoration-color: #008080; font-weight: bold\">7</span><span style=\"font-weight: bold\">)</span> đang phản biện nội dung và ngân sách thời gian<span style=\"color: #808000; text-decoration-color: #808000\">...</span>\n",
       "</pre>\n"
      ],
      "text/plain": [
       "\n",
       "\u001b[1;36m>\u001b[0m `Agent: Time-Budget Advisor` \u001b[1m(\u001b[0mv9.\u001b[1;36m7\u001b[0m\u001b[1m)\u001b[0m đang phản biện nội dung và ngân sách thời gian\u001b[33m...\u001b[0m\n"
      ]
     },
     "metadata": {},
     "output_type": "display_data"
    },
    {
     "data": {
      "text/html": [
       "<pre style=\"white-space:pre;overflow-x:auto;line-height:normal;font-family:Menlo,'DejaVu Sans Mono',consolas,'Courier New',monospace\"><span style=\"color: #808000; text-decoration-color: #808000; font-weight: bold\">⚠️  CỐ VẤN PHẢN BIỆN: Lỗi phân bổ ngân sách! Thời gian đề xuất (</span><span style=\"color: #808000; text-decoration-color: #808000; font-weight: bold\">10</span><span style=\"color: #808000; text-decoration-color: #808000; font-weight: bold\"> phút) chiếm trọn thời gian còn lại của buổi học </span>\n",
       "<span style=\"color: #808000; text-decoration-color: #808000; font-weight: bold\">(</span><span style=\"color: #808000; text-decoration-color: #808000; font-weight: bold\">10</span><span style=\"color: #808000; text-decoration-color: #808000; font-weight: bold\"> phút). Mặc dù thời lượng khớp với ngân sách, nhưng khối lượng công việc được mô tả trong </span><span style=\"color: #808000; text-decoration-color: #808000; font-weight: bold\">10</span><span style=\"color: #808000; text-decoration-color: #808000; font-weight: bold\"> phút này (bao gồm </span>\n",
       "<span style=\"color: #808000; text-decoration-color: #808000; font-weight: bold\">kiểm tra nhanh </span><span style=\"color: #808000; text-decoration-color: #808000; font-weight: bold\">1</span><span style=\"color: #808000; text-decoration-color: #808000; font-weight: bold\"> câu, thu bài, giao </span><span style=\"color: #808000; text-decoration-color: #808000; font-weight: bold\">3</span><span style=\"color: #808000; text-decoration-color: #808000; font-weight: bold\"> bài tập về nhà, giải thích và nhắc nhở) là quá lớn và không thực tế để hoàn </span>\n",
       "<span style=\"color: #808000; text-decoration-color: #808000; font-weight: bold\">thành hiệu quả. Điều này rất dễ dẫn đến việc buổi học bị kéo dài hoặc các hoạt động bị cắt xén, ảnh hưởng đến chất </span>\n",
       "<span style=\"color: #808000; text-decoration-color: #808000; font-weight: bold\">lượng. Cần tinh giản nội dung hoạt động này để đảm bảo có thể hoàn thành trong </span><span style=\"color: #808000; text-decoration-color: #808000; font-weight: bold\">10</span><span style=\"color: #808000; text-decoration-color: #808000; font-weight: bold\"> phút mà vẫn giữ được chất lượng. </span>\n",
       "<span style=\"color: #808000; text-decoration-color: #808000; font-weight: bold\">| SUGGESTED_DURATION: </span><span style=\"color: #808000; text-decoration-color: #808000; font-weight: bold\">10</span>\n",
       "</pre>\n"
      ],
      "text/plain": [
       "\u001b[1;33m⚠️  CỐ VẤN PHẢN BIỆN: Lỗi phân bổ ngân sách! Thời gian đề xuất \u001b[0m\u001b[1;33m(\u001b[0m\u001b[1;33m10\u001b[0m\u001b[1;33m phút\u001b[0m\u001b[1;33m)\u001b[0m\u001b[1;33m chiếm trọn thời gian còn lại của buổi học \u001b[0m\n",
       "\u001b[1;33m(\u001b[0m\u001b[1;33m10\u001b[0m\u001b[1;33m phút\u001b[0m\u001b[1;33m)\u001b[0m\u001b[1;33m. Mặc dù thời lượng khớp với ngân sách, nhưng khối lượng công việc được mô tả trong \u001b[0m\u001b[1;33m10\u001b[0m\u001b[1;33m phút này \u001b[0m\u001b[1;33m(\u001b[0m\u001b[1;33mbao gồm \u001b[0m\n",
       "\u001b[1;33mkiểm tra nhanh \u001b[0m\u001b[1;33m1\u001b[0m\u001b[1;33m câu, thu bài, giao \u001b[0m\u001b[1;33m3\u001b[0m\u001b[1;33m bài tập về nhà, giải thích và nhắc nhở\u001b[0m\u001b[1;33m)\u001b[0m\u001b[1;33m là quá lớn và không thực tế để hoàn \u001b[0m\n",
       "\u001b[1;33mthành hiệu quả. Điều này rất dễ dẫn đến việc buổi học bị kéo dài hoặc các hoạt động bị cắt xén, ảnh hưởng đến chất \u001b[0m\n",
       "\u001b[1;33mlượng. Cần tinh giản nội dung hoạt động này để đảm bảo có thể hoàn thành trong \u001b[0m\u001b[1;33m10\u001b[0m\u001b[1;33m phút mà vẫn giữ được chất lượng. \u001b[0m\n",
       "\u001b[1;33m| SUGGESTED_DURATION: \u001b[0m\u001b[1;33m10\u001b[0m\n"
      ]
     },
     "metadata": {},
     "output_type": "display_data"
    },
    {
     "data": {
      "text/html": [
       "<pre style=\"white-space:pre;overflow-x:auto;line-height:normal;font-family:Menlo,'DejaVu Sans Mono',consolas,'Courier New',monospace\">\n",
       "<span style=\"color: #008080; text-decoration-color: #008080; font-weight: bold\">&gt;</span> ROUTER <span style=\"font-weight: bold\">(</span>Validation<span style=\"font-weight: bold\">)</span>: Nội dung bị từ chối. Quay lại để agent chuyên môn THỬ LẠI.\n",
       "</pre>\n"
      ],
      "text/plain": [
       "\n",
       "\u001b[1;36m>\u001b[0m ROUTER \u001b[1m(\u001b[0mValidation\u001b[1m)\u001b[0m: Nội dung bị từ chối. Quay lại để agent chuyên môn THỬ LẠI.\n"
      ]
     },
     "metadata": {},
     "output_type": "display_data"
    },
    {
     "data": {
      "text/html": [
       "<pre style=\"white-space:pre;overflow-x:auto;line-height:normal;font-family:Menlo,'DejaVu Sans Mono',consolas,'Courier New',monospace\">\n",
       "<span style=\"color: #808000; text-decoration-color: #808000; font-weight: bold\">------- Hoàn thành bước: content_validator -------</span>\n",
       "</pre>\n"
      ],
      "text/plain": [
       "\n",
       "\u001b[1;33m------- Hoàn thành bước: content_validator -------\u001b[0m\n"
      ]
     },
     "metadata": {},
     "output_type": "display_data"
    },
    {
     "data": {
      "text/html": [
       "<pre style=\"white-space:pre;overflow-x:auto;line-height:normal;font-family:Menlo,'DejaVu Sans Mono',consolas,'Courier New',monospace\">\n",
       "<span style=\"color: #008080; text-decoration-color: #008080; font-weight: bold\">&gt;</span> `Agent: Task Dispatcher` <span style=\"font-weight: bold\">(</span>v7.<span style=\"color: #008080; text-decoration-color: #008080; font-weight: bold\">1</span><span style=\"font-weight: bold\">)</span> Bắt đầu<span style=\"color: #808000; text-decoration-color: #808000\">...</span>\n",
       "</pre>\n"
      ],
      "text/plain": [
       "\n",
       "\u001b[1;36m>\u001b[0m `Agent: Task Dispatcher` \u001b[1m(\u001b[0mv7.\u001b[1;36m1\u001b[0m\u001b[1m)\u001b[0m Bắt đầu\u001b[33m...\u001b[0m\n"
      ]
     },
     "metadata": {},
     "output_type": "display_data"
    },
    {
     "data": {
      "text/html": [
       "<pre style=\"white-space:pre;overflow-x:auto;line-height:normal;font-family:Menlo,'DejaVu Sans Mono',consolas,'Courier New',monospace\">\n",
       "<span style=\"color: #008080; text-decoration-color: #008080; font-weight: bold\">&gt;</span> --- 🚚 `Dispatcher`: Giao nhiệm vụ cho `assessment_creator`.\n",
       "</pre>\n"
      ],
      "text/plain": [
       "\n",
       "\u001b[1;36m>\u001b[0m --- 🚚 `Dispatcher`: Giao nhiệm vụ cho `assessment_creator`.\n"
      ]
     },
     "metadata": {},
     "output_type": "display_data"
    },
    {
     "data": {
      "text/html": [
       "<pre style=\"white-space:pre;overflow-x:auto;line-height:normal;font-family:Menlo,'DejaVu Sans Mono',consolas,'Courier New',monospace\">\n",
       "<span style=\"color: #808000; text-decoration-color: #808000; font-weight: bold\">------- Hoàn thành bước: task_dispatcher -------</span>\n",
       "</pre>\n"
      ],
      "text/plain": [
       "\n",
       "\u001b[1;33m------- Hoàn thành bước: task_dispatcher -------\u001b[0m\n"
      ]
     },
     "metadata": {},
     "output_type": "display_data"
    },
    {
     "data": {
      "text/html": [
       "<pre style=\"white-space:pre;overflow-x:auto;line-height:normal;font-family:Menlo,'DejaVu Sans Mono',consolas,'Courier New',monospace\">\n",
       "<span style=\"color: #008080; text-decoration-color: #008080; font-weight: bold\">&gt;</span> `Agent: Assessment Creator` <span style=\"font-weight: bold\">(</span>v9.<span style=\"color: #008080; text-decoration-color: #008080; font-weight: bold\">7</span><span style=\"font-weight: bold\">)</span> đang tạo nội dung linh hoạt <span style=\"font-weight: bold\">(</span>Lõi + Mở rộng<span style=\"font-weight: bold\">)</span><span style=\"color: #808000; text-decoration-color: #808000\">...</span>\n",
       "</pre>\n"
      ],
      "text/plain": [
       "\n",
       "\u001b[1;36m>\u001b[0m `Agent: Assessment Creator` \u001b[1m(\u001b[0mv9.\u001b[1;36m7\u001b[0m\u001b[1m)\u001b[0m đang tạo nội dung linh hoạt \u001b[1m(\u001b[0mLõi + Mở rộng\u001b[1m)\u001b[0m\u001b[33m...\u001b[0m\n"
      ]
     },
     "metadata": {},
     "output_type": "display_data"
    },
    {
     "data": {
      "text/html": [
       "<pre style=\"white-space:pre;overflow-x:auto;line-height:normal;font-family:Menlo,'DejaVu Sans Mono',consolas,'Courier New',monospace\"><span style=\"color: #008000; text-decoration-color: #008000; font-weight: bold\">✔️ Nội dung do Assessment Creator tạo ra (Linh hoạt):</span>\n",
       "</pre>\n"
      ],
      "text/plain": [
       "\u001b[1;32m✔️ Nội dung do Assessment Creator tạo ra \u001b[0m\u001b[1;32m(\u001b[0m\u001b[1;32mLinh hoạt\u001b[0m\u001b[1;32m)\u001b[0m\u001b[1;32m:\u001b[0m\n"
      ]
     },
     "metadata": {},
     "output_type": "display_data"
    },
    {
     "data": {
      "text/html": [
       "<pre style=\"white-space:pre;overflow-x:auto;line-height:normal;font-family:Menlo,'DejaVu Sans Mono',consolas,'Courier New',monospace\"><span style=\"font-weight: bold\">{</span>\n",
       "<span style=\"color: #7fbf7f; text-decoration-color: #7fbf7f\">│   </span><span style=\"color: #008000; text-decoration-color: #008000\">'activity_name'</span>: <span style=\"color: #008000; text-decoration-color: #008000\">'Đánh giá và Giao nhiệm vụ về nhà'</span>,\n",
       "<span style=\"color: #7fbf7f; text-decoration-color: #7fbf7f\">│   </span><span style=\"color: #008000; text-decoration-color: #008000\">'question_type'</span>: <span style=\"color: #008000; text-decoration-color: #008000\">'Điền khuyết'</span>,\n",
       "<span style=\"color: #7fbf7f; text-decoration-color: #7fbf7f\">│   </span><span style=\"color: #008000; text-decoration-color: #008000\">'duration_minutes'</span>: <span style=\"color: #008080; text-decoration-color: #008080; font-weight: bold\">10</span>,\n",
       "<span style=\"color: #7fbf7f; text-decoration-color: #7fbf7f\">│   </span><span style=\"color: #008000; text-decoration-color: #008000\">'teacher_actions'</span>: <span style=\"font-weight: bold\">[</span>\n",
       "<span style=\"color: #7fbf7f; text-decoration-color: #7fbf7f\">│   │   </span><span style=\"color: #008000; text-decoration-color: #008000\">'Phát phiếu bài tập kiểm tra nhanh (2 câu điền khuyết) cho học sinh.'</span>,\n",
       "<span style=\"color: #7fbf7f; text-decoration-color: #7fbf7f\">│   │   </span><span style=\"color: #008000; text-decoration-color: #008000\">'Yêu cầu học sinh hoàn thành bài trong 4 phút.'</span>,\n",
       "<span style=\"color: #7fbf7f; text-decoration-color: #7fbf7f\">│   │   </span><span style=\"color: #008000; text-decoration-color: #008000\">'Thu phiếu bài tập để đánh giá nhanh mức độ hiểu bài của học sinh.'</span>,\n",
       "<span style=\"color: #7fbf7f; text-decoration-color: #7fbf7f\">│   │   </span><span style=\"color: #008000; text-decoration-color: #008000\">'Giao bài tập về nhà: Yêu cầu học sinh hoàn thành các bài tập 1, 2, 3 (dạng cơ bản) trong sách giáo khoa hoặc phiếu bài tập đã phát.'</span>,\n",
       "<span style=\"color: #7fbf7f; text-decoration-color: #7fbf7f\">│   │   </span><span style=\"color: #008000; text-decoration-color: #008000\">'Nhắc nhở học sinh khá giỏi làm thêm bài tập 4* (nâng cao) đã được đánh dấu.'</span>,\n",
       "<span style=\"color: #7fbf7f; text-decoration-color: #7fbf7f\">│   │   </span><span style=\"color: #008000; text-decoration-color: #008000\">\"Nhắc nhở học sinh xem trước bài 'Tứ giác nội tiếp' cho buổi học tiếp theo.\"</span>\n",
       "<span style=\"color: #7fbf7f; text-decoration-color: #7fbf7f\">│   </span><span style=\"font-weight: bold\">]</span>,\n",
       "<span style=\"color: #7fbf7f; text-decoration-color: #7fbf7f\">│   </span><span style=\"color: #008000; text-decoration-color: #008000\">'core_component'</span>: <span style=\"color: #008000; text-decoration-color: #008000\">'Hoàn thành các câu sau:\\n1. Đường tròn đi qua ba đỉnh của tam giác ABC được gọi là đường tròn ____________ tam giác ABC. Tâm của đường tròn này là giao điểm của ba đường ____________ của tam giác.\\n2. Đường tròn tiếp xúc với ba cạnh của tam giác ABC được gọi là đường tròn ____________ tam giác ABC. Tâm của đường tròn này là giao điểm của ba đường ____________ của tam giác.'</span>,\n",
       "<span style=\"color: #7fbf7f; text-decoration-color: #7fbf7f\">│   </span><span style=\"color: #008000; text-decoration-color: #008000\">'extension_component'</span>: <span style=\"color: #008000; text-decoration-color: #008000\">'Đối với học sinh hoàn thành nhanh bài kiểm tra, có thể yêu cầu các em suy nghĩ về một ứng dụng thực tế của đường tròn ngoại tiếp hoặc nội tiếp trong đời sống.'</span>,\n",
       "<span style=\"color: #7fbf7f; text-decoration-color: #7fbf7f\">│   </span><span style=\"color: #008000; text-decoration-color: #008000\">'answer'</span>: <span style=\"color: #008000; text-decoration-color: #008000\">'1. ngoại tiếp; trung trực. 2. nội tiếp; phân giác.'</span>,\n",
       "<span style=\"color: #7fbf7f; text-decoration-color: #7fbf7f\">│   </span><span style=\"color: #008000; text-decoration-color: #008000\">'solution_guide'</span>: <span style=\"color: #800080; text-decoration-color: #800080; font-style: italic\">None</span>,\n",
       "<span style=\"color: #7fbf7f; text-decoration-color: #7fbf7f\">│   </span><span style=\"color: #008000; text-decoration-color: #008000\">'differentiation'</span>: <span style=\"font-weight: bold\">{</span>\n",
       "<span style=\"color: #7fbf7f; text-decoration-color: #7fbf7f\">│   │   </span><span style=\"color: #008000; text-decoration-color: #008000\">'for_struggling_students'</span>: <span style=\"color: #008000; text-decoration-color: #008000\">'Trong quá trình làm bài kiểm tra nhanh, giáo viên có thể đi quanh lớp, gợi ý nhẹ nhàng hoặc nhắc lại định nghĩa nếu học sinh gặp khó khăn. Bài tập về nhà cho nhóm này sẽ tập trung vào các bài cơ bản, có thể có thêm bài tập tương tự ví dụ đã chữa trên lớp.'</span>,\n",
       "<span style=\"color: #7fbf7f; text-decoration-color: #7fbf7f\">│   │   </span><span style=\"color: #008000; text-decoration-color: #008000\">'for_advanced_students'</span>: <span style=\"color: #008000; text-decoration-color: #008000\">'Bài tập về nhà có thêm bài tập nâng cao (bài 4*) yêu cầu vận dụng tổng hợp kiến thức hoặc chứng minh tính chất. Khuyến khích các em tự tìm hiểu thêm về các trường hợp đặc biệt của đường tròn ngoại tiếp/nội tiếp (ví dụ: tam giác vuông, tam giác đều).'</span>\n",
       "<span style=\"color: #7fbf7f; text-decoration-color: #7fbf7f\">│   </span><span style=\"font-weight: bold\">}</span>,\n",
       "<span style=\"color: #7fbf7f; text-decoration-color: #7fbf7f\">│   </span><span style=\"color: #008000; text-decoration-color: #008000\">'question_or_description'</span>: <span style=\"color: #008000; text-decoration-color: #008000\">'**Phần Cốt lõi:**\\nHoàn thành các câu sau:\\n1. Đường tròn đi qua ba đỉnh của tam giác ABC được gọi là đường tròn ____________ tam giác ABC. Tâm của đường tròn này là giao điểm của ba đường ____________ của tam giác.\\n2. Đường tròn tiếp xúc với ba cạnh của tam giác ABC được gọi là đường tròn ____________ tam giác ABC. Tâm của đường tròn này là giao điểm của ba đường ____________ của tam giác.\\n\\n**Phần Mở rộng (nếu còn thời gian):**\\nĐối với học sinh hoàn thành nhanh bài kiểm tra, có thể yêu cầu các em suy nghĩ về một ứng dụng thực tế của đường tròn ngoại tiếp hoặc nội tiếp trong đời sống.'</span>\n",
       "<span style=\"font-weight: bold\">}</span>\n",
       "</pre>\n"
      ],
      "text/plain": [
       "\u001b[1m{\u001b[0m\n",
       "\u001b[2;32m│   \u001b[0m\u001b[32m'activity_name'\u001b[0m: \u001b[32m'Đánh giá và Giao nhiệm vụ về nhà'\u001b[0m,\n",
       "\u001b[2;32m│   \u001b[0m\u001b[32m'question_type'\u001b[0m: \u001b[32m'Điền khuyết'\u001b[0m,\n",
       "\u001b[2;32m│   \u001b[0m\u001b[32m'duration_minutes'\u001b[0m: \u001b[1;36m10\u001b[0m,\n",
       "\u001b[2;32m│   \u001b[0m\u001b[32m'teacher_actions'\u001b[0m: \u001b[1m[\u001b[0m\n",
       "\u001b[2;32m│   │   \u001b[0m\u001b[32m'Phát phiếu bài tập kiểm tra nhanh \u001b[0m\u001b[32m(\u001b[0m\u001b[32m2 câu điền khuyết\u001b[0m\u001b[32m)\u001b[0m\u001b[32m cho học sinh.'\u001b[0m,\n",
       "\u001b[2;32m│   │   \u001b[0m\u001b[32m'Yêu cầu học sinh hoàn thành bài trong 4 phút.'\u001b[0m,\n",
       "\u001b[2;32m│   │   \u001b[0m\u001b[32m'Thu phiếu bài tập để đánh giá nhanh mức độ hiểu bài của học sinh.'\u001b[0m,\n",
       "\u001b[2;32m│   │   \u001b[0m\u001b[32m'Giao bài tập về nhà: Yêu cầu học sinh hoàn thành các bài tập 1, 2, 3 \u001b[0m\u001b[32m(\u001b[0m\u001b[32mdạng cơ bản\u001b[0m\u001b[32m)\u001b[0m\u001b[32m trong sách giáo khoa hoặc phiếu bài tập đã phát.'\u001b[0m,\n",
       "\u001b[2;32m│   │   \u001b[0m\u001b[32m'Nhắc nhở học sinh khá giỏi làm thêm bài tập 4* \u001b[0m\u001b[32m(\u001b[0m\u001b[32mnâng cao\u001b[0m\u001b[32m)\u001b[0m\u001b[32m đã được đánh dấu.'\u001b[0m,\n",
       "\u001b[2;32m│   │   \u001b[0m\u001b[32m\"Nhắc nhở học sinh xem trước bài 'Tứ giác nội tiếp' cho buổi học tiếp theo.\"\u001b[0m\n",
       "\u001b[2;32m│   \u001b[0m\u001b[1m]\u001b[0m,\n",
       "\u001b[2;32m│   \u001b[0m\u001b[32m'core_component'\u001b[0m: \u001b[32m'Hoàn thành các câu sau:\\n1. Đường tròn đi qua ba đỉnh của tam giác ABC được gọi là đường tròn ____________ tam giác ABC. Tâm của đường tròn này là giao điểm của ba đường ____________ của tam giác.\\n2. Đường tròn tiếp xúc với ba cạnh của tam giác ABC được gọi là đường tròn ____________ tam giác ABC. Tâm của đường tròn này là giao điểm của ba đường ____________ của tam giác.'\u001b[0m,\n",
       "\u001b[2;32m│   \u001b[0m\u001b[32m'extension_component'\u001b[0m: \u001b[32m'Đối với học sinh hoàn thành nhanh bài kiểm tra, có thể yêu cầu các em suy nghĩ về một ứng dụng thực tế của đường tròn ngoại tiếp hoặc nội tiếp trong đời sống.'\u001b[0m,\n",
       "\u001b[2;32m│   \u001b[0m\u001b[32m'answer'\u001b[0m: \u001b[32m'1. ngoại tiếp; trung trực. 2. nội tiếp; phân giác.'\u001b[0m,\n",
       "\u001b[2;32m│   \u001b[0m\u001b[32m'solution_guide'\u001b[0m: \u001b[3;35mNone\u001b[0m,\n",
       "\u001b[2;32m│   \u001b[0m\u001b[32m'differentiation'\u001b[0m: \u001b[1m{\u001b[0m\n",
       "\u001b[2;32m│   │   \u001b[0m\u001b[32m'for_struggling_students'\u001b[0m: \u001b[32m'Trong quá trình làm bài kiểm tra nhanh, giáo viên có thể đi quanh lớp, gợi ý nhẹ nhàng hoặc nhắc lại định nghĩa nếu học sinh gặp khó khăn. Bài tập về nhà cho nhóm này sẽ tập trung vào các bài cơ bản, có thể có thêm bài tập tương tự ví dụ đã chữa trên lớp.'\u001b[0m,\n",
       "\u001b[2;32m│   │   \u001b[0m\u001b[32m'for_advanced_students'\u001b[0m: \u001b[32m'Bài tập về nhà có thêm bài tập nâng cao \u001b[0m\u001b[32m(\u001b[0m\u001b[32mbài 4*\u001b[0m\u001b[32m)\u001b[0m\u001b[32m yêu cầu vận dụng tổng hợp kiến thức hoặc chứng minh tính chất. Khuyến khích các em tự tìm hiểu thêm về các trường hợp đặc biệt của đường tròn ngoại tiếp/nội tiếp \u001b[0m\u001b[32m(\u001b[0m\u001b[32mví dụ: tam giác vuông, tam giác đều\u001b[0m\u001b[32m)\u001b[0m\u001b[32m.'\u001b[0m\n",
       "\u001b[2;32m│   \u001b[0m\u001b[1m}\u001b[0m,\n",
       "\u001b[2;32m│   \u001b[0m\u001b[32m'question_or_description'\u001b[0m: \u001b[32m'**Phần Cốt lõi:**\\nHoàn thành các câu sau:\\n1. Đường tròn đi qua ba đỉnh của tam giác ABC được gọi là đường tròn ____________ tam giác ABC. Tâm của đường tròn này là giao điểm của ba đường ____________ của tam giác.\\n2. Đường tròn tiếp xúc với ba cạnh của tam giác ABC được gọi là đường tròn ____________ tam giác ABC. Tâm của đường tròn này là giao điểm của ba đường ____________ của tam giác.\\n\\n**Phần Mở rộng \u001b[0m\u001b[32m(\u001b[0m\u001b[32mnếu còn thời gian\u001b[0m\u001b[32m)\u001b[0m\u001b[32m:**\\nĐối với học sinh hoàn thành nhanh bài kiểm tra, có thể yêu cầu các em suy nghĩ về một ứng dụng thực tế của đường tròn ngoại tiếp hoặc nội tiếp trong đời sống.'\u001b[0m\n",
       "\u001b[1m}\u001b[0m\n"
      ]
     },
     "metadata": {},
     "output_type": "display_data"
    },
    {
     "data": {
      "text/html": [
       "<pre style=\"white-space:pre;overflow-x:auto;line-height:normal;font-family:Menlo,'DejaVu Sans Mono',consolas,'Courier New',monospace\">\n",
       "<span style=\"color: #808000; text-decoration-color: #808000; font-weight: bold\">------- Hoàn thành bước: assessment_creator -------</span>\n",
       "</pre>\n"
      ],
      "text/plain": [
       "\n",
       "\u001b[1;33m------- Hoàn thành bước: assessment_creator -------\u001b[0m\n"
      ]
     },
     "metadata": {},
     "output_type": "display_data"
    },
    {
     "data": {
      "text/html": [
       "<pre style=\"white-space:pre;overflow-x:auto;line-height:normal;font-family:Menlo,'DejaVu Sans Mono',consolas,'Courier New',monospace\">\n",
       "<span style=\"color: #008080; text-decoration-color: #008080; font-weight: bold\">&gt;</span> `Agent: Time-Budget Advisor` <span style=\"font-weight: bold\">(</span>v9.<span style=\"color: #008080; text-decoration-color: #008080; font-weight: bold\">7</span><span style=\"font-weight: bold\">)</span> đang phản biện nội dung và ngân sách thời gian<span style=\"color: #808000; text-decoration-color: #808000\">...</span>\n",
       "</pre>\n"
      ],
      "text/plain": [
       "\n",
       "\u001b[1;36m>\u001b[0m `Agent: Time-Budget Advisor` \u001b[1m(\u001b[0mv9.\u001b[1;36m7\u001b[0m\u001b[1m)\u001b[0m đang phản biện nội dung và ngân sách thời gian\u001b[33m...\u001b[0m\n"
      ]
     },
     "metadata": {},
     "output_type": "display_data"
    },
    {
     "data": {
      "text/html": [
       "<pre style=\"white-space:pre;overflow-x:auto;line-height:normal;font-family:Menlo,'DejaVu Sans Mono',consolas,'Courier New',monospace\"><span style=\"color: #808000; text-decoration-color: #808000; font-weight: bold\">⚠️  CỐ VẤN PHẢN BIỆN: Lỗi phân bổ ngân sách! Thời gian đề xuất (</span><span style=\"color: #808000; text-decoration-color: #808000; font-weight: bold\">10</span><span style=\"color: #808000; text-decoration-color: #808000; font-weight: bold\"> phút) quá lớn so với thời gian còn lại (</span><span style=\"color: #808000; text-decoration-color: #808000; font-weight: bold\">10</span><span style=\"color: #808000; text-decoration-color: #808000; font-weight: bold\"> phút).</span>\n",
       "<span style=\"color: #808000; text-decoration-color: #808000; font-weight: bold\">Hoạt động này chiếm trọn vẹn thời gian còn lại, không để lại khoảng trống cho việc chuyển tiếp hoặc các hoạt động </span>\n",
       "<span style=\"color: #808000; text-decoration-color: #808000; font-weight: bold\">kết thúc buổi học khác (như dặn dò chung, thu dọn). Cần thiết kế lại hoạt động này trong khoảng </span><span style=\"color: #808000; text-decoration-color: #808000; font-weight: bold\">8</span><span style=\"color: #808000; text-decoration-color: #808000; font-weight: bold\"> phút để đảm bảo </span>\n",
       "<span style=\"color: #808000; text-decoration-color: #808000; font-weight: bold\">tiến độ và có thời gian đệm hợp lý cho buổi học. | SUGGESTED_DURATION: </span><span style=\"color: #808000; text-decoration-color: #808000; font-weight: bold\">8</span>\n",
       "</pre>\n"
      ],
      "text/plain": [
       "\u001b[1;33m⚠️  CỐ VẤN PHẢN BIỆN: Lỗi phân bổ ngân sách! Thời gian đề xuất \u001b[0m\u001b[1;33m(\u001b[0m\u001b[1;33m10\u001b[0m\u001b[1;33m phút\u001b[0m\u001b[1;33m)\u001b[0m\u001b[1;33m quá lớn so với thời gian còn lại \u001b[0m\u001b[1;33m(\u001b[0m\u001b[1;33m10\u001b[0m\u001b[1;33m phút\u001b[0m\u001b[1;33m)\u001b[0m\u001b[1;33m.\u001b[0m\n",
       "\u001b[1;33mHoạt động này chiếm trọn vẹn thời gian còn lại, không để lại khoảng trống cho việc chuyển tiếp hoặc các hoạt động \u001b[0m\n",
       "\u001b[1;33mkết thúc buổi học khác \u001b[0m\u001b[1;33m(\u001b[0m\u001b[1;33mnhư dặn dò chung, thu dọn\u001b[0m\u001b[1;33m)\u001b[0m\u001b[1;33m. Cần thiết kế lại hoạt động này trong khoảng \u001b[0m\u001b[1;33m8\u001b[0m\u001b[1;33m phút để đảm bảo \u001b[0m\n",
       "\u001b[1;33mtiến độ và có thời gian đệm hợp lý cho buổi học. | SUGGESTED_DURATION: \u001b[0m\u001b[1;33m8\u001b[0m\n"
      ]
     },
     "metadata": {},
     "output_type": "display_data"
    },
    {
     "data": {
      "text/html": [
       "<pre style=\"white-space:pre;overflow-x:auto;line-height:normal;font-family:Menlo,'DejaVu Sans Mono',consolas,'Courier New',monospace\">\n",
       "<span style=\"color: #008080; text-decoration-color: #008080; font-weight: bold\">&gt;</span> ROUTER <span style=\"font-weight: bold\">(</span>Validation<span style=\"font-weight: bold\">)</span>: Nội dung bị từ chối. Quay lại để agent chuyên môn THỬ LẠI.\n",
       "</pre>\n"
      ],
      "text/plain": [
       "\n",
       "\u001b[1;36m>\u001b[0m ROUTER \u001b[1m(\u001b[0mValidation\u001b[1m)\u001b[0m: Nội dung bị từ chối. Quay lại để agent chuyên môn THỬ LẠI.\n"
      ]
     },
     "metadata": {},
     "output_type": "display_data"
    },
    {
     "data": {
      "text/html": [
       "<pre style=\"white-space:pre;overflow-x:auto;line-height:normal;font-family:Menlo,'DejaVu Sans Mono',consolas,'Courier New',monospace\">\n",
       "<span style=\"color: #808000; text-decoration-color: #808000; font-weight: bold\">------- Hoàn thành bước: content_validator -------</span>\n",
       "</pre>\n"
      ],
      "text/plain": [
       "\n",
       "\u001b[1;33m------- Hoàn thành bước: content_validator -------\u001b[0m\n"
      ]
     },
     "metadata": {},
     "output_type": "display_data"
    },
    {
     "data": {
      "text/html": [
       "<pre style=\"white-space:pre;overflow-x:auto;line-height:normal;font-family:Menlo,'DejaVu Sans Mono',consolas,'Courier New',monospace\">\n",
       "<span style=\"color: #008080; text-decoration-color: #008080; font-weight: bold\">&gt;</span> `Agent: Task Dispatcher` <span style=\"font-weight: bold\">(</span>v7.<span style=\"color: #008080; text-decoration-color: #008080; font-weight: bold\">1</span><span style=\"font-weight: bold\">)</span> Bắt đầu<span style=\"color: #808000; text-decoration-color: #808000\">...</span>\n",
       "</pre>\n"
      ],
      "text/plain": [
       "\n",
       "\u001b[1;36m>\u001b[0m `Agent: Task Dispatcher` \u001b[1m(\u001b[0mv7.\u001b[1;36m1\u001b[0m\u001b[1m)\u001b[0m Bắt đầu\u001b[33m...\u001b[0m\n"
      ]
     },
     "metadata": {},
     "output_type": "display_data"
    },
    {
     "data": {
      "text/html": [
       "<pre style=\"white-space:pre;overflow-x:auto;line-height:normal;font-family:Menlo,'DejaVu Sans Mono',consolas,'Courier New',monospace\">\n",
       "<span style=\"color: #008080; text-decoration-color: #008080; font-weight: bold\">&gt;</span> --- 🚚 `Dispatcher`: Giao nhiệm vụ cho `assessment_creator`.\n",
       "</pre>\n"
      ],
      "text/plain": [
       "\n",
       "\u001b[1;36m>\u001b[0m --- 🚚 `Dispatcher`: Giao nhiệm vụ cho `assessment_creator`.\n"
      ]
     },
     "metadata": {},
     "output_type": "display_data"
    },
    {
     "data": {
      "text/html": [
       "<pre style=\"white-space:pre;overflow-x:auto;line-height:normal;font-family:Menlo,'DejaVu Sans Mono',consolas,'Courier New',monospace\">\n",
       "<span style=\"color: #808000; text-decoration-color: #808000; font-weight: bold\">------- Hoàn thành bước: task_dispatcher -------</span>\n",
       "</pre>\n"
      ],
      "text/plain": [
       "\n",
       "\u001b[1;33m------- Hoàn thành bước: task_dispatcher -------\u001b[0m\n"
      ]
     },
     "metadata": {},
     "output_type": "display_data"
    },
    {
     "data": {
      "text/html": [
       "<pre style=\"white-space:pre;overflow-x:auto;line-height:normal;font-family:Menlo,'DejaVu Sans Mono',consolas,'Courier New',monospace\">\n",
       "<span style=\"color: #008080; text-decoration-color: #008080; font-weight: bold\">&gt;</span> `Agent: Assessment Creator` <span style=\"font-weight: bold\">(</span>v9.<span style=\"color: #008080; text-decoration-color: #008080; font-weight: bold\">7</span><span style=\"font-weight: bold\">)</span> đang tạo nội dung linh hoạt <span style=\"font-weight: bold\">(</span>Lõi + Mở rộng<span style=\"font-weight: bold\">)</span><span style=\"color: #808000; text-decoration-color: #808000\">...</span>\n",
       "</pre>\n"
      ],
      "text/plain": [
       "\n",
       "\u001b[1;36m>\u001b[0m `Agent: Assessment Creator` \u001b[1m(\u001b[0mv9.\u001b[1;36m7\u001b[0m\u001b[1m)\u001b[0m đang tạo nội dung linh hoạt \u001b[1m(\u001b[0mLõi + Mở rộng\u001b[1m)\u001b[0m\u001b[33m...\u001b[0m\n"
      ]
     },
     "metadata": {},
     "output_type": "display_data"
    },
    {
     "data": {
      "text/html": [
       "<pre style=\"white-space:pre;overflow-x:auto;line-height:normal;font-family:Menlo,'DejaVu Sans Mono',consolas,'Courier New',monospace\"><span style=\"color: #008000; text-decoration-color: #008000; font-weight: bold\">✔️ Nội dung do Assessment Creator tạo ra (Linh hoạt):</span>\n",
       "</pre>\n"
      ],
      "text/plain": [
       "\u001b[1;32m✔️ Nội dung do Assessment Creator tạo ra \u001b[0m\u001b[1;32m(\u001b[0m\u001b[1;32mLinh hoạt\u001b[0m\u001b[1;32m)\u001b[0m\u001b[1;32m:\u001b[0m\n"
      ]
     },
     "metadata": {},
     "output_type": "display_data"
    },
    {
     "data": {
      "text/html": [
       "<pre style=\"white-space:pre;overflow-x:auto;line-height:normal;font-family:Menlo,'DejaVu Sans Mono',consolas,'Courier New',monospace\"><span style=\"font-weight: bold\">{</span>\n",
       "<span style=\"color: #7fbf7f; text-decoration-color: #7fbf7f\">│   </span><span style=\"color: #008000; text-decoration-color: #008000\">'activity_name'</span>: <span style=\"color: #008000; text-decoration-color: #008000\">'Đánh giá và Giao nhiệm vụ về nhà'</span>,\n",
       "<span style=\"color: #7fbf7f; text-decoration-color: #7fbf7f\">│   </span><span style=\"color: #008000; text-decoration-color: #008000\">'question_type'</span>: <span style=\"color: #008000; text-decoration-color: #008000\">'Trắc nghiệm/Điền khuyết'</span>,\n",
       "<span style=\"color: #7fbf7f; text-decoration-color: #7fbf7f\">│   </span><span style=\"color: #008000; text-decoration-color: #008000\">'duration_minutes'</span>: <span style=\"color: #008080; text-decoration-color: #008080; font-weight: bold\">10</span>,\n",
       "<span style=\"color: #7fbf7f; text-decoration-color: #7fbf7f\">│   </span><span style=\"color: #008000; text-decoration-color: #008000\">'teacher_actions'</span>: <span style=\"font-weight: bold\">[</span>\n",
       "<span style=\"color: #7fbf7f; text-decoration-color: #7fbf7f\">│   │   </span><span style=\"color: #008000; text-decoration-color: #008000\">'Phát phiếu bài tập trắc nghiệm/điền khuyết nhanh cho học sinh (khoảng 5 phút để làm bài).'</span>,\n",
       "<span style=\"color: #7fbf7f; text-decoration-color: #7fbf7f\">│   │   </span><span style=\"color: #008000; text-decoration-color: #008000\">'Quan sát học sinh làm bài, hỗ trợ nhanh các em gặp khó khăn.'</span>,\n",
       "<span style=\"color: #7fbf7f; text-decoration-color: #7fbf7f\">│   │   </span><span style=\"color: #008000; text-decoration-color: #008000\">'Thu phiếu học tập nhóm để đánh giá quá trình học tập của nhóm.'</span>,\n",
       "<span style=\"color: #7fbf7f; text-decoration-color: #7fbf7f\">│   │   </span><span style=\"color: #008000; text-decoration-color: #008000\">'Giao bài tập về nhà, hướng dẫn học sinh về các dạng bài đã học và chỉ ra các bài tập nâng cao (có đánh dấu) dành cho học sinh khá giỏi tự luyện tập.'</span>,\n",
       "<span style=\"color: #7fbf7f; text-decoration-color: #7fbf7f\">│   │   </span><span style=\"color: #008000; text-decoration-color: #008000\">'Nhắc nhở học sinh chuẩn bị bài cho buổi học tiếp theo (khoảng 3 phút).'</span>\n",
       "<span style=\"color: #7fbf7f; text-decoration-color: #7fbf7f\">│   </span><span style=\"font-weight: bold\">]</span>,\n",
       "<span style=\"color: #7fbf7f; text-decoration-color: #7fbf7f\">│   </span><span style=\"color: #008000; text-decoration-color: #008000\">'core_component'</span>: <span style=\"color: #008000; text-decoration-color: #008000\">'Hoàn thành bài kiểm tra nhanh (2-3 câu trắc nghiệm/điền khuyết) trong 5 phút:\\n1. Tâm đường tròn ngoại tiếp một tam giác là giao điểm của ba đường gì trong tam giác đó?\\nA. Đường cao B. Đường trung tuyến C. Đường trung trực D. Đường phân giác\\n2. Tâm đường tròn nội tiếp một tam giác là giao điểm của ba đường gì trong tam giác đó?\\nA. Đường cao B. Đường trung tuyến C. Đường trung trực D. Đường phân giác\\n3. Trong một tam giác đều, tâm đường tròn nội tiếp và tâm đường tròn ngoại tiếp có vị trí như thế nào?\\nA. Trùng nhau B. Khác nhau C. Luôn nằm ngoài tam giác D. Luôn nằm trên một cạnh'</span>,\n",
       "<span style=\"color: #7fbf7f; text-decoration-color: #7fbf7f\">│   </span><span style=\"color: #008000; text-decoration-color: #008000\">'extension_component'</span>: <span style=\"color: #008000; text-decoration-color: #008000\">'Bài tập về nhà (dành cho học sinh khá giỏi): Cho tam giác ABC vuông tại A có AB = 6cm, AC = 8cm. Tính bán kính đường tròn ngoại tiếp và bán kính đường tròn nội tiếp tam giác ABC.'</span>,\n",
       "<span style=\"color: #7fbf7f; text-decoration-color: #7fbf7f\">│   </span><span style=\"color: #008000; text-decoration-color: #008000\">'answer'</span>: <span style=\"color: #008000; text-decoration-color: #008000\">'1. C. Đường trung trực; 2. D. Đường phân giác; 3. A. Trùng nhau.'</span>,\n",
       "<span style=\"color: #7fbf7f; text-decoration-color: #7fbf7f\">│   </span><span style=\"color: #008000; text-decoration-color: #008000\">'solution_guide'</span>: <span style=\"color: #008000; text-decoration-color: #008000\">'Đáp án bài kiểm tra nhanh:\\n1. Tâm đường tròn ngoại tiếp tam giác là giao điểm của ba đường trung trực.\\n2. Tâm đường tròn nội tiếp tam giác là giao điểm của ba đường phân giác.\\n3. Trong tam giác đều, tâm đường tròn nội tiếp và ngoại tiếp trùng nhau.\\n\\nHướng dẫn giải bài tập nâng cao:\\n- Bán kính đường tròn ngoại tiếp tam giác vuông: R = cạnh huyền / 2. (Tính BC = 10cm, vậy R = 5cm)\\n- Bán kính đường tròn nội tiếp tam giác vuông: r = (tổng hai cạnh góc vuông - cạnh huyền) / 2. (r = (6+8-10)/2 = 2cm)'</span>,\n",
       "<span style=\"color: #7fbf7f; text-decoration-color: #7fbf7f\">│   </span><span style=\"color: #008000; text-decoration-color: #008000\">'differentiation'</span>: <span style=\"font-weight: bold\">{</span>\n",
       "<span style=\"color: #7fbf7f; text-decoration-color: #7fbf7f\">│   │   </span><span style=\"color: #008000; text-decoration-color: #008000\">'for_struggling_students'</span>: <span style=\"color: #008000; text-decoration-color: #008000\">'Trong quá trình làm bài kiểm tra nhanh, giáo viên có thể gợi ý hoặc nhắc lại định nghĩa cơ bản về tâm đường tròn nội/ngoại tiếp. Đối với bài tập về nhà, chỉ yêu cầu các em hoàn thành các bài tập cơ bản, có thể bỏ qua các bài nâng cao.'</span>,\n",
       "<span style=\"color: #7fbf7f; text-decoration-color: #7fbf7f\">│   │   </span><span style=\"color: #008000; text-decoration-color: #008000\">'for_advanced_students'</span>: <span style=\"color: #008000; text-decoration-color: #008000\">'Khuyến khích học sinh làm thêm bài tập nâng cao (đã đánh dấu trong phiếu bài tập về nhà). Có thể yêu cầu các em giải thích sâu hơn về mối liên hệ giữa các đường đặc biệt trong tam giác và tâm đường tròn nội/ngoại tiếp.'</span>\n",
       "<span style=\"color: #7fbf7f; text-decoration-color: #7fbf7f\">│   </span><span style=\"font-weight: bold\">}</span>,\n",
       "<span style=\"color: #7fbf7f; text-decoration-color: #7fbf7f\">│   </span><span style=\"color: #008000; text-decoration-color: #008000\">'question_or_description'</span>: <span style=\"color: #008000; text-decoration-color: #008000\">'**Phần Cốt lõi:**\\nHoàn thành bài kiểm tra nhanh (2-3 câu trắc nghiệm/điền khuyết) trong 5 phút:\\n1. Tâm đường tròn ngoại tiếp một tam giác là giao điểm của ba đường gì trong tam giác đó?\\nA. Đường cao B. Đường trung tuyến C. Đường trung trực D. Đường phân giác\\n2. Tâm đường tròn nội tiếp một tam giác là giao điểm của ba đường gì trong tam giác đó?\\nA. Đường cao B. Đường trung tuyến C. Đường trung trực D. Đường phân giác\\n3. Trong một tam giác đều, tâm đường tròn nội tiếp và tâm đường tròn ngoại tiếp có vị trí như thế nào?\\nA. Trùng nhau B. Khác nhau C. Luôn nằm ngoài tam giác D. Luôn nằm trên một cạnh\\n\\n**Phần Mở rộng (nếu còn thời gian):**\\nBài tập về nhà (dành cho học sinh khá giỏi): Cho tam giác ABC vuông tại A có AB = 6cm, AC = 8cm. Tính bán kính đường tròn ngoại tiếp và bán kính đường tròn nội tiếp tam giác ABC.'</span>\n",
       "<span style=\"font-weight: bold\">}</span>\n",
       "</pre>\n"
      ],
      "text/plain": [
       "\u001b[1m{\u001b[0m\n",
       "\u001b[2;32m│   \u001b[0m\u001b[32m'activity_name'\u001b[0m: \u001b[32m'Đánh giá và Giao nhiệm vụ về nhà'\u001b[0m,\n",
       "\u001b[2;32m│   \u001b[0m\u001b[32m'question_type'\u001b[0m: \u001b[32m'Trắc nghiệm/Điền khuyết'\u001b[0m,\n",
       "\u001b[2;32m│   \u001b[0m\u001b[32m'duration_minutes'\u001b[0m: \u001b[1;36m10\u001b[0m,\n",
       "\u001b[2;32m│   \u001b[0m\u001b[32m'teacher_actions'\u001b[0m: \u001b[1m[\u001b[0m\n",
       "\u001b[2;32m│   │   \u001b[0m\u001b[32m'Phát phiếu bài tập trắc nghiệm/điền khuyết nhanh cho học sinh \u001b[0m\u001b[32m(\u001b[0m\u001b[32mkhoảng 5 phút để làm bài\u001b[0m\u001b[32m)\u001b[0m\u001b[32m.'\u001b[0m,\n",
       "\u001b[2;32m│   │   \u001b[0m\u001b[32m'Quan sát học sinh làm bài, hỗ trợ nhanh các em gặp khó khăn.'\u001b[0m,\n",
       "\u001b[2;32m│   │   \u001b[0m\u001b[32m'Thu phiếu học tập nhóm để đánh giá quá trình học tập của nhóm.'\u001b[0m,\n",
       "\u001b[2;32m│   │   \u001b[0m\u001b[32m'Giao bài tập về nhà, hướng dẫn học sinh về các dạng bài đã học và chỉ ra các bài tập nâng cao \u001b[0m\u001b[32m(\u001b[0m\u001b[32mcó đánh dấu\u001b[0m\u001b[32m)\u001b[0m\u001b[32m dành cho học sinh khá giỏi tự luyện tập.'\u001b[0m,\n",
       "\u001b[2;32m│   │   \u001b[0m\u001b[32m'Nhắc nhở học sinh chuẩn bị bài cho buổi học tiếp theo \u001b[0m\u001b[32m(\u001b[0m\u001b[32mkhoảng 3 phút\u001b[0m\u001b[32m)\u001b[0m\u001b[32m.'\u001b[0m\n",
       "\u001b[2;32m│   \u001b[0m\u001b[1m]\u001b[0m,\n",
       "\u001b[2;32m│   \u001b[0m\u001b[32m'core_component'\u001b[0m: \u001b[32m'Hoàn thành bài kiểm tra nhanh \u001b[0m\u001b[32m(\u001b[0m\u001b[32m2-3 câu trắc nghiệm/điền khuyết\u001b[0m\u001b[32m)\u001b[0m\u001b[32m trong 5 phút:\\n1. Tâm đường tròn ngoại tiếp một tam giác là giao điểm của ba đường gì trong tam giác đó?\\nA. Đường cao B. Đường trung tuyến C. Đường trung trực D. Đường phân giác\\n2. Tâm đường tròn nội tiếp một tam giác là giao điểm của ba đường gì trong tam giác đó?\\nA. Đường cao B. Đường trung tuyến C. Đường trung trực D. Đường phân giác\\n3. Trong một tam giác đều, tâm đường tròn nội tiếp và tâm đường tròn ngoại tiếp có vị trí như thế nào?\\nA. Trùng nhau B. Khác nhau C. Luôn nằm ngoài tam giác D. Luôn nằm trên một cạnh'\u001b[0m,\n",
       "\u001b[2;32m│   \u001b[0m\u001b[32m'extension_component'\u001b[0m: \u001b[32m'Bài tập về nhà \u001b[0m\u001b[32m(\u001b[0m\u001b[32mdành cho học sinh khá giỏi\u001b[0m\u001b[32m)\u001b[0m\u001b[32m: Cho tam giác ABC vuông tại A có AB = 6cm, AC = 8cm. Tính bán kính đường tròn ngoại tiếp và bán kính đường tròn nội tiếp tam giác ABC.'\u001b[0m,\n",
       "\u001b[2;32m│   \u001b[0m\u001b[32m'answer'\u001b[0m: \u001b[32m'1. C. Đường trung trực; 2. D. Đường phân giác; 3. A. Trùng nhau.'\u001b[0m,\n",
       "\u001b[2;32m│   \u001b[0m\u001b[32m'solution_guide'\u001b[0m: \u001b[32m'Đáp án bài kiểm tra nhanh:\\n1. Tâm đường tròn ngoại tiếp tam giác là giao điểm của ba đường trung trực.\\n2. Tâm đường tròn nội tiếp tam giác là giao điểm của ba đường phân giác.\\n3. Trong tam giác đều, tâm đường tròn nội tiếp và ngoại tiếp trùng nhau.\\n\\nHướng dẫn giải bài tập nâng cao:\\n- Bán kính đường tròn ngoại tiếp tam giác vuông: R = cạnh huyền / 2. \u001b[0m\u001b[32m(\u001b[0m\u001b[32mTính BC = 10cm, vậy R = 5cm\u001b[0m\u001b[32m)\u001b[0m\u001b[32m\\n- Bán kính đường tròn nội tiếp tam giác vuông: r = \u001b[0m\u001b[32m(\u001b[0m\u001b[32mtổng hai cạnh góc vuông - cạnh huyền\u001b[0m\u001b[32m)\u001b[0m\u001b[32m / 2. \u001b[0m\u001b[32m(\u001b[0m\u001b[32mr = \u001b[0m\u001b[32m(\u001b[0m\u001b[32m6+8-10\u001b[0m\u001b[32m)\u001b[0m\u001b[32m/2 = 2cm\u001b[0m\u001b[32m)\u001b[0m\u001b[32m'\u001b[0m,\n",
       "\u001b[2;32m│   \u001b[0m\u001b[32m'differentiation'\u001b[0m: \u001b[1m{\u001b[0m\n",
       "\u001b[2;32m│   │   \u001b[0m\u001b[32m'for_struggling_students'\u001b[0m: \u001b[32m'Trong quá trình làm bài kiểm tra nhanh, giáo viên có thể gợi ý hoặc nhắc lại định nghĩa cơ bản về tâm đường tròn nội/ngoại tiếp. Đối với bài tập về nhà, chỉ yêu cầu các em hoàn thành các bài tập cơ bản, có thể bỏ qua các bài nâng cao.'\u001b[0m,\n",
       "\u001b[2;32m│   │   \u001b[0m\u001b[32m'for_advanced_students'\u001b[0m: \u001b[32m'Khuyến khích học sinh làm thêm bài tập nâng cao \u001b[0m\u001b[32m(\u001b[0m\u001b[32mđã đánh dấu trong phiếu bài tập về nhà\u001b[0m\u001b[32m)\u001b[0m\u001b[32m. Có thể yêu cầu các em giải thích sâu hơn về mối liên hệ giữa các đường đặc biệt trong tam giác và tâm đường tròn nội/ngoại tiếp.'\u001b[0m\n",
       "\u001b[2;32m│   \u001b[0m\u001b[1m}\u001b[0m,\n",
       "\u001b[2;32m│   \u001b[0m\u001b[32m'question_or_description'\u001b[0m: \u001b[32m'**Phần Cốt lõi:**\\nHoàn thành bài kiểm tra nhanh \u001b[0m\u001b[32m(\u001b[0m\u001b[32m2-3 câu trắc nghiệm/điền khuyết\u001b[0m\u001b[32m)\u001b[0m\u001b[32m trong 5 phút:\\n1. Tâm đường tròn ngoại tiếp một tam giác là giao điểm của ba đường gì trong tam giác đó?\\nA. Đường cao B. Đường trung tuyến C. Đường trung trực D. Đường phân giác\\n2. Tâm đường tròn nội tiếp một tam giác là giao điểm của ba đường gì trong tam giác đó?\\nA. Đường cao B. Đường trung tuyến C. Đường trung trực D. Đường phân giác\\n3. Trong một tam giác đều, tâm đường tròn nội tiếp và tâm đường tròn ngoại tiếp có vị trí như thế nào?\\nA. Trùng nhau B. Khác nhau C. Luôn nằm ngoài tam giác D. Luôn nằm trên một cạnh\\n\\n**Phần Mở rộng \u001b[0m\u001b[32m(\u001b[0m\u001b[32mnếu còn thời gian\u001b[0m\u001b[32m)\u001b[0m\u001b[32m:**\\nBài tập về nhà \u001b[0m\u001b[32m(\u001b[0m\u001b[32mdành cho học sinh khá giỏi\u001b[0m\u001b[32m)\u001b[0m\u001b[32m: Cho tam giác ABC vuông tại A có AB = 6cm, AC = 8cm. Tính bán kính đường tròn ngoại tiếp và bán kính đường tròn nội tiếp tam giác ABC.'\u001b[0m\n",
       "\u001b[1m}\u001b[0m\n"
      ]
     },
     "metadata": {},
     "output_type": "display_data"
    },
    {
     "data": {
      "text/html": [
       "<pre style=\"white-space:pre;overflow-x:auto;line-height:normal;font-family:Menlo,'DejaVu Sans Mono',consolas,'Courier New',monospace\">\n",
       "<span style=\"color: #808000; text-decoration-color: #808000; font-weight: bold\">------- Hoàn thành bước: assessment_creator -------</span>\n",
       "</pre>\n"
      ],
      "text/plain": [
       "\n",
       "\u001b[1;33m------- Hoàn thành bước: assessment_creator -------\u001b[0m\n"
      ]
     },
     "metadata": {},
     "output_type": "display_data"
    },
    {
     "data": {
      "text/html": [
       "<pre style=\"white-space:pre;overflow-x:auto;line-height:normal;font-family:Menlo,'DejaVu Sans Mono',consolas,'Courier New',monospace\">\n",
       "<span style=\"color: #008080; text-decoration-color: #008080; font-weight: bold\">&gt;</span> `Agent: Time-Budget Advisor` <span style=\"font-weight: bold\">(</span>v9.<span style=\"color: #008080; text-decoration-color: #008080; font-weight: bold\">7</span><span style=\"font-weight: bold\">)</span> đang phản biện nội dung và ngân sách thời gian<span style=\"color: #808000; text-decoration-color: #808000\">...</span>\n",
       "</pre>\n"
      ],
      "text/plain": [
       "\n",
       "\u001b[1;36m>\u001b[0m `Agent: Time-Budget Advisor` \u001b[1m(\u001b[0mv9.\u001b[1;36m7\u001b[0m\u001b[1m)\u001b[0m đang phản biện nội dung và ngân sách thời gian\u001b[33m...\u001b[0m\n"
      ]
     },
     "metadata": {},
     "output_type": "display_data"
    },
    {
     "data": {
      "text/html": [
       "<pre style=\"white-space:pre;overflow-x:auto;line-height:normal;font-family:Menlo,'DejaVu Sans Mono',consolas,'Courier New',monospace\"><span style=\"color: #808000; text-decoration-color: #808000; font-weight: bold\">⚠️  CỐ VẤN PHẢN BIỆN: [STRUCTURAL_FEEDBACK] Thời gian chưa tối ưu. Hoạt động </span><span style=\"color: #808000; text-decoration-color: #808000; font-weight: bold\">\"Đánh giá và Giao nhiệm vụ về nhà\"</span><span style=\"color: #808000; text-decoration-color: #808000; font-weight: bold\"> được</span>\n",
       "<span style=\"color: #808000; text-decoration-color: #808000; font-weight: bold\">đề xuất </span><span style=\"color: #808000; text-decoration-color: #808000; font-weight: bold\">10</span><span style=\"color: #808000; text-decoration-color: #808000; font-weight: bold\"> phút, trùng khớp với thời gian còn lại của buổi học. Tuy nhiên, việc phân bổ thời gian cho các hoạt động</span>\n",
       "<span style=\"color: #808000; text-decoration-color: #808000; font-weight: bold\">chi tiết bên trong chưa hợp lý. Cụ thể, với </span><span style=\"color: #808000; text-decoration-color: #808000; font-weight: bold\">5</span><span style=\"color: #808000; text-decoration-color: #808000; font-weight: bold\"> phút dành cho học sinh làm bài kiểm tra nhanh và </span><span style=\"color: #808000; text-decoration-color: #808000; font-weight: bold\">3</span><span style=\"color: #808000; text-decoration-color: #808000; font-weight: bold\"> phút cho phần nhắc</span>\n",
       "<span style=\"color: #808000; text-decoration-color: #808000; font-weight: bold\">nhở chuẩn bị bài, chỉ còn lại </span><span style=\"color: #808000; text-decoration-color: #808000; font-weight: bold\">2</span><span style=\"color: #808000; text-decoration-color: #808000; font-weight: bold\"> phút cho giáo viên thực hiện các công việc như phát/thu phiếu, quan sát, hỗ trợ, và</span>\n",
       "<span style=\"color: #808000; text-decoration-color: #808000; font-weight: bold\">đặc biệt là giao bài tập về nhà kèm hướng dẫn chi tiết (bao gồm cả bài nâng cao). Khối lượng công việc này là quá </span>\n",
       "<span style=\"color: #808000; text-decoration-color: #808000; font-weight: bold\">lớn để hoàn thành trong </span><span style=\"color: #808000; text-decoration-color: #808000; font-weight: bold\">2</span><span style=\"color: #808000; text-decoration-color: #808000; font-weight: bold\"> phút còn lại, khiến hoạt động này có nguy cơ vượt quá thời gian cho phép. Cần tinh giản </span>\n",
       "<span style=\"color: #808000; text-decoration-color: #808000; font-weight: bold\">hoặc điều chỉnh lại nội dung để đảm bảo hoạt động có thể hoàn thành hiệu quả trong </span><span style=\"color: #808000; text-decoration-color: #808000; font-weight: bold\">10</span><span style=\"color: #808000; text-decoration-color: #808000; font-weight: bold\"> phút. | SUGGESTED_DURATION: </span>\n",
       "<span style=\"color: #808000; text-decoration-color: #808000; font-weight: bold\">10</span>\n",
       "</pre>\n"
      ],
      "text/plain": [
       "\u001b[1;33m⚠️  CỐ VẤN PHẢN BIỆN: \u001b[0m\u001b[1;33m[\u001b[0m\u001b[1;33mSTRUCTURAL_FEEDBACK\u001b[0m\u001b[1;33m]\u001b[0m\u001b[1;33m Thời gian chưa tối ưu. Hoạt động \u001b[0m\u001b[1;33m\"Đánh giá và Giao nhiệm vụ về nhà\"\u001b[0m\u001b[1;33m được\u001b[0m\n",
       "\u001b[1;33mđề xuất \u001b[0m\u001b[1;33m10\u001b[0m\u001b[1;33m phút, trùng khớp với thời gian còn lại của buổi học. Tuy nhiên, việc phân bổ thời gian cho các hoạt động\u001b[0m\n",
       "\u001b[1;33mchi tiết bên trong chưa hợp lý. Cụ thể, với \u001b[0m\u001b[1;33m5\u001b[0m\u001b[1;33m phút dành cho học sinh làm bài kiểm tra nhanh và \u001b[0m\u001b[1;33m3\u001b[0m\u001b[1;33m phút cho phần nhắc\u001b[0m\n",
       "\u001b[1;33mnhở chuẩn bị bài, chỉ còn lại \u001b[0m\u001b[1;33m2\u001b[0m\u001b[1;33m phút cho giáo viên thực hiện các công việc như phát/thu phiếu, quan sát, hỗ trợ, và\u001b[0m\n",
       "\u001b[1;33mđặc biệt là giao bài tập về nhà kèm hướng dẫn chi tiết \u001b[0m\u001b[1;33m(\u001b[0m\u001b[1;33mbao gồm cả bài nâng cao\u001b[0m\u001b[1;33m)\u001b[0m\u001b[1;33m. Khối lượng công việc này là quá \u001b[0m\n",
       "\u001b[1;33mlớn để hoàn thành trong \u001b[0m\u001b[1;33m2\u001b[0m\u001b[1;33m phút còn lại, khiến hoạt động này có nguy cơ vượt quá thời gian cho phép. Cần tinh giản \u001b[0m\n",
       "\u001b[1;33mhoặc điều chỉnh lại nội dung để đảm bảo hoạt động có thể hoàn thành hiệu quả trong \u001b[0m\u001b[1;33m10\u001b[0m\u001b[1;33m phút. | SUGGESTED_DURATION: \u001b[0m\n",
       "\u001b[1;33m10\u001b[0m\n"
      ]
     },
     "metadata": {},
     "output_type": "display_data"
    },
    {
     "data": {
      "text/html": [
       "<pre style=\"white-space:pre;overflow-x:auto;line-height:normal;font-family:Menlo,'DejaVu Sans Mono',consolas,'Courier New',monospace\">\n",
       "<span style=\"color: #008080; text-decoration-color: #008080; font-weight: bold\">&gt;</span> ROUTER <span style=\"font-weight: bold\">(</span>Validation<span style=\"font-weight: bold\">)</span>: Lỗi cấu trúc, yêu cầu LẬP KẾ HOẠCH LẠI.\n",
       "</pre>\n"
      ],
      "text/plain": [
       "\n",
       "\u001b[1;36m>\u001b[0m ROUTER \u001b[1m(\u001b[0mValidation\u001b[1m)\u001b[0m: Lỗi cấu trúc, yêu cầu LẬP KẾ HOẠCH LẠI.\n"
      ]
     },
     "metadata": {},
     "output_type": "display_data"
    },
    {
     "data": {
      "text/html": [
       "<pre style=\"white-space:pre;overflow-x:auto;line-height:normal;font-family:Menlo,'DejaVu Sans Mono',consolas,'Courier New',monospace\">\n",
       "<span style=\"color: #808000; text-decoration-color: #808000; font-weight: bold\">------- Hoàn thành bước: content_validator -------</span>\n",
       "</pre>\n"
      ],
      "text/plain": [
       "\n",
       "\u001b[1;33m------- Hoàn thành bước: content_validator -------\u001b[0m\n"
      ]
     },
     "metadata": {},
     "output_type": "display_data"
    },
    {
     "data": {
      "text/html": [
       "<pre style=\"white-space:pre;overflow-x:auto;line-height:normal;font-family:Menlo,'DejaVu Sans Mono',consolas,'Courier New',monospace\">\n",
       "<span style=\"color: #008080; text-decoration-color: #008080; font-weight: bold\">&gt;</span> `Node: Task Time Surgeon`  surgically updating task duration<span style=\"color: #808000; text-decoration-color: #808000\">...</span>\n",
       "</pre>\n"
      ],
      "text/plain": [
       "\n",
       "\u001b[1;36m>\u001b[0m `Node: Task Time Surgeon`  surgically updating task duration\u001b[33m...\u001b[0m\n"
      ]
     },
     "metadata": {},
     "output_type": "display_data"
    },
    {
     "data": {
      "text/html": [
       "<pre style=\"white-space:pre;overflow-x:auto;line-height:normal;font-family:Menlo,'DejaVu Sans Mono',consolas,'Courier New',monospace\">\n",
       "<span style=\"color: #008080; text-decoration-color: #008080; font-weight: bold\">&gt;</span> Đã trích xuất thời gian đề xuất: <span style=\"color: #008080; text-decoration-color: #008080; font-weight: bold\">10</span> phút.\n",
       "</pre>\n"
      ],
      "text/plain": [
       "\n",
       "\u001b[1;36m>\u001b[0m Đã trích xuất thời gian đề xuất: \u001b[1;36m10\u001b[0m phút.\n"
      ]
     },
     "metadata": {},
     "output_type": "display_data"
    },
    {
     "data": {
      "text/html": [
       "<pre style=\"white-space:pre;overflow-x:auto;line-height:normal;font-family:Menlo,'DejaVu Sans Mono',consolas,'Courier New',monospace\"><span style=\"color: #008000; text-decoration-color: #008000; font-weight: bold\">✔️ Đã cập nhật thời lượng nhiệm vụ:</span>\n",
       "</pre>\n"
      ],
      "text/plain": [
       "\u001b[1;32m✔️ Đã cập nhật thời lượng nhiệm vụ:\u001b[0m\n"
      ]
     },
     "metadata": {},
     "output_type": "display_data"
    },
    {
     "data": {
      "text/html": [
       "<pre style=\"white-space:pre;overflow-x:auto;line-height:normal;font-family:Menlo,'DejaVu Sans Mono',consolas,'Courier New',monospace\"><span style=\"font-weight: bold\">{</span>\n",
       "<span style=\"color: #7fbf7f; text-decoration-color: #7fbf7f\">│   </span><span style=\"color: #008000; text-decoration-color: #008000\">'task_id'</span>: <span style=\"color: #008080; text-decoration-color: #008080; font-weight: bold\">4</span>,\n",
       "<span style=\"color: #7fbf7f; text-decoration-color: #7fbf7f\">│   </span><span style=\"color: #008000; text-decoration-color: #008000\">'from'</span>: <span style=\"color: #008080; text-decoration-color: #008080; font-weight: bold\">10</span>,\n",
       "<span style=\"color: #7fbf7f; text-decoration-color: #7fbf7f\">│   </span><span style=\"color: #008000; text-decoration-color: #008000\">'to'</span>: <span style=\"color: #008080; text-decoration-color: #008080; font-weight: bold\">10</span>\n",
       "<span style=\"font-weight: bold\">}</span>\n",
       "</pre>\n"
      ],
      "text/plain": [
       "\u001b[1m{\u001b[0m\n",
       "\u001b[2;32m│   \u001b[0m\u001b[32m'task_id'\u001b[0m: \u001b[1;36m4\u001b[0m,\n",
       "\u001b[2;32m│   \u001b[0m\u001b[32m'from'\u001b[0m: \u001b[1;36m10\u001b[0m,\n",
       "\u001b[2;32m│   \u001b[0m\u001b[32m'to'\u001b[0m: \u001b[1;36m10\u001b[0m\n",
       "\u001b[1m}\u001b[0m\n"
      ]
     },
     "metadata": {},
     "output_type": "display_data"
    },
    {
     "data": {
      "text/html": [
       "<pre style=\"white-space:pre;overflow-x:auto;line-height:normal;font-family:Menlo,'DejaVu Sans Mono',consolas,'Courier New',monospace\">\n",
       "<span style=\"color: #808000; text-decoration-color: #808000; font-weight: bold\">------- Hoàn thành bước: update_task_duration -------</span>\n",
       "</pre>\n"
      ],
      "text/plain": [
       "\n",
       "\u001b[1;33m------- Hoàn thành bước: update_task_duration -------\u001b[0m\n"
      ]
     },
     "metadata": {},
     "output_type": "display_data"
    },
    {
     "data": {
      "text/html": [
       "<pre style=\"white-space:pre;overflow-x:auto;line-height:normal;font-family:Menlo,'DejaVu Sans Mono',consolas,'Courier New',monospace\">\n",
       "<span style=\"color: #008080; text-decoration-color: #008080; font-weight: bold\">&gt;</span> `Agent: Task Dispatcher` <span style=\"font-weight: bold\">(</span>v7.<span style=\"color: #008080; text-decoration-color: #008080; font-weight: bold\">1</span><span style=\"font-weight: bold\">)</span> Bắt đầu<span style=\"color: #808000; text-decoration-color: #808000\">...</span>\n",
       "</pre>\n"
      ],
      "text/plain": [
       "\n",
       "\u001b[1;36m>\u001b[0m `Agent: Task Dispatcher` \u001b[1m(\u001b[0mv7.\u001b[1;36m1\u001b[0m\u001b[1m)\u001b[0m Bắt đầu\u001b[33m...\u001b[0m\n"
      ]
     },
     "metadata": {},
     "output_type": "display_data"
    },
    {
     "data": {
      "text/html": [
       "<pre style=\"white-space:pre;overflow-x:auto;line-height:normal;font-family:Menlo,'DejaVu Sans Mono',consolas,'Courier New',monospace\">\n",
       "<span style=\"color: #008080; text-decoration-color: #008080; font-weight: bold\">&gt;</span> --- 🚚 `Dispatcher`: Giao nhiệm vụ cho `assessment_creator`.\n",
       "</pre>\n"
      ],
      "text/plain": [
       "\n",
       "\u001b[1;36m>\u001b[0m --- 🚚 `Dispatcher`: Giao nhiệm vụ cho `assessment_creator`.\n"
      ]
     },
     "metadata": {},
     "output_type": "display_data"
    },
    {
     "data": {
      "text/html": [
       "<pre style=\"white-space:pre;overflow-x:auto;line-height:normal;font-family:Menlo,'DejaVu Sans Mono',consolas,'Courier New',monospace\">\n",
       "<span style=\"color: #808000; text-decoration-color: #808000; font-weight: bold\">------- Hoàn thành bước: task_dispatcher -------</span>\n",
       "</pre>\n"
      ],
      "text/plain": [
       "\n",
       "\u001b[1;33m------- Hoàn thành bước: task_dispatcher -------\u001b[0m\n"
      ]
     },
     "metadata": {},
     "output_type": "display_data"
    },
    {
     "data": {
      "text/html": [
       "<pre style=\"white-space:pre;overflow-x:auto;line-height:normal;font-family:Menlo,'DejaVu Sans Mono',consolas,'Courier New',monospace\">\n",
       "<span style=\"color: #008080; text-decoration-color: #008080; font-weight: bold\">&gt;</span> `Agent: Assessment Creator` <span style=\"font-weight: bold\">(</span>v9.<span style=\"color: #008080; text-decoration-color: #008080; font-weight: bold\">7</span><span style=\"font-weight: bold\">)</span> đang tạo nội dung linh hoạt <span style=\"font-weight: bold\">(</span>Lõi + Mở rộng<span style=\"font-weight: bold\">)</span><span style=\"color: #808000; text-decoration-color: #808000\">...</span>\n",
       "</pre>\n"
      ],
      "text/plain": [
       "\n",
       "\u001b[1;36m>\u001b[0m `Agent: Assessment Creator` \u001b[1m(\u001b[0mv9.\u001b[1;36m7\u001b[0m\u001b[1m)\u001b[0m đang tạo nội dung linh hoạt \u001b[1m(\u001b[0mLõi + Mở rộng\u001b[1m)\u001b[0m\u001b[33m...\u001b[0m\n"
      ]
     },
     "metadata": {},
     "output_type": "display_data"
    },
    {
     "data": {
      "text/html": [
       "<pre style=\"white-space:pre;overflow-x:auto;line-height:normal;font-family:Menlo,'DejaVu Sans Mono',consolas,'Courier New',monospace\"><span style=\"color: #008000; text-decoration-color: #008000; font-weight: bold\">✔️ Nội dung do Assessment Creator tạo ra (Linh hoạt):</span>\n",
       "</pre>\n"
      ],
      "text/plain": [
       "\u001b[1;32m✔️ Nội dung do Assessment Creator tạo ra \u001b[0m\u001b[1;32m(\u001b[0m\u001b[1;32mLinh hoạt\u001b[0m\u001b[1;32m)\u001b[0m\u001b[1;32m:\u001b[0m\n"
      ]
     },
     "metadata": {},
     "output_type": "display_data"
    },
    {
     "data": {
      "text/html": [
       "<pre style=\"white-space:pre;overflow-x:auto;line-height:normal;font-family:Menlo,'DejaVu Sans Mono',consolas,'Courier New',monospace\"><span style=\"font-weight: bold\">{</span>\n",
       "<span style=\"color: #7fbf7f; text-decoration-color: #7fbf7f\">│   </span><span style=\"color: #008000; text-decoration-color: #008000\">'activity_name'</span>: <span style=\"color: #008000; text-decoration-color: #008000\">'Đánh giá và Giao nhiệm vụ về nhà'</span>,\n",
       "<span style=\"color: #7fbf7f; text-decoration-color: #7fbf7f\">│   </span><span style=\"color: #008000; text-decoration-color: #008000\">'question_type'</span>: <span style=\"color: #008000; text-decoration-color: #008000\">'Trắc nghiệm/Điền khuyết'</span>,\n",
       "<span style=\"color: #7fbf7f; text-decoration-color: #7fbf7f\">│   </span><span style=\"color: #008000; text-decoration-color: #008000\">'duration_minutes'</span>: <span style=\"color: #008080; text-decoration-color: #008080; font-weight: bold\">10</span>,\n",
       "<span style=\"color: #7fbf7f; text-decoration-color: #7fbf7f\">│   </span><span style=\"color: #008000; text-decoration-color: #008000\">'teacher_actions'</span>: <span style=\"font-weight: bold\">[</span>\n",
       "<span style=\"color: #7fbf7f; text-decoration-color: #7fbf7f\">│   │   </span><span style=\"color: #008000; text-decoration-color: #008000\">'Phát phiếu bài tập hoặc chiếu câu hỏi lên bảng để học sinh làm bài kiểm tra nhanh (2-3 phút).'</span>,\n",
       "<span style=\"color: #7fbf7f; text-decoration-color: #7fbf7f\">│   │   </span><span style=\"color: #008000; text-decoration-color: #008000\">'Thu phiếu học tập (nếu có) để đánh giá mức độ hiểu bài của học sinh.'</span>,\n",
       "<span style=\"color: #7fbf7f; text-decoration-color: #7fbf7f\">│   │   </span><span style=\"color: #008000; text-decoration-color: #008000\">'Giao bài tập về nhà, hướng dẫn học sinh ghi chép các bài tập cần làm.'</span>,\n",
       "<span style=\"color: #7fbf7f; text-decoration-color: #7fbf7f\">│   │   </span><span style=\"color: #008000; text-decoration-color: #008000\">'Nhắc nhở học sinh chuẩn bị bài cho buổi học tiếp theo.'</span>\n",
       "<span style=\"color: #7fbf7f; text-decoration-color: #7fbf7f\">│   </span><span style=\"font-weight: bold\">]</span>,\n",
       "<span style=\"color: #7fbf7f; text-decoration-color: #7fbf7f\">│   </span><span style=\"color: #008000; text-decoration-color: #008000\">'core_component'</span>: <span style=\"color: #008000; text-decoration-color: #008000\">'Hoàn thành nhanh 2 câu hỏi sau:\\n1. Tâm đường tròn ngoại tiếp tam giác là giao điểm của ba đường nào?\\nA. Đường cao B. Đường trung tuyến C. Đường trung trực D. Đường phân giác\\n2. Tâm đường tròn nội tiếp tam giác là giao điểm của ba đường ______.'</span>,\n",
       "<span style=\"color: #7fbf7f; text-decoration-color: #7fbf7f\">│   </span><span style=\"color: #008000; text-decoration-color: #008000\">'extension_component'</span>: <span style=\"color: #008000; text-decoration-color: #008000\">'Bài tập về nhà:\\n1. Cho tam giác ABC vuông tại A, có AB = 6cm, AC = 8cm. Tính bán kính đường tròn ngoại tiếp tam giác ABC.\\n2. Cho tam giác đều ABC cạnh a. Tính bán kính đường tròn nội tiếp tam giác đó.\\n3. (Nâng cao) Cho tam giác ABC có BC = a, CA = b, AB = c. Chứng minh rằng diện tích tam giác ABC bằng r.p, trong đó r là bán kính đường tròn nội tiếp và p là nửa chu vi tam giác.'</span>,\n",
       "<span style=\"color: #7fbf7f; text-decoration-color: #7fbf7f\">│   </span><span style=\"color: #008000; text-decoration-color: #008000\">'answer'</span>: <span style=\"color: #008000; text-decoration-color: #008000\">'1. C. Đường trung trực 2. Đường phân giác'</span>,\n",
       "<span style=\"color: #7fbf7f; text-decoration-color: #7fbf7f\">│   </span><span style=\"color: #008000; text-decoration-color: #008000\">'solution_guide'</span>: <span style=\"color: #008000; text-decoration-color: #008000\">'1. Tâm đường tròn ngoại tiếp tam giác là giao điểm của ba đường trung trực của ba cạnh. Đáp án C.\\n2. Tâm đường tròn nội tiếp tam giác là giao điểm của ba đường phân giác trong của ba góc. Đáp án: Đường phân giác.'</span>,\n",
       "<span style=\"color: #7fbf7f; text-decoration-color: #7fbf7f\">│   </span><span style=\"color: #008000; text-decoration-color: #008000\">'differentiation'</span>: <span style=\"font-weight: bold\">{</span>\n",
       "<span style=\"color: #7fbf7f; text-decoration-color: #7fbf7f\">│   │   </span><span style=\"color: #008000; text-decoration-color: #008000\">'for_struggling_students'</span>: <span style=\"color: #008000; text-decoration-color: #008000\">'Đối với học sinh gặp khó khăn, giáo viên có thể gợi ý hoặc cho phép các em tham khảo nhanh vở ghi để hoàn thành phần kiểm tra nhanh. Khi giao bài tập về nhà, nhấn mạnh các bài tập cơ bản và khuyến khích các em xem lại lý thuyết.'</span>,\n",
       "<span style=\"color: #7fbf7f; text-decoration-color: #7fbf7f\">│   │   </span><span style=\"color: #008000; text-decoration-color: #008000\">'for_advanced_students'</span>: <span style=\"color: #008000; text-decoration-color: #008000\">'Khuyến khích học sinh khá giỏi hoàn thành các bài tập nâng cao trong phần bài tập về nhà. Giáo viên có thể gợi ý thêm các câu hỏi mở rộng hoặc ứng dụng thực tế của đường tròn ngoại tiếp/nội tiếp nếu các em hoàn thành nhanh.'</span>\n",
       "<span style=\"color: #7fbf7f; text-decoration-color: #7fbf7f\">│   </span><span style=\"font-weight: bold\">}</span>,\n",
       "<span style=\"color: #7fbf7f; text-decoration-color: #7fbf7f\">│   </span><span style=\"color: #008000; text-decoration-color: #008000\">'question_or_description'</span>: <span style=\"color: #008000; text-decoration-color: #008000\">'**Phần Cốt lõi:**\\nHoàn thành nhanh 2 câu hỏi sau:\\n1. Tâm đường tròn ngoại tiếp tam giác là giao điểm của ba đường nào?\\nA. Đường cao B. Đường trung tuyến C. Đường trung trực D. Đường phân giác\\n2. Tâm đường tròn nội tiếp tam giác là giao điểm của ba đường ______.\\n\\n**Phần Mở rộng (nếu còn thời gian):**\\nBài tập về nhà:\\n1. Cho tam giác ABC vuông tại A, có AB = 6cm, AC = 8cm. Tính bán kính đường tròn ngoại tiếp tam giác ABC.\\n2. Cho tam giác đều ABC cạnh a. Tính bán kính đường tròn nội tiếp tam giác đó.\\n3. (Nâng cao) Cho tam giác ABC có BC = a, CA = b, AB = c. Chứng minh rằng diện tích tam giác ABC bằng r.p, trong đó r là bán kính đường tròn nội tiếp và p là nửa chu vi tam giác.'</span>\n",
       "<span style=\"font-weight: bold\">}</span>\n",
       "</pre>\n"
      ],
      "text/plain": [
       "\u001b[1m{\u001b[0m\n",
       "\u001b[2;32m│   \u001b[0m\u001b[32m'activity_name'\u001b[0m: \u001b[32m'Đánh giá và Giao nhiệm vụ về nhà'\u001b[0m,\n",
       "\u001b[2;32m│   \u001b[0m\u001b[32m'question_type'\u001b[0m: \u001b[32m'Trắc nghiệm/Điền khuyết'\u001b[0m,\n",
       "\u001b[2;32m│   \u001b[0m\u001b[32m'duration_minutes'\u001b[0m: \u001b[1;36m10\u001b[0m,\n",
       "\u001b[2;32m│   \u001b[0m\u001b[32m'teacher_actions'\u001b[0m: \u001b[1m[\u001b[0m\n",
       "\u001b[2;32m│   │   \u001b[0m\u001b[32m'Phát phiếu bài tập hoặc chiếu câu hỏi lên bảng để học sinh làm bài kiểm tra nhanh \u001b[0m\u001b[32m(\u001b[0m\u001b[32m2-3 phút\u001b[0m\u001b[32m)\u001b[0m\u001b[32m.'\u001b[0m,\n",
       "\u001b[2;32m│   │   \u001b[0m\u001b[32m'Thu phiếu học tập \u001b[0m\u001b[32m(\u001b[0m\u001b[32mnếu có\u001b[0m\u001b[32m)\u001b[0m\u001b[32m để đánh giá mức độ hiểu bài của học sinh.'\u001b[0m,\n",
       "\u001b[2;32m│   │   \u001b[0m\u001b[32m'Giao bài tập về nhà, hướng dẫn học sinh ghi chép các bài tập cần làm.'\u001b[0m,\n",
       "\u001b[2;32m│   │   \u001b[0m\u001b[32m'Nhắc nhở học sinh chuẩn bị bài cho buổi học tiếp theo.'\u001b[0m\n",
       "\u001b[2;32m│   \u001b[0m\u001b[1m]\u001b[0m,\n",
       "\u001b[2;32m│   \u001b[0m\u001b[32m'core_component'\u001b[0m: \u001b[32m'Hoàn thành nhanh 2 câu hỏi sau:\\n1. Tâm đường tròn ngoại tiếp tam giác là giao điểm của ba đường nào?\\nA. Đường cao B. Đường trung tuyến C. Đường trung trực D. Đường phân giác\\n2. Tâm đường tròn nội tiếp tam giác là giao điểm của ba đường ______.'\u001b[0m,\n",
       "\u001b[2;32m│   \u001b[0m\u001b[32m'extension_component'\u001b[0m: \u001b[32m'Bài tập về nhà:\\n1. Cho tam giác ABC vuông tại A, có AB = 6cm, AC = 8cm. Tính bán kính đường tròn ngoại tiếp tam giác ABC.\\n2. Cho tam giác đều ABC cạnh a. Tính bán kính đường tròn nội tiếp tam giác đó.\\n3. \u001b[0m\u001b[32m(\u001b[0m\u001b[32mNâng cao\u001b[0m\u001b[32m)\u001b[0m\u001b[32m Cho tam giác ABC có BC = a, CA = b, AB = c. Chứng minh rằng diện tích tam giác ABC bằng r.p, trong đó r là bán kính đường tròn nội tiếp và p là nửa chu vi tam giác.'\u001b[0m,\n",
       "\u001b[2;32m│   \u001b[0m\u001b[32m'answer'\u001b[0m: \u001b[32m'1. C. Đường trung trực 2. Đường phân giác'\u001b[0m,\n",
       "\u001b[2;32m│   \u001b[0m\u001b[32m'solution_guide'\u001b[0m: \u001b[32m'1. Tâm đường tròn ngoại tiếp tam giác là giao điểm của ba đường trung trực của ba cạnh. Đáp án C.\\n2. Tâm đường tròn nội tiếp tam giác là giao điểm của ba đường phân giác trong của ba góc. Đáp án: Đường phân giác.'\u001b[0m,\n",
       "\u001b[2;32m│   \u001b[0m\u001b[32m'differentiation'\u001b[0m: \u001b[1m{\u001b[0m\n",
       "\u001b[2;32m│   │   \u001b[0m\u001b[32m'for_struggling_students'\u001b[0m: \u001b[32m'Đối với học sinh gặp khó khăn, giáo viên có thể gợi ý hoặc cho phép các em tham khảo nhanh vở ghi để hoàn thành phần kiểm tra nhanh. Khi giao bài tập về nhà, nhấn mạnh các bài tập cơ bản và khuyến khích các em xem lại lý thuyết.'\u001b[0m,\n",
       "\u001b[2;32m│   │   \u001b[0m\u001b[32m'for_advanced_students'\u001b[0m: \u001b[32m'Khuyến khích học sinh khá giỏi hoàn thành các bài tập nâng cao trong phần bài tập về nhà. Giáo viên có thể gợi ý thêm các câu hỏi mở rộng hoặc ứng dụng thực tế của đường tròn ngoại tiếp/nội tiếp nếu các em hoàn thành nhanh.'\u001b[0m\n",
       "\u001b[2;32m│   \u001b[0m\u001b[1m}\u001b[0m,\n",
       "\u001b[2;32m│   \u001b[0m\u001b[32m'question_or_description'\u001b[0m: \u001b[32m'**Phần Cốt lõi:**\\nHoàn thành nhanh 2 câu hỏi sau:\\n1. Tâm đường tròn ngoại tiếp tam giác là giao điểm của ba đường nào?\\nA. Đường cao B. Đường trung tuyến C. Đường trung trực D. Đường phân giác\\n2. Tâm đường tròn nội tiếp tam giác là giao điểm của ba đường ______.\\n\\n**Phần Mở rộng \u001b[0m\u001b[32m(\u001b[0m\u001b[32mnếu còn thời gian\u001b[0m\u001b[32m)\u001b[0m\u001b[32m:**\\nBài tập về nhà:\\n1. Cho tam giác ABC vuông tại A, có AB = 6cm, AC = 8cm. Tính bán kính đường tròn ngoại tiếp tam giác ABC.\\n2. Cho tam giác đều ABC cạnh a. Tính bán kính đường tròn nội tiếp tam giác đó.\\n3. \u001b[0m\u001b[32m(\u001b[0m\u001b[32mNâng cao\u001b[0m\u001b[32m)\u001b[0m\u001b[32m Cho tam giác ABC có BC = a, CA = b, AB = c. Chứng minh rằng diện tích tam giác ABC bằng r.p, trong đó r là bán kính đường tròn nội tiếp và p là nửa chu vi tam giác.'\u001b[0m\n",
       "\u001b[1m}\u001b[0m\n"
      ]
     },
     "metadata": {},
     "output_type": "display_data"
    },
    {
     "data": {
      "text/html": [
       "<pre style=\"white-space:pre;overflow-x:auto;line-height:normal;font-family:Menlo,'DejaVu Sans Mono',consolas,'Courier New',monospace\">\n",
       "<span style=\"color: #808000; text-decoration-color: #808000; font-weight: bold\">------- Hoàn thành bước: assessment_creator -------</span>\n",
       "</pre>\n"
      ],
      "text/plain": [
       "\n",
       "\u001b[1;33m------- Hoàn thành bước: assessment_creator -------\u001b[0m\n"
      ]
     },
     "metadata": {},
     "output_type": "display_data"
    },
    {
     "data": {
      "text/html": [
       "<pre style=\"white-space:pre;overflow-x:auto;line-height:normal;font-family:Menlo,'DejaVu Sans Mono',consolas,'Courier New',monospace\">\n",
       "<span style=\"color: #008080; text-decoration-color: #008080; font-weight: bold\">&gt;</span> `Agent: Time-Budget Advisor` <span style=\"font-weight: bold\">(</span>v9.<span style=\"color: #008080; text-decoration-color: #008080; font-weight: bold\">7</span><span style=\"font-weight: bold\">)</span> đang phản biện nội dung và ngân sách thời gian<span style=\"color: #808000; text-decoration-color: #808000\">...</span>\n",
       "</pre>\n"
      ],
      "text/plain": [
       "\n",
       "\u001b[1;36m>\u001b[0m `Agent: Time-Budget Advisor` \u001b[1m(\u001b[0mv9.\u001b[1;36m7\u001b[0m\u001b[1m)\u001b[0m đang phản biện nội dung và ngân sách thời gian\u001b[33m...\u001b[0m\n"
      ]
     },
     "metadata": {},
     "output_type": "display_data"
    },
    {
     "data": {
      "text/html": [
       "<pre style=\"white-space:pre;overflow-x:auto;line-height:normal;font-family:Menlo,'DejaVu Sans Mono',consolas,'Courier New',monospace\"><span style=\"color: #808000; text-decoration-color: #808000; font-weight: bold\">⚠️  CỐ VẤN PHẢN BIỆN: [STRUCTURAL_FEEDBACK] Lỗi phân bổ ngân sách! Thời gian đề xuất (</span><span style=\"color: #808000; text-decoration-color: #808000; font-weight: bold\">10</span><span style=\"color: #808000; text-decoration-color: #808000; font-weight: bold\"> phút) chiếm toàn bộ thời </span>\n",
       "<span style=\"color: #808000; text-decoration-color: #808000; font-weight: bold\">gian còn lại (</span><span style=\"color: #808000; text-decoration-color: #808000; font-weight: bold\">10</span><span style=\"color: #808000; text-decoration-color: #808000; font-weight: bold\"> phút) của buổi học. Điều này không để lại khoảng trống cho các hoạt động kết thúc buổi học hoặc dự</span>\n",
       "<span style=\"color: #808000; text-decoration-color: #808000; font-weight: bold\">phòng. Mặc dù nội dung hoạt động được thiết kế tốt về mặt chuyên môn và sư phạm, nhưng việc sử dụng hết thời gian </span>\n",
       "<span style=\"color: #808000; text-decoration-color: #808000; font-weight: bold\">còn lại cho một hoạt động cuối cùng là không hợp lý. Cần thiết kế lại hoạt động này trong khoảng </span><span style=\"color: #808000; text-decoration-color: #808000; font-weight: bold\">6</span><span style=\"color: #808000; text-decoration-color: #808000; font-weight: bold\"> phút để đảm bảo </span>\n",
       "<span style=\"color: #808000; text-decoration-color: #808000; font-weight: bold\">tiến độ và có thời gian cho các hoạt động cuối buổi. | SUGGESTED_DURATION: </span><span style=\"color: #808000; text-decoration-color: #808000; font-weight: bold\">6</span>\n",
       "</pre>\n"
      ],
      "text/plain": [
       "\u001b[1;33m⚠️  CỐ VẤN PHẢN BIỆN: \u001b[0m\u001b[1;33m[\u001b[0m\u001b[1;33mSTRUCTURAL_FEEDBACK\u001b[0m\u001b[1;33m]\u001b[0m\u001b[1;33m Lỗi phân bổ ngân sách! Thời gian đề xuất \u001b[0m\u001b[1;33m(\u001b[0m\u001b[1;33m10\u001b[0m\u001b[1;33m phút\u001b[0m\u001b[1;33m)\u001b[0m\u001b[1;33m chiếm toàn bộ thời \u001b[0m\n",
       "\u001b[1;33mgian còn lại \u001b[0m\u001b[1;33m(\u001b[0m\u001b[1;33m10\u001b[0m\u001b[1;33m phút\u001b[0m\u001b[1;33m)\u001b[0m\u001b[1;33m của buổi học. Điều này không để lại khoảng trống cho các hoạt động kết thúc buổi học hoặc dự\u001b[0m\n",
       "\u001b[1;33mphòng. Mặc dù nội dung hoạt động được thiết kế tốt về mặt chuyên môn và sư phạm, nhưng việc sử dụng hết thời gian \u001b[0m\n",
       "\u001b[1;33mcòn lại cho một hoạt động cuối cùng là không hợp lý. Cần thiết kế lại hoạt động này trong khoảng \u001b[0m\u001b[1;33m6\u001b[0m\u001b[1;33m phút để đảm bảo \u001b[0m\n",
       "\u001b[1;33mtiến độ và có thời gian cho các hoạt động cuối buổi. | SUGGESTED_DURATION: \u001b[0m\u001b[1;33m6\u001b[0m\n"
      ]
     },
     "metadata": {},
     "output_type": "display_data"
    },
    {
     "data": {
      "text/html": [
       "<pre style=\"white-space:pre;overflow-x:auto;line-height:normal;font-family:Menlo,'DejaVu Sans Mono',consolas,'Courier New',monospace\">\n",
       "<span style=\"color: #008080; text-decoration-color: #008080; font-weight: bold\">&gt;</span> ROUTER <span style=\"font-weight: bold\">(</span>Validation<span style=\"font-weight: bold\">)</span>: Lỗi cấu trúc, yêu cầu LẬP KẾ HOẠCH LẠI.\n",
       "</pre>\n"
      ],
      "text/plain": [
       "\n",
       "\u001b[1;36m>\u001b[0m ROUTER \u001b[1m(\u001b[0mValidation\u001b[1m)\u001b[0m: Lỗi cấu trúc, yêu cầu LẬP KẾ HOẠCH LẠI.\n"
      ]
     },
     "metadata": {},
     "output_type": "display_data"
    },
    {
     "data": {
      "text/html": [
       "<pre style=\"white-space:pre;overflow-x:auto;line-height:normal;font-family:Menlo,'DejaVu Sans Mono',consolas,'Courier New',monospace\">\n",
       "<span style=\"color: #808000; text-decoration-color: #808000; font-weight: bold\">------- Hoàn thành bước: content_validator -------</span>\n",
       "</pre>\n"
      ],
      "text/plain": [
       "\n",
       "\u001b[1;33m------- Hoàn thành bước: content_validator -------\u001b[0m\n"
      ]
     },
     "metadata": {},
     "output_type": "display_data"
    },
    {
     "data": {
      "text/html": [
       "<pre style=\"white-space:pre;overflow-x:auto;line-height:normal;font-family:Menlo,'DejaVu Sans Mono',consolas,'Courier New',monospace\">\n",
       "<span style=\"color: #008080; text-decoration-color: #008080; font-weight: bold\">&gt;</span> `Node: Task Time Surgeon`  surgically updating task duration<span style=\"color: #808000; text-decoration-color: #808000\">...</span>\n",
       "</pre>\n"
      ],
      "text/plain": [
       "\n",
       "\u001b[1;36m>\u001b[0m `Node: Task Time Surgeon`  surgically updating task duration\u001b[33m...\u001b[0m\n"
      ]
     },
     "metadata": {},
     "output_type": "display_data"
    },
    {
     "data": {
      "text/html": [
       "<pre style=\"white-space:pre;overflow-x:auto;line-height:normal;font-family:Menlo,'DejaVu Sans Mono',consolas,'Courier New',monospace\">\n",
       "<span style=\"color: #008080; text-decoration-color: #008080; font-weight: bold\">&gt;</span> Đã trích xuất thời gian đề xuất: <span style=\"color: #008080; text-decoration-color: #008080; font-weight: bold\">6</span> phút.\n",
       "</pre>\n"
      ],
      "text/plain": [
       "\n",
       "\u001b[1;36m>\u001b[0m Đã trích xuất thời gian đề xuất: \u001b[1;36m6\u001b[0m phút.\n"
      ]
     },
     "metadata": {},
     "output_type": "display_data"
    },
    {
     "data": {
      "text/html": [
       "<pre style=\"white-space:pre;overflow-x:auto;line-height:normal;font-family:Menlo,'DejaVu Sans Mono',consolas,'Courier New',monospace\"><span style=\"color: #008000; text-decoration-color: #008000; font-weight: bold\">✔️ Đã cập nhật thời lượng nhiệm vụ:</span>\n",
       "</pre>\n"
      ],
      "text/plain": [
       "\u001b[1;32m✔️ Đã cập nhật thời lượng nhiệm vụ:\u001b[0m\n"
      ]
     },
     "metadata": {},
     "output_type": "display_data"
    },
    {
     "data": {
      "text/html": [
       "<pre style=\"white-space:pre;overflow-x:auto;line-height:normal;font-family:Menlo,'DejaVu Sans Mono',consolas,'Courier New',monospace\"><span style=\"font-weight: bold\">{</span>\n",
       "<span style=\"color: #7fbf7f; text-decoration-color: #7fbf7f\">│   </span><span style=\"color: #008000; text-decoration-color: #008000\">'task_id'</span>: <span style=\"color: #008080; text-decoration-color: #008080; font-weight: bold\">4</span>,\n",
       "<span style=\"color: #7fbf7f; text-decoration-color: #7fbf7f\">│   </span><span style=\"color: #008000; text-decoration-color: #008000\">'from'</span>: <span style=\"color: #008080; text-decoration-color: #008080; font-weight: bold\">10</span>,\n",
       "<span style=\"color: #7fbf7f; text-decoration-color: #7fbf7f\">│   </span><span style=\"color: #008000; text-decoration-color: #008000\">'to'</span>: <span style=\"color: #008080; text-decoration-color: #008080; font-weight: bold\">6</span>\n",
       "<span style=\"font-weight: bold\">}</span>\n",
       "</pre>\n"
      ],
      "text/plain": [
       "\u001b[1m{\u001b[0m\n",
       "\u001b[2;32m│   \u001b[0m\u001b[32m'task_id'\u001b[0m: \u001b[1;36m4\u001b[0m,\n",
       "\u001b[2;32m│   \u001b[0m\u001b[32m'from'\u001b[0m: \u001b[1;36m10\u001b[0m,\n",
       "\u001b[2;32m│   \u001b[0m\u001b[32m'to'\u001b[0m: \u001b[1;36m6\u001b[0m\n",
       "\u001b[1m}\u001b[0m\n"
      ]
     },
     "metadata": {},
     "output_type": "display_data"
    },
    {
     "data": {
      "text/html": [
       "<pre style=\"white-space:pre;overflow-x:auto;line-height:normal;font-family:Menlo,'DejaVu Sans Mono',consolas,'Courier New',monospace\">\n",
       "<span style=\"color: #808000; text-decoration-color: #808000; font-weight: bold\">------- Hoàn thành bước: update_task_duration -------</span>\n",
       "</pre>\n"
      ],
      "text/plain": [
       "\n",
       "\u001b[1;33m------- Hoàn thành bước: update_task_duration -------\u001b[0m\n"
      ]
     },
     "metadata": {},
     "output_type": "display_data"
    },
    {
     "data": {
      "text/html": [
       "<pre style=\"white-space:pre;overflow-x:auto;line-height:normal;font-family:Menlo,'DejaVu Sans Mono',consolas,'Courier New',monospace\">\n",
       "<span style=\"color: #008080; text-decoration-color: #008080; font-weight: bold\">&gt;</span> `Agent: Task Dispatcher` <span style=\"font-weight: bold\">(</span>v7.<span style=\"color: #008080; text-decoration-color: #008080; font-weight: bold\">1</span><span style=\"font-weight: bold\">)</span> Bắt đầu<span style=\"color: #808000; text-decoration-color: #808000\">...</span>\n",
       "</pre>\n"
      ],
      "text/plain": [
       "\n",
       "\u001b[1;36m>\u001b[0m `Agent: Task Dispatcher` \u001b[1m(\u001b[0mv7.\u001b[1;36m1\u001b[0m\u001b[1m)\u001b[0m Bắt đầu\u001b[33m...\u001b[0m\n"
      ]
     },
     "metadata": {},
     "output_type": "display_data"
    },
    {
     "data": {
      "text/html": [
       "<pre style=\"white-space:pre;overflow-x:auto;line-height:normal;font-family:Menlo,'DejaVu Sans Mono',consolas,'Courier New',monospace\">\n",
       "<span style=\"color: #008080; text-decoration-color: #008080; font-weight: bold\">&gt;</span> --- 🚚 `Dispatcher`: Giao nhiệm vụ cho `assessment_creator`.\n",
       "</pre>\n"
      ],
      "text/plain": [
       "\n",
       "\u001b[1;36m>\u001b[0m --- 🚚 `Dispatcher`: Giao nhiệm vụ cho `assessment_creator`.\n"
      ]
     },
     "metadata": {},
     "output_type": "display_data"
    },
    {
     "data": {
      "text/html": [
       "<pre style=\"white-space:pre;overflow-x:auto;line-height:normal;font-family:Menlo,'DejaVu Sans Mono',consolas,'Courier New',monospace\">\n",
       "<span style=\"color: #808000; text-decoration-color: #808000; font-weight: bold\">------- Hoàn thành bước: task_dispatcher -------</span>\n",
       "</pre>\n"
      ],
      "text/plain": [
       "\n",
       "\u001b[1;33m------- Hoàn thành bước: task_dispatcher -------\u001b[0m\n"
      ]
     },
     "metadata": {},
     "output_type": "display_data"
    },
    {
     "data": {
      "text/html": [
       "<pre style=\"white-space:pre;overflow-x:auto;line-height:normal;font-family:Menlo,'DejaVu Sans Mono',consolas,'Courier New',monospace\">\n",
       "<span style=\"color: #008080; text-decoration-color: #008080; font-weight: bold\">&gt;</span> `Agent: Assessment Creator` <span style=\"font-weight: bold\">(</span>v9.<span style=\"color: #008080; text-decoration-color: #008080; font-weight: bold\">7</span><span style=\"font-weight: bold\">)</span> đang tạo nội dung linh hoạt <span style=\"font-weight: bold\">(</span>Lõi + Mở rộng<span style=\"font-weight: bold\">)</span><span style=\"color: #808000; text-decoration-color: #808000\">...</span>\n",
       "</pre>\n"
      ],
      "text/plain": [
       "\n",
       "\u001b[1;36m>\u001b[0m `Agent: Assessment Creator` \u001b[1m(\u001b[0mv9.\u001b[1;36m7\u001b[0m\u001b[1m)\u001b[0m đang tạo nội dung linh hoạt \u001b[1m(\u001b[0mLõi + Mở rộng\u001b[1m)\u001b[0m\u001b[33m...\u001b[0m\n"
      ]
     },
     "metadata": {},
     "output_type": "display_data"
    },
    {
     "data": {
      "text/html": [
       "<pre style=\"white-space:pre;overflow-x:auto;line-height:normal;font-family:Menlo,'DejaVu Sans Mono',consolas,'Courier New',monospace\"><span style=\"color: #008000; text-decoration-color: #008000; font-weight: bold\">✔️ Nội dung do Assessment Creator tạo ra (Linh hoạt):</span>\n",
       "</pre>\n"
      ],
      "text/plain": [
       "\u001b[1;32m✔️ Nội dung do Assessment Creator tạo ra \u001b[0m\u001b[1;32m(\u001b[0m\u001b[1;32mLinh hoạt\u001b[0m\u001b[1;32m)\u001b[0m\u001b[1;32m:\u001b[0m\n"
      ]
     },
     "metadata": {},
     "output_type": "display_data"
    },
    {
     "data": {
      "text/html": [
       "<pre style=\"white-space:pre;overflow-x:auto;line-height:normal;font-family:Menlo,'DejaVu Sans Mono',consolas,'Courier New',monospace\"><span style=\"font-weight: bold\">{</span>\n",
       "<span style=\"color: #7fbf7f; text-decoration-color: #7fbf7f\">│   </span><span style=\"color: #008000; text-decoration-color: #008000\">'activity_name'</span>: <span style=\"color: #008000; text-decoration-color: #008000\">'Đánh giá và Giao nhiệm vụ về nhà'</span>,\n",
       "<span style=\"color: #7fbf7f; text-decoration-color: #7fbf7f\">│   </span><span style=\"color: #008000; text-decoration-color: #008000\">'question_type'</span>: <span style=\"color: #008000; text-decoration-color: #008000\">'Trắc nghiệm/Điền khuyết'</span>,\n",
       "<span style=\"color: #7fbf7f; text-decoration-color: #7fbf7f\">│   </span><span style=\"color: #008000; text-decoration-color: #008000\">'duration_minutes'</span>: <span style=\"color: #008080; text-decoration-color: #008080; font-weight: bold\">6</span>,\n",
       "<span style=\"color: #7fbf7f; text-decoration-color: #7fbf7f\">│   </span><span style=\"color: #008000; text-decoration-color: #008000\">'teacher_actions'</span>: <span style=\"font-weight: bold\">[</span>\n",
       "<span style=\"color: #7fbf7f; text-decoration-color: #7fbf7f\">│   │   </span><span style=\"color: #008000; text-decoration-color: #008000\">'Phát phiếu bài tập trắc nghiệm/điền khuyết nhanh cho học sinh.'</span>,\n",
       "<span style=\"color: #7fbf7f; text-decoration-color: #7fbf7f\">│   │   </span><span style=\"color: #008000; text-decoration-color: #008000\">'Yêu cầu học sinh hoàn thành bài tập trong 3-4 phút.'</span>,\n",
       "<span style=\"color: #7fbf7f; text-decoration-color: #7fbf7f\">│   │   </span><span style=\"color: #008000; text-decoration-color: #008000\">'Thu phiếu bài tập (cá nhân hoặc nhóm) để kiểm tra nhanh mức độ hiểu bài.'</span>,\n",
       "<span style=\"color: #7fbf7f; text-decoration-color: #7fbf7f\">│   │   </span><span style=\"color: #008000; text-decoration-color: #008000\">'Giao bài tập về nhà, bao gồm các dạng bài đã học và một số bài tập nâng cao (có đánh dấu).'</span>,\n",
       "<span style=\"color: #7fbf7f; text-decoration-color: #7fbf7f\">│   │   </span><span style=\"color: #008000; text-decoration-color: #008000\">'Nhắc nhở học sinh chuẩn bị bài cho buổi học tiếp theo.'</span>\n",
       "<span style=\"color: #7fbf7f; text-decoration-color: #7fbf7f\">│   </span><span style=\"font-weight: bold\">]</span>,\n",
       "<span style=\"color: #7fbf7f; text-decoration-color: #7fbf7f\">│   </span><span style=\"color: #008000; text-decoration-color: #008000\">'core_component'</span>: <span style=\"color: #008000; text-decoration-color: #008000\">'Hoàn thành nhanh các câu hỏi sau (chọn đáp án đúng nhất hoặc điền vào chỗ trống):\\n1. Đường tròn ngoại tiếp một tam giác là đường tròn đi qua:\\nA. Ba trung điểm các cạnh.\\nB. Ba đỉnh của tam giác.\\nC. Ba chân đường cao.\\nD. Ba giao điểm của các đường trung tuyến.\\n2. Tâm của đường tròn nội tiếp một tam giác là giao điểm của ba đường:\\nA. Trung tuyến.\\nB. Cao.\\nC. Phân giác.\\nD. Trung trực.\\n3. Nếu một tam giác là tam giác vuông, thì tâm đường tròn ngoại tiếp của nó nằm ở đâu?'</span>,\n",
       "<span style=\"color: #7fbf7f; text-decoration-color: #7fbf7f\">│   </span><span style=\"color: #008000; text-decoration-color: #008000\">'extension_component'</span>: <span style=\"color: #008000; text-decoration-color: #008000\">'Bài tập về nhà nâng cao (dành cho học sinh khá giỏi):\\nCho tam giác ABC có AB = 6cm, AC = 8cm, BC = 10cm.\\na) Chứng minh tam giác ABC vuông.\\nb) Tính bán kính đường tròn ngoại tiếp tam giác ABC.\\nc) Tính bán kính đường tròn nội tiếp tam giác ABC.'</span>,\n",
       "<span style=\"color: #7fbf7f; text-decoration-color: #7fbf7f\">│   </span><span style=\"color: #008000; text-decoration-color: #008000\">'answer'</span>: <span style=\"color: #008000; text-decoration-color: #008000\">'1. B. Ba đỉnh của tam giác. 2. C. Phân giác. 3. Trung điểm của cạnh huyền.'</span>,\n",
       "<span style=\"color: #7fbf7f; text-decoration-color: #7fbf7f\">│   </span><span style=\"color: #008000; text-decoration-color: #008000\">'solution_guide'</span>: <span style=\"color: #800080; text-decoration-color: #800080; font-style: italic\">None</span>,\n",
       "<span style=\"color: #7fbf7f; text-decoration-color: #7fbf7f\">│   </span><span style=\"color: #008000; text-decoration-color: #008000\">'differentiation'</span>: <span style=\"font-weight: bold\">{</span>\n",
       "<span style=\"color: #7fbf7f; text-decoration-color: #7fbf7f\">│   │   </span><span style=\"color: #008000; text-decoration-color: #008000\">'for_struggling_students'</span>: <span style=\"color: #008000; text-decoration-color: #008000\">'Trong bài tập về nhà, giáo viên có thể gợi ý học sinh yếu/gặp khó khăn tập trung vào các bài tập cơ bản, xem lại lý thuyết và các ví dụ đã học trong sách giáo khoa hoặc vở ghi.'</span>,\n",
       "<span style=\"color: #7fbf7f; text-decoration-color: #7fbf7f\">│   │   </span><span style=\"color: #008000; text-decoration-color: #008000\">'for_advanced_students'</span>: <span style=\"color: #008000; text-decoration-color: #008000\">'Khuyến khích học sinh khá giỏi làm các bài tập nâng cao (có đánh dấu) trong phần bài tập về nhà. Giáo viên có thể gợi ý các em tìm hiểu thêm về các tính chất đặc biệt hoặc ứng dụng thực tế của đường tròn ngoại tiếp/nội tiếp.'</span>\n",
       "<span style=\"color: #7fbf7f; text-decoration-color: #7fbf7f\">│   </span><span style=\"font-weight: bold\">}</span>,\n",
       "<span style=\"color: #7fbf7f; text-decoration-color: #7fbf7f\">│   </span><span style=\"color: #008000; text-decoration-color: #008000\">'question_or_description'</span>: <span style=\"color: #008000; text-decoration-color: #008000\">'**Phần Cốt lõi:**\\nHoàn thành nhanh các câu hỏi sau (chọn đáp án đúng nhất hoặc điền vào chỗ trống):\\n1. Đường tròn ngoại tiếp một tam giác là đường tròn đi qua:\\nA. Ba trung điểm các cạnh.\\nB. Ba đỉnh của tam giác.\\nC. Ba chân đường cao.\\nD. Ba giao điểm của các đường trung tuyến.\\n2. Tâm của đường tròn nội tiếp một tam giác là giao điểm của ba đường:\\nA. Trung tuyến.\\nB. Cao.\\nC. Phân giác.\\nD. Trung trực.\\n3. Nếu một tam giác là tam giác vuông, thì tâm đường tròn ngoại tiếp của nó nằm ở đâu?\\n\\n**Phần Mở rộng (nếu còn thời gian):**\\nBài tập về nhà nâng cao (dành cho học sinh khá giỏi):\\nCho tam giác ABC có AB = 6cm, AC = 8cm, BC = 10cm.\\na) Chứng minh tam giác ABC vuông.\\nb) Tính bán kính đường tròn ngoại tiếp tam giác ABC.\\nc) Tính bán kính đường tròn nội tiếp tam giác ABC.'</span>\n",
       "<span style=\"font-weight: bold\">}</span>\n",
       "</pre>\n"
      ],
      "text/plain": [
       "\u001b[1m{\u001b[0m\n",
       "\u001b[2;32m│   \u001b[0m\u001b[32m'activity_name'\u001b[0m: \u001b[32m'Đánh giá và Giao nhiệm vụ về nhà'\u001b[0m,\n",
       "\u001b[2;32m│   \u001b[0m\u001b[32m'question_type'\u001b[0m: \u001b[32m'Trắc nghiệm/Điền khuyết'\u001b[0m,\n",
       "\u001b[2;32m│   \u001b[0m\u001b[32m'duration_minutes'\u001b[0m: \u001b[1;36m6\u001b[0m,\n",
       "\u001b[2;32m│   \u001b[0m\u001b[32m'teacher_actions'\u001b[0m: \u001b[1m[\u001b[0m\n",
       "\u001b[2;32m│   │   \u001b[0m\u001b[32m'Phát phiếu bài tập trắc nghiệm/điền khuyết nhanh cho học sinh.'\u001b[0m,\n",
       "\u001b[2;32m│   │   \u001b[0m\u001b[32m'Yêu cầu học sinh hoàn thành bài tập trong 3-4 phút.'\u001b[0m,\n",
       "\u001b[2;32m│   │   \u001b[0m\u001b[32m'Thu phiếu bài tập \u001b[0m\u001b[32m(\u001b[0m\u001b[32mcá nhân hoặc nhóm\u001b[0m\u001b[32m)\u001b[0m\u001b[32m để kiểm tra nhanh mức độ hiểu bài.'\u001b[0m,\n",
       "\u001b[2;32m│   │   \u001b[0m\u001b[32m'Giao bài tập về nhà, bao gồm các dạng bài đã học và một số bài tập nâng cao \u001b[0m\u001b[32m(\u001b[0m\u001b[32mcó đánh dấu\u001b[0m\u001b[32m)\u001b[0m\u001b[32m.'\u001b[0m,\n",
       "\u001b[2;32m│   │   \u001b[0m\u001b[32m'Nhắc nhở học sinh chuẩn bị bài cho buổi học tiếp theo.'\u001b[0m\n",
       "\u001b[2;32m│   \u001b[0m\u001b[1m]\u001b[0m,\n",
       "\u001b[2;32m│   \u001b[0m\u001b[32m'core_component'\u001b[0m: \u001b[32m'Hoàn thành nhanh các câu hỏi sau \u001b[0m\u001b[32m(\u001b[0m\u001b[32mchọn đáp án đúng nhất hoặc điền vào chỗ trống\u001b[0m\u001b[32m)\u001b[0m\u001b[32m:\\n1. Đường tròn ngoại tiếp một tam giác là đường tròn đi qua:\\nA. Ba trung điểm các cạnh.\\nB. Ba đỉnh của tam giác.\\nC. Ba chân đường cao.\\nD. Ba giao điểm của các đường trung tuyến.\\n2. Tâm của đường tròn nội tiếp một tam giác là giao điểm của ba đường:\\nA. Trung tuyến.\\nB. Cao.\\nC. Phân giác.\\nD. Trung trực.\\n3. Nếu một tam giác là tam giác vuông, thì tâm đường tròn ngoại tiếp của nó nằm ở đâu?'\u001b[0m,\n",
       "\u001b[2;32m│   \u001b[0m\u001b[32m'extension_component'\u001b[0m: \u001b[32m'Bài tập về nhà nâng cao \u001b[0m\u001b[32m(\u001b[0m\u001b[32mdành cho học sinh khá giỏi\u001b[0m\u001b[32m)\u001b[0m\u001b[32m:\\nCho tam giác ABC có AB = 6cm, AC = 8cm, BC = 10cm.\\na\u001b[0m\u001b[32m)\u001b[0m\u001b[32m Chứng minh tam giác ABC vuông.\\nb\u001b[0m\u001b[32m)\u001b[0m\u001b[32m Tính bán kính đường tròn ngoại tiếp tam giác ABC.\\nc\u001b[0m\u001b[32m)\u001b[0m\u001b[32m Tính bán kính đường tròn nội tiếp tam giác ABC.'\u001b[0m,\n",
       "\u001b[2;32m│   \u001b[0m\u001b[32m'answer'\u001b[0m: \u001b[32m'1. B. Ba đỉnh của tam giác. 2. C. Phân giác. 3. Trung điểm của cạnh huyền.'\u001b[0m,\n",
       "\u001b[2;32m│   \u001b[0m\u001b[32m'solution_guide'\u001b[0m: \u001b[3;35mNone\u001b[0m,\n",
       "\u001b[2;32m│   \u001b[0m\u001b[32m'differentiation'\u001b[0m: \u001b[1m{\u001b[0m\n",
       "\u001b[2;32m│   │   \u001b[0m\u001b[32m'for_struggling_students'\u001b[0m: \u001b[32m'Trong bài tập về nhà, giáo viên có thể gợi ý học sinh yếu/gặp khó khăn tập trung vào các bài tập cơ bản, xem lại lý thuyết và các ví dụ đã học trong sách giáo khoa hoặc vở ghi.'\u001b[0m,\n",
       "\u001b[2;32m│   │   \u001b[0m\u001b[32m'for_advanced_students'\u001b[0m: \u001b[32m'Khuyến khích học sinh khá giỏi làm các bài tập nâng cao \u001b[0m\u001b[32m(\u001b[0m\u001b[32mcó đánh dấu\u001b[0m\u001b[32m)\u001b[0m\u001b[32m trong phần bài tập về nhà. Giáo viên có thể gợi ý các em tìm hiểu thêm về các tính chất đặc biệt hoặc ứng dụng thực tế của đường tròn ngoại tiếp/nội tiếp.'\u001b[0m\n",
       "\u001b[2;32m│   \u001b[0m\u001b[1m}\u001b[0m,\n",
       "\u001b[2;32m│   \u001b[0m\u001b[32m'question_or_description'\u001b[0m: \u001b[32m'**Phần Cốt lõi:**\\nHoàn thành nhanh các câu hỏi sau \u001b[0m\u001b[32m(\u001b[0m\u001b[32mchọn đáp án đúng nhất hoặc điền vào chỗ trống\u001b[0m\u001b[32m)\u001b[0m\u001b[32m:\\n1. Đường tròn ngoại tiếp một tam giác là đường tròn đi qua:\\nA. Ba trung điểm các cạnh.\\nB. Ba đỉnh của tam giác.\\nC. Ba chân đường cao.\\nD. Ba giao điểm của các đường trung tuyến.\\n2. Tâm của đường tròn nội tiếp một tam giác là giao điểm của ba đường:\\nA. Trung tuyến.\\nB. Cao.\\nC. Phân giác.\\nD. Trung trực.\\n3. Nếu một tam giác là tam giác vuông, thì tâm đường tròn ngoại tiếp của nó nằm ở đâu?\\n\\n**Phần Mở rộng \u001b[0m\u001b[32m(\u001b[0m\u001b[32mnếu còn thời gian\u001b[0m\u001b[32m)\u001b[0m\u001b[32m:**\\nBài tập về nhà nâng cao \u001b[0m\u001b[32m(\u001b[0m\u001b[32mdành cho học sinh khá giỏi\u001b[0m\u001b[32m)\u001b[0m\u001b[32m:\\nCho tam giác ABC có AB = 6cm, AC = 8cm, BC = 10cm.\\na\u001b[0m\u001b[32m)\u001b[0m\u001b[32m Chứng minh tam giác ABC vuông.\\nb\u001b[0m\u001b[32m)\u001b[0m\u001b[32m Tính bán kính đường tròn ngoại tiếp tam giác ABC.\\nc\u001b[0m\u001b[32m)\u001b[0m\u001b[32m Tính bán kính đường tròn nội tiếp tam giác ABC.'\u001b[0m\n",
       "\u001b[1m}\u001b[0m\n"
      ]
     },
     "metadata": {},
     "output_type": "display_data"
    },
    {
     "data": {
      "text/html": [
       "<pre style=\"white-space:pre;overflow-x:auto;line-height:normal;font-family:Menlo,'DejaVu Sans Mono',consolas,'Courier New',monospace\">\n",
       "<span style=\"color: #808000; text-decoration-color: #808000; font-weight: bold\">------- Hoàn thành bước: assessment_creator -------</span>\n",
       "</pre>\n"
      ],
      "text/plain": [
       "\n",
       "\u001b[1;33m------- Hoàn thành bước: assessment_creator -------\u001b[0m\n"
      ]
     },
     "metadata": {},
     "output_type": "display_data"
    },
    {
     "data": {
      "text/html": [
       "<pre style=\"white-space:pre;overflow-x:auto;line-height:normal;font-family:Menlo,'DejaVu Sans Mono',consolas,'Courier New',monospace\">\n",
       "<span style=\"color: #008080; text-decoration-color: #008080; font-weight: bold\">&gt;</span> `Agent: Time-Budget Advisor` <span style=\"font-weight: bold\">(</span>v9.<span style=\"color: #008080; text-decoration-color: #008080; font-weight: bold\">7</span><span style=\"font-weight: bold\">)</span> đang phản biện nội dung và ngân sách thời gian<span style=\"color: #808000; text-decoration-color: #808000\">...</span>\n",
       "</pre>\n"
      ],
      "text/plain": [
       "\n",
       "\u001b[1;36m>\u001b[0m `Agent: Time-Budget Advisor` \u001b[1m(\u001b[0mv9.\u001b[1;36m7\u001b[0m\u001b[1m)\u001b[0m đang phản biện nội dung và ngân sách thời gian\u001b[33m...\u001b[0m\n"
      ]
     },
     "metadata": {},
     "output_type": "display_data"
    },
    {
     "data": {
      "text/html": [
       "<pre style=\"white-space:pre;overflow-x:auto;line-height:normal;font-family:Menlo,'DejaVu Sans Mono',consolas,'Courier New',monospace\"><span style=\"color: #808000; text-decoration-color: #808000; font-weight: bold\">⚠️  CỐ VẤN PHẢN BIỆN: [STRUCTURAL_FEEDBACK] Nội dung bài tập và phần giao nhiệm vụ về nhà rất phù hợp và chất lượng,</span>\n",
       "<span style=\"color: #808000; text-decoration-color: #808000; font-weight: bold\">đảm bảo cả kiến thức cơ bản và nâng cao. Tuy nhiên, việc phân bổ thời gian cho hoạt động này chưa tối ưu. Với tổng </span>\n",
       "<span style=\"color: #808000; text-decoration-color: #808000; font-weight: bold\">thời gian còn lại cho tất cả các hoạt động cuối buổi học là </span><span style=\"color: #808000; text-decoration-color: #808000; font-weight: bold\">10</span><span style=\"color: #808000; text-decoration-color: #808000; font-weight: bold\"> phút, việc dành </span><span style=\"color: #808000; text-decoration-color: #808000; font-weight: bold\">6</span><span style=\"color: #808000; text-decoration-color: #808000; font-weight: bold\"> phút cho riêng hoạt động </span><span style=\"color: #808000; text-decoration-color: #808000; font-weight: bold\">\"Đánh giá</span>\n",
       "<span style=\"color: #808000; text-decoration-color: #808000; font-weight: bold\">và Giao nhiệm vụ về nhà\"</span><span style=\"color: #808000; text-decoration-color: #808000; font-weight: bold\"> là khá nhiều, có thể khiến buổi học kết thúc gấp gáp hoặc không đủ thời gian cho các hoạt </span>\n",
       "<span style=\"color: #808000; text-decoration-color: #808000; font-weight: bold\">động chuyển tiếp/tổng kết ngắn gọn khác. Để đảm bảo tiến độ và có đủ thời gian cho các hoạt động cuối cùng của buổi</span>\n",
       "<span style=\"color: #808000; text-decoration-color: #808000; font-weight: bold\">học, hoạt động này nên được rút gọn còn khoảng </span><span style=\"color: #808000; text-decoration-color: #808000; font-weight: bold\">5</span><span style=\"color: #808000; text-decoration-color: #808000; font-weight: bold\"> phút. | SUGGESTED_DURATION: </span><span style=\"color: #808000; text-decoration-color: #808000; font-weight: bold\">5</span>\n",
       "</pre>\n"
      ],
      "text/plain": [
       "\u001b[1;33m⚠️  CỐ VẤN PHẢN BIỆN: \u001b[0m\u001b[1;33m[\u001b[0m\u001b[1;33mSTRUCTURAL_FEEDBACK\u001b[0m\u001b[1;33m]\u001b[0m\u001b[1;33m Nội dung bài tập và phần giao nhiệm vụ về nhà rất phù hợp và chất lượng,\u001b[0m\n",
       "\u001b[1;33mđảm bảo cả kiến thức cơ bản và nâng cao. Tuy nhiên, việc phân bổ thời gian cho hoạt động này chưa tối ưu. Với tổng \u001b[0m\n",
       "\u001b[1;33mthời gian còn lại cho tất cả các hoạt động cuối buổi học là \u001b[0m\u001b[1;33m10\u001b[0m\u001b[1;33m phút, việc dành \u001b[0m\u001b[1;33m6\u001b[0m\u001b[1;33m phút cho riêng hoạt động \u001b[0m\u001b[1;33m\"Đánh giá\u001b[0m\n",
       "\u001b[1;33mvà Giao nhiệm vụ về nhà\"\u001b[0m\u001b[1;33m là khá nhiều, có thể khiến buổi học kết thúc gấp gáp hoặc không đủ thời gian cho các hoạt \u001b[0m\n",
       "\u001b[1;33mđộng chuyển tiếp/tổng kết ngắn gọn khác. Để đảm bảo tiến độ và có đủ thời gian cho các hoạt động cuối cùng của buổi\u001b[0m\n",
       "\u001b[1;33mhọc, hoạt động này nên được rút gọn còn khoảng \u001b[0m\u001b[1;33m5\u001b[0m\u001b[1;33m phút. | SUGGESTED_DURATION: \u001b[0m\u001b[1;33m5\u001b[0m\n"
      ]
     },
     "metadata": {},
     "output_type": "display_data"
    },
    {
     "data": {
      "text/html": [
       "<pre style=\"white-space:pre;overflow-x:auto;line-height:normal;font-family:Menlo,'DejaVu Sans Mono',consolas,'Courier New',monospace\">\n",
       "<span style=\"color: #008080; text-decoration-color: #008080; font-weight: bold\">&gt;</span> ROUTER <span style=\"font-weight: bold\">(</span>Validation<span style=\"font-weight: bold\">)</span>: Lỗi cấu trúc, yêu cầu LẬP KẾ HOẠCH LẠI.\n",
       "</pre>\n"
      ],
      "text/plain": [
       "\n",
       "\u001b[1;36m>\u001b[0m ROUTER \u001b[1m(\u001b[0mValidation\u001b[1m)\u001b[0m: Lỗi cấu trúc, yêu cầu LẬP KẾ HOẠCH LẠI.\n"
      ]
     },
     "metadata": {},
     "output_type": "display_data"
    },
    {
     "data": {
      "text/html": [
       "<pre style=\"white-space:pre;overflow-x:auto;line-height:normal;font-family:Menlo,'DejaVu Sans Mono',consolas,'Courier New',monospace\">\n",
       "<span style=\"color: #808000; text-decoration-color: #808000; font-weight: bold\">------- Hoàn thành bước: content_validator -------</span>\n",
       "</pre>\n"
      ],
      "text/plain": [
       "\n",
       "\u001b[1;33m------- Hoàn thành bước: content_validator -------\u001b[0m\n"
      ]
     },
     "metadata": {},
     "output_type": "display_data"
    },
    {
     "data": {
      "text/html": [
       "<pre style=\"white-space:pre;overflow-x:auto;line-height:normal;font-family:Menlo,'DejaVu Sans Mono',consolas,'Courier New',monospace\">\n",
       "<span style=\"color: #008080; text-decoration-color: #008080; font-weight: bold\">&gt;</span> `Node: Task Time Surgeon`  surgically updating task duration<span style=\"color: #808000; text-decoration-color: #808000\">...</span>\n",
       "</pre>\n"
      ],
      "text/plain": [
       "\n",
       "\u001b[1;36m>\u001b[0m `Node: Task Time Surgeon`  surgically updating task duration\u001b[33m...\u001b[0m\n"
      ]
     },
     "metadata": {},
     "output_type": "display_data"
    },
    {
     "data": {
      "text/html": [
       "<pre style=\"white-space:pre;overflow-x:auto;line-height:normal;font-family:Menlo,'DejaVu Sans Mono',consolas,'Courier New',monospace\">\n",
       "<span style=\"color: #008080; text-decoration-color: #008080; font-weight: bold\">&gt;</span> Đã trích xuất thời gian đề xuất: <span style=\"color: #008080; text-decoration-color: #008080; font-weight: bold\">5</span> phút.\n",
       "</pre>\n"
      ],
      "text/plain": [
       "\n",
       "\u001b[1;36m>\u001b[0m Đã trích xuất thời gian đề xuất: \u001b[1;36m5\u001b[0m phút.\n"
      ]
     },
     "metadata": {},
     "output_type": "display_data"
    },
    {
     "data": {
      "text/html": [
       "<pre style=\"white-space:pre;overflow-x:auto;line-height:normal;font-family:Menlo,'DejaVu Sans Mono',consolas,'Courier New',monospace\"><span style=\"color: #008000; text-decoration-color: #008000; font-weight: bold\">✔️ Đã cập nhật thời lượng nhiệm vụ:</span>\n",
       "</pre>\n"
      ],
      "text/plain": [
       "\u001b[1;32m✔️ Đã cập nhật thời lượng nhiệm vụ:\u001b[0m\n"
      ]
     },
     "metadata": {},
     "output_type": "display_data"
    },
    {
     "data": {
      "text/html": [
       "<pre style=\"white-space:pre;overflow-x:auto;line-height:normal;font-family:Menlo,'DejaVu Sans Mono',consolas,'Courier New',monospace\"><span style=\"font-weight: bold\">{</span>\n",
       "<span style=\"color: #7fbf7f; text-decoration-color: #7fbf7f\">│   </span><span style=\"color: #008000; text-decoration-color: #008000\">'task_id'</span>: <span style=\"color: #008080; text-decoration-color: #008080; font-weight: bold\">4</span>,\n",
       "<span style=\"color: #7fbf7f; text-decoration-color: #7fbf7f\">│   </span><span style=\"color: #008000; text-decoration-color: #008000\">'from'</span>: <span style=\"color: #008080; text-decoration-color: #008080; font-weight: bold\">6</span>,\n",
       "<span style=\"color: #7fbf7f; text-decoration-color: #7fbf7f\">│   </span><span style=\"color: #008000; text-decoration-color: #008000\">'to'</span>: <span style=\"color: #008080; text-decoration-color: #008080; font-weight: bold\">5</span>\n",
       "<span style=\"font-weight: bold\">}</span>\n",
       "</pre>\n"
      ],
      "text/plain": [
       "\u001b[1m{\u001b[0m\n",
       "\u001b[2;32m│   \u001b[0m\u001b[32m'task_id'\u001b[0m: \u001b[1;36m4\u001b[0m,\n",
       "\u001b[2;32m│   \u001b[0m\u001b[32m'from'\u001b[0m: \u001b[1;36m6\u001b[0m,\n",
       "\u001b[2;32m│   \u001b[0m\u001b[32m'to'\u001b[0m: \u001b[1;36m5\u001b[0m\n",
       "\u001b[1m}\u001b[0m\n"
      ]
     },
     "metadata": {},
     "output_type": "display_data"
    },
    {
     "data": {
      "text/html": [
       "<pre style=\"white-space:pre;overflow-x:auto;line-height:normal;font-family:Menlo,'DejaVu Sans Mono',consolas,'Courier New',monospace\">\n",
       "<span style=\"color: #808000; text-decoration-color: #808000; font-weight: bold\">------- Hoàn thành bước: update_task_duration -------</span>\n",
       "</pre>\n"
      ],
      "text/plain": [
       "\n",
       "\u001b[1;33m------- Hoàn thành bước: update_task_duration -------\u001b[0m\n"
      ]
     },
     "metadata": {},
     "output_type": "display_data"
    },
    {
     "data": {
      "text/html": [
       "<pre style=\"white-space:pre;overflow-x:auto;line-height:normal;font-family:Menlo,'DejaVu Sans Mono',consolas,'Courier New',monospace\">\n",
       "<span style=\"color: #008080; text-decoration-color: #008080; font-weight: bold\">&gt;</span> `Agent: Task Dispatcher` <span style=\"font-weight: bold\">(</span>v7.<span style=\"color: #008080; text-decoration-color: #008080; font-weight: bold\">1</span><span style=\"font-weight: bold\">)</span> Bắt đầu<span style=\"color: #808000; text-decoration-color: #808000\">...</span>\n",
       "</pre>\n"
      ],
      "text/plain": [
       "\n",
       "\u001b[1;36m>\u001b[0m `Agent: Task Dispatcher` \u001b[1m(\u001b[0mv7.\u001b[1;36m1\u001b[0m\u001b[1m)\u001b[0m Bắt đầu\u001b[33m...\u001b[0m\n"
      ]
     },
     "metadata": {},
     "output_type": "display_data"
    },
    {
     "data": {
      "text/html": [
       "<pre style=\"white-space:pre;overflow-x:auto;line-height:normal;font-family:Menlo,'DejaVu Sans Mono',consolas,'Courier New',monospace\">\n",
       "<span style=\"color: #008080; text-decoration-color: #008080; font-weight: bold\">&gt;</span> --- 🚚 `Dispatcher`: Giao nhiệm vụ cho `assessment_creator`.\n",
       "</pre>\n"
      ],
      "text/plain": [
       "\n",
       "\u001b[1;36m>\u001b[0m --- 🚚 `Dispatcher`: Giao nhiệm vụ cho `assessment_creator`.\n"
      ]
     },
     "metadata": {},
     "output_type": "display_data"
    },
    {
     "data": {
      "text/html": [
       "<pre style=\"white-space:pre;overflow-x:auto;line-height:normal;font-family:Menlo,'DejaVu Sans Mono',consolas,'Courier New',monospace\">\n",
       "<span style=\"color: #808000; text-decoration-color: #808000; font-weight: bold\">------- Hoàn thành bước: task_dispatcher -------</span>\n",
       "</pre>\n"
      ],
      "text/plain": [
       "\n",
       "\u001b[1;33m------- Hoàn thành bước: task_dispatcher -------\u001b[0m\n"
      ]
     },
     "metadata": {},
     "output_type": "display_data"
    },
    {
     "data": {
      "text/html": [
       "<pre style=\"white-space:pre;overflow-x:auto;line-height:normal;font-family:Menlo,'DejaVu Sans Mono',consolas,'Courier New',monospace\">\n",
       "<span style=\"color: #008080; text-decoration-color: #008080; font-weight: bold\">&gt;</span> `Agent: Assessment Creator` <span style=\"font-weight: bold\">(</span>v9.<span style=\"color: #008080; text-decoration-color: #008080; font-weight: bold\">7</span><span style=\"font-weight: bold\">)</span> đang tạo nội dung linh hoạt <span style=\"font-weight: bold\">(</span>Lõi + Mở rộng<span style=\"font-weight: bold\">)</span><span style=\"color: #808000; text-decoration-color: #808000\">...</span>\n",
       "</pre>\n"
      ],
      "text/plain": [
       "\n",
       "\u001b[1;36m>\u001b[0m `Agent: Assessment Creator` \u001b[1m(\u001b[0mv9.\u001b[1;36m7\u001b[0m\u001b[1m)\u001b[0m đang tạo nội dung linh hoạt \u001b[1m(\u001b[0mLõi + Mở rộng\u001b[1m)\u001b[0m\u001b[33m...\u001b[0m\n"
      ]
     },
     "metadata": {},
     "output_type": "display_data"
    },
    {
     "data": {
      "text/html": [
       "<pre style=\"white-space:pre;overflow-x:auto;line-height:normal;font-family:Menlo,'DejaVu Sans Mono',consolas,'Courier New',monospace\"><span style=\"color: #008000; text-decoration-color: #008000; font-weight: bold\">✔️ Nội dung do Assessment Creator tạo ra (Linh hoạt):</span>\n",
       "</pre>\n"
      ],
      "text/plain": [
       "\u001b[1;32m✔️ Nội dung do Assessment Creator tạo ra \u001b[0m\u001b[1;32m(\u001b[0m\u001b[1;32mLinh hoạt\u001b[0m\u001b[1;32m)\u001b[0m\u001b[1;32m:\u001b[0m\n"
      ]
     },
     "metadata": {},
     "output_type": "display_data"
    },
    {
     "data": {
      "text/html": [
       "<pre style=\"white-space:pre;overflow-x:auto;line-height:normal;font-family:Menlo,'DejaVu Sans Mono',consolas,'Courier New',monospace\"><span style=\"font-weight: bold\">{</span>\n",
       "<span style=\"color: #7fbf7f; text-decoration-color: #7fbf7f\">│   </span><span style=\"color: #008000; text-decoration-color: #008000\">'activity_name'</span>: <span style=\"color: #008000; text-decoration-color: #008000\">'Đánh giá và Giao nhiệm vụ về nhà'</span>,\n",
       "<span style=\"color: #7fbf7f; text-decoration-color: #7fbf7f\">│   </span><span style=\"color: #008000; text-decoration-color: #008000\">'question_type'</span>: <span style=\"color: #008000; text-decoration-color: #008000\">'Trắc nghiệm/Điền khuyết'</span>,\n",
       "<span style=\"color: #7fbf7f; text-decoration-color: #7fbf7f\">│   </span><span style=\"color: #008000; text-decoration-color: #008000\">'duration_minutes'</span>: <span style=\"color: #008080; text-decoration-color: #008080; font-weight: bold\">5</span>,\n",
       "<span style=\"color: #7fbf7f; text-decoration-color: #7fbf7f\">│   </span><span style=\"color: #008000; text-decoration-color: #008000\">'teacher_actions'</span>: <span style=\"font-weight: bold\">[</span>\n",
       "<span style=\"color: #7fbf7f; text-decoration-color: #7fbf7f\">│   │   </span><span style=\"color: #008000; text-decoration-color: #008000\">'Phát phiếu bài tập trắc nghiệm/điền khuyết (2 câu) cho học sinh.'</span>,\n",
       "<span style=\"color: #7fbf7f; text-decoration-color: #7fbf7f\">│   │   </span><span style=\"color: #008000; text-decoration-color: #008000\">'Yêu cầu học sinh hoàn thành nhanh trong 2-3 phút.'</span>,\n",
       "<span style=\"color: #7fbf7f; text-decoration-color: #7fbf7f\">│   │   </span><span style=\"color: #008000; text-decoration-color: #008000\">'Thu phiếu bài tập cá nhân để kiểm tra nhanh mức độ hiểu bài.'</span>,\n",
       "<span style=\"color: #7fbf7f; text-decoration-color: #7fbf7f\">│   │   </span><span style=\"color: #008000; text-decoration-color: #008000\">'Giao bài tập về nhà (phiếu bài tập hoặc bài tập trong SGK/SBT) bao gồm các dạng bài đã học và các bài tập nâng cao (có đánh dấu) cho học sinh khá giỏi.'</span>,\n",
       "<span style=\"color: #7fbf7f; text-decoration-color: #7fbf7f\">│   │   </span><span style=\"color: #008000; text-decoration-color: #008000\">'Nhắc nhở học sinh xem trước bài mới cho buổi học tiếp theo.'</span>\n",
       "<span style=\"color: #7fbf7f; text-decoration-color: #7fbf7f\">│   </span><span style=\"font-weight: bold\">]</span>,\n",
       "<span style=\"color: #7fbf7f; text-decoration-color: #7fbf7f\">│   </span><span style=\"color: #008000; text-decoration-color: #008000\">'core_component'</span>: <span style=\"color: #008000; text-decoration-color: #008000\">'Hoàn thành nhanh các câu hỏi sau:\\n1. Đường tròn ngoại tiếp tam giác là đường tròn đi qua:\\nA. 3 cạnh của tam giác\\nB. 3 đỉnh của tam giác\\nC. 3 đường cao của tam giác\\nD. 3 đường trung tuyến của tam giác\\n\\n2. Tâm của đường tròn nội tiếp tam giác là giao điểm của ba đường ____________ của tam giác.'</span>,\n",
       "<span style=\"color: #7fbf7f; text-decoration-color: #7fbf7f\">│   </span><span style=\"color: #008000; text-decoration-color: #008000\">'extension_component'</span>: <span style=\"color: #008000; text-decoration-color: #008000\">'Bài tập về nhà nâng cao (dành cho học sinh khá giỏi):\\n1. Cho tam giác ABC có AB=3cm, AC=4cm, BC=5cm. Tính bán kính đường tròn ngoại tiếp và nội tiếp tam giác ABC.\\n2. Chứng minh rằng trong một tam giác đều, tâm đường tròn ngoại tiếp và tâm đường tròn nội tiếp trùng nhau.'</span>,\n",
       "<span style=\"color: #7fbf7f; text-decoration-color: #7fbf7f\">│   </span><span style=\"color: #008000; text-decoration-color: #008000\">'answer'</span>: <span style=\"color: #008000; text-decoration-color: #008000\">'1. 3 đỉnh của tam giác. 2. phân giác.'</span>,\n",
       "<span style=\"color: #7fbf7f; text-decoration-color: #7fbf7f\">│   </span><span style=\"color: #008000; text-decoration-color: #008000\">'solution_guide'</span>: <span style=\"color: #800080; text-decoration-color: #800080; font-style: italic\">None</span>,\n",
       "<span style=\"color: #7fbf7f; text-decoration-color: #7fbf7f\">│   </span><span style=\"color: #008000; text-decoration-color: #008000\">'differentiation'</span>: <span style=\"font-weight: bold\">{</span>\n",
       "<span style=\"color: #7fbf7f; text-decoration-color: #7fbf7f\">│   │   </span><span style=\"color: #008000; text-decoration-color: #008000\">'for_struggling_students'</span>: <span style=\"color: #008000; text-decoration-color: #008000\">'Đối với phần kiểm tra nhanh, giáo viên có thể gợi ý hoặc cho phép học sinh yếu tham khảo nhanh vở ghi nếu cần. Khi giao bài tập về nhà, nhắc nhở các em tập trung vào các bài cơ bản, có thể bỏ qua các bài nâng cao nếu quá khó.'</span>,\n",
       "<span style=\"color: #7fbf7f; text-decoration-color: #7fbf7f\">│   │   </span><span style=\"color: #008000; text-decoration-color: #008000\">'for_advanced_students'</span>: <span style=\"color: #008000; text-decoration-color: #008000\">'Khuyến khích học sinh khá giỏi hoàn thành nhanh phần kiểm tra và tập trung vào các bài tập nâng cao (có đánh dấu) trong phần bài tập về nhà. Có thể yêu cầu các em tự tìm thêm các bài toán ứng dụng thực tế liên quan đến đường tròn ngoại tiếp/nội tiếp.'</span>\n",
       "<span style=\"color: #7fbf7f; text-decoration-color: #7fbf7f\">│   </span><span style=\"font-weight: bold\">}</span>,\n",
       "<span style=\"color: #7fbf7f; text-decoration-color: #7fbf7f\">│   </span><span style=\"color: #008000; text-decoration-color: #008000\">'question_or_description'</span>: <span style=\"color: #008000; text-decoration-color: #008000\">'**Phần Cốt lõi:**\\nHoàn thành nhanh các câu hỏi sau:\\n1. Đường tròn ngoại tiếp tam giác là đường tròn đi qua:\\nA. 3 cạnh của tam giác\\nB. 3 đỉnh của tam giác\\nC. 3 đường cao của tam giác\\nD. 3 đường trung tuyến của tam giác\\n\\n2. Tâm của đường tròn nội tiếp tam giác là giao điểm của ba đường ____________ của tam giác.\\n\\n**Phần Mở rộng (nếu còn thời gian):**\\nBài tập về nhà nâng cao (dành cho học sinh khá giỏi):\\n1. Cho tam giác ABC có AB=3cm, AC=4cm, BC=5cm. Tính bán kính đường tròn ngoại tiếp và nội tiếp tam giác ABC.\\n2. Chứng minh rằng trong một tam giác đều, tâm đường tròn ngoại tiếp và tâm đường tròn nội tiếp trùng nhau.'</span>\n",
       "<span style=\"font-weight: bold\">}</span>\n",
       "</pre>\n"
      ],
      "text/plain": [
       "\u001b[1m{\u001b[0m\n",
       "\u001b[2;32m│   \u001b[0m\u001b[32m'activity_name'\u001b[0m: \u001b[32m'Đánh giá và Giao nhiệm vụ về nhà'\u001b[0m,\n",
       "\u001b[2;32m│   \u001b[0m\u001b[32m'question_type'\u001b[0m: \u001b[32m'Trắc nghiệm/Điền khuyết'\u001b[0m,\n",
       "\u001b[2;32m│   \u001b[0m\u001b[32m'duration_minutes'\u001b[0m: \u001b[1;36m5\u001b[0m,\n",
       "\u001b[2;32m│   \u001b[0m\u001b[32m'teacher_actions'\u001b[0m: \u001b[1m[\u001b[0m\n",
       "\u001b[2;32m│   │   \u001b[0m\u001b[32m'Phát phiếu bài tập trắc nghiệm/điền khuyết \u001b[0m\u001b[32m(\u001b[0m\u001b[32m2 câu\u001b[0m\u001b[32m)\u001b[0m\u001b[32m cho học sinh.'\u001b[0m,\n",
       "\u001b[2;32m│   │   \u001b[0m\u001b[32m'Yêu cầu học sinh hoàn thành nhanh trong 2-3 phút.'\u001b[0m,\n",
       "\u001b[2;32m│   │   \u001b[0m\u001b[32m'Thu phiếu bài tập cá nhân để kiểm tra nhanh mức độ hiểu bài.'\u001b[0m,\n",
       "\u001b[2;32m│   │   \u001b[0m\u001b[32m'Giao bài tập về nhà \u001b[0m\u001b[32m(\u001b[0m\u001b[32mphiếu bài tập hoặc bài tập trong SGK/SBT\u001b[0m\u001b[32m)\u001b[0m\u001b[32m bao gồm các dạng bài đã học và các bài tập nâng cao \u001b[0m\u001b[32m(\u001b[0m\u001b[32mcó đánh dấu\u001b[0m\u001b[32m)\u001b[0m\u001b[32m cho học sinh khá giỏi.'\u001b[0m,\n",
       "\u001b[2;32m│   │   \u001b[0m\u001b[32m'Nhắc nhở học sinh xem trước bài mới cho buổi học tiếp theo.'\u001b[0m\n",
       "\u001b[2;32m│   \u001b[0m\u001b[1m]\u001b[0m,\n",
       "\u001b[2;32m│   \u001b[0m\u001b[32m'core_component'\u001b[0m: \u001b[32m'Hoàn thành nhanh các câu hỏi sau:\\n1. Đường tròn ngoại tiếp tam giác là đường tròn đi qua:\\nA. 3 cạnh của tam giác\\nB. 3 đỉnh của tam giác\\nC. 3 đường cao của tam giác\\nD. 3 đường trung tuyến của tam giác\\n\\n2. Tâm của đường tròn nội tiếp tam giác là giao điểm của ba đường ____________ của tam giác.'\u001b[0m,\n",
       "\u001b[2;32m│   \u001b[0m\u001b[32m'extension_component'\u001b[0m: \u001b[32m'Bài tập về nhà nâng cao \u001b[0m\u001b[32m(\u001b[0m\u001b[32mdành cho học sinh khá giỏi\u001b[0m\u001b[32m)\u001b[0m\u001b[32m:\\n1. Cho tam giác ABC có \u001b[0m\u001b[32mAB\u001b[0m\u001b[32m=\u001b[0m\u001b[32m3cm\u001b[0m\u001b[32m, \u001b[0m\u001b[32mAC\u001b[0m\u001b[32m=\u001b[0m\u001b[32m4cm\u001b[0m\u001b[32m, \u001b[0m\u001b[32mBC\u001b[0m\u001b[32m=\u001b[0m\u001b[32m5cm\u001b[0m\u001b[32m. Tính bán kính đường tròn ngoại tiếp và nội tiếp tam giác ABC.\\n2. Chứng minh rằng trong một tam giác đều, tâm đường tròn ngoại tiếp và tâm đường tròn nội tiếp trùng nhau.'\u001b[0m,\n",
       "\u001b[2;32m│   \u001b[0m\u001b[32m'answer'\u001b[0m: \u001b[32m'1. 3 đỉnh của tam giác. 2. phân giác.'\u001b[0m,\n",
       "\u001b[2;32m│   \u001b[0m\u001b[32m'solution_guide'\u001b[0m: \u001b[3;35mNone\u001b[0m,\n",
       "\u001b[2;32m│   \u001b[0m\u001b[32m'differentiation'\u001b[0m: \u001b[1m{\u001b[0m\n",
       "\u001b[2;32m│   │   \u001b[0m\u001b[32m'for_struggling_students'\u001b[0m: \u001b[32m'Đối với phần kiểm tra nhanh, giáo viên có thể gợi ý hoặc cho phép học sinh yếu tham khảo nhanh vở ghi nếu cần. Khi giao bài tập về nhà, nhắc nhở các em tập trung vào các bài cơ bản, có thể bỏ qua các bài nâng cao nếu quá khó.'\u001b[0m,\n",
       "\u001b[2;32m│   │   \u001b[0m\u001b[32m'for_advanced_students'\u001b[0m: \u001b[32m'Khuyến khích học sinh khá giỏi hoàn thành nhanh phần kiểm tra và tập trung vào các bài tập nâng cao \u001b[0m\u001b[32m(\u001b[0m\u001b[32mcó đánh dấu\u001b[0m\u001b[32m)\u001b[0m\u001b[32m trong phần bài tập về nhà. Có thể yêu cầu các em tự tìm thêm các bài toán ứng dụng thực tế liên quan đến đường tròn ngoại tiếp/nội tiếp.'\u001b[0m\n",
       "\u001b[2;32m│   \u001b[0m\u001b[1m}\u001b[0m,\n",
       "\u001b[2;32m│   \u001b[0m\u001b[32m'question_or_description'\u001b[0m: \u001b[32m'**Phần Cốt lõi:**\\nHoàn thành nhanh các câu hỏi sau:\\n1. Đường tròn ngoại tiếp tam giác là đường tròn đi qua:\\nA. 3 cạnh của tam giác\\nB. 3 đỉnh của tam giác\\nC. 3 đường cao của tam giác\\nD. 3 đường trung tuyến của tam giác\\n\\n2. Tâm của đường tròn nội tiếp tam giác là giao điểm của ba đường ____________ của tam giác.\\n\\n**Phần Mở rộng \u001b[0m\u001b[32m(\u001b[0m\u001b[32mnếu còn thời gian\u001b[0m\u001b[32m)\u001b[0m\u001b[32m:**\\nBài tập về nhà nâng cao \u001b[0m\u001b[32m(\u001b[0m\u001b[32mdành cho học sinh khá giỏi\u001b[0m\u001b[32m)\u001b[0m\u001b[32m:\\n1. Cho tam giác ABC có \u001b[0m\u001b[32mAB\u001b[0m\u001b[32m=\u001b[0m\u001b[32m3cm\u001b[0m\u001b[32m, \u001b[0m\u001b[32mAC\u001b[0m\u001b[32m=\u001b[0m\u001b[32m4cm\u001b[0m\u001b[32m, \u001b[0m\u001b[32mBC\u001b[0m\u001b[32m=\u001b[0m\u001b[32m5cm\u001b[0m\u001b[32m. Tính bán kính đường tròn ngoại tiếp và nội tiếp tam giác ABC.\\n2. Chứng minh rằng trong một tam giác đều, tâm đường tròn ngoại tiếp và tâm đường tròn nội tiếp trùng nhau.'\u001b[0m\n",
       "\u001b[1m}\u001b[0m\n"
      ]
     },
     "metadata": {},
     "output_type": "display_data"
    },
    {
     "data": {
      "text/html": [
       "<pre style=\"white-space:pre;overflow-x:auto;line-height:normal;font-family:Menlo,'DejaVu Sans Mono',consolas,'Courier New',monospace\">\n",
       "<span style=\"color: #808000; text-decoration-color: #808000; font-weight: bold\">------- Hoàn thành bước: assessment_creator -------</span>\n",
       "</pre>\n"
      ],
      "text/plain": [
       "\n",
       "\u001b[1;33m------- Hoàn thành bước: assessment_creator -------\u001b[0m\n"
      ]
     },
     "metadata": {},
     "output_type": "display_data"
    },
    {
     "data": {
      "text/html": [
       "<pre style=\"white-space:pre;overflow-x:auto;line-height:normal;font-family:Menlo,'DejaVu Sans Mono',consolas,'Courier New',monospace\">\n",
       "<span style=\"color: #008080; text-decoration-color: #008080; font-weight: bold\">&gt;</span> `Agent: Time-Budget Advisor` <span style=\"font-weight: bold\">(</span>v9.<span style=\"color: #008080; text-decoration-color: #008080; font-weight: bold\">7</span><span style=\"font-weight: bold\">)</span> đang phản biện nội dung và ngân sách thời gian<span style=\"color: #808000; text-decoration-color: #808000\">...</span>\n",
       "</pre>\n"
      ],
      "text/plain": [
       "\n",
       "\u001b[1;36m>\u001b[0m `Agent: Time-Budget Advisor` \u001b[1m(\u001b[0mv9.\u001b[1;36m7\u001b[0m\u001b[1m)\u001b[0m đang phản biện nội dung và ngân sách thời gian\u001b[33m...\u001b[0m\n"
      ]
     },
     "metadata": {},
     "output_type": "display_data"
    },
    {
     "data": {
      "text/html": [
       "<pre style=\"white-space:pre;overflow-x:auto;line-height:normal;font-family:Menlo,'DejaVu Sans Mono',consolas,'Courier New',monospace\"><span style=\"color: #808000; text-decoration-color: #808000; font-weight: bold\">⚠️  CỐ VẤN PHẢN BIỆN: [STRUCTURAL_FEEDBACK] Hoạt động </span><span style=\"color: #808000; text-decoration-color: #808000; font-weight: bold\">\"Đánh giá và Giao nhiệm vụ về nhà\"</span><span style=\"color: #808000; text-decoration-color: #808000; font-weight: bold\"> có nội dung chuyên môn </span>\n",
       "<span style=\"color: #808000; text-decoration-color: #808000; font-weight: bold\">chính xác và phù hợp. Tuy nhiên, thời lượng </span><span style=\"color: #808000; text-decoration-color: #808000; font-weight: bold\">5</span><span style=\"color: #808000; text-decoration-color: #808000; font-weight: bold\"> phút được đề xuất là quá ngắn để thực hiện đầy đủ các bước như phát </span>\n",
       "<span style=\"color: #808000; text-decoration-color: #808000; font-weight: bold\">phiếu, thu phiếu, cho học sinh làm bài kiểm tra nhanh, giao bài tập về nhà chi tiết (bao gồm cả phân hóa) và nhắc </span>\n",
       "<span style=\"color: #808000; text-decoration-color: #808000; font-weight: bold\">nhở xem trước bài mới. Để đảm bảo học sinh có đủ thời gian hoàn thành bài kiểm tra nhanh và giáo viên có thể truyền</span>\n",
       "<span style=\"color: #808000; text-decoration-color: #808000; font-weight: bold\">đạt rõ ràng các yêu cầu về nhà, hoạt động này cần nhiều thời gian hơn để không bị cập rập. | SUGGESTED_DURATION: </span><span style=\"color: #808000; text-decoration-color: #808000; font-weight: bold\">7</span>\n",
       "</pre>\n"
      ],
      "text/plain": [
       "\u001b[1;33m⚠️  CỐ VẤN PHẢN BIỆN: \u001b[0m\u001b[1;33m[\u001b[0m\u001b[1;33mSTRUCTURAL_FEEDBACK\u001b[0m\u001b[1;33m]\u001b[0m\u001b[1;33m Hoạt động \u001b[0m\u001b[1;33m\"Đánh giá và Giao nhiệm vụ về nhà\"\u001b[0m\u001b[1;33m có nội dung chuyên môn \u001b[0m\n",
       "\u001b[1;33mchính xác và phù hợp. Tuy nhiên, thời lượng \u001b[0m\u001b[1;33m5\u001b[0m\u001b[1;33m phút được đề xuất là quá ngắn để thực hiện đầy đủ các bước như phát \u001b[0m\n",
       "\u001b[1;33mphiếu, thu phiếu, cho học sinh làm bài kiểm tra nhanh, giao bài tập về nhà chi tiết \u001b[0m\u001b[1;33m(\u001b[0m\u001b[1;33mbao gồm cả phân hóa\u001b[0m\u001b[1;33m)\u001b[0m\u001b[1;33m và nhắc \u001b[0m\n",
       "\u001b[1;33mnhở xem trước bài mới. Để đảm bảo học sinh có đủ thời gian hoàn thành bài kiểm tra nhanh và giáo viên có thể truyền\u001b[0m\n",
       "\u001b[1;33mđạt rõ ràng các yêu cầu về nhà, hoạt động này cần nhiều thời gian hơn để không bị cập rập. | SUGGESTED_DURATION: \u001b[0m\u001b[1;33m7\u001b[0m\n"
      ]
     },
     "metadata": {},
     "output_type": "display_data"
    },
    {
     "data": {
      "text/html": [
       "<pre style=\"white-space:pre;overflow-x:auto;line-height:normal;font-family:Menlo,'DejaVu Sans Mono',consolas,'Courier New',monospace\">\n",
       "<span style=\"color: #008080; text-decoration-color: #008080; font-weight: bold\">&gt;</span> ROUTER <span style=\"font-weight: bold\">(</span>Validation<span style=\"font-weight: bold\">)</span>: Lỗi cấu trúc, yêu cầu LẬP KẾ HOẠCH LẠI.\n",
       "</pre>\n"
      ],
      "text/plain": [
       "\n",
       "\u001b[1;36m>\u001b[0m ROUTER \u001b[1m(\u001b[0mValidation\u001b[1m)\u001b[0m: Lỗi cấu trúc, yêu cầu LẬP KẾ HOẠCH LẠI.\n"
      ]
     },
     "metadata": {},
     "output_type": "display_data"
    },
    {
     "data": {
      "text/html": [
       "<pre style=\"white-space:pre;overflow-x:auto;line-height:normal;font-family:Menlo,'DejaVu Sans Mono',consolas,'Courier New',monospace\">\n",
       "<span style=\"color: #808000; text-decoration-color: #808000; font-weight: bold\">------- Hoàn thành bước: content_validator -------</span>\n",
       "</pre>\n"
      ],
      "text/plain": [
       "\n",
       "\u001b[1;33m------- Hoàn thành bước: content_validator -------\u001b[0m\n"
      ]
     },
     "metadata": {},
     "output_type": "display_data"
    },
    {
     "data": {
      "text/html": [
       "<pre style=\"white-space:pre;overflow-x:auto;line-height:normal;font-family:Menlo,'DejaVu Sans Mono',consolas,'Courier New',monospace\">\n",
       "<span style=\"color: #008080; text-decoration-color: #008080; font-weight: bold\">&gt;</span> `Node: Task Time Surgeon`  surgically updating task duration<span style=\"color: #808000; text-decoration-color: #808000\">...</span>\n",
       "</pre>\n"
      ],
      "text/plain": [
       "\n",
       "\u001b[1;36m>\u001b[0m `Node: Task Time Surgeon`  surgically updating task duration\u001b[33m...\u001b[0m\n"
      ]
     },
     "metadata": {},
     "output_type": "display_data"
    },
    {
     "data": {
      "text/html": [
       "<pre style=\"white-space:pre;overflow-x:auto;line-height:normal;font-family:Menlo,'DejaVu Sans Mono',consolas,'Courier New',monospace\">\n",
       "<span style=\"color: #008080; text-decoration-color: #008080; font-weight: bold\">&gt;</span> Đã trích xuất thời gian đề xuất: <span style=\"color: #008080; text-decoration-color: #008080; font-weight: bold\">7</span> phút.\n",
       "</pre>\n"
      ],
      "text/plain": [
       "\n",
       "\u001b[1;36m>\u001b[0m Đã trích xuất thời gian đề xuất: \u001b[1;36m7\u001b[0m phút.\n"
      ]
     },
     "metadata": {},
     "output_type": "display_data"
    },
    {
     "data": {
      "text/html": [
       "<pre style=\"white-space:pre;overflow-x:auto;line-height:normal;font-family:Menlo,'DejaVu Sans Mono',consolas,'Courier New',monospace\"><span style=\"color: #008000; text-decoration-color: #008000; font-weight: bold\">✔️ Đã cập nhật thời lượng nhiệm vụ:</span>\n",
       "</pre>\n"
      ],
      "text/plain": [
       "\u001b[1;32m✔️ Đã cập nhật thời lượng nhiệm vụ:\u001b[0m\n"
      ]
     },
     "metadata": {},
     "output_type": "display_data"
    },
    {
     "data": {
      "text/html": [
       "<pre style=\"white-space:pre;overflow-x:auto;line-height:normal;font-family:Menlo,'DejaVu Sans Mono',consolas,'Courier New',monospace\"><span style=\"font-weight: bold\">{</span>\n",
       "<span style=\"color: #7fbf7f; text-decoration-color: #7fbf7f\">│   </span><span style=\"color: #008000; text-decoration-color: #008000\">'task_id'</span>: <span style=\"color: #008080; text-decoration-color: #008080; font-weight: bold\">4</span>,\n",
       "<span style=\"color: #7fbf7f; text-decoration-color: #7fbf7f\">│   </span><span style=\"color: #008000; text-decoration-color: #008000\">'from'</span>: <span style=\"color: #008080; text-decoration-color: #008080; font-weight: bold\">5</span>,\n",
       "<span style=\"color: #7fbf7f; text-decoration-color: #7fbf7f\">│   </span><span style=\"color: #008000; text-decoration-color: #008000\">'to'</span>: <span style=\"color: #008080; text-decoration-color: #008080; font-weight: bold\">7</span>\n",
       "<span style=\"font-weight: bold\">}</span>\n",
       "</pre>\n"
      ],
      "text/plain": [
       "\u001b[1m{\u001b[0m\n",
       "\u001b[2;32m│   \u001b[0m\u001b[32m'task_id'\u001b[0m: \u001b[1;36m4\u001b[0m,\n",
       "\u001b[2;32m│   \u001b[0m\u001b[32m'from'\u001b[0m: \u001b[1;36m5\u001b[0m,\n",
       "\u001b[2;32m│   \u001b[0m\u001b[32m'to'\u001b[0m: \u001b[1;36m7\u001b[0m\n",
       "\u001b[1m}\u001b[0m\n"
      ]
     },
     "metadata": {},
     "output_type": "display_data"
    },
    {
     "data": {
      "text/html": [
       "<pre style=\"white-space:pre;overflow-x:auto;line-height:normal;font-family:Menlo,'DejaVu Sans Mono',consolas,'Courier New',monospace\">\n",
       "<span style=\"color: #808000; text-decoration-color: #808000; font-weight: bold\">------- Hoàn thành bước: update_task_duration -------</span>\n",
       "</pre>\n"
      ],
      "text/plain": [
       "\n",
       "\u001b[1;33m------- Hoàn thành bước: update_task_duration -------\u001b[0m\n"
      ]
     },
     "metadata": {},
     "output_type": "display_data"
    },
    {
     "data": {
      "text/html": [
       "<pre style=\"white-space:pre;overflow-x:auto;line-height:normal;font-family:Menlo,'DejaVu Sans Mono',consolas,'Courier New',monospace\">\n",
       "<span style=\"color: #008080; text-decoration-color: #008080; font-weight: bold\">&gt;</span> `Agent: Task Dispatcher` <span style=\"font-weight: bold\">(</span>v7.<span style=\"color: #008080; text-decoration-color: #008080; font-weight: bold\">1</span><span style=\"font-weight: bold\">)</span> Bắt đầu<span style=\"color: #808000; text-decoration-color: #808000\">...</span>\n",
       "</pre>\n"
      ],
      "text/plain": [
       "\n",
       "\u001b[1;36m>\u001b[0m `Agent: Task Dispatcher` \u001b[1m(\u001b[0mv7.\u001b[1;36m1\u001b[0m\u001b[1m)\u001b[0m Bắt đầu\u001b[33m...\u001b[0m\n"
      ]
     },
     "metadata": {},
     "output_type": "display_data"
    },
    {
     "data": {
      "text/html": [
       "<pre style=\"white-space:pre;overflow-x:auto;line-height:normal;font-family:Menlo,'DejaVu Sans Mono',consolas,'Courier New',monospace\">\n",
       "<span style=\"color: #008080; text-decoration-color: #008080; font-weight: bold\">&gt;</span> --- 🚚 `Dispatcher`: Giao nhiệm vụ cho `assessment_creator`.\n",
       "</pre>\n"
      ],
      "text/plain": [
       "\n",
       "\u001b[1;36m>\u001b[0m --- 🚚 `Dispatcher`: Giao nhiệm vụ cho `assessment_creator`.\n"
      ]
     },
     "metadata": {},
     "output_type": "display_data"
    },
    {
     "data": {
      "text/html": [
       "<pre style=\"white-space:pre;overflow-x:auto;line-height:normal;font-family:Menlo,'DejaVu Sans Mono',consolas,'Courier New',monospace\">\n",
       "<span style=\"color: #808000; text-decoration-color: #808000; font-weight: bold\">------- Hoàn thành bước: task_dispatcher -------</span>\n",
       "</pre>\n"
      ],
      "text/plain": [
       "\n",
       "\u001b[1;33m------- Hoàn thành bước: task_dispatcher -------\u001b[0m\n"
      ]
     },
     "metadata": {},
     "output_type": "display_data"
    },
    {
     "data": {
      "text/html": [
       "<pre style=\"white-space:pre;overflow-x:auto;line-height:normal;font-family:Menlo,'DejaVu Sans Mono',consolas,'Courier New',monospace\">\n",
       "<span style=\"color: #008080; text-decoration-color: #008080; font-weight: bold\">&gt;</span> `Agent: Assessment Creator` <span style=\"font-weight: bold\">(</span>v9.<span style=\"color: #008080; text-decoration-color: #008080; font-weight: bold\">7</span><span style=\"font-weight: bold\">)</span> đang tạo nội dung linh hoạt <span style=\"font-weight: bold\">(</span>Lõi + Mở rộng<span style=\"font-weight: bold\">)</span><span style=\"color: #808000; text-decoration-color: #808000\">...</span>\n",
       "</pre>\n"
      ],
      "text/plain": [
       "\n",
       "\u001b[1;36m>\u001b[0m `Agent: Assessment Creator` \u001b[1m(\u001b[0mv9.\u001b[1;36m7\u001b[0m\u001b[1m)\u001b[0m đang tạo nội dung linh hoạt \u001b[1m(\u001b[0mLõi + Mở rộng\u001b[1m)\u001b[0m\u001b[33m...\u001b[0m\n"
      ]
     },
     "metadata": {},
     "output_type": "display_data"
    },
    {
     "data": {
      "text/html": [
       "<pre style=\"white-space:pre;overflow-x:auto;line-height:normal;font-family:Menlo,'DejaVu Sans Mono',consolas,'Courier New',monospace\"><span style=\"color: #008000; text-decoration-color: #008000; font-weight: bold\">✔️ Nội dung do Assessment Creator tạo ra (Linh hoạt):</span>\n",
       "</pre>\n"
      ],
      "text/plain": [
       "\u001b[1;32m✔️ Nội dung do Assessment Creator tạo ra \u001b[0m\u001b[1;32m(\u001b[0m\u001b[1;32mLinh hoạt\u001b[0m\u001b[1;32m)\u001b[0m\u001b[1;32m:\u001b[0m\n"
      ]
     },
     "metadata": {},
     "output_type": "display_data"
    },
    {
     "data": {
      "text/html": [
       "<pre style=\"white-space:pre;overflow-x:auto;line-height:normal;font-family:Menlo,'DejaVu Sans Mono',consolas,'Courier New',monospace\"><span style=\"font-weight: bold\">{</span>\n",
       "<span style=\"color: #7fbf7f; text-decoration-color: #7fbf7f\">│   </span><span style=\"color: #008000; text-decoration-color: #008000\">'activity_name'</span>: <span style=\"color: #008000; text-decoration-color: #008000\">'Đánh giá và Giao nhiệm vụ về nhà'</span>,\n",
       "<span style=\"color: #7fbf7f; text-decoration-color: #7fbf7f\">│   </span><span style=\"color: #008000; text-decoration-color: #008000\">'question_type'</span>: <span style=\"color: #008000; text-decoration-color: #008000\">'Trắc nghiệm/Điền khuyết'</span>,\n",
       "<span style=\"color: #7fbf7f; text-decoration-color: #7fbf7f\">│   </span><span style=\"color: #008000; text-decoration-color: #008000\">'duration_minutes'</span>: <span style=\"color: #008080; text-decoration-color: #008080; font-weight: bold\">7</span>,\n",
       "<span style=\"color: #7fbf7f; text-decoration-color: #7fbf7f\">│   </span><span style=\"color: #008000; text-decoration-color: #008000\">'teacher_actions'</span>: <span style=\"font-weight: bold\">[</span>\n",
       "<span style=\"color: #7fbf7f; text-decoration-color: #7fbf7f\">│   │   </span><span style=\"color: #008000; text-decoration-color: #008000\">'Phát phiếu bài tập kiểm tra nhanh cho học sinh (1 phút).'</span>,\n",
       "<span style=\"color: #7fbf7f; text-decoration-color: #7fbf7f\">│   │   </span><span style=\"color: #008000; text-decoration-color: #008000\">'Cho học sinh làm bài trong 3 phút.'</span>,\n",
       "<span style=\"color: #7fbf7f; text-decoration-color: #7fbf7f\">│   │   </span><span style=\"color: #008000; text-decoration-color: #008000\">'Thu phiếu bài tập kiểm tra nhanh và phiếu học tập nhóm (1 phút).'</span>,\n",
       "<span style=\"color: #7fbf7f; text-decoration-color: #7fbf7f\">│   │   </span><span style=\"color: #008000; text-decoration-color: #008000\">'Giao bài tập về nhà, hướng dẫn các dạng bài và chỉ rõ bài nâng cao (1 phút).'</span>,\n",
       "<span style=\"color: #7fbf7f; text-decoration-color: #7fbf7f\">│   │   </span><span style=\"color: #008000; text-decoration-color: #008000\">'Nhắc nhở học sinh chuẩn bị bài cho buổi học tiếp theo (1 phút).'</span>\n",
       "<span style=\"color: #7fbf7f; text-decoration-color: #7fbf7f\">│   </span><span style=\"font-weight: bold\">]</span>,\n",
       "<span style=\"color: #7fbf7f; text-decoration-color: #7fbf7f\">│   </span><span style=\"color: #008000; text-decoration-color: #008000\">'core_component'</span>: <span style=\"color: #008000; text-decoration-color: #008000\">'Giáo viên phát phiếu bài tập kiểm tra nhanh gồm 2 câu hỏi:\\n1. Đường tròn đi qua ba đỉnh của một tam giác được gọi là đường tròn _______ của tam giác đó. (Chọn đáp án đúng: A. nội tiếp, B. ngoại tiếp, C. bàng tiếp)\\n2. Tâm của đường tròn nội tiếp một tam giác là giao điểm của ba đường _______ của tam giác đó. (Điền từ thích hợp vào chỗ trống)'</span>,\n",
       "<span style=\"color: #7fbf7f; text-decoration-color: #7fbf7f\">│   </span><span style=\"color: #008000; text-decoration-color: #008000\">'extension_component'</span>: <span style=\"color: #008000; text-decoration-color: #008000\">'Bài tập về nhà nâng cao (dành cho học sinh khá giỏi):\\nCho tam giác ABC vuông tại A có AB = 6cm, AC = 8cm. Tính bán kính đường tròn ngoại tiếp và bán kính đường tròn nội tiếp tam giác ABC.'</span>,\n",
       "<span style=\"color: #7fbf7f; text-decoration-color: #7fbf7f\">│   </span><span style=\"color: #008000; text-decoration-color: #008000\">'answer'</span>: <span style=\"color: #008000; text-decoration-color: #008000\">'1. B. ngoại tiếp 2. phân giác'</span>,\n",
       "<span style=\"color: #7fbf7f; text-decoration-color: #7fbf7f\">│   </span><span style=\"color: #008000; text-decoration-color: #008000\">'solution_guide'</span>: <span style=\"color: #800080; text-decoration-color: #800080; font-style: italic\">None</span>,\n",
       "<span style=\"color: #7fbf7f; text-decoration-color: #7fbf7f\">│   </span><span style=\"color: #008000; text-decoration-color: #008000\">'differentiation'</span>: <span style=\"font-weight: bold\">{</span>\n",
       "<span style=\"color: #7fbf7f; text-decoration-color: #7fbf7f\">│   │   </span><span style=\"color: #008000; text-decoration-color: #008000\">'for_struggling_students'</span>: <span style=\"color: #008000; text-decoration-color: #008000\">'Trong phần bài tập về nhà, học sinh yếu/gặp khó khăn nên tập trung hoàn thành các bài tập cơ bản, ôn lại định nghĩa và tính chất của đường tròn nội tiếp, ngoại tiếp. Giáo viên có thể gợi ý các em xem lại ví dụ trong sách giáo khoa hoặc vở ghi.'</span>,\n",
       "<span style=\"color: #7fbf7f; text-decoration-color: #7fbf7f\">│   │   </span><span style=\"color: #008000; text-decoration-color: #008000\">'for_advanced_students'</span>: <span style=\"color: #008000; text-decoration-color: #008000\">'Học sinh khá giỏi nên thử sức với bài tập nâng cao (được đánh dấu trong phần bài tập về nhà) và có thể tìm hiểu thêm về các tính chất đặc biệt của đường tròn liên quan đến tam giác (ví dụ: đường tròn Euler, định lý Simson).'</span>\n",
       "<span style=\"color: #7fbf7f; text-decoration-color: #7fbf7f\">│   </span><span style=\"font-weight: bold\">}</span>,\n",
       "<span style=\"color: #7fbf7f; text-decoration-color: #7fbf7f\">│   </span><span style=\"color: #008000; text-decoration-color: #008000\">'question_or_description'</span>: <span style=\"color: #008000; text-decoration-color: #008000\">'**Phần Cốt lõi:**\\nGiáo viên phát phiếu bài tập kiểm tra nhanh gồm 2 câu hỏi:\\n1. Đường tròn đi qua ba đỉnh của một tam giác được gọi là đường tròn _______ của tam giác đó. (Chọn đáp án đúng: A. nội tiếp, B. ngoại tiếp, C. bàng tiếp)\\n2. Tâm của đường tròn nội tiếp một tam giác là giao điểm của ba đường _______ của tam giác đó. (Điền từ thích hợp vào chỗ trống)\\n\\n**Phần Mở rộng (nếu còn thời gian):**\\nBài tập về nhà nâng cao (dành cho học sinh khá giỏi):\\nCho tam giác ABC vuông tại A có AB = 6cm, AC = 8cm. Tính bán kính đường tròn ngoại tiếp và bán kính đường tròn nội tiếp tam giác ABC.'</span>\n",
       "<span style=\"font-weight: bold\">}</span>\n",
       "</pre>\n"
      ],
      "text/plain": [
       "\u001b[1m{\u001b[0m\n",
       "\u001b[2;32m│   \u001b[0m\u001b[32m'activity_name'\u001b[0m: \u001b[32m'Đánh giá và Giao nhiệm vụ về nhà'\u001b[0m,\n",
       "\u001b[2;32m│   \u001b[0m\u001b[32m'question_type'\u001b[0m: \u001b[32m'Trắc nghiệm/Điền khuyết'\u001b[0m,\n",
       "\u001b[2;32m│   \u001b[0m\u001b[32m'duration_minutes'\u001b[0m: \u001b[1;36m7\u001b[0m,\n",
       "\u001b[2;32m│   \u001b[0m\u001b[32m'teacher_actions'\u001b[0m: \u001b[1m[\u001b[0m\n",
       "\u001b[2;32m│   │   \u001b[0m\u001b[32m'Phát phiếu bài tập kiểm tra nhanh cho học sinh \u001b[0m\u001b[32m(\u001b[0m\u001b[32m1 phút\u001b[0m\u001b[32m)\u001b[0m\u001b[32m.'\u001b[0m,\n",
       "\u001b[2;32m│   │   \u001b[0m\u001b[32m'Cho học sinh làm bài trong 3 phút.'\u001b[0m,\n",
       "\u001b[2;32m│   │   \u001b[0m\u001b[32m'Thu phiếu bài tập kiểm tra nhanh và phiếu học tập nhóm \u001b[0m\u001b[32m(\u001b[0m\u001b[32m1 phút\u001b[0m\u001b[32m)\u001b[0m\u001b[32m.'\u001b[0m,\n",
       "\u001b[2;32m│   │   \u001b[0m\u001b[32m'Giao bài tập về nhà, hướng dẫn các dạng bài và chỉ rõ bài nâng cao \u001b[0m\u001b[32m(\u001b[0m\u001b[32m1 phút\u001b[0m\u001b[32m)\u001b[0m\u001b[32m.'\u001b[0m,\n",
       "\u001b[2;32m│   │   \u001b[0m\u001b[32m'Nhắc nhở học sinh chuẩn bị bài cho buổi học tiếp theo \u001b[0m\u001b[32m(\u001b[0m\u001b[32m1 phút\u001b[0m\u001b[32m)\u001b[0m\u001b[32m.'\u001b[0m\n",
       "\u001b[2;32m│   \u001b[0m\u001b[1m]\u001b[0m,\n",
       "\u001b[2;32m│   \u001b[0m\u001b[32m'core_component'\u001b[0m: \u001b[32m'Giáo viên phát phiếu bài tập kiểm tra nhanh gồm 2 câu hỏi:\\n1. Đường tròn đi qua ba đỉnh của một tam giác được gọi là đường tròn _______ của tam giác đó. \u001b[0m\u001b[32m(\u001b[0m\u001b[32mChọn đáp án đúng: A. nội tiếp, B. ngoại tiếp, C. bàng tiếp\u001b[0m\u001b[32m)\u001b[0m\u001b[32m\\n2. Tâm của đường tròn nội tiếp một tam giác là giao điểm của ba đường _______ của tam giác đó. \u001b[0m\u001b[32m(\u001b[0m\u001b[32mĐiền từ thích hợp vào chỗ trống\u001b[0m\u001b[32m)\u001b[0m\u001b[32m'\u001b[0m,\n",
       "\u001b[2;32m│   \u001b[0m\u001b[32m'extension_component'\u001b[0m: \u001b[32m'Bài tập về nhà nâng cao \u001b[0m\u001b[32m(\u001b[0m\u001b[32mdành cho học sinh khá giỏi\u001b[0m\u001b[32m)\u001b[0m\u001b[32m:\\nCho tam giác ABC vuông tại A có AB = 6cm, AC = 8cm. Tính bán kính đường tròn ngoại tiếp và bán kính đường tròn nội tiếp tam giác ABC.'\u001b[0m,\n",
       "\u001b[2;32m│   \u001b[0m\u001b[32m'answer'\u001b[0m: \u001b[32m'1. B. ngoại tiếp 2. phân giác'\u001b[0m,\n",
       "\u001b[2;32m│   \u001b[0m\u001b[32m'solution_guide'\u001b[0m: \u001b[3;35mNone\u001b[0m,\n",
       "\u001b[2;32m│   \u001b[0m\u001b[32m'differentiation'\u001b[0m: \u001b[1m{\u001b[0m\n",
       "\u001b[2;32m│   │   \u001b[0m\u001b[32m'for_struggling_students'\u001b[0m: \u001b[32m'Trong phần bài tập về nhà, học sinh yếu/gặp khó khăn nên tập trung hoàn thành các bài tập cơ bản, ôn lại định nghĩa và tính chất của đường tròn nội tiếp, ngoại tiếp. Giáo viên có thể gợi ý các em xem lại ví dụ trong sách giáo khoa hoặc vở ghi.'\u001b[0m,\n",
       "\u001b[2;32m│   │   \u001b[0m\u001b[32m'for_advanced_students'\u001b[0m: \u001b[32m'Học sinh khá giỏi nên thử sức với bài tập nâng cao \u001b[0m\u001b[32m(\u001b[0m\u001b[32mđược đánh dấu trong phần bài tập về nhà\u001b[0m\u001b[32m)\u001b[0m\u001b[32m và có thể tìm hiểu thêm về các tính chất đặc biệt của đường tròn liên quan đến tam giác \u001b[0m\u001b[32m(\u001b[0m\u001b[32mví dụ: đường tròn Euler, định lý Simson\u001b[0m\u001b[32m)\u001b[0m\u001b[32m.'\u001b[0m\n",
       "\u001b[2;32m│   \u001b[0m\u001b[1m}\u001b[0m,\n",
       "\u001b[2;32m│   \u001b[0m\u001b[32m'question_or_description'\u001b[0m: \u001b[32m'**Phần Cốt lõi:**\\nGiáo viên phát phiếu bài tập kiểm tra nhanh gồm 2 câu hỏi:\\n1. Đường tròn đi qua ba đỉnh của một tam giác được gọi là đường tròn _______ của tam giác đó. \u001b[0m\u001b[32m(\u001b[0m\u001b[32mChọn đáp án đúng: A. nội tiếp, B. ngoại tiếp, C. bàng tiếp\u001b[0m\u001b[32m)\u001b[0m\u001b[32m\\n2. Tâm của đường tròn nội tiếp một tam giác là giao điểm của ba đường _______ của tam giác đó. \u001b[0m\u001b[32m(\u001b[0m\u001b[32mĐiền từ thích hợp vào chỗ trống\u001b[0m\u001b[32m)\u001b[0m\u001b[32m\\n\\n**Phần Mở rộng \u001b[0m\u001b[32m(\u001b[0m\u001b[32mnếu còn thời gian\u001b[0m\u001b[32m)\u001b[0m\u001b[32m:**\\nBài tập về nhà nâng cao \u001b[0m\u001b[32m(\u001b[0m\u001b[32mdành cho học sinh khá giỏi\u001b[0m\u001b[32m)\u001b[0m\u001b[32m:\\nCho tam giác ABC vuông tại A có AB = 6cm, AC = 8cm. Tính bán kính đường tròn ngoại tiếp và bán kính đường tròn nội tiếp tam giác ABC.'\u001b[0m\n",
       "\u001b[1m}\u001b[0m\n"
      ]
     },
     "metadata": {},
     "output_type": "display_data"
    },
    {
     "data": {
      "text/html": [
       "<pre style=\"white-space:pre;overflow-x:auto;line-height:normal;font-family:Menlo,'DejaVu Sans Mono',consolas,'Courier New',monospace\">\n",
       "<span style=\"color: #808000; text-decoration-color: #808000; font-weight: bold\">------- Hoàn thành bước: assessment_creator -------</span>\n",
       "</pre>\n"
      ],
      "text/plain": [
       "\n",
       "\u001b[1;33m------- Hoàn thành bước: assessment_creator -------\u001b[0m\n"
      ]
     },
     "metadata": {},
     "output_type": "display_data"
    },
    {
     "data": {
      "text/html": [
       "<pre style=\"white-space:pre;overflow-x:auto;line-height:normal;font-family:Menlo,'DejaVu Sans Mono',consolas,'Courier New',monospace\">\n",
       "<span style=\"color: #008080; text-decoration-color: #008080; font-weight: bold\">&gt;</span> `Agent: Time-Budget Advisor` <span style=\"font-weight: bold\">(</span>v9.<span style=\"color: #008080; text-decoration-color: #008080; font-weight: bold\">7</span><span style=\"font-weight: bold\">)</span> đang phản biện nội dung và ngân sách thời gian<span style=\"color: #808000; text-decoration-color: #808000\">...</span>\n",
       "</pre>\n"
      ],
      "text/plain": [
       "\n",
       "\u001b[1;36m>\u001b[0m `Agent: Time-Budget Advisor` \u001b[1m(\u001b[0mv9.\u001b[1;36m7\u001b[0m\u001b[1m)\u001b[0m đang phản biện nội dung và ngân sách thời gian\u001b[33m...\u001b[0m\n"
      ]
     },
     "metadata": {},
     "output_type": "display_data"
    },
    {
     "data": {
      "text/html": [
       "<pre style=\"white-space:pre;overflow-x:auto;line-height:normal;font-family:Menlo,'DejaVu Sans Mono',consolas,'Courier New',monospace\"><span style=\"color: #808000; text-decoration-color: #808000; font-weight: bold\">⚠️  CỐ VẤN PHẢN BIỆN: [STRUCTURAL_FEEDBACK] Lỗi phân bổ ngân sách! Thời gian đề xuất (</span><span style=\"color: #808000; text-decoration-color: #808000; font-weight: bold\">7</span><span style=\"color: #808000; text-decoration-color: #808000; font-weight: bold\"> phút) cho hoạt động </span><span style=\"color: #808000; text-decoration-color: #808000; font-weight: bold\">\"Đánh </span>\n",
       "<span style=\"color: #808000; text-decoration-color: #808000; font-weight: bold\">giá và Giao nhiệm vụ về nhà\"</span><span style=\"color: #808000; text-decoration-color: #808000; font-weight: bold\"> là quá lớn so với tổng thời gian còn lại của buổi học (</span><span style=\"color: #808000; text-decoration-color: #808000; font-weight: bold\">10</span><span style=\"color: #808000; text-decoration-color: #808000; font-weight: bold\"> phút). Việc này sẽ khiến </span>\n",
       "<span style=\"color: #808000; text-decoration-color: #808000; font-weight: bold\">thời gian còn lại cho các hoạt động kết thúc buổi học (như tổng kết, dặn dò cuối cùng) trở nên quá eo hẹp (chỉ còn </span>\n",
       "<span style=\"color: #808000; text-decoration-color: #808000; font-weight: bold\">3</span><span style=\"color: #808000; text-decoration-color: #808000; font-weight: bold\"> phút). Cần thiết kế lại hoạt động này trong khoảng </span><span style=\"color: #808000; text-decoration-color: #808000; font-weight: bold\">5</span><span style=\"color: #808000; text-decoration-color: #808000; font-weight: bold\"> phút để đảm bảo tiến độ và có đủ thời gian cho phần kết thúc</span>\n",
       "<span style=\"color: #808000; text-decoration-color: #808000; font-weight: bold\">buổi học một cách trọn vẹn. | SUGGESTED_DURATION: </span><span style=\"color: #808000; text-decoration-color: #808000; font-weight: bold\">5</span>\n",
       "</pre>\n"
      ],
      "text/plain": [
       "\u001b[1;33m⚠️  CỐ VẤN PHẢN BIỆN: \u001b[0m\u001b[1;33m[\u001b[0m\u001b[1;33mSTRUCTURAL_FEEDBACK\u001b[0m\u001b[1;33m]\u001b[0m\u001b[1;33m Lỗi phân bổ ngân sách! Thời gian đề xuất \u001b[0m\u001b[1;33m(\u001b[0m\u001b[1;33m7\u001b[0m\u001b[1;33m phút\u001b[0m\u001b[1;33m)\u001b[0m\u001b[1;33m cho hoạt động \u001b[0m\u001b[1;33m\"Đánh \u001b[0m\n",
       "\u001b[1;33mgiá và Giao nhiệm vụ về nhà\"\u001b[0m\u001b[1;33m là quá lớn so với tổng thời gian còn lại của buổi học \u001b[0m\u001b[1;33m(\u001b[0m\u001b[1;33m10\u001b[0m\u001b[1;33m phút\u001b[0m\u001b[1;33m)\u001b[0m\u001b[1;33m. Việc này sẽ khiến \u001b[0m\n",
       "\u001b[1;33mthời gian còn lại cho các hoạt động kết thúc buổi học \u001b[0m\u001b[1;33m(\u001b[0m\u001b[1;33mnhư tổng kết, dặn dò cuối cùng\u001b[0m\u001b[1;33m)\u001b[0m\u001b[1;33m trở nên quá eo hẹp \u001b[0m\u001b[1;33m(\u001b[0m\u001b[1;33mchỉ còn \u001b[0m\n",
       "\u001b[1;33m3\u001b[0m\u001b[1;33m phút\u001b[0m\u001b[1;33m)\u001b[0m\u001b[1;33m. Cần thiết kế lại hoạt động này trong khoảng \u001b[0m\u001b[1;33m5\u001b[0m\u001b[1;33m phút để đảm bảo tiến độ và có đủ thời gian cho phần kết thúc\u001b[0m\n",
       "\u001b[1;33mbuổi học một cách trọn vẹn. | SUGGESTED_DURATION: \u001b[0m\u001b[1;33m5\u001b[0m\n"
      ]
     },
     "metadata": {},
     "output_type": "display_data"
    },
    {
     "data": {
      "text/html": [
       "<pre style=\"white-space:pre;overflow-x:auto;line-height:normal;font-family:Menlo,'DejaVu Sans Mono',consolas,'Courier New',monospace\">\n",
       "<span style=\"color: #008080; text-decoration-color: #008080; font-weight: bold\">&gt;</span> ROUTER <span style=\"font-weight: bold\">(</span>Validation<span style=\"font-weight: bold\">)</span>: Lỗi cấu trúc, yêu cầu LẬP KẾ HOẠCH LẠI.\n",
       "</pre>\n"
      ],
      "text/plain": [
       "\n",
       "\u001b[1;36m>\u001b[0m ROUTER \u001b[1m(\u001b[0mValidation\u001b[1m)\u001b[0m: Lỗi cấu trúc, yêu cầu LẬP KẾ HOẠCH LẠI.\n"
      ]
     },
     "metadata": {},
     "output_type": "display_data"
    },
    {
     "data": {
      "text/html": [
       "<pre style=\"white-space:pre;overflow-x:auto;line-height:normal;font-family:Menlo,'DejaVu Sans Mono',consolas,'Courier New',monospace\">\n",
       "<span style=\"color: #808000; text-decoration-color: #808000; font-weight: bold\">------- Hoàn thành bước: content_validator -------</span>\n",
       "</pre>\n"
      ],
      "text/plain": [
       "\n",
       "\u001b[1;33m------- Hoàn thành bước: content_validator -------\u001b[0m\n"
      ]
     },
     "metadata": {},
     "output_type": "display_data"
    },
    {
     "data": {
      "text/html": [
       "<pre style=\"white-space:pre;overflow-x:auto;line-height:normal;font-family:Menlo,'DejaVu Sans Mono',consolas,'Courier New',monospace\">\n",
       "<span style=\"color: #008080; text-decoration-color: #008080; font-weight: bold\">&gt;</span> `Node: Task Time Surgeon`  surgically updating task duration<span style=\"color: #808000; text-decoration-color: #808000\">...</span>\n",
       "</pre>\n"
      ],
      "text/plain": [
       "\n",
       "\u001b[1;36m>\u001b[0m `Node: Task Time Surgeon`  surgically updating task duration\u001b[33m...\u001b[0m\n"
      ]
     },
     "metadata": {},
     "output_type": "display_data"
    },
    {
     "data": {
      "text/html": [
       "<pre style=\"white-space:pre;overflow-x:auto;line-height:normal;font-family:Menlo,'DejaVu Sans Mono',consolas,'Courier New',monospace\">\n",
       "<span style=\"color: #008080; text-decoration-color: #008080; font-weight: bold\">&gt;</span> Đã trích xuất thời gian đề xuất: <span style=\"color: #008080; text-decoration-color: #008080; font-weight: bold\">5</span> phút.\n",
       "</pre>\n"
      ],
      "text/plain": [
       "\n",
       "\u001b[1;36m>\u001b[0m Đã trích xuất thời gian đề xuất: \u001b[1;36m5\u001b[0m phút.\n"
      ]
     },
     "metadata": {},
     "output_type": "display_data"
    },
    {
     "data": {
      "text/html": [
       "<pre style=\"white-space:pre;overflow-x:auto;line-height:normal;font-family:Menlo,'DejaVu Sans Mono',consolas,'Courier New',monospace\"><span style=\"color: #008000; text-decoration-color: #008000; font-weight: bold\">✔️ Đã cập nhật thời lượng nhiệm vụ:</span>\n",
       "</pre>\n"
      ],
      "text/plain": [
       "\u001b[1;32m✔️ Đã cập nhật thời lượng nhiệm vụ:\u001b[0m\n"
      ]
     },
     "metadata": {},
     "output_type": "display_data"
    },
    {
     "data": {
      "text/html": [
       "<pre style=\"white-space:pre;overflow-x:auto;line-height:normal;font-family:Menlo,'DejaVu Sans Mono',consolas,'Courier New',monospace\"><span style=\"font-weight: bold\">{</span>\n",
       "<span style=\"color: #7fbf7f; text-decoration-color: #7fbf7f\">│   </span><span style=\"color: #008000; text-decoration-color: #008000\">'task_id'</span>: <span style=\"color: #008080; text-decoration-color: #008080; font-weight: bold\">4</span>,\n",
       "<span style=\"color: #7fbf7f; text-decoration-color: #7fbf7f\">│   </span><span style=\"color: #008000; text-decoration-color: #008000\">'from'</span>: <span style=\"color: #008080; text-decoration-color: #008080; font-weight: bold\">7</span>,\n",
       "<span style=\"color: #7fbf7f; text-decoration-color: #7fbf7f\">│   </span><span style=\"color: #008000; text-decoration-color: #008000\">'to'</span>: <span style=\"color: #008080; text-decoration-color: #008080; font-weight: bold\">5</span>\n",
       "<span style=\"font-weight: bold\">}</span>\n",
       "</pre>\n"
      ],
      "text/plain": [
       "\u001b[1m{\u001b[0m\n",
       "\u001b[2;32m│   \u001b[0m\u001b[32m'task_id'\u001b[0m: \u001b[1;36m4\u001b[0m,\n",
       "\u001b[2;32m│   \u001b[0m\u001b[32m'from'\u001b[0m: \u001b[1;36m7\u001b[0m,\n",
       "\u001b[2;32m│   \u001b[0m\u001b[32m'to'\u001b[0m: \u001b[1;36m5\u001b[0m\n",
       "\u001b[1m}\u001b[0m\n"
      ]
     },
     "metadata": {},
     "output_type": "display_data"
    },
    {
     "data": {
      "text/html": [
       "<pre style=\"white-space:pre;overflow-x:auto;line-height:normal;font-family:Menlo,'DejaVu Sans Mono',consolas,'Courier New',monospace\">\n",
       "<span style=\"color: #808000; text-decoration-color: #808000; font-weight: bold\">------- Hoàn thành bước: update_task_duration -------</span>\n",
       "</pre>\n"
      ],
      "text/plain": [
       "\n",
       "\u001b[1;33m------- Hoàn thành bước: update_task_duration -------\u001b[0m\n"
      ]
     },
     "metadata": {},
     "output_type": "display_data"
    },
    {
     "data": {
      "text/html": [
       "<pre style=\"white-space:pre;overflow-x:auto;line-height:normal;font-family:Menlo,'DejaVu Sans Mono',consolas,'Courier New',monospace\">\n",
       "<span style=\"color: #008080; text-decoration-color: #008080; font-weight: bold\">&gt;</span> `Agent: Task Dispatcher` <span style=\"font-weight: bold\">(</span>v7.<span style=\"color: #008080; text-decoration-color: #008080; font-weight: bold\">1</span><span style=\"font-weight: bold\">)</span> Bắt đầu<span style=\"color: #808000; text-decoration-color: #808000\">...</span>\n",
       "</pre>\n"
      ],
      "text/plain": [
       "\n",
       "\u001b[1;36m>\u001b[0m `Agent: Task Dispatcher` \u001b[1m(\u001b[0mv7.\u001b[1;36m1\u001b[0m\u001b[1m)\u001b[0m Bắt đầu\u001b[33m...\u001b[0m\n"
      ]
     },
     "metadata": {},
     "output_type": "display_data"
    },
    {
     "data": {
      "text/html": [
       "<pre style=\"white-space:pre;overflow-x:auto;line-height:normal;font-family:Menlo,'DejaVu Sans Mono',consolas,'Courier New',monospace\">\n",
       "<span style=\"color: #008080; text-decoration-color: #008080; font-weight: bold\">&gt;</span> --- 🚚 `Dispatcher`: Giao nhiệm vụ cho `assessment_creator`.\n",
       "</pre>\n"
      ],
      "text/plain": [
       "\n",
       "\u001b[1;36m>\u001b[0m --- 🚚 `Dispatcher`: Giao nhiệm vụ cho `assessment_creator`.\n"
      ]
     },
     "metadata": {},
     "output_type": "display_data"
    },
    {
     "data": {
      "text/html": [
       "<pre style=\"white-space:pre;overflow-x:auto;line-height:normal;font-family:Menlo,'DejaVu Sans Mono',consolas,'Courier New',monospace\">\n",
       "<span style=\"color: #808000; text-decoration-color: #808000; font-weight: bold\">------- Hoàn thành bước: task_dispatcher -------</span>\n",
       "</pre>\n"
      ],
      "text/plain": [
       "\n",
       "\u001b[1;33m------- Hoàn thành bước: task_dispatcher -------\u001b[0m\n"
      ]
     },
     "metadata": {},
     "output_type": "display_data"
    },
    {
     "data": {
      "text/html": [
       "<pre style=\"white-space:pre;overflow-x:auto;line-height:normal;font-family:Menlo,'DejaVu Sans Mono',consolas,'Courier New',monospace\">\n",
       "<span style=\"color: #008080; text-decoration-color: #008080; font-weight: bold\">&gt;</span> `Agent: Assessment Creator` <span style=\"font-weight: bold\">(</span>v9.<span style=\"color: #008080; text-decoration-color: #008080; font-weight: bold\">7</span><span style=\"font-weight: bold\">)</span> đang tạo nội dung linh hoạt <span style=\"font-weight: bold\">(</span>Lõi + Mở rộng<span style=\"font-weight: bold\">)</span><span style=\"color: #808000; text-decoration-color: #808000\">...</span>\n",
       "</pre>\n"
      ],
      "text/plain": [
       "\n",
       "\u001b[1;36m>\u001b[0m `Agent: Assessment Creator` \u001b[1m(\u001b[0mv9.\u001b[1;36m7\u001b[0m\u001b[1m)\u001b[0m đang tạo nội dung linh hoạt \u001b[1m(\u001b[0mLõi + Mở rộng\u001b[1m)\u001b[0m\u001b[33m...\u001b[0m\n"
      ]
     },
     "metadata": {},
     "output_type": "display_data"
    },
    {
     "data": {
      "text/html": [
       "<pre style=\"white-space:pre;overflow-x:auto;line-height:normal;font-family:Menlo,'DejaVu Sans Mono',consolas,'Courier New',monospace\"><span style=\"color: #008000; text-decoration-color: #008000; font-weight: bold\">✔️ Nội dung do Assessment Creator tạo ra (Linh hoạt):</span>\n",
       "</pre>\n"
      ],
      "text/plain": [
       "\u001b[1;32m✔️ Nội dung do Assessment Creator tạo ra \u001b[0m\u001b[1;32m(\u001b[0m\u001b[1;32mLinh hoạt\u001b[0m\u001b[1;32m)\u001b[0m\u001b[1;32m:\u001b[0m\n"
      ]
     },
     "metadata": {},
     "output_type": "display_data"
    },
    {
     "data": {
      "text/html": [
       "<pre style=\"white-space:pre;overflow-x:auto;line-height:normal;font-family:Menlo,'DejaVu Sans Mono',consolas,'Courier New',monospace\"><span style=\"font-weight: bold\">{</span>\n",
       "<span style=\"color: #7fbf7f; text-decoration-color: #7fbf7f\">│   </span><span style=\"color: #008000; text-decoration-color: #008000\">'activity_name'</span>: <span style=\"color: #008000; text-decoration-color: #008000\">'Đánh giá và Giao nhiệm vụ về nhà'</span>,\n",
       "<span style=\"color: #7fbf7f; text-decoration-color: #7fbf7f\">│   </span><span style=\"color: #008000; text-decoration-color: #008000\">'question_type'</span>: <span style=\"color: #008000; text-decoration-color: #008000\">'Trắc nghiệm/Điền khuyết'</span>,\n",
       "<span style=\"color: #7fbf7f; text-decoration-color: #7fbf7f\">│   </span><span style=\"color: #008000; text-decoration-color: #008000\">'duration_minutes'</span>: <span style=\"color: #008080; text-decoration-color: #008080; font-weight: bold\">5</span>,\n",
       "<span style=\"color: #7fbf7f; text-decoration-color: #7fbf7f\">│   </span><span style=\"color: #008000; text-decoration-color: #008000\">'teacher_actions'</span>: <span style=\"font-weight: bold\">[</span>\n",
       "<span style=\"color: #7fbf7f; text-decoration-color: #7fbf7f\">│   │   </span><span style=\"color: #008000; text-decoration-color: #008000\">'Phát phiếu bài tập kiểm tra nhanh cho học sinh.'</span>,\n",
       "<span style=\"color: #7fbf7f; text-decoration-color: #7fbf7f\">│   │   </span><span style=\"color: #008000; text-decoration-color: #008000\">'Quan sát và hỗ trợ học sinh khi cần thiết trong quá trình làm bài kiểm tra nhanh.'</span>,\n",
       "<span style=\"color: #7fbf7f; text-decoration-color: #7fbf7f\">│   │   </span><span style=\"color: #008000; text-decoration-color: #008000\">'Thu phiếu bài tập kiểm tra nhanh và phiếu học tập nhóm (nếu có) để đánh giá.'</span>,\n",
       "<span style=\"color: #7fbf7f; text-decoration-color: #7fbf7f\">│   │   </span><span style=\"color: #008000; text-decoration-color: #008000\">'Giao bài tập về nhà, hướng dẫn học sinh ghi chép các bài tập cần làm.'</span>,\n",
       "<span style=\"color: #7fbf7f; text-decoration-color: #7fbf7f\">│   │   </span><span style=\"color: #008000; text-decoration-color: #008000\">'Nhắc nhở học sinh chuẩn bị bài cho buổi học tiếp theo.'</span>\n",
       "<span style=\"color: #7fbf7f; text-decoration-color: #7fbf7f\">│   </span><span style=\"font-weight: bold\">]</span>,\n",
       "<span style=\"color: #7fbf7f; text-decoration-color: #7fbf7f\">│   </span><span style=\"color: #008000; text-decoration-color: #008000\">'core_component'</span>: <span style=\"color: #008000; text-decoration-color: #008000\">'Hoàn thành nhanh 2 câu hỏi sau:\\n1. Tâm của đường tròn ngoại tiếp một tam giác là giao điểm của ba đường nào?\\nA. Đường trung tuyến\\nB. Đường cao\\nC. Đường trung trực\\nD. Đường phân giác\\n\\n2. Điền từ thích hợp vào chỗ trống: Đường tròn nội tiếp một tam giác là đường tròn tiếp xúc với _______ của tam giác đó.'</span>,\n",
       "<span style=\"color: #7fbf7f; text-decoration-color: #7fbf7f\">│   </span><span style=\"color: #008000; text-decoration-color: #008000\">'extension_component'</span>: <span style=\"color: #008000; text-decoration-color: #008000\">'Bài tập về nhà nâng cao (dành cho học sinh khá giỏi):\\n1. Cho tam giác ABC có ba góc nhọn. Gọi O là tâm đường tròn ngoại tiếp tam giác ABC. Chứng minh rằng nếu góc BAC = 60 độ thì góc BOC = 120 độ.\\n2. Cho tam giác đều ABC. Chứng minh rằng tâm đường tròn nội tiếp và tâm đường tròn ngoại tiếp của tam giác đó trùng nhau.'</span>,\n",
       "<span style=\"color: #7fbf7f; text-decoration-color: #7fbf7f\">│   </span><span style=\"color: #008000; text-decoration-color: #008000\">'answer'</span>: <span style=\"color: #008000; text-decoration-color: #008000\">'1. C. Đường trung trực 2. Ba cạnh'</span>,\n",
       "<span style=\"color: #7fbf7f; text-decoration-color: #7fbf7f\">│   </span><span style=\"color: #008000; text-decoration-color: #008000\">'solution_guide'</span>: <span style=\"color: #800080; text-decoration-color: #800080; font-style: italic\">None</span>,\n",
       "<span style=\"color: #7fbf7f; text-decoration-color: #7fbf7f\">│   </span><span style=\"color: #008000; text-decoration-color: #008000\">'differentiation'</span>: <span style=\"font-weight: bold\">{</span>\n",
       "<span style=\"color: #7fbf7f; text-decoration-color: #7fbf7f\">│   │   </span><span style=\"color: #008000; text-decoration-color: #008000\">'for_struggling_students'</span>: <span style=\"color: #008000; text-decoration-color: #008000\">'Giáo viên có thể gợi ý hoặc cho phép học sinh tham khảo lại vở ghi/sách giáo khoa trong quá trình làm bài kiểm tra nhanh. Đảm bảo các em hiểu rõ các bài tập cơ bản trong phần bài tập về nhà và có thể hỏi lại giáo viên nếu gặp khó khăn.'</span>,\n",
       "<span style=\"color: #7fbf7f; text-decoration-color: #7fbf7f\">│   │   </span><span style=\"color: #008000; text-decoration-color: #008000\">'for_advanced_students'</span>: <span style=\"color: #008000; text-decoration-color: #008000\">'Khuyến khích học sinh làm các bài tập nâng cao (có đánh dấu) trong phần bài tập về nhà và chuẩn bị tinh thần chia sẻ cách giải nếu được yêu cầu trong buổi học tiếp theo.'</span>\n",
       "<span style=\"color: #7fbf7f; text-decoration-color: #7fbf7f\">│   </span><span style=\"font-weight: bold\">}</span>,\n",
       "<span style=\"color: #7fbf7f; text-decoration-color: #7fbf7f\">│   </span><span style=\"color: #008000; text-decoration-color: #008000\">'question_or_description'</span>: <span style=\"color: #008000; text-decoration-color: #008000\">'**Phần Cốt lõi:**\\nHoàn thành nhanh 2 câu hỏi sau:\\n1. Tâm của đường tròn ngoại tiếp một tam giác là giao điểm của ba đường nào?\\nA. Đường trung tuyến\\nB. Đường cao\\nC. Đường trung trực\\nD. Đường phân giác\\n\\n2. Điền từ thích hợp vào chỗ trống: Đường tròn nội tiếp một tam giác là đường tròn tiếp xúc với _______ của tam giác đó.\\n\\n**Phần Mở rộng (nếu còn thời gian):**\\nBài tập về nhà nâng cao (dành cho học sinh khá giỏi):\\n1. Cho tam giác ABC có ba góc nhọn. Gọi O là tâm đường tròn ngoại tiếp tam giác ABC. Chứng minh rằng nếu góc BAC = 60 độ thì góc BOC = 120 độ.\\n2. Cho tam giác đều ABC. Chứng minh rằng tâm đường tròn nội tiếp và tâm đường tròn ngoại tiếp của tam giác đó trùng nhau.'</span>\n",
       "<span style=\"font-weight: bold\">}</span>\n",
       "</pre>\n"
      ],
      "text/plain": [
       "\u001b[1m{\u001b[0m\n",
       "\u001b[2;32m│   \u001b[0m\u001b[32m'activity_name'\u001b[0m: \u001b[32m'Đánh giá và Giao nhiệm vụ về nhà'\u001b[0m,\n",
       "\u001b[2;32m│   \u001b[0m\u001b[32m'question_type'\u001b[0m: \u001b[32m'Trắc nghiệm/Điền khuyết'\u001b[0m,\n",
       "\u001b[2;32m│   \u001b[0m\u001b[32m'duration_minutes'\u001b[0m: \u001b[1;36m5\u001b[0m,\n",
       "\u001b[2;32m│   \u001b[0m\u001b[32m'teacher_actions'\u001b[0m: \u001b[1m[\u001b[0m\n",
       "\u001b[2;32m│   │   \u001b[0m\u001b[32m'Phát phiếu bài tập kiểm tra nhanh cho học sinh.'\u001b[0m,\n",
       "\u001b[2;32m│   │   \u001b[0m\u001b[32m'Quan sát và hỗ trợ học sinh khi cần thiết trong quá trình làm bài kiểm tra nhanh.'\u001b[0m,\n",
       "\u001b[2;32m│   │   \u001b[0m\u001b[32m'Thu phiếu bài tập kiểm tra nhanh và phiếu học tập nhóm \u001b[0m\u001b[32m(\u001b[0m\u001b[32mnếu có\u001b[0m\u001b[32m)\u001b[0m\u001b[32m để đánh giá.'\u001b[0m,\n",
       "\u001b[2;32m│   │   \u001b[0m\u001b[32m'Giao bài tập về nhà, hướng dẫn học sinh ghi chép các bài tập cần làm.'\u001b[0m,\n",
       "\u001b[2;32m│   │   \u001b[0m\u001b[32m'Nhắc nhở học sinh chuẩn bị bài cho buổi học tiếp theo.'\u001b[0m\n",
       "\u001b[2;32m│   \u001b[0m\u001b[1m]\u001b[0m,\n",
       "\u001b[2;32m│   \u001b[0m\u001b[32m'core_component'\u001b[0m: \u001b[32m'Hoàn thành nhanh 2 câu hỏi sau:\\n1. Tâm của đường tròn ngoại tiếp một tam giác là giao điểm của ba đường nào?\\nA. Đường trung tuyến\\nB. Đường cao\\nC. Đường trung trực\\nD. Đường phân giác\\n\\n2. Điền từ thích hợp vào chỗ trống: Đường tròn nội tiếp một tam giác là đường tròn tiếp xúc với _______ của tam giác đó.'\u001b[0m,\n",
       "\u001b[2;32m│   \u001b[0m\u001b[32m'extension_component'\u001b[0m: \u001b[32m'Bài tập về nhà nâng cao \u001b[0m\u001b[32m(\u001b[0m\u001b[32mdành cho học sinh khá giỏi\u001b[0m\u001b[32m)\u001b[0m\u001b[32m:\\n1. Cho tam giác ABC có ba góc nhọn. Gọi O là tâm đường tròn ngoại tiếp tam giác ABC. Chứng minh rằng nếu góc BAC = 60 độ thì góc BOC = 120 độ.\\n2. Cho tam giác đều ABC. Chứng minh rằng tâm đường tròn nội tiếp và tâm đường tròn ngoại tiếp của tam giác đó trùng nhau.'\u001b[0m,\n",
       "\u001b[2;32m│   \u001b[0m\u001b[32m'answer'\u001b[0m: \u001b[32m'1. C. Đường trung trực 2. Ba cạnh'\u001b[0m,\n",
       "\u001b[2;32m│   \u001b[0m\u001b[32m'solution_guide'\u001b[0m: \u001b[3;35mNone\u001b[0m,\n",
       "\u001b[2;32m│   \u001b[0m\u001b[32m'differentiation'\u001b[0m: \u001b[1m{\u001b[0m\n",
       "\u001b[2;32m│   │   \u001b[0m\u001b[32m'for_struggling_students'\u001b[0m: \u001b[32m'Giáo viên có thể gợi ý hoặc cho phép học sinh tham khảo lại vở ghi/sách giáo khoa trong quá trình làm bài kiểm tra nhanh. Đảm bảo các em hiểu rõ các bài tập cơ bản trong phần bài tập về nhà và có thể hỏi lại giáo viên nếu gặp khó khăn.'\u001b[0m,\n",
       "\u001b[2;32m│   │   \u001b[0m\u001b[32m'for_advanced_students'\u001b[0m: \u001b[32m'Khuyến khích học sinh làm các bài tập nâng cao \u001b[0m\u001b[32m(\u001b[0m\u001b[32mcó đánh dấu\u001b[0m\u001b[32m)\u001b[0m\u001b[32m trong phần bài tập về nhà và chuẩn bị tinh thần chia sẻ cách giải nếu được yêu cầu trong buổi học tiếp theo.'\u001b[0m\n",
       "\u001b[2;32m│   \u001b[0m\u001b[1m}\u001b[0m,\n",
       "\u001b[2;32m│   \u001b[0m\u001b[32m'question_or_description'\u001b[0m: \u001b[32m'**Phần Cốt lõi:**\\nHoàn thành nhanh 2 câu hỏi sau:\\n1. Tâm của đường tròn ngoại tiếp một tam giác là giao điểm của ba đường nào?\\nA. Đường trung tuyến\\nB. Đường cao\\nC. Đường trung trực\\nD. Đường phân giác\\n\\n2. Điền từ thích hợp vào chỗ trống: Đường tròn nội tiếp một tam giác là đường tròn tiếp xúc với _______ của tam giác đó.\\n\\n**Phần Mở rộng \u001b[0m\u001b[32m(\u001b[0m\u001b[32mnếu còn thời gian\u001b[0m\u001b[32m)\u001b[0m\u001b[32m:**\\nBài tập về nhà nâng cao \u001b[0m\u001b[32m(\u001b[0m\u001b[32mdành cho học sinh khá giỏi\u001b[0m\u001b[32m)\u001b[0m\u001b[32m:\\n1. Cho tam giác ABC có ba góc nhọn. Gọi O là tâm đường tròn ngoại tiếp tam giác ABC. Chứng minh rằng nếu góc BAC = 60 độ thì góc BOC = 120 độ.\\n2. Cho tam giác đều ABC. Chứng minh rằng tâm đường tròn nội tiếp và tâm đường tròn ngoại tiếp của tam giác đó trùng nhau.'\u001b[0m\n",
       "\u001b[1m}\u001b[0m\n"
      ]
     },
     "metadata": {},
     "output_type": "display_data"
    },
    {
     "data": {
      "text/html": [
       "<pre style=\"white-space:pre;overflow-x:auto;line-height:normal;font-family:Menlo,'DejaVu Sans Mono',consolas,'Courier New',monospace\">\n",
       "<span style=\"color: #808000; text-decoration-color: #808000; font-weight: bold\">------- Hoàn thành bước: assessment_creator -------</span>\n",
       "</pre>\n"
      ],
      "text/plain": [
       "\n",
       "\u001b[1;33m------- Hoàn thành bước: assessment_creator -------\u001b[0m\n"
      ]
     },
     "metadata": {},
     "output_type": "display_data"
    },
    {
     "data": {
      "text/html": [
       "<pre style=\"white-space:pre;overflow-x:auto;line-height:normal;font-family:Menlo,'DejaVu Sans Mono',consolas,'Courier New',monospace\">\n",
       "<span style=\"color: #008080; text-decoration-color: #008080; font-weight: bold\">&gt;</span> `Agent: Time-Budget Advisor` <span style=\"font-weight: bold\">(</span>v9.<span style=\"color: #008080; text-decoration-color: #008080; font-weight: bold\">7</span><span style=\"font-weight: bold\">)</span> đang phản biện nội dung và ngân sách thời gian<span style=\"color: #808000; text-decoration-color: #808000\">...</span>\n",
       "</pre>\n"
      ],
      "text/plain": [
       "\n",
       "\u001b[1;36m>\u001b[0m `Agent: Time-Budget Advisor` \u001b[1m(\u001b[0mv9.\u001b[1;36m7\u001b[0m\u001b[1m)\u001b[0m đang phản biện nội dung và ngân sách thời gian\u001b[33m...\u001b[0m\n"
      ]
     },
     "metadata": {},
     "output_type": "display_data"
    },
    {
     "ename": "CancelledError",
     "evalue": "",
     "output_type": "error",
     "traceback": [
      "\u001b[31m---------------------------------------------------------------------------\u001b[39m",
      "\u001b[31mCancelledError\u001b[39m                            Traceback (most recent call last)",
      "\u001b[36mCell\u001b[39m\u001b[36m \u001b[39m\u001b[32mIn[57]\u001b[39m\u001b[32m, line 10\u001b[39m\n\u001b[32m      6\u001b[39m VERBOSE_MODE = \u001b[38;5;28;01mTrue\u001b[39;00m \n\u001b[32m      8\u001b[39m \u001b[38;5;66;03m# Chạy quy trình đã được cải cách\u001b[39;00m\n\u001b[32m      9\u001b[39m \u001b[38;5;66;03m# Lưu ý: bạn cần một môi trường hỗ trợ `await` ở cấp độ cao nhất (như Jupyter Notebook)\u001b[39;00m\n\u001b[32m---> \u001b[39m\u001b[32m10\u001b[39m \u001b[38;5;28;01mawait\u001b[39;00m run_architect(architect_request)\n",
      "\u001b[36mCell\u001b[39m\u001b[36m \u001b[39m\u001b[32mIn[56]\u001b[39m\u001b[32m, line 21\u001b[39m, in \u001b[36mrun_architect\u001b[39m\u001b[34m(user_request)\u001b[39m\n\u001b[32m     19\u001b[39m final_state_result = \u001b[38;5;28;01mNone\u001b[39;00m\n\u001b[32m     20\u001b[39m \u001b[38;5;28;01mtry\u001b[39;00m:\n\u001b[32m---> \u001b[39m\u001b[32m21\u001b[39m     \u001b[38;5;28;01masync\u001b[39;00m \u001b[38;5;28;01mfor\u001b[39;00m event \u001b[38;5;129;01min\u001b[39;00m app.astream(initial_state, config=config):\n\u001b[32m     22\u001b[39m         \u001b[38;5;28;01mfor\u001b[39;00m node_name, node_output \u001b[38;5;129;01min\u001b[39;00m event.items():\n\u001b[32m     23\u001b[39m             console.print(\u001b[33mf\u001b[39m\u001b[33m\"\u001b[39m\u001b[38;5;130;01m\\n\u001b[39;00m\u001b[33m[bold yellow]------- Hoàn thành bước: \u001b[39m\u001b[38;5;132;01m{\u001b[39;00mnode_name\u001b[38;5;132;01m}\u001b[39;00m\u001b[33m -------[/bold yellow]\u001b[39m\u001b[33m\"\u001b[39m)\n",
      "\u001b[36mFile \u001b[39m\u001b[32mc:\\Users\\Hi\\Documents\\IAI - UET\\AI-Lesson-Plan-Generator\\plan_venv\\Lib\\site-packages\\langgraph\\pregel\\main.py:2939\u001b[39m, in \u001b[36mPregel.astream\u001b[39m\u001b[34m(self, input, config, context, stream_mode, print_mode, output_keys, interrupt_before, interrupt_after, durability, subgraphs, debug, **kwargs)\u001b[39m\n\u001b[32m   2937\u001b[39m \u001b[38;5;28;01mfor\u001b[39;00m task \u001b[38;5;129;01min\u001b[39;00m \u001b[38;5;28;01mawait\u001b[39;00m loop.amatch_cached_writes():\n\u001b[32m   2938\u001b[39m     loop.output_writes(task.id, task.writes, cached=\u001b[38;5;28;01mTrue\u001b[39;00m)\n\u001b[32m-> \u001b[39m\u001b[32m2939\u001b[39m \u001b[38;5;28;01masync\u001b[39;00m \u001b[38;5;28;01mfor\u001b[39;00m _ \u001b[38;5;129;01min\u001b[39;00m runner.atick(\n\u001b[32m   2940\u001b[39m     [t \u001b[38;5;28;01mfor\u001b[39;00m t \u001b[38;5;129;01min\u001b[39;00m loop.tasks.values() \u001b[38;5;28;01mif\u001b[39;00m \u001b[38;5;129;01mnot\u001b[39;00m t.writes],\n\u001b[32m   2941\u001b[39m     timeout=\u001b[38;5;28mself\u001b[39m.step_timeout,\n\u001b[32m   2942\u001b[39m     get_waiter=get_waiter,\n\u001b[32m   2943\u001b[39m     schedule_task=loop.aaccept_push,\n\u001b[32m   2944\u001b[39m ):\n\u001b[32m   2945\u001b[39m     \u001b[38;5;66;03m# emit output\u001b[39;00m\n\u001b[32m   2946\u001b[39m     \u001b[38;5;28;01mfor\u001b[39;00m o \u001b[38;5;129;01min\u001b[39;00m _output(\n\u001b[32m   2947\u001b[39m         stream_mode,\n\u001b[32m   2948\u001b[39m         print_mode,\n\u001b[32m   (...)\u001b[39m\u001b[32m   2951\u001b[39m         asyncio.QueueEmpty,\n\u001b[32m   2952\u001b[39m     ):\n\u001b[32m   2953\u001b[39m         \u001b[38;5;28;01myield\u001b[39;00m o\n",
      "\u001b[36mFile \u001b[39m\u001b[32mc:\\Users\\Hi\\Documents\\IAI - UET\\AI-Lesson-Plan-Generator\\plan_venv\\Lib\\site-packages\\langgraph\\pregel\\_runner.py:295\u001b[39m, in \u001b[36mPregelRunner.atick\u001b[39m\u001b[34m(self, tasks, reraise, timeout, retry_policy, get_waiter, schedule_task)\u001b[39m\n\u001b[32m    293\u001b[39m t = tasks[\u001b[32m0\u001b[39m]\n\u001b[32m    294\u001b[39m \u001b[38;5;28;01mtry\u001b[39;00m:\n\u001b[32m--> \u001b[39m\u001b[32m295\u001b[39m     \u001b[38;5;28;01mawait\u001b[39;00m arun_with_retry(\n\u001b[32m    296\u001b[39m         t,\n\u001b[32m    297\u001b[39m         retry_policy,\n\u001b[32m    298\u001b[39m         stream=\u001b[38;5;28mself\u001b[39m.use_astream,\n\u001b[32m    299\u001b[39m         configurable={\n\u001b[32m    300\u001b[39m             CONFIG_KEY_CALL: partial(\n\u001b[32m    301\u001b[39m                 _acall,\n\u001b[32m    302\u001b[39m                 weakref.ref(t),\n\u001b[32m    303\u001b[39m                 stream=\u001b[38;5;28mself\u001b[39m.use_astream,\n\u001b[32m    304\u001b[39m                 retry_policy=retry_policy,\n\u001b[32m    305\u001b[39m                 futures=weakref.ref(futures),\n\u001b[32m    306\u001b[39m                 schedule_task=schedule_task,\n\u001b[32m    307\u001b[39m                 submit=\u001b[38;5;28mself\u001b[39m.submit,\n\u001b[32m    308\u001b[39m                 loop=loop,\n\u001b[32m    309\u001b[39m             ),\n\u001b[32m    310\u001b[39m         },\n\u001b[32m    311\u001b[39m     )\n\u001b[32m    312\u001b[39m     \u001b[38;5;28mself\u001b[39m.commit(t, \u001b[38;5;28;01mNone\u001b[39;00m)\n\u001b[32m    313\u001b[39m \u001b[38;5;28;01mexcept\u001b[39;00m \u001b[38;5;167;01mException\u001b[39;00m \u001b[38;5;28;01mas\u001b[39;00m exc:\n",
      "\u001b[36mFile \u001b[39m\u001b[32mc:\\Users\\Hi\\Documents\\IAI - UET\\AI-Lesson-Plan-Generator\\plan_venv\\Lib\\site-packages\\langgraph\\pregel\\_retry.py:137\u001b[39m, in \u001b[36marun_with_retry\u001b[39m\u001b[34m(task, retry_policy, stream, match_cached_writes, configurable)\u001b[39m\n\u001b[32m    135\u001b[39m         \u001b[38;5;28;01mbreak\u001b[39;00m\n\u001b[32m    136\u001b[39m     \u001b[38;5;28;01melse\u001b[39;00m:\n\u001b[32m--> \u001b[39m\u001b[32m137\u001b[39m         \u001b[38;5;28;01mreturn\u001b[39;00m \u001b[38;5;28;01mawait\u001b[39;00m task.proc.ainvoke(task.input, config)\n\u001b[32m    138\u001b[39m \u001b[38;5;28;01mexcept\u001b[39;00m ParentCommand \u001b[38;5;28;01mas\u001b[39;00m exc:\n\u001b[32m    139\u001b[39m     ns: \u001b[38;5;28mstr\u001b[39m = config[CONF][CONFIG_KEY_CHECKPOINT_NS]\n",
      "\u001b[36mFile \u001b[39m\u001b[32mc:\\Users\\Hi\\Documents\\IAI - UET\\AI-Lesson-Plan-Generator\\plan_venv\\Lib\\site-packages\\langgraph\\_internal\\_runnable.py:706\u001b[39m, in \u001b[36mRunnableSeq.ainvoke\u001b[39m\u001b[34m(self, input, config, **kwargs)\u001b[39m\n\u001b[32m    704\u001b[39m     \u001b[38;5;66;03m# run in context\u001b[39;00m\n\u001b[32m    705\u001b[39m     \u001b[38;5;28;01mwith\u001b[39;00m set_config_context(config, run) \u001b[38;5;28;01mas\u001b[39;00m context:\n\u001b[32m--> \u001b[39m\u001b[32m706\u001b[39m         \u001b[38;5;28minput\u001b[39m = \u001b[38;5;28;01mawait\u001b[39;00m asyncio.create_task(\n\u001b[32m    707\u001b[39m             step.ainvoke(\u001b[38;5;28minput\u001b[39m, config, **kwargs), context=context\n\u001b[32m    708\u001b[39m         )\n\u001b[32m    709\u001b[39m \u001b[38;5;28;01melse\u001b[39;00m:\n\u001b[32m    710\u001b[39m     \u001b[38;5;28minput\u001b[39m = \u001b[38;5;28;01mawait\u001b[39;00m step.ainvoke(\u001b[38;5;28minput\u001b[39m, config, **kwargs)\n",
      "\u001b[36mFile \u001b[39m\u001b[32mc:\\Users\\Hi\\Documents\\IAI - UET\\AI-Lesson-Plan-Generator\\plan_venv\\Lib\\site-packages\\langgraph\\_internal\\_runnable.py:474\u001b[39m, in \u001b[36mRunnableCallable.ainvoke\u001b[39m\u001b[34m(self, input, config, **kwargs)\u001b[39m\n\u001b[32m    472\u001b[39m         \u001b[38;5;28;01mawait\u001b[39;00m run_manager.on_chain_end(ret)\n\u001b[32m    473\u001b[39m \u001b[38;5;28;01melse\u001b[39;00m:\n\u001b[32m--> \u001b[39m\u001b[32m474\u001b[39m     ret = \u001b[38;5;28;01mawait\u001b[39;00m \u001b[38;5;28mself\u001b[39m.afunc(*args, **kwargs)\n\u001b[32m    475\u001b[39m \u001b[38;5;28;01mif\u001b[39;00m \u001b[38;5;28mself\u001b[39m.recurse \u001b[38;5;129;01mand\u001b[39;00m \u001b[38;5;28misinstance\u001b[39m(ret, Runnable):\n\u001b[32m    476\u001b[39m     \u001b[38;5;28;01mreturn\u001b[39;00m \u001b[38;5;28;01mawait\u001b[39;00m ret.ainvoke(\u001b[38;5;28minput\u001b[39m, config)\n",
      "\u001b[36mCell\u001b[39m\u001b[36m \u001b[39m\u001b[32mIn[50]\u001b[39m\u001b[32m, line 115\u001b[39m, in \u001b[36mcontent_validator_agent\u001b[39m\u001b[34m(state)\u001b[39m\n\u001b[32m    113\u001b[39m structured_llm = llm.with_structured_output(ValidationResult, method=\u001b[33m\"\u001b[39m\u001b[33mjson_mode\u001b[39m\u001b[33m\"\u001b[39m)\n\u001b[32m    114\u001b[39m \u001b[38;5;28;01mtry\u001b[39;00m:\n\u001b[32m--> \u001b[39m\u001b[32m115\u001b[39m     result = \u001b[38;5;28;01mawait\u001b[39;00m structured_llm.ainvoke(prompt)\n\u001b[32m    116\u001b[39m     \u001b[38;5;28;01mif\u001b[39;00m result.is_valid:\n\u001b[32m    117\u001b[39m         print_step(\u001b[33m\"\u001b[39m\u001b[33m✔️ CỐ VẤN: Nội dung và ngân sách thời gian hợp lệ!\u001b[39m\u001b[33m\"\u001b[39m)\n",
      "\u001b[36mFile \u001b[39m\u001b[32mc:\\Users\\Hi\\Documents\\IAI - UET\\AI-Lesson-Plan-Generator\\plan_venv\\Lib\\site-packages\\langchain_core\\runnables\\base.py:3091\u001b[39m, in \u001b[36mRunnableSequence.ainvoke\u001b[39m\u001b[34m(self, input, config, **kwargs)\u001b[39m\n\u001b[32m   3089\u001b[39m             \u001b[38;5;28;01melse\u001b[39;00m:\n\u001b[32m   3090\u001b[39m                 part = functools.partial(step.ainvoke, input_, config)\n\u001b[32m-> \u001b[39m\u001b[32m3091\u001b[39m             input_ = \u001b[38;5;28;01mawait\u001b[39;00m coro_with_context(part(), context, create_task=\u001b[38;5;28;01mTrue\u001b[39;00m)\n\u001b[32m   3092\u001b[39m     \u001b[38;5;66;03m# finish the root run\u001b[39;00m\n\u001b[32m   3093\u001b[39m \u001b[38;5;28;01mexcept\u001b[39;00m \u001b[38;5;167;01mBaseException\u001b[39;00m \u001b[38;5;28;01mas\u001b[39;00m e:\n",
      "\u001b[36mFile \u001b[39m\u001b[32mc:\\Users\\Hi\\Documents\\IAI - UET\\AI-Lesson-Plan-Generator\\plan_venv\\Lib\\site-packages\\langchain_core\\runnables\\base.py:5454\u001b[39m, in \u001b[36mRunnableBindingBase.ainvoke\u001b[39m\u001b[34m(self, input, config, **kwargs)\u001b[39m\n\u001b[32m   5447\u001b[39m \u001b[38;5;129m@override\u001b[39m\n\u001b[32m   5448\u001b[39m \u001b[38;5;28;01masync\u001b[39;00m \u001b[38;5;28;01mdef\u001b[39;00m\u001b[38;5;250m \u001b[39m\u001b[34mainvoke\u001b[39m(\n\u001b[32m   5449\u001b[39m     \u001b[38;5;28mself\u001b[39m,\n\u001b[32m   (...)\u001b[39m\u001b[32m   5452\u001b[39m     **kwargs: Optional[Any],\n\u001b[32m   5453\u001b[39m ) -> Output:\n\u001b[32m-> \u001b[39m\u001b[32m5454\u001b[39m     \u001b[38;5;28;01mreturn\u001b[39;00m \u001b[38;5;28;01mawait\u001b[39;00m \u001b[38;5;28mself\u001b[39m.bound.ainvoke(\n\u001b[32m   5455\u001b[39m         \u001b[38;5;28minput\u001b[39m,\n\u001b[32m   5456\u001b[39m         \u001b[38;5;28mself\u001b[39m._merge_configs(config),\n\u001b[32m   5457\u001b[39m         **{**\u001b[38;5;28mself\u001b[39m.kwargs, **kwargs},\n\u001b[32m   5458\u001b[39m     )\n",
      "\u001b[36mFile \u001b[39m\u001b[32mc:\\Users\\Hi\\Documents\\IAI - UET\\AI-Lesson-Plan-Generator\\plan_venv\\Lib\\site-packages\\langchain_core\\language_models\\chat_models.py:405\u001b[39m, in \u001b[36mBaseChatModel.ainvoke\u001b[39m\u001b[34m(self, input, config, stop, **kwargs)\u001b[39m\n\u001b[32m    395\u001b[39m \u001b[38;5;129m@override\u001b[39m\n\u001b[32m    396\u001b[39m \u001b[38;5;28;01masync\u001b[39;00m \u001b[38;5;28;01mdef\u001b[39;00m\u001b[38;5;250m \u001b[39m\u001b[34mainvoke\u001b[39m(\n\u001b[32m    397\u001b[39m     \u001b[38;5;28mself\u001b[39m,\n\u001b[32m   (...)\u001b[39m\u001b[32m    402\u001b[39m     **kwargs: Any,\n\u001b[32m    403\u001b[39m ) -> BaseMessage:\n\u001b[32m    404\u001b[39m     config = ensure_config(config)\n\u001b[32m--> \u001b[39m\u001b[32m405\u001b[39m     llm_result = \u001b[38;5;28;01mawait\u001b[39;00m \u001b[38;5;28mself\u001b[39m.agenerate_prompt(\n\u001b[32m    406\u001b[39m         [\u001b[38;5;28mself\u001b[39m._convert_input(\u001b[38;5;28minput\u001b[39m)],\n\u001b[32m    407\u001b[39m         stop=stop,\n\u001b[32m    408\u001b[39m         callbacks=config.get(\u001b[33m\"\u001b[39m\u001b[33mcallbacks\u001b[39m\u001b[33m\"\u001b[39m),\n\u001b[32m    409\u001b[39m         tags=config.get(\u001b[33m\"\u001b[39m\u001b[33mtags\u001b[39m\u001b[33m\"\u001b[39m),\n\u001b[32m    410\u001b[39m         metadata=config.get(\u001b[33m\"\u001b[39m\u001b[33mmetadata\u001b[39m\u001b[33m\"\u001b[39m),\n\u001b[32m    411\u001b[39m         run_name=config.get(\u001b[33m\"\u001b[39m\u001b[33mrun_name\u001b[39m\u001b[33m\"\u001b[39m),\n\u001b[32m    412\u001b[39m         run_id=config.pop(\u001b[33m\"\u001b[39m\u001b[33mrun_id\u001b[39m\u001b[33m\"\u001b[39m, \u001b[38;5;28;01mNone\u001b[39;00m),\n\u001b[32m    413\u001b[39m         **kwargs,\n\u001b[32m    414\u001b[39m     )\n\u001b[32m    415\u001b[39m     \u001b[38;5;28;01mreturn\u001b[39;00m cast(\u001b[33m\"\u001b[39m\u001b[33mChatGeneration\u001b[39m\u001b[33m\"\u001b[39m, llm_result.generations[\u001b[32m0\u001b[39m][\u001b[32m0\u001b[39m]).message\n",
      "\u001b[36mFile \u001b[39m\u001b[32mc:\\Users\\Hi\\Documents\\IAI - UET\\AI-Lesson-Plan-Generator\\plan_venv\\Lib\\site-packages\\langchain_core\\language_models\\chat_models.py:1017\u001b[39m, in \u001b[36mBaseChatModel.agenerate_prompt\u001b[39m\u001b[34m(self, prompts, stop, callbacks, **kwargs)\u001b[39m\n\u001b[32m   1008\u001b[39m \u001b[38;5;129m@override\u001b[39m\n\u001b[32m   1009\u001b[39m \u001b[38;5;28;01masync\u001b[39;00m \u001b[38;5;28;01mdef\u001b[39;00m\u001b[38;5;250m \u001b[39m\u001b[34magenerate_prompt\u001b[39m(\n\u001b[32m   1010\u001b[39m     \u001b[38;5;28mself\u001b[39m,\n\u001b[32m   (...)\u001b[39m\u001b[32m   1014\u001b[39m     **kwargs: Any,\n\u001b[32m   1015\u001b[39m ) -> LLMResult:\n\u001b[32m   1016\u001b[39m     prompt_messages = [p.to_messages() \u001b[38;5;28;01mfor\u001b[39;00m p \u001b[38;5;129;01min\u001b[39;00m prompts]\n\u001b[32m-> \u001b[39m\u001b[32m1017\u001b[39m     \u001b[38;5;28;01mreturn\u001b[39;00m \u001b[38;5;28;01mawait\u001b[39;00m \u001b[38;5;28mself\u001b[39m.agenerate(\n\u001b[32m   1018\u001b[39m         prompt_messages, stop=stop, callbacks=callbacks, **kwargs\n\u001b[32m   1019\u001b[39m     )\n",
      "\u001b[36mFile \u001b[39m\u001b[32mc:\\Users\\Hi\\Documents\\IAI - UET\\AI-Lesson-Plan-Generator\\plan_venv\\Lib\\site-packages\\langchain_core\\language_models\\chat_models.py:937\u001b[39m, in \u001b[36mBaseChatModel.agenerate\u001b[39m\u001b[34m(self, messages, stop, callbacks, tags, metadata, run_name, run_id, **kwargs)\u001b[39m\n\u001b[32m    924\u001b[39m run_managers = \u001b[38;5;28;01mawait\u001b[39;00m callback_manager.on_chat_model_start(\n\u001b[32m    925\u001b[39m     \u001b[38;5;28mself\u001b[39m._serialized,\n\u001b[32m    926\u001b[39m     messages_to_trace,\n\u001b[32m   (...)\u001b[39m\u001b[32m    931\u001b[39m     run_id=run_id,\n\u001b[32m    932\u001b[39m )\n\u001b[32m    934\u001b[39m input_messages = [\n\u001b[32m    935\u001b[39m     _normalize_messages(message_list) \u001b[38;5;28;01mfor\u001b[39;00m message_list \u001b[38;5;129;01min\u001b[39;00m messages\n\u001b[32m    936\u001b[39m ]\n\u001b[32m--> \u001b[39m\u001b[32m937\u001b[39m results = \u001b[38;5;28;01mawait\u001b[39;00m asyncio.gather(\n\u001b[32m    938\u001b[39m     *[\n\u001b[32m    939\u001b[39m         \u001b[38;5;28mself\u001b[39m._agenerate_with_cache(\n\u001b[32m    940\u001b[39m             m,\n\u001b[32m    941\u001b[39m             stop=stop,\n\u001b[32m    942\u001b[39m             run_manager=run_managers[i] \u001b[38;5;28;01mif\u001b[39;00m run_managers \u001b[38;5;28;01melse\u001b[39;00m \u001b[38;5;28;01mNone\u001b[39;00m,\n\u001b[32m    943\u001b[39m             **kwargs,\n\u001b[32m    944\u001b[39m         )\n\u001b[32m    945\u001b[39m         \u001b[38;5;28;01mfor\u001b[39;00m i, m \u001b[38;5;129;01min\u001b[39;00m \u001b[38;5;28menumerate\u001b[39m(input_messages)\n\u001b[32m    946\u001b[39m     ],\n\u001b[32m    947\u001b[39m     return_exceptions=\u001b[38;5;28;01mTrue\u001b[39;00m,\n\u001b[32m    948\u001b[39m )\n\u001b[32m    949\u001b[39m exceptions = []\n\u001b[32m    950\u001b[39m \u001b[38;5;28;01mfor\u001b[39;00m i, res \u001b[38;5;129;01min\u001b[39;00m \u001b[38;5;28menumerate\u001b[39m(results):\n",
      "\u001b[36mFile \u001b[39m\u001b[32mc:\\Users\\Hi\\Documents\\IAI - UET\\AI-Lesson-Plan-Generator\\plan_venv\\Lib\\site-packages\\langchain_core\\language_models\\chat_models.py:1145\u001b[39m, in \u001b[36mBaseChatModel._agenerate_with_cache\u001b[39m\u001b[34m(self, messages, stop, run_manager, **kwargs)\u001b[39m\n\u001b[32m   1143\u001b[39m     result = generate_from_stream(\u001b[38;5;28miter\u001b[39m(chunks))\n\u001b[32m   1144\u001b[39m \u001b[38;5;28;01melif\u001b[39;00m inspect.signature(\u001b[38;5;28mself\u001b[39m._agenerate).parameters.get(\u001b[33m\"\u001b[39m\u001b[33mrun_manager\u001b[39m\u001b[33m\"\u001b[39m):\n\u001b[32m-> \u001b[39m\u001b[32m1145\u001b[39m     result = \u001b[38;5;28;01mawait\u001b[39;00m \u001b[38;5;28mself\u001b[39m._agenerate(\n\u001b[32m   1146\u001b[39m         messages, stop=stop, run_manager=run_manager, **kwargs\n\u001b[32m   1147\u001b[39m     )\n\u001b[32m   1148\u001b[39m \u001b[38;5;28;01melse\u001b[39;00m:\n\u001b[32m   1149\u001b[39m     result = \u001b[38;5;28;01mawait\u001b[39;00m \u001b[38;5;28mself\u001b[39m._agenerate(messages, stop=stop, **kwargs)\n",
      "\u001b[36mFile \u001b[39m\u001b[32mc:\\Users\\Hi\\Documents\\IAI - UET\\AI-Lesson-Plan-Generator\\plan_venv\\Lib\\site-packages\\langchain_google_genai\\chat_models.py:1645\u001b[39m, in \u001b[36mChatGoogleGenerativeAI._agenerate\u001b[39m\u001b[34m(self, messages, stop, run_manager, tools, functions, safety_settings, tool_config, generation_config, cached_content, tool_choice, **kwargs)\u001b[39m\n\u001b[32m   1629\u001b[39m     \u001b[38;5;28;01mreturn\u001b[39;00m \u001b[38;5;28;01mawait\u001b[39;00m \u001b[38;5;28msuper\u001b[39m()._agenerate(\n\u001b[32m   1630\u001b[39m         messages, stop, run_manager, **updated_kwargs\n\u001b[32m   1631\u001b[39m     )\n\u001b[32m   1633\u001b[39m request = \u001b[38;5;28mself\u001b[39m._prepare_request(\n\u001b[32m   1634\u001b[39m     messages,\n\u001b[32m   1635\u001b[39m     stop=stop,\n\u001b[32m   (...)\u001b[39m\u001b[32m   1643\u001b[39m     **kwargs,\n\u001b[32m   1644\u001b[39m )\n\u001b[32m-> \u001b[39m\u001b[32m1645\u001b[39m response: GenerateContentResponse = \u001b[38;5;28;01mawait\u001b[39;00m _achat_with_retry(\n\u001b[32m   1646\u001b[39m     request=request,\n\u001b[32m   1647\u001b[39m     **kwargs,\n\u001b[32m   1648\u001b[39m     generation_method=\u001b[38;5;28mself\u001b[39m.async_client.generate_content,\n\u001b[32m   1649\u001b[39m     metadata=\u001b[38;5;28mself\u001b[39m.default_metadata,\n\u001b[32m   1650\u001b[39m )\n\u001b[32m   1651\u001b[39m \u001b[38;5;28;01mreturn\u001b[39;00m _response_to_result(response)\n",
      "\u001b[36mFile \u001b[39m\u001b[32mc:\\Users\\Hi\\Documents\\IAI - UET\\AI-Lesson-Plan-Generator\\plan_venv\\Lib\\site-packages\\langchain_google_genai\\chat_models.py:287\u001b[39m, in \u001b[36m_achat_with_retry\u001b[39m\u001b[34m(generation_method, **kwargs)\u001b[39m\n\u001b[32m    278\u001b[39m         \u001b[38;5;28;01mraise\u001b[39;00m e\n\u001b[32m    280\u001b[39m params = (\n\u001b[32m    281\u001b[39m     {k: v \u001b[38;5;28;01mfor\u001b[39;00m k, v \u001b[38;5;129;01min\u001b[39;00m kwargs.items() \u001b[38;5;28;01mif\u001b[39;00m k \u001b[38;5;129;01min\u001b[39;00m _allowed_params_prediction_service}\n\u001b[32m    282\u001b[39m     \u001b[38;5;28;01mif\u001b[39;00m (request := kwargs.get(\u001b[33m\"\u001b[39m\u001b[33mrequest\u001b[39m\u001b[33m\"\u001b[39m))\n\u001b[32m   (...)\u001b[39m\u001b[32m    285\u001b[39m     \u001b[38;5;28;01melse\u001b[39;00m kwargs\n\u001b[32m    286\u001b[39m )\n\u001b[32m--> \u001b[39m\u001b[32m287\u001b[39m \u001b[38;5;28;01mreturn\u001b[39;00m \u001b[38;5;28;01mawait\u001b[39;00m _achat_with_retry(**params)\n",
      "\u001b[36mFile \u001b[39m\u001b[32mc:\\Users\\Hi\\Documents\\IAI - UET\\AI-Lesson-Plan-Generator\\plan_venv\\Lib\\site-packages\\tenacity\\asyncio\\__init__.py:189\u001b[39m, in \u001b[36mAsyncRetrying.wraps.<locals>.async_wrapped\u001b[39m\u001b[34m(*args, **kwargs)\u001b[39m\n\u001b[32m    187\u001b[39m copy = \u001b[38;5;28mself\u001b[39m.copy()\n\u001b[32m    188\u001b[39m async_wrapped.statistics = copy.statistics  \u001b[38;5;66;03m# type: ignore[attr-defined]\u001b[39;00m\n\u001b[32m--> \u001b[39m\u001b[32m189\u001b[39m \u001b[38;5;28;01mreturn\u001b[39;00m \u001b[38;5;28;01mawait\u001b[39;00m copy(fn, *args, **kwargs)\n",
      "\u001b[36mFile \u001b[39m\u001b[32mc:\\Users\\Hi\\Documents\\IAI - UET\\AI-Lesson-Plan-Generator\\plan_venv\\Lib\\site-packages\\tenacity\\asyncio\\__init__.py:111\u001b[39m, in \u001b[36mAsyncRetrying.__call__\u001b[39m\u001b[34m(self, fn, *args, **kwargs)\u001b[39m\n\u001b[32m    109\u001b[39m retry_state = RetryCallState(retry_object=\u001b[38;5;28mself\u001b[39m, fn=fn, args=args, kwargs=kwargs)\n\u001b[32m    110\u001b[39m \u001b[38;5;28;01mwhile\u001b[39;00m \u001b[38;5;28;01mTrue\u001b[39;00m:\n\u001b[32m--> \u001b[39m\u001b[32m111\u001b[39m     do = \u001b[38;5;28;01mawait\u001b[39;00m \u001b[38;5;28mself\u001b[39m.iter(retry_state=retry_state)\n\u001b[32m    112\u001b[39m     \u001b[38;5;28;01mif\u001b[39;00m \u001b[38;5;28misinstance\u001b[39m(do, DoAttempt):\n\u001b[32m    113\u001b[39m         \u001b[38;5;28;01mtry\u001b[39;00m:\n",
      "\u001b[36mFile \u001b[39m\u001b[32mc:\\Users\\Hi\\Documents\\IAI - UET\\AI-Lesson-Plan-Generator\\plan_venv\\Lib\\site-packages\\tenacity\\asyncio\\__init__.py:153\u001b[39m, in \u001b[36mAsyncRetrying.iter\u001b[39m\u001b[34m(self, retry_state)\u001b[39m\n\u001b[32m    151\u001b[39m result = \u001b[38;5;28;01mNone\u001b[39;00m\n\u001b[32m    152\u001b[39m \u001b[38;5;28;01mfor\u001b[39;00m action \u001b[38;5;129;01min\u001b[39;00m \u001b[38;5;28mself\u001b[39m.iter_state.actions:\n\u001b[32m--> \u001b[39m\u001b[32m153\u001b[39m     result = \u001b[38;5;28;01mawait\u001b[39;00m action(retry_state)\n\u001b[32m    154\u001b[39m \u001b[38;5;28;01mreturn\u001b[39;00m result\n",
      "\u001b[36mFile \u001b[39m\u001b[32mc:\\Users\\Hi\\Documents\\IAI - UET\\AI-Lesson-Plan-Generator\\plan_venv\\Lib\\site-packages\\tenacity\\_utils.py:99\u001b[39m, in \u001b[36mwrap_to_async_func.<locals>.inner\u001b[39m\u001b[34m(*args, **kwargs)\u001b[39m\n\u001b[32m     98\u001b[39m \u001b[38;5;28;01masync\u001b[39;00m \u001b[38;5;28;01mdef\u001b[39;00m\u001b[38;5;250m \u001b[39m\u001b[34minner\u001b[39m(*args: typing.Any, **kwargs: typing.Any) -> typing.Any:\n\u001b[32m---> \u001b[39m\u001b[32m99\u001b[39m     \u001b[38;5;28;01mreturn\u001b[39;00m \u001b[43mcall\u001b[49m\u001b[43m(\u001b[49m\u001b[43m*\u001b[49m\u001b[43margs\u001b[49m\u001b[43m,\u001b[49m\u001b[43m \u001b[49m\u001b[43m*\u001b[49m\u001b[43m*\u001b[49m\u001b[43mkwargs\u001b[49m\u001b[43m)\u001b[49m\n",
      "\u001b[36mFile \u001b[39m\u001b[32mc:\\Users\\Hi\\Documents\\IAI - UET\\AI-Lesson-Plan-Generator\\plan_venv\\Lib\\site-packages\\tenacity\\__init__.py:400\u001b[39m, in \u001b[36mBaseRetrying._post_retry_check_actions.<locals>.<lambda>\u001b[39m\u001b[34m(rs)\u001b[39m\n\u001b[32m    398\u001b[39m \u001b[38;5;28;01mdef\u001b[39;00m\u001b[38;5;250m \u001b[39m\u001b[34m_post_retry_check_actions\u001b[39m(\u001b[38;5;28mself\u001b[39m, retry_state: \u001b[33m\"\u001b[39m\u001b[33mRetryCallState\u001b[39m\u001b[33m\"\u001b[39m) -> \u001b[38;5;28;01mNone\u001b[39;00m:\n\u001b[32m    399\u001b[39m     \u001b[38;5;28;01mif\u001b[39;00m \u001b[38;5;129;01mnot\u001b[39;00m (\u001b[38;5;28mself\u001b[39m.iter_state.is_explicit_retry \u001b[38;5;129;01mor\u001b[39;00m \u001b[38;5;28mself\u001b[39m.iter_state.retry_run_result):\n\u001b[32m--> \u001b[39m\u001b[32m400\u001b[39m         \u001b[38;5;28mself\u001b[39m._add_action_func(\u001b[38;5;28;01mlambda\u001b[39;00m rs: \u001b[43mrs\u001b[49m\u001b[43m.\u001b[49m\u001b[43moutcome\u001b[49m\u001b[43m.\u001b[49m\u001b[43mresult\u001b[49m\u001b[43m(\u001b[49m\u001b[43m)\u001b[49m)\n\u001b[32m    401\u001b[39m         \u001b[38;5;28;01mreturn\u001b[39;00m\n\u001b[32m    403\u001b[39m     \u001b[38;5;28;01mif\u001b[39;00m \u001b[38;5;28mself\u001b[39m.after \u001b[38;5;129;01mis\u001b[39;00m \u001b[38;5;129;01mnot\u001b[39;00m \u001b[38;5;28;01mNone\u001b[39;00m:\n",
      "\u001b[36mFile \u001b[39m\u001b[32m~\\AppData\\Local\\Programs\\Python\\Python311\\Lib\\concurrent\\futures\\_base.py:449\u001b[39m, in \u001b[36mFuture.result\u001b[39m\u001b[34m(self, timeout)\u001b[39m\n\u001b[32m    447\u001b[39m     \u001b[38;5;28;01mraise\u001b[39;00m CancelledError()\n\u001b[32m    448\u001b[39m \u001b[38;5;28;01melif\u001b[39;00m \u001b[38;5;28mself\u001b[39m._state == FINISHED:\n\u001b[32m--> \u001b[39m\u001b[32m449\u001b[39m     \u001b[38;5;28;01mreturn\u001b[39;00m \u001b[38;5;28;43mself\u001b[39;49m\u001b[43m.\u001b[49m\u001b[43m__get_result\u001b[49m\u001b[43m(\u001b[49m\u001b[43m)\u001b[49m\n\u001b[32m    451\u001b[39m \u001b[38;5;28mself\u001b[39m._condition.wait(timeout)\n\u001b[32m    453\u001b[39m \u001b[38;5;28;01mif\u001b[39;00m \u001b[38;5;28mself\u001b[39m._state \u001b[38;5;129;01min\u001b[39;00m [CANCELLED, CANCELLED_AND_NOTIFIED]:\n",
      "\u001b[36mFile \u001b[39m\u001b[32m~\\AppData\\Local\\Programs\\Python\\Python311\\Lib\\concurrent\\futures\\_base.py:401\u001b[39m, in \u001b[36mFuture.__get_result\u001b[39m\u001b[34m(self)\u001b[39m\n\u001b[32m    399\u001b[39m \u001b[38;5;28;01mif\u001b[39;00m \u001b[38;5;28mself\u001b[39m._exception:\n\u001b[32m    400\u001b[39m     \u001b[38;5;28;01mtry\u001b[39;00m:\n\u001b[32m--> \u001b[39m\u001b[32m401\u001b[39m         \u001b[38;5;28;01mraise\u001b[39;00m \u001b[38;5;28mself\u001b[39m._exception\n\u001b[32m    402\u001b[39m     \u001b[38;5;28;01mfinally\u001b[39;00m:\n\u001b[32m    403\u001b[39m         \u001b[38;5;66;03m# Break a reference cycle with the exception in self._exception\u001b[39;00m\n\u001b[32m    404\u001b[39m         \u001b[38;5;28mself\u001b[39m = \u001b[38;5;28;01mNone\u001b[39;00m\n",
      "\u001b[36mFile \u001b[39m\u001b[32mc:\\Users\\Hi\\Documents\\IAI - UET\\AI-Lesson-Plan-Generator\\plan_venv\\Lib\\site-packages\\tenacity\\asyncio\\__init__.py:114\u001b[39m, in \u001b[36mAsyncRetrying.__call__\u001b[39m\u001b[34m(self, fn, *args, **kwargs)\u001b[39m\n\u001b[32m    112\u001b[39m \u001b[38;5;28;01mif\u001b[39;00m \u001b[38;5;28misinstance\u001b[39m(do, DoAttempt):\n\u001b[32m    113\u001b[39m     \u001b[38;5;28;01mtry\u001b[39;00m:\n\u001b[32m--> \u001b[39m\u001b[32m114\u001b[39m         result = \u001b[38;5;28;01mawait\u001b[39;00m fn(*args, **kwargs)\n\u001b[32m    115\u001b[39m     \u001b[38;5;28;01mexcept\u001b[39;00m \u001b[38;5;167;01mBaseException\u001b[39;00m:  \u001b[38;5;66;03m# noqa: B902\u001b[39;00m\n\u001b[32m    116\u001b[39m         retry_state.set_exception(sys.exc_info())  \u001b[38;5;66;03m# type: ignore[arg-type]\u001b[39;00m\n",
      "\u001b[36mFile \u001b[39m\u001b[32mc:\\Users\\Hi\\Documents\\IAI - UET\\AI-Lesson-Plan-Generator\\plan_venv\\Lib\\site-packages\\langchain_google_genai\\chat_models.py:271\u001b[39m, in \u001b[36m_achat_with_retry.<locals>._achat_with_retry\u001b[39m\u001b[34m(**kwargs)\u001b[39m\n\u001b[32m    268\u001b[39m \u001b[38;5;129m@retry_decorator\u001b[39m\n\u001b[32m    269\u001b[39m \u001b[38;5;28;01masync\u001b[39;00m \u001b[38;5;28;01mdef\u001b[39;00m\u001b[38;5;250m \u001b[39m\u001b[34m_achat_with_retry\u001b[39m(**kwargs: Any) -> Any:\n\u001b[32m    270\u001b[39m     \u001b[38;5;28;01mtry\u001b[39;00m:\n\u001b[32m--> \u001b[39m\u001b[32m271\u001b[39m         \u001b[38;5;28;01mreturn\u001b[39;00m \u001b[38;5;28;01mawait\u001b[39;00m generation_method(**kwargs)\n\u001b[32m    272\u001b[39m     \u001b[38;5;28;01mexcept\u001b[39;00m InvalidArgument \u001b[38;5;28;01mas\u001b[39;00m e:\n\u001b[32m    273\u001b[39m         \u001b[38;5;66;03m# Do not retry for these errors.\u001b[39;00m\n\u001b[32m    274\u001b[39m         \u001b[38;5;28;01mraise\u001b[39;00m ChatGoogleGenerativeAIError(\n\u001b[32m    275\u001b[39m             \u001b[33mf\u001b[39m\u001b[33m\"\u001b[39m\u001b[33mInvalid argument provided to Gemini: \u001b[39m\u001b[38;5;132;01m{\u001b[39;00me\u001b[38;5;132;01m}\u001b[39;00m\u001b[33m\"\u001b[39m\n\u001b[32m    276\u001b[39m         ) \u001b[38;5;28;01mfrom\u001b[39;00m\u001b[38;5;250m \u001b[39m\u001b[34;01me\u001b[39;00m\n",
      "\u001b[36mFile \u001b[39m\u001b[32mc:\\Users\\Hi\\Documents\\IAI - UET\\AI-Lesson-Plan-Generator\\plan_venv\\Lib\\site-packages\\google\\ai\\generativelanguage_v1beta\\services\\generative_service\\async_client.py:444\u001b[39m, in \u001b[36mGenerativeServiceAsyncClient.generate_content\u001b[39m\u001b[34m(self, request, model, contents, retry, timeout, metadata)\u001b[39m\n\u001b[32m    441\u001b[39m \u001b[38;5;28mself\u001b[39m._client._validate_universe_domain()\n\u001b[32m    443\u001b[39m \u001b[38;5;66;03m# Send the request.\u001b[39;00m\n\u001b[32m--> \u001b[39m\u001b[32m444\u001b[39m response = \u001b[38;5;28;01mawait\u001b[39;00m rpc(\n\u001b[32m    445\u001b[39m     request,\n\u001b[32m    446\u001b[39m     retry=retry,\n\u001b[32m    447\u001b[39m     timeout=timeout,\n\u001b[32m    448\u001b[39m     metadata=metadata,\n\u001b[32m    449\u001b[39m )\n\u001b[32m    451\u001b[39m \u001b[38;5;66;03m# Done; return the response.\u001b[39;00m\n\u001b[32m    452\u001b[39m \u001b[38;5;28;01mreturn\u001b[39;00m response\n",
      "\u001b[36mFile \u001b[39m\u001b[32mc:\\Users\\Hi\\Documents\\IAI - UET\\AI-Lesson-Plan-Generator\\plan_venv\\Lib\\site-packages\\google\\api_core\\retry\\retry_unary_async.py:231\u001b[39m, in \u001b[36mAsyncRetry.__call__.<locals>.retry_wrapped_func\u001b[39m\u001b[34m(*args, **kwargs)\u001b[39m\n\u001b[32m    227\u001b[39m \u001b[38;5;250m\u001b[39m\u001b[33;03m\"\"\"A wrapper that calls target function with retry.\"\"\"\u001b[39;00m\n\u001b[32m    228\u001b[39m sleep_generator = exponential_sleep_generator(\n\u001b[32m    229\u001b[39m     \u001b[38;5;28mself\u001b[39m._initial, \u001b[38;5;28mself\u001b[39m._maximum, multiplier=\u001b[38;5;28mself\u001b[39m._multiplier\n\u001b[32m    230\u001b[39m )\n\u001b[32m--> \u001b[39m\u001b[32m231\u001b[39m \u001b[38;5;28;01mreturn\u001b[39;00m \u001b[38;5;28;01mawait\u001b[39;00m retry_target(\n\u001b[32m    232\u001b[39m     functools.partial(func, *args, **kwargs),\n\u001b[32m    233\u001b[39m     predicate=\u001b[38;5;28mself\u001b[39m._predicate,\n\u001b[32m    234\u001b[39m     sleep_generator=sleep_generator,\n\u001b[32m    235\u001b[39m     timeout=\u001b[38;5;28mself\u001b[39m._timeout,\n\u001b[32m    236\u001b[39m     on_error=on_error,\n\u001b[32m    237\u001b[39m )\n",
      "\u001b[36mFile \u001b[39m\u001b[32mc:\\Users\\Hi\\Documents\\IAI - UET\\AI-Lesson-Plan-Generator\\plan_venv\\Lib\\site-packages\\google\\api_core\\retry\\retry_unary_async.py:158\u001b[39m, in \u001b[36mretry_target\u001b[39m\u001b[34m(target, predicate, sleep_generator, timeout, on_error, exception_factory, **kwargs)\u001b[39m\n\u001b[32m    156\u001b[39m \u001b[38;5;28;01mwhile\u001b[39;00m \u001b[38;5;28;01mTrue\u001b[39;00m:\n\u001b[32m    157\u001b[39m     \u001b[38;5;28;01mtry\u001b[39;00m:\n\u001b[32m--> \u001b[39m\u001b[32m158\u001b[39m         \u001b[38;5;28;01mreturn\u001b[39;00m \u001b[38;5;28;01mawait\u001b[39;00m target()\n\u001b[32m    159\u001b[39m     \u001b[38;5;66;03m# pylint: disable=broad-except\u001b[39;00m\n\u001b[32m    160\u001b[39m     \u001b[38;5;66;03m# This function explicitly must deal with broad exceptions.\u001b[39;00m\n\u001b[32m    161\u001b[39m     \u001b[38;5;28;01mexcept\u001b[39;00m \u001b[38;5;167;01mException\u001b[39;00m \u001b[38;5;28;01mas\u001b[39;00m exc:\n\u001b[32m    162\u001b[39m         \u001b[38;5;66;03m# defer to shared logic for handling errors\u001b[39;00m\n",
      "\u001b[36mFile \u001b[39m\u001b[32mc:\\Users\\Hi\\Documents\\IAI - UET\\AI-Lesson-Plan-Generator\\plan_venv\\Lib\\site-packages\\google\\api_core\\grpc_helpers_async.py:85\u001b[39m, in \u001b[36m_WrappedUnaryResponseMixin.__await__\u001b[39m\u001b[34m(self)\u001b[39m\n\u001b[32m     83\u001b[39m \u001b[38;5;28;01mdef\u001b[39;00m\u001b[38;5;250m \u001b[39m\u001b[34m__await__\u001b[39m(\u001b[38;5;28mself\u001b[39m) -> Iterator[P]:\n\u001b[32m     84\u001b[39m     \u001b[38;5;28;01mtry\u001b[39;00m:\n\u001b[32m---> \u001b[39m\u001b[32m85\u001b[39m         response = \u001b[38;5;28;01myield from\u001b[39;00m \u001b[38;5;28mself\u001b[39m._call.\u001b[34m__await__\u001b[39m()\n\u001b[32m     86\u001b[39m         \u001b[38;5;28;01mreturn\u001b[39;00m response\n\u001b[32m     87\u001b[39m     \u001b[38;5;28;01mexcept\u001b[39;00m grpc.RpcError \u001b[38;5;28;01mas\u001b[39;00m rpc_error:\n",
      "\u001b[36mFile \u001b[39m\u001b[32mc:\\Users\\Hi\\Documents\\IAI - UET\\AI-Lesson-Plan-Generator\\plan_venv\\Lib\\site-packages\\grpc\\aio\\_interceptor.py:472\u001b[39m, in \u001b[36m_InterceptedUnaryResponseMixin.__await__\u001b[39m\u001b[34m(self)\u001b[39m\n\u001b[32m    470\u001b[39m \u001b[38;5;28;01mdef\u001b[39;00m\u001b[38;5;250m \u001b[39m\u001b[34m__await__\u001b[39m(\u001b[38;5;28mself\u001b[39m):\n\u001b[32m    471\u001b[39m     call = \u001b[38;5;28;01myield from\u001b[39;00m \u001b[38;5;28mself\u001b[39m._interceptors_task.\u001b[34m__await__\u001b[39m()\n\u001b[32m--> \u001b[39m\u001b[32m472\u001b[39m     response = \u001b[38;5;28;01myield from\u001b[39;00m call.\u001b[34m__await__\u001b[39m()\n\u001b[32m    473\u001b[39m     \u001b[38;5;28;01mreturn\u001b[39;00m response\n",
      "\u001b[36mFile \u001b[39m\u001b[32mc:\\Users\\Hi\\Documents\\IAI - UET\\AI-Lesson-Plan-Generator\\plan_venv\\Lib\\site-packages\\grpc\\aio\\_call.py:308\u001b[39m, in \u001b[36m_UnaryResponseMixin.__await__\u001b[39m\u001b[34m(self)\u001b[39m\n\u001b[32m    306\u001b[39m \u001b[38;5;250m\u001b[39m\u001b[33;03m\"\"\"Wait till the ongoing RPC request finishes.\"\"\"\u001b[39;00m\n\u001b[32m    307\u001b[39m \u001b[38;5;28;01mtry\u001b[39;00m:\n\u001b[32m--> \u001b[39m\u001b[32m308\u001b[39m     response = \u001b[38;5;28;01myield from\u001b[39;00m \u001b[38;5;28mself\u001b[39m._call_response\n\u001b[32m    309\u001b[39m \u001b[38;5;28;01mexcept\u001b[39;00m asyncio.CancelledError:\n\u001b[32m    310\u001b[39m     \u001b[38;5;66;03m# Even if we caught all other CancelledError, there is still\u001b[39;00m\n\u001b[32m    311\u001b[39m     \u001b[38;5;66;03m# this corner case. If the application cancels immediately after\u001b[39;00m\n\u001b[32m    312\u001b[39m     \u001b[38;5;66;03m# the Call object is created, we will observe this\u001b[39;00m\n\u001b[32m    313\u001b[39m     \u001b[38;5;66;03m# `CancelledError`.\u001b[39;00m\n\u001b[32m    314\u001b[39m     \u001b[38;5;28;01mif\u001b[39;00m \u001b[38;5;129;01mnot\u001b[39;00m \u001b[38;5;28mself\u001b[39m.cancelled():\n",
      "\u001b[31mCancelledError\u001b[39m: "
     ]
    }
   ],
   "source": [
    "# ==============================================================================\n",
    "# CELL 5.2: KÍCH HOẠT CHẠY THỬ NGHIỆM\n",
    "# ==============================================================================\n",
    "# Yêu cầu để kiểm tra\n",
    "architect_request = \"Soạn giúp tôi giáo án bài 'Đường tròn ngoại tiếp và đường tròn nội tiếp' cho học sinh lớp 9 trong 90 phút. Đây là một lớp học khá yếu, các em thường mất tập trung và cần các hoạt động có tính tương tác cao.\"\n",
    "VERBOSE_MODE = True \n",
    "\n",
    "# Chạy quy trình đã được cải cách\n",
    "# Lưu ý: bạn cần một môi trường hỗ trợ `await` ở cấp độ cao nhất (như Jupyter Notebook)\n",
    "await run_architect(architect_request)"
   ]
  }
 ],
 "metadata": {
  "kernelspec": {
   "display_name": "plan_venv",
   "language": "python",
   "name": "python3"
  },
  "language_info": {
   "codemirror_mode": {
    "name": "ipython",
    "version": 3
   },
   "file_extension": ".py",
   "mimetype": "text/x-python",
   "name": "python",
   "nbconvert_exporter": "python",
   "pygments_lexer": "ipython3",
   "version": "3.11.8"
  }
 },
 "nbformat": 4,
 "nbformat_minor": 5
}
