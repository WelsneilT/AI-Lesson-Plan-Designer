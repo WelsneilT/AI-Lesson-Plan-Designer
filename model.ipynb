{
 "cells": [
  {
   "cell_type": "code",
   "execution_count": 16,
   "id": "0f0b57dc",
   "metadata": {},
   "outputs": [
    {
     "name": "stdout",
     "output_type": "stream",
     "text": [
      "✅ LLM (Groq) v6.7 đã được khởi tạo thành công với cơ chế tự động thử lại.\n",
      "✅ Kho tri thức RAG đã được tải thành công.\n"
     ]
    }
   ],
   "source": [
    "# ==============================================================================\n",
    "# CELL 1: CÀI ĐẶT, IMPORTS & THIẾT LẬP BAN ĐẦU (v6.7 - Tăng cường độ bền)\n",
    "# ==============================================================================\n",
    "import os\n",
    "import json\n",
    "import asyncio\n",
    "import operator\n",
    "from typing import TypedDict, Annotated, List, Dict, Any, Literal, Optional, Union\n",
    "\n",
    "# Tải các biến môi trường\n",
    "from dotenv import load_dotenv \n",
    "load_dotenv()\n",
    "\n",
    "# LangChain & LangGraph\n",
    "from langchain_core.messages import BaseMessage, HumanMessage\n",
    "from langchain_core.pydantic_v1 import BaseModel, Field\n",
    "from langchain_groq import ChatGroq\n",
    "from langgraph.graph import StateGraph, END\n",
    "from langgraph.graph.message import add_messages\n",
    "\n",
    "# Thư viện hỗ trợ & Kho tri thức\n",
    "from langchain_community.vectorstores import FAISS\n",
    "from langchain_huggingface import HuggingFaceEmbeddings\n",
    "from rich.console import Console\n",
    "from rich.markdown import Markdown\n",
    "from rich.pretty import pprint\n",
    "from IPython.display import Image, display\n",
    "\n",
    "# --- CẤU HÌNH LOG ---\n",
    "VERBOSE_MODE = True\n",
    "\n",
    "# --- KHỞI TẠO CÁC CÔNG CỤ IN ẤN ---\n",
    "console = Console()\n",
    "\n",
    "def print_step(message: str):\n",
    "    if VERBOSE_MODE:\n",
    "        console.print(f\"\\n[bold cyan]>[/bold cyan] {message}\")\n",
    "\n",
    "def print_result(data: Any, title: str = \"Kết quả\"):\n",
    "    if VERBOSE_MODE:\n",
    "        console.print(f\"[bold green]✔️ {title}:[/bold green]\")\n",
    "        pprint(data, expand_all=True)\n",
    "        \n",
    "def print_warning(message: str):\n",
    "    if VERBOSE_MODE:\n",
    "        console.print(f\"[bold yellow]⚠️  {message}[/bold yellow]\")\n",
    "\n",
    "# --- KHỞI TẠO LLM ---\n",
    "try:\n",
    "    # === NÂNG CẤP V6.7: THÊM CƠ CHẾ TỰ ĐỘNG THỬ LẠI ===\n",
    "    # Thêm max_retries=2 để tự động thử lại 2 lần nếu gặp lỗi server (như lỗi 503)\n",
    "    llm = ChatGroq(\n",
    "        temperature=0.1, model=\"llama3-70b-8192\",\n",
    "        api_key=os.getenv(\"GROQ_API_KEY\"), max_tokens=4096,\n",
    "        max_retries=2\n",
    "    )\n",
    "    print(\"✅ LLM (Groq) v6.7 đã được khởi tạo thành công với cơ chế tự động thử lại.\")\n",
    "except Exception as e:\n",
    "    print(f\"❌ LỖI: Không thể khởi tạo LLM. Lỗi: {e}\")\n",
    "    llm = None\n",
    "\n",
    "# --- TẢI KHO TRI THỨC ---\n",
    "VECTOR_STORE_PATH = \"vector_store/sgk_toan_9\"\n",
    "vector_store = None\n",
    "if os.path.exists(VECTOR_STORE_PATH):\n",
    "    try:\n",
    "        embeddings = HuggingFaceEmbeddings(model_name=\"all-MiniLM-L6-v2\")\n",
    "        vector_store = FAISS.load_local(VECTOR_STORE_PATH, embeddings, allow_dangerous_deserialization=True)\n",
    "        print(\"✅ Kho tri thức RAG đã được tải thành công.\")\n",
    "    except Exception as e:\n",
    "        print(f\"❌ LỖI khi tải kho tri thức: {e}\")\n",
    "else:\n",
    "    print(f\"❌ LỖI: Không tìm thấy kho tri thức tại '{VECTOR_STORE_PATH}'.\")"
   ]
  },
  {
   "cell_type": "code",
   "execution_count": 17,
   "id": "098f2f43",
   "metadata": {},
   "outputs": [
    {
     "name": "stdout",
     "output_type": "stream",
     "text": [
      "✅ 'TeacherStateV4' (đã sửa lỗi) đã được định nghĩa.\n",
      "✅ Node khởi tạo 'initialize_state_node' đã được định nghĩa.\n"
     ]
    }
   ],
   "source": [
    "# ==============================================================================\n",
    "# CELL 2 (Hoàn chỉnh v6.1): SỬA LỖI STATE VÀ THÊM NODE KHỞI TẠO\n",
    "# ==============================================================================\n",
    "from typing import TypedDict, Annotated, List, Dict, Any, Literal, Optional\n",
    "from langchain_core.messages import BaseMessage, HumanMessage\n",
    "from langgraph.graph.message import add_messages\n",
    "import operator\n",
    "\n",
    "# --- Hàm tiện ích (Giữ nguyên) ---\n",
    "def merge_dicts(dict1: Dict[str, Any], dict2: Dict[str, Any]) -> Dict[str, Any]:\n",
    "    merged = dict1.copy()\n",
    "    for key, value in dict2.items():\n",
    "        if key in merged and isinstance(merged[key], dict) and isinstance(value, dict):\n",
    "            merged[key] = merge_dicts(merged[key], value)\n",
    "        else:\n",
    "            merged[key] = value\n",
    "    return merged\n",
    "\n",
    "# --- Cấu trúc dữ liệu con (Giữ nguyên) ---\n",
    "class DetailedTask(TypedDict):\n",
    "    task_id: int\n",
    "    task_name: str\n",
    "    task_description: str\n",
    "    estimated_duration: int \n",
    "    status: Literal[\"pending\", \"completed\"]\n",
    "\n",
    "# === SỬA LỖI: ĐỊNH NGHĨA STATE ĐƠN GIẢN HƠN ===\n",
    "class TeacherStateV4(TypedDict):\n",
    "    # original_request giờ là một trường bình thường\n",
    "    original_request: str\n",
    "    messages: Annotated[List[BaseMessage], add_messages]\n",
    "    \n",
    "    # Các bước tuần tự ban đầu\n",
    "    analyzed_objective: Optional[Any]\n",
    "    pedagogy_strategy: Optional[Any]\n",
    "    \n",
    "    # Các trường nâng cao\n",
    "    expanded_queries: Optional[List[str]]\n",
    "    task_list: Optional[List[DetailedTask]]\n",
    "    current_task_id: Optional[int]\n",
    "    reflection_notes: Optional[str]\n",
    "    agent_outputs: Annotated[Dict[str, Any], merge_dicts] \n",
    "    final_lesson_plan: Optional[str]\n",
    "    next_agent: str\n",
    "\n",
    "print(\"✅ 'TeacherStateV4' (đã sửa lỗi) đã được định nghĩa.\")\n",
    "\n",
    "# === GIẢI PHÁP: TẠO NODE KHỞI TẠO ===\n",
    "def initialize_state_node(state: TeacherStateV4) -> Dict[str, Any]:\n",
    "    \"\"\"\n",
    "    Node đầu tiên trong graph.\n",
    "    Lấy yêu cầu gốc từ tin nhắn đầu vào và điền vào trường 'original_request'.\n",
    "    \"\"\"\n",
    "    print_step(\"`Initializer`: Đang khởi tạo trạng thái và lấy yêu cầu gốc...\")\n",
    "    user_request = state['messages'][-1].content\n",
    "    return {\"original_request\": user_request}\n",
    "\n",
    "print(\"✅ Node khởi tạo 'initialize_state_node' đã được định nghĩa.\")"
   ]
  },
  {
   "cell_type": "code",
   "execution_count": 18,
   "id": "f185a18c",
   "metadata": {},
   "outputs": [
    {
     "name": "stdout",
     "output_type": "stream",
     "text": [
      "✅ Tất cả các agent đã được nâng cấp lên phiên bản 6.9 (Kỷ luật Thời gian & Critic Nâng cao).\n"
     ]
    }
   ],
   "source": [
    "# ==============================================================================\n",
    "# CELL 3 (Phiên bản 6.9 - Kỷ luật Thời gian & Critic Nâng cao)\n",
    "# ==============================================================================\n",
    "import json\n",
    "from langchain_core.pydantic_v1 import BaseModel, Field, schema_json_of\n",
    "from typing import List, Dict, Any, Literal, Optional, Union\n",
    "\n",
    "# === CÁC HÀM TIỆN ÍCH VÀ PYDANTIC MODELS (KHÔNG ĐỔI) ===\n",
    "def format_solution_guide(guide: Any) -> str:\n",
    "    \"\"\"Formats the solution_guide from various LLM outputs into a single string.\"\"\"\n",
    "    if not guide:\n",
    "        return \"Chưa có hướng dẫn.\"\n",
    "    if isinstance(guide, str):\n",
    "        return guide\n",
    "    if isinstance(guide, list):\n",
    "        # Nối các mục trong danh sách lại, mỗi mục một dòng\n",
    "        return \"\\n\".join(f\"- {step}\" for step in guide)\n",
    "    if isinstance(guide, dict):\n",
    "        # Chuyển dictionary thành các dòng key: value\n",
    "        return \"\\n\".join(f\"- {key.replace('_', ' ').title()}: {value}\" for key, value in guide.items())\n",
    "    # Fallback cho mọi trường hợp khác\n",
    "    return str(guide)\n",
    "\n",
    "class LearningActivity(BaseModel):\n",
    "    activity_name: str = Field(description=\"Tên của hoạt động học tập này thật hấp dẫn và rõ ràng.\")\n",
    "    description: str = Field(description=\"Mô tả chi tiết các bước giáo viên và học sinh cần thực hiện trong hoạt động.\")\n",
    "    duration_minutes: int = Field(description=\"Thời gian ước tính (bằng SỐ PHÚT) để hoàn thành hoạt động.\")\n",
    "    activity_type: str = Field(description=\"Phân loại hoạt động (ví dụ: 'Giảng giải lý thuyết', 'Luyện tập cặp đôi', 'Thảo luận nhóm', 'Trò chơi').\")\n",
    "    solution_guide: Optional[Any] = Field(description=\"Hướng dẫn giải, đáp án chi tiết hoặc các điểm chính cần lưu ý. Có thể là chuỗi, danh sách các bước.\")\n",
    "\n",
    "class AssessmentItem(BaseModel):\n",
    "    question: str = Field(description=\"Nội dung câu hỏi hoặc đề bài toán, được viết rõ ràng, dễ hiểu.\")\n",
    "    question_type: str = Field(description=\"Loại câu hỏi (ví dụ: 'Trắc nghiệm', 'Tự luận', 'Chứng minh').\")\n",
    "    options: Optional[List[str]] = Field(description=\"Các lựa chọn nếu là câu hỏi trắc nghiệm.\")\n",
    "    answer: str = Field(description=\"Đáp án chính xác và ngắn gọn cho câu hỏi.\")\n",
    "    solution_guide: Any = Field(description=\"Hướng dẫn giải chi tiết từng bước để học sinh có thể tự kiểm tra.\")\n",
    "\n",
    "class ExpandedQueries(BaseModel): queries: List[str]\n",
    "class BestSnippets(BaseModel): best_snippets: List[str]\n",
    "class ParsedObjective(BaseModel): action_verb: str; bloom_level: int; topic: str; grade_level: str; duration_minutes: Optional[int]\n",
    "class PedagogyChoice(BaseModel): chosen_pedagogy: str; pedagogy_rationale: str\n",
    "class DetailedTaskModel(BaseModel): task_name: str; task_description: str; estimated_duration: int\n",
    "class TaskListWithDuration(BaseModel): tasks: List[DetailedTaskModel]\n",
    "class TaskClassification(BaseModel): agent_category: Literal[\"activity_designer\", \"theory_synthesizer\", \"assessment_creator\"]\n",
    "\n",
    "\n",
    "def update_agent_outputs(state: \"TeacherStateV4\", key: str, value: Any) -> Dict[str, Any]:\n",
    "    outputs = state.get(\"agent_outputs\", {}).copy()\n",
    "    if key not in outputs: outputs[key] = []\n",
    "    outputs[key].append(value)\n",
    "    return {\"agent_outputs\": outputs}\n",
    "\n",
    "SYSTEM_PERSONA_PROMPT = \"BẠN LÀ MỘT TRỢ LÝ AI CHUYÊN NGHIỆP, ĐÓNG VAI TRÒ MỘT GIÁO VIÊN TOÁN LỚP 9 GIÀU KINH NGHIỆM TẠI VIỆT NAM. LUÔN LUÔN trả lời bằng TIẾNG VIỆT.\"\n",
    "\n",
    "# --- CÁC AGENTS PHIÊN BẢN 6.9 ---\n",
    "\n",
    "# Các agent ban đầu giữ nguyên logic từ v6.8\n",
    "async def objective_interpreter_agent(state: \"TeacherStateV4\") -> Dict[str, Any]:\n",
    "    print_step(\"`Agent: Objective Interpreter` (v6.9) đang phân tích mục tiêu...\")\n",
    "    prompt = f\"\"\"{SYSTEM_PERSONA_PROMPT}\n",
    "    **NHIỆM VỤ:** Đọc yêu cầu của người dùng và trích xuất các thông tin sau vào một đối tượng JSON.\n",
    "    **YÊU CẦU NGƯỜI DÙNG:** \"{state['original_request']}\"\n",
    "    **CÁC TRƯỜNG CẦN TRÍCH XUẤT:** `action_verb`, `bloom_level` (dưới dạng SỐ NGUYÊN), `topic`, `grade_level`, `duration_minutes`.\n",
    "    **CHỈ TRẢ VỀ JSON.**\n",
    "    \"\"\"\n",
    "    structured_llm = llm.with_structured_output(ParsedObjective, method=\"json_mode\")\n",
    "    try:\n",
    "        parsed_result = await structured_llm.ainvoke(prompt)\n",
    "        analyzed_objective_dict = parsed_result.dict()\n",
    "        analyzed_objective_dict['constraints'] = {'duration_minutes': parsed_result.duration_minutes}\n",
    "        del analyzed_objective_dict['duration_minutes']\n",
    "        print_result(analyzed_objective_dict, \"Mục tiêu & Ràng buộc đã phân tích\")\n",
    "        return {\"analyzed_objective\": analyzed_objective_dict}\n",
    "    except Exception as e:\n",
    "        print_warning(f\"Lỗi tại Objective Interpreter: {e}. Sử dụng mục tiêu mặc định.\")\n",
    "        return {\"analyzed_objective\": { \"action_verb\": \"soạn\", \"bloom_level\": 3, \"topic\": state['original_request'], \"grade_level\": \"9\", \"constraints\": {\"duration_minutes\": 90} }}\n",
    "async def pedagogy_strategist_agent(state: \"TeacherStateV4\") -> Dict[str, Any]:\n",
    "    print_step(\"`Agent: Pedagogy Strategist` (v6.9) Bắt đầu...\")\n",
    "    prompt = f\"\"\"{SYSTEM_PERSONA_PROMPT}\n",
    "    **NHIỆM VỤ:** Dựa trên mục tiêu bài học, chọn MỘT phương pháp sư phạm và giải thích ngắn gọn.\n",
    "    **MỤC TIÊU:** {state['analyzed_objective']}\n",
    "    **YÊU CẦU ĐỊNH DẠNG:** Trả về một đối tượng JSON PHẲNG với CHỈ 2 keys: `chosen_pedagogy` và `pedagogy_rationale`.\n",
    "    \"\"\"\n",
    "    structured_llm = llm.with_structured_output(schema=PedagogyChoice, method=\"json_mode\")\n",
    "    try:\n",
    "        response = await structured_llm.ainvoke(prompt)\n",
    "        print_result(response.dict(), \"Chiến lược sư phạm đã chọn\")\n",
    "        return {\"pedagogy_strategy\": response.dict()}\n",
    "    except Exception as e:\n",
    "        print_warning(f\"Lỗi tại Pedagogy Strategist: {e}. Sử dụng chiến lược mặc định.\")\n",
    "        return {\"pedagogy_strategy\": {\"chosen_pedagogy\": \"Dạy học giải quyết vấn đề\", \"pedagogy_rationale\": \"Mặc định do lỗi.\"}}\n",
    "async def query_expansion_agent(state: \"TeacherStateV4\") -> Dict[str, Any]:\n",
    "    print_step(\"`Agent: Query Expansion` (v6.9) đang phân tích yêu cầu...\")\n",
    "    objective = state['analyzed_objective']\n",
    "    prompt = f\"\"\"{SYSTEM_PERSONA_PROMPT}\n",
    "    **NHIỆM VỤ:** Tạo ra một danh sách các cụm từ tìm kiếm đa dạng bằng tiếng Việt để tìm tài liệu cho bài học.\n",
    "    **CHỦ ĐỀ:** \"{objective['topic']}\"\n",
    "    **YÊU CẦU ĐỊNH DẠNG:** Trả về một đối tượng JSON với key duy nhất là `queries`, giá trị là một danh sách chuỗi.\n",
    "    \"\"\"\n",
    "    structured_llm = llm.with_structured_output(ExpandedQueries, method=\"json_mode\")\n",
    "    try:\n",
    "        response = await structured_llm.ainvoke(prompt)\n",
    "        print_result(response.queries, \"Các truy vấn tìm kiếm đã được mở rộng\")\n",
    "        return {\"expanded_queries\": response.queries}\n",
    "    except Exception as e:\n",
    "        print_warning(f\"Lỗi tại Query Expansion: {e}. Sử dụng truy vấn gốc.\")\n",
    "        return {\"expanded_queries\": [objective['topic']]}\n",
    "async def resource_scout_agent_v2(state: \"TeacherStateV4\") -> Dict[str, Any]:\n",
    "    print_step(\"`Agent: Resource Scout` (v6.9) đang tìm kiếm và sàng lọc...\")\n",
    "    retriever = vector_store.as_retriever(search_kwargs={\"k\": 5})\n",
    "    all_docs = []\n",
    "    for query in state['expanded_queries']:\n",
    "        all_docs.extend(retriever.invoke(query))\n",
    "    unique_docs_content = list({doc.page_content for doc in all_docs})[:8]\n",
    "    print_step(f\"Tìm thấy {len(all_docs)} tài liệu, sàng lọc còn {len(unique_docs_content)} đoạn văn bản độc nhất để xử lý.\")\n",
    "    rerank_prompt = f\"\"\"{SYSTEM_PERSONA_PROMPT}\n",
    "    **NHIỆM VỤ:** Đọc yêu cầu gốc và chọn ra 3-4 đoạn văn bản tiếng Việt phù hợp NHẤT từ danh sách dưới đây để soạn bài.\n",
    "    **YÊU CẦU GỐC:** \"{state['original_request']}\"\n",
    "    **DANH SÁCH TÀI LIỆU:** {json.dumps(unique_docs_content, ensure_ascii=False)}\n",
    "    **YÊU CẦU ĐỊNH DẠNG:** Trả về JSON với key `best_snippets` là một danh sách các chuỗi.\n",
    "    \"\"\"\n",
    "    structured_llm_reranker = llm.with_structured_output(BestSnippets, method=\"json_mode\")\n",
    "    best_snippets_text = \"\"\n",
    "    try:\n",
    "        reranked_result = await structured_llm_reranker.ainvoke(rerank_prompt)\n",
    "        best_snippets_text = \"\\n\\n---\\n\\n\".join(reranked_result.best_snippets)\n",
    "        print_step(\"Đã sàng lọc và chọn ra các đoạn văn bản phù hợp nhất.\")\n",
    "    except Exception as e:\n",
    "        print_warning(f\"Lỗi tại Re-ranker: {e}. Sử dụng tất cả tài liệu tìm được.\")\n",
    "        best_snippets_text = \"\\n\\n---\\n\\n\".join(unique_docs_content)\n",
    "    summary_prompt = f\"\"\"{SYSTEM_PERSONA_PROMPT}\n",
    "    **NHIỆM VỤ:** Dựa vào các đoạn văn bản sau, hãy tóm tắt các kiến thức cốt lõi nhất về chủ đề \"{state['analyzed_objective']['topic']}\".\n",
    "    **QUY TẮC:** Tóm tắt phải được viết bằng **TIẾNG VIỆT**, cô đọng, mạch lạc, tập trung vào các định nghĩa và định lý chính.\n",
    "    **CÁC ĐOẠN VĂN BẢN:**\n",
    "    {best_snippets_text}\n",
    "    \"\"\"\n",
    "    summary = \"Không thể tóm tắt do lỗi API.\"\n",
    "    try:\n",
    "        summary_response = await llm.ainvoke(summary_prompt)\n",
    "        summary = summary_response.content\n",
    "    except Exception as e:\n",
    "        print_warning(f\"Lỗi tại bước tóm tắt cuối cùng: {e}. Sử dụng tóm tắt mặc định.\")\n",
    "    resource = {\"source\": \"Sách giáo khoa Toán 9 (từ RAG - đã sàng lọc)\", \"summary\": summary}\n",
    "    print_result(resource, \"Tài liệu RAG cuối cùng\")\n",
    "    return update_agent_outputs(state, \"resources\", resource)\n",
    "async def plan_delegator_agent(state: \"TeacherStateV4\") -> Dict[str, Any]:\n",
    "    print_step(\"`Agent: Plan Delegator` (v6.9) đang lập kế hoạch chi tiết...\")\n",
    "    critic_feedback_prompt = \"\"\n",
    "    if state.get('reflection_notes'):\n",
    "        critic_feedback_prompt = f\"\"\"**PHẢN HỒI TỪ LẦN TRƯỚC (CẦN SỬA):** \"{state['reflection_notes']}\".\"\"\"\n",
    "    prompt = f\"\"\"{SYSTEM_PERSONA_PROMPT}\n",
    "    **NHIỆM VỤ:** Xây dựng một kế hoạch bài dạy chi tiết (giáo án mini).\n",
    "    **MỤC TIÊU BÀI HỌC:** {state['analyzed_objective']}\n",
    "    **KIẾN THỨC NỀN TẢNG:** {state['agent_outputs']['resources'][0]['summary']}\n",
    "    {critic_feedback_prompt}\n",
    "    **QUY TẮC XÂY DỰNG KẾ HOẠCH:**\n",
    "    1.  **Cấu trúc xen kẽ:** Buổi học phải có sự cân bằng giữa **Hoạt động của Giáo viên (Giảng giải, Hướng dẫn)** và **Hoạt động của Học sinh (Luyện tập, Vận dụng)**.\n",
    "    2.  **Thời gian chu toàn:** Hãy lập kế hoạch để sử dụng hiệu quả **gần trọn vẹn {state['analyzed_objective']['constraints']['duration_minutes']} phút**. Dành 5 phút cuối để tổng kết và dặn dò.\n",
    "    3.  **Phân bổ hợp lý:** Các nhiệm vụ vận dụng cao, chứng minh nên có thời gian ước tính dài hơn (15-20 phút). Các nhiệm vụ củng cố lý thuyết có thể ngắn hơn (5-10 phút).\n",
    "    4.  **Logic sư phạm:** Bắt đầu bằng việc ổn định lớp, kiểm tra bài cũ hoặc giới thiệu bài mới. Tiếp theo là phần hình thành kiến thức (giảng giải), sau đó là luyện tập vận dụng, và cuối cùng là đánh giá, tổng kết.\n",
    "    **YÊU CẦU ĐỊNH DẠNG:** Trả về JSON với key `tasks`, mỗi task có `task_name`, `task_description`, `estimated_duration`.\n",
    "    \"\"\"\n",
    "    structured_llm = llm.with_structured_output(TaskListWithDuration, method=\"json_mode\")\n",
    "    try:\n",
    "        task_list_result = await structured_llm.ainvoke(prompt)\n",
    "        tasks_with_status = [{\"task_id\": i, **t.dict(), \"status\": \"pending\"} for i, t in enumerate(task_list_result.tasks) if t]\n",
    "        print_result(tasks_with_status, f\"Đã tạo {len(tasks_with_status)} nhiệm vụ chi tiết\")\n",
    "        new_agent_outputs = {\"resources\": state.get(\"agent_outputs\", {}).get(\"resources\", [])}\n",
    "        return {\"task_list\": tasks_with_status, \"reflection_notes\": None, \"agent_outputs\": new_agent_outputs}\n",
    "    except Exception as e:\n",
    "        print_warning(f\"Lỗi tại Plan Delegator: {e}. Tạo task mặc định.\")\n",
    "        return {\"task_list\": [{\"task_id\": 0, \"task_name\": \"Tạo hoạt động\", \"task_description\": \"Tạo hoạt động.\", \"estimated_duration\": 45, \"status\": \"pending\"}], \"reflection_notes\": None, \"agent_outputs\": state.get(\"agent_outputs\", {})}\n",
    "\n",
    "\n",
    "# ### <<< NÂNG CẤP 1: AGENT CHUYÊN MÔN TUÂN THỦ THỜI GIAN ĐÃ PHÂN BỔ >>>\n",
    "async def theory_synthesizer_agent(state: \"TeacherStateV4\") -> Dict[str, Any]:\n",
    "    print_step(\"`Agent: Theory Synthesizer` (v6.9) đang thiết kế hoạt động lý thuyết...\")\n",
    "    task_to_run = next((t for t in state['task_list'] if t['task_id'] == state['current_task_id']), None)\n",
    "    \n",
    "    prompt = f\"\"\"{SYSTEM_PERSONA_PROMPT}\n",
    "    **NHIỆM VỤ:** Thiết kế MỘT hoạt động củng cố hoặc giảng giải lý thuyết.\n",
    "    **MÔ TẢ YÊU CẦU:** \"{task_to_run['task_description']}\"\n",
    "    \n",
    "    **YÊU CẦU BẮT BUỘC VỀ THỜI GIAN:** Hoạt động bạn thiết kế phải có nội dung phù hợp với thời gian đã được phân bổ là **{task_to_run['estimated_duration']} phút**. Đây là một ràng buộc quan trọng.\n",
    "    \n",
    "    **YÊU CẦU ĐỊNH DẠNG:** BẮT BUỘC phải trả về một đối tượng JSON tuân thủ schema sau:\n",
    "    ```json\n",
    "    {schema_json_of(LearningActivity, indent=2)}\n",
    "    ```\n",
    "    \"\"\"\n",
    "    structured_llm = llm.with_structured_output(LearningActivity, method=\"json_mode\")\n",
    "    try:\n",
    "        activity_result = await structured_llm.ainvoke(prompt)\n",
    "        \n",
    "        # === SỬA LỖI LOGIC: GHI ĐÈ THỜI GIAN BẰNG CODE ĐỂ ĐẢM BẢO TUÂN THỦ 100% ===\n",
    "        print_step(f\"Thời gian LLM đề xuất: {activity_result.duration_minutes} phút. Ghi đè bằng thời gian kế hoạch: {task_to_run['estimated_duration']} phút.\")\n",
    "        activity_result.duration_minutes = task_to_run['estimated_duration']\n",
    "        # =======================================================================\n",
    "        \n",
    "        activity_result.solution_guide = format_solution_guide(activity_result.solution_guide)\n",
    "        print_result(activity_result.dict(), \"Hoạt động lý thuyết đã thiết kế\")\n",
    "        return update_agent_outputs(state, \"activities\", activity_result.dict())\n",
    "    except Exception as e:\n",
    "        print_warning(f\"Lỗi tại Theory Synthesizer: {e}. Tạo hoạt động mặc định.\")\n",
    "        default_activity = {\"activity_name\": \"Hoạt động dự phòng (lý thuyết)\", \"description\": \"Mặc định do lỗi.\", \"duration_minutes\": task_to_run.get('estimated_duration', 10), \"activity_type\": \"Dự phòng\", \"solution_guide\": \"N/A\"}\n",
    "        return update_agent_outputs(state, \"activities\", default_activity)\n",
    "\n",
    "async def activity_designer_agent(state: \"TeacherStateV4\") -> Dict[str, Any]:\n",
    "    print_step(\"`Agent: Activity Designer` (v6.9) đang thiết kế hoạt động vận dụng...\")\n",
    "    task_to_run = next((t for t in state['task_list'] if t['task_id'] == state['current_task_id']), None)\n",
    "    \n",
    "    prompt = f\"\"\"{SYSTEM_PERSONA_PROMPT}\n",
    "    **NHIỆM VỤ:** Thiết kế MỘT hoạt động vận dụng, thực hành cho học sinh.\n",
    "    **MÔ TẢ YÊU CẦU:** \"{task_to_run['task_description']}\"\n",
    "    \n",
    "    **YÊU CẦU BẮT BUỘC VỀ THỜI GIAN:** Hoạt động bạn thiết kế phải có nội dung phù hợp với thời gian đã được phân bổ là **{task_to_run['estimated_duration']} phút**. Đây là một ràng buộc quan trọng.\n",
    "    \n",
    "    **YÊU CẦU ĐỊNH DẠNG:** BẮT BUỘC phải trả về một đối tượng JSON tuân thủ schema sau:\n",
    "    ```json\n",
    "    {schema_json_of(LearningActivity, indent=2)}\n",
    "    ```\n",
    "    \"\"\"\n",
    "    structured_llm = llm.with_structured_output(LearningActivity, method=\"json_mode\")\n",
    "    try:\n",
    "        activity_result = await structured_llm.ainvoke(prompt)\n",
    "        \n",
    "        # === SỬA LỖI LOGIC: GHI ĐÈ THỜI GIAN BẰNG CODE ĐỂ ĐẢM BẢO TUÂN THỦ 100% ===\n",
    "        print_step(f\"Thời gian LLM đề xuất: {activity_result.duration_minutes} phút. Ghi đè bằng thời gian kế hoạch: {task_to_run['estimated_duration']} phút.\")\n",
    "        activity_result.duration_minutes = task_to_run['estimated_duration']\n",
    "        # =======================================================================\n",
    "        \n",
    "        activity_result.solution_guide = format_solution_guide(activity_result.solution_guide)\n",
    "        print_result(activity_result.dict(), \"Hoạt động vận dụng đã thiết kế\")\n",
    "        return update_agent_outputs(state, \"activities\", activity_result.dict())\n",
    "    except Exception as e:\n",
    "        print_warning(f\"Lỗi tại Activity Designer: {e}. Tạo hoạt động mặc định.\")\n",
    "        default_activity = {\"activity_name\": \"Hoạt động dự phòng (vận dụng)\", \"description\": \"Mặc định do lỗi.\", \"duration_minutes\": task_to_run.get('estimated_duration', 15), \"activity_type\": \"Dự phòng\", \"solution_guide\": \"N/A\"}\n",
    "        return update_agent_outputs(state, \"activities\", default_activity)\n",
    "\n",
    "async def assessment_creator_agent(state: \"TeacherStateV4\") -> Dict[str, Any]:\n",
    "    print_step(\"`Agent: Assessment Creator` (v6.9) đang tạo câu hỏi đánh giá...\")\n",
    "    task_to_run = next((t for t in state['task_list'] if t['task_id'] == state['current_task_id']), None)\n",
    "    prompt = f\"\"\"{SYSTEM_PERSONA_PROMPT}\n",
    "    **NHIỆM VỤ:** Tạo MỘT bài toán hoặc câu hỏi để đánh giá kiến thức của học sinh.\n",
    "    **MÔ TẢ YÊU CẦU:** \"{task_to_run['task_description']}\"\n",
    "    **QUY TẮC BẮT BUỘC:** Tự giải lại bài toán để đảm bảo đáp án và hướng dẫn giải là HOÀN TOÀN CHÍNH XÁC.\n",
    "    **YÊU CẦU ĐỊNH DẠNG:** BẮT BUỘC phải trả về một đối tượng JSON tuân thủ schema sau:\n",
    "    ```json\n",
    "    {schema_json_of(AssessmentItem, indent=2)}\n",
    "    ```\n",
    "    \"\"\"\n",
    "    structured_llm = llm.with_structured_output(AssessmentItem, method=\"json_mode\")\n",
    "    try:\n",
    "        assessment_result = await structured_llm.ainvoke(prompt)\n",
    "        assessment_result.solution_guide = format_solution_guide(assessment_result.solution_guide)\n",
    "        print_result(assessment_result.dict(), \"Câu hỏi đánh giá đã tạo\")\n",
    "        return update_agent_outputs(state, \"assessments\", assessment_result.dict())\n",
    "    except Exception as e:\n",
    "        print_warning(f\"Lỗi tại Assessment Creator: {e}. Tạo câu hỏi mặc định.\")\n",
    "        return update_agent_outputs(state, \"assessments\", {\"question\": \"Câu hỏi mặc định do lỗi.\", \"question_type\": \"Tự luận\", \"answer\": \"N/A\", \"solution_guide\": \"Không có hướng dẫn giải do lỗi.\"})\n",
    "\n",
    "\n",
    "# ### <<< NÂNG CẤP 2: CRITIC THÔNG MINH HƠN VỀ MẶT THỜI GIAN >>>\n",
    "async def plan_compiler_and_critic_agent(state: \"TeacherStateV4\") -> Dict[str, Any]:\n",
    "    print_step(\"`Agent: Plan Compiler & Critic` (v6.9) đang tổng hợp và đánh giá...\")\n",
    "    outputs = state['agent_outputs']\n",
    "    objective = state['analyzed_objective']\n",
    "    activities = outputs.get('activities', [])\n",
    "    total_duration = sum(act.get('duration_minutes', 0) for act in activities)\n",
    "    allowed_duration = objective.get('constraints', {}).get('duration_minutes', 90)\n",
    "\n",
    "    # === NÂNG CẤP LOGIC PHÊ BÌNH: KIỂM TRA CẢ THỜI GIAN TỐI THIỂU ===\n",
    "    is_duration_valid = (allowed_duration * 0.85) <= total_duration <= (allowed_duration + 10)\n",
    "\n",
    "    if not activities or len(activities) < 3 or not is_duration_valid:\n",
    "        reflection = f\"Kế hoạch thất bại. Tổng thời gian thực tế ({total_duration} phút) nằm ngoài khoảng cho phép (yêu cầu khoảng {allowed_duration * 0.85:.0f} - {allowed_duration} phút). Hoặc số lượng hoạt động ({len(activities)}) quá ít. Hãy lập kế hoạch lại để đảm bảo thời gian và nội dung phù hợp.\"\n",
    "        print_warning(f\"CRITIC: {reflection}\")\n",
    "        # Xóa các kết quả sai để làm lại từ đầu\n",
    "        outputs['activities'] = []\n",
    "        outputs['assessments'] = []\n",
    "        return {\"reflection_notes\": reflection, \"final_lesson_plan\": None, \"agent_outputs\": outputs}\n",
    "    # =================================================================\n",
    "\n",
    "    print_step(\"CRITIC: Kế hoạch hợp lệ! Bắt đầu tổng hợp giáo án chi tiết...\")\n",
    "    \n",
    "    # Logic tạo file markdown (giữ nguyên như v6.8)\n",
    "    activities_md_parts = []\n",
    "    for i, act in enumerate(activities):\n",
    "        activity_str = f\"### Hoạt động {i+1}: {act.get('activity_name', 'N/A')} ({act.get('duration_minutes', 0)} phút)\\n\\n\" \\\n",
    "                       f\"*   **Loại hình:** {act.get('activity_type', 'N/A')}\\n\" \\\n",
    "                       f\"*   **Mô tả/Nhiệm vụ:**\\n{act.get('description', 'N/A')}\\n\\n\" \\\n",
    "                       f\"*   **Gợi ý đáp án/Hướng dẫn giải:**\\n{act.get('solution_guide', 'Chưa có')}\\n\"\n",
    "        activities_md_parts.append(activity_str)\n",
    "    activities_md = \"\\n---\\n\\n\".join(activities_md_parts)\n",
    "\n",
    "    assessments_md_parts = []\n",
    "    for i, ass in enumerate(outputs.get('assessments', [])):\n",
    "        assessment_str = f\"**Bài tập {i+1} (Củng cố/Vận dụng cao):**\\n\\n\" \\\n",
    "                         f\"{ass.get('question', 'N/A')}\\n\\n\" \\\n",
    "                         f\"*   **Đáp án:** {ass.get('answer', 'N/A')}\\n\" \\\n",
    "                         f\"*   **Hướng dẫn giải chi tiết:**\\n{ass.get('solution_guide', 'Chưa có')}\\n\"\n",
    "        assessments_md_parts.append(assessment_str)\n",
    "    assessments_md = \"\\n\".join(assessments_md_parts)\n",
    "\n",
    "    final_plan_str = f\"\"\"# GIÁO ÁN BÀI DẠY: {objective.get('topic', 'N/A')}\n",
    "\n",
    "---\n",
    "\n",
    "## I. THÔNG TIN CHUNG\n",
    "- **Môn học:** Toán\n",
    "- **Lớp:** {objective.get('grade_level', 'N/A')}\n",
    "- **Thời lượng dự kiến:** {total_duration} phút / {allowed_duration} phút\n",
    "- **Phương pháp sư phạm chủ đạo:** {state.get('pedagogy_strategy', {}).get('chosen_pedagogy', 'Chưa xác định')}\n",
    "\n",
    "---\n",
    "\n",
    "## II. MỤC TIÊU BÀI HỌC\n",
    "- Học sinh có thể **{objective.get('action_verb', 'vận dụng')}** kiến thức về {objective.get('topic', 'N/A')} để giải quyết các bài toán liên quan.\n",
    "- Rèn luyện kỹ năng tư duy logic, mô hình hóa toán học và giải quyết vấn đề.\n",
    "\n",
    "---\n",
    "\n",
    "## III. CHUẨN BỊ\n",
    "- **Giáo viên:** Bảng phụ, phấn màu, phiếu học tập (nếu có).\n",
    "- **Học sinh:** Sách giáo khoa, vở ghi, dụng cụ học tập (compa, thước kẻ).\n",
    "- **Nguồn tài liệu tham khảo:** {outputs.get('resources', [{}])[0].get('source', 'N/A')}\n",
    "\n",
    "---\n",
    "\n",
    "## IV. TIẾN TRÌNH BÀI DẠY\n",
    "\n",
    "{activities_md}\n",
    "\n",
    "---\n",
    "\n",
    "## V. CỦNG CỐ VÀ ĐÁNH GIÁ\n",
    "\n",
    "{assessments_md}\n",
    "\n",
    "---\n",
    "\n",
    "## VI. TÓM TẮT KIẾN THỨC CỐT LÕI\n",
    "\n",
    "{outputs.get('resources', [{}])[0].get('summary', 'Chưa có tóm tắt.')}\n",
    "\"\"\"\n",
    "    return {\"final_lesson_plan\": final_plan_str, \"reflection_notes\": None}\n",
    "\n",
    "print(\"✅ Tất cả các agent đã được nâng cấp lên phiên bản 6.9 (Kỷ luật Thời gian & Critic Nâng cao).\")"
   ]
  },
  {
   "cell_type": "code",
   "execution_count": 19,
   "id": "5468f9a9",
   "metadata": {},
   "outputs": [
    {
     "name": "stdout",
     "output_type": "stream",
     "text": [
      "✅ Graph 6.9 đã được biên dịch thành công.\n"
     ]
    },
    {
     "data": {
      "image/png": "[encoded data removed]",
      "text/plain": [
       "<IPython.core.display.Image object>"
      ]
     },
     "metadata": {},
     "output_type": "display_data"
    }
   ],
   "source": [
    "# ==============================================================================\n",
    "# CELL 4 (Phiên bản 6.9 - Lắp ráp Graph, không đổi logic)\n",
    "# ==============================================================================\n",
    "from typing import Literal, Dict, Any\n",
    "\n",
    "# --- CÁC NODE TIỆN ÍCH VÀ ĐIỀU PHỐI (ĐỊNH NGHĨA ĐẦY ĐỦ) ---\n",
    "\n",
    "def mark_task_complete(state: \"TeacherStateV4\") -> Dict[str, Any]:\n",
    "    \"\"\"\n",
    "    Node tiện ích: Đánh dấu nhiệm vụ hiện tại là 'completed' và xóa current_task_id\n",
    "    để chuẩn bị cho vòng lặp tiếp theo của router.\n",
    "    \"\"\"\n",
    "    task_list = state.get(\"task_list\", [])\n",
    "    current_task_id = state.get(\"current_task_id\")\n",
    "    if not task_list or current_task_id is None: \n",
    "        return {}\n",
    "    \n",
    "    new_task_list = [t.copy() for t in task_list]\n",
    "    for task in new_task_list:\n",
    "        if task.get(\"task_id\") == current_task_id:\n",
    "            task[\"status\"] = \"completed\"\n",
    "            break\n",
    "            \n",
    "    return {\"task_list\": new_task_list, \"current_task_id\": None}\n",
    "    \n",
    "def task_router_node(state: \"TeacherStateV4\") -> Dict[str, Any]:\n",
    "    \"\"\"\n",
    "    Node tiện ích: Kiểm tra xem còn nhiệm vụ nào trong danh sách ở trạng thái 'pending' không.\n",
    "    \"\"\"\n",
    "    print_step(\"`Router`: Đang kiểm tra nhiệm vụ...\")\n",
    "    task_list = state.get(\"task_list\", [])\n",
    "    # Tìm nhiệm vụ đầu tiên có trạng thái 'pending'\n",
    "    next_task = next((task for task in task_list if task.get(\"status\") == \"pending\"), None)\n",
    "    \n",
    "    if next_task:\n",
    "        print_step(f\"Nhiệm vụ tiếp theo: '{next_task['task_name']}' (ID: {next_task['task_id']})\")\n",
    "        return {\"current_task_id\": next_task['task_id']}\n",
    "    else:\n",
    "        print_step(\"Hết nhiệm vụ, chuyển sang node Compiler & Critic.\")\n",
    "        return {\"current_task_id\": None}\n",
    "\n",
    "\n",
    "async def task_dispatcher_agent(state: \"TeacherStateV4\") -> Dict[str, Any]:\n",
    "    \"\"\"\n",
    "    Agent điều phối: Phân loại nhiệm vụ hiện tại và quyết định agent chuyên môn nào sẽ thực hiện.\n",
    "    Sử dụng few-shot prompting để tăng độ chính xác.\n",
    "    \"\"\"\n",
    "    print_step(\"`Agent: Task Dispatcher` (v6.9) Bắt đầu...\")\n",
    "    task_to_run = next((t for t in state['task_list'] if t['task_id'] == state['current_task_id']), None)\n",
    "\n",
    "    if not task_to_run:\n",
    "        print_warning(\"Dispatcher không tìm thấy task, sẽ bỏ qua bước này.\")\n",
    "        return {\"next_agent\": \"mark_task_complete\"}\n",
    "\n",
    "    task_description = task_to_run['task_description']\n",
    "\n",
    "    prompt = f\"\"\"{SYSTEM_PERSONA_PROMPT}\n",
    "    **Nhiệm vụ:** Phân loại mô tả nhiệm vụ sau vào MỘT trong ba agent sau: 'activity_designer', 'theory_synthesizer', 'assessment_creator'.\n",
    "\n",
    "    **QUY TẮC PHÂN LOẠI:**\n",
    "    - Nếu nhiệm vụ liên quan đến việc giảng giải, trình bày, giới thiệu, ôn tập lý thuyết, định nghĩa, định lý, khởi động, tổng kết -> **'theory_synthesizer'**.\n",
    "    - Nếu nhiệm vụ yêu cầu học sinh thực hành, làm bài tập, luyện tập, thảo luận, làm việc nhóm, vận dụng kiến thức -> **'activity_designer'**.\n",
    "    - Nếu nhiệm vụ là kiểm tra, đánh giá, cho bài tập về nhà, ra một bài toán khó để tổng kết, một bài toán chứng minh phức tạp -> **'assessment_creator'**.\n",
    "\n",
    "    **VÍ DỤ:**\n",
    "    1.  **Nhiệm vụ:** \"Giáo viên ổn định lớp, kiểm tra bài cũ về các định nghĩa cơ bản của đường tròn\"\n",
    "        **Phân loại:** `theory_synthesizer` (vì là hoạt động mở đầu, ôn tập nhẹ nhàng)\n",
    "    2.  **Nhiệm vụ:** \"Học sinh làm các bài tập trong sách giáo khoa về tính độ dài cung tròn\"\n",
    "        **Phân loại:** `activity_designer` (vì là hoạt động luyện tập, thực hành)\n",
    "    3.  **Nhiệm vụ:** \"Học sinh vận dụng các kiến thức tổng hợp về góc nội tiếp và tứ giác nội tiếp để giải một bài toán chứng minh hình học phức tạp\"\n",
    "        **Phân loại:** `assessment_creator` (vì mang tính thử thách, đánh giá cao)\n",
    "    4.  **Nhiệm vụ:** \"Giáo viên tổng kết bài học và dặn dò bài tập về nhà\"\n",
    "        **Phân loại:** `theory_synthesizer` (vì là hoạt động kết thúc, mang tính thông báo)\n",
    "\n",
    "    **NHIỆM VỤ CẦN PHÂN LOẠI:** \"{task_description}\"\n",
    "\n",
    "    **YÊU CẦU JSON:** Trả về JSON với key duy nhất là `agent_category`.\n",
    "    \"\"\"\n",
    "    structured_llm = llm.with_structured_output(TaskClassification)\n",
    "\n",
    "    try:\n",
    "        classification_result = await structured_llm.ainvoke(prompt)\n",
    "        next_agent = classification_result.agent_category\n",
    "    except Exception as e:\n",
    "        print_warning(f\"Lỗi tại Dispatcher khi phân loại: {e}. Giao nhiệm vụ cho agent mặc định 'activity_designer'.\")\n",
    "        next_agent = \"activity_designer\"\n",
    "\n",
    "    print_step(f\"--- 🚚 `Dispatcher`: Giao nhiệm vụ cho `{next_agent}`.\")\n",
    "    return {\"next_agent\": next_agent}\n",
    "\n",
    "# --- CÁC HÀM ĐIỀU HƯỚNG (ĐỊNH NGHĨA ĐẦY ĐỦ) ---\n",
    "def route_after_router(state: \"TeacherStateV4\") -> Literal[\"continue_executing\", \"compile_and_critique\"]:\n",
    "    \"\"\"Hàm điều kiện: Quyết định tiếp tục vòng lặp task hay chuyển sang bước tổng hợp.\"\"\"\n",
    "    if state.get(\"current_task_id\") is None:\n",
    "        return \"compile_and_critique\"\n",
    "    else:\n",
    "        return \"continue_executing\"\n",
    "\n",
    "def route_after_compilation(state: \"TeacherStateV4\") -> Literal[\"finish\", \"replan\"]:\n",
    "    \"\"\"Hàm điều kiện: Quyết định kết thúc hay yêu cầu lập kế hoạch lại dựa trên phản hồi của Critic.\"\"\"\n",
    "    if state.get(\"reflection_notes\"):\n",
    "        print_step(\"ROUTER: Phát hiện phản hồi từ Critic. Yêu cầu hệ thống lập kế hoạch lại.\")\n",
    "        return \"replan\"\n",
    "    else:\n",
    "        print_step(\"ROUTER: Critic đã hài lòng. Kết thúc quy trình.\")\n",
    "        return \"finish\"\n",
    "\n",
    "\n",
    "# --- XÂY DỰNG GRAPH PHIÊN BẢN 6.9 ---\n",
    "workflow = StateGraph(TeacherStateV4)\n",
    "\n",
    "# 1. Thêm tất cả các node vào graph\n",
    "workflow.add_node(\"initializer\", initialize_state_node)\n",
    "workflow.add_node(\"objective_interpreter\", objective_interpreter_agent)\n",
    "workflow.add_node(\"pedagogy_strategist\", pedagogy_strategist_agent)\n",
    "workflow.add_node(\"query_expansion\", query_expansion_agent)\n",
    "workflow.add_node(\"resource_scout\", resource_scout_agent_v2)\n",
    "workflow.add_node(\"plan_delegator\", plan_delegator_agent)\n",
    "workflow.add_node(\"task_router\", task_router_node)\n",
    "workflow.add_node(\"task_dispatcher\", task_dispatcher_agent)\n",
    "workflow.add_node(\"theory_synthesizer\", theory_synthesizer_agent)\n",
    "workflow.add_node(\"activity_designer\", activity_designer_agent)\n",
    "workflow.add_node(\"assessment_creator\", assessment_creator_agent)\n",
    "workflow.add_node(\"mark_task_complete\", mark_task_complete)\n",
    "workflow.add_node(\"plan_compiler_and_critic\", plan_compiler_and_critic_agent)\n",
    "\n",
    "# 2. Kết nối các bước theo luồng logic\n",
    "workflow.set_entry_point(\"initializer\")\n",
    "workflow.add_edge(\"initializer\", \"objective_interpreter\")\n",
    "workflow.add_edge(\"objective_interpreter\", \"pedagogy_strategist\")\n",
    "workflow.add_edge(\"pedagogy_strategist\", \"query_expansion\")\n",
    "workflow.add_edge(\"query_expansion\", \"resource_scout\")\n",
    "workflow.add_edge(\"resource_scout\", \"plan_delegator\")\n",
    "workflow.add_edge(\"plan_delegator\", \"task_router\")\n",
    "\n",
    "# 3. Vòng lặp thực thi nhiệm vụ\n",
    "workflow.add_conditional_edges(\n",
    "    \"task_router\",\n",
    "    route_after_router,\n",
    "    {\"continue_executing\": \"task_dispatcher\", \"compile_and_critique\": \"plan_compiler_and_critic\"}\n",
    ")\n",
    "workflow.add_conditional_edges(\n",
    "    \"task_dispatcher\",\n",
    "    lambda state: state[\"next_agent\"],\n",
    "    {\"activity_designer\": \"activity_designer\", \"assessment_creator\": \"assessment_creator\", \"theory_synthesizer\": \"theory_synthesizer\"}\n",
    ")\n",
    "workflow.add_edge(\"activity_designer\", \"mark_task_complete\")\n",
    "workflow.add_edge(\"assessment_creator\", \"mark_task_complete\")\n",
    "workflow.add_edge(\"theory_synthesizer\", \"mark_task_complete\")\n",
    "workflow.add_edge(\"mark_task_complete\", \"task_router\")\n",
    "\n",
    "# 4. Vòng lặp tự sửa lỗi\n",
    "workflow.add_conditional_edges(\n",
    "    \"plan_compiler_and_critic\",\n",
    "    route_after_compilation,\n",
    "    {\"replan\": \"plan_delegator\", \"finish\": END}\n",
    ")\n",
    "\n",
    "# 5. Biên dịch Graph\n",
    "app = workflow.compile()\n",
    "print(\"✅ Graph 6.9 đã được biên dịch thành công.\")\n",
    "\n",
    "# 6. Vẽ biểu đồ để kiểm tra trực quan\n",
    "try:\n",
    "    display(Image(app.get_graph().draw_mermaid_png()))\n",
    "except Exception as e:\n",
    "    print(f\"Lỗi vẽ biểu đồ: {e}\")"
   ]
  },
  {
   "cell_type": "code",
   "execution_count": 20,
   "id": "a3de29b3",
   "metadata": {},
   "outputs": [
    {
     "data": {
      "text/html": [
       "<pre style=\"white-space:pre;overflow-x:auto;line-height:normal;font-family:Menlo,'DejaVu Sans Mono',consolas,'Courier New',monospace\">\n",
       "<span style=\"color: #800080; text-decoration-color: #800080; font-weight: bold\">🚀 BẮT ĐẦU QUY TRÌNH V6.</span><span style=\"color: #800080; text-decoration-color: #800080; font-weight: bold\">9</span><span style=\"color: #800080; text-decoration-color: #800080; font-weight: bold\"> VỚI YÊU CẦU:</span>\n",
       "&gt; Soạn giúp tôi giáo án bài <span style=\"color: #008000; text-decoration-color: #008000\">'Đường tròn ngoại tiếp và đường tròn nội tiếp'</span> cho học sinh lớp <span style=\"color: #008080; text-decoration-color: #008080; font-weight: bold\">9</span>. Mục tiêu là các em \n",
       "có thể vận dụng được góc nội tiếp và cung bị chắn để giải các bài toán trong phần luyện tập. Buổi học sẽ diễn ra \n",
       "trong <span style=\"color: #008080; text-decoration-color: #008080; font-weight: bold\">2</span> tiết, tổng cộng <span style=\"color: #008080; text-decoration-color: #008080; font-weight: bold\">90</span> phút.\n",
       "</pre>\n"
      ],
      "text/plain": [
       "\n",
       "\u001b[1;35m🚀 BẮT ĐẦU QUY TRÌNH V6.\u001b[0m\u001b[1;35m9\u001b[0m\u001b[1;35m VỚI YÊU CẦU:\u001b[0m\n",
       "> Soạn giúp tôi giáo án bài \u001b[32m'Đường tròn ngoại tiếp và đường tròn nội tiếp'\u001b[0m cho học sinh lớp \u001b[1;36m9\u001b[0m. Mục tiêu là các em \n",
       "có thể vận dụng được góc nội tiếp và cung bị chắn để giải các bài toán trong phần luyện tập. Buổi học sẽ diễn ra \n",
       "trong \u001b[1;36m2\u001b[0m tiết, tổng cộng \u001b[1;36m90\u001b[0m phút.\n"
      ]
     },
     "metadata": {},
     "output_type": "display_data"
    },
    {
     "data": {
      "text/html": [
       "<pre style=\"white-space:pre;overflow-x:auto;line-height:normal;font-family:Menlo,'DejaVu Sans Mono',consolas,'Courier New',monospace\">\n",
       "<span style=\"color: #008080; text-decoration-color: #008080; font-weight: bold\">&gt;</span> `Initializer`: Đang khởi tạo trạng thái và lấy yêu cầu gốc<span style=\"color: #808000; text-decoration-color: #808000\">...</span>\n",
       "</pre>\n"
      ],
      "text/plain": [
       "\n",
       "\u001b[1;36m>\u001b[0m `Initializer`: Đang khởi tạo trạng thái và lấy yêu cầu gốc\u001b[33m...\u001b[0m\n"
      ]
     },
     "metadata": {},
     "output_type": "display_data"
    },
    {
     "data": {
      "text/html": [
       "<pre style=\"white-space:pre;overflow-x:auto;line-height:normal;font-family:Menlo,'DejaVu Sans Mono',consolas,'Courier New',monospace\">\n",
       "<span style=\"color: #808000; text-decoration-color: #808000; font-weight: bold\">------- Hoàn thành bước: initializer -------</span>\n",
       "</pre>\n"
      ],
      "text/plain": [
       "\n",
       "\u001b[1;33m------- Hoàn thành bước: initializer -------\u001b[0m\n"
      ]
     },
     "metadata": {},
     "output_type": "display_data"
    },
    {
     "data": {
      "text/html": [
       "<pre style=\"white-space:pre;overflow-x:auto;line-height:normal;font-family:Menlo,'DejaVu Sans Mono',consolas,'Courier New',monospace\">\n",
       "<span style=\"color: #008080; text-decoration-color: #008080; font-weight: bold\">&gt;</span> `Agent: Objective Interpreter` <span style=\"font-weight: bold\">(</span>v6.<span style=\"color: #008080; text-decoration-color: #008080; font-weight: bold\">9</span><span style=\"font-weight: bold\">)</span> đang phân tích mục tiêu<span style=\"color: #808000; text-decoration-color: #808000\">...</span>\n",
       "</pre>\n"
      ],
      "text/plain": [
       "\n",
       "\u001b[1;36m>\u001b[0m `Agent: Objective Interpreter` \u001b[1m(\u001b[0mv6.\u001b[1;36m9\u001b[0m\u001b[1m)\u001b[0m đang phân tích mục tiêu\u001b[33m...\u001b[0m\n"
      ]
     },
     "metadata": {},
     "output_type": "display_data"
    },
    {
     "data": {
      "text/html": [
       "<pre style=\"white-space:pre;overflow-x:auto;line-height:normal;font-family:Menlo,'DejaVu Sans Mono',consolas,'Courier New',monospace\"><span style=\"color: #008000; text-decoration-color: #008000; font-weight: bold\">✔️ Mục tiêu &amp; Ràng buộc đã phân tích:</span>\n",
       "</pre>\n"
      ],
      "text/plain": [
       "\u001b[1;32m✔️ Mục tiêu & Ràng buộc đã phân tích:\u001b[0m\n"
      ]
     },
     "metadata": {},
     "output_type": "display_data"
    },
    {
     "data": {
      "text/html": [
       "<pre style=\"white-space:pre;overflow-x:auto;line-height:normal;font-family:Menlo,'DejaVu Sans Mono',consolas,'Courier New',monospace\"><span style=\"font-weight: bold\">{</span>\n",
       "<span style=\"color: #7fbf7f; text-decoration-color: #7fbf7f\">│   </span><span style=\"color: #008000; text-decoration-color: #008000\">'action_verb'</span>: <span style=\"color: #008000; text-decoration-color: #008000\">'Soạn'</span>,\n",
       "<span style=\"color: #7fbf7f; text-decoration-color: #7fbf7f\">│   </span><span style=\"color: #008000; text-decoration-color: #008000\">'bloom_level'</span>: <span style=\"color: #008080; text-decoration-color: #008080; font-weight: bold\">3</span>,\n",
       "<span style=\"color: #7fbf7f; text-decoration-color: #7fbf7f\">│   </span><span style=\"color: #008000; text-decoration-color: #008000\">'topic'</span>: <span style=\"color: #008000; text-decoration-color: #008000\">'Đường tròn ngoại tiếp và đường tròn nội tiếp'</span>,\n",
       "<span style=\"color: #7fbf7f; text-decoration-color: #7fbf7f\">│   </span><span style=\"color: #008000; text-decoration-color: #008000\">'grade_level'</span>: <span style=\"color: #008000; text-decoration-color: #008000\">'9'</span>,\n",
       "<span style=\"color: #7fbf7f; text-decoration-color: #7fbf7f\">│   </span><span style=\"color: #008000; text-decoration-color: #008000\">'constraints'</span>: <span style=\"font-weight: bold\">{</span>\n",
       "<span style=\"color: #7fbf7f; text-decoration-color: #7fbf7f\">│   │   </span><span style=\"color: #008000; text-decoration-color: #008000\">'duration_minutes'</span>: <span style=\"color: #008080; text-decoration-color: #008080; font-weight: bold\">90</span>\n",
       "<span style=\"color: #7fbf7f; text-decoration-color: #7fbf7f\">│   </span><span style=\"font-weight: bold\">}</span>\n",
       "<span style=\"font-weight: bold\">}</span>\n",
       "</pre>\n"
      ],
      "text/plain": [
       "\u001b[1m{\u001b[0m\n",
       "\u001b[2;32m│   \u001b[0m\u001b[32m'action_verb'\u001b[0m: \u001b[32m'Soạn'\u001b[0m,\n",
       "\u001b[2;32m│   \u001b[0m\u001b[32m'bloom_level'\u001b[0m: \u001b[1;36m3\u001b[0m,\n",
       "\u001b[2;32m│   \u001b[0m\u001b[32m'topic'\u001b[0m: \u001b[32m'Đường tròn ngoại tiếp và đường tròn nội tiếp'\u001b[0m,\n",
       "\u001b[2;32m│   \u001b[0m\u001b[32m'grade_level'\u001b[0m: \u001b[32m'9'\u001b[0m,\n",
       "\u001b[2;32m│   \u001b[0m\u001b[32m'constraints'\u001b[0m: \u001b[1m{\u001b[0m\n",
       "\u001b[2;32m│   │   \u001b[0m\u001b[32m'duration_minutes'\u001b[0m: \u001b[1;36m90\u001b[0m\n",
       "\u001b[2;32m│   \u001b[0m\u001b[1m}\u001b[0m\n",
       "\u001b[1m}\u001b[0m\n"
      ]
     },
     "metadata": {},
     "output_type": "display_data"
    },
    {
     "data": {
      "text/html": [
       "<pre style=\"white-space:pre;overflow-x:auto;line-height:normal;font-family:Menlo,'DejaVu Sans Mono',consolas,'Courier New',monospace\">\n",
       "<span style=\"color: #808000; text-decoration-color: #808000; font-weight: bold\">------- Hoàn thành bước: objective_interpreter -------</span>\n",
       "</pre>\n"
      ],
      "text/plain": [
       "\n",
       "\u001b[1;33m------- Hoàn thành bước: objective_interpreter -------\u001b[0m\n"
      ]
     },
     "metadata": {},
     "output_type": "display_data"
    },
    {
     "data": {
      "text/html": [
       "<pre style=\"white-space:pre;overflow-x:auto;line-height:normal;font-family:Menlo,'DejaVu Sans Mono',consolas,'Courier New',monospace\">\n",
       "<span style=\"color: #008080; text-decoration-color: #008080; font-weight: bold\">&gt;</span> `Agent: Pedagogy Strategist` <span style=\"font-weight: bold\">(</span>v6.<span style=\"color: #008080; text-decoration-color: #008080; font-weight: bold\">9</span><span style=\"font-weight: bold\">)</span> Bắt đầu<span style=\"color: #808000; text-decoration-color: #808000\">...</span>\n",
       "</pre>\n"
      ],
      "text/plain": [
       "\n",
       "\u001b[1;36m>\u001b[0m `Agent: Pedagogy Strategist` \u001b[1m(\u001b[0mv6.\u001b[1;36m9\u001b[0m\u001b[1m)\u001b[0m Bắt đầu\u001b[33m...\u001b[0m\n"
      ]
     },
     "metadata": {},
     "output_type": "display_data"
    },
    {
     "data": {
      "text/html": [
       "<pre style=\"white-space:pre;overflow-x:auto;line-height:normal;font-family:Menlo,'DejaVu Sans Mono',consolas,'Courier New',monospace\"><span style=\"color: #008000; text-decoration-color: #008000; font-weight: bold\">✔️ Chiến lược sư phạm đã chọn:</span>\n",
       "</pre>\n"
      ],
      "text/plain": [
       "\u001b[1;32m✔️ Chiến lược sư phạm đã chọn:\u001b[0m\n"
      ]
     },
     "metadata": {},
     "output_type": "display_data"
    },
    {
     "data": {
      "text/html": [
       "<pre style=\"white-space:pre;overflow-x:auto;line-height:normal;font-family:Menlo,'DejaVu Sans Mono',consolas,'Courier New',monospace\"><span style=\"font-weight: bold\">{</span>\n",
       "<span style=\"color: #7fbf7f; text-decoration-color: #7fbf7f\">│   </span><span style=\"color: #008000; text-decoration-color: #008000\">'chosen_pedagogy'</span>: <span style=\"color: #008000; text-decoration-color: #008000\">'Phương pháp vấn đáp'</span>,\n",
       "<span style=\"color: #7fbf7f; text-decoration-color: #7fbf7f\">│   </span><span style=\"color: #008000; text-decoration-color: #008000\">'pedagogy_rationale'</span>: <span style=\"color: #008000; text-decoration-color: #008000\">'Để đạt được mục tiêu soạn về đường tròn ngoại tiếp và đường tròn nội tiếp, phương pháp vấn đáp sẽ giúp học sinh lớp 9 phát triển kỹ năng tư duy phê phán và giải quyết vấn đề. Giáo viên sẽ đặt câu hỏi gợi mở, hướng dẫn học sinh thảo luận và tìm kiếm đáp án, từ đó giúp học sinh nắm vững kiến thức và phát triển kỹ năng ứng dụng.'</span>\n",
       "<span style=\"font-weight: bold\">}</span>\n",
       "</pre>\n"
      ],
      "text/plain": [
       "\u001b[1m{\u001b[0m\n",
       "\u001b[2;32m│   \u001b[0m\u001b[32m'chosen_pedagogy'\u001b[0m: \u001b[32m'Phương pháp vấn đáp'\u001b[0m,\n",
       "\u001b[2;32m│   \u001b[0m\u001b[32m'pedagogy_rationale'\u001b[0m: \u001b[32m'Để đạt được mục tiêu soạn về đường tròn ngoại tiếp và đường tròn nội tiếp, phương pháp vấn đáp sẽ giúp học sinh lớp 9 phát triển kỹ năng tư duy phê phán và giải quyết vấn đề. Giáo viên sẽ đặt câu hỏi gợi mở, hướng dẫn học sinh thảo luận và tìm kiếm đáp án, từ đó giúp học sinh nắm vững kiến thức và phát triển kỹ năng ứng dụng.'\u001b[0m\n",
       "\u001b[1m}\u001b[0m\n"
      ]
     },
     "metadata": {},
     "output_type": "display_data"
    },
    {
     "data": {
      "text/html": [
       "<pre style=\"white-space:pre;overflow-x:auto;line-height:normal;font-family:Menlo,'DejaVu Sans Mono',consolas,'Courier New',monospace\">\n",
       "<span style=\"color: #808000; text-decoration-color: #808000; font-weight: bold\">------- Hoàn thành bước: pedagogy_strategist -------</span>\n",
       "</pre>\n"
      ],
      "text/plain": [
       "\n",
       "\u001b[1;33m------- Hoàn thành bước: pedagogy_strategist -------\u001b[0m\n"
      ]
     },
     "metadata": {},
     "output_type": "display_data"
    },
    {
     "data": {
      "text/html": [
       "<pre style=\"white-space:pre;overflow-x:auto;line-height:normal;font-family:Menlo,'DejaVu Sans Mono',consolas,'Courier New',monospace\">\n",
       "<span style=\"color: #008080; text-decoration-color: #008080; font-weight: bold\">&gt;</span> `Agent: Query Expansion` <span style=\"font-weight: bold\">(</span>v6.<span style=\"color: #008080; text-decoration-color: #008080; font-weight: bold\">9</span><span style=\"font-weight: bold\">)</span> đang phân tích yêu cầu<span style=\"color: #808000; text-decoration-color: #808000\">...</span>\n",
       "</pre>\n"
      ],
      "text/plain": [
       "\n",
       "\u001b[1;36m>\u001b[0m `Agent: Query Expansion` \u001b[1m(\u001b[0mv6.\u001b[1;36m9\u001b[0m\u001b[1m)\u001b[0m đang phân tích yêu cầu\u001b[33m...\u001b[0m\n"
      ]
     },
     "metadata": {},
     "output_type": "display_data"
    },
    {
     "data": {
      "text/html": [
       "<pre style=\"white-space:pre;overflow-x:auto;line-height:normal;font-family:Menlo,'DejaVu Sans Mono',consolas,'Courier New',monospace\"><span style=\"color: #008000; text-decoration-color: #008000; font-weight: bold\">✔️ Các truy vấn tìm kiếm đã được mở rộng:</span>\n",
       "</pre>\n"
      ],
      "text/plain": [
       "\u001b[1;32m✔️ Các truy vấn tìm kiếm đã được mở rộng:\u001b[0m\n"
      ]
     },
     "metadata": {},
     "output_type": "display_data"
    },
    {
     "data": {
      "text/html": [
       "<pre style=\"white-space:pre;overflow-x:auto;line-height:normal;font-family:Menlo,'DejaVu Sans Mono',consolas,'Courier New',monospace\"><span style=\"font-weight: bold\">[</span>\n",
       "<span style=\"color: #7fbf7f; text-decoration-color: #7fbf7f\">│   </span><span style=\"color: #008000; text-decoration-color: #008000\">'đường tròn ngoại tiếp và đường tròn nội tiếp lớp 9'</span>,\n",
       "<span style=\"color: #7fbf7f; text-decoration-color: #7fbf7f\">│   </span><span style=\"color: #008000; text-decoration-color: #008000\">'tính chất đường tròn ngoại tiếp'</span>,\n",
       "<span style=\"color: #7fbf7f; text-decoration-color: #7fbf7f\">│   </span><span style=\"color: #008000; text-decoration-color: #008000\">'đường tròn nội tiếp là gì'</span>,\n",
       "<span style=\"color: #7fbf7f; text-decoration-color: #7fbf7f\">│   </span><span style=\"color: #008000; text-decoration-color: #008000\">'ứng dụng đường tròn ngoại tiếp trong thực tế'</span>,\n",
       "<span style=\"color: #7fbf7f; text-decoration-color: #7fbf7f\">│   </span><span style=\"color: #008000; text-decoration-color: #008000\">'đường tròn ngoại tiếp và đường tròn nội tiếp khác nhau như thế nào'</span>,\n",
       "<span style=\"color: #7fbf7f; text-decoration-color: #7fbf7f\">│   </span><span style=\"color: #008000; text-decoration-color: #008000\">'công thức tính đường tròn ngoại tiếp'</span>,\n",
       "<span style=\"color: #7fbf7f; text-decoration-color: #7fbf7f\">│   </span><span style=\"color: #008000; text-decoration-color: #008000\">'đường tròn nội tiếp của tam giác'</span>,\n",
       "<span style=\"color: #7fbf7f; text-decoration-color: #7fbf7f\">│   </span><span style=\"color: #008000; text-decoration-color: #008000\">'đường tròn ngoại tiếp của hình chữ nhật'</span>,\n",
       "<span style=\"color: #7fbf7f; text-decoration-color: #7fbf7f\">│   </span><span style=\"color: #008000; text-decoration-color: #008000\">'tính đường tròn ngoại tiếp của hình thang'</span>,\n",
       "<span style=\"color: #7fbf7f; text-decoration-color: #7fbf7f\">│   </span><span style=\"color: #008000; text-decoration-color: #008000\">'đường tròn nội tiếp và đường tròn ngoại tiếp trong hình học'</span>,\n",
       "<span style=\"color: #7fbf7f; text-decoration-color: #7fbf7f\">│   </span><span style=\"color: #008000; text-decoration-color: #008000\">'đường tròn ngoại tiếp và đường tròn nội tiếp có gì giống nhau'</span>\n",
       "<span style=\"font-weight: bold\">]</span>\n",
       "</pre>\n"
      ],
      "text/plain": [
       "\u001b[1m[\u001b[0m\n",
       "\u001b[2;32m│   \u001b[0m\u001b[32m'đường tròn ngoại tiếp và đường tròn nội tiếp lớp 9'\u001b[0m,\n",
       "\u001b[2;32m│   \u001b[0m\u001b[32m'tính chất đường tròn ngoại tiếp'\u001b[0m,\n",
       "\u001b[2;32m│   \u001b[0m\u001b[32m'đường tròn nội tiếp là gì'\u001b[0m,\n",
       "\u001b[2;32m│   \u001b[0m\u001b[32m'ứng dụng đường tròn ngoại tiếp trong thực tế'\u001b[0m,\n",
       "\u001b[2;32m│   \u001b[0m\u001b[32m'đường tròn ngoại tiếp và đường tròn nội tiếp khác nhau như thế nào'\u001b[0m,\n",
       "\u001b[2;32m│   \u001b[0m\u001b[32m'công thức tính đường tròn ngoại tiếp'\u001b[0m,\n",
       "\u001b[2;32m│   \u001b[0m\u001b[32m'đường tròn nội tiếp của tam giác'\u001b[0m,\n",
       "\u001b[2;32m│   \u001b[0m\u001b[32m'đường tròn ngoại tiếp của hình chữ nhật'\u001b[0m,\n",
       "\u001b[2;32m│   \u001b[0m\u001b[32m'tính đường tròn ngoại tiếp của hình thang'\u001b[0m,\n",
       "\u001b[2;32m│   \u001b[0m\u001b[32m'đường tròn nội tiếp và đường tròn ngoại tiếp trong hình học'\u001b[0m,\n",
       "\u001b[2;32m│   \u001b[0m\u001b[32m'đường tròn ngoại tiếp và đường tròn nội tiếp có gì giống nhau'\u001b[0m\n",
       "\u001b[1m]\u001b[0m\n"
      ]
     },
     "metadata": {},
     "output_type": "display_data"
    },
    {
     "data": {
      "text/html": [
       "<pre style=\"white-space:pre;overflow-x:auto;line-height:normal;font-family:Menlo,'DejaVu Sans Mono',consolas,'Courier New',monospace\">\n",
       "<span style=\"color: #808000; text-decoration-color: #808000; font-weight: bold\">------- Hoàn thành bước: query_expansion -------</span>\n",
       "</pre>\n"
      ],
      "text/plain": [
       "\n",
       "\u001b[1;33m------- Hoàn thành bước: query_expansion -------\u001b[0m\n"
      ]
     },
     "metadata": {},
     "output_type": "display_data"
    },
    {
     "data": {
      "text/html": [
       "<pre style=\"white-space:pre;overflow-x:auto;line-height:normal;font-family:Menlo,'DejaVu Sans Mono',consolas,'Courier New',monospace\">\n",
       "<span style=\"color: #008080; text-decoration-color: #008080; font-weight: bold\">&gt;</span> `Agent: Resource Scout` <span style=\"font-weight: bold\">(</span>v6.<span style=\"color: #008080; text-decoration-color: #008080; font-weight: bold\">9</span><span style=\"font-weight: bold\">)</span> đang tìm kiếm và sàng lọc<span style=\"color: #808000; text-decoration-color: #808000\">...</span>\n",
       "</pre>\n"
      ],
      "text/plain": [
       "\n",
       "\u001b[1;36m>\u001b[0m `Agent: Resource Scout` \u001b[1m(\u001b[0mv6.\u001b[1;36m9\u001b[0m\u001b[1m)\u001b[0m đang tìm kiếm và sàng lọc\u001b[33m...\u001b[0m\n"
      ]
     },
     "metadata": {},
     "output_type": "display_data"
    },
    {
     "data": {
      "text/html": [
       "<pre style=\"white-space:pre;overflow-x:auto;line-height:normal;font-family:Menlo,'DejaVu Sans Mono',consolas,'Courier New',monospace\">\n",
       "<span style=\"color: #008080; text-decoration-color: #008080; font-weight: bold\">&gt;</span> Tìm thấy <span style=\"color: #008080; text-decoration-color: #008080; font-weight: bold\">55</span> tài liệu, sàng lọc còn <span style=\"color: #008080; text-decoration-color: #008080; font-weight: bold\">8</span> đoạn văn bản độc nhất để xử lý.\n",
       "</pre>\n"
      ],
      "text/plain": [
       "\n",
       "\u001b[1;36m>\u001b[0m Tìm thấy \u001b[1;36m55\u001b[0m tài liệu, sàng lọc còn \u001b[1;36m8\u001b[0m đoạn văn bản độc nhất để xử lý.\n"
      ]
     },
     "metadata": {},
     "output_type": "display_data"
    },
    {
     "data": {
      "text/html": [
       "<pre style=\"white-space:pre;overflow-x:auto;line-height:normal;font-family:Menlo,'DejaVu Sans Mono',consolas,'Courier New',monospace\">\n",
       "<span style=\"color: #008080; text-decoration-color: #008080; font-weight: bold\">&gt;</span> Đã sàng lọc và chọn ra các đoạn văn bản phù hợp nhất.\n",
       "</pre>\n"
      ],
      "text/plain": [
       "\n",
       "\u001b[1;36m>\u001b[0m Đã sàng lọc và chọn ra các đoạn văn bản phù hợp nhất.\n"
      ]
     },
     "metadata": {},
     "output_type": "display_data"
    },
    {
     "data": {
      "text/html": [
       "<pre style=\"white-space:pre;overflow-x:auto;line-height:normal;font-family:Menlo,'DejaVu Sans Mono',consolas,'Courier New',monospace\"><span style=\"color: #008000; text-decoration-color: #008000; font-weight: bold\">✔️ Tài liệu RAG cuối cùng:</span>\n",
       "</pre>\n"
      ],
      "text/plain": [
       "\u001b[1;32m✔️ Tài liệu RAG cuối cùng:\u001b[0m\n"
      ]
     },
     "metadata": {},
     "output_type": "display_data"
    },
    {
     "data": {
      "text/html": [
       "<pre style=\"white-space:pre;overflow-x:auto;line-height:normal;font-family:Menlo,'DejaVu Sans Mono',consolas,'Courier New',monospace\"><span style=\"font-weight: bold\">{</span>\n",
       "<span style=\"color: #7fbf7f; text-decoration-color: #7fbf7f\">│   </span><span style=\"color: #008000; text-decoration-color: #008000\">'source'</span>: <span style=\"color: #008000; text-decoration-color: #008000\">'Sách giáo khoa Toán 9 (từ RAG - đã sàng lọc)'</span>,\n",
       "<span style=\"color: #7fbf7f; text-decoration-color: #7fbf7f\">│   </span><span style=\"color: #008000; text-decoration-color: #008000\">'summary'</span>: <span style=\"color: #008000; text-decoration-color: #008000\">'**Tóm tắt kiến thức cốt lõi về đường tròn ngoại tiếp và đường tròn nội tiếp**\\n\\n**Định nghĩa:**\\n\\n* Đường tròn ngoại tiếp của một đa giác là đường tròn đi qua tất cả các đỉnh của đa giác đó.\\n* Đường tròn nội tiếp của một đa giác là đường tròn nằm trong đa giác và tiếp xúc với tất cả các cạnh của đa giác đó.\\n\\n**Định lý:**\\n\\n* Nếu hai đường tròn ngoại tiếp nhau tại một điểm, thì tiếp tuyến của một đường tròn tại điểm đó sẽ tiếp xúc với đường tròn kia.\\n* Nếu một đường tròn nội tiếp một tam giác, thì đường tròn đó sẽ đi qua trung điểm của mỗi cạnh của tam giác.\\n\\n**Ứng dụng:**\\n\\n* Trong một tam giác, đường tròn nội tiếp sẽ đi qua trung điểm của mỗi cạnh và sẽ là đường tròn ngoại tiếp của tam giác đó.\\n* Nếu một đường tròn nội tiếp một tam giác, thì các cung nhỏ trên đường tròn đó sẽ bằng nhau.\\n\\n**Lưu ý:**\\n\\n* Khi chứng minh các vấn đề liên quan đến đường tròn ngoại tiếp và đường tròn nội tiếp, cần phải sử dụng các định lý và công thức lượng giác để giải quyết.'</span>\n",
       "<span style=\"font-weight: bold\">}</span>\n",
       "</pre>\n"
      ],
      "text/plain": [
       "\u001b[1m{\u001b[0m\n",
       "\u001b[2;32m│   \u001b[0m\u001b[32m'source'\u001b[0m: \u001b[32m'Sách giáo khoa Toán 9 \u001b[0m\u001b[32m(\u001b[0m\u001b[32mtừ RAG - đã sàng lọc\u001b[0m\u001b[32m)\u001b[0m\u001b[32m'\u001b[0m,\n",
       "\u001b[2;32m│   \u001b[0m\u001b[32m'summary'\u001b[0m: \u001b[32m'**Tóm tắt kiến thức cốt lõi về đường tròn ngoại tiếp và đường tròn nội tiếp**\\n\\n**Định nghĩa:**\\n\\n* Đường tròn ngoại tiếp của một đa giác là đường tròn đi qua tất cả các đỉnh của đa giác đó.\\n* Đường tròn nội tiếp của một đa giác là đường tròn nằm trong đa giác và tiếp xúc với tất cả các cạnh của đa giác đó.\\n\\n**Định lý:**\\n\\n* Nếu hai đường tròn ngoại tiếp nhau tại một điểm, thì tiếp tuyến của một đường tròn tại điểm đó sẽ tiếp xúc với đường tròn kia.\\n* Nếu một đường tròn nội tiếp một tam giác, thì đường tròn đó sẽ đi qua trung điểm của mỗi cạnh của tam giác.\\n\\n**Ứng dụng:**\\n\\n* Trong một tam giác, đường tròn nội tiếp sẽ đi qua trung điểm của mỗi cạnh và sẽ là đường tròn ngoại tiếp của tam giác đó.\\n* Nếu một đường tròn nội tiếp một tam giác, thì các cung nhỏ trên đường tròn đó sẽ bằng nhau.\\n\\n**Lưu ý:**\\n\\n* Khi chứng minh các vấn đề liên quan đến đường tròn ngoại tiếp và đường tròn nội tiếp, cần phải sử dụng các định lý và công thức lượng giác để giải quyết.'\u001b[0m\n",
       "\u001b[1m}\u001b[0m\n"
      ]
     },
     "metadata": {},
     "output_type": "display_data"
    },
    {
     "data": {
      "text/html": [
       "<pre style=\"white-space:pre;overflow-x:auto;line-height:normal;font-family:Menlo,'DejaVu Sans Mono',consolas,'Courier New',monospace\">\n",
       "<span style=\"color: #808000; text-decoration-color: #808000; font-weight: bold\">------- Hoàn thành bước: resource_scout -------</span>\n",
       "</pre>\n"
      ],
      "text/plain": [
       "\n",
       "\u001b[1;33m------- Hoàn thành bước: resource_scout -------\u001b[0m\n"
      ]
     },
     "metadata": {},
     "output_type": "display_data"
    },
    {
     "data": {
      "text/html": [
       "<pre style=\"white-space:pre;overflow-x:auto;line-height:normal;font-family:Menlo,'DejaVu Sans Mono',consolas,'Courier New',monospace\">\n",
       "<span style=\"color: #008080; text-decoration-color: #008080; font-weight: bold\">&gt;</span> `Agent: Plan Delegator` <span style=\"font-weight: bold\">(</span>v6.<span style=\"color: #008080; text-decoration-color: #008080; font-weight: bold\">9</span><span style=\"font-weight: bold\">)</span> đang lập kế hoạch chi tiết<span style=\"color: #808000; text-decoration-color: #808000\">...</span>\n",
       "</pre>\n"
      ],
      "text/plain": [
       "\n",
       "\u001b[1;36m>\u001b[0m `Agent: Plan Delegator` \u001b[1m(\u001b[0mv6.\u001b[1;36m9\u001b[0m\u001b[1m)\u001b[0m đang lập kế hoạch chi tiết\u001b[33m...\u001b[0m\n"
      ]
     },
     "metadata": {},
     "output_type": "display_data"
    },
    {
     "data": {
      "text/html": [
       "<pre style=\"white-space:pre;overflow-x:auto;line-height:normal;font-family:Menlo,'DejaVu Sans Mono',consolas,'Courier New',monospace\"><span style=\"color: #008000; text-decoration-color: #008000; font-weight: bold\">✔️ Đã tạo </span><span style=\"color: #008000; text-decoration-color: #008000; font-weight: bold\">7</span><span style=\"color: #008000; text-decoration-color: #008000; font-weight: bold\"> nhiệm vụ chi tiết:</span>\n",
       "</pre>\n"
      ],
      "text/plain": [
       "\u001b[1;32m✔️ Đã tạo \u001b[0m\u001b[1;32m7\u001b[0m\u001b[1;32m nhiệm vụ chi tiết:\u001b[0m\n"
      ]
     },
     "metadata": {},
     "output_type": "display_data"
    },
    {
     "data": {
      "text/html": [
       "<pre style=\"white-space:pre;overflow-x:auto;line-height:normal;font-family:Menlo,'DejaVu Sans Mono',consolas,'Courier New',monospace\"><span style=\"font-weight: bold\">[</span>\n",
       "<span style=\"color: #7fbf7f; text-decoration-color: #7fbf7f\">│   </span><span style=\"font-weight: bold\">{</span>\n",
       "<span style=\"color: #7fbf7f; text-decoration-color: #7fbf7f\">│   │   </span><span style=\"color: #008000; text-decoration-color: #008000\">'task_id'</span>: <span style=\"color: #008080; text-decoration-color: #008080; font-weight: bold\">0</span>,\n",
       "<span style=\"color: #7fbf7f; text-decoration-color: #7fbf7f\">│   │   </span><span style=\"color: #008000; text-decoration-color: #008000\">'task_name'</span>: <span style=\"color: #008000; text-decoration-color: #008000\">'Ổn định lớp và kiểm tra bài cũ'</span>,\n",
       "<span style=\"color: #7fbf7f; text-decoration-color: #7fbf7f\">│   │   </span><span style=\"color: #008000; text-decoration-color: #008000\">'task_description'</span>: <span style=\"color: #008000; text-decoration-color: #008000\">'Giáo viên ổn định lớp, kiểm tra bài cũ về các kiến thức đã học trước đó'</span>,\n",
       "<span style=\"color: #7fbf7f; text-decoration-color: #7fbf7f\">│   │   </span><span style=\"color: #008000; text-decoration-color: #008000\">'estimated_duration'</span>: <span style=\"color: #008080; text-decoration-color: #008080; font-weight: bold\">5</span>,\n",
       "<span style=\"color: #7fbf7f; text-decoration-color: #7fbf7f\">│   │   </span><span style=\"color: #008000; text-decoration-color: #008000\">'status'</span>: <span style=\"color: #008000; text-decoration-color: #008000\">'pending'</span>\n",
       "<span style=\"color: #7fbf7f; text-decoration-color: #7fbf7f\">│   </span><span style=\"font-weight: bold\">}</span>,\n",
       "<span style=\"color: #7fbf7f; text-decoration-color: #7fbf7f\">│   </span><span style=\"font-weight: bold\">{</span>\n",
       "<span style=\"color: #7fbf7f; text-decoration-color: #7fbf7f\">│   │   </span><span style=\"color: #008000; text-decoration-color: #008000\">'task_id'</span>: <span style=\"color: #008080; text-decoration-color: #008080; font-weight: bold\">1</span>,\n",
       "<span style=\"color: #7fbf7f; text-decoration-color: #7fbf7f\">│   │   </span><span style=\"color: #008000; text-decoration-color: #008000\">'task_name'</span>: <span style=\"color: #008000; text-decoration-color: #008000\">'Giới thiệu bài mới'</span>,\n",
       "<span style=\"color: #7fbf7f; text-decoration-color: #7fbf7f\">│   │   </span><span style=\"color: #008000; text-decoration-color: #008000\">'task_description'</span>: <span style=\"color: #008000; text-decoration-color: #008000\">'Giáo viên giới thiệu về đường tròn ngoại tiếp và đường tròn nội tiếp, nêu vấn đề và mục tiêu của bài học'</span>,\n",
       "<span style=\"color: #7fbf7f; text-decoration-color: #7fbf7f\">│   │   </span><span style=\"color: #008000; text-decoration-color: #008000\">'estimated_duration'</span>: <span style=\"color: #008080; text-decoration-color: #008080; font-weight: bold\">5</span>,\n",
       "<span style=\"color: #7fbf7f; text-decoration-color: #7fbf7f\">│   │   </span><span style=\"color: #008000; text-decoration-color: #008000\">'status'</span>: <span style=\"color: #008000; text-decoration-color: #008000\">'pending'</span>\n",
       "<span style=\"color: #7fbf7f; text-decoration-color: #7fbf7f\">│   </span><span style=\"font-weight: bold\">}</span>,\n",
       "<span style=\"color: #7fbf7f; text-decoration-color: #7fbf7f\">│   </span><span style=\"font-weight: bold\">{</span>\n",
       "<span style=\"color: #7fbf7f; text-decoration-color: #7fbf7f\">│   │   </span><span style=\"color: #008000; text-decoration-color: #008000\">'task_id'</span>: <span style=\"color: #008080; text-decoration-color: #008080; font-weight: bold\">2</span>,\n",
       "<span style=\"color: #7fbf7f; text-decoration-color: #7fbf7f\">│   │   </span><span style=\"color: #008000; text-decoration-color: #008000\">'task_name'</span>: <span style=\"color: #008000; text-decoration-color: #008000\">'Giảng giải định nghĩa và định lý'</span>,\n",
       "<span style=\"color: #7fbf7f; text-decoration-color: #7fbf7f\">│   │   </span><span style=\"color: #008000; text-decoration-color: #008000\">'task_description'</span>: <span style=\"color: #008000; text-decoration-color: #008000\">'Giáo viên giảng giải về định nghĩa và định lý của đường tròn ngoại tiếp và đường tròn nội tiếp'</span>,\n",
       "<span style=\"color: #7fbf7f; text-decoration-color: #7fbf7f\">│   │   </span><span style=\"color: #008000; text-decoration-color: #008000\">'estimated_duration'</span>: <span style=\"color: #008080; text-decoration-color: #008080; font-weight: bold\">15</span>,\n",
       "<span style=\"color: #7fbf7f; text-decoration-color: #7fbf7f\">│   │   </span><span style=\"color: #008000; text-decoration-color: #008000\">'status'</span>: <span style=\"color: #008000; text-decoration-color: #008000\">'pending'</span>\n",
       "<span style=\"color: #7fbf7f; text-decoration-color: #7fbf7f\">│   </span><span style=\"font-weight: bold\">}</span>,\n",
       "<span style=\"color: #7fbf7f; text-decoration-color: #7fbf7f\">│   </span><span style=\"font-weight: bold\">{</span>\n",
       "<span style=\"color: #7fbf7f; text-decoration-color: #7fbf7f\">│   │   </span><span style=\"color: #008000; text-decoration-color: #008000\">'task_id'</span>: <span style=\"color: #008080; text-decoration-color: #008080; font-weight: bold\">3</span>,\n",
       "<span style=\"color: #7fbf7f; text-decoration-color: #7fbf7f\">│   │   </span><span style=\"color: #008000; text-decoration-color: #008000\">'task_name'</span>: <span style=\"color: #008000; text-decoration-color: #008000\">'Luyện tập củng cố lý thuyết'</span>,\n",
       "<span style=\"color: #7fbf7f; text-decoration-color: #7fbf7f\">│   │   </span><span style=\"color: #008000; text-decoration-color: #008000\">'task_description'</span>: <span style=\"color: #008000; text-decoration-color: #008000\">'Học sinh luyện tập các bài tập củng cố lý thuyết về đường tròn ngoại tiếp và đường tròn nội tiếp'</span>,\n",
       "<span style=\"color: #7fbf7f; text-decoration-color: #7fbf7f\">│   │   </span><span style=\"color: #008000; text-decoration-color: #008000\">'estimated_duration'</span>: <span style=\"color: #008080; text-decoration-color: #008080; font-weight: bold\">10</span>,\n",
       "<span style=\"color: #7fbf7f; text-decoration-color: #7fbf7f\">│   │   </span><span style=\"color: #008000; text-decoration-color: #008000\">'status'</span>: <span style=\"color: #008000; text-decoration-color: #008000\">'pending'</span>\n",
       "<span style=\"color: #7fbf7f; text-decoration-color: #7fbf7f\">│   </span><span style=\"font-weight: bold\">}</span>,\n",
       "<span style=\"color: #7fbf7f; text-decoration-color: #7fbf7f\">│   </span><span style=\"font-weight: bold\">{</span>\n",
       "<span style=\"color: #7fbf7f; text-decoration-color: #7fbf7f\">│   │   </span><span style=\"color: #008000; text-decoration-color: #008000\">'task_id'</span>: <span style=\"color: #008080; text-decoration-color: #008080; font-weight: bold\">4</span>,\n",
       "<span style=\"color: #7fbf7f; text-decoration-color: #7fbf7f\">│   │   </span><span style=\"color: #008000; text-decoration-color: #008000\">'task_name'</span>: <span style=\"color: #008000; text-decoration-color: #008000\">'Giảng giải ứng dụng'</span>,\n",
       "<span style=\"color: #7fbf7f; text-decoration-color: #7fbf7f\">│   │   </span><span style=\"color: #008000; text-decoration-color: #008000\">'task_description'</span>: <span style=\"color: #008000; text-decoration-color: #008000\">'Giáo viên giảng giải về ứng dụng của đường tròn ngoại tiếp và đường tròn nội tiếp trong tam giác'</span>,\n",
       "<span style=\"color: #7fbf7f; text-decoration-color: #7fbf7f\">│   │   </span><span style=\"color: #008000; text-decoration-color: #008000\">'estimated_duration'</span>: <span style=\"color: #008080; text-decoration-color: #008080; font-weight: bold\">15</span>,\n",
       "<span style=\"color: #7fbf7f; text-decoration-color: #7fbf7f\">│   │   </span><span style=\"color: #008000; text-decoration-color: #008000\">'status'</span>: <span style=\"color: #008000; text-decoration-color: #008000\">'pending'</span>\n",
       "<span style=\"color: #7fbf7f; text-decoration-color: #7fbf7f\">│   </span><span style=\"font-weight: bold\">}</span>,\n",
       "<span style=\"color: #7fbf7f; text-decoration-color: #7fbf7f\">│   </span><span style=\"font-weight: bold\">{</span>\n",
       "<span style=\"color: #7fbf7f; text-decoration-color: #7fbf7f\">│   │   </span><span style=\"color: #008000; text-decoration-color: #008000\">'task_id'</span>: <span style=\"color: #008080; text-decoration-color: #008080; font-weight: bold\">5</span>,\n",
       "<span style=\"color: #7fbf7f; text-decoration-color: #7fbf7f\">│   │   </span><span style=\"color: #008000; text-decoration-color: #008000\">'task_name'</span>: <span style=\"color: #008000; text-decoration-color: #008000\">'Luyện tập vận dụng cao'</span>,\n",
       "<span style=\"color: #7fbf7f; text-decoration-color: #7fbf7f\">│   │   </span><span style=\"color: #008000; text-decoration-color: #008000\">'task_description'</span>: <span style=\"color: #008000; text-decoration-color: #008000\">'Học sinh luyện tập các bài tập vận dụng cao về đường tròn ngoại tiếp và đường tròn nội tiếp trong tam giác'</span>,\n",
       "<span style=\"color: #7fbf7f; text-decoration-color: #7fbf7f\">│   │   </span><span style=\"color: #008000; text-decoration-color: #008000\">'estimated_duration'</span>: <span style=\"color: #008080; text-decoration-color: #008080; font-weight: bold\">20</span>,\n",
       "<span style=\"color: #7fbf7f; text-decoration-color: #7fbf7f\">│   │   </span><span style=\"color: #008000; text-decoration-color: #008000\">'status'</span>: <span style=\"color: #008000; text-decoration-color: #008000\">'pending'</span>\n",
       "<span style=\"color: #7fbf7f; text-decoration-color: #7fbf7f\">│   </span><span style=\"font-weight: bold\">}</span>,\n",
       "<span style=\"color: #7fbf7f; text-decoration-color: #7fbf7f\">│   </span><span style=\"font-weight: bold\">{</span>\n",
       "<span style=\"color: #7fbf7f; text-decoration-color: #7fbf7f\">│   │   </span><span style=\"color: #008000; text-decoration-color: #008000\">'task_id'</span>: <span style=\"color: #008080; text-decoration-color: #008080; font-weight: bold\">6</span>,\n",
       "<span style=\"color: #7fbf7f; text-decoration-color: #7fbf7f\">│   │   </span><span style=\"color: #008000; text-decoration-color: #008000\">'task_name'</span>: <span style=\"color: #008000; text-decoration-color: #008000\">'Tổng kết và dặn dò'</span>,\n",
       "<span style=\"color: #7fbf7f; text-decoration-color: #7fbf7f\">│   │   </span><span style=\"color: #008000; text-decoration-color: #008000\">'task_description'</span>: <span style=\"color: #008000; text-decoration-color: #008000\">'Giáo viên tổng kết bài học, dặn dò học sinh về các nhiệm vụ cần hoàn thành'</span>,\n",
       "<span style=\"color: #7fbf7f; text-decoration-color: #7fbf7f\">│   │   </span><span style=\"color: #008000; text-decoration-color: #008000\">'estimated_duration'</span>: <span style=\"color: #008080; text-decoration-color: #008080; font-weight: bold\">5</span>,\n",
       "<span style=\"color: #7fbf7f; text-decoration-color: #7fbf7f\">│   │   </span><span style=\"color: #008000; text-decoration-color: #008000\">'status'</span>: <span style=\"color: #008000; text-decoration-color: #008000\">'pending'</span>\n",
       "<span style=\"color: #7fbf7f; text-decoration-color: #7fbf7f\">│   </span><span style=\"font-weight: bold\">}</span>\n",
       "<span style=\"font-weight: bold\">]</span>\n",
       "</pre>\n"
      ],
      "text/plain": [
       "\u001b[1m[\u001b[0m\n",
       "\u001b[2;32m│   \u001b[0m\u001b[1m{\u001b[0m\n",
       "\u001b[2;32m│   │   \u001b[0m\u001b[32m'task_id'\u001b[0m: \u001b[1;36m0\u001b[0m,\n",
       "\u001b[2;32m│   │   \u001b[0m\u001b[32m'task_name'\u001b[0m: \u001b[32m'Ổn định lớp và kiểm tra bài cũ'\u001b[0m,\n",
       "\u001b[2;32m│   │   \u001b[0m\u001b[32m'task_description'\u001b[0m: \u001b[32m'Giáo viên ổn định lớp, kiểm tra bài cũ về các kiến thức đã học trước đó'\u001b[0m,\n",
       "\u001b[2;32m│   │   \u001b[0m\u001b[32m'estimated_duration'\u001b[0m: \u001b[1;36m5\u001b[0m,\n",
       "\u001b[2;32m│   │   \u001b[0m\u001b[32m'status'\u001b[0m: \u001b[32m'pending'\u001b[0m\n",
       "\u001b[2;32m│   \u001b[0m\u001b[1m}\u001b[0m,\n",
       "\u001b[2;32m│   \u001b[0m\u001b[1m{\u001b[0m\n",
       "\u001b[2;32m│   │   \u001b[0m\u001b[32m'task_id'\u001b[0m: \u001b[1;36m1\u001b[0m,\n",
       "\u001b[2;32m│   │   \u001b[0m\u001b[32m'task_name'\u001b[0m: \u001b[32m'Giới thiệu bài mới'\u001b[0m,\n",
       "\u001b[2;32m│   │   \u001b[0m\u001b[32m'task_description'\u001b[0m: \u001b[32m'Giáo viên giới thiệu về đường tròn ngoại tiếp và đường tròn nội tiếp, nêu vấn đề và mục tiêu của bài học'\u001b[0m,\n",
       "\u001b[2;32m│   │   \u001b[0m\u001b[32m'estimated_duration'\u001b[0m: \u001b[1;36m5\u001b[0m,\n",
       "\u001b[2;32m│   │   \u001b[0m\u001b[32m'status'\u001b[0m: \u001b[32m'pending'\u001b[0m\n",
       "\u001b[2;32m│   \u001b[0m\u001b[1m}\u001b[0m,\n",
       "\u001b[2;32m│   \u001b[0m\u001b[1m{\u001b[0m\n",
       "\u001b[2;32m│   │   \u001b[0m\u001b[32m'task_id'\u001b[0m: \u001b[1;36m2\u001b[0m,\n",
       "\u001b[2;32m│   │   \u001b[0m\u001b[32m'task_name'\u001b[0m: \u001b[32m'Giảng giải định nghĩa và định lý'\u001b[0m,\n",
       "\u001b[2;32m│   │   \u001b[0m\u001b[32m'task_description'\u001b[0m: \u001b[32m'Giáo viên giảng giải về định nghĩa và định lý của đường tròn ngoại tiếp và đường tròn nội tiếp'\u001b[0m,\n",
       "\u001b[2;32m│   │   \u001b[0m\u001b[32m'estimated_duration'\u001b[0m: \u001b[1;36m15\u001b[0m,\n",
       "\u001b[2;32m│   │   \u001b[0m\u001b[32m'status'\u001b[0m: \u001b[32m'pending'\u001b[0m\n",
       "\u001b[2;32m│   \u001b[0m\u001b[1m}\u001b[0m,\n",
       "\u001b[2;32m│   \u001b[0m\u001b[1m{\u001b[0m\n",
       "\u001b[2;32m│   │   \u001b[0m\u001b[32m'task_id'\u001b[0m: \u001b[1;36m3\u001b[0m,\n",
       "\u001b[2;32m│   │   \u001b[0m\u001b[32m'task_name'\u001b[0m: \u001b[32m'Luyện tập củng cố lý thuyết'\u001b[0m,\n",
       "\u001b[2;32m│   │   \u001b[0m\u001b[32m'task_description'\u001b[0m: \u001b[32m'Học sinh luyện tập các bài tập củng cố lý thuyết về đường tròn ngoại tiếp và đường tròn nội tiếp'\u001b[0m,\n",
       "\u001b[2;32m│   │   \u001b[0m\u001b[32m'estimated_duration'\u001b[0m: \u001b[1;36m10\u001b[0m,\n",
       "\u001b[2;32m│   │   \u001b[0m\u001b[32m'status'\u001b[0m: \u001b[32m'pending'\u001b[0m\n",
       "\u001b[2;32m│   \u001b[0m\u001b[1m}\u001b[0m,\n",
       "\u001b[2;32m│   \u001b[0m\u001b[1m{\u001b[0m\n",
       "\u001b[2;32m│   │   \u001b[0m\u001b[32m'task_id'\u001b[0m: \u001b[1;36m4\u001b[0m,\n",
       "\u001b[2;32m│   │   \u001b[0m\u001b[32m'task_name'\u001b[0m: \u001b[32m'Giảng giải ứng dụng'\u001b[0m,\n",
       "\u001b[2;32m│   │   \u001b[0m\u001b[32m'task_description'\u001b[0m: \u001b[32m'Giáo viên giảng giải về ứng dụng của đường tròn ngoại tiếp và đường tròn nội tiếp trong tam giác'\u001b[0m,\n",
       "\u001b[2;32m│   │   \u001b[0m\u001b[32m'estimated_duration'\u001b[0m: \u001b[1;36m15\u001b[0m,\n",
       "\u001b[2;32m│   │   \u001b[0m\u001b[32m'status'\u001b[0m: \u001b[32m'pending'\u001b[0m\n",
       "\u001b[2;32m│   \u001b[0m\u001b[1m}\u001b[0m,\n",
       "\u001b[2;32m│   \u001b[0m\u001b[1m{\u001b[0m\n",
       "\u001b[2;32m│   │   \u001b[0m\u001b[32m'task_id'\u001b[0m: \u001b[1;36m5\u001b[0m,\n",
       "\u001b[2;32m│   │   \u001b[0m\u001b[32m'task_name'\u001b[0m: \u001b[32m'Luyện tập vận dụng cao'\u001b[0m,\n",
       "\u001b[2;32m│   │   \u001b[0m\u001b[32m'task_description'\u001b[0m: \u001b[32m'Học sinh luyện tập các bài tập vận dụng cao về đường tròn ngoại tiếp và đường tròn nội tiếp trong tam giác'\u001b[0m,\n",
       "\u001b[2;32m│   │   \u001b[0m\u001b[32m'estimated_duration'\u001b[0m: \u001b[1;36m20\u001b[0m,\n",
       "\u001b[2;32m│   │   \u001b[0m\u001b[32m'status'\u001b[0m: \u001b[32m'pending'\u001b[0m\n",
       "\u001b[2;32m│   \u001b[0m\u001b[1m}\u001b[0m,\n",
       "\u001b[2;32m│   \u001b[0m\u001b[1m{\u001b[0m\n",
       "\u001b[2;32m│   │   \u001b[0m\u001b[32m'task_id'\u001b[0m: \u001b[1;36m6\u001b[0m,\n",
       "\u001b[2;32m│   │   \u001b[0m\u001b[32m'task_name'\u001b[0m: \u001b[32m'Tổng kết và dặn dò'\u001b[0m,\n",
       "\u001b[2;32m│   │   \u001b[0m\u001b[32m'task_description'\u001b[0m: \u001b[32m'Giáo viên tổng kết bài học, dặn dò học sinh về các nhiệm vụ cần hoàn thành'\u001b[0m,\n",
       "\u001b[2;32m│   │   \u001b[0m\u001b[32m'estimated_duration'\u001b[0m: \u001b[1;36m5\u001b[0m,\n",
       "\u001b[2;32m│   │   \u001b[0m\u001b[32m'status'\u001b[0m: \u001b[32m'pending'\u001b[0m\n",
       "\u001b[2;32m│   \u001b[0m\u001b[1m}\u001b[0m\n",
       "\u001b[1m]\u001b[0m\n"
      ]
     },
     "metadata": {},
     "output_type": "display_data"
    },
    {
     "data": {
      "text/html": [
       "<pre style=\"white-space:pre;overflow-x:auto;line-height:normal;font-family:Menlo,'DejaVu Sans Mono',consolas,'Courier New',monospace\">\n",
       "<span style=\"color: #808000; text-decoration-color: #808000; font-weight: bold\">------- Hoàn thành bước: plan_delegator -------</span>\n",
       "</pre>\n"
      ],
      "text/plain": [
       "\n",
       "\u001b[1;33m------- Hoàn thành bước: plan_delegator -------\u001b[0m\n"
      ]
     },
     "metadata": {},
     "output_type": "display_data"
    },
    {
     "data": {
      "text/html": [
       "<pre style=\"white-space:pre;overflow-x:auto;line-height:normal;font-family:Menlo,'DejaVu Sans Mono',consolas,'Courier New',monospace\">\n",
       "<span style=\"color: #008080; text-decoration-color: #008080; font-weight: bold\">&gt;</span> `Router`: Đang kiểm tra nhiệm vụ<span style=\"color: #808000; text-decoration-color: #808000\">...</span>\n",
       "</pre>\n"
      ],
      "text/plain": [
       "\n",
       "\u001b[1;36m>\u001b[0m `Router`: Đang kiểm tra nhiệm vụ\u001b[33m...\u001b[0m\n"
      ]
     },
     "metadata": {},
     "output_type": "display_data"
    },
    {
     "data": {
      "text/html": [
       "<pre style=\"white-space:pre;overflow-x:auto;line-height:normal;font-family:Menlo,'DejaVu Sans Mono',consolas,'Courier New',monospace\">\n",
       "<span style=\"color: #008080; text-decoration-color: #008080; font-weight: bold\">&gt;</span> Nhiệm vụ tiếp theo: <span style=\"color: #008000; text-decoration-color: #008000\">'Ổn định lớp và kiểm tra bài cũ'</span> <span style=\"font-weight: bold\">(</span>ID: <span style=\"color: #008080; text-decoration-color: #008080; font-weight: bold\">0</span><span style=\"font-weight: bold\">)</span>\n",
       "</pre>\n"
      ],
      "text/plain": [
       "\n",
       "\u001b[1;36m>\u001b[0m Nhiệm vụ tiếp theo: \u001b[32m'Ổn định lớp và kiểm tra bài cũ'\u001b[0m \u001b[1m(\u001b[0mID: \u001b[1;36m0\u001b[0m\u001b[1m)\u001b[0m\n"
      ]
     },
     "metadata": {},
     "output_type": "display_data"
    },
    {
     "data": {
      "text/html": [
       "<pre style=\"white-space:pre;overflow-x:auto;line-height:normal;font-family:Menlo,'DejaVu Sans Mono',consolas,'Courier New',monospace\">\n",
       "<span style=\"color: #808000; text-decoration-color: #808000; font-weight: bold\">------- Hoàn thành bước: task_router -------</span>\n",
       "</pre>\n"
      ],
      "text/plain": [
       "\n",
       "\u001b[1;33m------- Hoàn thành bước: task_router -------\u001b[0m\n"
      ]
     },
     "metadata": {},
     "output_type": "display_data"
    },
    {
     "data": {
      "text/html": [
       "<pre style=\"white-space:pre;overflow-x:auto;line-height:normal;font-family:Menlo,'DejaVu Sans Mono',consolas,'Courier New',monospace\">\n",
       "<span style=\"color: #008080; text-decoration-color: #008080; font-weight: bold\">&gt;</span> `Agent: Task Dispatcher` <span style=\"font-weight: bold\">(</span>v6.<span style=\"color: #008080; text-decoration-color: #008080; font-weight: bold\">9</span><span style=\"font-weight: bold\">)</span> Bắt đầu<span style=\"color: #808000; text-decoration-color: #808000\">...</span>\n",
       "</pre>\n"
      ],
      "text/plain": [
       "\n",
       "\u001b[1;36m>\u001b[0m `Agent: Task Dispatcher` \u001b[1m(\u001b[0mv6.\u001b[1;36m9\u001b[0m\u001b[1m)\u001b[0m Bắt đầu\u001b[33m...\u001b[0m\n"
      ]
     },
     "metadata": {},
     "output_type": "display_data"
    },
    {
     "data": {
      "text/html": [
       "<pre style=\"white-space:pre;overflow-x:auto;line-height:normal;font-family:Menlo,'DejaVu Sans Mono',consolas,'Courier New',monospace\">\n",
       "<span style=\"color: #008080; text-decoration-color: #008080; font-weight: bold\">&gt;</span> --- 🚚 `Dispatcher`: Giao nhiệm vụ cho `theory_synthesizer`.\n",
       "</pre>\n"
      ],
      "text/plain": [
       "\n",
       "\u001b[1;36m>\u001b[0m --- 🚚 `Dispatcher`: Giao nhiệm vụ cho `theory_synthesizer`.\n"
      ]
     },
     "metadata": {},
     "output_type": "display_data"
    },
    {
     "data": {
      "text/html": [
       "<pre style=\"white-space:pre;overflow-x:auto;line-height:normal;font-family:Menlo,'DejaVu Sans Mono',consolas,'Courier New',monospace\">\n",
       "<span style=\"color: #808000; text-decoration-color: #808000; font-weight: bold\">------- Hoàn thành bước: task_dispatcher -------</span>\n",
       "</pre>\n"
      ],
      "text/plain": [
       "\n",
       "\u001b[1;33m------- Hoàn thành bước: task_dispatcher -------\u001b[0m\n"
      ]
     },
     "metadata": {},
     "output_type": "display_data"
    },
    {
     "data": {
      "text/html": [
       "<pre style=\"white-space:pre;overflow-x:auto;line-height:normal;font-family:Menlo,'DejaVu Sans Mono',consolas,'Courier New',monospace\">\n",
       "<span style=\"color: #008080; text-decoration-color: #008080; font-weight: bold\">&gt;</span> `Agent: Theory Synthesizer` <span style=\"font-weight: bold\">(</span>v6.<span style=\"color: #008080; text-decoration-color: #008080; font-weight: bold\">9</span><span style=\"font-weight: bold\">)</span> đang thiết kế hoạt động lý thuyết<span style=\"color: #808000; text-decoration-color: #808000\">...</span>\n",
       "</pre>\n"
      ],
      "text/plain": [
       "\n",
       "\u001b[1;36m>\u001b[0m `Agent: Theory Synthesizer` \u001b[1m(\u001b[0mv6.\u001b[1;36m9\u001b[0m\u001b[1m)\u001b[0m đang thiết kế hoạt động lý thuyết\u001b[33m...\u001b[0m\n"
      ]
     },
     "metadata": {},
     "output_type": "display_data"
    },
    {
     "data": {
      "text/html": [
       "<pre style=\"white-space:pre;overflow-x:auto;line-height:normal;font-family:Menlo,'DejaVu Sans Mono',consolas,'Courier New',monospace\">\n",
       "<span style=\"color: #008080; text-decoration-color: #008080; font-weight: bold\">&gt;</span> Thời gian LLM đề xuất: <span style=\"color: #008080; text-decoration-color: #008080; font-weight: bold\">5</span> phút. Ghi đè bằng thời gian kế hoạch: <span style=\"color: #008080; text-decoration-color: #008080; font-weight: bold\">5</span> phút.\n",
       "</pre>\n"
      ],
      "text/plain": [
       "\n",
       "\u001b[1;36m>\u001b[0m Thời gian LLM đề xuất: \u001b[1;36m5\u001b[0m phút. Ghi đè bằng thời gian kế hoạch: \u001b[1;36m5\u001b[0m phút.\n"
      ]
     },
     "metadata": {},
     "output_type": "display_data"
    },
    {
     "data": {
      "text/html": [
       "<pre style=\"white-space:pre;overflow-x:auto;line-height:normal;font-family:Menlo,'DejaVu Sans Mono',consolas,'Courier New',monospace\"><span style=\"color: #008000; text-decoration-color: #008000; font-weight: bold\">✔️ Hoạt động lý thuyết đã thiết kế:</span>\n",
       "</pre>\n"
      ],
      "text/plain": [
       "\u001b[1;32m✔️ Hoạt động lý thuyết đã thiết kế:\u001b[0m\n"
      ]
     },
     "metadata": {},
     "output_type": "display_data"
    },
    {
     "data": {
      "text/html": [
       "<pre style=\"white-space:pre;overflow-x:auto;line-height:normal;font-family:Menlo,'DejaVu Sans Mono',consolas,'Courier New',monospace\"><span style=\"font-weight: bold\">{</span>\n",
       "<span style=\"color: #7fbf7f; text-decoration-color: #7fbf7f\">│   </span><span style=\"color: #008000; text-decoration-color: #008000\">'activity_name'</span>: <span style=\"color: #008000; text-decoration-color: #008000\">'Kiểm tra bài cũ'</span>,\n",
       "<span style=\"color: #7fbf7f; text-decoration-color: #7fbf7f\">│   </span><span style=\"color: #008000; text-decoration-color: #008000\">'description'</span>: <span style=\"color: #008000; text-decoration-color: #008000\">'Giáo viên ổn định lớp, kiểm tra bài cũ về các kiến thức đã học trước đó'</span>,\n",
       "<span style=\"color: #7fbf7f; text-decoration-color: #7fbf7f\">│   </span><span style=\"color: #008000; text-decoration-color: #008000\">'duration_minutes'</span>: <span style=\"color: #008080; text-decoration-color: #008080; font-weight: bold\">5</span>,\n",
       "<span style=\"color: #7fbf7f; text-decoration-color: #7fbf7f\">│   </span><span style=\"color: #008000; text-decoration-color: #008000\">'activity_type'</span>: <span style=\"color: #008000; text-decoration-color: #008000\">'Giảng giải lý thuyết'</span>,\n",
       "<span style=\"color: #7fbf7f; text-decoration-color: #7fbf7f\">│   </span><span style=\"color: #008000; text-decoration-color: #008000\">'solution_guide'</span>: <span style=\"color: #008000; text-decoration-color: #008000\">'Giáo viên sẽ hỏi các câu hỏi để kiểm tra kiến thức của học sinh về các nội dung đã học trước đó.'</span>\n",
       "<span style=\"font-weight: bold\">}</span>\n",
       "</pre>\n"
      ],
      "text/plain": [
       "\u001b[1m{\u001b[0m\n",
       "\u001b[2;32m│   \u001b[0m\u001b[32m'activity_name'\u001b[0m: \u001b[32m'Kiểm tra bài cũ'\u001b[0m,\n",
       "\u001b[2;32m│   \u001b[0m\u001b[32m'description'\u001b[0m: \u001b[32m'Giáo viên ổn định lớp, kiểm tra bài cũ về các kiến thức đã học trước đó'\u001b[0m,\n",
       "\u001b[2;32m│   \u001b[0m\u001b[32m'duration_minutes'\u001b[0m: \u001b[1;36m5\u001b[0m,\n",
       "\u001b[2;32m│   \u001b[0m\u001b[32m'activity_type'\u001b[0m: \u001b[32m'Giảng giải lý thuyết'\u001b[0m,\n",
       "\u001b[2;32m│   \u001b[0m\u001b[32m'solution_guide'\u001b[0m: \u001b[32m'Giáo viên sẽ hỏi các câu hỏi để kiểm tra kiến thức của học sinh về các nội dung đã học trước đó.'\u001b[0m\n",
       "\u001b[1m}\u001b[0m\n"
      ]
     },
     "metadata": {},
     "output_type": "display_data"
    },
    {
     "data": {
      "text/html": [
       "<pre style=\"white-space:pre;overflow-x:auto;line-height:normal;font-family:Menlo,'DejaVu Sans Mono',consolas,'Courier New',monospace\">\n",
       "<span style=\"color: #808000; text-decoration-color: #808000; font-weight: bold\">------- Hoàn thành bước: theory_synthesizer -------</span>\n",
       "</pre>\n"
      ],
      "text/plain": [
       "\n",
       "\u001b[1;33m------- Hoàn thành bước: theory_synthesizer -------\u001b[0m\n"
      ]
     },
     "metadata": {},
     "output_type": "display_data"
    },
    {
     "data": {
      "text/html": [
       "<pre style=\"white-space:pre;overflow-x:auto;line-height:normal;font-family:Menlo,'DejaVu Sans Mono',consolas,'Courier New',monospace\">\n",
       "<span style=\"color: #808000; text-decoration-color: #808000; font-weight: bold\">------- Hoàn thành bước: mark_task_complete -------</span>\n",
       "</pre>\n"
      ],
      "text/plain": [
       "\n",
       "\u001b[1;33m------- Hoàn thành bước: mark_task_complete -------\u001b[0m\n"
      ]
     },
     "metadata": {},
     "output_type": "display_data"
    },
    {
     "data": {
      "text/html": [
       "<pre style=\"white-space:pre;overflow-x:auto;line-height:normal;font-family:Menlo,'DejaVu Sans Mono',consolas,'Courier New',monospace\">\n",
       "<span style=\"color: #008080; text-decoration-color: #008080; font-weight: bold\">&gt;</span> `Router`: Đang kiểm tra nhiệm vụ<span style=\"color: #808000; text-decoration-color: #808000\">...</span>\n",
       "</pre>\n"
      ],
      "text/plain": [
       "\n",
       "\u001b[1;36m>\u001b[0m `Router`: Đang kiểm tra nhiệm vụ\u001b[33m...\u001b[0m\n"
      ]
     },
     "metadata": {},
     "output_type": "display_data"
    },
    {
     "data": {
      "text/html": [
       "<pre style=\"white-space:pre;overflow-x:auto;line-height:normal;font-family:Menlo,'DejaVu Sans Mono',consolas,'Courier New',monospace\">\n",
       "<span style=\"color: #008080; text-decoration-color: #008080; font-weight: bold\">&gt;</span> Nhiệm vụ tiếp theo: <span style=\"color: #008000; text-decoration-color: #008000\">'Giới thiệu bài mới'</span> <span style=\"font-weight: bold\">(</span>ID: <span style=\"color: #008080; text-decoration-color: #008080; font-weight: bold\">1</span><span style=\"font-weight: bold\">)</span>\n",
       "</pre>\n"
      ],
      "text/plain": [
       "\n",
       "\u001b[1;36m>\u001b[0m Nhiệm vụ tiếp theo: \u001b[32m'Giới thiệu bài mới'\u001b[0m \u001b[1m(\u001b[0mID: \u001b[1;36m1\u001b[0m\u001b[1m)\u001b[0m\n"
      ]
     },
     "metadata": {},
     "output_type": "display_data"
    },
    {
     "data": {
      "text/html": [
       "<pre style=\"white-space:pre;overflow-x:auto;line-height:normal;font-family:Menlo,'DejaVu Sans Mono',consolas,'Courier New',monospace\">\n",
       "<span style=\"color: #808000; text-decoration-color: #808000; font-weight: bold\">------- Hoàn thành bước: task_router -------</span>\n",
       "</pre>\n"
      ],
      "text/plain": [
       "\n",
       "\u001b[1;33m------- Hoàn thành bước: task_router -------\u001b[0m\n"
      ]
     },
     "metadata": {},
     "output_type": "display_data"
    },
    {
     "data": {
      "text/html": [
       "<pre style=\"white-space:pre;overflow-x:auto;line-height:normal;font-family:Menlo,'DejaVu Sans Mono',consolas,'Courier New',monospace\">\n",
       "<span style=\"color: #008080; text-decoration-color: #008080; font-weight: bold\">&gt;</span> `Agent: Task Dispatcher` <span style=\"font-weight: bold\">(</span>v6.<span style=\"color: #008080; text-decoration-color: #008080; font-weight: bold\">9</span><span style=\"font-weight: bold\">)</span> Bắt đầu<span style=\"color: #808000; text-decoration-color: #808000\">...</span>\n",
       "</pre>\n"
      ],
      "text/plain": [
       "\n",
       "\u001b[1;36m>\u001b[0m `Agent: Task Dispatcher` \u001b[1m(\u001b[0mv6.\u001b[1;36m9\u001b[0m\u001b[1m)\u001b[0m Bắt đầu\u001b[33m...\u001b[0m\n"
      ]
     },
     "metadata": {},
     "output_type": "display_data"
    },
    {
     "data": {
      "text/html": [
       "<pre style=\"white-space:pre;overflow-x:auto;line-height:normal;font-family:Menlo,'DejaVu Sans Mono',consolas,'Courier New',monospace\">\n",
       "<span style=\"color: #008080; text-decoration-color: #008080; font-weight: bold\">&gt;</span> --- 🚚 `Dispatcher`: Giao nhiệm vụ cho `theory_synthesizer`.\n",
       "</pre>\n"
      ],
      "text/plain": [
       "\n",
       "\u001b[1;36m>\u001b[0m --- 🚚 `Dispatcher`: Giao nhiệm vụ cho `theory_synthesizer`.\n"
      ]
     },
     "metadata": {},
     "output_type": "display_data"
    },
    {
     "data": {
      "text/html": [
       "<pre style=\"white-space:pre;overflow-x:auto;line-height:normal;font-family:Menlo,'DejaVu Sans Mono',consolas,'Courier New',monospace\">\n",
       "<span style=\"color: #808000; text-decoration-color: #808000; font-weight: bold\">------- Hoàn thành bước: task_dispatcher -------</span>\n",
       "</pre>\n"
      ],
      "text/plain": [
       "\n",
       "\u001b[1;33m------- Hoàn thành bước: task_dispatcher -------\u001b[0m\n"
      ]
     },
     "metadata": {},
     "output_type": "display_data"
    },
    {
     "data": {
      "text/html": [
       "<pre style=\"white-space:pre;overflow-x:auto;line-height:normal;font-family:Menlo,'DejaVu Sans Mono',consolas,'Courier New',monospace\">\n",
       "<span style=\"color: #008080; text-decoration-color: #008080; font-weight: bold\">&gt;</span> `Agent: Theory Synthesizer` <span style=\"font-weight: bold\">(</span>v6.<span style=\"color: #008080; text-decoration-color: #008080; font-weight: bold\">9</span><span style=\"font-weight: bold\">)</span> đang thiết kế hoạt động lý thuyết<span style=\"color: #808000; text-decoration-color: #808000\">...</span>\n",
       "</pre>\n"
      ],
      "text/plain": [
       "\n",
       "\u001b[1;36m>\u001b[0m `Agent: Theory Synthesizer` \u001b[1m(\u001b[0mv6.\u001b[1;36m9\u001b[0m\u001b[1m)\u001b[0m đang thiết kế hoạt động lý thuyết\u001b[33m...\u001b[0m\n"
      ]
     },
     "metadata": {},
     "output_type": "display_data"
    },
    {
     "data": {
      "text/html": [
       "<pre style=\"white-space:pre;overflow-x:auto;line-height:normal;font-family:Menlo,'DejaVu Sans Mono',consolas,'Courier New',monospace\">\n",
       "<span style=\"color: #008080; text-decoration-color: #008080; font-weight: bold\">&gt;</span> Thời gian LLM đề xuất: <span style=\"color: #008080; text-decoration-color: #008080; font-weight: bold\">5</span> phút. Ghi đè bằng thời gian kế hoạch: <span style=\"color: #008080; text-decoration-color: #008080; font-weight: bold\">5</span> phút.\n",
       "</pre>\n"
      ],
      "text/plain": [
       "\n",
       "\u001b[1;36m>\u001b[0m Thời gian LLM đề xuất: \u001b[1;36m5\u001b[0m phút. Ghi đè bằng thời gian kế hoạch: \u001b[1;36m5\u001b[0m phút.\n"
      ]
     },
     "metadata": {},
     "output_type": "display_data"
    },
    {
     "data": {
      "text/html": [
       "<pre style=\"white-space:pre;overflow-x:auto;line-height:normal;font-family:Menlo,'DejaVu Sans Mono',consolas,'Courier New',monospace\"><span style=\"color: #008000; text-decoration-color: #008000; font-weight: bold\">✔️ Hoạt động lý thuyết đã thiết kế:</span>\n",
       "</pre>\n"
      ],
      "text/plain": [
       "\u001b[1;32m✔️ Hoạt động lý thuyết đã thiết kế:\u001b[0m\n"
      ]
     },
     "metadata": {},
     "output_type": "display_data"
    },
    {
     "data": {
      "text/html": [
       "<pre style=\"white-space:pre;overflow-x:auto;line-height:normal;font-family:Menlo,'DejaVu Sans Mono',consolas,'Courier New',monospace\"><span style=\"font-weight: bold\">{</span>\n",
       "<span style=\"color: #7fbf7f; text-decoration-color: #7fbf7f\">│   </span><span style=\"color: #008000; text-decoration-color: #008000\">'activity_name'</span>: <span style=\"color: #008000; text-decoration-color: #008000\">'Giới thiệu về đường tròn ngoại tiếp và đường tròn nội tiếp'</span>,\n",
       "<span style=\"color: #7fbf7f; text-decoration-color: #7fbf7f\">│   </span><span style=\"color: #008000; text-decoration-color: #008000\">'description'</span>: <span style=\"color: #008000; text-decoration-color: #008000\">'Giáo viên giới thiệu về đường tròn ngoại tiếp và đường tròn nội tiếp, nêu vấn đề và mục tiêu của bài học'</span>,\n",
       "<span style=\"color: #7fbf7f; text-decoration-color: #7fbf7f\">│   </span><span style=\"color: #008000; text-decoration-color: #008000\">'duration_minutes'</span>: <span style=\"color: #008080; text-decoration-color: #008080; font-weight: bold\">5</span>,\n",
       "<span style=\"color: #7fbf7f; text-decoration-color: #7fbf7f\">│   </span><span style=\"color: #008000; text-decoration-color: #008000\">'activity_type'</span>: <span style=\"color: #008000; text-decoration-color: #008000\">'Giảng giải lý thuyết'</span>,\n",
       "<span style=\"color: #7fbf7f; text-decoration-color: #7fbf7f\">│   </span><span style=\"color: #008000; text-decoration-color: #008000\">'solution_guide'</span>: <span style=\"color: #008000; text-decoration-color: #008000\">'Giáo viên cần nêu rõ vấn đề và mục tiêu của bài học, sau đó giới thiệu về đường tròn ngoại tiếp và đường tròn nội tiếp.'</span>\n",
       "<span style=\"font-weight: bold\">}</span>\n",
       "</pre>\n"
      ],
      "text/plain": [
       "\u001b[1m{\u001b[0m\n",
       "\u001b[2;32m│   \u001b[0m\u001b[32m'activity_name'\u001b[0m: \u001b[32m'Giới thiệu về đường tròn ngoại tiếp và đường tròn nội tiếp'\u001b[0m,\n",
       "\u001b[2;32m│   \u001b[0m\u001b[32m'description'\u001b[0m: \u001b[32m'Giáo viên giới thiệu về đường tròn ngoại tiếp và đường tròn nội tiếp, nêu vấn đề và mục tiêu của bài học'\u001b[0m,\n",
       "\u001b[2;32m│   \u001b[0m\u001b[32m'duration_minutes'\u001b[0m: \u001b[1;36m5\u001b[0m,\n",
       "\u001b[2;32m│   \u001b[0m\u001b[32m'activity_type'\u001b[0m: \u001b[32m'Giảng giải lý thuyết'\u001b[0m,\n",
       "\u001b[2;32m│   \u001b[0m\u001b[32m'solution_guide'\u001b[0m: \u001b[32m'Giáo viên cần nêu rõ vấn đề và mục tiêu của bài học, sau đó giới thiệu về đường tròn ngoại tiếp và đường tròn nội tiếp.'\u001b[0m\n",
       "\u001b[1m}\u001b[0m\n"
      ]
     },
     "metadata": {},
     "output_type": "display_data"
    },
    {
     "data": {
      "text/html": [
       "<pre style=\"white-space:pre;overflow-x:auto;line-height:normal;font-family:Menlo,'DejaVu Sans Mono',consolas,'Courier New',monospace\">\n",
       "<span style=\"color: #808000; text-decoration-color: #808000; font-weight: bold\">------- Hoàn thành bước: theory_synthesizer -------</span>\n",
       "</pre>\n"
      ],
      "text/plain": [
       "\n",
       "\u001b[1;33m------- Hoàn thành bước: theory_synthesizer -------\u001b[0m\n"
      ]
     },
     "metadata": {},
     "output_type": "display_data"
    },
    {
     "data": {
      "text/html": [
       "<pre style=\"white-space:pre;overflow-x:auto;line-height:normal;font-family:Menlo,'DejaVu Sans Mono',consolas,'Courier New',monospace\">\n",
       "<span style=\"color: #808000; text-decoration-color: #808000; font-weight: bold\">------- Hoàn thành bước: mark_task_complete -------</span>\n",
       "</pre>\n"
      ],
      "text/plain": [
       "\n",
       "\u001b[1;33m------- Hoàn thành bước: mark_task_complete -------\u001b[0m\n"
      ]
     },
     "metadata": {},
     "output_type": "display_data"
    },
    {
     "data": {
      "text/html": [
       "<pre style=\"white-space:pre;overflow-x:auto;line-height:normal;font-family:Menlo,'DejaVu Sans Mono',consolas,'Courier New',monospace\">\n",
       "<span style=\"color: #008080; text-decoration-color: #008080; font-weight: bold\">&gt;</span> `Router`: Đang kiểm tra nhiệm vụ<span style=\"color: #808000; text-decoration-color: #808000\">...</span>\n",
       "</pre>\n"
      ],
      "text/plain": [
       "\n",
       "\u001b[1;36m>\u001b[0m `Router`: Đang kiểm tra nhiệm vụ\u001b[33m...\u001b[0m\n"
      ]
     },
     "metadata": {},
     "output_type": "display_data"
    },
    {
     "data": {
      "text/html": [
       "<pre style=\"white-space:pre;overflow-x:auto;line-height:normal;font-family:Menlo,'DejaVu Sans Mono',consolas,'Courier New',monospace\">\n",
       "<span style=\"color: #008080; text-decoration-color: #008080; font-weight: bold\">&gt;</span> Nhiệm vụ tiếp theo: <span style=\"color: #008000; text-decoration-color: #008000\">'Giảng giải định nghĩa và định lý'</span> <span style=\"font-weight: bold\">(</span>ID: <span style=\"color: #008080; text-decoration-color: #008080; font-weight: bold\">2</span><span style=\"font-weight: bold\">)</span>\n",
       "</pre>\n"
      ],
      "text/plain": [
       "\n",
       "\u001b[1;36m>\u001b[0m Nhiệm vụ tiếp theo: \u001b[32m'Giảng giải định nghĩa và định lý'\u001b[0m \u001b[1m(\u001b[0mID: \u001b[1;36m2\u001b[0m\u001b[1m)\u001b[0m\n"
      ]
     },
     "metadata": {},
     "output_type": "display_data"
    },
    {
     "data": {
      "text/html": [
       "<pre style=\"white-space:pre;overflow-x:auto;line-height:normal;font-family:Menlo,'DejaVu Sans Mono',consolas,'Courier New',monospace\">\n",
       "<span style=\"color: #808000; text-decoration-color: #808000; font-weight: bold\">------- Hoàn thành bước: task_router -------</span>\n",
       "</pre>\n"
      ],
      "text/plain": [
       "\n",
       "\u001b[1;33m------- Hoàn thành bước: task_router -------\u001b[0m\n"
      ]
     },
     "metadata": {},
     "output_type": "display_data"
    },
    {
     "data": {
      "text/html": [
       "<pre style=\"white-space:pre;overflow-x:auto;line-height:normal;font-family:Menlo,'DejaVu Sans Mono',consolas,'Courier New',monospace\">\n",
       "<span style=\"color: #008080; text-decoration-color: #008080; font-weight: bold\">&gt;</span> `Agent: Task Dispatcher` <span style=\"font-weight: bold\">(</span>v6.<span style=\"color: #008080; text-decoration-color: #008080; font-weight: bold\">9</span><span style=\"font-weight: bold\">)</span> Bắt đầu<span style=\"color: #808000; text-decoration-color: #808000\">...</span>\n",
       "</pre>\n"
      ],
      "text/plain": [
       "\n",
       "\u001b[1;36m>\u001b[0m `Agent: Task Dispatcher` \u001b[1m(\u001b[0mv6.\u001b[1;36m9\u001b[0m\u001b[1m)\u001b[0m Bắt đầu\u001b[33m...\u001b[0m\n"
      ]
     },
     "metadata": {},
     "output_type": "display_data"
    },
    {
     "data": {
      "text/html": [
       "<pre style=\"white-space:pre;overflow-x:auto;line-height:normal;font-family:Menlo,'DejaVu Sans Mono',consolas,'Courier New',monospace\">\n",
       "<span style=\"color: #008080; text-decoration-color: #008080; font-weight: bold\">&gt;</span> --- 🚚 `Dispatcher`: Giao nhiệm vụ cho `theory_synthesizer`.\n",
       "</pre>\n"
      ],
      "text/plain": [
       "\n",
       "\u001b[1;36m>\u001b[0m --- 🚚 `Dispatcher`: Giao nhiệm vụ cho `theory_synthesizer`.\n"
      ]
     },
     "metadata": {},
     "output_type": "display_data"
    },
    {
     "data": {
      "text/html": [
       "<pre style=\"white-space:pre;overflow-x:auto;line-height:normal;font-family:Menlo,'DejaVu Sans Mono',consolas,'Courier New',monospace\">\n",
       "<span style=\"color: #808000; text-decoration-color: #808000; font-weight: bold\">------- Hoàn thành bước: task_dispatcher -------</span>\n",
       "</pre>\n"
      ],
      "text/plain": [
       "\n",
       "\u001b[1;33m------- Hoàn thành bước: task_dispatcher -------\u001b[0m\n"
      ]
     },
     "metadata": {},
     "output_type": "display_data"
    },
    {
     "data": {
      "text/html": [
       "<pre style=\"white-space:pre;overflow-x:auto;line-height:normal;font-family:Menlo,'DejaVu Sans Mono',consolas,'Courier New',monospace\">\n",
       "<span style=\"color: #008080; text-decoration-color: #008080; font-weight: bold\">&gt;</span> `Agent: Theory Synthesizer` <span style=\"font-weight: bold\">(</span>v6.<span style=\"color: #008080; text-decoration-color: #008080; font-weight: bold\">9</span><span style=\"font-weight: bold\">)</span> đang thiết kế hoạt động lý thuyết<span style=\"color: #808000; text-decoration-color: #808000\">...</span>\n",
       "</pre>\n"
      ],
      "text/plain": [
       "\n",
       "\u001b[1;36m>\u001b[0m `Agent: Theory Synthesizer` \u001b[1m(\u001b[0mv6.\u001b[1;36m9\u001b[0m\u001b[1m)\u001b[0m đang thiết kế hoạt động lý thuyết\u001b[33m...\u001b[0m\n"
      ]
     },
     "metadata": {},
     "output_type": "display_data"
    },
    {
     "data": {
      "text/html": [
       "<pre style=\"white-space:pre;overflow-x:auto;line-height:normal;font-family:Menlo,'DejaVu Sans Mono',consolas,'Courier New',monospace\">\n",
       "<span style=\"color: #008080; text-decoration-color: #008080; font-weight: bold\">&gt;</span> Thời gian LLM đề xuất: <span style=\"color: #008080; text-decoration-color: #008080; font-weight: bold\">15</span> phút. Ghi đè bằng thời gian kế hoạch: <span style=\"color: #008080; text-decoration-color: #008080; font-weight: bold\">15</span> phút.\n",
       "</pre>\n"
      ],
      "text/plain": [
       "\n",
       "\u001b[1;36m>\u001b[0m Thời gian LLM đề xuất: \u001b[1;36m15\u001b[0m phút. Ghi đè bằng thời gian kế hoạch: \u001b[1;36m15\u001b[0m phút.\n"
      ]
     },
     "metadata": {},
     "output_type": "display_data"
    },
    {
     "data": {
      "text/html": [
       "<pre style=\"white-space:pre;overflow-x:auto;line-height:normal;font-family:Menlo,'DejaVu Sans Mono',consolas,'Courier New',monospace\"><span style=\"color: #008000; text-decoration-color: #008000; font-weight: bold\">✔️ Hoạt động lý thuyết đã thiết kế:</span>\n",
       "</pre>\n"
      ],
      "text/plain": [
       "\u001b[1;32m✔️ Hoạt động lý thuyết đã thiết kế:\u001b[0m\n"
      ]
     },
     "metadata": {},
     "output_type": "display_data"
    },
    {
     "data": {
      "text/html": [
       "<pre style=\"white-space:pre;overflow-x:auto;line-height:normal;font-family:Menlo,'DejaVu Sans Mono',consolas,'Courier New',monospace\"><span style=\"font-weight: bold\">{</span>\n",
       "<span style=\"color: #7fbf7f; text-decoration-color: #7fbf7f\">│   </span><span style=\"color: #008000; text-decoration-color: #008000\">'activity_name'</span>: <span style=\"color: #008000; text-decoration-color: #008000\">'Giảng giải về đường tròn ngoại tiếp và đường tròn nội tiếp'</span>,\n",
       "<span style=\"color: #7fbf7f; text-decoration-color: #7fbf7f\">│   </span><span style=\"color: #008000; text-decoration-color: #008000\">'description'</span>: <span style=\"color: #008000; text-decoration-color: #008000\">'Giáo viên giảng giải về định nghĩa và định lý của đường tròn ngoại tiếp và đường tròn nội tiếp'</span>,\n",
       "<span style=\"color: #7fbf7f; text-decoration-color: #7fbf7f\">│   </span><span style=\"color: #008000; text-decoration-color: #008000\">'duration_minutes'</span>: <span style=\"color: #008080; text-decoration-color: #008080; font-weight: bold\">15</span>,\n",
       "<span style=\"color: #7fbf7f; text-decoration-color: #7fbf7f\">│   </span><span style=\"color: #008000; text-decoration-color: #008000\">'activity_type'</span>: <span style=\"color: #008000; text-decoration-color: #008000\">'Giảng giải lý thuyết'</span>,\n",
       "<span style=\"color: #7fbf7f; text-decoration-color: #7fbf7f\">│   </span><span style=\"color: #008000; text-decoration-color: #008000\">'solution_guide'</span>: <span style=\"color: #008000; text-decoration-color: #008000\">'Giáo viên sẽ giải thích chi tiết về định nghĩa và định lý của đường tròn ngoại tiếp và đường tròn nội tiếp, sau đó sẽ cho học sinh thực hành vẽ đường tròn ngoại tiếp và đường tròn nội tiếp.'</span>\n",
       "<span style=\"font-weight: bold\">}</span>\n",
       "</pre>\n"
      ],
      "text/plain": [
       "\u001b[1m{\u001b[0m\n",
       "\u001b[2;32m│   \u001b[0m\u001b[32m'activity_name'\u001b[0m: \u001b[32m'Giảng giải về đường tròn ngoại tiếp và đường tròn nội tiếp'\u001b[0m,\n",
       "\u001b[2;32m│   \u001b[0m\u001b[32m'description'\u001b[0m: \u001b[32m'Giáo viên giảng giải về định nghĩa và định lý của đường tròn ngoại tiếp và đường tròn nội tiếp'\u001b[0m,\n",
       "\u001b[2;32m│   \u001b[0m\u001b[32m'duration_minutes'\u001b[0m: \u001b[1;36m15\u001b[0m,\n",
       "\u001b[2;32m│   \u001b[0m\u001b[32m'activity_type'\u001b[0m: \u001b[32m'Giảng giải lý thuyết'\u001b[0m,\n",
       "\u001b[2;32m│   \u001b[0m\u001b[32m'solution_guide'\u001b[0m: \u001b[32m'Giáo viên sẽ giải thích chi tiết về định nghĩa và định lý của đường tròn ngoại tiếp và đường tròn nội tiếp, sau đó sẽ cho học sinh thực hành vẽ đường tròn ngoại tiếp và đường tròn nội tiếp.'\u001b[0m\n",
       "\u001b[1m}\u001b[0m\n"
      ]
     },
     "metadata": {},
     "output_type": "display_data"
    },
    {
     "data": {
      "text/html": [
       "<pre style=\"white-space:pre;overflow-x:auto;line-height:normal;font-family:Menlo,'DejaVu Sans Mono',consolas,'Courier New',monospace\">\n",
       "<span style=\"color: #808000; text-decoration-color: #808000; font-weight: bold\">------- Hoàn thành bước: theory_synthesizer -------</span>\n",
       "</pre>\n"
      ],
      "text/plain": [
       "\n",
       "\u001b[1;33m------- Hoàn thành bước: theory_synthesizer -------\u001b[0m\n"
      ]
     },
     "metadata": {},
     "output_type": "display_data"
    },
    {
     "data": {
      "text/html": [
       "<pre style=\"white-space:pre;overflow-x:auto;line-height:normal;font-family:Menlo,'DejaVu Sans Mono',consolas,'Courier New',monospace\">\n",
       "<span style=\"color: #808000; text-decoration-color: #808000; font-weight: bold\">------- Hoàn thành bước: mark_task_complete -------</span>\n",
       "</pre>\n"
      ],
      "text/plain": [
       "\n",
       "\u001b[1;33m------- Hoàn thành bước: mark_task_complete -------\u001b[0m\n"
      ]
     },
     "metadata": {},
     "output_type": "display_data"
    },
    {
     "data": {
      "text/html": [
       "<pre style=\"white-space:pre;overflow-x:auto;line-height:normal;font-family:Menlo,'DejaVu Sans Mono',consolas,'Courier New',monospace\">\n",
       "<span style=\"color: #008080; text-decoration-color: #008080; font-weight: bold\">&gt;</span> `Router`: Đang kiểm tra nhiệm vụ<span style=\"color: #808000; text-decoration-color: #808000\">...</span>\n",
       "</pre>\n"
      ],
      "text/plain": [
       "\n",
       "\u001b[1;36m>\u001b[0m `Router`: Đang kiểm tra nhiệm vụ\u001b[33m...\u001b[0m\n"
      ]
     },
     "metadata": {},
     "output_type": "display_data"
    },
    {
     "data": {
      "text/html": [
       "<pre style=\"white-space:pre;overflow-x:auto;line-height:normal;font-family:Menlo,'DejaVu Sans Mono',consolas,'Courier New',monospace\">\n",
       "<span style=\"color: #008080; text-decoration-color: #008080; font-weight: bold\">&gt;</span> Nhiệm vụ tiếp theo: <span style=\"color: #008000; text-decoration-color: #008000\">'Luyện tập củng cố lý thuyết'</span> <span style=\"font-weight: bold\">(</span>ID: <span style=\"color: #008080; text-decoration-color: #008080; font-weight: bold\">3</span><span style=\"font-weight: bold\">)</span>\n",
       "</pre>\n"
      ],
      "text/plain": [
       "\n",
       "\u001b[1;36m>\u001b[0m Nhiệm vụ tiếp theo: \u001b[32m'Luyện tập củng cố lý thuyết'\u001b[0m \u001b[1m(\u001b[0mID: \u001b[1;36m3\u001b[0m\u001b[1m)\u001b[0m\n"
      ]
     },
     "metadata": {},
     "output_type": "display_data"
    },
    {
     "data": {
      "text/html": [
       "<pre style=\"white-space:pre;overflow-x:auto;line-height:normal;font-family:Menlo,'DejaVu Sans Mono',consolas,'Courier New',monospace\">\n",
       "<span style=\"color: #808000; text-decoration-color: #808000; font-weight: bold\">------- Hoàn thành bước: task_router -------</span>\n",
       "</pre>\n"
      ],
      "text/plain": [
       "\n",
       "\u001b[1;33m------- Hoàn thành bước: task_router -------\u001b[0m\n"
      ]
     },
     "metadata": {},
     "output_type": "display_data"
    },
    {
     "data": {
      "text/html": [
       "<pre style=\"white-space:pre;overflow-x:auto;line-height:normal;font-family:Menlo,'DejaVu Sans Mono',consolas,'Courier New',monospace\">\n",
       "<span style=\"color: #008080; text-decoration-color: #008080; font-weight: bold\">&gt;</span> `Agent: Task Dispatcher` <span style=\"font-weight: bold\">(</span>v6.<span style=\"color: #008080; text-decoration-color: #008080; font-weight: bold\">9</span><span style=\"font-weight: bold\">)</span> Bắt đầu<span style=\"color: #808000; text-decoration-color: #808000\">...</span>\n",
       "</pre>\n"
      ],
      "text/plain": [
       "\n",
       "\u001b[1;36m>\u001b[0m `Agent: Task Dispatcher` \u001b[1m(\u001b[0mv6.\u001b[1;36m9\u001b[0m\u001b[1m)\u001b[0m Bắt đầu\u001b[33m...\u001b[0m\n"
      ]
     },
     "metadata": {},
     "output_type": "display_data"
    },
    {
     "data": {
      "text/html": [
       "<pre style=\"white-space:pre;overflow-x:auto;line-height:normal;font-family:Menlo,'DejaVu Sans Mono',consolas,'Courier New',monospace\">\n",
       "<span style=\"color: #008080; text-decoration-color: #008080; font-weight: bold\">&gt;</span> --- 🚚 `Dispatcher`: Giao nhiệm vụ cho `activity_designer`.\n",
       "</pre>\n"
      ],
      "text/plain": [
       "\n",
       "\u001b[1;36m>\u001b[0m --- 🚚 `Dispatcher`: Giao nhiệm vụ cho `activity_designer`.\n"
      ]
     },
     "metadata": {},
     "output_type": "display_data"
    },
    {
     "data": {
      "text/html": [
       "<pre style=\"white-space:pre;overflow-x:auto;line-height:normal;font-family:Menlo,'DejaVu Sans Mono',consolas,'Courier New',monospace\">\n",
       "<span style=\"color: #808000; text-decoration-color: #808000; font-weight: bold\">------- Hoàn thành bước: task_dispatcher -------</span>\n",
       "</pre>\n"
      ],
      "text/plain": [
       "\n",
       "\u001b[1;33m------- Hoàn thành bước: task_dispatcher -------\u001b[0m\n"
      ]
     },
     "metadata": {},
     "output_type": "display_data"
    },
    {
     "data": {
      "text/html": [
       "<pre style=\"white-space:pre;overflow-x:auto;line-height:normal;font-family:Menlo,'DejaVu Sans Mono',consolas,'Courier New',monospace\">\n",
       "<span style=\"color: #008080; text-decoration-color: #008080; font-weight: bold\">&gt;</span> `Agent: Activity Designer` <span style=\"font-weight: bold\">(</span>v6.<span style=\"color: #008080; text-decoration-color: #008080; font-weight: bold\">9</span><span style=\"font-weight: bold\">)</span> đang thiết kế hoạt động vận dụng<span style=\"color: #808000; text-decoration-color: #808000\">...</span>\n",
       "</pre>\n"
      ],
      "text/plain": [
       "\n",
       "\u001b[1;36m>\u001b[0m `Agent: Activity Designer` \u001b[1m(\u001b[0mv6.\u001b[1;36m9\u001b[0m\u001b[1m)\u001b[0m đang thiết kế hoạt động vận dụng\u001b[33m...\u001b[0m\n"
      ]
     },
     "metadata": {},
     "output_type": "display_data"
    },
    {
     "data": {
      "text/html": [
       "<pre style=\"white-space:pre;overflow-x:auto;line-height:normal;font-family:Menlo,'DejaVu Sans Mono',consolas,'Courier New',monospace\">\n",
       "<span style=\"color: #008080; text-decoration-color: #008080; font-weight: bold\">&gt;</span> Thời gian LLM đề xuất: <span style=\"color: #008080; text-decoration-color: #008080; font-weight: bold\">10</span> phút. Ghi đè bằng thời gian kế hoạch: <span style=\"color: #008080; text-decoration-color: #008080; font-weight: bold\">10</span> phút.\n",
       "</pre>\n"
      ],
      "text/plain": [
       "\n",
       "\u001b[1;36m>\u001b[0m Thời gian LLM đề xuất: \u001b[1;36m10\u001b[0m phút. Ghi đè bằng thời gian kế hoạch: \u001b[1;36m10\u001b[0m phút.\n"
      ]
     },
     "metadata": {},
     "output_type": "display_data"
    },
    {
     "data": {
      "text/html": [
       "<pre style=\"white-space:pre;overflow-x:auto;line-height:normal;font-family:Menlo,'DejaVu Sans Mono',consolas,'Courier New',monospace\"><span style=\"color: #008000; text-decoration-color: #008000; font-weight: bold\">✔️ Hoạt động vận dụng đã thiết kế:</span>\n",
       "</pre>\n"
      ],
      "text/plain": [
       "\u001b[1;32m✔️ Hoạt động vận dụng đã thiết kế:\u001b[0m\n"
      ]
     },
     "metadata": {},
     "output_type": "display_data"
    },
    {
     "data": {
      "text/html": [
       "<pre style=\"white-space:pre;overflow-x:auto;line-height:normal;font-family:Menlo,'DejaVu Sans Mono',consolas,'Courier New',monospace\"><span style=\"font-weight: bold\">{</span>\n",
       "<span style=\"color: #7fbf7f; text-decoration-color: #7fbf7f\">│   </span><span style=\"color: #008000; text-decoration-color: #008000\">'activity_name'</span>: <span style=\"color: #008000; text-decoration-color: #008000\">'Luyện tập củng cố lý thuyết về đường tròn ngoại tiếp và đường tròn nội tiếp'</span>,\n",
       "<span style=\"color: #7fbf7f; text-decoration-color: #7fbf7f\">│   </span><span style=\"color: #008000; text-decoration-color: #008000\">'description'</span>: <span style=\"color: #008000; text-decoration-color: #008000\">'Học sinh luyện tập các bài tập củng cố lý thuyết về đường tròn ngoại tiếp và đường tròn nội tiếp'</span>,\n",
       "<span style=\"color: #7fbf7f; text-decoration-color: #7fbf7f\">│   </span><span style=\"color: #008000; text-decoration-color: #008000\">'duration_minutes'</span>: <span style=\"color: #008080; text-decoration-color: #008080; font-weight: bold\">10</span>,\n",
       "<span style=\"color: #7fbf7f; text-decoration-color: #7fbf7f\">│   </span><span style=\"color: #008000; text-decoration-color: #008000\">'activity_type'</span>: <span style=\"color: #008000; text-decoration-color: #008000\">'Luyện tập củng cố lý thuyết'</span>,\n",
       "<span style=\"color: #7fbf7f; text-decoration-color: #7fbf7f\">│   </span><span style=\"color: #008000; text-decoration-color: #008000\">'solution_guide'</span>: <span style=\"color: #008000; text-decoration-color: #008000\">'Hướng dẫn giải: Học sinh đọc lại lý thuyết về đường tròn ngoại tiếp và đường tròn nội tiếp, sau đó làm các bài tập củng cố để nắm vững kiến thức.'</span>\n",
       "<span style=\"font-weight: bold\">}</span>\n",
       "</pre>\n"
      ],
      "text/plain": [
       "\u001b[1m{\u001b[0m\n",
       "\u001b[2;32m│   \u001b[0m\u001b[32m'activity_name'\u001b[0m: \u001b[32m'Luyện tập củng cố lý thuyết về đường tròn ngoại tiếp và đường tròn nội tiếp'\u001b[0m,\n",
       "\u001b[2;32m│   \u001b[0m\u001b[32m'description'\u001b[0m: \u001b[32m'Học sinh luyện tập các bài tập củng cố lý thuyết về đường tròn ngoại tiếp và đường tròn nội tiếp'\u001b[0m,\n",
       "\u001b[2;32m│   \u001b[0m\u001b[32m'duration_minutes'\u001b[0m: \u001b[1;36m10\u001b[0m,\n",
       "\u001b[2;32m│   \u001b[0m\u001b[32m'activity_type'\u001b[0m: \u001b[32m'Luyện tập củng cố lý thuyết'\u001b[0m,\n",
       "\u001b[2;32m│   \u001b[0m\u001b[32m'solution_guide'\u001b[0m: \u001b[32m'Hướng dẫn giải: Học sinh đọc lại lý thuyết về đường tròn ngoại tiếp và đường tròn nội tiếp, sau đó làm các bài tập củng cố để nắm vững kiến thức.'\u001b[0m\n",
       "\u001b[1m}\u001b[0m\n"
      ]
     },
     "metadata": {},
     "output_type": "display_data"
    },
    {
     "data": {
      "text/html": [
       "<pre style=\"white-space:pre;overflow-x:auto;line-height:normal;font-family:Menlo,'DejaVu Sans Mono',consolas,'Courier New',monospace\">\n",
       "<span style=\"color: #808000; text-decoration-color: #808000; font-weight: bold\">------- Hoàn thành bước: activity_designer -------</span>\n",
       "</pre>\n"
      ],
      "text/plain": [
       "\n",
       "\u001b[1;33m------- Hoàn thành bước: activity_designer -------\u001b[0m\n"
      ]
     },
     "metadata": {},
     "output_type": "display_data"
    },
    {
     "data": {
      "text/html": [
       "<pre style=\"white-space:pre;overflow-x:auto;line-height:normal;font-family:Menlo,'DejaVu Sans Mono',consolas,'Courier New',monospace\">\n",
       "<span style=\"color: #808000; text-decoration-color: #808000; font-weight: bold\">------- Hoàn thành bước: mark_task_complete -------</span>\n",
       "</pre>\n"
      ],
      "text/plain": [
       "\n",
       "\u001b[1;33m------- Hoàn thành bước: mark_task_complete -------\u001b[0m\n"
      ]
     },
     "metadata": {},
     "output_type": "display_data"
    },
    {
     "data": {
      "text/html": [
       "<pre style=\"white-space:pre;overflow-x:auto;line-height:normal;font-family:Menlo,'DejaVu Sans Mono',consolas,'Courier New',monospace\">\n",
       "<span style=\"color: #008080; text-decoration-color: #008080; font-weight: bold\">&gt;</span> `Router`: Đang kiểm tra nhiệm vụ<span style=\"color: #808000; text-decoration-color: #808000\">...</span>\n",
       "</pre>\n"
      ],
      "text/plain": [
       "\n",
       "\u001b[1;36m>\u001b[0m `Router`: Đang kiểm tra nhiệm vụ\u001b[33m...\u001b[0m\n"
      ]
     },
     "metadata": {},
     "output_type": "display_data"
    },
    {
     "data": {
      "text/html": [
       "<pre style=\"white-space:pre;overflow-x:auto;line-height:normal;font-family:Menlo,'DejaVu Sans Mono',consolas,'Courier New',monospace\">\n",
       "<span style=\"color: #008080; text-decoration-color: #008080; font-weight: bold\">&gt;</span> Nhiệm vụ tiếp theo: <span style=\"color: #008000; text-decoration-color: #008000\">'Giảng giải ứng dụng'</span> <span style=\"font-weight: bold\">(</span>ID: <span style=\"color: #008080; text-decoration-color: #008080; font-weight: bold\">4</span><span style=\"font-weight: bold\">)</span>\n",
       "</pre>\n"
      ],
      "text/plain": [
       "\n",
       "\u001b[1;36m>\u001b[0m Nhiệm vụ tiếp theo: \u001b[32m'Giảng giải ứng dụng'\u001b[0m \u001b[1m(\u001b[0mID: \u001b[1;36m4\u001b[0m\u001b[1m)\u001b[0m\n"
      ]
     },
     "metadata": {},
     "output_type": "display_data"
    },
    {
     "data": {
      "text/html": [
       "<pre style=\"white-space:pre;overflow-x:auto;line-height:normal;font-family:Menlo,'DejaVu Sans Mono',consolas,'Courier New',monospace\">\n",
       "<span style=\"color: #808000; text-decoration-color: #808000; font-weight: bold\">------- Hoàn thành bước: task_router -------</span>\n",
       "</pre>\n"
      ],
      "text/plain": [
       "\n",
       "\u001b[1;33m------- Hoàn thành bước: task_router -------\u001b[0m\n"
      ]
     },
     "metadata": {},
     "output_type": "display_data"
    },
    {
     "data": {
      "text/html": [
       "<pre style=\"white-space:pre;overflow-x:auto;line-height:normal;font-family:Menlo,'DejaVu Sans Mono',consolas,'Courier New',monospace\">\n",
       "<span style=\"color: #008080; text-decoration-color: #008080; font-weight: bold\">&gt;</span> `Agent: Task Dispatcher` <span style=\"font-weight: bold\">(</span>v6.<span style=\"color: #008080; text-decoration-color: #008080; font-weight: bold\">9</span><span style=\"font-weight: bold\">)</span> Bắt đầu<span style=\"color: #808000; text-decoration-color: #808000\">...</span>\n",
       "</pre>\n"
      ],
      "text/plain": [
       "\n",
       "\u001b[1;36m>\u001b[0m `Agent: Task Dispatcher` \u001b[1m(\u001b[0mv6.\u001b[1;36m9\u001b[0m\u001b[1m)\u001b[0m Bắt đầu\u001b[33m...\u001b[0m\n"
      ]
     },
     "metadata": {},
     "output_type": "display_data"
    },
    {
     "data": {
      "text/html": [
       "<pre style=\"white-space:pre;overflow-x:auto;line-height:normal;font-family:Menlo,'DejaVu Sans Mono',consolas,'Courier New',monospace\">\n",
       "<span style=\"color: #008080; text-decoration-color: #008080; font-weight: bold\">&gt;</span> --- 🚚 `Dispatcher`: Giao nhiệm vụ cho `theory_synthesizer`.\n",
       "</pre>\n"
      ],
      "text/plain": [
       "\n",
       "\u001b[1;36m>\u001b[0m --- 🚚 `Dispatcher`: Giao nhiệm vụ cho `theory_synthesizer`.\n"
      ]
     },
     "metadata": {},
     "output_type": "display_data"
    },
    {
     "data": {
      "text/html": [
       "<pre style=\"white-space:pre;overflow-x:auto;line-height:normal;font-family:Menlo,'DejaVu Sans Mono',consolas,'Courier New',monospace\">\n",
       "<span style=\"color: #808000; text-decoration-color: #808000; font-weight: bold\">------- Hoàn thành bước: task_dispatcher -------</span>\n",
       "</pre>\n"
      ],
      "text/plain": [
       "\n",
       "\u001b[1;33m------- Hoàn thành bước: task_dispatcher -------\u001b[0m\n"
      ]
     },
     "metadata": {},
     "output_type": "display_data"
    },
    {
     "data": {
      "text/html": [
       "<pre style=\"white-space:pre;overflow-x:auto;line-height:normal;font-family:Menlo,'DejaVu Sans Mono',consolas,'Courier New',monospace\">\n",
       "<span style=\"color: #008080; text-decoration-color: #008080; font-weight: bold\">&gt;</span> `Agent: Theory Synthesizer` <span style=\"font-weight: bold\">(</span>v6.<span style=\"color: #008080; text-decoration-color: #008080; font-weight: bold\">9</span><span style=\"font-weight: bold\">)</span> đang thiết kế hoạt động lý thuyết<span style=\"color: #808000; text-decoration-color: #808000\">...</span>\n",
       "</pre>\n"
      ],
      "text/plain": [
       "\n",
       "\u001b[1;36m>\u001b[0m `Agent: Theory Synthesizer` \u001b[1m(\u001b[0mv6.\u001b[1;36m9\u001b[0m\u001b[1m)\u001b[0m đang thiết kế hoạt động lý thuyết\u001b[33m...\u001b[0m\n"
      ]
     },
     "metadata": {},
     "output_type": "display_data"
    },
    {
     "data": {
      "text/html": [
       "<pre style=\"white-space:pre;overflow-x:auto;line-height:normal;font-family:Menlo,'DejaVu Sans Mono',consolas,'Courier New',monospace\">\n",
       "<span style=\"color: #008080; text-decoration-color: #008080; font-weight: bold\">&gt;</span> Thời gian LLM đề xuất: <span style=\"color: #008080; text-decoration-color: #008080; font-weight: bold\">15</span> phút. Ghi đè bằng thời gian kế hoạch: <span style=\"color: #008080; text-decoration-color: #008080; font-weight: bold\">15</span> phút.\n",
       "</pre>\n"
      ],
      "text/plain": [
       "\n",
       "\u001b[1;36m>\u001b[0m Thời gian LLM đề xuất: \u001b[1;36m15\u001b[0m phút. Ghi đè bằng thời gian kế hoạch: \u001b[1;36m15\u001b[0m phút.\n"
      ]
     },
     "metadata": {},
     "output_type": "display_data"
    },
    {
     "data": {
      "text/html": [
       "<pre style=\"white-space:pre;overflow-x:auto;line-height:normal;font-family:Menlo,'DejaVu Sans Mono',consolas,'Courier New',monospace\"><span style=\"color: #008000; text-decoration-color: #008000; font-weight: bold\">✔️ Hoạt động lý thuyết đã thiết kế:</span>\n",
       "</pre>\n"
      ],
      "text/plain": [
       "\u001b[1;32m✔️ Hoạt động lý thuyết đã thiết kế:\u001b[0m\n"
      ]
     },
     "metadata": {},
     "output_type": "display_data"
    },
    {
     "data": {
      "text/html": [
       "<pre style=\"white-space:pre;overflow-x:auto;line-height:normal;font-family:Menlo,'DejaVu Sans Mono',consolas,'Courier New',monospace\"><span style=\"font-weight: bold\">{</span>\n",
       "<span style=\"color: #7fbf7f; text-decoration-color: #7fbf7f\">│   </span><span style=\"color: #008000; text-decoration-color: #008000\">'activity_name'</span>: <span style=\"color: #008000; text-decoration-color: #008000\">'Giảng giải về ứng dụng của đường tròn ngoại tiếp và đường tròn nội tiếp trong tam giác'</span>,\n",
       "<span style=\"color: #7fbf7f; text-decoration-color: #7fbf7f\">│   </span><span style=\"color: #008000; text-decoration-color: #008000\">'description'</span>: <span style=\"color: #008000; text-decoration-color: #008000\">'Giáo viên giảng giải về ứng dụng của đường tròn ngoại tiếp và đường tròn nội tiếp trong tam giác.'</span>,\n",
       "<span style=\"color: #7fbf7f; text-decoration-color: #7fbf7f\">│   </span><span style=\"color: #008000; text-decoration-color: #008000\">'duration_minutes'</span>: <span style=\"color: #008080; text-decoration-color: #008080; font-weight: bold\">15</span>,\n",
       "<span style=\"color: #7fbf7f; text-decoration-color: #7fbf7f\">│   </span><span style=\"color: #008000; text-decoration-color: #008000\">'activity_type'</span>: <span style=\"color: #008000; text-decoration-color: #008000\">'Giảng giải lý thuyết'</span>,\n",
       "<span style=\"color: #7fbf7f; text-decoration-color: #7fbf7f\">│   </span><span style=\"color: #008000; text-decoration-color: #008000\">'solution_guide'</span>: <span style=\"color: #008000; text-decoration-color: #008000\">'Giáo viên sẽ giải thích chi tiết về ứng dụng của đường tròn ngoại tiếp và đường tròn nội tiếp trong tam giác, sau đó sẽ cho học sinh thực hành các bài tập liên quan.'</span>\n",
       "<span style=\"font-weight: bold\">}</span>\n",
       "</pre>\n"
      ],
      "text/plain": [
       "\u001b[1m{\u001b[0m\n",
       "\u001b[2;32m│   \u001b[0m\u001b[32m'activity_name'\u001b[0m: \u001b[32m'Giảng giải về ứng dụng của đường tròn ngoại tiếp và đường tròn nội tiếp trong tam giác'\u001b[0m,\n",
       "\u001b[2;32m│   \u001b[0m\u001b[32m'description'\u001b[0m: \u001b[32m'Giáo viên giảng giải về ứng dụng của đường tròn ngoại tiếp và đường tròn nội tiếp trong tam giác.'\u001b[0m,\n",
       "\u001b[2;32m│   \u001b[0m\u001b[32m'duration_minutes'\u001b[0m: \u001b[1;36m15\u001b[0m,\n",
       "\u001b[2;32m│   \u001b[0m\u001b[32m'activity_type'\u001b[0m: \u001b[32m'Giảng giải lý thuyết'\u001b[0m,\n",
       "\u001b[2;32m│   \u001b[0m\u001b[32m'solution_guide'\u001b[0m: \u001b[32m'Giáo viên sẽ giải thích chi tiết về ứng dụng của đường tròn ngoại tiếp và đường tròn nội tiếp trong tam giác, sau đó sẽ cho học sinh thực hành các bài tập liên quan.'\u001b[0m\n",
       "\u001b[1m}\u001b[0m\n"
      ]
     },
     "metadata": {},
     "output_type": "display_data"
    },
    {
     "data": {
      "text/html": [
       "<pre style=\"white-space:pre;overflow-x:auto;line-height:normal;font-family:Menlo,'DejaVu Sans Mono',consolas,'Courier New',monospace\">\n",
       "<span style=\"color: #808000; text-decoration-color: #808000; font-weight: bold\">------- Hoàn thành bước: theory_synthesizer -------</span>\n",
       "</pre>\n"
      ],
      "text/plain": [
       "\n",
       "\u001b[1;33m------- Hoàn thành bước: theory_synthesizer -------\u001b[0m\n"
      ]
     },
     "metadata": {},
     "output_type": "display_data"
    },
    {
     "data": {
      "text/html": [
       "<pre style=\"white-space:pre;overflow-x:auto;line-height:normal;font-family:Menlo,'DejaVu Sans Mono',consolas,'Courier New',monospace\">\n",
       "<span style=\"color: #808000; text-decoration-color: #808000; font-weight: bold\">------- Hoàn thành bước: mark_task_complete -------</span>\n",
       "</pre>\n"
      ],
      "text/plain": [
       "\n",
       "\u001b[1;33m------- Hoàn thành bước: mark_task_complete -------\u001b[0m\n"
      ]
     },
     "metadata": {},
     "output_type": "display_data"
    },
    {
     "data": {
      "text/html": [
       "<pre style=\"white-space:pre;overflow-x:auto;line-height:normal;font-family:Menlo,'DejaVu Sans Mono',consolas,'Courier New',monospace\">\n",
       "<span style=\"color: #008080; text-decoration-color: #008080; font-weight: bold\">&gt;</span> `Router`: Đang kiểm tra nhiệm vụ<span style=\"color: #808000; text-decoration-color: #808000\">...</span>\n",
       "</pre>\n"
      ],
      "text/plain": [
       "\n",
       "\u001b[1;36m>\u001b[0m `Router`: Đang kiểm tra nhiệm vụ\u001b[33m...\u001b[0m\n"
      ]
     },
     "metadata": {},
     "output_type": "display_data"
    },
    {
     "data": {
      "text/html": [
       "<pre style=\"white-space:pre;overflow-x:auto;line-height:normal;font-family:Menlo,'DejaVu Sans Mono',consolas,'Courier New',monospace\">\n",
       "<span style=\"color: #008080; text-decoration-color: #008080; font-weight: bold\">&gt;</span> Nhiệm vụ tiếp theo: <span style=\"color: #008000; text-decoration-color: #008000\">'Luyện tập vận dụng cao'</span> <span style=\"font-weight: bold\">(</span>ID: <span style=\"color: #008080; text-decoration-color: #008080; font-weight: bold\">5</span><span style=\"font-weight: bold\">)</span>\n",
       "</pre>\n"
      ],
      "text/plain": [
       "\n",
       "\u001b[1;36m>\u001b[0m Nhiệm vụ tiếp theo: \u001b[32m'Luyện tập vận dụng cao'\u001b[0m \u001b[1m(\u001b[0mID: \u001b[1;36m5\u001b[0m\u001b[1m)\u001b[0m\n"
      ]
     },
     "metadata": {},
     "output_type": "display_data"
    },
    {
     "data": {
      "text/html": [
       "<pre style=\"white-space:pre;overflow-x:auto;line-height:normal;font-family:Menlo,'DejaVu Sans Mono',consolas,'Courier New',monospace\">\n",
       "<span style=\"color: #808000; text-decoration-color: #808000; font-weight: bold\">------- Hoàn thành bước: task_router -------</span>\n",
       "</pre>\n"
      ],
      "text/plain": [
       "\n",
       "\u001b[1;33m------- Hoàn thành bước: task_router -------\u001b[0m\n"
      ]
     },
     "metadata": {},
     "output_type": "display_data"
    },
    {
     "data": {
      "text/html": [
       "<pre style=\"white-space:pre;overflow-x:auto;line-height:normal;font-family:Menlo,'DejaVu Sans Mono',consolas,'Courier New',monospace\">\n",
       "<span style=\"color: #008080; text-decoration-color: #008080; font-weight: bold\">&gt;</span> `Agent: Task Dispatcher` <span style=\"font-weight: bold\">(</span>v6.<span style=\"color: #008080; text-decoration-color: #008080; font-weight: bold\">9</span><span style=\"font-weight: bold\">)</span> Bắt đầu<span style=\"color: #808000; text-decoration-color: #808000\">...</span>\n",
       "</pre>\n"
      ],
      "text/plain": [
       "\n",
       "\u001b[1;36m>\u001b[0m `Agent: Task Dispatcher` \u001b[1m(\u001b[0mv6.\u001b[1;36m9\u001b[0m\u001b[1m)\u001b[0m Bắt đầu\u001b[33m...\u001b[0m\n"
      ]
     },
     "metadata": {},
     "output_type": "display_data"
    },
    {
     "data": {
      "text/html": [
       "<pre style=\"white-space:pre;overflow-x:auto;line-height:normal;font-family:Menlo,'DejaVu Sans Mono',consolas,'Courier New',monospace\">\n",
       "<span style=\"color: #008080; text-decoration-color: #008080; font-weight: bold\">&gt;</span> --- 🚚 `Dispatcher`: Giao nhiệm vụ cho `activity_designer`.\n",
       "</pre>\n"
      ],
      "text/plain": [
       "\n",
       "\u001b[1;36m>\u001b[0m --- 🚚 `Dispatcher`: Giao nhiệm vụ cho `activity_designer`.\n"
      ]
     },
     "metadata": {},
     "output_type": "display_data"
    },
    {
     "data": {
      "text/html": [
       "<pre style=\"white-space:pre;overflow-x:auto;line-height:normal;font-family:Menlo,'DejaVu Sans Mono',consolas,'Courier New',monospace\">\n",
       "<span style=\"color: #808000; text-decoration-color: #808000; font-weight: bold\">------- Hoàn thành bước: task_dispatcher -------</span>\n",
       "</pre>\n"
      ],
      "text/plain": [
       "\n",
       "\u001b[1;33m------- Hoàn thành bước: task_dispatcher -------\u001b[0m\n"
      ]
     },
     "metadata": {},
     "output_type": "display_data"
    },
    {
     "data": {
      "text/html": [
       "<pre style=\"white-space:pre;overflow-x:auto;line-height:normal;font-family:Menlo,'DejaVu Sans Mono',consolas,'Courier New',monospace\">\n",
       "<span style=\"color: #008080; text-decoration-color: #008080; font-weight: bold\">&gt;</span> `Agent: Activity Designer` <span style=\"font-weight: bold\">(</span>v6.<span style=\"color: #008080; text-decoration-color: #008080; font-weight: bold\">9</span><span style=\"font-weight: bold\">)</span> đang thiết kế hoạt động vận dụng<span style=\"color: #808000; text-decoration-color: #808000\">...</span>\n",
       "</pre>\n"
      ],
      "text/plain": [
       "\n",
       "\u001b[1;36m>\u001b[0m `Agent: Activity Designer` \u001b[1m(\u001b[0mv6.\u001b[1;36m9\u001b[0m\u001b[1m)\u001b[0m đang thiết kế hoạt động vận dụng\u001b[33m...\u001b[0m\n"
      ]
     },
     "metadata": {},
     "output_type": "display_data"
    },
    {
     "data": {
      "text/html": [
       "<pre style=\"white-space:pre;overflow-x:auto;line-height:normal;font-family:Menlo,'DejaVu Sans Mono',consolas,'Courier New',monospace\">\n",
       "<span style=\"color: #008080; text-decoration-color: #008080; font-weight: bold\">&gt;</span> Thời gian LLM đề xuất: <span style=\"color: #008080; text-decoration-color: #008080; font-weight: bold\">20</span> phút. Ghi đè bằng thời gian kế hoạch: <span style=\"color: #008080; text-decoration-color: #008080; font-weight: bold\">20</span> phút.\n",
       "</pre>\n"
      ],
      "text/plain": [
       "\n",
       "\u001b[1;36m>\u001b[0m Thời gian LLM đề xuất: \u001b[1;36m20\u001b[0m phút. Ghi đè bằng thời gian kế hoạch: \u001b[1;36m20\u001b[0m phút.\n"
      ]
     },
     "metadata": {},
     "output_type": "display_data"
    },
    {
     "data": {
      "text/html": [
       "<pre style=\"white-space:pre;overflow-x:auto;line-height:normal;font-family:Menlo,'DejaVu Sans Mono',consolas,'Courier New',monospace\"><span style=\"color: #008000; text-decoration-color: #008000; font-weight: bold\">✔️ Hoạt động vận dụng đã thiết kế:</span>\n",
       "</pre>\n"
      ],
      "text/plain": [
       "\u001b[1;32m✔️ Hoạt động vận dụng đã thiết kế:\u001b[0m\n"
      ]
     },
     "metadata": {},
     "output_type": "display_data"
    },
    {
     "data": {
      "text/html": [
       "<pre style=\"white-space:pre;overflow-x:auto;line-height:normal;font-family:Menlo,'DejaVu Sans Mono',consolas,'Courier New',monospace\"><span style=\"font-weight: bold\">{</span>\n",
       "<span style=\"color: #7fbf7f; text-decoration-color: #7fbf7f\">│   </span><span style=\"color: #008000; text-decoration-color: #008000\">'activity_name'</span>: <span style=\"color: #008000; text-decoration-color: #008000\">'Vận dụng cao về đường tròn ngoại tiếp và đường tròn nội tiếp trong tam giác'</span>,\n",
       "<span style=\"color: #7fbf7f; text-decoration-color: #7fbf7f\">│   </span><span style=\"color: #008000; text-decoration-color: #008000\">'description'</span>: <span style=\"color: #008000; text-decoration-color: #008000\">'Học sinh luyện tập các bài tập vận dụng cao về đường tròn ngoại tiếp và đường tròn nội tiếp trong tam giác.'</span>,\n",
       "<span style=\"color: #7fbf7f; text-decoration-color: #7fbf7f\">│   </span><span style=\"color: #008000; text-decoration-color: #008000\">'duration_minutes'</span>: <span style=\"color: #008080; text-decoration-color: #008080; font-weight: bold\">20</span>,\n",
       "<span style=\"color: #7fbf7f; text-decoration-color: #7fbf7f\">│   </span><span style=\"color: #008000; text-decoration-color: #008000\">'activity_type'</span>: <span style=\"color: #008000; text-decoration-color: #008000\">'Luyện tập cặp đôi'</span>,\n",
       "<span style=\"color: #7fbf7f; text-decoration-color: #7fbf7f\">│   </span><span style=\"color: #008000; text-decoration-color: #008000\">'solution_guide'</span>: <span style=\"color: #008000; text-decoration-color: #008000\">'Hướng dẫn giải: 1) Đọc kỹ đề bài và xác định các đường tròn ngoại tiếp và đường tròn nội tiếp trong tam giác. 2) Áp dụng các công thức và định lý đã học để giải quyết các bài tập. 3) Kiểm tra và đối chiếu kết quả với nhau.'</span>\n",
       "<span style=\"font-weight: bold\">}</span>\n",
       "</pre>\n"
      ],
      "text/plain": [
       "\u001b[1m{\u001b[0m\n",
       "\u001b[2;32m│   \u001b[0m\u001b[32m'activity_name'\u001b[0m: \u001b[32m'Vận dụng cao về đường tròn ngoại tiếp và đường tròn nội tiếp trong tam giác'\u001b[0m,\n",
       "\u001b[2;32m│   \u001b[0m\u001b[32m'description'\u001b[0m: \u001b[32m'Học sinh luyện tập các bài tập vận dụng cao về đường tròn ngoại tiếp và đường tròn nội tiếp trong tam giác.'\u001b[0m,\n",
       "\u001b[2;32m│   \u001b[0m\u001b[32m'duration_minutes'\u001b[0m: \u001b[1;36m20\u001b[0m,\n",
       "\u001b[2;32m│   \u001b[0m\u001b[32m'activity_type'\u001b[0m: \u001b[32m'Luyện tập cặp đôi'\u001b[0m,\n",
       "\u001b[2;32m│   \u001b[0m\u001b[32m'solution_guide'\u001b[0m: \u001b[32m'Hướng dẫn giải: 1\u001b[0m\u001b[32m)\u001b[0m\u001b[32m Đọc kỹ đề bài và xác định các đường tròn ngoại tiếp và đường tròn nội tiếp trong tam giác. 2\u001b[0m\u001b[32m)\u001b[0m\u001b[32m Áp dụng các công thức và định lý đã học để giải quyết các bài tập. 3\u001b[0m\u001b[32m)\u001b[0m\u001b[32m Kiểm tra và đối chiếu kết quả với nhau.'\u001b[0m\n",
       "\u001b[1m}\u001b[0m\n"
      ]
     },
     "metadata": {},
     "output_type": "display_data"
    },
    {
     "data": {
      "text/html": [
       "<pre style=\"white-space:pre;overflow-x:auto;line-height:normal;font-family:Menlo,'DejaVu Sans Mono',consolas,'Courier New',monospace\">\n",
       "<span style=\"color: #808000; text-decoration-color: #808000; font-weight: bold\">------- Hoàn thành bước: activity_designer -------</span>\n",
       "</pre>\n"
      ],
      "text/plain": [
       "\n",
       "\u001b[1;33m------- Hoàn thành bước: activity_designer -------\u001b[0m\n"
      ]
     },
     "metadata": {},
     "output_type": "display_data"
    },
    {
     "data": {
      "text/html": [
       "<pre style=\"white-space:pre;overflow-x:auto;line-height:normal;font-family:Menlo,'DejaVu Sans Mono',consolas,'Courier New',monospace\">\n",
       "<span style=\"color: #808000; text-decoration-color: #808000; font-weight: bold\">------- Hoàn thành bước: mark_task_complete -------</span>\n",
       "</pre>\n"
      ],
      "text/plain": [
       "\n",
       "\u001b[1;33m------- Hoàn thành bước: mark_task_complete -------\u001b[0m\n"
      ]
     },
     "metadata": {},
     "output_type": "display_data"
    },
    {
     "data": {
      "text/html": [
       "<pre style=\"white-space:pre;overflow-x:auto;line-height:normal;font-family:Menlo,'DejaVu Sans Mono',consolas,'Courier New',monospace\">\n",
       "<span style=\"color: #008080; text-decoration-color: #008080; font-weight: bold\">&gt;</span> `Router`: Đang kiểm tra nhiệm vụ<span style=\"color: #808000; text-decoration-color: #808000\">...</span>\n",
       "</pre>\n"
      ],
      "text/plain": [
       "\n",
       "\u001b[1;36m>\u001b[0m `Router`: Đang kiểm tra nhiệm vụ\u001b[33m...\u001b[0m\n"
      ]
     },
     "metadata": {},
     "output_type": "display_data"
    },
    {
     "data": {
      "text/html": [
       "<pre style=\"white-space:pre;overflow-x:auto;line-height:normal;font-family:Menlo,'DejaVu Sans Mono',consolas,'Courier New',monospace\">\n",
       "<span style=\"color: #008080; text-decoration-color: #008080; font-weight: bold\">&gt;</span> Nhiệm vụ tiếp theo: <span style=\"color: #008000; text-decoration-color: #008000\">'Tổng kết và dặn dò'</span> <span style=\"font-weight: bold\">(</span>ID: <span style=\"color: #008080; text-decoration-color: #008080; font-weight: bold\">6</span><span style=\"font-weight: bold\">)</span>\n",
       "</pre>\n"
      ],
      "text/plain": [
       "\n",
       "\u001b[1;36m>\u001b[0m Nhiệm vụ tiếp theo: \u001b[32m'Tổng kết và dặn dò'\u001b[0m \u001b[1m(\u001b[0mID: \u001b[1;36m6\u001b[0m\u001b[1m)\u001b[0m\n"
      ]
     },
     "metadata": {},
     "output_type": "display_data"
    },
    {
     "data": {
      "text/html": [
       "<pre style=\"white-space:pre;overflow-x:auto;line-height:normal;font-family:Menlo,'DejaVu Sans Mono',consolas,'Courier New',monospace\">\n",
       "<span style=\"color: #808000; text-decoration-color: #808000; font-weight: bold\">------- Hoàn thành bước: task_router -------</span>\n",
       "</pre>\n"
      ],
      "text/plain": [
       "\n",
       "\u001b[1;33m------- Hoàn thành bước: task_router -------\u001b[0m\n"
      ]
     },
     "metadata": {},
     "output_type": "display_data"
    },
    {
     "data": {
      "text/html": [
       "<pre style=\"white-space:pre;overflow-x:auto;line-height:normal;font-family:Menlo,'DejaVu Sans Mono',consolas,'Courier New',monospace\">\n",
       "<span style=\"color: #008080; text-decoration-color: #008080; font-weight: bold\">&gt;</span> `Agent: Task Dispatcher` <span style=\"font-weight: bold\">(</span>v6.<span style=\"color: #008080; text-decoration-color: #008080; font-weight: bold\">9</span><span style=\"font-weight: bold\">)</span> Bắt đầu<span style=\"color: #808000; text-decoration-color: #808000\">...</span>\n",
       "</pre>\n"
      ],
      "text/plain": [
       "\n",
       "\u001b[1;36m>\u001b[0m `Agent: Task Dispatcher` \u001b[1m(\u001b[0mv6.\u001b[1;36m9\u001b[0m\u001b[1m)\u001b[0m Bắt đầu\u001b[33m...\u001b[0m\n"
      ]
     },
     "metadata": {},
     "output_type": "display_data"
    },
    {
     "data": {
      "text/html": [
       "<pre style=\"white-space:pre;overflow-x:auto;line-height:normal;font-family:Menlo,'DejaVu Sans Mono',consolas,'Courier New',monospace\">\n",
       "<span style=\"color: #008080; text-decoration-color: #008080; font-weight: bold\">&gt;</span> --- 🚚 `Dispatcher`: Giao nhiệm vụ cho `theory_synthesizer`.\n",
       "</pre>\n"
      ],
      "text/plain": [
       "\n",
       "\u001b[1;36m>\u001b[0m --- 🚚 `Dispatcher`: Giao nhiệm vụ cho `theory_synthesizer`.\n"
      ]
     },
     "metadata": {},
     "output_type": "display_data"
    },
    {
     "data": {
      "text/html": [
       "<pre style=\"white-space:pre;overflow-x:auto;line-height:normal;font-family:Menlo,'DejaVu Sans Mono',consolas,'Courier New',monospace\">\n",
       "<span style=\"color: #808000; text-decoration-color: #808000; font-weight: bold\">------- Hoàn thành bước: task_dispatcher -------</span>\n",
       "</pre>\n"
      ],
      "text/plain": [
       "\n",
       "\u001b[1;33m------- Hoàn thành bước: task_dispatcher -------\u001b[0m\n"
      ]
     },
     "metadata": {},
     "output_type": "display_data"
    },
    {
     "data": {
      "text/html": [
       "<pre style=\"white-space:pre;overflow-x:auto;line-height:normal;font-family:Menlo,'DejaVu Sans Mono',consolas,'Courier New',monospace\">\n",
       "<span style=\"color: #008080; text-decoration-color: #008080; font-weight: bold\">&gt;</span> `Agent: Theory Synthesizer` <span style=\"font-weight: bold\">(</span>v6.<span style=\"color: #008080; text-decoration-color: #008080; font-weight: bold\">9</span><span style=\"font-weight: bold\">)</span> đang thiết kế hoạt động lý thuyết<span style=\"color: #808000; text-decoration-color: #808000\">...</span>\n",
       "</pre>\n"
      ],
      "text/plain": [
       "\n",
       "\u001b[1;36m>\u001b[0m `Agent: Theory Synthesizer` \u001b[1m(\u001b[0mv6.\u001b[1;36m9\u001b[0m\u001b[1m)\u001b[0m đang thiết kế hoạt động lý thuyết\u001b[33m...\u001b[0m\n"
      ]
     },
     "metadata": {},
     "output_type": "display_data"
    },
    {
     "data": {
      "text/html": [
       "<pre style=\"white-space:pre;overflow-x:auto;line-height:normal;font-family:Menlo,'DejaVu Sans Mono',consolas,'Courier New',monospace\">\n",
       "<span style=\"color: #008080; text-decoration-color: #008080; font-weight: bold\">&gt;</span> Thời gian LLM đề xuất: <span style=\"color: #008080; text-decoration-color: #008080; font-weight: bold\">5</span> phút. Ghi đè bằng thời gian kế hoạch: <span style=\"color: #008080; text-decoration-color: #008080; font-weight: bold\">5</span> phút.\n",
       "</pre>\n"
      ],
      "text/plain": [
       "\n",
       "\u001b[1;36m>\u001b[0m Thời gian LLM đề xuất: \u001b[1;36m5\u001b[0m phút. Ghi đè bằng thời gian kế hoạch: \u001b[1;36m5\u001b[0m phút.\n"
      ]
     },
     "metadata": {},
     "output_type": "display_data"
    },
    {
     "data": {
      "text/html": [
       "<pre style=\"white-space:pre;overflow-x:auto;line-height:normal;font-family:Menlo,'DejaVu Sans Mono',consolas,'Courier New',monospace\"><span style=\"color: #008000; text-decoration-color: #008000; font-weight: bold\">✔️ Hoạt động lý thuyết đã thiết kế:</span>\n",
       "</pre>\n"
      ],
      "text/plain": [
       "\u001b[1;32m✔️ Hoạt động lý thuyết đã thiết kế:\u001b[0m\n"
      ]
     },
     "metadata": {},
     "output_type": "display_data"
    },
    {
     "data": {
      "text/html": [
       "<pre style=\"white-space:pre;overflow-x:auto;line-height:normal;font-family:Menlo,'DejaVu Sans Mono',consolas,'Courier New',monospace\"><span style=\"font-weight: bold\">{</span>\n",
       "<span style=\"color: #7fbf7f; text-decoration-color: #7fbf7f\">│   </span><span style=\"color: #008000; text-decoration-color: #008000\">'activity_name'</span>: <span style=\"color: #008000; text-decoration-color: #008000\">'Tóm tắt bài học và dặn dò học sinh'</span>,\n",
       "<span style=\"color: #7fbf7f; text-decoration-color: #7fbf7f\">│   </span><span style=\"color: #008000; text-decoration-color: #008000\">'description'</span>: <span style=\"color: #008000; text-decoration-color: #008000\">'Giáo viên tổng kết bài học, dặn dò học sinh về các nhiệm vụ cần hoàn thành'</span>,\n",
       "<span style=\"color: #7fbf7f; text-decoration-color: #7fbf7f\">│   </span><span style=\"color: #008000; text-decoration-color: #008000\">'duration_minutes'</span>: <span style=\"color: #008080; text-decoration-color: #008080; font-weight: bold\">5</span>,\n",
       "<span style=\"color: #7fbf7f; text-decoration-color: #7fbf7f\">│   </span><span style=\"color: #008000; text-decoration-color: #008000\">'activity_type'</span>: <span style=\"color: #008000; text-decoration-color: #008000\">'Giảng giải lý thuyết'</span>,\n",
       "<span style=\"color: #7fbf7f; text-decoration-color: #7fbf7f\">│   </span><span style=\"color: #008000; text-decoration-color: #008000\">'solution_guide'</span>: <span style=\"color: #008000; text-decoration-color: #008000\">'Giáo viên cần tóm tắt các nội dung chính của bài học, nhấn mạnh các điểm quan trọng và dặn dò học sinh về các nhiệm vụ cần hoàn thành.'</span>\n",
       "<span style=\"font-weight: bold\">}</span>\n",
       "</pre>\n"
      ],
      "text/plain": [
       "\u001b[1m{\u001b[0m\n",
       "\u001b[2;32m│   \u001b[0m\u001b[32m'activity_name'\u001b[0m: \u001b[32m'Tóm tắt bài học và dặn dò học sinh'\u001b[0m,\n",
       "\u001b[2;32m│   \u001b[0m\u001b[32m'description'\u001b[0m: \u001b[32m'Giáo viên tổng kết bài học, dặn dò học sinh về các nhiệm vụ cần hoàn thành'\u001b[0m,\n",
       "\u001b[2;32m│   \u001b[0m\u001b[32m'duration_minutes'\u001b[0m: \u001b[1;36m5\u001b[0m,\n",
       "\u001b[2;32m│   \u001b[0m\u001b[32m'activity_type'\u001b[0m: \u001b[32m'Giảng giải lý thuyết'\u001b[0m,\n",
       "\u001b[2;32m│   \u001b[0m\u001b[32m'solution_guide'\u001b[0m: \u001b[32m'Giáo viên cần tóm tắt các nội dung chính của bài học, nhấn mạnh các điểm quan trọng và dặn dò học sinh về các nhiệm vụ cần hoàn thành.'\u001b[0m\n",
       "\u001b[1m}\u001b[0m\n"
      ]
     },
     "metadata": {},
     "output_type": "display_data"
    },
    {
     "data": {
      "text/html": [
       "<pre style=\"white-space:pre;overflow-x:auto;line-height:normal;font-family:Menlo,'DejaVu Sans Mono',consolas,'Courier New',monospace\">\n",
       "<span style=\"color: #808000; text-decoration-color: #808000; font-weight: bold\">------- Hoàn thành bước: theory_synthesizer -------</span>\n",
       "</pre>\n"
      ],
      "text/plain": [
       "\n",
       "\u001b[1;33m------- Hoàn thành bước: theory_synthesizer -------\u001b[0m\n"
      ]
     },
     "metadata": {},
     "output_type": "display_data"
    },
    {
     "data": {
      "text/html": [
       "<pre style=\"white-space:pre;overflow-x:auto;line-height:normal;font-family:Menlo,'DejaVu Sans Mono',consolas,'Courier New',monospace\">\n",
       "<span style=\"color: #808000; text-decoration-color: #808000; font-weight: bold\">------- Hoàn thành bước: mark_task_complete -------</span>\n",
       "</pre>\n"
      ],
      "text/plain": [
       "\n",
       "\u001b[1;33m------- Hoàn thành bước: mark_task_complete -------\u001b[0m\n"
      ]
     },
     "metadata": {},
     "output_type": "display_data"
    },
    {
     "data": {
      "text/html": [
       "<pre style=\"white-space:pre;overflow-x:auto;line-height:normal;font-family:Menlo,'DejaVu Sans Mono',consolas,'Courier New',monospace\">\n",
       "<span style=\"color: #008080; text-decoration-color: #008080; font-weight: bold\">&gt;</span> `Router`: Đang kiểm tra nhiệm vụ<span style=\"color: #808000; text-decoration-color: #808000\">...</span>\n",
       "</pre>\n"
      ],
      "text/plain": [
       "\n",
       "\u001b[1;36m>\u001b[0m `Router`: Đang kiểm tra nhiệm vụ\u001b[33m...\u001b[0m\n"
      ]
     },
     "metadata": {},
     "output_type": "display_data"
    },
    {
     "data": {
      "text/html": [
       "<pre style=\"white-space:pre;overflow-x:auto;line-height:normal;font-family:Menlo,'DejaVu Sans Mono',consolas,'Courier New',monospace\">\n",
       "<span style=\"color: #008080; text-decoration-color: #008080; font-weight: bold\">&gt;</span> Hết nhiệm vụ, chuyển sang node Compiler &amp; Critic.\n",
       "</pre>\n"
      ],
      "text/plain": [
       "\n",
       "\u001b[1;36m>\u001b[0m Hết nhiệm vụ, chuyển sang node Compiler & Critic.\n"
      ]
     },
     "metadata": {},
     "output_type": "display_data"
    },
    {
     "data": {
      "text/html": [
       "<pre style=\"white-space:pre;overflow-x:auto;line-height:normal;font-family:Menlo,'DejaVu Sans Mono',consolas,'Courier New',monospace\">\n",
       "<span style=\"color: #808000; text-decoration-color: #808000; font-weight: bold\">------- Hoàn thành bước: task_router -------</span>\n",
       "</pre>\n"
      ],
      "text/plain": [
       "\n",
       "\u001b[1;33m------- Hoàn thành bước: task_router -------\u001b[0m\n"
      ]
     },
     "metadata": {},
     "output_type": "display_data"
    },
    {
     "data": {
      "text/html": [
       "<pre style=\"white-space:pre;overflow-x:auto;line-height:normal;font-family:Menlo,'DejaVu Sans Mono',consolas,'Courier New',monospace\">\n",
       "<span style=\"color: #008080; text-decoration-color: #008080; font-weight: bold\">&gt;</span> `Agent: Plan Compiler &amp; Critic` <span style=\"font-weight: bold\">(</span>v6.<span style=\"color: #008080; text-decoration-color: #008080; font-weight: bold\">9</span><span style=\"font-weight: bold\">)</span> đang tổng hợp và đánh giá<span style=\"color: #808000; text-decoration-color: #808000\">...</span>\n",
       "</pre>\n"
      ],
      "text/plain": [
       "\n",
       "\u001b[1;36m>\u001b[0m `Agent: Plan Compiler & Critic` \u001b[1m(\u001b[0mv6.\u001b[1;36m9\u001b[0m\u001b[1m)\u001b[0m đang tổng hợp và đánh giá\u001b[33m...\u001b[0m\n"
      ]
     },
     "metadata": {},
     "output_type": "display_data"
    },
    {
     "data": {
      "text/html": [
       "<pre style=\"white-space:pre;overflow-x:auto;line-height:normal;font-family:Menlo,'DejaVu Sans Mono',consolas,'Courier New',monospace\"><span style=\"color: #808000; text-decoration-color: #808000; font-weight: bold\">⚠️  CRITIC: Kế hoạch thất bại. Tổng thời gian thực tế (</span><span style=\"color: #808000; text-decoration-color: #808000; font-weight: bold\">75</span><span style=\"color: #808000; text-decoration-color: #808000; font-weight: bold\"> phút) nằm ngoài khoảng cho phép (yêu cầu khoảng </span><span style=\"color: #808000; text-decoration-color: #808000; font-weight: bold\">76</span><span style=\"color: #808000; text-decoration-color: #808000; font-weight: bold\"> - </span><span style=\"color: #808000; text-decoration-color: #808000; font-weight: bold\">90</span><span style=\"color: #808000; text-decoration-color: #808000; font-weight: bold\"> </span>\n",
       "<span style=\"color: #808000; text-decoration-color: #808000; font-weight: bold\">phút). Hoặc số lượng hoạt động (</span><span style=\"color: #808000; text-decoration-color: #808000; font-weight: bold\">7</span><span style=\"color: #808000; text-decoration-color: #808000; font-weight: bold\">) quá ít. Hãy lập kế hoạch lại để đảm bảo thời gian và nội dung phù hợp.</span>\n",
       "</pre>\n"
      ],
      "text/plain": [
       "\u001b[1;33m⚠️  CRITIC: Kế hoạch thất bại. Tổng thời gian thực tế \u001b[0m\u001b[1;33m(\u001b[0m\u001b[1;33m75\u001b[0m\u001b[1;33m phút\u001b[0m\u001b[1;33m)\u001b[0m\u001b[1;33m nằm ngoài khoảng cho phép \u001b[0m\u001b[1;33m(\u001b[0m\u001b[1;33myêu cầu khoảng \u001b[0m\u001b[1;33m76\u001b[0m\u001b[1;33m - \u001b[0m\u001b[1;33m90\u001b[0m\u001b[1;33m \u001b[0m\n",
       "\u001b[1;33mphút\u001b[0m\u001b[1;33m)\u001b[0m\u001b[1;33m. Hoặc số lượng hoạt động \u001b[0m\u001b[1;33m(\u001b[0m\u001b[1;33m7\u001b[0m\u001b[1;33m)\u001b[0m\u001b[1;33m quá ít. Hãy lập kế hoạch lại để đảm bảo thời gian và nội dung phù hợp.\u001b[0m\n"
      ]
     },
     "metadata": {},
     "output_type": "display_data"
    },
    {
     "data": {
      "text/html": [
       "<pre style=\"white-space:pre;overflow-x:auto;line-height:normal;font-family:Menlo,'DejaVu Sans Mono',consolas,'Courier New',monospace\">\n",
       "<span style=\"color: #008080; text-decoration-color: #008080; font-weight: bold\">&gt;</span> ROUTER: Phát hiện phản hồi từ Critic. Yêu cầu hệ thống lập kế hoạch lại.\n",
       "</pre>\n"
      ],
      "text/plain": [
       "\n",
       "\u001b[1;36m>\u001b[0m ROUTER: Phát hiện phản hồi từ Critic. Yêu cầu hệ thống lập kế hoạch lại.\n"
      ]
     },
     "metadata": {},
     "output_type": "display_data"
    },
    {
     "data": {
      "text/html": [
       "<pre style=\"white-space:pre;overflow-x:auto;line-height:normal;font-family:Menlo,'DejaVu Sans Mono',consolas,'Courier New',monospace\">\n",
       "<span style=\"color: #808000; text-decoration-color: #808000; font-weight: bold\">------- Hoàn thành bước: plan_compiler_and_critic -------</span>\n",
       "</pre>\n"
      ],
      "text/plain": [
       "\n",
       "\u001b[1;33m------- Hoàn thành bước: plan_compiler_and_critic -------\u001b[0m\n"
      ]
     },
     "metadata": {},
     "output_type": "display_data"
    },
    {
     "data": {
      "text/html": [
       "<pre style=\"white-space:pre;overflow-x:auto;line-height:normal;font-family:Menlo,'DejaVu Sans Mono',consolas,'Courier New',monospace\">\n",
       "<span style=\"color: #008080; text-decoration-color: #008080; font-weight: bold\">&gt;</span> `Agent: Plan Delegator` <span style=\"font-weight: bold\">(</span>v6.<span style=\"color: #008080; text-decoration-color: #008080; font-weight: bold\">9</span><span style=\"font-weight: bold\">)</span> đang lập kế hoạch chi tiết<span style=\"color: #808000; text-decoration-color: #808000\">...</span>\n",
       "</pre>\n"
      ],
      "text/plain": [
       "\n",
       "\u001b[1;36m>\u001b[0m `Agent: Plan Delegator` \u001b[1m(\u001b[0mv6.\u001b[1;36m9\u001b[0m\u001b[1m)\u001b[0m đang lập kế hoạch chi tiết\u001b[33m...\u001b[0m\n"
      ]
     },
     "metadata": {},
     "output_type": "display_data"
    },
    {
     "data": {
      "text/html": [
       "<pre style=\"white-space:pre;overflow-x:auto;line-height:normal;font-family:Menlo,'DejaVu Sans Mono',consolas,'Courier New',monospace\"><span style=\"color: #008000; text-decoration-color: #008000; font-weight: bold\">✔️ Đã tạo </span><span style=\"color: #008000; text-decoration-color: #008000; font-weight: bold\">8</span><span style=\"color: #008000; text-decoration-color: #008000; font-weight: bold\"> nhiệm vụ chi tiết:</span>\n",
       "</pre>\n"
      ],
      "text/plain": [
       "\u001b[1;32m✔️ Đã tạo \u001b[0m\u001b[1;32m8\u001b[0m\u001b[1;32m nhiệm vụ chi tiết:\u001b[0m\n"
      ]
     },
     "metadata": {},
     "output_type": "display_data"
    },
    {
     "data": {
      "text/html": [
       "<pre style=\"white-space:pre;overflow-x:auto;line-height:normal;font-family:Menlo,'DejaVu Sans Mono',consolas,'Courier New',monospace\"><span style=\"font-weight: bold\">[</span>\n",
       "<span style=\"color: #7fbf7f; text-decoration-color: #7fbf7f\">│   </span><span style=\"font-weight: bold\">{</span>\n",
       "<span style=\"color: #7fbf7f; text-decoration-color: #7fbf7f\">│   │   </span><span style=\"color: #008000; text-decoration-color: #008000\">'task_id'</span>: <span style=\"color: #008080; text-decoration-color: #008080; font-weight: bold\">0</span>,\n",
       "<span style=\"color: #7fbf7f; text-decoration-color: #7fbf7f\">│   │   </span><span style=\"color: #008000; text-decoration-color: #008000\">'task_name'</span>: <span style=\"color: #008000; text-decoration-color: #008000\">'Ổn định lớp và kiểm tra bài cũ'</span>,\n",
       "<span style=\"color: #7fbf7f; text-decoration-color: #7fbf7f\">│   │   </span><span style=\"color: #008000; text-decoration-color: #008000\">'task_description'</span>: <span style=\"color: #008000; text-decoration-color: #008000\">'Giáo viên ổn định lớp, kiểm tra bài cũ về các kiến thức đã học trước đó'</span>,\n",
       "<span style=\"color: #7fbf7f; text-decoration-color: #7fbf7f\">│   │   </span><span style=\"color: #008000; text-decoration-color: #008000\">'estimated_duration'</span>: <span style=\"color: #008080; text-decoration-color: #008080; font-weight: bold\">5</span>,\n",
       "<span style=\"color: #7fbf7f; text-decoration-color: #7fbf7f\">│   │   </span><span style=\"color: #008000; text-decoration-color: #008000\">'status'</span>: <span style=\"color: #008000; text-decoration-color: #008000\">'pending'</span>\n",
       "<span style=\"color: #7fbf7f; text-decoration-color: #7fbf7f\">│   </span><span style=\"font-weight: bold\">}</span>,\n",
       "<span style=\"color: #7fbf7f; text-decoration-color: #7fbf7f\">│   </span><span style=\"font-weight: bold\">{</span>\n",
       "<span style=\"color: #7fbf7f; text-decoration-color: #7fbf7f\">│   │   </span><span style=\"color: #008000; text-decoration-color: #008000\">'task_id'</span>: <span style=\"color: #008080; text-decoration-color: #008080; font-weight: bold\">1</span>,\n",
       "<span style=\"color: #7fbf7f; text-decoration-color: #7fbf7f\">│   │   </span><span style=\"color: #008000; text-decoration-color: #008000\">'task_name'</span>: <span style=\"color: #008000; text-decoration-color: #008000\">'Giới thiệu bài mới'</span>,\n",
       "<span style=\"color: #7fbf7f; text-decoration-color: #7fbf7f\">│   │   </span><span style=\"color: #008000; text-decoration-color: #008000\">'task_description'</span>: <span style=\"color: #008000; text-decoration-color: #008000\">'Giáo viên giới thiệu về đường tròn ngoại tiếp và đường tròn nội tiếp, nêu vấn đề và mục tiêu của bài học'</span>,\n",
       "<span style=\"color: #7fbf7f; text-decoration-color: #7fbf7f\">│   │   </span><span style=\"color: #008000; text-decoration-color: #008000\">'estimated_duration'</span>: <span style=\"color: #008080; text-decoration-color: #008080; font-weight: bold\">5</span>,\n",
       "<span style=\"color: #7fbf7f; text-decoration-color: #7fbf7f\">│   │   </span><span style=\"color: #008000; text-decoration-color: #008000\">'status'</span>: <span style=\"color: #008000; text-decoration-color: #008000\">'pending'</span>\n",
       "<span style=\"color: #7fbf7f; text-decoration-color: #7fbf7f\">│   </span><span style=\"font-weight: bold\">}</span>,\n",
       "<span style=\"color: #7fbf7f; text-decoration-color: #7fbf7f\">│   </span><span style=\"font-weight: bold\">{</span>\n",
       "<span style=\"color: #7fbf7f; text-decoration-color: #7fbf7f\">│   │   </span><span style=\"color: #008000; text-decoration-color: #008000\">'task_id'</span>: <span style=\"color: #008080; text-decoration-color: #008080; font-weight: bold\">2</span>,\n",
       "<span style=\"color: #7fbf7f; text-decoration-color: #7fbf7f\">│   │   </span><span style=\"color: #008000; text-decoration-color: #008000\">'task_name'</span>: <span style=\"color: #008000; text-decoration-color: #008000\">'Giảng giải về đường tròn ngoại tiếp'</span>,\n",
       "<span style=\"color: #7fbf7f; text-decoration-color: #7fbf7f\">│   │   </span><span style=\"color: #008000; text-decoration-color: #008000\">'task_description'</span>: <span style=\"color: #008000; text-decoration-color: #008000\">'Giáo viên giảng giải về định nghĩa và các tính chất của đường tròn ngoại tiếp'</span>,\n",
       "<span style=\"color: #7fbf7f; text-decoration-color: #7fbf7f\">│   │   </span><span style=\"color: #008000; text-decoration-color: #008000\">'estimated_duration'</span>: <span style=\"color: #008080; text-decoration-color: #008080; font-weight: bold\">15</span>,\n",
       "<span style=\"color: #7fbf7f; text-decoration-color: #7fbf7f\">│   │   </span><span style=\"color: #008000; text-decoration-color: #008000\">'status'</span>: <span style=\"color: #008000; text-decoration-color: #008000\">'pending'</span>\n",
       "<span style=\"color: #7fbf7f; text-decoration-color: #7fbf7f\">│   </span><span style=\"font-weight: bold\">}</span>,\n",
       "<span style=\"color: #7fbf7f; text-decoration-color: #7fbf7f\">│   </span><span style=\"font-weight: bold\">{</span>\n",
       "<span style=\"color: #7fbf7f; text-decoration-color: #7fbf7f\">│   │   </span><span style=\"color: #008000; text-decoration-color: #008000\">'task_id'</span>: <span style=\"color: #008080; text-decoration-color: #008080; font-weight: bold\">3</span>,\n",
       "<span style=\"color: #7fbf7f; text-decoration-color: #7fbf7f\">│   │   </span><span style=\"color: #008000; text-decoration-color: #008000\">'task_name'</span>: <span style=\"color: #008000; text-decoration-color: #008000\">'Luyện tập về đường tròn ngoại tiếp'</span>,\n",
       "<span style=\"color: #7fbf7f; text-decoration-color: #7fbf7f\">│   │   </span><span style=\"color: #008000; text-decoration-color: #008000\">'task_description'</span>: <span style=\"color: #008000; text-decoration-color: #008000\">'Học sinh luyện tập các bài tập về đường tròn ngoại tiếp dưới sự hướng dẫn của giáo viên'</span>,\n",
       "<span style=\"color: #7fbf7f; text-decoration-color: #7fbf7f\">│   │   </span><span style=\"color: #008000; text-decoration-color: #008000\">'estimated_duration'</span>: <span style=\"color: #008080; text-decoration-color: #008080; font-weight: bold\">10</span>,\n",
       "<span style=\"color: #7fbf7f; text-decoration-color: #7fbf7f\">│   │   </span><span style=\"color: #008000; text-decoration-color: #008000\">'status'</span>: <span style=\"color: #008000; text-decoration-color: #008000\">'pending'</span>\n",
       "<span style=\"color: #7fbf7f; text-decoration-color: #7fbf7f\">│   </span><span style=\"font-weight: bold\">}</span>,\n",
       "<span style=\"color: #7fbf7f; text-decoration-color: #7fbf7f\">│   </span><span style=\"font-weight: bold\">{</span>\n",
       "<span style=\"color: #7fbf7f; text-decoration-color: #7fbf7f\">│   │   </span><span style=\"color: #008000; text-decoration-color: #008000\">'task_id'</span>: <span style=\"color: #008080; text-decoration-color: #008080; font-weight: bold\">4</span>,\n",
       "<span style=\"color: #7fbf7f; text-decoration-color: #7fbf7f\">│   │   </span><span style=\"color: #008000; text-decoration-color: #008000\">'task_name'</span>: <span style=\"color: #008000; text-decoration-color: #008000\">'Giảng giải về đường tròn nội tiếp'</span>,\n",
       "<span style=\"color: #7fbf7f; text-decoration-color: #7fbf7f\">│   │   </span><span style=\"color: #008000; text-decoration-color: #008000\">'task_description'</span>: <span style=\"color: #008000; text-decoration-color: #008000\">'Giáo viên giảng giải về định nghĩa và các tính chất của đường tròn nội tiếp'</span>,\n",
       "<span style=\"color: #7fbf7f; text-decoration-color: #7fbf7f\">│   │   </span><span style=\"color: #008000; text-decoration-color: #008000\">'estimated_duration'</span>: <span style=\"color: #008080; text-decoration-color: #008080; font-weight: bold\">15</span>,\n",
       "<span style=\"color: #7fbf7f; text-decoration-color: #7fbf7f\">│   │   </span><span style=\"color: #008000; text-decoration-color: #008000\">'status'</span>: <span style=\"color: #008000; text-decoration-color: #008000\">'pending'</span>\n",
       "<span style=\"color: #7fbf7f; text-decoration-color: #7fbf7f\">│   </span><span style=\"font-weight: bold\">}</span>,\n",
       "<span style=\"color: #7fbf7f; text-decoration-color: #7fbf7f\">│   </span><span style=\"font-weight: bold\">{</span>\n",
       "<span style=\"color: #7fbf7f; text-decoration-color: #7fbf7f\">│   │   </span><span style=\"color: #008000; text-decoration-color: #008000\">'task_id'</span>: <span style=\"color: #008080; text-decoration-color: #008080; font-weight: bold\">5</span>,\n",
       "<span style=\"color: #7fbf7f; text-decoration-color: #7fbf7f\">│   │   </span><span style=\"color: #008000; text-decoration-color: #008000\">'task_name'</span>: <span style=\"color: #008000; text-decoration-color: #008000\">'Luyện tập về đường tròn nội tiếp'</span>,\n",
       "<span style=\"color: #7fbf7f; text-decoration-color: #7fbf7f\">│   │   </span><span style=\"color: #008000; text-decoration-color: #008000\">'task_description'</span>: <span style=\"color: #008000; text-decoration-color: #008000\">'Học sinh luyện tập các bài tập về đường tròn nội tiếp dưới sự hướng dẫn của giáo viên'</span>,\n",
       "<span style=\"color: #7fbf7f; text-decoration-color: #7fbf7f\">│   │   </span><span style=\"color: #008000; text-decoration-color: #008000\">'estimated_duration'</span>: <span style=\"color: #008080; text-decoration-color: #008080; font-weight: bold\">10</span>,\n",
       "<span style=\"color: #7fbf7f; text-decoration-color: #7fbf7f\">│   │   </span><span style=\"color: #008000; text-decoration-color: #008000\">'status'</span>: <span style=\"color: #008000; text-decoration-color: #008000\">'pending'</span>\n",
       "<span style=\"color: #7fbf7f; text-decoration-color: #7fbf7f\">│   </span><span style=\"font-weight: bold\">}</span>,\n",
       "<span style=\"color: #7fbf7f; text-decoration-color: #7fbf7f\">│   </span><span style=\"font-weight: bold\">{</span>\n",
       "<span style=\"color: #7fbf7f; text-decoration-color: #7fbf7f\">│   │   </span><span style=\"color: #008000; text-decoration-color: #008000\">'task_id'</span>: <span style=\"color: #008080; text-decoration-color: #008080; font-weight: bold\">6</span>,\n",
       "<span style=\"color: #7fbf7f; text-decoration-color: #7fbf7f\">│   │   </span><span style=\"color: #008000; text-decoration-color: #008000\">'task_name'</span>: <span style=\"color: #008000; text-decoration-color: #008000\">'Vận dụng về đường tròn ngoại tiếp và đường tròn nội tiếp'</span>,\n",
       "<span style=\"color: #7fbf7f; text-decoration-color: #7fbf7f\">│   │   </span><span style=\"color: #008000; text-decoration-color: #008000\">'task_description'</span>: <span style=\"color: #008000; text-decoration-color: #008000\">'Học sinh vận dụng các kiến thức đã học để giải quyết các vấn đề liên quan đến đường tròn ngoại tiếp và đường tròn nội tiếp'</span>,\n",
       "<span style=\"color: #7fbf7f; text-decoration-color: #7fbf7f\">│   │   </span><span style=\"color: #008000; text-decoration-color: #008000\">'estimated_duration'</span>: <span style=\"color: #008080; text-decoration-color: #008080; font-weight: bold\">20</span>,\n",
       "<span style=\"color: #7fbf7f; text-decoration-color: #7fbf7f\">│   │   </span><span style=\"color: #008000; text-decoration-color: #008000\">'status'</span>: <span style=\"color: #008000; text-decoration-color: #008000\">'pending'</span>\n",
       "<span style=\"color: #7fbf7f; text-decoration-color: #7fbf7f\">│   </span><span style=\"font-weight: bold\">}</span>,\n",
       "<span style=\"color: #7fbf7f; text-decoration-color: #7fbf7f\">│   </span><span style=\"font-weight: bold\">{</span>\n",
       "<span style=\"color: #7fbf7f; text-decoration-color: #7fbf7f\">│   │   </span><span style=\"color: #008000; text-decoration-color: #008000\">'task_id'</span>: <span style=\"color: #008080; text-decoration-color: #008080; font-weight: bold\">7</span>,\n",
       "<span style=\"color: #7fbf7f; text-decoration-color: #7fbf7f\">│   │   </span><span style=\"color: #008000; text-decoration-color: #008000\">'task_name'</span>: <span style=\"color: #008000; text-decoration-color: #008000\">'Tổng kết và dặn dò'</span>,\n",
       "<span style=\"color: #7fbf7f; text-decoration-color: #7fbf7f\">│   │   </span><span style=\"color: #008000; text-decoration-color: #008000\">'task_description'</span>: <span style=\"color: #008000; text-decoration-color: #008000\">'Giáo viên tổng kết bài học, dặn dò học sinh về các nhiệm vụ cần hoàn thành'</span>,\n",
       "<span style=\"color: #7fbf7f; text-decoration-color: #7fbf7f\">│   │   </span><span style=\"color: #008000; text-decoration-color: #008000\">'estimated_duration'</span>: <span style=\"color: #008080; text-decoration-color: #008080; font-weight: bold\">5</span>,\n",
       "<span style=\"color: #7fbf7f; text-decoration-color: #7fbf7f\">│   │   </span><span style=\"color: #008000; text-decoration-color: #008000\">'status'</span>: <span style=\"color: #008000; text-decoration-color: #008000\">'pending'</span>\n",
       "<span style=\"color: #7fbf7f; text-decoration-color: #7fbf7f\">│   </span><span style=\"font-weight: bold\">}</span>\n",
       "<span style=\"font-weight: bold\">]</span>\n",
       "</pre>\n"
      ],
      "text/plain": [
       "\u001b[1m[\u001b[0m\n",
       "\u001b[2;32m│   \u001b[0m\u001b[1m{\u001b[0m\n",
       "\u001b[2;32m│   │   \u001b[0m\u001b[32m'task_id'\u001b[0m: \u001b[1;36m0\u001b[0m,\n",
       "\u001b[2;32m│   │   \u001b[0m\u001b[32m'task_name'\u001b[0m: \u001b[32m'Ổn định lớp và kiểm tra bài cũ'\u001b[0m,\n",
       "\u001b[2;32m│   │   \u001b[0m\u001b[32m'task_description'\u001b[0m: \u001b[32m'Giáo viên ổn định lớp, kiểm tra bài cũ về các kiến thức đã học trước đó'\u001b[0m,\n",
       "\u001b[2;32m│   │   \u001b[0m\u001b[32m'estimated_duration'\u001b[0m: \u001b[1;36m5\u001b[0m,\n",
       "\u001b[2;32m│   │   \u001b[0m\u001b[32m'status'\u001b[0m: \u001b[32m'pending'\u001b[0m\n",
       "\u001b[2;32m│   \u001b[0m\u001b[1m}\u001b[0m,\n",
       "\u001b[2;32m│   \u001b[0m\u001b[1m{\u001b[0m\n",
       "\u001b[2;32m│   │   \u001b[0m\u001b[32m'task_id'\u001b[0m: \u001b[1;36m1\u001b[0m,\n",
       "\u001b[2;32m│   │   \u001b[0m\u001b[32m'task_name'\u001b[0m: \u001b[32m'Giới thiệu bài mới'\u001b[0m,\n",
       "\u001b[2;32m│   │   \u001b[0m\u001b[32m'task_description'\u001b[0m: \u001b[32m'Giáo viên giới thiệu về đường tròn ngoại tiếp và đường tròn nội tiếp, nêu vấn đề và mục tiêu của bài học'\u001b[0m,\n",
       "\u001b[2;32m│   │   \u001b[0m\u001b[32m'estimated_duration'\u001b[0m: \u001b[1;36m5\u001b[0m,\n",
       "\u001b[2;32m│   │   \u001b[0m\u001b[32m'status'\u001b[0m: \u001b[32m'pending'\u001b[0m\n",
       "\u001b[2;32m│   \u001b[0m\u001b[1m}\u001b[0m,\n",
       "\u001b[2;32m│   \u001b[0m\u001b[1m{\u001b[0m\n",
       "\u001b[2;32m│   │   \u001b[0m\u001b[32m'task_id'\u001b[0m: \u001b[1;36m2\u001b[0m,\n",
       "\u001b[2;32m│   │   \u001b[0m\u001b[32m'task_name'\u001b[0m: \u001b[32m'Giảng giải về đường tròn ngoại tiếp'\u001b[0m,\n",
       "\u001b[2;32m│   │   \u001b[0m\u001b[32m'task_description'\u001b[0m: \u001b[32m'Giáo viên giảng giải về định nghĩa và các tính chất của đường tròn ngoại tiếp'\u001b[0m,\n",
       "\u001b[2;32m│   │   \u001b[0m\u001b[32m'estimated_duration'\u001b[0m: \u001b[1;36m15\u001b[0m,\n",
       "\u001b[2;32m│   │   \u001b[0m\u001b[32m'status'\u001b[0m: \u001b[32m'pending'\u001b[0m\n",
       "\u001b[2;32m│   \u001b[0m\u001b[1m}\u001b[0m,\n",
       "\u001b[2;32m│   \u001b[0m\u001b[1m{\u001b[0m\n",
       "\u001b[2;32m│   │   \u001b[0m\u001b[32m'task_id'\u001b[0m: \u001b[1;36m3\u001b[0m,\n",
       "\u001b[2;32m│   │   \u001b[0m\u001b[32m'task_name'\u001b[0m: \u001b[32m'Luyện tập về đường tròn ngoại tiếp'\u001b[0m,\n",
       "\u001b[2;32m│   │   \u001b[0m\u001b[32m'task_description'\u001b[0m: \u001b[32m'Học sinh luyện tập các bài tập về đường tròn ngoại tiếp dưới sự hướng dẫn của giáo viên'\u001b[0m,\n",
       "\u001b[2;32m│   │   \u001b[0m\u001b[32m'estimated_duration'\u001b[0m: \u001b[1;36m10\u001b[0m,\n",
       "\u001b[2;32m│   │   \u001b[0m\u001b[32m'status'\u001b[0m: \u001b[32m'pending'\u001b[0m\n",
       "\u001b[2;32m│   \u001b[0m\u001b[1m}\u001b[0m,\n",
       "\u001b[2;32m│   \u001b[0m\u001b[1m{\u001b[0m\n",
       "\u001b[2;32m│   │   \u001b[0m\u001b[32m'task_id'\u001b[0m: \u001b[1;36m4\u001b[0m,\n",
       "\u001b[2;32m│   │   \u001b[0m\u001b[32m'task_name'\u001b[0m: \u001b[32m'Giảng giải về đường tròn nội tiếp'\u001b[0m,\n",
       "\u001b[2;32m│   │   \u001b[0m\u001b[32m'task_description'\u001b[0m: \u001b[32m'Giáo viên giảng giải về định nghĩa và các tính chất của đường tròn nội tiếp'\u001b[0m,\n",
       "\u001b[2;32m│   │   \u001b[0m\u001b[32m'estimated_duration'\u001b[0m: \u001b[1;36m15\u001b[0m,\n",
       "\u001b[2;32m│   │   \u001b[0m\u001b[32m'status'\u001b[0m: \u001b[32m'pending'\u001b[0m\n",
       "\u001b[2;32m│   \u001b[0m\u001b[1m}\u001b[0m,\n",
       "\u001b[2;32m│   \u001b[0m\u001b[1m{\u001b[0m\n",
       "\u001b[2;32m│   │   \u001b[0m\u001b[32m'task_id'\u001b[0m: \u001b[1;36m5\u001b[0m,\n",
       "\u001b[2;32m│   │   \u001b[0m\u001b[32m'task_name'\u001b[0m: \u001b[32m'Luyện tập về đường tròn nội tiếp'\u001b[0m,\n",
       "\u001b[2;32m│   │   \u001b[0m\u001b[32m'task_description'\u001b[0m: \u001b[32m'Học sinh luyện tập các bài tập về đường tròn nội tiếp dưới sự hướng dẫn của giáo viên'\u001b[0m,\n",
       "\u001b[2;32m│   │   \u001b[0m\u001b[32m'estimated_duration'\u001b[0m: \u001b[1;36m10\u001b[0m,\n",
       "\u001b[2;32m│   │   \u001b[0m\u001b[32m'status'\u001b[0m: \u001b[32m'pending'\u001b[0m\n",
       "\u001b[2;32m│   \u001b[0m\u001b[1m}\u001b[0m,\n",
       "\u001b[2;32m│   \u001b[0m\u001b[1m{\u001b[0m\n",
       "\u001b[2;32m│   │   \u001b[0m\u001b[32m'task_id'\u001b[0m: \u001b[1;36m6\u001b[0m,\n",
       "\u001b[2;32m│   │   \u001b[0m\u001b[32m'task_name'\u001b[0m: \u001b[32m'Vận dụng về đường tròn ngoại tiếp và đường tròn nội tiếp'\u001b[0m,\n",
       "\u001b[2;32m│   │   \u001b[0m\u001b[32m'task_description'\u001b[0m: \u001b[32m'Học sinh vận dụng các kiến thức đã học để giải quyết các vấn đề liên quan đến đường tròn ngoại tiếp và đường tròn nội tiếp'\u001b[0m,\n",
       "\u001b[2;32m│   │   \u001b[0m\u001b[32m'estimated_duration'\u001b[0m: \u001b[1;36m20\u001b[0m,\n",
       "\u001b[2;32m│   │   \u001b[0m\u001b[32m'status'\u001b[0m: \u001b[32m'pending'\u001b[0m\n",
       "\u001b[2;32m│   \u001b[0m\u001b[1m}\u001b[0m,\n",
       "\u001b[2;32m│   \u001b[0m\u001b[1m{\u001b[0m\n",
       "\u001b[2;32m│   │   \u001b[0m\u001b[32m'task_id'\u001b[0m: \u001b[1;36m7\u001b[0m,\n",
       "\u001b[2;32m│   │   \u001b[0m\u001b[32m'task_name'\u001b[0m: \u001b[32m'Tổng kết và dặn dò'\u001b[0m,\n",
       "\u001b[2;32m│   │   \u001b[0m\u001b[32m'task_description'\u001b[0m: \u001b[32m'Giáo viên tổng kết bài học, dặn dò học sinh về các nhiệm vụ cần hoàn thành'\u001b[0m,\n",
       "\u001b[2;32m│   │   \u001b[0m\u001b[32m'estimated_duration'\u001b[0m: \u001b[1;36m5\u001b[0m,\n",
       "\u001b[2;32m│   │   \u001b[0m\u001b[32m'status'\u001b[0m: \u001b[32m'pending'\u001b[0m\n",
       "\u001b[2;32m│   \u001b[0m\u001b[1m}\u001b[0m\n",
       "\u001b[1m]\u001b[0m\n"
      ]
     },
     "metadata": {},
     "output_type": "display_data"
    },
    {
     "data": {
      "text/html": [
       "<pre style=\"white-space:pre;overflow-x:auto;line-height:normal;font-family:Menlo,'DejaVu Sans Mono',consolas,'Courier New',monospace\">\n",
       "<span style=\"color: #808000; text-decoration-color: #808000; font-weight: bold\">------- Hoàn thành bước: plan_delegator -------</span>\n",
       "</pre>\n"
      ],
      "text/plain": [
       "\n",
       "\u001b[1;33m------- Hoàn thành bước: plan_delegator -------\u001b[0m\n"
      ]
     },
     "metadata": {},
     "output_type": "display_data"
    },
    {
     "data": {
      "text/html": [
       "<pre style=\"white-space:pre;overflow-x:auto;line-height:normal;font-family:Menlo,'DejaVu Sans Mono',consolas,'Courier New',monospace\">\n",
       "<span style=\"color: #008080; text-decoration-color: #008080; font-weight: bold\">&gt;</span> `Router`: Đang kiểm tra nhiệm vụ<span style=\"color: #808000; text-decoration-color: #808000\">...</span>\n",
       "</pre>\n"
      ],
      "text/plain": [
       "\n",
       "\u001b[1;36m>\u001b[0m `Router`: Đang kiểm tra nhiệm vụ\u001b[33m...\u001b[0m\n"
      ]
     },
     "metadata": {},
     "output_type": "display_data"
    },
    {
     "data": {
      "text/html": [
       "<pre style=\"white-space:pre;overflow-x:auto;line-height:normal;font-family:Menlo,'DejaVu Sans Mono',consolas,'Courier New',monospace\">\n",
       "<span style=\"color: #008080; text-decoration-color: #008080; font-weight: bold\">&gt;</span> Nhiệm vụ tiếp theo: <span style=\"color: #008000; text-decoration-color: #008000\">'Ổn định lớp và kiểm tra bài cũ'</span> <span style=\"font-weight: bold\">(</span>ID: <span style=\"color: #008080; text-decoration-color: #008080; font-weight: bold\">0</span><span style=\"font-weight: bold\">)</span>\n",
       "</pre>\n"
      ],
      "text/plain": [
       "\n",
       "\u001b[1;36m>\u001b[0m Nhiệm vụ tiếp theo: \u001b[32m'Ổn định lớp và kiểm tra bài cũ'\u001b[0m \u001b[1m(\u001b[0mID: \u001b[1;36m0\u001b[0m\u001b[1m)\u001b[0m\n"
      ]
     },
     "metadata": {},
     "output_type": "display_data"
    },
    {
     "data": {
      "text/html": [
       "<pre style=\"white-space:pre;overflow-x:auto;line-height:normal;font-family:Menlo,'DejaVu Sans Mono',consolas,'Courier New',monospace\">\n",
       "<span style=\"color: #808000; text-decoration-color: #808000; font-weight: bold\">------- Hoàn thành bước: task_router -------</span>\n",
       "</pre>\n"
      ],
      "text/plain": [
       "\n",
       "\u001b[1;33m------- Hoàn thành bước: task_router -------\u001b[0m\n"
      ]
     },
     "metadata": {},
     "output_type": "display_data"
    },
    {
     "data": {
      "text/html": [
       "<pre style=\"white-space:pre;overflow-x:auto;line-height:normal;font-family:Menlo,'DejaVu Sans Mono',consolas,'Courier New',monospace\">\n",
       "<span style=\"color: #008080; text-decoration-color: #008080; font-weight: bold\">&gt;</span> `Agent: Task Dispatcher` <span style=\"font-weight: bold\">(</span>v6.<span style=\"color: #008080; text-decoration-color: #008080; font-weight: bold\">9</span><span style=\"font-weight: bold\">)</span> Bắt đầu<span style=\"color: #808000; text-decoration-color: #808000\">...</span>\n",
       "</pre>\n"
      ],
      "text/plain": [
       "\n",
       "\u001b[1;36m>\u001b[0m `Agent: Task Dispatcher` \u001b[1m(\u001b[0mv6.\u001b[1;36m9\u001b[0m\u001b[1m)\u001b[0m Bắt đầu\u001b[33m...\u001b[0m\n"
      ]
     },
     "metadata": {},
     "output_type": "display_data"
    },
    {
     "data": {
      "text/html": [
       "<pre style=\"white-space:pre;overflow-x:auto;line-height:normal;font-family:Menlo,'DejaVu Sans Mono',consolas,'Courier New',monospace\">\n",
       "<span style=\"color: #008080; text-decoration-color: #008080; font-weight: bold\">&gt;</span> --- 🚚 `Dispatcher`: Giao nhiệm vụ cho `theory_synthesizer`.\n",
       "</pre>\n"
      ],
      "text/plain": [
       "\n",
       "\u001b[1;36m>\u001b[0m --- 🚚 `Dispatcher`: Giao nhiệm vụ cho `theory_synthesizer`.\n"
      ]
     },
     "metadata": {},
     "output_type": "display_data"
    },
    {
     "data": {
      "text/html": [
       "<pre style=\"white-space:pre;overflow-x:auto;line-height:normal;font-family:Menlo,'DejaVu Sans Mono',consolas,'Courier New',monospace\">\n",
       "<span style=\"color: #808000; text-decoration-color: #808000; font-weight: bold\">------- Hoàn thành bước: task_dispatcher -------</span>\n",
       "</pre>\n"
      ],
      "text/plain": [
       "\n",
       "\u001b[1;33m------- Hoàn thành bước: task_dispatcher -------\u001b[0m\n"
      ]
     },
     "metadata": {},
     "output_type": "display_data"
    },
    {
     "data": {
      "text/html": [
       "<pre style=\"white-space:pre;overflow-x:auto;line-height:normal;font-family:Menlo,'DejaVu Sans Mono',consolas,'Courier New',monospace\">\n",
       "<span style=\"color: #008080; text-decoration-color: #008080; font-weight: bold\">&gt;</span> `Agent: Theory Synthesizer` <span style=\"font-weight: bold\">(</span>v6.<span style=\"color: #008080; text-decoration-color: #008080; font-weight: bold\">9</span><span style=\"font-weight: bold\">)</span> đang thiết kế hoạt động lý thuyết<span style=\"color: #808000; text-decoration-color: #808000\">...</span>\n",
       "</pre>\n"
      ],
      "text/plain": [
       "\n",
       "\u001b[1;36m>\u001b[0m `Agent: Theory Synthesizer` \u001b[1m(\u001b[0mv6.\u001b[1;36m9\u001b[0m\u001b[1m)\u001b[0m đang thiết kế hoạt động lý thuyết\u001b[33m...\u001b[0m\n"
      ]
     },
     "metadata": {},
     "output_type": "display_data"
    },
    {
     "data": {
      "text/html": [
       "<pre style=\"white-space:pre;overflow-x:auto;line-height:normal;font-family:Menlo,'DejaVu Sans Mono',consolas,'Courier New',monospace\">\n",
       "<span style=\"color: #008080; text-decoration-color: #008080; font-weight: bold\">&gt;</span> Thời gian LLM đề xuất: <span style=\"color: #008080; text-decoration-color: #008080; font-weight: bold\">5</span> phút. Ghi đè bằng thời gian kế hoạch: <span style=\"color: #008080; text-decoration-color: #008080; font-weight: bold\">5</span> phút.\n",
       "</pre>\n"
      ],
      "text/plain": [
       "\n",
       "\u001b[1;36m>\u001b[0m Thời gian LLM đề xuất: \u001b[1;36m5\u001b[0m phút. Ghi đè bằng thời gian kế hoạch: \u001b[1;36m5\u001b[0m phút.\n"
      ]
     },
     "metadata": {},
     "output_type": "display_data"
    },
    {
     "data": {
      "text/html": [
       "<pre style=\"white-space:pre;overflow-x:auto;line-height:normal;font-family:Menlo,'DejaVu Sans Mono',consolas,'Courier New',monospace\"><span style=\"color: #008000; text-decoration-color: #008000; font-weight: bold\">✔️ Hoạt động lý thuyết đã thiết kế:</span>\n",
       "</pre>\n"
      ],
      "text/plain": [
       "\u001b[1;32m✔️ Hoạt động lý thuyết đã thiết kế:\u001b[0m\n"
      ]
     },
     "metadata": {},
     "output_type": "display_data"
    },
    {
     "data": {
      "text/html": [
       "<pre style=\"white-space:pre;overflow-x:auto;line-height:normal;font-family:Menlo,'DejaVu Sans Mono',consolas,'Courier New',monospace\"><span style=\"font-weight: bold\">{</span>\n",
       "<span style=\"color: #7fbf7f; text-decoration-color: #7fbf7f\">│   </span><span style=\"color: #008000; text-decoration-color: #008000\">'activity_name'</span>: <span style=\"color: #008000; text-decoration-color: #008000\">'Kiểm tra bài cũ'</span>,\n",
       "<span style=\"color: #7fbf7f; text-decoration-color: #7fbf7f\">│   </span><span style=\"color: #008000; text-decoration-color: #008000\">'description'</span>: <span style=\"color: #008000; text-decoration-color: #008000\">'Giáo viên ổn định lớp, kiểm tra bài cũ về các kiến thức đã học trước đó'</span>,\n",
       "<span style=\"color: #7fbf7f; text-decoration-color: #7fbf7f\">│   </span><span style=\"color: #008000; text-decoration-color: #008000\">'duration_minutes'</span>: <span style=\"color: #008080; text-decoration-color: #008080; font-weight: bold\">5</span>,\n",
       "<span style=\"color: #7fbf7f; text-decoration-color: #7fbf7f\">│   </span><span style=\"color: #008000; text-decoration-color: #008000\">'activity_type'</span>: <span style=\"color: #008000; text-decoration-color: #008000\">'Giảng giải lý thuyết'</span>,\n",
       "<span style=\"color: #7fbf7f; text-decoration-color: #7fbf7f\">│   </span><span style=\"color: #008000; text-decoration-color: #008000\">'solution_guide'</span>: <span style=\"color: #008000; text-decoration-color: #008000\">'Giáo viên sẽ hỏi các câu hỏi để kiểm tra kiến thức của học sinh về các nội dung đã học trước đó.'</span>\n",
       "<span style=\"font-weight: bold\">}</span>\n",
       "</pre>\n"
      ],
      "text/plain": [
       "\u001b[1m{\u001b[0m\n",
       "\u001b[2;32m│   \u001b[0m\u001b[32m'activity_name'\u001b[0m: \u001b[32m'Kiểm tra bài cũ'\u001b[0m,\n",
       "\u001b[2;32m│   \u001b[0m\u001b[32m'description'\u001b[0m: \u001b[32m'Giáo viên ổn định lớp, kiểm tra bài cũ về các kiến thức đã học trước đó'\u001b[0m,\n",
       "\u001b[2;32m│   \u001b[0m\u001b[32m'duration_minutes'\u001b[0m: \u001b[1;36m5\u001b[0m,\n",
       "\u001b[2;32m│   \u001b[0m\u001b[32m'activity_type'\u001b[0m: \u001b[32m'Giảng giải lý thuyết'\u001b[0m,\n",
       "\u001b[2;32m│   \u001b[0m\u001b[32m'solution_guide'\u001b[0m: \u001b[32m'Giáo viên sẽ hỏi các câu hỏi để kiểm tra kiến thức của học sinh về các nội dung đã học trước đó.'\u001b[0m\n",
       "\u001b[1m}\u001b[0m\n"
      ]
     },
     "metadata": {},
     "output_type": "display_data"
    },
    {
     "data": {
      "text/html": [
       "<pre style=\"white-space:pre;overflow-x:auto;line-height:normal;font-family:Menlo,'DejaVu Sans Mono',consolas,'Courier New',monospace\">\n",
       "<span style=\"color: #808000; text-decoration-color: #808000; font-weight: bold\">------- Hoàn thành bước: theory_synthesizer -------</span>\n",
       "</pre>\n"
      ],
      "text/plain": [
       "\n",
       "\u001b[1;33m------- Hoàn thành bước: theory_synthesizer -------\u001b[0m\n"
      ]
     },
     "metadata": {},
     "output_type": "display_data"
    },
    {
     "data": {
      "text/html": [
       "<pre style=\"white-space:pre;overflow-x:auto;line-height:normal;font-family:Menlo,'DejaVu Sans Mono',consolas,'Courier New',monospace\">\n",
       "<span style=\"color: #808000; text-decoration-color: #808000; font-weight: bold\">------- Hoàn thành bước: mark_task_complete -------</span>\n",
       "</pre>\n"
      ],
      "text/plain": [
       "\n",
       "\u001b[1;33m------- Hoàn thành bước: mark_task_complete -------\u001b[0m\n"
      ]
     },
     "metadata": {},
     "output_type": "display_data"
    },
    {
     "data": {
      "text/html": [
       "<pre style=\"white-space:pre;overflow-x:auto;line-height:normal;font-family:Menlo,'DejaVu Sans Mono',consolas,'Courier New',monospace\">\n",
       "<span style=\"color: #008080; text-decoration-color: #008080; font-weight: bold\">&gt;</span> `Router`: Đang kiểm tra nhiệm vụ<span style=\"color: #808000; text-decoration-color: #808000\">...</span>\n",
       "</pre>\n"
      ],
      "text/plain": [
       "\n",
       "\u001b[1;36m>\u001b[0m `Router`: Đang kiểm tra nhiệm vụ\u001b[33m...\u001b[0m\n"
      ]
     },
     "metadata": {},
     "output_type": "display_data"
    },
    {
     "data": {
      "text/html": [
       "<pre style=\"white-space:pre;overflow-x:auto;line-height:normal;font-family:Menlo,'DejaVu Sans Mono',consolas,'Courier New',monospace\">\n",
       "<span style=\"color: #008080; text-decoration-color: #008080; font-weight: bold\">&gt;</span> Nhiệm vụ tiếp theo: <span style=\"color: #008000; text-decoration-color: #008000\">'Giới thiệu bài mới'</span> <span style=\"font-weight: bold\">(</span>ID: <span style=\"color: #008080; text-decoration-color: #008080; font-weight: bold\">1</span><span style=\"font-weight: bold\">)</span>\n",
       "</pre>\n"
      ],
      "text/plain": [
       "\n",
       "\u001b[1;36m>\u001b[0m Nhiệm vụ tiếp theo: \u001b[32m'Giới thiệu bài mới'\u001b[0m \u001b[1m(\u001b[0mID: \u001b[1;36m1\u001b[0m\u001b[1m)\u001b[0m\n"
      ]
     },
     "metadata": {},
     "output_type": "display_data"
    },
    {
     "data": {
      "text/html": [
       "<pre style=\"white-space:pre;overflow-x:auto;line-height:normal;font-family:Menlo,'DejaVu Sans Mono',consolas,'Courier New',monospace\">\n",
       "<span style=\"color: #808000; text-decoration-color: #808000; font-weight: bold\">------- Hoàn thành bước: task_router -------</span>\n",
       "</pre>\n"
      ],
      "text/plain": [
       "\n",
       "\u001b[1;33m------- Hoàn thành bước: task_router -------\u001b[0m\n"
      ]
     },
     "metadata": {},
     "output_type": "display_data"
    },
    {
     "data": {
      "text/html": [
       "<pre style=\"white-space:pre;overflow-x:auto;line-height:normal;font-family:Menlo,'DejaVu Sans Mono',consolas,'Courier New',monospace\">\n",
       "<span style=\"color: #008080; text-decoration-color: #008080; font-weight: bold\">&gt;</span> `Agent: Task Dispatcher` <span style=\"font-weight: bold\">(</span>v6.<span style=\"color: #008080; text-decoration-color: #008080; font-weight: bold\">9</span><span style=\"font-weight: bold\">)</span> Bắt đầu<span style=\"color: #808000; text-decoration-color: #808000\">...</span>\n",
       "</pre>\n"
      ],
      "text/plain": [
       "\n",
       "\u001b[1;36m>\u001b[0m `Agent: Task Dispatcher` \u001b[1m(\u001b[0mv6.\u001b[1;36m9\u001b[0m\u001b[1m)\u001b[0m Bắt đầu\u001b[33m...\u001b[0m\n"
      ]
     },
     "metadata": {},
     "output_type": "display_data"
    },
    {
     "data": {
      "text/html": [
       "<pre style=\"white-space:pre;overflow-x:auto;line-height:normal;font-family:Menlo,'DejaVu Sans Mono',consolas,'Courier New',monospace\">\n",
       "<span style=\"color: #008080; text-decoration-color: #008080; font-weight: bold\">&gt;</span> --- 🚚 `Dispatcher`: Giao nhiệm vụ cho `theory_synthesizer`.\n",
       "</pre>\n"
      ],
      "text/plain": [
       "\n",
       "\u001b[1;36m>\u001b[0m --- 🚚 `Dispatcher`: Giao nhiệm vụ cho `theory_synthesizer`.\n"
      ]
     },
     "metadata": {},
     "output_type": "display_data"
    },
    {
     "data": {
      "text/html": [
       "<pre style=\"white-space:pre;overflow-x:auto;line-height:normal;font-family:Menlo,'DejaVu Sans Mono',consolas,'Courier New',monospace\">\n",
       "<span style=\"color: #808000; text-decoration-color: #808000; font-weight: bold\">------- Hoàn thành bước: task_dispatcher -------</span>\n",
       "</pre>\n"
      ],
      "text/plain": [
       "\n",
       "\u001b[1;33m------- Hoàn thành bước: task_dispatcher -------\u001b[0m\n"
      ]
     },
     "metadata": {},
     "output_type": "display_data"
    },
    {
     "data": {
      "text/html": [
       "<pre style=\"white-space:pre;overflow-x:auto;line-height:normal;font-family:Menlo,'DejaVu Sans Mono',consolas,'Courier New',monospace\">\n",
       "<span style=\"color: #008080; text-decoration-color: #008080; font-weight: bold\">&gt;</span> `Agent: Theory Synthesizer` <span style=\"font-weight: bold\">(</span>v6.<span style=\"color: #008080; text-decoration-color: #008080; font-weight: bold\">9</span><span style=\"font-weight: bold\">)</span> đang thiết kế hoạt động lý thuyết<span style=\"color: #808000; text-decoration-color: #808000\">...</span>\n",
       "</pre>\n"
      ],
      "text/plain": [
       "\n",
       "\u001b[1;36m>\u001b[0m `Agent: Theory Synthesizer` \u001b[1m(\u001b[0mv6.\u001b[1;36m9\u001b[0m\u001b[1m)\u001b[0m đang thiết kế hoạt động lý thuyết\u001b[33m...\u001b[0m\n"
      ]
     },
     "metadata": {},
     "output_type": "display_data"
    },
    {
     "data": {
      "text/html": [
       "<pre style=\"white-space:pre;overflow-x:auto;line-height:normal;font-family:Menlo,'DejaVu Sans Mono',consolas,'Courier New',monospace\">\n",
       "<span style=\"color: #008080; text-decoration-color: #008080; font-weight: bold\">&gt;</span> Thời gian LLM đề xuất: <span style=\"color: #008080; text-decoration-color: #008080; font-weight: bold\">5</span> phút. Ghi đè bằng thời gian kế hoạch: <span style=\"color: #008080; text-decoration-color: #008080; font-weight: bold\">5</span> phút.\n",
       "</pre>\n"
      ],
      "text/plain": [
       "\n",
       "\u001b[1;36m>\u001b[0m Thời gian LLM đề xuất: \u001b[1;36m5\u001b[0m phút. Ghi đè bằng thời gian kế hoạch: \u001b[1;36m5\u001b[0m phút.\n"
      ]
     },
     "metadata": {},
     "output_type": "display_data"
    },
    {
     "data": {
      "text/html": [
       "<pre style=\"white-space:pre;overflow-x:auto;line-height:normal;font-family:Menlo,'DejaVu Sans Mono',consolas,'Courier New',monospace\"><span style=\"color: #008000; text-decoration-color: #008000; font-weight: bold\">✔️ Hoạt động lý thuyết đã thiết kế:</span>\n",
       "</pre>\n"
      ],
      "text/plain": [
       "\u001b[1;32m✔️ Hoạt động lý thuyết đã thiết kế:\u001b[0m\n"
      ]
     },
     "metadata": {},
     "output_type": "display_data"
    },
    {
     "data": {
      "text/html": [
       "<pre style=\"white-space:pre;overflow-x:auto;line-height:normal;font-family:Menlo,'DejaVu Sans Mono',consolas,'Courier New',monospace\"><span style=\"font-weight: bold\">{</span>\n",
       "<span style=\"color: #7fbf7f; text-decoration-color: #7fbf7f\">│   </span><span style=\"color: #008000; text-decoration-color: #008000\">'activity_name'</span>: <span style=\"color: #008000; text-decoration-color: #008000\">'Giới thiệu về đường tròn ngoại tiếp và đường tròn nội tiếp'</span>,\n",
       "<span style=\"color: #7fbf7f; text-decoration-color: #7fbf7f\">│   </span><span style=\"color: #008000; text-decoration-color: #008000\">'description'</span>: <span style=\"color: #008000; text-decoration-color: #008000\">'Giáo viên giới thiệu về đường tròn ngoại tiếp và đường tròn nội tiếp, nêu vấn đề và mục tiêu của bài học'</span>,\n",
       "<span style=\"color: #7fbf7f; text-decoration-color: #7fbf7f\">│   </span><span style=\"color: #008000; text-decoration-color: #008000\">'duration_minutes'</span>: <span style=\"color: #008080; text-decoration-color: #008080; font-weight: bold\">5</span>,\n",
       "<span style=\"color: #7fbf7f; text-decoration-color: #7fbf7f\">│   </span><span style=\"color: #008000; text-decoration-color: #008000\">'activity_type'</span>: <span style=\"color: #008000; text-decoration-color: #008000\">'Giảng giải lý thuyết'</span>,\n",
       "<span style=\"color: #7fbf7f; text-decoration-color: #7fbf7f\">│   </span><span style=\"color: #008000; text-decoration-color: #008000\">'solution_guide'</span>: <span style=\"color: #008000; text-decoration-color: #008000\">'Giáo viên cần nêu rõ định nghĩa, công thức và các ví dụ minh họa về đường tròn ngoại tiếp và đường tròn nội tiếp.'</span>\n",
       "<span style=\"font-weight: bold\">}</span>\n",
       "</pre>\n"
      ],
      "text/plain": [
       "\u001b[1m{\u001b[0m\n",
       "\u001b[2;32m│   \u001b[0m\u001b[32m'activity_name'\u001b[0m: \u001b[32m'Giới thiệu về đường tròn ngoại tiếp và đường tròn nội tiếp'\u001b[0m,\n",
       "\u001b[2;32m│   \u001b[0m\u001b[32m'description'\u001b[0m: \u001b[32m'Giáo viên giới thiệu về đường tròn ngoại tiếp và đường tròn nội tiếp, nêu vấn đề và mục tiêu của bài học'\u001b[0m,\n",
       "\u001b[2;32m│   \u001b[0m\u001b[32m'duration_minutes'\u001b[0m: \u001b[1;36m5\u001b[0m,\n",
       "\u001b[2;32m│   \u001b[0m\u001b[32m'activity_type'\u001b[0m: \u001b[32m'Giảng giải lý thuyết'\u001b[0m,\n",
       "\u001b[2;32m│   \u001b[0m\u001b[32m'solution_guide'\u001b[0m: \u001b[32m'Giáo viên cần nêu rõ định nghĩa, công thức và các ví dụ minh họa về đường tròn ngoại tiếp và đường tròn nội tiếp.'\u001b[0m\n",
       "\u001b[1m}\u001b[0m\n"
      ]
     },
     "metadata": {},
     "output_type": "display_data"
    },
    {
     "data": {
      "text/html": [
       "<pre style=\"white-space:pre;overflow-x:auto;line-height:normal;font-family:Menlo,'DejaVu Sans Mono',consolas,'Courier New',monospace\">\n",
       "<span style=\"color: #808000; text-decoration-color: #808000; font-weight: bold\">------- Hoàn thành bước: theory_synthesizer -------</span>\n",
       "</pre>\n"
      ],
      "text/plain": [
       "\n",
       "\u001b[1;33m------- Hoàn thành bước: theory_synthesizer -------\u001b[0m\n"
      ]
     },
     "metadata": {},
     "output_type": "display_data"
    },
    {
     "data": {
      "text/html": [
       "<pre style=\"white-space:pre;overflow-x:auto;line-height:normal;font-family:Menlo,'DejaVu Sans Mono',consolas,'Courier New',monospace\">\n",
       "<span style=\"color: #808000; text-decoration-color: #808000; font-weight: bold\">------- Hoàn thành bước: mark_task_complete -------</span>\n",
       "</pre>\n"
      ],
      "text/plain": [
       "\n",
       "\u001b[1;33m------- Hoàn thành bước: mark_task_complete -------\u001b[0m\n"
      ]
     },
     "metadata": {},
     "output_type": "display_data"
    },
    {
     "data": {
      "text/html": [
       "<pre style=\"white-space:pre;overflow-x:auto;line-height:normal;font-family:Menlo,'DejaVu Sans Mono',consolas,'Courier New',monospace\">\n",
       "<span style=\"color: #008080; text-decoration-color: #008080; font-weight: bold\">&gt;</span> `Router`: Đang kiểm tra nhiệm vụ<span style=\"color: #808000; text-decoration-color: #808000\">...</span>\n",
       "</pre>\n"
      ],
      "text/plain": [
       "\n",
       "\u001b[1;36m>\u001b[0m `Router`: Đang kiểm tra nhiệm vụ\u001b[33m...\u001b[0m\n"
      ]
     },
     "metadata": {},
     "output_type": "display_data"
    },
    {
     "data": {
      "text/html": [
       "<pre style=\"white-space:pre;overflow-x:auto;line-height:normal;font-family:Menlo,'DejaVu Sans Mono',consolas,'Courier New',monospace\">\n",
       "<span style=\"color: #008080; text-decoration-color: #008080; font-weight: bold\">&gt;</span> Nhiệm vụ tiếp theo: <span style=\"color: #008000; text-decoration-color: #008000\">'Giảng giải về đường tròn ngoại tiếp'</span> <span style=\"font-weight: bold\">(</span>ID: <span style=\"color: #008080; text-decoration-color: #008080; font-weight: bold\">2</span><span style=\"font-weight: bold\">)</span>\n",
       "</pre>\n"
      ],
      "text/plain": [
       "\n",
       "\u001b[1;36m>\u001b[0m Nhiệm vụ tiếp theo: \u001b[32m'Giảng giải về đường tròn ngoại tiếp'\u001b[0m \u001b[1m(\u001b[0mID: \u001b[1;36m2\u001b[0m\u001b[1m)\u001b[0m\n"
      ]
     },
     "metadata": {},
     "output_type": "display_data"
    },
    {
     "data": {
      "text/html": [
       "<pre style=\"white-space:pre;overflow-x:auto;line-height:normal;font-family:Menlo,'DejaVu Sans Mono',consolas,'Courier New',monospace\">\n",
       "<span style=\"color: #808000; text-decoration-color: #808000; font-weight: bold\">------- Hoàn thành bước: task_router -------</span>\n",
       "</pre>\n"
      ],
      "text/plain": [
       "\n",
       "\u001b[1;33m------- Hoàn thành bước: task_router -------\u001b[0m\n"
      ]
     },
     "metadata": {},
     "output_type": "display_data"
    },
    {
     "data": {
      "text/html": [
       "<pre style=\"white-space:pre;overflow-x:auto;line-height:normal;font-family:Menlo,'DejaVu Sans Mono',consolas,'Courier New',monospace\">\n",
       "<span style=\"color: #008080; text-decoration-color: #008080; font-weight: bold\">&gt;</span> `Agent: Task Dispatcher` <span style=\"font-weight: bold\">(</span>v6.<span style=\"color: #008080; text-decoration-color: #008080; font-weight: bold\">9</span><span style=\"font-weight: bold\">)</span> Bắt đầu<span style=\"color: #808000; text-decoration-color: #808000\">...</span>\n",
       "</pre>\n"
      ],
      "text/plain": [
       "\n",
       "\u001b[1;36m>\u001b[0m `Agent: Task Dispatcher` \u001b[1m(\u001b[0mv6.\u001b[1;36m9\u001b[0m\u001b[1m)\u001b[0m Bắt đầu\u001b[33m...\u001b[0m\n"
      ]
     },
     "metadata": {},
     "output_type": "display_data"
    },
    {
     "data": {
      "text/html": [
       "<pre style=\"white-space:pre;overflow-x:auto;line-height:normal;font-family:Menlo,'DejaVu Sans Mono',consolas,'Courier New',monospace\">\n",
       "<span style=\"color: #008080; text-decoration-color: #008080; font-weight: bold\">&gt;</span> --- 🚚 `Dispatcher`: Giao nhiệm vụ cho `theory_synthesizer`.\n",
       "</pre>\n"
      ],
      "text/plain": [
       "\n",
       "\u001b[1;36m>\u001b[0m --- 🚚 `Dispatcher`: Giao nhiệm vụ cho `theory_synthesizer`.\n"
      ]
     },
     "metadata": {},
     "output_type": "display_data"
    },
    {
     "data": {
      "text/html": [
       "<pre style=\"white-space:pre;overflow-x:auto;line-height:normal;font-family:Menlo,'DejaVu Sans Mono',consolas,'Courier New',monospace\">\n",
       "<span style=\"color: #808000; text-decoration-color: #808000; font-weight: bold\">------- Hoàn thành bước: task_dispatcher -------</span>\n",
       "</pre>\n"
      ],
      "text/plain": [
       "\n",
       "\u001b[1;33m------- Hoàn thành bước: task_dispatcher -------\u001b[0m\n"
      ]
     },
     "metadata": {},
     "output_type": "display_data"
    },
    {
     "data": {
      "text/html": [
       "<pre style=\"white-space:pre;overflow-x:auto;line-height:normal;font-family:Menlo,'DejaVu Sans Mono',consolas,'Courier New',monospace\">\n",
       "<span style=\"color: #008080; text-decoration-color: #008080; font-weight: bold\">&gt;</span> `Agent: Theory Synthesizer` <span style=\"font-weight: bold\">(</span>v6.<span style=\"color: #008080; text-decoration-color: #008080; font-weight: bold\">9</span><span style=\"font-weight: bold\">)</span> đang thiết kế hoạt động lý thuyết<span style=\"color: #808000; text-decoration-color: #808000\">...</span>\n",
       "</pre>\n"
      ],
      "text/plain": [
       "\n",
       "\u001b[1;36m>\u001b[0m `Agent: Theory Synthesizer` \u001b[1m(\u001b[0mv6.\u001b[1;36m9\u001b[0m\u001b[1m)\u001b[0m đang thiết kế hoạt động lý thuyết\u001b[33m...\u001b[0m\n"
      ]
     },
     "metadata": {},
     "output_type": "display_data"
    },
    {
     "data": {
      "text/html": [
       "<pre style=\"white-space:pre;overflow-x:auto;line-height:normal;font-family:Menlo,'DejaVu Sans Mono',consolas,'Courier New',monospace\">\n",
       "<span style=\"color: #008080; text-decoration-color: #008080; font-weight: bold\">&gt;</span> Thời gian LLM đề xuất: <span style=\"color: #008080; text-decoration-color: #008080; font-weight: bold\">15</span> phút. Ghi đè bằng thời gian kế hoạch: <span style=\"color: #008080; text-decoration-color: #008080; font-weight: bold\">15</span> phút.\n",
       "</pre>\n"
      ],
      "text/plain": [
       "\n",
       "\u001b[1;36m>\u001b[0m Thời gian LLM đề xuất: \u001b[1;36m15\u001b[0m phút. Ghi đè bằng thời gian kế hoạch: \u001b[1;36m15\u001b[0m phút.\n"
      ]
     },
     "metadata": {},
     "output_type": "display_data"
    },
    {
     "data": {
      "text/html": [
       "<pre style=\"white-space:pre;overflow-x:auto;line-height:normal;font-family:Menlo,'DejaVu Sans Mono',consolas,'Courier New',monospace\"><span style=\"color: #008000; text-decoration-color: #008000; font-weight: bold\">✔️ Hoạt động lý thuyết đã thiết kế:</span>\n",
       "</pre>\n"
      ],
      "text/plain": [
       "\u001b[1;32m✔️ Hoạt động lý thuyết đã thiết kế:\u001b[0m\n"
      ]
     },
     "metadata": {},
     "output_type": "display_data"
    },
    {
     "data": {
      "text/html": [
       "<pre style=\"white-space:pre;overflow-x:auto;line-height:normal;font-family:Menlo,'DejaVu Sans Mono',consolas,'Courier New',monospace\"><span style=\"font-weight: bold\">{</span>\n",
       "<span style=\"color: #7fbf7f; text-decoration-color: #7fbf7f\">│   </span><span style=\"color: #008000; text-decoration-color: #008000\">'activity_name'</span>: <span style=\"color: #008000; text-decoration-color: #008000\">'Giảng giải về định nghĩa và các tính chất của đường tròn ngoại tiếp'</span>,\n",
       "<span style=\"color: #7fbf7f; text-decoration-color: #7fbf7f\">│   </span><span style=\"color: #008000; text-decoration-color: #008000\">'description'</span>: <span style=\"color: #008000; text-decoration-color: #008000\">'Giáo viên giảng giải về định nghĩa và các tính chất của đường tròn ngoại tiếp, học sinh lắng nghe và ghi chép lại các nội dung quan trọng.'</span>,\n",
       "<span style=\"color: #7fbf7f; text-decoration-color: #7fbf7f\">│   </span><span style=\"color: #008000; text-decoration-color: #008000\">'duration_minutes'</span>: <span style=\"color: #008080; text-decoration-color: #008080; font-weight: bold\">15</span>,\n",
       "<span style=\"color: #7fbf7f; text-decoration-color: #7fbf7f\">│   </span><span style=\"color: #008000; text-decoration-color: #008000\">'activity_type'</span>: <span style=\"color: #008000; text-decoration-color: #008000\">'Giảng giải lý thuyết'</span>,\n",
       "<span style=\"color: #7fbf7f; text-decoration-color: #7fbf7f\">│   </span><span style=\"color: #008000; text-decoration-color: #008000\">'solution_guide'</span>: <span style=\"color: #008000; text-decoration-color: #008000\">'Giáo viên cần chuẩn bị các ví dụ minh họa và các câu hỏi gợi mở để học sinh tham gia thảo luận.'</span>\n",
       "<span style=\"font-weight: bold\">}</span>\n",
       "</pre>\n"
      ],
      "text/plain": [
       "\u001b[1m{\u001b[0m\n",
       "\u001b[2;32m│   \u001b[0m\u001b[32m'activity_name'\u001b[0m: \u001b[32m'Giảng giải về định nghĩa và các tính chất của đường tròn ngoại tiếp'\u001b[0m,\n",
       "\u001b[2;32m│   \u001b[0m\u001b[32m'description'\u001b[0m: \u001b[32m'Giáo viên giảng giải về định nghĩa và các tính chất của đường tròn ngoại tiếp, học sinh lắng nghe và ghi chép lại các nội dung quan trọng.'\u001b[0m,\n",
       "\u001b[2;32m│   \u001b[0m\u001b[32m'duration_minutes'\u001b[0m: \u001b[1;36m15\u001b[0m,\n",
       "\u001b[2;32m│   \u001b[0m\u001b[32m'activity_type'\u001b[0m: \u001b[32m'Giảng giải lý thuyết'\u001b[0m,\n",
       "\u001b[2;32m│   \u001b[0m\u001b[32m'solution_guide'\u001b[0m: \u001b[32m'Giáo viên cần chuẩn bị các ví dụ minh họa và các câu hỏi gợi mở để học sinh tham gia thảo luận.'\u001b[0m\n",
       "\u001b[1m}\u001b[0m\n"
      ]
     },
     "metadata": {},
     "output_type": "display_data"
    },
    {
     "data": {
      "text/html": [
       "<pre style=\"white-space:pre;overflow-x:auto;line-height:normal;font-family:Menlo,'DejaVu Sans Mono',consolas,'Courier New',monospace\">\n",
       "<span style=\"color: #808000; text-decoration-color: #808000; font-weight: bold\">------- Hoàn thành bước: theory_synthesizer -------</span>\n",
       "</pre>\n"
      ],
      "text/plain": [
       "\n",
       "\u001b[1;33m------- Hoàn thành bước: theory_synthesizer -------\u001b[0m\n"
      ]
     },
     "metadata": {},
     "output_type": "display_data"
    },
    {
     "data": {
      "text/html": [
       "<pre style=\"white-space:pre;overflow-x:auto;line-height:normal;font-family:Menlo,'DejaVu Sans Mono',consolas,'Courier New',monospace\">\n",
       "<span style=\"color: #808000; text-decoration-color: #808000; font-weight: bold\">------- Hoàn thành bước: mark_task_complete -------</span>\n",
       "</pre>\n"
      ],
      "text/plain": [
       "\n",
       "\u001b[1;33m------- Hoàn thành bước: mark_task_complete -------\u001b[0m\n"
      ]
     },
     "metadata": {},
     "output_type": "display_data"
    },
    {
     "data": {
      "text/html": [
       "<pre style=\"white-space:pre;overflow-x:auto;line-height:normal;font-family:Menlo,'DejaVu Sans Mono',consolas,'Courier New',monospace\">\n",
       "<span style=\"color: #008080; text-decoration-color: #008080; font-weight: bold\">&gt;</span> `Router`: Đang kiểm tra nhiệm vụ<span style=\"color: #808000; text-decoration-color: #808000\">...</span>\n",
       "</pre>\n"
      ],
      "text/plain": [
       "\n",
       "\u001b[1;36m>\u001b[0m `Router`: Đang kiểm tra nhiệm vụ\u001b[33m...\u001b[0m\n"
      ]
     },
     "metadata": {},
     "output_type": "display_data"
    },
    {
     "data": {
      "text/html": [
       "<pre style=\"white-space:pre;overflow-x:auto;line-height:normal;font-family:Menlo,'DejaVu Sans Mono',consolas,'Courier New',monospace\">\n",
       "<span style=\"color: #008080; text-decoration-color: #008080; font-weight: bold\">&gt;</span> Nhiệm vụ tiếp theo: <span style=\"color: #008000; text-decoration-color: #008000\">'Luyện tập về đường tròn ngoại tiếp'</span> <span style=\"font-weight: bold\">(</span>ID: <span style=\"color: #008080; text-decoration-color: #008080; font-weight: bold\">3</span><span style=\"font-weight: bold\">)</span>\n",
       "</pre>\n"
      ],
      "text/plain": [
       "\n",
       "\u001b[1;36m>\u001b[0m Nhiệm vụ tiếp theo: \u001b[32m'Luyện tập về đường tròn ngoại tiếp'\u001b[0m \u001b[1m(\u001b[0mID: \u001b[1;36m3\u001b[0m\u001b[1m)\u001b[0m\n"
      ]
     },
     "metadata": {},
     "output_type": "display_data"
    },
    {
     "data": {
      "text/html": [
       "<pre style=\"white-space:pre;overflow-x:auto;line-height:normal;font-family:Menlo,'DejaVu Sans Mono',consolas,'Courier New',monospace\">\n",
       "<span style=\"color: #808000; text-decoration-color: #808000; font-weight: bold\">------- Hoàn thành bước: task_router -------</span>\n",
       "</pre>\n"
      ],
      "text/plain": [
       "\n",
       "\u001b[1;33m------- Hoàn thành bước: task_router -------\u001b[0m\n"
      ]
     },
     "metadata": {},
     "output_type": "display_data"
    },
    {
     "data": {
      "text/html": [
       "<pre style=\"white-space:pre;overflow-x:auto;line-height:normal;font-family:Menlo,'DejaVu Sans Mono',consolas,'Courier New',monospace\">\n",
       "<span style=\"color: #008080; text-decoration-color: #008080; font-weight: bold\">&gt;</span> `Agent: Task Dispatcher` <span style=\"font-weight: bold\">(</span>v6.<span style=\"color: #008080; text-decoration-color: #008080; font-weight: bold\">9</span><span style=\"font-weight: bold\">)</span> Bắt đầu<span style=\"color: #808000; text-decoration-color: #808000\">...</span>\n",
       "</pre>\n"
      ],
      "text/plain": [
       "\n",
       "\u001b[1;36m>\u001b[0m `Agent: Task Dispatcher` \u001b[1m(\u001b[0mv6.\u001b[1;36m9\u001b[0m\u001b[1m)\u001b[0m Bắt đầu\u001b[33m...\u001b[0m\n"
      ]
     },
     "metadata": {},
     "output_type": "display_data"
    },
    {
     "data": {
      "text/html": [
       "<pre style=\"white-space:pre;overflow-x:auto;line-height:normal;font-family:Menlo,'DejaVu Sans Mono',consolas,'Courier New',monospace\">\n",
       "<span style=\"color: #008080; text-decoration-color: #008080; font-weight: bold\">&gt;</span> --- 🚚 `Dispatcher`: Giao nhiệm vụ cho `activity_designer`.\n",
       "</pre>\n"
      ],
      "text/plain": [
       "\n",
       "\u001b[1;36m>\u001b[0m --- 🚚 `Dispatcher`: Giao nhiệm vụ cho `activity_designer`.\n"
      ]
     },
     "metadata": {},
     "output_type": "display_data"
    },
    {
     "data": {
      "text/html": [
       "<pre style=\"white-space:pre;overflow-x:auto;line-height:normal;font-family:Menlo,'DejaVu Sans Mono',consolas,'Courier New',monospace\">\n",
       "<span style=\"color: #808000; text-decoration-color: #808000; font-weight: bold\">------- Hoàn thành bước: task_dispatcher -------</span>\n",
       "</pre>\n"
      ],
      "text/plain": [
       "\n",
       "\u001b[1;33m------- Hoàn thành bước: task_dispatcher -------\u001b[0m\n"
      ]
     },
     "metadata": {},
     "output_type": "display_data"
    },
    {
     "data": {
      "text/html": [
       "<pre style=\"white-space:pre;overflow-x:auto;line-height:normal;font-family:Menlo,'DejaVu Sans Mono',consolas,'Courier New',monospace\">\n",
       "<span style=\"color: #008080; text-decoration-color: #008080; font-weight: bold\">&gt;</span> `Agent: Activity Designer` <span style=\"font-weight: bold\">(</span>v6.<span style=\"color: #008080; text-decoration-color: #008080; font-weight: bold\">9</span><span style=\"font-weight: bold\">)</span> đang thiết kế hoạt động vận dụng<span style=\"color: #808000; text-decoration-color: #808000\">...</span>\n",
       "</pre>\n"
      ],
      "text/plain": [
       "\n",
       "\u001b[1;36m>\u001b[0m `Agent: Activity Designer` \u001b[1m(\u001b[0mv6.\u001b[1;36m9\u001b[0m\u001b[1m)\u001b[0m đang thiết kế hoạt động vận dụng\u001b[33m...\u001b[0m\n"
      ]
     },
     "metadata": {},
     "output_type": "display_data"
    },
    {
     "data": {
      "text/html": [
       "<pre style=\"white-space:pre;overflow-x:auto;line-height:normal;font-family:Menlo,'DejaVu Sans Mono',consolas,'Courier New',monospace\">\n",
       "<span style=\"color: #008080; text-decoration-color: #008080; font-weight: bold\">&gt;</span> Thời gian LLM đề xuất: <span style=\"color: #008080; text-decoration-color: #008080; font-weight: bold\">10</span> phút. Ghi đè bằng thời gian kế hoạch: <span style=\"color: #008080; text-decoration-color: #008080; font-weight: bold\">10</span> phút.\n",
       "</pre>\n"
      ],
      "text/plain": [
       "\n",
       "\u001b[1;36m>\u001b[0m Thời gian LLM đề xuất: \u001b[1;36m10\u001b[0m phút. Ghi đè bằng thời gian kế hoạch: \u001b[1;36m10\u001b[0m phút.\n"
      ]
     },
     "metadata": {},
     "output_type": "display_data"
    },
    {
     "data": {
      "text/html": [
       "<pre style=\"white-space:pre;overflow-x:auto;line-height:normal;font-family:Menlo,'DejaVu Sans Mono',consolas,'Courier New',monospace\"><span style=\"color: #008000; text-decoration-color: #008000; font-weight: bold\">✔️ Hoạt động vận dụng đã thiết kế:</span>\n",
       "</pre>\n"
      ],
      "text/plain": [
       "\u001b[1;32m✔️ Hoạt động vận dụng đã thiết kế:\u001b[0m\n"
      ]
     },
     "metadata": {},
     "output_type": "display_data"
    },
    {
     "data": {
      "text/html": [
       "<pre style=\"white-space:pre;overflow-x:auto;line-height:normal;font-family:Menlo,'DejaVu Sans Mono',consolas,'Courier New',monospace\"><span style=\"font-weight: bold\">{</span>\n",
       "<span style=\"color: #7fbf7f; text-decoration-color: #7fbf7f\">│   </span><span style=\"color: #008000; text-decoration-color: #008000\">'activity_name'</span>: <span style=\"color: #008000; text-decoration-color: #008000\">'Luyện tập đường tròn ngoại tiếp'</span>,\n",
       "<span style=\"color: #7fbf7f; text-decoration-color: #7fbf7f\">│   </span><span style=\"color: #008000; text-decoration-color: #008000\">'description'</span>: <span style=\"color: #008000; text-decoration-color: #008000\">'Học sinh luyện tập các bài tập về đường tròn ngoại tiếp dưới sự hướng dẫn của giáo viên.'</span>,\n",
       "<span style=\"color: #7fbf7f; text-decoration-color: #7fbf7f\">│   </span><span style=\"color: #008000; text-decoration-color: #008000\">'duration_minutes'</span>: <span style=\"color: #008080; text-decoration-color: #008080; font-weight: bold\">10</span>,\n",
       "<span style=\"color: #7fbf7f; text-decoration-color: #7fbf7f\">│   </span><span style=\"color: #008000; text-decoration-color: #008000\">'activity_type'</span>: <span style=\"color: #008000; text-decoration-color: #008000\">'Luyện tập cấp độ'</span>,\n",
       "<span style=\"color: #7fbf7f; text-decoration-color: #7fbf7f\">│   </span><span style=\"color: #008000; text-decoration-color: #008000\">'solution_guide'</span>: <span style=\"color: #008000; text-decoration-color: #008000\">'Giáo viên hướng dẫn học sinh thực hiện các bước sau: 1) Nhận dạng đường tròn ngoại tiếp, 2) Xác định tâm và bán kính, 3) Áp dụng công thức tính chu vi và diện tích.'</span>\n",
       "<span style=\"font-weight: bold\">}</span>\n",
       "</pre>\n"
      ],
      "text/plain": [
       "\u001b[1m{\u001b[0m\n",
       "\u001b[2;32m│   \u001b[0m\u001b[32m'activity_name'\u001b[0m: \u001b[32m'Luyện tập đường tròn ngoại tiếp'\u001b[0m,\n",
       "\u001b[2;32m│   \u001b[0m\u001b[32m'description'\u001b[0m: \u001b[32m'Học sinh luyện tập các bài tập về đường tròn ngoại tiếp dưới sự hướng dẫn của giáo viên.'\u001b[0m,\n",
       "\u001b[2;32m│   \u001b[0m\u001b[32m'duration_minutes'\u001b[0m: \u001b[1;36m10\u001b[0m,\n",
       "\u001b[2;32m│   \u001b[0m\u001b[32m'activity_type'\u001b[0m: \u001b[32m'Luyện tập cấp độ'\u001b[0m,\n",
       "\u001b[2;32m│   \u001b[0m\u001b[32m'solution_guide'\u001b[0m: \u001b[32m'Giáo viên hướng dẫn học sinh thực hiện các bước sau: 1\u001b[0m\u001b[32m)\u001b[0m\u001b[32m Nhận dạng đường tròn ngoại tiếp, 2\u001b[0m\u001b[32m)\u001b[0m\u001b[32m Xác định tâm và bán kính, 3\u001b[0m\u001b[32m)\u001b[0m\u001b[32m Áp dụng công thức tính chu vi và diện tích.'\u001b[0m\n",
       "\u001b[1m}\u001b[0m\n"
      ]
     },
     "metadata": {},
     "output_type": "display_data"
    },
    {
     "data": {
      "text/html": [
       "<pre style=\"white-space:pre;overflow-x:auto;line-height:normal;font-family:Menlo,'DejaVu Sans Mono',consolas,'Courier New',monospace\">\n",
       "<span style=\"color: #808000; text-decoration-color: #808000; font-weight: bold\">------- Hoàn thành bước: activity_designer -------</span>\n",
       "</pre>\n"
      ],
      "text/plain": [
       "\n",
       "\u001b[1;33m------- Hoàn thành bước: activity_designer -------\u001b[0m\n"
      ]
     },
     "metadata": {},
     "output_type": "display_data"
    },
    {
     "data": {
      "text/html": [
       "<pre style=\"white-space:pre;overflow-x:auto;line-height:normal;font-family:Menlo,'DejaVu Sans Mono',consolas,'Courier New',monospace\">\n",
       "<span style=\"color: #808000; text-decoration-color: #808000; font-weight: bold\">------- Hoàn thành bước: mark_task_complete -------</span>\n",
       "</pre>\n"
      ],
      "text/plain": [
       "\n",
       "\u001b[1;33m------- Hoàn thành bước: mark_task_complete -------\u001b[0m\n"
      ]
     },
     "metadata": {},
     "output_type": "display_data"
    },
    {
     "data": {
      "text/html": [
       "<pre style=\"white-space:pre;overflow-x:auto;line-height:normal;font-family:Menlo,'DejaVu Sans Mono',consolas,'Courier New',monospace\">\n",
       "<span style=\"color: #008080; text-decoration-color: #008080; font-weight: bold\">&gt;</span> `Router`: Đang kiểm tra nhiệm vụ<span style=\"color: #808000; text-decoration-color: #808000\">...</span>\n",
       "</pre>\n"
      ],
      "text/plain": [
       "\n",
       "\u001b[1;36m>\u001b[0m `Router`: Đang kiểm tra nhiệm vụ\u001b[33m...\u001b[0m\n"
      ]
     },
     "metadata": {},
     "output_type": "display_data"
    },
    {
     "data": {
      "text/html": [
       "<pre style=\"white-space:pre;overflow-x:auto;line-height:normal;font-family:Menlo,'DejaVu Sans Mono',consolas,'Courier New',monospace\">\n",
       "<span style=\"color: #008080; text-decoration-color: #008080; font-weight: bold\">&gt;</span> Nhiệm vụ tiếp theo: <span style=\"color: #008000; text-decoration-color: #008000\">'Giảng giải về đường tròn nội tiếp'</span> <span style=\"font-weight: bold\">(</span>ID: <span style=\"color: #008080; text-decoration-color: #008080; font-weight: bold\">4</span><span style=\"font-weight: bold\">)</span>\n",
       "</pre>\n"
      ],
      "text/plain": [
       "\n",
       "\u001b[1;36m>\u001b[0m Nhiệm vụ tiếp theo: \u001b[32m'Giảng giải về đường tròn nội tiếp'\u001b[0m \u001b[1m(\u001b[0mID: \u001b[1;36m4\u001b[0m\u001b[1m)\u001b[0m\n"
      ]
     },
     "metadata": {},
     "output_type": "display_data"
    },
    {
     "data": {
      "text/html": [
       "<pre style=\"white-space:pre;overflow-x:auto;line-height:normal;font-family:Menlo,'DejaVu Sans Mono',consolas,'Courier New',monospace\">\n",
       "<span style=\"color: #808000; text-decoration-color: #808000; font-weight: bold\">------- Hoàn thành bước: task_router -------</span>\n",
       "</pre>\n"
      ],
      "text/plain": [
       "\n",
       "\u001b[1;33m------- Hoàn thành bước: task_router -------\u001b[0m\n"
      ]
     },
     "metadata": {},
     "output_type": "display_data"
    },
    {
     "data": {
      "text/html": [
       "<pre style=\"white-space:pre;overflow-x:auto;line-height:normal;font-family:Menlo,'DejaVu Sans Mono',consolas,'Courier New',monospace\">\n",
       "<span style=\"color: #008080; text-decoration-color: #008080; font-weight: bold\">&gt;</span> `Agent: Task Dispatcher` <span style=\"font-weight: bold\">(</span>v6.<span style=\"color: #008080; text-decoration-color: #008080; font-weight: bold\">9</span><span style=\"font-weight: bold\">)</span> Bắt đầu<span style=\"color: #808000; text-decoration-color: #808000\">...</span>\n",
       "</pre>\n"
      ],
      "text/plain": [
       "\n",
       "\u001b[1;36m>\u001b[0m `Agent: Task Dispatcher` \u001b[1m(\u001b[0mv6.\u001b[1;36m9\u001b[0m\u001b[1m)\u001b[0m Bắt đầu\u001b[33m...\u001b[0m\n"
      ]
     },
     "metadata": {},
     "output_type": "display_data"
    },
    {
     "data": {
      "text/html": [
       "<pre style=\"white-space:pre;overflow-x:auto;line-height:normal;font-family:Menlo,'DejaVu Sans Mono',consolas,'Courier New',monospace\">\n",
       "<span style=\"color: #008080; text-decoration-color: #008080; font-weight: bold\">&gt;</span> --- 🚚 `Dispatcher`: Giao nhiệm vụ cho `theory_synthesizer`.\n",
       "</pre>\n"
      ],
      "text/plain": [
       "\n",
       "\u001b[1;36m>\u001b[0m --- 🚚 `Dispatcher`: Giao nhiệm vụ cho `theory_synthesizer`.\n"
      ]
     },
     "metadata": {},
     "output_type": "display_data"
    },
    {
     "data": {
      "text/html": [
       "<pre style=\"white-space:pre;overflow-x:auto;line-height:normal;font-family:Menlo,'DejaVu Sans Mono',consolas,'Courier New',monospace\">\n",
       "<span style=\"color: #808000; text-decoration-color: #808000; font-weight: bold\">------- Hoàn thành bước: task_dispatcher -------</span>\n",
       "</pre>\n"
      ],
      "text/plain": [
       "\n",
       "\u001b[1;33m------- Hoàn thành bước: task_dispatcher -------\u001b[0m\n"
      ]
     },
     "metadata": {},
     "output_type": "display_data"
    },
    {
     "data": {
      "text/html": [
       "<pre style=\"white-space:pre;overflow-x:auto;line-height:normal;font-family:Menlo,'DejaVu Sans Mono',consolas,'Courier New',monospace\">\n",
       "<span style=\"color: #008080; text-decoration-color: #008080; font-weight: bold\">&gt;</span> `Agent: Theory Synthesizer` <span style=\"font-weight: bold\">(</span>v6.<span style=\"color: #008080; text-decoration-color: #008080; font-weight: bold\">9</span><span style=\"font-weight: bold\">)</span> đang thiết kế hoạt động lý thuyết<span style=\"color: #808000; text-decoration-color: #808000\">...</span>\n",
       "</pre>\n"
      ],
      "text/plain": [
       "\n",
       "\u001b[1;36m>\u001b[0m `Agent: Theory Synthesizer` \u001b[1m(\u001b[0mv6.\u001b[1;36m9\u001b[0m\u001b[1m)\u001b[0m đang thiết kế hoạt động lý thuyết\u001b[33m...\u001b[0m\n"
      ]
     },
     "metadata": {},
     "output_type": "display_data"
    },
    {
     "data": {
      "text/html": [
       "<pre style=\"white-space:pre;overflow-x:auto;line-height:normal;font-family:Menlo,'DejaVu Sans Mono',consolas,'Courier New',monospace\">\n",
       "<span style=\"color: #008080; text-decoration-color: #008080; font-weight: bold\">&gt;</span> Thời gian LLM đề xuất: <span style=\"color: #008080; text-decoration-color: #008080; font-weight: bold\">15</span> phút. Ghi đè bằng thời gian kế hoạch: <span style=\"color: #008080; text-decoration-color: #008080; font-weight: bold\">15</span> phút.\n",
       "</pre>\n"
      ],
      "text/plain": [
       "\n",
       "\u001b[1;36m>\u001b[0m Thời gian LLM đề xuất: \u001b[1;36m15\u001b[0m phút. Ghi đè bằng thời gian kế hoạch: \u001b[1;36m15\u001b[0m phút.\n"
      ]
     },
     "metadata": {},
     "output_type": "display_data"
    },
    {
     "data": {
      "text/html": [
       "<pre style=\"white-space:pre;overflow-x:auto;line-height:normal;font-family:Menlo,'DejaVu Sans Mono',consolas,'Courier New',monospace\"><span style=\"color: #008000; text-decoration-color: #008000; font-weight: bold\">✔️ Hoạt động lý thuyết đã thiết kế:</span>\n",
       "</pre>\n"
      ],
      "text/plain": [
       "\u001b[1;32m✔️ Hoạt động lý thuyết đã thiết kế:\u001b[0m\n"
      ]
     },
     "metadata": {},
     "output_type": "display_data"
    },
    {
     "data": {
      "text/html": [
       "<pre style=\"white-space:pre;overflow-x:auto;line-height:normal;font-family:Menlo,'DejaVu Sans Mono',consolas,'Courier New',monospace\"><span style=\"font-weight: bold\">{</span>\n",
       "<span style=\"color: #7fbf7f; text-decoration-color: #7fbf7f\">│   </span><span style=\"color: #008000; text-decoration-color: #008000\">'activity_name'</span>: <span style=\"color: #008000; text-decoration-color: #008000\">'Giảng giải về định nghĩa và các tính chất của đường tròn nội tiếp'</span>,\n",
       "<span style=\"color: #7fbf7f; text-decoration-color: #7fbf7f\">│   </span><span style=\"color: #008000; text-decoration-color: #008000\">'description'</span>: <span style=\"color: #008000; text-decoration-color: #008000\">'Giáo viên giảng giải về định nghĩa và các tính chất của đường tròn nội tiếp, học sinh lắng nghe và ghi chép lại.'</span>,\n",
       "<span style=\"color: #7fbf7f; text-decoration-color: #7fbf7f\">│   </span><span style=\"color: #008000; text-decoration-color: #008000\">'duration_minutes'</span>: <span style=\"color: #008080; text-decoration-color: #008080; font-weight: bold\">15</span>,\n",
       "<span style=\"color: #7fbf7f; text-decoration-color: #7fbf7f\">│   </span><span style=\"color: #008000; text-decoration-color: #008000\">'activity_type'</span>: <span style=\"color: #008000; text-decoration-color: #008000\">'Giảng giải lý thuyết'</span>,\n",
       "<span style=\"color: #7fbf7f; text-decoration-color: #7fbf7f\">│   </span><span style=\"color: #008000; text-decoration-color: #008000\">'solution_guide'</span>: <span style=\"color: #008000; text-decoration-color: #008000\">'Giáo viên cần giải thích rõ ràng và chi tiết về định nghĩa và các tính chất của đường tròn nội tiếp, học sinh cần lắng nghe và ghi chép lại đầy đủ.'</span>\n",
       "<span style=\"font-weight: bold\">}</span>\n",
       "</pre>\n"
      ],
      "text/plain": [
       "\u001b[1m{\u001b[0m\n",
       "\u001b[2;32m│   \u001b[0m\u001b[32m'activity_name'\u001b[0m: \u001b[32m'Giảng giải về định nghĩa và các tính chất của đường tròn nội tiếp'\u001b[0m,\n",
       "\u001b[2;32m│   \u001b[0m\u001b[32m'description'\u001b[0m: \u001b[32m'Giáo viên giảng giải về định nghĩa và các tính chất của đường tròn nội tiếp, học sinh lắng nghe và ghi chép lại.'\u001b[0m,\n",
       "\u001b[2;32m│   \u001b[0m\u001b[32m'duration_minutes'\u001b[0m: \u001b[1;36m15\u001b[0m,\n",
       "\u001b[2;32m│   \u001b[0m\u001b[32m'activity_type'\u001b[0m: \u001b[32m'Giảng giải lý thuyết'\u001b[0m,\n",
       "\u001b[2;32m│   \u001b[0m\u001b[32m'solution_guide'\u001b[0m: \u001b[32m'Giáo viên cần giải thích rõ ràng và chi tiết về định nghĩa và các tính chất của đường tròn nội tiếp, học sinh cần lắng nghe và ghi chép lại đầy đủ.'\u001b[0m\n",
       "\u001b[1m}\u001b[0m\n"
      ]
     },
     "metadata": {},
     "output_type": "display_data"
    },
    {
     "data": {
      "text/html": [
       "<pre style=\"white-space:pre;overflow-x:auto;line-height:normal;font-family:Menlo,'DejaVu Sans Mono',consolas,'Courier New',monospace\">\n",
       "<span style=\"color: #808000; text-decoration-color: #808000; font-weight: bold\">------- Hoàn thành bước: theory_synthesizer -------</span>\n",
       "</pre>\n"
      ],
      "text/plain": [
       "\n",
       "\u001b[1;33m------- Hoàn thành bước: theory_synthesizer -------\u001b[0m\n"
      ]
     },
     "metadata": {},
     "output_type": "display_data"
    },
    {
     "data": {
      "text/html": [
       "<pre style=\"white-space:pre;overflow-x:auto;line-height:normal;font-family:Menlo,'DejaVu Sans Mono',consolas,'Courier New',monospace\">\n",
       "<span style=\"color: #808000; text-decoration-color: #808000; font-weight: bold\">------- Hoàn thành bước: mark_task_complete -------</span>\n",
       "</pre>\n"
      ],
      "text/plain": [
       "\n",
       "\u001b[1;33m------- Hoàn thành bước: mark_task_complete -------\u001b[0m\n"
      ]
     },
     "metadata": {},
     "output_type": "display_data"
    },
    {
     "data": {
      "text/html": [
       "<pre style=\"white-space:pre;overflow-x:auto;line-height:normal;font-family:Menlo,'DejaVu Sans Mono',consolas,'Courier New',monospace\">\n",
       "<span style=\"color: #008080; text-decoration-color: #008080; font-weight: bold\">&gt;</span> `Router`: Đang kiểm tra nhiệm vụ<span style=\"color: #808000; text-decoration-color: #808000\">...</span>\n",
       "</pre>\n"
      ],
      "text/plain": [
       "\n",
       "\u001b[1;36m>\u001b[0m `Router`: Đang kiểm tra nhiệm vụ\u001b[33m...\u001b[0m\n"
      ]
     },
     "metadata": {},
     "output_type": "display_data"
    },
    {
     "data": {
      "text/html": [
       "<pre style=\"white-space:pre;overflow-x:auto;line-height:normal;font-family:Menlo,'DejaVu Sans Mono',consolas,'Courier New',monospace\">\n",
       "<span style=\"color: #008080; text-decoration-color: #008080; font-weight: bold\">&gt;</span> Nhiệm vụ tiếp theo: <span style=\"color: #008000; text-decoration-color: #008000\">'Luyện tập về đường tròn nội tiếp'</span> <span style=\"font-weight: bold\">(</span>ID: <span style=\"color: #008080; text-decoration-color: #008080; font-weight: bold\">5</span><span style=\"font-weight: bold\">)</span>\n",
       "</pre>\n"
      ],
      "text/plain": [
       "\n",
       "\u001b[1;36m>\u001b[0m Nhiệm vụ tiếp theo: \u001b[32m'Luyện tập về đường tròn nội tiếp'\u001b[0m \u001b[1m(\u001b[0mID: \u001b[1;36m5\u001b[0m\u001b[1m)\u001b[0m\n"
      ]
     },
     "metadata": {},
     "output_type": "display_data"
    },
    {
     "data": {
      "text/html": [
       "<pre style=\"white-space:pre;overflow-x:auto;line-height:normal;font-family:Menlo,'DejaVu Sans Mono',consolas,'Courier New',monospace\">\n",
       "<span style=\"color: #808000; text-decoration-color: #808000; font-weight: bold\">------- Hoàn thành bước: task_router -------</span>\n",
       "</pre>\n"
      ],
      "text/plain": [
       "\n",
       "\u001b[1;33m------- Hoàn thành bước: task_router -------\u001b[0m\n"
      ]
     },
     "metadata": {},
     "output_type": "display_data"
    },
    {
     "data": {
      "text/html": [
       "<pre style=\"white-space:pre;overflow-x:auto;line-height:normal;font-family:Menlo,'DejaVu Sans Mono',consolas,'Courier New',monospace\">\n",
       "<span style=\"color: #008080; text-decoration-color: #008080; font-weight: bold\">&gt;</span> `Agent: Task Dispatcher` <span style=\"font-weight: bold\">(</span>v6.<span style=\"color: #008080; text-decoration-color: #008080; font-weight: bold\">9</span><span style=\"font-weight: bold\">)</span> Bắt đầu<span style=\"color: #808000; text-decoration-color: #808000\">...</span>\n",
       "</pre>\n"
      ],
      "text/plain": [
       "\n",
       "\u001b[1;36m>\u001b[0m `Agent: Task Dispatcher` \u001b[1m(\u001b[0mv6.\u001b[1;36m9\u001b[0m\u001b[1m)\u001b[0m Bắt đầu\u001b[33m...\u001b[0m\n"
      ]
     },
     "metadata": {},
     "output_type": "display_data"
    },
    {
     "data": {
      "text/html": [
       "<pre style=\"white-space:pre;overflow-x:auto;line-height:normal;font-family:Menlo,'DejaVu Sans Mono',consolas,'Courier New',monospace\">\n",
       "<span style=\"color: #008080; text-decoration-color: #008080; font-weight: bold\">&gt;</span> --- 🚚 `Dispatcher`: Giao nhiệm vụ cho `activity_designer`.\n",
       "</pre>\n"
      ],
      "text/plain": [
       "\n",
       "\u001b[1;36m>\u001b[0m --- 🚚 `Dispatcher`: Giao nhiệm vụ cho `activity_designer`.\n"
      ]
     },
     "metadata": {},
     "output_type": "display_data"
    },
    {
     "data": {
      "text/html": [
       "<pre style=\"white-space:pre;overflow-x:auto;line-height:normal;font-family:Menlo,'DejaVu Sans Mono',consolas,'Courier New',monospace\">\n",
       "<span style=\"color: #808000; text-decoration-color: #808000; font-weight: bold\">------- Hoàn thành bước: task_dispatcher -------</span>\n",
       "</pre>\n"
      ],
      "text/plain": [
       "\n",
       "\u001b[1;33m------- Hoàn thành bước: task_dispatcher -------\u001b[0m\n"
      ]
     },
     "metadata": {},
     "output_type": "display_data"
    },
    {
     "data": {
      "text/html": [
       "<pre style=\"white-space:pre;overflow-x:auto;line-height:normal;font-family:Menlo,'DejaVu Sans Mono',consolas,'Courier New',monospace\">\n",
       "<span style=\"color: #008080; text-decoration-color: #008080; font-weight: bold\">&gt;</span> `Agent: Activity Designer` <span style=\"font-weight: bold\">(</span>v6.<span style=\"color: #008080; text-decoration-color: #008080; font-weight: bold\">9</span><span style=\"font-weight: bold\">)</span> đang thiết kế hoạt động vận dụng<span style=\"color: #808000; text-decoration-color: #808000\">...</span>\n",
       "</pre>\n"
      ],
      "text/plain": [
       "\n",
       "\u001b[1;36m>\u001b[0m `Agent: Activity Designer` \u001b[1m(\u001b[0mv6.\u001b[1;36m9\u001b[0m\u001b[1m)\u001b[0m đang thiết kế hoạt động vận dụng\u001b[33m...\u001b[0m\n"
      ]
     },
     "metadata": {},
     "output_type": "display_data"
    },
    {
     "data": {
      "text/html": [
       "<pre style=\"white-space:pre;overflow-x:auto;line-height:normal;font-family:Menlo,'DejaVu Sans Mono',consolas,'Courier New',monospace\">\n",
       "<span style=\"color: #008080; text-decoration-color: #008080; font-weight: bold\">&gt;</span> Thời gian LLM đề xuất: <span style=\"color: #008080; text-decoration-color: #008080; font-weight: bold\">10</span> phút. Ghi đè bằng thời gian kế hoạch: <span style=\"color: #008080; text-decoration-color: #008080; font-weight: bold\">10</span> phút.\n",
       "</pre>\n"
      ],
      "text/plain": [
       "\n",
       "\u001b[1;36m>\u001b[0m Thời gian LLM đề xuất: \u001b[1;36m10\u001b[0m phút. Ghi đè bằng thời gian kế hoạch: \u001b[1;36m10\u001b[0m phút.\n"
      ]
     },
     "metadata": {},
     "output_type": "display_data"
    },
    {
     "data": {
      "text/html": [
       "<pre style=\"white-space:pre;overflow-x:auto;line-height:normal;font-family:Menlo,'DejaVu Sans Mono',consolas,'Courier New',monospace\"><span style=\"color: #008000; text-decoration-color: #008000; font-weight: bold\">✔️ Hoạt động vận dụng đã thiết kế:</span>\n",
       "</pre>\n"
      ],
      "text/plain": [
       "\u001b[1;32m✔️ Hoạt động vận dụng đã thiết kế:\u001b[0m\n"
      ]
     },
     "metadata": {},
     "output_type": "display_data"
    },
    {
     "data": {
      "text/html": [
       "<pre style=\"white-space:pre;overflow-x:auto;line-height:normal;font-family:Menlo,'DejaVu Sans Mono',consolas,'Courier New',monospace\"><span style=\"font-weight: bold\">{</span>\n",
       "<span style=\"color: #7fbf7f; text-decoration-color: #7fbf7f\">│   </span><span style=\"color: #008000; text-decoration-color: #008000\">'activity_name'</span>: <span style=\"color: #008000; text-decoration-color: #008000\">'Luyện tập đường tròn nội tiếp'</span>,\n",
       "<span style=\"color: #7fbf7f; text-decoration-color: #7fbf7f\">│   </span><span style=\"color: #008000; text-decoration-color: #008000\">'description'</span>: <span style=\"color: #008000; text-decoration-color: #008000\">'Học sinh luyện tập các bài tập về đường tròn nội tiếp dưới sự hướng dẫn của giáo viên.'</span>,\n",
       "<span style=\"color: #7fbf7f; text-decoration-color: #7fbf7f\">│   </span><span style=\"color: #008000; text-decoration-color: #008000\">'duration_minutes'</span>: <span style=\"color: #008080; text-decoration-color: #008080; font-weight: bold\">10</span>,\n",
       "<span style=\"color: #7fbf7f; text-decoration-color: #7fbf7f\">│   </span><span style=\"color: #008000; text-decoration-color: #008000\">'activity_type'</span>: <span style=\"color: #008000; text-decoration-color: #008000\">'Luyện tập cấp độ'</span>,\n",
       "<span style=\"color: #7fbf7f; text-decoration-color: #7fbf7f\">│   </span><span style=\"color: #008000; text-decoration-color: #008000\">'solution_guide'</span>: <span style=\"color: #008000; text-decoration-color: #008000\">'Giáo viên hướng dẫn học sinh thực hiện các bước sau: 1) Nhận dạng đường tròn nội tiếp, 2) Xác định tâm và bán kính, 3) Áp dụng công thức tính diện tích và chu vi.'</span>\n",
       "<span style=\"font-weight: bold\">}</span>\n",
       "</pre>\n"
      ],
      "text/plain": [
       "\u001b[1m{\u001b[0m\n",
       "\u001b[2;32m│   \u001b[0m\u001b[32m'activity_name'\u001b[0m: \u001b[32m'Luyện tập đường tròn nội tiếp'\u001b[0m,\n",
       "\u001b[2;32m│   \u001b[0m\u001b[32m'description'\u001b[0m: \u001b[32m'Học sinh luyện tập các bài tập về đường tròn nội tiếp dưới sự hướng dẫn của giáo viên.'\u001b[0m,\n",
       "\u001b[2;32m│   \u001b[0m\u001b[32m'duration_minutes'\u001b[0m: \u001b[1;36m10\u001b[0m,\n",
       "\u001b[2;32m│   \u001b[0m\u001b[32m'activity_type'\u001b[0m: \u001b[32m'Luyện tập cấp độ'\u001b[0m,\n",
       "\u001b[2;32m│   \u001b[0m\u001b[32m'solution_guide'\u001b[0m: \u001b[32m'Giáo viên hướng dẫn học sinh thực hiện các bước sau: 1\u001b[0m\u001b[32m)\u001b[0m\u001b[32m Nhận dạng đường tròn nội tiếp, 2\u001b[0m\u001b[32m)\u001b[0m\u001b[32m Xác định tâm và bán kính, 3\u001b[0m\u001b[32m)\u001b[0m\u001b[32m Áp dụng công thức tính diện tích và chu vi.'\u001b[0m\n",
       "\u001b[1m}\u001b[0m\n"
      ]
     },
     "metadata": {},
     "output_type": "display_data"
    },
    {
     "data": {
      "text/html": [
       "<pre style=\"white-space:pre;overflow-x:auto;line-height:normal;font-family:Menlo,'DejaVu Sans Mono',consolas,'Courier New',monospace\">\n",
       "<span style=\"color: #808000; text-decoration-color: #808000; font-weight: bold\">------- Hoàn thành bước: activity_designer -------</span>\n",
       "</pre>\n"
      ],
      "text/plain": [
       "\n",
       "\u001b[1;33m------- Hoàn thành bước: activity_designer -------\u001b[0m\n"
      ]
     },
     "metadata": {},
     "output_type": "display_data"
    },
    {
     "data": {
      "text/html": [
       "<pre style=\"white-space:pre;overflow-x:auto;line-height:normal;font-family:Menlo,'DejaVu Sans Mono',consolas,'Courier New',monospace\">\n",
       "<span style=\"color: #808000; text-decoration-color: #808000; font-weight: bold\">------- Hoàn thành bước: mark_task_complete -------</span>\n",
       "</pre>\n"
      ],
      "text/plain": [
       "\n",
       "\u001b[1;33m------- Hoàn thành bước: mark_task_complete -------\u001b[0m\n"
      ]
     },
     "metadata": {},
     "output_type": "display_data"
    },
    {
     "data": {
      "text/html": [
       "<pre style=\"white-space:pre;overflow-x:auto;line-height:normal;font-family:Menlo,'DejaVu Sans Mono',consolas,'Courier New',monospace\">\n",
       "<span style=\"color: #008080; text-decoration-color: #008080; font-weight: bold\">&gt;</span> `Router`: Đang kiểm tra nhiệm vụ<span style=\"color: #808000; text-decoration-color: #808000\">...</span>\n",
       "</pre>\n"
      ],
      "text/plain": [
       "\n",
       "\u001b[1;36m>\u001b[0m `Router`: Đang kiểm tra nhiệm vụ\u001b[33m...\u001b[0m\n"
      ]
     },
     "metadata": {},
     "output_type": "display_data"
    },
    {
     "data": {
      "text/html": [
       "<pre style=\"white-space:pre;overflow-x:auto;line-height:normal;font-family:Menlo,'DejaVu Sans Mono',consolas,'Courier New',monospace\">\n",
       "<span style=\"color: #008080; text-decoration-color: #008080; font-weight: bold\">&gt;</span> Nhiệm vụ tiếp theo: <span style=\"color: #008000; text-decoration-color: #008000\">'Vận dụng về đường tròn ngoại tiếp và đường tròn nội tiếp'</span> <span style=\"font-weight: bold\">(</span>ID: <span style=\"color: #008080; text-decoration-color: #008080; font-weight: bold\">6</span><span style=\"font-weight: bold\">)</span>\n",
       "</pre>\n"
      ],
      "text/plain": [
       "\n",
       "\u001b[1;36m>\u001b[0m Nhiệm vụ tiếp theo: \u001b[32m'Vận dụng về đường tròn ngoại tiếp và đường tròn nội tiếp'\u001b[0m \u001b[1m(\u001b[0mID: \u001b[1;36m6\u001b[0m\u001b[1m)\u001b[0m\n"
      ]
     },
     "metadata": {},
     "output_type": "display_data"
    },
    {
     "data": {
      "text/html": [
       "<pre style=\"white-space:pre;overflow-x:auto;line-height:normal;font-family:Menlo,'DejaVu Sans Mono',consolas,'Courier New',monospace\">\n",
       "<span style=\"color: #808000; text-decoration-color: #808000; font-weight: bold\">------- Hoàn thành bước: task_router -------</span>\n",
       "</pre>\n"
      ],
      "text/plain": [
       "\n",
       "\u001b[1;33m------- Hoàn thành bước: task_router -------\u001b[0m\n"
      ]
     },
     "metadata": {},
     "output_type": "display_data"
    },
    {
     "data": {
      "text/html": [
       "<pre style=\"white-space:pre;overflow-x:auto;line-height:normal;font-family:Menlo,'DejaVu Sans Mono',consolas,'Courier New',monospace\">\n",
       "<span style=\"color: #008080; text-decoration-color: #008080; font-weight: bold\">&gt;</span> `Agent: Task Dispatcher` <span style=\"font-weight: bold\">(</span>v6.<span style=\"color: #008080; text-decoration-color: #008080; font-weight: bold\">9</span><span style=\"font-weight: bold\">)</span> Bắt đầu<span style=\"color: #808000; text-decoration-color: #808000\">...</span>\n",
       "</pre>\n"
      ],
      "text/plain": [
       "\n",
       "\u001b[1;36m>\u001b[0m `Agent: Task Dispatcher` \u001b[1m(\u001b[0mv6.\u001b[1;36m9\u001b[0m\u001b[1m)\u001b[0m Bắt đầu\u001b[33m...\u001b[0m\n"
      ]
     },
     "metadata": {},
     "output_type": "display_data"
    },
    {
     "data": {
      "text/html": [
       "<pre style=\"white-space:pre;overflow-x:auto;line-height:normal;font-family:Menlo,'DejaVu Sans Mono',consolas,'Courier New',monospace\">\n",
       "<span style=\"color: #008080; text-decoration-color: #008080; font-weight: bold\">&gt;</span> --- 🚚 `Dispatcher`: Giao nhiệm vụ cho `activity_designer`.\n",
       "</pre>\n"
      ],
      "text/plain": [
       "\n",
       "\u001b[1;36m>\u001b[0m --- 🚚 `Dispatcher`: Giao nhiệm vụ cho `activity_designer`.\n"
      ]
     },
     "metadata": {},
     "output_type": "display_data"
    },
    {
     "data": {
      "text/html": [
       "<pre style=\"white-space:pre;overflow-x:auto;line-height:normal;font-family:Menlo,'DejaVu Sans Mono',consolas,'Courier New',monospace\">\n",
       "<span style=\"color: #808000; text-decoration-color: #808000; font-weight: bold\">------- Hoàn thành bước: task_dispatcher -------</span>\n",
       "</pre>\n"
      ],
      "text/plain": [
       "\n",
       "\u001b[1;33m------- Hoàn thành bước: task_dispatcher -------\u001b[0m\n"
      ]
     },
     "metadata": {},
     "output_type": "display_data"
    },
    {
     "data": {
      "text/html": [
       "<pre style=\"white-space:pre;overflow-x:auto;line-height:normal;font-family:Menlo,'DejaVu Sans Mono',consolas,'Courier New',monospace\">\n",
       "<span style=\"color: #008080; text-decoration-color: #008080; font-weight: bold\">&gt;</span> `Agent: Activity Designer` <span style=\"font-weight: bold\">(</span>v6.<span style=\"color: #008080; text-decoration-color: #008080; font-weight: bold\">9</span><span style=\"font-weight: bold\">)</span> đang thiết kế hoạt động vận dụng<span style=\"color: #808000; text-decoration-color: #808000\">...</span>\n",
       "</pre>\n"
      ],
      "text/plain": [
       "\n",
       "\u001b[1;36m>\u001b[0m `Agent: Activity Designer` \u001b[1m(\u001b[0mv6.\u001b[1;36m9\u001b[0m\u001b[1m)\u001b[0m đang thiết kế hoạt động vận dụng\u001b[33m...\u001b[0m\n"
      ]
     },
     "metadata": {},
     "output_type": "display_data"
    },
    {
     "data": {
      "text/html": [
       "<pre style=\"white-space:pre;overflow-x:auto;line-height:normal;font-family:Menlo,'DejaVu Sans Mono',consolas,'Courier New',monospace\">\n",
       "<span style=\"color: #008080; text-decoration-color: #008080; font-weight: bold\">&gt;</span> Thời gian LLM đề xuất: <span style=\"color: #008080; text-decoration-color: #008080; font-weight: bold\">20</span> phút. Ghi đè bằng thời gian kế hoạch: <span style=\"color: #008080; text-decoration-color: #008080; font-weight: bold\">20</span> phút.\n",
       "</pre>\n"
      ],
      "text/plain": [
       "\n",
       "\u001b[1;36m>\u001b[0m Thời gian LLM đề xuất: \u001b[1;36m20\u001b[0m phút. Ghi đè bằng thời gian kế hoạch: \u001b[1;36m20\u001b[0m phút.\n"
      ]
     },
     "metadata": {},
     "output_type": "display_data"
    },
    {
     "data": {
      "text/html": [
       "<pre style=\"white-space:pre;overflow-x:auto;line-height:normal;font-family:Menlo,'DejaVu Sans Mono',consolas,'Courier New',monospace\"><span style=\"color: #008000; text-decoration-color: #008000; font-weight: bold\">✔️ Hoạt động vận dụng đã thiết kế:</span>\n",
       "</pre>\n"
      ],
      "text/plain": [
       "\u001b[1;32m✔️ Hoạt động vận dụng đã thiết kế:\u001b[0m\n"
      ]
     },
     "metadata": {},
     "output_type": "display_data"
    },
    {
     "data": {
      "text/html": [
       "<pre style=\"white-space:pre;overflow-x:auto;line-height:normal;font-family:Menlo,'DejaVu Sans Mono',consolas,'Courier New',monospace\"><span style=\"font-weight: bold\">{</span>\n",
       "<span style=\"color: #7fbf7f; text-decoration-color: #7fbf7f\">│   </span><span style=\"color: #008000; text-decoration-color: #008000\">'activity_name'</span>: <span style=\"color: #008000; text-decoration-color: #008000\">'Áp dụng đường tròn ngoại tiếp và đường tròn nội tiếp'</span>,\n",
       "<span style=\"color: #7fbf7f; text-decoration-color: #7fbf7f\">│   </span><span style=\"color: #008000; text-decoration-color: #008000\">'description'</span>: <span style=\"color: #008000; text-decoration-color: #008000\">'Học sinh sẽ áp dụng các kiến thức đã học để giải quyết các vấn đề liên quan đến đường tròn ngoại tiếp và đường tròn nội tiếp.'</span>,\n",
       "<span style=\"color: #7fbf7f; text-decoration-color: #7fbf7f\">│   </span><span style=\"color: #008000; text-decoration-color: #008000\">'duration_minutes'</span>: <span style=\"color: #008080; text-decoration-color: #008080; font-weight: bold\">20</span>,\n",
       "<span style=\"color: #7fbf7f; text-decoration-color: #7fbf7f\">│   </span><span style=\"color: #008000; text-decoration-color: #008000\">'activity_type'</span>: <span style=\"color: #008000; text-decoration-color: #008000\">'Luyện tập cấp độ'</span>,\n",
       "<span style=\"color: #7fbf7f; text-decoration-color: #7fbf7f\">│   </span><span style=\"color: #008000; text-decoration-color: #008000\">'solution_guide'</span>: <span style=\"color: #008000; text-decoration-color: #008000\">'Hướng dẫn học sinh vẽ đường tròn ngoại tiếp và đường tròn nội tiếp của một đa giác, sau đó áp dụng các công thức đã học để giải quyết các vấn đề.'</span>\n",
       "<span style=\"font-weight: bold\">}</span>\n",
       "</pre>\n"
      ],
      "text/plain": [
       "\u001b[1m{\u001b[0m\n",
       "\u001b[2;32m│   \u001b[0m\u001b[32m'activity_name'\u001b[0m: \u001b[32m'Áp dụng đường tròn ngoại tiếp và đường tròn nội tiếp'\u001b[0m,\n",
       "\u001b[2;32m│   \u001b[0m\u001b[32m'description'\u001b[0m: \u001b[32m'Học sinh sẽ áp dụng các kiến thức đã học để giải quyết các vấn đề liên quan đến đường tròn ngoại tiếp và đường tròn nội tiếp.'\u001b[0m,\n",
       "\u001b[2;32m│   \u001b[0m\u001b[32m'duration_minutes'\u001b[0m: \u001b[1;36m20\u001b[0m,\n",
       "\u001b[2;32m│   \u001b[0m\u001b[32m'activity_type'\u001b[0m: \u001b[32m'Luyện tập cấp độ'\u001b[0m,\n",
       "\u001b[2;32m│   \u001b[0m\u001b[32m'solution_guide'\u001b[0m: \u001b[32m'Hướng dẫn học sinh vẽ đường tròn ngoại tiếp và đường tròn nội tiếp của một đa giác, sau đó áp dụng các công thức đã học để giải quyết các vấn đề.'\u001b[0m\n",
       "\u001b[1m}\u001b[0m\n"
      ]
     },
     "metadata": {},
     "output_type": "display_data"
    },
    {
     "data": {
      "text/html": [
       "<pre style=\"white-space:pre;overflow-x:auto;line-height:normal;font-family:Menlo,'DejaVu Sans Mono',consolas,'Courier New',monospace\">\n",
       "<span style=\"color: #808000; text-decoration-color: #808000; font-weight: bold\">------- Hoàn thành bước: activity_designer -------</span>\n",
       "</pre>\n"
      ],
      "text/plain": [
       "\n",
       "\u001b[1;33m------- Hoàn thành bước: activity_designer -------\u001b[0m\n"
      ]
     },
     "metadata": {},
     "output_type": "display_data"
    },
    {
     "data": {
      "text/html": [
       "<pre style=\"white-space:pre;overflow-x:auto;line-height:normal;font-family:Menlo,'DejaVu Sans Mono',consolas,'Courier New',monospace\">\n",
       "<span style=\"color: #808000; text-decoration-color: #808000; font-weight: bold\">------- Hoàn thành bước: mark_task_complete -------</span>\n",
       "</pre>\n"
      ],
      "text/plain": [
       "\n",
       "\u001b[1;33m------- Hoàn thành bước: mark_task_complete -------\u001b[0m\n"
      ]
     },
     "metadata": {},
     "output_type": "display_data"
    },
    {
     "data": {
      "text/html": [
       "<pre style=\"white-space:pre;overflow-x:auto;line-height:normal;font-family:Menlo,'DejaVu Sans Mono',consolas,'Courier New',monospace\">\n",
       "<span style=\"color: #008080; text-decoration-color: #008080; font-weight: bold\">&gt;</span> `Router`: Đang kiểm tra nhiệm vụ<span style=\"color: #808000; text-decoration-color: #808000\">...</span>\n",
       "</pre>\n"
      ],
      "text/plain": [
       "\n",
       "\u001b[1;36m>\u001b[0m `Router`: Đang kiểm tra nhiệm vụ\u001b[33m...\u001b[0m\n"
      ]
     },
     "metadata": {},
     "output_type": "display_data"
    },
    {
     "data": {
      "text/html": [
       "<pre style=\"white-space:pre;overflow-x:auto;line-height:normal;font-family:Menlo,'DejaVu Sans Mono',consolas,'Courier New',monospace\">\n",
       "<span style=\"color: #008080; text-decoration-color: #008080; font-weight: bold\">&gt;</span> Nhiệm vụ tiếp theo: <span style=\"color: #008000; text-decoration-color: #008000\">'Tổng kết và dặn dò'</span> <span style=\"font-weight: bold\">(</span>ID: <span style=\"color: #008080; text-decoration-color: #008080; font-weight: bold\">7</span><span style=\"font-weight: bold\">)</span>\n",
       "</pre>\n"
      ],
      "text/plain": [
       "\n",
       "\u001b[1;36m>\u001b[0m Nhiệm vụ tiếp theo: \u001b[32m'Tổng kết và dặn dò'\u001b[0m \u001b[1m(\u001b[0mID: \u001b[1;36m7\u001b[0m\u001b[1m)\u001b[0m\n"
      ]
     },
     "metadata": {},
     "output_type": "display_data"
    },
    {
     "data": {
      "text/html": [
       "<pre style=\"white-space:pre;overflow-x:auto;line-height:normal;font-family:Menlo,'DejaVu Sans Mono',consolas,'Courier New',monospace\">\n",
       "<span style=\"color: #808000; text-decoration-color: #808000; font-weight: bold\">------- Hoàn thành bước: task_router -------</span>\n",
       "</pre>\n"
      ],
      "text/plain": [
       "\n",
       "\u001b[1;33m------- Hoàn thành bước: task_router -------\u001b[0m\n"
      ]
     },
     "metadata": {},
     "output_type": "display_data"
    },
    {
     "data": {
      "text/html": [
       "<pre style=\"white-space:pre;overflow-x:auto;line-height:normal;font-family:Menlo,'DejaVu Sans Mono',consolas,'Courier New',monospace\">\n",
       "<span style=\"color: #008080; text-decoration-color: #008080; font-weight: bold\">&gt;</span> `Agent: Task Dispatcher` <span style=\"font-weight: bold\">(</span>v6.<span style=\"color: #008080; text-decoration-color: #008080; font-weight: bold\">9</span><span style=\"font-weight: bold\">)</span> Bắt đầu<span style=\"color: #808000; text-decoration-color: #808000\">...</span>\n",
       "</pre>\n"
      ],
      "text/plain": [
       "\n",
       "\u001b[1;36m>\u001b[0m `Agent: Task Dispatcher` \u001b[1m(\u001b[0mv6.\u001b[1;36m9\u001b[0m\u001b[1m)\u001b[0m Bắt đầu\u001b[33m...\u001b[0m\n"
      ]
     },
     "metadata": {},
     "output_type": "display_data"
    },
    {
     "data": {
      "text/html": [
       "<pre style=\"white-space:pre;overflow-x:auto;line-height:normal;font-family:Menlo,'DejaVu Sans Mono',consolas,'Courier New',monospace\">\n",
       "<span style=\"color: #008080; text-decoration-color: #008080; font-weight: bold\">&gt;</span> --- 🚚 `Dispatcher`: Giao nhiệm vụ cho `theory_synthesizer`.\n",
       "</pre>\n"
      ],
      "text/plain": [
       "\n",
       "\u001b[1;36m>\u001b[0m --- 🚚 `Dispatcher`: Giao nhiệm vụ cho `theory_synthesizer`.\n"
      ]
     },
     "metadata": {},
     "output_type": "display_data"
    },
    {
     "data": {
      "text/html": [
       "<pre style=\"white-space:pre;overflow-x:auto;line-height:normal;font-family:Menlo,'DejaVu Sans Mono',consolas,'Courier New',monospace\">\n",
       "<span style=\"color: #808000; text-decoration-color: #808000; font-weight: bold\">------- Hoàn thành bước: task_dispatcher -------</span>\n",
       "</pre>\n"
      ],
      "text/plain": [
       "\n",
       "\u001b[1;33m------- Hoàn thành bước: task_dispatcher -------\u001b[0m\n"
      ]
     },
     "metadata": {},
     "output_type": "display_data"
    },
    {
     "data": {
      "text/html": [
       "<pre style=\"white-space:pre;overflow-x:auto;line-height:normal;font-family:Menlo,'DejaVu Sans Mono',consolas,'Courier New',monospace\">\n",
       "<span style=\"color: #008080; text-decoration-color: #008080; font-weight: bold\">&gt;</span> `Agent: Theory Synthesizer` <span style=\"font-weight: bold\">(</span>v6.<span style=\"color: #008080; text-decoration-color: #008080; font-weight: bold\">9</span><span style=\"font-weight: bold\">)</span> đang thiết kế hoạt động lý thuyết<span style=\"color: #808000; text-decoration-color: #808000\">...</span>\n",
       "</pre>\n"
      ],
      "text/plain": [
       "\n",
       "\u001b[1;36m>\u001b[0m `Agent: Theory Synthesizer` \u001b[1m(\u001b[0mv6.\u001b[1;36m9\u001b[0m\u001b[1m)\u001b[0m đang thiết kế hoạt động lý thuyết\u001b[33m...\u001b[0m\n"
      ]
     },
     "metadata": {},
     "output_type": "display_data"
    },
    {
     "data": {
      "text/html": [
       "<pre style=\"white-space:pre;overflow-x:auto;line-height:normal;font-family:Menlo,'DejaVu Sans Mono',consolas,'Courier New',monospace\">\n",
       "<span style=\"color: #008080; text-decoration-color: #008080; font-weight: bold\">&gt;</span> Thời gian LLM đề xuất: <span style=\"color: #008080; text-decoration-color: #008080; font-weight: bold\">5</span> phút. Ghi đè bằng thời gian kế hoạch: <span style=\"color: #008080; text-decoration-color: #008080; font-weight: bold\">5</span> phút.\n",
       "</pre>\n"
      ],
      "text/plain": [
       "\n",
       "\u001b[1;36m>\u001b[0m Thời gian LLM đề xuất: \u001b[1;36m5\u001b[0m phút. Ghi đè bằng thời gian kế hoạch: \u001b[1;36m5\u001b[0m phút.\n"
      ]
     },
     "metadata": {},
     "output_type": "display_data"
    },
    {
     "data": {
      "text/html": [
       "<pre style=\"white-space:pre;overflow-x:auto;line-height:normal;font-family:Menlo,'DejaVu Sans Mono',consolas,'Courier New',monospace\"><span style=\"color: #008000; text-decoration-color: #008000; font-weight: bold\">✔️ Hoạt động lý thuyết đã thiết kế:</span>\n",
       "</pre>\n"
      ],
      "text/plain": [
       "\u001b[1;32m✔️ Hoạt động lý thuyết đã thiết kế:\u001b[0m\n"
      ]
     },
     "metadata": {},
     "output_type": "display_data"
    },
    {
     "data": {
      "text/html": [
       "<pre style=\"white-space:pre;overflow-x:auto;line-height:normal;font-family:Menlo,'DejaVu Sans Mono',consolas,'Courier New',monospace\"><span style=\"font-weight: bold\">{</span>\n",
       "<span style=\"color: #7fbf7f; text-decoration-color: #7fbf7f\">│   </span><span style=\"color: #008000; text-decoration-color: #008000\">'activity_name'</span>: <span style=\"color: #008000; text-decoration-color: #008000\">'Tóm tắt bài học và dặn dò học sinh'</span>,\n",
       "<span style=\"color: #7fbf7f; text-decoration-color: #7fbf7f\">│   </span><span style=\"color: #008000; text-decoration-color: #008000\">'description'</span>: <span style=\"color: #008000; text-decoration-color: #008000\">'Giáo viên tổng kết bài học, dặn dò học sinh về các nhiệm vụ cần hoàn thành'</span>,\n",
       "<span style=\"color: #7fbf7f; text-decoration-color: #7fbf7f\">│   </span><span style=\"color: #008000; text-decoration-color: #008000\">'duration_minutes'</span>: <span style=\"color: #008080; text-decoration-color: #008080; font-weight: bold\">5</span>,\n",
       "<span style=\"color: #7fbf7f; text-decoration-color: #7fbf7f\">│   </span><span style=\"color: #008000; text-decoration-color: #008000\">'activity_type'</span>: <span style=\"color: #008000; text-decoration-color: #008000\">'Giảng giải lý thuyết'</span>,\n",
       "<span style=\"color: #7fbf7f; text-decoration-color: #7fbf7f\">│   </span><span style=\"color: #008000; text-decoration-color: #008000\">'solution_guide'</span>: <span style=\"color: #008000; text-decoration-color: #008000\">'Giáo viên cần tổng kết lại các nội dung chính của bài học, nhắc lại các nhiệm vụ cần hoàn thành và dặn dò học sinh về các công việc cần làm trong thời gian tới.'</span>\n",
       "<span style=\"font-weight: bold\">}</span>\n",
       "</pre>\n"
      ],
      "text/plain": [
       "\u001b[1m{\u001b[0m\n",
       "\u001b[2;32m│   \u001b[0m\u001b[32m'activity_name'\u001b[0m: \u001b[32m'Tóm tắt bài học và dặn dò học sinh'\u001b[0m,\n",
       "\u001b[2;32m│   \u001b[0m\u001b[32m'description'\u001b[0m: \u001b[32m'Giáo viên tổng kết bài học, dặn dò học sinh về các nhiệm vụ cần hoàn thành'\u001b[0m,\n",
       "\u001b[2;32m│   \u001b[0m\u001b[32m'duration_minutes'\u001b[0m: \u001b[1;36m5\u001b[0m,\n",
       "\u001b[2;32m│   \u001b[0m\u001b[32m'activity_type'\u001b[0m: \u001b[32m'Giảng giải lý thuyết'\u001b[0m,\n",
       "\u001b[2;32m│   \u001b[0m\u001b[32m'solution_guide'\u001b[0m: \u001b[32m'Giáo viên cần tổng kết lại các nội dung chính của bài học, nhắc lại các nhiệm vụ cần hoàn thành và dặn dò học sinh về các công việc cần làm trong thời gian tới.'\u001b[0m\n",
       "\u001b[1m}\u001b[0m\n"
      ]
     },
     "metadata": {},
     "output_type": "display_data"
    },
    {
     "data": {
      "text/html": [
       "<pre style=\"white-space:pre;overflow-x:auto;line-height:normal;font-family:Menlo,'DejaVu Sans Mono',consolas,'Courier New',monospace\">\n",
       "<span style=\"color: #808000; text-decoration-color: #808000; font-weight: bold\">------- Hoàn thành bước: theory_synthesizer -------</span>\n",
       "</pre>\n"
      ],
      "text/plain": [
       "\n",
       "\u001b[1;33m------- Hoàn thành bước: theory_synthesizer -------\u001b[0m\n"
      ]
     },
     "metadata": {},
     "output_type": "display_data"
    },
    {
     "data": {
      "text/html": [
       "<pre style=\"white-space:pre;overflow-x:auto;line-height:normal;font-family:Menlo,'DejaVu Sans Mono',consolas,'Courier New',monospace\">\n",
       "<span style=\"color: #808000; text-decoration-color: #808000; font-weight: bold\">------- Hoàn thành bước: mark_task_complete -------</span>\n",
       "</pre>\n"
      ],
      "text/plain": [
       "\n",
       "\u001b[1;33m------- Hoàn thành bước: mark_task_complete -------\u001b[0m\n"
      ]
     },
     "metadata": {},
     "output_type": "display_data"
    },
    {
     "data": {
      "text/html": [
       "<pre style=\"white-space:pre;overflow-x:auto;line-height:normal;font-family:Menlo,'DejaVu Sans Mono',consolas,'Courier New',monospace\">\n",
       "<span style=\"color: #008080; text-decoration-color: #008080; font-weight: bold\">&gt;</span> `Router`: Đang kiểm tra nhiệm vụ<span style=\"color: #808000; text-decoration-color: #808000\">...</span>\n",
       "</pre>\n"
      ],
      "text/plain": [
       "\n",
       "\u001b[1;36m>\u001b[0m `Router`: Đang kiểm tra nhiệm vụ\u001b[33m...\u001b[0m\n"
      ]
     },
     "metadata": {},
     "output_type": "display_data"
    },
    {
     "data": {
      "text/html": [
       "<pre style=\"white-space:pre;overflow-x:auto;line-height:normal;font-family:Menlo,'DejaVu Sans Mono',consolas,'Courier New',monospace\">\n",
       "<span style=\"color: #008080; text-decoration-color: #008080; font-weight: bold\">&gt;</span> Hết nhiệm vụ, chuyển sang node Compiler &amp; Critic.\n",
       "</pre>\n"
      ],
      "text/plain": [
       "\n",
       "\u001b[1;36m>\u001b[0m Hết nhiệm vụ, chuyển sang node Compiler & Critic.\n"
      ]
     },
     "metadata": {},
     "output_type": "display_data"
    },
    {
     "data": {
      "text/html": [
       "<pre style=\"white-space:pre;overflow-x:auto;line-height:normal;font-family:Menlo,'DejaVu Sans Mono',consolas,'Courier New',monospace\">\n",
       "<span style=\"color: #808000; text-decoration-color: #808000; font-weight: bold\">------- Hoàn thành bước: task_router -------</span>\n",
       "</pre>\n"
      ],
      "text/plain": [
       "\n",
       "\u001b[1;33m------- Hoàn thành bước: task_router -------\u001b[0m\n"
      ]
     },
     "metadata": {},
     "output_type": "display_data"
    },
    {
     "data": {
      "text/html": [
       "<pre style=\"white-space:pre;overflow-x:auto;line-height:normal;font-family:Menlo,'DejaVu Sans Mono',consolas,'Courier New',monospace\">\n",
       "<span style=\"color: #008080; text-decoration-color: #008080; font-weight: bold\">&gt;</span> `Agent: Plan Compiler &amp; Critic` <span style=\"font-weight: bold\">(</span>v6.<span style=\"color: #008080; text-decoration-color: #008080; font-weight: bold\">9</span><span style=\"font-weight: bold\">)</span> đang tổng hợp và đánh giá<span style=\"color: #808000; text-decoration-color: #808000\">...</span>\n",
       "</pre>\n"
      ],
      "text/plain": [
       "\n",
       "\u001b[1;36m>\u001b[0m `Agent: Plan Compiler & Critic` \u001b[1m(\u001b[0mv6.\u001b[1;36m9\u001b[0m\u001b[1m)\u001b[0m đang tổng hợp và đánh giá\u001b[33m...\u001b[0m\n"
      ]
     },
     "metadata": {},
     "output_type": "display_data"
    },
    {
     "data": {
      "text/html": [
       "<pre style=\"white-space:pre;overflow-x:auto;line-height:normal;font-family:Menlo,'DejaVu Sans Mono',consolas,'Courier New',monospace\">\n",
       "<span style=\"color: #008080; text-decoration-color: #008080; font-weight: bold\">&gt;</span> CRITIC: Kế hoạch hợp lệ! Bắt đầu tổng hợp giáo án chi tiết<span style=\"color: #808000; text-decoration-color: #808000\">...</span>\n",
       "</pre>\n"
      ],
      "text/plain": [
       "\n",
       "\u001b[1;36m>\u001b[0m CRITIC: Kế hoạch hợp lệ! Bắt đầu tổng hợp giáo án chi tiết\u001b[33m...\u001b[0m\n"
      ]
     },
     "metadata": {},
     "output_type": "display_data"
    },
    {
     "data": {
      "text/html": [
       "<pre style=\"white-space:pre;overflow-x:auto;line-height:normal;font-family:Menlo,'DejaVu Sans Mono',consolas,'Courier New',monospace\">\n",
       "<span style=\"color: #008080; text-decoration-color: #008080; font-weight: bold\">&gt;</span> ROUTER: Critic đã hài lòng. Kết thúc quy trình.\n",
       "</pre>\n"
      ],
      "text/plain": [
       "\n",
       "\u001b[1;36m>\u001b[0m ROUTER: Critic đã hài lòng. Kết thúc quy trình.\n"
      ]
     },
     "metadata": {},
     "output_type": "display_data"
    },
    {
     "data": {
      "text/html": [
       "<pre style=\"white-space:pre;overflow-x:auto;line-height:normal;font-family:Menlo,'DejaVu Sans Mono',consolas,'Courier New',monospace\">\n",
       "<span style=\"color: #808000; text-decoration-color: #808000; font-weight: bold\">------- Hoàn thành bước: plan_compiler_and_critic -------</span>\n",
       "</pre>\n"
      ],
      "text/plain": [
       "\n",
       "\u001b[1;33m------- Hoàn thành bước: plan_compiler_and_critic -------\u001b[0m\n"
      ]
     },
     "metadata": {},
     "output_type": "display_data"
    },
    {
     "data": {
      "text/html": [
       "<pre style=\"white-space:pre;overflow-x:auto;line-height:normal;font-family:Menlo,'DejaVu Sans Mono',consolas,'Courier New',monospace\">\n",
       "<span style=\"color: #800080; text-decoration-color: #800080; font-weight: bold\">🏁 KẾT THÚC QUY TRÌNH V6.</span><span style=\"color: #800080; text-decoration-color: #800080; font-weight: bold\">9</span><span style=\"color: #800080; text-decoration-color: #800080; font-weight: bold\">.</span>\n",
       "</pre>\n"
      ],
      "text/plain": [
       "\n",
       "\u001b[1;35m🏁 KẾT THÚC QUY TRÌNH V6.\u001b[0m\u001b[1;35m9\u001b[0m\u001b[1;35m.\u001b[0m\n"
      ]
     },
     "metadata": {},
     "output_type": "display_data"
    },
    {
     "data": {
      "text/html": [
       "<pre style=\"white-space:pre;overflow-x:auto;line-height:normal;font-family:Menlo,'DejaVu Sans Mono',consolas,'Courier New',monospace\">\n",
       "<span style=\"color: #008000; text-decoration-color: #008000; font-weight: bold\">📝 GIÁO ÁN HOÀN CHỈNH (v6.</span><span style=\"color: #008000; text-decoration-color: #008000; font-weight: bold\">9</span><span style=\"color: #008000; text-decoration-color: #008000; font-weight: bold\">)</span>\n",
       "</pre>\n"
      ],
      "text/plain": [
       "\n",
       "\u001b[1;32m📝 GIÁO ÁN HOÀN CHỈNH \u001b[0m\u001b[1;32m(\u001b[0m\u001b[1;32mv6.\u001b[0m\u001b[1;32m9\u001b[0m\u001b[1;32m)\u001b[0m\n"
      ]
     },
     "metadata": {},
     "output_type": "display_data"
    },
    {
     "data": {
      "text/html": [
       "<pre style=\"white-space:pre;overflow-x:auto;line-height:normal;font-family:Menlo,'DejaVu Sans Mono',consolas,'Courier New',monospace\">┏━━━━━━━━━━━━━━━━━━━━━━━━━━━━━━━━━━━━━━━━━━━━━━━━━━━━━━━━━━━━━━━━━━━━━━━━━━━━━━━━━━━━━━━━━━━━━━━━━━━━━━━━━━━━━━━━━┓\n",
       "┃                          <span style=\"font-weight: bold\">GIÁO ÁN BÀI DẠY: Đường tròn ngoại tiếp và đường tròn nội tiếp</span>                          ┃\n",
       "┗━━━━━━━━━━━━━━━━━━━━━━━━━━━━━━━━━━━━━━━━━━━━━━━━━━━━━━━━━━━━━━━━━━━━━━━━━━━━━━━━━━━━━━━━━━━━━━━━━━━━━━━━━━━━━━━━━┛\n",
       "\n",
       "<span style=\"color: #808000; text-decoration-color: #808000\">───────────────────────────────────────────────────────────────────────────────────────────────────────────────────</span>\n",
       "\n",
       "                                                <span style=\"font-weight: bold; text-decoration: underline\">I. THÔNG TIN CHUNG</span>                                                 \n",
       "\n",
       "<span style=\"color: #808000; text-decoration-color: #808000; font-weight: bold\"> • </span><span style=\"font-weight: bold\">Môn học:</span> Toán                                                                                                   \n",
       "<span style=\"color: #808000; text-decoration-color: #808000; font-weight: bold\"> • </span><span style=\"font-weight: bold\">Lớp:</span> 9                                                                                                          \n",
       "<span style=\"color: #808000; text-decoration-color: #808000; font-weight: bold\"> • </span><span style=\"font-weight: bold\">Thời lượng dự kiến:</span> 85 phút / 90 phút                                                                           \n",
       "<span style=\"color: #808000; text-decoration-color: #808000; font-weight: bold\"> • </span><span style=\"font-weight: bold\">Phương pháp sư phạm chủ đạo:</span> Phương pháp vấn đáp                                                                \n",
       "\n",
       "<span style=\"color: #808000; text-decoration-color: #808000\">───────────────────────────────────────────────────────────────────────────────────────────────────────────────────</span>\n",
       "\n",
       "                                               <span style=\"font-weight: bold; text-decoration: underline\">II. MỤC TIÊU BÀI HỌC</span>                                                \n",
       "\n",
       "<span style=\"color: #808000; text-decoration-color: #808000; font-weight: bold\"> • </span>Học sinh có thể <span style=\"font-weight: bold\">Soạn</span> kiến thức về Đường tròn ngoại tiếp và đường tròn nội tiếp để giải quyết các bài toán liên  \n",
       "<span style=\"color: #808000; text-decoration-color: #808000; font-weight: bold\">   </span>quan.                                                                                                           \n",
       "<span style=\"color: #808000; text-decoration-color: #808000; font-weight: bold\"> • </span>Rèn luyện kỹ năng tư duy logic, mô hình hóa toán học và giải quyết vấn đề.                                      \n",
       "\n",
       "<span style=\"color: #808000; text-decoration-color: #808000\">───────────────────────────────────────────────────────────────────────────────────────────────────────────────────</span>\n",
       "\n",
       "                                                   <span style=\"font-weight: bold; text-decoration: underline\">III. CHUẨN BỊ</span>                                                   \n",
       "\n",
       "<span style=\"color: #808000; text-decoration-color: #808000; font-weight: bold\"> • </span><span style=\"font-weight: bold\">Giáo viên:</span> Bảng phụ, phấn màu, phiếu học tập (nếu có).                                                          \n",
       "<span style=\"color: #808000; text-decoration-color: #808000; font-weight: bold\"> • </span><span style=\"font-weight: bold\">Học sinh:</span> Sách giáo khoa, vở ghi, dụng cụ học tập (compa, thước kẻ).                                            \n",
       "<span style=\"color: #808000; text-decoration-color: #808000; font-weight: bold\"> • </span><span style=\"font-weight: bold\">Nguồn tài liệu tham khảo:</span> Sách giáo khoa Toán 9 (từ RAG - đã sàng lọc)                                          \n",
       "\n",
       "<span style=\"color: #808000; text-decoration-color: #808000\">───────────────────────────────────────────────────────────────────────────────────────────────────────────────────</span>\n",
       "\n",
       "                                              <span style=\"font-weight: bold; text-decoration: underline\">IV. TIẾN TRÌNH BÀI DẠY</span>                                               \n",
       "\n",
       "                                       <span style=\"font-weight: bold\">Hoạt động 1: Kiểm tra bài cũ (5 phút)</span>                                       \n",
       "\n",
       "<span style=\"color: #808000; text-decoration-color: #808000; font-weight: bold\"> • </span><span style=\"font-weight: bold\">Loại hình:</span> Giảng giải lý thuyết                                                                                 \n",
       "<span style=\"color: #808000; text-decoration-color: #808000; font-weight: bold\"> • </span><span style=\"font-weight: bold\">Mô tả/Nhiệm vụ:</span> Giáo viên ổn định lớp, kiểm tra bài cũ về các kiến thức đã học trước đó                         \n",
       "<span style=\"color: #808000; text-decoration-color: #808000; font-weight: bold\"> • </span><span style=\"font-weight: bold\">Gợi ý đáp án/Hướng dẫn giải:</span> Giáo viên sẽ hỏi các câu hỏi để kiểm tra kiến thức của học sinh về các nội dung đã \n",
       "<span style=\"color: #808000; text-decoration-color: #808000; font-weight: bold\">   </span>học trước đó.                                                                                                   \n",
       "\n",
       "<span style=\"color: #808000; text-decoration-color: #808000\">───────────────────────────────────────────────────────────────────────────────────────────────────────────────────</span>\n",
       "                 <span style=\"font-weight: bold\">Hoạt động 2: Giới thiệu về đường tròn ngoại tiếp và đường tròn nội tiếp (5 phút)</span>                  \n",
       "\n",
       "<span style=\"color: #808000; text-decoration-color: #808000; font-weight: bold\"> • </span><span style=\"font-weight: bold\">Loại hình:</span> Giảng giải lý thuyết                                                                                 \n",
       "<span style=\"color: #808000; text-decoration-color: #808000; font-weight: bold\"> • </span><span style=\"font-weight: bold\">Mô tả/Nhiệm vụ:</span> Giáo viên giới thiệu về đường tròn ngoại tiếp và đường tròn nội tiếp, nêu vấn đề và mục tiêu của\n",
       "<span style=\"color: #808000; text-decoration-color: #808000; font-weight: bold\">   </span>bài học                                                                                                         \n",
       "<span style=\"color: #808000; text-decoration-color: #808000; font-weight: bold\"> • </span><span style=\"font-weight: bold\">Gợi ý đáp án/Hướng dẫn giải:</span> Giáo viên cần nêu rõ định nghĩa, công thức và các ví dụ minh họa về đường tròn     \n",
       "<span style=\"color: #808000; text-decoration-color: #808000; font-weight: bold\">   </span>ngoại tiếp và đường tròn nội tiếp.                                                                              \n",
       "\n",
       "<span style=\"color: #808000; text-decoration-color: #808000\">───────────────────────────────────────────────────────────────────────────────────────────────────────────────────</span>\n",
       "            <span style=\"font-weight: bold\">Hoạt động 3: Giảng giải về định nghĩa và các tính chất của đường tròn ngoại tiếp (15 phút)</span>             \n",
       "\n",
       "<span style=\"color: #808000; text-decoration-color: #808000; font-weight: bold\"> • </span><span style=\"font-weight: bold\">Loại hình:</span> Giảng giải lý thuyết                                                                                 \n",
       "<span style=\"color: #808000; text-decoration-color: #808000; font-weight: bold\"> • </span><span style=\"font-weight: bold\">Mô tả/Nhiệm vụ:</span> Giáo viên giảng giải về định nghĩa và các tính chất của đường tròn ngoại tiếp, học sinh lắng    \n",
       "<span style=\"color: #808000; text-decoration-color: #808000; font-weight: bold\">   </span>nghe và ghi chép lại các nội dung quan trọng.                                                                   \n",
       "<span style=\"color: #808000; text-decoration-color: #808000; font-weight: bold\"> • </span><span style=\"font-weight: bold\">Gợi ý đáp án/Hướng dẫn giải:</span> Giáo viên cần chuẩn bị các ví dụ minh họa và các câu hỏi gợi mở để học sinh tham   \n",
       "<span style=\"color: #808000; text-decoration-color: #808000; font-weight: bold\">   </span>gia thảo luận.                                                                                                  \n",
       "\n",
       "<span style=\"color: #808000; text-decoration-color: #808000\">───────────────────────────────────────────────────────────────────────────────────────────────────────────────────</span>\n",
       "                              <span style=\"font-weight: bold\">Hoạt động 4: Luyện tập đường tròn ngoại tiếp (10 phút)</span>                               \n",
       "\n",
       "<span style=\"color: #808000; text-decoration-color: #808000; font-weight: bold\"> • </span><span style=\"font-weight: bold\">Loại hình:</span> Luyện tập cấp độ                                                                                     \n",
       "<span style=\"color: #808000; text-decoration-color: #808000; font-weight: bold\"> • </span><span style=\"font-weight: bold\">Mô tả/Nhiệm vụ:</span> Học sinh luyện tập các bài tập về đường tròn ngoại tiếp dưới sự hướng dẫn của giáo viên.        \n",
       "<span style=\"color: #808000; text-decoration-color: #808000; font-weight: bold\"> • </span><span style=\"font-weight: bold\">Gợi ý đáp án/Hướng dẫn giải:</span> Giáo viên hướng dẫn học sinh thực hiện các bước sau: 1) Nhận dạng đường tròn ngoại \n",
       "<span style=\"color: #808000; text-decoration-color: #808000; font-weight: bold\">   </span>tiếp, 2) Xác định tâm và bán kính, 3) Áp dụng công thức tính chu vi và diện tích.                               \n",
       "\n",
       "<span style=\"color: #808000; text-decoration-color: #808000\">───────────────────────────────────────────────────────────────────────────────────────────────────────────────────</span>\n",
       "             <span style=\"font-weight: bold\">Hoạt động 5: Giảng giải về định nghĩa và các tính chất của đường tròn nội tiếp (15 phút)</span>              \n",
       "\n",
       "<span style=\"color: #808000; text-decoration-color: #808000; font-weight: bold\"> • </span><span style=\"font-weight: bold\">Loại hình:</span> Giảng giải lý thuyết                                                                                 \n",
       "<span style=\"color: #808000; text-decoration-color: #808000; font-weight: bold\"> • </span><span style=\"font-weight: bold\">Mô tả/Nhiệm vụ:</span> Giáo viên giảng giải về định nghĩa và các tính chất của đường tròn nội tiếp, học sinh lắng nghe \n",
       "<span style=\"color: #808000; text-decoration-color: #808000; font-weight: bold\">   </span>và ghi chép lại.                                                                                                \n",
       "<span style=\"color: #808000; text-decoration-color: #808000; font-weight: bold\"> • </span><span style=\"font-weight: bold\">Gợi ý đáp án/Hướng dẫn giải:</span> Giáo viên cần giải thích rõ ràng và chi tiết về định nghĩa và các tính chất của    \n",
       "<span style=\"color: #808000; text-decoration-color: #808000; font-weight: bold\">   </span>đường tròn nội tiếp, học sinh cần lắng nghe và ghi chép lại đầy đủ.                                             \n",
       "\n",
       "<span style=\"color: #808000; text-decoration-color: #808000\">───────────────────────────────────────────────────────────────────────────────────────────────────────────────────</span>\n",
       "                               <span style=\"font-weight: bold\">Hoạt động 6: Luyện tập đường tròn nội tiếp (10 phút)</span>                                \n",
       "\n",
       "<span style=\"color: #808000; text-decoration-color: #808000; font-weight: bold\"> • </span><span style=\"font-weight: bold\">Loại hình:</span> Luyện tập cấp độ                                                                                     \n",
       "<span style=\"color: #808000; text-decoration-color: #808000; font-weight: bold\"> • </span><span style=\"font-weight: bold\">Mô tả/Nhiệm vụ:</span> Học sinh luyện tập các bài tập về đường tròn nội tiếp dưới sự hướng dẫn của giáo viên.          \n",
       "<span style=\"color: #808000; text-decoration-color: #808000; font-weight: bold\"> • </span><span style=\"font-weight: bold\">Gợi ý đáp án/Hướng dẫn giải:</span> Giáo viên hướng dẫn học sinh thực hiện các bước sau: 1) Nhận dạng đường tròn nội   \n",
       "<span style=\"color: #808000; text-decoration-color: #808000; font-weight: bold\">   </span>tiếp, 2) Xác định tâm và bán kính, 3) Áp dụng công thức tính diện tích và chu vi.                               \n",
       "\n",
       "<span style=\"color: #808000; text-decoration-color: #808000\">───────────────────────────────────────────────────────────────────────────────────────────────────────────────────</span>\n",
       "                    <span style=\"font-weight: bold\">Hoạt động 7: Áp dụng đường tròn ngoại tiếp và đường tròn nội tiếp (20 phút)</span>                    \n",
       "\n",
       "<span style=\"color: #808000; text-decoration-color: #808000; font-weight: bold\"> • </span><span style=\"font-weight: bold\">Loại hình:</span> Luyện tập cấp độ                                                                                     \n",
       "<span style=\"color: #808000; text-decoration-color: #808000; font-weight: bold\"> • </span><span style=\"font-weight: bold\">Mô tả/Nhiệm vụ:</span> Học sinh sẽ áp dụng các kiến thức đã học để giải quyết các vấn đề liên quan đến đường tròn ngoại\n",
       "<span style=\"color: #808000; text-decoration-color: #808000; font-weight: bold\">   </span>tiếp và đường tròn nội tiếp.                                                                                    \n",
       "<span style=\"color: #808000; text-decoration-color: #808000; font-weight: bold\"> • </span><span style=\"font-weight: bold\">Gợi ý đáp án/Hướng dẫn giải:</span> Hướng dẫn học sinh vẽ đường tròn ngoại tiếp và đường tròn nội tiếp của một đa giác,\n",
       "<span style=\"color: #808000; text-decoration-color: #808000; font-weight: bold\">   </span>sau đó áp dụng các công thức đã học để giải quyết các vấn đề.                                                   \n",
       "\n",
       "<span style=\"color: #808000; text-decoration-color: #808000\">───────────────────────────────────────────────────────────────────────────────────────────────────────────────────</span>\n",
       "                             <span style=\"font-weight: bold\">Hoạt động 8: Tóm tắt bài học và dặn dò học sinh (5 phút)</span>                              \n",
       "\n",
       "<span style=\"color: #808000; text-decoration-color: #808000; font-weight: bold\"> • </span><span style=\"font-weight: bold\">Loại hình:</span> Giảng giải lý thuyết                                                                                 \n",
       "<span style=\"color: #808000; text-decoration-color: #808000; font-weight: bold\"> • </span><span style=\"font-weight: bold\">Mô tả/Nhiệm vụ:</span> Giáo viên tổng kết bài học, dặn dò học sinh về các nhiệm vụ cần hoàn thành                      \n",
       "<span style=\"color: #808000; text-decoration-color: #808000; font-weight: bold\"> • </span><span style=\"font-weight: bold\">Gợi ý đáp án/Hướng dẫn giải:</span> Giáo viên cần tổng kết lại các nội dung chính của bài học, nhắc lại các nhiệm vụ   \n",
       "<span style=\"color: #808000; text-decoration-color: #808000; font-weight: bold\">   </span>cần hoàn thành và dặn dò học sinh về các công việc cần làm trong thời gian tới.                                 \n",
       "\n",
       "<span style=\"color: #808000; text-decoration-color: #808000\">───────────────────────────────────────────────────────────────────────────────────────────────────────────────────</span>\n",
       "\n",
       "                                              <span style=\"font-weight: bold; text-decoration: underline\">V. CỦNG CỐ VÀ ĐÁNH GIÁ</span>                                               \n",
       "\n",
       "<span style=\"color: #808000; text-decoration-color: #808000\">───────────────────────────────────────────────────────────────────────────────────────────────────────────────────</span>\n",
       "\n",
       "                                           <span style=\"font-weight: bold; text-decoration: underline\">VI. TÓM TẮT KIẾN THỨC CỐT LÕI</span>                                           \n",
       "\n",
       "<span style=\"font-weight: bold\">Tóm tắt kiến thức cốt lõi về đường tròn ngoại tiếp và đường tròn nội tiếp</span>                                          \n",
       "\n",
       "<span style=\"font-weight: bold\">Định nghĩa:</span>                                                                                                        \n",
       "\n",
       "<span style=\"color: #808000; text-decoration-color: #808000; font-weight: bold\"> • </span>Đường tròn ngoại tiếp của một đa giác là đường tròn đi qua tất cả các đỉnh của đa giác đó.                      \n",
       "<span style=\"color: #808000; text-decoration-color: #808000; font-weight: bold\"> • </span>Đường tròn nội tiếp của một đa giác là đường tròn nằm trong đa giác và tiếp xúc với tất cả các cạnh của đa giác \n",
       "<span style=\"color: #808000; text-decoration-color: #808000; font-weight: bold\">   </span>đó.                                                                                                             \n",
       "\n",
       "<span style=\"font-weight: bold\">Định lý:</span>                                                                                                           \n",
       "\n",
       "<span style=\"color: #808000; text-decoration-color: #808000; font-weight: bold\"> • </span>Nếu hai đường tròn ngoại tiếp nhau tại một điểm, thì tiếp tuyến của một đường tròn tại điểm đó sẽ tiếp xúc với  \n",
       "<span style=\"color: #808000; text-decoration-color: #808000; font-weight: bold\">   </span>đường tròn kia.                                                                                                 \n",
       "<span style=\"color: #808000; text-decoration-color: #808000; font-weight: bold\"> • </span>Nếu một đường tròn nội tiếp một tam giác, thì đường tròn đó sẽ đi qua trung điểm của mỗi cạnh của tam giác.     \n",
       "\n",
       "<span style=\"font-weight: bold\">Ứng dụng:</span>                                                                                                          \n",
       "\n",
       "<span style=\"color: #808000; text-decoration-color: #808000; font-weight: bold\"> • </span>Trong một tam giác, đường tròn nội tiếp sẽ đi qua trung điểm của mỗi cạnh và sẽ là đường tròn ngoại tiếp của tam\n",
       "<span style=\"color: #808000; text-decoration-color: #808000; font-weight: bold\">   </span>giác đó.                                                                                                        \n",
       "<span style=\"color: #808000; text-decoration-color: #808000; font-weight: bold\"> • </span>Nếu một đường tròn nội tiếp một tam giác, thì các cung nhỏ trên đường tròn đó sẽ bằng nhau.                     \n",
       "\n",
       "<span style=\"font-weight: bold\">Lưu ý:</span>                                                                                                             \n",
       "\n",
       "<span style=\"color: #808000; text-decoration-color: #808000; font-weight: bold\"> • </span>Khi chứng minh các vấn đề liên quan đến đường tròn ngoại tiếp và đường tròn nội tiếp, cần phải sử dụng các định \n",
       "<span style=\"color: #808000; text-decoration-color: #808000; font-weight: bold\">   </span>lý và công thức lượng giác để giải quyết.                                                                       \n",
       "</pre>\n"
      ],
      "text/plain": [
       "┏━━━━━━━━━━━━━━━━━━━━━━━━━━━━━━━━━━━━━━━━━━━━━━━━━━━━━━━━━━━━━━━━━━━━━━━━━━━━━━━━━━━━━━━━━━━━━━━━━━━━━━━━━━━━━━━━━┓\n",
       "┃                          \u001b[1mGIÁO ÁN BÀI DẠY: Đường tròn ngoại tiếp và đường tròn nội tiếp\u001b[0m                          ┃\n",
       "┗━━━━━━━━━━━━━━━━━━━━━━━━━━━━━━━━━━━━━━━━━━━━━━━━━━━━━━━━━━━━━━━━━━━━━━━━━━━━━━━━━━━━━━━━━━━━━━━━━━━━━━━━━━━━━━━━━┛\n",
       "\n",
       "\u001b[33m───────────────────────────────────────────────────────────────────────────────────────────────────────────────────\u001b[0m\n",
       "\n",
       "                                                \u001b[1;4mI. THÔNG TIN CHUNG\u001b[0m                                                 \n",
       "\n",
       "\u001b[1;33m • \u001b[0m\u001b[1mMôn học:\u001b[0m Toán                                                                                                   \n",
       "\u001b[1;33m • \u001b[0m\u001b[1mLớp:\u001b[0m 9                                                                                                          \n",
       "\u001b[1;33m • \u001b[0m\u001b[1mThời lượng dự kiến:\u001b[0m 85 phút / 90 phút                                                                           \n",
       "\u001b[1;33m • \u001b[0m\u001b[1mPhương pháp sư phạm chủ đạo:\u001b[0m Phương pháp vấn đáp                                                                \n",
       "\n",
       "\u001b[33m───────────────────────────────────────────────────────────────────────────────────────────────────────────────────\u001b[0m\n",
       "\n",
       "                                               \u001b[1;4mII. MỤC TIÊU BÀI HỌC\u001b[0m                                                \n",
       "\n",
       "\u001b[1;33m • \u001b[0mHọc sinh có thể \u001b[1mSoạn\u001b[0m kiến thức về Đường tròn ngoại tiếp và đường tròn nội tiếp để giải quyết các bài toán liên  \n",
       "\u001b[1;33m   \u001b[0mquan.                                                                                                           \n",
       "\u001b[1;33m • \u001b[0mRèn luyện kỹ năng tư duy logic, mô hình hóa toán học và giải quyết vấn đề.                                      \n",
       "\n",
       "\u001b[33m───────────────────────────────────────────────────────────────────────────────────────────────────────────────────\u001b[0m\n",
       "\n",
       "                                                   \u001b[1;4mIII. CHUẨN BỊ\u001b[0m                                                   \n",
       "\n",
       "\u001b[1;33m • \u001b[0m\u001b[1mGiáo viên:\u001b[0m Bảng phụ, phấn màu, phiếu học tập (nếu có).                                                          \n",
       "\u001b[1;33m • \u001b[0m\u001b[1mHọc sinh:\u001b[0m Sách giáo khoa, vở ghi, dụng cụ học tập (compa, thước kẻ).                                            \n",
       "\u001b[1;33m • \u001b[0m\u001b[1mNguồn tài liệu tham khảo:\u001b[0m Sách giáo khoa Toán 9 (từ RAG - đã sàng lọc)                                          \n",
       "\n",
       "\u001b[33m───────────────────────────────────────────────────────────────────────────────────────────────────────────────────\u001b[0m\n",
       "\n",
       "                                              \u001b[1;4mIV. TIẾN TRÌNH BÀI DẠY\u001b[0m                                               \n",
       "\n",
       "                                       \u001b[1mHoạt động 1: Kiểm tra bài cũ (5 phút)\u001b[0m                                       \n",
       "\n",
       "\u001b[1;33m • \u001b[0m\u001b[1mLoại hình:\u001b[0m Giảng giải lý thuyết                                                                                 \n",
       "\u001b[1;33m • \u001b[0m\u001b[1mMô tả/Nhiệm vụ:\u001b[0m Giáo viên ổn định lớp, kiểm tra bài cũ về các kiến thức đã học trước đó                         \n",
       "\u001b[1;33m • \u001b[0m\u001b[1mGợi ý đáp án/Hướng dẫn giải:\u001b[0m Giáo viên sẽ hỏi các câu hỏi để kiểm tra kiến thức của học sinh về các nội dung đã \n",
       "\u001b[1;33m   \u001b[0mhọc trước đó.                                                                                                   \n",
       "\n",
       "\u001b[33m───────────────────────────────────────────────────────────────────────────────────────────────────────────────────\u001b[0m\n",
       "                 \u001b[1mHoạt động 2: Giới thiệu về đường tròn ngoại tiếp và đường tròn nội tiếp (5 phút)\u001b[0m                  \n",
       "\n",
       "\u001b[1;33m • \u001b[0m\u001b[1mLoại hình:\u001b[0m Giảng giải lý thuyết                                                                                 \n",
       "\u001b[1;33m • \u001b[0m\u001b[1mMô tả/Nhiệm vụ:\u001b[0m Giáo viên giới thiệu về đường tròn ngoại tiếp và đường tròn nội tiếp, nêu vấn đề và mục tiêu của\n",
       "\u001b[1;33m   \u001b[0mbài học                                                                                                         \n",
       "\u001b[1;33m • \u001b[0m\u001b[1mGợi ý đáp án/Hướng dẫn giải:\u001b[0m Giáo viên cần nêu rõ định nghĩa, công thức và các ví dụ minh họa về đường tròn     \n",
       "\u001b[1;33m   \u001b[0mngoại tiếp và đường tròn nội tiếp.                                                                              \n",
       "\n",
       "\u001b[33m───────────────────────────────────────────────────────────────────────────────────────────────────────────────────\u001b[0m\n",
       "            \u001b[1mHoạt động 3: Giảng giải về định nghĩa và các tính chất của đường tròn ngoại tiếp (15 phút)\u001b[0m             \n",
       "\n",
       "\u001b[1;33m • \u001b[0m\u001b[1mLoại hình:\u001b[0m Giảng giải lý thuyết                                                                                 \n",
       "\u001b[1;33m • \u001b[0m\u001b[1mMô tả/Nhiệm vụ:\u001b[0m Giáo viên giảng giải về định nghĩa và các tính chất của đường tròn ngoại tiếp, học sinh lắng    \n",
       "\u001b[1;33m   \u001b[0mnghe và ghi chép lại các nội dung quan trọng.                                                                   \n",
       "\u001b[1;33m • \u001b[0m\u001b[1mGợi ý đáp án/Hướng dẫn giải:\u001b[0m Giáo viên cần chuẩn bị các ví dụ minh họa và các câu hỏi gợi mở để học sinh tham   \n",
       "\u001b[1;33m   \u001b[0mgia thảo luận.                                                                                                  \n",
       "\n",
       "\u001b[33m───────────────────────────────────────────────────────────────────────────────────────────────────────────────────\u001b[0m\n",
       "                              \u001b[1mHoạt động 4: Luyện tập đường tròn ngoại tiếp (10 phút)\u001b[0m                               \n",
       "\n",
       "\u001b[1;33m • \u001b[0m\u001b[1mLoại hình:\u001b[0m Luyện tập cấp độ                                                                                     \n",
       "\u001b[1;33m • \u001b[0m\u001b[1mMô tả/Nhiệm vụ:\u001b[0m Học sinh luyện tập các bài tập về đường tròn ngoại tiếp dưới sự hướng dẫn của giáo viên.        \n",
       "\u001b[1;33m • \u001b[0m\u001b[1mGợi ý đáp án/Hướng dẫn giải:\u001b[0m Giáo viên hướng dẫn học sinh thực hiện các bước sau: 1) Nhận dạng đường tròn ngoại \n",
       "\u001b[1;33m   \u001b[0mtiếp, 2) Xác định tâm và bán kính, 3) Áp dụng công thức tính chu vi và diện tích.                               \n",
       "\n",
       "\u001b[33m───────────────────────────────────────────────────────────────────────────────────────────────────────────────────\u001b[0m\n",
       "             \u001b[1mHoạt động 5: Giảng giải về định nghĩa và các tính chất của đường tròn nội tiếp (15 phút)\u001b[0m              \n",
       "\n",
       "\u001b[1;33m • \u001b[0m\u001b[1mLoại hình:\u001b[0m Giảng giải lý thuyết                                                                                 \n",
       "\u001b[1;33m • \u001b[0m\u001b[1mMô tả/Nhiệm vụ:\u001b[0m Giáo viên giảng giải về định nghĩa và các tính chất của đường tròn nội tiếp, học sinh lắng nghe \n",
       "\u001b[1;33m   \u001b[0mvà ghi chép lại.                                                                                                \n",
       "\u001b[1;33m • \u001b[0m\u001b[1mGợi ý đáp án/Hướng dẫn giải:\u001b[0m Giáo viên cần giải thích rõ ràng và chi tiết về định nghĩa và các tính chất của    \n",
       "\u001b[1;33m   \u001b[0mđường tròn nội tiếp, học sinh cần lắng nghe và ghi chép lại đầy đủ.                                             \n",
       "\n",
       "\u001b[33m───────────────────────────────────────────────────────────────────────────────────────────────────────────────────\u001b[0m\n",
       "                               \u001b[1mHoạt động 6: Luyện tập đường tròn nội tiếp (10 phút)\u001b[0m                                \n",
       "\n",
       "\u001b[1;33m • \u001b[0m\u001b[1mLoại hình:\u001b[0m Luyện tập cấp độ                                                                                     \n",
       "\u001b[1;33m • \u001b[0m\u001b[1mMô tả/Nhiệm vụ:\u001b[0m Học sinh luyện tập các bài tập về đường tròn nội tiếp dưới sự hướng dẫn của giáo viên.          \n",
       "\u001b[1;33m • \u001b[0m\u001b[1mGợi ý đáp án/Hướng dẫn giải:\u001b[0m Giáo viên hướng dẫn học sinh thực hiện các bước sau: 1) Nhận dạng đường tròn nội   \n",
       "\u001b[1;33m   \u001b[0mtiếp, 2) Xác định tâm và bán kính, 3) Áp dụng công thức tính diện tích và chu vi.                               \n",
       "\n",
       "\u001b[33m───────────────────────────────────────────────────────────────────────────────────────────────────────────────────\u001b[0m\n",
       "                    \u001b[1mHoạt động 7: Áp dụng đường tròn ngoại tiếp và đường tròn nội tiếp (20 phút)\u001b[0m                    \n",
       "\n",
       "\u001b[1;33m • \u001b[0m\u001b[1mLoại hình:\u001b[0m Luyện tập cấp độ                                                                                     \n",
       "\u001b[1;33m • \u001b[0m\u001b[1mMô tả/Nhiệm vụ:\u001b[0m Học sinh sẽ áp dụng các kiến thức đã học để giải quyết các vấn đề liên quan đến đường tròn ngoại\n",
       "\u001b[1;33m   \u001b[0mtiếp và đường tròn nội tiếp.                                                                                    \n",
       "\u001b[1;33m • \u001b[0m\u001b[1mGợi ý đáp án/Hướng dẫn giải:\u001b[0m Hướng dẫn học sinh vẽ đường tròn ngoại tiếp và đường tròn nội tiếp của một đa giác,\n",
       "\u001b[1;33m   \u001b[0msau đó áp dụng các công thức đã học để giải quyết các vấn đề.                                                   \n",
       "\n",
       "\u001b[33m───────────────────────────────────────────────────────────────────────────────────────────────────────────────────\u001b[0m\n",
       "                             \u001b[1mHoạt động 8: Tóm tắt bài học và dặn dò học sinh (5 phút)\u001b[0m                              \n",
       "\n",
       "\u001b[1;33m • \u001b[0m\u001b[1mLoại hình:\u001b[0m Giảng giải lý thuyết                                                                                 \n",
       "\u001b[1;33m • \u001b[0m\u001b[1mMô tả/Nhiệm vụ:\u001b[0m Giáo viên tổng kết bài học, dặn dò học sinh về các nhiệm vụ cần hoàn thành                      \n",
       "\u001b[1;33m • \u001b[0m\u001b[1mGợi ý đáp án/Hướng dẫn giải:\u001b[0m Giáo viên cần tổng kết lại các nội dung chính của bài học, nhắc lại các nhiệm vụ   \n",
       "\u001b[1;33m   \u001b[0mcần hoàn thành và dặn dò học sinh về các công việc cần làm trong thời gian tới.                                 \n",
       "\n",
       "\u001b[33m───────────────────────────────────────────────────────────────────────────────────────────────────────────────────\u001b[0m\n",
       "\n",
       "                                              \u001b[1;4mV. CỦNG CỐ VÀ ĐÁNH GIÁ\u001b[0m                                               \n",
       "\n",
       "\u001b[33m───────────────────────────────────────────────────────────────────────────────────────────────────────────────────\u001b[0m\n",
       "\n",
       "                                           \u001b[1;4mVI. TÓM TẮT KIẾN THỨC CỐT LÕI\u001b[0m                                           \n",
       "\n",
       "\u001b[1mTóm tắt kiến thức cốt lõi về đường tròn ngoại tiếp và đường tròn nội tiếp\u001b[0m                                          \n",
       "\n",
       "\u001b[1mĐịnh nghĩa:\u001b[0m                                                                                                        \n",
       "\n",
       "\u001b[1;33m • \u001b[0mĐường tròn ngoại tiếp của một đa giác là đường tròn đi qua tất cả các đỉnh của đa giác đó.                      \n",
       "\u001b[1;33m • \u001b[0mĐường tròn nội tiếp của một đa giác là đường tròn nằm trong đa giác và tiếp xúc với tất cả các cạnh của đa giác \n",
       "\u001b[1;33m   \u001b[0mđó.                                                                                                             \n",
       "\n",
       "\u001b[1mĐịnh lý:\u001b[0m                                                                                                           \n",
       "\n",
       "\u001b[1;33m • \u001b[0mNếu hai đường tròn ngoại tiếp nhau tại một điểm, thì tiếp tuyến của một đường tròn tại điểm đó sẽ tiếp xúc với  \n",
       "\u001b[1;33m   \u001b[0mđường tròn kia.                                                                                                 \n",
       "\u001b[1;33m • \u001b[0mNếu một đường tròn nội tiếp một tam giác, thì đường tròn đó sẽ đi qua trung điểm của mỗi cạnh của tam giác.     \n",
       "\n",
       "\u001b[1mỨng dụng:\u001b[0m                                                                                                          \n",
       "\n",
       "\u001b[1;33m • \u001b[0mTrong một tam giác, đường tròn nội tiếp sẽ đi qua trung điểm của mỗi cạnh và sẽ là đường tròn ngoại tiếp của tam\n",
       "\u001b[1;33m   \u001b[0mgiác đó.                                                                                                        \n",
       "\u001b[1;33m • \u001b[0mNếu một đường tròn nội tiếp một tam giác, thì các cung nhỏ trên đường tròn đó sẽ bằng nhau.                     \n",
       "\n",
       "\u001b[1mLưu ý:\u001b[0m                                                                                                             \n",
       "\n",
       "\u001b[1;33m • \u001b[0mKhi chứng minh các vấn đề liên quan đến đường tròn ngoại tiếp và đường tròn nội tiếp, cần phải sử dụng các định \n",
       "\u001b[1;33m   \u001b[0mlý và công thức lượng giác để giải quyết.                                                                       \n"
      ]
     },
     "metadata": {},
     "output_type": "display_data"
    }
   ],
   "source": [
    "# ==============================================================================\n",
    "# CELL 5 (Phiên bản 6.9): CHẠY THỬ NGHIỆM\n",
    "# ==============================================================================\n",
    "\n",
    "async def run_graph_v6(user_request: str):\n",
    "    # Kiểm tra các biến cần thiết\n",
    "    if 'llm' not in globals() or llm is None:\n",
    "        print_warning(\"LLM chưa được khởi tạo. Vui lòng chạy lại Cell 1.\")\n",
    "        return\n",
    "    if 'vector_store' not in globals() or vector_store is None:\n",
    "        print_warning(\"Kho tri thức chưa được tải. Vui lòng chạy lại Cell 1.\")\n",
    "        return\n",
    "    if 'app' not in globals():\n",
    "        print_warning(\"Graph 'app' chưa được biên dịch. Vui lòng chạy lại Cell 4.\")\n",
    "        return\n",
    "\n",
    "    initial_state = {\"messages\": [HumanMessage(content=user_request)]}\n",
    "    console.print(f\"\\n[bold magenta]🚀 BẮT ĐẦU QUY TRÌNH V6.9 VỚI YÊU CẦU:[/bold magenta]\\n> {user_request}\")\n",
    "    config = {\"recursion_limit\": 100}\n",
    "    \n",
    "    final_state_result = None\n",
    "    try:\n",
    "        async for event in app.astream(initial_state, config=config):\n",
    "            for node_name, node_output in event.items():\n",
    "                console.print(f\"\\n[bold yellow]------- Hoàn thành bước: {node_name} -------[/bold yellow]\")\n",
    "                final_state_result = node_output\n",
    "\n",
    "        console.print(\"\\n[bold magenta]🏁 KẾT THÚC QUY TRÌNH V6.9.[/bold magenta]\")\n",
    "        \n",
    "        if final_state_result and final_state_result.get(\"final_lesson_plan\"):\n",
    "            console.print(\"\\n[bold green]📝 GIÁO ÁN HOÀN CHỈNH (v6.9)[/bold green]\")\n",
    "            console.print(Markdown(final_state_result[\"final_lesson_plan\"]))\n",
    "        else:\n",
    "            print_warning(\"Không tạo được giáo án cuối cùng. Có thể Critic đã yêu cầu làm lại nhưng hết giới hạn đệ quy.\")\n",
    "            print(\"\\nTrạng thái cuối cùng để gỡ lỗi:\")\n",
    "            pprint(final_state_result)\n",
    "            \n",
    "    except Exception as e:\n",
    "        print_warning(f\"Đã xảy ra lỗi nghiêm trọng trong quá trình chạy graph: {e}\")\n",
    "        import traceback\n",
    "        traceback.print_exc()\n",
    "\n",
    "\n",
    "# Yêu cầu cũ để kiểm tra\n",
    "request_v6_test = \"Soạn giúp tôi giáo án bài 'Đường tròn ngoại tiếp và đường tròn nội tiếp' cho học sinh lớp 9. Mục tiêu là các em có thể vận dụng được góc nội tiếp và cung bị chắn để giải các bài toán trong phần luyện tập. Buổi học sẽ diễn ra trong 2 tiết, tổng cộng 90 phút.\"\n",
    "\n",
    "VERBOSE_MODE = True \n",
    "\n",
    "# Chạy quy trình đã được nâng cấp\n",
    "await run_graph_v6(request_v6_test)"
   ]
  },
  {
   "cell_type": "code",
   "execution_count": null,
   "id": "95d51474",
   "metadata": {},
   "outputs": [],
   "source": []
  },
  {
   "cell_type": "code",
   "execution_count": null,
   "id": "43d2f2ed",
   "metadata": {},
   "outputs": [],
   "source": []
  },
  {
   "cell_type": "code",
   "execution_count": null,
   "id": "c9819a55",
   "metadata": {},
   "outputs": [],
   "source": []
  }
 ],
 "metadata": {
  "kernelspec": {
   "display_name": "plan_venv",
   "language": "python",
   "name": "python3"
  },
  "language_info": {
   "codemirror_mode": {
    "name": "ipython",
    "version": 3
   },
   "file_extension": ".py",
   "mimetype": "text/x-python",
   "name": "python",
   "nbconvert_exporter": "python",
   "pygments_lexer": "ipython3",
   "version": "3.11.8"
  }
 },
 "nbformat": 4,
 "nbformat_minor": 5
}
