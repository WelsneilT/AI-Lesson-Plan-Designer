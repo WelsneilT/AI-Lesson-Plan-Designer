{
 "cells": [
  {
   "cell_type": "code",
   "execution_count": 1,
   "id": "0f0b57dc",
   "metadata": {},
   "outputs": [
    {
     "name": "stderr",
     "output_type": "stream",
     "text": [
      "c:\\Users\\Hi\\Documents\\IAI - UET\\AI-Lesson-Plan-Generator\\plan_venv\\Lib\\site-packages\\IPython\\core\\interactiveshell.py:3699: LangChainDeprecationWarning: As of langchain-core 0.3.0, LangChain uses pydantic v2 internally. The langchain_core.pydantic_v1 module was a compatibility shim for pydantic v1, and should no longer be used. Please update the code to import from Pydantic directly.\n",
      "\n",
      "For example, replace imports like: `from langchain_core.pydantic_v1 import BaseModel`\n",
      "with: `from pydantic import BaseModel`\n",
      "or the v1 compatibility namespace if you are working in a code base that has not been fully upgraded to pydantic 2 yet. \tfrom pydantic.v1 import BaseModel\n",
      "\n",
      "  exec(code_obj, self.user_global_ns, self.user_ns)\n"
     ]
    },
    {
     "name": "stdout",
     "output_type": "stream",
     "text": [
      "✅ LLM (Groq) đã được khởi tạo thành công.\n"
     ]
    },
    {
     "name": "stderr",
     "output_type": "stream",
     "text": [
      "c:\\Users\\Hi\\Documents\\IAI - UET\\AI-Lesson-Plan-Generator\\plan_venv\\Lib\\site-packages\\tqdm\\auto.py:21: TqdmWarning: IProgress not found. Please update jupyter and ipywidgets. See https://ipywidgets.readthedocs.io/en/stable/user_install.html\n",
      "  from .autonotebook import tqdm as notebook_tqdm\n"
     ]
    },
    {
     "name": "stdout",
     "output_type": "stream",
     "text": [
      "✅ Kho tri thức RAG đã được tải thành công.\n"
     ]
    }
   ],
   "source": [
    "# ==============================================================================\n",
    "# CELL 1: CÀI ĐẶT, IMPORTS & THIẾT LẬP BAN ĐẦU (v3.0)\n",
    "# ==============================================================================\n",
    "import os\n",
    "import json\n",
    "import asyncio\n",
    "from typing import TypedDict, Annotated, List, Dict, Any, Literal, Optional\n",
    "import operator\n",
    "\n",
    "# Tải các biến môi trường\n",
    "from dotenv import load_dotenv \n",
    "load_dotenv()\n",
    "\n",
    "# LangChain & LangGraph\n",
    "from langchain_core.messages import BaseMessage, HumanMessage\n",
    "from langchain_core.pydantic_v1 import BaseModel, Field\n",
    "from langchain_groq import ChatGroq\n",
    "from langgraph.graph import StateGraph, END\n",
    "from langgraph.graph.message import add_messages\n",
    "\n",
    "# Thư viện hỗ trợ & Kho tri thức\n",
    "from langchain_community.vectorstores import FAISS\n",
    "from langchain_huggingface import HuggingFaceEmbeddings\n",
    "from rich.console import Console\n",
    "from rich.markdown import Markdown\n",
    "from rich.pretty import pprint\n",
    "from IPython.display import Image, display\n",
    "\n",
    "# --- CẤU HÌNH LOG ---\n",
    "VERBOSE_MODE = True\n",
    "\n",
    "# --- KHỞI TẠO CÁC CÔNG CỤ ---\n",
    "console = Console()\n",
    "\n",
    "def print_step(message: str):\n",
    "    if VERBOSE_MODE:\n",
    "        console.print(f\"[bold cyan]>[/bold cyan] {message}\")\n",
    "\n",
    "def print_result(data: Any, title: str = \"Kết quả\"):\n",
    "    if VERBOSE_MODE:\n",
    "        console.print(f\"[bold green]✔️ {title}:[/bold green]\")\n",
    "        pprint(data, expand_all=True)\n",
    "        \n",
    "def print_warning(message: str):\n",
    "    if VERBOSE_MODE:\n",
    "        console.print(f\"[bold yellow]⚠️  {message}[/bold yellow]\")\n",
    "\n",
    "# --- KHỞI TẠO LLM ---\n",
    "try:\n",
    "    llm = ChatGroq(\n",
    "        temperature=0.1, model=\"llama3-70b-8192\",\n",
    "        api_key=os.getenv(\"GROQ_API_KEY\"), max_tokens=3072\n",
    "    )\n",
    "    print(\"✅ LLM (Groq) đã được khởi tạo thành công.\")\n",
    "except Exception as e:\n",
    "    print(f\"❌ LỖI: Không thể khởi tạo LLM. Lỗi: {e}\")\n",
    "    llm = None\n",
    "\n",
    "# --- TẢI KHO TRI THỨC ---\n",
    "VECTOR_STORE_PATH = \"vector_store/sgk_toan_9\"\n",
    "if os.path.exists(VECTOR_STORE_PATH):\n",
    "    try:\n",
    "        embeddings = HuggingFaceEmbeddings(model_name=\"all-MiniLM-L6-v2\")\n",
    "        vector_store = FAISS.load_local(VECTOR_STORE_PATH, embeddings, allow_dangerous_deserialization=True)\n",
    "        print(\"✅ Kho tri thức RAG đã được tải thành công.\")\n",
    "    except Exception as e:\n",
    "        print(f\"❌ LỖI khi tải kho tri thức: {e}\")\n",
    "        vector_store = None\n",
    "else:\n",
    "    print(f\"❌ LỖI: Không tìm thấy kho tri thức tại '{VECTOR_STORE_PATH}'.\")\n",
    "    vector_store = None"
   ]
  },
  {
   "cell_type": "code",
   "execution_count": 10,
   "id": "098f2f43",
   "metadata": {},
   "outputs": [
    {
     "name": "stdout",
     "output_type": "stream",
     "text": [
      "✅ 'TeacherStateV3' với khả năng tự sửa lỗi đã được định nghĩa.\n"
     ]
    }
   ],
   "source": [
    "# ==============================================================================\n",
    "# CELL 2: THIẾT KẾ LẠI STATE ĐỂ HỖ TRỢ TỰ SỬA LỖI (STATE V3)\n",
    "# ==============================================================================\n",
    "\n",
    "# --- Hàm tiện ích (Giữ nguyên) ---\n",
    "def merge_dicts(dict1: Dict[str, Any], dict2: Dict[str, Any]) -> Dict[str, Any]:\n",
    "    merged = dict1.copy()\n",
    "    for key, value in dict2.items():\n",
    "        if key in merged and isinstance(merged[key], dict) and isinstance(value, dict):\n",
    "            merged[key] = merge_dicts(merged[key], value)\n",
    "        else:\n",
    "            merged[key] = value\n",
    "    return merged\n",
    "\n",
    "# --- Cấu trúc dữ liệu cho một Nhiệm vụ chi tiết ---\n",
    "class DetailedTask(TypedDict):\n",
    "    task_id: int\n",
    "    task_name: str\n",
    "    task_description: str\n",
    "    # Thêm trường thời gian dự kiến cho từng nhiệm vụ\n",
    "    estimated_duration: int \n",
    "    status: Literal[\"pending\", \"completed\"]\n",
    "\n",
    "# --- State chính phiên bản 3.0 ---\n",
    "class TeacherStateV3(TypedDict):\n",
    "    messages: Annotated[List[BaseMessage], add_messages]\n",
    "    \n",
    "    # Các bước tuần tự ban đầu\n",
    "    analyzed_objective: Optional[Any]\n",
    "    pedagogy_strategy: Optional[Any]\n",
    "    \n",
    "    # === NÂNG CẤP LỚN ===\n",
    "    # Danh sách nhiệm vụ giờ đây chi tiết hơn\n",
    "    task_list: Optional[List[DetailedTask]]\n",
    "    current_task_id: Optional[int]\n",
    "    \n",
    "    # Trường mới để lưu các ghi chú phản hồi từ Critic\n",
    "    # Ví dụ: \"Kế hoạch vượt quá thời gian, cần làm lại.\"\n",
    "    reflection_notes: Optional[str]\n",
    "    \n",
    "    # Đầu ra của các agent (giữ nguyên)\n",
    "    agent_outputs: Annotated[Dict[str, Any], merge_dicts] \n",
    "    \n",
    "    # Kết quả cuối cùng\n",
    "    final_lesson_plan: Optional[str]\n",
    "    \n",
    "    # Router (giữ nguyên)\n",
    "    next_agent: str\n",
    "\n",
    "print(\"✅ 'TeacherStateV3' với khả năng tự sửa lỗi đã được định nghĩa.\")"
   ]
  },
  {
   "cell_type": "code",
   "execution_count": 23,
   "id": "f185a18c",
   "metadata": {},
   "outputs": [
    {
     "name": "stdout",
     "output_type": "stream",
     "text": [
      "✅ Tất cả các agent đã được nâng cấp lên phiên bản 5.0.\n"
     ]
    }
   ],
   "source": [
    "# ==============================================================================\n",
    "# CELL 3 (Hoàn chỉnh v5.0): AGENT VỚI PERSONA & TƯ DUY PHẢN BIỆN\n",
    "# ==============================================================================\n",
    "import json\n",
    "from langchain_core.pydantic_v1 import BaseModel, Field\n",
    "from typing import List, Dict, Any, Literal, Optional\n",
    "\n",
    "# --- ĐỊNH NGHĨA CÁC CẤU TRÚC PARSE Pydantic (Loại bỏ 'unknown') ---\n",
    "\n",
    "# Dùng cho agent TaskDispatcher, đã loại bỏ nhánh 'unknown'\n",
    "class TaskClassification(BaseModel):\n",
    "    agent_category: Literal[\n",
    "        \"activity_designer\", \n",
    "        \"theory_synthesizer\",\n",
    "        \"assessment_creator\"\n",
    "    ] = Field(description=\"Loại agent phù hợp nhất để thực hiện nhiệm vụ này.\")\n",
    "\n",
    "# Các model Pydantic khác\n",
    "class ParsedObjective(BaseModel):\n",
    "    action_verb: str = Field(description=\"Động từ hành động chính.\")\n",
    "    bloom_level: int = Field(description=\"Cấp độ tư duy theo thang Bloom (1-6).\")\n",
    "    topic: str = Field(description=\"Chủ đề chính của bài học.\")\n",
    "    grade_level: str = Field(description=\"Cấp lớp của học sinh (dưới dạng chuỗi ký tự).\")\n",
    "    duration_minutes: Optional[int] = Field(description=\"Tổng thời lượng buổi học.\")\n",
    "\n",
    "class PedagogyChoice(BaseModel):\n",
    "    chosen_pedagogy: str = Field(description=\"Tên phương pháp sư phạm được chọn.\")\n",
    "    pedagogy_rationale: str = Field(description=\"Lý do chọn phương pháp này.\")\n",
    "\n",
    "class DetailedTaskModel(BaseModel):\n",
    "    task_name: str = Field(description=\"Tên ngắn gọn của nhiệm vụ.\")\n",
    "    task_description: str = Field(description=\"Mô tả chi tiết nhiệm vụ.\")\n",
    "    estimated_duration: int = Field(description=\"Thời gian dự kiến (phút).\")\n",
    "    \n",
    "class TaskListWithDuration(BaseModel):\n",
    "    tasks: List[DetailedTaskModel] = Field(description=\"Danh sách các nhiệm vụ chi tiết.\")\n",
    "\n",
    "class LearningActivity(BaseModel):\n",
    "    activity_name: str = Field(description=\"Tên hấp dẫn của hoạt động.\")\n",
    "    description: str = Field(description=\"Mô tả chi tiết các bước thực hiện.\")\n",
    "    duration_minutes: int = Field(description=\"Thời gian dự kiến.\")\n",
    "    activity_type: str = Field(description=\"Loại hoạt động.\")\n",
    "\n",
    "class AssessmentItem(BaseModel):\n",
    "    question: str = Field(description=\"Nội dung câu hỏi/bài tập.\")\n",
    "    question_type: str = Field(description=\"Loại câu hỏi.\")\n",
    "    options: Optional[List[str]] = Field(description=\"Các lựa chọn (nếu có).\")\n",
    "    answer: str = Field(description=\"Đáp án hoặc gợi ý đáp án.\")\n",
    "\n",
    "# --- HÀM TIỆN ÍCH ---\n",
    "def update_agent_outputs(state: \"TeacherStateV3\", key: str, value: Any) -> Dict[str, Any]:\n",
    "    outputs = state.get(\"agent_outputs\", {}).copy()\n",
    "    if key not in outputs: outputs[key] = []\n",
    "    outputs[key].append(value)\n",
    "    return {\"agent_outputs\": outputs}\n",
    "\n",
    "# === CHỈ THỊ CẤP HỆ THỐNG (Direction 1) ===\n",
    "SYSTEM_PERSONA_PROMPT = \"\"\"\n",
    "BẠN LÀ MỘT TRỢ LÝ AI CHUYÊN NGHIỆP, ĐÓNG VAI TRÒ MỘT GIÁO VIÊN TOÁN LỚP 9 GIÀU KINH NGHIỆM TẠI VIỆT NAM.\n",
    "QUY TẮC BẮT BUỘC:\n",
    "1.  **NGÔN NGỮ:** Bạn PHẢI trả lời HOÀN TOÀN bằng TIẾNG VIỆT.\n",
    "2.  **CHUYÊN MÔN:** Sử dụng thuật ngữ toán học và sư phạm chính xác, phù hợp với chương trình giáo dục Việt Nam.\n",
    "3.  **THỰC TẾ:** Mọi ví dụ và hoạt động bạn tạo ra phải thực tế, gần gũi và phù hợp với học sinh lớp 9.\n",
    "\"\"\"\n",
    "\n",
    "# --- CÁC AGENTS PHIÊN BẢN 5.0 ---\n",
    "\n",
    "async def objective_interpreter_agent(state: \"TeacherStateV3\") -> Dict[str, Any]:\n",
    "    print_step(\"`Agent: Objective Interpreter` (v5.0) đang phân tích mục tiêu...\")\n",
    "    user_request = state['messages'][-1].content\n",
    "    prompt = f\"\"\"{SYSTEM_PERSONA_PROMPT}\n",
    "    **YÊU CẦU CỦA NGƯỜI DÙNG:** \"{user_request}\"\n",
    "    **NHIỆM VỤ:** Phân tích yêu cầu trên và trích xuất thông tin.\n",
    "    **HƯỚNG DẪN `bloom_level`:** Dựa vào động từ, xác định cấp độ Bloom và điền SỐ NGUYÊN (1-6) vào. Ví dụ: 'vận dụng' là cấp 3.\n",
    "    **YÊU CẦU JSON:** Trả về JSON với keys: `action_verb`, `bloom_level`, `topic`, `grade_level`, `duration_minutes`.\n",
    "    \"\"\"\n",
    "    structured_llm = llm.with_structured_output(ParsedObjective, method=\"json_mode\")\n",
    "    try:\n",
    "        parsed_result = await structured_llm.ainvoke(prompt)\n",
    "        analyzed_objective_dict = parsed_result.dict()\n",
    "        analyzed_objective_dict['constraints'] = {'duration_minutes': parsed_result.duration_minutes}\n",
    "        del analyzed_objective_dict['duration_minutes']\n",
    "        print_result(analyzed_objective_dict, \"Mục tiêu & Ràng buộc đã phân tích\")\n",
    "        return {\"analyzed_objective\": analyzed_objective_dict}\n",
    "    except Exception as e:\n",
    "        print_warning(f\"Lỗi tại Objective Interpreter: {e}. Sử dụng mục tiêu mặc định.\")\n",
    "        return {\"analyzed_objective\": { \"action_verb\": \"soạn\", \"bloom_level\": 3, \"topic\": \"hệ thức lượng trong tam giác vuông\", \"grade_level\": \"9\", \"constraints\": {\"duration_minutes\": 90} }}\n",
    "\n",
    "async def pedagogy_strategist_agent(state: \"TeacherStateV3\") -> Dict[str, Any]:\n",
    "    print_step(\"\\n---\\n### 🧑‍🏫 `Agent: Pedagogy Strategist` (v5.0) Bắt đầu...\")\n",
    "    objective = state['analyzed_objective']\n",
    "    prompt = f\"\"\"{SYSTEM_PERSONA_PROMPT}\n",
    "    **Mục tiêu bài học:** {objective}\n",
    "    **Nhiệm vụ:** Dựa trên mục tiêu, chọn một phương pháp sư phạm phù hợp nhất và giải thích lý do.\n",
    "    **YÊU CẦU JSON:** Trả về JSON với 2 keys: `chosen_pedagogy` và `pedagogy_rationale`.\n",
    "    \"\"\"\n",
    "    structured_llm = llm.with_structured_output(schema=PedagogyChoice, method=\"json_mode\")\n",
    "    try:\n",
    "        response = await structured_llm.ainvoke(prompt)\n",
    "        pedagogy_strategy_dict = response.dict()\n",
    "        print_result(pedagogy_strategy_dict, \"Chiến lược sư phạm đã chọn\")\n",
    "        return {\"pedagogy_strategy\": pedagogy_strategy_dict}\n",
    "    except Exception as e:\n",
    "        print_warning(f\"Lỗi tại Pedagogy Strategist: {e}. Sử dụng chiến lược mặc định.\")\n",
    "        return {\"pedagogy_strategy\": {\"chosen_pedagogy\": \"Dạy học theo dự án\", \"pedagogy_rationale\": \"Mặc định do lỗi.\"}}\n",
    "\n",
    "async def resource_scout_agent(state: \"TeacherStateV3\") -> Dict[str, Any]:\n",
    "    print_step(\"\\n---\\n### 📚 `Agent: Resource Scout (RAG)` (v5.0) Bắt đầu...\")\n",
    "    topic = state['analyzed_objective']['topic']\n",
    "    retriever = vector_store.as_retriever(search_kwargs={\"k\": 3})\n",
    "    relevant_docs = retriever.invoke(topic)\n",
    "    context = \"\\n\\n---\\n\\n\".join([doc.page_content for doc in relevant_docs])\n",
    "    prompt = f\"Tóm tắt các kiến thức, định nghĩa, công thức cốt lõi về chủ đề '{topic}' từ văn bản sau BẰNG TIẾNG VIỆT: {context}\"\n",
    "    response = await llm.ainvoke(prompt)\n",
    "    resource = {\"source\": \"Sách giáo khoa Toán 9 (từ RAG)\", \"summary\": response.content}\n",
    "    print_result(resource, \"Tài liệu RAG đã tìm thấy và tóm tắt\")\n",
    "    return update_agent_outputs(state, \"resources\", resource)\n",
    "\n",
    "async def plan_delegator_agent(state: \"TeacherStateV3\") -> Dict[str, Any]:\n",
    "    print_step(\"\\n---\\n### 👷 `Agent: Plan Delegator` (v5.0) đang lập kế hoạch chiến lược...\")\n",
    "    objective = state['analyzed_objective']\n",
    "    reflection = state.get('reflection_notes')\n",
    "    prompt = f\"\"\"{SYSTEM_PERSONA_PROMPT}\n",
    "    **Mục tiêu & Ràng buộc:** {objective}\n",
    "    {f\"**PHẢN HỒI TỪ LẦN TRƯỚC (PHẢI SỬA):** {reflection}\" if reflection else \"\"}\n",
    "    **QUY TẮC LẬP KẾ HOẠCH:**\n",
    "    1. Nhiệm vụ đầu tiên phải là ôn tập lý thuyết.\n",
    "    2. Các nhiệm vụ sau là hoạt động vận dụng thực tế.\n",
    "    3. Nhiệm vụ cuối là tạo bài đánh giá.\n",
    "    4. Phân bổ thời gian hợp lý, không vượt quá giới hạn.\n",
    "    **YÊU CẦU JSON:** Trả về JSON có key `tasks`. Mỗi task trong list phải có 3 keys: `task_name`, `task_description`, `estimated_duration`.\n",
    "    \"\"\"\n",
    "    structured_llm = llm.with_structured_output(TaskListWithDuration, method=\"json_mode\")\n",
    "    try:\n",
    "        task_list_result = await structured_llm.ainvoke(prompt)\n",
    "        tasks_with_status = [{\"task_id\": i, **t.dict(), \"status\": \"pending\"} for i, t in enumerate(task_list_result.tasks) if t]\n",
    "        print_result(tasks_with_status, f\"Đã tạo {len(tasks_with_status)} nhiệm vụ chiến lược\")\n",
    "        return {\"task_list\": tasks_with_status, \"reflection_notes\": None, \"agent_outputs\": {}}\n",
    "    except Exception as e:\n",
    "        print_warning(f\"Lỗi tại Plan Delegator: {e}. Tạo task mặc định.\")\n",
    "        return {\"task_list\": [{\"task_id\": 0, \"task_name\": \"Tạo hoạt động tổng quát\", \"task_description\": \"Tạo hoạt động tổng quát.\", \"estimated_duration\": 45, \"status\": \"pending\"}], \"reflection_notes\": None, \"agent_outputs\": {}}\n",
    "\n",
    "async def theory_synthesizer_agent(state: \"TeacherStateV3\") -> Dict[str, Any]:\n",
    "    print_step(\"`Agent: Theory Synthesizer` (v5.0) đang thiết kế hoạt động lý thuyết...\")\n",
    "    task_to_run = next((t for t in state['task_list'] if t['task_id'] == state['current_task_id']), None)\n",
    "    rag_summary = state['agent_outputs']['resources'][0]['summary']\n",
    "    prompt = f\"\"\"{SYSTEM_PERSONA_PROMPT}\n",
    "    **Nhiệm vụ:** \"{task_to_run['task_description']}\"\n",
    "    **Kiến thức nền:** \"{rag_summary}\"\n",
    "    **YÊU CẦU:** Tạo MỘT hoạt động ôn tập lý thuyết cụ thể, có thể thực hiện được (ví dụ: bài điền vào chỗ trống, trắc nghiệm nhanh, sơ đồ tư duy).\n",
    "    **YÊU CẦU JSON:** Trả về JSON PHẲNG với keys: `activity_name`, `description`, `duration_minutes`, `activity_type`.\n",
    "    \"\"\"\n",
    "    structured_llm = llm.with_structured_output(LearningActivity, method=\"json_mode\")\n",
    "    try:\n",
    "        activity_result = await structured_llm.ainvoke(prompt)\n",
    "        print_result(activity_result.dict(), \"Hoạt động lý thuyết đã thiết kế\")\n",
    "        return update_agent_outputs(state, \"activities\", activity_result.dict())\n",
    "    except Exception as e:\n",
    "        print_warning(f\"Lỗi tại Theory Synthesizer: {e}. Tạo hoạt động mặc định.\")\n",
    "        return update_agent_outputs(state, \"activities\", {\"activity_name\": \"Hoạt động dự phòng (lý thuyết)\", \"description\": \"Mặc định do lỗi.\", \"duration_minutes\": 10, \"activity_type\": \"Dự phòng\"})\n",
    "\n",
    "async def activity_designer_agent(state: \"TeacherStateV3\") -> Dict[str, Any]:\n",
    "    print_step(\"`Agent: Activity Designer` (v5.0) đang thiết kế hoạt động VẬN DỤNG CỤ THỂ...\")\n",
    "    task_to_run = next((t for t in state['task_list'] if t['task_id'] == state['current_task_id']), None)\n",
    "    prompt = f\"\"\"{SYSTEM_PERSONA_PROMPT}\n",
    "    **Nhiệm vụ:** \"{task_to_run['task_description']}\"\n",
    "    **Thời gian:** {task_to_run['estimated_duration']} phút.\n",
    "\n",
    "    **YÊU CẦU VỀ NỘI DUNG (TUÂN THỦ NGHIÊM NGẶT):**\n",
    "    1.  **Sáng tạo một bối cảnh/bài toán thực tế CỤ THỂ có SỐ LIỆU.**\n",
    "    2.  **BƯỚC KIỂM TRA TÍNH HỢP LÝ (BẮT BUỘC):** Trước khi trả lời, hãy tự kiểm tra lại: Bài toán bạn tạo ra có logic không? Các số liệu có thực tế không? Nó có giải được bằng kiến thức lớp 9 không? Nếu không, PHẢI tạo một bài toán khác.\n",
    "    3.  **Mô tả chi tiết các bước HỌC SINH làm** để giải quyết bài toán đó.\n",
    "\n",
    "    **YÊU CẦU JSON:** Trả về JSON PHẲNG với keys: `activity_name`, `description`, `duration_minutes`, `activity_type`.\n",
    "    \"\"\"\n",
    "    structured_llm = llm.with_structured_output(LearningActivity, method=\"json_mode\")\n",
    "    try:\n",
    "        activity_result = await structured_llm.ainvoke(prompt)\n",
    "        print_result(activity_result.dict(), \"Hoạt động vận dụng đã thiết kế\")\n",
    "        return update_agent_outputs(state, \"activities\", activity_result.dict())\n",
    "    except Exception as e:\n",
    "        print_warning(f\"Lỗi tại Activity Designer: {e}. Tạo hoạt động mặc định.\")\n",
    "        return update_agent_outputs(state, \"activities\", {\"activity_name\": \"Hoạt động dự phòng (vận dụng)\", \"description\": \"Mặc định do lỗi.\", \"duration_minutes\": task_to_run.get('estimated_duration', 20), \"activity_type\": \"Dự phòng\"})\n",
    "\n",
    "async def assessment_creator_agent(state: \"TeacherStateV3\") -> Dict[str, Any]:\n",
    "    print_step(\"`Agent: Assessment Creator` (v5.0) đang tạo câu hỏi VẬN DỤNG...\")\n",
    "    objective = state['analyzed_objective']\n",
    "    prompt = f\"\"\"{SYSTEM_PERSONA_PROMPT}\n",
    "    **Chủ đề:** \"{objective.get('topic')}\".\n",
    "    **NHIỆM VỤ:**\n",
    "    1.  Tạo MỘT bài toán có lời văn, mô tả tình huống thực tế để đánh giá khả năng vận dụng.\n",
    "    2.  **BƯỚC KIỂM TRA TÍNH HỢP LÝ (BẮT BUỘC):** Tự kiểm tra xem bài toán có logic, số liệu hợp lý và có thể giải được không. Đáp án bạn đưa ra phải chính xác. Nếu sai, hãy làm lại.\n",
    "    **YÊU CẦU JSON:** Trả về JSON PHẲNG với keys: `question`, `question_type`, `answer`, và `options` (nếu là trắc nghiệm).\n",
    "    \"\"\"\n",
    "    structured_llm = llm.with_structured_output(AssessmentItem, method=\"json_mode\")\n",
    "    try:\n",
    "        assessment_result = await structured_llm.ainvoke(prompt)\n",
    "        print_result(assessment_result.dict(), \"Câu hỏi đánh giá vận dụng đã tạo\")\n",
    "        return update_agent_outputs(state, \"assessments\", assessment_result.dict())\n",
    "    except Exception as e:\n",
    "        print_warning(f\"Lỗi tại Assessment Creator: {e}. Tạo câu hỏi mặc định.\")\n",
    "        return update_agent_outputs(state, \"assessments\", {\"question\": \"Câu hỏi mặc định do lỗi.\", \"question_type\": \"Tự luận\", \"answer\": \"N/A\"})\n",
    "\n",
    "async def plan_compiler_and_critic_agent(state: \"TeacherStateV3\") -> Dict[str, Any]:\n",
    "    print_step(\"`Agent: Plan Compiler & Critic` (v5.0) đang tổng hợp và đánh giá giáo án...\")\n",
    "    outputs = state['agent_outputs']\n",
    "    objective = state['analyzed_objective']\n",
    "    activities = outputs.get('activities', [])\n",
    "    total_duration = sum(act.get('duration_minutes', 0) for act in activities)\n",
    "    allowed_duration = objective.get('constraints', {}).get('duration_minutes', 90)\n",
    "    if not activities or total_duration > allowed_duration:\n",
    "        reflection = f\"Kế hoạch thất bại. Tổng thời gian ({total_duration} phút) không hợp lệ hoặc không có hoạt động. Hãy lập kế hoạch lại.\"\n",
    "        print_warning(f\"CRITIC: {reflection}\")\n",
    "        return {\"reflection_notes\": reflection, \"final_lesson_plan\": None}\n",
    "        \n",
    "    print_step(\"CRITIC: Kế hoạch hợp lệ! Bắt đầu tổng hợp giáo án theo mẫu chuyên nghiệp.\")\n",
    "    activities_md = \"\"\n",
    "    for i, act in enumerate(activities):\n",
    "        activities_md += f\"### Hoạt động {i+1}: {act.get('activity_name', 'N/A')} ({act.get('duration_minutes', 0)} phút)\\n\"\n",
    "        activities_md += f\"*   **Loại hình tổ chức:** {act.get('activity_type', 'N/A')}\\n\"\n",
    "        activities_md += f\"*   **Mô tả chi tiết:**\\n{act.get('description', 'N/A').replace('*', '    *')}\\n\\n\"\n",
    "    assessments_md = \"\"\n",
    "    for i, ass in enumerate(outputs.get('assessments', [])):\n",
    "        assessments_md += f\"**Bài tập {i+1}:**\\n{ass.get('question', 'N/A')}\\n*   **Đáp án gợi ý:** {ass.get('answer', 'N/A')}\\n\\n\"\n",
    "    final_plan_str = f\"\"\"# GIÁO ÁN: {objective.get('topic', 'N/A')}\n",
    "## I. THÔNG TIN CHUNG\n",
    "- **Môn học:** Toán\n",
    "- **Lớp:** {objective.get('grade_level', 'N/A')}\n",
    "- **Thời lượng dự kiến:** {total_duration} phút\n",
    "## II. MỤC TIÊU BÀI HỌC\n",
    "- Học sinh có thể vận dụng được các tỉ số lượng giác để giải các bài toán thực tế.\n",
    "- Rèn luyện kỹ năng mô hình hóa toán học và giải quyết vấn đề.\n",
    "## III. TIẾN TRÌNH DẠY HỌC\n",
    "{activities_md}## IV. ĐÁNH GIÁ VÀ CỦNG CỐ\n",
    "{assessments_md}## V. TÀI NGUYÊN & PHƯƠNG TIỆN\n",
    "- **Nguồn:** {outputs.get('resources', [{}])[0].get('source', 'N/A')}\n",
    "- **Tóm tắt kiến thức cốt lõi:**\n",
    "{outputs.get('resources', [{}])[0].get('summary', 'N/A')}\"\"\"\n",
    "    return {\"final_lesson_plan\": final_plan_str, \"reflection_notes\": None}\n",
    "\n",
    "\n",
    "print(\"✅ Tất cả các agent đã được nâng cấp lên phiên bản 5.0.\")"
   ]
  },
  {
   "cell_type": "code",
   "execution_count": 26,
   "id": "5468f9a9",
   "metadata": {},
   "outputs": [
    {
     "name": "stdout",
     "output_type": "stream",
     "text": [
      "✅ Graph 5.0 (với Persona Sư phạm và Tư duy Phản biện) đã được biên dịch thành công.\n"
     ]
    },
    {
     "data": {
      "image/png": "[encoded data removed]",
      "text/plain": [
       "<IPython.core.display.Image object>"
      ]
     },
     "metadata": {},
     "output_type": "display_data"
    }
   ],
   "source": [
    "# ==============================================================================\n",
    "# CELL 4 (Hoàn chỉnh v5.0): LẮP RÁP GRAPH (LOẠI BỎ NHÁNH UNKNOWN)\n",
    "# ==============================================================================\n",
    "from typing import Literal, Dict, Any\n",
    "\n",
    "# --- Node tiện ích (Không thay đổi logic) ---\n",
    "def mark_task_complete(state: \"TeacherStateV3\") -> Dict[str, Any]:\n",
    "    \"\"\"Đánh dấu nhiệm vụ hiện tại là 'completed' và xóa current_task_id.\"\"\"\n",
    "    task_list = state.get(\"task_list\", [])\n",
    "    current_task_id = state.get(\"current_task_id\")\n",
    "    if not task_list or current_task_id is None: return {}\n",
    "    \n",
    "    new_task_list = [t.copy() for t in task_list]\n",
    "    for task in new_task_list:\n",
    "        if task.get(\"task_id\") == current_task_id:\n",
    "            task[\"status\"] = \"completed\"\n",
    "            break\n",
    "            \n",
    "    return {\"task_list\": new_task_list, \"current_task_id\": None}\n",
    "    \n",
    "def task_router_node(state: \"TeacherStateV3\") -> Dict[str, Any]:\n",
    "    \"\"\"Kiểm tra xem còn nhiệm vụ nào ở trạng thái 'pending' không.\"\"\"\n",
    "    print_step(\"\\n---\\n### 🔄 `Router`: Đang kiểm tra nhiệm vụ...\")\n",
    "    task_list = state.get(\"task_list\", [])\n",
    "    next_task = next((task for task in task_list if task.get(\"status\") == \"pending\"), None)\n",
    "    \n",
    "    if next_task:\n",
    "        print_step(f\"Nhiệm vụ tiếp theo: '{next_task['task_name']}' (ID: {next_task['task_id']})\")\n",
    "        return {\"current_task_id\": next_task['task_id']}\n",
    "    else:\n",
    "        print_step(\"Hết nhiệm vụ, chuyển sang node Compiler & Critic.\")\n",
    "        return {\"current_task_id\": None}\n",
    "\n",
    "# === DISPATCHER ĐƯỢC NÂNG CẤP (Loại bỏ 'unknown' và thêm xử lý lỗi) ===\n",
    "async def task_dispatcher_agent(state: \"TeacherStateV3\") -> Dict[str, Any]:\n",
    "    \"\"\"\n",
    "    Phân loại nhiệm vụ hiện tại và quyết định agent nào sẽ thực hiện.\n",
    "    Đã loại bỏ nhánh 'unknown' và thêm fallback an toàn.\n",
    "    \"\"\"\n",
    "    print_step(\"\\n---\\n### 🚚 `Agent: Task Dispatcher` (v5.0) Bắt đầu...\")\n",
    "    task_to_run = next((t for t in state['task_list'] if t['task_id'] == state['current_task_id']), None)\n",
    "    \n",
    "    # Fallback an toàn nếu không tìm thấy task (trường hợp hiếm)\n",
    "    if not task_to_run:\n",
    "        print_warning(\"Dispatcher không tìm thấy task, sẽ bỏ qua bước này.\")\n",
    "        return {\"next_agent\": \"mark_task_complete\"}\n",
    "\n",
    "    task_description = task_to_run['task_description']\n",
    "    \n",
    "    # Sử dụng lại SYSTEM_PERSONA_PROMPT để đảm bảo tính nhất quán\n",
    "    prompt = f\"\"\"{SYSTEM_PERSONA_PROMPT}\n",
    "    **Nhiệm vụ:** Phân loại nhiệm vụ sau vào agent phù hợp nhất từ danh sách cho sẵn.\n",
    "    **DANH SÁCH AGENT HỢP LỆ:** 'activity_designer', 'theory_synthesizer', 'assessment_creator'.\n",
    "\n",
    "    **NHIỆM VỤ CẦN PHÂN LOẠI:** \"{task_description}\"\n",
    "    \n",
    "    **GỢI Ý PHÂN LOẠI:**\n",
    "    - Nhiệm vụ về 'ôn tập', 'lý thuyết', 'hệ thống hóa' -> giao cho 'theory_synthesizer'.\n",
    "    - Nhiệm vụ về 'vận dụng', 'thực hành', 'bài toán thực tế' -> giao cho 'activity_designer'.\n",
    "    - Nhiệm vụ về 'đánh giá', 'bài tập', 'kiểm tra' -> giao cho 'assessment_creator'.\n",
    "\n",
    "    **YÊU CẦU ĐỊNH DẠNG JSON:** Trả về JSON với key duy nhất là `agent_category`.\n",
    "    \"\"\"\n",
    "    structured_llm = llm.with_structured_output(TaskClassification)\n",
    "    \n",
    "    try:\n",
    "        classification_result = await structured_llm.ainvoke(prompt)\n",
    "        next_agent = classification_result.agent_category\n",
    "    except Exception as e:\n",
    "        # Xử lý lỗi tin cậy: Nếu LLM không thể phân loại, giao cho agent mặc định là 'activity_designer'\n",
    "        print_warning(f\"Lỗi tại Dispatcher khi phân loại: {e}. Giao nhiệm vụ cho agent mặc định 'activity_designer'.\")\n",
    "        next_agent = \"activity_designer\"\n",
    "    \n",
    "    print_step(f\"--- 🚚 `Dispatcher`: Giao nhiệm vụ cho `{next_agent}`.\")\n",
    "    return {\"next_agent\": next_agent}\n",
    "\n",
    "# --- Các hàm điều hướng (Routing Functions - Không đổi) ---\n",
    "def route_after_router(state: \"TeacherStateV3\") -> Literal[\"continue_executing\", \"compile_and_critique\"]:\n",
    "    \"\"\"Quyết định tiếp tục vòng lặp task hay chuyển sang bước tổng hợp.\"\"\"\n",
    "    if state.get(\"current_task_id\") is None:\n",
    "        return \"compile_and_critique\"\n",
    "    else:\n",
    "        return \"continue_executing\"\n",
    "\n",
    "def route_after_compilation(state: \"TeacherStateV3\") -> Literal[\"finish\", \"replan\"]:\n",
    "    \"\"\"Quyết định kết thúc hay yêu cầu lập kế hoạch lại dựa trên phản hồi của Critic.\"\"\"\n",
    "    if state.get(\"reflection_notes\"):\n",
    "        print_step(\"ROUTER: Phát hiện phản hồi từ Critic. Yêu cầu hệ thống lập kế hoạch lại.\")\n",
    "        return \"replan\"\n",
    "    else:\n",
    "        print_step(\"ROUTER: Critic đã hài lòng. Kết thúc quy trình.\")\n",
    "        return \"finish\"\n",
    "\n",
    "# --- XÂY DỰNG GRAPH PHIÊN BẢN 5.0 ---\n",
    "workflow = StateGraph(TeacherStateV3)\n",
    "\n",
    "# 1. Thêm tất cả các node vào graph\n",
    "workflow.add_node(\"objective_interpreter\", objective_interpreter_agent)\n",
    "workflow.add_node(\"pedagogy_strategist\", pedagogy_strategist_agent)\n",
    "workflow.add_node(\"resource_scout\", resource_scout_agent)\n",
    "workflow.add_node(\"plan_delegator\", plan_delegator_agent)\n",
    "workflow.add_node(\"task_router\", task_router_node)\n",
    "workflow.add_node(\"task_dispatcher\", task_dispatcher_agent)\n",
    "workflow.add_node(\"theory_synthesizer\", theory_synthesizer_agent)\n",
    "workflow.add_node(\"activity_designer\", activity_designer_agent)\n",
    "workflow.add_node(\"assessment_creator\", assessment_creator_agent)\n",
    "workflow.add_node(\"mark_task_complete\", mark_task_complete)\n",
    "workflow.add_node(\"plan_compiler_and_critic\", plan_compiler_and_critic_agent)\n",
    "\n",
    "# 2. Kết nối các bước tuần tự ban đầu\n",
    "workflow.set_entry_point(\"objective_interpreter\")\n",
    "workflow.add_edge(\"objective_interpreter\", \"pedagogy_strategist\")\n",
    "workflow.add_edge(\"pedagogy_strategist\", \"resource_scout\")\n",
    "workflow.add_edge(\"resource_scout\", \"plan_delegator\")\n",
    "\n",
    "# 3. Bắt đầu vòng lặp xử lý nhiệm vụ\n",
    "workflow.add_edge(\"plan_delegator\", \"task_router\")\n",
    "\n",
    "# 4. Từ Router, quyết định đi đâu tiếp\n",
    "workflow.add_conditional_edges(\n",
    "    \"task_router\",\n",
    "    route_after_router,\n",
    "    {\n",
    "        \"continue_executing\": \"task_dispatcher\", \n",
    "        \"compile_and_critique\": \"plan_compiler_and_critic\"\n",
    "    }\n",
    ")\n",
    "\n",
    "# 5. Từ Dispatcher, phân nhánh đến các agent thực thi (đã loại bỏ 'unknown')\n",
    "workflow.add_conditional_edges(\n",
    "    \"task_dispatcher\",\n",
    "    lambda state: state[\"next_agent\"],\n",
    "    {\n",
    "        \"activity_designer\": \"activity_designer\",\n",
    "        \"assessment_creator\": \"assessment_creator\",\n",
    "        \"theory_synthesizer\": \"theory_synthesizer\",\n",
    "    }\n",
    ")\n",
    "\n",
    "# 6. Sau khi agent thực thi xong, quay lại vòng lặp\n",
    "workflow.add_edge(\"activity_designer\", \"mark_task_complete\")\n",
    "workflow.add_edge(\"assessment_creator\", \"mark_task_complete\")\n",
    "workflow.add_edge(\"theory_synthesizer\", \"mark_task_complete\")\n",
    "workflow.add_edge(\"mark_task_complete\", \"task_router\")\n",
    "\n",
    "# 7. Thiết lập vòng lặp tự sửa lỗi\n",
    "workflow.add_conditional_edges(\n",
    "    \"plan_compiler_and_critic\",\n",
    "    route_after_compilation,\n",
    "    {\n",
    "        \"replan\": \"plan_delegator\",  # Nếu cần sửa, quay lại bước lập kế hoạch\n",
    "        \"finish\": END                # Nếu ổn, kết thúc\n",
    "    }\n",
    ")\n",
    "\n",
    "# 8. Biên dịch Graph\n",
    "app = workflow.compile()\n",
    "print(\"✅ Graph 5.0 (với Persona Sư phạm và Tư duy Phản biện) đã được biên dịch thành công.\")\n",
    "\n",
    "# 9. Vẽ biểu đồ để kiểm tra trực quan\n",
    "try:\n",
    "    display(Image(app.get_graph().draw_mermaid_png()))\n",
    "except Exception as e:\n",
    "    print(f\"Lỗi vẽ biểu đồ: {e}\")"
   ]
  },
  {
   "cell_type": "code",
   "execution_count": 27,
   "id": "a3de29b3",
   "metadata": {},
   "outputs": [
    {
     "data": {
      "text/html": [
       "<pre style=\"white-space:pre;overflow-x:auto;line-height:normal;font-family:Menlo,'DejaVu Sans Mono',consolas,'Courier New',monospace\">\n",
       "<span style=\"color: #800080; text-decoration-color: #800080; font-weight: bold\">🚀 BẮT ĐẦU QUY TRÌNH V3.</span><span style=\"color: #800080; text-decoration-color: #800080; font-weight: bold\">0</span><span style=\"color: #800080; text-decoration-color: #800080; font-weight: bold\"> VỚI YÊU CẦU:</span>\n",
       "&gt; Soạn giúp tôi giáo án bài <span style=\"color: #008000; text-decoration-color: #008000\">'Đường tròn ngoại tiếp và đường tròn nội tiếp'</span> cho học sinh lớp <span style=\"color: #008080; text-decoration-color: #008080; font-weight: bold\">9</span>. Mục tiêu là các em \n",
       "có thể vận dụng được góc nội tiếp và cung bị chắn để giải các bài toán trong phần luyện tập. Buổi học sẽ diễn ra \n",
       "trong <span style=\"color: #008080; text-decoration-color: #008080; font-weight: bold\">2</span> tiết, tổng cộng <span style=\"color: #008080; text-decoration-color: #008080; font-weight: bold\">90</span> phút.\n",
       "</pre>\n"
      ],
      "text/plain": [
       "\n",
       "\u001b[1;35m🚀 BẮT ĐẦU QUY TRÌNH V3.\u001b[0m\u001b[1;35m0\u001b[0m\u001b[1;35m VỚI YÊU CẦU:\u001b[0m\n",
       "> Soạn giúp tôi giáo án bài \u001b[32m'Đường tròn ngoại tiếp và đường tròn nội tiếp'\u001b[0m cho học sinh lớp \u001b[1;36m9\u001b[0m. Mục tiêu là các em \n",
       "có thể vận dụng được góc nội tiếp và cung bị chắn để giải các bài toán trong phần luyện tập. Buổi học sẽ diễn ra \n",
       "trong \u001b[1;36m2\u001b[0m tiết, tổng cộng \u001b[1;36m90\u001b[0m phút.\n"
      ]
     },
     "metadata": {},
     "output_type": "display_data"
    },
    {
     "data": {
      "text/html": [
       "<pre style=\"white-space:pre;overflow-x:auto;line-height:normal;font-family:Menlo,'DejaVu Sans Mono',consolas,'Courier New',monospace\"><span style=\"color: #008080; text-decoration-color: #008080; font-weight: bold\">&gt;</span> `Agent: Objective Interpreter` <span style=\"font-weight: bold\">(</span>v5.<span style=\"color: #008080; text-decoration-color: #008080; font-weight: bold\">0</span><span style=\"font-weight: bold\">)</span> đang phân tích mục tiêu<span style=\"color: #808000; text-decoration-color: #808000\">...</span>\n",
       "</pre>\n"
      ],
      "text/plain": [
       "\u001b[1;36m>\u001b[0m `Agent: Objective Interpreter` \u001b[1m(\u001b[0mv5.\u001b[1;36m0\u001b[0m\u001b[1m)\u001b[0m đang phân tích mục tiêu\u001b[33m...\u001b[0m\n"
      ]
     },
     "metadata": {},
     "output_type": "display_data"
    },
    {
     "data": {
      "text/html": [
       "<pre style=\"white-space:pre;overflow-x:auto;line-height:normal;font-family:Menlo,'DejaVu Sans Mono',consolas,'Courier New',monospace\"><span style=\"color: #008000; text-decoration-color: #008000; font-weight: bold\">✔️ Mục tiêu &amp; Ràng buộc đã phân tích:</span>\n",
       "</pre>\n"
      ],
      "text/plain": [
       "\u001b[1;32m✔️ Mục tiêu & Ràng buộc đã phân tích:\u001b[0m\n"
      ]
     },
     "metadata": {},
     "output_type": "display_data"
    },
    {
     "data": {
      "text/html": [
       "<pre style=\"white-space:pre;overflow-x:auto;line-height:normal;font-family:Menlo,'DejaVu Sans Mono',consolas,'Courier New',monospace\"><span style=\"font-weight: bold\">{</span>\n",
       "<span style=\"color: #7fbf7f; text-decoration-color: #7fbf7f\">│   </span><span style=\"color: #008000; text-decoration-color: #008000\">'action_verb'</span>: <span style=\"color: #008000; text-decoration-color: #008000\">'vận dụng'</span>,\n",
       "<span style=\"color: #7fbf7f; text-decoration-color: #7fbf7f\">│   </span><span style=\"color: #008000; text-decoration-color: #008000\">'bloom_level'</span>: <span style=\"color: #008080; text-decoration-color: #008080; font-weight: bold\">3</span>,\n",
       "<span style=\"color: #7fbf7f; text-decoration-color: #7fbf7f\">│   </span><span style=\"color: #008000; text-decoration-color: #008000\">'topic'</span>: <span style=\"color: #008000; text-decoration-color: #008000\">'Đường tròn ngoại tiếp và đường tròn nội tiếp'</span>,\n",
       "<span style=\"color: #7fbf7f; text-decoration-color: #7fbf7f\">│   </span><span style=\"color: #008000; text-decoration-color: #008000\">'grade_level'</span>: <span style=\"color: #008000; text-decoration-color: #008000\">'9'</span>,\n",
       "<span style=\"color: #7fbf7f; text-decoration-color: #7fbf7f\">│   </span><span style=\"color: #008000; text-decoration-color: #008000\">'constraints'</span>: <span style=\"font-weight: bold\">{</span>\n",
       "<span style=\"color: #7fbf7f; text-decoration-color: #7fbf7f\">│   │   </span><span style=\"color: #008000; text-decoration-color: #008000\">'duration_minutes'</span>: <span style=\"color: #008080; text-decoration-color: #008080; font-weight: bold\">90</span>\n",
       "<span style=\"color: #7fbf7f; text-decoration-color: #7fbf7f\">│   </span><span style=\"font-weight: bold\">}</span>\n",
       "<span style=\"font-weight: bold\">}</span>\n",
       "</pre>\n"
      ],
      "text/plain": [
       "\u001b[1m{\u001b[0m\n",
       "\u001b[2;32m│   \u001b[0m\u001b[32m'action_verb'\u001b[0m: \u001b[32m'vận dụng'\u001b[0m,\n",
       "\u001b[2;32m│   \u001b[0m\u001b[32m'bloom_level'\u001b[0m: \u001b[1;36m3\u001b[0m,\n",
       "\u001b[2;32m│   \u001b[0m\u001b[32m'topic'\u001b[0m: \u001b[32m'Đường tròn ngoại tiếp và đường tròn nội tiếp'\u001b[0m,\n",
       "\u001b[2;32m│   \u001b[0m\u001b[32m'grade_level'\u001b[0m: \u001b[32m'9'\u001b[0m,\n",
       "\u001b[2;32m│   \u001b[0m\u001b[32m'constraints'\u001b[0m: \u001b[1m{\u001b[0m\n",
       "\u001b[2;32m│   │   \u001b[0m\u001b[32m'duration_minutes'\u001b[0m: \u001b[1;36m90\u001b[0m\n",
       "\u001b[2;32m│   \u001b[0m\u001b[1m}\u001b[0m\n",
       "\u001b[1m}\u001b[0m\n"
      ]
     },
     "metadata": {},
     "output_type": "display_data"
    },
    {
     "data": {
      "text/html": [
       "<pre style=\"white-space:pre;overflow-x:auto;line-height:normal;font-family:Menlo,'DejaVu Sans Mono',consolas,'Courier New',monospace\">\n",
       "<span style=\"color: #808000; text-decoration-color: #808000; font-weight: bold\">------- Hoàn thành bước: objective_interpreter -------</span>\n",
       "</pre>\n"
      ],
      "text/plain": [
       "\n",
       "\u001b[1;33m------- Hoàn thành bước: objective_interpreter -------\u001b[0m\n"
      ]
     },
     "metadata": {},
     "output_type": "display_data"
    },
    {
     "data": {
      "text/html": [
       "<pre style=\"white-space:pre;overflow-x:auto;line-height:normal;font-family:Menlo,'DejaVu Sans Mono',consolas,'Courier New',monospace\"><span style=\"color: #008080; text-decoration-color: #008080; font-weight: bold\">&gt;</span> \n",
       "---\n",
       "### 🧑‍🏫 `Agent: Pedagogy Strategist` <span style=\"font-weight: bold\">(</span>v5.<span style=\"color: #008080; text-decoration-color: #008080; font-weight: bold\">0</span><span style=\"font-weight: bold\">)</span> Bắt đầu<span style=\"color: #808000; text-decoration-color: #808000\">...</span>\n",
       "</pre>\n"
      ],
      "text/plain": [
       "\u001b[1;36m>\u001b[0m \n",
       "---\n",
       "### 🧑‍🏫 `Agent: Pedagogy Strategist` \u001b[1m(\u001b[0mv5.\u001b[1;36m0\u001b[0m\u001b[1m)\u001b[0m Bắt đầu\u001b[33m...\u001b[0m\n"
      ]
     },
     "metadata": {},
     "output_type": "display_data"
    },
    {
     "data": {
      "text/html": [
       "<pre style=\"white-space:pre;overflow-x:auto;line-height:normal;font-family:Menlo,'DejaVu Sans Mono',consolas,'Courier New',monospace\"><span style=\"color: #008000; text-decoration-color: #008000; font-weight: bold\">✔️ Chiến lược sư phạm đã chọn:</span>\n",
       "</pre>\n"
      ],
      "text/plain": [
       "\u001b[1;32m✔️ Chiến lược sư phạm đã chọn:\u001b[0m\n"
      ]
     },
     "metadata": {},
     "output_type": "display_data"
    },
    {
     "data": {
      "text/html": [
       "<pre style=\"white-space:pre;overflow-x:auto;line-height:normal;font-family:Menlo,'DejaVu Sans Mono',consolas,'Courier New',monospace\"><span style=\"font-weight: bold\">{</span>\n",
       "<span style=\"color: #7fbf7f; text-decoration-color: #7fbf7f\">│   </span><span style=\"color: #008000; text-decoration-color: #008000\">'chosen_pedagogy'</span>: <span style=\"color: #008000; text-decoration-color: #008000\">'Phương pháp vấn đáp và thực hành'</span>,\n",
       "<span style=\"color: #7fbf7f; text-decoration-color: #7fbf7f\">│   </span><span style=\"color: #008000; text-decoration-color: #008000\">'pedagogy_rationale'</span>: <span style=\"color: #008000; text-decoration-color: #008000\">'Để vận dụng kiến thức về đường tròn ngoại tiếp và đường tròn nội tiếp, học sinh lớp 9 cần được tạo điều kiện để phát triển kỹ năng giải quyết vấn đề và tư duy logic. Phương pháp vấn đáp và thực hành sẽ giúp học sinh được tham gia tích cực vào quá trình học tập, được hướng dẫn và được thực hành các bài tập có liên quan đến đường tròn ngoại tiếp và đường tròn nội tiếp. Bằng cách này, học sinh sẽ được phát triển kỹ năng giải quyết vấn đề, kỹ năng tư duy logic và kỹ năng làm việc độc lập.'</span>\n",
       "<span style=\"font-weight: bold\">}</span>\n",
       "</pre>\n"
      ],
      "text/plain": [
       "\u001b[1m{\u001b[0m\n",
       "\u001b[2;32m│   \u001b[0m\u001b[32m'chosen_pedagogy'\u001b[0m: \u001b[32m'Phương pháp vấn đáp và thực hành'\u001b[0m,\n",
       "\u001b[2;32m│   \u001b[0m\u001b[32m'pedagogy_rationale'\u001b[0m: \u001b[32m'Để vận dụng kiến thức về đường tròn ngoại tiếp và đường tròn nội tiếp, học sinh lớp 9 cần được tạo điều kiện để phát triển kỹ năng giải quyết vấn đề và tư duy logic. Phương pháp vấn đáp và thực hành sẽ giúp học sinh được tham gia tích cực vào quá trình học tập, được hướng dẫn và được thực hành các bài tập có liên quan đến đường tròn ngoại tiếp và đường tròn nội tiếp. Bằng cách này, học sinh sẽ được phát triển kỹ năng giải quyết vấn đề, kỹ năng tư duy logic và kỹ năng làm việc độc lập.'\u001b[0m\n",
       "\u001b[1m}\u001b[0m\n"
      ]
     },
     "metadata": {},
     "output_type": "display_data"
    },
    {
     "data": {
      "text/html": [
       "<pre style=\"white-space:pre;overflow-x:auto;line-height:normal;font-family:Menlo,'DejaVu Sans Mono',consolas,'Courier New',monospace\">\n",
       "<span style=\"color: #808000; text-decoration-color: #808000; font-weight: bold\">------- Hoàn thành bước: pedagogy_strategist -------</span>\n",
       "</pre>\n"
      ],
      "text/plain": [
       "\n",
       "\u001b[1;33m------- Hoàn thành bước: pedagogy_strategist -------\u001b[0m\n"
      ]
     },
     "metadata": {},
     "output_type": "display_data"
    },
    {
     "data": {
      "text/html": [
       "<pre style=\"white-space:pre;overflow-x:auto;line-height:normal;font-family:Menlo,'DejaVu Sans Mono',consolas,'Courier New',monospace\"><span style=\"color: #008080; text-decoration-color: #008080; font-weight: bold\">&gt;</span> \n",
       "---\n",
       "### 📚 `Agent: Resource Scout <span style=\"font-weight: bold\">(</span>RAG<span style=\"font-weight: bold\">)</span>` <span style=\"font-weight: bold\">(</span>v5.<span style=\"color: #008080; text-decoration-color: #008080; font-weight: bold\">0</span><span style=\"font-weight: bold\">)</span> Bắt đầu<span style=\"color: #808000; text-decoration-color: #808000\">...</span>\n",
       "</pre>\n"
      ],
      "text/plain": [
       "\u001b[1;36m>\u001b[0m \n",
       "---\n",
       "### 📚 `Agent: Resource Scout \u001b[1m(\u001b[0mRAG\u001b[1m)\u001b[0m` \u001b[1m(\u001b[0mv5.\u001b[1;36m0\u001b[0m\u001b[1m)\u001b[0m Bắt đầu\u001b[33m...\u001b[0m\n"
      ]
     },
     "metadata": {},
     "output_type": "display_data"
    },
    {
     "data": {
      "text/html": [
       "<pre style=\"white-space:pre;overflow-x:auto;line-height:normal;font-family:Menlo,'DejaVu Sans Mono',consolas,'Courier New',monospace\"><span style=\"color: #008000; text-decoration-color: #008000; font-weight: bold\">✔️ Tài liệu RAG đã tìm thấy và tóm tắt:</span>\n",
       "</pre>\n"
      ],
      "text/plain": [
       "\u001b[1;32m✔️ Tài liệu RAG đã tìm thấy và tóm tắt:\u001b[0m\n"
      ]
     },
     "metadata": {},
     "output_type": "display_data"
    },
    {
     "data": {
      "text/html": [
       "<pre style=\"white-space:pre;overflow-x:auto;line-height:normal;font-family:Menlo,'DejaVu Sans Mono',consolas,'Courier New',monospace\"><span style=\"font-weight: bold\">{</span>\n",
       "<span style=\"color: #7fbf7f; text-decoration-color: #7fbf7f\">│   </span><span style=\"color: #008000; text-decoration-color: #008000\">'source'</span>: <span style=\"color: #008000; text-decoration-color: #008000\">'Sách giáo khoa Toán 9 (từ RAG)'</span>,\n",
       "<span style=\"color: #7fbf7f; text-decoration-color: #7fbf7f\">│   </span><span style=\"color: #008000; text-decoration-color: #008000\">'summary'</span>: <span style=\"color: #008000; text-decoration-color: #008000\">'Here is a summary of the key concepts, definitions, and formulas related to \"Tangent and Secant Lines\" from the provided text:\\n\\n**Definitions:**\\n\\n* Two lines are said to **intersect** if they have exactly two common points.\\n* Two lines are said to **touch** or **be tangent** if they have exactly one common point, called the **point of tangency**.\\n* Two lines are said to **not intersect** if they have no common points.\\n\\n**Theorems:**\\n\\n* If a line intersects a circle, then the distance from the center of the circle to the line is less than the radius of the circle.\\n* If a line touches a circle, then the distance from the center of the circle to the line is equal to the radius of the circle.\\n* If a line does not intersect a circle, then the distance from the center of the circle to the line is greater than the radius of the circle.\\n\\n**Tangent Line Theorem:**\\n\\n* If a line passes through a point on a circle and is perpendicular to the radius passing through that point, then the line is a tangent line to the circle.\\n\\n**Key Concepts:**\\n\\n* Position of a line relative to a circle: intersecting, touching, or not intersecting.\\n* Distance from the center of a circle to a line.\\n* Tangent line to a circle.\\n\\n**Formulas:**\\n\\n* None mentioned in the provided text.\\n\\nNote that the text also mentions other topics, such as quadratic equations and linear equations, but they are not directly related to the topic of tangent and secant lines.'</span>\n",
       "<span style=\"font-weight: bold\">}</span>\n",
       "</pre>\n"
      ],
      "text/plain": [
       "\u001b[1m{\u001b[0m\n",
       "\u001b[2;32m│   \u001b[0m\u001b[32m'source'\u001b[0m: \u001b[32m'Sách giáo khoa Toán 9 \u001b[0m\u001b[32m(\u001b[0m\u001b[32mtừ RAG\u001b[0m\u001b[32m)\u001b[0m\u001b[32m'\u001b[0m,\n",
       "\u001b[2;32m│   \u001b[0m\u001b[32m'summary'\u001b[0m: \u001b[32m'Here is a summary of the key concepts, definitions, and formulas related to \"Tangent and Secant Lines\" from the provided text:\\n\\n**Definitions:**\\n\\n* Two lines are said to **intersect** if they have exactly two common points.\\n* Two lines are said to **touch** or **be tangent** if they have exactly one common point, called the **point of tangency**.\\n* Two lines are said to **not intersect** if they have no common points.\\n\\n**Theorems:**\\n\\n* If a line intersects a circle, then the distance from the center of the circle to the line is less than the radius of the circle.\\n* If a line touches a circle, then the distance from the center of the circle to the line is equal to the radius of the circle.\\n* If a line does not intersect a circle, then the distance from the center of the circle to the line is greater than the radius of the circle.\\n\\n**Tangent Line Theorem:**\\n\\n* If a line passes through a point on a circle and is perpendicular to the radius passing through that point, then the line is a tangent line to the circle.\\n\\n**Key Concepts:**\\n\\n* Position of a line relative to a circle: intersecting, touching, or not intersecting.\\n* Distance from the center of a circle to a line.\\n* Tangent line to a circle.\\n\\n**Formulas:**\\n\\n* None mentioned in the provided text.\\n\\nNote that the text also mentions other topics, such as quadratic equations and linear equations, but they are not directly related to the topic of tangent and secant lines.'\u001b[0m\n",
       "\u001b[1m}\u001b[0m\n"
      ]
     },
     "metadata": {},
     "output_type": "display_data"
    },
    {
     "data": {
      "text/html": [
       "<pre style=\"white-space:pre;overflow-x:auto;line-height:normal;font-family:Menlo,'DejaVu Sans Mono',consolas,'Courier New',monospace\">\n",
       "<span style=\"color: #808000; text-decoration-color: #808000; font-weight: bold\">------- Hoàn thành bước: resource_scout -------</span>\n",
       "</pre>\n"
      ],
      "text/plain": [
       "\n",
       "\u001b[1;33m------- Hoàn thành bước: resource_scout -------\u001b[0m\n"
      ]
     },
     "metadata": {},
     "output_type": "display_data"
    },
    {
     "data": {
      "text/html": [
       "<pre style=\"white-space:pre;overflow-x:auto;line-height:normal;font-family:Menlo,'DejaVu Sans Mono',consolas,'Courier New',monospace\"><span style=\"color: #008080; text-decoration-color: #008080; font-weight: bold\">&gt;</span> \n",
       "---\n",
       "### 👷 `Agent: Plan Delegator` <span style=\"font-weight: bold\">(</span>v5.<span style=\"color: #008080; text-decoration-color: #008080; font-weight: bold\">0</span><span style=\"font-weight: bold\">)</span> đang lập kế hoạch chiến lược<span style=\"color: #808000; text-decoration-color: #808000\">...</span>\n",
       "</pre>\n"
      ],
      "text/plain": [
       "\u001b[1;36m>\u001b[0m \n",
       "---\n",
       "### 👷 `Agent: Plan Delegator` \u001b[1m(\u001b[0mv5.\u001b[1;36m0\u001b[0m\u001b[1m)\u001b[0m đang lập kế hoạch chiến lược\u001b[33m...\u001b[0m\n"
      ]
     },
     "metadata": {},
     "output_type": "display_data"
    },
    {
     "data": {
      "text/html": [
       "<pre style=\"white-space:pre;overflow-x:auto;line-height:normal;font-family:Menlo,'DejaVu Sans Mono',consolas,'Courier New',monospace\"><span style=\"color: #008000; text-decoration-color: #008000; font-weight: bold\">✔️ Đã tạo </span><span style=\"color: #008000; text-decoration-color: #008000; font-weight: bold\">4</span><span style=\"color: #008000; text-decoration-color: #008000; font-weight: bold\"> nhiệm vụ chiến lược:</span>\n",
       "</pre>\n"
      ],
      "text/plain": [
       "\u001b[1;32m✔️ Đã tạo \u001b[0m\u001b[1;32m4\u001b[0m\u001b[1;32m nhiệm vụ chiến lược:\u001b[0m\n"
      ]
     },
     "metadata": {},
     "output_type": "display_data"
    },
    {
     "data": {
      "text/html": [
       "<pre style=\"white-space:pre;overflow-x:auto;line-height:normal;font-family:Menlo,'DejaVu Sans Mono',consolas,'Courier New',monospace\"><span style=\"font-weight: bold\">[</span>\n",
       "<span style=\"color: #7fbf7f; text-decoration-color: #7fbf7f\">│   </span><span style=\"font-weight: bold\">{</span>\n",
       "<span style=\"color: #7fbf7f; text-decoration-color: #7fbf7f\">│   │   </span><span style=\"color: #008000; text-decoration-color: #008000\">'task_id'</span>: <span style=\"color: #008080; text-decoration-color: #008080; font-weight: bold\">0</span>,\n",
       "<span style=\"color: #7fbf7f; text-decoration-color: #7fbf7f\">│   │   </span><span style=\"color: #008000; text-decoration-color: #008000\">'task_name'</span>: <span style=\"color: #008000; text-decoration-color: #008000\">'Ôn tập lý thuyết về đường tròn ngoại tiếp và đường tròn nội tiếp'</span>,\n",
       "<span style=\"color: #7fbf7f; text-decoration-color: #7fbf7f\">│   │   </span><span style=\"color: #008000; text-decoration-color: #008000\">'task_description'</span>: <span style=\"color: #008000; text-decoration-color: #008000\">'Học sinh ôn tập lại các công thức và định nghĩa về đường tròn ngoại tiếp và đường tròn nội tiếp, bao gồm công thức tính bán kính, đường kính, chu vi và diện tích của đường tròn.'</span>,\n",
       "<span style=\"color: #7fbf7f; text-decoration-color: #7fbf7f\">│   │   </span><span style=\"color: #008000; text-decoration-color: #008000\">'estimated_duration'</span>: <span style=\"color: #008080; text-decoration-color: #008080; font-weight: bold\">15</span>,\n",
       "<span style=\"color: #7fbf7f; text-decoration-color: #7fbf7f\">│   │   </span><span style=\"color: #008000; text-decoration-color: #008000\">'status'</span>: <span style=\"color: #008000; text-decoration-color: #008000\">'pending'</span>\n",
       "<span style=\"color: #7fbf7f; text-decoration-color: #7fbf7f\">│   </span><span style=\"font-weight: bold\">}</span>,\n",
       "<span style=\"color: #7fbf7f; text-decoration-color: #7fbf7f\">│   </span><span style=\"font-weight: bold\">{</span>\n",
       "<span style=\"color: #7fbf7f; text-decoration-color: #7fbf7f\">│   │   </span><span style=\"color: #008000; text-decoration-color: #008000\">'task_id'</span>: <span style=\"color: #008080; text-decoration-color: #008080; font-weight: bold\">1</span>,\n",
       "<span style=\"color: #7fbf7f; text-decoration-color: #7fbf7f\">│   │   </span><span style=\"color: #008000; text-decoration-color: #008000\">'task_name'</span>: <span style=\"color: #008000; text-decoration-color: #008000\">'Tính chu vi và diện tích của đường tròn'</span>,\n",
       "<span style=\"color: #7fbf7f; text-decoration-color: #7fbf7f\">│   │   </span><span style=\"color: #008000; text-decoration-color: #008000\">'task_description'</span>: <span style=\"color: #008000; text-decoration-color: #008000\">'Cho học sinh một số bài toán tính chu vi và diện tích của đường tròn, sử dụng công thức đã học. Ví dụ: Tính chu vi và diện tích của đường tròn có bán kính là 4cm.'</span>,\n",
       "<span style=\"color: #7fbf7f; text-decoration-color: #7fbf7f\">│   │   </span><span style=\"color: #008000; text-decoration-color: #008000\">'estimated_duration'</span>: <span style=\"color: #008080; text-decoration-color: #008080; font-weight: bold\">20</span>,\n",
       "<span style=\"color: #7fbf7f; text-decoration-color: #7fbf7f\">│   │   </span><span style=\"color: #008000; text-decoration-color: #008000\">'status'</span>: <span style=\"color: #008000; text-decoration-color: #008000\">'pending'</span>\n",
       "<span style=\"color: #7fbf7f; text-decoration-color: #7fbf7f\">│   </span><span style=\"font-weight: bold\">}</span>,\n",
       "<span style=\"color: #7fbf7f; text-decoration-color: #7fbf7f\">│   </span><span style=\"font-weight: bold\">{</span>\n",
       "<span style=\"color: #7fbf7f; text-decoration-color: #7fbf7f\">│   │   </span><span style=\"color: #008000; text-decoration-color: #008000\">'task_id'</span>: <span style=\"color: #008080; text-decoration-color: #008080; font-weight: bold\">2</span>,\n",
       "<span style=\"color: #7fbf7f; text-decoration-color: #7fbf7f\">│   │   </span><span style=\"color: #008000; text-decoration-color: #008000\">'task_name'</span>: <span style=\"color: #008000; text-decoration-color: #008000\">'Xác định tâm và bán kính của đường tròn ngoại tiếp'</span>,\n",
       "<span style=\"color: #7fbf7f; text-decoration-color: #7fbf7f\">│   │   </span><span style=\"color: #008000; text-decoration-color: #008000\">'task_description'</span>: <span style=\"color: #008000; text-decoration-color: #008000\">'Cho học sinh một số bài toán xác định tâm và bán kính của đường tròn ngoại tiếp một tam giác, sử dụng các công thức và định lý đã học. Ví dụ: Cho tam giác ABC có các cạnh AB = 3cm, BC = 4cm, CA = 5cm. Xác định tâm và bán kính của đường tròn ngoại tiếp tam giác ABC.'</span>,\n",
       "<span style=\"color: #7fbf7f; text-decoration-color: #7fbf7f\">│   │   </span><span style=\"color: #008000; text-decoration-color: #008000\">'estimated_duration'</span>: <span style=\"color: #008080; text-decoration-color: #008080; font-weight: bold\">25</span>,\n",
       "<span style=\"color: #7fbf7f; text-decoration-color: #7fbf7f\">│   │   </span><span style=\"color: #008000; text-decoration-color: #008000\">'status'</span>: <span style=\"color: #008000; text-decoration-color: #008000\">'pending'</span>\n",
       "<span style=\"color: #7fbf7f; text-decoration-color: #7fbf7f\">│   </span><span style=\"font-weight: bold\">}</span>,\n",
       "<span style=\"color: #7fbf7f; text-decoration-color: #7fbf7f\">│   </span><span style=\"font-weight: bold\">{</span>\n",
       "<span style=\"color: #7fbf7f; text-decoration-color: #7fbf7f\">│   │   </span><span style=\"color: #008000; text-decoration-color: #008000\">'task_id'</span>: <span style=\"color: #008080; text-decoration-color: #008080; font-weight: bold\">3</span>,\n",
       "<span style=\"color: #7fbf7f; text-decoration-color: #7fbf7f\">│   │   </span><span style=\"color: #008000; text-decoration-color: #008000\">'task_name'</span>: <span style=\"color: #008000; text-decoration-color: #008000\">'Bài đánh giá: Đường tròn ngoại tiếp và đường tròn nội tiếp'</span>,\n",
       "<span style=\"color: #7fbf7f; text-decoration-color: #7fbf7f\">│   │   </span><span style=\"color: #008000; text-decoration-color: #008000\">'task_description'</span>: <span style=\"color: #008000; text-decoration-color: #008000\">'Cho học sinh một số bài toán tổng hợp về đường tròn ngoại tiếp và đường tròn nội tiếp, bao gồm tính chu vi, diện tích, xác định tâm và bán kính. Ví dụ: Cho hình tròn có chu vi là 16π cm. Xác định bán kính và diện tích của hình tròn.'</span>,\n",
       "<span style=\"color: #7fbf7f; text-decoration-color: #7fbf7f\">│   │   </span><span style=\"color: #008000; text-decoration-color: #008000\">'estimated_duration'</span>: <span style=\"color: #008080; text-decoration-color: #008080; font-weight: bold\">30</span>,\n",
       "<span style=\"color: #7fbf7f; text-decoration-color: #7fbf7f\">│   │   </span><span style=\"color: #008000; text-decoration-color: #008000\">'status'</span>: <span style=\"color: #008000; text-decoration-color: #008000\">'pending'</span>\n",
       "<span style=\"color: #7fbf7f; text-decoration-color: #7fbf7f\">│   </span><span style=\"font-weight: bold\">}</span>\n",
       "<span style=\"font-weight: bold\">]</span>\n",
       "</pre>\n"
      ],
      "text/plain": [
       "\u001b[1m[\u001b[0m\n",
       "\u001b[2;32m│   \u001b[0m\u001b[1m{\u001b[0m\n",
       "\u001b[2;32m│   │   \u001b[0m\u001b[32m'task_id'\u001b[0m: \u001b[1;36m0\u001b[0m,\n",
       "\u001b[2;32m│   │   \u001b[0m\u001b[32m'task_name'\u001b[0m: \u001b[32m'Ôn tập lý thuyết về đường tròn ngoại tiếp và đường tròn nội tiếp'\u001b[0m,\n",
       "\u001b[2;32m│   │   \u001b[0m\u001b[32m'task_description'\u001b[0m: \u001b[32m'Học sinh ôn tập lại các công thức và định nghĩa về đường tròn ngoại tiếp và đường tròn nội tiếp, bao gồm công thức tính bán kính, đường kính, chu vi và diện tích của đường tròn.'\u001b[0m,\n",
       "\u001b[2;32m│   │   \u001b[0m\u001b[32m'estimated_duration'\u001b[0m: \u001b[1;36m15\u001b[0m,\n",
       "\u001b[2;32m│   │   \u001b[0m\u001b[32m'status'\u001b[0m: \u001b[32m'pending'\u001b[0m\n",
       "\u001b[2;32m│   \u001b[0m\u001b[1m}\u001b[0m,\n",
       "\u001b[2;32m│   \u001b[0m\u001b[1m{\u001b[0m\n",
       "\u001b[2;32m│   │   \u001b[0m\u001b[32m'task_id'\u001b[0m: \u001b[1;36m1\u001b[0m,\n",
       "\u001b[2;32m│   │   \u001b[0m\u001b[32m'task_name'\u001b[0m: \u001b[32m'Tính chu vi và diện tích của đường tròn'\u001b[0m,\n",
       "\u001b[2;32m│   │   \u001b[0m\u001b[32m'task_description'\u001b[0m: \u001b[32m'Cho học sinh một số bài toán tính chu vi và diện tích của đường tròn, sử dụng công thức đã học. Ví dụ: Tính chu vi và diện tích của đường tròn có bán kính là 4cm.'\u001b[0m,\n",
       "\u001b[2;32m│   │   \u001b[0m\u001b[32m'estimated_duration'\u001b[0m: \u001b[1;36m20\u001b[0m,\n",
       "\u001b[2;32m│   │   \u001b[0m\u001b[32m'status'\u001b[0m: \u001b[32m'pending'\u001b[0m\n",
       "\u001b[2;32m│   \u001b[0m\u001b[1m}\u001b[0m,\n",
       "\u001b[2;32m│   \u001b[0m\u001b[1m{\u001b[0m\n",
       "\u001b[2;32m│   │   \u001b[0m\u001b[32m'task_id'\u001b[0m: \u001b[1;36m2\u001b[0m,\n",
       "\u001b[2;32m│   │   \u001b[0m\u001b[32m'task_name'\u001b[0m: \u001b[32m'Xác định tâm và bán kính của đường tròn ngoại tiếp'\u001b[0m,\n",
       "\u001b[2;32m│   │   \u001b[0m\u001b[32m'task_description'\u001b[0m: \u001b[32m'Cho học sinh một số bài toán xác định tâm và bán kính của đường tròn ngoại tiếp một tam giác, sử dụng các công thức và định lý đã học. Ví dụ: Cho tam giác ABC có các cạnh AB = 3cm, BC = 4cm, CA = 5cm. Xác định tâm và bán kính của đường tròn ngoại tiếp tam giác ABC.'\u001b[0m,\n",
       "\u001b[2;32m│   │   \u001b[0m\u001b[32m'estimated_duration'\u001b[0m: \u001b[1;36m25\u001b[0m,\n",
       "\u001b[2;32m│   │   \u001b[0m\u001b[32m'status'\u001b[0m: \u001b[32m'pending'\u001b[0m\n",
       "\u001b[2;32m│   \u001b[0m\u001b[1m}\u001b[0m,\n",
       "\u001b[2;32m│   \u001b[0m\u001b[1m{\u001b[0m\n",
       "\u001b[2;32m│   │   \u001b[0m\u001b[32m'task_id'\u001b[0m: \u001b[1;36m3\u001b[0m,\n",
       "\u001b[2;32m│   │   \u001b[0m\u001b[32m'task_name'\u001b[0m: \u001b[32m'Bài đánh giá: Đường tròn ngoại tiếp và đường tròn nội tiếp'\u001b[0m,\n",
       "\u001b[2;32m│   │   \u001b[0m\u001b[32m'task_description'\u001b[0m: \u001b[32m'Cho học sinh một số bài toán tổng hợp về đường tròn ngoại tiếp và đường tròn nội tiếp, bao gồm tính chu vi, diện tích, xác định tâm và bán kính. Ví dụ: Cho hình tròn có chu vi là 16π cm. Xác định bán kính và diện tích của hình tròn.'\u001b[0m,\n",
       "\u001b[2;32m│   │   \u001b[0m\u001b[32m'estimated_duration'\u001b[0m: \u001b[1;36m30\u001b[0m,\n",
       "\u001b[2;32m│   │   \u001b[0m\u001b[32m'status'\u001b[0m: \u001b[32m'pending'\u001b[0m\n",
       "\u001b[2;32m│   \u001b[0m\u001b[1m}\u001b[0m\n",
       "\u001b[1m]\u001b[0m\n"
      ]
     },
     "metadata": {},
     "output_type": "display_data"
    },
    {
     "data": {
      "text/html": [
       "<pre style=\"white-space:pre;overflow-x:auto;line-height:normal;font-family:Menlo,'DejaVu Sans Mono',consolas,'Courier New',monospace\">\n",
       "<span style=\"color: #808000; text-decoration-color: #808000; font-weight: bold\">------- Hoàn thành bước: plan_delegator -------</span>\n",
       "</pre>\n"
      ],
      "text/plain": [
       "\n",
       "\u001b[1;33m------- Hoàn thành bước: plan_delegator -------\u001b[0m\n"
      ]
     },
     "metadata": {},
     "output_type": "display_data"
    },
    {
     "data": {
      "text/html": [
       "<pre style=\"white-space:pre;overflow-x:auto;line-height:normal;font-family:Menlo,'DejaVu Sans Mono',consolas,'Courier New',monospace\"><span style=\"color: #008080; text-decoration-color: #008080; font-weight: bold\">&gt;</span> \n",
       "---\n",
       "### 🔄 `Router`: Đang kiểm tra nhiệm vụ<span style=\"color: #808000; text-decoration-color: #808000\">...</span>\n",
       "</pre>\n"
      ],
      "text/plain": [
       "\u001b[1;36m>\u001b[0m \n",
       "---\n",
       "### 🔄 `Router`: Đang kiểm tra nhiệm vụ\u001b[33m...\u001b[0m\n"
      ]
     },
     "metadata": {},
     "output_type": "display_data"
    },
    {
     "data": {
      "text/html": [
       "<pre style=\"white-space:pre;overflow-x:auto;line-height:normal;font-family:Menlo,'DejaVu Sans Mono',consolas,'Courier New',monospace\"><span style=\"color: #008080; text-decoration-color: #008080; font-weight: bold\">&gt;</span> Nhiệm vụ tiếp theo: <span style=\"color: #008000; text-decoration-color: #008000\">'Ôn tập lý thuyết về đường tròn ngoại tiếp và đường tròn nội tiếp'</span> <span style=\"font-weight: bold\">(</span>ID: <span style=\"color: #008080; text-decoration-color: #008080; font-weight: bold\">0</span><span style=\"font-weight: bold\">)</span>\n",
       "</pre>\n"
      ],
      "text/plain": [
       "\u001b[1;36m>\u001b[0m Nhiệm vụ tiếp theo: \u001b[32m'Ôn tập lý thuyết về đường tròn ngoại tiếp và đường tròn nội tiếp'\u001b[0m \u001b[1m(\u001b[0mID: \u001b[1;36m0\u001b[0m\u001b[1m)\u001b[0m\n"
      ]
     },
     "metadata": {},
     "output_type": "display_data"
    },
    {
     "data": {
      "text/html": [
       "<pre style=\"white-space:pre;overflow-x:auto;line-height:normal;font-family:Menlo,'DejaVu Sans Mono',consolas,'Courier New',monospace\">\n",
       "<span style=\"color: #808000; text-decoration-color: #808000; font-weight: bold\">------- Hoàn thành bước: task_router -------</span>\n",
       "</pre>\n"
      ],
      "text/plain": [
       "\n",
       "\u001b[1;33m------- Hoàn thành bước: task_router -------\u001b[0m\n"
      ]
     },
     "metadata": {},
     "output_type": "display_data"
    },
    {
     "data": {
      "text/html": [
       "<pre style=\"white-space:pre;overflow-x:auto;line-height:normal;font-family:Menlo,'DejaVu Sans Mono',consolas,'Courier New',monospace\"><span style=\"color: #008080; text-decoration-color: #008080; font-weight: bold\">&gt;</span> \n",
       "---\n",
       "### 🚚 `Agent: Task Dispatcher` <span style=\"font-weight: bold\">(</span>v5.<span style=\"color: #008080; text-decoration-color: #008080; font-weight: bold\">0</span><span style=\"font-weight: bold\">)</span> Bắt đầu<span style=\"color: #808000; text-decoration-color: #808000\">...</span>\n",
       "</pre>\n"
      ],
      "text/plain": [
       "\u001b[1;36m>\u001b[0m \n",
       "---\n",
       "### 🚚 `Agent: Task Dispatcher` \u001b[1m(\u001b[0mv5.\u001b[1;36m0\u001b[0m\u001b[1m)\u001b[0m Bắt đầu\u001b[33m...\u001b[0m\n"
      ]
     },
     "metadata": {},
     "output_type": "display_data"
    },
    {
     "data": {
      "text/html": [
       "<pre style=\"white-space:pre;overflow-x:auto;line-height:normal;font-family:Menlo,'DejaVu Sans Mono',consolas,'Courier New',monospace\"><span style=\"color: #008080; text-decoration-color: #008080; font-weight: bold\">&gt;</span> --- 🚚 `Dispatcher`: Giao nhiệm vụ cho `theory_synthesizer`.\n",
       "</pre>\n"
      ],
      "text/plain": [
       "\u001b[1;36m>\u001b[0m --- 🚚 `Dispatcher`: Giao nhiệm vụ cho `theory_synthesizer`.\n"
      ]
     },
     "metadata": {},
     "output_type": "display_data"
    },
    {
     "data": {
      "text/html": [
       "<pre style=\"white-space:pre;overflow-x:auto;line-height:normal;font-family:Menlo,'DejaVu Sans Mono',consolas,'Courier New',monospace\">\n",
       "<span style=\"color: #808000; text-decoration-color: #808000; font-weight: bold\">------- Hoàn thành bước: task_dispatcher -------</span>\n",
       "</pre>\n"
      ],
      "text/plain": [
       "\n",
       "\u001b[1;33m------- Hoàn thành bước: task_dispatcher -------\u001b[0m\n"
      ]
     },
     "metadata": {},
     "output_type": "display_data"
    },
    {
     "data": {
      "text/html": [
       "<pre style=\"white-space:pre;overflow-x:auto;line-height:normal;font-family:Menlo,'DejaVu Sans Mono',consolas,'Courier New',monospace\"><span style=\"color: #008080; text-decoration-color: #008080; font-weight: bold\">&gt;</span> `Agent: Theory Synthesizer` <span style=\"font-weight: bold\">(</span>v5.<span style=\"color: #008080; text-decoration-color: #008080; font-weight: bold\">0</span><span style=\"font-weight: bold\">)</span> đang thiết kế hoạt động lý thuyết<span style=\"color: #808000; text-decoration-color: #808000\">...</span>\n",
       "</pre>\n"
      ],
      "text/plain": [
       "\u001b[1;36m>\u001b[0m `Agent: Theory Synthesizer` \u001b[1m(\u001b[0mv5.\u001b[1;36m0\u001b[0m\u001b[1m)\u001b[0m đang thiết kế hoạt động lý thuyết\u001b[33m...\u001b[0m\n"
      ]
     },
     "metadata": {},
     "output_type": "display_data"
    },
    {
     "data": {
      "text/html": [
       "<pre style=\"white-space:pre;overflow-x:auto;line-height:normal;font-family:Menlo,'DejaVu Sans Mono',consolas,'Courier New',monospace\"><span style=\"color: #008000; text-decoration-color: #008000; font-weight: bold\">✔️ Hoạt động lý thuyết đã thiết kế:</span>\n",
       "</pre>\n"
      ],
      "text/plain": [
       "\u001b[1;32m✔️ Hoạt động lý thuyết đã thiết kế:\u001b[0m\n"
      ]
     },
     "metadata": {},
     "output_type": "display_data"
    },
    {
     "data": {
      "text/html": [
       "<pre style=\"white-space:pre;overflow-x:auto;line-height:normal;font-family:Menlo,'DejaVu Sans Mono',consolas,'Courier New',monospace\"><span style=\"font-weight: bold\">{</span>\n",
       "<span style=\"color: #7fbf7f; text-decoration-color: #7fbf7f\">│   </span><span style=\"color: #008000; text-decoration-color: #008000\">'activity_name'</span>: <span style=\"color: #008000; text-decoration-color: #008000\">'Ôn tập đường tròn ngoại tiếp và đường tròn nội tiếp'</span>,\n",
       "<span style=\"color: #7fbf7f; text-decoration-color: #7fbf7f\">│   </span><span style=\"color: #008000; text-decoration-color: #008000\">'description'</span>: <span style=\"color: #008000; text-decoration-color: #008000\">'Hoàn thành các câu hỏi trắc nghiệm nhanh để ôn tập lại các công thức và định nghĩa về đường tròn ngoại tiếp và đường tròn nội tiếp.'</span>,\n",
       "<span style=\"color: #7fbf7f; text-decoration-color: #7fbf7f\">│   </span><span style=\"color: #008000; text-decoration-color: #008000\">'duration_minutes'</span>: <span style=\"color: #008080; text-decoration-color: #008080; font-weight: bold\">15</span>,\n",
       "<span style=\"color: #7fbf7f; text-decoration-color: #7fbf7f\">│   </span><span style=\"color: #008000; text-decoration-color: #008000\">'activity_type'</span>: <span style=\"color: #008000; text-decoration-color: #008000\">'Trắc nghiệm nhanh'</span>\n",
       "<span style=\"font-weight: bold\">}</span>\n",
       "</pre>\n"
      ],
      "text/plain": [
       "\u001b[1m{\u001b[0m\n",
       "\u001b[2;32m│   \u001b[0m\u001b[32m'activity_name'\u001b[0m: \u001b[32m'Ôn tập đường tròn ngoại tiếp và đường tròn nội tiếp'\u001b[0m,\n",
       "\u001b[2;32m│   \u001b[0m\u001b[32m'description'\u001b[0m: \u001b[32m'Hoàn thành các câu hỏi trắc nghiệm nhanh để ôn tập lại các công thức và định nghĩa về đường tròn ngoại tiếp và đường tròn nội tiếp.'\u001b[0m,\n",
       "\u001b[2;32m│   \u001b[0m\u001b[32m'duration_minutes'\u001b[0m: \u001b[1;36m15\u001b[0m,\n",
       "\u001b[2;32m│   \u001b[0m\u001b[32m'activity_type'\u001b[0m: \u001b[32m'Trắc nghiệm nhanh'\u001b[0m\n",
       "\u001b[1m}\u001b[0m\n"
      ]
     },
     "metadata": {},
     "output_type": "display_data"
    },
    {
     "data": {
      "text/html": [
       "<pre style=\"white-space:pre;overflow-x:auto;line-height:normal;font-family:Menlo,'DejaVu Sans Mono',consolas,'Courier New',monospace\">\n",
       "<span style=\"color: #808000; text-decoration-color: #808000; font-weight: bold\">------- Hoàn thành bước: theory_synthesizer -------</span>\n",
       "</pre>\n"
      ],
      "text/plain": [
       "\n",
       "\u001b[1;33m------- Hoàn thành bước: theory_synthesizer -------\u001b[0m\n"
      ]
     },
     "metadata": {},
     "output_type": "display_data"
    },
    {
     "data": {
      "text/html": [
       "<pre style=\"white-space:pre;overflow-x:auto;line-height:normal;font-family:Menlo,'DejaVu Sans Mono',consolas,'Courier New',monospace\">\n",
       "<span style=\"color: #808000; text-decoration-color: #808000; font-weight: bold\">------- Hoàn thành bước: mark_task_complete -------</span>\n",
       "</pre>\n"
      ],
      "text/plain": [
       "\n",
       "\u001b[1;33m------- Hoàn thành bước: mark_task_complete -------\u001b[0m\n"
      ]
     },
     "metadata": {},
     "output_type": "display_data"
    },
    {
     "data": {
      "text/html": [
       "<pre style=\"white-space:pre;overflow-x:auto;line-height:normal;font-family:Menlo,'DejaVu Sans Mono',consolas,'Courier New',monospace\"><span style=\"color: #008080; text-decoration-color: #008080; font-weight: bold\">&gt;</span> \n",
       "---\n",
       "### 🔄 `Router`: Đang kiểm tra nhiệm vụ<span style=\"color: #808000; text-decoration-color: #808000\">...</span>\n",
       "</pre>\n"
      ],
      "text/plain": [
       "\u001b[1;36m>\u001b[0m \n",
       "---\n",
       "### 🔄 `Router`: Đang kiểm tra nhiệm vụ\u001b[33m...\u001b[0m\n"
      ]
     },
     "metadata": {},
     "output_type": "display_data"
    },
    {
     "data": {
      "text/html": [
       "<pre style=\"white-space:pre;overflow-x:auto;line-height:normal;font-family:Menlo,'DejaVu Sans Mono',consolas,'Courier New',monospace\"><span style=\"color: #008080; text-decoration-color: #008080; font-weight: bold\">&gt;</span> Nhiệm vụ tiếp theo: <span style=\"color: #008000; text-decoration-color: #008000\">'Tính chu vi và diện tích của đường tròn'</span> <span style=\"font-weight: bold\">(</span>ID: <span style=\"color: #008080; text-decoration-color: #008080; font-weight: bold\">1</span><span style=\"font-weight: bold\">)</span>\n",
       "</pre>\n"
      ],
      "text/plain": [
       "\u001b[1;36m>\u001b[0m Nhiệm vụ tiếp theo: \u001b[32m'Tính chu vi và diện tích của đường tròn'\u001b[0m \u001b[1m(\u001b[0mID: \u001b[1;36m1\u001b[0m\u001b[1m)\u001b[0m\n"
      ]
     },
     "metadata": {},
     "output_type": "display_data"
    },
    {
     "data": {
      "text/html": [
       "<pre style=\"white-space:pre;overflow-x:auto;line-height:normal;font-family:Menlo,'DejaVu Sans Mono',consolas,'Courier New',monospace\">\n",
       "<span style=\"color: #808000; text-decoration-color: #808000; font-weight: bold\">------- Hoàn thành bước: task_router -------</span>\n",
       "</pre>\n"
      ],
      "text/plain": [
       "\n",
       "\u001b[1;33m------- Hoàn thành bước: task_router -------\u001b[0m\n"
      ]
     },
     "metadata": {},
     "output_type": "display_data"
    },
    {
     "data": {
      "text/html": [
       "<pre style=\"white-space:pre;overflow-x:auto;line-height:normal;font-family:Menlo,'DejaVu Sans Mono',consolas,'Courier New',monospace\"><span style=\"color: #008080; text-decoration-color: #008080; font-weight: bold\">&gt;</span> \n",
       "---\n",
       "### 🚚 `Agent: Task Dispatcher` <span style=\"font-weight: bold\">(</span>v5.<span style=\"color: #008080; text-decoration-color: #008080; font-weight: bold\">0</span><span style=\"font-weight: bold\">)</span> Bắt đầu<span style=\"color: #808000; text-decoration-color: #808000\">...</span>\n",
       "</pre>\n"
      ],
      "text/plain": [
       "\u001b[1;36m>\u001b[0m \n",
       "---\n",
       "### 🚚 `Agent: Task Dispatcher` \u001b[1m(\u001b[0mv5.\u001b[1;36m0\u001b[0m\u001b[1m)\u001b[0m Bắt đầu\u001b[33m...\u001b[0m\n"
      ]
     },
     "metadata": {},
     "output_type": "display_data"
    },
    {
     "data": {
      "text/html": [
       "<pre style=\"white-space:pre;overflow-x:auto;line-height:normal;font-family:Menlo,'DejaVu Sans Mono',consolas,'Courier New',monospace\"><span style=\"color: #008080; text-decoration-color: #008080; font-weight: bold\">&gt;</span> --- 🚚 `Dispatcher`: Giao nhiệm vụ cho `activity_designer`.\n",
       "</pre>\n"
      ],
      "text/plain": [
       "\u001b[1;36m>\u001b[0m --- 🚚 `Dispatcher`: Giao nhiệm vụ cho `activity_designer`.\n"
      ]
     },
     "metadata": {},
     "output_type": "display_data"
    },
    {
     "data": {
      "text/html": [
       "<pre style=\"white-space:pre;overflow-x:auto;line-height:normal;font-family:Menlo,'DejaVu Sans Mono',consolas,'Courier New',monospace\">\n",
       "<span style=\"color: #808000; text-decoration-color: #808000; font-weight: bold\">------- Hoàn thành bước: task_dispatcher -------</span>\n",
       "</pre>\n"
      ],
      "text/plain": [
       "\n",
       "\u001b[1;33m------- Hoàn thành bước: task_dispatcher -------\u001b[0m\n"
      ]
     },
     "metadata": {},
     "output_type": "display_data"
    },
    {
     "data": {
      "text/html": [
       "<pre style=\"white-space:pre;overflow-x:auto;line-height:normal;font-family:Menlo,'DejaVu Sans Mono',consolas,'Courier New',monospace\"><span style=\"color: #008080; text-decoration-color: #008080; font-weight: bold\">&gt;</span> `Agent: Activity Designer` <span style=\"font-weight: bold\">(</span>v5.<span style=\"color: #008080; text-decoration-color: #008080; font-weight: bold\">0</span><span style=\"font-weight: bold\">)</span> đang thiết kế hoạt động VẬN DỤNG CỤ THỂ<span style=\"color: #808000; text-decoration-color: #808000\">...</span>\n",
       "</pre>\n"
      ],
      "text/plain": [
       "\u001b[1;36m>\u001b[0m `Agent: Activity Designer` \u001b[1m(\u001b[0mv5.\u001b[1;36m0\u001b[0m\u001b[1m)\u001b[0m đang thiết kế hoạt động VẬN DỤNG CỤ THỂ\u001b[33m...\u001b[0m\n"
      ]
     },
     "metadata": {},
     "output_type": "display_data"
    },
    {
     "data": {
      "text/html": [
       "<pre style=\"white-space:pre;overflow-x:auto;line-height:normal;font-family:Menlo,'DejaVu Sans Mono',consolas,'Courier New',monospace\"><span style=\"color: #008000; text-decoration-color: #008000; font-weight: bold\">✔️ Hoạt động vận dụng đã thiết kế:</span>\n",
       "</pre>\n"
      ],
      "text/plain": [
       "\u001b[1;32m✔️ Hoạt động vận dụng đã thiết kế:\u001b[0m\n"
      ]
     },
     "metadata": {},
     "output_type": "display_data"
    },
    {
     "data": {
      "text/html": [
       "<pre style=\"white-space:pre;overflow-x:auto;line-height:normal;font-family:Menlo,'DejaVu Sans Mono',consolas,'Courier New',monospace\"><span style=\"font-weight: bold\">{</span>\n",
       "<span style=\"color: #7fbf7f; text-decoration-color: #7fbf7f\">│   </span><span style=\"color: #008000; text-decoration-color: #008000\">'activity_name'</span>: <span style=\"color: #008000; text-decoration-color: #008000\">'Tính chu vi và diện tích của đường tròn trong thiết kế logo'</span>,\n",
       "<span style=\"color: #7fbf7f; text-decoration-color: #7fbf7f\">│   </span><span style=\"color: #008000; text-decoration-color: #008000\">'description'</span>: <span style=\"color: #008000; text-decoration-color: #008000\">'Công ty thiết kế logo cần tạo một logo hình tròn cho một công ty mới. Họ muốn logo có bán kính là 4cm. Hãy tính chu vi và diện tích của logo này.'</span>,\n",
       "<span style=\"color: #7fbf7f; text-decoration-color: #7fbf7f\">│   </span><span style=\"color: #008000; text-decoration-color: #008000\">'duration_minutes'</span>: <span style=\"color: #008080; text-decoration-color: #008080; font-weight: bold\">20</span>,\n",
       "<span style=\"color: #7fbf7f; text-decoration-color: #7fbf7f\">│   </span><span style=\"color: #008000; text-decoration-color: #008000\">'activity_type'</span>: <span style=\"color: #008000; text-decoration-color: #008000\">'Bài toán tính chu vi và diện tích của đường tròn'</span>\n",
       "<span style=\"font-weight: bold\">}</span>\n",
       "</pre>\n"
      ],
      "text/plain": [
       "\u001b[1m{\u001b[0m\n",
       "\u001b[2;32m│   \u001b[0m\u001b[32m'activity_name'\u001b[0m: \u001b[32m'Tính chu vi và diện tích của đường tròn trong thiết kế logo'\u001b[0m,\n",
       "\u001b[2;32m│   \u001b[0m\u001b[32m'description'\u001b[0m: \u001b[32m'Công ty thiết kế logo cần tạo một logo hình tròn cho một công ty mới. Họ muốn logo có bán kính là 4cm. Hãy tính chu vi và diện tích của logo này.'\u001b[0m,\n",
       "\u001b[2;32m│   \u001b[0m\u001b[32m'duration_minutes'\u001b[0m: \u001b[1;36m20\u001b[0m,\n",
       "\u001b[2;32m│   \u001b[0m\u001b[32m'activity_type'\u001b[0m: \u001b[32m'Bài toán tính chu vi và diện tích của đường tròn'\u001b[0m\n",
       "\u001b[1m}\u001b[0m\n"
      ]
     },
     "metadata": {},
     "output_type": "display_data"
    },
    {
     "data": {
      "text/html": [
       "<pre style=\"white-space:pre;overflow-x:auto;line-height:normal;font-family:Menlo,'DejaVu Sans Mono',consolas,'Courier New',monospace\">\n",
       "<span style=\"color: #808000; text-decoration-color: #808000; font-weight: bold\">------- Hoàn thành bước: activity_designer -------</span>\n",
       "</pre>\n"
      ],
      "text/plain": [
       "\n",
       "\u001b[1;33m------- Hoàn thành bước: activity_designer -------\u001b[0m\n"
      ]
     },
     "metadata": {},
     "output_type": "display_data"
    },
    {
     "data": {
      "text/html": [
       "<pre style=\"white-space:pre;overflow-x:auto;line-height:normal;font-family:Menlo,'DejaVu Sans Mono',consolas,'Courier New',monospace\">\n",
       "<span style=\"color: #808000; text-decoration-color: #808000; font-weight: bold\">------- Hoàn thành bước: mark_task_complete -------</span>\n",
       "</pre>\n"
      ],
      "text/plain": [
       "\n",
       "\u001b[1;33m------- Hoàn thành bước: mark_task_complete -------\u001b[0m\n"
      ]
     },
     "metadata": {},
     "output_type": "display_data"
    },
    {
     "data": {
      "text/html": [
       "<pre style=\"white-space:pre;overflow-x:auto;line-height:normal;font-family:Menlo,'DejaVu Sans Mono',consolas,'Courier New',monospace\"><span style=\"color: #008080; text-decoration-color: #008080; font-weight: bold\">&gt;</span> \n",
       "---\n",
       "### 🔄 `Router`: Đang kiểm tra nhiệm vụ<span style=\"color: #808000; text-decoration-color: #808000\">...</span>\n",
       "</pre>\n"
      ],
      "text/plain": [
       "\u001b[1;36m>\u001b[0m \n",
       "---\n",
       "### 🔄 `Router`: Đang kiểm tra nhiệm vụ\u001b[33m...\u001b[0m\n"
      ]
     },
     "metadata": {},
     "output_type": "display_data"
    },
    {
     "data": {
      "text/html": [
       "<pre style=\"white-space:pre;overflow-x:auto;line-height:normal;font-family:Menlo,'DejaVu Sans Mono',consolas,'Courier New',monospace\"><span style=\"color: #008080; text-decoration-color: #008080; font-weight: bold\">&gt;</span> Nhiệm vụ tiếp theo: <span style=\"color: #008000; text-decoration-color: #008000\">'Xác định tâm và bán kính của đường tròn ngoại tiếp'</span> <span style=\"font-weight: bold\">(</span>ID: <span style=\"color: #008080; text-decoration-color: #008080; font-weight: bold\">2</span><span style=\"font-weight: bold\">)</span>\n",
       "</pre>\n"
      ],
      "text/plain": [
       "\u001b[1;36m>\u001b[0m Nhiệm vụ tiếp theo: \u001b[32m'Xác định tâm và bán kính của đường tròn ngoại tiếp'\u001b[0m \u001b[1m(\u001b[0mID: \u001b[1;36m2\u001b[0m\u001b[1m)\u001b[0m\n"
      ]
     },
     "metadata": {},
     "output_type": "display_data"
    },
    {
     "data": {
      "text/html": [
       "<pre style=\"white-space:pre;overflow-x:auto;line-height:normal;font-family:Menlo,'DejaVu Sans Mono',consolas,'Courier New',monospace\">\n",
       "<span style=\"color: #808000; text-decoration-color: #808000; font-weight: bold\">------- Hoàn thành bước: task_router -------</span>\n",
       "</pre>\n"
      ],
      "text/plain": [
       "\n",
       "\u001b[1;33m------- Hoàn thành bước: task_router -------\u001b[0m\n"
      ]
     },
     "metadata": {},
     "output_type": "display_data"
    },
    {
     "data": {
      "text/html": [
       "<pre style=\"white-space:pre;overflow-x:auto;line-height:normal;font-family:Menlo,'DejaVu Sans Mono',consolas,'Courier New',monospace\"><span style=\"color: #008080; text-decoration-color: #008080; font-weight: bold\">&gt;</span> \n",
       "---\n",
       "### 🚚 `Agent: Task Dispatcher` <span style=\"font-weight: bold\">(</span>v5.<span style=\"color: #008080; text-decoration-color: #008080; font-weight: bold\">0</span><span style=\"font-weight: bold\">)</span> Bắt đầu<span style=\"color: #808000; text-decoration-color: #808000\">...</span>\n",
       "</pre>\n"
      ],
      "text/plain": [
       "\u001b[1;36m>\u001b[0m \n",
       "---\n",
       "### 🚚 `Agent: Task Dispatcher` \u001b[1m(\u001b[0mv5.\u001b[1;36m0\u001b[0m\u001b[1m)\u001b[0m Bắt đầu\u001b[33m...\u001b[0m\n"
      ]
     },
     "metadata": {},
     "output_type": "display_data"
    },
    {
     "data": {
      "text/html": [
       "<pre style=\"white-space:pre;overflow-x:auto;line-height:normal;font-family:Menlo,'DejaVu Sans Mono',consolas,'Courier New',monospace\"><span style=\"color: #008080; text-decoration-color: #008080; font-weight: bold\">&gt;</span> --- 🚚 `Dispatcher`: Giao nhiệm vụ cho `activity_designer`.\n",
       "</pre>\n"
      ],
      "text/plain": [
       "\u001b[1;36m>\u001b[0m --- 🚚 `Dispatcher`: Giao nhiệm vụ cho `activity_designer`.\n"
      ]
     },
     "metadata": {},
     "output_type": "display_data"
    },
    {
     "data": {
      "text/html": [
       "<pre style=\"white-space:pre;overflow-x:auto;line-height:normal;font-family:Menlo,'DejaVu Sans Mono',consolas,'Courier New',monospace\">\n",
       "<span style=\"color: #808000; text-decoration-color: #808000; font-weight: bold\">------- Hoàn thành bước: task_dispatcher -------</span>\n",
       "</pre>\n"
      ],
      "text/plain": [
       "\n",
       "\u001b[1;33m------- Hoàn thành bước: task_dispatcher -------\u001b[0m\n"
      ]
     },
     "metadata": {},
     "output_type": "display_data"
    },
    {
     "data": {
      "text/html": [
       "<pre style=\"white-space:pre;overflow-x:auto;line-height:normal;font-family:Menlo,'DejaVu Sans Mono',consolas,'Courier New',monospace\"><span style=\"color: #008080; text-decoration-color: #008080; font-weight: bold\">&gt;</span> `Agent: Activity Designer` <span style=\"font-weight: bold\">(</span>v5.<span style=\"color: #008080; text-decoration-color: #008080; font-weight: bold\">0</span><span style=\"font-weight: bold\">)</span> đang thiết kế hoạt động VẬN DỤNG CỤ THỂ<span style=\"color: #808000; text-decoration-color: #808000\">...</span>\n",
       "</pre>\n"
      ],
      "text/plain": [
       "\u001b[1;36m>\u001b[0m `Agent: Activity Designer` \u001b[1m(\u001b[0mv5.\u001b[1;36m0\u001b[0m\u001b[1m)\u001b[0m đang thiết kế hoạt động VẬN DỤNG CỤ THỂ\u001b[33m...\u001b[0m\n"
      ]
     },
     "metadata": {},
     "output_type": "display_data"
    },
    {
     "data": {
      "text/html": [
       "<pre style=\"white-space:pre;overflow-x:auto;line-height:normal;font-family:Menlo,'DejaVu Sans Mono',consolas,'Courier New',monospace\"><span style=\"color: #008000; text-decoration-color: #008000; font-weight: bold\">✔️ Hoạt động vận dụng đã thiết kế:</span>\n",
       "</pre>\n"
      ],
      "text/plain": [
       "\u001b[1;32m✔️ Hoạt động vận dụng đã thiết kế:\u001b[0m\n"
      ]
     },
     "metadata": {},
     "output_type": "display_data"
    },
    {
     "data": {
      "text/html": [
       "<pre style=\"white-space:pre;overflow-x:auto;line-height:normal;font-family:Menlo,'DejaVu Sans Mono',consolas,'Courier New',monospace\"><span style=\"font-weight: bold\">{</span>\n",
       "<span style=\"color: #7fbf7f; text-decoration-color: #7fbf7f\">│   </span><span style=\"color: #008000; text-decoration-color: #008000\">'activity_name'</span>: <span style=\"color: #008000; text-decoration-color: #008000\">'Tìm tâm và bán kính của đường tròn ngoại tiếp tam giác trong thiết kế kiến trúc'</span>,\n",
       "<span style=\"color: #7fbf7f; text-decoration-color: #7fbf7f\">│   </span><span style=\"color: #008000; text-decoration-color: #008000\">'description'</span>: <span style=\"color: #008000; text-decoration-color: #008000\">'Một kiến trúc sư đang thiết kế một công trình xây dựng và cần tìm tâm và bán kính của đường tròn ngoại tiếp một tam giác có các cạnh là 6m, 8m và 10m. Hãy giúp kiến trúc sư tìm tâm và bán kính của đường tròn đó.'</span>,\n",
       "<span style=\"color: #7fbf7f; text-decoration-color: #7fbf7f\">│   </span><span style=\"color: #008000; text-decoration-color: #008000\">'duration_minutes'</span>: <span style=\"color: #008080; text-decoration-color: #008080; font-weight: bold\">25</span>,\n",
       "<span style=\"color: #7fbf7f; text-decoration-color: #7fbf7f\">│   </span><span style=\"color: #008000; text-decoration-color: #008000\">'activity_type'</span>: <span style=\"color: #008000; text-decoration-color: #008000\">'Bài toán thực tế'</span>\n",
       "<span style=\"font-weight: bold\">}</span>\n",
       "</pre>\n"
      ],
      "text/plain": [
       "\u001b[1m{\u001b[0m\n",
       "\u001b[2;32m│   \u001b[0m\u001b[32m'activity_name'\u001b[0m: \u001b[32m'Tìm tâm và bán kính của đường tròn ngoại tiếp tam giác trong thiết kế kiến trúc'\u001b[0m,\n",
       "\u001b[2;32m│   \u001b[0m\u001b[32m'description'\u001b[0m: \u001b[32m'Một kiến trúc sư đang thiết kế một công trình xây dựng và cần tìm tâm và bán kính của đường tròn ngoại tiếp một tam giác có các cạnh là 6m, 8m và 10m. Hãy giúp kiến trúc sư tìm tâm và bán kính của đường tròn đó.'\u001b[0m,\n",
       "\u001b[2;32m│   \u001b[0m\u001b[32m'duration_minutes'\u001b[0m: \u001b[1;36m25\u001b[0m,\n",
       "\u001b[2;32m│   \u001b[0m\u001b[32m'activity_type'\u001b[0m: \u001b[32m'Bài toán thực tế'\u001b[0m\n",
       "\u001b[1m}\u001b[0m\n"
      ]
     },
     "metadata": {},
     "output_type": "display_data"
    },
    {
     "data": {
      "text/html": [
       "<pre style=\"white-space:pre;overflow-x:auto;line-height:normal;font-family:Menlo,'DejaVu Sans Mono',consolas,'Courier New',monospace\">\n",
       "<span style=\"color: #808000; text-decoration-color: #808000; font-weight: bold\">------- Hoàn thành bước: activity_designer -------</span>\n",
       "</pre>\n"
      ],
      "text/plain": [
       "\n",
       "\u001b[1;33m------- Hoàn thành bước: activity_designer -------\u001b[0m\n"
      ]
     },
     "metadata": {},
     "output_type": "display_data"
    },
    {
     "data": {
      "text/html": [
       "<pre style=\"white-space:pre;overflow-x:auto;line-height:normal;font-family:Menlo,'DejaVu Sans Mono',consolas,'Courier New',monospace\">\n",
       "<span style=\"color: #808000; text-decoration-color: #808000; font-weight: bold\">------- Hoàn thành bước: mark_task_complete -------</span>\n",
       "</pre>\n"
      ],
      "text/plain": [
       "\n",
       "\u001b[1;33m------- Hoàn thành bước: mark_task_complete -------\u001b[0m\n"
      ]
     },
     "metadata": {},
     "output_type": "display_data"
    },
    {
     "data": {
      "text/html": [
       "<pre style=\"white-space:pre;overflow-x:auto;line-height:normal;font-family:Menlo,'DejaVu Sans Mono',consolas,'Courier New',monospace\"><span style=\"color: #008080; text-decoration-color: #008080; font-weight: bold\">&gt;</span> \n",
       "---\n",
       "### 🔄 `Router`: Đang kiểm tra nhiệm vụ<span style=\"color: #808000; text-decoration-color: #808000\">...</span>\n",
       "</pre>\n"
      ],
      "text/plain": [
       "\u001b[1;36m>\u001b[0m \n",
       "---\n",
       "### 🔄 `Router`: Đang kiểm tra nhiệm vụ\u001b[33m...\u001b[0m\n"
      ]
     },
     "metadata": {},
     "output_type": "display_data"
    },
    {
     "data": {
      "text/html": [
       "<pre style=\"white-space:pre;overflow-x:auto;line-height:normal;font-family:Menlo,'DejaVu Sans Mono',consolas,'Courier New',monospace\"><span style=\"color: #008080; text-decoration-color: #008080; font-weight: bold\">&gt;</span> Nhiệm vụ tiếp theo: <span style=\"color: #008000; text-decoration-color: #008000\">'Bài đánh giá: Đường tròn ngoại tiếp và đường tròn nội tiếp'</span> <span style=\"font-weight: bold\">(</span>ID: <span style=\"color: #008080; text-decoration-color: #008080; font-weight: bold\">3</span><span style=\"font-weight: bold\">)</span>\n",
       "</pre>\n"
      ],
      "text/plain": [
       "\u001b[1;36m>\u001b[0m Nhiệm vụ tiếp theo: \u001b[32m'Bài đánh giá: Đường tròn ngoại tiếp và đường tròn nội tiếp'\u001b[0m \u001b[1m(\u001b[0mID: \u001b[1;36m3\u001b[0m\u001b[1m)\u001b[0m\n"
      ]
     },
     "metadata": {},
     "output_type": "display_data"
    },
    {
     "data": {
      "text/html": [
       "<pre style=\"white-space:pre;overflow-x:auto;line-height:normal;font-family:Menlo,'DejaVu Sans Mono',consolas,'Courier New',monospace\">\n",
       "<span style=\"color: #808000; text-decoration-color: #808000; font-weight: bold\">------- Hoàn thành bước: task_router -------</span>\n",
       "</pre>\n"
      ],
      "text/plain": [
       "\n",
       "\u001b[1;33m------- Hoàn thành bước: task_router -------\u001b[0m\n"
      ]
     },
     "metadata": {},
     "output_type": "display_data"
    },
    {
     "data": {
      "text/html": [
       "<pre style=\"white-space:pre;overflow-x:auto;line-height:normal;font-family:Menlo,'DejaVu Sans Mono',consolas,'Courier New',monospace\"><span style=\"color: #008080; text-decoration-color: #008080; font-weight: bold\">&gt;</span> \n",
       "---\n",
       "### 🚚 `Agent: Task Dispatcher` <span style=\"font-weight: bold\">(</span>v5.<span style=\"color: #008080; text-decoration-color: #008080; font-weight: bold\">0</span><span style=\"font-weight: bold\">)</span> Bắt đầu<span style=\"color: #808000; text-decoration-color: #808000\">...</span>\n",
       "</pre>\n"
      ],
      "text/plain": [
       "\u001b[1;36m>\u001b[0m \n",
       "---\n",
       "### 🚚 `Agent: Task Dispatcher` \u001b[1m(\u001b[0mv5.\u001b[1;36m0\u001b[0m\u001b[1m)\u001b[0m Bắt đầu\u001b[33m...\u001b[0m\n"
      ]
     },
     "metadata": {},
     "output_type": "display_data"
    },
    {
     "data": {
      "text/html": [
       "<pre style=\"white-space:pre;overflow-x:auto;line-height:normal;font-family:Menlo,'DejaVu Sans Mono',consolas,'Courier New',monospace\"><span style=\"color: #008080; text-decoration-color: #008080; font-weight: bold\">&gt;</span> --- 🚚 `Dispatcher`: Giao nhiệm vụ cho `activity_designer`.\n",
       "</pre>\n"
      ],
      "text/plain": [
       "\u001b[1;36m>\u001b[0m --- 🚚 `Dispatcher`: Giao nhiệm vụ cho `activity_designer`.\n"
      ]
     },
     "metadata": {},
     "output_type": "display_data"
    },
    {
     "data": {
      "text/html": [
       "<pre style=\"white-space:pre;overflow-x:auto;line-height:normal;font-family:Menlo,'DejaVu Sans Mono',consolas,'Courier New',monospace\">\n",
       "<span style=\"color: #808000; text-decoration-color: #808000; font-weight: bold\">------- Hoàn thành bước: task_dispatcher -------</span>\n",
       "</pre>\n"
      ],
      "text/plain": [
       "\n",
       "\u001b[1;33m------- Hoàn thành bước: task_dispatcher -------\u001b[0m\n"
      ]
     },
     "metadata": {},
     "output_type": "display_data"
    },
    {
     "data": {
      "text/html": [
       "<pre style=\"white-space:pre;overflow-x:auto;line-height:normal;font-family:Menlo,'DejaVu Sans Mono',consolas,'Courier New',monospace\"><span style=\"color: #008080; text-decoration-color: #008080; font-weight: bold\">&gt;</span> `Agent: Activity Designer` <span style=\"font-weight: bold\">(</span>v5.<span style=\"color: #008080; text-decoration-color: #008080; font-weight: bold\">0</span><span style=\"font-weight: bold\">)</span> đang thiết kế hoạt động VẬN DỤNG CỤ THỂ<span style=\"color: #808000; text-decoration-color: #808000\">...</span>\n",
       "</pre>\n"
      ],
      "text/plain": [
       "\u001b[1;36m>\u001b[0m `Agent: Activity Designer` \u001b[1m(\u001b[0mv5.\u001b[1;36m0\u001b[0m\u001b[1m)\u001b[0m đang thiết kế hoạt động VẬN DỤNG CỤ THỂ\u001b[33m...\u001b[0m\n"
      ]
     },
     "metadata": {},
     "output_type": "display_data"
    },
    {
     "data": {
      "text/html": [
       "<pre style=\"white-space:pre;overflow-x:auto;line-height:normal;font-family:Menlo,'DejaVu Sans Mono',consolas,'Courier New',monospace\"><span style=\"color: #008000; text-decoration-color: #008000; font-weight: bold\">✔️ Hoạt động vận dụng đã thiết kế:</span>\n",
       "</pre>\n"
      ],
      "text/plain": [
       "\u001b[1;32m✔️ Hoạt động vận dụng đã thiết kế:\u001b[0m\n"
      ]
     },
     "metadata": {},
     "output_type": "display_data"
    },
    {
     "data": {
      "text/html": [
       "<pre style=\"white-space:pre;overflow-x:auto;line-height:normal;font-family:Menlo,'DejaVu Sans Mono',consolas,'Courier New',monospace\"><span style=\"font-weight: bold\">{</span>\n",
       "<span style=\"color: #7fbf7f; text-decoration-color: #7fbf7f\">│   </span><span style=\"color: #008000; text-decoration-color: #008000\">'activity_name'</span>: <span style=\"color: #008000; text-decoration-color: #008000\">'Tính toán đường tròn ngoại tiếp và đường tròn nội tiếp'</span>,\n",
       "<span style=\"color: #7fbf7f; text-decoration-color: #7fbf7f\">│   </span><span style=\"color: #008000; text-decoration-color: #008000\">'description'</span>: <span style=\"color: #008000; text-decoration-color: #008000\">'Một công ty sản xuất bánh xe đạp cần tính toán đường tròn ngoại tiếp và đường tròn nội tiếp của bánh xe để sản xuất bánh xe đạt tiêu chuẩn. Cho hình tròn có chu vi là 16π cm. Xác định bán kính và diện tích của hình tròn.'</span>,\n",
       "<span style=\"color: #7fbf7f; text-decoration-color: #7fbf7f\">│   </span><span style=\"color: #008000; text-decoration-color: #008000\">'duration_minutes'</span>: <span style=\"color: #008080; text-decoration-color: #008080; font-weight: bold\">30</span>,\n",
       "<span style=\"color: #7fbf7f; text-decoration-color: #7fbf7f\">│   </span><span style=\"color: #008000; text-decoration-color: #008000\">'activity_type'</span>: <span style=\"color: #008000; text-decoration-color: #008000\">'Bài toán tổng hợp về đường tròn ngoại tiếp và đường tròn nội tiếp'</span>\n",
       "<span style=\"font-weight: bold\">}</span>\n",
       "</pre>\n"
      ],
      "text/plain": [
       "\u001b[1m{\u001b[0m\n",
       "\u001b[2;32m│   \u001b[0m\u001b[32m'activity_name'\u001b[0m: \u001b[32m'Tính toán đường tròn ngoại tiếp và đường tròn nội tiếp'\u001b[0m,\n",
       "\u001b[2;32m│   \u001b[0m\u001b[32m'description'\u001b[0m: \u001b[32m'Một công ty sản xuất bánh xe đạp cần tính toán đường tròn ngoại tiếp và đường tròn nội tiếp của bánh xe để sản xuất bánh xe đạt tiêu chuẩn. Cho hình tròn có chu vi là 16π cm. Xác định bán kính và diện tích của hình tròn.'\u001b[0m,\n",
       "\u001b[2;32m│   \u001b[0m\u001b[32m'duration_minutes'\u001b[0m: \u001b[1;36m30\u001b[0m,\n",
       "\u001b[2;32m│   \u001b[0m\u001b[32m'activity_type'\u001b[0m: \u001b[32m'Bài toán tổng hợp về đường tròn ngoại tiếp và đường tròn nội tiếp'\u001b[0m\n",
       "\u001b[1m}\u001b[0m\n"
      ]
     },
     "metadata": {},
     "output_type": "display_data"
    },
    {
     "data": {
      "text/html": [
       "<pre style=\"white-space:pre;overflow-x:auto;line-height:normal;font-family:Menlo,'DejaVu Sans Mono',consolas,'Courier New',monospace\">\n",
       "<span style=\"color: #808000; text-decoration-color: #808000; font-weight: bold\">------- Hoàn thành bước: activity_designer -------</span>\n",
       "</pre>\n"
      ],
      "text/plain": [
       "\n",
       "\u001b[1;33m------- Hoàn thành bước: activity_designer -------\u001b[0m\n"
      ]
     },
     "metadata": {},
     "output_type": "display_data"
    },
    {
     "data": {
      "text/html": [
       "<pre style=\"white-space:pre;overflow-x:auto;line-height:normal;font-family:Menlo,'DejaVu Sans Mono',consolas,'Courier New',monospace\">\n",
       "<span style=\"color: #808000; text-decoration-color: #808000; font-weight: bold\">------- Hoàn thành bước: mark_task_complete -------</span>\n",
       "</pre>\n"
      ],
      "text/plain": [
       "\n",
       "\u001b[1;33m------- Hoàn thành bước: mark_task_complete -------\u001b[0m\n"
      ]
     },
     "metadata": {},
     "output_type": "display_data"
    },
    {
     "data": {
      "text/html": [
       "<pre style=\"white-space:pre;overflow-x:auto;line-height:normal;font-family:Menlo,'DejaVu Sans Mono',consolas,'Courier New',monospace\"><span style=\"color: #008080; text-decoration-color: #008080; font-weight: bold\">&gt;</span> \n",
       "---\n",
       "### 🔄 `Router`: Đang kiểm tra nhiệm vụ<span style=\"color: #808000; text-decoration-color: #808000\">...</span>\n",
       "</pre>\n"
      ],
      "text/plain": [
       "\u001b[1;36m>\u001b[0m \n",
       "---\n",
       "### 🔄 `Router`: Đang kiểm tra nhiệm vụ\u001b[33m...\u001b[0m\n"
      ]
     },
     "metadata": {},
     "output_type": "display_data"
    },
    {
     "data": {
      "text/html": [
       "<pre style=\"white-space:pre;overflow-x:auto;line-height:normal;font-family:Menlo,'DejaVu Sans Mono',consolas,'Courier New',monospace\"><span style=\"color: #008080; text-decoration-color: #008080; font-weight: bold\">&gt;</span> Hết nhiệm vụ, chuyển sang node Compiler &amp; Critic.\n",
       "</pre>\n"
      ],
      "text/plain": [
       "\u001b[1;36m>\u001b[0m Hết nhiệm vụ, chuyển sang node Compiler & Critic.\n"
      ]
     },
     "metadata": {},
     "output_type": "display_data"
    },
    {
     "data": {
      "text/html": [
       "<pre style=\"white-space:pre;overflow-x:auto;line-height:normal;font-family:Menlo,'DejaVu Sans Mono',consolas,'Courier New',monospace\">\n",
       "<span style=\"color: #808000; text-decoration-color: #808000; font-weight: bold\">------- Hoàn thành bước: task_router -------</span>\n",
       "</pre>\n"
      ],
      "text/plain": [
       "\n",
       "\u001b[1;33m------- Hoàn thành bước: task_router -------\u001b[0m\n"
      ]
     },
     "metadata": {},
     "output_type": "display_data"
    },
    {
     "data": {
      "text/html": [
       "<pre style=\"white-space:pre;overflow-x:auto;line-height:normal;font-family:Menlo,'DejaVu Sans Mono',consolas,'Courier New',monospace\"><span style=\"color: #008080; text-decoration-color: #008080; font-weight: bold\">&gt;</span> `Agent: Plan Compiler &amp; Critic` <span style=\"font-weight: bold\">(</span>v5.<span style=\"color: #008080; text-decoration-color: #008080; font-weight: bold\">0</span><span style=\"font-weight: bold\">)</span> đang tổng hợp và đánh giá giáo án<span style=\"color: #808000; text-decoration-color: #808000\">...</span>\n",
       "</pre>\n"
      ],
      "text/plain": [
       "\u001b[1;36m>\u001b[0m `Agent: Plan Compiler & Critic` \u001b[1m(\u001b[0mv5.\u001b[1;36m0\u001b[0m\u001b[1m)\u001b[0m đang tổng hợp và đánh giá giáo án\u001b[33m...\u001b[0m\n"
      ]
     },
     "metadata": {},
     "output_type": "display_data"
    },
    {
     "data": {
      "text/html": [
       "<pre style=\"white-space:pre;overflow-x:auto;line-height:normal;font-family:Menlo,'DejaVu Sans Mono',consolas,'Courier New',monospace\"><span style=\"color: #008080; text-decoration-color: #008080; font-weight: bold\">&gt;</span> CRITIC: Kế hoạch hợp lệ! Bắt đầu tổng hợp giáo án theo mẫu chuyên nghiệp.\n",
       "</pre>\n"
      ],
      "text/plain": [
       "\u001b[1;36m>\u001b[0m CRITIC: Kế hoạch hợp lệ! Bắt đầu tổng hợp giáo án theo mẫu chuyên nghiệp.\n"
      ]
     },
     "metadata": {},
     "output_type": "display_data"
    },
    {
     "data": {
      "text/html": [
       "<pre style=\"white-space:pre;overflow-x:auto;line-height:normal;font-family:Menlo,'DejaVu Sans Mono',consolas,'Courier New',monospace\"><span style=\"color: #008080; text-decoration-color: #008080; font-weight: bold\">&gt;</span> ROUTER: Critic đã hài lòng. Kết thúc quy trình.\n",
       "</pre>\n"
      ],
      "text/plain": [
       "\u001b[1;36m>\u001b[0m ROUTER: Critic đã hài lòng. Kết thúc quy trình.\n"
      ]
     },
     "metadata": {},
     "output_type": "display_data"
    },
    {
     "data": {
      "text/html": [
       "<pre style=\"white-space:pre;overflow-x:auto;line-height:normal;font-family:Menlo,'DejaVu Sans Mono',consolas,'Courier New',monospace\">\n",
       "<span style=\"color: #808000; text-decoration-color: #808000; font-weight: bold\">------- Hoàn thành bước: plan_compiler_and_critic -------</span>\n",
       "</pre>\n"
      ],
      "text/plain": [
       "\n",
       "\u001b[1;33m------- Hoàn thành bước: plan_compiler_and_critic -------\u001b[0m\n"
      ]
     },
     "metadata": {},
     "output_type": "display_data"
    },
    {
     "data": {
      "text/html": [
       "<pre style=\"white-space:pre;overflow-x:auto;line-height:normal;font-family:Menlo,'DejaVu Sans Mono',consolas,'Courier New',monospace\">\n",
       "<span style=\"color: #800080; text-decoration-color: #800080; font-weight: bold\">🏁 KẾT THÚC QUY TRÌNH V3.</span><span style=\"color: #800080; text-decoration-color: #800080; font-weight: bold\">0</span><span style=\"color: #800080; text-decoration-color: #800080; font-weight: bold\">.</span>\n",
       "</pre>\n"
      ],
      "text/plain": [
       "\n",
       "\u001b[1;35m🏁 KẾT THÚC QUY TRÌNH V3.\u001b[0m\u001b[1;35m0\u001b[0m\u001b[1;35m.\u001b[0m\n"
      ]
     },
     "metadata": {},
     "output_type": "display_data"
    },
    {
     "data": {
      "text/html": [
       "<pre style=\"white-space:pre;overflow-x:auto;line-height:normal;font-family:Menlo,'DejaVu Sans Mono',consolas,'Courier New',monospace\">\n",
       "<span style=\"color: #008000; text-decoration-color: #008000; font-weight: bold\">📝 GIÁO ÁN HOÀN CHỈNH (SAU KHI ĐÃ TỰ SỬA LỖI)</span>\n",
       "</pre>\n"
      ],
      "text/plain": [
       "\n",
       "\u001b[1;32m📝 GIÁO ÁN HOÀN CHỈNH \u001b[0m\u001b[1;32m(\u001b[0m\u001b[1;32mSAU KHI ĐÃ TỰ SỬA LỖI\u001b[0m\u001b[1;32m)\u001b[0m\n"
      ]
     },
     "metadata": {},
     "output_type": "display_data"
    },
    {
     "data": {
      "text/html": [
       "<pre style=\"white-space:pre;overflow-x:auto;line-height:normal;font-family:Menlo,'DejaVu Sans Mono',consolas,'Courier New',monospace\">┏━━━━━━━━━━━━━━━━━━━━━━━━━━━━━━━━━━━━━━━━━━━━━━━━━━━━━━━━━━━━━━━━━━━━━━━━━━━━━━━━━━━━━━━━━━━━━━━━━━━━━━━━━━━━━━━━━┓\n",
       "┃                              <span style=\"font-weight: bold\">GIÁO ÁN: Đường tròn ngoại tiếp và đường tròn nội tiếp</span>                              ┃\n",
       "┗━━━━━━━━━━━━━━━━━━━━━━━━━━━━━━━━━━━━━━━━━━━━━━━━━━━━━━━━━━━━━━━━━━━━━━━━━━━━━━━━━━━━━━━━━━━━━━━━━━━━━━━━━━━━━━━━━┛\n",
       "\n",
       "\n",
       "                                                <span style=\"font-weight: bold; text-decoration: underline\">I. THÔNG TIN CHUNG</span>                                                 \n",
       "\n",
       "<span style=\"color: #808000; text-decoration-color: #808000; font-weight: bold\"> • </span><span style=\"font-weight: bold\">Môn học:</span> Toán                                                                                                   \n",
       "<span style=\"color: #808000; text-decoration-color: #808000; font-weight: bold\"> • </span><span style=\"font-weight: bold\">Lớp:</span> 9                                                                                                          \n",
       "<span style=\"color: #808000; text-decoration-color: #808000; font-weight: bold\"> • </span><span style=\"font-weight: bold\">Thời lượng dự kiến:</span> 90 phút                                                                                     \n",
       "\n",
       "\n",
       "                                               <span style=\"font-weight: bold; text-decoration: underline\">II. MỤC TIÊU BÀI HỌC</span>                                                \n",
       "\n",
       "<span style=\"color: #808000; text-decoration-color: #808000; font-weight: bold\"> • </span>Học sinh có thể vận dụng được các tỉ số lượng giác để giải các bài toán thực tế.                                \n",
       "<span style=\"color: #808000; text-decoration-color: #808000; font-weight: bold\"> • </span>Rèn luyện kỹ năng mô hình hóa toán học và giải quyết vấn đề.                                                    \n",
       "\n",
       "\n",
       "                                              <span style=\"font-weight: bold; text-decoration: underline\">III. TIẾN TRÌNH DẠY HỌC</span>                                              \n",
       "\n",
       "                    <span style=\"font-weight: bold\">Hoạt động 1: Ôn tập đường tròn ngoại tiếp và đường tròn nội tiếp (15 phút)</span>                     \n",
       "\n",
       "<span style=\"color: #808000; text-decoration-color: #808000; font-weight: bold\"> • </span><span style=\"font-weight: bold\">Loại hình tổ chức:</span> Trắc nghiệm nhanh                                                                            \n",
       "<span style=\"color: #808000; text-decoration-color: #808000; font-weight: bold\"> • </span><span style=\"font-weight: bold\">Mô tả chi tiết:</span> Hoàn thành các câu hỏi trắc nghiệm nhanh để ôn tập lại các công thức và định nghĩa về đường tròn\n",
       "<span style=\"color: #808000; text-decoration-color: #808000; font-weight: bold\">   </span>ngoại tiếp và đường tròn nội tiếp.                                                                              \n",
       "\n",
       "                <span style=\"font-weight: bold\">Hoạt động 2: Tính chu vi và diện tích của đường tròn trong thiết kế logo (20 phút)</span>                 \n",
       "\n",
       "<span style=\"color: #808000; text-decoration-color: #808000; font-weight: bold\"> • </span><span style=\"font-weight: bold\">Loại hình tổ chức:</span> Bài toán tính chu vi và diện tích của đường tròn                                             \n",
       "<span style=\"color: #808000; text-decoration-color: #808000; font-weight: bold\"> • </span><span style=\"font-weight: bold\">Mô tả chi tiết:</span> Công ty thiết kế logo cần tạo một logo hình tròn cho một công ty mới. Họ muốn logo có bán kính  \n",
       "<span style=\"color: #808000; text-decoration-color: #808000; font-weight: bold\">   </span>là 4cm. Hãy tính chu vi và diện tích của logo này.                                                              \n",
       "\n",
       "      <span style=\"font-weight: bold\">Hoạt động 3: Tìm tâm và bán kính của đường tròn ngoại tiếp tam giác trong thiết kế kiến trúc (25 phút)</span>       \n",
       "\n",
       "<span style=\"color: #808000; text-decoration-color: #808000; font-weight: bold\"> • </span><span style=\"font-weight: bold\">Loại hình tổ chức:</span> Bài toán thực tế                                                                             \n",
       "<span style=\"color: #808000; text-decoration-color: #808000; font-weight: bold\"> • </span><span style=\"font-weight: bold\">Mô tả chi tiết:</span> Một kiến trúc sư đang thiết kế một công trình xây dựng và cần tìm tâm và bán kính của đường tròn\n",
       "<span style=\"color: #808000; text-decoration-color: #808000; font-weight: bold\">   </span>ngoại tiếp một tam giác có các cạnh là 6m, 8m và 10m. Hãy giúp kiến trúc sư tìm tâm và bán kính của đường tròn  \n",
       "<span style=\"color: #808000; text-decoration-color: #808000; font-weight: bold\">   </span>đó.                                                                                                             \n",
       "\n",
       "                   <span style=\"font-weight: bold\">Hoạt động 4: Tính toán đường tròn ngoại tiếp và đường tròn nội tiếp (30 phút)</span>                   \n",
       "\n",
       "<span style=\"color: #808000; text-decoration-color: #808000; font-weight: bold\"> • </span><span style=\"font-weight: bold\">Loại hình tổ chức:</span> Bài toán tổng hợp về đường tròn ngoại tiếp và đường tròn nội tiếp                            \n",
       "<span style=\"color: #808000; text-decoration-color: #808000; font-weight: bold\"> • </span><span style=\"font-weight: bold\">Mô tả chi tiết:</span> Một công ty sản xuất bánh xe đạp cần tính toán đường tròn ngoại tiếp và đường tròn nội tiếp của \n",
       "<span style=\"color: #808000; text-decoration-color: #808000; font-weight: bold\">   </span>bánh xe để sản xuất bánh xe đạt tiêu chuẩn. Cho hình tròn có chu vi là 16π cm. Xác định bán kính và diện tích   \n",
       "<span style=\"color: #808000; text-decoration-color: #808000; font-weight: bold\">   </span>của hình tròn.                                                                                                  \n",
       "\n",
       "\n",
       "                                              <span style=\"font-weight: bold; text-decoration: underline\">IV. ĐÁNH GIÁ VÀ CỦNG CỐ</span>                                              \n",
       "\n",
       "\n",
       "                                            <span style=\"font-weight: bold; text-decoration: underline\">V. TÀI NGUYÊN &amp; PHƯƠNG TIỆN</span>                                            \n",
       "\n",
       "<span style=\"color: #808000; text-decoration-color: #808000; font-weight: bold\"> • </span><span style=\"font-weight: bold\">Nguồn:</span> Sách giáo khoa Toán 9 (từ RAG)                                                                           \n",
       "<span style=\"color: #808000; text-decoration-color: #808000; font-weight: bold\"> • </span><span style=\"font-weight: bold\">Tóm tắt kiến thức cốt lõi:</span> Here is a summary of the key concepts, definitions, and formulas related to \"Tangent \n",
       "<span style=\"color: #808000; text-decoration-color: #808000; font-weight: bold\">   </span>and Secant Lines\" from the provided text:                                                                       \n",
       "\n",
       "<span style=\"font-weight: bold\">Definitions:</span>                                                                                                       \n",
       "\n",
       "<span style=\"color: #808000; text-decoration-color: #808000; font-weight: bold\"> • </span>Two lines are said to <span style=\"font-weight: bold\">intersect</span> if they have exactly two common points.                                         \n",
       "<span style=\"color: #808000; text-decoration-color: #808000; font-weight: bold\"> • </span>Two lines are said to <span style=\"font-weight: bold\">touch</span> or <span style=\"font-weight: bold\">be tangent</span> if they have exactly one common point, called the <span style=\"font-weight: bold\">point of tangency</span>.  \n",
       "<span style=\"color: #808000; text-decoration-color: #808000; font-weight: bold\"> • </span>Two lines are said to <span style=\"font-weight: bold\">not intersect</span> if they have no common points.                                              \n",
       "\n",
       "<span style=\"font-weight: bold\">Theorems:</span>                                                                                                          \n",
       "\n",
       "<span style=\"color: #808000; text-decoration-color: #808000; font-weight: bold\"> • </span>If a line intersects a circle, then the distance from the center of the circle to the line is less than the     \n",
       "<span style=\"color: #808000; text-decoration-color: #808000; font-weight: bold\">   </span>radius of the circle.                                                                                           \n",
       "<span style=\"color: #808000; text-decoration-color: #808000; font-weight: bold\"> • </span>If a line touches a circle, then the distance from the center of the circle to the line is equal to the radius  \n",
       "<span style=\"color: #808000; text-decoration-color: #808000; font-weight: bold\">   </span>of the circle.                                                                                                  \n",
       "<span style=\"color: #808000; text-decoration-color: #808000; font-weight: bold\"> • </span>If a line does not intersect a circle, then the distance from the center of the circle to the line is greater   \n",
       "<span style=\"color: #808000; text-decoration-color: #808000; font-weight: bold\">   </span>than the radius of the circle.                                                                                  \n",
       "\n",
       "<span style=\"font-weight: bold\">Tangent Line Theorem:</span>                                                                                              \n",
       "\n",
       "<span style=\"color: #808000; text-decoration-color: #808000; font-weight: bold\"> • </span>If a line passes through a point on a circle and is perpendicular to the radius passing through that point, then\n",
       "<span style=\"color: #808000; text-decoration-color: #808000; font-weight: bold\">   </span>the line is a tangent line to the circle.                                                                       \n",
       "\n",
       "<span style=\"font-weight: bold\">Key Concepts:</span>                                                                                                      \n",
       "\n",
       "<span style=\"color: #808000; text-decoration-color: #808000; font-weight: bold\"> • </span>Position of a line relative to a circle: intersecting, touching, or not intersecting.                           \n",
       "<span style=\"color: #808000; text-decoration-color: #808000; font-weight: bold\"> • </span>Distance from the center of a circle to a line.                                                                 \n",
       "<span style=\"color: #808000; text-decoration-color: #808000; font-weight: bold\"> • </span>Tangent line to a circle.                                                                                       \n",
       "\n",
       "<span style=\"font-weight: bold\">Formulas:</span>                                                                                                          \n",
       "\n",
       "<span style=\"color: #808000; text-decoration-color: #808000; font-weight: bold\"> • </span>None mentioned in the provided text.                                                                            \n",
       "\n",
       "Note that the text also mentions other topics, such as quadratic equations and linear equations, but they are not  \n",
       "directly related to the topic of tangent and secant lines.                                                         \n",
       "</pre>\n"
      ],
      "text/plain": [
       "┏━━━━━━━━━━━━━━━━━━━━━━━━━━━━━━━━━━━━━━━━━━━━━━━━━━━━━━━━━━━━━━━━━━━━━━━━━━━━━━━━━━━━━━━━━━━━━━━━━━━━━━━━━━━━━━━━━┓\n",
       "┃                              \u001b[1mGIÁO ÁN: Đường tròn ngoại tiếp và đường tròn nội tiếp\u001b[0m                              ┃\n",
       "┗━━━━━━━━━━━━━━━━━━━━━━━━━━━━━━━━━━━━━━━━━━━━━━━━━━━━━━━━━━━━━━━━━━━━━━━━━━━━━━━━━━━━━━━━━━━━━━━━━━━━━━━━━━━━━━━━━┛\n",
       "\n",
       "\n",
       "                                                \u001b[1;4mI. THÔNG TIN CHUNG\u001b[0m                                                 \n",
       "\n",
       "\u001b[1;33m • \u001b[0m\u001b[1mMôn học:\u001b[0m Toán                                                                                                   \n",
       "\u001b[1;33m • \u001b[0m\u001b[1mLớp:\u001b[0m 9                                                                                                          \n",
       "\u001b[1;33m • \u001b[0m\u001b[1mThời lượng dự kiến:\u001b[0m 90 phút                                                                                     \n",
       "\n",
       "\n",
       "                                               \u001b[1;4mII. MỤC TIÊU BÀI HỌC\u001b[0m                                                \n",
       "\n",
       "\u001b[1;33m • \u001b[0mHọc sinh có thể vận dụng được các tỉ số lượng giác để giải các bài toán thực tế.                                \n",
       "\u001b[1;33m • \u001b[0mRèn luyện kỹ năng mô hình hóa toán học và giải quyết vấn đề.                                                    \n",
       "\n",
       "\n",
       "                                              \u001b[1;4mIII. TIẾN TRÌNH DẠY HỌC\u001b[0m                                              \n",
       "\n",
       "                    \u001b[1mHoạt động 1: Ôn tập đường tròn ngoại tiếp và đường tròn nội tiếp (15 phút)\u001b[0m                     \n",
       "\n",
       "\u001b[1;33m • \u001b[0m\u001b[1mLoại hình tổ chức:\u001b[0m Trắc nghiệm nhanh                                                                            \n",
       "\u001b[1;33m • \u001b[0m\u001b[1mMô tả chi tiết:\u001b[0m Hoàn thành các câu hỏi trắc nghiệm nhanh để ôn tập lại các công thức và định nghĩa về đường tròn\n",
       "\u001b[1;33m   \u001b[0mngoại tiếp và đường tròn nội tiếp.                                                                              \n",
       "\n",
       "                \u001b[1mHoạt động 2: Tính chu vi và diện tích của đường tròn trong thiết kế logo (20 phút)\u001b[0m                 \n",
       "\n",
       "\u001b[1;33m • \u001b[0m\u001b[1mLoại hình tổ chức:\u001b[0m Bài toán tính chu vi và diện tích của đường tròn                                             \n",
       "\u001b[1;33m • \u001b[0m\u001b[1mMô tả chi tiết:\u001b[0m Công ty thiết kế logo cần tạo một logo hình tròn cho một công ty mới. Họ muốn logo có bán kính  \n",
       "\u001b[1;33m   \u001b[0mlà 4cm. Hãy tính chu vi và diện tích của logo này.                                                              \n",
       "\n",
       "      \u001b[1mHoạt động 3: Tìm tâm và bán kính của đường tròn ngoại tiếp tam giác trong thiết kế kiến trúc (25 phút)\u001b[0m       \n",
       "\n",
       "\u001b[1;33m • \u001b[0m\u001b[1mLoại hình tổ chức:\u001b[0m Bài toán thực tế                                                                             \n",
       "\u001b[1;33m • \u001b[0m\u001b[1mMô tả chi tiết:\u001b[0m Một kiến trúc sư đang thiết kế một công trình xây dựng và cần tìm tâm và bán kính của đường tròn\n",
       "\u001b[1;33m   \u001b[0mngoại tiếp một tam giác có các cạnh là 6m, 8m và 10m. Hãy giúp kiến trúc sư tìm tâm và bán kính của đường tròn  \n",
       "\u001b[1;33m   \u001b[0mđó.                                                                                                             \n",
       "\n",
       "                   \u001b[1mHoạt động 4: Tính toán đường tròn ngoại tiếp và đường tròn nội tiếp (30 phút)\u001b[0m                   \n",
       "\n",
       "\u001b[1;33m • \u001b[0m\u001b[1mLoại hình tổ chức:\u001b[0m Bài toán tổng hợp về đường tròn ngoại tiếp và đường tròn nội tiếp                            \n",
       "\u001b[1;33m • \u001b[0m\u001b[1mMô tả chi tiết:\u001b[0m Một công ty sản xuất bánh xe đạp cần tính toán đường tròn ngoại tiếp và đường tròn nội tiếp của \n",
       "\u001b[1;33m   \u001b[0mbánh xe để sản xuất bánh xe đạt tiêu chuẩn. Cho hình tròn có chu vi là 16π cm. Xác định bán kính và diện tích   \n",
       "\u001b[1;33m   \u001b[0mcủa hình tròn.                                                                                                  \n",
       "\n",
       "\n",
       "                                              \u001b[1;4mIV. ĐÁNH GIÁ VÀ CỦNG CỐ\u001b[0m                                              \n",
       "\n",
       "\n",
       "                                            \u001b[1;4mV. TÀI NGUYÊN & PHƯƠNG TIỆN\u001b[0m                                            \n",
       "\n",
       "\u001b[1;33m • \u001b[0m\u001b[1mNguồn:\u001b[0m Sách giáo khoa Toán 9 (từ RAG)                                                                           \n",
       "\u001b[1;33m • \u001b[0m\u001b[1mTóm tắt kiến thức cốt lõi:\u001b[0m Here is a summary of the key concepts, definitions, and formulas related to \"Tangent \n",
       "\u001b[1;33m   \u001b[0mand Secant Lines\" from the provided text:                                                                       \n",
       "\n",
       "\u001b[1mDefinitions:\u001b[0m                                                                                                       \n",
       "\n",
       "\u001b[1;33m • \u001b[0mTwo lines are said to \u001b[1mintersect\u001b[0m if they have exactly two common points.                                         \n",
       "\u001b[1;33m • \u001b[0mTwo lines are said to \u001b[1mtouch\u001b[0m or \u001b[1mbe tangent\u001b[0m if they have exactly one common point, called the \u001b[1mpoint of tangency\u001b[0m.  \n",
       "\u001b[1;33m • \u001b[0mTwo lines are said to \u001b[1mnot intersect\u001b[0m if they have no common points.                                              \n",
       "\n",
       "\u001b[1mTheorems:\u001b[0m                                                                                                          \n",
       "\n",
       "\u001b[1;33m • \u001b[0mIf a line intersects a circle, then the distance from the center of the circle to the line is less than the     \n",
       "\u001b[1;33m   \u001b[0mradius of the circle.                                                                                           \n",
       "\u001b[1;33m • \u001b[0mIf a line touches a circle, then the distance from the center of the circle to the line is equal to the radius  \n",
       "\u001b[1;33m   \u001b[0mof the circle.                                                                                                  \n",
       "\u001b[1;33m • \u001b[0mIf a line does not intersect a circle, then the distance from the center of the circle to the line is greater   \n",
       "\u001b[1;33m   \u001b[0mthan the radius of the circle.                                                                                  \n",
       "\n",
       "\u001b[1mTangent Line Theorem:\u001b[0m                                                                                              \n",
       "\n",
       "\u001b[1;33m • \u001b[0mIf a line passes through a point on a circle and is perpendicular to the radius passing through that point, then\n",
       "\u001b[1;33m   \u001b[0mthe line is a tangent line to the circle.                                                                       \n",
       "\n",
       "\u001b[1mKey Concepts:\u001b[0m                                                                                                      \n",
       "\n",
       "\u001b[1;33m • \u001b[0mPosition of a line relative to a circle: intersecting, touching, or not intersecting.                           \n",
       "\u001b[1;33m • \u001b[0mDistance from the center of a circle to a line.                                                                 \n",
       "\u001b[1;33m • \u001b[0mTangent line to a circle.                                                                                       \n",
       "\n",
       "\u001b[1mFormulas:\u001b[0m                                                                                                          \n",
       "\n",
       "\u001b[1;33m • \u001b[0mNone mentioned in the provided text.                                                                            \n",
       "\n",
       "Note that the text also mentions other topics, such as quadratic equations and linear equations, but they are not  \n",
       "directly related to the topic of tangent and secant lines.                                                         \n"
      ]
     },
     "metadata": {},
     "output_type": "display_data"
    }
   ],
   "source": [
    "# ==============================================================================\n",
    "# CELL 5: CHẠY THỬ NGHIỆM VỚI GRAPH V3.0\n",
    "# ==============================================================================\n",
    "\n",
    "async def run_graph_v3(user_request: str):\n",
    "    initial_state = {\n",
    "        \"messages\": [HumanMessage(content=user_request)],\n",
    "        \"agent_outputs\": {},\n",
    "    }\n",
    "    console.print(f\"\\n[bold magenta]🚀 BẮT ĐẦU QUY TRÌNH V3.0 VỚI YÊU CẦU:[/bold magenta]\\n> {user_request}\")\n",
    "    config = {\"recursion_limit\": 100} # Tăng giới hạn đệ quy để cho phép vòng lặp\n",
    "    \n",
    "    final_state_result = None\n",
    "    async for event in app.astream(initial_state, config=config):\n",
    "        for node_name, node_output in event.items():\n",
    "            console.print(f\"\\n[bold yellow]------- Hoàn thành bước: {node_name} -------[/bold yellow]\")\n",
    "            final_state_result = node_output\n",
    "\n",
    "    console.print(\"\\n[bold magenta]🏁 KẾT THÚC QUY TRÌNH V3.0.[/bold magenta]\")\n",
    "    if final_state_result and final_state_result.get(\"final_lesson_plan\"):\n",
    "        console.print(\"\\n[bold green]📝 GIÁO ÁN HOÀN CHỈNH (SAU KHI ĐÃ TỰ SỬA LỖI)[/bold green]\")\n",
    "        console.print(Markdown(final_state_result[\"final_lesson_plan\"]))\n",
    "    else:\n",
    "        print_warning(\"Không tạo được giáo án cuối cùng. Có thể quy trình đã dừng lại do lỗi không thể khắc phục.\")\n",
    "\n",
    "# Yêu cầu cũ, nhưng kỳ vọng vào kết quả mới, tốt hơn\n",
    "request_v3_test = \"Soạn giúp tôi giáo án bài 'Đường tròn ngoại tiếp và đường tròn nội tiếp' cho học sinh lớp 9. Mục tiêu là các em có thể vận dụng được góc nội tiếp và cung bị chắn để giải các bài toán trong phần luyện tập. Buổi học sẽ diễn ra trong 2 tiết, tổng cộng 90 phút.\"\n",
    "\n",
    "# Bật log chi tiết để theo dõi quá trình\n",
    "VERBOSE_MODE = True \n",
    "\n",
    "# Chạy thử\n",
    "await run_graph_v3(request_v3_test)"
   ]
  },
  {
   "cell_type": "code",
   "execution_count": null,
   "id": "95d51474",
   "metadata": {},
   "outputs": [],
   "source": []
  },
  {
   "cell_type": "code",
   "execution_count": null,
   "id": "43d2f2ed",
   "metadata": {},
   "outputs": [],
   "source": []
  },
  {
   "cell_type": "code",
   "execution_count": null,
   "id": "c9819a55",
   "metadata": {},
   "outputs": [],
   "source": []
  }
 ],
 "metadata": {
  "kernelspec": {
   "display_name": "plan_venv",
   "language": "python",
   "name": "python3"
  },
  "language_info": {
   "codemirror_mode": {
    "name": "ipython",
    "version": 3
   },
   "file_extension": ".py",
   "mimetype": "text/x-python",
   "name": "python",
   "nbconvert_exporter": "python",
   "pygments_lexer": "ipython3",
   "version": "3.11.8"
  }
 },
 "nbformat": 4,
 "nbformat_minor": 5
}
