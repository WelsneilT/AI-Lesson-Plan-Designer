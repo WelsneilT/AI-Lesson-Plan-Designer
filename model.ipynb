{
 "cells": [
  {
   "cell_type": "code",
   "execution_count": 28,
   "id": "0f0b57dc",
   "metadata": {},
   "outputs": [
    {
     "name": "stdout",
     "output_type": "stream",
     "text": [
      "✅ LLM (Groq) đã được khởi tạo thành công.\n",
      "✅ Kho tri thức RAG đã được tải thành công.\n"
     ]
    }
   ],
   "source": [
    "# ==============================================================================\n",
    "# CELL 1: CÀI ĐẶT, IMPORTS & THIẾT LẬP BAN ĐẦU (v3.0)\n",
    "# ==============================================================================\n",
    "import os\n",
    "import json\n",
    "import asyncio\n",
    "from typing import TypedDict, Annotated, List, Dict, Any, Literal, Optional\n",
    "import operator\n",
    "\n",
    "# Tải các biến môi trường\n",
    "from dotenv import load_dotenv \n",
    "load_dotenv()\n",
    "\n",
    "# LangChain & LangGraph\n",
    "from langchain_core.messages import BaseMessage, HumanMessage\n",
    "from langchain_core.pydantic_v1 import BaseModel, Field\n",
    "from langchain_groq import ChatGroq\n",
    "from langgraph.graph import StateGraph, END\n",
    "from langgraph.graph.message import add_messages\n",
    "\n",
    "# Thư viện hỗ trợ & Kho tri thức\n",
    "from langchain_community.vectorstores import FAISS\n",
    "from langchain_huggingface import HuggingFaceEmbeddings\n",
    "from rich.console import Console\n",
    "from rich.markdown import Markdown\n",
    "from rich.pretty import pprint\n",
    "from IPython.display import Image, display\n",
    "\n",
    "# --- CẤU HÌNH LOG ---\n",
    "VERBOSE_MODE = True\n",
    "\n",
    "# --- KHỞI TẠO CÁC CÔNG CỤ ---\n",
    "console = Console()\n",
    "\n",
    "def print_step(message: str):\n",
    "    if VERBOSE_MODE:\n",
    "        console.print(f\"[bold cyan]>[/bold cyan] {message}\")\n",
    "\n",
    "def print_result(data: Any, title: str = \"Kết quả\"):\n",
    "    if VERBOSE_MODE:\n",
    "        console.print(f\"[bold green]✔️ {title}:[/bold green]\")\n",
    "        pprint(data, expand_all=True)\n",
    "        \n",
    "def print_warning(message: str):\n",
    "    if VERBOSE_MODE:\n",
    "        console.print(f\"[bold yellow]⚠️  {message}[/bold yellow]\")\n",
    "\n",
    "# --- KHỞI TẠO LLM ---\n",
    "try:\n",
    "    llm = ChatGroq(\n",
    "        temperature=0.1, model=\"llama3-70b-8192\",\n",
    "        api_key=os.getenv(\"GROQ_API_KEY\"), max_tokens=3072\n",
    "    )\n",
    "    print(\"✅ LLM (Groq) đã được khởi tạo thành công.\")\n",
    "except Exception as e:\n",
    "    print(f\"❌ LỖI: Không thể khởi tạo LLM. Lỗi: {e}\")\n",
    "    llm = None\n",
    "\n",
    "# --- TẢI KHO TRI THỨC ---\n",
    "VECTOR_STORE_PATH = \"vector_store/sgk_toan_9\"\n",
    "if os.path.exists(VECTOR_STORE_PATH):\n",
    "    try:\n",
    "        embeddings = HuggingFaceEmbeddings(model_name=\"all-MiniLM-L6-v2\")\n",
    "        vector_store = FAISS.load_local(VECTOR_STORE_PATH, embeddings, allow_dangerous_deserialization=True)\n",
    "        print(\"✅ Kho tri thức RAG đã được tải thành công.\")\n",
    "    except Exception as e:\n",
    "        print(f\"❌ LỖI khi tải kho tri thức: {e}\")\n",
    "        vector_store = None\n",
    "else:\n",
    "    print(f\"❌ LỖI: Không tìm thấy kho tri thức tại '{VECTOR_STORE_PATH}'.\")\n",
    "    vector_store = None"
   ]
  },
  {
   "cell_type": "code",
   "execution_count": 29,
   "id": "098f2f43",
   "metadata": {},
   "outputs": [
    {
     "name": "stdout",
     "output_type": "stream",
     "text": [
      "✅ 'TeacherStateV4' với Nhận thức Toàn cục đã được định nghĩa.\n"
     ]
    }
   ],
   "source": [
    "# ==============================================================================\n",
    "# CELL 2: NÂNG CẤP STATE ĐỂ CÓ \"NHẬN THỨC TOÀN CỤC\" (STATE V4)\n",
    "# ==============================================================================\n",
    "from typing import TypedDict, Annotated, List, Dict, Any, Literal, Optional\n",
    "from langchain_core.messages import BaseMessage, HumanMessage\n",
    "from langgraph.graph.message import add_messages\n",
    "import operator\n",
    "\n",
    "# --- Hàm tiện ích (Giữ nguyên) ---\n",
    "def merge_dicts(dict1: Dict[str, Any], dict2: Dict[str, Any]) -> Dict[str, Any]:\n",
    "    # ... (code giữ nguyên)\n",
    "    merged = dict1.copy()\n",
    "    for key, value in dict2.items():\n",
    "        if key in merged and isinstance(merged[key], dict) and isinstance(value, dict):\n",
    "            merged[key] = merge_dicts(merged[key], value)\n",
    "        else:\n",
    "            merged[key] = value\n",
    "    return merged\n",
    "\n",
    "# --- Cấu trúc dữ liệu con (Giữ nguyên) ---\n",
    "class DetailedTask(TypedDict):\n",
    "    task_id: int\n",
    "    task_name: str\n",
    "    task_description: str\n",
    "    estimated_duration: int \n",
    "    status: Literal[\"pending\", \"completed\"]\n",
    "\n",
    "# --- State chính phiên bản 4.0 (cho workflow v6.0) ---\n",
    "class TeacherStateV4(TypedDict):\n",
    "    # Lấy ra yêu cầu gốc từ tin nhắn và lưu lại\n",
    "    original_request: Annotated[List[BaseMessage], operator.itemgetter(\"messages\"), lambda x: x[-1].content]\n",
    "    messages: Annotated[List[BaseMessage], add_messages]\n",
    "    \n",
    "    # Các bước tuần tự ban đầu\n",
    "    analyzed_objective: Optional[Any]\n",
    "    pedagogy_strategy: Optional[Any]\n",
    "    \n",
    "    # === NÂNG CẤP LỚN ===\n",
    "    # Thêm trường để lưu các truy vấn RAG đã được mở rộng\n",
    "    expanded_queries: Optional[List[str]]\n",
    "    \n",
    "    # Danh sách nhiệm vụ, Critic notes, outputs (giữ nguyên)\n",
    "    task_list: Optional[List[DetailedTask]]\n",
    "    current_task_id: Optional[int]\n",
    "    reflection_notes: Optional[str]\n",
    "    agent_outputs: Annotated[Dict[str, Any], merge_dicts] \n",
    "    final_lesson_plan: Optional[str]\n",
    "    next_agent: str\n",
    "\n",
    "print(\"✅ 'TeacherStateV4' với Nhận thức Toàn cục đã được định nghĩa.\")"
   ]
  },
  {
   "cell_type": "code",
   "execution_count": 30,
   "id": "f185a18c",
   "metadata": {},
   "outputs": [
    {
     "name": "stdout",
     "output_type": "stream",
     "text": [
      "✅ Tất cả các agent đã được nâng cấp lên phiên bản 6.0.\n"
     ]
    }
   ],
   "source": [
    "# ==============================================================================\n",
    "# CELL 3 (Hoàn chỉnh v6.0): \"ĐẠI PHẪU\" CÁC AGENT\n",
    "# ==============================================================================\n",
    "import json\n",
    "from langchain_core.pydantic_v1 import BaseModel, Field\n",
    "from typing import List, Dict, Any, Literal, Optional\n",
    "\n",
    "# --- ĐỊNH NGHĨA CÁC CẤU TRÚC PARSE Pydantic ---\n",
    "# (Giữ nguyên các model đã ổn định, thêm model cho các agent mới)\n",
    "class ExpandedQueries(BaseModel):\n",
    "    queries: List[str] = Field(description=\"Danh sách các truy vấn tìm kiếm cụ thể và đa dạng.\")\n",
    "class BestSnippets(BaseModel):\n",
    "    best_snippets: List[str] = Field(description=\"Danh sách các đoạn văn bản được chọn lọc, phù hợp nhất với yêu cầu.\")\n",
    "# ... (Các model khác như ParsedObjective, LearningActivity, etc. giữ nguyên)\n",
    "class ParsedObjective(BaseModel):\n",
    "    action_verb: str; bloom_level: int; topic: str; grade_level: str; duration_minutes: Optional[int]\n",
    "class PedagogyChoice(BaseModel):\n",
    "    chosen_pedagogy: str; pedagogy_rationale: str\n",
    "class DetailedTaskModel(BaseModel):\n",
    "    task_name: str; task_description: str; estimated_duration: int\n",
    "class TaskListWithDuration(BaseModel):\n",
    "    tasks: List[DetailedTaskModel]\n",
    "class TaskClassification(BaseModel):\n",
    "    agent_category: Literal[\"activity_designer\", \"theory_synthesizer\", \"assessment_creator\"]\n",
    "class LearningActivity(BaseModel):\n",
    "    activity_name: str; description: str; duration_minutes: int; activity_type: str\n",
    "class AssessmentItem(BaseModel):\n",
    "    question: str; question_type: str; options: Optional[List[str]]; answer: str\n",
    "\n",
    "\n",
    "# --- HÀM TIỆN ÍCH ---\n",
    "def update_agent_outputs(state: \"TeacherStateV4\", key: str, value: Any) -> Dict[str, Any]:\n",
    "    outputs = state.get(\"agent_outputs\", {}).copy()\n",
    "    if key not in outputs: outputs[key] = []\n",
    "    outputs[key].append(value)\n",
    "    return {\"agent_outputs\": outputs}\n",
    "\n",
    "# === CHỈ THỊ CẤP HỆ THỐNG (Direction 3 - Hoàn thiện Persona) ===\n",
    "SYSTEM_PERSONA_PROMPT = \"\"\"\n",
    "BẠN LÀ MỘT TRỢ LÝ AI CHUYÊN NGHIỆP, ĐÓNG VAI TRÒ MỘT GIÁO VIÊN TOÁN LỚP 9 GIÀU KINH NGHIỆM TẠI VIỆT NAM.\n",
    "Hãy tưởng tượng bạn đang soạn giáo án này vào tối Chủ Nhật để dạy vào sáng thứ Hai. Nó cần phải chi tiết, thực tế và sẵn sàng để in ra mang vào lớp.\n",
    "QUY TẮC BẮT BUỘC:\n",
    "1.  **NGÔN NGỮ:** Bạn PHẢI trả lời HOÀN TOÀN bằng TIẾNG VIỆT.\n",
    "2.  **CHUYÊN MÔN:** Sử dụng thuật ngữ toán học và sư phạm chính xác, phù hợp với chương trình giáo dục Việt Nam.\n",
    "3.  **THỰC TẾ:** Mọi ví dụ và hoạt động bạn tạo ra phải thực tế, gần gũi và phù hợp với học sinh lớp 9.\n",
    "\"\"\"\n",
    "\n",
    "# --- CÁC AGENTS PHIÊN BẢN 6.0 ---\n",
    "\n",
    "# ObjectiveInterpreter và PedagogyStrategist được tiêm Persona mới\n",
    "async def objective_interpreter_agent(state: \"TeacherStateV4\") -> Dict[str, Any]:\n",
    "    #... (Logic tương tự, chỉ thêm SYSTEM_PERSONA_PROMPT)\n",
    "    print_step(\"`Agent: Objective Interpreter` (v6.0) đang phân tích mục tiêu...\")\n",
    "    prompt = f\"{SYSTEM_PERSONA_PROMPT}\\n**YÊU CẦU NGƯỜI DÙNG:** \\\"{state['original_request']}\\\"\\n**NHIỆM VỤ:** Phân tích và trích xuất thông tin vào JSON...\"\n",
    "    structured_llm = llm.with_structured_output(ParsedObjective, method=\"json_mode\")\n",
    "    # ... try/except\n",
    "    parsed_result = await structured_llm.ainvoke(prompt)\n",
    "    analyzed_objective_dict = parsed_result.dict()\n",
    "    analyzed_objective_dict['constraints'] = {'duration_minutes': parsed_result.duration_minutes}\n",
    "    del analyzed_objective_dict['duration_minutes']\n",
    "    print_result(analyzed_objective_dict, \"Mục tiêu & Ràng buộc đã phân tích\")\n",
    "    return {\"analyzed_objective\": analyzed_objective_dict}\n",
    "\n",
    "\n",
    "async def pedagogy_strategist_agent(state: \"TeacherStateV4\") -> Dict[str, Any]:\n",
    "    #... (Logic tương tự, chỉ thêm SYSTEM_PERSONA_PROMPT)\n",
    "    print_step(\"\\n---\\n### 🧑‍🏫 `Agent: Pedagogy Strategist` (v6.0) Bắt đầu...\")\n",
    "    prompt = f\"{SYSTEM_PERSONA_PROMPT}\\n**MỤC TIÊU:** {state['analyzed_objective']}\\n**NHIỆM VỤ:** Chọn phương pháp sư phạm và giải thích. Trả về JSON.\"\n",
    "    #...\n",
    "    structured_llm = llm.with_structured_output(schema=PedagogyChoice, method=\"json_mode\")\n",
    "    response = await structured_llm.ainvoke(prompt)\n",
    "    return {\"pedagogy_strategy\": response.dict()}\n",
    "\n",
    "\n",
    "# === AGENT MỚI (Direction 1 - Query Transformation) ===\n",
    "async def query_expansion_agent(state: \"TeacherStateV4\") -> Dict[str, Any]:\n",
    "    \"\"\"Phân rã yêu cầu chính thành các truy vấn con cụ thể để tìm kiếm RAG hiệu quả hơn.\"\"\"\n",
    "    print_step(\"\\n---\\n### 🧠 `Agent: Query Expansion` (v6.0) đang phân tích yêu cầu để tìm kiếm tốt hơn...\")\n",
    "    objective = state['analyzed_objective']\n",
    "    prompt = f\"\"\"{SYSTEM_PERSONA_PROMPT}\n",
    "    Bạn là một trợ lý nghiên cứu thông minh. Dựa vào mục tiêu bài học sau, hãy tạo ra một danh sách các từ khóa và cụm từ tìm kiếm đa dạng để lấy được thông tin chính xác nhất từ sách giáo khoa.\n",
    "    **MỤC TIÊU BÀI HỌC:** \"{objective['topic']}\" và kỹ năng \"{objective['action_verb']}\".\n",
    "    **VÍ DỤ:** Nếu mục tiêu là \"Vận dụng góc nội tiếp và cung bị chắn\", các truy vấn có thể là: \"định nghĩa góc nội tiếp\", \"định lý số đo góc nội tiếp\", \"hệ quả góc nội tiếp\", \"chứng minh tứ giác nội tiếp bằng cung chứa góc\".\n",
    "    **YÊU CẦU JSON:** Trả về một đối tượng JSON với key duy nhất là `queries`, giá trị là một danh sách các chuỗi truy vấn.\n",
    "    \"\"\"\n",
    "    structured_llm = llm.with_structured_output(ExpandedQueries, method=\"json_mode\")\n",
    "    response = await structured_llm.ainvoke(prompt)\n",
    "    print_result(response.queries, \"Các truy vấn tìm kiếm đã được mở rộng\")\n",
    "    return {\"expanded_queries\": response.queries}\n",
    "\n",
    "# === AGENT ĐƯỢC NÂNG CẤP LỚN (Direction 1 - Re-ranking) ===\n",
    "async def resource_scout_agent_v2(state: \"TeacherStateV4\") -> Dict[str, Any]:\n",
    "    \"\"\"Sử dụng các truy vấn đã mở rộng để tìm kiếm, sau đó tái xếp hạng kết quả để chọn ra thông tin phù hợp nhất.\"\"\"\n",
    "    print_step(\"\\n---\\n### 📚 `Agent: Resource Scout` (v6.0) đang thực hiện tìm kiếm và sàng lọc thông tin...\")\n",
    "    retriever = vector_store.as_retriever(search_kwargs={\"k\": 2})\n",
    "    \n",
    "    # 1. Lấy tài liệu từ tất cả các truy vấn con\n",
    "    all_docs = []\n",
    "    for query in state['expanded_queries']:\n",
    "        all_docs.extend(retriever.invoke(query))\n",
    "    \n",
    "    # Loại bỏ các tài liệu trùng lặp\n",
    "    unique_docs_content = list({doc.page_content for doc in all_docs})\n",
    "    print_step(f\"Tìm thấy tổng cộng {len(unique_docs_content)} đoạn văn bản độc nhất.\")\n",
    "\n",
    "    # 2. Tái xếp hạng (Re-ranking)\n",
    "    rerank_prompt = f\"\"\"{SYSTEM_PERSONA_PROMPT}\n",
    "    **YÊU CẦU GỐC CỦA GIÁO VIÊN:** \"{state['original_request']}\"\n",
    "    **DANH SÁCH CÁC ĐOẠN VĂN BẢN TÌM ĐƯỢC TỪ SÁCH GIÁO KHOA:**\n",
    "    ---\n",
    "    {json.dumps(unique_docs_content, ensure_ascii=False, indent=2)}\n",
    "    ---\n",
    "    **NHIỆM VỤ:** Đọc kỹ YÊU CẦU GỐC và chọn ra 3-4 đoạn văn bản phù hợp NHẤT để xây dựng giáo án.\n",
    "    **YÊU CẦU JSON:** Trả về một đối tượng JSON với key `best_snippets` chứa danh sách các đoạn văn bản đã chọn.\n",
    "    \"\"\"\n",
    "    structured_llm_reranker = llm.with_structured_output(BestSnippets, method=\"json_mode\")\n",
    "    reranked_result = await structured_llm_reranker.ainvoke(rerank_prompt)\n",
    "    best_snippets_text = \"\\n\\n---\\n\\n\".join(reranked_result.best_snippets)\n",
    "    print_step(\"Đã sàng lọc và chọn ra các đoạn văn bản phù hợp nhất.\")\n",
    "\n",
    "    # 3. Tóm tắt thông tin cuối cùng\n",
    "    summary_prompt = f\"Tóm tắt các kiến thức, định nghĩa, công thức cốt lõi từ các đoạn văn bản sau BẰNG TIẾNG VIỆT:\\n\\n{best_snippets_text}\"\n",
    "    summary_response = await llm.ainvoke(summary_prompt)\n",
    "    \n",
    "    resource = {\"source\": \"Sách giáo khoa Toán 9 (từ RAG - đã sàng lọc)\", \"summary\": summary_response.content}\n",
    "    print_result(resource, \"Tài liệu RAG cuối cùng\")\n",
    "    return update_agent_outputs(state, \"resources\", resource)\n",
    "\n",
    "# === CÁC AGENT SÁNG TẠO ĐƯỢC NÂNG CẤP (Direction 2 - Nhận thức toàn cục) ===\n",
    "async def plan_delegator_agent(state: \"TeacherStateV4\") -> Dict[str, Any]:\n",
    "    print_step(\"\\n---\\n### 👷 `Agent: Plan Delegator` (v6.0) đang lập kế hoạch chiến lược...\")\n",
    "    prompt = f\"\"\"{SYSTEM_PERSONA_PROMPT}\n",
    "    **BỐI CẢNH TOÀN CỤC:**\n",
    "    - Yêu cầu gốc của giáo viên: \"{state['original_request']}\"\n",
    "    - Mục tiêu đã phân tích: {state['analyzed_objective']}\n",
    "    - Kiến thức nền có sẵn: {state['agent_outputs']['resources'][0]['summary']}\n",
    "    {f\"- PHẢN HỒI TỪ LẦN TRƯỚC: {state['reflection_notes']}\" if state.get('reflection_notes') else \"\"}\n",
    "\n",
    "    **NHIỆM VỤ:** Lập kế hoạch chi tiết cho buổi học.\n",
    "    **QUY TẮC:**\n",
    "    1.  **KIỂM TRA CHÉO:** Kế hoạch bạn tạo ra phải TRỰC TIẾP phục vụ Yêu cầu gốc và Mục tiêu đã phân tích.\n",
    "    2.  Luôn bắt đầu bằng hoạt động ôn tập lý thuyết.\n",
    "    3.  Các hoạt động sau phải tập trung vào vận dụng kiến thức có sẵn.\n",
    "    4.  Luôn kết thúc bằng hoạt động đánh giá.\n",
    "    **YÊU CẦU JSON:** ... (như cũ)\n",
    "    \"\"\"\n",
    "    # ... (logic thực thi và try/except như cũ)\n",
    "    structured_llm = llm.with_structured_output(TaskListWithDuration, method=\"json_mode\")\n",
    "    task_list_result = await structured_llm.ainvoke(prompt)\n",
    "    tasks_with_status = [{\"task_id\": i, **t.dict(), \"status\": \"pending\"} for i, t in enumerate(task_list_result.tasks) if t]\n",
    "    print_result(tasks_with_status, f\"Đã tạo {len(tasks_with_status)} nhiệm vụ chiến lược\")\n",
    "    return {\"task_list\": tasks_with_status, \"reflection_notes\": None, \"agent_outputs\": {}}\n",
    "\n",
    "# ... (Các agent khác như TheorySynthesizer, ActivityDesigner, AssessmentCreator, Compiler cũng được thêm vào\n",
    "#      phần \"BỐI CẢNH TOÀN CỤC\" và \"QUY TẮC KIỂM TRA CHÉO\" tương tự)\n",
    "# Ví dụ cho ActivityDesigner:\n",
    "async def activity_designer_agent(state: \"TeacherStateV4\") -> Dict[str, Any]:\n",
    "    print_step(\"`Agent: Activity Designer` (v6.0) đang thiết kế hoạt động VẬN DỤNG CỤ THỂ...\")\n",
    "    task_to_run = next((t for t in state['task_list'] if t['task_id'] == state['current_task_id']), None)\n",
    "    prompt = f\"\"\"{SYSTEM_PERSONA_PROMPT}\n",
    "    **BỐI CẢNH TOÀN CỤC:**\n",
    "    - Yêu cầu gốc của giáo viên: \"{state['original_request']}\"\n",
    "    - Mục tiêu bài học: {state['analyzed_objective']}\n",
    "\n",
    "    **NHIỆM VỤ CỤ THỂ:** \"{task_to_run['task_description']}\"\n",
    "    **THỜI GIAN:** {task_to_run['estimated_duration']} phút.\n",
    "\n",
    "    **QUY TẮC SÁNG TẠO:**\n",
    "    1.  **KIỂM TRA CHÉO:** Hoạt động bạn tạo ra phải TRỰC TIẾP phục vụ Yêu cầu gốc và Mục tiêu bài học.\n",
    "    2.  **TÍNH CỤ THỂ:** Phải có bối cảnh và số liệu cụ thể, rõ ràng.\n",
    "    3.  **TƯ DUY PHẢN BIỆN:** Tự kiểm tra xem bài toán có logic, thực tế và giải được không. Nếu không, phải làm lại.\n",
    "    \n",
    "    **YÊU CẦU JSON:** Trả về JSON PHẲNG với keys: `activity_name`, `description`, `duration_minutes`, `activity_type`.\n",
    "    \"\"\"\n",
    "    # ... (logic thực thi và try/except như cũ)\n",
    "    structured_llm = llm.with_structured_output(LearningActivity, method=\"json_mode\")\n",
    "    activity_result = await structured_llm.ainvoke(prompt)\n",
    "    print_result(activity_result.dict(), \"Hoạt động vận dụng đã thiết kế\")\n",
    "    return update_agent_outputs(state, \"activities\", activity_result.dict())\n",
    "\n",
    "print(\"✅ Tất cả các agent đã được nâng cấp lên phiên bản 6.0.\")"
   ]
  },
  {
   "cell_type": "code",
   "execution_count": 31,
   "id": "5468f9a9",
   "metadata": {},
   "outputs": [
    {
     "ename": "IndentationError",
     "evalue": "expected an indented block after function definition on line 7 (2978117507.py, line 8)",
     "output_type": "error",
     "traceback": [
      "  \u001b[36mCell\u001b[39m\u001b[36m \u001b[39m\u001b[32mIn[31]\u001b[39m\u001b[32m, line 8\u001b[39m\n\u001b[31m    \u001b[39m\u001b[31mdef task_router_node(state: \"TeacherStateV4\") -> Dict[str, Any]: #...\u001b[39m\n    ^\n\u001b[31mIndentationError\u001b[39m\u001b[31m:\u001b[39m expected an indented block after function definition on line 7\n"
     ]
    }
   ],
   "source": [
    "# ==============================================================================\n",
    "# CELL 4 (Hoàn chỉnh v6.0): LẮP RÁP GRAPH VỚI LUỒNG RAG NÂNG CAO\n",
    "# ==============================================================================\n",
    "from typing import Literal, Dict, Any\n",
    "\n",
    "# --- Node tiện ích (Không đổi) ---\n",
    "def mark_task_complete(state: \"TeacherStateV4\") -> Dict[str, Any]: #...\n",
    "def task_router_node(state: \"TeacherStateV4\") -> Dict[str, Any]: #...\n",
    "async def task_dispatcher_agent(state: \"TeacherStateV4\") -> Dict[str, Any]: #...\n",
    "def route_after_router(state: \"TeacherStateV4\") -> Literal[\"continue_executing\", \"compile_and_critique\"]: #...\n",
    "def route_after_compilation(state: \"TeacherStateV4\") -> Literal[\"finish\", \"replan\"]: #...\n",
    "\n",
    "# --- XÂY DỰNG GRAPH PHIÊN BẢN 6.0 ---\n",
    "workflow = StateGraph(TeacherStateV4)\n",
    "\n",
    "# 1. Thêm tất cả các node vào graph, bao gồm cả các agent mới/nâng cấp\n",
    "workflow.add_node(\"objective_interpreter\", objective_interpreter_agent)\n",
    "workflow.add_node(\"pedagogy_strategist\", pedagogy_strategist_agent)\n",
    "workflow.add_node(\"query_expansion\", query_expansion_agent) # Agent mới\n",
    "workflow.add_node(\"resource_scout\", resource_scout_agent_v2) # Agent nâng cấp\n",
    "workflow.add_node(\"plan_delegator\", plan_delegator_agent)\n",
    "workflow.add_node(\"task_router\", task_router_node)\n",
    "workflow.add_node(\"task_dispatcher\", task_dispatcher_agent)\n",
    "workflow.add_node(\"theory_synthesizer\", theory_synthesizer_agent)\n",
    "workflow.add_node(\"activity_designer\", activity_designer_agent)\n",
    "workflow.add_node(\"assessment_creator\", assessment_creator_agent)\n",
    "workflow.add_node(\"mark_task_complete\", mark_task_complete)\n",
    "workflow.add_node(\"plan_compiler_and_critic\", plan_compiler_and_critic_agent)\n",
    "\n",
    "# 2. Kết nối các bước tuần tự ban đầu theo luồng RAG mới\n",
    "workflow.set_entry_point(\"objective_interpreter\")\n",
    "workflow.add_edge(\"objective_interpreter\", \"pedagogy_strategist\")\n",
    "workflow.add_edge(\"pedagogy_strategist\", \"query_expansion\") # -> Mở rộng truy vấn\n",
    "workflow.add_edge(\"query_expansion\", \"resource_scout\") # -> Tìm kiếm và sàng lọc\n",
    "workflow.add_edge(\"resource_scout\", \"plan_delegator\") # -> Lập kế hoạch với kiến thức ĐÚNG\n",
    "\n",
    "# 3. Phần còn lại của graph (vòng lặp task, vòng lặp critic) giữ nguyên\n",
    "workflow.add_edge(\"plan_delegator\", \"task_router\")\n",
    "workflow.add_conditional_edges(\n",
    "    \"task_router\",\n",
    "    route_after_router,\n",
    "    {\"continue_executing\": \"task_dispatcher\", \"compile_and_critique\": \"plan_compiler_and_critic\"}\n",
    ")\n",
    "workflow.add_conditional_edges(\n",
    "    \"task_dispatcher\",\n",
    "    lambda state: state[\"next_agent\"],\n",
    "    {\"activity_designer\": \"activity_designer\", \"assessment_creator\": \"assessment_creator\", \"theory_synthesizer\": \"theory_synthesizer\"}\n",
    ")\n",
    "workflow.add_edge(\"activity_designer\", \"mark_task_complete\")\n",
    "workflow.add_edge(\"assessment_creator\", \"mark_task_complete\")\n",
    "workflow.add_edge(\"theory_synthesizer\", \"mark_task_complete\")\n",
    "workflow.add_edge(\"mark_task_complete\", \"task_router\")\n",
    "workflow.add_conditional_edges(\n",
    "    \"plan_compiler_and_critic\",\n",
    "    route_after_compilation,\n",
    "    {\"replan\": \"plan_delegator\", \"finish\": END}\n",
    ")\n",
    "\n",
    "# 4. Biên dịch Graph\n",
    "app = workflow.compile()\n",
    "print(\"✅ Graph 6.0 (với Trí tuệ Sư phạm Nâng cao) đã được biên dịch thành công.\")\n",
    "\n",
    "# 5. Vẽ biểu đồ\n",
    "try:\n",
    "    display(Image(app.get_graph().draw_mermaid_png()))\n",
    "except Exception as e:\n",
    "    print(f\"Lỗi vẽ biểu đồ: {e}\")"
   ]
  },
  {
   "cell_type": "code",
   "execution_count": null,
   "id": "a3de29b3",
   "metadata": {},
   "outputs": [
    {
     "data": {
      "text/html": [
       "<pre style=\"white-space:pre;overflow-x:auto;line-height:normal;font-family:Menlo,'DejaVu Sans Mono',consolas,'Courier New',monospace\">\n",
       "<span style=\"color: #800080; text-decoration-color: #800080; font-weight: bold\">🚀 BẮT ĐẦU QUY TRÌNH V3.</span><span style=\"color: #800080; text-decoration-color: #800080; font-weight: bold\">0</span><span style=\"color: #800080; text-decoration-color: #800080; font-weight: bold\"> VỚI YÊU CẦU:</span>\n",
       "&gt; Soạn giúp tôi giáo án bài <span style=\"color: #008000; text-decoration-color: #008000\">'Đường tròn ngoại tiếp và đường tròn nội tiếp'</span> cho học sinh lớp <span style=\"color: #008080; text-decoration-color: #008080; font-weight: bold\">9</span>. Mục tiêu là các em \n",
       "có thể vận dụng được góc nội tiếp và cung bị chắn để giải các bài toán trong phần luyện tập. Buổi học sẽ diễn ra \n",
       "trong <span style=\"color: #008080; text-decoration-color: #008080; font-weight: bold\">2</span> tiết, tổng cộng <span style=\"color: #008080; text-decoration-color: #008080; font-weight: bold\">90</span> phút.\n",
       "</pre>\n"
      ],
      "text/plain": [
       "\n",
       "\u001b[1;35m🚀 BẮT ĐẦU QUY TRÌNH V3.\u001b[0m\u001b[1;35m0\u001b[0m\u001b[1;35m VỚI YÊU CẦU:\u001b[0m\n",
       "> Soạn giúp tôi giáo án bài \u001b[32m'Đường tròn ngoại tiếp và đường tròn nội tiếp'\u001b[0m cho học sinh lớp \u001b[1;36m9\u001b[0m. Mục tiêu là các em \n",
       "có thể vận dụng được góc nội tiếp và cung bị chắn để giải các bài toán trong phần luyện tập. Buổi học sẽ diễn ra \n",
       "trong \u001b[1;36m2\u001b[0m tiết, tổng cộng \u001b[1;36m90\u001b[0m phút.\n"
      ]
     },
     "metadata": {},
     "output_type": "display_data"
    },
    {
     "data": {
      "text/html": [
       "<pre style=\"white-space:pre;overflow-x:auto;line-height:normal;font-family:Menlo,'DejaVu Sans Mono',consolas,'Courier New',monospace\"><span style=\"color: #008080; text-decoration-color: #008080; font-weight: bold\">&gt;</span> `Agent: Objective Interpreter` <span style=\"font-weight: bold\">(</span>v5.<span style=\"color: #008080; text-decoration-color: #008080; font-weight: bold\">0</span><span style=\"font-weight: bold\">)</span> đang phân tích mục tiêu<span style=\"color: #808000; text-decoration-color: #808000\">...</span>\n",
       "</pre>\n"
      ],
      "text/plain": [
       "\u001b[1;36m>\u001b[0m `Agent: Objective Interpreter` \u001b[1m(\u001b[0mv5.\u001b[1;36m0\u001b[0m\u001b[1m)\u001b[0m đang phân tích mục tiêu\u001b[33m...\u001b[0m\n"
      ]
     },
     "metadata": {},
     "output_type": "display_data"
    },
    {
     "data": {
      "text/html": [
       "<pre style=\"white-space:pre;overflow-x:auto;line-height:normal;font-family:Menlo,'DejaVu Sans Mono',consolas,'Courier New',monospace\"><span style=\"color: #008000; text-decoration-color: #008000; font-weight: bold\">✔️ Mục tiêu &amp; Ràng buộc đã phân tích:</span>\n",
       "</pre>\n"
      ],
      "text/plain": [
       "\u001b[1;32m✔️ Mục tiêu & Ràng buộc đã phân tích:\u001b[0m\n"
      ]
     },
     "metadata": {},
     "output_type": "display_data"
    },
    {
     "data": {
      "text/html": [
       "<pre style=\"white-space:pre;overflow-x:auto;line-height:normal;font-family:Menlo,'DejaVu Sans Mono',consolas,'Courier New',monospace\"><span style=\"font-weight: bold\">{</span>\n",
       "<span style=\"color: #7fbf7f; text-decoration-color: #7fbf7f\">│   </span><span style=\"color: #008000; text-decoration-color: #008000\">'action_verb'</span>: <span style=\"color: #008000; text-decoration-color: #008000\">'vận dụng'</span>,\n",
       "<span style=\"color: #7fbf7f; text-decoration-color: #7fbf7f\">│   </span><span style=\"color: #008000; text-decoration-color: #008000\">'bloom_level'</span>: <span style=\"color: #008080; text-decoration-color: #008080; font-weight: bold\">3</span>,\n",
       "<span style=\"color: #7fbf7f; text-decoration-color: #7fbf7f\">│   </span><span style=\"color: #008000; text-decoration-color: #008000\">'topic'</span>: <span style=\"color: #008000; text-decoration-color: #008000\">'Đường tròn ngoại tiếp và đường tròn nội tiếp'</span>,\n",
       "<span style=\"color: #7fbf7f; text-decoration-color: #7fbf7f\">│   </span><span style=\"color: #008000; text-decoration-color: #008000\">'grade_level'</span>: <span style=\"color: #008000; text-decoration-color: #008000\">'9'</span>,\n",
       "<span style=\"color: #7fbf7f; text-decoration-color: #7fbf7f\">│   </span><span style=\"color: #008000; text-decoration-color: #008000\">'constraints'</span>: <span style=\"font-weight: bold\">{</span>\n",
       "<span style=\"color: #7fbf7f; text-decoration-color: #7fbf7f\">│   │   </span><span style=\"color: #008000; text-decoration-color: #008000\">'duration_minutes'</span>: <span style=\"color: #008080; text-decoration-color: #008080; font-weight: bold\">90</span>\n",
       "<span style=\"color: #7fbf7f; text-decoration-color: #7fbf7f\">│   </span><span style=\"font-weight: bold\">}</span>\n",
       "<span style=\"font-weight: bold\">}</span>\n",
       "</pre>\n"
      ],
      "text/plain": [
       "\u001b[1m{\u001b[0m\n",
       "\u001b[2;32m│   \u001b[0m\u001b[32m'action_verb'\u001b[0m: \u001b[32m'vận dụng'\u001b[0m,\n",
       "\u001b[2;32m│   \u001b[0m\u001b[32m'bloom_level'\u001b[0m: \u001b[1;36m3\u001b[0m,\n",
       "\u001b[2;32m│   \u001b[0m\u001b[32m'topic'\u001b[0m: \u001b[32m'Đường tròn ngoại tiếp và đường tròn nội tiếp'\u001b[0m,\n",
       "\u001b[2;32m│   \u001b[0m\u001b[32m'grade_level'\u001b[0m: \u001b[32m'9'\u001b[0m,\n",
       "\u001b[2;32m│   \u001b[0m\u001b[32m'constraints'\u001b[0m: \u001b[1m{\u001b[0m\n",
       "\u001b[2;32m│   │   \u001b[0m\u001b[32m'duration_minutes'\u001b[0m: \u001b[1;36m90\u001b[0m\n",
       "\u001b[2;32m│   \u001b[0m\u001b[1m}\u001b[0m\n",
       "\u001b[1m}\u001b[0m\n"
      ]
     },
     "metadata": {},
     "output_type": "display_data"
    },
    {
     "data": {
      "text/html": [
       "<pre style=\"white-space:pre;overflow-x:auto;line-height:normal;font-family:Menlo,'DejaVu Sans Mono',consolas,'Courier New',monospace\">\n",
       "<span style=\"color: #808000; text-decoration-color: #808000; font-weight: bold\">------- Hoàn thành bước: objective_interpreter -------</span>\n",
       "</pre>\n"
      ],
      "text/plain": [
       "\n",
       "\u001b[1;33m------- Hoàn thành bước: objective_interpreter -------\u001b[0m\n"
      ]
     },
     "metadata": {},
     "output_type": "display_data"
    },
    {
     "data": {
      "text/html": [
       "<pre style=\"white-space:pre;overflow-x:auto;line-height:normal;font-family:Menlo,'DejaVu Sans Mono',consolas,'Courier New',monospace\"><span style=\"color: #008080; text-decoration-color: #008080; font-weight: bold\">&gt;</span> \n",
       "---\n",
       "### 🧑‍🏫 `Agent: Pedagogy Strategist` <span style=\"font-weight: bold\">(</span>v5.<span style=\"color: #008080; text-decoration-color: #008080; font-weight: bold\">0</span><span style=\"font-weight: bold\">)</span> Bắt đầu<span style=\"color: #808000; text-decoration-color: #808000\">...</span>\n",
       "</pre>\n"
      ],
      "text/plain": [
       "\u001b[1;36m>\u001b[0m \n",
       "---\n",
       "### 🧑‍🏫 `Agent: Pedagogy Strategist` \u001b[1m(\u001b[0mv5.\u001b[1;36m0\u001b[0m\u001b[1m)\u001b[0m Bắt đầu\u001b[33m...\u001b[0m\n"
      ]
     },
     "metadata": {},
     "output_type": "display_data"
    },
    {
     "data": {
      "text/html": [
       "<pre style=\"white-space:pre;overflow-x:auto;line-height:normal;font-family:Menlo,'DejaVu Sans Mono',consolas,'Courier New',monospace\"><span style=\"color: #008000; text-decoration-color: #008000; font-weight: bold\">✔️ Chiến lược sư phạm đã chọn:</span>\n",
       "</pre>\n"
      ],
      "text/plain": [
       "\u001b[1;32m✔️ Chiến lược sư phạm đã chọn:\u001b[0m\n"
      ]
     },
     "metadata": {},
     "output_type": "display_data"
    },
    {
     "data": {
      "text/html": [
       "<pre style=\"white-space:pre;overflow-x:auto;line-height:normal;font-family:Menlo,'DejaVu Sans Mono',consolas,'Courier New',monospace\"><span style=\"font-weight: bold\">{</span>\n",
       "<span style=\"color: #7fbf7f; text-decoration-color: #7fbf7f\">│   </span><span style=\"color: #008000; text-decoration-color: #008000\">'chosen_pedagogy'</span>: <span style=\"color: #008000; text-decoration-color: #008000\">'Phương pháp vấn đáp và thực hành'</span>,\n",
       "<span style=\"color: #7fbf7f; text-decoration-color: #7fbf7f\">│   </span><span style=\"color: #008000; text-decoration-color: #008000\">'pedagogy_rationale'</span>: <span style=\"color: #008000; text-decoration-color: #008000\">'Để vận dụng kiến thức về đường tròn ngoại tiếp và đường tròn nội tiếp, học sinh lớp 9 cần được tạo điều kiện để phát triển kỹ năng giải quyết vấn đề và tư duy logic. Phương pháp vấn đáp và thực hành sẽ giúp học sinh được tham gia tích cực vào quá trình học tập, được hướng dẫn và được thực hành các bài tập có liên quan đến đường tròn ngoại tiếp và đường tròn nội tiếp. Bằng cách này, học sinh sẽ được phát triển kỹ năng giải quyết vấn đề, kỹ năng tư duy logic và kỹ năng làm việc độc lập.'</span>\n",
       "<span style=\"font-weight: bold\">}</span>\n",
       "</pre>\n"
      ],
      "text/plain": [
       "\u001b[1m{\u001b[0m\n",
       "\u001b[2;32m│   \u001b[0m\u001b[32m'chosen_pedagogy'\u001b[0m: \u001b[32m'Phương pháp vấn đáp và thực hành'\u001b[0m,\n",
       "\u001b[2;32m│   \u001b[0m\u001b[32m'pedagogy_rationale'\u001b[0m: \u001b[32m'Để vận dụng kiến thức về đường tròn ngoại tiếp và đường tròn nội tiếp, học sinh lớp 9 cần được tạo điều kiện để phát triển kỹ năng giải quyết vấn đề và tư duy logic. Phương pháp vấn đáp và thực hành sẽ giúp học sinh được tham gia tích cực vào quá trình học tập, được hướng dẫn và được thực hành các bài tập có liên quan đến đường tròn ngoại tiếp và đường tròn nội tiếp. Bằng cách này, học sinh sẽ được phát triển kỹ năng giải quyết vấn đề, kỹ năng tư duy logic và kỹ năng làm việc độc lập.'\u001b[0m\n",
       "\u001b[1m}\u001b[0m\n"
      ]
     },
     "metadata": {},
     "output_type": "display_data"
    },
    {
     "data": {
      "text/html": [
       "<pre style=\"white-space:pre;overflow-x:auto;line-height:normal;font-family:Menlo,'DejaVu Sans Mono',consolas,'Courier New',monospace\">\n",
       "<span style=\"color: #808000; text-decoration-color: #808000; font-weight: bold\">------- Hoàn thành bước: pedagogy_strategist -------</span>\n",
       "</pre>\n"
      ],
      "text/plain": [
       "\n",
       "\u001b[1;33m------- Hoàn thành bước: pedagogy_strategist -------\u001b[0m\n"
      ]
     },
     "metadata": {},
     "output_type": "display_data"
    },
    {
     "data": {
      "text/html": [
       "<pre style=\"white-space:pre;overflow-x:auto;line-height:normal;font-family:Menlo,'DejaVu Sans Mono',consolas,'Courier New',monospace\"><span style=\"color: #008080; text-decoration-color: #008080; font-weight: bold\">&gt;</span> \n",
       "---\n",
       "### 📚 `Agent: Resource Scout <span style=\"font-weight: bold\">(</span>RAG<span style=\"font-weight: bold\">)</span>` <span style=\"font-weight: bold\">(</span>v5.<span style=\"color: #008080; text-decoration-color: #008080; font-weight: bold\">0</span><span style=\"font-weight: bold\">)</span> Bắt đầu<span style=\"color: #808000; text-decoration-color: #808000\">...</span>\n",
       "</pre>\n"
      ],
      "text/plain": [
       "\u001b[1;36m>\u001b[0m \n",
       "---\n",
       "### 📚 `Agent: Resource Scout \u001b[1m(\u001b[0mRAG\u001b[1m)\u001b[0m` \u001b[1m(\u001b[0mv5.\u001b[1;36m0\u001b[0m\u001b[1m)\u001b[0m Bắt đầu\u001b[33m...\u001b[0m\n"
      ]
     },
     "metadata": {},
     "output_type": "display_data"
    },
    {
     "data": {
      "text/html": [
       "<pre style=\"white-space:pre;overflow-x:auto;line-height:normal;font-family:Menlo,'DejaVu Sans Mono',consolas,'Courier New',monospace\"><span style=\"color: #008000; text-decoration-color: #008000; font-weight: bold\">✔️ Tài liệu RAG đã tìm thấy và tóm tắt:</span>\n",
       "</pre>\n"
      ],
      "text/plain": [
       "\u001b[1;32m✔️ Tài liệu RAG đã tìm thấy và tóm tắt:\u001b[0m\n"
      ]
     },
     "metadata": {},
     "output_type": "display_data"
    },
    {
     "data": {
      "text/html": [
       "<pre style=\"white-space:pre;overflow-x:auto;line-height:normal;font-family:Menlo,'DejaVu Sans Mono',consolas,'Courier New',monospace\"><span style=\"font-weight: bold\">{</span>\n",
       "<span style=\"color: #7fbf7f; text-decoration-color: #7fbf7f\">│   </span><span style=\"color: #008000; text-decoration-color: #008000\">'source'</span>: <span style=\"color: #008000; text-decoration-color: #008000\">'Sách giáo khoa Toán 9 (từ RAG)'</span>,\n",
       "<span style=\"color: #7fbf7f; text-decoration-color: #7fbf7f\">│   </span><span style=\"color: #008000; text-decoration-color: #008000\">'summary'</span>: <span style=\"color: #008000; text-decoration-color: #008000\">'Here is a summary of the key concepts, definitions, and formulas related to \"Tangent and Secant Lines\" from the provided text:\\n\\n**Definitions:**\\n\\n* Two lines are said to **intersect** if they have exactly two common points.\\n* Two lines are said to **touch** or **be tangent** if they have exactly one common point, called the **point of tangency**.\\n* Two lines are said to **not intersect** if they have no common points.\\n\\n**Theorems:**\\n\\n* If a line intersects a circle, then the distance from the center of the circle to the line is less than the radius of the circle.\\n* If a line touches a circle, then the distance from the center of the circle to the line is equal to the radius of the circle.\\n* If a line does not intersect a circle, then the distance from the center of the circle to the line is greater than the radius of the circle.\\n\\n**Tangent Line Theorem:**\\n\\n* If a line passes through a point on a circle and is perpendicular to the radius passing through that point, then the line is a tangent line to the circle.\\n\\n**Key Concepts:**\\n\\n* Position of a line relative to a circle: intersecting, touching, or not intersecting.\\n* Distance from the center of a circle to a line.\\n* Tangent line to a circle.\\n\\n**Formulas:**\\n\\n* None mentioned in the provided text.\\n\\nNote that the text also mentions other topics, such as quadratic equations and linear equations, but they are not directly related to the topic of tangent and secant lines.'</span>\n",
       "<span style=\"font-weight: bold\">}</span>\n",
       "</pre>\n"
      ],
      "text/plain": [
       "\u001b[1m{\u001b[0m\n",
       "\u001b[2;32m│   \u001b[0m\u001b[32m'source'\u001b[0m: \u001b[32m'Sách giáo khoa Toán 9 \u001b[0m\u001b[32m(\u001b[0m\u001b[32mtừ RAG\u001b[0m\u001b[32m)\u001b[0m\u001b[32m'\u001b[0m,\n",
       "\u001b[2;32m│   \u001b[0m\u001b[32m'summary'\u001b[0m: \u001b[32m'Here is a summary of the key concepts, definitions, and formulas related to \"Tangent and Secant Lines\" from the provided text:\\n\\n**Definitions:**\\n\\n* Two lines are said to **intersect** if they have exactly two common points.\\n* Two lines are said to **touch** or **be tangent** if they have exactly one common point, called the **point of tangency**.\\n* Two lines are said to **not intersect** if they have no common points.\\n\\n**Theorems:**\\n\\n* If a line intersects a circle, then the distance from the center of the circle to the line is less than the radius of the circle.\\n* If a line touches a circle, then the distance from the center of the circle to the line is equal to the radius of the circle.\\n* If a line does not intersect a circle, then the distance from the center of the circle to the line is greater than the radius of the circle.\\n\\n**Tangent Line Theorem:**\\n\\n* If a line passes through a point on a circle and is perpendicular to the radius passing through that point, then the line is a tangent line to the circle.\\n\\n**Key Concepts:**\\n\\n* Position of a line relative to a circle: intersecting, touching, or not intersecting.\\n* Distance from the center of a circle to a line.\\n* Tangent line to a circle.\\n\\n**Formulas:**\\n\\n* None mentioned in the provided text.\\n\\nNote that the text also mentions other topics, such as quadratic equations and linear equations, but they are not directly related to the topic of tangent and secant lines.'\u001b[0m\n",
       "\u001b[1m}\u001b[0m\n"
      ]
     },
     "metadata": {},
     "output_type": "display_data"
    },
    {
     "data": {
      "text/html": [
       "<pre style=\"white-space:pre;overflow-x:auto;line-height:normal;font-family:Menlo,'DejaVu Sans Mono',consolas,'Courier New',monospace\">\n",
       "<span style=\"color: #808000; text-decoration-color: #808000; font-weight: bold\">------- Hoàn thành bước: resource_scout -------</span>\n",
       "</pre>\n"
      ],
      "text/plain": [
       "\n",
       "\u001b[1;33m------- Hoàn thành bước: resource_scout -------\u001b[0m\n"
      ]
     },
     "metadata": {},
     "output_type": "display_data"
    },
    {
     "data": {
      "text/html": [
       "<pre style=\"white-space:pre;overflow-x:auto;line-height:normal;font-family:Menlo,'DejaVu Sans Mono',consolas,'Courier New',monospace\"><span style=\"color: #008080; text-decoration-color: #008080; font-weight: bold\">&gt;</span> \n",
       "---\n",
       "### 👷 `Agent: Plan Delegator` <span style=\"font-weight: bold\">(</span>v5.<span style=\"color: #008080; text-decoration-color: #008080; font-weight: bold\">0</span><span style=\"font-weight: bold\">)</span> đang lập kế hoạch chiến lược<span style=\"color: #808000; text-decoration-color: #808000\">...</span>\n",
       "</pre>\n"
      ],
      "text/plain": [
       "\u001b[1;36m>\u001b[0m \n",
       "---\n",
       "### 👷 `Agent: Plan Delegator` \u001b[1m(\u001b[0mv5.\u001b[1;36m0\u001b[0m\u001b[1m)\u001b[0m đang lập kế hoạch chiến lược\u001b[33m...\u001b[0m\n"
      ]
     },
     "metadata": {},
     "output_type": "display_data"
    },
    {
     "data": {
      "text/html": [
       "<pre style=\"white-space:pre;overflow-x:auto;line-height:normal;font-family:Menlo,'DejaVu Sans Mono',consolas,'Courier New',monospace\"><span style=\"color: #008000; text-decoration-color: #008000; font-weight: bold\">✔️ Đã tạo </span><span style=\"color: #008000; text-decoration-color: #008000; font-weight: bold\">4</span><span style=\"color: #008000; text-decoration-color: #008000; font-weight: bold\"> nhiệm vụ chiến lược:</span>\n",
       "</pre>\n"
      ],
      "text/plain": [
       "\u001b[1;32m✔️ Đã tạo \u001b[0m\u001b[1;32m4\u001b[0m\u001b[1;32m nhiệm vụ chiến lược:\u001b[0m\n"
      ]
     },
     "metadata": {},
     "output_type": "display_data"
    },
    {
     "data": {
      "text/html": [
       "<pre style=\"white-space:pre;overflow-x:auto;line-height:normal;font-family:Menlo,'DejaVu Sans Mono',consolas,'Courier New',monospace\"><span style=\"font-weight: bold\">[</span>\n",
       "<span style=\"color: #7fbf7f; text-decoration-color: #7fbf7f\">│   </span><span style=\"font-weight: bold\">{</span>\n",
       "<span style=\"color: #7fbf7f; text-decoration-color: #7fbf7f\">│   │   </span><span style=\"color: #008000; text-decoration-color: #008000\">'task_id'</span>: <span style=\"color: #008080; text-decoration-color: #008080; font-weight: bold\">0</span>,\n",
       "<span style=\"color: #7fbf7f; text-decoration-color: #7fbf7f\">│   │   </span><span style=\"color: #008000; text-decoration-color: #008000\">'task_name'</span>: <span style=\"color: #008000; text-decoration-color: #008000\">'Ôn tập lý thuyết về đường tròn ngoại tiếp và đường tròn nội tiếp'</span>,\n",
       "<span style=\"color: #7fbf7f; text-decoration-color: #7fbf7f\">│   │   </span><span style=\"color: #008000; text-decoration-color: #008000\">'task_description'</span>: <span style=\"color: #008000; text-decoration-color: #008000\">'Học sinh ôn tập lại các công thức và định nghĩa về đường tròn ngoại tiếp và đường tròn nội tiếp, bao gồm công thức tính bán kính, đường kính, chu vi và diện tích của đường tròn.'</span>,\n",
       "<span style=\"color: #7fbf7f; text-decoration-color: #7fbf7f\">│   │   </span><span style=\"color: #008000; text-decoration-color: #008000\">'estimated_duration'</span>: <span style=\"color: #008080; text-decoration-color: #008080; font-weight: bold\">15</span>,\n",
       "<span style=\"color: #7fbf7f; text-decoration-color: #7fbf7f\">│   │   </span><span style=\"color: #008000; text-decoration-color: #008000\">'status'</span>: <span style=\"color: #008000; text-decoration-color: #008000\">'pending'</span>\n",
       "<span style=\"color: #7fbf7f; text-decoration-color: #7fbf7f\">│   </span><span style=\"font-weight: bold\">}</span>,\n",
       "<span style=\"color: #7fbf7f; text-decoration-color: #7fbf7f\">│   </span><span style=\"font-weight: bold\">{</span>\n",
       "<span style=\"color: #7fbf7f; text-decoration-color: #7fbf7f\">│   │   </span><span style=\"color: #008000; text-decoration-color: #008000\">'task_id'</span>: <span style=\"color: #008080; text-decoration-color: #008080; font-weight: bold\">1</span>,\n",
       "<span style=\"color: #7fbf7f; text-decoration-color: #7fbf7f\">│   │   </span><span style=\"color: #008000; text-decoration-color: #008000\">'task_name'</span>: <span style=\"color: #008000; text-decoration-color: #008000\">'Tính chu vi và diện tích của đường tròn'</span>,\n",
       "<span style=\"color: #7fbf7f; text-decoration-color: #7fbf7f\">│   │   </span><span style=\"color: #008000; text-decoration-color: #008000\">'task_description'</span>: <span style=\"color: #008000; text-decoration-color: #008000\">'Cho học sinh một số bài toán tính chu vi và diện tích của đường tròn, sử dụng công thức đã học. Ví dụ: Tính chu vi và diện tích của đường tròn có bán kính là 4cm.'</span>,\n",
       "<span style=\"color: #7fbf7f; text-decoration-color: #7fbf7f\">│   │   </span><span style=\"color: #008000; text-decoration-color: #008000\">'estimated_duration'</span>: <span style=\"color: #008080; text-decoration-color: #008080; font-weight: bold\">20</span>,\n",
       "<span style=\"color: #7fbf7f; text-decoration-color: #7fbf7f\">│   │   </span><span style=\"color: #008000; text-decoration-color: #008000\">'status'</span>: <span style=\"color: #008000; text-decoration-color: #008000\">'pending'</span>\n",
       "<span style=\"color: #7fbf7f; text-decoration-color: #7fbf7f\">│   </span><span style=\"font-weight: bold\">}</span>,\n",
       "<span style=\"color: #7fbf7f; text-decoration-color: #7fbf7f\">│   </span><span style=\"font-weight: bold\">{</span>\n",
       "<span style=\"color: #7fbf7f; text-decoration-color: #7fbf7f\">│   │   </span><span style=\"color: #008000; text-decoration-color: #008000\">'task_id'</span>: <span style=\"color: #008080; text-decoration-color: #008080; font-weight: bold\">2</span>,\n",
       "<span style=\"color: #7fbf7f; text-decoration-color: #7fbf7f\">│   │   </span><span style=\"color: #008000; text-decoration-color: #008000\">'task_name'</span>: <span style=\"color: #008000; text-decoration-color: #008000\">'Xác định tâm và bán kính của đường tròn ngoại tiếp'</span>,\n",
       "<span style=\"color: #7fbf7f; text-decoration-color: #7fbf7f\">│   │   </span><span style=\"color: #008000; text-decoration-color: #008000\">'task_description'</span>: <span style=\"color: #008000; text-decoration-color: #008000\">'Cho học sinh một số bài toán xác định tâm và bán kính của đường tròn ngoại tiếp một tam giác, sử dụng các công thức và định lý đã học. Ví dụ: Cho tam giác ABC có các cạnh AB = 3cm, BC = 4cm, CA = 5cm. Xác định tâm và bán kính của đường tròn ngoại tiếp tam giác ABC.'</span>,\n",
       "<span style=\"color: #7fbf7f; text-decoration-color: #7fbf7f\">│   │   </span><span style=\"color: #008000; text-decoration-color: #008000\">'estimated_duration'</span>: <span style=\"color: #008080; text-decoration-color: #008080; font-weight: bold\">25</span>,\n",
       "<span style=\"color: #7fbf7f; text-decoration-color: #7fbf7f\">│   │   </span><span style=\"color: #008000; text-decoration-color: #008000\">'status'</span>: <span style=\"color: #008000; text-decoration-color: #008000\">'pending'</span>\n",
       "<span style=\"color: #7fbf7f; text-decoration-color: #7fbf7f\">│   </span><span style=\"font-weight: bold\">}</span>,\n",
       "<span style=\"color: #7fbf7f; text-decoration-color: #7fbf7f\">│   </span><span style=\"font-weight: bold\">{</span>\n",
       "<span style=\"color: #7fbf7f; text-decoration-color: #7fbf7f\">│   │   </span><span style=\"color: #008000; text-decoration-color: #008000\">'task_id'</span>: <span style=\"color: #008080; text-decoration-color: #008080; font-weight: bold\">3</span>,\n",
       "<span style=\"color: #7fbf7f; text-decoration-color: #7fbf7f\">│   │   </span><span style=\"color: #008000; text-decoration-color: #008000\">'task_name'</span>: <span style=\"color: #008000; text-decoration-color: #008000\">'Bài đánh giá: Đường tròn ngoại tiếp và đường tròn nội tiếp'</span>,\n",
       "<span style=\"color: #7fbf7f; text-decoration-color: #7fbf7f\">│   │   </span><span style=\"color: #008000; text-decoration-color: #008000\">'task_description'</span>: <span style=\"color: #008000; text-decoration-color: #008000\">'Cho học sinh một số bài toán tổng hợp về đường tròn ngoại tiếp và đường tròn nội tiếp, bao gồm tính chu vi, diện tích, xác định tâm và bán kính. Ví dụ: Cho hình tròn có chu vi là 16π cm. Xác định bán kính và diện tích của hình tròn.'</span>,\n",
       "<span style=\"color: #7fbf7f; text-decoration-color: #7fbf7f\">│   │   </span><span style=\"color: #008000; text-decoration-color: #008000\">'estimated_duration'</span>: <span style=\"color: #008080; text-decoration-color: #008080; font-weight: bold\">30</span>,\n",
       "<span style=\"color: #7fbf7f; text-decoration-color: #7fbf7f\">│   │   </span><span style=\"color: #008000; text-decoration-color: #008000\">'status'</span>: <span style=\"color: #008000; text-decoration-color: #008000\">'pending'</span>\n",
       "<span style=\"color: #7fbf7f; text-decoration-color: #7fbf7f\">│   </span><span style=\"font-weight: bold\">}</span>\n",
       "<span style=\"font-weight: bold\">]</span>\n",
       "</pre>\n"
      ],
      "text/plain": [
       "\u001b[1m[\u001b[0m\n",
       "\u001b[2;32m│   \u001b[0m\u001b[1m{\u001b[0m\n",
       "\u001b[2;32m│   │   \u001b[0m\u001b[32m'task_id'\u001b[0m: \u001b[1;36m0\u001b[0m,\n",
       "\u001b[2;32m│   │   \u001b[0m\u001b[32m'task_name'\u001b[0m: \u001b[32m'Ôn tập lý thuyết về đường tròn ngoại tiếp và đường tròn nội tiếp'\u001b[0m,\n",
       "\u001b[2;32m│   │   \u001b[0m\u001b[32m'task_description'\u001b[0m: \u001b[32m'Học sinh ôn tập lại các công thức và định nghĩa về đường tròn ngoại tiếp và đường tròn nội tiếp, bao gồm công thức tính bán kính, đường kính, chu vi và diện tích của đường tròn.'\u001b[0m,\n",
       "\u001b[2;32m│   │   \u001b[0m\u001b[32m'estimated_duration'\u001b[0m: \u001b[1;36m15\u001b[0m,\n",
       "\u001b[2;32m│   │   \u001b[0m\u001b[32m'status'\u001b[0m: \u001b[32m'pending'\u001b[0m\n",
       "\u001b[2;32m│   \u001b[0m\u001b[1m}\u001b[0m,\n",
       "\u001b[2;32m│   \u001b[0m\u001b[1m{\u001b[0m\n",
       "\u001b[2;32m│   │   \u001b[0m\u001b[32m'task_id'\u001b[0m: \u001b[1;36m1\u001b[0m,\n",
       "\u001b[2;32m│   │   \u001b[0m\u001b[32m'task_name'\u001b[0m: \u001b[32m'Tính chu vi và diện tích của đường tròn'\u001b[0m,\n",
       "\u001b[2;32m│   │   \u001b[0m\u001b[32m'task_description'\u001b[0m: \u001b[32m'Cho học sinh một số bài toán tính chu vi và diện tích của đường tròn, sử dụng công thức đã học. Ví dụ: Tính chu vi và diện tích của đường tròn có bán kính là 4cm.'\u001b[0m,\n",
       "\u001b[2;32m│   │   \u001b[0m\u001b[32m'estimated_duration'\u001b[0m: \u001b[1;36m20\u001b[0m,\n",
       "\u001b[2;32m│   │   \u001b[0m\u001b[32m'status'\u001b[0m: \u001b[32m'pending'\u001b[0m\n",
       "\u001b[2;32m│   \u001b[0m\u001b[1m}\u001b[0m,\n",
       "\u001b[2;32m│   \u001b[0m\u001b[1m{\u001b[0m\n",
       "\u001b[2;32m│   │   \u001b[0m\u001b[32m'task_id'\u001b[0m: \u001b[1;36m2\u001b[0m,\n",
       "\u001b[2;32m│   │   \u001b[0m\u001b[32m'task_name'\u001b[0m: \u001b[32m'Xác định tâm và bán kính của đường tròn ngoại tiếp'\u001b[0m,\n",
       "\u001b[2;32m│   │   \u001b[0m\u001b[32m'task_description'\u001b[0m: \u001b[32m'Cho học sinh một số bài toán xác định tâm và bán kính của đường tròn ngoại tiếp một tam giác, sử dụng các công thức và định lý đã học. Ví dụ: Cho tam giác ABC có các cạnh AB = 3cm, BC = 4cm, CA = 5cm. Xác định tâm và bán kính của đường tròn ngoại tiếp tam giác ABC.'\u001b[0m,\n",
       "\u001b[2;32m│   │   \u001b[0m\u001b[32m'estimated_duration'\u001b[0m: \u001b[1;36m25\u001b[0m,\n",
       "\u001b[2;32m│   │   \u001b[0m\u001b[32m'status'\u001b[0m: \u001b[32m'pending'\u001b[0m\n",
       "\u001b[2;32m│   \u001b[0m\u001b[1m}\u001b[0m,\n",
       "\u001b[2;32m│   \u001b[0m\u001b[1m{\u001b[0m\n",
       "\u001b[2;32m│   │   \u001b[0m\u001b[32m'task_id'\u001b[0m: \u001b[1;36m3\u001b[0m,\n",
       "\u001b[2;32m│   │   \u001b[0m\u001b[32m'task_name'\u001b[0m: \u001b[32m'Bài đánh giá: Đường tròn ngoại tiếp và đường tròn nội tiếp'\u001b[0m,\n",
       "\u001b[2;32m│   │   \u001b[0m\u001b[32m'task_description'\u001b[0m: \u001b[32m'Cho học sinh một số bài toán tổng hợp về đường tròn ngoại tiếp và đường tròn nội tiếp, bao gồm tính chu vi, diện tích, xác định tâm và bán kính. Ví dụ: Cho hình tròn có chu vi là 16π cm. Xác định bán kính và diện tích của hình tròn.'\u001b[0m,\n",
       "\u001b[2;32m│   │   \u001b[0m\u001b[32m'estimated_duration'\u001b[0m: \u001b[1;36m30\u001b[0m,\n",
       "\u001b[2;32m│   │   \u001b[0m\u001b[32m'status'\u001b[0m: \u001b[32m'pending'\u001b[0m\n",
       "\u001b[2;32m│   \u001b[0m\u001b[1m}\u001b[0m\n",
       "\u001b[1m]\u001b[0m\n"
      ]
     },
     "metadata": {},
     "output_type": "display_data"
    },
    {
     "data": {
      "text/html": [
       "<pre style=\"white-space:pre;overflow-x:auto;line-height:normal;font-family:Menlo,'DejaVu Sans Mono',consolas,'Courier New',monospace\">\n",
       "<span style=\"color: #808000; text-decoration-color: #808000; font-weight: bold\">------- Hoàn thành bước: plan_delegator -------</span>\n",
       "</pre>\n"
      ],
      "text/plain": [
       "\n",
       "\u001b[1;33m------- Hoàn thành bước: plan_delegator -------\u001b[0m\n"
      ]
     },
     "metadata": {},
     "output_type": "display_data"
    },
    {
     "data": {
      "text/html": [
       "<pre style=\"white-space:pre;overflow-x:auto;line-height:normal;font-family:Menlo,'DejaVu Sans Mono',consolas,'Courier New',monospace\"><span style=\"color: #008080; text-decoration-color: #008080; font-weight: bold\">&gt;</span> \n",
       "---\n",
       "### 🔄 `Router`: Đang kiểm tra nhiệm vụ<span style=\"color: #808000; text-decoration-color: #808000\">...</span>\n",
       "</pre>\n"
      ],
      "text/plain": [
       "\u001b[1;36m>\u001b[0m \n",
       "---\n",
       "### 🔄 `Router`: Đang kiểm tra nhiệm vụ\u001b[33m...\u001b[0m\n"
      ]
     },
     "metadata": {},
     "output_type": "display_data"
    },
    {
     "data": {
      "text/html": [
       "<pre style=\"white-space:pre;overflow-x:auto;line-height:normal;font-family:Menlo,'DejaVu Sans Mono',consolas,'Courier New',monospace\"><span style=\"color: #008080; text-decoration-color: #008080; font-weight: bold\">&gt;</span> Nhiệm vụ tiếp theo: <span style=\"color: #008000; text-decoration-color: #008000\">'Ôn tập lý thuyết về đường tròn ngoại tiếp và đường tròn nội tiếp'</span> <span style=\"font-weight: bold\">(</span>ID: <span style=\"color: #008080; text-decoration-color: #008080; font-weight: bold\">0</span><span style=\"font-weight: bold\">)</span>\n",
       "</pre>\n"
      ],
      "text/plain": [
       "\u001b[1;36m>\u001b[0m Nhiệm vụ tiếp theo: \u001b[32m'Ôn tập lý thuyết về đường tròn ngoại tiếp và đường tròn nội tiếp'\u001b[0m \u001b[1m(\u001b[0mID: \u001b[1;36m0\u001b[0m\u001b[1m)\u001b[0m\n"
      ]
     },
     "metadata": {},
     "output_type": "display_data"
    },
    {
     "data": {
      "text/html": [
       "<pre style=\"white-space:pre;overflow-x:auto;line-height:normal;font-family:Menlo,'DejaVu Sans Mono',consolas,'Courier New',monospace\">\n",
       "<span style=\"color: #808000; text-decoration-color: #808000; font-weight: bold\">------- Hoàn thành bước: task_router -------</span>\n",
       "</pre>\n"
      ],
      "text/plain": [
       "\n",
       "\u001b[1;33m------- Hoàn thành bước: task_router -------\u001b[0m\n"
      ]
     },
     "metadata": {},
     "output_type": "display_data"
    },
    {
     "data": {
      "text/html": [
       "<pre style=\"white-space:pre;overflow-x:auto;line-height:normal;font-family:Menlo,'DejaVu Sans Mono',consolas,'Courier New',monospace\"><span style=\"color: #008080; text-decoration-color: #008080; font-weight: bold\">&gt;</span> \n",
       "---\n",
       "### 🚚 `Agent: Task Dispatcher` <span style=\"font-weight: bold\">(</span>v5.<span style=\"color: #008080; text-decoration-color: #008080; font-weight: bold\">0</span><span style=\"font-weight: bold\">)</span> Bắt đầu<span style=\"color: #808000; text-decoration-color: #808000\">...</span>\n",
       "</pre>\n"
      ],
      "text/plain": [
       "\u001b[1;36m>\u001b[0m \n",
       "---\n",
       "### 🚚 `Agent: Task Dispatcher` \u001b[1m(\u001b[0mv5.\u001b[1;36m0\u001b[0m\u001b[1m)\u001b[0m Bắt đầu\u001b[33m...\u001b[0m\n"
      ]
     },
     "metadata": {},
     "output_type": "display_data"
    },
    {
     "data": {
      "text/html": [
       "<pre style=\"white-space:pre;overflow-x:auto;line-height:normal;font-family:Menlo,'DejaVu Sans Mono',consolas,'Courier New',monospace\"><span style=\"color: #008080; text-decoration-color: #008080; font-weight: bold\">&gt;</span> --- 🚚 `Dispatcher`: Giao nhiệm vụ cho `theory_synthesizer`.\n",
       "</pre>\n"
      ],
      "text/plain": [
       "\u001b[1;36m>\u001b[0m --- 🚚 `Dispatcher`: Giao nhiệm vụ cho `theory_synthesizer`.\n"
      ]
     },
     "metadata": {},
     "output_type": "display_data"
    },
    {
     "data": {
      "text/html": [
       "<pre style=\"white-space:pre;overflow-x:auto;line-height:normal;font-family:Menlo,'DejaVu Sans Mono',consolas,'Courier New',monospace\">\n",
       "<span style=\"color: #808000; text-decoration-color: #808000; font-weight: bold\">------- Hoàn thành bước: task_dispatcher -------</span>\n",
       "</pre>\n"
      ],
      "text/plain": [
       "\n",
       "\u001b[1;33m------- Hoàn thành bước: task_dispatcher -------\u001b[0m\n"
      ]
     },
     "metadata": {},
     "output_type": "display_data"
    },
    {
     "data": {
      "text/html": [
       "<pre style=\"white-space:pre;overflow-x:auto;line-height:normal;font-family:Menlo,'DejaVu Sans Mono',consolas,'Courier New',monospace\"><span style=\"color: #008080; text-decoration-color: #008080; font-weight: bold\">&gt;</span> `Agent: Theory Synthesizer` <span style=\"font-weight: bold\">(</span>v5.<span style=\"color: #008080; text-decoration-color: #008080; font-weight: bold\">0</span><span style=\"font-weight: bold\">)</span> đang thiết kế hoạt động lý thuyết<span style=\"color: #808000; text-decoration-color: #808000\">...</span>\n",
       "</pre>\n"
      ],
      "text/plain": [
       "\u001b[1;36m>\u001b[0m `Agent: Theory Synthesizer` \u001b[1m(\u001b[0mv5.\u001b[1;36m0\u001b[0m\u001b[1m)\u001b[0m đang thiết kế hoạt động lý thuyết\u001b[33m...\u001b[0m\n"
      ]
     },
     "metadata": {},
     "output_type": "display_data"
    },
    {
     "data": {
      "text/html": [
       "<pre style=\"white-space:pre;overflow-x:auto;line-height:normal;font-family:Menlo,'DejaVu Sans Mono',consolas,'Courier New',monospace\"><span style=\"color: #008000; text-decoration-color: #008000; font-weight: bold\">✔️ Hoạt động lý thuyết đã thiết kế:</span>\n",
       "</pre>\n"
      ],
      "text/plain": [
       "\u001b[1;32m✔️ Hoạt động lý thuyết đã thiết kế:\u001b[0m\n"
      ]
     },
     "metadata": {},
     "output_type": "display_data"
    },
    {
     "data": {
      "text/html": [
       "<pre style=\"white-space:pre;overflow-x:auto;line-height:normal;font-family:Menlo,'DejaVu Sans Mono',consolas,'Courier New',monospace\"><span style=\"font-weight: bold\">{</span>\n",
       "<span style=\"color: #7fbf7f; text-decoration-color: #7fbf7f\">│   </span><span style=\"color: #008000; text-decoration-color: #008000\">'activity_name'</span>: <span style=\"color: #008000; text-decoration-color: #008000\">'Ôn tập đường tròn ngoại tiếp và đường tròn nội tiếp'</span>,\n",
       "<span style=\"color: #7fbf7f; text-decoration-color: #7fbf7f\">│   </span><span style=\"color: #008000; text-decoration-color: #008000\">'description'</span>: <span style=\"color: #008000; text-decoration-color: #008000\">'Hoàn thành các câu hỏi trắc nghiệm nhanh để ôn tập lại các công thức và định nghĩa về đường tròn ngoại tiếp và đường tròn nội tiếp.'</span>,\n",
       "<span style=\"color: #7fbf7f; text-decoration-color: #7fbf7f\">│   </span><span style=\"color: #008000; text-decoration-color: #008000\">'duration_minutes'</span>: <span style=\"color: #008080; text-decoration-color: #008080; font-weight: bold\">15</span>,\n",
       "<span style=\"color: #7fbf7f; text-decoration-color: #7fbf7f\">│   </span><span style=\"color: #008000; text-decoration-color: #008000\">'activity_type'</span>: <span style=\"color: #008000; text-decoration-color: #008000\">'Trắc nghiệm nhanh'</span>\n",
       "<span style=\"font-weight: bold\">}</span>\n",
       "</pre>\n"
      ],
      "text/plain": [
       "\u001b[1m{\u001b[0m\n",
       "\u001b[2;32m│   \u001b[0m\u001b[32m'activity_name'\u001b[0m: \u001b[32m'Ôn tập đường tròn ngoại tiếp và đường tròn nội tiếp'\u001b[0m,\n",
       "\u001b[2;32m│   \u001b[0m\u001b[32m'description'\u001b[0m: \u001b[32m'Hoàn thành các câu hỏi trắc nghiệm nhanh để ôn tập lại các công thức và định nghĩa về đường tròn ngoại tiếp và đường tròn nội tiếp.'\u001b[0m,\n",
       "\u001b[2;32m│   \u001b[0m\u001b[32m'duration_minutes'\u001b[0m: \u001b[1;36m15\u001b[0m,\n",
       "\u001b[2;32m│   \u001b[0m\u001b[32m'activity_type'\u001b[0m: \u001b[32m'Trắc nghiệm nhanh'\u001b[0m\n",
       "\u001b[1m}\u001b[0m\n"
      ]
     },
     "metadata": {},
     "output_type": "display_data"
    },
    {
     "data": {
      "text/html": [
       "<pre style=\"white-space:pre;overflow-x:auto;line-height:normal;font-family:Menlo,'DejaVu Sans Mono',consolas,'Courier New',monospace\">\n",
       "<span style=\"color: #808000; text-decoration-color: #808000; font-weight: bold\">------- Hoàn thành bước: theory_synthesizer -------</span>\n",
       "</pre>\n"
      ],
      "text/plain": [
       "\n",
       "\u001b[1;33m------- Hoàn thành bước: theory_synthesizer -------\u001b[0m\n"
      ]
     },
     "metadata": {},
     "output_type": "display_data"
    },
    {
     "data": {
      "text/html": [
       "<pre style=\"white-space:pre;overflow-x:auto;line-height:normal;font-family:Menlo,'DejaVu Sans Mono',consolas,'Courier New',monospace\">\n",
       "<span style=\"color: #808000; text-decoration-color: #808000; font-weight: bold\">------- Hoàn thành bước: mark_task_complete -------</span>\n",
       "</pre>\n"
      ],
      "text/plain": [
       "\n",
       "\u001b[1;33m------- Hoàn thành bước: mark_task_complete -------\u001b[0m\n"
      ]
     },
     "metadata": {},
     "output_type": "display_data"
    },
    {
     "data": {
      "text/html": [
       "<pre style=\"white-space:pre;overflow-x:auto;line-height:normal;font-family:Menlo,'DejaVu Sans Mono',consolas,'Courier New',monospace\"><span style=\"color: #008080; text-decoration-color: #008080; font-weight: bold\">&gt;</span> \n",
       "---\n",
       "### 🔄 `Router`: Đang kiểm tra nhiệm vụ<span style=\"color: #808000; text-decoration-color: #808000\">...</span>\n",
       "</pre>\n"
      ],
      "text/plain": [
       "\u001b[1;36m>\u001b[0m \n",
       "---\n",
       "### 🔄 `Router`: Đang kiểm tra nhiệm vụ\u001b[33m...\u001b[0m\n"
      ]
     },
     "metadata": {},
     "output_type": "display_data"
    },
    {
     "data": {
      "text/html": [
       "<pre style=\"white-space:pre;overflow-x:auto;line-height:normal;font-family:Menlo,'DejaVu Sans Mono',consolas,'Courier New',monospace\"><span style=\"color: #008080; text-decoration-color: #008080; font-weight: bold\">&gt;</span> Nhiệm vụ tiếp theo: <span style=\"color: #008000; text-decoration-color: #008000\">'Tính chu vi và diện tích của đường tròn'</span> <span style=\"font-weight: bold\">(</span>ID: <span style=\"color: #008080; text-decoration-color: #008080; font-weight: bold\">1</span><span style=\"font-weight: bold\">)</span>\n",
       "</pre>\n"
      ],
      "text/plain": [
       "\u001b[1;36m>\u001b[0m Nhiệm vụ tiếp theo: \u001b[32m'Tính chu vi và diện tích của đường tròn'\u001b[0m \u001b[1m(\u001b[0mID: \u001b[1;36m1\u001b[0m\u001b[1m)\u001b[0m\n"
      ]
     },
     "metadata": {},
     "output_type": "display_data"
    },
    {
     "data": {
      "text/html": [
       "<pre style=\"white-space:pre;overflow-x:auto;line-height:normal;font-family:Menlo,'DejaVu Sans Mono',consolas,'Courier New',monospace\">\n",
       "<span style=\"color: #808000; text-decoration-color: #808000; font-weight: bold\">------- Hoàn thành bước: task_router -------</span>\n",
       "</pre>\n"
      ],
      "text/plain": [
       "\n",
       "\u001b[1;33m------- Hoàn thành bước: task_router -------\u001b[0m\n"
      ]
     },
     "metadata": {},
     "output_type": "display_data"
    },
    {
     "data": {
      "text/html": [
       "<pre style=\"white-space:pre;overflow-x:auto;line-height:normal;font-family:Menlo,'DejaVu Sans Mono',consolas,'Courier New',monospace\"><span style=\"color: #008080; text-decoration-color: #008080; font-weight: bold\">&gt;</span> \n",
       "---\n",
       "### 🚚 `Agent: Task Dispatcher` <span style=\"font-weight: bold\">(</span>v5.<span style=\"color: #008080; text-decoration-color: #008080; font-weight: bold\">0</span><span style=\"font-weight: bold\">)</span> Bắt đầu<span style=\"color: #808000; text-decoration-color: #808000\">...</span>\n",
       "</pre>\n"
      ],
      "text/plain": [
       "\u001b[1;36m>\u001b[0m \n",
       "---\n",
       "### 🚚 `Agent: Task Dispatcher` \u001b[1m(\u001b[0mv5.\u001b[1;36m0\u001b[0m\u001b[1m)\u001b[0m Bắt đầu\u001b[33m...\u001b[0m\n"
      ]
     },
     "metadata": {},
     "output_type": "display_data"
    },
    {
     "data": {
      "text/html": [
       "<pre style=\"white-space:pre;overflow-x:auto;line-height:normal;font-family:Menlo,'DejaVu Sans Mono',consolas,'Courier New',monospace\"><span style=\"color: #008080; text-decoration-color: #008080; font-weight: bold\">&gt;</span> --- 🚚 `Dispatcher`: Giao nhiệm vụ cho `activity_designer`.\n",
       "</pre>\n"
      ],
      "text/plain": [
       "\u001b[1;36m>\u001b[0m --- 🚚 `Dispatcher`: Giao nhiệm vụ cho `activity_designer`.\n"
      ]
     },
     "metadata": {},
     "output_type": "display_data"
    },
    {
     "data": {
      "text/html": [
       "<pre style=\"white-space:pre;overflow-x:auto;line-height:normal;font-family:Menlo,'DejaVu Sans Mono',consolas,'Courier New',monospace\">\n",
       "<span style=\"color: #808000; text-decoration-color: #808000; font-weight: bold\">------- Hoàn thành bước: task_dispatcher -------</span>\n",
       "</pre>\n"
      ],
      "text/plain": [
       "\n",
       "\u001b[1;33m------- Hoàn thành bước: task_dispatcher -------\u001b[0m\n"
      ]
     },
     "metadata": {},
     "output_type": "display_data"
    },
    {
     "data": {
      "text/html": [
       "<pre style=\"white-space:pre;overflow-x:auto;line-height:normal;font-family:Menlo,'DejaVu Sans Mono',consolas,'Courier New',monospace\"><span style=\"color: #008080; text-decoration-color: #008080; font-weight: bold\">&gt;</span> `Agent: Activity Designer` <span style=\"font-weight: bold\">(</span>v5.<span style=\"color: #008080; text-decoration-color: #008080; font-weight: bold\">0</span><span style=\"font-weight: bold\">)</span> đang thiết kế hoạt động VẬN DỤNG CỤ THỂ<span style=\"color: #808000; text-decoration-color: #808000\">...</span>\n",
       "</pre>\n"
      ],
      "text/plain": [
       "\u001b[1;36m>\u001b[0m `Agent: Activity Designer` \u001b[1m(\u001b[0mv5.\u001b[1;36m0\u001b[0m\u001b[1m)\u001b[0m đang thiết kế hoạt động VẬN DỤNG CỤ THỂ\u001b[33m...\u001b[0m\n"
      ]
     },
     "metadata": {},
     "output_type": "display_data"
    },
    {
     "data": {
      "text/html": [
       "<pre style=\"white-space:pre;overflow-x:auto;line-height:normal;font-family:Menlo,'DejaVu Sans Mono',consolas,'Courier New',monospace\"><span style=\"color: #008000; text-decoration-color: #008000; font-weight: bold\">✔️ Hoạt động vận dụng đã thiết kế:</span>\n",
       "</pre>\n"
      ],
      "text/plain": [
       "\u001b[1;32m✔️ Hoạt động vận dụng đã thiết kế:\u001b[0m\n"
      ]
     },
     "metadata": {},
     "output_type": "display_data"
    },
    {
     "data": {
      "text/html": [
       "<pre style=\"white-space:pre;overflow-x:auto;line-height:normal;font-family:Menlo,'DejaVu Sans Mono',consolas,'Courier New',monospace\"><span style=\"font-weight: bold\">{</span>\n",
       "<span style=\"color: #7fbf7f; text-decoration-color: #7fbf7f\">│   </span><span style=\"color: #008000; text-decoration-color: #008000\">'activity_name'</span>: <span style=\"color: #008000; text-decoration-color: #008000\">'Tính chu vi và diện tích của đường tròn trong thiết kế logo'</span>,\n",
       "<span style=\"color: #7fbf7f; text-decoration-color: #7fbf7f\">│   </span><span style=\"color: #008000; text-decoration-color: #008000\">'description'</span>: <span style=\"color: #008000; text-decoration-color: #008000\">'Công ty thiết kế logo cần tạo một logo hình tròn cho một công ty mới. Họ muốn logo có bán kính là 4cm. Hãy tính chu vi và diện tích của logo này.'</span>,\n",
       "<span style=\"color: #7fbf7f; text-decoration-color: #7fbf7f\">│   </span><span style=\"color: #008000; text-decoration-color: #008000\">'duration_minutes'</span>: <span style=\"color: #008080; text-decoration-color: #008080; font-weight: bold\">20</span>,\n",
       "<span style=\"color: #7fbf7f; text-decoration-color: #7fbf7f\">│   </span><span style=\"color: #008000; text-decoration-color: #008000\">'activity_type'</span>: <span style=\"color: #008000; text-decoration-color: #008000\">'Bài toán tính chu vi và diện tích của đường tròn'</span>\n",
       "<span style=\"font-weight: bold\">}</span>\n",
       "</pre>\n"
      ],
      "text/plain": [
       "\u001b[1m{\u001b[0m\n",
       "\u001b[2;32m│   \u001b[0m\u001b[32m'activity_name'\u001b[0m: \u001b[32m'Tính chu vi và diện tích của đường tròn trong thiết kế logo'\u001b[0m,\n",
       "\u001b[2;32m│   \u001b[0m\u001b[32m'description'\u001b[0m: \u001b[32m'Công ty thiết kế logo cần tạo một logo hình tròn cho một công ty mới. Họ muốn logo có bán kính là 4cm. Hãy tính chu vi và diện tích của logo này.'\u001b[0m,\n",
       "\u001b[2;32m│   \u001b[0m\u001b[32m'duration_minutes'\u001b[0m: \u001b[1;36m20\u001b[0m,\n",
       "\u001b[2;32m│   \u001b[0m\u001b[32m'activity_type'\u001b[0m: \u001b[32m'Bài toán tính chu vi và diện tích của đường tròn'\u001b[0m\n",
       "\u001b[1m}\u001b[0m\n"
      ]
     },
     "metadata": {},
     "output_type": "display_data"
    },
    {
     "data": {
      "text/html": [
       "<pre style=\"white-space:pre;overflow-x:auto;line-height:normal;font-family:Menlo,'DejaVu Sans Mono',consolas,'Courier New',monospace\">\n",
       "<span style=\"color: #808000; text-decoration-color: #808000; font-weight: bold\">------- Hoàn thành bước: activity_designer -------</span>\n",
       "</pre>\n"
      ],
      "text/plain": [
       "\n",
       "\u001b[1;33m------- Hoàn thành bước: activity_designer -------\u001b[0m\n"
      ]
     },
     "metadata": {},
     "output_type": "display_data"
    },
    {
     "data": {
      "text/html": [
       "<pre style=\"white-space:pre;overflow-x:auto;line-height:normal;font-family:Menlo,'DejaVu Sans Mono',consolas,'Courier New',monospace\">\n",
       "<span style=\"color: #808000; text-decoration-color: #808000; font-weight: bold\">------- Hoàn thành bước: mark_task_complete -------</span>\n",
       "</pre>\n"
      ],
      "text/plain": [
       "\n",
       "\u001b[1;33m------- Hoàn thành bước: mark_task_complete -------\u001b[0m\n"
      ]
     },
     "metadata": {},
     "output_type": "display_data"
    },
    {
     "data": {
      "text/html": [
       "<pre style=\"white-space:pre;overflow-x:auto;line-height:normal;font-family:Menlo,'DejaVu Sans Mono',consolas,'Courier New',monospace\"><span style=\"color: #008080; text-decoration-color: #008080; font-weight: bold\">&gt;</span> \n",
       "---\n",
       "### 🔄 `Router`: Đang kiểm tra nhiệm vụ<span style=\"color: #808000; text-decoration-color: #808000\">...</span>\n",
       "</pre>\n"
      ],
      "text/plain": [
       "\u001b[1;36m>\u001b[0m \n",
       "---\n",
       "### 🔄 `Router`: Đang kiểm tra nhiệm vụ\u001b[33m...\u001b[0m\n"
      ]
     },
     "metadata": {},
     "output_type": "display_data"
    },
    {
     "data": {
      "text/html": [
       "<pre style=\"white-space:pre;overflow-x:auto;line-height:normal;font-family:Menlo,'DejaVu Sans Mono',consolas,'Courier New',monospace\"><span style=\"color: #008080; text-decoration-color: #008080; font-weight: bold\">&gt;</span> Nhiệm vụ tiếp theo: <span style=\"color: #008000; text-decoration-color: #008000\">'Xác định tâm và bán kính của đường tròn ngoại tiếp'</span> <span style=\"font-weight: bold\">(</span>ID: <span style=\"color: #008080; text-decoration-color: #008080; font-weight: bold\">2</span><span style=\"font-weight: bold\">)</span>\n",
       "</pre>\n"
      ],
      "text/plain": [
       "\u001b[1;36m>\u001b[0m Nhiệm vụ tiếp theo: \u001b[32m'Xác định tâm và bán kính của đường tròn ngoại tiếp'\u001b[0m \u001b[1m(\u001b[0mID: \u001b[1;36m2\u001b[0m\u001b[1m)\u001b[0m\n"
      ]
     },
     "metadata": {},
     "output_type": "display_data"
    },
    {
     "data": {
      "text/html": [
       "<pre style=\"white-space:pre;overflow-x:auto;line-height:normal;font-family:Menlo,'DejaVu Sans Mono',consolas,'Courier New',monospace\">\n",
       "<span style=\"color: #808000; text-decoration-color: #808000; font-weight: bold\">------- Hoàn thành bước: task_router -------</span>\n",
       "</pre>\n"
      ],
      "text/plain": [
       "\n",
       "\u001b[1;33m------- Hoàn thành bước: task_router -------\u001b[0m\n"
      ]
     },
     "metadata": {},
     "output_type": "display_data"
    },
    {
     "data": {
      "text/html": [
       "<pre style=\"white-space:pre;overflow-x:auto;line-height:normal;font-family:Menlo,'DejaVu Sans Mono',consolas,'Courier New',monospace\"><span style=\"color: #008080; text-decoration-color: #008080; font-weight: bold\">&gt;</span> \n",
       "---\n",
       "### 🚚 `Agent: Task Dispatcher` <span style=\"font-weight: bold\">(</span>v5.<span style=\"color: #008080; text-decoration-color: #008080; font-weight: bold\">0</span><span style=\"font-weight: bold\">)</span> Bắt đầu<span style=\"color: #808000; text-decoration-color: #808000\">...</span>\n",
       "</pre>\n"
      ],
      "text/plain": [
       "\u001b[1;36m>\u001b[0m \n",
       "---\n",
       "### 🚚 `Agent: Task Dispatcher` \u001b[1m(\u001b[0mv5.\u001b[1;36m0\u001b[0m\u001b[1m)\u001b[0m Bắt đầu\u001b[33m...\u001b[0m\n"
      ]
     },
     "metadata": {},
     "output_type": "display_data"
    },
    {
     "data": {
      "text/html": [
       "<pre style=\"white-space:pre;overflow-x:auto;line-height:normal;font-family:Menlo,'DejaVu Sans Mono',consolas,'Courier New',monospace\"><span style=\"color: #008080; text-decoration-color: #008080; font-weight: bold\">&gt;</span> --- 🚚 `Dispatcher`: Giao nhiệm vụ cho `activity_designer`.\n",
       "</pre>\n"
      ],
      "text/plain": [
       "\u001b[1;36m>\u001b[0m --- 🚚 `Dispatcher`: Giao nhiệm vụ cho `activity_designer`.\n"
      ]
     },
     "metadata": {},
     "output_type": "display_data"
    },
    {
     "data": {
      "text/html": [
       "<pre style=\"white-space:pre;overflow-x:auto;line-height:normal;font-family:Menlo,'DejaVu Sans Mono',consolas,'Courier New',monospace\">\n",
       "<span style=\"color: #808000; text-decoration-color: #808000; font-weight: bold\">------- Hoàn thành bước: task_dispatcher -------</span>\n",
       "</pre>\n"
      ],
      "text/plain": [
       "\n",
       "\u001b[1;33m------- Hoàn thành bước: task_dispatcher -------\u001b[0m\n"
      ]
     },
     "metadata": {},
     "output_type": "display_data"
    },
    {
     "data": {
      "text/html": [
       "<pre style=\"white-space:pre;overflow-x:auto;line-height:normal;font-family:Menlo,'DejaVu Sans Mono',consolas,'Courier New',monospace\"><span style=\"color: #008080; text-decoration-color: #008080; font-weight: bold\">&gt;</span> `Agent: Activity Designer` <span style=\"font-weight: bold\">(</span>v5.<span style=\"color: #008080; text-decoration-color: #008080; font-weight: bold\">0</span><span style=\"font-weight: bold\">)</span> đang thiết kế hoạt động VẬN DỤNG CỤ THỂ<span style=\"color: #808000; text-decoration-color: #808000\">...</span>\n",
       "</pre>\n"
      ],
      "text/plain": [
       "\u001b[1;36m>\u001b[0m `Agent: Activity Designer` \u001b[1m(\u001b[0mv5.\u001b[1;36m0\u001b[0m\u001b[1m)\u001b[0m đang thiết kế hoạt động VẬN DỤNG CỤ THỂ\u001b[33m...\u001b[0m\n"
      ]
     },
     "metadata": {},
     "output_type": "display_data"
    },
    {
     "data": {
      "text/html": [
       "<pre style=\"white-space:pre;overflow-x:auto;line-height:normal;font-family:Menlo,'DejaVu Sans Mono',consolas,'Courier New',monospace\"><span style=\"color: #008000; text-decoration-color: #008000; font-weight: bold\">✔️ Hoạt động vận dụng đã thiết kế:</span>\n",
       "</pre>\n"
      ],
      "text/plain": [
       "\u001b[1;32m✔️ Hoạt động vận dụng đã thiết kế:\u001b[0m\n"
      ]
     },
     "metadata": {},
     "output_type": "display_data"
    },
    {
     "data": {
      "text/html": [
       "<pre style=\"white-space:pre;overflow-x:auto;line-height:normal;font-family:Menlo,'DejaVu Sans Mono',consolas,'Courier New',monospace\"><span style=\"font-weight: bold\">{</span>\n",
       "<span style=\"color: #7fbf7f; text-decoration-color: #7fbf7f\">│   </span><span style=\"color: #008000; text-decoration-color: #008000\">'activity_name'</span>: <span style=\"color: #008000; text-decoration-color: #008000\">'Tìm tâm và bán kính của đường tròn ngoại tiếp tam giác trong thiết kế kiến trúc'</span>,\n",
       "<span style=\"color: #7fbf7f; text-decoration-color: #7fbf7f\">│   </span><span style=\"color: #008000; text-decoration-color: #008000\">'description'</span>: <span style=\"color: #008000; text-decoration-color: #008000\">'Một kiến trúc sư đang thiết kế một công trình xây dựng và cần tìm tâm và bán kính của đường tròn ngoại tiếp một tam giác có các cạnh là 6m, 8m và 10m. Hãy giúp kiến trúc sư tìm tâm và bán kính của đường tròn đó.'</span>,\n",
       "<span style=\"color: #7fbf7f; text-decoration-color: #7fbf7f\">│   </span><span style=\"color: #008000; text-decoration-color: #008000\">'duration_minutes'</span>: <span style=\"color: #008080; text-decoration-color: #008080; font-weight: bold\">25</span>,\n",
       "<span style=\"color: #7fbf7f; text-decoration-color: #7fbf7f\">│   </span><span style=\"color: #008000; text-decoration-color: #008000\">'activity_type'</span>: <span style=\"color: #008000; text-decoration-color: #008000\">'Bài toán thực tế'</span>\n",
       "<span style=\"font-weight: bold\">}</span>\n",
       "</pre>\n"
      ],
      "text/plain": [
       "\u001b[1m{\u001b[0m\n",
       "\u001b[2;32m│   \u001b[0m\u001b[32m'activity_name'\u001b[0m: \u001b[32m'Tìm tâm và bán kính của đường tròn ngoại tiếp tam giác trong thiết kế kiến trúc'\u001b[0m,\n",
       "\u001b[2;32m│   \u001b[0m\u001b[32m'description'\u001b[0m: \u001b[32m'Một kiến trúc sư đang thiết kế một công trình xây dựng và cần tìm tâm và bán kính của đường tròn ngoại tiếp một tam giác có các cạnh là 6m, 8m và 10m. Hãy giúp kiến trúc sư tìm tâm và bán kính của đường tròn đó.'\u001b[0m,\n",
       "\u001b[2;32m│   \u001b[0m\u001b[32m'duration_minutes'\u001b[0m: \u001b[1;36m25\u001b[0m,\n",
       "\u001b[2;32m│   \u001b[0m\u001b[32m'activity_type'\u001b[0m: \u001b[32m'Bài toán thực tế'\u001b[0m\n",
       "\u001b[1m}\u001b[0m\n"
      ]
     },
     "metadata": {},
     "output_type": "display_data"
    },
    {
     "data": {
      "text/html": [
       "<pre style=\"white-space:pre;overflow-x:auto;line-height:normal;font-family:Menlo,'DejaVu Sans Mono',consolas,'Courier New',monospace\">\n",
       "<span style=\"color: #808000; text-decoration-color: #808000; font-weight: bold\">------- Hoàn thành bước: activity_designer -------</span>\n",
       "</pre>\n"
      ],
      "text/plain": [
       "\n",
       "\u001b[1;33m------- Hoàn thành bước: activity_designer -------\u001b[0m\n"
      ]
     },
     "metadata": {},
     "output_type": "display_data"
    },
    {
     "data": {
      "text/html": [
       "<pre style=\"white-space:pre;overflow-x:auto;line-height:normal;font-family:Menlo,'DejaVu Sans Mono',consolas,'Courier New',monospace\">\n",
       "<span style=\"color: #808000; text-decoration-color: #808000; font-weight: bold\">------- Hoàn thành bước: mark_task_complete -------</span>\n",
       "</pre>\n"
      ],
      "text/plain": [
       "\n",
       "\u001b[1;33m------- Hoàn thành bước: mark_task_complete -------\u001b[0m\n"
      ]
     },
     "metadata": {},
     "output_type": "display_data"
    },
    {
     "data": {
      "text/html": [
       "<pre style=\"white-space:pre;overflow-x:auto;line-height:normal;font-family:Menlo,'DejaVu Sans Mono',consolas,'Courier New',monospace\"><span style=\"color: #008080; text-decoration-color: #008080; font-weight: bold\">&gt;</span> \n",
       "---\n",
       "### 🔄 `Router`: Đang kiểm tra nhiệm vụ<span style=\"color: #808000; text-decoration-color: #808000\">...</span>\n",
       "</pre>\n"
      ],
      "text/plain": [
       "\u001b[1;36m>\u001b[0m \n",
       "---\n",
       "### 🔄 `Router`: Đang kiểm tra nhiệm vụ\u001b[33m...\u001b[0m\n"
      ]
     },
     "metadata": {},
     "output_type": "display_data"
    },
    {
     "data": {
      "text/html": [
       "<pre style=\"white-space:pre;overflow-x:auto;line-height:normal;font-family:Menlo,'DejaVu Sans Mono',consolas,'Courier New',monospace\"><span style=\"color: #008080; text-decoration-color: #008080; font-weight: bold\">&gt;</span> Nhiệm vụ tiếp theo: <span style=\"color: #008000; text-decoration-color: #008000\">'Bài đánh giá: Đường tròn ngoại tiếp và đường tròn nội tiếp'</span> <span style=\"font-weight: bold\">(</span>ID: <span style=\"color: #008080; text-decoration-color: #008080; font-weight: bold\">3</span><span style=\"font-weight: bold\">)</span>\n",
       "</pre>\n"
      ],
      "text/plain": [
       "\u001b[1;36m>\u001b[0m Nhiệm vụ tiếp theo: \u001b[32m'Bài đánh giá: Đường tròn ngoại tiếp và đường tròn nội tiếp'\u001b[0m \u001b[1m(\u001b[0mID: \u001b[1;36m3\u001b[0m\u001b[1m)\u001b[0m\n"
      ]
     },
     "metadata": {},
     "output_type": "display_data"
    },
    {
     "data": {
      "text/html": [
       "<pre style=\"white-space:pre;overflow-x:auto;line-height:normal;font-family:Menlo,'DejaVu Sans Mono',consolas,'Courier New',monospace\">\n",
       "<span style=\"color: #808000; text-decoration-color: #808000; font-weight: bold\">------- Hoàn thành bước: task_router -------</span>\n",
       "</pre>\n"
      ],
      "text/plain": [
       "\n",
       "\u001b[1;33m------- Hoàn thành bước: task_router -------\u001b[0m\n"
      ]
     },
     "metadata": {},
     "output_type": "display_data"
    },
    {
     "data": {
      "text/html": [
       "<pre style=\"white-space:pre;overflow-x:auto;line-height:normal;font-family:Menlo,'DejaVu Sans Mono',consolas,'Courier New',monospace\"><span style=\"color: #008080; text-decoration-color: #008080; font-weight: bold\">&gt;</span> \n",
       "---\n",
       "### 🚚 `Agent: Task Dispatcher` <span style=\"font-weight: bold\">(</span>v5.<span style=\"color: #008080; text-decoration-color: #008080; font-weight: bold\">0</span><span style=\"font-weight: bold\">)</span> Bắt đầu<span style=\"color: #808000; text-decoration-color: #808000\">...</span>\n",
       "</pre>\n"
      ],
      "text/plain": [
       "\u001b[1;36m>\u001b[0m \n",
       "---\n",
       "### 🚚 `Agent: Task Dispatcher` \u001b[1m(\u001b[0mv5.\u001b[1;36m0\u001b[0m\u001b[1m)\u001b[0m Bắt đầu\u001b[33m...\u001b[0m\n"
      ]
     },
     "metadata": {},
     "output_type": "display_data"
    },
    {
     "data": {
      "text/html": [
       "<pre style=\"white-space:pre;overflow-x:auto;line-height:normal;font-family:Menlo,'DejaVu Sans Mono',consolas,'Courier New',monospace\"><span style=\"color: #008080; text-decoration-color: #008080; font-weight: bold\">&gt;</span> --- 🚚 `Dispatcher`: Giao nhiệm vụ cho `activity_designer`.\n",
       "</pre>\n"
      ],
      "text/plain": [
       "\u001b[1;36m>\u001b[0m --- 🚚 `Dispatcher`: Giao nhiệm vụ cho `activity_designer`.\n"
      ]
     },
     "metadata": {},
     "output_type": "display_data"
    },
    {
     "data": {
      "text/html": [
       "<pre style=\"white-space:pre;overflow-x:auto;line-height:normal;font-family:Menlo,'DejaVu Sans Mono',consolas,'Courier New',monospace\">\n",
       "<span style=\"color: #808000; text-decoration-color: #808000; font-weight: bold\">------- Hoàn thành bước: task_dispatcher -------</span>\n",
       "</pre>\n"
      ],
      "text/plain": [
       "\n",
       "\u001b[1;33m------- Hoàn thành bước: task_dispatcher -------\u001b[0m\n"
      ]
     },
     "metadata": {},
     "output_type": "display_data"
    },
    {
     "data": {
      "text/html": [
       "<pre style=\"white-space:pre;overflow-x:auto;line-height:normal;font-family:Menlo,'DejaVu Sans Mono',consolas,'Courier New',monospace\"><span style=\"color: #008080; text-decoration-color: #008080; font-weight: bold\">&gt;</span> `Agent: Activity Designer` <span style=\"font-weight: bold\">(</span>v5.<span style=\"color: #008080; text-decoration-color: #008080; font-weight: bold\">0</span><span style=\"font-weight: bold\">)</span> đang thiết kế hoạt động VẬN DỤNG CỤ THỂ<span style=\"color: #808000; text-decoration-color: #808000\">...</span>\n",
       "</pre>\n"
      ],
      "text/plain": [
       "\u001b[1;36m>\u001b[0m `Agent: Activity Designer` \u001b[1m(\u001b[0mv5.\u001b[1;36m0\u001b[0m\u001b[1m)\u001b[0m đang thiết kế hoạt động VẬN DỤNG CỤ THỂ\u001b[33m...\u001b[0m\n"
      ]
     },
     "metadata": {},
     "output_type": "display_data"
    },
    {
     "data": {
      "text/html": [
       "<pre style=\"white-space:pre;overflow-x:auto;line-height:normal;font-family:Menlo,'DejaVu Sans Mono',consolas,'Courier New',monospace\"><span style=\"color: #008000; text-decoration-color: #008000; font-weight: bold\">✔️ Hoạt động vận dụng đã thiết kế:</span>\n",
       "</pre>\n"
      ],
      "text/plain": [
       "\u001b[1;32m✔️ Hoạt động vận dụng đã thiết kế:\u001b[0m\n"
      ]
     },
     "metadata": {},
     "output_type": "display_data"
    },
    {
     "data": {
      "text/html": [
       "<pre style=\"white-space:pre;overflow-x:auto;line-height:normal;font-family:Menlo,'DejaVu Sans Mono',consolas,'Courier New',monospace\"><span style=\"font-weight: bold\">{</span>\n",
       "<span style=\"color: #7fbf7f; text-decoration-color: #7fbf7f\">│   </span><span style=\"color: #008000; text-decoration-color: #008000\">'activity_name'</span>: <span style=\"color: #008000; text-decoration-color: #008000\">'Tính toán đường tròn ngoại tiếp và đường tròn nội tiếp'</span>,\n",
       "<span style=\"color: #7fbf7f; text-decoration-color: #7fbf7f\">│   </span><span style=\"color: #008000; text-decoration-color: #008000\">'description'</span>: <span style=\"color: #008000; text-decoration-color: #008000\">'Một công ty sản xuất bánh xe đạp cần tính toán đường tròn ngoại tiếp và đường tròn nội tiếp của bánh xe để sản xuất bánh xe đạt tiêu chuẩn. Cho hình tròn có chu vi là 16π cm. Xác định bán kính và diện tích của hình tròn.'</span>,\n",
       "<span style=\"color: #7fbf7f; text-decoration-color: #7fbf7f\">│   </span><span style=\"color: #008000; text-decoration-color: #008000\">'duration_minutes'</span>: <span style=\"color: #008080; text-decoration-color: #008080; font-weight: bold\">30</span>,\n",
       "<span style=\"color: #7fbf7f; text-decoration-color: #7fbf7f\">│   </span><span style=\"color: #008000; text-decoration-color: #008000\">'activity_type'</span>: <span style=\"color: #008000; text-decoration-color: #008000\">'Bài toán tổng hợp về đường tròn ngoại tiếp và đường tròn nội tiếp'</span>\n",
       "<span style=\"font-weight: bold\">}</span>\n",
       "</pre>\n"
      ],
      "text/plain": [
       "\u001b[1m{\u001b[0m\n",
       "\u001b[2;32m│   \u001b[0m\u001b[32m'activity_name'\u001b[0m: \u001b[32m'Tính toán đường tròn ngoại tiếp và đường tròn nội tiếp'\u001b[0m,\n",
       "\u001b[2;32m│   \u001b[0m\u001b[32m'description'\u001b[0m: \u001b[32m'Một công ty sản xuất bánh xe đạp cần tính toán đường tròn ngoại tiếp và đường tròn nội tiếp của bánh xe để sản xuất bánh xe đạt tiêu chuẩn. Cho hình tròn có chu vi là 16π cm. Xác định bán kính và diện tích của hình tròn.'\u001b[0m,\n",
       "\u001b[2;32m│   \u001b[0m\u001b[32m'duration_minutes'\u001b[0m: \u001b[1;36m30\u001b[0m,\n",
       "\u001b[2;32m│   \u001b[0m\u001b[32m'activity_type'\u001b[0m: \u001b[32m'Bài toán tổng hợp về đường tròn ngoại tiếp và đường tròn nội tiếp'\u001b[0m\n",
       "\u001b[1m}\u001b[0m\n"
      ]
     },
     "metadata": {},
     "output_type": "display_data"
    },
    {
     "data": {
      "text/html": [
       "<pre style=\"white-space:pre;overflow-x:auto;line-height:normal;font-family:Menlo,'DejaVu Sans Mono',consolas,'Courier New',monospace\">\n",
       "<span style=\"color: #808000; text-decoration-color: #808000; font-weight: bold\">------- Hoàn thành bước: activity_designer -------</span>\n",
       "</pre>\n"
      ],
      "text/plain": [
       "\n",
       "\u001b[1;33m------- Hoàn thành bước: activity_designer -------\u001b[0m\n"
      ]
     },
     "metadata": {},
     "output_type": "display_data"
    },
    {
     "data": {
      "text/html": [
       "<pre style=\"white-space:pre;overflow-x:auto;line-height:normal;font-family:Menlo,'DejaVu Sans Mono',consolas,'Courier New',monospace\">\n",
       "<span style=\"color: #808000; text-decoration-color: #808000; font-weight: bold\">------- Hoàn thành bước: mark_task_complete -------</span>\n",
       "</pre>\n"
      ],
      "text/plain": [
       "\n",
       "\u001b[1;33m------- Hoàn thành bước: mark_task_complete -------\u001b[0m\n"
      ]
     },
     "metadata": {},
     "output_type": "display_data"
    },
    {
     "data": {
      "text/html": [
       "<pre style=\"white-space:pre;overflow-x:auto;line-height:normal;font-family:Menlo,'DejaVu Sans Mono',consolas,'Courier New',monospace\"><span style=\"color: #008080; text-decoration-color: #008080; font-weight: bold\">&gt;</span> \n",
       "---\n",
       "### 🔄 `Router`: Đang kiểm tra nhiệm vụ<span style=\"color: #808000; text-decoration-color: #808000\">...</span>\n",
       "</pre>\n"
      ],
      "text/plain": [
       "\u001b[1;36m>\u001b[0m \n",
       "---\n",
       "### 🔄 `Router`: Đang kiểm tra nhiệm vụ\u001b[33m...\u001b[0m\n"
      ]
     },
     "metadata": {},
     "output_type": "display_data"
    },
    {
     "data": {
      "text/html": [
       "<pre style=\"white-space:pre;overflow-x:auto;line-height:normal;font-family:Menlo,'DejaVu Sans Mono',consolas,'Courier New',monospace\"><span style=\"color: #008080; text-decoration-color: #008080; font-weight: bold\">&gt;</span> Hết nhiệm vụ, chuyển sang node Compiler &amp; Critic.\n",
       "</pre>\n"
      ],
      "text/plain": [
       "\u001b[1;36m>\u001b[0m Hết nhiệm vụ, chuyển sang node Compiler & Critic.\n"
      ]
     },
     "metadata": {},
     "output_type": "display_data"
    },
    {
     "data": {
      "text/html": [
       "<pre style=\"white-space:pre;overflow-x:auto;line-height:normal;font-family:Menlo,'DejaVu Sans Mono',consolas,'Courier New',monospace\">\n",
       "<span style=\"color: #808000; text-decoration-color: #808000; font-weight: bold\">------- Hoàn thành bước: task_router -------</span>\n",
       "</pre>\n"
      ],
      "text/plain": [
       "\n",
       "\u001b[1;33m------- Hoàn thành bước: task_router -------\u001b[0m\n"
      ]
     },
     "metadata": {},
     "output_type": "display_data"
    },
    {
     "data": {
      "text/html": [
       "<pre style=\"white-space:pre;overflow-x:auto;line-height:normal;font-family:Menlo,'DejaVu Sans Mono',consolas,'Courier New',monospace\"><span style=\"color: #008080; text-decoration-color: #008080; font-weight: bold\">&gt;</span> `Agent: Plan Compiler &amp; Critic` <span style=\"font-weight: bold\">(</span>v5.<span style=\"color: #008080; text-decoration-color: #008080; font-weight: bold\">0</span><span style=\"font-weight: bold\">)</span> đang tổng hợp và đánh giá giáo án<span style=\"color: #808000; text-decoration-color: #808000\">...</span>\n",
       "</pre>\n"
      ],
      "text/plain": [
       "\u001b[1;36m>\u001b[0m `Agent: Plan Compiler & Critic` \u001b[1m(\u001b[0mv5.\u001b[1;36m0\u001b[0m\u001b[1m)\u001b[0m đang tổng hợp và đánh giá giáo án\u001b[33m...\u001b[0m\n"
      ]
     },
     "metadata": {},
     "output_type": "display_data"
    },
    {
     "data": {
      "text/html": [
       "<pre style=\"white-space:pre;overflow-x:auto;line-height:normal;font-family:Menlo,'DejaVu Sans Mono',consolas,'Courier New',monospace\"><span style=\"color: #008080; text-decoration-color: #008080; font-weight: bold\">&gt;</span> CRITIC: Kế hoạch hợp lệ! Bắt đầu tổng hợp giáo án theo mẫu chuyên nghiệp.\n",
       "</pre>\n"
      ],
      "text/plain": [
       "\u001b[1;36m>\u001b[0m CRITIC: Kế hoạch hợp lệ! Bắt đầu tổng hợp giáo án theo mẫu chuyên nghiệp.\n"
      ]
     },
     "metadata": {},
     "output_type": "display_data"
    },
    {
     "data": {
      "text/html": [
       "<pre style=\"white-space:pre;overflow-x:auto;line-height:normal;font-family:Menlo,'DejaVu Sans Mono',consolas,'Courier New',monospace\"><span style=\"color: #008080; text-decoration-color: #008080; font-weight: bold\">&gt;</span> ROUTER: Critic đã hài lòng. Kết thúc quy trình.\n",
       "</pre>\n"
      ],
      "text/plain": [
       "\u001b[1;36m>\u001b[0m ROUTER: Critic đã hài lòng. Kết thúc quy trình.\n"
      ]
     },
     "metadata": {},
     "output_type": "display_data"
    },
    {
     "data": {
      "text/html": [
       "<pre style=\"white-space:pre;overflow-x:auto;line-height:normal;font-family:Menlo,'DejaVu Sans Mono',consolas,'Courier New',monospace\">\n",
       "<span style=\"color: #808000; text-decoration-color: #808000; font-weight: bold\">------- Hoàn thành bước: plan_compiler_and_critic -------</span>\n",
       "</pre>\n"
      ],
      "text/plain": [
       "\n",
       "\u001b[1;33m------- Hoàn thành bước: plan_compiler_and_critic -------\u001b[0m\n"
      ]
     },
     "metadata": {},
     "output_type": "display_data"
    },
    {
     "data": {
      "text/html": [
       "<pre style=\"white-space:pre;overflow-x:auto;line-height:normal;font-family:Menlo,'DejaVu Sans Mono',consolas,'Courier New',monospace\">\n",
       "<span style=\"color: #800080; text-decoration-color: #800080; font-weight: bold\">🏁 KẾT THÚC QUY TRÌNH V3.</span><span style=\"color: #800080; text-decoration-color: #800080; font-weight: bold\">0</span><span style=\"color: #800080; text-decoration-color: #800080; font-weight: bold\">.</span>\n",
       "</pre>\n"
      ],
      "text/plain": [
       "\n",
       "\u001b[1;35m🏁 KẾT THÚC QUY TRÌNH V3.\u001b[0m\u001b[1;35m0\u001b[0m\u001b[1;35m.\u001b[0m\n"
      ]
     },
     "metadata": {},
     "output_type": "display_data"
    },
    {
     "data": {
      "text/html": [
       "<pre style=\"white-space:pre;overflow-x:auto;line-height:normal;font-family:Menlo,'DejaVu Sans Mono',consolas,'Courier New',monospace\">\n",
       "<span style=\"color: #008000; text-decoration-color: #008000; font-weight: bold\">📝 GIÁO ÁN HOÀN CHỈNH (SAU KHI ĐÃ TỰ SỬA LỖI)</span>\n",
       "</pre>\n"
      ],
      "text/plain": [
       "\n",
       "\u001b[1;32m📝 GIÁO ÁN HOÀN CHỈNH \u001b[0m\u001b[1;32m(\u001b[0m\u001b[1;32mSAU KHI ĐÃ TỰ SỬA LỖI\u001b[0m\u001b[1;32m)\u001b[0m\n"
      ]
     },
     "metadata": {},
     "output_type": "display_data"
    },
    {
     "data": {
      "text/html": [
       "<pre style=\"white-space:pre;overflow-x:auto;line-height:normal;font-family:Menlo,'DejaVu Sans Mono',consolas,'Courier New',monospace\">┏━━━━━━━━━━━━━━━━━━━━━━━━━━━━━━━━━━━━━━━━━━━━━━━━━━━━━━━━━━━━━━━━━━━━━━━━━━━━━━━━━━━━━━━━━━━━━━━━━━━━━━━━━━━━━━━━━┓\n",
       "┃                              <span style=\"font-weight: bold\">GIÁO ÁN: Đường tròn ngoại tiếp và đường tròn nội tiếp</span>                              ┃\n",
       "┗━━━━━━━━━━━━━━━━━━━━━━━━━━━━━━━━━━━━━━━━━━━━━━━━━━━━━━━━━━━━━━━━━━━━━━━━━━━━━━━━━━━━━━━━━━━━━━━━━━━━━━━━━━━━━━━━━┛\n",
       "\n",
       "\n",
       "                                                <span style=\"font-weight: bold; text-decoration: underline\">I. THÔNG TIN CHUNG</span>                                                 \n",
       "\n",
       "<span style=\"color: #808000; text-decoration-color: #808000; font-weight: bold\"> • </span><span style=\"font-weight: bold\">Môn học:</span> Toán                                                                                                   \n",
       "<span style=\"color: #808000; text-decoration-color: #808000; font-weight: bold\"> • </span><span style=\"font-weight: bold\">Lớp:</span> 9                                                                                                          \n",
       "<span style=\"color: #808000; text-decoration-color: #808000; font-weight: bold\"> • </span><span style=\"font-weight: bold\">Thời lượng dự kiến:</span> 90 phút                                                                                     \n",
       "\n",
       "\n",
       "                                               <span style=\"font-weight: bold; text-decoration: underline\">II. MỤC TIÊU BÀI HỌC</span>                                                \n",
       "\n",
       "<span style=\"color: #808000; text-decoration-color: #808000; font-weight: bold\"> • </span>Học sinh có thể vận dụng được các tỉ số lượng giác để giải các bài toán thực tế.                                \n",
       "<span style=\"color: #808000; text-decoration-color: #808000; font-weight: bold\"> • </span>Rèn luyện kỹ năng mô hình hóa toán học và giải quyết vấn đề.                                                    \n",
       "\n",
       "\n",
       "                                              <span style=\"font-weight: bold; text-decoration: underline\">III. TIẾN TRÌNH DẠY HỌC</span>                                              \n",
       "\n",
       "                    <span style=\"font-weight: bold\">Hoạt động 1: Ôn tập đường tròn ngoại tiếp và đường tròn nội tiếp (15 phút)</span>                     \n",
       "\n",
       "<span style=\"color: #808000; text-decoration-color: #808000; font-weight: bold\"> • </span><span style=\"font-weight: bold\">Loại hình tổ chức:</span> Trắc nghiệm nhanh                                                                            \n",
       "<span style=\"color: #808000; text-decoration-color: #808000; font-weight: bold\"> • </span><span style=\"font-weight: bold\">Mô tả chi tiết:</span> Hoàn thành các câu hỏi trắc nghiệm nhanh để ôn tập lại các công thức và định nghĩa về đường tròn\n",
       "<span style=\"color: #808000; text-decoration-color: #808000; font-weight: bold\">   </span>ngoại tiếp và đường tròn nội tiếp.                                                                              \n",
       "\n",
       "                <span style=\"font-weight: bold\">Hoạt động 2: Tính chu vi và diện tích của đường tròn trong thiết kế logo (20 phút)</span>                 \n",
       "\n",
       "<span style=\"color: #808000; text-decoration-color: #808000; font-weight: bold\"> • </span><span style=\"font-weight: bold\">Loại hình tổ chức:</span> Bài toán tính chu vi và diện tích của đường tròn                                             \n",
       "<span style=\"color: #808000; text-decoration-color: #808000; font-weight: bold\"> • </span><span style=\"font-weight: bold\">Mô tả chi tiết:</span> Công ty thiết kế logo cần tạo một logo hình tròn cho một công ty mới. Họ muốn logo có bán kính  \n",
       "<span style=\"color: #808000; text-decoration-color: #808000; font-weight: bold\">   </span>là 4cm. Hãy tính chu vi và diện tích của logo này.                                                              \n",
       "\n",
       "      <span style=\"font-weight: bold\">Hoạt động 3: Tìm tâm và bán kính của đường tròn ngoại tiếp tam giác trong thiết kế kiến trúc (25 phút)</span>       \n",
       "\n",
       "<span style=\"color: #808000; text-decoration-color: #808000; font-weight: bold\"> • </span><span style=\"font-weight: bold\">Loại hình tổ chức:</span> Bài toán thực tế                                                                             \n",
       "<span style=\"color: #808000; text-decoration-color: #808000; font-weight: bold\"> • </span><span style=\"font-weight: bold\">Mô tả chi tiết:</span> Một kiến trúc sư đang thiết kế một công trình xây dựng và cần tìm tâm và bán kính của đường tròn\n",
       "<span style=\"color: #808000; text-decoration-color: #808000; font-weight: bold\">   </span>ngoại tiếp một tam giác có các cạnh là 6m, 8m và 10m. Hãy giúp kiến trúc sư tìm tâm và bán kính của đường tròn  \n",
       "<span style=\"color: #808000; text-decoration-color: #808000; font-weight: bold\">   </span>đó.                                                                                                             \n",
       "\n",
       "                   <span style=\"font-weight: bold\">Hoạt động 4: Tính toán đường tròn ngoại tiếp và đường tròn nội tiếp (30 phút)</span>                   \n",
       "\n",
       "<span style=\"color: #808000; text-decoration-color: #808000; font-weight: bold\"> • </span><span style=\"font-weight: bold\">Loại hình tổ chức:</span> Bài toán tổng hợp về đường tròn ngoại tiếp và đường tròn nội tiếp                            \n",
       "<span style=\"color: #808000; text-decoration-color: #808000; font-weight: bold\"> • </span><span style=\"font-weight: bold\">Mô tả chi tiết:</span> Một công ty sản xuất bánh xe đạp cần tính toán đường tròn ngoại tiếp và đường tròn nội tiếp của \n",
       "<span style=\"color: #808000; text-decoration-color: #808000; font-weight: bold\">   </span>bánh xe để sản xuất bánh xe đạt tiêu chuẩn. Cho hình tròn có chu vi là 16π cm. Xác định bán kính và diện tích   \n",
       "<span style=\"color: #808000; text-decoration-color: #808000; font-weight: bold\">   </span>của hình tròn.                                                                                                  \n",
       "\n",
       "\n",
       "                                              <span style=\"font-weight: bold; text-decoration: underline\">IV. ĐÁNH GIÁ VÀ CỦNG CỐ</span>                                              \n",
       "\n",
       "\n",
       "                                            <span style=\"font-weight: bold; text-decoration: underline\">V. TÀI NGUYÊN &amp; PHƯƠNG TIỆN</span>                                            \n",
       "\n",
       "<span style=\"color: #808000; text-decoration-color: #808000; font-weight: bold\"> • </span><span style=\"font-weight: bold\">Nguồn:</span> Sách giáo khoa Toán 9 (từ RAG)                                                                           \n",
       "<span style=\"color: #808000; text-decoration-color: #808000; font-weight: bold\"> • </span><span style=\"font-weight: bold\">Tóm tắt kiến thức cốt lõi:</span> Here is a summary of the key concepts, definitions, and formulas related to \"Tangent \n",
       "<span style=\"color: #808000; text-decoration-color: #808000; font-weight: bold\">   </span>and Secant Lines\" from the provided text:                                                                       \n",
       "\n",
       "<span style=\"font-weight: bold\">Definitions:</span>                                                                                                       \n",
       "\n",
       "<span style=\"color: #808000; text-decoration-color: #808000; font-weight: bold\"> • </span>Two lines are said to <span style=\"font-weight: bold\">intersect</span> if they have exactly two common points.                                         \n",
       "<span style=\"color: #808000; text-decoration-color: #808000; font-weight: bold\"> • </span>Two lines are said to <span style=\"font-weight: bold\">touch</span> or <span style=\"font-weight: bold\">be tangent</span> if they have exactly one common point, called the <span style=\"font-weight: bold\">point of tangency</span>.  \n",
       "<span style=\"color: #808000; text-decoration-color: #808000; font-weight: bold\"> • </span>Two lines are said to <span style=\"font-weight: bold\">not intersect</span> if they have no common points.                                              \n",
       "\n",
       "<span style=\"font-weight: bold\">Theorems:</span>                                                                                                          \n",
       "\n",
       "<span style=\"color: #808000; text-decoration-color: #808000; font-weight: bold\"> • </span>If a line intersects a circle, then the distance from the center of the circle to the line is less than the     \n",
       "<span style=\"color: #808000; text-decoration-color: #808000; font-weight: bold\">   </span>radius of the circle.                                                                                           \n",
       "<span style=\"color: #808000; text-decoration-color: #808000; font-weight: bold\"> • </span>If a line touches a circle, then the distance from the center of the circle to the line is equal to the radius  \n",
       "<span style=\"color: #808000; text-decoration-color: #808000; font-weight: bold\">   </span>of the circle.                                                                                                  \n",
       "<span style=\"color: #808000; text-decoration-color: #808000; font-weight: bold\"> • </span>If a line does not intersect a circle, then the distance from the center of the circle to the line is greater   \n",
       "<span style=\"color: #808000; text-decoration-color: #808000; font-weight: bold\">   </span>than the radius of the circle.                                                                                  \n",
       "\n",
       "<span style=\"font-weight: bold\">Tangent Line Theorem:</span>                                                                                              \n",
       "\n",
       "<span style=\"color: #808000; text-decoration-color: #808000; font-weight: bold\"> • </span>If a line passes through a point on a circle and is perpendicular to the radius passing through that point, then\n",
       "<span style=\"color: #808000; text-decoration-color: #808000; font-weight: bold\">   </span>the line is a tangent line to the circle.                                                                       \n",
       "\n",
       "<span style=\"font-weight: bold\">Key Concepts:</span>                                                                                                      \n",
       "\n",
       "<span style=\"color: #808000; text-decoration-color: #808000; font-weight: bold\"> • </span>Position of a line relative to a circle: intersecting, touching, or not intersecting.                           \n",
       "<span style=\"color: #808000; text-decoration-color: #808000; font-weight: bold\"> • </span>Distance from the center of a circle to a line.                                                                 \n",
       "<span style=\"color: #808000; text-decoration-color: #808000; font-weight: bold\"> • </span>Tangent line to a circle.                                                                                       \n",
       "\n",
       "<span style=\"font-weight: bold\">Formulas:</span>                                                                                                          \n",
       "\n",
       "<span style=\"color: #808000; text-decoration-color: #808000; font-weight: bold\"> • </span>None mentioned in the provided text.                                                                            \n",
       "\n",
       "Note that the text also mentions other topics, such as quadratic equations and linear equations, but they are not  \n",
       "directly related to the topic of tangent and secant lines.                                                         \n",
       "</pre>\n"
      ],
      "text/plain": [
       "┏━━━━━━━━━━━━━━━━━━━━━━━━━━━━━━━━━━━━━━━━━━━━━━━━━━━━━━━━━━━━━━━━━━━━━━━━━━━━━━━━━━━━━━━━━━━━━━━━━━━━━━━━━━━━━━━━━┓\n",
       "┃                              \u001b[1mGIÁO ÁN: Đường tròn ngoại tiếp và đường tròn nội tiếp\u001b[0m                              ┃\n",
       "┗━━━━━━━━━━━━━━━━━━━━━━━━━━━━━━━━━━━━━━━━━━━━━━━━━━━━━━━━━━━━━━━━━━━━━━━━━━━━━━━━━━━━━━━━━━━━━━━━━━━━━━━━━━━━━━━━━┛\n",
       "\n",
       "\n",
       "                                                \u001b[1;4mI. THÔNG TIN CHUNG\u001b[0m                                                 \n",
       "\n",
       "\u001b[1;33m • \u001b[0m\u001b[1mMôn học:\u001b[0m Toán                                                                                                   \n",
       "\u001b[1;33m • \u001b[0m\u001b[1mLớp:\u001b[0m 9                                                                                                          \n",
       "\u001b[1;33m • \u001b[0m\u001b[1mThời lượng dự kiến:\u001b[0m 90 phút                                                                                     \n",
       "\n",
       "\n",
       "                                               \u001b[1;4mII. MỤC TIÊU BÀI HỌC\u001b[0m                                                \n",
       "\n",
       "\u001b[1;33m • \u001b[0mHọc sinh có thể vận dụng được các tỉ số lượng giác để giải các bài toán thực tế.                                \n",
       "\u001b[1;33m • \u001b[0mRèn luyện kỹ năng mô hình hóa toán học và giải quyết vấn đề.                                                    \n",
       "\n",
       "\n",
       "                                              \u001b[1;4mIII. TIẾN TRÌNH DẠY HỌC\u001b[0m                                              \n",
       "\n",
       "                    \u001b[1mHoạt động 1: Ôn tập đường tròn ngoại tiếp và đường tròn nội tiếp (15 phút)\u001b[0m                     \n",
       "\n",
       "\u001b[1;33m • \u001b[0m\u001b[1mLoại hình tổ chức:\u001b[0m Trắc nghiệm nhanh                                                                            \n",
       "\u001b[1;33m • \u001b[0m\u001b[1mMô tả chi tiết:\u001b[0m Hoàn thành các câu hỏi trắc nghiệm nhanh để ôn tập lại các công thức và định nghĩa về đường tròn\n",
       "\u001b[1;33m   \u001b[0mngoại tiếp và đường tròn nội tiếp.                                                                              \n",
       "\n",
       "                \u001b[1mHoạt động 2: Tính chu vi và diện tích của đường tròn trong thiết kế logo (20 phút)\u001b[0m                 \n",
       "\n",
       "\u001b[1;33m • \u001b[0m\u001b[1mLoại hình tổ chức:\u001b[0m Bài toán tính chu vi và diện tích của đường tròn                                             \n",
       "\u001b[1;33m • \u001b[0m\u001b[1mMô tả chi tiết:\u001b[0m Công ty thiết kế logo cần tạo một logo hình tròn cho một công ty mới. Họ muốn logo có bán kính  \n",
       "\u001b[1;33m   \u001b[0mlà 4cm. Hãy tính chu vi và diện tích của logo này.                                                              \n",
       "\n",
       "      \u001b[1mHoạt động 3: Tìm tâm và bán kính của đường tròn ngoại tiếp tam giác trong thiết kế kiến trúc (25 phút)\u001b[0m       \n",
       "\n",
       "\u001b[1;33m • \u001b[0m\u001b[1mLoại hình tổ chức:\u001b[0m Bài toán thực tế                                                                             \n",
       "\u001b[1;33m • \u001b[0m\u001b[1mMô tả chi tiết:\u001b[0m Một kiến trúc sư đang thiết kế một công trình xây dựng và cần tìm tâm và bán kính của đường tròn\n",
       "\u001b[1;33m   \u001b[0mngoại tiếp một tam giác có các cạnh là 6m, 8m và 10m. Hãy giúp kiến trúc sư tìm tâm và bán kính của đường tròn  \n",
       "\u001b[1;33m   \u001b[0mđó.                                                                                                             \n",
       "\n",
       "                   \u001b[1mHoạt động 4: Tính toán đường tròn ngoại tiếp và đường tròn nội tiếp (30 phút)\u001b[0m                   \n",
       "\n",
       "\u001b[1;33m • \u001b[0m\u001b[1mLoại hình tổ chức:\u001b[0m Bài toán tổng hợp về đường tròn ngoại tiếp và đường tròn nội tiếp                            \n",
       "\u001b[1;33m • \u001b[0m\u001b[1mMô tả chi tiết:\u001b[0m Một công ty sản xuất bánh xe đạp cần tính toán đường tròn ngoại tiếp và đường tròn nội tiếp của \n",
       "\u001b[1;33m   \u001b[0mbánh xe để sản xuất bánh xe đạt tiêu chuẩn. Cho hình tròn có chu vi là 16π cm. Xác định bán kính và diện tích   \n",
       "\u001b[1;33m   \u001b[0mcủa hình tròn.                                                                                                  \n",
       "\n",
       "\n",
       "                                              \u001b[1;4mIV. ĐÁNH GIÁ VÀ CỦNG CỐ\u001b[0m                                              \n",
       "\n",
       "\n",
       "                                            \u001b[1;4mV. TÀI NGUYÊN & PHƯƠNG TIỆN\u001b[0m                                            \n",
       "\n",
       "\u001b[1;33m • \u001b[0m\u001b[1mNguồn:\u001b[0m Sách giáo khoa Toán 9 (từ RAG)                                                                           \n",
       "\u001b[1;33m • \u001b[0m\u001b[1mTóm tắt kiến thức cốt lõi:\u001b[0m Here is a summary of the key concepts, definitions, and formulas related to \"Tangent \n",
       "\u001b[1;33m   \u001b[0mand Secant Lines\" from the provided text:                                                                       \n",
       "\n",
       "\u001b[1mDefinitions:\u001b[0m                                                                                                       \n",
       "\n",
       "\u001b[1;33m • \u001b[0mTwo lines are said to \u001b[1mintersect\u001b[0m if they have exactly two common points.                                         \n",
       "\u001b[1;33m • \u001b[0mTwo lines are said to \u001b[1mtouch\u001b[0m or \u001b[1mbe tangent\u001b[0m if they have exactly one common point, called the \u001b[1mpoint of tangency\u001b[0m.  \n",
       "\u001b[1;33m • \u001b[0mTwo lines are said to \u001b[1mnot intersect\u001b[0m if they have no common points.                                              \n",
       "\n",
       "\u001b[1mTheorems:\u001b[0m                                                                                                          \n",
       "\n",
       "\u001b[1;33m • \u001b[0mIf a line intersects a circle, then the distance from the center of the circle to the line is less than the     \n",
       "\u001b[1;33m   \u001b[0mradius of the circle.                                                                                           \n",
       "\u001b[1;33m • \u001b[0mIf a line touches a circle, then the distance from the center of the circle to the line is equal to the radius  \n",
       "\u001b[1;33m   \u001b[0mof the circle.                                                                                                  \n",
       "\u001b[1;33m • \u001b[0mIf a line does not intersect a circle, then the distance from the center of the circle to the line is greater   \n",
       "\u001b[1;33m   \u001b[0mthan the radius of the circle.                                                                                  \n",
       "\n",
       "\u001b[1mTangent Line Theorem:\u001b[0m                                                                                              \n",
       "\n",
       "\u001b[1;33m • \u001b[0mIf a line passes through a point on a circle and is perpendicular to the radius passing through that point, then\n",
       "\u001b[1;33m   \u001b[0mthe line is a tangent line to the circle.                                                                       \n",
       "\n",
       "\u001b[1mKey Concepts:\u001b[0m                                                                                                      \n",
       "\n",
       "\u001b[1;33m • \u001b[0mPosition of a line relative to a circle: intersecting, touching, or not intersecting.                           \n",
       "\u001b[1;33m • \u001b[0mDistance from the center of a circle to a line.                                                                 \n",
       "\u001b[1;33m • \u001b[0mTangent line to a circle.                                                                                       \n",
       "\n",
       "\u001b[1mFormulas:\u001b[0m                                                                                                          \n",
       "\n",
       "\u001b[1;33m • \u001b[0mNone mentioned in the provided text.                                                                            \n",
       "\n",
       "Note that the text also mentions other topics, such as quadratic equations and linear equations, but they are not  \n",
       "directly related to the topic of tangent and secant lines.                                                         \n"
      ]
     },
     "metadata": {},
     "output_type": "display_data"
    }
   ],
   "source": [
    "# ==============================================================================\n",
    "# CELL 5: CHẠY THỬ NGHIỆM VỚI GRAPH V3.0\n",
    "# ==============================================================================\n",
    "\n",
    "async def run_graph_v3(user_request: str):\n",
    "    initial_state = {\n",
    "        \"messages\": [HumanMessage(content=user_request)],\n",
    "        \"agent_outputs\": {},\n",
    "    }\n",
    "    console.print(f\"\\n[bold magenta]🚀 BẮT ĐẦU QUY TRÌNH V3.0 VỚI YÊU CẦU:[/bold magenta]\\n> {user_request}\")\n",
    "    config = {\"recursion_limit\": 100} # Tăng giới hạn đệ quy để cho phép vòng lặp\n",
    "    \n",
    "    final_state_result = None\n",
    "    async for event in app.astream(initial_state, config=config):\n",
    "        for node_name, node_output in event.items():\n",
    "            console.print(f\"\\n[bold yellow]------- Hoàn thành bước: {node_name} -------[/bold yellow]\")\n",
    "            final_state_result = node_output\n",
    "\n",
    "    console.print(\"\\n[bold magenta]🏁 KẾT THÚC QUY TRÌNH V3.0.[/bold magenta]\")\n",
    "    if final_state_result and final_state_result.get(\"final_lesson_plan\"):\n",
    "        console.print(\"\\n[bold green]📝 GIÁO ÁN HOÀN CHỈNH (SAU KHI ĐÃ TỰ SỬA LỖI)[/bold green]\")\n",
    "        console.print(Markdown(final_state_result[\"final_lesson_plan\"]))\n",
    "    else:\n",
    "        print_warning(\"Không tạo được giáo án cuối cùng. Có thể quy trình đã dừng lại do lỗi không thể khắc phục.\")\n",
    "\n",
    "# Yêu cầu cũ, nhưng kỳ vọng vào kết quả mới, tốt hơn\n",
    "request_v3_test = \"Soạn giúp tôi giáo án bài 'Đường tròn ngoại tiếp và đường tròn nội tiếp' cho học sinh lớp 9. Mục tiêu là các em có thể vận dụng được góc nội tiếp và cung bị chắn để giải các bài toán trong phần luyện tập. Buổi học sẽ diễn ra trong 2 tiết, tổng cộng 90 phút.\"\n",
    "\n",
    "# Bật log chi tiết để theo dõi quá trình\n",
    "VERBOSE_MODE = True \n",
    "\n",
    "# Chạy thử\n",
    "await run_graph_v3(request_v3_test)"
   ]
  },
  {
   "cell_type": "code",
   "execution_count": null,
   "id": "95d51474",
   "metadata": {},
   "outputs": [],
   "source": []
  },
  {
   "cell_type": "code",
   "execution_count": null,
   "id": "43d2f2ed",
   "metadata": {},
   "outputs": [],
   "source": []
  },
  {
   "cell_type": "code",
   "execution_count": null,
   "id": "c9819a55",
   "metadata": {},
   "outputs": [],
   "source": []
  }
 ],
 "metadata": {
  "kernelspec": {
   "display_name": "plan_venv",
   "language": "python",
   "name": "python3"
  },
  "language_info": {
   "codemirror_mode": {
    "name": "ipython",
    "version": 3
   },
   "file_extension": ".py",
   "mimetype": "text/x-python",
   "name": "python",
   "nbconvert_exporter": "python",
   "pygments_lexer": "ipython3",
   "version": "3.11.8"
  }
 },
 "nbformat": 4,
 "nbformat_minor": 5
}
